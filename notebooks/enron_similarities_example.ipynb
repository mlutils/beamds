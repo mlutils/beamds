{
 "cells": [
  {
   "cell_type": "code",
   "execution_count": 1,
   "id": "8f89f334-af6d-4569-8dc2-3316b52a090d",
   "metadata": {},
   "outputs": [
    {
     "name": "stdout",
     "output_type": "stream",
     "text": [
      "Setting up the Beam environment for interactive use\n",
      "Standard modules will be automatically imported so you can use them without explicit import\n",
      "Done importing packages. It took:  3.6 seconds\n",
      "Beam library is loaded from path: /home/elad/docker/beamds/src/beam\n",
      "The Beam version is: 2.5.2b\n"
     ]
    }
   ],
   "source": [
    "%load_ext beam_setup"
   ]
  },
  {
   "cell_type": "code",
   "execution_count": 2,
   "id": "35513c88-59d5-45f4-9b4d-85fe96d18e1a",
   "metadata": {},
   "outputs": [],
   "source": [
    "from examples.enron_similarity import TicketSimilarityConfig, TicketSimilarity\n",
    "from beam import Timer"
   ]
  },
  {
   "cell_type": "code",
   "execution_count": 3,
   "id": "9aa5c6a5-147f-4893-8954-850cb6383a1a",
   "metadata": {},
   "outputs": [],
   "source": [
    "hparams = TicketSimilarityConfig(model_state_path='/home/shared/data/results/enron/models/model_state_e5_base')"
   ]
  },
  {
   "cell_type": "code",
   "execution_count": 4,
   "id": "c2489bfe-e005-4e52-a6aa-dd9ffe2931ad",
   "metadata": {},
   "outputs": [],
   "source": [
    "alg = TicketSimilarity(hparams)"
   ]
  },
  {
   "cell_type": "code",
   "execution_count": 6,
   "id": "e7b44a36-3098-4614-b9ac-cdb7b9905894",
   "metadata": {},
   "outputs": [
    {
     "name": "stdout",
     "output_type": "stream",
     "text": [
      "\u001b[32m2024-05-21 07:51:51\u001b[0m | BeamLog | \u001b[1mINFO\u001b[0m | \u001b[1mStarting timer: \u001b[0m\n",
      "\u001b[32m2024-05-21 07:52:23\u001b[0m | BeamLog | \u001b[1mINFO\u001b[0m | \u001b[1mTimer  paused. Elapsed time: 32.023     Sec\u001b[0m\n"
     ]
    }
   ],
   "source": [
    "with Timer():\n",
    "    alg.load_state(hparams.get('model-state-path'))"
   ]
  },
  {
   "cell_type": "code",
   "execution_count": 7,
   "id": "006155bb-b533-4153-8a4f-aba04badb0a2",
   "metadata": {},
   "outputs": [
    {
     "name": "stdout",
     "output_type": "stream",
     "text": [
      "\u001b[32m2024-05-21 07:52:33\u001b[0m | BeamLog | \u001b[1mINFO\u001b[0m | \u001b[1mStarting timer: evaluate end-to-end classifier\u001b[0m\n",
      "\u001b[32m2024-05-21 07:52:34\u001b[0m | BeamLog | \u001b[1mINFO\u001b[0m | \u001b[1mStarting transformer process: self\u001b[0m\n",
      "\u001b[32m2024-05-21 07:52:34\u001b[0m | BeamLog | \u001b[1mINFO\u001b[0m | \u001b[1mSplitting data to chunks for transformer: self\u001b[0m\n",
      "\u001b[32m2024-05-21 07:52:34\u001b[0m | BeamLog | \u001b[1mINFO\u001b[0m | \u001b[1mStarting transformer: self with 40 workers. Number of queued tasks is 1.\u001b[0m\n",
      "\u001b[32m2024-05-21 07:52:34\u001b[0m | BeamLog | \u001b[1mINFO\u001b[0m | \u001b[1mStarting task: 0 (self)\u001b[0m\n"
     ]
    },
    {
     "name": "stderr",
     "output_type": "stream",
     "text": [
      "Token indices sequence length is longer than the specified maximum sequence length for this model (528 > 512). Running this sequence through the model will result in indexing errors\n"
     ]
    },
    {
     "name": "stdout",
     "output_type": "stream",
     "text": [
      "\u001b[32m2024-05-21 07:52:37\u001b[0m | BeamLog | \u001b[1mINFO\u001b[0m | \u001b[1mFinished task: 0 (self). Elapsed time: 3.141472339630127\u001b[0m\n",
      "\u001b[32m2024-05-21 07:52:37\u001b[0m | BeamLog | \u001b[1mINFO\u001b[0m | \u001b[1mRunning queue (length=1) on the main thread: self with 1 worker\u001b[0m\n",
      "\u001b[32m2024-05-21 07:52:37\u001b[0m | BeamLog | \u001b[1mINFO\u001b[0m | \u001b[1mFinish running queue: self.\u001b[0m\n",
      "\u001b[32m2024-05-21 07:52:37\u001b[0m | BeamLog | \u001b[1mINFO\u001b[0m | \u001b[1mFinished transformer process: self. Collating results...\u001b[0m\n"
     ]
    },
    {
     "data": {
      "application/vnd.jupyter.widget-view+json": {
       "model_id": "0b7079dec6dc488385475ea797e1d957",
       "version_major": 2,
       "version_minor": 0
      },
      "text/plain": [
       "Batches:   0%|          | 0/106 [00:00<?, ?it/s]"
      ]
     },
     "metadata": {},
     "output_type": "display_data"
    },
    {
     "name": "stdout",
     "output_type": "stream",
     "text": [
      "\u001b[32m2024-05-21 07:53:36\u001b[0m | BeamLog | \u001b[1mINFO\u001b[0m | \u001b[1mStarting transformer process: self\u001b[0m\n",
      "\u001b[32m2024-05-21 07:53:36\u001b[0m | BeamLog | \u001b[1mINFO\u001b[0m | \u001b[1mSplitting data to chunks for transformer: self\u001b[0m\n",
      "\u001b[32m2024-05-21 07:53:36\u001b[0m | BeamLog | \u001b[1mINFO\u001b[0m | \u001b[1mStarting transformer: self with 40 workers. Number of queued tasks is 1.\u001b[0m\n",
      "\u001b[32m2024-05-21 07:53:36\u001b[0m | BeamLog | \u001b[1mINFO\u001b[0m | \u001b[1mStarting task: 0 (self)\u001b[0m\n",
      "\u001b[32m2024-05-21 07:53:40\u001b[0m | BeamLog | \u001b[1mINFO\u001b[0m | \u001b[1mFinished task: 0 (self). Elapsed time: 3.3022255897521973\u001b[0m\n",
      "\u001b[32m2024-05-21 07:53:40\u001b[0m | BeamLog | \u001b[1mINFO\u001b[0m | \u001b[1mRunning queue (length=1) on the main thread: self with 1 worker\u001b[0m\n",
      "\u001b[32m2024-05-21 07:53:40\u001b[0m | BeamLog | \u001b[1mINFO\u001b[0m | \u001b[1mFinish running queue: self.\u001b[0m\n",
      "\u001b[32m2024-05-21 07:53:40\u001b[0m | BeamLog | \u001b[1mINFO\u001b[0m | \u001b[1mFinished transformer process: self. Collating results...\u001b[0m\n"
     ]
    },
    {
     "data": {
      "application/vnd.jupyter.widget-view+json": {
       "model_id": "8cf2f1f75e66403db4893da05b5b8860",
       "version_major": 2,
       "version_minor": 0
      },
      "text/plain": [
       "Batches:   0%|          | 0/106 [00:00<?, ?it/s]"
      ]
     },
     "metadata": {},
     "output_type": "display_data"
    },
    {
     "name": "stdout",
     "output_type": "stream",
     "text": [
      "Building estimator 1 of 20 for this parallel run (total 20)...\n",
      "Building estimator 2 of 20 for this parallel run (total 20)...\n",
      "Building estimator 3 of 20 for this parallel run (total 20)...\n",
      "Building estimator 4 of 20 for this parallel run (total 20)...\n",
      "Building estimator 5 of 20 for this parallel run (total 20)...\n",
      "Building estimator 6 of 20 for this parallel run (total 20)...\n",
      "Building estimator 7 of 20 for this parallel run (total 20)...\n",
      "Building estimator 8 of 20 for this parallel run (total 20)...\n",
      "Building estimator 9 of 20 for this parallel run (total 20)...\n",
      "Building estimator 10 of 20 for this parallel run (total 20)...\n",
      "Building estimator 11 of 20 for this parallel run (total 20)...\n",
      "Building estimator 12 of 20 for this parallel run (total 20)...\n",
      "Building estimator 13 of 20 for this parallel run (total 20)...\n",
      "Building estimator 14 of 20 for this parallel run (total 20)...\n",
      "Building estimator 15 of 20 for this parallel run (total 20)...\n",
      "Building estimator 16 of 20 for this parallel run (total 20)...\n",
      "Building estimator 17 of 20 for this parallel run (total 20)...\n",
      "Building estimator 18 of 20 for this parallel run (total 20)...\n",
      "Building estimator 19 of 20 for this parallel run (total 20)...\n",
      "Building estimator 20 of 20 for this parallel run (total 20)...\n"
     ]
    },
    {
     "name": "stderr",
     "output_type": "stream",
     "text": [
      "[Parallel(n_jobs=1)]: Done   1 tasks      | elapsed:  1.3min\n",
      "[Parallel(n_jobs=1)]: Done   1 tasks      | elapsed:  1.3min\n",
      "[Parallel(n_jobs=1)]: Done   1 tasks      | elapsed:    0.2s\n",
      "[Parallel(n_jobs=1)]: Done   1 tasks      | elapsed:    0.2s\n"
     ]
    },
    {
     "name": "stdout",
     "output_type": "stream",
     "text": [
      "\u001b[32m2024-05-21 07:55:51\u001b[0m | BeamLog | \u001b[1mINFO\u001b[0m | \u001b[1mTimer evaluate end-to-end classifier paused. Elapsed time: 198.2300   Sec\u001b[0m\n"
     ]
    },
    {
     "name": "stderr",
     "output_type": "stream",
     "text": [
      "[Parallel(n_jobs=1)]: Done   1 tasks      | elapsed:    0.2s\n",
      "[Parallel(n_jobs=1)]: Done   1 tasks      | elapsed:    0.2s\n"
     ]
    }
   ],
   "source": [
    "with Timer(name='evaluate end-to-end classifier'):\n",
    "    results = alg.evaluate(36, k_dense=10, k_sparse=10, threshold=0.8)"
   ]
  },
  {
   "cell_type": "code",
   "execution_count": 8,
   "id": "7fbf0556-0370-4c9f-9c1f-edd0b7a139d5",
   "metadata": {},
   "outputs": [
    {
     "data": {
      "text/plain": [
       "{'metrics': defaultdict(dict,\n",
       "             {'train': {'original_pool': 74662,\n",
       "               'prevalence_count': 518,\n",
       "               'prevalence': 0.006937933620851303,\n",
       "               'expansion_recall_count': 424,\n",
       "               'expansion_recall': 0.8185328185328186,\n",
       "               'expansion_pool': 14150,\n",
       "               'expansion_precision': 0.029964664310954063,\n",
       "               'final_recall_count': 0,\n",
       "               'final_recall': 0.0,\n",
       "               'final_pool': 1,\n",
       "               'final_precision': 0.0},\n",
       "              'test': {'original_pool': 74556,\n",
       "               'prevalence_count': 490,\n",
       "               'prevalence': 0.006572241000053651,\n",
       "               'expansion_recall_count': 314,\n",
       "               'expansion_recall': 0.6408163265306123,\n",
       "               'expansion_pool': 13345,\n",
       "               'expansion_precision': 0.023529411764705882,\n",
       "               'final_recall_count': 21,\n",
       "               'final_recall': 0.04285714285714286,\n",
       "               'final_pool': 74,\n",
       "               'final_precision': 0.28378378378378377}}),\n",
       " 'datasets': {'x_train': array([[-0.06237062,  0.10019723,  0.05945479, ...,  0.32568807,\n",
       "           0.35714286,  0.20794393],\n",
       "         [-0.01404916,  0.00546648,  0.17345738, ..., -0.32568807,\n",
       "          -0.14285714, -0.29750779],\n",
       "         [ 0.03649975,  0.02756437, -0.17811513, ...,  0.09633028,\n",
       "           0.35714286, -0.05607477],\n",
       "         ...,\n",
       "         [-0.06823481,  0.17134222,  0.05749271, ...,  0.64678899,\n",
       "          -0.14285714,  0.91510903],\n",
       "         [ 0.02038339, -0.00311984,  0.02315484, ..., -0.26146789,\n",
       "          -0.42857143, -0.29672897],\n",
       "         [-0.14548361, -0.03726679,  0.02331454, ...,  1.06880734,\n",
       "           1.        ,  0.8652648 ]]),\n",
       "  'y_train': array([0, 0, 0, ..., 1, 1, 1]),\n",
       "  'ind_train': array([     0,      3,      6, ..., 101793, 101862, 101867]),\n",
       "  'y_train_true': array([   43,  5745,  7334, ...,  7788, 10597,   663]),\n",
       "  'x_test': array([[-0.11564146, -0.05534953,  0.07585725, ...,  0.21559633,\n",
       "           0.57142857,  0.35124611],\n",
       "         [-0.05857591,  0.0073063 , -0.06663469, ...,  0.67431193,\n",
       "           0.5       ,  0.55996885],\n",
       "         [ 0.24948907,  0.01209423, -0.03219983, ..., -0.52752294,\n",
       "          -0.5       , -0.52959502],\n",
       "         ...,\n",
       "         [ 0.08512136,  0.04545721,  0.13382046, ..., -0.41743119,\n",
       "          -0.35714286, -0.43068536],\n",
       "         [-0.11158434,  0.07311782,  0.08163555, ...,  1.32568807,\n",
       "           1.92857143,  1.39174455],\n",
       "         [ 0.17393702, -0.06098688, -0.07227883, ..., -0.49541284,\n",
       "          -0.42857143, -0.49844237]]),\n",
       "  'y_test': array([0, 0, 0, ..., 0, 0, 0]),\n",
       "  'ind_test': array([    6,     9,    14, ..., 74545, 74550, 74553]),\n",
       "  'y_test_true': array([10543,  6237,  1635, ...,  3975, 11035,    52])},\n",
       " 'y_pred': {'train': array([0.2   , 0.1375, 0.05  , ..., 0.05  , 0.125 , 0.1   ]),\n",
       "  'test': array([0.05      , 0.075     , 0.01666667, ..., 0.29166667, 0.35      ,\n",
       "         0.1       ])}}"
      ]
     },
     "execution_count": 8,
     "metadata": {},
     "output_type": "execute_result"
    }
   ],
   "source": [
    "results"
   ]
  }
 ],
 "metadata": {
  "kernelspec": {
   "display_name": "Python 3 (ipykernel)",
   "language": "python",
   "name": "python3"
  },
  "language_info": {
   "codemirror_mode": {
    "name": "ipython",
    "version": 3
   },
   "file_extension": ".py",
   "mimetype": "text/x-python",
   "name": "python",
   "nbconvert_exporter": "python",
   "pygments_lexer": "ipython3",
   "version": "3.10.12"
  }
 },
 "nbformat": 4,
 "nbformat_minor": 5
}
