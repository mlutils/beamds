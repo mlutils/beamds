{
 "cells": [
  {
   "cell_type": "code",
   "execution_count": 1,
   "id": "05b81315-cd60-45e6-947c-ccbad26a8327",
   "metadata": {},
   "outputs": [
    {
     "name": "stdout",
     "output_type": "stream",
     "text": [
      "Setting up the Beam environment for interactive use\n",
      "Standard modules will be automatically imported so you can use them without explicit import\n",
      "Done importing packages. It took:  3.2 seconds\n",
      "Beam library is loaded from path: /home/elad/docker/beamds/src/beam\n",
      "The Beam version is: 2.3.7\n"
     ]
    }
   ],
   "source": [
    "%load_ext beam_setup"
   ]
  },
  {
   "cell_type": "code",
   "execution_count": 2,
   "id": "73fc3d34-b44b-4e47-ae1c-2c2b1355c175",
   "metadata": {},
   "outputs": [],
   "source": [
    "import yfinance as yf\n",
    "\n",
    "msft = yf.Ticker(\"MSFT\")\n",
    "\n",
    "# get all stock info\n",
    "msft.info\n",
    "\n",
    "# get historical market data\n",
    "hist = msft.history(period=\"1mo\")"
   ]
  },
  {
   "cell_type": "code",
   "execution_count": 3,
   "id": "28ce73e7-332f-4152-a7ab-c3a7c94713d9",
   "metadata": {},
   "outputs": [],
   "source": [
    "def ticker_history(ticker, period):\n",
    "    \"\"\"\n",
    "    Get historical stock market data\n",
    "    \"\"\"\n",
    "    ticker = yf.Ticker(ticker.upper())\n",
    "    return ticker.history(period=period)"
   ]
  },
  {
   "cell_type": "code",
   "execution_count": 4,
   "id": "f16ccf3a-f6d1-4aa6-a2e8-5692f233c220",
   "metadata": {},
   "outputs": [
    {
     "name": "stderr",
     "output_type": "stream",
     "text": [
      "UserWarning: A newer version of deeplake (3.8.11) is available. It's recommended that you update to the latest version using `pip install -U deeplake`.\n"
     ]
    }
   ],
   "source": [
    "from beam.llm import LLMTool, LLMToolProperty"
   ]
  },
  {
   "cell_type": "code",
   "execution_count": 5,
   "id": "489ccc14-8530-4c70-9177-85adbeafb8f9",
   "metadata": {},
   "outputs": [],
   "source": [
    "ticker = LLMToolProperty('ticker', 'str', 'The ticker of the stock (should be upper cased)', required=True)\n",
    "period = LLMToolProperty('period', 'str', 'The historical period to get data for, in the form [1mo, 2mo, 10d, 2y, etc..]', required=True)"
   ]
  },
  {
   "cell_type": "code",
   "execution_count": 6,
   "id": "331aff72-1be8-4579-ae09-c5699ff27aca",
   "metadata": {},
   "outputs": [],
   "source": [
    "tool = LLMTool(func=ticker_history, ticker=ticker, period=period)"
   ]
  },
  {
   "cell_type": "code",
   "execution_count": 7,
   "id": "386e453a-91cb-433d-8aae-aab8c8959dcb",
   "metadata": {},
   "outputs": [],
   "source": [
    "llm = resource('openai:///gpt-4')"
   ]
  },
  {
   "cell_type": "code",
   "execution_count": 8,
   "id": "ecd51e56-0b64-4690-b292-dfdcd7c87fd7",
   "metadata": {},
   "outputs": [],
   "source": [
    "llm.add_tool(tool)"
   ]
  },
  {
   "cell_type": "code",
   "execution_count": 9,
   "id": "e60e57d2-e3c5-4e2d-b8c6-7f8c23c8cb05",
   "metadata": {},
   "outputs": [],
   "source": [
    "res = llm.ask('give me the last two month stock data of broadcom')"
   ]
  },
  {
   "cell_type": "code",
   "execution_count": 13,
   "id": "a89c317c-720f-47f4-80ff-859cb3de9dea",
   "metadata": {},
   "outputs": [
    {
     "data": {
      "text/html": [
       "<div>\n",
       "<style scoped>\n",
       "    .dataframe tbody tr th:only-of-type {\n",
       "        vertical-align: middle;\n",
       "    }\n",
       "\n",
       "    .dataframe tbody tr th {\n",
       "        vertical-align: top;\n",
       "    }\n",
       "\n",
       "    .dataframe thead th {\n",
       "        text-align: right;\n",
       "    }\n",
       "</style>\n",
       "<table border=\"1\" class=\"dataframe\">\n",
       "  <thead>\n",
       "    <tr style=\"text-align: right;\">\n",
       "      <th></th>\n",
       "      <th>Open</th>\n",
       "      <th>High</th>\n",
       "      <th>Low</th>\n",
       "      <th>Close</th>\n",
       "      <th>Volume</th>\n",
       "      <th>Dividends</th>\n",
       "      <th>Stock Splits</th>\n",
       "    </tr>\n",
       "    <tr>\n",
       "      <th>Date</th>\n",
       "      <th></th>\n",
       "      <th></th>\n",
       "      <th></th>\n",
       "      <th></th>\n",
       "      <th></th>\n",
       "      <th></th>\n",
       "      <th></th>\n",
       "    </tr>\n",
       "  </thead>\n",
       "  <tbody>\n",
       "    <tr>\n",
       "      <th>2023-10-12 00:00:00-04:00</th>\n",
       "      <td>876.429993</td>\n",
       "      <td>917.929993</td>\n",
       "      <td>876.429993</td>\n",
       "      <td>905.599976</td>\n",
       "      <td>4387100</td>\n",
       "      <td>0.0</td>\n",
       "      <td>0.0</td>\n",
       "    </tr>\n",
       "    <tr>\n",
       "      <th>2023-10-13 00:00:00-04:00</th>\n",
       "      <td>909.000000</td>\n",
       "      <td>925.909973</td>\n",
       "      <td>882.090027</td>\n",
       "      <td>883.179993</td>\n",
       "      <td>2831200</td>\n",
       "      <td>0.0</td>\n",
       "      <td>0.0</td>\n",
       "    </tr>\n",
       "    <tr>\n",
       "      <th>2023-10-16 00:00:00-04:00</th>\n",
       "      <td>890.969971</td>\n",
       "      <td>915.789978</td>\n",
       "      <td>890.969971</td>\n",
       "      <td>902.570007</td>\n",
       "      <td>2115000</td>\n",
       "      <td>0.0</td>\n",
       "      <td>0.0</td>\n",
       "    </tr>\n",
       "    <tr>\n",
       "      <th>2023-10-17 00:00:00-04:00</th>\n",
       "      <td>885.150024</td>\n",
       "      <td>892.979980</td>\n",
       "      <td>866.000000</td>\n",
       "      <td>884.400024</td>\n",
       "      <td>3300800</td>\n",
       "      <td>0.0</td>\n",
       "      <td>0.0</td>\n",
       "    </tr>\n",
       "    <tr>\n",
       "      <th>2023-10-18 00:00:00-04:00</th>\n",
       "      <td>879.950012</td>\n",
       "      <td>895.630005</td>\n",
       "      <td>875.200012</td>\n",
       "      <td>887.030029</td>\n",
       "      <td>2040400</td>\n",
       "      <td>0.0</td>\n",
       "      <td>0.0</td>\n",
       "    </tr>\n",
       "  </tbody>\n",
       "</table>\n",
       "</div>"
      ],
      "text/plain": [
       "                                 Open        High         Low       Close  \\\n",
       "Date                                                                        \n",
       "2023-10-12 00:00:00-04:00  876.429993  917.929993  876.429993  905.599976   \n",
       "2023-10-13 00:00:00-04:00  909.000000  925.909973  882.090027  883.179993   \n",
       "2023-10-16 00:00:00-04:00  890.969971  915.789978  890.969971  902.570007   \n",
       "2023-10-17 00:00:00-04:00  885.150024  892.979980  866.000000  884.400024   \n",
       "2023-10-18 00:00:00-04:00  879.950012  895.630005  875.200012  887.030029   \n",
       "\n",
       "                            Volume  Dividends  Stock Splits  \n",
       "Date                                                         \n",
       "2023-10-12 00:00:00-04:00  4387100        0.0           0.0  \n",
       "2023-10-13 00:00:00-04:00  2831200        0.0           0.0  \n",
       "2023-10-16 00:00:00-04:00  2115000        0.0           0.0  \n",
       "2023-10-17 00:00:00-04:00  3300800        0.0           0.0  \n",
       "2023-10-18 00:00:00-04:00  2040400        0.0           0.0  "
      ]
     },
     "execution_count": 13,
     "metadata": {},
     "output_type": "execute_result"
    }
   ],
   "source": [
    "tool(res).response.head()"
   ]
  },
  {
   "cell_type": "code",
   "execution_count": 14,
   "id": "f80ba326-4334-4032-963f-d2b8ca835a5d",
   "metadata": {},
   "outputs": [],
   "source": [
    "from beam.llm import LLMTask"
   ]
  },
  {
   "cell_type": "code",
   "execution_count": 15,
   "id": "6ed6db75-5a92-4f5f-bce5-592f6e7268a4",
   "metadata": {},
   "outputs": [],
   "source": [
    "task = LLMTask('random_names_generator', system='you like names that start with R', \n",
    "               description='Generate a list of random names for babies', \n",
    "               input_kwargs={'num': 'number of names to generate', 'geneder': 'either boy or girl'}, output_kwargs={'res': 'a list of generated names'},\n",
    "               llm='openai:///gpt-4')"
   ]
  },
  {
   "cell_type": "code",
   "execution_count": 16,
   "id": "01f83f7a-f3cc-4f15-91a3-44f78f13cd4f",
   "metadata": {},
   "outputs": [
    {
     "data": {
      "text/plain": [
       "{'res': ['Robert', 'Richard', 'Ronald']}"
      ]
     },
     "execution_count": 16,
     "metadata": {},
     "output_type": "execute_result"
    }
   ],
   "source": [
    "task(num=3, gender='boy')"
   ]
  },
  {
   "cell_type": "code",
   "execution_count": 17,
   "id": "cad8056b-31f0-4e17-bad7-9c141f51d4b4",
   "metadata": {},
   "outputs": [
    {
     "data": {
      "text/plain": [
       "{'res': ['Rachel', 'Rebecca', 'Rosalie', 'Ruth']}"
      ]
     },
     "execution_count": 17,
     "metadata": {},
     "output_type": "execute_result"
    }
   ],
   "source": [
    "task(num=4, gender='girl')"
   ]
  }
 ],
 "metadata": {
  "kernelspec": {
   "display_name": "Python 3 (ipykernel)",
   "language": "python",
   "name": "python3"
  },
  "language_info": {
   "codemirror_mode": {
    "name": "ipython",
    "version": 3
   },
   "file_extension": ".py",
   "mimetype": "text/x-python",
   "name": "python",
   "nbconvert_exporter": "python",
   "pygments_lexer": "ipython3",
   "version": "3.10.6"
  }
 },
 "nbformat": 4,
 "nbformat_minor": 5
}
