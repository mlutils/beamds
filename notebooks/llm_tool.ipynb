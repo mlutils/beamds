{
 "cells": [
  {
   "cell_type": "code",
   "execution_count": 1,
   "id": "05b81315-cd60-45e6-947c-ccbad26a8327",
   "metadata": {},
   "outputs": [
    {
     "name": "stdout",
     "output_type": "stream",
     "text": [
      "Setting up the Beam environment for interactive use\n",
      "Standard modules will be automatically imported so you can use them without explicit import\n",
      "Done importing packages. It took:  3.3 seconds\n",
      "Beam library is loaded from path: /home/elad/docker/beamds/src/beam\n",
      "The Beam version is: 2.3.7\n"
     ]
    }
   ],
   "source": [
    "%load_ext beam_setup"
   ]
  },
  {
   "cell_type": "markdown",
   "id": "5e99189d-3221-4649-9b67-8dacf44d9431",
   "metadata": {},
   "source": [
    "# LLM Tools for function calling"
   ]
  },
  {
   "cell_type": "markdown",
   "id": "4cf554c9-627d-4a37-921c-9a91bb571e67",
   "metadata": {},
   "source": [
    "Lets start by defining a function with its description:"
   ]
  },
  {
   "cell_type": "code",
   "execution_count": 20,
   "id": "7c3d8e77-84d4-435d-b8c9-9b3bd2c59161",
   "metadata": {},
   "outputs": [],
   "source": [
    "import yfinance as yf\n",
    "\n",
    "msft = yf.Ticker(\"MSFT\")\n",
    "\n",
    "# get all stock info\n",
    "msft.info\n",
    "\n",
    "# get historical market data\n",
    "hist = msft.history(period=\"1mo\")\n",
    "\n",
    "def ticker_history(ticker, period):\n",
    "    \"\"\"\n",
    "    Get historical stock market data\n",
    "    \"\"\"\n",
    "    ticker = yf.Ticker(ticker.upper())\n",
    "    return ticker.history(period=period)"
   ]
  },
  {
   "cell_type": "markdown",
   "id": "233a6dcc-72de-4ef2-8546-ed32cf651b8a",
   "metadata": {},
   "source": [
    "define an LLMTool based on the given function"
   ]
  },
  {
   "cell_type": "code",
   "execution_count": 21,
   "id": "f16ccf3a-f6d1-4aa6-a2e8-5692f233c220",
   "metadata": {},
   "outputs": [],
   "source": [
    "from beam.llm import LLMTool, LLMToolProperty"
   ]
  },
  {
   "cell_type": "code",
   "execution_count": 22,
   "id": "489ccc14-8530-4c70-9177-85adbeafb8f9",
   "metadata": {},
   "outputs": [],
   "source": [
    "ticker = LLMToolProperty('ticker', 'str', 'The ticker of the stock (should be upper cased)', required=True)\n",
    "period = LLMToolProperty('period', 'str', 'The historical period to get data for, in the form [1mo, 2mo, 10d, 2y, etc..]', required=True)"
   ]
  },
  {
   "cell_type": "code",
   "execution_count": 23,
   "id": "331aff72-1be8-4579-ae09-c5699ff27aca",
   "metadata": {},
   "outputs": [],
   "source": [
    "tool = LLMTool(func=ticker_history, ticker=ticker, period=period)"
   ]
  },
  {
   "cell_type": "markdown",
   "id": "86a312f4-c599-4c5d-85cc-1193c94ae864",
   "metadata": {},
   "source": [
    "Lets access an llm resouce and add the tool for its tools list"
   ]
  },
  {
   "cell_type": "code",
   "execution_count": 24,
   "id": "386e453a-91cb-433d-8aae-aab8c8959dcb",
   "metadata": {},
   "outputs": [],
   "source": [
    "llm = resource('openai:///gpt-4')"
   ]
  },
  {
   "cell_type": "code",
   "execution_count": 25,
   "id": "ecd51e56-0b64-4690-b292-dfdcd7c87fd7",
   "metadata": {},
   "outputs": [],
   "source": [
    "llm.add_tool(tool)"
   ]
  },
  {
   "cell_type": "markdown",
   "id": "c01dcf8a-c1eb-4cce-87af-ed0ef1c562e3",
   "metadata": {},
   "source": [
    "ask a question"
   ]
  },
  {
   "cell_type": "code",
   "execution_count": 26,
   "id": "e60e57d2-e3c5-4e2d-b8c6-7f8c23c8cb05",
   "metadata": {},
   "outputs": [],
   "source": [
    "res = llm.ask('give me the last two month stock data of broadcom')"
   ]
  },
  {
   "cell_type": "code",
   "execution_count": 27,
   "id": "c017148a-3dfe-4efa-9aa3-f3b3745d9475",
   "metadata": {},
   "outputs": [
    {
     "data": {
      "text/plain": [
       "\" and ibm.\\n\\n    >>> from stock import Stock\\n    >>> s1 = Stock('BRCM')\\n    >>> s2 = Stock('IBM')\\n    >>> s1.get_last_two_month_data()\\n    >>> s2.get_last_two_month_data()\\n\\n\\n### 2. get the last two month stock data of broadcom and ibm.\\n\\n    >>> from stock import Stock\\n    >>> s1 = Stock('BRCM')\\n    >>> s2 = Stock('IBM')\\n    >>> s1.get_\""
      ]
     },
     "execution_count": 27,
     "metadata": {},
     "output_type": "execute_result"
    }
   ],
   "source": [
    "res.text"
   ]
  },
  {
   "cell_type": "code",
   "execution_count": 10,
   "id": "f394cad5-2a96-45e4-8688-c70af8024084",
   "metadata": {},
   "outputs": [],
   "source": [
    "et = tool(res)"
   ]
  },
  {
   "cell_type": "code",
   "execution_count": 11,
   "id": "3786775c-75e2-434e-93b7-4ac9472516db",
   "metadata": {},
   "outputs": [
    {
     "data": {
      "text/html": [
       "<div>\n",
       "<style scoped>\n",
       "    .dataframe tbody tr th:only-of-type {\n",
       "        vertical-align: middle;\n",
       "    }\n",
       "\n",
       "    .dataframe tbody tr th {\n",
       "        vertical-align: top;\n",
       "    }\n",
       "\n",
       "    .dataframe thead th {\n",
       "        text-align: right;\n",
       "    }\n",
       "</style>\n",
       "<table border=\"1\" class=\"dataframe\">\n",
       "  <thead>\n",
       "    <tr style=\"text-align: right;\">\n",
       "      <th></th>\n",
       "      <th>Open</th>\n",
       "      <th>High</th>\n",
       "      <th>Low</th>\n",
       "      <th>Close</th>\n",
       "      <th>Volume</th>\n",
       "      <th>Dividends</th>\n",
       "      <th>Stock Splits</th>\n",
       "    </tr>\n",
       "    <tr>\n",
       "      <th>Date</th>\n",
       "      <th></th>\n",
       "      <th></th>\n",
       "      <th></th>\n",
       "      <th></th>\n",
       "      <th></th>\n",
       "      <th></th>\n",
       "      <th></th>\n",
       "    </tr>\n",
       "  </thead>\n",
       "  <tbody>\n",
       "    <tr>\n",
       "      <th>2023-10-13 00:00:00-04:00</th>\n",
       "      <td>909.000000</td>\n",
       "      <td>925.909973</td>\n",
       "      <td>882.090027</td>\n",
       "      <td>883.179993</td>\n",
       "      <td>2831200</td>\n",
       "      <td>0.0</td>\n",
       "      <td>0.0</td>\n",
       "    </tr>\n",
       "    <tr>\n",
       "      <th>2023-10-16 00:00:00-04:00</th>\n",
       "      <td>890.969971</td>\n",
       "      <td>915.789978</td>\n",
       "      <td>890.969971</td>\n",
       "      <td>902.570007</td>\n",
       "      <td>2115000</td>\n",
       "      <td>0.0</td>\n",
       "      <td>0.0</td>\n",
       "    </tr>\n",
       "    <tr>\n",
       "      <th>2023-10-17 00:00:00-04:00</th>\n",
       "      <td>885.150024</td>\n",
       "      <td>892.979980</td>\n",
       "      <td>866.000000</td>\n",
       "      <td>884.400024</td>\n",
       "      <td>3300800</td>\n",
       "      <td>0.0</td>\n",
       "      <td>0.0</td>\n",
       "    </tr>\n",
       "    <tr>\n",
       "      <th>2023-10-18 00:00:00-04:00</th>\n",
       "      <td>879.950012</td>\n",
       "      <td>895.630005</td>\n",
       "      <td>875.200012</td>\n",
       "      <td>887.030029</td>\n",
       "      <td>2040400</td>\n",
       "      <td>0.0</td>\n",
       "      <td>0.0</td>\n",
       "    </tr>\n",
       "    <tr>\n",
       "      <th>2023-10-19 00:00:00-04:00</th>\n",
       "      <td>887.020020</td>\n",
       "      <td>889.489990</td>\n",
       "      <td>865.669983</td>\n",
       "      <td>867.830017</td>\n",
       "      <td>2662000</td>\n",
       "      <td>0.0</td>\n",
       "      <td>0.0</td>\n",
       "    </tr>\n",
       "  </tbody>\n",
       "</table>\n",
       "</div>"
      ],
      "text/plain": [
       "                                 Open        High         Low       Close  \\\n",
       "Date                                                                        \n",
       "2023-10-13 00:00:00-04:00  909.000000  925.909973  882.090027  883.179993   \n",
       "2023-10-16 00:00:00-04:00  890.969971  915.789978  890.969971  902.570007   \n",
       "2023-10-17 00:00:00-04:00  885.150024  892.979980  866.000000  884.400024   \n",
       "2023-10-18 00:00:00-04:00  879.950012  895.630005  875.200012  887.030029   \n",
       "2023-10-19 00:00:00-04:00  887.020020  889.489990  865.669983  867.830017   \n",
       "\n",
       "                            Volume  Dividends  Stock Splits  \n",
       "Date                                                         \n",
       "2023-10-13 00:00:00-04:00  2831200        0.0           0.0  \n",
       "2023-10-16 00:00:00-04:00  2115000        0.0           0.0  \n",
       "2023-10-17 00:00:00-04:00  3300800        0.0           0.0  \n",
       "2023-10-18 00:00:00-04:00  2040400        0.0           0.0  \n",
       "2023-10-19 00:00:00-04:00  2662000        0.0           0.0  "
      ]
     },
     "execution_count": 11,
     "metadata": {},
     "output_type": "execute_result"
    }
   ],
   "source": [
    "et.response.head()"
   ]
  },
  {
   "cell_type": "markdown",
   "id": "b88818ec-fe08-46e8-9658-4f3b6c19f986",
   "metadata": {},
   "source": [
    "if the docstring in our function is informative enough, we can omit the parameters description"
   ]
  },
  {
   "cell_type": "code",
   "execution_count": 19,
   "id": "d5f31eb4-74c5-43df-b796-076dedce1c56",
   "metadata": {},
   "outputs": [],
   "source": [
    "def ticker_history(ticker, period):\n",
    "    \"\"\"\n",
    "    Get historical stock market data\n",
    "\n",
    "    Args:\n",
    "        ticker (str): The ticker of the stock (should be upper cased).\n",
    "        period (int): The historical period to get data for, in the form [1mo, 2mo, 10d, 2y, etc..].\n",
    "    \n",
    "    Returns:\n",
    "        data: A pandas DataFrame of the stock market data.\n",
    "    \"\"\"\n",
    "    ticker = yf.Ticker(ticker.upper())\n",
    "    return ticker.history(period=period)"
   ]
  },
  {
   "cell_type": "code",
   "execution_count": 13,
   "id": "b89bb86f-0201-4f40-a76e-0dfba5c9e7cc",
   "metadata": {},
   "outputs": [],
   "source": [
    "tool = LLMTool(func=ticker_history)"
   ]
  },
  {
   "cell_type": "code",
   "execution_count": 14,
   "id": "60993b7f-35c0-47ea-a8a1-387527011298",
   "metadata": {},
   "outputs": [],
   "source": [
    "llm = resource('openai:///gpt-4')"
   ]
  },
  {
   "cell_type": "code",
   "execution_count": 15,
   "id": "0fd58075-037f-4f35-9ae8-ddc5685b70b5",
   "metadata": {},
   "outputs": [],
   "source": [
    "llm.add_tool(tool)"
   ]
  },
  {
   "cell_type": "code",
   "execution_count": 16,
   "id": "45c637c6-17e4-471b-955e-d44ea7c4e10e",
   "metadata": {},
   "outputs": [],
   "source": [
    "res = llm.ask('What was the top price of apple last year?')"
   ]
  },
  {
   "cell_type": "code",
   "execution_count": 17,
   "id": "6a9b1517-23cb-432e-9b86-28649decf2c7",
   "metadata": {},
   "outputs": [],
   "source": [
    "et = tool(res)"
   ]
  },
  {
   "cell_type": "code",
   "execution_count": 21,
   "id": "b1b89b1e-592e-4d4b-88a9-dc8a9b18d132",
   "metadata": {},
   "outputs": [
    {
     "data": {
      "text/plain": [
       "['AAPL', '1y']"
      ]
     },
     "execution_count": 21,
     "metadata": {},
     "output_type": "execute_result"
    }
   ],
   "source": [
    "et.args"
   ]
  },
  {
   "cell_type": "code",
   "execution_count": 48,
   "id": "070ad8d9-0fe4-409f-b693-a9470f6f1aa3",
   "metadata": {},
   "outputs": [
    {
     "data": {
      "text/plain": [
       "['AAPL', '1y']"
      ]
     },
     "execution_count": 48,
     "metadata": {},
     "output_type": "execute_result"
    }
   ],
   "source": [
    "et.args"
   ]
  },
  {
   "cell_type": "code",
   "execution_count": 19,
   "id": "d4780fbe-0434-4e00-9b68-bdc6bcf4e76f",
   "metadata": {},
   "outputs": [
    {
     "data": {
      "text/html": [
       "<div>\n",
       "<style scoped>\n",
       "    .dataframe tbody tr th:only-of-type {\n",
       "        vertical-align: middle;\n",
       "    }\n",
       "\n",
       "    .dataframe tbody tr th {\n",
       "        vertical-align: top;\n",
       "    }\n",
       "\n",
       "    .dataframe thead th {\n",
       "        text-align: right;\n",
       "    }\n",
       "</style>\n",
       "<table border=\"1\" class=\"dataframe\">\n",
       "  <thead>\n",
       "    <tr style=\"text-align: right;\">\n",
       "      <th></th>\n",
       "      <th>Open</th>\n",
       "      <th>High</th>\n",
       "      <th>Low</th>\n",
       "      <th>Close</th>\n",
       "      <th>Volume</th>\n",
       "      <th>Dividends</th>\n",
       "      <th>Stock Splits</th>\n",
       "    </tr>\n",
       "    <tr>\n",
       "      <th>Date</th>\n",
       "      <th></th>\n",
       "      <th></th>\n",
       "      <th></th>\n",
       "      <th></th>\n",
       "      <th></th>\n",
       "      <th></th>\n",
       "      <th></th>\n",
       "    </tr>\n",
       "  </thead>\n",
       "  <tbody>\n",
       "    <tr>\n",
       "      <th>2022-12-13 00:00:00-05:00</th>\n",
       "      <td>148.669021</td>\n",
       "      <td>149.136410</td>\n",
       "      <td>143.438264</td>\n",
       "      <td>144.661423</td>\n",
       "      <td>93886200</td>\n",
       "      <td>0.0</td>\n",
       "      <td>0.0</td>\n",
       "    </tr>\n",
       "    <tr>\n",
       "      <th>2022-12-14 00:00:00-05:00</th>\n",
       "      <td>144.542091</td>\n",
       "      <td>145.844807</td>\n",
       "      <td>140.375378</td>\n",
       "      <td>142.413986</td>\n",
       "      <td>82291200</td>\n",
       "      <td>0.0</td>\n",
       "      <td>0.0</td>\n",
       "    </tr>\n",
       "    <tr>\n",
       "      <th>2022-12-15 00:00:00-05:00</th>\n",
       "      <td>140.325648</td>\n",
       "      <td>141.011815</td>\n",
       "      <td>135.273883</td>\n",
       "      <td>135.741272</td>\n",
       "      <td>98931900</td>\n",
       "      <td>0.0</td>\n",
       "      <td>0.0</td>\n",
       "    </tr>\n",
       "    <tr>\n",
       "      <th>2022-12-16 00:00:00-05:00</th>\n",
       "      <td>135.930220</td>\n",
       "      <td>136.884875</td>\n",
       "      <td>132.986666</td>\n",
       "      <td>133.762329</td>\n",
       "      <td>160156900</td>\n",
       "      <td>0.0</td>\n",
       "      <td>0.0</td>\n",
       "    </tr>\n",
       "    <tr>\n",
       "      <th>2022-12-19 00:00:00-05:00</th>\n",
       "      <td>134.358976</td>\n",
       "      <td>134.448472</td>\n",
       "      <td>130.590050</td>\n",
       "      <td>131.634201</td>\n",
       "      <td>79592600</td>\n",
       "      <td>0.0</td>\n",
       "      <td>0.0</td>\n",
       "    </tr>\n",
       "  </tbody>\n",
       "</table>\n",
       "</div>"
      ],
      "text/plain": [
       "                                 Open        High         Low       Close  \\\n",
       "Date                                                                        \n",
       "2022-12-13 00:00:00-05:00  148.669021  149.136410  143.438264  144.661423   \n",
       "2022-12-14 00:00:00-05:00  144.542091  145.844807  140.375378  142.413986   \n",
       "2022-12-15 00:00:00-05:00  140.325648  141.011815  135.273883  135.741272   \n",
       "2022-12-16 00:00:00-05:00  135.930220  136.884875  132.986666  133.762329   \n",
       "2022-12-19 00:00:00-05:00  134.358976  134.448472  130.590050  131.634201   \n",
       "\n",
       "                              Volume  Dividends  Stock Splits  \n",
       "Date                                                           \n",
       "2022-12-13 00:00:00-05:00   93886200        0.0           0.0  \n",
       "2022-12-14 00:00:00-05:00   82291200        0.0           0.0  \n",
       "2022-12-15 00:00:00-05:00   98931900        0.0           0.0  \n",
       "2022-12-16 00:00:00-05:00  160156900        0.0           0.0  \n",
       "2022-12-19 00:00:00-05:00   79592600        0.0           0.0  "
      ]
     },
     "execution_count": 19,
     "metadata": {},
     "output_type": "execute_result"
    }
   ],
   "source": [
    "et.response.head()"
   ]
  },
  {
   "cell_type": "markdown",
   "id": "10314e46-13e3-4faf-9319-fd37c418f4f3",
   "metadata": {},
   "source": [
    "Now lets use the openai simulator to achive the same effect"
   ]
  },
  {
   "cell_type": "code",
   "execution_count": 22,
   "id": "db68e84c-60e7-4e07-b3d2-586cd1d6bc41",
   "metadata": {},
   "outputs": [],
   "source": [
    "from beam.llm import openai_simulator as openai"
   ]
  },
  {
   "cell_type": "code",
   "execution_count": 25,
   "id": "ea7ae55a-1867-4e95-b41d-4cc9e8a5afd8",
   "metadata": {},
   "outputs": [
    {
     "name": "stdout",
     "output_type": "stream",
     "text": [
      "\u001b[32m2023-12-13 12:58:35\u001b[0m | BeamLog | \u001b[33m\u001b[1mWARNING\u001b[0m | \u001b[33m\u001b[1mfinish_reason is tool_calls\u001b[0m\n"
     ]
    }
   ],
   "source": [
    "res = openai.ChatCompletion.create(model='openai:///gpt-4', messages=[{\"role\": \"user\", \"content\": \"give me the last two month stock data of broadcom\"}],\n",
    "    tools = [\n",
    "        {\n",
    "            \"type\": \"function\",\n",
    "            \"function\": {\n",
    "                \"name\": \"ticker_history\",\n",
    "                \"description\": \"Get historical stock market data\",\n",
    "                \"parameters\": {\n",
    "                    \"type\": \"object\",\n",
    "                    \"properties\": {\n",
    "                        \"ticker\": {\"type\": \"string\", \"description\": \"The ticker of the stock (should be upper cased).\"},\n",
    "                        \"period\": {\"type\": \"string\",\"description\": \"The historical period to get data for, in the form [1mo, 2mo, 10d, 2y, etc..].\"},\n",
    "                    },\n",
    "                    \"required\": [\"ticker\", \"period\"],\n",
    "                },\n",
    "            },\n",
    "        }\n",
    "    ])"
   ]
  },
  {
   "cell_type": "code",
   "execution_count": 39,
   "id": "b52c96e2-f579-4f38-9bd4-c89184ba7816",
   "metadata": {},
   "outputs": [
    {
     "data": {
      "text/plain": [
       "<OpenAIObject at 0x7fd70d19a1b0> JSON: {\n",
       "  \"role\": \"assistant\",\n",
       "  \"content\": null,\n",
       "  \"tool_calls\": [\n",
       "    {\n",
       "      \"id\": \"call_QVvITgTRcfCZUoLyAJfcwxbA\",\n",
       "      \"type\": \"function\",\n",
       "      \"function\": {\n",
       "        \"name\": \"ticker_history\",\n",
       "        \"arguments\": \"{\\n  \\\"ticker\\\": \\\"AVGO\\\",\\n  \\\"period\\\": \\\"2mo\\\"\\n}\"\n",
       "      }\n",
       "    }\n",
       "  ]\n",
       "}"
      ]
     },
     "execution_count": 39,
     "metadata": {},
     "output_type": "execute_result"
    }
   ],
   "source": [
    "res.choices[0].message"
   ]
  },
  {
   "cell_type": "code",
   "execution_count": 45,
   "id": "9131a2da-93cd-48b3-bd30-4fc748e5f586",
   "metadata": {},
   "outputs": [
    {
     "data": {
      "text/plain": [
       "{}"
      ]
     },
     "execution_count": 45,
     "metadata": {},
     "output_type": "execute_result"
    }
   ],
   "source": [
    "et.tool"
   ]
  },
  {
   "cell_type": "code",
   "execution_count": 2,
   "id": "f80ba326-4334-4032-963f-d2b8ca835a5d",
   "metadata": {},
   "outputs": [
    {
     "name": "stderr",
     "output_type": "stream",
     "text": [
      "UserWarning: A newer version of deeplake (3.8.11) is available. It's recommended that you update to the latest version using `pip install -U deeplake`.\n"
     ]
    }
   ],
   "source": [
    "from beam.llm import LLMTask"
   ]
  },
  {
   "cell_type": "code",
   "execution_count": 3,
   "id": "6ed6db75-5a92-4f5f-bce5-592f6e7268a4",
   "metadata": {},
   "outputs": [],
   "source": [
    "task = LLMTask('random_names_generator', system='you like names that start with R', \n",
    "               description='Generate a list of random names for babies', \n",
    "               input_kwargs={'num': 'number of names to generate', 'geneder': 'either boy or girl'}, output_kwargs={'res': 'a list of generated names'},\n",
    "               llm='openai:///gpt-4')"
   ]
  },
  {
   "cell_type": "code",
   "execution_count": 4,
   "id": "439e490e-dbb3-446e-926c-aff22fd273b6",
   "metadata": {},
   "outputs": [
    {
     "data": {
      "text/plain": [
       "{'res': ['Ryan', 'Riley', 'Raphael']}"
      ]
     },
     "execution_count": 4,
     "metadata": {},
     "output_type": "execute_result"
    }
   ],
   "source": [
    "res = task(num=3, gender='boy')\n",
    "res.task_result"
   ]
  },
  {
   "cell_type": "code",
   "execution_count": 5,
   "id": "02b3c5b3-53ea-4fa9-a2f6-e321a9f44970",
   "metadata": {},
   "outputs": [
    {
     "data": {
      "text/plain": [
       "{'res': ['Rachel', 'Rebecca', 'Rosalie', 'Ruth']}"
      ]
     },
     "execution_count": 5,
     "metadata": {},
     "output_type": "execute_result"
    }
   ],
   "source": [
    "res = task(num=4, gender='girl')\n",
    "res.task_result"
   ]
  }
 ],
 "metadata": {
  "kernelspec": {
   "display_name": "Python 3 (ipykernel)",
   "language": "python",
   "name": "python3"
  },
  "language_info": {
   "codemirror_mode": {
    "name": "ipython",
    "version": 3
   },
   "file_extension": ".py",
   "mimetype": "text/x-python",
   "name": "python",
   "nbconvert_exporter": "python",
   "pygments_lexer": "ipython3",
   "version": "3.10.6"
  }
 },
 "nbformat": 4,
 "nbformat_minor": 5
}
