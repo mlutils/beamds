{
 "cells": [
  {
   "cell_type": "code",
   "execution_count": 1,
   "id": "6465dcb5-d025-4daf-9052-3f08bbe4a1a7",
   "metadata": {},
   "outputs": [
    {
     "data": {
      "text/html": [
       "<style type='text/css'>\n",
       ".datatable table.frame { margin-bottom: 0; }\n",
       ".datatable table.frame thead { border-bottom: none; }\n",
       ".datatable table.frame tr.coltypes td {  color: #FFFFFF;  line-height: 6px;  padding: 0 0.5em;}\n",
       ".datatable .bool    { background: #DDDD99; }\n",
       ".datatable .object  { background: #565656; }\n",
       ".datatable .int     { background: #5D9E5D; }\n",
       ".datatable .float   { background: #4040CC; }\n",
       ".datatable .str     { background: #CC4040; }\n",
       ".datatable .time    { background: #40CC40; }\n",
       ".datatable .row_index {  background: var(--jp-border-color3);  border-right: 1px solid var(--jp-border-color0);  color: var(--jp-ui-font-color3);  font-size: 9px;}\n",
       ".datatable .frame tbody td { text-align: left; }\n",
       ".datatable .frame tr.coltypes .row_index {  background: var(--jp-border-color0);}\n",
       ".datatable th:nth-child(2) { padding-left: 12px; }\n",
       ".datatable .hellipsis {  color: var(--jp-cell-editor-border-color);}\n",
       ".datatable .vellipsis {  background: var(--jp-layout-color0);  color: var(--jp-cell-editor-border-color);}\n",
       ".datatable .na {  color: var(--jp-cell-editor-border-color);  font-size: 80%;}\n",
       ".datatable .sp {  opacity: 0.25;}\n",
       ".datatable .footer { font-size: 9px; }\n",
       ".datatable .frame_dimensions {  background: var(--jp-border-color3);  border-top: 1px solid var(--jp-border-color0);  color: var(--jp-ui-font-color3);  display: inline-block;  opacity: 0.6;  padding: 1px 10px 1px 5px;}\n",
       "</style>\n"
      ],
      "text/plain": [
       "<IPython.core.display.HTML object>"
      ]
     },
     "metadata": {},
     "output_type": "display_data"
    }
   ],
   "source": [
    "%load_ext autoreload\n",
    "%autoreload 2\n",
    "\n",
    "import torch\n",
    "import torch.nn.functional as F\n",
    "from torch import nn\n",
    "import numpy as np\n",
    "import pandas as pd\n",
    "\n",
    "# manage beams's relative imports\n",
    "import sys\n",
    "sys.path.append('..')\n",
    "\n",
    "from examples.covtype_ssl import CovtypeDataset, get_covtype_parser, CovtypeMaskedDataset, CovtypeDatasetOrg, EmbeddingCovtypeDataset\n",
    "from src.beam import beam_arguments, as_numpy"
   ]
  },
  {
   "cell_type": "code",
   "execution_count": 2,
   "id": "c3b81165-4418-40f6-b159-621fcc72f76e",
   "metadata": {},
   "outputs": [],
   "source": [
    "path_to_data = '/home/shared/data/dataset/covtype'\n",
    "root_dir = '/home/shared/data/results/covtype'\n",
    "\n",
    "hparams = beam_arguments(get_covtype_parser(),\n",
    "                         f\"--project-name=covtype_ssl --root-dir={root_dir} --algorithm=BeamVICReg --device=0\",\n",
    "                         \"--batch-size=512 --n-epochs=100 --parallel=1 --momentum=0.9 --beta2=0.99\",\n",
    "                         weight_factor=.0, weight_decay=1e-5, path_to_data=path_to_data, dropout=.0, channels=256,\n",
    "                         n_layers=2)"
   ]
  },
  {
   "cell_type": "code",
   "execution_count": 6,
   "id": "f44596b7-3c31-4253-9cf3-5df550b0ebc0",
   "metadata": {},
   "outputs": [],
   "source": [
    "dataset = EmbeddingCovtypeDataset(hparams)\n",
    "# dataset = CovtypeDataset(hparams)\n",
    "# dataset = CovtypeMaskedDataset(hparams)"
   ]
  },
  {
   "cell_type": "code",
   "execution_count": 7,
   "id": "42286248-56d3-486c-983c-dede075f52fa",
   "metadata": {},
   "outputs": [
    {
     "data": {
      "text/plain": [
       "{'test': tensor([215988, 424155, 274437,  ...,  80871, 169606,  70347]),\n",
       " 'validation': tensor([290047, 332003, 108670,  ..., 370968, 163051, 423266]),\n",
       " 'train': tensor([401245, 180638,  69781,  ..., 479426, 213708,  94533])}"
      ]
     },
     "execution_count": 7,
     "metadata": {},
     "output_type": "execute_result"
    }
   ],
   "source": [
    "dataset.indices"
   ]
  },
  {
   "cell_type": "code",
   "execution_count": 8,
   "id": "0a1cd6e5-913f-418f-bb62-9d7407990453",
   "metadata": {},
   "outputs": [],
   "source": [
    "data_train = dataset[dataset.indices['train']]\n",
    "data_validation = dataset[dataset.indices['validation']]\n",
    "data_test = dataset[dataset.indices['test']]"
   ]
  },
  {
   "cell_type": "code",
   "execution_count": 9,
   "id": "e372932d-65ff-4d0a-a637-0412323d1eab",
   "metadata": {},
   "outputs": [],
   "source": [
    "# df = pd.DataFrame(as_numpy(data_train.data['x_cat']))"
   ]
  },
  {
   "cell_type": "code",
   "execution_count": 11,
   "id": "5c128987-b140-410c-8a41-abf8c910bccc",
   "metadata": {},
   "outputs": [],
   "source": [
    "# train_x = as_numpy(data_train.data['x'][0])\n",
    "# train_y = as_numpy(data_train.data['y'])\n",
    "\n",
    "# val_x = as_numpy(data_validation.data['x'][0])\n",
    "# val_y = as_numpy(data_validation.data['y'])\n",
    "\n",
    "# test_x = as_numpy(data_test.data['x'][0])\n",
    "# test_y = as_numpy(data_test.data['y'])\n",
    "# cat_features = []\n",
    "\n",
    "\n",
    "# train_x = as_numpy(data_train.data['x'][1])\n",
    "# train_y = as_numpy(data_train.data['y'])\n",
    "\n",
    "# val_x = as_numpy(data_validation.data['x'][1])\n",
    "# val_y = as_numpy(data_validation.data['y'])\n",
    "\n",
    "# test_x = as_numpy(data_test.data['x'][1])\n",
    "# test_y = as_numpy(data_test.data['y'])\n",
    "\n",
    "# cat_features = np.arange(train_x.shape[-1])\n",
    "\n",
    "\n",
    "# train_x = as_numpy(data_train.data['emb'].flatten(start_dim=1))\n",
    "# train_y = as_numpy(data_train.data['y'])\n",
    "\n",
    "# val_x = as_numpy(data_validation.data['emb'].flatten(start_dim=1))\n",
    "# val_y = as_numpy(data_validation.data['y'])\n",
    "\n",
    "# test_x = as_numpy(data_test.data['emb'].flatten(start_dim=1))\n",
    "# test_y = as_numpy(data_test.data['y'])\n",
    "# cat_features = []\n",
    "\n",
    "\n",
    "train_x = as_numpy(data_train.data['emb'].sum(dim=1))\n",
    "train_y = as_numpy(data_train.data['y'])\n",
    "\n",
    "val_x = as_numpy(data_validation.data['emb'].sum(dim=1))\n",
    "val_y = as_numpy(data_validation.data['y'])\n",
    "\n",
    "test_x = as_numpy(data_test.data['emb'].sum(dim=1))\n",
    "test_y = as_numpy(data_test.data['y'])\n",
    "cat_features = []\n"
   ]
  },
  {
   "cell_type": "markdown",
   "id": "e88a6736-0806-437c-a0d3-fb2ee34ea93c",
   "metadata": {},
   "source": [
    "## Catboost classifier"
   ]
  },
  {
   "cell_type": "code",
   "execution_count": 12,
   "id": "2e47312d-08bc-409c-9530-8fc4f74becd9",
   "metadata": {},
   "outputs": [],
   "source": [
    "from catboost import CatBoostClassifier"
   ]
  },
  {
   "cell_type": "code",
   "execution_count": 13,
   "id": "b5b784d5-3d29-4655-a685-36b1036ab537",
   "metadata": {},
   "outputs": [],
   "source": [
    " # only one of the parameters iterations, n_estimators, num_boost_round, num_trees should be initialized.\n",
    "\n",
    "model = CatBoostClassifier(learning_rate=.1, depth=12, task_type=\"GPU\", devices='0',\n",
    "                           loss_function='MultiClass', metric_period=50, verbose=True, n_estimators=500)"
   ]
  },
  {
   "cell_type": "code",
   "execution_count": null,
   "id": "7c3ab409-653e-4ccf-b204-9531da11b351",
   "metadata": {},
   "outputs": [
    {
     "name": "stderr",
     "output_type": "stream",
     "text": [
      "Warning: less than 75% gpu memory available for training. Free: 5845.6875 Total: 24256.3125\n"
     ]
    },
    {
     "name": "stdout",
     "output_type": "stream",
     "text": [
      "0:\tlearn: 1.7852095\ttotal: 1.03s\tremaining: 8m 34s\n"
     ]
    }
   ],
   "source": [
    "model.fit(train_x, train_y, cat_features)"
   ]
  },
  {
   "cell_type": "code",
   "execution_count": 11,
   "id": "33b67296-132d-491a-a0f1-8d2ba977d11b",
   "metadata": {},
   "outputs": [
    {
     "data": {
      "text/plain": [
       "0.5933929992900325"
      ]
     },
     "execution_count": 11,
     "metadata": {},
     "output_type": "execute_result"
    }
   ],
   "source": [
    "model.score(val_x, val_y)"
   ]
  },
  {
   "cell_type": "code",
   "execution_count": 61,
   "id": "fd0a0931-8d74-42b8-bb40-60116b49cccf",
   "metadata": {},
   "outputs": [
    {
     "name": "stdout",
     "output_type": "stream",
     "text": [
      "0:\tlearn: 1.7570187\ttotal: 175ms\tremaining: 2m 54s\n",
      "100:\tlearn: 0.4598375\ttotal: 16.5s\tremaining: 2m 26s\n",
      "200:\tlearn: 0.3615342\ttotal: 34.2s\tremaining: 2m 16s\n",
      "300:\tlearn: 0.3101426\ttotal: 52.2s\tremaining: 2m 1s\n",
      "400:\tlearn: 0.2668925\ttotal: 1m 10s\tremaining: 1m 45s\n",
      "500:\tlearn: 0.2345253\ttotal: 1m 29s\tremaining: 1m 28s\n",
      "600:\tlearn: 0.2054078\ttotal: 1m 48s\tremaining: 1m 11s\n",
      "700:\tlearn: 0.1815197\ttotal: 2m 7s\tremaining: 54.4s\n",
      "800:\tlearn: 0.1619548\ttotal: 2m 26s\tremaining: 36.4s\n",
      "900:\tlearn: 0.1441288\ttotal: 2m 45s\tremaining: 18.2s\n",
      "999:\tlearn: 0.1292784\ttotal: 3m 4s\tremaining: 0us\n"
     ]
    },
    {
     "data": {
      "text/plain": [
       "<catboost.core.CatBoostClassifier at 0x7f9e44249cd0>"
      ]
     },
     "execution_count": 61,
     "metadata": {},
     "output_type": "execute_result"
    }
   ],
   "source": [
    "model.fit(train_x, train_y, cat_features)"
   ]
  },
  {
   "cell_type": "code",
   "execution_count": 33,
   "id": "2cb88810-d934-41f4-b675-196f370f3833",
   "metadata": {},
   "outputs": [
    {
     "data": {
      "text/plain": [
       "0.9094791420150169"
      ]
     },
     "execution_count": 33,
     "metadata": {},
     "output_type": "execute_result"
    }
   ],
   "source": [
    "model.score(val_x, val_y)"
   ]
  },
  {
   "cell_type": "markdown",
   "id": "acfc85d8-6522-41d3-b5dd-e151df4101b9",
   "metadata": {},
   "source": [
    "## LGBM classifier"
   ]
  },
  {
   "cell_type": "code",
   "execution_count": 34,
   "id": "36f7543c-9043-44d8-8587-c14d02573a5e",
   "metadata": {},
   "outputs": [],
   "source": [
    "import lightgbm as lgb"
   ]
  },
  {
   "cell_type": "code",
   "execution_count": 35,
   "id": "a2e75f61-d3ed-4833-93c1-db8d00f11dfe",
   "metadata": {},
   "outputs": [],
   "source": [
    "train_data = lgb.Dataset(train_x, label=train_y)\n",
    "validation_data = lgb.Dataset(val_x, label=val_y)"
   ]
  },
  {
   "cell_type": "code",
   "execution_count": 40,
   "id": "19a70408-de99-49cc-8701-a8edba356f30",
   "metadata": {},
   "outputs": [],
   "source": [
    "param = {'objective': 'multiclass',\n",
    "         'num_leaves': 31,\n",
    "         'max_depth': 12,\n",
    "         'gpu_device_id': 2,\n",
    "         'verbosity': -1,\n",
    "         'metric': ['multi_error', 'multiclass'],\n",
    "         'num_class': np.max(train_y) + 1}"
   ]
  },
  {
   "cell_type": "code",
   "execution_count": 41,
   "id": "7362e996-c6a6-4bc1-bacd-ef884d1ddf5e",
   "metadata": {},
   "outputs": [
    {
     "name": "stdout",
     "output_type": "stream",
     "text": [
      "[1]\tvalid_0's multi_error: 0.490813\tvalid_0's multi_logloss: 1.01485\n",
      "[2]\tvalid_0's multi_error: 0.371335\tvalid_0's multi_logloss: 0.945688\n",
      "[3]\tvalid_0's multi_error: 0.309664\tvalid_0's multi_logloss: 0.892926\n",
      "[4]\tvalid_0's multi_error: 0.28844\tvalid_0's multi_logloss: 0.844769\n",
      "[5]\tvalid_0's multi_error: 0.27423\tvalid_0's multi_logloss: 0.8101\n",
      "[6]\tvalid_0's multi_error: 0.269766\tvalid_0's multi_logloss: 0.780868\n",
      "[7]\tvalid_0's multi_error: 0.268798\tvalid_0's multi_logloss: 0.756938\n",
      "[8]\tvalid_0's multi_error: 0.266109\tvalid_0's multi_logloss: 0.736936\n",
      "[9]\tvalid_0's multi_error: 0.263161\tvalid_0's multi_logloss: 0.7197\n",
      "[10]\tvalid_0's multi_error: 0.261494\tvalid_0's multi_logloss: 0.704564\n",
      "[11]\tvalid_0's multi_error: 0.259741\tvalid_0's multi_logloss: 0.690477\n",
      "[12]\tvalid_0's multi_error: 0.258267\tvalid_0's multi_logloss: 0.678435\n",
      "[13]\tvalid_0's multi_error: 0.255879\tvalid_0's multi_logloss: 0.667289\n",
      "[14]\tvalid_0's multi_error: 0.253835\tvalid_0's multi_logloss: 0.656453\n",
      "[15]\tvalid_0's multi_error: 0.252974\tvalid_0's multi_logloss: 0.647219\n",
      "[16]\tvalid_0's multi_error: 0.251404\tvalid_0's multi_logloss: 0.639193\n",
      "[17]\tvalid_0's multi_error: 0.250124\tvalid_0's multi_logloss: 0.631346\n",
      "[18]\tvalid_0's multi_error: 0.248596\tvalid_0's multi_logloss: 0.625574\n",
      "[19]\tvalid_0's multi_error: 0.246746\tvalid_0's multi_logloss: 0.619584\n",
      "[20]\tvalid_0's multi_error: 0.245982\tvalid_0's multi_logloss: 0.613853\n",
      "[21]\tvalid_0's multi_error: 0.244993\tvalid_0's multi_logloss: 0.608397\n",
      "[22]\tvalid_0's multi_error: 0.243605\tvalid_0's multi_logloss: 0.603129\n",
      "[23]\tvalid_0's multi_error: 0.242594\tvalid_0's multi_logloss: 0.598635\n",
      "[24]\tvalid_0's multi_error: 0.240916\tvalid_0's multi_logloss: 0.594196\n",
      "[25]\tvalid_0's multi_error: 0.239958\tvalid_0's multi_logloss: 0.589849\n",
      "[26]\tvalid_0's multi_error: 0.238796\tvalid_0's multi_logloss: 0.585796\n",
      "[27]\tvalid_0's multi_error: 0.237635\tvalid_0's multi_logloss: 0.582218\n",
      "[28]\tvalid_0's multi_error: 0.237204\tvalid_0's multi_logloss: 0.578398\n",
      "[29]\tvalid_0's multi_error: 0.236344\tvalid_0's multi_logloss: 0.575286\n",
      "[30]\tvalid_0's multi_error: 0.234913\tvalid_0's multi_logloss: 0.572004\n",
      "[31]\tvalid_0's multi_error: 0.234053\tvalid_0's multi_logloss: 0.569205\n",
      "[32]\tvalid_0's multi_error: 0.23345\tvalid_0's multi_logloss: 0.56617\n",
      "[33]\tvalid_0's multi_error: 0.232192\tvalid_0's multi_logloss: 0.562881\n",
      "[34]\tvalid_0's multi_error: 0.231094\tvalid_0's multi_logloss: 0.560557\n",
      "[35]\tvalid_0's multi_error: 0.230083\tvalid_0's multi_logloss: 0.557898\n",
      "[36]\tvalid_0's multi_error: 0.228997\tvalid_0's multi_logloss: 0.555435\n",
      "[37]\tvalid_0's multi_error: 0.227996\tvalid_0's multi_logloss: 0.552912\n",
      "[38]\tvalid_0's multi_error: 0.227319\tvalid_0's multi_logloss: 0.550946\n",
      "[39]\tvalid_0's multi_error: 0.226576\tvalid_0's multi_logloss: 0.548891\n",
      "[40]\tvalid_0's multi_error: 0.225705\tvalid_0's multi_logloss: 0.551664\n",
      "[41]\tvalid_0's multi_error: 0.22478\tvalid_0's multi_logloss: 0.548581\n",
      "[42]\tvalid_0's multi_error: 0.224113\tvalid_0's multi_logloss: 0.545841\n",
      "[43]\tvalid_0's multi_error: 0.223521\tvalid_0's multi_logloss: 0.549426\n",
      "[44]\tvalid_0's multi_error: 0.222758\tvalid_0's multi_logloss: 0.547026\n",
      "[45]\tvalid_0's multi_error: 0.222263\tvalid_0's multi_logloss: 0.545047\n",
      "[46]\tvalid_0's multi_error: 0.221564\tvalid_0's multi_logloss: 0.543408\n",
      "[47]\tvalid_0's multi_error: 0.220843\tvalid_0's multi_logloss: 0.541864\n",
      "[48]\tvalid_0's multi_error: 0.220337\tvalid_0's multi_logloss: 0.542129\n",
      "[49]\tvalid_0's multi_error: 0.219606\tvalid_0's multi_logloss: 0.540035\n",
      "[50]\tvalid_0's multi_error: 0.219165\tvalid_0's multi_logloss: 0.542898\n",
      "[51]\tvalid_0's multi_error: 0.218347\tvalid_0's multi_logloss: 0.540454\n",
      "[52]\tvalid_0's multi_error: 0.217949\tvalid_0's multi_logloss: 0.539179\n",
      "[53]\tvalid_0's multi_error: 0.216852\tvalid_0's multi_logloss: 0.542623\n",
      "[54]\tvalid_0's multi_error: 0.216196\tvalid_0's multi_logloss: 0.539283\n",
      "[55]\tvalid_0's multi_error: 0.215938\tvalid_0's multi_logloss: 0.537997\n",
      "[56]\tvalid_0's multi_error: 0.215411\tvalid_0's multi_logloss: 0.543802\n",
      "[57]\tvalid_0's multi_error: 0.214916\tvalid_0's multi_logloss: 0.537257\n",
      "[58]\tvalid_0's multi_error: 0.214625\tvalid_0's multi_logloss: 0.538746\n",
      "[59]\tvalid_0's multi_error: 0.213786\tvalid_0's multi_logloss: 0.53748\n",
      "[60]\tvalid_0's multi_error: 0.213539\tvalid_0's multi_logloss: 0.53979\n",
      "[61]\tvalid_0's multi_error: 0.213464\tvalid_0's multi_logloss: 0.550679\n",
      "[62]\tvalid_0's multi_error: 0.212495\tvalid_0's multi_logloss: 0.540239\n",
      "[63]\tvalid_0's multi_error: 0.211796\tvalid_0's multi_logloss: 0.539155\n",
      "[64]\tvalid_0's multi_error: 0.211398\tvalid_0's multi_logloss: 0.538094\n",
      "[65]\tvalid_0's multi_error: 0.211872\tvalid_0's multi_logloss: 0.573037\n",
      "[66]\tvalid_0's multi_error: 0.21086\tvalid_0's multi_logloss: 0.548863\n",
      "[67]\tvalid_0's multi_error: 0.210409\tvalid_0's multi_logloss: 0.539002\n",
      "[68]\tvalid_0's multi_error: 0.209946\tvalid_0's multi_logloss: 0.538953\n",
      "[69]\tvalid_0's multi_error: 0.209408\tvalid_0's multi_logloss: 0.538072\n",
      "[70]\tvalid_0's multi_error: 0.208892\tvalid_0's multi_logloss: 0.537009\n",
      "[71]\tvalid_0's multi_error: 0.208601\tvalid_0's multi_logloss: 0.537187\n",
      "[72]\tvalid_0's multi_error: 0.208117\tvalid_0's multi_logloss: 0.536338\n",
      "[73]\tvalid_0's multi_error: 0.207536\tvalid_0's multi_logloss: 0.536355\n",
      "[74]\tvalid_0's multi_error: 0.206934\tvalid_0's multi_logloss: 0.534586\n",
      "[75]\tvalid_0's multi_error: 0.206783\tvalid_0's multi_logloss: 0.535483\n",
      "[76]\tvalid_0's multi_error: 0.206321\tvalid_0's multi_logloss: 0.533795\n",
      "[77]\tvalid_0's multi_error: 0.20716\tvalid_0's multi_logloss: 0.588348\n",
      "[78]\tvalid_0's multi_error: 0.205944\tvalid_0's multi_logloss: 0.557209\n",
      "[79]\tvalid_0's multi_error: 0.20517\tvalid_0's multi_logloss: 0.542266\n",
      "[80]\tvalid_0's multi_error: 0.204654\tvalid_0's multi_logloss: 0.534368\n",
      "[81]\tvalid_0's multi_error: 0.204395\tvalid_0's multi_logloss: 0.534781\n",
      "[82]\tvalid_0's multi_error: 0.204277\tvalid_0's multi_logloss: 0.555195\n",
      "[83]\tvalid_0's multi_error: 0.203212\tvalid_0's multi_logloss: 0.537111\n",
      "[84]\tvalid_0's multi_error: 0.202911\tvalid_0's multi_logloss: 0.530548\n",
      "[85]\tvalid_0's multi_error: 0.202577\tvalid_0's multi_logloss: 0.530292\n",
      "[86]\tvalid_0's multi_error: 0.20275\tvalid_0's multi_logloss: 0.54163\n",
      "[87]\tvalid_0's multi_error: 0.202072\tvalid_0's multi_logloss: 0.528976\n",
      "[88]\tvalid_0's multi_error: 0.202093\tvalid_0's multi_logloss: 0.529076\n",
      "[89]\tvalid_0's multi_error: 0.201448\tvalid_0's multi_logloss: 0.532563\n",
      "[90]\tvalid_0's multi_error: 0.20105\tvalid_0's multi_logloss: 0.526145\n",
      "[91]\tvalid_0's multi_error: 0.201857\tvalid_0's multi_logloss: 0.569489\n",
      "[92]\tvalid_0's multi_error: 0.200899\tvalid_0's multi_logloss: 0.539593\n",
      "[93]\tvalid_0's multi_error: 0.200544\tvalid_0's multi_logloss: 0.530995\n",
      "[94]\tvalid_0's multi_error: 0.200308\tvalid_0's multi_logloss: 0.533648\n",
      "[95]\tvalid_0's multi_error: 0.200049\tvalid_0's multi_logloss: 0.52786\n",
      "[96]\tvalid_0's multi_error: 0.199608\tvalid_0's multi_logloss: 0.52684\n",
      "[97]\tvalid_0's multi_error: 0.199071\tvalid_0's multi_logloss: 0.526387\n",
      "[98]\tvalid_0's multi_error: 0.198587\tvalid_0's multi_logloss: 0.525615\n",
      "[99]\tvalid_0's multi_error: 0.198285\tvalid_0's multi_logloss: 0.526084\n",
      "[100]\tvalid_0's multi_error: 0.198092\tvalid_0's multi_logloss: 0.525382\n"
     ]
    },
    {
     "data": {
      "text/plain": [
       "<lightgbm.basic.Booster at 0x7ef6cc07ebb0>"
      ]
     },
     "execution_count": 41,
     "metadata": {},
     "output_type": "execute_result"
    }
   ],
   "source": [
    "lgb.train(param, train_data, 100, valid_sets=[validation_data])"
   ]
  },
  {
   "cell_type": "markdown",
   "id": "141466ea-c9fe-429c-b29d-e1046cbf518e",
   "metadata": {},
   "source": [
    "## XGBoost"
   ]
  },
  {
   "cell_type": "code",
   "execution_count": 42,
   "id": "55710de0-b1b5-45cf-b7ca-d975728e3bbb",
   "metadata": {},
   "outputs": [],
   "source": [
    "n_estimators = 1000"
   ]
  },
  {
   "cell_type": "code",
   "execution_count": 45,
   "id": "d5e38b8c-a2d7-4690-90bf-c3d8899b4a8b",
   "metadata": {},
   "outputs": [
    {
     "ename": "AttributeError",
     "evalue": "/opt/conda/lib/libxgboost.so: undefined symbol: path",
     "output_type": "error",
     "traceback": [
      "\u001b[0;31m---------------------------------------------------------------------------\u001b[0m",
      "\u001b[0;31mAttributeError\u001b[0m                            Traceback (most recent call last)",
      "Input \u001b[0;32mIn [45]\u001b[0m, in \u001b[0;36m<cell line: 1>\u001b[0;34m()\u001b[0m\n\u001b[0;32m----> 1\u001b[0m \u001b[38;5;28;01mimport\u001b[39;00m \u001b[38;5;21;01mxgboost\u001b[39;00m\n",
      "File \u001b[0;32m/opt/conda/lib/python3.8/site-packages/xgboost/__init__.py:6\u001b[0m, in \u001b[0;36m<module>\u001b[0;34m\u001b[0m\n\u001b[1;32m      1\u001b[0m \u001b[38;5;124;03m\"\"\"XGBoost: eXtreme Gradient Boosting library.\u001b[39;00m\n\u001b[1;32m      2\u001b[0m \n\u001b[1;32m      3\u001b[0m \u001b[38;5;124;03mContributors: https://github.com/dmlc/xgboost/blob/master/CONTRIBUTORS.md\u001b[39;00m\n\u001b[1;32m      4\u001b[0m \u001b[38;5;124;03m\"\"\"\u001b[39;00m\n\u001b[0;32m----> 6\u001b[0m \u001b[38;5;28;01mfrom\u001b[39;00m \u001b[38;5;21;01m.\u001b[39;00m\u001b[38;5;21;01mcore\u001b[39;00m \u001b[38;5;28;01mimport\u001b[39;00m (\n\u001b[1;32m      7\u001b[0m     DMatrix,\n\u001b[1;32m      8\u001b[0m     DeviceQuantileDMatrix,\n\u001b[1;32m      9\u001b[0m     Booster,\n\u001b[1;32m     10\u001b[0m     DataIter,\n\u001b[1;32m     11\u001b[0m     build_info,\n\u001b[1;32m     12\u001b[0m     _py_version,\n\u001b[1;32m     13\u001b[0m )\n\u001b[1;32m     14\u001b[0m \u001b[38;5;28;01mfrom\u001b[39;00m \u001b[38;5;21;01m.\u001b[39;00m\u001b[38;5;21;01mtraining\u001b[39;00m \u001b[38;5;28;01mimport\u001b[39;00m train, cv\n\u001b[1;32m     15\u001b[0m \u001b[38;5;28;01mfrom\u001b[39;00m \u001b[38;5;21;01m.\u001b[39;00m \u001b[38;5;28;01mimport\u001b[39;00m rabit  \u001b[38;5;66;03m# noqa\u001b[39;00m\n",
      "File \u001b[0;32m/opt/conda/lib/python3.8/site-packages/xgboost/core.py:231\u001b[0m, in \u001b[0;36m<module>\u001b[0;34m\u001b[0m\n\u001b[1;32m    227\u001b[0m     \u001b[38;5;28;01mreturn\u001b[39;00m lib\n\u001b[1;32m    230\u001b[0m \u001b[38;5;66;03m# load the XGBoost library globally\u001b[39;00m\n\u001b[0;32m--> 231\u001b[0m _LIB \u001b[38;5;241m=\u001b[39m \u001b[43m_load_lib\u001b[49m\u001b[43m(\u001b[49m\u001b[43m)\u001b[49m\n\u001b[1;32m    234\u001b[0m \u001b[38;5;28;01mdef\u001b[39;00m \u001b[38;5;21m_check_call\u001b[39m(ret: \u001b[38;5;28mint\u001b[39m) \u001b[38;5;241m-\u001b[39m\u001b[38;5;241m>\u001b[39m \u001b[38;5;28;01mNone\u001b[39;00m:\n\u001b[1;32m    235\u001b[0m     \u001b[38;5;124;03m\"\"\"Check the return value of C API call\u001b[39;00m\n\u001b[1;32m    236\u001b[0m \n\u001b[1;32m    237\u001b[0m \u001b[38;5;124;03m    This function will raise exception when error occurs.\u001b[39;00m\n\u001b[0;32m   (...)\u001b[0m\n\u001b[1;32m    243\u001b[0m \u001b[38;5;124;03m        return value from API calls\u001b[39;00m\n\u001b[1;32m    244\u001b[0m \u001b[38;5;124;03m    \"\"\"\u001b[39;00m\n",
      "File \u001b[0;32m/opt/conda/lib/python3.8/site-packages/xgboost/core.py:218\u001b[0m, in \u001b[0;36m_load_lib\u001b[0;34m()\u001b[0m\n\u001b[1;32m    215\u001b[0m         pyver_str \u001b[38;5;241m=\u001b[39m \u001b[38;5;124m\"\u001b[39m\u001b[38;5;124m.\u001b[39m\u001b[38;5;124m\"\u001b[39m\u001b[38;5;241m.\u001b[39mjoin((\u001b[38;5;28mstr\u001b[39m(v) \u001b[38;5;28;01mfor\u001b[39;00m v \u001b[38;5;129;01min\u001b[39;00m pyver))\n\u001b[1;32m    216\u001b[0m         libver_str \u001b[38;5;241m=\u001b[39m \u001b[38;5;124m\"\u001b[39m\u001b[38;5;124m.\u001b[39m\u001b[38;5;124m\"\u001b[39m\u001b[38;5;241m.\u001b[39mjoin((\u001b[38;5;28mstr\u001b[39m(v) \u001b[38;5;28;01mfor\u001b[39;00m v \u001b[38;5;129;01min\u001b[39;00m libver))\n\u001b[1;32m    217\u001b[0m         msg \u001b[38;5;241m=\u001b[39m (\n\u001b[0;32m--> 218\u001b[0m             \u001b[38;5;124m\"\u001b[39m\u001b[38;5;124mMismatched version between the Python package and the native shared \u001b[39m\u001b[38;5;124m\"\u001b[39m\n\u001b[1;32m    219\u001b[0m             \u001b[38;5;124mf\u001b[39m\u001b[38;5;124m\"\"\"\u001b[39m\u001b[38;5;124mobject.  Python package version: \u001b[39m\u001b[38;5;132;01m{\u001b[39;00mpyver_str\u001b[38;5;132;01m}\u001b[39;00m\u001b[38;5;124m. Shared object \u001b[39m\u001b[38;5;124m\"\"\"\u001b[39m\n\u001b[1;32m    220\u001b[0m             \u001b[38;5;124mf\u001b[39m\u001b[38;5;124m\"\"\"\u001b[39m\u001b[38;5;124mversion: \u001b[39m\u001b[38;5;132;01m{\u001b[39;00mlibver_str\u001b[38;5;132;01m}\u001b[39;00m\u001b[38;5;124m. Shared object is loaded from: \u001b[39m\u001b[38;5;132;01m{\u001b[39;00mlib\u001b[38;5;241m.\u001b[39mpath\u001b[38;5;132;01m}\u001b[39;00m\u001b[38;5;124m.\u001b[39m\n\u001b[1;32m    221\u001b[0m \u001b[38;5;124mLikely cause:\u001b[39m\n\u001b[1;32m    222\u001b[0m \u001b[38;5;124m  * XGBoost is first installed with anaconda then upgraded with pip. To fix it \u001b[39m\u001b[38;5;124m\"\"\"\u001b[39m\n\u001b[1;32m    223\u001b[0m             \u001b[38;5;124m\"\u001b[39m\u001b[38;5;124mplease remove one of the installations.\u001b[39m\u001b[38;5;124m\"\u001b[39m\n\u001b[1;32m    224\u001b[0m         )\n\u001b[1;32m    225\u001b[0m         \u001b[38;5;28;01mraise\u001b[39;00m \u001b[38;5;167;01mValueError\u001b[39;00m(msg)\n\u001b[1;32m    227\u001b[0m     \u001b[38;5;28;01mreturn\u001b[39;00m lib\n",
      "File \u001b[0;32m/opt/conda/lib/python3.8/ctypes/__init__.py:386\u001b[0m, in \u001b[0;36mCDLL.__getattr__\u001b[0;34m(self, name)\u001b[0m\n\u001b[1;32m    384\u001b[0m \u001b[38;5;28;01mif\u001b[39;00m name\u001b[38;5;241m.\u001b[39mstartswith(\u001b[38;5;124m'\u001b[39m\u001b[38;5;124m__\u001b[39m\u001b[38;5;124m'\u001b[39m) \u001b[38;5;129;01mand\u001b[39;00m name\u001b[38;5;241m.\u001b[39mendswith(\u001b[38;5;124m'\u001b[39m\u001b[38;5;124m__\u001b[39m\u001b[38;5;124m'\u001b[39m):\n\u001b[1;32m    385\u001b[0m     \u001b[38;5;28;01mraise\u001b[39;00m \u001b[38;5;167;01mAttributeError\u001b[39;00m(name)\n\u001b[0;32m--> 386\u001b[0m func \u001b[38;5;241m=\u001b[39m \u001b[38;5;28;43mself\u001b[39;49m\u001b[38;5;241;43m.\u001b[39;49m\u001b[38;5;21;43m__getitem__\u001b[39;49m\u001b[43m(\u001b[49m\u001b[43mname\u001b[49m\u001b[43m)\u001b[49m\n\u001b[1;32m    387\u001b[0m \u001b[38;5;28msetattr\u001b[39m(\u001b[38;5;28mself\u001b[39m, name, func)\n\u001b[1;32m    388\u001b[0m \u001b[38;5;28;01mreturn\u001b[39;00m func\n",
      "File \u001b[0;32m/opt/conda/lib/python3.8/ctypes/__init__.py:391\u001b[0m, in \u001b[0;36mCDLL.__getitem__\u001b[0;34m(self, name_or_ordinal)\u001b[0m\n\u001b[1;32m    390\u001b[0m \u001b[38;5;28;01mdef\u001b[39;00m \u001b[38;5;21m__getitem__\u001b[39m(\u001b[38;5;28mself\u001b[39m, name_or_ordinal):\n\u001b[0;32m--> 391\u001b[0m     func \u001b[38;5;241m=\u001b[39m \u001b[38;5;28;43mself\u001b[39;49m\u001b[38;5;241;43m.\u001b[39;49m\u001b[43m_FuncPtr\u001b[49m\u001b[43m(\u001b[49m\u001b[43m(\u001b[49m\u001b[43mname_or_ordinal\u001b[49m\u001b[43m,\u001b[49m\u001b[43m \u001b[49m\u001b[38;5;28;43mself\u001b[39;49m\u001b[43m)\u001b[49m\u001b[43m)\u001b[49m\n\u001b[1;32m    392\u001b[0m     \u001b[38;5;28;01mif\u001b[39;00m \u001b[38;5;129;01mnot\u001b[39;00m \u001b[38;5;28misinstance\u001b[39m(name_or_ordinal, \u001b[38;5;28mint\u001b[39m):\n\u001b[1;32m    393\u001b[0m         func\u001b[38;5;241m.\u001b[39m\u001b[38;5;18m__name__\u001b[39m \u001b[38;5;241m=\u001b[39m name_or_ordinal\n",
      "\u001b[0;31mAttributeError\u001b[0m: /opt/conda/lib/libxgboost.so: undefined symbol: path"
     ]
    }
   ],
   "source": [
    "import xgboost"
   ]
  },
  {
   "cell_type": "code",
   "execution_count": 44,
   "id": "0214cdbe-1cd2-4e31-b079-052de5d11a7a",
   "metadata": {},
   "outputs": [
    {
     "ename": "AttributeError",
     "evalue": "/opt/conda/lib/libxgboost.so: undefined symbol: path",
     "output_type": "error",
     "traceback": [
      "\u001b[0;31m---------------------------------------------------------------------------\u001b[0m",
      "\u001b[0;31mAttributeError\u001b[0m                            Traceback (most recent call last)",
      "Input \u001b[0;32mIn [44]\u001b[0m, in \u001b[0;36m<cell line: 1>\u001b[0;34m()\u001b[0m\n\u001b[0;32m----> 1\u001b[0m \u001b[38;5;28;01mfrom\u001b[39;00m \u001b[38;5;21;01mxgboost\u001b[39;00m \u001b[38;5;28;01mimport\u001b[39;00m XGBClassifier\n",
      "File \u001b[0;32m/opt/conda/lib/python3.8/site-packages/xgboost/__init__.py:6\u001b[0m, in \u001b[0;36m<module>\u001b[0;34m\u001b[0m\n\u001b[1;32m      1\u001b[0m \u001b[38;5;124;03m\"\"\"XGBoost: eXtreme Gradient Boosting library.\u001b[39;00m\n\u001b[1;32m      2\u001b[0m \n\u001b[1;32m      3\u001b[0m \u001b[38;5;124;03mContributors: https://github.com/dmlc/xgboost/blob/master/CONTRIBUTORS.md\u001b[39;00m\n\u001b[1;32m      4\u001b[0m \u001b[38;5;124;03m\"\"\"\u001b[39;00m\n\u001b[0;32m----> 6\u001b[0m \u001b[38;5;28;01mfrom\u001b[39;00m \u001b[38;5;21;01m.\u001b[39;00m\u001b[38;5;21;01mcore\u001b[39;00m \u001b[38;5;28;01mimport\u001b[39;00m (\n\u001b[1;32m      7\u001b[0m     DMatrix,\n\u001b[1;32m      8\u001b[0m     DeviceQuantileDMatrix,\n\u001b[1;32m      9\u001b[0m     Booster,\n\u001b[1;32m     10\u001b[0m     DataIter,\n\u001b[1;32m     11\u001b[0m     build_info,\n\u001b[1;32m     12\u001b[0m     _py_version,\n\u001b[1;32m     13\u001b[0m )\n\u001b[1;32m     14\u001b[0m \u001b[38;5;28;01mfrom\u001b[39;00m \u001b[38;5;21;01m.\u001b[39;00m\u001b[38;5;21;01mtraining\u001b[39;00m \u001b[38;5;28;01mimport\u001b[39;00m train, cv\n\u001b[1;32m     15\u001b[0m \u001b[38;5;28;01mfrom\u001b[39;00m \u001b[38;5;21;01m.\u001b[39;00m \u001b[38;5;28;01mimport\u001b[39;00m rabit  \u001b[38;5;66;03m# noqa\u001b[39;00m\n",
      "File \u001b[0;32m/opt/conda/lib/python3.8/site-packages/xgboost/core.py:231\u001b[0m, in \u001b[0;36m<module>\u001b[0;34m\u001b[0m\n\u001b[1;32m    227\u001b[0m     \u001b[38;5;28;01mreturn\u001b[39;00m lib\n\u001b[1;32m    230\u001b[0m \u001b[38;5;66;03m# load the XGBoost library globally\u001b[39;00m\n\u001b[0;32m--> 231\u001b[0m _LIB \u001b[38;5;241m=\u001b[39m \u001b[43m_load_lib\u001b[49m\u001b[43m(\u001b[49m\u001b[43m)\u001b[49m\n\u001b[1;32m    234\u001b[0m \u001b[38;5;28;01mdef\u001b[39;00m \u001b[38;5;21m_check_call\u001b[39m(ret: \u001b[38;5;28mint\u001b[39m) \u001b[38;5;241m-\u001b[39m\u001b[38;5;241m>\u001b[39m \u001b[38;5;28;01mNone\u001b[39;00m:\n\u001b[1;32m    235\u001b[0m     \u001b[38;5;124;03m\"\"\"Check the return value of C API call\u001b[39;00m\n\u001b[1;32m    236\u001b[0m \n\u001b[1;32m    237\u001b[0m \u001b[38;5;124;03m    This function will raise exception when error occurs.\u001b[39;00m\n\u001b[0;32m   (...)\u001b[0m\n\u001b[1;32m    243\u001b[0m \u001b[38;5;124;03m        return value from API calls\u001b[39;00m\n\u001b[1;32m    244\u001b[0m \u001b[38;5;124;03m    \"\"\"\u001b[39;00m\n",
      "File \u001b[0;32m/opt/conda/lib/python3.8/site-packages/xgboost/core.py:218\u001b[0m, in \u001b[0;36m_load_lib\u001b[0;34m()\u001b[0m\n\u001b[1;32m    215\u001b[0m         pyver_str \u001b[38;5;241m=\u001b[39m \u001b[38;5;124m\"\u001b[39m\u001b[38;5;124m.\u001b[39m\u001b[38;5;124m\"\u001b[39m\u001b[38;5;241m.\u001b[39mjoin((\u001b[38;5;28mstr\u001b[39m(v) \u001b[38;5;28;01mfor\u001b[39;00m v \u001b[38;5;129;01min\u001b[39;00m pyver))\n\u001b[1;32m    216\u001b[0m         libver_str \u001b[38;5;241m=\u001b[39m \u001b[38;5;124m\"\u001b[39m\u001b[38;5;124m.\u001b[39m\u001b[38;5;124m\"\u001b[39m\u001b[38;5;241m.\u001b[39mjoin((\u001b[38;5;28mstr\u001b[39m(v) \u001b[38;5;28;01mfor\u001b[39;00m v \u001b[38;5;129;01min\u001b[39;00m libver))\n\u001b[1;32m    217\u001b[0m         msg \u001b[38;5;241m=\u001b[39m (\n\u001b[0;32m--> 218\u001b[0m             \u001b[38;5;124m\"\u001b[39m\u001b[38;5;124mMismatched version between the Python package and the native shared \u001b[39m\u001b[38;5;124m\"\u001b[39m\n\u001b[1;32m    219\u001b[0m             \u001b[38;5;124mf\u001b[39m\u001b[38;5;124m\"\"\"\u001b[39m\u001b[38;5;124mobject.  Python package version: \u001b[39m\u001b[38;5;132;01m{\u001b[39;00mpyver_str\u001b[38;5;132;01m}\u001b[39;00m\u001b[38;5;124m. Shared object \u001b[39m\u001b[38;5;124m\"\"\"\u001b[39m\n\u001b[1;32m    220\u001b[0m             \u001b[38;5;124mf\u001b[39m\u001b[38;5;124m\"\"\"\u001b[39m\u001b[38;5;124mversion: \u001b[39m\u001b[38;5;132;01m{\u001b[39;00mlibver_str\u001b[38;5;132;01m}\u001b[39;00m\u001b[38;5;124m. Shared object is loaded from: \u001b[39m\u001b[38;5;132;01m{\u001b[39;00mlib\u001b[38;5;241m.\u001b[39mpath\u001b[38;5;132;01m}\u001b[39;00m\u001b[38;5;124m.\u001b[39m\n\u001b[1;32m    221\u001b[0m \u001b[38;5;124mLikely cause:\u001b[39m\n\u001b[1;32m    222\u001b[0m \u001b[38;5;124m  * XGBoost is first installed with anaconda then upgraded with pip. To fix it \u001b[39m\u001b[38;5;124m\"\"\"\u001b[39m\n\u001b[1;32m    223\u001b[0m             \u001b[38;5;124m\"\u001b[39m\u001b[38;5;124mplease remove one of the installations.\u001b[39m\u001b[38;5;124m\"\u001b[39m\n\u001b[1;32m    224\u001b[0m         )\n\u001b[1;32m    225\u001b[0m         \u001b[38;5;28;01mraise\u001b[39;00m \u001b[38;5;167;01mValueError\u001b[39;00m(msg)\n\u001b[1;32m    227\u001b[0m     \u001b[38;5;28;01mreturn\u001b[39;00m lib\n",
      "File \u001b[0;32m/opt/conda/lib/python3.8/ctypes/__init__.py:386\u001b[0m, in \u001b[0;36mCDLL.__getattr__\u001b[0;34m(self, name)\u001b[0m\n\u001b[1;32m    384\u001b[0m \u001b[38;5;28;01mif\u001b[39;00m name\u001b[38;5;241m.\u001b[39mstartswith(\u001b[38;5;124m'\u001b[39m\u001b[38;5;124m__\u001b[39m\u001b[38;5;124m'\u001b[39m) \u001b[38;5;129;01mand\u001b[39;00m name\u001b[38;5;241m.\u001b[39mendswith(\u001b[38;5;124m'\u001b[39m\u001b[38;5;124m__\u001b[39m\u001b[38;5;124m'\u001b[39m):\n\u001b[1;32m    385\u001b[0m     \u001b[38;5;28;01mraise\u001b[39;00m \u001b[38;5;167;01mAttributeError\u001b[39;00m(name)\n\u001b[0;32m--> 386\u001b[0m func \u001b[38;5;241m=\u001b[39m \u001b[38;5;28;43mself\u001b[39;49m\u001b[38;5;241;43m.\u001b[39;49m\u001b[38;5;21;43m__getitem__\u001b[39;49m\u001b[43m(\u001b[49m\u001b[43mname\u001b[49m\u001b[43m)\u001b[49m\n\u001b[1;32m    387\u001b[0m \u001b[38;5;28msetattr\u001b[39m(\u001b[38;5;28mself\u001b[39m, name, func)\n\u001b[1;32m    388\u001b[0m \u001b[38;5;28;01mreturn\u001b[39;00m func\n",
      "File \u001b[0;32m/opt/conda/lib/python3.8/ctypes/__init__.py:391\u001b[0m, in \u001b[0;36mCDLL.__getitem__\u001b[0;34m(self, name_or_ordinal)\u001b[0m\n\u001b[1;32m    390\u001b[0m \u001b[38;5;28;01mdef\u001b[39;00m \u001b[38;5;21m__getitem__\u001b[39m(\u001b[38;5;28mself\u001b[39m, name_or_ordinal):\n\u001b[0;32m--> 391\u001b[0m     func \u001b[38;5;241m=\u001b[39m \u001b[38;5;28;43mself\u001b[39;49m\u001b[38;5;241;43m.\u001b[39;49m\u001b[43m_FuncPtr\u001b[49m\u001b[43m(\u001b[49m\u001b[43m(\u001b[49m\u001b[43mname_or_ordinal\u001b[49m\u001b[43m,\u001b[49m\u001b[43m \u001b[49m\u001b[38;5;28;43mself\u001b[39;49m\u001b[43m)\u001b[49m\u001b[43m)\u001b[49m\n\u001b[1;32m    392\u001b[0m     \u001b[38;5;28;01mif\u001b[39;00m \u001b[38;5;129;01mnot\u001b[39;00m \u001b[38;5;28misinstance\u001b[39m(name_or_ordinal, \u001b[38;5;28mint\u001b[39m):\n\u001b[1;32m    393\u001b[0m         func\u001b[38;5;241m.\u001b[39m\u001b[38;5;18m__name__\u001b[39m \u001b[38;5;241m=\u001b[39m name_or_ordinal\n",
      "\u001b[0;31mAttributeError\u001b[0m: /opt/conda/lib/libxgboost.so: undefined symbol: path"
     ]
    }
   ],
   "source": [
    "from xgboost import XGBClassifier"
   ]
  },
  {
   "cell_type": "code",
   "execution_count": 43,
   "id": "1fbac315-5ab2-4b8b-88b1-ba8a32adbddc",
   "metadata": {},
   "outputs": [
    {
     "ename": "AttributeError",
     "evalue": "/opt/conda/lib/libxgboost.so: undefined symbol: path",
     "output_type": "error",
     "traceback": [
      "\u001b[0;31m---------------------------------------------------------------------------\u001b[0m",
      "\u001b[0;31mAttributeError\u001b[0m                            Traceback (most recent call last)",
      "Input \u001b[0;32mIn [43]\u001b[0m, in \u001b[0;36m<cell line: 1>\u001b[0;34m()\u001b[0m\n\u001b[0;32m----> 1\u001b[0m \u001b[38;5;28;01mfrom\u001b[39;00m \u001b[38;5;21;01mxgboost\u001b[39;00m \u001b[38;5;28;01mimport\u001b[39;00m XGBClassifier\n\u001b[1;32m      3\u001b[0m clf_xgb \u001b[38;5;241m=\u001b[39m XGBClassifier(max_depth\u001b[38;5;241m=\u001b[39m\u001b[38;5;241m8\u001b[39m,\n\u001b[1;32m      4\u001b[0m     learning_rate\u001b[38;5;241m=\u001b[39m\u001b[38;5;241m0.1\u001b[39m,\n\u001b[1;32m      5\u001b[0m     n_estimators\u001b[38;5;241m=\u001b[39mn_estimators,\n\u001b[0;32m   (...)\u001b[0m\n\u001b[1;32m     23\u001b[0m     random_state\u001b[38;5;241m=\u001b[39m\u001b[38;5;241m0\u001b[39m,\n\u001b[1;32m     24\u001b[0m     seed\u001b[38;5;241m=\u001b[39m\u001b[38;5;28;01mNone\u001b[39;00m,)\n",
      "File \u001b[0;32m/opt/conda/lib/python3.8/site-packages/xgboost/__init__.py:6\u001b[0m, in \u001b[0;36m<module>\u001b[0;34m\u001b[0m\n\u001b[1;32m      1\u001b[0m \u001b[38;5;124;03m\"\"\"XGBoost: eXtreme Gradient Boosting library.\u001b[39;00m\n\u001b[1;32m      2\u001b[0m \n\u001b[1;32m      3\u001b[0m \u001b[38;5;124;03mContributors: https://github.com/dmlc/xgboost/blob/master/CONTRIBUTORS.md\u001b[39;00m\n\u001b[1;32m      4\u001b[0m \u001b[38;5;124;03m\"\"\"\u001b[39;00m\n\u001b[0;32m----> 6\u001b[0m \u001b[38;5;28;01mfrom\u001b[39;00m \u001b[38;5;21;01m.\u001b[39;00m\u001b[38;5;21;01mcore\u001b[39;00m \u001b[38;5;28;01mimport\u001b[39;00m (\n\u001b[1;32m      7\u001b[0m     DMatrix,\n\u001b[1;32m      8\u001b[0m     DeviceQuantileDMatrix,\n\u001b[1;32m      9\u001b[0m     Booster,\n\u001b[1;32m     10\u001b[0m     DataIter,\n\u001b[1;32m     11\u001b[0m     build_info,\n\u001b[1;32m     12\u001b[0m     _py_version,\n\u001b[1;32m     13\u001b[0m )\n\u001b[1;32m     14\u001b[0m \u001b[38;5;28;01mfrom\u001b[39;00m \u001b[38;5;21;01m.\u001b[39;00m\u001b[38;5;21;01mtraining\u001b[39;00m \u001b[38;5;28;01mimport\u001b[39;00m train, cv\n\u001b[1;32m     15\u001b[0m \u001b[38;5;28;01mfrom\u001b[39;00m \u001b[38;5;21;01m.\u001b[39;00m \u001b[38;5;28;01mimport\u001b[39;00m rabit  \u001b[38;5;66;03m# noqa\u001b[39;00m\n",
      "File \u001b[0;32m/opt/conda/lib/python3.8/site-packages/xgboost/core.py:231\u001b[0m, in \u001b[0;36m<module>\u001b[0;34m\u001b[0m\n\u001b[1;32m    227\u001b[0m     \u001b[38;5;28;01mreturn\u001b[39;00m lib\n\u001b[1;32m    230\u001b[0m \u001b[38;5;66;03m# load the XGBoost library globally\u001b[39;00m\n\u001b[0;32m--> 231\u001b[0m _LIB \u001b[38;5;241m=\u001b[39m \u001b[43m_load_lib\u001b[49m\u001b[43m(\u001b[49m\u001b[43m)\u001b[49m\n\u001b[1;32m    234\u001b[0m \u001b[38;5;28;01mdef\u001b[39;00m \u001b[38;5;21m_check_call\u001b[39m(ret: \u001b[38;5;28mint\u001b[39m) \u001b[38;5;241m-\u001b[39m\u001b[38;5;241m>\u001b[39m \u001b[38;5;28;01mNone\u001b[39;00m:\n\u001b[1;32m    235\u001b[0m     \u001b[38;5;124;03m\"\"\"Check the return value of C API call\u001b[39;00m\n\u001b[1;32m    236\u001b[0m \n\u001b[1;32m    237\u001b[0m \u001b[38;5;124;03m    This function will raise exception when error occurs.\u001b[39;00m\n\u001b[0;32m   (...)\u001b[0m\n\u001b[1;32m    243\u001b[0m \u001b[38;5;124;03m        return value from API calls\u001b[39;00m\n\u001b[1;32m    244\u001b[0m \u001b[38;5;124;03m    \"\"\"\u001b[39;00m\n",
      "File \u001b[0;32m/opt/conda/lib/python3.8/site-packages/xgboost/core.py:218\u001b[0m, in \u001b[0;36m_load_lib\u001b[0;34m()\u001b[0m\n\u001b[1;32m    215\u001b[0m         pyver_str \u001b[38;5;241m=\u001b[39m \u001b[38;5;124m\"\u001b[39m\u001b[38;5;124m.\u001b[39m\u001b[38;5;124m\"\u001b[39m\u001b[38;5;241m.\u001b[39mjoin((\u001b[38;5;28mstr\u001b[39m(v) \u001b[38;5;28;01mfor\u001b[39;00m v \u001b[38;5;129;01min\u001b[39;00m pyver))\n\u001b[1;32m    216\u001b[0m         libver_str \u001b[38;5;241m=\u001b[39m \u001b[38;5;124m\"\u001b[39m\u001b[38;5;124m.\u001b[39m\u001b[38;5;124m\"\u001b[39m\u001b[38;5;241m.\u001b[39mjoin((\u001b[38;5;28mstr\u001b[39m(v) \u001b[38;5;28;01mfor\u001b[39;00m v \u001b[38;5;129;01min\u001b[39;00m libver))\n\u001b[1;32m    217\u001b[0m         msg \u001b[38;5;241m=\u001b[39m (\n\u001b[0;32m--> 218\u001b[0m             \u001b[38;5;124m\"\u001b[39m\u001b[38;5;124mMismatched version between the Python package and the native shared \u001b[39m\u001b[38;5;124m\"\u001b[39m\n\u001b[1;32m    219\u001b[0m             \u001b[38;5;124mf\u001b[39m\u001b[38;5;124m\"\"\"\u001b[39m\u001b[38;5;124mobject.  Python package version: \u001b[39m\u001b[38;5;132;01m{\u001b[39;00mpyver_str\u001b[38;5;132;01m}\u001b[39;00m\u001b[38;5;124m. Shared object \u001b[39m\u001b[38;5;124m\"\"\"\u001b[39m\n\u001b[1;32m    220\u001b[0m             \u001b[38;5;124mf\u001b[39m\u001b[38;5;124m\"\"\"\u001b[39m\u001b[38;5;124mversion: \u001b[39m\u001b[38;5;132;01m{\u001b[39;00mlibver_str\u001b[38;5;132;01m}\u001b[39;00m\u001b[38;5;124m. Shared object is loaded from: \u001b[39m\u001b[38;5;132;01m{\u001b[39;00mlib\u001b[38;5;241m.\u001b[39mpath\u001b[38;5;132;01m}\u001b[39;00m\u001b[38;5;124m.\u001b[39m\n\u001b[1;32m    221\u001b[0m \u001b[38;5;124mLikely cause:\u001b[39m\n\u001b[1;32m    222\u001b[0m \u001b[38;5;124m  * XGBoost is first installed with anaconda then upgraded with pip. To fix it \u001b[39m\u001b[38;5;124m\"\"\"\u001b[39m\n\u001b[1;32m    223\u001b[0m             \u001b[38;5;124m\"\u001b[39m\u001b[38;5;124mplease remove one of the installations.\u001b[39m\u001b[38;5;124m\"\u001b[39m\n\u001b[1;32m    224\u001b[0m         )\n\u001b[1;32m    225\u001b[0m         \u001b[38;5;28;01mraise\u001b[39;00m \u001b[38;5;167;01mValueError\u001b[39;00m(msg)\n\u001b[1;32m    227\u001b[0m     \u001b[38;5;28;01mreturn\u001b[39;00m lib\n",
      "File \u001b[0;32m/opt/conda/lib/python3.8/ctypes/__init__.py:386\u001b[0m, in \u001b[0;36mCDLL.__getattr__\u001b[0;34m(self, name)\u001b[0m\n\u001b[1;32m    384\u001b[0m \u001b[38;5;28;01mif\u001b[39;00m name\u001b[38;5;241m.\u001b[39mstartswith(\u001b[38;5;124m'\u001b[39m\u001b[38;5;124m__\u001b[39m\u001b[38;5;124m'\u001b[39m) \u001b[38;5;129;01mand\u001b[39;00m name\u001b[38;5;241m.\u001b[39mendswith(\u001b[38;5;124m'\u001b[39m\u001b[38;5;124m__\u001b[39m\u001b[38;5;124m'\u001b[39m):\n\u001b[1;32m    385\u001b[0m     \u001b[38;5;28;01mraise\u001b[39;00m \u001b[38;5;167;01mAttributeError\u001b[39;00m(name)\n\u001b[0;32m--> 386\u001b[0m func \u001b[38;5;241m=\u001b[39m \u001b[38;5;28;43mself\u001b[39;49m\u001b[38;5;241;43m.\u001b[39;49m\u001b[38;5;21;43m__getitem__\u001b[39;49m\u001b[43m(\u001b[49m\u001b[43mname\u001b[49m\u001b[43m)\u001b[49m\n\u001b[1;32m    387\u001b[0m \u001b[38;5;28msetattr\u001b[39m(\u001b[38;5;28mself\u001b[39m, name, func)\n\u001b[1;32m    388\u001b[0m \u001b[38;5;28;01mreturn\u001b[39;00m func\n",
      "File \u001b[0;32m/opt/conda/lib/python3.8/ctypes/__init__.py:391\u001b[0m, in \u001b[0;36mCDLL.__getitem__\u001b[0;34m(self, name_or_ordinal)\u001b[0m\n\u001b[1;32m    390\u001b[0m \u001b[38;5;28;01mdef\u001b[39;00m \u001b[38;5;21m__getitem__\u001b[39m(\u001b[38;5;28mself\u001b[39m, name_or_ordinal):\n\u001b[0;32m--> 391\u001b[0m     func \u001b[38;5;241m=\u001b[39m \u001b[38;5;28;43mself\u001b[39;49m\u001b[38;5;241;43m.\u001b[39;49m\u001b[43m_FuncPtr\u001b[49m\u001b[43m(\u001b[49m\u001b[43m(\u001b[49m\u001b[43mname_or_ordinal\u001b[49m\u001b[43m,\u001b[49m\u001b[43m \u001b[49m\u001b[38;5;28;43mself\u001b[39;49m\u001b[43m)\u001b[49m\u001b[43m)\u001b[49m\n\u001b[1;32m    392\u001b[0m     \u001b[38;5;28;01mif\u001b[39;00m \u001b[38;5;129;01mnot\u001b[39;00m \u001b[38;5;28misinstance\u001b[39m(name_or_ordinal, \u001b[38;5;28mint\u001b[39m):\n\u001b[1;32m    393\u001b[0m         func\u001b[38;5;241m.\u001b[39m\u001b[38;5;18m__name__\u001b[39m \u001b[38;5;241m=\u001b[39m name_or_ordinal\n",
      "\u001b[0;31mAttributeError\u001b[0m: /opt/conda/lib/libxgboost.so: undefined symbol: path"
     ]
    }
   ],
   "source": [
    "clf_xgb = XGBClassifier(max_depth=8,\n",
    "    learning_rate=0.1,\n",
    "    n_estimators=n_estimators,\n",
    "    verbosity=0,\n",
    "    silent=None,\n",
    "    objective=\"multi:softmax\",\n",
    "    booster='gbtree',\n",
    "    n_jobs=-1,\n",
    "    nthread=None,\n",
    "    gamma=0,\n",
    "    min_child_weight=1,\n",
    "    max_delta_step=0,\n",
    "    subsample=0.7,\n",
    "    colsample_bytree=1,\n",
    "    colsample_bylevel=1,\n",
    "    colsample_bynode=1,\n",
    "    reg_alpha=0,\n",
    "    reg_lambda=1,\n",
    "    scale_pos_weight=1,\n",
    "    base_score=0.5,\n",
    "    random_state=0,\n",
    "    seed=None,)"
   ]
  },
  {
   "cell_type": "code",
   "execution_count": null,
   "id": "5fa10521-8be1-4c27-a7f2-3d2914853fad",
   "metadata": {},
   "outputs": [],
   "source": [
    "clf_xgb.fit(X_train, y_train,\n",
    "            eval_set=[(X_valid, y_valid)],\n",
    "            early_stopping_rounds=40,\n",
    "            verbose=10)"
   ]
  }
 ],
 "metadata": {
  "kernelspec": {
   "display_name": "Python 3 (ipykernel)",
   "language": "python",
   "name": "python3"
  },
  "language_info": {
   "codemirror_mode": {
    "name": "ipython",
    "version": 3
   },
   "file_extension": ".py",
   "mimetype": "text/x-python",
   "name": "python",
   "nbconvert_exporter": "python",
   "pygments_lexer": "ipython3",
   "version": "3.8.13"
  }
 },
 "nbformat": 4,
 "nbformat_minor": 5
}
