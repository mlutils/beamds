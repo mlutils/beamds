{
 "cells": [
  {
   "cell_type": "code",
   "execution_count": 1,
   "id": "ca410dc1-0814-4397-ba4a-ed802493e0b0",
   "metadata": {},
   "outputs": [],
   "source": [
    "%load_ext autoreload\n",
    "%load_ext tensorboard\n",
    "%autoreload 2\n",
    "\n",
    "import sys\n",
    "sys.path.append('..')\n",
    "\n",
    "import torch\n",
    "import torchvision\n",
    "import torch.nn.functional as F\n",
    "from torch import nn\n",
    "from sklearn.metrics import precision_recall_fscore_support\n",
    "import numpy as np\n",
    "import os\n",
    "\n",
    "from src.beam import beam_arguments, Experiment, get_beam_parser\n",
    "from src.beam import UniversalDataset, UniversalBatchSampler\n",
    "from src.beam import Algorithm, PackedFolds\n",
    "from src.beam import DataTensor, BeamOptimizer, beam_logger\n",
    "\n",
    "from torchvision import transforms\n",
    "import torchvision\n",
    "from ray import tune\n",
    "\n",
    "import matplotlib.pyplot as plt"
   ]
  },
  {
   "cell_type": "markdown",
   "id": "c56fa4ba-30c7-4430-a44c-c8c154bbbed1",
   "metadata": {},
   "source": [
    "# Deep Learning Projects with Beam: a Step-by-Step Guide"
   ]
  },
  {
   "cell_type": "markdown",
   "id": "ebdfb50b-1e4f-4165-98cd-0d888fd4eb0b",
   "metadata": {},
   "source": [
    "In this tutorial we'll cover the best practices in building a new beam project. We'll go over all the essential steps when building a project from scratch and using both Jupyter and Pycharm as IDE and developement tools.\n",
    "\n",
    "Usually, you'll get the most out of beam if you **build your project with beam** and avoid porting your existing project to beam. Therefore, we hope that after completing this guide, your first choice will always be to start a beam project from scratch. \n",
    "\n",
    "So, let's start."
   ]
  },
  {
   "cell_type": "markdown",
   "id": "610ac087-9c3e-4407-920e-26e4300bccbe",
   "metadata": {},
   "source": [
    "For this tutorial we will use the CIFAR10 classification task.\n",
    "\n",
    "Our steps will be:\n",
    "\n",
    "1. Setting up an experiment. Optional: building an argument parser.\n",
    "2. Building a Dataset.\n",
    "3. Building a neural-net.\n",
    "4. Building an algorithm.\n",
    "5. Training your algorithm with default parameters.\n",
    "6. Optimizing your hyperparameters with the Study class."
   ]
  },
  {
   "cell_type": "markdown",
   "id": "9f343ade-02b7-4a50-b794-5063c30be8c5",
   "metadata": {},
   "source": [
    "## 1. Setting up an experiment"
   ]
  },
  {
   "cell_type": "markdown",
   "id": "ddd6574f-fadf-4acb-8349-781cefd43439",
   "metadata": {},
   "source": [
    "Before setting up the experiment, lets define two directories: ```path_to_data``` which will contain the dataset information and ```root_dir``` which will contain the project results and log files"
   ]
  },
  {
   "cell_type": "code",
   "execution_count": 2,
   "id": "2e861685-54cb-4585-8cfc-f8cb78b7e2fc",
   "metadata": {},
   "outputs": [],
   "source": [
    "# path_to_data = '/localdata/elads/data/datasets/cifar10'\n",
    "# root_dir = '/localdata/elads/data/cifar10'\n",
    "\n",
    "path_to_data = '/home/shared/data/dataset/cifar10'\n",
    "root_dir = '/home/shared/data/results/cifar10'"
   ]
  },
  {
   "cell_type": "markdown",
   "id": "2a65907a-c82f-4ab4-b063-428b78024995",
   "metadata": {},
   "source": [
    "The beam experiment class object, deals with all the trifles, i.e., parts in the training process which are not directly related to algorithm. This includes:   \n",
    "1. Storing the Hyperparameters.\n",
    "2. Constructing the experimeny logging directory and storing the code, the trained model and a log file.\n",
    "3. Printing results to the screen, storing them into the disk and sending them to a tensorboard writer.\n",
    "4. managing parallel runs.\n",
    "\n",
    "This design choice helps in maintaining a clean Algorithm class which is not linked to any particular experiment or even ש dataset and can be later directly shiped for deployment without any code refactoring."
   ]
  },
  {
   "cell_type": "markdown",
   "id": "23f94828-1483-49d7-9ec1-f8cb9ed17c45",
   "metadata": {},
   "source": [
    "Our very first beam object would be the experiment hyperparameters. Beam has a set of default hyperparamters and the user may extra hyperparamters on top. If we work in a jupyter notebook, we call ```beam_arguments``` to generate the hyperparameter object. When working natively with python it is best to set the hyperparameters as script arguments."
   ]
  },
  {
   "cell_type": "code",
   "execution_count": 3,
   "id": "4853b7a2-ebc4-4e38-a294-f00e7c60eb1d",
   "metadata": {},
   "outputs": [],
   "source": [
    "hparams = beam_arguments()"
   ]
  },
  {
   "cell_type": "markdown",
   "id": "1f0f82e0-358c-4c32-be0e-10810275de77",
   "metadata": {},
   "source": [
    "User can set existing hyperparameters by passing them as strings or named arguments to the ```beam_arguments``` function. You can also dynamically define new arguments. In the following example we added a few parameters such as ```channels``` and ```activation``` which we are going to use later in our algorithm."
   ]
  },
  {
   "cell_type": "code",
   "execution_count": 4,
   "id": "d269e406-3192-4f15-a221-55c1f10c68b0",
   "metadata": {},
   "outputs": [],
   "source": [
    "hparams = beam_arguments(f\"--project-name=cifar10 --root-dir=/tmp/cifar --algorithm=CIFAR10Algorithm --device=1 --amp --lr-d=1e-2 --batch-size=512\",\n",
    "                      \"--n-epochs=40 --clip-gradient=1000 --parallel=0 --accumulate=1 --no-deterministic\",\n",
    "                      \"--weight-decay=3e-5 --beta1=0.9\", \n",
    "                      path_to_data=path_to_data, dropout=.0, activation='relu', channels=1024, label_smoothing=.2,\n",
    "                      padding=6, gain=.2, turn_point=512, final_point=4096, minimal_gain=.05, temperature=0.05)"
   ]
  },
  {
   "cell_type": "code",
   "execution_count": 5,
   "id": "8b5a03db-a72c-4995-88db-9473a23eec50",
   "metadata": {},
   "outputs": [
    {
     "data": {
      "text/plain": [
       "Namespace(accumulate=1, activation='relu', algorithm='CIFAR10Algorithm', amp=True, batch_size=512, batch_size_eval=None, batch_size_train=None, beta1=0.9, beta2=0.999, channels=1024, clip_gradient=1000.0, cpu_workers=0, deterministic=False, device='1', dropout=0.0, enable_tqdm=True, epoch_length=None, epoch_length_eval=None, epoch_length_train=None, eps=0.0001, expansion_size=10000000, final_point=4096, gain=0.2, half=False, identifier='debug', init='ortho', label_smoothing=0.2, lognet=True, lr_dense=0.01, lr_sparse=0.01, minimal_gain=0.05, mp_port='random', n_epochs=40, override=False, oversample=False, oversampling_weight_factor=1.0, padding=6, parallel=0, path_to_data='/home/shared/data/dataset/cifar10', print_results=True, project_name='cifar10', reload=False, resume=-1, root_dir='/tmp/cifar', scale_epoch_by_batch_size=True, seed=0, split_dataset_seed=5782, store_initial_weights=False, store_networks='logscale', store_results='logscale', temperature=0.05, tensorboard=True, total_steps=1000000, turn_point=512, visualize_results='yes', visualize_weights=True, weight_decay=3e-05)"
      ]
     },
     "execution_count": 5,
     "metadata": {},
     "output_type": "execute_result"
    }
   ],
   "source": [
    "hparams"
   ]
  },
  {
   "cell_type": "markdown",
   "id": "0fa789bf-6c94-45d3-a8ec-2dcdb046aaa8",
   "metadata": {},
   "source": [
    "Based on the generated hyperparameters, we can set up a new experiment:"
   ]
  },
  {
   "cell_type": "code",
   "execution_count": 6,
   "id": "8285f7bc-d73b-4c33-b7e7-25fb14a3b621",
   "metadata": {},
   "outputs": [
    {
     "name": "stdout",
     "output_type": "stream",
     "text": [
      "\u001B[32m2022-07-12 12:44:42\u001B[0m | \u001B[1mINFO    \u001B[0m | \u001B[1mCreating new experiment\u001B[0m\n",
      "\u001B[32m2022-07-12 12:44:42\u001B[0m | \u001B[1mINFO    \u001B[0m | \u001B[1mExperiment directory is: /tmp/cifar/cifar10/CIFAR10Algorithm/debug/0024_20220712_124442\u001B[0m\n",
      "\u001B[32m2022-07-12 12:44:42\u001B[0m | \u001B[1mINFO    \u001B[0m | \u001B[1mbeam project: cifar10\u001B[0m\n",
      "\u001B[32m2022-07-12 12:44:42\u001B[0m | \u001B[1mINFO    \u001B[0m | \u001B[1mExperiment Hyperparameters\u001B[0m\n",
      "\u001B[32m2022-07-12 12:44:42\u001B[0m | \u001B[1mINFO    \u001B[0m | \u001B[1mproject_name: cifar10\u001B[0m\n",
      "\u001B[32m2022-07-12 12:44:42\u001B[0m | \u001B[1mINFO    \u001B[0m | \u001B[1malgorithm: CIFAR10Algorithm\u001B[0m\n",
      "\u001B[32m2022-07-12 12:44:42\u001B[0m | \u001B[1mINFO    \u001B[0m | \u001B[1midentifier: debug\u001B[0m\n",
      "\u001B[32m2022-07-12 12:44:42\u001B[0m | \u001B[1mINFO    \u001B[0m | \u001B[1mmp_port: random\u001B[0m\n",
      "\u001B[32m2022-07-12 12:44:42\u001B[0m | \u001B[1mINFO    \u001B[0m | \u001B[1mroot_dir: /tmp/cifar\u001B[0m\n",
      "\u001B[32m2022-07-12 12:44:42\u001B[0m | \u001B[1mINFO    \u001B[0m | \u001B[1mreload: False\u001B[0m\n",
      "\u001B[32m2022-07-12 12:44:42\u001B[0m | \u001B[1mINFO    \u001B[0m | \u001B[1mresume: -1\u001B[0m\n",
      "\u001B[32m2022-07-12 12:44:42\u001B[0m | \u001B[1mINFO    \u001B[0m | \u001B[1moverride: False\u001B[0m\n",
      "\u001B[32m2022-07-12 12:44:42\u001B[0m | \u001B[1mINFO    \u001B[0m | \u001B[1mcpu_workers: 0\u001B[0m\n",
      "\u001B[32m2022-07-12 12:44:42\u001B[0m | \u001B[1mINFO    \u001B[0m | \u001B[1mdevice: 1\u001B[0m\n",
      "\u001B[32m2022-07-12 12:44:42\u001B[0m | \u001B[1mINFO    \u001B[0m | \u001B[1mparallel: 0\u001B[0m\n",
      "\u001B[32m2022-07-12 12:44:42\u001B[0m | \u001B[1mINFO    \u001B[0m | \u001B[1mtensorboard: True\u001B[0m\n",
      "\u001B[32m2022-07-12 12:44:42\u001B[0m | \u001B[1mINFO    \u001B[0m | \u001B[1mlognet: True\u001B[0m\n",
      "\u001B[32m2022-07-12 12:44:42\u001B[0m | \u001B[1mINFO    \u001B[0m | \u001B[1mdeterministic: False\u001B[0m\n",
      "\u001B[32m2022-07-12 12:44:42\u001B[0m | \u001B[1mINFO    \u001B[0m | \u001B[1mscale_epoch_by_batch_size: True\u001B[0m\n",
      "\u001B[32m2022-07-12 12:44:42\u001B[0m | \u001B[1mINFO    \u001B[0m | \u001B[1mhalf: False\u001B[0m\n",
      "\u001B[32m2022-07-12 12:44:42\u001B[0m | \u001B[1mINFO    \u001B[0m | \u001B[1mamp: True\u001B[0m\n",
      "\u001B[32m2022-07-12 12:44:42\u001B[0m | \u001B[1mINFO    \u001B[0m | \u001B[1mstore_initial_weights: False\u001B[0m\n",
      "\u001B[32m2022-07-12 12:44:42\u001B[0m | \u001B[1mINFO    \u001B[0m | \u001B[1moversample: False\u001B[0m\n",
      "\u001B[32m2022-07-12 12:44:42\u001B[0m | \u001B[1mINFO    \u001B[0m | \u001B[1minit: ortho\u001B[0m\n",
      "\u001B[32m2022-07-12 12:44:42\u001B[0m | \u001B[1mINFO    \u001B[0m | \u001B[1mseed: 0\u001B[0m\n",
      "\u001B[32m2022-07-12 12:44:42\u001B[0m | \u001B[1mINFO    \u001B[0m | \u001B[1msplit_dataset_seed: 5782\u001B[0m\n",
      "\u001B[32m2022-07-12 12:44:42\u001B[0m | \u001B[1mINFO    \u001B[0m | \u001B[1mtotal_steps: 1000000\u001B[0m\n",
      "\u001B[32m2022-07-12 12:44:42\u001B[0m | \u001B[1mINFO    \u001B[0m | \u001B[1mepoch_length: None\u001B[0m\n",
      "\u001B[32m2022-07-12 12:44:42\u001B[0m | \u001B[1mINFO    \u001B[0m | \u001B[1mepoch_length_train: None\u001B[0m\n",
      "\u001B[32m2022-07-12 12:44:42\u001B[0m | \u001B[1mINFO    \u001B[0m | \u001B[1mepoch_length_eval: None\u001B[0m\n",
      "\u001B[32m2022-07-12 12:44:42\u001B[0m | \u001B[1mINFO    \u001B[0m | \u001B[1mn_epochs: 40\u001B[0m\n",
      "\u001B[32m2022-07-12 12:44:42\u001B[0m | \u001B[1mINFO    \u001B[0m | \u001B[1mbatch_size: 512\u001B[0m\n",
      "\u001B[32m2022-07-12 12:44:42\u001B[0m | \u001B[1mINFO    \u001B[0m | \u001B[1mbatch_size_train: None\u001B[0m\n",
      "\u001B[32m2022-07-12 12:44:42\u001B[0m | \u001B[1mINFO    \u001B[0m | \u001B[1mbatch_size_eval: None\u001B[0m\n",
      "\u001B[32m2022-07-12 12:44:42\u001B[0m | \u001B[1mINFO    \u001B[0m | \u001B[1mlr_dense: 0.01\u001B[0m\n",
      "\u001B[32m2022-07-12 12:44:42\u001B[0m | \u001B[1mINFO    \u001B[0m | \u001B[1mlr_sparse: 0.01\u001B[0m\n",
      "\u001B[32m2022-07-12 12:44:42\u001B[0m | \u001B[1mINFO    \u001B[0m | \u001B[1mweight_decay: 3e-05\u001B[0m\n",
      "\u001B[32m2022-07-12 12:44:42\u001B[0m | \u001B[1mINFO    \u001B[0m | \u001B[1meps: 0.0001\u001B[0m\n",
      "\u001B[32m2022-07-12 12:44:42\u001B[0m | \u001B[1mINFO    \u001B[0m | \u001B[1mbeta1: 0.9\u001B[0m\n",
      "\u001B[32m2022-07-12 12:44:42\u001B[0m | \u001B[1mINFO    \u001B[0m | \u001B[1mbeta2: 0.999\u001B[0m\n",
      "\u001B[32m2022-07-12 12:44:42\u001B[0m | \u001B[1mINFO    \u001B[0m | \u001B[1mclip_gradient: 1000.0\u001B[0m\n",
      "\u001B[32m2022-07-12 12:44:42\u001B[0m | \u001B[1mINFO    \u001B[0m | \u001B[1maccumulate: 1\u001B[0m\n",
      "\u001B[32m2022-07-12 12:44:42\u001B[0m | \u001B[1mINFO    \u001B[0m | \u001B[1moversampling_weight_factor: 1.0\u001B[0m\n",
      "\u001B[32m2022-07-12 12:44:42\u001B[0m | \u001B[1mINFO    \u001B[0m | \u001B[1mexpansion_size: 10000000\u001B[0m\n",
      "\u001B[32m2022-07-12 12:44:42\u001B[0m | \u001B[1mINFO    \u001B[0m | \u001B[1mprint_results: True\u001B[0m\n",
      "\u001B[32m2022-07-12 12:44:42\u001B[0m | \u001B[1mINFO    \u001B[0m | \u001B[1mvisualize_weights: True\u001B[0m\n",
      "\u001B[32m2022-07-12 12:44:42\u001B[0m | \u001B[1mINFO    \u001B[0m | \u001B[1menable_tqdm: True\u001B[0m\n",
      "\u001B[32m2022-07-12 12:44:42\u001B[0m | \u001B[1mINFO    \u001B[0m | \u001B[1mvisualize_results: yes\u001B[0m\n",
      "\u001B[32m2022-07-12 12:44:42\u001B[0m | \u001B[1mINFO    \u001B[0m | \u001B[1mstore_results: logscale\u001B[0m\n",
      "\u001B[32m2022-07-12 12:44:42\u001B[0m | \u001B[1mINFO    \u001B[0m | \u001B[1mstore_networks: logscale\u001B[0m\n",
      "\u001B[32m2022-07-12 12:44:42\u001B[0m | \u001B[1mINFO    \u001B[0m | \u001B[1mpath_to_data: /home/shared/data/dataset/cifar10\u001B[0m\n",
      "\u001B[32m2022-07-12 12:44:42\u001B[0m | \u001B[1mINFO    \u001B[0m | \u001B[1mdropout: 0.0\u001B[0m\n",
      "\u001B[32m2022-07-12 12:44:42\u001B[0m | \u001B[1mINFO    \u001B[0m | \u001B[1mactivation: relu\u001B[0m\n",
      "\u001B[32m2022-07-12 12:44:42\u001B[0m | \u001B[1mINFO    \u001B[0m | \u001B[1mchannels: 1024\u001B[0m\n",
      "\u001B[32m2022-07-12 12:44:42\u001B[0m | \u001B[1mINFO    \u001B[0m | \u001B[1mlabel_smoothing: 0.2\u001B[0m\n",
      "\u001B[32m2022-07-12 12:44:42\u001B[0m | \u001B[1mINFO    \u001B[0m | \u001B[1mpadding: 6\u001B[0m\n",
      "\u001B[32m2022-07-12 12:44:42\u001B[0m | \u001B[1mINFO    \u001B[0m | \u001B[1mgain: 0.2\u001B[0m\n",
      "\u001B[32m2022-07-12 12:44:42\u001B[0m | \u001B[1mINFO    \u001B[0m | \u001B[1mturn_point: 512\u001B[0m\n",
      "\u001B[32m2022-07-12 12:44:42\u001B[0m | \u001B[1mINFO    \u001B[0m | \u001B[1mfinal_point: 4096\u001B[0m\n",
      "\u001B[32m2022-07-12 12:44:42\u001B[0m | \u001B[1mINFO    \u001B[0m | \u001B[1mminimal_gain: 0.05\u001B[0m\n",
      "\u001B[32m2022-07-12 12:44:42\u001B[0m | \u001B[1mINFO    \u001B[0m | \u001B[1mtemperature: 0.05\u001B[0m\n"
     ]
    }
   ],
   "source": [
    "experiment = Experiment(hparams)"
   ]
  },
  {
   "cell_type": "markdown",
   "id": "8e83f03c-03ed-41b5-b5cf-6c33f132efef",
   "metadata": {},
   "source": [
    "While we can dynamically add as much parameters as we wish, it is best if we set default values (and optionally help strings) to each parameter that we define in our experiment. For this purpose we need to define a new parser on top of the default parser and call ```beam_arguments``` with the first argument as the new parser"
   ]
  },
  {
   "cell_type": "code",
   "execution_count": 3,
   "id": "3cbbe9c0-a2cd-47ab-a268-be8006139ac4",
   "metadata": {},
   "outputs": [],
   "source": [
    "def get_cifar10_parser():\n",
    "\n",
    "    parser = get_beam_parser()\n",
    "    parser.add_argument('--path-to-data', type=str, default='/home/shared/data/dataset/cifar10', help='Where to store the dataset')\n",
    "    parser.add_argument('--dropout', type=float, default=0.0, help='Dropout value for the feature layer')\n",
    "    parser.add_argument('--activation', type=str, default='relu', help='Type of activation function. supported types: [relu, celu, gelu]')\n",
    "    parser.add_argument('--channels', type=int, default=1024, help='Final channel size in the convolution stack')\n",
    "    parser.add_argument('--label-smoothing', type=float, default=0.2, help='a label_smoothing factor for the CrossEntropy loss')\n",
    "    parser.add_argument('--temperature', type=float, default=0.05, help='a softmax temperature scaling')\n",
    "    parser.add_argument('--padding', type=int, default=6, help='Padding number for the crop augmentation')\n",
    "    parser.add_argument('--gain', type=float, default=0.2, help='a gain factor for the learning rate scheduler')\n",
    "    parser.add_argument('--turn-point', type=int, default=512, help='a turn_point factor for the learning rate scheduler')\n",
    "    parser.add_argument('--final-point', type=int, default=4096, help='a final_point factor for the learning rate scheduler')\n",
    "    parser.add_argument('--minimal-gain', type=float, default=0.05, help='a minimal_gain factor for the learning rate scheduler')\n",
    "\n",
    "    return parser"
   ]
  },
  {
   "cell_type": "code",
   "execution_count": 8,
   "id": "720f3680-6c28-48a8-b29b-b49015a1a02a",
   "metadata": {},
   "outputs": [],
   "source": [
    "hparams = beam_arguments(get_cifar10_parser(), f\"--project-name=cifar10 --root-dir=/tmp/cifar --algorithm=CIFAR10Algorithm --device=0 --amp --lr-d=1e-2 --batch-size=512\",\n",
    "                      \"--n-epochs=40 --clip-gradient=1000 --parallel=0 --accumulate=1 --no-deterministic\",\n",
    "                      \"--weight-decay=3e-5 --beta1=0.9\")"
   ]
  },
  {
   "cell_type": "markdown",
   "id": "74901e1d-9fe0-45c5-a318-6011a329dab4",
   "metadata": {},
   "source": [
    "## 2. Building a dataset"
   ]
  },
  {
   "cell_type": "markdown",
   "id": "a17e7cb7-23fc-47df-9513-9ecdbe46556f",
   "metadata": {},
   "source": [
    "As usual we'll start with exploring the data. This time we can use torchvision to download the data."
   ]
  },
  {
   "cell_type": "code",
   "execution_count": 9,
   "id": "1be9aab9-27c4-4559-818a-ca72b1149e36",
   "metadata": {},
   "outputs": [
    {
     "name": "stdout",
     "output_type": "stream",
     "text": [
      "Files already downloaded and verified\n"
     ]
    }
   ],
   "source": [
    "path_to_data = '/localdata/elads/data/datasets/cifar10'\n",
    "dataset = torchvision.datasets.CIFAR10(root=path_to_data, train=True, transform=torchvision.transforms.PILToTensor(), download=True)"
   ]
  },
  {
   "cell_type": "markdown",
   "id": "d9a8c1cf-0d79-4690-8bda-0015ec8d0d25",
   "metadata": {},
   "source": [
    "Here we used the ```torchvision.transforms.PILToTensor``` to transform the PIL image to tensor. Lets take for example the first image and print its associated label and shape"
   ]
  },
  {
   "cell_type": "code",
   "execution_count": 10,
   "id": "9b2d6173-56a4-42e3-bb7d-c295cdba6129",
   "metadata": {},
   "outputs": [
    {
     "name": "stdout",
     "output_type": "stream",
     "text": [
      "6\n",
      "torch.Size([3, 32, 32])\n"
     ]
    }
   ],
   "source": [
    "img, label = dataset[0]\n",
    "print(label)\n",
    "print(img.shape)"
   ]
  },
  {
   "cell_type": "markdown",
   "id": "5f3f6aba-b9c5-453e-9163-1f4a4ce849f7",
   "metadata": {},
   "source": [
    "Lets plot the image with matplotlib:"
   ]
  },
  {
   "cell_type": "code",
   "execution_count": 11,
   "id": "b121234e-bcd0-49a5-abf6-6d49ad5c2808",
   "metadata": {},
   "outputs": [
    {
     "data": {
      "text/plain": [
       "<matplotlib.image.AxesImage at 0x7f24c2312310>"
      ]
     },
     "execution_count": 11,
     "metadata": {},
     "output_type": "execute_result"
    },
    {
     "data": {
      "image/png": "[encoded data removed]",
      "text/plain": [
       "<Figure size 432x288 with 1 Axes>"
      ]
     },
     "metadata": {
      "needs_background": "light"
     },
     "output_type": "display_data"
    }
   ],
   "source": [
    "plt.imshow(img.permute(1, 2, 0).numpy())"
   ]
  },
  {
   "cell_type": "markdown",
   "id": "b50723eb-a062-4e23-8e79-16af9b2514b2",
   "metadata": {},
   "source": [
    "Now we are ready to build our very first beam object which is the Dataset. We start by building a prototype in the notebook and later we will save it into the project .py file"
   ]
  },
  {
   "cell_type": "markdown",
   "id": "cc8af282-ffe9-4bad-8dde-fc4afd6ef155",
   "metadata": {},
   "source": [
    "First, instead of downloading and preprocessing the data each time, we will store a tensor version of both the train and the test parts of the data. If the file exists, we will directly read the data from the disk. if not, we download it and store the downloaded data as torch pickled object."
   ]
  },
  {
   "cell_type": "code",
   "execution_count": 12,
   "id": "1c88562c-42b2-4459-9bf1-846ef76d5965",
   "metadata": {},
   "outputs": [],
   "source": [
    "path = path_to_data\n",
    "device = torch.device(0)\n",
    "\n",
    "file = os.path.join(path, 'dataset_uint8.pt')\n",
    "if os.path.exists(file):\n",
    "    x_train, x_test, y_train, y_test = torch.load(file, map_location=device)\n",
    "\n",
    "else:\n",
    "    dataset_train = torchvision.datasets.CIFAR10(root=path, train=True,\n",
    "                                                 transform=torchvision.transforms.PILToTensor(), download=True)\n",
    "    dataset_test = torchvision.datasets.CIFAR10(root=path, train=False,\n",
    "                                                transform=torchvision.transforms.PILToTensor(), download=True)\n",
    "\n",
    "    x_train = torch.stack([dataset_train[i][0] for i in range(len(dataset_train))]).to(device)\n",
    "    x_test = torch.stack([dataset_test[i][0] for i in range(len(dataset_test))]).to(device)\n",
    "\n",
    "    y_train = torch.LongTensor(dataset_train.targets).to(device)\n",
    "    y_test = torch.LongTensor(dataset_test.targets).to(device)\n",
    "\n",
    "    torch.save((x_train, x_test, y_train, y_test), file)"
   ]
  },
  {
   "cell_type": "code",
   "execution_count": 13,
   "id": "cb349fe7-24ec-437d-8f5c-e8f147746bf5",
   "metadata": {},
   "outputs": [
    {
     "name": "stdout",
     "output_type": "stream",
     "text": [
      "torch.Size([50000, 3, 32, 32]) torch.Size([10000, 3, 32, 32]) torch.Size([50000]) torch.Size([10000])\n",
      "cuda:0 cuda:0 cuda:0 cuda:0\n",
      "torch.uint8 torch.uint8 torch.int64 torch.int64\n"
     ]
    }
   ],
   "source": [
    "print(x_train.shape, x_test.shape, y_train.shape, y_test.shape)\n",
    "print(x_train.device, x_test.device, y_train.device, y_test.device)\n",
    "print(x_train.dtype, x_test.dtype, y_train.dtype, y_test.dtype)"
   ]
  },
  {
   "cell_type": "markdown",
   "id": "70d98425-5be4-4ec0-85c8-e237c5f7d217",
   "metadata": {},
   "source": [
    "The Beam Dataset object, works best with a single one-dimentional index to fetch elements from the dataset. However, in our case, we have two objects, the train and the test part. A simple solution could be to concatenate them together:"
   ]
  },
  {
   "cell_type": "code",
   "execution_count": 14,
   "id": "b1a9e53e-3a3d-4428-8d91-d29d942f0ee7",
   "metadata": {},
   "outputs": [],
   "source": [
    "data = torch.cat([x_train, x_test])\n",
    "labels = torch.cat([y_train, y_test])\n",
    "test_indices = len(x_train) + torch.arange(len(x_test))"
   ]
  },
  {
   "cell_type": "markdown",
   "id": "f12ecd4f-cd70-4230-9ceb-f1594ac63e32",
   "metadata": {},
   "source": [
    "In this example, we also calculated the test_indices which we would like to store in order to fetch test examples."
   ]
  },
  {
   "cell_type": "markdown",
   "id": "0b0f9334-0cda-4c0e-b674-4303cb348604",
   "metadata": {},
   "source": [
    "While this solution is plausable, Beam is even more fun as it contains a PackedFolds object which is able to hold and index together multiple objects which may have different size. We can use the PackedFolds object to hold the two dataset parts, and calculate the test indices:"
   ]
  },
  {
   "cell_type": "code",
   "execution_count": 15,
   "id": "fb2c57ca-1e47-4cf7-b1f5-dc5c96116c18",
   "metadata": {},
   "outputs": [],
   "source": [
    "data = PackedFolds({'train': x_train, 'test': x_test})\n",
    "labels = PackedFolds({'train': y_train, 'test': y_test})\n",
    "test_indices = labels['test'].index"
   ]
  },
  {
   "cell_type": "markdown",
   "id": "339930e2-f401-4dba-8be8-a963a5634b66",
   "metadata": {},
   "source": [
    "we can use the PackedFolds object to access each part of the dataset"
   ]
  },
  {
   "cell_type": "code",
   "execution_count": 16,
   "id": "979b8fbe-4724-4832-993c-936caeb4ceaf",
   "metadata": {},
   "outputs": [
    {
     "data": {
      "text/plain": [
       "torch.Size([50000, 3, 32, 32])"
      ]
     },
     "execution_count": 16,
     "metadata": {},
     "output_type": "execute_result"
    }
   ],
   "source": [
    "data['train'].shape"
   ]
  },
  {
   "cell_type": "markdown",
   "id": "db949007-1de6-46c5-9706-aa2fdfc77762",
   "metadata": {},
   "source": [
    "We can fetch and slice the data with its indices as a normal tensor. Reffer to the PackedFolds tutorial for further explenations and examples."
   ]
  },
  {
   "cell_type": "code",
   "execution_count": 17,
   "id": "88f09cb5-eebe-421f-a109-2290418ed1c4",
   "metadata": {},
   "outputs": [
    {
     "data": {
      "text/plain": [
       "{'train': tensor([6, 9, 9,  ..., 9, 1, 1], device='cuda:0'), 'test': tensor([3, 8, 8,  ..., 5, 1, 7], device='cuda:0')}"
      ]
     },
     "execution_count": 17,
     "metadata": {},
     "output_type": "execute_result"
    }
   ],
   "source": [
    "labels"
   ]
  },
  {
   "cell_type": "code",
   "execution_count": 18,
   "id": "3a6015e7-440a-4670-967b-c6c634eec1f0",
   "metadata": {},
   "outputs": [
    {
     "data": {
      "text/plain": [
       "tensor([3, 8, 8,  ..., 5, 1, 7], device='cuda:0')"
      ]
     },
     "execution_count": 18,
     "metadata": {},
     "output_type": "execute_result"
    }
   ],
   "source": [
    "labels['test']"
   ]
  },
  {
   "cell_type": "code",
   "execution_count": 19,
   "id": "b530eca5-b8a5-4449-bc12-dd18f58ccfcc",
   "metadata": {},
   "outputs": [
    {
     "data": {
      "text/plain": [
       "tensor([1, 8, 5,  ..., 5, 1, 7], device='cuda:0')"
      ]
     },
     "execution_count": 19,
     "metadata": {},
     "output_type": "execute_result"
    }
   ],
   "source": [
    "labels[40000:60000]"
   ]
  },
  {
   "cell_type": "markdown",
   "id": "de4be0dd-c3e6-4a46-ae56-86839ba65e3c",
   "metadata": {},
   "source": [
    "Lets build a first version of our dataset, without augmentations. We are required to write the ```__getitem__``` method that samples batches from the data for a given index vector"
   ]
  },
  {
   "cell_type": "code",
   "execution_count": 20,
   "id": "4ba2736e-5a43-4acc-982e-d85fd689204d",
   "metadata": {},
   "outputs": [],
   "source": [
    "class CIFAR10Dataset(UniversalDataset):\n",
    "\n",
    "    def __init__(self, hparams):\n",
    "        \n",
    "        path = hparams.path_to_data\n",
    "        device = hparams.device\n",
    "        \n",
    "        super().__init__()\n",
    "\n",
    "        file = os.path.join(path, 'dataset_uint8.pt')\n",
    "        if os.path.exists(file):\n",
    "            x_train, x_test, y_train, y_test = torch.load(file, map_location=device)\n",
    "\n",
    "        else:\n",
    "            dataset_train = torchvision.datasets.CIFAR10(root=path, train=True,\n",
    "                                                         transform=torchvision.transforms.PILToTensor(), download=True)\n",
    "            dataset_test = torchvision.datasets.CIFAR10(root=path, train=False,\n",
    "                                                        transform=torchvision.transforms.PILToTensor(), download=True)\n",
    "\n",
    "            x_train = torch.stack([dataset_train[i][0] for i in range(len(dataset_train))]).to(device)\n",
    "            x_test = torch.stack([dataset_test[i][0] for i in range(len(dataset_test))]).to(device)\n",
    "\n",
    "            y_train = torch.LongTensor(dataset_train.targets).to(device)\n",
    "            y_test = torch.LongTensor(dataset_test.targets).to(device)\n",
    "\n",
    "            torch.save((x_train, x_test, y_train, y_test), file)\n",
    "\n",
    "\n",
    "        self.data = PackedFolds({'train': x_train, 'test': x_test})\n",
    "        self.labels = PackedFolds({'train': y_train, 'test': y_test})\n",
    "\n",
    "    def __getitem__(self, index):\n",
    "\n",
    "        x = self.data[index]\n",
    "\n",
    "        return {'x': x, 'y': self.labels[index]}"
   ]
  },
  {
   "cell_type": "markdown",
   "id": "411d313a-d069-4ad4-9df7-012a5ead183f",
   "metadata": {},
   "source": [
    "Notice that we passed ```hparams``` as an argument to the Dataset constructor. This will be our standard ```__init__``` format when working with beam, i.e. we pass all the arguments for the dataset in the ```hparams``` container. Now, lets make sure that we can sample a batch from this dataset:"
   ]
  },
  {
   "cell_type": "code",
   "execution_count": 21,
   "id": "183b616c-70c8-4f74-9c8b-a93fa2f7ee19",
   "metadata": {},
   "outputs": [],
   "source": [
    "dataset = CIFAR10Dataset(experiment.hparams)"
   ]
  },
  {
   "cell_type": "code",
   "execution_count": 22,
   "id": "5188d9bb-6742-4c04-ac32-27d9ceb372c8",
   "metadata": {},
   "outputs": [
    {
     "name": "stdout",
     "output_type": "stream",
     "text": [
      "{'x': torch.Size([10, 3, 32, 32]), 'y': torch.Size([10])}\n"
     ]
    }
   ],
   "source": [
    "d = dataset[10:20]\n",
    "print({k: v.shape for k, v in d.items()})"
   ]
  },
  {
   "cell_type": "markdown",
   "id": "0c38933c-a79e-41fe-b97d-c54220c64447",
   "metadata": {},
   "source": [
    "while the objects ```dataset.data``` and ```dataset.labels``` contain two folds, i.e. train and test, the dataset still is not aware of the different folds and their meaning. In addition, we usually would like to split the train subset into a train-validation sets. For the dataset split purposes, beam datasets have the split method which is able to split/random split/time based split your data. It also requires a seed to generate reproducable splits. In our case, to allot 20% of the examples to the validation subset, we will call the split method as follows:"
   ]
  },
  {
   "cell_type": "code",
   "execution_count": 23,
   "id": "b83299d1-5687-4ae2-b309-c84ba9dcae93",
   "metadata": {},
   "outputs": [],
   "source": [
    "seed = 5782\n",
    "\n",
    "dataset.split(validation=.2, test=dataset.labels['test'].index, seed=seed)"
   ]
  },
  {
   "cell_type": "markdown",
   "id": "8f4e7f81-d4e2-44fa-9a58-821d4d821ba0",
   "metadata": {},
   "source": [
    "Now the dataset contains the ```indices_split``` dictionary which holds all the different subsets. They will be used to further generate samplers and dataloaders to iterate over the data."
   ]
  },
  {
   "cell_type": "code",
   "execution_count": 24,
   "id": "3095959f-0a9e-4e14-ae58-8a947be6e64e",
   "metadata": {},
   "outputs": [
    {
     "name": "stdout",
     "output_type": "stream",
     "text": [
      "{'test': 10000, 'validation': 12000, 'train': 38000}\n"
     ]
    }
   ],
   "source": [
    "print({k: len(v) for k, v in dataset.indices_split.items()})\n"
   ]
  },
  {
   "cell_type": "markdown",
   "id": "5c421239-939d-48ff-a22c-a1246b3f71ba",
   "metadata": {},
   "source": [
    "In addition we can define different augmentations for the train/eval parts of the training. A nice property of the Beam dataset when combined with Beam algorithm is that like neural networks, it holds the ```training``` boolean property which sets the dataset in train/eval mode. The algorithm iterator toggles this property between train and eval sessions by calling ```dataset.train()``` or ```dataset.eval()``` (as with ```nn.Module``` objects). We can use this property to define different augmentations for each case."
   ]
  },
  {
   "cell_type": "code",
   "execution_count": 25,
   "id": "0a261186-6cea-4055-b001-e843f15a932d",
   "metadata": {},
   "outputs": [],
   "source": [
    "class CIFAR10Dataset(UniversalDataset):\n",
    "\n",
    "    def __init__(self, hparams, use_folds=True):\n",
    "        super().__init__()\n",
    "\n",
    "        path = hparams.path_to_data\n",
    "        device = hparams.device\n",
    "        padding = hparams.padding\n",
    "\n",
    "        augmentations = transforms.Compose([transforms.RandomHorizontalFlip(),\n",
    "                                            transforms.RandomCrop(32, padding=padding, padding_mode='edge'),])\n",
    "\n",
    "        self.t_basic = transforms.Compose([transforms.Lambda(lambda x: (x / 255)),\n",
    "                                            transforms.Normalize((0.4914, 0.4822, 0.4465), (0.247, 0.243, 0.261))])\n",
    "\n",
    "        self.t_train = transforms.Compose([augmentations, self.t_basic])\n",
    "\n",
    "        file = os.path.join(path, 'dataset_uint8.pt')\n",
    "        if os.path.exists(file):\n",
    "            x_train, x_test, y_train, y_test = torch.load(file, map_location=device)\n",
    "\n",
    "        else:\n",
    "            dataset_train = torchvision.datasets.CIFAR10(root=path, train=True,\n",
    "                                                         transform=torchvision.transforms.PILToTensor(), download=True)\n",
    "            dataset_test = torchvision.datasets.CIFAR10(root=path, train=False,\n",
    "                                                        transform=torchvision.transforms.PILToTensor(), download=True)\n",
    "\n",
    "            x_train = torch.stack([dataset_train[i][0] for i in range(len(dataset_train))]).to(device)\n",
    "            x_test = torch.stack([dataset_test[i][0] for i in range(len(dataset_test))]).to(device)\n",
    "\n",
    "            y_train = torch.LongTensor(dataset_train.targets).to(device)\n",
    "            y_test = torch.LongTensor(dataset_test.targets).to(device)\n",
    "\n",
    "            torch.save((x_train, x_test, y_train, y_test), file)\n",
    "\n",
    "        if use_folds:\n",
    "            self.data = PackedFolds({'train': x_train, 'test': x_test})\n",
    "            self.labels = PackedFolds({'train': y_train, 'test': y_test})\n",
    "            test_indices = self.labels['test'].index\n",
    "        \n",
    "        else:\n",
    "            self.data = torch.cat([x_train, x_test])\n",
    "            self.labels = torch.cat([y_train, y_test])\n",
    "            test_indices = len(x_train) + torch.arange(len(x_test))\n",
    "            \n",
    "        self.split(validation=.2, test=test_indices, seed=hparams.split_dataset_seed)\n",
    "\n",
    "    def __getitem__(self, index):\n",
    "        x = self.data[index]\n",
    "\n",
    "        if self.training:\n",
    "            x = self.t_train(x)\n",
    "        else:\n",
    "            x = self.t_basic(x)\n",
    "\n",
    "        x = x.to(memory_format=torch.channels_last)\n",
    "\n",
    "        return {'x': x, 'y': self.labels[index]}"
   ]
  },
  {
   "cell_type": "markdown",
   "id": "557b3b0c-0bfe-458e-bb33-3a850bc01481",
   "metadata": {},
   "source": [
    "Notice, that we also added the ```hparams.device``` argument which defines the device for storing ```torch.Tensor``` objects in this experiemnt. Therefore, we map the data to the designated device. Finally, we added an option to work with simple tensors instead of ```PackedFolds```."
   ]
  },
  {
   "cell_type": "markdown",
   "id": "bcfcd001-a4a7-45b0-a8a8-1bfd03336e00",
   "metadata": {},
   "source": [
    "It is important to measure the fetching speed from the dataset. The most straitforward way to obtain that would be with ```tqdm```:"
   ]
  },
  {
   "cell_type": "code",
   "execution_count": 26,
   "id": "3a90acc8-597d-493e-8296-577e817c3ac7",
   "metadata": {},
   "outputs": [],
   "source": [
    "from src.beam import tqdm\n",
    "batch = 128"
   ]
  },
  {
   "cell_type": "code",
   "execution_count": 27,
   "id": "67b61022-ab60-407e-80bf-51af146b0e06",
   "metadata": {},
   "outputs": [
    {
     "data": {
      "application/vnd.jupyter.widget-view+json": {
       "model_id": "af5c5f6c14fe43e8abbcd0ff56414e1c",
       "version_major": 2,
       "version_minor": 0
      },
      "text/plain": [
       "  0%|          | 0/10000 [00:00<?, ?it/s]"
      ]
     },
     "metadata": {},
     "output_type": "display_data"
    }
   ],
   "source": [
    "dataset = CIFAR10Dataset(experiment.hparams, use_folds=True)\n",
    "dataset.train()\n",
    "for i in tqdm(range(10000)):\n",
    "    ind = torch.randint(len(dataset), size=(batch,))\n",
    "    sample = dataset[ind]"
   ]
  },
  {
   "cell_type": "code",
   "execution_count": 28,
   "id": "e819b8b2-e735-47b8-aa3b-1db6b629d1f8",
   "metadata": {},
   "outputs": [
    {
     "data": {
      "application/vnd.jupyter.widget-view+json": {
       "model_id": "f0e2d19f9d664b99bf49d11f3e20a4e5",
       "version_major": 2,
       "version_minor": 0
      },
      "text/plain": [
       "  0%|          | 0/10000 [00:00<?, ?it/s]"
      ]
     },
     "metadata": {},
     "output_type": "display_data"
    }
   ],
   "source": [
    "dataset = CIFAR10Dataset(experiment.hparams, use_folds=False)\n",
    "dataset.train()\n",
    "for i in tqdm(range(10000)):\n",
    "    ind = torch.randint(len(dataset), size=(batch,))\n",
    "    sample = dataset[ind]"
   ]
  },
  {
   "cell_type": "code",
   "execution_count": 29,
   "id": "84f77c7e-fd38-4e6f-9800-1ebce6b7eecd",
   "metadata": {},
   "outputs": [
    {
     "data": {
      "text/plain": [
       "device(type='cuda', index=1)"
      ]
     },
     "execution_count": 29,
     "metadata": {},
     "output_type": "execute_result"
    }
   ],
   "source": [
    "dataset.data.device"
   ]
  },
  {
   "cell_type": "markdown",
   "id": "f594233c-a462-4c08-8570-42b86ab9af6c",
   "metadata": {},
   "source": [
    "In this case we see that PackedFolds add some extra overhead to the sampling speed, however it is usually negligible when adding the neural net forward and backward passes. We can now safely use the ```PackedFolds``` option and copy our final dataset into a .py file."
   ]
  },
  {
   "cell_type": "code",
   "execution_count": 30,
   "id": "592f796f-1f9b-4ca4-a269-5cf18d861459",
   "metadata": {},
   "outputs": [],
   "source": [
    "from cifar10_example import CIFAR10Dataset"
   ]
  },
  {
   "cell_type": "markdown",
   "id": "22979f6d-1f49-4458-8327-deaec586a470",
   "metadata": {},
   "source": [
    "## 3. Building a neural-net"
   ]
  },
  {
   "cell_type": "markdown",
   "id": "1ab34d09-4eba-415c-94e2-385c86660c3b",
   "metadata": {},
   "source": [
    "The third step of building a neural networ is not directly related to the Beam package. However, we usually comfortable with building a neural net after we have a grasp of how the dataset and the samples look like. In this stage we start to develop a prototype neural network and verify that it processes without problems our input data."
   ]
  },
  {
   "cell_type": "code",
   "execution_count": 31,
   "id": "4a404a1d-14ea-4eb3-b2ac-1742a7c866bb",
   "metadata": {},
   "outputs": [],
   "source": [
    "class ReBlock(nn.Module):\n",
    "    def __init__(self, in_planes, planes, stride=1, rezero=True, activation='celu'):\n",
    "        super(ReBlock, self).__init__()\n",
    "        self.conv1 = nn.Conv2d(in_planes, planes, kernel_size=3, stride=stride, padding=1, bias=False)\n",
    "        self.bn1 = nn.BatchNorm2d(planes)\n",
    "        self.conv2 = nn.Conv2d(planes, planes, kernel_size=3, stride=1, padding=1, bias=False)\n",
    "        self.bn2 = nn.BatchNorm2d(planes)\n",
    "        self.rezero = rezero\n",
    "        if self.rezero:\n",
    "            self.resweight = self.resweight = nn.Parameter(torch.Tensor([0]), requires_grad=True)\n",
    "\n",
    "        if activation == 'gelu':\n",
    "            self.activation = nn.GELU()\n",
    "        elif activation == 'celu':\n",
    "            self.activation = nn.CELU()\n",
    "        elif activation == 'relu':\n",
    "            self.activation = nn.ReLU()\n",
    "\n",
    "    def forward(self, x):\n",
    "        out = self.activation(self.bn1(self.conv1(x)))\n",
    "        out = self.bn2(self.conv2(out))\n",
    "\n",
    "        # With or witout ReZero connection is after the nonlinearity\n",
    "        if self.rezero == True:\n",
    "            # ReZero\n",
    "            out = self.resweight * self.activation(out) + x\n",
    "        elif self.rezero == False:\n",
    "            # Nominal\n",
    "            out = self.activation(out) + x\n",
    "        return out\n",
    "\n",
    "\n",
    "class BatchNorm(nn.BatchNorm2d):\n",
    "    def __init__(self, num_features, eps=1e-05, momentum=0.1, weight_freeze=False, bias_freeze=False, weight_init=1.0,\n",
    "                 bias_init=0.0):\n",
    "        super().__init__(num_features, eps=eps, momentum=momentum)\n",
    "        if weight_init is not None: self.weight.data.fill_(weight_init)\n",
    "        if bias_init is not None: self.bias.data.fill_(bias_init)\n",
    "        self.weight.requires_grad = not weight_freeze\n",
    "        self.bias.requires_grad = not bias_freeze\n",
    "\n",
    "\n",
    "class Cifar10Network(nn.Module):\n",
    "    \"\"\"Simple Convolutional and Fully Connect network.\"\"\"\n",
    "\n",
    "    def __init__(self, channels, dropout=.0, weight=0.125, bn_weight_init=1.0, rezero=False, param_knob=None, activation='celu'):\n",
    "\n",
    "        super().__init__()\n",
    "        channels = {'prep': channels // 8, 'layer1': channels // 4, 'layer2': channels // 2, 'layer3': channels}\n",
    "\n",
    "        if activation == 'gelu':\n",
    "            self.activation = nn.GELU()\n",
    "        elif activation == 'celu':\n",
    "            self.activation = nn.CELU()\n",
    "        elif activation == 'relu':\n",
    "            self.activation = nn.ReLU()\n",
    "\n",
    "        self.weight = weight\n",
    "        self.rezero = rezero\n",
    "        # Layers\n",
    "        self.conv_prep = nn.Conv2d(3, channels['prep'], kernel_size=3, stride=1, padding=1, bias=False)\n",
    "        self.bn_prep = BatchNorm(channels['prep'], weight_init=bn_weight_init)\n",
    "        self.conv1 = nn.Conv2d(channels['prep'], channels['layer1'], kernel_size=3, stride=1, padding=1, bias=False)\n",
    "        self.bn1 = BatchNorm(channels['layer1'], weight_init=bn_weight_init)\n",
    "        self.layer1_resblock = ReBlock(channels['layer1'], channels['layer1'], rezero=self.rezero)\n",
    "        self.conv2 = nn.Conv2d(channels['layer1'], channels['layer2'], kernel_size=3, stride=1, padding=1, bias=False)\n",
    "        self.bn2 = BatchNorm(channels['layer2'], weight_init=bn_weight_init)\n",
    "        self.conv3 = nn.Conv2d(channels['layer2'], channels['layer3'], kernel_size=3, stride=1, padding=1, bias=False)\n",
    "        self.bn3 = BatchNorm(channels['layer3'], weight_init=bn_weight_init)\n",
    "        self.layer3_resblock = ReBlock(channels['layer3'], channels['layer3'], rezero=self.rezero)\n",
    "        self.pool = nn.MaxPool2d(2)\n",
    "        self.classifier_pool = nn.MaxPool2d(4)\n",
    "        self.classifier_fc = nn.Linear(channels['layer3'], 10, bias=False)\n",
    "\n",
    "    def forward(self, x):\n",
    "        # cuda0 = torch.device('cuda:0')\n",
    "        \"\"\"Compute a forward pass.\"\"\"\n",
    "        # Prep\n",
    "        x = self.activation(self.bn_prep(self.conv_prep(x)))\n",
    "        x = self.activation(self.bn1(self.pool(self.conv1(x))))\n",
    "        x = self.layer1_resblock(x)\n",
    "        x = self.activation(self.bn2(self.pool(self.conv2(x))))\n",
    "        x = self.activation(self.bn3(self.pool(self.conv3(x))))\n",
    "        x = self.layer3_resblock(x)\n",
    "        # Classifier\n",
    "        x = self.classifier_pool(x)\n",
    "        x = x.view(x.size(0), x.size(1))\n",
    "        x = self.classifier_fc(x)\n",
    "        x = x * self.weight\n",
    "        return x"
   ]
  },
  {
   "cell_type": "markdown",
   "id": "c1c391d6-a5c8-4248-9fb0-7780e267712e",
   "metadata": {},
   "source": [
    "Lets build a neural-network based on our model and the experiment hyperparameters and pass it to the experiment device. "
   ]
  },
  {
   "cell_type": "code",
   "execution_count": 32,
   "id": "168148a4-99bf-4c24-a893-66a131636cc3",
   "metadata": {},
   "outputs": [],
   "source": [
    "net = Cifar10Network(channels=hparams.channels, \n",
    "                     dropout=hparams.dropout, \n",
    "                     weight=hparams.temperature, \n",
    "                     bn_weight_init=1.0, \n",
    "                     rezero=False, \n",
    "                     param_knob=None, \n",
    "                     activation=hparams.activation).to(experiment.hparams.device)"
   ]
  },
  {
   "cell_type": "markdown",
   "id": "0e082191-ac5d-4877-b081-826f4546fc3f",
   "metadata": {},
   "source": [
    "Notice that when we wish to refer to the experiment device it is better to call ```experiment.hparams.device``` instead of the original argument ```hparams.device``` as the experiment class transforms the string argument into a ```torch.device``` type."
   ]
  },
  {
   "cell_type": "code",
   "execution_count": 33,
   "id": "43daef0a-fd8d-4050-a08d-15ce6162b782",
   "metadata": {},
   "outputs": [
    {
     "data": {
      "text/plain": [
       "device(type='cuda', index=1)"
      ]
     },
     "execution_count": 33,
     "metadata": {},
     "output_type": "execute_result"
    }
   ],
   "source": [
    "experiment.hparams.device"
   ]
  },
  {
   "cell_type": "code",
   "execution_count": 34,
   "id": "bd019299-849c-4cb1-a819-80af7c790e30",
   "metadata": {},
   "outputs": [
    {
     "data": {
      "text/plain": [
       "'0'"
      ]
     },
     "execution_count": 34,
     "metadata": {},
     "output_type": "execute_result"
    }
   ],
   "source": [
    "hparams.device"
   ]
  },
  {
   "cell_type": "markdown",
   "id": "506a0225-276a-47c4-9df2-fcc89d26aa32",
   "metadata": {},
   "source": [
    "Lets verify that the model accepts batch of cifar10 images and returns the 10 classes pre softmax probabilities"
   ]
  },
  {
   "cell_type": "code",
   "execution_count": 35,
   "id": "37bee5b1-6c22-49ed-ad1a-f71030297eb7",
   "metadata": {},
   "outputs": [],
   "source": [
    "dataset = CIFAR10Dataset(experiment.hparams)\n",
    "batch = 128\n",
    "\n",
    "ind = torch.randint(len(dataset), size=(batch,))\n",
    "sample = dataset[ind]\n",
    "x = sample['x']\n",
    "y = net(x)"
   ]
  },
  {
   "cell_type": "code",
   "execution_count": 36,
   "id": "622a061b-6d10-4718-b6ce-486773cabfb8",
   "metadata": {},
   "outputs": [
    {
     "name": "stdout",
     "output_type": "stream",
     "text": [
      "torch.Size([128, 3, 32, 32]) torch.Size([128, 10])\n"
     ]
    }
   ],
   "source": [
    "print(x.shape, y.shape)"
   ]
  },
  {
   "cell_type": "markdown",
   "id": "70683b82-bd9c-4a40-8057-d46f92b3721b",
   "metadata": {},
   "source": [
    "We will now copy the neural-net class to our project .py file and continue with building our last beam part which is the algorithm."
   ]
  },
  {
   "cell_type": "code",
   "execution_count": 37,
   "id": "9922cc2f-7837-4b89-8f8f-3f90f0f0a811",
   "metadata": {},
   "outputs": [],
   "source": [
    "from cifar10_example import Cifar10Network"
   ]
  },
  {
   "cell_type": "markdown",
   "id": "97a1697b-83e2-446c-83ce-26c553c72790",
   "metadata": {},
   "source": [
    "## 4. Building an algorithm"
   ]
  },
  {
   "cell_type": "markdown",
   "id": "6d22b063-34f2-439f-932b-f26bad786c95",
   "metadata": {},
   "source": [
    "### Writing an iteration loop"
   ]
  },
  {
   "cell_type": "markdown",
   "id": "417f8b49-222a-4f77-af1b-8407a7ececa5",
   "metadata": {},
   "source": [
    "Before building the Algorithm class, we can try and verify that our inner loop is working as expected. In simple algorithms, this part can be realy simple but sometimes, when developing GANs for example we might want to make sure that the inner loop works as expected."
   ]
  },
  {
   "cell_type": "code",
   "execution_count": 38,
   "id": "383dd949-bf62-48a4-83ee-27d4b64dbd0a",
   "metadata": {},
   "outputs": [],
   "source": [
    "dataset = CIFAR10Dataset(experiment.hparams)\n",
    "net = Cifar10Network(channels=hparams.channels, \n",
    "                     dropout=hparams.dropout, \n",
    "                     weight=hparams.temperature, \n",
    "                     bn_weight_init=1.0, \n",
    "                     rezero=False, \n",
    "                     param_knob=None, \n",
    "                     activation=hparams.activation).to(experiment.hparams.device)"
   ]
  },
  {
   "cell_type": "markdown",
   "id": "df2fbef3-aaa6-49f3-abd1-f0e00b502438",
   "metadata": {},
   "source": [
    "In this part we can also try out our optimizer. Beam offers a ```BeamOptimizer``` class which add some functionalities to the defaul pytorch optimizer. First, it supports mixed model with both sparse and dense gradients as it applies sparse optimizer to the sparse parameters and dense optimizer to the dense parameters (The default sparse optimizer is ```SparseAdam``` and the default dense optimizer is ```AdamW```). In addition, it supports automatic mixed precision calculation and it can clip the gradient and accumulate the gradients to simulate large batches."
   ]
  },
  {
   "cell_type": "code",
   "execution_count": 39,
   "id": "1c6f4735-5137-42ec-a1e3-073a00af824b",
   "metadata": {},
   "outputs": [],
   "source": [
    "opt = BeamOptimizer(net, dense_args={'lr': hparams.lr_dense,\n",
    "                                                        'weight_decay': hparams.weight_decay,\n",
    "                                                       'momentum': hparams.beta1, 'nesterov': True},\n",
    "                                            clip=hparams.clip_gradient, accumulate=hparams.accumulate,\n",
    "                                            amp=hparams.amp,\n",
    "                                            sparse_args=None, dense_optimizer='SGD')"
   ]
  },
  {
   "cell_type": "markdown",
   "id": "c586eae2-4d51-406d-8a26-2d216d45069c",
   "metadata": {},
   "source": [
    "In our case we replaced the default dense optimizer ```AdamW``` with the simpler ```SGD``` optimizer as in CIFAR10, it yields better results when learning with a limited number of epochs."
   ]
  },
  {
   "cell_type": "code",
   "execution_count": 40,
   "id": "deb10d47-cafc-4c97-84be-e0101f3a6b43",
   "metadata": {},
   "outputs": [],
   "source": [
    "# our inner loop\n",
    "\n",
    "ind = torch.randint(len(dataset), size=(batch,))\n",
    "sample = dataset[ind]\n",
    "\n",
    "x, y = sample['x'], sample['y']\n",
    "\n",
    "y_hat = net(x)\n",
    "loss = F.cross_entropy(y_hat, y, reduction='sum', label_smoothing=hparams.label_smoothing)\n",
    "\n",
    "opt.apply(loss, training=True)"
   ]
  },
  {
   "cell_type": "markdown",
   "id": "f5e91126-6f56-47af-a8f6-d3ca33061c9b",
   "metadata": {},
   "source": [
    "### Building an algorithm based on the iteration loop."
   ]
  },
  {
   "cell_type": "markdown",
   "id": "1e35d4ab-f84c-4d93-b037-24aeacd2e326",
   "metadata": {},
   "source": [
    "After verifing our inner loop we can start building an Algorithm class. In this example we will start from a minimal implementation and gradually add some complexities."
   ]
  },
  {
   "cell_type": "code",
   "execution_count": 41,
   "id": "1417dbbc-02df-4340-976b-2bf45ae0e204",
   "metadata": {},
   "outputs": [],
   "source": [
    "class CIFAR10Algorithm(Algorithm):\n",
    "\n",
    "    def __init__(self, hparams):\n",
    "\n",
    "        net = Cifar10Network(hparams.channels, dropout=hparams.dropout,\n",
    "                             activation=hparams.activation, weight=hparams.temperature)\n",
    "\n",
    "        optimizer = BeamOptimizer.prototype(dense_args={'lr': hparams.lr_dense,\n",
    "                                                        'weight_decay': hparams.weight_decay,\n",
    "                                                       'momentum': hparams.beta1, 'nesterov': True},\n",
    "                                            clip=hparams.clip_gradient, accumulate=hparams.accumulate,\n",
    "                                            amp=hparams.amp,\n",
    "                                            sparse_args=None, dense_optimizer='SGD')\n",
    "        \n",
    "        # optimizer = BeamOptimizer(net, dense_args={'lr': hparams.lr_dense,\n",
    "        #                                         'weight_decay': hparams.weight_decay,\n",
    "        #                                        'momentum': hparams.beta1, 'nesterov': True},\n",
    "        #                             clip=hparams.clip_gradient, accumulate=hparams.accumulate,\n",
    "        #                             amp=hparams.amp,\n",
    "        #                             sparse_args=None, dense_optimizer='SGD')\n",
    "\n",
    "        super().__init__(hparams, networks=net, optimizers=optimizer)\n",
    "\n",
    "\n",
    "    def iteration(self, sample=None, results=None, counter=None, subset=None, training=True):\n",
    "\n",
    "        x, y = sample['x'], sample['y']\n",
    "\n",
    "        net = self.networks['net']\n",
    "        opt = self.optimizers['net']\n",
    "\n",
    "        y_hat = net(x)\n",
    "        loss = F.cross_entropy(y_hat, y, reduction='sum', label_smoothing=self.hparams.label_smoothing)\n",
    "\n",
    "        opt.apply(loss, training=training)\n",
    "\n",
    "        # add scalar measurements\n",
    "        results['scalar']['loss'].append(float(loss))\n",
    "        results['scalar']['acc'].append(float((y_hat.argmax(1) == y).float().mean()))\n",
    "\n",
    "        return results\n",
    "    "
   ]
  },
  {
   "cell_type": "markdown",
   "id": "e00f61ee-1667-43fe-b522-3bcee39aeefd",
   "metadata": {},
   "source": [
    "It is important to undestand how "
   ]
  },
  {
   "cell_type": "markdown",
   "id": "8eda6557-5181-486e-b140-9387abf459b1",
   "metadata": {},
   "source": [
    "Lets generate new hyperparameters, this time to avoid long experiments we will choose to train only for 4 epochs."
   ]
  },
  {
   "cell_type": "code",
   "execution_count": 4,
   "id": "3172f729-91e6-4ae8-aee0-566dc45fd4ab",
   "metadata": {},
   "outputs": [],
   "source": [
    "hparams = beam_arguments(get_cifar10_parser(), f\"--project-name=cifar10 --root-dir=/tmp/cifar --algorithm=CIFAR10Algorithm --device=0 --amp --lr-d=1e-2 --batch-size=512\",\n",
    "                      \"--n-epochs=4 --clip-gradient=1000 --parallel=2 --accumulate=1 --no-deterministic\",\n",
    "                      \"--weight-decay=3e-5 --beta1=0.9\")"
   ]
  },
  {
   "cell_type": "markdown",
   "id": "d7e82c70-1ffa-4ce2-bcab-6b59d6e99aae",
   "metadata": {},
   "source": [
    "Lets call a new experiment instance. We can avoid printing all the hyperparameters by setting the argument ```print_hyperparameters=False```"
   ]
  },
  {
   "cell_type": "code",
   "execution_count": 5,
   "id": "acfbd1a5-d3f2-415c-9db7-3cf76f6ee8af",
   "metadata": {},
   "outputs": [
    {
     "name": "stdout",
     "output_type": "stream",
     "text": [
      "\u001B[32m2022-07-12 13:32:36\u001B[0m | \u001B[1mINFO    \u001B[0m | \u001B[1mCreating new experiment\u001B[0m\n",
      "\u001B[32m2022-07-12 13:32:36\u001B[0m | \u001B[1mINFO    \u001B[0m | \u001B[1mExperiment directory is: /tmp/cifar/cifar10/CIFAR10Algorithm/debug/0034_20220712_133236\u001B[0m\n"
     ]
    }
   ],
   "source": [
    "experiment = Experiment(hparams, print_hyperparameters=False)"
   ]
  },
  {
   "cell_type": "code",
   "execution_count": 6,
   "id": "a4b15a9e-5f62-448a-954c-d43a16191719",
   "metadata": {},
   "outputs": [],
   "source": [
    "\n",
    "from cifar10_example import CIFAR10Algorithm"
   ]
  },
  {
   "cell_type": "code",
   "execution_count": 7,
   "id": "f9dbc553-9d5d-4347-96fe-a25721cc104e",
   "metadata": {},
   "outputs": [
    {
     "ename": "NameError",
     "evalue": "name 'CIFAR10Dataset' is not defined",
     "output_type": "error",
     "traceback": [
      "\u001B[0;31m---------------------------------------------------------------------------\u001B[0m",
      "\u001B[0;31mNameError\u001B[0m                                 Traceback (most recent call last)",
      "Input \u001B[0;32mIn [7]\u001B[0m, in \u001B[0;36m<cell line: 1>\u001B[0;34m()\u001B[0m\n\u001B[0;32m----> 1\u001B[0m alg \u001B[38;5;241m=\u001B[39m experiment\u001B[38;5;241m.\u001B[39mfit(CIFAR10Algorithm, \u001B[43mCIFAR10Dataset\u001B[49m)\n",
      "\u001B[0;31mNameError\u001B[0m: name 'CIFAR10Dataset' is not defined"
     ]
    }
   ],
   "source": [
    "alg = experiment.fit(CIFAR10Algorithm, CIFAR10Dataset)"
   ]
  },
  {
   "cell_type": "code",
   "execution_count": null,
   "id": "d9a56661-4c25-47a4-bf1e-52d55c17cc34",
   "metadata": {},
   "outputs": [],
   "source": []
  },
  {
   "cell_type": "code",
   "execution_count": null,
   "id": "2b521b68-bcde-43b0-9bc7-b7c1978f705f",
   "metadata": {},
   "outputs": [],
   "source": []
  },
  {
   "cell_type": "code",
   "execution_count": null,
   "id": "504f2142-b2d8-4ff7-b63b-ee135d4f428f",
   "metadata": {},
   "outputs": [],
   "source": []
  },
  {
   "cell_type": "code",
   "execution_count": 4,
   "id": "3728d4b8-fa48-4d7e-87f5-e139d7e10efa",
   "metadata": {},
   "outputs": [],
   "source": [
    "from cifar10_example import Cifar10Network\n",
    "from cifar10_example import CIFAR10Algorithm\n",
    "from cifar10_example import CIFAR10Dataset"
   ]
  },
  {
   "cell_type": "markdown",
   "id": "bce8b31e-b6f2-4ef4-8e55-3492a1ba2b93",
   "metadata": {},
   "source": [
    "Lets call a new experiment instance. We can avoid printing all the hyperparameters by setting the argument ```print_hyperparameters=False```"
   ]
  },
  {
   "cell_type": "code",
   "execution_count": 19,
   "id": "9f3a979e-2a34-4ab2-b653-8c5b9e579dc8",
   "metadata": {},
   "outputs": [
    {
     "name": "stdout",
     "output_type": "stream",
     "text": [
      "\u001B[32m2022-07-12 13:40:07\u001B[0m | \u001B[1mINFO    \u001B[0m | \u001B[1mCreating new experiment\u001B[0m\n",
      "\u001B[32m2022-07-12 13:40:07\u001B[0m | \u001B[1mINFO    \u001B[0m | \u001B[1mExperiment directory is: /tmp/cifar/cifar10/CIFAR10Algorithm/compare_parallel/0000_20220712_134007\u001B[0m\n",
      "\u001B[32m2022-07-12 13:40:07\u001B[0m | \u001B[1mINFO    \u001B[0m | \u001B[1mInitializing 2 parallel workers\u001B[0m\n",
      "\u001B[32m2022-07-12 13:40:07\u001B[0m | \u001B[1mINFO    \u001B[0m | \u001B[1mMultiprocessing port is: 48513\u001B[0m\n",
      "\u001B[32m2022-07-12 13:40:10\u001B[0m | \u001B[1mINFO    \u001B[0m | \u001B[1mWorker: 1/2 is running...\u001B[0m\n",
      "\u001B[32m2022-07-12 13:40:10\u001B[0m | \u001B[1mINFO    \u001B[0m | \u001B[1mWorker: 2/2 is running...\u001B[0m\n"
     ]
    },
    {
     "name": "stderr",
     "output_type": "stream",
     "text": [
      "2022-07-12 13:40:18.096677: I tensorflow/core/util/util.cc:169] oneDNN custom operations are on. You may see slightly different numerical results due to floating-point round-off errors from different computation orders. To turn them off, set the environment variable `TF_ENABLE_ONEDNN_OPTS=0`.\n",
      "train:   0%|          | 0/73 [00:00<?, ?it/s]/opt/conda/lib/python3.8/site-packages/torch/optim/lr_scheduler.py:131: UserWarning: Detected call of `lr_scheduler.step()` before `optimizer.step()`. In PyTorch 1.1.0 and later, you should call them in the opposite order: `optimizer.step()` before `lr_scheduler.step()`.  Failure to do this will result in PyTorch skipping the first value of the learning rate schedule. See more details at https://pytorch.org/docs/stable/optim.html#how-to-adjust-learning-rate\n",
      "  warnings.warn(\"Detected call of `lr_scheduler.step()` before `optimizer.step()`. \"\n",
      "train: 100%|██████████| 73/73 [00:11<00:00,  6.42it/s]\n",
      "validation: 100%|██████████| 22/22 [00:00<00:00, 35.55it/s]"
     ]
    },
    {
     "name": "stdout",
     "output_type": "stream",
     "text": [
      "\u001B[32m2022-07-12 13:40:31\u001B[0m | \u001B[1mINFO    \u001B[0m | \u001B[1m\u001B[0m\n",
      "\u001B[32m2022-07-12 13:40:31\u001B[0m | \u001B[1mINFO    \u001B[0m | \u001B[1mFinished epoch 1/40:\u001B[0m\n",
      "\u001B[32m2022-07-12 13:40:31\u001B[0m | \u001B[1mINFO    \u001B[0m | \u001B[1mtrain:\u001B[0m\n",
      "\u001B[32m2022-07-12 13:40:31\u001B[0m | \u001B[1mINFO    \u001B[0m | \u001B[1mloss:           | avg: 916.2     | std: 123.4     | min: 734.0     | 25%: 812.7     | 50%: 890.1     | 75%: 979.7     | max: 1.182e+03 \u001B[0m\n",
      "\u001B[32m2022-07-12 13:40:31\u001B[0m | \u001B[1mINFO    \u001B[0m | \u001B[1macc:            | avg: 0.4682    | std: 0.1628    | min: 0.05664   | 25%: 0.3887    | 50%: 0.502     | 75%: 0.5957    | max: 0.7168    \u001B[0m\n",
      "\u001B[32m2022-07-12 13:40:31\u001B[0m | \u001B[1mINFO    \u001B[0m | \u001B[1mlr:             | avg: 0.0005    | std: nan       | min: 0.0005    | 25%: 0.0005    | 50%: 0.0005    | 75%: 0.0005    | max: 0.0005    \u001B[0m\n",
      "\u001B[32m2022-07-12 13:40:31\u001B[0m | \u001B[1mINFO    \u001B[0m | \u001B[1mvalidation:\u001B[0m\n",
      "\u001B[32m2022-07-12 13:40:31\u001B[0m | \u001B[1mINFO    \u001B[0m | \u001B[1mloss:           | avg: 793.9     | std: 15.02     | min: 767.3     | 25%: 782.3     | 50%: 798.6     | 75%: 802.2     | max: 824.5     \u001B[0m\n",
      "\u001B[32m2022-07-12 13:40:31\u001B[0m | \u001B[1mINFO    \u001B[0m | \u001B[1macc:            | avg: 0.6197    | std: 0.02455   | min: 0.5781    | 25%: 0.6021    | 50%: 0.6143    | 75%: 0.6323    | max: 0.6719    \u001B[0m\n"
     ]
    },
    {
     "name": "stderr",
     "output_type": "stream",
     "text": [
      "\n",
      "train: 100%|██████████| 73/73 [00:09<00:00,  7.90it/s]\n",
      "validation: 100%|██████████| 22/22 [00:00<00:00, 35.33it/s]"
     ]
    },
    {
     "name": "stdout",
     "output_type": "stream",
     "text": [
      "\u001B[32m2022-07-12 13:40:43\u001B[0m | \u001B[1mINFO    \u001B[0m | \u001B[1m\u001B[0m\n",
      "\u001B[32m2022-07-12 13:40:43\u001B[0m | \u001B[1mINFO    \u001B[0m | \u001B[1mFinished epoch 2/40:\u001B[0m\n",
      "\u001B[32m2022-07-12 13:40:43\u001B[0m | \u001B[1mINFO    \u001B[0m | \u001B[1mtrain:\u001B[0m\n",
      "\u001B[32m2022-07-12 13:40:43\u001B[0m | \u001B[1mINFO    \u001B[0m | \u001B[1mloss:           | avg: 691.3     | std: 34.47     | min: 632.7     | 25%: 660.2     | 50%: 688.4     | 75%: 715.2     | max: 779.8     \u001B[0m\n",
      "\u001B[32m2022-07-12 13:40:43\u001B[0m | \u001B[1mINFO    \u001B[0m | \u001B[1macc:            | avg: 0.7554    | std: 0.04706   | min: 0.625     | 25%: 0.7266    | 50%: 0.7617    | 75%: 0.7871    | max: 0.8496    \u001B[0m\n",
      "\u001B[32m2022-07-12 13:40:43\u001B[0m | \u001B[1mINFO    \u001B[0m | \u001B[1mlr:             | avg: 0.0005703 | std: nan       | min: 0.0005703 | 25%: 0.0005703 | 50%: 0.0005703 | 75%: 0.0005703 | max: 0.0005703 \u001B[0m\n",
      "\u001B[32m2022-07-12 13:40:43\u001B[0m | \u001B[1mINFO    \u001B[0m | \u001B[1mvalidation:\u001B[0m\n",
      "\u001B[32m2022-07-12 13:40:43\u001B[0m | \u001B[1mINFO    \u001B[0m | \u001B[1mloss:           | avg: 691.3     | std: 8.848     | min: 671.4     | 25%: 685.7     | 50%: 692.2     | 75%: 698.5     | max: 706.0     \u001B[0m\n",
      "\u001B[32m2022-07-12 13:40:43\u001B[0m | \u001B[1mINFO    \u001B[0m | \u001B[1macc:            | avg: 0.7589    | std: 0.01464   | min: 0.7402    | 25%: 0.7485    | 50%: 0.7578    | 75%: 0.7632    | max: 0.791     \u001B[0m\n"
     ]
    },
    {
     "name": "stderr",
     "output_type": "stream",
     "text": [
      "\n",
      "train: 100%|██████████| 73/73 [00:09<00:00,  7.60it/s]\n",
      "validation: 100%|██████████| 22/22 [00:00<00:00, 35.27it/s]"
     ]
    },
    {
     "name": "stdout",
     "output_type": "stream",
     "text": [
      "\u001B[32m2022-07-12 13:40:55\u001B[0m | \u001B[1mINFO    \u001B[0m | \u001B[1m\u001B[0m\n",
      "\u001B[32m2022-07-12 13:40:55\u001B[0m | \u001B[1mINFO    \u001B[0m | \u001B[1mFinished epoch 3/40:\u001B[0m\n",
      "\u001B[32m2022-07-12 13:40:55\u001B[0m | \u001B[1mINFO    \u001B[0m | \u001B[1mtrain:\u001B[0m\n",
      "\u001B[32m2022-07-12 13:40:55\u001B[0m | \u001B[1mINFO    \u001B[0m | \u001B[1mloss:           | avg: 626.5     | std: 16.7      | min: 590.9     | 25%: 616.7     | 50%: 624.9     | 75%: 639.7     | max: 660.0     \u001B[0m\n",
      "\u001B[32m2022-07-12 13:40:55\u001B[0m | \u001B[1mINFO    \u001B[0m | \u001B[1macc:            | avg: 0.8319    | std: 0.02213   | min: 0.7832    | 25%: 0.8164    | 50%: 0.834     | 75%: 0.8457    | max: 0.8809    \u001B[0m\n",
      "\u001B[32m2022-07-12 13:40:55\u001B[0m | \u001B[1mINFO    \u001B[0m | \u001B[1mlr:             | avg: 0.0008555 | std: nan       | min: 0.0008555 | 25%: 0.0008555 | 50%: 0.0008555 | 75%: 0.0008555 | max: 0.0008555 \u001B[0m\n",
      "\u001B[32m2022-07-12 13:40:55\u001B[0m | \u001B[1mINFO    \u001B[0m | \u001B[1mvalidation:\u001B[0m\n",
      "\u001B[32m2022-07-12 13:40:55\u001B[0m | \u001B[1mINFO    \u001B[0m | \u001B[1mloss:           | avg: 642.8     | std: 10.32     | min: 623.1     | 25%: 636.4     | 50%: 642.2     | 75%: 648.6     | max: 665.7     \u001B[0m\n",
      "\u001B[32m2022-07-12 13:40:55\u001B[0m | \u001B[1mINFO    \u001B[0m | \u001B[1macc:            | avg: 0.8126    | std: 0.01817   | min: 0.7617    | 25%: 0.8003    | 50%: 0.8135    | 75%: 0.8262    | max: 0.8359    \u001B[0m\n"
     ]
    },
    {
     "name": "stderr",
     "output_type": "stream",
     "text": [
      "\n",
      "train: 100%|██████████| 73/73 [00:09<00:00,  7.76it/s]\n",
      "validation: 100%|██████████| 22/22 [00:00<00:00, 35.15it/s]"
     ]
    },
    {
     "name": "stdout",
     "output_type": "stream",
     "text": [
      "\u001B[32m2022-07-12 13:41:08\u001B[0m | \u001B[1mINFO    \u001B[0m | \u001B[1m\u001B[0m\n",
      "\u001B[32m2022-07-12 13:41:08\u001B[0m | \u001B[1mINFO    \u001B[0m | \u001B[1mFinished epoch 4/40:\u001B[0m\n",
      "\u001B[32m2022-07-12 13:41:08\u001B[0m | \u001B[1mINFO    \u001B[0m | \u001B[1mtrain:\u001B[0m\n",
      "\u001B[32m2022-07-12 13:41:08\u001B[0m | \u001B[1mINFO    \u001B[0m | \u001B[1mloss:           | avg: 592.6     | std: 13.22     | min: 555.4     | 25%: 585.3     | 50%: 594.5     | 75%: 601.3     | max: 624.5     \u001B[0m\n",
      "\u001B[32m2022-07-12 13:41:08\u001B[0m | \u001B[1mINFO    \u001B[0m | \u001B[1macc:            | avg: 0.8691    | std: 0.01874   | min: 0.834     | 25%: 0.8574    | 50%: 0.8672    | 75%: 0.8828    | max: 0.918     \u001B[0m\n",
      "\u001B[32m2022-07-12 13:41:08\u001B[0m | \u001B[1mINFO    \u001B[0m | \u001B[1mlr:             | avg: 0.001141  | std: nan       | min: 0.001141  | 25%: 0.001141  | 50%: 0.001141  | 75%: 0.001141  | max: 0.001141  \u001B[0m\n",
      "\u001B[32m2022-07-12 13:41:08\u001B[0m | \u001B[1mINFO    \u001B[0m | \u001B[1mvalidation:\u001B[0m\n",
      "\u001B[32m2022-07-12 13:41:08\u001B[0m | \u001B[1mINFO    \u001B[0m | \u001B[1mloss:           | avg: 604.2     | std: 9.834     | min: 588.8     | 25%: 598.3     | 50%: 603.6     | 75%: 609.1     | max: 629.3     \u001B[0m\n",
      "\u001B[32m2022-07-12 13:41:08\u001B[0m | \u001B[1mINFO    \u001B[0m | \u001B[1macc:            | avg: 0.8532    | std: 0.0158    | min: 0.8262    | 25%: 0.8457    | 50%: 0.8516    | 75%: 0.8623    | max: 0.8809    \u001B[0m\n"
     ]
    },
    {
     "name": "stderr",
     "output_type": "stream",
     "text": [
      "\n",
      "train: 100%|██████████| 73/73 [00:09<00:00,  7.59it/s]\n",
      "validation: 100%|██████████| 22/22 [00:00<00:00, 35.08it/s]"
     ]
    },
    {
     "name": "stdout",
     "output_type": "stream",
     "text": [
      "\u001B[32m2022-07-12 13:41:20\u001B[0m | \u001B[1mINFO    \u001B[0m | \u001B[1m\u001B[0m\n",
      "\u001B[32m2022-07-12 13:41:20\u001B[0m | \u001B[1mINFO    \u001B[0m | \u001B[1mFinished epoch 5/40:\u001B[0m\n",
      "\u001B[32m2022-07-12 13:41:20\u001B[0m | \u001B[1mINFO    \u001B[0m | \u001B[1mtrain:\u001B[0m\n",
      "\u001B[32m2022-07-12 13:41:20\u001B[0m | \u001B[1mINFO    \u001B[0m | \u001B[1mloss:           | avg: 564.1     | std: 16.49     | min: 535.8     | 25%: 553.9     | 50%: 562.9     | 75%: 569.3     | max: 637.1     \u001B[0m\n",
      "\u001B[32m2022-07-12 13:41:20\u001B[0m | \u001B[1mINFO    \u001B[0m | \u001B[1macc:            | avg: 0.8994    | std: 0.02176   | min: 0.8086    | 25%: 0.8887    | 50%: 0.9023    | 75%: 0.9121    | max: 0.9395    \u001B[0m\n",
      "\u001B[32m2022-07-12 13:41:20\u001B[0m | \u001B[1mINFO    \u001B[0m | \u001B[1mlr:             | avg: 0.001426  | std: nan       | min: 0.001426  | 25%: 0.001426  | 50%: 0.001426  | 75%: 0.001426  | max: 0.001426  \u001B[0m\n",
      "\u001B[32m2022-07-12 13:41:20\u001B[0m | \u001B[1mINFO    \u001B[0m | \u001B[1mvalidation:\u001B[0m\n",
      "\u001B[32m2022-07-12 13:41:20\u001B[0m | \u001B[1mINFO    \u001B[0m | \u001B[1mloss:           | avg: 590.5     | std: 11.68     | min: 569.5     | 25%: 584.8     | 50%: 588.7     | 75%: 597.1     | max: 612.2     \u001B[0m\n",
      "\u001B[32m2022-07-12 13:41:20\u001B[0m | \u001B[1mINFO    \u001B[0m | \u001B[1macc:            | avg: 0.8737    | std: 0.01612   | min: 0.8438    | 25%: 0.8638    | 50%: 0.874     | 75%: 0.8853    | max: 0.9082    \u001B[0m\n"
     ]
    },
    {
     "name": "stderr",
     "output_type": "stream",
     "text": [
      "\n",
      "train: 100%|██████████| 73/73 [00:09<00:00,  7.59it/s]\n",
      "validation: 100%|██████████| 22/22 [00:00<00:00, 34.62it/s]"
     ]
    },
    {
     "name": "stdout",
     "output_type": "stream",
     "text": [
      "\u001B[32m2022-07-12 13:41:33\u001B[0m | \u001B[1mINFO    \u001B[0m | \u001B[1m\u001B[0m\n",
      "\u001B[32m2022-07-12 13:41:33\u001B[0m | \u001B[1mINFO    \u001B[0m | \u001B[1mFinished epoch 6/40:\u001B[0m\n",
      "\u001B[32m2022-07-12 13:41:33\u001B[0m | \u001B[1mINFO    \u001B[0m | \u001B[1mtrain:\u001B[0m\n",
      "\u001B[32m2022-07-12 13:41:33\u001B[0m | \u001B[1mINFO    \u001B[0m | \u001B[1mloss:           | avg: 547.2     | std: 13.02     | min: 528.2     | 25%: 537.5     | 50%: 544.8     | 75%: 554.6     | max: 600.7     \u001B[0m\n",
      "\u001B[32m2022-07-12 13:41:33\u001B[0m | \u001B[1mINFO    \u001B[0m | \u001B[1macc:            | avg: 0.9159    | std: 0.01795   | min: 0.8516    | 25%: 0.9082    | 50%: 0.918     | 75%: 0.9277    | max: 0.9492    \u001B[0m\n",
      "\u001B[32m2022-07-12 13:41:33\u001B[0m | \u001B[1mINFO    \u001B[0m | \u001B[1mlr:             | avg: 0.001711  | std: nan       | min: 0.001711  | 25%: 0.001711  | 50%: 0.001711  | 75%: 0.001711  | max: 0.001711  \u001B[0m\n",
      "\u001B[32m2022-07-12 13:41:33\u001B[0m | \u001B[1mINFO    \u001B[0m | \u001B[1mvalidation:\u001B[0m\n",
      "\u001B[32m2022-07-12 13:41:33\u001B[0m | \u001B[1mINFO    \u001B[0m | \u001B[1mloss:           | avg: 641.9     | std: 15.69     | min: 611.2     | 25%: 632.5     | 50%: 645.9     | 75%: 652.9     | max: 670.9     \u001B[0m\n",
      "\u001B[32m2022-07-12 13:41:33\u001B[0m | \u001B[1mINFO    \u001B[0m | \u001B[1macc:            | avg: 0.8156    | std: 0.01779   | min: 0.7832    | 25%: 0.8086    | 50%: 0.8135    | 75%: 0.8198    | max: 0.8516    \u001B[0m\n"
     ]
    },
    {
     "name": "stderr",
     "output_type": "stream",
     "text": [
      "\n",
      "train: 100%|██████████| 73/73 [00:09<00:00,  7.59it/s]\n",
      "validation: 100%|██████████| 22/22 [00:00<00:00, 34.40it/s]"
     ]
    },
    {
     "name": "stdout",
     "output_type": "stream",
     "text": [
      "\u001B[32m2022-07-12 13:41:45\u001B[0m | \u001B[1mINFO    \u001B[0m | \u001B[1m\u001B[0m\n",
      "\u001B[32m2022-07-12 13:41:45\u001B[0m | \u001B[1mINFO    \u001B[0m | \u001B[1mFinished epoch 7/40:\u001B[0m\n",
      "\u001B[32m2022-07-12 13:41:45\u001B[0m | \u001B[1mINFO    \u001B[0m | \u001B[1mtrain:\u001B[0m\n",
      "\u001B[32m2022-07-12 13:41:45\u001B[0m | \u001B[1mINFO    \u001B[0m | \u001B[1mloss:           | avg: 531.1     | std: 12.84     | min: 504.3     | 25%: 523.8     | 50%: 528.8     | 75%: 536.3     | max: 569.3     \u001B[0m\n",
      "\u001B[32m2022-07-12 13:41:45\u001B[0m | \u001B[1mINFO    \u001B[0m | \u001B[1macc:            | avg: 0.9348    | std: 0.01668   | min: 0.8809    | 25%: 0.9258    | 50%: 0.9375    | 75%: 0.9473    | max: 0.9668    \u001B[0m\n",
      "\u001B[32m2022-07-12 13:41:45\u001B[0m | \u001B[1mINFO    \u001B[0m | \u001B[1mlr:             | avg: 0.001996  | std: nan       | min: 0.001996  | 25%: 0.001996  | 50%: 0.001996  | 75%: 0.001996  | max: 0.001996  \u001B[0m\n",
      "\u001B[32m2022-07-12 13:41:45\u001B[0m | \u001B[1mINFO    \u001B[0m | \u001B[1mvalidation:\u001B[0m\n",
      "\u001B[32m2022-07-12 13:41:45\u001B[0m | \u001B[1mINFO    \u001B[0m | \u001B[1mloss:           | avg: 604.4     | std: 11.74     | min: 571.6     | 25%: 597.2     | 50%: 604.6     | 75%: 614.0     | max: 621.6     \u001B[0m\n",
      "\u001B[32m2022-07-12 13:41:45\u001B[0m | \u001B[1mINFO    \u001B[0m | \u001B[1macc:            | avg: 0.8517    | std: 0.0157    | min: 0.8223    | 25%: 0.8398    | 50%: 0.8496    | 75%: 0.8608    | max: 0.8848    \u001B[0m\n"
     ]
    },
    {
     "name": "stderr",
     "output_type": "stream",
     "text": [
      "\n",
      "train: 100%|██████████| 73/73 [00:09<00:00,  7.50it/s]\n",
      "validation: 100%|██████████| 22/22 [00:00<00:00, 34.28it/s]"
     ]
    },
    {
     "name": "stdout",
     "output_type": "stream",
     "text": [
      "\u001B[32m2022-07-12 13:41:58\u001B[0m | \u001B[1mINFO    \u001B[0m | \u001B[1m\u001B[0m\n",
      "\u001B[32m2022-07-12 13:41:58\u001B[0m | \u001B[1mINFO    \u001B[0m | \u001B[1mFinished epoch 8/40:\u001B[0m\n",
      "\u001B[32m2022-07-12 13:41:58\u001B[0m | \u001B[1mINFO    \u001B[0m | \u001B[1mtrain:\u001B[0m\n",
      "\u001B[32m2022-07-12 13:41:58\u001B[0m | \u001B[1mINFO    \u001B[0m | \u001B[1mloss:           | avg: 513.2     | std: 10.79     | min: 490.7     | 25%: 504.0     | 50%: 514.9     | 75%: 518.5     | max: 542.0     \u001B[0m\n",
      "\u001B[32m2022-07-12 13:41:58\u001B[0m | \u001B[1mINFO    \u001B[0m | \u001B[1macc:            | avg: 0.9533    | std: 0.01233   | min: 0.9082    | 25%: 0.9473    | 50%: 0.9531    | 75%: 0.9629    | max: 0.9766    \u001B[0m\n",
      "\u001B[32m2022-07-12 13:41:58\u001B[0m | \u001B[1mINFO    \u001B[0m | \u001B[1mlr:             | avg: 0.00196   | std: nan       | min: 0.00196   | 25%: 0.00196   | 50%: 0.00196   | 75%: 0.00196   | max: 0.00196   \u001B[0m\n",
      "\u001B[32m2022-07-12 13:41:58\u001B[0m | \u001B[1mINFO    \u001B[0m | \u001B[1mvalidation:\u001B[0m\n",
      "\u001B[32m2022-07-12 13:41:58\u001B[0m | \u001B[1mINFO    \u001B[0m | \u001B[1mloss:           | avg: 573.9     | std: 9.256     | min: 557.9     | 25%: 567.1     | 50%: 573.0     | 75%: 579.8     | max: 596.1     \u001B[0m\n",
      "\u001B[32m2022-07-12 13:41:58\u001B[0m | \u001B[1mINFO    \u001B[0m | \u001B[1macc:            | avg: 0.8918    | std: 0.01366   | min: 0.8672    | 25%: 0.8813    | 50%: 0.8906    | 75%: 0.9023    | max: 0.916     \u001B[0m\n"
     ]
    },
    {
     "name": "stderr",
     "output_type": "stream",
     "text": [
      "\n",
      "train: 100%|██████████| 73/73 [00:09<00:00,  7.75it/s]\n",
      "validation: 100%|██████████| 22/22 [00:00<00:00, 34.38it/s]"
     ]
    },
    {
     "name": "stdout",
     "output_type": "stream",
     "text": [
      "\u001B[32m2022-07-12 13:42:10\u001B[0m | \u001B[1mINFO    \u001B[0m | \u001B[1m\u001B[0m\n",
      "\u001B[32m2022-07-12 13:42:10\u001B[0m | \u001B[1mINFO    \u001B[0m | \u001B[1mFinished epoch 9/40:\u001B[0m\n",
      "\u001B[32m2022-07-12 13:42:10\u001B[0m | \u001B[1mINFO    \u001B[0m | \u001B[1mtrain:\u001B[0m\n",
      "\u001B[32m2022-07-12 13:42:10\u001B[0m | \u001B[1mINFO    \u001B[0m | \u001B[1mloss:           | avg: 496.6     | std: 7.706     | min: 480.5     | 25%: 491.2     | 50%: 496.3     | 75%: 502.2     | max: 514.5     \u001B[0m\n",
      "\u001B[32m2022-07-12 13:42:10\u001B[0m | \u001B[1mINFO    \u001B[0m | \u001B[1macc:            | avg: 0.9674    | std: 0.009818  | min: 0.9434    | 25%: 0.9609    | 50%: 0.9688    | 75%: 0.9746    | max: 0.9883    \u001B[0m\n",
      "\u001B[32m2022-07-12 13:42:10\u001B[0m | \u001B[1mINFO    \u001B[0m | \u001B[1mlr:             | avg: 0.001919  | std: nan       | min: 0.001919  | 25%: 0.001919  | 50%: 0.001919  | 75%: 0.001919  | max: 0.001919  \u001B[0m\n",
      "\u001B[32m2022-07-12 13:42:10\u001B[0m | \u001B[1mINFO    \u001B[0m | \u001B[1mvalidation:\u001B[0m\n",
      "\u001B[32m2022-07-12 13:42:10\u001B[0m | \u001B[1mINFO    \u001B[0m | \u001B[1mloss:           | avg: 570.4     | std: 13.25     | min: 547.6     | 25%: 563.4     | 50%: 569.0     | 75%: 579.7     | max: 608.0     \u001B[0m\n",
      "\u001B[32m2022-07-12 13:42:10\u001B[0m | \u001B[1mINFO    \u001B[0m | \u001B[1macc:            | avg: 0.8825    | std: 0.01282   | min: 0.8496    | 25%: 0.8774    | 50%: 0.8848    | 75%: 0.8887    | max: 0.9043    \u001B[0m\n"
     ]
    },
    {
     "name": "stderr",
     "output_type": "stream",
     "text": [
      "\n",
      "train: 100%|██████████| 73/73 [00:09<00:00,  7.68it/s]\n",
      "validation: 100%|██████████| 22/22 [00:00<00:00, 33.77it/s]"
     ]
    },
    {
     "name": "stdout",
     "output_type": "stream",
     "text": [
      "\u001B[32m2022-07-12 13:42:23\u001B[0m | \u001B[1mINFO    \u001B[0m | \u001B[1m\u001B[0m\n",
      "\u001B[32m2022-07-12 13:42:23\u001B[0m | \u001B[1mINFO    \u001B[0m | \u001B[1mFinished epoch 10/40:\u001B[0m\n",
      "\u001B[32m2022-07-12 13:42:23\u001B[0m | \u001B[1mINFO    \u001B[0m | \u001B[1mtrain:\u001B[0m\n",
      "\u001B[32m2022-07-12 13:42:23\u001B[0m | \u001B[1mINFO    \u001B[0m | \u001B[1mloss:           | avg: 486.0     | std: 7.005     | min: 474.4     | 25%: 480.1     | 50%: 485.0     | 75%: 491.0     | max: 507.0     \u001B[0m\n",
      "\u001B[32m2022-07-12 13:42:23\u001B[0m | \u001B[1mINFO    \u001B[0m | \u001B[1macc:            | avg: 0.9762    | std: 0.009052  | min: 0.9492    | 25%: 0.9707    | 50%: 0.9785    | 75%: 0.9824    | max: 0.9902    \u001B[0m\n",
      "\u001B[32m2022-07-12 13:42:23\u001B[0m | \u001B[1mINFO    \u001B[0m | \u001B[1mlr:             | avg: 0.001878  | std: nan       | min: 0.001878  | 25%: 0.001878  | 50%: 0.001878  | 75%: 0.001878  | max: 0.001878  \u001B[0m\n",
      "\u001B[32m2022-07-12 13:42:23\u001B[0m | \u001B[1mINFO    \u001B[0m | \u001B[1mvalidation:\u001B[0m\n",
      "\u001B[32m2022-07-12 13:42:23\u001B[0m | \u001B[1mINFO    \u001B[0m | \u001B[1mloss:           | avg: 551.5     | std: 9.122     | min: 531.4     | 25%: 545.6     | 50%: 553.3     | 75%: 557.0     | max: 565.4     \u001B[0m\n",
      "\u001B[32m2022-07-12 13:42:23\u001B[0m | \u001B[1mINFO    \u001B[0m | \u001B[1macc:            | avg: 0.898     | std: 0.01128   | min: 0.8789    | 25%: 0.8892    | 50%: 0.8984    | 75%: 0.9023    | max: 0.9277    \u001B[0m\n"
     ]
    },
    {
     "name": "stderr",
     "output_type": "stream",
     "text": [
      "\n",
      "train: 100%|██████████| 73/73 [00:09<00:00,  7.63it/s]\n",
      "validation: 100%|██████████| 22/22 [00:00<00:00, 34.48it/s]"
     ]
    },
    {
     "name": "stdout",
     "output_type": "stream",
     "text": [
      "\u001B[32m2022-07-12 13:42:35\u001B[0m | \u001B[1mINFO    \u001B[0m | \u001B[1m\u001B[0m\n",
      "\u001B[32m2022-07-12 13:42:35\u001B[0m | \u001B[1mINFO    \u001B[0m | \u001B[1mFinished epoch 11/40:\u001B[0m\n",
      "\u001B[32m2022-07-12 13:42:35\u001B[0m | \u001B[1mINFO    \u001B[0m | \u001B[1mtrain:\u001B[0m\n",
      "\u001B[32m2022-07-12 13:42:35\u001B[0m | \u001B[1mINFO    \u001B[0m | \u001B[1mloss:           | avg: 477.5     | std: 7.161     | min: 463.7     | 25%: 472.0     | 50%: 476.9     | 75%: 481.3     | max: 505.6     \u001B[0m\n",
      "\u001B[32m2022-07-12 13:42:35\u001B[0m | \u001B[1mINFO    \u001B[0m | \u001B[1macc:            | avg: 0.9844    | std: 0.007682  | min: 0.9551    | 25%: 0.9805    | 50%: 0.9863    | 75%: 0.9902    | max: 0.998     \u001B[0m\n",
      "\u001B[32m2022-07-12 13:42:35\u001B[0m | \u001B[1mINFO    \u001B[0m | \u001B[1mlr:             | avg: 0.001838  | std: nan       | min: 0.001838  | 25%: 0.001838  | 50%: 0.001838  | 75%: 0.001838  | max: 0.001838  \u001B[0m\n",
      "\u001B[32m2022-07-12 13:42:35\u001B[0m | \u001B[1mINFO    \u001B[0m | \u001B[1mvalidation:\u001B[0m\n",
      "\u001B[32m2022-07-12 13:42:35\u001B[0m | \u001B[1mINFO    \u001B[0m | \u001B[1mloss:           | avg: 531.5     | std: 10.88     | min: 513.7     | 25%: 523.1     | 50%: 530.7     | 75%: 540.5     | max: 549.6     \u001B[0m\n",
      "\u001B[32m2022-07-12 13:42:35\u001B[0m | \u001B[1mINFO    \u001B[0m | \u001B[1macc:            | avg: 0.9186    | std: 0.01451   | min: 0.8887    | 25%: 0.9048    | 50%: 0.9199    | 75%: 0.9312    | max: 0.9414    \u001B[0m\n"
     ]
    },
    {
     "name": "stderr",
     "output_type": "stream",
     "text": [
      "\n",
      "train: 100%|██████████| 73/73 [00:09<00:00,  7.43it/s]\n",
      "validation: 100%|██████████| 22/22 [00:00<00:00, 33.48it/s]"
     ]
    },
    {
     "name": "stdout",
     "output_type": "stream",
     "text": [
      "\u001B[32m2022-07-12 13:42:48\u001B[0m | \u001B[1mINFO    \u001B[0m | \u001B[1m\u001B[0m\n",
      "\u001B[32m2022-07-12 13:42:48\u001B[0m | \u001B[1mINFO    \u001B[0m | \u001B[1mFinished epoch 12/40:\u001B[0m\n",
      "\u001B[32m2022-07-12 13:42:48\u001B[0m | \u001B[1mINFO    \u001B[0m | \u001B[1mtrain:\u001B[0m\n",
      "\u001B[32m2022-07-12 13:42:48\u001B[0m | \u001B[1mINFO    \u001B[0m | \u001B[1mloss:           | avg: 469.7     | std: 5.272     | min: 460.1     | 25%: 466.3     | 50%: 468.7     | 75%: 473.3     | max: 487.4     \u001B[0m\n",
      "\u001B[32m2022-07-12 13:42:48\u001B[0m | \u001B[1mINFO    \u001B[0m | \u001B[1macc:            | avg: 0.9902    | std: 0.005814  | min: 0.9688    | 25%: 0.9863    | 50%: 0.9902    | 75%: 0.9941    | max: 1.0       \u001B[0m\n",
      "\u001B[32m2022-07-12 13:42:48\u001B[0m | \u001B[1mINFO    \u001B[0m | \u001B[1mlr:             | avg: 0.001797  | std: nan       | min: 0.001797  | 25%: 0.001797  | 50%: 0.001797  | 75%: 0.001797  | max: 0.001797  \u001B[0m\n",
      "\u001B[32m2022-07-12 13:42:48\u001B[0m | \u001B[1mINFO    \u001B[0m | \u001B[1mvalidation:\u001B[0m\n",
      "\u001B[32m2022-07-12 13:42:48\u001B[0m | \u001B[1mINFO    \u001B[0m | \u001B[1mloss:           | avg: 527.9     | std: 7.982     | min: 514.5     | 25%: 523.8     | 50%: 527.5     | 75%: 531.3     | max: 548.8     \u001B[0m\n",
      "\u001B[32m2022-07-12 13:42:48\u001B[0m | \u001B[1mINFO    \u001B[0m | \u001B[1macc:            | avg: 0.9212    | std: 0.0104    | min: 0.9023    | 25%: 0.9126    | 50%: 0.9229    | 75%: 0.9292    | max: 0.9414    \u001B[0m\n"
     ]
    },
    {
     "name": "stderr",
     "output_type": "stream",
     "text": [
      "\n",
      "train: 100%|██████████| 73/73 [00:11<00:00,  6.40it/s]\n",
      "validation: 100%|██████████| 22/22 [00:00<00:00, 34.22it/s]"
     ]
    },
    {
     "name": "stdout",
     "output_type": "stream",
     "text": [
      "\u001B[32m2022-07-12 13:43:03\u001B[0m | \u001B[1mINFO    \u001B[0m | \u001B[1m\u001B[0m\n",
      "\u001B[32m2022-07-12 13:43:03\u001B[0m | \u001B[1mINFO    \u001B[0m | \u001B[1mFinished epoch 13/40:\u001B[0m\n",
      "\u001B[32m2022-07-12 13:43:03\u001B[0m | \u001B[1mINFO    \u001B[0m | \u001B[1mtrain:\u001B[0m\n",
      "\u001B[32m2022-07-12 13:43:03\u001B[0m | \u001B[1mINFO    \u001B[0m | \u001B[1mloss:           | avg: 464.7     | std: 5.023     | min: 457.3     | 25%: 460.9     | 50%: 463.5     | 75%: 467.6     | max: 482.0     \u001B[0m\n",
      "\u001B[32m2022-07-12 13:43:03\u001B[0m | \u001B[1mINFO    \u001B[0m | \u001B[1macc:            | avg: 0.9924    | std: 0.005224  | min: 0.9766    | 25%: 0.9902    | 50%: 0.9941    | 75%: 0.9961    | max: 1.0       \u001B[0m\n",
      "\u001B[32m2022-07-12 13:43:03\u001B[0m | \u001B[1mINFO    \u001B[0m | \u001B[1mlr:             | avg: 0.001756  | std: nan       | min: 0.001756  | 25%: 0.001756  | 50%: 0.001756  | 75%: 0.001756  | max: 0.001756  \u001B[0m\n",
      "\u001B[32m2022-07-12 13:43:03\u001B[0m | \u001B[1mINFO    \u001B[0m | \u001B[1mvalidation:\u001B[0m\n",
      "\u001B[32m2022-07-12 13:43:03\u001B[0m | \u001B[1mINFO    \u001B[0m | \u001B[1mloss:           | avg: 527.6     | std: 11.16     | min: 505.0     | 25%: 523.5     | 50%: 527.6     | 75%: 531.9     | max: 551.9     \u001B[0m\n",
      "\u001B[32m2022-07-12 13:43:03\u001B[0m | \u001B[1mINFO    \u001B[0m | \u001B[1macc:            | avg: 0.9205    | std: 0.01434   | min: 0.8848    | 25%: 0.9126    | 50%: 0.9209    | 75%: 0.9321    | max: 0.9434    \u001B[0m\n"
     ]
    },
    {
     "name": "stderr",
     "output_type": "stream",
     "text": [
      "\n",
      "train: 100%|██████████| 73/73 [00:11<00:00,  6.40it/s]\n",
      "validation: 100%|██████████| 22/22 [00:00<00:00, 34.40it/s]"
     ]
    },
    {
     "name": "stdout",
     "output_type": "stream",
     "text": [
      "\u001B[32m2022-07-12 13:43:17\u001B[0m | \u001B[1mINFO    \u001B[0m | \u001B[1m\u001B[0m\n",
      "\u001B[32m2022-07-12 13:43:17\u001B[0m | \u001B[1mINFO    \u001B[0m | \u001B[1mFinished epoch 14/40:\u001B[0m\n",
      "\u001B[32m2022-07-12 13:43:17\u001B[0m | \u001B[1mINFO    \u001B[0m | \u001B[1mtrain:\u001B[0m\n",
      "\u001B[32m2022-07-12 13:43:17\u001B[0m | \u001B[1mINFO    \u001B[0m | \u001B[1mloss:           | avg: 459.7     | std: 3.561     | min: 453.6     | 25%: 457.0     | 50%: 459.1     | 75%: 462.1     | max: 471.8     \u001B[0m\n",
      "\u001B[32m2022-07-12 13:43:17\u001B[0m | \u001B[1mINFO    \u001B[0m | \u001B[1macc:            | avg: 0.9969    | std: 0.002946  | min: 0.9902    | 25%: 0.9941    | 50%: 0.998     | 75%: 1.0       | max: 1.0       \u001B[0m\n",
      "\u001B[32m2022-07-12 13:43:17\u001B[0m | \u001B[1mINFO    \u001B[0m | \u001B[1mlr:             | avg: 0.001715  | std: nan       | min: 0.001715  | 25%: 0.001715  | 50%: 0.001715  | 75%: 0.001715  | max: 0.001715  \u001B[0m\n",
      "\u001B[32m2022-07-12 13:43:17\u001B[0m | \u001B[1mINFO    \u001B[0m | \u001B[1mvalidation:\u001B[0m\n",
      "\u001B[32m2022-07-12 13:43:17\u001B[0m | \u001B[1mINFO    \u001B[0m | \u001B[1mloss:           | avg: 523.5     | std: 9.782     | min: 501.2     | 25%: 519.2     | 50%: 524.4     | 75%: 530.2     | max: 538.8     \u001B[0m\n",
      "\u001B[32m2022-07-12 13:43:17\u001B[0m | \u001B[1mINFO    \u001B[0m | \u001B[1macc:            | avg: 0.9238    | std: 0.01132   | min: 0.9043    | 25%: 0.9185    | 50%: 0.9229    | 75%: 0.9272    | max: 0.9512    \u001B[0m\n"
     ]
    },
    {
     "name": "stderr",
     "output_type": "stream",
     "text": [
      "\n",
      "train: 100%|██████████| 73/73 [00:11<00:00,  6.45it/s]\n",
      "validation: 100%|██████████| 22/22 [00:00<00:00, 34.72it/s]"
     ]
    },
    {
     "name": "stdout",
     "output_type": "stream",
     "text": [
      "\u001B[32m2022-07-12 13:43:32\u001B[0m | \u001B[1mINFO    \u001B[0m | \u001B[1m\u001B[0m\n",
      "\u001B[32m2022-07-12 13:43:32\u001B[0m | \u001B[1mINFO    \u001B[0m | \u001B[1mFinished epoch 15/40:\u001B[0m\n",
      "\u001B[32m2022-07-12 13:43:32\u001B[0m | \u001B[1mINFO    \u001B[0m | \u001B[1mtrain:\u001B[0m\n",
      "\u001B[32m2022-07-12 13:43:32\u001B[0m | \u001B[1mINFO    \u001B[0m | \u001B[1mloss:           | avg: 457.5     | std: 3.242     | min: 452.8     | 25%: 455.1     | 50%: 456.6     | 75%: 459.8     | max: 470.5     \u001B[0m\n",
      "\u001B[32m2022-07-12 13:43:32\u001B[0m | \u001B[1mINFO    \u001B[0m | \u001B[1macc:            | avg: 0.9971    | std: 0.003056  | min: 0.9805    | 25%: 0.9961    | 50%: 0.998     | 75%: 0.998     | max: 1.0       \u001B[0m\n",
      "\u001B[32m2022-07-12 13:43:32\u001B[0m | \u001B[1mINFO    \u001B[0m | \u001B[1mlr:             | avg: 0.001675  | std: nan       | min: 0.001675  | 25%: 0.001675  | 50%: 0.001675  | 75%: 0.001675  | max: 0.001675  \u001B[0m\n",
      "\u001B[32m2022-07-12 13:43:32\u001B[0m | \u001B[1mINFO    \u001B[0m | \u001B[1mvalidation:\u001B[0m\n",
      "\u001B[32m2022-07-12 13:43:32\u001B[0m | \u001B[1mINFO    \u001B[0m | \u001B[1mloss:           | avg: 523.6     | std: 6.237     | min: 510.2     | 25%: 519.9     | 50%: 522.9     | 75%: 528.4     | max: 534.3     \u001B[0m\n",
      "\u001B[32m2022-07-12 13:43:32\u001B[0m | \u001B[1mINFO    \u001B[0m | \u001B[1macc:            | avg: 0.9267    | std: 0.01004   | min: 0.9082    | 25%: 0.9219    | 50%: 0.9287    | 75%: 0.9316    | max: 0.9434    \u001B[0m\n"
     ]
    },
    {
     "name": "stderr",
     "output_type": "stream",
     "text": [
      "\n",
      "train: 100%|██████████| 73/73 [00:11<00:00,  6.36it/s]\n",
      "validation: 100%|██████████| 22/22 [00:00<00:00, 34.48it/s]"
     ]
    },
    {
     "name": "stdout",
     "output_type": "stream",
     "text": [
      "\u001B[32m2022-07-12 13:43:47\u001B[0m | \u001B[1mINFO    \u001B[0m | \u001B[1m\u001B[0m\n",
      "\u001B[32m2022-07-12 13:43:47\u001B[0m | \u001B[1mINFO    \u001B[0m | \u001B[1mFinished epoch 16/40:\u001B[0m\n",
      "\u001B[32m2022-07-12 13:43:47\u001B[0m | \u001B[1mINFO    \u001B[0m | \u001B[1mtrain:\u001B[0m\n",
      "\u001B[32m2022-07-12 13:43:47\u001B[0m | \u001B[1mINFO    \u001B[0m | \u001B[1mloss:           | avg: 455.1     | std: 3.135     | min: 451.0     | 25%: 453.0     | 50%: 454.2     | 75%: 456.6     | max: 466.1     \u001B[0m\n",
      "\u001B[32m2022-07-12 13:43:47\u001B[0m | \u001B[1mINFO    \u001B[0m | \u001B[1macc:            | avg: 0.9981    | std: 0.00249   | min: 0.9883    | 25%: 0.998     | 50%: 0.998     | 75%: 1.0       | max: 1.0       \u001B[0m\n",
      "\u001B[32m2022-07-12 13:43:47\u001B[0m | \u001B[1mINFO    \u001B[0m | \u001B[1mlr:             | avg: 0.001634  | std: nan       | min: 0.001634  | 25%: 0.001634  | 50%: 0.001634  | 75%: 0.001634  | max: 0.001634  \u001B[0m\n",
      "\u001B[32m2022-07-12 13:43:47\u001B[0m | \u001B[1mINFO    \u001B[0m | \u001B[1mvalidation:\u001B[0m\n",
      "\u001B[32m2022-07-12 13:43:47\u001B[0m | \u001B[1mINFO    \u001B[0m | \u001B[1mloss:           | avg: 522.5     | std: 9.365     | min: 508.2     | 25%: 516.9     | 50%: 521.6     | 75%: 527.4     | max: 544.0     \u001B[0m\n",
      "\u001B[32m2022-07-12 13:43:47\u001B[0m | \u001B[1mINFO    \u001B[0m | \u001B[1macc:            | avg: 0.9266    | std: 0.01168   | min: 0.8984    | 25%: 0.9189    | 50%: 0.9287    | 75%: 0.9336    | max: 0.9473    \u001B[0m\n"
     ]
    },
    {
     "name": "stderr",
     "output_type": "stream",
     "text": [
      "\n",
      "train: 100%|██████████| 73/73 [00:10<00:00,  7.25it/s]\n",
      "validation: 100%|██████████| 22/22 [00:00<00:00, 34.67it/s]"
     ]
    },
    {
     "name": "stdout",
     "output_type": "stream",
     "text": [
      "\u001B[32m2022-07-12 13:44:00\u001B[0m | \u001B[1mINFO    \u001B[0m | \u001B[1m\u001B[0m\n",
      "\u001B[32m2022-07-12 13:44:00\u001B[0m | \u001B[1mINFO    \u001B[0m | \u001B[1mFinished epoch 17/40:\u001B[0m\n",
      "\u001B[32m2022-07-12 13:44:00\u001B[0m | \u001B[1mINFO    \u001B[0m | \u001B[1mtrain:\u001B[0m\n",
      "\u001B[32m2022-07-12 13:44:00\u001B[0m | \u001B[1mINFO    \u001B[0m | \u001B[1mloss:           | avg: 453.9     | std: 2.624     | min: 450.4     | 25%: 452.1     | 50%: 453.3     | 75%: 454.9     | max: 464.2     \u001B[0m\n",
      "\u001B[32m2022-07-12 13:44:00\u001B[0m | \u001B[1mINFO    \u001B[0m | \u001B[1macc:            | avg: 0.9987    | std: 0.002086  | min: 0.9883    | 25%: 0.998     | 50%: 1.0       | 75%: 1.0       | max: 1.0       \u001B[0m\n",
      "\u001B[32m2022-07-12 13:44:00\u001B[0m | \u001B[1mINFO    \u001B[0m | \u001B[1mlr:             | avg: 0.001593  | std: nan       | min: 0.001593  | 25%: 0.001593  | 50%: 0.001593  | 75%: 0.001593  | max: 0.001593  \u001B[0m\n",
      "\u001B[32m2022-07-12 13:44:00\u001B[0m | \u001B[1mINFO    \u001B[0m | \u001B[1mvalidation:\u001B[0m\n",
      "\u001B[32m2022-07-12 13:44:00\u001B[0m | \u001B[1mINFO    \u001B[0m | \u001B[1mloss:           | avg: 518.3     | std: 8.454     | min: 506.7     | 25%: 511.4     | 50%: 516.6     | 75%: 525.3     | max: 535.7     \u001B[0m\n",
      "\u001B[32m2022-07-12 13:44:00\u001B[0m | \u001B[1mINFO    \u001B[0m | \u001B[1macc:            | avg: 0.9304    | std: 0.0102    | min: 0.9102    | 25%: 0.9243    | 50%: 0.9326    | 75%: 0.9355    | max: 0.9492    \u001B[0m\n"
     ]
    },
    {
     "name": "stderr",
     "output_type": "stream",
     "text": [
      "\n",
      "train: 100%|██████████| 73/73 [00:09<00:00,  7.61it/s]\n",
      "validation: 100%|██████████| 22/22 [00:00<00:00, 34.29it/s]"
     ]
    },
    {
     "name": "stdout",
     "output_type": "stream",
     "text": [
      "\u001B[32m2022-07-12 13:44:12\u001B[0m | \u001B[1mINFO    \u001B[0m | \u001B[1m\u001B[0m\n",
      "\u001B[32m2022-07-12 13:44:12\u001B[0m | \u001B[1mINFO    \u001B[0m | \u001B[1mFinished epoch 18/40:\u001B[0m\n",
      "\u001B[32m2022-07-12 13:44:12\u001B[0m | \u001B[1mINFO    \u001B[0m | \u001B[1mtrain:\u001B[0m\n",
      "\u001B[32m2022-07-12 13:44:12\u001B[0m | \u001B[1mINFO    \u001B[0m | \u001B[1mloss:           | avg: 451.7     | std: 1.884     | min: 448.9     | 25%: 450.4     | 50%: 451.4     | 75%: 452.6     | max: 458.2     \u001B[0m\n",
      "\u001B[32m2022-07-12 13:44:12\u001B[0m | \u001B[1mINFO    \u001B[0m | \u001B[1macc:            | avg: 0.9993    | std: 0.001311  | min: 0.9941    | 25%: 1.0       | 50%: 1.0       | 75%: 1.0       | max: 1.0       \u001B[0m\n",
      "\u001B[32m2022-07-12 13:44:12\u001B[0m | \u001B[1mINFO    \u001B[0m | \u001B[1mlr:             | avg: 0.001552  | std: nan       | min: 0.001552  | 25%: 0.001552  | 50%: 0.001552  | 75%: 0.001552  | max: 0.001552  \u001B[0m\n",
      "\u001B[32m2022-07-12 13:44:12\u001B[0m | \u001B[1mINFO    \u001B[0m | \u001B[1mvalidation:\u001B[0m\n",
      "\u001B[32m2022-07-12 13:44:12\u001B[0m | \u001B[1mINFO    \u001B[0m | \u001B[1mloss:           | avg: 527.8     | std: 10.32     | min: 507.2     | 25%: 521.0     | 50%: 526.9     | 75%: 532.6     | max: 552.6     \u001B[0m\n",
      "\u001B[32m2022-07-12 13:44:12\u001B[0m | \u001B[1mINFO    \u001B[0m | \u001B[1macc:            | avg: 0.9304    | std: 0.01235   | min: 0.9004    | 25%: 0.9224    | 50%: 0.9316    | 75%: 0.9395    | max: 0.9512    \u001B[0m\n"
     ]
    },
    {
     "name": "stderr",
     "output_type": "stream",
     "text": [
      "\n",
      "train: 100%|██████████| 73/73 [00:09<00:00,  7.60it/s]\n",
      "validation: 100%|██████████| 22/22 [00:00<00:00, 34.05it/s]"
     ]
    },
    {
     "name": "stdout",
     "output_type": "stream",
     "text": [
      "\u001B[32m2022-07-12 13:44:25\u001B[0m | \u001B[1mINFO    \u001B[0m | \u001B[1m\u001B[0m\n",
      "\u001B[32m2022-07-12 13:44:25\u001B[0m | \u001B[1mINFO    \u001B[0m | \u001B[1mFinished epoch 19/40:\u001B[0m\n",
      "\u001B[32m2022-07-12 13:44:25\u001B[0m | \u001B[1mINFO    \u001B[0m | \u001B[1mtrain:\u001B[0m\n",
      "\u001B[32m2022-07-12 13:44:25\u001B[0m | \u001B[1mINFO    \u001B[0m | \u001B[1mloss:           | avg: 451.2     | std: 2.147     | min: 448.4     | 25%: 449.7     | 50%: 450.9     | 75%: 452.2     | max: 458.9     \u001B[0m\n",
      "\u001B[32m2022-07-12 13:44:25\u001B[0m | \u001B[1mINFO    \u001B[0m | \u001B[1macc:            | avg: 0.9994    | std: 0.001563  | min: 0.9902    | 25%: 1.0       | 50%: 1.0       | 75%: 1.0       | max: 1.0       \u001B[0m\n",
      "\u001B[32m2022-07-12 13:44:25\u001B[0m | \u001B[1mINFO    \u001B[0m | \u001B[1mlr:             | avg: 0.001512  | std: nan       | min: 0.001512  | 25%: 0.001512  | 50%: 0.001512  | 75%: 0.001512  | max: 0.001512  \u001B[0m\n",
      "\u001B[32m2022-07-12 13:44:25\u001B[0m | \u001B[1mINFO    \u001B[0m | \u001B[1mvalidation:\u001B[0m\n",
      "\u001B[32m2022-07-12 13:44:25\u001B[0m | \u001B[1mINFO    \u001B[0m | \u001B[1mloss:           | avg: 513.7     | std: 7.081     | min: 499.8     | 25%: 509.6     | 50%: 513.9     | 75%: 517.5     | max: 527.2     \u001B[0m\n",
      "\u001B[32m2022-07-12 13:44:25\u001B[0m | \u001B[1mINFO    \u001B[0m | \u001B[1macc:            | avg: 0.9373    | std: 0.01014   | min: 0.916     | 25%: 0.9297    | 50%: 0.9365    | 75%: 0.9443    | max: 0.9629    \u001B[0m\n"
     ]
    },
    {
     "name": "stderr",
     "output_type": "stream",
     "text": [
      "\n",
      "train: 100%|██████████| 73/73 [00:09<00:00,  7.54it/s]\n",
      "validation: 100%|██████████| 22/22 [00:00<00:00, 34.29it/s]"
     ]
    },
    {
     "name": "stdout",
     "output_type": "stream",
     "text": [
      "\u001B[32m2022-07-12 13:44:38\u001B[0m | \u001B[1mINFO    \u001B[0m | \u001B[1m\u001B[0m\n",
      "\u001B[32m2022-07-12 13:44:38\u001B[0m | \u001B[1mINFO    \u001B[0m | \u001B[1mFinished epoch 20/40:\u001B[0m\n",
      "\u001B[32m2022-07-12 13:44:38\u001B[0m | \u001B[1mINFO    \u001B[0m | \u001B[1mtrain:\u001B[0m\n",
      "\u001B[32m2022-07-12 13:44:38\u001B[0m | \u001B[1mINFO    \u001B[0m | \u001B[1mloss:           | avg: 450.0     | std: 1.486     | min: 447.5     | 25%: 448.8     | 50%: 449.8     | 75%: 451.0     | max: 454.6     \u001B[0m\n",
      "\u001B[32m2022-07-12 13:44:38\u001B[0m | \u001B[1mINFO    \u001B[0m | \u001B[1macc:            | avg: 0.9995    | std: 0.0009502 | min: 0.9961    | 25%: 1.0       | 50%: 1.0       | 75%: 1.0       | max: 1.0       \u001B[0m\n",
      "\u001B[32m2022-07-12 13:44:38\u001B[0m | \u001B[1mINFO    \u001B[0m | \u001B[1mlr:             | avg: 0.001471  | std: nan       | min: 0.001471  | 25%: 0.001471  | 50%: 0.001471  | 75%: 0.001471  | max: 0.001471  \u001B[0m\n",
      "\u001B[32m2022-07-12 13:44:38\u001B[0m | \u001B[1mINFO    \u001B[0m | \u001B[1mvalidation:\u001B[0m\n",
      "\u001B[32m2022-07-12 13:44:38\u001B[0m | \u001B[1mINFO    \u001B[0m | \u001B[1mloss:           | avg: 515.6     | std: 7.645     | min: 501.9     | 25%: 509.7     | 50%: 517.4     | 75%: 520.5     | max: 532.5     \u001B[0m\n",
      "\u001B[32m2022-07-12 13:44:38\u001B[0m | \u001B[1mINFO    \u001B[0m | \u001B[1macc:            | avg: 0.9339    | std: 0.01054   | min: 0.9082    | 25%: 0.9268    | 50%: 0.9365    | 75%: 0.9395    | max: 0.9512    \u001B[0m\n"
     ]
    },
    {
     "name": "stderr",
     "output_type": "stream",
     "text": [
      "\n",
      "train: 100%|██████████| 73/73 [00:09<00:00,  7.57it/s]\n",
      "validation: 100%|██████████| 22/22 [00:00<00:00, 33.88it/s]"
     ]
    },
    {
     "name": "stdout",
     "output_type": "stream",
     "text": [
      "\u001B[32m2022-07-12 13:44:50\u001B[0m | \u001B[1mINFO    \u001B[0m | \u001B[1m\u001B[0m\n",
      "\u001B[32m2022-07-12 13:44:50\u001B[0m | \u001B[1mINFO    \u001B[0m | \u001B[1mFinished epoch 21/40:\u001B[0m\n",
      "\u001B[32m2022-07-12 13:44:50\u001B[0m | \u001B[1mINFO    \u001B[0m | \u001B[1mtrain:\u001B[0m\n",
      "\u001B[32m2022-07-12 13:44:50\u001B[0m | \u001B[1mINFO    \u001B[0m | \u001B[1mloss:           | avg: 449.5     | std: 1.528     | min: 447.2     | 25%: 448.5     | 50%: 448.9     | 75%: 450.2     | max: 455.3     \u001B[0m\n",
      "\u001B[32m2022-07-12 13:44:50\u001B[0m | \u001B[1mINFO    \u001B[0m | \u001B[1macc:            | avg: 0.9996    | std: 0.001063  | min: 0.9941    | 25%: 1.0       | 50%: 1.0       | 75%: 1.0       | max: 1.0       \u001B[0m\n",
      "\u001B[32m2022-07-12 13:44:50\u001B[0m | \u001B[1mINFO    \u001B[0m | \u001B[1mlr:             | avg: 0.00143   | std: nan       | min: 0.00143   | 25%: 0.00143   | 50%: 0.00143   | 75%: 0.00143   | max: 0.00143   \u001B[0m\n",
      "\u001B[32m2022-07-12 13:44:50\u001B[0m | \u001B[1mINFO    \u001B[0m | \u001B[1mvalidation:\u001B[0m\n",
      "\u001B[32m2022-07-12 13:44:50\u001B[0m | \u001B[1mINFO    \u001B[0m | \u001B[1mloss:           | avg: 513.7     | std: 9.874     | min: 497.5     | 25%: 510.7     | 50%: 513.4     | 75%: 518.5     | max: 534.3     \u001B[0m\n",
      "\u001B[32m2022-07-12 13:44:50\u001B[0m | \u001B[1mINFO    \u001B[0m | \u001B[1macc:            | avg: 0.9344    | std: 0.01137   | min: 0.9121    | 25%: 0.9282    | 50%: 0.9355    | 75%: 0.9419    | max: 0.9531    \u001B[0m\n"
     ]
    },
    {
     "name": "stderr",
     "output_type": "stream",
     "text": [
      "\n",
      "train: 100%|██████████| 73/73 [00:09<00:00,  7.70it/s]\n",
      "validation: 100%|██████████| 22/22 [00:00<00:00, 33.95it/s]"
     ]
    },
    {
     "name": "stdout",
     "output_type": "stream",
     "text": [
      "\u001B[32m2022-07-12 13:45:03\u001B[0m | \u001B[1mINFO    \u001B[0m | \u001B[1m\u001B[0m\n",
      "\u001B[32m2022-07-12 13:45:03\u001B[0m | \u001B[1mINFO    \u001B[0m | \u001B[1mFinished epoch 22/40:\u001B[0m\n",
      "\u001B[32m2022-07-12 13:45:03\u001B[0m | \u001B[1mINFO    \u001B[0m | \u001B[1mtrain:\u001B[0m\n",
      "\u001B[32m2022-07-12 13:45:03\u001B[0m | \u001B[1mINFO    \u001B[0m | \u001B[1mloss:           | avg: 448.6     | std: 1.121     | min: 446.9     | 25%: 447.8     | 50%: 448.3     | 75%: 449.1     | max: 451.5     \u001B[0m\n",
      "\u001B[32m2022-07-12 13:45:03\u001B[0m | \u001B[1mINFO    \u001B[0m | \u001B[1macc:            | avg: 0.9999    | std: 0.0004968 | min: 0.998     | 25%: 1.0       | 50%: 1.0       | 75%: 1.0       | max: 1.0       \u001B[0m\n",
      "\u001B[32m2022-07-12 13:45:03\u001B[0m | \u001B[1mINFO    \u001B[0m | \u001B[1mlr:             | avg: 0.00139   | std: nan       | min: 0.00139   | 25%: 0.00139   | 50%: 0.00139   | 75%: 0.00139   | max: 0.00139   \u001B[0m\n",
      "\u001B[32m2022-07-12 13:45:03\u001B[0m | \u001B[1mINFO    \u001B[0m | \u001B[1mvalidation:\u001B[0m\n",
      "\u001B[32m2022-07-12 13:45:03\u001B[0m | \u001B[1mINFO    \u001B[0m | \u001B[1mloss:           | avg: 512.0     | std: 6.32      | min: 499.9     | 25%: 508.8     | 50%: 511.7     | 75%: 518.0     | max: 522.0     \u001B[0m\n",
      "\u001B[32m2022-07-12 13:45:03\u001B[0m | \u001B[1mINFO    \u001B[0m | \u001B[1macc:            | avg: 0.9355    | std: 0.009386  | min: 0.9219    | 25%: 0.9268    | 50%: 0.9385    | 75%: 0.9434    | max: 0.9473    \u001B[0m\n"
     ]
    },
    {
     "name": "stderr",
     "output_type": "stream",
     "text": [
      "\n",
      "train: 100%|██████████| 73/73 [00:09<00:00,  7.60it/s]\n",
      "validation: 100%|██████████| 22/22 [00:00<00:00, 33.75it/s]"
     ]
    },
    {
     "name": "stdout",
     "output_type": "stream",
     "text": [
      "\u001B[32m2022-07-12 13:45:15\u001B[0m | \u001B[1mINFO    \u001B[0m | \u001B[1m\u001B[0m\n",
      "\u001B[32m2022-07-12 13:45:15\u001B[0m | \u001B[1mINFO    \u001B[0m | \u001B[1mFinished epoch 23/40:\u001B[0m\n",
      "\u001B[32m2022-07-12 13:45:15\u001B[0m | \u001B[1mINFO    \u001B[0m | \u001B[1mtrain:\u001B[0m\n",
      "\u001B[32m2022-07-12 13:45:15\u001B[0m | \u001B[1mINFO    \u001B[0m | \u001B[1mloss:           | avg: 448.2     | std: 0.9415    | min: 446.7     | 25%: 447.5     | 50%: 448.0     | 75%: 448.8     | max: 450.6     \u001B[0m\n",
      "\u001B[32m2022-07-12 13:45:15\u001B[0m | \u001B[1mINFO    \u001B[0m | \u001B[1macc:            | avg: 0.9999    | std: 0.0004476 | min: 0.998     | 25%: 1.0       | 50%: 1.0       | 75%: 1.0       | max: 1.0       \u001B[0m\n",
      "\u001B[32m2022-07-12 13:45:15\u001B[0m | \u001B[1mINFO    \u001B[0m | \u001B[1mlr:             | avg: 0.001349  | std: nan       | min: 0.001349  | 25%: 0.001349  | 50%: 0.001349  | 75%: 0.001349  | max: 0.001349  \u001B[0m\n",
      "\u001B[32m2022-07-12 13:45:15\u001B[0m | \u001B[1mINFO    \u001B[0m | \u001B[1mvalidation:\u001B[0m\n",
      "\u001B[32m2022-07-12 13:45:15\u001B[0m | \u001B[1mINFO    \u001B[0m | \u001B[1mloss:           | avg: 509.1     | std: 6.737     | min: 494.6     | 25%: 503.2     | 50%: 509.0     | 75%: 515.4     | max: 519.1     \u001B[0m\n",
      "\u001B[32m2022-07-12 13:45:15\u001B[0m | \u001B[1mINFO    \u001B[0m | \u001B[1macc:            | avg: 0.937     | std: 0.009005  | min: 0.9219    | 25%: 0.9302    | 50%: 0.9355    | 75%: 0.9434    | max: 0.9531    \u001B[0m\n"
     ]
    },
    {
     "name": "stderr",
     "output_type": "stream",
     "text": [
      "\n",
      "train: 100%|██████████| 73/73 [00:09<00:00,  7.52it/s]\n",
      "validation: 100%|██████████| 22/22 [00:00<00:00, 34.43it/s]"
     ]
    },
    {
     "name": "stdout",
     "output_type": "stream",
     "text": [
      "\u001B[32m2022-07-12 13:45:28\u001B[0m | \u001B[1mINFO    \u001B[0m | \u001B[1m\u001B[0m\n",
      "\u001B[32m2022-07-12 13:45:28\u001B[0m | \u001B[1mINFO    \u001B[0m | \u001B[1mFinished epoch 24/40:\u001B[0m\n",
      "\u001B[32m2022-07-12 13:45:28\u001B[0m | \u001B[1mINFO    \u001B[0m | \u001B[1mtrain:\u001B[0m\n",
      "\u001B[32m2022-07-12 13:45:28\u001B[0m | \u001B[1mINFO    \u001B[0m | \u001B[1mloss:           | avg: 448.1     | std: 1.221     | min: 446.4     | 25%: 447.3     | 50%: 447.7     | 75%: 448.5     | max: 452.6     \u001B[0m\n",
      "\u001B[32m2022-07-12 13:45:28\u001B[0m | \u001B[1mINFO    \u001B[0m | \u001B[1macc:            | avg: 0.9998    | std: 0.0009854 | min: 0.9922    | 25%: 1.0       | 50%: 1.0       | 75%: 1.0       | max: 1.0       \u001B[0m\n",
      "\u001B[32m2022-07-12 13:45:28\u001B[0m | \u001B[1mINFO    \u001B[0m | \u001B[1mlr:             | avg: 0.001308  | std: nan       | min: 0.001308  | 25%: 0.001308  | 50%: 0.001308  | 75%: 0.001308  | max: 0.001308  \u001B[0m\n",
      "\u001B[32m2022-07-12 13:45:28\u001B[0m | \u001B[1mINFO    \u001B[0m | \u001B[1mvalidation:\u001B[0m\n",
      "\u001B[32m2022-07-12 13:45:28\u001B[0m | \u001B[1mINFO    \u001B[0m | \u001B[1mloss:           | avg: 509.9     | std: 8.744     | min: 492.0     | 25%: 502.2     | 50%: 509.8     | 75%: 517.9     | max: 525.9     \u001B[0m\n",
      "\u001B[32m2022-07-12 13:45:28\u001B[0m | \u001B[1mINFO    \u001B[0m | \u001B[1macc:            | avg: 0.9376    | std: 0.01002   | min: 0.918     | 25%: 0.9316    | 50%: 0.9395    | 75%: 0.9434    | max: 0.959     \u001B[0m\n"
     ]
    },
    {
     "name": "stderr",
     "output_type": "stream",
     "text": [
      "\n",
      "train: 100%|██████████| 73/73 [00:09<00:00,  7.53it/s]\n",
      "validation: 100%|██████████| 22/22 [00:00<00:00, 33.84it/s]"
     ]
    },
    {
     "name": "stdout",
     "output_type": "stream",
     "text": [
      "\u001B[32m2022-07-12 13:45:40\u001B[0m | \u001B[1mINFO    \u001B[0m | \u001B[1m\u001B[0m\n",
      "\u001B[32m2022-07-12 13:45:40\u001B[0m | \u001B[1mINFO    \u001B[0m | \u001B[1mFinished epoch 25/40:\u001B[0m\n",
      "\u001B[32m2022-07-12 13:45:40\u001B[0m | \u001B[1mINFO    \u001B[0m | \u001B[1mtrain:\u001B[0m\n",
      "\u001B[32m2022-07-12 13:45:40\u001B[0m | \u001B[1mINFO    \u001B[0m | \u001B[1mloss:           | avg: 448.0     | std: 1.139     | min: 446.1     | 25%: 447.2     | 50%: 447.9     | 75%: 448.5     | max: 451.6     \u001B[0m\n",
      "\u001B[32m2022-07-12 13:45:40\u001B[0m | \u001B[1mINFO    \u001B[0m | \u001B[1macc:            | avg: 0.9998    | std: 0.0006643 | min: 0.9961    | 25%: 1.0       | 50%: 1.0       | 75%: 1.0       | max: 1.0       \u001B[0m\n",
      "\u001B[32m2022-07-12 13:45:40\u001B[0m | \u001B[1mINFO    \u001B[0m | \u001B[1mlr:             | avg: 0.001267  | std: nan       | min: 0.001267  | 25%: 0.001267  | 50%: 0.001267  | 75%: 0.001267  | max: 0.001267  \u001B[0m\n",
      "\u001B[32m2022-07-12 13:45:40\u001B[0m | \u001B[1mINFO    \u001B[0m | \u001B[1mvalidation:\u001B[0m\n",
      "\u001B[32m2022-07-12 13:45:40\u001B[0m | \u001B[1mINFO    \u001B[0m | \u001B[1mloss:           | avg: 512.1     | std: 6.681     | min: 497.7     | 25%: 508.5     | 50%: 511.8     | 75%: 515.9     | max: 524.1     \u001B[0m\n",
      "\u001B[32m2022-07-12 13:45:40\u001B[0m | \u001B[1mINFO    \u001B[0m | \u001B[1macc:            | avg: 0.936     | std: 0.008857  | min: 0.9199    | 25%: 0.9302    | 50%: 0.9346    | 75%: 0.9414    | max: 0.9551    \u001B[0m\n"
     ]
    },
    {
     "name": "stderr",
     "output_type": "stream",
     "text": [
      "\n",
      "train: 100%|██████████| 73/73 [00:09<00:00,  7.58it/s]\n",
      "validation: 100%|██████████| 22/22 [00:00<00:00, 34.24it/s]"
     ]
    },
    {
     "name": "stdout",
     "output_type": "stream",
     "text": [
      "\u001B[32m2022-07-12 13:45:53\u001B[0m | \u001B[1mINFO    \u001B[0m | \u001B[1m\u001B[0m\n",
      "\u001B[32m2022-07-12 13:45:53\u001B[0m | \u001B[1mINFO    \u001B[0m | \u001B[1mFinished epoch 26/40:\u001B[0m\n",
      "\u001B[32m2022-07-12 13:45:53\u001B[0m | \u001B[1mINFO    \u001B[0m | \u001B[1mtrain:\u001B[0m\n",
      "\u001B[32m2022-07-12 13:45:53\u001B[0m | \u001B[1mINFO    \u001B[0m | \u001B[1mloss:           | avg: 447.2     | std: 0.9397    | min: 446.0     | 25%: 446.5     | 50%: 447.1     | 75%: 447.7     | max: 450.1     \u001B[0m\n",
      "\u001B[32m2022-07-12 13:45:53\u001B[0m | \u001B[1mINFO    \u001B[0m | \u001B[1macc:            | avg: 0.9999    | std: 0.0004476 | min: 0.998     | 25%: 1.0       | 50%: 1.0       | 75%: 1.0       | max: 1.0       \u001B[0m\n",
      "\u001B[32m2022-07-12 13:45:53\u001B[0m | \u001B[1mINFO    \u001B[0m | \u001B[1mlr:             | avg: 0.001227  | std: nan       | min: 0.001227  | 25%: 0.001227  | 50%: 0.001227  | 75%: 0.001227  | max: 0.001227  \u001B[0m\n",
      "\u001B[32m2022-07-12 13:45:53\u001B[0m | \u001B[1mINFO    \u001B[0m | \u001B[1mvalidation:\u001B[0m\n",
      "\u001B[32m2022-07-12 13:45:53\u001B[0m | \u001B[1mINFO    \u001B[0m | \u001B[1mloss:           | avg: 509.7     | std: 7.614     | min: 492.5     | 25%: 505.0     | 50%: 508.6     | 75%: 513.4     | max: 524.1     \u001B[0m\n",
      "\u001B[32m2022-07-12 13:45:53\u001B[0m | \u001B[1mINFO    \u001B[0m | \u001B[1macc:            | avg: 0.9382    | std: 0.0101    | min: 0.9199    | 25%: 0.9321    | 50%: 0.9375    | 75%: 0.9453    | max: 0.9512    \u001B[0m\n"
     ]
    },
    {
     "name": "stderr",
     "output_type": "stream",
     "text": [
      "\n",
      "train: 100%|██████████| 73/73 [00:09<00:00,  7.56it/s]\n",
      "validation: 100%|██████████| 22/22 [00:00<00:00, 31.49it/s]"
     ]
    },
    {
     "name": "stdout",
     "output_type": "stream",
     "text": [
      "\u001B[32m2022-07-12 13:46:06\u001B[0m | \u001B[1mINFO    \u001B[0m | \u001B[1m\u001B[0m\n",
      "\u001B[32m2022-07-12 13:46:06\u001B[0m | \u001B[1mINFO    \u001B[0m | \u001B[1mFinished epoch 27/40:\u001B[0m\n",
      "\u001B[32m2022-07-12 13:46:06\u001B[0m | \u001B[1mINFO    \u001B[0m | \u001B[1mtrain:\u001B[0m\n",
      "\u001B[32m2022-07-12 13:46:06\u001B[0m | \u001B[1mINFO    \u001B[0m | \u001B[1mloss:           | avg: 446.8     | std: 0.5681    | min: 445.7     | 25%: 446.4     | 50%: 446.8     | 75%: 447.1     | max: 448.6     \u001B[0m\n",
      "\u001B[32m2022-07-12 13:46:06\u001B[0m | \u001B[1mINFO    \u001B[0m | \u001B[1macc:            | avg: 0.9999    | std: 0.000321  | min: 0.998     | 25%: 1.0       | 50%: 1.0       | 75%: 1.0       | max: 1.0       \u001B[0m\n",
      "\u001B[32m2022-07-12 13:46:06\u001B[0m | \u001B[1mINFO    \u001B[0m | \u001B[1mlr:             | avg: 0.001186  | std: nan       | min: 0.001186  | 25%: 0.001186  | 50%: 0.001186  | 75%: 0.001186  | max: 0.001186  \u001B[0m\n",
      "\u001B[32m2022-07-12 13:46:06\u001B[0m | \u001B[1mINFO    \u001B[0m | \u001B[1mvalidation:\u001B[0m\n",
      "\u001B[32m2022-07-12 13:46:06\u001B[0m | \u001B[1mINFO    \u001B[0m | \u001B[1mloss:           | avg: 509.8     | std: 6.628     | min: 499.2     | 25%: 504.5     | 50%: 509.0     | 75%: 514.8     | max: 523.0     \u001B[0m\n",
      "\u001B[32m2022-07-12 13:46:06\u001B[0m | \u001B[1mINFO    \u001B[0m | \u001B[1macc:            | avg: 0.9361    | std: 0.009496  | min: 0.9219    | 25%: 0.9277    | 50%: 0.9365    | 75%: 0.9434    | max: 0.9512    \u001B[0m\n"
     ]
    },
    {
     "name": "stderr",
     "output_type": "stream",
     "text": [
      "\n",
      "train: 100%|██████████| 73/73 [00:09<00:00,  7.61it/s]\n",
      "validation: 100%|██████████| 22/22 [00:00<00:00, 33.88it/s]"
     ]
    },
    {
     "name": "stdout",
     "output_type": "stream",
     "text": [
      "\u001B[32m2022-07-12 13:46:18\u001B[0m | \u001B[1mINFO    \u001B[0m | \u001B[1m\u001B[0m\n",
      "\u001B[32m2022-07-12 13:46:18\u001B[0m | \u001B[1mINFO    \u001B[0m | \u001B[1mFinished epoch 28/40:\u001B[0m\n",
      "\u001B[32m2022-07-12 13:46:18\u001B[0m | \u001B[1mINFO    \u001B[0m | \u001B[1mtrain:\u001B[0m\n",
      "\u001B[32m2022-07-12 13:46:18\u001B[0m | \u001B[1mINFO    \u001B[0m | \u001B[1mloss:           | avg: 446.8     | std: 0.7392    | min: 445.9     | 25%: 446.3     | 50%: 446.7     | 75%: 447.1     | max: 450.2     \u001B[0m\n",
      "\u001B[32m2022-07-12 13:46:18\u001B[0m | \u001B[1mINFO    \u001B[0m | \u001B[1macc:            | avg: 1.0       | std: 0.0002286 | min: 0.998     | 25%: 1.0       | 50%: 1.0       | 75%: 1.0       | max: 1.0       \u001B[0m\n",
      "\u001B[32m2022-07-12 13:46:18\u001B[0m | \u001B[1mINFO    \u001B[0m | \u001B[1mlr:             | avg: 0.001145  | std: nan       | min: 0.001145  | 25%: 0.001145  | 50%: 0.001145  | 75%: 0.001145  | max: 0.001145  \u001B[0m\n",
      "\u001B[32m2022-07-12 13:46:18\u001B[0m | \u001B[1mINFO    \u001B[0m | \u001B[1mvalidation:\u001B[0m\n",
      "\u001B[32m2022-07-12 13:46:18\u001B[0m | \u001B[1mINFO    \u001B[0m | \u001B[1mloss:           | avg: 511.1     | std: 9.938     | min: 488.3     | 25%: 506.2     | 50%: 511.2     | 75%: 514.6     | max: 532.2     \u001B[0m\n",
      "\u001B[32m2022-07-12 13:46:18\u001B[0m | \u001B[1mINFO    \u001B[0m | \u001B[1macc:            | avg: 0.9362    | std: 0.01084   | min: 0.916     | 25%: 0.9302    | 50%: 0.9375    | 75%: 0.9414    | max: 0.9648    \u001B[0m\n"
     ]
    },
    {
     "name": "stderr",
     "output_type": "stream",
     "text": [
      "\n",
      "train: 100%|██████████| 73/73 [00:09<00:00,  7.55it/s]\n",
      "validation: 100%|██████████| 22/22 [00:00<00:00, 33.87it/s]"
     ]
    },
    {
     "name": "stdout",
     "output_type": "stream",
     "text": [
      "\u001B[32m2022-07-12 13:46:31\u001B[0m | \u001B[1mINFO    \u001B[0m | \u001B[1m\u001B[0m\n",
      "\u001B[32m2022-07-12 13:46:31\u001B[0m | \u001B[1mINFO    \u001B[0m | \u001B[1mFinished epoch 29/40:\u001B[0m\n",
      "\u001B[32m2022-07-12 13:46:31\u001B[0m | \u001B[1mINFO    \u001B[0m | \u001B[1mtrain:\u001B[0m\n",
      "\u001B[32m2022-07-12 13:46:31\u001B[0m | \u001B[1mINFO    \u001B[0m | \u001B[1mloss:           | avg: 446.5     | std: 0.8135    | min: 445.5     | 25%: 446.0     | 50%: 446.3     | 75%: 446.8     | max: 450.4     \u001B[0m\n",
      "\u001B[32m2022-07-12 13:46:31\u001B[0m | \u001B[1mINFO    \u001B[0m | \u001B[1macc:            | avg: 0.9999    | std: 0.000321  | min: 0.998     | 25%: 1.0       | 50%: 1.0       | 75%: 1.0       | max: 1.0       \u001B[0m\n",
      "\u001B[32m2022-07-12 13:46:31\u001B[0m | \u001B[1mINFO    \u001B[0m | \u001B[1mlr:             | avg: 0.001104  | std: nan       | min: 0.001104  | 25%: 0.001104  | 50%: 0.001104  | 75%: 0.001104  | max: 0.001104  \u001B[0m\n",
      "\u001B[32m2022-07-12 13:46:31\u001B[0m | \u001B[1mINFO    \u001B[0m | \u001B[1mvalidation:\u001B[0m\n",
      "\u001B[32m2022-07-12 13:46:31\u001B[0m | \u001B[1mINFO    \u001B[0m | \u001B[1mloss:           | avg: 510.0     | std: 7.707     | min: 498.4     | 25%: 504.9     | 50%: 508.4     | 75%: 513.2     | max: 527.9     \u001B[0m\n",
      "\u001B[32m2022-07-12 13:46:31\u001B[0m | \u001B[1mINFO    \u001B[0m | \u001B[1macc:            | avg: 0.9369    | std: 0.008887  | min: 0.918     | 25%: 0.9336    | 50%: 0.9385    | 75%: 0.9434    | max: 0.9492    \u001B[0m\n"
     ]
    },
    {
     "name": "stderr",
     "output_type": "stream",
     "text": [
      "\n",
      "train: 100%|██████████| 73/73 [00:09<00:00,  7.55it/s]\n",
      "validation: 100%|██████████| 22/22 [00:00<00:00, 34.59it/s]"
     ]
    },
    {
     "name": "stdout",
     "output_type": "stream",
     "text": [
      "\u001B[32m2022-07-12 13:46:43\u001B[0m | \u001B[1mINFO    \u001B[0m | \u001B[1m\u001B[0m\n",
      "\u001B[32m2022-07-12 13:46:43\u001B[0m | \u001B[1mINFO    \u001B[0m | \u001B[1mFinished epoch 30/40:\u001B[0m\n",
      "\u001B[32m2022-07-12 13:46:43\u001B[0m | \u001B[1mINFO    \u001B[0m | \u001B[1mtrain:\u001B[0m\n",
      "\u001B[32m2022-07-12 13:46:43\u001B[0m | \u001B[1mINFO    \u001B[0m | \u001B[1mloss:           | avg: 446.6     | std: 0.8844    | min: 445.6     | 25%: 446.0     | 50%: 446.3     | 75%: 447.0     | max: 450.1     \u001B[0m\n",
      "\u001B[32m2022-07-12 13:46:43\u001B[0m | \u001B[1mINFO    \u001B[0m | \u001B[1macc:            | avg: 1.0       | std: 0.0002286 | min: 0.998     | 25%: 1.0       | 50%: 1.0       | 75%: 1.0       | max: 1.0       \u001B[0m\n",
      "\u001B[32m2022-07-12 13:46:43\u001B[0m | \u001B[1mINFO    \u001B[0m | \u001B[1mlr:             | avg: 0.001064  | std: nan       | min: 0.001064  | 25%: 0.001064  | 50%: 0.001064  | 75%: 0.001064  | max: 0.001064  \u001B[0m\n",
      "\u001B[32m2022-07-12 13:46:43\u001B[0m | \u001B[1mINFO    \u001B[0m | \u001B[1mvalidation:\u001B[0m\n",
      "\u001B[32m2022-07-12 13:46:43\u001B[0m | \u001B[1mINFO    \u001B[0m | \u001B[1mloss:           | avg: 508.0     | std: 9.445     | min: 494.4     | 25%: 499.3     | 50%: 508.5     | 75%: 516.0     | max: 522.3     \u001B[0m\n",
      "\u001B[32m2022-07-12 13:46:43\u001B[0m | \u001B[1mINFO    \u001B[0m | \u001B[1macc:            | avg: 0.9389    | std: 0.01121   | min: 0.9199    | 25%: 0.9316    | 50%: 0.9355    | 75%: 0.9492    | max: 0.957     \u001B[0m\n"
     ]
    },
    {
     "name": "stderr",
     "output_type": "stream",
     "text": [
      "\n",
      "train: 100%|██████████| 73/73 [00:09<00:00,  7.59it/s]\n",
      "validation: 100%|██████████| 22/22 [00:00<00:00, 34.01it/s]"
     ]
    },
    {
     "name": "stdout",
     "output_type": "stream",
     "text": [
      "\u001B[32m2022-07-12 13:46:56\u001B[0m | \u001B[1mINFO    \u001B[0m | \u001B[1m\u001B[0m\n",
      "\u001B[32m2022-07-12 13:46:56\u001B[0m | \u001B[1mINFO    \u001B[0m | \u001B[1mFinished epoch 31/40:\u001B[0m\n",
      "\u001B[32m2022-07-12 13:46:56\u001B[0m | \u001B[1mINFO    \u001B[0m | \u001B[1mtrain:\u001B[0m\n",
      "\u001B[32m2022-07-12 13:46:56\u001B[0m | \u001B[1mINFO    \u001B[0m | \u001B[1mloss:           | avg: 446.5     | std: 0.8739    | min: 445.3     | 25%: 445.9     | 50%: 446.2     | 75%: 446.7     | max: 449.6     \u001B[0m\n",
      "\u001B[32m2022-07-12 13:46:56\u001B[0m | \u001B[1mINFO    \u001B[0m | \u001B[1macc:            | avg: 0.9999    | std: 0.000321  | min: 0.998     | 25%: 1.0       | 50%: 1.0       | 75%: 1.0       | max: 1.0       \u001B[0m\n",
      "\u001B[32m2022-07-12 13:46:56\u001B[0m | \u001B[1mINFO    \u001B[0m | \u001B[1mlr:             | avg: 0.001023  | std: nan       | min: 0.001023  | 25%: 0.001023  | 50%: 0.001023  | 75%: 0.001023  | max: 0.001023  \u001B[0m\n",
      "\u001B[32m2022-07-12 13:46:56\u001B[0m | \u001B[1mINFO    \u001B[0m | \u001B[1mvalidation:\u001B[0m\n",
      "\u001B[32m2022-07-12 13:46:56\u001B[0m | \u001B[1mINFO    \u001B[0m | \u001B[1mloss:           | avg: 508.0     | std: 7.929     | min: 495.6     | 25%: 503.0     | 50%: 507.2     | 75%: 512.7     | max: 526.8     \u001B[0m\n",
      "\u001B[32m2022-07-12 13:46:56\u001B[0m | \u001B[1mINFO    \u001B[0m | \u001B[1macc:            | avg: 0.9393    | std: 0.01131   | min: 0.9102    | 25%: 0.9355    | 50%: 0.9395    | 75%: 0.9473    | max: 0.9531    \u001B[0m\n"
     ]
    },
    {
     "name": "stderr",
     "output_type": "stream",
     "text": [
      "\n",
      "train: 100%|██████████| 73/73 [00:09<00:00,  7.73it/s]\n",
      "validation: 100%|██████████| 22/22 [00:00<00:00, 33.62it/s]"
     ]
    },
    {
     "name": "stdout",
     "output_type": "stream",
     "text": [
      "\u001B[32m2022-07-12 13:47:08\u001B[0m | \u001B[1mINFO    \u001B[0m | \u001B[1m\u001B[0m\n",
      "\u001B[32m2022-07-12 13:47:08\u001B[0m | \u001B[1mINFO    \u001B[0m | \u001B[1mFinished epoch 32/40:\u001B[0m\n",
      "\u001B[32m2022-07-12 13:47:08\u001B[0m | \u001B[1mINFO    \u001B[0m | \u001B[1mtrain:\u001B[0m\n",
      "\u001B[32m2022-07-12 13:47:08\u001B[0m | \u001B[1mINFO    \u001B[0m | \u001B[1mloss:           | avg: 446.2     | std: 0.5857    | min: 445.5     | 25%: 445.8     | 50%: 446.0     | 75%: 446.4     | max: 448.1     \u001B[0m\n",
      "\u001B[32m2022-07-12 13:47:08\u001B[0m | \u001B[1mINFO    \u001B[0m | \u001B[1macc:            | avg: 1.0       | std: 0.0       | min: 1.0       | 25%: 1.0       | 50%: 1.0       | 75%: 1.0       | max: 1.0       \u001B[0m\n",
      "\u001B[32m2022-07-12 13:47:08\u001B[0m | \u001B[1mINFO    \u001B[0m | \u001B[1mlr:             | avg: 0.0009821 | std: nan       | min: 0.0009821 | 25%: 0.0009821 | 50%: 0.0009821 | 75%: 0.0009821 | max: 0.0009821 \u001B[0m\n",
      "\u001B[32m2022-07-12 13:47:08\u001B[0m | \u001B[1mINFO    \u001B[0m | \u001B[1mvalidation:\u001B[0m\n",
      "\u001B[32m2022-07-12 13:47:08\u001B[0m | \u001B[1mINFO    \u001B[0m | \u001B[1mloss:           | avg: 508.7     | std: 8.541     | min: 492.4     | 25%: 503.0     | 50%: 508.5     | 75%: 515.9     | max: 522.3     \u001B[0m\n",
      "\u001B[32m2022-07-12 13:47:08\u001B[0m | \u001B[1mINFO    \u001B[0m | \u001B[1macc:            | avg: 0.9391    | std: 0.009561  | min: 0.9199    | 25%: 0.9321    | 50%: 0.9395    | 75%: 0.9453    | max: 0.9551    \u001B[0m\n"
     ]
    },
    {
     "name": "stderr",
     "output_type": "stream",
     "text": [
      "\n",
      "train: 100%|██████████| 73/73 [00:11<00:00,  6.41it/s]\n",
      "validation: 100%|██████████| 22/22 [00:00<00:00, 34.24it/s]"
     ]
    },
    {
     "name": "stdout",
     "output_type": "stream",
     "text": [
      "\u001B[32m2022-07-12 13:47:23\u001B[0m | \u001B[1mINFO    \u001B[0m | \u001B[1m\u001B[0m\n",
      "\u001B[32m2022-07-12 13:47:23\u001B[0m | \u001B[1mINFO    \u001B[0m | \u001B[1mFinished epoch 33/40:\u001B[0m\n",
      "\u001B[32m2022-07-12 13:47:23\u001B[0m | \u001B[1mINFO    \u001B[0m | \u001B[1mtrain:\u001B[0m\n",
      "\u001B[32m2022-07-12 13:47:23\u001B[0m | \u001B[1mINFO    \u001B[0m | \u001B[1mloss:           | avg: 446.0     | std: 0.5318    | min: 445.4     | 25%: 445.6     | 50%: 445.9     | 75%: 446.3     | max: 447.7     \u001B[0m\n",
      "\u001B[32m2022-07-12 13:47:23\u001B[0m | \u001B[1mINFO    \u001B[0m | \u001B[1macc:            | avg: 1.0       | std: 0.0       | min: 1.0       | 25%: 1.0       | 50%: 1.0       | 75%: 1.0       | max: 1.0       \u001B[0m\n",
      "\u001B[32m2022-07-12 13:47:23\u001B[0m | \u001B[1mINFO    \u001B[0m | \u001B[1mlr:             | avg: 0.0009414 | std: nan       | min: 0.0009414 | 25%: 0.0009414 | 50%: 0.0009414 | 75%: 0.0009414 | max: 0.0009414 \u001B[0m\n",
      "\u001B[32m2022-07-12 13:47:23\u001B[0m | \u001B[1mINFO    \u001B[0m | \u001B[1mvalidation:\u001B[0m\n",
      "\u001B[32m2022-07-12 13:47:23\u001B[0m | \u001B[1mINFO    \u001B[0m | \u001B[1mloss:           | avg: 507.6     | std: 7.517     | min: 496.9     | 25%: 500.6     | 50%: 508.0     | 75%: 512.3     | max: 525.0     \u001B[0m\n",
      "\u001B[32m2022-07-12 13:47:23\u001B[0m | \u001B[1mINFO    \u001B[0m | \u001B[1macc:            | avg: 0.939     | std: 0.01147   | min: 0.9102    | 25%: 0.9341    | 50%: 0.9395    | 75%: 0.9487    | max: 0.9551    \u001B[0m\n"
     ]
    },
    {
     "name": "stderr",
     "output_type": "stream",
     "text": [
      "\n",
      "train: 100%|██████████| 73/73 [00:09<00:00,  7.32it/s]\n",
      "validation: 100%|██████████| 22/22 [00:00<00:00, 34.25it/s]"
     ]
    },
    {
     "name": "stdout",
     "output_type": "stream",
     "text": [
      "\u001B[32m2022-07-12 13:47:36\u001B[0m | \u001B[1mINFO    \u001B[0m | \u001B[1m\u001B[0m\n",
      "\u001B[32m2022-07-12 13:47:36\u001B[0m | \u001B[1mINFO    \u001B[0m | \u001B[1mFinished epoch 34/40:\u001B[0m\n",
      "\u001B[32m2022-07-12 13:47:36\u001B[0m | \u001B[1mINFO    \u001B[0m | \u001B[1mtrain:\u001B[0m\n",
      "\u001B[32m2022-07-12 13:47:36\u001B[0m | \u001B[1mINFO    \u001B[0m | \u001B[1mloss:           | avg: 446.0     | std: 0.4834    | min: 445.3     | 25%: 445.7     | 50%: 445.9     | 75%: 446.3     | max: 447.4     \u001B[0m\n",
      "\u001B[32m2022-07-12 13:47:36\u001B[0m | \u001B[1mINFO    \u001B[0m | \u001B[1macc:            | avg: 1.0       | std: 0.0       | min: 1.0       | 25%: 1.0       | 50%: 1.0       | 75%: 1.0       | max: 1.0       \u001B[0m\n",
      "\u001B[32m2022-07-12 13:47:36\u001B[0m | \u001B[1mINFO    \u001B[0m | \u001B[1mlr:             | avg: 0.0009007 | std: nan       | min: 0.0009007 | 25%: 0.0009007 | 50%: 0.0009007 | 75%: 0.0009007 | max: 0.0009007 \u001B[0m\n",
      "\u001B[32m2022-07-12 13:47:36\u001B[0m | \u001B[1mINFO    \u001B[0m | \u001B[1mvalidation:\u001B[0m\n",
      "\u001B[32m2022-07-12 13:47:36\u001B[0m | \u001B[1mINFO    \u001B[0m | \u001B[1mloss:           | avg: 508.0     | std: 8.295     | min: 495.3     | 25%: 501.9     | 50%: 507.3     | 75%: 512.6     | max: 524.6     \u001B[0m\n",
      "\u001B[32m2022-07-12 13:47:36\u001B[0m | \u001B[1mINFO    \u001B[0m | \u001B[1macc:            | avg: 0.9399    | std: 0.01159   | min: 0.9141    | 25%: 0.9355    | 50%: 0.9414    | 75%: 0.9482    | max: 0.959     \u001B[0m\n"
     ]
    },
    {
     "name": "stderr",
     "output_type": "stream",
     "text": [
      "\n",
      "train: 100%|██████████| 73/73 [00:11<00:00,  6.40it/s]\n",
      "validation: 100%|██████████| 22/22 [00:00<00:00, 34.07it/s]"
     ]
    },
    {
     "name": "stdout",
     "output_type": "stream",
     "text": [
      "\u001B[32m2022-07-12 13:47:51\u001B[0m | \u001B[1mINFO    \u001B[0m | \u001B[1m\u001B[0m\n",
      "\u001B[32m2022-07-12 13:47:51\u001B[0m | \u001B[1mINFO    \u001B[0m | \u001B[1mFinished epoch 35/40:\u001B[0m\n",
      "\u001B[32m2022-07-12 13:47:51\u001B[0m | \u001B[1mINFO    \u001B[0m | \u001B[1mtrain:\u001B[0m\n",
      "\u001B[32m2022-07-12 13:47:51\u001B[0m | \u001B[1mINFO    \u001B[0m | \u001B[1mloss:           | avg: 446.0     | std: 0.6112    | min: 445.1     | 25%: 445.6     | 50%: 445.8     | 75%: 446.3     | max: 448.4     \u001B[0m\n",
      "\u001B[32m2022-07-12 13:47:51\u001B[0m | \u001B[1mINFO    \u001B[0m | \u001B[1macc:            | avg: 1.0       | std: 0.0       | min: 1.0       | 25%: 1.0       | 50%: 1.0       | 75%: 1.0       | max: 1.0       \u001B[0m\n",
      "\u001B[32m2022-07-12 13:47:51\u001B[0m | \u001B[1mINFO    \u001B[0m | \u001B[1mlr:             | avg: 0.0008599 | std: nan       | min: 0.0008599 | 25%: 0.0008599 | 50%: 0.0008599 | 75%: 0.0008599 | max: 0.0008599 \u001B[0m\n",
      "\u001B[32m2022-07-12 13:47:51\u001B[0m | \u001B[1mINFO    \u001B[0m | \u001B[1mvalidation:\u001B[0m\n",
      "\u001B[32m2022-07-12 13:47:51\u001B[0m | \u001B[1mINFO    \u001B[0m | \u001B[1mloss:           | avg: 507.6     | std: 9.356     | min: 492.3     | 25%: 504.6     | 50%: 506.9     | 75%: 510.7     | max: 535.0     \u001B[0m\n",
      "\u001B[32m2022-07-12 13:47:51\u001B[0m | \u001B[1mINFO    \u001B[0m | \u001B[1macc:            | avg: 0.9389    | std: 0.0111    | min: 0.9062    | 25%: 0.9355    | 50%: 0.9385    | 75%: 0.9448    | max: 0.9629    \u001B[0m\n"
     ]
    },
    {
     "name": "stderr",
     "output_type": "stream",
     "text": [
      "\n",
      "train: 100%|██████████| 73/73 [00:11<00:00,  6.63it/s]\n",
      "validation: 100%|██████████| 22/22 [00:00<00:00, 33.76it/s]"
     ]
    },
    {
     "name": "stdout",
     "output_type": "stream",
     "text": [
      "\u001B[32m2022-07-12 13:48:06\u001B[0m | \u001B[1mINFO    \u001B[0m | \u001B[1m\u001B[0m\n",
      "\u001B[32m2022-07-12 13:48:06\u001B[0m | \u001B[1mINFO    \u001B[0m | \u001B[1mFinished epoch 36/40:\u001B[0m\n",
      "\u001B[32m2022-07-12 13:48:06\u001B[0m | \u001B[1mINFO    \u001B[0m | \u001B[1mtrain:\u001B[0m\n",
      "\u001B[32m2022-07-12 13:48:06\u001B[0m | \u001B[1mINFO    \u001B[0m | \u001B[1mloss:           | avg: 445.9     | std: 0.5352    | min: 445.1     | 25%: 445.5     | 50%: 445.7     | 75%: 446.2     | max: 448.1     \u001B[0m\n",
      "\u001B[32m2022-07-12 13:48:06\u001B[0m | \u001B[1mINFO    \u001B[0m | \u001B[1macc:            | avg: 1.0       | std: 0.0       | min: 1.0       | 25%: 1.0       | 50%: 1.0       | 75%: 1.0       | max: 1.0       \u001B[0m\n",
      "\u001B[32m2022-07-12 13:48:06\u001B[0m | \u001B[1mINFO    \u001B[0m | \u001B[1mlr:             | avg: 0.0008192 | std: nan       | min: 0.0008192 | 25%: 0.0008192 | 50%: 0.0008192 | 75%: 0.0008192 | max: 0.0008192 \u001B[0m\n",
      "\u001B[32m2022-07-12 13:48:06\u001B[0m | \u001B[1mINFO    \u001B[0m | \u001B[1mvalidation:\u001B[0m\n",
      "\u001B[32m2022-07-12 13:48:06\u001B[0m | \u001B[1mINFO    \u001B[0m | \u001B[1mloss:           | avg: 508.0     | std: 7.646     | min: 492.6     | 25%: 502.5     | 50%: 507.7     | 75%: 514.1     | max: 520.0     \u001B[0m\n",
      "\u001B[32m2022-07-12 13:48:06\u001B[0m | \u001B[1mINFO    \u001B[0m | \u001B[1macc:            | avg: 0.9396    | std: 0.01076   | min: 0.9199    | 25%: 0.9316    | 50%: 0.9434    | 75%: 0.9453    | max: 0.9609    \u001B[0m\n"
     ]
    },
    {
     "name": "stderr",
     "output_type": "stream",
     "text": [
      "\n",
      "train: 100%|██████████| 73/73 [00:11<00:00,  6.45it/s]\n",
      "validation: 100%|██████████| 22/22 [00:00<00:00, 34.84it/s]"
     ]
    },
    {
     "name": "stdout",
     "output_type": "stream",
     "text": [
      "\u001B[32m2022-07-12 13:48:20\u001B[0m | \u001B[1mINFO    \u001B[0m | \u001B[1m\u001B[0m\n",
      "\u001B[32m2022-07-12 13:48:20\u001B[0m | \u001B[1mINFO    \u001B[0m | \u001B[1mFinished epoch 37/40:\u001B[0m\n",
      "\u001B[32m2022-07-12 13:48:20\u001B[0m | \u001B[1mINFO    \u001B[0m | \u001B[1mtrain:\u001B[0m\n",
      "\u001B[32m2022-07-12 13:48:20\u001B[0m | \u001B[1mINFO    \u001B[0m | \u001B[1mloss:           | avg: 445.6     | std: 0.4652    | min: 445.0     | 25%: 445.3     | 50%: 445.5     | 75%: 445.8     | max: 447.1     \u001B[0m\n",
      "\u001B[32m2022-07-12 13:48:20\u001B[0m | \u001B[1mINFO    \u001B[0m | \u001B[1macc:            | avg: 1.0       | std: 0.0002286 | min: 0.998     | 25%: 1.0       | 50%: 1.0       | 75%: 1.0       | max: 1.0       \u001B[0m\n",
      "\u001B[32m2022-07-12 13:48:20\u001B[0m | \u001B[1mINFO    \u001B[0m | \u001B[1mlr:             | avg: 0.0007785 | std: nan       | min: 0.0007785 | 25%: 0.0007785 | 50%: 0.0007785 | 75%: 0.0007785 | max: 0.0007785 \u001B[0m\n",
      "\u001B[32m2022-07-12 13:48:20\u001B[0m | \u001B[1mINFO    \u001B[0m | \u001B[1mvalidation:\u001B[0m\n",
      "\u001B[32m2022-07-12 13:48:20\u001B[0m | \u001B[1mINFO    \u001B[0m | \u001B[1mloss:           | avg: 507.2     | std: 8.386     | min: 494.4     | 25%: 500.4     | 50%: 509.2     | 75%: 511.7     | max: 527.4     \u001B[0m\n",
      "\u001B[32m2022-07-12 13:48:20\u001B[0m | \u001B[1mINFO    \u001B[0m | \u001B[1macc:            | avg: 0.9409    | std: 0.01072   | min: 0.9141    | 25%: 0.9355    | 50%: 0.9424    | 75%: 0.9473    | max: 0.9609    \u001B[0m\n"
     ]
    },
    {
     "name": "stderr",
     "output_type": "stream",
     "text": [
      "\n",
      "train: 100%|██████████| 73/73 [00:11<00:00,  6.50it/s]\n",
      "validation: 100%|██████████| 22/22 [00:00<00:00, 33.92it/s]"
     ]
    },
    {
     "name": "stdout",
     "output_type": "stream",
     "text": [
      "\u001B[32m2022-07-12 13:48:35\u001B[0m | \u001B[1mINFO    \u001B[0m | \u001B[1m\u001B[0m\n",
      "\u001B[32m2022-07-12 13:48:35\u001B[0m | \u001B[1mINFO    \u001B[0m | \u001B[1mFinished epoch 38/40:\u001B[0m\n",
      "\u001B[32m2022-07-12 13:48:35\u001B[0m | \u001B[1mINFO    \u001B[0m | \u001B[1mtrain:\u001B[0m\n",
      "\u001B[32m2022-07-12 13:48:35\u001B[0m | \u001B[1mINFO    \u001B[0m | \u001B[1mloss:           | avg: 445.8     | std: 0.5608    | min: 445.1     | 25%: 445.4     | 50%: 445.6     | 75%: 446.0     | max: 448.3     \u001B[0m\n",
      "\u001B[32m2022-07-12 13:48:35\u001B[0m | \u001B[1mINFO    \u001B[0m | \u001B[1macc:            | avg: 1.0       | std: 0.0002286 | min: 0.998     | 25%: 1.0       | 50%: 1.0       | 75%: 1.0       | max: 1.0       \u001B[0m\n",
      "\u001B[32m2022-07-12 13:48:35\u001B[0m | \u001B[1mINFO    \u001B[0m | \u001B[1mlr:             | avg: 0.0007377 | std: nan       | min: 0.0007377 | 25%: 0.0007377 | 50%: 0.0007377 | 75%: 0.0007377 | max: 0.0007377 \u001B[0m\n",
      "\u001B[32m2022-07-12 13:48:35\u001B[0m | \u001B[1mINFO    \u001B[0m | \u001B[1mvalidation:\u001B[0m\n",
      "\u001B[32m2022-07-12 13:48:35\u001B[0m | \u001B[1mINFO    \u001B[0m | \u001B[1mloss:           | avg: 508.0     | std: 6.24      | min: 493.1     | 25%: 504.9     | 50%: 509.9     | 75%: 511.5     | max: 519.9     \u001B[0m\n",
      "\u001B[32m2022-07-12 13:48:35\u001B[0m | \u001B[1mINFO    \u001B[0m | \u001B[1macc:            | avg: 0.9389    | std: 0.008046  | min: 0.9258    | 25%: 0.9336    | 50%: 0.9395    | 75%: 0.9453    | max: 0.9531    \u001B[0m\n"
     ]
    },
    {
     "name": "stderr",
     "output_type": "stream",
     "text": [
      "\n",
      "train: 100%|██████████| 73/73 [00:11<00:00,  6.37it/s]\n",
      "validation: 100%|██████████| 22/22 [00:00<00:00, 34.56it/s]"
     ]
    },
    {
     "name": "stdout",
     "output_type": "stream",
     "text": [
      "\u001B[32m2022-07-12 13:48:50\u001B[0m | \u001B[1mINFO    \u001B[0m | \u001B[1m\u001B[0m\n",
      "\u001B[32m2022-07-12 13:48:50\u001B[0m | \u001B[1mINFO    \u001B[0m | \u001B[1mFinished epoch 39/40:\u001B[0m\n",
      "\u001B[32m2022-07-12 13:48:50\u001B[0m | \u001B[1mINFO    \u001B[0m | \u001B[1mtrain:\u001B[0m\n",
      "\u001B[32m2022-07-12 13:48:50\u001B[0m | \u001B[1mINFO    \u001B[0m | \u001B[1mloss:           | avg: 445.6     | std: 0.3871    | min: 445.1     | 25%: 445.3     | 50%: 445.5     | 75%: 445.7     | max: 446.9     \u001B[0m\n",
      "\u001B[32m2022-07-12 13:48:50\u001B[0m | \u001B[1mINFO    \u001B[0m | \u001B[1macc:            | avg: 1.0       | std: 0.0       | min: 1.0       | 25%: 1.0       | 50%: 1.0       | 75%: 1.0       | max: 1.0       \u001B[0m\n",
      "\u001B[32m2022-07-12 13:48:50\u001B[0m | \u001B[1mINFO    \u001B[0m | \u001B[1mlr:             | avg: 0.000697  | std: nan       | min: 0.000697  | 25%: 0.000697  | 50%: 0.000697  | 75%: 0.000697  | max: 0.000697  \u001B[0m\n",
      "\u001B[32m2022-07-12 13:48:50\u001B[0m | \u001B[1mINFO    \u001B[0m | \u001B[1mvalidation:\u001B[0m\n",
      "\u001B[32m2022-07-12 13:48:50\u001B[0m | \u001B[1mINFO    \u001B[0m | \u001B[1mloss:           | avg: 507.5     | std: 8.038     | min: 493.5     | 25%: 501.0     | 50%: 508.6     | 75%: 513.4     | max: 521.5     \u001B[0m\n",
      "\u001B[32m2022-07-12 13:48:50\u001B[0m | \u001B[1mINFO    \u001B[0m | \u001B[1macc:            | avg: 0.9414    | std: 0.01192   | min: 0.9199    | 25%: 0.9316    | 50%: 0.9414    | 75%: 0.9521    | max: 0.9609    \u001B[0m\n"
     ]
    },
    {
     "name": "stderr",
     "output_type": "stream",
     "text": [
      "\n",
      "train: 100%|██████████| 73/73 [00:11<00:00,  6.40it/s]\n",
      "validation: 100%|██████████| 22/22 [00:00<00:00, 34.74it/s]"
     ]
    },
    {
     "name": "stdout",
     "output_type": "stream",
     "text": [
      "\u001B[32m2022-07-12 13:49:05\u001B[0m | \u001B[1mINFO    \u001B[0m | \u001B[1m\u001B[0m\n",
      "\u001B[32m2022-07-12 13:49:05\u001B[0m | \u001B[1mINFO    \u001B[0m | \u001B[1mFinished epoch 40/40:\u001B[0m\n",
      "\u001B[32m2022-07-12 13:49:05\u001B[0m | \u001B[1mINFO    \u001B[0m | \u001B[1mtrain:\u001B[0m\n",
      "\u001B[32m2022-07-12 13:49:05\u001B[0m | \u001B[1mINFO    \u001B[0m | \u001B[1mloss:           | avg: 445.6     | std: 0.4145    | min: 445.0     | 25%: 445.3     | 50%: 445.5     | 75%: 445.9     | max: 446.8     \u001B[0m\n",
      "\u001B[32m2022-07-12 13:49:05\u001B[0m | \u001B[1mINFO    \u001B[0m | \u001B[1macc:            | avg: 1.0       | std: 0.0002286 | min: 0.998     | 25%: 1.0       | 50%: 1.0       | 75%: 1.0       | max: 1.0       \u001B[0m\n",
      "\u001B[32m2022-07-12 13:49:05\u001B[0m | \u001B[1mINFO    \u001B[0m | \u001B[1mlr:             | avg: 0.0006562 | std: nan       | min: 0.0006562 | 25%: 0.0006562 | 50%: 0.0006562 | 75%: 0.0006562 | max: 0.0006562 \u001B[0m\n",
      "\u001B[32m2022-07-12 13:49:05\u001B[0m | \u001B[1mINFO    \u001B[0m | \u001B[1mvalidation:\u001B[0m\n",
      "\u001B[32m2022-07-12 13:49:05\u001B[0m | \u001B[1mINFO    \u001B[0m | \u001B[1mloss:           | avg: 508.1     | std: 7.086     | min: 495.8     | 25%: 504.5     | 50%: 508.9     | 75%: 512.5     | max: 522.7     \u001B[0m\n",
      "\u001B[32m2022-07-12 13:49:05\u001B[0m | \u001B[1mINFO    \u001B[0m | \u001B[1macc:            | avg: 0.9397    | std: 0.009265  | min: 0.916     | 25%: 0.9341    | 50%: 0.9395    | 75%: 0.9448    | max: 0.957     \u001B[0m\n",
      "\u001B[32m2022-07-12 13:49:08\u001B[0m | \u001B[1mINFO    \u001B[0m | \u001B[1mReload experiment from checkpoint: /tmp/cifar/cifar10/CIFAR10Algorithm/compare_parallel/0000_20220712_134007/checkpoints/checkpoint_000040\u001B[0m\n",
      "\u001B[32m2022-07-12 13:49:08\u001B[0m | \u001B[1mINFO    \u001B[0m | \u001B[1mLoading network state from: /tmp/cifar/cifar10/CIFAR10Algorithm/compare_parallel/0000_20220712_134007/checkpoints/checkpoint_000040\u001B[0m\n"
     ]
    }
   ],
   "source": [
    "hparams = beam_arguments(get_cifar10_parser(), f\"--project-name=cifar10 --root-dir=/tmp/cifar --algorithm=CIFAR10Algorithm --device=0 --amp --lr-d=1e-2 --batch-size=512\",\n",
    "                      \"--n-epochs=40 --identifier=compare_parallel --clip-gradient=1000 --parallel=2 --accumulate=1 --no-deterministic\",\n",
    "                      \"--weight-decay=3e-5 --beta1=0.9\", prototype=False)\n",
    "experiment = Experiment(hparams, print_hyperparameters=False)\n",
    "alg = experiment.fit(CIFAR10Algorithm, CIFAR10Dataset)"
   ]
  },
  {
   "cell_type": "code",
   "execution_count": 20,
   "id": "9ae2af5a-347b-487b-8e5c-40bc628e007e",
   "metadata": {},
   "outputs": [
    {
     "name": "stdout",
     "output_type": "stream",
     "text": [
      "\u001B[32m2022-07-12 13:49:08\u001B[0m | \u001B[1mINFO    \u001B[0m | \u001B[1mCreating new experiment\u001B[0m\n",
      "\u001B[32m2022-07-12 13:49:08\u001B[0m | \u001B[1mINFO    \u001B[0m | \u001B[1mExperiment directory is: /tmp/cifar/cifar10/CIFAR10Algorithm/compare_parallel/0001_20220712_134908\u001B[0m\n",
      "\u001B[32m2022-07-12 13:49:08\u001B[0m | \u001B[1mINFO    \u001B[0m | \u001B[1mInitializing 2 parallel workers\u001B[0m\n",
      "\u001B[32m2022-07-12 13:49:08\u001B[0m | \u001B[1mINFO    \u001B[0m | \u001B[1mMultiprocessing port is: 42637\u001B[0m\n",
      "\u001B[32m2022-07-12 13:49:11\u001B[0m | \u001B[1mINFO    \u001B[0m | \u001B[1mWorker: 1/2 is running...\u001B[0m\n",
      "\u001B[32m2022-07-12 13:49:12\u001B[0m | \u001B[1mINFO    \u001B[0m | \u001B[1mWorker: 2/2 is running...\u001B[0m\n"
     ]
    },
    {
     "name": "stderr",
     "output_type": "stream",
     "text": [
      "2022-07-12 13:49:19.274035: I tensorflow/core/util/util.cc:169] oneDNN custom operations are on. You may see slightly different numerical results due to floating-point round-off errors from different computation orders. To turn them off, set the environment variable `TF_ENABLE_ONEDNN_OPTS=0`.\n",
      "train:   0%|          | 0/73 [00:00<?, ?it/s]/opt/conda/lib/python3.8/site-packages/torch/optim/lr_scheduler.py:131: UserWarning: Detected call of `lr_scheduler.step()` before `optimizer.step()`. In PyTorch 1.1.0 and later, you should call them in the opposite order: `optimizer.step()` before `lr_scheduler.step()`.  Failure to do this will result in PyTorch skipping the first value of the learning rate schedule. See more details at https://pytorch.org/docs/stable/optim.html#how-to-adjust-learning-rate\n",
      "  warnings.warn(\"Detected call of `lr_scheduler.step()` before `optimizer.step()`. \"\n",
      "train: 100%|██████████| 73/73 [00:09<00:00,  7.32it/s]\n",
      "validation: 100%|██████████| 22/22 [00:00<00:00, 35.23it/s]"
     ]
    },
    {
     "name": "stdout",
     "output_type": "stream",
     "text": [
      "\u001B[32m2022-07-12 13:49:31\u001B[0m | \u001B[1mINFO    \u001B[0m | \u001B[1m\u001B[0m\n",
      "\u001B[32m2022-07-12 13:49:31\u001B[0m | \u001B[1mINFO    \u001B[0m | \u001B[1mFinished epoch 1/40:\u001B[0m\n",
      "\u001B[32m2022-07-12 13:49:31\u001B[0m | \u001B[1mINFO    \u001B[0m | \u001B[1mtrain:\u001B[0m\n",
      "\u001B[32m2022-07-12 13:49:31\u001B[0m | \u001B[1mINFO    \u001B[0m | \u001B[1mloss:           | avg: 913.3     | std: 127.9     | min: 738.9     | 25%: 799.5     | 50%: 892.0     | 75%: 1.015e+03 | max: 1.18e+03  \u001B[0m\n",
      "\u001B[32m2022-07-12 13:49:31\u001B[0m | \u001B[1mINFO    \u001B[0m | \u001B[1macc:            | avg: 0.4786    | std: 0.162     | min: 0.09375   | 25%: 0.3496    | 50%: 0.5059    | 75%: 0.627     | max: 0.6992    \u001B[0m\n",
      "\u001B[32m2022-07-12 13:49:31\u001B[0m | \u001B[1mINFO    \u001B[0m | \u001B[1mlr:             | avg: 0.0005    | std: nan       | min: 0.0005    | 25%: 0.0005    | 50%: 0.0005    | 75%: 0.0005    | max: 0.0005    \u001B[0m\n",
      "\u001B[32m2022-07-12 13:49:31\u001B[0m | \u001B[1mINFO    \u001B[0m | \u001B[1mvalidation:\u001B[0m\n",
      "\u001B[32m2022-07-12 13:49:31\u001B[0m | \u001B[1mINFO    \u001B[0m | \u001B[1mloss:           | avg: 759.0     | std: 13.97     | min: 737.2     | 25%: 746.1     | 50%: 761.3     | 75%: 767.2     | max: 782.4     \u001B[0m\n",
      "\u001B[32m2022-07-12 13:49:31\u001B[0m | \u001B[1mINFO    \u001B[0m | \u001B[1macc:            | avg: 0.6688    | std: 0.01908   | min: 0.6328    | 25%: 0.6533    | 50%: 0.6689    | 75%: 0.6792    | max: 0.707     \u001B[0m\n"
     ]
    },
    {
     "name": "stderr",
     "output_type": "stream",
     "text": [
      "\n",
      "train: 100%|██████████| 73/73 [00:08<00:00,  9.10it/s]\n",
      "validation: 100%|██████████| 22/22 [00:00<00:00, 34.04it/s]"
     ]
    },
    {
     "name": "stdout",
     "output_type": "stream",
     "text": [
      "\u001B[32m2022-07-12 13:49:42\u001B[0m | \u001B[1mINFO    \u001B[0m | \u001B[1m\u001B[0m\n",
      "\u001B[32m2022-07-12 13:49:42\u001B[0m | \u001B[1mINFO    \u001B[0m | \u001B[1mFinished epoch 2/40:\u001B[0m\n",
      "\u001B[32m2022-07-12 13:49:42\u001B[0m | \u001B[1mINFO    \u001B[0m | \u001B[1mtrain:\u001B[0m\n",
      "\u001B[32m2022-07-12 13:49:42\u001B[0m | \u001B[1mINFO    \u001B[0m | \u001B[1mloss:           | avg: 682.8     | std: 36.66     | min: 620.7     | 25%: 647.9     | 50%: 683.3     | 75%: 708.6     | max: 761.0     \u001B[0m\n",
      "\u001B[32m2022-07-12 13:49:42\u001B[0m | \u001B[1mINFO    \u001B[0m | \u001B[1macc:            | avg: 0.7655    | std: 0.0462    | min: 0.6504    | 25%: 0.7363    | 50%: 0.7656    | 75%: 0.8047    | max: 0.8496    \u001B[0m\n",
      "\u001B[32m2022-07-12 13:49:42\u001B[0m | \u001B[1mINFO    \u001B[0m | \u001B[1mlr:             | avg: 0.0005703 | std: nan       | min: 0.0005703 | 25%: 0.0005703 | 50%: 0.0005703 | 75%: 0.0005703 | max: 0.0005703 \u001B[0m\n",
      "\u001B[32m2022-07-12 13:49:42\u001B[0m | \u001B[1mINFO    \u001B[0m | \u001B[1mvalidation:\u001B[0m\n",
      "\u001B[32m2022-07-12 13:49:42\u001B[0m | \u001B[1mINFO    \u001B[0m | \u001B[1mloss:           | avg: 647.7     | std: 13.0      | min: 625.0     | 25%: 639.5     | 50%: 648.9     | 75%: 655.1     | max: 667.8     \u001B[0m\n",
      "\u001B[32m2022-07-12 13:49:42\u001B[0m | \u001B[1mINFO    \u001B[0m | \u001B[1macc:            | avg: 0.8113    | std: 0.01956   | min: 0.7812    | 25%: 0.7969    | 50%: 0.8105    | 75%: 0.8262    | max: 0.8438    \u001B[0m\n"
     ]
    },
    {
     "name": "stderr",
     "output_type": "stream",
     "text": [
      "\n",
      "train: 100%|██████████| 73/73 [00:07<00:00,  9.22it/s]\n",
      "validation: 100%|██████████| 22/22 [00:00<00:00, 34.05it/s]"
     ]
    },
    {
     "name": "stdout",
     "output_type": "stream",
     "text": [
      "\u001B[32m2022-07-12 13:49:53\u001B[0m | \u001B[1mINFO    \u001B[0m | \u001B[1m\u001B[0m\n",
      "\u001B[32m2022-07-12 13:49:53\u001B[0m | \u001B[1mINFO    \u001B[0m | \u001B[1mFinished epoch 3/40:\u001B[0m\n",
      "\u001B[32m2022-07-12 13:49:53\u001B[0m | \u001B[1mINFO    \u001B[0m | \u001B[1mtrain:\u001B[0m\n",
      "\u001B[32m2022-07-12 13:49:53\u001B[0m | \u001B[1mINFO    \u001B[0m | \u001B[1mloss:           | avg: 620.9     | std: 16.57     | min: 582.1     | 25%: 610.9     | 50%: 621.8     | 75%: 632.5     | max: 655.3     \u001B[0m\n",
      "\u001B[32m2022-07-12 13:49:53\u001B[0m | \u001B[1mINFO    \u001B[0m | \u001B[1macc:            | avg: 0.8364    | std: 0.02208   | min: 0.791     | 25%: 0.8184    | 50%: 0.834     | 75%: 0.8516    | max: 0.8945    \u001B[0m\n",
      "\u001B[32m2022-07-12 13:49:53\u001B[0m | \u001B[1mINFO    \u001B[0m | \u001B[1mlr:             | avg: 0.0008555 | std: nan       | min: 0.0008555 | 25%: 0.0008555 | 50%: 0.0008555 | 75%: 0.0008555 | max: 0.0008555 \u001B[0m\n",
      "\u001B[32m2022-07-12 13:49:53\u001B[0m | \u001B[1mINFO    \u001B[0m | \u001B[1mvalidation:\u001B[0m\n",
      "\u001B[32m2022-07-12 13:49:53\u001B[0m | \u001B[1mINFO    \u001B[0m | \u001B[1mloss:           | avg: 655.8     | std: 14.3      | min: 627.5     | 25%: 648.4     | 50%: 653.9     | 75%: 664.1     | max: 685.9     \u001B[0m\n",
      "\u001B[32m2022-07-12 13:49:53\u001B[0m | \u001B[1mINFO    \u001B[0m | \u001B[1macc:            | avg: 0.7984    | std: 0.01927   | min: 0.7637    | 25%: 0.7881    | 50%: 0.8008    | 75%: 0.8101    | max: 0.834     \u001B[0m\n"
     ]
    },
    {
     "name": "stderr",
     "output_type": "stream",
     "text": [
      "\n",
      "train: 100%|██████████| 73/73 [00:07<00:00,  9.30it/s]\n",
      "validation: 100%|██████████| 22/22 [00:00<00:00, 33.36it/s]"
     ]
    },
    {
     "name": "stdout",
     "output_type": "stream",
     "text": [
      "\u001B[32m2022-07-12 13:50:04\u001B[0m | \u001B[1mINFO    \u001B[0m | \u001B[1m\u001B[0m\n",
      "\u001B[32m2022-07-12 13:50:04\u001B[0m | \u001B[1mINFO    \u001B[0m | \u001B[1mFinished epoch 4/40:\u001B[0m\n",
      "\u001B[32m2022-07-12 13:50:04\u001B[0m | \u001B[1mINFO    \u001B[0m | \u001B[1mtrain:\u001B[0m\n",
      "\u001B[32m2022-07-12 13:50:04\u001B[0m | \u001B[1mINFO    \u001B[0m | \u001B[1mloss:           | avg: 587.7     | std: 15.07     | min: 559.1     | 25%: 578.7     | 50%: 585.3     | 75%: 598.1     | max: 628.8     \u001B[0m\n",
      "\u001B[32m2022-07-12 13:50:04\u001B[0m | \u001B[1mINFO    \u001B[0m | \u001B[1macc:            | avg: 0.8755    | std: 0.02068   | min: 0.8164    | 25%: 0.8613    | 50%: 0.8789    | 75%: 0.8926    | max: 0.9258    \u001B[0m\n",
      "\u001B[32m2022-07-12 13:50:04\u001B[0m | \u001B[1mINFO    \u001B[0m | \u001B[1mlr:             | avg: 0.001141  | std: nan       | min: 0.001141  | 25%: 0.001141  | 50%: 0.001141  | 75%: 0.001141  | max: 0.001141  \u001B[0m\n",
      "\u001B[32m2022-07-12 13:50:04\u001B[0m | \u001B[1mINFO    \u001B[0m | \u001B[1mvalidation:\u001B[0m\n",
      "\u001B[32m2022-07-12 13:50:04\u001B[0m | \u001B[1mINFO    \u001B[0m | \u001B[1mloss:           | avg: 616.5     | std: 9.58      | min: 597.2     | 25%: 612.2     | 50%: 615.3     | 75%: 621.3     | max: 634.4     \u001B[0m\n",
      "\u001B[32m2022-07-12 13:50:04\u001B[0m | \u001B[1mINFO    \u001B[0m | \u001B[1macc:            | avg: 0.8403    | std: 0.01438   | min: 0.8145    | 25%: 0.832     | 50%: 0.8398    | 75%: 0.8472    | max: 0.873     \u001B[0m\n"
     ]
    },
    {
     "name": "stderr",
     "output_type": "stream",
     "text": [
      "\n",
      "train: 100%|██████████| 73/73 [00:07<00:00,  9.32it/s]\n",
      "validation: 100%|██████████| 22/22 [00:00<00:00, 33.74it/s]"
     ]
    },
    {
     "name": "stdout",
     "output_type": "stream",
     "text": [
      "\u001B[32m2022-07-12 13:50:15\u001B[0m | \u001B[1mINFO    \u001B[0m | \u001B[1m\u001B[0m\n",
      "\u001B[32m2022-07-12 13:50:15\u001B[0m | \u001B[1mINFO    \u001B[0m | \u001B[1mFinished epoch 5/40:\u001B[0m\n",
      "\u001B[32m2022-07-12 13:50:15\u001B[0m | \u001B[1mINFO    \u001B[0m | \u001B[1mtrain:\u001B[0m\n",
      "\u001B[32m2022-07-12 13:50:15\u001B[0m | \u001B[1mINFO    \u001B[0m | \u001B[1mloss:           | avg: 561.4     | std: 13.15     | min: 533.5     | 25%: 552.1     | 50%: 561.0     | 75%: 568.9     | max: 598.4     \u001B[0m\n",
      "\u001B[32m2022-07-12 13:50:15\u001B[0m | \u001B[1mINFO    \u001B[0m | \u001B[1macc:            | avg: 0.9027    | std: 0.01733   | min: 0.8574    | 25%: 0.8906    | 50%: 0.9043    | 75%: 0.9141    | max: 0.9297    \u001B[0m\n",
      "\u001B[32m2022-07-12 13:50:15\u001B[0m | \u001B[1mINFO    \u001B[0m | \u001B[1mlr:             | avg: 0.001426  | std: nan       | min: 0.001426  | 25%: 0.001426  | 50%: 0.001426  | 75%: 0.001426  | max: 0.001426  \u001B[0m\n",
      "\u001B[32m2022-07-12 13:50:15\u001B[0m | \u001B[1mINFO    \u001B[0m | \u001B[1mvalidation:\u001B[0m\n",
      "\u001B[32m2022-07-12 13:50:15\u001B[0m | \u001B[1mINFO    \u001B[0m | \u001B[1mloss:           | avg: 597.6     | std: 11.13     | min: 578.4     | 25%: 590.8     | 50%: 597.7     | 75%: 604.8     | max: 623.6     \u001B[0m\n",
      "\u001B[32m2022-07-12 13:50:15\u001B[0m | \u001B[1mINFO    \u001B[0m | \u001B[1macc:            | avg: 0.8624    | std: 0.01625   | min: 0.8242    | 25%: 0.8555    | 50%: 0.8643    | 75%: 0.8701    | max: 0.8965    \u001B[0m\n"
     ]
    },
    {
     "name": "stderr",
     "output_type": "stream",
     "text": [
      "\n",
      "train: 100%|██████████| 73/73 [00:07<00:00,  9.28it/s]\n",
      "validation: 100%|██████████| 22/22 [00:00<00:00, 33.92it/s]"
     ]
    },
    {
     "name": "stdout",
     "output_type": "stream",
     "text": [
      "\u001B[32m2022-07-12 13:50:26\u001B[0m | \u001B[1mINFO    \u001B[0m | \u001B[1m\u001B[0m\n",
      "\u001B[32m2022-07-12 13:50:26\u001B[0m | \u001B[1mINFO    \u001B[0m | \u001B[1mFinished epoch 6/40:\u001B[0m\n",
      "\u001B[32m2022-07-12 13:50:26\u001B[0m | \u001B[1mINFO    \u001B[0m | \u001B[1mtrain:\u001B[0m\n",
      "\u001B[32m2022-07-12 13:50:26\u001B[0m | \u001B[1mINFO    \u001B[0m | \u001B[1mloss:           | avg: 547.4     | std: 12.69     | min: 523.9     | 25%: 538.9     | 50%: 545.5     | 75%: 555.6     | max: 582.1     \u001B[0m\n",
      "\u001B[32m2022-07-12 13:50:26\u001B[0m | \u001B[1mINFO    \u001B[0m | \u001B[1macc:            | avg: 0.9171    | std: 0.01808   | min: 0.8652    | 25%: 0.9082    | 50%: 0.916     | 75%: 0.9297    | max: 0.9551    \u001B[0m\n",
      "\u001B[32m2022-07-12 13:50:26\u001B[0m | \u001B[1mINFO    \u001B[0m | \u001B[1mlr:             | avg: 0.001711  | std: nan       | min: 0.001711  | 25%: 0.001711  | 50%: 0.001711  | 75%: 0.001711  | max: 0.001711  \u001B[0m\n",
      "\u001B[32m2022-07-12 13:50:26\u001B[0m | \u001B[1mINFO    \u001B[0m | \u001B[1mvalidation:\u001B[0m\n",
      "\u001B[32m2022-07-12 13:50:26\u001B[0m | \u001B[1mINFO    \u001B[0m | \u001B[1mloss:           | avg: 584.8     | std: 11.67     | min: 562.0     | 25%: 578.3     | 50%: 582.6     | 75%: 592.3     | max: 615.6     \u001B[0m\n",
      "\u001B[32m2022-07-12 13:50:26\u001B[0m | \u001B[1mINFO    \u001B[0m | \u001B[1macc:            | avg: 0.875     | std: 0.01498   | min: 0.8438    | 25%: 0.8633    | 50%: 0.875     | 75%: 0.8857    | max: 0.9004    \u001B[0m\n"
     ]
    },
    {
     "name": "stderr",
     "output_type": "stream",
     "text": [
      "\n",
      "train: 100%|██████████| 73/73 [00:07<00:00,  9.29it/s]\n",
      "validation: 100%|██████████| 22/22 [00:00<00:00, 33.36it/s]"
     ]
    },
    {
     "name": "stdout",
     "output_type": "stream",
     "text": [
      "\u001B[32m2022-07-12 13:50:37\u001B[0m | \u001B[1mINFO    \u001B[0m | \u001B[1m\u001B[0m\n",
      "\u001B[32m2022-07-12 13:50:37\u001B[0m | \u001B[1mINFO    \u001B[0m | \u001B[1mFinished epoch 7/40:\u001B[0m\n",
      "\u001B[32m2022-07-12 13:50:37\u001B[0m | \u001B[1mINFO    \u001B[0m | \u001B[1mtrain:\u001B[0m\n",
      "\u001B[32m2022-07-12 13:50:37\u001B[0m | \u001B[1mINFO    \u001B[0m | \u001B[1mloss:           | avg: 528.4     | std: 10.11     | min: 505.2     | 25%: 521.8     | 50%: 530.4     | 75%: 534.3     | max: 550.2     \u001B[0m\n",
      "\u001B[32m2022-07-12 13:50:37\u001B[0m | \u001B[1mINFO    \u001B[0m | \u001B[1macc:            | avg: 0.9368    | std: 0.01435   | min: 0.9023    | 25%: 0.9238    | 50%: 0.9355    | 75%: 0.9473    | max: 0.9668    \u001B[0m\n",
      "\u001B[32m2022-07-12 13:50:37\u001B[0m | \u001B[1mINFO    \u001B[0m | \u001B[1mlr:             | avg: 0.001996  | std: nan       | min: 0.001996  | 25%: 0.001996  | 50%: 0.001996  | 75%: 0.001996  | max: 0.001996  \u001B[0m\n",
      "\u001B[32m2022-07-12 13:50:37\u001B[0m | \u001B[1mINFO    \u001B[0m | \u001B[1mvalidation:\u001B[0m\n",
      "\u001B[32m2022-07-12 13:50:37\u001B[0m | \u001B[1mINFO    \u001B[0m | \u001B[1mloss:           | avg: 610.4     | std: 8.361     | min: 593.0     | 25%: 602.8     | 50%: 611.9     | 75%: 616.1     | max: 624.7     \u001B[0m\n",
      "\u001B[32m2022-07-12 13:50:37\u001B[0m | \u001B[1mINFO    \u001B[0m | \u001B[1macc:            | avg: 0.8455    | std: 0.01433   | min: 0.8301    | 25%: 0.834     | 50%: 0.8408    | 75%: 0.8594    | max: 0.875     \u001B[0m\n"
     ]
    },
    {
     "name": "stderr",
     "output_type": "stream",
     "text": [
      "\n",
      "train: 100%|██████████| 73/73 [00:08<00:00,  9.05it/s]\n",
      "validation: 100%|██████████| 22/22 [00:00<00:00, 33.61it/s]"
     ]
    },
    {
     "name": "stdout",
     "output_type": "stream",
     "text": [
      "\u001B[32m2022-07-12 13:50:48\u001B[0m | \u001B[1mINFO    \u001B[0m | \u001B[1m\u001B[0m\n",
      "\u001B[32m2022-07-12 13:50:48\u001B[0m | \u001B[1mINFO    \u001B[0m | \u001B[1mFinished epoch 8/40:\u001B[0m\n",
      "\u001B[32m2022-07-12 13:50:48\u001B[0m | \u001B[1mINFO    \u001B[0m | \u001B[1mtrain:\u001B[0m\n",
      "\u001B[32m2022-07-12 13:50:48\u001B[0m | \u001B[1mINFO    \u001B[0m | \u001B[1mloss:           | avg: 517.5     | std: 14.11     | min: 493.6     | 25%: 508.4     | 50%: 514.5     | 75%: 523.0     | max: 553.9     \u001B[0m\n",
      "\u001B[32m2022-07-12 13:50:48\u001B[0m | \u001B[1mINFO    \u001B[0m | \u001B[1macc:            | avg: 0.9487    | std: 0.01567   | min: 0.9023    | 25%: 0.9434    | 50%: 0.9531    | 75%: 0.957     | max: 0.9785    \u001B[0m\n",
      "\u001B[32m2022-07-12 13:50:48\u001B[0m | \u001B[1mINFO    \u001B[0m | \u001B[1mlr:             | avg: 0.00196   | std: nan       | min: 0.00196   | 25%: 0.00196   | 50%: 0.00196   | 75%: 0.00196   | max: 0.00196   \u001B[0m\n",
      "\u001B[32m2022-07-12 13:50:48\u001B[0m | \u001B[1mINFO    \u001B[0m | \u001B[1mvalidation:\u001B[0m\n",
      "\u001B[32m2022-07-12 13:50:48\u001B[0m | \u001B[1mINFO    \u001B[0m | \u001B[1mloss:           | avg: 566.7     | std: 10.81     | min: 546.9     | 25%: 561.1     | 50%: 567.0     | 75%: 571.2     | max: 587.4     \u001B[0m\n",
      "\u001B[32m2022-07-12 13:50:48\u001B[0m | \u001B[1mINFO    \u001B[0m | \u001B[1macc:            | avg: 0.8857    | std: 0.0135    | min: 0.8633    | 25%: 0.8794    | 50%: 0.8867    | 75%: 0.8926    | max: 0.9121    \u001B[0m\n"
     ]
    },
    {
     "name": "stderr",
     "output_type": "stream",
     "text": [
      "\n",
      "train: 100%|██████████| 73/73 [00:07<00:00,  9.28it/s]\n",
      "validation: 100%|██████████| 22/22 [00:00<00:00, 33.28it/s]"
     ]
    },
    {
     "name": "stdout",
     "output_type": "stream",
     "text": [
      "\u001B[32m2022-07-12 13:50:59\u001B[0m | \u001B[1mINFO    \u001B[0m | \u001B[1m\u001B[0m\n",
      "\u001B[32m2022-07-12 13:50:59\u001B[0m | \u001B[1mINFO    \u001B[0m | \u001B[1mFinished epoch 9/40:\u001B[0m\n",
      "\u001B[32m2022-07-12 13:50:59\u001B[0m | \u001B[1mINFO    \u001B[0m | \u001B[1mtrain:\u001B[0m\n",
      "\u001B[32m2022-07-12 13:50:59\u001B[0m | \u001B[1mINFO    \u001B[0m | \u001B[1mloss:           | avg: 495.8     | std: 8.311     | min: 483.3     | 25%: 489.7     | 50%: 495.7     | 75%: 499.4     | max: 518.9     \u001B[0m\n",
      "\u001B[32m2022-07-12 13:50:59\u001B[0m | \u001B[1mINFO    \u001B[0m | \u001B[1macc:            | avg: 0.9688    | std: 0.009746  | min: 0.9434    | 25%: 0.9629    | 50%: 0.9707    | 75%: 0.9766    | max: 0.9844    \u001B[0m\n",
      "\u001B[32m2022-07-12 13:50:59\u001B[0m | \u001B[1mINFO    \u001B[0m | \u001B[1mlr:             | avg: 0.001919  | std: nan       | min: 0.001919  | 25%: 0.001919  | 50%: 0.001919  | 75%: 0.001919  | max: 0.001919  \u001B[0m\n",
      "\u001B[32m2022-07-12 13:50:59\u001B[0m | \u001B[1mINFO    \u001B[0m | \u001B[1mvalidation:\u001B[0m\n",
      "\u001B[32m2022-07-12 13:50:59\u001B[0m | \u001B[1mINFO    \u001B[0m | \u001B[1mloss:           | avg: 556.6     | std: 11.11     | min: 537.2     | 25%: 549.2     | 50%: 554.8     | 75%: 563.2     | max: 586.6     \u001B[0m\n",
      "\u001B[32m2022-07-12 13:50:59\u001B[0m | \u001B[1mINFO    \u001B[0m | \u001B[1macc:            | avg: 0.8954    | std: 0.01511   | min: 0.8652    | 25%: 0.8857    | 50%: 0.9004    | 75%: 0.9043    | max: 0.9199    \u001B[0m\n"
     ]
    },
    {
     "name": "stderr",
     "output_type": "stream",
     "text": [
      "\n",
      "train: 100%|██████████| 73/73 [00:07<00:00,  9.19it/s]\n",
      "validation: 100%|██████████| 22/22 [00:00<00:00, 34.06it/s]"
     ]
    },
    {
     "name": "stdout",
     "output_type": "stream",
     "text": [
      "\u001B[32m2022-07-12 13:51:10\u001B[0m | \u001B[1mINFO    \u001B[0m | \u001B[1m\u001B[0m\n",
      "\u001B[32m2022-07-12 13:51:10\u001B[0m | \u001B[1mINFO    \u001B[0m | \u001B[1mFinished epoch 10/40:\u001B[0m\n",
      "\u001B[32m2022-07-12 13:51:10\u001B[0m | \u001B[1mINFO    \u001B[0m | \u001B[1mtrain:\u001B[0m\n",
      "\u001B[32m2022-07-12 13:51:10\u001B[0m | \u001B[1mINFO    \u001B[0m | \u001B[1mloss:           | avg: 486.5     | std: 8.039     | min: 470.6     | 25%: 481.1     | 50%: 485.6     | 75%: 492.4     | max: 504.6     \u001B[0m\n",
      "\u001B[32m2022-07-12 13:51:10\u001B[0m | \u001B[1mINFO    \u001B[0m | \u001B[1macc:            | avg: 0.9768    | std: 0.009393  | min: 0.9473    | 25%: 0.9727    | 50%: 0.9766    | 75%: 0.9844    | max: 0.9961    \u001B[0m\n",
      "\u001B[32m2022-07-12 13:51:10\u001B[0m | \u001B[1mINFO    \u001B[0m | \u001B[1mlr:             | avg: 0.001878  | std: nan       | min: 0.001878  | 25%: 0.001878  | 50%: 0.001878  | 75%: 0.001878  | max: 0.001878  \u001B[0m\n",
      "\u001B[32m2022-07-12 13:51:10\u001B[0m | \u001B[1mINFO    \u001B[0m | \u001B[1mvalidation:\u001B[0m\n",
      "\u001B[32m2022-07-12 13:51:10\u001B[0m | \u001B[1mINFO    \u001B[0m | \u001B[1mloss:           | avg: 548.7     | std: 10.42     | min: 527.8     | 25%: 539.4     | 50%: 551.0     | 75%: 556.8     | max: 567.8     \u001B[0m\n",
      "\u001B[32m2022-07-12 13:51:10\u001B[0m | \u001B[1mINFO    \u001B[0m | \u001B[1macc:            | avg: 0.9028    | std: 0.01431   | min: 0.8789    | 25%: 0.8926    | 50%: 0.9004    | 75%: 0.9121    | max: 0.9336    \u001B[0m\n"
     ]
    },
    {
     "name": "stderr",
     "output_type": "stream",
     "text": [
      "\n",
      "train: 100%|██████████| 73/73 [00:07<00:00,  9.17it/s]\n",
      "validation: 100%|██████████| 22/22 [00:00<00:00, 33.51it/s]"
     ]
    },
    {
     "name": "stdout",
     "output_type": "stream",
     "text": [
      "\u001B[32m2022-07-12 13:51:21\u001B[0m | \u001B[1mINFO    \u001B[0m | \u001B[1m\u001B[0m\n",
      "\u001B[32m2022-07-12 13:51:21\u001B[0m | \u001B[1mINFO    \u001B[0m | \u001B[1mFinished epoch 11/40:\u001B[0m\n",
      "\u001B[32m2022-07-12 13:51:21\u001B[0m | \u001B[1mINFO    \u001B[0m | \u001B[1mtrain:\u001B[0m\n",
      "\u001B[32m2022-07-12 13:51:21\u001B[0m | \u001B[1mINFO    \u001B[0m | \u001B[1mloss:           | avg: 476.3     | std: 7.145     | min: 462.9     | 25%: 472.3     | 50%: 474.7     | 75%: 480.1     | max: 496.6     \u001B[0m\n",
      "\u001B[32m2022-07-12 13:51:21\u001B[0m | \u001B[1mINFO    \u001B[0m | \u001B[1macc:            | avg: 0.9854    | std: 0.007579  | min: 0.9609    | 25%: 0.9824    | 50%: 0.9863    | 75%: 0.9902    | max: 1.0       \u001B[0m\n",
      "\u001B[32m2022-07-12 13:51:21\u001B[0m | \u001B[1mINFO    \u001B[0m | \u001B[1mlr:             | avg: 0.001838  | std: nan       | min: 0.001838  | 25%: 0.001838  | 50%: 0.001838  | 75%: 0.001838  | max: 0.001838  \u001B[0m\n",
      "\u001B[32m2022-07-12 13:51:21\u001B[0m | \u001B[1mINFO    \u001B[0m | \u001B[1mvalidation:\u001B[0m\n",
      "\u001B[32m2022-07-12 13:51:21\u001B[0m | \u001B[1mINFO    \u001B[0m | \u001B[1mloss:           | avg: 531.3     | std: 8.719     | min: 514.6     | 25%: 526.1     | 50%: 530.4     | 75%: 534.6     | max: 548.7     \u001B[0m\n",
      "\u001B[32m2022-07-12 13:51:21\u001B[0m | \u001B[1mINFO    \u001B[0m | \u001B[1macc:            | avg: 0.917     | std: 0.01285   | min: 0.8828    | 25%: 0.9106    | 50%: 0.916     | 75%: 0.9253    | max: 0.9375    \u001B[0m\n"
     ]
    },
    {
     "name": "stderr",
     "output_type": "stream",
     "text": [
      "\n",
      "train: 100%|██████████| 73/73 [00:07<00:00,  9.16it/s]\n",
      "validation: 100%|██████████| 22/22 [00:00<00:00, 33.45it/s]"
     ]
    },
    {
     "name": "stdout",
     "output_type": "stream",
     "text": [
      "\u001B[32m2022-07-12 13:51:32\u001B[0m | \u001B[1mINFO    \u001B[0m | \u001B[1m\u001B[0m\n",
      "\u001B[32m2022-07-12 13:51:32\u001B[0m | \u001B[1mINFO    \u001B[0m | \u001B[1mFinished epoch 12/40:\u001B[0m\n",
      "\u001B[32m2022-07-12 13:51:32\u001B[0m | \u001B[1mINFO    \u001B[0m | \u001B[1mtrain:\u001B[0m\n",
      "\u001B[32m2022-07-12 13:51:32\u001B[0m | \u001B[1mINFO    \u001B[0m | \u001B[1mloss:           | avg: 470.3     | std: 5.632     | min: 461.0     | 25%: 467.0     | 50%: 469.3     | 75%: 473.5     | max: 494.8     \u001B[0m\n",
      "\u001B[32m2022-07-12 13:51:32\u001B[0m | \u001B[1mINFO    \u001B[0m | \u001B[1macc:            | avg: 0.9901    | std: 0.005916  | min: 0.9688    | 25%: 0.9863    | 50%: 0.9902    | 75%: 0.9941    | max: 1.0       \u001B[0m\n",
      "\u001B[32m2022-07-12 13:51:32\u001B[0m | \u001B[1mINFO    \u001B[0m | \u001B[1mlr:             | avg: 0.001797  | std: nan       | min: 0.001797  | 25%: 0.001797  | 50%: 0.001797  | 75%: 0.001797  | max: 0.001797  \u001B[0m\n",
      "\u001B[32m2022-07-12 13:51:32\u001B[0m | \u001B[1mINFO    \u001B[0m | \u001B[1mvalidation:\u001B[0m\n",
      "\u001B[32m2022-07-12 13:51:32\u001B[0m | \u001B[1mINFO    \u001B[0m | \u001B[1mloss:           | avg: 541.2     | std: 8.796     | min: 520.8     | 25%: 535.1     | 50%: 539.5     | 75%: 547.6     | max: 556.3     \u001B[0m\n",
      "\u001B[32m2022-07-12 13:51:32\u001B[0m | \u001B[1mINFO    \u001B[0m | \u001B[1macc:            | avg: 0.9121    | std: 0.01035   | min: 0.8887    | 25%: 0.9067    | 50%: 0.9121    | 75%: 0.9194    | max: 0.9355    \u001B[0m\n"
     ]
    },
    {
     "name": "stderr",
     "output_type": "stream",
     "text": [
      "\n",
      "train: 100%|██████████| 73/73 [00:08<00:00,  9.09it/s]\n",
      "validation: 100%|██████████| 22/22 [00:00<00:00, 33.32it/s]"
     ]
    },
    {
     "name": "stdout",
     "output_type": "stream",
     "text": [
      "\u001B[32m2022-07-12 13:51:43\u001B[0m | \u001B[1mINFO    \u001B[0m | \u001B[1m\u001B[0m\n",
      "\u001B[32m2022-07-12 13:51:43\u001B[0m | \u001B[1mINFO    \u001B[0m | \u001B[1mFinished epoch 13/40:\u001B[0m\n",
      "\u001B[32m2022-07-12 13:51:43\u001B[0m | \u001B[1mINFO    \u001B[0m | \u001B[1mtrain:\u001B[0m\n",
      "\u001B[32m2022-07-12 13:51:43\u001B[0m | \u001B[1mINFO    \u001B[0m | \u001B[1mloss:           | avg: 464.3     | std: 4.496     | min: 457.4     | 25%: 460.8     | 50%: 463.9     | 75%: 466.7     | max: 482.4     \u001B[0m\n",
      "\u001B[32m2022-07-12 13:51:43\u001B[0m | \u001B[1mINFO    \u001B[0m | \u001B[1macc:            | avg: 0.9936    | std: 0.004937  | min: 0.9746    | 25%: 0.9902    | 50%: 0.9941    | 75%: 0.998     | max: 1.0       \u001B[0m\n",
      "\u001B[32m2022-07-12 13:51:43\u001B[0m | \u001B[1mINFO    \u001B[0m | \u001B[1mlr:             | avg: 0.001756  | std: nan       | min: 0.001756  | 25%: 0.001756  | 50%: 0.001756  | 75%: 0.001756  | max: 0.001756  \u001B[0m\n",
      "\u001B[32m2022-07-12 13:51:43\u001B[0m | \u001B[1mINFO    \u001B[0m | \u001B[1mvalidation:\u001B[0m\n",
      "\u001B[32m2022-07-12 13:51:43\u001B[0m | \u001B[1mINFO    \u001B[0m | \u001B[1mloss:           | avg: 527.2     | std: 11.54     | min: 505.9     | 25%: 521.1     | 50%: 525.7     | 75%: 535.1     | max: 553.6     \u001B[0m\n",
      "\u001B[32m2022-07-12 13:51:43\u001B[0m | \u001B[1mINFO    \u001B[0m | \u001B[1macc:            | avg: 0.9229    | std: 0.01343   | min: 0.8984    | 25%: 0.9111    | 50%: 0.9258    | 75%: 0.9331    | max: 0.9473    \u001B[0m\n"
     ]
    },
    {
     "name": "stderr",
     "output_type": "stream",
     "text": [
      "\n",
      "train: 100%|██████████| 73/73 [00:08<00:00,  9.04it/s]\n",
      "validation: 100%|██████████| 22/22 [00:00<00:00, 30.89it/s]"
     ]
    },
    {
     "name": "stdout",
     "output_type": "stream",
     "text": [
      "\u001B[32m2022-07-12 13:51:54\u001B[0m | \u001B[1mINFO    \u001B[0m | \u001B[1m\u001B[0m\n",
      "\u001B[32m2022-07-12 13:51:54\u001B[0m | \u001B[1mINFO    \u001B[0m | \u001B[1mFinished epoch 14/40:\u001B[0m\n",
      "\u001B[32m2022-07-12 13:51:54\u001B[0m | \u001B[1mINFO    \u001B[0m | \u001B[1mtrain:\u001B[0m\n",
      "\u001B[32m2022-07-12 13:51:54\u001B[0m | \u001B[1mINFO    \u001B[0m | \u001B[1mloss:           | avg: 459.9     | std: 3.519     | min: 454.9     | 25%: 457.3     | 50%: 459.5     | 75%: 461.9     | max: 470.8     \u001B[0m\n",
      "\u001B[32m2022-07-12 13:51:54\u001B[0m | \u001B[1mINFO    \u001B[0m | \u001B[1macc:            | avg: 0.9961    | std: 0.002974  | min: 0.9883    | 25%: 0.9941    | 50%: 0.9961    | 75%: 0.998     | max: 1.0       \u001B[0m\n",
      "\u001B[32m2022-07-12 13:51:54\u001B[0m | \u001B[1mINFO    \u001B[0m | \u001B[1mlr:             | avg: 0.001715  | std: nan       | min: 0.001715  | 25%: 0.001715  | 50%: 0.001715  | 75%: 0.001715  | max: 0.001715  \u001B[0m\n",
      "\u001B[32m2022-07-12 13:51:54\u001B[0m | \u001B[1mINFO    \u001B[0m | \u001B[1mvalidation:\u001B[0m\n",
      "\u001B[32m2022-07-12 13:51:54\u001B[0m | \u001B[1mINFO    \u001B[0m | \u001B[1mloss:           | avg: 522.8     | std: 9.867     | min: 502.0     | 25%: 516.4     | 50%: 522.2     | 75%: 530.1     | max: 544.7     \u001B[0m\n",
      "\u001B[32m2022-07-12 13:51:54\u001B[0m | \u001B[1mINFO    \u001B[0m | \u001B[1macc:            | avg: 0.9253    | std: 0.01228   | min: 0.8965    | 25%: 0.9165    | 50%: 0.9268    | 75%: 0.9355    | max: 0.9434    \u001B[0m\n"
     ]
    },
    {
     "name": "stderr",
     "output_type": "stream",
     "text": [
      "\n",
      "train: 100%|██████████| 73/73 [00:07<00:00,  9.16it/s]\n",
      "validation: 100%|██████████| 22/22 [00:00<00:00, 33.80it/s]"
     ]
    },
    {
     "name": "stdout",
     "output_type": "stream",
     "text": [
      "\u001B[32m2022-07-12 13:52:05\u001B[0m | \u001B[1mINFO    \u001B[0m | \u001B[1m\u001B[0m\n",
      "\u001B[32m2022-07-12 13:52:05\u001B[0m | \u001B[1mINFO    \u001B[0m | \u001B[1mFinished epoch 15/40:\u001B[0m\n",
      "\u001B[32m2022-07-12 13:52:05\u001B[0m | \u001B[1mINFO    \u001B[0m | \u001B[1mtrain:\u001B[0m\n",
      "\u001B[32m2022-07-12 13:52:05\u001B[0m | \u001B[1mINFO    \u001B[0m | \u001B[1mloss:           | avg: 456.3     | std: 2.506     | min: 451.9     | 25%: 454.0     | 50%: 456.0     | 75%: 458.1     | max: 461.4     \u001B[0m\n",
      "\u001B[32m2022-07-12 13:52:05\u001B[0m | \u001B[1mINFO    \u001B[0m | \u001B[1macc:            | avg: 0.9978    | std: 0.002413  | min: 0.9883    | 25%: 0.9961    | 50%: 0.998     | 75%: 1.0       | max: 1.0       \u001B[0m\n",
      "\u001B[32m2022-07-12 13:52:05\u001B[0m | \u001B[1mINFO    \u001B[0m | \u001B[1mlr:             | avg: 0.001675  | std: nan       | min: 0.001675  | 25%: 0.001675  | 50%: 0.001675  | 75%: 0.001675  | max: 0.001675  \u001B[0m\n",
      "\u001B[32m2022-07-12 13:52:05\u001B[0m | \u001B[1mINFO    \u001B[0m | \u001B[1mvalidation:\u001B[0m\n",
      "\u001B[32m2022-07-12 13:52:05\u001B[0m | \u001B[1mINFO    \u001B[0m | \u001B[1mloss:           | avg: 521.1     | std: 5.749     | min: 507.5     | 25%: 517.5     | 50%: 520.9     | 75%: 524.2     | max: 532.0     \u001B[0m\n",
      "\u001B[32m2022-07-12 13:52:05\u001B[0m | \u001B[1mINFO    \u001B[0m | \u001B[1macc:            | avg: 0.9286    | std: 0.007642  | min: 0.9141    | 25%: 0.9248    | 50%: 0.9297    | 75%: 0.9336    | max: 0.9414    \u001B[0m\n"
     ]
    },
    {
     "name": "stderr",
     "output_type": "stream",
     "text": [
      "\n",
      "train: 100%|██████████| 73/73 [00:07<00:00,  9.17it/s]\n",
      "validation: 100%|██████████| 22/22 [00:00<00:00, 33.26it/s]"
     ]
    },
    {
     "name": "stdout",
     "output_type": "stream",
     "text": [
      "\u001B[32m2022-07-12 13:52:16\u001B[0m | \u001B[1mINFO    \u001B[0m | \u001B[1m\u001B[0m\n",
      "\u001B[32m2022-07-12 13:52:16\u001B[0m | \u001B[1mINFO    \u001B[0m | \u001B[1mFinished epoch 16/40:\u001B[0m\n",
      "\u001B[32m2022-07-12 13:52:16\u001B[0m | \u001B[1mINFO    \u001B[0m | \u001B[1mtrain:\u001B[0m\n",
      "\u001B[32m2022-07-12 13:52:16\u001B[0m | \u001B[1mINFO    \u001B[0m | \u001B[1mloss:           | avg: 454.9     | std: 2.821     | min: 450.6     | 25%: 452.7     | 50%: 454.2     | 75%: 456.5     | max: 463.9     \u001B[0m\n",
      "\u001B[32m2022-07-12 13:52:16\u001B[0m | \u001B[1mINFO    \u001B[0m | \u001B[1macc:            | avg: 0.9981    | std: 0.002634  | min: 0.9883    | 25%: 0.998     | 50%: 0.998     | 75%: 1.0       | max: 1.0       \u001B[0m\n",
      "\u001B[32m2022-07-12 13:52:16\u001B[0m | \u001B[1mINFO    \u001B[0m | \u001B[1mlr:             | avg: 0.001634  | std: nan       | min: 0.001634  | 25%: 0.001634  | 50%: 0.001634  | 75%: 0.001634  | max: 0.001634  \u001B[0m\n",
      "\u001B[32m2022-07-12 13:52:16\u001B[0m | \u001B[1mINFO    \u001B[0m | \u001B[1mvalidation:\u001B[0m\n",
      "\u001B[32m2022-07-12 13:52:16\u001B[0m | \u001B[1mINFO    \u001B[0m | \u001B[1mloss:           | avg: 518.9     | std: 10.71     | min: 497.7     | 25%: 511.1     | 50%: 521.0     | 75%: 525.9     | max: 537.2     \u001B[0m\n",
      "\u001B[32m2022-07-12 13:52:16\u001B[0m | \u001B[1mINFO    \u001B[0m | \u001B[1macc:            | avg: 0.932     | std: 0.01298   | min: 0.9082    | 25%: 0.9238    | 50%: 0.9316    | 75%: 0.9395    | max: 0.9609    \u001B[0m\n"
     ]
    },
    {
     "name": "stderr",
     "output_type": "stream",
     "text": [
      "\n",
      "train: 100%|██████████| 73/73 [00:08<00:00,  9.10it/s]\n",
      "validation: 100%|██████████| 22/22 [00:00<00:00, 33.43it/s]"
     ]
    },
    {
     "name": "stdout",
     "output_type": "stream",
     "text": [
      "\u001B[32m2022-07-12 13:52:27\u001B[0m | \u001B[1mINFO    \u001B[0m | \u001B[1m\u001B[0m\n",
      "\u001B[32m2022-07-12 13:52:27\u001B[0m | \u001B[1mINFO    \u001B[0m | \u001B[1mFinished epoch 17/40:\u001B[0m\n",
      "\u001B[32m2022-07-12 13:52:27\u001B[0m | \u001B[1mINFO    \u001B[0m | \u001B[1mtrain:\u001B[0m\n",
      "\u001B[32m2022-07-12 13:52:27\u001B[0m | \u001B[1mINFO    \u001B[0m | \u001B[1mloss:           | avg: 453.2     | std: 2.17      | min: 449.9     | 25%: 451.8     | 50%: 452.5     | 75%: 454.4     | max: 459.2     \u001B[0m\n",
      "\u001B[32m2022-07-12 13:52:27\u001B[0m | \u001B[1mINFO    \u001B[0m | \u001B[1macc:            | avg: 0.9988    | std: 0.001644  | min: 0.9941    | 25%: 0.998     | 50%: 1.0       | 75%: 1.0       | max: 1.0       \u001B[0m\n",
      "\u001B[32m2022-07-12 13:52:27\u001B[0m | \u001B[1mINFO    \u001B[0m | \u001B[1mlr:             | avg: 0.001593  | std: nan       | min: 0.001593  | 25%: 0.001593  | 50%: 0.001593  | 75%: 0.001593  | max: 0.001593  \u001B[0m\n",
      "\u001B[32m2022-07-12 13:52:27\u001B[0m | \u001B[1mINFO    \u001B[0m | \u001B[1mvalidation:\u001B[0m\n",
      "\u001B[32m2022-07-12 13:52:27\u001B[0m | \u001B[1mINFO    \u001B[0m | \u001B[1mloss:           | avg: 516.7     | std: 9.412     | min: 499.6     | 25%: 510.0     | 50%: 517.0     | 75%: 523.4     | max: 537.4     \u001B[0m\n",
      "\u001B[32m2022-07-12 13:52:27\u001B[0m | \u001B[1mINFO    \u001B[0m | \u001B[1macc:            | avg: 0.9321    | std: 0.01219   | min: 0.9062    | 25%: 0.9258    | 50%: 0.9316    | 75%: 0.939     | max: 0.9531    \u001B[0m\n"
     ]
    },
    {
     "name": "stderr",
     "output_type": "stream",
     "text": [
      "\n",
      "train: 100%|██████████| 73/73 [00:08<00:00,  9.10it/s]\n",
      "validation: 100%|██████████| 22/22 [00:00<00:00, 33.48it/s]"
     ]
    },
    {
     "name": "stdout",
     "output_type": "stream",
     "text": [
      "\u001B[32m2022-07-12 13:52:38\u001B[0m | \u001B[1mINFO    \u001B[0m | \u001B[1m\u001B[0m\n",
      "\u001B[32m2022-07-12 13:52:38\u001B[0m | \u001B[1mINFO    \u001B[0m | \u001B[1mFinished epoch 18/40:\u001B[0m\n",
      "\u001B[32m2022-07-12 13:52:38\u001B[0m | \u001B[1mINFO    \u001B[0m | \u001B[1mtrain:\u001B[0m\n",
      "\u001B[32m2022-07-12 13:52:38\u001B[0m | \u001B[1mINFO    \u001B[0m | \u001B[1mloss:           | avg: 451.8     | std: 1.83      | min: 449.1     | 25%: 450.7     | 50%: 451.5     | 75%: 452.5     | max: 459.4     \u001B[0m\n",
      "\u001B[32m2022-07-12 13:52:38\u001B[0m | \u001B[1mINFO    \u001B[0m | \u001B[1macc:            | avg: 0.9993    | std: 0.001317  | min: 0.9941    | 25%: 0.998     | 50%: 1.0       | 75%: 1.0       | max: 1.0       \u001B[0m\n",
      "\u001B[32m2022-07-12 13:52:38\u001B[0m | \u001B[1mINFO    \u001B[0m | \u001B[1mlr:             | avg: 0.001552  | std: nan       | min: 0.001552  | 25%: 0.001552  | 50%: 0.001552  | 75%: 0.001552  | max: 0.001552  \u001B[0m\n",
      "\u001B[32m2022-07-12 13:52:38\u001B[0m | \u001B[1mINFO    \u001B[0m | \u001B[1mvalidation:\u001B[0m\n",
      "\u001B[32m2022-07-12 13:52:38\u001B[0m | \u001B[1mINFO    \u001B[0m | \u001B[1mloss:           | avg: 518.0     | std: 9.313     | min: 500.7     | 25%: 512.0     | 50%: 518.7     | 75%: 524.4     | max: 535.6     \u001B[0m\n",
      "\u001B[32m2022-07-12 13:52:38\u001B[0m | \u001B[1mINFO    \u001B[0m | \u001B[1macc:            | avg: 0.9293    | std: 0.01015   | min: 0.9023    | 25%: 0.9238    | 50%: 0.9307    | 75%: 0.937     | max: 0.9434    \u001B[0m\n"
     ]
    },
    {
     "name": "stderr",
     "output_type": "stream",
     "text": [
      "\n",
      "train: 100%|██████████| 73/73 [00:07<00:00,  9.19it/s]\n",
      "validation: 100%|██████████| 22/22 [00:00<00:00, 33.75it/s]"
     ]
    },
    {
     "name": "stdout",
     "output_type": "stream",
     "text": [
      "\u001B[32m2022-07-12 13:52:49\u001B[0m | \u001B[1mINFO    \u001B[0m | \u001B[1m\u001B[0m\n",
      "\u001B[32m2022-07-12 13:52:49\u001B[0m | \u001B[1mINFO    \u001B[0m | \u001B[1mFinished epoch 19/40:\u001B[0m\n",
      "\u001B[32m2022-07-12 13:52:49\u001B[0m | \u001B[1mINFO    \u001B[0m | \u001B[1mtrain:\u001B[0m\n",
      "\u001B[32m2022-07-12 13:52:49\u001B[0m | \u001B[1mINFO    \u001B[0m | \u001B[1mloss:           | avg: 451.4     | std: 2.221     | min: 447.8     | 25%: 449.8     | 50%: 451.1     | 75%: 452.6     | max: 458.3     \u001B[0m\n",
      "\u001B[32m2022-07-12 13:52:49\u001B[0m | \u001B[1mINFO    \u001B[0m | \u001B[1macc:            | avg: 0.9991    | std: 0.001564  | min: 0.9922    | 25%: 0.998     | 50%: 1.0       | 75%: 1.0       | max: 1.0       \u001B[0m\n",
      "\u001B[32m2022-07-12 13:52:49\u001B[0m | \u001B[1mINFO    \u001B[0m | \u001B[1mlr:             | avg: 0.001512  | std: nan       | min: 0.001512  | 25%: 0.001512  | 50%: 0.001512  | 75%: 0.001512  | max: 0.001512  \u001B[0m\n",
      "\u001B[32m2022-07-12 13:52:49\u001B[0m | \u001B[1mINFO    \u001B[0m | \u001B[1mvalidation:\u001B[0m\n",
      "\u001B[32m2022-07-12 13:52:49\u001B[0m | \u001B[1mINFO    \u001B[0m | \u001B[1mloss:           | avg: 518.8     | std: 13.22     | min: 496.5     | 25%: 512.4     | 50%: 517.0     | 75%: 525.2     | max: 546.5     \u001B[0m\n",
      "\u001B[32m2022-07-12 13:52:49\u001B[0m | \u001B[1mINFO    \u001B[0m | \u001B[1macc:            | avg: 0.9274    | std: 0.0153    | min: 0.8984    | 25%: 0.9155    | 50%: 0.9277    | 75%: 0.939     | max: 0.9492    \u001B[0m\n"
     ]
    },
    {
     "name": "stderr",
     "output_type": "stream",
     "text": [
      "\n",
      "train: 100%|██████████| 73/73 [00:08<00:00,  9.12it/s]\n",
      "validation: 100%|██████████| 22/22 [00:00<00:00, 33.36it/s]"
     ]
    },
    {
     "name": "stdout",
     "output_type": "stream",
     "text": [
      "\u001B[32m2022-07-12 13:53:00\u001B[0m | \u001B[1mINFO    \u001B[0m | \u001B[1m\u001B[0m\n",
      "\u001B[32m2022-07-12 13:53:00\u001B[0m | \u001B[1mINFO    \u001B[0m | \u001B[1mFinished epoch 20/40:\u001B[0m\n",
      "\u001B[32m2022-07-12 13:53:00\u001B[0m | \u001B[1mINFO    \u001B[0m | \u001B[1mtrain:\u001B[0m\n",
      "\u001B[32m2022-07-12 13:53:00\u001B[0m | \u001B[1mINFO    \u001B[0m | \u001B[1mloss:           | avg: 450.0     | std: 1.569     | min: 447.5     | 25%: 448.9     | 50%: 449.6     | 75%: 450.7     | max: 454.8     \u001B[0m\n",
      "\u001B[32m2022-07-12 13:53:00\u001B[0m | \u001B[1mINFO    \u001B[0m | \u001B[1macc:            | avg: 0.9996    | std: 0.001042  | min: 0.9961    | 25%: 1.0       | 50%: 1.0       | 75%: 1.0       | max: 1.0       \u001B[0m\n",
      "\u001B[32m2022-07-12 13:53:00\u001B[0m | \u001B[1mINFO    \u001B[0m | \u001B[1mlr:             | avg: 0.001471  | std: nan       | min: 0.001471  | 25%: 0.001471  | 50%: 0.001471  | 75%: 0.001471  | max: 0.001471  \u001B[0m\n",
      "\u001B[32m2022-07-12 13:53:00\u001B[0m | \u001B[1mINFO    \u001B[0m | \u001B[1mvalidation:\u001B[0m\n",
      "\u001B[32m2022-07-12 13:53:00\u001B[0m | \u001B[1mINFO    \u001B[0m | \u001B[1mloss:           | avg: 514.2     | std: 10.87     | min: 490.2     | 25%: 505.5     | 50%: 517.0     | 75%: 521.0     | max: 530.5     \u001B[0m\n",
      "\u001B[32m2022-07-12 13:53:00\u001B[0m | \u001B[1mINFO    \u001B[0m | \u001B[1macc:            | avg: 0.933     | std: 0.01139   | min: 0.9121    | 25%: 0.9243    | 50%: 0.9326    | 75%: 0.9414    | max: 0.9551    \u001B[0m\n"
     ]
    },
    {
     "name": "stderr",
     "output_type": "stream",
     "text": [
      "\n",
      "train: 100%|██████████| 73/73 [00:08<00:00,  9.12it/s]\n",
      "validation: 100%|██████████| 22/22 [00:00<00:00, 31.72it/s]"
     ]
    },
    {
     "name": "stdout",
     "output_type": "stream",
     "text": [
      "\u001B[32m2022-07-12 13:53:11\u001B[0m | \u001B[1mINFO    \u001B[0m | \u001B[1m\u001B[0m\n",
      "\u001B[32m2022-07-12 13:53:11\u001B[0m | \u001B[1mINFO    \u001B[0m | \u001B[1mFinished epoch 21/40:\u001B[0m\n",
      "\u001B[32m2022-07-12 13:53:11\u001B[0m | \u001B[1mINFO    \u001B[0m | \u001B[1mtrain:\u001B[0m\n",
      "\u001B[32m2022-07-12 13:53:11\u001B[0m | \u001B[1mINFO    \u001B[0m | \u001B[1mloss:           | avg: 449.6     | std: 1.324     | min: 447.8     | 25%: 448.6     | 50%: 449.3     | 75%: 450.3     | max: 454.8     \u001B[0m\n",
      "\u001B[32m2022-07-12 13:53:11\u001B[0m | \u001B[1mINFO    \u001B[0m | \u001B[1macc:            | avg: 0.9997    | std: 0.0008198 | min: 0.9961    | 25%: 1.0       | 50%: 1.0       | 75%: 1.0       | max: 1.0       \u001B[0m\n",
      "\u001B[32m2022-07-12 13:53:11\u001B[0m | \u001B[1mINFO    \u001B[0m | \u001B[1mlr:             | avg: 0.00143   | std: nan       | min: 0.00143   | 25%: 0.00143   | 50%: 0.00143   | 75%: 0.00143   | max: 0.00143   \u001B[0m\n",
      "\u001B[32m2022-07-12 13:53:11\u001B[0m | \u001B[1mINFO    \u001B[0m | \u001B[1mvalidation:\u001B[0m\n",
      "\u001B[32m2022-07-12 13:53:11\u001B[0m | \u001B[1mINFO    \u001B[0m | \u001B[1mloss:           | avg: 513.5     | std: 9.918     | min: 499.6     | 25%: 507.8     | 50%: 511.5     | 75%: 515.7     | max: 539.1     \u001B[0m\n",
      "\u001B[32m2022-07-12 13:53:11\u001B[0m | \u001B[1mINFO    \u001B[0m | \u001B[1macc:            | avg: 0.9326    | std: 0.01116   | min: 0.9043    | 25%: 0.9282    | 50%: 0.9355    | 75%: 0.9409    | max: 0.9512    \u001B[0m\n"
     ]
    },
    {
     "name": "stderr",
     "output_type": "stream",
     "text": [
      "\n",
      "train: 100%|██████████| 73/73 [00:08<00:00,  9.01it/s]\n",
      "validation: 100%|██████████| 22/22 [00:00<00:00, 32.08it/s]"
     ]
    },
    {
     "name": "stdout",
     "output_type": "stream",
     "text": [
      "\u001B[32m2022-07-12 13:53:23\u001B[0m | \u001B[1mINFO    \u001B[0m | \u001B[1m\u001B[0m\n",
      "\u001B[32m2022-07-12 13:53:23\u001B[0m | \u001B[1mINFO    \u001B[0m | \u001B[1mFinished epoch 22/40:\u001B[0m\n",
      "\u001B[32m2022-07-12 13:53:23\u001B[0m | \u001B[1mINFO    \u001B[0m | \u001B[1mtrain:\u001B[0m\n",
      "\u001B[32m2022-07-12 13:53:23\u001B[0m | \u001B[1mINFO    \u001B[0m | \u001B[1mloss:           | avg: 448.7     | std: 1.035     | min: 447.0     | 25%: 448.0     | 50%: 448.7     | 75%: 449.3     | max: 451.9     \u001B[0m\n",
      "\u001B[32m2022-07-12 13:53:23\u001B[0m | \u001B[1mINFO    \u001B[0m | \u001B[1macc:            | avg: 0.9998    | std: 0.0005402 | min: 0.998     | 25%: 1.0       | 50%: 1.0       | 75%: 1.0       | max: 1.0       \u001B[0m\n",
      "\u001B[32m2022-07-12 13:53:23\u001B[0m | \u001B[1mINFO    \u001B[0m | \u001B[1mlr:             | avg: 0.00139   | std: nan       | min: 0.00139   | 25%: 0.00139   | 50%: 0.00139   | 75%: 0.00139   | max: 0.00139   \u001B[0m\n",
      "\u001B[32m2022-07-12 13:53:23\u001B[0m | \u001B[1mINFO    \u001B[0m | \u001B[1mvalidation:\u001B[0m\n",
      "\u001B[32m2022-07-12 13:53:23\u001B[0m | \u001B[1mINFO    \u001B[0m | \u001B[1mloss:           | avg: 511.8     | std: 5.446     | min: 504.4     | 25%: 506.4     | 50%: 512.5     | 75%: 516.1     | max: 522.0     \u001B[0m\n",
      "\u001B[32m2022-07-12 13:53:23\u001B[0m | \u001B[1mINFO    \u001B[0m | \u001B[1macc:            | avg: 0.9355    | std: 0.008319  | min: 0.9199    | 25%: 0.9316    | 50%: 0.9355    | 75%: 0.9409    | max: 0.9512    \u001B[0m\n"
     ]
    },
    {
     "name": "stderr",
     "output_type": "stream",
     "text": [
      "\n",
      "train: 100%|██████████| 73/73 [00:08<00:00,  9.10it/s]\n",
      "validation: 100%|██████████| 22/22 [00:00<00:00, 32.06it/s]"
     ]
    },
    {
     "name": "stdout",
     "output_type": "stream",
     "text": [
      "\u001B[32m2022-07-12 13:53:34\u001B[0m | \u001B[1mINFO    \u001B[0m | \u001B[1m\u001B[0m\n",
      "\u001B[32m2022-07-12 13:53:34\u001B[0m | \u001B[1mINFO    \u001B[0m | \u001B[1mFinished epoch 23/40:\u001B[0m\n",
      "\u001B[32m2022-07-12 13:53:34\u001B[0m | \u001B[1mINFO    \u001B[0m | \u001B[1mtrain:\u001B[0m\n",
      "\u001B[32m2022-07-12 13:53:34\u001B[0m | \u001B[1mINFO    \u001B[0m | \u001B[1mloss:           | avg: 448.4     | std: 1.186     | min: 446.7     | 25%: 447.5     | 50%: 448.0     | 75%: 449.1     | max: 452.5     \u001B[0m\n",
      "\u001B[32m2022-07-12 13:53:34\u001B[0m | \u001B[1mINFO    \u001B[0m | \u001B[1macc:            | avg: 0.9998    | std: 0.0005402 | min: 0.998     | 25%: 1.0       | 50%: 1.0       | 75%: 1.0       | max: 1.0       \u001B[0m\n",
      "\u001B[32m2022-07-12 13:53:34\u001B[0m | \u001B[1mINFO    \u001B[0m | \u001B[1mlr:             | avg: 0.001349  | std: nan       | min: 0.001349  | 25%: 0.001349  | 50%: 0.001349  | 75%: 0.001349  | max: 0.001349  \u001B[0m\n",
      "\u001B[32m2022-07-12 13:53:34\u001B[0m | \u001B[1mINFO    \u001B[0m | \u001B[1mvalidation:\u001B[0m\n",
      "\u001B[32m2022-07-12 13:53:34\u001B[0m | \u001B[1mINFO    \u001B[0m | \u001B[1mloss:           | avg: 514.6     | std: 9.587     | min: 497.2     | 25%: 507.1     | 50%: 517.4     | 75%: 520.6     | max: 534.2     \u001B[0m\n",
      "\u001B[32m2022-07-12 13:53:34\u001B[0m | \u001B[1mINFO    \u001B[0m | \u001B[1macc:            | avg: 0.9353    | std: 0.009873  | min: 0.9219    | 25%: 0.9282    | 50%: 0.9316    | 75%: 0.9429    | max: 0.9531    \u001B[0m\n"
     ]
    },
    {
     "name": "stderr",
     "output_type": "stream",
     "text": [
      "\n",
      "train: 100%|██████████| 73/73 [00:08<00:00,  9.02it/s]\n",
      "validation: 100%|██████████| 22/22 [00:00<00:00, 33.46it/s]"
     ]
    },
    {
     "name": "stdout",
     "output_type": "stream",
     "text": [
      "\u001B[32m2022-07-12 13:53:45\u001B[0m | \u001B[1mINFO    \u001B[0m | \u001B[1m\u001B[0m\n",
      "\u001B[32m2022-07-12 13:53:45\u001B[0m | \u001B[1mINFO    \u001B[0m | \u001B[1mFinished epoch 24/40:\u001B[0m\n",
      "\u001B[32m2022-07-12 13:53:45\u001B[0m | \u001B[1mINFO    \u001B[0m | \u001B[1mtrain:\u001B[0m\n",
      "\u001B[32m2022-07-12 13:53:45\u001B[0m | \u001B[1mINFO    \u001B[0m | \u001B[1mloss:           | avg: 447.7     | std: 1.029     | min: 446.3     | 25%: 447.1     | 50%: 447.5     | 75%: 448.2     | max: 450.6     \u001B[0m\n",
      "\u001B[32m2022-07-12 13:53:45\u001B[0m | \u001B[1mINFO    \u001B[0m | \u001B[1macc:            | avg: 0.9998    | std: 0.0006143 | min: 0.998     | 25%: 1.0       | 50%: 1.0       | 75%: 1.0       | max: 1.0       \u001B[0m\n",
      "\u001B[32m2022-07-12 13:53:45\u001B[0m | \u001B[1mINFO    \u001B[0m | \u001B[1mlr:             | avg: 0.001308  | std: nan       | min: 0.001308  | 25%: 0.001308  | 50%: 0.001308  | 75%: 0.001308  | max: 0.001308  \u001B[0m\n",
      "\u001B[32m2022-07-12 13:53:45\u001B[0m | \u001B[1mINFO    \u001B[0m | \u001B[1mvalidation:\u001B[0m\n",
      "\u001B[32m2022-07-12 13:53:45\u001B[0m | \u001B[1mINFO    \u001B[0m | \u001B[1mloss:           | avg: 511.5     | std: 6.145     | min: 501.3     | 25%: 508.7     | 50%: 511.3     | 75%: 513.7     | max: 526.4     \u001B[0m\n",
      "\u001B[32m2022-07-12 13:53:45\u001B[0m | \u001B[1mINFO    \u001B[0m | \u001B[1macc:            | avg: 0.9356    | std: 0.01      | min: 0.9199    | 25%: 0.9268    | 50%: 0.9375    | 75%: 0.9429    | max: 0.9512    \u001B[0m\n"
     ]
    },
    {
     "name": "stderr",
     "output_type": "stream",
     "text": [
      "\n",
      "train: 100%|██████████| 73/73 [00:07<00:00,  9.17it/s]\n",
      "validation: 100%|██████████| 22/22 [00:00<00:00, 33.76it/s]"
     ]
    },
    {
     "name": "stdout",
     "output_type": "stream",
     "text": [
      "\u001B[32m2022-07-12 13:53:56\u001B[0m | \u001B[1mINFO    \u001B[0m | \u001B[1m\u001B[0m\n",
      "\u001B[32m2022-07-12 13:53:56\u001B[0m | \u001B[1mINFO    \u001B[0m | \u001B[1mFinished epoch 25/40:\u001B[0m\n",
      "\u001B[32m2022-07-12 13:53:56\u001B[0m | \u001B[1mINFO    \u001B[0m | \u001B[1mtrain:\u001B[0m\n",
      "\u001B[32m2022-07-12 13:53:56\u001B[0m | \u001B[1mINFO    \u001B[0m | \u001B[1mloss:           | avg: 447.8     | std: 1.239     | min: 446.1     | 25%: 446.9     | 50%: 447.5     | 75%: 448.5     | max: 452.7     \u001B[0m\n",
      "\u001B[32m2022-07-12 13:53:56\u001B[0m | \u001B[1mINFO    \u001B[0m | \u001B[1macc:            | avg: 0.9998    | std: 0.0008951 | min: 0.9941    | 25%: 1.0       | 50%: 1.0       | 75%: 1.0       | max: 1.0       \u001B[0m\n",
      "\u001B[32m2022-07-12 13:53:56\u001B[0m | \u001B[1mINFO    \u001B[0m | \u001B[1mlr:             | avg: 0.001267  | std: nan       | min: 0.001267  | 25%: 0.001267  | 50%: 0.001267  | 75%: 0.001267  | max: 0.001267  \u001B[0m\n",
      "\u001B[32m2022-07-12 13:53:56\u001B[0m | \u001B[1mINFO    \u001B[0m | \u001B[1mvalidation:\u001B[0m\n",
      "\u001B[32m2022-07-12 13:53:56\u001B[0m | \u001B[1mINFO    \u001B[0m | \u001B[1mloss:           | avg: 513.0     | std: 8.768     | min: 492.3     | 25%: 507.3     | 50%: 512.2     | 75%: 518.8     | max: 530.3     \u001B[0m\n",
      "\u001B[32m2022-07-12 13:53:56\u001B[0m | \u001B[1mINFO    \u001B[0m | \u001B[1macc:            | avg: 0.9325    | std: 0.01086   | min: 0.9082    | 25%: 0.9277    | 50%: 0.9326    | 75%: 0.939     | max: 0.9512    \u001B[0m\n"
     ]
    },
    {
     "name": "stderr",
     "output_type": "stream",
     "text": [
      "\n",
      "train: 100%|██████████| 73/73 [00:08<00:00,  8.91it/s]\n",
      "validation: 100%|██████████| 22/22 [00:00<00:00, 33.43it/s]"
     ]
    },
    {
     "name": "stdout",
     "output_type": "stream",
     "text": [
      "\u001B[32m2022-07-12 13:54:07\u001B[0m | \u001B[1mINFO    \u001B[0m | \u001B[1m\u001B[0m\n",
      "\u001B[32m2022-07-12 13:54:07\u001B[0m | \u001B[1mINFO    \u001B[0m | \u001B[1mFinished epoch 26/40:\u001B[0m\n",
      "\u001B[32m2022-07-12 13:54:07\u001B[0m | \u001B[1mINFO    \u001B[0m | \u001B[1mtrain:\u001B[0m\n",
      "\u001B[32m2022-07-12 13:54:07\u001B[0m | \u001B[1mINFO    \u001B[0m | \u001B[1mloss:           | avg: 447.4     | std: 0.8924    | min: 446.0     | 25%: 446.7     | 50%: 447.1     | 75%: 447.8     | max: 449.5     \u001B[0m\n",
      "\u001B[32m2022-07-12 13:54:07\u001B[0m | \u001B[1mINFO    \u001B[0m | \u001B[1macc:            | avg: 0.9999    | std: 0.0003904 | min: 0.998     | 25%: 1.0       | 50%: 1.0       | 75%: 1.0       | max: 1.0       \u001B[0m\n",
      "\u001B[32m2022-07-12 13:54:07\u001B[0m | \u001B[1mINFO    \u001B[0m | \u001B[1mlr:             | avg: 0.001227  | std: nan       | min: 0.001227  | 25%: 0.001227  | 50%: 0.001227  | 75%: 0.001227  | max: 0.001227  \u001B[0m\n",
      "\u001B[32m2022-07-12 13:54:07\u001B[0m | \u001B[1mINFO    \u001B[0m | \u001B[1mvalidation:\u001B[0m\n",
      "\u001B[32m2022-07-12 13:54:07\u001B[0m | \u001B[1mINFO    \u001B[0m | \u001B[1mloss:           | avg: 510.9     | std: 10.55     | min: 492.3     | 25%: 504.2     | 50%: 509.3     | 75%: 520.8     | max: 530.6     \u001B[0m\n",
      "\u001B[32m2022-07-12 13:54:07\u001B[0m | \u001B[1mINFO    \u001B[0m | \u001B[1macc:            | avg: 0.9353    | std: 0.01169   | min: 0.916     | 25%: 0.9263    | 50%: 0.9355    | 75%: 0.9453    | max: 0.9551    \u001B[0m\n"
     ]
    },
    {
     "name": "stderr",
     "output_type": "stream",
     "text": [
      "\n",
      "train: 100%|██████████| 73/73 [00:08<00:00,  9.12it/s]\n",
      "validation: 100%|██████████| 22/22 [00:00<00:00, 32.99it/s]"
     ]
    },
    {
     "name": "stdout",
     "output_type": "stream",
     "text": [
      "\u001B[32m2022-07-12 13:54:18\u001B[0m | \u001B[1mINFO    \u001B[0m | \u001B[1m\u001B[0m\n",
      "\u001B[32m2022-07-12 13:54:18\u001B[0m | \u001B[1mINFO    \u001B[0m | \u001B[1mFinished epoch 27/40:\u001B[0m\n",
      "\u001B[32m2022-07-12 13:54:18\u001B[0m | \u001B[1mINFO    \u001B[0m | \u001B[1mtrain:\u001B[0m\n",
      "\u001B[32m2022-07-12 13:54:18\u001B[0m | \u001B[1mINFO    \u001B[0m | \u001B[1mloss:           | avg: 446.9     | std: 0.7366    | min: 445.7     | 25%: 446.4     | 50%: 446.7     | 75%: 447.3     | max: 448.7     \u001B[0m\n",
      "\u001B[32m2022-07-12 13:54:18\u001B[0m | \u001B[1mINFO    \u001B[0m | \u001B[1macc:            | avg: 0.9999    | std: 0.0004476 | min: 0.998     | 25%: 1.0       | 50%: 1.0       | 75%: 1.0       | max: 1.0       \u001B[0m\n",
      "\u001B[32m2022-07-12 13:54:18\u001B[0m | \u001B[1mINFO    \u001B[0m | \u001B[1mlr:             | avg: 0.001186  | std: nan       | min: 0.001186  | 25%: 0.001186  | 50%: 0.001186  | 75%: 0.001186  | max: 0.001186  \u001B[0m\n",
      "\u001B[32m2022-07-12 13:54:18\u001B[0m | \u001B[1mINFO    \u001B[0m | \u001B[1mvalidation:\u001B[0m\n",
      "\u001B[32m2022-07-12 13:54:18\u001B[0m | \u001B[1mINFO    \u001B[0m | \u001B[1mloss:           | avg: 511.0     | std: 7.046     | min: 498.5     | 25%: 505.3     | 50%: 510.3     | 75%: 517.5     | max: 522.4     \u001B[0m\n",
      "\u001B[32m2022-07-12 13:54:18\u001B[0m | \u001B[1mINFO    \u001B[0m | \u001B[1macc:            | avg: 0.9365    | std: 0.01038   | min: 0.9219    | 25%: 0.9282    | 50%: 0.9346    | 75%: 0.9424    | max: 0.959     \u001B[0m\n"
     ]
    },
    {
     "name": "stderr",
     "output_type": "stream",
     "text": [
      "\n",
      "train: 100%|██████████| 73/73 [00:07<00:00,  9.26it/s]\n",
      "validation: 100%|██████████| 22/22 [00:00<00:00, 33.75it/s]"
     ]
    },
    {
     "name": "stdout",
     "output_type": "stream",
     "text": [
      "\u001B[32m2022-07-12 13:54:29\u001B[0m | \u001B[1mINFO    \u001B[0m | \u001B[1m\u001B[0m\n",
      "\u001B[32m2022-07-12 13:54:29\u001B[0m | \u001B[1mINFO    \u001B[0m | \u001B[1mFinished epoch 28/40:\u001B[0m\n",
      "\u001B[32m2022-07-12 13:54:29\u001B[0m | \u001B[1mINFO    \u001B[0m | \u001B[1mtrain:\u001B[0m\n",
      "\u001B[32m2022-07-12 13:54:29\u001B[0m | \u001B[1mINFO    \u001B[0m | \u001B[1mloss:           | avg: 447.0     | std: 1.027     | min: 445.7     | 25%: 446.3     | 50%: 446.7     | 75%: 447.5     | max: 450.6     \u001B[0m\n",
      "\u001B[32m2022-07-12 13:54:29\u001B[0m | \u001B[1mINFO    \u001B[0m | \u001B[1macc:            | avg: 0.9999    | std: 0.0004968 | min: 0.998     | 25%: 1.0       | 50%: 1.0       | 75%: 1.0       | max: 1.0       \u001B[0m\n",
      "\u001B[32m2022-07-12 13:54:29\u001B[0m | \u001B[1mINFO    \u001B[0m | \u001B[1mlr:             | avg: 0.001145  | std: nan       | min: 0.001145  | 25%: 0.001145  | 50%: 0.001145  | 75%: 0.001145  | max: 0.001145  \u001B[0m\n",
      "\u001B[32m2022-07-12 13:54:29\u001B[0m | \u001B[1mINFO    \u001B[0m | \u001B[1mvalidation:\u001B[0m\n",
      "\u001B[32m2022-07-12 13:54:29\u001B[0m | \u001B[1mINFO    \u001B[0m | \u001B[1mloss:           | avg: 509.9     | std: 6.792     | min: 495.3     | 25%: 505.9     | 50%: 510.0     | 75%: 514.3     | max: 520.5     \u001B[0m\n",
      "\u001B[32m2022-07-12 13:54:29\u001B[0m | \u001B[1mINFO    \u001B[0m | \u001B[1macc:            | avg: 0.9369    | std: 0.007868  | min: 0.9258    | 25%: 0.9316    | 50%: 0.9355    | 75%: 0.9414    | max: 0.9551    \u001B[0m\n"
     ]
    },
    {
     "name": "stderr",
     "output_type": "stream",
     "text": [
      "\n",
      "train: 100%|██████████| 73/73 [00:07<00:00,  9.13it/s]\n",
      "validation: 100%|██████████| 22/22 [00:00<00:00, 34.19it/s]"
     ]
    },
    {
     "name": "stdout",
     "output_type": "stream",
     "text": [
      "\u001B[32m2022-07-12 13:54:40\u001B[0m | \u001B[1mINFO    \u001B[0m | \u001B[1m\u001B[0m\n",
      "\u001B[32m2022-07-12 13:54:40\u001B[0m | \u001B[1mINFO    \u001B[0m | \u001B[1mFinished epoch 29/40:\u001B[0m\n",
      "\u001B[32m2022-07-12 13:54:40\u001B[0m | \u001B[1mINFO    \u001B[0m | \u001B[1mtrain:\u001B[0m\n",
      "\u001B[32m2022-07-12 13:54:40\u001B[0m | \u001B[1mINFO    \u001B[0m | \u001B[1mloss:           | avg: 446.6     | std: 0.6326    | min: 445.7     | 25%: 446.2     | 50%: 446.4     | 75%: 447.0     | max: 449.0     \u001B[0m\n",
      "\u001B[32m2022-07-12 13:54:40\u001B[0m | \u001B[1mINFO    \u001B[0m | \u001B[1macc:            | avg: 1.0       | std: 0.0002286 | min: 0.998     | 25%: 1.0       | 50%: 1.0       | 75%: 1.0       | max: 1.0       \u001B[0m\n",
      "\u001B[32m2022-07-12 13:54:40\u001B[0m | \u001B[1mINFO    \u001B[0m | \u001B[1mlr:             | avg: 0.001104  | std: nan       | min: 0.001104  | 25%: 0.001104  | 50%: 0.001104  | 75%: 0.001104  | max: 0.001104  \u001B[0m\n",
      "\u001B[32m2022-07-12 13:54:40\u001B[0m | \u001B[1mINFO    \u001B[0m | \u001B[1mvalidation:\u001B[0m\n",
      "\u001B[32m2022-07-12 13:54:40\u001B[0m | \u001B[1mINFO    \u001B[0m | \u001B[1mloss:           | avg: 510.5     | std: 7.227     | min: 492.4     | 25%: 506.4     | 50%: 511.4     | 75%: 514.7     | max: 523.7     \u001B[0m\n",
      "\u001B[32m2022-07-12 13:54:40\u001B[0m | \u001B[1mINFO    \u001B[0m | \u001B[1macc:            | avg: 0.936     | std: 0.008692  | min: 0.916     | 25%: 0.9336    | 50%: 0.9375    | 75%: 0.9395    | max: 0.9492    \u001B[0m\n"
     ]
    },
    {
     "name": "stderr",
     "output_type": "stream",
     "text": [
      "\n",
      "train: 100%|██████████| 73/73 [00:08<00:00,  9.05it/s]\n",
      "validation: 100%|██████████| 22/22 [00:00<00:00, 33.01it/s]"
     ]
    },
    {
     "name": "stdout",
     "output_type": "stream",
     "text": [
      "\u001B[32m2022-07-12 13:54:51\u001B[0m | \u001B[1mINFO    \u001B[0m | \u001B[1m\u001B[0m\n",
      "\u001B[32m2022-07-12 13:54:51\u001B[0m | \u001B[1mINFO    \u001B[0m | \u001B[1mFinished epoch 30/40:\u001B[0m\n",
      "\u001B[32m2022-07-12 13:54:51\u001B[0m | \u001B[1mINFO    \u001B[0m | \u001B[1mtrain:\u001B[0m\n",
      "\u001B[32m2022-07-12 13:54:51\u001B[0m | \u001B[1mINFO    \u001B[0m | \u001B[1mloss:           | avg: 446.5     | std: 0.5654    | min: 445.6     | 25%: 446.1     | 50%: 446.4     | 75%: 446.7     | max: 448.4     \u001B[0m\n",
      "\u001B[32m2022-07-12 13:54:51\u001B[0m | \u001B[1mINFO    \u001B[0m | \u001B[1macc:            | avg: 1.0       | std: 0.0       | min: 1.0       | 25%: 1.0       | 50%: 1.0       | 75%: 1.0       | max: 1.0       \u001B[0m\n",
      "\u001B[32m2022-07-12 13:54:51\u001B[0m | \u001B[1mINFO    \u001B[0m | \u001B[1mlr:             | avg: 0.001064  | std: nan       | min: 0.001064  | 25%: 0.001064  | 50%: 0.001064  | 75%: 0.001064  | max: 0.001064  \u001B[0m\n",
      "\u001B[32m2022-07-12 13:54:51\u001B[0m | \u001B[1mINFO    \u001B[0m | \u001B[1mvalidation:\u001B[0m\n",
      "\u001B[32m2022-07-12 13:54:51\u001B[0m | \u001B[1mINFO    \u001B[0m | \u001B[1mloss:           | avg: 510.6     | std: 8.472     | min: 492.3     | 25%: 504.3     | 50%: 508.6     | 75%: 518.3     | max: 523.9     \u001B[0m\n",
      "\u001B[32m2022-07-12 13:54:51\u001B[0m | \u001B[1mINFO    \u001B[0m | \u001B[1macc:            | avg: 0.935     | std: 0.01167   | min: 0.9121    | 25%: 0.9287    | 50%: 0.9346    | 75%: 0.9414    | max: 0.9629    \u001B[0m\n"
     ]
    },
    {
     "name": "stderr",
     "output_type": "stream",
     "text": [
      "\n",
      "train: 100%|██████████| 73/73 [00:07<00:00,  9.15it/s]\n",
      "validation: 100%|██████████| 22/22 [00:00<00:00, 32.05it/s]"
     ]
    },
    {
     "name": "stdout",
     "output_type": "stream",
     "text": [
      "\u001B[32m2022-07-12 13:55:03\u001B[0m | \u001B[1mINFO    \u001B[0m | \u001B[1m\u001B[0m\n",
      "\u001B[32m2022-07-12 13:55:03\u001B[0m | \u001B[1mINFO    \u001B[0m | \u001B[1mFinished epoch 31/40:\u001B[0m\n",
      "\u001B[32m2022-07-12 13:55:03\u001B[0m | \u001B[1mINFO    \u001B[0m | \u001B[1mtrain:\u001B[0m\n",
      "\u001B[32m2022-07-12 13:55:03\u001B[0m | \u001B[1mINFO    \u001B[0m | \u001B[1mloss:           | avg: 446.5     | std: 0.7289    | min: 445.4     | 25%: 446.0     | 50%: 446.2     | 75%: 446.9     | max: 448.6     \u001B[0m\n",
      "\u001B[32m2022-07-12 13:55:03\u001B[0m | \u001B[1mINFO    \u001B[0m | \u001B[1macc:            | avg: 0.9999    | std: 0.000321  | min: 0.998     | 25%: 1.0       | 50%: 1.0       | 75%: 1.0       | max: 1.0       \u001B[0m\n",
      "\u001B[32m2022-07-12 13:55:03\u001B[0m | \u001B[1mINFO    \u001B[0m | \u001B[1mlr:             | avg: 0.001023  | std: nan       | min: 0.001023  | 25%: 0.001023  | 50%: 0.001023  | 75%: 0.001023  | max: 0.001023  \u001B[0m\n",
      "\u001B[32m2022-07-12 13:55:03\u001B[0m | \u001B[1mINFO    \u001B[0m | \u001B[1mvalidation:\u001B[0m\n",
      "\u001B[32m2022-07-12 13:55:03\u001B[0m | \u001B[1mINFO    \u001B[0m | \u001B[1mloss:           | avg: 511.2     | std: 5.655     | min: 495.9     | 25%: 508.9     | 50%: 511.6     | 75%: 515.1     | max: 518.7     \u001B[0m\n",
      "\u001B[32m2022-07-12 13:55:03\u001B[0m | \u001B[1mINFO    \u001B[0m | \u001B[1macc:            | avg: 0.936     | std: 0.009258  | min: 0.9238    | 25%: 0.9287    | 50%: 0.9346    | 75%: 0.9438    | max: 0.957     \u001B[0m\n"
     ]
    },
    {
     "name": "stderr",
     "output_type": "stream",
     "text": [
      "\n",
      "train: 100%|██████████| 73/73 [00:08<00:00,  9.09it/s]\n",
      "validation: 100%|██████████| 22/22 [00:00<00:00, 33.38it/s]"
     ]
    },
    {
     "name": "stdout",
     "output_type": "stream",
     "text": [
      "\u001B[32m2022-07-12 13:55:14\u001B[0m | \u001B[1mINFO    \u001B[0m | \u001B[1m\u001B[0m\n",
      "\u001B[32m2022-07-12 13:55:14\u001B[0m | \u001B[1mINFO    \u001B[0m | \u001B[1mFinished epoch 32/40:\u001B[0m\n",
      "\u001B[32m2022-07-12 13:55:14\u001B[0m | \u001B[1mINFO    \u001B[0m | \u001B[1mtrain:\u001B[0m\n",
      "\u001B[32m2022-07-12 13:55:14\u001B[0m | \u001B[1mINFO    \u001B[0m | \u001B[1mloss:           | avg: 446.1     | std: 0.57      | min: 445.4     | 25%: 445.7     | 50%: 446.0     | 75%: 446.4     | max: 448.0     \u001B[0m\n",
      "\u001B[32m2022-07-12 13:55:14\u001B[0m | \u001B[1mINFO    \u001B[0m | \u001B[1macc:            | avg: 1.0       | std: 0.0002286 | min: 0.998     | 25%: 1.0       | 50%: 1.0       | 75%: 1.0       | max: 1.0       \u001B[0m\n",
      "\u001B[32m2022-07-12 13:55:14\u001B[0m | \u001B[1mINFO    \u001B[0m | \u001B[1mlr:             | avg: 0.0009821 | std: nan       | min: 0.0009821 | 25%: 0.0009821 | 50%: 0.0009821 | 75%: 0.0009821 | max: 0.0009821 \u001B[0m\n",
      "\u001B[32m2022-07-12 13:55:14\u001B[0m | \u001B[1mINFO    \u001B[0m | \u001B[1mvalidation:\u001B[0m\n",
      "\u001B[32m2022-07-12 13:55:14\u001B[0m | \u001B[1mINFO    \u001B[0m | \u001B[1mloss:           | avg: 512.2     | std: 7.707     | min: 497.1     | 25%: 507.6     | 50%: 512.3     | 75%: 517.3     | max: 530.7     \u001B[0m\n",
      "\u001B[32m2022-07-12 13:55:14\u001B[0m | \u001B[1mINFO    \u001B[0m | \u001B[1macc:            | avg: 0.9345    | std: 0.01006   | min: 0.9121    | 25%: 0.9297    | 50%: 0.9316    | 75%: 0.939     | max: 0.9531    \u001B[0m\n"
     ]
    },
    {
     "name": "stderr",
     "output_type": "stream",
     "text": [
      "\n",
      "train: 100%|██████████| 73/73 [00:07<00:00,  9.14it/s]\n",
      "validation: 100%|██████████| 22/22 [00:00<00:00, 33.50it/s]"
     ]
    },
    {
     "name": "stdout",
     "output_type": "stream",
     "text": [
      "\u001B[32m2022-07-12 13:55:25\u001B[0m | \u001B[1mINFO    \u001B[0m | \u001B[1m\u001B[0m\n",
      "\u001B[32m2022-07-12 13:55:25\u001B[0m | \u001B[1mINFO    \u001B[0m | \u001B[1mFinished epoch 33/40:\u001B[0m\n",
      "\u001B[32m2022-07-12 13:55:25\u001B[0m | \u001B[1mINFO    \u001B[0m | \u001B[1mtrain:\u001B[0m\n",
      "\u001B[32m2022-07-12 13:55:25\u001B[0m | \u001B[1mINFO    \u001B[0m | \u001B[1mloss:           | avg: 446.2     | std: 0.5492    | min: 445.3     | 25%: 445.9     | 50%: 446.1     | 75%: 446.6     | max: 448.0     \u001B[0m\n",
      "\u001B[32m2022-07-12 13:55:25\u001B[0m | \u001B[1mINFO    \u001B[0m | \u001B[1macc:            | avg: 1.0       | std: 0.0002286 | min: 0.998     | 25%: 1.0       | 50%: 1.0       | 75%: 1.0       | max: 1.0       \u001B[0m\n",
      "\u001B[32m2022-07-12 13:55:25\u001B[0m | \u001B[1mINFO    \u001B[0m | \u001B[1mlr:             | avg: 0.0009414 | std: nan       | min: 0.0009414 | 25%: 0.0009414 | 50%: 0.0009414 | 75%: 0.0009414 | max: 0.0009414 \u001B[0m\n",
      "\u001B[32m2022-07-12 13:55:25\u001B[0m | \u001B[1mINFO    \u001B[0m | \u001B[1mvalidation:\u001B[0m\n",
      "\u001B[32m2022-07-12 13:55:25\u001B[0m | \u001B[1mINFO    \u001B[0m | \u001B[1mloss:           | avg: 509.2     | std: 8.852     | min: 495.7     | 25%: 502.1     | 50%: 509.1     | 75%: 515.0     | max: 530.6     \u001B[0m\n",
      "\u001B[32m2022-07-12 13:55:25\u001B[0m | \u001B[1mINFO    \u001B[0m | \u001B[1macc:            | avg: 0.9378    | std: 0.009743  | min: 0.916     | 25%: 0.9321    | 50%: 0.9375    | 75%: 0.9414    | max: 0.9551    \u001B[0m\n"
     ]
    },
    {
     "name": "stderr",
     "output_type": "stream",
     "text": [
      "\n",
      "train: 100%|██████████| 73/73 [00:09<00:00,  7.81it/s]\n",
      "validation: 100%|██████████| 22/22 [00:00<00:00, 32.87it/s]"
     ]
    },
    {
     "name": "stdout",
     "output_type": "stream",
     "text": [
      "\u001B[32m2022-07-12 13:55:37\u001B[0m | \u001B[1mINFO    \u001B[0m | \u001B[1m\u001B[0m\n",
      "\u001B[32m2022-07-12 13:55:37\u001B[0m | \u001B[1mINFO    \u001B[0m | \u001B[1mFinished epoch 34/40:\u001B[0m\n",
      "\u001B[32m2022-07-12 13:55:37\u001B[0m | \u001B[1mINFO    \u001B[0m | \u001B[1mtrain:\u001B[0m\n",
      "\u001B[32m2022-07-12 13:55:37\u001B[0m | \u001B[1mINFO    \u001B[0m | \u001B[1mloss:           | avg: 446.0     | std: 0.6487    | min: 445.0     | 25%: 445.6     | 50%: 445.9     | 75%: 446.2     | max: 448.7     \u001B[0m\n",
      "\u001B[32m2022-07-12 13:55:37\u001B[0m | \u001B[1mINFO    \u001B[0m | \u001B[1macc:            | avg: 1.0       | std: 0.0       | min: 1.0       | 25%: 1.0       | 50%: 1.0       | 75%: 1.0       | max: 1.0       \u001B[0m\n",
      "\u001B[32m2022-07-12 13:55:37\u001B[0m | \u001B[1mINFO    \u001B[0m | \u001B[1mlr:             | avg: 0.0009007 | std: nan       | min: 0.0009007 | 25%: 0.0009007 | 50%: 0.0009007 | 75%: 0.0009007 | max: 0.0009007 \u001B[0m\n",
      "\u001B[32m2022-07-12 13:55:37\u001B[0m | \u001B[1mINFO    \u001B[0m | \u001B[1mvalidation:\u001B[0m\n",
      "\u001B[32m2022-07-12 13:55:37\u001B[0m | \u001B[1mINFO    \u001B[0m | \u001B[1mloss:           | avg: 509.4     | std: 7.94      | min: 488.3     | 25%: 507.3     | 50%: 509.3     | 75%: 515.2     | max: 523.7     \u001B[0m\n",
      "\u001B[32m2022-07-12 13:55:37\u001B[0m | \u001B[1mINFO    \u001B[0m | \u001B[1macc:            | avg: 0.9365    | std: 0.009844  | min: 0.9219    | 25%: 0.9287    | 50%: 0.9365    | 75%: 0.9429    | max: 0.9609    \u001B[0m\n"
     ]
    },
    {
     "name": "stderr",
     "output_type": "stream",
     "text": [
      "\n",
      "train: 100%|██████████| 73/73 [00:11<00:00,  6.42it/s]\n",
      "validation: 100%|██████████| 22/22 [00:00<00:00, 33.71it/s]"
     ]
    },
    {
     "name": "stdout",
     "output_type": "stream",
     "text": [
      "\u001B[32m2022-07-12 13:55:52\u001B[0m | \u001B[1mINFO    \u001B[0m | \u001B[1m\u001B[0m\n",
      "\u001B[32m2022-07-12 13:55:52\u001B[0m | \u001B[1mINFO    \u001B[0m | \u001B[1mFinished epoch 35/40:\u001B[0m\n",
      "\u001B[32m2022-07-12 13:55:52\u001B[0m | \u001B[1mINFO    \u001B[0m | \u001B[1mtrain:\u001B[0m\n",
      "\u001B[32m2022-07-12 13:55:52\u001B[0m | \u001B[1mINFO    \u001B[0m | \u001B[1mloss:           | avg: 445.9     | std: 0.5154    | min: 445.2     | 25%: 445.5     | 50%: 445.7     | 75%: 446.2     | max: 447.9     \u001B[0m\n",
      "\u001B[32m2022-07-12 13:55:52\u001B[0m | \u001B[1mINFO    \u001B[0m | \u001B[1macc:            | avg: 1.0       | std: 0.0002286 | min: 0.998     | 25%: 1.0       | 50%: 1.0       | 75%: 1.0       | max: 1.0       \u001B[0m\n",
      "\u001B[32m2022-07-12 13:55:52\u001B[0m | \u001B[1mINFO    \u001B[0m | \u001B[1mlr:             | avg: 0.0008599 | std: nan       | min: 0.0008599 | 25%: 0.0008599 | 50%: 0.0008599 | 75%: 0.0008599 | max: 0.0008599 \u001B[0m\n",
      "\u001B[32m2022-07-12 13:55:52\u001B[0m | \u001B[1mINFO    \u001B[0m | \u001B[1mvalidation:\u001B[0m\n",
      "\u001B[32m2022-07-12 13:55:52\u001B[0m | \u001B[1mINFO    \u001B[0m | \u001B[1mloss:           | avg: 509.2     | std: 8.778     | min: 495.1     | 25%: 502.8     | 50%: 508.4     | 75%: 515.0     | max: 527.3     \u001B[0m\n",
      "\u001B[32m2022-07-12 13:55:52\u001B[0m | \u001B[1mINFO    \u001B[0m | \u001B[1macc:            | avg: 0.9372    | std: 0.009631  | min: 0.9219    | 25%: 0.9287    | 50%: 0.9414    | 75%: 0.9434    | max: 0.957     \u001B[0m\n"
     ]
    },
    {
     "name": "stderr",
     "output_type": "stream",
     "text": [
      "\n",
      "train: 100%|██████████| 73/73 [00:09<00:00,  7.93it/s]\n",
      "validation: 100%|██████████| 22/22 [00:00<00:00, 33.30it/s]"
     ]
    },
    {
     "name": "stdout",
     "output_type": "stream",
     "text": [
      "\u001B[32m2022-07-12 13:56:04\u001B[0m | \u001B[1mINFO    \u001B[0m | \u001B[1m\u001B[0m\n",
      "\u001B[32m2022-07-12 13:56:04\u001B[0m | \u001B[1mINFO    \u001B[0m | \u001B[1mFinished epoch 36/40:\u001B[0m\n",
      "\u001B[32m2022-07-12 13:56:04\u001B[0m | \u001B[1mINFO    \u001B[0m | \u001B[1mtrain:\u001B[0m\n",
      "\u001B[32m2022-07-12 13:56:04\u001B[0m | \u001B[1mINFO    \u001B[0m | \u001B[1mloss:           | avg: 445.8     | std: 0.5275    | min: 445.1     | 25%: 445.5     | 50%: 445.7     | 75%: 446.0     | max: 447.5     \u001B[0m\n",
      "\u001B[32m2022-07-12 13:56:04\u001B[0m | \u001B[1mINFO    \u001B[0m | \u001B[1macc:            | avg: 1.0       | std: 0.0       | min: 1.0       | 25%: 1.0       | 50%: 1.0       | 75%: 1.0       | max: 1.0       \u001B[0m\n",
      "\u001B[32m2022-07-12 13:56:04\u001B[0m | \u001B[1mINFO    \u001B[0m | \u001B[1mlr:             | avg: 0.0008192 | std: nan       | min: 0.0008192 | 25%: 0.0008192 | 50%: 0.0008192 | 75%: 0.0008192 | max: 0.0008192 \u001B[0m\n",
      "\u001B[32m2022-07-12 13:56:04\u001B[0m | \u001B[1mINFO    \u001B[0m | \u001B[1mvalidation:\u001B[0m\n",
      "\u001B[32m2022-07-12 13:56:04\u001B[0m | \u001B[1mINFO    \u001B[0m | \u001B[1mloss:           | avg: 507.2     | std: 10.0      | min: 486.5     | 25%: 503.8     | 50%: 509.4     | 75%: 513.8     | max: 525.0     \u001B[0m\n",
      "\u001B[32m2022-07-12 13:56:04\u001B[0m | \u001B[1mINFO    \u001B[0m | \u001B[1macc:            | avg: 0.9371    | std: 0.01047   | min: 0.9219    | 25%: 0.9321    | 50%: 0.9355    | 75%: 0.939     | max: 0.9609    \u001B[0m\n"
     ]
    },
    {
     "name": "stderr",
     "output_type": "stream",
     "text": [
      "\n",
      "train: 100%|██████████| 73/73 [00:11<00:00,  6.41it/s]\n",
      "validation: 100%|██████████| 22/22 [00:00<00:00, 33.86it/s]"
     ]
    },
    {
     "name": "stdout",
     "output_type": "stream",
     "text": [
      "\u001B[32m2022-07-12 13:56:18\u001B[0m | \u001B[1mINFO    \u001B[0m | \u001B[1m\u001B[0m\n",
      "\u001B[32m2022-07-12 13:56:18\u001B[0m | \u001B[1mINFO    \u001B[0m | \u001B[1mFinished epoch 37/40:\u001B[0m\n",
      "\u001B[32m2022-07-12 13:56:18\u001B[0m | \u001B[1mINFO    \u001B[0m | \u001B[1mtrain:\u001B[0m\n",
      "\u001B[32m2022-07-12 13:56:18\u001B[0m | \u001B[1mINFO    \u001B[0m | \u001B[1mloss:           | avg: 445.7     | std: 0.5219    | min: 445.1     | 25%: 445.4     | 50%: 445.6     | 75%: 445.8     | max: 447.4     \u001B[0m\n",
      "\u001B[32m2022-07-12 13:56:18\u001B[0m | \u001B[1mINFO    \u001B[0m | \u001B[1macc:            | avg: 1.0       | std: 0.0       | min: 1.0       | 25%: 1.0       | 50%: 1.0       | 75%: 1.0       | max: 1.0       \u001B[0m\n",
      "\u001B[32m2022-07-12 13:56:18\u001B[0m | \u001B[1mINFO    \u001B[0m | \u001B[1mlr:             | avg: 0.0007785 | std: nan       | min: 0.0007785 | 25%: 0.0007785 | 50%: 0.0007785 | 75%: 0.0007785 | max: 0.0007785 \u001B[0m\n",
      "\u001B[32m2022-07-12 13:56:18\u001B[0m | \u001B[1mINFO    \u001B[0m | \u001B[1mvalidation:\u001B[0m\n",
      "\u001B[32m2022-07-12 13:56:18\u001B[0m | \u001B[1mINFO    \u001B[0m | \u001B[1mloss:           | avg: 509.0     | std: 7.476     | min: 496.0     | 25%: 502.6     | 50%: 511.3     | 75%: 514.5     | max: 522.9     \u001B[0m\n",
      "\u001B[32m2022-07-12 13:56:18\u001B[0m | \u001B[1mINFO    \u001B[0m | \u001B[1macc:            | avg: 0.9364    | std: 0.009954  | min: 0.9102    | 25%: 0.9302    | 50%: 0.9375    | 75%: 0.9429    | max: 0.9512    \u001B[0m\n"
     ]
    },
    {
     "name": "stderr",
     "output_type": "stream",
     "text": [
      "\n",
      "train: 100%|██████████| 73/73 [00:09<00:00,  7.67it/s]\n",
      "validation: 100%|██████████| 22/22 [00:00<00:00, 33.55it/s]"
     ]
    },
    {
     "name": "stdout",
     "output_type": "stream",
     "text": [
      "\u001B[32m2022-07-12 13:56:31\u001B[0m | \u001B[1mINFO    \u001B[0m | \u001B[1m\u001B[0m\n",
      "\u001B[32m2022-07-12 13:56:31\u001B[0m | \u001B[1mINFO    \u001B[0m | \u001B[1mFinished epoch 38/40:\u001B[0m\n",
      "\u001B[32m2022-07-12 13:56:31\u001B[0m | \u001B[1mINFO    \u001B[0m | \u001B[1mtrain:\u001B[0m\n",
      "\u001B[32m2022-07-12 13:56:31\u001B[0m | \u001B[1mINFO    \u001B[0m | \u001B[1mloss:           | avg: 445.7     | std: 0.469     | min: 445.1     | 25%: 445.3     | 50%: 445.5     | 75%: 445.8     | max: 447.0     \u001B[0m\n",
      "\u001B[32m2022-07-12 13:56:31\u001B[0m | \u001B[1mINFO    \u001B[0m | \u001B[1macc:            | avg: 1.0       | std: 0.0002286 | min: 0.998     | 25%: 1.0       | 50%: 1.0       | 75%: 1.0       | max: 1.0       \u001B[0m\n",
      "\u001B[32m2022-07-12 13:56:31\u001B[0m | \u001B[1mINFO    \u001B[0m | \u001B[1mlr:             | avg: 0.0007377 | std: nan       | min: 0.0007377 | 25%: 0.0007377 | 50%: 0.0007377 | 75%: 0.0007377 | max: 0.0007377 \u001B[0m\n",
      "\u001B[32m2022-07-12 13:56:31\u001B[0m | \u001B[1mINFO    \u001B[0m | \u001B[1mvalidation:\u001B[0m\n",
      "\u001B[32m2022-07-12 13:56:31\u001B[0m | \u001B[1mINFO    \u001B[0m | \u001B[1mloss:           | avg: 509.1     | std: 10.19     | min: 491.0     | 25%: 501.3     | 50%: 508.6     | 75%: 513.6     | max: 533.0     \u001B[0m\n",
      "\u001B[32m2022-07-12 13:56:31\u001B[0m | \u001B[1mINFO    \u001B[0m | \u001B[1macc:            | avg: 0.9362    | std: 0.01356   | min: 0.9082    | 25%: 0.9307    | 50%: 0.9355    | 75%: 0.9438    | max: 0.9609    \u001B[0m\n"
     ]
    },
    {
     "name": "stderr",
     "output_type": "stream",
     "text": [
      "\n",
      "train: 100%|██████████| 73/73 [00:11<00:00,  6.42it/s]\n",
      "validation: 100%|██████████| 22/22 [00:00<00:00, 33.67it/s]"
     ]
    },
    {
     "name": "stdout",
     "output_type": "stream",
     "text": [
      "\u001B[32m2022-07-12 13:56:46\u001B[0m | \u001B[1mINFO    \u001B[0m | \u001B[1m\u001B[0m\n",
      "\u001B[32m2022-07-12 13:56:46\u001B[0m | \u001B[1mINFO    \u001B[0m | \u001B[1mFinished epoch 39/40:\u001B[0m\n",
      "\u001B[32m2022-07-12 13:56:46\u001B[0m | \u001B[1mINFO    \u001B[0m | \u001B[1mtrain:\u001B[0m\n",
      "\u001B[32m2022-07-12 13:56:46\u001B[0m | \u001B[1mINFO    \u001B[0m | \u001B[1mloss:           | avg: 445.7     | std: 0.6715    | min: 445.0     | 25%: 445.3     | 50%: 445.5     | 75%: 445.7     | max: 448.5     \u001B[0m\n",
      "\u001B[32m2022-07-12 13:56:46\u001B[0m | \u001B[1mINFO    \u001B[0m | \u001B[1macc:            | avg: 0.9999    | std: 0.000321  | min: 0.998     | 25%: 1.0       | 50%: 1.0       | 75%: 1.0       | max: 1.0       \u001B[0m\n",
      "\u001B[32m2022-07-12 13:56:46\u001B[0m | \u001B[1mINFO    \u001B[0m | \u001B[1mlr:             | avg: 0.000697  | std: nan       | min: 0.000697  | 25%: 0.000697  | 50%: 0.000697  | 75%: 0.000697  | max: 0.000697  \u001B[0m\n",
      "\u001B[32m2022-07-12 13:56:46\u001B[0m | \u001B[1mINFO    \u001B[0m | \u001B[1mvalidation:\u001B[0m\n",
      "\u001B[32m2022-07-12 13:56:46\u001B[0m | \u001B[1mINFO    \u001B[0m | \u001B[1mloss:           | avg: 509.3     | std: 10.9      | min: 491.6     | 25%: 501.5     | 50%: 508.7     | 75%: 520.9     | max: 525.7     \u001B[0m\n",
      "\u001B[32m2022-07-12 13:56:46\u001B[0m | \u001B[1mINFO    \u001B[0m | \u001B[1macc:            | avg: 0.9349    | std: 0.01467   | min: 0.9023    | 25%: 0.9258    | 50%: 0.9385    | 75%: 0.9463    | max: 0.959     \u001B[0m\n"
     ]
    },
    {
     "name": "stderr",
     "output_type": "stream",
     "text": [
      "\n",
      "train: 100%|██████████| 73/73 [00:10<00:00,  7.25it/s]\n",
      "validation: 100%|██████████| 22/22 [00:00<00:00, 33.74it/s]"
     ]
    },
    {
     "name": "stdout",
     "output_type": "stream",
     "text": [
      "\u001B[32m2022-07-12 13:56:59\u001B[0m | \u001B[1mINFO    \u001B[0m | \u001B[1m\u001B[0m\n",
      "\u001B[32m2022-07-12 13:56:59\u001B[0m | \u001B[1mINFO    \u001B[0m | \u001B[1mFinished epoch 40/40:\u001B[0m\n",
      "\u001B[32m2022-07-12 13:56:59\u001B[0m | \u001B[1mINFO    \u001B[0m | \u001B[1mtrain:\u001B[0m\n",
      "\u001B[32m2022-07-12 13:56:59\u001B[0m | \u001B[1mINFO    \u001B[0m | \u001B[1mloss:           | avg: 445.6     | std: 0.4843    | min: 444.9     | 25%: 445.3     | 50%: 445.5     | 75%: 445.7     | max: 447.5     \u001B[0m\n",
      "\u001B[32m2022-07-12 13:56:59\u001B[0m | \u001B[1mINFO    \u001B[0m | \u001B[1macc:            | avg: 1.0       | std: 0.0       | min: 1.0       | 25%: 1.0       | 50%: 1.0       | 75%: 1.0       | max: 1.0       \u001B[0m\n",
      "\u001B[32m2022-07-12 13:56:59\u001B[0m | \u001B[1mINFO    \u001B[0m | \u001B[1mlr:             | avg: 0.0006562 | std: nan       | min: 0.0006562 | 25%: 0.0006562 | 50%: 0.0006562 | 75%: 0.0006562 | max: 0.0006562 \u001B[0m\n",
      "\u001B[32m2022-07-12 13:56:59\u001B[0m | \u001B[1mINFO    \u001B[0m | \u001B[1mvalidation:\u001B[0m\n",
      "\u001B[32m2022-07-12 13:56:59\u001B[0m | \u001B[1mINFO    \u001B[0m | \u001B[1mloss:           | avg: 507.7     | std: 6.617     | min: 496.8     | 25%: 504.0     | 50%: 507.2     | 75%: 511.7     | max: 519.8     \u001B[0m\n",
      "\u001B[32m2022-07-12 13:56:59\u001B[0m | \u001B[1mINFO    \u001B[0m | \u001B[1macc:            | avg: 0.9388    | std: 0.008118  | min: 0.9258    | 25%: 0.9321    | 50%: 0.9365    | 75%: 0.9463    | max: 0.9531    \u001B[0m\n",
      "\u001B[32m2022-07-12 13:57:02\u001B[0m | \u001B[1mINFO    \u001B[0m | \u001B[1mReload experiment from checkpoint: /tmp/cifar/cifar10/CIFAR10Algorithm/compare_parallel/0001_20220712_134908/checkpoints/checkpoint_000040\u001B[0m\n",
      "\u001B[32m2022-07-12 13:57:02\u001B[0m | \u001B[1mINFO    \u001B[0m | \u001B[1mLoading network state from: /tmp/cifar/cifar10/CIFAR10Algorithm/compare_parallel/0001_20220712_134908/checkpoints/checkpoint_000040\u001B[0m\n"
     ]
    }
   ],
   "source": [
    "hparams = beam_arguments(get_cifar10_parser(), f\"--project-name=cifar10 --root-dir=/tmp/cifar --algorithm=CIFAR10Algorithm --device=0 --amp --lr-d=1e-2 --batch-size=512\",\n",
    "                      \"--n-epochs=40 --identifier=compare_parallel --clip-gradient=1000 --parallel=2 --accumulate=1 --no-deterministic\",\n",
    "                      \"--weight-decay=3e-5 --beta1=0.9\", prototype=True)\n",
    "experiment = Experiment(hparams, print_hyperparameters=False)\n",
    "alg = experiment.fit(CIFAR10Algorithm, CIFAR10Dataset)"
   ]
  },
  {
   "cell_type": "code",
   "execution_count": 21,
   "id": "ba503ac4-bd10-435b-a857-00533a979f9d",
   "metadata": {},
   "outputs": [
    {
     "name": "stdout",
     "output_type": "stream",
     "text": [
      "\u001B[32m2022-07-12 13:57:03\u001B[0m | \u001B[1mINFO    \u001B[0m | \u001B[1mCreating new experiment\u001B[0m\n",
      "\u001B[32m2022-07-12 13:57:03\u001B[0m | \u001B[1mINFO    \u001B[0m | \u001B[1mExperiment directory is: /tmp/cifar/cifar10/CIFAR10Algorithm/compare_parallel/0002_20220712_135703\u001B[0m\n",
      "\u001B[32m2022-07-12 13:57:03\u001B[0m | \u001B[1mINFO    \u001B[0m | \u001B[1mSingle worker mode\u001B[0m\n",
      "\u001B[32m2022-07-12 13:57:03\u001B[0m | \u001B[1mINFO    \u001B[0m | \u001B[1mWorker: 1/1 is running...\u001B[0m\n"
     ]
    },
    {
     "data": {
      "application/vnd.jupyter.widget-view+json": {
       "model_id": "f2ca01aab3524d0f8619e107dddb32dc",
       "version_major": 2,
       "version_minor": 0
      },
      "text/plain": [
       "train:   0%|          | 0/73 [00:00<?, ?it/s]"
      ]
     },
     "metadata": {},
     "output_type": "display_data"
    },
    {
     "name": "stderr",
     "output_type": "stream",
     "text": [
      "/opt/conda/lib/python3.8/site-packages/torch/optim/lr_scheduler.py:131: UserWarning: Detected call of `lr_scheduler.step()` before `optimizer.step()`. In PyTorch 1.1.0 and later, you should call them in the opposite order: `optimizer.step()` before `lr_scheduler.step()`.  Failure to do this will result in PyTorch skipping the first value of the learning rate schedule. See more details at https://pytorch.org/docs/stable/optim.html#how-to-adjust-learning-rate\n",
      "  warnings.warn(\"Detected call of `lr_scheduler.step()` before `optimizer.step()`. \"\n"
     ]
    },
    {
     "data": {
      "application/vnd.jupyter.widget-view+json": {
       "model_id": "190bab9e003e46b1a0befaa9dc02faf2",
       "version_major": 2,
       "version_minor": 0
      },
      "text/plain": [
       "validation:   0%|          | 0/22 [00:00<?, ?it/s]"
      ]
     },
     "metadata": {},
     "output_type": "display_data"
    },
    {
     "name": "stdout",
     "output_type": "stream",
     "text": [
      "\u001B[32m2022-07-12 13:57:10\u001B[0m | \u001B[1mINFO    \u001B[0m | \u001B[1m\u001B[0m\n",
      "\u001B[32m2022-07-12 13:57:10\u001B[0m | \u001B[1mINFO    \u001B[0m | \u001B[1mFinished epoch 1/40:\u001B[0m\n",
      "\u001B[32m2022-07-12 13:57:10\u001B[0m | \u001B[1mINFO    \u001B[0m | \u001B[1mtrain:\u001B[0m\n",
      "\u001B[32m2022-07-12 13:57:10\u001B[0m | \u001B[1mINFO    \u001B[0m | \u001B[1mloss:           | avg: 925.6     | std: 112.6     | min: 776.0     | 25%: 829.9     | 50%: 895.3     | 75%: 1.006e+03 | max: 1.179e+03 \u001B[0m\n",
      "\u001B[32m2022-07-12 13:57:10\u001B[0m | \u001B[1mINFO    \u001B[0m | \u001B[1macc:            | avg: 0.4559    | std: 0.1427    | min: 0.1055    | 25%: 0.3652    | 50%: 0.4844    | 75%: 0.5762    | max: 0.6621    \u001B[0m\n",
      "\u001B[32m2022-07-12 13:57:10\u001B[0m | \u001B[1mINFO    \u001B[0m | \u001B[1mlr:             | avg: 0.0005    | std: nan       | min: 0.0005    | 25%: 0.0005    | 50%: 0.0005    | 75%: 0.0005    | max: 0.0005    \u001B[0m\n",
      "\u001B[32m2022-07-12 13:57:10\u001B[0m | \u001B[1mINFO    \u001B[0m | \u001B[1mvalidation:\u001B[0m\n",
      "\u001B[32m2022-07-12 13:57:10\u001B[0m | \u001B[1mINFO    \u001B[0m | \u001B[1mloss:           | avg: 794.6     | std: 15.3      | min: 771.9     | 25%: 783.3     | 50%: 793.9     | 75%: 804.5     | max: 821.0     \u001B[0m\n",
      "\u001B[32m2022-07-12 13:57:10\u001B[0m | \u001B[1mINFO    \u001B[0m | \u001B[1macc:            | avg: 0.6264    | std: 0.02227   | min: 0.582     | 25%: 0.6138    | 50%: 0.6309    | 75%: 0.6426    | max: 0.666     \u001B[0m\n"
     ]
    },
    {
     "data": {
      "application/vnd.jupyter.widget-view+json": {
       "model_id": "8182807e84e744d0ba9ea9217f096a2e",
       "version_major": 2,
       "version_minor": 0
      },
      "text/plain": [
       "train:   0%|          | 0/73 [00:00<?, ?it/s]"
      ]
     },
     "metadata": {},
     "output_type": "display_data"
    },
    {
     "data": {
      "application/vnd.jupyter.widget-view+json": {
       "model_id": "9de9354ec95e43378e5f4a1f6bef6e7d",
       "version_major": 2,
       "version_minor": 0
      },
      "text/plain": [
       "validation:   0%|          | 0/22 [00:00<?, ?it/s]"
      ]
     },
     "metadata": {},
     "output_type": "display_data"
    },
    {
     "name": "stdout",
     "output_type": "stream",
     "text": [
      "\u001B[32m2022-07-12 13:57:21\u001B[0m | \u001B[1mINFO    \u001B[0m | \u001B[1m\u001B[0m\n",
      "\u001B[32m2022-07-12 13:57:21\u001B[0m | \u001B[1mINFO    \u001B[0m | \u001B[1mFinished epoch 2/40:\u001B[0m\n",
      "\u001B[32m2022-07-12 13:57:21\u001B[0m | \u001B[1mINFO    \u001B[0m | \u001B[1mtrain:\u001B[0m\n",
      "\u001B[32m2022-07-12 13:57:21\u001B[0m | \u001B[1mINFO    \u001B[0m | \u001B[1mloss:           | avg: 727.6     | std: 34.77     | min: 654.9     | 25%: 701.1     | 50%: 726.7     | 75%: 752.4     | max: 812.0     \u001B[0m\n",
      "\u001B[32m2022-07-12 13:57:21\u001B[0m | \u001B[1mINFO    \u001B[0m | \u001B[1macc:            | avg: 0.7083    | std: 0.04448   | min: 0.5918    | 25%: 0.6777    | 50%: 0.707     | 75%: 0.7383    | max: 0.7871    \u001B[0m\n",
      "\u001B[32m2022-07-12 13:57:21\u001B[0m | \u001B[1mINFO    \u001B[0m | \u001B[1mlr:             | avg: 0.0005703 | std: nan       | min: 0.0005703 | 25%: 0.0005703 | 50%: 0.0005703 | 75%: 0.0005703 | max: 0.0005703 \u001B[0m\n",
      "\u001B[32m2022-07-12 13:57:21\u001B[0m | \u001B[1mINFO    \u001B[0m | \u001B[1mvalidation:\u001B[0m\n",
      "\u001B[32m2022-07-12 13:57:21\u001B[0m | \u001B[1mINFO    \u001B[0m | \u001B[1mloss:           | avg: 719.9     | std: 11.39     | min: 700.9     | 25%: 710.8     | 50%: 718.8     | 75%: 728.1     | max: 739.8     \u001B[0m\n",
      "\u001B[32m2022-07-12 13:57:21\u001B[0m | \u001B[1mINFO    \u001B[0m | \u001B[1macc:            | avg: 0.7188    | std: 0.01768   | min: 0.6934    | 25%: 0.7051    | 50%: 0.7168    | 75%: 0.7324    | max: 0.7559    \u001B[0m\n"
     ]
    },
    {
     "data": {
      "application/vnd.jupyter.widget-view+json": {
       "model_id": "ca4e7ef4e9464ba8990068bc1664e289",
       "version_major": 2,
       "version_minor": 0
      },
      "text/plain": [
       "train:   0%|          | 0/73 [00:00<?, ?it/s]"
      ]
     },
     "metadata": {},
     "output_type": "display_data"
    },
    {
     "data": {
      "application/vnd.jupyter.widget-view+json": {
       "model_id": "ea88a1b83b2b4727b55a431b7af795a6",
       "version_major": 2,
       "version_minor": 0
      },
      "text/plain": [
       "validation:   0%|          | 0/22 [00:00<?, ?it/s]"
      ]
     },
     "metadata": {},
     "output_type": "display_data"
    },
    {
     "name": "stdout",
     "output_type": "stream",
     "text": [
      "\u001B[32m2022-07-12 13:57:31\u001B[0m | \u001B[1mINFO    \u001B[0m | \u001B[1m\u001B[0m\n",
      "\u001B[32m2022-07-12 13:57:31\u001B[0m | \u001B[1mINFO    \u001B[0m | \u001B[1mFinished epoch 3/40:\u001B[0m\n",
      "\u001B[32m2022-07-12 13:57:31\u001B[0m | \u001B[1mINFO    \u001B[0m | \u001B[1mtrain:\u001B[0m\n",
      "\u001B[32m2022-07-12 13:57:31\u001B[0m | \u001B[1mINFO    \u001B[0m | \u001B[1mloss:           | avg: 665.3     | std: 17.71     | min: 624.8     | 25%: 651.6     | 50%: 665.6     | 75%: 676.6     | max: 713.4     \u001B[0m\n",
      "\u001B[32m2022-07-12 13:57:31\u001B[0m | \u001B[1mINFO    \u001B[0m | \u001B[1macc:            | avg: 0.7864    | std: 0.02447   | min: 0.7324    | 25%: 0.7695    | 50%: 0.7871    | 75%: 0.8066    | max: 0.834     \u001B[0m\n",
      "\u001B[32m2022-07-12 13:57:31\u001B[0m | \u001B[1mINFO    \u001B[0m | \u001B[1mlr:             | avg: 0.0008555 | std: nan       | min: 0.0008555 | 25%: 0.0008555 | 50%: 0.0008555 | 75%: 0.0008555 | max: 0.0008555 \u001B[0m\n",
      "\u001B[32m2022-07-12 13:57:31\u001B[0m | \u001B[1mINFO    \u001B[0m | \u001B[1mvalidation:\u001B[0m\n",
      "\u001B[32m2022-07-12 13:57:31\u001B[0m | \u001B[1mINFO    \u001B[0m | \u001B[1mloss:           | avg: 691.6     | std: 15.28     | min: 664.2     | 25%: 684.3     | 50%: 692.4     | 75%: 703.0     | max: 715.6     \u001B[0m\n",
      "\u001B[32m2022-07-12 13:57:31\u001B[0m | \u001B[1mINFO    \u001B[0m | \u001B[1macc:            | avg: 0.7599    | std: 0.02254   | min: 0.7227    | 25%: 0.7427    | 50%: 0.7559    | 75%: 0.7729    | max: 0.8125    \u001B[0m\n"
     ]
    },
    {
     "data": {
      "application/vnd.jupyter.widget-view+json": {
       "model_id": "fb9bef5b155849bdbd02ca00288db89e",
       "version_major": 2,
       "version_minor": 0
      },
      "text/plain": [
       "train:   0%|          | 0/73 [00:00<?, ?it/s]"
      ]
     },
     "metadata": {},
     "output_type": "display_data"
    },
    {
     "data": {
      "application/vnd.jupyter.widget-view+json": {
       "model_id": "2b293e56af404eeb983667e8ac618148",
       "version_major": 2,
       "version_minor": 0
      },
      "text/plain": [
       "validation:   0%|          | 0/22 [00:00<?, ?it/s]"
      ]
     },
     "metadata": {},
     "output_type": "display_data"
    },
    {
     "name": "stdout",
     "output_type": "stream",
     "text": [
      "\u001B[32m2022-07-12 13:57:41\u001B[0m | \u001B[1mINFO    \u001B[0m | \u001B[1m\u001B[0m\n",
      "\u001B[32m2022-07-12 13:57:41\u001B[0m | \u001B[1mINFO    \u001B[0m | \u001B[1mFinished epoch 4/40:\u001B[0m\n",
      "\u001B[32m2022-07-12 13:57:41\u001B[0m | \u001B[1mINFO    \u001B[0m | \u001B[1mtrain:\u001B[0m\n",
      "\u001B[32m2022-07-12 13:57:41\u001B[0m | \u001B[1mINFO    \u001B[0m | \u001B[1mloss:           | avg: 636.5     | std: 16.62     | min: 602.6     | 25%: 625.8     | 50%: 633.7     | 75%: 648.2     | max: 697.8     \u001B[0m\n",
      "\u001B[32m2022-07-12 13:57:41\u001B[0m | \u001B[1mINFO    \u001B[0m | \u001B[1macc:            | avg: 0.819     | std: 0.02248   | min: 0.7422    | 25%: 0.8027    | 50%: 0.8203    | 75%: 0.834     | max: 0.8789    \u001B[0m\n",
      "\u001B[32m2022-07-12 13:57:41\u001B[0m | \u001B[1mINFO    \u001B[0m | \u001B[1mlr:             | avg: 0.001141  | std: nan       | min: 0.001141  | 25%: 0.001141  | 50%: 0.001141  | 75%: 0.001141  | max: 0.001141  \u001B[0m\n",
      "\u001B[32m2022-07-12 13:57:41\u001B[0m | \u001B[1mINFO    \u001B[0m | \u001B[1mvalidation:\u001B[0m\n",
      "\u001B[32m2022-07-12 13:57:41\u001B[0m | \u001B[1mINFO    \u001B[0m | \u001B[1mloss:           | avg: 653.4     | std: 12.4      | min: 631.9     | 25%: 643.5     | 50%: 650.7     | 75%: 661.2     | max: 677.2     \u001B[0m\n",
      "\u001B[32m2022-07-12 13:57:41\u001B[0m | \u001B[1mINFO    \u001B[0m | \u001B[1macc:            | avg: 0.8064    | std: 0.01792   | min: 0.7754    | 25%: 0.7935    | 50%: 0.8086    | 75%: 0.8184    | max: 0.8398    \u001B[0m\n"
     ]
    },
    {
     "data": {
      "application/vnd.jupyter.widget-view+json": {
       "model_id": "e4b54a032a9b4e859566d1b3afc1ac65",
       "version_major": 2,
       "version_minor": 0
      },
      "text/plain": [
       "train:   0%|          | 0/73 [00:00<?, ?it/s]"
      ]
     },
     "metadata": {},
     "output_type": "display_data"
    },
    {
     "data": {
      "application/vnd.jupyter.widget-view+json": {
       "model_id": "fc3c9edd9f204c61bae3f1a01ed892d7",
       "version_major": 2,
       "version_minor": 0
      },
      "text/plain": [
       "validation:   0%|          | 0/22 [00:00<?, ?it/s]"
      ]
     },
     "metadata": {},
     "output_type": "display_data"
    },
    {
     "name": "stdout",
     "output_type": "stream",
     "text": [
      "\u001B[32m2022-07-12 13:57:51\u001B[0m | \u001B[1mINFO    \u001B[0m | \u001B[1m\u001B[0m\n",
      "\u001B[32m2022-07-12 13:57:51\u001B[0m | \u001B[1mINFO    \u001B[0m | \u001B[1mFinished epoch 5/40:\u001B[0m\n",
      "\u001B[32m2022-07-12 13:57:51\u001B[0m | \u001B[1mINFO    \u001B[0m | \u001B[1mtrain:\u001B[0m\n",
      "\u001B[32m2022-07-12 13:57:51\u001B[0m | \u001B[1mINFO    \u001B[0m | \u001B[1mloss:           | avg: 613.9     | std: 17.61     | min: 575.7     | 25%: 602.9     | 50%: 613.7     | 75%: 625.0     | max: 658.7     \u001B[0m\n",
      "\u001B[32m2022-07-12 13:57:51\u001B[0m | \u001B[1mINFO    \u001B[0m | \u001B[1macc:            | avg: 0.8444    | std: 0.02217   | min: 0.7891    | 25%: 0.832     | 50%: 0.8438    | 75%: 0.8574    | max: 0.9004    \u001B[0m\n",
      "\u001B[32m2022-07-12 13:57:51\u001B[0m | \u001B[1mINFO    \u001B[0m | \u001B[1mlr:             | avg: 0.001426  | std: nan       | min: 0.001426  | 25%: 0.001426  | 50%: 0.001426  | 75%: 0.001426  | max: 0.001426  \u001B[0m\n",
      "\u001B[32m2022-07-12 13:57:51\u001B[0m | \u001B[1mINFO    \u001B[0m | \u001B[1mvalidation:\u001B[0m\n",
      "\u001B[32m2022-07-12 13:57:51\u001B[0m | \u001B[1mINFO    \u001B[0m | \u001B[1mloss:           | avg: 699.2     | std: 8.91      | min: 679.1     | 25%: 694.2     | 50%: 698.9     | 75%: 702.8     | max: 716.4     \u001B[0m\n",
      "\u001B[32m2022-07-12 13:57:51\u001B[0m | \u001B[1mINFO    \u001B[0m | \u001B[1macc:            | avg: 0.7579    | std: 0.01325   | min: 0.7266    | 25%: 0.7485    | 50%: 0.7588    | 75%: 0.7671    | max: 0.7812    \u001B[0m\n"
     ]
    },
    {
     "data": {
      "application/vnd.jupyter.widget-view+json": {
       "model_id": "c076ae71df5c4e60b5e112caa06c0603",
       "version_major": 2,
       "version_minor": 0
      },
      "text/plain": [
       "train:   0%|          | 0/73 [00:00<?, ?it/s]"
      ]
     },
     "metadata": {},
     "output_type": "display_data"
    },
    {
     "data": {
      "application/vnd.jupyter.widget-view+json": {
       "model_id": "3a2f793240aa45478edcf5d10bbaa62a",
       "version_major": 2,
       "version_minor": 0
      },
      "text/plain": [
       "validation:   0%|          | 0/22 [00:00<?, ?it/s]"
      ]
     },
     "metadata": {},
     "output_type": "display_data"
    },
    {
     "name": "stdout",
     "output_type": "stream",
     "text": [
      "\u001B[32m2022-07-12 13:58:02\u001B[0m | \u001B[1mINFO    \u001B[0m | \u001B[1m\u001B[0m\n",
      "\u001B[32m2022-07-12 13:58:02\u001B[0m | \u001B[1mINFO    \u001B[0m | \u001B[1mFinished epoch 6/40:\u001B[0m\n",
      "\u001B[32m2022-07-12 13:58:02\u001B[0m | \u001B[1mINFO    \u001B[0m | \u001B[1mtrain:\u001B[0m\n",
      "\u001B[32m2022-07-12 13:58:02\u001B[0m | \u001B[1mINFO    \u001B[0m | \u001B[1mloss:           | avg: 596.3     | std: 12.71     | min: 571.1     | 25%: 587.3     | 50%: 596.9     | 75%: 602.8     | max: 629.6     \u001B[0m\n",
      "\u001B[32m2022-07-12 13:58:02\u001B[0m | \u001B[1mINFO    \u001B[0m | \u001B[1macc:            | avg: 0.8649    | std: 0.01952   | min: 0.8125    | 25%: 0.8496    | 50%: 0.8672    | 75%: 0.8789    | max: 0.9082    \u001B[0m\n",
      "\u001B[32m2022-07-12 13:58:02\u001B[0m | \u001B[1mINFO    \u001B[0m | \u001B[1mlr:             | avg: 0.001711  | std: nan       | min: 0.001711  | 25%: 0.001711  | 50%: 0.001711  | 75%: 0.001711  | max: 0.001711  \u001B[0m\n",
      "\u001B[32m2022-07-12 13:58:02\u001B[0m | \u001B[1mINFO    \u001B[0m | \u001B[1mvalidation:\u001B[0m\n",
      "\u001B[32m2022-07-12 13:58:02\u001B[0m | \u001B[1mINFO    \u001B[0m | \u001B[1mloss:           | avg: 637.5     | std: 11.5      | min: 611.7     | 25%: 633.0     | 50%: 638.0     | 75%: 645.8     | max: 661.0     \u001B[0m\n",
      "\u001B[32m2022-07-12 13:58:02\u001B[0m | \u001B[1mINFO    \u001B[0m | \u001B[1macc:            | avg: 0.8157    | std: 0.01933   | min: 0.7773    | 25%: 0.8027    | 50%: 0.8145    | 75%: 0.8315    | max: 0.8477    \u001B[0m\n"
     ]
    },
    {
     "data": {
      "application/vnd.jupyter.widget-view+json": {
       "model_id": "477becab31024699974061676bc9cb3b",
       "version_major": 2,
       "version_minor": 0
      },
      "text/plain": [
       "train:   0%|          | 0/73 [00:00<?, ?it/s]"
      ]
     },
     "metadata": {},
     "output_type": "display_data"
    },
    {
     "data": {
      "application/vnd.jupyter.widget-view+json": {
       "model_id": "166790b93dec4d00a813978121d9fa17",
       "version_major": 2,
       "version_minor": 0
      },
      "text/plain": [
       "validation:   0%|          | 0/22 [00:00<?, ?it/s]"
      ]
     },
     "metadata": {},
     "output_type": "display_data"
    },
    {
     "name": "stdout",
     "output_type": "stream",
     "text": [
      "\u001B[32m2022-07-12 13:58:12\u001B[0m | \u001B[1mINFO    \u001B[0m | \u001B[1m\u001B[0m\n",
      "\u001B[32m2022-07-12 13:58:12\u001B[0m | \u001B[1mINFO    \u001B[0m | \u001B[1mFinished epoch 7/40:\u001B[0m\n",
      "\u001B[32m2022-07-12 13:58:12\u001B[0m | \u001B[1mINFO    \u001B[0m | \u001B[1mtrain:\u001B[0m\n",
      "\u001B[32m2022-07-12 13:58:12\u001B[0m | \u001B[1mINFO    \u001B[0m | \u001B[1mloss:           | avg: 584.3     | std: 15.68     | min: 557.8     | 25%: 573.6     | 50%: 582.1     | 75%: 593.0     | max: 636.7     \u001B[0m\n",
      "\u001B[32m2022-07-12 13:58:12\u001B[0m | \u001B[1mINFO    \u001B[0m | \u001B[1macc:            | avg: 0.8763    | std: 0.01974   | min: 0.8047    | 25%: 0.8652    | 50%: 0.8809    | 75%: 0.8887    | max: 0.9121    \u001B[0m\n",
      "\u001B[32m2022-07-12 13:58:12\u001B[0m | \u001B[1mINFO    \u001B[0m | \u001B[1mlr:             | avg: 0.001996  | std: nan       | min: 0.001996  | 25%: 0.001996  | 50%: 0.001996  | 75%: 0.001996  | max: 0.001996  \u001B[0m\n",
      "\u001B[32m2022-07-12 13:58:12\u001B[0m | \u001B[1mINFO    \u001B[0m | \u001B[1mvalidation:\u001B[0m\n",
      "\u001B[32m2022-07-12 13:58:12\u001B[0m | \u001B[1mINFO    \u001B[0m | \u001B[1mloss:           | avg: 635.9     | std: 10.29     | min: 615.4     | 25%: 628.4     | 50%: 635.2     | 75%: 641.3     | max: 653.0     \u001B[0m\n",
      "\u001B[32m2022-07-12 13:58:12\u001B[0m | \u001B[1mINFO    \u001B[0m | \u001B[1macc:            | avg: 0.8179    | std: 0.01684   | min: 0.7871    | 25%: 0.8071    | 50%: 0.8184    | 75%: 0.832     | max: 0.8477    \u001B[0m\n"
     ]
    },
    {
     "data": {
      "application/vnd.jupyter.widget-view+json": {
       "model_id": "8408bfd9d75b4270bf0c99d102c9fb06",
       "version_major": 2,
       "version_minor": 0
      },
      "text/plain": [
       "train:   0%|          | 0/73 [00:00<?, ?it/s]"
      ]
     },
     "metadata": {},
     "output_type": "display_data"
    },
    {
     "data": {
      "application/vnd.jupyter.widget-view+json": {
       "model_id": "cdac65479f2945b593cdb7e66a062122",
       "version_major": 2,
       "version_minor": 0
      },
      "text/plain": [
       "validation:   0%|          | 0/22 [00:00<?, ?it/s]"
      ]
     },
     "metadata": {},
     "output_type": "display_data"
    },
    {
     "name": "stdout",
     "output_type": "stream",
     "text": [
      "\u001B[32m2022-07-12 13:58:22\u001B[0m | \u001B[1mINFO    \u001B[0m | \u001B[1m\u001B[0m\n",
      "\u001B[32m2022-07-12 13:58:22\u001B[0m | \u001B[1mINFO    \u001B[0m | \u001B[1mFinished epoch 8/40:\u001B[0m\n",
      "\u001B[32m2022-07-12 13:58:22\u001B[0m | \u001B[1mINFO    \u001B[0m | \u001B[1mtrain:\u001B[0m\n",
      "\u001B[32m2022-07-12 13:58:22\u001B[0m | \u001B[1mINFO    \u001B[0m | \u001B[1mloss:           | avg: 567.5     | std: 15.96     | min: 539.5     | 25%: 557.3     | 50%: 565.5     | 75%: 574.1     | max: 630.0     \u001B[0m\n",
      "\u001B[32m2022-07-12 13:58:22\u001B[0m | \u001B[1mINFO    \u001B[0m | \u001B[1macc:            | avg: 0.8955    | std: 0.02021   | min: 0.8242    | 25%: 0.8867    | 50%: 0.8965    | 75%: 0.9102    | max: 0.9297    \u001B[0m\n",
      "\u001B[32m2022-07-12 13:58:22\u001B[0m | \u001B[1mINFO    \u001B[0m | \u001B[1mlr:             | avg: 0.00196   | std: nan       | min: 0.00196   | 25%: 0.00196   | 50%: 0.00196   | 75%: 0.00196   | max: 0.00196   \u001B[0m\n",
      "\u001B[32m2022-07-12 13:58:22\u001B[0m | \u001B[1mINFO    \u001B[0m | \u001B[1mvalidation:\u001B[0m\n",
      "\u001B[32m2022-07-12 13:58:22\u001B[0m | \u001B[1mINFO    \u001B[0m | \u001B[1mloss:           | avg: 575.4     | std: 10.0      | min: 553.5     | 25%: 570.1     | 50%: 578.2     | 75%: 584.3     | max: 587.9     \u001B[0m\n",
      "\u001B[32m2022-07-12 13:58:22\u001B[0m | \u001B[1mINFO    \u001B[0m | \u001B[1macc:            | avg: 0.8769    | std: 0.01463   | min: 0.8535    | 25%: 0.8662    | 50%: 0.877     | 75%: 0.8857    | max: 0.9082    \u001B[0m\n"
     ]
    },
    {
     "data": {
      "application/vnd.jupyter.widget-view+json": {
       "model_id": "f08b55f495dd4df08ac984f752d75892",
       "version_major": 2,
       "version_minor": 0
      },
      "text/plain": [
       "train:   0%|          | 0/73 [00:00<?, ?it/s]"
      ]
     },
     "metadata": {},
     "output_type": "display_data"
    },
    {
     "data": {
      "application/vnd.jupyter.widget-view+json": {
       "model_id": "c77f6894cd5a4dde911f574f368a019e",
       "version_major": 2,
       "version_minor": 0
      },
      "text/plain": [
       "validation:   0%|          | 0/22 [00:00<?, ?it/s]"
      ]
     },
     "metadata": {},
     "output_type": "display_data"
    },
    {
     "name": "stdout",
     "output_type": "stream",
     "text": [
      "\u001B[32m2022-07-12 13:58:32\u001B[0m | \u001B[1mINFO    \u001B[0m | \u001B[1m\u001B[0m\n",
      "\u001B[32m2022-07-12 13:58:32\u001B[0m | \u001B[1mINFO    \u001B[0m | \u001B[1mFinished epoch 9/40:\u001B[0m\n",
      "\u001B[32m2022-07-12 13:58:32\u001B[0m | \u001B[1mINFO    \u001B[0m | \u001B[1mtrain:\u001B[0m\n",
      "\u001B[32m2022-07-12 13:58:32\u001B[0m | \u001B[1mINFO    \u001B[0m | \u001B[1mloss:           | avg: 547.6     | std: 12.59     | min: 520.6     | 25%: 539.0     | 50%: 543.9     | 75%: 556.7     | max: 590.5     \u001B[0m\n",
      "\u001B[32m2022-07-12 13:58:32\u001B[0m | \u001B[1mINFO    \u001B[0m | \u001B[1macc:            | avg: 0.9151    | std: 0.0179    | min: 0.8613    | 25%: 0.9043    | 50%: 0.916     | 75%: 0.9277    | max: 0.9512    \u001B[0m\n",
      "\u001B[32m2022-07-12 13:58:32\u001B[0m | \u001B[1mINFO    \u001B[0m | \u001B[1mlr:             | avg: 0.001919  | std: nan       | min: 0.001919  | 25%: 0.001919  | 50%: 0.001919  | 75%: 0.001919  | max: 0.001919  \u001B[0m\n",
      "\u001B[32m2022-07-12 13:58:32\u001B[0m | \u001B[1mINFO    \u001B[0m | \u001B[1mvalidation:\u001B[0m\n",
      "\u001B[32m2022-07-12 13:58:32\u001B[0m | \u001B[1mINFO    \u001B[0m | \u001B[1mloss:           | avg: 589.3     | std: 11.55     | min: 569.5     | 25%: 583.2     | 50%: 590.6     | 75%: 596.9     | max: 617.9     \u001B[0m\n",
      "\u001B[32m2022-07-12 13:58:32\u001B[0m | \u001B[1mINFO    \u001B[0m | \u001B[1macc:            | avg: 0.8637    | std: 0.01812   | min: 0.8184    | 25%: 0.8555    | 50%: 0.8623    | 75%: 0.8765    | max: 0.8906    \u001B[0m\n"
     ]
    },
    {
     "data": {
      "application/vnd.jupyter.widget-view+json": {
       "model_id": "0d3353f8a4f848f0933811c249bdc403",
       "version_major": 2,
       "version_minor": 0
      },
      "text/plain": [
       "train:   0%|          | 0/73 [00:00<?, ?it/s]"
      ]
     },
     "metadata": {},
     "output_type": "display_data"
    },
    {
     "data": {
      "application/vnd.jupyter.widget-view+json": {
       "model_id": "4e5de77537d14ecf8e3566b09b0450fb",
       "version_major": 2,
       "version_minor": 0
      },
      "text/plain": [
       "validation:   0%|          | 0/22 [00:00<?, ?it/s]"
      ]
     },
     "metadata": {},
     "output_type": "display_data"
    },
    {
     "name": "stdout",
     "output_type": "stream",
     "text": [
      "\u001B[32m2022-07-12 13:58:42\u001B[0m | \u001B[1mINFO    \u001B[0m | \u001B[1m\u001B[0m\n",
      "\u001B[32m2022-07-12 13:58:42\u001B[0m | \u001B[1mINFO    \u001B[0m | \u001B[1mFinished epoch 10/40:\u001B[0m\n",
      "\u001B[32m2022-07-12 13:58:42\u001B[0m | \u001B[1mINFO    \u001B[0m | \u001B[1mtrain:\u001B[0m\n",
      "\u001B[32m2022-07-12 13:58:42\u001B[0m | \u001B[1mINFO    \u001B[0m | \u001B[1mloss:           | avg: 532.8     | std: 10.76     | min: 508.7     | 25%: 525.5     | 50%: 533.1     | 75%: 537.7     | max: 556.7     \u001B[0m\n",
      "\u001B[32m2022-07-12 13:58:42\u001B[0m | \u001B[1mINFO    \u001B[0m | \u001B[1macc:            | avg: 0.9303    | std: 0.01566   | min: 0.8945    | 25%: 0.9219    | 50%: 0.9316    | 75%: 0.9395    | max: 0.9609    \u001B[0m\n",
      "\u001B[32m2022-07-12 13:58:42\u001B[0m | \u001B[1mINFO    \u001B[0m | \u001B[1mlr:             | avg: 0.001878  | std: nan       | min: 0.001878  | 25%: 0.001878  | 50%: 0.001878  | 75%: 0.001878  | max: 0.001878  \u001B[0m\n",
      "\u001B[32m2022-07-12 13:58:42\u001B[0m | \u001B[1mINFO    \u001B[0m | \u001B[1mvalidation:\u001B[0m\n",
      "\u001B[32m2022-07-12 13:58:42\u001B[0m | \u001B[1mINFO    \u001B[0m | \u001B[1mloss:           | avg: 571.6     | std: 10.54     | min: 547.0     | 25%: 566.6     | 50%: 571.7     | 75%: 577.8     | max: 592.1     \u001B[0m\n",
      "\u001B[32m2022-07-12 13:58:42\u001B[0m | \u001B[1mINFO    \u001B[0m | \u001B[1macc:            | avg: 0.8864    | std: 0.01378   | min: 0.8633    | 25%: 0.877     | 50%: 0.8867    | 75%: 0.896     | max: 0.9141    \u001B[0m\n"
     ]
    },
    {
     "data": {
      "application/vnd.jupyter.widget-view+json": {
       "model_id": "e2b554308272474aaa09ea6c795fcbd6",
       "version_major": 2,
       "version_minor": 0
      },
      "text/plain": [
       "train:   0%|          | 0/73 [00:00<?, ?it/s]"
      ]
     },
     "metadata": {},
     "output_type": "display_data"
    },
    {
     "data": {
      "application/vnd.jupyter.widget-view+json": {
       "model_id": "9ca33654b3c0445f8aca68a7e16f2b45",
       "version_major": 2,
       "version_minor": 0
      },
      "text/plain": [
       "validation:   0%|          | 0/22 [00:00<?, ?it/s]"
      ]
     },
     "metadata": {},
     "output_type": "display_data"
    },
    {
     "name": "stdout",
     "output_type": "stream",
     "text": [
      "\u001B[32m2022-07-12 13:58:52\u001B[0m | \u001B[1mINFO    \u001B[0m | \u001B[1m\u001B[0m\n",
      "\u001B[32m2022-07-12 13:58:52\u001B[0m | \u001B[1mINFO    \u001B[0m | \u001B[1mFinished epoch 11/40:\u001B[0m\n",
      "\u001B[32m2022-07-12 13:58:52\u001B[0m | \u001B[1mINFO    \u001B[0m | \u001B[1mtrain:\u001B[0m\n",
      "\u001B[32m2022-07-12 13:58:52\u001B[0m | \u001B[1mINFO    \u001B[0m | \u001B[1mloss:           | avg: 518.5     | std: 10.43     | min: 496.9     | 25%: 511.6     | 50%: 516.4     | 75%: 522.8     | max: 560.2     \u001B[0m\n",
      "\u001B[32m2022-07-12 13:58:52\u001B[0m | \u001B[1mINFO    \u001B[0m | \u001B[1macc:            | avg: 0.9446    | std: 0.01196   | min: 0.9043    | 25%: 0.9375    | 50%: 0.9453    | 75%: 0.9531    | max: 0.9668    \u001B[0m\n",
      "\u001B[32m2022-07-12 13:58:52\u001B[0m | \u001B[1mINFO    \u001B[0m | \u001B[1mlr:             | avg: 0.001838  | std: nan       | min: 0.001838  | 25%: 0.001838  | 50%: 0.001838  | 75%: 0.001838  | max: 0.001838  \u001B[0m\n",
      "\u001B[32m2022-07-12 13:58:52\u001B[0m | \u001B[1mINFO    \u001B[0m | \u001B[1mvalidation:\u001B[0m\n",
      "\u001B[32m2022-07-12 13:58:52\u001B[0m | \u001B[1mINFO    \u001B[0m | \u001B[1mloss:           | avg: 559.6     | std: 8.71      | min: 543.4     | 25%: 556.7     | 50%: 559.7     | 75%: 565.7     | max: 577.1     \u001B[0m\n",
      "\u001B[32m2022-07-12 13:58:52\u001B[0m | \u001B[1mINFO    \u001B[0m | \u001B[1macc:            | avg: 0.8917    | std: 0.01548   | min: 0.8633    | 25%: 0.8813    | 50%: 0.8896    | 75%: 0.9033    | max: 0.9199    \u001B[0m\n"
     ]
    },
    {
     "data": {
      "application/vnd.jupyter.widget-view+json": {
       "model_id": "05c01fc6934b4d6687b59cf0badd2c3b",
       "version_major": 2,
       "version_minor": 0
      },
      "text/plain": [
       "train:   0%|          | 0/73 [00:00<?, ?it/s]"
      ]
     },
     "metadata": {},
     "output_type": "display_data"
    },
    {
     "data": {
      "application/vnd.jupyter.widget-view+json": {
       "model_id": "6dab48c334734c728ac065ce82f3e305",
       "version_major": 2,
       "version_minor": 0
      },
      "text/plain": [
       "validation:   0%|          | 0/22 [00:00<?, ?it/s]"
      ]
     },
     "metadata": {},
     "output_type": "display_data"
    },
    {
     "name": "stdout",
     "output_type": "stream",
     "text": [
      "\u001B[32m2022-07-12 13:59:03\u001B[0m | \u001B[1mINFO    \u001B[0m | \u001B[1m\u001B[0m\n",
      "\u001B[32m2022-07-12 13:59:03\u001B[0m | \u001B[1mINFO    \u001B[0m | \u001B[1mFinished epoch 12/40:\u001B[0m\n",
      "\u001B[32m2022-07-12 13:59:03\u001B[0m | \u001B[1mINFO    \u001B[0m | \u001B[1mtrain:\u001B[0m\n",
      "\u001B[32m2022-07-12 13:59:03\u001B[0m | \u001B[1mINFO    \u001B[0m | \u001B[1mloss:           | avg: 510.1     | std: 8.909     | min: 495.8     | 25%: 502.8     | 50%: 510.3     | 75%: 517.0     | max: 537.4     \u001B[0m\n",
      "\u001B[32m2022-07-12 13:59:03\u001B[0m | \u001B[1mINFO    \u001B[0m | \u001B[1macc:            | avg: 0.9517    | std: 0.01144   | min: 0.9258    | 25%: 0.9434    | 50%: 0.9531    | 75%: 0.9609    | max: 0.9766    \u001B[0m\n",
      "\u001B[32m2022-07-12 13:59:03\u001B[0m | \u001B[1mINFO    \u001B[0m | \u001B[1mlr:             | avg: 0.001797  | std: nan       | min: 0.001797  | 25%: 0.001797  | 50%: 0.001797  | 75%: 0.001797  | max: 0.001797  \u001B[0m\n",
      "\u001B[32m2022-07-12 13:59:03\u001B[0m | \u001B[1mINFO    \u001B[0m | \u001B[1mvalidation:\u001B[0m\n",
      "\u001B[32m2022-07-12 13:59:03\u001B[0m | \u001B[1mINFO    \u001B[0m | \u001B[1mloss:           | avg: 549.6     | std: 9.686     | min: 530.3     | 25%: 542.8     | 50%: 552.6     | 75%: 557.4     | max: 562.0     \u001B[0m\n",
      "\u001B[32m2022-07-12 13:59:03\u001B[0m | \u001B[1mINFO    \u001B[0m | \u001B[1macc:            | avg: 0.9007    | std: 0.01436   | min: 0.8809    | 25%: 0.8906    | 50%: 0.8975    | 75%: 0.9097    | max: 0.9316    \u001B[0m\n"
     ]
    },
    {
     "data": {
      "application/vnd.jupyter.widget-view+json": {
       "model_id": "d8da9aa025054d2ebaab2ec8a1e9dfd5",
       "version_major": 2,
       "version_minor": 0
      },
      "text/plain": [
       "train:   0%|          | 0/73 [00:00<?, ?it/s]"
      ]
     },
     "metadata": {},
     "output_type": "display_data"
    },
    {
     "data": {
      "application/vnd.jupyter.widget-view+json": {
       "model_id": "cf92ce053fbd40689087fcaca2e558c8",
       "version_major": 2,
       "version_minor": 0
      },
      "text/plain": [
       "validation:   0%|          | 0/22 [00:00<?, ?it/s]"
      ]
     },
     "metadata": {},
     "output_type": "display_data"
    },
    {
     "name": "stdout",
     "output_type": "stream",
     "text": [
      "\u001B[32m2022-07-12 13:59:13\u001B[0m | \u001B[1mINFO    \u001B[0m | \u001B[1m\u001B[0m\n",
      "\u001B[32m2022-07-12 13:59:13\u001B[0m | \u001B[1mINFO    \u001B[0m | \u001B[1mFinished epoch 13/40:\u001B[0m\n",
      "\u001B[32m2022-07-12 13:59:13\u001B[0m | \u001B[1mINFO    \u001B[0m | \u001B[1mtrain:\u001B[0m\n",
      "\u001B[32m2022-07-12 13:59:13\u001B[0m | \u001B[1mINFO    \u001B[0m | \u001B[1mloss:           | avg: 501.9     | std: 10.21     | min: 487.5     | 25%: 493.1     | 50%: 499.9     | 75%: 508.9     | max: 534.5     \u001B[0m\n",
      "\u001B[32m2022-07-12 13:59:13\u001B[0m | \u001B[1mINFO    \u001B[0m | \u001B[1macc:            | avg: 0.9605    | std: 0.01349   | min: 0.9141    | 25%: 0.9531    | 50%: 0.9609    | 75%: 0.9688    | max: 0.9844    \u001B[0m\n",
      "\u001B[32m2022-07-12 13:59:13\u001B[0m | \u001B[1mINFO    \u001B[0m | \u001B[1mlr:             | avg: 0.001756  | std: nan       | min: 0.001756  | 25%: 0.001756  | 50%: 0.001756  | 75%: 0.001756  | max: 0.001756  \u001B[0m\n",
      "\u001B[32m2022-07-12 13:59:13\u001B[0m | \u001B[1mINFO    \u001B[0m | \u001B[1mvalidation:\u001B[0m\n",
      "\u001B[32m2022-07-12 13:59:13\u001B[0m | \u001B[1mINFO    \u001B[0m | \u001B[1mloss:           | avg: 541.3     | std: 8.811     | min: 525.9     | 25%: 535.5     | 50%: 542.8     | 75%: 546.0     | max: 561.3     \u001B[0m\n",
      "\u001B[32m2022-07-12 13:59:13\u001B[0m | \u001B[1mINFO    \u001B[0m | \u001B[1macc:            | avg: 0.9115    | std: 0.01029   | min: 0.8926    | 25%: 0.9043    | 50%: 0.9121    | 75%: 0.9175    | max: 0.9375    \u001B[0m\n"
     ]
    },
    {
     "data": {
      "application/vnd.jupyter.widget-view+json": {
       "model_id": "64cd8314562545cc90c53c6df2116127",
       "version_major": 2,
       "version_minor": 0
      },
      "text/plain": [
       "train:   0%|          | 0/73 [00:00<?, ?it/s]"
      ]
     },
     "metadata": {},
     "output_type": "display_data"
    },
    {
     "data": {
      "application/vnd.jupyter.widget-view+json": {
       "model_id": "79fadf5abd224210aabea95f0a31de4e",
       "version_major": 2,
       "version_minor": 0
      },
      "text/plain": [
       "validation:   0%|          | 0/22 [00:00<?, ?it/s]"
      ]
     },
     "metadata": {},
     "output_type": "display_data"
    },
    {
     "name": "stdout",
     "output_type": "stream",
     "text": [
      "\u001B[32m2022-07-12 13:59:22\u001B[0m | \u001B[1mINFO    \u001B[0m | \u001B[1m\u001B[0m\n",
      "\u001B[32m2022-07-12 13:59:22\u001B[0m | \u001B[1mINFO    \u001B[0m | \u001B[1mFinished epoch 14/40:\u001B[0m\n",
      "\u001B[32m2022-07-12 13:59:22\u001B[0m | \u001B[1mINFO    \u001B[0m | \u001B[1mtrain:\u001B[0m\n",
      "\u001B[32m2022-07-12 13:59:22\u001B[0m | \u001B[1mINFO    \u001B[0m | \u001B[1mloss:           | avg: 496.4     | std: 7.475     | min: 483.2     | 25%: 490.9     | 50%: 495.4     | 75%: 500.3     | max: 519.1     \u001B[0m\n",
      "\u001B[32m2022-07-12 13:59:22\u001B[0m | \u001B[1mINFO    \u001B[0m | \u001B[1macc:            | avg: 0.9656    | std: 0.009522  | min: 0.9395    | 25%: 0.959     | 50%: 0.9668    | 75%: 0.9727    | max: 0.9844    \u001B[0m\n",
      "\u001B[32m2022-07-12 13:59:22\u001B[0m | \u001B[1mINFO    \u001B[0m | \u001B[1mlr:             | avg: 0.001715  | std: nan       | min: 0.001715  | 25%: 0.001715  | 50%: 0.001715  | 75%: 0.001715  | max: 0.001715  \u001B[0m\n",
      "\u001B[32m2022-07-12 13:59:22\u001B[0m | \u001B[1mINFO    \u001B[0m | \u001B[1mvalidation:\u001B[0m\n",
      "\u001B[32m2022-07-12 13:59:22\u001B[0m | \u001B[1mINFO    \u001B[0m | \u001B[1mloss:           | avg: 546.6     | std: 8.559     | min: 530.2     | 25%: 542.6     | 50%: 544.6     | 75%: 551.5     | max: 566.2     \u001B[0m\n",
      "\u001B[32m2022-07-12 13:59:22\u001B[0m | \u001B[1mINFO    \u001B[0m | \u001B[1macc:            | avg: 0.9064    | std: 0.01413   | min: 0.875     | 25%: 0.8989    | 50%: 0.9082    | 75%: 0.9141    | max: 0.9336    \u001B[0m\n"
     ]
    },
    {
     "data": {
      "application/vnd.jupyter.widget-view+json": {
       "model_id": "6f67cbfe574b469ab2ad4ddebb9da21d",
       "version_major": 2,
       "version_minor": 0
      },
      "text/plain": [
       "train:   0%|          | 0/73 [00:00<?, ?it/s]"
      ]
     },
     "metadata": {},
     "output_type": "display_data"
    },
    {
     "data": {
      "application/vnd.jupyter.widget-view+json": {
       "model_id": "3659bd2a1d724c1f854df68656ed4895",
       "version_major": 2,
       "version_minor": 0
      },
      "text/plain": [
       "validation:   0%|          | 0/22 [00:00<?, ?it/s]"
      ]
     },
     "metadata": {},
     "output_type": "display_data"
    },
    {
     "name": "stdout",
     "output_type": "stream",
     "text": [
      "\u001B[32m2022-07-12 13:59:32\u001B[0m | \u001B[1mINFO    \u001B[0m | \u001B[1m\u001B[0m\n",
      "\u001B[32m2022-07-12 13:59:32\u001B[0m | \u001B[1mINFO    \u001B[0m | \u001B[1mFinished epoch 15/40:\u001B[0m\n",
      "\u001B[32m2022-07-12 13:59:32\u001B[0m | \u001B[1mINFO    \u001B[0m | \u001B[1mtrain:\u001B[0m\n",
      "\u001B[32m2022-07-12 13:59:32\u001B[0m | \u001B[1mINFO    \u001B[0m | \u001B[1mloss:           | avg: 489.0     | std: 7.508     | min: 475.4     | 25%: 484.3     | 50%: 488.4     | 75%: 493.0     | max: 513.6     \u001B[0m\n",
      "\u001B[32m2022-07-12 13:59:32\u001B[0m | \u001B[1mINFO    \u001B[0m | \u001B[1macc:            | avg: 0.9721    | std: 0.009992  | min: 0.9375    | 25%: 0.9688    | 50%: 0.9746    | 75%: 0.9785    | max: 0.9902    \u001B[0m\n",
      "\u001B[32m2022-07-12 13:59:32\u001B[0m | \u001B[1mINFO    \u001B[0m | \u001B[1mlr:             | avg: 0.001675  | std: nan       | min: 0.001675  | 25%: 0.001675  | 50%: 0.001675  | 75%: 0.001675  | max: 0.001675  \u001B[0m\n",
      "\u001B[32m2022-07-12 13:59:32\u001B[0m | \u001B[1mINFO    \u001B[0m | \u001B[1mvalidation:\u001B[0m\n",
      "\u001B[32m2022-07-12 13:59:32\u001B[0m | \u001B[1mINFO    \u001B[0m | \u001B[1mloss:           | avg: 542.2     | std: 7.691     | min: 529.3     | 25%: 535.9     | 50%: 543.4     | 75%: 547.1     | max: 558.9     \u001B[0m\n",
      "\u001B[32m2022-07-12 13:59:32\u001B[0m | \u001B[1mINFO    \u001B[0m | \u001B[1macc:            | avg: 0.9069    | std: 0.01043   | min: 0.8887    | 25%: 0.9004    | 50%: 0.9053    | 75%: 0.9141    | max: 0.9258    \u001B[0m\n"
     ]
    },
    {
     "data": {
      "application/vnd.jupyter.widget-view+json": {
       "model_id": "8b1525b1d4234b69be5bf45a002fba9d",
       "version_major": 2,
       "version_minor": 0
      },
      "text/plain": [
       "train:   0%|          | 0/73 [00:00<?, ?it/s]"
      ]
     },
     "metadata": {},
     "output_type": "display_data"
    },
    {
     "data": {
      "application/vnd.jupyter.widget-view+json": {
       "model_id": "eb21ad0db16f4b35b290f042157864ef",
       "version_major": 2,
       "version_minor": 0
      },
      "text/plain": [
       "validation:   0%|          | 0/22 [00:00<?, ?it/s]"
      ]
     },
     "metadata": {},
     "output_type": "display_data"
    },
    {
     "name": "stdout",
     "output_type": "stream",
     "text": [
      "\u001B[32m2022-07-12 13:59:42\u001B[0m | \u001B[1mINFO    \u001B[0m | \u001B[1m\u001B[0m\n",
      "\u001B[32m2022-07-12 13:59:42\u001B[0m | \u001B[1mINFO    \u001B[0m | \u001B[1mFinished epoch 16/40:\u001B[0m\n",
      "\u001B[32m2022-07-12 13:59:42\u001B[0m | \u001B[1mINFO    \u001B[0m | \u001B[1mtrain:\u001B[0m\n",
      "\u001B[32m2022-07-12 13:59:42\u001B[0m | \u001B[1mINFO    \u001B[0m | \u001B[1mloss:           | avg: 482.1     | std: 6.267     | min: 470.1     | 25%: 477.9     | 50%: 481.5     | 75%: 484.5     | max: 503.8     \u001B[0m\n",
      "\u001B[32m2022-07-12 13:59:42\u001B[0m | \u001B[1mINFO    \u001B[0m | \u001B[1macc:            | avg: 0.9781    | std: 0.008946  | min: 0.9453    | 25%: 0.9727    | 50%: 0.9785    | 75%: 0.9844    | max: 0.9922    \u001B[0m\n",
      "\u001B[32m2022-07-12 13:59:42\u001B[0m | \u001B[1mINFO    \u001B[0m | \u001B[1mlr:             | avg: 0.001634  | std: nan       | min: 0.001634  | 25%: 0.001634  | 50%: 0.001634  | 75%: 0.001634  | max: 0.001634  \u001B[0m\n",
      "\u001B[32m2022-07-12 13:59:42\u001B[0m | \u001B[1mINFO    \u001B[0m | \u001B[1mvalidation:\u001B[0m\n",
      "\u001B[32m2022-07-12 13:59:42\u001B[0m | \u001B[1mINFO    \u001B[0m | \u001B[1mloss:           | avg: 544.6     | std: 10.21     | min: 523.6     | 25%: 539.1     | 50%: 543.5     | 75%: 550.5     | max: 570.2     \u001B[0m\n",
      "\u001B[32m2022-07-12 13:59:42\u001B[0m | \u001B[1mINFO    \u001B[0m | \u001B[1macc:            | avg: 0.9048    | std: 0.01313   | min: 0.8789    | 25%: 0.897     | 50%: 0.9043    | 75%: 0.9102    | max: 0.9316    \u001B[0m\n"
     ]
    },
    {
     "data": {
      "application/vnd.jupyter.widget-view+json": {
       "model_id": "4e6137c0565e4913ab14f09330c0899f",
       "version_major": 2,
       "version_minor": 0
      },
      "text/plain": [
       "train:   0%|          | 0/73 [00:00<?, ?it/s]"
      ]
     },
     "metadata": {},
     "output_type": "display_data"
    },
    {
     "data": {
      "application/vnd.jupyter.widget-view+json": {
       "model_id": "37afae4edda244b688f418dcf1aa67ed",
       "version_major": 2,
       "version_minor": 0
      },
      "text/plain": [
       "validation:   0%|          | 0/22 [00:00<?, ?it/s]"
      ]
     },
     "metadata": {},
     "output_type": "display_data"
    },
    {
     "name": "stdout",
     "output_type": "stream",
     "text": [
      "\u001B[32m2022-07-12 13:59:51\u001B[0m | \u001B[1mINFO    \u001B[0m | \u001B[1m\u001B[0m\n",
      "\u001B[32m2022-07-12 13:59:51\u001B[0m | \u001B[1mINFO    \u001B[0m | \u001B[1mFinished epoch 17/40:\u001B[0m\n",
      "\u001B[32m2022-07-12 13:59:51\u001B[0m | \u001B[1mINFO    \u001B[0m | \u001B[1mtrain:\u001B[0m\n",
      "\u001B[32m2022-07-12 13:59:51\u001B[0m | \u001B[1mINFO    \u001B[0m | \u001B[1mloss:           | avg: 476.5     | std: 5.921     | min: 467.0     | 25%: 472.4     | 50%: 475.7     | 75%: 480.2     | max: 493.4     \u001B[0m\n",
      "\u001B[32m2022-07-12 13:59:51\u001B[0m | \u001B[1mINFO    \u001B[0m | \u001B[1macc:            | avg: 0.9841    | std: 0.007127  | min: 0.9668    | 25%: 0.9805    | 50%: 0.9844    | 75%: 0.9883    | max: 0.998     \u001B[0m\n",
      "\u001B[32m2022-07-12 13:59:51\u001B[0m | \u001B[1mINFO    \u001B[0m | \u001B[1mlr:             | avg: 0.001593  | std: nan       | min: 0.001593  | 25%: 0.001593  | 50%: 0.001593  | 75%: 0.001593  | max: 0.001593  \u001B[0m\n",
      "\u001B[32m2022-07-12 13:59:51\u001B[0m | \u001B[1mINFO    \u001B[0m | \u001B[1mvalidation:\u001B[0m\n",
      "\u001B[32m2022-07-12 13:59:51\u001B[0m | \u001B[1mINFO    \u001B[0m | \u001B[1mloss:           | avg: 531.9     | std: 8.004     | min: 520.1     | 25%: 525.7     | 50%: 529.6     | 75%: 537.2     | max: 546.7     \u001B[0m\n",
      "\u001B[32m2022-07-12 13:59:51\u001B[0m | \u001B[1mINFO    \u001B[0m | \u001B[1macc:            | avg: 0.921     | std: 0.01324   | min: 0.8887    | 25%: 0.9126    | 50%: 0.9219    | 75%: 0.9307    | max: 0.9414    \u001B[0m\n"
     ]
    },
    {
     "data": {
      "application/vnd.jupyter.widget-view+json": {
       "model_id": "5f1b65be458c4889bb73c62b103bfaac",
       "version_major": 2,
       "version_minor": 0
      },
      "text/plain": [
       "train:   0%|          | 0/73 [00:00<?, ?it/s]"
      ]
     },
     "metadata": {},
     "output_type": "display_data"
    },
    {
     "data": {
      "application/vnd.jupyter.widget-view+json": {
       "model_id": "0d071bdd80944d8fa979a52c9ed56ec5",
       "version_major": 2,
       "version_minor": 0
      },
      "text/plain": [
       "validation:   0%|          | 0/22 [00:00<?, ?it/s]"
      ]
     },
     "metadata": {},
     "output_type": "display_data"
    },
    {
     "name": "stdout",
     "output_type": "stream",
     "text": [
      "\u001B[32m2022-07-12 14:00:01\u001B[0m | \u001B[1mINFO    \u001B[0m | \u001B[1m\u001B[0m\n",
      "\u001B[32m2022-07-12 14:00:01\u001B[0m | \u001B[1mINFO    \u001B[0m | \u001B[1mFinished epoch 18/40:\u001B[0m\n",
      "\u001B[32m2022-07-12 14:00:01\u001B[0m | \u001B[1mINFO    \u001B[0m | \u001B[1mtrain:\u001B[0m\n",
      "\u001B[32m2022-07-12 14:00:01\u001B[0m | \u001B[1mINFO    \u001B[0m | \u001B[1mloss:           | avg: 473.8     | std: 5.249     | min: 464.3     | 25%: 469.8     | 50%: 473.0     | 75%: 477.0     | max: 487.5     \u001B[0m\n",
      "\u001B[32m2022-07-12 14:00:01\u001B[0m | \u001B[1mINFO    \u001B[0m | \u001B[1macc:            | avg: 0.9855    | std: 0.006591  | min: 0.9688    | 25%: 0.9824    | 50%: 0.9863    | 75%: 0.9902    | max: 0.998     \u001B[0m\n",
      "\u001B[32m2022-07-12 14:00:01\u001B[0m | \u001B[1mINFO    \u001B[0m | \u001B[1mlr:             | avg: 0.001552  | std: nan       | min: 0.001552  | 25%: 0.001552  | 50%: 0.001552  | 75%: 0.001552  | max: 0.001552  \u001B[0m\n",
      "\u001B[32m2022-07-12 14:00:01\u001B[0m | \u001B[1mINFO    \u001B[0m | \u001B[1mvalidation:\u001B[0m\n",
      "\u001B[32m2022-07-12 14:00:01\u001B[0m | \u001B[1mINFO    \u001B[0m | \u001B[1mloss:           | avg: 534.1     | std: 10.3      | min: 513.5     | 25%: 526.5     | 50%: 531.9     | 75%: 543.1     | max: 553.5     \u001B[0m\n",
      "\u001B[32m2022-07-12 14:00:01\u001B[0m | \u001B[1mINFO    \u001B[0m | \u001B[1macc:            | avg: 0.9155    | std: 0.01322   | min: 0.8906    | 25%: 0.9072    | 50%: 0.917     | 75%: 0.9277    | max: 0.9355    \u001B[0m\n"
     ]
    },
    {
     "data": {
      "application/vnd.jupyter.widget-view+json": {
       "model_id": "7ac2e079ab144aab91dff64da2da2537",
       "version_major": 2,
       "version_minor": 0
      },
      "text/plain": [
       "train:   0%|          | 0/73 [00:00<?, ?it/s]"
      ]
     },
     "metadata": {},
     "output_type": "display_data"
    },
    {
     "data": {
      "application/vnd.jupyter.widget-view+json": {
       "model_id": "70e051da7822468d9e4e9e343467b4c7",
       "version_major": 2,
       "version_minor": 0
      },
      "text/plain": [
       "validation:   0%|          | 0/22 [00:00<?, ?it/s]"
      ]
     },
     "metadata": {},
     "output_type": "display_data"
    },
    {
     "name": "stdout",
     "output_type": "stream",
     "text": [
      "\u001B[32m2022-07-12 14:00:10\u001B[0m | \u001B[1mINFO    \u001B[0m | \u001B[1m\u001B[0m\n",
      "\u001B[32m2022-07-12 14:00:10\u001B[0m | \u001B[1mINFO    \u001B[0m | \u001B[1mFinished epoch 19/40:\u001B[0m\n",
      "\u001B[32m2022-07-12 14:00:10\u001B[0m | \u001B[1mINFO    \u001B[0m | \u001B[1mtrain:\u001B[0m\n",
      "\u001B[32m2022-07-12 14:00:11\u001B[0m | \u001B[1mINFO    \u001B[0m | \u001B[1mloss:           | avg: 469.9     | std: 4.956     | min: 461.3     | 25%: 466.9     | 50%: 469.2     | 75%: 472.3     | max: 488.0     \u001B[0m\n",
      "\u001B[32m2022-07-12 14:00:11\u001B[0m | \u001B[1mINFO    \u001B[0m | \u001B[1macc:            | avg: 0.9889    | std: 0.005992  | min: 0.9668    | 25%: 0.9844    | 50%: 0.9902    | 75%: 0.9941    | max: 1.0       \u001B[0m\n",
      "\u001B[32m2022-07-12 14:00:11\u001B[0m | \u001B[1mINFO    \u001B[0m | \u001B[1mlr:             | avg: 0.001512  | std: nan       | min: 0.001512  | 25%: 0.001512  | 50%: 0.001512  | 75%: 0.001512  | max: 0.001512  \u001B[0m\n",
      "\u001B[32m2022-07-12 14:00:11\u001B[0m | \u001B[1mINFO    \u001B[0m | \u001B[1mvalidation:\u001B[0m\n",
      "\u001B[32m2022-07-12 14:00:11\u001B[0m | \u001B[1mINFO    \u001B[0m | \u001B[1mloss:           | avg: 526.9     | std: 7.265     | min: 509.4     | 25%: 523.3     | 50%: 527.2     | 75%: 531.4     | max: 540.4     \u001B[0m\n",
      "\u001B[32m2022-07-12 14:00:11\u001B[0m | \u001B[1mINFO    \u001B[0m | \u001B[1macc:            | avg: 0.9192    | std: 0.01096   | min: 0.9023    | 25%: 0.9111    | 50%: 0.918     | 75%: 0.9272    | max: 0.9473    \u001B[0m\n"
     ]
    },
    {
     "data": {
      "application/vnd.jupyter.widget-view+json": {
       "model_id": "ba78f19996444f428c031f7fe58891bb",
       "version_major": 2,
       "version_minor": 0
      },
      "text/plain": [
       "train:   0%|          | 0/73 [00:00<?, ?it/s]"
      ]
     },
     "metadata": {},
     "output_type": "display_data"
    },
    {
     "data": {
      "application/vnd.jupyter.widget-view+json": {
       "model_id": "7d2328bb67f0439b9e64bf8a164012ce",
       "version_major": 2,
       "version_minor": 0
      },
      "text/plain": [
       "validation:   0%|          | 0/22 [00:00<?, ?it/s]"
      ]
     },
     "metadata": {},
     "output_type": "display_data"
    },
    {
     "name": "stdout",
     "output_type": "stream",
     "text": [
      "\u001B[32m2022-07-12 14:00:20\u001B[0m | \u001B[1mINFO    \u001B[0m | \u001B[1m\u001B[0m\n",
      "\u001B[32m2022-07-12 14:00:20\u001B[0m | \u001B[1mINFO    \u001B[0m | \u001B[1mFinished epoch 20/40:\u001B[0m\n",
      "\u001B[32m2022-07-12 14:00:20\u001B[0m | \u001B[1mINFO    \u001B[0m | \u001B[1mtrain:\u001B[0m\n",
      "\u001B[32m2022-07-12 14:00:20\u001B[0m | \u001B[1mINFO    \u001B[0m | \u001B[1mloss:           | avg: 467.5     | std: 6.299     | min: 459.8     | 25%: 463.3     | 50%: 465.5     | 75%: 470.3     | max: 485.9     \u001B[0m\n",
      "\u001B[32m2022-07-12 14:00:20\u001B[0m | \u001B[1mINFO    \u001B[0m | \u001B[1macc:            | avg: 0.9901    | std: 0.006713  | min: 0.9668    | 25%: 0.9883    | 50%: 0.9922    | 75%: 0.9941    | max: 0.998     \u001B[0m\n",
      "\u001B[32m2022-07-12 14:00:20\u001B[0m | \u001B[1mINFO    \u001B[0m | \u001B[1mlr:             | avg: 0.001471  | std: nan       | min: 0.001471  | 25%: 0.001471  | 50%: 0.001471  | 75%: 0.001471  | max: 0.001471  \u001B[0m\n",
      "\u001B[32m2022-07-12 14:00:20\u001B[0m | \u001B[1mINFO    \u001B[0m | \u001B[1mvalidation:\u001B[0m\n",
      "\u001B[32m2022-07-12 14:00:20\u001B[0m | \u001B[1mINFO    \u001B[0m | \u001B[1mloss:           | avg: 531.7     | std: 11.66     | min: 504.2     | 25%: 525.4     | 50%: 531.8     | 75%: 537.8     | max: 559.5     \u001B[0m\n",
      "\u001B[32m2022-07-12 14:00:20\u001B[0m | \u001B[1mINFO    \u001B[0m | \u001B[1macc:            | avg: 0.9178    | std: 0.01373   | min: 0.8906    | 25%: 0.9082    | 50%: 0.915     | 75%: 0.9238    | max: 0.9492    \u001B[0m\n"
     ]
    },
    {
     "data": {
      "application/vnd.jupyter.widget-view+json": {
       "model_id": "40b6095dc34842f69e104da5ec53ea00",
       "version_major": 2,
       "version_minor": 0
      },
      "text/plain": [
       "train:   0%|          | 0/73 [00:00<?, ?it/s]"
      ]
     },
     "metadata": {},
     "output_type": "display_data"
    },
    {
     "data": {
      "application/vnd.jupyter.widget-view+json": {
       "model_id": "2b7974ce79ee4a75b733c6cd217e0cc3",
       "version_major": 2,
       "version_minor": 0
      },
      "text/plain": [
       "validation:   0%|          | 0/22 [00:00<?, ?it/s]"
      ]
     },
     "metadata": {},
     "output_type": "display_data"
    },
    {
     "name": "stdout",
     "output_type": "stream",
     "text": [
      "\u001B[32m2022-07-12 14:00:30\u001B[0m | \u001B[1mINFO    \u001B[0m | \u001B[1m\u001B[0m\n",
      "\u001B[32m2022-07-12 14:00:30\u001B[0m | \u001B[1mINFO    \u001B[0m | \u001B[1mFinished epoch 21/40:\u001B[0m\n",
      "\u001B[32m2022-07-12 14:00:30\u001B[0m | \u001B[1mINFO    \u001B[0m | \u001B[1mtrain:\u001B[0m\n",
      "\u001B[32m2022-07-12 14:00:30\u001B[0m | \u001B[1mINFO    \u001B[0m | \u001B[1mloss:           | avg: 464.0     | std: 4.175     | min: 456.3     | 25%: 460.5     | 50%: 463.7     | 75%: 466.8     | max: 476.0     \u001B[0m\n",
      "\u001B[32m2022-07-12 14:00:30\u001B[0m | \u001B[1mINFO    \u001B[0m | \u001B[1macc:            | avg: 0.9929    | std: 0.004541  | min: 0.9824    | 25%: 0.9902    | 50%: 0.9941    | 75%: 0.9961    | max: 1.0       \u001B[0m\n",
      "\u001B[32m2022-07-12 14:00:30\u001B[0m | \u001B[1mINFO    \u001B[0m | \u001B[1mlr:             | avg: 0.00143   | std: nan       | min: 0.00143   | 25%: 0.00143   | 50%: 0.00143   | 75%: 0.00143   | max: 0.00143   \u001B[0m\n",
      "\u001B[32m2022-07-12 14:00:30\u001B[0m | \u001B[1mINFO    \u001B[0m | \u001B[1mvalidation:\u001B[0m\n",
      "\u001B[32m2022-07-12 14:00:30\u001B[0m | \u001B[1mINFO    \u001B[0m | \u001B[1mloss:           | avg: 522.5     | std: 9.792     | min: 503.4     | 25%: 514.9     | 50%: 523.4     | 75%: 530.6     | max: 539.1     \u001B[0m\n",
      "\u001B[32m2022-07-12 14:00:30\u001B[0m | \u001B[1mINFO    \u001B[0m | \u001B[1macc:            | avg: 0.9295    | std: 0.013     | min: 0.9004    | 25%: 0.9219    | 50%: 0.9287    | 75%: 0.939     | max: 0.957     \u001B[0m\n"
     ]
    },
    {
     "data": {
      "application/vnd.jupyter.widget-view+json": {
       "model_id": "a24b75167e174bf282008791556f1433",
       "version_major": 2,
       "version_minor": 0
      },
      "text/plain": [
       "train:   0%|          | 0/73 [00:00<?, ?it/s]"
      ]
     },
     "metadata": {},
     "output_type": "display_data"
    },
    {
     "data": {
      "application/vnd.jupyter.widget-view+json": {
       "model_id": "705a0781b735425586a7d5faceb1c294",
       "version_major": 2,
       "version_minor": 0
      },
      "text/plain": [
       "validation:   0%|          | 0/22 [00:00<?, ?it/s]"
      ]
     },
     "metadata": {},
     "output_type": "display_data"
    },
    {
     "name": "stdout",
     "output_type": "stream",
     "text": [
      "\u001B[32m2022-07-12 14:00:40\u001B[0m | \u001B[1mINFO    \u001B[0m | \u001B[1m\u001B[0m\n",
      "\u001B[32m2022-07-12 14:00:40\u001B[0m | \u001B[1mINFO    \u001B[0m | \u001B[1mFinished epoch 22/40:\u001B[0m\n",
      "\u001B[32m2022-07-12 14:00:40\u001B[0m | \u001B[1mINFO    \u001B[0m | \u001B[1mtrain:\u001B[0m\n",
      "\u001B[32m2022-07-12 14:00:40\u001B[0m | \u001B[1mINFO    \u001B[0m | \u001B[1mloss:           | avg: 462.5     | std: 4.31      | min: 455.3     | 25%: 459.8     | 50%: 461.4     | 75%: 464.4     | max: 475.6     \u001B[0m\n",
      "\u001B[32m2022-07-12 14:00:40\u001B[0m | \u001B[1mINFO    \u001B[0m | \u001B[1macc:            | avg: 0.9939    | std: 0.00416   | min: 0.9805    | 25%: 0.9922    | 50%: 0.9941    | 75%: 0.9961    | max: 1.0       \u001B[0m\n",
      "\u001B[32m2022-07-12 14:00:40\u001B[0m | \u001B[1mINFO    \u001B[0m | \u001B[1mlr:             | avg: 0.00139   | std: nan       | min: 0.00139   | 25%: 0.00139   | 50%: 0.00139   | 75%: 0.00139   | max: 0.00139   \u001B[0m\n",
      "\u001B[32m2022-07-12 14:00:40\u001B[0m | \u001B[1mINFO    \u001B[0m | \u001B[1mvalidation:\u001B[0m\n",
      "\u001B[32m2022-07-12 14:00:40\u001B[0m | \u001B[1mINFO    \u001B[0m | \u001B[1mloss:           | avg: 520.9     | std: 10.04     | min: 507.9     | 25%: 513.6     | 50%: 518.9     | 75%: 523.2     | max: 548.0     \u001B[0m\n",
      "\u001B[32m2022-07-12 14:00:40\u001B[0m | \u001B[1mINFO    \u001B[0m | \u001B[1macc:            | avg: 0.9266    | std: 0.01251   | min: 0.8906    | 25%: 0.9224    | 50%: 0.9287    | 75%: 0.9316    | max: 0.9512    \u001B[0m\n"
     ]
    },
    {
     "data": {
      "application/vnd.jupyter.widget-view+json": {
       "model_id": "602363762009452091afe510fa796e00",
       "version_major": 2,
       "version_minor": 0
      },
      "text/plain": [
       "train:   0%|          | 0/73 [00:00<?, ?it/s]"
      ]
     },
     "metadata": {},
     "output_type": "display_data"
    },
    {
     "data": {
      "application/vnd.jupyter.widget-view+json": {
       "model_id": "3e19c3a77e2d4a8f991537b217621423",
       "version_major": 2,
       "version_minor": 0
      },
      "text/plain": [
       "validation:   0%|          | 0/22 [00:00<?, ?it/s]"
      ]
     },
     "metadata": {},
     "output_type": "display_data"
    },
    {
     "name": "stdout",
     "output_type": "stream",
     "text": [
      "\u001B[32m2022-07-12 14:00:49\u001B[0m | \u001B[1mINFO    \u001B[0m | \u001B[1m\u001B[0m\n",
      "\u001B[32m2022-07-12 14:00:49\u001B[0m | \u001B[1mINFO    \u001B[0m | \u001B[1mFinished epoch 23/40:\u001B[0m\n",
      "\u001B[32m2022-07-12 14:00:49\u001B[0m | \u001B[1mINFO    \u001B[0m | \u001B[1mtrain:\u001B[0m\n",
      "\u001B[32m2022-07-12 14:00:49\u001B[0m | \u001B[1mINFO    \u001B[0m | \u001B[1mloss:           | avg: 460.3     | std: 4.609     | min: 453.4     | 25%: 457.4     | 50%: 458.9     | 75%: 461.7     | max: 477.9     \u001B[0m\n",
      "\u001B[32m2022-07-12 14:00:49\u001B[0m | \u001B[1mINFO    \u001B[0m | \u001B[1macc:            | avg: 0.9946    | std: 0.005196  | min: 0.9727    | 25%: 0.9941    | 50%: 0.9961    | 75%: 0.998     | max: 1.0       \u001B[0m\n",
      "\u001B[32m2022-07-12 14:00:49\u001B[0m | \u001B[1mINFO    \u001B[0m | \u001B[1mlr:             | avg: 0.001349  | std: nan       | min: 0.001349  | 25%: 0.001349  | 50%: 0.001349  | 75%: 0.001349  | max: 0.001349  \u001B[0m\n",
      "\u001B[32m2022-07-12 14:00:49\u001B[0m | \u001B[1mINFO    \u001B[0m | \u001B[1mvalidation:\u001B[0m\n",
      "\u001B[32m2022-07-12 14:00:49\u001B[0m | \u001B[1mINFO    \u001B[0m | \u001B[1mloss:           | avg: 519.1     | std: 9.063     | min: 499.6     | 25%: 515.0     | 50%: 521.5     | 75%: 525.8     | max: 534.2     \u001B[0m\n",
      "\u001B[32m2022-07-12 14:00:49\u001B[0m | \u001B[1mINFO    \u001B[0m | \u001B[1macc:            | avg: 0.9295    | std: 0.01232   | min: 0.9082    | 25%: 0.9224    | 50%: 0.9297    | 75%: 0.936     | max: 0.9492    \u001B[0m\n"
     ]
    },
    {
     "data": {
      "application/vnd.jupyter.widget-view+json": {
       "model_id": "cfedad66923c4cafac80682f4f307fad",
       "version_major": 2,
       "version_minor": 0
      },
      "text/plain": [
       "train:   0%|          | 0/73 [00:00<?, ?it/s]"
      ]
     },
     "metadata": {},
     "output_type": "display_data"
    },
    {
     "data": {
      "application/vnd.jupyter.widget-view+json": {
       "model_id": "90f20bf4fca44763accd764667529cd0",
       "version_major": 2,
       "version_minor": 0
      },
      "text/plain": [
       "validation:   0%|          | 0/22 [00:00<?, ?it/s]"
      ]
     },
     "metadata": {},
     "output_type": "display_data"
    },
    {
     "name": "stdout",
     "output_type": "stream",
     "text": [
      "\u001B[32m2022-07-12 14:00:59\u001B[0m | \u001B[1mINFO    \u001B[0m | \u001B[1m\u001B[0m\n",
      "\u001B[32m2022-07-12 14:00:59\u001B[0m | \u001B[1mINFO    \u001B[0m | \u001B[1mFinished epoch 24/40:\u001B[0m\n",
      "\u001B[32m2022-07-12 14:00:59\u001B[0m | \u001B[1mINFO    \u001B[0m | \u001B[1mtrain:\u001B[0m\n",
      "\u001B[32m2022-07-12 14:00:59\u001B[0m | \u001B[1mINFO    \u001B[0m | \u001B[1mloss:           | avg: 458.1     | std: 3.702     | min: 453.4     | 25%: 455.4     | 50%: 457.3     | 75%: 460.1     | max: 470.7     \u001B[0m\n",
      "\u001B[32m2022-07-12 14:00:59\u001B[0m | \u001B[1mINFO    \u001B[0m | \u001B[1macc:            | avg: 0.9965    | std: 0.003409  | min: 0.9844    | 25%: 0.9941    | 50%: 0.9961    | 75%: 1.0       | max: 1.0       \u001B[0m\n",
      "\u001B[32m2022-07-12 14:00:59\u001B[0m | \u001B[1mINFO    \u001B[0m | \u001B[1mlr:             | avg: 0.001308  | std: nan       | min: 0.001308  | 25%: 0.001308  | 50%: 0.001308  | 75%: 0.001308  | max: 0.001308  \u001B[0m\n",
      "\u001B[32m2022-07-12 14:00:59\u001B[0m | \u001B[1mINFO    \u001B[0m | \u001B[1mvalidation:\u001B[0m\n",
      "\u001B[32m2022-07-12 14:00:59\u001B[0m | \u001B[1mINFO    \u001B[0m | \u001B[1mloss:           | avg: 520.8     | std: 6.191     | min: 507.4     | 25%: 517.5     | 50%: 520.6     | 75%: 525.2     | max: 531.0     \u001B[0m\n",
      "\u001B[32m2022-07-12 14:00:59\u001B[0m | \u001B[1mINFO    \u001B[0m | \u001B[1macc:            | avg: 0.9264    | std: 0.009632  | min: 0.9082    | 25%: 0.9209    | 50%: 0.9258    | 75%: 0.9351    | max: 0.9414    \u001B[0m\n"
     ]
    },
    {
     "data": {
      "application/vnd.jupyter.widget-view+json": {
       "model_id": "214ec47c2e304bde9bf165a52ffcbedb",
       "version_major": 2,
       "version_minor": 0
      },
      "text/plain": [
       "train:   0%|          | 0/73 [00:00<?, ?it/s]"
      ]
     },
     "metadata": {},
     "output_type": "display_data"
    },
    {
     "data": {
      "application/vnd.jupyter.widget-view+json": {
       "model_id": "b95a857b51fe45d7b83cbfc03c6535b9",
       "version_major": 2,
       "version_minor": 0
      },
      "text/plain": [
       "validation:   0%|          | 0/22 [00:00<?, ?it/s]"
      ]
     },
     "metadata": {},
     "output_type": "display_data"
    },
    {
     "name": "stdout",
     "output_type": "stream",
     "text": [
      "\u001B[32m2022-07-12 14:01:09\u001B[0m | \u001B[1mINFO    \u001B[0m | \u001B[1m\u001B[0m\n",
      "\u001B[32m2022-07-12 14:01:09\u001B[0m | \u001B[1mINFO    \u001B[0m | \u001B[1mFinished epoch 25/40:\u001B[0m\n",
      "\u001B[32m2022-07-12 14:01:09\u001B[0m | \u001B[1mINFO    \u001B[0m | \u001B[1mtrain:\u001B[0m\n",
      "\u001B[32m2022-07-12 14:01:09\u001B[0m | \u001B[1mINFO    \u001B[0m | \u001B[1mloss:           | avg: 456.9     | std: 3.766     | min: 452.4     | 25%: 454.4     | 50%: 455.6     | 75%: 458.6     | max: 470.8     \u001B[0m\n",
      "\u001B[32m2022-07-12 14:01:09\u001B[0m | \u001B[1mINFO    \u001B[0m | \u001B[1macc:            | avg: 0.9969    | std: 0.003752  | min: 0.9785    | 25%: 0.9961    | 50%: 0.998     | 75%: 1.0       | max: 1.0       \u001B[0m\n",
      "\u001B[32m2022-07-12 14:01:09\u001B[0m | \u001B[1mINFO    \u001B[0m | \u001B[1mlr:             | avg: 0.001267  | std: nan       | min: 0.001267  | 25%: 0.001267  | 50%: 0.001267  | 75%: 0.001267  | max: 0.001267  \u001B[0m\n",
      "\u001B[32m2022-07-12 14:01:09\u001B[0m | \u001B[1mINFO    \u001B[0m | \u001B[1mvalidation:\u001B[0m\n",
      "\u001B[32m2022-07-12 14:01:09\u001B[0m | \u001B[1mINFO    \u001B[0m | \u001B[1mloss:           | avg: 514.7     | std: 9.118     | min: 497.7     | 25%: 507.6     | 50%: 516.2     | 75%: 521.0     | max: 529.7     \u001B[0m\n",
      "\u001B[32m2022-07-12 14:01:09\u001B[0m | \u001B[1mINFO    \u001B[0m | \u001B[1macc:            | avg: 0.932     | std: 0.01164   | min: 0.916     | 25%: 0.9209    | 50%: 0.9307    | 75%: 0.9414    | max: 0.957     \u001B[0m\n"
     ]
    },
    {
     "data": {
      "application/vnd.jupyter.widget-view+json": {
       "model_id": "d42b10f004de4a0b9e8264b8b19d59b3",
       "version_major": 2,
       "version_minor": 0
      },
      "text/plain": [
       "train:   0%|          | 0/73 [00:00<?, ?it/s]"
      ]
     },
     "metadata": {},
     "output_type": "display_data"
    },
    {
     "data": {
      "application/vnd.jupyter.widget-view+json": {
       "model_id": "481042fcdf1543d98e21583bd53e6c63",
       "version_major": 2,
       "version_minor": 0
      },
      "text/plain": [
       "validation:   0%|          | 0/22 [00:00<?, ?it/s]"
      ]
     },
     "metadata": {},
     "output_type": "display_data"
    },
    {
     "name": "stdout",
     "output_type": "stream",
     "text": [
      "\u001B[32m2022-07-12 14:01:18\u001B[0m | \u001B[1mINFO    \u001B[0m | \u001B[1m\u001B[0m\n",
      "\u001B[32m2022-07-12 14:01:18\u001B[0m | \u001B[1mINFO    \u001B[0m | \u001B[1mFinished epoch 26/40:\u001B[0m\n",
      "\u001B[32m2022-07-12 14:01:18\u001B[0m | \u001B[1mINFO    \u001B[0m | \u001B[1mtrain:\u001B[0m\n",
      "\u001B[32m2022-07-12 14:01:18\u001B[0m | \u001B[1mINFO    \u001B[0m | \u001B[1mloss:           | avg: 454.3     | std: 2.341     | min: 451.0     | 25%: 452.7     | 50%: 454.0     | 75%: 455.0     | max: 465.6     \u001B[0m\n",
      "\u001B[32m2022-07-12 14:01:18\u001B[0m | \u001B[1mINFO    \u001B[0m | \u001B[1macc:            | avg: 0.9981    | std: 0.001993  | min: 0.9922    | 25%: 0.9961    | 50%: 0.998     | 75%: 1.0       | max: 1.0       \u001B[0m\n",
      "\u001B[32m2022-07-12 14:01:18\u001B[0m | \u001B[1mINFO    \u001B[0m | \u001B[1mlr:             | avg: 0.001227  | std: nan       | min: 0.001227  | 25%: 0.001227  | 50%: 0.001227  | 75%: 0.001227  | max: 0.001227  \u001B[0m\n",
      "\u001B[32m2022-07-12 14:01:18\u001B[0m | \u001B[1mINFO    \u001B[0m | \u001B[1mvalidation:\u001B[0m\n",
      "\u001B[32m2022-07-12 14:01:18\u001B[0m | \u001B[1mINFO    \u001B[0m | \u001B[1mloss:           | avg: 514.3     | std: 8.944     | min: 499.5     | 25%: 506.7     | 50%: 514.1     | 75%: 521.8     | max: 533.0     \u001B[0m\n",
      "\u001B[32m2022-07-12 14:01:18\u001B[0m | \u001B[1mINFO    \u001B[0m | \u001B[1macc:            | avg: 0.9335    | std: 0.01215   | min: 0.9102    | 25%: 0.9243    | 50%: 0.9297    | 75%: 0.9453    | max: 0.9512    \u001B[0m\n"
     ]
    },
    {
     "data": {
      "application/vnd.jupyter.widget-view+json": {
       "model_id": "d87a672504364d299ca8c3af01d95531",
       "version_major": 2,
       "version_minor": 0
      },
      "text/plain": [
       "train:   0%|          | 0/73 [00:00<?, ?it/s]"
      ]
     },
     "metadata": {},
     "output_type": "display_data"
    },
    {
     "data": {
      "application/vnd.jupyter.widget-view+json": {
       "model_id": "07d53660e90948edae05f901ace32ce4",
       "version_major": 2,
       "version_minor": 0
      },
      "text/plain": [
       "validation:   0%|          | 0/22 [00:00<?, ?it/s]"
      ]
     },
     "metadata": {},
     "output_type": "display_data"
    },
    {
     "name": "stdout",
     "output_type": "stream",
     "text": [
      "\u001B[32m2022-07-12 14:01:28\u001B[0m | \u001B[1mINFO    \u001B[0m | \u001B[1m\u001B[0m\n",
      "\u001B[32m2022-07-12 14:01:28\u001B[0m | \u001B[1mINFO    \u001B[0m | \u001B[1mFinished epoch 27/40:\u001B[0m\n",
      "\u001B[32m2022-07-12 14:01:28\u001B[0m | \u001B[1mINFO    \u001B[0m | \u001B[1mtrain:\u001B[0m\n",
      "\u001B[32m2022-07-12 14:01:28\u001B[0m | \u001B[1mINFO    \u001B[0m | \u001B[1mloss:           | avg: 454.2     | std: 2.671     | min: 450.1     | 25%: 452.0     | 50%: 453.9     | 75%: 455.9     | max: 461.8     \u001B[0m\n",
      "\u001B[32m2022-07-12 14:01:28\u001B[0m | \u001B[1mINFO    \u001B[0m | \u001B[1macc:            | avg: 0.9982    | std: 0.002465  | min: 0.9902    | 25%: 0.998     | 50%: 0.998     | 75%: 1.0       | max: 1.0       \u001B[0m\n",
      "\u001B[32m2022-07-12 14:01:28\u001B[0m | \u001B[1mINFO    \u001B[0m | \u001B[1mlr:             | avg: 0.001186  | std: nan       | min: 0.001186  | 25%: 0.001186  | 50%: 0.001186  | 75%: 0.001186  | max: 0.001186  \u001B[0m\n",
      "\u001B[32m2022-07-12 14:01:28\u001B[0m | \u001B[1mINFO    \u001B[0m | \u001B[1mvalidation:\u001B[0m\n",
      "\u001B[32m2022-07-12 14:01:28\u001B[0m | \u001B[1mINFO    \u001B[0m | \u001B[1mloss:           | avg: 520.2     | std: 9.369     | min: 502.8     | 25%: 513.0     | 50%: 519.5     | 75%: 526.7     | max: 539.4     \u001B[0m\n",
      "\u001B[32m2022-07-12 14:01:28\u001B[0m | \u001B[1mINFO    \u001B[0m | \u001B[1macc:            | avg: 0.9274    | std: 0.01154   | min: 0.9062    | 25%: 0.9209    | 50%: 0.9297    | 75%: 0.9351    | max: 0.9473    \u001B[0m\n"
     ]
    },
    {
     "data": {
      "application/vnd.jupyter.widget-view+json": {
       "model_id": "7e5af75390c447e786a90e4e420379e8",
       "version_major": 2,
       "version_minor": 0
      },
      "text/plain": [
       "train:   0%|          | 0/73 [00:00<?, ?it/s]"
      ]
     },
     "metadata": {},
     "output_type": "display_data"
    },
    {
     "data": {
      "application/vnd.jupyter.widget-view+json": {
       "model_id": "0c536a4828224c4daff8ba273bee75a4",
       "version_major": 2,
       "version_minor": 0
      },
      "text/plain": [
       "validation:   0%|          | 0/22 [00:00<?, ?it/s]"
      ]
     },
     "metadata": {},
     "output_type": "display_data"
    },
    {
     "name": "stdout",
     "output_type": "stream",
     "text": [
      "\u001B[32m2022-07-12 14:01:38\u001B[0m | \u001B[1mINFO    \u001B[0m | \u001B[1m\u001B[0m\n",
      "\u001B[32m2022-07-12 14:01:38\u001B[0m | \u001B[1mINFO    \u001B[0m | \u001B[1mFinished epoch 28/40:\u001B[0m\n",
      "\u001B[32m2022-07-12 14:01:38\u001B[0m | \u001B[1mINFO    \u001B[0m | \u001B[1mtrain:\u001B[0m\n",
      "\u001B[32m2022-07-12 14:01:38\u001B[0m | \u001B[1mINFO    \u001B[0m | \u001B[1mloss:           | avg: 453.8     | std: 2.768     | min: 450.3     | 25%: 451.4     | 50%: 453.1     | 75%: 455.5     | max: 461.5     \u001B[0m\n",
      "\u001B[32m2022-07-12 14:01:38\u001B[0m | \u001B[1mINFO    \u001B[0m | \u001B[1macc:            | avg: 0.9983    | std: 0.00223   | min: 0.9902    | 25%: 0.998     | 50%: 0.998     | 75%: 1.0       | max: 1.0       \u001B[0m\n",
      "\u001B[32m2022-07-12 14:01:38\u001B[0m | \u001B[1mINFO    \u001B[0m | \u001B[1mlr:             | avg: 0.001145  | std: nan       | min: 0.001145  | 25%: 0.001145  | 50%: 0.001145  | 75%: 0.001145  | max: 0.001145  \u001B[0m\n",
      "\u001B[32m2022-07-12 14:01:38\u001B[0m | \u001B[1mINFO    \u001B[0m | \u001B[1mvalidation:\u001B[0m\n",
      "\u001B[32m2022-07-12 14:01:38\u001B[0m | \u001B[1mINFO    \u001B[0m | \u001B[1mloss:           | avg: 516.5     | std: 9.144     | min: 502.3     | 25%: 508.6     | 50%: 519.6     | 75%: 523.4     | max: 532.6     \u001B[0m\n",
      "\u001B[32m2022-07-12 14:01:38\u001B[0m | \u001B[1mINFO    \u001B[0m | \u001B[1macc:            | avg: 0.9323    | std: 0.01138   | min: 0.9121    | 25%: 0.9248    | 50%: 0.9316    | 75%: 0.9395    | max: 0.9551    \u001B[0m\n"
     ]
    },
    {
     "data": {
      "application/vnd.jupyter.widget-view+json": {
       "model_id": "f94161e99d674fc398c73f3d5ccf7443",
       "version_major": 2,
       "version_minor": 0
      },
      "text/plain": [
       "train:   0%|          | 0/73 [00:00<?, ?it/s]"
      ]
     },
     "metadata": {},
     "output_type": "display_data"
    },
    {
     "data": {
      "application/vnd.jupyter.widget-view+json": {
       "model_id": "3cdadf1c6064487e8c2b7de6645a9675",
       "version_major": 2,
       "version_minor": 0
      },
      "text/plain": [
       "validation:   0%|          | 0/22 [00:00<?, ?it/s]"
      ]
     },
     "metadata": {},
     "output_type": "display_data"
    },
    {
     "name": "stdout",
     "output_type": "stream",
     "text": [
      "\u001B[32m2022-07-12 14:01:47\u001B[0m | \u001B[1mINFO    \u001B[0m | \u001B[1m\u001B[0m\n",
      "\u001B[32m2022-07-12 14:01:47\u001B[0m | \u001B[1mINFO    \u001B[0m | \u001B[1mFinished epoch 29/40:\u001B[0m\n",
      "\u001B[32m2022-07-12 14:01:47\u001B[0m | \u001B[1mINFO    \u001B[0m | \u001B[1mtrain:\u001B[0m\n",
      "\u001B[32m2022-07-12 14:01:47\u001B[0m | \u001B[1mINFO    \u001B[0m | \u001B[1mloss:           | avg: 452.5     | std: 2.333     | min: 449.3     | 25%: 451.1     | 50%: 452.1     | 75%: 453.2     | max: 460.2     \u001B[0m\n",
      "\u001B[32m2022-07-12 14:01:47\u001B[0m | \u001B[1mINFO    \u001B[0m | \u001B[1macc:            | avg: 0.999     | std: 0.00153   | min: 0.9941    | 25%: 0.998     | 50%: 1.0       | 75%: 1.0       | max: 1.0       \u001B[0m\n",
      "\u001B[32m2022-07-12 14:01:47\u001B[0m | \u001B[1mINFO    \u001B[0m | \u001B[1mlr:             | avg: 0.001104  | std: nan       | min: 0.001104  | 25%: 0.001104  | 50%: 0.001104  | 75%: 0.001104  | max: 0.001104  \u001B[0m\n",
      "\u001B[32m2022-07-12 14:01:47\u001B[0m | \u001B[1mINFO    \u001B[0m | \u001B[1mvalidation:\u001B[0m\n",
      "\u001B[32m2022-07-12 14:01:47\u001B[0m | \u001B[1mINFO    \u001B[0m | \u001B[1mloss:           | avg: 513.7     | std: 9.069     | min: 496.4     | 25%: 509.7     | 50%: 514.2     | 75%: 518.1     | max: 533.9     \u001B[0m\n",
      "\u001B[32m2022-07-12 14:01:47\u001B[0m | \u001B[1mINFO    \u001B[0m | \u001B[1macc:            | avg: 0.9347    | std: 0.01164   | min: 0.9121    | 25%: 0.9277    | 50%: 0.9365    | 75%: 0.9424    | max: 0.959     \u001B[0m\n"
     ]
    },
    {
     "data": {
      "application/vnd.jupyter.widget-view+json": {
       "model_id": "8d9815a8aaa74a958bcec28b45320c9a",
       "version_major": 2,
       "version_minor": 0
      },
      "text/plain": [
       "train:   0%|          | 0/73 [00:00<?, ?it/s]"
      ]
     },
     "metadata": {},
     "output_type": "display_data"
    },
    {
     "data": {
      "application/vnd.jupyter.widget-view+json": {
       "model_id": "85b4ea433ccf43239de275bb17e4af6f",
       "version_major": 2,
       "version_minor": 0
      },
      "text/plain": [
       "validation:   0%|          | 0/22 [00:00<?, ?it/s]"
      ]
     },
     "metadata": {},
     "output_type": "display_data"
    },
    {
     "name": "stdout",
     "output_type": "stream",
     "text": [
      "\u001B[32m2022-07-12 14:01:57\u001B[0m | \u001B[1mINFO    \u001B[0m | \u001B[1m\u001B[0m\n",
      "\u001B[32m2022-07-12 14:01:57\u001B[0m | \u001B[1mINFO    \u001B[0m | \u001B[1mFinished epoch 30/40:\u001B[0m\n",
      "\u001B[32m2022-07-12 14:01:57\u001B[0m | \u001B[1mINFO    \u001B[0m | \u001B[1mtrain:\u001B[0m\n",
      "\u001B[32m2022-07-12 14:01:57\u001B[0m | \u001B[1mINFO    \u001B[0m | \u001B[1mloss:           | avg: 451.6     | std: 2.369     | min: 448.6     | 25%: 450.1     | 50%: 450.9     | 75%: 452.1     | max: 463.1     \u001B[0m\n",
      "\u001B[32m2022-07-12 14:01:57\u001B[0m | \u001B[1mINFO    \u001B[0m | \u001B[1macc:            | avg: 0.9988    | std: 0.002105  | min: 0.9863    | 25%: 0.998     | 50%: 1.0       | 75%: 1.0       | max: 1.0       \u001B[0m\n",
      "\u001B[32m2022-07-12 14:01:57\u001B[0m | \u001B[1mINFO    \u001B[0m | \u001B[1mlr:             | avg: 0.001064  | std: nan       | min: 0.001064  | 25%: 0.001064  | 50%: 0.001064  | 75%: 0.001064  | max: 0.001064  \u001B[0m\n",
      "\u001B[32m2022-07-12 14:01:57\u001B[0m | \u001B[1mINFO    \u001B[0m | \u001B[1mvalidation:\u001B[0m\n",
      "\u001B[32m2022-07-12 14:01:57\u001B[0m | \u001B[1mINFO    \u001B[0m | \u001B[1mloss:           | avg: 516.1     | std: 8.334     | min: 502.6     | 25%: 511.5     | 50%: 514.7     | 75%: 521.1     | max: 534.7     \u001B[0m\n",
      "\u001B[32m2022-07-12 14:01:57\u001B[0m | \u001B[1mINFO    \u001B[0m | \u001B[1macc:            | avg: 0.9339    | std: 0.0112    | min: 0.9082    | 25%: 0.9297    | 50%: 0.9346    | 75%: 0.9414    | max: 0.9531    \u001B[0m\n"
     ]
    },
    {
     "data": {
      "application/vnd.jupyter.widget-view+json": {
       "model_id": "3b2997e8379d4f568f04ca43bd10bf14",
       "version_major": 2,
       "version_minor": 0
      },
      "text/plain": [
       "train:   0%|          | 0/73 [00:00<?, ?it/s]"
      ]
     },
     "metadata": {},
     "output_type": "display_data"
    },
    {
     "data": {
      "application/vnd.jupyter.widget-view+json": {
       "model_id": "546300de86d24d389ff18e471e921d2d",
       "version_major": 2,
       "version_minor": 0
      },
      "text/plain": [
       "validation:   0%|          | 0/22 [00:00<?, ?it/s]"
      ]
     },
     "metadata": {},
     "output_type": "display_data"
    },
    {
     "name": "stdout",
     "output_type": "stream",
     "text": [
      "\u001B[32m2022-07-12 14:02:07\u001B[0m | \u001B[1mINFO    \u001B[0m | \u001B[1m\u001B[0m\n",
      "\u001B[32m2022-07-12 14:02:07\u001B[0m | \u001B[1mINFO    \u001B[0m | \u001B[1mFinished epoch 31/40:\u001B[0m\n",
      "\u001B[32m2022-07-12 14:02:07\u001B[0m | \u001B[1mINFO    \u001B[0m | \u001B[1mtrain:\u001B[0m\n",
      "\u001B[32m2022-07-12 14:02:07\u001B[0m | \u001B[1mINFO    \u001B[0m | \u001B[1mloss:           | avg: 451.0     | std: 1.861     | min: 448.7     | 25%: 449.5     | 50%: 450.6     | 75%: 452.1     | max: 458.2     \u001B[0m\n",
      "\u001B[32m2022-07-12 14:02:07\u001B[0m | \u001B[1mINFO    \u001B[0m | \u001B[1macc:            | avg: 0.9995    | std: 0.0009906 | min: 0.9961    | 25%: 1.0       | 50%: 1.0       | 75%: 1.0       | max: 1.0       \u001B[0m\n",
      "\u001B[32m2022-07-12 14:02:07\u001B[0m | \u001B[1mINFO    \u001B[0m | \u001B[1mlr:             | avg: 0.001023  | std: nan       | min: 0.001023  | 25%: 0.001023  | 50%: 0.001023  | 75%: 0.001023  | max: 0.001023  \u001B[0m\n",
      "\u001B[32m2022-07-12 14:02:07\u001B[0m | \u001B[1mINFO    \u001B[0m | \u001B[1mvalidation:\u001B[0m\n",
      "\u001B[32m2022-07-12 14:02:07\u001B[0m | \u001B[1mINFO    \u001B[0m | \u001B[1mloss:           | avg: 515.1     | std: 9.232     | min: 499.0     | 25%: 508.1     | 50%: 514.2     | 75%: 519.8     | max: 537.6     \u001B[0m\n",
      "\u001B[32m2022-07-12 14:02:07\u001B[0m | \u001B[1mINFO    \u001B[0m | \u001B[1macc:            | avg: 0.9313    | std: 0.01162   | min: 0.8984    | 25%: 0.9277    | 50%: 0.9316    | 75%: 0.9395    | max: 0.9512    \u001B[0m\n"
     ]
    },
    {
     "data": {
      "application/vnd.jupyter.widget-view+json": {
       "model_id": "401a8bf76b0b4c91ab893d2bbb665502",
       "version_major": 2,
       "version_minor": 0
      },
      "text/plain": [
       "train:   0%|          | 0/73 [00:00<?, ?it/s]"
      ]
     },
     "metadata": {},
     "output_type": "display_data"
    },
    {
     "data": {
      "application/vnd.jupyter.widget-view+json": {
       "model_id": "6e62e7891fa04e4fb7d2aac26fec326b",
       "version_major": 2,
       "version_minor": 0
      },
      "text/plain": [
       "validation:   0%|          | 0/22 [00:00<?, ?it/s]"
      ]
     },
     "metadata": {},
     "output_type": "display_data"
    },
    {
     "name": "stdout",
     "output_type": "stream",
     "text": [
      "\u001B[32m2022-07-12 14:02:16\u001B[0m | \u001B[1mINFO    \u001B[0m | \u001B[1m\u001B[0m\n",
      "\u001B[32m2022-07-12 14:02:16\u001B[0m | \u001B[1mINFO    \u001B[0m | \u001B[1mFinished epoch 32/40:\u001B[0m\n",
      "\u001B[32m2022-07-12 14:02:16\u001B[0m | \u001B[1mINFO    \u001B[0m | \u001B[1mtrain:\u001B[0m\n",
      "\u001B[32m2022-07-12 14:02:16\u001B[0m | \u001B[1mINFO    \u001B[0m | \u001B[1mloss:           | avg: 450.1     | std: 1.543     | min: 448.0     | 25%: 448.9     | 50%: 449.7     | 75%: 450.9     | max: 454.3     \u001B[0m\n",
      "\u001B[32m2022-07-12 14:02:16\u001B[0m | \u001B[1mINFO    \u001B[0m | \u001B[1macc:            | avg: 0.9995    | std: 0.0008312 | min: 0.998     | 25%: 1.0       | 50%: 1.0       | 75%: 1.0       | max: 1.0       \u001B[0m\n",
      "\u001B[32m2022-07-12 14:02:16\u001B[0m | \u001B[1mINFO    \u001B[0m | \u001B[1mlr:             | avg: 0.0009821 | std: nan       | min: 0.0009821 | 25%: 0.0009821 | 50%: 0.0009821 | 75%: 0.0009821 | max: 0.0009821 \u001B[0m\n",
      "\u001B[32m2022-07-12 14:02:16\u001B[0m | \u001B[1mINFO    \u001B[0m | \u001B[1mvalidation:\u001B[0m\n",
      "\u001B[32m2022-07-12 14:02:16\u001B[0m | \u001B[1mINFO    \u001B[0m | \u001B[1mloss:           | avg: 512.2     | std: 7.952     | min: 499.8     | 25%: 504.8     | 50%: 514.1     | 75%: 517.5     | max: 524.0     \u001B[0m\n",
      "\u001B[32m2022-07-12 14:02:16\u001B[0m | \u001B[1mINFO    \u001B[0m | \u001B[1macc:            | avg: 0.933     | std: 0.009519  | min: 0.916     | 25%: 0.9263    | 50%: 0.9336    | 75%: 0.939     | max: 0.9473    \u001B[0m\n"
     ]
    },
    {
     "data": {
      "application/vnd.jupyter.widget-view+json": {
       "model_id": "e71590f5eccc4dba919a3a4a13d80e7c",
       "version_major": 2,
       "version_minor": 0
      },
      "text/plain": [
       "train:   0%|          | 0/73 [00:00<?, ?it/s]"
      ]
     },
     "metadata": {},
     "output_type": "display_data"
    },
    {
     "data": {
      "application/vnd.jupyter.widget-view+json": {
       "model_id": "34485a243eb842ffa1f909b24270153f",
       "version_major": 2,
       "version_minor": 0
      },
      "text/plain": [
       "validation:   0%|          | 0/22 [00:00<?, ?it/s]"
      ]
     },
     "metadata": {},
     "output_type": "display_data"
    },
    {
     "name": "stdout",
     "output_type": "stream",
     "text": [
      "\u001B[32m2022-07-12 14:02:26\u001B[0m | \u001B[1mINFO    \u001B[0m | \u001B[1m\u001B[0m\n",
      "\u001B[32m2022-07-12 14:02:26\u001B[0m | \u001B[1mINFO    \u001B[0m | \u001B[1mFinished epoch 33/40:\u001B[0m\n",
      "\u001B[32m2022-07-12 14:02:26\u001B[0m | \u001B[1mINFO    \u001B[0m | \u001B[1mtrain:\u001B[0m\n",
      "\u001B[32m2022-07-12 14:02:26\u001B[0m | \u001B[1mINFO    \u001B[0m | \u001B[1mloss:           | avg: 450.2     | std: 1.775     | min: 448.0     | 25%: 448.9     | 50%: 449.6     | 75%: 451.1     | max: 456.3     \u001B[0m\n",
      "\u001B[32m2022-07-12 14:02:26\u001B[0m | \u001B[1mINFO    \u001B[0m | \u001B[1macc:            | avg: 0.9991    | std: 0.001594  | min: 0.9922    | 25%: 0.998     | 50%: 1.0       | 75%: 1.0       | max: 1.0       \u001B[0m\n",
      "\u001B[32m2022-07-12 14:02:26\u001B[0m | \u001B[1mINFO    \u001B[0m | \u001B[1mlr:             | avg: 0.0009414 | std: nan       | min: 0.0009414 | 25%: 0.0009414 | 50%: 0.0009414 | 75%: 0.0009414 | max: 0.0009414 \u001B[0m\n",
      "\u001B[32m2022-07-12 14:02:26\u001B[0m | \u001B[1mINFO    \u001B[0m | \u001B[1mvalidation:\u001B[0m\n",
      "\u001B[32m2022-07-12 14:02:26\u001B[0m | \u001B[1mINFO    \u001B[0m | \u001B[1mloss:           | avg: 511.3     | std: 9.341     | min: 494.0     | 25%: 504.4     | 50%: 510.4     | 75%: 518.7     | max: 526.2     \u001B[0m\n",
      "\u001B[32m2022-07-12 14:02:26\u001B[0m | \u001B[1mINFO    \u001B[0m | \u001B[1macc:            | avg: 0.9353    | std: 0.01252   | min: 0.9082    | 25%: 0.9263    | 50%: 0.9355    | 75%: 0.9443    | max: 0.957     \u001B[0m\n"
     ]
    },
    {
     "data": {
      "application/vnd.jupyter.widget-view+json": {
       "model_id": "ca85696adc624a14ab807b5192ad856f",
       "version_major": 2,
       "version_minor": 0
      },
      "text/plain": [
       "train:   0%|          | 0/73 [00:00<?, ?it/s]"
      ]
     },
     "metadata": {},
     "output_type": "display_data"
    },
    {
     "data": {
      "application/vnd.jupyter.widget-view+json": {
       "model_id": "8fc731f1610945b4adc024472e3eae84",
       "version_major": 2,
       "version_minor": 0
      },
      "text/plain": [
       "validation:   0%|          | 0/22 [00:00<?, ?it/s]"
      ]
     },
     "metadata": {},
     "output_type": "display_data"
    },
    {
     "name": "stdout",
     "output_type": "stream",
     "text": [
      "\u001B[32m2022-07-12 14:02:36\u001B[0m | \u001B[1mINFO    \u001B[0m | \u001B[1m\u001B[0m\n",
      "\u001B[32m2022-07-12 14:02:36\u001B[0m | \u001B[1mINFO    \u001B[0m | \u001B[1mFinished epoch 34/40:\u001B[0m\n",
      "\u001B[32m2022-07-12 14:02:36\u001B[0m | \u001B[1mINFO    \u001B[0m | \u001B[1mtrain:\u001B[0m\n",
      "\u001B[32m2022-07-12 14:02:36\u001B[0m | \u001B[1mINFO    \u001B[0m | \u001B[1mloss:           | avg: 449.6     | std: 1.743     | min: 447.1     | 25%: 448.4     | 50%: 449.1     | 75%: 450.2     | max: 456.6     \u001B[0m\n",
      "\u001B[32m2022-07-12 14:02:36\u001B[0m | \u001B[1mINFO    \u001B[0m | \u001B[1macc:            | avg: 0.9996    | std: 0.001063  | min: 0.9941    | 25%: 1.0       | 50%: 1.0       | 75%: 1.0       | max: 1.0       \u001B[0m\n",
      "\u001B[32m2022-07-12 14:02:36\u001B[0m | \u001B[1mINFO    \u001B[0m | \u001B[1mlr:             | avg: 0.0009007 | std: nan       | min: 0.0009007 | 25%: 0.0009007 | 50%: 0.0009007 | 75%: 0.0009007 | max: 0.0009007 \u001B[0m\n",
      "\u001B[32m2022-07-12 14:02:36\u001B[0m | \u001B[1mINFO    \u001B[0m | \u001B[1mvalidation:\u001B[0m\n",
      "\u001B[32m2022-07-12 14:02:36\u001B[0m | \u001B[1mINFO    \u001B[0m | \u001B[1mloss:           | avg: 511.4     | std: 8.374     | min: 497.3     | 25%: 505.3     | 50%: 509.7     | 75%: 518.8     | max: 524.2     \u001B[0m\n",
      "\u001B[32m2022-07-12 14:02:36\u001B[0m | \u001B[1mINFO    \u001B[0m | \u001B[1macc:            | avg: 0.9342    | std: 0.01053   | min: 0.9141    | 25%: 0.9316    | 50%: 0.9355    | 75%: 0.9395    | max: 0.9512    \u001B[0m\n"
     ]
    },
    {
     "data": {
      "application/vnd.jupyter.widget-view+json": {
       "model_id": "f74effdadadd41deb30e9d686d81e326",
       "version_major": 2,
       "version_minor": 0
      },
      "text/plain": [
       "train:   0%|          | 0/73 [00:00<?, ?it/s]"
      ]
     },
     "metadata": {},
     "output_type": "display_data"
    },
    {
     "data": {
      "application/vnd.jupyter.widget-view+json": {
       "model_id": "cc62716e862c404bb1142c5973dadcd3",
       "version_major": 2,
       "version_minor": 0
      },
      "text/plain": [
       "validation:   0%|          | 0/22 [00:00<?, ?it/s]"
      ]
     },
     "metadata": {},
     "output_type": "display_data"
    },
    {
     "name": "stdout",
     "output_type": "stream",
     "text": [
      "\u001B[32m2022-07-12 14:02:45\u001B[0m | \u001B[1mINFO    \u001B[0m | \u001B[1m\u001B[0m\n",
      "\u001B[32m2022-07-12 14:02:45\u001B[0m | \u001B[1mINFO    \u001B[0m | \u001B[1mFinished epoch 35/40:\u001B[0m\n",
      "\u001B[32m2022-07-12 14:02:45\u001B[0m | \u001B[1mINFO    \u001B[0m | \u001B[1mtrain:\u001B[0m\n",
      "\u001B[32m2022-07-12 14:02:45\u001B[0m | \u001B[1mINFO    \u001B[0m | \u001B[1mloss:           | avg: 449.4     | std: 1.687     | min: 447.3     | 25%: 448.3     | 50%: 448.9     | 75%: 450.1     | max: 455.0     \u001B[0m\n",
      "\u001B[32m2022-07-12 14:02:45\u001B[0m | \u001B[1mINFO    \u001B[0m | \u001B[1macc:            | avg: 0.9995    | std: 0.001197  | min: 0.9941    | 25%: 1.0       | 50%: 1.0       | 75%: 1.0       | max: 1.0       \u001B[0m\n",
      "\u001B[32m2022-07-12 14:02:45\u001B[0m | \u001B[1mINFO    \u001B[0m | \u001B[1mlr:             | avg: 0.0008599 | std: nan       | min: 0.0008599 | 25%: 0.0008599 | 50%: 0.0008599 | 75%: 0.0008599 | max: 0.0008599 \u001B[0m\n",
      "\u001B[32m2022-07-12 14:02:45\u001B[0m | \u001B[1mINFO    \u001B[0m | \u001B[1mvalidation:\u001B[0m\n",
      "\u001B[32m2022-07-12 14:02:45\u001B[0m | \u001B[1mINFO    \u001B[0m | \u001B[1mloss:           | avg: 512.1     | std: 7.828     | min: 498.2     | 25%: 506.6     | 50%: 513.0     | 75%: 515.8     | max: 531.1     \u001B[0m\n",
      "\u001B[32m2022-07-12 14:02:45\u001B[0m | \u001B[1mINFO    \u001B[0m | \u001B[1macc:            | avg: 0.9343    | std: 0.01038   | min: 0.9121    | 25%: 0.9282    | 50%: 0.9355    | 75%: 0.9434    | max: 0.9512    \u001B[0m\n"
     ]
    },
    {
     "data": {
      "application/vnd.jupyter.widget-view+json": {
       "model_id": "446f34c602b84b9793bb18c62227feb4",
       "version_major": 2,
       "version_minor": 0
      },
      "text/plain": [
       "train:   0%|          | 0/73 [00:00<?, ?it/s]"
      ]
     },
     "metadata": {},
     "output_type": "display_data"
    },
    {
     "data": {
      "application/vnd.jupyter.widget-view+json": {
       "model_id": "17e00c77b5834d0c82fc6670c7e06a88",
       "version_major": 2,
       "version_minor": 0
      },
      "text/plain": [
       "validation:   0%|          | 0/22 [00:00<?, ?it/s]"
      ]
     },
     "metadata": {},
     "output_type": "display_data"
    },
    {
     "name": "stdout",
     "output_type": "stream",
     "text": [
      "\u001B[32m2022-07-12 14:02:55\u001B[0m | \u001B[1mINFO    \u001B[0m | \u001B[1m\u001B[0m\n",
      "\u001B[32m2022-07-12 14:02:55\u001B[0m | \u001B[1mINFO    \u001B[0m | \u001B[1mFinished epoch 36/40:\u001B[0m\n",
      "\u001B[32m2022-07-12 14:02:55\u001B[0m | \u001B[1mINFO    \u001B[0m | \u001B[1mtrain:\u001B[0m\n",
      "\u001B[32m2022-07-12 14:02:55\u001B[0m | \u001B[1mINFO    \u001B[0m | \u001B[1mloss:           | avg: 449.2     | std: 1.383     | min: 447.2     | 25%: 448.1     | 50%: 448.8     | 75%: 450.0     | max: 452.9     \u001B[0m\n",
      "\u001B[32m2022-07-12 14:02:55\u001B[0m | \u001B[1mINFO    \u001B[0m | \u001B[1macc:            | avg: 0.9995    | std: 0.001117  | min: 0.9941    | 25%: 1.0       | 50%: 1.0       | 75%: 1.0       | max: 1.0       \u001B[0m\n",
      "\u001B[32m2022-07-12 14:02:55\u001B[0m | \u001B[1mINFO    \u001B[0m | \u001B[1mlr:             | avg: 0.0008192 | std: nan       | min: 0.0008192 | 25%: 0.0008192 | 50%: 0.0008192 | 75%: 0.0008192 | max: 0.0008192 \u001B[0m\n",
      "\u001B[32m2022-07-12 14:02:55\u001B[0m | \u001B[1mINFO    \u001B[0m | \u001B[1mvalidation:\u001B[0m\n",
      "\u001B[32m2022-07-12 14:02:55\u001B[0m | \u001B[1mINFO    \u001B[0m | \u001B[1mloss:           | avg: 511.1     | std: 8.492     | min: 496.8     | 25%: 505.1     | 50%: 511.3     | 75%: 516.7     | max: 526.6     \u001B[0m\n",
      "\u001B[32m2022-07-12 14:02:55\u001B[0m | \u001B[1mINFO    \u001B[0m | \u001B[1macc:            | avg: 0.9344    | std: 0.01134   | min: 0.9141    | 25%: 0.9258    | 50%: 0.9336    | 75%: 0.9429    | max: 0.957     \u001B[0m\n"
     ]
    },
    {
     "data": {
      "application/vnd.jupyter.widget-view+json": {
       "model_id": "d37ecbe8e4d541beabe5e1a6bb5ee6d4",
       "version_major": 2,
       "version_minor": 0
      },
      "text/plain": [
       "train:   0%|          | 0/73 [00:00<?, ?it/s]"
      ]
     },
     "metadata": {},
     "output_type": "display_data"
    },
    {
     "data": {
      "application/vnd.jupyter.widget-view+json": {
       "model_id": "059c9b2b83914b69ab52e117798b51d0",
       "version_major": 2,
       "version_minor": 0
      },
      "text/plain": [
       "validation:   0%|          | 0/22 [00:00<?, ?it/s]"
      ]
     },
     "metadata": {},
     "output_type": "display_data"
    },
    {
     "name": "stdout",
     "output_type": "stream",
     "text": [
      "\u001B[32m2022-07-12 14:03:05\u001B[0m | \u001B[1mINFO    \u001B[0m | \u001B[1m\u001B[0m\n",
      "\u001B[32m2022-07-12 14:03:05\u001B[0m | \u001B[1mINFO    \u001B[0m | \u001B[1mFinished epoch 37/40:\u001B[0m\n",
      "\u001B[32m2022-07-12 14:03:05\u001B[0m | \u001B[1mINFO    \u001B[0m | \u001B[1mtrain:\u001B[0m\n",
      "\u001B[32m2022-07-12 14:03:05\u001B[0m | \u001B[1mINFO    \u001B[0m | \u001B[1mloss:           | avg: 449.0     | std: 1.657     | min: 447.2     | 25%: 447.7     | 50%: 448.7     | 75%: 449.5     | max: 455.2     \u001B[0m\n",
      "\u001B[32m2022-07-12 14:03:05\u001B[0m | \u001B[1mINFO    \u001B[0m | \u001B[1macc:            | avg: 0.9996    | std: 0.001042  | min: 0.9941    | 25%: 1.0       | 50%: 1.0       | 75%: 1.0       | max: 1.0       \u001B[0m\n",
      "\u001B[32m2022-07-12 14:03:05\u001B[0m | \u001B[1mINFO    \u001B[0m | \u001B[1mlr:             | avg: 0.0007785 | std: nan       | min: 0.0007785 | 25%: 0.0007785 | 50%: 0.0007785 | 75%: 0.0007785 | max: 0.0007785 \u001B[0m\n",
      "\u001B[32m2022-07-12 14:03:05\u001B[0m | \u001B[1mINFO    \u001B[0m | \u001B[1mvalidation:\u001B[0m\n",
      "\u001B[32m2022-07-12 14:03:05\u001B[0m | \u001B[1mINFO    \u001B[0m | \u001B[1mloss:           | avg: 512.0     | std: 7.571     | min: 499.6     | 25%: 507.6     | 50%: 510.0     | 75%: 516.4     | max: 532.9     \u001B[0m\n",
      "\u001B[32m2022-07-12 14:03:05\u001B[0m | \u001B[1mINFO    \u001B[0m | \u001B[1macc:            | avg: 0.9345    | std: 0.01171   | min: 0.9102    | 25%: 0.9263    | 50%: 0.9336    | 75%: 0.9395    | max: 0.9609    \u001B[0m\n"
     ]
    },
    {
     "data": {
      "application/vnd.jupyter.widget-view+json": {
       "model_id": "d3aefbf6286f4c24bf30d1f2d51b3e5f",
       "version_major": 2,
       "version_minor": 0
      },
      "text/plain": [
       "train:   0%|          | 0/73 [00:00<?, ?it/s]"
      ]
     },
     "metadata": {},
     "output_type": "display_data"
    },
    {
     "data": {
      "application/vnd.jupyter.widget-view+json": {
       "model_id": "959e667880c7470ba5e502fa93b877e7",
       "version_major": 2,
       "version_minor": 0
      },
      "text/plain": [
       "validation:   0%|          | 0/22 [00:00<?, ?it/s]"
      ]
     },
     "metadata": {},
     "output_type": "display_data"
    },
    {
     "name": "stdout",
     "output_type": "stream",
     "text": [
      "\u001B[32m2022-07-12 14:03:14\u001B[0m | \u001B[1mINFO    \u001B[0m | \u001B[1m\u001B[0m\n",
      "\u001B[32m2022-07-12 14:03:14\u001B[0m | \u001B[1mINFO    \u001B[0m | \u001B[1mFinished epoch 38/40:\u001B[0m\n",
      "\u001B[32m2022-07-12 14:03:14\u001B[0m | \u001B[1mINFO    \u001B[0m | \u001B[1mtrain:\u001B[0m\n",
      "\u001B[32m2022-07-12 14:03:14\u001B[0m | \u001B[1mINFO    \u001B[0m | \u001B[1mloss:           | avg: 448.3     | std: 1.301     | min: 446.5     | 25%: 447.4     | 50%: 447.8     | 75%: 448.7     | max: 454.4     \u001B[0m\n",
      "\u001B[32m2022-07-12 14:03:14\u001B[0m | \u001B[1mINFO    \u001B[0m | \u001B[1macc:            | avg: 0.9998    | std: 0.0008082 | min: 0.9941    | 25%: 1.0       | 50%: 1.0       | 75%: 1.0       | max: 1.0       \u001B[0m\n",
      "\u001B[32m2022-07-12 14:03:14\u001B[0m | \u001B[1mINFO    \u001B[0m | \u001B[1mlr:             | avg: 0.0007377 | std: nan       | min: 0.0007377 | 25%: 0.0007377 | 50%: 0.0007377 | 75%: 0.0007377 | max: 0.0007377 \u001B[0m\n",
      "\u001B[32m2022-07-12 14:03:14\u001B[0m | \u001B[1mINFO    \u001B[0m | \u001B[1mvalidation:\u001B[0m\n",
      "\u001B[32m2022-07-12 14:03:14\u001B[0m | \u001B[1mINFO    \u001B[0m | \u001B[1mloss:           | avg: 509.7     | std: 8.965     | min: 495.3     | 25%: 501.6     | 50%: 509.8     | 75%: 514.7     | max: 532.8     \u001B[0m\n",
      "\u001B[32m2022-07-12 14:03:14\u001B[0m | \u001B[1mINFO    \u001B[0m | \u001B[1macc:            | avg: 0.936     | std: 0.01173   | min: 0.9121    | 25%: 0.9302    | 50%: 0.9355    | 75%: 0.9434    | max: 0.957     \u001B[0m\n"
     ]
    },
    {
     "data": {
      "application/vnd.jupyter.widget-view+json": {
       "model_id": "d9abd83fe3494ee289efd78fdc0fec95",
       "version_major": 2,
       "version_minor": 0
      },
      "text/plain": [
       "train:   0%|          | 0/73 [00:00<?, ?it/s]"
      ]
     },
     "metadata": {},
     "output_type": "display_data"
    },
    {
     "data": {
      "application/vnd.jupyter.widget-view+json": {
       "model_id": "a69965b67a2549edb987def2e2b75d3c",
       "version_major": 2,
       "version_minor": 0
      },
      "text/plain": [
       "validation:   0%|          | 0/22 [00:00<?, ?it/s]"
      ]
     },
     "metadata": {},
     "output_type": "display_data"
    },
    {
     "name": "stdout",
     "output_type": "stream",
     "text": [
      "\u001B[32m2022-07-12 14:03:24\u001B[0m | \u001B[1mINFO    \u001B[0m | \u001B[1m\u001B[0m\n",
      "\u001B[32m2022-07-12 14:03:24\u001B[0m | \u001B[1mINFO    \u001B[0m | \u001B[1mFinished epoch 39/40:\u001B[0m\n",
      "\u001B[32m2022-07-12 14:03:24\u001B[0m | \u001B[1mINFO    \u001B[0m | \u001B[1mtrain:\u001B[0m\n",
      "\u001B[32m2022-07-12 14:03:24\u001B[0m | \u001B[1mINFO    \u001B[0m | \u001B[1mloss:           | avg: 448.2     | std: 1.236     | min: 446.6     | 25%: 447.2     | 50%: 447.8     | 75%: 449.0     | max: 452.0     \u001B[0m\n",
      "\u001B[32m2022-07-12 14:03:24\u001B[0m | \u001B[1mINFO    \u001B[0m | \u001B[1macc:            | avg: 0.9998    | std: 0.0007677 | min: 0.9961    | 25%: 1.0       | 50%: 1.0       | 75%: 1.0       | max: 1.0       \u001B[0m\n",
      "\u001B[32m2022-07-12 14:03:24\u001B[0m | \u001B[1mINFO    \u001B[0m | \u001B[1mlr:             | avg: 0.000697  | std: nan       | min: 0.000697  | 25%: 0.000697  | 50%: 0.000697  | 75%: 0.000697  | max: 0.000697  \u001B[0m\n",
      "\u001B[32m2022-07-12 14:03:24\u001B[0m | \u001B[1mINFO    \u001B[0m | \u001B[1mvalidation:\u001B[0m\n",
      "\u001B[32m2022-07-12 14:03:24\u001B[0m | \u001B[1mINFO    \u001B[0m | \u001B[1mloss:           | avg: 508.8     | std: 8.267     | min: 494.2     | 25%: 502.1     | 50%: 508.3     | 75%: 515.8     | max: 521.9     \u001B[0m\n",
      "\u001B[32m2022-07-12 14:03:24\u001B[0m | \u001B[1mINFO    \u001B[0m | \u001B[1macc:            | avg: 0.9374    | std: 0.01077   | min: 0.9199    | 25%: 0.9277    | 50%: 0.9395    | 75%: 0.9448    | max: 0.957     \u001B[0m\n"
     ]
    },
    {
     "data": {
      "application/vnd.jupyter.widget-view+json": {
       "model_id": "f130824b4771461d9f84f38eabfab91a",
       "version_major": 2,
       "version_minor": 0
      },
      "text/plain": [
       "train:   0%|          | 0/73 [00:00<?, ?it/s]"
      ]
     },
     "metadata": {},
     "output_type": "display_data"
    },
    {
     "data": {
      "application/vnd.jupyter.widget-view+json": {
       "model_id": "3644fb63e8ff43c9a90150495fb0ef84",
       "version_major": 2,
       "version_minor": 0
      },
      "text/plain": [
       "validation:   0%|          | 0/22 [00:00<?, ?it/s]"
      ]
     },
     "metadata": {},
     "output_type": "display_data"
    },
    {
     "name": "stdout",
     "output_type": "stream",
     "text": [
      "\u001B[32m2022-07-12 14:03:34\u001B[0m | \u001B[1mINFO    \u001B[0m | \u001B[1m\u001B[0m\n",
      "\u001B[32m2022-07-12 14:03:34\u001B[0m | \u001B[1mINFO    \u001B[0m | \u001B[1mFinished epoch 40/40:\u001B[0m\n",
      "\u001B[32m2022-07-12 14:03:34\u001B[0m | \u001B[1mINFO    \u001B[0m | \u001B[1mtrain:\u001B[0m\n",
      "\u001B[32m2022-07-12 14:03:34\u001B[0m | \u001B[1mINFO    \u001B[0m | \u001B[1mloss:           | avg: 447.8     | std: 1.122     | min: 446.3     | 25%: 447.1     | 50%: 447.5     | 75%: 448.2     | max: 452.5     \u001B[0m\n",
      "\u001B[32m2022-07-12 14:03:34\u001B[0m | \u001B[1mINFO    \u001B[0m | \u001B[1macc:            | avg: 0.9999    | std: 0.0004968 | min: 0.998     | 25%: 1.0       | 50%: 1.0       | 75%: 1.0       | max: 1.0       \u001B[0m\n",
      "\u001B[32m2022-07-12 14:03:34\u001B[0m | \u001B[1mINFO    \u001B[0m | \u001B[1mlr:             | avg: 0.0006562 | std: nan       | min: 0.0006562 | 25%: 0.0006562 | 50%: 0.0006562 | 75%: 0.0006562 | max: 0.0006562 \u001B[0m\n",
      "\u001B[32m2022-07-12 14:03:34\u001B[0m | \u001B[1mINFO    \u001B[0m | \u001B[1mvalidation:\u001B[0m\n",
      "\u001B[32m2022-07-12 14:03:34\u001B[0m | \u001B[1mINFO    \u001B[0m | \u001B[1mloss:           | avg: 508.7     | std: 7.975     | min: 493.2     | 25%: 503.4     | 50%: 508.6     | 75%: 512.0     | max: 523.3     \u001B[0m\n",
      "\u001B[32m2022-07-12 14:03:34\u001B[0m | \u001B[1mINFO    \u001B[0m | \u001B[1macc:            | avg: 0.9379    | std: 0.01139   | min: 0.916     | 25%: 0.9282    | 50%: 0.9385    | 75%: 0.9468    | max: 0.9551    \u001B[0m\n"
     ]
    }
   ],
   "source": [
    "hparams = beam_arguments(get_cifar10_parser(), f\"--project-name=cifar10 --root-dir=/tmp/cifar --algorithm=CIFAR10Algorithm --device=0 --amp --lr-d=1e-2 --batch-size=512\",\n",
    "                      \"--n-epochs=40 --identifier=compare_parallel --clip-gradient=1000 --parallel=1 --accumulate=1 --no-deterministic\",\n",
    "                      \"--weight-decay=3e-5 --beta1=0.9\")\n",
    "experiment = Experiment(hparams, print_hyperparameters=False)\n",
    "alg = experiment.fit(CIFAR10Algorithm, CIFAR10Dataset)"
   ]
  },
  {
   "cell_type": "code",
   "execution_count": 23,
   "id": "b000cac6-c6db-4bab-925b-02662c3318d5",
   "metadata": {},
   "outputs": [
    {
     "data": {
      "text/html": [
       "\n",
       "      <iframe id=\"tensorboard-frame-f5d1857c2bce612e\" width=\"100%\" height=\"800\" frameborder=\"0\">\n",
       "      </iframe>\n",
       "      <script>\n",
       "        (function() {\n",
       "          const frame = document.getElementById(\"tensorboard-frame-f5d1857c2bce612e\");\n",
       "          const url = new URL(\"/\", window.location);\n",
       "          const port = 13067;\n",
       "          if (port) {\n",
       "            url.port = port;\n",
       "          }\n",
       "          frame.src = url;\n",
       "        })();\n",
       "      </script>\n",
       "    "
      ],
      "text/plain": [
       "<IPython.core.display.HTML object>"
      ]
     },
     "metadata": {},
     "output_type": "display_data"
    }
   ],
   "source": [
    "%tensorboard --bind_all --logdir '/tmp/cifar/cifar10/CIFAR10Algorithm/compare_parallel' --port 13067"
   ]
  },
  {
   "cell_type": "code",
   "execution_count": 5,
   "id": "f6340757-f5c6-4fa3-b6f3-e5b7aeb4cf85",
   "metadata": {},
   "outputs": [
    {
     "name": "stdout",
     "output_type": "stream",
     "text": [
      "\u001B[32m2022-07-12 14:43:28\u001B[0m | \u001B[1mINFO    \u001B[0m | \u001B[1mCreating new experiment\u001B[0m\n",
      "\u001B[32m2022-07-12 14:43:28\u001B[0m | \u001B[1mINFO    \u001B[0m | \u001B[1mExperiment directory is: /tmp/cifar/cifar10/CIFAR10Algorithm/debug_tensorboard/0005_20220712_144328\u001B[0m\n",
      "\u001B[32m2022-07-12 14:43:28\u001B[0m | \u001B[1mINFO    \u001B[0m | \u001B[1mSingle worker mode\u001B[0m\n",
      "\u001B[32m2022-07-12 14:43:28\u001B[0m | \u001B[1mINFO    \u001B[0m | \u001B[1mWorker: 1/1 is running...\u001B[0m\n"
     ]
    },
    {
     "name": "stderr",
     "output_type": "stream",
     "text": [
      "2022-07-12 14:43:32.928404: I tensorflow/core/util/util.cc:169] oneDNN custom operations are on. You may see slightly different numerical results due to floating-point round-off errors from different computation orders. To turn them off, set the environment variable `TF_ENABLE_ONEDNN_OPTS=0`.\n"
     ]
    },
    {
     "data": {
      "application/vnd.jupyter.widget-view+json": {
       "model_id": "976385a3946743a09d38aae65b0cfa9b",
       "version_major": 2,
       "version_minor": 0
      },
      "text/plain": [
       "train:   0%|          | 0/73 [00:00<?, ?it/s]"
      ]
     },
     "metadata": {},
     "output_type": "display_data"
    },
    {
     "name": "stderr",
     "output_type": "stream",
     "text": [
      "/opt/conda/lib/python3.8/site-packages/torch/optim/lr_scheduler.py:131: UserWarning: Detected call of `lr_scheduler.step()` before `optimizer.step()`. In PyTorch 1.1.0 and later, you should call them in the opposite order: `optimizer.step()` before `lr_scheduler.step()`.  Failure to do this will result in PyTorch skipping the first value of the learning rate schedule. See more details at https://pytorch.org/docs/stable/optim.html#how-to-adjust-learning-rate\n",
      "  warnings.warn(\"Detected call of `lr_scheduler.step()` before `optimizer.step()`. \"\n"
     ]
    },
    {
     "data": {
      "application/vnd.jupyter.widget-view+json": {
       "model_id": "1cc9a01da90b45e5a35fc94cdb738778",
       "version_major": 2,
       "version_minor": 0
      },
      "text/plain": [
       "validation:   0%|          | 0/22 [00:00<?, ?it/s]"
      ]
     },
     "metadata": {},
     "output_type": "display_data"
    },
    {
     "name": "stdout",
     "output_type": "stream",
     "text": [
      "\u001B[32m2022-07-12 14:43:42\u001B[0m | \u001B[1mINFO    \u001B[0m | \u001B[1m\u001B[0m\n",
      "\u001B[32m2022-07-12 14:43:42\u001B[0m | \u001B[1mINFO    \u001B[0m | \u001B[1mFinished epoch 1/2:\u001B[0m\n",
      "\u001B[32m2022-07-12 14:43:42\u001B[0m | \u001B[1mINFO    \u001B[0m | \u001B[1mtrain:\u001B[0m\n",
      "\u001B[32m2022-07-12 14:43:42\u001B[0m | \u001B[1mINFO    \u001B[0m | \u001B[1mloss:           | avg: 912.1     | std: 115.5     | min: 746.2     | 25%: 818.1     | 50%: 879.2     | 75%: 983.0     | max: 1.184e+03 \u001B[0m\n",
      "\u001B[32m2022-07-12 14:43:42\u001B[0m | \u001B[1mINFO    \u001B[0m | \u001B[1macc:            | avg: 0.4776    | std: 0.1474    | min: 0.07031   | 25%: 0.375     | 50%: 0.5215    | 75%: 0.5957    | max: 0.6895    \u001B[0m\n",
      "\u001B[32m2022-07-12 14:43:42\u001B[0m | \u001B[1mINFO    \u001B[0m | \u001B[1mlr:             | avg: 0.0005    | std: nan       | min: 0.0005    | 25%: 0.0005    | 50%: 0.0005    | 75%: 0.0005    | max: 0.0005    \u001B[0m\n",
      "\u001B[32m2022-07-12 14:43:42\u001B[0m | \u001B[1mINFO    \u001B[0m | \u001B[1mvalidation:\u001B[0m\n",
      "\u001B[32m2022-07-12 14:43:42\u001B[0m | \u001B[1mINFO    \u001B[0m | \u001B[1mloss:           | avg: 790.8     | std: 12.41     | min: 768.6     | 25%: 782.9     | 50%: 789.1     | 75%: 798.9     | max: 816.9     \u001B[0m\n",
      "\u001B[32m2022-07-12 14:43:42\u001B[0m | \u001B[1mINFO    \u001B[0m | \u001B[1macc:            | avg: 0.6257    | std: 0.01758   | min: 0.5918    | 25%: 0.6177    | 50%: 0.627     | 75%: 0.6382    | max: 0.6523    \u001B[0m\n"
     ]
    },
    {
     "data": {
      "application/vnd.jupyter.widget-view+json": {
       "model_id": "65d64f923eb54f79830dda8e52c4ded9",
       "version_major": 2,
       "version_minor": 0
      },
      "text/plain": [
       "train:   0%|          | 0/73 [00:00<?, ?it/s]"
      ]
     },
     "metadata": {},
     "output_type": "display_data"
    },
    {
     "data": {
      "application/vnd.jupyter.widget-view+json": {
       "model_id": "a93e34512f474870ac32b15fb960666d",
       "version_major": 2,
       "version_minor": 0
      },
      "text/plain": [
       "validation:   0%|          | 0/22 [00:00<?, ?it/s]"
      ]
     },
     "metadata": {},
     "output_type": "display_data"
    },
    {
     "name": "stdout",
     "output_type": "stream",
     "text": [
      "\u001B[32m2022-07-12 14:43:51\u001B[0m | \u001B[1mINFO    \u001B[0m | \u001B[1m\u001B[0m\n",
      "\u001B[32m2022-07-12 14:43:51\u001B[0m | \u001B[1mINFO    \u001B[0m | \u001B[1mFinished epoch 3/2:\u001B[0m\n",
      "\u001B[32m2022-07-12 14:43:51\u001B[0m | \u001B[1mINFO    \u001B[0m | \u001B[1mtrain:\u001B[0m\n",
      "\u001B[32m2022-07-12 14:43:51\u001B[0m | \u001B[1mINFO    \u001B[0m | \u001B[1mloss:           | avg: 720.8     | std: 33.08     | min: 645.4     | 25%: 694.7     | 50%: 718.3     | 75%: 742.8     | max: 794.8     \u001B[0m\n",
      "\u001B[32m2022-07-12 14:43:51\u001B[0m | \u001B[1mINFO    \u001B[0m | \u001B[1macc:            | avg: 0.7172    | std: 0.04175   | min: 0.6191    | 25%: 0.6914    | 50%: 0.7168    | 75%: 0.748     | max: 0.7949    \u001B[0m\n",
      "\u001B[32m2022-07-12 14:43:51\u001B[0m | \u001B[1mINFO    \u001B[0m | \u001B[1mlr:             | avg: 0.0005703 | std: nan       | min: 0.0005703 | 25%: 0.0005703 | 50%: 0.0005703 | 75%: 0.0005703 | max: 0.0005703 \u001B[0m\n",
      "\u001B[32m2022-07-12 14:43:51\u001B[0m | \u001B[1mINFO    \u001B[0m | \u001B[1mvalidation:\u001B[0m\n",
      "\u001B[32m2022-07-12 14:43:51\u001B[0m | \u001B[1mINFO    \u001B[0m | \u001B[1mloss:           | avg: 694.2     | std: 12.95     | min: 666.0     | 25%: 689.2     | 50%: 697.2     | 75%: 701.8     | max: 716.1     \u001B[0m\n",
      "\u001B[32m2022-07-12 14:43:51\u001B[0m | \u001B[1mINFO    \u001B[0m | \u001B[1macc:            | avg: 0.756     | std: 0.01454   | min: 0.7344    | 25%: 0.7466    | 50%: 0.7539    | 75%: 0.7627    | max: 0.7871    \u001B[0m\n"
     ]
    }
   ],
   "source": [
    "hparams = beam_arguments(get_cifar10_parser(), f\"--project-name=cifar10 --root-dir=/tmp/cifar --algorithm=CIFAR10Algorithm --device=0 --amp --lr-d=1e-2 --batch-size=512\",\n",
    "                      \"--n-epochs=2 --identifier=debug_tensorboard --clip-gradient=1000 --parallel=1 --accumulate=1 --no-deterministic\",\n",
    "                      \"--weight-decay=3e-5 --beta1=0.9\")\n",
    "experiment = Experiment(hparams, print_hyperparameters=False)\n",
    "alg = experiment.fit(CIFAR10Algorithm, CIFAR10Dataset)"
   ]
  },
  {
   "cell_type": "code",
   "execution_count": 7,
   "id": "1d5f0864-e772-4a4e-96c0-0db4f0b94514",
   "metadata": {},
   "outputs": [
    {
     "name": "stdout",
     "output_type": "stream",
     "text": [
      "\u001B[32m2022-07-12 14:45:18\u001B[0m | \u001B[1mINFO    \u001B[0m | \u001B[1mResuming existing experiment\u001B[0m\n",
      "\u001B[32m2022-07-12 14:45:18\u001B[0m | \u001B[1mINFO    \u001B[0m | \u001B[1mReload experiment from checkpoint: /tmp/cifar/cifar10/CIFAR10Algorithm/debug_tensorboard/0005_20220712_144328/checkpoints/checkpoint_000003\u001B[0m\n",
      "\u001B[32m2022-07-12 14:45:18\u001B[0m | \u001B[1mINFO    \u001B[0m | \u001B[1mSingle worker mode\u001B[0m\n",
      "\u001B[32m2022-07-12 14:45:18\u001B[0m | \u001B[1mINFO    \u001B[0m | \u001B[1mWorker: 1/1 is running...\u001B[0m\n",
      "\u001B[32m2022-07-12 14:45:19\u001B[0m | \u001B[1mINFO    \u001B[0m | \u001B[1mLoading network state from: /tmp/cifar/cifar10/CIFAR10Algorithm/debug_tensorboard/0005_20220712_144328/checkpoints/checkpoint_000003\u001B[0m\n"
     ]
    },
    {
     "data": {
      "application/vnd.jupyter.widget-view+json": {
       "model_id": "2295090d5f954597bc4eb7de6c92bca2",
       "version_major": 2,
       "version_minor": 0
      },
      "text/plain": [
       "train:   0%|          | 0/73 [00:00<?, ?it/s]"
      ]
     },
     "metadata": {},
     "output_type": "display_data"
    },
    {
     "name": "stderr",
     "output_type": "stream",
     "text": [
      "/opt/conda/lib/python3.8/site-packages/torch/optim/lr_scheduler.py:131: UserWarning: Detected call of `lr_scheduler.step()` before `optimizer.step()`. In PyTorch 1.1.0 and later, you should call them in the opposite order: `optimizer.step()` before `lr_scheduler.step()`.  Failure to do this will result in PyTorch skipping the first value of the learning rate schedule. See more details at https://pytorch.org/docs/stable/optim.html#how-to-adjust-learning-rate\n",
      "  warnings.warn(\"Detected call of `lr_scheduler.step()` before `optimizer.step()`. \"\n"
     ]
    },
    {
     "data": {
      "application/vnd.jupyter.widget-view+json": {
       "model_id": "85fde44ebaa64af28717838aa2a1e2d9",
       "version_major": 2,
       "version_minor": 0
      },
      "text/plain": [
       "validation:   0%|          | 0/22 [00:00<?, ?it/s]"
      ]
     },
     "metadata": {},
     "output_type": "display_data"
    },
    {
     "name": "stdout",
     "output_type": "stream",
     "text": [
      "\u001B[32m2022-07-12 14:45:25\u001B[0m | \u001B[1mINFO    \u001B[0m | \u001B[1m\u001B[0m\n",
      "\u001B[32m2022-07-12 14:45:25\u001B[0m | \u001B[1mINFO    \u001B[0m | \u001B[1mFinished epoch 3/2:\u001B[0m\n",
      "\u001B[32m2022-07-12 14:45:25\u001B[0m | \u001B[1mINFO    \u001B[0m | \u001B[1mtrain:\u001B[0m\n",
      "\u001B[32m2022-07-12 14:45:25\u001B[0m | \u001B[1mINFO    \u001B[0m | \u001B[1mloss:           | avg: 653.9     | std: 16.05     | min: 619.6     | 25%: 643.1     | 50%: 653.3     | 75%: 667.0     | max: 691.7     \u001B[0m\n",
      "\u001B[32m2022-07-12 14:45:25\u001B[0m | \u001B[1mINFO    \u001B[0m | \u001B[1macc:            | avg: 0.7998    | std: 0.0209    | min: 0.7559    | 25%: 0.7871    | 50%: 0.8008    | 75%: 0.8125    | max: 0.8535    \u001B[0m\n",
      "\u001B[32m2022-07-12 14:45:25\u001B[0m | \u001B[1mINFO    \u001B[0m | \u001B[1mlr:             | avg: 0.0005    | std: nan       | min: 0.0005    | 25%: 0.0005    | 50%: 0.0005    | 75%: 0.0005    | max: 0.0005    \u001B[0m\n",
      "\u001B[32m2022-07-12 14:45:25\u001B[0m | \u001B[1mINFO    \u001B[0m | \u001B[1mvalidation:\u001B[0m\n",
      "\u001B[32m2022-07-12 14:45:25\u001B[0m | \u001B[1mINFO    \u001B[0m | \u001B[1mloss:           | avg: 666.7     | std: 14.69     | min: 641.7     | 25%: 655.4     | 50%: 669.0     | 75%: 674.7     | max: 693.0     \u001B[0m\n",
      "\u001B[32m2022-07-12 14:45:25\u001B[0m | \u001B[1mINFO    \u001B[0m | \u001B[1macc:            | avg: 0.7811    | std: 0.0205    | min: 0.752     | 25%: 0.7656    | 50%: 0.7734    | 75%: 0.7925    | max: 0.8203    \u001B[0m\n"
     ]
    },
    {
     "data": {
      "application/vnd.jupyter.widget-view+json": {
       "model_id": "bc930baea27c411e867fdfd1cf050201",
       "version_major": 2,
       "version_minor": 0
      },
      "text/plain": [
       "train:   0%|          | 0/73 [00:00<?, ?it/s]"
      ]
     },
     "metadata": {},
     "output_type": "display_data"
    },
    {
     "data": {
      "application/vnd.jupyter.widget-view+json": {
       "model_id": "ee1bba74e7cb44fa96e1997aeb77d52c",
       "version_major": 2,
       "version_minor": 0
      },
      "text/plain": [
       "validation:   0%|          | 0/22 [00:00<?, ?it/s]"
      ]
     },
     "metadata": {},
     "output_type": "display_data"
    },
    {
     "name": "stdout",
     "output_type": "stream",
     "text": [
      "\u001B[32m2022-07-12 14:45:35\u001B[0m | \u001B[1mINFO    \u001B[0m | \u001B[1m\u001B[0m\n",
      "\u001B[32m2022-07-12 14:45:35\u001B[0m | \u001B[1mINFO    \u001B[0m | \u001B[1mFinished epoch 5/2:\u001B[0m\n",
      "\u001B[32m2022-07-12 14:45:35\u001B[0m | \u001B[1mINFO    \u001B[0m | \u001B[1mtrain:\u001B[0m\n",
      "\u001B[32m2022-07-12 14:45:35\u001B[0m | \u001B[1mINFO    \u001B[0m | \u001B[1mloss:           | avg: 616.9     | std: 15.44     | min: 583.2     | 25%: 606.6     | 50%: 616.6     | 75%: 623.9     | max: 685.1     \u001B[0m\n",
      "\u001B[32m2022-07-12 14:45:35\u001B[0m | \u001B[1mINFO    \u001B[0m | \u001B[1macc:            | avg: 0.8421    | std: 0.02064   | min: 0.7441    | 25%: 0.8359    | 50%: 0.8438    | 75%: 0.8535    | max: 0.8809    \u001B[0m\n",
      "\u001B[32m2022-07-12 14:45:35\u001B[0m | \u001B[1mINFO    \u001B[0m | \u001B[1mlr:             | avg: 0.0005703 | std: nan       | min: 0.0005703 | 25%: 0.0005703 | 50%: 0.0005703 | 75%: 0.0005703 | max: 0.0005703 \u001B[0m\n",
      "\u001B[32m2022-07-12 14:45:35\u001B[0m | \u001B[1mINFO    \u001B[0m | \u001B[1mvalidation:\u001B[0m\n",
      "\u001B[32m2022-07-12 14:45:35\u001B[0m | \u001B[1mINFO    \u001B[0m | \u001B[1mloss:           | avg: 645.9     | std: 16.34     | min: 615.5     | 25%: 633.0     | 50%: 646.6     | 75%: 655.4     | max: 675.5     \u001B[0m\n",
      "\u001B[32m2022-07-12 14:45:35\u001B[0m | \u001B[1mINFO    \u001B[0m | \u001B[1macc:            | avg: 0.809     | std: 0.02177   | min: 0.7715    | 25%: 0.7915    | 50%: 0.8076    | 75%: 0.8281    | max: 0.8438    \u001B[0m\n"
     ]
    }
   ],
   "source": [
    "hparams = beam_arguments(get_cifar10_parser(), f\"--project-name=cifar10 --root-dir=/tmp/cifar --algorithm=CIFAR10Algorithm --device=0 --amp --lr-d=1e-2 --batch-size=512\",\n",
    "                      \"--n-epochs=2 --identifier=debug_tensorboard --clip-gradient=1000 --parallel=1 --accumulate=1 --no-deterministic --reload\",\n",
    "                      \"--weight-decay=3e-5 --beta1=0.9\")\n",
    "experiment = Experiment(hparams, print_hyperparameters=False)\n",
    "alg = experiment.fit(CIFAR10Algorithm, CIFAR10Dataset)"
   ]
  },
  {
   "cell_type": "code",
   "execution_count": 8,
   "id": "74a2fd03-a519-4245-b71f-5f09175d58a8",
   "metadata": {},
   "outputs": [
    {
     "data": {
      "text/html": [
       "\n",
       "      <iframe id=\"tensorboard-frame-76dd9530e0b9ae29\" width=\"100%\" height=\"800\" frameborder=\"0\">\n",
       "      </iframe>\n",
       "      <script>\n",
       "        (function() {\n",
       "          const frame = document.getElementById(\"tensorboard-frame-76dd9530e0b9ae29\");\n",
       "          const url = new URL(\"/\", window.location);\n",
       "          const port = 13070;\n",
       "          if (port) {\n",
       "            url.port = port;\n",
       "          }\n",
       "          frame.src = url;\n",
       "        })();\n",
       "      </script>\n",
       "    "
      ],
      "text/plain": [
       "<IPython.core.display.HTML object>"
      ]
     },
     "metadata": {},
     "output_type": "display_data"
    }
   ],
   "source": [
    "%tensorboard --bind_all --logdir '/tmp/cifar/cifar10/CIFAR10Algorithm/debug_tensorboard/0005_20220712_144328/checkpoints/checkpoint_000003' --port 13070"
   ]
  },
  {
   "cell_type": "code",
   "execution_count": 16,
   "id": "6975c28b-6a17-40ed-9f6e-fdf55e641228",
   "metadata": {},
   "outputs": [],
   "source": [
    "hparams = beam_arguments(get_cifar10_parser(), f\"--project-name=cifar10 --root-dir=/tmp/cifar --algorithm=CIFAR10Algorithm --device=0 --amp --lr-d=1e-2 --batch-size=512\",\n",
    "                      \"--n-epochs=4 --clip-gradient=1000 --parallel=1 --accumulate=1 --no-deterministic\",\n",
    "                      \"--weight-decay=3e-5 --beta1=0.9\")"
   ]
  },
  {
   "cell_type": "markdown",
   "id": "9d111537-ec3f-413b-891f-c847981c765f",
   "metadata": {},
   "source": [
    "Lets call a new experiment instance. We can avoid printing all the hyperparameters by setting the argument ```print_hyperparameters=False```"
   ]
  },
  {
   "cell_type": "code",
   "execution_count": 17,
   "id": "c9e9a514-4aed-472a-b163-f473adeba548",
   "metadata": {},
   "outputs": [
    {
     "name": "stdout",
     "output_type": "stream",
     "text": [
      "\u001B[32m2022-07-12 13:26:09\u001B[0m | \u001B[1mINFO    \u001B[0m | \u001B[1mCreating new experiment\u001B[0m\n",
      "\u001B[32m2022-07-12 13:26:09\u001B[0m | \u001B[1mINFO    \u001B[0m | \u001B[1mExperiment directory is: /tmp/cifar/cifar10/CIFAR10Algorithm/debug/0032_20220712_132609\u001B[0m\n"
     ]
    }
   ],
   "source": [
    "experiment = Experiment(hparams, print_hyperparameters=False)"
   ]
  },
  {
   "cell_type": "code",
   "execution_count": 18,
   "id": "2db870ec-1e51-45c8-9c8c-f96ce5be5405",
   "metadata": {},
   "outputs": [],
   "source": [
    "from cifar10_example import CIFAR10Algorithm"
   ]
  },
  {
   "cell_type": "code",
   "execution_count": 19,
   "id": "91e0c9ed-cc4c-4997-8702-bbe3a2ed78b5",
   "metadata": {},
   "outputs": [
    {
     "name": "stdout",
     "output_type": "stream",
     "text": [
      "\u001B[32m2022-07-12 13:26:10\u001B[0m | \u001B[1mINFO    \u001B[0m | \u001B[1mSingle worker mode\u001B[0m\n",
      "\u001B[32m2022-07-12 13:26:10\u001B[0m | \u001B[1mINFO    \u001B[0m | \u001B[1mWorker: 1/1 is running...\u001B[0m\n"
     ]
    },
    {
     "name": "stderr",
     "output_type": "stream",
     "text": [
      "2022-07-12 13:26:10.596910: I tensorflow/core/util/util.cc:169] oneDNN custom operations are on. You may see slightly different numerical results due to floating-point round-off errors from different computation orders. To turn them off, set the environment variable `TF_ENABLE_ONEDNN_OPTS=0`.\n"
     ]
    },
    {
     "data": {
      "application/vnd.jupyter.widget-view+json": {
       "model_id": "7e13b51cac2b452fb86e92bb9873b6a2",
       "version_major": 2,
       "version_minor": 0
      },
      "text/plain": [
       "train:   0%|          | 0/73 [00:00<?, ?it/s]"
      ]
     },
     "metadata": {},
     "output_type": "display_data"
    },
    {
     "name": "stderr",
     "output_type": "stream",
     "text": [
      "/opt/conda/lib/python3.8/site-packages/torch/optim/lr_scheduler.py:131: UserWarning: Detected call of `lr_scheduler.step()` before `optimizer.step()`. In PyTorch 1.1.0 and later, you should call them in the opposite order: `optimizer.step()` before `lr_scheduler.step()`.  Failure to do this will result in PyTorch skipping the first value of the learning rate schedule. See more details at https://pytorch.org/docs/stable/optim.html#how-to-adjust-learning-rate\n",
      "  warnings.warn(\"Detected call of `lr_scheduler.step()` before `optimizer.step()`. \"\n"
     ]
    },
    {
     "data": {
      "application/vnd.jupyter.widget-view+json": {
       "model_id": "6331bb350c0747379b240090d8d93173",
       "version_major": 2,
       "version_minor": 0
      },
      "text/plain": [
       "validation:   0%|          | 0/22 [00:00<?, ?it/s]"
      ]
     },
     "metadata": {},
     "output_type": "display_data"
    },
    {
     "name": "stdout",
     "output_type": "stream",
     "text": [
      "\u001B[32m2022-07-12 13:26:20\u001B[0m | \u001B[1mINFO    \u001B[0m | \u001B[1m\u001B[0m\n",
      "\u001B[32m2022-07-12 13:26:20\u001B[0m | \u001B[1mINFO    \u001B[0m | \u001B[1mFinished epoch 1/4:\u001B[0m\n",
      "\u001B[32m2022-07-12 13:26:20\u001B[0m | \u001B[1mINFO    \u001B[0m | \u001B[1mtrain:\u001B[0m\n",
      "\u001B[32m2022-07-12 13:26:20\u001B[0m | \u001B[1mINFO    \u001B[0m | \u001B[1mloss:           | avg: 914.2     | std: 115.7     | min: 751.4     | 25%: 824.9     | 50%: 884.4     | 75%: 985.9     | max: 1.18e+03  \u001B[0m\n",
      "\u001B[32m2022-07-12 13:26:20\u001B[0m | \u001B[1mINFO    \u001B[0m | \u001B[1macc:            | avg: 0.4709    | std: 0.1482    | min: 0.08984   | 25%: 0.3789    | 50%: 0.4961    | 75%: 0.5859    | max: 0.6855    \u001B[0m\n",
      "\u001B[32m2022-07-12 13:26:20\u001B[0m | \u001B[1mINFO    \u001B[0m | \u001B[1mlr:             | avg: 0.0005    | std: nan       | min: 0.0005    | 25%: 0.0005    | 50%: 0.0005    | 75%: 0.0005    | max: 0.0005    \u001B[0m\n",
      "\u001B[32m2022-07-12 13:26:20\u001B[0m | \u001B[1mINFO    \u001B[0m | \u001B[1mvalidation:\u001B[0m\n",
      "\u001B[32m2022-07-12 13:26:20\u001B[0m | \u001B[1mINFO    \u001B[0m | \u001B[1mloss:           | avg: 772.2     | std: 12.63     | min: 748.3     | 25%: 763.3     | 50%: 771.9     | 75%: 782.5     | max: 792.5     \u001B[0m\n",
      "\u001B[32m2022-07-12 13:26:20\u001B[0m | \u001B[1mINFO    \u001B[0m | \u001B[1macc:            | avg: 0.6515    | std: 0.02005   | min: 0.6211    | 25%: 0.6353    | 50%: 0.6475    | 75%: 0.6636    | max: 0.7012    \u001B[0m\n"
     ]
    },
    {
     "data": {
      "application/vnd.jupyter.widget-view+json": {
       "model_id": "c0911d5ca9434b0ca6f5115b31a0a597",
       "version_major": 2,
       "version_minor": 0
      },
      "text/plain": [
       "train:   0%|          | 0/73 [00:00<?, ?it/s]"
      ]
     },
     "metadata": {},
     "output_type": "display_data"
    },
    {
     "data": {
      "application/vnd.jupyter.widget-view+json": {
       "model_id": "5e8baeade3214967b2f9fc24567208f9",
       "version_major": 2,
       "version_minor": 0
      },
      "text/plain": [
       "validation:   0%|          | 0/22 [00:00<?, ?it/s]"
      ]
     },
     "metadata": {},
     "output_type": "display_data"
    },
    {
     "name": "stdout",
     "output_type": "stream",
     "text": [
      "\u001B[32m2022-07-12 13:26:29\u001B[0m | \u001B[1mINFO    \u001B[0m | \u001B[1m\u001B[0m\n",
      "\u001B[32m2022-07-12 13:26:29\u001B[0m | \u001B[1mINFO    \u001B[0m | \u001B[1mFinished epoch 2/4:\u001B[0m\n",
      "\u001B[32m2022-07-12 13:26:29\u001B[0m | \u001B[1mINFO    \u001B[0m | \u001B[1mtrain:\u001B[0m\n",
      "\u001B[32m2022-07-12 13:26:29\u001B[0m | \u001B[1mINFO    \u001B[0m | \u001B[1mloss:           | avg: 722.2     | std: 30.06     | min: 666.0     | 25%: 694.1     | 50%: 721.7     | 75%: 744.7     | max: 786.8     \u001B[0m\n",
      "\u001B[32m2022-07-12 13:26:29\u001B[0m | \u001B[1mINFO    \u001B[0m | \u001B[1macc:            | avg: 0.7148    | std: 0.04009   | min: 0.6094    | 25%: 0.6855    | 50%: 0.7129    | 75%: 0.7422    | max: 0.7832    \u001B[0m\n",
      "\u001B[32m2022-07-12 13:26:29\u001B[0m | \u001B[1mINFO    \u001B[0m | \u001B[1mlr:             | avg: 0.0005703 | std: nan       | min: 0.0005703 | 25%: 0.0005703 | 50%: 0.0005703 | 75%: 0.0005703 | max: 0.0005703 \u001B[0m\n",
      "\u001B[32m2022-07-12 13:26:29\u001B[0m | \u001B[1mINFO    \u001B[0m | \u001B[1mvalidation:\u001B[0m\n",
      "\u001B[32m2022-07-12 13:26:29\u001B[0m | \u001B[1mINFO    \u001B[0m | \u001B[1mloss:           | avg: 697.2     | std: 15.42     | min: 666.0     | 25%: 687.1     | 50%: 698.2     | 75%: 704.5     | max: 726.9     \u001B[0m\n",
      "\u001B[32m2022-07-12 13:26:29\u001B[0m | \u001B[1mINFO    \u001B[0m | \u001B[1macc:            | avg: 0.7498    | std: 0.02219   | min: 0.7129    | 25%: 0.7388    | 50%: 0.7461    | 75%: 0.7598    | max: 0.8027    \u001B[0m\n"
     ]
    },
    {
     "data": {
      "application/vnd.jupyter.widget-view+json": {
       "model_id": "2a86a1e523ad474fa2c7aec388ae3605",
       "version_major": 2,
       "version_minor": 0
      },
      "text/plain": [
       "train:   0%|          | 0/73 [00:00<?, ?it/s]"
      ]
     },
     "metadata": {},
     "output_type": "display_data"
    },
    {
     "data": {
      "application/vnd.jupyter.widget-view+json": {
       "model_id": "2c74ef53865e48b7980cd8ba7e971c4f",
       "version_major": 2,
       "version_minor": 0
      },
      "text/plain": [
       "validation:   0%|          | 0/22 [00:00<?, ?it/s]"
      ]
     },
     "metadata": {},
     "output_type": "display_data"
    },
    {
     "name": "stdout",
     "output_type": "stream",
     "text": [
      "\u001B[32m2022-07-12 13:26:39\u001B[0m | \u001B[1mINFO    \u001B[0m | \u001B[1m\u001B[0m\n",
      "\u001B[32m2022-07-12 13:26:39\u001B[0m | \u001B[1mINFO    \u001B[0m | \u001B[1mFinished epoch 3/4:\u001B[0m\n",
      "\u001B[32m2022-07-12 13:26:39\u001B[0m | \u001B[1mINFO    \u001B[0m | \u001B[1mtrain:\u001B[0m\n",
      "\u001B[32m2022-07-12 13:26:39\u001B[0m | \u001B[1mINFO    \u001B[0m | \u001B[1mloss:           | avg: 665.9     | std: 18.98     | min: 626.8     | 25%: 652.1     | 50%: 661.3     | 75%: 676.3     | max: 717.1     \u001B[0m\n",
      "\u001B[32m2022-07-12 13:26:39\u001B[0m | \u001B[1mINFO    \u001B[0m | \u001B[1macc:            | avg: 0.7847    | std: 0.02691   | min: 0.7148    | 25%: 0.7656    | 50%: 0.7871    | 75%: 0.8047    | max: 0.8438    \u001B[0m\n",
      "\u001B[32m2022-07-12 13:26:39\u001B[0m | \u001B[1mINFO    \u001B[0m | \u001B[1mlr:             | avg: 0.0008555 | std: nan       | min: 0.0008555 | 25%: 0.0008555 | 50%: 0.0008555 | 75%: 0.0008555 | max: 0.0008555 \u001B[0m\n",
      "\u001B[32m2022-07-12 13:26:39\u001B[0m | \u001B[1mINFO    \u001B[0m | \u001B[1mvalidation:\u001B[0m\n",
      "\u001B[32m2022-07-12 13:26:39\u001B[0m | \u001B[1mINFO    \u001B[0m | \u001B[1mloss:           | avg: 689.2     | std: 11.3      | min: 676.9     | 25%: 682.4     | 50%: 684.3     | 75%: 694.9     | max: 722.7     \u001B[0m\n",
      "\u001B[32m2022-07-12 13:26:39\u001B[0m | \u001B[1mINFO    \u001B[0m | \u001B[1macc:            | avg: 0.7583    | std: 0.01994   | min: 0.707     | 25%: 0.7456    | 50%: 0.7627    | 75%: 0.769     | max: 0.791     \u001B[0m\n"
     ]
    },
    {
     "data": {
      "application/vnd.jupyter.widget-view+json": {
       "model_id": "05603cd9fe8841b480fb6faaa591cbbe",
       "version_major": 2,
       "version_minor": 0
      },
      "text/plain": [
       "train:   0%|          | 0/73 [00:00<?, ?it/s]"
      ]
     },
     "metadata": {},
     "output_type": "display_data"
    },
    {
     "data": {
      "application/vnd.jupyter.widget-view+json": {
       "model_id": "540be3980e4c4603a3817498ccbbaa08",
       "version_major": 2,
       "version_minor": 0
      },
      "text/plain": [
       "validation:   0%|          | 0/22 [00:00<?, ?it/s]"
      ]
     },
     "metadata": {},
     "output_type": "display_data"
    },
    {
     "name": "stdout",
     "output_type": "stream",
     "text": [
      "\u001B[32m2022-07-12 13:26:48\u001B[0m | \u001B[1mINFO    \u001B[0m | \u001B[1m\u001B[0m\n",
      "\u001B[32m2022-07-12 13:26:48\u001B[0m | \u001B[1mINFO    \u001B[0m | \u001B[1mFinished epoch 4/4:\u001B[0m\n",
      "\u001B[32m2022-07-12 13:26:48\u001B[0m | \u001B[1mINFO    \u001B[0m | \u001B[1mtrain:\u001B[0m\n",
      "\u001B[32m2022-07-12 13:26:48\u001B[0m | \u001B[1mINFO    \u001B[0m | \u001B[1mloss:           | avg: 634.8     | std: 18.45     | min: 601.3     | 25%: 624.4     | 50%: 630.3     | 75%: 645.5     | max: 684.8     \u001B[0m\n",
      "\u001B[32m2022-07-12 13:26:48\u001B[0m | \u001B[1mINFO    \u001B[0m | \u001B[1macc:            | avg: 0.8193    | std: 0.02431   | min: 0.7539    | 25%: 0.8086    | 50%: 0.8223    | 75%: 0.8359    | max: 0.8711    \u001B[0m\n",
      "\u001B[32m2022-07-12 13:26:48\u001B[0m | \u001B[1mINFO    \u001B[0m | \u001B[1mlr:             | avg: 0.001141  | std: nan       | min: 0.001141  | 25%: 0.001141  | 50%: 0.001141  | 75%: 0.001141  | max: 0.001141  \u001B[0m\n",
      "\u001B[32m2022-07-12 13:26:48\u001B[0m | \u001B[1mINFO    \u001B[0m | \u001B[1mvalidation:\u001B[0m\n",
      "\u001B[32m2022-07-12 13:26:48\u001B[0m | \u001B[1mINFO    \u001B[0m | \u001B[1mloss:           | avg: 662.0     | std: 12.33     | min: 632.2     | 25%: 654.9     | 50%: 663.9     | 75%: 671.6     | max: 678.2     \u001B[0m\n",
      "\u001B[32m2022-07-12 13:26:48\u001B[0m | \u001B[1mINFO    \u001B[0m | \u001B[1macc:            | avg: 0.7919    | std: 0.01559   | min: 0.7695    | 25%: 0.7798    | 50%: 0.7881    | 75%: 0.8018    | max: 0.8301    \u001B[0m\n"
     ]
    }
   ],
   "source": [
    "alg = experiment.fit(CIFAR10Algorithm, CIFAR10Dataset)"
   ]
  },
  {
   "cell_type": "code",
   "execution_count": null,
   "id": "7feef5e7-1709-42f5-b09b-92ab683a2aa3",
   "metadata": {},
   "outputs": [],
   "source": []
  },
  {
   "cell_type": "code",
   "execution_count": null,
   "id": "d5d242c7-5199-4b11-8bff-859955f04bb6",
   "metadata": {},
   "outputs": [],
   "source": [
    "def postprocess_epoch(self, sample=None, results=None, epoch=None, subset=None, training=True):\n",
    "\n",
    "        x, y = sample['x'], sample['y']\n",
    "\n",
    "        results['images']['sample'] = x[:16].view(16, 3, 32, 32).data.cpu()\n",
    "\n",
    "        if training:\n",
    "            results['scalar'][f'lr'] = self.optimizers['net'].dense.param_groups[0]['lr']\n",
    "\n",
    "        return results\n",
    "\n",
    "\n",
    "    def report(self, results, i):\n",
    "\n",
    "        acc = np.mean(results['validation']['scalar']['acc'])\n",
    "\n",
    "        if self.hpo == 'tune':\n",
    "            tune.report(mean_accuracy=acc)\n",
    "        elif self.hpo == 'optuna':\n",
    "\n",
    "            self.trial.report(acc, i)\n",
    "            results['objective'] = acc\n",
    "\n",
    "        else:\n",
    "            raise NotImplementedError\n",
    "\n",
    "        return results\n",
    "\n",
    "    def inference(self, sample=None, results=None, subset=None, predicting=True):\n",
    "\n",
    "        if predicting:\n",
    "            x = sample\n",
    "        else:\n",
    "            x, y = sample['x'], sample['y']\n",
    "\n",
    "        net = self.networks['net']\n",
    "\n",
    "        y_hat = net(x)\n",
    "\n",
    "        # add scalar measurements\n",
    "        results['predictions']['y_pred'].append(y_hat.detach())\n",
    "\n",
    "        if not predicting:\n",
    "            results['scalar']['acc'].append(float((y_hat.argmax(1) == y).float().mean()))\n",
    "            results['predictions']['target'].append(y)\n",
    "\n",
    "        return results\n",
    "\n",
    "    def postprocess_inference(self, sample=None, results=None, subset=None, predicting=True):\n",
    "        y_pred = torch.cat(results['predictions']['y_pred'])\n",
    "\n",
    "        y_pred = torch.argmax(y_pred, dim=1).data.cpu().numpy()\n",
    "\n",
    "        if not predicting:\n",
    "            y_true = torch.cat(results['predictions']['target']).data.cpu().numpy()\n",
    "            precision, recall, fscore, support = precision_recall_fscore_support(y_true, y_pred)\n",
    "            results['metrics']['precision'] = precision\n",
    "            results['metrics']['recall'] = recall\n",
    "            results['metrics']['fscore'] = fscore\n",
    "            results['metrics']['support'] = support\n",
    "\n",
    "        return results"
   ]
  }
 ],
 "metadata": {
  "kernelspec": {
   "display_name": "Python 3 (ipykernel)",
   "language": "python",
   "name": "python3"
  },
  "language_info": {
   "codemirror_mode": {
    "name": "ipython",
    "version": 3
   },
   "file_extension": ".py",
   "mimetype": "text/x-python",
   "name": "python",
   "nbconvert_exporter": "python",
   "pygments_lexer": "ipython3",
   "version": "3.8.12"
  }
 },
 "nbformat": 4,
 "nbformat_minor": 5
}