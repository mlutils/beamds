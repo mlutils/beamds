{
 "cells": [
  {
   "cell_type": "code",
   "execution_count": 1,
   "id": "ca410dc1-0814-4397-ba4a-ed802493e0b0",
   "metadata": {},
   "outputs": [],
   "source": [
    "%load_ext autoreload\n",
    "%autoreload 2\n",
    "\n",
    "import sys\n",
    "sys.path.append('..')\n",
    "\n",
    "import torch\n",
    "import torchvision\n",
    "import torch.nn.functional as F\n",
    "from torch import nn\n",
    "from sklearn.metrics import precision_recall_fscore_support\n",
    "import numpy as np\n",
    "import os\n",
    "\n",
    "from src.beam import beam_arguments, Experiment\n",
    "from src.beam import UniversalDataset, UniversalBatchSampler\n",
    "from src.beam import Algorithm, PackedFolds\n",
    "from src.beam import DataTensor, BeamOptimizer, beam_logger\n",
    "\n",
    "from torchvision import transforms\n",
    "import torchvision\n",
    "from ray import tune\n",
    "\n",
    "import matplotlib.pyplot as plt"
   ]
  },
  {
   "cell_type": "markdown",
   "id": "c56fa4ba-30c7-4430-a44c-c8c154bbbed1",
   "metadata": {},
   "source": [
    "# Deep Learning Projects with Beam: a Step-by-Step Guide"
   ]
  },
  {
   "cell_type": "markdown",
   "id": "ebdfb50b-1e4f-4165-98cd-0d888fd4eb0b",
   "metadata": {},
   "source": [
    "In this tutorial we'll cover the best practices in building a new beam project. We'll go over all the essential steps when building a project from scratch and using both Jupyter and Pycharm as IDE and developement tools.\n",
    "\n",
    "Usually, you'll get the most out of beam if you **build your project with beam** and avoid porting your existing project to beam. Therefore, we hope that after completing this guide, your first choice will always be to start a beam project from scratch. \n",
    "\n",
    "So, let's start."
   ]
  },
  {
   "cell_type": "markdown",
   "id": "610ac087-9c3e-4407-920e-26e4300bccbe",
   "metadata": {},
   "source": [
    "For this tutorial we will use the CIFAR10 classification task.\n",
    "\n",
    "Our steps will be:\n",
    "\n",
    "1. Building a Dataset.\n",
    "2. Building a neural-net.\n",
    "3. Writing an iteration loop.\n",
    "4. Building an algorithm based on the iteration loop.\n",
    "5. Optional: building an argument parser.\n",
    "6. Training your algorithm with default parameters.\n",
    "7. Optimizing your hyperparameters with the Study class.\n"
   ]
  },
  {
   "cell_type": "markdown",
   "id": "74901e1d-9fe0-45c5-a318-6011a329dab4",
   "metadata": {},
   "source": [
    "## Building a dataset"
   ]
  },
  {
   "cell_type": "markdown",
   "id": "a17e7cb7-23fc-47df-9513-9ecdbe46556f",
   "metadata": {},
   "source": [
    "As usual we'll start with exploring the data. This time we can use torchvision to download the data."
   ]
  },
  {
   "cell_type": "code",
   "execution_count": 2,
   "id": "1be9aab9-27c4-4559-818a-ca72b1149e36",
   "metadata": {},
   "outputs": [
    {
     "name": "stdout",
     "output_type": "stream",
     "text": [
      "Files already downloaded and verified\n"
     ]
    }
   ],
   "source": [
    "path_to_data = '/localdata/elads/data/datasets/cifar10'\n",
    "dataset = torchvision.datasets.CIFAR10(root=path_to_data, train=True, transform=torchvision.transforms.PILToTensor(), download=True)"
   ]
  },
  {
   "cell_type": "markdown",
   "id": "d9a8c1cf-0d79-4690-8bda-0015ec8d0d25",
   "metadata": {},
   "source": [
    "Here we used the ```torchvision.transforms.PILToTensor``` to transform the PIL image to tensor. Lets take for example the first image and print its associated label and shape"
   ]
  },
  {
   "cell_type": "code",
   "execution_count": 3,
   "id": "9b2d6173-56a4-42e3-bb7d-c295cdba6129",
   "metadata": {},
   "outputs": [
    {
     "name": "stdout",
     "output_type": "stream",
     "text": [
      "6\n",
      "torch.Size([3, 32, 32])\n"
     ]
    }
   ],
   "source": [
    "img, label = dataset[0]\n",
    "print(label)\n",
    "print(img.shape)"
   ]
  },
  {
   "cell_type": "markdown",
   "id": "5f3f6aba-b9c5-453e-9163-1f4a4ce849f7",
   "metadata": {},
   "source": [
    "Lets plot the image with matplotlib:"
   ]
  },
  {
   "cell_type": "code",
   "execution_count": 4,
   "id": "b121234e-bcd0-49a5-abf6-6d49ad5c2808",
   "metadata": {},
   "outputs": [
    {
     "data": {
      "text/plain": [
       "<matplotlib.image.AxesImage at 0x7f937ecb0880>"
      ]
     },
     "execution_count": 4,
     "metadata": {},
     "output_type": "execute_result"
    },
    {
     "data": {
      "image/png": "[encoded data removed]",
      "text/plain": [
       "<Figure size 432x288 with 1 Axes>"
      ]
     },
     "metadata": {
      "needs_background": "light"
     },
     "output_type": "display_data"
    }
   ],
   "source": [
    "plt.imshow(img.permute(1, 2, 0).numpy())"
   ]
  },
  {
   "cell_type": "markdown",
   "id": "b50723eb-a062-4e23-8e79-16af9b2514b2",
   "metadata": {},
   "source": [
    "Now we are ready to build our very first beam object which is the Dataset. We start by building a prototype in the notebook and later we will save it into the project .py file"
   ]
  },
  {
   "cell_type": "markdown",
   "id": "cc8af282-ffe9-4bad-8dde-fc4afd6ef155",
   "metadata": {},
   "source": [
    "First, instead of downloading and preprocessing the data each time, we will store a tensor version of both the train and the test parts of the data. If the file exists, we will directly read the data from the disk. if not, we download it and store the downloaded data as torch pickled object."
   ]
  },
  {
   "cell_type": "code",
   "execution_count": 5,
   "id": "1c88562c-42b2-4459-9bf1-846ef76d5965",
   "metadata": {},
   "outputs": [],
   "source": [
    "path = path_to_data\n",
    "device = torch.device(0)\n",
    "\n",
    "file = os.path.join(path, 'dataset_uint8.pt')\n",
    "if os.path.exists(file):\n",
    "    x_train, x_test, y_train, y_test = torch.load(file, map_location=device)\n",
    "\n",
    "else:\n",
    "    dataset_train = torchvision.datasets.CIFAR10(root=path, train=True,\n",
    "                                                 transform=torchvision.transforms.PILToTensor(), download=True)\n",
    "    dataset_test = torchvision.datasets.CIFAR10(root=path, train=False,\n",
    "                                                transform=torchvision.transforms.PILToTensor(), download=True)\n",
    "\n",
    "    x_train = torch.stack([dataset_train[i][0] for i in range(len(dataset_train))]).to(device)\n",
    "    x_test = torch.stack([dataset_test[i][0] for i in range(len(dataset_test))]).to(device)\n",
    "\n",
    "    y_train = torch.LongTensor(dataset_train.targets).to(device)\n",
    "    y_test = torch.LongTensor(dataset_test.targets).to(device)\n",
    "\n",
    "    torch.save((x_train, x_test, y_train, y_test), file)"
   ]
  },
  {
   "cell_type": "code",
   "execution_count": 6,
   "id": "cb349fe7-24ec-437d-8f5c-e8f147746bf5",
   "metadata": {},
   "outputs": [
    {
     "name": "stdout",
     "output_type": "stream",
     "text": [
      "torch.Size([50000, 3, 32, 32]) torch.Size([10000, 3, 32, 32]) torch.Size([50000]) torch.Size([10000])\n",
      "cuda:0 cuda:0 cuda:0 cuda:0\n",
      "torch.uint8 torch.uint8 torch.int64 torch.int64\n"
     ]
    }
   ],
   "source": [
    "print(x_train.shape, x_test.shape, y_train.shape, y_test.shape)\n",
    "print(x_train.device, x_test.device, y_train.device, y_test.device)\n",
    "print(x_train.dtype, x_test.dtype, y_train.dtype, y_test.dtype)"
   ]
  },
  {
   "cell_type": "markdown",
   "id": "70d98425-5be4-4ec0-85c8-e237c5f7d217",
   "metadata": {},
   "source": [
    "The Beam Dataset object, works best with a single one-dimentional index to fetch elements from the dataset. However, in our case, we have two objects, the train and the test part. A simple solution could be to concatenate them together:"
   ]
  },
  {
   "cell_type": "code",
   "execution_count": 7,
   "id": "b1a9e53e-3a3d-4428-8d91-d29d942f0ee7",
   "metadata": {},
   "outputs": [],
   "source": [
    "data = torch.cat([x_train, x_test])\n",
    "labels = torch.cat([y_train, y_test])\n",
    "test_indices = len(x_train) + torch.arange(len(x_test))"
   ]
  },
  {
   "cell_type": "markdown",
   "id": "f12ecd4f-cd70-4230-9ceb-f1594ac63e32",
   "metadata": {},
   "source": [
    "In this example, we also calculated the test_indices which we would like to store in order to fetch test examples."
   ]
  },
  {
   "cell_type": "markdown",
   "id": "0b0f9334-0cda-4c0e-b674-4303cb348604",
   "metadata": {},
   "source": [
    "While this solution is plausable, Beam is even more fun as it contains a PackedFolds object which is able to hold and index together multiple objects which may have different size. We can use the PackedFolds object to hold the two dataset parts, and calculate the test indices:"
   ]
  },
  {
   "cell_type": "code",
   "execution_count": 46,
   "id": "fb2c57ca-1e47-4cf7-b1f5-dc5c96116c18",
   "metadata": {},
   "outputs": [],
   "source": [
    "data = PackedFolds({'train': x_train, 'test': x_test})\n",
    "labels = PackedFolds({'train': y_train, 'test': y_test})\n",
    "test_indices = labels['test'].index"
   ]
  },
  {
   "cell_type": "markdown",
   "id": "339930e2-f401-4dba-8be8-a963a5634b66",
   "metadata": {},
   "source": [
    "we can use the PackedFolds object to access each part of the dataset"
   ]
  },
  {
   "cell_type": "code",
   "execution_count": 9,
   "id": "979b8fbe-4724-4832-993c-936caeb4ceaf",
   "metadata": {},
   "outputs": [
    {
     "data": {
      "text/plain": [
       "torch.Size([50000, 3, 32, 32])"
      ]
     },
     "execution_count": 9,
     "metadata": {},
     "output_type": "execute_result"
    }
   ],
   "source": [
    "data['train'].shape"
   ]
  },
  {
   "cell_type": "markdown",
   "id": "db949007-1de6-46c5-9706-aa2fdfc77762",
   "metadata": {},
   "source": [
    "We can fetch and slice the data with its indices as a normal tensor. Reffer to the PackedFolds tutorial for further explenations and examples."
   ]
  },
  {
   "cell_type": "code",
   "execution_count": 54,
   "id": "88f09cb5-eebe-421f-a109-2290418ed1c4",
   "metadata": {},
   "outputs": [
    {
     "data": {
      "text/plain": [
       "{'train': tensor([6, 9, 9,  ..., 9, 1, 1]), 'test': tensor([3, 8, 8,  ..., 5, 1, 7])}"
      ]
     },
     "execution_count": 54,
     "metadata": {},
     "output_type": "execute_result"
    }
   ],
   "source": [
    "labels"
   ]
  },
  {
   "cell_type": "code",
   "execution_count": 55,
   "id": "3a6015e7-440a-4670-967b-c6c634eec1f0",
   "metadata": {},
   "outputs": [
    {
     "data": {
      "text/plain": [
       "tensor([3, 8, 8,  ..., 5, 1, 7])"
      ]
     },
     "execution_count": 55,
     "metadata": {},
     "output_type": "execute_result"
    }
   ],
   "source": [
    "labels['test']"
   ]
  },
  {
   "cell_type": "code",
   "execution_count": 56,
   "id": "b530eca5-b8a5-4449-bc12-dd18f58ccfcc",
   "metadata": {},
   "outputs": [
    {
     "data": {
      "text/plain": [
       "tensor([1, 8, 5,  ..., 5, 1, 7])"
      ]
     },
     "execution_count": 56,
     "metadata": {},
     "output_type": "execute_result"
    }
   ],
   "source": [
    "labels[40000:60000]"
   ]
  },
  {
   "cell_type": "markdown",
   "id": "de4be0dd-c3e6-4a46-ae56-86839ba65e3c",
   "metadata": {},
   "source": [
    "Lets build a first version of our dataset, without augmentations. We are required to write the ```__getitem__``` method that samples batches from the data for a given index vector"
   ]
  },
  {
   "cell_type": "code",
   "execution_count": 66,
   "id": "4ba2736e-5a43-4acc-982e-d85fd689204d",
   "metadata": {},
   "outputs": [],
   "source": [
    "class CIFAR10Dataset(UniversalDataset):\n",
    "\n",
    "    def __init__(self, path, device):\n",
    "        super().__init__()\n",
    "\n",
    "        file = os.path.join(path, 'dataset_uint8.pt')\n",
    "        if os.path.exists(file):\n",
    "            x_train, x_test, y_train, y_test = torch.load(file, map_location=device)\n",
    "\n",
    "        else:\n",
    "            dataset_train = torchvision.datasets.CIFAR10(root=path, train=True,\n",
    "                                                         transform=torchvision.transforms.PILToTensor(), download=True)\n",
    "            dataset_test = torchvision.datasets.CIFAR10(root=path, train=False,\n",
    "                                                        transform=torchvision.transforms.PILToTensor(), download=True)\n",
    "\n",
    "            x_train = torch.stack([dataset_train[i][0] for i in range(len(dataset_train))]).to(device)\n",
    "            x_test = torch.stack([dataset_test[i][0] for i in range(len(dataset_test))]).to(device)\n",
    "\n",
    "            y_train = torch.LongTensor(dataset_train.targets).to(device)\n",
    "            y_test = torch.LongTensor(dataset_test.targets).to(device)\n",
    "\n",
    "            torch.save((x_train, x_test, y_train, y_test), file)\n",
    "\n",
    "\n",
    "        self.data = PackedFolds({'train': x_train, 'test': x_test})\n",
    "        self.labels = PackedFolds({'train': y_train, 'test': y_test})\n",
    "\n",
    "    def __getitem__(self, index):\n",
    "\n",
    "        x = self.data[index]\n",
    "\n",
    "        return {'x': x, 'y': self.labels[index]}"
   ]
  },
  {
   "cell_type": "markdown",
   "id": "411d313a-d069-4ad4-9df7-012a5ead183f",
   "metadata": {},
   "source": [
    "Lets make sure that we can sample a batch from this dataset:"
   ]
  },
  {
   "cell_type": "code",
   "execution_count": 67,
   "id": "183b616c-70c8-4f74-9c8b-a93fa2f7ee19",
   "metadata": {},
   "outputs": [],
   "source": [
    "dataset = CIFAR10Dataset(path_to_data, device)"
   ]
  },
  {
   "cell_type": "code",
   "execution_count": 68,
   "id": "5188d9bb-6742-4c04-ac32-27d9ceb372c8",
   "metadata": {},
   "outputs": [
    {
     "name": "stdout",
     "output_type": "stream",
     "text": [
      "{'x': torch.Size([10, 3, 32, 32]), 'y': torch.Size([10])}\n"
     ]
    }
   ],
   "source": [
    "d = dataset[10:20]\n",
    "print({k: v.shape for k, v in d.items()})"
   ]
  },
  {
   "cell_type": "markdown",
   "id": "0c38933c-a79e-41fe-b97d-c54220c64447",
   "metadata": {},
   "source": [
    "while the objects ```dataset.data``` and ```dataset.labels``` contain two folds, i.e. train and test, the dataset still is not aware of the different folds and their meaning. In addition, we usually would like to split the train subset into a train-validation sets. For the dataset split purposes, beam datasets have the split method which is able to split/random split/time based split your data. It also requires a seed to generate reproducable splits. In our case, to allot 20% of the examples to the validation subset, we will call the split method as follows:"
   ]
  },
  {
   "cell_type": "code",
   "execution_count": 71,
   "id": "b83299d1-5687-4ae2-b309-c84ba9dcae93",
   "metadata": {},
   "outputs": [],
   "source": [
    "seed = 5782\n",
    "\n",
    "dataset.split(validation=.2, test=dataset.labels['test'].index, seed=seed)"
   ]
  },
  {
   "cell_type": "markdown",
   "id": "8f4e7f81-d4e2-44fa-9a58-821d4d821ba0",
   "metadata": {},
   "source": [
    "Now the dataset contains the ```indices_split``` dictionary which holds all the different subsets. They will be used to further generate samplers and dataloaders to iterate over the data."
   ]
  },
  {
   "cell_type": "code",
   "execution_count": 73,
   "id": "3095959f-0a9e-4e14-ae58-8a947be6e64e",
   "metadata": {},
   "outputs": [
    {
     "name": "stdout",
     "output_type": "stream",
     "text": [
      "{'test': 10000, 'validation': 12000, 'train': 38000}\n"
     ]
    }
   ],
   "source": [
    "print({k: len(v) for k, v in dataset.indices_split.items()})\n"
   ]
  },
  {
   "cell_type": "markdown",
   "id": "5c421239-939d-48ff-a22c-a1246b3f71ba",
   "metadata": {},
   "source": [
    "In addition we can define different augmentations for the train/eval parts of the training. A nice property of the Beam dataset when combined with Beam algorithm is that like neural networks, it holds the ```training``` boolean property which sets the dataset in train/eval mode. The algorithm iterator toggles this property between train and eval sessions by calling ```dataset.train()``` or ```dataset.eval()``` (as with ```nn.Module``` objects). We can use this property to define different s"
   ]
  },
  {
   "cell_type": "code",
   "execution_count": null,
   "id": "d19c7e48-5b5f-4e14-b70e-b202cecf0a36",
   "metadata": {},
   "outputs": [],
   "source": [
    "\n",
    "\n",
    "padding = 4\n",
    "\n",
    "augmentations = transforms.Compose([transforms.RandomHorizontalFlip(),\n",
    "                                    transforms.RandomCrop(32, padding=padding, padding_mode='edge'),])\n",
    "\n",
    "self.t_basic = transforms.Compose([transforms.Lambda(lambda x: (x / 255)),\n",
    "                                    transforms.Normalize((0.4914, 0.4822, 0.4465), (0.247, 0.243, 0.261))])\n",
    "\n",
    "self.t_train = transforms.Compose([augmentations, self.t_basic])\n",
    "\n",
    "file = os.path.join(path, 'dataset_uint8.pt')\n",
    "if os.path.exists(file):\n",
    "    x_train, x_test, y_train, y_test = torch.load(file, map_location=device)\n",
    "\n",
    "else:\n",
    "    dataset_train = torchvision.datasets.CIFAR10(root=path, train=True,\n",
    "                                                 transform=torchvision.transforms.PILToTensor(), download=True)\n",
    "    dataset_test = torchvision.datasets.CIFAR10(root=path, train=False,\n",
    "                                                transform=torchvision.transforms.PILToTensor(), download=True)\n",
    "\n",
    "    x_train = torch.stack([dataset_train[i][0] for i in range(len(dataset_train))]).to(device)\n",
    "    x_test = torch.stack([dataset_test[i][0] for i in range(len(dataset_test))]).to(device)\n",
    "\n",
    "    y_train = torch.LongTensor(dataset_train.targets).to(device)\n",
    "    y_test = torch.LongTensor(dataset_test.targets).to(device)\n",
    "\n",
    "    torch.save((x_train, x_test, y_train, y_test), file)"
   ]
  }
 ],
 "metadata": {
  "kernelspec": {
   "display_name": "Python 3 (ipykernel)",
   "language": "python",
   "name": "python3"
  },
  "language_info": {
   "codemirror_mode": {
    "name": "ipython",
    "version": 3
   },
   "file_extension": ".py",
   "mimetype": "text/x-python",
   "name": "python",
   "nbconvert_exporter": "python",
   "pygments_lexer": "ipython3",
   "version": "3.8.12"
  }
 },
 "nbformat": 4,
 "nbformat_minor": 5
}
