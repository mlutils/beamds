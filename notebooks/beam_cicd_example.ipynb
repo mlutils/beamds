{
 "cells": [
  {
   "metadata": {},
   "cell_type": "code",
   "outputs": [],
   "execution_count": null,
   "source": "%load_ext beam_setup",
   "id": "bd6b1a47d46d3e4d"
  },
  {
   "cell_type": "code",
   "execution_count": null,
   "id": "initial_id",
   "metadata": {
    "collapsed": true
   },
   "outputs": [],
   "source": "from beam import resource"
  },
  {
   "metadata": {},
   "cell_type": "code",
   "outputs": [],
   "execution_count": null,
   "source": "from pdf_parser import pdf_loader # not needed",
   "id": "4a83ffdefcb38981"
  },
  {
   "metadata": {},
   "cell_type": "code",
   "outputs": [],
   "execution_count": null,
   "source": [
    "path = '/path/to/your/pdf'\n",
    "parsed = pdf_loader(path)\n",
    "# print(parsed"
   ],
   "id": "7b104fa2157e4835"
  },
  {
   "metadata": {},
   "cell_type": "code",
   "outputs": [],
   "execution_count": null,
   "source": [
    "from beam.auto import AutoBeam\n",
    "AutoBeam.to_bundle(pdf_loader, '/tmp/pdf_loader.abm')"
   ],
   "id": "388453c23ac46c86"
  },
  {
   "metadata": {},
   "cell_type": "code",
   "outputs": [],
   "execution_count": null,
   "source": "alg = resource('/tmp/pdf_loader.abm')",
   "id": "3272ce53e0388038"
  },
  {
   "metadata": {},
   "cell_type": "code",
   "outputs": [],
   "execution_count": null,
   "source": [
    "path = '/path/to/your/pdf'\n",
    "parsed = alg(path)"
   ],
   "id": "3db05dda210dcb79"
  },
  {
   "metadata": {},
   "cell_type": "code",
   "outputs": [],
   "execution_count": null,
   "source": "from beam import deploy_server",
   "id": "4bbaa4a8e81169ff"
  },
  {
   "metadata": {},
   "cell_type": "code",
   "outputs": [],
   "execution_count": null,
   "source": "manager = resource('http://api-35000-beam.apps.ocp4.dt.local')",
   "id": "66c76dc3c496ea44"
  },
  {
   "metadata": {},
   "cell_type": "code",
   "outputs": [],
   "execution_count": null,
   "source": "conf = resource('..examples/path/to/your/conf.yaml').read()",
   "id": "59a4a961ff58abf3"
  },
  {
   "metadata": {},
   "cell_type": "code",
   "outputs": [],
   "execution_count": null,
   "source": "from beam.orchestration import ServeClusterConfig",
   "id": "f5baca5d4107512d"
  },
  {
   "metadata": {
    "jupyter": {
     "is_executing": true
    }
   },
   "cell_type": "code",
   "source": [
    "conf = dict(project_name='starfield', deployment_name='pdf_parser',\n",
    "            labels={'app': 'pdf_parser'},\n",
    "            alg='/tmp/pdf_loader.abm',\n",
    "            )"
   ],
   "id": "f689f21f453a0afc",
   "outputs": [],
   "execution_count": null
  },
  {
   "metadata": {},
   "cell_type": "code",
   "outputs": [],
   "execution_count": null,
   "source": "conf = ServeClusterConfig('../examples/path/to/your/conf.yaml', **config)",
   "id": "747e5d4eecf7949e"
  },
  {
   "metadata": {},
   "cell_type": "code",
   "outputs": [],
   "execution_count": null,
   "source": "conf",
   "id": "fae3424164abf54a"
  },
  {
   "metadata": {},
   "cell_type": "code",
   "outputs": [],
   "execution_count": null,
   "source": "from beam import deploy_server",
   "id": "904ece542d6f4455"
  },
  {
   "metadata": {},
   "cell_type": "code",
   "outputs": [],
   "execution_count": null,
   "source": "manager.launch_serve_cluster(conf)",
   "id": "cd8f81445624e3c9"
  }
 ],
 "metadata": {
  "kernelspec": {
   "display_name": "Python 3",
   "language": "python",
   "name": "python3"
  },
  "language_info": {
   "codemirror_mode": {
    "name": "ipython",
    "version": 2
   },
   "file_extension": ".py",
   "mimetype": "text/x-python",
   "name": "python",
   "nbconvert_exporter": "python",
   "pygments_lexer": "ipython2",
   "version": "2.7.6"
  }
 },
 "nbformat": 4,
 "nbformat_minor": 5
}
