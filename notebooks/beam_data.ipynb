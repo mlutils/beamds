{
 "cells": [
  {
   "cell_type": "code",
   "execution_count": 14,
   "id": "c974cdd9",
   "metadata": {},
   "outputs": [
    {
     "name": "stdout",
     "output_type": "stream",
     "text": [
      "The autoreload extension is already loaded. To reload it, use:\n",
      "  %reload_ext autoreload\n"
     ]
    }
   ],
   "source": [
    "%load_ext autoreload\n",
    "%autoreload 2\n",
    "\n",
    "import torch\n",
    "import torchvision\n",
    "import torch.nn.functional as F\n",
    "from torch import nn\n",
    "from sklearn.metrics import precision_recall_fscore_support\n",
    "import numpy as np\n",
    "import pandas as pd\n",
    "\n",
    "import sys\n",
    "sys.path.append('..')\n",
    "import time\n",
    "\n",
    "from src.beam.parallel import BeamTask, BeamParallel, parallel, task\n",
    "from src.beam.utils import collate_chunks, divide_chunks\n",
    "from src.beam.data import BeamData\n",
    "from mp_functions import func"
   ]
  },
  {
   "cell_type": "markdown",
   "id": "312ec514-48d9-4efe-ad6c-ffdfef139e15",
   "metadata": {},
   "source": [
    "# Beam Data"
   ]
  },
  {
   "cell_type": "code",
   "execution_count": 15,
   "id": "6c6c3e57-2950-4d46-bee1-e6625aa782c6",
   "metadata": {},
   "outputs": [],
   "source": [
    "n = 100\n",
    "m = 100\n",
    "k = 4\n",
    "\n",
    "# dfs = {'a': {rand_column(): pd.DataFrame(index=np.random.permutation(np.arange(n)),\n",
    "#                     data=np.random.randn(n, m), columns=[rand_column() for _ in range(m)]) for _ in range(k)},\n",
    "#        'b': [pd.DataFrame(index=np.random.permutation(np.arange(n)),\n",
    "#                     data=np.random.randn(n, m), columns=[rand_column() for _ in range(m)]) for _ in range(k)]}\n",
    "\n",
    "dfs = {'a': torch.randn(200, m), 'b': torch.randn(300, m), 'c': torch.randn(400, m)}\n",
    "\n",
    "# dfs = pd.DataFrame(index=np.random.permutation(np.arange(n)),\n",
    "#                     data=np.random.randn(n, m), columns=[rand_column() for _ in range(m)])\n",
    "\n",
    "path = '/tmp/sandbox/bd'\n",
    "bd = BeamData(dfs, path=path)"
   ]
  },
  {
   "cell_type": "code",
   "execution_count": 16,
   "id": "2bbe5d81-feaf-4c39-b486-d7cc39ec77e7",
   "metadata": {},
   "outputs": [
    {
     "name": "stdout",
     "output_type": "stream",
     "text": [
      "Unexpected exception formatting exception. Falling back to standard exception\n"
     ]
    },
    {
     "name": "stderr",
     "output_type": "stream",
     "text": [
      "Traceback (most recent call last):\n",
      "  File \"/opt/conda/lib/python3.8/site-packages/IPython/core/interactiveshell.py\", line 3398, in run_code\n",
      "    exec(code_obj, self.user_global_ns, self.user_ns)\n",
      "  File \"/tmp/ipykernel_81372/53212255.py\", line 1, in <cell line: 1>\n",
      "    l = list(iter(bd))\n",
      "  File \"/home/elad/docker/beamds/notebooks/../src/beam/data.py\", line 1404, in __iter__\n",
      "    yield k, BeamData(v, lazy=self.lazy, columns=self.columns, index=index, label=label)\n",
      "  File \"/home/elad/docker/beamds/notebooks/../src/beam/data.py\", line 79, in __init__\n",
      "    assert len(list(filter(lambda x: x is not None, [data, path]))), \\\n",
      "AssertionError: Requires ether data, root_path or all_paths to be not None\n",
      "\n",
      "During handling of the above exception, another exception occurred:\n",
      "\n",
      "Traceback (most recent call last):\n",
      "  File \"/opt/conda/lib/python3.8/site-packages/IPython/core/interactiveshell.py\", line 1993, in showtraceback\n",
      "    stb = self.InteractiveTB.structured_traceback(\n",
      "  File \"/opt/conda/lib/python3.8/site-packages/IPython/core/ultratb.py\", line 1118, in structured_traceback\n",
      "    return FormattedTB.structured_traceback(\n",
      "  File \"/opt/conda/lib/python3.8/site-packages/IPython/core/ultratb.py\", line 1012, in structured_traceback\n",
      "    return VerboseTB.structured_traceback(\n",
      "  File \"/opt/conda/lib/python3.8/site-packages/IPython/core/ultratb.py\", line 865, in structured_traceback\n",
      "    formatted_exception = self.format_exception_as_a_whole(etype, evalue, etb, number_of_lines_of_context,\n",
      "  File \"/opt/conda/lib/python3.8/site-packages/IPython/core/ultratb.py\", line 818, in format_exception_as_a_whole\n",
      "    frames.append(self.format_record(r))\n",
      "  File \"/opt/conda/lib/python3.8/site-packages/IPython/core/ultratb.py\", line 736, in format_record\n",
      "    result += ''.join(_format_traceback_lines(frame_info.lines, Colors, self.has_colors, lvals))\n",
      "  File \"/opt/conda/lib/python3.8/site-packages/stack_data/utils.py\", line 145, in cached_property_wrapper\n",
      "    value = obj.__dict__[self.func.__name__] = self.func(obj)\n",
      "  File \"/opt/conda/lib/python3.8/site-packages/stack_data/core.py\", line 698, in lines\n",
      "    pieces = self.included_pieces\n",
      "  File \"/opt/conda/lib/python3.8/site-packages/stack_data/utils.py\", line 145, in cached_property_wrapper\n",
      "    value = obj.__dict__[self.func.__name__] = self.func(obj)\n",
      "  File \"/opt/conda/lib/python3.8/site-packages/stack_data/core.py\", line 649, in included_pieces\n",
      "    pos = scope_pieces.index(self.executing_piece)\n",
      "  File \"/opt/conda/lib/python3.8/site-packages/stack_data/utils.py\", line 145, in cached_property_wrapper\n",
      "    value = obj.__dict__[self.func.__name__] = self.func(obj)\n",
      "  File \"/opt/conda/lib/python3.8/site-packages/stack_data/core.py\", line 628, in executing_piece\n",
      "    return only(\n",
      "  File \"/opt/conda/lib/python3.8/site-packages/executing/executing.py\", line 164, in only\n",
      "    raise NotOneValueFound('Expected one value, found 0')\n",
      "executing.executing.NotOneValueFound: Expected one value, found 0\n"
     ]
    }
   ],
   "source": [
    "l = list(iter(bd))"
   ]
  },
  {
   "cell_type": "code",
   "execution_count": 6,
   "id": "6ce5e376-1cde-4e97-9e36-6f0033f85ffa",
   "metadata": {},
   "outputs": [],
   "source": [
    "x = bd.stack"
   ]
  },
  {
   "cell_type": "code",
   "execution_count": 10,
   "id": "ef844298-1909-498c-a9ac-cd3b047d4d05",
   "metadata": {},
   "outputs": [
    {
     "data": {
      "text/plain": [
       "'array.tensor.float'"
      ]
     },
     "execution_count": 10,
     "metadata": {},
     "output_type": "execute_result"
    }
   ],
   "source": [
    "x.dtypes"
   ]
  },
  {
   "cell_type": "code",
   "execution_count": 5,
   "id": "83f2da57-9a4f-4d13-8836-61806e3c3284",
   "metadata": {},
   "outputs": [],
   "source": [
    "bd.store()"
   ]
  },
  {
   "cell_type": "code",
   "execution_count": 6,
   "id": "d9576539-9bc3-41e9-98ad-e4272a73cca5",
   "metadata": {},
   "outputs": [],
   "source": [
    "be = BeamData.from_path(path)"
   ]
  },
  {
   "cell_type": "code",
   "execution_count": 7,
   "id": "9cd461d7-0375-4689-b003-789e3546c183",
   "metadata": {},
   "outputs": [],
   "source": [
    "be.cache()"
   ]
  },
  {
   "cell_type": "code",
   "execution_count": 18,
   "id": "316a3482-7678-4aca-89b0-cb73bc61294e",
   "metadata": {},
   "outputs": [],
   "source": [
    "be['x'] = np.arange(100)"
   ]
  },
  {
   "cell_type": "code",
   "execution_count": 26,
   "id": "f0c822f0-8f08-49f4-9dbf-508da985fcdd",
   "metadata": {},
   "outputs": [
    {
     "data": {
      "text/plain": [
       "BeamData: \n",
       "  path: \n",
       "  None \n",
       "  params: \n",
       "  orientation: simple | lazy: True | stored: False | cached: True | device: cpu | objects_type: tensor | quick_getitem: False | has_index: True | has_label: False \n",
       "  keys: \n",
       "  slice(None, 10, None) \n",
       "  sizes:\n",
       "  8000 \n",
       "  shapes:\n",
       "  torch.Size([200, 10]) \n",
       "  types:\n",
       "  array.tensor.float "
      ]
     },
     "execution_count": 26,
     "metadata": {},
     "output_type": "execute_result"
    }
   ],
   "source": [
    "be['a', :200, :10]"
   ]
  },
  {
   "cell_type": "code",
   "execution_count": 2,
   "id": "92ae6758-c4b8-4f51-9fda-2869a1cca8df",
   "metadata": {},
   "outputs": [],
   "source": [
    "df = pd.DataFrame(np.random.randn(10000, 500))"
   ]
  },
  {
   "cell_type": "code",
   "execution_count": 3,
   "id": "fb19c184-5a6c-4986-a03a-2bb4d2f3b42b",
   "metadata": {},
   "outputs": [],
   "source": [
    "dfs = list(divide_chunks(df, n_chunks=20))"
   ]
  },
  {
   "cell_type": "code",
   "execution_count": 4,
   "id": "eae32c21-db9b-47af-a48d-34f573c84ff5",
   "metadata": {},
   "outputs": [],
   "source": [
    "def func(df):\n",
    "    time.sleep(10)\n",
    "    return df.agg([np.sum, 'mean'], axis=1)\n",
    "\n",
    "@task\n",
    "def func2(df):\n",
    "    time.sleep(10)\n",
    "    return df.agg([np.sum, 'mean'], axis=1)"
   ]
  },
  {
   "cell_type": "code",
   "execution_count": 5,
   "id": "4c7e49ce-f204-40e6-9723-8a3ffe5418d4",
   "metadata": {},
   "outputs": [
    {
     "name": "stderr",
     "output_type": "stream",
     "text": [
      "2023-01-18 12:08:41,357\tINFO worker.py:1333 -- Connecting to existing Ray cluster at address: 172.17.0.2:46610...\n",
      "2023-01-18 12:08:41,366\tINFO worker.py:1509 -- Connected to Ray cluster. View the dashboard at \u001b[1m\u001b[32mhttp://127.0.0.1:8265 \u001b[39m\u001b[22m\n",
      "2023-01-18 12:08:41,526\tINFO packaging.py:498 -- Creating a file package for local directory '..'.\n",
      "2023-01-18 12:08:41,560\tWARNING packaging.py:385 -- File /home/elad/docker/beamds/notebooks/../notebooks/stl10.ipynb is very large (12.18MiB). Consider adding this file to the 'excludes' list to skip uploading it: `ray.init(..., runtime_env={'excludes': ['/home/elad/docker/beamds/notebooks/../notebooks/stl10.ipynb']})`\n",
      "2023-01-18 12:08:41,586\tWARNING packaging.py:385 -- File /home/elad/docker/beamds/notebooks/../notebooks/stl10-Copy1.ipynb is very large (12.61MiB). Consider adding this file to the 'excludes' list to skip uploading it: `ray.init(..., runtime_env={'excludes': ['/home/elad/docker/beamds/notebooks/../notebooks/stl10-Copy1.ipynb']})`\n",
      "2023-01-18 12:08:41,614\tWARNING packaging.py:385 -- File /home/elad/docker/beamds/notebooks/../notebooks/beam_deep_tsne.ipynb is very large (11.13MiB). Consider adding this file to the 'excludes' list to skip uploading it: `ray.init(..., runtime_env={'excludes': ['/home/elad/docker/beamds/notebooks/../notebooks/beam_deep_tsne.ipynb']})`\n",
      "2023-01-18 12:08:41,713\tINFO packaging.py:342 -- Pushing file package 'gcs://_ray_pkg_ce68947f9697178a.zip' (46.53MiB) to Ray cluster...\n",
      "2023-01-18 12:08:42,306\tINFO packaging.py:351 -- Successfully pushed file package 'gcs://_ray_pkg_ce68947f9697178a.zip'.\n"
     ]
    },
    {
     "name": "stdout",
     "output_type": "stream",
     "text": [
      "\u001b[2m\u001b[1m\u001b[36m(scheduler +3s)\u001b[0m Tip: use `ray status` to view detailed cluster status. To disable these messages, set RAY_SCHEDULER_EVENTS=0.\n",
      "\u001b[2m\u001b[1m\u001b[33m(scheduler +3s)\u001b[0m Warning: The following resource request cannot be scheduled right now: {'CPU': 4.0}. This is likely due to all cluster resources being claimed by actors. Consider creating fewer actors or adding more nodes to this Ray cluster.\n",
      "\u001b[2m\u001b[36m(func_wrapper pid=7072)\u001b[0m \u001b[32m2023-01-18 12:08:45\u001b[0m | \u001b[1mINFO\u001b[0m | \u001b[1mStarting task: 0\u001b[0m\n",
      "\u001b[2m\u001b[36m(func_wrapper pid=7071)\u001b[0m \u001b[32m2023-01-18 12:08:46\u001b[0m | \u001b[1mINFO\u001b[0m | \u001b[1mStarting task: 0\u001b[0m\n",
      "\u001b[2m\u001b[36m(func_wrapper pid=7072)\u001b[0m \u001b[32m2023-01-18 12:08:56\u001b[0m | \u001b[1mINFO\u001b[0m | \u001b[1mFinished task: 0. Elapsed time: 10.348930358886719\u001b[0m\n",
      "\u001b[2m\u001b[36m(func_wrapper pid=7072)\u001b[0m \u001b[32m2023-01-18 12:08:56\u001b[0m | \u001b[1mINFO\u001b[0m | \u001b[1mStarting task: 0\u001b[0m\n",
      "\u001b[2m\u001b[36m(func_wrapper pid=7071)\u001b[0m \u001b[32m2023-01-18 12:08:56\u001b[0m | \u001b[1mINFO\u001b[0m | \u001b[1mFinished task: 0. Elapsed time: 10.397742509841919\u001b[0m\n",
      "\u001b[2m\u001b[36m(func_wrapper pid=7071)\u001b[0m \u001b[32m2023-01-18 12:08:56\u001b[0m | \u001b[1mINFO\u001b[0m | \u001b[1mStarting task: 0\u001b[0m\n",
      "\u001b[2m\u001b[36m(func_wrapper pid=7072)\u001b[0m \u001b[32m2023-01-18 12:09:06\u001b[0m | \u001b[1mINFO\u001b[0m | \u001b[1mFinished task: 0. Elapsed time: 10.397160530090332\u001b[0m\n",
      "\u001b[2m\u001b[36m(func_wrapper pid=7072)\u001b[0m \u001b[32m2023-01-18 12:09:06\u001b[0m | \u001b[1mINFO\u001b[0m | \u001b[1mStarting task: 0\u001b[0m\n",
      "\u001b[2m\u001b[36m(func_wrapper pid=7071)\u001b[0m \u001b[32m2023-01-18 12:09:06\u001b[0m | \u001b[1mINFO\u001b[0m | \u001b[1mFinished task: 0. Elapsed time: 10.42689299583435\u001b[0m\n",
      "\u001b[2m\u001b[36m(func_wrapper pid=7071)\u001b[0m \u001b[32m2023-01-18 12:09:06\u001b[0m | \u001b[1mINFO\u001b[0m | \u001b[1mStarting task: 0\u001b[0m\n",
      "\u001b[2m\u001b[36m(func_wrapper pid=7072)\u001b[0m \u001b[32m2023-01-18 12:09:17\u001b[0m | \u001b[1mINFO\u001b[0m | \u001b[1mFinished task: 0. Elapsed time: 10.455769300460815\u001b[0m\n",
      "\u001b[2m\u001b[36m(func_wrapper pid=7072)\u001b[0m \u001b[32m2023-01-18 12:09:17\u001b[0m | \u001b[1mINFO\u001b[0m | \u001b[1mStarting task: 0\u001b[0m\n",
      "\u001b[2m\u001b[36m(func_wrapper pid=7071)\u001b[0m \u001b[32m2023-01-18 12:09:17\u001b[0m | \u001b[1mINFO\u001b[0m | \u001b[1mFinished task: 0. Elapsed time: 10.41175365447998\u001b[0m\n",
      "\u001b[2m\u001b[36m(func_wrapper pid=7071)\u001b[0m \u001b[32m2023-01-18 12:09:17\u001b[0m | \u001b[1mINFO\u001b[0m | \u001b[1mStarting task: 0\u001b[0m\n",
      "\u001b[2m\u001b[36m(func_wrapper pid=7072)\u001b[0m \u001b[32m2023-01-18 12:09:27\u001b[0m | \u001b[1mINFO\u001b[0m | \u001b[1mFinished task: 0. Elapsed time: 10.382999658584595\u001b[0m\n",
      "\u001b[2m\u001b[36m(func_wrapper pid=7072)\u001b[0m \u001b[32m2023-01-18 12:09:27\u001b[0m | \u001b[1mINFO\u001b[0m | \u001b[1mStarting task: 0\u001b[0m\n",
      "\u001b[2m\u001b[36m(func_wrapper pid=7071)\u001b[0m \u001b[32m2023-01-18 12:09:27\u001b[0m | \u001b[1mINFO\u001b[0m | \u001b[1mFinished task: 0. Elapsed time: 10.377496719360352\u001b[0m\n",
      "\u001b[2m\u001b[36m(func_wrapper pid=7071)\u001b[0m \u001b[32m2023-01-18 12:09:27\u001b[0m | \u001b[1mINFO\u001b[0m | \u001b[1mStarting task: 0\u001b[0m\n",
      "\u001b[2m\u001b[36m(func_wrapper pid=7072)\u001b[0m \u001b[32m2023-01-18 12:09:37\u001b[0m | \u001b[1mINFO\u001b[0m | \u001b[1mFinished task: 0. Elapsed time: 10.361987352371216\u001b[0m\n",
      "\u001b[2m\u001b[36m(func_wrapper pid=7072)\u001b[0m \u001b[32m2023-01-18 12:09:37\u001b[0m | \u001b[1mINFO\u001b[0m | \u001b[1mStarting task: 0\u001b[0m\n",
      "\u001b[2m\u001b[36m(func_wrapper pid=7071)\u001b[0m \u001b[32m2023-01-18 12:09:38\u001b[0m | \u001b[1mINFO\u001b[0m | \u001b[1mFinished task: 0. Elapsed time: 10.376841306686401\u001b[0m\n",
      "\u001b[2m\u001b[36m(func_wrapper pid=7071)\u001b[0m \u001b[32m2023-01-18 12:09:38\u001b[0m | \u001b[1mINFO\u001b[0m | \u001b[1mStarting task: 0\u001b[0m\n",
      "\u001b[2m\u001b[36m(func_wrapper pid=7072)\u001b[0m \u001b[32m2023-01-18 12:09:48\u001b[0m | \u001b[1mINFO\u001b[0m | \u001b[1mFinished task: 0. Elapsed time: 10.38631558418274\u001b[0m\n",
      "\u001b[2m\u001b[36m(func_wrapper pid=7072)\u001b[0m \u001b[32m2023-01-18 12:09:48\u001b[0m | \u001b[1mINFO\u001b[0m | \u001b[1mStarting task: 0\u001b[0m\n",
      "\u001b[2m\u001b[36m(func_wrapper pid=7071)\u001b[0m \u001b[32m2023-01-18 12:09:48\u001b[0m | \u001b[1mINFO\u001b[0m | \u001b[1mFinished task: 0. Elapsed time: 10.380418062210083\u001b[0m\n",
      "\u001b[2m\u001b[36m(func_wrapper pid=7071)\u001b[0m \u001b[32m2023-01-18 12:09:48\u001b[0m | \u001b[1mINFO\u001b[0m | \u001b[1mStarting task: 0\u001b[0m\n",
      "\u001b[2m\u001b[36m(func_wrapper pid=7072)\u001b[0m \u001b[32m2023-01-18 12:09:58\u001b[0m | \u001b[1mINFO\u001b[0m | \u001b[1mFinished task: 0. Elapsed time: 10.374277114868164\u001b[0m\n",
      "\u001b[2m\u001b[36m(func_wrapper pid=7072)\u001b[0m \u001b[32m2023-01-18 12:09:58\u001b[0m | \u001b[1mINFO\u001b[0m | \u001b[1mStarting task: 0\u001b[0m\n",
      "\u001b[2m\u001b[36m(func_wrapper pid=7071)\u001b[0m \u001b[32m2023-01-18 12:09:58\u001b[0m | \u001b[1mINFO\u001b[0m | \u001b[1mFinished task: 0. Elapsed time: 10.386189460754395\u001b[0m\n",
      "\u001b[2m\u001b[36m(func_wrapper pid=7071)\u001b[0m \u001b[32m2023-01-18 12:09:58\u001b[0m | \u001b[1mINFO\u001b[0m | \u001b[1mStarting task: 0\u001b[0m\n",
      "\u001b[2m\u001b[36m(func_wrapper pid=7072)\u001b[0m \u001b[32m2023-01-18 12:10:09\u001b[0m | \u001b[1mINFO\u001b[0m | \u001b[1mFinished task: 0. Elapsed time: 10.34732723236084\u001b[0m\n",
      "\u001b[2m\u001b[36m(func_wrapper pid=7072)\u001b[0m \u001b[32m2023-01-18 12:10:09\u001b[0m | \u001b[1mINFO\u001b[0m | \u001b[1mStarting task: 0\u001b[0m\n",
      "\u001b[2m\u001b[36m(func_wrapper pid=7071)\u001b[0m \u001b[32m2023-01-18 12:10:09\u001b[0m | \u001b[1mINFO\u001b[0m | \u001b[1mFinished task: 0. Elapsed time: 10.359163522720337\u001b[0m\n",
      "\u001b[2m\u001b[36m(func_wrapper pid=7071)\u001b[0m \u001b[32m2023-01-18 12:10:09\u001b[0m | \u001b[1mINFO\u001b[0m | \u001b[1mStarting task: 0\u001b[0m\n",
      "\u001b[2m\u001b[36m(func_wrapper pid=7072)\u001b[0m \u001b[32m2023-01-18 12:10:19\u001b[0m | \u001b[1mINFO\u001b[0m | \u001b[1mFinished task: 0. Elapsed time: 10.339304208755493\u001b[0m\n",
      "\u001b[2m\u001b[36m(func_wrapper pid=7072)\u001b[0m \u001b[32m2023-01-18 12:10:19\u001b[0m | \u001b[1mINFO\u001b[0m | \u001b[1mStarting task: 0\u001b[0m\n",
      "\u001b[2m\u001b[36m(func_wrapper pid=7071)\u001b[0m \u001b[32m2023-01-18 12:10:19\u001b[0m | \u001b[1mINFO\u001b[0m | \u001b[1mFinished task: 0. Elapsed time: 10.359219312667847\u001b[0m\n",
      "\u001b[2m\u001b[36m(func_wrapper pid=7071)\u001b[0m \u001b[32m2023-01-18 12:10:19\u001b[0m | \u001b[1mINFO\u001b[0m | \u001b[1mStarting task: 0\u001b[0m\n",
      "\u001b[2m\u001b[36m(func_wrapper pid=7072)\u001b[0m \u001b[32m2023-01-18 12:10:29\u001b[0m | \u001b[1mINFO\u001b[0m | \u001b[1mFinished task: 0. Elapsed time: 10.373526096343994\u001b[0m\n",
      "CPU times: user 1.6 s, sys: 953 ms, total: 2.56 s\n",
      "Wall time: 1min 48s\n"
     ]
    }
   ],
   "source": [
    "%time dfo = parallel([func2(dfi) for _, dfi in dfs], method='ray', workers=4, reduce=True, runtime_env={\"working_dir\": \"..\" })"
   ]
  },
  {
   "cell_type": "code",
   "execution_count": 5,
   "id": "827d8136-0253-4049-bc3d-6623779e0169",
   "metadata": {},
   "outputs": [
    {
     "name": "stdout",
     "output_type": "stream",
     "text": [
      "\u001b[32m2023-01-18 12:06:21\u001b[0m | \u001b[1mINFO\u001b[0m | \u001b[1mStarting task: 0\u001b[0m\n",
      "\u001b[32m2023-01-18 12:06:21\u001b[0m | \u001b[1mINFO\u001b[0m | \u001b[1mStarting task: 1\u001b[0m\n",
      "\u001b[32m2023-01-18 12:06:21\u001b[0m | \u001b[1mINFO\u001b[0m | \u001b[1mStarting task: 2\u001b[0m\n",
      "\u001b[32m2023-01-18 12:06:21\u001b[0m | \u001b[1mINFO\u001b[0m | \u001b[1mStarting task: 3\u001b[0m\n",
      "\u001b[32m2023-01-18 12:06:31\u001b[0m | \u001b[1mINFO\u001b[0m | \u001b[1mFinished task: 0. Elapsed time: 10.357866764068604\u001b[0m\n",
      "\u001b[32m2023-01-18 12:06:31\u001b[0m | \u001b[1mINFO\u001b[0m | \u001b[1mStarting task: 4\u001b[0m\n"
     ]
    },
    {
     "data": {
      "application/vnd.jupyter.widget-view+json": {
       "model_id": "814921993b954a889554619d2c339f52",
       "version_major": 2,
       "version_minor": 0
      },
      "text/plain": [
       "  5%|5         | 1/20 [00:00<?, ?it/s]"
      ]
     },
     "metadata": {},
     "output_type": "display_data"
    },
    {
     "name": "stdout",
     "output_type": "stream",
     "text": [
      "\u001b[32m2023-01-18 12:06:31\u001b[0m | \u001b[1mINFO\u001b[0m | \u001b[1mFinished task: 1. Elapsed time: 10.365689277648926\u001b[0m\n",
      "\u001b[32m2023-01-18 12:06:31\u001b[0m | \u001b[1mINFO\u001b[0m | \u001b[1mFinished task: 3. Elapsed time: 10.349919557571411\u001b[0m\n",
      "\u001b[32m2023-01-18 12:06:31\u001b[0m | \u001b[1mINFO\u001b[0m | \u001b[1mStarting task: 5\u001b[0m\n",
      "\u001b[32m2023-01-18 12:06:31\u001b[0m | \u001b[1mINFO\u001b[0m | \u001b[1mStarting task: 6\u001b[0m\n",
      "\u001b[32m2023-01-18 12:06:31\u001b[0m | \u001b[1mINFO\u001b[0m | \u001b[1mFinished task: 2. Elapsed time: 10.384727716445923\u001b[0m\n",
      "\u001b[32m2023-01-18 12:06:31\u001b[0m | \u001b[1mINFO\u001b[0m | \u001b[1mStarting task: 7\u001b[0m\n",
      "\u001b[32m2023-01-18 12:06:42\u001b[0m | \u001b[1mINFO\u001b[0m | \u001b[1mFinished task: 4. Elapsed time: 10.504316806793213\u001b[0m\n",
      "\u001b[32m2023-01-18 12:06:42\u001b[0m | \u001b[1mINFO\u001b[0m | \u001b[1mStarting task: 8\u001b[0m\n",
      "\u001b[32m2023-01-18 12:06:42\u001b[0m | \u001b[1mINFO\u001b[0m | \u001b[1mFinished task: 5. Elapsed time: 10.495826244354248\u001b[0m\n",
      "\u001b[32m2023-01-18 12:06:42\u001b[0m | \u001b[1mINFO\u001b[0m | \u001b[1mFinished task: 6. Elapsed time: 10.487637281417847\u001b[0m\n",
      "\u001b[32m2023-01-18 12:06:42\u001b[0m | \u001b[1mINFO\u001b[0m | \u001b[1mStarting task: 9\u001b[0m\n",
      "\u001b[32m2023-01-18 12:06:42\u001b[0m | \u001b[1mINFO\u001b[0m | \u001b[1mStarting task: 10\u001b[0m\n",
      "\u001b[32m2023-01-18 12:06:42\u001b[0m | \u001b[1mINFO\u001b[0m | \u001b[1mFinished task: 7. Elapsed time: 10.512568950653076\u001b[0m\n",
      "\u001b[32m2023-01-18 12:06:42\u001b[0m | \u001b[1mINFO\u001b[0m | \u001b[1mStarting task: 11\u001b[0m\n",
      "\u001b[32m2023-01-18 12:06:52\u001b[0m | \u001b[1mINFO\u001b[0m | \u001b[1mFinished task: 8. Elapsed time: 10.335124731063843\u001b[0m\n",
      "\u001b[32m2023-01-18 12:06:52\u001b[0m | \u001b[1mINFO\u001b[0m | \u001b[1mStarting task: 12\u001b[0m\n",
      "\u001b[32m2023-01-18 12:06:52\u001b[0m | \u001b[1mINFO\u001b[0m | \u001b[1mFinished task: 10. Elapsed time: 10.334946632385254\u001b[0m\n",
      "\u001b[32m2023-01-18 12:06:52\u001b[0m | \u001b[1mINFO\u001b[0m | \u001b[1mFinished task: 9. Elapsed time: 10.340520143508911\u001b[0m\n",
      "\u001b[32m2023-01-18 12:06:52\u001b[0m | \u001b[1mINFO\u001b[0m | \u001b[1mStarting task: 13\u001b[0m\n",
      "\u001b[32m2023-01-18 12:06:52\u001b[0m | \u001b[1mINFO\u001b[0m | \u001b[1mStarting task: 14\u001b[0m\n",
      "\u001b[32m2023-01-18 12:06:52\u001b[0m | \u001b[1mINFO\u001b[0m | \u001b[1mFinished task: 11. Elapsed time: 10.369738101959229\u001b[0m\n",
      "\u001b[32m2023-01-18 12:06:52\u001b[0m | \u001b[1mINFO\u001b[0m | \u001b[1mStarting task: 15\u001b[0m\n",
      "\u001b[32m2023-01-18 12:07:02\u001b[0m | \u001b[1mINFO\u001b[0m | \u001b[1mFinished task: 12. Elapsed time: 10.34392523765564\u001b[0m\n",
      "\u001b[32m2023-01-18 12:07:02\u001b[0m | \u001b[1mINFO\u001b[0m | \u001b[1mStarting task: 16\u001b[0m\n",
      "\u001b[32m2023-01-18 12:07:02\u001b[0m | \u001b[1mINFO\u001b[0m | \u001b[1mFinished task: 13. Elapsed time: 10.344138383865356\u001b[0m\n",
      "\u001b[32m2023-01-18 12:07:02\u001b[0m | \u001b[1mINFO\u001b[0m | \u001b[1mStarting task: 17\u001b[0m\n",
      "\u001b[32m2023-01-18 12:07:02\u001b[0m | \u001b[1mINFO\u001b[0m | \u001b[1mFinished task: 14. Elapsed time: 10.34688401222229\u001b[0m\n",
      "\u001b[32m2023-01-18 12:07:02\u001b[0m | \u001b[1mINFO\u001b[0m | \u001b[1mStarting task: 18\u001b[0m\n",
      "\u001b[32m2023-01-18 12:07:02\u001b[0m | \u001b[1mINFO\u001b[0m | \u001b[1mFinished task: 15. Elapsed time: 10.3716402053833\u001b[0m\n",
      "\u001b[32m2023-01-18 12:07:02\u001b[0m | \u001b[1mINFO\u001b[0m | \u001b[1mStarting task: 19\u001b[0m\n",
      "\u001b[32m2023-01-18 12:07:13\u001b[0m | \u001b[1mINFO\u001b[0m | \u001b[1mFinished task: 16. Elapsed time: 10.342262506484985\u001b[0m\n",
      "\u001b[32m2023-01-18 12:07:13\u001b[0m | \u001b[1mINFO\u001b[0m | \u001b[1mFinished task: 17. Elapsed time: 10.336750030517578\u001b[0m\n",
      "\u001b[32m2023-01-18 12:07:13\u001b[0m | \u001b[1mINFO\u001b[0m | \u001b[1mFinished task: 18. Elapsed time: 10.341765403747559\u001b[0m\n",
      "\u001b[32m2023-01-18 12:07:13\u001b[0m | \u001b[1mINFO\u001b[0m | \u001b[1mFinished task: 19. Elapsed time: 10.375185489654541\u001b[0m\n",
      "CPU times: user 195 ms, sys: 183 ms, total: 378 ms\n",
      "Wall time: 52.2 s\n"
     ]
    }
   ],
   "source": [
    "%time dfo = parallel([task(func)(dfi) for _, dfi in dfs], method='apply_async', workers=4, context='fork', reduce=True)"
   ]
  },
  {
   "cell_type": "code",
   "execution_count": 31,
   "id": "9b43e3ad-49f0-4f53-9011-19024f3a74be",
   "metadata": {},
   "outputs": [
    {
     "name": "stderr",
     "output_type": "stream",
     "text": [
      "2023-01-18 10:28:47,438\tINFO worker.py:1509 -- Started a local Ray instance. View the dashboard at \u001b[1m\u001b[32mhttp://172.17.0.2:8265 \u001b[39m\u001b[22m\n",
      "2023-01-18 10:28:47,657\tINFO packaging.py:498 -- Creating a file package for local directory '..'.\n",
      "2023-01-18 10:28:47,693\tWARNING packaging.py:385 -- File /home/elad/docker/beamds/notebooks/../notebooks/stl10.ipynb is very large (12.18MiB). Consider adding this file to the 'excludes' list to skip uploading it: `ray.init(..., runtime_env={'excludes': ['/home/elad/docker/beamds/notebooks/../notebooks/stl10.ipynb']})`\n",
      "2023-01-18 10:28:47,719\tWARNING packaging.py:385 -- File /home/elad/docker/beamds/notebooks/../notebooks/stl10-Copy1.ipynb is very large (12.61MiB). Consider adding this file to the 'excludes' list to skip uploading it: `ray.init(..., runtime_env={'excludes': ['/home/elad/docker/beamds/notebooks/../notebooks/stl10-Copy1.ipynb']})`\n",
      "2023-01-18 10:28:47,746\tWARNING packaging.py:385 -- File /home/elad/docker/beamds/notebooks/../notebooks/beam_deep_tsne.ipynb is very large (11.13MiB). Consider adding this file to the 'excludes' list to skip uploading it: `ray.init(..., runtime_env={'excludes': ['/home/elad/docker/beamds/notebooks/../notebooks/beam_deep_tsne.ipynb']})`\n",
      "2023-01-18 10:28:47,844\tINFO packaging.py:342 -- Pushing file package 'gcs://_ray_pkg_81a780daae128402.zip' (46.50MiB) to Ray cluster...\n",
      "2023-01-18 10:28:48,446\tINFO packaging.py:351 -- Successfully pushed file package 'gcs://_ray_pkg_81a780daae128402.zip'.\n"
     ]
    },
    {
     "name": "stdout",
     "output_type": "stream",
     "text": [
      "\u001b[2m\u001b[36m(func_wrapper pid=66872)\u001b[0m \u001b[32m2023-01-18 10:28:53\u001b[0m | \u001b[1mINFO\u001b[0m | \u001b[1mStarting task: 7\u001b[0m\n",
      "\u001b[2m\u001b[36m(func_wrapper pid=66879)\u001b[0m \u001b[32m2023-01-18 10:28:53\u001b[0m | \u001b[1mINFO\u001b[0m | \u001b[1mStarting task: 14\u001b[0m\n",
      "\u001b[2m\u001b[36m(func_wrapper pid=66876)\u001b[0m \u001b[32m2023-01-18 10:28:53\u001b[0m | \u001b[1mINFO\u001b[0m | \u001b[1mStarting task: 11\u001b[0m\n",
      "\u001b[2m\u001b[36m(func_wrapper pid=66881)\u001b[0m \u001b[32m2023-01-18 10:28:53\u001b[0m | \u001b[1mINFO\u001b[0m | \u001b[1mStarting task: 16\u001b[0m\n",
      "\u001b[2m\u001b[36m(func_wrapper pid=66868)\u001b[0m \u001b[32m2023-01-18 10:28:53\u001b[0m | \u001b[1mINFO\u001b[0m | \u001b[1mStarting task: 3\u001b[0m\n",
      "\u001b[2m\u001b[36m(func_wrapper pid=66884)\u001b[0m \u001b[32m2023-01-18 10:28:53\u001b[0m | \u001b[1mINFO\u001b[0m | \u001b[1mStarting task: 19\u001b[0m\n",
      "\u001b[2m\u001b[36m(func_wrapper pid=66867)\u001b[0m \u001b[32m2023-01-18 10:28:53\u001b[0m | \u001b[1mINFO\u001b[0m | \u001b[1mStarting task: 2\u001b[0m\n",
      "\u001b[2m\u001b[36m(func_wrapper pid=66880)\u001b[0m \u001b[32m2023-01-18 10:28:53\u001b[0m | \u001b[1mINFO\u001b[0m | \u001b[1mStarting task: 15\u001b[0m\n",
      "\u001b[2m\u001b[36m(func_wrapper pid=66877)\u001b[0m \u001b[32m2023-01-18 10:28:53\u001b[0m | \u001b[1mINFO\u001b[0m | \u001b[1mStarting task: 12\u001b[0m\n",
      "\u001b[2m\u001b[36m(func_wrapper pid=66875)\u001b[0m \u001b[32m2023-01-18 10:28:53\u001b[0m | \u001b[1mINFO\u001b[0m | \u001b[1mStarting task: 10\u001b[0m\n",
      "\u001b[2m\u001b[36m(func_wrapper pid=66883)\u001b[0m \u001b[32m2023-01-18 10:28:53\u001b[0m | \u001b[1mINFO\u001b[0m | \u001b[1mStarting task: 18\u001b[0m\n",
      "\u001b[2m\u001b[36m(func_wrapper pid=66878)\u001b[0m \u001b[32m2023-01-18 10:28:53\u001b[0m | \u001b[1mINFO\u001b[0m | \u001b[1mStarting task: 13\u001b[0m\n",
      "\u001b[2m\u001b[36m(func_wrapper pid=66873)\u001b[0m \u001b[32m2023-01-18 10:28:53\u001b[0m | \u001b[1mINFO\u001b[0m | \u001b[1mStarting task: 8\u001b[0m\n",
      "\u001b[2m\u001b[36m(func_wrapper pid=66865)\u001b[0m \u001b[32m2023-01-18 10:28:53\u001b[0m | \u001b[1mINFO\u001b[0m | \u001b[1mStarting task: 0\u001b[0m\n",
      "\u001b[2m\u001b[36m(func_wrapper pid=66882)\u001b[0m \u001b[32m2023-01-18 10:28:53\u001b[0m | \u001b[1mINFO\u001b[0m | \u001b[1mStarting task: 17\u001b[0m\n",
      "\u001b[2m\u001b[36m(func_wrapper pid=66874)\u001b[0m \u001b[32m2023-01-18 10:28:53\u001b[0m | \u001b[1mINFO\u001b[0m | \u001b[1mStarting task: 9\u001b[0m\n",
      "\u001b[2m\u001b[36m(func_wrapper pid=66871)\u001b[0m \u001b[32m2023-01-18 10:28:53\u001b[0m | \u001b[1mINFO\u001b[0m | \u001b[1mStarting task: 6\u001b[0m\n",
      "\u001b[2m\u001b[36m(func_wrapper pid=66870)\u001b[0m \u001b[32m2023-01-18 10:28:53\u001b[0m | \u001b[1mINFO\u001b[0m | \u001b[1mStarting task: 5\u001b[0m\n",
      "\u001b[2m\u001b[36m(func_wrapper pid=66866)\u001b[0m \u001b[32m2023-01-18 10:28:53\u001b[0m | \u001b[1mINFO\u001b[0m | \u001b[1mStarting task: 1\u001b[0m\n",
      "\u001b[2m\u001b[36m(func_wrapper pid=66869)\u001b[0m \u001b[32m2023-01-18 10:28:54\u001b[0m | \u001b[1mINFO\u001b[0m | \u001b[1mStarting task: 4\u001b[0m\n",
      "\u001b[2m\u001b[36m(func_wrapper pid=66879)\u001b[0m \u001b[32m2023-01-18 10:29:03\u001b[0m | \u001b[1mINFO\u001b[0m | \u001b[1mFinished task: 14. Elapsed time: 10.365962266921997\u001b[0m\n",
      "\u001b[2m\u001b[36m(func_wrapper pid=66872)\u001b[0m \u001b[32m2023-01-18 10:29:03\u001b[0m | \u001b[1mINFO\u001b[0m | \u001b[1mFinished task: 7. Elapsed time: 10.417308330535889\u001b[0m\n",
      "\u001b[2m\u001b[36m(func_wrapper pid=66876)\u001b[0m \u001b[32m2023-01-18 10:29:04\u001b[0m | \u001b[1mINFO\u001b[0m | \u001b[1mFinished task: 11. Elapsed time: 10.424767017364502\u001b[0m\n",
      "\u001b[2m\u001b[36m(func_wrapper pid=66881)\u001b[0m \u001b[32m2023-01-18 10:29:04\u001b[0m | \u001b[1mINFO\u001b[0m | \u001b[1mFinished task: 16. Elapsed time: 10.469112634658813\u001b[0m\n",
      "\u001b[2m\u001b[36m(func_wrapper pid=66868)\u001b[0m \u001b[32m2023-01-18 10:29:04\u001b[0m | \u001b[1mINFO\u001b[0m | \u001b[1mFinished task: 3. Elapsed time: 10.47014570236206\u001b[0m\n",
      "\u001b[2m\u001b[36m(func_wrapper pid=66884)\u001b[0m \u001b[32m2023-01-18 10:29:04\u001b[0m | \u001b[1mINFO\u001b[0m | \u001b[1mFinished task: 19. Elapsed time: 10.43190860748291\u001b[0m\n",
      "\u001b[2m\u001b[36m(func_wrapper pid=66877)\u001b[0m \u001b[32m2023-01-18 10:29:04\u001b[0m | \u001b[1mINFO\u001b[0m | \u001b[1mFinished task: 12. Elapsed time: 10.460226058959961\u001b[0m\n",
      "\u001b[2m\u001b[36m(func_wrapper pid=66875)\u001b[0m \u001b[32m2023-01-18 10:29:04\u001b[0m | \u001b[1mINFO\u001b[0m | \u001b[1mFinished task: 10. Elapsed time: 10.43539309501648\u001b[0m\n",
      "\u001b[2m\u001b[36m(func_wrapper pid=66883)\u001b[0m \u001b[32m2023-01-18 10:29:04\u001b[0m | \u001b[1mINFO\u001b[0m | \u001b[1mFinished task: 18. Elapsed time: 10.389718294143677\u001b[0m\n",
      "\u001b[2m\u001b[36m(func_wrapper pid=66873)\u001b[0m \u001b[32m2023-01-18 10:29:04\u001b[0m | \u001b[1mINFO\u001b[0m | \u001b[1mFinished task: 8. Elapsed time: 10.384621381759644\u001b[0m\n",
      "\u001b[2m\u001b[36m(func_wrapper pid=66865)\u001b[0m \u001b[32m2023-01-18 10:29:04\u001b[0m | \u001b[1mINFO\u001b[0m | \u001b[1mFinished task: 0. Elapsed time: 10.443988800048828\u001b[0m\n",
      "\u001b[2m\u001b[36m(func_wrapper pid=66882)\u001b[0m \u001b[32m2023-01-18 10:29:04\u001b[0m | \u001b[1mINFO\u001b[0m | \u001b[1mFinished task: 17. Elapsed time: 10.379862070083618\u001b[0m\n",
      "\u001b[2m\u001b[36m(func_wrapper pid=66867)\u001b[0m \u001b[32m2023-01-18 10:29:04\u001b[0m | \u001b[1mINFO\u001b[0m | \u001b[1mFinished task: 2. Elapsed time: 10.471873044967651\u001b[0m\n",
      "\u001b[2m\u001b[36m(func_wrapper pid=66880)\u001b[0m \u001b[32m2023-01-18 10:29:04\u001b[0m | \u001b[1mINFO\u001b[0m | \u001b[1mFinished task: 15. Elapsed time: 10.517821550369263\u001b[0m\n",
      "\u001b[2m\u001b[36m(func_wrapper pid=66878)\u001b[0m \u001b[32m2023-01-18 10:29:04\u001b[0m | \u001b[1mINFO\u001b[0m | \u001b[1mFinished task: 13. Elapsed time: 10.465657711029053\u001b[0m\n",
      "\u001b[2m\u001b[36m(func_wrapper pid=66871)\u001b[0m \u001b[32m2023-01-18 10:29:04\u001b[0m | \u001b[1mINFO\u001b[0m | \u001b[1mFinished task: 6. Elapsed time: 10.44474458694458\u001b[0m\n",
      "\u001b[2m\u001b[36m(func_wrapper pid=66870)\u001b[0m \u001b[32m2023-01-18 10:29:04\u001b[0m | \u001b[1mINFO\u001b[0m | \u001b[1mFinished task: 5. Elapsed time: 10.470659255981445\u001b[0m\n",
      "\u001b[2m\u001b[36m(func_wrapper pid=66866)\u001b[0m \u001b[32m2023-01-18 10:29:04\u001b[0m | \u001b[1mINFO\u001b[0m | \u001b[1mFinished task: 1. Elapsed time: 10.446862936019897\u001b[0m\n",
      "\u001b[2m\u001b[36m(func_wrapper pid=66874)\u001b[0m \u001b[32m2023-01-18 10:29:04\u001b[0m | \u001b[1mINFO\u001b[0m | \u001b[1mFinished task: 9. Elapsed time: 10.462244510650635\u001b[0m\n",
      "CPU times: user 1.29 s, sys: 608 ms, total: 1.9 s\n",
      "Wall time: 19.9 s\n"
     ]
    }
   ],
   "source": [
    "%time dfo = parallel([task(func)(dfi) for _, dfi in dfs], method='ray', workers=4, reduce=True, runtime_env={\"working_dir\": \"..\" })"
   ]
  },
  {
   "cell_type": "code",
   "execution_count": 32,
   "id": "f194c9ec-2eed-43a2-84f4-29e50ac1af38",
   "metadata": {},
   "outputs": [
    {
     "name": "stderr",
     "output_type": "stream",
     "text": [
      "2023-01-18 10:29:04,606\tINFO worker.py:1351 -- Calling ray.init() again after it has already been called.\n"
     ]
    },
    {
     "name": "stdout",
     "output_type": "stream",
     "text": [
      "\u001b[2m\u001b[36m(func_wrapper pid=66869)\u001b[0m \u001b[32m2023-01-18 10:29:04\u001b[0m | \u001b[1mINFO\u001b[0m | \u001b[1mFinished task: 4. Elapsed time: 10.394327878952026\u001b[0m\n",
      "\u001b[2m\u001b[36m(func_wrapper pid=66868)\u001b[0m \u001b[32m2023-01-18 10:29:04\u001b[0m | \u001b[1mINFO\u001b[0m | \u001b[1mStarting task: 9\u001b[0m\n",
      "\u001b[2m\u001b[36m(func_wrapper pid=66867)\u001b[0m \u001b[32m2023-01-18 10:29:04\u001b[0m | \u001b[1mINFO\u001b[0m | \u001b[1mStarting task: 7\u001b[0m\n",
      "\u001b[2m\u001b[36m(func_wrapper pid=66880)\u001b[0m \u001b[32m2023-01-18 10:29:04\u001b[0m | \u001b[1mINFO\u001b[0m | \u001b[1mStarting task: 2\u001b[0m\n",
      "\u001b[2m\u001b[36m(func_wrapper pid=66878)\u001b[0m \u001b[32m2023-01-18 10:29:04\u001b[0m | \u001b[1mINFO\u001b[0m | \u001b[1mStarting task: 5\u001b[0m\n",
      "\u001b[2m\u001b[36m(func_wrapper pid=66871)\u001b[0m \u001b[32m2023-01-18 10:29:04\u001b[0m | \u001b[1mINFO\u001b[0m | \u001b[1mStarting task: 4\u001b[0m\n",
      "\u001b[2m\u001b[36m(func_wrapper pid=66869)\u001b[0m \u001b[32m2023-01-18 10:29:04\u001b[0m | \u001b[1mINFO\u001b[0m | \u001b[1mStarting task: 0\u001b[0m\n",
      "\u001b[2m\u001b[36m(func_wrapper pid=66865)\u001b[0m \u001b[32m2023-01-18 10:29:04\u001b[0m | \u001b[1mINFO\u001b[0m | \u001b[1mStarting task: 8\u001b[0m\n",
      "\u001b[2m\u001b[36m(func_wrapper pid=66870)\u001b[0m \u001b[32m2023-01-18 10:29:04\u001b[0m | \u001b[1mINFO\u001b[0m | \u001b[1mStarting task: 3\u001b[0m\n",
      "\u001b[2m\u001b[36m(func_wrapper pid=66866)\u001b[0m \u001b[32m2023-01-18 10:29:04\u001b[0m | \u001b[1mINFO\u001b[0m | \u001b[1mStarting task: 1\u001b[0m\n",
      "\u001b[2m\u001b[36m(func_wrapper pid=66874)\u001b[0m \u001b[32m2023-01-18 10:29:04\u001b[0m | \u001b[1mINFO\u001b[0m | \u001b[1mStarting task: 6\u001b[0m\n",
      "\u001b[2m\u001b[36m(func_wrapper pid=66881)\u001b[0m \u001b[32m2023-01-18 10:29:04\u001b[0m | \u001b[1mINFO\u001b[0m | \u001b[1mStarting task: 10\u001b[0m\n",
      "\u001b[2m\u001b[36m(func_wrapper pid=66877)\u001b[0m \u001b[32m2023-01-18 10:29:04\u001b[0m | \u001b[1mINFO\u001b[0m | \u001b[1mStarting task: 11\u001b[0m\n",
      "\u001b[2m\u001b[36m(func_wrapper pid=66883)\u001b[0m \u001b[32m2023-01-18 10:29:04\u001b[0m | \u001b[1mINFO\u001b[0m | \u001b[1mStarting task: 12\u001b[0m\n",
      "\u001b[2m\u001b[36m(func_wrapper pid=66882)\u001b[0m \u001b[32m2023-01-18 10:29:04\u001b[0m | \u001b[1mINFO\u001b[0m | \u001b[1mStarting task: 13\u001b[0m\n",
      "\u001b[2m\u001b[36m(func_wrapper pid=66876)\u001b[0m \u001b[32m2023-01-18 10:29:04\u001b[0m | \u001b[1mINFO\u001b[0m | \u001b[1mStarting task: 17\u001b[0m\n",
      "\u001b[2m\u001b[36m(func_wrapper pid=66884)\u001b[0m \u001b[32m2023-01-18 10:29:04\u001b[0m | \u001b[1mINFO\u001b[0m | \u001b[1mStarting task: 14\u001b[0m\n",
      "\u001b[2m\u001b[36m(func_wrapper pid=66879)\u001b[0m \u001b[32m2023-01-18 10:29:04\u001b[0m | \u001b[1mINFO\u001b[0m | \u001b[1mStarting task: 18\u001b[0m\n",
      "\u001b[2m\u001b[36m(func_wrapper pid=66872)\u001b[0m \u001b[32m2023-01-18 10:29:04\u001b[0m | \u001b[1mINFO\u001b[0m | \u001b[1mStarting task: 19\u001b[0m\n",
      "\u001b[2m\u001b[36m(func_wrapper pid=66875)\u001b[0m \u001b[32m2023-01-18 10:29:04\u001b[0m | \u001b[1mINFO\u001b[0m | \u001b[1mStarting task: 15\u001b[0m\n",
      "\u001b[2m\u001b[36m(func_wrapper pid=66873)\u001b[0m \u001b[32m2023-01-18 10:29:04\u001b[0m | \u001b[1mINFO\u001b[0m | \u001b[1mStarting task: 16\u001b[0m\n",
      "\u001b[2m\u001b[36m(func_wrapper pid=66878)\u001b[0m \u001b[32m2023-01-18 10:29:15\u001b[0m | \u001b[1mINFO\u001b[0m | \u001b[1mFinished task: 5. Elapsed time: 10.452893495559692\u001b[0m\n",
      "\u001b[2m\u001b[36m(func_wrapper pid=66871)\u001b[0m \u001b[32m2023-01-18 10:29:15\u001b[0m | \u001b[1mINFO\u001b[0m | \u001b[1mFinished task: 4. Elapsed time: 10.44457745552063\u001b[0m\n",
      "\u001b[2m\u001b[36m(func_wrapper pid=66869)\u001b[0m \u001b[32m2023-01-18 10:29:15\u001b[0m | \u001b[1mINFO\u001b[0m | \u001b[1mFinished task: 0. Elapsed time: 10.461451053619385\u001b[0m\n",
      "\u001b[2m\u001b[36m(func_wrapper pid=66866)\u001b[0m \u001b[32m2023-01-18 10:29:15\u001b[0m | \u001b[1mINFO\u001b[0m | \u001b[1mFinished task: 1. Elapsed time: 10.460070848464966\u001b[0m\n",
      "\u001b[2m\u001b[36m(func_wrapper pid=66882)\u001b[0m \u001b[32m2023-01-18 10:29:15\u001b[0m | \u001b[1mINFO\u001b[0m | \u001b[1mFinished task: 13. Elapsed time: 10.354361772537231\u001b[0m\n",
      "CPU times: user 263 ms, sys: 111 ms, total: 375 ms\n",
      "Wall time: 10.6 s\n",
      "\u001b[2m\u001b[36m(func_wrapper pid=66881)\u001b[0m \u001b[32m2023-01-18 10:29:15\u001b[0m | \u001b[1mINFO\u001b[0m | \u001b[1mFinished task: 10. Elapsed time: 10.475570678710938\u001b[0m\n",
      "\u001b[2m\u001b[36m(func_wrapper pid=66876)\u001b[0m \u001b[32m2023-01-18 10:29:15\u001b[0m | \u001b[1mINFO\u001b[0m | \u001b[1mFinished task: 17. Elapsed time: 10.495476007461548\u001b[0m\n",
      "\u001b[2m\u001b[36m(func_wrapper pid=66868)\u001b[0m \u001b[32m2023-01-18 10:29:15\u001b[0m | \u001b[1mINFO\u001b[0m | \u001b[1mFinished task: 9. Elapsed time: 10.475479364395142\u001b[0m\n",
      "\u001b[2m\u001b[36m(func_wrapper pid=66884)\u001b[0m \u001b[32m2023-01-18 10:29:15\u001b[0m | \u001b[1mINFO\u001b[0m | \u001b[1mFinished task: 14. Elapsed time: 10.475274085998535\u001b[0m\n",
      "\u001b[2m\u001b[36m(func_wrapper pid=66867)\u001b[0m \u001b[32m2023-01-18 10:29:15\u001b[0m | \u001b[1mINFO\u001b[0m | \u001b[1mFinished task: 7. Elapsed time: 10.476482629776001\u001b[0m\n",
      "\u001b[2m\u001b[36m(func_wrapper pid=66879)\u001b[0m \u001b[32m2023-01-18 10:29:15\u001b[0m | \u001b[1mINFO\u001b[0m | \u001b[1mFinished task: 18. Elapsed time: 10.470306873321533\u001b[0m\n",
      "\u001b[2m\u001b[36m(func_wrapper pid=66872)\u001b[0m \u001b[32m2023-01-18 10:29:15\u001b[0m | \u001b[1mINFO\u001b[0m | \u001b[1mFinished task: 19. Elapsed time: 10.471498966217041\u001b[0m\n",
      "\u001b[2m\u001b[36m(func_wrapper pid=66880)\u001b[0m \u001b[32m2023-01-18 10:29:15\u001b[0m | \u001b[1mINFO\u001b[0m | \u001b[1mFinished task: 2. Elapsed time: 10.48350191116333\u001b[0m\n",
      "\u001b[2m\u001b[36m(func_wrapper pid=66877)\u001b[0m \u001b[32m2023-01-18 10:29:15\u001b[0m | \u001b[1mINFO\u001b[0m | \u001b[1mFinished task: 11. Elapsed time: 10.466392755508423\u001b[0m\n",
      "\u001b[2m\u001b[36m(func_wrapper pid=66875)\u001b[0m \u001b[32m2023-01-18 10:29:15\u001b[0m | \u001b[1mINFO\u001b[0m | \u001b[1mFinished task: 15. Elapsed time: 10.427114486694336\u001b[0m\n",
      "\u001b[2m\u001b[36m(func_wrapper pid=66883)\u001b[0m \u001b[32m2023-01-18 10:29:15\u001b[0m | \u001b[1mINFO\u001b[0m | \u001b[1mFinished task: 12. Elapsed time: 10.463905334472656\u001b[0m\n",
      "\u001b[2m\u001b[36m(func_wrapper pid=66873)\u001b[0m \u001b[32m2023-01-18 10:29:15\u001b[0m | \u001b[1mINFO\u001b[0m | \u001b[1mFinished task: 16. Elapsed time: 10.471866369247437\u001b[0m\n",
      "\u001b[2m\u001b[36m(func_wrapper pid=66865)\u001b[0m \u001b[32m2023-01-18 10:29:15\u001b[0m | \u001b[1mINFO\u001b[0m | \u001b[1mFinished task: 8. Elapsed time: 10.478315353393555\u001b[0m\n",
      "\u001b[2m\u001b[36m(func_wrapper pid=66870)\u001b[0m \u001b[32m2023-01-18 10:29:15\u001b[0m | \u001b[1mINFO\u001b[0m | \u001b[1mFinished task: 3. Elapsed time: 10.498997211456299\u001b[0m\n",
      "\u001b[2m\u001b[36m(func_wrapper pid=66874)\u001b[0m \u001b[32m2023-01-18 10:29:15\u001b[0m | \u001b[1mINFO\u001b[0m | \u001b[1mFinished task: 6. Elapsed time: 10.472121238708496\u001b[0m\n"
     ]
    }
   ],
   "source": [
    "%time dfo = parallel([task(func)(dfi) for _, dfi in dfs], method='ray', workers=4, reduce=True, runtime_env={\"working_dir\": \"..\" })"
   ]
  },
  {
   "cell_type": "code",
   "execution_count": 30,
   "id": "919aeac4-8707-4dfc-ac66-ee528d0a0c15",
   "metadata": {},
   "outputs": [
    {
     "name": "stdout",
     "output_type": "stream",
     "text": [
      "\u001b[32m2023-01-18 10:27:52\u001b[0m | \u001b[1mINFO\u001b[0m | \u001b[1mStarting task: 0\u001b[0m\n",
      "\u001b[32m2023-01-18 10:27:52\u001b[0m | \u001b[1mINFO\u001b[0m | \u001b[1mStarting task: 1\u001b[0m\n",
      "\u001b[32m2023-01-18 10:27:52\u001b[0m | \u001b[1mINFO\u001b[0m | \u001b[1mStarting task: 2\u001b[0m\n",
      "\u001b[32m2023-01-18 10:27:52\u001b[0m | \u001b[1mINFO\u001b[0m | \u001b[1mStarting task: 3\u001b[0m\n",
      "\u001b[32m2023-01-18 10:28:02\u001b[0m | \u001b[1mINFO\u001b[0m | \u001b[1mFinished task: 3. Elapsed time: 10.340762376785278\u001b[0m\n",
      "\u001b[32m2023-01-18 10:28:02\u001b[0m | \u001b[1mINFO\u001b[0m | \u001b[1mFinished task: 0. Elapsed time: 10.365068674087524\u001b[0m\n",
      "\u001b[32m2023-01-18 10:28:03\u001b[0m | \u001b[1mINFO\u001b[0m | \u001b[1mFinished task: 2. Elapsed time: 10.376482725143433\u001b[0m\n",
      "\u001b[32m2023-01-18 10:28:03\u001b[0m | \u001b[1mINFO\u001b[0m | \u001b[1mStarting task: 4\u001b[0m\n",
      "\u001b[32m2023-01-18 10:28:03\u001b[0m | \u001b[1mINFO\u001b[0m | \u001b[1mFinished task: 1. Elapsed time: 10.36663007736206\u001b[0m\n",
      "\u001b[32m2023-01-18 10:28:03\u001b[0m | \u001b[1mINFO\u001b[0m | \u001b[1mStarting task: 5\u001b[0m\n"
     ]
    },
    {
     "data": {
      "application/vnd.jupyter.widget-view+json": {
       "model_id": "f31bb2d8471449b18faf018a88e8d0f7",
       "version_major": 2,
       "version_minor": 0
      },
      "text/plain": [
       "  5%|5         | 1/20 [00:00<?, ?it/s]"
      ]
     },
     "metadata": {},
     "output_type": "display_data"
    },
    {
     "name": "stdout",
     "output_type": "stream",
     "text": [
      "\u001b[32m2023-01-18 10:28:03\u001b[0m | \u001b[1mINFO\u001b[0m | \u001b[1mStarting task: 6\u001b[0m\n",
      "\u001b[32m2023-01-18 10:28:03\u001b[0m | \u001b[1mINFO\u001b[0m | \u001b[1mStarting task: 7\u001b[0m\n",
      "\u001b[32m2023-01-18 10:28:13\u001b[0m | \u001b[1mINFO\u001b[0m | \u001b[1mFinished task: 4. Elapsed time: 10.349640369415283\u001b[0m\n",
      "\u001b[32m2023-01-18 10:28:13\u001b[0m | \u001b[1mINFO\u001b[0m | \u001b[1mStarting task: 8\u001b[0m\n",
      "\u001b[32m2023-01-18 10:28:13\u001b[0m | \u001b[1mINFO\u001b[0m | \u001b[1mFinished task: 5. Elapsed time: 10.35445499420166\u001b[0m\n",
      "\u001b[32m2023-01-18 10:28:13\u001b[0m | \u001b[1mINFO\u001b[0m | \u001b[1mFinished task: 7. Elapsed time: 10.33534550666809\u001b[0m\n",
      "\u001b[32m2023-01-18 10:28:13\u001b[0m | \u001b[1mINFO\u001b[0m | \u001b[1mStarting task: 9\u001b[0m\n",
      "\u001b[32m2023-01-18 10:28:13\u001b[0m | \u001b[1mINFO\u001b[0m | \u001b[1mStarting task: 10\u001b[0m\n",
      "\u001b[32m2023-01-18 10:28:13\u001b[0m | \u001b[1mINFO\u001b[0m | \u001b[1mFinished task: 6. Elapsed time: 10.385774612426758\u001b[0m\n",
      "\u001b[32m2023-01-18 10:28:13\u001b[0m | \u001b[1mINFO\u001b[0m | \u001b[1mStarting task: 11\u001b[0m\n",
      "\u001b[32m2023-01-18 10:28:23\u001b[0m | \u001b[1mINFO\u001b[0m | \u001b[1mFinished task: 8. Elapsed time: 10.349951982498169\u001b[0m\n",
      "\u001b[32m2023-01-18 10:28:23\u001b[0m | \u001b[1mINFO\u001b[0m | \u001b[1mStarting task: 12\u001b[0m\n",
      "\u001b[32m2023-01-18 10:28:23\u001b[0m | \u001b[1mINFO\u001b[0m | \u001b[1mFinished task: 9. Elapsed time: 10.353824138641357\u001b[0m\n",
      "\u001b[32m2023-01-18 10:28:23\u001b[0m | \u001b[1mINFO\u001b[0m | \u001b[1mFinished task: 10. Elapsed time: 10.349895000457764\u001b[0m\n",
      "\u001b[32m2023-01-18 10:28:23\u001b[0m | \u001b[1mINFO\u001b[0m | \u001b[1mStarting task: 13\u001b[0m\n",
      "\u001b[32m2023-01-18 10:28:23\u001b[0m | \u001b[1mINFO\u001b[0m | \u001b[1mStarting task: 14\u001b[0m\n",
      "\u001b[32m2023-01-18 10:28:23\u001b[0m | \u001b[1mINFO\u001b[0m | \u001b[1mFinished task: 11. Elapsed time: 10.370116233825684\u001b[0m\n",
      "\u001b[32m2023-01-18 10:28:23\u001b[0m | \u001b[1mINFO\u001b[0m | \u001b[1mStarting task: 15\u001b[0m\n",
      "\u001b[32m2023-01-18 10:28:34\u001b[0m | \u001b[1mINFO\u001b[0m | \u001b[1mFinished task: 12. Elapsed time: 10.356114864349365\u001b[0m\n",
      "\u001b[32m2023-01-18 10:28:34\u001b[0m | \u001b[1mINFO\u001b[0m | \u001b[1mStarting task: 16\u001b[0m\n",
      "\u001b[32m2023-01-18 10:28:34\u001b[0m | \u001b[1mINFO\u001b[0m | \u001b[1mFinished task: 13. Elapsed time: 10.352920293807983\u001b[0m\n",
      "\u001b[32m2023-01-18 10:28:34\u001b[0m | \u001b[1mINFO\u001b[0m | \u001b[1mStarting task: 17\u001b[0m\n",
      "\u001b[32m2023-01-18 10:28:34\u001b[0m | \u001b[1mINFO\u001b[0m | \u001b[1mFinished task: 14. Elapsed time: 10.397285223007202\u001b[0m\n",
      "\u001b[32m2023-01-18 10:28:34\u001b[0m | \u001b[1mINFO\u001b[0m | \u001b[1mStarting task: 18\u001b[0m\n",
      "\u001b[32m2023-01-18 10:28:34\u001b[0m | \u001b[1mINFO\u001b[0m | \u001b[1mFinished task: 15. Elapsed time: 10.359859466552734\u001b[0m\n",
      "\u001b[32m2023-01-18 10:28:34\u001b[0m | \u001b[1mINFO\u001b[0m | \u001b[1mStarting task: 19\u001b[0m\n",
      "\u001b[32m2023-01-18 10:28:44\u001b[0m | \u001b[1mINFO\u001b[0m | \u001b[1mFinished task: 16. Elapsed time: 10.355147361755371\u001b[0m\n",
      "\u001b[32m2023-01-18 10:28:44\u001b[0m | \u001b[1mINFO\u001b[0m | \u001b[1mFinished task: 17. Elapsed time: 10.363756895065308\u001b[0m\n",
      "\u001b[32m2023-01-18 10:28:44\u001b[0m | \u001b[1mINFO\u001b[0m | \u001b[1mFinished task: 18. Elapsed time: 10.343354940414429\u001b[0m\n",
      "\u001b[32m2023-01-18 10:28:44\u001b[0m | \u001b[1mINFO\u001b[0m | \u001b[1mFinished task: 19. Elapsed time: 10.363591194152832\u001b[0m\n",
      "CPU times: user 186 ms, sys: 155 ms, total: 341 ms\n",
      "Wall time: 52 s\n"
     ]
    }
   ],
   "source": [
    "%time dfo = parallel([task(func)(dfi) for _, dfi in dfs], method='apply_async', workers=4, context='fork', reduce=True)"
   ]
  },
  {
   "cell_type": "code",
   "execution_count": 29,
   "id": "39191535-962f-4c28-82cb-4f96317c02d7",
   "metadata": {},
   "outputs": [
    {
     "name": "stdout",
     "output_type": "stream",
     "text": [
      "\u001b[32m2023-01-18 10:26:49\u001b[0m | \u001b[1mINFO\u001b[0m | \u001b[1mStarting task: 6\u001b[0m\n",
      "\u001b[32m2023-01-18 10:26:49\u001b[0m | \u001b[1mINFO\u001b[0m | \u001b[1mStarting task: 1\u001b[0m\n",
      "\u001b[32m2023-01-18 10:26:49\u001b[0m | \u001b[1mINFO\u001b[0m | \u001b[1mStarting task: 19\u001b[0m\n",
      "\u001b[32m2023-01-18 10:26:49\u001b[0m | \u001b[1mINFO\u001b[0m | \u001b[1mStarting task: 4\u001b[0m\n",
      "\u001b[32m2023-01-18 10:27:02\u001b[0m | \u001b[1mINFO\u001b[0m | \u001b[1mFinished task: 1. Elapsed time: 12.615652322769165\u001b[0m\n",
      "\u001b[32m2023-01-18 10:27:02\u001b[0m | \u001b[1mINFO\u001b[0m | \u001b[1mFinished task: 19. Elapsed time: 12.618026494979858\u001b[0m\n",
      "\u001b[32m2023-01-18 10:27:02\u001b[0m | \u001b[1mINFO\u001b[0m | \u001b[1mStarting task: 5\u001b[0m\n",
      "\u001b[32m2023-01-18 10:27:02\u001b[0m | \u001b[1mINFO\u001b[0m | \u001b[1mStarting task: 7\u001b[0m\n",
      "\u001b[32m2023-01-18 10:27:02\u001b[0m | \u001b[1mINFO\u001b[0m | \u001b[1mFinished task: 4. Elapsed time: 12.627742052078247\u001b[0m\n",
      "\u001b[32m2023-01-18 10:27:02\u001b[0m | \u001b[1mINFO\u001b[0m | \u001b[1mFinished task: 6. Elapsed time: 12.638269424438477\u001b[0m\n",
      "\u001b[32m2023-01-18 10:27:02\u001b[0m | \u001b[1mINFO\u001b[0m | \u001b[1mStarting task: 8\u001b[0m\n",
      "\u001b[32m2023-01-18 10:27:02\u001b[0m | \u001b[1mINFO\u001b[0m | \u001b[1mStarting task: 0\u001b[0m\n",
      "\u001b[32m2023-01-18 10:27:14\u001b[0m | \u001b[1mINFO\u001b[0m | \u001b[1mFinished task: 7. Elapsed time: 12.405572175979614\u001b[0m\n",
      "\u001b[32m2023-01-18 10:27:14\u001b[0m | \u001b[1mINFO\u001b[0m | \u001b[1mStarting task: 3\u001b[0m\n",
      "\u001b[32m2023-01-18 10:27:14\u001b[0m | \u001b[1mINFO\u001b[0m | \u001b[1mFinished task: 8. Elapsed time: 12.406249284744263\u001b[0m\n",
      "\u001b[32m2023-01-18 10:27:14\u001b[0m | \u001b[1mINFO\u001b[0m | \u001b[1mStarting task: 2\u001b[0m\n",
      "\u001b[32m2023-01-18 10:27:14\u001b[0m | \u001b[1mINFO\u001b[0m | \u001b[1mFinished task: 5. Elapsed time: 12.423308610916138\u001b[0m\n",
      "\u001b[32m2023-01-18 10:27:14\u001b[0m | \u001b[1mINFO\u001b[0m | \u001b[1mFinished task: 0. Elapsed time: 12.413100957870483\u001b[0m\n",
      "\u001b[32m2023-01-18 10:27:14\u001b[0m | \u001b[1mINFO\u001b[0m | \u001b[1mStarting task: 16\u001b[0m\n",
      "\u001b[32m2023-01-18 10:27:14\u001b[0m | \u001b[1mINFO\u001b[0m | \u001b[1mStarting task: 15\u001b[0m\n",
      "\u001b[32m2023-01-18 10:27:27\u001b[0m | \u001b[1mINFO\u001b[0m | \u001b[1mFinished task: 3. Elapsed time: 12.445021629333496\u001b[0m\n",
      "\u001b[32m2023-01-18 10:27:27\u001b[0m | \u001b[1mINFO\u001b[0m | \u001b[1mStarting task: 9\u001b[0m\n",
      "\u001b[32m2023-01-18 10:27:27\u001b[0m | \u001b[1mINFO\u001b[0m | \u001b[1mFinished task: 2. Elapsed time: 12.44106674194336\u001b[0m\n",
      "\u001b[32m2023-01-18 10:27:27\u001b[0m | \u001b[1mINFO\u001b[0m | \u001b[1mStarting task: 13\u001b[0m\n",
      "\u001b[32m2023-01-18 10:27:27\u001b[0m | \u001b[1mINFO\u001b[0m | \u001b[1mFinished task: 15. Elapsed time: 12.442017555236816\u001b[0m\n",
      "\u001b[32m2023-01-18 10:27:27\u001b[0m | \u001b[1mINFO\u001b[0m | \u001b[1mStarting task: 17\u001b[0m\n",
      "\u001b[32m2023-01-18 10:27:27\u001b[0m | \u001b[1mINFO\u001b[0m | \u001b[1mFinished task: 16. Elapsed time: 12.447400569915771\u001b[0m\n",
      "\u001b[32m2023-01-18 10:27:27\u001b[0m | \u001b[1mINFO\u001b[0m | \u001b[1mStarting task: 10\u001b[0m\n",
      "\u001b[32m2023-01-18 10:27:39\u001b[0m | \u001b[1mINFO\u001b[0m | \u001b[1mFinished task: 10. Elapsed time: 12.424917697906494\u001b[0m\n",
      "\u001b[32m2023-01-18 10:27:39\u001b[0m | \u001b[1mINFO\u001b[0m | \u001b[1mStarting task: 14\u001b[0m\n",
      "\u001b[32m2023-01-18 10:27:39\u001b[0m | \u001b[1mINFO\u001b[0m | \u001b[1mFinished task: 13. Elapsed time: 12.447146892547607\u001b[0m\n",
      "\u001b[32m2023-01-18 10:27:39\u001b[0m | \u001b[1mINFO\u001b[0m | \u001b[1mStarting task: 18\u001b[0m\n",
      "\u001b[32m2023-01-18 10:27:39\u001b[0m | \u001b[1mINFO\u001b[0m | \u001b[1mFinished task: 17. Elapsed time: 12.445974826812744\u001b[0m\n",
      "\u001b[32m2023-01-18 10:27:39\u001b[0m | \u001b[1mINFO\u001b[0m | \u001b[1mFinished task: 9. Elapsed time: 12.46530032157898\u001b[0m\n",
      "\u001b[32m2023-01-18 10:27:39\u001b[0m | \u001b[1mINFO\u001b[0m | \u001b[1mStarting task: 11\u001b[0m\n",
      "\u001b[32m2023-01-18 10:27:39\u001b[0m | \u001b[1mINFO\u001b[0m | \u001b[1mStarting task: 12\u001b[0m\n",
      "\u001b[32m2023-01-18 10:27:52\u001b[0m | \u001b[1mINFO\u001b[0m | \u001b[1mFinished task: 14. Elapsed time: 12.605314016342163\u001b[0m\n",
      "\u001b[32m2023-01-18 10:27:52\u001b[0m | \u001b[1mINFO\u001b[0m | \u001b[1mFinished task: 11. Elapsed time: 12.593121767044067\u001b[0m\n",
      "\u001b[32m2023-01-18 10:27:52\u001b[0m | \u001b[1mINFO\u001b[0m | \u001b[1mFinished task: 18. Elapsed time: 12.607522010803223\u001b[0m\n",
      "\u001b[32m2023-01-18 10:27:52\u001b[0m | \u001b[1mINFO\u001b[0m | \u001b[1mFinished task: 12. Elapsed time: 12.601927995681763\u001b[0m\n",
      "CPU times: user 12.7 s, sys: 353 ms, total: 13.1 s\n",
      "Wall time: 1min 2s\n"
     ]
    }
   ],
   "source": [
    "%time dfo = parallel([task(func)(dfi) for _, dfi in dfs], method='dask', workers=4, reduce=True)"
   ]
  },
  {
   "cell_type": "code",
   "execution_count": 27,
   "id": "8c83c5f6-916c-4e36-ab2a-568f899f1a4f",
   "metadata": {},
   "outputs": [
    {
     "name": "stderr",
     "output_type": "stream",
     "text": [
      "[Parallel(n_jobs=4)]: Using backend LokyBackend with 4 concurrent workers.\n"
     ]
    },
    {
     "name": "stdout",
     "output_type": "stream",
     "text": [
      "\u001b[32m2023-01-18 10:24:54\u001b[0m | \u001b[1mINFO\u001b[0m | \u001b[1mStarting task: 0\u001b[0m\n",
      "\u001b[32m2023-01-18 10:24:55\u001b[0m | \u001b[1mINFO\u001b[0m | \u001b[1mStarting task: 3\u001b[0m\n",
      "\u001b[32m2023-01-18 10:24:55\u001b[0m | \u001b[1mINFO\u001b[0m | \u001b[1mStarting task: 1\u001b[0m\n",
      "\u001b[32m2023-01-18 10:24:55\u001b[0m | \u001b[1mINFO\u001b[0m | \u001b[1mStarting task: 2\u001b[0m\n",
      "\u001b[32m2023-01-18 10:25:05\u001b[0m | \u001b[1mINFO\u001b[0m | \u001b[1mFinished task: 0. Elapsed time: 10.42505431175232\u001b[0m\n",
      "\u001b[32m2023-01-18 10:25:05\u001b[0m | \u001b[1mINFO\u001b[0m | \u001b[1mFinished task: 3. Elapsed time: 10.37529730796814\u001b[0m\n",
      "\u001b[32m2023-01-18 10:25:05\u001b[0m | \u001b[1mINFO\u001b[0m | \u001b[1mFinished task: 1. Elapsed time: 10.386337280273438\u001b[0m\n",
      "\u001b[32m2023-01-18 10:25:05\u001b[0m | \u001b[1mINFO\u001b[0m | \u001b[1mFinished task: 2. Elapsed time: 10.350576162338257\u001b[0m\n",
      "\u001b[32m2023-01-18 10:25:05\u001b[0m | \u001b[1mINFO\u001b[0m | \u001b[1mStarting task: 4\u001b[0m\n",
      "\u001b[32m2023-01-18 10:25:05\u001b[0m | \u001b[1mINFO\u001b[0m | \u001b[1mStarting task: 5\u001b[0m\n",
      "\u001b[32m2023-01-18 10:25:05\u001b[0m | \u001b[1mINFO\u001b[0m | \u001b[1mStarting task: 6\u001b[0m\n",
      "\u001b[32m2023-01-18 10:25:05\u001b[0m | \u001b[1mINFO\u001b[0m | \u001b[1mStarting task: 7\u001b[0m\n",
      "\u001b[32m2023-01-18 10:25:15\u001b[0m | \u001b[1mINFO\u001b[0m | \u001b[1mFinished task: 4. Elapsed time: 10.350367784500122\u001b[0m\n",
      "\u001b[32m2023-01-18 10:25:15\u001b[0m | \u001b[1mINFO\u001b[0m | \u001b[1mStarting task: 8\u001b[0m\n",
      "\u001b[32m2023-01-18 10:25:15\u001b[0m | \u001b[1mINFO\u001b[0m | \u001b[1mFinished task: 5. Elapsed time: 10.34516429901123\u001b[0m\n",
      "\u001b[32m2023-01-18 10:25:15\u001b[0m | \u001b[1mINFO\u001b[0m | \u001b[1mStarting task: 9\u001b[0m\n",
      "\u001b[32m2023-01-18 10:25:15\u001b[0m | \u001b[1mINFO\u001b[0m | \u001b[1mFinished task: 6. Elapsed time: 10.340227127075195\u001b[0m\n",
      "\u001b[32m2023-01-18 10:25:15\u001b[0m | \u001b[1mINFO\u001b[0m | \u001b[1mStarting task: 10\u001b[0m\n",
      "\u001b[32m2023-01-18 10:25:15\u001b[0m | \u001b[1mINFO\u001b[0m | \u001b[1mFinished task: 7. Elapsed time: 10.352807521820068\u001b[0m\n",
      "\u001b[32m2023-01-18 10:25:15\u001b[0m | \u001b[1mINFO\u001b[0m | \u001b[1mStarting task: 11\u001b[0m\n"
     ]
    },
    {
     "name": "stderr",
     "output_type": "stream",
     "text": [
      "[Parallel(n_jobs=4)]: Done   5 tasks      | elapsed:   23.5s\n"
     ]
    },
    {
     "name": "stdout",
     "output_type": "stream",
     "text": [
      "\u001b[32m2023-01-18 10:25:26\u001b[0m | \u001b[1mINFO\u001b[0m | \u001b[1mFinished task: 8. Elapsed time: 10.341449499130249\u001b[0m\n",
      "\u001b[32m2023-01-18 10:25:26\u001b[0m | \u001b[1mINFO\u001b[0m | \u001b[1mStarting task: 12\u001b[0m\n",
      "\u001b[32m2023-01-18 10:25:26\u001b[0m | \u001b[1mINFO\u001b[0m | \u001b[1mFinished task: 9. Elapsed time: 10.34509801864624\u001b[0m\n",
      "\u001b[32m2023-01-18 10:25:26\u001b[0m | \u001b[1mINFO\u001b[0m | \u001b[1mStarting task: 13\u001b[0m\n",
      "\u001b[32m2023-01-18 10:25:26\u001b[0m | \u001b[1mINFO\u001b[0m | \u001b[1mFinished task: 10. Elapsed time: 10.34015703201294\u001b[0m\n",
      "\u001b[32m2023-01-18 10:25:26\u001b[0m | \u001b[1mINFO\u001b[0m | \u001b[1mStarting task: 14\u001b[0m\n",
      "\u001b[32m2023-01-18 10:25:26\u001b[0m | \u001b[1mINFO\u001b[0m | \u001b[1mFinished task: 11. Elapsed time: 10.336136102676392\u001b[0m\n",
      "\u001b[32m2023-01-18 10:25:26\u001b[0m | \u001b[1mINFO\u001b[0m | \u001b[1mStarting task: 15\u001b[0m\n"
     ]
    },
    {
     "name": "stderr",
     "output_type": "stream",
     "text": [
      "[Parallel(n_jobs=4)]: Done  10 tasks      | elapsed:   33.8s\n"
     ]
    },
    {
     "name": "stdout",
     "output_type": "stream",
     "text": [
      "\u001b[32m2023-01-18 10:25:36\u001b[0m | \u001b[1mINFO\u001b[0m | \u001b[1mFinished task: 12. Elapsed time: 10.34852647781372\u001b[0m\n",
      "\u001b[32m2023-01-18 10:25:36\u001b[0m | \u001b[1mINFO\u001b[0m | \u001b[1mStarting task: 16\u001b[0m\n",
      "\u001b[32m2023-01-18 10:25:36\u001b[0m | \u001b[1mINFO\u001b[0m | \u001b[1mFinished task: 13. Elapsed time: 10.347316265106201\u001b[0m\n",
      "\u001b[32m2023-01-18 10:25:36\u001b[0m | \u001b[1mINFO\u001b[0m | \u001b[1mStarting task: 17\u001b[0m\n",
      "\u001b[32m2023-01-18 10:25:36\u001b[0m | \u001b[1mINFO\u001b[0m | \u001b[1mFinished task: 14. Elapsed time: 10.364957571029663\u001b[0m\n",
      "\u001b[32m2023-01-18 10:25:36\u001b[0m | \u001b[1mINFO\u001b[0m | \u001b[1mStarting task: 18\u001b[0m\n",
      "\u001b[32m2023-01-18 10:25:36\u001b[0m | \u001b[1mINFO\u001b[0m | \u001b[1mFinished task: 15. Elapsed time: 10.351532220840454\u001b[0m\n",
      "\u001b[32m2023-01-18 10:25:36\u001b[0m | \u001b[1mINFO\u001b[0m | \u001b[1mStarting task: 19\u001b[0m\n"
     ]
    },
    {
     "name": "stderr",
     "output_type": "stream",
     "text": [
      "[Parallel(n_jobs=4)]: Done  16 out of  20 | elapsed:   44.2s remaining:   11.1s\n"
     ]
    },
    {
     "name": "stdout",
     "output_type": "stream",
     "text": [
      "\u001b[32m2023-01-18 10:25:46\u001b[0m | \u001b[1mINFO\u001b[0m | \u001b[1mFinished task: 17. Elapsed time: 10.35016417503357\u001b[0m\n",
      "\u001b[32m2023-01-18 10:25:46\u001b[0m | \u001b[1mINFO\u001b[0m | \u001b[1mFinished task: 16. Elapsed time: 10.403868913650513\u001b[0m\n",
      "\u001b[32m2023-01-18 10:25:46\u001b[0m | \u001b[1mINFO\u001b[0m | \u001b[1mFinished task: 18. Elapsed time: 10.356250286102295\u001b[0m\n",
      "\u001b[32m2023-01-18 10:25:47\u001b[0m | \u001b[1mINFO\u001b[0m | \u001b[1mFinished task: 19. Elapsed time: 10.358731508255005\u001b[0m\n",
      "CPU times: user 163 ms, sys: 176 ms, total: 339 ms\n",
      "Wall time: 54.7 s\n"
     ]
    },
    {
     "name": "stderr",
     "output_type": "stream",
     "text": [
      "[Parallel(n_jobs=4)]: Done  20 out of  20 | elapsed:   54.6s finished\n"
     ]
    }
   ],
   "source": [
    "%time dfo = parallel([task(func)(dfi) for _, dfi in dfs], method='joblib', verbose=10, workers=4, reduce=True)"
   ]
  },
  {
   "cell_type": "code",
   "execution_count": 24,
   "id": "8590b55d-aa37-4d66-9f26-f702cc540549",
   "metadata": {},
   "outputs": [
    {
     "data": {
      "application/vnd.jupyter.widget-view+json": {
       "model_id": "b4b5953a103b410a8ec5b36dbbf27f2c",
       "version_major": 2,
       "version_minor": 0
      },
      "text/plain": [
       "  0%|          | 0/20 [00:00<?, ?it/s]"
      ]
     },
     "metadata": {},
     "output_type": "display_data"
    },
    {
     "name": "stdout",
     "output_type": "stream",
     "text": [
      "CPU times: user 130 ms, sys: 154 ms, total: 284 ms\n",
      "Wall time: 51.9 s\n"
     ]
    }
   ],
   "source": [
    "%time dfo = parallel([task(func)(dfi) for _, dfi in dfs], method='process_map', func=func, workers=4, reduce=True)"
   ]
  },
  {
   "cell_type": "code",
   "execution_count": 28,
   "id": "097ef0f8-fb2f-4739-9d30-3ad8c3af8aac",
   "metadata": {},
   "outputs": [
    {
     "data": {
      "application/vnd.jupyter.widget-view+json": {
       "model_id": "43127b11f4d44229a6d9ae9481829b28",
       "version_major": 2,
       "version_minor": 0
      },
      "text/plain": [
       "  0%|          | 0/20 [00:00<?, ?it/s]"
      ]
     },
     "metadata": {},
     "output_type": "display_data"
    },
    {
     "name": "stdout",
     "output_type": "stream",
     "text": [
      "CPU times: user 12.6 s, sys: 384 ms, total: 13 s\n",
      "Wall time: 1min 2s\n"
     ]
    }
   ],
   "source": [
    "%time dfo = parallel([task(func)(dfi) for _, dfi in dfs], method='thread_map', func=func, workers=4, reduce=True)"
   ]
  },
  {
   "cell_type": "code",
   "execution_count": null,
   "id": "6c49b585-b9d8-4960-bf32-7eb59c534ef6",
   "metadata": {},
   "outputs": [],
   "source": []
  },
  {
   "cell_type": "code",
   "execution_count": 17,
   "id": "fd6c132d-b876-44ac-a258-f94381fa60b9",
   "metadata": {},
   "outputs": [],
   "source": [
    "# bp = BeamParallel(method='apply_async', workers=4, context='fork', reduce=True)\n",
    "bp = BeamParallel(method='dask', workers=4, reduce=True)"
   ]
  },
  {
   "cell_type": "code",
   "execution_count": null,
   "id": "0e8ce9c4-a364-441d-aa63-967904fdf983",
   "metadata": {},
   "outputs": [],
   "source": [
    "bp = BeamParallel(method='apply_async', workers=4, context='fork', reduce=True)"
   ]
  },
  {
   "cell_type": "code",
   "execution_count": 18,
   "id": "3b65efc2-6f7d-4ea4-8897-3b11264a6226",
   "metadata": {},
   "outputs": [],
   "source": [
    "for _, dfi in dfs:\n",
    "    bp.add(func, dfi)"
   ]
  },
  {
   "cell_type": "code",
   "execution_count": 19,
   "id": "05aecd87-889b-4dde-913f-90c6e3107b05",
   "metadata": {},
   "outputs": [
    {
     "name": "stdout",
     "output_type": "stream",
     "text": [
      "\u001b[32m2023-01-17 13:43:17\u001b[0m | \u001b[1mINFO\u001b[0m | \u001b[1mStarting task: 7\u001b[0m\n",
      "\u001b[32m2023-01-17 13:43:17\u001b[0m | \u001b[1mINFO\u001b[0m | \u001b[1mStarting task: 5\u001b[0m\n",
      "\u001b[32m2023-01-17 13:43:17\u001b[0m | \u001b[1mINFO\u001b[0m | \u001b[1mStarting task: 9\u001b[0m\n",
      "\u001b[32m2023-01-17 13:43:17\u001b[0m | \u001b[1mINFO\u001b[0m | \u001b[1mStarting task: 11\u001b[0m\n",
      "\u001b[32m2023-01-17 13:43:17\u001b[0m | \u001b[1mINFO\u001b[0m | \u001b[1mStarting task: 8\u001b[0m\n",
      "\u001b[32m2023-01-17 13:43:17\u001b[0m | \u001b[1mINFO\u001b[0m | \u001b[1mStarting task: 16\u001b[0m\n",
      "\u001b[32m2023-01-17 13:43:17\u001b[0m | \u001b[1mINFO\u001b[0m | \u001b[1mStarting task: 17\u001b[0m\n",
      "\u001b[32m2023-01-17 13:43:17\u001b[0m | \u001b[1mINFO\u001b[0m | \u001b[1mStarting task: 19\u001b[0m\n",
      "\u001b[32m2023-01-17 13:43:17\u001b[0m | \u001b[1mINFO\u001b[0m | \u001b[1mStarting task: 14\u001b[0m\n",
      "\u001b[32m2023-01-17 13:43:17\u001b[0m | \u001b[1mINFO\u001b[0m | \u001b[1mStarting task: 15\u001b[0m\n",
      "\u001b[32m2023-01-17 13:43:17\u001b[0m | \u001b[1mINFO\u001b[0m | \u001b[1mStarting task: 13\u001b[0m\n",
      "\u001b[32m2023-01-17 13:43:17\u001b[0m | \u001b[1mINFO\u001b[0m | \u001b[1mStarting task: 12\u001b[0m\n",
      "\u001b[32m2023-01-17 13:43:17\u001b[0m | \u001b[1mINFO\u001b[0m | \u001b[1mStarting task: 10\u001b[0m\n",
      "\u001b[32m2023-01-17 13:43:17\u001b[0m | \u001b[1mINFO\u001b[0m | \u001b[1mStarting task: 6\u001b[0m\n",
      "\u001b[32m2023-01-17 13:43:17\u001b[0m | \u001b[1mINFO\u001b[0m | \u001b[1mStarting task: 1\u001b[0m\n",
      "\u001b[32m2023-01-17 13:43:17\u001b[0m | \u001b[1mINFO\u001b[0m | \u001b[1mStarting task: 2\u001b[0m\n",
      "\u001b[32m2023-01-17 13:43:17\u001b[0m | \u001b[1mINFO\u001b[0m | \u001b[1mStarting task: 18\u001b[0m\n",
      "\u001b[32m2023-01-17 13:43:17\u001b[0m | \u001b[1mINFO\u001b[0m | \u001b[1mStarting task: 4\u001b[0m\n",
      "\u001b[32m2023-01-17 13:43:17\u001b[0m | \u001b[1mINFO\u001b[0m | \u001b[1mStarting task: 3\u001b[0m\n",
      "\u001b[32m2023-01-17 13:43:17\u001b[0m | \u001b[1mINFO\u001b[0m | \u001b[1mStarting task: 0\u001b[0m\n",
      "\u001b[32m2023-01-17 13:43:41\u001b[0m | \u001b[1mINFO\u001b[0m | \u001b[1mFinished task: 19. Elapsed time: 23.9125497341156\u001b[0m\n",
      "\u001b[32m2023-01-17 13:43:41\u001b[0m | \u001b[1mINFO\u001b[0m | \u001b[1mFinished task: 16. Elapsed time: 23.94199848175049\u001b[0m\n",
      "\u001b[32m2023-01-17 13:43:41\u001b[0m | \u001b[1mINFO\u001b[0m | \u001b[1mFinished task: 3. Elapsed time: 23.947957754135132\u001b[0m\n",
      "\u001b[32m2023-01-17 13:43:41\u001b[0m | \u001b[1mINFO\u001b[0m | \u001b[1mFinished task: 11. Elapsed time: 23.982186317443848\u001b[0m\n",
      "\u001b[32m2023-01-17 13:43:41\u001b[0m | \u001b[1mINFO\u001b[0m | \u001b[1mFinished task: 10. Elapsed time: 23.986225366592407\u001b[0m\n",
      "\u001b[32m2023-01-17 13:43:41\u001b[0m | \u001b[1mINFO\u001b[0m | \u001b[1mFinished task: 14. Elapsed time: 24.008055686950684\u001b[0m\n",
      "\u001b[32m2023-01-17 13:43:41\u001b[0m | \u001b[1mINFO\u001b[0m | \u001b[1mFinished task: 18. Elapsed time: 24.011386156082153\u001b[0m\n",
      "\u001b[32m2023-01-17 13:43:41\u001b[0m | \u001b[1mINFO\u001b[0m | \u001b[1mFinished task: 1. Elapsed time: 24.0226309299469\u001b[0m\n",
      "\u001b[32m2023-01-17 13:43:41\u001b[0m | \u001b[1mINFO\u001b[0m | \u001b[1mFinished task: 5. Elapsed time: 24.06434464454651\u001b[0m\n",
      "\u001b[32m2023-01-17 13:43:41\u001b[0m | \u001b[1mINFO\u001b[0m | \u001b[1mFinished task: 8. Elapsed time: 24.067431926727295\u001b[0m\n",
      "\u001b[32m2023-01-17 13:43:41\u001b[0m | \u001b[1mINFO\u001b[0m | \u001b[1mFinished task: 15. Elapsed time: 24.066632986068726\u001b[0m\n",
      "\u001b[32m2023-01-17 13:43:41\u001b[0m | \u001b[1mINFO\u001b[0m | \u001b[1mFinished task: 12. Elapsed time: 24.079296588897705\u001b[0m\n",
      "\u001b[32m2023-01-17 13:43:41\u001b[0m | \u001b[1mINFO\u001b[0m | \u001b[1mFinished task: 9. Elapsed time: 24.097739458084106\u001b[0m\n",
      "\u001b[32m2023-01-17 13:43:41\u001b[0m | \u001b[1mINFO\u001b[0m | \u001b[1mFinished task: 2. Elapsed time: 24.079786777496338\u001b[0m\n",
      "\u001b[32m2023-01-17 13:43:41\u001b[0m | \u001b[1mINFO\u001b[0m | \u001b[1mFinished task: 17. Elapsed time: 24.097681283950806\u001b[0m\n",
      "\u001b[32m2023-01-17 13:43:41\u001b[0m | \u001b[1mINFO\u001b[0m | \u001b[1mFinished task: 4. Elapsed time: 24.094280004501343\u001b[0m\n",
      "\u001b[32m2023-01-17 13:43:41\u001b[0m | \u001b[1mINFO\u001b[0m | \u001b[1mFinished task: 7. Elapsed time: 24.137739181518555\u001b[0m\n",
      "\u001b[32m2023-01-17 13:43:41\u001b[0m | \u001b[1mINFO\u001b[0m | \u001b[1mFinished task: 6. Elapsed time: 24.117973804473877\u001b[0m\n",
      "\u001b[32m2023-01-17 13:43:41\u001b[0m | \u001b[1mINFO\u001b[0m | \u001b[1mFinished task: 0. Elapsed time: 24.117414236068726\u001b[0m\n",
      "\u001b[32m2023-01-17 13:43:41\u001b[0m | \u001b[1mINFO\u001b[0m | \u001b[1mFinished task: 13. Elapsed time: 24.134467601776123\u001b[0m\n"
     ]
    }
   ],
   "source": [
    "dfo = bp()"
   ]
  },
  {
   "cell_type": "code",
   "execution_count": 9,
   "id": "9c2d4b51-ea1e-4d86-98ec-da6bf76adafa",
   "metadata": {},
   "outputs": [],
   "source": [
    "res = _7"
   ]
  },
  {
   "cell_type": "code",
   "execution_count": 13,
   "id": "08315cc4-5b4d-438a-8736-ab03beda791b",
   "metadata": {},
   "outputs": [
    {
     "name": "stdout",
     "output_type": "stream",
     "text": [
      "\u001b[32m2023-01-17 13:15:35\u001b[0m | \u001b[1mINFO\u001b[0m | \u001b[1mStarting task: 0\u001b[0m\n",
      "\u001b[32m2023-01-17 13:15:35\u001b[0m | \u001b[1mINFO\u001b[0m | \u001b[1mStarting task: 1\u001b[0m\n",
      "\u001b[32m2023-01-17 13:15:35\u001b[0m | \u001b[1mINFO\u001b[0m | \u001b[1mStarting task: 2\u001b[0m\n",
      "\u001b[32m2023-01-17 13:15:35\u001b[0m | \u001b[1mINFO\u001b[0m | \u001b[1mStarting task: 3\u001b[0m\n",
      "\u001b[32m2023-01-17 13:15:36\u001b[0m | \u001b[1mINFO\u001b[0m | \u001b[1mFinished task: 1. Elapsed time: 0.5444965362548828\u001b[0m\n",
      "\u001b[32m2023-01-17 13:15:36\u001b[0m | \u001b[1mINFO\u001b[0m | \u001b[1mStarting task: 4\u001b[0m\n",
      "\u001b[32m2023-01-17 13:15:36\u001b[0m | \u001b[1mINFO\u001b[0m | \u001b[1mFinished task: 3. Elapsed time: 0.5805377960205078\u001b[0m\n",
      "\u001b[32m2023-01-17 13:15:36\u001b[0m | \u001b[1mINFO\u001b[0m | \u001b[1mFinished task: 2. Elapsed time: 0.6087396144866943\u001b[0m\n",
      "\u001b[32m2023-01-17 13:15:36\u001b[0m | \u001b[1mINFO\u001b[0m | \u001b[1mStarting task: 5\u001b[0m\n",
      "\u001b[32m2023-01-17 13:15:36\u001b[0m | \u001b[1mINFO\u001b[0m | \u001b[1mStarting task: 6\u001b[0m\n",
      "\u001b[32m2023-01-17 13:15:36\u001b[0m | \u001b[1mINFO\u001b[0m | \u001b[1mFinished task: 0. Elapsed time: 0.6630456447601318\u001b[0m\n",
      "\u001b[32m2023-01-17 13:15:36\u001b[0m | \u001b[1mINFO\u001b[0m | \u001b[1mStarting task: 7\u001b[0m\n",
      "\u001b[32m2023-01-17 13:15:37\u001b[0m | \u001b[1mINFO\u001b[0m | \u001b[1mFinished task: 4. Elapsed time: 0.531965970993042\u001b[0m\n",
      "\u001b[32m2023-01-17 13:15:37\u001b[0m | \u001b[1mINFO\u001b[0m | \u001b[1mStarting task: 8\u001b[0m\n",
      "\u001b[32m2023-01-17 13:15:37\u001b[0m | \u001b[1mINFO\u001b[0m | \u001b[1mFinished task: 6. Elapsed time: 0.5288615226745605\u001b[0m\n",
      "\u001b[32m2023-01-17 13:15:37\u001b[0m | \u001b[1mINFO\u001b[0m | \u001b[1mFinished task: 5. Elapsed time: 0.5395429134368896\u001b[0m\n",
      "\u001b[32m2023-01-17 13:15:37\u001b[0m | \u001b[1mINFO\u001b[0m | \u001b[1mStarting task: 9\u001b[0m\n",
      "\u001b[32m2023-01-17 13:15:37\u001b[0m | \u001b[1mINFO\u001b[0m | \u001b[1mStarting task: 10\u001b[0m\n",
      "\u001b[32m2023-01-17 13:15:37\u001b[0m | \u001b[1mINFO\u001b[0m | \u001b[1mFinished task: 7. Elapsed time: 0.5282621383666992\u001b[0m\n",
      "\u001b[32m2023-01-17 13:15:37\u001b[0m | \u001b[1mINFO\u001b[0m | \u001b[1mStarting task: 11\u001b[0m\n",
      "\u001b[32m2023-01-17 13:15:37\u001b[0m | \u001b[1mINFO\u001b[0m | \u001b[1mFinished task: 8. Elapsed time: 0.5589814186096191\u001b[0m\n",
      "\u001b[32m2023-01-17 13:15:37\u001b[0m | \u001b[1mINFO\u001b[0m | \u001b[1mStarting task: 12\u001b[0m\n",
      "\u001b[32m2023-01-17 13:15:37\u001b[0m | \u001b[1mINFO\u001b[0m | \u001b[1mFinished task: 9. Elapsed time: 0.5253880023956299\u001b[0m\n",
      "\u001b[32m2023-01-17 13:15:37\u001b[0m | \u001b[1mINFO\u001b[0m | \u001b[1mStarting task: 13\u001b[0m\n",
      "\u001b[32m2023-01-17 13:15:37\u001b[0m | \u001b[1mINFO\u001b[0m | \u001b[1mFinished task: 10. Elapsed time: 0.5365817546844482\u001b[0m\n",
      "\u001b[32m2023-01-17 13:15:37\u001b[0m | \u001b[1mINFO\u001b[0m | \u001b[1mStarting task: 14\u001b[0m\n",
      "\u001b[32m2023-01-17 13:15:37\u001b[0m | \u001b[1mINFO\u001b[0m | \u001b[1mFinished task: 11. Elapsed time: 0.5987377166748047\u001b[0m\n",
      "\u001b[32m2023-01-17 13:15:37\u001b[0m | \u001b[1mINFO\u001b[0m | \u001b[1mStarting task: 15\u001b[0m\n",
      "\u001b[32m2023-01-17 13:15:38\u001b[0m | \u001b[1mINFO\u001b[0m | \u001b[1mFinished task: 12. Elapsed time: 0.5270843505859375\u001b[0m\n",
      "\u001b[32m2023-01-17 13:15:38\u001b[0m | \u001b[1mINFO\u001b[0m | \u001b[1mStarting task: 16\u001b[0m\n",
      "\u001b[32m2023-01-17 13:15:38\u001b[0m | \u001b[1mINFO\u001b[0m | \u001b[1mFinished task: 13. Elapsed time: 0.5301294326782227\u001b[0m\n",
      "\u001b[32m2023-01-17 13:15:38\u001b[0m | \u001b[1mINFO\u001b[0m | \u001b[1mStarting task: 17\u001b[0m\n",
      "\u001b[32m2023-01-17 13:15:38\u001b[0m | \u001b[1mINFO\u001b[0m | \u001b[1mFinished task: 14. Elapsed time: 0.5378754138946533\u001b[0m\n",
      "\u001b[32m2023-01-17 13:15:38\u001b[0m | \u001b[1mINFO\u001b[0m | \u001b[1mStarting task: 18\u001b[0m\n",
      "\u001b[32m2023-01-17 13:15:38\u001b[0m | \u001b[1mINFO\u001b[0m | \u001b[1mFinished task: 15. Elapsed time: 0.5302755832672119\u001b[0m\n",
      "\u001b[32m2023-01-17 13:15:38\u001b[0m | \u001b[1mINFO\u001b[0m | \u001b[1mStarting task: 19\u001b[0m\n",
      "\u001b[32m2023-01-17 13:15:38\u001b[0m | \u001b[1mINFO\u001b[0m | \u001b[1mFinished task: 16. Elapsed time: 0.6567955017089844\u001b[0m\n",
      "\u001b[32m2023-01-17 13:15:38\u001b[0m | \u001b[1mINFO\u001b[0m | \u001b[1mFinished task: 17. Elapsed time: 0.6899368762969971\u001b[0m\n",
      "\u001b[32m2023-01-17 13:15:38\u001b[0m | \u001b[1mINFO\u001b[0m | \u001b[1mFinished task: 18. Elapsed time: 0.6936750411987305\u001b[0m\n",
      "\u001b[32m2023-01-17 13:15:38\u001b[0m | \u001b[1mINFO\u001b[0m | \u001b[1mFinished task: 19. Elapsed time: 0.676302433013916\u001b[0m\n"
     ]
    }
   ],
   "source": [
    "with BeamParallel(method='apply_async', workers=4, context='fork', reduce=True) as bp:\n",
    "    for dfi in dfs:\n",
    "        bp.add(func, df)"
   ]
  },
  {
   "cell_type": "code",
   "execution_count": 7,
   "id": "0006ab9a-25ab-4766-a44c-2ec736b0c5c6",
   "metadata": {},
   "outputs": [
    {
     "name": "stdout",
     "output_type": "stream",
     "text": [
      "\u001b[32m2023-01-17 13:10:22\u001b[0m | \u001b[1mINFO\u001b[0m | \u001b[1mStarting task: 13\u001b[0m\n",
      "\u001b[32m2023-01-17 13:10:22\u001b[0m | \u001b[1mINFO\u001b[0m | \u001b[1mStarting task: 4\u001b[0m\n",
      "\u001b[32m2023-01-17 13:10:22\u001b[0m | \u001b[1mINFO\u001b[0m | \u001b[1mStarting task: 1\u001b[0m\n",
      "\u001b[32m2023-01-17 13:10:22\u001b[0m | \u001b[1mINFO\u001b[0m | \u001b[1mStarting task: 8\u001b[0m\n",
      "\u001b[32m2023-01-17 13:10:22\u001b[0m | \u001b[1mINFO\u001b[0m | \u001b[1mStarting task: 7\u001b[0m\n",
      "\u001b[32m2023-01-17 13:10:22\u001b[0m | \u001b[1mINFO\u001b[0m | \u001b[1mStarting task: 15\u001b[0m\n",
      "\u001b[32m2023-01-17 13:10:22\u001b[0m | \u001b[1mINFO\u001b[0m | \u001b[1mStarting task: 9\u001b[0m\n",
      "\u001b[32m2023-01-17 13:10:22\u001b[0m | \u001b[1mINFO\u001b[0m | \u001b[1mStarting task: 0\u001b[0m\n",
      "\u001b[32m2023-01-17 13:10:23\u001b[0m | \u001b[1mINFO\u001b[0m | \u001b[1mStarting task: 17\u001b[0m\n",
      "\u001b[32m2023-01-17 13:10:23\u001b[0m | \u001b[1mINFO\u001b[0m | \u001b[1mStarting task: 19\u001b[0m\n",
      "\u001b[32m2023-01-17 13:10:23\u001b[0m | \u001b[1mINFO\u001b[0m | \u001b[1mStarting task: 16\u001b[0m\n",
      "\u001b[32m2023-01-17 13:10:23\u001b[0m | \u001b[1mINFO\u001b[0m | \u001b[1mStarting task: 10\u001b[0m\n",
      "\u001b[32m2023-01-17 13:10:23\u001b[0m | \u001b[1mINFO\u001b[0m | \u001b[1mStarting task: 11\u001b[0m\n",
      "\u001b[32m2023-01-17 13:10:23\u001b[0m | \u001b[1mINFO\u001b[0m | \u001b[1mStarting task: 3\u001b[0m\n",
      "\u001b[32m2023-01-17 13:10:23\u001b[0m | \u001b[1mINFO\u001b[0m | \u001b[1mStarting task: 2\u001b[0m\n",
      "\u001b[32m2023-01-17 13:10:23\u001b[0m | \u001b[1mINFO\u001b[0m | \u001b[1mStarting task: 5\u001b[0m\n",
      "\u001b[32m2023-01-17 13:10:23\u001b[0m | \u001b[1mINFO\u001b[0m | \u001b[1mStarting task: 12\u001b[0m\n",
      "\u001b[32m2023-01-17 13:10:24\u001b[0m | \u001b[1mINFO\u001b[0m | \u001b[1mStarting task: 6\u001b[0m\n",
      "\u001b[32m2023-01-17 13:10:24\u001b[0m | \u001b[1mINFO\u001b[0m | \u001b[1mStarting task: 18\u001b[0m\n",
      "\u001b[32m2023-01-17 13:10:24\u001b[0m | \u001b[1mINFO\u001b[0m | \u001b[1mStarting task: 14\u001b[0m\n",
      "\u001b[32m2023-01-17 13:10:48\u001b[0m | \u001b[1mINFO\u001b[0m | \u001b[1mFinished task: 15. Elapsed time: 24.615814447402954\u001b[0m\n",
      "\u001b[32m2023-01-17 13:10:48\u001b[0m | \u001b[1mINFO\u001b[0m | \u001b[1mFinished task: 8. Elapsed time: 25.200764417648315\u001b[0m\n",
      "\u001b[32m2023-01-17 13:10:48\u001b[0m | \u001b[1mINFO\u001b[0m | \u001b[1mFinished task: 7. Elapsed time: 24.88299798965454\u001b[0m\n",
      "\u001b[32m2023-01-17 13:10:48\u001b[0m | \u001b[1mINFO\u001b[0m | \u001b[1mFinished task: 4. Elapsed time: 25.47184443473816\u001b[0m\n",
      "\u001b[32m2023-01-17 13:10:48\u001b[0m | \u001b[1mINFO\u001b[0m | \u001b[1mFinished task: 19. Elapsed time: 23.598554134368896\u001b[0m\n",
      "\u001b[32m2023-01-17 13:10:48\u001b[0m | \u001b[1mINFO\u001b[0m | \u001b[1mFinished task: 9. Elapsed time: 24.515087366104126\u001b[0m\n",
      "\u001b[32m2023-01-17 13:10:48\u001b[0m | \u001b[1mINFO\u001b[0m | \u001b[1mFinished task: 16. Elapsed time: 23.59172296524048\u001b[0m\n",
      "\u001b[32m2023-01-17 13:10:48\u001b[0m | \u001b[1mINFO\u001b[0m | \u001b[1mFinished task: 5. Elapsed time: 19.484513998031616\u001b[0m\n",
      "\u001b[32m2023-01-17 13:10:48\u001b[0m | \u001b[1mINFO\u001b[0m | \u001b[1mFinished task: 0. Elapsed time: 24.324342727661133\u001b[0m\n",
      "\u001b[32m2023-01-17 13:10:48\u001b[0m | \u001b[1mINFO\u001b[0m | \u001b[1mFinished task: 6. Elapsed time: 18.11070680618286\u001b[0m\n",
      "\u001b[32m2023-01-17 13:10:48\u001b[0m | \u001b[1mINFO\u001b[0m | \u001b[1mFinished task: 1. Elapsed time: 25.421513080596924\u001b[0m\n",
      "\u001b[32m2023-01-17 13:10:48\u001b[0m | \u001b[1mINFO\u001b[0m | \u001b[1mFinished task: 10. Elapsed time: 23.146349668502808\u001b[0m\n",
      "\u001b[32m2023-01-17 13:10:48\u001b[0m | \u001b[1mINFO\u001b[0m | \u001b[1mFinished task: 14. Elapsed time: 17.32319140434265\u001b[0m\n",
      "\u001b[32m2023-01-17 13:10:48\u001b[0m | \u001b[1mINFO\u001b[0m | \u001b[1mFinished task: 17. Elapsed time: 23.97988200187683\u001b[0m\n",
      "\u001b[32m2023-01-17 13:10:48\u001b[0m | \u001b[1mINFO\u001b[0m | \u001b[1mFinished task: 11. Elapsed time: 22.496331691741943\u001b[0m\n",
      "\u001b[32m2023-01-17 13:10:48\u001b[0m | \u001b[1mINFO\u001b[0m | \u001b[1mFinished task: 13. Elapsed time: 25.722750663757324\u001b[0m\n",
      "\u001b[32m2023-01-17 13:10:48\u001b[0m | \u001b[1mINFO\u001b[0m | \u001b[1mFinished task: 2. Elapsed time: 20.538931846618652\u001b[0m\n",
      "\u001b[32m2023-01-17 13:10:48\u001b[0m | \u001b[1mINFO\u001b[0m | \u001b[1mFinished task: 3. Elapsed time: 21.353357553482056\u001b[0m\n",
      "\u001b[32m2023-01-17 13:10:48\u001b[0m | \u001b[1mINFO\u001b[0m | \u001b[1mFinished task: 18. Elapsed time: 17.52608060836792\u001b[0m\n",
      "\u001b[32m2023-01-17 13:10:48\u001b[0m | \u001b[1mINFO\u001b[0m | \u001b[1mFinished task: 12. Elapsed time: 18.964470624923706\u001b[0m\n"
     ]
    },
    {
     "data": {
      "text/plain": [
       "[[           sum      mean\n",
       "  0   -27.597440 -0.055195\n",
       "  1     2.977033  0.005954\n",
       "  2     3.296336  0.006593\n",
       "  3    -0.431653 -0.000863\n",
       "  4   -11.197707 -0.022395\n",
       "  ..         ...       ...\n",
       "  995  20.365816  0.040732\n",
       "  996  -6.227476 -0.012455\n",
       "  997 -34.546115 -0.069092\n",
       "  998   2.362296  0.004725\n",
       "  999  -2.332649 -0.004665\n",
       "  \n",
       "  [1000 rows x 2 columns],\n",
       "             sum      mean\n",
       "  0   -27.597440 -0.055195\n",
       "  1     2.977033  0.005954\n",
       "  2     3.296336  0.006593\n",
       "  3    -0.431653 -0.000863\n",
       "  4   -11.197707 -0.022395\n",
       "  ..         ...       ...\n",
       "  995  20.365816  0.040732\n",
       "  996  -6.227476 -0.012455\n",
       "  997 -34.546115 -0.069092\n",
       "  998   2.362296  0.004725\n",
       "  999  -2.332649 -0.004665\n",
       "  \n",
       "  [1000 rows x 2 columns],\n",
       "             sum      mean\n",
       "  0   -27.597440 -0.055195\n",
       "  1     2.977033  0.005954\n",
       "  2     3.296336  0.006593\n",
       "  3    -0.431653 -0.000863\n",
       "  4   -11.197707 -0.022395\n",
       "  ..         ...       ...\n",
       "  995  20.365816  0.040732\n",
       "  996  -6.227476 -0.012455\n",
       "  997 -34.546115 -0.069092\n",
       "  998   2.362296  0.004725\n",
       "  999  -2.332649 -0.004665\n",
       "  \n",
       "  [1000 rows x 2 columns],\n",
       "             sum      mean\n",
       "  0   -27.597440 -0.055195\n",
       "  1     2.977033  0.005954\n",
       "  2     3.296336  0.006593\n",
       "  3    -0.431653 -0.000863\n",
       "  4   -11.197707 -0.022395\n",
       "  ..         ...       ...\n",
       "  995  20.365816  0.040732\n",
       "  996  -6.227476 -0.012455\n",
       "  997 -34.546115 -0.069092\n",
       "  998   2.362296  0.004725\n",
       "  999  -2.332649 -0.004665\n",
       "  \n",
       "  [1000 rows x 2 columns],\n",
       "             sum      mean\n",
       "  0   -27.597440 -0.055195\n",
       "  1     2.977033  0.005954\n",
       "  2     3.296336  0.006593\n",
       "  3    -0.431653 -0.000863\n",
       "  4   -11.197707 -0.022395\n",
       "  ..         ...       ...\n",
       "  995  20.365816  0.040732\n",
       "  996  -6.227476 -0.012455\n",
       "  997 -34.546115 -0.069092\n",
       "  998   2.362296  0.004725\n",
       "  999  -2.332649 -0.004665\n",
       "  \n",
       "  [1000 rows x 2 columns],\n",
       "             sum      mean\n",
       "  0   -27.597440 -0.055195\n",
       "  1     2.977033  0.005954\n",
       "  2     3.296336  0.006593\n",
       "  3    -0.431653 -0.000863\n",
       "  4   -11.197707 -0.022395\n",
       "  ..         ...       ...\n",
       "  995  20.365816  0.040732\n",
       "  996  -6.227476 -0.012455\n",
       "  997 -34.546115 -0.069092\n",
       "  998   2.362296  0.004725\n",
       "  999  -2.332649 -0.004665\n",
       "  \n",
       "  [1000 rows x 2 columns],\n",
       "             sum      mean\n",
       "  0   -27.597440 -0.055195\n",
       "  1     2.977033  0.005954\n",
       "  2     3.296336  0.006593\n",
       "  3    -0.431653 -0.000863\n",
       "  4   -11.197707 -0.022395\n",
       "  ..         ...       ...\n",
       "  995  20.365816  0.040732\n",
       "  996  -6.227476 -0.012455\n",
       "  997 -34.546115 -0.069092\n",
       "  998   2.362296  0.004725\n",
       "  999  -2.332649 -0.004665\n",
       "  \n",
       "  [1000 rows x 2 columns],\n",
       "             sum      mean\n",
       "  0   -27.597440 -0.055195\n",
       "  1     2.977033  0.005954\n",
       "  2     3.296336  0.006593\n",
       "  3    -0.431653 -0.000863\n",
       "  4   -11.197707 -0.022395\n",
       "  ..         ...       ...\n",
       "  995  20.365816  0.040732\n",
       "  996  -6.227476 -0.012455\n",
       "  997 -34.546115 -0.069092\n",
       "  998   2.362296  0.004725\n",
       "  999  -2.332649 -0.004665\n",
       "  \n",
       "  [1000 rows x 2 columns],\n",
       "             sum      mean\n",
       "  0   -27.597440 -0.055195\n",
       "  1     2.977033  0.005954\n",
       "  2     3.296336  0.006593\n",
       "  3    -0.431653 -0.000863\n",
       "  4   -11.197707 -0.022395\n",
       "  ..         ...       ...\n",
       "  995  20.365816  0.040732\n",
       "  996  -6.227476 -0.012455\n",
       "  997 -34.546115 -0.069092\n",
       "  998   2.362296  0.004725\n",
       "  999  -2.332649 -0.004665\n",
       "  \n",
       "  [1000 rows x 2 columns],\n",
       "             sum      mean\n",
       "  0   -27.597440 -0.055195\n",
       "  1     2.977033  0.005954\n",
       "  2     3.296336  0.006593\n",
       "  3    -0.431653 -0.000863\n",
       "  4   -11.197707 -0.022395\n",
       "  ..         ...       ...\n",
       "  995  20.365816  0.040732\n",
       "  996  -6.227476 -0.012455\n",
       "  997 -34.546115 -0.069092\n",
       "  998   2.362296  0.004725\n",
       "  999  -2.332649 -0.004665\n",
       "  \n",
       "  [1000 rows x 2 columns],\n",
       "             sum      mean\n",
       "  0   -27.597440 -0.055195\n",
       "  1     2.977033  0.005954\n",
       "  2     3.296336  0.006593\n",
       "  3    -0.431653 -0.000863\n",
       "  4   -11.197707 -0.022395\n",
       "  ..         ...       ...\n",
       "  995  20.365816  0.040732\n",
       "  996  -6.227476 -0.012455\n",
       "  997 -34.546115 -0.069092\n",
       "  998   2.362296  0.004725\n",
       "  999  -2.332649 -0.004665\n",
       "  \n",
       "  [1000 rows x 2 columns],\n",
       "             sum      mean\n",
       "  0   -27.597440 -0.055195\n",
       "  1     2.977033  0.005954\n",
       "  2     3.296336  0.006593\n",
       "  3    -0.431653 -0.000863\n",
       "  4   -11.197707 -0.022395\n",
       "  ..         ...       ...\n",
       "  995  20.365816  0.040732\n",
       "  996  -6.227476 -0.012455\n",
       "  997 -34.546115 -0.069092\n",
       "  998   2.362296  0.004725\n",
       "  999  -2.332649 -0.004665\n",
       "  \n",
       "  [1000 rows x 2 columns],\n",
       "             sum      mean\n",
       "  0   -27.597440 -0.055195\n",
       "  1     2.977033  0.005954\n",
       "  2     3.296336  0.006593\n",
       "  3    -0.431653 -0.000863\n",
       "  4   -11.197707 -0.022395\n",
       "  ..         ...       ...\n",
       "  995  20.365816  0.040732\n",
       "  996  -6.227476 -0.012455\n",
       "  997 -34.546115 -0.069092\n",
       "  998   2.362296  0.004725\n",
       "  999  -2.332649 -0.004665\n",
       "  \n",
       "  [1000 rows x 2 columns],\n",
       "             sum      mean\n",
       "  0   -27.597440 -0.055195\n",
       "  1     2.977033  0.005954\n",
       "  2     3.296336  0.006593\n",
       "  3    -0.431653 -0.000863\n",
       "  4   -11.197707 -0.022395\n",
       "  ..         ...       ...\n",
       "  995  20.365816  0.040732\n",
       "  996  -6.227476 -0.012455\n",
       "  997 -34.546115 -0.069092\n",
       "  998   2.362296  0.004725\n",
       "  999  -2.332649 -0.004665\n",
       "  \n",
       "  [1000 rows x 2 columns],\n",
       "             sum      mean\n",
       "  0   -27.597440 -0.055195\n",
       "  1     2.977033  0.005954\n",
       "  2     3.296336  0.006593\n",
       "  3    -0.431653 -0.000863\n",
       "  4   -11.197707 -0.022395\n",
       "  ..         ...       ...\n",
       "  995  20.365816  0.040732\n",
       "  996  -6.227476 -0.012455\n",
       "  997 -34.546115 -0.069092\n",
       "  998   2.362296  0.004725\n",
       "  999  -2.332649 -0.004665\n",
       "  \n",
       "  [1000 rows x 2 columns],\n",
       "             sum      mean\n",
       "  0   -27.597440 -0.055195\n",
       "  1     2.977033  0.005954\n",
       "  2     3.296336  0.006593\n",
       "  3    -0.431653 -0.000863\n",
       "  4   -11.197707 -0.022395\n",
       "  ..         ...       ...\n",
       "  995  20.365816  0.040732\n",
       "  996  -6.227476 -0.012455\n",
       "  997 -34.546115 -0.069092\n",
       "  998   2.362296  0.004725\n",
       "  999  -2.332649 -0.004665\n",
       "  \n",
       "  [1000 rows x 2 columns],\n",
       "             sum      mean\n",
       "  0   -27.597440 -0.055195\n",
       "  1     2.977033  0.005954\n",
       "  2     3.296336  0.006593\n",
       "  3    -0.431653 -0.000863\n",
       "  4   -11.197707 -0.022395\n",
       "  ..         ...       ...\n",
       "  995  20.365816  0.040732\n",
       "  996  -6.227476 -0.012455\n",
       "  997 -34.546115 -0.069092\n",
       "  998   2.362296  0.004725\n",
       "  999  -2.332649 -0.004665\n",
       "  \n",
       "  [1000 rows x 2 columns],\n",
       "             sum      mean\n",
       "  0   -27.597440 -0.055195\n",
       "  1     2.977033  0.005954\n",
       "  2     3.296336  0.006593\n",
       "  3    -0.431653 -0.000863\n",
       "  4   -11.197707 -0.022395\n",
       "  ..         ...       ...\n",
       "  995  20.365816  0.040732\n",
       "  996  -6.227476 -0.012455\n",
       "  997 -34.546115 -0.069092\n",
       "  998   2.362296  0.004725\n",
       "  999  -2.332649 -0.004665\n",
       "  \n",
       "  [1000 rows x 2 columns],\n",
       "             sum      mean\n",
       "  0   -27.597440 -0.055195\n",
       "  1     2.977033  0.005954\n",
       "  2     3.296336  0.006593\n",
       "  3    -0.431653 -0.000863\n",
       "  4   -11.197707 -0.022395\n",
       "  ..         ...       ...\n",
       "  995  20.365816  0.040732\n",
       "  996  -6.227476 -0.012455\n",
       "  997 -34.546115 -0.069092\n",
       "  998   2.362296  0.004725\n",
       "  999  -2.332649 -0.004665\n",
       "  \n",
       "  [1000 rows x 2 columns],\n",
       "             sum      mean\n",
       "  0   -27.597440 -0.055195\n",
       "  1     2.977033  0.005954\n",
       "  2     3.296336  0.006593\n",
       "  3    -0.431653 -0.000863\n",
       "  4   -11.197707 -0.022395\n",
       "  ..         ...       ...\n",
       "  995  20.365816  0.040732\n",
       "  996  -6.227476 -0.012455\n",
       "  997 -34.546115 -0.069092\n",
       "  998   2.362296  0.004725\n",
       "  999  -2.332649 -0.004665\n",
       "  \n",
       "  [1000 rows x 2 columns]]]"
      ]
     },
     "execution_count": 7,
     "metadata": {},
     "output_type": "execute_result"
    }
   ],
   "source": [
    "bp()"
   ]
  },
  {
   "cell_type": "code",
   "execution_count": 11,
   "id": "c5cad252-2f2c-4276-81be-5b3ef1ebc542",
   "metadata": {},
   "outputs": [
    {
     "data": {
      "application/vnd.jupyter.widget-view+json": {
       "model_id": "c6a040ff034e41ceb19fc2e43b1e7082",
       "version_major": 2,
       "version_minor": 0
      },
      "text/plain": [
       "  0%|          | 0/10 [00:00<?, ?it/s]"
      ]
     },
     "metadata": {},
     "output_type": "display_data"
    }
   ],
   "source": [
    "res = parallelize(func, dfs, method='process_map')"
   ]
  },
  {
   "cell_type": "code",
   "execution_count": 12,
   "id": "9fca6964-0f8b-45e8-813b-d3445871aa20",
   "metadata": {},
   "outputs": [
    {
     "ename": "AssertionError",
     "evalue": "divide_chunks supports only array types",
     "output_type": "error",
     "traceback": [
      "\u001b[0;31m---------------------------------------------------------------------------\u001b[0m",
      "\u001b[0;31mAssertionError\u001b[0m                            Traceback (most recent call last)",
      "Input \u001b[0;32mIn [12]\u001b[0m, in \u001b[0;36m<cell line: 1>\u001b[0;34m()\u001b[0m\n\u001b[0;32m----> 1\u001b[0m res \u001b[38;5;241m=\u001b[39m \u001b[43mparallelize\u001b[49m\u001b[43m(\u001b[49m\u001b[43mfunc\u001b[49m\u001b[43m,\u001b[49m\u001b[43m \u001b[49m\u001b[43mdfs\u001b[49m\u001b[43m,\u001b[49m\u001b[43m \u001b[49m\u001b[43mworkers\u001b[49m\u001b[38;5;241;43m=\u001b[39;49m\u001b[38;5;241;43m0\u001b[39;49m\u001b[43m,\u001b[49m\u001b[43m \u001b[49m\u001b[43mmethod\u001b[49m\u001b[38;5;241;43m=\u001b[39;49m\u001b[38;5;124;43m'\u001b[39;49m\u001b[38;5;124;43mprocess_map\u001b[39;49m\u001b[38;5;124;43m'\u001b[39;49m\u001b[43m)\u001b[49m\n",
      "File \u001b[0;32m/home/elad/docker/beamds/notebooks/../src/beam/multiprocessing.py:42\u001b[0m, in \u001b[0;36mparallelize\u001b[0;34m(func, args_list, kwargs_list, constant_kwargs, chunksize, context, workers, method, progressbar, collate, dim)\u001b[0m\n\u001b[1;32m     40\u001b[0m results \u001b[38;5;241m=\u001b[39m []\n\u001b[1;32m     41\u001b[0m args_list \u001b[38;5;241m=\u001b[39m \u001b[38;5;28mlist\u001b[39m(\u001b[38;5;28mzip\u001b[39m(\u001b[38;5;241m*\u001b[39m[\u001b[38;5;28mlist\u001b[39m(divide_chunks(ai, chunksize\u001b[38;5;241m=\u001b[39mchunksize)) \u001b[38;5;28;01mfor\u001b[39;00m ai \u001b[38;5;129;01min\u001b[39;00m args_list]))\n\u001b[0;32m---> 42\u001b[0m kwargs_list \u001b[38;5;241m=\u001b[39m \u001b[38;5;28mlist\u001b[39m(\u001b[38;5;28mzip\u001b[39m(\u001b[38;5;241m*\u001b[39m[\u001b[38;5;28mlist\u001b[39m(divide_chunks(ai, chunksize\u001b[38;5;241m=\u001b[39mchunksize)) \u001b[38;5;28;01mfor\u001b[39;00m ai \u001b[38;5;129;01min\u001b[39;00m kwargs_list]))\n\u001b[1;32m     44\u001b[0m \u001b[38;5;28;01mfor\u001b[39;00m args_i, kwargs_i \u001b[38;5;129;01min\u001b[39;00m \u001b[38;5;28mzip\u001b[39m(args_list, kwargs_list):\n\u001b[1;32m     45\u001b[0m     results\u001b[38;5;241m.\u001b[39mappend(func(\u001b[38;5;241m*\u001b[39margs_i, \u001b[38;5;241m*\u001b[39m\u001b[38;5;241m*\u001b[39m{\u001b[38;5;241m*\u001b[39m\u001b[38;5;241m*\u001b[39mkwargs_i, \u001b[38;5;241m*\u001b[39m\u001b[38;5;241m*\u001b[39mconstant_kwargs}))\n",
      "File \u001b[0;32m/home/elad/docker/beamds/notebooks/../src/beam/multiprocessing.py:42\u001b[0m, in \u001b[0;36m<listcomp>\u001b[0;34m(.0)\u001b[0m\n\u001b[1;32m     40\u001b[0m results \u001b[38;5;241m=\u001b[39m []\n\u001b[1;32m     41\u001b[0m args_list \u001b[38;5;241m=\u001b[39m \u001b[38;5;28mlist\u001b[39m(\u001b[38;5;28mzip\u001b[39m(\u001b[38;5;241m*\u001b[39m[\u001b[38;5;28mlist\u001b[39m(divide_chunks(ai, chunksize\u001b[38;5;241m=\u001b[39mchunksize)) \u001b[38;5;28;01mfor\u001b[39;00m ai \u001b[38;5;129;01min\u001b[39;00m args_list]))\n\u001b[0;32m---> 42\u001b[0m kwargs_list \u001b[38;5;241m=\u001b[39m \u001b[38;5;28mlist\u001b[39m(\u001b[38;5;28mzip\u001b[39m(\u001b[38;5;241m*\u001b[39m[\u001b[38;5;28;43mlist\u001b[39;49m\u001b[43m(\u001b[49m\u001b[43mdivide_chunks\u001b[49m\u001b[43m(\u001b[49m\u001b[43mai\u001b[49m\u001b[43m,\u001b[49m\u001b[43m \u001b[49m\u001b[43mchunksize\u001b[49m\u001b[38;5;241;43m=\u001b[39;49m\u001b[43mchunksize\u001b[49m\u001b[43m)\u001b[49m\u001b[43m)\u001b[49m \u001b[38;5;28;01mfor\u001b[39;00m ai \u001b[38;5;129;01min\u001b[39;00m kwargs_list]))\n\u001b[1;32m     44\u001b[0m \u001b[38;5;28;01mfor\u001b[39;00m args_i, kwargs_i \u001b[38;5;129;01min\u001b[39;00m \u001b[38;5;28mzip\u001b[39m(args_list, kwargs_list):\n\u001b[1;32m     45\u001b[0m     results\u001b[38;5;241m.\u001b[39mappend(func(\u001b[38;5;241m*\u001b[39margs_i, \u001b[38;5;241m*\u001b[39m\u001b[38;5;241m*\u001b[39m{\u001b[38;5;241m*\u001b[39m\u001b[38;5;241m*\u001b[39mkwargs_i, \u001b[38;5;241m*\u001b[39m\u001b[38;5;241m*\u001b[39mconstant_kwargs}))\n",
      "File \u001b[0;32m/home/elad/docker/beamds/notebooks/../src/beam/utils.py:232\u001b[0m, in \u001b[0;36mdivide_chunks\u001b[0;34m(x, chunksize, n_chunks, dim)\u001b[0m\n\u001b[1;32m    230\u001b[0m \u001b[38;5;28;01massert\u001b[39;00m ((chunksize \u001b[38;5;129;01mis\u001b[39;00m \u001b[38;5;28;01mNone\u001b[39;00m) \u001b[38;5;241m!=\u001b[39m (n_chunks \u001b[38;5;129;01mis\u001b[39;00m \u001b[38;5;28;01mNone\u001b[39;00m)), \u001b[38;5;124m\"\u001b[39m\u001b[38;5;124mdivide_chunks requires only one of chunksize|n_chunks\u001b[39m\u001b[38;5;124m\"\u001b[39m\n\u001b[1;32m    231\u001b[0m x_type \u001b[38;5;241m=\u001b[39m check_type(x, check_element\u001b[38;5;241m=\u001b[39m\u001b[38;5;28;01mFalse\u001b[39;00m)\n\u001b[0;32m--> 232\u001b[0m \u001b[38;5;28;01massert\u001b[39;00m x_type\u001b[38;5;241m.\u001b[39mmajor \u001b[38;5;129;01min\u001b[39;00m [\u001b[38;5;124m'\u001b[39m\u001b[38;5;124marray\u001b[39m\u001b[38;5;124m'\u001b[39m, \u001b[38;5;124m'\u001b[39m\u001b[38;5;124mother\u001b[39m\u001b[38;5;124m'\u001b[39m], \u001b[38;5;124m\"\u001b[39m\u001b[38;5;124mdivide_chunks supports only array types\u001b[39m\u001b[38;5;124m\"\u001b[39m\n\u001b[1;32m    234\u001b[0m \u001b[38;5;28;01mif\u001b[39;00m x_type\u001b[38;5;241m.\u001b[39mmajor \u001b[38;5;241m==\u001b[39m \u001b[38;5;124m'\u001b[39m\u001b[38;5;124marray\u001b[39m\u001b[38;5;124m'\u001b[39m:\n\u001b[1;32m    236\u001b[0m     l \u001b[38;5;241m=\u001b[39m \u001b[38;5;28mlen\u001b[39m(x)\n",
      "\u001b[0;31mAssertionError\u001b[0m: divide_chunks supports only array types"
     ]
    }
   ],
   "source": [
    "res = parallelize(func, dfs, workers=0, method='process_map')"
   ]
  },
  {
   "cell_type": "code",
   "execution_count": null,
   "id": "52b4aef8-797f-48bb-ba36-7421ed651d03",
   "metadata": {},
   "outputs": [],
   "source": [
    "res[0].get()"
   ]
  },
  {
   "cell_type": "code",
   "execution_count": 13,
   "id": "44dc9cf5-c8cd-4682-9e9b-a0038d96fe26",
   "metadata": {},
   "outputs": [
    {
     "data": {
      "text/plain": [
       "(0, 2, 4, 6, 8, 10, 12, 14, 16, 18)"
      ]
     },
     "execution_count": 13,
     "metadata": {},
     "output_type": "execute_result"
    }
   ],
   "source": [
    "tuple(2 * i for i in range(10))"
   ]
  },
  {
   "cell_type": "code",
   "execution_count": 9,
   "id": "2f4d62c0-d5f6-4bdd-bc26-7b53a54f881d",
   "metadata": {},
   "outputs": [
    {
     "data": {
      "text/plain": [
       "<multiprocessing.pool.MapResult at 0x7f8e4531b130>"
      ]
     },
     "execution_count": 9,
     "metadata": {},
     "output_type": "execute_result"
    }
   ],
   "source": [
    "res."
   ]
  },
  {
   "cell_type": "code",
   "execution_count": 8,
   "id": "db3a9260-4113-40c1-908f-520da93a1840",
   "metadata": {},
   "outputs": [
    {
     "ename": "KeyboardInterrupt",
     "evalue": "",
     "output_type": "error",
     "traceback": [
      "\u001b[0;31m---------------------------------------------------------------------------\u001b[0m",
      "\u001b[0;31mKeyboardInterrupt\u001b[0m                         Traceback (most recent call last)",
      "Input \u001b[0;32mIn [8]\u001b[0m, in \u001b[0;36m<cell line: 1>\u001b[0;34m()\u001b[0m\n\u001b[0;32m----> 1\u001b[0m \u001b[43mres\u001b[49m\u001b[38;5;241;43m.\u001b[39;49m\u001b[43mget\u001b[49m\u001b[43m(\u001b[49m\u001b[43m)\u001b[49m\n",
      "File \u001b[0;32m/opt/conda/lib/python3.8/multiprocessing/pool.py:765\u001b[0m, in \u001b[0;36mApplyResult.get\u001b[0;34m(self, timeout)\u001b[0m\n\u001b[1;32m    764\u001b[0m \u001b[38;5;28;01mdef\u001b[39;00m \u001b[38;5;21mget\u001b[39m(\u001b[38;5;28mself\u001b[39m, timeout\u001b[38;5;241m=\u001b[39m\u001b[38;5;28;01mNone\u001b[39;00m):\n\u001b[0;32m--> 765\u001b[0m     \u001b[38;5;28;43mself\u001b[39;49m\u001b[38;5;241;43m.\u001b[39;49m\u001b[43mwait\u001b[49m\u001b[43m(\u001b[49m\u001b[43mtimeout\u001b[49m\u001b[43m)\u001b[49m\n\u001b[1;32m    766\u001b[0m     \u001b[38;5;28;01mif\u001b[39;00m \u001b[38;5;129;01mnot\u001b[39;00m \u001b[38;5;28mself\u001b[39m\u001b[38;5;241m.\u001b[39mready():\n\u001b[1;32m    767\u001b[0m         \u001b[38;5;28;01mraise\u001b[39;00m \u001b[38;5;167;01mTimeoutError\u001b[39;00m\n",
      "File \u001b[0;32m/opt/conda/lib/python3.8/multiprocessing/pool.py:762\u001b[0m, in \u001b[0;36mApplyResult.wait\u001b[0;34m(self, timeout)\u001b[0m\n\u001b[1;32m    761\u001b[0m \u001b[38;5;28;01mdef\u001b[39;00m \u001b[38;5;21mwait\u001b[39m(\u001b[38;5;28mself\u001b[39m, timeout\u001b[38;5;241m=\u001b[39m\u001b[38;5;28;01mNone\u001b[39;00m):\n\u001b[0;32m--> 762\u001b[0m     \u001b[38;5;28;43mself\u001b[39;49m\u001b[38;5;241;43m.\u001b[39;49m\u001b[43m_event\u001b[49m\u001b[38;5;241;43m.\u001b[39;49m\u001b[43mwait\u001b[49m\u001b[43m(\u001b[49m\u001b[43mtimeout\u001b[49m\u001b[43m)\u001b[49m\n",
      "File \u001b[0;32m/opt/conda/lib/python3.8/threading.py:558\u001b[0m, in \u001b[0;36mEvent.wait\u001b[0;34m(self, timeout)\u001b[0m\n\u001b[1;32m    556\u001b[0m signaled \u001b[38;5;241m=\u001b[39m \u001b[38;5;28mself\u001b[39m\u001b[38;5;241m.\u001b[39m_flag\n\u001b[1;32m    557\u001b[0m \u001b[38;5;28;01mif\u001b[39;00m \u001b[38;5;129;01mnot\u001b[39;00m signaled:\n\u001b[0;32m--> 558\u001b[0m     signaled \u001b[38;5;241m=\u001b[39m \u001b[38;5;28;43mself\u001b[39;49m\u001b[38;5;241;43m.\u001b[39;49m\u001b[43m_cond\u001b[49m\u001b[38;5;241;43m.\u001b[39;49m\u001b[43mwait\u001b[49m\u001b[43m(\u001b[49m\u001b[43mtimeout\u001b[49m\u001b[43m)\u001b[49m\n\u001b[1;32m    559\u001b[0m \u001b[38;5;28;01mreturn\u001b[39;00m signaled\n",
      "File \u001b[0;32m/opt/conda/lib/python3.8/threading.py:302\u001b[0m, in \u001b[0;36mCondition.wait\u001b[0;34m(self, timeout)\u001b[0m\n\u001b[1;32m    300\u001b[0m \u001b[38;5;28;01mtry\u001b[39;00m:    \u001b[38;5;66;03m# restore state no matter what (e.g., KeyboardInterrupt)\u001b[39;00m\n\u001b[1;32m    301\u001b[0m     \u001b[38;5;28;01mif\u001b[39;00m timeout \u001b[38;5;129;01mis\u001b[39;00m \u001b[38;5;28;01mNone\u001b[39;00m:\n\u001b[0;32m--> 302\u001b[0m         \u001b[43mwaiter\u001b[49m\u001b[38;5;241;43m.\u001b[39;49m\u001b[43macquire\u001b[49m\u001b[43m(\u001b[49m\u001b[43m)\u001b[49m\n\u001b[1;32m    303\u001b[0m         gotit \u001b[38;5;241m=\u001b[39m \u001b[38;5;28;01mTrue\u001b[39;00m\n\u001b[1;32m    304\u001b[0m     \u001b[38;5;28;01melse\u001b[39;00m:\n",
      "\u001b[0;31mKeyboardInterrupt\u001b[0m: "
     ]
    }
   ],
   "source": [
    "res.get()"
   ]
  },
  {
   "cell_type": "code",
   "execution_count": 20,
   "id": "e25fc99d-6fd0-47f0-b590-1e8096700556",
   "metadata": {},
   "outputs": [],
   "source": [
    "import itertools\n",
    "from beam import check_type"
   ]
  },
  {
   "cell_type": "code",
   "execution_count": 14,
   "id": "11bd24b7-1059-4810-80da-8bf08664d2de",
   "metadata": {},
   "outputs": [],
   "source": [
    "ii = itertools.count()"
   ]
  },
  {
   "cell_type": "code",
   "execution_count": 16,
   "id": "a3edd8cc-7e31-4c77-96f9-bc4c6d973834",
   "metadata": {},
   "outputs": [],
   "source": [
    "def divide_chunks(x, chunksize=None, n_chunks=None, dim=0):\n",
    "\n",
    "    assert ((chunksize is None) != (n_chunks is None)), \"divide_chunks requires only one of chunksize|n_chunks\"\n",
    "    x_type = check_type(x, check_element=False)\n",
    "    assert x_type.major in ['array', 'other'], \"divide_chunks supports only array types\"\n",
    "\n",
    "    if x_type.major == 'array':\n",
    "\n",
    "        l = len(x)\n",
    "\n",
    "        if chunksize is None:\n",
    "            chunksize = l // n_chunks\n",
    "\n",
    "        if n_chunks is None:\n",
    "            n_chunks = int(np.round(l / chunksize))\n",
    "\n",
    "        if x_type.minor == 'tensor':\n",
    "            for c in torch.chunk(x, n_chunks, dim=dim):\n",
    "                yield c\n",
    "\n",
    "        elif x_type.minor in ['numpy', 'pandas']:\n",
    "\n",
    "            for c in np.array_split(x, n_chunks, axis=dim):\n",
    "                yield c\n",
    "\n",
    "        else:\n",
    "\n",
    "            for i in range(0, l, chunksize):\n",
    "                yield x[i:i + chunksize]\n",
    "\n",
    "    else:\n",
    "\n",
    "        c = []\n",
    "        for xi in iter(x):\n",
    "\n",
    "            c.append(xi)\n",
    "            if len(c) == chunksize:\n",
    "                yield c\n",
    "                c = []\n",
    "\n",
    "        yield c"
   ]
  },
  {
   "cell_type": "code",
   "execution_count": 62,
   "id": "d761333f-fb60-4709-b589-b8a0cdb7f3b3",
   "metadata": {},
   "outputs": [],
   "source": [
    "def recursive_chunks(x, chunksize=None, n_chunks=None, dim=0):\n",
    "\n",
    "    try:\n",
    "        if isinstance(x, dict):\n",
    "            gen = {k: recursive_chunks(v, chunksize=chunksize, n_chunks=n_chunks, dim=dim) for k, v in x.items()}\n",
    "            for _ in itertools.count():\n",
    "                yield {k: next(v) for k, v in gen.items()}\n",
    "        elif isinstance(x, list) or isinstance(x, tuple):\n",
    "\n",
    "            gen = [recursive_chunks(s, chunksize=chunksize, n_chunks=n_chunks, dim=dim) for s in x]\n",
    "            for _ in itertools.count():\n",
    "                yield [next(s) for s in gen]\n",
    "        elif x is None:\n",
    "            for _ in itertools.count():\n",
    "                yield None\n",
    "        else:\n",
    "            for c in divide_chunks(x, chunksize=chunksize, n_chunks=n_chunks, dim=dim):\n",
    "                yield c\n",
    "            \n",
    "    except StopIteration:\n",
    "        return"
   ]
  },
  {
   "cell_type": "code",
   "execution_count": 63,
   "id": "b14042d9-19ab-44da-b1be-5872504fd4eb",
   "metadata": {},
   "outputs": [],
   "source": [
    "x = {'x': torch.randn(1000, 30), 'y': torch.randn(1000, 30), 'z': None}"
   ]
  },
  {
   "cell_type": "code",
   "execution_count": 32,
   "id": "26069ec8-2b33-4bba-b01f-e0b3ed126801",
   "metadata": {},
   "outputs": [],
   "source": [
    "g = divide_chunks(x, chunksize=22)"
   ]
  },
  {
   "cell_type": "code",
   "execution_count": 64,
   "id": "2c236f67-bbed-4e96-a7b6-1be5f631a5a5",
   "metadata": {},
   "outputs": [],
   "source": [
    "g = recursive_chunks(x, chunksize=22)"
   ]
  },
  {
   "cell_type": "code",
   "execution_count": 65,
   "id": "7e301b18-c423-4e76-890b-eaa9e396bd49",
   "metadata": {},
   "outputs": [],
   "source": [
    "l = list(g)"
   ]
  },
  {
   "cell_type": "code",
   "execution_count": 68,
   "id": "f0a4ea1a-721c-41a7-9170-d3c04c3e4193",
   "metadata": {},
   "outputs": [],
   "source": [
    "x = torch.randn(100, 32)"
   ]
  },
  {
   "cell_type": "code",
   "execution_count": 70,
   "id": "598903dc-986b-44b0-950f-6fffb443873e",
   "metadata": {},
   "outputs": [
    {
     "data": {
      "text/plain": [
       "torch.Size([100, 3])"
      ]
     },
     "execution_count": 70,
     "metadata": {},
     "output_type": "execute_result"
    }
   ],
   "source": [
    "x[:, 5:8].shape"
   ]
  },
  {
   "cell_type": "code",
   "execution_count": 82,
   "id": "54078ac7-9868-4456-9538-a18a8c91a716",
   "metadata": {},
   "outputs": [
    {
     "data": {
      "text/plain": [
       "array([0, 1, 2, 3])"
      ]
     },
     "execution_count": 82,
     "metadata": {},
     "output_type": "execute_result"
    }
   ],
   "source": [
    "np.array_split(np.arange(20), 6)[0]"
   ]
  },
  {
   "cell_type": "code",
   "execution_count": null,
   "id": "a619e92d-7bb3-40c0-837f-36e53d2c00c4",
   "metadata": {},
   "outputs": [],
   "source": [
    "np.array_split(np.arange(20), 6)[0]"
   ]
  },
  {
   "cell_type": "code",
   "execution_count": 80,
   "id": "a5d6bfe8-adbe-4145-aab3-93a496167c19",
   "metadata": {},
   "outputs": [
    {
     "data": {
      "text/plain": [
       "[['1', '2'], ['a', '4'], ['5', '6'], ['7', '8'], ['9'], ['10']]"
      ]
     },
     "execution_count": 80,
     "metadata": {},
     "output_type": "execute_result"
    }
   ],
   "source": [
    "[c.tolist() for c in np.array_split([1, 2, 'a', 4, 5, 6, 7, 8, 9, 10], 6)]"
   ]
  },
  {
   "cell_type": "code",
   "execution_count": 75,
   "id": "2d89be7c-fd03-4181-b7a7-ac5836ac4183",
   "metadata": {},
   "outputs": [
    {
     "data": {
      "text/plain": [
       "6"
      ]
     },
     "execution_count": 75,
     "metadata": {},
     "output_type": "execute_result"
    }
   ],
   "source": [
    "20 // 3"
   ]
  },
  {
   "cell_type": "code",
   "execution_count": 77,
   "id": "c90d6cce-35c6-46e9-88ac-f6b99dc324da",
   "metadata": {},
   "outputs": [
    {
     "data": {
      "text/plain": [
       "(tensor([0, 1, 2, 3]),\n",
       " tensor([4, 5, 6, 7]),\n",
       " tensor([ 8,  9, 10, 11]),\n",
       " tensor([12, 13, 14, 15]),\n",
       " tensor([16, 17, 18, 19]))"
      ]
     },
     "execution_count": 77,
     "metadata": {},
     "output_type": "execute_result"
    }
   ],
   "source": [
    "torch.chunk(torch.arange(20), 6)"
   ]
  },
  {
   "cell_type": "code",
   "execution_count": 113,
   "id": "1d28d0ca-f0eb-4ce0-974c-c8dec7cbf2d3",
   "metadata": {},
   "outputs": [],
   "source": [
    "df = pd.DataFrame({'a': [1, np.pi], 'b': ['3', 4]})"
   ]
  },
  {
   "cell_type": "code",
   "execution_count": 112,
   "id": "407431f2-8820-496d-b008-4a2e7bf6152f",
   "metadata": {},
   "outputs": [],
   "source": [
    "df.to_pickle('/tmp/df.fea')"
   ]
  },
  {
   "cell_type": "code",
   "execution_count": 104,
   "id": "c4186623-bf97-4466-9656-225389143a05",
   "metadata": {},
   "outputs": [],
   "source": [
    "df = pd.DataFrame({'a': [1, 2], 'b': [3, 4], 'c': [[1,2,3], [4,5,6]]})"
   ]
  },
  {
   "cell_type": "code",
   "execution_count": 95,
   "id": "9557506c-c5f5-4e85-ad59-8c22ef97540a",
   "metadata": {},
   "outputs": [],
   "source": [
    "df['b'] = df['b'].astype('int')"
   ]
  },
  {
   "cell_type": "code",
   "execution_count": 106,
   "id": "deebf624-b6e0-4689-8695-acd4bab94a49",
   "metadata": {},
   "outputs": [],
   "source": [
    "df.to_feather('/tmp/df.p')"
   ]
  },
  {
   "cell_type": "code",
   "execution_count": 107,
   "id": "939a5c03-f82c-4008-a60b-ccb06a02354c",
   "metadata": {},
   "outputs": [],
   "source": [
    "df.to_parquet('/tmp/df.p')"
   ]
  },
  {
   "cell_type": "code",
   "execution_count": 109,
   "id": "fcb9b76e-f252-4a4c-bf3e-cf304692f90c",
   "metadata": {},
   "outputs": [
    {
     "data": {
      "text/plain": [
       "dtype('O')"
      ]
     },
     "execution_count": 109,
     "metadata": {},
     "output_type": "execute_result"
    }
   ],
   "source": [
    "df.dtypes['c']"
   ]
  },
  {
   "cell_type": "code",
   "execution_count": 117,
   "id": "aec653c3-a283-431f-af81-6187fbeac47e",
   "metadata": {},
   "outputs": [],
   "source": [
    "from collections import OrderedDict, defaultdict"
   ]
  },
  {
   "cell_type": "code",
   "execution_count": 118,
   "id": "9f18cffc-a729-424c-af26-eef814717f96",
   "metadata": {},
   "outputs": [],
   "source": [
    "d = defaultdict(list)"
   ]
  },
  {
   "cell_type": "code",
   "execution_count": 119,
   "id": "8cb86f91-4d50-4a1e-9ce8-eb594b6f7566",
   "metadata": {},
   "outputs": [
    {
     "data": {
      "text/plain": [
       "True"
      ]
     },
     "execution_count": 119,
     "metadata": {},
     "output_type": "execute_result"
    }
   ],
   "source": [
    "isinstance(d, dict)"
   ]
  },
  {
   "cell_type": "code",
   "execution_count": 120,
   "id": "742fb210-2bde-4c34-940d-fbe121697e45",
   "metadata": {},
   "outputs": [],
   "source": [
    "a = torch.randn(10000)"
   ]
  },
  {
   "cell_type": "code",
   "execution_count": 122,
   "id": "9ddf3f1f-fb58-4f76-bdfc-521da8741a39",
   "metadata": {},
   "outputs": [
    {
     "data": {
      "text/html": [
       "<div>\n",
       "<style scoped>\n",
       "    .dataframe tbody tr th:only-of-type {\n",
       "        vertical-align: middle;\n",
       "    }\n",
       "\n",
       "    .dataframe tbody tr th {\n",
       "        vertical-align: top;\n",
       "    }\n",
       "\n",
       "    .dataframe thead th {\n",
       "        text-align: right;\n",
       "    }\n",
       "</style>\n",
       "<table border=\"1\" class=\"dataframe\">\n",
       "  <thead>\n",
       "    <tr style=\"text-align: right;\">\n",
       "      <th></th>\n",
       "      <th>a</th>\n",
       "      <th>b</th>\n",
       "    </tr>\n",
       "  </thead>\n",
       "  <tbody>\n",
       "    <tr>\n",
       "      <th>0</th>\n",
       "      <td>1.000000</td>\n",
       "      <td>3</td>\n",
       "    </tr>\n",
       "    <tr>\n",
       "      <th>1</th>\n",
       "      <td>3.141593</td>\n",
       "      <td>4</td>\n",
       "    </tr>\n",
       "  </tbody>\n",
       "</table>\n",
       "</div>"
      ],
      "text/plain": [
       "          a  b\n",
       "0  1.000000  3\n",
       "1  3.141593  4"
      ]
     },
     "execution_count": 122,
     "metadata": {},
     "output_type": "execute_result"
    }
   ],
   "source": [
    "df"
   ]
  },
  {
   "cell_type": "code",
   "execution_count": 131,
   "id": "295a09fb-eaec-4cb5-88bb-7b79b1bf1a22",
   "metadata": {},
   "outputs": [],
   "source": [
    "import sys"
   ]
  },
  {
   "cell_type": "code",
   "execution_count": 133,
   "id": "fea32fe3-bd34-462c-a1cf-c78750058714",
   "metadata": {},
   "outputs": [
    {
     "data": {
      "text/plain": [
       "72"
      ]
     },
     "execution_count": 133,
     "metadata": {},
     "output_type": "execute_result"
    }
   ],
   "source": [
    "sys.getsizeof(['a', 'f'])"
   ]
  }
 ],
 "metadata": {
  "kernelspec": {
   "display_name": "Python 3 (ipykernel)",
   "language": "python",
   "name": "python3"
  },
  "language_info": {
   "codemirror_mode": {
    "name": "ipython",
    "version": 3
   },
   "file_extension": ".py",
   "mimetype": "text/x-python",
   "name": "python",
   "nbconvert_exporter": "python",
   "pygments_lexer": "ipython3",
   "version": "3.8.13"
  },
  "toc-autonumbering": true
 },
 "nbformat": 4,
 "nbformat_minor": 5
}
