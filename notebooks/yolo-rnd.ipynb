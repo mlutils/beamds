{
 "cells": [
  {
   "cell_type": "code",
   "execution_count": 1,
   "id": "5b9dc70f-31be-4450-9deb-5d260d9c5f17",
   "metadata": {},
   "outputs": [],
   "source": [
    "from beam import resource"
   ]
  },
  {
   "cell_type": "code",
   "execution_count": 2,
   "id": "bf869e1c-2cba-44e4-a7e7-3f555af318ac",
   "metadata": {},
   "outputs": [],
   "source": [
    "from beam import deploy_server\n",
    "from beam import HTTPServeClusterConfig"
   ]
  },
  {
   "cell_type": "code",
   "execution_count": null,
   "id": "5dc12e85-636f-4fa3-a506-f8bcdad9e78b",
   "metadata": {},
   "outputs": [],
   "source": [
    "from beam import beam_server"
   ]
  },
  {
   "cell_type": "code",
   "execution_count": 3,
   "id": "a318e2e6-fed9-44d5-8f0a-ae639fe4030a",
   "metadata": {},
   "outputs": [
    {
     "name": "stdout",
     "output_type": "stream",
     "text": [
      "🔥 | \u001b[32m21:11:13 (0:00:02.418678)\u001b[0m | \u001b[1mINFO    \u001b[0m 🗎 \u001b[1mLoading object from path /tmp/yolo-bundle\u001b[0m \u001b[36m(∫auto.py:from_bundle-#360)\u001b[0m\n"
     ]
    },
    {
     "name": "stderr",
     "output_type": "stream",
     "text": [
      "Some weights of the model checkpoint at facebook/detr-resnet-50 were not used when initializing DetrForObjectDetection: ['model.backbone.conv_encoder.model.layer1.0.downsample.1.num_batches_tracked', 'model.backbone.conv_encoder.model.layer2.0.downsample.1.num_batches_tracked', 'model.backbone.conv_encoder.model.layer3.0.downsample.1.num_batches_tracked', 'model.backbone.conv_encoder.model.layer4.0.downsample.1.num_batches_tracked']\n",
      "- This IS expected if you are initializing DetrForObjectDetection from the checkpoint of a model trained on another task or with another architecture (e.g. initializing a BertForSequenceClassification model from a BertForPreTraining model).\n",
      "- This IS NOT expected if you are initializing DetrForObjectDetection from the checkpoint of a model that you expect to be exactly identical (initializing a BertForSequenceClassification model from a BertForSequenceClassification model).\n"
     ]
    }
   ],
   "source": [
    "alg = resource('/tmp/yolo-bundle/').read(ext='.abm')"
   ]
  },
  {
   "cell_type": "code",
   "execution_count": null,
   "id": "0637feff-5c61-417f-b815-efde4985f22f",
   "metadata": {},
   "outputs": [],
   "source": [
    "beam_server(alg, port=22044, use_torch=False)"
   ]
  },
  {
   "cell_type": "code",
   "execution_count": 4,
   "id": "4e551de6-4050-496c-8b1e-692f372eeda3",
   "metadata": {},
   "outputs": [],
   "source": [
    "conf = HTTPServeClusterConfig('/home/beamds/examples/orchestration_beamdemo.yaml', use_torch=False)\n",
    "conf.api_token = 'sha256~d72Y42Ni8Jv9n0p7OnG7W692bCbqve9ohUAgjsmfBKM'"
   ]
  },
  {
   "cell_type": "code",
   "execution_count": 5,
   "id": "fb1076e6-af5e-47cb-888c-2bac1fce4a05",
   "metadata": {},
   "outputs": [
    {
     "name": "stdout",
     "output_type": "stream",
     "text": [
      "🔥 | \u001b[32m21:11:25 (0:00:14.198983)\u001b[0m | \u001b[1mINFO    \u001b[0m 🗎 \u001b[1mbase_image: harbor.dt.local/public/beam:20240801\u001b[0m \u001b[36m(∫cluster.py:_deploy_and_launch-#51)\u001b[0m\n",
      "🔥 | \u001b[32m21:11:25 (0:00:14.200597)\u001b[0m | \u001b[1mINFO    \u001b[0m 🗎 \u001b[1mBuilding a Docker image with the requirements and the object bundle. Base image: harbor.dt.local/public/beam:20240801\u001b[0m \u001b[36m(∫auto.py:to_docker-#533)\u001b[0m\n",
      "Step 1/19 : ARG BASE_IMAGE\n",
      "\n",
      "Step 2/19 : FROM ${BASE_IMAGE}\n",
      "\n",
      "---> 955011ae2880\n",
      "Step 3/19 : ARG REQUIREMENTS_FILE\n",
      "\n",
      "---> Using cache\n",
      "---> 466b3a6a004e\n",
      "Step 4/19 : ARG CONFIG_FILE\n",
      "\n",
      "---> Using cache\n",
      "---> 582ae6bcc440\n",
      "Step 5/19 : ARG ALGORITHM_DIR\n",
      "\n",
      "---> Using cache\n",
      "---> 6c3a6b435274\n",
      "Step 6/19 : ARG ENTRYPOINT_SCRIPT\n",
      "\n",
      "---> Using cache\n",
      "---> e35ac39babb3\n",
      "Step 7/19 : ARG BEAM_DS_VERSION\n",
      "\n",
      "---> Using cache\n",
      "---> fde09080c1cc\n",
      "Step 8/19 : ARG DOCKER_TOOLS_DIR\n",
      "\n",
      "---> Using cache\n",
      "---> fc6fee065228\n",
      "Step 9/19 : COPY ${DOCKER_TOOLS_DIR} /app/docker-tools\n",
      "\n",
      "---> Using cache\n",
      "---> c3dfc3540742\n",
      "Step 10/19 : COPY ${REQUIREMENTS_FILE} /app/requirements.txt\n",
      "\n",
      "---> Using cache\n",
      "---> ee3bf32117ea\n",
      "Step 11/19 : RUN pip install --no-cache-dir packaging\n",
      "\n",
      "---> Using cache\n",
      "---> cb1cc6b2b4a3\n",
      "Step 12/19 : RUN python /app/docker-tools/gracefull-pip.py /app/requirements.txt\n",
      "\n",
      "---> Using cache\n",
      "---> c942932c7896\n",
      "Step 13/19 : RUN if [ -z \"${BEAM_DS_VERSION}\" ]; then         pip install beam-ds[serve];     else         pip install beam-ds[serve]==${BEAM_DS_VERSION};     fi\n",
      "\n",
      "---> Using cache\n",
      "---> cf2657bb7d88\n",
      "Step 14/19 : COPY ${ALGORITHM_DIR} /app/algorithm\n",
      "\n"
     ]
    },
    {
     "name": "stderr",
     "output_type": "stream",
     "text": [
      "/usr/local/lib/python3.10/dist-packages/paramiko/pkey.py:100: CryptographyDeprecationWarning: TripleDES has been moved to cryptography.hazmat.decrepit.ciphers.algorithms.TripleDES and will be removed from this module in 48.0.0.\n",
      "  \"cipher\": algorithms.TripleDES,\n",
      "/usr/local/lib/python3.10/dist-packages/paramiko/transport.py:259: CryptographyDeprecationWarning: TripleDES has been moved to cryptography.hazmat.decrepit.ciphers.algorithms.TripleDES and will be removed from this module in 48.0.0.\n",
      "  \"class\": algorithms.TripleDES,\n"
     ]
    },
    {
     "name": "stdout",
     "output_type": "stream",
     "text": [
      "---> baf650e2550f\n",
      "Step 15/19 : COPY ${CONFIG_FILE} /app/config.yaml\n",
      "\n",
      "---> e4d7e62f26f1\n",
      "Step 16/19 : COPY ${ENTRYPOINT_SCRIPT} /app/entrypoint.py\n",
      "\n",
      "---> fa0cd6baf514\n",
      "Step 17/19 : WORKDIR /app\n",
      "\n",
      "---> Running in ec6c43f015ba\n",
      "Removing intermediate container ec6c43f015ba\n",
      "---> 98f3fa4075e5\n",
      "Step 18/19 : ENTRYPOINT [\"python\", \"/app/entrypoint.py\"]\n",
      "\n",
      "---> Running in d5cd39eacd12\n",
      "Removing intermediate container d5cd39eacd12\n",
      "---> 3e27325d27e7\n",
      "Step 19/19 : CMD [\"/app/config.yaml\"]\n",
      "\n",
      "---> Running in 26b88ef3b743\n",
      "Removing intermediate container 26b88ef3b743\n",
      "---> 9d1739fadecc\n",
      "Successfully built 9d1739fadecc\n",
      "Successfully tagged yolo-algo:latest\n",
      "🔥 | \u001b[32m21:11:26 (0:00:14.613002)\u001b[0m | \u001b[1mINFO    \u001b[0m 🗎 \u001b[1mSuccessfully tagged yolo-algo:latest as harbor.dt.local/public/yolo-algo:latest\u001b[0m \u001b[36m(∫auto.py:_push_image-#679)\u001b[0m\n",
      "🔥 | \u001b[32m21:11:26 (0:00:14.690952)\u001b[0m | \u001b[1mINFO    \u001b[0m 🗎 \u001b[1mLogin response: {'IdentityToken': '', 'Status': 'Login Succeeded'}\u001b[0m \u001b[36m(∫auto.py:_push_image-#686)\u001b[0m\n",
      "🔥 | \u001b[32m21:11:27 (0:00:15.495778)\u001b[0m | \u001b[1mINFO    \u001b[0m 🗎 \u001b[1mFull image name: harbor.dt.local/public/yolo-algo:latest\u001b[0m \u001b[36m(∫auto.py:_build_image-#634)\u001b[0m\n",
      "🔥 | \u001b[32m21:11:27 (0:00:15.497020)\u001b[0m | \u001b[1mINFO    \u001b[0m 🗎 \u001b[1mfull_image_name: harbor.dt.local/public/yolo-algo:latest\u001b[0m \u001b[36m(∫auto.py:to_docker-#539)\u001b[0m\n",
      "🔥 | \u001b[32m21:11:27 (0:00:15.497515)\u001b[0m | \u001b[1mINFO    \u001b[0m 🗎 \u001b[1mImage harbor.dt.local/public/yolo-algo:latest created successfully\u001b[0m \u001b[36m(∫cluster.py:_deploy_and_launch-#62)\u001b[0m\n",
      "🔥 | \u001b[32m21:11:27 (0:00:15.636770)\u001b[0m | \u001b[1mINFO    \u001b[0m 🗎 \u001b[1mProject 'kh-dev' already exists.\u001b[0m \u001b[36m(∫k8s.py:create_project-#70)\u001b[0m\n",
      "🔥 | \u001b[32m21:11:27 (0:00:15.637734)\u001b[0m | \u001b[1mINFO    \u001b[0m 🗎 \u001b[1musing default service account 'default' in namespace 'kh-dev'.\u001b[0m \u001b[36m(∫deploy.py:launch-#82)\u001b[0m\n",
      "🔥 | \u001b[32m21:11:27 (0:00:15.643494)\u001b[0m | \u001b[1mINFO    \u001b[0m 🗎 \u001b[1mPVC 'data-pvc' already exists in namespace 'kh-dev'.\u001b[0m \u001b[36m(∫deploy.py:launch-#89)\u001b[0m\n",
      "🔥 | \u001b[32m21:11:27 (0:00:15.650593)\u001b[0m | \u001b[1mINFO    \u001b[0m 🗎 \u001b[1mCreated deployment object type: <class 'kubernetes.client.models.v1_deployment.V1Deployment'>\u001b[0m \u001b[36m(∫k8s.py:create_deployment-#481)\u001b[0m\n",
      "🔥 | \u001b[32m21:11:27 (0:00:15.665550)\u001b[0m | \u001b[1mINFO    \u001b[0m 🗎 \u001b[1mSuccessfully applied deployment in namespace 'kh-dev'\u001b[0m \u001b[36m(∫k8s.py:apply_deployment-#505)\u001b[0m\n",
      "Debugging get_selector_from_deployment method\n",
      "Received deployment object type: <class 'kubernetes.client.models.v1_deployment.V1Deployment'>\n",
      "Converting Kubernetes client object to dictionary\n",
      "Extracted matchLabels: {'app': 'university', 'project': 'kh-dev'}\n",
      "Selector string: app=university,project=kh-dev\n",
      "Service 'ssh-22022-university-zxr9q' created successfully in namespace 'kh-dev'.\n",
      "🔥 | \u001b[32m21:11:32 (0:00:20.742508)\u001b[0m | \u001b[1mINFO    \u001b[0m 🗎 \u001b[1mService 'ssh-22022-university-zxr9q' of type 'NodePort' created with ports: Port: 22022, TargetPort: 22022\u001b[0m \u001b[36m(∫k8s.py:create_service-#655)\u001b[0m\n",
      "Service 'jupyter-22088-university-zxr9q' created successfully in namespace 'kh-dev'.\n",
      "🔥 | \u001b[32m21:11:32 (0:00:20.760949)\u001b[0m | \u001b[1mINFO    \u001b[0m 🗎 \u001b[1mService 'jupyter-22088-university-zxr9q' of type 'ClusterIP' created with ports: Port: 22088, TargetPort: 22088\u001b[0m \u001b[36m(∫k8s.py:create_service-#655)\u001b[0m\n",
      "🔥 | \u001b[32m21:11:32 (0:00:20.770533)\u001b[0m | \u001b[1mINFO    \u001b[0m 🗎 \u001b[1mRoute jupyter-22088-university-zxr9q does not exist in namespace kh-dev, proceeding with creation.\u001b[0m \u001b[36m(∫k8s.py:create_route-#760)\u001b[0m\n",
      "🔥 | \u001b[32m21:11:32 (0:00:20.783455)\u001b[0m | \u001b[1mINFO    \u001b[0m 🗎 \u001b[1mRoute for service jupyter-22088-university-zxr9q created successfully in namespace kh-dev.\u001b[0m \u001b[36m(∫k8s.py:create_route-#797)\u001b[0m\n",
      "🔥 | \u001b[32m21:11:32 (0:00:20.784082)\u001b[0m | \u001b[1mINFO    \u001b[0m 🗎 \u001b[1mThe DNS name of the created route is: jupyter-22088-university-zxr9q-kh-dev.apps.kh-dev.dt.local\u001b[0m \u001b[36m(∫k8s.py:create_route-#800)\u001b[0m\n",
      "Service 'mlflow-22080-university-zxr9q' created successfully in namespace 'kh-dev'.\n",
      "🔥 | \u001b[32m21:11:32 (0:00:20.796227)\u001b[0m | \u001b[1mINFO    \u001b[0m 🗎 \u001b[1mService 'mlflow-22080-university-zxr9q' of type 'ClusterIP' created with ports: Port: 22080, TargetPort: 22080\u001b[0m \u001b[36m(∫k8s.py:create_service-#655)\u001b[0m\n",
      "🔥 | \u001b[32m21:11:32 (0:00:20.804519)\u001b[0m | \u001b[1mINFO    \u001b[0m 🗎 \u001b[1mRoute mlflow-22080-university-zxr9q does not exist in namespace kh-dev, proceeding with creation.\u001b[0m \u001b[36m(∫k8s.py:create_route-#760)\u001b[0m\n",
      "🔥 | \u001b[32m21:11:32 (0:00:20.810354)\u001b[0m | \u001b[1mINFO    \u001b[0m 🗎 \u001b[1mRoute for service mlflow-22080-university-zxr9q created successfully in namespace kh-dev.\u001b[0m \u001b[36m(∫k8s.py:create_route-#797)\u001b[0m\n",
      "🔥 | \u001b[32m21:11:32 (0:00:20.810963)\u001b[0m | \u001b[1mINFO    \u001b[0m 🗎 \u001b[1mThe DNS name of the created route is: mlflow-22080-university-zxr9q-kh-dev.apps.kh-dev.dt.local\u001b[0m \u001b[36m(∫k8s.py:create_route-#800)\u001b[0m\n",
      "Service 'web-22044-university-zxr9q' created successfully in namespace 'kh-dev'.\n",
      "🔥 | \u001b[32m21:11:32 (0:00:20.824969)\u001b[0m | \u001b[1mINFO    \u001b[0m 🗎 \u001b[1mService 'web-22044-university-zxr9q' of type 'ClusterIP' created with ports: Port: 22044, TargetPort: 22044\u001b[0m \u001b[36m(∫k8s.py:create_service-#655)\u001b[0m\n",
      "🔥 | \u001b[32m21:11:32 (0:00:20.835964)\u001b[0m | \u001b[1mINFO    \u001b[0m 🗎 \u001b[1mRoute web-22044-university-zxr9q does not exist in namespace kh-dev, proceeding with creation.\u001b[0m \u001b[36m(∫k8s.py:create_route-#760)\u001b[0m\n",
      "🔥 | \u001b[32m21:11:32 (0:00:20.841752)\u001b[0m | \u001b[1mINFO    \u001b[0m 🗎 \u001b[1mRoute for service web-22044-university-zxr9q created successfully in namespace kh-dev.\u001b[0m \u001b[36m(∫k8s.py:create_route-#797)\u001b[0m\n",
      "🔥 | \u001b[32m21:11:32 (0:00:20.842464)\u001b[0m | \u001b[1mINFO    \u001b[0m 🗎 \u001b[1mThe DNS name of the created route is: web-22044-university-zxr9q-kh-dev.apps.kh-dev.dt.local\u001b[0m \u001b[36m(∫k8s.py:create_route-#800)\u001b[0m\n",
      "Service 'home-page-22089-university-zxr9q' created successfully in namespace 'kh-dev'.\n",
      "🔥 | \u001b[32m21:11:32 (0:00:20.854451)\u001b[0m | \u001b[1mINFO    \u001b[0m 🗎 \u001b[1mService 'home-page-22089-university-zxr9q' of type 'ClusterIP' created with ports: Port: 22089, TargetPort: 22089\u001b[0m \u001b[36m(∫k8s.py:create_service-#655)\u001b[0m\n",
      "🔥 | \u001b[32m21:11:32 (0:00:20.862986)\u001b[0m | \u001b[1mINFO    \u001b[0m 🗎 \u001b[1mRoute home-page-22089-university-zxr9q does not exist in namespace kh-dev, proceeding with creation.\u001b[0m \u001b[36m(∫k8s.py:create_route-#760)\u001b[0m\n",
      "🔥 | \u001b[32m21:11:32 (0:00:20.872117)\u001b[0m | \u001b[1mINFO    \u001b[0m 🗎 \u001b[1mRoute for service home-page-22089-university-zxr9q created successfully in namespace kh-dev.\u001b[0m \u001b[36m(∫k8s.py:create_route-#797)\u001b[0m\n",
      "🔥 | \u001b[32m21:11:32 (0:00:20.872930)\u001b[0m | \u001b[1mINFO    \u001b[0m 🗎 \u001b[1mThe DNS name of the created route is: home-page-22089-university-zxr9q-kh-dev.apps.kh-dev.dt.local\u001b[0m \u001b[36m(∫k8s.py:create_route-#800)\u001b[0m\n",
      "Service 'flask-35000-university-zxr9q' created successfully in namespace 'kh-dev'.\n",
      "🔥 | \u001b[32m21:11:32 (0:00:20.886234)\u001b[0m | \u001b[1mINFO    \u001b[0m 🗎 \u001b[1mService 'flask-35000-university-zxr9q' of type 'ClusterIP' created with ports: Port: 35000, TargetPort: 35000\u001b[0m \u001b[36m(∫k8s.py:create_service-#655)\u001b[0m\n",
      "🔥 | \u001b[32m21:11:32 (0:00:20.895494)\u001b[0m | \u001b[1mINFO    \u001b[0m 🗎 \u001b[1mRoute flask-35000-university-zxr9q does not exist in namespace kh-dev, proceeding with creation.\u001b[0m \u001b[36m(∫k8s.py:create_route-#760)\u001b[0m\n",
      "🔥 | \u001b[32m21:11:32 (0:00:20.900004)\u001b[0m | \u001b[1mINFO    \u001b[0m 🗎 \u001b[1mRoute for service flask-35000-university-zxr9q created successfully in namespace kh-dev.\u001b[0m \u001b[36m(∫k8s.py:create_route-#797)\u001b[0m\n",
      "🔥 | \u001b[32m21:11:32 (0:00:20.900588)\u001b[0m | \u001b[1mINFO    \u001b[0m 🗎 \u001b[1mThe DNS name of the created route is: flask-35000-university-zxr9q-kh-dev.apps.kh-dev.dt.local\u001b[0m \u001b[36m(∫k8s.py:create_route-#800)\u001b[0m\n",
      "🔥 | \u001b[32m21:11:32 (0:00:20.901162)\u001b[0m | \u001b[1mINFO    \u001b[0m 🗎 \u001b[1mPod deployment successful\u001b[0m \u001b[36m(∫cluster.py:_deploy_and_launch-#78)\u001b[0m\n"
     ]
    },
    {
     "data": {
      "text/plain": [
       "<beam.orchestration.cluster.ServeCluster at 0x7fb951be1f30>"
      ]
     },
     "execution_count": 5,
     "metadata": {},
     "output_type": "execute_result"
    }
   ],
   "source": [
    "deploy_server('/tmp/yolo-bundle/', conf)"
   ]
  },
  {
   "cell_type": "code",
   "execution_count": null,
   "id": "93367138-b8fd-478d-9daa-2827ce8131fa",
   "metadata": {},
   "outputs": [],
   "source": []
  }
 ],
 "metadata": {
  "kernelspec": {
   "display_name": "Python 3 (ipykernel)",
   "language": "python",
   "name": "python3"
  },
  "language_info": {
   "codemirror_mode": {
    "name": "ipython",
    "version": 3
   },
   "file_extension": ".py",
   "mimetype": "text/x-python",
   "name": "python",
   "nbconvert_exporter": "python",
   "pygments_lexer": "ipython3",
   "version": "3.10.12"
  }
 },
 "nbformat": 4,
 "nbformat_minor": 5
}
