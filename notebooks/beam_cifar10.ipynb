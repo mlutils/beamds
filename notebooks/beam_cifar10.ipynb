{
 "cells": [
  {
   "cell_type": "code",
   "execution_count": 1,
   "id": "c974cdd9",
   "metadata": {},
   "outputs": [
    {
     "name": "stderr",
     "output_type": "stream",
     "text": [
      "2022-07-06 20:35:57,004\tINFO services.py:1456 -- View the Ray dashboard at \u001b[1m\u001b[32mhttp://172.17.0.2:13065\u001b[39m\u001b[22m\n",
      "2022-07-06 20:35:58,022\tINFO packaging.py:388 -- Creating a file package for local directory '..'.\n",
      "2022-07-06 20:35:58,279\tINFO packaging.py:241 -- Pushing file package 'gcs://_ray_pkg_c2239984b08464ed.zip' (1.24MiB) to Ray cluster...\n",
      "2022-07-06 20:35:58,307\tINFO packaging.py:243 -- Successfully pushed file package 'gcs://_ray_pkg_c2239984b08464ed.zip'.\n"
     ]
    }
   ],
   "source": [
    "%load_ext autoreload\n",
    "%autoreload 2\n",
    "\n",
    "import torch\n",
    "import torchvision\n",
    "import torch.nn.functional as F\n",
    "from torch import nn\n",
    "from sklearn.metrics import precision_recall_fscore_support\n",
    "import numpy as np\n",
    "\n",
    "# manage ray's relative imports\n",
    "\n",
    "import ray\n",
    "runtime_env = {\"working_dir\": \"..\" }\n",
    "ray.init(runtime_env=runtime_env, dashboard_port=13065, include_dashboard=True, dashboard_host=\"0.0.0.0\")\n",
    "from ray import tune\n",
    "from ray.tune.suggest.optuna import OptunaSearch\n",
    "from ray.tune import JupyterNotebookReporter\n",
    "\n",
    "# manage beams's relative imports\n",
    "import sys\n",
    "sys.path.append('..')\n",
    "\n",
    "from src.beam import beam_arguments, Experiment, Study\n",
    "from src.beam import UniversalDataset, UniversalBatchSampler\n",
    "from src.beam import Algorithm\n",
    "from src.beam import LinearNet\n",
    "from torchvision import transforms\n",
    "import matplotlib.pyplot as plt\n",
    "\n",
    "from src.beam import DataTensor\n",
    "from src.beam.utils import is_notebook\n",
    "from cifar10_example import Cifar10Network, CIFAR10Algorithm, CIFAR10Dataset\n",
    "\n",
    "from ray.tune.suggest.hebo import HEBOSearch"
   ]
  },
  {
   "cell_type": "code",
   "execution_count": 2,
   "id": "3fb14c31-398b-48b6-ade7-cfdb06d6d518",
   "metadata": {},
   "outputs": [],
   "source": [
    "path_to_data = '/localdata/elads/data/datasets/cifar10'\n",
    "root_dir = '/localdata/elads/data/cifar10'\n",
    "\n",
    "# path_to_data = '/home/shared/data/dataset/cifar10'\n",
    "# root_dir = '/home/shared/data/results/cifar10'"
   ]
  },
  {
   "cell_type": "markdown",
   "id": "1c0a0006-ec93-4d3e-909e-573cac82365c",
   "metadata": {},
   "source": [
    "## Training with a single worker"
   ]
  },
  {
   "cell_type": "code",
   "execution_count": 12,
   "id": "d9ad3cdf-49b6-4eef-88d0-dc6cca0bfd76",
   "metadata": {
    "tags": []
   },
   "outputs": [
    {
     "name": "stdout",
     "output_type": "stream",
     "text": [
      "\u001b[32m2022-07-06 20:43:29\u001b[0m | \u001b[1mINFO    \u001b[0m | \u001b[1mCreating new experiment\u001b[0m\n",
      "\u001b[32m2022-07-06 20:43:29\u001b[0m | \u001b[1mINFO    \u001b[0m | \u001b[1mExperiment directory is: /localdata/elads/data/cifar10/cifar10/CIFAR10Algorithm/debug/0159_20220706_204329\u001b[0m\n",
      "\u001b[32m2022-07-06 20:43:30\u001b[0m | \u001b[1mINFO    \u001b[0m | \u001b[1mbeam project: cifar10\u001b[0m\n",
      "\u001b[32m2022-07-06 20:43:30\u001b[0m | \u001b[1mINFO    \u001b[0m | \u001b[1mExperiment Hyperparameters\u001b[0m\n",
      "\u001b[32m2022-07-06 20:43:30\u001b[0m | \u001b[1mINFO    \u001b[0m | \u001b[1mproject_name: cifar10\u001b[0m\n",
      "\u001b[32m2022-07-06 20:43:30\u001b[0m | \u001b[1mINFO    \u001b[0m | \u001b[1malgorithm: CIFAR10Algorithm\u001b[0m\n",
      "\u001b[32m2022-07-06 20:43:30\u001b[0m | \u001b[1mINFO    \u001b[0m | \u001b[1midentifier: debug\u001b[0m\n",
      "\u001b[32m2022-07-06 20:43:30\u001b[0m | \u001b[1mINFO    \u001b[0m | \u001b[1mmp_port: random\u001b[0m\n",
      "\u001b[32m2022-07-06 20:43:30\u001b[0m | \u001b[1mINFO    \u001b[0m | \u001b[1mroot_dir: /localdata/elads/data/cifar10\u001b[0m\n",
      "\u001b[32m2022-07-06 20:43:30\u001b[0m | \u001b[1mINFO    \u001b[0m | \u001b[1mreload: False\u001b[0m\n",
      "\u001b[32m2022-07-06 20:43:30\u001b[0m | \u001b[1mINFO    \u001b[0m | \u001b[1mresume: -1\u001b[0m\n",
      "\u001b[32m2022-07-06 20:43:30\u001b[0m | \u001b[1mINFO    \u001b[0m | \u001b[1moverride: False\u001b[0m\n",
      "\u001b[32m2022-07-06 20:43:30\u001b[0m | \u001b[1mINFO    \u001b[0m | \u001b[1mcpu_workers: 0\u001b[0m\n",
      "\u001b[32m2022-07-06 20:43:30\u001b[0m | \u001b[1mINFO    \u001b[0m | \u001b[1mdevice: 0\u001b[0m\n",
      "\u001b[32m2022-07-06 20:43:30\u001b[0m | \u001b[1mINFO    \u001b[0m | \u001b[1mparallel: 0\u001b[0m\n",
      "\u001b[32m2022-07-06 20:43:30\u001b[0m | \u001b[1mINFO    \u001b[0m | \u001b[1mtensorboard: True\u001b[0m\n",
      "\u001b[32m2022-07-06 20:43:30\u001b[0m | \u001b[1mINFO    \u001b[0m | \u001b[1mlognet: True\u001b[0m\n",
      "\u001b[32m2022-07-06 20:43:30\u001b[0m | \u001b[1mINFO    \u001b[0m | \u001b[1mdeterministic: False\u001b[0m\n",
      "\u001b[32m2022-07-06 20:43:30\u001b[0m | \u001b[1mINFO    \u001b[0m | \u001b[1mscale_epoch_by_batch_size: True\u001b[0m\n",
      "\u001b[32m2022-07-06 20:43:30\u001b[0m | \u001b[1mINFO    \u001b[0m | \u001b[1mhalf: False\u001b[0m\n",
      "\u001b[32m2022-07-06 20:43:30\u001b[0m | \u001b[1mINFO    \u001b[0m | \u001b[1mamp: True\u001b[0m\n",
      "\u001b[32m2022-07-06 20:43:30\u001b[0m | \u001b[1mINFO    \u001b[0m | \u001b[1mstore_initial_weights: False\u001b[0m\n",
      "\u001b[32m2022-07-06 20:43:30\u001b[0m | \u001b[1mINFO    \u001b[0m | \u001b[1moversample: False\u001b[0m\n",
      "\u001b[32m2022-07-06 20:43:30\u001b[0m | \u001b[1mINFO    \u001b[0m | \u001b[1minit: ortho\u001b[0m\n",
      "\u001b[32m2022-07-06 20:43:30\u001b[0m | \u001b[1mINFO    \u001b[0m | \u001b[1mseed: 0\u001b[0m\n",
      "\u001b[32m2022-07-06 20:43:30\u001b[0m | \u001b[1mINFO    \u001b[0m | \u001b[1msplit_dataset_seed: 5782\u001b[0m\n",
      "\u001b[32m2022-07-06 20:43:30\u001b[0m | \u001b[1mINFO    \u001b[0m | \u001b[1mtotal_steps: 1000000\u001b[0m\n",
      "\u001b[32m2022-07-06 20:43:30\u001b[0m | \u001b[1mINFO    \u001b[0m | \u001b[1mepoch_length: None\u001b[0m\n",
      "\u001b[32m2022-07-06 20:43:30\u001b[0m | \u001b[1mINFO    \u001b[0m | \u001b[1mepoch_length_train: None\u001b[0m\n",
      "\u001b[32m2022-07-06 20:43:30\u001b[0m | \u001b[1mINFO    \u001b[0m | \u001b[1mepoch_length_eval: None\u001b[0m\n",
      "\u001b[32m2022-07-06 20:43:30\u001b[0m | \u001b[1mINFO    \u001b[0m | \u001b[1mn_epochs: 40\u001b[0m\n",
      "\u001b[32m2022-07-06 20:43:30\u001b[0m | \u001b[1mINFO    \u001b[0m | \u001b[1mbatch_size: 512\u001b[0m\n",
      "\u001b[32m2022-07-06 20:43:31\u001b[0m | \u001b[1mINFO    \u001b[0m | \u001b[1mbatch_size_train: None\u001b[0m\n",
      "\u001b[32m2022-07-06 20:43:31\u001b[0m | \u001b[1mINFO    \u001b[0m | \u001b[1mbatch_size_eval: None\u001b[0m\n",
      "\u001b[32m2022-07-06 20:43:31\u001b[0m | \u001b[1mINFO    \u001b[0m | \u001b[1mlr_dense: 0.01\u001b[0m\n",
      "\u001b[32m2022-07-06 20:43:31\u001b[0m | \u001b[1mINFO    \u001b[0m | \u001b[1mlr_sparse: 0.01\u001b[0m\n",
      "\u001b[32m2022-07-06 20:43:31\u001b[0m | \u001b[1mINFO    \u001b[0m | \u001b[1mweight_decay: 3e-05\u001b[0m\n",
      "\u001b[32m2022-07-06 20:43:31\u001b[0m | \u001b[1mINFO    \u001b[0m | \u001b[1meps: 0.0001\u001b[0m\n",
      "\u001b[32m2022-07-06 20:43:31\u001b[0m | \u001b[1mINFO    \u001b[0m | \u001b[1mbeta1: 0.9\u001b[0m\n",
      "\u001b[32m2022-07-06 20:43:31\u001b[0m | \u001b[1mINFO    \u001b[0m | \u001b[1mbeta2: 0.999\u001b[0m\n",
      "\u001b[32m2022-07-06 20:43:31\u001b[0m | \u001b[1mINFO    \u001b[0m | \u001b[1mclip_gradient: 1000.0\u001b[0m\n",
      "\u001b[32m2022-07-06 20:43:31\u001b[0m | \u001b[1mINFO    \u001b[0m | \u001b[1maccumulate: 1\u001b[0m\n",
      "\u001b[32m2022-07-06 20:43:31\u001b[0m | \u001b[1mINFO    \u001b[0m | \u001b[1moversampling_weight_factor: 1.0\u001b[0m\n",
      "\u001b[32m2022-07-06 20:43:31\u001b[0m | \u001b[1mINFO    \u001b[0m | \u001b[1mexpansion_size: 10000000\u001b[0m\n",
      "\u001b[32m2022-07-06 20:43:31\u001b[0m | \u001b[1mINFO    \u001b[0m | \u001b[1mprint_results: True\u001b[0m\n",
      "\u001b[32m2022-07-06 20:43:31\u001b[0m | \u001b[1mINFO    \u001b[0m | \u001b[1mvisualize_weights: True\u001b[0m\n",
      "\u001b[32m2022-07-06 20:43:31\u001b[0m | \u001b[1mINFO    \u001b[0m | \u001b[1menable_tqdm: True\u001b[0m\n",
      "\u001b[32m2022-07-06 20:43:31\u001b[0m | \u001b[1mINFO    \u001b[0m | \u001b[1mvisualize_results: yes\u001b[0m\n",
      "\u001b[32m2022-07-06 20:43:31\u001b[0m | \u001b[1mINFO    \u001b[0m | \u001b[1mstore_results: logscale\u001b[0m\n",
      "\u001b[32m2022-07-06 20:43:31\u001b[0m | \u001b[1mINFO    \u001b[0m | \u001b[1mstore_networks: logscale\u001b[0m\n",
      "\u001b[32m2022-07-06 20:43:31\u001b[0m | \u001b[1mINFO    \u001b[0m | \u001b[1mpath_to_data: /localdata/elads/data/datasets/cifar10\u001b[0m\n",
      "\u001b[32m2022-07-06 20:43:31\u001b[0m | \u001b[1mINFO    \u001b[0m | \u001b[1mdropout: 0.0\u001b[0m\n",
      "\u001b[32m2022-07-06 20:43:31\u001b[0m | \u001b[1mINFO    \u001b[0m | \u001b[1mactivation: relu\u001b[0m\n",
      "\u001b[32m2022-07-06 20:43:31\u001b[0m | \u001b[1mINFO    \u001b[0m | \u001b[1mchannels: 1024\u001b[0m\n",
      "\u001b[32m2022-07-06 20:43:31\u001b[0m | \u001b[1mINFO    \u001b[0m | \u001b[1mlabel_smoothing: 0.2\u001b[0m\n",
      "\u001b[32m2022-07-06 20:43:31\u001b[0m | \u001b[1mINFO    \u001b[0m | \u001b[1mpadding: 6\u001b[0m\n",
      "\u001b[32m2022-07-06 20:43:31\u001b[0m | \u001b[1mINFO    \u001b[0m | \u001b[1mgain: 0.2\u001b[0m\n",
      "\u001b[32m2022-07-06 20:43:31\u001b[0m | \u001b[1mINFO    \u001b[0m | \u001b[1mturn_point: 512\u001b[0m\n",
      "\u001b[32m2022-07-06 20:43:31\u001b[0m | \u001b[1mINFO    \u001b[0m | \u001b[1mfinal_point: 4096\u001b[0m\n",
      "\u001b[32m2022-07-06 20:43:31\u001b[0m | \u001b[1mINFO    \u001b[0m | \u001b[1mminimal_gain: 0.05\u001b[0m\n",
      "\u001b[32m2022-07-06 20:43:31\u001b[0m | \u001b[1mINFO    \u001b[0m | \u001b[1mtemperature: 0.05\u001b[0m\n"
     ]
    }
   ],
   "source": [
    "# here you put all actions which are performed only once before initializing the workers\n",
    "# for example, setti`ng running arguments and experiment:\n",
    "\n",
    "args = beam_arguments(f\"--project-name=cifar10 --root-dir={root_dir} --algorithm=CIFAR10Algorithm --device=0 --amp --lr-d=1e-2 --batch-size=512\",\n",
    "                      \"--n-epochs=40 --clip-gradient=1000 --parallel=0 --accumulate=1 --no-deterministic\",\n",
    "                      \"--weight-decay=3e-5 --beta1=0.9\", \n",
    "                      path_to_data=path_to_data, dropout=.0, activation='relu', channels=1024, label_smoothing=.2,\n",
    "                      padding=6, gain=.2, turn_point=512, final_point=4096, minimal_gain=.05, temperature=0.05)\n",
    "\n",
    "experiment = Experiment(args)"
   ]
  },
  {
   "cell_type": "code",
   "execution_count": 16,
   "id": "70cebc21-d128-4246-9d70-282d89b17e0d",
   "metadata": {},
   "outputs": [
    {
     "name": "stdout",
     "output_type": "stream",
     "text": [
      "\u001b[32m2022-07-06 20:48:44\u001b[0m | \u001b[1mINFO    \u001b[0m | \u001b[1mReload experiment from path: /localdata/elads/data/cifar10/cifar10/CIFAR10Algorithm/debug/0159_20220706_204329\u001b[0m\n",
      "\u001b[32m2022-07-06 20:48:44\u001b[0m | \u001b[1mINFO    \u001b[0m | \u001b[1mResuming existing experiment\u001b[0m\n",
      "\u001b[32m2022-07-06 20:48:44\u001b[0m | \u001b[1mINFO    \u001b[0m | \u001b[1mbeam project: cifar10\u001b[0m\n",
      "\u001b[32m2022-07-06 20:48:44\u001b[0m | \u001b[1mINFO    \u001b[0m | \u001b[1mExperiment Hyperparameters\u001b[0m\n",
      "\u001b[32m2022-07-06 20:48:44\u001b[0m | \u001b[1mINFO    \u001b[0m | \u001b[1mproject_name: cifar10\u001b[0m\n",
      "\u001b[32m2022-07-06 20:48:44\u001b[0m | \u001b[1mINFO    \u001b[0m | \u001b[1malgorithm: CIFAR10Algorithm\u001b[0m\n",
      "\u001b[32m2022-07-06 20:48:44\u001b[0m | \u001b[1mINFO    \u001b[0m | \u001b[1midentifier: debug\u001b[0m\n",
      "\u001b[32m2022-07-06 20:48:44\u001b[0m | \u001b[1mINFO    \u001b[0m | \u001b[1mmp_port: random\u001b[0m\n",
      "\u001b[32m2022-07-06 20:48:44\u001b[0m | \u001b[1mINFO    \u001b[0m | \u001b[1mroot_dir: /localdata/elads/data/cifar10\u001b[0m\n",
      "\u001b[32m2022-07-06 20:48:44\u001b[0m | \u001b[1mINFO    \u001b[0m | \u001b[1mreload: True\u001b[0m\n",
      "\u001b[32m2022-07-06 20:48:44\u001b[0m | \u001b[1mINFO    \u001b[0m | \u001b[1mresume: 0159_20220706_204329\u001b[0m\n",
      "\u001b[32m2022-07-06 20:48:44\u001b[0m | \u001b[1mINFO    \u001b[0m | \u001b[1moverride: False\u001b[0m\n",
      "\u001b[32m2022-07-06 20:48:44\u001b[0m | \u001b[1mINFO    \u001b[0m | \u001b[1mcpu_workers: 0\u001b[0m\n",
      "\u001b[32m2022-07-06 20:48:44\u001b[0m | \u001b[1mINFO    \u001b[0m | \u001b[1mdevice: 0\u001b[0m\n",
      "\u001b[32m2022-07-06 20:48:44\u001b[0m | \u001b[1mINFO    \u001b[0m | \u001b[1mparallel: 0\u001b[0m\n",
      "\u001b[32m2022-07-06 20:48:44\u001b[0m | \u001b[1mINFO    \u001b[0m | \u001b[1mtensorboard: True\u001b[0m\n",
      "\u001b[32m2022-07-06 20:48:44\u001b[0m | \u001b[1mINFO    \u001b[0m | \u001b[1mlognet: True\u001b[0m\n",
      "\u001b[32m2022-07-06 20:48:44\u001b[0m | \u001b[1mINFO    \u001b[0m | \u001b[1mdeterministic: False\u001b[0m\n",
      "\u001b[32m2022-07-06 20:48:44\u001b[0m | \u001b[1mINFO    \u001b[0m | \u001b[1mscale_epoch_by_batch_size: True\u001b[0m\n",
      "\u001b[32m2022-07-06 20:48:44\u001b[0m | \u001b[1mINFO    \u001b[0m | \u001b[1mhalf: False\u001b[0m\n",
      "\u001b[32m2022-07-06 20:48:44\u001b[0m | \u001b[1mINFO    \u001b[0m | \u001b[1mamp: True\u001b[0m\n",
      "\u001b[32m2022-07-06 20:48:44\u001b[0m | \u001b[1mINFO    \u001b[0m | \u001b[1mstore_initial_weights: False\u001b[0m\n",
      "\u001b[32m2022-07-06 20:48:44\u001b[0m | \u001b[1mINFO    \u001b[0m | \u001b[1moversample: False\u001b[0m\n",
      "\u001b[32m2022-07-06 20:48:44\u001b[0m | \u001b[1mINFO    \u001b[0m | \u001b[1minit: ortho\u001b[0m\n",
      "\u001b[32m2022-07-06 20:48:44\u001b[0m | \u001b[1mINFO    \u001b[0m | \u001b[1mseed: 0\u001b[0m\n",
      "\u001b[32m2022-07-06 20:48:44\u001b[0m | \u001b[1mINFO    \u001b[0m | \u001b[1msplit_dataset_seed: 5782\u001b[0m\n",
      "\u001b[32m2022-07-06 20:48:44\u001b[0m | \u001b[1mINFO    \u001b[0m | \u001b[1mtotal_steps: 1000000\u001b[0m\n",
      "\u001b[32m2022-07-06 20:48:44\u001b[0m | \u001b[1mINFO    \u001b[0m | \u001b[1mepoch_length: None\u001b[0m\n",
      "\u001b[32m2022-07-06 20:48:44\u001b[0m | \u001b[1mINFO    \u001b[0m | \u001b[1mepoch_length_train: None\u001b[0m\n",
      "\u001b[32m2022-07-06 20:48:44\u001b[0m | \u001b[1mINFO    \u001b[0m | \u001b[1mepoch_length_eval: None\u001b[0m\n",
      "\u001b[32m2022-07-06 20:48:44\u001b[0m | \u001b[1mINFO    \u001b[0m | \u001b[1mn_epochs: 40\u001b[0m\n",
      "\u001b[32m2022-07-06 20:48:44\u001b[0m | \u001b[1mINFO    \u001b[0m | \u001b[1mbatch_size: 512\u001b[0m\n",
      "\u001b[32m2022-07-06 20:48:44\u001b[0m | \u001b[1mINFO    \u001b[0m | \u001b[1mbatch_size_train: None\u001b[0m\n",
      "\u001b[32m2022-07-06 20:48:44\u001b[0m | \u001b[1mINFO    \u001b[0m | \u001b[1mbatch_size_eval: None\u001b[0m\n",
      "\u001b[32m2022-07-06 20:48:44\u001b[0m | \u001b[1mINFO    \u001b[0m | \u001b[1mlr_dense: 0.01\u001b[0m\n",
      "\u001b[32m2022-07-06 20:48:44\u001b[0m | \u001b[1mINFO    \u001b[0m | \u001b[1mlr_sparse: 0.01\u001b[0m\n",
      "\u001b[32m2022-07-06 20:48:44\u001b[0m | \u001b[1mINFO    \u001b[0m | \u001b[1mweight_decay: 3e-05\u001b[0m\n",
      "\u001b[32m2022-07-06 20:48:44\u001b[0m | \u001b[1mINFO    \u001b[0m | \u001b[1meps: 0.0001\u001b[0m\n",
      "\u001b[32m2022-07-06 20:48:44\u001b[0m | \u001b[1mINFO    \u001b[0m | \u001b[1mbeta1: 0.9\u001b[0m\n",
      "\u001b[32m2022-07-06 20:48:44\u001b[0m | \u001b[1mINFO    \u001b[0m | \u001b[1mbeta2: 0.999\u001b[0m\n",
      "\u001b[32m2022-07-06 20:48:44\u001b[0m | \u001b[1mINFO    \u001b[0m | \u001b[1mclip_gradient: 1000.0\u001b[0m\n",
      "\u001b[32m2022-07-06 20:48:44\u001b[0m | \u001b[1mINFO    \u001b[0m | \u001b[1maccumulate: 1\u001b[0m\n",
      "\u001b[32m2022-07-06 20:48:44\u001b[0m | \u001b[1mINFO    \u001b[0m | \u001b[1moversampling_weight_factor: 1.0\u001b[0m\n",
      "\u001b[32m2022-07-06 20:48:44\u001b[0m | \u001b[1mINFO    \u001b[0m | \u001b[1mexpansion_size: 10000000\u001b[0m\n",
      "\u001b[32m2022-07-06 20:48:44\u001b[0m | \u001b[1mINFO    \u001b[0m | \u001b[1mprint_results: True\u001b[0m\n",
      "\u001b[32m2022-07-06 20:48:44\u001b[0m | \u001b[1mINFO    \u001b[0m | \u001b[1mvisualize_weights: True\u001b[0m\n",
      "\u001b[32m2022-07-06 20:48:44\u001b[0m | \u001b[1mINFO    \u001b[0m | \u001b[1menable_tqdm: True\u001b[0m\n",
      "\u001b[32m2022-07-06 20:48:44\u001b[0m | \u001b[1mINFO    \u001b[0m | \u001b[1mvisualize_results: yes\u001b[0m\n",
      "\u001b[32m2022-07-06 20:48:44\u001b[0m | \u001b[1mINFO    \u001b[0m | \u001b[1mstore_results: logscale\u001b[0m\n",
      "\u001b[32m2022-07-06 20:48:44\u001b[0m | \u001b[1mINFO    \u001b[0m | \u001b[1mstore_networks: logscale\u001b[0m\n",
      "\u001b[32m2022-07-06 20:48:44\u001b[0m | \u001b[1mINFO    \u001b[0m | \u001b[1mpath_to_data: /localdata/elads/data/datasets/cifar10\u001b[0m\n",
      "\u001b[32m2022-07-06 20:48:44\u001b[0m | \u001b[1mINFO    \u001b[0m | \u001b[1mdropout: 0.0\u001b[0m\n",
      "\u001b[32m2022-07-06 20:48:44\u001b[0m | \u001b[1mINFO    \u001b[0m | \u001b[1mactivation: relu\u001b[0m\n",
      "\u001b[32m2022-07-06 20:48:44\u001b[0m | \u001b[1mINFO    \u001b[0m | \u001b[1mchannels: 1024\u001b[0m\n",
      "\u001b[32m2022-07-06 20:48:44\u001b[0m | \u001b[1mINFO    \u001b[0m | \u001b[1mlabel_smoothing: 0.2\u001b[0m\n",
      "\u001b[32m2022-07-06 20:48:44\u001b[0m | \u001b[1mINFO    \u001b[0m | \u001b[1mpadding: 6\u001b[0m\n",
      "\u001b[32m2022-07-06 20:48:44\u001b[0m | \u001b[1mINFO    \u001b[0m | \u001b[1mgain: 0.2\u001b[0m\n",
      "\u001b[32m2022-07-06 20:48:44\u001b[0m | \u001b[1mINFO    \u001b[0m | \u001b[1mturn_point: 512\u001b[0m\n",
      "\u001b[32m2022-07-06 20:48:44\u001b[0m | \u001b[1mINFO    \u001b[0m | \u001b[1mfinal_point: 4096\u001b[0m\n",
      "\u001b[32m2022-07-06 20:48:44\u001b[0m | \u001b[1mINFO    \u001b[0m | \u001b[1mminimal_gain: 0.05\u001b[0m\n",
      "\u001b[32m2022-07-06 20:48:44\u001b[0m | \u001b[1mINFO    \u001b[0m | \u001b[1mtemperature: 0.05\u001b[0m\n"
     ]
    }
   ],
   "source": [
    "experiment = Experiment.reload_from_path('/localdata/elads/data/cifar10/cifar10/CIFAR10Algorithm/debug/0159_20220706_204329')"
   ]
  },
  {
   "cell_type": "code",
   "execution_count": null,
   "id": "2490b46c-fe4f-4065-a932-a5e4b1916845",
   "metadata": {
    "tags": []
   },
   "outputs": [
    {
     "name": "stdout",
     "output_type": "stream",
     "text": [
      "\u001b[32m2022-07-06 20:48:50\u001b[0m | \u001b[1mINFO    \u001b[0m | \u001b[1mSingle worker mode\u001b[0m\n",
      "\u001b[32m2022-07-06 20:48:50\u001b[0m | \u001b[1mINFO    \u001b[0m | \u001b[1mWorker: 1/1 is running...\u001b[0m\n",
      "\u001b[32m2022-07-06 20:48:50\u001b[0m | \u001b[1mINFO    \u001b[0m | \u001b[1mReload experiment from checkpoint: /localdata/elads/data/cifar10/cifar10/CIFAR10Algorithm/debug/0159_20220706_204329/checkpoints/checkpoint_000015\u001b[0m\n"
     ]
    },
    {
     "data": {
      "application/vnd.jupyter.widget-view+json": {
       "model_id": "d89233a264b54e1e8efaa395ab1dca46",
       "version_major": 2,
       "version_minor": 0
      },
      "text/plain": [
       "train:   0%|          | 0/73 [00:00<?, ?it/s]"
      ]
     },
     "metadata": {},
     "output_type": "display_data"
    },
    {
     "data": {
      "application/vnd.jupyter.widget-view+json": {
       "model_id": "d266e08dcee3426285957437ef16426b",
       "version_major": 2,
       "version_minor": 0
      },
      "text/plain": [
       "validation:   0%|          | 0/22 [00:00<?, ?it/s]"
      ]
     },
     "metadata": {},
     "output_type": "display_data"
    },
    {
     "name": "stdout",
     "output_type": "stream",
     "text": [
      "\u001b[32m2022-07-06 20:49:02\u001b[0m | \u001b[1mINFO    \u001b[0m | \u001b[1m\u001b[0m\n",
      "\u001b[32m2022-07-06 20:49:02\u001b[0m | \u001b[1mINFO    \u001b[0m | \u001b[1mFinished epoch 1/40:\u001b[0m\n",
      "\u001b[32m2022-07-06 20:49:02\u001b[0m | \u001b[1mINFO    \u001b[0m | \u001b[1mtrain:\u001b[0m\n",
      "\u001b[32m2022-07-06 20:49:02\u001b[0m | \u001b[1mINFO    \u001b[0m | \u001b[1mloss:           | avg: 613.4     | std: 16.78     | min: 577.2     | 25%: 601.5     | 50%: 614.0     | 75%: 621.9     | max: 667.8     \u001b[0m\n",
      "\u001b[32m2022-07-06 20:49:02\u001b[0m | \u001b[1mINFO    \u001b[0m | \u001b[1macc:            | avg: 0.8465    | std: 0.02106   | min: 0.7812    | 25%: 0.834     | 50%: 0.8496    | 75%: 0.8613    | max: 0.8926    \u001b[0m\n",
      "\u001b[32m2022-07-06 20:49:02\u001b[0m | \u001b[1mINFO    \u001b[0m | \u001b[1mlr:             | avg: 0.0005    | std: nan       | min: 0.0005    | 25%: 0.0005    | 50%: 0.0005    | 75%: 0.0005    | max: 0.0005    \u001b[0m\n",
      "\u001b[32m2022-07-06 20:49:02\u001b[0m | \u001b[1mINFO    \u001b[0m | \u001b[1mvalidation:\u001b[0m\n",
      "\u001b[32m2022-07-06 20:49:02\u001b[0m | \u001b[1mINFO    \u001b[0m | \u001b[1mloss:           | avg: 611.1     | std: 9.262     | min: 597.8     | 25%: 603.9     | 50%: 609.8     | 75%: 617.0     | max: 629.8     \u001b[0m\n",
      "\u001b[32m2022-07-06 20:49:02\u001b[0m | \u001b[1mINFO    \u001b[0m | \u001b[1macc:            | avg: 0.8459    | std: 0.01394   | min: 0.8203    | 25%: 0.8354    | 50%: 0.8477    | 75%: 0.8516    | max: 0.8672    \u001b[0m\n"
     ]
    },
    {
     "data": {
      "application/vnd.jupyter.widget-view+json": {
       "model_id": "2f6156b628874ce6ba50200cf252d19d",
       "version_major": 2,
       "version_minor": 0
      },
      "text/plain": [
       "train:   0%|          | 0/73 [00:00<?, ?it/s]"
      ]
     },
     "metadata": {},
     "output_type": "display_data"
    },
    {
     "data": {
      "application/vnd.jupyter.widget-view+json": {
       "model_id": "e3f2335cbefa48ddbedc4d31b003e985",
       "version_major": 2,
       "version_minor": 0
      },
      "text/plain": [
       "validation:   0%|          | 0/22 [00:00<?, ?it/s]"
      ]
     },
     "metadata": {},
     "output_type": "display_data"
    },
    {
     "name": "stdout",
     "output_type": "stream",
     "text": [
      "\u001b[32m2022-07-06 20:49:21\u001b[0m | \u001b[1mINFO    \u001b[0m | \u001b[1m\u001b[0m\n",
      "\u001b[32m2022-07-06 20:49:21\u001b[0m | \u001b[1mINFO    \u001b[0m | \u001b[1mFinished epoch 2/40:\u001b[0m\n",
      "\u001b[32m2022-07-06 20:49:21\u001b[0m | \u001b[1mINFO    \u001b[0m | \u001b[1mtrain:\u001b[0m\n",
      "\u001b[32m2022-07-06 20:49:21\u001b[0m | \u001b[1mINFO    \u001b[0m | \u001b[1mloss:           | avg: 590.8     | std: 12.92     | min: 561.9     | 25%: 581.7     | 50%: 589.4     | 75%: 600.8     | max: 624.2     \u001b[0m\n",
      "\u001b[32m2022-07-06 20:49:21\u001b[0m | \u001b[1mINFO    \u001b[0m | \u001b[1macc:            | avg: 0.8701    | std: 0.01719   | min: 0.8281    | 25%: 0.8574    | 50%: 0.8711    | 75%: 0.8828    | max: 0.9121    \u001b[0m\n",
      "\u001b[32m2022-07-06 20:49:21\u001b[0m | \u001b[1mINFO    \u001b[0m | \u001b[1mlr:             | avg: 0.0005703 | std: nan       | min: 0.0005703 | 25%: 0.0005703 | 50%: 0.0005703 | 75%: 0.0005703 | max: 0.0005703 \u001b[0m\n",
      "\u001b[32m2022-07-06 20:49:21\u001b[0m | \u001b[1mINFO    \u001b[0m | \u001b[1mvalidation:\u001b[0m\n",
      "\u001b[32m2022-07-06 20:49:21\u001b[0m | \u001b[1mINFO    \u001b[0m | \u001b[1mloss:           | avg: 612.5     | std: 10.3      | min: 596.8     | 25%: 604.4     | 50%: 614.9     | 75%: 618.9     | max: 630.5     \u001b[0m\n",
      "\u001b[32m2022-07-06 20:49:21\u001b[0m | \u001b[1mINFO    \u001b[0m | \u001b[1macc:            | avg: 0.8453    | std: 0.01637   | min: 0.8145    | 25%: 0.8379    | 50%: 0.8457    | 75%: 0.8535    | max: 0.8711    \u001b[0m\n"
     ]
    },
    {
     "data": {
      "application/vnd.jupyter.widget-view+json": {
       "model_id": "1a61e031c5214738ac675598ba1cedc9",
       "version_major": 2,
       "version_minor": 0
      },
      "text/plain": [
       "train:   0%|          | 0/73 [00:00<?, ?it/s]"
      ]
     },
     "metadata": {},
     "output_type": "display_data"
    }
   ],
   "source": [
    "alg = experiment.fit(CIFAR10Algorithm, CIFAR10Dataset, tensorboard_arguments={'images': {'sample': {'dataformats': 'NCHW'}}})"
   ]
  },
  {
   "cell_type": "markdown",
   "id": "3d15a46d",
   "metadata": {},
   "source": [
    "## Training with 4 workers"
   ]
  },
  {
   "cell_type": "code",
   "execution_count": 6,
   "id": "f79ff3f1",
   "metadata": {
    "collapsed": true,
    "jupyter": {
     "outputs_hidden": true
    },
    "tags": []
   },
   "outputs": [
    {
     "name": "stdout",
     "output_type": "stream",
     "text": [
      "\u001b[32m2022-07-06 12:28:01\u001b[0m | \u001b[1mINFO    \u001b[0m | \u001b[1mCreating new experiment\u001b[0m\n",
      "\u001b[32m2022-07-06 12:28:01\u001b[0m | \u001b[1mINFO    \u001b[0m | \u001b[1mExperiment directory is: /localdata/elads/data/cifar10/cifar10/CIFAR10Algorithm/debug/0147_20220706_122801\u001b[0m\n",
      "\u001b[32m2022-07-06 12:28:02\u001b[0m | \u001b[1mINFO    \u001b[0m | \u001b[1mbeam project: cifar10\u001b[0m\n",
      "\u001b[32m2022-07-06 12:28:02\u001b[0m | \u001b[1mINFO    \u001b[0m | \u001b[1mExperiment Hyperparameters\u001b[0m\n",
      "\u001b[32m2022-07-06 12:28:02\u001b[0m | \u001b[1mINFO    \u001b[0m | \u001b[1mproject_name: cifar10\u001b[0m\n",
      "\u001b[32m2022-07-06 12:28:02\u001b[0m | \u001b[1mINFO    \u001b[0m | \u001b[1malgorithm: CIFAR10Algorithm\u001b[0m\n",
      "\u001b[32m2022-07-06 12:28:02\u001b[0m | \u001b[1mINFO    \u001b[0m | \u001b[1midentifier: debug\u001b[0m\n",
      "\u001b[32m2022-07-06 12:28:02\u001b[0m | \u001b[1mINFO    \u001b[0m | \u001b[1mmp_port: random\u001b[0m\n",
      "\u001b[32m2022-07-06 12:28:02\u001b[0m | \u001b[1mINFO    \u001b[0m | \u001b[1mroot_dir: /localdata/elads/data/cifar10\u001b[0m\n",
      "\u001b[32m2022-07-06 12:28:02\u001b[0m | \u001b[1mINFO    \u001b[0m | \u001b[1mreload: False\u001b[0m\n",
      "\u001b[32m2022-07-06 12:28:02\u001b[0m | \u001b[1mINFO    \u001b[0m | \u001b[1mresume: -1\u001b[0m\n",
      "\u001b[32m2022-07-06 12:28:02\u001b[0m | \u001b[1mINFO    \u001b[0m | \u001b[1moverride: False\u001b[0m\n",
      "\u001b[32m2022-07-06 12:28:02\u001b[0m | \u001b[1mINFO    \u001b[0m | \u001b[1mcpu_workers: 0\u001b[0m\n",
      "\u001b[32m2022-07-06 12:28:02\u001b[0m | \u001b[1mINFO    \u001b[0m | \u001b[1mdevice: 0\u001b[0m\n",
      "\u001b[32m2022-07-06 12:28:02\u001b[0m | \u001b[1mINFO    \u001b[0m | \u001b[1mparallel: 4\u001b[0m\n",
      "\u001b[32m2022-07-06 12:28:02\u001b[0m | \u001b[1mINFO    \u001b[0m | \u001b[1mtensorboard: True\u001b[0m\n",
      "\u001b[32m2022-07-06 12:28:02\u001b[0m | \u001b[1mINFO    \u001b[0m | \u001b[1mlognet: True\u001b[0m\n",
      "\u001b[32m2022-07-06 12:28:02\u001b[0m | \u001b[1mINFO    \u001b[0m | \u001b[1mdeterministic: False\u001b[0m\n",
      "\u001b[32m2022-07-06 12:28:02\u001b[0m | \u001b[1mINFO    \u001b[0m | \u001b[1mscale_epoch_by_batch_size: True\u001b[0m\n",
      "\u001b[32m2022-07-06 12:28:02\u001b[0m | \u001b[1mINFO    \u001b[0m | \u001b[1mhalf: True\u001b[0m\n",
      "\u001b[32m2022-07-06 12:28:02\u001b[0m | \u001b[1mINFO    \u001b[0m | \u001b[1mamp: False\u001b[0m\n",
      "\u001b[32m2022-07-06 12:28:02\u001b[0m | \u001b[1mINFO    \u001b[0m | \u001b[1mstore_initial_weights: False\u001b[0m\n",
      "\u001b[32m2022-07-06 12:28:02\u001b[0m | \u001b[1mINFO    \u001b[0m | \u001b[1moversample: False\u001b[0m\n",
      "\u001b[32m2022-07-06 12:28:02\u001b[0m | \u001b[1mINFO    \u001b[0m | \u001b[1minit: ortho\u001b[0m\n",
      "\u001b[32m2022-07-06 12:28:02\u001b[0m | \u001b[1mINFO    \u001b[0m | \u001b[1mseed: 0\u001b[0m\n",
      "\u001b[32m2022-07-06 12:28:02\u001b[0m | \u001b[1mINFO    \u001b[0m | \u001b[1msplit_dataset_seed: 5782\u001b[0m\n",
      "\u001b[32m2022-07-06 12:28:02\u001b[0m | \u001b[1mINFO    \u001b[0m | \u001b[1mtotal_steps: 1000000\u001b[0m\n",
      "\u001b[32m2022-07-06 12:28:02\u001b[0m | \u001b[1mINFO    \u001b[0m | \u001b[1mepoch_length: None\u001b[0m\n",
      "\u001b[32m2022-07-06 12:28:02\u001b[0m | \u001b[1mINFO    \u001b[0m | \u001b[1mepoch_length_train: None\u001b[0m\n",
      "\u001b[32m2022-07-06 12:28:02\u001b[0m | \u001b[1mINFO    \u001b[0m | \u001b[1mepoch_length_eval: None\u001b[0m\n",
      "\u001b[32m2022-07-06 12:28:02\u001b[0m | \u001b[1mINFO    \u001b[0m | \u001b[1mn_epochs: 40\u001b[0m\n",
      "\u001b[32m2022-07-06 12:28:02\u001b[0m | \u001b[1mINFO    \u001b[0m | \u001b[1mbatch_size: 512\u001b[0m\n",
      "\u001b[32m2022-07-06 12:28:02\u001b[0m | \u001b[1mINFO    \u001b[0m | \u001b[1mbatch_size_train: None\u001b[0m\n",
      "\u001b[32m2022-07-06 12:28:02\u001b[0m | \u001b[1mINFO    \u001b[0m | \u001b[1mbatch_size_eval: None\u001b[0m\n",
      "\u001b[32m2022-07-06 12:28:02\u001b[0m | \u001b[1mINFO    \u001b[0m | \u001b[1mlr_dense: 0.001\u001b[0m\n",
      "\u001b[32m2022-07-06 12:28:02\u001b[0m | \u001b[1mINFO    \u001b[0m | \u001b[1mlr_sparse: 0.01\u001b[0m\n",
      "\u001b[32m2022-07-06 12:28:02\u001b[0m | \u001b[1mINFO    \u001b[0m | \u001b[1mweight_decay: 1e-05\u001b[0m\n",
      "\u001b[32m2022-07-06 12:28:02\u001b[0m | \u001b[1mINFO    \u001b[0m | \u001b[1meps: 0.0001\u001b[0m\n",
      "\u001b[32m2022-07-06 12:28:02\u001b[0m | \u001b[1mINFO    \u001b[0m | \u001b[1mbeta1: 0.9\u001b[0m\n",
      "\u001b[32m2022-07-06 12:28:02\u001b[0m | \u001b[1mINFO    \u001b[0m | \u001b[1mbeta2: 0.9\u001b[0m\n",
      "\u001b[32m2022-07-06 12:28:02\u001b[0m | \u001b[1mINFO    \u001b[0m | \u001b[1mclip_gradient: 1000.0\u001b[0m\n",
      "\u001b[32m2022-07-06 12:28:02\u001b[0m | \u001b[1mINFO    \u001b[0m | \u001b[1maccumulate: 1\u001b[0m\n",
      "\u001b[32m2022-07-06 12:28:02\u001b[0m | \u001b[1mINFO    \u001b[0m | \u001b[1moversampling_weight_factor: 1.0\u001b[0m\n",
      "\u001b[32m2022-07-06 12:28:02\u001b[0m | \u001b[1mINFO    \u001b[0m | \u001b[1mexpansion_size: 10000000\u001b[0m\n",
      "\u001b[32m2022-07-06 12:28:02\u001b[0m | \u001b[1mINFO    \u001b[0m | \u001b[1mprint_results: True\u001b[0m\n",
      "\u001b[32m2022-07-06 12:28:02\u001b[0m | \u001b[1mINFO    \u001b[0m | \u001b[1mvisualize_weights: True\u001b[0m\n",
      "\u001b[32m2022-07-06 12:28:02\u001b[0m | \u001b[1mINFO    \u001b[0m | \u001b[1menable_tqdm: True\u001b[0m\n",
      "\u001b[32m2022-07-06 12:28:02\u001b[0m | \u001b[1mINFO    \u001b[0m | \u001b[1mvisualize_results: yes\u001b[0m\n",
      "\u001b[32m2022-07-06 12:28:02\u001b[0m | \u001b[1mINFO    \u001b[0m | \u001b[1mstore_results: logscale\u001b[0m\n",
      "\u001b[32m2022-07-06 12:28:02\u001b[0m | \u001b[1mINFO    \u001b[0m | \u001b[1mstore_networks: logscale\u001b[0m\n",
      "\u001b[32m2022-07-06 12:28:02\u001b[0m | \u001b[1mINFO    \u001b[0m | \u001b[1mpath_to_data: /localdata/elads/data/datasets/cifar10\u001b[0m\n",
      "\u001b[32m2022-07-06 12:28:02\u001b[0m | \u001b[1mINFO    \u001b[0m | \u001b[1mdropout: 0.0\u001b[0m\n",
      "\u001b[32m2022-07-06 12:28:02\u001b[0m | \u001b[1mINFO    \u001b[0m | \u001b[1mactivation: relu\u001b[0m\n",
      "\u001b[32m2022-07-06 12:28:02\u001b[0m | \u001b[1mINFO    \u001b[0m | \u001b[1mchannels: 512\u001b[0m\n",
      "\u001b[32m2022-07-06 12:28:02\u001b[0m | \u001b[1mINFO    \u001b[0m | \u001b[1mlabel_smoothing: 0.2\u001b[0m\n",
      "\u001b[32m2022-07-06 12:28:02\u001b[0m | \u001b[1mINFO    \u001b[0m | \u001b[1mpadding: 6\u001b[0m\n",
      "\u001b[32m2022-07-06 12:28:02\u001b[0m | \u001b[1mINFO    \u001b[0m | \u001b[1mgain: 0.2\u001b[0m\n",
      "\u001b[32m2022-07-06 12:28:02\u001b[0m | \u001b[1mINFO    \u001b[0m | \u001b[1mturn_point: 1024\u001b[0m\n",
      "\u001b[32m2022-07-06 12:28:02\u001b[0m | \u001b[1mINFO    \u001b[0m | \u001b[1mfinal_point: 3000\u001b[0m\n",
      "\u001b[32m2022-07-06 12:28:02\u001b[0m | \u001b[1mINFO    \u001b[0m | \u001b[1mminimal_gain: 0.05\u001b[0m\n",
      "\u001b[32m2022-07-06 12:28:02\u001b[0m | \u001b[1mINFO    \u001b[0m | \u001b[1mtemperature: 1\u001b[0m\n"
     ]
    }
   ],
   "source": [
    "# here you put all actions which are performed only once before initializing the workers\n",
    "# for example, setti`ng running arguments and experiment:\n",
    "\n",
    "args = beam_arguments(f\"--project-name=cifar10 --root-dir={root_dir} --algorithm=CIFAR10Algorithm --device=0 --half --lr-d=1e-3 --batch-size=512\",\n",
    "                      \"--n-epochs=40 --clip-gradient=1000 --parallel=4 --accumulate=1 --no-deterministic\",\n",
    "                      \"--weight-decay=1e-5 --beta1=0.9 --beta2=0.9\", \n",
    "                      path_to_data=path_to_data, dropout=.0, activation='relu', channels=512, label_smoothing=.2,\n",
    "                      padding=6, gain=.2, turn_point=1024, final_point=3000, minimal_gain=.05, temperature=1)\n",
    "\n",
    "experiment = Experiment(args)"
   ]
  },
  {
   "cell_type": "code",
   "execution_count": 7,
   "id": "4cc43273-649c-402d-8ca1-c5da55ff7f1b",
   "metadata": {
    "collapsed": true,
    "jupyter": {
     "outputs_hidden": true
    },
    "tags": []
   },
   "outputs": [
    {
     "name": "stdout",
     "output_type": "stream",
     "text": [
      "\u001b[32m2022-07-06 12:28:07\u001b[0m | \u001b[1mINFO    \u001b[0m | \u001b[1mInitializing 4 parallel workers\u001b[0m\n",
      "\u001b[32m2022-07-06 12:28:07\u001b[0m | \u001b[1mINFO    \u001b[0m | \u001b[1mMultiprocessing port is: 45081\u001b[0m\n",
      "\u001b[32m2022-07-06 12:28:10\u001b[0m | \u001b[1mINFO    \u001b[0m | \u001b[1mWorker: 3/4 is running...\u001b[0m\n",
      "\u001b[32m2022-07-06 12:28:10\u001b[0m | \u001b[1mINFO    \u001b[0m | \u001b[1mWorker: 4/4 is running...\u001b[0m\n",
      "\u001b[32m2022-07-06 12:28:10\u001b[0m | \u001b[1mINFO    \u001b[0m | \u001b[1mWorker: 1/4 is running...\u001b[0m\n",
      "\u001b[32m2022-07-06 12:28:10\u001b[0m | \u001b[1mINFO    \u001b[0m | \u001b[1mWorker: 2/4 is running...\u001b[0m\n"
     ]
    },
    {
     "name": "stderr",
     "output_type": "stream",
     "text": [
      "[W socket.cpp:558] [c10d] The client socket has failed to connect to [localhost]:45081 (errno: 101 - Network is unreachable).\n",
      "[W socket.cpp:558] [c10d] The client socket has failed to connect to [localhost]:45081 (errno: 101 - Network is unreachable).\n",
      "train: 100%|██████████| 73/73 [00:15<00:00,  4.79it/s]\n",
      "validation:   0%|          | 0/22 [00:00<?, ?it/s]\n",
      "train: 100%|██████████| 73/73 [00:16<00:00,  4.39it/s]\n",
      "validation:   0%|          | 0/22 [00:00<?, ?it/s]\n",
      "validation: 100%|██████████| 22/22 [00:00<00:00, 36.45it/s]"
     ]
    },
    {
     "name": "stdout",
     "output_type": "stream",
     "text": [
      "\n",
      "\u001b[32m2022-07-06 12:28:32\u001b[0m | \u001b[1mINFO    \u001b[0m | \u001b[1mFinished epoch 1/40:\u001b[0m\n",
      "\u001b[32m2022-07-06 12:28:32\u001b[0m | \u001b[1mINFO    \u001b[0m | \u001b[1mtrain:\u001b[0m\n",
      "\u001b[32m2022-07-06 12:28:32\u001b[0m | \u001b[1mINFO    \u001b[0m | \u001b[1mloss:\t| avg: inf      \t|  std: nan      \t|  min: 993.0    \t|  25%: 1.099e+03\t|  50%: 1.308e+03\t|  75%: 1.602e+03\t|  max: inf      \u001b[0m\n",
      "\u001b[32m2022-07-06 12:28:32\u001b[0m | \u001b[1mINFO    \u001b[0m | \u001b[1macc:\t| avg: 0.2357   \t|  std: 0.08556  \t|  min: 0.08398  \t|  25%: 0.1621   \t|  50%: 0.2227   \t|  75%: 0.3125   \t|  max: 0.4141   \u001b[0m\n",
      "\u001b[32m2022-07-06 12:28:32\u001b[0m | \u001b[1mINFO    \u001b[0m | \u001b[1mlr:\t| avg: 5e-05    \t|  std: nan      \t|  min: 5e-05    \t|  25%: 5e-05    \t|  50%: 5e-05    \t|  75%: 5e-05    \t|  max: 5e-05    \u001b[0m\n",
      "\u001b[32m2022-07-06 12:28:32\u001b[0m | \u001b[1mINFO    \u001b[0m | \u001b[1mvalidation:\u001b[0m\n",
      "\u001b[32m2022-07-06 12:28:32\u001b[0m | \u001b[1mINFO    \u001b[0m | \u001b[1mloss:\t| avg: 1.029e+03\t|  std: 24.41    \t|  min: 991.0    \t|  25%: 1.013e+03\t|  50%: 1.026e+03\t|  75%: 1.042e+03\t|  max: 1.078e+03\u001b[0m\n",
      "\u001b[32m2022-07-06 12:28:32\u001b[0m | \u001b[1mINFO    \u001b[0m | \u001b[1macc:\t| avg: 0.3977   \t|  std: 0.01789  \t|  min: 0.3711   \t|  25%: 0.3853   \t|  50%: 0.3975   \t|  75%: 0.4062   \t|  max: 0.4453   \u001b[0m\n"
     ]
    },
    {
     "name": "stderr",
     "output_type": "stream",
     "text": [
      "\n",
      "train:   0%|          | 0/73 [00:00<?, ?it/s]\n",
      "\n",
      "train:   0%|          | 0/73 [00:00<?, ?it/s]\n",
      "train: 100%|██████████| 73/73 [00:14<00:00,  4.99it/s]\n",
      "train: 100%|██████████| 73/73 [00:14<00:00,  4.99it/s]\n",
      "train: 100%|██████████| 73/73 [00:14<00:00,  4.99it/s]\n",
      "train: 100%|██████████| 73/73 [00:14<00:00,  4.99it/s]\n",
      "validation: 100%|██████████| 22/22 [00:00<00:00, 37.24it/s]"
     ]
    },
    {
     "name": "stdout",
     "output_type": "stream",
     "text": [
      "\n",
      "\u001b[32m2022-07-06 12:28:48\u001b[0m | \u001b[1mINFO    \u001b[0m | \u001b[1mFinished epoch 2/40:\u001b[0m\n",
      "\u001b[32m2022-07-06 12:28:48\u001b[0m | \u001b[1mINFO    \u001b[0m | \u001b[1mtrain:\u001b[0m\n",
      "\u001b[32m2022-07-06 12:28:48\u001b[0m | \u001b[1mINFO    \u001b[0m | \u001b[1mloss:\t| avg: 924.1    \t|  std: 61.74    \t|  min: 812.5    \t|  25%: 880.0    \t|  50%: 919.5    \t|  75%: 965.5    \t|  max: 1.06e+03 \u001b[0m\n",
      "\u001b[32m2022-07-06 12:28:48\u001b[0m | \u001b[1mINFO    \u001b[0m | \u001b[1macc:\t| avg: 0.4973   \t|  std: 0.06777  \t|  min: 0.3652   \t|  25%: 0.4473   \t|  50%: 0.5059   \t|  75%: 0.5488   \t|  max: 0.6426   \u001b[0m\n",
      "\u001b[32m2022-07-06 12:28:48\u001b[0m | \u001b[1mINFO    \u001b[0m | \u001b[1mlr:\t| avg: 5e-05    \t|  std: nan      \t|  min: 5e-05    \t|  25%: 5e-05    \t|  50%: 5e-05    \t|  75%: 5e-05    \t|  max: 5e-05    \u001b[0m\n",
      "\u001b[32m2022-07-06 12:28:48\u001b[0m | \u001b[1mINFO    \u001b[0m | \u001b[1mvalidation:\u001b[0m\n",
      "\u001b[32m2022-07-06 12:28:48\u001b[0m | \u001b[1mINFO    \u001b[0m | \u001b[1mloss:\t| avg: 863.6    \t|  std: 20.77    \t|  min: 838.0    \t|  25%: 848.2    \t|  50%: 857.2    \t|  75%: 874.5    \t|  max: 908.0    \u001b[0m\n",
      "\u001b[32m2022-07-06 12:28:48\u001b[0m | \u001b[1mINFO    \u001b[0m | \u001b[1macc:\t| avg: 0.5621   \t|  std: 0.02601  \t|  min: 0.5176   \t|  25%: 0.5439   \t|  50%: 0.5596   \t|  75%: 0.5796   \t|  max: 0.6172   \u001b[0m\n"
     ]
    },
    {
     "name": "stderr",
     "output_type": "stream",
     "text": [
      "\n",
      "train:   0%|          | 0/73 [00:00<?, ?it/s]\n",
      "\n",
      "\n",
      "train: 100%|██████████| 73/73 [00:14<00:00,  5.01it/s]\n",
      "train: 100%|██████████| 73/73 [00:14<00:00,  5.01it/s]\n",
      "train: 100%|██████████| 73/73 [00:14<00:00,  5.01it/s]\n",
      "train: 100%|██████████| 73/73 [00:14<00:00,  5.01it/s]\n",
      "validation: 100%|██████████| 22/22 [00:00<00:00, 37.63it/s]"
     ]
    },
    {
     "name": "stdout",
     "output_type": "stream",
     "text": [
      "\n",
      "\u001b[32m2022-07-06 12:29:04\u001b[0m | \u001b[1mINFO    \u001b[0m | \u001b[1mFinished epoch 3/40:\u001b[0m\n",
      "\u001b[32m2022-07-06 12:29:04\u001b[0m | \u001b[1mINFO    \u001b[0m | \u001b[1mtrain:\u001b[0m\n",
      "\u001b[32m2022-07-06 12:29:04\u001b[0m | \u001b[1mINFO    \u001b[0m | \u001b[1mloss:\t| avg: 808.7    \t|  std: 26.52    \t|  min: 745.5    \t|  25%: 793.5    \t|  50%: 807.0    \t|  75%: 824.5    \t|  max: 889.0    \u001b[0m\n",
      "\u001b[32m2022-07-06 12:29:04\u001b[0m | \u001b[1mINFO    \u001b[0m | \u001b[1macc:\t| avg: 0.626    \t|  std: 0.03987  \t|  min: 0.5293   \t|  25%: 0.6035   \t|  50%: 0.623    \t|  75%: 0.6504   \t|  max: 0.7383   \u001b[0m\n",
      "\u001b[32m2022-07-06 12:29:04\u001b[0m | \u001b[1mINFO    \u001b[0m | \u001b[1mlr:\t| avg: 5e-05    \t|  std: nan      \t|  min: 5e-05    \t|  25%: 5e-05    \t|  50%: 5e-05    \t|  75%: 5e-05    \t|  max: 5e-05    \u001b[0m\n",
      "\u001b[32m2022-07-06 12:29:04\u001b[0m | \u001b[1mINFO    \u001b[0m | \u001b[1mvalidation:\u001b[0m\n",
      "\u001b[32m2022-07-06 12:29:04\u001b[0m | \u001b[1mINFO    \u001b[0m | \u001b[1mloss:\t| avg: 778.9    \t|  std: 15.98    \t|  min: 756.0    \t|  25%: 767.2    \t|  50%: 777.0    \t|  75%: 789.5    \t|  max: 815.0    \u001b[0m\n",
      "\u001b[32m2022-07-06 12:29:04\u001b[0m | \u001b[1mINFO    \u001b[0m | \u001b[1macc:\t| avg: 0.6728   \t|  std: 0.01697  \t|  min: 0.6426   \t|  25%: 0.6641   \t|  50%: 0.6719   \t|  75%: 0.6826   \t|  max: 0.709    \u001b[0m\n"
     ]
    },
    {
     "name": "stderr",
     "output_type": "stream",
     "text": [
      "\n",
      "train:   0%|          | 0/73 [00:00<?, ?it/s]\n",
      "train:   0%|          | 0/73 [00:00<?, ?it/s]\n",
      "\n",
      "train: 100%|██████████| 73/73 [00:14<00:00,  5.00it/s]\n",
      "train: 100%|██████████| 73/73 [00:14<00:00,  5.00it/s]\n",
      "train: 100%|██████████| 73/73 [00:14<00:00,  5.00it/s]\n",
      "train: 100%|██████████| 73/73 [00:14<00:00,  5.00it/s]\n",
      "validation: 100%|██████████| 22/22 [00:00<00:00, 37.13it/s]"
     ]
    },
    {
     "name": "stdout",
     "output_type": "stream",
     "text": [
      "\n",
      "\u001b[32m2022-07-06 12:29:20\u001b[0m | \u001b[1mINFO    \u001b[0m | \u001b[1mFinished epoch 4/40:\u001b[0m\n",
      "\u001b[32m2022-07-06 12:29:20\u001b[0m | \u001b[1mINFO    \u001b[0m | \u001b[1mtrain:\u001b[0m\n",
      "\u001b[32m2022-07-06 12:29:20\u001b[0m | \u001b[1mINFO    \u001b[0m | \u001b[1mloss:\t| avg: 755.4    \t|  std: 24.95    \t|  min: 702.5    \t|  25%: 735.0    \t|  50%: 754.0    \t|  75%: 772.0    \t|  max: 809.0    \u001b[0m\n",
      "\u001b[32m2022-07-06 12:29:20\u001b[0m | \u001b[1mINFO    \u001b[0m | \u001b[1macc:\t| avg: 0.6929   \t|  std: 0.03324  \t|  min: 0.6035   \t|  25%: 0.6719   \t|  50%: 0.6973   \t|  75%: 0.7188   \t|  max: 0.752    \u001b[0m\n",
      "\u001b[32m2022-07-06 12:29:20\u001b[0m | \u001b[1mINFO    \u001b[0m | \u001b[1mlr:\t| avg: 5.703e-05\t|  std: nan      \t|  min: 5.703e-05\t|  25%: 5.703e-05\t|  50%: 5.703e-05\t|  75%: 5.703e-05\t|  max: 5.703e-05\u001b[0m\n",
      "\u001b[32m2022-07-06 12:29:20\u001b[0m | \u001b[1mINFO    \u001b[0m | \u001b[1mvalidation:\u001b[0m\n",
      "\u001b[32m2022-07-06 12:29:20\u001b[0m | \u001b[1mINFO    \u001b[0m | \u001b[1mloss:\t| avg: 786.5    \t|  std: 17.26    \t|  min: 744.5    \t|  25%: 780.8    \t|  50%: 787.2    \t|  75%: 792.8    \t|  max: 821.0    \u001b[0m\n",
      "\u001b[32m2022-07-06 12:29:20\u001b[0m | \u001b[1mINFO    \u001b[0m | \u001b[1macc:\t| avg: 0.6769   \t|  std: 0.02008  \t|  min: 0.6406   \t|  25%: 0.6665   \t|  50%: 0.6777   \t|  75%: 0.6836   \t|  max: 0.7402   \u001b[0m\n"
     ]
    },
    {
     "name": "stderr",
     "output_type": "stream",
     "text": [
      "\n",
      "\n",
      "train:   0%|          | 0/73 [00:00<?, ?it/s]\n",
      "\n",
      "train: 100%|██████████| 73/73 [00:14<00:00,  5.00it/s]\n",
      "train: 100%|██████████| 73/73 [00:14<00:00,  5.00it/s]\n",
      "train: 100%|██████████| 73/73 [00:14<00:00,  4.99it/s]\n",
      "train: 100%|██████████| 73/73 [00:14<00:00,  4.99it/s]\n",
      "validation: 100%|██████████| 22/22 [00:00<00:00, 37.28it/s]"
     ]
    },
    {
     "name": "stdout",
     "output_type": "stream",
     "text": [
      "\n",
      "\u001b[32m2022-07-06 12:29:36\u001b[0m | \u001b[1mINFO    \u001b[0m | \u001b[1mFinished epoch 5/40:\u001b[0m\n",
      "\u001b[32m2022-07-06 12:29:36\u001b[0m | \u001b[1mINFO    \u001b[0m | \u001b[1mtrain:\u001b[0m\n",
      "\u001b[32m2022-07-06 12:29:36\u001b[0m | \u001b[1mINFO    \u001b[0m | \u001b[1mloss:\t| avg: 731.3    \t|  std: 25.39    \t|  min: 690.5    \t|  25%: 716.0    \t|  50%: 728.0    \t|  75%: 746.5    \t|  max: 815.5    \u001b[0m\n",
      "\u001b[32m2022-07-06 12:29:36\u001b[0m | \u001b[1mINFO    \u001b[0m | \u001b[1macc:\t| avg: 0.7293   \t|  std: 0.02984  \t|  min: 0.6445   \t|  25%: 0.7129   \t|  50%: 0.7324   \t|  75%: 0.75     \t|  max: 0.7793   \u001b[0m\n",
      "\u001b[32m2022-07-06 12:29:36\u001b[0m | \u001b[1mINFO    \u001b[0m | \u001b[1mlr:\t| avg: 7.129e-05\t|  std: nan      \t|  min: 7.129e-05\t|  25%: 7.129e-05\t|  50%: 7.129e-05\t|  75%: 7.129e-05\t|  max: 7.129e-05\u001b[0m\n",
      "\u001b[32m2022-07-06 12:29:36\u001b[0m | \u001b[1mINFO    \u001b[0m | \u001b[1mvalidation:\u001b[0m\n",
      "\u001b[32m2022-07-06 12:29:36\u001b[0m | \u001b[1mINFO    \u001b[0m | \u001b[1mloss:\t| avg: 732.4    \t|  std: 14.61    \t|  min: 709.0    \t|  25%: 720.6    \t|  50%: 732.2    \t|  75%: 742.6    \t|  max: 766.0    \u001b[0m\n",
      "\u001b[32m2022-07-06 12:29:36\u001b[0m | \u001b[1mINFO    \u001b[0m | \u001b[1macc:\t| avg: 0.7223   \t|  std: 0.02209  \t|  min: 0.6855   \t|  25%: 0.709    \t|  50%: 0.7188   \t|  75%: 0.7354   \t|  max: 0.7617   \u001b[0m\n"
     ]
    },
    {
     "name": "stderr",
     "output_type": "stream",
     "text": [
      "\n",
      "train:   0%|          | 0/73 [00:00<?, ?it/s]\n",
      "\n",
      "train:   0%|          | 0/73 [00:00<?, ?it/s]\n",
      "train: 100%|██████████| 73/73 [00:14<00:00,  5.00it/s]\n",
      "train: 100%|██████████| 73/73 [00:14<00:00,  5.00it/s]\n",
      "train: 100%|██████████| 73/73 [00:14<00:00,  5.00it/s]\n",
      "train: 100%|██████████| 73/73 [00:14<00:00,  5.00it/s]\n",
      "validation: 100%|██████████| 22/22 [00:00<00:00, 35.21it/s]"
     ]
    },
    {
     "name": "stdout",
     "output_type": "stream",
     "text": [
      "\n",
      "\u001b[32m2022-07-06 12:29:52\u001b[0m | \u001b[1mINFO    \u001b[0m | \u001b[1mFinished epoch 6/40:\u001b[0m\n",
      "\u001b[32m2022-07-06 12:29:52\u001b[0m | \u001b[1mINFO    \u001b[0m | \u001b[1mtrain:\u001b[0m\n",
      "\u001b[32m2022-07-06 12:29:52\u001b[0m | \u001b[1mINFO    \u001b[0m | \u001b[1mloss:\t| avg: 721.0    \t|  std: 19.66    \t|  min: 675.0    \t|  25%: 707.5    \t|  50%: 722.0    \t|  75%: 732.0    \t|  max: 790.0    \u001b[0m\n",
      "\u001b[32m2022-07-06 12:29:52\u001b[0m | \u001b[1mINFO    \u001b[0m | \u001b[1macc:\t| avg: 0.7541   \t|  std: 0.02168  \t|  min: 0.6914   \t|  25%: 0.7422   \t|  50%: 0.7559   \t|  75%: 0.7695   \t|  max: 0.8125   \u001b[0m\n",
      "\u001b[32m2022-07-06 12:29:52\u001b[0m | \u001b[1mINFO    \u001b[0m | \u001b[1mlr:\t| avg: 8.555e-05\t|  std: nan      \t|  min: 8.555e-05\t|  25%: 8.555e-05\t|  50%: 8.555e-05\t|  75%: 8.555e-05\t|  max: 8.555e-05\u001b[0m\n",
      "\u001b[32m2022-07-06 12:29:52\u001b[0m | \u001b[1mINFO    \u001b[0m | \u001b[1mvalidation:\u001b[0m\n",
      "\u001b[32m2022-07-06 12:29:52\u001b[0m | \u001b[1mINFO    \u001b[0m | \u001b[1mloss:\t| avg: 773.8    \t|  std: 28.19    \t|  min: 723.0    \t|  25%: 752.2    \t|  50%: 768.2    \t|  75%: 780.9    \t|  max: 829.0    \u001b[0m\n",
      "\u001b[32m2022-07-06 12:29:52\u001b[0m | \u001b[1mINFO    \u001b[0m | \u001b[1macc:\t| avg: 0.7353   \t|  std: 0.0203   \t|  min: 0.6914   \t|  25%: 0.7246   \t|  50%: 0.7334   \t|  75%: 0.7456   \t|  max: 0.7812   \u001b[0m\n"
     ]
    },
    {
     "name": "stderr",
     "output_type": "stream",
     "text": [
      "\n",
      "\n",
      "\n",
      "\n",
      "train: 100%|██████████| 73/73 [00:14<00:00,  5.01it/s]\n",
      "validation:   0%|          | 0/22 [00:00<?, ?it/s]\n",
      "train: 100%|██████████| 73/73 [00:14<00:00,  5.01it/s]\n",
      "train: 100%|██████████| 73/73 [00:14<00:00,  5.01it/s]\n",
      "validation: 100%|██████████| 22/22 [00:00<00:00, 35.70it/s]"
     ]
    },
    {
     "name": "stdout",
     "output_type": "stream",
     "text": [
      "\n",
      "\u001b[32m2022-07-06 12:30:08\u001b[0m | \u001b[1mINFO    \u001b[0m | \u001b[1mFinished epoch 7/40:\u001b[0m\n",
      "\u001b[32m2022-07-06 12:30:08\u001b[0m | \u001b[1mINFO    \u001b[0m | \u001b[1mtrain:\u001b[0m\n",
      "\u001b[32m2022-07-06 12:30:08\u001b[0m | \u001b[1mINFO    \u001b[0m | \u001b[1mloss:\t| avg: 721.2    \t|  std: 28.79    \t|  min: 666.0    \t|  25%: 699.5    \t|  50%: 718.0    \t|  75%: 741.0    \t|  max: 800.0    \u001b[0m\n",
      "\u001b[32m2022-07-06 12:30:08\u001b[0m | \u001b[1mINFO    \u001b[0m | \u001b[1macc:\t| avg: 0.7643   \t|  std: 0.03148  \t|  min: 0.6699   \t|  25%: 0.75     \t|  50%: 0.7676   \t|  75%: 0.7852   \t|  max: 0.8184   \u001b[0m\n",
      "\u001b[32m2022-07-06 12:30:08\u001b[0m | \u001b[1mINFO    \u001b[0m | \u001b[1mlr:\t| avg: 9.98e-05 \t|  std: nan      \t|  min: 9.98e-05 \t|  25%: 9.98e-05 \t|  50%: 9.98e-05 \t|  75%: 9.98e-05 \t|  max: 9.98e-05 \u001b[0m\n",
      "\u001b[32m2022-07-06 12:30:08\u001b[0m | \u001b[1mINFO    \u001b[0m | \u001b[1mvalidation:\u001b[0m\n",
      "\u001b[32m2022-07-06 12:30:08\u001b[0m | \u001b[1mINFO    \u001b[0m | \u001b[1mloss:\t| avg: 797.3    \t|  std: 55.22    \t|  min: 740.5    \t|  25%: 771.2    \t|  50%: 781.5    \t|  75%: 812.5    \t|  max: 1.006e+03\u001b[0m\n",
      "\u001b[32m2022-07-06 12:30:08\u001b[0m | \u001b[1mINFO    \u001b[0m | \u001b[1macc:\t| avg: 0.7173   \t|  std: 0.01887  \t|  min: 0.668    \t|  25%: 0.707    \t|  50%: 0.7188   \t|  75%: 0.7285   \t|  max: 0.75     \u001b[0m\n"
     ]
    },
    {
     "name": "stderr",
     "output_type": "stream",
     "text": [
      "\n",
      "train:   0%|          | 0/73 [00:00<?, ?it/s]\n",
      "\n",
      "\n",
      "train: 100%|██████████| 73/73 [00:14<00:00,  5.00it/s]\n",
      "train: 100%|██████████| 73/73 [00:14<00:00,  5.00it/s]\n",
      "train: 100%|██████████| 73/73 [00:14<00:00,  5.00it/s]\n",
      "train: 100%|██████████| 73/73 [00:14<00:00,  5.00it/s]\n",
      "validation: 100%|██████████| 22/22 [00:00<00:00, 37.11it/s]"
     ]
    },
    {
     "name": "stdout",
     "output_type": "stream",
     "text": [
      "\n",
      "\u001b[32m2022-07-06 12:30:24\u001b[0m | \u001b[1mINFO    \u001b[0m | \u001b[1mFinished epoch 8/40:\u001b[0m\n",
      "\u001b[32m2022-07-06 12:30:24\u001b[0m | \u001b[1mINFO    \u001b[0m | \u001b[1mtrain:\u001b[0m\n",
      "\u001b[32m2022-07-06 12:30:24\u001b[0m | \u001b[1mINFO    \u001b[0m | \u001b[1mloss:\t| avg: 719.3    \t|  std: 29.96    \t|  min: 656.0    \t|  25%: 698.0    \t|  50%: 716.5    \t|  75%: 732.0    \t|  max: 804.0    \u001b[0m\n",
      "\u001b[32m2022-07-06 12:30:24\u001b[0m | \u001b[1mINFO    \u001b[0m | \u001b[1macc:\t| avg: 0.7814   \t|  std: 0.02569  \t|  min: 0.7344   \t|  25%: 0.7598   \t|  50%: 0.7793   \t|  75%: 0.8008   \t|  max: 0.8359   \u001b[0m\n",
      "\u001b[32m2022-07-06 12:30:24\u001b[0m | \u001b[1mINFO    \u001b[0m | \u001b[1mlr:\t| avg: 0.0001141\t|  std: nan      \t|  min: 0.0001141\t|  25%: 0.0001141\t|  50%: 0.0001141\t|  75%: 0.0001141\t|  max: 0.0001141\u001b[0m\n",
      "\u001b[32m2022-07-06 12:30:24\u001b[0m | \u001b[1mINFO    \u001b[0m | \u001b[1mvalidation:\u001b[0m\n",
      "\u001b[32m2022-07-06 12:30:24\u001b[0m | \u001b[1mINFO    \u001b[0m | \u001b[1mloss:\t| avg: 778.5    \t|  std: 55.88    \t|  min: 716.0    \t|  25%: 740.0    \t|  50%: 757.0    \t|  75%: 797.2    \t|  max: 947.5    \u001b[0m\n",
      "\u001b[32m2022-07-06 12:30:24\u001b[0m | \u001b[1mINFO    \u001b[0m | \u001b[1macc:\t| avg: 0.7277   \t|  std: 0.01901  \t|  min: 0.6914   \t|  25%: 0.7168   \t|  50%: 0.7236   \t|  75%: 0.7437   \t|  max: 0.7559   \u001b[0m\n"
     ]
    },
    {
     "name": "stderr",
     "output_type": "stream",
     "text": [
      "\n",
      "train:   0%|          | 0/73 [00:00<?, ?it/s]\n",
      "train:   0%|          | 0/73 [00:00<?, ?it/s]\n",
      "\n",
      "train: 100%|██████████| 73/73 [00:14<00:00,  4.98it/s]\n",
      "train: 100%|██████████| 73/73 [00:14<00:00,  4.98it/s]\n",
      "train: 100%|██████████| 73/73 [00:14<00:00,  4.97it/s]\n",
      "train: 100%|██████████| 73/73 [00:14<00:00,  4.97it/s]\n",
      "validation: 100%|██████████| 22/22 [00:00<00:00, 37.38it/s]"
     ]
    },
    {
     "name": "stdout",
     "output_type": "stream",
     "text": [
      "\n",
      "\u001b[32m2022-07-06 12:30:40\u001b[0m | \u001b[1mINFO    \u001b[0m | \u001b[1mFinished epoch 9/40:\u001b[0m\n",
      "\u001b[32m2022-07-06 12:30:40\u001b[0m | \u001b[1mINFO    \u001b[0m | \u001b[1mtrain:\u001b[0m\n",
      "\u001b[32m2022-07-06 12:30:40\u001b[0m | \u001b[1mINFO    \u001b[0m | \u001b[1mloss:\t| avg: 717.5    \t|  std: 35.93    \t|  min: 652.0    \t|  25%: 689.0    \t|  50%: 719.0    \t|  75%: 743.5    \t|  max: 827.0    \u001b[0m\n",
      "\u001b[32m2022-07-06 12:30:40\u001b[0m | \u001b[1mINFO    \u001b[0m | \u001b[1macc:\t| avg: 0.7911   \t|  std: 0.02992  \t|  min: 0.6914   \t|  25%: 0.7812   \t|  50%: 0.791    \t|  75%: 0.8105   \t|  max: 0.8516   \u001b[0m\n",
      "\u001b[32m2022-07-06 12:30:40\u001b[0m | \u001b[1mINFO    \u001b[0m | \u001b[1mlr:\t| avg: 0.0001283\t|  std: nan      \t|  min: 0.0001283\t|  25%: 0.0001283\t|  50%: 0.0001283\t|  75%: 0.0001283\t|  max: 0.0001283\u001b[0m\n",
      "\u001b[32m2022-07-06 12:30:40\u001b[0m | \u001b[1mINFO    \u001b[0m | \u001b[1mvalidation:\u001b[0m\n",
      "\u001b[32m2022-07-06 12:30:40\u001b[0m | \u001b[1mINFO    \u001b[0m | \u001b[1mloss:\t| avg: 796.5    \t|  std: 72.07    \t|  min: 728.0    \t|  25%: 744.4    \t|  50%: 766.5    \t|  75%: 820.0    \t|  max: 978.5    \u001b[0m\n",
      "\u001b[32m2022-07-06 12:30:40\u001b[0m | \u001b[1mINFO    \u001b[0m | \u001b[1macc:\t| avg: 0.7655   \t|  std: 0.01655  \t|  min: 0.7363   \t|  25%: 0.752    \t|  50%: 0.7646   \t|  75%: 0.7749   \t|  max: 0.793    \u001b[0m\n"
     ]
    },
    {
     "name": "stderr",
     "output_type": "stream",
     "text": [
      "\n",
      "train:   0%|          | 0/73 [00:00<?, ?it/s]\n",
      "\n",
      "train:   0%|          | 0/73 [00:00<?, ?it/s]\n",
      "train: 100%|██████████| 73/73 [00:14<00:00,  4.96it/s]\n",
      "train: 100%|██████████| 73/73 [00:14<00:00,  4.96it/s]\n",
      "train: 100%|██████████| 73/73 [00:14<00:00,  4.95it/s]\n",
      "train: 100%|██████████| 73/73 [00:14<00:00,  4.95it/s]\n",
      "validation: 100%|██████████| 22/22 [00:00<00:00, 37.35it/s]"
     ]
    },
    {
     "name": "stdout",
     "output_type": "stream",
     "text": [
      "\n",
      "\u001b[32m2022-07-06 12:30:56\u001b[0m | \u001b[1mINFO    \u001b[0m | \u001b[1mFinished epoch 10/40:\u001b[0m\n",
      "\u001b[32m2022-07-06 12:30:56\u001b[0m | \u001b[1mINFO    \u001b[0m | \u001b[1mtrain:\u001b[0m\n",
      "\u001b[32m2022-07-06 12:30:56\u001b[0m | \u001b[1mINFO    \u001b[0m | \u001b[1mloss:\t| avg: 727.3    \t|  std: 42.68    \t|  min: 641.0    \t|  25%: 704.0    \t|  50%: 726.0    \t|  75%: 757.0    \t|  max: 845.0    \u001b[0m\n",
      "\u001b[32m2022-07-06 12:30:56\u001b[0m | \u001b[1mINFO    \u001b[0m | \u001b[1macc:\t| avg: 0.802    \t|  std: 0.03386  \t|  min: 0.6953   \t|  25%: 0.7832   \t|  50%: 0.8047   \t|  75%: 0.8242   \t|  max: 0.8652   \u001b[0m\n",
      "\u001b[32m2022-07-06 12:30:56\u001b[0m | \u001b[1mINFO    \u001b[0m | \u001b[1mlr:\t| avg: 0.0001426\t|  std: nan      \t|  min: 0.0001426\t|  25%: 0.0001426\t|  50%: 0.0001426\t|  75%: 0.0001426\t|  max: 0.0001426\u001b[0m\n",
      "\u001b[32m2022-07-06 12:30:56\u001b[0m | \u001b[1mINFO    \u001b[0m | \u001b[1mvalidation:\u001b[0m\n",
      "\u001b[32m2022-07-06 12:30:56\u001b[0m | \u001b[1mINFO    \u001b[0m | \u001b[1mloss:\t| avg: 778.2    \t|  std: 56.57    \t|  min: 721.5    \t|  25%: 740.1    \t|  50%: 759.2    \t|  75%: 790.1    \t|  max: 898.0    \u001b[0m\n",
      "\u001b[32m2022-07-06 12:30:56\u001b[0m | \u001b[1mINFO    \u001b[0m | \u001b[1macc:\t| avg: 0.7604   \t|  std: 0.0194   \t|  min: 0.7285   \t|  25%: 0.7466   \t|  50%: 0.7568   \t|  75%: 0.7764   \t|  max: 0.7988   \u001b[0m\n"
     ]
    },
    {
     "name": "stderr",
     "output_type": "stream",
     "text": [
      "\n",
      "train:   0%|          | 0/73 [00:00<?, ?it/s]\n",
      "\n",
      "train:   0%|          | 0/73 [00:00<?, ?it/s]\n",
      "train: 100%|██████████| 73/73 [00:14<00:00,  4.95it/s]\n",
      "train: 100%|██████████| 73/73 [00:14<00:00,  4.95it/s]\n",
      "train: 100%|██████████| 73/73 [00:14<00:00,  4.95it/s]\n",
      "validation:   0%|          | 0/22 [00:00<?, ?it/s]\n",
      "validation: 100%|██████████| 22/22 [00:00<00:00, 37.41it/s]"
     ]
    },
    {
     "name": "stdout",
     "output_type": "stream",
     "text": [
      "\n",
      "\u001b[32m2022-07-06 12:31:13\u001b[0m | \u001b[1mINFO    \u001b[0m | \u001b[1mFinished epoch 11/40:\u001b[0m\n",
      "\u001b[32m2022-07-06 12:31:13\u001b[0m | \u001b[1mINFO    \u001b[0m | \u001b[1mtrain:\u001b[0m\n",
      "\u001b[32m2022-07-06 12:31:13\u001b[0m | \u001b[1mINFO    \u001b[0m | \u001b[1mloss:\t| avg: 710.3    \t|  std: 44.0     \t|  min: 631.0    \t|  25%: 675.0    \t|  50%: 703.0    \t|  75%: 737.0    \t|  max: 829.5    \u001b[0m\n",
      "\u001b[32m2022-07-06 12:31:13\u001b[0m | \u001b[1mINFO    \u001b[0m | \u001b[1macc:\t| avg: 0.8194   \t|  std: 0.02619  \t|  min: 0.7441   \t|  25%: 0.8008   \t|  50%: 0.8223   \t|  75%: 0.8379   \t|  max: 0.8691   \u001b[0m\n",
      "\u001b[32m2022-07-06 12:31:13\u001b[0m | \u001b[1mINFO    \u001b[0m | \u001b[1mlr:\t| avg: 0.0001568\t|  std: nan      \t|  min: 0.0001568\t|  25%: 0.0001568\t|  50%: 0.0001568\t|  75%: 0.0001568\t|  max: 0.0001568\u001b[0m\n",
      "\u001b[32m2022-07-06 12:31:13\u001b[0m | \u001b[1mINFO    \u001b[0m | \u001b[1mvalidation:\u001b[0m\n",
      "\u001b[32m2022-07-06 12:31:13\u001b[0m | \u001b[1mINFO    \u001b[0m | \u001b[1mloss:\t| avg: 788.7    \t|  std: 58.93    \t|  min: 708.0    \t|  25%: 749.6    \t|  50%: 778.0    \t|  75%: 829.1    \t|  max: 908.0    \u001b[0m\n",
      "\u001b[32m2022-07-06 12:31:13\u001b[0m | \u001b[1mINFO    \u001b[0m | \u001b[1macc:\t| avg: 0.7881   \t|  std: 0.01787  \t|  min: 0.7461   \t|  25%: 0.7778   \t|  50%: 0.7871   \t|  75%: 0.7979   \t|  max: 0.8184   \u001b[0m\n"
     ]
    },
    {
     "name": "stderr",
     "output_type": "stream",
     "text": [
      "\n",
      "train:   0%|          | 0/73 [00:00<?, ?it/s]\n",
      "\n",
      "train:   0%|          | 0/73 [00:00<?, ?it/s]\n",
      "train: 100%|██████████| 73/73 [00:14<00:00,  5.02it/s]\n",
      "train: 100%|██████████| 73/73 [00:14<00:00,  5.02it/s]\n",
      "train: 100%|██████████| 73/73 [00:14<00:00,  5.02it/s]\n",
      "train: 100%|██████████| 73/73 [00:14<00:00,  5.02it/s]\n",
      "validation: 100%|██████████| 22/22 [00:00<00:00, 36.99it/s]"
     ]
    },
    {
     "name": "stdout",
     "output_type": "stream",
     "text": [
      "\n",
      "\u001b[32m2022-07-06 12:31:28\u001b[0m | \u001b[1mINFO    \u001b[0m | \u001b[1mFinished epoch 12/40:\u001b[0m\n",
      "\u001b[32m2022-07-06 12:31:28\u001b[0m | \u001b[1mINFO    \u001b[0m | \u001b[1mtrain:\u001b[0m\n",
      "\u001b[32m2022-07-06 12:31:28\u001b[0m | \u001b[1mINFO    \u001b[0m | \u001b[1mloss:\t| avg: 703.3    \t|  std: 40.33    \t|  min: 624.0    \t|  25%: 671.5    \t|  50%: 701.5    \t|  75%: 732.0    \t|  max: 802.0    \u001b[0m\n",
      "\u001b[32m2022-07-06 12:31:28\u001b[0m | \u001b[1mINFO    \u001b[0m | \u001b[1macc:\t| avg: 0.8301   \t|  std: 0.02834  \t|  min: 0.7734   \t|  25%: 0.8086   \t|  50%: 0.8301   \t|  75%: 0.8477   \t|  max: 0.9102   \u001b[0m\n",
      "\u001b[32m2022-07-06 12:31:28\u001b[0m | \u001b[1mINFO    \u001b[0m | \u001b[1mlr:\t| avg: 0.0001711\t|  std: nan      \t|  min: 0.0001711\t|  25%: 0.0001711\t|  50%: 0.0001711\t|  75%: 0.0001711\t|  max: 0.0001711\u001b[0m\n",
      "\u001b[32m2022-07-06 12:31:28\u001b[0m | \u001b[1mINFO    \u001b[0m | \u001b[1mvalidation:\u001b[0m\n",
      "\u001b[32m2022-07-06 12:31:28\u001b[0m | \u001b[1mINFO    \u001b[0m | \u001b[1mloss:\t| avg: 779.7    \t|  std: 70.39    \t|  min: 706.0    \t|  25%: 736.0    \t|  50%: 751.5    \t|  75%: 827.0    \t|  max: 969.0    \u001b[0m\n",
      "\u001b[32m2022-07-06 12:31:28\u001b[0m | \u001b[1mINFO    \u001b[0m | \u001b[1macc:\t| avg: 0.7634   \t|  std: 0.02298  \t|  min: 0.7168   \t|  25%: 0.752    \t|  50%: 0.7598   \t|  75%: 0.7803   \t|  max: 0.7988   \u001b[0m\n"
     ]
    },
    {
     "name": "stderr",
     "output_type": "stream",
     "text": [
      "\n",
      "train:   0%|          | 0/73 [00:00<?, ?it/s]\n",
      "\n",
      "train:   0%|          | 0/73 [00:00<?, ?it/s]\n",
      "train: 100%|██████████| 73/73 [00:14<00:00,  5.06it/s]\n",
      "train: 100%|██████████| 73/73 [00:14<00:00,  5.06it/s]\n",
      "train: 100%|██████████| 73/73 [00:14<00:00,  5.05it/s]\n",
      "train: 100%|██████████| 73/73 [00:14<00:00,  5.05it/s]\n",
      "validation: 100%|██████████| 22/22 [00:00<00:00, 37.34it/s]"
     ]
    },
    {
     "name": "stdout",
     "output_type": "stream",
     "text": [
      "\n",
      "\u001b[32m2022-07-06 12:31:44\u001b[0m | \u001b[1mINFO    \u001b[0m | \u001b[1mFinished epoch 13/40:\u001b[0m\n",
      "\u001b[32m2022-07-06 12:31:44\u001b[0m | \u001b[1mINFO    \u001b[0m | \u001b[1mtrain:\u001b[0m\n",
      "\u001b[32m2022-07-06 12:31:44\u001b[0m | \u001b[1mINFO    \u001b[0m | \u001b[1mloss:\t| avg: 698.1    \t|  std: 43.73    \t|  min: 628.0    \t|  25%: 666.5    \t|  50%: 689.0    \t|  75%: 722.0    \t|  max: 832.5    \u001b[0m\n",
      "\u001b[32m2022-07-06 12:31:44\u001b[0m | \u001b[1mINFO    \u001b[0m | \u001b[1macc:\t| avg: 0.8443   \t|  std: 0.02363  \t|  min: 0.7852   \t|  25%: 0.8262   \t|  50%: 0.8477   \t|  75%: 0.8594   \t|  max: 0.8926   \u001b[0m\n",
      "\u001b[32m2022-07-06 12:31:44\u001b[0m | \u001b[1mINFO    \u001b[0m | \u001b[1mlr:\t| avg: 0.0001854\t|  std: nan      \t|  min: 0.0001854\t|  25%: 0.0001854\t|  50%: 0.0001854\t|  75%: 0.0001854\t|  max: 0.0001854\u001b[0m\n",
      "\u001b[32m2022-07-06 12:31:44\u001b[0m | \u001b[1mINFO    \u001b[0m | \u001b[1mvalidation:\u001b[0m\n",
      "\u001b[32m2022-07-06 12:31:44\u001b[0m | \u001b[1mINFO    \u001b[0m | \u001b[1mloss:\t| avg: 711.8    \t|  std: 29.01    \t|  min: 649.0    \t|  25%: 696.1    \t|  50%: 716.0    \t|  75%: 721.8    \t|  max: 783.0    \u001b[0m\n",
      "\u001b[32m2022-07-06 12:31:44\u001b[0m | \u001b[1mINFO    \u001b[0m | \u001b[1macc:\t| avg: 0.8086   \t|  std: 0.01856  \t|  min: 0.7715   \t|  25%: 0.7959   \t|  50%: 0.8086   \t|  75%: 0.8193   \t|  max: 0.8477   \u001b[0m\n"
     ]
    },
    {
     "name": "stderr",
     "output_type": "stream",
     "text": [
      "\n",
      "train:   0%|          | 0/73 [00:00<?, ?it/s]\n",
      "\n",
      "\n",
      "train: 100%|██████████| 73/73 [00:14<00:00,  5.05it/s]\n",
      "train: 100%|██████████| 73/73 [00:14<00:00,  5.04it/s]\n",
      "train: 100%|██████████| 73/73 [00:14<00:00,  5.04it/s]\n",
      "train: 100%|██████████| 73/73 [00:14<00:00,  5.04it/s]\n",
      "validation: 100%|██████████| 22/22 [00:00<00:00, 37.28it/s]"
     ]
    },
    {
     "name": "stdout",
     "output_type": "stream",
     "text": [
      "\n",
      "\u001b[32m2022-07-06 12:32:00\u001b[0m | \u001b[1mINFO    \u001b[0m | \u001b[1mFinished epoch 14/40:\u001b[0m\n",
      "\u001b[32m2022-07-06 12:32:00\u001b[0m | \u001b[1mINFO    \u001b[0m | \u001b[1mtrain:\u001b[0m\n",
      "\u001b[32m2022-07-06 12:32:00\u001b[0m | \u001b[1mINFO    \u001b[0m | \u001b[1mloss:\t| avg: 686.0    \t|  std: 45.49    \t|  min: 600.5    \t|  25%: 654.0    \t|  50%: 678.0    \t|  75%: 710.5    \t|  max: 804.5    \u001b[0m\n",
      "\u001b[32m2022-07-06 12:32:00\u001b[0m | \u001b[1mINFO    \u001b[0m | \u001b[1macc:\t| avg: 0.8602   \t|  std: 0.02515  \t|  min: 0.7617   \t|  25%: 0.8457   \t|  50%: 0.8594   \t|  75%: 0.877    \t|  max: 0.9082   \u001b[0m\n",
      "\u001b[32m2022-07-06 12:32:00\u001b[0m | \u001b[1mINFO    \u001b[0m | \u001b[1mlr:\t| avg: 0.0001996\t|  std: nan      \t|  min: 0.0001996\t|  25%: 0.0001996\t|  50%: 0.0001996\t|  75%: 0.0001996\t|  max: 0.0001996\u001b[0m\n",
      "\u001b[32m2022-07-06 12:32:00\u001b[0m | \u001b[1mINFO    \u001b[0m | \u001b[1mvalidation:\u001b[0m\n",
      "\u001b[32m2022-07-06 12:32:00\u001b[0m | \u001b[1mINFO    \u001b[0m | \u001b[1mloss:\t| avg: 663.7    \t|  std: 49.56    \t|  min: 624.0    \t|  25%: 638.6    \t|  50%: 645.0    \t|  75%: 656.2    \t|  max: 811.5    \u001b[0m\n",
      "\u001b[32m2022-07-06 12:32:00\u001b[0m | \u001b[1mINFO    \u001b[0m | \u001b[1macc:\t| avg: 0.8256   \t|  std: 0.01516  \t|  min: 0.7949   \t|  25%: 0.8164   \t|  50%: 0.8252   \t|  75%: 0.8335   \t|  max: 0.8555   \u001b[0m\n"
     ]
    },
    {
     "name": "stderr",
     "output_type": "stream",
     "text": [
      "\n",
      "train:   0%|          | 0/73 [00:00<?, ?it/s]\n",
      "\n",
      "\n",
      "train: 100%|██████████| 73/73 [00:14<00:00,  5.07it/s]\n",
      "validation:   0%|          | 0/22 [00:00<?, ?it/s]\n",
      "train: 100%|██████████| 73/73 [00:14<00:00,  5.07it/s]\n",
      "train: 100%|██████████| 73/73 [00:14<00:00,  5.06it/s]\n",
      "validation: 100%|██████████| 22/22 [00:00<00:00, 36.33it/s]"
     ]
    },
    {
     "name": "stdout",
     "output_type": "stream",
     "text": [
      "\n",
      "\u001b[32m2022-07-06 12:32:16\u001b[0m | \u001b[1mINFO    \u001b[0m | \u001b[1mFinished epoch 15/40:\u001b[0m\n",
      "\u001b[32m2022-07-06 12:32:16\u001b[0m | \u001b[1mINFO    \u001b[0m | \u001b[1mtrain:\u001b[0m\n",
      "\u001b[32m2022-07-06 12:32:16\u001b[0m | \u001b[1mINFO    \u001b[0m | \u001b[1mloss:\t| avg: 631.0    \t|  std: 39.36    \t|  min: 556.0    \t|  25%: 604.0    \t|  50%: 628.0    \t|  75%: 658.0    \t|  max: 719.0    \u001b[0m\n",
      "\u001b[32m2022-07-06 12:32:16\u001b[0m | \u001b[1mINFO    \u001b[0m | \u001b[1macc:\t| avg: 0.8925   \t|  std: 0.02382  \t|  min: 0.8262   \t|  25%: 0.877    \t|  50%: 0.8965   \t|  75%: 0.9102   \t|  max: 0.9316   \u001b[0m\n",
      "\u001b[32m2022-07-06 12:32:16\u001b[0m | \u001b[1mINFO    \u001b[0m | \u001b[1mlr:\t| avg: 0.0001928\t|  std: nan      \t|  min: 0.0001928\t|  25%: 0.0001928\t|  50%: 0.0001928\t|  75%: 0.0001928\t|  max: 0.0001928\u001b[0m\n",
      "\u001b[32m2022-07-06 12:32:16\u001b[0m | \u001b[1mINFO    \u001b[0m | \u001b[1mvalidation:\u001b[0m\n",
      "\u001b[32m2022-07-06 12:32:16\u001b[0m | \u001b[1mINFO    \u001b[0m | \u001b[1mloss:\t| avg: 618.2    \t|  std: 29.49    \t|  min: 587.0    \t|  25%: 601.2    \t|  50%: 606.8    \t|  75%: 630.5    \t|  max: 700.0    \u001b[0m\n",
      "\u001b[32m2022-07-06 12:32:16\u001b[0m | \u001b[1mINFO    \u001b[0m | \u001b[1macc:\t| avg: 0.8599   \t|  std: 0.01784  \t|  min: 0.8301   \t|  25%: 0.8506   \t|  50%: 0.8613   \t|  75%: 0.8691   \t|  max: 0.8945   \u001b[0m\n"
     ]
    },
    {
     "name": "stderr",
     "output_type": "stream",
     "text": [
      "\n",
      "train:   0%|          | 0/73 [00:00<?, ?it/s]\n",
      "\n",
      "\n",
      "train: 100%|██████████| 73/73 [00:14<00:00,  5.07it/s]\n",
      "train: 100%|██████████| 73/73 [00:14<00:00,  5.07it/s]\n",
      "\n",
      "train: 100%|██████████| 73/73 [00:14<00:00,  5.07it/s]\n",
      "validation: 100%|██████████| 22/22 [00:00<00:00, 37.64it/s]"
     ]
    },
    {
     "name": "stdout",
     "output_type": "stream",
     "text": [
      "\n",
      "\u001b[32m2022-07-06 12:32:32\u001b[0m | \u001b[1mINFO    \u001b[0m | \u001b[1mFinished epoch 16/40:\u001b[0m\n",
      "\u001b[32m2022-07-06 12:32:32\u001b[0m | \u001b[1mINFO    \u001b[0m | \u001b[1mtrain:\u001b[0m\n",
      "\u001b[32m2022-07-06 12:32:32\u001b[0m | \u001b[1mINFO    \u001b[0m | \u001b[1mloss:\t| avg: 580.3    \t|  std: 26.2     \t|  min: 541.0    \t|  25%: 561.0    \t|  50%: 578.0    \t|  75%: 596.0    \t|  max: 657.0    \u001b[0m\n",
      "\u001b[32m2022-07-06 12:32:32\u001b[0m | \u001b[1mINFO    \u001b[0m | \u001b[1macc:\t| avg: 0.9257   \t|  std: 0.01752  \t|  min: 0.8867   \t|  25%: 0.9141   \t|  50%: 0.9277   \t|  75%: 0.9395   \t|  max: 0.957    \u001b[0m\n",
      "\u001b[32m2022-07-06 12:32:32\u001b[0m | \u001b[1mINFO    \u001b[0m | \u001b[1mlr:\t| avg: 0.0001854\t|  std: nan      \t|  min: 0.0001854\t|  25%: 0.0001854\t|  50%: 0.0001854\t|  75%: 0.0001854\t|  max: 0.0001854\u001b[0m\n",
      "\u001b[32m2022-07-06 12:32:32\u001b[0m | \u001b[1mINFO    \u001b[0m | \u001b[1mvalidation:\u001b[0m\n",
      "\u001b[32m2022-07-06 12:32:32\u001b[0m | \u001b[1mINFO    \u001b[0m | \u001b[1mloss:\t| avg: 657.2    \t|  std: 92.77    \t|  min: 611.5    \t|  25%: 616.8    \t|  50%: 630.5    \t|  75%: 650.8    \t|  max: 1.05e+03 \u001b[0m\n",
      "\u001b[32m2022-07-06 12:32:32\u001b[0m | \u001b[1mINFO    \u001b[0m | \u001b[1macc:\t| avg: 0.8539   \t|  std: 0.01708  \t|  min: 0.8281   \t|  25%: 0.8384   \t|  50%: 0.8555   \t|  75%: 0.8672   \t|  max: 0.8809   \u001b[0m\n"
     ]
    },
    {
     "name": "stderr",
     "output_type": "stream",
     "text": [
      "\n",
      "\n",
      "train:   0%|          | 0/73 [00:00<?, ?it/s]\n",
      "\n",
      "train: 100%|██████████| 73/73 [00:14<00:00,  5.10it/s]\n",
      "train: 100%|██████████| 73/73 [00:14<00:00,  5.10it/s]\n",
      "train: 100%|██████████| 73/73 [00:14<00:00,  5.10it/s]\n",
      "train: 100%|██████████| 73/73 [00:14<00:00,  5.10it/s]\n",
      "validation: 100%|██████████| 22/22 [00:00<00:00, 37.71it/s]"
     ]
    },
    {
     "name": "stdout",
     "output_type": "stream",
     "text": [
      "\n",
      "\u001b[32m2022-07-06 12:32:47\u001b[0m | \u001b[1mINFO    \u001b[0m | \u001b[1mFinished epoch 17/40:\u001b[0m\n",
      "\u001b[32m2022-07-06 12:32:47\u001b[0m | \u001b[1mINFO    \u001b[0m | \u001b[1mtrain:\u001b[0m\n",
      "\u001b[32m2022-07-06 12:32:47\u001b[0m | \u001b[1mINFO    \u001b[0m | \u001b[1mloss:\t| avg: 558.7    \t|  std: 19.0     \t|  min: 525.0    \t|  25%: 546.5    \t|  50%: 557.0    \t|  75%: 569.0    \t|  max: 616.0    \u001b[0m\n",
      "\u001b[32m2022-07-06 12:32:47\u001b[0m | \u001b[1mINFO    \u001b[0m | \u001b[1macc:\t| avg: 0.9398   \t|  std: 0.01474  \t|  min: 0.8887   \t|  25%: 0.9336   \t|  50%: 0.9414   \t|  75%: 0.9492   \t|  max: 0.9648   \u001b[0m\n",
      "\u001b[32m2022-07-06 12:32:47\u001b[0m | \u001b[1mINFO    \u001b[0m | \u001b[1mlr:\t| avg: 0.000178 \t|  std: nan      \t|  min: 0.000178 \t|  25%: 0.000178 \t|  50%: 0.000178 \t|  75%: 0.000178 \t|  max: 0.000178 \u001b[0m\n",
      "\u001b[32m2022-07-06 12:32:47\u001b[0m | \u001b[1mINFO    \u001b[0m | \u001b[1mvalidation:\u001b[0m\n",
      "\u001b[32m2022-07-06 12:32:47\u001b[0m | \u001b[1mINFO    \u001b[0m | \u001b[1mloss:\t| avg: 605.8    \t|  std: 24.72    \t|  min: 577.0    \t|  25%: 592.6    \t|  50%: 596.0    \t|  75%: 611.6    \t|  max: 670.0    \u001b[0m\n",
      "\u001b[32m2022-07-06 12:32:47\u001b[0m | \u001b[1mINFO    \u001b[0m | \u001b[1macc:\t| avg: 0.8706   \t|  std: 0.01412  \t|  min: 0.8379   \t|  25%: 0.8604   \t|  50%: 0.8711   \t|  75%: 0.8804   \t|  max: 0.8926   \u001b[0m\n"
     ]
    },
    {
     "name": "stderr",
     "output_type": "stream",
     "text": [
      "\n",
      "train:   0%|          | 0/73 [00:00<?, ?it/s]\n",
      "train:   0%|          | 0/73 [00:00<?, ?it/s]\n",
      "\n",
      "train: 100%|██████████| 73/73 [00:14<00:00,  5.08it/s]\n",
      "train: 100%|██████████| 73/73 [00:14<00:00,  5.08it/s]\n",
      "train: 100%|██████████| 73/73 [00:14<00:00,  5.07it/s]\n",
      "train: 100%|██████████| 73/73 [00:14<00:00,  5.07it/s]\n",
      "validation: 100%|██████████| 22/22 [00:00<00:00, 37.45it/s]"
     ]
    },
    {
     "name": "stdout",
     "output_type": "stream",
     "text": [
      "\n",
      "\u001b[32m2022-07-06 12:33:03\u001b[0m | \u001b[1mINFO    \u001b[0m | \u001b[1mFinished epoch 18/40:\u001b[0m\n",
      "\u001b[32m2022-07-06 12:33:03\u001b[0m | \u001b[1mINFO    \u001b[0m | \u001b[1mtrain:\u001b[0m\n",
      "\u001b[32m2022-07-06 12:33:03\u001b[0m | \u001b[1mINFO    \u001b[0m | \u001b[1mloss:\t| avg: 536.4    \t|  std: 15.69    \t|  min: 508.5    \t|  25%: 527.0    \t|  50%: 534.0    \t|  75%: 545.0    \t|  max: 604.0    \u001b[0m\n",
      "\u001b[32m2022-07-06 12:33:03\u001b[0m | \u001b[1mINFO    \u001b[0m | \u001b[1macc:\t| avg: 0.9533   \t|  std: 0.01314  \t|  min: 0.9199   \t|  25%: 0.9453   \t|  50%: 0.9531   \t|  75%: 0.9629   \t|  max: 0.9844   \u001b[0m\n",
      "\u001b[32m2022-07-06 12:33:03\u001b[0m | \u001b[1mINFO    \u001b[0m | \u001b[1mlr:\t| avg: 0.0001706\t|  std: nan      \t|  min: 0.0001706\t|  25%: 0.0001706\t|  50%: 0.0001706\t|  75%: 0.0001706\t|  max: 0.0001706\u001b[0m\n",
      "\u001b[32m2022-07-06 12:33:03\u001b[0m | \u001b[1mINFO    \u001b[0m | \u001b[1mvalidation:\u001b[0m\n",
      "\u001b[32m2022-07-06 12:33:03\u001b[0m | \u001b[1mINFO    \u001b[0m | \u001b[1mloss:\t| avg: 573.6    \t|  std: 16.06    \t|  min: 550.0    \t|  25%: 564.2    \t|  50%: 572.5    \t|  75%: 580.0    \t|  max: 628.0    \u001b[0m\n",
      "\u001b[32m2022-07-06 12:33:03\u001b[0m | \u001b[1mINFO    \u001b[0m | \u001b[1macc:\t| avg: 0.896    \t|  std: 0.01275  \t|  min: 0.873    \t|  25%: 0.8867   \t|  50%: 0.8945   \t|  75%: 0.9038   \t|  max: 0.9258   \u001b[0m\n"
     ]
    },
    {
     "name": "stderr",
     "output_type": "stream",
     "text": [
      "\n",
      "train:   0%|          | 0/73 [00:00<?, ?it/s]\n",
      "train:   0%|          | 0/73 [00:00<?, ?it/s]\n",
      "\n",
      "train: 100%|██████████| 73/73 [00:14<00:00,  5.13it/s]\n",
      "train: 100%|██████████| 73/73 [00:14<00:00,  5.13it/s]\n",
      "train: 100%|██████████| 73/73 [00:14<00:00,  5.13it/s]\n",
      "train: 100%|██████████| 73/73 [00:14<00:00,  5.13it/s]\n",
      "validation: 100%|██████████| 22/22 [00:00<00:00, 37.52it/s]"
     ]
    },
    {
     "name": "stdout",
     "output_type": "stream",
     "text": [
      "\n",
      "\u001b[32m2022-07-06 12:33:19\u001b[0m | \u001b[1mINFO    \u001b[0m | \u001b[1mFinished epoch 19/40:\u001b[0m\n",
      "\u001b[32m2022-07-06 12:33:19\u001b[0m | \u001b[1mINFO    \u001b[0m | \u001b[1mtrain:\u001b[0m\n",
      "\u001b[32m2022-07-06 12:33:19\u001b[0m | \u001b[1mINFO    \u001b[0m | \u001b[1mloss:\t| avg: 521.4    \t|  std: 14.52    \t|  min: 498.5    \t|  25%: 511.0    \t|  50%: 518.0    \t|  75%: 527.0    \t|  max: 571.5    \u001b[0m\n",
      "\u001b[32m2022-07-06 12:33:19\u001b[0m | \u001b[1mINFO    \u001b[0m | \u001b[1macc:\t| avg: 0.9636   \t|  std: 0.01295  \t|  min: 0.9297   \t|  25%: 0.9551   \t|  50%: 0.9668   \t|  75%: 0.9727   \t|  max: 0.9863   \u001b[0m\n",
      "\u001b[32m2022-07-06 12:33:19\u001b[0m | \u001b[1mINFO    \u001b[0m | \u001b[1mlr:\t| avg: 0.0001633\t|  std: nan      \t|  min: 0.0001633\t|  25%: 0.0001633\t|  50%: 0.0001633\t|  75%: 0.0001633\t|  max: 0.0001633\u001b[0m\n",
      "\u001b[32m2022-07-06 12:33:19\u001b[0m | \u001b[1mINFO    \u001b[0m | \u001b[1mvalidation:\u001b[0m\n",
      "\u001b[32m2022-07-06 12:33:19\u001b[0m | \u001b[1mINFO    \u001b[0m | \u001b[1mloss:\t| avg: 606.6    \t|  std: 31.4     \t|  min: 574.0    \t|  25%: 583.5    \t|  50%: 599.0    \t|  75%: 616.5    \t|  max: 685.0    \u001b[0m\n",
      "\u001b[32m2022-07-06 12:33:19\u001b[0m | \u001b[1mINFO    \u001b[0m | \u001b[1macc:\t| avg: 0.8759   \t|  std: 0.0188   \t|  min: 0.834    \t|  25%: 0.8638   \t|  50%: 0.8779   \t|  75%: 0.8887   \t|  max: 0.9023   \u001b[0m\n"
     ]
    },
    {
     "name": "stderr",
     "output_type": "stream",
     "text": [
      "\n",
      "train:   0%|          | 0/73 [00:00<?, ?it/s]\n",
      "train:   0%|          | 0/73 [00:00<?, ?it/s]\n",
      "\n",
      "train: 100%|██████████| 73/73 [00:14<00:00,  5.13it/s]\n",
      "train: 100%|██████████| 73/73 [00:14<00:00,  5.13it/s]\n",
      "train: 100%|██████████| 73/73 [00:14<00:00,  5.13it/s]\n",
      "train: 100%|██████████| 73/73 [00:14<00:00,  5.13it/s]\n",
      "validation: 100%|██████████| 22/22 [00:00<00:00, 37.48it/s]"
     ]
    },
    {
     "name": "stdout",
     "output_type": "stream",
     "text": [
      "\n",
      "\u001b[32m2022-07-06 12:33:34\u001b[0m | \u001b[1mINFO    \u001b[0m | \u001b[1mFinished epoch 20/40:\u001b[0m\n",
      "\u001b[32m2022-07-06 12:33:34\u001b[0m | \u001b[1mINFO    \u001b[0m | \u001b[1mtrain:\u001b[0m\n",
      "\u001b[32m2022-07-06 12:33:34\u001b[0m | \u001b[1mINFO    \u001b[0m | \u001b[1mloss:\t| avg: 509.0    \t|  std: 14.28    \t|  min: 491.2    \t|  25%: 499.0    \t|  50%: 506.2    \t|  75%: 515.0    \t|  max: 555.0    \u001b[0m\n",
      "\u001b[32m2022-07-06 12:33:34\u001b[0m | \u001b[1mINFO    \u001b[0m | \u001b[1macc:\t| avg: 0.9722   \t|  std: 0.01407  \t|  min: 0.9199   \t|  25%: 0.9668   \t|  50%: 0.9727   \t|  75%: 0.9805   \t|  max: 0.9961   \u001b[0m\n",
      "\u001b[32m2022-07-06 12:33:34\u001b[0m | \u001b[1mINFO    \u001b[0m | \u001b[1mlr:\t| avg: 0.0001559\t|  std: nan      \t|  min: 0.0001559\t|  25%: 0.0001559\t|  50%: 0.0001559\t|  75%: 0.0001559\t|  max: 0.0001559\u001b[0m\n",
      "\u001b[32m2022-07-06 12:33:34\u001b[0m | \u001b[1mINFO    \u001b[0m | \u001b[1mvalidation:\u001b[0m\n",
      "\u001b[32m2022-07-06 12:33:34\u001b[0m | \u001b[1mINFO    \u001b[0m | \u001b[1mloss:\t| avg: 564.4    \t|  std: 14.26    \t|  min: 550.0    \t|  25%: 554.0    \t|  50%: 559.0    \t|  75%: 571.0    \t|  max: 602.0    \u001b[0m\n",
      "\u001b[32m2022-07-06 12:33:34\u001b[0m | \u001b[1mINFO    \u001b[0m | \u001b[1macc:\t| avg: 0.9028   \t|  std: 0.008458 \t|  min: 0.8867   \t|  25%: 0.8965   \t|  50%: 0.9023   \t|  75%: 0.9097   \t|  max: 0.918    \u001b[0m\n"
     ]
    },
    {
     "name": "stderr",
     "output_type": "stream",
     "text": [
      "\n",
      "train:   0%|          | 0/73 [00:00<?, ?it/s]\n",
      "train:   0%|          | 0/73 [00:00<?, ?it/s]\n",
      "\n",
      "train: 100%|██████████| 73/73 [00:14<00:00,  5.17it/s]\n",
      "train: 100%|██████████| 73/73 [00:14<00:00,  5.17it/s]\n",
      "validation:   0%|          | 0/22 [00:00<?, ?it/s]\n",
      "train: 100%|██████████| 73/73 [00:14<00:00,  5.17it/s]\n",
      "validation: 100%|██████████| 22/22 [00:00<00:00, 37.39it/s]"
     ]
    },
    {
     "name": "stdout",
     "output_type": "stream",
     "text": [
      "\n",
      "\u001b[32m2022-07-06 12:33:50\u001b[0m | \u001b[1mINFO    \u001b[0m | \u001b[1mFinished epoch 21/40:\u001b[0m\n",
      "\u001b[32m2022-07-06 12:33:50\u001b[0m | \u001b[1mINFO    \u001b[0m | \u001b[1mtrain:\u001b[0m\n",
      "\u001b[32m2022-07-06 12:33:50\u001b[0m | \u001b[1mINFO    \u001b[0m | \u001b[1mloss:\t| avg: 500.3    \t|  std: 9.966    \t|  min: 479.8    \t|  25%: 494.2    \t|  50%: 499.5    \t|  75%: 505.5    \t|  max: 532.0    \u001b[0m\n",
      "\u001b[32m2022-07-06 12:33:50\u001b[0m | \u001b[1mINFO    \u001b[0m | \u001b[1macc:\t| avg: 0.9782   \t|  std: 0.008721 \t|  min: 0.9512   \t|  25%: 0.9727   \t|  50%: 0.9785   \t|  75%: 0.9844   \t|  max: 0.9922   \u001b[0m\n",
      "\u001b[32m2022-07-06 12:33:50\u001b[0m | \u001b[1mINFO    \u001b[0m | \u001b[1mlr:\t| avg: 0.0001485\t|  std: nan      \t|  min: 0.0001485\t|  25%: 0.0001485\t|  50%: 0.0001485\t|  75%: 0.0001485\t|  max: 0.0001485\u001b[0m\n",
      "\u001b[32m2022-07-06 12:33:50\u001b[0m | \u001b[1mINFO    \u001b[0m | \u001b[1mvalidation:\u001b[0m\n",
      "\u001b[32m2022-07-06 12:33:50\u001b[0m | \u001b[1mINFO    \u001b[0m | \u001b[1mloss:\t| avg: 569.6    \t|  std: 31.02    \t|  min: 537.5    \t|  25%: 553.2    \t|  50%: 561.5    \t|  75%: 574.8    \t|  max: 684.0    \u001b[0m\n",
      "\u001b[32m2022-07-06 12:33:50\u001b[0m | \u001b[1mINFO    \u001b[0m | \u001b[1macc:\t| avg: 0.9059   \t|  std: 0.01064  \t|  min: 0.8887   \t|  25%: 0.9004   \t|  50%: 0.9053   \t|  75%: 0.9102   \t|  max: 0.9238   \u001b[0m\n"
     ]
    },
    {
     "name": "stderr",
     "output_type": "stream",
     "text": [
      "\n",
      "train:   0%|          | 0/73 [00:00<?, ?it/s]\n",
      "\n",
      "train:   0%|          | 0/73 [00:00<?, ?it/s]\n",
      "train: 100%|██████████| 73/73 [00:14<00:00,  5.13it/s]\n",
      "train: 100%|██████████| 73/73 [00:14<00:00,  5.13it/s]\n",
      "train: 100%|██████████| 73/73 [00:14<00:00,  5.13it/s]\n",
      "\n",
      "validation: 100%|██████████| 22/22 [00:00<00:00, 37.43it/s]"
     ]
    },
    {
     "name": "stdout",
     "output_type": "stream",
     "text": [
      "\n",
      "\u001b[32m2022-07-06 12:34:05\u001b[0m | \u001b[1mINFO    \u001b[0m | \u001b[1mFinished epoch 22/40:\u001b[0m\n",
      "\u001b[32m2022-07-06 12:34:05\u001b[0m | \u001b[1mINFO    \u001b[0m | \u001b[1mtrain:\u001b[0m\n",
      "\u001b[32m2022-07-06 12:34:05\u001b[0m | \u001b[1mINFO    \u001b[0m | \u001b[1mloss:\t| avg: 487.7    \t|  std: 6.198    \t|  min: 474.0    \t|  25%: 484.5    \t|  50%: 487.2    \t|  75%: 491.5    \t|  max: 505.5    \u001b[0m\n",
      "\u001b[32m2022-07-06 12:34:05\u001b[0m | \u001b[1mINFO    \u001b[0m | \u001b[1macc:\t| avg: 0.9871   \t|  std: 0.005812 \t|  min: 0.9727   \t|  25%: 0.9824   \t|  50%: 0.9883   \t|  75%: 0.9902   \t|  max: 0.998    \u001b[0m\n",
      "\u001b[32m2022-07-06 12:34:05\u001b[0m | \u001b[1mINFO    \u001b[0m | \u001b[1mlr:\t| avg: 0.0001411\t|  std: nan      \t|  min: 0.0001411\t|  25%: 0.0001411\t|  50%: 0.0001411\t|  75%: 0.0001411\t|  max: 0.0001411\u001b[0m\n",
      "\u001b[32m2022-07-06 12:34:05\u001b[0m | \u001b[1mINFO    \u001b[0m | \u001b[1mvalidation:\u001b[0m\n",
      "\u001b[32m2022-07-06 12:34:05\u001b[0m | \u001b[1mINFO    \u001b[0m | \u001b[1mloss:\t| avg: 561.6    \t|  std: 18.72    \t|  min: 534.0    \t|  25%: 550.2    \t|  50%: 556.2    \t|  75%: 568.9    \t|  max: 613.0    \u001b[0m\n",
      "\u001b[32m2022-07-06 12:34:05\u001b[0m | \u001b[1mINFO    \u001b[0m | \u001b[1macc:\t| avg: 0.8999   \t|  std: 0.01668  \t|  min: 0.8652   \t|  25%: 0.8882   \t|  50%: 0.9014   \t|  75%: 0.9136   \t|  max: 0.9238   \u001b[0m\n"
     ]
    },
    {
     "name": "stderr",
     "output_type": "stream",
     "text": [
      "\n",
      "train:   0%|          | 0/73 [00:00<?, ?it/s]\n",
      "\n",
      "train:   0%|          | 0/73 [00:00<?, ?it/s]\n",
      "train: 100%|██████████| 73/73 [00:14<00:00,  5.15it/s]\n",
      "train: 100%|██████████| 73/73 [00:14<00:00,  5.15it/s]\n",
      "train: 100%|██████████| 73/73 [00:14<00:00,  5.15it/s]\n",
      "validation:   0%|          | 0/22 [00:00<?, ?it/s]\n",
      "validation: 100%|██████████| 22/22 [00:00<00:00, 36.41it/s]"
     ]
    },
    {
     "name": "stdout",
     "output_type": "stream",
     "text": [
      "\n",
      "\u001b[32m2022-07-06 12:34:21\u001b[0m | \u001b[1mINFO    \u001b[0m | \u001b[1mFinished epoch 23/40:\u001b[0m\n",
      "\u001b[32m2022-07-06 12:34:21\u001b[0m | \u001b[1mINFO    \u001b[0m | \u001b[1mtrain:\u001b[0m\n",
      "\u001b[32m2022-07-06 12:34:21\u001b[0m | \u001b[1mINFO    \u001b[0m | \u001b[1mloss:\t| avg: 483.4    \t|  std: 7.927    \t|  min: 473.2    \t|  25%: 478.0    \t|  50%: 481.0    \t|  75%: 487.5    \t|  max: 509.5    \u001b[0m\n",
      "\u001b[32m2022-07-06 12:34:21\u001b[0m | \u001b[1mINFO    \u001b[0m | \u001b[1macc:\t| avg: 0.9886   \t|  std: 0.00623  \t|  min: 0.9688   \t|  25%: 0.9863   \t|  50%: 0.9902   \t|  75%: 0.9922   \t|  max: 0.998    \u001b[0m\n",
      "\u001b[32m2022-07-06 12:34:21\u001b[0m | \u001b[1mINFO    \u001b[0m | \u001b[1mlr:\t| avg: 0.0001337\t|  std: nan      \t|  min: 0.0001337\t|  25%: 0.0001337\t|  50%: 0.0001337\t|  75%: 0.0001337\t|  max: 0.0001337\u001b[0m\n",
      "\u001b[32m2022-07-06 12:34:21\u001b[0m | \u001b[1mINFO    \u001b[0m | \u001b[1mvalidation:\u001b[0m\n",
      "\u001b[32m2022-07-06 12:34:21\u001b[0m | \u001b[1mINFO    \u001b[0m | \u001b[1mloss:\t| avg: 552.4    \t|  std: 12.89    \t|  min: 533.5    \t|  25%: 543.6    \t|  50%: 550.5    \t|  75%: 558.4    \t|  max: 585.0    \u001b[0m\n",
      "\u001b[32m2022-07-06 12:34:21\u001b[0m | \u001b[1mINFO    \u001b[0m | \u001b[1macc:\t| avg: 0.9079   \t|  std: 0.01253  \t|  min: 0.8848   \t|  25%: 0.9004   \t|  50%: 0.9092   \t|  75%: 0.917    \t|  max: 0.9316   \u001b[0m\n"
     ]
    },
    {
     "name": "stderr",
     "output_type": "stream",
     "text": [
      "\n",
      "train:   0%|          | 0/73 [00:00<?, ?it/s]\n",
      "train:   0%|          | 0/73 [00:00<?, ?it/s]\n",
      "\n",
      "train: 100%|██████████| 73/73 [00:14<00:00,  5.13it/s]\n",
      "validation:   0%|          | 0/22 [00:00<?, ?it/s]\n",
      "train: 100%|██████████| 73/73 [00:14<00:00,  5.13it/s]\n",
      "\n",
      "validation: 100%|██████████| 22/22 [00:00<00:00, 37.92it/s]"
     ]
    },
    {
     "name": "stdout",
     "output_type": "stream",
     "text": [
      "\n",
      "\u001b[32m2022-07-06 12:34:37\u001b[0m | \u001b[1mINFO    \u001b[0m | \u001b[1mFinished epoch 24/40:\u001b[0m\n",
      "\u001b[32m2022-07-06 12:34:37\u001b[0m | \u001b[1mINFO    \u001b[0m | \u001b[1mtrain:\u001b[0m\n",
      "\u001b[32m2022-07-06 12:34:37\u001b[0m | \u001b[1mINFO    \u001b[0m | \u001b[1mloss:\t| avg: 478.8    \t|  std: 7.406    \t|  min: 467.2    \t|  25%: 474.2    \t|  50%: 476.8    \t|  75%: 482.0    \t|  max: 501.0    \u001b[0m\n",
      "\u001b[32m2022-07-06 12:34:37\u001b[0m | \u001b[1mINFO    \u001b[0m | \u001b[1macc:\t| avg: 0.9894   \t|  std: 0.006403 \t|  min: 0.9668   \t|  25%: 0.9863   \t|  50%: 0.9922   \t|  75%: 0.9941   \t|  max: 0.998    \u001b[0m\n",
      "\u001b[32m2022-07-06 12:34:37\u001b[0m | \u001b[1mINFO    \u001b[0m | \u001b[1mlr:\t| avg: 0.0001263\t|  std: nan      \t|  min: 0.0001263\t|  25%: 0.0001263\t|  50%: 0.0001263\t|  75%: 0.0001263\t|  max: 0.0001263\u001b[0m\n",
      "\u001b[32m2022-07-06 12:34:37\u001b[0m | \u001b[1mINFO    \u001b[0m | \u001b[1mvalidation:\u001b[0m\n",
      "\u001b[32m2022-07-06 12:34:37\u001b[0m | \u001b[1mINFO    \u001b[0m | \u001b[1mloss:\t| avg: 556.0    \t|  std: 20.18    \t|  min: 534.0    \t|  25%: 542.2    \t|  50%: 549.0    \t|  75%: 564.8    \t|  max: 604.5    \u001b[0m\n",
      "\u001b[32m2022-07-06 12:34:37\u001b[0m | \u001b[1mINFO    \u001b[0m | \u001b[1macc:\t| avg: 0.9055   \t|  std: 0.01465  \t|  min: 0.8652   \t|  25%: 0.8955   \t|  50%: 0.9072   \t|  75%: 0.916    \t|  max: 0.9336   \u001b[0m\n"
     ]
    },
    {
     "name": "stderr",
     "output_type": "stream",
     "text": [
      "\n",
      "train:   0%|          | 0/73 [00:00<?, ?it/s]\n",
      "\n",
      "train:   0%|          | 0/73 [00:00<?, ?it/s]\n",
      "train: 100%|██████████| 73/73 [00:14<00:00,  5.12it/s]\n",
      "train: 100%|██████████| 73/73 [00:14<00:00,  5.12it/s]\n",
      "train: 100%|██████████| 73/73 [00:14<00:00,  5.12it/s]\n",
      "train: 100%|██████████| 73/73 [00:14<00:00,  5.12it/s]\n",
      "validation: 100%|██████████| 22/22 [00:00<00:00, 37.19it/s]"
     ]
    },
    {
     "name": "stdout",
     "output_type": "stream",
     "text": [
      "\n",
      "\u001b[32m2022-07-06 12:34:52\u001b[0m | \u001b[1mINFO    \u001b[0m | \u001b[1mFinished epoch 25/40:\u001b[0m\n",
      "\u001b[32m2022-07-06 12:34:52\u001b[0m | \u001b[1mINFO    \u001b[0m | \u001b[1mtrain:\u001b[0m\n",
      "\u001b[32m2022-07-06 12:34:52\u001b[0m | \u001b[1mINFO    \u001b[0m | \u001b[1mloss:\t| avg: 473.3    \t|  std: 5.483    \t|  min: 464.2    \t|  25%: 469.0    \t|  50%: 472.0    \t|  75%: 477.5    \t|  max: 484.2    \u001b[0m\n",
      "\u001b[32m2022-07-06 12:34:52\u001b[0m | \u001b[1mINFO    \u001b[0m | \u001b[1macc:\t| avg: 0.9929   \t|  std: 0.005321 \t|  min: 0.9785   \t|  25%: 0.9902   \t|  50%: 0.9941   \t|  75%: 0.9961   \t|  max: 1.0      \u001b[0m\n",
      "\u001b[32m2022-07-06 12:34:52\u001b[0m | \u001b[1mINFO    \u001b[0m | \u001b[1mlr:\t| avg: 0.0001189\t|  std: nan      \t|  min: 0.0001189\t|  25%: 0.0001189\t|  50%: 0.0001189\t|  75%: 0.0001189\t|  max: 0.0001189\u001b[0m\n",
      "\u001b[32m2022-07-06 12:34:52\u001b[0m | \u001b[1mINFO    \u001b[0m | \u001b[1mvalidation:\u001b[0m\n",
      "\u001b[32m2022-07-06 12:34:52\u001b[0m | \u001b[1mINFO    \u001b[0m | \u001b[1mloss:\t| avg: 549.6    \t|  std: 15.75    \t|  min: 532.5    \t|  25%: 541.5    \t|  50%: 545.2    \t|  75%: 549.9    \t|  max: 600.0    \u001b[0m\n",
      "\u001b[32m2022-07-06 12:34:52\u001b[0m | \u001b[1mINFO    \u001b[0m | \u001b[1macc:\t| avg: 0.9055   \t|  std: 0.0139   \t|  min: 0.8672   \t|  25%: 0.8984   \t|  50%: 0.9082   \t|  75%: 0.9141   \t|  max: 0.9316   \u001b[0m\n"
     ]
    },
    {
     "name": "stderr",
     "output_type": "stream",
     "text": [
      "\n",
      "train:   0%|          | 0/73 [00:00<?, ?it/s]\n",
      "\n",
      "\n",
      "train: 100%|██████████| 73/73 [00:14<00:00,  5.13it/s]\n",
      "train: 100%|██████████| 73/73 [00:14<00:00,  5.13it/s]\n",
      "train: 100%|██████████| 73/73 [00:14<00:00,  5.13it/s]\n",
      "train: 100%|██████████| 73/73 [00:14<00:00,  5.13it/s]\n",
      "validation: 100%|██████████| 22/22 [00:00<00:00, 37.18it/s]"
     ]
    },
    {
     "name": "stdout",
     "output_type": "stream",
     "text": [
      "\n",
      "\u001b[32m2022-07-06 12:35:08\u001b[0m | \u001b[1mINFO    \u001b[0m | \u001b[1mFinished epoch 26/40:\u001b[0m\n",
      "\u001b[32m2022-07-06 12:35:08\u001b[0m | \u001b[1mINFO    \u001b[0m | \u001b[1mtrain:\u001b[0m\n",
      "\u001b[32m2022-07-06 12:35:08\u001b[0m | \u001b[1mINFO    \u001b[0m | \u001b[1mloss:\t| avg: 469.6    \t|  std: 5.291    \t|  min: 462.2    \t|  25%: 466.0    \t|  50%: 468.0    \t|  75%: 472.0    \t|  max: 487.8    \u001b[0m\n",
      "\u001b[32m2022-07-06 12:35:08\u001b[0m | \u001b[1mINFO    \u001b[0m | \u001b[1macc:\t| avg: 0.9946   \t|  std: 0.00422  \t|  min: 0.9785   \t|  25%: 0.9922   \t|  50%: 0.9961   \t|  75%: 0.998    \t|  max: 1.0      \u001b[0m\n",
      "\u001b[32m2022-07-06 12:35:08\u001b[0m | \u001b[1mINFO    \u001b[0m | \u001b[1mlr:\t| avg: 0.0001115\t|  std: nan      \t|  min: 0.0001115\t|  25%: 0.0001115\t|  50%: 0.0001115\t|  75%: 0.0001115\t|  max: 0.0001115\u001b[0m\n",
      "\u001b[32m2022-07-06 12:35:08\u001b[0m | \u001b[1mINFO    \u001b[0m | \u001b[1mvalidation:\u001b[0m\n",
      "\u001b[32m2022-07-06 12:35:08\u001b[0m | \u001b[1mINFO    \u001b[0m | \u001b[1mloss:\t| avg: 554.2    \t|  std: 17.82    \t|  min: 527.5    \t|  25%: 544.0    \t|  50%: 551.2    \t|  75%: 559.4    \t|  max: 617.0    \u001b[0m\n",
      "\u001b[32m2022-07-06 12:35:08\u001b[0m | \u001b[1mINFO    \u001b[0m | \u001b[1macc:\t| avg: 0.9039   \t|  std: 0.0114   \t|  min: 0.8809   \t|  25%: 0.8989   \t|  50%: 0.9062   \t|  75%: 0.9116   \t|  max: 0.9297   \u001b[0m\n"
     ]
    },
    {
     "name": "stderr",
     "output_type": "stream",
     "text": [
      "\n",
      "train:   0%|          | 0/73 [00:00<?, ?it/s]\n",
      "\n",
      "\n",
      "train: 100%|██████████| 73/73 [00:14<00:00,  5.13it/s]\n",
      "\n",
      "validation:   0%|          | 0/22 [00:00<?, ?it/s]\n",
      "train: 100%|██████████| 73/73 [00:14<00:00,  5.13it/s]\n",
      "validation: 100%|██████████| 22/22 [00:00<00:00, 36.77it/s]"
     ]
    },
    {
     "name": "stdout",
     "output_type": "stream",
     "text": [
      "\n",
      "\u001b[32m2022-07-06 12:35:23\u001b[0m | \u001b[1mINFO    \u001b[0m | \u001b[1mFinished epoch 27/40:\u001b[0m\n",
      "\u001b[32m2022-07-06 12:35:23\u001b[0m | \u001b[1mINFO    \u001b[0m | \u001b[1mtrain:\u001b[0m\n",
      "\u001b[32m2022-07-06 12:35:23\u001b[0m | \u001b[1mINFO    \u001b[0m | \u001b[1mloss:\t| avg: 468.2    \t|  std: 5.876    \t|  min: 461.5    \t|  25%: 463.5    \t|  50%: 466.5    \t|  75%: 472.0    \t|  max: 489.5    \u001b[0m\n",
      "\u001b[32m2022-07-06 12:35:23\u001b[0m | \u001b[1mINFO    \u001b[0m | \u001b[1macc:\t| avg: 0.9945   \t|  std: 0.004872 \t|  min: 0.9746   \t|  25%: 0.9922   \t|  50%: 0.9961   \t|  75%: 0.998    \t|  max: 1.0      \u001b[0m\n",
      "\u001b[32m2022-07-06 12:35:23\u001b[0m | \u001b[1mINFO    \u001b[0m | \u001b[1mlr:\t| avg: 0.0001041\t|  std: nan      \t|  min: 0.0001041\t|  25%: 0.0001041\t|  50%: 0.0001041\t|  75%: 0.0001041\t|  max: 0.0001041\u001b[0m\n",
      "\u001b[32m2022-07-06 12:35:23\u001b[0m | \u001b[1mINFO    \u001b[0m | \u001b[1mvalidation:\u001b[0m\n",
      "\u001b[32m2022-07-06 12:35:23\u001b[0m | \u001b[1mINFO    \u001b[0m | \u001b[1mloss:\t| avg: 556.0    \t|  std: 19.63    \t|  min: 530.5    \t|  25%: 544.5    \t|  50%: 550.0    \t|  75%: 565.1    \t|  max: 619.0    \u001b[0m\n",
      "\u001b[32m2022-07-06 12:35:23\u001b[0m | \u001b[1mINFO    \u001b[0m | \u001b[1macc:\t| avg: 0.903    \t|  std: 0.0129   \t|  min: 0.8789   \t|  25%: 0.8931   \t|  50%: 0.9033   \t|  75%: 0.9116   \t|  max: 0.9258   \u001b[0m\n"
     ]
    },
    {
     "name": "stderr",
     "output_type": "stream",
     "text": [
      "\n",
      "train:   0%|          | 0/73 [00:00<?, ?it/s]\n",
      "train:   0%|          | 0/73 [00:00<?, ?it/s]\n",
      "\n",
      "train: 100%|██████████| 73/73 [00:14<00:00,  5.10it/s]\n",
      "validation:   0%|          | 0/22 [00:00<?, ?it/s]\n",
      "\n",
      "train: 100%|██████████| 73/73 [00:14<00:00,  5.10it/s]\n",
      "validation: 100%|██████████| 22/22 [00:00<00:00, 37.77it/s]"
     ]
    },
    {
     "name": "stdout",
     "output_type": "stream",
     "text": [
      "\n",
      "\u001b[32m2022-07-06 12:35:39\u001b[0m | \u001b[1mINFO    \u001b[0m | \u001b[1mFinished epoch 28/40:\u001b[0m\n",
      "\u001b[32m2022-07-06 12:35:39\u001b[0m | \u001b[1mINFO    \u001b[0m | \u001b[1mtrain:\u001b[0m\n",
      "\u001b[32m2022-07-06 12:35:39\u001b[0m | \u001b[1mINFO    \u001b[0m | \u001b[1mloss:\t| avg: 465.4    \t|  std: 4.304    \t|  min: 459.0    \t|  25%: 462.0    \t|  50%: 464.5    \t|  75%: 468.0    \t|  max: 481.0    \u001b[0m\n",
      "\u001b[32m2022-07-06 12:35:39\u001b[0m | \u001b[1mINFO    \u001b[0m | \u001b[1macc:\t| avg: 0.9956   \t|  std: 0.003371 \t|  min: 0.9824   \t|  25%: 0.9941   \t|  50%: 0.9961   \t|  75%: 0.998    \t|  max: 1.0      \u001b[0m\n",
      "\u001b[32m2022-07-06 12:35:39\u001b[0m | \u001b[1mINFO    \u001b[0m | \u001b[1mlr:\t| avg: 9.676e-05\t|  std: nan      \t|  min: 9.676e-05\t|  25%: 9.676e-05\t|  50%: 9.676e-05\t|  75%: 9.676e-05\t|  max: 9.676e-05\u001b[0m\n",
      "\u001b[32m2022-07-06 12:35:39\u001b[0m | \u001b[1mINFO    \u001b[0m | \u001b[1mvalidation:\u001b[0m\n",
      "\u001b[32m2022-07-06 12:35:39\u001b[0m | \u001b[1mINFO    \u001b[0m | \u001b[1mloss:\t| avg: 550.8    \t|  std: 13.6     \t|  min: 530.0    \t|  25%: 542.6    \t|  50%: 548.5    \t|  75%: 558.1    \t|  max: 585.0    \u001b[0m\n",
      "\u001b[32m2022-07-06 12:35:39\u001b[0m | \u001b[1mINFO    \u001b[0m | \u001b[1macc:\t| avg: 0.9017   \t|  std: 0.01211  \t|  min: 0.877    \t|  25%: 0.895    \t|  50%: 0.9043   \t|  75%: 0.9097   \t|  max: 0.9199   \u001b[0m\n"
     ]
    },
    {
     "name": "stderr",
     "output_type": "stream",
     "text": [
      "\n",
      "train:   0%|          | 0/73 [00:00<?, ?it/s]\n",
      "train:   0%|          | 0/73 [00:00<?, ?it/s]\n",
      "\n",
      "train: 100%|██████████| 73/73 [00:14<00:00,  5.12it/s]\n",
      "train: 100%|██████████| 73/73 [00:14<00:00,  5.12it/s]\n",
      "train: 100%|██████████| 73/73 [00:14<00:00,  5.12it/s]\n",
      "train: 100%|██████████| 73/73 [00:14<00:00,  5.12it/s]\n",
      "validation: 100%|██████████| 22/22 [00:00<00:00, 37.44it/s]"
     ]
    },
    {
     "name": "stdout",
     "output_type": "stream",
     "text": [
      "\n",
      "\u001b[32m2022-07-06 12:35:55\u001b[0m | \u001b[1mINFO    \u001b[0m | \u001b[1mFinished epoch 29/40:\u001b[0m\n",
      "\u001b[32m2022-07-06 12:35:55\u001b[0m | \u001b[1mINFO    \u001b[0m | \u001b[1mtrain:\u001b[0m\n",
      "\u001b[32m2022-07-06 12:35:55\u001b[0m | \u001b[1mINFO    \u001b[0m | \u001b[1mloss:\t| avg: 463.7    \t|  std: 4.196    \t|  min: 457.8    \t|  25%: 460.5    \t|  50%: 462.5    \t|  75%: 466.0    \t|  max: 479.0    \u001b[0m\n",
      "\u001b[32m2022-07-06 12:35:55\u001b[0m | \u001b[1mINFO    \u001b[0m | \u001b[1macc:\t| avg: 0.9964   \t|  std: 0.003277 \t|  min: 0.9863   \t|  25%: 0.9961   \t|  50%: 0.9961   \t|  75%: 0.998    \t|  max: 1.0      \u001b[0m\n",
      "\u001b[32m2022-07-06 12:35:55\u001b[0m | \u001b[1mINFO    \u001b[0m | \u001b[1mlr:\t| avg: 8.937e-05\t|  std: nan      \t|  min: 8.937e-05\t|  25%: 8.937e-05\t|  50%: 8.937e-05\t|  75%: 8.937e-05\t|  max: 8.937e-05\u001b[0m\n",
      "\u001b[32m2022-07-06 12:35:55\u001b[0m | \u001b[1mINFO    \u001b[0m | \u001b[1mvalidation:\u001b[0m\n",
      "\u001b[32m2022-07-06 12:35:55\u001b[0m | \u001b[1mINFO    \u001b[0m | \u001b[1mloss:\t| avg: 546.4    \t|  std: 11.11    \t|  min: 524.5    \t|  25%: 540.5    \t|  50%: 546.8    \t|  75%: 552.5    \t|  max: 572.0    \u001b[0m\n",
      "\u001b[32m2022-07-06 12:35:55\u001b[0m | \u001b[1mINFO    \u001b[0m | \u001b[1macc:\t| avg: 0.9051   \t|  std: 0.01366  \t|  min: 0.8848   \t|  25%: 0.8955   \t|  50%: 0.9033   \t|  75%: 0.9131   \t|  max: 0.9297   \u001b[0m\n"
     ]
    },
    {
     "name": "stderr",
     "output_type": "stream",
     "text": [
      "\n",
      "train:   0%|          | 0/73 [00:00<?, ?it/s]\n",
      "\n",
      "\n",
      "train: 100%|██████████| 73/73 [00:14<00:00,  5.12it/s]\n",
      "train: 100%|██████████| 73/73 [00:14<00:00,  5.12it/s]\n",
      "train: 100%|██████████| 73/73 [00:14<00:00,  5.12it/s]\n",
      "train: 100%|██████████| 73/73 [00:14<00:00,  5.12it/s]\n",
      "validation: 100%|██████████| 22/22 [00:00<00:00, 37.26it/s]"
     ]
    },
    {
     "name": "stdout",
     "output_type": "stream",
     "text": [
      "\n",
      "\u001b[32m2022-07-06 12:36:10\u001b[0m | \u001b[1mINFO    \u001b[0m | \u001b[1mFinished epoch 30/40:\u001b[0m\n",
      "\u001b[32m2022-07-06 12:36:10\u001b[0m | \u001b[1mINFO    \u001b[0m | \u001b[1mtrain:\u001b[0m\n",
      "\u001b[32m2022-07-06 12:36:10\u001b[0m | \u001b[1mINFO    \u001b[0m | \u001b[1mloss:\t| avg: 460.9    \t|  std: 3.798    \t|  min: 455.8    \t|  25%: 458.0    \t|  50%: 459.8    \t|  75%: 462.8    \t|  max: 472.0    \u001b[0m\n",
      "\u001b[32m2022-07-06 12:36:10\u001b[0m | \u001b[1mINFO    \u001b[0m | \u001b[1macc:\t| avg: 0.9975   \t|  std: 0.00334  \t|  min: 0.9844   \t|  25%: 0.9961   \t|  50%: 0.998    \t|  75%: 1.0      \t|  max: 1.0      \u001b[0m\n",
      "\u001b[32m2022-07-06 12:36:10\u001b[0m | \u001b[1mINFO    \u001b[0m | \u001b[1mlr:\t| avg: 8.198e-05\t|  std: nan      \t|  min: 8.198e-05\t|  25%: 8.198e-05\t|  50%: 8.198e-05\t|  75%: 8.198e-05\t|  max: 8.198e-05\u001b[0m\n",
      "\u001b[32m2022-07-06 12:36:10\u001b[0m | \u001b[1mINFO    \u001b[0m | \u001b[1mvalidation:\u001b[0m\n",
      "\u001b[32m2022-07-06 12:36:10\u001b[0m | \u001b[1mINFO    \u001b[0m | \u001b[1mloss:\t| avg: 547.1    \t|  std: 10.37    \t|  min: 529.0    \t|  25%: 544.5    \t|  50%: 547.5    \t|  75%: 550.8    \t|  max: 570.0    \u001b[0m\n",
      "\u001b[32m2022-07-06 12:36:10\u001b[0m | \u001b[1mINFO    \u001b[0m | \u001b[1macc:\t| avg: 0.9047   \t|  std: 0.01394  \t|  min: 0.875    \t|  25%: 0.8984   \t|  50%: 0.9023   \t|  75%: 0.9111   \t|  max: 0.9336   \u001b[0m\n"
     ]
    },
    {
     "name": "stderr",
     "output_type": "stream",
     "text": [
      "\n",
      "train:   0%|          | 0/73 [00:00<?, ?it/s]\n",
      "train:   0%|          | 0/73 [00:00<?, ?it/s]\n",
      "train:   0%|          | 0/73 [00:00<?, ?it/s]\n",
      "train: 100%|██████████| 73/73 [00:14<00:00,  5.14it/s]\n",
      "validation:   0%|          | 0/22 [00:00<?, ?it/s]t/s]\n",
      "train: 100%|██████████| 73/73 [00:14<00:00,  5.14it/s]\n",
      "train: 100%|██████████| 73/73 [00:14<00:00,  5.13it/s]\n",
      "validation: 100%|██████████| 22/22 [00:00<00:00, 36.46it/s]"
     ]
    },
    {
     "name": "stdout",
     "output_type": "stream",
     "text": [
      "\n",
      "\u001b[32m2022-07-06 12:36:26\u001b[0m | \u001b[1mINFO    \u001b[0m | \u001b[1mFinished epoch 31/40:\u001b[0m\n",
      "\u001b[32m2022-07-06 12:36:26\u001b[0m | \u001b[1mINFO    \u001b[0m | \u001b[1mtrain:\u001b[0m\n",
      "\u001b[32m2022-07-06 12:36:26\u001b[0m | \u001b[1mINFO    \u001b[0m | \u001b[1mloss:\t| avg: 459.9    \t|  std: 3.504    \t|  min: 454.5    \t|  25%: 457.5    \t|  50%: 459.0    \t|  75%: 462.0    \t|  max: 469.5    \u001b[0m\n",
      "\u001b[32m2022-07-06 12:36:26\u001b[0m | \u001b[1mINFO    \u001b[0m | \u001b[1macc:\t| avg: 0.9974   \t|  std: 0.00302  \t|  min: 0.9883   \t|  25%: 0.9961   \t|  50%: 0.998    \t|  75%: 1.0      \t|  max: 1.0      \u001b[0m\n",
      "\u001b[32m2022-07-06 12:36:26\u001b[0m | \u001b[1mINFO    \u001b[0m | \u001b[1mlr:\t| avg: 7.46e-05 \t|  std: nan      \t|  min: 7.46e-05 \t|  25%: 7.46e-05 \t|  50%: 7.46e-05 \t|  75%: 7.46e-05 \t|  max: 7.46e-05 \u001b[0m\n",
      "\u001b[32m2022-07-06 12:36:26\u001b[0m | \u001b[1mINFO    \u001b[0m | \u001b[1mvalidation:\u001b[0m\n",
      "\u001b[32m2022-07-06 12:36:26\u001b[0m | \u001b[1mINFO    \u001b[0m | \u001b[1mloss:\t| avg: 540.7    \t|  std: 13.5     \t|  min: 512.5    \t|  25%: 531.4    \t|  50%: 540.8    \t|  75%: 546.8    \t|  max: 569.0    \u001b[0m\n",
      "\u001b[32m2022-07-06 12:36:26\u001b[0m | \u001b[1mINFO    \u001b[0m | \u001b[1macc:\t| avg: 0.9119   \t|  std: 0.01338  \t|  min: 0.8809   \t|  25%: 0.9038   \t|  50%: 0.9121   \t|  75%: 0.9214   \t|  max: 0.9395   \u001b[0m\n"
     ]
    },
    {
     "name": "stderr",
     "output_type": "stream",
     "text": [
      "\n",
      "train:   0%|          | 0/73 [00:00<?, ?it/s]\n",
      "\n",
      "train:   0%|          | 0/73 [00:00<?, ?it/s]\n",
      "train: 100%|██████████| 73/73 [00:14<00:00,  5.13it/s]\n",
      "train: 100%|██████████| 73/73 [00:14<00:00,  5.13it/s]\n",
      "train: 100%|██████████| 73/73 [00:14<00:00,  5.13it/s]\n",
      "train: 100%|██████████| 73/73 [00:14<00:00,  5.13it/s]\n",
      "validation: 100%|██████████| 22/22 [00:00<00:00, 37.69it/s]"
     ]
    },
    {
     "name": "stdout",
     "output_type": "stream",
     "text": [
      "\n",
      "\u001b[32m2022-07-06 12:36:41\u001b[0m | \u001b[1mINFO    \u001b[0m | \u001b[1mFinished epoch 32/40:\u001b[0m\n",
      "\u001b[32m2022-07-06 12:36:41\u001b[0m | \u001b[1mINFO    \u001b[0m | \u001b[1mtrain:\u001b[0m\n",
      "\u001b[32m2022-07-06 12:36:41\u001b[0m | \u001b[1mINFO    \u001b[0m | \u001b[1mloss:\t| avg: 458.9    \t|  std: 3.523    \t|  min: 453.5    \t|  25%: 456.5    \t|  50%: 458.0    \t|  75%: 461.0    \t|  max: 470.0    \u001b[0m\n",
      "\u001b[32m2022-07-06 12:36:41\u001b[0m | \u001b[1mINFO    \u001b[0m | \u001b[1macc:\t| avg: 0.9981   \t|  std: 0.00249  \t|  min: 0.9883   \t|  25%: 0.998    \t|  50%: 0.998    \t|  75%: 1.0      \t|  max: 1.0      \u001b[0m\n",
      "\u001b[32m2022-07-06 12:36:42\u001b[0m | \u001b[1mINFO    \u001b[0m | \u001b[1mlr:\t| avg: 6.721e-05\t|  std: nan      \t|  min: 6.721e-05\t|  25%: 6.721e-05\t|  50%: 6.721e-05\t|  75%: 6.721e-05\t|  max: 6.721e-05\u001b[0m\n",
      "\u001b[32m2022-07-06 12:36:42\u001b[0m | \u001b[1mINFO    \u001b[0m | \u001b[1mvalidation:\u001b[0m\n",
      "\u001b[32m2022-07-06 12:36:42\u001b[0m | \u001b[1mINFO    \u001b[0m | \u001b[1mloss:\t| avg: 543.9    \t|  std: 10.31    \t|  min: 526.0    \t|  25%: 537.0    \t|  50%: 543.0    \t|  75%: 552.5    \t|  max: 563.0    \u001b[0m\n",
      "\u001b[32m2022-07-06 12:36:42\u001b[0m | \u001b[1mINFO    \u001b[0m | \u001b[1macc:\t| avg: 0.9088   \t|  std: 0.01034  \t|  min: 0.8887   \t|  25%: 0.9043   \t|  50%: 0.9092   \t|  75%: 0.9155   \t|  max: 0.9258   \u001b[0m\n"
     ]
    },
    {
     "name": "stderr",
     "output_type": "stream",
     "text": [
      "\n",
      "train:   0%|          | 0/73 [00:00<?, ?it/s]\n",
      "\n",
      "train:   0%|          | 0/73 [00:00<?, ?it/s]\n",
      "train: 100%|██████████| 73/73 [00:14<00:00,  5.11it/s]\n",
      "train: 100%|██████████| 73/73 [00:14<00:00,  5.11it/s]\n",
      "train: 100%|██████████| 73/73 [00:14<00:00,  5.11it/s]\n",
      "train: 100%|██████████| 73/73 [00:14<00:00,  5.11it/s]\n",
      "validation: 100%|██████████| 22/22 [00:00<00:00, 37.77it/s]"
     ]
    },
    {
     "name": "stdout",
     "output_type": "stream",
     "text": [
      "\n",
      "\u001b[32m2022-07-06 12:36:57\u001b[0m | \u001b[1mINFO    \u001b[0m | \u001b[1mFinished epoch 33/40:\u001b[0m\n",
      "\u001b[32m2022-07-06 12:36:57\u001b[0m | \u001b[1mINFO    \u001b[0m | \u001b[1mtrain:\u001b[0m\n",
      "\u001b[32m2022-07-06 12:36:57\u001b[0m | \u001b[1mINFO    \u001b[0m | \u001b[1mloss:\t| avg: 458.2    \t|  std: 3.432    \t|  min: 453.2    \t|  25%: 455.5    \t|  50%: 457.2    \t|  75%: 460.2    \t|  max: 468.8    \u001b[0m\n",
      "\u001b[32m2022-07-06 12:36:57\u001b[0m | \u001b[1mINFO    \u001b[0m | \u001b[1macc:\t| avg: 0.998    \t|  std: 0.002584 \t|  min: 0.9883   \t|  25%: 0.9961   \t|  50%: 1.0      \t|  75%: 1.0      \t|  max: 1.0      \u001b[0m\n",
      "\u001b[32m2022-07-06 12:36:57\u001b[0m | \u001b[1mINFO    \u001b[0m | \u001b[1mlr:\t| avg: 5.982e-05\t|  std: nan      \t|  min: 5.982e-05\t|  25%: 5.982e-05\t|  50%: 5.982e-05\t|  75%: 5.982e-05\t|  max: 5.982e-05\u001b[0m\n",
      "\u001b[32m2022-07-06 12:36:57\u001b[0m | \u001b[1mINFO    \u001b[0m | \u001b[1mvalidation:\u001b[0m\n",
      "\u001b[32m2022-07-06 12:36:57\u001b[0m | \u001b[1mINFO    \u001b[0m | \u001b[1mloss:\t| avg: 542.1    \t|  std: 8.353    \t|  min: 524.0    \t|  25%: 537.5    \t|  50%: 542.0    \t|  75%: 546.9    \t|  max: 561.5    \u001b[0m\n",
      "\u001b[32m2022-07-06 12:36:57\u001b[0m | \u001b[1mINFO    \u001b[0m | \u001b[1macc:\t| avg: 0.9084   \t|  std: 0.01181  \t|  min: 0.8848   \t|  25%: 0.9004   \t|  50%: 0.9092   \t|  75%: 0.9141   \t|  max: 0.9336   \u001b[0m\n"
     ]
    },
    {
     "name": "stderr",
     "output_type": "stream",
     "text": [
      "\n",
      "train:   0%|          | 0/73 [00:00<?, ?it/s]\n",
      "\n",
      "train:   0%|          | 0/73 [00:00<?, ?it/s]\n",
      "train: 100%|██████████| 73/73 [00:14<00:00,  5.15it/s]\n",
      "train: 100%|██████████| 73/73 [00:14<00:00,  5.15it/s]\n",
      "train: 100%|██████████| 73/73 [00:14<00:00,  5.15it/s]\n",
      "train: 100%|██████████| 73/73 [00:14<00:00,  5.15it/s]\n",
      "validation: 100%|██████████| 22/22 [00:00<00:00, 37.65it/s]"
     ]
    },
    {
     "name": "stdout",
     "output_type": "stream",
     "text": [
      "\n",
      "\u001b[32m2022-07-06 12:37:13\u001b[0m | \u001b[1mINFO    \u001b[0m | \u001b[1mFinished epoch 34/40:\u001b[0m\n",
      "\u001b[32m2022-07-06 12:37:13\u001b[0m | \u001b[1mINFO    \u001b[0m | \u001b[1mtrain:\u001b[0m\n",
      "\u001b[32m2022-07-06 12:37:13\u001b[0m | \u001b[1mINFO    \u001b[0m | \u001b[1mloss:\t| avg: 456.7    \t|  std: 2.676    \t|  min: 453.2    \t|  25%: 454.5    \t|  50%: 456.0    \t|  75%: 458.8    \t|  max: 463.5    \u001b[0m\n",
      "\u001b[32m2022-07-06 12:37:13\u001b[0m | \u001b[1mINFO    \u001b[0m | \u001b[1macc:\t| avg: 0.9986   \t|  std: 0.002097 \t|  min: 0.9883   \t|  25%: 0.998    \t|  50%: 1.0      \t|  75%: 1.0      \t|  max: 1.0      \u001b[0m\n",
      "\u001b[32m2022-07-06 12:37:13\u001b[0m | \u001b[1mINFO    \u001b[0m | \u001b[1mlr:\t| avg: 5.243e-05\t|  std: nan      \t|  min: 5.243e-05\t|  25%: 5.243e-05\t|  50%: 5.243e-05\t|  75%: 5.243e-05\t|  max: 5.243e-05\u001b[0m\n",
      "\u001b[32m2022-07-06 12:37:13\u001b[0m | \u001b[1mINFO    \u001b[0m | \u001b[1mvalidation:\u001b[0m\n",
      "\u001b[32m2022-07-06 12:37:13\u001b[0m | \u001b[1mINFO    \u001b[0m | \u001b[1mloss:\t| avg: 540.3    \t|  std: 9.162    \t|  min: 526.5    \t|  25%: 533.5    \t|  50%: 539.2    \t|  75%: 546.0    \t|  max: 558.0    \u001b[0m\n",
      "\u001b[32m2022-07-06 12:37:13\u001b[0m | \u001b[1mINFO    \u001b[0m | \u001b[1macc:\t| avg: 0.9094   \t|  std: 0.01112  \t|  min: 0.8809   \t|  25%: 0.9062   \t|  50%: 0.9111   \t|  75%: 0.918    \t|  max: 0.9219   \u001b[0m\n"
     ]
    },
    {
     "name": "stderr",
     "output_type": "stream",
     "text": [
      "\n",
      "train:   0%|          | 0/73 [00:00<?, ?it/s]\n",
      "\n",
      "train:   0%|          | 0/73 [00:00<?, ?it/s]\n",
      "train: 100%|██████████| 73/73 [00:14<00:00,  5.19it/s]\n",
      "validation:   0%|          | 0/22 [00:00<?, ?it/s]\n",
      "train: 100%|██████████| 73/73 [00:14<00:00,  5.18it/s]\n",
      "train: 100%|██████████| 73/73 [00:14<00:00,  5.18it/s]\n",
      "validation: 100%|██████████| 22/22 [00:00<00:00, 37.82it/s]"
     ]
    },
    {
     "name": "stdout",
     "output_type": "stream",
     "text": [
      "\n",
      "\u001b[32m2022-07-06 12:37:28\u001b[0m | \u001b[1mINFO    \u001b[0m | \u001b[1mFinished epoch 35/40:\u001b[0m\n",
      "\u001b[32m2022-07-06 12:37:28\u001b[0m | \u001b[1mINFO    \u001b[0m | \u001b[1mtrain:\u001b[0m\n",
      "\u001b[32m2022-07-06 12:37:28\u001b[0m | \u001b[1mINFO    \u001b[0m | \u001b[1mloss:\t| avg: 456.3    \t|  std: 2.89     \t|  min: 452.8    \t|  25%: 454.2    \t|  50%: 455.8    \t|  75%: 457.5    \t|  max: 467.0    \u001b[0m\n",
      "\u001b[32m2022-07-06 12:37:28\u001b[0m | \u001b[1mINFO    \u001b[0m | \u001b[1macc:\t| avg: 0.9986   \t|  std: 0.00204  \t|  min: 0.9902   \t|  25%: 0.998    \t|  50%: 1.0      \t|  75%: 1.0      \t|  max: 1.0      \u001b[0m\n",
      "\u001b[32m2022-07-06 12:37:28\u001b[0m | \u001b[1mINFO    \u001b[0m | \u001b[1mlr:\t| avg: 5e-05    \t|  std: nan      \t|  min: 5e-05    \t|  25%: 5e-05    \t|  50%: 5e-05    \t|  75%: 5e-05    \t|  max: 5e-05    \u001b[0m\n",
      "\u001b[32m2022-07-06 12:37:28\u001b[0m | \u001b[1mINFO    \u001b[0m | \u001b[1mvalidation:\u001b[0m\n",
      "\u001b[32m2022-07-06 12:37:28\u001b[0m | \u001b[1mINFO    \u001b[0m | \u001b[1mloss:\t| avg: 539.9    \t|  std: 11.75    \t|  min: 511.0    \t|  25%: 531.1    \t|  50%: 541.0    \t|  75%: 546.9    \t|  max: 559.5    \u001b[0m\n",
      "\u001b[32m2022-07-06 12:37:28\u001b[0m | \u001b[1mINFO    \u001b[0m | \u001b[1macc:\t| avg: 0.9101   \t|  std: 0.01355  \t|  min: 0.8809   \t|  25%: 0.9043   \t|  50%: 0.9092   \t|  75%: 0.918    \t|  max: 0.9434   \u001b[0m\n"
     ]
    },
    {
     "name": "stderr",
     "output_type": "stream",
     "text": [
      "\n",
      "train:   0%|          | 0/73 [00:00<?, ?it/s]\n",
      "\n",
      "\n",
      "train: 100%|██████████| 73/73 [00:14<00:00,  5.17it/s]\n",
      "train: 100%|██████████| 73/73 [00:14<00:00,  5.17it/s]\n",
      "train: 100%|██████████| 73/73 [00:14<00:00,  5.16it/s]\n",
      "train: 100%|██████████| 73/73 [00:14<00:00,  5.16it/s]\n",
      "validation: 100%|██████████| 22/22 [00:00<00:00, 36.85it/s]"
     ]
    },
    {
     "name": "stdout",
     "output_type": "stream",
     "text": [
      "\n",
      "\u001b[32m2022-07-06 12:37:44\u001b[0m | \u001b[1mINFO    \u001b[0m | \u001b[1mFinished epoch 36/40:\u001b[0m\n",
      "\u001b[32m2022-07-06 12:37:44\u001b[0m | \u001b[1mINFO    \u001b[0m | \u001b[1mtrain:\u001b[0m\n",
      "\u001b[32m2022-07-06 12:37:44\u001b[0m | \u001b[1mINFO    \u001b[0m | \u001b[1mloss:\t| avg: 455.7    \t|  std: 2.554    \t|  min: 452.2    \t|  25%: 453.8    \t|  50%: 455.0    \t|  75%: 457.0    \t|  max: 463.0    \u001b[0m\n",
      "\u001b[32m2022-07-06 12:37:44\u001b[0m | \u001b[1mINFO    \u001b[0m | \u001b[1macc:\t| avg: 0.9991   \t|  std: 0.001455 \t|  min: 0.9941   \t|  25%: 0.998    \t|  50%: 1.0      \t|  75%: 1.0      \t|  max: 1.0      \u001b[0m\n",
      "\u001b[32m2022-07-06 12:37:44\u001b[0m | \u001b[1mINFO    \u001b[0m | \u001b[1mlr:\t| avg: 5e-05    \t|  std: nan      \t|  min: 5e-05    \t|  25%: 5e-05    \t|  50%: 5e-05    \t|  75%: 5e-05    \t|  max: 5e-05    \u001b[0m\n",
      "\u001b[32m2022-07-06 12:37:44\u001b[0m | \u001b[1mINFO    \u001b[0m | \u001b[1mvalidation:\u001b[0m\n",
      "\u001b[32m2022-07-06 12:37:44\u001b[0m | \u001b[1mINFO    \u001b[0m | \u001b[1mloss:\t| avg: 540.1    \t|  std: 9.262    \t|  min: 525.5    \t|  25%: 533.0    \t|  50%: 538.2    \t|  75%: 548.4    \t|  max: 556.5    \u001b[0m\n",
      "\u001b[32m2022-07-06 12:37:44\u001b[0m | \u001b[1mINFO    \u001b[0m | \u001b[1macc:\t| avg: 0.9097   \t|  std: 0.01136  \t|  min: 0.8867   \t|  25%: 0.9028   \t|  50%: 0.9072   \t|  75%: 0.9189   \t|  max: 0.9316   \u001b[0m\n"
     ]
    },
    {
     "name": "stderr",
     "output_type": "stream",
     "text": [
      "\n",
      "train:   0%|          | 0/73 [00:00<?, ?it/s]\n",
      "\n",
      "train:   0%|          | 0/73 [00:00<?, ?it/s]\n",
      "train: 100%|██████████| 73/73 [00:14<00:00,  5.19it/s]\n",
      "train: 100%|██████████| 73/73 [00:14<00:00,  5.19it/s]\n",
      "train: 100%|██████████| 73/73 [00:14<00:00,  5.19it/s]\n",
      "validation:   0%|          | 0/22 [00:00<?, ?it/s]\n",
      "validation: 100%|██████████| 22/22 [00:00<00:00, 37.34it/s]"
     ]
    },
    {
     "name": "stdout",
     "output_type": "stream",
     "text": [
      "\n",
      "\u001b[32m2022-07-06 12:37:59\u001b[0m | \u001b[1mINFO    \u001b[0m | \u001b[1mFinished epoch 37/40:\u001b[0m\n",
      "\u001b[32m2022-07-06 12:37:59\u001b[0m | \u001b[1mINFO    \u001b[0m | \u001b[1mtrain:\u001b[0m\n",
      "\u001b[32m2022-07-06 12:37:59\u001b[0m | \u001b[1mINFO    \u001b[0m | \u001b[1mloss:\t| avg: 455.3    \t|  std: 3.083    \t|  min: 451.5    \t|  25%: 453.2    \t|  50%: 454.2    \t|  75%: 455.8    \t|  max: 467.8    \u001b[0m\n",
      "\u001b[32m2022-07-06 12:37:59\u001b[0m | \u001b[1mINFO    \u001b[0m | \u001b[1macc:\t| avg: 0.9991   \t|  std: 0.001725 \t|  min: 0.9902   \t|  25%: 0.998    \t|  50%: 1.0      \t|  75%: 1.0      \t|  max: 1.0      \u001b[0m\n",
      "\u001b[32m2022-07-06 12:37:59\u001b[0m | \u001b[1mINFO    \u001b[0m | \u001b[1mlr:\t| avg: 5e-05    \t|  std: nan      \t|  min: 5e-05    \t|  25%: 5e-05    \t|  50%: 5e-05    \t|  75%: 5e-05    \t|  max: 5e-05    \u001b[0m\n",
      "\u001b[32m2022-07-06 12:37:59\u001b[0m | \u001b[1mINFO    \u001b[0m | \u001b[1mvalidation:\u001b[0m\n",
      "\u001b[32m2022-07-06 12:37:59\u001b[0m | \u001b[1mINFO    \u001b[0m | \u001b[1mloss:\t| avg: 540.1    \t|  std: 11.23    \t|  min: 522.5    \t|  25%: 529.6    \t|  50%: 543.8    \t|  75%: 546.6    \t|  max: 558.0    \u001b[0m\n",
      "\u001b[32m2022-07-06 12:37:59\u001b[0m | \u001b[1mINFO    \u001b[0m | \u001b[1macc:\t| avg: 0.9086   \t|  std: 0.01294  \t|  min: 0.8867   \t|  25%: 0.9004   \t|  50%: 0.9072   \t|  75%: 0.918    \t|  max: 0.9297   \u001b[0m\n"
     ]
    },
    {
     "name": "stderr",
     "output_type": "stream",
     "text": [
      "\n",
      "train:   0%|          | 0/73 [00:00<?, ?it/s]\n",
      "\n",
      "train:   0%|          | 0/73 [00:00<?, ?it/s]\n",
      "train: 100%|██████████| 73/73 [00:14<00:00,  5.17it/s]\n",
      "validation:   0%|          | 0/22 [00:00<?, ?it/s]\n",
      "train: 100%|██████████| 73/73 [00:14<00:00,  5.17it/s]\n",
      "validation:   0%|          | 0/22 [00:00<?, ?it/s]\n",
      "validation: 100%|██████████| 22/22 [00:00<00:00, 36.75it/s]"
     ]
    },
    {
     "name": "stdout",
     "output_type": "stream",
     "text": [
      "\n",
      "\u001b[32m2022-07-06 12:38:15\u001b[0m | \u001b[1mINFO    \u001b[0m | \u001b[1mFinished epoch 38/40:\u001b[0m\n",
      "\u001b[32m2022-07-06 12:38:15\u001b[0m | \u001b[1mINFO    \u001b[0m | \u001b[1mtrain:\u001b[0m\n",
      "\u001b[32m2022-07-06 12:38:15\u001b[0m | \u001b[1mINFO    \u001b[0m | \u001b[1mloss:\t| avg: 455.1    \t|  std: 2.917    \t|  min: 451.0    \t|  25%: 453.0    \t|  50%: 454.0    \t|  75%: 456.5    \t|  max: 463.0    \u001b[0m\n",
      "\u001b[32m2022-07-06 12:38:15\u001b[0m | \u001b[1mINFO    \u001b[0m | \u001b[1macc:\t| avg: 0.999    \t|  std: 0.001597 \t|  min: 0.9941   \t|  25%: 0.998    \t|  50%: 1.0      \t|  75%: 1.0      \t|  max: 1.0      \u001b[0m\n",
      "\u001b[32m2022-07-06 12:38:15\u001b[0m | \u001b[1mINFO    \u001b[0m | \u001b[1mlr:\t| avg: 5e-05    \t|  std: nan      \t|  min: 5e-05    \t|  25%: 5e-05    \t|  50%: 5e-05    \t|  75%: 5e-05    \t|  max: 5e-05    \u001b[0m\n",
      "\u001b[32m2022-07-06 12:38:15\u001b[0m | \u001b[1mINFO    \u001b[0m | \u001b[1mvalidation:\u001b[0m\n",
      "\u001b[32m2022-07-06 12:38:15\u001b[0m | \u001b[1mINFO    \u001b[0m | \u001b[1mloss:\t| avg: 537.1    \t|  std: 9.271    \t|  min: 519.5    \t|  25%: 534.0    \t|  50%: 537.8    \t|  75%: 541.9    \t|  max: 556.0    \u001b[0m\n",
      "\u001b[32m2022-07-06 12:38:15\u001b[0m | \u001b[1mINFO    \u001b[0m | \u001b[1macc:\t| avg: 0.9102   \t|  std: 0.00847  \t|  min: 0.8926   \t|  25%: 0.9048   \t|  50%: 0.9102   \t|  75%: 0.9175   \t|  max: 0.9258   \u001b[0m\n"
     ]
    },
    {
     "name": "stderr",
     "output_type": "stream",
     "text": [
      "\n",
      "\n",
      "train:   0%|          | 0/73 [00:00<?, ?it/s]\n",
      "train:   0%|          | 0/73 [00:00<?, ?it/s]\n",
      "train: 100%|██████████| 73/73 [00:14<00:00,  5.16it/s]\n",
      "train: 100%|██████████| 73/73 [00:14<00:00,  5.15it/s]\n",
      "train: 100%|██████████| 73/73 [00:14<00:00,  5.15it/s]\n",
      "train: 100%|██████████| 73/73 [00:14<00:00,  5.15it/s]\n",
      "validation: 100%|██████████| 22/22 [00:00<00:00, 37.53it/s]"
     ]
    },
    {
     "name": "stdout",
     "output_type": "stream",
     "text": [
      "\n",
      "\u001b[32m2022-07-06 12:38:30\u001b[0m | \u001b[1mINFO    \u001b[0m | \u001b[1mFinished epoch 39/40:\u001b[0m\n",
      "\u001b[32m2022-07-06 12:38:30\u001b[0m | \u001b[1mINFO    \u001b[0m | \u001b[1mtrain:\u001b[0m\n",
      "\u001b[32m2022-07-06 12:38:30\u001b[0m | \u001b[1mINFO    \u001b[0m | \u001b[1mloss:\t| avg: 454.2    \t|  std: 2.319    \t|  min: 451.0    \t|  25%: 452.5    \t|  50%: 453.5    \t|  75%: 455.5    \t|  max: 463.5    \u001b[0m\n",
      "\u001b[32m2022-07-06 12:38:30\u001b[0m | \u001b[1mINFO    \u001b[0m | \u001b[1macc:\t| avg: 0.9996   \t|  std: 0.0009898\t|  min: 0.9961   \t|  25%: 1.0      \t|  50%: 1.0      \t|  75%: 1.0      \t|  max: 1.0      \u001b[0m\n",
      "\u001b[32m2022-07-06 12:38:30\u001b[0m | \u001b[1mINFO    \u001b[0m | \u001b[1mlr:\t| avg: 5e-05    \t|  std: nan      \t|  min: 5e-05    \t|  25%: 5e-05    \t|  50%: 5e-05    \t|  75%: 5e-05    \t|  max: 5e-05    \u001b[0m\n",
      "\u001b[32m2022-07-06 12:38:30\u001b[0m | \u001b[1mINFO    \u001b[0m | \u001b[1mvalidation:\u001b[0m\n",
      "\u001b[32m2022-07-06 12:38:30\u001b[0m | \u001b[1mINFO    \u001b[0m | \u001b[1mloss:\t| avg: 539.2    \t|  std: 10.83    \t|  min: 515.0    \t|  25%: 535.2    \t|  50%: 539.5    \t|  75%: 545.9    \t|  max: 561.5    \u001b[0m\n",
      "\u001b[32m2022-07-06 12:38:30\u001b[0m | \u001b[1mINFO    \u001b[0m | \u001b[1macc:\t| avg: 0.9103   \t|  std: 0.01261  \t|  min: 0.877    \t|  25%: 0.9062   \t|  50%: 0.9092   \t|  75%: 0.916    \t|  max: 0.9395   \u001b[0m\n"
     ]
    },
    {
     "name": "stderr",
     "output_type": "stream",
     "text": [
      "\n",
      "\n",
      "train:   0%|          | 0/73 [00:00<?, ?it/s]\n",
      "train:   0%|          | 0/73 [00:00<?, ?it/s]\n",
      "train: 100%|██████████| 73/73 [00:14<00:00,  5.15it/s]\n",
      "train: 100%|██████████| 73/73 [00:14<00:00,  5.15it/s]\n",
      "train: 100%|██████████| 73/73 [00:14<00:00,  5.15it/s]\n",
      "train: 100%|██████████| 73/73 [00:14<00:00,  5.15it/s]\n",
      "validation: 100%|██████████| 22/22 [00:00<00:00, 37.40it/s]"
     ]
    },
    {
     "name": "stdout",
     "output_type": "stream",
     "text": [
      "\n",
      "\u001b[32m2022-07-06 12:38:46\u001b[0m | \u001b[1mINFO    \u001b[0m | \u001b[1mFinished epoch 40/40:\u001b[0m\n",
      "\u001b[32m2022-07-06 12:38:46\u001b[0m | \u001b[1mINFO    \u001b[0m | \u001b[1mtrain:\u001b[0m\n",
      "\u001b[32m2022-07-06 12:38:46\u001b[0m | \u001b[1mINFO    \u001b[0m | \u001b[1mloss:\t| avg: 454.4    \t|  std: 2.115    \t|  min: 451.8    \t|  25%: 452.8    \t|  50%: 454.0    \t|  75%: 455.8    \t|  max: 460.0    \u001b[0m\n",
      "\u001b[32m2022-07-06 12:38:46\u001b[0m | \u001b[1mINFO    \u001b[0m | \u001b[1macc:\t| avg: 0.9992   \t|  std: 0.001254 \t|  min: 0.9941   \t|  25%: 0.998    \t|  50%: 1.0      \t|  75%: 1.0      \t|  max: 1.0      \u001b[0m\n",
      "\u001b[32m2022-07-06 12:38:46\u001b[0m | \u001b[1mINFO    \u001b[0m | \u001b[1mlr:\t| avg: 5e-05    \t|  std: nan      \t|  min: 5e-05    \t|  25%: 5e-05    \t|  50%: 5e-05    \t|  75%: 5e-05    \t|  max: 5e-05    \u001b[0m\n",
      "\u001b[32m2022-07-06 12:38:46\u001b[0m | \u001b[1mINFO    \u001b[0m | \u001b[1mvalidation:\u001b[0m\n",
      "\u001b[32m2022-07-06 12:38:46\u001b[0m | \u001b[1mINFO    \u001b[0m | \u001b[1mloss:\t| avg: 539.4    \t|  std: 9.066    \t|  min: 523.5    \t|  25%: 531.6    \t|  50%: 541.2    \t|  75%: 548.0    \t|  max: 551.0    \u001b[0m\n",
      "\u001b[32m2022-07-06 12:38:46\u001b[0m | \u001b[1mINFO    \u001b[0m | \u001b[1macc:\t| avg: 0.9118   \t|  std: 0.01166  \t|  min: 0.8945   \t|  25%: 0.9014   \t|  50%: 0.9131   \t|  75%: 0.9194   \t|  max: 0.9355   \u001b[0m\n",
      "\u001b[32m2022-07-06 12:38:47\u001b[0m | \u001b[1mINFO    \u001b[0m | \u001b[1mReload experiment from checkpoint: /localdata/elads/data/cifar10/cifar10/CIFAR10Algorithm/debug/0147_20220706_122801/checkpoints/checkpoint_000040\u001b[0m\n"
     ]
    }
   ],
   "source": [
    "alg = experiment.fit(CIFAR10Algorithm, CIFAR10Dataset, tensorboard_arguments={'images': {'sample': {'dataformats': 'NCHW'}}})"
   ]
  },
  {
   "cell_type": "code",
   "execution_count": 5,
   "id": "a1018386-8b16-48a5-954b-74bc0ddad5d4",
   "metadata": {},
   "outputs": [
    {
     "data": {
      "application/vnd.jupyter.widget-view+json": {
       "model_id": "7a4c9ec88f364370a11a676c480aeda7",
       "version_major": 2,
       "version_minor": 0
      },
      "text/plain": [
       "test:   0%|          | 0/20 [00:00<?, ?it/s]"
      ]
     },
     "metadata": {},
     "output_type": "display_data"
    },
    {
     "data": {
      "text/plain": [
       "0.7747989445924759"
      ]
     },
     "execution_count": 5,
     "metadata": {},
     "output_type": "execute_result"
    }
   ],
   "source": [
    "np.mean(alg.evaluate('test')['scalar']['acc'])"
   ]
  },
  {
   "cell_type": "markdown",
   "id": "8a7c5c77-a0c5-4d38-9ce4-2fecb034b790",
   "metadata": {},
   "source": [
    "## Show tensorboard"
   ]
  },
  {
   "cell_type": "code",
   "execution_count": 10,
   "id": "8766e28e-542e-4fb2-980d-91b2a123d0ca",
   "metadata": {},
   "outputs": [],
   "source": [
    "%load_ext tensorboard"
   ]
  },
  {
   "cell_type": "code",
   "execution_count": 11,
   "id": "70111a47-1d15-47ea-b06d-2753d9301ddc",
   "metadata": {},
   "outputs": [
    {
     "data": {
      "text/html": [
       "\n",
       "      <iframe id=\"tensorboard-frame-700ce5022e8b9eca\" width=\"100%\" height=\"800\" frameborder=\"0\">\n",
       "      </iframe>\n",
       "      <script>\n",
       "        (function() {\n",
       "          const frame = document.getElementById(\"tensorboard-frame-700ce5022e8b9eca\");\n",
       "          const url = new URL(\"/\", window.location);\n",
       "          const port = 13067;\n",
       "          if (port) {\n",
       "            url.port = port;\n",
       "          }\n",
       "          frame.src = url;\n",
       "        })();\n",
       "      </script>\n",
       "    "
      ],
      "text/plain": [
       "<IPython.core.display.HTML object>"
      ]
     },
     "metadata": {},
     "output_type": "display_data"
    }
   ],
   "source": [
    "%tensorboard --logdir /localdata/elads/data/cifar10/cifar10/CIFAR10Algorithm/debug/0147_20220706_122801 --port=13067 --bind_all"
   ]
  },
  {
   "cell_type": "markdown",
   "id": "3532ab07-ec57-4c84-a7cc-e53194c06906",
   "metadata": {},
   "source": [
    "## Hyperparameter search with native optuna"
   ]
  },
  {
   "cell_type": "code",
   "execution_count": null,
   "id": "3a55d5ea-d43e-4c8a-82df-ba7393f5e5cd",
   "metadata": {},
   "outputs": [],
   "source": [
    "args = beam_arguments(f\"--project-name=cifar10 --root-dir={root_dir} --algorithm=CIFAR10Algorithm --device=0 --half --lr-d=1e-3 --batch-size=512\",\n",
    "                      \"--n-epochs=40 --clip-gradient=1000 --parallel=4 --accumulate=1 --no-deterministic\",\n",
    "                      \"--weight-decay=1e-5 --beta1=0.9 --beta2=0.9\", \n",
    "                      path_to_data=path_to_data, dropout=.0, activation='relu', channels=512, label_smoothing=.2,\n",
    "                      padding=6, gain=.2, turn_point=1024, final_point=3000, minimal_gain=.05, temperature=1)\n",
    "\n",
    "study = Study(cifar10_algorithm_generator, args)"
   ]
  },
  {
   "cell_type": "code",
   "execution_count": 14,
   "id": "a0e58cf5-4ced-48eb-93cd-ca2f427e0dc6",
   "metadata": {},
   "outputs": [],
   "source": [
    "def suggest(trial):\n",
    "    lr = trial.suggest_loguniform(\"lr\", 1e-3, 2e-2)\n",
    "    print('My suggestion')\n",
    "    print(lr)\n",
    "    return {'lr_dense': lr}\n",
    "    "
   ]
  },
  {
   "cell_type": "code",
   "execution_count": 15,
   "id": "f3a4ff8d-fb63-41d7-ba63-69cde55080ce",
   "metadata": {
    "tags": []
   },
   "outputs": [
    {
     "name": "stderr",
     "output_type": "stream",
     "text": [
      "\u001b[32m[I 2022-06-20 08:46:21,221]\u001b[0m A new study created in memory with name: cifar10/CIFAR10Algorithm/debug_hp_optimization_20220620_084618\u001b[0m\n"
     ]
    },
    {
     "name": "stdout",
     "output_type": "stream",
     "text": [
      "My suggestion\n",
      "0.009781018192999246\n",
      "\u001b[32m2022-06-20 08:46:21.224\u001b[0m | \u001b[1mINFO    \u001b[0m | \u001b[36msrc.beam.experiment\u001b[0m:\u001b[36mrunner_optuna\u001b[0m:\u001b[36m114\u001b[0m - \u001b[1mNext Hyperparameter suggestion:\u001b[0m\n",
      "\u001b[32m2022-06-20 08:46:21.225\u001b[0m | \u001b[1mINFO    \u001b[0m | \u001b[36msrc.beam.experiment\u001b[0m:\u001b[36mrunner_optuna\u001b[0m:\u001b[36m116\u001b[0m - \u001b[1mlr_dense: 0.009781018192999246\u001b[0m\n",
      "\u001b[32m2022-06-20 08:46:21.229\u001b[0m | \u001b[1mINFO    \u001b[0m | \u001b[36msrc.beam.experiment\u001b[0m:\u001b[36m__init__\u001b[0m:\u001b[36m262\u001b[0m - \u001b[1mCreating new experiment\u001b[0m\n",
      "\u001b[32m2022-06-20 08:46:21.229\u001b[0m | \u001b[1mINFO    \u001b[0m | \u001b[36msrc.beam.experiment\u001b[0m:\u001b[36m__init__\u001b[0m:\u001b[36m277\u001b[0m - \u001b[1mExperiment directory is: /home/shared/data/results/cifar10/cifar10/CIFAR10Algorithm/debug_hp_optimization_20220620_084618/0000_20220620_084621\u001b[0m\n",
      "\u001b[32m2022-06-20 08:46:21.239\u001b[0m | \u001b[1mINFO    \u001b[0m | \u001b[36msrc.beam.experiment\u001b[0m:\u001b[36mrun\u001b[0m:\u001b[36m554\u001b[0m - \u001b[1mSingle worker mode\u001b[0m\n",
      "\u001b[32m2022-06-20 08:46:21.240\u001b[0m | \u001b[1mINFO    \u001b[0m | \u001b[36msrc.beam.experiment\u001b[0m:\u001b[36mrun_worker\u001b[0m:\u001b[36m48\u001b[0m - \u001b[1mWorker: 1/1 is running...\u001b[0m\n",
      "0.08\n",
      "0.16\n",
      "0.24\n",
      "0.32\n",
      "0.4\n",
      "0.38857142857142857\n",
      "0.37714285714285717\n",
      "0.3657142857142857\n",
      "0.3542857142857143\n",
      "0.34285714285714286\n",
      "0.33142857142857146\n",
      "0.32\n",
      "0.3085714285714286\n"
     ]
    },
    {
     "ename": "KeyboardInterrupt",
     "evalue": "",
     "output_type": "error",
     "traceback": [
      "\u001b[0;31m---------------------------------------------------------------------------\u001b[0m",
      "\u001b[0;31mKeyboardInterrupt\u001b[0m                         Traceback (most recent call last)",
      "\u001b[0;32m/tmp/ipykernel_20636/186816704.py\u001b[0m in \u001b[0;36m<cell line: 1>\u001b[0;34m()\u001b[0m\n\u001b[0;32m----> 1\u001b[0;31m \u001b[0mstudy\u001b[0m\u001b[0;34m.\u001b[0m\u001b[0moptuna\u001b[0m\u001b[0;34m(\u001b[0m\u001b[0msuggest\u001b[0m\u001b[0;34m,\u001b[0m \u001b[0mdirection\u001b[0m\u001b[0;34m=\u001b[0m\u001b[0;34m'maximize'\u001b[0m\u001b[0;34m,\u001b[0m \u001b[0mn_jobs\u001b[0m\u001b[0;34m=\u001b[0m\u001b[0;36m1\u001b[0m\u001b[0;34m,\u001b[0m \u001b[0mn_trials\u001b[0m\u001b[0;34m=\u001b[0m\u001b[0;36m10\u001b[0m\u001b[0;34m)\u001b[0m\u001b[0;34m\u001b[0m\u001b[0;34m\u001b[0m\u001b[0m\n\u001b[0m",
      "\u001b[0;32m/home/elad/docker/beamds/notebooks/../src/beam/experiment.py\u001b[0m in \u001b[0;36moptuna\u001b[0;34m(self, suggest, storage, sampler, pruner, study_name, direction, load_if_exists, directions, *args, **kwargs)\u001b[0m\n\u001b[1;32m    148\u001b[0m         study = optuna.create_study(storage=storage, sampler=sampler, pruner=pruner, study_name=study_name,\n\u001b[1;32m    149\u001b[0m                                     direction=direction, load_if_exists=load_if_exists, directions=directions)\n\u001b[0;32m--> 150\u001b[0;31m         \u001b[0mstudy\u001b[0m\u001b[0;34m.\u001b[0m\u001b[0moptimize\u001b[0m\u001b[0;34m(\u001b[0m\u001b[0mrunner\u001b[0m\u001b[0;34m,\u001b[0m \u001b[0;34m*\u001b[0m\u001b[0margs\u001b[0m\u001b[0;34m,\u001b[0m \u001b[0;34m**\u001b[0m\u001b[0mkwargs\u001b[0m\u001b[0;34m)\u001b[0m\u001b[0;34m\u001b[0m\u001b[0;34m\u001b[0m\u001b[0m\n\u001b[0m\u001b[1;32m    151\u001b[0m \u001b[0;34m\u001b[0m\u001b[0m\n\u001b[1;32m    152\u001b[0m         \u001b[0;32mreturn\u001b[0m \u001b[0mstudy\u001b[0m\u001b[0;34m\u001b[0m\u001b[0;34m\u001b[0m\u001b[0m\n",
      "\u001b[0;32m/opt/conda/lib/python3.8/site-packages/optuna/study/study.py\u001b[0m in \u001b[0;36moptimize\u001b[0;34m(self, func, n_trials, timeout, n_jobs, catch, callbacks, gc_after_trial, show_progress_bar)\u001b[0m\n\u001b[1;32m    398\u001b[0m             )\n\u001b[1;32m    399\u001b[0m \u001b[0;34m\u001b[0m\u001b[0m\n\u001b[0;32m--> 400\u001b[0;31m         _optimize(\n\u001b[0m\u001b[1;32m    401\u001b[0m             \u001b[0mstudy\u001b[0m\u001b[0;34m=\u001b[0m\u001b[0mself\u001b[0m\u001b[0;34m,\u001b[0m\u001b[0;34m\u001b[0m\u001b[0;34m\u001b[0m\u001b[0m\n\u001b[1;32m    402\u001b[0m             \u001b[0mfunc\u001b[0m\u001b[0;34m=\u001b[0m\u001b[0mfunc\u001b[0m\u001b[0;34m,\u001b[0m\u001b[0;34m\u001b[0m\u001b[0;34m\u001b[0m\u001b[0m\n",
      "\u001b[0;32m/opt/conda/lib/python3.8/site-packages/optuna/study/_optimize.py\u001b[0m in \u001b[0;36m_optimize\u001b[0;34m(study, func, n_trials, timeout, n_jobs, catch, callbacks, gc_after_trial, show_progress_bar)\u001b[0m\n\u001b[1;32m     64\u001b[0m     \u001b[0;32mtry\u001b[0m\u001b[0;34m:\u001b[0m\u001b[0;34m\u001b[0m\u001b[0;34m\u001b[0m\u001b[0m\n\u001b[1;32m     65\u001b[0m         \u001b[0;32mif\u001b[0m \u001b[0mn_jobs\u001b[0m \u001b[0;34m==\u001b[0m \u001b[0;36m1\u001b[0m\u001b[0;34m:\u001b[0m\u001b[0;34m\u001b[0m\u001b[0;34m\u001b[0m\u001b[0m\n\u001b[0;32m---> 66\u001b[0;31m             _optimize_sequential(\n\u001b[0m\u001b[1;32m     67\u001b[0m                 \u001b[0mstudy\u001b[0m\u001b[0;34m,\u001b[0m\u001b[0;34m\u001b[0m\u001b[0;34m\u001b[0m\u001b[0m\n\u001b[1;32m     68\u001b[0m                 \u001b[0mfunc\u001b[0m\u001b[0;34m,\u001b[0m\u001b[0;34m\u001b[0m\u001b[0;34m\u001b[0m\u001b[0m\n",
      "\u001b[0;32m/opt/conda/lib/python3.8/site-packages/optuna/study/_optimize.py\u001b[0m in \u001b[0;36m_optimize_sequential\u001b[0;34m(study, func, n_trials, timeout, catch, callbacks, gc_after_trial, reseed_sampler_rng, time_start, progress_bar)\u001b[0m\n\u001b[1;32m    161\u001b[0m \u001b[0;34m\u001b[0m\u001b[0m\n\u001b[1;32m    162\u001b[0m         \u001b[0;32mtry\u001b[0m\u001b[0;34m:\u001b[0m\u001b[0;34m\u001b[0m\u001b[0;34m\u001b[0m\u001b[0m\n\u001b[0;32m--> 163\u001b[0;31m             \u001b[0mtrial\u001b[0m \u001b[0;34m=\u001b[0m \u001b[0m_run_trial\u001b[0m\u001b[0;34m(\u001b[0m\u001b[0mstudy\u001b[0m\u001b[0;34m,\u001b[0m \u001b[0mfunc\u001b[0m\u001b[0;34m,\u001b[0m \u001b[0mcatch\u001b[0m\u001b[0;34m)\u001b[0m\u001b[0;34m\u001b[0m\u001b[0;34m\u001b[0m\u001b[0m\n\u001b[0m\u001b[1;32m    164\u001b[0m         \u001b[0;32mexcept\u001b[0m \u001b[0mException\u001b[0m\u001b[0;34m:\u001b[0m\u001b[0;34m\u001b[0m\u001b[0;34m\u001b[0m\u001b[0m\n\u001b[1;32m    165\u001b[0m             \u001b[0;32mraise\u001b[0m\u001b[0;34m\u001b[0m\u001b[0;34m\u001b[0m\u001b[0m\n",
      "\u001b[0;32m/opt/conda/lib/python3.8/site-packages/optuna/study/_optimize.py\u001b[0m in \u001b[0;36m_run_trial\u001b[0;34m(study, func, catch)\u001b[0m\n\u001b[1;32m    211\u001b[0m \u001b[0;34m\u001b[0m\u001b[0m\n\u001b[1;32m    212\u001b[0m     \u001b[0;32mtry\u001b[0m\u001b[0;34m:\u001b[0m\u001b[0;34m\u001b[0m\u001b[0;34m\u001b[0m\u001b[0m\n\u001b[0;32m--> 213\u001b[0;31m         \u001b[0mvalue_or_values\u001b[0m \u001b[0;34m=\u001b[0m \u001b[0mfunc\u001b[0m\u001b[0;34m(\u001b[0m\u001b[0mtrial\u001b[0m\u001b[0;34m)\u001b[0m\u001b[0;34m\u001b[0m\u001b[0;34m\u001b[0m\u001b[0m\n\u001b[0m\u001b[1;32m    214\u001b[0m     \u001b[0;32mexcept\u001b[0m \u001b[0mexceptions\u001b[0m\u001b[0;34m.\u001b[0m\u001b[0mTrialPruned\u001b[0m \u001b[0;32mas\u001b[0m \u001b[0me\u001b[0m\u001b[0;34m:\u001b[0m\u001b[0;34m\u001b[0m\u001b[0;34m\u001b[0m\u001b[0m\n\u001b[1;32m    215\u001b[0m         \u001b[0;31m# TODO(mamu): Handle multi-objective cases.\u001b[0m\u001b[0;34m\u001b[0m\u001b[0;34m\u001b[0m\u001b[0;34m\u001b[0m\u001b[0m\n",
      "\u001b[0;32m/home/elad/docker/beamds/notebooks/../src/beam/experiment.py\u001b[0m in \u001b[0;36mrunner_optuna\u001b[0;34m(self, trial, suggest)\u001b[0m\n\u001b[1;32m    123\u001b[0m         experiment = Experiment(args, hpo='optuna', results_names='objective',\n\u001b[1;32m    124\u001b[0m                                 trial=trial, print_hyperparameters=False)\n\u001b[0;32m--> 125\u001b[0;31m         \u001b[0malg\u001b[0m\u001b[0;34m,\u001b[0m \u001b[0mresults\u001b[0m \u001b[0;34m=\u001b[0m \u001b[0mexperiment\u001b[0m\u001b[0;34m(\u001b[0m\u001b[0mself\u001b[0m\u001b[0;34m.\u001b[0m\u001b[0mag\u001b[0m\u001b[0;34m,\u001b[0m \u001b[0mreturn_results\u001b[0m\u001b[0;34m=\u001b[0m\u001b[0;32mTrue\u001b[0m\u001b[0;34m)\u001b[0m\u001b[0;34m\u001b[0m\u001b[0;34m\u001b[0m\u001b[0m\n\u001b[0m\u001b[1;32m    126\u001b[0m \u001b[0;34m\u001b[0m\u001b[0m\n\u001b[1;32m    127\u001b[0m         \u001b[0;32mif\u001b[0m \u001b[0;34m'objective'\u001b[0m \u001b[0;32min\u001b[0m \u001b[0mresults\u001b[0m\u001b[0;34m:\u001b[0m\u001b[0;34m\u001b[0m\u001b[0;34m\u001b[0m\u001b[0m\n",
      "\u001b[0;32m/home/elad/docker/beamds/notebooks/../src/beam/experiment.py\u001b[0m in \u001b[0;36m__call__\u001b[0;34m(self, algorithm_generator, return_results, reload_results, *args, **kwargs)\u001b[0m\n\u001b[1;32m    492\u001b[0m     \u001b[0;32mdef\u001b[0m \u001b[0m__call__\u001b[0m\u001b[0;34m(\u001b[0m\u001b[0mself\u001b[0m\u001b[0;34m,\u001b[0m \u001b[0malgorithm_generator\u001b[0m\u001b[0;34m,\u001b[0m \u001b[0;34m*\u001b[0m\u001b[0margs\u001b[0m\u001b[0;34m,\u001b[0m \u001b[0mreturn_results\u001b[0m\u001b[0;34m=\u001b[0m\u001b[0;32mFalse\u001b[0m\u001b[0;34m,\u001b[0m \u001b[0mreload_results\u001b[0m\u001b[0;34m=\u001b[0m\u001b[0;32mFalse\u001b[0m\u001b[0;34m,\u001b[0m \u001b[0;34m**\u001b[0m\u001b[0mkwargs\u001b[0m\u001b[0;34m)\u001b[0m\u001b[0;34m:\u001b[0m\u001b[0;34m\u001b[0m\u001b[0;34m\u001b[0m\u001b[0m\n\u001b[1;32m    493\u001b[0m \u001b[0;34m\u001b[0m\u001b[0m\n\u001b[0;32m--> 494\u001b[0;31m         \u001b[0mres\u001b[0m \u001b[0;34m=\u001b[0m \u001b[0mself\u001b[0m\u001b[0;34m.\u001b[0m\u001b[0mrun\u001b[0m\u001b[0;34m(\u001b[0m\u001b[0mdefault_runner\u001b[0m\u001b[0;34m,\u001b[0m \u001b[0;34m*\u001b[0m\u001b[0;34m(\u001b[0m\u001b[0malgorithm_generator\u001b[0m\u001b[0;34m,\u001b[0m \u001b[0mself\u001b[0m\u001b[0;34m,\u001b[0m \u001b[0;34m*\u001b[0m\u001b[0margs\u001b[0m\u001b[0;34m)\u001b[0m\u001b[0;34m,\u001b[0m \u001b[0;34m**\u001b[0m\u001b[0mkwargs\u001b[0m\u001b[0;34m)\u001b[0m\u001b[0;34m\u001b[0m\u001b[0;34m\u001b[0m\u001b[0m\n\u001b[0m\u001b[1;32m    495\u001b[0m \u001b[0;34m\u001b[0m\u001b[0m\n\u001b[1;32m    496\u001b[0m         \u001b[0;32mif\u001b[0m \u001b[0mres\u001b[0m \u001b[0;32mis\u001b[0m \u001b[0;32mNone\u001b[0m \u001b[0;32mor\u001b[0m \u001b[0mself\u001b[0m\u001b[0;34m.\u001b[0m\u001b[0mworld_size\u001b[0m \u001b[0;34m>\u001b[0m \u001b[0;36m1\u001b[0m\u001b[0;34m:\u001b[0m\u001b[0;34m\u001b[0m\u001b[0;34m\u001b[0m\u001b[0m\n",
      "\u001b[0;32m/home/elad/docker/beamds/notebooks/../src/beam/experiment.py\u001b[0m in \u001b[0;36mrun\u001b[0;34m(self, job, *args, **kwargs)\u001b[0m\n\u001b[1;32m    553\u001b[0m         \u001b[0;32melse\u001b[0m\u001b[0;34m:\u001b[0m\u001b[0;34m\u001b[0m\u001b[0;34m\u001b[0m\u001b[0m\n\u001b[1;32m    554\u001b[0m             \u001b[0mlogger\u001b[0m\u001b[0;34m.\u001b[0m\u001b[0minfo\u001b[0m\u001b[0;34m(\u001b[0m\u001b[0;34mf'Single worker mode'\u001b[0m\u001b[0;34m)\u001b[0m\u001b[0;34m\u001b[0m\u001b[0;34m\u001b[0m\u001b[0m\n\u001b[0;32m--> 555\u001b[0;31m             \u001b[0;32mreturn\u001b[0m \u001b[0mrun_worker\u001b[0m\u001b[0;34m(\u001b[0m\u001b[0;36m0\u001b[0m\u001b[0;34m,\u001b[0m \u001b[0;36m1\u001b[0m\u001b[0;34m,\u001b[0m \u001b[0;32mNone\u001b[0m\u001b[0;34m,\u001b[0m \u001b[0;34m*\u001b[0m\u001b[0marguments\u001b[0m\u001b[0;34m,\u001b[0m \u001b[0;34m**\u001b[0m\u001b[0mkwargs\u001b[0m\u001b[0;34m)\u001b[0m\u001b[0;34m\u001b[0m\u001b[0;34m\u001b[0m\u001b[0m\n\u001b[0m\u001b[1;32m    556\u001b[0m \u001b[0;34m\u001b[0m\u001b[0m\n\u001b[1;32m    557\u001b[0m     \u001b[0;32mdef\u001b[0m \u001b[0m__enter__\u001b[0m\u001b[0;34m(\u001b[0m\u001b[0mself\u001b[0m\u001b[0;34m)\u001b[0m\u001b[0;34m:\u001b[0m\u001b[0;34m\u001b[0m\u001b[0;34m\u001b[0m\u001b[0m\n",
      "\u001b[0;32m/home/elad/docker/beamds/notebooks/../src/beam/experiment.py\u001b[0m in \u001b[0;36mrun_worker\u001b[0;34m(rank, world_size, results_queue, job, experiment, *args)\u001b[0m\n\u001b[1;32m     54\u001b[0m     \u001b[0mset_seed\u001b[0m\u001b[0;34m(\u001b[0m\u001b[0mseed\u001b[0m\u001b[0;34m=\u001b[0m\u001b[0mexperiment\u001b[0m\u001b[0;34m.\u001b[0m\u001b[0mseed\u001b[0m\u001b[0;34m,\u001b[0m \u001b[0mconstant\u001b[0m\u001b[0;34m=\u001b[0m\u001b[0mrank\u001b[0m\u001b[0;34m,\u001b[0m \u001b[0mincrement\u001b[0m\u001b[0;34m=\u001b[0m\u001b[0;32mFalse\u001b[0m\u001b[0;34m,\u001b[0m \u001b[0mdeterministic\u001b[0m\u001b[0;34m=\u001b[0m\u001b[0mexperiment\u001b[0m\u001b[0;34m.\u001b[0m\u001b[0mdeterministic\u001b[0m\u001b[0;34m)\u001b[0m\u001b[0;34m\u001b[0m\u001b[0;34m\u001b[0m\u001b[0m\n\u001b[1;32m     55\u001b[0m \u001b[0;34m\u001b[0m\u001b[0m\n\u001b[0;32m---> 56\u001b[0;31m     \u001b[0mres\u001b[0m \u001b[0;34m=\u001b[0m \u001b[0mjob\u001b[0m\u001b[0;34m(\u001b[0m\u001b[0mrank\u001b[0m\u001b[0;34m,\u001b[0m \u001b[0mworld_size\u001b[0m\u001b[0;34m,\u001b[0m \u001b[0mexperiment\u001b[0m\u001b[0;34m,\u001b[0m \u001b[0;34m*\u001b[0m\u001b[0margs\u001b[0m\u001b[0;34m)\u001b[0m\u001b[0;34m\u001b[0m\u001b[0;34m\u001b[0m\u001b[0m\n\u001b[0m\u001b[1;32m     57\u001b[0m \u001b[0;34m\u001b[0m\u001b[0m\n\u001b[1;32m     58\u001b[0m     \u001b[0;32mif\u001b[0m \u001b[0mworld_size\u001b[0m \u001b[0;34m>\u001b[0m \u001b[0;36m1\u001b[0m\u001b[0;34m:\u001b[0m\u001b[0;34m\u001b[0m\u001b[0;34m\u001b[0m\u001b[0m\n",
      "\u001b[0;32m/home/elad/docker/beamds/notebooks/../src/beam/experiment.py\u001b[0m in \u001b[0;36mdefault_runner\u001b[0;34m(rank, world_size, experiment, algorithm_generator, *args, **kwargs)\u001b[0m\n\u001b[1;32m     32\u001b[0m \u001b[0;34m\u001b[0m\u001b[0m\n\u001b[1;32m     33\u001b[0m     \u001b[0mexperiment\u001b[0m\u001b[0;34m.\u001b[0m\u001b[0mwriter_control\u001b[0m\u001b[0;34m(\u001b[0m\u001b[0menable\u001b[0m\u001b[0;34m=\u001b[0m\u001b[0;32mnot\u001b[0m \u001b[0;34m(\u001b[0m\u001b[0mbool\u001b[0m\u001b[0;34m(\u001b[0m\u001b[0mrank\u001b[0m\u001b[0;34m)\u001b[0m\u001b[0;34m)\u001b[0m\u001b[0;34m)\u001b[0m\u001b[0;34m\u001b[0m\u001b[0;34m\u001b[0m\u001b[0m\n\u001b[0;32m---> 34\u001b[0;31m     \u001b[0;32mfor\u001b[0m \u001b[0mresults\u001b[0m \u001b[0;32min\u001b[0m \u001b[0miter\u001b[0m\u001b[0;34m(\u001b[0m\u001b[0malg\u001b[0m\u001b[0;34m)\u001b[0m\u001b[0;34m:\u001b[0m\u001b[0;34m\u001b[0m\u001b[0;34m\u001b[0m\u001b[0m\n\u001b[0m\u001b[1;32m     35\u001b[0m         experiment.save_model_results(results, alg,\n\u001b[1;32m     36\u001b[0m                                       \u001b[0mprint_results\u001b[0m\u001b[0;34m=\u001b[0m\u001b[0mexperiment\u001b[0m\u001b[0;34m.\u001b[0m\u001b[0mprint_results\u001b[0m\u001b[0;34m,\u001b[0m\u001b[0;34m\u001b[0m\u001b[0;34m\u001b[0m\u001b[0m\n",
      "\u001b[0;32m/home/elad/docker/beamds/notebooks/../src/beam/algorithm.py\u001b[0m in \u001b[0;36m__iter__\u001b[0;34m(self)\u001b[0m\n\u001b[1;32m    283\u001b[0m \u001b[0;34m\u001b[0m\u001b[0m\n\u001b[1;32m    284\u001b[0m         \u001b[0meval_generator\u001b[0m \u001b[0;34m=\u001b[0m \u001b[0mself\u001b[0m\u001b[0;34m.\u001b[0m\u001b[0minner_loop\u001b[0m\u001b[0;34m(\u001b[0m\u001b[0mself\u001b[0m\u001b[0;34m.\u001b[0m\u001b[0mn_epochs\u001b[0m \u001b[0;34m+\u001b[0m \u001b[0;36m1\u001b[0m\u001b[0;34m,\u001b[0m \u001b[0msubset\u001b[0m\u001b[0;34m=\u001b[0m\u001b[0mself\u001b[0m\u001b[0;34m.\u001b[0m\u001b[0meval_subset\u001b[0m\u001b[0;34m,\u001b[0m \u001b[0mtraining\u001b[0m\u001b[0;34m=\u001b[0m\u001b[0;32mFalse\u001b[0m\u001b[0;34m)\u001b[0m\u001b[0;34m\u001b[0m\u001b[0;34m\u001b[0m\u001b[0m\n\u001b[0;32m--> 285\u001b[0;31m         \u001b[0;32mfor\u001b[0m \u001b[0mi\u001b[0m\u001b[0;34m,\u001b[0m \u001b[0mtrain_results\u001b[0m \u001b[0;32min\u001b[0m \u001b[0menumerate\u001b[0m\u001b[0;34m(\u001b[0m\u001b[0mself\u001b[0m\u001b[0;34m.\u001b[0m\u001b[0minner_loop\u001b[0m\u001b[0;34m(\u001b[0m\u001b[0mself\u001b[0m\u001b[0;34m.\u001b[0m\u001b[0mn_epochs\u001b[0m\u001b[0;34m,\u001b[0m \u001b[0msubset\u001b[0m\u001b[0;34m=\u001b[0m\u001b[0;34m'train'\u001b[0m\u001b[0;34m,\u001b[0m \u001b[0mtraining\u001b[0m\u001b[0;34m=\u001b[0m\u001b[0;32mTrue\u001b[0m\u001b[0;34m)\u001b[0m\u001b[0;34m)\u001b[0m\u001b[0;34m:\u001b[0m\u001b[0;34m\u001b[0m\u001b[0;34m\u001b[0m\u001b[0m\n\u001b[0m\u001b[1;32m    286\u001b[0m \u001b[0;34m\u001b[0m\u001b[0m\n\u001b[1;32m    287\u001b[0m             \u001b[0;32mfor\u001b[0m \u001b[0mk_type\u001b[0m \u001b[0;32min\u001b[0m \u001b[0mtrain_results\u001b[0m\u001b[0;34m.\u001b[0m\u001b[0mkeys\u001b[0m\u001b[0;34m(\u001b[0m\u001b[0;34m)\u001b[0m\u001b[0;34m:\u001b[0m\u001b[0;34m\u001b[0m\u001b[0;34m\u001b[0m\u001b[0m\n",
      "\u001b[0;32m/home/elad/docker/beamds/notebooks/../src/beam/algorithm.py\u001b[0m in \u001b[0;36minner_loop\u001b[0;34m(self, n_epochs, subset, training)\u001b[0m\n\u001b[1;32m    204\u001b[0m                                   desc=subset, total=self.epoch_length[subset] - 1):\n\u001b[1;32m    205\u001b[0m                 \u001b[0;31m# print(i)\u001b[0m\u001b[0;34m\u001b[0m\u001b[0;34m\u001b[0m\u001b[0;34m\u001b[0m\u001b[0m\n\u001b[0;32m--> 206\u001b[0;31m                 \u001b[0maux\u001b[0m\u001b[0;34m,\u001b[0m \u001b[0mresults\u001b[0m \u001b[0;34m=\u001b[0m \u001b[0mself\u001b[0m\u001b[0;34m.\u001b[0m\u001b[0miteration\u001b[0m\u001b[0;34m(\u001b[0m\u001b[0msample\u001b[0m\u001b[0;34m=\u001b[0m\u001b[0msample\u001b[0m\u001b[0;34m,\u001b[0m \u001b[0maux\u001b[0m\u001b[0;34m=\u001b[0m\u001b[0maux\u001b[0m\u001b[0;34m,\u001b[0m \u001b[0mresults\u001b[0m\u001b[0;34m=\u001b[0m\u001b[0mresults\u001b[0m\u001b[0;34m,\u001b[0m \u001b[0msubset\u001b[0m\u001b[0;34m=\u001b[0m\u001b[0msubset\u001b[0m\u001b[0;34m,\u001b[0m \u001b[0mtraining\u001b[0m\u001b[0;34m=\u001b[0m\u001b[0mtraining\u001b[0m\u001b[0;34m)\u001b[0m\u001b[0;34m\u001b[0m\u001b[0;34m\u001b[0m\u001b[0m\n\u001b[0m\u001b[1;32m    207\u001b[0m \u001b[0;34m\u001b[0m\u001b[0m\n\u001b[1;32m    208\u001b[0m             aux, results = self.postprocess_epoch(sample=sample, aux=aux, results=results,\n",
      "\u001b[0;32m/home/elad/docker/beamds/notebooks/../cifar10_example.py\u001b[0m in \u001b[0;36miteration\u001b[0;34m(self, sample, aux, results, subset, training)\u001b[0m\n\u001b[1;32m    355\u001b[0m \u001b[0;34m\u001b[0m\u001b[0m\n\u001b[1;32m    356\u001b[0m         \u001b[0;31m# add scalar measurements\u001b[0m\u001b[0;34m\u001b[0m\u001b[0;34m\u001b[0m\u001b[0;34m\u001b[0m\u001b[0m\n\u001b[0;32m--> 357\u001b[0;31m         \u001b[0mresults\u001b[0m\u001b[0;34m[\u001b[0m\u001b[0;34m'scalar'\u001b[0m\u001b[0;34m]\u001b[0m\u001b[0;34m[\u001b[0m\u001b[0;34m'loss'\u001b[0m\u001b[0;34m]\u001b[0m\u001b[0;34m.\u001b[0m\u001b[0mappend\u001b[0m\u001b[0;34m(\u001b[0m\u001b[0mfloat\u001b[0m\u001b[0;34m(\u001b[0m\u001b[0mloss\u001b[0m\u001b[0;34m)\u001b[0m\u001b[0;34m)\u001b[0m\u001b[0;34m\u001b[0m\u001b[0;34m\u001b[0m\u001b[0m\n\u001b[0m\u001b[1;32m    358\u001b[0m         \u001b[0mresults\u001b[0m\u001b[0;34m[\u001b[0m\u001b[0;34m'scalar'\u001b[0m\u001b[0;34m]\u001b[0m\u001b[0;34m[\u001b[0m\u001b[0;34m'acc'\u001b[0m\u001b[0;34m]\u001b[0m\u001b[0;34m.\u001b[0m\u001b[0mappend\u001b[0m\u001b[0;34m(\u001b[0m\u001b[0mfloat\u001b[0m\u001b[0;34m(\u001b[0m\u001b[0;34m(\u001b[0m\u001b[0my_hat\u001b[0m\u001b[0;34m.\u001b[0m\u001b[0margmax\u001b[0m\u001b[0;34m(\u001b[0m\u001b[0;36m1\u001b[0m\u001b[0;34m)\u001b[0m \u001b[0;34m==\u001b[0m \u001b[0my\u001b[0m\u001b[0;34m)\u001b[0m\u001b[0;34m.\u001b[0m\u001b[0mfloat\u001b[0m\u001b[0;34m(\u001b[0m\u001b[0;34m)\u001b[0m\u001b[0;34m.\u001b[0m\u001b[0mmean\u001b[0m\u001b[0;34m(\u001b[0m\u001b[0;34m)\u001b[0m\u001b[0;34m)\u001b[0m\u001b[0;34m)\u001b[0m\u001b[0;34m\u001b[0m\u001b[0;34m\u001b[0m\u001b[0m\n\u001b[1;32m    359\u001b[0m \u001b[0;34m\u001b[0m\u001b[0m\n",
      "\u001b[0;31mKeyboardInterrupt\u001b[0m: "
     ]
    }
   ],
   "source": [
    "study.optuna(suggest, direction='maximize', n_jobs=1, n_trials=10)"
   ]
  },
  {
   "cell_type": "markdown",
   "id": "90540ccd-6dd1-41a2-99e3-ceab19b66faf",
   "metadata": {},
   "source": [
    "## Hyperparameter search with ray-tune and optuna"
   ]
  },
  {
   "cell_type": "code",
   "execution_count": 3,
   "id": "c1f08ce6-1ee8-4160-8f15-f130482696f9",
   "metadata": {},
   "outputs": [
    {
     "name": "stdout",
     "output_type": "stream",
     "text": [
      "\u001b[32m2022-07-06 16:20:20\u001b[0m | \u001b[1mINFO    \u001b[0m | \u001b[1mHyperparameter Optimization\u001b[0m\n",
      "\u001b[32m2022-07-06 16:20:20\u001b[0m | \u001b[1mINFO    \u001b[0m | \u001b[1mbeam project: cifar10\u001b[0m\n",
      "\u001b[32m2022-07-06 16:20:20\u001b[0m | \u001b[1mINFO    \u001b[0m | \u001b[1mExperiment Hyperparameters\u001b[0m\n",
      "\u001b[32m2022-07-06 16:20:20\u001b[0m | \u001b[1mINFO    \u001b[0m | \u001b[1mproject_name: cifar10\u001b[0m\n",
      "\u001b[32m2022-07-06 16:20:20\u001b[0m | \u001b[1mINFO    \u001b[0m | \u001b[1malgorithm: CIFAR10Algorithm\u001b[0m\n",
      "\u001b[32m2022-07-06 16:20:20\u001b[0m | \u001b[1mINFO    \u001b[0m | \u001b[1midentifier: debug_hp_optimization_20220706_162020\u001b[0m\n",
      "\u001b[32m2022-07-06 16:20:20\u001b[0m | \u001b[1mINFO    \u001b[0m | \u001b[1mmp_port: random\u001b[0m\n",
      "\u001b[32m2022-07-06 16:20:20\u001b[0m | \u001b[1mINFO    \u001b[0m | \u001b[1mroot_dir: /localdata/elads/data/cifar10\u001b[0m\n",
      "\u001b[32m2022-07-06 16:20:20\u001b[0m | \u001b[1mINFO    \u001b[0m | \u001b[1mreload: False\u001b[0m\n",
      "\u001b[32m2022-07-06 16:20:20\u001b[0m | \u001b[1mINFO    \u001b[0m | \u001b[1mresume: -1\u001b[0m\n",
      "\u001b[32m2022-07-06 16:20:20\u001b[0m | \u001b[1mINFO    \u001b[0m | \u001b[1moverride: False\u001b[0m\n",
      "\u001b[32m2022-07-06 16:20:20\u001b[0m | \u001b[1mINFO    \u001b[0m | \u001b[1mcpu_workers: 0\u001b[0m\n",
      "\u001b[32m2022-07-06 16:20:20\u001b[0m | \u001b[1mINFO    \u001b[0m | \u001b[1mdevice: 0\u001b[0m\n",
      "\u001b[32m2022-07-06 16:20:20\u001b[0m | \u001b[1mINFO    \u001b[0m | \u001b[1mparallel: 0\u001b[0m\n",
      "\u001b[32m2022-07-06 16:20:20\u001b[0m | \u001b[1mINFO    \u001b[0m | \u001b[1mtensorboard: True\u001b[0m\n",
      "\u001b[32m2022-07-06 16:20:20\u001b[0m | \u001b[1mINFO    \u001b[0m | \u001b[1mlognet: True\u001b[0m\n",
      "\u001b[32m2022-07-06 16:20:20\u001b[0m | \u001b[1mINFO    \u001b[0m | \u001b[1mdeterministic: False\u001b[0m\n",
      "\u001b[32m2022-07-06 16:20:20\u001b[0m | \u001b[1mINFO    \u001b[0m | \u001b[1mscale_epoch_by_batch_size: True\u001b[0m\n",
      "\u001b[32m2022-07-06 16:20:20\u001b[0m | \u001b[1mINFO    \u001b[0m | \u001b[1mhalf: False\u001b[0m\n",
      "\u001b[32m2022-07-06 16:20:20\u001b[0m | \u001b[1mINFO    \u001b[0m | \u001b[1mamp: True\u001b[0m\n",
      "\u001b[32m2022-07-06 16:20:20\u001b[0m | \u001b[1mINFO    \u001b[0m | \u001b[1mstore_initial_weights: False\u001b[0m\n",
      "\u001b[32m2022-07-06 16:20:20\u001b[0m | \u001b[1mINFO    \u001b[0m | \u001b[1moversample: False\u001b[0m\n",
      "\u001b[32m2022-07-06 16:20:20\u001b[0m | \u001b[1mINFO    \u001b[0m | \u001b[1minit: ortho\u001b[0m\n",
      "\u001b[32m2022-07-06 16:20:20\u001b[0m | \u001b[1mINFO    \u001b[0m | \u001b[1mseed: 0\u001b[0m\n",
      "\u001b[32m2022-07-06 16:20:20\u001b[0m | \u001b[1mINFO    \u001b[0m | \u001b[1msplit_dataset_seed: 5782\u001b[0m\n",
      "\u001b[32m2022-07-06 16:20:20\u001b[0m | \u001b[1mINFO    \u001b[0m | \u001b[1mtotal_steps: 1000000\u001b[0m\n",
      "\u001b[32m2022-07-06 16:20:20\u001b[0m | \u001b[1mINFO    \u001b[0m | \u001b[1mepoch_length: None\u001b[0m\n",
      "\u001b[32m2022-07-06 16:20:20\u001b[0m | \u001b[1mINFO    \u001b[0m | \u001b[1mepoch_length_train: None\u001b[0m\n",
      "\u001b[32m2022-07-06 16:20:20\u001b[0m | \u001b[1mINFO    \u001b[0m | \u001b[1mepoch_length_eval: None\u001b[0m\n",
      "\u001b[32m2022-07-06 16:20:20\u001b[0m | \u001b[1mINFO    \u001b[0m | \u001b[1mn_epochs: 40\u001b[0m\n",
      "\u001b[32m2022-07-06 16:20:20\u001b[0m | \u001b[1mINFO    \u001b[0m | \u001b[1mbatch_size: 512\u001b[0m\n",
      "\u001b[32m2022-07-06 16:20:20\u001b[0m | \u001b[1mINFO    \u001b[0m | \u001b[1mbatch_size_train: None\u001b[0m\n",
      "\u001b[32m2022-07-06 16:20:20\u001b[0m | \u001b[1mINFO    \u001b[0m | \u001b[1mbatch_size_eval: None\u001b[0m\n",
      "\u001b[32m2022-07-06 16:20:20\u001b[0m | \u001b[1mINFO    \u001b[0m | \u001b[1mlr_dense: 0.001\u001b[0m\n",
      "\u001b[32m2022-07-06 16:20:20\u001b[0m | \u001b[1mINFO    \u001b[0m | \u001b[1mlr_sparse: 0.01\u001b[0m\n",
      "\u001b[32m2022-07-06 16:20:20\u001b[0m | \u001b[1mINFO    \u001b[0m | \u001b[1mweight_decay: 1e-05\u001b[0m\n",
      "\u001b[32m2022-07-06 16:20:20\u001b[0m | \u001b[1mINFO    \u001b[0m | \u001b[1meps: 0.0001\u001b[0m\n",
      "\u001b[32m2022-07-06 16:20:20\u001b[0m | \u001b[1mINFO    \u001b[0m | \u001b[1mbeta1: 0.9\u001b[0m\n",
      "\u001b[32m2022-07-06 16:20:20\u001b[0m | \u001b[1mINFO    \u001b[0m | \u001b[1mbeta2: 0.9\u001b[0m\n",
      "\u001b[32m2022-07-06 16:20:20\u001b[0m | \u001b[1mINFO    \u001b[0m | \u001b[1mclip_gradient: 1000.0\u001b[0m\n",
      "\u001b[32m2022-07-06 16:20:20\u001b[0m | \u001b[1mINFO    \u001b[0m | \u001b[1maccumulate: 1\u001b[0m\n",
      "\u001b[32m2022-07-06 16:20:20\u001b[0m | \u001b[1mINFO    \u001b[0m | \u001b[1moversampling_weight_factor: 1.0\u001b[0m\n",
      "\u001b[32m2022-07-06 16:20:20\u001b[0m | \u001b[1mINFO    \u001b[0m | \u001b[1mexpansion_size: 10000000\u001b[0m\n",
      "\u001b[32m2022-07-06 16:20:20\u001b[0m | \u001b[1mINFO    \u001b[0m | \u001b[1mprint_results: True\u001b[0m\n",
      "\u001b[32m2022-07-06 16:20:20\u001b[0m | \u001b[1mINFO    \u001b[0m | \u001b[1mvisualize_weights: False\u001b[0m\n",
      "\u001b[32m2022-07-06 16:20:20\u001b[0m | \u001b[1mINFO    \u001b[0m | \u001b[1menable_tqdm: False\u001b[0m\n",
      "\u001b[32m2022-07-06 16:20:20\u001b[0m | \u001b[1mINFO    \u001b[0m | \u001b[1mvisualize_results: yes\u001b[0m\n",
      "\u001b[32m2022-07-06 16:20:20\u001b[0m | \u001b[1mINFO    \u001b[0m | \u001b[1mstore_results: logscale\u001b[0m\n",
      "\u001b[32m2022-07-06 16:20:20\u001b[0m | \u001b[1mINFO    \u001b[0m | \u001b[1mstore_networks: logscale\u001b[0m\n",
      "\u001b[32m2022-07-06 16:20:20\u001b[0m | \u001b[1mINFO    \u001b[0m | \u001b[1mpath_to_data: /localdata/elads/data/datasets/cifar10\u001b[0m\n",
      "\u001b[32m2022-07-06 16:20:20\u001b[0m | \u001b[1mINFO    \u001b[0m | \u001b[1mdropout: 0.0\u001b[0m\n",
      "\u001b[32m2022-07-06 16:20:20\u001b[0m | \u001b[1mINFO    \u001b[0m | \u001b[1mactivation: relu\u001b[0m\n",
      "\u001b[32m2022-07-06 16:20:21\u001b[0m | \u001b[1mINFO    \u001b[0m | \u001b[1mchannels: 512\u001b[0m\n",
      "\u001b[32m2022-07-06 16:20:21\u001b[0m | \u001b[1mINFO    \u001b[0m | \u001b[1mlabel_smoothing: 0.2\u001b[0m\n",
      "\u001b[32m2022-07-06 16:20:21\u001b[0m | \u001b[1mINFO    \u001b[0m | \u001b[1mpadding: 6\u001b[0m\n",
      "\u001b[32m2022-07-06 16:20:21\u001b[0m | \u001b[1mINFO    \u001b[0m | \u001b[1mgain: 0.2\u001b[0m\n",
      "\u001b[32m2022-07-06 16:20:21\u001b[0m | \u001b[1mINFO    \u001b[0m | \u001b[1mturn_point: 1024\u001b[0m\n",
      "\u001b[32m2022-07-06 16:20:21\u001b[0m | \u001b[1mINFO    \u001b[0m | \u001b[1mfinal_point: 3000\u001b[0m\n",
      "\u001b[32m2022-07-06 16:20:21\u001b[0m | \u001b[1mINFO    \u001b[0m | \u001b[1mminimal_gain: 0.05\u001b[0m\n",
      "\u001b[32m2022-07-06 16:20:21\u001b[0m | \u001b[1mINFO    \u001b[0m | \u001b[1mtemperature: 1\u001b[0m\n"
     ]
    }
   ],
   "source": [
    "args = beam_arguments(f\"--project-name=cifar10 --root-dir={root_dir} --algorithm=CIFAR10Algorithm --device=0 --amp --lr-d=1e-3 --batch-size=512\",\n",
    "                      \"--n-epochs=40 --clip-gradient=1000 --parallel=0 --accumulate=1 --no-deterministic\",\n",
    "                      \"--weight-decay=1e-5 --beta1=0.9 --beta2=0.9\", \n",
    "                      path_to_data=path_to_data, dropout=.0, activation='relu', channels=512, label_smoothing=.2,\n",
    "                      padding=6, gain=.2, turn_point=1024, final_point=3000, minimal_gain=.05, temperature=1)\n",
    "\n",
    "study = Study(args, Alg=CIFAR10Algorithm, Dataset=CIFAR10Dataset, print_results=True)"
   ]
  },
  {
   "cell_type": "code",
   "execution_count": null,
   "id": "10a1e867-41ef-4058-b7be-f09740997c83",
   "metadata": {
    "tags": []
   },
   "outputs": [
    {
     "data": {
      "text/html": [
       "== Status ==<br>Current time: 2022-07-06 20:15:03 (running for 03:52:52.75)<br>Memory usage on this node: 20.6/187.6 GiB<br>Using FIFO scheduling algorithm.<br>Resources requested: 4.0/80 CPUs, 4.0/4 GPUs, 0.0/117.02 GiB heap, 0.0/54.14 GiB objects (0.0/1.0 accelerator_type:G)<br>Current best trial: a15943c0 with mean_accuracy=0.9407848011363636 and parameters={'lr_dense': 0.010203551076757052, 'weight_decay': 3.754805428486617e-05, 'beta1': 0.9250874571127935, 'gain': 0.2, 'temperature': 0.05392354206977086, 'minimal_gain': 0.03411564355124982, 'channels': 1024, 'padding': 4, 'turn_point': 512, 'final_point': 4096, 'batch_size': 512, 'activation': 'relu'}<br>Result logdir: /root/ray_results/runner_tune_2022-07-06_16-22-10<br>Number of trials: 126/400 (1 PENDING, 4 RUNNING, 121 TERMINATED)<br><table>\n",
       "<thead>\n",
       "<tr><th>Trial name          </th><th>status    </th><th>loc             </th><th>activation  </th><th style=\"text-align: right;\">  batch_size</th><th style=\"text-align: right;\">   beta1</th><th style=\"text-align: right;\">  channels</th><th style=\"text-align: right;\">  final_point</th><th style=\"text-align: right;\">  gain</th><th style=\"text-align: right;\">   lr_dense</th><th style=\"text-align: right;\">  minimal_gain</th><th style=\"text-align: right;\">  padding</th><th style=\"text-align: right;\">  temperature</th><th style=\"text-align: right;\">  turn_point</th><th style=\"text-align: right;\">  weight_decay</th><th style=\"text-align: right;\">     acc</th><th style=\"text-align: right;\">  iter</th><th style=\"text-align: right;\">  total time (s)</th></tr>\n",
       "</thead>\n",
       "<tbody>\n",
       "<tr><td>runner_tune_ec1791a4</td><td>RUNNING   </td><td>172.17.0.2:39938</td><td>relu        </td><td style=\"text-align: right;\">         512</td><td style=\"text-align: right;\">0.928183</td><td style=\"text-align: right;\">      1024</td><td style=\"text-align: right;\">         4096</td><td style=\"text-align: right;\">   0.2</td><td style=\"text-align: right;\">0.00671536 </td><td style=\"text-align: right;\">     0.0357185</td><td style=\"text-align: right;\">        4</td><td style=\"text-align: right;\">    0.062858 </td><td style=\"text-align: right;\">         512</td><td style=\"text-align: right;\">   4.63743e-05</td><td style=\"text-align: right;\">0.934482</td><td style=\"text-align: right;\">    35</td><td style=\"text-align: right;\">        454.552 </td></tr>\n",
       "<tr><td>runner_tune_3d2a6602</td><td>RUNNING   </td><td>172.17.0.2:40084</td><td>relu        </td><td style=\"text-align: right;\">         512</td><td style=\"text-align: right;\">0.911644</td><td style=\"text-align: right;\">      1024</td><td style=\"text-align: right;\">         4096</td><td style=\"text-align: right;\">   0.2</td><td style=\"text-align: right;\">0.0071578  </td><td style=\"text-align: right;\">     0.0349454</td><td style=\"text-align: right;\">        4</td><td style=\"text-align: right;\">    0.0630833</td><td style=\"text-align: right;\">         512</td><td style=\"text-align: right;\">   3.41031e-05</td><td style=\"text-align: right;\">0.930131</td><td style=\"text-align: right;\">    25</td><td style=\"text-align: right;\">        308.486 </td></tr>\n",
       "<tr><td>runner_tune_93f28ee2</td><td>RUNNING   </td><td>172.17.0.2:40184</td><td>relu        </td><td style=\"text-align: right;\">         512</td><td style=\"text-align: right;\">0.911794</td><td style=\"text-align: right;\">      1024</td><td style=\"text-align: right;\">         4096</td><td style=\"text-align: right;\">   0.2</td><td style=\"text-align: right;\">0.011317   </td><td style=\"text-align: right;\">     0.0469718</td><td style=\"text-align: right;\">        4</td><td style=\"text-align: right;\">    0.0575666</td><td style=\"text-align: right;\">         512</td><td style=\"text-align: right;\">   2.46689e-05</td><td style=\"text-align: right;\">0.925337</td><td style=\"text-align: right;\">    17</td><td style=\"text-align: right;\">        217.496 </td></tr>\n",
       "<tr><td>runner_tune_c8115550</td><td>RUNNING   </td><td>172.17.0.2:40344</td><td>relu        </td><td style=\"text-align: right;\">         256</td><td style=\"text-align: right;\">0.927557</td><td style=\"text-align: right;\">      1024</td><td style=\"text-align: right;\">         4096</td><td style=\"text-align: right;\">   0.2</td><td style=\"text-align: right;\">0.0106841  </td><td style=\"text-align: right;\">     0.0470998</td><td style=\"text-align: right;\">        4</td><td style=\"text-align: right;\">    0.0569684</td><td style=\"text-align: right;\">         512</td><td style=\"text-align: right;\">   3.21594e-05</td><td style=\"text-align: right;\">0.763281</td><td style=\"text-align: right;\">     2</td><td style=\"text-align: right;\">         34.0246</td></tr>\n",
       "<tr><td>runner_tune_38247390</td><td>PENDING   </td><td>                </td><td>relu        </td><td style=\"text-align: right;\">         512</td><td style=\"text-align: right;\">0.927516</td><td style=\"text-align: right;\">      1024</td><td style=\"text-align: right;\">         4096</td><td style=\"text-align: right;\">   0.2</td><td style=\"text-align: right;\">0.00689768 </td><td style=\"text-align: right;\">     0.0473985</td><td style=\"text-align: right;\">        4</td><td style=\"text-align: right;\">    0.0550966</td><td style=\"text-align: right;\">         512</td><td style=\"text-align: right;\">   2.76028e-05</td><td style=\"text-align: right;\">        </td><td style=\"text-align: right;\">      </td><td style=\"text-align: right;\">                </td></tr>\n",
       "<tr><td>runner_tune_c944283c</td><td>TERMINATED</td><td>172.17.0.2:23692</td><td>celu        </td><td style=\"text-align: right;\">         256</td><td style=\"text-align: right;\">0.904816</td><td style=\"text-align: right;\">       256</td><td style=\"text-align: right;\">         2048</td><td style=\"text-align: right;\">   0.2</td><td style=\"text-align: right;\">0.0099276  </td><td style=\"text-align: right;\">     0.0735093</td><td style=\"text-align: right;\">        8</td><td style=\"text-align: right;\">    1.58846  </td><td style=\"text-align: right;\">         512</td><td style=\"text-align: right;\">   3.5821e-06 </td><td style=\"text-align: right;\">0.880295</td><td style=\"text-align: right;\">    40</td><td style=\"text-align: right;\">        204.667 </td></tr>\n",
       "<tr><td>runner_tune_cc0e4228</td><td>TERMINATED</td><td>172.17.0.2:23729</td><td>relu        </td><td style=\"text-align: right;\">         512</td><td style=\"text-align: right;\">0.883576</td><td style=\"text-align: right;\">       512</td><td style=\"text-align: right;\">         2048</td><td style=\"text-align: right;\">   0.2</td><td style=\"text-align: right;\">0.000335789</td><td style=\"text-align: right;\">     0.01734  </td><td style=\"text-align: right;\">        4</td><td style=\"text-align: right;\">    0.221518 </td><td style=\"text-align: right;\">         256</td><td style=\"text-align: right;\">   6.57065e-05</td><td style=\"text-align: right;\">0.908114</td><td style=\"text-align: right;\">    40</td><td style=\"text-align: right;\">        233.51  </td></tr>\n",
       "<tr><td>runner_tune_cc12cf64</td><td>TERMINATED</td><td>172.17.0.2:23731</td><td>gelu        </td><td style=\"text-align: right;\">        1024</td><td style=\"text-align: right;\">0.933654</td><td style=\"text-align: right;\">       512</td><td style=\"text-align: right;\">         4096</td><td style=\"text-align: right;\">   0.2</td><td style=\"text-align: right;\">0.00266318 </td><td style=\"text-align: right;\">     0.014136 </td><td style=\"text-align: right;\">        6</td><td style=\"text-align: right;\">    1.3378   </td><td style=\"text-align: right;\">         512</td><td style=\"text-align: right;\">   0.00157602 </td><td style=\"text-align: right;\">0.910742</td><td style=\"text-align: right;\">    40</td><td style=\"text-align: right;\">        230.826 </td></tr>\n",
       "<tr><td>runner_tune_cc172366</td><td>TERMINATED</td><td>172.17.0.2:23733</td><td>gelu        </td><td style=\"text-align: right;\">         512</td><td style=\"text-align: right;\">0.943031</td><td style=\"text-align: right;\">      1024</td><td style=\"text-align: right;\">         2048</td><td style=\"text-align: right;\">   0.2</td><td style=\"text-align: right;\">0.000101818</td><td style=\"text-align: right;\">     0.0812117</td><td style=\"text-align: right;\">        6</td><td style=\"text-align: right;\">    1.14841  </td><td style=\"text-align: right;\">        1024</td><td style=\"text-align: right;\">   2.45449e-06</td><td style=\"text-align: right;\">0.872603</td><td style=\"text-align: right;\">    40</td><td style=\"text-align: right;\">        497.553 </td></tr>\n",
       "<tr><td>runner_tune_cc1b3c94</td><td>TERMINATED</td><td>172.17.0.2:24077</td><td>relu        </td><td style=\"text-align: right;\">         256</td><td style=\"text-align: right;\">0.856223</td><td style=\"text-align: right;\">       256</td><td style=\"text-align: right;\">         4096</td><td style=\"text-align: right;\">   0.2</td><td style=\"text-align: right;\">0.00219286 </td><td style=\"text-align: right;\">     0.0769723</td><td style=\"text-align: right;\">        4</td><td style=\"text-align: right;\">    0.668636 </td><td style=\"text-align: right;\">         512</td><td style=\"text-align: right;\">   0.00776539 </td><td style=\"text-align: right;\">0.907031</td><td style=\"text-align: right;\">    40</td><td style=\"text-align: right;\">        188.601 </td></tr>\n",
       "<tr><td>runner_tune_4632e37e</td><td>TERMINATED</td><td>172.17.0.2:24149</td><td>relu        </td><td style=\"text-align: right;\">        1024</td><td style=\"text-align: right;\">0.937378</td><td style=\"text-align: right;\">       512</td><td style=\"text-align: right;\">         4096</td><td style=\"text-align: right;\">   0.2</td><td style=\"text-align: right;\">0.0045484  </td><td style=\"text-align: right;\">     0.0580098</td><td style=\"text-align: right;\">        6</td><td style=\"text-align: right;\">    1.64906  </td><td style=\"text-align: right;\">        1024</td><td style=\"text-align: right;\">   1.21147e-06</td><td style=\"text-align: right;\">0.893164</td><td style=\"text-align: right;\">    40</td><td style=\"text-align: right;\">        232.425 </td></tr>\n",
       "<tr><td>runner_tune_58156b70</td><td>TERMINATED</td><td>172.17.0.2:24191</td><td>gelu        </td><td style=\"text-align: right;\">        1024</td><td style=\"text-align: right;\">0.916254</td><td style=\"text-align: right;\">      1024</td><td style=\"text-align: right;\">         3072</td><td style=\"text-align: right;\">   0.2</td><td style=\"text-align: right;\">0.0013097  </td><td style=\"text-align: right;\">     0.0314885</td><td style=\"text-align: right;\">        4</td><td style=\"text-align: right;\">    0.0971107</td><td style=\"text-align: right;\">        1024</td><td style=\"text-align: right;\">   1.9714e-06 </td><td style=\"text-align: right;\">0.931836</td><td style=\"text-align: right;\">    40</td><td style=\"text-align: right;\">        482.723 </td></tr>\n",
       "<tr><td>runner_tune_59df5f7e</td><td>TERMINATED</td><td>172.17.0.2:24544</td><td>celu        </td><td style=\"text-align: right;\">         256</td><td style=\"text-align: right;\">0.947746</td><td style=\"text-align: right;\">       256</td><td style=\"text-align: right;\">         4096</td><td style=\"text-align: right;\">   0.2</td><td style=\"text-align: right;\">0.000158522</td><td style=\"text-align: right;\">     0.0795479</td><td style=\"text-align: right;\">        4</td><td style=\"text-align: right;\">    0.819647 </td><td style=\"text-align: right;\">         512</td><td style=\"text-align: right;\">   0.000886786</td><td style=\"text-align: right;\">0.88941 </td><td style=\"text-align: right;\">    40</td><td style=\"text-align: right;\">        192.232 </td></tr>\n",
       "<tr><td>runner_tune_b941fe4a</td><td>TERMINATED</td><td>172.17.0.2:24666</td><td>relu        </td><td style=\"text-align: right;\">        1024</td><td style=\"text-align: right;\">0.907047</td><td style=\"text-align: right;\">      1024</td><td style=\"text-align: right;\">         4096</td><td style=\"text-align: right;\">   0.2</td><td style=\"text-align: right;\">0.00225823 </td><td style=\"text-align: right;\">     0.0993085</td><td style=\"text-align: right;\">        4</td><td style=\"text-align: right;\">    0.582934 </td><td style=\"text-align: right;\">         512</td><td style=\"text-align: right;\">   4.27104e-05</td><td style=\"text-align: right;\">0.918262</td><td style=\"text-align: right;\">    40</td><td style=\"text-align: right;\">        479.707 </td></tr>\n",
       "<tr><td>runner_tune_e55f4f0a</td><td>TERMINATED</td><td>172.17.0.2:24737</td><td>gelu        </td><td style=\"text-align: right;\">         512</td><td style=\"text-align: right;\">0.869302</td><td style=\"text-align: right;\">       512</td><td style=\"text-align: right;\">         4096</td><td style=\"text-align: right;\">   0.2</td><td style=\"text-align: right;\">0.0130703  </td><td style=\"text-align: right;\">     0.0694125</td><td style=\"text-align: right;\">        6</td><td style=\"text-align: right;\">    0.233631 </td><td style=\"text-align: right;\">         512</td><td style=\"text-align: right;\">   1.27234e-06</td><td style=\"text-align: right;\">0.920632</td><td style=\"text-align: right;\">    40</td><td style=\"text-align: right;\">        235.456 </td></tr>\n",
       "<tr><td>runner_tune_f741c004</td><td>TERMINATED</td><td>172.17.0.2:24883</td><td>gelu        </td><td style=\"text-align: right;\">         512</td><td style=\"text-align: right;\">0.905663</td><td style=\"text-align: right;\">       256</td><td style=\"text-align: right;\">         3072</td><td style=\"text-align: right;\">   0.2</td><td style=\"text-align: right;\">0.00113627 </td><td style=\"text-align: right;\">     0.0204001</td><td style=\"text-align: right;\">        8</td><td style=\"text-align: right;\">    1.09704  </td><td style=\"text-align: right;\">        1024</td><td style=\"text-align: right;\">   8.38876e-05</td><td style=\"text-align: right;\">0.907582</td><td style=\"text-align: right;\">    40</td><td style=\"text-align: right;\">        179.352 </td></tr>\n",
       "<tr><td>runner_tune_2e1ab586</td><td>TERMINATED</td><td>172.17.0.2:25368</td><td>gelu        </td><td style=\"text-align: right;\">         512</td><td style=\"text-align: right;\">0.858008</td><td style=\"text-align: right;\">      1024</td><td style=\"text-align: right;\">         4096</td><td style=\"text-align: right;\">   0.2</td><td style=\"text-align: right;\">0.00303309 </td><td style=\"text-align: right;\">     0.0682356</td><td style=\"text-align: right;\">        8</td><td style=\"text-align: right;\">    1.8383   </td><td style=\"text-align: right;\">         256</td><td style=\"text-align: right;\">   5.5351e-06 </td><td style=\"text-align: right;\">0.913086</td><td style=\"text-align: right;\">    40</td><td style=\"text-align: right;\">        515.893 </td></tr>\n",
       "<tr><td>runner_tune_7c33539a</td><td>TERMINATED</td><td>172.17.0.2:25425</td><td>celu        </td><td style=\"text-align: right;\">         512</td><td style=\"text-align: right;\">0.904846</td><td style=\"text-align: right;\">       256</td><td style=\"text-align: right;\">         4096</td><td style=\"text-align: right;\">   0.2</td><td style=\"text-align: right;\">0.0108621  </td><td style=\"text-align: right;\">     0.0161143</td><td style=\"text-align: right;\">        8</td><td style=\"text-align: right;\">    0.158942 </td><td style=\"text-align: right;\">         256</td><td style=\"text-align: right;\">   1.25512e-06</td><td style=\"text-align: right;\">0.914595</td><td style=\"text-align: right;\">    40</td><td style=\"text-align: right;\">        177.358 </td></tr>\n",
       "<tr><td>runner_tune_86556520</td><td>TERMINATED</td><td>172.17.0.2:25847</td><td>gelu        </td><td style=\"text-align: right;\">         256</td><td style=\"text-align: right;\">0.936807</td><td style=\"text-align: right;\">       256</td><td style=\"text-align: right;\">         2048</td><td style=\"text-align: right;\">   0.2</td><td style=\"text-align: right;\">0.000109715</td><td style=\"text-align: right;\">     0.0881114</td><td style=\"text-align: right;\">        6</td><td style=\"text-align: right;\">    0.0945178</td><td style=\"text-align: right;\">         512</td><td style=\"text-align: right;\">   0.000114334</td><td style=\"text-align: right;\">0.867361</td><td style=\"text-align: right;\">    40</td><td style=\"text-align: right;\">        202.498 </td></tr>\n",
       "<tr><td>runner_tune_9bcb7566</td><td>TERMINATED</td><td>172.17.0.2:26033</td><td>gelu        </td><td style=\"text-align: right;\">        1024</td><td style=\"text-align: right;\">0.923799</td><td style=\"text-align: right;\">      1024</td><td style=\"text-align: right;\">         3072</td><td style=\"text-align: right;\">   0.2</td><td style=\"text-align: right;\">0.000483745</td><td style=\"text-align: right;\">     0.0372392</td><td style=\"text-align: right;\">        4</td><td style=\"text-align: right;\">    0.0536456</td><td style=\"text-align: right;\">        1024</td><td style=\"text-align: right;\">   1.45574e-05</td><td style=\"text-align: right;\">0.915039</td><td style=\"text-align: right;\">    40</td><td style=\"text-align: right;\">        474.121 </td></tr>\n",
       "<tr><td>runner_tune_f23c7062</td><td>TERMINATED</td><td>172.17.0.2:26108</td><td>gelu        </td><td style=\"text-align: right;\">        1024</td><td style=\"text-align: right;\">0.851238</td><td style=\"text-align: right;\">      1024</td><td style=\"text-align: right;\">         3072</td><td style=\"text-align: right;\">   0.2</td><td style=\"text-align: right;\">0.000658321</td><td style=\"text-align: right;\">     0.038159 </td><td style=\"text-align: right;\">        4</td><td style=\"text-align: right;\">    0.383245 </td><td style=\"text-align: right;\">        1024</td><td style=\"text-align: right;\">   9.43006e-06</td><td style=\"text-align: right;\">0.876074</td><td style=\"text-align: right;\">    40</td><td style=\"text-align: right;\">        495.823 </td></tr>\n",
       "<tr><td>runner_tune_05e922ae</td><td>TERMINATED</td><td>172.17.0.2:26175</td><td>gelu        </td><td style=\"text-align: right;\">        1024</td><td style=\"text-align: right;\">0.854555</td><td style=\"text-align: right;\">      1024</td><td style=\"text-align: right;\">         3072</td><td style=\"text-align: right;\">   0.2</td><td style=\"text-align: right;\">0.000671022</td><td style=\"text-align: right;\">     0.0366278</td><td style=\"text-align: right;\">        6</td><td style=\"text-align: right;\">    0.0688831</td><td style=\"text-align: right;\">        1024</td><td style=\"text-align: right;\">   1.25353e-05</td><td style=\"text-align: right;\">0.901563</td><td style=\"text-align: right;\">    40</td><td style=\"text-align: right;\">        533.944 </td></tr>\n",
       "<tr><td>runner_tune_195ce67c</td><td>TERMINATED</td><td>172.17.0.2:26720</td><td>gelu        </td><td style=\"text-align: right;\">        1024</td><td style=\"text-align: right;\">0.854805</td><td style=\"text-align: right;\">      1024</td><td style=\"text-align: right;\">         3072</td><td style=\"text-align: right;\">   0.2</td><td style=\"text-align: right;\">0.000691958</td><td style=\"text-align: right;\">     0.036022 </td><td style=\"text-align: right;\">        6</td><td style=\"text-align: right;\">    0.40441  </td><td style=\"text-align: right;\">        1024</td><td style=\"text-align: right;\">   1.02445e-05</td><td style=\"text-align: right;\">0.87998 </td><td style=\"text-align: right;\">    40</td><td style=\"text-align: right;\">        503.717 </td></tr>\n",
       "<tr><td>runner_tune_b2330c00</td><td>TERMINATED</td><td>172.17.0.2:26863</td><td>gelu        </td><td style=\"text-align: right;\">        1024</td><td style=\"text-align: right;\">0.879675</td><td style=\"text-align: right;\">      1024</td><td style=\"text-align: right;\">         3072</td><td style=\"text-align: right;\">   0.2</td><td style=\"text-align: right;\">0.000771581</td><td style=\"text-align: right;\">     0.0382254</td><td style=\"text-align: right;\">        6</td><td style=\"text-align: right;\">    0.38698  </td><td style=\"text-align: right;\">        1024</td><td style=\"text-align: right;\">   1.21565e-05</td><td style=\"text-align: right;\">0.884473</td><td style=\"text-align: right;\">    40</td><td style=\"text-align: right;\">        483.824 </td></tr>\n",
       "<tr><td>runner_tune_0fcae61c</td><td>TERMINATED</td><td>172.17.0.2:26941</td><td>gelu        </td><td style=\"text-align: right;\">        1024</td><td style=\"text-align: right;\">0.87675 </td><td style=\"text-align: right;\">       512</td><td style=\"text-align: right;\">         3072</td><td style=\"text-align: right;\">   0.2</td><td style=\"text-align: right;\">0.0199073  </td><td style=\"text-align: right;\">     0.0376054</td><td style=\"text-align: right;\">        6</td><td style=\"text-align: right;\">    0.412492 </td><td style=\"text-align: right;\">        1024</td><td style=\"text-align: right;\">   1.24664e-05</td><td style=\"text-align: right;\">0.902441</td><td style=\"text-align: right;\">    40</td><td style=\"text-align: right;\">        238.193 </td></tr>\n",
       "<tr><td>runner_tune_3093d85e</td><td>TERMINATED</td><td>172.17.0.2:27372</td><td>gelu        </td><td style=\"text-align: right;\">        1024</td><td style=\"text-align: right;\">0.8766  </td><td style=\"text-align: right;\">       512</td><td style=\"text-align: right;\">         3072</td><td style=\"text-align: right;\">   0.2</td><td style=\"text-align: right;\">0.0057134  </td><td style=\"text-align: right;\">     0.0261001</td><td style=\"text-align: right;\">        6</td><td style=\"text-align: right;\">    0.391306 </td><td style=\"text-align: right;\">        1024</td><td style=\"text-align: right;\">   1.05781e-06</td><td style=\"text-align: right;\">0.917773</td><td style=\"text-align: right;\">    40</td><td style=\"text-align: right;\">        242.542 </td></tr>\n",
       "<tr><td>runner_tune_57ece058</td><td>TERMINATED</td><td>172.17.0.2:27559</td><td>gelu        </td><td style=\"text-align: right;\">         512</td><td style=\"text-align: right;\">0.874002</td><td style=\"text-align: right;\">       512</td><td style=\"text-align: right;\">         3072</td><td style=\"text-align: right;\">   0.2</td><td style=\"text-align: right;\">0.0183618  </td><td style=\"text-align: right;\">     0.0227688</td><td style=\"text-align: right;\">        6</td><td style=\"text-align: right;\">    0.414485 </td><td style=\"text-align: right;\">        1024</td><td style=\"text-align: right;\">   1.59619e-06</td><td style=\"text-align: right;\">0.92587 </td><td style=\"text-align: right;\">    40</td><td style=\"text-align: right;\">        240.062 </td></tr>\n",
       "<tr><td>runner_tune_c0d90876</td><td>TERMINATED</td><td>172.17.0.2:27647</td><td>gelu        </td><td style=\"text-align: right;\">         512</td><td style=\"text-align: right;\">0.88741 </td><td style=\"text-align: right;\">       512</td><td style=\"text-align: right;\">         3072</td><td style=\"text-align: right;\">   0.2</td><td style=\"text-align: right;\">0.0060102  </td><td style=\"text-align: right;\">     0.0101072</td><td style=\"text-align: right;\">        6</td><td style=\"text-align: right;\">    0.38605  </td><td style=\"text-align: right;\">         512</td><td style=\"text-align: right;\">   1.13913e-06</td><td style=\"text-align: right;\">0.927646</td><td style=\"text-align: right;\">    40</td><td style=\"text-align: right;\">        242.652 </td></tr>\n",
       "<tr><td>runner_tune_e10b435c</td><td>TERMINATED</td><td>172.17.0.2:27706</td><td>gelu        </td><td style=\"text-align: right;\">         512</td><td style=\"text-align: right;\">0.882663</td><td style=\"text-align: right;\">       512</td><td style=\"text-align: right;\">         3072</td><td style=\"text-align: right;\">   0.2</td><td style=\"text-align: right;\">0.00652923 </td><td style=\"text-align: right;\">     0.0258942</td><td style=\"text-align: right;\">        4</td><td style=\"text-align: right;\">    0.819387 </td><td style=\"text-align: right;\">         512</td><td style=\"text-align: right;\">   1.42009e-06</td><td style=\"text-align: right;\">0.921609</td><td style=\"text-align: right;\">    40</td><td style=\"text-align: right;\">        247.741 </td></tr>\n",
       "<tr><td>runner_tune_eb2cb1ae</td><td>TERMINATED</td><td>172.17.0.2:27858</td><td>gelu        </td><td style=\"text-align: right;\">         512</td><td style=\"text-align: right;\">0.920287</td><td style=\"text-align: right;\">       512</td><td style=\"text-align: right;\">         3072</td><td style=\"text-align: right;\">   0.2</td><td style=\"text-align: right;\">0.0193094  </td><td style=\"text-align: right;\">     0.0510858</td><td style=\"text-align: right;\">        4</td><td style=\"text-align: right;\">    0.781205 </td><td style=\"text-align: right;\">         512</td><td style=\"text-align: right;\">   0.000286675</td><td style=\"text-align: right;\">0.169922</td><td style=\"text-align: right;\">    40</td><td style=\"text-align: right;\">        235.465 </td></tr>\n",
       "<tr><td>runner_tune_32b6f282</td><td>TERMINATED</td><td>172.17.0.2:27957</td><td>relu        </td><td style=\"text-align: right;\">         512</td><td style=\"text-align: right;\">0.915044</td><td style=\"text-align: right;\">      1024</td><td style=\"text-align: right;\">         4096</td><td style=\"text-align: right;\">   0.2</td><td style=\"text-align: right;\">0.00157486 </td><td style=\"text-align: right;\">     0.0102734</td><td style=\"text-align: right;\">        4</td><td style=\"text-align: right;\">    0.71887  </td><td style=\"text-align: right;\">         512</td><td style=\"text-align: right;\">   0.000395369</td><td style=\"text-align: right;\">0.927202</td><td style=\"text-align: right;\">    40</td><td style=\"text-align: right;\">        504.8   </td></tr>\n",
       "<tr><td>runner_tune_524f547c</td><td>TERMINATED</td><td>172.17.0.2:28059</td><td>gelu        </td><td style=\"text-align: right;\">         512</td><td style=\"text-align: right;\">0.865116</td><td style=\"text-align: right;\">       512</td><td style=\"text-align: right;\">         3072</td><td style=\"text-align: right;\">   0.2</td><td style=\"text-align: right;\">0.0183662  </td><td style=\"text-align: right;\">     0.0104982</td><td style=\"text-align: right;\">        6</td><td style=\"text-align: right;\">    0.844022 </td><td style=\"text-align: right;\">         512</td><td style=\"text-align: right;\">   2.16634e-06</td><td style=\"text-align: right;\">0.912021</td><td style=\"text-align: right;\">    40</td><td style=\"text-align: right;\">        244.601 </td></tr>\n",
       "<tr><td>runner_tune_744ac282</td><td>TERMINATED</td><td>172.17.0.2:28130</td><td>gelu        </td><td style=\"text-align: right;\">         512</td><td style=\"text-align: right;\">0.888987</td><td style=\"text-align: right;\">       512</td><td style=\"text-align: right;\">         3072</td><td style=\"text-align: right;\">   0.2</td><td style=\"text-align: right;\">0.0188274  </td><td style=\"text-align: right;\">     0.0113093</td><td style=\"text-align: right;\">        4</td><td style=\"text-align: right;\">    0.756404 </td><td style=\"text-align: right;\">        1024</td><td style=\"text-align: right;\">   2.26152e-06</td><td style=\"text-align: right;\">0.923739</td><td style=\"text-align: right;\">    40</td><td style=\"text-align: right;\">        247.886 </td></tr>\n",
       "<tr><td>runner_tune_8168a6fa</td><td>TERMINATED</td><td>172.17.0.2:28286</td><td>gelu        </td><td style=\"text-align: right;\">         512</td><td style=\"text-align: right;\">0.892736</td><td style=\"text-align: right;\">       512</td><td style=\"text-align: right;\">         3072</td><td style=\"text-align: right;\">   0.2</td><td style=\"text-align: right;\">0.0187364  </td><td style=\"text-align: right;\">     0.0105591</td><td style=\"text-align: right;\">        6</td><td style=\"text-align: right;\">    0.622248 </td><td style=\"text-align: right;\">        1024</td><td style=\"text-align: right;\">   3.17861e-06</td><td style=\"text-align: right;\">0.92445 </td><td style=\"text-align: right;\">    40</td><td style=\"text-align: right;\">        243.939 </td></tr>\n",
       "<tr><td>runner_tune_c1cafa04</td><td>TERMINATED</td><td>172.17.0.2:28431</td><td>gelu        </td><td style=\"text-align: right;\">         512</td><td style=\"text-align: right;\">0.892381</td><td style=\"text-align: right;\">       512</td><td style=\"text-align: right;\">         3072</td><td style=\"text-align: right;\">   0.2</td><td style=\"text-align: right;\">0.00144139 </td><td style=\"text-align: right;\">     0.0101819</td><td style=\"text-align: right;\">        6</td><td style=\"text-align: right;\">    0.567965 </td><td style=\"text-align: right;\">        1024</td><td style=\"text-align: right;\">   3.29255e-06</td><td style=\"text-align: right;\">0.921697</td><td style=\"text-align: right;\">    40</td><td style=\"text-align: right;\">        245.084 </td></tr>\n",
       "<tr><td>runner_tune_08bc292e</td><td>TERMINATED</td><td>172.17.0.2:28499</td><td>celu        </td><td style=\"text-align: right;\">         512</td><td style=\"text-align: right;\">0.89574 </td><td style=\"text-align: right;\">       512</td><td style=\"text-align: right;\">         3072</td><td style=\"text-align: right;\">   0.2</td><td style=\"text-align: right;\">0.00388343 </td><td style=\"text-align: right;\">     0.0116982</td><td style=\"text-align: right;\">        6</td><td style=\"text-align: right;\">    0.572759 </td><td style=\"text-align: right;\">        1024</td><td style=\"text-align: right;\">   4.67844e-06</td><td style=\"text-align: right;\">0.923207</td><td style=\"text-align: right;\">    40</td><td style=\"text-align: right;\">        252.728 </td></tr>\n",
       "<tr><td>runner_tune_19b54cce</td><td>TERMINATED</td><td>172.17.0.2:28638</td><td>celu        </td><td style=\"text-align: right;\">         512</td><td style=\"text-align: right;\">0.892242</td><td style=\"text-align: right;\">       512</td><td style=\"text-align: right;\">         3072</td><td style=\"text-align: right;\">   0.2</td><td style=\"text-align: right;\">0.00457264 </td><td style=\"text-align: right;\">     0.0268978</td><td style=\"text-align: right;\">        6</td><td style=\"text-align: right;\">    0.572829 </td><td style=\"text-align: right;\">        1024</td><td style=\"text-align: right;\">   4.99081e-06</td><td style=\"text-align: right;\">0.924982</td><td style=\"text-align: right;\">    40</td><td style=\"text-align: right;\">        240.251 </td></tr>\n",
       "<tr><td>runner_tune_55a2b51e</td><td>TERMINATED</td><td>172.17.0.2:28745</td><td>celu        </td><td style=\"text-align: right;\">         512</td><td style=\"text-align: right;\">0.892328</td><td style=\"text-align: right;\">       512</td><td style=\"text-align: right;\">         3072</td><td style=\"text-align: right;\">   0.2</td><td style=\"text-align: right;\">0.00133456 </td><td style=\"text-align: right;\">     0.0259984</td><td style=\"text-align: right;\">        6</td><td style=\"text-align: right;\">    0.544558 </td><td style=\"text-align: right;\">         256</td><td style=\"text-align: right;\">   5.50574e-06</td><td style=\"text-align: right;\">0.914062</td><td style=\"text-align: right;\">    40</td><td style=\"text-align: right;\">        243.988 </td></tr>\n",
       "<tr><td>runner_tune_81bfdf46</td><td>TERMINATED</td><td>172.17.0.2:28836</td><td>relu        </td><td style=\"text-align: right;\">         256</td><td style=\"text-align: right;\">0.915362</td><td style=\"text-align: right;\">      1024</td><td style=\"text-align: right;\">         2048</td><td style=\"text-align: right;\">   0.2</td><td style=\"text-align: right;\">0.0010277  </td><td style=\"text-align: right;\">     0.0124969</td><td style=\"text-align: right;\">        4</td><td style=\"text-align: right;\">    0.929584 </td><td style=\"text-align: right;\">         512</td><td style=\"text-align: right;\">   0.00063339 </td><td style=\"text-align: right;\">0.913802</td><td style=\"text-align: right;\">    40</td><td style=\"text-align: right;\">        526.977 </td></tr>\n",
       "<tr><td>runner_tune_9dc512a6</td><td>TERMINATED</td><td>172.17.0.2:28911</td><td>relu        </td><td style=\"text-align: right;\">         256</td><td style=\"text-align: right;\">0.914987</td><td style=\"text-align: right;\">      1024</td><td style=\"text-align: right;\">         2048</td><td style=\"text-align: right;\">   0.2</td><td style=\"text-align: right;\">0.00133467 </td><td style=\"text-align: right;\">     0.012691 </td><td style=\"text-align: right;\">        4</td><td style=\"text-align: right;\">    0.973893 </td><td style=\"text-align: right;\">         512</td><td style=\"text-align: right;\">   0.000587292</td><td style=\"text-align: right;\">0.911024</td><td style=\"text-align: right;\">    40</td><td style=\"text-align: right;\">        574.92  </td></tr>\n",
       "<tr><td>runner_tune_b2f4f434</td><td>TERMINATED</td><td>172.17.0.2:29025</td><td>relu        </td><td style=\"text-align: right;\">         512</td><td style=\"text-align: right;\">0.914274</td><td style=\"text-align: right;\">      1024</td><td style=\"text-align: right;\">         3072</td><td style=\"text-align: right;\">   0.2</td><td style=\"text-align: right;\">0.00147044 </td><td style=\"text-align: right;\">     0.0238055</td><td style=\"text-align: right;\">        4</td><td style=\"text-align: right;\">    0.282266 </td><td style=\"text-align: right;\">         512</td><td style=\"text-align: right;\">   0.000461515</td><td style=\"text-align: right;\">0.932972</td><td style=\"text-align: right;\">    40</td><td style=\"text-align: right;\">        493.062 </td></tr>\n",
       "<tr><td>runner_tune_e7b1a6a4</td><td>TERMINATED</td><td>172.17.0.2:29120</td><td>relu        </td><td style=\"text-align: right;\">         512</td><td style=\"text-align: right;\">0.914466</td><td style=\"text-align: right;\">      1024</td><td style=\"text-align: right;\">         2048</td><td style=\"text-align: right;\">   0.2</td><td style=\"text-align: right;\">0.00149914 </td><td style=\"text-align: right;\">     0.0217018</td><td style=\"text-align: right;\">        4</td><td style=\"text-align: right;\">    0.273343 </td><td style=\"text-align: right;\">         512</td><td style=\"text-align: right;\">   0.000518322</td><td style=\"text-align: right;\">0.9288  </td><td style=\"text-align: right;\">    40</td><td style=\"text-align: right;\">        500.197 </td></tr>\n",
       "<tr><td>runner_tune_15981486</td><td>TERMINATED</td><td>172.17.0.2:29369</td><td>relu        </td><td style=\"text-align: right;\">         512</td><td style=\"text-align: right;\">0.915029</td><td style=\"text-align: right;\">      1024</td><td style=\"text-align: right;\">         2048</td><td style=\"text-align: right;\">   0.2</td><td style=\"text-align: right;\">0.00849921 </td><td style=\"text-align: right;\">     0.0209107</td><td style=\"text-align: right;\">        4</td><td style=\"text-align: right;\">    0.246364 </td><td style=\"text-align: right;\">         512</td><td style=\"text-align: right;\">   0.000632431</td><td style=\"text-align: right;\">0.932706</td><td style=\"text-align: right;\">    40</td><td style=\"text-align: right;\">        493.216 </td></tr>\n",
       "<tr><td>runner_tune_daeb6792</td><td>TERMINATED</td><td>172.17.0.2:29459</td><td>relu        </td><td style=\"text-align: right;\">         512</td><td style=\"text-align: right;\">0.913343</td><td style=\"text-align: right;\">      1024</td><td style=\"text-align: right;\">         2048</td><td style=\"text-align: right;\">   0.2</td><td style=\"text-align: right;\">0.007714   </td><td style=\"text-align: right;\">     0.0190138</td><td style=\"text-align: right;\">        4</td><td style=\"text-align: right;\">    0.257467 </td><td style=\"text-align: right;\">         512</td><td style=\"text-align: right;\">   0.00260421 </td><td style=\"text-align: right;\">0.93244 </td><td style=\"text-align: right;\">    40</td><td style=\"text-align: right;\">        557.287 </td></tr>\n",
       "<tr><td>runner_tune_0a03aad0</td><td>TERMINATED</td><td>172.17.0.2:29509</td><td>relu        </td><td style=\"text-align: right;\">         512</td><td style=\"text-align: right;\">0.928087</td><td style=\"text-align: right;\">      1024</td><td style=\"text-align: right;\">         4096</td><td style=\"text-align: right;\">   0.2</td><td style=\"text-align: right;\">0.00766663 </td><td style=\"text-align: right;\">     0.0169442</td><td style=\"text-align: right;\">        4</td><td style=\"text-align: right;\">    0.241226 </td><td style=\"text-align: right;\">         512</td><td style=\"text-align: right;\">   0.00452616 </td><td style=\"text-align: right;\">0.934925</td><td style=\"text-align: right;\">    40</td><td style=\"text-align: right;\">        493.978 </td></tr>\n",
       "<tr><td>runner_tune_10928f2e</td><td>TERMINATED</td><td>172.17.0.2:29608</td><td>relu        </td><td style=\"text-align: right;\">         512</td><td style=\"text-align: right;\">0.928542</td><td style=\"text-align: right;\">      1024</td><td style=\"text-align: right;\">         4096</td><td style=\"text-align: right;\">   0.2</td><td style=\"text-align: right;\">0.00187703 </td><td style=\"text-align: right;\">     0.0155906</td><td style=\"text-align: right;\">        4</td><td style=\"text-align: right;\">    0.26876  </td><td style=\"text-align: right;\">         512</td><td style=\"text-align: right;\">   0.00396926 </td><td style=\"text-align: right;\">0.935547</td><td style=\"text-align: right;\">    40</td><td style=\"text-align: right;\">        500.765 </td></tr>\n",
       "<tr><td>runner_tune_42a69316</td><td>TERMINATED</td><td>172.17.0.2:29852</td><td>relu        </td><td style=\"text-align: right;\">         512</td><td style=\"text-align: right;\">0.927073</td><td style=\"text-align: right;\">      1024</td><td style=\"text-align: right;\">         2048</td><td style=\"text-align: right;\">   0.2</td><td style=\"text-align: right;\">0.000267573</td><td style=\"text-align: right;\">     0.0193174</td><td style=\"text-align: right;\">        4</td><td style=\"text-align: right;\">    0.22493  </td><td style=\"text-align: right;\">         512</td><td style=\"text-align: right;\">   0.00484976 </td><td style=\"text-align: right;\">0.918768</td><td style=\"text-align: right;\">    40</td><td style=\"text-align: right;\">        497.626 </td></tr>\n",
       "<tr><td>runner_tune_03ccf71a</td><td>TERMINATED</td><td>172.17.0.2:29951</td><td>relu        </td><td style=\"text-align: right;\">         512</td><td style=\"text-align: right;\">0.927499</td><td style=\"text-align: right;\">      1024</td><td style=\"text-align: right;\">         2048</td><td style=\"text-align: right;\">   0.2</td><td style=\"text-align: right;\">0.000250634</td><td style=\"text-align: right;\">     0.0187198</td><td style=\"text-align: right;\">        4</td><td style=\"text-align: right;\">    0.245424 </td><td style=\"text-align: right;\">         512</td><td style=\"text-align: right;\">   0.00204604 </td><td style=\"text-align: right;\">0.919656</td><td style=\"text-align: right;\">    40</td><td style=\"text-align: right;\">        487.165 </td></tr>\n",
       "<tr><td>runner_tune_3a1031f2</td><td>TERMINATED</td><td>172.17.0.2:30025</td><td>relu        </td><td style=\"text-align: right;\">         512</td><td style=\"text-align: right;\">0.930316</td><td style=\"text-align: right;\">      1024</td><td style=\"text-align: right;\">         2048</td><td style=\"text-align: right;\">   0.2</td><td style=\"text-align: right;\">0.00807492 </td><td style=\"text-align: right;\">     0.0184117</td><td style=\"text-align: right;\">        4</td><td style=\"text-align: right;\">    0.251631 </td><td style=\"text-align: right;\">         512</td><td style=\"text-align: right;\">   0.00740797 </td><td style=\"text-align: right;\">0.933239</td><td style=\"text-align: right;\">    40</td><td style=\"text-align: right;\">        545.958 </td></tr>\n",
       "<tr><td>runner_tune_590ccaca</td><td>TERMINATED</td><td>172.17.0.2:30091</td><td>relu        </td><td style=\"text-align: right;\">         512</td><td style=\"text-align: right;\">0.92923 </td><td style=\"text-align: right;\">      1024</td><td style=\"text-align: right;\">         2048</td><td style=\"text-align: right;\">   0.2</td><td style=\"text-align: right;\">0.00829126 </td><td style=\"text-align: right;\">     0.0184111</td><td style=\"text-align: right;\">        4</td><td style=\"text-align: right;\">    1.26366  </td><td style=\"text-align: right;\">         512</td><td style=\"text-align: right;\">   0.00472918 </td><td style=\"text-align: right;\">0.10245 </td><td style=\"text-align: right;\">    40</td><td style=\"text-align: right;\">        491.986 </td></tr>\n",
       "<tr><td>runner_tune_6fb443f2</td><td>TERMINATED</td><td>172.17.0.2:30324</td><td>relu        </td><td style=\"text-align: right;\">         512</td><td style=\"text-align: right;\">0.928986</td><td style=\"text-align: right;\">      1024</td><td style=\"text-align: right;\">         2048</td><td style=\"text-align: right;\">   0.2</td><td style=\"text-align: right;\">0.00870504 </td><td style=\"text-align: right;\">     0.0180958</td><td style=\"text-align: right;\">        4</td><td style=\"text-align: right;\">    0.247197 </td><td style=\"text-align: right;\">         512</td><td style=\"text-align: right;\">   0.00613987 </td><td style=\"text-align: right;\">0.930753</td><td style=\"text-align: right;\">    40</td><td style=\"text-align: right;\">        501.106 </td></tr>\n",
       "<tr><td>runner_tune_2f1148bc</td><td>TERMINATED</td><td>172.17.0.2:30419</td><td>relu        </td><td style=\"text-align: right;\">         512</td><td style=\"text-align: right;\">0.930048</td><td style=\"text-align: right;\">      1024</td><td style=\"text-align: right;\">         2048</td><td style=\"text-align: right;\">   0.2</td><td style=\"text-align: right;\">0.00824904 </td><td style=\"text-align: right;\">     0.0153745</td><td style=\"text-align: right;\">        4</td><td style=\"text-align: right;\">    0.297202 </td><td style=\"text-align: right;\">         512</td><td style=\"text-align: right;\">   0.00280236 </td><td style=\"text-align: right;\">0.932795</td><td style=\"text-align: right;\">    40</td><td style=\"text-align: right;\">        489.024 </td></tr>\n",
       "<tr><td>runner_tune_5f5ae028</td><td>TERMINATED</td><td>172.17.0.2:30522</td><td>relu        </td><td style=\"text-align: right;\">         512</td><td style=\"text-align: right;\">0.931896</td><td style=\"text-align: right;\">      1024</td><td style=\"text-align: right;\">         4096</td><td style=\"text-align: right;\">   0.2</td><td style=\"text-align: right;\">0.00792004 </td><td style=\"text-align: right;\">     0.0149926</td><td style=\"text-align: right;\">        4</td><td style=\"text-align: right;\">    0.291307 </td><td style=\"text-align: right;\">         512</td><td style=\"text-align: right;\">   0.00314904 </td><td style=\"text-align: right;\">0.931108</td><td style=\"text-align: right;\">    40</td><td style=\"text-align: right;\">        495.423 </td></tr>\n",
       "<tr><td>runner_tune_97640b52</td><td>TERMINATED</td><td>172.17.0.2:30573</td><td>relu        </td><td style=\"text-align: right;\">         512</td><td style=\"text-align: right;\">0.910808</td><td style=\"text-align: right;\">      1024</td><td style=\"text-align: right;\">         4096</td><td style=\"text-align: right;\">   0.2</td><td style=\"text-align: right;\">0.00966162 </td><td style=\"text-align: right;\">     0.0157444</td><td style=\"text-align: right;\">        4</td><td style=\"text-align: right;\">    0.298234 </td><td style=\"text-align: right;\">         512</td><td style=\"text-align: right;\">   0.00190668 </td><td style=\"text-align: right;\">0.931374</td><td style=\"text-align: right;\">    40</td><td style=\"text-align: right;\">        547.486 </td></tr>\n",
       "<tr><td>runner_tune_a0ed4e7c</td><td>TERMINATED</td><td>172.17.0.2:30810</td><td>relu        </td><td style=\"text-align: right;\">         512</td><td style=\"text-align: right;\">0.944255</td><td style=\"text-align: right;\">      1024</td><td style=\"text-align: right;\">         4096</td><td style=\"text-align: right;\">   0.2</td><td style=\"text-align: right;\">0.00203155 </td><td style=\"text-align: right;\">     0.0155957</td><td style=\"text-align: right;\">        4</td><td style=\"text-align: right;\">    0.143989 </td><td style=\"text-align: right;\">         512</td><td style=\"text-align: right;\">   0.00933477 </td><td style=\"text-align: right;\">0.933949</td><td style=\"text-align: right;\">    40</td><td style=\"text-align: right;\">        498.967 </td></tr>\n",
       "<tr><td>runner_tune_5cb7793e</td><td>TERMINATED</td><td>172.17.0.2:30897</td><td>relu        </td><td style=\"text-align: right;\">         512</td><td style=\"text-align: right;\">0.945646</td><td style=\"text-align: right;\">      1024</td><td style=\"text-align: right;\">         4096</td><td style=\"text-align: right;\">   0.2</td><td style=\"text-align: right;\">0.0130574  </td><td style=\"text-align: right;\">     0.0155587</td><td style=\"text-align: right;\">        4</td><td style=\"text-align: right;\">    0.16094  </td><td style=\"text-align: right;\">         512</td><td style=\"text-align: right;\">   0.00123024 </td><td style=\"text-align: right;\">0.933771</td><td style=\"text-align: right;\">    40</td><td style=\"text-align: right;\">        489.59  </td></tr>\n",
       "<tr><td>runner_tune_85d9cc54</td><td>TERMINATED</td><td>172.17.0.2:31012</td><td>relu        </td><td style=\"text-align: right;\">         512</td><td style=\"text-align: right;\">0.946071</td><td style=\"text-align: right;\">      1024</td><td style=\"text-align: right;\">         4096</td><td style=\"text-align: right;\">   0.2</td><td style=\"text-align: right;\">0.0128813  </td><td style=\"text-align: right;\">     0.0159787</td><td style=\"text-align: right;\">        4</td><td style=\"text-align: right;\">    0.142481 </td><td style=\"text-align: right;\">         512</td><td style=\"text-align: right;\">   0.00910131 </td><td style=\"text-align: right;\">0.93244 </td><td style=\"text-align: right;\">    40</td><td style=\"text-align: right;\">        500.912 </td></tr>\n",
       "<tr><td>runner_tune_c176e242</td><td>TERMINATED</td><td>172.17.0.2:31099</td><td>relu        </td><td style=\"text-align: right;\">         512</td><td style=\"text-align: right;\">0.94622 </td><td style=\"text-align: right;\">      1024</td><td style=\"text-align: right;\">         4096</td><td style=\"text-align: right;\">   0.2</td><td style=\"text-align: right;\">0.0132766  </td><td style=\"text-align: right;\">     0.0164171</td><td style=\"text-align: right;\">        8</td><td style=\"text-align: right;\">    0.133073 </td><td style=\"text-align: right;\">         512</td><td style=\"text-align: right;\">   0.00106371 </td><td style=\"text-align: right;\">0.927379</td><td style=\"text-align: right;\">    40</td><td style=\"text-align: right;\">        574.01  </td></tr>\n",
       "<tr><td>runner_tune_ea00bc74</td><td>TERMINATED</td><td>172.17.0.2:31308</td><td>relu        </td><td style=\"text-align: right;\">         512</td><td style=\"text-align: right;\">0.943124</td><td style=\"text-align: right;\">      1024</td><td style=\"text-align: right;\">         4096</td><td style=\"text-align: right;\">   0.2</td><td style=\"text-align: right;\">0.012479   </td><td style=\"text-align: right;\">     0.013787 </td><td style=\"text-align: right;\">        4</td><td style=\"text-align: right;\">    0.14843  </td><td style=\"text-align: right;\">         512</td><td style=\"text-align: right;\">   0.00898694 </td><td style=\"text-align: right;\">0.932528</td><td style=\"text-align: right;\">    40</td><td style=\"text-align: right;\">        504.406 </td></tr>\n",
       "<tr><td>runner_tune_892cc964</td><td>TERMINATED</td><td>172.17.0.2:31384</td><td>relu        </td><td style=\"text-align: right;\">         512</td><td style=\"text-align: right;\">0.943966</td><td style=\"text-align: right;\">      1024</td><td style=\"text-align: right;\">         4096</td><td style=\"text-align: right;\">   0.2</td><td style=\"text-align: right;\">0.00189729 </td><td style=\"text-align: right;\">     0.0132948</td><td style=\"text-align: right;\">        8</td><td style=\"text-align: right;\">    0.126446 </td><td style=\"text-align: right;\">         256</td><td style=\"text-align: right;\">   0.00108184 </td><td style=\"text-align: right;\">0.929688</td><td style=\"text-align: right;\">    40</td><td style=\"text-align: right;\">        503.841 </td></tr>\n",
       "<tr><td>runner_tune_ac597d10</td><td>TERMINATED</td><td>172.17.0.2:31829</td><td>relu        </td><td style=\"text-align: right;\">         512</td><td style=\"text-align: right;\">0.94601 </td><td style=\"text-align: right;\">      1024</td><td style=\"text-align: right;\">         4096</td><td style=\"text-align: right;\">   0.2</td><td style=\"text-align: right;\">0.00207266 </td><td style=\"text-align: right;\">     0.0137578</td><td style=\"text-align: right;\">        8</td><td style=\"text-align: right;\">    0.121929 </td><td style=\"text-align: right;\">         512</td><td style=\"text-align: right;\">   0.00971185 </td><td style=\"text-align: right;\">0.932351</td><td style=\"text-align: right;\">    40</td><td style=\"text-align: right;\">        512.941 </td></tr>\n",
       "<tr><td>runner_tune_ee84f55c</td><td>TERMINATED</td><td>172.17.0.2:31960</td><td>relu        </td><td style=\"text-align: right;\">         512</td><td style=\"text-align: right;\">0.940146</td><td style=\"text-align: right;\">      1024</td><td style=\"text-align: right;\">         4096</td><td style=\"text-align: right;\">   0.2</td><td style=\"text-align: right;\">0.00187888 </td><td style=\"text-align: right;\">     0.013894 </td><td style=\"text-align: right;\">        8</td><td style=\"text-align: right;\">    0.148929 </td><td style=\"text-align: right;\">         512</td><td style=\"text-align: right;\">   0.00126813 </td><td style=\"text-align: right;\">0.935813</td><td style=\"text-align: right;\">    40</td><td style=\"text-align: right;\">        567.08  </td></tr>\n",
       "<tr><td>runner_tune_42933e38</td><td>TERMINATED</td><td>172.17.0.2:32118</td><td>relu        </td><td style=\"text-align: right;\">         512</td><td style=\"text-align: right;\">0.939755</td><td style=\"text-align: right;\">      1024</td><td style=\"text-align: right;\">         4096</td><td style=\"text-align: right;\">   0.2</td><td style=\"text-align: right;\">0.00209114 </td><td style=\"text-align: right;\">     0.0137442</td><td style=\"text-align: right;\">        4</td><td style=\"text-align: right;\">    0.485218 </td><td style=\"text-align: right;\">         512</td><td style=\"text-align: right;\">   0.00110339 </td><td style=\"text-align: right;\">0.931907</td><td style=\"text-align: right;\">    40</td><td style=\"text-align: right;\">        508.065 </td></tr>\n",
       "<tr><td>runner_tune_b89d2daa</td><td>TERMINATED</td><td>172.17.0.2:32196</td><td>relu        </td><td style=\"text-align: right;\">         512</td><td style=\"text-align: right;\">0.937318</td><td style=\"text-align: right;\">      1024</td><td style=\"text-align: right;\">         4096</td><td style=\"text-align: right;\">   0.2</td><td style=\"text-align: right;\">0.00266832 </td><td style=\"text-align: right;\">     0.0227446</td><td style=\"text-align: right;\">        4</td><td style=\"text-align: right;\">    0.493785 </td><td style=\"text-align: right;\">         512</td><td style=\"text-align: right;\">   0.00128251 </td><td style=\"text-align: right;\">0.929332</td><td style=\"text-align: right;\">    40</td><td style=\"text-align: right;\">        498.21  </td></tr>\n",
       "<tr><td>runner_tune_db3041c2</td><td>TERMINATED</td><td>172.17.0.2:32311</td><td>relu        </td><td style=\"text-align: right;\">         256</td><td style=\"text-align: right;\">0.938679</td><td style=\"text-align: right;\">       256</td><td style=\"text-align: right;\">         4096</td><td style=\"text-align: right;\">   0.2</td><td style=\"text-align: right;\">0.00307817 </td><td style=\"text-align: right;\">     0.0231609</td><td style=\"text-align: right;\">        4</td><td style=\"text-align: right;\">    0.475113 </td><td style=\"text-align: right;\">         512</td><td style=\"text-align: right;\">   0.00379469 </td><td style=\"text-align: right;\">0.912674</td><td style=\"text-align: right;\">    40</td><td style=\"text-align: right;\">        196.092 </td></tr>\n",
       "<tr><td>runner_tune_22b9d7ba</td><td>TERMINATED</td><td>172.17.0.2:32501</td><td>relu        </td><td style=\"text-align: right;\">         256</td><td style=\"text-align: right;\">0.937194</td><td style=\"text-align: right;\">       256</td><td style=\"text-align: right;\">         4096</td><td style=\"text-align: right;\">   0.2</td><td style=\"text-align: right;\">0.00387117 </td><td style=\"text-align: right;\">     0.0223044</td><td style=\"text-align: right;\">        4</td><td style=\"text-align: right;\">    0.48388  </td><td style=\"text-align: right;\">         512</td><td style=\"text-align: right;\">   0.000161753</td><td style=\"text-align: right;\">0.915365</td><td style=\"text-align: right;\">    40</td><td style=\"text-align: right;\">        199.57  </td></tr>\n",
       "<tr><td>runner_tune_9791fe32</td><td>TERMINATED</td><td>172.17.0.2:32547</td><td>relu        </td><td style=\"text-align: right;\">         256</td><td style=\"text-align: right;\">0.938209</td><td style=\"text-align: right;\">       256</td><td style=\"text-align: right;\">         4096</td><td style=\"text-align: right;\">   0.2</td><td style=\"text-align: right;\">0.00318225 </td><td style=\"text-align: right;\">     0.0149162</td><td style=\"text-align: right;\">        8</td><td style=\"text-align: right;\">    0.477253 </td><td style=\"text-align: right;\">         512</td><td style=\"text-align: right;\">   0.00426157 </td><td style=\"text-align: right;\">0.909288</td><td style=\"text-align: right;\">    40</td><td style=\"text-align: right;\">        215.395 </td></tr>\n",
       "<tr><td>runner_tune_99f45684</td><td>TERMINATED</td><td>172.17.0.2:32715</td><td>relu        </td><td style=\"text-align: right;\">         512</td><td style=\"text-align: right;\">0.937693</td><td style=\"text-align: right;\">      1024</td><td style=\"text-align: right;\">         4096</td><td style=\"text-align: right;\">   0.2</td><td style=\"text-align: right;\">0.0032443  </td><td style=\"text-align: right;\">     0.0171984</td><td style=\"text-align: right;\">        8</td><td style=\"text-align: right;\">    0.0582991</td><td style=\"text-align: right;\">         512</td><td style=\"text-align: right;\">   0.00145133 </td><td style=\"text-align: right;\">0.935724</td><td style=\"text-align: right;\">    40</td><td style=\"text-align: right;\">        521.491 </td></tr>\n",
       "<tr><td>runner_tune_ea6fb946</td><td>TERMINATED</td><td>172.17.0.2:32798</td><td>relu        </td><td style=\"text-align: right;\">         512</td><td style=\"text-align: right;\">0.934079</td><td style=\"text-align: right;\">      1024</td><td style=\"text-align: right;\">         4096</td><td style=\"text-align: right;\">   0.2</td><td style=\"text-align: right;\">0.00283776 </td><td style=\"text-align: right;\">     0.0170894</td><td style=\"text-align: right;\">        8</td><td style=\"text-align: right;\">    1.50276  </td><td style=\"text-align: right;\">         512</td><td style=\"text-align: right;\">   0.00676809 </td><td style=\"text-align: right;\">0.910689</td><td style=\"text-align: right;\">    40</td><td style=\"text-align: right;\">        507.383 </td></tr>\n",
       "<tr><td>runner_tune_070d2886</td><td>TERMINATED</td><td>172.17.0.2:32855</td><td>relu        </td><td style=\"text-align: right;\">         512</td><td style=\"text-align: right;\">0.949885</td><td style=\"text-align: right;\">      1024</td><td style=\"text-align: right;\">         4096</td><td style=\"text-align: right;\">   0.2</td><td style=\"text-align: right;\">0.000974264</td><td style=\"text-align: right;\">     0.0173165</td><td style=\"text-align: right;\">        8</td><td style=\"text-align: right;\">    1.64975  </td><td style=\"text-align: right;\">         512</td><td style=\"text-align: right;\">   0.00726053 </td><td style=\"text-align: right;\">0.915128</td><td style=\"text-align: right;\">    40</td><td style=\"text-align: right;\">        575.99  </td></tr>\n",
       "<tr><td>runner_tune_1355e592</td><td>TERMINATED</td><td>172.17.0.2:32912</td><td>relu        </td><td style=\"text-align: right;\">         512</td><td style=\"text-align: right;\">0.923498</td><td style=\"text-align: right;\">      1024</td><td style=\"text-align: right;\">         4096</td><td style=\"text-align: right;\">   0.2</td><td style=\"text-align: right;\">0.000988019</td><td style=\"text-align: right;\">     0.0175494</td><td style=\"text-align: right;\">        8</td><td style=\"text-align: right;\">    0.0500319</td><td style=\"text-align: right;\">         512</td><td style=\"text-align: right;\">   0.00153002 </td><td style=\"text-align: right;\">0.925337</td><td style=\"text-align: right;\">    40</td><td style=\"text-align: right;\">        527.713 </td></tr>\n",
       "<tr><td>runner_tune_1d1c1178</td><td>TERMINATED</td><td>172.17.0.2:33219</td><td>relu        </td><td style=\"text-align: right;\">         512</td><td style=\"text-align: right;\">0.921192</td><td style=\"text-align: right;\">      1024</td><td style=\"text-align: right;\">         4096</td><td style=\"text-align: right;\">   0.2</td><td style=\"text-align: right;\">0.00100938 </td><td style=\"text-align: right;\">     0.0171188</td><td style=\"text-align: right;\">        8</td><td style=\"text-align: right;\">    0.0642777</td><td style=\"text-align: right;\">         512</td><td style=\"text-align: right;\">   0.00173798 </td><td style=\"text-align: right;\">0.929155</td><td style=\"text-align: right;\">    40</td><td style=\"text-align: right;\">        540.098 </td></tr>\n",
       "<tr><td>runner_tune_24027e2c</td><td>TERMINATED</td><td>172.17.0.2:33280</td><td>relu        </td><td style=\"text-align: right;\">         512</td><td style=\"text-align: right;\">0.920857</td><td style=\"text-align: right;\">      1024</td><td style=\"text-align: right;\">         4096</td><td style=\"text-align: right;\">   0.2</td><td style=\"text-align: right;\">0.00104919 </td><td style=\"text-align: right;\">     0.0167086</td><td style=\"text-align: right;\">        8</td><td style=\"text-align: right;\">    0.0554552</td><td style=\"text-align: right;\">         512</td><td style=\"text-align: right;\">   0.00607898 </td><td style=\"text-align: right;\">0.923029</td><td style=\"text-align: right;\">    40</td><td style=\"text-align: right;\">        509.674 </td></tr>\n",
       "<tr><td>runner_tune_3847858a</td><td>TERMINATED</td><td>172.17.0.2:33354</td><td>relu        </td><td style=\"text-align: right;\">         512</td><td style=\"text-align: right;\">0.949854</td><td style=\"text-align: right;\">      1024</td><td style=\"text-align: right;\">         4096</td><td style=\"text-align: right;\">   0.2</td><td style=\"text-align: right;\">0.0152464  </td><td style=\"text-align: right;\">     0.0171596</td><td style=\"text-align: right;\">        8</td><td style=\"text-align: right;\">    0.0814771</td><td style=\"text-align: right;\">         512</td><td style=\"text-align: right;\">   0.00185135 </td><td style=\"text-align: right;\">0.932617</td><td style=\"text-align: right;\">    40</td><td style=\"text-align: right;\">        521.298 </td></tr>\n",
       "<tr><td>runner_tune_5a41d5e6</td><td>TERMINATED</td><td>172.17.0.2:33415</td><td>relu        </td><td style=\"text-align: right;\">         512</td><td style=\"text-align: right;\">0.92009 </td><td style=\"text-align: right;\">      1024</td><td style=\"text-align: right;\">         4096</td><td style=\"text-align: right;\">   0.2</td><td style=\"text-align: right;\">0.00455855 </td><td style=\"text-align: right;\">     0.0121755</td><td style=\"text-align: right;\">        8</td><td style=\"text-align: right;\">    0.343619 </td><td style=\"text-align: right;\">         512</td><td style=\"text-align: right;\">   0.00647127 </td><td style=\"text-align: right;\">0.930575</td><td style=\"text-align: right;\">    40</td><td style=\"text-align: right;\">        563.236 </td></tr>\n",
       "<tr><td>runner_tune_6b8acee8</td><td>TERMINATED</td><td>172.17.0.2:33705</td><td>relu        </td><td style=\"text-align: right;\">         512</td><td style=\"text-align: right;\">0.949474</td><td style=\"text-align: right;\">      1024</td><td style=\"text-align: right;\">         4096</td><td style=\"text-align: right;\">   0.2</td><td style=\"text-align: right;\">0.00432456 </td><td style=\"text-align: right;\">     0.0199564</td><td style=\"text-align: right;\">        8</td><td style=\"text-align: right;\">    0.0561462</td><td style=\"text-align: right;\">         256</td><td style=\"text-align: right;\">   0.00223704 </td><td style=\"text-align: right;\">0.930842</td><td style=\"text-align: right;\">    40</td><td style=\"text-align: right;\">        515.037 </td></tr>\n",
       "<tr><td>runner_tune_68e827ca</td><td>TERMINATED</td><td>172.17.0.2:33742</td><td>relu        </td><td style=\"text-align: right;\">         512</td><td style=\"text-align: right;\">0.941952</td><td style=\"text-align: right;\">      1024</td><td style=\"text-align: right;\">         4096</td><td style=\"text-align: right;\">   0.2</td><td style=\"text-align: right;\">0.00507514 </td><td style=\"text-align: right;\">     0.0116966</td><td style=\"text-align: right;\">        8</td><td style=\"text-align: right;\">    0.182576 </td><td style=\"text-align: right;\">         256</td><td style=\"text-align: right;\">   2.78948e-05</td><td style=\"text-align: right;\">0.926314</td><td style=\"text-align: right;\">    40</td><td style=\"text-align: right;\">        507.291 </td></tr>\n",
       "<tr><td>runner_tune_6ab19c6c</td><td>TERMINATED</td><td>172.17.0.2:33835</td><td>relu        </td><td style=\"text-align: right;\">         512</td><td style=\"text-align: right;\">0.949972</td><td style=\"text-align: right;\">      1024</td><td style=\"text-align: right;\">         4096</td><td style=\"text-align: right;\">   0.2</td><td style=\"text-align: right;\">0.00179542 </td><td style=\"text-align: right;\">     0.0117859</td><td style=\"text-align: right;\">        8</td><td style=\"text-align: right;\">    0.18589  </td><td style=\"text-align: right;\">         256</td><td style=\"text-align: right;\">   0.000833023</td><td style=\"text-align: right;\">0.926847</td><td style=\"text-align: right;\">    40</td><td style=\"text-align: right;\">        516.043 </td></tr>\n",
       "<tr><td>runner_tune_93d492c0</td><td>TERMINATED</td><td>172.17.0.2:33923</td><td>relu        </td><td style=\"text-align: right;\">         512</td><td style=\"text-align: right;\">0.933116</td><td style=\"text-align: right;\">      1024</td><td style=\"text-align: right;\">         4096</td><td style=\"text-align: right;\">   0.2</td><td style=\"text-align: right;\">0.00174442 </td><td style=\"text-align: right;\">     0.011788 </td><td style=\"text-align: right;\">        8</td><td style=\"text-align: right;\">    0.18215  </td><td style=\"text-align: right;\">         256</td><td style=\"text-align: right;\">   0.0008177  </td><td style=\"text-align: right;\">0.931019</td><td style=\"text-align: right;\">    40</td><td style=\"text-align: right;\">        562.161 </td></tr>\n",
       "<tr><td>runner_tune_be280e6c</td><td>TERMINATED</td><td>172.17.0.2:34181</td><td>relu        </td><td style=\"text-align: right;\">         512</td><td style=\"text-align: right;\">0.900702</td><td style=\"text-align: right;\">      1024</td><td style=\"text-align: right;\">         4096</td><td style=\"text-align: right;\">   0.2</td><td style=\"text-align: right;\">0.0017784  </td><td style=\"text-align: right;\">     0.0145597</td><td style=\"text-align: right;\">        4</td><td style=\"text-align: right;\">    0.201821 </td><td style=\"text-align: right;\">         256</td><td style=\"text-align: right;\">   5.32288e-05</td><td style=\"text-align: right;\">0.931641</td><td style=\"text-align: right;\">    40</td><td style=\"text-align: right;\">        497.35  </td></tr>\n",
       "<tr><td>runner_tune_9bec5dca</td><td>TERMINATED</td><td>172.17.0.2:34223</td><td>relu        </td><td style=\"text-align: right;\">         512</td><td style=\"text-align: right;\">0.901046</td><td style=\"text-align: right;\">      1024</td><td style=\"text-align: right;\">         4096</td><td style=\"text-align: right;\">   0.2</td><td style=\"text-align: right;\">0.001693   </td><td style=\"text-align: right;\">     0.0202454</td><td style=\"text-align: right;\">        4</td><td style=\"text-align: right;\">    0.191718 </td><td style=\"text-align: right;\">         512</td><td style=\"text-align: right;\">   0.000322219</td><td style=\"text-align: right;\">0.933239</td><td style=\"text-align: right;\">    40</td><td style=\"text-align: right;\">        499.816 </td></tr>\n",
       "<tr><td>runner_tune_9e4e9d4e</td><td>TERMINATED</td><td>172.17.0.2:34311</td><td>relu        </td><td style=\"text-align: right;\">         512</td><td style=\"text-align: right;\">0.933336</td><td style=\"text-align: right;\">      1024</td><td style=\"text-align: right;\">         4096</td><td style=\"text-align: right;\">   0.2</td><td style=\"text-align: right;\">0.00186767 </td><td style=\"text-align: right;\">     0.02907  </td><td style=\"text-align: right;\">        4</td><td style=\"text-align: right;\">    0.189663 </td><td style=\"text-align: right;\">         512</td><td style=\"text-align: right;\">   0.000776003</td><td style=\"text-align: right;\">0.935458</td><td style=\"text-align: right;\">    40</td><td style=\"text-align: right;\">        508.474 </td></tr>\n",
       "<tr><td>runner_tune_ca6c453e</td><td>TERMINATED</td><td>172.17.0.2:34428</td><td>relu        </td><td style=\"text-align: right;\">         512</td><td style=\"text-align: right;\">0.934251</td><td style=\"text-align: right;\">      1024</td><td style=\"text-align: right;\">         4096</td><td style=\"text-align: right;\">   0.2</td><td style=\"text-align: right;\">0.00238968 </td><td style=\"text-align: right;\">     0.0307487</td><td style=\"text-align: right;\">        4</td><td style=\"text-align: right;\">    0.318141 </td><td style=\"text-align: right;\">         512</td><td style=\"text-align: right;\">   0.00320516 </td><td style=\"text-align: right;\">0.93457 </td><td style=\"text-align: right;\">    40</td><td style=\"text-align: right;\">        555.11  </td></tr>\n",
       "<tr><td>runner_tune_0f93a54e</td><td>TERMINATED</td><td>172.17.0.2:34651</td><td>relu        </td><td style=\"text-align: right;\">         512</td><td style=\"text-align: right;\">0.925229</td><td style=\"text-align: right;\">      1024</td><td style=\"text-align: right;\">         4096</td><td style=\"text-align: right;\">   0.2</td><td style=\"text-align: right;\">0.00671635 </td><td style=\"text-align: right;\">     0.0301513</td><td style=\"text-align: right;\">        4</td><td style=\"text-align: right;\">    0.352306 </td><td style=\"text-align: right;\">         512</td><td style=\"text-align: right;\">   0.000359808</td><td style=\"text-align: right;\">0.930575</td><td style=\"text-align: right;\">    40</td><td style=\"text-align: right;\">        499.354 </td></tr>\n",
       "<tr><td>runner_tune_c7305f76</td><td>TERMINATED</td><td>172.17.0.2:34694</td><td>celu        </td><td style=\"text-align: right;\">         512</td><td style=\"text-align: right;\">0.934967</td><td style=\"text-align: right;\">      1024</td><td style=\"text-align: right;\">         4096</td><td style=\"text-align: right;\">   0.2</td><td style=\"text-align: right;\">0.00228295 </td><td style=\"text-align: right;\">     0.0286226</td><td style=\"text-align: right;\">        4</td><td style=\"text-align: right;\">    0.343889 </td><td style=\"text-align: right;\">         512</td><td style=\"text-align: right;\">   0.00372136 </td><td style=\"text-align: right;\">0.931818</td><td style=\"text-align: right;\">    40</td><td style=\"text-align: right;\">        505.804 </td></tr>\n",
       "<tr><td>runner_tune_cac300e4</td><td>TERMINATED</td><td>172.17.0.2:34803</td><td>celu        </td><td style=\"text-align: right;\">         512</td><td style=\"text-align: right;\">0.925436</td><td style=\"text-align: right;\">      1024</td><td style=\"text-align: right;\">         4096</td><td style=\"text-align: right;\">   0.2</td><td style=\"text-align: right;\">0.00234431 </td><td style=\"text-align: right;\">     0.0283389</td><td style=\"text-align: right;\">        4</td><td style=\"text-align: right;\">    0.348697 </td><td style=\"text-align: right;\">         512</td><td style=\"text-align: right;\">   0.00324605 </td><td style=\"text-align: right;\">0.929155</td><td style=\"text-align: right;\">    40</td><td style=\"text-align: right;\">        511.7   </td></tr>\n",
       "<tr><td>runner_tune_fc3e1578</td><td>TERMINATED</td><td>172.17.0.2:34939</td><td>celu        </td><td style=\"text-align: right;\">        1024</td><td style=\"text-align: right;\">0.934952</td><td style=\"text-align: right;\">      1024</td><td style=\"text-align: right;\">         4096</td><td style=\"text-align: right;\">   0.2</td><td style=\"text-align: right;\">0.00236724 </td><td style=\"text-align: right;\">     0.0320453</td><td style=\"text-align: right;\">        4</td><td style=\"text-align: right;\">    0.331589 </td><td style=\"text-align: right;\">         512</td><td style=\"text-align: right;\">   0.00345199 </td><td style=\"text-align: right;\">0.925879</td><td style=\"text-align: right;\">    40</td><td style=\"text-align: right;\">        536.164 </td></tr>\n",
       "<tr><td>runner_tune_5d6a141e</td><td>TERMINATED</td><td>172.17.0.2:35141</td><td>relu        </td><td style=\"text-align: right;\">        1024</td><td style=\"text-align: right;\">0.93501 </td><td style=\"text-align: right;\">      1024</td><td style=\"text-align: right;\">         4096</td><td style=\"text-align: right;\">   0.2</td><td style=\"text-align: right;\">0.00240304 </td><td style=\"text-align: right;\">     0.0312777</td><td style=\"text-align: right;\">        4</td><td style=\"text-align: right;\">    0.325065 </td><td style=\"text-align: right;\">         512</td><td style=\"text-align: right;\">   0.0028859  </td><td style=\"text-align: right;\">0.927148</td><td style=\"text-align: right;\">    40</td><td style=\"text-align: right;\">        485.669 </td></tr>\n",
       "<tr><td>runner_tune_f3a55718</td><td>TERMINATED</td><td>172.17.0.2:35190</td><td>celu        </td><td style=\"text-align: right;\">        1024</td><td style=\"text-align: right;\">0.933511</td><td style=\"text-align: right;\">      1024</td><td style=\"text-align: right;\">         4096</td><td style=\"text-align: right;\">   0.2</td><td style=\"text-align: right;\">0.00246135 </td><td style=\"text-align: right;\">     0.0446496</td><td style=\"text-align: right;\">        4</td><td style=\"text-align: right;\">    0.332312 </td><td style=\"text-align: right;\">         512</td><td style=\"text-align: right;\">   0.00341593 </td><td style=\"text-align: right;\">0.927148</td><td style=\"text-align: right;\">    40</td><td style=\"text-align: right;\">        489.701 </td></tr>\n",
       "<tr><td>runner_tune_fb650822</td><td>TERMINATED</td><td>172.17.0.2:35288</td><td>relu        </td><td style=\"text-align: right;\">        1024</td><td style=\"text-align: right;\">0.940383</td><td style=\"text-align: right;\">      1024</td><td style=\"text-align: right;\">         4096</td><td style=\"text-align: right;\">   0.2</td><td style=\"text-align: right;\">0.00374412 </td><td style=\"text-align: right;\">     0.0323562</td><td style=\"text-align: right;\">        4</td><td style=\"text-align: right;\">    0.422138 </td><td style=\"text-align: right;\">         512</td><td style=\"text-align: right;\">   0.00139263 </td><td style=\"text-align: right;\">0.924121</td><td style=\"text-align: right;\">    40</td><td style=\"text-align: right;\">        491.318 </td></tr>\n",
       "<tr><td>runner_tune_3073ebaa</td><td>TERMINATED</td><td>172.17.0.2:35445</td><td>relu        </td><td style=\"text-align: right;\">        1024</td><td style=\"text-align: right;\">0.943323</td><td style=\"text-align: right;\">      1024</td><td style=\"text-align: right;\">         4096</td><td style=\"text-align: right;\">   0.2</td><td style=\"text-align: right;\">0.0012218  </td><td style=\"text-align: right;\">     0.0341775</td><td style=\"text-align: right;\">        4</td><td style=\"text-align: right;\">    0.195572 </td><td style=\"text-align: right;\">         512</td><td style=\"text-align: right;\">   0.000192344</td><td style=\"text-align: right;\">0.926758</td><td style=\"text-align: right;\">    40</td><td style=\"text-align: right;\">        536.209 </td></tr>\n",
       "<tr><td>runner_tune_9feeb780</td><td>TERMINATED</td><td>172.17.0.2:35609</td><td>relu        </td><td style=\"text-align: right;\">         512</td><td style=\"text-align: right;\">0.940627</td><td style=\"text-align: right;\">      1024</td><td style=\"text-align: right;\">         4096</td><td style=\"text-align: right;\">   0.2</td><td style=\"text-align: right;\">0.00375611 </td><td style=\"text-align: right;\">     0.0450072</td><td style=\"text-align: right;\">        4</td><td style=\"text-align: right;\">    0.102337 </td><td style=\"text-align: right;\">         512</td><td style=\"text-align: right;\">   0.00138867 </td><td style=\"text-align: right;\">0.935281</td><td style=\"text-align: right;\">    40</td><td style=\"text-align: right;\">        498.537 </td></tr>\n",
       "<tr><td>runner_tune_185ae61c</td><td>TERMINATED</td><td>172.17.0.2:35660</td><td>relu        </td><td style=\"text-align: right;\">         512</td><td style=\"text-align: right;\">0.941321</td><td style=\"text-align: right;\">      1024</td><td style=\"text-align: right;\">         4096</td><td style=\"text-align: right;\">   0.2</td><td style=\"text-align: right;\">0.00156878 </td><td style=\"text-align: right;\">     0.0434027</td><td style=\"text-align: right;\">        4</td><td style=\"text-align: right;\">    1.99927  </td><td style=\"text-align: right;\">         512</td><td style=\"text-align: right;\">   0.000237381</td><td style=\"text-align: right;\">0.903232</td><td style=\"text-align: right;\">    40</td><td style=\"text-align: right;\">        508.237 </td></tr>\n",
       "<tr><td>runner_tune_21e4633e</td><td>TERMINATED</td><td>172.17.0.2:35756</td><td>relu        </td><td style=\"text-align: right;\">         512</td><td style=\"text-align: right;\">0.941672</td><td style=\"text-align: right;\">      1024</td><td style=\"text-align: right;\">         4096</td><td style=\"text-align: right;\">   0.2</td><td style=\"text-align: right;\">0.00347127 </td><td style=\"text-align: right;\">     0.034141 </td><td style=\"text-align: right;\">        4</td><td style=\"text-align: right;\">    0.0992852</td><td style=\"text-align: right;\">         512</td><td style=\"text-align: right;\">   0.000224612</td><td style=\"text-align: right;\">0.938388</td><td style=\"text-align: right;\">    40</td><td style=\"text-align: right;\">        513.592 </td></tr>\n",
       "<tr><td>runner_tune_5824815e</td><td>TERMINATED</td><td>172.17.0.2:35943</td><td>relu        </td><td style=\"text-align: right;\">         512</td><td style=\"text-align: right;\">0.943403</td><td style=\"text-align: right;\">      1024</td><td style=\"text-align: right;\">         4096</td><td style=\"text-align: right;\">   0.2</td><td style=\"text-align: right;\">0.00115852 </td><td style=\"text-align: right;\">     0.0207509</td><td style=\"text-align: right;\">        4</td><td style=\"text-align: right;\">    0.205348 </td><td style=\"text-align: right;\">         512</td><td style=\"text-align: right;\">   0.000241571</td><td style=\"text-align: right;\">0.930309</td><td style=\"text-align: right;\">    40</td><td style=\"text-align: right;\">        549.647 </td></tr>\n",
       "<tr><td>runner_tune_e4a2fe12</td><td>TERMINATED</td><td>172.17.0.2:36078</td><td>relu        </td><td style=\"text-align: right;\">         512</td><td style=\"text-align: right;\">0.930664</td><td style=\"text-align: right;\">      1024</td><td style=\"text-align: right;\">         4096</td><td style=\"text-align: right;\">   0.2</td><td style=\"text-align: right;\">0.0107936  </td><td style=\"text-align: right;\">     0.0132175</td><td style=\"text-align: right;\">        4</td><td style=\"text-align: right;\">    0.108713 </td><td style=\"text-align: right;\">         512</td><td style=\"text-align: right;\">   0.00491252 </td><td style=\"text-align: right;\">0.937322</td><td style=\"text-align: right;\">    40</td><td style=\"text-align: right;\">        490.206 </td></tr>\n",
       "<tr><td>runner_tune_44379b3a</td><td>TERMINATED</td><td>172.17.0.2:36135</td><td>relu        </td><td style=\"text-align: right;\">         512</td><td style=\"text-align: right;\">0.940138</td><td style=\"text-align: right;\">      1024</td><td style=\"text-align: right;\">         4096</td><td style=\"text-align: right;\">   0.2</td><td style=\"text-align: right;\">0.00301767 </td><td style=\"text-align: right;\">     0.0567155</td><td style=\"text-align: right;\">        4</td><td style=\"text-align: right;\">    0.102446 </td><td style=\"text-align: right;\">         512</td><td style=\"text-align: right;\">   0.00523442 </td><td style=\"text-align: right;\">0.933416</td><td style=\"text-align: right;\">    40</td><td style=\"text-align: right;\">        504.381 </td></tr>\n",
       "<tr><td>runner_tune_53b7709e</td><td>TERMINATED</td><td>172.17.0.2:36235</td><td>relu        </td><td style=\"text-align: right;\">         512</td><td style=\"text-align: right;\">0.931079</td><td style=\"text-align: right;\">      1024</td><td style=\"text-align: right;\">         4096</td><td style=\"text-align: right;\">   0.2</td><td style=\"text-align: right;\">0.00339119 </td><td style=\"text-align: right;\">     0.0611304</td><td style=\"text-align: right;\">        4</td><td style=\"text-align: right;\">    0.123523 </td><td style=\"text-align: right;\">         512</td><td style=\"text-align: right;\">   0.00072525 </td><td style=\"text-align: right;\">0.933949</td><td style=\"text-align: right;\">    40</td><td style=\"text-align: right;\">        501.327 </td></tr>\n",
       "<tr><td>runner_tune_8cf261e8</td><td>TERMINATED</td><td>172.17.0.2:36443</td><td>relu        </td><td style=\"text-align: right;\">         512</td><td style=\"text-align: right;\">0.939591</td><td style=\"text-align: right;\">      1024</td><td style=\"text-align: right;\">         4096</td><td style=\"text-align: right;\">   0.2</td><td style=\"text-align: right;\">0.00333289 </td><td style=\"text-align: right;\">     0.0631324</td><td style=\"text-align: right;\">        4</td><td style=\"text-align: right;\">    0.104034 </td><td style=\"text-align: right;\">         512</td><td style=\"text-align: right;\">   0.0023283  </td><td style=\"text-align: right;\">0.934925</td><td style=\"text-align: right;\">    40</td><td style=\"text-align: right;\">        547.703 </td></tr>\n",
       "<tr><td>runner_tune_2cb6f0a4</td><td>TERMINATED</td><td>172.17.0.2:36548</td><td>relu        </td><td style=\"text-align: right;\">         512</td><td style=\"text-align: right;\">0.930249</td><td style=\"text-align: right;\">      1024</td><td style=\"text-align: right;\">         4096</td><td style=\"text-align: right;\">   0.2</td><td style=\"text-align: right;\">0.00354484 </td><td style=\"text-align: right;\">     0.0525097</td><td style=\"text-align: right;\">        4</td><td style=\"text-align: right;\">    0.1147   </td><td style=\"text-align: right;\">         512</td><td style=\"text-align: right;\">   0.00221519 </td><td style=\"text-align: right;\">0.937234</td><td style=\"text-align: right;\">    40</td><td style=\"text-align: right;\">        498.96  </td></tr>\n",
       "<tr><td>runner_tune_6b4f89c0</td><td>TERMINATED</td><td>172.17.0.2:36617</td><td>relu        </td><td style=\"text-align: right;\">         512</td><td style=\"text-align: right;\">0.932316</td><td style=\"text-align: right;\">      1024</td><td style=\"text-align: right;\">         4096</td><td style=\"text-align: right;\">   0.2</td><td style=\"text-align: right;\">0.00564885 </td><td style=\"text-align: right;\">     0.0441046</td><td style=\"text-align: right;\">        4</td><td style=\"text-align: right;\">    0.107274 </td><td style=\"text-align: right;\">         512</td><td style=\"text-align: right;\">   0.00238584 </td><td style=\"text-align: right;\">0.936701</td><td style=\"text-align: right;\">    40</td><td style=\"text-align: right;\">        500.892 </td></tr>\n",
       "<tr><td>runner_tune_8327ab90</td><td>TERMINATED</td><td>172.17.0.2:36709</td><td>relu        </td><td style=\"text-align: right;\">         512</td><td style=\"text-align: right;\">0.931392</td><td style=\"text-align: right;\">      1024</td><td style=\"text-align: right;\">         4096</td><td style=\"text-align: right;\">   0.2</td><td style=\"text-align: right;\">0.00345327 </td><td style=\"text-align: right;\">     0.0129213</td><td style=\"text-align: right;\">        4</td><td style=\"text-align: right;\">    0.0715882</td><td style=\"text-align: right;\">         512</td><td style=\"text-align: right;\">   0.00233705 </td><td style=\"text-align: right;\">0.939719</td><td style=\"text-align: right;\">    40</td><td style=\"text-align: right;\">        503.56  </td></tr>\n",
       "<tr><td>runner_tune_ba989ddc</td><td>TERMINATED</td><td>172.17.0.2:36933</td><td>relu        </td><td style=\"text-align: right;\">         512</td><td style=\"text-align: right;\">0.932083</td><td style=\"text-align: right;\">      1024</td><td style=\"text-align: right;\">         4096</td><td style=\"text-align: right;\">   0.2</td><td style=\"text-align: right;\">0.00346519 </td><td style=\"text-align: right;\">     0.043412 </td><td style=\"text-align: right;\">        4</td><td style=\"text-align: right;\">    0.107635 </td><td style=\"text-align: right;\">         512</td><td style=\"text-align: right;\">   0.000751844</td><td style=\"text-align: right;\">0.936879</td><td style=\"text-align: right;\">    40</td><td style=\"text-align: right;\">        550.47  </td></tr>\n",
       "<tr><td>runner_tune_75c9e1c4</td><td>TERMINATED</td><td>172.17.0.2:37013</td><td>relu        </td><td style=\"text-align: right;\">         512</td><td style=\"text-align: right;\">0.936773</td><td style=\"text-align: right;\">      1024</td><td style=\"text-align: right;\">         4096</td><td style=\"text-align: right;\">   0.2</td><td style=\"text-align: right;\">0.0053922  </td><td style=\"text-align: right;\">     0.09614  </td><td style=\"text-align: right;\">        4</td><td style=\"text-align: right;\">    0.093676 </td><td style=\"text-align: right;\">         512</td><td style=\"text-align: right;\">   0.00220981 </td><td style=\"text-align: right;\">0.932528</td><td style=\"text-align: right;\">    40</td><td style=\"text-align: right;\">        500.749 </td></tr>\n",
       "<tr><td>runner_tune_97c4005c</td><td>TERMINATED</td><td>172.17.0.2:37082</td><td>relu        </td><td style=\"text-align: right;\">         512</td><td style=\"text-align: right;\">0.928578</td><td style=\"text-align: right;\">      1024</td><td style=\"text-align: right;\">         4096</td><td style=\"text-align: right;\">   0.2</td><td style=\"text-align: right;\">0.00362759 </td><td style=\"text-align: right;\">     0.0411284</td><td style=\"text-align: right;\">        4</td><td style=\"text-align: right;\">    0.0824123</td><td style=\"text-align: right;\">         512</td><td style=\"text-align: right;\">   0.00241913 </td><td style=\"text-align: right;\">0.935014</td><td style=\"text-align: right;\">    40</td><td style=\"text-align: right;\">        497.597 </td></tr>\n",
       "<tr><td>runner_tune_b0358778</td><td>TERMINATED</td><td>172.17.0.2:37191</td><td>relu        </td><td style=\"text-align: right;\">         512</td><td style=\"text-align: right;\">0.936119</td><td style=\"text-align: right;\">      1024</td><td style=\"text-align: right;\">         4096</td><td style=\"text-align: right;\">   0.2</td><td style=\"text-align: right;\">0.00545326 </td><td style=\"text-align: right;\">     0.0483846</td><td style=\"text-align: right;\">        4</td><td style=\"text-align: right;\">    0.0872298</td><td style=\"text-align: right;\">         512</td><td style=\"text-align: right;\">   0.00221584 </td><td style=\"text-align: right;\">0.935103</td><td style=\"text-align: right;\">    40</td><td style=\"text-align: right;\">        508.898 </td></tr>\n",
       "<tr><td>runner_tune_e9703f42</td><td>TERMINATED</td><td>172.17.0.2:37479</td><td>relu        </td><td style=\"text-align: right;\">         512</td><td style=\"text-align: right;\">0.931885</td><td style=\"text-align: right;\">      1024</td><td style=\"text-align: right;\">         4096</td><td style=\"text-align: right;\">   0.2</td><td style=\"text-align: right;\">0.0053611  </td><td style=\"text-align: right;\">     0.0479763</td><td style=\"text-align: right;\">        4</td><td style=\"text-align: right;\">    0.0903935</td><td style=\"text-align: right;\">         512</td><td style=\"text-align: right;\">   0.00159585 </td><td style=\"text-align: right;\">0.939009</td><td style=\"text-align: right;\">    40</td><td style=\"text-align: right;\">        551.847 </td></tr>\n",
       "<tr><td>runner_tune_c13e9630</td><td>TERMINATED</td><td>172.17.0.2:37522</td><td>relu        </td><td style=\"text-align: right;\">         512</td><td style=\"text-align: right;\">0.926308</td><td style=\"text-align: right;\">      1024</td><td style=\"text-align: right;\">         4096</td><td style=\"text-align: right;\">   0.2</td><td style=\"text-align: right;\">0.00498038 </td><td style=\"text-align: right;\">     0.0397491</td><td style=\"text-align: right;\">        4</td><td style=\"text-align: right;\">    0.054285 </td><td style=\"text-align: right;\">         512</td><td style=\"text-align: right;\">   9.62968e-05</td><td style=\"text-align: right;\">0.936523</td><td style=\"text-align: right;\">    40</td><td style=\"text-align: right;\">        495.631 </td></tr>\n",
       "<tr><td>runner_tune_c4d1d0fa</td><td>TERMINATED</td><td>172.17.0.2:37605</td><td>relu        </td><td style=\"text-align: right;\">         512</td><td style=\"text-align: right;\">0.91822 </td><td style=\"text-align: right;\">      1024</td><td style=\"text-align: right;\">         4096</td><td style=\"text-align: right;\">   0.2</td><td style=\"text-align: right;\">0.00487901 </td><td style=\"text-align: right;\">     0.041928 </td><td style=\"text-align: right;\">        4</td><td style=\"text-align: right;\">    0.0514884</td><td style=\"text-align: right;\">         512</td><td style=\"text-align: right;\">   0.000500502</td><td style=\"text-align: right;\">0.93679 </td><td style=\"text-align: right;\">    40</td><td style=\"text-align: right;\">        508.422 </td></tr>\n",
       "<tr><td>runner_tune_db7956f2</td><td>TERMINATED</td><td>172.17.0.2:37717</td><td>relu        </td><td style=\"text-align: right;\">         512</td><td style=\"text-align: right;\">0.923852</td><td style=\"text-align: right;\">       256</td><td style=\"text-align: right;\">         4096</td><td style=\"text-align: right;\">   0.2</td><td style=\"text-align: right;\">0.0066971  </td><td style=\"text-align: right;\">     0.051684 </td><td style=\"text-align: right;\">        4</td><td style=\"text-align: right;\">    0.0584438</td><td style=\"text-align: right;\">         512</td><td style=\"text-align: right;\">   0.000907875</td><td style=\"text-align: right;\">0.913974</td><td style=\"text-align: right;\">    40</td><td style=\"text-align: right;\">        161.171 </td></tr>\n",
       "<tr><td>runner_tune_1b4312fa</td><td>TERMINATED</td><td>172.17.0.2:37892</td><td>relu        </td><td style=\"text-align: right;\">         512</td><td style=\"text-align: right;\">0.931207</td><td style=\"text-align: right;\">      1024</td><td style=\"text-align: right;\">         4096</td><td style=\"text-align: right;\">   0.2</td><td style=\"text-align: right;\">0.00618059 </td><td style=\"text-align: right;\">     0.0507529</td><td style=\"text-align: right;\">        4</td><td style=\"text-align: right;\">    0.056123 </td><td style=\"text-align: right;\">         512</td><td style=\"text-align: right;\">   0.000977874</td><td style=\"text-align: right;\">0.937234</td><td style=\"text-align: right;\">    40</td><td style=\"text-align: right;\">        499.009 </td></tr>\n",
       "<tr><td>runner_tune_8050bdb4</td><td>TERMINATED</td><td>172.17.0.2:38055</td><td>relu        </td><td style=\"text-align: right;\">         512</td><td style=\"text-align: right;\">0.9318  </td><td style=\"text-align: right;\">      1024</td><td style=\"text-align: right;\">         4096</td><td style=\"text-align: right;\">   0.2</td><td style=\"text-align: right;\">0.00449102 </td><td style=\"text-align: right;\">     0.0398491</td><td style=\"text-align: right;\">        4</td><td style=\"text-align: right;\">    0.155803 </td><td style=\"text-align: right;\">         512</td><td style=\"text-align: right;\">   0.000495122</td><td style=\"text-align: right;\">0.935014</td><td style=\"text-align: right;\">    40</td><td style=\"text-align: right;\">        494.187 </td></tr>\n",
       "<tr><td>runner_tune_eee466e0</td><td>TERMINATED</td><td>172.17.0.2:38128</td><td>relu        </td><td style=\"text-align: right;\">         512</td><td style=\"text-align: right;\">0.93207 </td><td style=\"text-align: right;\">      1024</td><td style=\"text-align: right;\">         4096</td><td style=\"text-align: right;\">   0.2</td><td style=\"text-align: right;\">0.00415413 </td><td style=\"text-align: right;\">     0.0399003</td><td style=\"text-align: right;\">        4</td><td style=\"text-align: right;\">    0.0507345</td><td style=\"text-align: right;\">         512</td><td style=\"text-align: right;\">   9.62681e-05</td><td style=\"text-align: right;\">0.939364</td><td style=\"text-align: right;\">    40</td><td style=\"text-align: right;\">        546.06  </td></tr>\n",
       "<tr><td>runner_tune_0cb298b8</td><td>TERMINATED</td><td>172.17.0.2:38164</td><td>relu        </td><td style=\"text-align: right;\">         512</td><td style=\"text-align: right;\">0.931439</td><td style=\"text-align: right;\">      1024</td><td style=\"text-align: right;\">         4096</td><td style=\"text-align: right;\">   0.2</td><td style=\"text-align: right;\">0.00431662 </td><td style=\"text-align: right;\">     0.0396368</td><td style=\"text-align: right;\">        4</td><td style=\"text-align: right;\">    0.153477 </td><td style=\"text-align: right;\">         512</td><td style=\"text-align: right;\">   9.2569e-05 </td><td style=\"text-align: right;\">0.933505</td><td style=\"text-align: right;\">    40</td><td style=\"text-align: right;\">        499.776 </td></tr>\n",
       "<tr><td>runner_tune_0d4b351e</td><td>TERMINATED</td><td>172.17.0.2:38374</td><td>relu        </td><td style=\"text-align: right;\">         512</td><td style=\"text-align: right;\">0.919068</td><td style=\"text-align: right;\">      1024</td><td style=\"text-align: right;\">         4096</td><td style=\"text-align: right;\">   0.2</td><td style=\"text-align: right;\">0.00418093 </td><td style=\"text-align: right;\">     0.0393857</td><td style=\"text-align: right;\">        4</td><td style=\"text-align: right;\">    0.136654 </td><td style=\"text-align: right;\">         512</td><td style=\"text-align: right;\">   0.000116875</td><td style=\"text-align: right;\">0.935103</td><td style=\"text-align: right;\">    40</td><td style=\"text-align: right;\">        509.953 </td></tr>\n",
       "<tr><td>runner_tune_aaadc5ce</td><td>TERMINATED</td><td>172.17.0.2:38543</td><td>relu        </td><td style=\"text-align: right;\">         512</td><td style=\"text-align: right;\">0.91825 </td><td style=\"text-align: right;\">      1024</td><td style=\"text-align: right;\">         4096</td><td style=\"text-align: right;\">   0.2</td><td style=\"text-align: right;\">0.00614051 </td><td style=\"text-align: right;\">     0.0397966</td><td style=\"text-align: right;\">        4</td><td style=\"text-align: right;\">    0.146614 </td><td style=\"text-align: right;\">         512</td><td style=\"text-align: right;\">   0.000107003</td><td style=\"text-align: right;\">0.934393</td><td style=\"text-align: right;\">    40</td><td style=\"text-align: right;\">        492.988 </td></tr>\n",
       "<tr><td>runner_tune_185ebe20</td><td>TERMINATED</td><td>172.17.0.2:38619</td><td>relu        </td><td style=\"text-align: right;\">         512</td><td style=\"text-align: right;\">0.918182</td><td style=\"text-align: right;\">      1024</td><td style=\"text-align: right;\">         4096</td><td style=\"text-align: right;\">   0.2</td><td style=\"text-align: right;\">0.00485601 </td><td style=\"text-align: right;\">     0.0515249</td><td style=\"text-align: right;\">        4</td><td style=\"text-align: right;\">    0.226142 </td><td style=\"text-align: right;\">         512</td><td style=\"text-align: right;\">   0.000104253</td><td style=\"text-align: right;\">0.931019</td><td style=\"text-align: right;\">    40</td><td style=\"text-align: right;\">        502.272 </td></tr>\n",
       "<tr><td>runner_tune_3a592286</td><td>TERMINATED</td><td>172.17.0.2:38690</td><td>relu        </td><td style=\"text-align: right;\">         512</td><td style=\"text-align: right;\">0.922523</td><td style=\"text-align: right;\">      1024</td><td style=\"text-align: right;\">         4096</td><td style=\"text-align: right;\">   0.2</td><td style=\"text-align: right;\">0.00614272 </td><td style=\"text-align: right;\">     0.0531029</td><td style=\"text-align: right;\">        4</td><td style=\"text-align: right;\">    0.228985 </td><td style=\"text-align: right;\">         512</td><td style=\"text-align: right;\">   0.00014913 </td><td style=\"text-align: right;\">0.92658 </td><td style=\"text-align: right;\">    40</td><td style=\"text-align: right;\">        552.783 </td></tr>\n",
       "<tr><td>runner_tune_5531f04c</td><td>TERMINATED</td><td>172.17.0.2:38871</td><td>relu        </td><td style=\"text-align: right;\">         512</td><td style=\"text-align: right;\">0.917925</td><td style=\"text-align: right;\">      1024</td><td style=\"text-align: right;\">         4096</td><td style=\"text-align: right;\">   0.2</td><td style=\"text-align: right;\">0.00596032 </td><td style=\"text-align: right;\">     0.0526391</td><td style=\"text-align: right;\">        4</td><td style=\"text-align: right;\">    0.233415 </td><td style=\"text-align: right;\">         512</td><td style=\"text-align: right;\">   0.000136707</td><td style=\"text-align: right;\">0.933594</td><td style=\"text-align: right;\">    40</td><td style=\"text-align: right;\">        498.304 </td></tr>\n",
       "<tr><td>runner_tune_ddb16362</td><td>TERMINATED</td><td>172.17.0.2:39013</td><td>relu        </td><td style=\"text-align: right;\">         512</td><td style=\"text-align: right;\">0.925561</td><td style=\"text-align: right;\">      1024</td><td style=\"text-align: right;\">         4096</td><td style=\"text-align: right;\">   0.2</td><td style=\"text-align: right;\">0.00989628 </td><td style=\"text-align: right;\">     0.0493444</td><td style=\"text-align: right;\">        4</td><td style=\"text-align: right;\">    0.243835 </td><td style=\"text-align: right;\">         512</td><td style=\"text-align: right;\">   0.000134353</td><td style=\"text-align: right;\">0.928622</td><td style=\"text-align: right;\">    40</td><td style=\"text-align: right;\">        489.552 </td></tr>\n",
       "<tr><td>runner_tune_40a6ee38</td><td>TERMINATED</td><td>172.17.0.2:39178</td><td>relu        </td><td style=\"text-align: right;\">         512</td><td style=\"text-align: right;\">0.926032</td><td style=\"text-align: right;\">      1024</td><td style=\"text-align: right;\">         4096</td><td style=\"text-align: right;\">   0.2</td><td style=\"text-align: right;\">0.0051236  </td><td style=\"text-align: right;\">     0.0482766</td><td style=\"text-align: right;\">        4</td><td style=\"text-align: right;\">    0.0532437</td><td style=\"text-align: right;\">         512</td><td style=\"text-align: right;\">   7.51093e-05</td><td style=\"text-align: right;\">0.939453</td><td style=\"text-align: right;\">    40</td><td style=\"text-align: right;\">        499.205 </td></tr>\n",
       "<tr><td>runner_tune_689804a4</td><td>TERMINATED</td><td>172.17.0.2:39288</td><td>relu        </td><td style=\"text-align: right;\">         512</td><td style=\"text-align: right;\">0.925903</td><td style=\"text-align: right;\">      1024</td><td style=\"text-align: right;\">         4096</td><td style=\"text-align: right;\">   0.2</td><td style=\"text-align: right;\">0.00582605 </td><td style=\"text-align: right;\">     0.0481969</td><td style=\"text-align: right;\">        4</td><td style=\"text-align: right;\">    0.0615044</td><td style=\"text-align: right;\">         512</td><td style=\"text-align: right;\">   6.58463e-05</td><td style=\"text-align: right;\">0.937589</td><td style=\"text-align: right;\">    40</td><td style=\"text-align: right;\">        550.072 </td></tr>\n",
       "<tr><td>runner_tune_a15943c0</td><td>TERMINATED</td><td>172.17.0.2:39442</td><td>relu        </td><td style=\"text-align: right;\">         512</td><td style=\"text-align: right;\">0.925087</td><td style=\"text-align: right;\">      1024</td><td style=\"text-align: right;\">         4096</td><td style=\"text-align: right;\">   0.2</td><td style=\"text-align: right;\">0.0102036  </td><td style=\"text-align: right;\">     0.0341156</td><td style=\"text-align: right;\">        4</td><td style=\"text-align: right;\">    0.0539235</td><td style=\"text-align: right;\">         512</td><td style=\"text-align: right;\">   3.75481e-05</td><td style=\"text-align: right;\">0.940785</td><td style=\"text-align: right;\">    40</td><td style=\"text-align: right;\">        511.472 </td></tr>\n",
       "<tr><td>runner_tune_098e45b2</td><td>TERMINATED</td><td>172.17.0.2:39588</td><td>relu        </td><td style=\"text-align: right;\">         512</td><td style=\"text-align: right;\">0.925953</td><td style=\"text-align: right;\">      1024</td><td style=\"text-align: right;\">         4096</td><td style=\"text-align: right;\">   0.2</td><td style=\"text-align: right;\">0.00507082 </td><td style=\"text-align: right;\">     0.0472445</td><td style=\"text-align: right;\">        4</td><td style=\"text-align: right;\">    0.0652792</td><td style=\"text-align: right;\">         512</td><td style=\"text-align: right;\">   2.8248e-05 </td><td style=\"text-align: right;\">0.938832</td><td style=\"text-align: right;\">    40</td><td style=\"text-align: right;\">        496.129 </td></tr>\n",
       "<tr><td>runner_tune_67268cf2</td><td>TERMINATED</td><td>172.17.0.2:39679</td><td>relu        </td><td style=\"text-align: right;\">         512</td><td style=\"text-align: right;\">0.93009 </td><td style=\"text-align: right;\">      1024</td><td style=\"text-align: right;\">         4096</td><td style=\"text-align: right;\">   0.2</td><td style=\"text-align: right;\">0.00525638 </td><td style=\"text-align: right;\">     0.0357509</td><td style=\"text-align: right;\">        4</td><td style=\"text-align: right;\">    0.0539112</td><td style=\"text-align: right;\">         512</td><td style=\"text-align: right;\">   7.04196e-05</td><td style=\"text-align: right;\">0.936879</td><td style=\"text-align: right;\">    40</td><td style=\"text-align: right;\">        510.729 </td></tr>\n",
       "<tr><td>runner_tune_950d691a</td><td>TERMINATED</td><td>172.17.0.2:39813</td><td>relu        </td><td style=\"text-align: right;\">         512</td><td style=\"text-align: right;\">0.927512</td><td style=\"text-align: right;\">      1024</td><td style=\"text-align: right;\">         4096</td><td style=\"text-align: right;\">   0.2</td><td style=\"text-align: right;\">0.00720056 </td><td style=\"text-align: right;\">     0.0359105</td><td style=\"text-align: right;\">        4</td><td style=\"text-align: right;\">    0.0524001</td><td style=\"text-align: right;\">         512</td><td style=\"text-align: right;\">   6.86933e-05</td><td style=\"text-align: right;\">0.93821 </td><td style=\"text-align: right;\">    40</td><td style=\"text-align: right;\">        552.359 </td></tr>\n",
       "</tbody>\n",
       "</table><br><br>"
      ],
      "text/plain": [
       "<IPython.core.display.HTML object>"
      ]
     },
     "metadata": {},
     "output_type": "display_data"
    }
   ],
   "source": [
    "# hebo = HEBOSearch(metric=\"mean_accuracy\", mode=\"max\")\n",
    "\n",
    "# analysis = study.tune(config={\"lr_dense\": tune.loguniform(1e-3, 2e-2),\n",
    "#                               \"weight_decay\": tune.loguniform(1e-6, 1e-4),\n",
    "#                               \"gamma\": tune.loguniform(.1, .9),\n",
    "#                               \"dropout\": tune.uniform(0, .75),\n",
    "#                               \"scale_down\": tune.uniform(0.4, .7),\n",
    "#                               \"scale_up\": tune.uniform(0.9, 1.2),\n",
    "#                               \"ratio_down\": tune.uniform(0.7, .95),\n",
    "#                               \"ratio_up\": tune.uniform(1.05, 1.4),\n",
    "#                               \"channels\": tune.choice([128, 256, 512]),\n",
    "#                               \"batch_size\": tune.choice([512, 1024, 2048]),},\n",
    "#                        metric=\"mean_accuracy\",\n",
    "#                        max_concurrent_trials=4,\n",
    "#                        resources_per_trial={\"gpu\": 1},\n",
    "#                        mode=\"max\",\n",
    "#                        search_alg=hebo,\n",
    "#                       progress_reporter=JupyterNotebookReporter(overwrite=True),\n",
    "#                        num_samples=400)\n",
    "\n",
    "\n",
    "analysis = study.tune(config={\"lr_dense\": tune.loguniform(1e-4, 2e-2),\n",
    "                              \"weight_decay\": tune.loguniform(1e-6, 1e-2),\n",
    "                              \"beta1\": tune.loguniform(.85, .95),\n",
    "                              \"gain\": tune.uniform(0.2, .2),\n",
    "                              \"temperature\": tune.uniform(0.05, 2.),\n",
    "                              \"minimal_gain\": tune.loguniform(.01, .1),\n",
    "                              \"channels\": tune.choice([256, 512, 1024]),\n",
    "                              \"padding\": tune.choice([4, 6, 8]),\n",
    "                              \"turn_point\": tune.choice([256, 512, 1024]),\n",
    "                              \"final_point\": tune.choice([2048, 2048*1.5, 2048*2]),\n",
    "                              \"batch_size\": tune.choice([256, 512, 1024]),\n",
    "                              \"activation\": tune.choice(['relu', 'celu', 'gelu']),},\n",
    "                       metric=\"mean_accuracy\",\n",
    "                       max_concurrent_trials=8,\n",
    "                       resources_per_trial={\"gpu\": 1},\n",
    "                       mode=\"max\",\n",
    "                       search_alg=OptunaSearch(),\n",
    "                      progress_reporter=JupyterNotebookReporter(overwrite=True),\n",
    "                       num_samples=400)\n"
   ]
  },
  {
   "cell_type": "code",
   "execution_count": null,
   "id": "f011e312-be26-4bd6-b8cc-123fd86d85d4",
   "metadata": {},
   "outputs": [],
   "source": [
    "1+1"
   ]
  }
 ],
 "metadata": {
  "kernelspec": {
   "display_name": "Python 3 (ipykernel)",
   "language": "python",
   "name": "python3"
  },
  "language_info": {
   "codemirror_mode": {
    "name": "ipython",
    "version": 3
   },
   "file_extension": ".py",
   "mimetype": "text/x-python",
   "name": "python",
   "nbconvert_exporter": "python",
   "pygments_lexer": "ipython3",
   "version": "3.8.12"
  },
  "toc-autonumbering": true
 },
 "nbformat": 4,
 "nbformat_minor": 5
}
