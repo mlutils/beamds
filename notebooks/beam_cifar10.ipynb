{
 "cells": [
  {
   "cell_type": "code",
   "execution_count": 1,
   "id": "c974cdd9",
   "metadata": {},
   "outputs": [
    {
     "name": "stderr",
     "output_type": "stream",
     "text": [
      "2022-06-14 12:51:13,043\tINFO services.py:1456 -- View the Ray dashboard at \u001b[1m\u001b[32mhttp://127.0.0.1:13065\u001b[39m\u001b[22m\n",
      "2022-06-14 12:51:14,796\tINFO packaging.py:388 -- Creating a file package for local directory '..'.\n",
      "2022-06-14 12:51:15,366\tINFO packaging.py:241 -- Pushing file package 'gcs://_ray_pkg_b281c113605b1358.zip' (0.71MiB) to Ray cluster...\n",
      "2022-06-14 12:51:15,389\tINFO packaging.py:243 -- Successfully pushed file package 'gcs://_ray_pkg_b281c113605b1358.zip'.\n"
     ]
    }
   ],
   "source": [
    "%load_ext autoreload\n",
    "%autoreload 2\n",
    "\n",
    "import torch\n",
    "import torchvision\n",
    "import torch.nn.functional as F\n",
    "from torch import nn\n",
    "from sklearn.metrics import precision_recall_fscore_support\n",
    "import numpy as np\n",
    "\n",
    "# manage ray's relative imports\n",
    "import ray\n",
    "runtime_env = {\"working_dir\": \"..\" }\n",
    "ray.init(runtime_env=runtime_env, dashboard_port=13065, include_dashboard=True)\n",
    "\n",
    "from ray import tune\n",
    "from ray.tune.suggest.optuna import OptunaSearch\n",
    "from ray.tune import JupyterNotebookReporter\n",
    "\n",
    "# manage beams's relative imports\n",
    "import sys\n",
    "sys.path.append('..')\n",
    "\n",
    "from src.beam import beam_arguments, Experiment, Study\n",
    "from src.beam import UniversalDataset, UniversalBatchSampler\n",
    "from src.beam import Algorithm\n",
    "from src.beam import LinearNet\n",
    "\n",
    "from src.beam import DataTensor\n",
    "from src.beam.utils import is_notebook\n",
    "from cifar10_example import cifar10_algorithm_generator, Cifar10Network\n",
    "\n",
    "from ray.tune.suggest.hebo import HEBOSearch"
   ]
  },
  {
   "cell_type": "code",
   "execution_count": 2,
   "id": "3fb14c31-398b-48b6-ade7-cfdb06d6d518",
   "metadata": {},
   "outputs": [],
   "source": [
    "path_to_data = '/localdata/elads/data/datasets/cifar10'\n",
    "root_dir = '/localdata/elads/data/cifar10'\n",
    "\n",
    "# path_to_data = '/home/shared/data/dataset/cifar10'\n",
    "# root_dir = '/home/shared/data/results/cifar10'"
   ]
  },
  {
   "cell_type": "markdown",
   "id": "3d15a46d",
   "metadata": {},
   "source": [
    "## Training with a single worker"
   ]
  },
  {
   "cell_type": "code",
   "execution_count": 7,
   "id": "f4594150-54ef-417f-a1bb-4f2fe6037aee",
   "metadata": {},
   "outputs": [],
   "source": [
    "args = beam_arguments(f\"--project-name=cifar10 --root-dir={root_dir} --algorithm=CIFAR10Algorithm --device=1 --half --lr-d=0.01 --batch-size=1024\",\n",
    "                      \"--n-epochs=6 --epoch-length-train=1000000 --epoch-length-eval=10000 --clip=0 --parallel=1 --accumulate=1 --cudnn-benchmark\",\n",
    "                      \"--weight-decay=1e-5 --beta1=0.9 --beta2=0.9\", path_to_data=path_to_data)"
   ]
  },
  {
   "cell_type": "code",
   "execution_count": 3,
   "id": "f79ff3f1",
   "metadata": {},
   "outputs": [
    {
     "name": "stdout",
     "output_type": "stream",
     "text": [
      "\u001b[32m2022-06-14 06:19:35.973\u001b[0m | \u001b[1mINFO    \u001b[0m | \u001b[36msrc.beam.experiment\u001b[0m:\u001b[36m__init__\u001b[0m:\u001b[36m99\u001b[0m - \u001b[1mbeam project: cifar10\u001b[0m\n",
      "\u001b[32m2022-06-14 06:19:35.975\u001b[0m | \u001b[1mINFO    \u001b[0m | \u001b[36msrc.beam.experiment\u001b[0m:\u001b[36m__init__\u001b[0m:\u001b[36m100\u001b[0m - \u001b[1mExperiment Hyperparameters\u001b[0m\n",
      "\u001b[32m2022-06-14 06:19:35.976\u001b[0m | \u001b[1mINFO    \u001b[0m | \u001b[36msrc.beam.experiment\u001b[0m:\u001b[36m__init__\u001b[0m:\u001b[36m104\u001b[0m - \u001b[1mproject_name: cifar10\u001b[0m\n",
      "\u001b[32m2022-06-14 06:19:35.976\u001b[0m | \u001b[1mINFO    \u001b[0m | \u001b[36msrc.beam.experiment\u001b[0m:\u001b[36m__init__\u001b[0m:\u001b[36m104\u001b[0m - \u001b[1midentifier: debug\u001b[0m\n",
      "\u001b[32m2022-06-14 06:19:35.977\u001b[0m | \u001b[1mINFO    \u001b[0m | \u001b[36msrc.beam.experiment\u001b[0m:\u001b[36m__init__\u001b[0m:\u001b[36m104\u001b[0m - \u001b[1malgorithm: CIFAR10Algorithm\u001b[0m\n",
      "\u001b[32m2022-06-14 06:19:35.978\u001b[0m | \u001b[1mINFO    \u001b[0m | \u001b[36msrc.beam.experiment\u001b[0m:\u001b[36m__init__\u001b[0m:\u001b[36m104\u001b[0m - \u001b[1mmp_port: None\u001b[0m\n",
      "\u001b[32m2022-06-14 06:19:35.979\u001b[0m | \u001b[1mINFO    \u001b[0m | \u001b[36msrc.beam.experiment\u001b[0m:\u001b[36m__init__\u001b[0m:\u001b[36m104\u001b[0m - \u001b[1mroot_dir: /localdata/elads/data/cifar10\u001b[0m\n",
      "\u001b[32m2022-06-14 06:19:35.979\u001b[0m | \u001b[1mINFO    \u001b[0m | \u001b[36msrc.beam.experiment\u001b[0m:\u001b[36m__init__\u001b[0m:\u001b[36m104\u001b[0m - \u001b[1mreload: False\u001b[0m\n",
      "\u001b[32m2022-06-14 06:19:35.980\u001b[0m | \u001b[1mINFO    \u001b[0m | \u001b[36msrc.beam.experiment\u001b[0m:\u001b[36m__init__\u001b[0m:\u001b[36m104\u001b[0m - \u001b[1mresume: -1\u001b[0m\n",
      "\u001b[32m2022-06-14 06:19:35.981\u001b[0m | \u001b[1mINFO    \u001b[0m | \u001b[36msrc.beam.experiment\u001b[0m:\u001b[36m__init__\u001b[0m:\u001b[36m104\u001b[0m - \u001b[1moverride: False\u001b[0m\n",
      "\u001b[32m2022-06-14 06:19:35.981\u001b[0m | \u001b[1mINFO    \u001b[0m | \u001b[36msrc.beam.experiment\u001b[0m:\u001b[36m__init__\u001b[0m:\u001b[36m104\u001b[0m - \u001b[1mcpu_workers: 0\u001b[0m\n",
      "\u001b[32m2022-06-14 06:19:35.982\u001b[0m | \u001b[1mINFO    \u001b[0m | \u001b[36msrc.beam.experiment\u001b[0m:\u001b[36m__init__\u001b[0m:\u001b[36m104\u001b[0m - \u001b[1mdevice: 1\u001b[0m\n",
      "\u001b[32m2022-06-14 06:19:35.983\u001b[0m | \u001b[1mINFO    \u001b[0m | \u001b[36msrc.beam.experiment\u001b[0m:\u001b[36m__init__\u001b[0m:\u001b[36m104\u001b[0m - \u001b[1mparallel: 1\u001b[0m\n",
      "\u001b[32m2022-06-14 06:19:35.984\u001b[0m | \u001b[1mINFO    \u001b[0m | \u001b[36msrc.beam.experiment\u001b[0m:\u001b[36m__init__\u001b[0m:\u001b[36m104\u001b[0m - \u001b[1mtensorboard: True\u001b[0m\n",
      "\u001b[32m2022-06-14 06:19:35.984\u001b[0m | \u001b[1mINFO    \u001b[0m | \u001b[36msrc.beam.experiment\u001b[0m:\u001b[36m__init__\u001b[0m:\u001b[36m104\u001b[0m - \u001b[1mlognet: True\u001b[0m\n",
      "\u001b[32m2022-06-14 06:19:35.985\u001b[0m | \u001b[1mINFO    \u001b[0m | \u001b[36msrc.beam.experiment\u001b[0m:\u001b[36m__init__\u001b[0m:\u001b[36m104\u001b[0m - \u001b[1mdeterministic: False\u001b[0m\n",
      "\u001b[32m2022-06-14 06:19:35.986\u001b[0m | \u001b[1mINFO    \u001b[0m | \u001b[36msrc.beam.experiment\u001b[0m:\u001b[36m__init__\u001b[0m:\u001b[36m104\u001b[0m - \u001b[1mscale_epoch_by_batch_size: True\u001b[0m\n",
      "\u001b[32m2022-06-14 06:19:35.986\u001b[0m | \u001b[1mINFO    \u001b[0m | \u001b[36msrc.beam.experiment\u001b[0m:\u001b[36m__init__\u001b[0m:\u001b[36m104\u001b[0m - \u001b[1mcudnn_benchmark: True\u001b[0m\n",
      "\u001b[32m2022-06-14 06:19:35.987\u001b[0m | \u001b[1mINFO    \u001b[0m | \u001b[36msrc.beam.experiment\u001b[0m:\u001b[36m__init__\u001b[0m:\u001b[36m104\u001b[0m - \u001b[1mhalf: True\u001b[0m\n",
      "\u001b[32m2022-06-14 06:19:35.988\u001b[0m | \u001b[1mINFO    \u001b[0m | \u001b[36msrc.beam.experiment\u001b[0m:\u001b[36m__init__\u001b[0m:\u001b[36m104\u001b[0m - \u001b[1mamp: False\u001b[0m\n",
      "\u001b[32m2022-06-14 06:19:35.988\u001b[0m | \u001b[1mINFO    \u001b[0m | \u001b[36msrc.beam.experiment\u001b[0m:\u001b[36m__init__\u001b[0m:\u001b[36m104\u001b[0m - \u001b[1minit: ortho\u001b[0m\n",
      "\u001b[32m2022-06-14 06:19:35.989\u001b[0m | \u001b[1mINFO    \u001b[0m | \u001b[36msrc.beam.experiment\u001b[0m:\u001b[36m__init__\u001b[0m:\u001b[36m104\u001b[0m - \u001b[1mseed: 0\u001b[0m\n",
      "\u001b[32m2022-06-14 06:19:35.990\u001b[0m | \u001b[1mINFO    \u001b[0m | \u001b[36msrc.beam.experiment\u001b[0m:\u001b[36m__init__\u001b[0m:\u001b[36m104\u001b[0m - \u001b[1mtotal_steps: 1000000\u001b[0m\n",
      "\u001b[32m2022-06-14 06:19:35.990\u001b[0m | \u001b[1mINFO    \u001b[0m | \u001b[36msrc.beam.experiment\u001b[0m:\u001b[36m__init__\u001b[0m:\u001b[36m104\u001b[0m - \u001b[1mepoch_length: None\u001b[0m\n",
      "\u001b[32m2022-06-14 06:19:35.991\u001b[0m | \u001b[1mINFO    \u001b[0m | \u001b[36msrc.beam.experiment\u001b[0m:\u001b[36m__init__\u001b[0m:\u001b[36m104\u001b[0m - \u001b[1mepoch_length_train: 1000000\u001b[0m\n",
      "\u001b[32m2022-06-14 06:19:35.992\u001b[0m | \u001b[1mINFO    \u001b[0m | \u001b[36msrc.beam.experiment\u001b[0m:\u001b[36m__init__\u001b[0m:\u001b[36m104\u001b[0m - \u001b[1mepoch_length_eval: 10000\u001b[0m\n",
      "\u001b[32m2022-06-14 06:19:35.992\u001b[0m | \u001b[1mINFO    \u001b[0m | \u001b[36msrc.beam.experiment\u001b[0m:\u001b[36m__init__\u001b[0m:\u001b[36m104\u001b[0m - \u001b[1mn_epochs: 6\u001b[0m\n",
      "\u001b[32m2022-06-14 06:19:35.993\u001b[0m | \u001b[1mINFO    \u001b[0m | \u001b[36msrc.beam.experiment\u001b[0m:\u001b[36m__init__\u001b[0m:\u001b[36m104\u001b[0m - \u001b[1mbatch_size: 1024\u001b[0m\n",
      "\u001b[32m2022-06-14 06:19:35.994\u001b[0m | \u001b[1mINFO    \u001b[0m | \u001b[36msrc.beam.experiment\u001b[0m:\u001b[36m__init__\u001b[0m:\u001b[36m104\u001b[0m - \u001b[1mbatch_size_train: None\u001b[0m\n",
      "\u001b[32m2022-06-14 06:19:35.994\u001b[0m | \u001b[1mINFO    \u001b[0m | \u001b[36msrc.beam.experiment\u001b[0m:\u001b[36m__init__\u001b[0m:\u001b[36m104\u001b[0m - \u001b[1mbatch_size_eval: None\u001b[0m\n",
      "\u001b[32m2022-06-14 06:19:35.995\u001b[0m | \u001b[1mINFO    \u001b[0m | \u001b[36msrc.beam.experiment\u001b[0m:\u001b[36m__init__\u001b[0m:\u001b[36m104\u001b[0m - \u001b[1mlr_dense: 0.01\u001b[0m\n",
      "\u001b[32m2022-06-14 06:19:35.996\u001b[0m | \u001b[1mINFO    \u001b[0m | \u001b[36msrc.beam.experiment\u001b[0m:\u001b[36m__init__\u001b[0m:\u001b[36m104\u001b[0m - \u001b[1mlr_sparse: 0.01\u001b[0m\n",
      "\u001b[32m2022-06-14 06:19:35.996\u001b[0m | \u001b[1mINFO    \u001b[0m | \u001b[36msrc.beam.experiment\u001b[0m:\u001b[36m__init__\u001b[0m:\u001b[36m104\u001b[0m - \u001b[1mweight_decay: 1e-05\u001b[0m\n",
      "\u001b[32m2022-06-14 06:19:35.997\u001b[0m | \u001b[1mINFO    \u001b[0m | \u001b[36msrc.beam.experiment\u001b[0m:\u001b[36m__init__\u001b[0m:\u001b[36m104\u001b[0m - \u001b[1meps: 0.0001\u001b[0m\n",
      "\u001b[32m2022-06-14 06:19:35.998\u001b[0m | \u001b[1mINFO    \u001b[0m | \u001b[36msrc.beam.experiment\u001b[0m:\u001b[36m__init__\u001b[0m:\u001b[36m104\u001b[0m - \u001b[1mbeta1: 0.9\u001b[0m\n",
      "\u001b[32m2022-06-14 06:19:35.998\u001b[0m | \u001b[1mINFO    \u001b[0m | \u001b[36msrc.beam.experiment\u001b[0m:\u001b[36m__init__\u001b[0m:\u001b[36m104\u001b[0m - \u001b[1mbeta2: 0.9\u001b[0m\n",
      "\u001b[32m2022-06-14 06:19:35.999\u001b[0m | \u001b[1mINFO    \u001b[0m | \u001b[36msrc.beam.experiment\u001b[0m:\u001b[36m__init__\u001b[0m:\u001b[36m104\u001b[0m - \u001b[1mclip: 0.0\u001b[0m\n",
      "\u001b[32m2022-06-14 06:19:35.999\u001b[0m | \u001b[1mINFO    \u001b[0m | \u001b[36msrc.beam.experiment\u001b[0m:\u001b[36m__init__\u001b[0m:\u001b[36m104\u001b[0m - \u001b[1maccumulate: 1\u001b[0m\n",
      "\u001b[32m2022-06-14 06:19:36.000\u001b[0m | \u001b[1mINFO    \u001b[0m | \u001b[36msrc.beam.experiment\u001b[0m:\u001b[36m__init__\u001b[0m:\u001b[36m104\u001b[0m - \u001b[1mprint_results: True\u001b[0m\n",
      "\u001b[32m2022-06-14 06:19:36.001\u001b[0m | \u001b[1mINFO    \u001b[0m | \u001b[36msrc.beam.experiment\u001b[0m:\u001b[36m__init__\u001b[0m:\u001b[36m104\u001b[0m - \u001b[1mvisualize_weights: True\u001b[0m\n",
      "\u001b[32m2022-06-14 06:19:36.001\u001b[0m | \u001b[1mINFO    \u001b[0m | \u001b[36msrc.beam.experiment\u001b[0m:\u001b[36m__init__\u001b[0m:\u001b[36m104\u001b[0m - \u001b[1mvisualize_results: yes\u001b[0m\n",
      "\u001b[32m2022-06-14 06:19:36.002\u001b[0m | \u001b[1mINFO    \u001b[0m | \u001b[36msrc.beam.experiment\u001b[0m:\u001b[36m__init__\u001b[0m:\u001b[36m104\u001b[0m - \u001b[1mstore_results: logscale\u001b[0m\n",
      "\u001b[32m2022-06-14 06:19:36.002\u001b[0m | \u001b[1mINFO    \u001b[0m | \u001b[36msrc.beam.experiment\u001b[0m:\u001b[36m__init__\u001b[0m:\u001b[36m104\u001b[0m - \u001b[1mstore_networks: logscale\u001b[0m\n",
      "\u001b[32m2022-06-14 06:19:36.003\u001b[0m | \u001b[1mINFO    \u001b[0m | \u001b[36msrc.beam.experiment\u001b[0m:\u001b[36m__init__\u001b[0m:\u001b[36m104\u001b[0m - \u001b[1mpath_to_data: /localdata/elads/data/datasets/cifar10\u001b[0m\n",
      "\u001b[32m2022-06-14 06:19:36.008\u001b[0m | \u001b[1mINFO    \u001b[0m | \u001b[36msrc.beam.experiment\u001b[0m:\u001b[36m__init__\u001b[0m:\u001b[36m172\u001b[0m - \u001b[1mCreating new experiment\u001b[0m\n",
      "\u001b[32m2022-06-14 06:19:36.009\u001b[0m | \u001b[1mINFO    \u001b[0m | \u001b[36msrc.beam.experiment\u001b[0m:\u001b[36m__init__\u001b[0m:\u001b[36m187\u001b[0m - \u001b[1mExperiment directory is: /localdata/elads/data/cifar10/cifar10/CIFAR10Algorithm/debug/0059_20220614_061936\u001b[0m\n"
     ]
    }
   ],
   "source": [
    "# here you put all actions which are performed only once before initializing the workers\n",
    "# for example, setting running arguments and experiment:\n",
    "\n",
    "args = beam_arguments(f\"--project-name=cifar10 --root-dir={root_dir} --algorithm=CIFAR10Algorithm --device=1 --half --lr-d=0.01 --batch-size=1024\",\n",
    "                      \"--n-epochs=6 --epoch-length-train=1000000 --epoch-length-eval=10000 --clip=0 --parallel=1 --accumulate=1 --cudnn-benchmark\",\n",
    "                      \"--weight-decay=1e-5 --beta1=0.9 --beta2=0.9\", path_to_data=path_to_data)\n",
    "\n",
    "experiment = Experiment(args)"
   ]
  },
  {
   "cell_type": "markdown",
   "id": "80059474-4a4c-4989-96ce-3edcd877a4df",
   "metadata": {},
   "source": [
    "## Train with single or multiple workers"
   ]
  },
  {
   "cell_type": "code",
   "execution_count": 4,
   "id": "4cc43273-649c-402d-8ca1-c5da55ff7f1b",
   "metadata": {},
   "outputs": [
    {
     "name": "stdout",
     "output_type": "stream",
     "text": [
      "\u001b[32m2022-06-14 06:19:36.782\u001b[0m | \u001b[1mINFO    \u001b[0m | \u001b[36msrc.beam.experiment\u001b[0m:\u001b[36mrun\u001b[0m:\u001b[36m454\u001b[0m - \u001b[1mSingle worker mode\u001b[0m\n",
      "\u001b[32m2022-06-14 06:19:36.783\u001b[0m | \u001b[1mINFO    \u001b[0m | \u001b[36msrc.beam.experiment\u001b[0m:\u001b[36mrun_worker\u001b[0m:\u001b[36m44\u001b[0m - \u001b[1mWorker: 1/1 is running...\u001b[0m\n"
     ]
    },
    {
     "data": {
      "application/vnd.jupyter.widget-view+json": {
       "model_id": "0041b7a4a45d4b389ba7358666b1c00b",
       "version_major": 2,
       "version_minor": 0
      },
      "text/plain": [
       "train:   0%|          | 0/975 [00:00<?, ?it/s]"
      ]
     },
     "metadata": {},
     "output_type": "display_data"
    },
    {
     "data": {
      "application/vnd.jupyter.widget-view+json": {
       "model_id": "73c997c094c140c6be89607847855f98",
       "version_major": 2,
       "version_minor": 0
      },
      "text/plain": [
       "test:   0%|          | 0/9 [00:00<?, ?it/s]"
      ]
     },
     "metadata": {},
     "output_type": "display_data"
    },
    {
     "name": "stdout",
     "output_type": "stream",
     "text": [
      "\n",
      "\u001b[32m2022-06-14 06:20:51.928\u001b[0m | \u001b[1mINFO    \u001b[0m | \u001b[36msrc.beam.experiment\u001b[0m:\u001b[36msave_model_results\u001b[0m:\u001b[36m308\u001b[0m - \u001b[1mFinished epoch 1/6:\u001b[0m\n",
      "\u001b[32m2022-06-14 06:20:51.933\u001b[0m | \u001b[1mINFO    \u001b[0m | \u001b[36msrc.beam.experiment\u001b[0m:\u001b[36mlog_data\u001b[0m:\u001b[36m346\u001b[0m - \u001b[1mtrain:\u001b[0m\n",
      "\u001b[32m2022-06-14 06:20:51.934\u001b[0m | \u001b[1mINFO    \u001b[0m | \u001b[36msrc.beam.experiment\u001b[0m:\u001b[36mlog_data\u001b[0m:\u001b[36m350\u001b[0m - \u001b[1mloss 528.213 \t|\u001b[0m\n",
      "\u001b[32m2022-06-14 06:20:51.935\u001b[0m | \u001b[1mINFO    \u001b[0m | \u001b[36msrc.beam.experiment\u001b[0m:\u001b[36mlog_data\u001b[0m:\u001b[36m350\u001b[0m - \u001b[1macc 0.81942 \t|\u001b[0m\n",
      "\u001b[32m2022-06-14 06:20:51.936\u001b[0m | \u001b[1mINFO    \u001b[0m | \u001b[36msrc.beam.experiment\u001b[0m:\u001b[36mlog_data\u001b[0m:\u001b[36m350\u001b[0m - \u001b[1mlr 0.01 \t|\u001b[0m\n",
      "\u001b[32m2022-06-14 06:20:51.937\u001b[0m | \u001b[1mINFO    \u001b[0m | \u001b[36msrc.beam.experiment\u001b[0m:\u001b[36mlog_data\u001b[0m:\u001b[36m346\u001b[0m - \u001b[1mtest:\u001b[0m\n",
      "\u001b[32m2022-06-14 06:20:51.937\u001b[0m | \u001b[1mINFO    \u001b[0m | \u001b[36msrc.beam.experiment\u001b[0m:\u001b[36mlog_data\u001b[0m:\u001b[36m350\u001b[0m - \u001b[1mloss 530.667 \t|\u001b[0m\n",
      "\u001b[32m2022-06-14 06:20:51.938\u001b[0m | \u001b[1mINFO    \u001b[0m | \u001b[36msrc.beam.experiment\u001b[0m:\u001b[36mlog_data\u001b[0m:\u001b[36m350\u001b[0m - \u001b[1macc 0.832899 \t|\u001b[0m\n"
     ]
    },
    {
     "data": {
      "application/vnd.jupyter.widget-view+json": {
       "model_id": "2fa457ddb6b94dcfa9ee7359182d7cd8",
       "version_major": 2,
       "version_minor": 0
      },
      "text/plain": [
       "train:   0%|          | 0/975 [00:00<?, ?it/s]"
      ]
     },
     "metadata": {},
     "output_type": "display_data"
    },
    {
     "data": {
      "application/vnd.jupyter.widget-view+json": {
       "model_id": "24e19f08297645759edc3720764673ea",
       "version_major": 2,
       "version_minor": 0
      },
      "text/plain": [
       "test:   0%|          | 0/9 [00:00<?, ?it/s]"
      ]
     },
     "metadata": {},
     "output_type": "display_data"
    },
    {
     "name": "stdout",
     "output_type": "stream",
     "text": [
      "\n",
      "\u001b[32m2022-06-14 06:21:58.702\u001b[0m | \u001b[1mINFO    \u001b[0m | \u001b[36msrc.beam.experiment\u001b[0m:\u001b[36msave_model_results\u001b[0m:\u001b[36m308\u001b[0m - \u001b[1mFinished epoch 2/6:\u001b[0m\n",
      "\u001b[32m2022-06-14 06:21:58.706\u001b[0m | \u001b[1mINFO    \u001b[0m | \u001b[36msrc.beam.experiment\u001b[0m:\u001b[36mlog_data\u001b[0m:\u001b[36m346\u001b[0m - \u001b[1mtrain:\u001b[0m\n",
      "\u001b[32m2022-06-14 06:21:58.707\u001b[0m | \u001b[1mINFO    \u001b[0m | \u001b[36msrc.beam.experiment\u001b[0m:\u001b[36mlog_data\u001b[0m:\u001b[36m350\u001b[0m - \u001b[1mloss 175.837 \t|\u001b[0m\n",
      "\u001b[32m2022-06-14 06:21:58.708\u001b[0m | \u001b[1mINFO    \u001b[0m | \u001b[36msrc.beam.experiment\u001b[0m:\u001b[36mlog_data\u001b[0m:\u001b[36m350\u001b[0m - \u001b[1macc 0.940334 \t|\u001b[0m\n",
      "\u001b[32m2022-06-14 06:21:58.709\u001b[0m | \u001b[1mINFO    \u001b[0m | \u001b[36msrc.beam.experiment\u001b[0m:\u001b[36mlog_data\u001b[0m:\u001b[36m350\u001b[0m - \u001b[1mlr 0.00316228 \t|\u001b[0m\n",
      "\u001b[32m2022-06-14 06:21:58.709\u001b[0m | \u001b[1mINFO    \u001b[0m | \u001b[36msrc.beam.experiment\u001b[0m:\u001b[36mlog_data\u001b[0m:\u001b[36m346\u001b[0m - \u001b[1mtest:\u001b[0m\n",
      "\u001b[32m2022-06-14 06:21:58.710\u001b[0m | \u001b[1mINFO    \u001b[0m | \u001b[36msrc.beam.experiment\u001b[0m:\u001b[36mlog_data\u001b[0m:\u001b[36m350\u001b[0m - \u001b[1mloss 439.417 \t|\u001b[0m\n",
      "\u001b[32m2022-06-14 06:21:58.711\u001b[0m | \u001b[1mINFO    \u001b[0m | \u001b[36msrc.beam.experiment\u001b[0m:\u001b[36mlog_data\u001b[0m:\u001b[36m350\u001b[0m - \u001b[1macc 0.875109 \t|\u001b[0m\n"
     ]
    },
    {
     "data": {
      "application/vnd.jupyter.widget-view+json": {
       "model_id": "139b50cd52294e9aa153f408b270402f",
       "version_major": 2,
       "version_minor": 0
      },
      "text/plain": [
       "train:   0%|          | 0/975 [00:00<?, ?it/s]"
      ]
     },
     "metadata": {},
     "output_type": "display_data"
    },
    {
     "data": {
      "application/vnd.jupyter.widget-view+json": {
       "model_id": "648df2a5e3d0487fb1486ad946468ce0",
       "version_major": 2,
       "version_minor": 0
      },
      "text/plain": [
       "test:   0%|          | 0/9 [00:00<?, ?it/s]"
      ]
     },
     "metadata": {},
     "output_type": "display_data"
    },
    {
     "name": "stdout",
     "output_type": "stream",
     "text": [
      "\n",
      "\u001b[32m2022-06-14 06:23:07.093\u001b[0m | \u001b[1mINFO    \u001b[0m | \u001b[36msrc.beam.experiment\u001b[0m:\u001b[36msave_model_results\u001b[0m:\u001b[36m308\u001b[0m - \u001b[1mFinished epoch 3/6:\u001b[0m\n",
      "\u001b[32m2022-06-14 06:23:07.100\u001b[0m | \u001b[1mINFO    \u001b[0m | \u001b[36msrc.beam.experiment\u001b[0m:\u001b[36mlog_data\u001b[0m:\u001b[36m346\u001b[0m - \u001b[1mtrain:\u001b[0m\n",
      "\u001b[32m2022-06-14 06:23:07.101\u001b[0m | \u001b[1mINFO    \u001b[0m | \u001b[36msrc.beam.experiment\u001b[0m:\u001b[36mlog_data\u001b[0m:\u001b[36m350\u001b[0m - \u001b[1mloss 106.344 \t|\u001b[0m\n",
      "\u001b[32m2022-06-14 06:23:07.103\u001b[0m | \u001b[1mINFO    \u001b[0m | \u001b[36msrc.beam.experiment\u001b[0m:\u001b[36mlog_data\u001b[0m:\u001b[36m350\u001b[0m - \u001b[1macc 0.964535 \t|\u001b[0m\n",
      "\u001b[32m2022-06-14 06:23:07.104\u001b[0m | \u001b[1mINFO    \u001b[0m | \u001b[36msrc.beam.experiment\u001b[0m:\u001b[36mlog_data\u001b[0m:\u001b[36m350\u001b[0m - \u001b[1mlr 0.001 \t|\u001b[0m\n",
      "\u001b[32m2022-06-14 06:23:07.105\u001b[0m | \u001b[1mINFO    \u001b[0m | \u001b[36msrc.beam.experiment\u001b[0m:\u001b[36mlog_data\u001b[0m:\u001b[36m346\u001b[0m - \u001b[1mtest:\u001b[0m\n",
      "\u001b[32m2022-06-14 06:23:07.106\u001b[0m | \u001b[1mINFO    \u001b[0m | \u001b[36msrc.beam.experiment\u001b[0m:\u001b[36mlog_data\u001b[0m:\u001b[36m350\u001b[0m - \u001b[1mloss 439.167 \t|\u001b[0m\n",
      "\u001b[32m2022-06-14 06:23:07.107\u001b[0m | \u001b[1mINFO    \u001b[0m | \u001b[36msrc.beam.experiment\u001b[0m:\u001b[36mlog_data\u001b[0m:\u001b[36m350\u001b[0m - \u001b[1macc 0.875217 \t|\u001b[0m\n"
     ]
    },
    {
     "data": {
      "application/vnd.jupyter.widget-view+json": {
       "model_id": "4e7f3ba54ce84685b9a422a69fe97540",
       "version_major": 2,
       "version_minor": 0
      },
      "text/plain": [
       "train:   0%|          | 0/975 [00:00<?, ?it/s]"
      ]
     },
     "metadata": {},
     "output_type": "display_data"
    },
    {
     "data": {
      "application/vnd.jupyter.widget-view+json": {
       "model_id": "1f60f40744dd4eb7b69683eb99db2eb9",
       "version_major": 2,
       "version_minor": 0
      },
      "text/plain": [
       "test:   0%|          | 0/9 [00:00<?, ?it/s]"
      ]
     },
     "metadata": {},
     "output_type": "display_data"
    },
    {
     "name": "stdout",
     "output_type": "stream",
     "text": [
      "\n",
      "\u001b[32m2022-06-14 06:24:17.013\u001b[0m | \u001b[1mINFO    \u001b[0m | \u001b[36msrc.beam.experiment\u001b[0m:\u001b[36msave_model_results\u001b[0m:\u001b[36m308\u001b[0m - \u001b[1mFinished epoch 4/6:\u001b[0m\n",
      "\u001b[32m2022-06-14 06:24:17.017\u001b[0m | \u001b[1mINFO    \u001b[0m | \u001b[36msrc.beam.experiment\u001b[0m:\u001b[36mlog_data\u001b[0m:\u001b[36m346\u001b[0m - \u001b[1mtrain:\u001b[0m\n",
      "\u001b[32m2022-06-14 06:24:17.018\u001b[0m | \u001b[1mINFO    \u001b[0m | \u001b[36msrc.beam.experiment\u001b[0m:\u001b[36mlog_data\u001b[0m:\u001b[36m350\u001b[0m - \u001b[1mloss 94.3002 \t|\u001b[0m\n",
      "\u001b[32m2022-06-14 06:24:17.020\u001b[0m | \u001b[1mINFO    \u001b[0m | \u001b[36msrc.beam.experiment\u001b[0m:\u001b[36mlog_data\u001b[0m:\u001b[36m350\u001b[0m - \u001b[1macc 0.968589 \t|\u001b[0m\n",
      "\u001b[32m2022-06-14 06:24:17.021\u001b[0m | \u001b[1mINFO    \u001b[0m | \u001b[36msrc.beam.experiment\u001b[0m:\u001b[36mlog_data\u001b[0m:\u001b[36m350\u001b[0m - \u001b[1mlr 0.000316228 \t|\u001b[0m\n",
      "\u001b[32m2022-06-14 06:24:17.021\u001b[0m | \u001b[1mINFO    \u001b[0m | \u001b[36msrc.beam.experiment\u001b[0m:\u001b[36mlog_data\u001b[0m:\u001b[36m346\u001b[0m - \u001b[1mtest:\u001b[0m\n",
      "\u001b[32m2022-06-14 06:24:17.022\u001b[0m | \u001b[1mINFO    \u001b[0m | \u001b[36msrc.beam.experiment\u001b[0m:\u001b[36mlog_data\u001b[0m:\u001b[36m350\u001b[0m - \u001b[1mloss 453.583 \t|\u001b[0m\n",
      "\u001b[32m2022-06-14 06:24:17.023\u001b[0m | \u001b[1mINFO    \u001b[0m | \u001b[36msrc.beam.experiment\u001b[0m:\u001b[36mlog_data\u001b[0m:\u001b[36m350\u001b[0m - \u001b[1macc 0.87934 \t|\u001b[0m\n"
     ]
    },
    {
     "data": {
      "application/vnd.jupyter.widget-view+json": {
       "model_id": "c63a20fc10fd4996866a583b005f27b0",
       "version_major": 2,
       "version_minor": 0
      },
      "text/plain": [
       "train:   0%|          | 0/975 [00:00<?, ?it/s]"
      ]
     },
     "metadata": {},
     "output_type": "display_data"
    },
    {
     "data": {
      "application/vnd.jupyter.widget-view+json": {
       "model_id": "ceed48b3f8b54bf89ed19c1035137437",
       "version_major": 2,
       "version_minor": 0
      },
      "text/plain": [
       "test:   0%|          | 0/9 [00:00<?, ?it/s]"
      ]
     },
     "metadata": {},
     "output_type": "display_data"
    },
    {
     "name": "stdout",
     "output_type": "stream",
     "text": [
      "\n",
      "\u001b[32m2022-06-14 06:25:26.106\u001b[0m | \u001b[1mINFO    \u001b[0m | \u001b[36msrc.beam.experiment\u001b[0m:\u001b[36msave_model_results\u001b[0m:\u001b[36m308\u001b[0m - \u001b[1mFinished epoch 5/6:\u001b[0m\n",
      "\u001b[32m2022-06-14 06:25:26.111\u001b[0m | \u001b[1mINFO    \u001b[0m | \u001b[36msrc.beam.experiment\u001b[0m:\u001b[36mlog_data\u001b[0m:\u001b[36m346\u001b[0m - \u001b[1mtrain:\u001b[0m\n",
      "\u001b[32m2022-06-14 06:25:26.111\u001b[0m | \u001b[1mINFO    \u001b[0m | \u001b[36msrc.beam.experiment\u001b[0m:\u001b[36mlog_data\u001b[0m:\u001b[36m350\u001b[0m - \u001b[1mloss 87.093 \t|\u001b[0m\n",
      "\u001b[32m2022-06-14 06:25:26.112\u001b[0m | \u001b[1mINFO    \u001b[0m | \u001b[36msrc.beam.experiment\u001b[0m:\u001b[36mlog_data\u001b[0m:\u001b[36m350\u001b[0m - \u001b[1macc 0.971361 \t|\u001b[0m\n",
      "\u001b[32m2022-06-14 06:25:26.113\u001b[0m | \u001b[1mINFO    \u001b[0m | \u001b[36msrc.beam.experiment\u001b[0m:\u001b[36mlog_data\u001b[0m:\u001b[36m350\u001b[0m - \u001b[1mlr 0.0001 \t|\u001b[0m\n",
      "\u001b[32m2022-06-14 06:25:26.114\u001b[0m | \u001b[1mINFO    \u001b[0m | \u001b[36msrc.beam.experiment\u001b[0m:\u001b[36mlog_data\u001b[0m:\u001b[36m346\u001b[0m - \u001b[1mtest:\u001b[0m\n",
      "\u001b[32m2022-06-14 06:25:26.114\u001b[0m | \u001b[1mINFO    \u001b[0m | \u001b[36msrc.beam.experiment\u001b[0m:\u001b[36mlog_data\u001b[0m:\u001b[36m350\u001b[0m - \u001b[1mloss 435.583 \t|\u001b[0m\n",
      "\u001b[32m2022-06-14 06:25:26.115\u001b[0m | \u001b[1mINFO    \u001b[0m | \u001b[36msrc.beam.experiment\u001b[0m:\u001b[36mlog_data\u001b[0m:\u001b[36m350\u001b[0m - \u001b[1macc 0.882487 \t|\u001b[0m\n"
     ]
    },
    {
     "data": {
      "application/vnd.jupyter.widget-view+json": {
       "model_id": "022a6eeefa81475086a7f255d6ffeb3e",
       "version_major": 2,
       "version_minor": 0
      },
      "text/plain": [
       "train:   0%|          | 0/975 [00:00<?, ?it/s]"
      ]
     },
     "metadata": {},
     "output_type": "display_data"
    },
    {
     "data": {
      "application/vnd.jupyter.widget-view+json": {
       "model_id": "1f9934e7c18e4b97ad2c7c00d7932a62",
       "version_major": 2,
       "version_minor": 0
      },
      "text/plain": [
       "test:   0%|          | 0/9 [00:00<?, ?it/s]"
      ]
     },
     "metadata": {},
     "output_type": "display_data"
    },
    {
     "name": "stdout",
     "output_type": "stream",
     "text": [
      "\n",
      "\u001b[32m2022-06-14 06:26:35.101\u001b[0m | \u001b[1mINFO    \u001b[0m | \u001b[36msrc.beam.experiment\u001b[0m:\u001b[36msave_model_results\u001b[0m:\u001b[36m308\u001b[0m - \u001b[1mFinished epoch 6/6:\u001b[0m\n",
      "\u001b[32m2022-06-14 06:26:35.106\u001b[0m | \u001b[1mINFO    \u001b[0m | \u001b[36msrc.beam.experiment\u001b[0m:\u001b[36mlog_data\u001b[0m:\u001b[36m346\u001b[0m - \u001b[1mtrain:\u001b[0m\n",
      "\u001b[32m2022-06-14 06:26:35.106\u001b[0m | \u001b[1mINFO    \u001b[0m | \u001b[36msrc.beam.experiment\u001b[0m:\u001b[36mlog_data\u001b[0m:\u001b[36m350\u001b[0m - \u001b[1mloss 80.7526 \t|\u001b[0m\n",
      "\u001b[32m2022-06-14 06:26:35.107\u001b[0m | \u001b[1mINFO    \u001b[0m | \u001b[36msrc.beam.experiment\u001b[0m:\u001b[36mlog_data\u001b[0m:\u001b[36m350\u001b[0m - \u001b[1macc 0.973349 \t|\u001b[0m\n",
      "\u001b[32m2022-06-14 06:26:35.108\u001b[0m | \u001b[1mINFO    \u001b[0m | \u001b[36msrc.beam.experiment\u001b[0m:\u001b[36mlog_data\u001b[0m:\u001b[36m350\u001b[0m - \u001b[1mlr 3.16228e-05 \t|\u001b[0m\n",
      "\u001b[32m2022-06-14 06:26:35.109\u001b[0m | \u001b[1mINFO    \u001b[0m | \u001b[36msrc.beam.experiment\u001b[0m:\u001b[36mlog_data\u001b[0m:\u001b[36m346\u001b[0m - \u001b[1mtest:\u001b[0m\n",
      "\u001b[32m2022-06-14 06:26:35.109\u001b[0m | \u001b[1mINFO    \u001b[0m | \u001b[36msrc.beam.experiment\u001b[0m:\u001b[36mlog_data\u001b[0m:\u001b[36m350\u001b[0m - \u001b[1mloss 446.306 \t|\u001b[0m\n",
      "\u001b[32m2022-06-14 06:26:35.110\u001b[0m | \u001b[1mINFO    \u001b[0m | \u001b[36msrc.beam.experiment\u001b[0m:\u001b[36mlog_data\u001b[0m:\u001b[36m350\u001b[0m - \u001b[1macc 0.879666 \t|\u001b[0m\n"
     ]
    }
   ],
   "source": [
    "alg = experiment(cifar10_algorithm_generator)"
   ]
  },
  {
   "cell_type": "code",
   "execution_count": 5,
   "id": "a1018386-8b16-48a5-954b-74bc0ddad5d4",
   "metadata": {},
   "outputs": [
    {
     "data": {
      "application/vnd.jupyter.widget-view+json": {
       "model_id": "23ca1a05c8ed45fc8aa388747967efd9",
       "version_major": 2,
       "version_minor": 0
      },
      "text/plain": [
       "test:   0%|          | 0/10 [00:00<?, ?it/s]"
      ]
     },
     "metadata": {},
     "output_type": "display_data"
    },
    {
     "data": {
      "text/plain": [
       "0.8862802922725678"
      ]
     },
     "execution_count": 5,
     "metadata": {},
     "output_type": "execute_result"
    }
   ],
   "source": [
    "np.mean(alg.evaluate('test')['scalar']['acc'])"
   ]
  },
  {
   "cell_type": "code",
   "execution_count": 6,
   "id": "8e45225b-1d99-4df8-b3c9-3f5574d59da4",
   "metadata": {},
   "outputs": [],
   "source": [
    "# alg.optimizers['net'].scaler.get_scale()"
   ]
  },
  {
   "cell_type": "markdown",
   "id": "3532ab07-ec57-4c84-a7cc-e53194c06906",
   "metadata": {},
   "source": [
    "## Hyperparameter search with native optuna"
   ]
  },
  {
   "cell_type": "code",
   "execution_count": 3,
   "id": "3a55d5ea-d43e-4c8a-82df-ba7393f5e5cd",
   "metadata": {},
   "outputs": [
    {
     "name": "stdout",
     "output_type": "stream",
     "text": [
      "\u001b[32m2022-06-14 12:22:13.838\u001b[0m | \u001b[1mINFO    \u001b[0m | \u001b[36msrc.beam.experiment\u001b[0m:\u001b[36m__init__\u001b[0m:\u001b[36m85\u001b[0m - \u001b[1mHyperparameter Optimization\u001b[0m\n",
      "\u001b[32m2022-06-14 12:22:13.839\u001b[0m | \u001b[1mINFO    \u001b[0m | \u001b[36msrc.beam.experiment\u001b[0m:\u001b[36m__init__\u001b[0m:\u001b[36m86\u001b[0m - \u001b[1mbeam project: cifar10\u001b[0m\n",
      "\u001b[32m2022-06-14 12:22:13.840\u001b[0m | \u001b[1mINFO    \u001b[0m | \u001b[36msrc.beam.experiment\u001b[0m:\u001b[36m__init__\u001b[0m:\u001b[36m87\u001b[0m - \u001b[1mExperiment Hyperparameters\u001b[0m\n",
      "\u001b[32m2022-06-14 12:22:13.841\u001b[0m | \u001b[1mINFO    \u001b[0m | \u001b[36msrc.beam.experiment\u001b[0m:\u001b[36m__init__\u001b[0m:\u001b[36m90\u001b[0m - \u001b[1mproject_name: cifar10\u001b[0m\n",
      "\u001b[32m2022-06-14 12:22:13.842\u001b[0m | \u001b[1mINFO    \u001b[0m | \u001b[36msrc.beam.experiment\u001b[0m:\u001b[36m__init__\u001b[0m:\u001b[36m90\u001b[0m - \u001b[1midentifier: debug_hp_optimization_20220614_122213\u001b[0m\n",
      "\u001b[32m2022-06-14 12:22:13.843\u001b[0m | \u001b[1mINFO    \u001b[0m | \u001b[36msrc.beam.experiment\u001b[0m:\u001b[36m__init__\u001b[0m:\u001b[36m90\u001b[0m - \u001b[1malgorithm: CIFAR10Algorithm\u001b[0m\n",
      "\u001b[32m2022-06-14 12:22:13.844\u001b[0m | \u001b[1mINFO    \u001b[0m | \u001b[36msrc.beam.experiment\u001b[0m:\u001b[36m__init__\u001b[0m:\u001b[36m90\u001b[0m - \u001b[1mmp_port: None\u001b[0m\n",
      "\u001b[32m2022-06-14 12:22:13.845\u001b[0m | \u001b[1mINFO    \u001b[0m | \u001b[36msrc.beam.experiment\u001b[0m:\u001b[36m__init__\u001b[0m:\u001b[36m90\u001b[0m - \u001b[1mroot_dir: /localdata/elads/data/cifar10\u001b[0m\n",
      "\u001b[32m2022-06-14 12:22:13.846\u001b[0m | \u001b[1mINFO    \u001b[0m | \u001b[36msrc.beam.experiment\u001b[0m:\u001b[36m__init__\u001b[0m:\u001b[36m90\u001b[0m - \u001b[1mreload: False\u001b[0m\n",
      "\u001b[32m2022-06-14 12:22:13.847\u001b[0m | \u001b[1mINFO    \u001b[0m | \u001b[36msrc.beam.experiment\u001b[0m:\u001b[36m__init__\u001b[0m:\u001b[36m90\u001b[0m - \u001b[1mresume: -1\u001b[0m\n",
      "\u001b[32m2022-06-14 12:22:13.848\u001b[0m | \u001b[1mINFO    \u001b[0m | \u001b[36msrc.beam.experiment\u001b[0m:\u001b[36m__init__\u001b[0m:\u001b[36m90\u001b[0m - \u001b[1moverride: False\u001b[0m\n",
      "\u001b[32m2022-06-14 12:22:13.848\u001b[0m | \u001b[1mINFO    \u001b[0m | \u001b[36msrc.beam.experiment\u001b[0m:\u001b[36m__init__\u001b[0m:\u001b[36m90\u001b[0m - \u001b[1mcpu_workers: 0\u001b[0m\n",
      "\u001b[32m2022-06-14 12:22:13.849\u001b[0m | \u001b[1mINFO    \u001b[0m | \u001b[36msrc.beam.experiment\u001b[0m:\u001b[36m__init__\u001b[0m:\u001b[36m90\u001b[0m - \u001b[1mdevice: 1\u001b[0m\n",
      "\u001b[32m2022-06-14 12:22:13.850\u001b[0m | \u001b[1mINFO    \u001b[0m | \u001b[36msrc.beam.experiment\u001b[0m:\u001b[36m__init__\u001b[0m:\u001b[36m90\u001b[0m - \u001b[1mparallel: 1\u001b[0m\n",
      "\u001b[32m2022-06-14 12:22:13.851\u001b[0m | \u001b[1mINFO    \u001b[0m | \u001b[36msrc.beam.experiment\u001b[0m:\u001b[36m__init__\u001b[0m:\u001b[36m90\u001b[0m - \u001b[1mtensorboard: True\u001b[0m\n",
      "\u001b[32m2022-06-14 12:22:13.852\u001b[0m | \u001b[1mINFO    \u001b[0m | \u001b[36msrc.beam.experiment\u001b[0m:\u001b[36m__init__\u001b[0m:\u001b[36m90\u001b[0m - \u001b[1mlognet: True\u001b[0m\n",
      "\u001b[32m2022-06-14 12:22:13.853\u001b[0m | \u001b[1mINFO    \u001b[0m | \u001b[36msrc.beam.experiment\u001b[0m:\u001b[36m__init__\u001b[0m:\u001b[36m90\u001b[0m - \u001b[1mdeterministic: False\u001b[0m\n",
      "\u001b[32m2022-06-14 12:22:13.854\u001b[0m | \u001b[1mINFO    \u001b[0m | \u001b[36msrc.beam.experiment\u001b[0m:\u001b[36m__init__\u001b[0m:\u001b[36m90\u001b[0m - \u001b[1mscale_epoch_by_batch_size: True\u001b[0m\n",
      "\u001b[32m2022-06-14 12:22:13.854\u001b[0m | \u001b[1mINFO    \u001b[0m | \u001b[36msrc.beam.experiment\u001b[0m:\u001b[36m__init__\u001b[0m:\u001b[36m90\u001b[0m - \u001b[1mcudnn_benchmark: True\u001b[0m\n",
      "\u001b[32m2022-06-14 12:22:13.855\u001b[0m | \u001b[1mINFO    \u001b[0m | \u001b[36msrc.beam.experiment\u001b[0m:\u001b[36m__init__\u001b[0m:\u001b[36m90\u001b[0m - \u001b[1mhalf: True\u001b[0m\n",
      "\u001b[32m2022-06-14 12:22:13.856\u001b[0m | \u001b[1mINFO    \u001b[0m | \u001b[36msrc.beam.experiment\u001b[0m:\u001b[36m__init__\u001b[0m:\u001b[36m90\u001b[0m - \u001b[1mamp: False\u001b[0m\n",
      "\u001b[32m2022-06-14 12:22:13.857\u001b[0m | \u001b[1mINFO    \u001b[0m | \u001b[36msrc.beam.experiment\u001b[0m:\u001b[36m__init__\u001b[0m:\u001b[36m90\u001b[0m - \u001b[1minit: ortho\u001b[0m\n",
      "\u001b[32m2022-06-14 12:22:13.858\u001b[0m | \u001b[1mINFO    \u001b[0m | \u001b[36msrc.beam.experiment\u001b[0m:\u001b[36m__init__\u001b[0m:\u001b[36m90\u001b[0m - \u001b[1mseed: 0\u001b[0m\n",
      "\u001b[32m2022-06-14 12:22:13.859\u001b[0m | \u001b[1mINFO    \u001b[0m | \u001b[36msrc.beam.experiment\u001b[0m:\u001b[36m__init__\u001b[0m:\u001b[36m90\u001b[0m - \u001b[1mtotal_steps: 1000000\u001b[0m\n",
      "\u001b[32m2022-06-14 12:22:13.860\u001b[0m | \u001b[1mINFO    \u001b[0m | \u001b[36msrc.beam.experiment\u001b[0m:\u001b[36m__init__\u001b[0m:\u001b[36m90\u001b[0m - \u001b[1mepoch_length: None\u001b[0m\n",
      "\u001b[32m2022-06-14 12:22:13.860\u001b[0m | \u001b[1mINFO    \u001b[0m | \u001b[36msrc.beam.experiment\u001b[0m:\u001b[36m__init__\u001b[0m:\u001b[36m90\u001b[0m - \u001b[1mepoch_length_train: 200000\u001b[0m\n",
      "\u001b[32m2022-06-14 12:22:13.861\u001b[0m | \u001b[1mINFO    \u001b[0m | \u001b[36msrc.beam.experiment\u001b[0m:\u001b[36m__init__\u001b[0m:\u001b[36m90\u001b[0m - \u001b[1mepoch_length_eval: 10000\u001b[0m\n",
      "\u001b[32m2022-06-14 12:22:13.862\u001b[0m | \u001b[1mINFO    \u001b[0m | \u001b[36msrc.beam.experiment\u001b[0m:\u001b[36m__init__\u001b[0m:\u001b[36m90\u001b[0m - \u001b[1mn_epochs: 4\u001b[0m\n",
      "\u001b[32m2022-06-14 12:22:13.863\u001b[0m | \u001b[1mINFO    \u001b[0m | \u001b[36msrc.beam.experiment\u001b[0m:\u001b[36m__init__\u001b[0m:\u001b[36m90\u001b[0m - \u001b[1mbatch_size: 1024\u001b[0m\n",
      "\u001b[32m2022-06-14 12:22:13.864\u001b[0m | \u001b[1mINFO    \u001b[0m | \u001b[36msrc.beam.experiment\u001b[0m:\u001b[36m__init__\u001b[0m:\u001b[36m90\u001b[0m - \u001b[1mbatch_size_train: None\u001b[0m\n",
      "\u001b[32m2022-06-14 12:22:13.864\u001b[0m | \u001b[1mINFO    \u001b[0m | \u001b[36msrc.beam.experiment\u001b[0m:\u001b[36m__init__\u001b[0m:\u001b[36m90\u001b[0m - \u001b[1mbatch_size_eval: None\u001b[0m\n",
      "\u001b[32m2022-06-14 12:22:13.865\u001b[0m | \u001b[1mINFO    \u001b[0m | \u001b[36msrc.beam.experiment\u001b[0m:\u001b[36m__init__\u001b[0m:\u001b[36m90\u001b[0m - \u001b[1mlr_dense: 0.01\u001b[0m\n",
      "\u001b[32m2022-06-14 12:22:13.866\u001b[0m | \u001b[1mINFO    \u001b[0m | \u001b[36msrc.beam.experiment\u001b[0m:\u001b[36m__init__\u001b[0m:\u001b[36m90\u001b[0m - \u001b[1mlr_sparse: 0.01\u001b[0m\n",
      "\u001b[32m2022-06-14 12:22:13.867\u001b[0m | \u001b[1mINFO    \u001b[0m | \u001b[36msrc.beam.experiment\u001b[0m:\u001b[36m__init__\u001b[0m:\u001b[36m90\u001b[0m - \u001b[1mweight_decay: 1e-05\u001b[0m\n",
      "\u001b[32m2022-06-14 12:22:13.869\u001b[0m | \u001b[1mINFO    \u001b[0m | \u001b[36msrc.beam.experiment\u001b[0m:\u001b[36m__init__\u001b[0m:\u001b[36m90\u001b[0m - \u001b[1meps: 0.0001\u001b[0m\n",
      "\u001b[32m2022-06-14 12:22:13.871\u001b[0m | \u001b[1mINFO    \u001b[0m | \u001b[36msrc.beam.experiment\u001b[0m:\u001b[36m__init__\u001b[0m:\u001b[36m90\u001b[0m - \u001b[1mbeta1: 0.9\u001b[0m\n",
      "\u001b[32m2022-06-14 12:22:13.872\u001b[0m | \u001b[1mINFO    \u001b[0m | \u001b[36msrc.beam.experiment\u001b[0m:\u001b[36m__init__\u001b[0m:\u001b[36m90\u001b[0m - \u001b[1mbeta2: 0.9\u001b[0m\n",
      "\u001b[32m2022-06-14 12:22:13.873\u001b[0m | \u001b[1mINFO    \u001b[0m | \u001b[36msrc.beam.experiment\u001b[0m:\u001b[36m__init__\u001b[0m:\u001b[36m90\u001b[0m - \u001b[1mclip: 0.0\u001b[0m\n",
      "\u001b[32m2022-06-14 12:22:13.874\u001b[0m | \u001b[1mINFO    \u001b[0m | \u001b[36msrc.beam.experiment\u001b[0m:\u001b[36m__init__\u001b[0m:\u001b[36m90\u001b[0m - \u001b[1maccumulate: 1\u001b[0m\n",
      "\u001b[32m2022-06-14 12:22:13.875\u001b[0m | \u001b[1mINFO    \u001b[0m | \u001b[36msrc.beam.experiment\u001b[0m:\u001b[36m__init__\u001b[0m:\u001b[36m90\u001b[0m - \u001b[1mprint_results: False\u001b[0m\n",
      "\u001b[32m2022-06-14 12:22:13.876\u001b[0m | \u001b[1mINFO    \u001b[0m | \u001b[36msrc.beam.experiment\u001b[0m:\u001b[36m__init__\u001b[0m:\u001b[36m90\u001b[0m - \u001b[1mvisualize_weights: False\u001b[0m\n",
      "\u001b[32m2022-06-14 12:22:13.877\u001b[0m | \u001b[1mINFO    \u001b[0m | \u001b[36msrc.beam.experiment\u001b[0m:\u001b[36m__init__\u001b[0m:\u001b[36m90\u001b[0m - \u001b[1menable_tqdm: False\u001b[0m\n",
      "\u001b[32m2022-06-14 12:22:13.878\u001b[0m | \u001b[1mINFO    \u001b[0m | \u001b[36msrc.beam.experiment\u001b[0m:\u001b[36m__init__\u001b[0m:\u001b[36m90\u001b[0m - \u001b[1mvisualize_results: yes\u001b[0m\n",
      "\u001b[32m2022-06-14 12:22:13.879\u001b[0m | \u001b[1mINFO    \u001b[0m | \u001b[36msrc.beam.experiment\u001b[0m:\u001b[36m__init__\u001b[0m:\u001b[36m90\u001b[0m - \u001b[1mstore_results: logscale\u001b[0m\n",
      "\u001b[32m2022-06-14 12:22:13.881\u001b[0m | \u001b[1mINFO    \u001b[0m | \u001b[36msrc.beam.experiment\u001b[0m:\u001b[36m__init__\u001b[0m:\u001b[36m90\u001b[0m - \u001b[1mstore_networks: logscale\u001b[0m\n",
      "\u001b[32m2022-06-14 12:22:13.882\u001b[0m | \u001b[1mINFO    \u001b[0m | \u001b[36msrc.beam.experiment\u001b[0m:\u001b[36m__init__\u001b[0m:\u001b[36m90\u001b[0m - \u001b[1mpath_to_data: /localdata/elads/data/datasets/cifar10\u001b[0m\n"
     ]
    }
   ],
   "source": [
    "args = beam_arguments(f\"--project-name=cifar10 --root-dir={root_dir} --algorithm=CIFAR10Algorithm --half --lr-d=0.01 --batch-size=1024\",\n",
    "                      \"--n-epochs=4 --epoch-length-train=200000 --epoch-length-eval=10000 --clip=0 --parallel=1 --accumulate=1 --cudnn-benchmark\",\n",
    "                      \"--weight-decay=1e-5 --device=1 --beta1=0.9 --beta2=0.9\", path_to_data=path_to_data)\n",
    "\n",
    "study = Study(cifar10_algorithm_generator, args)"
   ]
  },
  {
   "cell_type": "code",
   "execution_count": 58,
   "id": "a0e58cf5-4ced-48eb-93cd-ca2f427e0dc6",
   "metadata": {},
   "outputs": [],
   "source": [
    "def suggest(trial):\n",
    "    lr = trial.suggest_loguniform(\"lr\", 1e-3, 2e-2)\n",
    "    print('My suggestion')\n",
    "    print(lr)\n",
    "    return {'lr_dense': lr}\n",
    "    "
   ]
  },
  {
   "cell_type": "code",
   "execution_count": 59,
   "id": "f3a4ff8d-fb63-41d7-ba63-69cde55080ce",
   "metadata": {
    "collapsed": true,
    "jupyter": {
     "outputs_hidden": true
    },
    "tags": []
   },
   "outputs": [
    {
     "name": "stderr",
     "output_type": "stream",
     "text": [
      "\u001b[32m[I 2022-06-14 09:37:27,339]\u001b[0m A new study created in memory with name: cifar10/CIFAR10Algorithm/debug_hp_optimization_20220614_093207_hp_optimization_20220614_093407_hp_optimization_20220614_093726\u001b[0m\n"
     ]
    },
    {
     "name": "stdout",
     "output_type": "stream",
     "text": [
      "My suggestion\n",
      "0.004812922221223897\n",
      "\u001b[32m2022-06-14 09:37:27.342\u001b[0m | \u001b[1mINFO    \u001b[0m | \u001b[36msrc.beam.experiment\u001b[0m:\u001b[36m__init__\u001b[0m:\u001b[36m169\u001b[0m - \u001b[1mbeam project: cifar10\u001b[0m\n",
      "\u001b[32m2022-06-14 09:37:27.343\u001b[0m | \u001b[1mINFO    \u001b[0m | \u001b[36msrc.beam.experiment\u001b[0m:\u001b[36m__init__\u001b[0m:\u001b[36m170\u001b[0m - \u001b[1mExperiment Hyperparameters\u001b[0m\n",
      "\u001b[32m2022-06-14 09:37:27.345\u001b[0m | \u001b[1mINFO    \u001b[0m | \u001b[36msrc.beam.experiment\u001b[0m:\u001b[36m__init__\u001b[0m:\u001b[36m174\u001b[0m - \u001b[1mproject_name: cifar10\u001b[0m\n",
      "\u001b[32m2022-06-14 09:37:27.345\u001b[0m | \u001b[1mINFO    \u001b[0m | \u001b[36msrc.beam.experiment\u001b[0m:\u001b[36m__init__\u001b[0m:\u001b[36m174\u001b[0m - \u001b[1midentifier: debug_hp_optimization_20220614_093207_hp_optimization_20220614_093407_hp_optimization_20220614_093726\u001b[0m\n",
      "\u001b[32m2022-06-14 09:37:27.346\u001b[0m | \u001b[1mINFO    \u001b[0m | \u001b[36msrc.beam.experiment\u001b[0m:\u001b[36m__init__\u001b[0m:\u001b[36m174\u001b[0m - \u001b[1malgorithm: CIFAR10Algorithm\u001b[0m\n",
      "\u001b[32m2022-06-14 09:37:27.347\u001b[0m | \u001b[1mINFO    \u001b[0m | \u001b[36msrc.beam.experiment\u001b[0m:\u001b[36m__init__\u001b[0m:\u001b[36m174\u001b[0m - \u001b[1mmp_port: None\u001b[0m\n",
      "\u001b[32m2022-06-14 09:37:27.348\u001b[0m | \u001b[1mINFO    \u001b[0m | \u001b[36msrc.beam.experiment\u001b[0m:\u001b[36m__init__\u001b[0m:\u001b[36m174\u001b[0m - \u001b[1mroot_dir: /localdata/elads/data/cifar10\u001b[0m\n",
      "\u001b[32m2022-06-14 09:37:27.348\u001b[0m | \u001b[1mINFO    \u001b[0m | \u001b[36msrc.beam.experiment\u001b[0m:\u001b[36m__init__\u001b[0m:\u001b[36m174\u001b[0m - \u001b[1mreload: False\u001b[0m\n",
      "\u001b[32m2022-06-14 09:37:27.349\u001b[0m | \u001b[1mINFO    \u001b[0m | \u001b[36msrc.beam.experiment\u001b[0m:\u001b[36m__init__\u001b[0m:\u001b[36m174\u001b[0m - \u001b[1mresume: -1\u001b[0m\n",
      "\u001b[32m2022-06-14 09:37:27.350\u001b[0m | \u001b[1mINFO    \u001b[0m | \u001b[36msrc.beam.experiment\u001b[0m:\u001b[36m__init__\u001b[0m:\u001b[36m174\u001b[0m - \u001b[1moverride: False\u001b[0m\n",
      "\u001b[32m2022-06-14 09:37:27.351\u001b[0m | \u001b[1mINFO    \u001b[0m | \u001b[36msrc.beam.experiment\u001b[0m:\u001b[36m__init__\u001b[0m:\u001b[36m174\u001b[0m - \u001b[1mcpu_workers: 0\u001b[0m\n",
      "\u001b[32m2022-06-14 09:37:27.351\u001b[0m | \u001b[1mINFO    \u001b[0m | \u001b[36msrc.beam.experiment\u001b[0m:\u001b[36m__init__\u001b[0m:\u001b[36m174\u001b[0m - \u001b[1mdevice: 1\u001b[0m\n",
      "\u001b[32m2022-06-14 09:37:27.352\u001b[0m | \u001b[1mINFO    \u001b[0m | \u001b[36msrc.beam.experiment\u001b[0m:\u001b[36m__init__\u001b[0m:\u001b[36m174\u001b[0m - \u001b[1mparallel: 1\u001b[0m\n",
      "\u001b[32m2022-06-14 09:37:27.353\u001b[0m | \u001b[1mINFO    \u001b[0m | \u001b[36msrc.beam.experiment\u001b[0m:\u001b[36m__init__\u001b[0m:\u001b[36m174\u001b[0m - \u001b[1mtensorboard: True\u001b[0m\n",
      "\u001b[32m2022-06-14 09:37:27.353\u001b[0m | \u001b[1mINFO    \u001b[0m | \u001b[36msrc.beam.experiment\u001b[0m:\u001b[36m__init__\u001b[0m:\u001b[36m174\u001b[0m - \u001b[1mlognet: True\u001b[0m\n",
      "\u001b[32m2022-06-14 09:37:27.354\u001b[0m | \u001b[1mINFO    \u001b[0m | \u001b[36msrc.beam.experiment\u001b[0m:\u001b[36m__init__\u001b[0m:\u001b[36m174\u001b[0m - \u001b[1mdeterministic: False\u001b[0m\n",
      "\u001b[32m2022-06-14 09:37:27.355\u001b[0m | \u001b[1mINFO    \u001b[0m | \u001b[36msrc.beam.experiment\u001b[0m:\u001b[36m__init__\u001b[0m:\u001b[36m174\u001b[0m - \u001b[1mscale_epoch_by_batch_size: True\u001b[0m\n",
      "\u001b[32m2022-06-14 09:37:27.355\u001b[0m | \u001b[1mINFO    \u001b[0m | \u001b[36msrc.beam.experiment\u001b[0m:\u001b[36m__init__\u001b[0m:\u001b[36m174\u001b[0m - \u001b[1mcudnn_benchmark: True\u001b[0m\n",
      "\u001b[32m2022-06-14 09:37:27.356\u001b[0m | \u001b[1mINFO    \u001b[0m | \u001b[36msrc.beam.experiment\u001b[0m:\u001b[36m__init__\u001b[0m:\u001b[36m174\u001b[0m - \u001b[1mhalf: True\u001b[0m\n",
      "\u001b[32m2022-06-14 09:37:27.356\u001b[0m | \u001b[1mINFO    \u001b[0m | \u001b[36msrc.beam.experiment\u001b[0m:\u001b[36m__init__\u001b[0m:\u001b[36m174\u001b[0m - \u001b[1mamp: False\u001b[0m\n",
      "\u001b[32m2022-06-14 09:37:27.357\u001b[0m | \u001b[1mINFO    \u001b[0m | \u001b[36msrc.beam.experiment\u001b[0m:\u001b[36m__init__\u001b[0m:\u001b[36m174\u001b[0m - \u001b[1minit: ortho\u001b[0m\n",
      "\u001b[32m2022-06-14 09:37:27.358\u001b[0m | \u001b[1mINFO    \u001b[0m | \u001b[36msrc.beam.experiment\u001b[0m:\u001b[36m__init__\u001b[0m:\u001b[36m174\u001b[0m - \u001b[1mseed: 0\u001b[0m\n",
      "\u001b[32m2022-06-14 09:37:27.358\u001b[0m | \u001b[1mINFO    \u001b[0m | \u001b[36msrc.beam.experiment\u001b[0m:\u001b[36m__init__\u001b[0m:\u001b[36m174\u001b[0m - \u001b[1mtotal_steps: 1000000\u001b[0m\n",
      "\u001b[32m2022-06-14 09:37:27.359\u001b[0m | \u001b[1mINFO    \u001b[0m | \u001b[36msrc.beam.experiment\u001b[0m:\u001b[36m__init__\u001b[0m:\u001b[36m174\u001b[0m - \u001b[1mepoch_length: None\u001b[0m\n",
      "\u001b[32m2022-06-14 09:37:27.360\u001b[0m | \u001b[1mINFO    \u001b[0m | \u001b[36msrc.beam.experiment\u001b[0m:\u001b[36m__init__\u001b[0m:\u001b[36m174\u001b[0m - \u001b[1mepoch_length_train: 200000\u001b[0m\n",
      "\u001b[32m2022-06-14 09:37:27.360\u001b[0m | \u001b[1mINFO    \u001b[0m | \u001b[36msrc.beam.experiment\u001b[0m:\u001b[36m__init__\u001b[0m:\u001b[36m174\u001b[0m - \u001b[1mepoch_length_eval: 10000\u001b[0m\n",
      "\u001b[32m2022-06-14 09:37:27.361\u001b[0m | \u001b[1mINFO    \u001b[0m | \u001b[36msrc.beam.experiment\u001b[0m:\u001b[36m__init__\u001b[0m:\u001b[36m174\u001b[0m - \u001b[1mn_epochs: 4\u001b[0m\n",
      "\u001b[32m2022-06-14 09:37:27.362\u001b[0m | \u001b[1mINFO    \u001b[0m | \u001b[36msrc.beam.experiment\u001b[0m:\u001b[36m__init__\u001b[0m:\u001b[36m174\u001b[0m - \u001b[1mbatch_size: 1024\u001b[0m\n",
      "\u001b[32m2022-06-14 09:37:27.362\u001b[0m | \u001b[1mINFO    \u001b[0m | \u001b[36msrc.beam.experiment\u001b[0m:\u001b[36m__init__\u001b[0m:\u001b[36m174\u001b[0m - \u001b[1mbatch_size_train: None\u001b[0m\n",
      "\u001b[32m2022-06-14 09:37:27.363\u001b[0m | \u001b[1mINFO    \u001b[0m | \u001b[36msrc.beam.experiment\u001b[0m:\u001b[36m__init__\u001b[0m:\u001b[36m174\u001b[0m - \u001b[1mbatch_size_eval: None\u001b[0m\n",
      "\u001b[32m2022-06-14 09:37:27.364\u001b[0m | \u001b[1mINFO    \u001b[0m | \u001b[36msrc.beam.experiment\u001b[0m:\u001b[36m__init__\u001b[0m:\u001b[36m174\u001b[0m - \u001b[1mlr_dense: 0.004812922221223897\u001b[0m\n",
      "\u001b[32m2022-06-14 09:37:27.364\u001b[0m | \u001b[1mINFO    \u001b[0m | \u001b[36msrc.beam.experiment\u001b[0m:\u001b[36m__init__\u001b[0m:\u001b[36m174\u001b[0m - \u001b[1mlr_sparse: 0.01\u001b[0m\n",
      "\u001b[32m2022-06-14 09:37:27.365\u001b[0m | \u001b[1mINFO    \u001b[0m | \u001b[36msrc.beam.experiment\u001b[0m:\u001b[36m__init__\u001b[0m:\u001b[36m174\u001b[0m - \u001b[1mweight_decay: 1e-05\u001b[0m\n",
      "\u001b[32m2022-06-14 09:37:27.365\u001b[0m | \u001b[1mINFO    \u001b[0m | \u001b[36msrc.beam.experiment\u001b[0m:\u001b[36m__init__\u001b[0m:\u001b[36m174\u001b[0m - \u001b[1meps: 0.0001\u001b[0m\n",
      "\u001b[32m2022-06-14 09:37:27.366\u001b[0m | \u001b[1mINFO    \u001b[0m | \u001b[36msrc.beam.experiment\u001b[0m:\u001b[36m__init__\u001b[0m:\u001b[36m174\u001b[0m - \u001b[1mbeta1: 0.9\u001b[0m\n",
      "\u001b[32m2022-06-14 09:37:27.367\u001b[0m | \u001b[1mINFO    \u001b[0m | \u001b[36msrc.beam.experiment\u001b[0m:\u001b[36m__init__\u001b[0m:\u001b[36m174\u001b[0m - \u001b[1mbeta2: 0.9\u001b[0m\n",
      "\u001b[32m2022-06-14 09:37:27.367\u001b[0m | \u001b[1mINFO    \u001b[0m | \u001b[36msrc.beam.experiment\u001b[0m:\u001b[36m__init__\u001b[0m:\u001b[36m174\u001b[0m - \u001b[1mclip: 0.0\u001b[0m\n",
      "\u001b[32m2022-06-14 09:37:27.368\u001b[0m | \u001b[1mINFO    \u001b[0m | \u001b[36msrc.beam.experiment\u001b[0m:\u001b[36m__init__\u001b[0m:\u001b[36m174\u001b[0m - \u001b[1maccumulate: 1\u001b[0m\n",
      "\u001b[32m2022-06-14 09:37:27.369\u001b[0m | \u001b[1mINFO    \u001b[0m | \u001b[36msrc.beam.experiment\u001b[0m:\u001b[36m__init__\u001b[0m:\u001b[36m174\u001b[0m - \u001b[1mprint_results: False\u001b[0m\n",
      "\u001b[32m2022-06-14 09:37:27.369\u001b[0m | \u001b[1mINFO    \u001b[0m | \u001b[36msrc.beam.experiment\u001b[0m:\u001b[36m__init__\u001b[0m:\u001b[36m174\u001b[0m - \u001b[1mvisualize_weights: False\u001b[0m\n",
      "\u001b[32m2022-06-14 09:37:27.370\u001b[0m | \u001b[1mINFO    \u001b[0m | \u001b[36msrc.beam.experiment\u001b[0m:\u001b[36m__init__\u001b[0m:\u001b[36m174\u001b[0m - \u001b[1mvisualize_results: yes\u001b[0m\n",
      "\u001b[32m2022-06-14 09:37:27.371\u001b[0m | \u001b[1mINFO    \u001b[0m | \u001b[36msrc.beam.experiment\u001b[0m:\u001b[36m__init__\u001b[0m:\u001b[36m174\u001b[0m - \u001b[1mstore_results: logscale\u001b[0m\n",
      "\u001b[32m2022-06-14 09:37:27.371\u001b[0m | \u001b[1mINFO    \u001b[0m | \u001b[36msrc.beam.experiment\u001b[0m:\u001b[36m__init__\u001b[0m:\u001b[36m174\u001b[0m - \u001b[1mstore_networks: logscale\u001b[0m\n",
      "\u001b[32m2022-06-14 09:37:27.372\u001b[0m | \u001b[1mINFO    \u001b[0m | \u001b[36msrc.beam.experiment\u001b[0m:\u001b[36m__init__\u001b[0m:\u001b[36m174\u001b[0m - \u001b[1mpath_to_data: /localdata/elads/data/datasets/cifar10\u001b[0m\n",
      "\u001b[32m2022-06-14 09:37:27.374\u001b[0m | \u001b[1mINFO    \u001b[0m | \u001b[36msrc.beam.experiment\u001b[0m:\u001b[36m__init__\u001b[0m:\u001b[36m244\u001b[0m - \u001b[1mCreating new experiment\u001b[0m\n",
      "\u001b[32m2022-06-14 09:37:27.374\u001b[0m | \u001b[1mINFO    \u001b[0m | \u001b[36msrc.beam.experiment\u001b[0m:\u001b[36m__init__\u001b[0m:\u001b[36m259\u001b[0m - \u001b[1mExperiment directory is: /localdata/elads/data/cifar10/cifar10/CIFAR10Algorithm/debug_hp_optimization_20220614_093207_hp_optimization_20220614_093407_hp_optimization_20220614_093726/0000_20220614_093727\u001b[0m\n",
      "\u001b[32m2022-06-14 09:37:27.660\u001b[0m | \u001b[1mINFO    \u001b[0m | \u001b[36msrc.beam.experiment\u001b[0m:\u001b[36mrun\u001b[0m:\u001b[36m536\u001b[0m - \u001b[1mSingle worker mode\u001b[0m\n",
      "\u001b[32m2022-06-14 09:37:27.661\u001b[0m | \u001b[1mINFO    \u001b[0m | \u001b[36msrc.beam.experiment\u001b[0m:\u001b[36mrun_worker\u001b[0m:\u001b[36m47\u001b[0m - \u001b[1mWorker: 1/1 is running...\u001b[0m\n"
     ]
    },
    {
     "data": {
      "application/vnd.jupyter.widget-view+json": {
       "model_id": "fd7f48934f384f7cb07e34fd543a5e80",
       "version_major": 2,
       "version_minor": 0
      },
      "text/plain": [
       "train:   0%|          | 0/194 [00:00<?, ?it/s]"
      ]
     },
     "metadata": {},
     "output_type": "display_data"
    },
    {
     "data": {
      "application/vnd.jupyter.widget-view+json": {
       "model_id": "5a90a14f61da4708843447e890e6a5cb",
       "version_major": 2,
       "version_minor": 0
      },
      "text/plain": [
       "test:   0%|          | 0/9 [00:00<?, ?it/s]"
      ]
     },
     "metadata": {},
     "output_type": "display_data"
    },
    {
     "data": {
      "application/vnd.jupyter.widget-view+json": {
       "model_id": "56c8fdceabe6499792135d1911dc19de",
       "version_major": 2,
       "version_minor": 0
      },
      "text/plain": [
       "train:   0%|          | 0/194 [00:00<?, ?it/s]"
      ]
     },
     "metadata": {},
     "output_type": "display_data"
    },
    {
     "data": {
      "application/vnd.jupyter.widget-view+json": {
       "model_id": "7df81bd3f3274efab1d10bdc33cf54cc",
       "version_major": 2,
       "version_minor": 0
      },
      "text/plain": [
       "test:   0%|          | 0/9 [00:00<?, ?it/s]"
      ]
     },
     "metadata": {},
     "output_type": "display_data"
    },
    {
     "data": {
      "application/vnd.jupyter.widget-view+json": {
       "model_id": "4b5a980b5e2943daaf03c2ede168d9fe",
       "version_major": 2,
       "version_minor": 0
      },
      "text/plain": [
       "train:   0%|          | 0/194 [00:00<?, ?it/s]"
      ]
     },
     "metadata": {},
     "output_type": "display_data"
    },
    {
     "data": {
      "application/vnd.jupyter.widget-view+json": {
       "model_id": "4efad799b7034bac95bc271d378908c6",
       "version_major": 2,
       "version_minor": 0
      },
      "text/plain": [
       "test:   0%|          | 0/9 [00:00<?, ?it/s]"
      ]
     },
     "metadata": {},
     "output_type": "display_data"
    },
    {
     "data": {
      "application/vnd.jupyter.widget-view+json": {
       "model_id": "fdcd223198334d44a49a2d6882de2259",
       "version_major": 2,
       "version_minor": 0
      },
      "text/plain": [
       "train:   0%|          | 0/194 [00:00<?, ?it/s]"
      ]
     },
     "metadata": {},
     "output_type": "display_data"
    },
    {
     "data": {
      "application/vnd.jupyter.widget-view+json": {
       "model_id": "70d8de1732154d9bbb67770ac042293a",
       "version_major": 2,
       "version_minor": 0
      },
      "text/plain": [
       "test:   0%|          | 0/9 [00:00<?, ?it/s]"
      ]
     },
     "metadata": {},
     "output_type": "display_data"
    },
    {
     "name": "stderr",
     "output_type": "stream",
     "text": [
      "\u001b[32m[I 2022-06-14 09:38:20,651]\u001b[0m Trial 0 finished with value: 0.8161892361111112 and parameters: {'lr': 0.004812922221223897}. Best is trial 0 with value: 0.8161892361111112.\u001b[0m\n"
     ]
    },
    {
     "name": "stdout",
     "output_type": "stream",
     "text": [
      "My suggestion\n",
      "0.004845938308034776\n",
      "\u001b[32m2022-06-14 09:38:20.653\u001b[0m | \u001b[1mINFO    \u001b[0m | \u001b[36msrc.beam.experiment\u001b[0m:\u001b[36m__init__\u001b[0m:\u001b[36m169\u001b[0m - \u001b[1mbeam project: cifar10\u001b[0m\n",
      "\u001b[32m2022-06-14 09:38:20.654\u001b[0m | \u001b[1mINFO    \u001b[0m | \u001b[36msrc.beam.experiment\u001b[0m:\u001b[36m__init__\u001b[0m:\u001b[36m170\u001b[0m - \u001b[1mExperiment Hyperparameters\u001b[0m\n",
      "\u001b[32m2022-06-14 09:38:20.655\u001b[0m | \u001b[1mINFO    \u001b[0m | \u001b[36msrc.beam.experiment\u001b[0m:\u001b[36m__init__\u001b[0m:\u001b[36m174\u001b[0m - \u001b[1mproject_name: cifar10\u001b[0m\n",
      "\u001b[32m2022-06-14 09:38:20.656\u001b[0m | \u001b[1mINFO    \u001b[0m | \u001b[36msrc.beam.experiment\u001b[0m:\u001b[36m__init__\u001b[0m:\u001b[36m174\u001b[0m - \u001b[1midentifier: debug_hp_optimization_20220614_093207_hp_optimization_20220614_093407_hp_optimization_20220614_093726\u001b[0m\n",
      "\u001b[32m2022-06-14 09:38:20.657\u001b[0m | \u001b[1mINFO    \u001b[0m | \u001b[36msrc.beam.experiment\u001b[0m:\u001b[36m__init__\u001b[0m:\u001b[36m174\u001b[0m - \u001b[1malgorithm: CIFAR10Algorithm\u001b[0m\n",
      "\u001b[32m2022-06-14 09:38:20.657\u001b[0m | \u001b[1mINFO    \u001b[0m | \u001b[36msrc.beam.experiment\u001b[0m:\u001b[36m__init__\u001b[0m:\u001b[36m174\u001b[0m - \u001b[1mmp_port: None\u001b[0m\n",
      "\u001b[32m2022-06-14 09:38:20.658\u001b[0m | \u001b[1mINFO    \u001b[0m | \u001b[36msrc.beam.experiment\u001b[0m:\u001b[36m__init__\u001b[0m:\u001b[36m174\u001b[0m - \u001b[1mroot_dir: /localdata/elads/data/cifar10\u001b[0m\n",
      "\u001b[32m2022-06-14 09:38:20.659\u001b[0m | \u001b[1mINFO    \u001b[0m | \u001b[36msrc.beam.experiment\u001b[0m:\u001b[36m__init__\u001b[0m:\u001b[36m174\u001b[0m - \u001b[1mreload: False\u001b[0m\n",
      "\u001b[32m2022-06-14 09:38:20.659\u001b[0m | \u001b[1mINFO    \u001b[0m | \u001b[36msrc.beam.experiment\u001b[0m:\u001b[36m__init__\u001b[0m:\u001b[36m174\u001b[0m - \u001b[1mresume: -1\u001b[0m\n",
      "\u001b[32m2022-06-14 09:38:20.660\u001b[0m | \u001b[1mINFO    \u001b[0m | \u001b[36msrc.beam.experiment\u001b[0m:\u001b[36m__init__\u001b[0m:\u001b[36m174\u001b[0m - \u001b[1moverride: False\u001b[0m\n",
      "\u001b[32m2022-06-14 09:38:20.661\u001b[0m | \u001b[1mINFO    \u001b[0m | \u001b[36msrc.beam.experiment\u001b[0m:\u001b[36m__init__\u001b[0m:\u001b[36m174\u001b[0m - \u001b[1mcpu_workers: 0\u001b[0m\n",
      "\u001b[32m2022-06-14 09:38:20.662\u001b[0m | \u001b[1mINFO    \u001b[0m | \u001b[36msrc.beam.experiment\u001b[0m:\u001b[36m__init__\u001b[0m:\u001b[36m174\u001b[0m - \u001b[1mdevice: 1\u001b[0m\n",
      "\u001b[32m2022-06-14 09:38:20.662\u001b[0m | \u001b[1mINFO    \u001b[0m | \u001b[36msrc.beam.experiment\u001b[0m:\u001b[36m__init__\u001b[0m:\u001b[36m174\u001b[0m - \u001b[1mparallel: 1\u001b[0m\n",
      "\u001b[32m2022-06-14 09:38:20.663\u001b[0m | \u001b[1mINFO    \u001b[0m | \u001b[36msrc.beam.experiment\u001b[0m:\u001b[36m__init__\u001b[0m:\u001b[36m174\u001b[0m - \u001b[1mtensorboard: True\u001b[0m\n",
      "\u001b[32m2022-06-14 09:38:20.664\u001b[0m | \u001b[1mINFO    \u001b[0m | \u001b[36msrc.beam.experiment\u001b[0m:\u001b[36m__init__\u001b[0m:\u001b[36m174\u001b[0m - \u001b[1mlognet: True\u001b[0m\n",
      "\u001b[32m2022-06-14 09:38:20.664\u001b[0m | \u001b[1mINFO    \u001b[0m | \u001b[36msrc.beam.experiment\u001b[0m:\u001b[36m__init__\u001b[0m:\u001b[36m174\u001b[0m - \u001b[1mdeterministic: False\u001b[0m\n",
      "\u001b[32m2022-06-14 09:38:20.665\u001b[0m | \u001b[1mINFO    \u001b[0m | \u001b[36msrc.beam.experiment\u001b[0m:\u001b[36m__init__\u001b[0m:\u001b[36m174\u001b[0m - \u001b[1mscale_epoch_by_batch_size: True\u001b[0m\n",
      "\u001b[32m2022-06-14 09:38:20.666\u001b[0m | \u001b[1mINFO    \u001b[0m | \u001b[36msrc.beam.experiment\u001b[0m:\u001b[36m__init__\u001b[0m:\u001b[36m174\u001b[0m - \u001b[1mcudnn_benchmark: True\u001b[0m\n",
      "\u001b[32m2022-06-14 09:38:20.666\u001b[0m | \u001b[1mINFO    \u001b[0m | \u001b[36msrc.beam.experiment\u001b[0m:\u001b[36m__init__\u001b[0m:\u001b[36m174\u001b[0m - \u001b[1mhalf: True\u001b[0m\n",
      "\u001b[32m2022-06-14 09:38:20.667\u001b[0m | \u001b[1mINFO    \u001b[0m | \u001b[36msrc.beam.experiment\u001b[0m:\u001b[36m__init__\u001b[0m:\u001b[36m174\u001b[0m - \u001b[1mamp: False\u001b[0m\n",
      "\u001b[32m2022-06-14 09:38:20.668\u001b[0m | \u001b[1mINFO    \u001b[0m | \u001b[36msrc.beam.experiment\u001b[0m:\u001b[36m__init__\u001b[0m:\u001b[36m174\u001b[0m - \u001b[1minit: ortho\u001b[0m\n",
      "\u001b[32m2022-06-14 09:38:20.669\u001b[0m | \u001b[1mINFO    \u001b[0m | \u001b[36msrc.beam.experiment\u001b[0m:\u001b[36m__init__\u001b[0m:\u001b[36m174\u001b[0m - \u001b[1mseed: 0\u001b[0m\n",
      "\u001b[32m2022-06-14 09:38:20.669\u001b[0m | \u001b[1mINFO    \u001b[0m | \u001b[36msrc.beam.experiment\u001b[0m:\u001b[36m__init__\u001b[0m:\u001b[36m174\u001b[0m - \u001b[1mtotal_steps: 1000000\u001b[0m\n",
      "\u001b[32m2022-06-14 09:38:20.670\u001b[0m | \u001b[1mINFO    \u001b[0m | \u001b[36msrc.beam.experiment\u001b[0m:\u001b[36m__init__\u001b[0m:\u001b[36m174\u001b[0m - \u001b[1mepoch_length: None\u001b[0m\n",
      "\u001b[32m2022-06-14 09:38:20.671\u001b[0m | \u001b[1mINFO    \u001b[0m | \u001b[36msrc.beam.experiment\u001b[0m:\u001b[36m__init__\u001b[0m:\u001b[36m174\u001b[0m - \u001b[1mepoch_length_train: 200000\u001b[0m\n",
      "\u001b[32m2022-06-14 09:38:20.671\u001b[0m | \u001b[1mINFO    \u001b[0m | \u001b[36msrc.beam.experiment\u001b[0m:\u001b[36m__init__\u001b[0m:\u001b[36m174\u001b[0m - \u001b[1mepoch_length_eval: 10000\u001b[0m\n",
      "\u001b[32m2022-06-14 09:38:20.672\u001b[0m | \u001b[1mINFO    \u001b[0m | \u001b[36msrc.beam.experiment\u001b[0m:\u001b[36m__init__\u001b[0m:\u001b[36m174\u001b[0m - \u001b[1mn_epochs: 4\u001b[0m\n",
      "\u001b[32m2022-06-14 09:38:20.673\u001b[0m | \u001b[1mINFO    \u001b[0m | \u001b[36msrc.beam.experiment\u001b[0m:\u001b[36m__init__\u001b[0m:\u001b[36m174\u001b[0m - \u001b[1mbatch_size: 1024\u001b[0m\n",
      "\u001b[32m2022-06-14 09:38:20.673\u001b[0m | \u001b[1mINFO    \u001b[0m | \u001b[36msrc.beam.experiment\u001b[0m:\u001b[36m__init__\u001b[0m:\u001b[36m174\u001b[0m - \u001b[1mbatch_size_train: None\u001b[0m\n",
      "\u001b[32m2022-06-14 09:38:20.674\u001b[0m | \u001b[1mINFO    \u001b[0m | \u001b[36msrc.beam.experiment\u001b[0m:\u001b[36m__init__\u001b[0m:\u001b[36m174\u001b[0m - \u001b[1mbatch_size_eval: None\u001b[0m\n",
      "\u001b[32m2022-06-14 09:38:20.675\u001b[0m | \u001b[1mINFO    \u001b[0m | \u001b[36msrc.beam.experiment\u001b[0m:\u001b[36m__init__\u001b[0m:\u001b[36m174\u001b[0m - \u001b[1mlr_dense: 0.004845938308034776\u001b[0m\n",
      "\u001b[32m2022-06-14 09:38:20.675\u001b[0m | \u001b[1mINFO    \u001b[0m | \u001b[36msrc.beam.experiment\u001b[0m:\u001b[36m__init__\u001b[0m:\u001b[36m174\u001b[0m - \u001b[1mlr_sparse: 0.01\u001b[0m\n",
      "\u001b[32m2022-06-14 09:38:20.676\u001b[0m | \u001b[1mINFO    \u001b[0m | \u001b[36msrc.beam.experiment\u001b[0m:\u001b[36m__init__\u001b[0m:\u001b[36m174\u001b[0m - \u001b[1mweight_decay: 1e-05\u001b[0m\n",
      "\u001b[32m2022-06-14 09:38:20.677\u001b[0m | \u001b[1mINFO    \u001b[0m | \u001b[36msrc.beam.experiment\u001b[0m:\u001b[36m__init__\u001b[0m:\u001b[36m174\u001b[0m - \u001b[1meps: 0.0001\u001b[0m\n",
      "\u001b[32m2022-06-14 09:38:20.677\u001b[0m | \u001b[1mINFO    \u001b[0m | \u001b[36msrc.beam.experiment\u001b[0m:\u001b[36m__init__\u001b[0m:\u001b[36m174\u001b[0m - \u001b[1mbeta1: 0.9\u001b[0m\n",
      "\u001b[32m2022-06-14 09:38:20.678\u001b[0m | \u001b[1mINFO    \u001b[0m | \u001b[36msrc.beam.experiment\u001b[0m:\u001b[36m__init__\u001b[0m:\u001b[36m174\u001b[0m - \u001b[1mbeta2: 0.9\u001b[0m\n",
      "\u001b[32m2022-06-14 09:38:20.678\u001b[0m | \u001b[1mINFO    \u001b[0m | \u001b[36msrc.beam.experiment\u001b[0m:\u001b[36m__init__\u001b[0m:\u001b[36m174\u001b[0m - \u001b[1mclip: 0.0\u001b[0m\n",
      "\u001b[32m2022-06-14 09:38:20.679\u001b[0m | \u001b[1mINFO    \u001b[0m | \u001b[36msrc.beam.experiment\u001b[0m:\u001b[36m__init__\u001b[0m:\u001b[36m174\u001b[0m - \u001b[1maccumulate: 1\u001b[0m\n",
      "\u001b[32m2022-06-14 09:38:20.680\u001b[0m | \u001b[1mINFO    \u001b[0m | \u001b[36msrc.beam.experiment\u001b[0m:\u001b[36m__init__\u001b[0m:\u001b[36m174\u001b[0m - \u001b[1mprint_results: False\u001b[0m\n",
      "\u001b[32m2022-06-14 09:38:20.680\u001b[0m | \u001b[1mINFO    \u001b[0m | \u001b[36msrc.beam.experiment\u001b[0m:\u001b[36m__init__\u001b[0m:\u001b[36m174\u001b[0m - \u001b[1mvisualize_weights: False\u001b[0m\n",
      "\u001b[32m2022-06-14 09:38:20.681\u001b[0m | \u001b[1mINFO    \u001b[0m | \u001b[36msrc.beam.experiment\u001b[0m:\u001b[36m__init__\u001b[0m:\u001b[36m174\u001b[0m - \u001b[1mvisualize_results: yes\u001b[0m\n",
      "\u001b[32m2022-06-14 09:38:20.681\u001b[0m | \u001b[1mINFO    \u001b[0m | \u001b[36msrc.beam.experiment\u001b[0m:\u001b[36m__init__\u001b[0m:\u001b[36m174\u001b[0m - \u001b[1mstore_results: logscale\u001b[0m\n",
      "\u001b[32m2022-06-14 09:38:20.682\u001b[0m | \u001b[1mINFO    \u001b[0m | \u001b[36msrc.beam.experiment\u001b[0m:\u001b[36m__init__\u001b[0m:\u001b[36m174\u001b[0m - \u001b[1mstore_networks: logscale\u001b[0m\n",
      "\u001b[32m2022-06-14 09:38:20.683\u001b[0m | \u001b[1mINFO    \u001b[0m | \u001b[36msrc.beam.experiment\u001b[0m:\u001b[36m__init__\u001b[0m:\u001b[36m174\u001b[0m - \u001b[1mpath_to_data: /localdata/elads/data/datasets/cifar10\u001b[0m\n",
      "\u001b[32m2022-06-14 09:38:20.684\u001b[0m | \u001b[1mINFO    \u001b[0m | \u001b[36msrc.beam.experiment\u001b[0m:\u001b[36m__init__\u001b[0m:\u001b[36m244\u001b[0m - \u001b[1mCreating new experiment\u001b[0m\n",
      "\u001b[32m2022-06-14 09:38:20.685\u001b[0m | \u001b[1mINFO    \u001b[0m | \u001b[36msrc.beam.experiment\u001b[0m:\u001b[36m__init__\u001b[0m:\u001b[36m259\u001b[0m - \u001b[1mExperiment directory is: /localdata/elads/data/cifar10/cifar10/CIFAR10Algorithm/debug_hp_optimization_20220614_093207_hp_optimization_20220614_093407_hp_optimization_20220614_093726/0001_20220614_093820\u001b[0m\n",
      "\u001b[32m2022-06-14 09:38:20.794\u001b[0m | \u001b[1mINFO    \u001b[0m | \u001b[36msrc.beam.experiment\u001b[0m:\u001b[36mrun\u001b[0m:\u001b[36m536\u001b[0m - \u001b[1mSingle worker mode\u001b[0m\n",
      "\u001b[32m2022-06-14 09:38:20.795\u001b[0m | \u001b[1mINFO    \u001b[0m | \u001b[36msrc.beam.experiment\u001b[0m:\u001b[36mrun_worker\u001b[0m:\u001b[36m47\u001b[0m - \u001b[1mWorker: 1/1 is running...\u001b[0m\n"
     ]
    },
    {
     "data": {
      "application/vnd.jupyter.widget-view+json": {
       "model_id": "6edcc68aeb864405951315a12bc6ab36",
       "version_major": 2,
       "version_minor": 0
      },
      "text/plain": [
       "train:   0%|          | 0/194 [00:00<?, ?it/s]"
      ]
     },
     "metadata": {},
     "output_type": "display_data"
    },
    {
     "data": {
      "application/vnd.jupyter.widget-view+json": {
       "model_id": "0da25293580d42f0bb3ac362890f5c4a",
       "version_major": 2,
       "version_minor": 0
      },
      "text/plain": [
       "test:   0%|          | 0/9 [00:00<?, ?it/s]"
      ]
     },
     "metadata": {},
     "output_type": "display_data"
    },
    {
     "data": {
      "application/vnd.jupyter.widget-view+json": {
       "model_id": "1245a9f5be7647a6a79d5de7116a42bc",
       "version_major": 2,
       "version_minor": 0
      },
      "text/plain": [
       "train:   0%|          | 0/194 [00:00<?, ?it/s]"
      ]
     },
     "metadata": {},
     "output_type": "display_data"
    },
    {
     "data": {
      "application/vnd.jupyter.widget-view+json": {
       "model_id": "da2667c113b44e49928894597a63106c",
       "version_major": 2,
       "version_minor": 0
      },
      "text/plain": [
       "test:   0%|          | 0/9 [00:00<?, ?it/s]"
      ]
     },
     "metadata": {},
     "output_type": "display_data"
    },
    {
     "data": {
      "application/vnd.jupyter.widget-view+json": {
       "model_id": "ed8331201d544b76b3783f54d5ae68e5",
       "version_major": 2,
       "version_minor": 0
      },
      "text/plain": [
       "train:   0%|          | 0/194 [00:00<?, ?it/s]"
      ]
     },
     "metadata": {},
     "output_type": "display_data"
    },
    {
     "data": {
      "application/vnd.jupyter.widget-view+json": {
       "model_id": "d4940f6262834527b7f40d49da46ecb3",
       "version_major": 2,
       "version_minor": 0
      },
      "text/plain": [
       "test:   0%|          | 0/9 [00:00<?, ?it/s]"
      ]
     },
     "metadata": {},
     "output_type": "display_data"
    },
    {
     "data": {
      "application/vnd.jupyter.widget-view+json": {
       "model_id": "fa10f34367cb4dba8ab0c7432a9448c8",
       "version_major": 2,
       "version_minor": 0
      },
      "text/plain": [
       "train:   0%|          | 0/194 [00:00<?, ?it/s]"
      ]
     },
     "metadata": {},
     "output_type": "display_data"
    },
    {
     "data": {
      "application/vnd.jupyter.widget-view+json": {
       "model_id": "2e0723b7b9814ae587e7e8043bcf5006",
       "version_major": 2,
       "version_minor": 0
      },
      "text/plain": [
       "test:   0%|          | 0/9 [00:00<?, ?it/s]"
      ]
     },
     "metadata": {},
     "output_type": "display_data"
    },
    {
     "name": "stderr",
     "output_type": "stream",
     "text": [
      "\u001b[32m[I 2022-06-14 09:39:14,827]\u001b[0m Trial 1 finished with value: 0.8365885416666666 and parameters: {'lr': 0.004845938308034776}. Best is trial 1 with value: 0.8365885416666666.\u001b[0m\n"
     ]
    },
    {
     "name": "stdout",
     "output_type": "stream",
     "text": [
      "My suggestion\n",
      "0.01711712997670714\n",
      "\u001b[32m2022-06-14 09:39:14.829\u001b[0m | \u001b[1mINFO    \u001b[0m | \u001b[36msrc.beam.experiment\u001b[0m:\u001b[36m__init__\u001b[0m:\u001b[36m169\u001b[0m - \u001b[1mbeam project: cifar10\u001b[0m\n",
      "\u001b[32m2022-06-14 09:39:14.830\u001b[0m | \u001b[1mINFO    \u001b[0m | \u001b[36msrc.beam.experiment\u001b[0m:\u001b[36m__init__\u001b[0m:\u001b[36m170\u001b[0m - \u001b[1mExperiment Hyperparameters\u001b[0m\n",
      "\u001b[32m2022-06-14 09:39:14.831\u001b[0m | \u001b[1mINFO    \u001b[0m | \u001b[36msrc.beam.experiment\u001b[0m:\u001b[36m__init__\u001b[0m:\u001b[36m174\u001b[0m - \u001b[1mproject_name: cifar10\u001b[0m\n",
      "\u001b[32m2022-06-14 09:39:14.832\u001b[0m | \u001b[1mINFO    \u001b[0m | \u001b[36msrc.beam.experiment\u001b[0m:\u001b[36m__init__\u001b[0m:\u001b[36m174\u001b[0m - \u001b[1midentifier: debug_hp_optimization_20220614_093207_hp_optimization_20220614_093407_hp_optimization_20220614_093726\u001b[0m\n",
      "\u001b[32m2022-06-14 09:39:14.833\u001b[0m | \u001b[1mINFO    \u001b[0m | \u001b[36msrc.beam.experiment\u001b[0m:\u001b[36m__init__\u001b[0m:\u001b[36m174\u001b[0m - \u001b[1malgorithm: CIFAR10Algorithm\u001b[0m\n",
      "\u001b[32m2022-06-14 09:39:14.833\u001b[0m | \u001b[1mINFO    \u001b[0m | \u001b[36msrc.beam.experiment\u001b[0m:\u001b[36m__init__\u001b[0m:\u001b[36m174\u001b[0m - \u001b[1mmp_port: None\u001b[0m\n",
      "\u001b[32m2022-06-14 09:39:14.834\u001b[0m | \u001b[1mINFO    \u001b[0m | \u001b[36msrc.beam.experiment\u001b[0m:\u001b[36m__init__\u001b[0m:\u001b[36m174\u001b[0m - \u001b[1mroot_dir: /localdata/elads/data/cifar10\u001b[0m\n",
      "\u001b[32m2022-06-14 09:39:14.835\u001b[0m | \u001b[1mINFO    \u001b[0m | \u001b[36msrc.beam.experiment\u001b[0m:\u001b[36m__init__\u001b[0m:\u001b[36m174\u001b[0m - \u001b[1mreload: False\u001b[0m\n",
      "\u001b[32m2022-06-14 09:39:14.835\u001b[0m | \u001b[1mINFO    \u001b[0m | \u001b[36msrc.beam.experiment\u001b[0m:\u001b[36m__init__\u001b[0m:\u001b[36m174\u001b[0m - \u001b[1mresume: -1\u001b[0m\n",
      "\u001b[32m2022-06-14 09:39:14.836\u001b[0m | \u001b[1mINFO    \u001b[0m | \u001b[36msrc.beam.experiment\u001b[0m:\u001b[36m__init__\u001b[0m:\u001b[36m174\u001b[0m - \u001b[1moverride: False\u001b[0m\n",
      "\u001b[32m2022-06-14 09:39:14.837\u001b[0m | \u001b[1mINFO    \u001b[0m | \u001b[36msrc.beam.experiment\u001b[0m:\u001b[36m__init__\u001b[0m:\u001b[36m174\u001b[0m - \u001b[1mcpu_workers: 0\u001b[0m\n",
      "\u001b[32m2022-06-14 09:39:14.838\u001b[0m | \u001b[1mINFO    \u001b[0m | \u001b[36msrc.beam.experiment\u001b[0m:\u001b[36m__init__\u001b[0m:\u001b[36m174\u001b[0m - \u001b[1mdevice: 1\u001b[0m\n",
      "\u001b[32m2022-06-14 09:39:14.838\u001b[0m | \u001b[1mINFO    \u001b[0m | \u001b[36msrc.beam.experiment\u001b[0m:\u001b[36m__init__\u001b[0m:\u001b[36m174\u001b[0m - \u001b[1mparallel: 1\u001b[0m\n",
      "\u001b[32m2022-06-14 09:39:14.839\u001b[0m | \u001b[1mINFO    \u001b[0m | \u001b[36msrc.beam.experiment\u001b[0m:\u001b[36m__init__\u001b[0m:\u001b[36m174\u001b[0m - \u001b[1mtensorboard: True\u001b[0m\n",
      "\u001b[32m2022-06-14 09:39:14.840\u001b[0m | \u001b[1mINFO    \u001b[0m | \u001b[36msrc.beam.experiment\u001b[0m:\u001b[36m__init__\u001b[0m:\u001b[36m174\u001b[0m - \u001b[1mlognet: True\u001b[0m\n",
      "\u001b[32m2022-06-14 09:39:14.841\u001b[0m | \u001b[1mINFO    \u001b[0m | \u001b[36msrc.beam.experiment\u001b[0m:\u001b[36m__init__\u001b[0m:\u001b[36m174\u001b[0m - \u001b[1mdeterministic: False\u001b[0m\n",
      "\u001b[32m2022-06-14 09:39:14.841\u001b[0m | \u001b[1mINFO    \u001b[0m | \u001b[36msrc.beam.experiment\u001b[0m:\u001b[36m__init__\u001b[0m:\u001b[36m174\u001b[0m - \u001b[1mscale_epoch_by_batch_size: True\u001b[0m\n",
      "\u001b[32m2022-06-14 09:39:14.842\u001b[0m | \u001b[1mINFO    \u001b[0m | \u001b[36msrc.beam.experiment\u001b[0m:\u001b[36m__init__\u001b[0m:\u001b[36m174\u001b[0m - \u001b[1mcudnn_benchmark: True\u001b[0m\n",
      "\u001b[32m2022-06-14 09:39:14.842\u001b[0m | \u001b[1mINFO    \u001b[0m | \u001b[36msrc.beam.experiment\u001b[0m:\u001b[36m__init__\u001b[0m:\u001b[36m174\u001b[0m - \u001b[1mhalf: True\u001b[0m\n",
      "\u001b[32m2022-06-14 09:39:14.843\u001b[0m | \u001b[1mINFO    \u001b[0m | \u001b[36msrc.beam.experiment\u001b[0m:\u001b[36m__init__\u001b[0m:\u001b[36m174\u001b[0m - \u001b[1mamp: False\u001b[0m\n",
      "\u001b[32m2022-06-14 09:39:14.844\u001b[0m | \u001b[1mINFO    \u001b[0m | \u001b[36msrc.beam.experiment\u001b[0m:\u001b[36m__init__\u001b[0m:\u001b[36m174\u001b[0m - \u001b[1minit: ortho\u001b[0m\n",
      "\u001b[32m2022-06-14 09:39:14.844\u001b[0m | \u001b[1mINFO    \u001b[0m | \u001b[36msrc.beam.experiment\u001b[0m:\u001b[36m__init__\u001b[0m:\u001b[36m174\u001b[0m - \u001b[1mseed: 0\u001b[0m\n",
      "\u001b[32m2022-06-14 09:39:14.845\u001b[0m | \u001b[1mINFO    \u001b[0m | \u001b[36msrc.beam.experiment\u001b[0m:\u001b[36m__init__\u001b[0m:\u001b[36m174\u001b[0m - \u001b[1mtotal_steps: 1000000\u001b[0m\n",
      "\u001b[32m2022-06-14 09:39:14.845\u001b[0m | \u001b[1mINFO    \u001b[0m | \u001b[36msrc.beam.experiment\u001b[0m:\u001b[36m__init__\u001b[0m:\u001b[36m174\u001b[0m - \u001b[1mepoch_length: None\u001b[0m\n",
      "\u001b[32m2022-06-14 09:39:14.846\u001b[0m | \u001b[1mINFO    \u001b[0m | \u001b[36msrc.beam.experiment\u001b[0m:\u001b[36m__init__\u001b[0m:\u001b[36m174\u001b[0m - \u001b[1mepoch_length_train: 200000\u001b[0m\n",
      "\u001b[32m2022-06-14 09:39:14.847\u001b[0m | \u001b[1mINFO    \u001b[0m | \u001b[36msrc.beam.experiment\u001b[0m:\u001b[36m__init__\u001b[0m:\u001b[36m174\u001b[0m - \u001b[1mepoch_length_eval: 10000\u001b[0m\n",
      "\u001b[32m2022-06-14 09:39:14.848\u001b[0m | \u001b[1mINFO    \u001b[0m | \u001b[36msrc.beam.experiment\u001b[0m:\u001b[36m__init__\u001b[0m:\u001b[36m174\u001b[0m - \u001b[1mn_epochs: 4\u001b[0m\n",
      "\u001b[32m2022-06-14 09:39:14.848\u001b[0m | \u001b[1mINFO    \u001b[0m | \u001b[36msrc.beam.experiment\u001b[0m:\u001b[36m__init__\u001b[0m:\u001b[36m174\u001b[0m - \u001b[1mbatch_size: 1024\u001b[0m\n",
      "\u001b[32m2022-06-14 09:39:14.849\u001b[0m | \u001b[1mINFO    \u001b[0m | \u001b[36msrc.beam.experiment\u001b[0m:\u001b[36m__init__\u001b[0m:\u001b[36m174\u001b[0m - \u001b[1mbatch_size_train: None\u001b[0m\n",
      "\u001b[32m2022-06-14 09:39:14.849\u001b[0m | \u001b[1mINFO    \u001b[0m | \u001b[36msrc.beam.experiment\u001b[0m:\u001b[36m__init__\u001b[0m:\u001b[36m174\u001b[0m - \u001b[1mbatch_size_eval: None\u001b[0m\n",
      "\u001b[32m2022-06-14 09:39:14.850\u001b[0m | \u001b[1mINFO    \u001b[0m | \u001b[36msrc.beam.experiment\u001b[0m:\u001b[36m__init__\u001b[0m:\u001b[36m174\u001b[0m - \u001b[1mlr_dense: 0.01711712997670714\u001b[0m\n",
      "\u001b[32m2022-06-14 09:39:14.851\u001b[0m | \u001b[1mINFO    \u001b[0m | \u001b[36msrc.beam.experiment\u001b[0m:\u001b[36m__init__\u001b[0m:\u001b[36m174\u001b[0m - \u001b[1mlr_sparse: 0.01\u001b[0m\n",
      "\u001b[32m2022-06-14 09:39:14.851\u001b[0m | \u001b[1mINFO    \u001b[0m | \u001b[36msrc.beam.experiment\u001b[0m:\u001b[36m__init__\u001b[0m:\u001b[36m174\u001b[0m - \u001b[1mweight_decay: 1e-05\u001b[0m\n",
      "\u001b[32m2022-06-14 09:39:14.852\u001b[0m | \u001b[1mINFO    \u001b[0m | \u001b[36msrc.beam.experiment\u001b[0m:\u001b[36m__init__\u001b[0m:\u001b[36m174\u001b[0m - \u001b[1meps: 0.0001\u001b[0m\n",
      "\u001b[32m2022-06-14 09:39:14.852\u001b[0m | \u001b[1mINFO    \u001b[0m | \u001b[36msrc.beam.experiment\u001b[0m:\u001b[36m__init__\u001b[0m:\u001b[36m174\u001b[0m - \u001b[1mbeta1: 0.9\u001b[0m\n",
      "\u001b[32m2022-06-14 09:39:14.853\u001b[0m | \u001b[1mINFO    \u001b[0m | \u001b[36msrc.beam.experiment\u001b[0m:\u001b[36m__init__\u001b[0m:\u001b[36m174\u001b[0m - \u001b[1mbeta2: 0.9\u001b[0m\n",
      "\u001b[32m2022-06-14 09:39:14.854\u001b[0m | \u001b[1mINFO    \u001b[0m | \u001b[36msrc.beam.experiment\u001b[0m:\u001b[36m__init__\u001b[0m:\u001b[36m174\u001b[0m - \u001b[1mclip: 0.0\u001b[0m\n",
      "\u001b[32m2022-06-14 09:39:14.854\u001b[0m | \u001b[1mINFO    \u001b[0m | \u001b[36msrc.beam.experiment\u001b[0m:\u001b[36m__init__\u001b[0m:\u001b[36m174\u001b[0m - \u001b[1maccumulate: 1\u001b[0m\n",
      "\u001b[32m2022-06-14 09:39:14.855\u001b[0m | \u001b[1mINFO    \u001b[0m | \u001b[36msrc.beam.experiment\u001b[0m:\u001b[36m__init__\u001b[0m:\u001b[36m174\u001b[0m - \u001b[1mprint_results: False\u001b[0m\n",
      "\u001b[32m2022-06-14 09:39:14.855\u001b[0m | \u001b[1mINFO    \u001b[0m | \u001b[36msrc.beam.experiment\u001b[0m:\u001b[36m__init__\u001b[0m:\u001b[36m174\u001b[0m - \u001b[1mvisualize_weights: False\u001b[0m\n",
      "\u001b[32m2022-06-14 09:39:14.856\u001b[0m | \u001b[1mINFO    \u001b[0m | \u001b[36msrc.beam.experiment\u001b[0m:\u001b[36m__init__\u001b[0m:\u001b[36m174\u001b[0m - \u001b[1mvisualize_results: yes\u001b[0m\n",
      "\u001b[32m2022-06-14 09:39:14.857\u001b[0m | \u001b[1mINFO    \u001b[0m | \u001b[36msrc.beam.experiment\u001b[0m:\u001b[36m__init__\u001b[0m:\u001b[36m174\u001b[0m - \u001b[1mstore_results: logscale\u001b[0m\n",
      "\u001b[32m2022-06-14 09:39:14.857\u001b[0m | \u001b[1mINFO    \u001b[0m | \u001b[36msrc.beam.experiment\u001b[0m:\u001b[36m__init__\u001b[0m:\u001b[36m174\u001b[0m - \u001b[1mstore_networks: logscale\u001b[0m\n",
      "\u001b[32m2022-06-14 09:39:14.858\u001b[0m | \u001b[1mINFO    \u001b[0m | \u001b[36msrc.beam.experiment\u001b[0m:\u001b[36m__init__\u001b[0m:\u001b[36m174\u001b[0m - \u001b[1mpath_to_data: /localdata/elads/data/datasets/cifar10\u001b[0m\n",
      "\u001b[32m2022-06-14 09:39:14.859\u001b[0m | \u001b[1mINFO    \u001b[0m | \u001b[36msrc.beam.experiment\u001b[0m:\u001b[36m__init__\u001b[0m:\u001b[36m244\u001b[0m - \u001b[1mCreating new experiment\u001b[0m\n",
      "\u001b[32m2022-06-14 09:39:14.860\u001b[0m | \u001b[1mINFO    \u001b[0m | \u001b[36msrc.beam.experiment\u001b[0m:\u001b[36m__init__\u001b[0m:\u001b[36m259\u001b[0m - \u001b[1mExperiment directory is: /localdata/elads/data/cifar10/cifar10/CIFAR10Algorithm/debug_hp_optimization_20220614_093207_hp_optimization_20220614_093407_hp_optimization_20220614_093726/0002_20220614_093914\u001b[0m\n",
      "\u001b[32m2022-06-14 09:39:15.302\u001b[0m | \u001b[1mINFO    \u001b[0m | \u001b[36msrc.beam.experiment\u001b[0m:\u001b[36mrun\u001b[0m:\u001b[36m536\u001b[0m - \u001b[1mSingle worker mode\u001b[0m\n",
      "\u001b[32m2022-06-14 09:39:15.303\u001b[0m | \u001b[1mINFO    \u001b[0m | \u001b[36msrc.beam.experiment\u001b[0m:\u001b[36mrun_worker\u001b[0m:\u001b[36m47\u001b[0m - \u001b[1mWorker: 1/1 is running...\u001b[0m\n"
     ]
    },
    {
     "data": {
      "application/vnd.jupyter.widget-view+json": {
       "model_id": "31f5f2c825724d31bdc01a9903ffb518",
       "version_major": 2,
       "version_minor": 0
      },
      "text/plain": [
       "train:   0%|          | 0/194 [00:00<?, ?it/s]"
      ]
     },
     "metadata": {},
     "output_type": "display_data"
    },
    {
     "data": {
      "application/vnd.jupyter.widget-view+json": {
       "model_id": "a2b7469cfe2f433c89fe9e170f44432a",
       "version_major": 2,
       "version_minor": 0
      },
      "text/plain": [
       "test:   0%|          | 0/9 [00:00<?, ?it/s]"
      ]
     },
     "metadata": {},
     "output_type": "display_data"
    },
    {
     "data": {
      "application/vnd.jupyter.widget-view+json": {
       "model_id": "cf63dee9cc3649cf9a9f25cb048c19f8",
       "version_major": 2,
       "version_minor": 0
      },
      "text/plain": [
       "train:   0%|          | 0/194 [00:00<?, ?it/s]"
      ]
     },
     "metadata": {},
     "output_type": "display_data"
    },
    {
     "data": {
      "application/vnd.jupyter.widget-view+json": {
       "model_id": "e147b2225c234d50b024b67154a060fc",
       "version_major": 2,
       "version_minor": 0
      },
      "text/plain": [
       "test:   0%|          | 0/9 [00:00<?, ?it/s]"
      ]
     },
     "metadata": {},
     "output_type": "display_data"
    },
    {
     "data": {
      "application/vnd.jupyter.widget-view+json": {
       "model_id": "68b255eea7594cbda1d1fc3900ffc283",
       "version_major": 2,
       "version_minor": 0
      },
      "text/plain": [
       "train:   0%|          | 0/194 [00:00<?, ?it/s]"
      ]
     },
     "metadata": {},
     "output_type": "display_data"
    },
    {
     "data": {
      "application/vnd.jupyter.widget-view+json": {
       "model_id": "80e2103552e8400f8ab15a4041842887",
       "version_major": 2,
       "version_minor": 0
      },
      "text/plain": [
       "test:   0%|          | 0/9 [00:00<?, ?it/s]"
      ]
     },
     "metadata": {},
     "output_type": "display_data"
    },
    {
     "data": {
      "application/vnd.jupyter.widget-view+json": {
       "model_id": "e267db926e0242dda9d277e0035f3733",
       "version_major": 2,
       "version_minor": 0
      },
      "text/plain": [
       "train:   0%|          | 0/194 [00:00<?, ?it/s]"
      ]
     },
     "metadata": {},
     "output_type": "display_data"
    },
    {
     "data": {
      "application/vnd.jupyter.widget-view+json": {
       "model_id": "cd124c8342ba4d29bd0472c33598088c",
       "version_major": 2,
       "version_minor": 0
      },
      "text/plain": [
       "test:   0%|          | 0/9 [00:00<?, ?it/s]"
      ]
     },
     "metadata": {},
     "output_type": "display_data"
    },
    {
     "name": "stderr",
     "output_type": "stream",
     "text": [
      "\u001b[32m[I 2022-06-14 09:40:10,465]\u001b[0m Trial 2 finished with value: 0.8347439236111112 and parameters: {'lr': 0.01711712997670714}. Best is trial 1 with value: 0.8365885416666666.\u001b[0m\n"
     ]
    },
    {
     "name": "stdout",
     "output_type": "stream",
     "text": [
      "My suggestion\n",
      "0.0027556186008022045\n",
      "\u001b[32m2022-06-14 09:40:10.467\u001b[0m | \u001b[1mINFO    \u001b[0m | \u001b[36msrc.beam.experiment\u001b[0m:\u001b[36m__init__\u001b[0m:\u001b[36m169\u001b[0m - \u001b[1mbeam project: cifar10\u001b[0m\n",
      "\u001b[32m2022-06-14 09:40:10.468\u001b[0m | \u001b[1mINFO    \u001b[0m | \u001b[36msrc.beam.experiment\u001b[0m:\u001b[36m__init__\u001b[0m:\u001b[36m170\u001b[0m - \u001b[1mExperiment Hyperparameters\u001b[0m\n",
      "\u001b[32m2022-06-14 09:40:10.469\u001b[0m | \u001b[1mINFO    \u001b[0m | \u001b[36msrc.beam.experiment\u001b[0m:\u001b[36m__init__\u001b[0m:\u001b[36m174\u001b[0m - \u001b[1mproject_name: cifar10\u001b[0m\n",
      "\u001b[32m2022-06-14 09:40:10.470\u001b[0m | \u001b[1mINFO    \u001b[0m | \u001b[36msrc.beam.experiment\u001b[0m:\u001b[36m__init__\u001b[0m:\u001b[36m174\u001b[0m - \u001b[1midentifier: debug_hp_optimization_20220614_093207_hp_optimization_20220614_093407_hp_optimization_20220614_093726\u001b[0m\n",
      "\u001b[32m2022-06-14 09:40:10.471\u001b[0m | \u001b[1mINFO    \u001b[0m | \u001b[36msrc.beam.experiment\u001b[0m:\u001b[36m__init__\u001b[0m:\u001b[36m174\u001b[0m - \u001b[1malgorithm: CIFAR10Algorithm\u001b[0m\n",
      "\u001b[32m2022-06-14 09:40:10.471\u001b[0m | \u001b[1mINFO    \u001b[0m | \u001b[36msrc.beam.experiment\u001b[0m:\u001b[36m__init__\u001b[0m:\u001b[36m174\u001b[0m - \u001b[1mmp_port: None\u001b[0m\n",
      "\u001b[32m2022-06-14 09:40:10.472\u001b[0m | \u001b[1mINFO    \u001b[0m | \u001b[36msrc.beam.experiment\u001b[0m:\u001b[36m__init__\u001b[0m:\u001b[36m174\u001b[0m - \u001b[1mroot_dir: /localdata/elads/data/cifar10\u001b[0m\n",
      "\u001b[32m2022-06-14 09:40:10.473\u001b[0m | \u001b[1mINFO    \u001b[0m | \u001b[36msrc.beam.experiment\u001b[0m:\u001b[36m__init__\u001b[0m:\u001b[36m174\u001b[0m - \u001b[1mreload: False\u001b[0m\n",
      "\u001b[32m2022-06-14 09:40:10.474\u001b[0m | \u001b[1mINFO    \u001b[0m | \u001b[36msrc.beam.experiment\u001b[0m:\u001b[36m__init__\u001b[0m:\u001b[36m174\u001b[0m - \u001b[1mresume: -1\u001b[0m\n",
      "\u001b[32m2022-06-14 09:40:10.474\u001b[0m | \u001b[1mINFO    \u001b[0m | \u001b[36msrc.beam.experiment\u001b[0m:\u001b[36m__init__\u001b[0m:\u001b[36m174\u001b[0m - \u001b[1moverride: False\u001b[0m\n",
      "\u001b[32m2022-06-14 09:40:10.475\u001b[0m | \u001b[1mINFO    \u001b[0m | \u001b[36msrc.beam.experiment\u001b[0m:\u001b[36m__init__\u001b[0m:\u001b[36m174\u001b[0m - \u001b[1mcpu_workers: 0\u001b[0m\n",
      "\u001b[32m2022-06-14 09:40:10.476\u001b[0m | \u001b[1mINFO    \u001b[0m | \u001b[36msrc.beam.experiment\u001b[0m:\u001b[36m__init__\u001b[0m:\u001b[36m174\u001b[0m - \u001b[1mdevice: 1\u001b[0m\n",
      "\u001b[32m2022-06-14 09:40:10.476\u001b[0m | \u001b[1mINFO    \u001b[0m | \u001b[36msrc.beam.experiment\u001b[0m:\u001b[36m__init__\u001b[0m:\u001b[36m174\u001b[0m - \u001b[1mparallel: 1\u001b[0m\n",
      "\u001b[32m2022-06-14 09:40:10.477\u001b[0m | \u001b[1mINFO    \u001b[0m | \u001b[36msrc.beam.experiment\u001b[0m:\u001b[36m__init__\u001b[0m:\u001b[36m174\u001b[0m - \u001b[1mtensorboard: True\u001b[0m\n",
      "\u001b[32m2022-06-14 09:40:10.478\u001b[0m | \u001b[1mINFO    \u001b[0m | \u001b[36msrc.beam.experiment\u001b[0m:\u001b[36m__init__\u001b[0m:\u001b[36m174\u001b[0m - \u001b[1mlognet: True\u001b[0m\n",
      "\u001b[32m2022-06-14 09:40:10.479\u001b[0m | \u001b[1mINFO    \u001b[0m | \u001b[36msrc.beam.experiment\u001b[0m:\u001b[36m__init__\u001b[0m:\u001b[36m174\u001b[0m - \u001b[1mdeterministic: False\u001b[0m\n",
      "\u001b[32m2022-06-14 09:40:10.479\u001b[0m | \u001b[1mINFO    \u001b[0m | \u001b[36msrc.beam.experiment\u001b[0m:\u001b[36m__init__\u001b[0m:\u001b[36m174\u001b[0m - \u001b[1mscale_epoch_by_batch_size: True\u001b[0m\n",
      "\u001b[32m2022-06-14 09:40:10.480\u001b[0m | \u001b[1mINFO    \u001b[0m | \u001b[36msrc.beam.experiment\u001b[0m:\u001b[36m__init__\u001b[0m:\u001b[36m174\u001b[0m - \u001b[1mcudnn_benchmark: True\u001b[0m\n",
      "\u001b[32m2022-06-14 09:40:10.481\u001b[0m | \u001b[1mINFO    \u001b[0m | \u001b[36msrc.beam.experiment\u001b[0m:\u001b[36m__init__\u001b[0m:\u001b[36m174\u001b[0m - \u001b[1mhalf: True\u001b[0m\n",
      "\u001b[32m2022-06-14 09:40:10.481\u001b[0m | \u001b[1mINFO    \u001b[0m | \u001b[36msrc.beam.experiment\u001b[0m:\u001b[36m__init__\u001b[0m:\u001b[36m174\u001b[0m - \u001b[1mamp: False\u001b[0m\n",
      "\u001b[32m2022-06-14 09:40:10.482\u001b[0m | \u001b[1mINFO    \u001b[0m | \u001b[36msrc.beam.experiment\u001b[0m:\u001b[36m__init__\u001b[0m:\u001b[36m174\u001b[0m - \u001b[1minit: ortho\u001b[0m\n",
      "\u001b[32m2022-06-14 09:40:10.483\u001b[0m | \u001b[1mINFO    \u001b[0m | \u001b[36msrc.beam.experiment\u001b[0m:\u001b[36m__init__\u001b[0m:\u001b[36m174\u001b[0m - \u001b[1mseed: 0\u001b[0m\n",
      "\u001b[32m2022-06-14 09:40:10.484\u001b[0m | \u001b[1mINFO    \u001b[0m | \u001b[36msrc.beam.experiment\u001b[0m:\u001b[36m__init__\u001b[0m:\u001b[36m174\u001b[0m - \u001b[1mtotal_steps: 1000000\u001b[0m\n",
      "\u001b[32m2022-06-14 09:40:10.484\u001b[0m | \u001b[1mINFO    \u001b[0m | \u001b[36msrc.beam.experiment\u001b[0m:\u001b[36m__init__\u001b[0m:\u001b[36m174\u001b[0m - \u001b[1mepoch_length: None\u001b[0m\n",
      "\u001b[32m2022-06-14 09:40:10.485\u001b[0m | \u001b[1mINFO    \u001b[0m | \u001b[36msrc.beam.experiment\u001b[0m:\u001b[36m__init__\u001b[0m:\u001b[36m174\u001b[0m - \u001b[1mepoch_length_train: 200000\u001b[0m\n",
      "\u001b[32m2022-06-14 09:40:10.486\u001b[0m | \u001b[1mINFO    \u001b[0m | \u001b[36msrc.beam.experiment\u001b[0m:\u001b[36m__init__\u001b[0m:\u001b[36m174\u001b[0m - \u001b[1mepoch_length_eval: 10000\u001b[0m\n",
      "\u001b[32m2022-06-14 09:40:10.486\u001b[0m | \u001b[1mINFO    \u001b[0m | \u001b[36msrc.beam.experiment\u001b[0m:\u001b[36m__init__\u001b[0m:\u001b[36m174\u001b[0m - \u001b[1mn_epochs: 4\u001b[0m\n",
      "\u001b[32m2022-06-14 09:40:10.487\u001b[0m | \u001b[1mINFO    \u001b[0m | \u001b[36msrc.beam.experiment\u001b[0m:\u001b[36m__init__\u001b[0m:\u001b[36m174\u001b[0m - \u001b[1mbatch_size: 1024\u001b[0m\n",
      "\u001b[32m2022-06-14 09:40:10.488\u001b[0m | \u001b[1mINFO    \u001b[0m | \u001b[36msrc.beam.experiment\u001b[0m:\u001b[36m__init__\u001b[0m:\u001b[36m174\u001b[0m - \u001b[1mbatch_size_train: None\u001b[0m\n",
      "\u001b[32m2022-06-14 09:40:10.488\u001b[0m | \u001b[1mINFO    \u001b[0m | \u001b[36msrc.beam.experiment\u001b[0m:\u001b[36m__init__\u001b[0m:\u001b[36m174\u001b[0m - \u001b[1mbatch_size_eval: None\u001b[0m\n",
      "\u001b[32m2022-06-14 09:40:10.489\u001b[0m | \u001b[1mINFO    \u001b[0m | \u001b[36msrc.beam.experiment\u001b[0m:\u001b[36m__init__\u001b[0m:\u001b[36m174\u001b[0m - \u001b[1mlr_dense: 0.0027556186008022045\u001b[0m\n",
      "\u001b[32m2022-06-14 09:40:10.490\u001b[0m | \u001b[1mINFO    \u001b[0m | \u001b[36msrc.beam.experiment\u001b[0m:\u001b[36m__init__\u001b[0m:\u001b[36m174\u001b[0m - \u001b[1mlr_sparse: 0.01\u001b[0m\n",
      "\u001b[32m2022-06-14 09:40:10.490\u001b[0m | \u001b[1mINFO    \u001b[0m | \u001b[36msrc.beam.experiment\u001b[0m:\u001b[36m__init__\u001b[0m:\u001b[36m174\u001b[0m - \u001b[1mweight_decay: 1e-05\u001b[0m\n",
      "\u001b[32m2022-06-14 09:40:10.491\u001b[0m | \u001b[1mINFO    \u001b[0m | \u001b[36msrc.beam.experiment\u001b[0m:\u001b[36m__init__\u001b[0m:\u001b[36m174\u001b[0m - \u001b[1meps: 0.0001\u001b[0m\n",
      "\u001b[32m2022-06-14 09:40:10.492\u001b[0m | \u001b[1mINFO    \u001b[0m | \u001b[36msrc.beam.experiment\u001b[0m:\u001b[36m__init__\u001b[0m:\u001b[36m174\u001b[0m - \u001b[1mbeta1: 0.9\u001b[0m\n",
      "\u001b[32m2022-06-14 09:40:10.492\u001b[0m | \u001b[1mINFO    \u001b[0m | \u001b[36msrc.beam.experiment\u001b[0m:\u001b[36m__init__\u001b[0m:\u001b[36m174\u001b[0m - \u001b[1mbeta2: 0.9\u001b[0m\n",
      "\u001b[32m2022-06-14 09:40:10.493\u001b[0m | \u001b[1mINFO    \u001b[0m | \u001b[36msrc.beam.experiment\u001b[0m:\u001b[36m__init__\u001b[0m:\u001b[36m174\u001b[0m - \u001b[1mclip: 0.0\u001b[0m\n",
      "\u001b[32m2022-06-14 09:40:10.494\u001b[0m | \u001b[1mINFO    \u001b[0m | \u001b[36msrc.beam.experiment\u001b[0m:\u001b[36m__init__\u001b[0m:\u001b[36m174\u001b[0m - \u001b[1maccumulate: 1\u001b[0m\n",
      "\u001b[32m2022-06-14 09:40:10.495\u001b[0m | \u001b[1mINFO    \u001b[0m | \u001b[36msrc.beam.experiment\u001b[0m:\u001b[36m__init__\u001b[0m:\u001b[36m174\u001b[0m - \u001b[1mprint_results: False\u001b[0m\n",
      "\u001b[32m2022-06-14 09:40:10.495\u001b[0m | \u001b[1mINFO    \u001b[0m | \u001b[36msrc.beam.experiment\u001b[0m:\u001b[36m__init__\u001b[0m:\u001b[36m174\u001b[0m - \u001b[1mvisualize_weights: False\u001b[0m\n",
      "\u001b[32m2022-06-14 09:40:10.496\u001b[0m | \u001b[1mINFO    \u001b[0m | \u001b[36msrc.beam.experiment\u001b[0m:\u001b[36m__init__\u001b[0m:\u001b[36m174\u001b[0m - \u001b[1mvisualize_results: yes\u001b[0m\n",
      "\u001b[32m2022-06-14 09:40:10.497\u001b[0m | \u001b[1mINFO    \u001b[0m | \u001b[36msrc.beam.experiment\u001b[0m:\u001b[36m__init__\u001b[0m:\u001b[36m174\u001b[0m - \u001b[1mstore_results: logscale\u001b[0m\n",
      "\u001b[32m2022-06-14 09:40:10.497\u001b[0m | \u001b[1mINFO    \u001b[0m | \u001b[36msrc.beam.experiment\u001b[0m:\u001b[36m__init__\u001b[0m:\u001b[36m174\u001b[0m - \u001b[1mstore_networks: logscale\u001b[0m\n",
      "\u001b[32m2022-06-14 09:40:10.498\u001b[0m | \u001b[1mINFO    \u001b[0m | \u001b[36msrc.beam.experiment\u001b[0m:\u001b[36m__init__\u001b[0m:\u001b[36m174\u001b[0m - \u001b[1mpath_to_data: /localdata/elads/data/datasets/cifar10\u001b[0m\n",
      "\u001b[32m2022-06-14 09:40:10.499\u001b[0m | \u001b[1mINFO    \u001b[0m | \u001b[36msrc.beam.experiment\u001b[0m:\u001b[36m__init__\u001b[0m:\u001b[36m244\u001b[0m - \u001b[1mCreating new experiment\u001b[0m\n",
      "\u001b[32m2022-06-14 09:40:10.500\u001b[0m | \u001b[1mINFO    \u001b[0m | \u001b[36msrc.beam.experiment\u001b[0m:\u001b[36m__init__\u001b[0m:\u001b[36m259\u001b[0m - \u001b[1mExperiment directory is: /localdata/elads/data/cifar10/cifar10/CIFAR10Algorithm/debug_hp_optimization_20220614_093207_hp_optimization_20220614_093407_hp_optimization_20220614_093726/0003_20220614_094010\u001b[0m\n",
      "\u001b[32m2022-06-14 09:40:10.683\u001b[0m | \u001b[1mINFO    \u001b[0m | \u001b[36msrc.beam.experiment\u001b[0m:\u001b[36mrun\u001b[0m:\u001b[36m536\u001b[0m - \u001b[1mSingle worker mode\u001b[0m\n",
      "\u001b[32m2022-06-14 09:40:10.684\u001b[0m | \u001b[1mINFO    \u001b[0m | \u001b[36msrc.beam.experiment\u001b[0m:\u001b[36mrun_worker\u001b[0m:\u001b[36m47\u001b[0m - \u001b[1mWorker: 1/1 is running...\u001b[0m\n"
     ]
    },
    {
     "data": {
      "application/vnd.jupyter.widget-view+json": {
       "model_id": "4cdafca579a64724a08eebda8c08fce0",
       "version_major": 2,
       "version_minor": 0
      },
      "text/plain": [
       "train:   0%|          | 0/194 [00:00<?, ?it/s]"
      ]
     },
     "metadata": {},
     "output_type": "display_data"
    },
    {
     "data": {
      "application/vnd.jupyter.widget-view+json": {
       "model_id": "14c80cedca8e48f39116ac6f87fbdb00",
       "version_major": 2,
       "version_minor": 0
      },
      "text/plain": [
       "test:   0%|          | 0/9 [00:00<?, ?it/s]"
      ]
     },
     "metadata": {},
     "output_type": "display_data"
    },
    {
     "data": {
      "application/vnd.jupyter.widget-view+json": {
       "model_id": "8b76e58693844d76a3d23c61157e4465",
       "version_major": 2,
       "version_minor": 0
      },
      "text/plain": [
       "train:   0%|          | 0/194 [00:00<?, ?it/s]"
      ]
     },
     "metadata": {},
     "output_type": "display_data"
    },
    {
     "data": {
      "application/vnd.jupyter.widget-view+json": {
       "model_id": "74e34c5925614b7e822b00dec41e3655",
       "version_major": 2,
       "version_minor": 0
      },
      "text/plain": [
       "test:   0%|          | 0/9 [00:00<?, ?it/s]"
      ]
     },
     "metadata": {},
     "output_type": "display_data"
    },
    {
     "data": {
      "application/vnd.jupyter.widget-view+json": {
       "model_id": "0d5dede6cc6e4f0bb6091abba525e844",
       "version_major": 2,
       "version_minor": 0
      },
      "text/plain": [
       "train:   0%|          | 0/194 [00:00<?, ?it/s]"
      ]
     },
     "metadata": {},
     "output_type": "display_data"
    },
    {
     "data": {
      "application/vnd.jupyter.widget-view+json": {
       "model_id": "f42132323a4e43fc9314a968b8e0d88b",
       "version_major": 2,
       "version_minor": 0
      },
      "text/plain": [
       "test:   0%|          | 0/9 [00:00<?, ?it/s]"
      ]
     },
     "metadata": {},
     "output_type": "display_data"
    },
    {
     "data": {
      "application/vnd.jupyter.widget-view+json": {
       "model_id": "3962c8430b76480b8cbde417735877e6",
       "version_major": 2,
       "version_minor": 0
      },
      "text/plain": [
       "train:   0%|          | 0/194 [00:00<?, ?it/s]"
      ]
     },
     "metadata": {},
     "output_type": "display_data"
    },
    {
     "data": {
      "application/vnd.jupyter.widget-view+json": {
       "model_id": "d8619501b54f4e6e9867cb96ccd4f372",
       "version_major": 2,
       "version_minor": 0
      },
      "text/plain": [
       "test:   0%|          | 0/9 [00:00<?, ?it/s]"
      ]
     },
     "metadata": {},
     "output_type": "display_data"
    },
    {
     "name": "stderr",
     "output_type": "stream",
     "text": [
      "\u001b[32m[I 2022-06-14 09:41:07,001]\u001b[0m Trial 3 finished with value: 0.8373480902777778 and parameters: {'lr': 0.0027556186008022045}. Best is trial 3 with value: 0.8373480902777778.\u001b[0m\n"
     ]
    },
    {
     "name": "stdout",
     "output_type": "stream",
     "text": [
      "My suggestion\n",
      "0.0011192231046584593\n",
      "\u001b[32m2022-06-14 09:41:07.004\u001b[0m | \u001b[1mINFO    \u001b[0m | \u001b[36msrc.beam.experiment\u001b[0m:\u001b[36m__init__\u001b[0m:\u001b[36m169\u001b[0m - \u001b[1mbeam project: cifar10\u001b[0m\n",
      "\u001b[32m2022-06-14 09:41:07.005\u001b[0m | \u001b[1mINFO    \u001b[0m | \u001b[36msrc.beam.experiment\u001b[0m:\u001b[36m__init__\u001b[0m:\u001b[36m170\u001b[0m - \u001b[1mExperiment Hyperparameters\u001b[0m\n",
      "\u001b[32m2022-06-14 09:41:07.006\u001b[0m | \u001b[1mINFO    \u001b[0m | \u001b[36msrc.beam.experiment\u001b[0m:\u001b[36m__init__\u001b[0m:\u001b[36m174\u001b[0m - \u001b[1mproject_name: cifar10\u001b[0m\n",
      "\u001b[32m2022-06-14 09:41:07.007\u001b[0m | \u001b[1mINFO    \u001b[0m | \u001b[36msrc.beam.experiment\u001b[0m:\u001b[36m__init__\u001b[0m:\u001b[36m174\u001b[0m - \u001b[1midentifier: debug_hp_optimization_20220614_093207_hp_optimization_20220614_093407_hp_optimization_20220614_093726\u001b[0m\n",
      "\u001b[32m2022-06-14 09:41:07.008\u001b[0m | \u001b[1mINFO    \u001b[0m | \u001b[36msrc.beam.experiment\u001b[0m:\u001b[36m__init__\u001b[0m:\u001b[36m174\u001b[0m - \u001b[1malgorithm: CIFAR10Algorithm\u001b[0m\n",
      "\u001b[32m2022-06-14 09:41:07.008\u001b[0m | \u001b[1mINFO    \u001b[0m | \u001b[36msrc.beam.experiment\u001b[0m:\u001b[36m__init__\u001b[0m:\u001b[36m174\u001b[0m - \u001b[1mmp_port: None\u001b[0m\n",
      "\u001b[32m2022-06-14 09:41:07.009\u001b[0m | \u001b[1mINFO    \u001b[0m | \u001b[36msrc.beam.experiment\u001b[0m:\u001b[36m__init__\u001b[0m:\u001b[36m174\u001b[0m - \u001b[1mroot_dir: /localdata/elads/data/cifar10\u001b[0m\n",
      "\u001b[32m2022-06-14 09:41:07.010\u001b[0m | \u001b[1mINFO    \u001b[0m | \u001b[36msrc.beam.experiment\u001b[0m:\u001b[36m__init__\u001b[0m:\u001b[36m174\u001b[0m - \u001b[1mreload: False\u001b[0m\n",
      "\u001b[32m2022-06-14 09:41:07.011\u001b[0m | \u001b[1mINFO    \u001b[0m | \u001b[36msrc.beam.experiment\u001b[0m:\u001b[36m__init__\u001b[0m:\u001b[36m174\u001b[0m - \u001b[1mresume: -1\u001b[0m\n",
      "\u001b[32m2022-06-14 09:41:07.012\u001b[0m | \u001b[1mINFO    \u001b[0m | \u001b[36msrc.beam.experiment\u001b[0m:\u001b[36m__init__\u001b[0m:\u001b[36m174\u001b[0m - \u001b[1moverride: False\u001b[0m\n",
      "\u001b[32m2022-06-14 09:41:07.013\u001b[0m | \u001b[1mINFO    \u001b[0m | \u001b[36msrc.beam.experiment\u001b[0m:\u001b[36m__init__\u001b[0m:\u001b[36m174\u001b[0m - \u001b[1mcpu_workers: 0\u001b[0m\n",
      "\u001b[32m2022-06-14 09:41:07.013\u001b[0m | \u001b[1mINFO    \u001b[0m | \u001b[36msrc.beam.experiment\u001b[0m:\u001b[36m__init__\u001b[0m:\u001b[36m174\u001b[0m - \u001b[1mdevice: 1\u001b[0m\n",
      "\u001b[32m2022-06-14 09:41:07.015\u001b[0m | \u001b[1mINFO    \u001b[0m | \u001b[36msrc.beam.experiment\u001b[0m:\u001b[36m__init__\u001b[0m:\u001b[36m174\u001b[0m - \u001b[1mparallel: 1\u001b[0m\n",
      "\u001b[32m2022-06-14 09:41:07.015\u001b[0m | \u001b[1mINFO    \u001b[0m | \u001b[36msrc.beam.experiment\u001b[0m:\u001b[36m__init__\u001b[0m:\u001b[36m174\u001b[0m - \u001b[1mtensorboard: True\u001b[0m\n",
      "\u001b[32m2022-06-14 09:41:07.016\u001b[0m | \u001b[1mINFO    \u001b[0m | \u001b[36msrc.beam.experiment\u001b[0m:\u001b[36m__init__\u001b[0m:\u001b[36m174\u001b[0m - \u001b[1mlognet: True\u001b[0m\n",
      "\u001b[32m2022-06-14 09:41:07.017\u001b[0m | \u001b[1mINFO    \u001b[0m | \u001b[36msrc.beam.experiment\u001b[0m:\u001b[36m__init__\u001b[0m:\u001b[36m174\u001b[0m - \u001b[1mdeterministic: False\u001b[0m\n",
      "\u001b[32m2022-06-14 09:41:07.018\u001b[0m | \u001b[1mINFO    \u001b[0m | \u001b[36msrc.beam.experiment\u001b[0m:\u001b[36m__init__\u001b[0m:\u001b[36m174\u001b[0m - \u001b[1mscale_epoch_by_batch_size: True\u001b[0m\n",
      "\u001b[32m2022-06-14 09:41:07.019\u001b[0m | \u001b[1mINFO    \u001b[0m | \u001b[36msrc.beam.experiment\u001b[0m:\u001b[36m__init__\u001b[0m:\u001b[36m174\u001b[0m - \u001b[1mcudnn_benchmark: True\u001b[0m\n",
      "\u001b[32m2022-06-14 09:41:07.019\u001b[0m | \u001b[1mINFO    \u001b[0m | \u001b[36msrc.beam.experiment\u001b[0m:\u001b[36m__init__\u001b[0m:\u001b[36m174\u001b[0m - \u001b[1mhalf: True\u001b[0m\n",
      "\u001b[32m2022-06-14 09:41:07.020\u001b[0m | \u001b[1mINFO    \u001b[0m | \u001b[36msrc.beam.experiment\u001b[0m:\u001b[36m__init__\u001b[0m:\u001b[36m174\u001b[0m - \u001b[1mamp: False\u001b[0m\n",
      "\u001b[32m2022-06-14 09:41:07.021\u001b[0m | \u001b[1mINFO    \u001b[0m | \u001b[36msrc.beam.experiment\u001b[0m:\u001b[36m__init__\u001b[0m:\u001b[36m174\u001b[0m - \u001b[1minit: ortho\u001b[0m\n",
      "\u001b[32m2022-06-14 09:41:07.022\u001b[0m | \u001b[1mINFO    \u001b[0m | \u001b[36msrc.beam.experiment\u001b[0m:\u001b[36m__init__\u001b[0m:\u001b[36m174\u001b[0m - \u001b[1mseed: 0\u001b[0m\n",
      "\u001b[32m2022-06-14 09:41:07.023\u001b[0m | \u001b[1mINFO    \u001b[0m | \u001b[36msrc.beam.experiment\u001b[0m:\u001b[36m__init__\u001b[0m:\u001b[36m174\u001b[0m - \u001b[1mtotal_steps: 1000000\u001b[0m\n",
      "\u001b[32m2022-06-14 09:41:07.023\u001b[0m | \u001b[1mINFO    \u001b[0m | \u001b[36msrc.beam.experiment\u001b[0m:\u001b[36m__init__\u001b[0m:\u001b[36m174\u001b[0m - \u001b[1mepoch_length: None\u001b[0m\n",
      "\u001b[32m2022-06-14 09:41:07.024\u001b[0m | \u001b[1mINFO    \u001b[0m | \u001b[36msrc.beam.experiment\u001b[0m:\u001b[36m__init__\u001b[0m:\u001b[36m174\u001b[0m - \u001b[1mepoch_length_train: 200000\u001b[0m\n",
      "\u001b[32m2022-06-14 09:41:07.025\u001b[0m | \u001b[1mINFO    \u001b[0m | \u001b[36msrc.beam.experiment\u001b[0m:\u001b[36m__init__\u001b[0m:\u001b[36m174\u001b[0m - \u001b[1mepoch_length_eval: 10000\u001b[0m\n",
      "\u001b[32m2022-06-14 09:41:07.026\u001b[0m | \u001b[1mINFO    \u001b[0m | \u001b[36msrc.beam.experiment\u001b[0m:\u001b[36m__init__\u001b[0m:\u001b[36m174\u001b[0m - \u001b[1mn_epochs: 4\u001b[0m\n",
      "\u001b[32m2022-06-14 09:41:07.027\u001b[0m | \u001b[1mINFO    \u001b[0m | \u001b[36msrc.beam.experiment\u001b[0m:\u001b[36m__init__\u001b[0m:\u001b[36m174\u001b[0m - \u001b[1mbatch_size: 1024\u001b[0m\n",
      "\u001b[32m2022-06-14 09:41:07.027\u001b[0m | \u001b[1mINFO    \u001b[0m | \u001b[36msrc.beam.experiment\u001b[0m:\u001b[36m__init__\u001b[0m:\u001b[36m174\u001b[0m - \u001b[1mbatch_size_train: None\u001b[0m\n",
      "\u001b[32m2022-06-14 09:41:07.028\u001b[0m | \u001b[1mINFO    \u001b[0m | \u001b[36msrc.beam.experiment\u001b[0m:\u001b[36m__init__\u001b[0m:\u001b[36m174\u001b[0m - \u001b[1mbatch_size_eval: None\u001b[0m\n",
      "\u001b[32m2022-06-14 09:41:07.029\u001b[0m | \u001b[1mINFO    \u001b[0m | \u001b[36msrc.beam.experiment\u001b[0m:\u001b[36m__init__\u001b[0m:\u001b[36m174\u001b[0m - \u001b[1mlr_dense: 0.0011192231046584593\u001b[0m\n",
      "\u001b[32m2022-06-14 09:41:07.030\u001b[0m | \u001b[1mINFO    \u001b[0m | \u001b[36msrc.beam.experiment\u001b[0m:\u001b[36m__init__\u001b[0m:\u001b[36m174\u001b[0m - \u001b[1mlr_sparse: 0.01\u001b[0m\n",
      "\u001b[32m2022-06-14 09:41:07.031\u001b[0m | \u001b[1mINFO    \u001b[0m | \u001b[36msrc.beam.experiment\u001b[0m:\u001b[36m__init__\u001b[0m:\u001b[36m174\u001b[0m - \u001b[1mweight_decay: 1e-05\u001b[0m\n",
      "\u001b[32m2022-06-14 09:41:07.032\u001b[0m | \u001b[1mINFO    \u001b[0m | \u001b[36msrc.beam.experiment\u001b[0m:\u001b[36m__init__\u001b[0m:\u001b[36m174\u001b[0m - \u001b[1meps: 0.0001\u001b[0m\n",
      "\u001b[32m2022-06-14 09:41:07.032\u001b[0m | \u001b[1mINFO    \u001b[0m | \u001b[36msrc.beam.experiment\u001b[0m:\u001b[36m__init__\u001b[0m:\u001b[36m174\u001b[0m - \u001b[1mbeta1: 0.9\u001b[0m\n",
      "\u001b[32m2022-06-14 09:41:07.033\u001b[0m | \u001b[1mINFO    \u001b[0m | \u001b[36msrc.beam.experiment\u001b[0m:\u001b[36m__init__\u001b[0m:\u001b[36m174\u001b[0m - \u001b[1mbeta2: 0.9\u001b[0m\n",
      "\u001b[32m2022-06-14 09:41:07.034\u001b[0m | \u001b[1mINFO    \u001b[0m | \u001b[36msrc.beam.experiment\u001b[0m:\u001b[36m__init__\u001b[0m:\u001b[36m174\u001b[0m - \u001b[1mclip: 0.0\u001b[0m\n",
      "\u001b[32m2022-06-14 09:41:07.035\u001b[0m | \u001b[1mINFO    \u001b[0m | \u001b[36msrc.beam.experiment\u001b[0m:\u001b[36m__init__\u001b[0m:\u001b[36m174\u001b[0m - \u001b[1maccumulate: 1\u001b[0m\n",
      "\u001b[32m2022-06-14 09:41:07.036\u001b[0m | \u001b[1mINFO    \u001b[0m | \u001b[36msrc.beam.experiment\u001b[0m:\u001b[36m__init__\u001b[0m:\u001b[36m174\u001b[0m - \u001b[1mprint_results: False\u001b[0m\n",
      "\u001b[32m2022-06-14 09:41:07.037\u001b[0m | \u001b[1mINFO    \u001b[0m | \u001b[36msrc.beam.experiment\u001b[0m:\u001b[36m__init__\u001b[0m:\u001b[36m174\u001b[0m - \u001b[1mvisualize_weights: False\u001b[0m\n",
      "\u001b[32m2022-06-14 09:41:07.038\u001b[0m | \u001b[1mINFO    \u001b[0m | \u001b[36msrc.beam.experiment\u001b[0m:\u001b[36m__init__\u001b[0m:\u001b[36m174\u001b[0m - \u001b[1mvisualize_results: yes\u001b[0m\n",
      "\u001b[32m2022-06-14 09:41:07.039\u001b[0m | \u001b[1mINFO    \u001b[0m | \u001b[36msrc.beam.experiment\u001b[0m:\u001b[36m__init__\u001b[0m:\u001b[36m174\u001b[0m - \u001b[1mstore_results: logscale\u001b[0m\n",
      "\u001b[32m2022-06-14 09:41:07.040\u001b[0m | \u001b[1mINFO    \u001b[0m | \u001b[36msrc.beam.experiment\u001b[0m:\u001b[36m__init__\u001b[0m:\u001b[36m174\u001b[0m - \u001b[1mstore_networks: logscale\u001b[0m\n",
      "\u001b[32m2022-06-14 09:41:07.040\u001b[0m | \u001b[1mINFO    \u001b[0m | \u001b[36msrc.beam.experiment\u001b[0m:\u001b[36m__init__\u001b[0m:\u001b[36m174\u001b[0m - \u001b[1mpath_to_data: /localdata/elads/data/datasets/cifar10\u001b[0m\n",
      "\u001b[32m2022-06-14 09:41:07.043\u001b[0m | \u001b[1mINFO    \u001b[0m | \u001b[36msrc.beam.experiment\u001b[0m:\u001b[36m__init__\u001b[0m:\u001b[36m244\u001b[0m - \u001b[1mCreating new experiment\u001b[0m\n",
      "\u001b[32m2022-06-14 09:41:07.043\u001b[0m | \u001b[1mINFO    \u001b[0m | \u001b[36msrc.beam.experiment\u001b[0m:\u001b[36m__init__\u001b[0m:\u001b[36m259\u001b[0m - \u001b[1mExperiment directory is: /localdata/elads/data/cifar10/cifar10/CIFAR10Algorithm/debug_hp_optimization_20220614_093207_hp_optimization_20220614_093407_hp_optimization_20220614_093726/0004_20220614_094107\u001b[0m\n",
      "\u001b[32m2022-06-14 09:41:07.278\u001b[0m | \u001b[1mINFO    \u001b[0m | \u001b[36msrc.beam.experiment\u001b[0m:\u001b[36mrun\u001b[0m:\u001b[36m536\u001b[0m - \u001b[1mSingle worker mode\u001b[0m\n",
      "\u001b[32m2022-06-14 09:41:07.280\u001b[0m | \u001b[1mINFO    \u001b[0m | \u001b[36msrc.beam.experiment\u001b[0m:\u001b[36mrun_worker\u001b[0m:\u001b[36m47\u001b[0m - \u001b[1mWorker: 1/1 is running...\u001b[0m\n"
     ]
    },
    {
     "data": {
      "application/vnd.jupyter.widget-view+json": {
       "model_id": "0ecde35035aa4166ac1fcf741b8468e0",
       "version_major": 2,
       "version_minor": 0
      },
      "text/plain": [
       "train:   0%|          | 0/194 [00:00<?, ?it/s]"
      ]
     },
     "metadata": {},
     "output_type": "display_data"
    },
    {
     "data": {
      "application/vnd.jupyter.widget-view+json": {
       "model_id": "b0f7a78a8b174c969830b58602d9d8c5",
       "version_major": 2,
       "version_minor": 0
      },
      "text/plain": [
       "test:   0%|          | 0/9 [00:00<?, ?it/s]"
      ]
     },
     "metadata": {},
     "output_type": "display_data"
    },
    {
     "data": {
      "application/vnd.jupyter.widget-view+json": {
       "model_id": "f97880d3010b44e0a05d774c6e9c5a8d",
       "version_major": 2,
       "version_minor": 0
      },
      "text/plain": [
       "train:   0%|          | 0/194 [00:00<?, ?it/s]"
      ]
     },
     "metadata": {},
     "output_type": "display_data"
    },
    {
     "data": {
      "application/vnd.jupyter.widget-view+json": {
       "model_id": "ee0f3c222aed42a5a376e069f77b92b7",
       "version_major": 2,
       "version_minor": 0
      },
      "text/plain": [
       "test:   0%|          | 0/9 [00:00<?, ?it/s]"
      ]
     },
     "metadata": {},
     "output_type": "display_data"
    },
    {
     "data": {
      "application/vnd.jupyter.widget-view+json": {
       "model_id": "c7e5a47728f449068155d235679d379c",
       "version_major": 2,
       "version_minor": 0
      },
      "text/plain": [
       "train:   0%|          | 0/194 [00:00<?, ?it/s]"
      ]
     },
     "metadata": {},
     "output_type": "display_data"
    },
    {
     "data": {
      "application/vnd.jupyter.widget-view+json": {
       "model_id": "c068b1d3f0134340913e52924e8117dd",
       "version_major": 2,
       "version_minor": 0
      },
      "text/plain": [
       "test:   0%|          | 0/9 [00:00<?, ?it/s]"
      ]
     },
     "metadata": {},
     "output_type": "display_data"
    },
    {
     "data": {
      "application/vnd.jupyter.widget-view+json": {
       "model_id": "859b1cc666564780ab8d7df70f3dc2fe",
       "version_major": 2,
       "version_minor": 0
      },
      "text/plain": [
       "train:   0%|          | 0/194 [00:00<?, ?it/s]"
      ]
     },
     "metadata": {},
     "output_type": "display_data"
    },
    {
     "data": {
      "application/vnd.jupyter.widget-view+json": {
       "model_id": "8fa793dc4a2d4646a92d520dad1517ad",
       "version_major": 2,
       "version_minor": 0
      },
      "text/plain": [
       "test:   0%|          | 0/9 [00:00<?, ?it/s]"
      ]
     },
     "metadata": {},
     "output_type": "display_data"
    },
    {
     "name": "stderr",
     "output_type": "stream",
     "text": [
      "\u001b[32m[I 2022-06-14 09:42:03,956]\u001b[0m Trial 4 finished with value: 0.7991536458333334 and parameters: {'lr': 0.0011192231046584593}. Best is trial 3 with value: 0.8373480902777778.\u001b[0m\n"
     ]
    },
    {
     "name": "stdout",
     "output_type": "stream",
     "text": [
      "My suggestion\n",
      "0.00388837124079873\n",
      "\u001b[32m2022-06-14 09:42:03.958\u001b[0m | \u001b[1mINFO    \u001b[0m | \u001b[36msrc.beam.experiment\u001b[0m:\u001b[36m__init__\u001b[0m:\u001b[36m169\u001b[0m - \u001b[1mbeam project: cifar10\u001b[0m\n",
      "\u001b[32m2022-06-14 09:42:03.959\u001b[0m | \u001b[1mINFO    \u001b[0m | \u001b[36msrc.beam.experiment\u001b[0m:\u001b[36m__init__\u001b[0m:\u001b[36m170\u001b[0m - \u001b[1mExperiment Hyperparameters\u001b[0m\n",
      "\u001b[32m2022-06-14 09:42:03.960\u001b[0m | \u001b[1mINFO    \u001b[0m | \u001b[36msrc.beam.experiment\u001b[0m:\u001b[36m__init__\u001b[0m:\u001b[36m174\u001b[0m - \u001b[1mproject_name: cifar10\u001b[0m\n",
      "\u001b[32m2022-06-14 09:42:03.961\u001b[0m | \u001b[1mINFO    \u001b[0m | \u001b[36msrc.beam.experiment\u001b[0m:\u001b[36m__init__\u001b[0m:\u001b[36m174\u001b[0m - \u001b[1midentifier: debug_hp_optimization_20220614_093207_hp_optimization_20220614_093407_hp_optimization_20220614_093726\u001b[0m\n",
      "\u001b[32m2022-06-14 09:42:03.961\u001b[0m | \u001b[1mINFO    \u001b[0m | \u001b[36msrc.beam.experiment\u001b[0m:\u001b[36m__init__\u001b[0m:\u001b[36m174\u001b[0m - \u001b[1malgorithm: CIFAR10Algorithm\u001b[0m\n",
      "\u001b[32m2022-06-14 09:42:03.962\u001b[0m | \u001b[1mINFO    \u001b[0m | \u001b[36msrc.beam.experiment\u001b[0m:\u001b[36m__init__\u001b[0m:\u001b[36m174\u001b[0m - \u001b[1mmp_port: None\u001b[0m\n",
      "\u001b[32m2022-06-14 09:42:03.963\u001b[0m | \u001b[1mINFO    \u001b[0m | \u001b[36msrc.beam.experiment\u001b[0m:\u001b[36m__init__\u001b[0m:\u001b[36m174\u001b[0m - \u001b[1mroot_dir: /localdata/elads/data/cifar10\u001b[0m\n",
      "\u001b[32m2022-06-14 09:42:03.964\u001b[0m | \u001b[1mINFO    \u001b[0m | \u001b[36msrc.beam.experiment\u001b[0m:\u001b[36m__init__\u001b[0m:\u001b[36m174\u001b[0m - \u001b[1mreload: False\u001b[0m\n",
      "\u001b[32m2022-06-14 09:42:03.964\u001b[0m | \u001b[1mINFO    \u001b[0m | \u001b[36msrc.beam.experiment\u001b[0m:\u001b[36m__init__\u001b[0m:\u001b[36m174\u001b[0m - \u001b[1mresume: -1\u001b[0m\n",
      "\u001b[32m2022-06-14 09:42:03.965\u001b[0m | \u001b[1mINFO    \u001b[0m | \u001b[36msrc.beam.experiment\u001b[0m:\u001b[36m__init__\u001b[0m:\u001b[36m174\u001b[0m - \u001b[1moverride: False\u001b[0m\n",
      "\u001b[32m2022-06-14 09:42:03.966\u001b[0m | \u001b[1mINFO    \u001b[0m | \u001b[36msrc.beam.experiment\u001b[0m:\u001b[36m__init__\u001b[0m:\u001b[36m174\u001b[0m - \u001b[1mcpu_workers: 0\u001b[0m\n",
      "\u001b[32m2022-06-14 09:42:03.967\u001b[0m | \u001b[1mINFO    \u001b[0m | \u001b[36msrc.beam.experiment\u001b[0m:\u001b[36m__init__\u001b[0m:\u001b[36m174\u001b[0m - \u001b[1mdevice: 1\u001b[0m\n",
      "\u001b[32m2022-06-14 09:42:03.967\u001b[0m | \u001b[1mINFO    \u001b[0m | \u001b[36msrc.beam.experiment\u001b[0m:\u001b[36m__init__\u001b[0m:\u001b[36m174\u001b[0m - \u001b[1mparallel: 1\u001b[0m\n",
      "\u001b[32m2022-06-14 09:42:03.968\u001b[0m | \u001b[1mINFO    \u001b[0m | \u001b[36msrc.beam.experiment\u001b[0m:\u001b[36m__init__\u001b[0m:\u001b[36m174\u001b[0m - \u001b[1mtensorboard: True\u001b[0m\n",
      "\u001b[32m2022-06-14 09:42:03.969\u001b[0m | \u001b[1mINFO    \u001b[0m | \u001b[36msrc.beam.experiment\u001b[0m:\u001b[36m__init__\u001b[0m:\u001b[36m174\u001b[0m - \u001b[1mlognet: True\u001b[0m\n",
      "\u001b[32m2022-06-14 09:42:03.969\u001b[0m | \u001b[1mINFO    \u001b[0m | \u001b[36msrc.beam.experiment\u001b[0m:\u001b[36m__init__\u001b[0m:\u001b[36m174\u001b[0m - \u001b[1mdeterministic: False\u001b[0m\n",
      "\u001b[32m2022-06-14 09:42:03.970\u001b[0m | \u001b[1mINFO    \u001b[0m | \u001b[36msrc.beam.experiment\u001b[0m:\u001b[36m__init__\u001b[0m:\u001b[36m174\u001b[0m - \u001b[1mscale_epoch_by_batch_size: True\u001b[0m\n",
      "\u001b[32m2022-06-14 09:42:03.971\u001b[0m | \u001b[1mINFO    \u001b[0m | \u001b[36msrc.beam.experiment\u001b[0m:\u001b[36m__init__\u001b[0m:\u001b[36m174\u001b[0m - \u001b[1mcudnn_benchmark: True\u001b[0m\n",
      "\u001b[32m2022-06-14 09:42:03.971\u001b[0m | \u001b[1mINFO    \u001b[0m | \u001b[36msrc.beam.experiment\u001b[0m:\u001b[36m__init__\u001b[0m:\u001b[36m174\u001b[0m - \u001b[1mhalf: True\u001b[0m\n",
      "\u001b[32m2022-06-14 09:42:03.972\u001b[0m | \u001b[1mINFO    \u001b[0m | \u001b[36msrc.beam.experiment\u001b[0m:\u001b[36m__init__\u001b[0m:\u001b[36m174\u001b[0m - \u001b[1mamp: False\u001b[0m\n",
      "\u001b[32m2022-06-14 09:42:03.973\u001b[0m | \u001b[1mINFO    \u001b[0m | \u001b[36msrc.beam.experiment\u001b[0m:\u001b[36m__init__\u001b[0m:\u001b[36m174\u001b[0m - \u001b[1minit: ortho\u001b[0m\n",
      "\u001b[32m2022-06-14 09:42:03.973\u001b[0m | \u001b[1mINFO    \u001b[0m | \u001b[36msrc.beam.experiment\u001b[0m:\u001b[36m__init__\u001b[0m:\u001b[36m174\u001b[0m - \u001b[1mseed: 0\u001b[0m\n",
      "\u001b[32m2022-06-14 09:42:03.974\u001b[0m | \u001b[1mINFO    \u001b[0m | \u001b[36msrc.beam.experiment\u001b[0m:\u001b[36m__init__\u001b[0m:\u001b[36m174\u001b[0m - \u001b[1mtotal_steps: 1000000\u001b[0m\n",
      "\u001b[32m2022-06-14 09:42:03.975\u001b[0m | \u001b[1mINFO    \u001b[0m | \u001b[36msrc.beam.experiment\u001b[0m:\u001b[36m__init__\u001b[0m:\u001b[36m174\u001b[0m - \u001b[1mepoch_length: None\u001b[0m\n",
      "\u001b[32m2022-06-14 09:42:03.975\u001b[0m | \u001b[1mINFO    \u001b[0m | \u001b[36msrc.beam.experiment\u001b[0m:\u001b[36m__init__\u001b[0m:\u001b[36m174\u001b[0m - \u001b[1mepoch_length_train: 200000\u001b[0m\n",
      "\u001b[32m2022-06-14 09:42:03.976\u001b[0m | \u001b[1mINFO    \u001b[0m | \u001b[36msrc.beam.experiment\u001b[0m:\u001b[36m__init__\u001b[0m:\u001b[36m174\u001b[0m - \u001b[1mepoch_length_eval: 10000\u001b[0m\n",
      "\u001b[32m2022-06-14 09:42:03.977\u001b[0m | \u001b[1mINFO    \u001b[0m | \u001b[36msrc.beam.experiment\u001b[0m:\u001b[36m__init__\u001b[0m:\u001b[36m174\u001b[0m - \u001b[1mn_epochs: 4\u001b[0m\n",
      "\u001b[32m2022-06-14 09:42:03.977\u001b[0m | \u001b[1mINFO    \u001b[0m | \u001b[36msrc.beam.experiment\u001b[0m:\u001b[36m__init__\u001b[0m:\u001b[36m174\u001b[0m - \u001b[1mbatch_size: 1024\u001b[0m\n",
      "\u001b[32m2022-06-14 09:42:03.978\u001b[0m | \u001b[1mINFO    \u001b[0m | \u001b[36msrc.beam.experiment\u001b[0m:\u001b[36m__init__\u001b[0m:\u001b[36m174\u001b[0m - \u001b[1mbatch_size_train: None\u001b[0m\n",
      "\u001b[32m2022-06-14 09:42:03.979\u001b[0m | \u001b[1mINFO    \u001b[0m | \u001b[36msrc.beam.experiment\u001b[0m:\u001b[36m__init__\u001b[0m:\u001b[36m174\u001b[0m - \u001b[1mbatch_size_eval: None\u001b[0m\n",
      "\u001b[32m2022-06-14 09:42:03.979\u001b[0m | \u001b[1mINFO    \u001b[0m | \u001b[36msrc.beam.experiment\u001b[0m:\u001b[36m__init__\u001b[0m:\u001b[36m174\u001b[0m - \u001b[1mlr_dense: 0.00388837124079873\u001b[0m\n",
      "\u001b[32m2022-06-14 09:42:03.980\u001b[0m | \u001b[1mINFO    \u001b[0m | \u001b[36msrc.beam.experiment\u001b[0m:\u001b[36m__init__\u001b[0m:\u001b[36m174\u001b[0m - \u001b[1mlr_sparse: 0.01\u001b[0m\n",
      "\u001b[32m2022-06-14 09:42:03.981\u001b[0m | \u001b[1mINFO    \u001b[0m | \u001b[36msrc.beam.experiment\u001b[0m:\u001b[36m__init__\u001b[0m:\u001b[36m174\u001b[0m - \u001b[1mweight_decay: 1e-05\u001b[0m\n",
      "\u001b[32m2022-06-14 09:42:03.981\u001b[0m | \u001b[1mINFO    \u001b[0m | \u001b[36msrc.beam.experiment\u001b[0m:\u001b[36m__init__\u001b[0m:\u001b[36m174\u001b[0m - \u001b[1meps: 0.0001\u001b[0m\n",
      "\u001b[32m2022-06-14 09:42:03.982\u001b[0m | \u001b[1mINFO    \u001b[0m | \u001b[36msrc.beam.experiment\u001b[0m:\u001b[36m__init__\u001b[0m:\u001b[36m174\u001b[0m - \u001b[1mbeta1: 0.9\u001b[0m\n",
      "\u001b[32m2022-06-14 09:42:03.982\u001b[0m | \u001b[1mINFO    \u001b[0m | \u001b[36msrc.beam.experiment\u001b[0m:\u001b[36m__init__\u001b[0m:\u001b[36m174\u001b[0m - \u001b[1mbeta2: 0.9\u001b[0m\n",
      "\u001b[32m2022-06-14 09:42:03.983\u001b[0m | \u001b[1mINFO    \u001b[0m | \u001b[36msrc.beam.experiment\u001b[0m:\u001b[36m__init__\u001b[0m:\u001b[36m174\u001b[0m - \u001b[1mclip: 0.0\u001b[0m\n",
      "\u001b[32m2022-06-14 09:42:03.984\u001b[0m | \u001b[1mINFO    \u001b[0m | \u001b[36msrc.beam.experiment\u001b[0m:\u001b[36m__init__\u001b[0m:\u001b[36m174\u001b[0m - \u001b[1maccumulate: 1\u001b[0m\n",
      "\u001b[32m2022-06-14 09:42:03.984\u001b[0m | \u001b[1mINFO    \u001b[0m | \u001b[36msrc.beam.experiment\u001b[0m:\u001b[36m__init__\u001b[0m:\u001b[36m174\u001b[0m - \u001b[1mprint_results: False\u001b[0m\n",
      "\u001b[32m2022-06-14 09:42:03.985\u001b[0m | \u001b[1mINFO    \u001b[0m | \u001b[36msrc.beam.experiment\u001b[0m:\u001b[36m__init__\u001b[0m:\u001b[36m174\u001b[0m - \u001b[1mvisualize_weights: False\u001b[0m\n",
      "\u001b[32m2022-06-14 09:42:03.986\u001b[0m | \u001b[1mINFO    \u001b[0m | \u001b[36msrc.beam.experiment\u001b[0m:\u001b[36m__init__\u001b[0m:\u001b[36m174\u001b[0m - \u001b[1mvisualize_results: yes\u001b[0m\n",
      "\u001b[32m2022-06-14 09:42:03.986\u001b[0m | \u001b[1mINFO    \u001b[0m | \u001b[36msrc.beam.experiment\u001b[0m:\u001b[36m__init__\u001b[0m:\u001b[36m174\u001b[0m - \u001b[1mstore_results: logscale\u001b[0m\n",
      "\u001b[32m2022-06-14 09:42:03.987\u001b[0m | \u001b[1mINFO    \u001b[0m | \u001b[36msrc.beam.experiment\u001b[0m:\u001b[36m__init__\u001b[0m:\u001b[36m174\u001b[0m - \u001b[1mstore_networks: logscale\u001b[0m\n",
      "\u001b[32m2022-06-14 09:42:03.988\u001b[0m | \u001b[1mINFO    \u001b[0m | \u001b[36msrc.beam.experiment\u001b[0m:\u001b[36m__init__\u001b[0m:\u001b[36m174\u001b[0m - \u001b[1mpath_to_data: /localdata/elads/data/datasets/cifar10\u001b[0m\n",
      "\u001b[32m2022-06-14 09:42:03.989\u001b[0m | \u001b[1mINFO    \u001b[0m | \u001b[36msrc.beam.experiment\u001b[0m:\u001b[36m__init__\u001b[0m:\u001b[36m244\u001b[0m - \u001b[1mCreating new experiment\u001b[0m\n",
      "\u001b[32m2022-06-14 09:42:03.990\u001b[0m | \u001b[1mINFO    \u001b[0m | \u001b[36msrc.beam.experiment\u001b[0m:\u001b[36m__init__\u001b[0m:\u001b[36m259\u001b[0m - \u001b[1mExperiment directory is: /localdata/elads/data/cifar10/cifar10/CIFAR10Algorithm/debug_hp_optimization_20220614_093207_hp_optimization_20220614_093407_hp_optimization_20220614_093726/0005_20220614_094203\u001b[0m\n",
      "\u001b[32m2022-06-14 09:42:04.178\u001b[0m | \u001b[1mINFO    \u001b[0m | \u001b[36msrc.beam.experiment\u001b[0m:\u001b[36mrun\u001b[0m:\u001b[36m536\u001b[0m - \u001b[1mSingle worker mode\u001b[0m\n",
      "\u001b[32m2022-06-14 09:42:04.179\u001b[0m | \u001b[1mINFO    \u001b[0m | \u001b[36msrc.beam.experiment\u001b[0m:\u001b[36mrun_worker\u001b[0m:\u001b[36m47\u001b[0m - \u001b[1mWorker: 1/1 is running...\u001b[0m\n"
     ]
    },
    {
     "data": {
      "application/vnd.jupyter.widget-view+json": {
       "model_id": "9cd9c6558dae471987a8344f0cebd077",
       "version_major": 2,
       "version_minor": 0
      },
      "text/plain": [
       "train:   0%|          | 0/194 [00:00<?, ?it/s]"
      ]
     },
     "metadata": {},
     "output_type": "display_data"
    },
    {
     "data": {
      "application/vnd.jupyter.widget-view+json": {
       "model_id": "e36c278ab9a048b09d92dc22d89f2317",
       "version_major": 2,
       "version_minor": 0
      },
      "text/plain": [
       "test:   0%|          | 0/9 [00:00<?, ?it/s]"
      ]
     },
     "metadata": {},
     "output_type": "display_data"
    },
    {
     "data": {
      "application/vnd.jupyter.widget-view+json": {
       "model_id": "2e1f9e4d5ca14278818458a7da2522da",
       "version_major": 2,
       "version_minor": 0
      },
      "text/plain": [
       "train:   0%|          | 0/194 [00:00<?, ?it/s]"
      ]
     },
     "metadata": {},
     "output_type": "display_data"
    },
    {
     "data": {
      "application/vnd.jupyter.widget-view+json": {
       "model_id": "23247693ff1546fcb9572d1fa01bf423",
       "version_major": 2,
       "version_minor": 0
      },
      "text/plain": [
       "test:   0%|          | 0/9 [00:00<?, ?it/s]"
      ]
     },
     "metadata": {},
     "output_type": "display_data"
    },
    {
     "data": {
      "application/vnd.jupyter.widget-view+json": {
       "model_id": "bf7d02e3802542f38d819e759d6e9d67",
       "version_major": 2,
       "version_minor": 0
      },
      "text/plain": [
       "train:   0%|          | 0/194 [00:00<?, ?it/s]"
      ]
     },
     "metadata": {},
     "output_type": "display_data"
    },
    {
     "data": {
      "application/vnd.jupyter.widget-view+json": {
       "model_id": "a114bc1b70a846b48f199b476735bd1b",
       "version_major": 2,
       "version_minor": 0
      },
      "text/plain": [
       "test:   0%|          | 0/9 [00:00<?, ?it/s]"
      ]
     },
     "metadata": {},
     "output_type": "display_data"
    },
    {
     "data": {
      "application/vnd.jupyter.widget-view+json": {
       "model_id": "dae3da80c5b24768a231c14cc3e14a01",
       "version_major": 2,
       "version_minor": 0
      },
      "text/plain": [
       "train:   0%|          | 0/194 [00:00<?, ?it/s]"
      ]
     },
     "metadata": {},
     "output_type": "display_data"
    },
    {
     "data": {
      "application/vnd.jupyter.widget-view+json": {
       "model_id": "299b71d5fd01458589b5257e06245bfd",
       "version_major": 2,
       "version_minor": 0
      },
      "text/plain": [
       "test:   0%|          | 0/9 [00:00<?, ?it/s]"
      ]
     },
     "metadata": {},
     "output_type": "display_data"
    },
    {
     "name": "stderr",
     "output_type": "stream",
     "text": [
      "\u001b[32m[I 2022-06-14 09:43:00,569]\u001b[0m Trial 5 finished with value: 0.8327907986111112 and parameters: {'lr': 0.00388837124079873}. Best is trial 3 with value: 0.8373480902777778.\u001b[0m\n"
     ]
    },
    {
     "name": "stdout",
     "output_type": "stream",
     "text": [
      "My suggestion\n",
      "0.00320599649799676\n",
      "\u001b[32m2022-06-14 09:43:00.572\u001b[0m | \u001b[1mINFO    \u001b[0m | \u001b[36msrc.beam.experiment\u001b[0m:\u001b[36m__init__\u001b[0m:\u001b[36m169\u001b[0m - \u001b[1mbeam project: cifar10\u001b[0m\n",
      "\u001b[32m2022-06-14 09:43:00.573\u001b[0m | \u001b[1mINFO    \u001b[0m | \u001b[36msrc.beam.experiment\u001b[0m:\u001b[36m__init__\u001b[0m:\u001b[36m170\u001b[0m - \u001b[1mExperiment Hyperparameters\u001b[0m\n",
      "\u001b[32m2022-06-14 09:43:00.573\u001b[0m | \u001b[1mINFO    \u001b[0m | \u001b[36msrc.beam.experiment\u001b[0m:\u001b[36m__init__\u001b[0m:\u001b[36m174\u001b[0m - \u001b[1mproject_name: cifar10\u001b[0m\n",
      "\u001b[32m2022-06-14 09:43:00.574\u001b[0m | \u001b[1mINFO    \u001b[0m | \u001b[36msrc.beam.experiment\u001b[0m:\u001b[36m__init__\u001b[0m:\u001b[36m174\u001b[0m - \u001b[1midentifier: debug_hp_optimization_20220614_093207_hp_optimization_20220614_093407_hp_optimization_20220614_093726\u001b[0m\n",
      "\u001b[32m2022-06-14 09:43:00.575\u001b[0m | \u001b[1mINFO    \u001b[0m | \u001b[36msrc.beam.experiment\u001b[0m:\u001b[36m__init__\u001b[0m:\u001b[36m174\u001b[0m - \u001b[1malgorithm: CIFAR10Algorithm\u001b[0m\n",
      "\u001b[32m2022-06-14 09:43:00.576\u001b[0m | \u001b[1mINFO    \u001b[0m | \u001b[36msrc.beam.experiment\u001b[0m:\u001b[36m__init__\u001b[0m:\u001b[36m174\u001b[0m - \u001b[1mmp_port: None\u001b[0m\n",
      "\u001b[32m2022-06-14 09:43:00.577\u001b[0m | \u001b[1mINFO    \u001b[0m | \u001b[36msrc.beam.experiment\u001b[0m:\u001b[36m__init__\u001b[0m:\u001b[36m174\u001b[0m - \u001b[1mroot_dir: /localdata/elads/data/cifar10\u001b[0m\n",
      "\u001b[32m2022-06-14 09:43:00.578\u001b[0m | \u001b[1mINFO    \u001b[0m | \u001b[36msrc.beam.experiment\u001b[0m:\u001b[36m__init__\u001b[0m:\u001b[36m174\u001b[0m - \u001b[1mreload: False\u001b[0m\n",
      "\u001b[32m2022-06-14 09:43:00.578\u001b[0m | \u001b[1mINFO    \u001b[0m | \u001b[36msrc.beam.experiment\u001b[0m:\u001b[36m__init__\u001b[0m:\u001b[36m174\u001b[0m - \u001b[1mresume: -1\u001b[0m\n",
      "\u001b[32m2022-06-14 09:43:00.579\u001b[0m | \u001b[1mINFO    \u001b[0m | \u001b[36msrc.beam.experiment\u001b[0m:\u001b[36m__init__\u001b[0m:\u001b[36m174\u001b[0m - \u001b[1moverride: False\u001b[0m\n",
      "\u001b[32m2022-06-14 09:43:00.580\u001b[0m | \u001b[1mINFO    \u001b[0m | \u001b[36msrc.beam.experiment\u001b[0m:\u001b[36m__init__\u001b[0m:\u001b[36m174\u001b[0m - \u001b[1mcpu_workers: 0\u001b[0m\n",
      "\u001b[32m2022-06-14 09:43:00.581\u001b[0m | \u001b[1mINFO    \u001b[0m | \u001b[36msrc.beam.experiment\u001b[0m:\u001b[36m__init__\u001b[0m:\u001b[36m174\u001b[0m - \u001b[1mdevice: 1\u001b[0m\n",
      "\u001b[32m2022-06-14 09:43:00.582\u001b[0m | \u001b[1mINFO    \u001b[0m | \u001b[36msrc.beam.experiment\u001b[0m:\u001b[36m__init__\u001b[0m:\u001b[36m174\u001b[0m - \u001b[1mparallel: 1\u001b[0m\n",
      "\u001b[32m2022-06-14 09:43:00.583\u001b[0m | \u001b[1mINFO    \u001b[0m | \u001b[36msrc.beam.experiment\u001b[0m:\u001b[36m__init__\u001b[0m:\u001b[36m174\u001b[0m - \u001b[1mtensorboard: True\u001b[0m\n",
      "\u001b[32m2022-06-14 09:43:00.584\u001b[0m | \u001b[1mINFO    \u001b[0m | \u001b[36msrc.beam.experiment\u001b[0m:\u001b[36m__init__\u001b[0m:\u001b[36m174\u001b[0m - \u001b[1mlognet: True\u001b[0m\n",
      "\u001b[32m2022-06-14 09:43:00.584\u001b[0m | \u001b[1mINFO    \u001b[0m | \u001b[36msrc.beam.experiment\u001b[0m:\u001b[36m__init__\u001b[0m:\u001b[36m174\u001b[0m - \u001b[1mdeterministic: False\u001b[0m\n",
      "\u001b[32m2022-06-14 09:43:00.585\u001b[0m | \u001b[1mINFO    \u001b[0m | \u001b[36msrc.beam.experiment\u001b[0m:\u001b[36m__init__\u001b[0m:\u001b[36m174\u001b[0m - \u001b[1mscale_epoch_by_batch_size: True\u001b[0m\n",
      "\u001b[32m2022-06-14 09:43:00.586\u001b[0m | \u001b[1mINFO    \u001b[0m | \u001b[36msrc.beam.experiment\u001b[0m:\u001b[36m__init__\u001b[0m:\u001b[36m174\u001b[0m - \u001b[1mcudnn_benchmark: True\u001b[0m\n",
      "\u001b[32m2022-06-14 09:43:00.587\u001b[0m | \u001b[1mINFO    \u001b[0m | \u001b[36msrc.beam.experiment\u001b[0m:\u001b[36m__init__\u001b[0m:\u001b[36m174\u001b[0m - \u001b[1mhalf: True\u001b[0m\n",
      "\u001b[32m2022-06-14 09:43:00.588\u001b[0m | \u001b[1mINFO    \u001b[0m | \u001b[36msrc.beam.experiment\u001b[0m:\u001b[36m__init__\u001b[0m:\u001b[36m174\u001b[0m - \u001b[1mamp: False\u001b[0m\n",
      "\u001b[32m2022-06-14 09:43:00.589\u001b[0m | \u001b[1mINFO    \u001b[0m | \u001b[36msrc.beam.experiment\u001b[0m:\u001b[36m__init__\u001b[0m:\u001b[36m174\u001b[0m - \u001b[1minit: ortho\u001b[0m\n",
      "\u001b[32m2022-06-14 09:43:00.589\u001b[0m | \u001b[1mINFO    \u001b[0m | \u001b[36msrc.beam.experiment\u001b[0m:\u001b[36m__init__\u001b[0m:\u001b[36m174\u001b[0m - \u001b[1mseed: 0\u001b[0m\n",
      "\u001b[32m2022-06-14 09:43:00.590\u001b[0m | \u001b[1mINFO    \u001b[0m | \u001b[36msrc.beam.experiment\u001b[0m:\u001b[36m__init__\u001b[0m:\u001b[36m174\u001b[0m - \u001b[1mtotal_steps: 1000000\u001b[0m\n",
      "\u001b[32m2022-06-14 09:43:00.591\u001b[0m | \u001b[1mINFO    \u001b[0m | \u001b[36msrc.beam.experiment\u001b[0m:\u001b[36m__init__\u001b[0m:\u001b[36m174\u001b[0m - \u001b[1mepoch_length: None\u001b[0m\n",
      "\u001b[32m2022-06-14 09:43:00.592\u001b[0m | \u001b[1mINFO    \u001b[0m | \u001b[36msrc.beam.experiment\u001b[0m:\u001b[36m__init__\u001b[0m:\u001b[36m174\u001b[0m - \u001b[1mepoch_length_train: 200000\u001b[0m\n",
      "\u001b[32m2022-06-14 09:43:00.593\u001b[0m | \u001b[1mINFO    \u001b[0m | \u001b[36msrc.beam.experiment\u001b[0m:\u001b[36m__init__\u001b[0m:\u001b[36m174\u001b[0m - \u001b[1mepoch_length_eval: 10000\u001b[0m\n",
      "\u001b[32m2022-06-14 09:43:00.594\u001b[0m | \u001b[1mINFO    \u001b[0m | \u001b[36msrc.beam.experiment\u001b[0m:\u001b[36m__init__\u001b[0m:\u001b[36m174\u001b[0m - \u001b[1mn_epochs: 4\u001b[0m\n",
      "\u001b[32m2022-06-14 09:43:00.595\u001b[0m | \u001b[1mINFO    \u001b[0m | \u001b[36msrc.beam.experiment\u001b[0m:\u001b[36m__init__\u001b[0m:\u001b[36m174\u001b[0m - \u001b[1mbatch_size: 1024\u001b[0m\n",
      "\u001b[32m2022-06-14 09:43:00.596\u001b[0m | \u001b[1mINFO    \u001b[0m | \u001b[36msrc.beam.experiment\u001b[0m:\u001b[36m__init__\u001b[0m:\u001b[36m174\u001b[0m - \u001b[1mbatch_size_train: None\u001b[0m\n",
      "\u001b[32m2022-06-14 09:43:00.597\u001b[0m | \u001b[1mINFO    \u001b[0m | \u001b[36msrc.beam.experiment\u001b[0m:\u001b[36m__init__\u001b[0m:\u001b[36m174\u001b[0m - \u001b[1mbatch_size_eval: None\u001b[0m\n",
      "\u001b[32m2022-06-14 09:43:00.598\u001b[0m | \u001b[1mINFO    \u001b[0m | \u001b[36msrc.beam.experiment\u001b[0m:\u001b[36m__init__\u001b[0m:\u001b[36m174\u001b[0m - \u001b[1mlr_dense: 0.00320599649799676\u001b[0m\n",
      "\u001b[32m2022-06-14 09:43:00.599\u001b[0m | \u001b[1mINFO    \u001b[0m | \u001b[36msrc.beam.experiment\u001b[0m:\u001b[36m__init__\u001b[0m:\u001b[36m174\u001b[0m - \u001b[1mlr_sparse: 0.01\u001b[0m\n",
      "\u001b[32m2022-06-14 09:43:00.600\u001b[0m | \u001b[1mINFO    \u001b[0m | \u001b[36msrc.beam.experiment\u001b[0m:\u001b[36m__init__\u001b[0m:\u001b[36m174\u001b[0m - \u001b[1mweight_decay: 1e-05\u001b[0m\n",
      "\u001b[32m2022-06-14 09:43:00.601\u001b[0m | \u001b[1mINFO    \u001b[0m | \u001b[36msrc.beam.experiment\u001b[0m:\u001b[36m__init__\u001b[0m:\u001b[36m174\u001b[0m - \u001b[1meps: 0.0001\u001b[0m\n",
      "\u001b[32m2022-06-14 09:43:00.602\u001b[0m | \u001b[1mINFO    \u001b[0m | \u001b[36msrc.beam.experiment\u001b[0m:\u001b[36m__init__\u001b[0m:\u001b[36m174\u001b[0m - \u001b[1mbeta1: 0.9\u001b[0m\n",
      "\u001b[32m2022-06-14 09:43:00.603\u001b[0m | \u001b[1mINFO    \u001b[0m | \u001b[36msrc.beam.experiment\u001b[0m:\u001b[36m__init__\u001b[0m:\u001b[36m174\u001b[0m - \u001b[1mbeta2: 0.9\u001b[0m\n",
      "\u001b[32m2022-06-14 09:43:00.605\u001b[0m | \u001b[1mINFO    \u001b[0m | \u001b[36msrc.beam.experiment\u001b[0m:\u001b[36m__init__\u001b[0m:\u001b[36m174\u001b[0m - \u001b[1mclip: 0.0\u001b[0m\n",
      "\u001b[32m2022-06-14 09:43:00.605\u001b[0m | \u001b[1mINFO    \u001b[0m | \u001b[36msrc.beam.experiment\u001b[0m:\u001b[36m__init__\u001b[0m:\u001b[36m174\u001b[0m - \u001b[1maccumulate: 1\u001b[0m\n",
      "\u001b[32m2022-06-14 09:43:00.607\u001b[0m | \u001b[1mINFO    \u001b[0m | \u001b[36msrc.beam.experiment\u001b[0m:\u001b[36m__init__\u001b[0m:\u001b[36m174\u001b[0m - \u001b[1mprint_results: False\u001b[0m\n",
      "\u001b[32m2022-06-14 09:43:00.608\u001b[0m | \u001b[1mINFO    \u001b[0m | \u001b[36msrc.beam.experiment\u001b[0m:\u001b[36m__init__\u001b[0m:\u001b[36m174\u001b[0m - \u001b[1mvisualize_weights: False\u001b[0m\n",
      "\u001b[32m2022-06-14 09:43:00.609\u001b[0m | \u001b[1mINFO    \u001b[0m | \u001b[36msrc.beam.experiment\u001b[0m:\u001b[36m__init__\u001b[0m:\u001b[36m174\u001b[0m - \u001b[1mvisualize_results: yes\u001b[0m\n",
      "\u001b[32m2022-06-14 09:43:00.610\u001b[0m | \u001b[1mINFO    \u001b[0m | \u001b[36msrc.beam.experiment\u001b[0m:\u001b[36m__init__\u001b[0m:\u001b[36m174\u001b[0m - \u001b[1mstore_results: logscale\u001b[0m\n",
      "\u001b[32m2022-06-14 09:43:00.611\u001b[0m | \u001b[1mINFO    \u001b[0m | \u001b[36msrc.beam.experiment\u001b[0m:\u001b[36m__init__\u001b[0m:\u001b[36m174\u001b[0m - \u001b[1mstore_networks: logscale\u001b[0m\n",
      "\u001b[32m2022-06-14 09:43:00.612\u001b[0m | \u001b[1mINFO    \u001b[0m | \u001b[36msrc.beam.experiment\u001b[0m:\u001b[36m__init__\u001b[0m:\u001b[36m174\u001b[0m - \u001b[1mpath_to_data: /localdata/elads/data/datasets/cifar10\u001b[0m\n",
      "\u001b[32m2022-06-14 09:43:00.615\u001b[0m | \u001b[1mINFO    \u001b[0m | \u001b[36msrc.beam.experiment\u001b[0m:\u001b[36m__init__\u001b[0m:\u001b[36m244\u001b[0m - \u001b[1mCreating new experiment\u001b[0m\n",
      "\u001b[32m2022-06-14 09:43:00.616\u001b[0m | \u001b[1mINFO    \u001b[0m | \u001b[36msrc.beam.experiment\u001b[0m:\u001b[36m__init__\u001b[0m:\u001b[36m259\u001b[0m - \u001b[1mExperiment directory is: /localdata/elads/data/cifar10/cifar10/CIFAR10Algorithm/debug_hp_optimization_20220614_093207_hp_optimization_20220614_093407_hp_optimization_20220614_093726/0006_20220614_094300\u001b[0m\n",
      "\u001b[32m2022-06-14 09:43:00.821\u001b[0m | \u001b[1mINFO    \u001b[0m | \u001b[36msrc.beam.experiment\u001b[0m:\u001b[36mrun\u001b[0m:\u001b[36m536\u001b[0m - \u001b[1mSingle worker mode\u001b[0m\n",
      "\u001b[32m2022-06-14 09:43:00.822\u001b[0m | \u001b[1mINFO    \u001b[0m | \u001b[36msrc.beam.experiment\u001b[0m:\u001b[36mrun_worker\u001b[0m:\u001b[36m47\u001b[0m - \u001b[1mWorker: 1/1 is running...\u001b[0m\n"
     ]
    },
    {
     "data": {
      "application/vnd.jupyter.widget-view+json": {
       "model_id": "4d896365f1cf4afdb35a14a3c51e5986",
       "version_major": 2,
       "version_minor": 0
      },
      "text/plain": [
       "train:   0%|          | 0/194 [00:00<?, ?it/s]"
      ]
     },
     "metadata": {},
     "output_type": "display_data"
    },
    {
     "data": {
      "application/vnd.jupyter.widget-view+json": {
       "model_id": "bf04815bf2de4a53a14dc23587484f58",
       "version_major": 2,
       "version_minor": 0
      },
      "text/plain": [
       "test:   0%|          | 0/9 [00:00<?, ?it/s]"
      ]
     },
     "metadata": {},
     "output_type": "display_data"
    },
    {
     "data": {
      "application/vnd.jupyter.widget-view+json": {
       "model_id": "f2a7952127404e2f847f019ca8ac66e4",
       "version_major": 2,
       "version_minor": 0
      },
      "text/plain": [
       "train:   0%|          | 0/194 [00:00<?, ?it/s]"
      ]
     },
     "metadata": {},
     "output_type": "display_data"
    },
    {
     "data": {
      "application/vnd.jupyter.widget-view+json": {
       "model_id": "5a7a64adf6b74622a7a3d221eff21806",
       "version_major": 2,
       "version_minor": 0
      },
      "text/plain": [
       "test:   0%|          | 0/9 [00:00<?, ?it/s]"
      ]
     },
     "metadata": {},
     "output_type": "display_data"
    },
    {
     "data": {
      "application/vnd.jupyter.widget-view+json": {
       "model_id": "5f55c30d787c42e99ac9e5f688f271e9",
       "version_major": 2,
       "version_minor": 0
      },
      "text/plain": [
       "train:   0%|          | 0/194 [00:00<?, ?it/s]"
      ]
     },
     "metadata": {},
     "output_type": "display_data"
    },
    {
     "data": {
      "application/vnd.jupyter.widget-view+json": {
       "model_id": "d0773f9b30e24cf6b9e6a0c0eb5f7c6b",
       "version_major": 2,
       "version_minor": 0
      },
      "text/plain": [
       "test:   0%|          | 0/9 [00:00<?, ?it/s]"
      ]
     },
     "metadata": {},
     "output_type": "display_data"
    },
    {
     "data": {
      "application/vnd.jupyter.widget-view+json": {
       "model_id": "36a17808d60d4ffeb5b1ebf9de000cf4",
       "version_major": 2,
       "version_minor": 0
      },
      "text/plain": [
       "train:   0%|          | 0/194 [00:00<?, ?it/s]"
      ]
     },
     "metadata": {},
     "output_type": "display_data"
    },
    {
     "data": {
      "application/vnd.jupyter.widget-view+json": {
       "model_id": "dd308d0d77df49a6b76c6e736f1fdd1b",
       "version_major": 2,
       "version_minor": 0
      },
      "text/plain": [
       "test:   0%|          | 0/9 [00:00<?, ?it/s]"
      ]
     },
     "metadata": {},
     "output_type": "display_data"
    },
    {
     "name": "stderr",
     "output_type": "stream",
     "text": [
      "\u001b[32m[I 2022-06-14 09:43:57,500]\u001b[0m Trial 6 finished with value: 0.8381076388888888 and parameters: {'lr': 0.00320599649799676}. Best is trial 6 with value: 0.8381076388888888.\u001b[0m\n"
     ]
    },
    {
     "name": "stdout",
     "output_type": "stream",
     "text": [
      "My suggestion\n",
      "0.004899569978633089\n",
      "\u001b[32m2022-06-14 09:43:57.502\u001b[0m | \u001b[1mINFO    \u001b[0m | \u001b[36msrc.beam.experiment\u001b[0m:\u001b[36m__init__\u001b[0m:\u001b[36m169\u001b[0m - \u001b[1mbeam project: cifar10\u001b[0m\n",
      "\u001b[32m2022-06-14 09:43:57.503\u001b[0m | \u001b[1mINFO    \u001b[0m | \u001b[36msrc.beam.experiment\u001b[0m:\u001b[36m__init__\u001b[0m:\u001b[36m170\u001b[0m - \u001b[1mExperiment Hyperparameters\u001b[0m\n",
      "\u001b[32m2022-06-14 09:43:57.504\u001b[0m | \u001b[1mINFO    \u001b[0m | \u001b[36msrc.beam.experiment\u001b[0m:\u001b[36m__init__\u001b[0m:\u001b[36m174\u001b[0m - \u001b[1mproject_name: cifar10\u001b[0m\n",
      "\u001b[32m2022-06-14 09:43:57.505\u001b[0m | \u001b[1mINFO    \u001b[0m | \u001b[36msrc.beam.experiment\u001b[0m:\u001b[36m__init__\u001b[0m:\u001b[36m174\u001b[0m - \u001b[1midentifier: debug_hp_optimization_20220614_093207_hp_optimization_20220614_093407_hp_optimization_20220614_093726\u001b[0m\n",
      "\u001b[32m2022-06-14 09:43:57.506\u001b[0m | \u001b[1mINFO    \u001b[0m | \u001b[36msrc.beam.experiment\u001b[0m:\u001b[36m__init__\u001b[0m:\u001b[36m174\u001b[0m - \u001b[1malgorithm: CIFAR10Algorithm\u001b[0m\n",
      "\u001b[32m2022-06-14 09:43:57.506\u001b[0m | \u001b[1mINFO    \u001b[0m | \u001b[36msrc.beam.experiment\u001b[0m:\u001b[36m__init__\u001b[0m:\u001b[36m174\u001b[0m - \u001b[1mmp_port: None\u001b[0m\n",
      "\u001b[32m2022-06-14 09:43:57.507\u001b[0m | \u001b[1mINFO    \u001b[0m | \u001b[36msrc.beam.experiment\u001b[0m:\u001b[36m__init__\u001b[0m:\u001b[36m174\u001b[0m - \u001b[1mroot_dir: /localdata/elads/data/cifar10\u001b[0m\n",
      "\u001b[32m2022-06-14 09:43:57.508\u001b[0m | \u001b[1mINFO    \u001b[0m | \u001b[36msrc.beam.experiment\u001b[0m:\u001b[36m__init__\u001b[0m:\u001b[36m174\u001b[0m - \u001b[1mreload: False\u001b[0m\n",
      "\u001b[32m2022-06-14 09:43:57.508\u001b[0m | \u001b[1mINFO    \u001b[0m | \u001b[36msrc.beam.experiment\u001b[0m:\u001b[36m__init__\u001b[0m:\u001b[36m174\u001b[0m - \u001b[1mresume: -1\u001b[0m\n",
      "\u001b[32m2022-06-14 09:43:57.509\u001b[0m | \u001b[1mINFO    \u001b[0m | \u001b[36msrc.beam.experiment\u001b[0m:\u001b[36m__init__\u001b[0m:\u001b[36m174\u001b[0m - \u001b[1moverride: False\u001b[0m\n",
      "\u001b[32m2022-06-14 09:43:57.510\u001b[0m | \u001b[1mINFO    \u001b[0m | \u001b[36msrc.beam.experiment\u001b[0m:\u001b[36m__init__\u001b[0m:\u001b[36m174\u001b[0m - \u001b[1mcpu_workers: 0\u001b[0m\n",
      "\u001b[32m2022-06-14 09:43:57.511\u001b[0m | \u001b[1mINFO    \u001b[0m | \u001b[36msrc.beam.experiment\u001b[0m:\u001b[36m__init__\u001b[0m:\u001b[36m174\u001b[0m - \u001b[1mdevice: 1\u001b[0m\n",
      "\u001b[32m2022-06-14 09:43:57.511\u001b[0m | \u001b[1mINFO    \u001b[0m | \u001b[36msrc.beam.experiment\u001b[0m:\u001b[36m__init__\u001b[0m:\u001b[36m174\u001b[0m - \u001b[1mparallel: 1\u001b[0m\n",
      "\u001b[32m2022-06-14 09:43:57.512\u001b[0m | \u001b[1mINFO    \u001b[0m | \u001b[36msrc.beam.experiment\u001b[0m:\u001b[36m__init__\u001b[0m:\u001b[36m174\u001b[0m - \u001b[1mtensorboard: True\u001b[0m\n",
      "\u001b[32m2022-06-14 09:43:57.513\u001b[0m | \u001b[1mINFO    \u001b[0m | \u001b[36msrc.beam.experiment\u001b[0m:\u001b[36m__init__\u001b[0m:\u001b[36m174\u001b[0m - \u001b[1mlognet: True\u001b[0m\n",
      "\u001b[32m2022-06-14 09:43:57.514\u001b[0m | \u001b[1mINFO    \u001b[0m | \u001b[36msrc.beam.experiment\u001b[0m:\u001b[36m__init__\u001b[0m:\u001b[36m174\u001b[0m - \u001b[1mdeterministic: False\u001b[0m\n",
      "\u001b[32m2022-06-14 09:43:57.514\u001b[0m | \u001b[1mINFO    \u001b[0m | \u001b[36msrc.beam.experiment\u001b[0m:\u001b[36m__init__\u001b[0m:\u001b[36m174\u001b[0m - \u001b[1mscale_epoch_by_batch_size: True\u001b[0m\n",
      "\u001b[32m2022-06-14 09:43:57.515\u001b[0m | \u001b[1mINFO    \u001b[0m | \u001b[36msrc.beam.experiment\u001b[0m:\u001b[36m__init__\u001b[0m:\u001b[36m174\u001b[0m - \u001b[1mcudnn_benchmark: True\u001b[0m\n",
      "\u001b[32m2022-06-14 09:43:57.516\u001b[0m | \u001b[1mINFO    \u001b[0m | \u001b[36msrc.beam.experiment\u001b[0m:\u001b[36m__init__\u001b[0m:\u001b[36m174\u001b[0m - \u001b[1mhalf: True\u001b[0m\n",
      "\u001b[32m2022-06-14 09:43:57.517\u001b[0m | \u001b[1mINFO    \u001b[0m | \u001b[36msrc.beam.experiment\u001b[0m:\u001b[36m__init__\u001b[0m:\u001b[36m174\u001b[0m - \u001b[1mamp: False\u001b[0m\n",
      "\u001b[32m2022-06-14 09:43:57.517\u001b[0m | \u001b[1mINFO    \u001b[0m | \u001b[36msrc.beam.experiment\u001b[0m:\u001b[36m__init__\u001b[0m:\u001b[36m174\u001b[0m - \u001b[1minit: ortho\u001b[0m\n",
      "\u001b[32m2022-06-14 09:43:57.518\u001b[0m | \u001b[1mINFO    \u001b[0m | \u001b[36msrc.beam.experiment\u001b[0m:\u001b[36m__init__\u001b[0m:\u001b[36m174\u001b[0m - \u001b[1mseed: 0\u001b[0m\n",
      "\u001b[32m2022-06-14 09:43:57.519\u001b[0m | \u001b[1mINFO    \u001b[0m | \u001b[36msrc.beam.experiment\u001b[0m:\u001b[36m__init__\u001b[0m:\u001b[36m174\u001b[0m - \u001b[1mtotal_steps: 1000000\u001b[0m\n",
      "\u001b[32m2022-06-14 09:43:57.520\u001b[0m | \u001b[1mINFO    \u001b[0m | \u001b[36msrc.beam.experiment\u001b[0m:\u001b[36m__init__\u001b[0m:\u001b[36m174\u001b[0m - \u001b[1mepoch_length: None\u001b[0m\n",
      "\u001b[32m2022-06-14 09:43:57.520\u001b[0m | \u001b[1mINFO    \u001b[0m | \u001b[36msrc.beam.experiment\u001b[0m:\u001b[36m__init__\u001b[0m:\u001b[36m174\u001b[0m - \u001b[1mepoch_length_train: 200000\u001b[0m\n",
      "\u001b[32m2022-06-14 09:43:57.521\u001b[0m | \u001b[1mINFO    \u001b[0m | \u001b[36msrc.beam.experiment\u001b[0m:\u001b[36m__init__\u001b[0m:\u001b[36m174\u001b[0m - \u001b[1mepoch_length_eval: 10000\u001b[0m\n",
      "\u001b[32m2022-06-14 09:43:57.522\u001b[0m | \u001b[1mINFO    \u001b[0m | \u001b[36msrc.beam.experiment\u001b[0m:\u001b[36m__init__\u001b[0m:\u001b[36m174\u001b[0m - \u001b[1mn_epochs: 4\u001b[0m\n",
      "\u001b[32m2022-06-14 09:43:57.523\u001b[0m | \u001b[1mINFO    \u001b[0m | \u001b[36msrc.beam.experiment\u001b[0m:\u001b[36m__init__\u001b[0m:\u001b[36m174\u001b[0m - \u001b[1mbatch_size: 1024\u001b[0m\n",
      "\u001b[32m2022-06-14 09:43:57.524\u001b[0m | \u001b[1mINFO    \u001b[0m | \u001b[36msrc.beam.experiment\u001b[0m:\u001b[36m__init__\u001b[0m:\u001b[36m174\u001b[0m - \u001b[1mbatch_size_train: None\u001b[0m\n",
      "\u001b[32m2022-06-14 09:43:57.525\u001b[0m | \u001b[1mINFO    \u001b[0m | \u001b[36msrc.beam.experiment\u001b[0m:\u001b[36m__init__\u001b[0m:\u001b[36m174\u001b[0m - \u001b[1mbatch_size_eval: None\u001b[0m\n",
      "\u001b[32m2022-06-14 09:43:57.526\u001b[0m | \u001b[1mINFO    \u001b[0m | \u001b[36msrc.beam.experiment\u001b[0m:\u001b[36m__init__\u001b[0m:\u001b[36m174\u001b[0m - \u001b[1mlr_dense: 0.004899569978633089\u001b[0m\n",
      "\u001b[32m2022-06-14 09:43:57.527\u001b[0m | \u001b[1mINFO    \u001b[0m | \u001b[36msrc.beam.experiment\u001b[0m:\u001b[36m__init__\u001b[0m:\u001b[36m174\u001b[0m - \u001b[1mlr_sparse: 0.01\u001b[0m\n",
      "\u001b[32m2022-06-14 09:43:57.528\u001b[0m | \u001b[1mINFO    \u001b[0m | \u001b[36msrc.beam.experiment\u001b[0m:\u001b[36m__init__\u001b[0m:\u001b[36m174\u001b[0m - \u001b[1mweight_decay: 1e-05\u001b[0m\n",
      "\u001b[32m2022-06-14 09:43:57.528\u001b[0m | \u001b[1mINFO    \u001b[0m | \u001b[36msrc.beam.experiment\u001b[0m:\u001b[36m__init__\u001b[0m:\u001b[36m174\u001b[0m - \u001b[1meps: 0.0001\u001b[0m\n",
      "\u001b[32m2022-06-14 09:43:57.529\u001b[0m | \u001b[1mINFO    \u001b[0m | \u001b[36msrc.beam.experiment\u001b[0m:\u001b[36m__init__\u001b[0m:\u001b[36m174\u001b[0m - \u001b[1mbeta1: 0.9\u001b[0m\n",
      "\u001b[32m2022-06-14 09:43:57.530\u001b[0m | \u001b[1mINFO    \u001b[0m | \u001b[36msrc.beam.experiment\u001b[0m:\u001b[36m__init__\u001b[0m:\u001b[36m174\u001b[0m - \u001b[1mbeta2: 0.9\u001b[0m\n",
      "\u001b[32m2022-06-14 09:43:57.531\u001b[0m | \u001b[1mINFO    \u001b[0m | \u001b[36msrc.beam.experiment\u001b[0m:\u001b[36m__init__\u001b[0m:\u001b[36m174\u001b[0m - \u001b[1mclip: 0.0\u001b[0m\n",
      "\u001b[32m2022-06-14 09:43:57.532\u001b[0m | \u001b[1mINFO    \u001b[0m | \u001b[36msrc.beam.experiment\u001b[0m:\u001b[36m__init__\u001b[0m:\u001b[36m174\u001b[0m - \u001b[1maccumulate: 1\u001b[0m\n",
      "\u001b[32m2022-06-14 09:43:57.533\u001b[0m | \u001b[1mINFO    \u001b[0m | \u001b[36msrc.beam.experiment\u001b[0m:\u001b[36m__init__\u001b[0m:\u001b[36m174\u001b[0m - \u001b[1mprint_results: False\u001b[0m\n",
      "\u001b[32m2022-06-14 09:43:57.534\u001b[0m | \u001b[1mINFO    \u001b[0m | \u001b[36msrc.beam.experiment\u001b[0m:\u001b[36m__init__\u001b[0m:\u001b[36m174\u001b[0m - \u001b[1mvisualize_weights: False\u001b[0m\n",
      "\u001b[32m2022-06-14 09:43:57.535\u001b[0m | \u001b[1mINFO    \u001b[0m | \u001b[36msrc.beam.experiment\u001b[0m:\u001b[36m__init__\u001b[0m:\u001b[36m174\u001b[0m - \u001b[1mvisualize_results: yes\u001b[0m\n",
      "\u001b[32m2022-06-14 09:43:57.536\u001b[0m | \u001b[1mINFO    \u001b[0m | \u001b[36msrc.beam.experiment\u001b[0m:\u001b[36m__init__\u001b[0m:\u001b[36m174\u001b[0m - \u001b[1mstore_results: logscale\u001b[0m\n",
      "\u001b[32m2022-06-14 09:43:57.537\u001b[0m | \u001b[1mINFO    \u001b[0m | \u001b[36msrc.beam.experiment\u001b[0m:\u001b[36m__init__\u001b[0m:\u001b[36m174\u001b[0m - \u001b[1mstore_networks: logscale\u001b[0m\n",
      "\u001b[32m2022-06-14 09:43:57.538\u001b[0m | \u001b[1mINFO    \u001b[0m | \u001b[36msrc.beam.experiment\u001b[0m:\u001b[36m__init__\u001b[0m:\u001b[36m174\u001b[0m - \u001b[1mpath_to_data: /localdata/elads/data/datasets/cifar10\u001b[0m\n",
      "\u001b[32m2022-06-14 09:43:57.540\u001b[0m | \u001b[1mINFO    \u001b[0m | \u001b[36msrc.beam.experiment\u001b[0m:\u001b[36m__init__\u001b[0m:\u001b[36m244\u001b[0m - \u001b[1mCreating new experiment\u001b[0m\n",
      "\u001b[32m2022-06-14 09:43:57.541\u001b[0m | \u001b[1mINFO    \u001b[0m | \u001b[36msrc.beam.experiment\u001b[0m:\u001b[36m__init__\u001b[0m:\u001b[36m259\u001b[0m - \u001b[1mExperiment directory is: /localdata/elads/data/cifar10/cifar10/CIFAR10Algorithm/debug_hp_optimization_20220614_093207_hp_optimization_20220614_093407_hp_optimization_20220614_093726/0007_20220614_094357\u001b[0m\n",
      "\u001b[32m2022-06-14 09:43:57.752\u001b[0m | \u001b[1mINFO    \u001b[0m | \u001b[36msrc.beam.experiment\u001b[0m:\u001b[36mrun\u001b[0m:\u001b[36m536\u001b[0m - \u001b[1mSingle worker mode\u001b[0m\n",
      "\u001b[32m2022-06-14 09:43:57.753\u001b[0m | \u001b[1mINFO    \u001b[0m | \u001b[36msrc.beam.experiment\u001b[0m:\u001b[36mrun_worker\u001b[0m:\u001b[36m47\u001b[0m - \u001b[1mWorker: 1/1 is running...\u001b[0m\n"
     ]
    },
    {
     "data": {
      "application/vnd.jupyter.widget-view+json": {
       "model_id": "24b4de815e5749a8b2daa435126d3360",
       "version_major": 2,
       "version_minor": 0
      },
      "text/plain": [
       "train:   0%|          | 0/194 [00:00<?, ?it/s]"
      ]
     },
     "metadata": {},
     "output_type": "display_data"
    },
    {
     "data": {
      "application/vnd.jupyter.widget-view+json": {
       "model_id": "f9bb15904ca641d7b11e5aef49be62d0",
       "version_major": 2,
       "version_minor": 0
      },
      "text/plain": [
       "test:   0%|          | 0/9 [00:00<?, ?it/s]"
      ]
     },
     "metadata": {},
     "output_type": "display_data"
    },
    {
     "data": {
      "application/vnd.jupyter.widget-view+json": {
       "model_id": "44cac424e2b742019bf44da6310a8520",
       "version_major": 2,
       "version_minor": 0
      },
      "text/plain": [
       "train:   0%|          | 0/194 [00:00<?, ?it/s]"
      ]
     },
     "metadata": {},
     "output_type": "display_data"
    },
    {
     "data": {
      "application/vnd.jupyter.widget-view+json": {
       "model_id": "bfe2d219c849494eb04dd5b5b3199068",
       "version_major": 2,
       "version_minor": 0
      },
      "text/plain": [
       "test:   0%|          | 0/9 [00:00<?, ?it/s]"
      ]
     },
     "metadata": {},
     "output_type": "display_data"
    },
    {
     "data": {
      "application/vnd.jupyter.widget-view+json": {
       "model_id": "af4f75685e1f4ab9bea371440a30d435",
       "version_major": 2,
       "version_minor": 0
      },
      "text/plain": [
       "train:   0%|          | 0/194 [00:00<?, ?it/s]"
      ]
     },
     "metadata": {},
     "output_type": "display_data"
    },
    {
     "data": {
      "application/vnd.jupyter.widget-view+json": {
       "model_id": "ff568762c4054b8da3a8513f3cb12d10",
       "version_major": 2,
       "version_minor": 0
      },
      "text/plain": [
       "test:   0%|          | 0/9 [00:00<?, ?it/s]"
      ]
     },
     "metadata": {},
     "output_type": "display_data"
    },
    {
     "data": {
      "application/vnd.jupyter.widget-view+json": {
       "model_id": "cc50403d641c42d4830905631417ea55",
       "version_major": 2,
       "version_minor": 0
      },
      "text/plain": [
       "train:   0%|          | 0/194 [00:00<?, ?it/s]"
      ]
     },
     "metadata": {},
     "output_type": "display_data"
    },
    {
     "data": {
      "application/vnd.jupyter.widget-view+json": {
       "model_id": "73a0b5b25aed4a43ad4c95066c9eb80f",
       "version_major": 2,
       "version_minor": 0
      },
      "text/plain": [
       "test:   0%|          | 0/9 [00:00<?, ?it/s]"
      ]
     },
     "metadata": {},
     "output_type": "display_data"
    },
    {
     "name": "stderr",
     "output_type": "stream",
     "text": [
      "\u001b[32m[I 2022-06-14 09:44:54,074]\u001b[0m Trial 7 finished with value: 0.8291015625 and parameters: {'lr': 0.004899569978633089}. Best is trial 6 with value: 0.8381076388888888.\u001b[0m\n"
     ]
    },
    {
     "name": "stdout",
     "output_type": "stream",
     "text": [
      "My suggestion\n",
      "0.01612558040441622\n",
      "\u001b[32m2022-06-14 09:44:54.077\u001b[0m | \u001b[1mINFO    \u001b[0m | \u001b[36msrc.beam.experiment\u001b[0m:\u001b[36m__init__\u001b[0m:\u001b[36m169\u001b[0m - \u001b[1mbeam project: cifar10\u001b[0m\n",
      "\u001b[32m2022-06-14 09:44:54.078\u001b[0m | \u001b[1mINFO    \u001b[0m | \u001b[36msrc.beam.experiment\u001b[0m:\u001b[36m__init__\u001b[0m:\u001b[36m170\u001b[0m - \u001b[1mExperiment Hyperparameters\u001b[0m\n",
      "\u001b[32m2022-06-14 09:44:54.079\u001b[0m | \u001b[1mINFO    \u001b[0m | \u001b[36msrc.beam.experiment\u001b[0m:\u001b[36m__init__\u001b[0m:\u001b[36m174\u001b[0m - \u001b[1mproject_name: cifar10\u001b[0m\n",
      "\u001b[32m2022-06-14 09:44:54.079\u001b[0m | \u001b[1mINFO    \u001b[0m | \u001b[36msrc.beam.experiment\u001b[0m:\u001b[36m__init__\u001b[0m:\u001b[36m174\u001b[0m - \u001b[1midentifier: debug_hp_optimization_20220614_093207_hp_optimization_20220614_093407_hp_optimization_20220614_093726\u001b[0m\n",
      "\u001b[32m2022-06-14 09:44:54.080\u001b[0m | \u001b[1mINFO    \u001b[0m | \u001b[36msrc.beam.experiment\u001b[0m:\u001b[36m__init__\u001b[0m:\u001b[36m174\u001b[0m - \u001b[1malgorithm: CIFAR10Algorithm\u001b[0m\n",
      "\u001b[32m2022-06-14 09:44:54.081\u001b[0m | \u001b[1mINFO    \u001b[0m | \u001b[36msrc.beam.experiment\u001b[0m:\u001b[36m__init__\u001b[0m:\u001b[36m174\u001b[0m - \u001b[1mmp_port: None\u001b[0m\n",
      "\u001b[32m2022-06-14 09:44:54.082\u001b[0m | \u001b[1mINFO    \u001b[0m | \u001b[36msrc.beam.experiment\u001b[0m:\u001b[36m__init__\u001b[0m:\u001b[36m174\u001b[0m - \u001b[1mroot_dir: /localdata/elads/data/cifar10\u001b[0m\n",
      "\u001b[32m2022-06-14 09:44:54.082\u001b[0m | \u001b[1mINFO    \u001b[0m | \u001b[36msrc.beam.experiment\u001b[0m:\u001b[36m__init__\u001b[0m:\u001b[36m174\u001b[0m - \u001b[1mreload: False\u001b[0m\n",
      "\u001b[32m2022-06-14 09:44:54.083\u001b[0m | \u001b[1mINFO    \u001b[0m | \u001b[36msrc.beam.experiment\u001b[0m:\u001b[36m__init__\u001b[0m:\u001b[36m174\u001b[0m - \u001b[1mresume: -1\u001b[0m\n",
      "\u001b[32m2022-06-14 09:44:54.084\u001b[0m | \u001b[1mINFO    \u001b[0m | \u001b[36msrc.beam.experiment\u001b[0m:\u001b[36m__init__\u001b[0m:\u001b[36m174\u001b[0m - \u001b[1moverride: False\u001b[0m\n",
      "\u001b[32m2022-06-14 09:44:54.085\u001b[0m | \u001b[1mINFO    \u001b[0m | \u001b[36msrc.beam.experiment\u001b[0m:\u001b[36m__init__\u001b[0m:\u001b[36m174\u001b[0m - \u001b[1mcpu_workers: 0\u001b[0m\n",
      "\u001b[32m2022-06-14 09:44:54.085\u001b[0m | \u001b[1mINFO    \u001b[0m | \u001b[36msrc.beam.experiment\u001b[0m:\u001b[36m__init__\u001b[0m:\u001b[36m174\u001b[0m - \u001b[1mdevice: 1\u001b[0m\n",
      "\u001b[32m2022-06-14 09:44:54.086\u001b[0m | \u001b[1mINFO    \u001b[0m | \u001b[36msrc.beam.experiment\u001b[0m:\u001b[36m__init__\u001b[0m:\u001b[36m174\u001b[0m - \u001b[1mparallel: 1\u001b[0m\n",
      "\u001b[32m2022-06-14 09:44:54.087\u001b[0m | \u001b[1mINFO    \u001b[0m | \u001b[36msrc.beam.experiment\u001b[0m:\u001b[36m__init__\u001b[0m:\u001b[36m174\u001b[0m - \u001b[1mtensorboard: True\u001b[0m\n",
      "\u001b[32m2022-06-14 09:44:54.088\u001b[0m | \u001b[1mINFO    \u001b[0m | \u001b[36msrc.beam.experiment\u001b[0m:\u001b[36m__init__\u001b[0m:\u001b[36m174\u001b[0m - \u001b[1mlognet: True\u001b[0m\n",
      "\u001b[32m2022-06-14 09:44:54.088\u001b[0m | \u001b[1mINFO    \u001b[0m | \u001b[36msrc.beam.experiment\u001b[0m:\u001b[36m__init__\u001b[0m:\u001b[36m174\u001b[0m - \u001b[1mdeterministic: False\u001b[0m\n",
      "\u001b[32m2022-06-14 09:44:54.089\u001b[0m | \u001b[1mINFO    \u001b[0m | \u001b[36msrc.beam.experiment\u001b[0m:\u001b[36m__init__\u001b[0m:\u001b[36m174\u001b[0m - \u001b[1mscale_epoch_by_batch_size: True\u001b[0m\n",
      "\u001b[32m2022-06-14 09:44:54.090\u001b[0m | \u001b[1mINFO    \u001b[0m | \u001b[36msrc.beam.experiment\u001b[0m:\u001b[36m__init__\u001b[0m:\u001b[36m174\u001b[0m - \u001b[1mcudnn_benchmark: True\u001b[0m\n",
      "\u001b[32m2022-06-14 09:44:54.090\u001b[0m | \u001b[1mINFO    \u001b[0m | \u001b[36msrc.beam.experiment\u001b[0m:\u001b[36m__init__\u001b[0m:\u001b[36m174\u001b[0m - \u001b[1mhalf: True\u001b[0m\n",
      "\u001b[32m2022-06-14 09:44:54.091\u001b[0m | \u001b[1mINFO    \u001b[0m | \u001b[36msrc.beam.experiment\u001b[0m:\u001b[36m__init__\u001b[0m:\u001b[36m174\u001b[0m - \u001b[1mamp: False\u001b[0m\n",
      "\u001b[32m2022-06-14 09:44:54.091\u001b[0m | \u001b[1mINFO    \u001b[0m | \u001b[36msrc.beam.experiment\u001b[0m:\u001b[36m__init__\u001b[0m:\u001b[36m174\u001b[0m - \u001b[1minit: ortho\u001b[0m\n",
      "\u001b[32m2022-06-14 09:44:54.092\u001b[0m | \u001b[1mINFO    \u001b[0m | \u001b[36msrc.beam.experiment\u001b[0m:\u001b[36m__init__\u001b[0m:\u001b[36m174\u001b[0m - \u001b[1mseed: 0\u001b[0m\n",
      "\u001b[32m2022-06-14 09:44:54.093\u001b[0m | \u001b[1mINFO    \u001b[0m | \u001b[36msrc.beam.experiment\u001b[0m:\u001b[36m__init__\u001b[0m:\u001b[36m174\u001b[0m - \u001b[1mtotal_steps: 1000000\u001b[0m\n",
      "\u001b[32m2022-06-14 09:44:54.093\u001b[0m | \u001b[1mINFO    \u001b[0m | \u001b[36msrc.beam.experiment\u001b[0m:\u001b[36m__init__\u001b[0m:\u001b[36m174\u001b[0m - \u001b[1mepoch_length: None\u001b[0m\n",
      "\u001b[32m2022-06-14 09:44:54.094\u001b[0m | \u001b[1mINFO    \u001b[0m | \u001b[36msrc.beam.experiment\u001b[0m:\u001b[36m__init__\u001b[0m:\u001b[36m174\u001b[0m - \u001b[1mepoch_length_train: 200000\u001b[0m\n",
      "\u001b[32m2022-06-14 09:44:54.095\u001b[0m | \u001b[1mINFO    \u001b[0m | \u001b[36msrc.beam.experiment\u001b[0m:\u001b[36m__init__\u001b[0m:\u001b[36m174\u001b[0m - \u001b[1mepoch_length_eval: 10000\u001b[0m\n",
      "\u001b[32m2022-06-14 09:44:54.095\u001b[0m | \u001b[1mINFO    \u001b[0m | \u001b[36msrc.beam.experiment\u001b[0m:\u001b[36m__init__\u001b[0m:\u001b[36m174\u001b[0m - \u001b[1mn_epochs: 4\u001b[0m\n",
      "\u001b[32m2022-06-14 09:44:54.096\u001b[0m | \u001b[1mINFO    \u001b[0m | \u001b[36msrc.beam.experiment\u001b[0m:\u001b[36m__init__\u001b[0m:\u001b[36m174\u001b[0m - \u001b[1mbatch_size: 1024\u001b[0m\n",
      "\u001b[32m2022-06-14 09:44:54.097\u001b[0m | \u001b[1mINFO    \u001b[0m | \u001b[36msrc.beam.experiment\u001b[0m:\u001b[36m__init__\u001b[0m:\u001b[36m174\u001b[0m - \u001b[1mbatch_size_train: None\u001b[0m\n",
      "\u001b[32m2022-06-14 09:44:54.097\u001b[0m | \u001b[1mINFO    \u001b[0m | \u001b[36msrc.beam.experiment\u001b[0m:\u001b[36m__init__\u001b[0m:\u001b[36m174\u001b[0m - \u001b[1mbatch_size_eval: None\u001b[0m\n",
      "\u001b[32m2022-06-14 09:44:54.098\u001b[0m | \u001b[1mINFO    \u001b[0m | \u001b[36msrc.beam.experiment\u001b[0m:\u001b[36m__init__\u001b[0m:\u001b[36m174\u001b[0m - \u001b[1mlr_dense: 0.01612558040441622\u001b[0m\n",
      "\u001b[32m2022-06-14 09:44:54.099\u001b[0m | \u001b[1mINFO    \u001b[0m | \u001b[36msrc.beam.experiment\u001b[0m:\u001b[36m__init__\u001b[0m:\u001b[36m174\u001b[0m - \u001b[1mlr_sparse: 0.01\u001b[0m\n",
      "\u001b[32m2022-06-14 09:44:54.099\u001b[0m | \u001b[1mINFO    \u001b[0m | \u001b[36msrc.beam.experiment\u001b[0m:\u001b[36m__init__\u001b[0m:\u001b[36m174\u001b[0m - \u001b[1mweight_decay: 1e-05\u001b[0m\n",
      "\u001b[32m2022-06-14 09:44:54.100\u001b[0m | \u001b[1mINFO    \u001b[0m | \u001b[36msrc.beam.experiment\u001b[0m:\u001b[36m__init__\u001b[0m:\u001b[36m174\u001b[0m - \u001b[1meps: 0.0001\u001b[0m\n",
      "\u001b[32m2022-06-14 09:44:54.101\u001b[0m | \u001b[1mINFO    \u001b[0m | \u001b[36msrc.beam.experiment\u001b[0m:\u001b[36m__init__\u001b[0m:\u001b[36m174\u001b[0m - \u001b[1mbeta1: 0.9\u001b[0m\n",
      "\u001b[32m2022-06-14 09:44:54.101\u001b[0m | \u001b[1mINFO    \u001b[0m | \u001b[36msrc.beam.experiment\u001b[0m:\u001b[36m__init__\u001b[0m:\u001b[36m174\u001b[0m - \u001b[1mbeta2: 0.9\u001b[0m\n",
      "\u001b[32m2022-06-14 09:44:54.102\u001b[0m | \u001b[1mINFO    \u001b[0m | \u001b[36msrc.beam.experiment\u001b[0m:\u001b[36m__init__\u001b[0m:\u001b[36m174\u001b[0m - \u001b[1mclip: 0.0\u001b[0m\n",
      "\u001b[32m2022-06-14 09:44:54.102\u001b[0m | \u001b[1mINFO    \u001b[0m | \u001b[36msrc.beam.experiment\u001b[0m:\u001b[36m__init__\u001b[0m:\u001b[36m174\u001b[0m - \u001b[1maccumulate: 1\u001b[0m\n",
      "\u001b[32m2022-06-14 09:44:54.103\u001b[0m | \u001b[1mINFO    \u001b[0m | \u001b[36msrc.beam.experiment\u001b[0m:\u001b[36m__init__\u001b[0m:\u001b[36m174\u001b[0m - \u001b[1mprint_results: False\u001b[0m\n",
      "\u001b[32m2022-06-14 09:44:54.104\u001b[0m | \u001b[1mINFO    \u001b[0m | \u001b[36msrc.beam.experiment\u001b[0m:\u001b[36m__init__\u001b[0m:\u001b[36m174\u001b[0m - \u001b[1mvisualize_weights: False\u001b[0m\n",
      "\u001b[32m2022-06-14 09:44:54.104\u001b[0m | \u001b[1mINFO    \u001b[0m | \u001b[36msrc.beam.experiment\u001b[0m:\u001b[36m__init__\u001b[0m:\u001b[36m174\u001b[0m - \u001b[1mvisualize_results: yes\u001b[0m\n",
      "\u001b[32m2022-06-14 09:44:54.105\u001b[0m | \u001b[1mINFO    \u001b[0m | \u001b[36msrc.beam.experiment\u001b[0m:\u001b[36m__init__\u001b[0m:\u001b[36m174\u001b[0m - \u001b[1mstore_results: logscale\u001b[0m\n",
      "\u001b[32m2022-06-14 09:44:54.106\u001b[0m | \u001b[1mINFO    \u001b[0m | \u001b[36msrc.beam.experiment\u001b[0m:\u001b[36m__init__\u001b[0m:\u001b[36m174\u001b[0m - \u001b[1mstore_networks: logscale\u001b[0m\n",
      "\u001b[32m2022-06-14 09:44:54.106\u001b[0m | \u001b[1mINFO    \u001b[0m | \u001b[36msrc.beam.experiment\u001b[0m:\u001b[36m__init__\u001b[0m:\u001b[36m174\u001b[0m - \u001b[1mpath_to_data: /localdata/elads/data/datasets/cifar10\u001b[0m\n",
      "\u001b[32m2022-06-14 09:44:54.108\u001b[0m | \u001b[1mINFO    \u001b[0m | \u001b[36msrc.beam.experiment\u001b[0m:\u001b[36m__init__\u001b[0m:\u001b[36m244\u001b[0m - \u001b[1mCreating new experiment\u001b[0m\n",
      "\u001b[32m2022-06-14 09:44:54.109\u001b[0m | \u001b[1mINFO    \u001b[0m | \u001b[36msrc.beam.experiment\u001b[0m:\u001b[36m__init__\u001b[0m:\u001b[36m259\u001b[0m - \u001b[1mExperiment directory is: /localdata/elads/data/cifar10/cifar10/CIFAR10Algorithm/debug_hp_optimization_20220614_093207_hp_optimization_20220614_093407_hp_optimization_20220614_093726/0008_20220614_094454\u001b[0m\n",
      "\u001b[32m2022-06-14 09:44:54.370\u001b[0m | \u001b[1mINFO    \u001b[0m | \u001b[36msrc.beam.experiment\u001b[0m:\u001b[36mrun\u001b[0m:\u001b[36m536\u001b[0m - \u001b[1mSingle worker mode\u001b[0m\n",
      "\u001b[32m2022-06-14 09:44:54.371\u001b[0m | \u001b[1mINFO    \u001b[0m | \u001b[36msrc.beam.experiment\u001b[0m:\u001b[36mrun_worker\u001b[0m:\u001b[36m47\u001b[0m - \u001b[1mWorker: 1/1 is running...\u001b[0m\n"
     ]
    },
    {
     "data": {
      "application/vnd.jupyter.widget-view+json": {
       "model_id": "825e1f08a891439d84726dacc7a7584a",
       "version_major": 2,
       "version_minor": 0
      },
      "text/plain": [
       "train:   0%|          | 0/194 [00:00<?, ?it/s]"
      ]
     },
     "metadata": {},
     "output_type": "display_data"
    },
    {
     "data": {
      "application/vnd.jupyter.widget-view+json": {
       "model_id": "e0dd82f61d164d509fdcd5cab843e40f",
       "version_major": 2,
       "version_minor": 0
      },
      "text/plain": [
       "test:   0%|          | 0/9 [00:00<?, ?it/s]"
      ]
     },
     "metadata": {},
     "output_type": "display_data"
    },
    {
     "data": {
      "application/vnd.jupyter.widget-view+json": {
       "model_id": "a47dc48dde514afd96cd4275886872e6",
       "version_major": 2,
       "version_minor": 0
      },
      "text/plain": [
       "train:   0%|          | 0/194 [00:00<?, ?it/s]"
      ]
     },
     "metadata": {},
     "output_type": "display_data"
    },
    {
     "data": {
      "application/vnd.jupyter.widget-view+json": {
       "model_id": "8475fe3b9ba244fe9556c0318a90b542",
       "version_major": 2,
       "version_minor": 0
      },
      "text/plain": [
       "test:   0%|          | 0/9 [00:00<?, ?it/s]"
      ]
     },
     "metadata": {},
     "output_type": "display_data"
    },
    {
     "data": {
      "application/vnd.jupyter.widget-view+json": {
       "model_id": "cab594cddd964eb282be81b6f502b583",
       "version_major": 2,
       "version_minor": 0
      },
      "text/plain": [
       "train:   0%|          | 0/194 [00:00<?, ?it/s]"
      ]
     },
     "metadata": {},
     "output_type": "display_data"
    },
    {
     "data": {
      "application/vnd.jupyter.widget-view+json": {
       "model_id": "007e9f5b8af543cfbc79bd742b5149a1",
       "version_major": 2,
       "version_minor": 0
      },
      "text/plain": [
       "test:   0%|          | 0/9 [00:00<?, ?it/s]"
      ]
     },
     "metadata": {},
     "output_type": "display_data"
    },
    {
     "data": {
      "application/vnd.jupyter.widget-view+json": {
       "model_id": "3c417bf5b3be4b7a9aaf937e0728c819",
       "version_major": 2,
       "version_minor": 0
      },
      "text/plain": [
       "train:   0%|          | 0/194 [00:00<?, ?it/s]"
      ]
     },
     "metadata": {},
     "output_type": "display_data"
    },
    {
     "data": {
      "application/vnd.jupyter.widget-view+json": {
       "model_id": "9502899d097442118c5434c2526499be",
       "version_major": 2,
       "version_minor": 0
      },
      "text/plain": [
       "test:   0%|          | 0/9 [00:00<?, ?it/s]"
      ]
     },
     "metadata": {},
     "output_type": "display_data"
    },
    {
     "name": "stderr",
     "output_type": "stream",
     "text": [
      "\u001b[32m[I 2022-06-14 09:45:50,822]\u001b[0m Trial 8 finished with value: 0.8337673611111112 and parameters: {'lr': 0.01612558040441622}. Best is trial 6 with value: 0.8381076388888888.\u001b[0m\n"
     ]
    },
    {
     "name": "stdout",
     "output_type": "stream",
     "text": [
      "My suggestion\n",
      "0.002505511913619016\n",
      "\u001b[32m2022-06-14 09:45:50.824\u001b[0m | \u001b[1mINFO    \u001b[0m | \u001b[36msrc.beam.experiment\u001b[0m:\u001b[36m__init__\u001b[0m:\u001b[36m169\u001b[0m - \u001b[1mbeam project: cifar10\u001b[0m\n",
      "\u001b[32m2022-06-14 09:45:50.825\u001b[0m | \u001b[1mINFO    \u001b[0m | \u001b[36msrc.beam.experiment\u001b[0m:\u001b[36m__init__\u001b[0m:\u001b[36m170\u001b[0m - \u001b[1mExperiment Hyperparameters\u001b[0m\n",
      "\u001b[32m2022-06-14 09:45:50.826\u001b[0m | \u001b[1mINFO    \u001b[0m | \u001b[36msrc.beam.experiment\u001b[0m:\u001b[36m__init__\u001b[0m:\u001b[36m174\u001b[0m - \u001b[1mproject_name: cifar10\u001b[0m\n",
      "\u001b[32m2022-06-14 09:45:50.827\u001b[0m | \u001b[1mINFO    \u001b[0m | \u001b[36msrc.beam.experiment\u001b[0m:\u001b[36m__init__\u001b[0m:\u001b[36m174\u001b[0m - \u001b[1midentifier: debug_hp_optimization_20220614_093207_hp_optimization_20220614_093407_hp_optimization_20220614_093726\u001b[0m\n",
      "\u001b[32m2022-06-14 09:45:50.828\u001b[0m | \u001b[1mINFO    \u001b[0m | \u001b[36msrc.beam.experiment\u001b[0m:\u001b[36m__init__\u001b[0m:\u001b[36m174\u001b[0m - \u001b[1malgorithm: CIFAR10Algorithm\u001b[0m\n",
      "\u001b[32m2022-06-14 09:45:50.829\u001b[0m | \u001b[1mINFO    \u001b[0m | \u001b[36msrc.beam.experiment\u001b[0m:\u001b[36m__init__\u001b[0m:\u001b[36m174\u001b[0m - \u001b[1mmp_port: None\u001b[0m\n",
      "\u001b[32m2022-06-14 09:45:50.829\u001b[0m | \u001b[1mINFO    \u001b[0m | \u001b[36msrc.beam.experiment\u001b[0m:\u001b[36m__init__\u001b[0m:\u001b[36m174\u001b[0m - \u001b[1mroot_dir: /localdata/elads/data/cifar10\u001b[0m\n",
      "\u001b[32m2022-06-14 09:45:50.830\u001b[0m | \u001b[1mINFO    \u001b[0m | \u001b[36msrc.beam.experiment\u001b[0m:\u001b[36m__init__\u001b[0m:\u001b[36m174\u001b[0m - \u001b[1mreload: False\u001b[0m\n",
      "\u001b[32m2022-06-14 09:45:50.831\u001b[0m | \u001b[1mINFO    \u001b[0m | \u001b[36msrc.beam.experiment\u001b[0m:\u001b[36m__init__\u001b[0m:\u001b[36m174\u001b[0m - \u001b[1mresume: -1\u001b[0m\n",
      "\u001b[32m2022-06-14 09:45:50.832\u001b[0m | \u001b[1mINFO    \u001b[0m | \u001b[36msrc.beam.experiment\u001b[0m:\u001b[36m__init__\u001b[0m:\u001b[36m174\u001b[0m - \u001b[1moverride: False\u001b[0m\n",
      "\u001b[32m2022-06-14 09:45:50.832\u001b[0m | \u001b[1mINFO    \u001b[0m | \u001b[36msrc.beam.experiment\u001b[0m:\u001b[36m__init__\u001b[0m:\u001b[36m174\u001b[0m - \u001b[1mcpu_workers: 0\u001b[0m\n",
      "\u001b[32m2022-06-14 09:45:50.833\u001b[0m | \u001b[1mINFO    \u001b[0m | \u001b[36msrc.beam.experiment\u001b[0m:\u001b[36m__init__\u001b[0m:\u001b[36m174\u001b[0m - \u001b[1mdevice: 1\u001b[0m\n",
      "\u001b[32m2022-06-14 09:45:50.834\u001b[0m | \u001b[1mINFO    \u001b[0m | \u001b[36msrc.beam.experiment\u001b[0m:\u001b[36m__init__\u001b[0m:\u001b[36m174\u001b[0m - \u001b[1mparallel: 1\u001b[0m\n",
      "\u001b[32m2022-06-14 09:45:50.835\u001b[0m | \u001b[1mINFO    \u001b[0m | \u001b[36msrc.beam.experiment\u001b[0m:\u001b[36m__init__\u001b[0m:\u001b[36m174\u001b[0m - \u001b[1mtensorboard: True\u001b[0m\n",
      "\u001b[32m2022-06-14 09:45:50.835\u001b[0m | \u001b[1mINFO    \u001b[0m | \u001b[36msrc.beam.experiment\u001b[0m:\u001b[36m__init__\u001b[0m:\u001b[36m174\u001b[0m - \u001b[1mlognet: True\u001b[0m\n",
      "\u001b[32m2022-06-14 09:45:50.836\u001b[0m | \u001b[1mINFO    \u001b[0m | \u001b[36msrc.beam.experiment\u001b[0m:\u001b[36m__init__\u001b[0m:\u001b[36m174\u001b[0m - \u001b[1mdeterministic: False\u001b[0m\n",
      "\u001b[32m2022-06-14 09:45:50.837\u001b[0m | \u001b[1mINFO    \u001b[0m | \u001b[36msrc.beam.experiment\u001b[0m:\u001b[36m__init__\u001b[0m:\u001b[36m174\u001b[0m - \u001b[1mscale_epoch_by_batch_size: True\u001b[0m\n",
      "\u001b[32m2022-06-14 09:45:50.838\u001b[0m | \u001b[1mINFO    \u001b[0m | \u001b[36msrc.beam.experiment\u001b[0m:\u001b[36m__init__\u001b[0m:\u001b[36m174\u001b[0m - \u001b[1mcudnn_benchmark: True\u001b[0m\n",
      "\u001b[32m2022-06-14 09:45:50.838\u001b[0m | \u001b[1mINFO    \u001b[0m | \u001b[36msrc.beam.experiment\u001b[0m:\u001b[36m__init__\u001b[0m:\u001b[36m174\u001b[0m - \u001b[1mhalf: True\u001b[0m\n",
      "\u001b[32m2022-06-14 09:45:50.839\u001b[0m | \u001b[1mINFO    \u001b[0m | \u001b[36msrc.beam.experiment\u001b[0m:\u001b[36m__init__\u001b[0m:\u001b[36m174\u001b[0m - \u001b[1mamp: False\u001b[0m\n",
      "\u001b[32m2022-06-14 09:45:50.840\u001b[0m | \u001b[1mINFO    \u001b[0m | \u001b[36msrc.beam.experiment\u001b[0m:\u001b[36m__init__\u001b[0m:\u001b[36m174\u001b[0m - \u001b[1minit: ortho\u001b[0m\n",
      "\u001b[32m2022-06-14 09:45:50.841\u001b[0m | \u001b[1mINFO    \u001b[0m | \u001b[36msrc.beam.experiment\u001b[0m:\u001b[36m__init__\u001b[0m:\u001b[36m174\u001b[0m - \u001b[1mseed: 0\u001b[0m\n",
      "\u001b[32m2022-06-14 09:45:50.841\u001b[0m | \u001b[1mINFO    \u001b[0m | \u001b[36msrc.beam.experiment\u001b[0m:\u001b[36m__init__\u001b[0m:\u001b[36m174\u001b[0m - \u001b[1mtotal_steps: 1000000\u001b[0m\n",
      "\u001b[32m2022-06-14 09:45:50.842\u001b[0m | \u001b[1mINFO    \u001b[0m | \u001b[36msrc.beam.experiment\u001b[0m:\u001b[36m__init__\u001b[0m:\u001b[36m174\u001b[0m - \u001b[1mepoch_length: None\u001b[0m\n",
      "\u001b[32m2022-06-14 09:45:50.843\u001b[0m | \u001b[1mINFO    \u001b[0m | \u001b[36msrc.beam.experiment\u001b[0m:\u001b[36m__init__\u001b[0m:\u001b[36m174\u001b[0m - \u001b[1mepoch_length_train: 200000\u001b[0m\n",
      "\u001b[32m2022-06-14 09:45:50.844\u001b[0m | \u001b[1mINFO    \u001b[0m | \u001b[36msrc.beam.experiment\u001b[0m:\u001b[36m__init__\u001b[0m:\u001b[36m174\u001b[0m - \u001b[1mepoch_length_eval: 10000\u001b[0m\n",
      "\u001b[32m2022-06-14 09:45:50.844\u001b[0m | \u001b[1mINFO    \u001b[0m | \u001b[36msrc.beam.experiment\u001b[0m:\u001b[36m__init__\u001b[0m:\u001b[36m174\u001b[0m - \u001b[1mn_epochs: 4\u001b[0m\n",
      "\u001b[32m2022-06-14 09:45:50.845\u001b[0m | \u001b[1mINFO    \u001b[0m | \u001b[36msrc.beam.experiment\u001b[0m:\u001b[36m__init__\u001b[0m:\u001b[36m174\u001b[0m - \u001b[1mbatch_size: 1024\u001b[0m\n",
      "\u001b[32m2022-06-14 09:45:50.846\u001b[0m | \u001b[1mINFO    \u001b[0m | \u001b[36msrc.beam.experiment\u001b[0m:\u001b[36m__init__\u001b[0m:\u001b[36m174\u001b[0m - \u001b[1mbatch_size_train: None\u001b[0m\n",
      "\u001b[32m2022-06-14 09:45:50.847\u001b[0m | \u001b[1mINFO    \u001b[0m | \u001b[36msrc.beam.experiment\u001b[0m:\u001b[36m__init__\u001b[0m:\u001b[36m174\u001b[0m - \u001b[1mbatch_size_eval: None\u001b[0m\n",
      "\u001b[32m2022-06-14 09:45:50.847\u001b[0m | \u001b[1mINFO    \u001b[0m | \u001b[36msrc.beam.experiment\u001b[0m:\u001b[36m__init__\u001b[0m:\u001b[36m174\u001b[0m - \u001b[1mlr_dense: 0.002505511913619016\u001b[0m\n",
      "\u001b[32m2022-06-14 09:45:50.848\u001b[0m | \u001b[1mINFO    \u001b[0m | \u001b[36msrc.beam.experiment\u001b[0m:\u001b[36m__init__\u001b[0m:\u001b[36m174\u001b[0m - \u001b[1mlr_sparse: 0.01\u001b[0m\n",
      "\u001b[32m2022-06-14 09:45:50.849\u001b[0m | \u001b[1mINFO    \u001b[0m | \u001b[36msrc.beam.experiment\u001b[0m:\u001b[36m__init__\u001b[0m:\u001b[36m174\u001b[0m - \u001b[1mweight_decay: 1e-05\u001b[0m\n",
      "\u001b[32m2022-06-14 09:45:50.849\u001b[0m | \u001b[1mINFO    \u001b[0m | \u001b[36msrc.beam.experiment\u001b[0m:\u001b[36m__init__\u001b[0m:\u001b[36m174\u001b[0m - \u001b[1meps: 0.0001\u001b[0m\n",
      "\u001b[32m2022-06-14 09:45:50.850\u001b[0m | \u001b[1mINFO    \u001b[0m | \u001b[36msrc.beam.experiment\u001b[0m:\u001b[36m__init__\u001b[0m:\u001b[36m174\u001b[0m - \u001b[1mbeta1: 0.9\u001b[0m\n",
      "\u001b[32m2022-06-14 09:45:50.851\u001b[0m | \u001b[1mINFO    \u001b[0m | \u001b[36msrc.beam.experiment\u001b[0m:\u001b[36m__init__\u001b[0m:\u001b[36m174\u001b[0m - \u001b[1mbeta2: 0.9\u001b[0m\n",
      "\u001b[32m2022-06-14 09:45:50.851\u001b[0m | \u001b[1mINFO    \u001b[0m | \u001b[36msrc.beam.experiment\u001b[0m:\u001b[36m__init__\u001b[0m:\u001b[36m174\u001b[0m - \u001b[1mclip: 0.0\u001b[0m\n",
      "\u001b[32m2022-06-14 09:45:50.852\u001b[0m | \u001b[1mINFO    \u001b[0m | \u001b[36msrc.beam.experiment\u001b[0m:\u001b[36m__init__\u001b[0m:\u001b[36m174\u001b[0m - \u001b[1maccumulate: 1\u001b[0m\n",
      "\u001b[32m2022-06-14 09:45:50.853\u001b[0m | \u001b[1mINFO    \u001b[0m | \u001b[36msrc.beam.experiment\u001b[0m:\u001b[36m__init__\u001b[0m:\u001b[36m174\u001b[0m - \u001b[1mprint_results: False\u001b[0m\n",
      "\u001b[32m2022-06-14 09:45:50.853\u001b[0m | \u001b[1mINFO    \u001b[0m | \u001b[36msrc.beam.experiment\u001b[0m:\u001b[36m__init__\u001b[0m:\u001b[36m174\u001b[0m - \u001b[1mvisualize_weights: False\u001b[0m\n",
      "\u001b[32m2022-06-14 09:45:50.854\u001b[0m | \u001b[1mINFO    \u001b[0m | \u001b[36msrc.beam.experiment\u001b[0m:\u001b[36m__init__\u001b[0m:\u001b[36m174\u001b[0m - \u001b[1mvisualize_results: yes\u001b[0m\n",
      "\u001b[32m2022-06-14 09:45:50.855\u001b[0m | \u001b[1mINFO    \u001b[0m | \u001b[36msrc.beam.experiment\u001b[0m:\u001b[36m__init__\u001b[0m:\u001b[36m174\u001b[0m - \u001b[1mstore_results: logscale\u001b[0m\n",
      "\u001b[32m2022-06-14 09:45:50.855\u001b[0m | \u001b[1mINFO    \u001b[0m | \u001b[36msrc.beam.experiment\u001b[0m:\u001b[36m__init__\u001b[0m:\u001b[36m174\u001b[0m - \u001b[1mstore_networks: logscale\u001b[0m\n",
      "\u001b[32m2022-06-14 09:45:50.856\u001b[0m | \u001b[1mINFO    \u001b[0m | \u001b[36msrc.beam.experiment\u001b[0m:\u001b[36m__init__\u001b[0m:\u001b[36m174\u001b[0m - \u001b[1mpath_to_data: /localdata/elads/data/datasets/cifar10\u001b[0m\n",
      "\u001b[32m2022-06-14 09:45:50.857\u001b[0m | \u001b[1mINFO    \u001b[0m | \u001b[36msrc.beam.experiment\u001b[0m:\u001b[36m__init__\u001b[0m:\u001b[36m244\u001b[0m - \u001b[1mCreating new experiment\u001b[0m\n",
      "\u001b[32m2022-06-14 09:45:50.858\u001b[0m | \u001b[1mINFO    \u001b[0m | \u001b[36msrc.beam.experiment\u001b[0m:\u001b[36m__init__\u001b[0m:\u001b[36m259\u001b[0m - \u001b[1mExperiment directory is: /localdata/elads/data/cifar10/cifar10/CIFAR10Algorithm/debug_hp_optimization_20220614_093207_hp_optimization_20220614_093407_hp_optimization_20220614_093726/0009_20220614_094550\u001b[0m\n",
      "\u001b[32m2022-06-14 09:45:51.073\u001b[0m | \u001b[1mINFO    \u001b[0m | \u001b[36msrc.beam.experiment\u001b[0m:\u001b[36mrun\u001b[0m:\u001b[36m536\u001b[0m - \u001b[1mSingle worker mode\u001b[0m\n",
      "\u001b[32m2022-06-14 09:45:51.074\u001b[0m | \u001b[1mINFO    \u001b[0m | \u001b[36msrc.beam.experiment\u001b[0m:\u001b[36mrun_worker\u001b[0m:\u001b[36m47\u001b[0m - \u001b[1mWorker: 1/1 is running...\u001b[0m\n"
     ]
    },
    {
     "data": {
      "application/vnd.jupyter.widget-view+json": {
       "model_id": "21ddf3ae102e43f799a2ee6baa9fb57d",
       "version_major": 2,
       "version_minor": 0
      },
      "text/plain": [
       "train:   0%|          | 0/194 [00:00<?, ?it/s]"
      ]
     },
     "metadata": {},
     "output_type": "display_data"
    },
    {
     "data": {
      "application/vnd.jupyter.widget-view+json": {
       "model_id": "c4497ff0c1414af78cd6a94d8d840e0f",
       "version_major": 2,
       "version_minor": 0
      },
      "text/plain": [
       "test:   0%|          | 0/9 [00:00<?, ?it/s]"
      ]
     },
     "metadata": {},
     "output_type": "display_data"
    },
    {
     "data": {
      "application/vnd.jupyter.widget-view+json": {
       "model_id": "7fc822a79e194669b7aa7db6a5b18f9b",
       "version_major": 2,
       "version_minor": 0
      },
      "text/plain": [
       "train:   0%|          | 0/194 [00:00<?, ?it/s]"
      ]
     },
     "metadata": {},
     "output_type": "display_data"
    },
    {
     "data": {
      "application/vnd.jupyter.widget-view+json": {
       "model_id": "97faeaea1c8f46a5af2d8d0a4472690d",
       "version_major": 2,
       "version_minor": 0
      },
      "text/plain": [
       "test:   0%|          | 0/9 [00:00<?, ?it/s]"
      ]
     },
     "metadata": {},
     "output_type": "display_data"
    },
    {
     "data": {
      "application/vnd.jupyter.widget-view+json": {
       "model_id": "4ddaba02cfc1450a96efdb2c1dc347fc",
       "version_major": 2,
       "version_minor": 0
      },
      "text/plain": [
       "train:   0%|          | 0/194 [00:00<?, ?it/s]"
      ]
     },
     "metadata": {},
     "output_type": "display_data"
    },
    {
     "data": {
      "application/vnd.jupyter.widget-view+json": {
       "model_id": "4e394484edf84bf98d759d3e569ba185",
       "version_major": 2,
       "version_minor": 0
      },
      "text/plain": [
       "test:   0%|          | 0/9 [00:00<?, ?it/s]"
      ]
     },
     "metadata": {},
     "output_type": "display_data"
    },
    {
     "data": {
      "application/vnd.jupyter.widget-view+json": {
       "model_id": "a1076f37518c41b8b30a5d180f079d9f",
       "version_major": 2,
       "version_minor": 0
      },
      "text/plain": [
       "train:   0%|          | 0/194 [00:00<?, ?it/s]"
      ]
     },
     "metadata": {},
     "output_type": "display_data"
    },
    {
     "data": {
      "application/vnd.jupyter.widget-view+json": {
       "model_id": "3853b60f8bb94ece89a0a37fd805af5e",
       "version_major": 2,
       "version_minor": 0
      },
      "text/plain": [
       "test:   0%|          | 0/9 [00:00<?, ?it/s]"
      ]
     },
     "metadata": {},
     "output_type": "display_data"
    },
    {
     "name": "stderr",
     "output_type": "stream",
     "text": [
      "\u001b[32m[I 2022-06-14 09:46:47,584]\u001b[0m Trial 9 finished with value: 0.8180338541666666 and parameters: {'lr': 0.002505511913619016}. Best is trial 6 with value: 0.8381076388888888.\u001b[0m\n"
     ]
    },
    {
     "data": {
      "text/plain": [
       "<optuna.study.study.Study at 0x7fda3fc58280>"
      ]
     },
     "execution_count": 59,
     "metadata": {},
     "output_type": "execute_result"
    }
   ],
   "source": [
    "study.optuna(suggest, direction='maximize', n_jobs=1, n_trials=10)"
   ]
  },
  {
   "cell_type": "markdown",
   "id": "90540ccd-6dd1-41a2-99e3-ceab19b66faf",
   "metadata": {},
   "source": [
    "## Hyperparameter search with ray-tune and optuna"
   ]
  },
  {
   "cell_type": "code",
   "execution_count": 3,
   "id": "c1f08ce6-1ee8-4160-8f15-f130482696f9",
   "metadata": {},
   "outputs": [
    {
     "name": "stdout",
     "output_type": "stream",
     "text": [
      "\u001b[32m2022-06-14 12:51:22.738\u001b[0m | \u001b[1mINFO    \u001b[0m | \u001b[36msrc.beam.experiment\u001b[0m:\u001b[36m__init__\u001b[0m:\u001b[36m85\u001b[0m - \u001b[1mHyperparameter Optimization\u001b[0m\n",
      "\u001b[32m2022-06-14 12:51:22.740\u001b[0m | \u001b[1mINFO    \u001b[0m | \u001b[36msrc.beam.experiment\u001b[0m:\u001b[36m__init__\u001b[0m:\u001b[36m86\u001b[0m - \u001b[1mbeam project: cifar10\u001b[0m\n",
      "\u001b[32m2022-06-14 12:51:22.741\u001b[0m | \u001b[1mINFO    \u001b[0m | \u001b[36msrc.beam.experiment\u001b[0m:\u001b[36m__init__\u001b[0m:\u001b[36m87\u001b[0m - \u001b[1mExperiment Hyperparameters\u001b[0m\n",
      "\u001b[32m2022-06-14 12:51:22.742\u001b[0m | \u001b[1mINFO    \u001b[0m | \u001b[36msrc.beam.experiment\u001b[0m:\u001b[36m__init__\u001b[0m:\u001b[36m90\u001b[0m - \u001b[1mproject_name: cifar10\u001b[0m\n",
      "\u001b[32m2022-06-14 12:51:22.743\u001b[0m | \u001b[1mINFO    \u001b[0m | \u001b[36msrc.beam.experiment\u001b[0m:\u001b[36m__init__\u001b[0m:\u001b[36m90\u001b[0m - \u001b[1midentifier: debug_hp_optimization_20220614_125122\u001b[0m\n",
      "\u001b[32m2022-06-14 12:51:22.745\u001b[0m | \u001b[1mINFO    \u001b[0m | \u001b[36msrc.beam.experiment\u001b[0m:\u001b[36m__init__\u001b[0m:\u001b[36m90\u001b[0m - \u001b[1malgorithm: CIFAR10Algorithm\u001b[0m\n",
      "\u001b[32m2022-06-14 12:51:22.746\u001b[0m | \u001b[1mINFO    \u001b[0m | \u001b[36msrc.beam.experiment\u001b[0m:\u001b[36m__init__\u001b[0m:\u001b[36m90\u001b[0m - \u001b[1mmp_port: None\u001b[0m\n",
      "\u001b[32m2022-06-14 12:51:22.748\u001b[0m | \u001b[1mINFO    \u001b[0m | \u001b[36msrc.beam.experiment\u001b[0m:\u001b[36m__init__\u001b[0m:\u001b[36m90\u001b[0m - \u001b[1mroot_dir: /localdata/elads/data/cifar10\u001b[0m\n",
      "\u001b[32m2022-06-14 12:51:22.749\u001b[0m | \u001b[1mINFO    \u001b[0m | \u001b[36msrc.beam.experiment\u001b[0m:\u001b[36m__init__\u001b[0m:\u001b[36m90\u001b[0m - \u001b[1mreload: False\u001b[0m\n",
      "\u001b[32m2022-06-14 12:51:22.750\u001b[0m | \u001b[1mINFO    \u001b[0m | \u001b[36msrc.beam.experiment\u001b[0m:\u001b[36m__init__\u001b[0m:\u001b[36m90\u001b[0m - \u001b[1mresume: -1\u001b[0m\n",
      "\u001b[32m2022-06-14 12:51:22.752\u001b[0m | \u001b[1mINFO    \u001b[0m | \u001b[36msrc.beam.experiment\u001b[0m:\u001b[36m__init__\u001b[0m:\u001b[36m90\u001b[0m - \u001b[1moverride: False\u001b[0m\n",
      "\u001b[32m2022-06-14 12:51:22.753\u001b[0m | \u001b[1mINFO    \u001b[0m | \u001b[36msrc.beam.experiment\u001b[0m:\u001b[36m__init__\u001b[0m:\u001b[36m90\u001b[0m - \u001b[1mcpu_workers: 0\u001b[0m\n",
      "\u001b[32m2022-06-14 12:51:22.754\u001b[0m | \u001b[1mINFO    \u001b[0m | \u001b[36msrc.beam.experiment\u001b[0m:\u001b[36m__init__\u001b[0m:\u001b[36m90\u001b[0m - \u001b[1mdevice: 0\u001b[0m\n",
      "\u001b[32m2022-06-14 12:51:22.755\u001b[0m | \u001b[1mINFO    \u001b[0m | \u001b[36msrc.beam.experiment\u001b[0m:\u001b[36m__init__\u001b[0m:\u001b[36m90\u001b[0m - \u001b[1mparallel: 1\u001b[0m\n",
      "\u001b[32m2022-06-14 12:51:22.756\u001b[0m | \u001b[1mINFO    \u001b[0m | \u001b[36msrc.beam.experiment\u001b[0m:\u001b[36m__init__\u001b[0m:\u001b[36m90\u001b[0m - \u001b[1mtensorboard: True\u001b[0m\n",
      "\u001b[32m2022-06-14 12:51:22.757\u001b[0m | \u001b[1mINFO    \u001b[0m | \u001b[36msrc.beam.experiment\u001b[0m:\u001b[36m__init__\u001b[0m:\u001b[36m90\u001b[0m - \u001b[1mlognet: True\u001b[0m\n",
      "\u001b[32m2022-06-14 12:51:22.758\u001b[0m | \u001b[1mINFO    \u001b[0m | \u001b[36msrc.beam.experiment\u001b[0m:\u001b[36m__init__\u001b[0m:\u001b[36m90\u001b[0m - \u001b[1mdeterministic: False\u001b[0m\n",
      "\u001b[32m2022-06-14 12:51:22.759\u001b[0m | \u001b[1mINFO    \u001b[0m | \u001b[36msrc.beam.experiment\u001b[0m:\u001b[36m__init__\u001b[0m:\u001b[36m90\u001b[0m - \u001b[1mscale_epoch_by_batch_size: True\u001b[0m\n",
      "\u001b[32m2022-06-14 12:51:22.760\u001b[0m | \u001b[1mINFO    \u001b[0m | \u001b[36msrc.beam.experiment\u001b[0m:\u001b[36m__init__\u001b[0m:\u001b[36m90\u001b[0m - \u001b[1mcudnn_benchmark: True\u001b[0m\n",
      "\u001b[32m2022-06-14 12:51:22.761\u001b[0m | \u001b[1mINFO    \u001b[0m | \u001b[36msrc.beam.experiment\u001b[0m:\u001b[36m__init__\u001b[0m:\u001b[36m90\u001b[0m - \u001b[1mhalf: True\u001b[0m\n",
      "\u001b[32m2022-06-14 12:51:22.763\u001b[0m | \u001b[1mINFO    \u001b[0m | \u001b[36msrc.beam.experiment\u001b[0m:\u001b[36m__init__\u001b[0m:\u001b[36m90\u001b[0m - \u001b[1mamp: False\u001b[0m\n",
      "\u001b[32m2022-06-14 12:51:22.764\u001b[0m | \u001b[1mINFO    \u001b[0m | \u001b[36msrc.beam.experiment\u001b[0m:\u001b[36m__init__\u001b[0m:\u001b[36m90\u001b[0m - \u001b[1minit: ortho\u001b[0m\n",
      "\u001b[32m2022-06-14 12:51:22.765\u001b[0m | \u001b[1mINFO    \u001b[0m | \u001b[36msrc.beam.experiment\u001b[0m:\u001b[36m__init__\u001b[0m:\u001b[36m90\u001b[0m - \u001b[1mseed: 0\u001b[0m\n",
      "\u001b[32m2022-06-14 12:51:22.766\u001b[0m | \u001b[1mINFO    \u001b[0m | \u001b[36msrc.beam.experiment\u001b[0m:\u001b[36m__init__\u001b[0m:\u001b[36m90\u001b[0m - \u001b[1mtotal_steps: 1000000\u001b[0m\n",
      "\u001b[32m2022-06-14 12:51:22.767\u001b[0m | \u001b[1mINFO    \u001b[0m | \u001b[36msrc.beam.experiment\u001b[0m:\u001b[36m__init__\u001b[0m:\u001b[36m90\u001b[0m - \u001b[1mepoch_length: None\u001b[0m\n",
      "\u001b[32m2022-06-14 12:51:22.768\u001b[0m | \u001b[1mINFO    \u001b[0m | \u001b[36msrc.beam.experiment\u001b[0m:\u001b[36m__init__\u001b[0m:\u001b[36m90\u001b[0m - \u001b[1mepoch_length_train: 200000\u001b[0m\n",
      "\u001b[32m2022-06-14 12:51:22.769\u001b[0m | \u001b[1mINFO    \u001b[0m | \u001b[36msrc.beam.experiment\u001b[0m:\u001b[36m__init__\u001b[0m:\u001b[36m90\u001b[0m - \u001b[1mepoch_length_eval: 10000\u001b[0m\n",
      "\u001b[32m2022-06-14 12:51:22.770\u001b[0m | \u001b[1mINFO    \u001b[0m | \u001b[36msrc.beam.experiment\u001b[0m:\u001b[36m__init__\u001b[0m:\u001b[36m90\u001b[0m - \u001b[1mn_epochs: 5\u001b[0m\n",
      "\u001b[32m2022-06-14 12:51:22.771\u001b[0m | \u001b[1mINFO    \u001b[0m | \u001b[36msrc.beam.experiment\u001b[0m:\u001b[36m__init__\u001b[0m:\u001b[36m90\u001b[0m - \u001b[1mbatch_size: 1024\u001b[0m\n",
      "\u001b[32m2022-06-14 12:51:22.772\u001b[0m | \u001b[1mINFO    \u001b[0m | \u001b[36msrc.beam.experiment\u001b[0m:\u001b[36m__init__\u001b[0m:\u001b[36m90\u001b[0m - \u001b[1mbatch_size_train: None\u001b[0m\n",
      "\u001b[32m2022-06-14 12:51:22.776\u001b[0m | \u001b[1mINFO    \u001b[0m | \u001b[36msrc.beam.experiment\u001b[0m:\u001b[36m__init__\u001b[0m:\u001b[36m90\u001b[0m - \u001b[1mbatch_size_eval: None\u001b[0m\n",
      "\u001b[32m2022-06-14 12:51:22.777\u001b[0m | \u001b[1mINFO    \u001b[0m | \u001b[36msrc.beam.experiment\u001b[0m:\u001b[36m__init__\u001b[0m:\u001b[36m90\u001b[0m - \u001b[1mlr_dense: 0.01\u001b[0m\n",
      "\u001b[32m2022-06-14 12:51:22.778\u001b[0m | \u001b[1mINFO    \u001b[0m | \u001b[36msrc.beam.experiment\u001b[0m:\u001b[36m__init__\u001b[0m:\u001b[36m90\u001b[0m - \u001b[1mlr_sparse: 0.01\u001b[0m\n",
      "\u001b[32m2022-06-14 12:51:22.779\u001b[0m | \u001b[1mINFO    \u001b[0m | \u001b[36msrc.beam.experiment\u001b[0m:\u001b[36m__init__\u001b[0m:\u001b[36m90\u001b[0m - \u001b[1mweight_decay: 1e-05\u001b[0m\n",
      "\u001b[32m2022-06-14 12:51:22.780\u001b[0m | \u001b[1mINFO    \u001b[0m | \u001b[36msrc.beam.experiment\u001b[0m:\u001b[36m__init__\u001b[0m:\u001b[36m90\u001b[0m - \u001b[1meps: 0.0001\u001b[0m\n",
      "\u001b[32m2022-06-14 12:51:22.781\u001b[0m | \u001b[1mINFO    \u001b[0m | \u001b[36msrc.beam.experiment\u001b[0m:\u001b[36m__init__\u001b[0m:\u001b[36m90\u001b[0m - \u001b[1mbeta1: 0.9\u001b[0m\n",
      "\u001b[32m2022-06-14 12:51:22.781\u001b[0m | \u001b[1mINFO    \u001b[0m | \u001b[36msrc.beam.experiment\u001b[0m:\u001b[36m__init__\u001b[0m:\u001b[36m90\u001b[0m - \u001b[1mbeta2: 0.9\u001b[0m\n",
      "\u001b[32m2022-06-14 12:51:22.782\u001b[0m | \u001b[1mINFO    \u001b[0m | \u001b[36msrc.beam.experiment\u001b[0m:\u001b[36m__init__\u001b[0m:\u001b[36m90\u001b[0m - \u001b[1mclip: 0.0\u001b[0m\n",
      "\u001b[32m2022-06-14 12:51:22.783\u001b[0m | \u001b[1mINFO    \u001b[0m | \u001b[36msrc.beam.experiment\u001b[0m:\u001b[36m__init__\u001b[0m:\u001b[36m90\u001b[0m - \u001b[1maccumulate: 1\u001b[0m\n",
      "\u001b[32m2022-06-14 12:51:22.784\u001b[0m | \u001b[1mINFO    \u001b[0m | \u001b[36msrc.beam.experiment\u001b[0m:\u001b[36m__init__\u001b[0m:\u001b[36m90\u001b[0m - \u001b[1mprint_results: False\u001b[0m\n",
      "\u001b[32m2022-06-14 12:51:22.785\u001b[0m | \u001b[1mINFO    \u001b[0m | \u001b[36msrc.beam.experiment\u001b[0m:\u001b[36m__init__\u001b[0m:\u001b[36m90\u001b[0m - \u001b[1mvisualize_weights: False\u001b[0m\n",
      "\u001b[32m2022-06-14 12:51:22.786\u001b[0m | \u001b[1mINFO    \u001b[0m | \u001b[36msrc.beam.experiment\u001b[0m:\u001b[36m__init__\u001b[0m:\u001b[36m90\u001b[0m - \u001b[1menable_tqdm: False\u001b[0m\n",
      "\u001b[32m2022-06-14 12:51:22.787\u001b[0m | \u001b[1mINFO    \u001b[0m | \u001b[36msrc.beam.experiment\u001b[0m:\u001b[36m__init__\u001b[0m:\u001b[36m90\u001b[0m - \u001b[1mvisualize_results: yes\u001b[0m\n",
      "\u001b[32m2022-06-14 12:51:22.788\u001b[0m | \u001b[1mINFO    \u001b[0m | \u001b[36msrc.beam.experiment\u001b[0m:\u001b[36m__init__\u001b[0m:\u001b[36m90\u001b[0m - \u001b[1mstore_results: logscale\u001b[0m\n",
      "\u001b[32m2022-06-14 12:51:22.788\u001b[0m | \u001b[1mINFO    \u001b[0m | \u001b[36msrc.beam.experiment\u001b[0m:\u001b[36m__init__\u001b[0m:\u001b[36m90\u001b[0m - \u001b[1mstore_networks: logscale\u001b[0m\n",
      "\u001b[32m2022-06-14 12:51:22.789\u001b[0m | \u001b[1mINFO    \u001b[0m | \u001b[36msrc.beam.experiment\u001b[0m:\u001b[36m__init__\u001b[0m:\u001b[36m90\u001b[0m - \u001b[1mpath_to_data: /localdata/elads/data/datasets/cifar10\u001b[0m\n"
     ]
    }
   ],
   "source": [
    "args = beam_arguments(f\"--project-name=cifar10 --root-dir={root_dir} --algorithm=CIFAR10Algorithm --half --lr-d=0.01 --batch-size=1024\",\n",
    "                      \"--n-epochs=5 --epoch-length-train=200000 --epoch-length-eval=10000 --clip=0 --parallel=1 --accumulate=1 --cudnn-benchmark\",\n",
    "                      \"--weight-decay=1e-5 --device=0 --beta1=0.9 --beta2=0.9\", path_to_data=path_to_data)\n",
    "\n",
    "study = Study(cifar10_algorithm_generator, args)"
   ]
  },
  {
   "cell_type": "code",
   "execution_count": null,
   "id": "10a1e867-41ef-4058-b7be-f09740997c83",
   "metadata": {
    "tags": []
   },
   "outputs": [
    {
     "data": {
      "text/html": [
       "== Status ==<br>Current time: 2022-06-14 13:31:18 (running for 00:39:55.23)<br>Memory usage on this node: 17.3/187.6 GiB<br>Using FIFO scheduling algorithm.<br>Resources requested: 4.0/80 CPUs, 4.0/4 GPUs, 0.0/117.94 GiB heap, 0.0/54.54 GiB objects (0.0/1.0 accelerator_type:G)<br>Current best trial: 99a8ed88 with mean_accuracy=0.8926809210526315 and parameters={'lr_dense': 0.0024695951214374376, 'weight_decay': 1.6907063021768135e-05, 'gamma': 0.7034723295116997, 'dropout': 0.43566306213008466, 'scale_down': 0.6766522598312192, 'scale_up': 1.1375995641464263, 'ratio_down': 0.7182541044231917, 'ratio_up': 1.0759840523283932, 'channels': 512, 'batch_size': 512}<br>Result logdir: /root/ray_results/runner_tune_2022-06-14_12-51-23<br>Number of trials: 64/400 (4 RUNNING, 60 TERMINATED)<br><table>\n",
       "<thead>\n",
       "<tr><th>Trial name          </th><th>status    </th><th>loc              </th><th style=\"text-align: right;\">  batch_size</th><th style=\"text-align: right;\">  channels</th><th style=\"text-align: right;\">  dropout</th><th style=\"text-align: right;\">   gamma</th><th style=\"text-align: right;\">  lr_dense</th><th style=\"text-align: right;\">  ratio_down</th><th style=\"text-align: right;\">  ratio_up</th><th style=\"text-align: right;\">  scale_down</th><th style=\"text-align: right;\">  scale_up</th><th style=\"text-align: right;\">  weight_decay</th><th style=\"text-align: right;\">     acc</th><th style=\"text-align: right;\">  iter</th><th style=\"text-align: right;\">  total time (s)</th></tr>\n",
       "</thead>\n",
       "<tbody>\n",
       "<tr><td>runner_tune_0d7f60d4</td><td>RUNNING   </td><td>172.17.0.2:107145</td><td style=\"text-align: right;\">         512</td><td style=\"text-align: right;\">       512</td><td style=\"text-align: right;\"> 0.544335</td><td style=\"text-align: right;\">0.812667</td><td style=\"text-align: right;\">0.00248187</td><td style=\"text-align: right;\">    0.723178</td><td style=\"text-align: right;\">   1.05638</td><td style=\"text-align: right;\">    0.680232</td><td style=\"text-align: right;\">  1.18267 </td><td style=\"text-align: right;\">   4.84139e-05</td><td style=\"text-align: right;\">0.853002</td><td style=\"text-align: right;\">     2</td><td style=\"text-align: right;\">         80.0163</td></tr>\n",
       "<tr><td>runner_tune_e0652ce6</td><td>RUNNING   </td><td>172.17.0.2:104311</td><td style=\"text-align: right;\">         512</td><td style=\"text-align: right;\">       512</td><td style=\"text-align: right;\"> 0.552046</td><td style=\"text-align: right;\">0.69653 </td><td style=\"text-align: right;\">0.00253653</td><td style=\"text-align: right;\">    0.819709</td><td style=\"text-align: right;\">   1.06885</td><td style=\"text-align: right;\">    0.674288</td><td style=\"text-align: right;\">  1.17596 </td><td style=\"text-align: right;\">   1.77434e-05</td><td style=\"text-align: right;\">0.880243</td><td style=\"text-align: right;\">     4</td><td style=\"text-align: right;\">        134.16  </td></tr>\n",
       "<tr><td>runner_tune_e6348540</td><td>RUNNING   </td><td>172.17.0.2:104708</td><td style=\"text-align: right;\">         512</td><td style=\"text-align: right;\">       512</td><td style=\"text-align: right;\"> 0.5467  </td><td style=\"text-align: right;\">0.688655</td><td style=\"text-align: right;\">0.00261118</td><td style=\"text-align: right;\">    0.723102</td><td style=\"text-align: right;\">   1.08356</td><td style=\"text-align: right;\">    0.679148</td><td style=\"text-align: right;\">  1.13627 </td><td style=\"text-align: right;\">   1.81614e-05</td><td style=\"text-align: right;\">0.872533</td><td style=\"text-align: right;\">     4</td><td style=\"text-align: right;\">        135.975 </td></tr>\n",
       "<tr><td>runner_tune_f4929be0</td><td>RUNNING   </td><td>172.17.0.2:105603</td><td style=\"text-align: right;\">         512</td><td style=\"text-align: right;\">       512</td><td style=\"text-align: right;\"> 0.551451</td><td style=\"text-align: right;\">0.709076</td><td style=\"text-align: right;\">0.00246216</td><td style=\"text-align: right;\">    0.717842</td><td style=\"text-align: right;\">   1.07593</td><td style=\"text-align: right;\">    0.684372</td><td style=\"text-align: right;\">  1.19865 </td><td style=\"text-align: right;\">   4.19013e-05</td><td style=\"text-align: right;\">0.869757</td><td style=\"text-align: right;\">     3</td><td style=\"text-align: right;\">        104.331 </td></tr>\n",
       "<tr><td>runner_tune_0422009a</td><td>TERMINATED</td><td>172.17.0.2:43408 </td><td style=\"text-align: right;\">         512</td><td style=\"text-align: right;\">       512</td><td style=\"text-align: right;\"> 0.593296</td><td style=\"text-align: right;\">0.320698</td><td style=\"text-align: right;\">0.00755197</td><td style=\"text-align: right;\">    0.706525</td><td style=\"text-align: right;\">   1.23019</td><td style=\"text-align: right;\">    0.547238</td><td style=\"text-align: right;\">  1.12604 </td><td style=\"text-align: right;\">   2.69908e-05</td><td style=\"text-align: right;\">0.854955</td><td style=\"text-align: right;\">     5</td><td style=\"text-align: right;\">        166.396 </td></tr>\n",
       "<tr><td>runner_tune_0cf21424</td><td>TERMINATED</td><td>172.17.0.2:75507 </td><td style=\"text-align: right;\">         512</td><td style=\"text-align: right;\">       128</td><td style=\"text-align: right;\"> 0.524347</td><td style=\"text-align: right;\">0.747728</td><td style=\"text-align: right;\">0.00218162</td><td style=\"text-align: right;\">    0.731857</td><td style=\"text-align: right;\">   1.33853</td><td style=\"text-align: right;\">    0.596853</td><td style=\"text-align: right;\">  1.1485  </td><td style=\"text-align: right;\">   1.0148e-06 </td><td style=\"text-align: right;\">0.810958</td><td style=\"text-align: right;\">     5</td><td style=\"text-align: right;\">         50.0915</td></tr>\n",
       "<tr><td>runner_tune_12524db0</td><td>TERMINATED</td><td>172.17.0.2:28453 </td><td style=\"text-align: right;\">         512</td><td style=\"text-align: right;\">       256</td><td style=\"text-align: right;\"> 0.715172</td><td style=\"text-align: right;\">0.103074</td><td style=\"text-align: right;\">0.00139939</td><td style=\"text-align: right;\">    0.743094</td><td style=\"text-align: right;\">   1.15144</td><td style=\"text-align: right;\">    0.686847</td><td style=\"text-align: right;\">  0.923411</td><td style=\"text-align: right;\">   2.12862e-06</td><td style=\"text-align: right;\">0.796669</td><td style=\"text-align: right;\">     5</td><td style=\"text-align: right;\">         76.6309</td></tr>\n",
       "<tr><td>runner_tune_14d2f0e0</td><td>TERMINATED</td><td>172.17.0.2:91787 </td><td style=\"text-align: right;\">        2048</td><td style=\"text-align: right;\">       512</td><td style=\"text-align: right;\"> 0.478845</td><td style=\"text-align: right;\">0.887274</td><td style=\"text-align: right;\">0.00173694</td><td style=\"text-align: right;\">    0.77351 </td><td style=\"text-align: right;\">   1.15507</td><td style=\"text-align: right;\">    0.698744</td><td style=\"text-align: right;\">  1.16926 </td><td style=\"text-align: right;\">   1.39174e-05</td><td style=\"text-align: right;\">0.870605</td><td style=\"text-align: right;\">     5</td><td style=\"text-align: right;\">        218.339 </td></tr>\n",
       "<tr><td>runner_tune_155c79be</td><td>TERMINATED</td><td>172.17.0.2:91789 </td><td style=\"text-align: right;\">        2048</td><td style=\"text-align: right;\">       512</td><td style=\"text-align: right;\"> 0.485775</td><td style=\"text-align: right;\">0.899836</td><td style=\"text-align: right;\">0.00166   </td><td style=\"text-align: right;\">    0.741396</td><td style=\"text-align: right;\">   1.1582 </td><td style=\"text-align: right;\">    0.695957</td><td style=\"text-align: right;\">  1.09889 </td><td style=\"text-align: right;\">   1.32813e-05</td><td style=\"text-align: right;\">0.865234</td><td style=\"text-align: right;\">     5</td><td style=\"text-align: right;\">        167.194 </td></tr>\n",
       "<tr><td>runner_tune_17e62cac</td><td>TERMINATED</td><td>172.17.0.2:92044 </td><td style=\"text-align: right;\">         512</td><td style=\"text-align: right;\">       512</td><td style=\"text-align: right;\"> 0.495628</td><td style=\"text-align: right;\">0.422892</td><td style=\"text-align: right;\">0.00270622</td><td style=\"text-align: right;\">    0.774116</td><td style=\"text-align: right;\">   1.26432</td><td style=\"text-align: right;\">    0.625411</td><td style=\"text-align: right;\">  1.11411 </td><td style=\"text-align: right;\">   1.55294e-05</td><td style=\"text-align: right;\">0.869449</td><td style=\"text-align: right;\">     5</td><td style=\"text-align: right;\">        168.611 </td></tr>\n",
       "<tr><td>runner_tune_1a3e1088</td><td>TERMINATED</td><td>172.17.0.2:76348 </td><td style=\"text-align: right;\">         512</td><td style=\"text-align: right;\">       256</td><td style=\"text-align: right;\"> 0.546925</td><td style=\"text-align: right;\">0.729703</td><td style=\"text-align: right;\">0.00213536</td><td style=\"text-align: right;\">    0.765854</td><td style=\"text-align: right;\">   1.34964</td><td style=\"text-align: right;\">    0.593984</td><td style=\"text-align: right;\">  1.02854 </td><td style=\"text-align: right;\">   6.86579e-06</td><td style=\"text-align: right;\">0.860711</td><td style=\"text-align: right;\">     5</td><td style=\"text-align: right;\">         76.2766</td></tr>\n",
       "<tr><td>runner_tune_1b8f9ce8</td><td>TERMINATED</td><td>172.17.0.2:29035 </td><td style=\"text-align: right;\">        1024</td><td style=\"text-align: right;\">       128</td><td style=\"text-align: right;\"> 0.708128</td><td style=\"text-align: right;\">0.21741 </td><td style=\"text-align: right;\">0.00609544</td><td style=\"text-align: right;\">    0.780626</td><td style=\"text-align: right;\">   1.13267</td><td style=\"text-align: right;\">    0.571283</td><td style=\"text-align: right;\">  0.996046</td><td style=\"text-align: right;\">   6.67434e-05</td><td style=\"text-align: right;\">0.773438</td><td style=\"text-align: right;\">     5</td><td style=\"text-align: right;\">         43.8717</td></tr>\n",
       "<tr><td>runner_tune_1c1c3344</td><td>TERMINATED</td><td>172.17.0.2:76523 </td><td style=\"text-align: right;\">        2048</td><td style=\"text-align: right;\">       256</td><td style=\"text-align: right;\"> 0.470588</td><td style=\"text-align: right;\">0.749096</td><td style=\"text-align: right;\">0.00232431</td><td style=\"text-align: right;\">    0.729336</td><td style=\"text-align: right;\">   1.33195</td><td style=\"text-align: right;\">    0.627609</td><td style=\"text-align: right;\">  1.09961 </td><td style=\"text-align: right;\">   6.78266e-06</td><td style=\"text-align: right;\">0.835327</td><td style=\"text-align: right;\">     5</td><td style=\"text-align: right;\">         71.3659</td></tr>\n",
       "<tr><td>runner_tune_2375df52</td><td>TERMINATED</td><td>172.17.0.2:45353 </td><td style=\"text-align: right;\">         512</td><td style=\"text-align: right;\">       512</td><td style=\"text-align: right;\"> 0.599672</td><td style=\"text-align: right;\">0.363822</td><td style=\"text-align: right;\">0.00566644</td><td style=\"text-align: right;\">    0.815593</td><td style=\"text-align: right;\">   1.22829</td><td style=\"text-align: right;\">    0.534105</td><td style=\"text-align: right;\">  1.13265 </td><td style=\"text-align: right;\">   1.06576e-06</td><td style=\"text-align: right;\">0.868627</td><td style=\"text-align: right;\">     5</td><td style=\"text-align: right;\">        169.035 </td></tr>\n",
       "<tr><td>runner_tune_2576138c</td><td>TERMINATED</td><td>172.17.0.2:92905 </td><td style=\"text-align: right;\">         512</td><td style=\"text-align: right;\">       512</td><td style=\"text-align: right;\"> 0.428239</td><td style=\"text-align: right;\">0.708601</td><td style=\"text-align: right;\">0.00266836</td><td style=\"text-align: right;\">    0.774405</td><td style=\"text-align: right;\">   1.1335 </td><td style=\"text-align: right;\">    0.692063</td><td style=\"text-align: right;\">  1.17391 </td><td style=\"text-align: right;\">   1.36786e-05</td><td style=\"text-align: right;\">0.88384 </td><td style=\"text-align: right;\">     5</td><td style=\"text-align: right;\">        169.183 </td></tr>\n",
       "<tr><td>runner_tune_2756e8ea</td><td>TERMINATED</td><td>172.17.0.2:61331 </td><td style=\"text-align: right;\">        1024</td><td style=\"text-align: right;\">       512</td><td style=\"text-align: right;\"> 0.383366</td><td style=\"text-align: right;\">0.641806</td><td style=\"text-align: right;\">0.00353708</td><td style=\"text-align: right;\">    0.83361 </td><td style=\"text-align: right;\">   1.11498</td><td style=\"text-align: right;\">    0.503227</td><td style=\"text-align: right;\">  1.06848 </td><td style=\"text-align: right;\">   1.70826e-06</td><td style=\"text-align: right;\">0.867405</td><td style=\"text-align: right;\">     5</td><td style=\"text-align: right;\">        186.748 </td></tr>\n",
       "<tr><td>runner_tune_2d46c940</td><td>TERMINATED</td><td>172.17.0.2:77578 </td><td style=\"text-align: right;\">         512</td><td style=\"text-align: right;\">       512</td><td style=\"text-align: right;\"> 0.458928</td><td style=\"text-align: right;\">0.534072</td><td style=\"text-align: right;\">0.00535144</td><td style=\"text-align: right;\">    0.851929</td><td style=\"text-align: right;\">   1.17886</td><td style=\"text-align: right;\">    0.549288</td><td style=\"text-align: right;\">  1.02924 </td><td style=\"text-align: right;\">   2.19976e-06</td><td style=\"text-align: right;\">0.877056</td><td style=\"text-align: right;\">     5</td><td style=\"text-align: right;\">        189.589 </td></tr>\n",
       "<tr><td>runner_tune_2ecb2718</td><td>TERMINATED</td><td>172.17.0.2:46070 </td><td style=\"text-align: right;\">         512</td><td style=\"text-align: right;\">       512</td><td style=\"text-align: right;\"> 0.6184  </td><td style=\"text-align: right;\">0.39673 </td><td style=\"text-align: right;\">0.00482588</td><td style=\"text-align: right;\">    0.806533</td><td style=\"text-align: right;\">   1.2412 </td><td style=\"text-align: right;\">    0.52893 </td><td style=\"text-align: right;\">  1.12335 </td><td style=\"text-align: right;\">   1.25928e-06</td><td style=\"text-align: right;\">0.871299</td><td style=\"text-align: right;\">     5</td><td style=\"text-align: right;\">        168.329 </td></tr>\n",
       "<tr><td>runner_tune_34b07f38</td><td>TERMINATED</td><td>172.17.0.2:62150 </td><td style=\"text-align: right;\">        1024</td><td style=\"text-align: right;\">       512</td><td style=\"text-align: right;\"> 0.327526</td><td style=\"text-align: right;\">0.662921</td><td style=\"text-align: right;\">0.0032176 </td><td style=\"text-align: right;\">    0.842512</td><td style=\"text-align: right;\">   1.10413</td><td style=\"text-align: right;\">    0.47963 </td><td style=\"text-align: right;\">  1.06334 </td><td style=\"text-align: right;\">   4.36098e-06</td><td style=\"text-align: right;\">0.854926</td><td style=\"text-align: right;\">     5</td><td style=\"text-align: right;\">        163.951 </td></tr>\n",
       "<tr><td>runner_tune_37e05c20</td><td>TERMINATED</td><td>172.17.0.2:30794 </td><td style=\"text-align: right;\">        1024</td><td style=\"text-align: right;\">       128</td><td style=\"text-align: right;\"> 0.286488</td><td style=\"text-align: right;\">0.189686</td><td style=\"text-align: right;\">0.0174181 </td><td style=\"text-align: right;\">    0.870005</td><td style=\"text-align: right;\">   1.16437</td><td style=\"text-align: right;\">    0.614022</td><td style=\"text-align: right;\">  0.973665</td><td style=\"text-align: right;\">   1.27617e-06</td><td style=\"text-align: right;\">0.80013 </td><td style=\"text-align: right;\">     5</td><td style=\"text-align: right;\">         43.8148</td></tr>\n",
       "</tbody>\n",
       "</table><br>... 44 more trials not shown (44 TERMINATED)<br><br>"
      ],
      "text/plain": [
       "<IPython.core.display.HTML object>"
      ]
     },
     "metadata": {},
     "output_type": "display_data"
    },
    {
     "name": "stdout",
     "output_type": "stream",
     "text": [
      "Result for runner_tune_e0652ce6:\n",
      "  date: 2022-06-14_13-31-18\n",
      "  done: false\n",
      "  experiment_id: 57948764d879419ba476a3fb1f71ebc9\n",
      "  hostname: 8924131b90b2\n",
      "  iterations_since_restore: 5\n",
      "  mean_accuracy: 0.8845600328947368\n",
      "  node_ip: 172.17.0.2\n",
      "  pid: 104311\n",
      "  time_since_restore: 166.15800619125366\n",
      "  time_this_iter_s: 31.998493909835815\n",
      "  time_total_s: 166.15800619125366\n",
      "  timestamp: 1655213478\n",
      "  timesteps_since_restore: 0\n",
      "  training_iteration: 5\n",
      "  trial_id: e0652ce6\n",
      "  warmup_time: 0.0047833919525146484\n",
      "  \n",
      "Result for runner_tune_e0652ce6:\n",
      "  date: 2022-06-14_13-31-18\n",
      "  done: true\n",
      "  experiment_id: 57948764d879419ba476a3fb1f71ebc9\n",
      "  experiment_tag: 61_batch_size=512,channels=512,dropout=0.55205,gamma=0.69653,lr_dense=0.0025365,ratio_down=0.81971,ratio_up=1.0689,scale_down=0.67429,scale_up=1.176,weight_decay=1.7743e-05\n",
      "  hostname: 8924131b90b2\n",
      "  iterations_since_restore: 5\n",
      "  mean_accuracy: 0.8845600328947368\n",
      "  node_ip: 172.17.0.2\n",
      "  pid: 104311\n",
      "  time_since_restore: 166.15800619125366\n",
      "  time_this_iter_s: 31.998493909835815\n",
      "  time_total_s: 166.15800619125366\n",
      "  timestamp: 1655213478\n",
      "  timesteps_since_restore: 0\n",
      "  training_iteration: 5\n",
      "  trial_id: e0652ce6\n",
      "  warmup_time: 0.0047833919525146484\n",
      "  \n"
     ]
    }
   ],
   "source": [
    "# hebo = HEBOSearch(metric=\"mean_accuracy\", mode=\"max\")\n",
    "\n",
    "# analysis = study.tune(config={\"lr_dense\": tune.loguniform(1e-3, 2e-2),\n",
    "#                               \"weight_decay\": tune.loguniform(1e-6, 1e-4),\n",
    "#                               \"gamma\": tune.loguniform(.1, .9),\n",
    "#                               \"dropout\": tune.uniform(0, .75),\n",
    "#                               \"scale_down\": tune.uniform(0.4, .7),\n",
    "#                               \"scale_up\": tune.uniform(0.9, 1.2),\n",
    "#                               \"ratio_down\": tune.uniform(0.7, .95),\n",
    "#                               \"ratio_up\": tune.uniform(1.05, 1.4),\n",
    "#                               \"channels\": tune.choice([128, 256, 512]),\n",
    "#                               \"batch_size\": tune.choice([512, 1024, 2048]),},\n",
    "#                        metric=\"mean_accuracy\",\n",
    "#                        max_concurrent_trials=4,\n",
    "#                        resources_per_trial={\"gpu\": 1},\n",
    "#                        mode=\"max\",\n",
    "#                        search_alg=hebo,\n",
    "#                       progress_reporter=JupyterNotebookReporter(overwrite=True),\n",
    "#                        num_samples=400)\n",
    "\n",
    "\n",
    "analysis = study.tune(config={\"lr_dense\": tune.loguniform(1e-3, 2e-2),\n",
    "                              \"weight_decay\": tune.loguniform(1e-6, 1e-4),\n",
    "                              \"gamma\": tune.loguniform(.1, .9),\n",
    "                              \"dropout\": tune.uniform(0, .75),\n",
    "                              \"scale_down\": tune.uniform(0.4, .7),\n",
    "                              \"scale_up\": tune.uniform(0.9, 1.2),\n",
    "                              \"ratio_down\": tune.uniform(0.7, .95),\n",
    "                              \"ratio_up\": tune.uniform(1.05, 1.4),\n",
    "                              \"channels\": tune.choice([128, 256, 512]),\n",
    "                              \"batch_size\": tune.choice([512, 1024, 2048]),},\n",
    "                       metric=\"mean_accuracy\",\n",
    "                       max_concurrent_trials=4,\n",
    "                       resources_per_trial={\"gpu\": 1},\n",
    "                       mode=\"max\",\n",
    "                       search_alg=OptunaSearch(),\n",
    "                      progress_reporter=JupyterNotebookReporter(overwrite=True),\n",
    "                       num_samples=400)\n"
   ]
  },
  {
   "cell_type": "code",
   "execution_count": null,
   "id": "f011e312-be26-4bd6-b8cc-123fd86d85d4",
   "metadata": {},
   "outputs": [],
   "source": []
  }
 ],
 "metadata": {
  "kernelspec": {
   "display_name": "Python 3 (ipykernel)",
   "language": "python",
   "name": "python3"
  },
  "language_info": {
   "codemirror_mode": {
    "name": "ipython",
    "version": 3
   },
   "file_extension": ".py",
   "mimetype": "text/x-python",
   "name": "python",
   "nbconvert_exporter": "python",
   "pygments_lexer": "ipython3",
   "version": "3.8.13"
  },
  "toc-autonumbering": true
 },
 "nbformat": 4,
 "nbformat_minor": 5
}
