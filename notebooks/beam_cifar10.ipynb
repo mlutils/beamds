{
 "cells": [
  {
   "cell_type": "code",
   "execution_count": 1,
   "id": "c974cdd9",
   "metadata": {},
   "outputs": [],
   "source": [
    "%load_ext autoreload\n",
    "%autoreload 2\n",
    "\n",
    "import torch\n",
    "import torchvision\n",
    "import torch.nn.functional as F\n",
    "from torch import nn\n",
    "from sklearn.metrics import precision_recall_fscore_support\n",
    "import numpy as np\n",
    "\n",
    "# manage ray's relative imports\n",
    "\n",
    "import ray\n",
    "\n",
    "from ray import tune\n",
    "from ray.tune.suggest.optuna import OptunaSearch\n",
    "from ray.tune import JupyterNotebookReporter\n",
    "\n",
    "# manage beams's relative imports\n",
    "import sys\n",
    "sys.path.append('..')\n",
    "\n",
    "from src.beam import beam_arguments, Experiment, Study\n",
    "from src.beam import UniversalDataset, UniversalBatchSampler\n",
    "from src.beam import Algorithm\n",
    "from src.beam import LinearNet\n",
    "from torchvision import transforms\n",
    "import matplotlib.pyplot as plt\n",
    "\n",
    "from src.beam import DataTensor\n",
    "from src.beam.utils import is_notebook\n",
    "from examples.cifar10_example import Cifar10Network, CIFAR10Algorithm, CIFAR10Dataset\n",
    "# from cifar10_example import Cifar10Network, CIFAR10Algorithm, CIFAR10Dataset\n",
    "\n",
    "from ray.tune.suggest.hebo import HEBOSearch"
   ]
  },
  {
   "cell_type": "code",
   "execution_count": 3,
   "id": "3fb14c31-398b-48b6-ade7-cfdb06d6d518",
   "metadata": {},
   "outputs": [],
   "source": [
    "# path_to_data = '/localdata/elads/data/datasets/cifar10'\n",
    "# root_dir = '/localdata/elads/data/cifar10'\n",
    "\n",
    "path_to_data = '/home/shared/data/dataset/cifar10'\n",
    "root_dir = '/home/shared/data/results/cifar10'"
   ]
  },
  {
   "cell_type": "markdown",
   "id": "1c0a0006-ec93-4d3e-909e-573cac82365c",
   "metadata": {},
   "source": [
    "## Training with a single worker"
   ]
  },
  {
   "cell_type": "code",
   "execution_count": 14,
   "id": "d9ad3cdf-49b6-4eef-88d0-dc6cca0bfd76",
   "metadata": {
    "tags": []
   },
   "outputs": [
    {
     "name": "stdout",
     "output_type": "stream",
     "text": [
      "\u001b[32m2022-08-11 09:38:43\u001b[0m | \u001b[1mINFO\u001b[0m | \u001b[1mCreating new experiment\u001b[0m\n",
      "\u001b[32m2022-08-11 09:38:43\u001b[0m | \u001b[1mINFO\u001b[0m | \u001b[1mExperiment directory is: /home/shared/data/results/cifar10/cifar10/CIFAR10Algorithm/debug/0019_20220811_093843\u001b[0m\n",
      "\u001b[32m2022-08-11 09:38:44\u001b[0m | \u001b[1mINFO\u001b[0m | \u001b[1mbeam project: cifar10\u001b[0m\n",
      "\u001b[32m2022-08-11 09:38:44\u001b[0m | \u001b[1mINFO\u001b[0m | \u001b[1mExperiment Hyperparameters\u001b[0m\n",
      "\u001b[32m2022-08-11 09:38:44\u001b[0m | \u001b[1mINFO\u001b[0m | \u001b[1mproject_name: cifar10\u001b[0m\n",
      "\u001b[32m2022-08-11 09:38:44\u001b[0m | \u001b[1mINFO\u001b[0m | \u001b[1malgorithm: CIFAR10Algorithm\u001b[0m\n",
      "\u001b[32m2022-08-11 09:38:44\u001b[0m | \u001b[1mINFO\u001b[0m | \u001b[1midentifier: debug\u001b[0m\n",
      "\u001b[32m2022-08-11 09:38:44\u001b[0m | \u001b[1mINFO\u001b[0m | \u001b[1mmp_port: random\u001b[0m\n",
      "\u001b[32m2022-08-11 09:38:44\u001b[0m | \u001b[1mINFO\u001b[0m | \u001b[1mroot_dir: /home/shared/data/results/cifar10\u001b[0m\n",
      "\u001b[32m2022-08-11 09:38:44\u001b[0m | \u001b[1mINFO\u001b[0m | \u001b[1mreload: False\u001b[0m\n",
      "\u001b[32m2022-08-11 09:38:44\u001b[0m | \u001b[1mINFO\u001b[0m | \u001b[1mresume: -1\u001b[0m\n",
      "\u001b[32m2022-08-11 09:38:44\u001b[0m | \u001b[1mINFO\u001b[0m | \u001b[1moverride: False\u001b[0m\n",
      "\u001b[32m2022-08-11 09:38:44\u001b[0m | \u001b[1mINFO\u001b[0m | \u001b[1mcpu_workers: 0\u001b[0m\n",
      "\u001b[32m2022-08-11 09:38:44\u001b[0m | \u001b[1mINFO\u001b[0m | \u001b[1mdevice: 1\u001b[0m\n",
      "\u001b[32m2022-08-11 09:38:44\u001b[0m | \u001b[1mINFO\u001b[0m | \u001b[1mdevice_list: None\u001b[0m\n",
      "\u001b[32m2022-08-11 09:38:44\u001b[0m | \u001b[1mINFO\u001b[0m | \u001b[1mparallel: 0\u001b[0m\n",
      "\u001b[32m2022-08-11 09:38:44\u001b[0m | \u001b[1mINFO\u001b[0m | \u001b[1mtensorboard: True\u001b[0m\n",
      "\u001b[32m2022-08-11 09:38:44\u001b[0m | \u001b[1mINFO\u001b[0m | \u001b[1mlognet: True\u001b[0m\n",
      "\u001b[32m2022-08-11 09:38:44\u001b[0m | \u001b[1mINFO\u001b[0m | \u001b[1mdeterministic: False\u001b[0m\n",
      "\u001b[32m2022-08-11 09:38:44\u001b[0m | \u001b[1mINFO\u001b[0m | \u001b[1mscale_epoch_by_batch_size: True\u001b[0m\n",
      "\u001b[32m2022-08-11 09:38:44\u001b[0m | \u001b[1mINFO\u001b[0m | \u001b[1mhalf: False\u001b[0m\n",
      "\u001b[32m2022-08-11 09:38:44\u001b[0m | \u001b[1mINFO\u001b[0m | \u001b[1mamp: True\u001b[0m\n",
      "\u001b[32m2022-08-11 09:38:44\u001b[0m | \u001b[1mINFO\u001b[0m | \u001b[1mstore_initial_weights: False\u001b[0m\n",
      "\u001b[32m2022-08-11 09:38:44\u001b[0m | \u001b[1mINFO\u001b[0m | \u001b[1minit: ortho\u001b[0m\n",
      "\u001b[32m2022-08-11 09:38:44\u001b[0m | \u001b[1mINFO\u001b[0m | \u001b[1mseed: 0\u001b[0m\n",
      "\u001b[32m2022-08-11 09:38:44\u001b[0m | \u001b[1mINFO\u001b[0m | \u001b[1msplit_dataset_seed: 5782\u001b[0m\n",
      "\u001b[32m2022-08-11 09:38:44\u001b[0m | \u001b[1mINFO\u001b[0m | \u001b[1mtotal_steps: 1000000\u001b[0m\n",
      "\u001b[32m2022-08-11 09:38:44\u001b[0m | \u001b[1mINFO\u001b[0m | \u001b[1mepoch_length: None\u001b[0m\n",
      "\u001b[32m2022-08-11 09:38:44\u001b[0m | \u001b[1mINFO\u001b[0m | \u001b[1mepoch_length_train: None\u001b[0m\n",
      "\u001b[32m2022-08-11 09:38:44\u001b[0m | \u001b[1mINFO\u001b[0m | \u001b[1mepoch_length_eval: None\u001b[0m\n",
      "\u001b[32m2022-08-11 09:38:44\u001b[0m | \u001b[1mINFO\u001b[0m | \u001b[1mn_epochs: 40\u001b[0m\n",
      "\u001b[32m2022-08-11 09:38:44\u001b[0m | \u001b[1mINFO\u001b[0m | \u001b[1mdynamic_sampler: False\u001b[0m\n",
      "\u001b[32m2022-08-11 09:38:44\u001b[0m | \u001b[1mINFO\u001b[0m | \u001b[1mbuffer_size: None\u001b[0m\n",
      "\u001b[32m2022-08-11 09:38:44\u001b[0m | \u001b[1mINFO\u001b[0m | \u001b[1mprobs_normalization: sum\u001b[0m\n",
      "\u001b[32m2022-08-11 09:38:44\u001b[0m | \u001b[1mINFO\u001b[0m | \u001b[1msample_size: 100000\u001b[0m\n",
      "\u001b[32m2022-08-11 09:38:44\u001b[0m | \u001b[1mINFO\u001b[0m | \u001b[1mbatch_size: 512\u001b[0m\n",
      "\u001b[32m2022-08-11 09:38:44\u001b[0m | \u001b[1mINFO\u001b[0m | \u001b[1mbatch_size_train: None\u001b[0m\n",
      "\u001b[32m2022-08-11 09:38:44\u001b[0m | \u001b[1mINFO\u001b[0m | \u001b[1mbatch_size_eval: None\u001b[0m\n",
      "\u001b[32m2022-08-11 09:38:44\u001b[0m | \u001b[1mINFO\u001b[0m | \u001b[1mreduction: sum\u001b[0m\n",
      "\u001b[32m2022-08-11 09:38:44\u001b[0m | \u001b[1mINFO\u001b[0m | \u001b[1mlr_dense: 0.01\u001b[0m\n",
      "\u001b[32m2022-08-11 09:38:44\u001b[0m | \u001b[1mINFO\u001b[0m | \u001b[1mlr_sparse: 0.01\u001b[0m\n",
      "\u001b[32m2022-08-11 09:38:44\u001b[0m | \u001b[1mINFO\u001b[0m | \u001b[1mweight_decay: 3e-05\u001b[0m\n",
      "\u001b[32m2022-08-11 09:38:44\u001b[0m | \u001b[1mINFO\u001b[0m | \u001b[1meps: 0.0001\u001b[0m\n",
      "\u001b[32m2022-08-11 09:38:44\u001b[0m | \u001b[1mINFO\u001b[0m | \u001b[1mbeta1: 0.9\u001b[0m\n",
      "\u001b[32m2022-08-11 09:38:44\u001b[0m | \u001b[1mINFO\u001b[0m | \u001b[1mbeta2: 0.999\u001b[0m\n",
      "\u001b[32m2022-08-11 09:38:44\u001b[0m | \u001b[1mINFO\u001b[0m | \u001b[1mclip_gradient: 1000.0\u001b[0m\n",
      "\u001b[32m2022-08-11 09:38:44\u001b[0m | \u001b[1mINFO\u001b[0m | \u001b[1maccumulate: 1\u001b[0m\n",
      "\u001b[32m2022-08-11 09:38:44\u001b[0m | \u001b[1mINFO\u001b[0m | \u001b[1moversampling_factor: 0.0\u001b[0m\n",
      "\u001b[32m2022-08-11 09:38:44\u001b[0m | \u001b[1mINFO\u001b[0m | \u001b[1mexpansion_size: 10000000\u001b[0m\n",
      "\u001b[32m2022-08-11 09:38:44\u001b[0m | \u001b[1mINFO\u001b[0m | \u001b[1mprint_results: False\u001b[0m\n",
      "\u001b[32m2022-08-11 09:38:44\u001b[0m | \u001b[1mINFO\u001b[0m | \u001b[1mvisualize_weights: True\u001b[0m\n",
      "\u001b[32m2022-08-11 09:38:44\u001b[0m | \u001b[1mINFO\u001b[0m | \u001b[1menable_tqdm: True\u001b[0m\n",
      "\u001b[32m2022-08-11 09:38:44\u001b[0m | \u001b[1mINFO\u001b[0m | \u001b[1mtqdm_threshold: 10.0\u001b[0m\n",
      "\u001b[32m2022-08-11 09:38:44\u001b[0m | \u001b[1mINFO\u001b[0m | \u001b[1mtqdm_stats: 1.0\u001b[0m\n",
      "\u001b[32m2022-08-11 09:38:44\u001b[0m | \u001b[1mINFO\u001b[0m | \u001b[1mvisualize_results: yes\u001b[0m\n",
      "\u001b[32m2022-08-11 09:38:44\u001b[0m | \u001b[1mINFO\u001b[0m | \u001b[1mstore_results: logscale\u001b[0m\n",
      "\u001b[32m2022-08-11 09:38:44\u001b[0m | \u001b[1mINFO\u001b[0m | \u001b[1mstore_networks: logscale\u001b[0m\n",
      "\u001b[32m2022-08-11 09:38:44\u001b[0m | \u001b[1mINFO\u001b[0m | \u001b[1mpath_to_data: /home/shared/data/dataset/cifar10\u001b[0m\n",
      "\u001b[32m2022-08-11 09:38:44\u001b[0m | \u001b[1mINFO\u001b[0m | \u001b[1mdropout: 0.0\u001b[0m\n",
      "\u001b[32m2022-08-11 09:38:44\u001b[0m | \u001b[1mINFO\u001b[0m | \u001b[1mactivation: relu\u001b[0m\n",
      "\u001b[32m2022-08-11 09:38:44\u001b[0m | \u001b[1mINFO\u001b[0m | \u001b[1mchannels: 1024\u001b[0m\n",
      "\u001b[32m2022-08-11 09:38:44\u001b[0m | \u001b[1mINFO\u001b[0m | \u001b[1mlabel_smoothing: 0.2\u001b[0m\n",
      "\u001b[32m2022-08-11 09:38:44\u001b[0m | \u001b[1mINFO\u001b[0m | \u001b[1mpadding: 6\u001b[0m\n",
      "\u001b[32m2022-08-11 09:38:44\u001b[0m | \u001b[1mINFO\u001b[0m | \u001b[1mgain: 0.2\u001b[0m\n",
      "\u001b[32m2022-08-11 09:38:44\u001b[0m | \u001b[1mINFO\u001b[0m | \u001b[1mturn_point: 512\u001b[0m\n",
      "\u001b[32m2022-08-11 09:38:44\u001b[0m | \u001b[1mINFO\u001b[0m | \u001b[1mfinal_point: 4096\u001b[0m\n",
      "\u001b[32m2022-08-11 09:38:44\u001b[0m | \u001b[1mINFO\u001b[0m | \u001b[1mminimal_gain: 0.05\u001b[0m\n",
      "\u001b[32m2022-08-11 09:38:44\u001b[0m | \u001b[1mINFO\u001b[0m | \u001b[1mtemperature: 0.05\u001b[0m\n"
     ]
    }
   ],
   "source": [
    "# here you put all actions which are performed only once before initializing the workers\n",
    "# for example, setti`ng running arguments and experiment:\n",
    "\n",
    "args = beam_arguments(f\"--project-name=cifar10 --root-dir={root_dir} --algorithm=CIFAR10Algorithm --device=1 --amp --lr-d=1e-2 --batch-size=512\",\n",
    "                      \"--n-epochs=40 --clip-gradient=1000 --parallel=0 --accumulate=1 --no-deterministic\",\n",
    "                      \"--weight-decay=3e-5 --beta1=0.9 --enable-tqdm --no-print-results\", \n",
    "                      path_to_data=path_to_data, dropout=.0, activation='relu', channels=1024, label_smoothing=.2,\n",
    "                      padding=6, gain=.2, turn_point=512, final_point=4096, minimal_gain=.05, temperature=0.05)\n",
    "\n",
    "experiment = Experiment(args)"
   ]
  },
  {
   "cell_type": "code",
   "execution_count": 16,
   "id": "f7dc44a8-2691-4229-8d26-7d4a055e7fac",
   "metadata": {},
   "outputs": [
    {
     "name": "stdout",
     "output_type": "stream",
     "text": [
      "\u001b[32m2022-08-11 09:41:06\u001b[0m | \u001b[1mINFO\u001b[0m | \u001b[1mSingle worker mode\u001b[0m\n",
      "\u001b[32m2022-08-11 09:41:06\u001b[0m | \u001b[1mINFO\u001b[0m | \u001b[1mWorker: 1/1 is running...\u001b[0m\n",
      "\u001b[32m2022-08-11 09:41:06\u001b[0m | \u001b[1mINFO\u001b[0m | \u001b[1mWorker 1 will be running on device=cuda:1\u001b[0m\n"
     ]
    },
    {
     "name": "stderr",
     "output_type": "stream",
     "text": [
      "/opt/conda/lib/python3.8/site-packages/torch/optim/lr_scheduler.py:131: UserWarning: Detected call of `lr_scheduler.step()` before `optimizer.step()`. In PyTorch 1.1.0 and later, you should call them in the opposite order: `optimizer.step()` before `lr_scheduler.step()`.  Failure to do this will result in PyTorch skipping the first value of the learning rate schedule. See more details at https://pytorch.org/docs/stable/optim.html#how-to-adjust-learning-rate\n",
      "  warnings.warn(\"Detected call of `lr_scheduler.step()` before `optimizer.step()`. \"\n"
     ]
    },
    {
     "name": "stdout",
     "output_type": "stream",
     "text": [
      "\u001b[32m2022-08-11 09:41:40\u001b[0m | \u001b[31m\u001b[1mERROR\u001b[0m | \u001b[31m\u001b[1mKeyboardInterrupt: Training was interrupted, Worker terminates\u001b[0m\n",
      "\u001b[32m2022-08-11 09:41:40\u001b[0m | \u001b[31m\u001b[1mERROR\u001b[0m | \u001b[31m\u001b[1mKeyboardInterrupt: Training was interrupted, reloads last checkpoint\u001b[0m\n",
      "\u001b[32m2022-08-11 09:41:40\u001b[0m | \u001b[1mINFO\u001b[0m | \u001b[1mReload experiment from checkpoint: /home/shared/data/results/cifar10/cifar10/CIFAR10Algorithm/debug/0019_20220811_093843/checkpoints/checkpoint_000010\u001b[0m\n",
      "\u001b[32m2022-08-11 09:41:40\u001b[0m | \u001b[1mINFO\u001b[0m | \u001b[1mLoading network state from: /home/shared/data/results/cifar10/cifar10/CIFAR10Algorithm/debug/0019_20220811_093843/checkpoints/checkpoint_000010\u001b[0m\n"
     ]
    }
   ],
   "source": [
    "alg = experiment.fit(CIFAR10Algorithm, CIFAR10Dataset, tensorboard_arguments={'images': {'sample': {'dataformats': 'NCHW'}}})"
   ]
  },
  {
   "cell_type": "markdown",
   "id": "bf047ffd-e019-4138-81ae-b5efde63b948",
   "metadata": {},
   "source": [
    "## Reload experiment from path"
   ]
  },
  {
   "cell_type": "code",
   "execution_count": 6,
   "id": "70cebc21-d128-4246-9d70-282d89b17e0d",
   "metadata": {},
   "outputs": [
    {
     "name": "stdout",
     "output_type": "stream",
     "text": [
      "\u001b[32m2022-07-18 10:38:57\u001b[0m | \u001b[1mINFO\u001b[0m | \u001b[1mReload experiment from path: /home/shared/data/results/cifar10/cifar10/CIFAR10Algorithm/debug/0001_20220718_103719\u001b[0m\n",
      "\u001b[32m2022-07-18 10:38:57\u001b[0m | \u001b[1mINFO\u001b[0m | \u001b[1mResuming existing experiment\u001b[0m\n",
      "\u001b[32m2022-07-18 10:38:57\u001b[0m | \u001b[1mINFO\u001b[0m | \u001b[1mbeam project: cifar10\u001b[0m\n",
      "\u001b[32m2022-07-18 10:38:57\u001b[0m | \u001b[1mINFO\u001b[0m | \u001b[1mExperiment Hyperparameters\u001b[0m\n",
      "\u001b[32m2022-07-18 10:38:57\u001b[0m | \u001b[1mINFO\u001b[0m | \u001b[1mproject_name: cifar10\u001b[0m\n",
      "\u001b[32m2022-07-18 10:38:57\u001b[0m | \u001b[1mINFO\u001b[0m | \u001b[1malgorithm: CIFAR10Algorithm\u001b[0m\n",
      "\u001b[32m2022-07-18 10:38:57\u001b[0m | \u001b[1mINFO\u001b[0m | \u001b[1midentifier: debug\u001b[0m\n",
      "\u001b[32m2022-07-18 10:38:57\u001b[0m | \u001b[1mINFO\u001b[0m | \u001b[1mmp_port: random\u001b[0m\n",
      "\u001b[32m2022-07-18 10:38:57\u001b[0m | \u001b[1mINFO\u001b[0m | \u001b[1mroot_dir: /home/shared/data/results/cifar10\u001b[0m\n",
      "\u001b[32m2022-07-18 10:38:57\u001b[0m | \u001b[1mINFO\u001b[0m | \u001b[1mreload: True\u001b[0m\n",
      "\u001b[32m2022-07-18 10:38:57\u001b[0m | \u001b[1mINFO\u001b[0m | \u001b[1mresume: 0001_20220718_103719\u001b[0m\n",
      "\u001b[32m2022-07-18 10:38:57\u001b[0m | \u001b[1mINFO\u001b[0m | \u001b[1moverride: False\u001b[0m\n",
      "\u001b[32m2022-07-18 10:38:57\u001b[0m | \u001b[1mINFO\u001b[0m | \u001b[1mcpu_workers: 0\u001b[0m\n",
      "\u001b[32m2022-07-18 10:38:57\u001b[0m | \u001b[1mINFO\u001b[0m | \u001b[1mdevice: 1\u001b[0m\n",
      "\u001b[32m2022-07-18 10:38:57\u001b[0m | \u001b[1mINFO\u001b[0m | \u001b[1mparallel: 0\u001b[0m\n",
      "\u001b[32m2022-07-18 10:38:57\u001b[0m | \u001b[1mINFO\u001b[0m | \u001b[1mtensorboard: True\u001b[0m\n",
      "\u001b[32m2022-07-18 10:38:57\u001b[0m | \u001b[1mINFO\u001b[0m | \u001b[1mlognet: True\u001b[0m\n",
      "\u001b[32m2022-07-18 10:38:57\u001b[0m | \u001b[1mINFO\u001b[0m | \u001b[1mdeterministic: False\u001b[0m\n",
      "\u001b[32m2022-07-18 10:38:57\u001b[0m | \u001b[1mINFO\u001b[0m | \u001b[1mscale_epoch_by_batch_size: True\u001b[0m\n",
      "\u001b[32m2022-07-18 10:38:57\u001b[0m | \u001b[1mINFO\u001b[0m | \u001b[1mhalf: False\u001b[0m\n",
      "\u001b[32m2022-07-18 10:38:57\u001b[0m | \u001b[1mINFO\u001b[0m | \u001b[1mamp: True\u001b[0m\n",
      "\u001b[32m2022-07-18 10:38:57\u001b[0m | \u001b[1mINFO\u001b[0m | \u001b[1mstore_initial_weights: False\u001b[0m\n",
      "\u001b[32m2022-07-18 10:38:57\u001b[0m | \u001b[1mINFO\u001b[0m | \u001b[1moversample: False\u001b[0m\n",
      "\u001b[32m2022-07-18 10:38:57\u001b[0m | \u001b[1mINFO\u001b[0m | \u001b[1minit: ortho\u001b[0m\n",
      "\u001b[32m2022-07-18 10:38:57\u001b[0m | \u001b[1mINFO\u001b[0m | \u001b[1mseed: 0\u001b[0m\n",
      "\u001b[32m2022-07-18 10:38:57\u001b[0m | \u001b[1mINFO\u001b[0m | \u001b[1msplit_dataset_seed: 5782\u001b[0m\n",
      "\u001b[32m2022-07-18 10:38:57\u001b[0m | \u001b[1mINFO\u001b[0m | \u001b[1mtotal_steps: 1000000\u001b[0m\n",
      "\u001b[32m2022-07-18 10:38:57\u001b[0m | \u001b[1mINFO\u001b[0m | \u001b[1mepoch_length: None\u001b[0m\n",
      "\u001b[32m2022-07-18 10:38:57\u001b[0m | \u001b[1mINFO\u001b[0m | \u001b[1mepoch_length_train: None\u001b[0m\n",
      "\u001b[32m2022-07-18 10:38:57\u001b[0m | \u001b[1mINFO\u001b[0m | \u001b[1mepoch_length_eval: None\u001b[0m\n",
      "\u001b[32m2022-07-18 10:38:57\u001b[0m | \u001b[1mINFO\u001b[0m | \u001b[1mn_epochs: 40\u001b[0m\n",
      "\u001b[32m2022-07-18 10:38:57\u001b[0m | \u001b[1mINFO\u001b[0m | \u001b[1mbatch_size: 512\u001b[0m\n",
      "\u001b[32m2022-07-18 10:38:57\u001b[0m | \u001b[1mINFO\u001b[0m | \u001b[1mbatch_size_train: None\u001b[0m\n",
      "\u001b[32m2022-07-18 10:38:57\u001b[0m | \u001b[1mINFO\u001b[0m | \u001b[1mbatch_size_eval: None\u001b[0m\n",
      "\u001b[32m2022-07-18 10:38:57\u001b[0m | \u001b[1mINFO\u001b[0m | \u001b[1mlr_dense: 0.01\u001b[0m\n",
      "\u001b[32m2022-07-18 10:38:57\u001b[0m | \u001b[1mINFO\u001b[0m | \u001b[1mlr_sparse: 0.01\u001b[0m\n",
      "\u001b[32m2022-07-18 10:38:57\u001b[0m | \u001b[1mINFO\u001b[0m | \u001b[1mweight_decay: 3e-05\u001b[0m\n",
      "\u001b[32m2022-07-18 10:38:57\u001b[0m | \u001b[1mINFO\u001b[0m | \u001b[1meps: 0.0001\u001b[0m\n",
      "\u001b[32m2022-07-18 10:38:57\u001b[0m | \u001b[1mINFO\u001b[0m | \u001b[1mbeta1: 0.9\u001b[0m\n",
      "\u001b[32m2022-07-18 10:38:57\u001b[0m | \u001b[1mINFO\u001b[0m | \u001b[1mbeta2: 0.999\u001b[0m\n",
      "\u001b[32m2022-07-18 10:38:57\u001b[0m | \u001b[1mINFO\u001b[0m | \u001b[1mclip_gradient: 1000.0\u001b[0m\n",
      "\u001b[32m2022-07-18 10:38:57\u001b[0m | \u001b[1mINFO\u001b[0m | \u001b[1maccumulate: 1\u001b[0m\n",
      "\u001b[32m2022-07-18 10:38:57\u001b[0m | \u001b[1mINFO\u001b[0m | \u001b[1moversampling_weight_factor: 1.0\u001b[0m\n",
      "\u001b[32m2022-07-18 10:38:57\u001b[0m | \u001b[1mINFO\u001b[0m | \u001b[1mexpansion_size: 10000000\u001b[0m\n",
      "\u001b[32m2022-07-18 10:38:57\u001b[0m | \u001b[1mINFO\u001b[0m | \u001b[1mprint_results: True\u001b[0m\n",
      "\u001b[32m2022-07-18 10:38:57\u001b[0m | \u001b[1mINFO\u001b[0m | \u001b[1mvisualize_weights: True\u001b[0m\n",
      "\u001b[32m2022-07-18 10:38:57\u001b[0m | \u001b[1mINFO\u001b[0m | \u001b[1menable_tqdm: True\u001b[0m\n",
      "\u001b[32m2022-07-18 10:38:57\u001b[0m | \u001b[1mINFO\u001b[0m | \u001b[1mtqdm_threshold: 10.0\u001b[0m\n",
      "\u001b[32m2022-07-18 10:38:57\u001b[0m | \u001b[1mINFO\u001b[0m | \u001b[1mtqdm_stats: 1.0\u001b[0m\n",
      "\u001b[32m2022-07-18 10:38:57\u001b[0m | \u001b[1mINFO\u001b[0m | \u001b[1mvisualize_results: yes\u001b[0m\n",
      "\u001b[32m2022-07-18 10:38:57\u001b[0m | \u001b[1mINFO\u001b[0m | \u001b[1mstore_results: logscale\u001b[0m\n",
      "\u001b[32m2022-07-18 10:38:57\u001b[0m | \u001b[1mINFO\u001b[0m | \u001b[1mstore_networks: logscale\u001b[0m\n",
      "\u001b[32m2022-07-18 10:38:57\u001b[0m | \u001b[1mINFO\u001b[0m | \u001b[1mpath_to_data: /home/shared/data/dataset/cifar10\u001b[0m\n",
      "\u001b[32m2022-07-18 10:38:57\u001b[0m | \u001b[1mINFO\u001b[0m | \u001b[1mdropout: 0.0\u001b[0m\n",
      "\u001b[32m2022-07-18 10:38:57\u001b[0m | \u001b[1mINFO\u001b[0m | \u001b[1mactivation: relu\u001b[0m\n",
      "\u001b[32m2022-07-18 10:38:57\u001b[0m | \u001b[1mINFO\u001b[0m | \u001b[1mchannels: 1024\u001b[0m\n",
      "\u001b[32m2022-07-18 10:38:57\u001b[0m | \u001b[1mINFO\u001b[0m | \u001b[1mlabel_smoothing: 0.2\u001b[0m\n",
      "\u001b[32m2022-07-18 10:38:57\u001b[0m | \u001b[1mINFO\u001b[0m | \u001b[1mpadding: 6\u001b[0m\n",
      "\u001b[32m2022-07-18 10:38:57\u001b[0m | \u001b[1mINFO\u001b[0m | \u001b[1mgain: 0.2\u001b[0m\n",
      "\u001b[32m2022-07-18 10:38:57\u001b[0m | \u001b[1mINFO\u001b[0m | \u001b[1mturn_point: 512\u001b[0m\n",
      "\u001b[32m2022-07-18 10:38:57\u001b[0m | \u001b[1mINFO\u001b[0m | \u001b[1mfinal_point: 4096\u001b[0m\n",
      "\u001b[32m2022-07-18 10:38:57\u001b[0m | \u001b[1mINFO\u001b[0m | \u001b[1mminimal_gain: 0.05\u001b[0m\n",
      "\u001b[32m2022-07-18 10:38:57\u001b[0m | \u001b[1mINFO\u001b[0m | \u001b[1mtemperature: 0.05\u001b[0m\n",
      "\u001b[32m2022-07-18 10:38:57\u001b[0m | \u001b[1mINFO\u001b[0m | \u001b[1mReload experiment from checkpoint: /home/shared/data/results/cifar10/cifar10/CIFAR10Algorithm/debug/0001_20220718_103719/checkpoints/checkpoint_000004\u001b[0m\n"
     ]
    }
   ],
   "source": [
    "experiment = Experiment.reload_from_path('/home/shared/data/results/cifar10/cifar10/CIFAR10Algorithm/debug/0001_20220718_103719')"
   ]
  },
  {
   "cell_type": "markdown",
   "id": "1251969b-f101-492f-b8c8-0a31af79e3cf",
   "metadata": {},
   "source": [
    "continue training"
   ]
  },
  {
   "cell_type": "code",
   "execution_count": 7,
   "id": "2490b46c-fe4f-4065-a932-a5e4b1916845",
   "metadata": {
    "tags": []
   },
   "outputs": [
    {
     "name": "stdout",
     "output_type": "stream",
     "text": [
      "\u001b[32m2022-07-18 10:39:12\u001b[0m | \u001b[1mINFO\u001b[0m | \u001b[1mSingle worker mode\u001b[0m\n",
      "\u001b[32m2022-07-18 10:39:12\u001b[0m | \u001b[1mINFO\u001b[0m | \u001b[1mWorker: 1/1 is running...\u001b[0m\n",
      "\u001b[32m2022-07-18 10:39:12\u001b[0m | \u001b[1mINFO\u001b[0m | \u001b[1mLoading network state from: /home/shared/data/results/cifar10/cifar10/CIFAR10Algorithm/debug/0001_20220718_103719/checkpoints/checkpoint_000004\u001b[0m\n"
     ]
    },
    {
     "name": "stderr",
     "output_type": "stream",
     "text": [
      "/opt/conda/lib/python3.8/site-packages/torch/optim/lr_scheduler.py:131: UserWarning: Detected call of `lr_scheduler.step()` before `optimizer.step()`. In PyTorch 1.1.0 and later, you should call them in the opposite order: `optimizer.step()` before `lr_scheduler.step()`.  Failure to do this will result in PyTorch skipping the first value of the learning rate schedule. See more details at https://pytorch.org/docs/stable/optim.html#how-to-adjust-learning-rate\n",
      "  warnings.warn(\"Detected call of `lr_scheduler.step()` before `optimizer.step()`. \"\n"
     ]
    },
    {
     "name": "stdout",
     "output_type": "stream",
     "text": [
      "\u001b[32m2022-07-18 10:39:19\u001b[0m | \u001b[1mINFO\u001b[0m | \u001b[1m\u001b[0m\n",
      "\u001b[32m2022-07-18 10:39:19\u001b[0m | \u001b[1mINFO\u001b[0m | \u001b[1mFinished epoch 4/40:\u001b[0m\n",
      "\u001b[32m2022-07-18 10:39:19\u001b[0m | \u001b[1mINFO\u001b[0m | \u001b[1mtrain:\u001b[0m\n",
      "\u001b[32m2022-07-18 10:39:19\u001b[0m | \u001b[1mINFO\u001b[0m | \u001b[1mseconds:  5.869 | batches: 73 | samples:  3.738e+04 | batch_rate:  12.44 [iter/sec] | sample_rate:  6.368e+03 [iter/sec] \u001b[0m\n",
      "\u001b[32m2022-07-18 10:39:19\u001b[0m | \u001b[1mINFO\u001b[0m | \u001b[1mloss:        | avg: 590.8     | std: 14.87     | min: 563.8     | 25%: 580.4     | 50%: 588.5     | 75%: 601.9     | max: 627.2     \u001b[0m\n",
      "\u001b[32m2022-07-18 10:39:19\u001b[0m | \u001b[1mINFO\u001b[0m | \u001b[1macc:         | avg: 0.8721    | std: 0.01807   | min: 0.8262    | 25%: 0.8594    | 50%: 0.8711    | 75%: 0.8848    | max: 0.9102    \u001b[0m\n",
      "\u001b[32m2022-07-18 10:39:19\u001b[0m | \u001b[1mINFO\u001b[0m | \u001b[1mlr:          | avg: 0.0005    | std: nan       | min: 0.0005    | 25%: 0.0005    | 50%: 0.0005    | 75%: 0.0005    | max: 0.0005    \u001b[0m\n",
      "\u001b[32m2022-07-18 10:39:19\u001b[0m | \u001b[1mINFO\u001b[0m | \u001b[1mvalidation:\u001b[0m\n",
      "\u001b[32m2022-07-18 10:39:19\u001b[0m | \u001b[1mINFO\u001b[0m | \u001b[1mseconds:  0.6048 | batches: 22 | samples:  1.126e+04 | batch_rate:  36.38 [iter/sec] | sample_rate:  1.862e+04 [iter/sec] \u001b[0m\n",
      "\u001b[32m2022-07-18 10:39:19\u001b[0m | \u001b[1mINFO\u001b[0m | \u001b[1mloss:        | avg: 597.3     | std: 12.0      | min: 575.6     | 25%: 590.8     | 50%: 595.6     | 75%: 601.7     | max: 619.9     \u001b[0m\n",
      "\u001b[32m2022-07-18 10:39:19\u001b[0m | \u001b[1mINFO\u001b[0m | \u001b[1macc:         | avg: 0.8643    | std: 0.01628   | min: 0.832     | 25%: 0.8555    | 50%: 0.8643    | 75%: 0.8706    | max: 0.8965    \u001b[0m\n",
      "\u001b[32m2022-07-18 10:39:28\u001b[0m | \u001b[1mINFO\u001b[0m | \u001b[1m\u001b[0m\n",
      "\u001b[32m2022-07-18 10:39:28\u001b[0m | \u001b[1mINFO\u001b[0m | \u001b[1mFinished epoch 5/40:\u001b[0m\n",
      "\u001b[32m2022-07-18 10:39:28\u001b[0m | \u001b[1mINFO\u001b[0m | \u001b[1mtrain:\u001b[0m\n",
      "\u001b[32m2022-07-18 10:39:28\u001b[0m | \u001b[1mINFO\u001b[0m | \u001b[1mseconds:  5.967 | batches: 73 | samples:  3.738e+04 | batch_rate:  12.23 [iter/sec] | sample_rate:  6.264e+03 [iter/sec] \u001b[0m\n",
      "\u001b[32m2022-07-18 10:39:28\u001b[0m | \u001b[1mINFO\u001b[0m | \u001b[1mloss:        | avg: 569.3     | std: 12.85     | min: 545.2     | 25%: 558.9     | 50%: 568.3     | 75%: 577.9     | max: 597.9     \u001b[0m\n",
      "\u001b[32m2022-07-18 10:39:28\u001b[0m | \u001b[1mINFO\u001b[0m | \u001b[1macc:         | avg: 0.8937    | std: 0.01693   | min: 0.8574    | 25%: 0.8789    | 50%: 0.8945    | 75%: 0.9102    | max: 0.9238    \u001b[0m\n",
      "\u001b[32m2022-07-18 10:39:28\u001b[0m | \u001b[1mINFO\u001b[0m | \u001b[1mlr:          | avg: 0.0005703 | std: nan       | min: 0.0005703 | 25%: 0.0005703 | 50%: 0.0005703 | 75%: 0.0005703 | max: 0.0005703 \u001b[0m\n",
      "\u001b[32m2022-07-18 10:39:28\u001b[0m | \u001b[1mINFO\u001b[0m | \u001b[1mvalidation:\u001b[0m\n",
      "\u001b[32m2022-07-18 10:39:28\u001b[0m | \u001b[1mINFO\u001b[0m | \u001b[1mseconds:  0.6073 | batches: 22 | samples:  1.126e+04 | batch_rate:  36.22 [iter/sec] | sample_rate:  1.855e+04 [iter/sec] \u001b[0m\n",
      "\u001b[32m2022-07-18 10:39:28\u001b[0m | \u001b[1mINFO\u001b[0m | \u001b[1mloss:        | avg: 610.4     | std: 13.01     | min: 588.2     | 25%: 599.2     | 50%: 613.0     | 75%: 617.1     | max: 634.1     \u001b[0m\n",
      "\u001b[32m2022-07-18 10:39:28\u001b[0m | \u001b[1mINFO\u001b[0m | \u001b[1macc:         | avg: 0.8452    | std: 0.01887   | min: 0.7988    | 25%: 0.8394    | 50%: 0.8477    | 75%: 0.8589    | max: 0.877     \u001b[0m\n",
      "\u001b[32m2022-07-18 10:39:38\u001b[0m | \u001b[1mINFO\u001b[0m | \u001b[1m\u001b[0m\n",
      "\u001b[32m2022-07-18 10:39:38\u001b[0m | \u001b[1mINFO\u001b[0m | \u001b[1mFinished epoch 6/40:\u001b[0m\n",
      "\u001b[32m2022-07-18 10:39:38\u001b[0m | \u001b[1mINFO\u001b[0m | \u001b[1mtrain:\u001b[0m\n",
      "\u001b[32m2022-07-18 10:39:38\u001b[0m | \u001b[1mINFO\u001b[0m | \u001b[1mseconds:  5.95 | batches: 73 | samples:  3.738e+04 | batch_rate:  12.27 [iter/sec] | sample_rate:  6.282e+03 [iter/sec] \u001b[0m\n",
      "\u001b[32m2022-07-18 10:39:38\u001b[0m | \u001b[1mINFO\u001b[0m | \u001b[1mloss:        | avg: 566.6     | std: 11.86     | min: 544.5     | 25%: 556.8     | 50%: 566.5     | 75%: 574.5     | max: 591.6     \u001b[0m\n",
      "\u001b[32m2022-07-18 10:39:38\u001b[0m | \u001b[1mINFO\u001b[0m | \u001b[1macc:         | avg: 0.8952    | std: 0.01573   | min: 0.8574    | 25%: 0.8848    | 50%: 0.8945    | 75%: 0.9062    | max: 0.9277    \u001b[0m\n",
      "\u001b[32m2022-07-18 10:39:38\u001b[0m | \u001b[1mINFO\u001b[0m | \u001b[1mlr:          | avg: 0.0008555 | std: nan       | min: 0.0008555 | 25%: 0.0008555 | 50%: 0.0008555 | 75%: 0.0008555 | max: 0.0008555 \u001b[0m\n",
      "\u001b[32m2022-07-18 10:39:38\u001b[0m | \u001b[1mINFO\u001b[0m | \u001b[1mvalidation:\u001b[0m\n",
      "\u001b[32m2022-07-18 10:39:38\u001b[0m | \u001b[1mINFO\u001b[0m | \u001b[1mseconds:  0.6132 | batches: 22 | samples:  1.126e+04 | batch_rate:  35.88 [iter/sec] | sample_rate:  1.837e+04 [iter/sec] \u001b[0m\n",
      "\u001b[32m2022-07-18 10:39:38\u001b[0m | \u001b[1mINFO\u001b[0m | \u001b[1mloss:        | avg: 594.8     | std: 9.173     | min: 577.7     | 25%: 588.5     | 50%: 596.5     | 75%: 601.9     | max: 608.7     \u001b[0m\n",
      "\u001b[32m2022-07-18 10:39:38\u001b[0m | \u001b[1mINFO\u001b[0m | \u001b[1macc:         | avg: 0.8635    | std: 0.01504   | min: 0.8359    | 25%: 0.8555    | 50%: 0.8652    | 75%: 0.8721    | max: 0.8945    \u001b[0m\n",
      "\u001b[32m2022-07-18 10:39:47\u001b[0m | \u001b[1mINFO\u001b[0m | \u001b[1m\u001b[0m\n",
      "\u001b[32m2022-07-18 10:39:47\u001b[0m | \u001b[1mINFO\u001b[0m | \u001b[1mFinished epoch 7/40:\u001b[0m\n",
      "\u001b[32m2022-07-18 10:39:47\u001b[0m | \u001b[1mINFO\u001b[0m | \u001b[1mtrain:\u001b[0m\n",
      "\u001b[32m2022-07-18 10:39:47\u001b[0m | \u001b[1mINFO\u001b[0m | \u001b[1mseconds:  5.981 | batches: 73 | samples:  3.738e+04 | batch_rate:  12.21 [iter/sec] | sample_rate:  6.249e+03 [iter/sec] \u001b[0m\n",
      "\u001b[32m2022-07-18 10:39:47\u001b[0m | \u001b[1mINFO\u001b[0m | \u001b[1mloss:        | avg: 568.7     | std: 13.32     | min: 539.4     | 25%: 559.9     | 50%: 568.5     | 75%: 576.8     | max: 609.5     \u001b[0m\n",
      "\u001b[32m2022-07-18 10:39:47\u001b[0m | \u001b[1mINFO\u001b[0m | \u001b[1macc:         | avg: 0.8947    | std: 0.01739   | min: 0.8555    | 25%: 0.8848    | 50%: 0.8965    | 75%: 0.9062    | max: 0.9375    \u001b[0m\n",
      "\u001b[32m2022-07-18 10:39:47\u001b[0m | \u001b[1mINFO\u001b[0m | \u001b[1mlr:          | avg: 0.001141  | std: nan       | min: 0.001141  | 25%: 0.001141  | 50%: 0.001141  | 75%: 0.001141  | max: 0.001141  \u001b[0m\n",
      "\u001b[32m2022-07-18 10:39:47\u001b[0m | \u001b[1mINFO\u001b[0m | \u001b[1mvalidation:\u001b[0m\n",
      "\u001b[32m2022-07-18 10:39:47\u001b[0m | \u001b[1mINFO\u001b[0m | \u001b[1mseconds:  0.6145 | batches: 22 | samples:  1.126e+04 | batch_rate:  35.8 [iter/sec] | sample_rate:  1.833e+04 [iter/sec] \u001b[0m\n",
      "\u001b[32m2022-07-18 10:39:47\u001b[0m | \u001b[1mINFO\u001b[0m | \u001b[1mloss:        | avg: 582.1     | std: 10.49     | min: 562.5     | 25%: 575.9     | 50%: 583.4     | 75%: 589.0     | max: 596.4     \u001b[0m\n",
      "\u001b[32m2022-07-18 10:39:47\u001b[0m | \u001b[1mINFO\u001b[0m | \u001b[1macc:         | avg: 0.8744    | std: 0.01803   | min: 0.8516    | 25%: 0.8638    | 50%: 0.873     | 75%: 0.8804    | max: 0.9199    \u001b[0m\n",
      "\u001b[32m2022-07-18 10:39:56\u001b[0m | \u001b[1mINFO\u001b[0m | \u001b[1m\u001b[0m\n",
      "\u001b[32m2022-07-18 10:39:56\u001b[0m | \u001b[1mINFO\u001b[0m | \u001b[1mFinished epoch 8/40:\u001b[0m\n",
      "\u001b[32m2022-07-18 10:39:56\u001b[0m | \u001b[1mINFO\u001b[0m | \u001b[1mtrain:\u001b[0m\n",
      "\u001b[32m2022-07-18 10:39:56\u001b[0m | \u001b[1mINFO\u001b[0m | \u001b[1mseconds:  6.014 | batches: 73 | samples:  3.738e+04 | batch_rate:  12.14 [iter/sec] | sample_rate:  6.215e+03 [iter/sec] \u001b[0m\n",
      "\u001b[32m2022-07-18 10:39:56\u001b[0m | \u001b[1mINFO\u001b[0m | \u001b[1mloss:        | avg: 568.1     | std: 17.35     | min: 528.9     | 25%: 557.6     | 50%: 567.2     | 75%: 579.3     | max: 626.8     \u001b[0m\n",
      "\u001b[32m2022-07-18 10:39:56\u001b[0m | \u001b[1mINFO\u001b[0m | \u001b[1macc:         | avg: 0.8932    | std: 0.02034   | min: 0.834     | 25%: 0.8809    | 50%: 0.8926    | 75%: 0.9043    | max: 0.9414    \u001b[0m\n",
      "\u001b[32m2022-07-18 10:39:56\u001b[0m | \u001b[1mINFO\u001b[0m | \u001b[1mlr:          | avg: 0.001426  | std: nan       | min: 0.001426  | 25%: 0.001426  | 50%: 0.001426  | 75%: 0.001426  | max: 0.001426  \u001b[0m\n",
      "\u001b[32m2022-07-18 10:39:56\u001b[0m | \u001b[1mINFO\u001b[0m | \u001b[1mvalidation:\u001b[0m\n",
      "\u001b[32m2022-07-18 10:39:56\u001b[0m | \u001b[1mINFO\u001b[0m | \u001b[1mseconds:  0.618 | batches: 22 | samples:  1.126e+04 | batch_rate:  35.6 [iter/sec] | sample_rate:  1.823e+04 [iter/sec] \u001b[0m\n",
      "\u001b[32m2022-07-18 10:39:56\u001b[0m | \u001b[1mINFO\u001b[0m | \u001b[1mloss:        | avg: 591.8     | std: 8.36      | min: 579.7     | 25%: 584.9     | 50%: 590.8     | 75%: 597.8     | max: 608.3     \u001b[0m\n",
      "\u001b[32m2022-07-18 10:39:56\u001b[0m | \u001b[1mINFO\u001b[0m | \u001b[1macc:         | avg: 0.8642    | std: 0.01109   | min: 0.8457    | 25%: 0.856     | 50%: 0.8633    | 75%: 0.874     | max: 0.8848    \u001b[0m\n",
      "\u001b[32m2022-07-18 10:40:05\u001b[0m | \u001b[1mINFO\u001b[0m | \u001b[1m\u001b[0m\n",
      "\u001b[32m2022-07-18 10:40:05\u001b[0m | \u001b[1mINFO\u001b[0m | \u001b[1mFinished epoch 9/40:\u001b[0m\n",
      "\u001b[32m2022-07-18 10:40:05\u001b[0m | \u001b[1mINFO\u001b[0m | \u001b[1mtrain:\u001b[0m\n",
      "\u001b[32m2022-07-18 10:40:05\u001b[0m | \u001b[1mINFO\u001b[0m | \u001b[1mseconds:  6.014 | batches: 73 | samples:  3.738e+04 | batch_rate:  12.14 [iter/sec] | sample_rate:  6.215e+03 [iter/sec] \u001b[0m\n",
      "\u001b[32m2022-07-18 10:40:05\u001b[0m | \u001b[1mINFO\u001b[0m | \u001b[1mloss:        | avg: 561.1     | std: 15.32     | min: 531.7     | 25%: 550.1     | 50%: 558.0     | 75%: 571.8     | max: 603.6     \u001b[0m\n",
      "\u001b[32m2022-07-18 10:40:05\u001b[0m | \u001b[1mINFO\u001b[0m | \u001b[1macc:         | avg: 0.9017    | std: 0.0189    | min: 0.8496    | 25%: 0.8906    | 50%: 0.9043    | 75%: 0.9141    | max: 0.9395    \u001b[0m\n",
      "\u001b[32m2022-07-18 10:40:05\u001b[0m | \u001b[1mINFO\u001b[0m | \u001b[1mlr:          | avg: 0.001711  | std: nan       | min: 0.001711  | 25%: 0.001711  | 50%: 0.001711  | 75%: 0.001711  | max: 0.001711  \u001b[0m\n",
      "\u001b[32m2022-07-18 10:40:05\u001b[0m | \u001b[1mINFO\u001b[0m | \u001b[1mvalidation:\u001b[0m\n",
      "\u001b[32m2022-07-18 10:40:05\u001b[0m | \u001b[1mINFO\u001b[0m | \u001b[1mseconds:  0.6165 | batches: 22 | samples:  1.126e+04 | batch_rate:  35.68 [iter/sec] | sample_rate:  1.827e+04 [iter/sec] \u001b[0m\n",
      "\u001b[32m2022-07-18 10:40:05\u001b[0m | \u001b[1mINFO\u001b[0m | \u001b[1mloss:        | avg: 598.3     | std: 12.3      | min: 575.7     | 25%: 591.1     | 50%: 597.3     | 75%: 601.2     | max: 627.6     \u001b[0m\n",
      "\u001b[32m2022-07-18 10:40:05\u001b[0m | \u001b[1mINFO\u001b[0m | \u001b[1macc:         | avg: 0.8584    | std: 0.01855   | min: 0.8105    | 25%: 0.8506    | 50%: 0.8643    | 75%: 0.8706    | max: 0.8848    \u001b[0m\n",
      "\u001b[32m2022-07-18 10:40:15\u001b[0m | \u001b[1mINFO\u001b[0m | \u001b[1m\u001b[0m\n",
      "\u001b[32m2022-07-18 10:40:15\u001b[0m | \u001b[1mINFO\u001b[0m | \u001b[1mFinished epoch 10/40:\u001b[0m\n",
      "\u001b[32m2022-07-18 10:40:15\u001b[0m | \u001b[1mINFO\u001b[0m | \u001b[1mtrain:\u001b[0m\n",
      "\u001b[32m2022-07-18 10:40:15\u001b[0m | \u001b[1mINFO\u001b[0m | \u001b[1mseconds:  6.034 | batches: 73 | samples:  3.738e+04 | batch_rate:  12.1 [iter/sec] | sample_rate:  6.195e+03 [iter/sec] \u001b[0m\n",
      "\u001b[32m2022-07-18 10:40:15\u001b[0m | \u001b[1mINFO\u001b[0m | \u001b[1mloss:        | avg: 550.9     | std: 11.96     | min: 518.8     | 25%: 544.7     | 50%: 551.0     | 75%: 556.9     | max: 597.8     \u001b[0m\n",
      "\u001b[32m2022-07-18 10:40:15\u001b[0m | \u001b[1mINFO\u001b[0m | \u001b[1macc:         | avg: 0.9115    | std: 0.01622   | min: 0.8613    | 25%: 0.9023    | 50%: 0.9102    | 75%: 0.9219    | max: 0.9531    \u001b[0m\n",
      "\u001b[32m2022-07-18 10:40:15\u001b[0m | \u001b[1mINFO\u001b[0m | \u001b[1mlr:          | avg: 0.001996  | std: nan       | min: 0.001996  | 25%: 0.001996  | 50%: 0.001996  | 75%: 0.001996  | max: 0.001996  \u001b[0m\n",
      "\u001b[32m2022-07-18 10:40:15\u001b[0m | \u001b[1mINFO\u001b[0m | \u001b[1mvalidation:\u001b[0m\n",
      "\u001b[32m2022-07-18 10:40:15\u001b[0m | \u001b[1mINFO\u001b[0m | \u001b[1mseconds:  0.6193 | batches: 22 | samples:  1.126e+04 | batch_rate:  35.52 [iter/sec] | sample_rate:  1.819e+04 [iter/sec] \u001b[0m\n",
      "\u001b[32m2022-07-18 10:40:15\u001b[0m | \u001b[1mINFO\u001b[0m | \u001b[1mloss:        | avg: 583.9     | std: 8.239     | min: 569.7     | 25%: 577.2     | 50%: 585.5     | 75%: 589.8     | max: 598.2     \u001b[0m\n",
      "\u001b[32m2022-07-18 10:40:15\u001b[0m | \u001b[1mINFO\u001b[0m | \u001b[1macc:         | avg: 0.8717    | std: 0.01212   | min: 0.8477    | 25%: 0.8638    | 50%: 0.873     | 75%: 0.8789    | max: 0.8926    \u001b[0m\n",
      "\u001b[32m2022-07-18 10:40:24\u001b[0m | \u001b[1mINFO\u001b[0m | \u001b[1m\u001b[0m\n",
      "\u001b[32m2022-07-18 10:40:24\u001b[0m | \u001b[1mINFO\u001b[0m | \u001b[1mFinished epoch 11/40:\u001b[0m\n",
      "\u001b[32m2022-07-18 10:40:24\u001b[0m | \u001b[1mINFO\u001b[0m | \u001b[1mtrain:\u001b[0m\n",
      "\u001b[32m2022-07-18 10:40:24\u001b[0m | \u001b[1mINFO\u001b[0m | \u001b[1mseconds:  6.028 | batches: 73 | samples:  3.738e+04 | batch_rate:  12.11 [iter/sec] | sample_rate:  6.201e+03 [iter/sec] \u001b[0m\n",
      "\u001b[32m2022-07-18 10:40:24\u001b[0m | \u001b[1mINFO\u001b[0m | \u001b[1mloss:        | avg: 543.3     | std: 11.7      | min: 517.9     | 25%: 534.7     | 50%: 543.5     | 75%: 549.7     | max: 575.9     \u001b[0m\n",
      "\u001b[32m2022-07-18 10:40:24\u001b[0m | \u001b[1mINFO\u001b[0m | \u001b[1macc:         | avg: 0.9191    | std: 0.01438   | min: 0.8828    | 25%: 0.9082    | 50%: 0.9199    | 75%: 0.9297    | max: 0.9512    \u001b[0m\n",
      "\u001b[32m2022-07-18 10:40:24\u001b[0m | \u001b[1mINFO\u001b[0m | \u001b[1mlr:          | avg: 0.00196   | std: nan       | min: 0.00196   | 25%: 0.00196   | 50%: 0.00196   | 75%: 0.00196   | max: 0.00196   \u001b[0m\n",
      "\u001b[32m2022-07-18 10:40:24\u001b[0m | \u001b[1mINFO\u001b[0m | \u001b[1mvalidation:\u001b[0m\n",
      "\u001b[32m2022-07-18 10:40:24\u001b[0m | \u001b[1mINFO\u001b[0m | \u001b[1mseconds:  0.6186 | batches: 22 | samples:  1.126e+04 | batch_rate:  35.56 [iter/sec] | sample_rate:  1.821e+04 [iter/sec] \u001b[0m\n",
      "\u001b[32m2022-07-18 10:40:24\u001b[0m | \u001b[1mINFO\u001b[0m | \u001b[1mloss:        | avg: 595.6     | std: 14.9      | min: 569.1     | 25%: 584.3     | 50%: 592.8     | 75%: 603.8     | max: 626.0     \u001b[0m\n",
      "\u001b[32m2022-07-18 10:40:24\u001b[0m | \u001b[1mINFO\u001b[0m | \u001b[1macc:         | avg: 0.8567    | std: 0.02005   | min: 0.8184    | 25%: 0.8418    | 50%: 0.8584    | 75%: 0.8682    | max: 0.9043    \u001b[0m\n",
      "\u001b[32m2022-07-18 10:40:33\u001b[0m | \u001b[1mINFO\u001b[0m | \u001b[1m\u001b[0m\n",
      "\u001b[32m2022-07-18 10:40:33\u001b[0m | \u001b[1mINFO\u001b[0m | \u001b[1mFinished epoch 12/40:\u001b[0m\n",
      "\u001b[32m2022-07-18 10:40:33\u001b[0m | \u001b[1mINFO\u001b[0m | \u001b[1mtrain:\u001b[0m\n",
      "\u001b[32m2022-07-18 10:40:33\u001b[0m | \u001b[1mINFO\u001b[0m | \u001b[1mseconds:  6.038 | batches: 73 | samples:  3.738e+04 | batch_rate:  12.09 [iter/sec] | sample_rate:  6.19e+03 [iter/sec] \u001b[0m\n",
      "\u001b[32m2022-07-18 10:40:33\u001b[0m | \u001b[1mINFO\u001b[0m | \u001b[1mloss:        | avg: 527.6     | std: 11.15     | min: 508.2     | 25%: 519.1     | 50%: 526.9     | 75%: 534.7     | max: 559.4     \u001b[0m\n",
      "\u001b[32m2022-07-18 10:40:33\u001b[0m | \u001b[1mINFO\u001b[0m | \u001b[1macc:         | avg: 0.9341    | std: 0.01593   | min: 0.8848    | 25%: 0.9258    | 50%: 0.9336    | 75%: 0.9453    | max: 0.9629    \u001b[0m\n",
      "\u001b[32m2022-07-18 10:40:33\u001b[0m | \u001b[1mINFO\u001b[0m | \u001b[1mlr:          | avg: 0.001919  | std: nan       | min: 0.001919  | 25%: 0.001919  | 50%: 0.001919  | 75%: 0.001919  | max: 0.001919  \u001b[0m\n",
      "\u001b[32m2022-07-18 10:40:33\u001b[0m | \u001b[1mINFO\u001b[0m | \u001b[1mvalidation:\u001b[0m\n",
      "\u001b[32m2022-07-18 10:40:33\u001b[0m | \u001b[1mINFO\u001b[0m | \u001b[1mseconds:  0.619 | batches: 22 | samples:  1.126e+04 | batch_rate:  35.54 [iter/sec] | sample_rate:  1.82e+04 [iter/sec] \u001b[0m\n",
      "\u001b[32m2022-07-18 10:40:33\u001b[0m | \u001b[1mINFO\u001b[0m | \u001b[1mloss:        | avg: 564.7     | std: 7.803     | min: 549.1     | 25%: 559.2     | 50%: 565.0     | 75%: 570.5     | max: 575.9     \u001b[0m\n",
      "\u001b[32m2022-07-18 10:40:33\u001b[0m | \u001b[1mINFO\u001b[0m | \u001b[1macc:         | avg: 0.8958    | std: 0.01208   | min: 0.8633    | 25%: 0.8906    | 50%: 0.8955    | 75%: 0.9019    | max: 0.918     \u001b[0m\n",
      "\u001b[32m2022-07-18 10:40:43\u001b[0m | \u001b[1mINFO\u001b[0m | \u001b[1m\u001b[0m\n",
      "\u001b[32m2022-07-18 10:40:43\u001b[0m | \u001b[1mINFO\u001b[0m | \u001b[1mFinished epoch 13/40:\u001b[0m\n",
      "\u001b[32m2022-07-18 10:40:43\u001b[0m | \u001b[1mINFO\u001b[0m | \u001b[1mtrain:\u001b[0m\n",
      "\u001b[32m2022-07-18 10:40:43\u001b[0m | \u001b[1mINFO\u001b[0m | \u001b[1mseconds:  6.039 | batches: 73 | samples:  3.738e+04 | batch_rate:  12.09 [iter/sec] | sample_rate:  6.189e+03 [iter/sec] \u001b[0m\n",
      "\u001b[32m2022-07-18 10:40:43\u001b[0m | \u001b[1mINFO\u001b[0m | \u001b[1mloss:        | avg: 514.3     | std: 9.095     | min: 492.6     | 25%: 506.7     | 50%: 513.4     | 75%: 520.9     | max: 535.0     \u001b[0m\n",
      "\u001b[32m2022-07-18 10:40:43\u001b[0m | \u001b[1mINFO\u001b[0m | \u001b[1macc:         | avg: 0.9494    | std: 0.01139   | min: 0.9199    | 25%: 0.9434    | 50%: 0.9512    | 75%: 0.957     | max: 0.9727    \u001b[0m\n",
      "\u001b[32m2022-07-18 10:40:43\u001b[0m | \u001b[1mINFO\u001b[0m | \u001b[1mlr:          | avg: 0.001878  | std: nan       | min: 0.001878  | 25%: 0.001878  | 50%: 0.001878  | 75%: 0.001878  | max: 0.001878  \u001b[0m\n",
      "\u001b[32m2022-07-18 10:40:43\u001b[0m | \u001b[1mINFO\u001b[0m | \u001b[1mvalidation:\u001b[0m\n",
      "\u001b[32m2022-07-18 10:40:43\u001b[0m | \u001b[1mINFO\u001b[0m | \u001b[1mseconds:  0.6195 | batches: 22 | samples:  1.126e+04 | batch_rate:  35.51 [iter/sec] | sample_rate:  1.818e+04 [iter/sec] \u001b[0m\n",
      "\u001b[32m2022-07-18 10:40:43\u001b[0m | \u001b[1mINFO\u001b[0m | \u001b[1mloss:        | avg: 549.9     | std: 7.103     | min: 536.4     | 25%: 546.5     | 50%: 550.6     | 75%: 555.2     | max: 561.4     \u001b[0m\n",
      "\u001b[32m2022-07-18 10:40:43\u001b[0m | \u001b[1mINFO\u001b[0m | \u001b[1macc:         | avg: 0.9065    | std: 0.008337  | min: 0.8906    | 25%: 0.9009    | 50%: 0.9062    | 75%: 0.9131    | max: 0.9219    \u001b[0m\n",
      "\u001b[32m2022-07-18 10:40:52\u001b[0m | \u001b[1mINFO\u001b[0m | \u001b[1m\u001b[0m\n",
      "\u001b[32m2022-07-18 10:40:52\u001b[0m | \u001b[1mINFO\u001b[0m | \u001b[1mFinished epoch 14/40:\u001b[0m\n",
      "\u001b[32m2022-07-18 10:40:52\u001b[0m | \u001b[1mINFO\u001b[0m | \u001b[1mtrain:\u001b[0m\n",
      "\u001b[32m2022-07-18 10:40:52\u001b[0m | \u001b[1mINFO\u001b[0m | \u001b[1mseconds:  6.035 | batches: 73 | samples:  3.738e+04 | batch_rate:  12.1 [iter/sec] | sample_rate:  6.193e+03 [iter/sec] \u001b[0m\n",
      "\u001b[32m2022-07-18 10:40:52\u001b[0m | \u001b[1mINFO\u001b[0m | \u001b[1mloss:        | avg: 505.3     | std: 9.481     | min: 489.5     | 25%: 499.2     | 50%: 502.8     | 75%: 510.8     | max: 532.8     \u001b[0m\n",
      "\u001b[32m2022-07-18 10:40:52\u001b[0m | \u001b[1mINFO\u001b[0m | \u001b[1macc:         | avg: 0.956     | std: 0.01197   | min: 0.9258    | 25%: 0.9473    | 50%: 0.957     | 75%: 0.9629    | max: 0.9746    \u001b[0m\n",
      "\u001b[32m2022-07-18 10:40:52\u001b[0m | \u001b[1mINFO\u001b[0m | \u001b[1mlr:          | avg: 0.001838  | std: nan       | min: 0.001838  | 25%: 0.001838  | 50%: 0.001838  | 75%: 0.001838  | max: 0.001838  \u001b[0m\n",
      "\u001b[32m2022-07-18 10:40:52\u001b[0m | \u001b[1mINFO\u001b[0m | \u001b[1mvalidation:\u001b[0m\n",
      "\u001b[32m2022-07-18 10:40:52\u001b[0m | \u001b[1mINFO\u001b[0m | \u001b[1mseconds:  0.6198 | batches: 22 | samples:  1.126e+04 | batch_rate:  35.5 [iter/sec] | sample_rate:  1.817e+04 [iter/sec] \u001b[0m\n",
      "\u001b[32m2022-07-18 10:40:52\u001b[0m | \u001b[1mINFO\u001b[0m | \u001b[1mloss:        | avg: 547.6     | std: 8.22      | min: 536.7     | 25%: 541.9     | 50%: 545.7     | 75%: 553.4     | max: 563.3     \u001b[0m\n",
      "\u001b[32m2022-07-18 10:40:52\u001b[0m | \u001b[1mINFO\u001b[0m | \u001b[1macc:         | avg: 0.9044    | std: 0.008598  | min: 0.8887    | 25%: 0.8989    | 50%: 0.9023    | 75%: 0.9121    | max: 0.918     \u001b[0m\n",
      "\u001b[32m2022-07-18 10:41:01\u001b[0m | \u001b[1mINFO\u001b[0m | \u001b[1m\u001b[0m\n",
      "\u001b[32m2022-07-18 10:41:01\u001b[0m | \u001b[1mINFO\u001b[0m | \u001b[1mFinished epoch 15/40:\u001b[0m\n",
      "\u001b[32m2022-07-18 10:41:01\u001b[0m | \u001b[1mINFO\u001b[0m | \u001b[1mtrain:\u001b[0m\n",
      "\u001b[32m2022-07-18 10:41:01\u001b[0m | \u001b[1mINFO\u001b[0m | \u001b[1mseconds:  6.045 | batches: 73 | samples:  3.738e+04 | batch_rate:  12.08 [iter/sec] | sample_rate:  6.183e+03 [iter/sec] \u001b[0m\n",
      "\u001b[32m2022-07-18 10:41:01\u001b[0m | \u001b[1mINFO\u001b[0m | \u001b[1mloss:        | avg: 495.9     | std: 7.734     | min: 477.0     | 25%: 490.6     | 50%: 495.6     | 75%: 500.3     | max: 514.0     \u001b[0m\n",
      "\u001b[32m2022-07-18 10:41:01\u001b[0m | \u001b[1mINFO\u001b[0m | \u001b[1macc:         | avg: 0.9648    | std: 0.009642  | min: 0.9414    | 25%: 0.959     | 50%: 0.9668    | 75%: 0.9707    | max: 0.9883    \u001b[0m\n",
      "\u001b[32m2022-07-18 10:41:01\u001b[0m | \u001b[1mINFO\u001b[0m | \u001b[1mlr:          | avg: 0.001797  | std: nan       | min: 0.001797  | 25%: 0.001797  | 50%: 0.001797  | 75%: 0.001797  | max: 0.001797  \u001b[0m\n",
      "\u001b[32m2022-07-18 10:41:01\u001b[0m | \u001b[1mINFO\u001b[0m | \u001b[1mvalidation:\u001b[0m\n",
      "\u001b[32m2022-07-18 10:41:01\u001b[0m | \u001b[1mINFO\u001b[0m | \u001b[1mseconds:  0.6214 | batches: 22 | samples:  1.126e+04 | batch_rate:  35.41 [iter/sec] | sample_rate:  1.813e+04 [iter/sec] \u001b[0m\n",
      "\u001b[32m2022-07-18 10:41:01\u001b[0m | \u001b[1mINFO\u001b[0m | \u001b[1mloss:        | avg: 542.3     | std: 9.923     | min: 520.4     | 25%: 535.9     | 50%: 543.7     | 75%: 549.7     | max: 561.6     \u001b[0m\n",
      "\u001b[32m2022-07-18 10:41:01\u001b[0m | \u001b[1mINFO\u001b[0m | \u001b[1macc:         | avg: 0.9104    | std: 0.01329   | min: 0.8867    | 25%: 0.8984    | 50%: 0.915     | 75%: 0.9229    | max: 0.9277    \u001b[0m\n",
      "\u001b[32m2022-07-18 10:41:11\u001b[0m | \u001b[1mINFO\u001b[0m | \u001b[1m\u001b[0m\n",
      "\u001b[32m2022-07-18 10:41:11\u001b[0m | \u001b[1mINFO\u001b[0m | \u001b[1mFinished epoch 16/40:\u001b[0m\n",
      "\u001b[32m2022-07-18 10:41:11\u001b[0m | \u001b[1mINFO\u001b[0m | \u001b[1mtrain:\u001b[0m\n",
      "\u001b[32m2022-07-18 10:41:11\u001b[0m | \u001b[1mINFO\u001b[0m | \u001b[1mseconds:  6.054 | batches: 73 | samples:  3.738e+04 | batch_rate:  12.06 [iter/sec] | sample_rate:  6.174e+03 [iter/sec] \u001b[0m\n",
      "\u001b[32m2022-07-18 10:41:11\u001b[0m | \u001b[1mINFO\u001b[0m | \u001b[1mloss:        | avg: 490.1     | std: 8.547     | min: 476.2     | 25%: 483.6     | 50%: 488.8     | 75%: 495.7     | max: 514.8     \u001b[0m\n",
      "\u001b[32m2022-07-18 10:41:11\u001b[0m | \u001b[1mINFO\u001b[0m | \u001b[1macc:         | avg: 0.9715    | std: 0.01053   | min: 0.9375    | 25%: 0.9648    | 50%: 0.9727    | 75%: 0.9785    | max: 0.9922    \u001b[0m\n",
      "\u001b[32m2022-07-18 10:41:11\u001b[0m | \u001b[1mINFO\u001b[0m | \u001b[1mlr:          | avg: 0.001756  | std: nan       | min: 0.001756  | 25%: 0.001756  | 50%: 0.001756  | 75%: 0.001756  | max: 0.001756  \u001b[0m\n",
      "\u001b[32m2022-07-18 10:41:11\u001b[0m | \u001b[1mINFO\u001b[0m | \u001b[1mvalidation:\u001b[0m\n",
      "\u001b[32m2022-07-18 10:41:11\u001b[0m | \u001b[1mINFO\u001b[0m | \u001b[1mseconds:  0.6209 | batches: 22 | samples:  1.126e+04 | batch_rate:  35.43 [iter/sec] | sample_rate:  1.814e+04 [iter/sec] \u001b[0m\n",
      "\u001b[32m2022-07-18 10:41:11\u001b[0m | \u001b[1mINFO\u001b[0m | \u001b[1mloss:        | avg: 537.5     | std: 7.609     | min: 516.2     | 25%: 533.5     | 50%: 539.4     | 75%: 542.1     | max: 550.7     \u001b[0m\n",
      "\u001b[32m2022-07-18 10:41:11\u001b[0m | \u001b[1mINFO\u001b[0m | \u001b[1macc:         | avg: 0.9118    | std: 0.01041   | min: 0.8926    | 25%: 0.9048    | 50%: 0.9102    | 75%: 0.9136    | max: 0.9375    \u001b[0m\n",
      "\u001b[32m2022-07-18 10:41:20\u001b[0m | \u001b[1mINFO\u001b[0m | \u001b[1m\u001b[0m\n",
      "\u001b[32m2022-07-18 10:41:20\u001b[0m | \u001b[1mINFO\u001b[0m | \u001b[1mFinished epoch 17/40:\u001b[0m\n",
      "\u001b[32m2022-07-18 10:41:20\u001b[0m | \u001b[1mINFO\u001b[0m | \u001b[1mtrain:\u001b[0m\n",
      "\u001b[32m2022-07-18 10:41:20\u001b[0m | \u001b[1mINFO\u001b[0m | \u001b[1mseconds:  6.061 | batches: 73 | samples:  3.738e+04 | batch_rate:  12.04 [iter/sec] | sample_rate:  6.167e+03 [iter/sec] \u001b[0m\n",
      "\u001b[32m2022-07-18 10:41:20\u001b[0m | \u001b[1mINFO\u001b[0m | \u001b[1mloss:        | avg: 481.9     | std: 5.968     | min: 471.3     | 25%: 477.3     | 50%: 481.0     | 75%: 486.3     | max: 496.2     \u001b[0m\n",
      "\u001b[32m2022-07-18 10:41:20\u001b[0m | \u001b[1mINFO\u001b[0m | \u001b[1macc:         | avg: 0.9786    | std: 0.007275  | min: 0.9629    | 25%: 0.9746    | 50%: 0.9805    | 75%: 0.9844    | max: 0.9941    \u001b[0m\n",
      "\u001b[32m2022-07-18 10:41:20\u001b[0m | \u001b[1mINFO\u001b[0m | \u001b[1mlr:          | avg: 0.001715  | std: nan       | min: 0.001715  | 25%: 0.001715  | 50%: 0.001715  | 75%: 0.001715  | max: 0.001715  \u001b[0m\n",
      "\u001b[32m2022-07-18 10:41:20\u001b[0m | \u001b[1mINFO\u001b[0m | \u001b[1mvalidation:\u001b[0m\n",
      "\u001b[32m2022-07-18 10:41:20\u001b[0m | \u001b[1mINFO\u001b[0m | \u001b[1mseconds:  0.6202 | batches: 22 | samples:  1.126e+04 | batch_rate:  35.47 [iter/sec] | sample_rate:  1.816e+04 [iter/sec] \u001b[0m\n",
      "\u001b[32m2022-07-18 10:41:20\u001b[0m | \u001b[1mINFO\u001b[0m | \u001b[1mloss:        | avg: 537.2     | std: 11.51     | min: 514.2     | 25%: 531.2     | 50%: 536.5     | 75%: 541.1     | max: 560.8     \u001b[0m\n",
      "\u001b[32m2022-07-18 10:41:20\u001b[0m | \u001b[1mINFO\u001b[0m | \u001b[1macc:         | avg: 0.911     | std: 0.01561   | min: 0.8691    | 25%: 0.9053    | 50%: 0.9111    | 75%: 0.916     | max: 0.9453    \u001b[0m\n",
      "\u001b[32m2022-07-18 10:41:29\u001b[0m | \u001b[1mINFO\u001b[0m | \u001b[1m\u001b[0m\n",
      "\u001b[32m2022-07-18 10:41:29\u001b[0m | \u001b[1mINFO\u001b[0m | \u001b[1mFinished epoch 18/40:\u001b[0m\n",
      "\u001b[32m2022-07-18 10:41:29\u001b[0m | \u001b[1mINFO\u001b[0m | \u001b[1mtrain:\u001b[0m\n",
      "\u001b[32m2022-07-18 10:41:29\u001b[0m | \u001b[1mINFO\u001b[0m | \u001b[1mseconds:  6.052 | batches: 73 | samples:  3.738e+04 | batch_rate:  12.06 [iter/sec] | sample_rate:  6.176e+03 [iter/sec] \u001b[0m\n",
      "\u001b[32m2022-07-18 10:41:29\u001b[0m | \u001b[1mINFO\u001b[0m | \u001b[1mloss:        | avg: 478.3     | std: 5.864     | min: 466.8     | 25%: 474.7     | 50%: 476.6     | 75%: 482.0     | max: 498.2     \u001b[0m\n",
      "\u001b[32m2022-07-18 10:41:29\u001b[0m | \u001b[1mINFO\u001b[0m | \u001b[1macc:         | avg: 0.9821    | std: 0.007927  | min: 0.959     | 25%: 0.9785    | 50%: 0.9824    | 75%: 0.9883    | max: 0.9961    \u001b[0m\n",
      "\u001b[32m2022-07-18 10:41:29\u001b[0m | \u001b[1mINFO\u001b[0m | \u001b[1mlr:          | avg: 0.001675  | std: nan       | min: 0.001675  | 25%: 0.001675  | 50%: 0.001675  | 75%: 0.001675  | max: 0.001675  \u001b[0m\n",
      "\u001b[32m2022-07-18 10:41:29\u001b[0m | \u001b[1mINFO\u001b[0m | \u001b[1mvalidation:\u001b[0m\n",
      "\u001b[32m2022-07-18 10:41:29\u001b[0m | \u001b[1mINFO\u001b[0m | \u001b[1mseconds:  0.621 | batches: 22 | samples:  1.126e+04 | batch_rate:  35.43 [iter/sec] | sample_rate:  1.814e+04 [iter/sec] \u001b[0m\n",
      "\u001b[32m2022-07-18 10:41:29\u001b[0m | \u001b[1mINFO\u001b[0m | \u001b[1mloss:        | avg: 535.5     | std: 10.11     | min: 519.6     | 25%: 528.8     | 50%: 533.1     | 75%: 541.3     | max: 556.2     \u001b[0m\n",
      "\u001b[32m2022-07-18 10:41:29\u001b[0m | \u001b[1mINFO\u001b[0m | \u001b[1macc:         | avg: 0.9156    | std: 0.01333   | min: 0.8906    | 25%: 0.9077    | 50%: 0.917     | 75%: 0.9233    | max: 0.9355    \u001b[0m\n",
      "\u001b[32m2022-07-18 10:41:39\u001b[0m | \u001b[1mINFO\u001b[0m | \u001b[1m\u001b[0m\n",
      "\u001b[32m2022-07-18 10:41:39\u001b[0m | \u001b[1mINFO\u001b[0m | \u001b[1mFinished epoch 19/40:\u001b[0m\n",
      "\u001b[32m2022-07-18 10:41:39\u001b[0m | \u001b[1mINFO\u001b[0m | \u001b[1mtrain:\u001b[0m\n",
      "\u001b[32m2022-07-18 10:41:39\u001b[0m | \u001b[1mINFO\u001b[0m | \u001b[1mseconds:  6.057 | batches: 73 | samples:  3.738e+04 | batch_rate:  12.05 [iter/sec] | sample_rate:  6.17e+03 [iter/sec] \u001b[0m\n",
      "\u001b[32m2022-07-18 10:41:39\u001b[0m | \u001b[1mINFO\u001b[0m | \u001b[1mloss:        | avg: 474.6     | std: 6.648     | min: 464.5     | 25%: 470.3     | 50%: 473.0     | 75%: 477.6     | max: 501.9     \u001b[0m\n",
      "\u001b[32m2022-07-18 10:41:39\u001b[0m | \u001b[1mINFO\u001b[0m | \u001b[1macc:         | avg: 0.9834    | std: 0.007914  | min: 0.9512    | 25%: 0.9785    | 50%: 0.9844    | 75%: 0.9883    | max: 0.9961    \u001b[0m\n",
      "\u001b[32m2022-07-18 10:41:39\u001b[0m | \u001b[1mINFO\u001b[0m | \u001b[1mlr:          | avg: 0.001634  | std: nan       | min: 0.001634  | 25%: 0.001634  | 50%: 0.001634  | 75%: 0.001634  | max: 0.001634  \u001b[0m\n",
      "\u001b[32m2022-07-18 10:41:39\u001b[0m | \u001b[1mINFO\u001b[0m | \u001b[1mvalidation:\u001b[0m\n",
      "\u001b[32m2022-07-18 10:41:39\u001b[0m | \u001b[1mINFO\u001b[0m | \u001b[1mseconds:  0.6202 | batches: 22 | samples:  1.126e+04 | batch_rate:  35.47 [iter/sec] | sample_rate:  1.816e+04 [iter/sec] \u001b[0m\n",
      "\u001b[32m2022-07-18 10:41:39\u001b[0m | \u001b[1mINFO\u001b[0m | \u001b[1mloss:        | avg: 533.1     | std: 8.64      | min: 513.4     | 25%: 527.0     | 50%: 534.4     | 75%: 539.7     | max: 547.3     \u001b[0m\n",
      "\u001b[32m2022-07-18 10:41:39\u001b[0m | \u001b[1mINFO\u001b[0m | \u001b[1macc:         | avg: 0.9139    | std: 0.01155   | min: 0.8887    | 25%: 0.9067    | 50%: 0.9141    | 75%: 0.9194    | max: 0.9395    \u001b[0m\n",
      "\u001b[32m2022-07-18 10:41:48\u001b[0m | \u001b[1mINFO\u001b[0m | \u001b[1m\u001b[0m\n",
      "\u001b[32m2022-07-18 10:41:48\u001b[0m | \u001b[1mINFO\u001b[0m | \u001b[1mFinished epoch 20/40:\u001b[0m\n",
      "\u001b[32m2022-07-18 10:41:48\u001b[0m | \u001b[1mINFO\u001b[0m | \u001b[1mtrain:\u001b[0m\n",
      "\u001b[32m2022-07-18 10:41:48\u001b[0m | \u001b[1mINFO\u001b[0m | \u001b[1mseconds:  6.05 | batches: 73 | samples:  3.738e+04 | batch_rate:  12.07 [iter/sec] | sample_rate:  6.178e+03 [iter/sec] \u001b[0m\n",
      "\u001b[32m2022-07-18 10:41:48\u001b[0m | \u001b[1mINFO\u001b[0m | \u001b[1mloss:        | avg: 468.3     | std: 4.607     | min: 460.5     | 25%: 464.8     | 50%: 467.8     | 75%: 471.3     | max: 487.9     \u001b[0m\n",
      "\u001b[32m2022-07-18 10:41:48\u001b[0m | \u001b[1mINFO\u001b[0m | \u001b[1macc:         | avg: 0.9897    | std: 0.005825  | min: 0.9727    | 25%: 0.9863    | 50%: 0.9902    | 75%: 0.9941    | max: 1.0       \u001b[0m\n",
      "\u001b[32m2022-07-18 10:41:48\u001b[0m | \u001b[1mINFO\u001b[0m | \u001b[1mlr:          | avg: 0.001593  | std: nan       | min: 0.001593  | 25%: 0.001593  | 50%: 0.001593  | 75%: 0.001593  | max: 0.001593  \u001b[0m\n",
      "\u001b[32m2022-07-18 10:41:48\u001b[0m | \u001b[1mINFO\u001b[0m | \u001b[1mvalidation:\u001b[0m\n",
      "\u001b[32m2022-07-18 10:41:48\u001b[0m | \u001b[1mINFO\u001b[0m | \u001b[1mseconds:  0.6222 | batches: 22 | samples:  1.126e+04 | batch_rate:  35.36 [iter/sec] | sample_rate:  1.81e+04 [iter/sec] \u001b[0m\n",
      "\u001b[32m2022-07-18 10:41:48\u001b[0m | \u001b[1mINFO\u001b[0m | \u001b[1mloss:        | avg: 531.8     | std: 11.33     | min: 511.0     | 25%: 522.6     | 50%: 530.8     | 75%: 540.9     | max: 551.3     \u001b[0m\n",
      "\u001b[32m2022-07-18 10:41:48\u001b[0m | \u001b[1mINFO\u001b[0m | \u001b[1macc:         | avg: 0.9153    | std: 0.01388   | min: 0.8906    | 25%: 0.9062    | 50%: 0.9141    | 75%: 0.9268    | max: 0.9453    \u001b[0m\n",
      "\u001b[32m2022-07-18 10:41:57\u001b[0m | \u001b[1mINFO\u001b[0m | \u001b[1m\u001b[0m\n",
      "\u001b[32m2022-07-18 10:41:57\u001b[0m | \u001b[1mINFO\u001b[0m | \u001b[1mFinished epoch 21/40:\u001b[0m\n",
      "\u001b[32m2022-07-18 10:41:57\u001b[0m | \u001b[1mINFO\u001b[0m | \u001b[1mtrain:\u001b[0m\n",
      "\u001b[32m2022-07-18 10:41:57\u001b[0m | \u001b[1mINFO\u001b[0m | \u001b[1mseconds:  6.027 | batches: 73 | samples:  3.738e+04 | batch_rate:  12.11 [iter/sec] | sample_rate:  6.201e+03 [iter/sec] \u001b[0m\n",
      "\u001b[32m2022-07-18 10:41:57\u001b[0m | \u001b[1mINFO\u001b[0m | \u001b[1mloss:        | avg: 465.2     | std: 4.271     | min: 458.1     | 25%: 462.3     | 50%: 464.4     | 75%: 467.3     | max: 484.1     \u001b[0m\n",
      "\u001b[32m2022-07-18 10:41:57\u001b[0m | \u001b[1mINFO\u001b[0m | \u001b[1macc:         | avg: 0.9923    | std: 0.005165  | min: 0.9668    | 25%: 0.9902    | 50%: 0.9941    | 75%: 0.9961    | max: 1.0       \u001b[0m\n",
      "\u001b[32m2022-07-18 10:41:57\u001b[0m | \u001b[1mINFO\u001b[0m | \u001b[1mlr:          | avg: 0.001552  | std: nan       | min: 0.001552  | 25%: 0.001552  | 50%: 0.001552  | 75%: 0.001552  | max: 0.001552  \u001b[0m\n",
      "\u001b[32m2022-07-18 10:41:57\u001b[0m | \u001b[1mINFO\u001b[0m | \u001b[1mvalidation:\u001b[0m\n",
      "\u001b[32m2022-07-18 10:41:57\u001b[0m | \u001b[1mINFO\u001b[0m | \u001b[1mseconds:  0.6211 | batches: 22 | samples:  1.126e+04 | batch_rate:  35.42 [iter/sec] | sample_rate:  1.813e+04 [iter/sec] \u001b[0m\n",
      "\u001b[32m2022-07-18 10:41:57\u001b[0m | \u001b[1mINFO\u001b[0m | \u001b[1mloss:        | avg: 525.8     | std: 8.2       | min: 509.8     | 25%: 521.1     | 50%: 526.0     | 75%: 530.5     | max: 540.6     \u001b[0m\n",
      "\u001b[32m2022-07-18 10:41:57\u001b[0m | \u001b[1mINFO\u001b[0m | \u001b[1macc:         | avg: 0.922     | std: 0.01183   | min: 0.9043    | 25%: 0.9126    | 50%: 0.9219    | 75%: 0.9302    | max: 0.9453    \u001b[0m\n",
      "\u001b[32m2022-07-18 10:42:07\u001b[0m | \u001b[1mINFO\u001b[0m | \u001b[1m\u001b[0m\n",
      "\u001b[32m2022-07-18 10:42:07\u001b[0m | \u001b[1mINFO\u001b[0m | \u001b[1mFinished epoch 22/40:\u001b[0m\n",
      "\u001b[32m2022-07-18 10:42:07\u001b[0m | \u001b[1mINFO\u001b[0m | \u001b[1mtrain:\u001b[0m\n",
      "\u001b[32m2022-07-18 10:42:07\u001b[0m | \u001b[1mINFO\u001b[0m | \u001b[1mseconds:  6.06 | batches: 73 | samples:  3.738e+04 | batch_rate:  12.05 [iter/sec] | sample_rate:  6.168e+03 [iter/sec] \u001b[0m\n",
      "\u001b[32m2022-07-18 10:42:07\u001b[0m | \u001b[1mINFO\u001b[0m | \u001b[1mloss:        | avg: 464.0     | std: 4.928     | min: 456.3     | 25%: 460.2     | 50%: 463.0     | 75%: 466.4     | max: 478.3     \u001b[0m\n",
      "\u001b[32m2022-07-18 10:42:07\u001b[0m | \u001b[1mINFO\u001b[0m | \u001b[1macc:         | avg: 0.9926    | std: 0.004834  | min: 0.9785    | 25%: 0.9902    | 50%: 0.9941    | 75%: 0.9961    | max: 1.0       \u001b[0m\n",
      "\u001b[32m2022-07-18 10:42:07\u001b[0m | \u001b[1mINFO\u001b[0m | \u001b[1mlr:          | avg: 0.001512  | std: nan       | min: 0.001512  | 25%: 0.001512  | 50%: 0.001512  | 75%: 0.001512  | max: 0.001512  \u001b[0m\n",
      "\u001b[32m2022-07-18 10:42:07\u001b[0m | \u001b[1mINFO\u001b[0m | \u001b[1mvalidation:\u001b[0m\n",
      "\u001b[32m2022-07-18 10:42:07\u001b[0m | \u001b[1mINFO\u001b[0m | \u001b[1mseconds:  0.6237 | batches: 22 | samples:  1.126e+04 | batch_rate:  35.28 [iter/sec] | sample_rate:  1.806e+04 [iter/sec] \u001b[0m\n",
      "\u001b[32m2022-07-18 10:42:07\u001b[0m | \u001b[1mINFO\u001b[0m | \u001b[1mloss:        | avg: 525.9     | std: 6.106     | min: 514.9     | 25%: 522.3     | 50%: 527.0     | 75%: 529.6     | max: 535.8     \u001b[0m\n",
      "\u001b[32m2022-07-18 10:42:07\u001b[0m | \u001b[1mINFO\u001b[0m | \u001b[1macc:         | avg: 0.9214    | std: 0.007206  | min: 0.9082    | 25%: 0.916     | 50%: 0.9219    | 75%: 0.9277    | max: 0.9336    \u001b[0m\n",
      "\u001b[32m2022-07-18 10:42:16\u001b[0m | \u001b[1mINFO\u001b[0m | \u001b[1m\u001b[0m\n",
      "\u001b[32m2022-07-18 10:42:16\u001b[0m | \u001b[1mINFO\u001b[0m | \u001b[1mFinished epoch 23/40:\u001b[0m\n",
      "\u001b[32m2022-07-18 10:42:16\u001b[0m | \u001b[1mINFO\u001b[0m | \u001b[1mtrain:\u001b[0m\n",
      "\u001b[32m2022-07-18 10:42:16\u001b[0m | \u001b[1mINFO\u001b[0m | \u001b[1mseconds:  6.066 | batches: 73 | samples:  3.738e+04 | batch_rate:  12.03 [iter/sec] | sample_rate:  6.161e+03 [iter/sec] \u001b[0m\n",
      "\u001b[32m2022-07-18 10:42:16\u001b[0m | \u001b[1mINFO\u001b[0m | \u001b[1mloss:        | avg: 461.5     | std: 4.148     | min: 454.4     | 25%: 458.4     | 50%: 461.3     | 75%: 463.5     | max: 473.9     \u001b[0m\n",
      "\u001b[32m2022-07-18 10:42:16\u001b[0m | \u001b[1mINFO\u001b[0m | \u001b[1macc:         | avg: 0.9939    | std: 0.00458   | min: 0.9785    | 25%: 0.9922    | 50%: 0.9961    | 75%: 0.9961    | max: 1.0       \u001b[0m\n",
      "\u001b[32m2022-07-18 10:42:16\u001b[0m | \u001b[1mINFO\u001b[0m | \u001b[1mlr:          | avg: 0.001471  | std: nan       | min: 0.001471  | 25%: 0.001471  | 50%: 0.001471  | 75%: 0.001471  | max: 0.001471  \u001b[0m\n",
      "\u001b[32m2022-07-18 10:42:16\u001b[0m | \u001b[1mINFO\u001b[0m | \u001b[1mvalidation:\u001b[0m\n",
      "\u001b[32m2022-07-18 10:42:16\u001b[0m | \u001b[1mINFO\u001b[0m | \u001b[1mseconds:  0.6236 | batches: 22 | samples:  1.126e+04 | batch_rate:  35.28 [iter/sec] | sample_rate:  1.806e+04 [iter/sec] \u001b[0m\n",
      "\u001b[32m2022-07-18 10:42:17\u001b[0m | \u001b[1mINFO\u001b[0m | \u001b[1mloss:        | avg: 524.0     | std: 9.084     | min: 505.1     | 25%: 519.1     | 50%: 521.8     | 75%: 529.7     | max: 541.3     \u001b[0m\n",
      "\u001b[32m2022-07-18 10:42:17\u001b[0m | \u001b[1mINFO\u001b[0m | \u001b[1macc:         | avg: 0.9233    | std: 0.01092   | min: 0.8984    | 25%: 0.916     | 50%: 0.9238    | 75%: 0.9297    | max: 0.9473    \u001b[0m\n",
      "\u001b[32m2022-07-18 10:42:26\u001b[0m | \u001b[1mINFO\u001b[0m | \u001b[1m\u001b[0m\n",
      "\u001b[32m2022-07-18 10:42:26\u001b[0m | \u001b[1mINFO\u001b[0m | \u001b[1mFinished epoch 24/40:\u001b[0m\n",
      "\u001b[32m2022-07-18 10:42:26\u001b[0m | \u001b[1mINFO\u001b[0m | \u001b[1mtrain:\u001b[0m\n",
      "\u001b[32m2022-07-18 10:42:26\u001b[0m | \u001b[1mINFO\u001b[0m | \u001b[1mseconds:  6.088 | batches: 73 | samples:  3.738e+04 | batch_rate:  11.99 [iter/sec] | sample_rate:  6.139e+03 [iter/sec] \u001b[0m\n",
      "\u001b[32m2022-07-18 10:42:26\u001b[0m | \u001b[1mINFO\u001b[0m | \u001b[1mloss:        | avg: 459.6     | std: 3.779     | min: 452.1     | 25%: 456.6     | 50%: 458.7     | 75%: 462.2     | max: 467.8     \u001b[0m\n",
      "\u001b[32m2022-07-18 10:42:26\u001b[0m | \u001b[1mINFO\u001b[0m | \u001b[1macc:         | avg: 0.9953    | std: 0.003531  | min: 0.9863    | 25%: 0.9922    | 50%: 0.9961    | 75%: 0.998     | max: 1.0       \u001b[0m\n",
      "\u001b[32m2022-07-18 10:42:26\u001b[0m | \u001b[1mINFO\u001b[0m | \u001b[1mlr:          | avg: 0.00143   | std: nan       | min: 0.00143   | 25%: 0.00143   | 50%: 0.00143   | 75%: 0.00143   | max: 0.00143   \u001b[0m\n",
      "\u001b[32m2022-07-18 10:42:26\u001b[0m | \u001b[1mINFO\u001b[0m | \u001b[1mvalidation:\u001b[0m\n",
      "\u001b[32m2022-07-18 10:42:26\u001b[0m | \u001b[1mINFO\u001b[0m | \u001b[1mseconds:  0.6232 | batches: 22 | samples:  1.126e+04 | batch_rate:  35.3 [iter/sec] | sample_rate:  1.808e+04 [iter/sec] \u001b[0m\n",
      "\u001b[32m2022-07-18 10:42:26\u001b[0m | \u001b[1mINFO\u001b[0m | \u001b[1mloss:        | avg: 527.8     | std: 9.176     | min: 513.5     | 25%: 522.0     | 50%: 526.0     | 75%: 534.5     | max: 549.8     \u001b[0m\n",
      "\u001b[32m2022-07-18 10:42:26\u001b[0m | \u001b[1mINFO\u001b[0m | \u001b[1macc:         | avg: 0.921     | std: 0.01156   | min: 0.8965    | 25%: 0.9126    | 50%: 0.9229    | 75%: 0.9272    | max: 0.9434    \u001b[0m\n",
      "\u001b[32m2022-07-18 10:42:36\u001b[0m | \u001b[1mINFO\u001b[0m | \u001b[1m\u001b[0m\n",
      "\u001b[32m2022-07-18 10:42:36\u001b[0m | \u001b[1mINFO\u001b[0m | \u001b[1mFinished epoch 25/40:\u001b[0m\n",
      "\u001b[32m2022-07-18 10:42:36\u001b[0m | \u001b[1mINFO\u001b[0m | \u001b[1mtrain:\u001b[0m\n",
      "\u001b[32m2022-07-18 10:42:36\u001b[0m | \u001b[1mINFO\u001b[0m | \u001b[1mseconds:  6.061 | batches: 73 | samples:  3.738e+04 | batch_rate:  12.04 [iter/sec] | sample_rate:  6.167e+03 [iter/sec] \u001b[0m\n",
      "\u001b[32m2022-07-18 10:42:36\u001b[0m | \u001b[1mINFO\u001b[0m | \u001b[1mloss:        | avg: 457.8     | std: 3.049     | min: 452.9     | 25%: 455.8     | 50%: 457.1     | 75%: 459.2     | max: 465.2     \u001b[0m\n",
      "\u001b[32m2022-07-18 10:42:36\u001b[0m | \u001b[1mINFO\u001b[0m | \u001b[1macc:         | avg: 0.9964    | std: 0.002769  | min: 0.9863    | 25%: 0.9941    | 50%: 0.9961    | 75%: 0.998     | max: 1.0       \u001b[0m\n",
      "\u001b[32m2022-07-18 10:42:36\u001b[0m | \u001b[1mINFO\u001b[0m | \u001b[1mlr:          | avg: 0.00139   | std: nan       | min: 0.00139   | 25%: 0.00139   | 50%: 0.00139   | 75%: 0.00139   | max: 0.00139   \u001b[0m\n",
      "\u001b[32m2022-07-18 10:42:36\u001b[0m | \u001b[1mINFO\u001b[0m | \u001b[1mvalidation:\u001b[0m\n",
      "\u001b[32m2022-07-18 10:42:36\u001b[0m | \u001b[1mINFO\u001b[0m | \u001b[1mseconds:  0.6361 | batches: 22 | samples:  1.126e+04 | batch_rate:  34.59 [iter/sec] | sample_rate:  1.771e+04 [iter/sec] \u001b[0m\n",
      "\u001b[32m2022-07-18 10:42:36\u001b[0m | \u001b[1mINFO\u001b[0m | \u001b[1mloss:        | avg: 517.7     | std: 8.95      | min: 500.8     | 25%: 509.4     | 50%: 520.5     | 75%: 525.3     | max: 529.3     \u001b[0m\n",
      "\u001b[32m2022-07-18 10:42:36\u001b[0m | \u001b[1mINFO\u001b[0m | \u001b[1macc:         | avg: 0.9303    | std: 0.00948   | min: 0.9141    | 25%: 0.9243    | 50%: 0.9316    | 75%: 0.9375    | max: 0.9512    \u001b[0m\n",
      "\u001b[32m2022-07-18 10:42:46\u001b[0m | \u001b[1mINFO\u001b[0m | \u001b[1m\u001b[0m\n",
      "\u001b[32m2022-07-18 10:42:46\u001b[0m | \u001b[1mINFO\u001b[0m | \u001b[1mFinished epoch 26/40:\u001b[0m\n",
      "\u001b[32m2022-07-18 10:42:46\u001b[0m | \u001b[1mINFO\u001b[0m | \u001b[1mtrain:\u001b[0m\n",
      "\u001b[32m2022-07-18 10:42:46\u001b[0m | \u001b[1mINFO\u001b[0m | \u001b[1mseconds:  6.212 | batches: 73 | samples:  3.738e+04 | batch_rate:  11.75 [iter/sec] | sample_rate:  6.017e+03 [iter/sec] \u001b[0m\n",
      "\u001b[32m2022-07-18 10:42:46\u001b[0m | \u001b[1mINFO\u001b[0m | \u001b[1mloss:        | avg: 455.8     | std: 2.832     | min: 451.5     | 25%: 453.8     | 50%: 454.9     | 75%: 457.7     | max: 464.9     \u001b[0m\n",
      "\u001b[32m2022-07-18 10:42:46\u001b[0m | \u001b[1mINFO\u001b[0m | \u001b[1macc:         | avg: 0.9976    | std: 0.00301   | min: 0.9883    | 25%: 0.9961    | 50%: 0.998     | 75%: 1.0       | max: 1.0       \u001b[0m\n",
      "\u001b[32m2022-07-18 10:42:46\u001b[0m | \u001b[1mINFO\u001b[0m | \u001b[1mlr:          | avg: 0.001349  | std: nan       | min: 0.001349  | 25%: 0.001349  | 50%: 0.001349  | 75%: 0.001349  | max: 0.001349  \u001b[0m\n",
      "\u001b[32m2022-07-18 10:42:46\u001b[0m | \u001b[1mINFO\u001b[0m | \u001b[1mvalidation:\u001b[0m\n",
      "\u001b[32m2022-07-18 10:42:46\u001b[0m | \u001b[1mINFO\u001b[0m | \u001b[1mseconds:  0.628 | batches: 22 | samples:  1.126e+04 | batch_rate:  35.03 [iter/sec] | sample_rate:  1.794e+04 [iter/sec] \u001b[0m\n",
      "\u001b[32m2022-07-18 10:42:46\u001b[0m | \u001b[1mINFO\u001b[0m | \u001b[1mloss:        | avg: 519.2     | std: 7.167     | min: 506.1     | 25%: 514.6     | 50%: 517.2     | 75%: 521.6     | max: 536.4     \u001b[0m\n",
      "\u001b[32m2022-07-18 10:42:46\u001b[0m | \u001b[1mINFO\u001b[0m | \u001b[1macc:         | avg: 0.9281    | std: 0.009523  | min: 0.9082    | 25%: 0.9224    | 50%: 0.9277    | 75%: 0.9316    | max: 0.9473    \u001b[0m\n",
      "\u001b[32m2022-07-18 10:42:57\u001b[0m | \u001b[1mINFO\u001b[0m | \u001b[1m\u001b[0m\n",
      "\u001b[32m2022-07-18 10:42:57\u001b[0m | \u001b[1mINFO\u001b[0m | \u001b[1mFinished epoch 27/40:\u001b[0m\n",
      "\u001b[32m2022-07-18 10:42:57\u001b[0m | \u001b[1mINFO\u001b[0m | \u001b[1mtrain:\u001b[0m\n",
      "\u001b[32m2022-07-18 10:42:57\u001b[0m | \u001b[1mINFO\u001b[0m | \u001b[1mseconds:  6.061 | batches: 73 | samples:  3.738e+04 | batch_rate:  12.04 [iter/sec] | sample_rate:  6.166e+03 [iter/sec] \u001b[0m\n",
      "\u001b[32m2022-07-18 10:42:57\u001b[0m | \u001b[1mINFO\u001b[0m | \u001b[1mloss:        | avg: 455.2     | std: 3.249     | min: 450.5     | 25%: 452.7     | 50%: 454.5     | 75%: 456.6     | max: 465.9     \u001b[0m\n",
      "\u001b[32m2022-07-18 10:42:57\u001b[0m | \u001b[1mINFO\u001b[0m | \u001b[1macc:         | avg: 0.9977    | std: 0.002813  | min: 0.9883    | 25%: 0.9961    | 50%: 0.998     | 75%: 1.0       | max: 1.0       \u001b[0m\n",
      "\u001b[32m2022-07-18 10:42:57\u001b[0m | \u001b[1mINFO\u001b[0m | \u001b[1mlr:          | avg: 0.001308  | std: nan       | min: 0.001308  | 25%: 0.001308  | 50%: 0.001308  | 75%: 0.001308  | max: 0.001308  \u001b[0m\n",
      "\u001b[32m2022-07-18 10:42:57\u001b[0m | \u001b[1mINFO\u001b[0m | \u001b[1mvalidation:\u001b[0m\n",
      "\u001b[32m2022-07-18 10:42:57\u001b[0m | \u001b[1mINFO\u001b[0m | \u001b[1mseconds:  0.6257 | batches: 22 | samples:  1.126e+04 | batch_rate:  35.16 [iter/sec] | sample_rate:  1.8e+04 [iter/sec] \u001b[0m\n",
      "\u001b[32m2022-07-18 10:42:57\u001b[0m | \u001b[1mINFO\u001b[0m | \u001b[1mloss:        | avg: 516.0     | std: 10.41     | min: 504.7     | 25%: 507.9     | 50%: 511.8     | 75%: 524.5     | max: 540.0     \u001b[0m\n",
      "\u001b[32m2022-07-18 10:42:57\u001b[0m | \u001b[1mINFO\u001b[0m | \u001b[1macc:         | avg: 0.9296    | std: 0.01143   | min: 0.8965    | 25%: 0.9243    | 50%: 0.9316    | 75%: 0.9375    | max: 0.9453    \u001b[0m\n",
      "\u001b[32m2022-07-18 10:43:06\u001b[0m | \u001b[1mINFO\u001b[0m | \u001b[1m\u001b[0m\n",
      "\u001b[32m2022-07-18 10:43:06\u001b[0m | \u001b[1mINFO\u001b[0m | \u001b[1mFinished epoch 28/40:\u001b[0m\n",
      "\u001b[32m2022-07-18 10:43:06\u001b[0m | \u001b[1mINFO\u001b[0m | \u001b[1mtrain:\u001b[0m\n",
      "\u001b[32m2022-07-18 10:43:06\u001b[0m | \u001b[1mINFO\u001b[0m | \u001b[1mseconds:  6.097 | batches: 73 | samples:  3.738e+04 | batch_rate:  11.97 [iter/sec] | sample_rate:  6.13e+03 [iter/sec] \u001b[0m\n",
      "\u001b[32m2022-07-18 10:43:06\u001b[0m | \u001b[1mINFO\u001b[0m | \u001b[1mloss:        | avg: 453.7     | std: 2.305     | min: 450.0     | 25%: 452.2     | 50%: 453.3     | 75%: 455.0     | max: 460.6     \u001b[0m\n",
      "\u001b[32m2022-07-18 10:43:06\u001b[0m | \u001b[1mINFO\u001b[0m | \u001b[1macc:         | avg: 0.9981    | std: 0.002414  | min: 0.9902    | 25%: 0.998     | 50%: 0.998     | 75%: 1.0       | max: 1.0       \u001b[0m\n",
      "\u001b[32m2022-07-18 10:43:06\u001b[0m | \u001b[1mINFO\u001b[0m | \u001b[1mlr:          | avg: 0.001267  | std: nan       | min: 0.001267  | 25%: 0.001267  | 50%: 0.001267  | 75%: 0.001267  | max: 0.001267  \u001b[0m\n",
      "\u001b[32m2022-07-18 10:43:06\u001b[0m | \u001b[1mINFO\u001b[0m | \u001b[1mvalidation:\u001b[0m\n",
      "\u001b[32m2022-07-18 10:43:06\u001b[0m | \u001b[1mINFO\u001b[0m | \u001b[1mseconds:  0.6261 | batches: 22 | samples:  1.126e+04 | batch_rate:  35.14 [iter/sec] | sample_rate:  1.799e+04 [iter/sec] \u001b[0m\n",
      "\u001b[32m2022-07-18 10:43:06\u001b[0m | \u001b[1mINFO\u001b[0m | \u001b[1mloss:        | avg: 514.1     | std: 8.258     | min: 496.2     | 25%: 509.4     | 50%: 515.3     | 75%: 520.4     | max: 528.8     \u001b[0m\n",
      "\u001b[32m2022-07-18 10:43:06\u001b[0m | \u001b[1mINFO\u001b[0m | \u001b[1macc:         | avg: 0.9348    | std: 0.01029   | min: 0.916     | 25%: 0.9277    | 50%: 0.9365    | 75%: 0.9395    | max: 0.9551    \u001b[0m\n",
      "\u001b[32m2022-07-18 10:43:16\u001b[0m | \u001b[1mINFO\u001b[0m | \u001b[1m\u001b[0m\n",
      "\u001b[32m2022-07-18 10:43:16\u001b[0m | \u001b[1mINFO\u001b[0m | \u001b[1mFinished epoch 29/40:\u001b[0m\n",
      "\u001b[32m2022-07-18 10:43:16\u001b[0m | \u001b[1mINFO\u001b[0m | \u001b[1mtrain:\u001b[0m\n",
      "\u001b[32m2022-07-18 10:43:16\u001b[0m | \u001b[1mINFO\u001b[0m | \u001b[1mseconds:  6.047 | batches: 73 | samples:  3.738e+04 | batch_rate:  12.07 [iter/sec] | sample_rate:  6.181e+03 [iter/sec] \u001b[0m\n",
      "\u001b[32m2022-07-18 10:43:16\u001b[0m | \u001b[1mINFO\u001b[0m | \u001b[1mloss:        | avg: 452.3     | std: 2.359     | min: 449.2     | 25%: 450.6     | 50%: 451.9     | 75%: 453.1     | max: 461.7     \u001b[0m\n",
      "\u001b[32m2022-07-18 10:43:16\u001b[0m | \u001b[1mINFO\u001b[0m | \u001b[1macc:         | avg: 0.9989    | std: 0.00181   | min: 0.9922    | 25%: 0.998     | 50%: 1.0       | 75%: 1.0       | max: 1.0       \u001b[0m\n",
      "\u001b[32m2022-07-18 10:43:16\u001b[0m | \u001b[1mINFO\u001b[0m | \u001b[1mlr:          | avg: 0.001227  | std: nan       | min: 0.001227  | 25%: 0.001227  | 50%: 0.001227  | 75%: 0.001227  | max: 0.001227  \u001b[0m\n",
      "\u001b[32m2022-07-18 10:43:16\u001b[0m | \u001b[1mINFO\u001b[0m | \u001b[1mvalidation:\u001b[0m\n",
      "\u001b[32m2022-07-18 10:43:16\u001b[0m | \u001b[1mINFO\u001b[0m | \u001b[1mseconds:  0.6225 | batches: 22 | samples:  1.126e+04 | batch_rate:  35.34 [iter/sec] | sample_rate:  1.81e+04 [iter/sec] \u001b[0m\n",
      "\u001b[32m2022-07-18 10:43:16\u001b[0m | \u001b[1mINFO\u001b[0m | \u001b[1mloss:        | avg: 514.7     | std: 8.404     | min: 495.9     | 25%: 510.3     | 50%: 516.7     | 75%: 520.3     | max: 527.8     \u001b[0m\n",
      "\u001b[32m2022-07-18 10:43:16\u001b[0m | \u001b[1mINFO\u001b[0m | \u001b[1macc:         | avg: 0.9316    | std: 0.009986  | min: 0.9141    | 25%: 0.9263    | 50%: 0.9277    | 75%: 0.9355    | max: 0.9531    \u001b[0m\n",
      "\u001b[32m2022-07-18 10:43:25\u001b[0m | \u001b[1mINFO\u001b[0m | \u001b[1m\u001b[0m\n",
      "\u001b[32m2022-07-18 10:43:25\u001b[0m | \u001b[1mINFO\u001b[0m | \u001b[1mFinished epoch 30/40:\u001b[0m\n",
      "\u001b[32m2022-07-18 10:43:25\u001b[0m | \u001b[1mINFO\u001b[0m | \u001b[1mtrain:\u001b[0m\n",
      "\u001b[32m2022-07-18 10:43:25\u001b[0m | \u001b[1mINFO\u001b[0m | \u001b[1mseconds:  6.075 | batches: 73 | samples:  3.738e+04 | batch_rate:  12.02 [iter/sec] | sample_rate:  6.153e+03 [iter/sec] \u001b[0m\n",
      "\u001b[32m2022-07-18 10:43:25\u001b[0m | \u001b[1mINFO\u001b[0m | \u001b[1mloss:        | avg: 452.0     | std: 2.015     | min: 449.0     | 25%: 450.5     | 50%: 451.5     | 75%: 453.5     | max: 458.4     \u001b[0m\n",
      "\u001b[32m2022-07-18 10:43:25\u001b[0m | \u001b[1mINFO\u001b[0m | \u001b[1macc:         | avg: 0.9986    | std: 0.002097  | min: 0.9902    | 25%: 0.998     | 50%: 1.0       | 75%: 1.0       | max: 1.0       \u001b[0m\n",
      "\u001b[32m2022-07-18 10:43:25\u001b[0m | \u001b[1mINFO\u001b[0m | \u001b[1mlr:          | avg: 0.001186  | std: nan       | min: 0.001186  | 25%: 0.001186  | 50%: 0.001186  | 75%: 0.001186  | max: 0.001186  \u001b[0m\n",
      "\u001b[32m2022-07-18 10:43:25\u001b[0m | \u001b[1mINFO\u001b[0m | \u001b[1mvalidation:\u001b[0m\n",
      "\u001b[32m2022-07-18 10:43:25\u001b[0m | \u001b[1mINFO\u001b[0m | \u001b[1mseconds:  0.6273 | batches: 22 | samples:  1.126e+04 | batch_rate:  35.07 [iter/sec] | sample_rate:  1.796e+04 [iter/sec] \u001b[0m\n",
      "\u001b[32m2022-07-18 10:43:25\u001b[0m | \u001b[1mINFO\u001b[0m | \u001b[1mloss:        | avg: 515.4     | std: 8.179     | min: 500.1     | 25%: 510.6     | 50%: 514.7     | 75%: 520.2     | max: 532.0     \u001b[0m\n",
      "\u001b[32m2022-07-18 10:43:25\u001b[0m | \u001b[1mINFO\u001b[0m | \u001b[1macc:         | avg: 0.9308    | std: 0.01198   | min: 0.9102    | 25%: 0.9229    | 50%: 0.9297    | 75%: 0.9409    | max: 0.9492    \u001b[0m\n",
      "\u001b[32m2022-07-18 10:43:35\u001b[0m | \u001b[1mINFO\u001b[0m | \u001b[1m\u001b[0m\n",
      "\u001b[32m2022-07-18 10:43:35\u001b[0m | \u001b[1mINFO\u001b[0m | \u001b[1mFinished epoch 31/40:\u001b[0m\n",
      "\u001b[32m2022-07-18 10:43:35\u001b[0m | \u001b[1mINFO\u001b[0m | \u001b[1mtrain:\u001b[0m\n",
      "\u001b[32m2022-07-18 10:43:35\u001b[0m | \u001b[1mINFO\u001b[0m | \u001b[1mseconds:  6.142 | batches: 73 | samples:  3.738e+04 | batch_rate:  11.89 [iter/sec] | sample_rate:  6.085e+03 [iter/sec] \u001b[0m\n",
      "\u001b[32m2022-07-18 10:43:35\u001b[0m | \u001b[1mINFO\u001b[0m | \u001b[1mloss:        | avg: 452.0     | std: 2.441     | min: 448.6     | 25%: 450.3     | 50%: 451.4     | 75%: 453.4     | max: 460.4     \u001b[0m\n",
      "\u001b[32m2022-07-18 10:43:35\u001b[0m | \u001b[1mINFO\u001b[0m | \u001b[1macc:         | avg: 0.9985    | std: 0.002072  | min: 0.9922    | 25%: 0.998     | 50%: 1.0       | 75%: 1.0       | max: 1.0       \u001b[0m\n",
      "\u001b[32m2022-07-18 10:43:35\u001b[0m | \u001b[1mINFO\u001b[0m | \u001b[1mlr:          | avg: 0.001145  | std: nan       | min: 0.001145  | 25%: 0.001145  | 50%: 0.001145  | 75%: 0.001145  | max: 0.001145  \u001b[0m\n",
      "\u001b[32m2022-07-18 10:43:35\u001b[0m | \u001b[1mINFO\u001b[0m | \u001b[1mvalidation:\u001b[0m\n",
      "\u001b[32m2022-07-18 10:43:35\u001b[0m | \u001b[1mINFO\u001b[0m | \u001b[1mseconds:  0.6278 | batches: 22 | samples:  1.126e+04 | batch_rate:  35.04 [iter/sec] | sample_rate:  1.794e+04 [iter/sec] \u001b[0m\n",
      "\u001b[32m2022-07-18 10:43:35\u001b[0m | \u001b[1mINFO\u001b[0m | \u001b[1mloss:        | avg: 521.1     | std: 9.569     | min: 505.7     | 25%: 513.9     | 50%: 522.1     | 75%: 527.1     | max: 545.6     \u001b[0m\n",
      "\u001b[32m2022-07-18 10:43:35\u001b[0m | \u001b[1mINFO\u001b[0m | \u001b[1macc:         | avg: 0.9272    | std: 0.01228   | min: 0.8984    | 25%: 0.9199    | 50%: 0.9258    | 75%: 0.9351    | max: 0.9473    \u001b[0m\n",
      "\u001b[32m2022-07-18 10:43:45\u001b[0m | \u001b[1mINFO\u001b[0m | \u001b[1m\u001b[0m\n",
      "\u001b[32m2022-07-18 10:43:45\u001b[0m | \u001b[1mINFO\u001b[0m | \u001b[1mFinished epoch 32/40:\u001b[0m\n",
      "\u001b[32m2022-07-18 10:43:45\u001b[0m | \u001b[1mINFO\u001b[0m | \u001b[1mtrain:\u001b[0m\n",
      "\u001b[32m2022-07-18 10:43:45\u001b[0m | \u001b[1mINFO\u001b[0m | \u001b[1mseconds:  6.063 | batches: 73 | samples:  3.738e+04 | batch_rate:  12.04 [iter/sec] | sample_rate:  6.165e+03 [iter/sec] \u001b[0m\n",
      "\u001b[32m2022-07-18 10:43:45\u001b[0m | \u001b[1mINFO\u001b[0m | \u001b[1mloss:        | avg: 451.3     | std: 2.188     | min: 448.6     | 25%: 449.8     | 50%: 451.0     | 75%: 452.4     | max: 463.2     \u001b[0m\n",
      "\u001b[32m2022-07-18 10:43:45\u001b[0m | \u001b[1mINFO\u001b[0m | \u001b[1macc:         | avg: 0.999     | std: 0.001565  | min: 0.9922    | 25%: 0.998     | 50%: 1.0       | 75%: 1.0       | max: 1.0       \u001b[0m\n",
      "\u001b[32m2022-07-18 10:43:45\u001b[0m | \u001b[1mINFO\u001b[0m | \u001b[1mlr:          | avg: 0.001104  | std: nan       | min: 0.001104  | 25%: 0.001104  | 50%: 0.001104  | 75%: 0.001104  | max: 0.001104  \u001b[0m\n",
      "\u001b[32m2022-07-18 10:43:45\u001b[0m | \u001b[1mINFO\u001b[0m | \u001b[1mvalidation:\u001b[0m\n",
      "\u001b[32m2022-07-18 10:43:45\u001b[0m | \u001b[1mINFO\u001b[0m | \u001b[1mseconds:  0.6259 | batches: 22 | samples:  1.126e+04 | batch_rate:  35.15 [iter/sec] | sample_rate:  1.8e+04 [iter/sec] \u001b[0m\n",
      "\u001b[32m2022-07-18 10:43:45\u001b[0m | \u001b[1mINFO\u001b[0m | \u001b[1mloss:        | avg: 515.6     | std: 7.34      | min: 500.1     | 25%: 509.5     | 50%: 515.3     | 75%: 521.0     | max: 530.1     \u001b[0m\n",
      "\u001b[32m2022-07-18 10:43:45\u001b[0m | \u001b[1mINFO\u001b[0m | \u001b[1macc:         | avg: 0.93      | std: 0.008678  | min: 0.9141    | 25%: 0.9224    | 50%: 0.9307    | 75%: 0.937     | max: 0.9473    \u001b[0m\n",
      "\u001b[32m2022-07-18 10:43:55\u001b[0m | \u001b[1mINFO\u001b[0m | \u001b[1m\u001b[0m\n",
      "\u001b[32m2022-07-18 10:43:55\u001b[0m | \u001b[1mINFO\u001b[0m | \u001b[1mFinished epoch 33/40:\u001b[0m\n",
      "\u001b[32m2022-07-18 10:43:55\u001b[0m | \u001b[1mINFO\u001b[0m | \u001b[1mtrain:\u001b[0m\n",
      "\u001b[32m2022-07-18 10:43:55\u001b[0m | \u001b[1mINFO\u001b[0m | \u001b[1mseconds:  6.09 | batches: 73 | samples:  3.738e+04 | batch_rate:  11.99 [iter/sec] | sample_rate:  6.137e+03 [iter/sec] \u001b[0m\n",
      "\u001b[32m2022-07-18 10:43:55\u001b[0m | \u001b[1mINFO\u001b[0m | \u001b[1mloss:        | avg: 451.0     | std: 1.941     | min: 448.1     | 25%: 449.5     | 50%: 450.7     | 75%: 452.3     | max: 455.8     \u001b[0m\n",
      "\u001b[32m2022-07-18 10:43:55\u001b[0m | \u001b[1mINFO\u001b[0m | \u001b[1macc:         | avg: 0.9992    | std: 0.001211  | min: 0.9961    | 25%: 0.998     | 50%: 1.0       | 75%: 1.0       | max: 1.0       \u001b[0m\n",
      "\u001b[32m2022-07-18 10:43:55\u001b[0m | \u001b[1mINFO\u001b[0m | \u001b[1mlr:          | avg: 0.001064  | std: nan       | min: 0.001064  | 25%: 0.001064  | 50%: 0.001064  | 75%: 0.001064  | max: 0.001064  \u001b[0m\n",
      "\u001b[32m2022-07-18 10:43:55\u001b[0m | \u001b[1mINFO\u001b[0m | \u001b[1mvalidation:\u001b[0m\n",
      "\u001b[32m2022-07-18 10:43:55\u001b[0m | \u001b[1mINFO\u001b[0m | \u001b[1mseconds:  0.6261 | batches: 22 | samples:  1.126e+04 | batch_rate:  35.14 [iter/sec] | sample_rate:  1.799e+04 [iter/sec] \u001b[0m\n",
      "\u001b[32m2022-07-18 10:43:55\u001b[0m | \u001b[1mINFO\u001b[0m | \u001b[1mloss:        | avg: 515.3     | std: 11.36     | min: 500.6     | 25%: 506.1     | 50%: 512.9     | 75%: 520.7     | max: 540.0     \u001b[0m\n",
      "\u001b[32m2022-07-18 10:43:55\u001b[0m | \u001b[1mINFO\u001b[0m | \u001b[1macc:         | avg: 0.9332    | std: 0.01302   | min: 0.9023    | 25%: 0.9248    | 50%: 0.9355    | 75%: 0.9448    | max: 0.9492    \u001b[0m\n",
      "\u001b[32m2022-07-18 10:44:05\u001b[0m | \u001b[1mINFO\u001b[0m | \u001b[1m\u001b[0m\n",
      "\u001b[32m2022-07-18 10:44:05\u001b[0m | \u001b[1mINFO\u001b[0m | \u001b[1mFinished epoch 34/40:\u001b[0m\n",
      "\u001b[32m2022-07-18 10:44:05\u001b[0m | \u001b[1mINFO\u001b[0m | \u001b[1mtrain:\u001b[0m\n",
      "\u001b[32m2022-07-18 10:44:05\u001b[0m | \u001b[1mINFO\u001b[0m | \u001b[1mseconds:  6.097 | batches: 73 | samples:  3.738e+04 | batch_rate:  11.97 [iter/sec] | sample_rate:  6.13e+03 [iter/sec] \u001b[0m\n",
      "\u001b[32m2022-07-18 10:44:05\u001b[0m | \u001b[1mINFO\u001b[0m | \u001b[1mloss:        | avg: 449.6     | std: 1.422     | min: 447.6     | 25%: 448.6     | 50%: 449.1     | 75%: 450.5     | max: 453.9     \u001b[0m\n",
      "\u001b[32m2022-07-18 10:44:05\u001b[0m | \u001b[1mINFO\u001b[0m | \u001b[1macc:         | avg: 0.9996    | std: 0.0009578 | min: 0.9961    | 25%: 1.0       | 50%: 1.0       | 75%: 1.0       | max: 1.0       \u001b[0m\n",
      "\u001b[32m2022-07-18 10:44:05\u001b[0m | \u001b[1mINFO\u001b[0m | \u001b[1mlr:          | avg: 0.001023  | std: nan       | min: 0.001023  | 25%: 0.001023  | 50%: 0.001023  | 75%: 0.001023  | max: 0.001023  \u001b[0m\n",
      "\u001b[32m2022-07-18 10:44:05\u001b[0m | \u001b[1mINFO\u001b[0m | \u001b[1mvalidation:\u001b[0m\n",
      "\u001b[32m2022-07-18 10:44:05\u001b[0m | \u001b[1mINFO\u001b[0m | \u001b[1mseconds:  0.6327 | batches: 22 | samples:  1.126e+04 | batch_rate:  34.77 [iter/sec] | sample_rate:  1.78e+04 [iter/sec] \u001b[0m\n",
      "\u001b[32m2022-07-18 10:44:05\u001b[0m | \u001b[1mINFO\u001b[0m | \u001b[1mloss:        | avg: 511.8     | std: 7.983     | min: 495.5     | 25%: 506.6     | 50%: 511.1     | 75%: 515.0     | max: 529.1     \u001b[0m\n",
      "\u001b[32m2022-07-18 10:44:05\u001b[0m | \u001b[1mINFO\u001b[0m | \u001b[1macc:         | avg: 0.9336    | std: 0.0111    | min: 0.9082    | 25%: 0.9253    | 50%: 0.9336    | 75%: 0.9429    | max: 0.9531    \u001b[0m\n",
      "\u001b[32m2022-07-18 10:44:14\u001b[0m | \u001b[1mINFO\u001b[0m | \u001b[1m\u001b[0m\n",
      "\u001b[32m2022-07-18 10:44:14\u001b[0m | \u001b[1mINFO\u001b[0m | \u001b[1mFinished epoch 35/40:\u001b[0m\n",
      "\u001b[32m2022-07-18 10:44:14\u001b[0m | \u001b[1mINFO\u001b[0m | \u001b[1mtrain:\u001b[0m\n",
      "\u001b[32m2022-07-18 10:44:14\u001b[0m | \u001b[1mINFO\u001b[0m | \u001b[1mseconds:  6.089 | batches: 73 | samples:  3.738e+04 | batch_rate:  11.99 [iter/sec] | sample_rate:  6.138e+03 [iter/sec] \u001b[0m\n",
      "\u001b[32m2022-07-18 10:44:14\u001b[0m | \u001b[1mINFO\u001b[0m | \u001b[1mloss:        | avg: 449.3     | std: 1.537     | min: 447.1     | 25%: 448.2     | 50%: 448.9     | 75%: 450.1     | max: 453.7     \u001b[0m\n",
      "\u001b[32m2022-07-18 10:44:14\u001b[0m | \u001b[1mINFO\u001b[0m | \u001b[1macc:         | avg: 0.9996    | std: 0.0009008 | min: 0.9961    | 25%: 1.0       | 50%: 1.0       | 75%: 1.0       | max: 1.0       \u001b[0m\n",
      "\u001b[32m2022-07-18 10:44:14\u001b[0m | \u001b[1mINFO\u001b[0m | \u001b[1mlr:          | avg: 0.0009821 | std: nan       | min: 0.0009821 | 25%: 0.0009821 | 50%: 0.0009821 | 75%: 0.0009821 | max: 0.0009821 \u001b[0m\n",
      "\u001b[32m2022-07-18 10:44:14\u001b[0m | \u001b[1mINFO\u001b[0m | \u001b[1mvalidation:\u001b[0m\n",
      "\u001b[32m2022-07-18 10:44:14\u001b[0m | \u001b[1mINFO\u001b[0m | \u001b[1mseconds:  0.6269 | batches: 22 | samples:  1.126e+04 | batch_rate:  35.1 [iter/sec] | sample_rate:  1.797e+04 [iter/sec] \u001b[0m\n",
      "\u001b[32m2022-07-18 10:44:14\u001b[0m | \u001b[1mINFO\u001b[0m | \u001b[1mloss:        | avg: 510.3     | std: 5.943     | min: 500.6     | 25%: 504.8     | 50%: 511.4     | 75%: 515.3     | max: 519.4     \u001b[0m\n",
      "\u001b[32m2022-07-18 10:44:14\u001b[0m | \u001b[1mINFO\u001b[0m | \u001b[1macc:         | avg: 0.936     | std: 0.009297  | min: 0.9219    | 25%: 0.9277    | 50%: 0.9385    | 75%: 0.9429    | max: 0.9512    \u001b[0m\n",
      "\u001b[32m2022-07-18 10:44:24\u001b[0m | \u001b[1mINFO\u001b[0m | \u001b[1m\u001b[0m\n",
      "\u001b[32m2022-07-18 10:44:24\u001b[0m | \u001b[1mINFO\u001b[0m | \u001b[1mFinished epoch 36/40:\u001b[0m\n",
      "\u001b[32m2022-07-18 10:44:24\u001b[0m | \u001b[1mINFO\u001b[0m | \u001b[1mtrain:\u001b[0m\n",
      "\u001b[32m2022-07-18 10:44:24\u001b[0m | \u001b[1mINFO\u001b[0m | \u001b[1mseconds:  6.092 | batches: 73 | samples:  3.738e+04 | batch_rate:  11.98 [iter/sec] | sample_rate:  6.135e+03 [iter/sec] \u001b[0m\n",
      "\u001b[32m2022-07-18 10:44:24\u001b[0m | \u001b[1mINFO\u001b[0m | \u001b[1mloss:        | avg: 449.1     | std: 1.383     | min: 447.1     | 25%: 448.0     | 50%: 448.7     | 75%: 449.8     | max: 452.5     \u001b[0m\n",
      "\u001b[32m2022-07-18 10:44:24\u001b[0m | \u001b[1mINFO\u001b[0m | \u001b[1macc:         | avg: 0.9996    | std: 0.0009578 | min: 0.9941    | 25%: 1.0       | 50%: 1.0       | 75%: 1.0       | max: 1.0       \u001b[0m\n",
      "\u001b[32m2022-07-18 10:44:24\u001b[0m | \u001b[1mINFO\u001b[0m | \u001b[1mlr:          | avg: 0.0009414 | std: nan       | min: 0.0009414 | 25%: 0.0009414 | 50%: 0.0009414 | 75%: 0.0009414 | max: 0.0009414 \u001b[0m\n",
      "\u001b[32m2022-07-18 10:44:24\u001b[0m | \u001b[1mINFO\u001b[0m | \u001b[1mvalidation:\u001b[0m\n",
      "\u001b[32m2022-07-18 10:44:24\u001b[0m | \u001b[1mINFO\u001b[0m | \u001b[1mseconds:  0.6271 | batches: 22 | samples:  1.126e+04 | batch_rate:  35.08 [iter/sec] | sample_rate:  1.796e+04 [iter/sec] \u001b[0m\n",
      "\u001b[32m2022-07-18 10:44:24\u001b[0m | \u001b[1mINFO\u001b[0m | \u001b[1mloss:        | avg: 511.7     | std: 9.675     | min: 488.3     | 25%: 506.1     | 50%: 511.8     | 75%: 517.2     | max: 528.5     \u001b[0m\n",
      "\u001b[32m2022-07-18 10:44:24\u001b[0m | \u001b[1mINFO\u001b[0m | \u001b[1macc:         | avg: 0.9351    | std: 0.01269   | min: 0.9062    | 25%: 0.9268    | 50%: 0.9355    | 75%: 0.9414    | max: 0.9609    \u001b[0m\n",
      "\u001b[32m2022-07-18 10:44:33\u001b[0m | \u001b[1mINFO\u001b[0m | \u001b[1m\u001b[0m\n",
      "\u001b[32m2022-07-18 10:44:33\u001b[0m | \u001b[1mINFO\u001b[0m | \u001b[1mFinished epoch 37/40:\u001b[0m\n",
      "\u001b[32m2022-07-18 10:44:33\u001b[0m | \u001b[1mINFO\u001b[0m | \u001b[1mtrain:\u001b[0m\n",
      "\u001b[32m2022-07-18 10:44:33\u001b[0m | \u001b[1mINFO\u001b[0m | \u001b[1mseconds:  6.099 | batches: 73 | samples:  3.738e+04 | batch_rate:  11.97 [iter/sec] | sample_rate:  6.128e+03 [iter/sec] \u001b[0m\n",
      "\u001b[32m2022-07-18 10:44:33\u001b[0m | \u001b[1mINFO\u001b[0m | \u001b[1mloss:        | avg: 448.8     | std: 1.249     | min: 446.9     | 25%: 447.9     | 50%: 448.5     | 75%: 449.6     | max: 453.5     \u001b[0m\n",
      "\u001b[32m2022-07-18 10:44:33\u001b[0m | \u001b[1mINFO\u001b[0m | \u001b[1macc:         | avg: 0.9996    | std: 0.0009183 | min: 0.9961    | 25%: 1.0       | 50%: 1.0       | 75%: 1.0       | max: 1.0       \u001b[0m\n",
      "\u001b[32m2022-07-18 10:44:33\u001b[0m | \u001b[1mINFO\u001b[0m | \u001b[1mlr:          | avg: 0.0009007 | std: nan       | min: 0.0009007 | 25%: 0.0009007 | 50%: 0.0009007 | 75%: 0.0009007 | max: 0.0009007 \u001b[0m\n",
      "\u001b[32m2022-07-18 10:44:33\u001b[0m | \u001b[1mINFO\u001b[0m | \u001b[1mvalidation:\u001b[0m\n",
      "\u001b[32m2022-07-18 10:44:33\u001b[0m | \u001b[1mINFO\u001b[0m | \u001b[1mseconds:  0.627 | batches: 22 | samples:  1.126e+04 | batch_rate:  35.09 [iter/sec] | sample_rate:  1.797e+04 [iter/sec] \u001b[0m\n",
      "\u001b[32m2022-07-18 10:44:33\u001b[0m | \u001b[1mINFO\u001b[0m | \u001b[1mloss:        | avg: 510.5     | std: 8.455     | min: 500.9     | 25%: 504.8     | 50%: 508.5     | 75%: 513.0     | max: 529.5     \u001b[0m\n",
      "\u001b[32m2022-07-18 10:44:33\u001b[0m | \u001b[1mINFO\u001b[0m | \u001b[1macc:         | avg: 0.9356    | std: 0.009784  | min: 0.9141    | 25%: 0.9307    | 50%: 0.9375    | 75%: 0.9434    | max: 0.9492    \u001b[0m\n",
      "\u001b[32m2022-07-18 10:44:43\u001b[0m | \u001b[1mINFO\u001b[0m | \u001b[1m\u001b[0m\n",
      "\u001b[32m2022-07-18 10:44:43\u001b[0m | \u001b[1mINFO\u001b[0m | \u001b[1mFinished epoch 38/40:\u001b[0m\n",
      "\u001b[32m2022-07-18 10:44:43\u001b[0m | \u001b[1mINFO\u001b[0m | \u001b[1mtrain:\u001b[0m\n",
      "\u001b[32m2022-07-18 10:44:43\u001b[0m | \u001b[1mINFO\u001b[0m | \u001b[1mseconds:  6.04 | batches: 73 | samples:  3.738e+04 | batch_rate:  12.09 [iter/sec] | sample_rate:  6.188e+03 [iter/sec] \u001b[0m\n",
      "\u001b[32m2022-07-18 10:44:43\u001b[0m | \u001b[1mINFO\u001b[0m | \u001b[1mloss:        | avg: 448.4     | std: 1.153     | min: 446.8     | 25%: 447.5     | 50%: 448.1     | 75%: 448.9     | max: 452.4     \u001b[0m\n",
      "\u001b[32m2022-07-18 10:44:43\u001b[0m | \u001b[1mINFO\u001b[0m | \u001b[1macc:         | avg: 0.9997    | std: 0.0007524 | min: 0.998     | 25%: 1.0       | 50%: 1.0       | 75%: 1.0       | max: 1.0       \u001b[0m\n",
      "\u001b[32m2022-07-18 10:44:43\u001b[0m | \u001b[1mINFO\u001b[0m | \u001b[1mlr:          | avg: 0.0008599 | std: nan       | min: 0.0008599 | 25%: 0.0008599 | 50%: 0.0008599 | 75%: 0.0008599 | max: 0.0008599 \u001b[0m\n",
      "\u001b[32m2022-07-18 10:44:43\u001b[0m | \u001b[1mINFO\u001b[0m | \u001b[1mvalidation:\u001b[0m\n",
      "\u001b[32m2022-07-18 10:44:43\u001b[0m | \u001b[1mINFO\u001b[0m | \u001b[1mseconds:  0.6214 | batches: 22 | samples:  1.126e+04 | batch_rate:  35.4 [iter/sec] | sample_rate:  1.813e+04 [iter/sec] \u001b[0m\n",
      "\u001b[32m2022-07-18 10:44:43\u001b[0m | \u001b[1mINFO\u001b[0m | \u001b[1mloss:        | avg: 510.6     | std: 6.912     | min: 497.5     | 25%: 505.4     | 50%: 511.1     | 75%: 515.7     | max: 525.1     \u001b[0m\n",
      "\u001b[32m2022-07-18 10:44:43\u001b[0m | \u001b[1mINFO\u001b[0m | \u001b[1macc:         | avg: 0.9365    | std: 0.01006   | min: 0.9219    | 25%: 0.9297    | 50%: 0.9355    | 75%: 0.9448    | max: 0.957     \u001b[0m\n",
      "\u001b[32m2022-07-18 10:44:52\u001b[0m | \u001b[1mINFO\u001b[0m | \u001b[1m\u001b[0m\n",
      "\u001b[32m2022-07-18 10:44:52\u001b[0m | \u001b[1mINFO\u001b[0m | \u001b[1mFinished epoch 39/40:\u001b[0m\n",
      "\u001b[32m2022-07-18 10:44:52\u001b[0m | \u001b[1mINFO\u001b[0m | \u001b[1mtrain:\u001b[0m\n",
      "\u001b[32m2022-07-18 10:44:52\u001b[0m | \u001b[1mINFO\u001b[0m | \u001b[1mseconds:  6.044 | batches: 73 | samples:  3.738e+04 | batch_rate:  12.08 [iter/sec] | sample_rate:  6.184e+03 [iter/sec] \u001b[0m\n",
      "\u001b[32m2022-07-18 10:44:52\u001b[0m | \u001b[1mINFO\u001b[0m | \u001b[1mloss:        | avg: 448.1     | std: 1.245     | min: 446.3     | 25%: 447.3     | 50%: 447.8     | 75%: 448.8     | max: 452.5     \u001b[0m\n",
      "\u001b[32m2022-07-18 10:44:52\u001b[0m | \u001b[1mINFO\u001b[0m | \u001b[1macc:         | avg: 0.9997    | std: 0.0009586 | min: 0.9941    | 25%: 1.0       | 50%: 1.0       | 75%: 1.0       | max: 1.0       \u001b[0m\n",
      "\u001b[32m2022-07-18 10:44:52\u001b[0m | \u001b[1mINFO\u001b[0m | \u001b[1mlr:          | avg: 0.0008192 | std: nan       | min: 0.0008192 | 25%: 0.0008192 | 50%: 0.0008192 | 75%: 0.0008192 | max: 0.0008192 \u001b[0m\n",
      "\u001b[32m2022-07-18 10:44:52\u001b[0m | \u001b[1mINFO\u001b[0m | \u001b[1mvalidation:\u001b[0m\n",
      "\u001b[32m2022-07-18 10:44:52\u001b[0m | \u001b[1mINFO\u001b[0m | \u001b[1mseconds:  0.6221 | batches: 22 | samples:  1.126e+04 | batch_rate:  35.36 [iter/sec] | sample_rate:  1.811e+04 [iter/sec] \u001b[0m\n",
      "\u001b[32m2022-07-18 10:44:52\u001b[0m | \u001b[1mINFO\u001b[0m | \u001b[1mloss:        | avg: 511.0     | std: 8.023     | min: 499.8     | 25%: 505.3     | 50%: 509.3     | 75%: 514.8     | max: 531.8     \u001b[0m\n",
      "\u001b[32m2022-07-18 10:44:52\u001b[0m | \u001b[1mINFO\u001b[0m | \u001b[1macc:         | avg: 0.9354    | std: 0.009059  | min: 0.918     | 25%: 0.9282    | 50%: 0.9355    | 75%: 0.9414    | max: 0.9492    \u001b[0m\n",
      "\u001b[32m2022-07-18 10:45:02\u001b[0m | \u001b[1mINFO\u001b[0m | \u001b[1m\u001b[0m\n",
      "\u001b[32m2022-07-18 10:45:02\u001b[0m | \u001b[1mINFO\u001b[0m | \u001b[1mFinished epoch 40/40:\u001b[0m\n",
      "\u001b[32m2022-07-18 10:45:02\u001b[0m | \u001b[1mINFO\u001b[0m | \u001b[1mtrain:\u001b[0m\n",
      "\u001b[32m2022-07-18 10:45:02\u001b[0m | \u001b[1mINFO\u001b[0m | \u001b[1mseconds:  6.066 | batches: 73 | samples:  3.738e+04 | batch_rate:  12.03 [iter/sec] | sample_rate:  6.162e+03 [iter/sec] \u001b[0m\n",
      "\u001b[32m2022-07-18 10:45:02\u001b[0m | \u001b[1mINFO\u001b[0m | \u001b[1mloss:        | avg: 447.9     | std: 1.362     | min: 446.3     | 25%: 447.0     | 50%: 447.6     | 75%: 448.2     | max: 452.6     \u001b[0m\n",
      "\u001b[32m2022-07-18 10:45:02\u001b[0m | \u001b[1mINFO\u001b[0m | \u001b[1macc:         | avg: 0.9998    | std: 0.0007097 | min: 0.9961    | 25%: 1.0       | 50%: 1.0       | 75%: 1.0       | max: 1.0       \u001b[0m\n",
      "\u001b[32m2022-07-18 10:45:02\u001b[0m | \u001b[1mINFO\u001b[0m | \u001b[1mlr:          | avg: 0.0007785 | std: nan       | min: 0.0007785 | 25%: 0.0007785 | 50%: 0.0007785 | 75%: 0.0007785 | max: 0.0007785 \u001b[0m\n",
      "\u001b[32m2022-07-18 10:45:02\u001b[0m | \u001b[1mINFO\u001b[0m | \u001b[1mvalidation:\u001b[0m\n",
      "\u001b[32m2022-07-18 10:45:02\u001b[0m | \u001b[1mINFO\u001b[0m | \u001b[1mseconds:  0.6275 | batches: 22 | samples:  1.126e+04 | batch_rate:  35.06 [iter/sec] | sample_rate:  1.795e+04 [iter/sec] \u001b[0m\n",
      "\u001b[32m2022-07-18 10:45:02\u001b[0m | \u001b[1mINFO\u001b[0m | \u001b[1mloss:        | avg: 510.6     | std: 11.79     | min: 489.2     | 25%: 500.6     | 50%: 509.3     | 75%: 517.3     | max: 535.5     \u001b[0m\n",
      "\u001b[32m2022-07-18 10:45:02\u001b[0m | \u001b[1mINFO\u001b[0m | \u001b[1macc:         | avg: 0.9354    | std: 0.01264   | min: 0.9102    | 25%: 0.9277    | 50%: 0.9346    | 75%: 0.9443    | max: 0.959     \u001b[0m\n",
      "\u001b[32m2022-07-18 10:45:11\u001b[0m | \u001b[1mINFO\u001b[0m | \u001b[1m\u001b[0m\n",
      "\u001b[32m2022-07-18 10:45:11\u001b[0m | \u001b[1mINFO\u001b[0m | \u001b[1mFinished epoch 41/40:\u001b[0m\n",
      "\u001b[32m2022-07-18 10:45:11\u001b[0m | \u001b[1mINFO\u001b[0m | \u001b[1mtrain:\u001b[0m\n",
      "\u001b[32m2022-07-18 10:45:11\u001b[0m | \u001b[1mINFO\u001b[0m | \u001b[1mseconds:  6.05 | batches: 73 | samples:  3.738e+04 | batch_rate:  12.07 [iter/sec] | sample_rate:  6.178e+03 [iter/sec] \u001b[0m\n",
      "\u001b[32m2022-07-18 10:45:11\u001b[0m | \u001b[1mINFO\u001b[0m | \u001b[1mloss:        | avg: 447.5     | std: 0.9584    | min: 446.2     | 25%: 446.9     | 50%: 447.3     | 75%: 447.9     | max: 451.4     \u001b[0m\n",
      "\u001b[32m2022-07-18 10:45:11\u001b[0m | \u001b[1mINFO\u001b[0m | \u001b[1macc:         | avg: 0.9999    | std: 0.0004968 | min: 0.998     | 25%: 1.0       | 50%: 1.0       | 75%: 1.0       | max: 1.0       \u001b[0m\n",
      "\u001b[32m2022-07-18 10:45:11\u001b[0m | \u001b[1mINFO\u001b[0m | \u001b[1mlr:          | avg: 0.0007377 | std: nan       | min: 0.0007377 | 25%: 0.0007377 | 50%: 0.0007377 | 75%: 0.0007377 | max: 0.0007377 \u001b[0m\n",
      "\u001b[32m2022-07-18 10:45:11\u001b[0m | \u001b[1mINFO\u001b[0m | \u001b[1mvalidation:\u001b[0m\n",
      "\u001b[32m2022-07-18 10:45:11\u001b[0m | \u001b[1mINFO\u001b[0m | \u001b[1mseconds:  0.6218 | batches: 22 | samples:  1.126e+04 | batch_rate:  35.38 [iter/sec] | sample_rate:  1.812e+04 [iter/sec] \u001b[0m\n",
      "\u001b[32m2022-07-18 10:45:11\u001b[0m | \u001b[1mINFO\u001b[0m | \u001b[1mloss:        | avg: 510.8     | std: 9.514     | min: 493.4     | 25%: 505.2     | 50%: 509.5     | 75%: 515.1     | max: 531.6     \u001b[0m\n",
      "\u001b[32m2022-07-18 10:45:11\u001b[0m | \u001b[1mINFO\u001b[0m | \u001b[1macc:         | avg: 0.9371    | std: 0.01321   | min: 0.9004    | 25%: 0.9287    | 50%: 0.9375    | 75%: 0.9468    | max: 0.957     \u001b[0m\n",
      "\u001b[32m2022-07-18 10:45:21\u001b[0m | \u001b[1mINFO\u001b[0m | \u001b[1m\u001b[0m\n",
      "\u001b[32m2022-07-18 10:45:21\u001b[0m | \u001b[1mINFO\u001b[0m | \u001b[1mFinished epoch 42/40:\u001b[0m\n",
      "\u001b[32m2022-07-18 10:45:21\u001b[0m | \u001b[1mINFO\u001b[0m | \u001b[1mtrain:\u001b[0m\n",
      "\u001b[32m2022-07-18 10:45:21\u001b[0m | \u001b[1mINFO\u001b[0m | \u001b[1mseconds:  6.065 | batches: 73 | samples:  3.738e+04 | batch_rate:  12.04 [iter/sec] | sample_rate:  6.163e+03 [iter/sec] \u001b[0m\n",
      "\u001b[32m2022-07-18 10:45:21\u001b[0m | \u001b[1mINFO\u001b[0m | \u001b[1mloss:        | avg: 447.5     | std: 1.101     | min: 446.3     | 25%: 446.8     | 50%: 447.2     | 75%: 447.9     | max: 450.4     \u001b[0m\n",
      "\u001b[32m2022-07-18 10:45:21\u001b[0m | \u001b[1mINFO\u001b[0m | \u001b[1macc:         | avg: 0.9999    | std: 0.0004572 | min: 0.9961    | 25%: 1.0       | 50%: 1.0       | 75%: 1.0       | max: 1.0       \u001b[0m\n",
      "\u001b[32m2022-07-18 10:45:21\u001b[0m | \u001b[1mINFO\u001b[0m | \u001b[1mlr:          | avg: 0.000697  | std: nan       | min: 0.000697  | 25%: 0.000697  | 50%: 0.000697  | 75%: 0.000697  | max: 0.000697  \u001b[0m\n",
      "\u001b[32m2022-07-18 10:45:21\u001b[0m | \u001b[1mINFO\u001b[0m | \u001b[1mvalidation:\u001b[0m\n",
      "\u001b[32m2022-07-18 10:45:21\u001b[0m | \u001b[1mINFO\u001b[0m | \u001b[1mseconds:  0.6282 | batches: 22 | samples:  1.126e+04 | batch_rate:  35.02 [iter/sec] | sample_rate:  1.793e+04 [iter/sec] \u001b[0m\n",
      "\u001b[32m2022-07-18 10:45:21\u001b[0m | \u001b[1mINFO\u001b[0m | \u001b[1mloss:        | avg: 510.0     | std: 7.037     | min: 496.0     | 25%: 504.8     | 50%: 509.6     | 75%: 515.1     | max: 524.8     \u001b[0m\n",
      "\u001b[32m2022-07-18 10:45:21\u001b[0m | \u001b[1mINFO\u001b[0m | \u001b[1macc:         | avg: 0.9355    | std: 0.01013   | min: 0.9141    | 25%: 0.9302    | 50%: 0.9355    | 75%: 0.939     | max: 0.9648    \u001b[0m\n",
      "\u001b[32m2022-07-18 10:45:31\u001b[0m | \u001b[1mINFO\u001b[0m | \u001b[1m\u001b[0m\n",
      "\u001b[32m2022-07-18 10:45:31\u001b[0m | \u001b[1mINFO\u001b[0m | \u001b[1mFinished epoch 43/40:\u001b[0m\n",
      "\u001b[32m2022-07-18 10:45:31\u001b[0m | \u001b[1mINFO\u001b[0m | \u001b[1mtrain:\u001b[0m\n",
      "\u001b[32m2022-07-18 10:45:31\u001b[0m | \u001b[1mINFO\u001b[0m | \u001b[1mseconds:  6.064 | batches: 73 | samples:  3.738e+04 | batch_rate:  12.04 [iter/sec] | sample_rate:  6.163e+03 [iter/sec] \u001b[0m\n",
      "\u001b[32m2022-07-18 10:45:31\u001b[0m | \u001b[1mINFO\u001b[0m | \u001b[1mloss:        | avg: 447.5     | std: 1.045     | min: 446.0     | 25%: 446.7     | 50%: 447.1     | 75%: 447.9     | max: 451.0     \u001b[0m\n",
      "\u001b[32m2022-07-18 10:45:31\u001b[0m | \u001b[1mINFO\u001b[0m | \u001b[1macc:         | avg: 0.9998    | std: 0.0005791 | min: 0.998     | 25%: 1.0       | 50%: 1.0       | 75%: 1.0       | max: 1.0       \u001b[0m\n",
      "\u001b[32m2022-07-18 10:45:31\u001b[0m | \u001b[1mINFO\u001b[0m | \u001b[1mlr:          | avg: 0.0006562 | std: nan       | min: 0.0006562 | 25%: 0.0006562 | 50%: 0.0006562 | 75%: 0.0006562 | max: 0.0006562 \u001b[0m\n",
      "\u001b[32m2022-07-18 10:45:31\u001b[0m | \u001b[1mINFO\u001b[0m | \u001b[1mvalidation:\u001b[0m\n",
      "\u001b[32m2022-07-18 10:45:31\u001b[0m | \u001b[1mINFO\u001b[0m | \u001b[1mseconds:  0.622 | batches: 22 | samples:  1.126e+04 | batch_rate:  35.37 [iter/sec] | sample_rate:  1.811e+04 [iter/sec] \u001b[0m\n",
      "\u001b[32m2022-07-18 10:45:31\u001b[0m | \u001b[1mINFO\u001b[0m | \u001b[1mloss:        | avg: 509.3     | std: 9.194     | min: 493.4     | 25%: 503.8     | 50%: 510.2     | 75%: 514.2     | max: 527.3     \u001b[0m\n",
      "\u001b[32m2022-07-18 10:45:31\u001b[0m | \u001b[1mINFO\u001b[0m | \u001b[1macc:         | avg: 0.9375    | std: 0.01075   | min: 0.916     | 25%: 0.9316    | 50%: 0.9375    | 75%: 0.9468    | max: 0.959     \u001b[0m\n"
     ]
    }
   ],
   "source": [
    "alg = experiment.fit(CIFAR10Algorithm, CIFAR10Dataset, tensorboard_arguments={'images': {'sample': {'dataformats': 'NCHW'}}})"
   ]
  },
  {
   "cell_type": "markdown",
   "id": "3d15a46d",
   "metadata": {},
   "source": [
    "## Training with 2 workers"
   ]
  },
  {
   "cell_type": "code",
   "execution_count": 8,
   "id": "f79ff3f1",
   "metadata": {
    "tags": []
   },
   "outputs": [
    {
     "name": "stdout",
     "output_type": "stream",
     "text": [
      "\u001b[32m2022-07-18 10:48:47\u001b[0m | \u001b[1mINFO\u001b[0m | \u001b[1mCreating new experiment\u001b[0m\n",
      "\u001b[32m2022-07-18 10:48:47\u001b[0m | \u001b[1mINFO\u001b[0m | \u001b[1mExperiment directory is: /home/shared/data/results/cifar10/cifar10/CIFAR10Algorithm/debug/0002_20220718_104847\u001b[0m\n",
      "\u001b[32m2022-07-18 10:48:47\u001b[0m | \u001b[1mINFO\u001b[0m | \u001b[1mbeam project: cifar10\u001b[0m\n",
      "\u001b[32m2022-07-18 10:48:47\u001b[0m | \u001b[1mINFO\u001b[0m | \u001b[1mExperiment Hyperparameters\u001b[0m\n",
      "\u001b[32m2022-07-18 10:48:47\u001b[0m | \u001b[1mINFO\u001b[0m | \u001b[1mproject_name: cifar10\u001b[0m\n",
      "\u001b[32m2022-07-18 10:48:47\u001b[0m | \u001b[1mINFO\u001b[0m | \u001b[1malgorithm: CIFAR10Algorithm\u001b[0m\n",
      "\u001b[32m2022-07-18 10:48:47\u001b[0m | \u001b[1mINFO\u001b[0m | \u001b[1midentifier: debug\u001b[0m\n",
      "\u001b[32m2022-07-18 10:48:47\u001b[0m | \u001b[1mINFO\u001b[0m | \u001b[1mmp_port: random\u001b[0m\n",
      "\u001b[32m2022-07-18 10:48:47\u001b[0m | \u001b[1mINFO\u001b[0m | \u001b[1mroot_dir: /home/shared/data/results/cifar10\u001b[0m\n",
      "\u001b[32m2022-07-18 10:48:47\u001b[0m | \u001b[1mINFO\u001b[0m | \u001b[1mreload: False\u001b[0m\n",
      "\u001b[32m2022-07-18 10:48:47\u001b[0m | \u001b[1mINFO\u001b[0m | \u001b[1mresume: -1\u001b[0m\n",
      "\u001b[32m2022-07-18 10:48:47\u001b[0m | \u001b[1mINFO\u001b[0m | \u001b[1moverride: False\u001b[0m\n",
      "\u001b[32m2022-07-18 10:48:47\u001b[0m | \u001b[1mINFO\u001b[0m | \u001b[1mcpu_workers: 0\u001b[0m\n",
      "\u001b[32m2022-07-18 10:48:47\u001b[0m | \u001b[1mINFO\u001b[0m | \u001b[1mdevice: 0\u001b[0m\n",
      "\u001b[32m2022-07-18 10:48:47\u001b[0m | \u001b[1mINFO\u001b[0m | \u001b[1mparallel: 2\u001b[0m\n",
      "\u001b[32m2022-07-18 10:48:47\u001b[0m | \u001b[1mINFO\u001b[0m | \u001b[1mtensorboard: True\u001b[0m\n",
      "\u001b[32m2022-07-18 10:48:47\u001b[0m | \u001b[1mINFO\u001b[0m | \u001b[1mlognet: True\u001b[0m\n",
      "\u001b[32m2022-07-18 10:48:47\u001b[0m | \u001b[1mINFO\u001b[0m | \u001b[1mdeterministic: False\u001b[0m\n",
      "\u001b[32m2022-07-18 10:48:47\u001b[0m | \u001b[1mINFO\u001b[0m | \u001b[1mscale_epoch_by_batch_size: True\u001b[0m\n",
      "\u001b[32m2022-07-18 10:48:47\u001b[0m | \u001b[1mINFO\u001b[0m | \u001b[1mhalf: True\u001b[0m\n",
      "\u001b[32m2022-07-18 10:48:47\u001b[0m | \u001b[1mINFO\u001b[0m | \u001b[1mamp: False\u001b[0m\n",
      "\u001b[32m2022-07-18 10:48:47\u001b[0m | \u001b[1mINFO\u001b[0m | \u001b[1mstore_initial_weights: False\u001b[0m\n",
      "\u001b[32m2022-07-18 10:48:47\u001b[0m | \u001b[1mINFO\u001b[0m | \u001b[1moversample: False\u001b[0m\n",
      "\u001b[32m2022-07-18 10:48:47\u001b[0m | \u001b[1mINFO\u001b[0m | \u001b[1minit: ortho\u001b[0m\n",
      "\u001b[32m2022-07-18 10:48:47\u001b[0m | \u001b[1mINFO\u001b[0m | \u001b[1mseed: 0\u001b[0m\n",
      "\u001b[32m2022-07-18 10:48:47\u001b[0m | \u001b[1mINFO\u001b[0m | \u001b[1msplit_dataset_seed: 5782\u001b[0m\n",
      "\u001b[32m2022-07-18 10:48:47\u001b[0m | \u001b[1mINFO\u001b[0m | \u001b[1mtotal_steps: 1000000\u001b[0m\n",
      "\u001b[32m2022-07-18 10:48:47\u001b[0m | \u001b[1mINFO\u001b[0m | \u001b[1mepoch_length: None\u001b[0m\n",
      "\u001b[32m2022-07-18 10:48:47\u001b[0m | \u001b[1mINFO\u001b[0m | \u001b[1mepoch_length_train: None\u001b[0m\n",
      "\u001b[32m2022-07-18 10:48:47\u001b[0m | \u001b[1mINFO\u001b[0m | \u001b[1mepoch_length_eval: None\u001b[0m\n",
      "\u001b[32m2022-07-18 10:48:47\u001b[0m | \u001b[1mINFO\u001b[0m | \u001b[1mn_epochs: 40\u001b[0m\n",
      "\u001b[32m2022-07-18 10:48:47\u001b[0m | \u001b[1mINFO\u001b[0m | \u001b[1mbatch_size: 512\u001b[0m\n",
      "\u001b[32m2022-07-18 10:48:47\u001b[0m | \u001b[1mINFO\u001b[0m | \u001b[1mbatch_size_train: None\u001b[0m\n",
      "\u001b[32m2022-07-18 10:48:47\u001b[0m | \u001b[1mINFO\u001b[0m | \u001b[1mbatch_size_eval: None\u001b[0m\n",
      "\u001b[32m2022-07-18 10:48:47\u001b[0m | \u001b[1mINFO\u001b[0m | \u001b[1mlr_dense: 0.001\u001b[0m\n",
      "\u001b[32m2022-07-18 10:48:47\u001b[0m | \u001b[1mINFO\u001b[0m | \u001b[1mlr_sparse: 0.01\u001b[0m\n",
      "\u001b[32m2022-07-18 10:48:47\u001b[0m | \u001b[1mINFO\u001b[0m | \u001b[1mweight_decay: 1e-05\u001b[0m\n",
      "\u001b[32m2022-07-18 10:48:47\u001b[0m | \u001b[1mINFO\u001b[0m | \u001b[1meps: 0.0001\u001b[0m\n",
      "\u001b[32m2022-07-18 10:48:47\u001b[0m | \u001b[1mINFO\u001b[0m | \u001b[1mbeta1: 0.9\u001b[0m\n",
      "\u001b[32m2022-07-18 10:48:47\u001b[0m | \u001b[1mINFO\u001b[0m | \u001b[1mbeta2: 0.9\u001b[0m\n",
      "\u001b[32m2022-07-18 10:48:47\u001b[0m | \u001b[1mINFO\u001b[0m | \u001b[1mclip_gradient: 1000.0\u001b[0m\n",
      "\u001b[32m2022-07-18 10:48:47\u001b[0m | \u001b[1mINFO\u001b[0m | \u001b[1maccumulate: 1\u001b[0m\n",
      "\u001b[32m2022-07-18 10:48:47\u001b[0m | \u001b[1mINFO\u001b[0m | \u001b[1moversampling_weight_factor: 1.0\u001b[0m\n",
      "\u001b[32m2022-07-18 10:48:47\u001b[0m | \u001b[1mINFO\u001b[0m | \u001b[1mexpansion_size: 10000000\u001b[0m\n",
      "\u001b[32m2022-07-18 10:48:47\u001b[0m | \u001b[1mINFO\u001b[0m | \u001b[1mprint_results: True\u001b[0m\n",
      "\u001b[32m2022-07-18 10:48:47\u001b[0m | \u001b[1mINFO\u001b[0m | \u001b[1mvisualize_weights: True\u001b[0m\n",
      "\u001b[32m2022-07-18 10:48:47\u001b[0m | \u001b[1mINFO\u001b[0m | \u001b[1menable_tqdm: True\u001b[0m\n",
      "\u001b[32m2022-07-18 10:48:47\u001b[0m | \u001b[1mINFO\u001b[0m | \u001b[1mtqdm_threshold: 10.0\u001b[0m\n",
      "\u001b[32m2022-07-18 10:48:47\u001b[0m | \u001b[1mINFO\u001b[0m | \u001b[1mtqdm_stats: 1.0\u001b[0m\n",
      "\u001b[32m2022-07-18 10:48:47\u001b[0m | \u001b[1mINFO\u001b[0m | \u001b[1mvisualize_results: yes\u001b[0m\n",
      "\u001b[32m2022-07-18 10:48:47\u001b[0m | \u001b[1mINFO\u001b[0m | \u001b[1mstore_results: logscale\u001b[0m\n",
      "\u001b[32m2022-07-18 10:48:47\u001b[0m | \u001b[1mINFO\u001b[0m | \u001b[1mstore_networks: logscale\u001b[0m\n",
      "\u001b[32m2022-07-18 10:48:47\u001b[0m | \u001b[1mINFO\u001b[0m | \u001b[1mpath_to_data: /home/shared/data/dataset/cifar10\u001b[0m\n",
      "\u001b[32m2022-07-18 10:48:47\u001b[0m | \u001b[1mINFO\u001b[0m | \u001b[1mdropout: 0.0\u001b[0m\n",
      "\u001b[32m2022-07-18 10:48:47\u001b[0m | \u001b[1mINFO\u001b[0m | \u001b[1mactivation: relu\u001b[0m\n",
      "\u001b[32m2022-07-18 10:48:47\u001b[0m | \u001b[1mINFO\u001b[0m | \u001b[1mchannels: 512\u001b[0m\n",
      "\u001b[32m2022-07-18 10:48:47\u001b[0m | \u001b[1mINFO\u001b[0m | \u001b[1mlabel_smoothing: 0.2\u001b[0m\n",
      "\u001b[32m2022-07-18 10:48:47\u001b[0m | \u001b[1mINFO\u001b[0m | \u001b[1mpadding: 6\u001b[0m\n",
      "\u001b[32m2022-07-18 10:48:47\u001b[0m | \u001b[1mINFO\u001b[0m | \u001b[1mgain: 0.2\u001b[0m\n",
      "\u001b[32m2022-07-18 10:48:47\u001b[0m | \u001b[1mINFO\u001b[0m | \u001b[1mturn_point: 1024\u001b[0m\n",
      "\u001b[32m2022-07-18 10:48:47\u001b[0m | \u001b[1mINFO\u001b[0m | \u001b[1mfinal_point: 3000\u001b[0m\n",
      "\u001b[32m2022-07-18 10:48:47\u001b[0m | \u001b[1mINFO\u001b[0m | \u001b[1mminimal_gain: 0.05\u001b[0m\n",
      "\u001b[32m2022-07-18 10:48:47\u001b[0m | \u001b[1mINFO\u001b[0m | \u001b[1mtemperature: 1\u001b[0m\n"
     ]
    }
   ],
   "source": [
    "# here you put all actions which are performed only once before initializing the workers\n",
    "# for example, setti`ng running arguments and experiment:\n",
    "\n",
    "args = beam_arguments(f\"--project-name=cifar10 --root-dir={root_dir} --algorithm=CIFAR10Algorithm --device=0 --half --lr-d=1e-3 --batch-size=512\",\n",
    "                      \"--n-epochs=40 --clip-gradient=1000 --parallel=2 --accumulate=1 --no-deterministic\",\n",
    "                      \"--weight-decay=1e-5 --beta1=0.9 --beta2=0.9\", \n",
    "                      path_to_data=path_to_data, dropout=.0, activation='relu', channels=512, label_smoothing=.2,\n",
    "                      padding=6, gain=.2, turn_point=1024, final_point=3000, minimal_gain=.05, temperature=1)\n",
    "\n",
    "experiment = Experiment(args)"
   ]
  },
  {
   "cell_type": "code",
   "execution_count": 9,
   "id": "4cc43273-649c-402d-8ca1-c5da55ff7f1b",
   "metadata": {
    "tags": []
   },
   "outputs": [
    {
     "name": "stdout",
     "output_type": "stream",
     "text": [
      "\u001b[32m2022-07-18 10:48:58\u001b[0m | \u001b[1mINFO\u001b[0m | \u001b[1mInitializing 2 parallel workers\u001b[0m\n",
      "\u001b[32m2022-07-18 10:48:58\u001b[0m | \u001b[1mINFO\u001b[0m | \u001b[1mMultiprocessing port is: 57141\u001b[0m\n",
      "\u001b[32m2022-07-18 10:49:02\u001b[0m | \u001b[1mINFO\u001b[0m | \u001b[1mWorker: 1/2 is running...\u001b[0m\n",
      "\u001b[32m2022-07-18 10:49:02\u001b[0m | \u001b[1mINFO\u001b[0m | \u001b[1mWorker: 2/2 is running...\u001b[0m\n"
     ]
    },
    {
     "name": "stderr",
     "output_type": "stream",
     "text": [
      "train: 100%|██████████| 73/73 [00:13<00:00,  5.37it/s]"
     ]
    },
    {
     "name": "stdout",
     "output_type": "stream",
     "text": [
      "\u001b[32m2022-07-18 10:49:26\u001b[0m | \u001b[1mINFO\u001b[0m | \u001b[1m\u001b[0m\n",
      "\u001b[32m2022-07-18 10:49:26\u001b[0m | \u001b[1mINFO\u001b[0m | \u001b[1mFinished epoch 1/40:\u001b[0m\n",
      "\u001b[32m2022-07-18 10:49:26\u001b[0m | \u001b[1mINFO\u001b[0m | \u001b[1mtrain:\u001b[0m\n",
      "\u001b[32m2022-07-18 10:49:26\u001b[0m | \u001b[1mINFO\u001b[0m | \u001b[1mseconds:  14.71 | batches: 73 | samples:  3.738e+04 | batch_rate:  4.964 [iter/sec] | sample_rate:  2.542e+03 [iter/sec] \u001b[0m\n",
      "\u001b[32m2022-07-18 10:49:26\u001b[0m | \u001b[1mINFO\u001b[0m | \u001b[1mloss:        | avg: 1.647e+03 | std: 991.6     | min: 1.017e+03 | 25%: 1.173e+03 | 50%: 1.307e+03 | 75%: 1.567e+03 | max: 6.148e+03 \u001b[0m\n",
      "\u001b[32m2022-07-18 10:49:26\u001b[0m | \u001b[1mINFO\u001b[0m | \u001b[1macc:         | avg: 0.2553    | std: 0.06811   | min: 0.09375   | 25%: 0.1992    | 50%: 0.252     | 75%: 0.3066    | max: 0.4121    \u001b[0m\n",
      "\u001b[32m2022-07-18 10:49:26\u001b[0m | \u001b[1mINFO\u001b[0m | \u001b[1mlr:          | avg: 5e-05     | std: nan       | min: 5e-05     | 25%: 5e-05     | 50%: 5e-05     | 75%: 5e-05     | max: 5e-05     \u001b[0m\n",
      "\u001b[32m2022-07-18 10:49:26\u001b[0m | \u001b[1mINFO\u001b[0m | \u001b[1mvalidation:\u001b[0m\n",
      "\u001b[32m2022-07-18 10:49:26\u001b[0m | \u001b[1mINFO\u001b[0m | \u001b[1mseconds:  0.5786 | batches: 22 | samples:  1.126e+04 | batch_rate:  38.02 [iter/sec] | sample_rate:  1.947e+04 [iter/sec] \u001b[0m\n",
      "\u001b[32m2022-07-18 10:49:26\u001b[0m | \u001b[1mINFO\u001b[0m | \u001b[1mloss:        | avg: 1.084e+03 | std: 40.03     | min: 1.027e+03 | 25%: 1.067e+03 | 50%: 1.078e+03 | 75%: 1.101e+03 | max: 1.217e+03 \u001b[0m\n",
      "\u001b[32m2022-07-18 10:49:26\u001b[0m | \u001b[1mINFO\u001b[0m | \u001b[1macc:         | avg: 0.382     | std: 0.01346   | min: 0.3477    | 25%: 0.3735    | 50%: 0.3857    | 75%: 0.3887    | max: 0.4043    \u001b[0m\n"
     ]
    },
    {
     "name": "stderr",
     "output_type": "stream",
     "text": [
      "\n",
      "train:   8%|▊         | 6/73 [00:00<?, ?it/s]\n",
      "train: 100%|██████████| 73/73 [00:12<00:00,  5.50it/s]"
     ]
    },
    {
     "name": "stdout",
     "output_type": "stream",
     "text": [
      "\u001b[32m2022-07-18 10:49:40\u001b[0m | \u001b[1mINFO\u001b[0m | \u001b[1m\u001b[0m\n",
      "\u001b[32m2022-07-18 10:49:40\u001b[0m | \u001b[1mINFO\u001b[0m | \u001b[1mFinished epoch 2/40:\u001b[0m\n",
      "\u001b[32m2022-07-18 10:49:40\u001b[0m | \u001b[1mINFO\u001b[0m | \u001b[1mtrain:\u001b[0m\n",
      "\u001b[32m2022-07-18 10:49:40\u001b[0m | \u001b[1mINFO\u001b[0m | \u001b[1mseconds:  13.3 | batches: 73 | samples:  3.738e+04 | batch_rate:  5.489 [iter/sec] | sample_rate:  2.81e+03 [iter/sec] \u001b[0m\n",
      "\u001b[32m2022-07-18 10:49:40\u001b[0m | \u001b[1mINFO\u001b[0m | \u001b[1mloss:        | avg: 950.7     | std: 62.33     | min: 832.0     | 25%: 900.0     | 50%: 946.0     | 75%: 992.0     | max: 1.14e+03  \u001b[0m\n",
      "\u001b[32m2022-07-18 10:49:40\u001b[0m | \u001b[1mINFO\u001b[0m | \u001b[1macc:         | avg: 0.4747    | std: 0.06133   | min: 0.3281    | 25%: 0.4277    | 50%: 0.4805    | 75%: 0.5215    | max: 0.5938    \u001b[0m\n",
      "\u001b[32m2022-07-18 10:49:40\u001b[0m | \u001b[1mINFO\u001b[0m | \u001b[1mlr:          | avg: 5e-05     | std: nan       | min: 5e-05     | 25%: 5e-05     | 50%: 5e-05     | 75%: 5e-05     | max: 5e-05     \u001b[0m\n",
      "\u001b[32m2022-07-18 10:49:40\u001b[0m | \u001b[1mINFO\u001b[0m | \u001b[1mvalidation:\u001b[0m\n",
      "\u001b[32m2022-07-18 10:49:40\u001b[0m | \u001b[1mINFO\u001b[0m | \u001b[1mseconds:  0.5716 | batches: 22 | samples:  1.126e+04 | batch_rate:  38.49 [iter/sec] | sample_rate:  1.97e+04 [iter/sec] \u001b[0m\n",
      "\u001b[32m2022-07-18 10:49:40\u001b[0m | \u001b[1mINFO\u001b[0m | \u001b[1mloss:        | avg: 896.7     | std: 26.45     | min: 847.0     | 25%: 880.5     | 50%: 898.0     | 75%: 910.0     | max: 949.5     \u001b[0m\n",
      "\u001b[32m2022-07-18 10:49:40\u001b[0m | \u001b[1mINFO\u001b[0m | \u001b[1macc:         | avg: 0.5352    | std: 0.02308   | min: 0.4844    | 25%: 0.52      | 50%: 0.5352    | 75%: 0.5562    | max: 0.5762    \u001b[0m\n"
     ]
    },
    {
     "name": "stderr",
     "output_type": "stream",
     "text": [
      "\n",
      "train:   8%|▊         | 6/73 [00:00<?, ?it/s]\n",
      "train: 100%|██████████| 73/73 [00:12<00:00,  5.50it/s]"
     ]
    },
    {
     "name": "stdout",
     "output_type": "stream",
     "text": [
      "\u001b[32m2022-07-18 10:49:55\u001b[0m | \u001b[1mINFO\u001b[0m | \u001b[1m\u001b[0m\n",
      "\u001b[32m2022-07-18 10:49:55\u001b[0m | \u001b[1mINFO\u001b[0m | \u001b[1mFinished epoch 3/40:\u001b[0m\n",
      "\u001b[32m2022-07-18 10:49:55\u001b[0m | \u001b[1mINFO\u001b[0m | \u001b[1mtrain:\u001b[0m\n",
      "\u001b[32m2022-07-18 10:49:55\u001b[0m | \u001b[1mINFO\u001b[0m | \u001b[1mseconds:  13.27 | batches: 73 | samples:  3.738e+04 | batch_rate:  5.502 [iter/sec] | sample_rate:  2.817e+03 [iter/sec] \u001b[0m\n",
      "\u001b[32m2022-07-18 10:49:55\u001b[0m | \u001b[1mINFO\u001b[0m | \u001b[1mloss:        | avg: 829.4     | std: 32.64     | min: 776.0     | 25%: 807.0     | 50%: 825.0     | 75%: 851.5     | max: 922.0     \u001b[0m\n",
      "\u001b[32m2022-07-18 10:49:55\u001b[0m | \u001b[1mINFO\u001b[0m | \u001b[1macc:         | avg: 0.6103    | std: 0.03629   | min: 0.5215    | 25%: 0.582     | 50%: 0.6152    | 75%: 0.6367    | max: 0.6797    \u001b[0m\n",
      "\u001b[32m2022-07-18 10:49:55\u001b[0m | \u001b[1mINFO\u001b[0m | \u001b[1mlr:          | avg: 5e-05     | std: nan       | min: 5e-05     | 25%: 5e-05     | 50%: 5e-05     | 75%: 5e-05     | max: 5e-05     \u001b[0m\n",
      "\u001b[32m2022-07-18 10:49:55\u001b[0m | \u001b[1mINFO\u001b[0m | \u001b[1mvalidation:\u001b[0m\n",
      "\u001b[32m2022-07-18 10:49:55\u001b[0m | \u001b[1mINFO\u001b[0m | \u001b[1mseconds:  0.5892 | batches: 22 | samples:  1.126e+04 | batch_rate:  37.34 [iter/sec] | sample_rate:  1.912e+04 [iter/sec] \u001b[0m\n",
      "\u001b[32m2022-07-18 10:49:55\u001b[0m | \u001b[1mINFO\u001b[0m | \u001b[1mloss:        | avg: 831.6     | std: 23.93     | min: 792.0     | 25%: 812.2     | 50%: 828.8     | 75%: 845.5     | max: 884.0     \u001b[0m\n",
      "\u001b[32m2022-07-18 10:49:55\u001b[0m | \u001b[1mINFO\u001b[0m | \u001b[1macc:         | avg: 0.6448    | std: 0.02209   | min: 0.5996    | 25%: 0.6348    | 50%: 0.6436    | 75%: 0.6538    | max: 0.6895    \u001b[0m\n"
     ]
    },
    {
     "name": "stderr",
     "output_type": "stream",
     "text": [
      "\n",
      "train:   8%|▊         | 6/73 [00:00<?, ?it/s]\n",
      "train: 100%|██████████| 73/73 [00:11<00:00,  5.69it/s]"
     ]
    },
    {
     "name": "stdout",
     "output_type": "stream",
     "text": [
      "\u001b[32m2022-07-18 10:50:09\u001b[0m | \u001b[1mINFO\u001b[0m | \u001b[1m\u001b[0m\n",
      "\u001b[32m2022-07-18 10:50:09\u001b[0m | \u001b[1mINFO\u001b[0m | \u001b[1mFinished epoch 4/40:\u001b[0m\n",
      "\u001b[32m2022-07-18 10:50:09\u001b[0m | \u001b[1mINFO\u001b[0m | \u001b[1mtrain:\u001b[0m\n",
      "\u001b[32m2022-07-18 10:50:09\u001b[0m | \u001b[1mINFO\u001b[0m | \u001b[1mseconds:  12.88 | batches: 73 | samples:  3.738e+04 | batch_rate:  5.669 [iter/sec] | sample_rate:  2.903e+03 [iter/sec] \u001b[0m\n",
      "\u001b[32m2022-07-18 10:50:09\u001b[0m | \u001b[1mINFO\u001b[0m | \u001b[1mloss:        | avg: 777.1     | std: 24.64     | min: 727.0     | 25%: 763.0     | 50%: 774.0     | 75%: 791.0     | max: 859.0     \u001b[0m\n",
      "\u001b[32m2022-07-18 10:50:09\u001b[0m | \u001b[1mINFO\u001b[0m | \u001b[1macc:         | avg: 0.6695    | std: 0.02791   | min: 0.5957    | 25%: 0.6504    | 50%: 0.6738    | 75%: 0.6895    | max: 0.7441    \u001b[0m\n",
      "\u001b[32m2022-07-18 10:50:09\u001b[0m | \u001b[1mINFO\u001b[0m | \u001b[1mlr:          | avg: 5.703e-05 | std: nan       | min: 5.703e-05 | 25%: 5.703e-05 | 50%: 5.703e-05 | 75%: 5.703e-05 | max: 5.703e-05 \u001b[0m\n",
      "\u001b[32m2022-07-18 10:50:09\u001b[0m | \u001b[1mINFO\u001b[0m | \u001b[1mvalidation:\u001b[0m\n",
      "\u001b[32m2022-07-18 10:50:09\u001b[0m | \u001b[1mINFO\u001b[0m | \u001b[1mseconds:  0.5938 | batches: 22 | samples:  1.126e+04 | batch_rate:  37.05 [iter/sec] | sample_rate:  1.897e+04 [iter/sec] \u001b[0m\n",
      "\u001b[32m2022-07-18 10:50:09\u001b[0m | \u001b[1mINFO\u001b[0m | \u001b[1mloss:        | avg: 760.9     | std: 15.01     | min: 734.0     | 25%: 752.5     | 50%: 758.8     | 75%: 770.5     | max: 795.0     \u001b[0m\n",
      "\u001b[32m2022-07-18 10:50:09\u001b[0m | \u001b[1mINFO\u001b[0m | \u001b[1macc:         | avg: 0.7027    | std: 0.0252    | min: 0.6562    | 25%: 0.6826    | 50%: 0.7041    | 75%: 0.7222    | max: 0.7422    \u001b[0m\n"
     ]
    },
    {
     "name": "stderr",
     "output_type": "stream",
     "text": [
      "\n",
      "train:   8%|▊         | 6/73 [00:00<?, ?it/s]\n",
      "train:  21%|██        | 15/73 [00:01<00:11,  4.98it/s]"
     ]
    },
    {
     "name": "stdout",
     "output_type": "stream",
     "text": [
      "\u001b[32m2022-07-18 10:50:13\u001b[0m | \u001b[31m\u001b[1mERROR\u001b[0m | \u001b[31m\u001b[1mKeyboardInterrupt: Training was interrupted, reloads last checkpoint\u001b[0m\n"
     ]
    },
    {
     "name": "stderr",
     "output_type": "stream",
     "text": [
      "train:  22%|██▏       | 16/73 [00:02<00:12,  4.60it/s]"
     ]
    },
    {
     "name": "stdout",
     "output_type": "stream",
     "text": [
      "\u001b[32m2022-07-18 10:50:13\u001b[0m | \u001b[31m\u001b[1mERROR\u001b[0m | \u001b[31m\u001b[1mKeyboardInterrupt: Training was interrupted, Worker terminates\u001b[0m\n",
      "\u001b[32m2022-07-18 10:50:13\u001b[0m | \u001b[31m\u001b[1mERROR\u001b[0m | \u001b[31m\u001b[1mKeyboardInterrupt: Training was interrupted, Worker terminates\u001b[0m\n",
      "\u001b[32m2022-07-18 10:50:19\u001b[0m | \u001b[1mINFO\u001b[0m | \u001b[1mReload experiment from checkpoint: /home/shared/data/results/cifar10/cifar10/CIFAR10Algorithm/debug/0002_20220718_104847/checkpoints/checkpoint_000004\u001b[0m\n",
      "\u001b[32m2022-07-18 10:50:19\u001b[0m | \u001b[1mINFO\u001b[0m | \u001b[1mLoading network state from: /home/shared/data/results/cifar10/cifar10/CIFAR10Algorithm/debug/0002_20220718_104847/checkpoints/checkpoint_000004\u001b[0m\n"
     ]
    }
   ],
   "source": [
    "alg = experiment.fit(CIFAR10Algorithm, CIFAR10Dataset, tensorboard_arguments={'images': {'sample': {'dataformats': 'NCHW'}}})"
   ]
  },
  {
   "cell_type": "code",
   "execution_count": 14,
   "id": "25231f70-e628-431d-9624-806e106c6605",
   "metadata": {},
   "outputs": [],
   "source": [
    "predictions = alg.evaluate('test')"
   ]
  },
  {
   "cell_type": "code",
   "execution_count": 16,
   "id": "d86ae88a-ff11-4310-a3d0-4899672d3ef8",
   "metadata": {},
   "outputs": [
    {
     "data": {
      "text/plain": [
       "defaultdict(list,\n",
       "            {'precision': array([0.76832151, 0.92334495, 0.87545788, 0.53495441, 0.53638254,\n",
       "                    0.5632    , 0.68841202, 0.85095541, 0.71588188, 0.77132806]),\n",
       "             'recall': array([0.65 , 0.795, 0.239, 0.528, 0.774, 0.704, 0.802, 0.668, 0.897,\n",
       "                    0.877]),\n",
       "             'fscore': array([0.70422535, 0.85437937, 0.37549097, 0.53145445, 0.63364716,\n",
       "                    0.62577778, 0.7408776 , 0.74845938, 0.79627164, 0.82077679]),\n",
       "             'support': array([1000, 1000, 1000, 1000, 1000, 1000, 1000, 1000, 1000, 1000])})"
      ]
     },
     "execution_count": 16,
     "metadata": {},
     "output_type": "execute_result"
    }
   ],
   "source": [
    "predictions.statistics['metrics']"
   ]
  },
  {
   "cell_type": "code",
   "execution_count": 17,
   "id": "a1018386-8b16-48a5-954b-74bc0ddad5d4",
   "metadata": {},
   "outputs": [
    {
     "ename": "KeyError",
     "evalue": "0",
     "output_type": "error",
     "traceback": [
      "\u001b[0;31m---------------------------------------------------------------------------\u001b[0m",
      "\u001b[0;31mKeyError\u001b[0m                                  Traceback (most recent call last)",
      "File \u001b[0;32m/opt/conda/lib/python3.8/site-packages/pandas/core/indexes/base.py:3361\u001b[0m, in \u001b[0;36mIndex.get_loc\u001b[0;34m(self, key, method, tolerance)\u001b[0m\n\u001b[1;32m   3360\u001b[0m \u001b[38;5;28;01mtry\u001b[39;00m:\n\u001b[0;32m-> 3361\u001b[0m     \u001b[38;5;28;01mreturn\u001b[39;00m \u001b[38;5;28;43mself\u001b[39;49m\u001b[38;5;241;43m.\u001b[39;49m\u001b[43m_engine\u001b[49m\u001b[38;5;241;43m.\u001b[39;49m\u001b[43mget_loc\u001b[49m\u001b[43m(\u001b[49m\u001b[43mcasted_key\u001b[49m\u001b[43m)\u001b[49m\n\u001b[1;32m   3362\u001b[0m \u001b[38;5;28;01mexcept\u001b[39;00m \u001b[38;5;167;01mKeyError\u001b[39;00m \u001b[38;5;28;01mas\u001b[39;00m err:\n",
      "File \u001b[0;32m/opt/conda/lib/python3.8/site-packages/pandas/_libs/index.pyx:76\u001b[0m, in \u001b[0;36mpandas._libs.index.IndexEngine.get_loc\u001b[0;34m()\u001b[0m\n",
      "File \u001b[0;32m/opt/conda/lib/python3.8/site-packages/pandas/_libs/index.pyx:108\u001b[0m, in \u001b[0;36mpandas._libs.index.IndexEngine.get_loc\u001b[0;34m()\u001b[0m\n",
      "File \u001b[0;32mpandas/_libs/hashtable_class_helper.pxi:2131\u001b[0m, in \u001b[0;36mpandas._libs.hashtable.Int64HashTable.get_item\u001b[0;34m()\u001b[0m\n",
      "File \u001b[0;32mpandas/_libs/hashtable_class_helper.pxi:2140\u001b[0m, in \u001b[0;36mpandas._libs.hashtable.Int64HashTable.get_item\u001b[0;34m()\u001b[0m\n",
      "\u001b[0;31mKeyError\u001b[0m: 0",
      "\nThe above exception was the direct cause of the following exception:\n",
      "\u001b[0;31mKeyError\u001b[0m                                  Traceback (most recent call last)",
      "Input \u001b[0;32mIn [17]\u001b[0m, in \u001b[0;36m<cell line: 1>\u001b[0;34m()\u001b[0m\n\u001b[0;32m----> 1\u001b[0m \u001b[43mpredictions\u001b[49m\u001b[43m[\u001b[49m\u001b[38;5;241;43m0\u001b[39;49m\u001b[43m]\u001b[49m\n",
      "File \u001b[0;32m/home/elad/docker/beamds/notebooks/../src/beam/dataset.py:383\u001b[0m, in \u001b[0;36mUniversalDataset.__getitem__\u001b[0;34m(self, ind)\u001b[0m\n\u001b[1;32m    380\u001b[0m         loc \u001b[38;5;241m=\u001b[39m ind\n\u001b[1;32m    381\u001b[0m         ind \u001b[38;5;241m=\u001b[39m as_tensor(ind)\n\u001b[0;32m--> 383\u001b[0m     iloc \u001b[38;5;241m=\u001b[39m \u001b[38;5;28;43mself\u001b[39;49m\u001b[38;5;241;43m.\u001b[39;49m\u001b[43mindex\u001b[49m\u001b[38;5;241;43m.\u001b[39;49m\u001b[43mloc\u001b[49m\u001b[43m[\u001b[49m\u001b[43mloc\u001b[49m\u001b[43m]\u001b[49m\u001b[38;5;241m.\u001b[39mvalues\n\u001b[1;32m    385\u001b[0m \u001b[38;5;28;01melse\u001b[39;00m:\n\u001b[1;32m    387\u001b[0m     ind \u001b[38;5;241m=\u001b[39m slice_to_index(ind, l\u001b[38;5;241m=\u001b[39m\u001b[38;5;28mlen\u001b[39m(\u001b[38;5;28mself\u001b[39m))\n",
      "File \u001b[0;32m/opt/conda/lib/python3.8/site-packages/pandas/core/indexing.py:931\u001b[0m, in \u001b[0;36m_LocationIndexer.__getitem__\u001b[0;34m(self, key)\u001b[0m\n\u001b[1;32m    928\u001b[0m axis \u001b[38;5;241m=\u001b[39m \u001b[38;5;28mself\u001b[39m\u001b[38;5;241m.\u001b[39maxis \u001b[38;5;129;01mor\u001b[39;00m \u001b[38;5;241m0\u001b[39m\n\u001b[1;32m    930\u001b[0m maybe_callable \u001b[38;5;241m=\u001b[39m com\u001b[38;5;241m.\u001b[39mapply_if_callable(key, \u001b[38;5;28mself\u001b[39m\u001b[38;5;241m.\u001b[39mobj)\n\u001b[0;32m--> 931\u001b[0m \u001b[38;5;28;01mreturn\u001b[39;00m \u001b[38;5;28;43mself\u001b[39;49m\u001b[38;5;241;43m.\u001b[39;49m\u001b[43m_getitem_axis\u001b[49m\u001b[43m(\u001b[49m\u001b[43mmaybe_callable\u001b[49m\u001b[43m,\u001b[49m\u001b[43m \u001b[49m\u001b[43maxis\u001b[49m\u001b[38;5;241;43m=\u001b[39;49m\u001b[43maxis\u001b[49m\u001b[43m)\u001b[49m\n",
      "File \u001b[0;32m/opt/conda/lib/python3.8/site-packages/pandas/core/indexing.py:1164\u001b[0m, in \u001b[0;36m_LocIndexer._getitem_axis\u001b[0;34m(self, key, axis)\u001b[0m\n\u001b[1;32m   1162\u001b[0m \u001b[38;5;66;03m# fall thru to straight lookup\u001b[39;00m\n\u001b[1;32m   1163\u001b[0m \u001b[38;5;28mself\u001b[39m\u001b[38;5;241m.\u001b[39m_validate_key(key, axis)\n\u001b[0;32m-> 1164\u001b[0m \u001b[38;5;28;01mreturn\u001b[39;00m \u001b[38;5;28;43mself\u001b[39;49m\u001b[38;5;241;43m.\u001b[39;49m\u001b[43m_get_label\u001b[49m\u001b[43m(\u001b[49m\u001b[43mkey\u001b[49m\u001b[43m,\u001b[49m\u001b[43m \u001b[49m\u001b[43maxis\u001b[49m\u001b[38;5;241;43m=\u001b[39;49m\u001b[43maxis\u001b[49m\u001b[43m)\u001b[49m\n",
      "File \u001b[0;32m/opt/conda/lib/python3.8/site-packages/pandas/core/indexing.py:1113\u001b[0m, in \u001b[0;36m_LocIndexer._get_label\u001b[0;34m(self, label, axis)\u001b[0m\n\u001b[1;32m   1111\u001b[0m \u001b[38;5;28;01mdef\u001b[39;00m \u001b[38;5;21m_get_label\u001b[39m(\u001b[38;5;28mself\u001b[39m, label, axis: \u001b[38;5;28mint\u001b[39m):\n\u001b[1;32m   1112\u001b[0m     \u001b[38;5;66;03m# GH#5667 this will fail if the label is not present in the axis.\u001b[39;00m\n\u001b[0;32m-> 1113\u001b[0m     \u001b[38;5;28;01mreturn\u001b[39;00m \u001b[38;5;28;43mself\u001b[39;49m\u001b[38;5;241;43m.\u001b[39;49m\u001b[43mobj\u001b[49m\u001b[38;5;241;43m.\u001b[39;49m\u001b[43mxs\u001b[49m\u001b[43m(\u001b[49m\u001b[43mlabel\u001b[49m\u001b[43m,\u001b[49m\u001b[43m \u001b[49m\u001b[43maxis\u001b[49m\u001b[38;5;241;43m=\u001b[39;49m\u001b[43maxis\u001b[49m\u001b[43m)\u001b[49m\n",
      "File \u001b[0;32m/opt/conda/lib/python3.8/site-packages/pandas/core/generic.py:3776\u001b[0m, in \u001b[0;36mNDFrame.xs\u001b[0;34m(self, key, axis, level, drop_level)\u001b[0m\n\u001b[1;32m   3774\u001b[0m         \u001b[38;5;28;01mraise\u001b[39;00m \u001b[38;5;167;01mTypeError\u001b[39;00m(\u001b[38;5;124mf\u001b[39m\u001b[38;5;124m\"\u001b[39m\u001b[38;5;124mExpected label or tuple of labels, got \u001b[39m\u001b[38;5;132;01m{\u001b[39;00mkey\u001b[38;5;132;01m}\u001b[39;00m\u001b[38;5;124m\"\u001b[39m) \u001b[38;5;28;01mfrom\u001b[39;00m \u001b[38;5;21;01me\u001b[39;00m\n\u001b[1;32m   3775\u001b[0m \u001b[38;5;28;01melse\u001b[39;00m:\n\u001b[0;32m-> 3776\u001b[0m     loc \u001b[38;5;241m=\u001b[39m \u001b[43mindex\u001b[49m\u001b[38;5;241;43m.\u001b[39;49m\u001b[43mget_loc\u001b[49m\u001b[43m(\u001b[49m\u001b[43mkey\u001b[49m\u001b[43m)\u001b[49m\n\u001b[1;32m   3778\u001b[0m     \u001b[38;5;28;01mif\u001b[39;00m \u001b[38;5;28misinstance\u001b[39m(loc, np\u001b[38;5;241m.\u001b[39mndarray):\n\u001b[1;32m   3779\u001b[0m         \u001b[38;5;28;01mif\u001b[39;00m loc\u001b[38;5;241m.\u001b[39mdtype \u001b[38;5;241m==\u001b[39m np\u001b[38;5;241m.\u001b[39mbool_:\n",
      "File \u001b[0;32m/opt/conda/lib/python3.8/site-packages/pandas/core/indexes/base.py:3363\u001b[0m, in \u001b[0;36mIndex.get_loc\u001b[0;34m(self, key, method, tolerance)\u001b[0m\n\u001b[1;32m   3361\u001b[0m         \u001b[38;5;28;01mreturn\u001b[39;00m \u001b[38;5;28mself\u001b[39m\u001b[38;5;241m.\u001b[39m_engine\u001b[38;5;241m.\u001b[39mget_loc(casted_key)\n\u001b[1;32m   3362\u001b[0m     \u001b[38;5;28;01mexcept\u001b[39;00m \u001b[38;5;167;01mKeyError\u001b[39;00m \u001b[38;5;28;01mas\u001b[39;00m err:\n\u001b[0;32m-> 3363\u001b[0m         \u001b[38;5;28;01mraise\u001b[39;00m \u001b[38;5;167;01mKeyError\u001b[39;00m(key) \u001b[38;5;28;01mfrom\u001b[39;00m \u001b[38;5;21;01merr\u001b[39;00m\n\u001b[1;32m   3365\u001b[0m \u001b[38;5;28;01mif\u001b[39;00m is_scalar(key) \u001b[38;5;129;01mand\u001b[39;00m isna(key) \u001b[38;5;129;01mand\u001b[39;00m \u001b[38;5;129;01mnot\u001b[39;00m \u001b[38;5;28mself\u001b[39m\u001b[38;5;241m.\u001b[39mhasnans:\n\u001b[1;32m   3366\u001b[0m     \u001b[38;5;28;01mraise\u001b[39;00m \u001b[38;5;167;01mKeyError\u001b[39;00m(key)\n",
      "\u001b[0;31mKeyError\u001b[0m: 0"
     ]
    }
   ],
   "source": [
    "predictions"
   ]
  },
  {
   "cell_type": "markdown",
   "id": "8a7c5c77-a0c5-4d38-9ce4-2fecb034b790",
   "metadata": {},
   "source": [
    "## Show tensorboard"
   ]
  },
  {
   "cell_type": "code",
   "execution_count": 10,
   "id": "8766e28e-542e-4fb2-980d-91b2a123d0ca",
   "metadata": {},
   "outputs": [],
   "source": [
    "%load_ext tensorboard"
   ]
  },
  {
   "cell_type": "code",
   "execution_count": 11,
   "id": "70111a47-1d15-47ea-b06d-2753d9301ddc",
   "metadata": {},
   "outputs": [
    {
     "data": {
      "text/html": [
       "\n",
       "      <iframe id=\"tensorboard-frame-700ce5022e8b9eca\" width=\"100%\" height=\"800\" frameborder=\"0\">\n",
       "      </iframe>\n",
       "      <script>\n",
       "        (function() {\n",
       "          const frame = document.getElementById(\"tensorboard-frame-700ce5022e8b9eca\");\n",
       "          const url = new URL(\"/\", window.location);\n",
       "          const port = 13067;\n",
       "          if (port) {\n",
       "            url.port = port;\n",
       "          }\n",
       "          frame.src = url;\n",
       "        })();\n",
       "      </script>\n",
       "    "
      ],
      "text/plain": [
       "<IPython.core.display.HTML object>"
      ]
     },
     "metadata": {},
     "output_type": "display_data"
    }
   ],
   "source": [
    "%tensorboard --logdir /localdata/elads/data/cifar10/cifar10/CIFAR10Algorithm/debug/0147_20220706_122801 --port=13067 --bind_all"
   ]
  },
  {
   "cell_type": "markdown",
   "id": "3532ab07-ec57-4c84-a7cc-e53194c06906",
   "metadata": {},
   "source": [
    "## Hyperparameter search with native optuna"
   ]
  },
  {
   "cell_type": "code",
   "execution_count": 52,
   "id": "3a55d5ea-d43e-4c8a-82df-ba7393f5e5cd",
   "metadata": {},
   "outputs": [
    {
     "name": "stdout",
     "output_type": "stream",
     "text": [
      "\u001b[32m2022-08-11 13:33:55\u001b[0m | \u001b[1mINFO\u001b[0m | \u001b[1mbeam project: cifar10\u001b[0m\n",
      "\u001b[32m2022-08-11 13:33:55\u001b[0m | \u001b[1mINFO\u001b[0m | \u001b[1mExperiment Hyperparameters\u001b[0m\n",
      "\u001b[32m2022-08-11 13:33:55\u001b[0m | \u001b[1mINFO\u001b[0m | \u001b[1mproject_name: cifar10\u001b[0m\n",
      "\u001b[32m2022-08-11 13:33:55\u001b[0m | \u001b[1mINFO\u001b[0m | \u001b[1malgorithm: CIFAR10Algorithm\u001b[0m\n",
      "\u001b[32m2022-08-11 13:33:55\u001b[0m | \u001b[1mINFO\u001b[0m | \u001b[1midentifier: debug_hp_optimization_20220811_133355\u001b[0m\n",
      "\u001b[32m2022-08-11 13:33:55\u001b[0m | \u001b[1mINFO\u001b[0m | \u001b[1mmp_port: random\u001b[0m\n",
      "\u001b[32m2022-08-11 13:33:55\u001b[0m | \u001b[1mINFO\u001b[0m | \u001b[1mroot_dir: /home/shared/data/results/cifar10\u001b[0m\n",
      "\u001b[32m2022-08-11 13:33:55\u001b[0m | \u001b[1mINFO\u001b[0m | \u001b[1mreload: False\u001b[0m\n",
      "\u001b[32m2022-08-11 13:33:55\u001b[0m | \u001b[1mINFO\u001b[0m | \u001b[1mresume: -1\u001b[0m\n",
      "\u001b[32m2022-08-11 13:33:55\u001b[0m | \u001b[1mINFO\u001b[0m | \u001b[1moverride: False\u001b[0m\n",
      "\u001b[32m2022-08-11 13:33:55\u001b[0m | \u001b[1mINFO\u001b[0m | \u001b[1mcpu_workers: 0\u001b[0m\n",
      "\u001b[32m2022-08-11 13:33:55\u001b[0m | \u001b[1mINFO\u001b[0m | \u001b[1mdevice: 0\u001b[0m\n",
      "\u001b[32m2022-08-11 13:33:55\u001b[0m | \u001b[1mINFO\u001b[0m | \u001b[1mdevice_list: None\u001b[0m\n",
      "\u001b[32m2022-08-11 13:33:55\u001b[0m | \u001b[1mINFO\u001b[0m | \u001b[1mparallel: 0\u001b[0m\n",
      "\u001b[32m2022-08-11 13:33:55\u001b[0m | \u001b[1mINFO\u001b[0m | \u001b[1mtensorboard: True\u001b[0m\n",
      "\u001b[32m2022-08-11 13:33:55\u001b[0m | \u001b[1mINFO\u001b[0m | \u001b[1mlognet: True\u001b[0m\n",
      "\u001b[32m2022-08-11 13:33:55\u001b[0m | \u001b[1mINFO\u001b[0m | \u001b[1mdeterministic: False\u001b[0m\n",
      "\u001b[32m2022-08-11 13:33:55\u001b[0m | \u001b[1mINFO\u001b[0m | \u001b[1mscale_epoch_by_batch_size: True\u001b[0m\n",
      "\u001b[32m2022-08-11 13:33:55\u001b[0m | \u001b[1mINFO\u001b[0m | \u001b[1mhalf: False\u001b[0m\n",
      "\u001b[32m2022-08-11 13:33:55\u001b[0m | \u001b[1mINFO\u001b[0m | \u001b[1mamp: True\u001b[0m\n",
      "\u001b[32m2022-08-11 13:33:55\u001b[0m | \u001b[1mINFO\u001b[0m | \u001b[1mstore_initial_weights: False\u001b[0m\n",
      "\u001b[32m2022-08-11 13:33:55\u001b[0m | \u001b[1mINFO\u001b[0m | \u001b[1minit: ortho\u001b[0m\n",
      "\u001b[32m2022-08-11 13:33:55\u001b[0m | \u001b[1mINFO\u001b[0m | \u001b[1mseed: 0\u001b[0m\n",
      "\u001b[32m2022-08-11 13:33:55\u001b[0m | \u001b[1mINFO\u001b[0m | \u001b[1msplit_dataset_seed: 5782\u001b[0m\n",
      "\u001b[32m2022-08-11 13:33:55\u001b[0m | \u001b[1mINFO\u001b[0m | \u001b[1mtotal_steps: 1000000\u001b[0m\n",
      "\u001b[32m2022-08-11 13:33:55\u001b[0m | \u001b[1mINFO\u001b[0m | \u001b[1mepoch_length: None\u001b[0m\n",
      "\u001b[32m2022-08-11 13:33:55\u001b[0m | \u001b[1mINFO\u001b[0m | \u001b[1mepoch_length_train: None\u001b[0m\n",
      "\u001b[32m2022-08-11 13:33:55\u001b[0m | \u001b[1mINFO\u001b[0m | \u001b[1mepoch_length_eval: None\u001b[0m\n",
      "\u001b[32m2022-08-11 13:33:55\u001b[0m | \u001b[1mINFO\u001b[0m | \u001b[1mn_epochs: 2\u001b[0m\n",
      "\u001b[32m2022-08-11 13:33:55\u001b[0m | \u001b[1mINFO\u001b[0m | \u001b[1mdynamic_sampler: False\u001b[0m\n",
      "\u001b[32m2022-08-11 13:33:55\u001b[0m | \u001b[1mINFO\u001b[0m | \u001b[1mbuffer_size: None\u001b[0m\n",
      "\u001b[32m2022-08-11 13:33:55\u001b[0m | \u001b[1mINFO\u001b[0m | \u001b[1mprobs_normalization: sum\u001b[0m\n",
      "\u001b[32m2022-08-11 13:33:55\u001b[0m | \u001b[1mINFO\u001b[0m | \u001b[1msample_size: 100000\u001b[0m\n",
      "\u001b[32m2022-08-11 13:33:55\u001b[0m | \u001b[1mINFO\u001b[0m | \u001b[1mbatch_size: 512\u001b[0m\n",
      "\u001b[32m2022-08-11 13:33:55\u001b[0m | \u001b[1mINFO\u001b[0m | \u001b[1mbatch_size_train: None\u001b[0m\n",
      "\u001b[32m2022-08-11 13:33:55\u001b[0m | \u001b[1mINFO\u001b[0m | \u001b[1mbatch_size_eval: None\u001b[0m\n",
      "\u001b[32m2022-08-11 13:33:55\u001b[0m | \u001b[1mINFO\u001b[0m | \u001b[1mreduction: sum\u001b[0m\n",
      "\u001b[32m2022-08-11 13:33:55\u001b[0m | \u001b[1mINFO\u001b[0m | \u001b[1mlr_dense: 0.001\u001b[0m\n",
      "\u001b[32m2022-08-11 13:33:55\u001b[0m | \u001b[1mINFO\u001b[0m | \u001b[1mlr_sparse: 0.01\u001b[0m\n",
      "\u001b[32m2022-08-11 13:33:55\u001b[0m | \u001b[1mINFO\u001b[0m | \u001b[1mweight_decay: 1e-05\u001b[0m\n",
      "\u001b[32m2022-08-11 13:33:55\u001b[0m | \u001b[1mINFO\u001b[0m | \u001b[1meps: 0.0001\u001b[0m\n",
      "\u001b[32m2022-08-11 13:33:55\u001b[0m | \u001b[1mINFO\u001b[0m | \u001b[1mbeta1: 0.9\u001b[0m\n",
      "\u001b[32m2022-08-11 13:33:55\u001b[0m | \u001b[1mINFO\u001b[0m | \u001b[1mbeta2: 0.9\u001b[0m\n",
      "\u001b[32m2022-08-11 13:33:55\u001b[0m | \u001b[1mINFO\u001b[0m | \u001b[1mclip_gradient: 1000.0\u001b[0m\n",
      "\u001b[32m2022-08-11 13:33:55\u001b[0m | \u001b[1mINFO\u001b[0m | \u001b[1maccumulate: 1\u001b[0m\n",
      "\u001b[32m2022-08-11 13:33:55\u001b[0m | \u001b[1mINFO\u001b[0m | \u001b[1moversampling_factor: 0.0\u001b[0m\n",
      "\u001b[32m2022-08-11 13:33:55\u001b[0m | \u001b[1mINFO\u001b[0m | \u001b[1mexpansion_size: 10000000\u001b[0m\n",
      "\u001b[32m2022-08-11 13:33:55\u001b[0m | \u001b[1mINFO\u001b[0m | \u001b[1mprint_results: False\u001b[0m\n",
      "\u001b[32m2022-08-11 13:33:55\u001b[0m | \u001b[1mINFO\u001b[0m | \u001b[1mvisualize_weights: False\u001b[0m\n",
      "\u001b[32m2022-08-11 13:33:55\u001b[0m | \u001b[1mINFO\u001b[0m | \u001b[1menable_tqdm: False\u001b[0m\n",
      "\u001b[32m2022-08-11 13:33:55\u001b[0m | \u001b[1mINFO\u001b[0m | \u001b[1mtqdm_threshold: 10.0\u001b[0m\n",
      "\u001b[32m2022-08-11 13:33:55\u001b[0m | \u001b[1mINFO\u001b[0m | \u001b[1mtqdm_stats: 1.0\u001b[0m\n",
      "\u001b[32m2022-08-11 13:33:55\u001b[0m | \u001b[1mINFO\u001b[0m | \u001b[1mvisualize_results: yes\u001b[0m\n",
      "\u001b[32m2022-08-11 13:33:55\u001b[0m | \u001b[1mINFO\u001b[0m | \u001b[1mstore_results: logscale\u001b[0m\n",
      "\u001b[32m2022-08-11 13:33:55\u001b[0m | \u001b[1mINFO\u001b[0m | \u001b[1mstore_networks: logscale\u001b[0m\n",
      "\u001b[32m2022-08-11 13:33:55\u001b[0m | \u001b[1mINFO\u001b[0m | \u001b[1mpath_to_data: /home/shared/data/dataset/cifar10\u001b[0m\n",
      "\u001b[32m2022-08-11 13:33:55\u001b[0m | \u001b[1mINFO\u001b[0m | \u001b[1mdropout: 0.0\u001b[0m\n",
      "\u001b[32m2022-08-11 13:33:55\u001b[0m | \u001b[1mINFO\u001b[0m | \u001b[1mactivation: relu\u001b[0m\n",
      "\u001b[32m2022-08-11 13:33:55\u001b[0m | \u001b[1mINFO\u001b[0m | \u001b[1mchannels: 512\u001b[0m\n",
      "\u001b[32m2022-08-11 13:33:55\u001b[0m | \u001b[1mINFO\u001b[0m | \u001b[1mlabel_smoothing: 0.2\u001b[0m\n",
      "\u001b[32m2022-08-11 13:33:55\u001b[0m | \u001b[1mINFO\u001b[0m | \u001b[1mpadding: 6\u001b[0m\n",
      "\u001b[32m2022-08-11 13:33:55\u001b[0m | \u001b[1mINFO\u001b[0m | \u001b[1mgain: 0.2\u001b[0m\n",
      "\u001b[32m2022-08-11 13:33:55\u001b[0m | \u001b[1mINFO\u001b[0m | \u001b[1mturn_point: 1024\u001b[0m\n",
      "\u001b[32m2022-08-11 13:33:55\u001b[0m | \u001b[1mINFO\u001b[0m | \u001b[1mfinal_point: 3000\u001b[0m\n",
      "\u001b[32m2022-08-11 13:33:55\u001b[0m | \u001b[1mINFO\u001b[0m | \u001b[1mminimal_gain: 0.05\u001b[0m\n",
      "\u001b[32m2022-08-11 13:33:55\u001b[0m | \u001b[1mINFO\u001b[0m | \u001b[1mtemperature: 1\u001b[0m\n"
     ]
    }
   ],
   "source": [
    "args = beam_arguments(f\"--project-name=cifar10 --root-dir={root_dir} --algorithm=CIFAR10Algorithm --device=0 --amp --lr-d=1e-3 --batch-size=512\",\n",
    "                      \"--n-epochs=2 --clip-gradient=1000 --parallel=4 --accumulate=1 --no-deterministic\",\n",
    "                      \"--weight-decay=1e-5 --beta1=0.9 --beta2=0.9\", \n",
    "                      path_to_data=path_to_data, dropout=.0, activation='relu', channels=512, label_smoothing=.2,\n",
    "                      padding=6, gain=.2, turn_point=1024, final_point=3000, minimal_gain=.05, temperature=1)\n",
    "\n",
    "study = Study(args, Alg=CIFAR10Algorithm, Dataset=CIFAR10Dataset)"
   ]
  },
  {
   "cell_type": "code",
   "execution_count": 46,
   "id": "a0e58cf5-4ced-48eb-93cd-ca2f427e0dc6",
   "metadata": {},
   "outputs": [],
   "source": [
    "def suggest(trial):\n",
    "    lr = trial.suggest_loguniform(\"lr\", 1e-3, 2e-2)\n",
    "    print('My suggestion')\n",
    "    print(lr)\n",
    "    return {'lr_dense': lr}\n",
    "    "
   ]
  },
  {
   "cell_type": "code",
   "execution_count": null,
   "id": "75d94efb-031b-43fa-8bf6-c61b6409f2ff",
   "metadata": {},
   "outputs": [
    {
     "name": "stdout",
     "output_type": "stream",
     "text": [
      "  lr-dense weight_decay\n",
      "0    0.001     0.000001\n",
      "0    0.001         0.01\n",
      "0   0.0001     0.000001\n",
      "0   0.0001         0.01\n",
      "\u001b[32m2022-08-11 13:39:14\u001b[0m | \u001b[33m\u001b[1mWARNING\u001b[0m | \u001b[33m\u001b[1mOptuna does not support multi-GPU jobs. Setting number of parallel jobs to 1\u001b[0m\n"
     ]
    },
    {
     "name": "stderr",
     "output_type": "stream",
     "text": [
      "\u001b[32m[I 2022-08-11 13:39:14,041]\u001b[0m A new study created in memory with name: cifar10/CIFAR10Algorithm/debug_hp_optimization_20220811_133355\u001b[0m\n"
     ]
    },
    {
     "name": "stdout",
     "output_type": "stream",
     "text": [
      "\u001b[32m2022-08-11 13:39:14\u001b[0m | \u001b[1mINFO\u001b[0m | \u001b[1mNext Hyperparameter suggestion:\u001b[0m\n",
      "\u001b[32m2022-08-11 13:39:14\u001b[0m | \u001b[1mINFO\u001b[0m | \u001b[1mlr-dense: 0.001\u001b[0m\n",
      "\u001b[32m2022-08-11 13:39:14\u001b[0m | \u001b[1mINFO\u001b[0m | \u001b[1mweight_decay: 1e-06\u001b[0m\n",
      "\u001b[32m2022-08-11 13:39:14\u001b[0m | \u001b[1mINFO\u001b[0m | \u001b[1mCreating new experiment\u001b[0m\n",
      "\u001b[32m2022-08-11 13:39:14\u001b[0m | \u001b[1mINFO\u001b[0m | \u001b[1mExperiment directory is: /home/shared/data/results/cifar10/cifar10/CIFAR10Algorithm/debug_hp_optimization_20220811_133355/0002_20220811_133914\u001b[0m\n",
      "\u001b[32m2022-08-11 13:39:14\u001b[0m | \u001b[1mINFO\u001b[0m | \u001b[1mSingle worker mode\u001b[0m\n",
      "\u001b[32m2022-08-11 13:39:14\u001b[0m | \u001b[1mINFO\u001b[0m | \u001b[1mWorker: 1/1 is running...\u001b[0m\n",
      "\u001b[32m2022-08-11 13:39:14\u001b[0m | \u001b[1mINFO\u001b[0m | \u001b[1mWorker 1 will be running on device=cuda:0\u001b[0m\n"
     ]
    },
    {
     "name": "stderr",
     "output_type": "stream",
     "text": [
      "/home/elad/docker/beamds/notebooks/../src/beam/study.py:254: ExperimentalWarning: enqueue_trial is experimental (supported from v1.2.0). The interface can change in the future.\n",
      "  def dummy_suggest(trial):\n",
      "/opt/conda/lib/python3.8/site-packages/optuna/study/study.py:857: ExperimentalWarning: create_trial is experimental (supported from v2.0.0). The interface can change in the future.\n",
      "  create_trial(state=TrialState.WAITING, system_attrs={\"fixed_params\": params})\n",
      "/opt/conda/lib/python3.8/site-packages/optuna/study/study.py:856: ExperimentalWarning: add_trial is experimental (supported from v2.0.0). The interface can change in the future.\n",
      "  self.add_trial(\n"
     ]
    }
   ],
   "source": [
    "summary = study.grid_search(explode_parameters={'lr-dense': [1e-3, 1e-4], \"weight_decay\": [1e-6, 1e-2]},  direction='maximize')"
   ]
  },
  {
   "cell_type": "code",
   "execution_count": 47,
   "id": "f3a4ff8d-fb63-41d7-ba63-69cde55080ce",
   "metadata": {
    "tags": []
   },
   "outputs": [
    {
     "name": "stderr",
     "output_type": "stream",
     "text": [
      "\u001b[32m[I 2022-08-11 11:47:55,116]\u001b[0m A new study created in memory with name: cifar10/CIFAR10Algorithm/debug_hp_optimization_20220811_114751\u001b[0m\n"
     ]
    },
    {
     "name": "stdout",
     "output_type": "stream",
     "text": [
      "My suggestion\n",
      "0.0014562113817765687\n",
      "\u001b[32m2022-08-11 11:47:55\u001b[0m | \u001b[1mINFO\u001b[0m | \u001b[1mNext Hyperparameter suggestion:\u001b[0m\n",
      "\u001b[32m2022-08-11 11:47:55\u001b[0m | \u001b[1mINFO\u001b[0m | \u001b[1mlr_dense: 0.0014562113817765687\u001b[0m\n",
      "\u001b[32m2022-08-11 11:47:55\u001b[0m | \u001b[1mINFO\u001b[0m | \u001b[1mCreating new experiment\u001b[0m\n",
      "\u001b[32m2022-08-11 11:47:55\u001b[0m | \u001b[1mINFO\u001b[0m | \u001b[1mExperiment directory is: /home/shared/data/results/cifar10/cifar10/CIFAR10Algorithm/debug_hp_optimization_20220811_114751/0000_20220811_114755\u001b[0m\n",
      "\u001b[32m2022-08-11 11:47:55\u001b[0m | \u001b[1mINFO\u001b[0m | \u001b[1mSingle worker mode\u001b[0m\n",
      "\u001b[32m2022-08-11 11:47:55\u001b[0m | \u001b[1mINFO\u001b[0m | \u001b[1mWorker: 1/1 is running...\u001b[0m\n",
      "\u001b[32m2022-08-11 11:47:55\u001b[0m | \u001b[1mINFO\u001b[0m | \u001b[1mWorker 1 will be running on device=cuda:0\u001b[0m\n"
     ]
    },
    {
     "name": "stderr",
     "output_type": "stream",
     "text": [
      "\u001b[32m[I 2022-08-11 11:48:07,663]\u001b[0m Trial 0 finished with value: 0.37508491847826086 and parameters: {'lr': 0.0014562113817765687}. Best is trial 0 with value: 0.37508491847826086.\u001b[0m\n"
     ]
    },
    {
     "name": "stdout",
     "output_type": "stream",
     "text": [
      "My suggestion\n",
      "0.00544479618713628\n",
      "\u001b[32m2022-08-11 11:48:07\u001b[0m | \u001b[1mINFO\u001b[0m | \u001b[1mNext Hyperparameter suggestion:\u001b[0m\n",
      "\u001b[32m2022-08-11 11:48:07\u001b[0m | \u001b[1mINFO\u001b[0m | \u001b[1mlr_dense: 0.00544479618713628\u001b[0m\n",
      "\u001b[32m2022-08-11 11:48:07\u001b[0m | \u001b[1mINFO\u001b[0m | \u001b[1mCreating new experiment\u001b[0m\n",
      "\u001b[32m2022-08-11 11:48:07\u001b[0m | \u001b[1mINFO\u001b[0m | \u001b[1mExperiment directory is: /home/shared/data/results/cifar10/cifar10/CIFAR10Algorithm/debug_hp_optimization_20220811_114751/0001_20220811_114807\u001b[0m\n",
      "\u001b[32m2022-08-11 11:48:07\u001b[0m | \u001b[1mINFO\u001b[0m | \u001b[1mSingle worker mode\u001b[0m\n",
      "\u001b[32m2022-08-11 11:48:07\u001b[0m | \u001b[1mINFO\u001b[0m | \u001b[1mWorker: 1/1 is running...\u001b[0m\n",
      "\u001b[32m2022-08-11 11:48:07\u001b[0m | \u001b[1mINFO\u001b[0m | \u001b[1mWorker 1 will be running on device=cuda:0\u001b[0m\n"
     ]
    },
    {
     "name": "stderr",
     "output_type": "stream",
     "text": [
      "\u001b[32m[I 2022-08-11 11:48:21,547]\u001b[0m Trial 1 finished with value: 0.10793138586956522 and parameters: {'lr': 0.00544479618713628}. Best is trial 0 with value: 0.37508491847826086.\u001b[0m\n"
     ]
    },
    {
     "name": "stdout",
     "output_type": "stream",
     "text": [
      "My suggestion\n",
      "0.016051414950411205\n",
      "\u001b[32m2022-08-11 11:48:21\u001b[0m | \u001b[1mINFO\u001b[0m | \u001b[1mNext Hyperparameter suggestion:\u001b[0m\n",
      "\u001b[32m2022-08-11 11:48:21\u001b[0m | \u001b[1mINFO\u001b[0m | \u001b[1mlr_dense: 0.016051414950411205\u001b[0m\n",
      "\u001b[32m2022-08-11 11:48:21\u001b[0m | \u001b[1mINFO\u001b[0m | \u001b[1mCreating new experiment\u001b[0m\n",
      "\u001b[32m2022-08-11 11:48:21\u001b[0m | \u001b[1mINFO\u001b[0m | \u001b[1mExperiment directory is: /home/shared/data/results/cifar10/cifar10/CIFAR10Algorithm/debug_hp_optimization_20220811_114751/0002_20220811_114821\u001b[0m\n",
      "\u001b[32m2022-08-11 11:48:21\u001b[0m | \u001b[1mINFO\u001b[0m | \u001b[1mSingle worker mode\u001b[0m\n",
      "\u001b[32m2022-08-11 11:48:21\u001b[0m | \u001b[1mINFO\u001b[0m | \u001b[1mWorker: 1/1 is running...\u001b[0m\n",
      "\u001b[32m2022-08-11 11:48:21\u001b[0m | \u001b[1mINFO\u001b[0m | \u001b[1mWorker 1 will be running on device=cuda:0\u001b[0m\n"
     ]
    },
    {
     "name": "stderr",
     "output_type": "stream",
     "text": [
      "NaN or Inf found in input tensor.\n",
      "NaN or Inf found in input tensor.\n",
      "NaN or Inf found in input tensor.\n",
      "NaN or Inf found in input tensor.\n",
      "NaN or Inf found in input tensor.\n",
      "NaN or Inf found in input tensor.\n",
      "NaN or Inf found in input tensor.\n",
      "NaN or Inf found in input tensor.\n",
      "\u001b[32m[I 2022-08-11 11:48:40,182]\u001b[0m Trial 2 finished with value: 0.10105298913043478 and parameters: {'lr': 0.016051414950411205}. Best is trial 0 with value: 0.37508491847826086.\u001b[0m\n"
     ]
    },
    {
     "name": "stdout",
     "output_type": "stream",
     "text": [
      "My suggestion\n",
      "0.00314494444474515\n",
      "\u001b[32m2022-08-11 11:48:40\u001b[0m | \u001b[1mINFO\u001b[0m | \u001b[1mNext Hyperparameter suggestion:\u001b[0m\n",
      "\u001b[32m2022-08-11 11:48:40\u001b[0m | \u001b[1mINFO\u001b[0m | \u001b[1mlr_dense: 0.00314494444474515\u001b[0m\n",
      "\u001b[32m2022-08-11 11:48:40\u001b[0m | \u001b[1mINFO\u001b[0m | \u001b[1mCreating new experiment\u001b[0m\n",
      "\u001b[32m2022-08-11 11:48:40\u001b[0m | \u001b[1mINFO\u001b[0m | \u001b[1mExperiment directory is: /home/shared/data/results/cifar10/cifar10/CIFAR10Algorithm/debug_hp_optimization_20220811_114751/0003_20220811_114840\u001b[0m\n",
      "\u001b[32m2022-08-11 11:48:40\u001b[0m | \u001b[1mINFO\u001b[0m | \u001b[1mSingle worker mode\u001b[0m\n",
      "\u001b[32m2022-08-11 11:48:40\u001b[0m | \u001b[1mINFO\u001b[0m | \u001b[1mWorker: 1/1 is running...\u001b[0m\n",
      "\u001b[32m2022-08-11 11:48:40\u001b[0m | \u001b[1mINFO\u001b[0m | \u001b[1mWorker 1 will be running on device=cuda:0\u001b[0m\n"
     ]
    },
    {
     "name": "stderr",
     "output_type": "stream",
     "text": [
      "\u001b[32m[I 2022-08-11 11:48:58,701]\u001b[0m Trial 3 finished with value: 0.14580502717391305 and parameters: {'lr': 0.00314494444474515}. Best is trial 0 with value: 0.37508491847826086.\u001b[0m\n"
     ]
    }
   ],
   "source": [
    "summary = study.optuna(suggest, direction='maximize', n_jobs=1, n_trials=4)"
   ]
  },
  {
   "cell_type": "code",
   "execution_count": 48,
   "id": "696c00d0-59d3-4794-a18e-09f6db6e14c3",
   "metadata": {},
   "outputs": [
    {
     "data": {
      "text/plain": [
       "[FrozenTrial(number=0, values=[0.37508491847826086], datetime_start=datetime.datetime(2022, 8, 11, 11, 47, 55, 119527), datetime_complete=datetime.datetime(2022, 8, 11, 11, 48, 7, 662923), params={'lr': 0.0014562113817765687}, distributions={'lr': LogUniformDistribution(high=0.02, low=0.001)}, user_attrs={}, system_attrs={}, intermediate_values={0: 0.19964334239130435, 1: 0.37508491847826086}, trial_id=0, state=TrialState.COMPLETE, value=None),\n",
       " FrozenTrial(number=1, values=[0.10793138586956522], datetime_start=datetime.datetime(2022, 8, 11, 11, 48, 7, 665521), datetime_complete=datetime.datetime(2022, 8, 11, 11, 48, 21, 547694), params={'lr': 0.00544479618713628}, distributions={'lr': LogUniformDistribution(high=0.02, low=0.001)}, user_attrs={}, system_attrs={}, intermediate_values={0: 0.08220108695652174, 1: 0.10793138586956522}, trial_id=1, state=TrialState.COMPLETE, value=None),\n",
       " FrozenTrial(number=2, values=[0.10105298913043478], datetime_start=datetime.datetime(2022, 8, 11, 11, 48, 21, 549469), datetime_complete=datetime.datetime(2022, 8, 11, 11, 48, 40, 182587), params={'lr': 0.016051414950411205}, distributions={'lr': LogUniformDistribution(high=0.02, low=0.001)}, user_attrs={}, system_attrs={}, intermediate_values={0: 0.10139266304347826, 1: 0.10105298913043478}, trial_id=2, state=TrialState.COMPLETE, value=None),\n",
       " FrozenTrial(number=3, values=[0.14580502717391305], datetime_start=datetime.datetime(2022, 8, 11, 11, 48, 40, 184207), datetime_complete=datetime.datetime(2022, 8, 11, 11, 48, 58, 701599), params={'lr': 0.00314494444474515}, distributions={'lr': LogUniformDistribution(high=0.02, low=0.001)}, user_attrs={}, system_attrs={}, intermediate_values={0: 0.09604279891304347, 1: 0.14580502717391305}, trial_id=3, state=TrialState.COMPLETE, value=None)]"
      ]
     },
     "execution_count": 48,
     "metadata": {},
     "output_type": "execute_result"
    }
   ],
   "source": [
    "summary.get_trials()"
   ]
  },
  {
   "cell_type": "markdown",
   "id": "90540ccd-6dd1-41a2-99e3-ceab19b66faf",
   "metadata": {},
   "source": [
    "## Hyperparameter search with ray-tune and optuna"
   ]
  },
  {
   "cell_type": "code",
   "execution_count": 10,
   "id": "c1f08ce6-1ee8-4160-8f15-f130482696f9",
   "metadata": {},
   "outputs": [
    {
     "name": "stdout",
     "output_type": "stream",
     "text": [
      "\u001b[32m2022-08-11 12:43:53\u001b[0m | \u001b[1mINFO\u001b[0m | \u001b[1mbeam project: cifar10\u001b[0m\n",
      "\u001b[32m2022-08-11 12:43:53\u001b[0m | \u001b[1mINFO\u001b[0m | \u001b[1mExperiment Hyperparameters\u001b[0m\n",
      "\u001b[32m2022-08-11 12:43:53\u001b[0m | \u001b[1mINFO\u001b[0m | \u001b[1mproject_name: cifar10\u001b[0m\n",
      "\u001b[32m2022-08-11 12:43:53\u001b[0m | \u001b[1mINFO\u001b[0m | \u001b[1malgorithm: CIFAR10Algorithm\u001b[0m\n",
      "\u001b[32m2022-08-11 12:43:53\u001b[0m | \u001b[1mINFO\u001b[0m | \u001b[1midentifier: debug_hp_optimization_20220811_124353\u001b[0m\n",
      "\u001b[32m2022-08-11 12:43:53\u001b[0m | \u001b[1mINFO\u001b[0m | \u001b[1mmp_port: random\u001b[0m\n",
      "\u001b[32m2022-08-11 12:43:53\u001b[0m | \u001b[1mINFO\u001b[0m | \u001b[1mroot_dir: /home/shared/data/results/cifar10\u001b[0m\n",
      "\u001b[32m2022-08-11 12:43:53\u001b[0m | \u001b[1mINFO\u001b[0m | \u001b[1mreload: False\u001b[0m\n",
      "\u001b[32m2022-08-11 12:43:53\u001b[0m | \u001b[1mINFO\u001b[0m | \u001b[1mresume: -1\u001b[0m\n",
      "\u001b[32m2022-08-11 12:43:53\u001b[0m | \u001b[1mINFO\u001b[0m | \u001b[1moverride: False\u001b[0m\n",
      "\u001b[32m2022-08-11 12:43:53\u001b[0m | \u001b[1mINFO\u001b[0m | \u001b[1mcpu_workers: 0\u001b[0m\n",
      "\u001b[32m2022-08-11 12:43:53\u001b[0m | \u001b[1mINFO\u001b[0m | \u001b[1mdevice: 0\u001b[0m\n",
      "\u001b[32m2022-08-11 12:43:53\u001b[0m | \u001b[1mINFO\u001b[0m | \u001b[1mdevice_list: None\u001b[0m\n",
      "\u001b[32m2022-08-11 12:43:53\u001b[0m | \u001b[1mINFO\u001b[0m | \u001b[1mparallel: 0\u001b[0m\n",
      "\u001b[32m2022-08-11 12:43:53\u001b[0m | \u001b[1mINFO\u001b[0m | \u001b[1mtensorboard: True\u001b[0m\n",
      "\u001b[32m2022-08-11 12:43:53\u001b[0m | \u001b[1mINFO\u001b[0m | \u001b[1mlognet: True\u001b[0m\n",
      "\u001b[32m2022-08-11 12:43:53\u001b[0m | \u001b[1mINFO\u001b[0m | \u001b[1mdeterministic: False\u001b[0m\n",
      "\u001b[32m2022-08-11 12:43:53\u001b[0m | \u001b[1mINFO\u001b[0m | \u001b[1mscale_epoch_by_batch_size: True\u001b[0m\n",
      "\u001b[32m2022-08-11 12:43:53\u001b[0m | \u001b[1mINFO\u001b[0m | \u001b[1mhalf: False\u001b[0m\n",
      "\u001b[32m2022-08-11 12:43:53\u001b[0m | \u001b[1mINFO\u001b[0m | \u001b[1mamp: True\u001b[0m\n",
      "\u001b[32m2022-08-11 12:43:53\u001b[0m | \u001b[1mINFO\u001b[0m | \u001b[1mstore_initial_weights: False\u001b[0m\n",
      "\u001b[32m2022-08-11 12:43:53\u001b[0m | \u001b[1mINFO\u001b[0m | \u001b[1minit: ortho\u001b[0m\n",
      "\u001b[32m2022-08-11 12:43:53\u001b[0m | \u001b[1mINFO\u001b[0m | \u001b[1mseed: 0\u001b[0m\n",
      "\u001b[32m2022-08-11 12:43:53\u001b[0m | \u001b[1mINFO\u001b[0m | \u001b[1msplit_dataset_seed: 5782\u001b[0m\n",
      "\u001b[32m2022-08-11 12:43:53\u001b[0m | \u001b[1mINFO\u001b[0m | \u001b[1mtotal_steps: 1000000\u001b[0m\n",
      "\u001b[32m2022-08-11 12:43:53\u001b[0m | \u001b[1mINFO\u001b[0m | \u001b[1mepoch_length: None\u001b[0m\n",
      "\u001b[32m2022-08-11 12:43:53\u001b[0m | \u001b[1mINFO\u001b[0m | \u001b[1mepoch_length_train: None\u001b[0m\n",
      "\u001b[32m2022-08-11 12:43:53\u001b[0m | \u001b[1mINFO\u001b[0m | \u001b[1mepoch_length_eval: None\u001b[0m\n",
      "\u001b[32m2022-08-11 12:43:53\u001b[0m | \u001b[1mINFO\u001b[0m | \u001b[1mn_epochs: 2\u001b[0m\n",
      "\u001b[32m2022-08-11 12:43:53\u001b[0m | \u001b[1mINFO\u001b[0m | \u001b[1mdynamic_sampler: False\u001b[0m\n",
      "\u001b[32m2022-08-11 12:43:53\u001b[0m | \u001b[1mINFO\u001b[0m | \u001b[1mbuffer_size: None\u001b[0m\n",
      "\u001b[32m2022-08-11 12:43:53\u001b[0m | \u001b[1mINFO\u001b[0m | \u001b[1mprobs_normalization: sum\u001b[0m\n",
      "\u001b[32m2022-08-11 12:43:53\u001b[0m | \u001b[1mINFO\u001b[0m | \u001b[1msample_size: 100000\u001b[0m\n",
      "\u001b[32m2022-08-11 12:43:53\u001b[0m | \u001b[1mINFO\u001b[0m | \u001b[1mbatch_size: 512\u001b[0m\n",
      "\u001b[32m2022-08-11 12:43:53\u001b[0m | \u001b[1mINFO\u001b[0m | \u001b[1mbatch_size_train: None\u001b[0m\n",
      "\u001b[32m2022-08-11 12:43:53\u001b[0m | \u001b[1mINFO\u001b[0m | \u001b[1mbatch_size_eval: None\u001b[0m\n",
      "\u001b[32m2022-08-11 12:43:53\u001b[0m | \u001b[1mINFO\u001b[0m | \u001b[1mreduction: sum\u001b[0m\n",
      "\u001b[32m2022-08-11 12:43:53\u001b[0m | \u001b[1mINFO\u001b[0m | \u001b[1mlr_dense: 0.001\u001b[0m\n",
      "\u001b[32m2022-08-11 12:43:53\u001b[0m | \u001b[1mINFO\u001b[0m | \u001b[1mlr_sparse: 0.01\u001b[0m\n",
      "\u001b[32m2022-08-11 12:43:53\u001b[0m | \u001b[1mINFO\u001b[0m | \u001b[1mweight_decay: 1e-05\u001b[0m\n",
      "\u001b[32m2022-08-11 12:43:53\u001b[0m | \u001b[1mINFO\u001b[0m | \u001b[1meps: 0.0001\u001b[0m\n",
      "\u001b[32m2022-08-11 12:43:53\u001b[0m | \u001b[1mINFO\u001b[0m | \u001b[1mbeta1: 0.9\u001b[0m\n",
      "\u001b[32m2022-08-11 12:43:53\u001b[0m | \u001b[1mINFO\u001b[0m | \u001b[1mbeta2: 0.9\u001b[0m\n",
      "\u001b[32m2022-08-11 12:43:53\u001b[0m | \u001b[1mINFO\u001b[0m | \u001b[1mclip_gradient: 1000.0\u001b[0m\n",
      "\u001b[32m2022-08-11 12:43:53\u001b[0m | \u001b[1mINFO\u001b[0m | \u001b[1maccumulate: 1\u001b[0m\n",
      "\u001b[32m2022-08-11 12:43:53\u001b[0m | \u001b[1mINFO\u001b[0m | \u001b[1moversampling_factor: 0.0\u001b[0m\n",
      "\u001b[32m2022-08-11 12:43:53\u001b[0m | \u001b[1mINFO\u001b[0m | \u001b[1mexpansion_size: 10000000\u001b[0m\n",
      "\u001b[32m2022-08-11 12:43:53\u001b[0m | \u001b[1mINFO\u001b[0m | \u001b[1mprint_results: False\u001b[0m\n",
      "\u001b[32m2022-08-11 12:43:53\u001b[0m | \u001b[1mINFO\u001b[0m | \u001b[1mvisualize_weights: False\u001b[0m\n",
      "\u001b[32m2022-08-11 12:43:53\u001b[0m | \u001b[1mINFO\u001b[0m | \u001b[1menable_tqdm: False\u001b[0m\n",
      "\u001b[32m2022-08-11 12:43:53\u001b[0m | \u001b[1mINFO\u001b[0m | \u001b[1mtqdm_threshold: 10.0\u001b[0m\n",
      "\u001b[32m2022-08-11 12:43:53\u001b[0m | \u001b[1mINFO\u001b[0m | \u001b[1mtqdm_stats: 1.0\u001b[0m\n",
      "\u001b[32m2022-08-11 12:43:53\u001b[0m | \u001b[1mINFO\u001b[0m | \u001b[1mvisualize_results: yes\u001b[0m\n",
      "\u001b[32m2022-08-11 12:43:53\u001b[0m | \u001b[1mINFO\u001b[0m | \u001b[1mstore_results: logscale\u001b[0m\n",
      "\u001b[32m2022-08-11 12:43:53\u001b[0m | \u001b[1mINFO\u001b[0m | \u001b[1mstore_networks: logscale\u001b[0m\n",
      "\u001b[32m2022-08-11 12:43:53\u001b[0m | \u001b[1mINFO\u001b[0m | \u001b[1mpath_to_data: /home/shared/data/dataset/cifar10\u001b[0m\n",
      "\u001b[32m2022-08-11 12:43:53\u001b[0m | \u001b[1mINFO\u001b[0m | \u001b[1mdropout: 0.0\u001b[0m\n",
      "\u001b[32m2022-08-11 12:43:53\u001b[0m | \u001b[1mINFO\u001b[0m | \u001b[1mactivation: relu\u001b[0m\n",
      "\u001b[32m2022-08-11 12:43:53\u001b[0m | \u001b[1mINFO\u001b[0m | \u001b[1mchannels: 512\u001b[0m\n",
      "\u001b[32m2022-08-11 12:43:53\u001b[0m | \u001b[1mINFO\u001b[0m | \u001b[1mlabel_smoothing: 0.2\u001b[0m\n",
      "\u001b[32m2022-08-11 12:43:53\u001b[0m | \u001b[1mINFO\u001b[0m | \u001b[1mpadding: 6\u001b[0m\n",
      "\u001b[32m2022-08-11 12:43:53\u001b[0m | \u001b[1mINFO\u001b[0m | \u001b[1mgain: 0.2\u001b[0m\n",
      "\u001b[32m2022-08-11 12:43:53\u001b[0m | \u001b[1mINFO\u001b[0m | \u001b[1mturn_point: 1024\u001b[0m\n",
      "\u001b[32m2022-08-11 12:43:53\u001b[0m | \u001b[1mINFO\u001b[0m | \u001b[1mfinal_point: 3000\u001b[0m\n",
      "\u001b[32m2022-08-11 12:43:53\u001b[0m | \u001b[1mINFO\u001b[0m | \u001b[1mminimal_gain: 0.05\u001b[0m\n",
      "\u001b[32m2022-08-11 12:43:53\u001b[0m | \u001b[1mINFO\u001b[0m | \u001b[1mtemperature: 1\u001b[0m\n"
     ]
    }
   ],
   "source": [
    "args = beam_arguments(f\"--project-name=cifar10 --root-dir={root_dir} --algorithm=CIFAR10Algorithm --device=0 --amp --lr-d=1e-3 --batch-size=512\",\n",
    "                      \"--n-epochs=2 --clip-gradient=1000 --parallel=0 --accumulate=1 --no-deterministic\",\n",
    "                      \"--weight-decay=1e-5 --beta1=0.9 --beta2=0.9\", \n",
    "                      path_to_data=path_to_data, dropout=.0, activation='relu', channels=512, label_smoothing=.2,\n",
    "                      padding=6, gain=.2, turn_point=1024, final_point=3000, minimal_gain=.05, temperature=1)\n",
    "\n",
    "study = Study(args, Alg=CIFAR10Algorithm, Dataset=CIFAR10Dataset, print_results=False)"
   ]
  },
  {
   "cell_type": "code",
   "execution_count": 4,
   "id": "0979998d-cde5-4e38-8c37-ba126fcd9df0",
   "metadata": {},
   "outputs": [],
   "source": [
    "import inspect"
   ]
  },
  {
   "cell_type": "code",
   "execution_count": 5,
   "id": "864fd6e5-f09d-4d30-ae04-d6b511e27d94",
   "metadata": {},
   "outputs": [
    {
     "data": {
      "text/plain": [
       "'/home/elad/docker/beamds/notebooks/../cifar10_example.py'"
      ]
     },
     "execution_count": 5,
     "metadata": {},
     "output_type": "execute_result"
    }
   ],
   "source": [
    "inspect.getfile(CIFAR10Algorithm)"
   ]
  },
  {
   "cell_type": "code",
   "execution_count": 13,
   "id": "10a1e867-41ef-4058-b7be-f09740997c83",
   "metadata": {
    "tags": []
   },
   "outputs": [
    {
     "data": {
      "text/html": [
       "== Status ==<br>Current time: 2022-08-11 12:46:55 (running for 00:01:08.53)<br>Memory usage on this node: 25.6/376.6 GiB<br>Using FIFO scheduling algorithm.<br>Resources requested: 0/80 CPUs, 0/2 GPUs, 0.0/247.43 GiB heap, 0.0/110.03 GiB objects (0.0/1.0 accelerator_type:RTX)<br>Current best trial: 85504352 with mean_accuracy=0.7862601902173914 and parameters={'lr_dense': 0.001131880093948922, 'weight_decay': 3.4542259346970392e-06, 'beta1': 0.9468803517324881, 'gain': 0.2, 'temperature': 0.07060689800613107, 'minimal_gain': 0.011208230672209466, 'channels': 256, 'padding': 4, 'turn_point': 1024, 'final_point': 4096, 'batch_size': 256, 'activation': 'gelu'}<br>Result logdir: /home/shared/data/results/cifar10/ray_results/cifar10/CIFAR10Algorithm/debug_hp_optimization_20220811_124353/runner_tune_2022-08-11_12-45-46<br>Number of trials: 4/4 (4 TERMINATED)<br><table>\n",
       "<thead>\n",
       "<tr><th>Trial name          </th><th>status    </th><th>loc             </th><th>activation  </th><th style=\"text-align: right;\">  batch_size</th><th style=\"text-align: right;\">   beta1</th><th style=\"text-align: right;\">  channels</th><th style=\"text-align: right;\">  final_point</th><th style=\"text-align: right;\">  gain</th><th style=\"text-align: right;\">   lr_dense</th><th style=\"text-align: right;\">  minimal_gain</th><th style=\"text-align: right;\">  padding</th><th style=\"text-align: right;\">  temperature</th><th style=\"text-align: right;\">  turn_point</th><th style=\"text-align: right;\">  weight_decay</th><th style=\"text-align: right;\">     acc</th><th style=\"text-align: right;\">  iter</th><th style=\"text-align: right;\">  total time (s)</th></tr>\n",
       "</thead>\n",
       "<tbody>\n",
       "<tr><td>runner_tune_85504352</td><td>TERMINATED</td><td>172.17.0.7:24241</td><td>gelu        </td><td style=\"text-align: right;\">         256</td><td style=\"text-align: right;\">0.94688 </td><td style=\"text-align: right;\">       256</td><td style=\"text-align: right;\">         4096</td><td style=\"text-align: right;\">   0.2</td><td style=\"text-align: right;\">0.00113188 </td><td style=\"text-align: right;\">     0.0112082</td><td style=\"text-align: right;\">        4</td><td style=\"text-align: right;\">    0.0706069</td><td style=\"text-align: right;\">        1024</td><td style=\"text-align: right;\">   3.45423e-06</td><td style=\"text-align: right;\">0.78626 </td><td style=\"text-align: right;\">     2</td><td style=\"text-align: right;\">         19.5684</td></tr>\n",
       "<tr><td>runner_tune_8849ae72</td><td>TERMINATED</td><td>172.17.0.7:24279</td><td>celu        </td><td style=\"text-align: right;\">        1024</td><td style=\"text-align: right;\">0.944153</td><td style=\"text-align: right;\">      1024</td><td style=\"text-align: right;\">         2048</td><td style=\"text-align: right;\">   0.2</td><td style=\"text-align: right;\">0.000663368</td><td style=\"text-align: right;\">     0.0851956</td><td style=\"text-align: right;\">        4</td><td style=\"text-align: right;\">    0.101959 </td><td style=\"text-align: right;\">         256</td><td style=\"text-align: right;\">   0.000248386</td><td style=\"text-align: right;\">0.551225</td><td style=\"text-align: right;\">     2</td><td style=\"text-align: right;\">         27.3594</td></tr>\n",
       "<tr><td>runner_tune_884cae24</td><td>TERMINATED</td><td>172.17.0.7:24337</td><td>relu        </td><td style=\"text-align: right;\">         512</td><td style=\"text-align: right;\">0.858114</td><td style=\"text-align: right;\">       256</td><td style=\"text-align: right;\">         2048</td><td style=\"text-align: right;\">   0.2</td><td style=\"text-align: right;\">0.000847372</td><td style=\"text-align: right;\">     0.0180671</td><td style=\"text-align: right;\">        8</td><td style=\"text-align: right;\">    0.565499 </td><td style=\"text-align: right;\">        1024</td><td style=\"text-align: right;\">   0.00557459 </td><td style=\"text-align: right;\">0.438774</td><td style=\"text-align: right;\">     2</td><td style=\"text-align: right;\">         14.4375</td></tr>\n",
       "<tr><td>runner_tune_949db2c2</td><td>TERMINATED</td><td>172.17.0.7:24387</td><td>gelu        </td><td style=\"text-align: right;\">        1024</td><td style=\"text-align: right;\">0.891607</td><td style=\"text-align: right;\">      1024</td><td style=\"text-align: right;\">         2048</td><td style=\"text-align: right;\">   0.2</td><td style=\"text-align: right;\">0.000527338</td><td style=\"text-align: right;\">     0.0509203</td><td style=\"text-align: right;\">        8</td><td style=\"text-align: right;\">    1.35825  </td><td style=\"text-align: right;\">         256</td><td style=\"text-align: right;\">   0.000871987</td><td style=\"text-align: right;\">0.15696 </td><td style=\"text-align: right;\">     2</td><td style=\"text-align: right;\">         26.5331</td></tr>\n",
       "</tbody>\n",
       "</table><br><br>"
      ],
      "text/plain": [
       "<IPython.core.display.HTML object>"
      ]
     },
     "metadata": {},
     "output_type": "display_data"
    },
    {
     "name": "stderr",
     "output_type": "stream",
     "text": [
      "2022-08-11 12:46:55,332\tINFO tune.py:701 -- Total run time: 68.65 seconds (68.53 seconds for the tuning loop).\n"
     ]
    }
   ],
   "source": [
    "# hebo = HEBOSearch(metric=\"mean_accuracy\", mode=\"max\")\n",
    "\n",
    "# analysis = study.tune(config={\"lr_dense\": tune.loguniform(1e-3, 2e-2),\n",
    "#                               \"weight_decay\": tune.loguniform(1e-6, 1e-4),\n",
    "#                               \"gamma\": tune.loguniform(.1, .9),\n",
    "#                               \"dropout\": tune.uniform(0, .75),\n",
    "#                               \"scale_down\": tune.uniform(0.4, .7),\n",
    "#                               \"scale_up\": tune.uniform(0.9, 1.2),\n",
    "#                               \"ratio_down\": tune.uniform(0.7, .95),\n",
    "#                               \"ratio_up\": tune.uniform(1.05, 1.4),\n",
    "#                               \"channels\": tune.choice([128, 256, 512]),\n",
    "#                               \"batch_size\": tune.choice([512, 1024, 2048]),},\n",
    "#                        metric=\"mean_accuracy\",\n",
    "#                        max_concurrent_trials=4,\n",
    "#                        resources_per_trial={\"gpu\": 1},\n",
    "#                        mode=\"max\",\n",
    "#                        search_alg=hebo,\n",
    "#                       progress_reporter=JupyterNotebookReporter(overwrite=True),\n",
    "#                        num_samples=400)\n",
    "\n",
    "# runtime_env = {\"working_dir\": \"../examples/\" }\n",
    "runtime_env = {\"working_dir\": \"..\" }\n",
    "\n",
    "\n",
    "analysis = study.tune(config={\"lr_dense\": tune.loguniform(1e-4, 2e-2),\n",
    "                              \"weight_decay\": tune.loguniform(1e-6, 1e-2),\n",
    "                              \"beta1\": tune.loguniform(.85, .95),\n",
    "                              \"gain\": tune.uniform(0.2, .2),\n",
    "                              \"temperature\": tune.uniform(0.05, 2.),\n",
    "                              \"minimal_gain\": tune.loguniform(.01, .1),\n",
    "                              \"channels\": tune.choice([256, 512, 1024]),\n",
    "                              \"padding\": tune.choice([4, 6, 8]),\n",
    "                              \"turn_point\": tune.choice([256, 512, 1024]),\n",
    "                              \"final_point\": tune.choice([2048, 2048*1.5, 2048*2]),\n",
    "                              \"batch_size\": tune.choice([256, 512, 1024]),\n",
    "                              \"activation\": tune.choice(['relu', 'celu', 'gelu']),},\n",
    "                       metric=\"mean_accuracy\",\n",
    "                       max_concurrent_trials=8,\n",
    "                       resources_per_trial={\"gpu\": 1},\n",
    "                       mode=\"max\",\n",
    "                       search_alg=OptunaSearch(),\n",
    "                      progress_reporter=JupyterNotebookReporter(overwrite=True),\n",
    "                       num_samples=4, runtime_env=runtime_env)\n"
   ]
  },
  {
   "cell_type": "code",
   "execution_count": 18,
   "id": "c13bd26e-97c3-466d-a1e9-2a16b4a550d1",
   "metadata": {},
   "outputs": [],
   "source": [
    "import pandas as pd"
   ]
  },
  {
   "cell_type": "code",
   "execution_count": 38,
   "id": "be3ce8fd-00ee-4c11-890d-5dfb461a84c2",
   "metadata": {},
   "outputs": [],
   "source": [
    "df = pd.DataFrame({'a': [1, 2, 3], 'b': [4, 5, 6]})"
   ]
  },
  {
   "cell_type": "code",
   "execution_count": 39,
   "id": "bce515f8-f80d-415c-8d25-5b121305c053",
   "metadata": {},
   "outputs": [],
   "source": [
    "df_e = pd.DataFrame({'c': [11, 22], 'd': [33, 44]})"
   ]
  },
  {
   "cell_type": "code",
   "execution_count": 41,
   "id": "4d53652b-895e-4ea3-a97b-fd3c7cf96d62",
   "metadata": {},
   "outputs": [],
   "source": [
    "df = df.merge(df_e, how='cross')"
   ]
  },
  {
   "cell_type": "code",
   "execution_count": 43,
   "id": "b311bd1f-e85e-449e-a3ec-05efe4c28d6d",
   "metadata": {},
   "outputs": [
    {
     "data": {
      "text/plain": [
       "[{'a': 1, 'b': 4, 'c': 11, 'd': 33},\n",
       " {'a': 1, 'b': 4, 'c': 22, 'd': 44},\n",
       " {'a': 2, 'b': 5, 'c': 11, 'd': 33},\n",
       " {'a': 2, 'b': 5, 'c': 22, 'd': 44},\n",
       " {'a': 3, 'b': 6, 'c': 11, 'd': 33},\n",
       " {'a': 3, 'b': 6, 'c': 22, 'd': 44}]"
      ]
     },
     "execution_count": 43,
     "metadata": {},
     "output_type": "execute_result"
    }
   ],
   "source": [
    "[it[1].to_dict() for it in list(df.iterrows())]"
   ]
  },
  {
   "cell_type": "code",
   "execution_count": 33,
   "id": "180301fe-fdac-43ce-9c11-c9f5a5e5533a",
   "metadata": {},
   "outputs": [],
   "source": [
    "df['exp'] = pd.Series([{'c': 11, 'd': 22}] * len(df))"
   ]
  },
  {
   "cell_type": "code",
   "execution_count": 34,
   "id": "eec04ebc-ccdc-4f6b-9f18-277f3259d59f",
   "metadata": {},
   "outputs": [
    {
     "data": {
      "text/html": [
       "<div>\n",
       "<style scoped>\n",
       "    .dataframe tbody tr th:only-of-type {\n",
       "        vertical-align: middle;\n",
       "    }\n",
       "\n",
       "    .dataframe tbody tr th {\n",
       "        vertical-align: top;\n",
       "    }\n",
       "\n",
       "    .dataframe thead th {\n",
       "        text-align: right;\n",
       "    }\n",
       "</style>\n",
       "<table border=\"1\" class=\"dataframe\">\n",
       "  <thead>\n",
       "    <tr style=\"text-align: right;\">\n",
       "      <th></th>\n",
       "      <th>a</th>\n",
       "      <th>b</th>\n",
       "      <th>exp</th>\n",
       "    </tr>\n",
       "  </thead>\n",
       "  <tbody>\n",
       "    <tr>\n",
       "      <th>0</th>\n",
       "      <td>1</td>\n",
       "      <td>4</td>\n",
       "      <td>{'c': 11, 'd': 22}</td>\n",
       "    </tr>\n",
       "    <tr>\n",
       "      <th>1</th>\n",
       "      <td>2</td>\n",
       "      <td>5</td>\n",
       "      <td>{'c': 11, 'd': 22}</td>\n",
       "    </tr>\n",
       "    <tr>\n",
       "      <th>2</th>\n",
       "      <td>3</td>\n",
       "      <td>6</td>\n",
       "      <td>{'c': 11, 'd': 22}</td>\n",
       "    </tr>\n",
       "  </tbody>\n",
       "</table>\n",
       "</div>"
      ],
      "text/plain": [
       "   a  b                 exp\n",
       "0  1  4  {'c': 11, 'd': 22}\n",
       "1  2  5  {'c': 11, 'd': 22}\n",
       "2  3  6  {'c': 11, 'd': 22}"
      ]
     },
     "execution_count": 34,
     "metadata": {},
     "output_type": "execute_result"
    }
   ],
   "source": [
    "df"
   ]
  },
  {
   "cell_type": "code",
   "execution_count": 31,
   "id": "d7f0a934-e93c-4c4f-8306-ffcb8d94a65d",
   "metadata": {},
   "outputs": [
    {
     "data": {
      "text/html": [
       "<div>\n",
       "<style scoped>\n",
       "    .dataframe tbody tr th:only-of-type {\n",
       "        vertical-align: middle;\n",
       "    }\n",
       "\n",
       "    .dataframe tbody tr th {\n",
       "        vertical-align: top;\n",
       "    }\n",
       "\n",
       "    .dataframe thead th {\n",
       "        text-align: right;\n",
       "    }\n",
       "</style>\n",
       "<table border=\"1\" class=\"dataframe\">\n",
       "  <thead>\n",
       "    <tr style=\"text-align: right;\">\n",
       "      <th></th>\n",
       "      <th>a</th>\n",
       "      <th>b</th>\n",
       "      <th>exp</th>\n",
       "    </tr>\n",
       "  </thead>\n",
       "  <tbody>\n",
       "    <tr>\n",
       "      <th>0</th>\n",
       "      <td>1</td>\n",
       "      <td>4</td>\n",
       "      <td>c</td>\n",
       "    </tr>\n",
       "    <tr>\n",
       "      <th>0</th>\n",
       "      <td>1</td>\n",
       "      <td>4</td>\n",
       "      <td>d</td>\n",
       "    </tr>\n",
       "    <tr>\n",
       "      <th>1</th>\n",
       "      <td>2</td>\n",
       "      <td>5</td>\n",
       "      <td>c</td>\n",
       "    </tr>\n",
       "    <tr>\n",
       "      <th>1</th>\n",
       "      <td>2</td>\n",
       "      <td>5</td>\n",
       "      <td>d</td>\n",
       "    </tr>\n",
       "    <tr>\n",
       "      <th>2</th>\n",
       "      <td>3</td>\n",
       "      <td>6</td>\n",
       "      <td>c</td>\n",
       "    </tr>\n",
       "    <tr>\n",
       "      <th>2</th>\n",
       "      <td>3</td>\n",
       "      <td>6</td>\n",
       "      <td>d</td>\n",
       "    </tr>\n",
       "  </tbody>\n",
       "</table>\n",
       "</div>"
      ],
      "text/plain": [
       "   a  b exp\n",
       "0  1  4   c\n",
       "0  1  4   d\n",
       "1  2  5   c\n",
       "1  2  5   d\n",
       "2  3  6   c\n",
       "2  3  6   d"
      ]
     },
     "execution_count": 31,
     "metadata": {},
     "output_type": "execute_result"
    }
   ],
   "source": [
    "df.explode('exp')"
   ]
  },
  {
   "cell_type": "code",
   "execution_count": 14,
   "id": "f011e312-be26-4bd6-b8cc-123fd86d85d4",
   "metadata": {},
   "outputs": [
    {
     "data": {
      "text/plain": [
       "2"
      ]
     },
     "execution_count": 14,
     "metadata": {},
     "output_type": "execute_result"
    }
   ],
   "source": [
    "1+1"
   ]
  },
  {
   "cell_type": "code",
   "execution_count": 15,
   "id": "e7229ede-8a12-40d2-83e9-38e208f76f55",
   "metadata": {},
   "outputs": [
    {
     "data": {
      "text/plain": [
       "'/home/shared/data/results/cifar10/ray_results/cifar10/CIFAR10Algorithm/debug_hp_optimization_20220811_124353/runner_tune_2022-08-11_12-45-46/runner_tune_85504352_1_activation=gelu,batch_size=256,beta1=0.94688,channels=256,final_point=4096,gain=0.2,lr_dense=0.0011319,mini_2022-08-11_12-45-48'"
      ]
     },
     "execution_count": 15,
     "metadata": {},
     "output_type": "execute_result"
    }
   ],
   "source": [
    "analysis.best_logdir"
   ]
  },
  {
   "cell_type": "code",
   "execution_count": 15,
   "id": "266fcaab-8418-4561-87f5-f59750a3dcf6",
   "metadata": {},
   "outputs": [
    {
     "data": {
      "text/plain": [
       "{'/root/ray_results/runner_tune_2022-08-11_12-18-52/runner_tune_c3099c74_1_activation=gelu,batch_size=256,beta1=0.88145,channels=256,final_point=2048,gain=0.2,lr_dense=0.0063656,mini_2022-08-11_12-18-53':    mean_accuracy  time_this_iter_s   done  timesteps_total  episodes_total  \\\n",
       " 0       0.173658         10.918643  False              NaN             NaN   \n",
       " 1       0.103176          6.174871  False              NaN             NaN   \n",
       " \n",
       "    training_iteration  trial_id                     experiment_id  \\\n",
       " 0                   1  c3099c74  5fe21e28835c4d31b14762d0575a5f10   \n",
       " 1                   2  c3099c74  5fe21e28835c4d31b14762d0575a5f10   \n",
       " \n",
       "                   date   timestamp  time_total_s    pid      hostname  \\\n",
       " 0  2022-08-11_12-19-08  1660220348     10.918643  14217  217a4b387abd   \n",
       " 1  2022-08-11_12-19-14  1660220354     17.093514  14217  217a4b387abd   \n",
       " \n",
       "       node_ip  time_since_restore  timesteps_since_restore  \\\n",
       " 0  172.17.0.7           10.918643                        0   \n",
       " 1  172.17.0.7           17.093514                        0   \n",
       " \n",
       "    iterations_since_restore  warmup_time  \n",
       " 0                         1     0.004833  \n",
       " 1                         2     0.004833  ,\n",
       " '/root/ray_results/runner_tune_2022-08-11_12-18-52/runner_tune_c61d8506_2_activation=celu,batch_size=1024,beta1=0.94949,channels=256,final_point=4096,gain=0.2,lr_dense=0.00027738,mi_2022-08-11_12-18-57':    mean_accuracy  time_this_iter_s   done  timesteps_total  episodes_total  \\\n",
       " 0       0.216442          9.418577  False              NaN             NaN   \n",
       " 1       0.401101          4.601070  False              NaN             NaN   \n",
       " \n",
       "    training_iteration  trial_id                     experiment_id  \\\n",
       " 0                   1  c61d8506  95d20a3f945e4a13b8e57703e004351e   \n",
       " 1                   2  c61d8506  95d20a3f945e4a13b8e57703e004351e   \n",
       " \n",
       "                   date   timestamp  time_total_s    pid      hostname  \\\n",
       " 0  2022-08-11_12-19-10  1660220350      9.418577  14256  217a4b387abd   \n",
       " 1  2022-08-11_12-19-15  1660220355     14.019647  14256  217a4b387abd   \n",
       " \n",
       "       node_ip  time_since_restore  timesteps_since_restore  \\\n",
       " 0  172.17.0.7            9.418577                        0   \n",
       " 1  172.17.0.7           14.019647                        0   \n",
       " \n",
       "    iterations_since_restore  warmup_time  \n",
       " 0                         1     0.004206  \n",
       " 1                         2     0.004206  ,\n",
       " '/root/ray_results/runner_tune_2022-08-11_12-18-52/runner_tune_c620545c_3_activation=relu,batch_size=1024,beta1=0.86562,channels=256,final_point=4096,gain=0.2,lr_dense=0.0032738,min_2022-08-11_12-19-14':    mean_accuracy  time_this_iter_s   done  timesteps_total  episodes_total  \\\n",
       " 0       0.100231          8.908555  False              NaN             NaN   \n",
       " 1       0.112216          4.650945  False              NaN             NaN   \n",
       " \n",
       "    training_iteration  trial_id                     experiment_id  \\\n",
       " 0                   1  c620545c  944c4bf4723243d083b8acfc3ecffd68   \n",
       " 1                   2  c620545c  944c4bf4723243d083b8acfc3ecffd68   \n",
       " \n",
       "                   date   timestamp  time_total_s    pid      hostname  \\\n",
       " 0  2022-08-11_12-19-27  1660220367      8.908555  14316  217a4b387abd   \n",
       " 1  2022-08-11_12-19-32  1660220372     13.559500  14316  217a4b387abd   \n",
       " \n",
       "       node_ip  time_since_restore  timesteps_since_restore  \\\n",
       " 0  172.17.0.7            8.908555                        0   \n",
       " 1  172.17.0.7           13.559500                        0   \n",
       " \n",
       "    iterations_since_restore  warmup_time  \n",
       " 0                         1     0.004698  \n",
       " 1                         2     0.004698  ,\n",
       " '/root/ray_results/runner_tune_2022-08-11_12-18-52/runner_tune_d085dab6_4_activation=relu,batch_size=1024,beta1=0.87505,channels=256,final_point=4096,gain=0.2,lr_dense=0.00043959,mi_2022-08-11_12-19-15':    mean_accuracy  time_this_iter_s   done  timesteps_total  episodes_total  \\\n",
       " 0       0.315874          9.237238  False              NaN             NaN   \n",
       " 1       0.619851          4.548633  False              NaN             NaN   \n",
       " \n",
       "    training_iteration  trial_id                     experiment_id  \\\n",
       " 0                   1  d085dab6  ef60fab8ac5a4d788a4f3433ec39a3c9   \n",
       " 1                   2  d085dab6  ef60fab8ac5a4d788a4f3433ec39a3c9   \n",
       " \n",
       "                   date   timestamp  time_total_s    pid      hostname  \\\n",
       " 0  2022-08-11_12-19-28  1660220368      9.237238  14354  217a4b387abd   \n",
       " 1  2022-08-11_12-19-33  1660220373     13.785871  14354  217a4b387abd   \n",
       " \n",
       "       node_ip  time_since_restore  timesteps_since_restore  \\\n",
       " 0  172.17.0.7            9.237238                        0   \n",
       " 1  172.17.0.7           13.785871                        0   \n",
       " \n",
       "    iterations_since_restore  warmup_time  \n",
       " 0                         1     0.005248  \n",
       " 1                         2     0.005248  }"
      ]
     },
     "execution_count": 15,
     "metadata": {},
     "output_type": "execute_result"
    }
   ],
   "source": [
    "analysis.trial_dataframes"
   ]
  }
 ],
 "metadata": {
  "kernelspec": {
   "display_name": "Python 3 (ipykernel)",
   "language": "python",
   "name": "python3"
  },
  "language_info": {
   "codemirror_mode": {
    "name": "ipython",
    "version": 3
   },
   "file_extension": ".py",
   "mimetype": "text/x-python",
   "name": "python",
   "nbconvert_exporter": "python",
   "pygments_lexer": "ipython3",
   "version": "3.8.12"
  },
  "toc-autonumbering": true
 },
 "nbformat": 4,
 "nbformat_minor": 5
}
