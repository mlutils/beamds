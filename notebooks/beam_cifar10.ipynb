{
 "cells": [
  {
   "cell_type": "code",
   "execution_count": 1,
   "id": "c974cdd9",
   "metadata": {},
   "outputs": [],
   "source": [
    "%load_ext autoreload\n",
    "%autoreload 2\n",
    "\n",
    "import torch\n",
    "import torchvision\n",
    "import torch.nn.functional as F\n",
    "from torch import nn\n",
    "from sklearn.metrics import precision_recall_fscore_support\n",
    "import numpy as np\n",
    "\n",
    "import sys\n",
    "sys.path.append('..')\n",
    "\n",
    "from src.beam import beam_arguments, Experiment\n",
    "from src.beam import UniversalDataset, UniversalBatchSampler\n",
    "from src.beam import Algorithm\n",
    "from src.beam import LinearNet\n",
    "\n",
    "from src.beam import DataTensor\n",
    "from src.beam.utils import is_notebook\n",
    "\n",
    "from cifar10_example import run_cifar10, cifar10_algorithm_generator, Cifar10Network"
   ]
  },
  {
   "cell_type": "code",
   "execution_count": 2,
   "id": "3fb14c31-398b-48b6-ade7-cfdb06d6d518",
   "metadata": {},
   "outputs": [],
   "source": [
    "path_to_data = '/localdata/elads/data/datasets/cifar10'\n",
    "root_dir = '/localdata/elads/data/cifar10'\n",
    "\n",
    "# path_to_data = '/home/shared/data/dataset/cifar10'\n",
    "# root_dir = '/home/shared/data/results/cifar10'"
   ]
  },
  {
   "cell_type": "markdown",
   "id": "3d15a46d",
   "metadata": {},
   "source": [
    "## Training with a single worker"
   ]
  },
  {
   "cell_type": "code",
   "execution_count": 8,
   "id": "f79ff3f1",
   "metadata": {},
   "outputs": [
    {
     "name": "stdout",
     "output_type": "stream",
     "text": [
      "\u001b[32m2022-06-13 21:31:04.490\u001b[0m | \u001b[1mINFO    \u001b[0m | \u001b[36msrc.beam.experiment\u001b[0m:\u001b[36m__init__\u001b[0m:\u001b[36m100\u001b[0m - \u001b[1mbeam project: cifar10\u001b[0m\n",
      "\u001b[32m2022-06-13 21:31:04.492\u001b[0m | \u001b[1mINFO    \u001b[0m | \u001b[36msrc.beam.experiment\u001b[0m:\u001b[36m__init__\u001b[0m:\u001b[36m101\u001b[0m - \u001b[1mExperiment Hyperparameters\u001b[0m\n",
      "\u001b[32m2022-06-13 21:31:04.493\u001b[0m | \u001b[1mINFO    \u001b[0m | \u001b[36msrc.beam.experiment\u001b[0m:\u001b[36m__init__\u001b[0m:\u001b[36m105\u001b[0m - \u001b[1mproject_name: cifar10\u001b[0m\n",
      "\u001b[32m2022-06-13 21:31:04.493\u001b[0m | \u001b[1mINFO    \u001b[0m | \u001b[36msrc.beam.experiment\u001b[0m:\u001b[36m__init__\u001b[0m:\u001b[36m105\u001b[0m - \u001b[1midentifier: debug\u001b[0m\n",
      "\u001b[32m2022-06-13 21:31:04.494\u001b[0m | \u001b[1mINFO    \u001b[0m | \u001b[36msrc.beam.experiment\u001b[0m:\u001b[36m__init__\u001b[0m:\u001b[36m105\u001b[0m - \u001b[1malgorithm: CIFAR10Algorithm\u001b[0m\n",
      "\u001b[32m2022-06-13 21:31:04.495\u001b[0m | \u001b[1mINFO    \u001b[0m | \u001b[36msrc.beam.experiment\u001b[0m:\u001b[36m__init__\u001b[0m:\u001b[36m105\u001b[0m - \u001b[1mmp_port: None\u001b[0m\n",
      "\u001b[32m2022-06-13 21:31:04.496\u001b[0m | \u001b[1mINFO    \u001b[0m | \u001b[36msrc.beam.experiment\u001b[0m:\u001b[36m__init__\u001b[0m:\u001b[36m105\u001b[0m - \u001b[1mroot_dir: /localdata/elads/data/cifar10\u001b[0m\n",
      "\u001b[32m2022-06-13 21:31:04.496\u001b[0m | \u001b[1mINFO    \u001b[0m | \u001b[36msrc.beam.experiment\u001b[0m:\u001b[36m__init__\u001b[0m:\u001b[36m105\u001b[0m - \u001b[1mreload: False\u001b[0m\n",
      "\u001b[32m2022-06-13 21:31:04.497\u001b[0m | \u001b[1mINFO    \u001b[0m | \u001b[36msrc.beam.experiment\u001b[0m:\u001b[36m__init__\u001b[0m:\u001b[36m105\u001b[0m - \u001b[1mresume: -1\u001b[0m\n",
      "\u001b[32m2022-06-13 21:31:04.498\u001b[0m | \u001b[1mINFO    \u001b[0m | \u001b[36msrc.beam.experiment\u001b[0m:\u001b[36m__init__\u001b[0m:\u001b[36m105\u001b[0m - \u001b[1moverride: False\u001b[0m\n",
      "\u001b[32m2022-06-13 21:31:04.499\u001b[0m | \u001b[1mINFO    \u001b[0m | \u001b[36msrc.beam.experiment\u001b[0m:\u001b[36m__init__\u001b[0m:\u001b[36m105\u001b[0m - \u001b[1mcpu_workers: 0\u001b[0m\n",
      "\u001b[32m2022-06-13 21:31:04.499\u001b[0m | \u001b[1mINFO    \u001b[0m | \u001b[36msrc.beam.experiment\u001b[0m:\u001b[36m__init__\u001b[0m:\u001b[36m105\u001b[0m - \u001b[1mdevice: 1\u001b[0m\n",
      "\u001b[32m2022-06-13 21:31:04.500\u001b[0m | \u001b[1mINFO    \u001b[0m | \u001b[36msrc.beam.experiment\u001b[0m:\u001b[36m__init__\u001b[0m:\u001b[36m105\u001b[0m - \u001b[1mparallel: 1\u001b[0m\n",
      "\u001b[32m2022-06-13 21:31:04.501\u001b[0m | \u001b[1mINFO    \u001b[0m | \u001b[36msrc.beam.experiment\u001b[0m:\u001b[36m__init__\u001b[0m:\u001b[36m105\u001b[0m - \u001b[1mtensorboard: True\u001b[0m\n",
      "\u001b[32m2022-06-13 21:31:04.501\u001b[0m | \u001b[1mINFO    \u001b[0m | \u001b[36msrc.beam.experiment\u001b[0m:\u001b[36m__init__\u001b[0m:\u001b[36m105\u001b[0m - \u001b[1mlognet: True\u001b[0m\n",
      "\u001b[32m2022-06-13 21:31:04.502\u001b[0m | \u001b[1mINFO    \u001b[0m | \u001b[36msrc.beam.experiment\u001b[0m:\u001b[36m__init__\u001b[0m:\u001b[36m105\u001b[0m - \u001b[1mdeterministic: False\u001b[0m\n",
      "\u001b[32m2022-06-13 21:31:04.503\u001b[0m | \u001b[1mINFO    \u001b[0m | \u001b[36msrc.beam.experiment\u001b[0m:\u001b[36m__init__\u001b[0m:\u001b[36m105\u001b[0m - \u001b[1mscale_epoch_by_batch_size: True\u001b[0m\n",
      "\u001b[32m2022-06-13 21:31:04.504\u001b[0m | \u001b[1mINFO    \u001b[0m | \u001b[36msrc.beam.experiment\u001b[0m:\u001b[36m__init__\u001b[0m:\u001b[36m105\u001b[0m - \u001b[1mcudnn_benchmark: True\u001b[0m\n",
      "\u001b[32m2022-06-13 21:31:04.504\u001b[0m | \u001b[1mINFO    \u001b[0m | \u001b[36msrc.beam.experiment\u001b[0m:\u001b[36m__init__\u001b[0m:\u001b[36m105\u001b[0m - \u001b[1mhalf: True\u001b[0m\n",
      "\u001b[32m2022-06-13 21:31:04.505\u001b[0m | \u001b[1mINFO    \u001b[0m | \u001b[36msrc.beam.experiment\u001b[0m:\u001b[36m__init__\u001b[0m:\u001b[36m105\u001b[0m - \u001b[1mamp: False\u001b[0m\n",
      "\u001b[32m2022-06-13 21:31:04.506\u001b[0m | \u001b[1mINFO    \u001b[0m | \u001b[36msrc.beam.experiment\u001b[0m:\u001b[36m__init__\u001b[0m:\u001b[36m105\u001b[0m - \u001b[1minit: ortho\u001b[0m\n",
      "\u001b[32m2022-06-13 21:31:04.507\u001b[0m | \u001b[1mINFO    \u001b[0m | \u001b[36msrc.beam.experiment\u001b[0m:\u001b[36m__init__\u001b[0m:\u001b[36m105\u001b[0m - \u001b[1mseed: 0\u001b[0m\n",
      "\u001b[32m2022-06-13 21:31:04.507\u001b[0m | \u001b[1mINFO    \u001b[0m | \u001b[36msrc.beam.experiment\u001b[0m:\u001b[36m__init__\u001b[0m:\u001b[36m105\u001b[0m - \u001b[1mtotal_steps: 1000000\u001b[0m\n",
      "\u001b[32m2022-06-13 21:31:04.508\u001b[0m | \u001b[1mINFO    \u001b[0m | \u001b[36msrc.beam.experiment\u001b[0m:\u001b[36m__init__\u001b[0m:\u001b[36m105\u001b[0m - \u001b[1mepoch_length: None\u001b[0m\n",
      "\u001b[32m2022-06-13 21:31:04.509\u001b[0m | \u001b[1mINFO    \u001b[0m | \u001b[36msrc.beam.experiment\u001b[0m:\u001b[36m__init__\u001b[0m:\u001b[36m105\u001b[0m - \u001b[1mepoch_length_train: 1000000\u001b[0m\n",
      "\u001b[32m2022-06-13 21:31:04.509\u001b[0m | \u001b[1mINFO    \u001b[0m | \u001b[36msrc.beam.experiment\u001b[0m:\u001b[36m__init__\u001b[0m:\u001b[36m105\u001b[0m - \u001b[1mepoch_length_eval: 10000\u001b[0m\n",
      "\u001b[32m2022-06-13 21:31:04.510\u001b[0m | \u001b[1mINFO    \u001b[0m | \u001b[36msrc.beam.experiment\u001b[0m:\u001b[36m__init__\u001b[0m:\u001b[36m105\u001b[0m - \u001b[1mn_epochs: 20\u001b[0m\n",
      "\u001b[32m2022-06-13 21:31:04.511\u001b[0m | \u001b[1mINFO    \u001b[0m | \u001b[36msrc.beam.experiment\u001b[0m:\u001b[36m__init__\u001b[0m:\u001b[36m105\u001b[0m - \u001b[1mbatch_size: 2048\u001b[0m\n",
      "\u001b[32m2022-06-13 21:31:04.511\u001b[0m | \u001b[1mINFO    \u001b[0m | \u001b[36msrc.beam.experiment\u001b[0m:\u001b[36m__init__\u001b[0m:\u001b[36m105\u001b[0m - \u001b[1mbatch_size_train: None\u001b[0m\n",
      "\u001b[32m2022-06-13 21:31:04.512\u001b[0m | \u001b[1mINFO    \u001b[0m | \u001b[36msrc.beam.experiment\u001b[0m:\u001b[36m__init__\u001b[0m:\u001b[36m105\u001b[0m - \u001b[1mbatch_size_eval: None\u001b[0m\n",
      "\u001b[32m2022-06-13 21:31:04.513\u001b[0m | \u001b[1mINFO    \u001b[0m | \u001b[36msrc.beam.experiment\u001b[0m:\u001b[36m__init__\u001b[0m:\u001b[36m105\u001b[0m - \u001b[1mlr_dense: 0.01\u001b[0m\n",
      "\u001b[32m2022-06-13 21:31:04.513\u001b[0m | \u001b[1mINFO    \u001b[0m | \u001b[36msrc.beam.experiment\u001b[0m:\u001b[36m__init__\u001b[0m:\u001b[36m105\u001b[0m - \u001b[1mlr_sparse: 0.01\u001b[0m\n",
      "\u001b[32m2022-06-13 21:31:04.514\u001b[0m | \u001b[1mINFO    \u001b[0m | \u001b[36msrc.beam.experiment\u001b[0m:\u001b[36m__init__\u001b[0m:\u001b[36m105\u001b[0m - \u001b[1mweight_decay: 1e-05\u001b[0m\n",
      "\u001b[32m2022-06-13 21:31:04.514\u001b[0m | \u001b[1mINFO    \u001b[0m | \u001b[36msrc.beam.experiment\u001b[0m:\u001b[36m__init__\u001b[0m:\u001b[36m105\u001b[0m - \u001b[1meps: 0.0001\u001b[0m\n",
      "\u001b[32m2022-06-13 21:31:04.515\u001b[0m | \u001b[1mINFO    \u001b[0m | \u001b[36msrc.beam.experiment\u001b[0m:\u001b[36m__init__\u001b[0m:\u001b[36m105\u001b[0m - \u001b[1mbeta1: 0.9\u001b[0m\n",
      "\u001b[32m2022-06-13 21:31:04.516\u001b[0m | \u001b[1mINFO    \u001b[0m | \u001b[36msrc.beam.experiment\u001b[0m:\u001b[36m__init__\u001b[0m:\u001b[36m105\u001b[0m - \u001b[1mbeta2: 0.999\u001b[0m\n",
      "\u001b[32m2022-06-13 21:31:04.516\u001b[0m | \u001b[1mINFO    \u001b[0m | \u001b[36msrc.beam.experiment\u001b[0m:\u001b[36m__init__\u001b[0m:\u001b[36m105\u001b[0m - \u001b[1mclip: 0.0\u001b[0m\n",
      "\u001b[32m2022-06-13 21:31:04.517\u001b[0m | \u001b[1mINFO    \u001b[0m | \u001b[36msrc.beam.experiment\u001b[0m:\u001b[36m__init__\u001b[0m:\u001b[36m105\u001b[0m - \u001b[1maccumulate: 1\u001b[0m\n",
      "\u001b[32m2022-06-13 21:31:04.518\u001b[0m | \u001b[1mINFO    \u001b[0m | \u001b[36msrc.beam.experiment\u001b[0m:\u001b[36m__init__\u001b[0m:\u001b[36m105\u001b[0m - \u001b[1mprint_results: True\u001b[0m\n",
      "\u001b[32m2022-06-13 21:31:04.518\u001b[0m | \u001b[1mINFO    \u001b[0m | \u001b[36msrc.beam.experiment\u001b[0m:\u001b[36m__init__\u001b[0m:\u001b[36m105\u001b[0m - \u001b[1mvisualize_weights: True\u001b[0m\n",
      "\u001b[32m2022-06-13 21:31:04.519\u001b[0m | \u001b[1mINFO    \u001b[0m | \u001b[36msrc.beam.experiment\u001b[0m:\u001b[36m__init__\u001b[0m:\u001b[36m105\u001b[0m - \u001b[1mvisualize_results: yes\u001b[0m\n",
      "\u001b[32m2022-06-13 21:31:04.520\u001b[0m | \u001b[1mINFO    \u001b[0m | \u001b[36msrc.beam.experiment\u001b[0m:\u001b[36m__init__\u001b[0m:\u001b[36m105\u001b[0m - \u001b[1mstore_results: logscale\u001b[0m\n",
      "\u001b[32m2022-06-13 21:31:04.520\u001b[0m | \u001b[1mINFO    \u001b[0m | \u001b[36msrc.beam.experiment\u001b[0m:\u001b[36m__init__\u001b[0m:\u001b[36m105\u001b[0m - \u001b[1mstore_networks: logscale\u001b[0m\n",
      "\u001b[32m2022-06-13 21:31:04.521\u001b[0m | \u001b[1mINFO    \u001b[0m | \u001b[36msrc.beam.experiment\u001b[0m:\u001b[36m__init__\u001b[0m:\u001b[36m105\u001b[0m - \u001b[1mpath_to_data: /localdata/elads/data/datasets/cifar10\u001b[0m\n",
      "\u001b[32m2022-06-13 21:31:04.523\u001b[0m | \u001b[1mINFO    \u001b[0m | \u001b[36msrc.beam.experiment\u001b[0m:\u001b[36m__init__\u001b[0m:\u001b[36m173\u001b[0m - \u001b[1mCreating new experiment\u001b[0m\n",
      "\u001b[32m2022-06-13 21:31:04.523\u001b[0m | \u001b[1mINFO    \u001b[0m | \u001b[36msrc.beam.experiment\u001b[0m:\u001b[36m__init__\u001b[0m:\u001b[36m188\u001b[0m - \u001b[1mExperiment directory is: /localdata/elads/data/cifar10/cifar10/CIFAR10Algorithm/debug/0030_20220613_213104\u001b[0m\n"
     ]
    }
   ],
   "source": [
    "# here you put all actions which are performed only once before initializing the workers\n",
    "# for example, setting running arguments and experiment:\n",
    "\n",
    "args = beam_arguments(f\"--project-name=cifar10 --root-dir={root_dir} --algorithm=CIFAR10Algorithm --device=1 --half --lr-d=0.01 --batch-size=2048\",\n",
    "                      \"--n-epochs=20 --epoch-length-train=1000000 --epoch-length-eval=10000 --clip=0 --parallel=1 --accumulate=1 --cudnn-benchmark\",\n",
    "                      \"--weight-decay=1e-5 --beta1=0.9 --beta2=0.999\", path_to_data=path_to_data)\n",
    "\n",
    "experiment = Experiment(args)"
   ]
  },
  {
   "cell_type": "markdown",
   "id": "80059474-4a4c-4989-96ce-3edcd877a4df",
   "metadata": {},
   "source": [
    "## Train with single or multiple workers"
   ]
  },
  {
   "cell_type": "code",
   "execution_count": 9,
   "id": "4cc43273-649c-402d-8ca1-c5da55ff7f1b",
   "metadata": {},
   "outputs": [
    {
     "name": "stdout",
     "output_type": "stream",
     "text": [
      "\u001b[32m2022-06-13 21:31:07.759\u001b[0m | \u001b[1mINFO    \u001b[0m | \u001b[36msrc.beam.experiment\u001b[0m:\u001b[36mrun\u001b[0m:\u001b[36m433\u001b[0m - \u001b[1mSingle worker mode\u001b[0m\n",
      "\u001b[32m2022-06-13 21:31:07.760\u001b[0m | \u001b[1mINFO    \u001b[0m | \u001b[36msrc.beam.experiment\u001b[0m:\u001b[36mrun_worker\u001b[0m:\u001b[36m45\u001b[0m - \u001b[1mWorker: 1/1 is running...\u001b[0m\n"
     ]
    },
    {
     "data": {
      "application/vnd.jupyter.widget-view+json": {
       "model_id": "6780136d0f034040b31a3736109d8fe7",
       "version_major": 2,
       "version_minor": 0
      },
      "text/plain": [
       "train:   0%|          | 0/487 [00:00<?, ?it/s]"
      ]
     },
     "metadata": {},
     "output_type": "display_data"
    },
    {
     "data": {
      "application/vnd.jupyter.widget-view+json": {
       "model_id": "517959df024942b9a3cf1eff0466cabb",
       "version_major": 2,
       "version_minor": 0
      },
      "text/plain": [
       "test:   0%|          | 0/4 [00:00<?, ?it/s]"
      ]
     },
     "metadata": {},
     "output_type": "display_data"
    },
    {
     "name": "stdout",
     "output_type": "stream",
     "text": [
      "\n",
      "\u001b[32m2022-06-13 21:31:23.780\u001b[0m | \u001b[1mINFO    \u001b[0m | \u001b[36msrc.beam.experiment\u001b[0m:\u001b[36msave_model_results\u001b[0m:\u001b[36m309\u001b[0m - \u001b[1mFinished epoch 1/20:\u001b[0m\n",
      "\u001b[32m2022-06-13 21:31:23.783\u001b[0m | \u001b[1mINFO    \u001b[0m | \u001b[36msrc.beam.experiment\u001b[0m:\u001b[36mlog_data\u001b[0m:\u001b[36m347\u001b[0m - \u001b[1mtrain:\u001b[0m\n",
      "\u001b[32m2022-06-13 21:31:23.783\u001b[0m | \u001b[1mINFO    \u001b[0m | \u001b[36msrc.beam.experiment\u001b[0m:\u001b[36mlog_data\u001b[0m:\u001b[36m351\u001b[0m - \u001b[1mloss 2427.07 \t|\u001b[0m\n",
      "\u001b[32m2022-06-13 21:31:23.784\u001b[0m | \u001b[1mINFO    \u001b[0m | \u001b[36msrc.beam.experiment\u001b[0m:\u001b[36mlog_data\u001b[0m:\u001b[36m351\u001b[0m - \u001b[1macc 0.579316 \t|\u001b[0m\n",
      "\u001b[32m2022-06-13 21:31:23.785\u001b[0m | \u001b[1mINFO    \u001b[0m | \u001b[36msrc.beam.experiment\u001b[0m:\u001b[36mlog_data\u001b[0m:\u001b[36m351\u001b[0m - \u001b[1mlr 0.01 \t|\u001b[0m\n",
      "\u001b[32m2022-06-13 21:31:23.786\u001b[0m | \u001b[1mINFO    \u001b[0m | \u001b[36msrc.beam.experiment\u001b[0m:\u001b[36mlog_data\u001b[0m:\u001b[36m347\u001b[0m - \u001b[1mtest:\u001b[0m\n",
      "\u001b[32m2022-06-13 21:31:23.787\u001b[0m | \u001b[1mINFO    \u001b[0m | \u001b[36msrc.beam.experiment\u001b[0m:\u001b[36mlog_data\u001b[0m:\u001b[36m351\u001b[0m - \u001b[1mloss 1845 \t|\u001b[0m\n",
      "\u001b[32m2022-06-13 21:31:23.787\u001b[0m | \u001b[1mINFO    \u001b[0m | \u001b[36msrc.beam.experiment\u001b[0m:\u001b[36mlog_data\u001b[0m:\u001b[36m351\u001b[0m - \u001b[1macc 0.689941 \t|\u001b[0m\n"
     ]
    },
    {
     "data": {
      "application/vnd.jupyter.widget-view+json": {
       "model_id": "62109edf1f9c4725808352fd651f5c7b",
       "version_major": 2,
       "version_minor": 0
      },
      "text/plain": [
       "train:   0%|          | 0/487 [00:00<?, ?it/s]"
      ]
     },
     "metadata": {},
     "output_type": "display_data"
    },
    {
     "data": {
      "application/vnd.jupyter.widget-view+json": {
       "model_id": "6ae52867b4d640e0adcd12496c9961ee",
       "version_major": 2,
       "version_minor": 0
      },
      "text/plain": [
       "test:   0%|          | 0/4 [00:00<?, ?it/s]"
      ]
     },
     "metadata": {},
     "output_type": "display_data"
    },
    {
     "name": "stdout",
     "output_type": "stream",
     "text": [
      "\n",
      "\u001b[32m2022-06-13 21:31:39.707\u001b[0m | \u001b[1mINFO    \u001b[0m | \u001b[36msrc.beam.experiment\u001b[0m:\u001b[36msave_model_results\u001b[0m:\u001b[36m309\u001b[0m - \u001b[1mFinished epoch 2/20:\u001b[0m\n",
      "\u001b[32m2022-06-13 21:31:39.710\u001b[0m | \u001b[1mINFO    \u001b[0m | \u001b[36msrc.beam.experiment\u001b[0m:\u001b[36mlog_data\u001b[0m:\u001b[36m347\u001b[0m - \u001b[1mtrain:\u001b[0m\n",
      "\u001b[32m2022-06-13 21:31:39.711\u001b[0m | \u001b[1mINFO    \u001b[0m | \u001b[36msrc.beam.experiment\u001b[0m:\u001b[36mlog_data\u001b[0m:\u001b[36m351\u001b[0m - \u001b[1mloss 1507.87 \t|\u001b[0m\n",
      "\u001b[32m2022-06-13 21:31:39.712\u001b[0m | \u001b[1mINFO    \u001b[0m | \u001b[36msrc.beam.experiment\u001b[0m:\u001b[36mlog_data\u001b[0m:\u001b[36m351\u001b[0m - \u001b[1macc 0.743414 \t|\u001b[0m\n",
      "\u001b[32m2022-06-13 21:31:39.712\u001b[0m | \u001b[1mINFO    \u001b[0m | \u001b[36msrc.beam.experiment\u001b[0m:\u001b[36mlog_data\u001b[0m:\u001b[36m351\u001b[0m - \u001b[1mlr 0.01 \t|\u001b[0m\n",
      "\u001b[32m2022-06-13 21:31:39.713\u001b[0m | \u001b[1mINFO    \u001b[0m | \u001b[36msrc.beam.experiment\u001b[0m:\u001b[36mlog_data\u001b[0m:\u001b[36m347\u001b[0m - \u001b[1mtest:\u001b[0m\n",
      "\u001b[32m2022-06-13 21:31:39.714\u001b[0m | \u001b[1mINFO    \u001b[0m | \u001b[36msrc.beam.experiment\u001b[0m:\u001b[36mlog_data\u001b[0m:\u001b[36m351\u001b[0m - \u001b[1mloss 1402.5 \t|\u001b[0m\n",
      "\u001b[32m2022-06-13 21:31:39.715\u001b[0m | \u001b[1mINFO    \u001b[0m | \u001b[36msrc.beam.experiment\u001b[0m:\u001b[36mlog_data\u001b[0m:\u001b[36m351\u001b[0m - \u001b[1macc 0.764526 \t|\u001b[0m\n"
     ]
    },
    {
     "data": {
      "application/vnd.jupyter.widget-view+json": {
       "model_id": "352ce063c47f43578b94350b64b45c92",
       "version_major": 2,
       "version_minor": 0
      },
      "text/plain": [
       "train:   0%|          | 0/487 [00:00<?, ?it/s]"
      ]
     },
     "metadata": {},
     "output_type": "display_data"
    },
    {
     "data": {
      "application/vnd.jupyter.widget-view+json": {
       "model_id": "29e45ac0bf054a69ab79809b46803a54",
       "version_major": 2,
       "version_minor": 0
      },
      "text/plain": [
       "test:   0%|          | 0/4 [00:00<?, ?it/s]"
      ]
     },
     "metadata": {},
     "output_type": "display_data"
    },
    {
     "name": "stdout",
     "output_type": "stream",
     "text": [
      "\n",
      "\u001b[32m2022-06-13 21:31:55.726\u001b[0m | \u001b[1mINFO    \u001b[0m | \u001b[36msrc.beam.experiment\u001b[0m:\u001b[36msave_model_results\u001b[0m:\u001b[36m309\u001b[0m - \u001b[1mFinished epoch 3/20:\u001b[0m\n",
      "\u001b[32m2022-06-13 21:31:55.729\u001b[0m | \u001b[1mINFO    \u001b[0m | \u001b[36msrc.beam.experiment\u001b[0m:\u001b[36mlog_data\u001b[0m:\u001b[36m347\u001b[0m - \u001b[1mtrain:\u001b[0m\n",
      "\u001b[32m2022-06-13 21:31:55.730\u001b[0m | \u001b[1mINFO    \u001b[0m | \u001b[36msrc.beam.experiment\u001b[0m:\u001b[36mlog_data\u001b[0m:\u001b[36m351\u001b[0m - \u001b[1mloss 1235.63 \t|\u001b[0m\n",
      "\u001b[32m2022-06-13 21:31:55.731\u001b[0m | \u001b[1mINFO    \u001b[0m | \u001b[36msrc.beam.experiment\u001b[0m:\u001b[36mlog_data\u001b[0m:\u001b[36m351\u001b[0m - \u001b[1macc 0.789708 \t|\u001b[0m\n",
      "\u001b[32m2022-06-13 21:31:55.731\u001b[0m | \u001b[1mINFO    \u001b[0m | \u001b[36msrc.beam.experiment\u001b[0m:\u001b[36mlog_data\u001b[0m:\u001b[36m351\u001b[0m - \u001b[1mlr 0.01 \t|\u001b[0m\n",
      "\u001b[32m2022-06-13 21:31:55.732\u001b[0m | \u001b[1mINFO    \u001b[0m | \u001b[36msrc.beam.experiment\u001b[0m:\u001b[36mlog_data\u001b[0m:\u001b[36m347\u001b[0m - \u001b[1mtest:\u001b[0m\n",
      "\u001b[32m2022-06-13 21:31:55.733\u001b[0m | \u001b[1mINFO    \u001b[0m | \u001b[36msrc.beam.experiment\u001b[0m:\u001b[36mlog_data\u001b[0m:\u001b[36m351\u001b[0m - \u001b[1mloss 1291.75 \t|\u001b[0m\n",
      "\u001b[32m2022-06-13 21:31:55.734\u001b[0m | \u001b[1mINFO    \u001b[0m | \u001b[36msrc.beam.experiment\u001b[0m:\u001b[36mlog_data\u001b[0m:\u001b[36m351\u001b[0m - \u001b[1macc 0.786133 \t|\u001b[0m\n"
     ]
    },
    {
     "data": {
      "application/vnd.jupyter.widget-view+json": {
       "model_id": "86d66b1cb1644224ae7af62b4a0485fe",
       "version_major": 2,
       "version_minor": 0
      },
      "text/plain": [
       "train:   0%|          | 0/487 [00:00<?, ?it/s]"
      ]
     },
     "metadata": {},
     "output_type": "display_data"
    },
    {
     "data": {
      "application/vnd.jupyter.widget-view+json": {
       "model_id": "a3a93653dfd94da1bb2b86570c13af52",
       "version_major": 2,
       "version_minor": 0
      },
      "text/plain": [
       "test:   0%|          | 0/4 [00:00<?, ?it/s]"
      ]
     },
     "metadata": {},
     "output_type": "display_data"
    },
    {
     "name": "stdout",
     "output_type": "stream",
     "text": [
      "\n",
      "\u001b[32m2022-06-13 21:32:11.792\u001b[0m | \u001b[1mINFO    \u001b[0m | \u001b[36msrc.beam.experiment\u001b[0m:\u001b[36msave_model_results\u001b[0m:\u001b[36m309\u001b[0m - \u001b[1mFinished epoch 4/20:\u001b[0m\n",
      "\u001b[32m2022-06-13 21:32:11.794\u001b[0m | \u001b[1mINFO    \u001b[0m | \u001b[36msrc.beam.experiment\u001b[0m:\u001b[36mlog_data\u001b[0m:\u001b[36m347\u001b[0m - \u001b[1mtrain:\u001b[0m\n",
      "\u001b[32m2022-06-13 21:32:11.795\u001b[0m | \u001b[1mINFO    \u001b[0m | \u001b[36msrc.beam.experiment\u001b[0m:\u001b[36mlog_data\u001b[0m:\u001b[36m351\u001b[0m - \u001b[1mloss 1091.38 \t|\u001b[0m\n",
      "\u001b[32m2022-06-13 21:32:11.796\u001b[0m | \u001b[1mINFO    \u001b[0m | \u001b[36msrc.beam.experiment\u001b[0m:\u001b[36mlog_data\u001b[0m:\u001b[36m351\u001b[0m - \u001b[1macc 0.814558 \t|\u001b[0m\n",
      "\u001b[32m2022-06-13 21:32:11.797\u001b[0m | \u001b[1mINFO    \u001b[0m | \u001b[36msrc.beam.experiment\u001b[0m:\u001b[36mlog_data\u001b[0m:\u001b[36m351\u001b[0m - \u001b[1mlr 0.01 \t|\u001b[0m\n",
      "\u001b[32m2022-06-13 21:32:11.797\u001b[0m | \u001b[1mINFO    \u001b[0m | \u001b[36msrc.beam.experiment\u001b[0m:\u001b[36mlog_data\u001b[0m:\u001b[36m347\u001b[0m - \u001b[1mtest:\u001b[0m\n",
      "\u001b[32m2022-06-13 21:32:11.798\u001b[0m | \u001b[1mINFO    \u001b[0m | \u001b[36msrc.beam.experiment\u001b[0m:\u001b[36mlog_data\u001b[0m:\u001b[36m351\u001b[0m - \u001b[1mloss 1307.75 \t|\u001b[0m\n",
      "\u001b[32m2022-06-13 21:32:11.799\u001b[0m | \u001b[1mINFO    \u001b[0m | \u001b[36msrc.beam.experiment\u001b[0m:\u001b[36mlog_data\u001b[0m:\u001b[36m351\u001b[0m - \u001b[1macc 0.787842 \t|\u001b[0m\n"
     ]
    },
    {
     "data": {
      "application/vnd.jupyter.widget-view+json": {
       "model_id": "42b9acb19c48495c9405aea983c4e3f3",
       "version_major": 2,
       "version_minor": 0
      },
      "text/plain": [
       "train:   0%|          | 0/487 [00:00<?, ?it/s]"
      ]
     },
     "metadata": {},
     "output_type": "display_data"
    },
    {
     "data": {
      "application/vnd.jupyter.widget-view+json": {
       "model_id": "43f126d02c284feda68a1cf046240e51",
       "version_major": 2,
       "version_minor": 0
      },
      "text/plain": [
       "test:   0%|          | 0/4 [00:00<?, ?it/s]"
      ]
     },
     "metadata": {},
     "output_type": "display_data"
    },
    {
     "name": "stdout",
     "output_type": "stream",
     "text": [
      "\n",
      "\u001b[32m2022-06-13 21:32:27.928\u001b[0m | \u001b[1mINFO    \u001b[0m | \u001b[36msrc.beam.experiment\u001b[0m:\u001b[36msave_model_results\u001b[0m:\u001b[36m309\u001b[0m - \u001b[1mFinished epoch 5/20:\u001b[0m\n",
      "\u001b[32m2022-06-13 21:32:27.931\u001b[0m | \u001b[1mINFO    \u001b[0m | \u001b[36msrc.beam.experiment\u001b[0m:\u001b[36mlog_data\u001b[0m:\u001b[36m347\u001b[0m - \u001b[1mtrain:\u001b[0m\n",
      "\u001b[32m2022-06-13 21:32:27.932\u001b[0m | \u001b[1mINFO    \u001b[0m | \u001b[36msrc.beam.experiment\u001b[0m:\u001b[36mlog_data\u001b[0m:\u001b[36m351\u001b[0m - \u001b[1mloss 1012.55 \t|\u001b[0m\n",
      "\u001b[32m2022-06-13 21:32:27.932\u001b[0m | \u001b[1mINFO    \u001b[0m | \u001b[36msrc.beam.experiment\u001b[0m:\u001b[36mlog_data\u001b[0m:\u001b[36m351\u001b[0m - \u001b[1macc 0.82739 \t|\u001b[0m\n",
      "\u001b[32m2022-06-13 21:32:27.933\u001b[0m | \u001b[1mINFO    \u001b[0m | \u001b[36msrc.beam.experiment\u001b[0m:\u001b[36mlog_data\u001b[0m:\u001b[36m351\u001b[0m - \u001b[1mlr 0.01 \t|\u001b[0m\n",
      "\u001b[32m2022-06-13 21:32:27.934\u001b[0m | \u001b[1mINFO    \u001b[0m | \u001b[36msrc.beam.experiment\u001b[0m:\u001b[36mlog_data\u001b[0m:\u001b[36m347\u001b[0m - \u001b[1mtest:\u001b[0m\n",
      "\u001b[32m2022-06-13 21:32:27.935\u001b[0m | \u001b[1mINFO    \u001b[0m | \u001b[36msrc.beam.experiment\u001b[0m:\u001b[36mlog_data\u001b[0m:\u001b[36m351\u001b[0m - \u001b[1mloss 1138.5 \t|\u001b[0m\n",
      "\u001b[32m2022-06-13 21:32:27.935\u001b[0m | \u001b[1mINFO    \u001b[0m | \u001b[36msrc.beam.experiment\u001b[0m:\u001b[36mlog_data\u001b[0m:\u001b[36m351\u001b[0m - \u001b[1macc 0.814331 \t|\u001b[0m\n"
     ]
    },
    {
     "data": {
      "application/vnd.jupyter.widget-view+json": {
       "model_id": "f64ddaa1ee554550b85bbcd16d16f40c",
       "version_major": 2,
       "version_minor": 0
      },
      "text/plain": [
       "train:   0%|          | 0/487 [00:00<?, ?it/s]"
      ]
     },
     "metadata": {},
     "output_type": "display_data"
    },
    {
     "data": {
      "application/vnd.jupyter.widget-view+json": {
       "model_id": "e915c27964a94039a306e10cbc416118",
       "version_major": 2,
       "version_minor": 0
      },
      "text/plain": [
       "test:   0%|          | 0/4 [00:00<?, ?it/s]"
      ]
     },
     "metadata": {},
     "output_type": "display_data"
    },
    {
     "name": "stdout",
     "output_type": "stream",
     "text": [
      "\n",
      "\u001b[32m2022-06-13 21:32:44.114\u001b[0m | \u001b[1mINFO    \u001b[0m | \u001b[36msrc.beam.experiment\u001b[0m:\u001b[36msave_model_results\u001b[0m:\u001b[36m309\u001b[0m - \u001b[1mFinished epoch 6/20:\u001b[0m\n",
      "\u001b[32m2022-06-13 21:32:44.117\u001b[0m | \u001b[1mINFO    \u001b[0m | \u001b[36msrc.beam.experiment\u001b[0m:\u001b[36mlog_data\u001b[0m:\u001b[36m347\u001b[0m - \u001b[1mtrain:\u001b[0m\n",
      "\u001b[32m2022-06-13 21:32:44.118\u001b[0m | \u001b[1mINFO    \u001b[0m | \u001b[36msrc.beam.experiment\u001b[0m:\u001b[36mlog_data\u001b[0m:\u001b[36m351\u001b[0m - \u001b[1mloss 789.341 \t|\u001b[0m\n",
      "\u001b[32m2022-06-13 21:32:44.119\u001b[0m | \u001b[1mINFO    \u001b[0m | \u001b[36msrc.beam.experiment\u001b[0m:\u001b[36mlog_data\u001b[0m:\u001b[36m351\u001b[0m - \u001b[1macc 0.865565 \t|\u001b[0m\n",
      "\u001b[32m2022-06-13 21:32:44.119\u001b[0m | \u001b[1mINFO    \u001b[0m | \u001b[36msrc.beam.experiment\u001b[0m:\u001b[36mlog_data\u001b[0m:\u001b[36m351\u001b[0m - \u001b[1mlr 0.001 \t|\u001b[0m\n",
      "\u001b[32m2022-06-13 21:32:44.120\u001b[0m | \u001b[1mINFO    \u001b[0m | \u001b[36msrc.beam.experiment\u001b[0m:\u001b[36mlog_data\u001b[0m:\u001b[36m347\u001b[0m - \u001b[1mtest:\u001b[0m\n",
      "\u001b[32m2022-06-13 21:32:44.121\u001b[0m | \u001b[1mINFO    \u001b[0m | \u001b[36msrc.beam.experiment\u001b[0m:\u001b[36mlog_data\u001b[0m:\u001b[36m351\u001b[0m - \u001b[1mloss 1090.62 \t|\u001b[0m\n",
      "\u001b[32m2022-06-13 21:32:44.121\u001b[0m | \u001b[1mINFO    \u001b[0m | \u001b[36msrc.beam.experiment\u001b[0m:\u001b[36mlog_data\u001b[0m:\u001b[36m351\u001b[0m - \u001b[1macc 0.825928 \t|\u001b[0m\n"
     ]
    },
    {
     "data": {
      "application/vnd.jupyter.widget-view+json": {
       "model_id": "52128ebed1824a0986a3aba335cb719d",
       "version_major": 2,
       "version_minor": 0
      },
      "text/plain": [
       "train:   0%|          | 0/487 [00:00<?, ?it/s]"
      ]
     },
     "metadata": {},
     "output_type": "display_data"
    },
    {
     "data": {
      "application/vnd.jupyter.widget-view+json": {
       "model_id": "e7e0e31c85ee49ffbdc07a458d5d82eb",
       "version_major": 2,
       "version_minor": 0
      },
      "text/plain": [
       "test:   0%|          | 0/4 [00:00<?, ?it/s]"
      ]
     },
     "metadata": {},
     "output_type": "display_data"
    },
    {
     "name": "stdout",
     "output_type": "stream",
     "text": [
      "\n",
      "\u001b[32m2022-06-13 21:33:00.321\u001b[0m | \u001b[1mINFO    \u001b[0m | \u001b[36msrc.beam.experiment\u001b[0m:\u001b[36msave_model_results\u001b[0m:\u001b[36m309\u001b[0m - \u001b[1mFinished epoch 7/20:\u001b[0m\n",
      "\u001b[32m2022-06-13 21:33:00.324\u001b[0m | \u001b[1mINFO    \u001b[0m | \u001b[36msrc.beam.experiment\u001b[0m:\u001b[36mlog_data\u001b[0m:\u001b[36m347\u001b[0m - \u001b[1mtrain:\u001b[0m\n",
      "\u001b[32m2022-06-13 21:33:00.325\u001b[0m | \u001b[1mINFO    \u001b[0m | \u001b[36msrc.beam.experiment\u001b[0m:\u001b[36mlog_data\u001b[0m:\u001b[36m351\u001b[0m - \u001b[1mloss 754.054 \t|\u001b[0m\n",
      "\u001b[32m2022-06-13 21:33:00.326\u001b[0m | \u001b[1mINFO    \u001b[0m | \u001b[36msrc.beam.experiment\u001b[0m:\u001b[36mlog_data\u001b[0m:\u001b[36m351\u001b[0m - \u001b[1macc 0.871197 \t|\u001b[0m\n",
      "\u001b[32m2022-06-13 21:33:00.326\u001b[0m | \u001b[1mINFO    \u001b[0m | \u001b[36msrc.beam.experiment\u001b[0m:\u001b[36mlog_data\u001b[0m:\u001b[36m351\u001b[0m - \u001b[1mlr 0.001 \t|\u001b[0m\n",
      "\u001b[32m2022-06-13 21:33:00.327\u001b[0m | \u001b[1mINFO    \u001b[0m | \u001b[36msrc.beam.experiment\u001b[0m:\u001b[36mlog_data\u001b[0m:\u001b[36m347\u001b[0m - \u001b[1mtest:\u001b[0m\n",
      "\u001b[32m2022-06-13 21:33:00.328\u001b[0m | \u001b[1mINFO    \u001b[0m | \u001b[36msrc.beam.experiment\u001b[0m:\u001b[36mlog_data\u001b[0m:\u001b[36m351\u001b[0m - \u001b[1mloss 997.75 \t|\u001b[0m\n",
      "\u001b[32m2022-06-13 21:33:00.328\u001b[0m | \u001b[1mINFO    \u001b[0m | \u001b[36msrc.beam.experiment\u001b[0m:\u001b[36mlog_data\u001b[0m:\u001b[36m351\u001b[0m - \u001b[1macc 0.838013 \t|\u001b[0m\n"
     ]
    },
    {
     "data": {
      "application/vnd.jupyter.widget-view+json": {
       "model_id": "9ab80ac5e8ec4f438128d95c9103faa7",
       "version_major": 2,
       "version_minor": 0
      },
      "text/plain": [
       "train:   0%|          | 0/487 [00:00<?, ?it/s]"
      ]
     },
     "metadata": {},
     "output_type": "display_data"
    },
    {
     "data": {
      "application/vnd.jupyter.widget-view+json": {
       "model_id": "5407173d2a4a48578922a2678c110e2b",
       "version_major": 2,
       "version_minor": 0
      },
      "text/plain": [
       "test:   0%|          | 0/4 [00:00<?, ?it/s]"
      ]
     },
     "metadata": {},
     "output_type": "display_data"
    },
    {
     "name": "stdout",
     "output_type": "stream",
     "text": [
      "\n",
      "\u001b[32m2022-06-13 21:33:16.574\u001b[0m | \u001b[1mINFO    \u001b[0m | \u001b[36msrc.beam.experiment\u001b[0m:\u001b[36msave_model_results\u001b[0m:\u001b[36m309\u001b[0m - \u001b[1mFinished epoch 8/20:\u001b[0m\n",
      "\u001b[32m2022-06-13 21:33:16.577\u001b[0m | \u001b[1mINFO    \u001b[0m | \u001b[36msrc.beam.experiment\u001b[0m:\u001b[36mlog_data\u001b[0m:\u001b[36m347\u001b[0m - \u001b[1mtrain:\u001b[0m\n",
      "\u001b[32m2022-06-13 21:33:16.578\u001b[0m | \u001b[1mINFO    \u001b[0m | \u001b[36msrc.beam.experiment\u001b[0m:\u001b[36mlog_data\u001b[0m:\u001b[36m351\u001b[0m - \u001b[1mloss 717.182 \t|\u001b[0m\n",
      "\u001b[32m2022-06-13 21:33:16.579\u001b[0m | \u001b[1mINFO    \u001b[0m | \u001b[36msrc.beam.experiment\u001b[0m:\u001b[36mlog_data\u001b[0m:\u001b[36m351\u001b[0m - \u001b[1macc 0.877476 \t|\u001b[0m\n",
      "\u001b[32m2022-06-13 21:33:16.579\u001b[0m | \u001b[1mINFO    \u001b[0m | \u001b[36msrc.beam.experiment\u001b[0m:\u001b[36mlog_data\u001b[0m:\u001b[36m351\u001b[0m - \u001b[1mlr 0.001 \t|\u001b[0m\n",
      "\u001b[32m2022-06-13 21:33:16.580\u001b[0m | \u001b[1mINFO    \u001b[0m | \u001b[36msrc.beam.experiment\u001b[0m:\u001b[36mlog_data\u001b[0m:\u001b[36m347\u001b[0m - \u001b[1mtest:\u001b[0m\n",
      "\u001b[32m2022-06-13 21:33:16.581\u001b[0m | \u001b[1mINFO    \u001b[0m | \u001b[36msrc.beam.experiment\u001b[0m:\u001b[36mlog_data\u001b[0m:\u001b[36m351\u001b[0m - \u001b[1mloss 1107.62 \t|\u001b[0m\n",
      "\u001b[32m2022-06-13 21:33:16.581\u001b[0m | \u001b[1mINFO    \u001b[0m | \u001b[36msrc.beam.experiment\u001b[0m:\u001b[36mlog_data\u001b[0m:\u001b[36m351\u001b[0m - \u001b[1macc 0.827881 \t|\u001b[0m\n"
     ]
    },
    {
     "data": {
      "application/vnd.jupyter.widget-view+json": {
       "model_id": "eaecb1af584a47fb881245471d58c850",
       "version_major": 2,
       "version_minor": 0
      },
      "text/plain": [
       "train:   0%|          | 0/487 [00:00<?, ?it/s]"
      ]
     },
     "metadata": {},
     "output_type": "display_data"
    },
    {
     "data": {
      "application/vnd.jupyter.widget-view+json": {
       "model_id": "af0d14c4dcb34acbac78249fad243bb0",
       "version_major": 2,
       "version_minor": 0
      },
      "text/plain": [
       "test:   0%|          | 0/4 [00:00<?, ?it/s]"
      ]
     },
     "metadata": {},
     "output_type": "display_data"
    },
    {
     "name": "stdout",
     "output_type": "stream",
     "text": [
      "\n",
      "\u001b[32m2022-06-13 21:33:32.919\u001b[0m | \u001b[1mINFO    \u001b[0m | \u001b[36msrc.beam.experiment\u001b[0m:\u001b[36msave_model_results\u001b[0m:\u001b[36m309\u001b[0m - \u001b[1mFinished epoch 9/20:\u001b[0m\n",
      "\u001b[32m2022-06-13 21:33:32.922\u001b[0m | \u001b[1mINFO    \u001b[0m | \u001b[36msrc.beam.experiment\u001b[0m:\u001b[36mlog_data\u001b[0m:\u001b[36m347\u001b[0m - \u001b[1mtrain:\u001b[0m\n",
      "\u001b[32m2022-06-13 21:33:32.923\u001b[0m | \u001b[1mINFO    \u001b[0m | \u001b[36msrc.beam.experiment\u001b[0m:\u001b[36mlog_data\u001b[0m:\u001b[36m351\u001b[0m - \u001b[1mloss 710.339 \t|\u001b[0m\n",
      "\u001b[32m2022-06-13 21:33:32.924\u001b[0m | \u001b[1mINFO    \u001b[0m | \u001b[36msrc.beam.experiment\u001b[0m:\u001b[36mlog_data\u001b[0m:\u001b[36m351\u001b[0m - \u001b[1macc 0.878446 \t|\u001b[0m\n",
      "\u001b[32m2022-06-13 21:33:32.924\u001b[0m | \u001b[1mINFO    \u001b[0m | \u001b[36msrc.beam.experiment\u001b[0m:\u001b[36mlog_data\u001b[0m:\u001b[36m351\u001b[0m - \u001b[1mlr 0.001 \t|\u001b[0m\n",
      "\u001b[32m2022-06-13 21:33:32.925\u001b[0m | \u001b[1mINFO    \u001b[0m | \u001b[36msrc.beam.experiment\u001b[0m:\u001b[36mlog_data\u001b[0m:\u001b[36m347\u001b[0m - \u001b[1mtest:\u001b[0m\n",
      "\u001b[32m2022-06-13 21:33:32.926\u001b[0m | \u001b[1mINFO    \u001b[0m | \u001b[36msrc.beam.experiment\u001b[0m:\u001b[36mlog_data\u001b[0m:\u001b[36m351\u001b[0m - \u001b[1mloss 1043.5 \t|\u001b[0m\n",
      "\u001b[32m2022-06-13 21:33:32.926\u001b[0m | \u001b[1mINFO    \u001b[0m | \u001b[36msrc.beam.experiment\u001b[0m:\u001b[36mlog_data\u001b[0m:\u001b[36m351\u001b[0m - \u001b[1macc 0.828735 \t|\u001b[0m\n"
     ]
    },
    {
     "data": {
      "application/vnd.jupyter.widget-view+json": {
       "model_id": "727ffbfd536345d39352f35509c0caa6",
       "version_major": 2,
       "version_minor": 0
      },
      "text/plain": [
       "train:   0%|          | 0/487 [00:00<?, ?it/s]"
      ]
     },
     "metadata": {},
     "output_type": "display_data"
    },
    {
     "data": {
      "application/vnd.jupyter.widget-view+json": {
       "model_id": "62ea5436431145478f26185a55810959",
       "version_major": 2,
       "version_minor": 0
      },
      "text/plain": [
       "test:   0%|          | 0/4 [00:00<?, ?it/s]"
      ]
     },
     "metadata": {},
     "output_type": "display_data"
    },
    {
     "name": "stdout",
     "output_type": "stream",
     "text": [
      "\n",
      "\u001b[32m2022-06-13 21:33:49.362\u001b[0m | \u001b[1mINFO    \u001b[0m | \u001b[36msrc.beam.experiment\u001b[0m:\u001b[36msave_model_results\u001b[0m:\u001b[36m309\u001b[0m - \u001b[1mFinished epoch 10/20:\u001b[0m\n",
      "\u001b[32m2022-06-13 21:33:49.364\u001b[0m | \u001b[1mINFO    \u001b[0m | \u001b[36msrc.beam.experiment\u001b[0m:\u001b[36mlog_data\u001b[0m:\u001b[36m347\u001b[0m - \u001b[1mtrain:\u001b[0m\n",
      "\u001b[32m2022-06-13 21:33:49.365\u001b[0m | \u001b[1mINFO    \u001b[0m | \u001b[36msrc.beam.experiment\u001b[0m:\u001b[36mlog_data\u001b[0m:\u001b[36m351\u001b[0m - \u001b[1mloss 697.292 \t|\u001b[0m\n",
      "\u001b[32m2022-06-13 21:33:49.366\u001b[0m | \u001b[1mINFO    \u001b[0m | \u001b[36msrc.beam.experiment\u001b[0m:\u001b[36mlog_data\u001b[0m:\u001b[36m351\u001b[0m - \u001b[1macc 0.880762 \t|\u001b[0m\n",
      "\u001b[32m2022-06-13 21:33:49.367\u001b[0m | \u001b[1mINFO    \u001b[0m | \u001b[36msrc.beam.experiment\u001b[0m:\u001b[36mlog_data\u001b[0m:\u001b[36m351\u001b[0m - \u001b[1mlr 0.001 \t|\u001b[0m\n",
      "\u001b[32m2022-06-13 21:33:49.367\u001b[0m | \u001b[1mINFO    \u001b[0m | \u001b[36msrc.beam.experiment\u001b[0m:\u001b[36mlog_data\u001b[0m:\u001b[36m347\u001b[0m - \u001b[1mtest:\u001b[0m\n",
      "\u001b[32m2022-06-13 21:33:49.368\u001b[0m | \u001b[1mINFO    \u001b[0m | \u001b[36msrc.beam.experiment\u001b[0m:\u001b[36mlog_data\u001b[0m:\u001b[36m351\u001b[0m - \u001b[1mloss 1016.5 \t|\u001b[0m\n",
      "\u001b[32m2022-06-13 21:33:49.369\u001b[0m | \u001b[1mINFO    \u001b[0m | \u001b[36msrc.beam.experiment\u001b[0m:\u001b[36mlog_data\u001b[0m:\u001b[36m351\u001b[0m - \u001b[1macc 0.839844 \t|\u001b[0m\n"
     ]
    },
    {
     "data": {
      "application/vnd.jupyter.widget-view+json": {
       "model_id": "7326c8a996de4510807a46fcf9e9cdfd",
       "version_major": 2,
       "version_minor": 0
      },
      "text/plain": [
       "train:   0%|          | 0/487 [00:00<?, ?it/s]"
      ]
     },
     "metadata": {},
     "output_type": "display_data"
    },
    {
     "data": {
      "application/vnd.jupyter.widget-view+json": {
       "model_id": "46d6de8b379c4985a3afc9982371154f",
       "version_major": 2,
       "version_minor": 0
      },
      "text/plain": [
       "test:   0%|          | 0/4 [00:00<?, ?it/s]"
      ]
     },
     "metadata": {},
     "output_type": "display_data"
    },
    {
     "name": "stdout",
     "output_type": "stream",
     "text": [
      "\n",
      "\u001b[32m2022-06-13 21:34:05.829\u001b[0m | \u001b[1mINFO    \u001b[0m | \u001b[36msrc.beam.experiment\u001b[0m:\u001b[36msave_model_results\u001b[0m:\u001b[36m309\u001b[0m - \u001b[1mFinished epoch 11/20:\u001b[0m\n",
      "\u001b[32m2022-06-13 21:34:05.832\u001b[0m | \u001b[1mINFO    \u001b[0m | \u001b[36msrc.beam.experiment\u001b[0m:\u001b[36mlog_data\u001b[0m:\u001b[36m347\u001b[0m - \u001b[1mtrain:\u001b[0m\n",
      "\u001b[32m2022-06-13 21:34:05.833\u001b[0m | \u001b[1mINFO    \u001b[0m | \u001b[36msrc.beam.experiment\u001b[0m:\u001b[36mlog_data\u001b[0m:\u001b[36m351\u001b[0m - \u001b[1mloss 666.894 \t|\u001b[0m\n",
      "\u001b[32m2022-06-13 21:34:05.833\u001b[0m | \u001b[1mINFO    \u001b[0m | \u001b[36msrc.beam.experiment\u001b[0m:\u001b[36mlog_data\u001b[0m:\u001b[36m351\u001b[0m - \u001b[1macc 0.885744 \t|\u001b[0m\n",
      "\u001b[32m2022-06-13 21:34:05.834\u001b[0m | \u001b[1mINFO    \u001b[0m | \u001b[36msrc.beam.experiment\u001b[0m:\u001b[36mlog_data\u001b[0m:\u001b[36m351\u001b[0m - \u001b[1mlr 0.0001 \t|\u001b[0m\n",
      "\u001b[32m2022-06-13 21:34:05.835\u001b[0m | \u001b[1mINFO    \u001b[0m | \u001b[36msrc.beam.experiment\u001b[0m:\u001b[36mlog_data\u001b[0m:\u001b[36m347\u001b[0m - \u001b[1mtest:\u001b[0m\n",
      "\u001b[32m2022-06-13 21:34:05.836\u001b[0m | \u001b[1mINFO    \u001b[0m | \u001b[36msrc.beam.experiment\u001b[0m:\u001b[36mlog_data\u001b[0m:\u001b[36m351\u001b[0m - \u001b[1mloss 1017.5 \t|\u001b[0m\n",
      "\u001b[32m2022-06-13 21:34:05.836\u001b[0m | \u001b[1mINFO    \u001b[0m | \u001b[36msrc.beam.experiment\u001b[0m:\u001b[36mlog_data\u001b[0m:\u001b[36m351\u001b[0m - \u001b[1macc 0.835083 \t|\u001b[0m\n"
     ]
    },
    {
     "data": {
      "application/vnd.jupyter.widget-view+json": {
       "model_id": "a9707590d22c47df9182ba1ef65561ba",
       "version_major": 2,
       "version_minor": 0
      },
      "text/plain": [
       "train:   0%|          | 0/487 [00:00<?, ?it/s]"
      ]
     },
     "metadata": {},
     "output_type": "display_data"
    },
    {
     "data": {
      "application/vnd.jupyter.widget-view+json": {
       "model_id": "22fecee2f4de4406bc0bed7e173fb3fe",
       "version_major": 2,
       "version_minor": 0
      },
      "text/plain": [
       "test:   0%|          | 0/4 [00:00<?, ?it/s]"
      ]
     },
     "metadata": {},
     "output_type": "display_data"
    },
    {
     "name": "stdout",
     "output_type": "stream",
     "text": [
      "\n",
      "\u001b[32m2022-06-13 21:34:22.279\u001b[0m | \u001b[1mINFO    \u001b[0m | \u001b[36msrc.beam.experiment\u001b[0m:\u001b[36msave_model_results\u001b[0m:\u001b[36m309\u001b[0m - \u001b[1mFinished epoch 12/20:\u001b[0m\n",
      "\u001b[32m2022-06-13 21:34:22.281\u001b[0m | \u001b[1mINFO    \u001b[0m | \u001b[36msrc.beam.experiment\u001b[0m:\u001b[36mlog_data\u001b[0m:\u001b[36m347\u001b[0m - \u001b[1mtrain:\u001b[0m\n",
      "\u001b[32m2022-06-13 21:34:22.281\u001b[0m | \u001b[1mINFO    \u001b[0m | \u001b[36msrc.beam.experiment\u001b[0m:\u001b[36mlog_data\u001b[0m:\u001b[36m351\u001b[0m - \u001b[1mloss 659.457 \t|\u001b[0m\n",
      "\u001b[32m2022-06-13 21:34:22.282\u001b[0m | \u001b[1mINFO    \u001b[0m | \u001b[36msrc.beam.experiment\u001b[0m:\u001b[36mlog_data\u001b[0m:\u001b[36m351\u001b[0m - \u001b[1macc 0.887013 \t|\u001b[0m\n",
      "\u001b[32m2022-06-13 21:34:22.283\u001b[0m | \u001b[1mINFO    \u001b[0m | \u001b[36msrc.beam.experiment\u001b[0m:\u001b[36mlog_data\u001b[0m:\u001b[36m351\u001b[0m - \u001b[1mlr 0.0001 \t|\u001b[0m\n",
      "\u001b[32m2022-06-13 21:34:22.283\u001b[0m | \u001b[1mINFO    \u001b[0m | \u001b[36msrc.beam.experiment\u001b[0m:\u001b[36mlog_data\u001b[0m:\u001b[36m347\u001b[0m - \u001b[1mtest:\u001b[0m\n",
      "\u001b[32m2022-06-13 21:34:22.284\u001b[0m | \u001b[1mINFO    \u001b[0m | \u001b[36msrc.beam.experiment\u001b[0m:\u001b[36mlog_data\u001b[0m:\u001b[36m351\u001b[0m - \u001b[1mloss 1024.12 \t|\u001b[0m\n",
      "\u001b[32m2022-06-13 21:34:22.285\u001b[0m | \u001b[1mINFO    \u001b[0m | \u001b[36msrc.beam.experiment\u001b[0m:\u001b[36mlog_data\u001b[0m:\u001b[36m351\u001b[0m - \u001b[1macc 0.835693 \t|\u001b[0m\n"
     ]
    },
    {
     "data": {
      "application/vnd.jupyter.widget-view+json": {
       "model_id": "d6d921cecff2408f9dc6cc2d3e341e6f",
       "version_major": 2,
       "version_minor": 0
      },
      "text/plain": [
       "train:   0%|          | 0/487 [00:00<?, ?it/s]"
      ]
     },
     "metadata": {},
     "output_type": "display_data"
    },
    {
     "data": {
      "application/vnd.jupyter.widget-view+json": {
       "model_id": "70de3d9f6bcd44c4b32ea813cc64eda4",
       "version_major": 2,
       "version_minor": 0
      },
      "text/plain": [
       "test:   0%|          | 0/4 [00:00<?, ?it/s]"
      ]
     },
     "metadata": {},
     "output_type": "display_data"
    },
    {
     "name": "stdout",
     "output_type": "stream",
     "text": [
      "\n",
      "\u001b[32m2022-06-13 21:34:38.733\u001b[0m | \u001b[1mINFO    \u001b[0m | \u001b[36msrc.beam.experiment\u001b[0m:\u001b[36msave_model_results\u001b[0m:\u001b[36m309\u001b[0m - \u001b[1mFinished epoch 13/20:\u001b[0m\n",
      "\u001b[32m2022-06-13 21:34:38.735\u001b[0m | \u001b[1mINFO    \u001b[0m | \u001b[36msrc.beam.experiment\u001b[0m:\u001b[36mlog_data\u001b[0m:\u001b[36m347\u001b[0m - \u001b[1mtrain:\u001b[0m\n",
      "\u001b[32m2022-06-13 21:34:38.736\u001b[0m | \u001b[1mINFO    \u001b[0m | \u001b[36msrc.beam.experiment\u001b[0m:\u001b[36mlog_data\u001b[0m:\u001b[36m351\u001b[0m - \u001b[1mloss 666.912 \t|\u001b[0m\n",
      "\u001b[32m2022-06-13 21:34:38.737\u001b[0m | \u001b[1mINFO    \u001b[0m | \u001b[36msrc.beam.experiment\u001b[0m:\u001b[36mlog_data\u001b[0m:\u001b[36m351\u001b[0m - \u001b[1macc 0.886323 \t|\u001b[0m\n",
      "\u001b[32m2022-06-13 21:34:38.738\u001b[0m | \u001b[1mINFO    \u001b[0m | \u001b[36msrc.beam.experiment\u001b[0m:\u001b[36mlog_data\u001b[0m:\u001b[36m351\u001b[0m - \u001b[1mlr 0.0001 \t|\u001b[0m\n",
      "\u001b[32m2022-06-13 21:34:38.738\u001b[0m | \u001b[1mINFO    \u001b[0m | \u001b[36msrc.beam.experiment\u001b[0m:\u001b[36mlog_data\u001b[0m:\u001b[36m347\u001b[0m - \u001b[1mtest:\u001b[0m\n",
      "\u001b[32m2022-06-13 21:34:38.739\u001b[0m | \u001b[1mINFO    \u001b[0m | \u001b[36msrc.beam.experiment\u001b[0m:\u001b[36mlog_data\u001b[0m:\u001b[36m351\u001b[0m - \u001b[1mloss 1016.38 \t|\u001b[0m\n",
      "\u001b[32m2022-06-13 21:34:38.740\u001b[0m | \u001b[1mINFO    \u001b[0m | \u001b[36msrc.beam.experiment\u001b[0m:\u001b[36mlog_data\u001b[0m:\u001b[36m351\u001b[0m - \u001b[1macc 0.841187 \t|\u001b[0m\n"
     ]
    },
    {
     "data": {
      "application/vnd.jupyter.widget-view+json": {
       "model_id": "a796b6db757b4b85a3dd4e6d54da9011",
       "version_major": 2,
       "version_minor": 0
      },
      "text/plain": [
       "train:   0%|          | 0/487 [00:00<?, ?it/s]"
      ]
     },
     "metadata": {},
     "output_type": "display_data"
    },
    {
     "data": {
      "application/vnd.jupyter.widget-view+json": {
       "model_id": "32675cb44ba1473aaf321b82765f661c",
       "version_major": 2,
       "version_minor": 0
      },
      "text/plain": [
       "test:   0%|          | 0/4 [00:00<?, ?it/s]"
      ]
     },
     "metadata": {},
     "output_type": "display_data"
    },
    {
     "name": "stdout",
     "output_type": "stream",
     "text": [
      "\n",
      "\u001b[32m2022-06-13 21:34:55.189\u001b[0m | \u001b[1mINFO    \u001b[0m | \u001b[36msrc.beam.experiment\u001b[0m:\u001b[36msave_model_results\u001b[0m:\u001b[36m309\u001b[0m - \u001b[1mFinished epoch 14/20:\u001b[0m\n",
      "\u001b[32m2022-06-13 21:34:55.191\u001b[0m | \u001b[1mINFO    \u001b[0m | \u001b[36msrc.beam.experiment\u001b[0m:\u001b[36mlog_data\u001b[0m:\u001b[36m347\u001b[0m - \u001b[1mtrain:\u001b[0m\n",
      "\u001b[32m2022-06-13 21:34:55.192\u001b[0m | \u001b[1mINFO    \u001b[0m | \u001b[36msrc.beam.experiment\u001b[0m:\u001b[36mlog_data\u001b[0m:\u001b[36m351\u001b[0m - \u001b[1mloss 650.806 \t|\u001b[0m\n",
      "\u001b[32m2022-06-13 21:34:55.193\u001b[0m | \u001b[1mINFO    \u001b[0m | \u001b[36msrc.beam.experiment\u001b[0m:\u001b[36mlog_data\u001b[0m:\u001b[36m351\u001b[0m - \u001b[1macc 0.888605 \t|\u001b[0m\n",
      "\u001b[32m2022-06-13 21:34:55.194\u001b[0m | \u001b[1mINFO    \u001b[0m | \u001b[36msrc.beam.experiment\u001b[0m:\u001b[36mlog_data\u001b[0m:\u001b[36m351\u001b[0m - \u001b[1mlr 0.0001 \t|\u001b[0m\n",
      "\u001b[32m2022-06-13 21:34:55.194\u001b[0m | \u001b[1mINFO    \u001b[0m | \u001b[36msrc.beam.experiment\u001b[0m:\u001b[36mlog_data\u001b[0m:\u001b[36m347\u001b[0m - \u001b[1mtest:\u001b[0m\n",
      "\u001b[32m2022-06-13 21:34:55.195\u001b[0m | \u001b[1mINFO    \u001b[0m | \u001b[36msrc.beam.experiment\u001b[0m:\u001b[36mlog_data\u001b[0m:\u001b[36m351\u001b[0m - \u001b[1mloss 1060.88 \t|\u001b[0m\n",
      "\u001b[32m2022-06-13 21:34:55.196\u001b[0m | \u001b[1mINFO    \u001b[0m | \u001b[36msrc.beam.experiment\u001b[0m:\u001b[36mlog_data\u001b[0m:\u001b[36m351\u001b[0m - \u001b[1macc 0.833252 \t|\u001b[0m\n"
     ]
    },
    {
     "data": {
      "application/vnd.jupyter.widget-view+json": {
       "model_id": "2555b4a9c3584a009e02cd96e4400178",
       "version_major": 2,
       "version_minor": 0
      },
      "text/plain": [
       "train:   0%|          | 0/487 [00:00<?, ?it/s]"
      ]
     },
     "metadata": {},
     "output_type": "display_data"
    },
    {
     "data": {
      "application/vnd.jupyter.widget-view+json": {
       "model_id": "1bc28b32ad8a4bf5976795f7ae191316",
       "version_major": 2,
       "version_minor": 0
      },
      "text/plain": [
       "test:   0%|          | 0/4 [00:00<?, ?it/s]"
      ]
     },
     "metadata": {},
     "output_type": "display_data"
    },
    {
     "name": "stdout",
     "output_type": "stream",
     "text": [
      "\n",
      "\u001b[32m2022-06-13 21:35:11.599\u001b[0m | \u001b[1mINFO    \u001b[0m | \u001b[36msrc.beam.experiment\u001b[0m:\u001b[36msave_model_results\u001b[0m:\u001b[36m309\u001b[0m - \u001b[1mFinished epoch 15/20:\u001b[0m\n",
      "\u001b[32m2022-06-13 21:35:11.601\u001b[0m | \u001b[1mINFO    \u001b[0m | \u001b[36msrc.beam.experiment\u001b[0m:\u001b[36mlog_data\u001b[0m:\u001b[36m347\u001b[0m - \u001b[1mtrain:\u001b[0m\n",
      "\u001b[32m2022-06-13 21:35:11.601\u001b[0m | \u001b[1mINFO    \u001b[0m | \u001b[36msrc.beam.experiment\u001b[0m:\u001b[36mlog_data\u001b[0m:\u001b[36m351\u001b[0m - \u001b[1mloss 654.234 \t|\u001b[0m\n",
      "\u001b[32m2022-06-13 21:35:11.602\u001b[0m | \u001b[1mINFO    \u001b[0m | \u001b[36msrc.beam.experiment\u001b[0m:\u001b[36mlog_data\u001b[0m:\u001b[36m351\u001b[0m - \u001b[1macc 0.888067 \t|\u001b[0m\n",
      "\u001b[32m2022-06-13 21:35:11.603\u001b[0m | \u001b[1mINFO    \u001b[0m | \u001b[36msrc.beam.experiment\u001b[0m:\u001b[36mlog_data\u001b[0m:\u001b[36m351\u001b[0m - \u001b[1mlr 0.0001 \t|\u001b[0m\n",
      "\u001b[32m2022-06-13 21:35:11.604\u001b[0m | \u001b[1mINFO    \u001b[0m | \u001b[36msrc.beam.experiment\u001b[0m:\u001b[36mlog_data\u001b[0m:\u001b[36m347\u001b[0m - \u001b[1mtest:\u001b[0m\n",
      "\u001b[32m2022-06-13 21:35:11.605\u001b[0m | \u001b[1mINFO    \u001b[0m | \u001b[36msrc.beam.experiment\u001b[0m:\u001b[36mlog_data\u001b[0m:\u001b[36m351\u001b[0m - \u001b[1mloss 1023.12 \t|\u001b[0m\n",
      "\u001b[32m2022-06-13 21:35:11.605\u001b[0m | \u001b[1mINFO    \u001b[0m | \u001b[36msrc.beam.experiment\u001b[0m:\u001b[36mlog_data\u001b[0m:\u001b[36m351\u001b[0m - \u001b[1macc 0.836548 \t|\u001b[0m\n"
     ]
    },
    {
     "data": {
      "application/vnd.jupyter.widget-view+json": {
       "model_id": "d6540f423ad04681a8487a12afa4aff6",
       "version_major": 2,
       "version_minor": 0
      },
      "text/plain": [
       "train:   0%|          | 0/487 [00:00<?, ?it/s]"
      ]
     },
     "metadata": {},
     "output_type": "display_data"
    },
    {
     "data": {
      "application/vnd.jupyter.widget-view+json": {
       "model_id": "686ab77ea4aa4a9ebda9db737cc9b582",
       "version_major": 2,
       "version_minor": 0
      },
      "text/plain": [
       "test:   0%|          | 0/4 [00:00<?, ?it/s]"
      ]
     },
     "metadata": {},
     "output_type": "display_data"
    },
    {
     "name": "stdout",
     "output_type": "stream",
     "text": [
      "\n",
      "\u001b[32m2022-06-13 21:35:28.002\u001b[0m | \u001b[1mINFO    \u001b[0m | \u001b[36msrc.beam.experiment\u001b[0m:\u001b[36msave_model_results\u001b[0m:\u001b[36m309\u001b[0m - \u001b[1mFinished epoch 16/20:\u001b[0m\n",
      "\u001b[32m2022-06-13 21:35:28.003\u001b[0m | \u001b[1mINFO    \u001b[0m | \u001b[36msrc.beam.experiment\u001b[0m:\u001b[36mlog_data\u001b[0m:\u001b[36m347\u001b[0m - \u001b[1mtrain:\u001b[0m\n",
      "\u001b[32m2022-06-13 21:35:28.004\u001b[0m | \u001b[1mINFO    \u001b[0m | \u001b[36msrc.beam.experiment\u001b[0m:\u001b[36mlog_data\u001b[0m:\u001b[36m351\u001b[0m - \u001b[1mloss 647.04 \t|\u001b[0m\n",
      "\u001b[32m2022-06-13 21:35:28.005\u001b[0m | \u001b[1mINFO    \u001b[0m | \u001b[36msrc.beam.experiment\u001b[0m:\u001b[36mlog_data\u001b[0m:\u001b[36m351\u001b[0m - \u001b[1macc 0.889391 \t|\u001b[0m\n",
      "\u001b[32m2022-06-13 21:35:28.006\u001b[0m | \u001b[1mINFO    \u001b[0m | \u001b[36msrc.beam.experiment\u001b[0m:\u001b[36mlog_data\u001b[0m:\u001b[36m351\u001b[0m - \u001b[1mlr 1e-05 \t|\u001b[0m\n",
      "\u001b[32m2022-06-13 21:35:28.006\u001b[0m | \u001b[1mINFO    \u001b[0m | \u001b[36msrc.beam.experiment\u001b[0m:\u001b[36mlog_data\u001b[0m:\u001b[36m347\u001b[0m - \u001b[1mtest:\u001b[0m\n",
      "\u001b[32m2022-06-13 21:35:28.007\u001b[0m | \u001b[1mINFO    \u001b[0m | \u001b[36msrc.beam.experiment\u001b[0m:\u001b[36mlog_data\u001b[0m:\u001b[36m351\u001b[0m - \u001b[1mloss 1069.25 \t|\u001b[0m\n",
      "\u001b[32m2022-06-13 21:35:28.008\u001b[0m | \u001b[1mINFO    \u001b[0m | \u001b[36msrc.beam.experiment\u001b[0m:\u001b[36mlog_data\u001b[0m:\u001b[36m351\u001b[0m - \u001b[1macc 0.832642 \t|\u001b[0m\n"
     ]
    },
    {
     "data": {
      "application/vnd.jupyter.widget-view+json": {
       "model_id": "ead5d14930fd4bbab57e6d5e19f16c83",
       "version_major": 2,
       "version_minor": 0
      },
      "text/plain": [
       "train:   0%|          | 0/487 [00:00<?, ?it/s]"
      ]
     },
     "metadata": {},
     "output_type": "display_data"
    },
    {
     "data": {
      "application/vnd.jupyter.widget-view+json": {
       "model_id": "94e308f7c9774760b268db83979d4bb6",
       "version_major": 2,
       "version_minor": 0
      },
      "text/plain": [
       "test:   0%|          | 0/4 [00:00<?, ?it/s]"
      ]
     },
     "metadata": {},
     "output_type": "display_data"
    },
    {
     "name": "stdout",
     "output_type": "stream",
     "text": [
      "\n",
      "\u001b[32m2022-06-13 21:35:44.425\u001b[0m | \u001b[1mINFO    \u001b[0m | \u001b[36msrc.beam.experiment\u001b[0m:\u001b[36msave_model_results\u001b[0m:\u001b[36m309\u001b[0m - \u001b[1mFinished epoch 17/20:\u001b[0m\n",
      "\u001b[32m2022-06-13 21:35:44.427\u001b[0m | \u001b[1mINFO    \u001b[0m | \u001b[36msrc.beam.experiment\u001b[0m:\u001b[36mlog_data\u001b[0m:\u001b[36m347\u001b[0m - \u001b[1mtrain:\u001b[0m\n",
      "\u001b[32m2022-06-13 21:35:44.428\u001b[0m | \u001b[1mINFO    \u001b[0m | \u001b[36msrc.beam.experiment\u001b[0m:\u001b[36mlog_data\u001b[0m:\u001b[36m351\u001b[0m - \u001b[1mloss 657.251 \t|\u001b[0m\n",
      "\u001b[32m2022-06-13 21:35:44.428\u001b[0m | \u001b[1mINFO    \u001b[0m | \u001b[36msrc.beam.experiment\u001b[0m:\u001b[36mlog_data\u001b[0m:\u001b[36m351\u001b[0m - \u001b[1macc 0.8875 \t|\u001b[0m\n",
      "\u001b[32m2022-06-13 21:35:44.429\u001b[0m | \u001b[1mINFO    \u001b[0m | \u001b[36msrc.beam.experiment\u001b[0m:\u001b[36mlog_data\u001b[0m:\u001b[36m351\u001b[0m - \u001b[1mlr 1e-05 \t|\u001b[0m\n",
      "\u001b[32m2022-06-13 21:35:44.430\u001b[0m | \u001b[1mINFO    \u001b[0m | \u001b[36msrc.beam.experiment\u001b[0m:\u001b[36mlog_data\u001b[0m:\u001b[36m347\u001b[0m - \u001b[1mtest:\u001b[0m\n",
      "\u001b[32m2022-06-13 21:35:44.431\u001b[0m | \u001b[1mINFO    \u001b[0m | \u001b[36msrc.beam.experiment\u001b[0m:\u001b[36mlog_data\u001b[0m:\u001b[36m351\u001b[0m - \u001b[1mloss 1017.62 \t|\u001b[0m\n",
      "\u001b[32m2022-06-13 21:35:44.431\u001b[0m | \u001b[1mINFO    \u001b[0m | \u001b[36msrc.beam.experiment\u001b[0m:\u001b[36mlog_data\u001b[0m:\u001b[36m351\u001b[0m - \u001b[1macc 0.839722 \t|\u001b[0m\n"
     ]
    },
    {
     "data": {
      "application/vnd.jupyter.widget-view+json": {
       "model_id": "97daa81dbcab491892ea6dcbedda34b0",
       "version_major": 2,
       "version_minor": 0
      },
      "text/plain": [
       "train:   0%|          | 0/487 [00:00<?, ?it/s]"
      ]
     },
     "metadata": {},
     "output_type": "display_data"
    },
    {
     "data": {
      "application/vnd.jupyter.widget-view+json": {
       "model_id": "374f1ecb65f34c79aa6bc2dfcaac1bdb",
       "version_major": 2,
       "version_minor": 0
      },
      "text/plain": [
       "test:   0%|          | 0/4 [00:00<?, ?it/s]"
      ]
     },
     "metadata": {},
     "output_type": "display_data"
    },
    {
     "name": "stdout",
     "output_type": "stream",
     "text": [
      "\n",
      "\u001b[32m2022-06-13 21:36:01.050\u001b[0m | \u001b[1mINFO    \u001b[0m | \u001b[36msrc.beam.experiment\u001b[0m:\u001b[36msave_model_results\u001b[0m:\u001b[36m309\u001b[0m - \u001b[1mFinished epoch 18/20:\u001b[0m\n",
      "\u001b[32m2022-06-13 21:36:01.053\u001b[0m | \u001b[1mINFO    \u001b[0m | \u001b[36msrc.beam.experiment\u001b[0m:\u001b[36mlog_data\u001b[0m:\u001b[36m347\u001b[0m - \u001b[1mtrain:\u001b[0m\n",
      "\u001b[32m2022-06-13 21:36:01.053\u001b[0m | \u001b[1mINFO    \u001b[0m | \u001b[36msrc.beam.experiment\u001b[0m:\u001b[36mlog_data\u001b[0m:\u001b[36m351\u001b[0m - \u001b[1mloss 644.48 \t|\u001b[0m\n",
      "\u001b[32m2022-06-13 21:36:01.054\u001b[0m | \u001b[1mINFO    \u001b[0m | \u001b[36msrc.beam.experiment\u001b[0m:\u001b[36mlog_data\u001b[0m:\u001b[36m351\u001b[0m - \u001b[1macc 0.889647 \t|\u001b[0m\n",
      "\u001b[32m2022-06-13 21:36:01.055\u001b[0m | \u001b[1mINFO    \u001b[0m | \u001b[36msrc.beam.experiment\u001b[0m:\u001b[36mlog_data\u001b[0m:\u001b[36m351\u001b[0m - \u001b[1mlr 1e-05 \t|\u001b[0m\n",
      "\u001b[32m2022-06-13 21:36:01.056\u001b[0m | \u001b[1mINFO    \u001b[0m | \u001b[36msrc.beam.experiment\u001b[0m:\u001b[36mlog_data\u001b[0m:\u001b[36m347\u001b[0m - \u001b[1mtest:\u001b[0m\n",
      "\u001b[32m2022-06-13 21:36:01.057\u001b[0m | \u001b[1mINFO    \u001b[0m | \u001b[36msrc.beam.experiment\u001b[0m:\u001b[36mlog_data\u001b[0m:\u001b[36m351\u001b[0m - \u001b[1mloss 1000.75 \t|\u001b[0m\n",
      "\u001b[32m2022-06-13 21:36:01.057\u001b[0m | \u001b[1mINFO    \u001b[0m | \u001b[36msrc.beam.experiment\u001b[0m:\u001b[36mlog_data\u001b[0m:\u001b[36m351\u001b[0m - \u001b[1macc 0.841431 \t|\u001b[0m\n"
     ]
    },
    {
     "data": {
      "application/vnd.jupyter.widget-view+json": {
       "model_id": "b428c3e2b8734f51890cbfe176ac0168",
       "version_major": 2,
       "version_minor": 0
      },
      "text/plain": [
       "train:   0%|          | 0/487 [00:00<?, ?it/s]"
      ]
     },
     "metadata": {},
     "output_type": "display_data"
    },
    {
     "data": {
      "application/vnd.jupyter.widget-view+json": {
       "model_id": "fe50e5f2fe984f11ab3ad1d963995251",
       "version_major": 2,
       "version_minor": 0
      },
      "text/plain": [
       "test:   0%|          | 0/4 [00:00<?, ?it/s]"
      ]
     },
     "metadata": {},
     "output_type": "display_data"
    },
    {
     "name": "stdout",
     "output_type": "stream",
     "text": [
      "\n",
      "\u001b[32m2022-06-13 21:36:17.464\u001b[0m | \u001b[1mINFO    \u001b[0m | \u001b[36msrc.beam.experiment\u001b[0m:\u001b[36msave_model_results\u001b[0m:\u001b[36m309\u001b[0m - \u001b[1mFinished epoch 19/20:\u001b[0m\n",
      "\u001b[32m2022-06-13 21:36:17.466\u001b[0m | \u001b[1mINFO    \u001b[0m | \u001b[36msrc.beam.experiment\u001b[0m:\u001b[36mlog_data\u001b[0m:\u001b[36m347\u001b[0m - \u001b[1mtrain:\u001b[0m\n",
      "\u001b[32m2022-06-13 21:36:17.467\u001b[0m | \u001b[1mINFO    \u001b[0m | \u001b[36msrc.beam.experiment\u001b[0m:\u001b[36mlog_data\u001b[0m:\u001b[36m351\u001b[0m - \u001b[1mloss 654.769 \t|\u001b[0m\n",
      "\u001b[32m2022-06-13 21:36:17.468\u001b[0m | \u001b[1mINFO    \u001b[0m | \u001b[36msrc.beam.experiment\u001b[0m:\u001b[36mlog_data\u001b[0m:\u001b[36m351\u001b[0m - \u001b[1macc 0.887755 \t|\u001b[0m\n",
      "\u001b[32m2022-06-13 21:36:17.468\u001b[0m | \u001b[1mINFO    \u001b[0m | \u001b[36msrc.beam.experiment\u001b[0m:\u001b[36mlog_data\u001b[0m:\u001b[36m351\u001b[0m - \u001b[1mlr 1e-05 \t|\u001b[0m\n",
      "\u001b[32m2022-06-13 21:36:17.469\u001b[0m | \u001b[1mINFO    \u001b[0m | \u001b[36msrc.beam.experiment\u001b[0m:\u001b[36mlog_data\u001b[0m:\u001b[36m347\u001b[0m - \u001b[1mtest:\u001b[0m\n",
      "\u001b[32m2022-06-13 21:36:17.470\u001b[0m | \u001b[1mINFO    \u001b[0m | \u001b[36msrc.beam.experiment\u001b[0m:\u001b[36mlog_data\u001b[0m:\u001b[36m351\u001b[0m - \u001b[1mloss 972.375 \t|\u001b[0m\n",
      "\u001b[32m2022-06-13 21:36:17.471\u001b[0m | \u001b[1mINFO    \u001b[0m | \u001b[36msrc.beam.experiment\u001b[0m:\u001b[36mlog_data\u001b[0m:\u001b[36m351\u001b[0m - \u001b[1macc 0.846924 \t|\u001b[0m\n"
     ]
    },
    {
     "data": {
      "application/vnd.jupyter.widget-view+json": {
       "model_id": "67463c8538d8411ba741311fbe2a1f5e",
       "version_major": 2,
       "version_minor": 0
      },
      "text/plain": [
       "train:   0%|          | 0/487 [00:00<?, ?it/s]"
      ]
     },
     "metadata": {},
     "output_type": "display_data"
    },
    {
     "data": {
      "application/vnd.jupyter.widget-view+json": {
       "model_id": "476618cfdc2548d985ed37fcce1093f7",
       "version_major": 2,
       "version_minor": 0
      },
      "text/plain": [
       "test:   0%|          | 0/4 [00:00<?, ?it/s]"
      ]
     },
     "metadata": {},
     "output_type": "display_data"
    },
    {
     "name": "stdout",
     "output_type": "stream",
     "text": [
      "\n",
      "\u001b[32m2022-06-13 21:36:33.908\u001b[0m | \u001b[1mINFO    \u001b[0m | \u001b[36msrc.beam.experiment\u001b[0m:\u001b[36msave_model_results\u001b[0m:\u001b[36m309\u001b[0m - \u001b[1mFinished epoch 20/20:\u001b[0m\n",
      "\u001b[32m2022-06-13 21:36:33.911\u001b[0m | \u001b[1mINFO    \u001b[0m | \u001b[36msrc.beam.experiment\u001b[0m:\u001b[36mlog_data\u001b[0m:\u001b[36m347\u001b[0m - \u001b[1mtrain:\u001b[0m\n",
      "\u001b[32m2022-06-13 21:36:33.911\u001b[0m | \u001b[1mINFO    \u001b[0m | \u001b[36msrc.beam.experiment\u001b[0m:\u001b[36mlog_data\u001b[0m:\u001b[36m351\u001b[0m - \u001b[1mloss 654.564 \t|\u001b[0m\n",
      "\u001b[32m2022-06-13 21:36:33.912\u001b[0m | \u001b[1mINFO    \u001b[0m | \u001b[36msrc.beam.experiment\u001b[0m:\u001b[36mlog_data\u001b[0m:\u001b[36m351\u001b[0m - \u001b[1macc 0.888104 \t|\u001b[0m\n",
      "\u001b[32m2022-06-13 21:36:33.913\u001b[0m | \u001b[1mINFO    \u001b[0m | \u001b[36msrc.beam.experiment\u001b[0m:\u001b[36mlog_data\u001b[0m:\u001b[36m351\u001b[0m - \u001b[1mlr 1e-05 \t|\u001b[0m\n",
      "\u001b[32m2022-06-13 21:36:33.914\u001b[0m | \u001b[1mINFO    \u001b[0m | \u001b[36msrc.beam.experiment\u001b[0m:\u001b[36mlog_data\u001b[0m:\u001b[36m347\u001b[0m - \u001b[1mtest:\u001b[0m\n",
      "\u001b[32m2022-06-13 21:36:33.915\u001b[0m | \u001b[1mINFO    \u001b[0m | \u001b[36msrc.beam.experiment\u001b[0m:\u001b[36mlog_data\u001b[0m:\u001b[36m351\u001b[0m - \u001b[1mloss 1017.25 \t|\u001b[0m\n",
      "\u001b[32m2022-06-13 21:36:33.915\u001b[0m | \u001b[1mINFO    \u001b[0m | \u001b[36msrc.beam.experiment\u001b[0m:\u001b[36mlog_data\u001b[0m:\u001b[36m351\u001b[0m - \u001b[1macc 0.839111 \t|\u001b[0m\n"
     ]
    }
   ],
   "source": [
    "alg = experiment(cifar10_algorithm_generator)"
   ]
  },
  {
   "cell_type": "code",
   "execution_count": 10,
   "id": "a1018386-8b16-48a5-954b-74bc0ddad5d4",
   "metadata": {},
   "outputs": [
    {
     "data": {
      "application/vnd.jupyter.widget-view+json": {
       "model_id": "d3d950791f2d4db2a827e4a40ddfbc99",
       "version_major": 2,
       "version_minor": 0
      },
      "text/plain": [
       "test:   0%|          | 0/5 [00:00<?, ?it/s]"
      ]
     },
     "metadata": {},
     "output_type": "display_data"
    },
    {
     "data": {
      "text/plain": [
       "0.8381542086601257"
      ]
     },
     "execution_count": 10,
     "metadata": {},
     "output_type": "execute_result"
    }
   ],
   "source": [
    "np.mean(alg.evaluate('test')['scalar']['acc'])"
   ]
  },
  {
   "cell_type": "code",
   "execution_count": 6,
   "id": "8e45225b-1d99-4df8-b3c9-3f5574d59da4",
   "metadata": {},
   "outputs": [
    {
     "ename": "AttributeError",
     "evalue": "'BeamOptimizer' object has no attribute 'scaler'",
     "output_type": "error",
     "traceback": [
      "\u001b[0;31m---------------------------------------------------------------------------\u001b[0m",
      "\u001b[0;31mAttributeError\u001b[0m                            Traceback (most recent call last)",
      "\u001b[0;32m/tmp/ipykernel_98720/2450066816.py\u001b[0m in \u001b[0;36m<cell line: 1>\u001b[0;34m()\u001b[0m\n\u001b[0;32m----> 1\u001b[0;31m \u001b[0malg\u001b[0m\u001b[0;34m.\u001b[0m\u001b[0moptimizers\u001b[0m\u001b[0;34m[\u001b[0m\u001b[0;34m'net'\u001b[0m\u001b[0;34m]\u001b[0m\u001b[0;34m.\u001b[0m\u001b[0mscaler\u001b[0m\u001b[0;34m.\u001b[0m\u001b[0mget_scale\u001b[0m\u001b[0;34m(\u001b[0m\u001b[0;34m)\u001b[0m\u001b[0;34m\u001b[0m\u001b[0;34m\u001b[0m\u001b[0m\n\u001b[0m",
      "\u001b[0;31mAttributeError\u001b[0m: 'BeamOptimizer' object has no attribute 'scaler'"
     ]
    }
   ],
   "source": [
    "# alg.optimizers['net'].scaler.get_scale()"
   ]
  },
  {
   "cell_type": "code",
   "execution_count": null,
   "id": "c3786cc5-caa9-44c1-9f1a-d8532025a24b",
   "metadata": {},
   "outputs": [],
   "source": []
  }
 ],
 "metadata": {
  "kernelspec": {
   "display_name": "Python 3 (ipykernel)",
   "language": "python",
   "name": "python3"
  },
  "language_info": {
   "codemirror_mode": {
    "name": "ipython",
    "version": 3
   },
   "file_extension": ".py",
   "mimetype": "text/x-python",
   "name": "python",
   "nbconvert_exporter": "python",
   "pygments_lexer": "ipython3",
   "version": "3.8.13"
  },
  "toc-autonumbering": true
 },
 "nbformat": 4,
 "nbformat_minor": 5
}
