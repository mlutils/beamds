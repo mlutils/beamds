{
 "cells": [
  {
   "cell_type": "code",
   "execution_count": 1,
   "id": "c974cdd9",
   "metadata": {},
   "outputs": [
    {
     "name": "stderr",
     "output_type": "stream",
     "text": [
      "2022-06-20 21:04:11,478\tINFO services.py:1456 -- View the Ray dashboard at \u001b[1m\u001b[32mhttp://127.0.0.1:13065\u001b[39m\u001b[22m\n",
      "2022-06-20 21:04:12,533\tINFO packaging.py:388 -- Creating a file package for local directory '..'.\n",
      "2022-06-20 21:04:12,664\tINFO packaging.py:241 -- Pushing file package 'gcs://_ray_pkg_ff238c99431a7da4.zip' (1.07MiB) to Ray cluster...\n",
      "2022-06-20 21:04:12,688\tINFO packaging.py:243 -- Successfully pushed file package 'gcs://_ray_pkg_ff238c99431a7da4.zip'.\n"
     ]
    }
   ],
   "source": [
    "%load_ext autoreload\n",
    "%autoreload 2\n",
    "\n",
    "import torch\n",
    "import torchvision\n",
    "import torch.nn.functional as F\n",
    "from torch import nn\n",
    "from sklearn.metrics import precision_recall_fscore_support\n",
    "import numpy as np\n",
    "\n",
    "# manage ray's relative imports\n",
    "import ray\n",
    "runtime_env = {\"working_dir\": \"..\" }\n",
    "ray.init(runtime_env=runtime_env, dashboard_port=13065, include_dashboard=True)\n",
    "\n",
    "from ray import tune\n",
    "from ray.tune.suggest.optuna import OptunaSearch\n",
    "from ray.tune import JupyterNotebookReporter\n",
    "\n",
    "# manage beams's relative imports\n",
    "import sys\n",
    "sys.path.append('..')\n",
    "\n",
    "from src.beam import beam_arguments, Experiment, Study\n",
    "from src.beam import UniversalDataset, UniversalBatchSampler\n",
    "from src.beam import Algorithm\n",
    "from src.beam import LinearNet\n",
    "from torchvision import transforms\n",
    "import matplotlib.pyplot as plt\n",
    "\n",
    "from src.beam import DataTensor\n",
    "from src.beam.utils import is_notebook\n",
    "from cifar10_example import cifar10_algorithm_generator, Cifar10Network\n",
    "\n",
    "from ray.tune.suggest.hebo import HEBOSearch"
   ]
  },
  {
   "cell_type": "code",
   "execution_count": 2,
   "id": "3fb14c31-398b-48b6-ade7-cfdb06d6d518",
   "metadata": {},
   "outputs": [],
   "source": [
    "path_to_data = '/localdata/elads/data/datasets/cifar10'\n",
    "root_dir = '/localdata/elads/data/cifar10'\n",
    "\n",
    "# path_to_data = '/home/shared/data/dataset/cifar10'\n",
    "# root_dir = '/home/shared/data/results/cifar10'"
   ]
  },
  {
   "cell_type": "markdown",
   "id": "3d15a46d",
   "metadata": {},
   "source": [
    "## Training with a single worker"
   ]
  },
  {
   "cell_type": "code",
   "execution_count": 34,
   "id": "f79ff3f1",
   "metadata": {},
   "outputs": [
    {
     "name": "stdout",
     "output_type": "stream",
     "text": [
      "\u001b[32m2022-06-20 20:48:26.073\u001b[0m | \u001b[1mINFO    \u001b[0m | \u001b[36msrc.beam.experiment\u001b[0m:\u001b[36m__init__\u001b[0m:\u001b[36m186\u001b[0m - \u001b[1mbeam project: cifar10\u001b[0m\n",
      "\u001b[32m2022-06-20 20:48:26.074\u001b[0m | \u001b[1mINFO    \u001b[0m | \u001b[36msrc.beam.experiment\u001b[0m:\u001b[36m__init__\u001b[0m:\u001b[36m187\u001b[0m - \u001b[1mExperiment Hyperparameters\u001b[0m\n",
      "\u001b[32m2022-06-20 20:48:26.075\u001b[0m | \u001b[1mINFO    \u001b[0m | \u001b[36msrc.beam.experiment\u001b[0m:\u001b[36m__init__\u001b[0m:\u001b[36m192\u001b[0m - \u001b[1mproject_name: cifar10\u001b[0m\n",
      "\u001b[32m2022-06-20 20:48:26.076\u001b[0m | \u001b[1mINFO    \u001b[0m | \u001b[36msrc.beam.experiment\u001b[0m:\u001b[36m__init__\u001b[0m:\u001b[36m192\u001b[0m - \u001b[1midentifier: debug\u001b[0m\n",
      "\u001b[32m2022-06-20 20:48:26.077\u001b[0m | \u001b[1mINFO    \u001b[0m | \u001b[36msrc.beam.experiment\u001b[0m:\u001b[36m__init__\u001b[0m:\u001b[36m192\u001b[0m - \u001b[1malgorithm: CIFAR10Algorithm\u001b[0m\n",
      "\u001b[32m2022-06-20 20:48:26.078\u001b[0m | \u001b[1mINFO    \u001b[0m | \u001b[36msrc.beam.experiment\u001b[0m:\u001b[36m__init__\u001b[0m:\u001b[36m192\u001b[0m - \u001b[1mmp_port: None\u001b[0m\n",
      "\u001b[32m2022-06-20 20:48:26.079\u001b[0m | \u001b[1mINFO    \u001b[0m | \u001b[36msrc.beam.experiment\u001b[0m:\u001b[36m__init__\u001b[0m:\u001b[36m192\u001b[0m - \u001b[1mroot_dir: /localdata/elads/data/cifar10\u001b[0m\n",
      "\u001b[32m2022-06-20 20:48:26.079\u001b[0m | \u001b[1mINFO    \u001b[0m | \u001b[36msrc.beam.experiment\u001b[0m:\u001b[36m__init__\u001b[0m:\u001b[36m192\u001b[0m - \u001b[1mreload: False\u001b[0m\n",
      "\u001b[32m2022-06-20 20:48:26.080\u001b[0m | \u001b[1mINFO    \u001b[0m | \u001b[36msrc.beam.experiment\u001b[0m:\u001b[36m__init__\u001b[0m:\u001b[36m192\u001b[0m - \u001b[1mresume: -1\u001b[0m\n",
      "\u001b[32m2022-06-20 20:48:26.081\u001b[0m | \u001b[1mINFO    \u001b[0m | \u001b[36msrc.beam.experiment\u001b[0m:\u001b[36m__init__\u001b[0m:\u001b[36m192\u001b[0m - \u001b[1moverride: False\u001b[0m\n",
      "\u001b[32m2022-06-20 20:48:26.082\u001b[0m | \u001b[1mINFO    \u001b[0m | \u001b[36msrc.beam.experiment\u001b[0m:\u001b[36m__init__\u001b[0m:\u001b[36m192\u001b[0m - \u001b[1mcpu_workers: 0\u001b[0m\n",
      "\u001b[32m2022-06-20 20:48:26.083\u001b[0m | \u001b[1mINFO    \u001b[0m | \u001b[36msrc.beam.experiment\u001b[0m:\u001b[36m__init__\u001b[0m:\u001b[36m192\u001b[0m - \u001b[1mdevice: 1\u001b[0m\n",
      "\u001b[32m2022-06-20 20:48:26.083\u001b[0m | \u001b[1mINFO    \u001b[0m | \u001b[36msrc.beam.experiment\u001b[0m:\u001b[36m__init__\u001b[0m:\u001b[36m192\u001b[0m - \u001b[1mparallel: 1\u001b[0m\n",
      "\u001b[32m2022-06-20 20:48:26.084\u001b[0m | \u001b[1mINFO    \u001b[0m | \u001b[36msrc.beam.experiment\u001b[0m:\u001b[36m__init__\u001b[0m:\u001b[36m192\u001b[0m - \u001b[1mtensorboard: True\u001b[0m\n",
      "\u001b[32m2022-06-20 20:48:26.085\u001b[0m | \u001b[1mINFO    \u001b[0m | \u001b[36msrc.beam.experiment\u001b[0m:\u001b[36m__init__\u001b[0m:\u001b[36m192\u001b[0m - \u001b[1mlognet: True\u001b[0m\n",
      "\u001b[32m2022-06-20 20:48:26.085\u001b[0m | \u001b[1mINFO    \u001b[0m | \u001b[36msrc.beam.experiment\u001b[0m:\u001b[36m__init__\u001b[0m:\u001b[36m192\u001b[0m - \u001b[1mdeterministic: False\u001b[0m\n",
      "\u001b[32m2022-06-20 20:48:26.086\u001b[0m | \u001b[1mINFO    \u001b[0m | \u001b[36msrc.beam.experiment\u001b[0m:\u001b[36m__init__\u001b[0m:\u001b[36m192\u001b[0m - \u001b[1mscale_epoch_by_batch_size: True\u001b[0m\n",
      "\u001b[32m2022-06-20 20:48:26.087\u001b[0m | \u001b[1mINFO    \u001b[0m | \u001b[36msrc.beam.experiment\u001b[0m:\u001b[36m__init__\u001b[0m:\u001b[36m192\u001b[0m - \u001b[1mcudnn_benchmark: True\u001b[0m\n",
      "\u001b[32m2022-06-20 20:48:26.088\u001b[0m | \u001b[1mINFO    \u001b[0m | \u001b[36msrc.beam.experiment\u001b[0m:\u001b[36m__init__\u001b[0m:\u001b[36m192\u001b[0m - \u001b[1mhalf: True\u001b[0m\n",
      "\u001b[32m2022-06-20 20:48:26.089\u001b[0m | \u001b[1mINFO    \u001b[0m | \u001b[36msrc.beam.experiment\u001b[0m:\u001b[36m__init__\u001b[0m:\u001b[36m192\u001b[0m - \u001b[1mamp: False\u001b[0m\n",
      "\u001b[32m2022-06-20 20:48:26.089\u001b[0m | \u001b[1mINFO    \u001b[0m | \u001b[36msrc.beam.experiment\u001b[0m:\u001b[36m__init__\u001b[0m:\u001b[36m192\u001b[0m - \u001b[1minit: ortho\u001b[0m\n",
      "\u001b[32m2022-06-20 20:48:26.090\u001b[0m | \u001b[1mINFO    \u001b[0m | \u001b[36msrc.beam.experiment\u001b[0m:\u001b[36m__init__\u001b[0m:\u001b[36m192\u001b[0m - \u001b[1mseed: 0\u001b[0m\n",
      "\u001b[32m2022-06-20 20:48:26.091\u001b[0m | \u001b[1mINFO    \u001b[0m | \u001b[36msrc.beam.experiment\u001b[0m:\u001b[36m__init__\u001b[0m:\u001b[36m192\u001b[0m - \u001b[1mtotal_steps: 1000000\u001b[0m\n",
      "\u001b[32m2022-06-20 20:48:26.093\u001b[0m | \u001b[1mINFO    \u001b[0m | \u001b[36msrc.beam.experiment\u001b[0m:\u001b[36m__init__\u001b[0m:\u001b[36m192\u001b[0m - \u001b[1mepoch_length: None\u001b[0m\n",
      "\u001b[32m2022-06-20 20:48:26.094\u001b[0m | \u001b[1mINFO    \u001b[0m | \u001b[36msrc.beam.experiment\u001b[0m:\u001b[36m__init__\u001b[0m:\u001b[36m192\u001b[0m - \u001b[1mepoch_length_train: None\u001b[0m\n",
      "\u001b[32m2022-06-20 20:48:26.095\u001b[0m | \u001b[1mINFO    \u001b[0m | \u001b[36msrc.beam.experiment\u001b[0m:\u001b[36m__init__\u001b[0m:\u001b[36m192\u001b[0m - \u001b[1mepoch_length_eval: None\u001b[0m\n",
      "\u001b[32m2022-06-20 20:48:26.097\u001b[0m | \u001b[1mINFO    \u001b[0m | \u001b[36msrc.beam.experiment\u001b[0m:\u001b[36m__init__\u001b[0m:\u001b[36m192\u001b[0m - \u001b[1mn_epochs: 40\u001b[0m\n",
      "\u001b[32m2022-06-20 20:48:26.098\u001b[0m | \u001b[1mINFO    \u001b[0m | \u001b[36msrc.beam.experiment\u001b[0m:\u001b[36m__init__\u001b[0m:\u001b[36m192\u001b[0m - \u001b[1mbatch_size: 512\u001b[0m\n",
      "\u001b[32m2022-06-20 20:48:26.099\u001b[0m | \u001b[1mINFO    \u001b[0m | \u001b[36msrc.beam.experiment\u001b[0m:\u001b[36m__init__\u001b[0m:\u001b[36m192\u001b[0m - \u001b[1mbatch_size_train: None\u001b[0m\n",
      "\u001b[32m2022-06-20 20:48:26.100\u001b[0m | \u001b[1mINFO    \u001b[0m | \u001b[36msrc.beam.experiment\u001b[0m:\u001b[36m__init__\u001b[0m:\u001b[36m192\u001b[0m - \u001b[1mbatch_size_eval: None\u001b[0m\n",
      "\u001b[32m2022-06-20 20:48:26.102\u001b[0m | \u001b[1mINFO    \u001b[0m | \u001b[36msrc.beam.experiment\u001b[0m:\u001b[36m__init__\u001b[0m:\u001b[36m192\u001b[0m - \u001b[1mlr_dense: 0.0001\u001b[0m\n",
      "\u001b[32m2022-06-20 20:48:26.103\u001b[0m | \u001b[1mINFO    \u001b[0m | \u001b[36msrc.beam.experiment\u001b[0m:\u001b[36m__init__\u001b[0m:\u001b[36m192\u001b[0m - \u001b[1mlr_sparse: 0.01\u001b[0m\n",
      "\u001b[32m2022-06-20 20:48:26.104\u001b[0m | \u001b[1mINFO    \u001b[0m | \u001b[36msrc.beam.experiment\u001b[0m:\u001b[36m__init__\u001b[0m:\u001b[36m192\u001b[0m - \u001b[1mweight_decay: 0.00256\u001b[0m\n",
      "\u001b[32m2022-06-20 20:48:26.105\u001b[0m | \u001b[1mINFO    \u001b[0m | \u001b[36msrc.beam.experiment\u001b[0m:\u001b[36m__init__\u001b[0m:\u001b[36m192\u001b[0m - \u001b[1meps: 0.0001\u001b[0m\n",
      "\u001b[32m2022-06-20 20:48:26.106\u001b[0m | \u001b[1mINFO    \u001b[0m | \u001b[36msrc.beam.experiment\u001b[0m:\u001b[36m__init__\u001b[0m:\u001b[36m192\u001b[0m - \u001b[1mbeta1: 0.9\u001b[0m\n",
      "\u001b[32m2022-06-20 20:48:26.107\u001b[0m | \u001b[1mINFO    \u001b[0m | \u001b[36msrc.beam.experiment\u001b[0m:\u001b[36m__init__\u001b[0m:\u001b[36m192\u001b[0m - \u001b[1mbeta2: 0.9\u001b[0m\n",
      "\u001b[32m2022-06-20 20:48:26.108\u001b[0m | \u001b[1mINFO    \u001b[0m | \u001b[36msrc.beam.experiment\u001b[0m:\u001b[36m__init__\u001b[0m:\u001b[36m192\u001b[0m - \u001b[1mclip: 0.0\u001b[0m\n",
      "\u001b[32m2022-06-20 20:48:26.109\u001b[0m | \u001b[1mINFO    \u001b[0m | \u001b[36msrc.beam.experiment\u001b[0m:\u001b[36m__init__\u001b[0m:\u001b[36m192\u001b[0m - \u001b[1maccumulate: 1\u001b[0m\n",
      "\u001b[32m2022-06-20 20:48:26.110\u001b[0m | \u001b[1mINFO    \u001b[0m | \u001b[36msrc.beam.experiment\u001b[0m:\u001b[36m__init__\u001b[0m:\u001b[36m192\u001b[0m - \u001b[1mprint_results: True\u001b[0m\n",
      "\u001b[32m2022-06-20 20:48:26.112\u001b[0m | \u001b[1mINFO    \u001b[0m | \u001b[36msrc.beam.experiment\u001b[0m:\u001b[36m__init__\u001b[0m:\u001b[36m192\u001b[0m - \u001b[1mvisualize_weights: True\u001b[0m\n",
      "\u001b[32m2022-06-20 20:48:26.113\u001b[0m | \u001b[1mINFO    \u001b[0m | \u001b[36msrc.beam.experiment\u001b[0m:\u001b[36m__init__\u001b[0m:\u001b[36m192\u001b[0m - \u001b[1menable_tqdm: True\u001b[0m\n",
      "\u001b[32m2022-06-20 20:48:26.114\u001b[0m | \u001b[1mINFO    \u001b[0m | \u001b[36msrc.beam.experiment\u001b[0m:\u001b[36m__init__\u001b[0m:\u001b[36m192\u001b[0m - \u001b[1mvisualize_results: yes\u001b[0m\n",
      "\u001b[32m2022-06-20 20:48:26.115\u001b[0m | \u001b[1mINFO    \u001b[0m | \u001b[36msrc.beam.experiment\u001b[0m:\u001b[36m__init__\u001b[0m:\u001b[36m192\u001b[0m - \u001b[1mstore_results: logscale\u001b[0m\n",
      "\u001b[32m2022-06-20 20:48:26.117\u001b[0m | \u001b[1mINFO    \u001b[0m | \u001b[36msrc.beam.experiment\u001b[0m:\u001b[36m__init__\u001b[0m:\u001b[36m192\u001b[0m - \u001b[1mstore_networks: logscale\u001b[0m\n",
      "\u001b[32m2022-06-20 20:48:26.118\u001b[0m | \u001b[1mINFO    \u001b[0m | \u001b[36msrc.beam.experiment\u001b[0m:\u001b[36m__init__\u001b[0m:\u001b[36m192\u001b[0m - \u001b[1mpath_to_data: /localdata/elads/data/datasets/cifar10\u001b[0m\n",
      "\u001b[32m2022-06-20 20:48:26.119\u001b[0m | \u001b[1mINFO    \u001b[0m | \u001b[36msrc.beam.experiment\u001b[0m:\u001b[36m__init__\u001b[0m:\u001b[36m192\u001b[0m - \u001b[1mgamma: 1.0\u001b[0m\n",
      "\u001b[32m2022-06-20 20:48:26.120\u001b[0m | \u001b[1mINFO    \u001b[0m | \u001b[36msrc.beam.experiment\u001b[0m:\u001b[36m__init__\u001b[0m:\u001b[36m192\u001b[0m - \u001b[1mdropout: 0.0\u001b[0m\n",
      "\u001b[32m2022-06-20 20:48:26.121\u001b[0m | \u001b[1mINFO    \u001b[0m | \u001b[36msrc.beam.experiment\u001b[0m:\u001b[36m__init__\u001b[0m:\u001b[36m192\u001b[0m - \u001b[1mactivation: celu\u001b[0m\n",
      "\u001b[32m2022-06-20 20:48:26.122\u001b[0m | \u001b[1mINFO    \u001b[0m | \u001b[36msrc.beam.experiment\u001b[0m:\u001b[36m__init__\u001b[0m:\u001b[36m192\u001b[0m - \u001b[1mchannels: 512\u001b[0m\n",
      "\u001b[32m2022-06-20 20:48:26.122\u001b[0m | \u001b[1mINFO    \u001b[0m | \u001b[36msrc.beam.experiment\u001b[0m:\u001b[36m__init__\u001b[0m:\u001b[36m192\u001b[0m - \u001b[1mpadding: 4\u001b[0m\n",
      "\u001b[32m2022-06-20 20:48:26.123\u001b[0m | \u001b[1mINFO    \u001b[0m | \u001b[36msrc.beam.experiment\u001b[0m:\u001b[36m__init__\u001b[0m:\u001b[36m192\u001b[0m - \u001b[1mgain: 0.4\u001b[0m\n",
      "\u001b[32m2022-06-20 20:48:26.124\u001b[0m | \u001b[1mINFO    \u001b[0m | \u001b[36msrc.beam.experiment\u001b[0m:\u001b[36m__init__\u001b[0m:\u001b[36m192\u001b[0m - \u001b[1mturn_point: 500\u001b[0m\n",
      "\u001b[32m2022-06-20 20:48:26.125\u001b[0m | \u001b[1mINFO    \u001b[0m | \u001b[36msrc.beam.experiment\u001b[0m:\u001b[36m__init__\u001b[0m:\u001b[36m192\u001b[0m - \u001b[1mfinal_point: 3000\u001b[0m\n",
      "\u001b[32m2022-06-20 20:48:26.126\u001b[0m | \u001b[1mINFO    \u001b[0m | \u001b[36msrc.beam.experiment\u001b[0m:\u001b[36m__init__\u001b[0m:\u001b[36m192\u001b[0m - \u001b[1mminimal_gain: 0.02\u001b[0m\n",
      "\u001b[32m2022-06-20 20:48:26.131\u001b[0m | \u001b[1mINFO    \u001b[0m | \u001b[36msrc.beam.experiment\u001b[0m:\u001b[36m__init__\u001b[0m:\u001b[36m262\u001b[0m - \u001b[1mCreating new experiment\u001b[0m\n",
      "\u001b[32m2022-06-20 20:48:26.132\u001b[0m | \u001b[1mINFO    \u001b[0m | \u001b[36msrc.beam.experiment\u001b[0m:\u001b[36m__init__\u001b[0m:\u001b[36m277\u001b[0m - \u001b[1mExperiment directory is: /localdata/elads/data/cifar10/cifar10/CIFAR10Algorithm/debug/0130_20220620_204826\u001b[0m\n"
     ]
    }
   ],
   "source": [
    "# here you put all actions which are performed only once before initializing the workers\n",
    "# for example, setti`ng running arguments and experiment:\n",
    "\n",
    "args = beam_arguments(f\"--project-name=cifar10 --root-dir={root_dir} --algorithm=CIFAR10Algorithm --device=1 --half --lr-d=1e-4 --batch-size=512\",\n",
    "                      \"--n-epochs=40 --clip=0 --parallel=1 --accumulate=1 --cudnn-benchmark\",\n",
    "                      \"--weight-decay=.00256 --beta1=0.9 --beta2=0.9\", \n",
    "                      path_to_data=path_to_data, gamma=1., dropout=.0, activation='celu', channels=512,\n",
    "                      padding=4, gain=.4, turn_point=500, final_point=3000, minimal_gain=.02)\n",
    "\n",
    "experiment = Experiment(args)"
   ]
  },
  {
   "cell_type": "markdown",
   "id": "80059474-4a4c-4989-96ce-3edcd877a4df",
   "metadata": {},
   "source": [
    "## Train with single or multiple workers"
   ]
  },
  {
   "cell_type": "code",
   "execution_count": 35,
   "id": "4cc43273-649c-402d-8ca1-c5da55ff7f1b",
   "metadata": {
    "tags": []
   },
   "outputs": [
    {
     "name": "stdout",
     "output_type": "stream",
     "text": [
      "\u001b[32m2022-06-20 20:48:28.726\u001b[0m | \u001b[1mINFO    \u001b[0m | \u001b[36msrc.beam.experiment\u001b[0m:\u001b[36mrun\u001b[0m:\u001b[36m554\u001b[0m - \u001b[1mSingle worker mode\u001b[0m\n",
      "\u001b[32m2022-06-20 20:48:28.728\u001b[0m | \u001b[1mINFO    \u001b[0m | \u001b[36msrc.beam.experiment\u001b[0m:\u001b[36mrun_worker\u001b[0m:\u001b[36m48\u001b[0m - \u001b[1mWorker: 1/1 is running...\u001b[0m\n"
     ]
    },
    {
     "data": {
      "application/vnd.jupyter.widget-view+json": {
       "model_id": "1b2674e8d4b54a70b26ff8cbe5b27eef",
       "version_major": 2,
       "version_minor": 0
      },
      "text/plain": [
       "train:   0%|          | 0/73 [00:00<?, ?it/s]"
      ]
     },
     "metadata": {},
     "output_type": "display_data"
    },
    {
     "data": {
      "application/vnd.jupyter.widget-view+json": {
       "model_id": "1de88b914e2d45cd9b1d8aecb107bb7c",
       "version_major": 2,
       "version_minor": 0
      },
      "text/plain": [
       "validation:   0%|          | 0/22 [00:00<?, ?it/s]"
      ]
     },
     "metadata": {},
     "output_type": "display_data"
    },
    {
     "name": "stdout",
     "output_type": "stream",
     "text": [
      "\n",
      "\u001b[32m2022-06-20 20:48:34.585\u001b[0m | \u001b[1mINFO    \u001b[0m | \u001b[36msrc.beam.experiment\u001b[0m:\u001b[36msave_model_results\u001b[0m:\u001b[36m400\u001b[0m - \u001b[1mFinished epoch 1/40:\u001b[0m\n",
      "\u001b[32m2022-06-20 20:48:34.587\u001b[0m | \u001b[1mINFO    \u001b[0m | \u001b[36msrc.beam.experiment\u001b[0m:\u001b[36mlog_data\u001b[0m:\u001b[36m446\u001b[0m - \u001b[1mtrain:\u001b[0m\n",
      "\u001b[32m2022-06-20 20:48:34.588\u001b[0m | \u001b[1mINFO    \u001b[0m | \u001b[36msrc.beam.experiment\u001b[0m:\u001b[36mlog_data\u001b[0m:\u001b[36m450\u001b[0m - \u001b[1mloss 1111.49 \t|\u001b[0m\n",
      "\u001b[32m2022-06-20 20:48:34.589\u001b[0m | \u001b[1mINFO    \u001b[0m | \u001b[36msrc.beam.experiment\u001b[0m:\u001b[36mlog_data\u001b[0m:\u001b[36m450\u001b[0m - \u001b[1macc 0.287377 \t|\u001b[0m\n",
      "\u001b[32m2022-06-20 20:48:34.590\u001b[0m | \u001b[1mINFO    \u001b[0m | \u001b[36msrc.beam.experiment\u001b[0m:\u001b[36mlog_data\u001b[0m:\u001b[36m450\u001b[0m - \u001b[1mlr 5.84e-06 \t|\u001b[0m\n",
      "\u001b[32m2022-06-20 20:48:34.590\u001b[0m | \u001b[1mINFO    \u001b[0m | \u001b[36msrc.beam.experiment\u001b[0m:\u001b[36mlog_data\u001b[0m:\u001b[36m446\u001b[0m - \u001b[1mvalidation:\u001b[0m\n",
      "\u001b[32m2022-06-20 20:48:34.591\u001b[0m | \u001b[1mINFO    \u001b[0m | \u001b[36msrc.beam.experiment\u001b[0m:\u001b[36mlog_data\u001b[0m:\u001b[36m450\u001b[0m - \u001b[1mloss 1039.64 \t|\u001b[0m\n",
      "\u001b[32m2022-06-20 20:48:34.592\u001b[0m | \u001b[1mINFO    \u001b[0m | \u001b[36msrc.beam.experiment\u001b[0m:\u001b[36mlog_data\u001b[0m:\u001b[36m450\u001b[0m - \u001b[1macc 0.362837 \t|\u001b[0m\n"
     ]
    },
    {
     "ename": "RuntimeError",
     "evalue": "[enforce fail at inline_container.cc:300] . unexpected pos 1200384 vs 1200272",
     "output_type": "error",
     "traceback": [
      "\u001b[0;31m---------------------------------------------------------------------------\u001b[0m",
      "\u001b[0;31mKeyboardInterrupt\u001b[0m                         Traceback (most recent call last)",
      "\u001b[0;32m/opt/conda/lib/python3.8/site-packages/torch/serialization.py\u001b[0m in \u001b[0;36msave\u001b[0;34m(obj, f, pickle_module, pickle_protocol, _use_new_zipfile_serialization)\u001b[0m\n\u001b[1;32m    379\u001b[0m             \u001b[0;32mwith\u001b[0m \u001b[0m_open_zipfile_writer\u001b[0m\u001b[0;34m(\u001b[0m\u001b[0mopened_file\u001b[0m\u001b[0;34m)\u001b[0m \u001b[0;32mas\u001b[0m \u001b[0mopened_zipfile\u001b[0m\u001b[0;34m:\u001b[0m\u001b[0;34m\u001b[0m\u001b[0;34m\u001b[0m\u001b[0m\n\u001b[0;32m--> 380\u001b[0;31m                 \u001b[0m_save\u001b[0m\u001b[0;34m(\u001b[0m\u001b[0mobj\u001b[0m\u001b[0;34m,\u001b[0m \u001b[0mopened_zipfile\u001b[0m\u001b[0;34m,\u001b[0m \u001b[0mpickle_module\u001b[0m\u001b[0;34m,\u001b[0m \u001b[0mpickle_protocol\u001b[0m\u001b[0;34m)\u001b[0m\u001b[0;34m\u001b[0m\u001b[0;34m\u001b[0m\u001b[0m\n\u001b[0m\u001b[1;32m    381\u001b[0m                 \u001b[0;32mreturn\u001b[0m\u001b[0;34m\u001b[0m\u001b[0;34m\u001b[0m\u001b[0m\n",
      "\u001b[0;32m/opt/conda/lib/python3.8/site-packages/torch/serialization.py\u001b[0m in \u001b[0;36m_save\u001b[0;34m(obj, zip_file, pickle_module, pickle_protocol)\u001b[0m\n\u001b[1;32m    603\u001b[0m         \u001b[0mnum_bytes\u001b[0m \u001b[0;34m=\u001b[0m \u001b[0mstorage\u001b[0m\u001b[0;34m.\u001b[0m\u001b[0mnbytes\u001b[0m\u001b[0;34m(\u001b[0m\u001b[0;34m)\u001b[0m\u001b[0;34m\u001b[0m\u001b[0;34m\u001b[0m\u001b[0m\n\u001b[0;32m--> 604\u001b[0;31m         \u001b[0mzip_file\u001b[0m\u001b[0;34m.\u001b[0m\u001b[0mwrite_record\u001b[0m\u001b[0;34m(\u001b[0m\u001b[0mname\u001b[0m\u001b[0;34m,\u001b[0m \u001b[0mstorage\u001b[0m\u001b[0;34m.\u001b[0m\u001b[0mdata_ptr\u001b[0m\u001b[0;34m(\u001b[0m\u001b[0;34m)\u001b[0m\u001b[0;34m,\u001b[0m \u001b[0mnum_bytes\u001b[0m\u001b[0;34m)\u001b[0m\u001b[0;34m\u001b[0m\u001b[0;34m\u001b[0m\u001b[0m\n\u001b[0m\u001b[1;32m    605\u001b[0m \u001b[0;34m\u001b[0m\u001b[0m\n",
      "\u001b[0;31mKeyboardInterrupt\u001b[0m: ",
      "\nDuring handling of the above exception, another exception occurred:\n",
      "\u001b[0;31mRuntimeError\u001b[0m                              Traceback (most recent call last)",
      "\u001b[0;32m/tmp/ipykernel_106968/1907668993.py\u001b[0m in \u001b[0;36m<cell line: 1>\u001b[0;34m()\u001b[0m\n\u001b[0;32m----> 1\u001b[0;31m \u001b[0malg\u001b[0m \u001b[0;34m=\u001b[0m \u001b[0mexperiment\u001b[0m\u001b[0;34m(\u001b[0m\u001b[0mcifar10_algorithm_generator\u001b[0m\u001b[0;34m)\u001b[0m\u001b[0;34m\u001b[0m\u001b[0;34m\u001b[0m\u001b[0m\n\u001b[0m",
      "\u001b[0;32m/home/dsi/elads/projects/beamds/notebooks/../src/beam/experiment.py\u001b[0m in \u001b[0;36m__call__\u001b[0;34m(self, algorithm_generator, return_results, reload_results, *args, **kwargs)\u001b[0m\n\u001b[1;32m    492\u001b[0m     \u001b[0;32mdef\u001b[0m \u001b[0m__call__\u001b[0m\u001b[0;34m(\u001b[0m\u001b[0mself\u001b[0m\u001b[0;34m,\u001b[0m \u001b[0malgorithm_generator\u001b[0m\u001b[0;34m,\u001b[0m \u001b[0;34m*\u001b[0m\u001b[0margs\u001b[0m\u001b[0;34m,\u001b[0m \u001b[0mreturn_results\u001b[0m\u001b[0;34m=\u001b[0m\u001b[0;32mFalse\u001b[0m\u001b[0;34m,\u001b[0m \u001b[0mreload_results\u001b[0m\u001b[0;34m=\u001b[0m\u001b[0;32mFalse\u001b[0m\u001b[0;34m,\u001b[0m \u001b[0;34m**\u001b[0m\u001b[0mkwargs\u001b[0m\u001b[0;34m)\u001b[0m\u001b[0;34m:\u001b[0m\u001b[0;34m\u001b[0m\u001b[0;34m\u001b[0m\u001b[0m\n\u001b[1;32m    493\u001b[0m \u001b[0;34m\u001b[0m\u001b[0m\n\u001b[0;32m--> 494\u001b[0;31m         \u001b[0mres\u001b[0m \u001b[0;34m=\u001b[0m \u001b[0mself\u001b[0m\u001b[0;34m.\u001b[0m\u001b[0mrun\u001b[0m\u001b[0;34m(\u001b[0m\u001b[0mdefault_runner\u001b[0m\u001b[0;34m,\u001b[0m \u001b[0;34m*\u001b[0m\u001b[0;34m(\u001b[0m\u001b[0malgorithm_generator\u001b[0m\u001b[0;34m,\u001b[0m \u001b[0mself\u001b[0m\u001b[0;34m,\u001b[0m \u001b[0;34m*\u001b[0m\u001b[0margs\u001b[0m\u001b[0;34m)\u001b[0m\u001b[0;34m,\u001b[0m \u001b[0;34m**\u001b[0m\u001b[0mkwargs\u001b[0m\u001b[0;34m)\u001b[0m\u001b[0;34m\u001b[0m\u001b[0;34m\u001b[0m\u001b[0m\n\u001b[0m\u001b[1;32m    495\u001b[0m \u001b[0;34m\u001b[0m\u001b[0m\n\u001b[1;32m    496\u001b[0m         \u001b[0;32mif\u001b[0m \u001b[0mres\u001b[0m \u001b[0;32mis\u001b[0m \u001b[0;32mNone\u001b[0m \u001b[0;32mor\u001b[0m \u001b[0mself\u001b[0m\u001b[0;34m.\u001b[0m\u001b[0mworld_size\u001b[0m \u001b[0;34m>\u001b[0m \u001b[0;36m1\u001b[0m\u001b[0;34m:\u001b[0m\u001b[0;34m\u001b[0m\u001b[0;34m\u001b[0m\u001b[0m\n",
      "\u001b[0;32m/home/dsi/elads/projects/beamds/notebooks/../src/beam/experiment.py\u001b[0m in \u001b[0;36mrun\u001b[0;34m(self, job, *args, **kwargs)\u001b[0m\n\u001b[1;32m    553\u001b[0m         \u001b[0;32melse\u001b[0m\u001b[0;34m:\u001b[0m\u001b[0;34m\u001b[0m\u001b[0;34m\u001b[0m\u001b[0m\n\u001b[1;32m    554\u001b[0m             \u001b[0mlogger\u001b[0m\u001b[0;34m.\u001b[0m\u001b[0minfo\u001b[0m\u001b[0;34m(\u001b[0m\u001b[0;34mf'Single worker mode'\u001b[0m\u001b[0;34m)\u001b[0m\u001b[0;34m\u001b[0m\u001b[0;34m\u001b[0m\u001b[0m\n\u001b[0;32m--> 555\u001b[0;31m             \u001b[0;32mreturn\u001b[0m \u001b[0mrun_worker\u001b[0m\u001b[0;34m(\u001b[0m\u001b[0;36m0\u001b[0m\u001b[0;34m,\u001b[0m \u001b[0;36m1\u001b[0m\u001b[0;34m,\u001b[0m \u001b[0;32mNone\u001b[0m\u001b[0;34m,\u001b[0m \u001b[0;34m*\u001b[0m\u001b[0marguments\u001b[0m\u001b[0;34m,\u001b[0m \u001b[0;34m**\u001b[0m\u001b[0mkwargs\u001b[0m\u001b[0;34m)\u001b[0m\u001b[0;34m\u001b[0m\u001b[0;34m\u001b[0m\u001b[0m\n\u001b[0m\u001b[1;32m    556\u001b[0m \u001b[0;34m\u001b[0m\u001b[0m\n\u001b[1;32m    557\u001b[0m     \u001b[0;32mdef\u001b[0m \u001b[0m__enter__\u001b[0m\u001b[0;34m(\u001b[0m\u001b[0mself\u001b[0m\u001b[0;34m)\u001b[0m\u001b[0;34m:\u001b[0m\u001b[0;34m\u001b[0m\u001b[0;34m\u001b[0m\u001b[0m\n",
      "\u001b[0;32m/home/dsi/elads/projects/beamds/notebooks/../src/beam/experiment.py\u001b[0m in \u001b[0;36mrun_worker\u001b[0;34m(rank, world_size, results_queue, job, experiment, *args)\u001b[0m\n\u001b[1;32m     54\u001b[0m     \u001b[0mset_seed\u001b[0m\u001b[0;34m(\u001b[0m\u001b[0mseed\u001b[0m\u001b[0;34m=\u001b[0m\u001b[0mexperiment\u001b[0m\u001b[0;34m.\u001b[0m\u001b[0mseed\u001b[0m\u001b[0;34m,\u001b[0m \u001b[0mconstant\u001b[0m\u001b[0;34m=\u001b[0m\u001b[0mrank\u001b[0m\u001b[0;34m,\u001b[0m \u001b[0mincrement\u001b[0m\u001b[0;34m=\u001b[0m\u001b[0;32mFalse\u001b[0m\u001b[0;34m,\u001b[0m \u001b[0mdeterministic\u001b[0m\u001b[0;34m=\u001b[0m\u001b[0mexperiment\u001b[0m\u001b[0;34m.\u001b[0m\u001b[0mdeterministic\u001b[0m\u001b[0;34m)\u001b[0m\u001b[0;34m\u001b[0m\u001b[0;34m\u001b[0m\u001b[0m\n\u001b[1;32m     55\u001b[0m \u001b[0;34m\u001b[0m\u001b[0m\n\u001b[0;32m---> 56\u001b[0;31m     \u001b[0mres\u001b[0m \u001b[0;34m=\u001b[0m \u001b[0mjob\u001b[0m\u001b[0;34m(\u001b[0m\u001b[0mrank\u001b[0m\u001b[0;34m,\u001b[0m \u001b[0mworld_size\u001b[0m\u001b[0;34m,\u001b[0m \u001b[0mexperiment\u001b[0m\u001b[0;34m,\u001b[0m \u001b[0;34m*\u001b[0m\u001b[0margs\u001b[0m\u001b[0;34m)\u001b[0m\u001b[0;34m\u001b[0m\u001b[0;34m\u001b[0m\u001b[0m\n\u001b[0m\u001b[1;32m     57\u001b[0m \u001b[0;34m\u001b[0m\u001b[0m\n\u001b[1;32m     58\u001b[0m     \u001b[0;32mif\u001b[0m \u001b[0mworld_size\u001b[0m \u001b[0;34m>\u001b[0m \u001b[0;36m1\u001b[0m\u001b[0;34m:\u001b[0m\u001b[0;34m\u001b[0m\u001b[0;34m\u001b[0m\u001b[0m\n",
      "\u001b[0;32m/home/dsi/elads/projects/beamds/notebooks/../src/beam/experiment.py\u001b[0m in \u001b[0;36mdefault_runner\u001b[0;34m(rank, world_size, experiment, algorithm_generator, *args, **kwargs)\u001b[0m\n\u001b[1;32m     33\u001b[0m     \u001b[0mexperiment\u001b[0m\u001b[0;34m.\u001b[0m\u001b[0mwriter_control\u001b[0m\u001b[0;34m(\u001b[0m\u001b[0menable\u001b[0m\u001b[0;34m=\u001b[0m\u001b[0;32mnot\u001b[0m \u001b[0;34m(\u001b[0m\u001b[0mbool\u001b[0m\u001b[0;34m(\u001b[0m\u001b[0mrank\u001b[0m\u001b[0;34m)\u001b[0m\u001b[0;34m)\u001b[0m\u001b[0;34m)\u001b[0m\u001b[0;34m\u001b[0m\u001b[0;34m\u001b[0m\u001b[0m\n\u001b[1;32m     34\u001b[0m     \u001b[0;32mfor\u001b[0m \u001b[0mresults\u001b[0m \u001b[0;32min\u001b[0m \u001b[0miter\u001b[0m\u001b[0;34m(\u001b[0m\u001b[0malg\u001b[0m\u001b[0;34m)\u001b[0m\u001b[0;34m:\u001b[0m\u001b[0;34m\u001b[0m\u001b[0;34m\u001b[0m\u001b[0m\n\u001b[0;32m---> 35\u001b[0;31m         experiment.save_model_results(results, alg,\n\u001b[0m\u001b[1;32m     36\u001b[0m                                       \u001b[0mprint_results\u001b[0m\u001b[0;34m=\u001b[0m\u001b[0mexperiment\u001b[0m\u001b[0;34m.\u001b[0m\u001b[0mprint_results\u001b[0m\u001b[0;34m,\u001b[0m\u001b[0;34m\u001b[0m\u001b[0;34m\u001b[0m\u001b[0m\n\u001b[1;32m     37\u001b[0m                                       \u001b[0mvisualize_results\u001b[0m\u001b[0;34m=\u001b[0m\u001b[0mexperiment\u001b[0m\u001b[0;34m.\u001b[0m\u001b[0mvisualize_results\u001b[0m\u001b[0;34m,\u001b[0m\u001b[0;34m\u001b[0m\u001b[0;34m\u001b[0m\u001b[0m\n",
      "\u001b[0;32m/home/dsi/elads/projects/beamds/notebooks/../src/beam/experiment.py\u001b[0m in \u001b[0;36msave_model_results\u001b[0;34m(self, results, algorithm, visualize_results, store_results, store_networks, print_results, visualize_weights, argv)\u001b[0m\n\u001b[1;32m    414\u001b[0m \u001b[0;34m\u001b[0m\u001b[0m\n\u001b[1;32m    415\u001b[0m             \u001b[0mcheckpoint_file\u001b[0m \u001b[0;34m=\u001b[0m \u001b[0mos\u001b[0m\u001b[0;34m.\u001b[0m\u001b[0mpath\u001b[0m\u001b[0;34m.\u001b[0m\u001b[0mjoin\u001b[0m\u001b[0;34m(\u001b[0m\u001b[0mself\u001b[0m\u001b[0;34m.\u001b[0m\u001b[0mcheckpoints_dir\u001b[0m\u001b[0;34m,\u001b[0m \u001b[0;34mf'checkpoint_{self.epoch:06d}'\u001b[0m\u001b[0;34m)\u001b[0m\u001b[0;34m\u001b[0m\u001b[0;34m\u001b[0m\u001b[0m\n\u001b[0;32m--> 416\u001b[0;31m             \u001b[0malgorithm\u001b[0m\u001b[0;34m.\u001b[0m\u001b[0msave_checkpoint\u001b[0m\u001b[0;34m(\u001b[0m\u001b[0mcheckpoint_file\u001b[0m\u001b[0;34m)\u001b[0m\u001b[0;34m\u001b[0m\u001b[0;34m\u001b[0m\u001b[0m\n\u001b[0m\u001b[1;32m    417\u001b[0m \u001b[0;34m\u001b[0m\u001b[0m\n\u001b[1;32m    418\u001b[0m             \u001b[0;32mif\u001b[0m \u001b[0mstore_networks\u001b[0m \u001b[0;34m==\u001b[0m \u001b[0;34m'no'\u001b[0m \u001b[0;32mor\u001b[0m \u001b[0mstore_networks\u001b[0m \u001b[0;34m==\u001b[0m \u001b[0;34m'logscale'\u001b[0m \u001b[0;32mand\u001b[0m \u001b[0;32mnot\u001b[0m \u001b[0mlogscale\u001b[0m\u001b[0;34m:\u001b[0m\u001b[0;34m\u001b[0m\u001b[0;34m\u001b[0m\u001b[0m\n",
      "\u001b[0;32m/home/dsi/elads/projects/beamds/notebooks/../src/beam/algorithm.py\u001b[0m in \u001b[0;36msave_checkpoint\u001b[0;34m(self, path, aux, pickle_model)\u001b[0m\n\u001b[1;32m    342\u001b[0m \u001b[0;34m\u001b[0m\u001b[0m\n\u001b[1;32m    343\u001b[0m         \u001b[0;32mif\u001b[0m \u001b[0mpath\u001b[0m \u001b[0;32mis\u001b[0m \u001b[0;32mnot\u001b[0m \u001b[0;32mNone\u001b[0m\u001b[0;34m:\u001b[0m\u001b[0;34m\u001b[0m\u001b[0;34m\u001b[0m\u001b[0m\n\u001b[0;32m--> 344\u001b[0;31m             \u001b[0mtorch\u001b[0m\u001b[0;34m.\u001b[0m\u001b[0msave\u001b[0m\u001b[0;34m(\u001b[0m\u001b[0mstate\u001b[0m\u001b[0;34m,\u001b[0m \u001b[0mpath\u001b[0m\u001b[0;34m)\u001b[0m\u001b[0;34m\u001b[0m\u001b[0;34m\u001b[0m\u001b[0m\n\u001b[0m\u001b[1;32m    345\u001b[0m         \u001b[0;32melse\u001b[0m\u001b[0;34m:\u001b[0m\u001b[0;34m\u001b[0m\u001b[0;34m\u001b[0m\u001b[0m\n\u001b[1;32m    346\u001b[0m             \u001b[0;32mreturn\u001b[0m \u001b[0mstate\u001b[0m\u001b[0;34m\u001b[0m\u001b[0;34m\u001b[0m\u001b[0m\n",
      "\u001b[0;32m/opt/conda/lib/python3.8/site-packages/torch/serialization.py\u001b[0m in \u001b[0;36msave\u001b[0;34m(obj, f, pickle_module, pickle_protocol, _use_new_zipfile_serialization)\u001b[0m\n\u001b[1;32m    379\u001b[0m             \u001b[0;32mwith\u001b[0m \u001b[0m_open_zipfile_writer\u001b[0m\u001b[0;34m(\u001b[0m\u001b[0mopened_file\u001b[0m\u001b[0;34m)\u001b[0m \u001b[0;32mas\u001b[0m \u001b[0mopened_zipfile\u001b[0m\u001b[0;34m:\u001b[0m\u001b[0;34m\u001b[0m\u001b[0;34m\u001b[0m\u001b[0m\n\u001b[1;32m    380\u001b[0m                 \u001b[0m_save\u001b[0m\u001b[0;34m(\u001b[0m\u001b[0mobj\u001b[0m\u001b[0;34m,\u001b[0m \u001b[0mopened_zipfile\u001b[0m\u001b[0;34m,\u001b[0m \u001b[0mpickle_module\u001b[0m\u001b[0;34m,\u001b[0m \u001b[0mpickle_protocol\u001b[0m\u001b[0;34m)\u001b[0m\u001b[0;34m\u001b[0m\u001b[0;34m\u001b[0m\u001b[0m\n\u001b[0;32m--> 381\u001b[0;31m                 \u001b[0;32mreturn\u001b[0m\u001b[0;34m\u001b[0m\u001b[0;34m\u001b[0m\u001b[0m\n\u001b[0m\u001b[1;32m    382\u001b[0m         \u001b[0m_legacy_save\u001b[0m\u001b[0;34m(\u001b[0m\u001b[0mobj\u001b[0m\u001b[0;34m,\u001b[0m \u001b[0mopened_file\u001b[0m\u001b[0;34m,\u001b[0m \u001b[0mpickle_module\u001b[0m\u001b[0;34m,\u001b[0m \u001b[0mpickle_protocol\u001b[0m\u001b[0;34m)\u001b[0m\u001b[0;34m\u001b[0m\u001b[0;34m\u001b[0m\u001b[0m\n\u001b[1;32m    383\u001b[0m \u001b[0;34m\u001b[0m\u001b[0m\n",
      "\u001b[0;32m/opt/conda/lib/python3.8/site-packages/torch/serialization.py\u001b[0m in \u001b[0;36m__exit__\u001b[0;34m(self, *args)\u001b[0m\n\u001b[1;32m    258\u001b[0m \u001b[0;34m\u001b[0m\u001b[0m\n\u001b[1;32m    259\u001b[0m     \u001b[0;32mdef\u001b[0m \u001b[0m__exit__\u001b[0m\u001b[0;34m(\u001b[0m\u001b[0mself\u001b[0m\u001b[0;34m,\u001b[0m \u001b[0;34m*\u001b[0m\u001b[0margs\u001b[0m\u001b[0;34m)\u001b[0m \u001b[0;34m->\u001b[0m \u001b[0;32mNone\u001b[0m\u001b[0;34m:\u001b[0m\u001b[0;34m\u001b[0m\u001b[0;34m\u001b[0m\u001b[0m\n\u001b[0;32m--> 260\u001b[0;31m         \u001b[0mself\u001b[0m\u001b[0;34m.\u001b[0m\u001b[0mfile_like\u001b[0m\u001b[0;34m.\u001b[0m\u001b[0mwrite_end_of_file\u001b[0m\u001b[0;34m(\u001b[0m\u001b[0;34m)\u001b[0m\u001b[0;34m\u001b[0m\u001b[0;34m\u001b[0m\u001b[0m\n\u001b[0m\u001b[1;32m    261\u001b[0m         \u001b[0mself\u001b[0m\u001b[0;34m.\u001b[0m\u001b[0mbuffer\u001b[0m\u001b[0;34m.\u001b[0m\u001b[0mflush\u001b[0m\u001b[0;34m(\u001b[0m\u001b[0;34m)\u001b[0m\u001b[0;34m\u001b[0m\u001b[0;34m\u001b[0m\u001b[0m\n\u001b[1;32m    262\u001b[0m \u001b[0;34m\u001b[0m\u001b[0m\n",
      "\u001b[0;31mRuntimeError\u001b[0m: [enforce fail at inline_container.cc:300] . unexpected pos 1200384 vs 1200272"
     ]
    }
   ],
   "source": [
    "alg = experiment(cifar10_algorithm_generator)"
   ]
  },
  {
   "cell_type": "code",
   "execution_count": 29,
   "id": "a1018386-8b16-48a5-954b-74bc0ddad5d4",
   "metadata": {},
   "outputs": [
    {
     "data": {
      "application/vnd.jupyter.widget-view+json": {
       "model_id": "e0c9023730e24fb79e691f4ef6c09de9",
       "version_major": 2,
       "version_minor": 0
      },
      "text/plain": [
       "test:   0%|          | 0/20 [00:00<?, ?it/s]"
      ]
     },
     "metadata": {},
     "output_type": "display_data"
    },
    {
     "data": {
      "text/plain": [
       "0.9014935672283173"
      ]
     },
     "execution_count": 29,
     "metadata": {},
     "output_type": "execute_result"
    }
   ],
   "source": [
    "np.mean(alg.evaluate('test')['scalar']['acc'])"
   ]
  },
  {
   "cell_type": "markdown",
   "id": "3532ab07-ec57-4c84-a7cc-e53194c06906",
   "metadata": {},
   "source": [
    "## Hyperparameter search with native optuna"
   ]
  },
  {
   "cell_type": "code",
   "execution_count": null,
   "id": "3a55d5ea-d43e-4c8a-82df-ba7393f5e5cd",
   "metadata": {},
   "outputs": [],
   "source": [
    "args = beam_arguments(f\"--project-name=cifar10 --root-dir={root_dir} --algorithm=CIFAR10Algorithm --device=1 --half --lr-d=1e-4 --batch-size=512\",\n",
    "                      \"--n-epochs=40 --epoch-length-train=50000 --epoch-length-eval=10000 --clip=0 --parallel=1 --accumulate=1 --cudnn-benchmark\",\n",
    "                      \"--weight-decay=.00256 --beta1=0.9 --beta2=0.9\", \n",
    "                      path_to_data=path_to_data, gamma=1., dropout=.0, activation='celu', channels=512,\n",
    "                      scale_down=.7, scale_up=1.4, ratio_down=.7, ratio_up=1.4)\n",
    "\n",
    "study = Study(cifar10_algorithm_generator, args)"
   ]
  },
  {
   "cell_type": "code",
   "execution_count": 14,
   "id": "a0e58cf5-4ced-48eb-93cd-ca2f427e0dc6",
   "metadata": {},
   "outputs": [],
   "source": [
    "def suggest(trial):\n",
    "    lr = trial.suggest_loguniform(\"lr\", 1e-3, 2e-2)\n",
    "    print('My suggestion')\n",
    "    print(lr)\n",
    "    return {'lr_dense': lr}\n",
    "    "
   ]
  },
  {
   "cell_type": "code",
   "execution_count": 15,
   "id": "f3a4ff8d-fb63-41d7-ba63-69cde55080ce",
   "metadata": {
    "tags": []
   },
   "outputs": [
    {
     "name": "stderr",
     "output_type": "stream",
     "text": [
      "\u001b[32m[I 2022-06-20 08:46:21,221]\u001b[0m A new study created in memory with name: cifar10/CIFAR10Algorithm/debug_hp_optimization_20220620_084618\u001b[0m\n"
     ]
    },
    {
     "name": "stdout",
     "output_type": "stream",
     "text": [
      "My suggestion\n",
      "0.009781018192999246\n",
      "\u001b[32m2022-06-20 08:46:21.224\u001b[0m | \u001b[1mINFO    \u001b[0m | \u001b[36msrc.beam.experiment\u001b[0m:\u001b[36mrunner_optuna\u001b[0m:\u001b[36m114\u001b[0m - \u001b[1mNext Hyperparameter suggestion:\u001b[0m\n",
      "\u001b[32m2022-06-20 08:46:21.225\u001b[0m | \u001b[1mINFO    \u001b[0m | \u001b[36msrc.beam.experiment\u001b[0m:\u001b[36mrunner_optuna\u001b[0m:\u001b[36m116\u001b[0m - \u001b[1mlr_dense: 0.009781018192999246\u001b[0m\n",
      "\u001b[32m2022-06-20 08:46:21.229\u001b[0m | \u001b[1mINFO    \u001b[0m | \u001b[36msrc.beam.experiment\u001b[0m:\u001b[36m__init__\u001b[0m:\u001b[36m262\u001b[0m - \u001b[1mCreating new experiment\u001b[0m\n",
      "\u001b[32m2022-06-20 08:46:21.229\u001b[0m | \u001b[1mINFO    \u001b[0m | \u001b[36msrc.beam.experiment\u001b[0m:\u001b[36m__init__\u001b[0m:\u001b[36m277\u001b[0m - \u001b[1mExperiment directory is: /home/shared/data/results/cifar10/cifar10/CIFAR10Algorithm/debug_hp_optimization_20220620_084618/0000_20220620_084621\u001b[0m\n",
      "\u001b[32m2022-06-20 08:46:21.239\u001b[0m | \u001b[1mINFO    \u001b[0m | \u001b[36msrc.beam.experiment\u001b[0m:\u001b[36mrun\u001b[0m:\u001b[36m554\u001b[0m - \u001b[1mSingle worker mode\u001b[0m\n",
      "\u001b[32m2022-06-20 08:46:21.240\u001b[0m | \u001b[1mINFO    \u001b[0m | \u001b[36msrc.beam.experiment\u001b[0m:\u001b[36mrun_worker\u001b[0m:\u001b[36m48\u001b[0m - \u001b[1mWorker: 1/1 is running...\u001b[0m\n",
      "0.08\n",
      "0.16\n",
      "0.24\n",
      "0.32\n",
      "0.4\n",
      "0.38857142857142857\n",
      "0.37714285714285717\n",
      "0.3657142857142857\n",
      "0.3542857142857143\n",
      "0.34285714285714286\n",
      "0.33142857142857146\n",
      "0.32\n",
      "0.3085714285714286\n"
     ]
    },
    {
     "ename": "KeyboardInterrupt",
     "evalue": "",
     "output_type": "error",
     "traceback": [
      "\u001b[0;31m---------------------------------------------------------------------------\u001b[0m",
      "\u001b[0;31mKeyboardInterrupt\u001b[0m                         Traceback (most recent call last)",
      "\u001b[0;32m/tmp/ipykernel_20636/186816704.py\u001b[0m in \u001b[0;36m<cell line: 1>\u001b[0;34m()\u001b[0m\n\u001b[0;32m----> 1\u001b[0;31m \u001b[0mstudy\u001b[0m\u001b[0;34m.\u001b[0m\u001b[0moptuna\u001b[0m\u001b[0;34m(\u001b[0m\u001b[0msuggest\u001b[0m\u001b[0;34m,\u001b[0m \u001b[0mdirection\u001b[0m\u001b[0;34m=\u001b[0m\u001b[0;34m'maximize'\u001b[0m\u001b[0;34m,\u001b[0m \u001b[0mn_jobs\u001b[0m\u001b[0;34m=\u001b[0m\u001b[0;36m1\u001b[0m\u001b[0;34m,\u001b[0m \u001b[0mn_trials\u001b[0m\u001b[0;34m=\u001b[0m\u001b[0;36m10\u001b[0m\u001b[0;34m)\u001b[0m\u001b[0;34m\u001b[0m\u001b[0;34m\u001b[0m\u001b[0m\n\u001b[0m",
      "\u001b[0;32m/home/elad/docker/beamds/notebooks/../src/beam/experiment.py\u001b[0m in \u001b[0;36moptuna\u001b[0;34m(self, suggest, storage, sampler, pruner, study_name, direction, load_if_exists, directions, *args, **kwargs)\u001b[0m\n\u001b[1;32m    148\u001b[0m         study = optuna.create_study(storage=storage, sampler=sampler, pruner=pruner, study_name=study_name,\n\u001b[1;32m    149\u001b[0m                                     direction=direction, load_if_exists=load_if_exists, directions=directions)\n\u001b[0;32m--> 150\u001b[0;31m         \u001b[0mstudy\u001b[0m\u001b[0;34m.\u001b[0m\u001b[0moptimize\u001b[0m\u001b[0;34m(\u001b[0m\u001b[0mrunner\u001b[0m\u001b[0;34m,\u001b[0m \u001b[0;34m*\u001b[0m\u001b[0margs\u001b[0m\u001b[0;34m,\u001b[0m \u001b[0;34m**\u001b[0m\u001b[0mkwargs\u001b[0m\u001b[0;34m)\u001b[0m\u001b[0;34m\u001b[0m\u001b[0;34m\u001b[0m\u001b[0m\n\u001b[0m\u001b[1;32m    151\u001b[0m \u001b[0;34m\u001b[0m\u001b[0m\n\u001b[1;32m    152\u001b[0m         \u001b[0;32mreturn\u001b[0m \u001b[0mstudy\u001b[0m\u001b[0;34m\u001b[0m\u001b[0;34m\u001b[0m\u001b[0m\n",
      "\u001b[0;32m/opt/conda/lib/python3.8/site-packages/optuna/study/study.py\u001b[0m in \u001b[0;36moptimize\u001b[0;34m(self, func, n_trials, timeout, n_jobs, catch, callbacks, gc_after_trial, show_progress_bar)\u001b[0m\n\u001b[1;32m    398\u001b[0m             )\n\u001b[1;32m    399\u001b[0m \u001b[0;34m\u001b[0m\u001b[0m\n\u001b[0;32m--> 400\u001b[0;31m         _optimize(\n\u001b[0m\u001b[1;32m    401\u001b[0m             \u001b[0mstudy\u001b[0m\u001b[0;34m=\u001b[0m\u001b[0mself\u001b[0m\u001b[0;34m,\u001b[0m\u001b[0;34m\u001b[0m\u001b[0;34m\u001b[0m\u001b[0m\n\u001b[1;32m    402\u001b[0m             \u001b[0mfunc\u001b[0m\u001b[0;34m=\u001b[0m\u001b[0mfunc\u001b[0m\u001b[0;34m,\u001b[0m\u001b[0;34m\u001b[0m\u001b[0;34m\u001b[0m\u001b[0m\n",
      "\u001b[0;32m/opt/conda/lib/python3.8/site-packages/optuna/study/_optimize.py\u001b[0m in \u001b[0;36m_optimize\u001b[0;34m(study, func, n_trials, timeout, n_jobs, catch, callbacks, gc_after_trial, show_progress_bar)\u001b[0m\n\u001b[1;32m     64\u001b[0m     \u001b[0;32mtry\u001b[0m\u001b[0;34m:\u001b[0m\u001b[0;34m\u001b[0m\u001b[0;34m\u001b[0m\u001b[0m\n\u001b[1;32m     65\u001b[0m         \u001b[0;32mif\u001b[0m \u001b[0mn_jobs\u001b[0m \u001b[0;34m==\u001b[0m \u001b[0;36m1\u001b[0m\u001b[0;34m:\u001b[0m\u001b[0;34m\u001b[0m\u001b[0;34m\u001b[0m\u001b[0m\n\u001b[0;32m---> 66\u001b[0;31m             _optimize_sequential(\n\u001b[0m\u001b[1;32m     67\u001b[0m                 \u001b[0mstudy\u001b[0m\u001b[0;34m,\u001b[0m\u001b[0;34m\u001b[0m\u001b[0;34m\u001b[0m\u001b[0m\n\u001b[1;32m     68\u001b[0m                 \u001b[0mfunc\u001b[0m\u001b[0;34m,\u001b[0m\u001b[0;34m\u001b[0m\u001b[0;34m\u001b[0m\u001b[0m\n",
      "\u001b[0;32m/opt/conda/lib/python3.8/site-packages/optuna/study/_optimize.py\u001b[0m in \u001b[0;36m_optimize_sequential\u001b[0;34m(study, func, n_trials, timeout, catch, callbacks, gc_after_trial, reseed_sampler_rng, time_start, progress_bar)\u001b[0m\n\u001b[1;32m    161\u001b[0m \u001b[0;34m\u001b[0m\u001b[0m\n\u001b[1;32m    162\u001b[0m         \u001b[0;32mtry\u001b[0m\u001b[0;34m:\u001b[0m\u001b[0;34m\u001b[0m\u001b[0;34m\u001b[0m\u001b[0m\n\u001b[0;32m--> 163\u001b[0;31m             \u001b[0mtrial\u001b[0m \u001b[0;34m=\u001b[0m \u001b[0m_run_trial\u001b[0m\u001b[0;34m(\u001b[0m\u001b[0mstudy\u001b[0m\u001b[0;34m,\u001b[0m \u001b[0mfunc\u001b[0m\u001b[0;34m,\u001b[0m \u001b[0mcatch\u001b[0m\u001b[0;34m)\u001b[0m\u001b[0;34m\u001b[0m\u001b[0;34m\u001b[0m\u001b[0m\n\u001b[0m\u001b[1;32m    164\u001b[0m         \u001b[0;32mexcept\u001b[0m \u001b[0mException\u001b[0m\u001b[0;34m:\u001b[0m\u001b[0;34m\u001b[0m\u001b[0;34m\u001b[0m\u001b[0m\n\u001b[1;32m    165\u001b[0m             \u001b[0;32mraise\u001b[0m\u001b[0;34m\u001b[0m\u001b[0;34m\u001b[0m\u001b[0m\n",
      "\u001b[0;32m/opt/conda/lib/python3.8/site-packages/optuna/study/_optimize.py\u001b[0m in \u001b[0;36m_run_trial\u001b[0;34m(study, func, catch)\u001b[0m\n\u001b[1;32m    211\u001b[0m \u001b[0;34m\u001b[0m\u001b[0m\n\u001b[1;32m    212\u001b[0m     \u001b[0;32mtry\u001b[0m\u001b[0;34m:\u001b[0m\u001b[0;34m\u001b[0m\u001b[0;34m\u001b[0m\u001b[0m\n\u001b[0;32m--> 213\u001b[0;31m         \u001b[0mvalue_or_values\u001b[0m \u001b[0;34m=\u001b[0m \u001b[0mfunc\u001b[0m\u001b[0;34m(\u001b[0m\u001b[0mtrial\u001b[0m\u001b[0;34m)\u001b[0m\u001b[0;34m\u001b[0m\u001b[0;34m\u001b[0m\u001b[0m\n\u001b[0m\u001b[1;32m    214\u001b[0m     \u001b[0;32mexcept\u001b[0m \u001b[0mexceptions\u001b[0m\u001b[0;34m.\u001b[0m\u001b[0mTrialPruned\u001b[0m \u001b[0;32mas\u001b[0m \u001b[0me\u001b[0m\u001b[0;34m:\u001b[0m\u001b[0;34m\u001b[0m\u001b[0;34m\u001b[0m\u001b[0m\n\u001b[1;32m    215\u001b[0m         \u001b[0;31m# TODO(mamu): Handle multi-objective cases.\u001b[0m\u001b[0;34m\u001b[0m\u001b[0;34m\u001b[0m\u001b[0;34m\u001b[0m\u001b[0m\n",
      "\u001b[0;32m/home/elad/docker/beamds/notebooks/../src/beam/experiment.py\u001b[0m in \u001b[0;36mrunner_optuna\u001b[0;34m(self, trial, suggest)\u001b[0m\n\u001b[1;32m    123\u001b[0m         experiment = Experiment(args, hpo='optuna', results_names='objective',\n\u001b[1;32m    124\u001b[0m                                 trial=trial, print_hyperparameters=False)\n\u001b[0;32m--> 125\u001b[0;31m         \u001b[0malg\u001b[0m\u001b[0;34m,\u001b[0m \u001b[0mresults\u001b[0m \u001b[0;34m=\u001b[0m \u001b[0mexperiment\u001b[0m\u001b[0;34m(\u001b[0m\u001b[0mself\u001b[0m\u001b[0;34m.\u001b[0m\u001b[0mag\u001b[0m\u001b[0;34m,\u001b[0m \u001b[0mreturn_results\u001b[0m\u001b[0;34m=\u001b[0m\u001b[0;32mTrue\u001b[0m\u001b[0;34m)\u001b[0m\u001b[0;34m\u001b[0m\u001b[0;34m\u001b[0m\u001b[0m\n\u001b[0m\u001b[1;32m    126\u001b[0m \u001b[0;34m\u001b[0m\u001b[0m\n\u001b[1;32m    127\u001b[0m         \u001b[0;32mif\u001b[0m \u001b[0;34m'objective'\u001b[0m \u001b[0;32min\u001b[0m \u001b[0mresults\u001b[0m\u001b[0;34m:\u001b[0m\u001b[0;34m\u001b[0m\u001b[0;34m\u001b[0m\u001b[0m\n",
      "\u001b[0;32m/home/elad/docker/beamds/notebooks/../src/beam/experiment.py\u001b[0m in \u001b[0;36m__call__\u001b[0;34m(self, algorithm_generator, return_results, reload_results, *args, **kwargs)\u001b[0m\n\u001b[1;32m    492\u001b[0m     \u001b[0;32mdef\u001b[0m \u001b[0m__call__\u001b[0m\u001b[0;34m(\u001b[0m\u001b[0mself\u001b[0m\u001b[0;34m,\u001b[0m \u001b[0malgorithm_generator\u001b[0m\u001b[0;34m,\u001b[0m \u001b[0;34m*\u001b[0m\u001b[0margs\u001b[0m\u001b[0;34m,\u001b[0m \u001b[0mreturn_results\u001b[0m\u001b[0;34m=\u001b[0m\u001b[0;32mFalse\u001b[0m\u001b[0;34m,\u001b[0m \u001b[0mreload_results\u001b[0m\u001b[0;34m=\u001b[0m\u001b[0;32mFalse\u001b[0m\u001b[0;34m,\u001b[0m \u001b[0;34m**\u001b[0m\u001b[0mkwargs\u001b[0m\u001b[0;34m)\u001b[0m\u001b[0;34m:\u001b[0m\u001b[0;34m\u001b[0m\u001b[0;34m\u001b[0m\u001b[0m\n\u001b[1;32m    493\u001b[0m \u001b[0;34m\u001b[0m\u001b[0m\n\u001b[0;32m--> 494\u001b[0;31m         \u001b[0mres\u001b[0m \u001b[0;34m=\u001b[0m \u001b[0mself\u001b[0m\u001b[0;34m.\u001b[0m\u001b[0mrun\u001b[0m\u001b[0;34m(\u001b[0m\u001b[0mdefault_runner\u001b[0m\u001b[0;34m,\u001b[0m \u001b[0;34m*\u001b[0m\u001b[0;34m(\u001b[0m\u001b[0malgorithm_generator\u001b[0m\u001b[0;34m,\u001b[0m \u001b[0mself\u001b[0m\u001b[0;34m,\u001b[0m \u001b[0;34m*\u001b[0m\u001b[0margs\u001b[0m\u001b[0;34m)\u001b[0m\u001b[0;34m,\u001b[0m \u001b[0;34m**\u001b[0m\u001b[0mkwargs\u001b[0m\u001b[0;34m)\u001b[0m\u001b[0;34m\u001b[0m\u001b[0;34m\u001b[0m\u001b[0m\n\u001b[0m\u001b[1;32m    495\u001b[0m \u001b[0;34m\u001b[0m\u001b[0m\n\u001b[1;32m    496\u001b[0m         \u001b[0;32mif\u001b[0m \u001b[0mres\u001b[0m \u001b[0;32mis\u001b[0m \u001b[0;32mNone\u001b[0m \u001b[0;32mor\u001b[0m \u001b[0mself\u001b[0m\u001b[0;34m.\u001b[0m\u001b[0mworld_size\u001b[0m \u001b[0;34m>\u001b[0m \u001b[0;36m1\u001b[0m\u001b[0;34m:\u001b[0m\u001b[0;34m\u001b[0m\u001b[0;34m\u001b[0m\u001b[0m\n",
      "\u001b[0;32m/home/elad/docker/beamds/notebooks/../src/beam/experiment.py\u001b[0m in \u001b[0;36mrun\u001b[0;34m(self, job, *args, **kwargs)\u001b[0m\n\u001b[1;32m    553\u001b[0m         \u001b[0;32melse\u001b[0m\u001b[0;34m:\u001b[0m\u001b[0;34m\u001b[0m\u001b[0;34m\u001b[0m\u001b[0m\n\u001b[1;32m    554\u001b[0m             \u001b[0mlogger\u001b[0m\u001b[0;34m.\u001b[0m\u001b[0minfo\u001b[0m\u001b[0;34m(\u001b[0m\u001b[0;34mf'Single worker mode'\u001b[0m\u001b[0;34m)\u001b[0m\u001b[0;34m\u001b[0m\u001b[0;34m\u001b[0m\u001b[0m\n\u001b[0;32m--> 555\u001b[0;31m             \u001b[0;32mreturn\u001b[0m \u001b[0mrun_worker\u001b[0m\u001b[0;34m(\u001b[0m\u001b[0;36m0\u001b[0m\u001b[0;34m,\u001b[0m \u001b[0;36m1\u001b[0m\u001b[0;34m,\u001b[0m \u001b[0;32mNone\u001b[0m\u001b[0;34m,\u001b[0m \u001b[0;34m*\u001b[0m\u001b[0marguments\u001b[0m\u001b[0;34m,\u001b[0m \u001b[0;34m**\u001b[0m\u001b[0mkwargs\u001b[0m\u001b[0;34m)\u001b[0m\u001b[0;34m\u001b[0m\u001b[0;34m\u001b[0m\u001b[0m\n\u001b[0m\u001b[1;32m    556\u001b[0m \u001b[0;34m\u001b[0m\u001b[0m\n\u001b[1;32m    557\u001b[0m     \u001b[0;32mdef\u001b[0m \u001b[0m__enter__\u001b[0m\u001b[0;34m(\u001b[0m\u001b[0mself\u001b[0m\u001b[0;34m)\u001b[0m\u001b[0;34m:\u001b[0m\u001b[0;34m\u001b[0m\u001b[0;34m\u001b[0m\u001b[0m\n",
      "\u001b[0;32m/home/elad/docker/beamds/notebooks/../src/beam/experiment.py\u001b[0m in \u001b[0;36mrun_worker\u001b[0;34m(rank, world_size, results_queue, job, experiment, *args)\u001b[0m\n\u001b[1;32m     54\u001b[0m     \u001b[0mset_seed\u001b[0m\u001b[0;34m(\u001b[0m\u001b[0mseed\u001b[0m\u001b[0;34m=\u001b[0m\u001b[0mexperiment\u001b[0m\u001b[0;34m.\u001b[0m\u001b[0mseed\u001b[0m\u001b[0;34m,\u001b[0m \u001b[0mconstant\u001b[0m\u001b[0;34m=\u001b[0m\u001b[0mrank\u001b[0m\u001b[0;34m,\u001b[0m \u001b[0mincrement\u001b[0m\u001b[0;34m=\u001b[0m\u001b[0;32mFalse\u001b[0m\u001b[0;34m,\u001b[0m \u001b[0mdeterministic\u001b[0m\u001b[0;34m=\u001b[0m\u001b[0mexperiment\u001b[0m\u001b[0;34m.\u001b[0m\u001b[0mdeterministic\u001b[0m\u001b[0;34m)\u001b[0m\u001b[0;34m\u001b[0m\u001b[0;34m\u001b[0m\u001b[0m\n\u001b[1;32m     55\u001b[0m \u001b[0;34m\u001b[0m\u001b[0m\n\u001b[0;32m---> 56\u001b[0;31m     \u001b[0mres\u001b[0m \u001b[0;34m=\u001b[0m \u001b[0mjob\u001b[0m\u001b[0;34m(\u001b[0m\u001b[0mrank\u001b[0m\u001b[0;34m,\u001b[0m \u001b[0mworld_size\u001b[0m\u001b[0;34m,\u001b[0m \u001b[0mexperiment\u001b[0m\u001b[0;34m,\u001b[0m \u001b[0;34m*\u001b[0m\u001b[0margs\u001b[0m\u001b[0;34m)\u001b[0m\u001b[0;34m\u001b[0m\u001b[0;34m\u001b[0m\u001b[0m\n\u001b[0m\u001b[1;32m     57\u001b[0m \u001b[0;34m\u001b[0m\u001b[0m\n\u001b[1;32m     58\u001b[0m     \u001b[0;32mif\u001b[0m \u001b[0mworld_size\u001b[0m \u001b[0;34m>\u001b[0m \u001b[0;36m1\u001b[0m\u001b[0;34m:\u001b[0m\u001b[0;34m\u001b[0m\u001b[0;34m\u001b[0m\u001b[0m\n",
      "\u001b[0;32m/home/elad/docker/beamds/notebooks/../src/beam/experiment.py\u001b[0m in \u001b[0;36mdefault_runner\u001b[0;34m(rank, world_size, experiment, algorithm_generator, *args, **kwargs)\u001b[0m\n\u001b[1;32m     32\u001b[0m \u001b[0;34m\u001b[0m\u001b[0m\n\u001b[1;32m     33\u001b[0m     \u001b[0mexperiment\u001b[0m\u001b[0;34m.\u001b[0m\u001b[0mwriter_control\u001b[0m\u001b[0;34m(\u001b[0m\u001b[0menable\u001b[0m\u001b[0;34m=\u001b[0m\u001b[0;32mnot\u001b[0m \u001b[0;34m(\u001b[0m\u001b[0mbool\u001b[0m\u001b[0;34m(\u001b[0m\u001b[0mrank\u001b[0m\u001b[0;34m)\u001b[0m\u001b[0;34m)\u001b[0m\u001b[0;34m)\u001b[0m\u001b[0;34m\u001b[0m\u001b[0;34m\u001b[0m\u001b[0m\n\u001b[0;32m---> 34\u001b[0;31m     \u001b[0;32mfor\u001b[0m \u001b[0mresults\u001b[0m \u001b[0;32min\u001b[0m \u001b[0miter\u001b[0m\u001b[0;34m(\u001b[0m\u001b[0malg\u001b[0m\u001b[0;34m)\u001b[0m\u001b[0;34m:\u001b[0m\u001b[0;34m\u001b[0m\u001b[0;34m\u001b[0m\u001b[0m\n\u001b[0m\u001b[1;32m     35\u001b[0m         experiment.save_model_results(results, alg,\n\u001b[1;32m     36\u001b[0m                                       \u001b[0mprint_results\u001b[0m\u001b[0;34m=\u001b[0m\u001b[0mexperiment\u001b[0m\u001b[0;34m.\u001b[0m\u001b[0mprint_results\u001b[0m\u001b[0;34m,\u001b[0m\u001b[0;34m\u001b[0m\u001b[0;34m\u001b[0m\u001b[0m\n",
      "\u001b[0;32m/home/elad/docker/beamds/notebooks/../src/beam/algorithm.py\u001b[0m in \u001b[0;36m__iter__\u001b[0;34m(self)\u001b[0m\n\u001b[1;32m    283\u001b[0m \u001b[0;34m\u001b[0m\u001b[0m\n\u001b[1;32m    284\u001b[0m         \u001b[0meval_generator\u001b[0m \u001b[0;34m=\u001b[0m \u001b[0mself\u001b[0m\u001b[0;34m.\u001b[0m\u001b[0minner_loop\u001b[0m\u001b[0;34m(\u001b[0m\u001b[0mself\u001b[0m\u001b[0;34m.\u001b[0m\u001b[0mn_epochs\u001b[0m \u001b[0;34m+\u001b[0m \u001b[0;36m1\u001b[0m\u001b[0;34m,\u001b[0m \u001b[0msubset\u001b[0m\u001b[0;34m=\u001b[0m\u001b[0mself\u001b[0m\u001b[0;34m.\u001b[0m\u001b[0meval_subset\u001b[0m\u001b[0;34m,\u001b[0m \u001b[0mtraining\u001b[0m\u001b[0;34m=\u001b[0m\u001b[0;32mFalse\u001b[0m\u001b[0;34m)\u001b[0m\u001b[0;34m\u001b[0m\u001b[0;34m\u001b[0m\u001b[0m\n\u001b[0;32m--> 285\u001b[0;31m         \u001b[0;32mfor\u001b[0m \u001b[0mi\u001b[0m\u001b[0;34m,\u001b[0m \u001b[0mtrain_results\u001b[0m \u001b[0;32min\u001b[0m \u001b[0menumerate\u001b[0m\u001b[0;34m(\u001b[0m\u001b[0mself\u001b[0m\u001b[0;34m.\u001b[0m\u001b[0minner_loop\u001b[0m\u001b[0;34m(\u001b[0m\u001b[0mself\u001b[0m\u001b[0;34m.\u001b[0m\u001b[0mn_epochs\u001b[0m\u001b[0;34m,\u001b[0m \u001b[0msubset\u001b[0m\u001b[0;34m=\u001b[0m\u001b[0;34m'train'\u001b[0m\u001b[0;34m,\u001b[0m \u001b[0mtraining\u001b[0m\u001b[0;34m=\u001b[0m\u001b[0;32mTrue\u001b[0m\u001b[0;34m)\u001b[0m\u001b[0;34m)\u001b[0m\u001b[0;34m:\u001b[0m\u001b[0;34m\u001b[0m\u001b[0;34m\u001b[0m\u001b[0m\n\u001b[0m\u001b[1;32m    286\u001b[0m \u001b[0;34m\u001b[0m\u001b[0m\n\u001b[1;32m    287\u001b[0m             \u001b[0;32mfor\u001b[0m \u001b[0mk_type\u001b[0m \u001b[0;32min\u001b[0m \u001b[0mtrain_results\u001b[0m\u001b[0;34m.\u001b[0m\u001b[0mkeys\u001b[0m\u001b[0;34m(\u001b[0m\u001b[0;34m)\u001b[0m\u001b[0;34m:\u001b[0m\u001b[0;34m\u001b[0m\u001b[0;34m\u001b[0m\u001b[0m\n",
      "\u001b[0;32m/home/elad/docker/beamds/notebooks/../src/beam/algorithm.py\u001b[0m in \u001b[0;36minner_loop\u001b[0;34m(self, n_epochs, subset, training)\u001b[0m\n\u001b[1;32m    204\u001b[0m                                   desc=subset, total=self.epoch_length[subset] - 1):\n\u001b[1;32m    205\u001b[0m                 \u001b[0;31m# print(i)\u001b[0m\u001b[0;34m\u001b[0m\u001b[0;34m\u001b[0m\u001b[0;34m\u001b[0m\u001b[0m\n\u001b[0;32m--> 206\u001b[0;31m                 \u001b[0maux\u001b[0m\u001b[0;34m,\u001b[0m \u001b[0mresults\u001b[0m \u001b[0;34m=\u001b[0m \u001b[0mself\u001b[0m\u001b[0;34m.\u001b[0m\u001b[0miteration\u001b[0m\u001b[0;34m(\u001b[0m\u001b[0msample\u001b[0m\u001b[0;34m=\u001b[0m\u001b[0msample\u001b[0m\u001b[0;34m,\u001b[0m \u001b[0maux\u001b[0m\u001b[0;34m=\u001b[0m\u001b[0maux\u001b[0m\u001b[0;34m,\u001b[0m \u001b[0mresults\u001b[0m\u001b[0;34m=\u001b[0m\u001b[0mresults\u001b[0m\u001b[0;34m,\u001b[0m \u001b[0msubset\u001b[0m\u001b[0;34m=\u001b[0m\u001b[0msubset\u001b[0m\u001b[0;34m,\u001b[0m \u001b[0mtraining\u001b[0m\u001b[0;34m=\u001b[0m\u001b[0mtraining\u001b[0m\u001b[0;34m)\u001b[0m\u001b[0;34m\u001b[0m\u001b[0;34m\u001b[0m\u001b[0m\n\u001b[0m\u001b[1;32m    207\u001b[0m \u001b[0;34m\u001b[0m\u001b[0m\n\u001b[1;32m    208\u001b[0m             aux, results = self.postprocess_epoch(sample=sample, aux=aux, results=results,\n",
      "\u001b[0;32m/home/elad/docker/beamds/notebooks/../cifar10_example.py\u001b[0m in \u001b[0;36miteration\u001b[0;34m(self, sample, aux, results, subset, training)\u001b[0m\n\u001b[1;32m    355\u001b[0m \u001b[0;34m\u001b[0m\u001b[0m\n\u001b[1;32m    356\u001b[0m         \u001b[0;31m# add scalar measurements\u001b[0m\u001b[0;34m\u001b[0m\u001b[0;34m\u001b[0m\u001b[0;34m\u001b[0m\u001b[0m\n\u001b[0;32m--> 357\u001b[0;31m         \u001b[0mresults\u001b[0m\u001b[0;34m[\u001b[0m\u001b[0;34m'scalar'\u001b[0m\u001b[0;34m]\u001b[0m\u001b[0;34m[\u001b[0m\u001b[0;34m'loss'\u001b[0m\u001b[0;34m]\u001b[0m\u001b[0;34m.\u001b[0m\u001b[0mappend\u001b[0m\u001b[0;34m(\u001b[0m\u001b[0mfloat\u001b[0m\u001b[0;34m(\u001b[0m\u001b[0mloss\u001b[0m\u001b[0;34m)\u001b[0m\u001b[0;34m)\u001b[0m\u001b[0;34m\u001b[0m\u001b[0;34m\u001b[0m\u001b[0m\n\u001b[0m\u001b[1;32m    358\u001b[0m         \u001b[0mresults\u001b[0m\u001b[0;34m[\u001b[0m\u001b[0;34m'scalar'\u001b[0m\u001b[0;34m]\u001b[0m\u001b[0;34m[\u001b[0m\u001b[0;34m'acc'\u001b[0m\u001b[0;34m]\u001b[0m\u001b[0;34m.\u001b[0m\u001b[0mappend\u001b[0m\u001b[0;34m(\u001b[0m\u001b[0mfloat\u001b[0m\u001b[0;34m(\u001b[0m\u001b[0;34m(\u001b[0m\u001b[0my_hat\u001b[0m\u001b[0;34m.\u001b[0m\u001b[0margmax\u001b[0m\u001b[0;34m(\u001b[0m\u001b[0;36m1\u001b[0m\u001b[0;34m)\u001b[0m \u001b[0;34m==\u001b[0m \u001b[0my\u001b[0m\u001b[0;34m)\u001b[0m\u001b[0;34m.\u001b[0m\u001b[0mfloat\u001b[0m\u001b[0;34m(\u001b[0m\u001b[0;34m)\u001b[0m\u001b[0;34m.\u001b[0m\u001b[0mmean\u001b[0m\u001b[0;34m(\u001b[0m\u001b[0;34m)\u001b[0m\u001b[0;34m)\u001b[0m\u001b[0;34m)\u001b[0m\u001b[0;34m\u001b[0m\u001b[0;34m\u001b[0m\u001b[0m\n\u001b[1;32m    359\u001b[0m \u001b[0;34m\u001b[0m\u001b[0m\n",
      "\u001b[0;31mKeyboardInterrupt\u001b[0m: "
     ]
    }
   ],
   "source": [
    "study.optuna(suggest, direction='maximize', n_jobs=1, n_trials=10)"
   ]
  },
  {
   "cell_type": "markdown",
   "id": "90540ccd-6dd1-41a2-99e3-ceab19b66faf",
   "metadata": {},
   "source": [
    "## Hyperparameter search with ray-tune and optuna"
   ]
  },
  {
   "cell_type": "code",
   "execution_count": 3,
   "id": "c1f08ce6-1ee8-4160-8f15-f130482696f9",
   "metadata": {},
   "outputs": [
    {
     "name": "stdout",
     "output_type": "stream",
     "text": [
      "\u001b[32m2022-06-20 21:04:15.526\u001b[0m | \u001b[1mINFO    \u001b[0m | \u001b[36msrc.beam.experiment\u001b[0m:\u001b[36m__init__\u001b[0m:\u001b[36m85\u001b[0m - \u001b[1mHyperparameter Optimization\u001b[0m\n",
      "\u001b[32m2022-06-20 21:04:15.527\u001b[0m | \u001b[1mINFO    \u001b[0m | \u001b[36msrc.beam.experiment\u001b[0m:\u001b[36m__init__\u001b[0m:\u001b[36m86\u001b[0m - \u001b[1mbeam project: cifar10\u001b[0m\n",
      "\u001b[32m2022-06-20 21:04:15.529\u001b[0m | \u001b[1mINFO    \u001b[0m | \u001b[36msrc.beam.experiment\u001b[0m:\u001b[36m__init__\u001b[0m:\u001b[36m87\u001b[0m - \u001b[1mExperiment Hyperparameters\u001b[0m\n",
      "\u001b[32m2022-06-20 21:04:15.530\u001b[0m | \u001b[1mINFO    \u001b[0m | \u001b[36msrc.beam.experiment\u001b[0m:\u001b[36m__init__\u001b[0m:\u001b[36m90\u001b[0m - \u001b[1mproject_name: cifar10\u001b[0m\n",
      "\u001b[32m2022-06-20 21:04:15.530\u001b[0m | \u001b[1mINFO    \u001b[0m | \u001b[36msrc.beam.experiment\u001b[0m:\u001b[36m__init__\u001b[0m:\u001b[36m90\u001b[0m - \u001b[1midentifier: debug_hp_optimization_20220620_210415\u001b[0m\n",
      "\u001b[32m2022-06-20 21:04:15.531\u001b[0m | \u001b[1mINFO    \u001b[0m | \u001b[36msrc.beam.experiment\u001b[0m:\u001b[36m__init__\u001b[0m:\u001b[36m90\u001b[0m - \u001b[1malgorithm: CIFAR10Algorithm\u001b[0m\n",
      "\u001b[32m2022-06-20 21:04:15.532\u001b[0m | \u001b[1mINFO    \u001b[0m | \u001b[36msrc.beam.experiment\u001b[0m:\u001b[36m__init__\u001b[0m:\u001b[36m90\u001b[0m - \u001b[1mmp_port: None\u001b[0m\n",
      "\u001b[32m2022-06-20 21:04:15.533\u001b[0m | \u001b[1mINFO    \u001b[0m | \u001b[36msrc.beam.experiment\u001b[0m:\u001b[36m__init__\u001b[0m:\u001b[36m90\u001b[0m - \u001b[1mroot_dir: /localdata/elads/data/cifar10\u001b[0m\n",
      "\u001b[32m2022-06-20 21:04:15.533\u001b[0m | \u001b[1mINFO    \u001b[0m | \u001b[36msrc.beam.experiment\u001b[0m:\u001b[36m__init__\u001b[0m:\u001b[36m90\u001b[0m - \u001b[1mreload: False\u001b[0m\n",
      "\u001b[32m2022-06-20 21:04:15.534\u001b[0m | \u001b[1mINFO    \u001b[0m | \u001b[36msrc.beam.experiment\u001b[0m:\u001b[36m__init__\u001b[0m:\u001b[36m90\u001b[0m - \u001b[1mresume: -1\u001b[0m\n",
      "\u001b[32m2022-06-20 21:04:15.535\u001b[0m | \u001b[1mINFO    \u001b[0m | \u001b[36msrc.beam.experiment\u001b[0m:\u001b[36m__init__\u001b[0m:\u001b[36m90\u001b[0m - \u001b[1moverride: False\u001b[0m\n",
      "\u001b[32m2022-06-20 21:04:15.536\u001b[0m | \u001b[1mINFO    \u001b[0m | \u001b[36msrc.beam.experiment\u001b[0m:\u001b[36m__init__\u001b[0m:\u001b[36m90\u001b[0m - \u001b[1mcpu_workers: 0\u001b[0m\n",
      "\u001b[32m2022-06-20 21:04:15.536\u001b[0m | \u001b[1mINFO    \u001b[0m | \u001b[36msrc.beam.experiment\u001b[0m:\u001b[36m__init__\u001b[0m:\u001b[36m90\u001b[0m - \u001b[1mdevice: 0\u001b[0m\n",
      "\u001b[32m2022-06-20 21:04:15.537\u001b[0m | \u001b[1mINFO    \u001b[0m | \u001b[36msrc.beam.experiment\u001b[0m:\u001b[36m__init__\u001b[0m:\u001b[36m90\u001b[0m - \u001b[1mparallel: 1\u001b[0m\n",
      "\u001b[32m2022-06-20 21:04:15.538\u001b[0m | \u001b[1mINFO    \u001b[0m | \u001b[36msrc.beam.experiment\u001b[0m:\u001b[36m__init__\u001b[0m:\u001b[36m90\u001b[0m - \u001b[1mtensorboard: True\u001b[0m\n",
      "\u001b[32m2022-06-20 21:04:15.539\u001b[0m | \u001b[1mINFO    \u001b[0m | \u001b[36msrc.beam.experiment\u001b[0m:\u001b[36m__init__\u001b[0m:\u001b[36m90\u001b[0m - \u001b[1mlognet: True\u001b[0m\n",
      "\u001b[32m2022-06-20 21:04:15.539\u001b[0m | \u001b[1mINFO    \u001b[0m | \u001b[36msrc.beam.experiment\u001b[0m:\u001b[36m__init__\u001b[0m:\u001b[36m90\u001b[0m - \u001b[1mdeterministic: False\u001b[0m\n",
      "\u001b[32m2022-06-20 21:04:15.540\u001b[0m | \u001b[1mINFO    \u001b[0m | \u001b[36msrc.beam.experiment\u001b[0m:\u001b[36m__init__\u001b[0m:\u001b[36m90\u001b[0m - \u001b[1mscale_epoch_by_batch_size: True\u001b[0m\n",
      "\u001b[32m2022-06-20 21:04:15.541\u001b[0m | \u001b[1mINFO    \u001b[0m | \u001b[36msrc.beam.experiment\u001b[0m:\u001b[36m__init__\u001b[0m:\u001b[36m90\u001b[0m - \u001b[1mcudnn_benchmark: True\u001b[0m\n",
      "\u001b[32m2022-06-20 21:04:15.542\u001b[0m | \u001b[1mINFO    \u001b[0m | \u001b[36msrc.beam.experiment\u001b[0m:\u001b[36m__init__\u001b[0m:\u001b[36m90\u001b[0m - \u001b[1mhalf: True\u001b[0m\n",
      "\u001b[32m2022-06-20 21:04:15.542\u001b[0m | \u001b[1mINFO    \u001b[0m | \u001b[36msrc.beam.experiment\u001b[0m:\u001b[36m__init__\u001b[0m:\u001b[36m90\u001b[0m - \u001b[1mamp: False\u001b[0m\n",
      "\u001b[32m2022-06-20 21:04:15.543\u001b[0m | \u001b[1mINFO    \u001b[0m | \u001b[36msrc.beam.experiment\u001b[0m:\u001b[36m__init__\u001b[0m:\u001b[36m90\u001b[0m - \u001b[1minit: ortho\u001b[0m\n",
      "\u001b[32m2022-06-20 21:04:15.544\u001b[0m | \u001b[1mINFO    \u001b[0m | \u001b[36msrc.beam.experiment\u001b[0m:\u001b[36m__init__\u001b[0m:\u001b[36m90\u001b[0m - \u001b[1mseed: 0\u001b[0m\n",
      "\u001b[32m2022-06-20 21:04:15.545\u001b[0m | \u001b[1mINFO    \u001b[0m | \u001b[36msrc.beam.experiment\u001b[0m:\u001b[36m__init__\u001b[0m:\u001b[36m90\u001b[0m - \u001b[1mtotal_steps: 1000000\u001b[0m\n",
      "\u001b[32m2022-06-20 21:04:15.546\u001b[0m | \u001b[1mINFO    \u001b[0m | \u001b[36msrc.beam.experiment\u001b[0m:\u001b[36m__init__\u001b[0m:\u001b[36m90\u001b[0m - \u001b[1mepoch_length: None\u001b[0m\n",
      "\u001b[32m2022-06-20 21:04:15.546\u001b[0m | \u001b[1mINFO    \u001b[0m | \u001b[36msrc.beam.experiment\u001b[0m:\u001b[36m__init__\u001b[0m:\u001b[36m90\u001b[0m - \u001b[1mepoch_length_train: None\u001b[0m\n",
      "\u001b[32m2022-06-20 21:04:15.547\u001b[0m | \u001b[1mINFO    \u001b[0m | \u001b[36msrc.beam.experiment\u001b[0m:\u001b[36m__init__\u001b[0m:\u001b[36m90\u001b[0m - \u001b[1mepoch_length_eval: None\u001b[0m\n",
      "\u001b[32m2022-06-20 21:04:15.548\u001b[0m | \u001b[1mINFO    \u001b[0m | \u001b[36msrc.beam.experiment\u001b[0m:\u001b[36m__init__\u001b[0m:\u001b[36m90\u001b[0m - \u001b[1mn_epochs: 40\u001b[0m\n",
      "\u001b[32m2022-06-20 21:04:15.548\u001b[0m | \u001b[1mINFO    \u001b[0m | \u001b[36msrc.beam.experiment\u001b[0m:\u001b[36m__init__\u001b[0m:\u001b[36m90\u001b[0m - \u001b[1mbatch_size: 512\u001b[0m\n",
      "\u001b[32m2022-06-20 21:04:15.549\u001b[0m | \u001b[1mINFO    \u001b[0m | \u001b[36msrc.beam.experiment\u001b[0m:\u001b[36m__init__\u001b[0m:\u001b[36m90\u001b[0m - \u001b[1mbatch_size_train: None\u001b[0m\n",
      "\u001b[32m2022-06-20 21:04:15.550\u001b[0m | \u001b[1mINFO    \u001b[0m | \u001b[36msrc.beam.experiment\u001b[0m:\u001b[36m__init__\u001b[0m:\u001b[36m90\u001b[0m - \u001b[1mbatch_size_eval: None\u001b[0m\n",
      "\u001b[32m2022-06-20 21:04:15.550\u001b[0m | \u001b[1mINFO    \u001b[0m | \u001b[36msrc.beam.experiment\u001b[0m:\u001b[36m__init__\u001b[0m:\u001b[36m90\u001b[0m - \u001b[1mlr_dense: 0.001\u001b[0m\n",
      "\u001b[32m2022-06-20 21:04:15.551\u001b[0m | \u001b[1mINFO    \u001b[0m | \u001b[36msrc.beam.experiment\u001b[0m:\u001b[36m__init__\u001b[0m:\u001b[36m90\u001b[0m - \u001b[1mlr_sparse: 0.01\u001b[0m\n",
      "\u001b[32m2022-06-20 21:04:15.551\u001b[0m | \u001b[1mINFO    \u001b[0m | \u001b[36msrc.beam.experiment\u001b[0m:\u001b[36m__init__\u001b[0m:\u001b[36m90\u001b[0m - \u001b[1mweight_decay: 0.00256\u001b[0m\n",
      "\u001b[32m2022-06-20 21:04:15.552\u001b[0m | \u001b[1mINFO    \u001b[0m | \u001b[36msrc.beam.experiment\u001b[0m:\u001b[36m__init__\u001b[0m:\u001b[36m90\u001b[0m - \u001b[1meps: 0.0001\u001b[0m\n",
      "\u001b[32m2022-06-20 21:04:15.553\u001b[0m | \u001b[1mINFO    \u001b[0m | \u001b[36msrc.beam.experiment\u001b[0m:\u001b[36m__init__\u001b[0m:\u001b[36m90\u001b[0m - \u001b[1mbeta1: 0.9\u001b[0m\n",
      "\u001b[32m2022-06-20 21:04:15.553\u001b[0m | \u001b[1mINFO    \u001b[0m | \u001b[36msrc.beam.experiment\u001b[0m:\u001b[36m__init__\u001b[0m:\u001b[36m90\u001b[0m - \u001b[1mbeta2: 0.9\u001b[0m\n",
      "\u001b[32m2022-06-20 21:04:15.554\u001b[0m | \u001b[1mINFO    \u001b[0m | \u001b[36msrc.beam.experiment\u001b[0m:\u001b[36m__init__\u001b[0m:\u001b[36m90\u001b[0m - \u001b[1mclip: 0.0\u001b[0m\n",
      "\u001b[32m2022-06-20 21:04:15.555\u001b[0m | \u001b[1mINFO    \u001b[0m | \u001b[36msrc.beam.experiment\u001b[0m:\u001b[36m__init__\u001b[0m:\u001b[36m90\u001b[0m - \u001b[1maccumulate: 1\u001b[0m\n",
      "\u001b[32m2022-06-20 21:04:15.555\u001b[0m | \u001b[1mINFO    \u001b[0m | \u001b[36msrc.beam.experiment\u001b[0m:\u001b[36m__init__\u001b[0m:\u001b[36m90\u001b[0m - \u001b[1mprint_results: False\u001b[0m\n",
      "\u001b[32m2022-06-20 21:04:15.556\u001b[0m | \u001b[1mINFO    \u001b[0m | \u001b[36msrc.beam.experiment\u001b[0m:\u001b[36m__init__\u001b[0m:\u001b[36m90\u001b[0m - \u001b[1mvisualize_weights: False\u001b[0m\n",
      "\u001b[32m2022-06-20 21:04:15.557\u001b[0m | \u001b[1mINFO    \u001b[0m | \u001b[36msrc.beam.experiment\u001b[0m:\u001b[36m__init__\u001b[0m:\u001b[36m90\u001b[0m - \u001b[1menable_tqdm: False\u001b[0m\n",
      "\u001b[32m2022-06-20 21:04:15.558\u001b[0m | \u001b[1mINFO    \u001b[0m | \u001b[36msrc.beam.experiment\u001b[0m:\u001b[36m__init__\u001b[0m:\u001b[36m90\u001b[0m - \u001b[1mvisualize_results: yes\u001b[0m\n",
      "\u001b[32m2022-06-20 21:04:15.558\u001b[0m | \u001b[1mINFO    \u001b[0m | \u001b[36msrc.beam.experiment\u001b[0m:\u001b[36m__init__\u001b[0m:\u001b[36m90\u001b[0m - \u001b[1mstore_results: logscale\u001b[0m\n",
      "\u001b[32m2022-06-20 21:04:15.559\u001b[0m | \u001b[1mINFO    \u001b[0m | \u001b[36msrc.beam.experiment\u001b[0m:\u001b[36m__init__\u001b[0m:\u001b[36m90\u001b[0m - \u001b[1mstore_networks: logscale\u001b[0m\n",
      "\u001b[32m2022-06-20 21:04:15.559\u001b[0m | \u001b[1mINFO    \u001b[0m | \u001b[36msrc.beam.experiment\u001b[0m:\u001b[36m__init__\u001b[0m:\u001b[36m90\u001b[0m - \u001b[1mpath_to_data: /localdata/elads/data/datasets/cifar10\u001b[0m\n",
      "\u001b[32m2022-06-20 21:04:15.560\u001b[0m | \u001b[1mINFO    \u001b[0m | \u001b[36msrc.beam.experiment\u001b[0m:\u001b[36m__init__\u001b[0m:\u001b[36m90\u001b[0m - \u001b[1mactivation: celu\u001b[0m\n",
      "\u001b[32m2022-06-20 21:04:15.561\u001b[0m | \u001b[1mINFO    \u001b[0m | \u001b[36msrc.beam.experiment\u001b[0m:\u001b[36m__init__\u001b[0m:\u001b[36m90\u001b[0m - \u001b[1mchannels: 512\u001b[0m\n",
      "\u001b[32m2022-06-20 21:04:15.561\u001b[0m | \u001b[1mINFO    \u001b[0m | \u001b[36msrc.beam.experiment\u001b[0m:\u001b[36m__init__\u001b[0m:\u001b[36m90\u001b[0m - \u001b[1mdropout: 0.0\u001b[0m\n",
      "\u001b[32m2022-06-20 21:04:15.562\u001b[0m | \u001b[1mINFO    \u001b[0m | \u001b[36msrc.beam.experiment\u001b[0m:\u001b[36m__init__\u001b[0m:\u001b[36m90\u001b[0m - \u001b[1mpadding: 4\u001b[0m\n",
      "\u001b[32m2022-06-20 21:04:15.562\u001b[0m | \u001b[1mINFO    \u001b[0m | \u001b[36msrc.beam.experiment\u001b[0m:\u001b[36m__init__\u001b[0m:\u001b[36m90\u001b[0m - \u001b[1mgain: 0.4\u001b[0m\n",
      "\u001b[32m2022-06-20 21:04:15.563\u001b[0m | \u001b[1mINFO    \u001b[0m | \u001b[36msrc.beam.experiment\u001b[0m:\u001b[36m__init__\u001b[0m:\u001b[36m90\u001b[0m - \u001b[1mturn_point: 500\u001b[0m\n",
      "\u001b[32m2022-06-20 21:04:15.564\u001b[0m | \u001b[1mINFO    \u001b[0m | \u001b[36msrc.beam.experiment\u001b[0m:\u001b[36m__init__\u001b[0m:\u001b[36m90\u001b[0m - \u001b[1mfinal_point: 3000\u001b[0m\n",
      "\u001b[32m2022-06-20 21:04:15.564\u001b[0m | \u001b[1mINFO    \u001b[0m | \u001b[36msrc.beam.experiment\u001b[0m:\u001b[36m__init__\u001b[0m:\u001b[36m90\u001b[0m - \u001b[1mminimal_gain: 0.02\u001b[0m\n",
      "\u001b[32m2022-06-20 21:04:15.565\u001b[0m | \u001b[1mINFO    \u001b[0m | \u001b[36msrc.beam.experiment\u001b[0m:\u001b[36m__init__\u001b[0m:\u001b[36m90\u001b[0m - \u001b[1mtemprature: 0.125\u001b[0m\n"
     ]
    }
   ],
   "source": [
    "args = beam_arguments(f\"--project-name=cifar10 --root-dir={root_dir} --algorithm=CIFAR10Algorithm --device=0 --half --lr-d=1e-3 --batch-size=512\",\n",
    "                      \"--n-epochs=40 --clip=0 --parallel=1 --accumulate=1 --cudnn-benchmark\",\n",
    "                      \"--weight-decay=.00256 --beta1=0.9 --beta2=0.9 \", \n",
    "                      path_to_data=path_to_data, activation='celu', channels=512, dropout=.0,\n",
    "                      padding=4, gain=.4, turn_point=500, final_point=3000, minimal_gain=.02, temprature=.125)\n",
    "\n",
    "study = Study(cifar10_algorithm_generator, args)"
   ]
  },
  {
   "cell_type": "code",
   "execution_count": null,
   "id": "10a1e867-41ef-4058-b7be-f09740997c83",
   "metadata": {
    "tags": []
   },
   "outputs": [
    {
     "data": {
      "text/html": [
       "== Status ==<br>Current time: 2022-06-20 21:40:05 (running for 00:35:50.10)<br>Memory usage on this node: 20.9/187.6 GiB<br>Using FIFO scheduling algorithm.<br>Resources requested: 4.0/80 CPUs, 4.0/4 GPUs, 0.0/116.1 GiB heap, 0.0/53.75 GiB objects (0.0/1.0 accelerator_type:G)<br>Current best trial: 155ba23e with mean_accuracy=0.9323508522727273 and parameters={'lr_dense': 0.0017705654265090629, 'weight_decay': 1.2944619161282249e-06, 'beta1': 0.8591670826100158, 'gain': 0.2, 'temprature': 2.4189769589074004, 'minimal_gain': 0.05460314355332689, 'channels': 1024, 'padding': 6, 'turn_point': 1024, 'final_point': 3072.0, 'batch_size': 512, 'activation': 'relu'}<br>Result logdir: /root/ray_results/runner_tune_2022-06-20_21-04-15<br>Number of trials: 25/400 (1 PENDING, 4 RUNNING, 20 TERMINATED)<br><table>\n",
       "<thead>\n",
       "<tr><th>Trial name          </th><th>status    </th><th>loc             </th><th>activation  </th><th style=\"text-align: right;\">  batch_size</th><th style=\"text-align: right;\">   beta1</th><th style=\"text-align: right;\">  channels</th><th style=\"text-align: right;\">  final_point</th><th style=\"text-align: right;\">  gain</th><th style=\"text-align: right;\">   lr_dense</th><th style=\"text-align: right;\">  minimal_gain</th><th style=\"text-align: right;\">  padding</th><th style=\"text-align: right;\">  temprature</th><th style=\"text-align: right;\">  turn_point</th><th style=\"text-align: right;\">  weight_decay</th><th style=\"text-align: right;\">     acc</th><th style=\"text-align: right;\">  iter</th><th style=\"text-align: right;\">  total time (s)</th></tr>\n",
       "</thead>\n",
       "<tbody>\n",
       "<tr><td>runner_tune_6c7e62ca</td><td>RUNNING   </td><td>172.17.0.2:24720</td><td>relu        </td><td style=\"text-align: right;\">         512</td><td style=\"text-align: right;\">0.850039</td><td style=\"text-align: right;\">      1024</td><td style=\"text-align: right;\">         2048</td><td style=\"text-align: right;\">   0.2</td><td style=\"text-align: right;\">0.00517562 </td><td style=\"text-align: right;\">     0.0308595</td><td style=\"text-align: right;\">        6</td><td style=\"text-align: right;\">    1.82263 </td><td style=\"text-align: right;\">        1024</td><td style=\"text-align: right;\">   0.000333747</td><td style=\"text-align: right;\">0.929599</td><td style=\"text-align: right;\">    27</td><td style=\"text-align: right;\">         326.542</td></tr>\n",
       "<tr><td>runner_tune_c7b45aa0</td><td>RUNNING   </td><td>172.17.0.2:24775</td><td>relu        </td><td style=\"text-align: right;\">         512</td><td style=\"text-align: right;\">0.852321</td><td style=\"text-align: right;\">      1024</td><td style=\"text-align: right;\">         2048</td><td style=\"text-align: right;\">   0.2</td><td style=\"text-align: right;\">0.00717215 </td><td style=\"text-align: right;\">     0.0351799</td><td style=\"text-align: right;\">        6</td><td style=\"text-align: right;\">    1.71532 </td><td style=\"text-align: right;\">         512</td><td style=\"text-align: right;\">   0.000459183</td><td style=\"text-align: right;\">0.907049</td><td style=\"text-align: right;\">    21</td><td style=\"text-align: right;\">         261.575</td></tr>\n",
       "<tr><td>runner_tune_cf1b69ba</td><td>RUNNING   </td><td>172.17.0.2:24640</td><td>relu        </td><td style=\"text-align: right;\">         512</td><td style=\"text-align: right;\">0.850407</td><td style=\"text-align: right;\">      1024</td><td style=\"text-align: right;\">         2048</td><td style=\"text-align: right;\">   0.2</td><td style=\"text-align: right;\">0.00499638 </td><td style=\"text-align: right;\">     0.0301177</td><td style=\"text-align: right;\">        6</td><td style=\"text-align: right;\">    2.03082 </td><td style=\"text-align: right;\">        1024</td><td style=\"text-align: right;\">   0.000346404</td><td style=\"text-align: right;\">0.928622</td><td style=\"text-align: right;\">    39</td><td style=\"text-align: right;\">         476.122</td></tr>\n",
       "<tr><td>runner_tune_ea99898c</td><td>RUNNING   </td><td>172.17.0.2:24832</td><td>relu        </td><td style=\"text-align: right;\">         512</td><td style=\"text-align: right;\">0.850901</td><td style=\"text-align: right;\">      1024</td><td style=\"text-align: right;\">         2048</td><td style=\"text-align: right;\">   0.2</td><td style=\"text-align: right;\">0.0102751  </td><td style=\"text-align: right;\">     0.037915 </td><td style=\"text-align: right;\">        6</td><td style=\"text-align: right;\">    1.89948 </td><td style=\"text-align: right;\">        1024</td><td style=\"text-align: right;\">   0.000533225</td><td style=\"text-align: right;\">0.844993</td><td style=\"text-align: right;\">    15</td><td style=\"text-align: right;\">         204.735</td></tr>\n",
       "<tr><td>runner_tune_0fd686f0</td><td>PENDING   </td><td>                </td><td>relu        </td><td style=\"text-align: right;\">         512</td><td style=\"text-align: right;\">0.850103</td><td style=\"text-align: right;\">      1024</td><td style=\"text-align: right;\">         2048</td><td style=\"text-align: right;\">   0.2</td><td style=\"text-align: right;\">0.0102876  </td><td style=\"text-align: right;\">     0.045788 </td><td style=\"text-align: right;\">        6</td><td style=\"text-align: right;\">    3.40604 </td><td style=\"text-align: right;\">        1024</td><td style=\"text-align: right;\">   1.42559e-05</td><td style=\"text-align: right;\">        </td><td style=\"text-align: right;\">      </td><td style=\"text-align: right;\">                </td></tr>\n",
       "<tr><td>runner_tune_0e347ab2</td><td>TERMINATED</td><td>172.17.0.2:24035</td><td>gelu        </td><td style=\"text-align: right;\">         512</td><td style=\"text-align: right;\">0.868141</td><td style=\"text-align: right;\">       512</td><td style=\"text-align: right;\">         3072</td><td style=\"text-align: right;\">   0.2</td><td style=\"text-align: right;\">0.000143155</td><td style=\"text-align: right;\">     0.0144721</td><td style=\"text-align: right;\">        8</td><td style=\"text-align: right;\">    0.553062</td><td style=\"text-align: right;\">         512</td><td style=\"text-align: right;\">   1.0415e-05 </td><td style=\"text-align: right;\">0.886452</td><td style=\"text-align: right;\">    40</td><td style=\"text-align: right;\">         244.701</td></tr>\n",
       "<tr><td>runner_tune_12a098fc</td><td>TERMINATED</td><td>172.17.0.2:23678</td><td>gelu        </td><td style=\"text-align: right;\">        1024</td><td style=\"text-align: right;\">0.948043</td><td style=\"text-align: right;\">       512</td><td style=\"text-align: right;\">         4096</td><td style=\"text-align: right;\">   0.2</td><td style=\"text-align: right;\">0.00237786 </td><td style=\"text-align: right;\">     0.0175715</td><td style=\"text-align: right;\">        6</td><td style=\"text-align: right;\">    0.279561</td><td style=\"text-align: right;\">        1024</td><td style=\"text-align: right;\">   0.00780286 </td><td style=\"text-align: right;\">0.917969</td><td style=\"text-align: right;\">    40</td><td style=\"text-align: right;\">         245.937</td></tr>\n",
       "<tr><td>runner_tune_1502fc2a</td><td>TERMINATED</td><td>172.17.0.2:23718</td><td>celu        </td><td style=\"text-align: right;\">        2048</td><td style=\"text-align: right;\">0.873043</td><td style=\"text-align: right;\">      1024</td><td style=\"text-align: right;\">         4096</td><td style=\"text-align: right;\">   0.2</td><td style=\"text-align: right;\">0.000252165</td><td style=\"text-align: right;\">     0.0135683</td><td style=\"text-align: right;\">        4</td><td style=\"text-align: right;\">    4.74368 </td><td style=\"text-align: right;\">         256</td><td style=\"text-align: right;\">   0.00322105 </td><td style=\"text-align: right;\">0.891724</td><td style=\"text-align: right;\">    40</td><td style=\"text-align: right;\">         454.348</td></tr>\n",
       "<tr><td>runner_tune_155ba23e</td><td>TERMINATED</td><td>172.17.0.2:24087</td><td>relu        </td><td style=\"text-align: right;\">         512</td><td style=\"text-align: right;\">0.859167</td><td style=\"text-align: right;\">      1024</td><td style=\"text-align: right;\">         3072</td><td style=\"text-align: right;\">   0.2</td><td style=\"text-align: right;\">0.00177057 </td><td style=\"text-align: right;\">     0.0546031</td><td style=\"text-align: right;\">        6</td><td style=\"text-align: right;\">    2.41898 </td><td style=\"text-align: right;\">        1024</td><td style=\"text-align: right;\">   1.29446e-06</td><td style=\"text-align: right;\">0.932351</td><td style=\"text-align: right;\">    40</td><td style=\"text-align: right;\">         488.752</td></tr>\n",
       "<tr><td>runner_tune_17656412</td><td>TERMINATED</td><td>172.17.0.2:23804</td><td>gelu        </td><td style=\"text-align: right;\">        2048</td><td style=\"text-align: right;\">0.895943</td><td style=\"text-align: right;\">      1024</td><td style=\"text-align: right;\">         2048</td><td style=\"text-align: right;\">   0.2</td><td style=\"text-align: right;\">0.00604309 </td><td style=\"text-align: right;\">     0.0103357</td><td style=\"text-align: right;\">        6</td><td style=\"text-align: right;\">    3.49494 </td><td style=\"text-align: right;\">        1024</td><td style=\"text-align: right;\">   0.00253636 </td><td style=\"text-align: right;\">0.867065</td><td style=\"text-align: right;\">    40</td><td style=\"text-align: right;\">         459.089</td></tr>\n",
       "<tr><td>runner_tune_29080e44</td><td>TERMINATED</td><td>172.17.0.2:24166</td><td>relu        </td><td style=\"text-align: right;\">         512</td><td style=\"text-align: right;\">0.885374</td><td style=\"text-align: right;\">      1024</td><td style=\"text-align: right;\">         2048</td><td style=\"text-align: right;\">   0.2</td><td style=\"text-align: right;\">0.00929073 </td><td style=\"text-align: right;\">     0.0380715</td><td style=\"text-align: right;\">        4</td><td style=\"text-align: right;\">    2.41387 </td><td style=\"text-align: right;\">         512</td><td style=\"text-align: right;\">   0.000365259</td><td style=\"text-align: right;\">0.92516 </td><td style=\"text-align: right;\">    40</td><td style=\"text-align: right;\">         472.687</td></tr>\n",
       "<tr><td>runner_tune_4eefda3c</td><td>TERMINATED</td><td>172.17.0.2:24443</td><td>relu        </td><td style=\"text-align: right;\">        1024</td><td style=\"text-align: right;\">0.912961</td><td style=\"text-align: right;\">      1024</td><td style=\"text-align: right;\">         2048</td><td style=\"text-align: right;\">   0.2</td><td style=\"text-align: right;\">0.00268496 </td><td style=\"text-align: right;\">     0.0297891</td><td style=\"text-align: right;\">        6</td><td style=\"text-align: right;\">    2.85684 </td><td style=\"text-align: right;\">        1024</td><td style=\"text-align: right;\">   2.21198e-06</td><td style=\"text-align: right;\">0.915723</td><td style=\"text-align: right;\">    40</td><td style=\"text-align: right;\">         469.87 </td></tr>\n",
       "<tr><td>runner_tune_7ecc7172</td><td>TERMINATED</td><td>172.17.0.2:23864</td><td>gelu        </td><td style=\"text-align: right;\">         512</td><td style=\"text-align: right;\">0.864694</td><td style=\"text-align: right;\">       256</td><td style=\"text-align: right;\">         3072</td><td style=\"text-align: right;\">   0.2</td><td style=\"text-align: right;\">0.00545605 </td><td style=\"text-align: right;\">     0.0153685</td><td style=\"text-align: right;\">        6</td><td style=\"text-align: right;\">    1.38395 </td><td style=\"text-align: right;\">         512</td><td style=\"text-align: right;\">   0.000235328</td><td style=\"text-align: right;\">0.913619</td><td style=\"text-align: right;\">    40</td><td style=\"text-align: right;\">         163.999</td></tr>\n",
       "<tr><td>runner_tune_8af6a93c</td><td>TERMINATED</td><td>172.17.0.2:23416</td><td>gelu        </td><td style=\"text-align: right;\">        2048</td><td style=\"text-align: right;\">0.861278</td><td style=\"text-align: right;\">       512</td><td style=\"text-align: right;\">         2048</td><td style=\"text-align: right;\">   0.2</td><td style=\"text-align: right;\">0.00142321 </td><td style=\"text-align: right;\">     0.0109168</td><td style=\"text-align: right;\">        4</td><td style=\"text-align: right;\">    1.05091 </td><td style=\"text-align: right;\">        1024</td><td style=\"text-align: right;\">   7.29698e-05</td><td style=\"text-align: right;\">0.905029</td><td style=\"text-align: right;\">    40</td><td style=\"text-align: right;\">         225.724</td></tr>\n",
       "<tr><td>runner_tune_8dfbfaf6</td><td>TERMINATED</td><td>172.17.0.2:23452</td><td>gelu        </td><td style=\"text-align: right;\">        1024</td><td style=\"text-align: right;\">0.878715</td><td style=\"text-align: right;\">      1024</td><td style=\"text-align: right;\">         3072</td><td style=\"text-align: right;\">   0.2</td><td style=\"text-align: right;\">0.000388547</td><td style=\"text-align: right;\">     0.0600363</td><td style=\"text-align: right;\">        4</td><td style=\"text-align: right;\">    0.967701</td><td style=\"text-align: right;\">         512</td><td style=\"text-align: right;\">   1.96013e-06</td><td style=\"text-align: right;\">0.92002 </td><td style=\"text-align: right;\">    40</td><td style=\"text-align: right;\">         476.077</td></tr>\n",
       "<tr><td>runner_tune_8dffde28</td><td>TERMINATED</td><td>172.17.0.2:23456</td><td>celu        </td><td style=\"text-align: right;\">         512</td><td style=\"text-align: right;\">0.933962</td><td style=\"text-align: right;\">       512</td><td style=\"text-align: right;\">         3072</td><td style=\"text-align: right;\">   0.2</td><td style=\"text-align: right;\">0.0155582  </td><td style=\"text-align: right;\">     0.0114958</td><td style=\"text-align: right;\">        4</td><td style=\"text-align: right;\">    0.937316</td><td style=\"text-align: right;\">         256</td><td style=\"text-align: right;\">   5.94039e-05</td><td style=\"text-align: right;\">0.913619</td><td style=\"text-align: right;\">    40</td><td style=\"text-align: right;\">         225.835</td></tr>\n",
       "<tr><td>runner_tune_8e04acb4</td><td>TERMINATED</td><td>172.17.0.2:23458</td><td>celu        </td><td style=\"text-align: right;\">        2048</td><td style=\"text-align: right;\">0.85201 </td><td style=\"text-align: right;\">       512</td><td style=\"text-align: right;\">         4096</td><td style=\"text-align: right;\">   0.2</td><td style=\"text-align: right;\">0.0127664  </td><td style=\"text-align: right;\">     0.010833 </td><td style=\"text-align: right;\">        4</td><td style=\"text-align: right;\">    4.71985 </td><td style=\"text-align: right;\">        1024</td><td style=\"text-align: right;\">   0.00213176 </td><td style=\"text-align: right;\">0.835938</td><td style=\"text-align: right;\">    40</td><td style=\"text-align: right;\">         218.295</td></tr>\n",
       "<tr><td>runner_tune_8e093a4a</td><td>TERMINATED</td><td>172.17.0.2:23637</td><td>gelu        </td><td style=\"text-align: right;\">         512</td><td style=\"text-align: right;\">0.899772</td><td style=\"text-align: right;\">       256</td><td style=\"text-align: right;\">         2048</td><td style=\"text-align: right;\">   0.2</td><td style=\"text-align: right;\">0.000874165</td><td style=\"text-align: right;\">     0.0551409</td><td style=\"text-align: right;\">        8</td><td style=\"text-align: right;\">    4.97677 </td><td style=\"text-align: right;\">         256</td><td style=\"text-align: right;\">   0.00135551 </td><td style=\"text-align: right;\">0.895597</td><td style=\"text-align: right;\">    40</td><td style=\"text-align: right;\">         173.443</td></tr>\n",
       "<tr><td>runner_tune_90c339a0</td><td>TERMINATED</td><td>172.17.0.2:24212</td><td>relu        </td><td style=\"text-align: right;\">        1024</td><td style=\"text-align: right;\">0.889792</td><td style=\"text-align: right;\">      1024</td><td style=\"text-align: right;\">         3072</td><td style=\"text-align: right;\">   0.2</td><td style=\"text-align: right;\">0.000104563</td><td style=\"text-align: right;\">     0.0859329</td><td style=\"text-align: right;\">        4</td><td style=\"text-align: right;\">    2.46143 </td><td style=\"text-align: right;\">         512</td><td style=\"text-align: right;\">   2.74317e-06</td><td style=\"text-align: right;\">0.895801</td><td style=\"text-align: right;\">    40</td><td style=\"text-align: right;\">         512.018</td></tr>\n",
       "<tr><td>runner_tune_9b7e488a</td><td>TERMINATED</td><td>172.17.0.2:24262</td><td>relu        </td><td style=\"text-align: right;\">        1024</td><td style=\"text-align: right;\">0.896428</td><td style=\"text-align: right;\">      1024</td><td style=\"text-align: right;\">         3072</td><td style=\"text-align: right;\">   0.2</td><td style=\"text-align: right;\">0.000195718</td><td style=\"text-align: right;\">     0.0966927</td><td style=\"text-align: right;\">        4</td><td style=\"text-align: right;\">    2.74244 </td><td style=\"text-align: right;\">         512</td><td style=\"text-align: right;\">   1.20028e-06</td><td style=\"text-align: right;\">0.89668 </td><td style=\"text-align: right;\">    40</td><td style=\"text-align: right;\">         470.849</td></tr>\n",
       "</tbody>\n",
       "</table><br>... 5 more trials not shown (5 TERMINATED)<br><br>"
      ],
      "text/plain": [
       "<IPython.core.display.HTML object>"
      ]
     },
     "metadata": {},
     "output_type": "display_data"
    }
   ],
   "source": [
    "# hebo = HEBOSearch(metric=\"mean_accuracy\", mode=\"max\")\n",
    "\n",
    "# analysis = study.tune(config={\"lr_dense\": tune.loguniform(1e-3, 2e-2),\n",
    "#                               \"weight_decay\": tune.loguniform(1e-6, 1e-4),\n",
    "#                               \"gamma\": tune.loguniform(.1, .9),\n",
    "#                               \"dropout\": tune.uniform(0, .75),\n",
    "#                               \"scale_down\": tune.uniform(0.4, .7),\n",
    "#                               \"scale_up\": tune.uniform(0.9, 1.2),\n",
    "#                               \"ratio_down\": tune.uniform(0.7, .95),\n",
    "#                               \"ratio_up\": tune.uniform(1.05, 1.4),\n",
    "#                               \"channels\": tune.choice([128, 256, 512]),\n",
    "#                               \"batch_size\": tune.choice([512, 1024, 2048]),},\n",
    "#                        metric=\"mean_accuracy\",\n",
    "#                        max_concurrent_trials=4,\n",
    "#                        resources_per_trial={\"gpu\": 1},\n",
    "#                        mode=\"max\",\n",
    "#                        search_alg=hebo,\n",
    "#                       progress_reporter=JupyterNotebookReporter(overwrite=True),\n",
    "#                        num_samples=400)\n",
    "\n",
    "\n",
    "analysis = study.tune(config={\"lr_dense\": tune.loguniform(1e-4, 2e-2),\n",
    "                              \"weight_decay\": tune.loguniform(1e-6, 1e-2),\n",
    "                              \"beta1\": tune.loguniform(.85, .95),\n",
    "                              \"gain\": tune.uniform(0.2, .2),\n",
    "                              \"temprature\": tune.uniform(0.05, 5.),\n",
    "                              \"minimal_gain\": tune.loguniform(.01, .1),\n",
    "                              \"channels\": tune.choice([256, 512, 1024]),\n",
    "                              \"padding\": tune.choice([4, 6, 8]),\n",
    "                              \"turn_point\": tune.choice([256, 512, 1024]),\n",
    "                              \"final_point\": tune.choice([2048, 2048*1.5, 2048*2]),\n",
    "                              \"batch_size\": tune.choice([512, 1024, 2048]),\n",
    "                              \"activation\": tune.choice(['relu', 'celu', 'gelu']),},\n",
    "                       metric=\"mean_accuracy\",\n",
    "                       max_concurrent_trials=8,\n",
    "                       resources_per_trial={\"gpu\": 1},\n",
    "                       mode=\"max\",\n",
    "                       search_alg=OptunaSearch(),\n",
    "                      progress_reporter=JupyterNotebookReporter(overwrite=True),\n",
    "                       num_samples=400)\n"
   ]
  },
  {
   "cell_type": "code",
   "execution_count": null,
   "id": "f011e312-be26-4bd6-b8cc-123fd86d85d4",
   "metadata": {},
   "outputs": [],
   "source": []
  }
 ],
 "metadata": {
  "kernelspec": {
   "display_name": "Python 3 (ipykernel)",
   "language": "python",
   "name": "python3"
  },
  "language_info": {
   "codemirror_mode": {
    "name": "ipython",
    "version": 3
   },
   "file_extension": ".py",
   "mimetype": "text/x-python",
   "name": "python",
   "nbconvert_exporter": "python",
   "pygments_lexer": "ipython3",
   "version": "3.8.13"
  },
  "toc-autonumbering": true
 },
 "nbformat": 4,
 "nbformat_minor": 5
}
