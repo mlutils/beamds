{
 "cells": [
  {
   "cell_type": "code",
   "execution_count": 1,
   "id": "ff2c6119-ca49-447f-828f-51b0873c3dc5",
   "metadata": {},
   "outputs": [
    {
     "name": "stderr",
     "output_type": "stream",
     "text": [
      "2022-06-26 12:28:11,979\tINFO services.py:1456 -- View the Ray dashboard at \u001b[1m\u001b[32mhttp://127.0.0.1:13065\u001b[39m\u001b[22m\n",
      "2022-06-26 12:28:12,512\tINFO packaging.py:388 -- Creating a file package for local directory '..'.\n",
      "2022-06-26 12:28:12,536\tINFO packaging.py:241 -- Pushing file package 'gcs://_ray_pkg_16b7a439f752140a.zip' (1.03MiB) to Ray cluster...\n",
      "2022-06-26 12:28:12,551\tINFO packaging.py:243 -- Successfully pushed file package 'gcs://_ray_pkg_16b7a439f752140a.zip'.\n"
     ]
    }
   ],
   "source": [
    "%load_ext autoreload\n",
    "%autoreload 2\n",
    "\n",
    "import torch\n",
    "import torchvision\n",
    "import torch.nn.functional as F\n",
    "from torch import nn\n",
    "from sklearn.metrics import precision_recall_fscore_support\n",
    "import numpy as np\n",
    "import math\n",
    "\n",
    "# manage ray's relative imports\n",
    "import ray\n",
    "runtime_env = {\"working_dir\": \"..\" }\n",
    "ray.init(runtime_env=runtime_env, dashboard_port=13065, include_dashboard=True)\n",
    "\n",
    "from ray import tune\n",
    "from ray.tune.suggest.optuna import OptunaSearch\n",
    "from ray.tune import JupyterNotebookReporter\n",
    "\n",
    "# manage beams's relative imports\n",
    "import sys\n",
    "sys.path.append('..')\n",
    "\n",
    "from src.beam import beam_arguments, Experiment, Study\n",
    "from src.beam import UniversalDataset, UniversalBatchSampler, PackedFolds\n",
    "from src.beam import Algorithm\n",
    "from src.beam import LinearNet, check_type, slice_to_index\n",
    "from torchvision import transforms\n",
    "import matplotlib.pyplot as plt\n",
    "\n",
    "from src.beam import DataTensor\n",
    "from src.beam.utils import is_notebook\n",
    "\n",
    "from sklearn.datasets import fetch_covtype\n",
    "import pandas as pd\n",
    "\n",
    "from covtype_example import CovtypeDataset, CovtypeAlgorithm, RuleNet, covtype_algorithm_generator, get_covtype_parser "
   ]
  },
  {
   "cell_type": "code",
   "execution_count": 2,
   "id": "34aeced4-a0ea-419f-b926-22d55d689101",
   "metadata": {},
   "outputs": [],
   "source": [
    "path_to_data = '/home/shared/data/dataset/covtype'\n",
    "root_dir = '/home/shared/data/results/covtype'"
   ]
  },
  {
   "cell_type": "code",
   "execution_count": 13,
   "id": "a38b3342-4c45-46f4-bc4c-e95cbb0351ab",
   "metadata": {},
   "outputs": [
    {
     "name": "stdout",
     "output_type": "stream",
     "text": [
      "\u001b[32m2022-06-26 12:44:48.913\u001b[0m | \u001b[1mINFO    \u001b[0m | \u001b[36msrc.beam.experiment\u001b[0m:\u001b[36m__init__\u001b[0m:\u001b[36m183\u001b[0m - \u001b[1mbeam project: covtype\u001b[0m\n",
      "\u001b[32m2022-06-26 12:44:48.915\u001b[0m | \u001b[1mINFO    \u001b[0m | \u001b[36msrc.beam.experiment\u001b[0m:\u001b[36m__init__\u001b[0m:\u001b[36m184\u001b[0m - \u001b[1mExperiment Hyperparameters\u001b[0m\n",
      "\u001b[32m2022-06-26 12:44:48.916\u001b[0m | \u001b[1mINFO    \u001b[0m | \u001b[36msrc.beam.experiment\u001b[0m:\u001b[36m__init__\u001b[0m:\u001b[36m189\u001b[0m - \u001b[1mproject_name: covtype\u001b[0m\n",
      "\u001b[32m2022-06-26 12:44:48.917\u001b[0m | \u001b[1mINFO    \u001b[0m | \u001b[36msrc.beam.experiment\u001b[0m:\u001b[36m__init__\u001b[0m:\u001b[36m189\u001b[0m - \u001b[1midentifier: debug\u001b[0m\n",
      "\u001b[32m2022-06-26 12:44:48.918\u001b[0m | \u001b[1mINFO    \u001b[0m | \u001b[36msrc.beam.experiment\u001b[0m:\u001b[36m__init__\u001b[0m:\u001b[36m189\u001b[0m - \u001b[1malgorithm: CovtypeAlgorithm\u001b[0m\n",
      "\u001b[32m2022-06-26 12:44:48.919\u001b[0m | \u001b[1mINFO    \u001b[0m | \u001b[36msrc.beam.experiment\u001b[0m:\u001b[36m__init__\u001b[0m:\u001b[36m189\u001b[0m - \u001b[1mmp_port: None\u001b[0m\n",
      "\u001b[32m2022-06-26 12:44:48.920\u001b[0m | \u001b[1mINFO    \u001b[0m | \u001b[36msrc.beam.experiment\u001b[0m:\u001b[36m__init__\u001b[0m:\u001b[36m189\u001b[0m - \u001b[1mroot_dir: /home/shared/data/results/covtype\u001b[0m\n",
      "\u001b[32m2022-06-26 12:44:48.921\u001b[0m | \u001b[1mINFO    \u001b[0m | \u001b[36msrc.beam.experiment\u001b[0m:\u001b[36m__init__\u001b[0m:\u001b[36m189\u001b[0m - \u001b[1mreload: False\u001b[0m\n",
      "\u001b[32m2022-06-26 12:44:48.922\u001b[0m | \u001b[1mINFO    \u001b[0m | \u001b[36msrc.beam.experiment\u001b[0m:\u001b[36m__init__\u001b[0m:\u001b[36m189\u001b[0m - \u001b[1mresume: -1\u001b[0m\n",
      "\u001b[32m2022-06-26 12:44:48.923\u001b[0m | \u001b[1mINFO    \u001b[0m | \u001b[36msrc.beam.experiment\u001b[0m:\u001b[36m__init__\u001b[0m:\u001b[36m189\u001b[0m - \u001b[1moverride: False\u001b[0m\n",
      "\u001b[32m2022-06-26 12:44:48.924\u001b[0m | \u001b[1mINFO    \u001b[0m | \u001b[36msrc.beam.experiment\u001b[0m:\u001b[36m__init__\u001b[0m:\u001b[36m189\u001b[0m - \u001b[1mcpu_workers: 0\u001b[0m\n",
      "\u001b[32m2022-06-26 12:44:48.925\u001b[0m | \u001b[1mINFO    \u001b[0m | \u001b[36msrc.beam.experiment\u001b[0m:\u001b[36m__init__\u001b[0m:\u001b[36m189\u001b[0m - \u001b[1mdevice: 0\u001b[0m\n",
      "\u001b[32m2022-06-26 12:44:48.926\u001b[0m | \u001b[1mINFO    \u001b[0m | \u001b[36msrc.beam.experiment\u001b[0m:\u001b[36m__init__\u001b[0m:\u001b[36m189\u001b[0m - \u001b[1mparallel: 1\u001b[0m\n",
      "\u001b[32m2022-06-26 12:44:48.927\u001b[0m | \u001b[1mINFO    \u001b[0m | \u001b[36msrc.beam.experiment\u001b[0m:\u001b[36m__init__\u001b[0m:\u001b[36m189\u001b[0m - \u001b[1mtensorboard: True\u001b[0m\n",
      "\u001b[32m2022-06-26 12:44:48.927\u001b[0m | \u001b[1mINFO    \u001b[0m | \u001b[36msrc.beam.experiment\u001b[0m:\u001b[36m__init__\u001b[0m:\u001b[36m189\u001b[0m - \u001b[1mlognet: True\u001b[0m\n",
      "\u001b[32m2022-06-26 12:44:48.927\u001b[0m | \u001b[1mINFO    \u001b[0m | \u001b[36msrc.beam.experiment\u001b[0m:\u001b[36m__init__\u001b[0m:\u001b[36m189\u001b[0m - \u001b[1mdeterministic: False\u001b[0m\n",
      "\u001b[32m2022-06-26 12:44:48.928\u001b[0m | \u001b[1mINFO    \u001b[0m | \u001b[36msrc.beam.experiment\u001b[0m:\u001b[36m__init__\u001b[0m:\u001b[36m189\u001b[0m - \u001b[1mscale_epoch_by_batch_size: True\u001b[0m\n",
      "\u001b[32m2022-06-26 12:44:48.929\u001b[0m | \u001b[1mINFO    \u001b[0m | \u001b[36msrc.beam.experiment\u001b[0m:\u001b[36m__init__\u001b[0m:\u001b[36m189\u001b[0m - \u001b[1mcudnn_benchmark: True\u001b[0m\n",
      "\u001b[32m2022-06-26 12:44:48.929\u001b[0m | \u001b[1mINFO    \u001b[0m | \u001b[36msrc.beam.experiment\u001b[0m:\u001b[36m__init__\u001b[0m:\u001b[36m189\u001b[0m - \u001b[1mhalf: False\u001b[0m\n",
      "\u001b[32m2022-06-26 12:44:48.929\u001b[0m | \u001b[1mINFO    \u001b[0m | \u001b[36msrc.beam.experiment\u001b[0m:\u001b[36m__init__\u001b[0m:\u001b[36m189\u001b[0m - \u001b[1mamp: False\u001b[0m\n",
      "\u001b[32m2022-06-26 12:44:48.930\u001b[0m | \u001b[1mINFO    \u001b[0m | \u001b[36msrc.beam.experiment\u001b[0m:\u001b[36m__init__\u001b[0m:\u001b[36m189\u001b[0m - \u001b[1minit: ortho\u001b[0m\n",
      "\u001b[32m2022-06-26 12:44:48.930\u001b[0m | \u001b[1mINFO    \u001b[0m | \u001b[36msrc.beam.experiment\u001b[0m:\u001b[36m__init__\u001b[0m:\u001b[36m189\u001b[0m - \u001b[1mseed: 0\u001b[0m\n",
      "\u001b[32m2022-06-26 12:44:48.931\u001b[0m | \u001b[1mINFO    \u001b[0m | \u001b[36msrc.beam.experiment\u001b[0m:\u001b[36m__init__\u001b[0m:\u001b[36m189\u001b[0m - \u001b[1mtotal_steps: 1000000\u001b[0m\n",
      "\u001b[32m2022-06-26 12:44:48.931\u001b[0m | \u001b[1mINFO    \u001b[0m | \u001b[36msrc.beam.experiment\u001b[0m:\u001b[36m__init__\u001b[0m:\u001b[36m189\u001b[0m - \u001b[1mepoch_length: None\u001b[0m\n",
      "\u001b[32m2022-06-26 12:44:48.932\u001b[0m | \u001b[1mINFO    \u001b[0m | \u001b[36msrc.beam.experiment\u001b[0m:\u001b[36m__init__\u001b[0m:\u001b[36m189\u001b[0m - \u001b[1mepoch_length_train: None\u001b[0m\n",
      "\u001b[32m2022-06-26 12:44:48.932\u001b[0m | \u001b[1mINFO    \u001b[0m | \u001b[36msrc.beam.experiment\u001b[0m:\u001b[36m__init__\u001b[0m:\u001b[36m189\u001b[0m - \u001b[1mepoch_length_eval: None\u001b[0m\n",
      "\u001b[32m2022-06-26 12:44:48.933\u001b[0m | \u001b[1mINFO    \u001b[0m | \u001b[36msrc.beam.experiment\u001b[0m:\u001b[36m__init__\u001b[0m:\u001b[36m189\u001b[0m - \u001b[1mn_epochs: 100\u001b[0m\n",
      "\u001b[32m2022-06-26 12:44:48.933\u001b[0m | \u001b[1mINFO    \u001b[0m | \u001b[36msrc.beam.experiment\u001b[0m:\u001b[36m__init__\u001b[0m:\u001b[36m189\u001b[0m - \u001b[1mbatch_size: 512\u001b[0m\n",
      "\u001b[32m2022-06-26 12:44:48.934\u001b[0m | \u001b[1mINFO    \u001b[0m | \u001b[36msrc.beam.experiment\u001b[0m:\u001b[36m__init__\u001b[0m:\u001b[36m189\u001b[0m - \u001b[1mbatch_size_train: None\u001b[0m\n",
      "\u001b[32m2022-06-26 12:44:48.934\u001b[0m | \u001b[1mINFO    \u001b[0m | \u001b[36msrc.beam.experiment\u001b[0m:\u001b[36m__init__\u001b[0m:\u001b[36m189\u001b[0m - \u001b[1mbatch_size_eval: None\u001b[0m\n",
      "\u001b[32m2022-06-26 12:44:48.935\u001b[0m | \u001b[1mINFO    \u001b[0m | \u001b[36msrc.beam.experiment\u001b[0m:\u001b[36m__init__\u001b[0m:\u001b[36m189\u001b[0m - \u001b[1mlr_dense: 0.001\u001b[0m\n",
      "\u001b[32m2022-06-26 12:44:48.936\u001b[0m | \u001b[1mINFO    \u001b[0m | \u001b[36msrc.beam.experiment\u001b[0m:\u001b[36m__init__\u001b[0m:\u001b[36m189\u001b[0m - \u001b[1mlr_sparse: 0.02\u001b[0m\n",
      "\u001b[32m2022-06-26 12:44:48.936\u001b[0m | \u001b[1mINFO    \u001b[0m | \u001b[36msrc.beam.experiment\u001b[0m:\u001b[36m__init__\u001b[0m:\u001b[36m189\u001b[0m - \u001b[1mweight_decay: 0.001\u001b[0m\n",
      "\u001b[32m2022-06-26 12:44:48.937\u001b[0m | \u001b[1mINFO    \u001b[0m | \u001b[36msrc.beam.experiment\u001b[0m:\u001b[36m__init__\u001b[0m:\u001b[36m189\u001b[0m - \u001b[1meps: 0.0001\u001b[0m\n",
      "\u001b[32m2022-06-26 12:44:48.937\u001b[0m | \u001b[1mINFO    \u001b[0m | \u001b[36msrc.beam.experiment\u001b[0m:\u001b[36m__init__\u001b[0m:\u001b[36m189\u001b[0m - \u001b[1mbeta1: 0.9\u001b[0m\n",
      "\u001b[32m2022-06-26 12:44:48.938\u001b[0m | \u001b[1mINFO    \u001b[0m | \u001b[36msrc.beam.experiment\u001b[0m:\u001b[36m__init__\u001b[0m:\u001b[36m189\u001b[0m - \u001b[1mbeta2: 0.99\u001b[0m\n",
      "\u001b[32m2022-06-26 12:44:48.939\u001b[0m | \u001b[1mINFO    \u001b[0m | \u001b[36msrc.beam.experiment\u001b[0m:\u001b[36m__init__\u001b[0m:\u001b[36m189\u001b[0m - \u001b[1mclip: 0.0\u001b[0m\n",
      "\u001b[32m2022-06-26 12:44:48.939\u001b[0m | \u001b[1mINFO    \u001b[0m | \u001b[36msrc.beam.experiment\u001b[0m:\u001b[36m__init__\u001b[0m:\u001b[36m189\u001b[0m - \u001b[1maccumulate: 1\u001b[0m\n",
      "\u001b[32m2022-06-26 12:44:48.940\u001b[0m | \u001b[1mINFO    \u001b[0m | \u001b[36msrc.beam.experiment\u001b[0m:\u001b[36m__init__\u001b[0m:\u001b[36m189\u001b[0m - \u001b[1mprint_results: True\u001b[0m\n",
      "\u001b[32m2022-06-26 12:44:48.940\u001b[0m | \u001b[1mINFO    \u001b[0m | \u001b[36msrc.beam.experiment\u001b[0m:\u001b[36m__init__\u001b[0m:\u001b[36m189\u001b[0m - \u001b[1mvisualize_weights: True\u001b[0m\n",
      "\u001b[32m2022-06-26 12:44:48.941\u001b[0m | \u001b[1mINFO    \u001b[0m | \u001b[36msrc.beam.experiment\u001b[0m:\u001b[36m__init__\u001b[0m:\u001b[36m189\u001b[0m - \u001b[1menable_tqdm: True\u001b[0m\n",
      "\u001b[32m2022-06-26 12:44:48.941\u001b[0m | \u001b[1mINFO    \u001b[0m | \u001b[36msrc.beam.experiment\u001b[0m:\u001b[36m__init__\u001b[0m:\u001b[36m189\u001b[0m - \u001b[1mvisualize_results: yes\u001b[0m\n",
      "\u001b[32m2022-06-26 12:44:48.942\u001b[0m | \u001b[1mINFO    \u001b[0m | \u001b[36msrc.beam.experiment\u001b[0m:\u001b[36m__init__\u001b[0m:\u001b[36m189\u001b[0m - \u001b[1mstore_results: logscale\u001b[0m\n",
      "\u001b[32m2022-06-26 12:44:48.943\u001b[0m | \u001b[1mINFO    \u001b[0m | \u001b[36msrc.beam.experiment\u001b[0m:\u001b[36m__init__\u001b[0m:\u001b[36m189\u001b[0m - \u001b[1mstore_networks: logscale\u001b[0m\n",
      "\u001b[32m2022-06-26 12:44:48.943\u001b[0m | \u001b[1mINFO    \u001b[0m | \u001b[36msrc.beam.experiment\u001b[0m:\u001b[36m__init__\u001b[0m:\u001b[36m189\u001b[0m - \u001b[1mweight_factor: 1.0\u001b[0m\n",
      "\u001b[32m2022-06-26 12:44:48.944\u001b[0m | \u001b[1mINFO    \u001b[0m | \u001b[36msrc.beam.experiment\u001b[0m:\u001b[36m__init__\u001b[0m:\u001b[36m189\u001b[0m - \u001b[1mlabel_smoothing: 0.2\u001b[0m\n",
      "\u001b[32m2022-06-26 12:44:48.944\u001b[0m | \u001b[1mINFO    \u001b[0m | \u001b[36msrc.beam.experiment\u001b[0m:\u001b[36m__init__\u001b[0m:\u001b[36m189\u001b[0m - \u001b[1mactivation: gelu\u001b[0m\n",
      "\u001b[32m2022-06-26 12:44:48.945\u001b[0m | \u001b[1mINFO    \u001b[0m | \u001b[36msrc.beam.experiment\u001b[0m:\u001b[36m__init__\u001b[0m:\u001b[36m189\u001b[0m - \u001b[1mchannels: 256\u001b[0m\n",
      "\u001b[32m2022-06-26 12:44:48.945\u001b[0m | \u001b[1mINFO    \u001b[0m | \u001b[36msrc.beam.experiment\u001b[0m:\u001b[36m__init__\u001b[0m:\u001b[36m189\u001b[0m - \u001b[1mDropout: 0.0\u001b[0m\n",
      "\u001b[32m2022-06-26 12:44:48.946\u001b[0m | \u001b[1mINFO    \u001b[0m | \u001b[36msrc.beam.experiment\u001b[0m:\u001b[36m__init__\u001b[0m:\u001b[36m189\u001b[0m - \u001b[1mn_rules: 128\u001b[0m\n",
      "\u001b[32m2022-06-26 12:44:48.947\u001b[0m | \u001b[1mINFO    \u001b[0m | \u001b[36msrc.beam.experiment\u001b[0m:\u001b[36m__init__\u001b[0m:\u001b[36m189\u001b[0m - \u001b[1mn_layers: 4\u001b[0m\n",
      "\u001b[32m2022-06-26 12:44:48.947\u001b[0m | \u001b[1mINFO    \u001b[0m | \u001b[36msrc.beam.experiment\u001b[0m:\u001b[36m__init__\u001b[0m:\u001b[36m189\u001b[0m - \u001b[1mn_quantiles: 20\u001b[0m\n",
      "\u001b[32m2022-06-26 12:44:48.948\u001b[0m | \u001b[1mINFO    \u001b[0m | \u001b[36msrc.beam.experiment\u001b[0m:\u001b[36m__init__\u001b[0m:\u001b[36m189\u001b[0m - \u001b[1mn_tables: 15\u001b[0m\n",
      "\u001b[32m2022-06-26 12:44:48.948\u001b[0m | \u001b[1mINFO    \u001b[0m | \u001b[36msrc.beam.experiment\u001b[0m:\u001b[36m__init__\u001b[0m:\u001b[36m189\u001b[0m - \u001b[1mscheduler_factor: 0.31622776601683794\u001b[0m\n",
      "\u001b[32m2022-06-26 12:44:48.949\u001b[0m | \u001b[1mINFO    \u001b[0m | \u001b[36msrc.beam.experiment\u001b[0m:\u001b[36m__init__\u001b[0m:\u001b[36m189\u001b[0m - \u001b[1mscheduler_patience: 16\u001b[0m\n",
      "\u001b[32m2022-06-26 12:44:48.949\u001b[0m | \u001b[1mINFO    \u001b[0m | \u001b[36msrc.beam.experiment\u001b[0m:\u001b[36m__init__\u001b[0m:\u001b[36m189\u001b[0m - \u001b[1meval_ensembles: 64\u001b[0m\n",
      "\u001b[32m2022-06-26 12:44:48.950\u001b[0m | \u001b[1mINFO    \u001b[0m | \u001b[36msrc.beam.experiment\u001b[0m:\u001b[36m__init__\u001b[0m:\u001b[36m189\u001b[0m - \u001b[1minitial_mask: 1\u001b[0m\n",
      "\u001b[32m2022-06-26 12:44:48.951\u001b[0m | \u001b[1mINFO    \u001b[0m | \u001b[36msrc.beam.experiment\u001b[0m:\u001b[36m__init__\u001b[0m:\u001b[36m189\u001b[0m - \u001b[1mqnorm_momentum: 0.001\u001b[0m\n",
      "\u001b[32m2022-06-26 12:44:48.951\u001b[0m | \u001b[1mINFO    \u001b[0m | \u001b[36msrc.beam.experiment\u001b[0m:\u001b[36m__init__\u001b[0m:\u001b[36m189\u001b[0m - \u001b[1mk_p: 0.05\u001b[0m\n",
      "\u001b[32m2022-06-26 12:44:48.952\u001b[0m | \u001b[1mINFO    \u001b[0m | \u001b[36msrc.beam.experiment\u001b[0m:\u001b[36m__init__\u001b[0m:\u001b[36m189\u001b[0m - \u001b[1mk_i: 0.001\u001b[0m\n",
      "\u001b[32m2022-06-26 12:44:48.952\u001b[0m | \u001b[1mINFO    \u001b[0m | \u001b[36msrc.beam.experiment\u001b[0m:\u001b[36m__init__\u001b[0m:\u001b[36m189\u001b[0m - \u001b[1mk_d: 0.005\u001b[0m\n",
      "\u001b[32m2022-06-26 12:44:48.953\u001b[0m | \u001b[1mINFO    \u001b[0m | \u001b[36msrc.beam.experiment\u001b[0m:\u001b[36m__init__\u001b[0m:\u001b[36m189\u001b[0m - \u001b[1mT_pid: 20\u001b[0m\n",
      "\u001b[32m2022-06-26 12:44:48.954\u001b[0m | \u001b[1mINFO    \u001b[0m | \u001b[36msrc.beam.experiment\u001b[0m:\u001b[36m__init__\u001b[0m:\u001b[36m189\u001b[0m - \u001b[1mclip_pid: 0.005\u001b[0m\n",
      "\u001b[32m2022-06-26 12:44:48.954\u001b[0m | \u001b[1mINFO    \u001b[0m | \u001b[36msrc.beam.experiment\u001b[0m:\u001b[36m__init__\u001b[0m:\u001b[36m189\u001b[0m - \u001b[1mpath_to_data: /home/shared/data/dataset/covtype\u001b[0m\n",
      "\u001b[32m2022-06-26 12:44:48.955\u001b[0m | \u001b[1mINFO    \u001b[0m | \u001b[36msrc.beam.experiment\u001b[0m:\u001b[36m__init__\u001b[0m:\u001b[36m189\u001b[0m - \u001b[1mdropout: 0.0\u001b[0m\n",
      "\u001b[32m2022-06-26 12:44:48.963\u001b[0m | \u001b[1mINFO    \u001b[0m | \u001b[36msrc.beam.experiment\u001b[0m:\u001b[36m__init__\u001b[0m:\u001b[36m259\u001b[0m - \u001b[1mCreating new experiment\u001b[0m\n",
      "\u001b[32m2022-06-26 12:44:48.964\u001b[0m | \u001b[1mINFO    \u001b[0m | \u001b[36msrc.beam.experiment\u001b[0m:\u001b[36m__init__\u001b[0m:\u001b[36m274\u001b[0m - \u001b[1mExperiment directory is: /home/shared/data/results/covtype/covtype/CovtypeAlgorithm/debug/0001_20220626_124448\u001b[0m\n"
     ]
    }
   ],
   "source": [
    "args = beam_arguments(get_covtype_parser(), \n",
    "        f\"--project-name=covtype --root-dir={root_dir} --algorithm=CovtypeAlgorithm --device=0 --no-half --lr-d=1e-3 --lr-s=.02 --batch-size=512\",\n",
    "        \"--n-epochs=100 --clip=0 --parallel=1 --accumulate=1 --cudnn-benchmark\",\n",
    "        \"--weight-decay=1e-5 --beta1=0.9 --beta2=0.99\", weight_factor=1., scheduler_patience=16, weight_decay=1e-3,  label_smoothing=.2,\n",
    "                      k_p=.05, k_i=0.001, k_d=0.005, initial_mask=1,\n",
    "        path_to_data=path_to_data, dropout=.0, activation='gelu', channels=256, n_rules=128, n_layers=4, scheduler_factor=1/math.sqrt(10))\n",
    "\n",
    "experiment = Experiment(args)"
   ]
  },
  {
   "cell_type": "code",
   "execution_count": 37,
   "id": "1a8fb568-1c8c-4b4d-aaf5-85c332c68808",
   "metadata": {},
   "outputs": [
    {
     "name": "stdout",
     "output_type": "stream",
     "text": [
      "\u001b[32m2022-06-26 15:27:13.751\u001b[0m | \u001b[1mINFO    \u001b[0m | \u001b[36msrc.beam.experiment\u001b[0m:\u001b[36m__init__\u001b[0m:\u001b[36m183\u001b[0m - \u001b[1mbeam project: covtype\u001b[0m\n",
      "\u001b[32m2022-06-26 15:27:13.752\u001b[0m | \u001b[1mINFO    \u001b[0m | \u001b[36msrc.beam.experiment\u001b[0m:\u001b[36m__init__\u001b[0m:\u001b[36m184\u001b[0m - \u001b[1mExperiment Hyperparameters\u001b[0m\n",
      "\u001b[32m2022-06-26 15:27:13.753\u001b[0m | \u001b[1mINFO    \u001b[0m | \u001b[36msrc.beam.experiment\u001b[0m:\u001b[36m__init__\u001b[0m:\u001b[36m189\u001b[0m - \u001b[1mproject_name: covtype\u001b[0m\n",
      "\u001b[32m2022-06-26 15:27:13.754\u001b[0m | \u001b[1mINFO    \u001b[0m | \u001b[36msrc.beam.experiment\u001b[0m:\u001b[36m__init__\u001b[0m:\u001b[36m189\u001b[0m - \u001b[1midentifier: debug\u001b[0m\n",
      "\u001b[32m2022-06-26 15:27:13.754\u001b[0m | \u001b[1mINFO    \u001b[0m | \u001b[36msrc.beam.experiment\u001b[0m:\u001b[36m__init__\u001b[0m:\u001b[36m189\u001b[0m - \u001b[1malgorithm: CovtypeAlgorithm\u001b[0m\n",
      "\u001b[32m2022-06-26 15:27:13.755\u001b[0m | \u001b[1mINFO    \u001b[0m | \u001b[36msrc.beam.experiment\u001b[0m:\u001b[36m__init__\u001b[0m:\u001b[36m189\u001b[0m - \u001b[1mmp_port: None\u001b[0m\n",
      "\u001b[32m2022-06-26 15:27:13.756\u001b[0m | \u001b[1mINFO    \u001b[0m | \u001b[36msrc.beam.experiment\u001b[0m:\u001b[36m__init__\u001b[0m:\u001b[36m189\u001b[0m - \u001b[1mroot_dir: /home/shared/data/results/covtype\u001b[0m\n",
      "\u001b[32m2022-06-26 15:27:13.756\u001b[0m | \u001b[1mINFO    \u001b[0m | \u001b[36msrc.beam.experiment\u001b[0m:\u001b[36m__init__\u001b[0m:\u001b[36m189\u001b[0m - \u001b[1mreload: False\u001b[0m\n",
      "\u001b[32m2022-06-26 15:27:13.757\u001b[0m | \u001b[1mINFO    \u001b[0m | \u001b[36msrc.beam.experiment\u001b[0m:\u001b[36m__init__\u001b[0m:\u001b[36m189\u001b[0m - \u001b[1mresume: -1\u001b[0m\n",
      "\u001b[32m2022-06-26 15:27:13.757\u001b[0m | \u001b[1mINFO    \u001b[0m | \u001b[36msrc.beam.experiment\u001b[0m:\u001b[36m__init__\u001b[0m:\u001b[36m189\u001b[0m - \u001b[1moverride: False\u001b[0m\n",
      "\u001b[32m2022-06-26 15:27:13.758\u001b[0m | \u001b[1mINFO    \u001b[0m | \u001b[36msrc.beam.experiment\u001b[0m:\u001b[36m__init__\u001b[0m:\u001b[36m189\u001b[0m - \u001b[1mcpu_workers: 0\u001b[0m\n",
      "\u001b[32m2022-06-26 15:27:13.759\u001b[0m | \u001b[1mINFO    \u001b[0m | \u001b[36msrc.beam.experiment\u001b[0m:\u001b[36m__init__\u001b[0m:\u001b[36m189\u001b[0m - \u001b[1mdevice: 0\u001b[0m\n",
      "\u001b[32m2022-06-26 15:27:13.759\u001b[0m | \u001b[1mINFO    \u001b[0m | \u001b[36msrc.beam.experiment\u001b[0m:\u001b[36m__init__\u001b[0m:\u001b[36m189\u001b[0m - \u001b[1mparallel: 1\u001b[0m\n",
      "\u001b[32m2022-06-26 15:27:13.760\u001b[0m | \u001b[1mINFO    \u001b[0m | \u001b[36msrc.beam.experiment\u001b[0m:\u001b[36m__init__\u001b[0m:\u001b[36m189\u001b[0m - \u001b[1mtensorboard: True\u001b[0m\n",
      "\u001b[32m2022-06-26 15:27:13.761\u001b[0m | \u001b[1mINFO    \u001b[0m | \u001b[36msrc.beam.experiment\u001b[0m:\u001b[36m__init__\u001b[0m:\u001b[36m189\u001b[0m - \u001b[1mlognet: True\u001b[0m\n",
      "\u001b[32m2022-06-26 15:27:13.761\u001b[0m | \u001b[1mINFO    \u001b[0m | \u001b[36msrc.beam.experiment\u001b[0m:\u001b[36m__init__\u001b[0m:\u001b[36m189\u001b[0m - \u001b[1mdeterministic: False\u001b[0m\n",
      "\u001b[32m2022-06-26 15:27:13.762\u001b[0m | \u001b[1mINFO    \u001b[0m | \u001b[36msrc.beam.experiment\u001b[0m:\u001b[36m__init__\u001b[0m:\u001b[36m189\u001b[0m - \u001b[1mscale_epoch_by_batch_size: True\u001b[0m\n",
      "\u001b[32m2022-06-26 15:27:13.762\u001b[0m | \u001b[1mINFO    \u001b[0m | \u001b[36msrc.beam.experiment\u001b[0m:\u001b[36m__init__\u001b[0m:\u001b[36m189\u001b[0m - \u001b[1mcudnn_benchmark: True\u001b[0m\n",
      "\u001b[32m2022-06-26 15:27:13.763\u001b[0m | \u001b[1mINFO    \u001b[0m | \u001b[36msrc.beam.experiment\u001b[0m:\u001b[36m__init__\u001b[0m:\u001b[36m189\u001b[0m - \u001b[1mhalf: False\u001b[0m\n",
      "\u001b[32m2022-06-26 15:27:13.764\u001b[0m | \u001b[1mINFO    \u001b[0m | \u001b[36msrc.beam.experiment\u001b[0m:\u001b[36m__init__\u001b[0m:\u001b[36m189\u001b[0m - \u001b[1mamp: True\u001b[0m\n",
      "\u001b[32m2022-06-26 15:27:13.764\u001b[0m | \u001b[1mINFO    \u001b[0m | \u001b[36msrc.beam.experiment\u001b[0m:\u001b[36m__init__\u001b[0m:\u001b[36m189\u001b[0m - \u001b[1minit: ortho\u001b[0m\n",
      "\u001b[32m2022-06-26 15:27:13.765\u001b[0m | \u001b[1mINFO    \u001b[0m | \u001b[36msrc.beam.experiment\u001b[0m:\u001b[36m__init__\u001b[0m:\u001b[36m189\u001b[0m - \u001b[1mseed: 0\u001b[0m\n",
      "\u001b[32m2022-06-26 15:27:13.766\u001b[0m | \u001b[1mINFO    \u001b[0m | \u001b[36msrc.beam.experiment\u001b[0m:\u001b[36m__init__\u001b[0m:\u001b[36m189\u001b[0m - \u001b[1mtotal_steps: 1000000\u001b[0m\n",
      "\u001b[32m2022-06-26 15:27:13.766\u001b[0m | \u001b[1mINFO    \u001b[0m | \u001b[36msrc.beam.experiment\u001b[0m:\u001b[36m__init__\u001b[0m:\u001b[36m189\u001b[0m - \u001b[1mepoch_length: None\u001b[0m\n",
      "\u001b[32m2022-06-26 15:27:13.767\u001b[0m | \u001b[1mINFO    \u001b[0m | \u001b[36msrc.beam.experiment\u001b[0m:\u001b[36m__init__\u001b[0m:\u001b[36m189\u001b[0m - \u001b[1mepoch_length_train: None\u001b[0m\n",
      "\u001b[32m2022-06-26 15:27:13.768\u001b[0m | \u001b[1mINFO    \u001b[0m | \u001b[36msrc.beam.experiment\u001b[0m:\u001b[36m__init__\u001b[0m:\u001b[36m189\u001b[0m - \u001b[1mepoch_length_eval: None\u001b[0m\n",
      "\u001b[32m2022-06-26 15:27:13.768\u001b[0m | \u001b[1mINFO    \u001b[0m | \u001b[36msrc.beam.experiment\u001b[0m:\u001b[36m__init__\u001b[0m:\u001b[36m189\u001b[0m - \u001b[1mn_epochs: 100\u001b[0m\n",
      "\u001b[32m2022-06-26 15:27:13.769\u001b[0m | \u001b[1mINFO    \u001b[0m | \u001b[36msrc.beam.experiment\u001b[0m:\u001b[36m__init__\u001b[0m:\u001b[36m189\u001b[0m - \u001b[1mbatch_size: 1024\u001b[0m\n",
      "\u001b[32m2022-06-26 15:27:13.770\u001b[0m | \u001b[1mINFO    \u001b[0m | \u001b[36msrc.beam.experiment\u001b[0m:\u001b[36m__init__\u001b[0m:\u001b[36m189\u001b[0m - \u001b[1mbatch_size_train: None\u001b[0m\n",
      "\u001b[32m2022-06-26 15:27:13.770\u001b[0m | \u001b[1mINFO    \u001b[0m | \u001b[36msrc.beam.experiment\u001b[0m:\u001b[36m__init__\u001b[0m:\u001b[36m189\u001b[0m - \u001b[1mbatch_size_eval: None\u001b[0m\n",
      "\u001b[32m2022-06-26 15:27:13.771\u001b[0m | \u001b[1mINFO    \u001b[0m | \u001b[36msrc.beam.experiment\u001b[0m:\u001b[36m__init__\u001b[0m:\u001b[36m189\u001b[0m - \u001b[1mlr_dense: 0.001\u001b[0m\n",
      "\u001b[32m2022-06-26 15:27:13.772\u001b[0m | \u001b[1mINFO    \u001b[0m | \u001b[36msrc.beam.experiment\u001b[0m:\u001b[36m__init__\u001b[0m:\u001b[36m189\u001b[0m - \u001b[1mlr_sparse: 0.02\u001b[0m\n",
      "\u001b[32m2022-06-26 15:27:13.773\u001b[0m | \u001b[1mINFO    \u001b[0m | \u001b[36msrc.beam.experiment\u001b[0m:\u001b[36m__init__\u001b[0m:\u001b[36m189\u001b[0m - \u001b[1mweight_decay: 1e-05\u001b[0m\n",
      "\u001b[32m2022-06-26 15:27:13.774\u001b[0m | \u001b[1mINFO    \u001b[0m | \u001b[36msrc.beam.experiment\u001b[0m:\u001b[36m__init__\u001b[0m:\u001b[36m189\u001b[0m - \u001b[1meps: 0.0001\u001b[0m\n",
      "\u001b[32m2022-06-26 15:27:13.778\u001b[0m | \u001b[1mINFO    \u001b[0m | \u001b[36msrc.beam.experiment\u001b[0m:\u001b[36m__init__\u001b[0m:\u001b[36m189\u001b[0m - \u001b[1mbeta1: 0.9\u001b[0m\n",
      "\u001b[32m2022-06-26 15:27:13.779\u001b[0m | \u001b[1mINFO    \u001b[0m | \u001b[36msrc.beam.experiment\u001b[0m:\u001b[36m__init__\u001b[0m:\u001b[36m189\u001b[0m - \u001b[1mbeta2: 0.999\u001b[0m\n",
      "\u001b[32m2022-06-26 15:27:13.779\u001b[0m | \u001b[1mINFO    \u001b[0m | \u001b[36msrc.beam.experiment\u001b[0m:\u001b[36m__init__\u001b[0m:\u001b[36m189\u001b[0m - \u001b[1mclip: 0.0\u001b[0m\n",
      "\u001b[32m2022-06-26 15:27:13.780\u001b[0m | \u001b[1mINFO    \u001b[0m | \u001b[36msrc.beam.experiment\u001b[0m:\u001b[36m__init__\u001b[0m:\u001b[36m189\u001b[0m - \u001b[1maccumulate: 1\u001b[0m\n",
      "\u001b[32m2022-06-26 15:27:13.781\u001b[0m | \u001b[1mINFO    \u001b[0m | \u001b[36msrc.beam.experiment\u001b[0m:\u001b[36m__init__\u001b[0m:\u001b[36m189\u001b[0m - \u001b[1mprint_results: True\u001b[0m\n",
      "\u001b[32m2022-06-26 15:27:13.781\u001b[0m | \u001b[1mINFO    \u001b[0m | \u001b[36msrc.beam.experiment\u001b[0m:\u001b[36m__init__\u001b[0m:\u001b[36m189\u001b[0m - \u001b[1mvisualize_weights: True\u001b[0m\n",
      "\u001b[32m2022-06-26 15:27:13.782\u001b[0m | \u001b[1mINFO    \u001b[0m | \u001b[36msrc.beam.experiment\u001b[0m:\u001b[36m__init__\u001b[0m:\u001b[36m189\u001b[0m - \u001b[1menable_tqdm: True\u001b[0m\n",
      "\u001b[32m2022-06-26 15:27:13.782\u001b[0m | \u001b[1mINFO    \u001b[0m | \u001b[36msrc.beam.experiment\u001b[0m:\u001b[36m__init__\u001b[0m:\u001b[36m189\u001b[0m - \u001b[1mvisualize_results: yes\u001b[0m\n",
      "\u001b[32m2022-06-26 15:27:13.783\u001b[0m | \u001b[1mINFO    \u001b[0m | \u001b[36msrc.beam.experiment\u001b[0m:\u001b[36m__init__\u001b[0m:\u001b[36m189\u001b[0m - \u001b[1mstore_results: logscale\u001b[0m\n",
      "\u001b[32m2022-06-26 15:27:13.784\u001b[0m | \u001b[1mINFO    \u001b[0m | \u001b[36msrc.beam.experiment\u001b[0m:\u001b[36m__init__\u001b[0m:\u001b[36m189\u001b[0m - \u001b[1mstore_networks: logscale\u001b[0m\n",
      "\u001b[32m2022-06-26 15:27:13.784\u001b[0m | \u001b[1mINFO    \u001b[0m | \u001b[36msrc.beam.experiment\u001b[0m:\u001b[36m__init__\u001b[0m:\u001b[36m189\u001b[0m - \u001b[1mweight_factor: 0.0\u001b[0m\n",
      "\u001b[32m2022-06-26 15:27:13.785\u001b[0m | \u001b[1mINFO    \u001b[0m | \u001b[36msrc.beam.experiment\u001b[0m:\u001b[36m__init__\u001b[0m:\u001b[36m189\u001b[0m - \u001b[1mlabel_smoothing: 0.1\u001b[0m\n",
      "\u001b[32m2022-06-26 15:27:13.785\u001b[0m | \u001b[1mINFO    \u001b[0m | \u001b[36msrc.beam.experiment\u001b[0m:\u001b[36m__init__\u001b[0m:\u001b[36m189\u001b[0m - \u001b[1mactivation: gelu\u001b[0m\n",
      "\u001b[32m2022-06-26 15:27:13.786\u001b[0m | \u001b[1mINFO    \u001b[0m | \u001b[36msrc.beam.experiment\u001b[0m:\u001b[36m__init__\u001b[0m:\u001b[36m189\u001b[0m - \u001b[1mchannels: 192\u001b[0m\n",
      "\u001b[32m2022-06-26 15:27:13.786\u001b[0m | \u001b[1mINFO    \u001b[0m | \u001b[36msrc.beam.experiment\u001b[0m:\u001b[36m__init__\u001b[0m:\u001b[36m189\u001b[0m - \u001b[1mDropout: 0.0\u001b[0m\n",
      "\u001b[32m2022-06-26 15:27:13.787\u001b[0m | \u001b[1mINFO    \u001b[0m | \u001b[36msrc.beam.experiment\u001b[0m:\u001b[36m__init__\u001b[0m:\u001b[36m189\u001b[0m - \u001b[1mn_rules: 128\u001b[0m\n",
      "\u001b[32m2022-06-26 15:27:13.788\u001b[0m | \u001b[1mINFO    \u001b[0m | \u001b[36msrc.beam.experiment\u001b[0m:\u001b[36m__init__\u001b[0m:\u001b[36m189\u001b[0m - \u001b[1mn_layers: 3\u001b[0m\n",
      "\u001b[32m2022-06-26 15:27:13.788\u001b[0m | \u001b[1mINFO    \u001b[0m | \u001b[36msrc.beam.experiment\u001b[0m:\u001b[36m__init__\u001b[0m:\u001b[36m189\u001b[0m - \u001b[1mn_quantiles: 20\u001b[0m\n",
      "\u001b[32m2022-06-26 15:27:13.789\u001b[0m | \u001b[1mINFO    \u001b[0m | \u001b[36msrc.beam.experiment\u001b[0m:\u001b[36m__init__\u001b[0m:\u001b[36m189\u001b[0m - \u001b[1mn_tables: 15\u001b[0m\n",
      "\u001b[32m2022-06-26 15:27:13.789\u001b[0m | \u001b[1mINFO    \u001b[0m | \u001b[36msrc.beam.experiment\u001b[0m:\u001b[36m__init__\u001b[0m:\u001b[36m189\u001b[0m - \u001b[1mscheduler_factor: 0.31622776601683794\u001b[0m\n",
      "\u001b[32m2022-06-26 15:27:13.790\u001b[0m | \u001b[1mINFO    \u001b[0m | \u001b[36msrc.beam.experiment\u001b[0m:\u001b[36m__init__\u001b[0m:\u001b[36m189\u001b[0m - \u001b[1mscheduler_patience: 16\u001b[0m\n",
      "\u001b[32m2022-06-26 15:27:13.793\u001b[0m | \u001b[1mINFO    \u001b[0m | \u001b[36msrc.beam.experiment\u001b[0m:\u001b[36m__init__\u001b[0m:\u001b[36m189\u001b[0m - \u001b[1meval_ensembles: 64\u001b[0m\n",
      "\u001b[32m2022-06-26 15:27:13.794\u001b[0m | \u001b[1mINFO    \u001b[0m | \u001b[36msrc.beam.experiment\u001b[0m:\u001b[36m__init__\u001b[0m:\u001b[36m189\u001b[0m - \u001b[1minitial_mask: 1\u001b[0m\n",
      "\u001b[32m2022-06-26 15:27:13.794\u001b[0m | \u001b[1mINFO    \u001b[0m | \u001b[36msrc.beam.experiment\u001b[0m:\u001b[36m__init__\u001b[0m:\u001b[36m189\u001b[0m - \u001b[1mqnorm_momentum: 0.001\u001b[0m\n",
      "\u001b[32m2022-06-26 15:27:13.795\u001b[0m | \u001b[1mINFO    \u001b[0m | \u001b[36msrc.beam.experiment\u001b[0m:\u001b[36m__init__\u001b[0m:\u001b[36m189\u001b[0m - \u001b[1mk_p: 0.05\u001b[0m\n",
      "\u001b[32m2022-06-26 15:27:13.795\u001b[0m | \u001b[1mINFO    \u001b[0m | \u001b[36msrc.beam.experiment\u001b[0m:\u001b[36m__init__\u001b[0m:\u001b[36m189\u001b[0m - \u001b[1mk_i: 0.001\u001b[0m\n",
      "\u001b[32m2022-06-26 15:27:13.796\u001b[0m | \u001b[1mINFO    \u001b[0m | \u001b[36msrc.beam.experiment\u001b[0m:\u001b[36m__init__\u001b[0m:\u001b[36m189\u001b[0m - \u001b[1mk_d: 0.005\u001b[0m\n",
      "\u001b[32m2022-06-26 15:27:13.797\u001b[0m | \u001b[1mINFO    \u001b[0m | \u001b[36msrc.beam.experiment\u001b[0m:\u001b[36m__init__\u001b[0m:\u001b[36m189\u001b[0m - \u001b[1mT_pid: 20\u001b[0m\n",
      "\u001b[32m2022-06-26 15:27:13.797\u001b[0m | \u001b[1mINFO    \u001b[0m | \u001b[36msrc.beam.experiment\u001b[0m:\u001b[36m__init__\u001b[0m:\u001b[36m189\u001b[0m - \u001b[1mclip_pid: 0.005\u001b[0m\n",
      "\u001b[32m2022-06-26 15:27:13.798\u001b[0m | \u001b[1mINFO    \u001b[0m | \u001b[36msrc.beam.experiment\u001b[0m:\u001b[36m__init__\u001b[0m:\u001b[36m189\u001b[0m - \u001b[1mpath_to_data: /home/shared/data/dataset/covtype\u001b[0m\n",
      "\u001b[32m2022-06-26 15:27:13.798\u001b[0m | \u001b[1mINFO    \u001b[0m | \u001b[36msrc.beam.experiment\u001b[0m:\u001b[36m__init__\u001b[0m:\u001b[36m189\u001b[0m - \u001b[1mdropout: 0.0\u001b[0m\n",
      "\u001b[32m2022-06-26 15:27:13.801\u001b[0m | \u001b[1mINFO    \u001b[0m | \u001b[36msrc.beam.experiment\u001b[0m:\u001b[36m__init__\u001b[0m:\u001b[36m259\u001b[0m - \u001b[1mCreating new experiment\u001b[0m\n",
      "\u001b[32m2022-06-26 15:27:13.801\u001b[0m | \u001b[1mINFO    \u001b[0m | \u001b[36msrc.beam.experiment\u001b[0m:\u001b[36m__init__\u001b[0m:\u001b[36m274\u001b[0m - \u001b[1mExperiment directory is: /home/shared/data/results/covtype/covtype/CovtypeAlgorithm/debug/0001_20220626_152713\u001b[0m\n"
     ]
    }
   ],
   "source": [
    "args = beam_arguments(get_covtype_parser(), \n",
    "        f\"--project-name=covtype --root-dir={root_dir} --algorithm=CovtypeAlgorithm --device=0 --clip=0. --amp --lr-d=1e-3 --lr-s=.02 --batch-size=1024\",\n",
    "        \"--n-epochs=100 --parallel=1 --accumulate=1 --cudnn-benchmark\",\n",
    "        \"--weight-decay=1e-5 --beta1=0.9 --beta2=0.999\", weight_factor=.0, scheduler_patience=16,  label_smoothing=.1,\n",
    "                      k_p=.05, k_i=0.001, k_d=0.005, initial_mask=1,\n",
    "        path_to_data=path_to_data, dropout=.0, activation='gelu', channels=192, n_rules=128, n_layers=3, scheduler_factor=1/math.sqrt(10))\n",
    "\n",
    "experiment = Experiment(args)"
   ]
  },
  {
   "cell_type": "code",
   "execution_count": 38,
   "id": "1ded61c5-92d5-427b-b42a-c3eb5223ffa8",
   "metadata": {},
   "outputs": [],
   "source": [
    "# alg = covtype_algorithm_generator(experiment)"
   ]
  },
  {
   "cell_type": "code",
   "execution_count": 39,
   "id": "f9359d73-1112-4729-8ec2-b5cf021462c2",
   "metadata": {},
   "outputs": [
    {
     "name": "stdout",
     "output_type": "stream",
     "text": [
      "\u001b[32m2022-06-26 15:27:16.726\u001b[0m | \u001b[1mINFO    \u001b[0m | \u001b[36msrc.beam.experiment\u001b[0m:\u001b[36mrun\u001b[0m:\u001b[36m553\u001b[0m - \u001b[1mSingle worker mode\u001b[0m\n",
      "\u001b[32m2022-06-26 15:27:16.728\u001b[0m | \u001b[1mINFO    \u001b[0m | \u001b[36msrc.beam.experiment\u001b[0m:\u001b[36mrun_worker\u001b[0m:\u001b[36m45\u001b[0m - \u001b[1mWorker: 1/1 is running...\u001b[0m\n"
     ]
    },
    {
     "data": {
      "application/vnd.jupyter.widget-view+json": {
       "model_id": "ef414188bebe4d56ab94679c5ed8fb96",
       "version_major": 2,
       "version_minor": 0
      },
      "text/plain": [
       "train:   0%|          | 0/339 [00:00<?, ?it/s]"
      ]
     },
     "metadata": {},
     "output_type": "display_data"
    },
    {
     "data": {
      "application/vnd.jupyter.widget-view+json": {
       "model_id": "8011d0eb42814f38b97ab160008347ee",
       "version_major": 2,
       "version_minor": 0
      },
      "text/plain": [
       "validation:   0%|          | 0/112 [00:00<?, ?it/s]"
      ]
     },
     "metadata": {},
     "output_type": "display_data"
    },
    {
     "name": "stdout",
     "output_type": "stream",
     "text": [
      "\u001b[32m2022-06-26 15:29:03.183\u001b[0m | \u001b[1mINFO    \u001b[0m | \u001b[36msrc.beam.model\u001b[0m:\u001b[36mstep\u001b[0m:\u001b[36m590\u001b[0m - \u001b[1mbr was changed to 1\u001b[0m\n",
      "\u001b[32m2022-06-26 15:29:03.184\u001b[0m | \u001b[1mINFO    \u001b[0m | \u001b[36msrc.beam.model\u001b[0m:\u001b[36mstep\u001b[0m:\u001b[36m591\u001b[0m - \u001b[1mlambda_llr was changed to 0\u001b[0m\n",
      "\n",
      "\u001b[32m2022-06-26 15:29:03.185\u001b[0m | \u001b[1mINFO    \u001b[0m | \u001b[36msrc.beam.experiment\u001b[0m:\u001b[36msave_model_results\u001b[0m:\u001b[36m397\u001b[0m - \u001b[1mFinished epoch 1/100:\u001b[0m\n",
      "\u001b[32m2022-06-26 15:29:03.189\u001b[0m | \u001b[1mINFO    \u001b[0m | \u001b[36msrc.beam.experiment\u001b[0m:\u001b[36mlog_data\u001b[0m:\u001b[36m443\u001b[0m - \u001b[1mtrain:\u001b[0m\n",
      "\u001b[32m2022-06-26 15:29:03.190\u001b[0m | \u001b[1mINFO    \u001b[0m | \u001b[36msrc.beam.experiment\u001b[0m:\u001b[36mlog_data\u001b[0m:\u001b[36m447\u001b[0m - \u001b[1mloss 1046.82 \t|\u001b[0m\n",
      "\u001b[32m2022-06-26 15:29:03.191\u001b[0m | \u001b[1mINFO    \u001b[0m | \u001b[36msrc.beam.experiment\u001b[0m:\u001b[36mlog_data\u001b[0m:\u001b[36m447\u001b[0m - \u001b[1macc 0.705839 \t|\u001b[0m\n",
      "\u001b[32m2022-06-26 15:29:03.191\u001b[0m | \u001b[1mINFO    \u001b[0m | \u001b[36msrc.beam.experiment\u001b[0m:\u001b[36mlog_data\u001b[0m:\u001b[36m447\u001b[0m - \u001b[1mlr 0.001 \t|\u001b[0m\n",
      "\u001b[32m2022-06-26 15:29:03.192\u001b[0m | \u001b[1mINFO    \u001b[0m | \u001b[36msrc.beam.experiment\u001b[0m:\u001b[36mlog_data\u001b[0m:\u001b[36m443\u001b[0m - \u001b[1mvalidation:\u001b[0m\n",
      "\u001b[32m2022-06-26 15:29:03.193\u001b[0m | \u001b[1mINFO    \u001b[0m | \u001b[36msrc.beam.experiment\u001b[0m:\u001b[36mlog_data\u001b[0m:\u001b[36m447\u001b[0m - \u001b[1mloss 925.4 \t|\u001b[0m\n",
      "\u001b[32m2022-06-26 15:29:03.193\u001b[0m | \u001b[1mINFO    \u001b[0m | \u001b[36msrc.beam.experiment\u001b[0m:\u001b[36mlog_data\u001b[0m:\u001b[36m447\u001b[0m - \u001b[1macc 0.764056 \t|\u001b[0m\n"
     ]
    },
    {
     "data": {
      "application/vnd.jupyter.widget-view+json": {
       "model_id": "0afdd9327bbf42abb6773feaf068afbb",
       "version_major": 2,
       "version_minor": 0
      },
      "text/plain": [
       "train:   0%|          | 0/339 [00:00<?, ?it/s]"
      ]
     },
     "metadata": {},
     "output_type": "display_data"
    },
    {
     "data": {
      "application/vnd.jupyter.widget-view+json": {
       "model_id": "c53296893c234ff3a59a3bd403078fe1",
       "version_major": 2,
       "version_minor": 0
      },
      "text/plain": [
       "validation:   0%|          | 0/112 [00:00<?, ?it/s]"
      ]
     },
     "metadata": {},
     "output_type": "display_data"
    },
    {
     "name": "stdout",
     "output_type": "stream",
     "text": [
      "\u001b[32m2022-06-26 15:30:49.439\u001b[0m | \u001b[1mINFO    \u001b[0m | \u001b[36msrc.beam.model\u001b[0m:\u001b[36mstep\u001b[0m:\u001b[36m590\u001b[0m - \u001b[1mbr was changed to 1\u001b[0m\n",
      "\u001b[32m2022-06-26 15:30:49.441\u001b[0m | \u001b[1mINFO    \u001b[0m | \u001b[36msrc.beam.model\u001b[0m:\u001b[36mstep\u001b[0m:\u001b[36m591\u001b[0m - \u001b[1mlambda_llr was changed to 0\u001b[0m\n",
      "\n",
      "\u001b[32m2022-06-26 15:30:49.442\u001b[0m | \u001b[1mINFO    \u001b[0m | \u001b[36msrc.beam.experiment\u001b[0m:\u001b[36msave_model_results\u001b[0m:\u001b[36m397\u001b[0m - \u001b[1mFinished epoch 2/100:\u001b[0m\n",
      "\u001b[32m2022-06-26 15:30:49.447\u001b[0m | \u001b[1mINFO    \u001b[0m | \u001b[36msrc.beam.experiment\u001b[0m:\u001b[36mlog_data\u001b[0m:\u001b[36m443\u001b[0m - \u001b[1mtrain:\u001b[0m\n",
      "\u001b[32m2022-06-26 15:30:49.448\u001b[0m | \u001b[1mINFO    \u001b[0m | \u001b[36msrc.beam.experiment\u001b[0m:\u001b[36mlog_data\u001b[0m:\u001b[36m447\u001b[0m - \u001b[1mloss 856.087 \t|\u001b[0m\n",
      "\u001b[32m2022-06-26 15:30:49.449\u001b[0m | \u001b[1mINFO    \u001b[0m | \u001b[36msrc.beam.experiment\u001b[0m:\u001b[36mlog_data\u001b[0m:\u001b[36m447\u001b[0m - \u001b[1macc 0.804399 \t|\u001b[0m\n",
      "\u001b[32m2022-06-26 15:30:49.450\u001b[0m | \u001b[1mINFO    \u001b[0m | \u001b[36msrc.beam.experiment\u001b[0m:\u001b[36mlog_data\u001b[0m:\u001b[36m447\u001b[0m - \u001b[1mlr 0.001 \t|\u001b[0m\n",
      "\u001b[32m2022-06-26 15:30:49.450\u001b[0m | \u001b[1mINFO    \u001b[0m | \u001b[36msrc.beam.experiment\u001b[0m:\u001b[36mlog_data\u001b[0m:\u001b[36m443\u001b[0m - \u001b[1mvalidation:\u001b[0m\n",
      "\u001b[32m2022-06-26 15:30:49.451\u001b[0m | \u001b[1mINFO    \u001b[0m | \u001b[36msrc.beam.experiment\u001b[0m:\u001b[36mlog_data\u001b[0m:\u001b[36m447\u001b[0m - \u001b[1mloss 810.636 \t|\u001b[0m\n",
      "\u001b[32m2022-06-26 15:30:49.451\u001b[0m | \u001b[1mINFO    \u001b[0m | \u001b[36msrc.beam.experiment\u001b[0m:\u001b[36mlog_data\u001b[0m:\u001b[36m447\u001b[0m - \u001b[1macc 0.829982 \t|\u001b[0m\n"
     ]
    },
    {
     "data": {
      "application/vnd.jupyter.widget-view+json": {
       "model_id": "e67c46c985ac49bb8f3c468adb674c9b",
       "version_major": 2,
       "version_minor": 0
      },
      "text/plain": [
       "train:   0%|          | 0/339 [00:00<?, ?it/s]"
      ]
     },
     "metadata": {},
     "output_type": "display_data"
    },
    {
     "data": {
      "application/vnd.jupyter.widget-view+json": {
       "model_id": "ef5befa0e27a4563a8ae0e56874fb415",
       "version_major": 2,
       "version_minor": 0
      },
      "text/plain": [
       "validation:   0%|          | 0/112 [00:00<?, ?it/s]"
      ]
     },
     "metadata": {},
     "output_type": "display_data"
    },
    {
     "name": "stdout",
     "output_type": "stream",
     "text": [
      "\u001b[32m2022-06-26 15:32:35.352\u001b[0m | \u001b[1mINFO    \u001b[0m | \u001b[36msrc.beam.model\u001b[0m:\u001b[36mstep\u001b[0m:\u001b[36m590\u001b[0m - \u001b[1mbr was changed to 1\u001b[0m\n",
      "\u001b[32m2022-06-26 15:32:35.353\u001b[0m | \u001b[1mINFO    \u001b[0m | \u001b[36msrc.beam.model\u001b[0m:\u001b[36mstep\u001b[0m:\u001b[36m591\u001b[0m - \u001b[1mlambda_llr was changed to 0\u001b[0m\n",
      "\n",
      "\u001b[32m2022-06-26 15:32:35.354\u001b[0m | \u001b[1mINFO    \u001b[0m | \u001b[36msrc.beam.experiment\u001b[0m:\u001b[36msave_model_results\u001b[0m:\u001b[36m397\u001b[0m - \u001b[1mFinished epoch 3/100:\u001b[0m\n",
      "\u001b[32m2022-06-26 15:32:35.359\u001b[0m | \u001b[1mINFO    \u001b[0m | \u001b[36msrc.beam.experiment\u001b[0m:\u001b[36mlog_data\u001b[0m:\u001b[36m443\u001b[0m - \u001b[1mtrain:\u001b[0m\n",
      "\u001b[32m2022-06-26 15:32:35.359\u001b[0m | \u001b[1mINFO    \u001b[0m | \u001b[36msrc.beam.experiment\u001b[0m:\u001b[36mlog_data\u001b[0m:\u001b[36m447\u001b[0m - \u001b[1mloss 780.585 \t|\u001b[0m\n",
      "\u001b[32m2022-06-26 15:32:35.360\u001b[0m | \u001b[1mINFO    \u001b[0m | \u001b[36msrc.beam.experiment\u001b[0m:\u001b[36mlog_data\u001b[0m:\u001b[36m447\u001b[0m - \u001b[1macc 0.844577 \t|\u001b[0m\n",
      "\u001b[32m2022-06-26 15:32:35.361\u001b[0m | \u001b[1mINFO    \u001b[0m | \u001b[36msrc.beam.experiment\u001b[0m:\u001b[36mlog_data\u001b[0m:\u001b[36m447\u001b[0m - \u001b[1mlr 0.001 \t|\u001b[0m\n",
      "\u001b[32m2022-06-26 15:32:35.362\u001b[0m | \u001b[1mINFO    \u001b[0m | \u001b[36msrc.beam.experiment\u001b[0m:\u001b[36mlog_data\u001b[0m:\u001b[36m443\u001b[0m - \u001b[1mvalidation:\u001b[0m\n",
      "\u001b[32m2022-06-26 15:32:35.362\u001b[0m | \u001b[1mINFO    \u001b[0m | \u001b[36msrc.beam.experiment\u001b[0m:\u001b[36mlog_data\u001b[0m:\u001b[36m447\u001b[0m - \u001b[1mloss 739.9 \t|\u001b[0m\n",
      "\u001b[32m2022-06-26 15:32:35.363\u001b[0m | \u001b[1mINFO    \u001b[0m | \u001b[36msrc.beam.experiment\u001b[0m:\u001b[36mlog_data\u001b[0m:\u001b[36m447\u001b[0m - \u001b[1macc 0.866874 \t|\u001b[0m\n"
     ]
    },
    {
     "data": {
      "application/vnd.jupyter.widget-view+json": {
       "model_id": "9d9a021eb00548e1b20962abdfd0f1cc",
       "version_major": 2,
       "version_minor": 0
      },
      "text/plain": [
       "train:   0%|          | 0/339 [00:00<?, ?it/s]"
      ]
     },
     "metadata": {},
     "output_type": "display_data"
    },
    {
     "data": {
      "application/vnd.jupyter.widget-view+json": {
       "model_id": "bd027012c9cc4408a2eedfe615e58d16",
       "version_major": 2,
       "version_minor": 0
      },
      "text/plain": [
       "validation:   0%|          | 0/112 [00:00<?, ?it/s]"
      ]
     },
     "metadata": {},
     "output_type": "display_data"
    },
    {
     "name": "stdout",
     "output_type": "stream",
     "text": [
      "\u001b[32m2022-06-26 15:34:20.988\u001b[0m | \u001b[1mINFO    \u001b[0m | \u001b[36msrc.beam.model\u001b[0m:\u001b[36mstep\u001b[0m:\u001b[36m590\u001b[0m - \u001b[1mbr was changed to 1\u001b[0m\n",
      "\u001b[32m2022-06-26 15:34:20.989\u001b[0m | \u001b[1mINFO    \u001b[0m | \u001b[36msrc.beam.model\u001b[0m:\u001b[36mstep\u001b[0m:\u001b[36m591\u001b[0m - \u001b[1mlambda_llr was changed to 0\u001b[0m\n",
      "\n",
      "\u001b[32m2022-06-26 15:34:20.989\u001b[0m | \u001b[1mINFO    \u001b[0m | \u001b[36msrc.beam.experiment\u001b[0m:\u001b[36msave_model_results\u001b[0m:\u001b[36m397\u001b[0m - \u001b[1mFinished epoch 4/100:\u001b[0m\n",
      "\u001b[32m2022-06-26 15:34:20.993\u001b[0m | \u001b[1mINFO    \u001b[0m | \u001b[36msrc.beam.experiment\u001b[0m:\u001b[36mlog_data\u001b[0m:\u001b[36m443\u001b[0m - \u001b[1mtrain:\u001b[0m\n",
      "\u001b[32m2022-06-26 15:34:20.994\u001b[0m | \u001b[1mINFO    \u001b[0m | \u001b[36msrc.beam.experiment\u001b[0m:\u001b[36mlog_data\u001b[0m:\u001b[36m447\u001b[0m - \u001b[1mloss 734.399 \t|\u001b[0m\n",
      "\u001b[32m2022-06-26 15:34:20.994\u001b[0m | \u001b[1mINFO    \u001b[0m | \u001b[36msrc.beam.experiment\u001b[0m:\u001b[36mlog_data\u001b[0m:\u001b[36m447\u001b[0m - \u001b[1macc 0.869325 \t|\u001b[0m\n",
      "\u001b[32m2022-06-26 15:34:20.995\u001b[0m | \u001b[1mINFO    \u001b[0m | \u001b[36msrc.beam.experiment\u001b[0m:\u001b[36mlog_data\u001b[0m:\u001b[36m447\u001b[0m - \u001b[1mlr 0.001 \t|\u001b[0m\n",
      "\u001b[32m2022-06-26 15:34:20.996\u001b[0m | \u001b[1mINFO    \u001b[0m | \u001b[36msrc.beam.experiment\u001b[0m:\u001b[36mlog_data\u001b[0m:\u001b[36m443\u001b[0m - \u001b[1mvalidation:\u001b[0m\n",
      "\u001b[32m2022-06-26 15:34:20.996\u001b[0m | \u001b[1mINFO    \u001b[0m | \u001b[36msrc.beam.experiment\u001b[0m:\u001b[36mlog_data\u001b[0m:\u001b[36m447\u001b[0m - \u001b[1mloss 706.194 \t|\u001b[0m\n",
      "\u001b[32m2022-06-26 15:34:20.997\u001b[0m | \u001b[1mINFO    \u001b[0m | \u001b[36msrc.beam.experiment\u001b[0m:\u001b[36mlog_data\u001b[0m:\u001b[36m447\u001b[0m - \u001b[1macc 0.885577 \t|\u001b[0m\n"
     ]
    },
    {
     "data": {
      "application/vnd.jupyter.widget-view+json": {
       "model_id": "c7f624dd40474b4ca406de5b6ea068d0",
       "version_major": 2,
       "version_minor": 0
      },
      "text/plain": [
       "train:   0%|          | 0/339 [00:00<?, ?it/s]"
      ]
     },
     "metadata": {},
     "output_type": "display_data"
    },
    {
     "data": {
      "application/vnd.jupyter.widget-view+json": {
       "model_id": "b6c2ca367754494a9c61ddacc05003e7",
       "version_major": 2,
       "version_minor": 0
      },
      "text/plain": [
       "validation:   0%|          | 0/112 [00:00<?, ?it/s]"
      ]
     },
     "metadata": {},
     "output_type": "display_data"
    },
    {
     "name": "stdout",
     "output_type": "stream",
     "text": [
      "\u001b[32m2022-06-26 15:36:06.827\u001b[0m | \u001b[1mINFO    \u001b[0m | \u001b[36msrc.beam.model\u001b[0m:\u001b[36mstep\u001b[0m:\u001b[36m590\u001b[0m - \u001b[1mbr was changed to 1\u001b[0m\n",
      "\u001b[32m2022-06-26 15:36:06.828\u001b[0m | \u001b[1mINFO    \u001b[0m | \u001b[36msrc.beam.model\u001b[0m:\u001b[36mstep\u001b[0m:\u001b[36m591\u001b[0m - \u001b[1mlambda_llr was changed to 0\u001b[0m\n",
      "\n",
      "\u001b[32m2022-06-26 15:36:06.829\u001b[0m | \u001b[1mINFO    \u001b[0m | \u001b[36msrc.beam.experiment\u001b[0m:\u001b[36msave_model_results\u001b[0m:\u001b[36m397\u001b[0m - \u001b[1mFinished epoch 5/100:\u001b[0m\n",
      "\u001b[32m2022-06-26 15:36:06.834\u001b[0m | \u001b[1mINFO    \u001b[0m | \u001b[36msrc.beam.experiment\u001b[0m:\u001b[36mlog_data\u001b[0m:\u001b[36m443\u001b[0m - \u001b[1mtrain:\u001b[0m\n",
      "\u001b[32m2022-06-26 15:36:06.835\u001b[0m | \u001b[1mINFO    \u001b[0m | \u001b[36msrc.beam.experiment\u001b[0m:\u001b[36mlog_data\u001b[0m:\u001b[36m447\u001b[0m - \u001b[1mloss 698.818 \t|\u001b[0m\n",
      "\u001b[32m2022-06-26 15:36:06.836\u001b[0m | \u001b[1mINFO    \u001b[0m | \u001b[36msrc.beam.experiment\u001b[0m:\u001b[36mlog_data\u001b[0m:\u001b[36m447\u001b[0m - \u001b[1macc 0.888485 \t|\u001b[0m\n",
      "\u001b[32m2022-06-26 15:36:06.837\u001b[0m | \u001b[1mINFO    \u001b[0m | \u001b[36msrc.beam.experiment\u001b[0m:\u001b[36mlog_data\u001b[0m:\u001b[36m447\u001b[0m - \u001b[1mlr 0.001 \t|\u001b[0m\n",
      "\u001b[32m2022-06-26 15:36:06.837\u001b[0m | \u001b[1mINFO    \u001b[0m | \u001b[36msrc.beam.experiment\u001b[0m:\u001b[36mlog_data\u001b[0m:\u001b[36m443\u001b[0m - \u001b[1mvalidation:\u001b[0m\n",
      "\u001b[32m2022-06-26 15:36:06.838\u001b[0m | \u001b[1mINFO    \u001b[0m | \u001b[36msrc.beam.experiment\u001b[0m:\u001b[36mlog_data\u001b[0m:\u001b[36m447\u001b[0m - \u001b[1mloss 681.447 \t|\u001b[0m\n",
      "\u001b[32m2022-06-26 15:36:06.838\u001b[0m | \u001b[1mINFO    \u001b[0m | \u001b[36msrc.beam.experiment\u001b[0m:\u001b[36mlog_data\u001b[0m:\u001b[36m447\u001b[0m - \u001b[1macc 0.89822 \t|\u001b[0m\n"
     ]
    },
    {
     "data": {
      "application/vnd.jupyter.widget-view+json": {
       "model_id": "7ac2afe0ed8e43ffa2a7f3715cb05606",
       "version_major": 2,
       "version_minor": 0
      },
      "text/plain": [
       "train:   0%|          | 0/339 [00:00<?, ?it/s]"
      ]
     },
     "metadata": {},
     "output_type": "display_data"
    },
    {
     "data": {
      "application/vnd.jupyter.widget-view+json": {
       "model_id": "b9619180f78a415b8d327b8e1eb3bf62",
       "version_major": 2,
       "version_minor": 0
      },
      "text/plain": [
       "validation:   0%|          | 0/112 [00:00<?, ?it/s]"
      ]
     },
     "metadata": {},
     "output_type": "display_data"
    },
    {
     "name": "stdout",
     "output_type": "stream",
     "text": [
      "\u001b[32m2022-06-26 15:37:52.266\u001b[0m | \u001b[1mINFO    \u001b[0m | \u001b[36msrc.beam.model\u001b[0m:\u001b[36mstep\u001b[0m:\u001b[36m590\u001b[0m - \u001b[1mbr was changed to 1\u001b[0m\n",
      "\u001b[32m2022-06-26 15:37:52.267\u001b[0m | \u001b[1mINFO    \u001b[0m | \u001b[36msrc.beam.model\u001b[0m:\u001b[36mstep\u001b[0m:\u001b[36m591\u001b[0m - \u001b[1mlambda_llr was changed to 0\u001b[0m\n",
      "\n",
      "\u001b[32m2022-06-26 15:37:52.268\u001b[0m | \u001b[1mINFO    \u001b[0m | \u001b[36msrc.beam.experiment\u001b[0m:\u001b[36msave_model_results\u001b[0m:\u001b[36m397\u001b[0m - \u001b[1mFinished epoch 6/100:\u001b[0m\n",
      "\u001b[32m2022-06-26 15:37:52.272\u001b[0m | \u001b[1mINFO    \u001b[0m | \u001b[36msrc.beam.experiment\u001b[0m:\u001b[36mlog_data\u001b[0m:\u001b[36m443\u001b[0m - \u001b[1mtrain:\u001b[0m\n",
      "\u001b[32m2022-06-26 15:37:52.272\u001b[0m | \u001b[1mINFO    \u001b[0m | \u001b[36msrc.beam.experiment\u001b[0m:\u001b[36mlog_data\u001b[0m:\u001b[36m447\u001b[0m - \u001b[1mloss 675.008 \t|\u001b[0m\n",
      "\u001b[32m2022-06-26 15:37:52.273\u001b[0m | \u001b[1mINFO    \u001b[0m | \u001b[36msrc.beam.experiment\u001b[0m:\u001b[36mlog_data\u001b[0m:\u001b[36m447\u001b[0m - \u001b[1macc 0.9008 \t|\u001b[0m\n",
      "\u001b[32m2022-06-26 15:37:52.274\u001b[0m | \u001b[1mINFO    \u001b[0m | \u001b[36msrc.beam.experiment\u001b[0m:\u001b[36mlog_data\u001b[0m:\u001b[36m447\u001b[0m - \u001b[1mlr 0.001 \t|\u001b[0m\n",
      "\u001b[32m2022-06-26 15:37:52.274\u001b[0m | \u001b[1mINFO    \u001b[0m | \u001b[36msrc.beam.experiment\u001b[0m:\u001b[36mlog_data\u001b[0m:\u001b[36m443\u001b[0m - \u001b[1mvalidation:\u001b[0m\n",
      "\u001b[32m2022-06-26 15:37:52.275\u001b[0m | \u001b[1mINFO    \u001b[0m | \u001b[36msrc.beam.experiment\u001b[0m:\u001b[36mlog_data\u001b[0m:\u001b[36m447\u001b[0m - \u001b[1mloss 658.059 \t|\u001b[0m\n",
      "\u001b[32m2022-06-26 15:37:52.276\u001b[0m | \u001b[1mINFO    \u001b[0m | \u001b[36msrc.beam.experiment\u001b[0m:\u001b[36mlog_data\u001b[0m:\u001b[36m447\u001b[0m - \u001b[1macc 0.910121 \t|\u001b[0m\n"
     ]
    },
    {
     "data": {
      "application/vnd.jupyter.widget-view+json": {
       "model_id": "d28d3b12b28d4961b455405391399493",
       "version_major": 2,
       "version_minor": 0
      },
      "text/plain": [
       "train:   0%|          | 0/339 [00:00<?, ?it/s]"
      ]
     },
     "metadata": {},
     "output_type": "display_data"
    },
    {
     "data": {
      "application/vnd.jupyter.widget-view+json": {
       "model_id": "ac94316da6654fdba550884817c0a7da",
       "version_major": 2,
       "version_minor": 0
      },
      "text/plain": [
       "validation:   0%|          | 0/112 [00:00<?, ?it/s]"
      ]
     },
     "metadata": {},
     "output_type": "display_data"
    },
    {
     "name": "stdout",
     "output_type": "stream",
     "text": [
      "\u001b[32m2022-06-26 15:39:37.951\u001b[0m | \u001b[1mINFO    \u001b[0m | \u001b[36msrc.beam.model\u001b[0m:\u001b[36mstep\u001b[0m:\u001b[36m590\u001b[0m - \u001b[1mbr was changed to 0.9993158384168893\u001b[0m\n",
      "\u001b[32m2022-06-26 15:39:37.952\u001b[0m | \u001b[1mINFO    \u001b[0m | \u001b[36msrc.beam.model\u001b[0m:\u001b[36mstep\u001b[0m:\u001b[36m591\u001b[0m - \u001b[1mlambda_llr was changed to 0.0009208957642236223\u001b[0m\n",
      "\n",
      "\u001b[32m2022-06-26 15:39:37.953\u001b[0m | \u001b[1mINFO    \u001b[0m | \u001b[36msrc.beam.experiment\u001b[0m:\u001b[36msave_model_results\u001b[0m:\u001b[36m397\u001b[0m - \u001b[1mFinished epoch 7/100:\u001b[0m\n",
      "\u001b[32m2022-06-26 15:39:37.958\u001b[0m | \u001b[1mINFO    \u001b[0m | \u001b[36msrc.beam.experiment\u001b[0m:\u001b[36mlog_data\u001b[0m:\u001b[36m443\u001b[0m - \u001b[1mtrain:\u001b[0m\n",
      "\u001b[32m2022-06-26 15:39:37.959\u001b[0m | \u001b[1mINFO    \u001b[0m | \u001b[36msrc.beam.experiment\u001b[0m:\u001b[36mlog_data\u001b[0m:\u001b[36m447\u001b[0m - \u001b[1mloss 655.634 \t|\u001b[0m\n",
      "\u001b[32m2022-06-26 15:39:37.959\u001b[0m | \u001b[1mINFO    \u001b[0m | \u001b[36msrc.beam.experiment\u001b[0m:\u001b[36mlog_data\u001b[0m:\u001b[36m447\u001b[0m - \u001b[1macc 0.911012 \t|\u001b[0m\n",
      "\u001b[32m2022-06-26 15:39:37.960\u001b[0m | \u001b[1mINFO    \u001b[0m | \u001b[36msrc.beam.experiment\u001b[0m:\u001b[36mlog_data\u001b[0m:\u001b[36m447\u001b[0m - \u001b[1mlr 0.001 \t|\u001b[0m\n",
      "\u001b[32m2022-06-26 15:39:37.961\u001b[0m | \u001b[1mINFO    \u001b[0m | \u001b[36msrc.beam.experiment\u001b[0m:\u001b[36mlog_data\u001b[0m:\u001b[36m443\u001b[0m - \u001b[1mvalidation:\u001b[0m\n",
      "\u001b[32m2022-06-26 15:39:37.962\u001b[0m | \u001b[1mINFO    \u001b[0m | \u001b[36msrc.beam.experiment\u001b[0m:\u001b[36mlog_data\u001b[0m:\u001b[36m447\u001b[0m - \u001b[1mloss 666.261 \t|\u001b[0m\n",
      "\u001b[32m2022-06-26 15:39:37.964\u001b[0m | \u001b[1mINFO    \u001b[0m | \u001b[36msrc.beam.experiment\u001b[0m:\u001b[36mlog_data\u001b[0m:\u001b[36m447\u001b[0m - \u001b[1macc 0.90489 \t|\u001b[0m\n"
     ]
    },
    {
     "data": {
      "application/vnd.jupyter.widget-view+json": {
       "model_id": "d5ef968597e44f32ba28e3f3238093a7",
       "version_major": 2,
       "version_minor": 0
      },
      "text/plain": [
       "train:   0%|          | 0/339 [00:00<?, ?it/s]"
      ]
     },
     "metadata": {},
     "output_type": "display_data"
    },
    {
     "data": {
      "application/vnd.jupyter.widget-view+json": {
       "model_id": "3f5f84bb7eb945d28b3e91c609bd030c",
       "version_major": 2,
       "version_minor": 0
      },
      "text/plain": [
       "validation:   0%|          | 0/112 [00:00<?, ?it/s]"
      ]
     },
     "metadata": {},
     "output_type": "display_data"
    },
    {
     "name": "stdout",
     "output_type": "stream",
     "text": [
      "\u001b[32m2022-06-26 15:41:23.657\u001b[0m | \u001b[1mINFO    \u001b[0m | \u001b[36msrc.beam.model\u001b[0m:\u001b[36mstep\u001b[0m:\u001b[36m590\u001b[0m - \u001b[1mbr was changed to 1\u001b[0m\n",
      "\u001b[32m2022-06-26 15:41:23.658\u001b[0m | \u001b[1mINFO    \u001b[0m | \u001b[36msrc.beam.model\u001b[0m:\u001b[36mstep\u001b[0m:\u001b[36m591\u001b[0m - \u001b[1mlambda_llr was changed to 0.0003580747121886221\u001b[0m\n",
      "\n",
      "\u001b[32m2022-06-26 15:41:23.659\u001b[0m | \u001b[1mINFO    \u001b[0m | \u001b[36msrc.beam.experiment\u001b[0m:\u001b[36msave_model_results\u001b[0m:\u001b[36m397\u001b[0m - \u001b[1mFinished epoch 8/100:\u001b[0m\n",
      "\u001b[32m2022-06-26 15:41:23.663\u001b[0m | \u001b[1mINFO    \u001b[0m | \u001b[36msrc.beam.experiment\u001b[0m:\u001b[36mlog_data\u001b[0m:\u001b[36m443\u001b[0m - \u001b[1mtrain:\u001b[0m\n",
      "\u001b[32m2022-06-26 15:41:23.664\u001b[0m | \u001b[1mINFO    \u001b[0m | \u001b[36msrc.beam.experiment\u001b[0m:\u001b[36mlog_data\u001b[0m:\u001b[36m447\u001b[0m - \u001b[1mloss 643.633 \t|\u001b[0m\n",
      "\u001b[32m2022-06-26 15:41:23.664\u001b[0m | \u001b[1mINFO    \u001b[0m | \u001b[36msrc.beam.experiment\u001b[0m:\u001b[36mlog_data\u001b[0m:\u001b[36m447\u001b[0m - \u001b[1macc 0.917139 \t|\u001b[0m\n",
      "\u001b[32m2022-06-26 15:41:23.665\u001b[0m | \u001b[1mINFO    \u001b[0m | \u001b[36msrc.beam.experiment\u001b[0m:\u001b[36mlog_data\u001b[0m:\u001b[36m447\u001b[0m - \u001b[1mlr 0.001 \t|\u001b[0m\n",
      "\u001b[32m2022-06-26 15:41:23.665\u001b[0m | \u001b[1mINFO    \u001b[0m | \u001b[36msrc.beam.experiment\u001b[0m:\u001b[36mlog_data\u001b[0m:\u001b[36m443\u001b[0m - \u001b[1mvalidation:\u001b[0m\n",
      "\u001b[32m2022-06-26 15:41:23.666\u001b[0m | \u001b[1mINFO    \u001b[0m | \u001b[36msrc.beam.experiment\u001b[0m:\u001b[36mlog_data\u001b[0m:\u001b[36m447\u001b[0m - \u001b[1mloss 639.559 \t|\u001b[0m\n",
      "\u001b[32m2022-06-26 15:41:23.666\u001b[0m | \u001b[1mINFO    \u001b[0m | \u001b[36msrc.beam.experiment\u001b[0m:\u001b[36mlog_data\u001b[0m:\u001b[36m447\u001b[0m - \u001b[1macc 0.919983 \t|\u001b[0m\n"
     ]
    },
    {
     "data": {
      "application/vnd.jupyter.widget-view+json": {
       "model_id": "86d3e18b8bb14d4e9f63ada330d56e2d",
       "version_major": 2,
       "version_minor": 0
      },
      "text/plain": [
       "train:   0%|          | 0/339 [00:00<?, ?it/s]"
      ]
     },
     "metadata": {},
     "output_type": "display_data"
    },
    {
     "data": {
      "application/vnd.jupyter.widget-view+json": {
       "model_id": "488ee561bd424afbba89f3df43247b75",
       "version_major": 2,
       "version_minor": 0
      },
      "text/plain": [
       "validation:   0%|          | 0/112 [00:00<?, ?it/s]"
      ]
     },
     "metadata": {},
     "output_type": "display_data"
    },
    {
     "name": "stdout",
     "output_type": "stream",
     "text": [
      "\u001b[32m2022-06-26 15:43:09.508\u001b[0m | \u001b[1mINFO    \u001b[0m | \u001b[36msrc.beam.model\u001b[0m:\u001b[36mstep\u001b[0m:\u001b[36m590\u001b[0m - \u001b[1mbr was changed to 1\u001b[0m\n",
      "\u001b[32m2022-06-26 15:43:09.508\u001b[0m | \u001b[1mINFO    \u001b[0m | \u001b[36msrc.beam.model\u001b[0m:\u001b[36mstep\u001b[0m:\u001b[36m591\u001b[0m - \u001b[1mlambda_llr was changed to 0.0001582958361448578\u001b[0m\n",
      "\n",
      "\u001b[32m2022-06-26 15:43:09.509\u001b[0m | \u001b[1mINFO    \u001b[0m | \u001b[36msrc.beam.experiment\u001b[0m:\u001b[36msave_model_results\u001b[0m:\u001b[36m397\u001b[0m - \u001b[1mFinished epoch 9/100:\u001b[0m\n",
      "\u001b[32m2022-06-26 15:43:09.513\u001b[0m | \u001b[1mINFO    \u001b[0m | \u001b[36msrc.beam.experiment\u001b[0m:\u001b[36mlog_data\u001b[0m:\u001b[36m443\u001b[0m - \u001b[1mtrain:\u001b[0m\n",
      "\u001b[32m2022-06-26 15:43:09.514\u001b[0m | \u001b[1mINFO    \u001b[0m | \u001b[36msrc.beam.experiment\u001b[0m:\u001b[36mlog_data\u001b[0m:\u001b[36m447\u001b[0m - \u001b[1mloss 629.267 \t|\u001b[0m\n",
      "\u001b[32m2022-06-26 15:43:09.515\u001b[0m | \u001b[1mINFO    \u001b[0m | \u001b[36msrc.beam.experiment\u001b[0m:\u001b[36mlog_data\u001b[0m:\u001b[36m447\u001b[0m - \u001b[1macc 0.923972 \t|\u001b[0m\n",
      "\u001b[32m2022-06-26 15:43:09.515\u001b[0m | \u001b[1mINFO    \u001b[0m | \u001b[36msrc.beam.experiment\u001b[0m:\u001b[36mlog_data\u001b[0m:\u001b[36m447\u001b[0m - \u001b[1mlr 0.001 \t|\u001b[0m\n",
      "\u001b[32m2022-06-26 15:43:09.516\u001b[0m | \u001b[1mINFO    \u001b[0m | \u001b[36msrc.beam.experiment\u001b[0m:\u001b[36mlog_data\u001b[0m:\u001b[36m443\u001b[0m - \u001b[1mvalidation:\u001b[0m\n",
      "\u001b[32m2022-06-26 15:43:09.517\u001b[0m | \u001b[1mINFO    \u001b[0m | \u001b[36msrc.beam.experiment\u001b[0m:\u001b[36mlog_data\u001b[0m:\u001b[36m447\u001b[0m - \u001b[1mloss 627.995 \t|\u001b[0m\n",
      "\u001b[32m2022-06-26 15:43:09.517\u001b[0m | \u001b[1mINFO    \u001b[0m | \u001b[36msrc.beam.experiment\u001b[0m:\u001b[36mlog_data\u001b[0m:\u001b[36m447\u001b[0m - \u001b[1macc 0.924726 \t|\u001b[0m\n"
     ]
    },
    {
     "data": {
      "application/vnd.jupyter.widget-view+json": {
       "model_id": "38046399798748648cb1a47130021504",
       "version_major": 2,
       "version_minor": 0
      },
      "text/plain": [
       "train:   0%|          | 0/339 [00:00<?, ?it/s]"
      ]
     },
     "metadata": {},
     "output_type": "display_data"
    },
    {
     "data": {
      "application/vnd.jupyter.widget-view+json": {
       "model_id": "da8f82396cba46dfba608881f9e1c721",
       "version_major": 2,
       "version_minor": 0
      },
      "text/plain": [
       "validation:   0%|          | 0/112 [00:00<?, ?it/s]"
      ]
     },
     "metadata": {},
     "output_type": "display_data"
    },
    {
     "name": "stdout",
     "output_type": "stream",
     "text": [
      "\u001b[32m2022-06-26 15:44:55.180\u001b[0m | \u001b[1mINFO    \u001b[0m | \u001b[36msrc.beam.model\u001b[0m:\u001b[36mstep\u001b[0m:\u001b[36m590\u001b[0m - \u001b[1mbr was changed to 1\u001b[0m\n",
      "\u001b[32m2022-06-26 15:44:55.181\u001b[0m | \u001b[1mINFO    \u001b[0m | \u001b[36msrc.beam.model\u001b[0m:\u001b[36mstep\u001b[0m:\u001b[36m591\u001b[0m - \u001b[1mlambda_llr was changed to 0.00037429970546641264\u001b[0m\n",
      "\n",
      "\u001b[32m2022-06-26 15:44:55.183\u001b[0m | \u001b[1mINFO    \u001b[0m | \u001b[36msrc.beam.experiment\u001b[0m:\u001b[36msave_model_results\u001b[0m:\u001b[36m397\u001b[0m - \u001b[1mFinished epoch 10/100:\u001b[0m\n",
      "\u001b[32m2022-06-26 15:44:55.186\u001b[0m | \u001b[1mINFO    \u001b[0m | \u001b[36msrc.beam.experiment\u001b[0m:\u001b[36mlog_data\u001b[0m:\u001b[36m443\u001b[0m - \u001b[1mtrain:\u001b[0m\n",
      "\u001b[32m2022-06-26 15:44:55.187\u001b[0m | \u001b[1mINFO    \u001b[0m | \u001b[36msrc.beam.experiment\u001b[0m:\u001b[36mlog_data\u001b[0m:\u001b[36m447\u001b[0m - \u001b[1mloss 620.52 \t|\u001b[0m\n",
      "\u001b[32m2022-06-26 15:44:55.188\u001b[0m | \u001b[1mINFO    \u001b[0m | \u001b[36msrc.beam.experiment\u001b[0m:\u001b[36mlog_data\u001b[0m:\u001b[36m447\u001b[0m - \u001b[1macc 0.928017 \t|\u001b[0m\n",
      "\u001b[32m2022-06-26 15:44:55.189\u001b[0m | \u001b[1mINFO    \u001b[0m | \u001b[36msrc.beam.experiment\u001b[0m:\u001b[36mlog_data\u001b[0m:\u001b[36m447\u001b[0m - \u001b[1mlr 0.001 \t|\u001b[0m\n",
      "\u001b[32m2022-06-26 15:44:55.189\u001b[0m | \u001b[1mINFO    \u001b[0m | \u001b[36msrc.beam.experiment\u001b[0m:\u001b[36mlog_data\u001b[0m:\u001b[36m443\u001b[0m - \u001b[1mvalidation:\u001b[0m\n",
      "\u001b[32m2022-06-26 15:44:55.190\u001b[0m | \u001b[1mINFO    \u001b[0m | \u001b[36msrc.beam.experiment\u001b[0m:\u001b[36mlog_data\u001b[0m:\u001b[36m447\u001b[0m - \u001b[1mloss 621.885 \t|\u001b[0m\n",
      "\u001b[32m2022-06-26 15:44:55.191\u001b[0m | \u001b[1mINFO    \u001b[0m | \u001b[36msrc.beam.experiment\u001b[0m:\u001b[36mlog_data\u001b[0m:\u001b[36m447\u001b[0m - \u001b[1macc 0.927595 \t|\u001b[0m\n"
     ]
    },
    {
     "data": {
      "application/vnd.jupyter.widget-view+json": {
       "model_id": "6a9a86a1deff40dcad67db3658febdc0",
       "version_major": 2,
       "version_minor": 0
      },
      "text/plain": [
       "train:   0%|          | 0/339 [00:00<?, ?it/s]"
      ]
     },
     "metadata": {},
     "output_type": "display_data"
    },
    {
     "data": {
      "application/vnd.jupyter.widget-view+json": {
       "model_id": "8832f2d0755f4ce885d2c099cf95c2d7",
       "version_major": 2,
       "version_minor": 0
      },
      "text/plain": [
       "validation:   0%|          | 0/112 [00:00<?, ?it/s]"
      ]
     },
     "metadata": {},
     "output_type": "display_data"
    },
    {
     "name": "stdout",
     "output_type": "stream",
     "text": [
      "\u001b[32m2022-06-26 15:46:40.823\u001b[0m | \u001b[1mINFO    \u001b[0m | \u001b[36msrc.beam.model\u001b[0m:\u001b[36mstep\u001b[0m:\u001b[36m590\u001b[0m - \u001b[1mbr was changed to 0.9988166246708431\u001b[0m\n",
      "\u001b[32m2022-06-26 15:46:40.824\u001b[0m | \u001b[1mINFO    \u001b[0m | \u001b[36msrc.beam.model\u001b[0m:\u001b[36mstep\u001b[0m:\u001b[36m591\u001b[0m - \u001b[1mlambda_llr was changed to 0.0013661856212461077\u001b[0m\n",
      "\n",
      "\u001b[32m2022-06-26 15:46:40.825\u001b[0m | \u001b[1mINFO    \u001b[0m | \u001b[36msrc.beam.experiment\u001b[0m:\u001b[36msave_model_results\u001b[0m:\u001b[36m397\u001b[0m - \u001b[1mFinished epoch 11/100:\u001b[0m\n",
      "\u001b[32m2022-06-26 15:46:40.829\u001b[0m | \u001b[1mINFO    \u001b[0m | \u001b[36msrc.beam.experiment\u001b[0m:\u001b[36mlog_data\u001b[0m:\u001b[36m443\u001b[0m - \u001b[1mtrain:\u001b[0m\n",
      "\u001b[32m2022-06-26 15:46:40.830\u001b[0m | \u001b[1mINFO    \u001b[0m | \u001b[36msrc.beam.experiment\u001b[0m:\u001b[36mlog_data\u001b[0m:\u001b[36m447\u001b[0m - \u001b[1mloss 611.093 \t|\u001b[0m\n",
      "\u001b[32m2022-06-26 15:46:40.830\u001b[0m | \u001b[1mINFO    \u001b[0m | \u001b[36msrc.beam.experiment\u001b[0m:\u001b[36mlog_data\u001b[0m:\u001b[36m447\u001b[0m - \u001b[1macc 0.933274 \t|\u001b[0m\n",
      "\u001b[32m2022-06-26 15:46:40.831\u001b[0m | \u001b[1mINFO    \u001b[0m | \u001b[36msrc.beam.experiment\u001b[0m:\u001b[36mlog_data\u001b[0m:\u001b[36m447\u001b[0m - \u001b[1mlr 0.001 \t|\u001b[0m\n",
      "\u001b[32m2022-06-26 15:46:40.832\u001b[0m | \u001b[1mINFO    \u001b[0m | \u001b[36msrc.beam.experiment\u001b[0m:\u001b[36mlog_data\u001b[0m:\u001b[36m443\u001b[0m - \u001b[1mvalidation:\u001b[0m\n",
      "\u001b[32m2022-06-26 15:46:40.832\u001b[0m | \u001b[1mINFO    \u001b[0m | \u001b[36msrc.beam.experiment\u001b[0m:\u001b[36mlog_data\u001b[0m:\u001b[36m447\u001b[0m - \u001b[1mloss 628.384 \t|\u001b[0m\n",
      "\u001b[32m2022-06-26 15:46:40.833\u001b[0m | \u001b[1mINFO    \u001b[0m | \u001b[36msrc.beam.experiment\u001b[0m:\u001b[36mlog_data\u001b[0m:\u001b[36m447\u001b[0m - \u001b[1macc 0.924125 \t|\u001b[0m\n"
     ]
    },
    {
     "data": {
      "application/vnd.jupyter.widget-view+json": {
       "model_id": "0d996635d86848ff9e5c34111210e85e",
       "version_major": 2,
       "version_minor": 0
      },
      "text/plain": [
       "train:   0%|          | 0/339 [00:00<?, ?it/s]"
      ]
     },
     "metadata": {},
     "output_type": "display_data"
    },
    {
     "data": {
      "application/vnd.jupyter.widget-view+json": {
       "model_id": "af2202cd0d8a47dfb8c3268fdb2d4920",
       "version_major": 2,
       "version_minor": 0
      },
      "text/plain": [
       "validation:   0%|          | 0/112 [00:00<?, ?it/s]"
      ]
     },
     "metadata": {},
     "output_type": "display_data"
    },
    {
     "name": "stdout",
     "output_type": "stream",
     "text": [
      "\u001b[32m2022-06-26 15:48:26.989\u001b[0m | \u001b[1mINFO    \u001b[0m | \u001b[36msrc.beam.model\u001b[0m:\u001b[36mstep\u001b[0m:\u001b[36m590\u001b[0m - \u001b[1mbr was changed to 0.999148901352857\u001b[0m\n",
      "\u001b[32m2022-06-26 15:48:26.991\u001b[0m | \u001b[1mINFO    \u001b[0m | \u001b[36msrc.beam.model\u001b[0m:\u001b[36mstep\u001b[0m:\u001b[36m591\u001b[0m - \u001b[1mlambda_llr was changed to 0.001544609286126702\u001b[0m\n",
      "\n",
      "\u001b[32m2022-06-26 15:48:26.992\u001b[0m | \u001b[1mINFO    \u001b[0m | \u001b[36msrc.beam.experiment\u001b[0m:\u001b[36msave_model_results\u001b[0m:\u001b[36m397\u001b[0m - \u001b[1mFinished epoch 12/100:\u001b[0m\n",
      "\u001b[32m2022-06-26 15:48:26.995\u001b[0m | \u001b[1mINFO    \u001b[0m | \u001b[36msrc.beam.experiment\u001b[0m:\u001b[36mlog_data\u001b[0m:\u001b[36m443\u001b[0m - \u001b[1mtrain:\u001b[0m\n",
      "\u001b[32m2022-06-26 15:48:26.996\u001b[0m | \u001b[1mINFO    \u001b[0m | \u001b[36msrc.beam.experiment\u001b[0m:\u001b[36mlog_data\u001b[0m:\u001b[36m447\u001b[0m - \u001b[1mloss 610.757 \t|\u001b[0m\n",
      "\u001b[32m2022-06-26 15:48:26.997\u001b[0m | \u001b[1mINFO    \u001b[0m | \u001b[36msrc.beam.experiment\u001b[0m:\u001b[36mlog_data\u001b[0m:\u001b[36m447\u001b[0m - \u001b[1macc 0.933576 \t|\u001b[0m\n",
      "\u001b[32m2022-06-26 15:48:26.998\u001b[0m | \u001b[1mINFO    \u001b[0m | \u001b[36msrc.beam.experiment\u001b[0m:\u001b[36mlog_data\u001b[0m:\u001b[36m447\u001b[0m - \u001b[1mlr 0.001 \t|\u001b[0m\n",
      "\u001b[32m2022-06-26 15:48:26.998\u001b[0m | \u001b[1mINFO    \u001b[0m | \u001b[36msrc.beam.experiment\u001b[0m:\u001b[36mlog_data\u001b[0m:\u001b[36m443\u001b[0m - \u001b[1mvalidation:\u001b[0m\n",
      "\u001b[32m2022-06-26 15:48:26.999\u001b[0m | \u001b[1mINFO    \u001b[0m | \u001b[36msrc.beam.experiment\u001b[0m:\u001b[36mlog_data\u001b[0m:\u001b[36m447\u001b[0m - \u001b[1mloss 611.86 \t|\u001b[0m\n",
      "\u001b[32m2022-06-26 15:48:26.999\u001b[0m | \u001b[1mINFO    \u001b[0m | \u001b[36msrc.beam.experiment\u001b[0m:\u001b[36mlog_data\u001b[0m:\u001b[36m447\u001b[0m - \u001b[1macc 0.933053 \t|\u001b[0m\n"
     ]
    },
    {
     "data": {
      "application/vnd.jupyter.widget-view+json": {
       "model_id": "df3aab14aac544a7bc08fef52ecda4ec",
       "version_major": 2,
       "version_minor": 0
      },
      "text/plain": [
       "train:   0%|          | 0/339 [00:00<?, ?it/s]"
      ]
     },
     "metadata": {},
     "output_type": "display_data"
    },
    {
     "data": {
      "application/vnd.jupyter.widget-view+json": {
       "model_id": "eadbe1bbffef42c6b990c72d044dd1c8",
       "version_major": 2,
       "version_minor": 0
      },
      "text/plain": [
       "validation:   0%|          | 0/112 [00:00<?, ?it/s]"
      ]
     },
     "metadata": {},
     "output_type": "display_data"
    },
    {
     "name": "stdout",
     "output_type": "stream",
     "text": [
      "\u001b[32m2022-06-26 15:50:12.831\u001b[0m | \u001b[1mINFO    \u001b[0m | \u001b[36msrc.beam.model\u001b[0m:\u001b[36mstep\u001b[0m:\u001b[36m590\u001b[0m - \u001b[1mbr was changed to 0.9989318272807621\u001b[0m\n",
      "\u001b[32m2022-06-26 15:50:12.833\u001b[0m | \u001b[1mINFO    \u001b[0m | \u001b[36msrc.beam.model\u001b[0m:\u001b[36mstep\u001b[0m:\u001b[36m591\u001b[0m - \u001b[1mlambda_llr was changed to 0.0022750406844096716\u001b[0m\n",
      "\n",
      "\u001b[32m2022-06-26 15:50:12.834\u001b[0m | \u001b[1mINFO    \u001b[0m | \u001b[36msrc.beam.experiment\u001b[0m:\u001b[36msave_model_results\u001b[0m:\u001b[36m397\u001b[0m - \u001b[1mFinished epoch 13/100:\u001b[0m\n",
      "\u001b[32m2022-06-26 15:50:12.838\u001b[0m | \u001b[1mINFO    \u001b[0m | \u001b[36msrc.beam.experiment\u001b[0m:\u001b[36mlog_data\u001b[0m:\u001b[36m443\u001b[0m - \u001b[1mtrain:\u001b[0m\n",
      "\u001b[32m2022-06-26 15:50:12.839\u001b[0m | \u001b[1mINFO    \u001b[0m | \u001b[36msrc.beam.experiment\u001b[0m:\u001b[36mlog_data\u001b[0m:\u001b[36m447\u001b[0m - \u001b[1mloss 602.861 \t|\u001b[0m\n",
      "\u001b[32m2022-06-26 15:50:12.840\u001b[0m | \u001b[1mINFO    \u001b[0m | \u001b[36msrc.beam.experiment\u001b[0m:\u001b[36mlog_data\u001b[0m:\u001b[36m447\u001b[0m - \u001b[1macc 0.936999 \t|\u001b[0m\n",
      "\u001b[32m2022-06-26 15:50:12.841\u001b[0m | \u001b[1mINFO    \u001b[0m | \u001b[36msrc.beam.experiment\u001b[0m:\u001b[36mlog_data\u001b[0m:\u001b[36m447\u001b[0m - \u001b[1mlr 0.001 \t|\u001b[0m\n",
      "\u001b[32m2022-06-26 15:50:12.842\u001b[0m | \u001b[1mINFO    \u001b[0m | \u001b[36msrc.beam.experiment\u001b[0m:\u001b[36mlog_data\u001b[0m:\u001b[36m443\u001b[0m - \u001b[1mvalidation:\u001b[0m\n",
      "\u001b[32m2022-06-26 15:50:12.842\u001b[0m | \u001b[1mINFO    \u001b[0m | \u001b[36msrc.beam.experiment\u001b[0m:\u001b[36mlog_data\u001b[0m:\u001b[36m447\u001b[0m - \u001b[1mloss 608.518 \t|\u001b[0m\n",
      "\u001b[32m2022-06-26 15:50:12.843\u001b[0m | \u001b[1mINFO    \u001b[0m | \u001b[36msrc.beam.experiment\u001b[0m:\u001b[36mlog_data\u001b[0m:\u001b[36m447\u001b[0m - \u001b[1macc 0.935329 \t|\u001b[0m\n"
     ]
    },
    {
     "data": {
      "application/vnd.jupyter.widget-view+json": {
       "model_id": "c798f3c1a28c43c19d4c4810c58dca91",
       "version_major": 2,
       "version_minor": 0
      },
      "text/plain": [
       "train:   0%|          | 0/339 [00:00<?, ?it/s]"
      ]
     },
     "metadata": {},
     "output_type": "display_data"
    },
    {
     "data": {
      "application/vnd.jupyter.widget-view+json": {
       "model_id": "70513b5b0d734f8894e1be2b05002a31",
       "version_major": 2,
       "version_minor": 0
      },
      "text/plain": [
       "validation:   0%|          | 0/112 [00:00<?, ?it/s]"
      ]
     },
     "metadata": {},
     "output_type": "display_data"
    },
    {
     "name": "stdout",
     "output_type": "stream",
     "text": [
      "\u001b[32m2022-06-26 15:51:58.431\u001b[0m | \u001b[1mINFO    \u001b[0m | \u001b[36msrc.beam.model\u001b[0m:\u001b[36mstep\u001b[0m:\u001b[36m590\u001b[0m - \u001b[1mbr was changed to 0.9984101110952149\u001b[0m\n",
      "\u001b[32m2022-06-26 15:51:58.432\u001b[0m | \u001b[1mINFO    \u001b[0m | \u001b[36msrc.beam.model\u001b[0m:\u001b[36mstep\u001b[0m:\u001b[36m591\u001b[0m - \u001b[1mlambda_llr was changed to 0.0031849696074174004\u001b[0m\n",
      "\n",
      "\u001b[32m2022-06-26 15:51:58.432\u001b[0m | \u001b[1mINFO    \u001b[0m | \u001b[36msrc.beam.experiment\u001b[0m:\u001b[36msave_model_results\u001b[0m:\u001b[36m397\u001b[0m - \u001b[1mFinished epoch 14/100:\u001b[0m\n",
      "\u001b[32m2022-06-26 15:51:58.435\u001b[0m | \u001b[1mINFO    \u001b[0m | \u001b[36msrc.beam.experiment\u001b[0m:\u001b[36mlog_data\u001b[0m:\u001b[36m443\u001b[0m - \u001b[1mtrain:\u001b[0m\n",
      "\u001b[32m2022-06-26 15:51:58.436\u001b[0m | \u001b[1mINFO    \u001b[0m | \u001b[36msrc.beam.experiment\u001b[0m:\u001b[36mlog_data\u001b[0m:\u001b[36m447\u001b[0m - \u001b[1mloss 597.429 \t|\u001b[0m\n",
      "\u001b[32m2022-06-26 15:51:58.436\u001b[0m | \u001b[1mINFO    \u001b[0m | \u001b[36msrc.beam.experiment\u001b[0m:\u001b[36mlog_data\u001b[0m:\u001b[36m447\u001b[0m - \u001b[1macc 0.940317 \t|\u001b[0m\n",
      "\u001b[32m2022-06-26 15:51:58.437\u001b[0m | \u001b[1mINFO    \u001b[0m | \u001b[36msrc.beam.experiment\u001b[0m:\u001b[36mlog_data\u001b[0m:\u001b[36m447\u001b[0m - \u001b[1mlr 0.001 \t|\u001b[0m\n",
      "\u001b[32m2022-06-26 15:51:58.437\u001b[0m | \u001b[1mINFO    \u001b[0m | \u001b[36msrc.beam.experiment\u001b[0m:\u001b[36mlog_data\u001b[0m:\u001b[36m443\u001b[0m - \u001b[1mvalidation:\u001b[0m\n",
      "\u001b[32m2022-06-26 15:51:58.438\u001b[0m | \u001b[1mINFO    \u001b[0m | \u001b[36msrc.beam.experiment\u001b[0m:\u001b[36mlog_data\u001b[0m:\u001b[36m447\u001b[0m - \u001b[1mloss 606.694 \t|\u001b[0m\n",
      "\u001b[32m2022-06-26 15:51:58.438\u001b[0m | \u001b[1mINFO    \u001b[0m | \u001b[36msrc.beam.experiment\u001b[0m:\u001b[36mlog_data\u001b[0m:\u001b[36m447\u001b[0m - \u001b[1macc 0.935965 \t|\u001b[0m\n"
     ]
    },
    {
     "data": {
      "application/vnd.jupyter.widget-view+json": {
       "model_id": "f787f72bf88f4e8599765d09e7df1ac0",
       "version_major": 2,
       "version_minor": 0
      },
      "text/plain": [
       "train:   0%|          | 0/339 [00:00<?, ?it/s]"
      ]
     },
     "metadata": {},
     "output_type": "display_data"
    },
    {
     "data": {
      "application/vnd.jupyter.widget-view+json": {
       "model_id": "bdf3d124a736487abb39de40d207baa7",
       "version_major": 2,
       "version_minor": 0
      },
      "text/plain": [
       "validation:   0%|          | 0/112 [00:00<?, ?it/s]"
      ]
     },
     "metadata": {},
     "output_type": "display_data"
    },
    {
     "name": "stdout",
     "output_type": "stream",
     "text": [
      "\u001b[32m2022-06-26 15:53:44.209\u001b[0m | \u001b[1mINFO    \u001b[0m | \u001b[36msrc.beam.model\u001b[0m:\u001b[36mstep\u001b[0m:\u001b[36m590\u001b[0m - \u001b[1mbr was changed to 0.997753781197991\u001b[0m\n",
      "\u001b[32m2022-06-26 15:53:44.210\u001b[0m | \u001b[1mINFO    \u001b[0m | \u001b[36msrc.beam.model\u001b[0m:\u001b[36mstep\u001b[0m:\u001b[36m591\u001b[0m - \u001b[1mlambda_llr was changed to 0.004131460338903272\u001b[0m\n",
      "\n",
      "\u001b[32m2022-06-26 15:53:44.211\u001b[0m | \u001b[1mINFO    \u001b[0m | \u001b[36msrc.beam.experiment\u001b[0m:\u001b[36msave_model_results\u001b[0m:\u001b[36m397\u001b[0m - \u001b[1mFinished epoch 15/100:\u001b[0m\n",
      "\u001b[32m2022-06-26 15:53:44.213\u001b[0m | \u001b[1mINFO    \u001b[0m | \u001b[36msrc.beam.experiment\u001b[0m:\u001b[36mlog_data\u001b[0m:\u001b[36m443\u001b[0m - \u001b[1mtrain:\u001b[0m\n",
      "\u001b[32m2022-06-26 15:53:44.214\u001b[0m | \u001b[1mINFO    \u001b[0m | \u001b[36msrc.beam.experiment\u001b[0m:\u001b[36mlog_data\u001b[0m:\u001b[36m447\u001b[0m - \u001b[1mloss 596.139 \t|\u001b[0m\n",
      "\u001b[32m2022-06-26 15:53:44.215\u001b[0m | \u001b[1mINFO    \u001b[0m | \u001b[36msrc.beam.experiment\u001b[0m:\u001b[36mlog_data\u001b[0m:\u001b[36m447\u001b[0m - \u001b[1macc 0.941095 \t|\u001b[0m\n",
      "\u001b[32m2022-06-26 15:53:44.215\u001b[0m | \u001b[1mINFO    \u001b[0m | \u001b[36msrc.beam.experiment\u001b[0m:\u001b[36mlog_data\u001b[0m:\u001b[36m447\u001b[0m - \u001b[1mlr 0.001 \t|\u001b[0m\n",
      "\u001b[32m2022-06-26 15:53:44.216\u001b[0m | \u001b[1mINFO    \u001b[0m | \u001b[36msrc.beam.experiment\u001b[0m:\u001b[36mlog_data\u001b[0m:\u001b[36m443\u001b[0m - \u001b[1mvalidation:\u001b[0m\n",
      "\u001b[32m2022-06-26 15:53:44.217\u001b[0m | \u001b[1mINFO    \u001b[0m | \u001b[36msrc.beam.experiment\u001b[0m:\u001b[36mlog_data\u001b[0m:\u001b[36m447\u001b[0m - \u001b[1mloss 607.047 \t|\u001b[0m\n",
      "\u001b[32m2022-06-26 15:53:44.217\u001b[0m | \u001b[1mINFO    \u001b[0m | \u001b[36msrc.beam.experiment\u001b[0m:\u001b[36mlog_data\u001b[0m:\u001b[36m447\u001b[0m - \u001b[1macc 0.936305 \t|\u001b[0m\n"
     ]
    },
    {
     "data": {
      "application/vnd.jupyter.widget-view+json": {
       "model_id": "1af7f0a4da454ba98a00becf75569c3f",
       "version_major": 2,
       "version_minor": 0
      },
      "text/plain": [
       "train:   0%|          | 0/339 [00:00<?, ?it/s]"
      ]
     },
     "metadata": {},
     "output_type": "display_data"
    },
    {
     "data": {
      "application/vnd.jupyter.widget-view+json": {
       "model_id": "da8f508fea7e43bf9fc9976551cbf384",
       "version_major": 2,
       "version_minor": 0
      },
      "text/plain": [
       "validation:   0%|          | 0/112 [00:00<?, ?it/s]"
      ]
     },
     "metadata": {},
     "output_type": "display_data"
    },
    {
     "name": "stdout",
     "output_type": "stream",
     "text": [
      "\u001b[32m2022-06-26 15:55:29.825\u001b[0m | \u001b[1mINFO    \u001b[0m | \u001b[36msrc.beam.model\u001b[0m:\u001b[36mstep\u001b[0m:\u001b[36m590\u001b[0m - \u001b[1mbr was changed to 0.9973708768156768\u001b[0m\n",
      "\u001b[32m2022-06-26 15:55:29.826\u001b[0m | \u001b[1mINFO    \u001b[0m | \u001b[36msrc.beam.model\u001b[0m:\u001b[36mstep\u001b[0m:\u001b[36m591\u001b[0m - \u001b[1mlambda_llr was changed to 0.004991956475285178\u001b[0m\n",
      "\n",
      "\u001b[32m2022-06-26 15:55:29.827\u001b[0m | \u001b[1mINFO    \u001b[0m | \u001b[36msrc.beam.experiment\u001b[0m:\u001b[36msave_model_results\u001b[0m:\u001b[36m397\u001b[0m - \u001b[1mFinished epoch 16/100:\u001b[0m\n",
      "\u001b[32m2022-06-26 15:55:29.830\u001b[0m | \u001b[1mINFO    \u001b[0m | \u001b[36msrc.beam.experiment\u001b[0m:\u001b[36mlog_data\u001b[0m:\u001b[36m443\u001b[0m - \u001b[1mtrain:\u001b[0m\n",
      "\u001b[32m2022-06-26 15:55:29.831\u001b[0m | \u001b[1mINFO    \u001b[0m | \u001b[36msrc.beam.experiment\u001b[0m:\u001b[36mlog_data\u001b[0m:\u001b[36m447\u001b[0m - \u001b[1mloss 592.396 \t|\u001b[0m\n",
      "\u001b[32m2022-06-26 15:55:29.832\u001b[0m | \u001b[1mINFO    \u001b[0m | \u001b[36msrc.beam.experiment\u001b[0m:\u001b[36mlog_data\u001b[0m:\u001b[36m447\u001b[0m - \u001b[1macc 0.942766 \t|\u001b[0m\n",
      "\u001b[32m2022-06-26 15:55:29.832\u001b[0m | \u001b[1mINFO    \u001b[0m | \u001b[36msrc.beam.experiment\u001b[0m:\u001b[36mlog_data\u001b[0m:\u001b[36m447\u001b[0m - \u001b[1mlr 0.001 \t|\u001b[0m\n",
      "\u001b[32m2022-06-26 15:55:29.833\u001b[0m | \u001b[1mINFO    \u001b[0m | \u001b[36msrc.beam.experiment\u001b[0m:\u001b[36mlog_data\u001b[0m:\u001b[36m443\u001b[0m - \u001b[1mvalidation:\u001b[0m\n",
      "\u001b[32m2022-06-26 15:55:29.833\u001b[0m | \u001b[1mINFO    \u001b[0m | \u001b[36msrc.beam.experiment\u001b[0m:\u001b[36mlog_data\u001b[0m:\u001b[36m447\u001b[0m - \u001b[1mloss 600.17 \t|\u001b[0m\n",
      "\u001b[32m2022-06-26 15:55:29.834\u001b[0m | \u001b[1mINFO    \u001b[0m | \u001b[36msrc.beam.experiment\u001b[0m:\u001b[36mlog_data\u001b[0m:\u001b[36m447\u001b[0m - \u001b[1macc 0.939453 \t|\u001b[0m\n"
     ]
    },
    {
     "data": {
      "application/vnd.jupyter.widget-view+json": {
       "model_id": "c14931551a844ed587243b324082ca55",
       "version_major": 2,
       "version_minor": 0
      },
      "text/plain": [
       "train:   0%|          | 0/339 [00:00<?, ?it/s]"
      ]
     },
     "metadata": {},
     "output_type": "display_data"
    },
    {
     "data": {
      "application/vnd.jupyter.widget-view+json": {
       "model_id": "f5bb433e61f440a5a29b6bf9305b4ca7",
       "version_major": 2,
       "version_minor": 0
      },
      "text/plain": [
       "validation:   0%|          | 0/112 [00:00<?, ?it/s]"
      ]
     },
     "metadata": {},
     "output_type": "display_data"
    },
    {
     "name": "stdout",
     "output_type": "stream",
     "text": [
      "\u001b[32m2022-06-26 15:57:15.221\u001b[0m | \u001b[1mINFO    \u001b[0m | \u001b[36msrc.beam.model\u001b[0m:\u001b[36mstep\u001b[0m:\u001b[36m590\u001b[0m - \u001b[1mbr was changed to 0.9966107888522122\u001b[0m\n",
      "\u001b[32m2022-06-26 15:57:15.222\u001b[0m | \u001b[1mINFO    \u001b[0m | \u001b[36msrc.beam.model\u001b[0m:\u001b[36mstep\u001b[0m:\u001b[36m591\u001b[0m - \u001b[1mlambda_llr was changed to 0.005949052479954744\u001b[0m\n",
      "\n",
      "\u001b[32m2022-06-26 15:57:15.223\u001b[0m | \u001b[1mINFO    \u001b[0m | \u001b[36msrc.beam.experiment\u001b[0m:\u001b[36msave_model_results\u001b[0m:\u001b[36m397\u001b[0m - \u001b[1mFinished epoch 17/100:\u001b[0m\n",
      "\u001b[32m2022-06-26 15:57:15.226\u001b[0m | \u001b[1mINFO    \u001b[0m | \u001b[36msrc.beam.experiment\u001b[0m:\u001b[36mlog_data\u001b[0m:\u001b[36m443\u001b[0m - \u001b[1mtrain:\u001b[0m\n",
      "\u001b[32m2022-06-26 15:57:15.226\u001b[0m | \u001b[1mINFO    \u001b[0m | \u001b[36msrc.beam.experiment\u001b[0m:\u001b[36mlog_data\u001b[0m:\u001b[36m447\u001b[0m - \u001b[1mloss 593.756 \t|\u001b[0m\n",
      "\u001b[32m2022-06-26 15:57:15.227\u001b[0m | \u001b[1mINFO    \u001b[0m | \u001b[36msrc.beam.experiment\u001b[0m:\u001b[36mlog_data\u001b[0m:\u001b[36m447\u001b[0m - \u001b[1macc 0.942391 \t|\u001b[0m\n",
      "\u001b[32m2022-06-26 15:57:15.228\u001b[0m | \u001b[1mINFO    \u001b[0m | \u001b[36msrc.beam.experiment\u001b[0m:\u001b[36mlog_data\u001b[0m:\u001b[36m447\u001b[0m - \u001b[1mlr 0.001 \t|\u001b[0m\n",
      "\u001b[32m2022-06-26 15:57:15.228\u001b[0m | \u001b[1mINFO    \u001b[0m | \u001b[36msrc.beam.experiment\u001b[0m:\u001b[36mlog_data\u001b[0m:\u001b[36m443\u001b[0m - \u001b[1mvalidation:\u001b[0m\n",
      "\u001b[32m2022-06-26 15:57:15.229\u001b[0m | \u001b[1mINFO    \u001b[0m | \u001b[36msrc.beam.experiment\u001b[0m:\u001b[36mlog_data\u001b[0m:\u001b[36m447\u001b[0m - \u001b[1mloss 605.318 \t|\u001b[0m\n",
      "\u001b[32m2022-06-26 15:57:15.229\u001b[0m | \u001b[1mINFO    \u001b[0m | \u001b[36msrc.beam.experiment\u001b[0m:\u001b[36mlog_data\u001b[0m:\u001b[36m447\u001b[0m - \u001b[1macc 0.938215 \t|\u001b[0m\n"
     ]
    },
    {
     "data": {
      "application/vnd.jupyter.widget-view+json": {
       "model_id": "64c03e1722f74e85bd21ca877d7cf46c",
       "version_major": 2,
       "version_minor": 0
      },
      "text/plain": [
       "train:   0%|          | 0/339 [00:00<?, ?it/s]"
      ]
     },
     "metadata": {},
     "output_type": "display_data"
    },
    {
     "data": {
      "application/vnd.jupyter.widget-view+json": {
       "model_id": "f13c61b5e9cf44e3805662a137c2b6af",
       "version_major": 2,
       "version_minor": 0
      },
      "text/plain": [
       "validation:   0%|          | 0/112 [00:00<?, ?it/s]"
      ]
     },
     "metadata": {},
     "output_type": "display_data"
    },
    {
     "name": "stdout",
     "output_type": "stream",
     "text": [
      "\u001b[32m2022-06-26 15:59:00.948\u001b[0m | \u001b[1mINFO    \u001b[0m | \u001b[36msrc.beam.model\u001b[0m:\u001b[36mstep\u001b[0m:\u001b[36m590\u001b[0m - \u001b[1mbr was changed to 0.995768584975128\u001b[0m\n",
      "\u001b[32m2022-06-26 15:59:00.949\u001b[0m | \u001b[1mINFO    \u001b[0m | \u001b[36msrc.beam.model\u001b[0m:\u001b[36mstep\u001b[0m:\u001b[36m591\u001b[0m - \u001b[1mlambda_llr was changed to 0.006918402779222217\u001b[0m\n",
      "\n",
      "\u001b[32m2022-06-26 15:59:00.950\u001b[0m | \u001b[1mINFO    \u001b[0m | \u001b[36msrc.beam.experiment\u001b[0m:\u001b[36msave_model_results\u001b[0m:\u001b[36m397\u001b[0m - \u001b[1mFinished epoch 18/100:\u001b[0m\n",
      "\u001b[32m2022-06-26 15:59:00.953\u001b[0m | \u001b[1mINFO    \u001b[0m | \u001b[36msrc.beam.experiment\u001b[0m:\u001b[36mlog_data\u001b[0m:\u001b[36m443\u001b[0m - \u001b[1mtrain:\u001b[0m\n",
      "\u001b[32m2022-06-26 15:59:00.954\u001b[0m | \u001b[1mINFO    \u001b[0m | \u001b[36msrc.beam.experiment\u001b[0m:\u001b[36mlog_data\u001b[0m:\u001b[36m447\u001b[0m - \u001b[1mloss 589.422 \t|\u001b[0m\n",
      "\u001b[32m2022-06-26 15:59:00.954\u001b[0m | \u001b[1mINFO    \u001b[0m | \u001b[36msrc.beam.experiment\u001b[0m:\u001b[36mlog_data\u001b[0m:\u001b[36m447\u001b[0m - \u001b[1macc 0.944434 \t|\u001b[0m\n",
      "\u001b[32m2022-06-26 15:59:00.955\u001b[0m | \u001b[1mINFO    \u001b[0m | \u001b[36msrc.beam.experiment\u001b[0m:\u001b[36mlog_data\u001b[0m:\u001b[36m447\u001b[0m - \u001b[1mlr 0.001 \t|\u001b[0m\n",
      "\u001b[32m2022-06-26 15:59:00.956\u001b[0m | \u001b[1mINFO    \u001b[0m | \u001b[36msrc.beam.experiment\u001b[0m:\u001b[36mlog_data\u001b[0m:\u001b[36m443\u001b[0m - \u001b[1mvalidation:\u001b[0m\n",
      "\u001b[32m2022-06-26 15:59:00.956\u001b[0m | \u001b[1mINFO    \u001b[0m | \u001b[36msrc.beam.experiment\u001b[0m:\u001b[36mlog_data\u001b[0m:\u001b[36m447\u001b[0m - \u001b[1mloss 601.952 \t|\u001b[0m\n",
      "\u001b[32m2022-06-26 15:59:00.957\u001b[0m | \u001b[1mINFO    \u001b[0m | \u001b[36msrc.beam.experiment\u001b[0m:\u001b[36mlog_data\u001b[0m:\u001b[36m447\u001b[0m - \u001b[1macc 0.938616 \t|\u001b[0m\n"
     ]
    },
    {
     "data": {
      "application/vnd.jupyter.widget-view+json": {
       "model_id": "2f3fbb27afce421f8f366a4372561aea",
       "version_major": 2,
       "version_minor": 0
      },
      "text/plain": [
       "train:   0%|          | 0/339 [00:00<?, ?it/s]"
      ]
     },
     "metadata": {},
     "output_type": "display_data"
    },
    {
     "data": {
      "application/vnd.jupyter.widget-view+json": {
       "model_id": "60959450c80644feb330e1d8ef3f308d",
       "version_major": 2,
       "version_minor": 0
      },
      "text/plain": [
       "validation:   0%|          | 0/112 [00:00<?, ?it/s]"
      ]
     },
     "metadata": {},
     "output_type": "display_data"
    },
    {
     "name": "stdout",
     "output_type": "stream",
     "text": [
      "\u001b[32m2022-06-26 16:00:46.294\u001b[0m | \u001b[1mINFO    \u001b[0m | \u001b[36msrc.beam.model\u001b[0m:\u001b[36mstep\u001b[0m:\u001b[36m590\u001b[0m - \u001b[1mbr was changed to 0.9953011549171283\u001b[0m\n",
      "\u001b[32m2022-06-26 16:00:46.296\u001b[0m | \u001b[1mINFO    \u001b[0m | \u001b[36msrc.beam.model\u001b[0m:\u001b[36mstep\u001b[0m:\u001b[36m591\u001b[0m - \u001b[1mlambda_llr was changed to 0.007798969263980253\u001b[0m\n",
      "\n",
      "\u001b[32m2022-06-26 16:00:46.297\u001b[0m | \u001b[1mINFO    \u001b[0m | \u001b[36msrc.beam.experiment\u001b[0m:\u001b[36msave_model_results\u001b[0m:\u001b[36m397\u001b[0m - \u001b[1mFinished epoch 19/100:\u001b[0m\n",
      "\u001b[32m2022-06-26 16:00:46.300\u001b[0m | \u001b[1mINFO    \u001b[0m | \u001b[36msrc.beam.experiment\u001b[0m:\u001b[36mlog_data\u001b[0m:\u001b[36m443\u001b[0m - \u001b[1mtrain:\u001b[0m\n",
      "\u001b[32m2022-06-26 16:00:46.301\u001b[0m | \u001b[1mINFO    \u001b[0m | \u001b[36msrc.beam.experiment\u001b[0m:\u001b[36mlog_data\u001b[0m:\u001b[36m447\u001b[0m - \u001b[1mloss 589.193 \t|\u001b[0m\n",
      "\u001b[32m2022-06-26 16:00:46.302\u001b[0m | \u001b[1mINFO    \u001b[0m | \u001b[36msrc.beam.experiment\u001b[0m:\u001b[36mlog_data\u001b[0m:\u001b[36m447\u001b[0m - \u001b[1macc 0.945085 \t|\u001b[0m\n",
      "\u001b[32m2022-06-26 16:00:46.303\u001b[0m | \u001b[1mINFO    \u001b[0m | \u001b[36msrc.beam.experiment\u001b[0m:\u001b[36mlog_data\u001b[0m:\u001b[36m447\u001b[0m - \u001b[1mlr 0.001 \t|\u001b[0m\n",
      "\u001b[32m2022-06-26 16:00:46.304\u001b[0m | \u001b[1mINFO    \u001b[0m | \u001b[36msrc.beam.experiment\u001b[0m:\u001b[36mlog_data\u001b[0m:\u001b[36m443\u001b[0m - \u001b[1mvalidation:\u001b[0m\n",
      "\u001b[32m2022-06-26 16:00:46.304\u001b[0m | \u001b[1mINFO    \u001b[0m | \u001b[36msrc.beam.experiment\u001b[0m:\u001b[36mlog_data\u001b[0m:\u001b[36m447\u001b[0m - \u001b[1mloss 597.427 \t|\u001b[0m\n",
      "\u001b[32m2022-06-26 16:00:46.305\u001b[0m | \u001b[1mINFO    \u001b[0m | \u001b[36msrc.beam.experiment\u001b[0m:\u001b[36mlog_data\u001b[0m:\u001b[36m447\u001b[0m - \u001b[1macc 0.941816 \t|\u001b[0m\n"
     ]
    },
    {
     "data": {
      "application/vnd.jupyter.widget-view+json": {
       "model_id": "721d4331c1994f2f90c7f71157453cb5",
       "version_major": 2,
       "version_minor": 0
      },
      "text/plain": [
       "train:   0%|          | 0/339 [00:00<?, ?it/s]"
      ]
     },
     "metadata": {},
     "output_type": "display_data"
    },
    {
     "data": {
      "application/vnd.jupyter.widget-view+json": {
       "model_id": "c80a01a50feb4eaaaebd85449d6d92c5",
       "version_major": 2,
       "version_minor": 0
      },
      "text/plain": [
       "validation:   0%|          | 0/112 [00:00<?, ?it/s]"
      ]
     },
     "metadata": {},
     "output_type": "display_data"
    },
    {
     "name": "stdout",
     "output_type": "stream",
     "text": [
      "\u001b[32m2022-06-26 16:02:32.067\u001b[0m | \u001b[1mINFO    \u001b[0m | \u001b[36msrc.beam.model\u001b[0m:\u001b[36mstep\u001b[0m:\u001b[36m590\u001b[0m - \u001b[1mbr was changed to 0.9939419041150841\u001b[0m\n",
      "\u001b[32m2022-06-26 16:02:32.069\u001b[0m | \u001b[1mINFO    \u001b[0m | \u001b[36msrc.beam.model\u001b[0m:\u001b[36mstep\u001b[0m:\u001b[36m591\u001b[0m - \u001b[1mlambda_llr was changed to 0.008793434755093596\u001b[0m\n",
      "\n",
      "\u001b[32m2022-06-26 16:02:32.070\u001b[0m | \u001b[1mINFO    \u001b[0m | \u001b[36msrc.beam.experiment\u001b[0m:\u001b[36msave_model_results\u001b[0m:\u001b[36m397\u001b[0m - \u001b[1mFinished epoch 20/100:\u001b[0m\n",
      "\u001b[32m2022-06-26 16:02:32.074\u001b[0m | \u001b[1mINFO    \u001b[0m | \u001b[36msrc.beam.experiment\u001b[0m:\u001b[36mlog_data\u001b[0m:\u001b[36m443\u001b[0m - \u001b[1mtrain:\u001b[0m\n",
      "\u001b[32m2022-06-26 16:02:32.075\u001b[0m | \u001b[1mINFO    \u001b[0m | \u001b[36msrc.beam.experiment\u001b[0m:\u001b[36mlog_data\u001b[0m:\u001b[36m447\u001b[0m - \u001b[1mloss 588.671 \t|\u001b[0m\n",
      "\u001b[32m2022-06-26 16:02:32.076\u001b[0m | \u001b[1mINFO    \u001b[0m | \u001b[36msrc.beam.experiment\u001b[0m:\u001b[36mlog_data\u001b[0m:\u001b[36m447\u001b[0m - \u001b[1macc 0.944921 \t|\u001b[0m\n",
      "\u001b[32m2022-06-26 16:02:32.076\u001b[0m | \u001b[1mINFO    \u001b[0m | \u001b[36msrc.beam.experiment\u001b[0m:\u001b[36mlog_data\u001b[0m:\u001b[36m447\u001b[0m - \u001b[1mlr 0.001 \t|\u001b[0m\n",
      "\u001b[32m2022-06-26 16:02:32.078\u001b[0m | \u001b[1mINFO    \u001b[0m | \u001b[36msrc.beam.experiment\u001b[0m:\u001b[36mlog_data\u001b[0m:\u001b[36m443\u001b[0m - \u001b[1mvalidation:\u001b[0m\n",
      "\u001b[32m2022-06-26 16:02:32.078\u001b[0m | \u001b[1mINFO    \u001b[0m | \u001b[36msrc.beam.experiment\u001b[0m:\u001b[36mlog_data\u001b[0m:\u001b[36m447\u001b[0m - \u001b[1mloss 606.525 \t|\u001b[0m\n",
      "\u001b[32m2022-06-26 16:02:32.079\u001b[0m | \u001b[1mINFO    \u001b[0m | \u001b[36msrc.beam.experiment\u001b[0m:\u001b[36mlog_data\u001b[0m:\u001b[36m447\u001b[0m - \u001b[1macc 0.936986 \t|\u001b[0m\n"
     ]
    },
    {
     "data": {
      "application/vnd.jupyter.widget-view+json": {
       "model_id": "ca29c4fdfed248abbb349b5772424c8e",
       "version_major": 2,
       "version_minor": 0
      },
      "text/plain": [
       "train:   0%|          | 0/339 [00:00<?, ?it/s]"
      ]
     },
     "metadata": {},
     "output_type": "display_data"
    },
    {
     "data": {
      "application/vnd.jupyter.widget-view+json": {
       "model_id": "bb485d47e1d84fa0bd8e27602272ddcc",
       "version_major": 2,
       "version_minor": 0
      },
      "text/plain": [
       "validation:   0%|          | 0/112 [00:00<?, ?it/s]"
      ]
     },
     "metadata": {},
     "output_type": "display_data"
    },
    {
     "name": "stdout",
     "output_type": "stream",
     "text": [
      "\u001b[32m2022-06-26 16:04:17.653\u001b[0m | \u001b[1mINFO    \u001b[0m | \u001b[36msrc.beam.model\u001b[0m:\u001b[36mstep\u001b[0m:\u001b[36m590\u001b[0m - \u001b[1mbr was changed to 0.9923943723052331\u001b[0m\n",
      "\u001b[32m2022-06-26 16:04:17.654\u001b[0m | \u001b[1mINFO    \u001b[0m | \u001b[36msrc.beam.model\u001b[0m:\u001b[36mstep\u001b[0m:\u001b[36m591\u001b[0m - \u001b[1mlambda_llr was changed to 0.00978986829231582\u001b[0m\n",
      "\n",
      "\u001b[32m2022-06-26 16:04:17.655\u001b[0m | \u001b[1mINFO    \u001b[0m | \u001b[36msrc.beam.experiment\u001b[0m:\u001b[36msave_model_results\u001b[0m:\u001b[36m397\u001b[0m - \u001b[1mFinished epoch 21/100:\u001b[0m\n",
      "\u001b[32m2022-06-26 16:04:17.660\u001b[0m | \u001b[1mINFO    \u001b[0m | \u001b[36msrc.beam.experiment\u001b[0m:\u001b[36mlog_data\u001b[0m:\u001b[36m443\u001b[0m - \u001b[1mtrain:\u001b[0m\n",
      "\u001b[32m2022-06-26 16:04:17.661\u001b[0m | \u001b[1mINFO    \u001b[0m | \u001b[36msrc.beam.experiment\u001b[0m:\u001b[36mlog_data\u001b[0m:\u001b[36m447\u001b[0m - \u001b[1mloss 589.886 \t|\u001b[0m\n",
      "\u001b[32m2022-06-26 16:04:17.661\u001b[0m | \u001b[1mINFO    \u001b[0m | \u001b[36msrc.beam.experiment\u001b[0m:\u001b[36mlog_data\u001b[0m:\u001b[36m447\u001b[0m - \u001b[1macc 0.944791 \t|\u001b[0m\n",
      "\u001b[32m2022-06-26 16:04:17.662\u001b[0m | \u001b[1mINFO    \u001b[0m | \u001b[36msrc.beam.experiment\u001b[0m:\u001b[36mlog_data\u001b[0m:\u001b[36m447\u001b[0m - \u001b[1mlr 0.001 \t|\u001b[0m\n",
      "\u001b[32m2022-06-26 16:04:17.663\u001b[0m | \u001b[1mINFO    \u001b[0m | \u001b[36msrc.beam.experiment\u001b[0m:\u001b[36mlog_data\u001b[0m:\u001b[36m443\u001b[0m - \u001b[1mvalidation:\u001b[0m\n",
      "\u001b[32m2022-06-26 16:04:17.663\u001b[0m | \u001b[1mINFO    \u001b[0m | \u001b[36msrc.beam.experiment\u001b[0m:\u001b[36mlog_data\u001b[0m:\u001b[36m447\u001b[0m - \u001b[1mloss 609.159 \t|\u001b[0m\n",
      "\u001b[32m2022-06-26 16:04:17.664\u001b[0m | \u001b[1mINFO    \u001b[0m | \u001b[36msrc.beam.experiment\u001b[0m:\u001b[36mlog_data\u001b[0m:\u001b[36m447\u001b[0m - \u001b[1macc 0.93566 \t|\u001b[0m\n"
     ]
    },
    {
     "data": {
      "application/vnd.jupyter.widget-view+json": {
       "model_id": "c8c1a5b2bfff4dfebcd0017fc9fbe66f",
       "version_major": 2,
       "version_minor": 0
      },
      "text/plain": [
       "train:   0%|          | 0/339 [00:00<?, ?it/s]"
      ]
     },
     "metadata": {},
     "output_type": "display_data"
    },
    {
     "data": {
      "application/vnd.jupyter.widget-view+json": {
       "model_id": "24a91c4a6a88455a8d6bef640203f844",
       "version_major": 2,
       "version_minor": 0
      },
      "text/plain": [
       "validation:   0%|          | 0/112 [00:00<?, ?it/s]"
      ]
     },
     "metadata": {},
     "output_type": "display_data"
    },
    {
     "name": "stdout",
     "output_type": "stream",
     "text": [
      "\u001b[32m2022-06-26 16:06:02.599\u001b[0m | \u001b[1mINFO    \u001b[0m | \u001b[36msrc.beam.model\u001b[0m:\u001b[36mstep\u001b[0m:\u001b[36m590\u001b[0m - \u001b[1mbr was changed to 0.991292822370285\u001b[0m\n",
      "\u001b[32m2022-06-26 16:06:02.600\u001b[0m | \u001b[1mINFO    \u001b[0m | \u001b[36msrc.beam.model\u001b[0m:\u001b[36mstep\u001b[0m:\u001b[36m591\u001b[0m - \u001b[1mlambda_llr was changed to 0.010764106566215638\u001b[0m\n",
      "\n",
      "\u001b[32m2022-06-26 16:06:02.601\u001b[0m | \u001b[1mINFO    \u001b[0m | \u001b[36msrc.beam.experiment\u001b[0m:\u001b[36msave_model_results\u001b[0m:\u001b[36m397\u001b[0m - \u001b[1mFinished epoch 22/100:\u001b[0m\n",
      "\u001b[32m2022-06-26 16:06:02.604\u001b[0m | \u001b[1mINFO    \u001b[0m | \u001b[36msrc.beam.experiment\u001b[0m:\u001b[36mlog_data\u001b[0m:\u001b[36m443\u001b[0m - \u001b[1mtrain:\u001b[0m\n",
      "\u001b[32m2022-06-26 16:06:02.605\u001b[0m | \u001b[1mINFO    \u001b[0m | \u001b[36msrc.beam.experiment\u001b[0m:\u001b[36mlog_data\u001b[0m:\u001b[36m447\u001b[0m - \u001b[1mloss 591.598 \t|\u001b[0m\n",
      "\u001b[32m2022-06-26 16:06:02.606\u001b[0m | \u001b[1mINFO    \u001b[0m | \u001b[36msrc.beam.experiment\u001b[0m:\u001b[36mlog_data\u001b[0m:\u001b[36m447\u001b[0m - \u001b[1macc 0.943685 \t|\u001b[0m\n",
      "\u001b[32m2022-06-26 16:06:02.606\u001b[0m | \u001b[1mINFO    \u001b[0m | \u001b[36msrc.beam.experiment\u001b[0m:\u001b[36mlog_data\u001b[0m:\u001b[36m447\u001b[0m - \u001b[1mlr 0.001 \t|\u001b[0m\n",
      "\u001b[32m2022-06-26 16:06:02.607\u001b[0m | \u001b[1mINFO    \u001b[0m | \u001b[36msrc.beam.experiment\u001b[0m:\u001b[36mlog_data\u001b[0m:\u001b[36m443\u001b[0m - \u001b[1mvalidation:\u001b[0m\n",
      "\u001b[32m2022-06-26 16:06:02.608\u001b[0m | \u001b[1mINFO    \u001b[0m | \u001b[36msrc.beam.experiment\u001b[0m:\u001b[36mlog_data\u001b[0m:\u001b[36m447\u001b[0m - \u001b[1mloss 604.718 \t|\u001b[0m\n",
      "\u001b[32m2022-06-26 16:06:02.608\u001b[0m | \u001b[1mINFO    \u001b[0m | \u001b[36msrc.beam.experiment\u001b[0m:\u001b[36mlog_data\u001b[0m:\u001b[36m447\u001b[0m - \u001b[1macc 0.937875 \t|\u001b[0m\n"
     ]
    },
    {
     "data": {
      "application/vnd.jupyter.widget-view+json": {
       "model_id": "8154469efc984752969db07fca983493",
       "version_major": 2,
       "version_minor": 0
      },
      "text/plain": [
       "train:   0%|          | 0/339 [00:00<?, ?it/s]"
      ]
     },
     "metadata": {},
     "output_type": "display_data"
    },
    {
     "data": {
      "application/vnd.jupyter.widget-view+json": {
       "model_id": "d06de62b321b42aba48dbffa85a378dd",
       "version_major": 2,
       "version_minor": 0
      },
      "text/plain": [
       "validation:   0%|          | 0/112 [00:00<?, ?it/s]"
      ]
     },
     "metadata": {},
     "output_type": "display_data"
    },
    {
     "name": "stdout",
     "output_type": "stream",
     "text": [
      "\u001b[32m2022-06-26 16:07:47.982\u001b[0m | \u001b[1mINFO    \u001b[0m | \u001b[36msrc.beam.model\u001b[0m:\u001b[36mstep\u001b[0m:\u001b[36m590\u001b[0m - \u001b[1mbr was changed to 0.989795951995266\u001b[0m\n",
      "\u001b[32m2022-06-26 16:07:47.983\u001b[0m | \u001b[1mINFO    \u001b[0m | \u001b[36msrc.beam.model\u001b[0m:\u001b[36mstep\u001b[0m:\u001b[36m591\u001b[0m - \u001b[1mlambda_llr was changed to 0.011755139112914285\u001b[0m\n",
      "\n",
      "\u001b[32m2022-06-26 16:07:47.984\u001b[0m | \u001b[1mINFO    \u001b[0m | \u001b[36msrc.beam.experiment\u001b[0m:\u001b[36msave_model_results\u001b[0m:\u001b[36m397\u001b[0m - \u001b[1mFinished epoch 23/100:\u001b[0m\n",
      "\u001b[32m2022-06-26 16:07:47.987\u001b[0m | \u001b[1mINFO    \u001b[0m | \u001b[36msrc.beam.experiment\u001b[0m:\u001b[36mlog_data\u001b[0m:\u001b[36m443\u001b[0m - \u001b[1mtrain:\u001b[0m\n",
      "\u001b[32m2022-06-26 16:07:47.988\u001b[0m | \u001b[1mINFO    \u001b[0m | \u001b[36msrc.beam.experiment\u001b[0m:\u001b[36mlog_data\u001b[0m:\u001b[36m447\u001b[0m - \u001b[1mloss 591.317 \t|\u001b[0m\n",
      "\u001b[32m2022-06-26 16:07:47.989\u001b[0m | \u001b[1mINFO    \u001b[0m | \u001b[36msrc.beam.experiment\u001b[0m:\u001b[36mlog_data\u001b[0m:\u001b[36m447\u001b[0m - \u001b[1macc 0.943578 \t|\u001b[0m\n",
      "\u001b[32m2022-06-26 16:07:47.990\u001b[0m | \u001b[1mINFO    \u001b[0m | \u001b[36msrc.beam.experiment\u001b[0m:\u001b[36mlog_data\u001b[0m:\u001b[36m447\u001b[0m - \u001b[1mlr 0.001 \t|\u001b[0m\n",
      "\u001b[32m2022-06-26 16:07:47.990\u001b[0m | \u001b[1mINFO    \u001b[0m | \u001b[36msrc.beam.experiment\u001b[0m:\u001b[36mlog_data\u001b[0m:\u001b[36m443\u001b[0m - \u001b[1mvalidation:\u001b[0m\n",
      "\u001b[32m2022-06-26 16:07:47.991\u001b[0m | \u001b[1mINFO    \u001b[0m | \u001b[36msrc.beam.experiment\u001b[0m:\u001b[36mlog_data\u001b[0m:\u001b[36m447\u001b[0m - \u001b[1mloss 607.735 \t|\u001b[0m\n",
      "\u001b[32m2022-06-26 16:07:47.992\u001b[0m | \u001b[1mINFO    \u001b[0m | \u001b[36msrc.beam.experiment\u001b[0m:\u001b[36mlog_data\u001b[0m:\u001b[36m447\u001b[0m - \u001b[1macc 0.936419 \t|\u001b[0m\n"
     ]
    },
    {
     "data": {
      "application/vnd.jupyter.widget-view+json": {
       "model_id": "7cdec9a1b7cb4cd5a10192807caa5caa",
       "version_major": 2,
       "version_minor": 0
      },
      "text/plain": [
       "train:   0%|          | 0/339 [00:00<?, ?it/s]"
      ]
     },
     "metadata": {},
     "output_type": "display_data"
    },
    {
     "data": {
      "application/vnd.jupyter.widget-view+json": {
       "model_id": "ba7b2030aeeb4904a709a5af8bc19504",
       "version_major": 2,
       "version_minor": 0
      },
      "text/plain": [
       "validation:   0%|          | 0/112 [00:00<?, ?it/s]"
      ]
     },
     "metadata": {},
     "output_type": "display_data"
    },
    {
     "name": "stdout",
     "output_type": "stream",
     "text": [
      "\u001b[32m2022-06-26 16:09:33.622\u001b[0m | \u001b[1mINFO    \u001b[0m | \u001b[36msrc.beam.model\u001b[0m:\u001b[36mstep\u001b[0m:\u001b[36m590\u001b[0m - \u001b[1mbr was changed to 0.98823063747168\u001b[0m\n",
      "\u001b[32m2022-06-26 16:09:33.624\u001b[0m | \u001b[1mINFO    \u001b[0m | \u001b[36msrc.beam.model\u001b[0m:\u001b[36mstep\u001b[0m:\u001b[36m591\u001b[0m - \u001b[1mlambda_llr was changed to 0.012747225908446238\u001b[0m\n",
      "\n",
      "\u001b[32m2022-06-26 16:09:33.625\u001b[0m | \u001b[1mINFO    \u001b[0m | \u001b[36msrc.beam.experiment\u001b[0m:\u001b[36msave_model_results\u001b[0m:\u001b[36m397\u001b[0m - \u001b[1mFinished epoch 24/100:\u001b[0m\n",
      "\u001b[32m2022-06-26 16:09:33.628\u001b[0m | \u001b[1mINFO    \u001b[0m | \u001b[36msrc.beam.experiment\u001b[0m:\u001b[36mlog_data\u001b[0m:\u001b[36m443\u001b[0m - \u001b[1mtrain:\u001b[0m\n",
      "\u001b[32m2022-06-26 16:09:33.629\u001b[0m | \u001b[1mINFO    \u001b[0m | \u001b[36msrc.beam.experiment\u001b[0m:\u001b[36mlog_data\u001b[0m:\u001b[36m447\u001b[0m - \u001b[1mloss 592.502 \t|\u001b[0m\n",
      "\u001b[32m2022-06-26 16:09:33.630\u001b[0m | \u001b[1mINFO    \u001b[0m | \u001b[36msrc.beam.experiment\u001b[0m:\u001b[36mlog_data\u001b[0m:\u001b[36m447\u001b[0m - \u001b[1macc 0.942936 \t|\u001b[0m\n",
      "\u001b[32m2022-06-26 16:09:33.630\u001b[0m | \u001b[1mINFO    \u001b[0m | \u001b[36msrc.beam.experiment\u001b[0m:\u001b[36mlog_data\u001b[0m:\u001b[36m447\u001b[0m - \u001b[1mlr 0.001 \t|\u001b[0m\n",
      "\u001b[32m2022-06-26 16:09:33.631\u001b[0m | \u001b[1mINFO    \u001b[0m | \u001b[36msrc.beam.experiment\u001b[0m:\u001b[36mlog_data\u001b[0m:\u001b[36m443\u001b[0m - \u001b[1mvalidation:\u001b[0m\n",
      "\u001b[32m2022-06-26 16:09:33.632\u001b[0m | \u001b[1mINFO    \u001b[0m | \u001b[36msrc.beam.experiment\u001b[0m:\u001b[36mlog_data\u001b[0m:\u001b[36m447\u001b[0m - \u001b[1mloss 609.346 \t|\u001b[0m\n",
      "\u001b[32m2022-06-26 16:09:33.633\u001b[0m | \u001b[1mINFO    \u001b[0m | \u001b[36msrc.beam.experiment\u001b[0m:\u001b[36mlog_data\u001b[0m:\u001b[36m447\u001b[0m - \u001b[1macc 0.936131 \t|\u001b[0m\n"
     ]
    },
    {
     "data": {
      "application/vnd.jupyter.widget-view+json": {
       "model_id": "c1117667a59d4762a6667e75eadee3f6",
       "version_major": 2,
       "version_minor": 0
      },
      "text/plain": [
       "train:   0%|          | 0/339 [00:00<?, ?it/s]"
      ]
     },
     "metadata": {},
     "output_type": "display_data"
    },
    {
     "data": {
      "application/vnd.jupyter.widget-view+json": {
       "model_id": "d556dd74dfae487394e8b4b65052611d",
       "version_major": 2,
       "version_minor": 0
      },
      "text/plain": [
       "validation:   0%|          | 0/112 [00:00<?, ?it/s]"
      ]
     },
     "metadata": {},
     "output_type": "display_data"
    },
    {
     "name": "stdout",
     "output_type": "stream",
     "text": [
      "\u001b[32m2022-06-26 16:11:19.123\u001b[0m | \u001b[1mINFO    \u001b[0m | \u001b[36msrc.beam.model\u001b[0m:\u001b[36mstep\u001b[0m:\u001b[36m590\u001b[0m - \u001b[1mbr was changed to 0.9867196177574868\u001b[0m\n",
      "\u001b[32m2022-06-26 16:11:19.124\u001b[0m | \u001b[1mINFO    \u001b[0m | \u001b[36msrc.beam.model\u001b[0m:\u001b[36mstep\u001b[0m:\u001b[36m591\u001b[0m - \u001b[1mlambda_llr was changed to 0.013735528577318235\u001b[0m\n",
      "\n",
      "\u001b[32m2022-06-26 16:11:19.125\u001b[0m | \u001b[1mINFO    \u001b[0m | \u001b[36msrc.beam.experiment\u001b[0m:\u001b[36msave_model_results\u001b[0m:\u001b[36m397\u001b[0m - \u001b[1mFinished epoch 25/100:\u001b[0m\n",
      "\u001b[32m2022-06-26 16:11:19.129\u001b[0m | \u001b[1mINFO    \u001b[0m | \u001b[36msrc.beam.experiment\u001b[0m:\u001b[36mlog_data\u001b[0m:\u001b[36m443\u001b[0m - \u001b[1mtrain:\u001b[0m\n",
      "\u001b[32m2022-06-26 16:11:19.130\u001b[0m | \u001b[1mINFO    \u001b[0m | \u001b[36msrc.beam.experiment\u001b[0m:\u001b[36mlog_data\u001b[0m:\u001b[36m447\u001b[0m - \u001b[1mloss 592.899 \t|\u001b[0m\n",
      "\u001b[32m2022-06-26 16:11:19.130\u001b[0m | \u001b[1mINFO    \u001b[0m | \u001b[36msrc.beam.experiment\u001b[0m:\u001b[36mlog_data\u001b[0m:\u001b[36m447\u001b[0m - \u001b[1macc 0.94287 \t|\u001b[0m\n",
      "\u001b[32m2022-06-26 16:11:19.131\u001b[0m | \u001b[1mINFO    \u001b[0m | \u001b[36msrc.beam.experiment\u001b[0m:\u001b[36mlog_data\u001b[0m:\u001b[36m447\u001b[0m - \u001b[1mlr 0.001 \t|\u001b[0m\n",
      "\u001b[32m2022-06-26 16:11:19.132\u001b[0m | \u001b[1mINFO    \u001b[0m | \u001b[36msrc.beam.experiment\u001b[0m:\u001b[36mlog_data\u001b[0m:\u001b[36m443\u001b[0m - \u001b[1mvalidation:\u001b[0m\n",
      "\u001b[32m2022-06-26 16:11:19.132\u001b[0m | \u001b[1mINFO    \u001b[0m | \u001b[36msrc.beam.experiment\u001b[0m:\u001b[36mlog_data\u001b[0m:\u001b[36m447\u001b[0m - \u001b[1mloss 608.525 \t|\u001b[0m\n",
      "\u001b[32m2022-06-26 16:11:19.133\u001b[0m | \u001b[1mINFO    \u001b[0m | \u001b[36msrc.beam.experiment\u001b[0m:\u001b[36mlog_data\u001b[0m:\u001b[36m447\u001b[0m - \u001b[1macc 0.93559 \t|\u001b[0m\n"
     ]
    },
    {
     "data": {
      "application/vnd.jupyter.widget-view+json": {
       "model_id": "e24391b9e4c64249a8f8c044bf1f09c1",
       "version_major": 2,
       "version_minor": 0
      },
      "text/plain": [
       "train:   0%|          | 0/339 [00:00<?, ?it/s]"
      ]
     },
     "metadata": {},
     "output_type": "display_data"
    },
    {
     "data": {
      "application/vnd.jupyter.widget-view+json": {
       "model_id": "4ba163ed45934dd783746b048a84a1d9",
       "version_major": 2,
       "version_minor": 0
      },
      "text/plain": [
       "validation:   0%|          | 0/112 [00:00<?, ?it/s]"
      ]
     },
     "metadata": {},
     "output_type": "display_data"
    },
    {
     "name": "stdout",
     "output_type": "stream",
     "text": [
      "\u001b[32m2022-06-26 16:13:04.723\u001b[0m | \u001b[1mINFO    \u001b[0m | \u001b[36msrc.beam.model\u001b[0m:\u001b[36mstep\u001b[0m:\u001b[36m590\u001b[0m - \u001b[1mbr was changed to 0.9851582530442871\u001b[0m\n",
      "\u001b[32m2022-06-26 16:13:04.725\u001b[0m | \u001b[1mINFO    \u001b[0m | \u001b[36msrc.beam.model\u001b[0m:\u001b[36mstep\u001b[0m:\u001b[36m591\u001b[0m - \u001b[1mlambda_llr was changed to 0.01472359380276335\u001b[0m\n",
      "\n",
      "\u001b[32m2022-06-26 16:13:04.727\u001b[0m | \u001b[1mINFO    \u001b[0m | \u001b[36msrc.beam.experiment\u001b[0m:\u001b[36msave_model_results\u001b[0m:\u001b[36m397\u001b[0m - \u001b[1mFinished epoch 26/100:\u001b[0m\n",
      "\u001b[32m2022-06-26 16:13:04.731\u001b[0m | \u001b[1mINFO    \u001b[0m | \u001b[36msrc.beam.experiment\u001b[0m:\u001b[36mlog_data\u001b[0m:\u001b[36m443\u001b[0m - \u001b[1mtrain:\u001b[0m\n",
      "\u001b[32m2022-06-26 16:13:04.731\u001b[0m | \u001b[1mINFO    \u001b[0m | \u001b[36msrc.beam.experiment\u001b[0m:\u001b[36mlog_data\u001b[0m:\u001b[36m447\u001b[0m - \u001b[1mloss 595.634 \t|\u001b[0m\n",
      "\u001b[32m2022-06-26 16:13:04.732\u001b[0m | \u001b[1mINFO    \u001b[0m | \u001b[36msrc.beam.experiment\u001b[0m:\u001b[36mlog_data\u001b[0m:\u001b[36m447\u001b[0m - \u001b[1macc 0.941369 \t|\u001b[0m\n",
      "\u001b[32m2022-06-26 16:13:04.733\u001b[0m | \u001b[1mINFO    \u001b[0m | \u001b[36msrc.beam.experiment\u001b[0m:\u001b[36mlog_data\u001b[0m:\u001b[36m447\u001b[0m - \u001b[1mlr 0.001 \t|\u001b[0m\n",
      "\u001b[32m2022-06-26 16:13:04.733\u001b[0m | \u001b[1mINFO    \u001b[0m | \u001b[36msrc.beam.experiment\u001b[0m:\u001b[36mlog_data\u001b[0m:\u001b[36m443\u001b[0m - \u001b[1mvalidation:\u001b[0m\n",
      "\u001b[32m2022-06-26 16:13:04.734\u001b[0m | \u001b[1mINFO    \u001b[0m | \u001b[36msrc.beam.experiment\u001b[0m:\u001b[36mlog_data\u001b[0m:\u001b[36m447\u001b[0m - \u001b[1mloss 611.269 \t|\u001b[0m\n",
      "\u001b[32m2022-06-26 16:13:04.734\u001b[0m | \u001b[1mINFO    \u001b[0m | \u001b[36msrc.beam.experiment\u001b[0m:\u001b[36mlog_data\u001b[0m:\u001b[36m447\u001b[0m - \u001b[1macc 0.933602 \t|\u001b[0m\n"
     ]
    },
    {
     "data": {
      "application/vnd.jupyter.widget-view+json": {
       "model_id": "6269c4e3380d4906978e07656ea395e8",
       "version_major": 2,
       "version_minor": 0
      },
      "text/plain": [
       "train:   0%|          | 0/339 [00:00<?, ?it/s]"
      ]
     },
     "metadata": {},
     "output_type": "display_data"
    },
    {
     "data": {
      "application/vnd.jupyter.widget-view+json": {
       "model_id": "fa111d23f428482e8a867b87d9a90f57",
       "version_major": 2,
       "version_minor": 0
      },
      "text/plain": [
       "validation:   0%|          | 0/112 [00:00<?, ?it/s]"
      ]
     },
     "metadata": {},
     "output_type": "display_data"
    },
    {
     "name": "stdout",
     "output_type": "stream",
     "text": [
      "\u001b[32m2022-06-26 16:14:50.206\u001b[0m | \u001b[1mINFO    \u001b[0m | \u001b[36msrc.beam.model\u001b[0m:\u001b[36mstep\u001b[0m:\u001b[36m590\u001b[0m - \u001b[1mbr was changed to 0.9835333492412454\u001b[0m\n",
      "\u001b[32m2022-06-26 16:14:50.208\u001b[0m | \u001b[1mINFO    \u001b[0m | \u001b[36msrc.beam.model\u001b[0m:\u001b[36mstep\u001b[0m:\u001b[36m591\u001b[0m - \u001b[1mlambda_llr was changed to 0.01571396999459151\u001b[0m\n",
      "\n",
      "\u001b[32m2022-06-26 16:14:50.209\u001b[0m | \u001b[1mINFO    \u001b[0m | \u001b[36msrc.beam.experiment\u001b[0m:\u001b[36msave_model_results\u001b[0m:\u001b[36m397\u001b[0m - \u001b[1mFinished epoch 27/100:\u001b[0m\n",
      "\u001b[32m2022-06-26 16:14:50.213\u001b[0m | \u001b[1mINFO    \u001b[0m | \u001b[36msrc.beam.experiment\u001b[0m:\u001b[36mlog_data\u001b[0m:\u001b[36m443\u001b[0m - \u001b[1mtrain:\u001b[0m\n",
      "\u001b[32m2022-06-26 16:14:50.214\u001b[0m | \u001b[1mINFO    \u001b[0m | \u001b[36msrc.beam.experiment\u001b[0m:\u001b[36mlog_data\u001b[0m:\u001b[36m447\u001b[0m - \u001b[1mloss 597.103 \t|\u001b[0m\n",
      "\u001b[32m2022-06-26 16:14:50.215\u001b[0m | \u001b[1mINFO    \u001b[0m | \u001b[36msrc.beam.experiment\u001b[0m:\u001b[36mlog_data\u001b[0m:\u001b[36m447\u001b[0m - \u001b[1macc 0.94068 \t|\u001b[0m\n",
      "\u001b[32m2022-06-26 16:14:50.217\u001b[0m | \u001b[1mINFO    \u001b[0m | \u001b[36msrc.beam.experiment\u001b[0m:\u001b[36mlog_data\u001b[0m:\u001b[36m447\u001b[0m - \u001b[1mlr 0.001 \t|\u001b[0m\n",
      "\u001b[32m2022-06-26 16:14:50.218\u001b[0m | \u001b[1mINFO    \u001b[0m | \u001b[36msrc.beam.experiment\u001b[0m:\u001b[36mlog_data\u001b[0m:\u001b[36m443\u001b[0m - \u001b[1mvalidation:\u001b[0m\n",
      "\u001b[32m2022-06-26 16:14:50.219\u001b[0m | \u001b[1mINFO    \u001b[0m | \u001b[36msrc.beam.experiment\u001b[0m:\u001b[36mlog_data\u001b[0m:\u001b[36m447\u001b[0m - \u001b[1mloss 613.457 \t|\u001b[0m\n",
      "\u001b[32m2022-06-26 16:14:50.219\u001b[0m | \u001b[1mINFO    \u001b[0m | \u001b[36msrc.beam.experiment\u001b[0m:\u001b[36mlog_data\u001b[0m:\u001b[36m447\u001b[0m - \u001b[1macc 0.933193 \t|\u001b[0m\n"
     ]
    },
    {
     "data": {
      "application/vnd.jupyter.widget-view+json": {
       "model_id": "d60e912ba663458f9c25fedd353d4008",
       "version_major": 2,
       "version_minor": 0
      },
      "text/plain": [
       "train:   0%|          | 0/339 [00:00<?, ?it/s]"
      ]
     },
     "metadata": {},
     "output_type": "display_data"
    },
    {
     "data": {
      "application/vnd.jupyter.widget-view+json": {
       "model_id": "93a3908fb255415f8311b56b66672f20",
       "version_major": 2,
       "version_minor": 0
      },
      "text/plain": [
       "validation:   0%|          | 0/112 [00:00<?, ?it/s]"
      ]
     },
     "metadata": {},
     "output_type": "display_data"
    },
    {
     "name": "stdout",
     "output_type": "stream",
     "text": [
      "\u001b[32m2022-06-26 16:16:35.896\u001b[0m | \u001b[1mINFO    \u001b[0m | \u001b[36msrc.beam.model\u001b[0m:\u001b[36mstep\u001b[0m:\u001b[36m590\u001b[0m - \u001b[1mbr was changed to 0.9824129026488087\u001b[0m\n",
      "\u001b[32m2022-06-26 16:16:35.897\u001b[0m | \u001b[1mINFO    \u001b[0m | \u001b[36msrc.beam.model\u001b[0m:\u001b[36mstep\u001b[0m:\u001b[36m591\u001b[0m - \u001b[1mlambda_llr was changed to 0.01664160651242237\u001b[0m\n",
      "\n",
      "\u001b[32m2022-06-26 16:16:35.898\u001b[0m | \u001b[1mINFO    \u001b[0m | \u001b[36msrc.beam.experiment\u001b[0m:\u001b[36msave_model_results\u001b[0m:\u001b[36m397\u001b[0m - \u001b[1mFinished epoch 28/100:\u001b[0m\n",
      "\u001b[32m2022-06-26 16:16:35.902\u001b[0m | \u001b[1mINFO    \u001b[0m | \u001b[36msrc.beam.experiment\u001b[0m:\u001b[36mlog_data\u001b[0m:\u001b[36m443\u001b[0m - \u001b[1mtrain:\u001b[0m\n",
      "\u001b[32m2022-06-26 16:16:35.903\u001b[0m | \u001b[1mINFO    \u001b[0m | \u001b[36msrc.beam.experiment\u001b[0m:\u001b[36mlog_data\u001b[0m:\u001b[36m447\u001b[0m - \u001b[1mloss 597.433 \t|\u001b[0m\n",
      "\u001b[32m2022-06-26 16:16:35.904\u001b[0m | \u001b[1mINFO    \u001b[0m | \u001b[36msrc.beam.experiment\u001b[0m:\u001b[36mlog_data\u001b[0m:\u001b[36m447\u001b[0m - \u001b[1macc 0.94049 \t|\u001b[0m\n",
      "\u001b[32m2022-06-26 16:16:35.905\u001b[0m | \u001b[1mINFO    \u001b[0m | \u001b[36msrc.beam.experiment\u001b[0m:\u001b[36mlog_data\u001b[0m:\u001b[36m447\u001b[0m - \u001b[1mlr 0.001 \t|\u001b[0m\n",
      "\u001b[32m2022-06-26 16:16:35.906\u001b[0m | \u001b[1mINFO    \u001b[0m | \u001b[36msrc.beam.experiment\u001b[0m:\u001b[36mlog_data\u001b[0m:\u001b[36m443\u001b[0m - \u001b[1mvalidation:\u001b[0m\n",
      "\u001b[32m2022-06-26 16:16:35.907\u001b[0m | \u001b[1mINFO    \u001b[0m | \u001b[36msrc.beam.experiment\u001b[0m:\u001b[36mlog_data\u001b[0m:\u001b[36m447\u001b[0m - \u001b[1mloss 607.402 \t|\u001b[0m\n",
      "\u001b[32m2022-06-26 16:16:35.907\u001b[0m | \u001b[1mINFO    \u001b[0m | \u001b[36msrc.beam.experiment\u001b[0m:\u001b[36mlog_data\u001b[0m:\u001b[36m447\u001b[0m - \u001b[1macc 0.936018 \t|\u001b[0m\n"
     ]
    },
    {
     "data": {
      "application/vnd.jupyter.widget-view+json": {
       "model_id": "10bb796fbdbc4637917c326e9d272b78",
       "version_major": 2,
       "version_minor": 0
      },
      "text/plain": [
       "train:   0%|          | 0/339 [00:00<?, ?it/s]"
      ]
     },
     "metadata": {},
     "output_type": "display_data"
    },
    {
     "data": {
      "application/vnd.jupyter.widget-view+json": {
       "model_id": "1cdfc27e8894477fa5b623a07ac10ccf",
       "version_major": 2,
       "version_minor": 0
      },
      "text/plain": [
       "validation:   0%|          | 0/112 [00:00<?, ?it/s]"
      ]
     },
     "metadata": {},
     "output_type": "display_data"
    },
    {
     "name": "stdout",
     "output_type": "stream",
     "text": [
      "\u001b[32m2022-06-26 16:18:21.254\u001b[0m | \u001b[1mINFO    \u001b[0m | \u001b[36msrc.beam.model\u001b[0m:\u001b[36mstep\u001b[0m:\u001b[36m590\u001b[0m - \u001b[1mbr was changed to 0.9810083975981905\u001b[0m\n",
      "\u001b[32m2022-06-26 16:18:21.256\u001b[0m | \u001b[1mINFO    \u001b[0m | \u001b[36msrc.beam.model\u001b[0m:\u001b[36mstep\u001b[0m:\u001b[36m591\u001b[0m - \u001b[1mlambda_llr was changed to 0.017609557337819954\u001b[0m\n",
      "\n",
      "\u001b[32m2022-06-26 16:18:21.258\u001b[0m | \u001b[1mINFO    \u001b[0m | \u001b[36msrc.beam.experiment\u001b[0m:\u001b[36msave_model_results\u001b[0m:\u001b[36m397\u001b[0m - \u001b[1mFinished epoch 29/100:\u001b[0m\n",
      "\u001b[32m2022-06-26 16:18:21.261\u001b[0m | \u001b[1mINFO    \u001b[0m | \u001b[36msrc.beam.experiment\u001b[0m:\u001b[36mlog_data\u001b[0m:\u001b[36m443\u001b[0m - \u001b[1mtrain:\u001b[0m\n",
      "\u001b[32m2022-06-26 16:18:21.263\u001b[0m | \u001b[1mINFO    \u001b[0m | \u001b[36msrc.beam.experiment\u001b[0m:\u001b[36mlog_data\u001b[0m:\u001b[36m447\u001b[0m - \u001b[1mloss 596.616 \t|\u001b[0m\n",
      "\u001b[32m2022-06-26 16:18:21.263\u001b[0m | \u001b[1mINFO    \u001b[0m | \u001b[36msrc.beam.experiment\u001b[0m:\u001b[36mlog_data\u001b[0m:\u001b[36m447\u001b[0m - \u001b[1macc 0.940813 \t|\u001b[0m\n",
      "\u001b[32m2022-06-26 16:18:21.264\u001b[0m | \u001b[1mINFO    \u001b[0m | \u001b[36msrc.beam.experiment\u001b[0m:\u001b[36mlog_data\u001b[0m:\u001b[36m447\u001b[0m - \u001b[1mlr 0.001 \t|\u001b[0m\n",
      "\u001b[32m2022-06-26 16:18:21.265\u001b[0m | \u001b[1mINFO    \u001b[0m | \u001b[36msrc.beam.experiment\u001b[0m:\u001b[36mlog_data\u001b[0m:\u001b[36m443\u001b[0m - \u001b[1mvalidation:\u001b[0m\n",
      "\u001b[32m2022-06-26 16:18:21.265\u001b[0m | \u001b[1mINFO    \u001b[0m | \u001b[36msrc.beam.experiment\u001b[0m:\u001b[36mlog_data\u001b[0m:\u001b[36m447\u001b[0m - \u001b[1mloss 609.157 \t|\u001b[0m\n",
      "\u001b[32m2022-06-26 16:18:21.266\u001b[0m | \u001b[1mINFO    \u001b[0m | \u001b[36msrc.beam.experiment\u001b[0m:\u001b[36mlog_data\u001b[0m:\u001b[36m447\u001b[0m - \u001b[1macc 0.934065 \t|\u001b[0m\n"
     ]
    },
    {
     "data": {
      "application/vnd.jupyter.widget-view+json": {
       "model_id": "6d4c0186fe4c4ed8a6d5dd53b8092417",
       "version_major": 2,
       "version_minor": 0
      },
      "text/plain": [
       "train:   0%|          | 0/339 [00:00<?, ?it/s]"
      ]
     },
     "metadata": {},
     "output_type": "display_data"
    },
    {
     "data": {
      "application/vnd.jupyter.widget-view+json": {
       "model_id": "429a57fb123a44938ebb9c94cb260530",
       "version_major": 2,
       "version_minor": 0
      },
      "text/plain": [
       "validation:   0%|          | 0/112 [00:00<?, ?it/s]"
      ]
     },
     "metadata": {},
     "output_type": "display_data"
    },
    {
     "name": "stdout",
     "output_type": "stream",
     "text": [
      "\u001b[32m2022-06-26 16:20:06.959\u001b[0m | \u001b[1mINFO    \u001b[0m | \u001b[36msrc.beam.model\u001b[0m:\u001b[36mstep\u001b[0m:\u001b[36m590\u001b[0m - \u001b[1mbr was changed to 0.9795274787144058\u001b[0m\n",
      "\u001b[32m2022-06-26 16:20:06.961\u001b[0m | \u001b[1mINFO    \u001b[0m | \u001b[36msrc.beam.model\u001b[0m:\u001b[36mstep\u001b[0m:\u001b[36m591\u001b[0m - \u001b[1mlambda_llr was changed to 0.018585870078213433\u001b[0m\n",
      "\n",
      "\u001b[32m2022-06-26 16:20:06.962\u001b[0m | \u001b[1mINFO    \u001b[0m | \u001b[36msrc.beam.experiment\u001b[0m:\u001b[36msave_model_results\u001b[0m:\u001b[36m397\u001b[0m - \u001b[1mFinished epoch 30/100:\u001b[0m\n",
      "\u001b[32m2022-06-26 16:20:06.965\u001b[0m | \u001b[1mINFO    \u001b[0m | \u001b[36msrc.beam.experiment\u001b[0m:\u001b[36mlog_data\u001b[0m:\u001b[36m443\u001b[0m - \u001b[1mtrain:\u001b[0m\n",
      "\u001b[32m2022-06-26 16:20:06.966\u001b[0m | \u001b[1mINFO    \u001b[0m | \u001b[36msrc.beam.experiment\u001b[0m:\u001b[36mlog_data\u001b[0m:\u001b[36m447\u001b[0m - \u001b[1mloss 598.248 \t|\u001b[0m\n",
      "\u001b[32m2022-06-26 16:20:06.967\u001b[0m | \u001b[1mINFO    \u001b[0m | \u001b[36msrc.beam.experiment\u001b[0m:\u001b[36mlog_data\u001b[0m:\u001b[36m447\u001b[0m - \u001b[1macc 0.940116 \t|\u001b[0m\n",
      "\u001b[32m2022-06-26 16:20:06.968\u001b[0m | \u001b[1mINFO    \u001b[0m | \u001b[36msrc.beam.experiment\u001b[0m:\u001b[36mlog_data\u001b[0m:\u001b[36m447\u001b[0m - \u001b[1mlr 0.001 \t|\u001b[0m\n",
      "\u001b[32m2022-06-26 16:20:06.969\u001b[0m | \u001b[1mINFO    \u001b[0m | \u001b[36msrc.beam.experiment\u001b[0m:\u001b[36mlog_data\u001b[0m:\u001b[36m443\u001b[0m - \u001b[1mvalidation:\u001b[0m\n",
      "\u001b[32m2022-06-26 16:20:06.970\u001b[0m | \u001b[1mINFO    \u001b[0m | \u001b[36msrc.beam.experiment\u001b[0m:\u001b[36mlog_data\u001b[0m:\u001b[36m447\u001b[0m - \u001b[1mloss 611.781 \t|\u001b[0m\n",
      "\u001b[32m2022-06-26 16:20:06.971\u001b[0m | \u001b[1mINFO    \u001b[0m | \u001b[36msrc.beam.experiment\u001b[0m:\u001b[36mlog_data\u001b[0m:\u001b[36m447\u001b[0m - \u001b[1macc 0.934117 \t|\u001b[0m\n"
     ]
    },
    {
     "data": {
      "application/vnd.jupyter.widget-view+json": {
       "model_id": "726304c2c200422f9c0426dc750b7ce3",
       "version_major": 2,
       "version_minor": 0
      },
      "text/plain": [
       "train:   0%|          | 0/339 [00:00<?, ?it/s]"
      ]
     },
     "metadata": {},
     "output_type": "display_data"
    },
    {
     "data": {
      "application/vnd.jupyter.widget-view+json": {
       "model_id": "cbaac6db45b74e3cb6627aeb4b5ba1d5",
       "version_major": 2,
       "version_minor": 0
      },
      "text/plain": [
       "validation:   0%|          | 0/112 [00:00<?, ?it/s]"
      ]
     },
     "metadata": {},
     "output_type": "display_data"
    },
    {
     "name": "stdout",
     "output_type": "stream",
     "text": [
      "\u001b[32m2022-06-26 16:21:52.975\u001b[0m | \u001b[1mINFO    \u001b[0m | \u001b[36msrc.beam.model\u001b[0m:\u001b[36mstep\u001b[0m:\u001b[36m590\u001b[0m - \u001b[1mbr was changed to 0.9782341041970976\u001b[0m\n",
      "\u001b[32m2022-06-26 16:21:52.977\u001b[0m | \u001b[1mINFO    \u001b[0m | \u001b[36msrc.beam.model\u001b[0m:\u001b[36mstep\u001b[0m:\u001b[36m591\u001b[0m - \u001b[1mlambda_llr was changed to 0.019539686917901776\u001b[0m\n",
      "\n",
      "\u001b[32m2022-06-26 16:21:52.979\u001b[0m | \u001b[1mINFO    \u001b[0m | \u001b[36msrc.beam.experiment\u001b[0m:\u001b[36msave_model_results\u001b[0m:\u001b[36m397\u001b[0m - \u001b[1mFinished epoch 31/100:\u001b[0m\n",
      "\u001b[32m2022-06-26 16:21:52.983\u001b[0m | \u001b[1mINFO    \u001b[0m | \u001b[36msrc.beam.experiment\u001b[0m:\u001b[36mlog_data\u001b[0m:\u001b[36m443\u001b[0m - \u001b[1mtrain:\u001b[0m\n",
      "\u001b[32m2022-06-26 16:21:52.985\u001b[0m | \u001b[1mINFO    \u001b[0m | \u001b[36msrc.beam.experiment\u001b[0m:\u001b[36mlog_data\u001b[0m:\u001b[36m447\u001b[0m - \u001b[1mloss 598.534 \t|\u001b[0m\n",
      "\u001b[32m2022-06-26 16:21:52.985\u001b[0m | \u001b[1mINFO    \u001b[0m | \u001b[36msrc.beam.experiment\u001b[0m:\u001b[36mlog_data\u001b[0m:\u001b[36m447\u001b[0m - \u001b[1macc 0.940041 \t|\u001b[0m\n",
      "\u001b[32m2022-06-26 16:21:52.986\u001b[0m | \u001b[1mINFO    \u001b[0m | \u001b[36msrc.beam.experiment\u001b[0m:\u001b[36mlog_data\u001b[0m:\u001b[36m447\u001b[0m - \u001b[1mlr 0.001 \t|\u001b[0m\n",
      "\u001b[32m2022-06-26 16:21:52.987\u001b[0m | \u001b[1mINFO    \u001b[0m | \u001b[36msrc.beam.experiment\u001b[0m:\u001b[36mlog_data\u001b[0m:\u001b[36m443\u001b[0m - \u001b[1mvalidation:\u001b[0m\n",
      "\u001b[32m2022-06-26 16:21:52.988\u001b[0m | \u001b[1mINFO    \u001b[0m | \u001b[36msrc.beam.experiment\u001b[0m:\u001b[36mlog_data\u001b[0m:\u001b[36m447\u001b[0m - \u001b[1mloss 609.956 \t|\u001b[0m\n",
      "\u001b[32m2022-06-26 16:21:52.989\u001b[0m | \u001b[1mINFO    \u001b[0m | \u001b[36msrc.beam.experiment\u001b[0m:\u001b[36mlog_data\u001b[0m:\u001b[36m447\u001b[0m - \u001b[1macc 0.93505 \t|\u001b[0m\n"
     ]
    },
    {
     "data": {
      "application/vnd.jupyter.widget-view+json": {
       "model_id": "79e4d1f961c64462918b4d34c2f1e5fe",
       "version_major": 2,
       "version_minor": 0
      },
      "text/plain": [
       "train:   0%|          | 0/339 [00:00<?, ?it/s]"
      ]
     },
     "metadata": {},
     "output_type": "display_data"
    },
    {
     "data": {
      "application/vnd.jupyter.widget-view+json": {
       "model_id": "5b780ab40cfd4377adc0e899e14799b3",
       "version_major": 2,
       "version_minor": 0
      },
      "text/plain": [
       "validation:   0%|          | 0/112 [00:00<?, ?it/s]"
      ]
     },
     "metadata": {},
     "output_type": "display_data"
    },
    {
     "name": "stdout",
     "output_type": "stream",
     "text": [
      "\u001b[32m2022-06-26 16:23:38.370\u001b[0m | \u001b[1mINFO    \u001b[0m | \u001b[36msrc.beam.model\u001b[0m:\u001b[36mstep\u001b[0m:\u001b[36m590\u001b[0m - \u001b[1mbr was changed to 0.9765778962773027\u001b[0m\n",
      "\u001b[32m2022-06-26 16:23:38.371\u001b[0m | \u001b[1mINFO    \u001b[0m | \u001b[36msrc.beam.model\u001b[0m:\u001b[36mstep\u001b[0m:\u001b[36m591\u001b[0m - \u001b[1mlambda_llr was changed to 0.02052687503504339\u001b[0m\n",
      "\n",
      "\u001b[32m2022-06-26 16:23:38.372\u001b[0m | \u001b[1mINFO    \u001b[0m | \u001b[36msrc.beam.experiment\u001b[0m:\u001b[36msave_model_results\u001b[0m:\u001b[36m397\u001b[0m - \u001b[1mFinished epoch 32/100:\u001b[0m\n",
      "\u001b[32m2022-06-26 16:23:38.376\u001b[0m | \u001b[1mINFO    \u001b[0m | \u001b[36msrc.beam.experiment\u001b[0m:\u001b[36mlog_data\u001b[0m:\u001b[36m443\u001b[0m - \u001b[1mtrain:\u001b[0m\n",
      "\u001b[32m2022-06-26 16:23:38.377\u001b[0m | \u001b[1mINFO    \u001b[0m | \u001b[36msrc.beam.experiment\u001b[0m:\u001b[36mlog_data\u001b[0m:\u001b[36m447\u001b[0m - \u001b[1mloss 597.124 \t|\u001b[0m\n",
      "\u001b[32m2022-06-26 16:23:38.378\u001b[0m | \u001b[1mINFO    \u001b[0m | \u001b[36msrc.beam.experiment\u001b[0m:\u001b[36mlog_data\u001b[0m:\u001b[36m447\u001b[0m - \u001b[1macc 0.940055 \t|\u001b[0m\n",
      "\u001b[32m2022-06-26 16:23:38.378\u001b[0m | \u001b[1mINFO    \u001b[0m | \u001b[36msrc.beam.experiment\u001b[0m:\u001b[36mlog_data\u001b[0m:\u001b[36m447\u001b[0m - \u001b[1mlr 0.001 \t|\u001b[0m\n",
      "\u001b[32m2022-06-26 16:23:38.379\u001b[0m | \u001b[1mINFO    \u001b[0m | \u001b[36msrc.beam.experiment\u001b[0m:\u001b[36mlog_data\u001b[0m:\u001b[36m443\u001b[0m - \u001b[1mvalidation:\u001b[0m\n",
      "\u001b[32m2022-06-26 16:23:38.380\u001b[0m | \u001b[1mINFO    \u001b[0m | \u001b[36msrc.beam.experiment\u001b[0m:\u001b[36mlog_data\u001b[0m:\u001b[36m447\u001b[0m - \u001b[1mloss 612.574 \t|\u001b[0m\n",
      "\u001b[32m2022-06-26 16:23:38.381\u001b[0m | \u001b[1mINFO    \u001b[0m | \u001b[36msrc.beam.experiment\u001b[0m:\u001b[36mlog_data\u001b[0m:\u001b[36m447\u001b[0m - \u001b[1macc 0.933925 \t|\u001b[0m\n"
     ]
    },
    {
     "data": {
      "application/vnd.jupyter.widget-view+json": {
       "model_id": "b0bee140653f4d4a9fdcc746bb1c5d69",
       "version_major": 2,
       "version_minor": 0
      },
      "text/plain": [
       "train:   0%|          | 0/339 [00:00<?, ?it/s]"
      ]
     },
     "metadata": {},
     "output_type": "display_data"
    },
    {
     "data": {
      "application/vnd.jupyter.widget-view+json": {
       "model_id": "5e98002e645948119d1d5203cc23599d",
       "version_major": 2,
       "version_minor": 0
      },
      "text/plain": [
       "validation:   0%|          | 0/112 [00:00<?, ?it/s]"
      ]
     },
     "metadata": {},
     "output_type": "display_data"
    },
    {
     "name": "stdout",
     "output_type": "stream",
     "text": [
      "\u001b[32m2022-06-26 16:25:24.295\u001b[0m | \u001b[1mINFO    \u001b[0m | \u001b[36msrc.beam.model\u001b[0m:\u001b[36mstep\u001b[0m:\u001b[36m590\u001b[0m - \u001b[1mbr was changed to 0.9745656546852608\u001b[0m\n",
      "\u001b[32m2022-06-26 16:25:24.297\u001b[0m | \u001b[1mINFO    \u001b[0m | \u001b[36msrc.beam.model\u001b[0m:\u001b[36mstep\u001b[0m:\u001b[36m591\u001b[0m - \u001b[1mlambda_llr was changed to 0.021524085579706594\u001b[0m\n",
      "\n",
      "\u001b[32m2022-06-26 16:25:24.298\u001b[0m | \u001b[1mINFO    \u001b[0m | \u001b[36msrc.beam.experiment\u001b[0m:\u001b[36msave_model_results\u001b[0m:\u001b[36m397\u001b[0m - \u001b[1mFinished epoch 33/100:\u001b[0m\n",
      "\u001b[32m2022-06-26 16:25:24.301\u001b[0m | \u001b[1mINFO    \u001b[0m | \u001b[36msrc.beam.experiment\u001b[0m:\u001b[36mlog_data\u001b[0m:\u001b[36m443\u001b[0m - \u001b[1mtrain:\u001b[0m\n",
      "\u001b[32m2022-06-26 16:25:24.302\u001b[0m | \u001b[1mINFO    \u001b[0m | \u001b[36msrc.beam.experiment\u001b[0m:\u001b[36mlog_data\u001b[0m:\u001b[36m447\u001b[0m - \u001b[1mloss 599.893 \t|\u001b[0m\n",
      "\u001b[32m2022-06-26 16:25:24.303\u001b[0m | \u001b[1mINFO    \u001b[0m | \u001b[36msrc.beam.experiment\u001b[0m:\u001b[36mlog_data\u001b[0m:\u001b[36m447\u001b[0m - \u001b[1macc 0.938857 \t|\u001b[0m\n",
      "\u001b[32m2022-06-26 16:25:24.304\u001b[0m | \u001b[1mINFO    \u001b[0m | \u001b[36msrc.beam.experiment\u001b[0m:\u001b[36mlog_data\u001b[0m:\u001b[36m447\u001b[0m - \u001b[1mlr 0.001 \t|\u001b[0m\n",
      "\u001b[32m2022-06-26 16:25:24.305\u001b[0m | \u001b[1mINFO    \u001b[0m | \u001b[36msrc.beam.experiment\u001b[0m:\u001b[36mlog_data\u001b[0m:\u001b[36m443\u001b[0m - \u001b[1mvalidation:\u001b[0m\n",
      "\u001b[32m2022-06-26 16:25:24.305\u001b[0m | \u001b[1mINFO    \u001b[0m | \u001b[36msrc.beam.experiment\u001b[0m:\u001b[36mlog_data\u001b[0m:\u001b[36m447\u001b[0m - \u001b[1mloss 620.281 \t|\u001b[0m\n",
      "\u001b[32m2022-06-26 16:25:24.306\u001b[0m | \u001b[1mINFO    \u001b[0m | \u001b[36msrc.beam.experiment\u001b[0m:\u001b[36mlog_data\u001b[0m:\u001b[36m447\u001b[0m - \u001b[1macc 0.929696 \t|\u001b[0m\n"
     ]
    },
    {
     "data": {
      "application/vnd.jupyter.widget-view+json": {
       "model_id": "543d2ebbbe314d93838dbaf10ce13b9f",
       "version_major": 2,
       "version_minor": 0
      },
      "text/plain": [
       "train:   0%|          | 0/339 [00:00<?, ?it/s]"
      ]
     },
     "metadata": {},
     "output_type": "display_data"
    },
    {
     "data": {
      "application/vnd.jupyter.widget-view+json": {
       "model_id": "2adade31f02b485aa4469af62968743d",
       "version_major": 2,
       "version_minor": 0
      },
      "text/plain": [
       "validation:   0%|          | 0/112 [00:00<?, ?it/s]"
      ]
     },
     "metadata": {},
     "output_type": "display_data"
    },
    {
     "name": "stdout",
     "output_type": "stream",
     "text": [
      "\u001b[32m2022-06-26 16:27:10.243\u001b[0m | \u001b[1mINFO    \u001b[0m | \u001b[36msrc.beam.model\u001b[0m:\u001b[36mstep\u001b[0m:\u001b[36m590\u001b[0m - \u001b[1mbr was changed to 0.9728601879222871\u001b[0m\n",
      "\u001b[32m2022-06-26 16:27:10.244\u001b[0m | \u001b[1mINFO    \u001b[0m | \u001b[36msrc.beam.model\u001b[0m:\u001b[36mstep\u001b[0m:\u001b[36m591\u001b[0m - \u001b[1mlambda_llr was changed to 0.022514869091442336\u001b[0m\n",
      "\n",
      "\u001b[32m2022-06-26 16:27:10.245\u001b[0m | \u001b[1mINFO    \u001b[0m | \u001b[36msrc.beam.experiment\u001b[0m:\u001b[36msave_model_results\u001b[0m:\u001b[36m397\u001b[0m - \u001b[1mFinished epoch 34/100:\u001b[0m\n",
      "\u001b[32m2022-06-26 16:27:10.249\u001b[0m | \u001b[1mINFO    \u001b[0m | \u001b[36msrc.beam.experiment\u001b[0m:\u001b[36mlog_data\u001b[0m:\u001b[36m443\u001b[0m - \u001b[1mtrain:\u001b[0m\n",
      "\u001b[32m2022-06-26 16:27:10.250\u001b[0m | \u001b[1mINFO    \u001b[0m | \u001b[36msrc.beam.experiment\u001b[0m:\u001b[36mlog_data\u001b[0m:\u001b[36m447\u001b[0m - \u001b[1mloss 601.253 \t|\u001b[0m\n",
      "\u001b[32m2022-06-26 16:27:10.251\u001b[0m | \u001b[1mINFO    \u001b[0m | \u001b[36msrc.beam.experiment\u001b[0m:\u001b[36mlog_data\u001b[0m:\u001b[36m447\u001b[0m - \u001b[1macc 0.938347 \t|\u001b[0m\n",
      "\u001b[32m2022-06-26 16:27:10.251\u001b[0m | \u001b[1mINFO    \u001b[0m | \u001b[36msrc.beam.experiment\u001b[0m:\u001b[36mlog_data\u001b[0m:\u001b[36m447\u001b[0m - \u001b[1mlr 0.001 \t|\u001b[0m\n",
      "\u001b[32m2022-06-26 16:27:10.252\u001b[0m | \u001b[1mINFO    \u001b[0m | \u001b[36msrc.beam.experiment\u001b[0m:\u001b[36mlog_data\u001b[0m:\u001b[36m443\u001b[0m - \u001b[1mvalidation:\u001b[0m\n",
      "\u001b[32m2022-06-26 16:27:10.253\u001b[0m | \u001b[1mINFO    \u001b[0m | \u001b[36msrc.beam.experiment\u001b[0m:\u001b[36mlog_data\u001b[0m:\u001b[36m447\u001b[0m - \u001b[1mloss 617.859 \t|\u001b[0m\n",
      "\u001b[32m2022-06-26 16:27:10.253\u001b[0m | \u001b[1mINFO    \u001b[0m | \u001b[36msrc.beam.experiment\u001b[0m:\u001b[36mlog_data\u001b[0m:\u001b[36m447\u001b[0m - \u001b[1macc 0.930315 \t|\u001b[0m\n"
     ]
    },
    {
     "data": {
      "application/vnd.jupyter.widget-view+json": {
       "model_id": "b0834f1126f947ff8d48c51b7f0c6e20",
       "version_major": 2,
       "version_minor": 0
      },
      "text/plain": [
       "train:   0%|          | 0/339 [00:00<?, ?it/s]"
      ]
     },
     "metadata": {},
     "output_type": "display_data"
    },
    {
     "data": {
      "application/vnd.jupyter.widget-view+json": {
       "model_id": "d285a08de02b4003b666b1ac51b2d36f",
       "version_major": 2,
       "version_minor": 0
      },
      "text/plain": [
       "validation:   0%|          | 0/112 [00:00<?, ?it/s]"
      ]
     },
     "metadata": {},
     "output_type": "display_data"
    },
    {
     "name": "stdout",
     "output_type": "stream",
     "text": [
      "\u001b[32m2022-06-26 16:28:56.049\u001b[0m | \u001b[1mINFO    \u001b[0m | \u001b[36msrc.beam.model\u001b[0m:\u001b[36mstep\u001b[0m:\u001b[36m590\u001b[0m - \u001b[1mbr was changed to 0.9710173500455681\u001b[0m\n",
      "\u001b[32m2022-06-26 16:28:56.050\u001b[0m | \u001b[1mINFO    \u001b[0m | \u001b[36msrc.beam.model\u001b[0m:\u001b[36mstep\u001b[0m:\u001b[36m591\u001b[0m - \u001b[1mlambda_llr was changed to 0.023508819123856457\u001b[0m\n",
      "\n",
      "\u001b[32m2022-06-26 16:28:56.051\u001b[0m | \u001b[1mINFO    \u001b[0m | \u001b[36msrc.beam.experiment\u001b[0m:\u001b[36msave_model_results\u001b[0m:\u001b[36m397\u001b[0m - \u001b[1mFinished epoch 35/100:\u001b[0m\n",
      "\u001b[32m2022-06-26 16:28:56.054\u001b[0m | \u001b[1mINFO    \u001b[0m | \u001b[36msrc.beam.experiment\u001b[0m:\u001b[36mlog_data\u001b[0m:\u001b[36m443\u001b[0m - \u001b[1mtrain:\u001b[0m\n",
      "\u001b[32m2022-06-26 16:28:56.055\u001b[0m | \u001b[1mINFO    \u001b[0m | \u001b[36msrc.beam.experiment\u001b[0m:\u001b[36mlog_data\u001b[0m:\u001b[36m447\u001b[0m - \u001b[1mloss 602.069 \t|\u001b[0m\n",
      "\u001b[32m2022-06-26 16:28:56.056\u001b[0m | \u001b[1mINFO    \u001b[0m | \u001b[36msrc.beam.experiment\u001b[0m:\u001b[36mlog_data\u001b[0m:\u001b[36m447\u001b[0m - \u001b[1macc 0.937232 \t|\u001b[0m\n",
      "\u001b[32m2022-06-26 16:28:56.056\u001b[0m | \u001b[1mINFO    \u001b[0m | \u001b[36msrc.beam.experiment\u001b[0m:\u001b[36mlog_data\u001b[0m:\u001b[36m447\u001b[0m - \u001b[1mlr 0.001 \t|\u001b[0m\n",
      "\u001b[32m2022-06-26 16:28:56.057\u001b[0m | \u001b[1mINFO    \u001b[0m | \u001b[36msrc.beam.experiment\u001b[0m:\u001b[36mlog_data\u001b[0m:\u001b[36m443\u001b[0m - \u001b[1mvalidation:\u001b[0m\n",
      "\u001b[32m2022-06-26 16:28:56.058\u001b[0m | \u001b[1mINFO    \u001b[0m | \u001b[36msrc.beam.experiment\u001b[0m:\u001b[36mlog_data\u001b[0m:\u001b[36m447\u001b[0m - \u001b[1mloss 620.044 \t|\u001b[0m\n",
      "\u001b[32m2022-06-26 16:28:56.058\u001b[0m | \u001b[1mINFO    \u001b[0m | \u001b[36msrc.beam.experiment\u001b[0m:\u001b[36mlog_data\u001b[0m:\u001b[36m447\u001b[0m - \u001b[1macc 0.929879 \t|\u001b[0m\n"
     ]
    },
    {
     "data": {
      "application/vnd.jupyter.widget-view+json": {
       "model_id": "0c3dce4636014de78cd1565cf2adc78f",
       "version_major": 2,
       "version_minor": 0
      },
      "text/plain": [
       "train:   0%|          | 0/339 [00:00<?, ?it/s]"
      ]
     },
     "metadata": {},
     "output_type": "display_data"
    },
    {
     "data": {
      "application/vnd.jupyter.widget-view+json": {
       "model_id": "4a67ff34ab974d90b73e360eb7287524",
       "version_major": 2,
       "version_minor": 0
      },
      "text/plain": [
       "validation:   0%|          | 0/112 [00:00<?, ?it/s]"
      ]
     },
     "metadata": {},
     "output_type": "display_data"
    },
    {
     "name": "stdout",
     "output_type": "stream",
     "text": [
      "\u001b[32m2022-06-26 16:30:41.842\u001b[0m | \u001b[1mINFO    \u001b[0m | \u001b[36msrc.beam.model\u001b[0m:\u001b[36mstep\u001b[0m:\u001b[36m590\u001b[0m - \u001b[1mbr was changed to 0.9695181393216998\u001b[0m\n",
      "\u001b[32m2022-06-26 16:30:41.843\u001b[0m | \u001b[1mINFO    \u001b[0m | \u001b[36msrc.beam.model\u001b[0m:\u001b[36mstep\u001b[0m:\u001b[36m591\u001b[0m - \u001b[1mlambda_llr was changed to 0.024484461719392225\u001b[0m\n",
      "Epoch 00036: reducing learning rate of group 0 to 3.1623e-04.\n",
      "Epoch 00036: reducing learning rate of group 0 to 6.3246e-03.\n",
      "\n",
      "\u001b[32m2022-06-26 16:30:41.845\u001b[0m | \u001b[1mINFO    \u001b[0m | \u001b[36msrc.beam.experiment\u001b[0m:\u001b[36msave_model_results\u001b[0m:\u001b[36m397\u001b[0m - \u001b[1mFinished epoch 36/100:\u001b[0m\n",
      "\u001b[32m2022-06-26 16:30:41.848\u001b[0m | \u001b[1mINFO    \u001b[0m | \u001b[36msrc.beam.experiment\u001b[0m:\u001b[36mlog_data\u001b[0m:\u001b[36m443\u001b[0m - \u001b[1mtrain:\u001b[0m\n",
      "\u001b[32m2022-06-26 16:30:41.849\u001b[0m | \u001b[1mINFO    \u001b[0m | \u001b[36msrc.beam.experiment\u001b[0m:\u001b[36mlog_data\u001b[0m:\u001b[36m447\u001b[0m - \u001b[1mloss 603.546 \t|\u001b[0m\n",
      "\u001b[32m2022-06-26 16:30:41.850\u001b[0m | \u001b[1mINFO    \u001b[0m | \u001b[36msrc.beam.experiment\u001b[0m:\u001b[36mlog_data\u001b[0m:\u001b[36m447\u001b[0m - \u001b[1macc 0.936964 \t|\u001b[0m\n",
      "\u001b[32m2022-06-26 16:30:41.851\u001b[0m | \u001b[1mINFO    \u001b[0m | \u001b[36msrc.beam.experiment\u001b[0m:\u001b[36mlog_data\u001b[0m:\u001b[36m447\u001b[0m - \u001b[1mlr 0.001 \t|\u001b[0m\n",
      "\u001b[32m2022-06-26 16:30:41.852\u001b[0m | \u001b[1mINFO    \u001b[0m | \u001b[36msrc.beam.experiment\u001b[0m:\u001b[36mlog_data\u001b[0m:\u001b[36m443\u001b[0m - \u001b[1mvalidation:\u001b[0m\n",
      "\u001b[32m2022-06-26 16:30:41.853\u001b[0m | \u001b[1mINFO    \u001b[0m | \u001b[36msrc.beam.experiment\u001b[0m:\u001b[36mlog_data\u001b[0m:\u001b[36m447\u001b[0m - \u001b[1mloss 617.11 \t|\u001b[0m\n",
      "\u001b[32m2022-06-26 16:30:41.853\u001b[0m | \u001b[1mINFO    \u001b[0m | \u001b[36msrc.beam.experiment\u001b[0m:\u001b[36mlog_data\u001b[0m:\u001b[36m447\u001b[0m - \u001b[1macc 0.931379 \t|\u001b[0m\n"
     ]
    },
    {
     "data": {
      "application/vnd.jupyter.widget-view+json": {
       "model_id": "1ef94720b1ad49e6b957169ec031f864",
       "version_major": 2,
       "version_minor": 0
      },
      "text/plain": [
       "train:   0%|          | 0/339 [00:00<?, ?it/s]"
      ]
     },
     "metadata": {},
     "output_type": "display_data"
    },
    {
     "data": {
      "application/vnd.jupyter.widget-view+json": {
       "model_id": "2b440612a7b84a87ba604084f9c978e3",
       "version_major": 2,
       "version_minor": 0
      },
      "text/plain": [
       "validation:   0%|          | 0/112 [00:00<?, ?it/s]"
      ]
     },
     "metadata": {},
     "output_type": "display_data"
    },
    {
     "name": "stdout",
     "output_type": "stream",
     "text": [
      "\u001b[32m2022-06-26 16:32:27.463\u001b[0m | \u001b[1mINFO    \u001b[0m | \u001b[36msrc.beam.model\u001b[0m:\u001b[36mstep\u001b[0m:\u001b[36m590\u001b[0m - \u001b[1mbr was changed to 0.9674718793562034\u001b[0m\n",
      "\u001b[32m2022-06-26 16:32:27.465\u001b[0m | \u001b[1mINFO    \u001b[0m | \u001b[36msrc.beam.model\u001b[0m:\u001b[36mstep\u001b[0m:\u001b[36m591\u001b[0m - \u001b[1mlambda_llr was changed to 0.025481456419235382\u001b[0m\n",
      "\n",
      "\u001b[32m2022-06-26 16:32:27.466\u001b[0m | \u001b[1mINFO    \u001b[0m | \u001b[36msrc.beam.experiment\u001b[0m:\u001b[36msave_model_results\u001b[0m:\u001b[36m397\u001b[0m - \u001b[1mFinished epoch 37/100:\u001b[0m\n",
      "\u001b[32m2022-06-26 16:32:27.469\u001b[0m | \u001b[1mINFO    \u001b[0m | \u001b[36msrc.beam.experiment\u001b[0m:\u001b[36mlog_data\u001b[0m:\u001b[36m443\u001b[0m - \u001b[1mtrain:\u001b[0m\n",
      "\u001b[32m2022-06-26 16:32:27.470\u001b[0m | \u001b[1mINFO    \u001b[0m | \u001b[36msrc.beam.experiment\u001b[0m:\u001b[36mlog_data\u001b[0m:\u001b[36m447\u001b[0m - \u001b[1mloss 580.668 \t|\u001b[0m\n",
      "\u001b[32m2022-06-26 16:32:27.471\u001b[0m | \u001b[1mINFO    \u001b[0m | \u001b[36msrc.beam.experiment\u001b[0m:\u001b[36mlog_data\u001b[0m:\u001b[36m447\u001b[0m - \u001b[1macc 0.948499 \t|\u001b[0m\n",
      "\u001b[32m2022-06-26 16:32:27.472\u001b[0m | \u001b[1mINFO    \u001b[0m | \u001b[36msrc.beam.experiment\u001b[0m:\u001b[36mlog_data\u001b[0m:\u001b[36m447\u001b[0m - \u001b[1mlr 0.000316228 \t|\u001b[0m\n",
      "\u001b[32m2022-06-26 16:32:27.473\u001b[0m | \u001b[1mINFO    \u001b[0m | \u001b[36msrc.beam.experiment\u001b[0m:\u001b[36mlog_data\u001b[0m:\u001b[36m443\u001b[0m - \u001b[1mvalidation:\u001b[0m\n",
      "\u001b[32m2022-06-26 16:32:27.474\u001b[0m | \u001b[1mINFO    \u001b[0m | \u001b[36msrc.beam.experiment\u001b[0m:\u001b[36mlog_data\u001b[0m:\u001b[36m447\u001b[0m - \u001b[1mloss 600.171 \t|\u001b[0m\n",
      "\u001b[32m2022-06-26 16:32:27.474\u001b[0m | \u001b[1mINFO    \u001b[0m | \u001b[36msrc.beam.experiment\u001b[0m:\u001b[36mlog_data\u001b[0m:\u001b[36m447\u001b[0m - \u001b[1macc 0.940116 \t|\u001b[0m\n"
     ]
    },
    {
     "data": {
      "application/vnd.jupyter.widget-view+json": {
       "model_id": "1f79b76928d842eeadc67ab8d11fef6d",
       "version_major": 2,
       "version_minor": 0
      },
      "text/plain": [
       "train:   0%|          | 0/339 [00:00<?, ?it/s]"
      ]
     },
     "metadata": {},
     "output_type": "display_data"
    },
    {
     "data": {
      "application/vnd.jupyter.widget-view+json": {
       "model_id": "f8daa4d2706b4585812f5c93bd8523ce",
       "version_major": 2,
       "version_minor": 0
      },
      "text/plain": [
       "validation:   0%|          | 0/112 [00:00<?, ?it/s]"
      ]
     },
     "metadata": {},
     "output_type": "display_data"
    },
    {
     "name": "stdout",
     "output_type": "stream",
     "text": [
      "\u001b[32m2022-06-26 16:34:13.470\u001b[0m | \u001b[1mINFO    \u001b[0m | \u001b[36msrc.beam.model\u001b[0m:\u001b[36mstep\u001b[0m:\u001b[36m590\u001b[0m - \u001b[1mbr was changed to 0.9651401808988095\u001b[0m\n",
      "\u001b[32m2022-06-26 16:34:13.472\u001b[0m | \u001b[1mINFO    \u001b[0m | \u001b[36msrc.beam.model\u001b[0m:\u001b[36mstep\u001b[0m:\u001b[36m591\u001b[0m - \u001b[1mlambda_llr was changed to 0.02648072040969572\u001b[0m\n",
      "\n",
      "\u001b[32m2022-06-26 16:34:13.473\u001b[0m | \u001b[1mINFO    \u001b[0m | \u001b[36msrc.beam.experiment\u001b[0m:\u001b[36msave_model_results\u001b[0m:\u001b[36m397\u001b[0m - \u001b[1mFinished epoch 38/100:\u001b[0m\n",
      "\u001b[32m2022-06-26 16:34:13.476\u001b[0m | \u001b[1mINFO    \u001b[0m | \u001b[36msrc.beam.experiment\u001b[0m:\u001b[36mlog_data\u001b[0m:\u001b[36m443\u001b[0m - \u001b[1mtrain:\u001b[0m\n",
      "\u001b[32m2022-06-26 16:34:13.477\u001b[0m | \u001b[1mINFO    \u001b[0m | \u001b[36msrc.beam.experiment\u001b[0m:\u001b[36mlog_data\u001b[0m:\u001b[36m447\u001b[0m - \u001b[1mloss 577.867 \t|\u001b[0m\n",
      "\u001b[32m2022-06-26 16:34:13.478\u001b[0m | \u001b[1mINFO    \u001b[0m | \u001b[36msrc.beam.experiment\u001b[0m:\u001b[36mlog_data\u001b[0m:\u001b[36m447\u001b[0m - \u001b[1macc 0.949829 \t|\u001b[0m\n",
      "\u001b[32m2022-06-26 16:34:13.479\u001b[0m | \u001b[1mINFO    \u001b[0m | \u001b[36msrc.beam.experiment\u001b[0m:\u001b[36mlog_data\u001b[0m:\u001b[36m447\u001b[0m - \u001b[1mlr 0.000316228 \t|\u001b[0m\n",
      "\u001b[32m2022-06-26 16:34:13.480\u001b[0m | \u001b[1mINFO    \u001b[0m | \u001b[36msrc.beam.experiment\u001b[0m:\u001b[36mlog_data\u001b[0m:\u001b[36m443\u001b[0m - \u001b[1mvalidation:\u001b[0m\n",
      "\u001b[32m2022-06-26 16:34:13.481\u001b[0m | \u001b[1mINFO    \u001b[0m | \u001b[36msrc.beam.experiment\u001b[0m:\u001b[36mlog_data\u001b[0m:\u001b[36m447\u001b[0m - \u001b[1mloss 601.653 \t|\u001b[0m\n",
      "\u001b[32m2022-06-26 16:34:13.482\u001b[0m | \u001b[1mINFO    \u001b[0m | \u001b[36msrc.beam.experiment\u001b[0m:\u001b[36mlog_data\u001b[0m:\u001b[36m447\u001b[0m - \u001b[1macc 0.938782 \t|\u001b[0m\n"
     ]
    },
    {
     "data": {
      "application/vnd.jupyter.widget-view+json": {
       "model_id": "41e3a055b5da4d93a853ae18de3acbad",
       "version_major": 2,
       "version_minor": 0
      },
      "text/plain": [
       "train:   0%|          | 0/339 [00:00<?, ?it/s]"
      ]
     },
     "metadata": {},
     "output_type": "display_data"
    },
    {
     "data": {
      "application/vnd.jupyter.widget-view+json": {
       "model_id": "c199dfc3949a428ab416db3d03ca2e11",
       "version_major": 2,
       "version_minor": 0
      },
      "text/plain": [
       "validation:   0%|          | 0/112 [00:00<?, ?it/s]"
      ]
     },
     "metadata": {},
     "output_type": "display_data"
    },
    {
     "name": "stdout",
     "output_type": "stream",
     "text": [
      "\u001b[32m2022-06-26 16:35:59.011\u001b[0m | \u001b[1mINFO    \u001b[0m | \u001b[36msrc.beam.model\u001b[0m:\u001b[36mstep\u001b[0m:\u001b[36m590\u001b[0m - \u001b[1mbr was changed to 0.9628510957979842\u001b[0m\n",
      "\u001b[32m2022-06-26 16:35:59.013\u001b[0m | \u001b[1mINFO    \u001b[0m | \u001b[36msrc.beam.model\u001b[0m:\u001b[36mstep\u001b[0m:\u001b[36m591\u001b[0m - \u001b[1mlambda_llr was changed to 0.02747985695211504\u001b[0m\n",
      "\n",
      "\u001b[32m2022-06-26 16:35:59.015\u001b[0m | \u001b[1mINFO    \u001b[0m | \u001b[36msrc.beam.experiment\u001b[0m:\u001b[36msave_model_results\u001b[0m:\u001b[36m397\u001b[0m - \u001b[1mFinished epoch 39/100:\u001b[0m\n",
      "\u001b[32m2022-06-26 16:35:59.018\u001b[0m | \u001b[1mINFO    \u001b[0m | \u001b[36msrc.beam.experiment\u001b[0m:\u001b[36mlog_data\u001b[0m:\u001b[36m443\u001b[0m - \u001b[1mtrain:\u001b[0m\n",
      "\u001b[32m2022-06-26 16:35:59.019\u001b[0m | \u001b[1mINFO    \u001b[0m | \u001b[36msrc.beam.experiment\u001b[0m:\u001b[36mlog_data\u001b[0m:\u001b[36m447\u001b[0m - \u001b[1mloss 578.58 \t|\u001b[0m\n",
      "\u001b[32m2022-06-26 16:35:59.020\u001b[0m | \u001b[1mINFO    \u001b[0m | \u001b[36msrc.beam.experiment\u001b[0m:\u001b[36mlog_data\u001b[0m:\u001b[36m447\u001b[0m - \u001b[1macc 0.949818 \t|\u001b[0m\n",
      "\u001b[32m2022-06-26 16:35:59.020\u001b[0m | \u001b[1mINFO    \u001b[0m | \u001b[36msrc.beam.experiment\u001b[0m:\u001b[36mlog_data\u001b[0m:\u001b[36m447\u001b[0m - \u001b[1mlr 0.000316228 \t|\u001b[0m\n",
      "\u001b[32m2022-06-26 16:35:59.021\u001b[0m | \u001b[1mINFO    \u001b[0m | \u001b[36msrc.beam.experiment\u001b[0m:\u001b[36mlog_data\u001b[0m:\u001b[36m443\u001b[0m - \u001b[1mvalidation:\u001b[0m\n",
      "\u001b[32m2022-06-26 16:35:59.022\u001b[0m | \u001b[1mINFO    \u001b[0m | \u001b[36msrc.beam.experiment\u001b[0m:\u001b[36mlog_data\u001b[0m:\u001b[36m447\u001b[0m - \u001b[1mloss 601.895 \t|\u001b[0m\n",
      "\u001b[32m2022-06-26 16:35:59.023\u001b[0m | \u001b[1mINFO    \u001b[0m | \u001b[36msrc.beam.experiment\u001b[0m:\u001b[36mlog_data\u001b[0m:\u001b[36m447\u001b[0m - \u001b[1macc 0.938982 \t|\u001b[0m\n"
     ]
    },
    {
     "data": {
      "application/vnd.jupyter.widget-view+json": {
       "model_id": "7b37c735a09f43fcb7a02f5d7b9a9b8c",
       "version_major": 2,
       "version_minor": 0
      },
      "text/plain": [
       "train:   0%|          | 0/339 [00:00<?, ?it/s]"
      ]
     },
     "metadata": {},
     "output_type": "display_data"
    },
    {
     "data": {
      "application/vnd.jupyter.widget-view+json": {
       "model_id": "a714597f5542457abae95f270b11dccd",
       "version_major": 2,
       "version_minor": 0
      },
      "text/plain": [
       "validation:   0%|          | 0/112 [00:00<?, ?it/s]"
      ]
     },
     "metadata": {},
     "output_type": "display_data"
    },
    {
     "name": "stdout",
     "output_type": "stream",
     "text": [
      "\u001b[32m2022-06-26 16:37:44.431\u001b[0m | \u001b[1mINFO    \u001b[0m | \u001b[36msrc.beam.model\u001b[0m:\u001b[36mstep\u001b[0m:\u001b[36m590\u001b[0m - \u001b[1mbr was changed to 0.9605099333302067\u001b[0m\n",
      "\u001b[32m2022-06-26 16:37:44.433\u001b[0m | \u001b[1mINFO    \u001b[0m | \u001b[36msrc.beam.model\u001b[0m:\u001b[36mstep\u001b[0m:\u001b[36m591\u001b[0m - \u001b[1mlambda_llr was changed to 0.028479142332859832\u001b[0m\n",
      "\n",
      "\u001b[32m2022-06-26 16:37:44.434\u001b[0m | \u001b[1mINFO    \u001b[0m | \u001b[36msrc.beam.experiment\u001b[0m:\u001b[36msave_model_results\u001b[0m:\u001b[36m397\u001b[0m - \u001b[1mFinished epoch 40/100:\u001b[0m\n",
      "\u001b[32m2022-06-26 16:37:44.438\u001b[0m | \u001b[1mINFO    \u001b[0m | \u001b[36msrc.beam.experiment\u001b[0m:\u001b[36mlog_data\u001b[0m:\u001b[36m443\u001b[0m - \u001b[1mtrain:\u001b[0m\n",
      "\u001b[32m2022-06-26 16:37:44.439\u001b[0m | \u001b[1mINFO    \u001b[0m | \u001b[36msrc.beam.experiment\u001b[0m:\u001b[36mlog_data\u001b[0m:\u001b[36m447\u001b[0m - \u001b[1mloss 580.516 \t|\u001b[0m\n",
      "\u001b[32m2022-06-26 16:37:44.439\u001b[0m | \u001b[1mINFO    \u001b[0m | \u001b[36msrc.beam.experiment\u001b[0m:\u001b[36mlog_data\u001b[0m:\u001b[36m447\u001b[0m - \u001b[1macc 0.948504 \t|\u001b[0m\n",
      "\u001b[32m2022-06-26 16:37:44.440\u001b[0m | \u001b[1mINFO    \u001b[0m | \u001b[36msrc.beam.experiment\u001b[0m:\u001b[36mlog_data\u001b[0m:\u001b[36m447\u001b[0m - \u001b[1mlr 0.000316228 \t|\u001b[0m\n",
      "\u001b[32m2022-06-26 16:37:44.441\u001b[0m | \u001b[1mINFO    \u001b[0m | \u001b[36msrc.beam.experiment\u001b[0m:\u001b[36mlog_data\u001b[0m:\u001b[36m443\u001b[0m - \u001b[1mvalidation:\u001b[0m\n",
      "\u001b[32m2022-06-26 16:37:44.441\u001b[0m | \u001b[1mINFO    \u001b[0m | \u001b[36msrc.beam.experiment\u001b[0m:\u001b[36mlog_data\u001b[0m:\u001b[36m447\u001b[0m - \u001b[1mloss 604.505 \t|\u001b[0m\n",
      "\u001b[32m2022-06-26 16:37:44.442\u001b[0m | \u001b[1mINFO    \u001b[0m | \u001b[36msrc.beam.experiment\u001b[0m:\u001b[36mlog_data\u001b[0m:\u001b[36m447\u001b[0m - \u001b[1macc 0.937613 \t|\u001b[0m\n"
     ]
    },
    {
     "data": {
      "application/vnd.jupyter.widget-view+json": {
       "model_id": "0cf43c430259416280fc412d74c7bce9",
       "version_major": 2,
       "version_minor": 0
      },
      "text/plain": [
       "train:   0%|          | 0/339 [00:00<?, ?it/s]"
      ]
     },
     "metadata": {},
     "output_type": "display_data"
    },
    {
     "data": {
      "application/vnd.jupyter.widget-view+json": {
       "model_id": "a5e6b903c3fd46019158966cacc473ec",
       "version_major": 2,
       "version_minor": 0
      },
      "text/plain": [
       "validation:   0%|          | 0/112 [00:00<?, ?it/s]"
      ]
     },
     "metadata": {},
     "output_type": "display_data"
    },
    {
     "name": "stdout",
     "output_type": "stream",
     "text": [
      "\u001b[32m2022-06-26 16:39:30.112\u001b[0m | \u001b[1mINFO    \u001b[0m | \u001b[36msrc.beam.model\u001b[0m:\u001b[36mstep\u001b[0m:\u001b[36m590\u001b[0m - \u001b[1mbr was changed to 0.9580025885823585\u001b[0m\n",
      "\u001b[32m2022-06-26 16:39:30.113\u001b[0m | \u001b[1mINFO    \u001b[0m | \u001b[36msrc.beam.model\u001b[0m:\u001b[36mstep\u001b[0m:\u001b[36m591\u001b[0m - \u001b[1mlambda_llr was changed to 0.0294788094925035\u001b[0m\n",
      "\n",
      "\u001b[32m2022-06-26 16:39:30.114\u001b[0m | \u001b[1mINFO    \u001b[0m | \u001b[36msrc.beam.experiment\u001b[0m:\u001b[36msave_model_results\u001b[0m:\u001b[36m397\u001b[0m - \u001b[1mFinished epoch 41/100:\u001b[0m\n",
      "\u001b[32m2022-06-26 16:39:30.120\u001b[0m | \u001b[1mINFO    \u001b[0m | \u001b[36msrc.beam.experiment\u001b[0m:\u001b[36mlog_data\u001b[0m:\u001b[36m443\u001b[0m - \u001b[1mtrain:\u001b[0m\n",
      "\u001b[32m2022-06-26 16:39:30.121\u001b[0m | \u001b[1mINFO    \u001b[0m | \u001b[36msrc.beam.experiment\u001b[0m:\u001b[36mlog_data\u001b[0m:\u001b[36m447\u001b[0m - \u001b[1mloss 583.009 \t|\u001b[0m\n",
      "\u001b[32m2022-06-26 16:39:30.122\u001b[0m | \u001b[1mINFO    \u001b[0m | \u001b[36msrc.beam.experiment\u001b[0m:\u001b[36mlog_data\u001b[0m:\u001b[36m447\u001b[0m - \u001b[1macc 0.947075 \t|\u001b[0m\n",
      "\u001b[32m2022-06-26 16:39:30.122\u001b[0m | \u001b[1mINFO    \u001b[0m | \u001b[36msrc.beam.experiment\u001b[0m:\u001b[36mlog_data\u001b[0m:\u001b[36m447\u001b[0m - \u001b[1mlr 0.000316228 \t|\u001b[0m\n",
      "\u001b[32m2022-06-26 16:39:30.123\u001b[0m | \u001b[1mINFO    \u001b[0m | \u001b[36msrc.beam.experiment\u001b[0m:\u001b[36mlog_data\u001b[0m:\u001b[36m443\u001b[0m - \u001b[1mvalidation:\u001b[0m\n",
      "\u001b[32m2022-06-26 16:39:30.124\u001b[0m | \u001b[1mINFO    \u001b[0m | \u001b[36msrc.beam.experiment\u001b[0m:\u001b[36mlog_data\u001b[0m:\u001b[36m447\u001b[0m - \u001b[1mloss 609.526 \t|\u001b[0m\n",
      "\u001b[32m2022-06-26 16:39:30.124\u001b[0m | \u001b[1mINFO    \u001b[0m | \u001b[36msrc.beam.experiment\u001b[0m:\u001b[36mlog_data\u001b[0m:\u001b[36m447\u001b[0m - \u001b[1macc 0.934806 \t|\u001b[0m\n"
     ]
    },
    {
     "data": {
      "application/vnd.jupyter.widget-view+json": {
       "model_id": "a111abb7246043d3b53cb42dbd7fe2c1",
       "version_major": 2,
       "version_minor": 0
      },
      "text/plain": [
       "train:   0%|          | 0/339 [00:00<?, ?it/s]"
      ]
     },
     "metadata": {},
     "output_type": "display_data"
    },
    {
     "data": {
      "application/vnd.jupyter.widget-view+json": {
       "model_id": "3099dde449014e5eacf7bd8a06b8e281",
       "version_major": 2,
       "version_minor": 0
      },
      "text/plain": [
       "validation:   0%|          | 0/112 [00:00<?, ?it/s]"
      ]
     },
     "metadata": {},
     "output_type": "display_data"
    },
    {
     "name": "stdout",
     "output_type": "stream",
     "text": [
      "\u001b[32m2022-06-26 16:41:15.361\u001b[0m | \u001b[1mINFO    \u001b[0m | \u001b[36msrc.beam.model\u001b[0m:\u001b[36mstep\u001b[0m:\u001b[36m590\u001b[0m - \u001b[1mbr was changed to 0.9556714968266995\u001b[0m\n",
      "\u001b[32m2022-06-26 16:41:15.363\u001b[0m | \u001b[1mINFO    \u001b[0m | \u001b[36msrc.beam.model\u001b[0m:\u001b[36mstep\u001b[0m:\u001b[36m591\u001b[0m - \u001b[1mlambda_llr was changed to 0.03047804499505079\u001b[0m\n",
      "\n",
      "\u001b[32m2022-06-26 16:41:15.364\u001b[0m | \u001b[1mINFO    \u001b[0m | \u001b[36msrc.beam.experiment\u001b[0m:\u001b[36msave_model_results\u001b[0m:\u001b[36m397\u001b[0m - \u001b[1mFinished epoch 42/100:\u001b[0m\n",
      "\u001b[32m2022-06-26 16:41:15.367\u001b[0m | \u001b[1mINFO    \u001b[0m | \u001b[36msrc.beam.experiment\u001b[0m:\u001b[36mlog_data\u001b[0m:\u001b[36m443\u001b[0m - \u001b[1mtrain:\u001b[0m\n",
      "\u001b[32m2022-06-26 16:41:15.368\u001b[0m | \u001b[1mINFO    \u001b[0m | \u001b[36msrc.beam.experiment\u001b[0m:\u001b[36mlog_data\u001b[0m:\u001b[36m447\u001b[0m - \u001b[1mloss 584.967 \t|\u001b[0m\n",
      "\u001b[32m2022-06-26 16:41:15.369\u001b[0m | \u001b[1mINFO    \u001b[0m | \u001b[36msrc.beam.experiment\u001b[0m:\u001b[36mlog_data\u001b[0m:\u001b[36m447\u001b[0m - \u001b[1macc 0.946603 \t|\u001b[0m\n",
      "\u001b[32m2022-06-26 16:41:15.370\u001b[0m | \u001b[1mINFO    \u001b[0m | \u001b[36msrc.beam.experiment\u001b[0m:\u001b[36mlog_data\u001b[0m:\u001b[36m447\u001b[0m - \u001b[1mlr 0.000316228 \t|\u001b[0m\n",
      "\u001b[32m2022-06-26 16:41:15.371\u001b[0m | \u001b[1mINFO    \u001b[0m | \u001b[36msrc.beam.experiment\u001b[0m:\u001b[36mlog_data\u001b[0m:\u001b[36m443\u001b[0m - \u001b[1mvalidation:\u001b[0m\n",
      "\u001b[32m2022-06-26 16:41:15.372\u001b[0m | \u001b[1mINFO    \u001b[0m | \u001b[36msrc.beam.experiment\u001b[0m:\u001b[36mlog_data\u001b[0m:\u001b[36m447\u001b[0m - \u001b[1mloss 608.925 \t|\u001b[0m\n",
      "\u001b[32m2022-06-26 16:41:15.373\u001b[0m | \u001b[1mINFO    \u001b[0m | \u001b[36msrc.beam.experiment\u001b[0m:\u001b[36mlog_data\u001b[0m:\u001b[36m447\u001b[0m - \u001b[1macc 0.935791 \t|\u001b[0m\n"
     ]
    },
    {
     "data": {
      "application/vnd.jupyter.widget-view+json": {
       "model_id": "19af0f694a004bef9b7d67c70c907431",
       "version_major": 2,
       "version_minor": 0
      },
      "text/plain": [
       "train:   0%|          | 0/339 [00:00<?, ?it/s]"
      ]
     },
     "metadata": {},
     "output_type": "display_data"
    },
    {
     "data": {
      "application/vnd.jupyter.widget-view+json": {
       "model_id": "a98300ee24f14b3bbd128cb1e51176f4",
       "version_major": 2,
       "version_minor": 0
      },
      "text/plain": [
       "validation:   0%|          | 0/112 [00:00<?, ?it/s]"
      ]
     },
     "metadata": {},
     "output_type": "display_data"
    },
    {
     "name": "stdout",
     "output_type": "stream",
     "text": [
      "\u001b[32m2022-06-26 16:43:00.924\u001b[0m | \u001b[1mINFO    \u001b[0m | \u001b[36msrc.beam.model\u001b[0m:\u001b[36mstep\u001b[0m:\u001b[36m590\u001b[0m - \u001b[1mbr was changed to 0.9532441244692279\u001b[0m\n",
      "\u001b[32m2022-06-26 16:43:00.926\u001b[0m | \u001b[1mINFO    \u001b[0m | \u001b[36msrc.beam.model\u001b[0m:\u001b[36mstep\u001b[0m:\u001b[36m591\u001b[0m - \u001b[1mlambda_llr was changed to 0.031477493249977256\u001b[0m\n",
      "\n",
      "\u001b[32m2022-06-26 16:43:00.927\u001b[0m | \u001b[1mINFO    \u001b[0m | \u001b[36msrc.beam.experiment\u001b[0m:\u001b[36msave_model_results\u001b[0m:\u001b[36m397\u001b[0m - \u001b[1mFinished epoch 43/100:\u001b[0m\n",
      "\u001b[32m2022-06-26 16:43:00.930\u001b[0m | \u001b[1mINFO    \u001b[0m | \u001b[36msrc.beam.experiment\u001b[0m:\u001b[36mlog_data\u001b[0m:\u001b[36m443\u001b[0m - \u001b[1mtrain:\u001b[0m\n",
      "\u001b[32m2022-06-26 16:43:00.931\u001b[0m | \u001b[1mINFO    \u001b[0m | \u001b[36msrc.beam.experiment\u001b[0m:\u001b[36mlog_data\u001b[0m:\u001b[36m447\u001b[0m - \u001b[1mloss 585.731 \t|\u001b[0m\n",
      "\u001b[32m2022-06-26 16:43:00.932\u001b[0m | \u001b[1mINFO    \u001b[0m | \u001b[36msrc.beam.experiment\u001b[0m:\u001b[36mlog_data\u001b[0m:\u001b[36m447\u001b[0m - \u001b[1macc 0.946275 \t|\u001b[0m\n",
      "\u001b[32m2022-06-26 16:43:00.933\u001b[0m | \u001b[1mINFO    \u001b[0m | \u001b[36msrc.beam.experiment\u001b[0m:\u001b[36mlog_data\u001b[0m:\u001b[36m447\u001b[0m - \u001b[1mlr 0.000316228 \t|\u001b[0m\n",
      "\u001b[32m2022-06-26 16:43:00.933\u001b[0m | \u001b[1mINFO    \u001b[0m | \u001b[36msrc.beam.experiment\u001b[0m:\u001b[36mlog_data\u001b[0m:\u001b[36m443\u001b[0m - \u001b[1mvalidation:\u001b[0m\n",
      "\u001b[32m2022-06-26 16:43:00.934\u001b[0m | \u001b[1mINFO    \u001b[0m | \u001b[36msrc.beam.experiment\u001b[0m:\u001b[36mlog_data\u001b[0m:\u001b[36m447\u001b[0m - \u001b[1mloss 610.758 \t|\u001b[0m\n",
      "\u001b[32m2022-06-26 16:43:00.935\u001b[0m | \u001b[1mINFO    \u001b[0m | \u001b[36msrc.beam.experiment\u001b[0m:\u001b[36mlog_data\u001b[0m:\u001b[36m447\u001b[0m - \u001b[1macc 0.93389 \t|\u001b[0m\n"
     ]
    },
    {
     "data": {
      "application/vnd.jupyter.widget-view+json": {
       "model_id": "9f6e36fbae2f4bf1bdae4acdd8e3efc3",
       "version_major": 2,
       "version_minor": 0
      },
      "text/plain": [
       "train:   0%|          | 0/339 [00:00<?, ?it/s]"
      ]
     },
     "metadata": {},
     "output_type": "display_data"
    },
    {
     "data": {
      "application/vnd.jupyter.widget-view+json": {
       "model_id": "375f4baf08874d9c9c890a58b80655e7",
       "version_major": 2,
       "version_minor": 0
      },
      "text/plain": [
       "validation:   0%|          | 0/112 [00:00<?, ?it/s]"
      ]
     },
     "metadata": {},
     "output_type": "display_data"
    },
    {
     "name": "stdout",
     "output_type": "stream",
     "text": [
      "\u001b[32m2022-06-26 16:44:46.485\u001b[0m | \u001b[1mINFO    \u001b[0m | \u001b[36msrc.beam.model\u001b[0m:\u001b[36mstep\u001b[0m:\u001b[36m590\u001b[0m - \u001b[1mbr was changed to 0.9511237305969172\u001b[0m\n",
      "\u001b[32m2022-06-26 16:44:46.486\u001b[0m | \u001b[1mINFO    \u001b[0m | \u001b[36msrc.beam.model\u001b[0m:\u001b[36mstep\u001b[0m:\u001b[36m591\u001b[0m - \u001b[1mlambda_llr was changed to 0.032475253607184\u001b[0m\n",
      "\n",
      "\u001b[32m2022-06-26 16:44:46.488\u001b[0m | \u001b[1mINFO    \u001b[0m | \u001b[36msrc.beam.experiment\u001b[0m:\u001b[36msave_model_results\u001b[0m:\u001b[36m397\u001b[0m - \u001b[1mFinished epoch 44/100:\u001b[0m\n",
      "\u001b[32m2022-06-26 16:44:46.491\u001b[0m | \u001b[1mINFO    \u001b[0m | \u001b[36msrc.beam.experiment\u001b[0m:\u001b[36mlog_data\u001b[0m:\u001b[36m443\u001b[0m - \u001b[1mtrain:\u001b[0m\n",
      "\u001b[32m2022-06-26 16:44:46.491\u001b[0m | \u001b[1mINFO    \u001b[0m | \u001b[36msrc.beam.experiment\u001b[0m:\u001b[36mlog_data\u001b[0m:\u001b[36m447\u001b[0m - \u001b[1mloss 588.323 \t|\u001b[0m\n",
      "\u001b[32m2022-06-26 16:44:46.492\u001b[0m | \u001b[1mINFO    \u001b[0m | \u001b[36msrc.beam.experiment\u001b[0m:\u001b[36mlog_data\u001b[0m:\u001b[36m447\u001b[0m - \u001b[1macc 0.944543 \t|\u001b[0m\n",
      "\u001b[32m2022-06-26 16:44:46.493\u001b[0m | \u001b[1mINFO    \u001b[0m | \u001b[36msrc.beam.experiment\u001b[0m:\u001b[36mlog_data\u001b[0m:\u001b[36m447\u001b[0m - \u001b[1mlr 0.000316228 \t|\u001b[0m\n",
      "\u001b[32m2022-06-26 16:44:46.494\u001b[0m | \u001b[1mINFO    \u001b[0m | \u001b[36msrc.beam.experiment\u001b[0m:\u001b[36mlog_data\u001b[0m:\u001b[36m443\u001b[0m - \u001b[1mvalidation:\u001b[0m\n",
      "\u001b[32m2022-06-26 16:44:46.495\u001b[0m | \u001b[1mINFO    \u001b[0m | \u001b[36msrc.beam.experiment\u001b[0m:\u001b[36mlog_data\u001b[0m:\u001b[36m447\u001b[0m - \u001b[1mloss 609.009 \t|\u001b[0m\n",
      "\u001b[32m2022-06-26 16:44:46.495\u001b[0m | \u001b[1mINFO    \u001b[0m | \u001b[36msrc.beam.experiment\u001b[0m:\u001b[36mlog_data\u001b[0m:\u001b[36m447\u001b[0m - \u001b[1macc 0.934483 \t|\u001b[0m\n"
     ]
    },
    {
     "data": {
      "application/vnd.jupyter.widget-view+json": {
       "model_id": "731f9b45bc7e4e24a5cab74205ded9b4",
       "version_major": 2,
       "version_minor": 0
      },
      "text/plain": [
       "train:   0%|          | 0/339 [00:00<?, ?it/s]"
      ]
     },
     "metadata": {},
     "output_type": "display_data"
    },
    {
     "data": {
      "application/vnd.jupyter.widget-view+json": {
       "model_id": "b0aaef0f9b5848dc8f303028ae2c4e0e",
       "version_major": 2,
       "version_minor": 0
      },
      "text/plain": [
       "validation:   0%|          | 0/112 [00:00<?, ?it/s]"
      ]
     },
     "metadata": {},
     "output_type": "display_data"
    },
    {
     "name": "stdout",
     "output_type": "stream",
     "text": [
      "\u001b[32m2022-06-26 16:46:32.344\u001b[0m | \u001b[1mINFO    \u001b[0m | \u001b[36msrc.beam.model\u001b[0m:\u001b[36mstep\u001b[0m:\u001b[36m590\u001b[0m - \u001b[1mbr was changed to 0.9488094015658993\u001b[0m\n",
      "\u001b[32m2022-06-26 16:46:32.346\u001b[0m | \u001b[1mINFO    \u001b[0m | \u001b[36msrc.beam.model\u001b[0m:\u001b[36mstep\u001b[0m:\u001b[36m591\u001b[0m - \u001b[1mlambda_llr was changed to 0.03347414931879042\u001b[0m\n",
      "\n",
      "\u001b[32m2022-06-26 16:46:32.347\u001b[0m | \u001b[1mINFO    \u001b[0m | \u001b[36msrc.beam.experiment\u001b[0m:\u001b[36msave_model_results\u001b[0m:\u001b[36m397\u001b[0m - \u001b[1mFinished epoch 45/100:\u001b[0m\n",
      "\u001b[32m2022-06-26 16:46:32.350\u001b[0m | \u001b[1mINFO    \u001b[0m | \u001b[36msrc.beam.experiment\u001b[0m:\u001b[36mlog_data\u001b[0m:\u001b[36m443\u001b[0m - \u001b[1mtrain:\u001b[0m\n",
      "\u001b[32m2022-06-26 16:46:32.351\u001b[0m | \u001b[1mINFO    \u001b[0m | \u001b[36msrc.beam.experiment\u001b[0m:\u001b[36mlog_data\u001b[0m:\u001b[36m447\u001b[0m - \u001b[1mloss 589.759 \t|\u001b[0m\n",
      "\u001b[32m2022-06-26 16:46:32.351\u001b[0m | \u001b[1mINFO    \u001b[0m | \u001b[36msrc.beam.experiment\u001b[0m:\u001b[36mlog_data\u001b[0m:\u001b[36m447\u001b[0m - \u001b[1macc 0.943743 \t|\u001b[0m\n",
      "\u001b[32m2022-06-26 16:46:32.352\u001b[0m | \u001b[1mINFO    \u001b[0m | \u001b[36msrc.beam.experiment\u001b[0m:\u001b[36mlog_data\u001b[0m:\u001b[36m447\u001b[0m - \u001b[1mlr 0.000316228 \t|\u001b[0m\n",
      "\u001b[32m2022-06-26 16:46:32.353\u001b[0m | \u001b[1mINFO    \u001b[0m | \u001b[36msrc.beam.experiment\u001b[0m:\u001b[36mlog_data\u001b[0m:\u001b[36m443\u001b[0m - \u001b[1mvalidation:\u001b[0m\n",
      "\u001b[32m2022-06-26 16:46:32.353\u001b[0m | \u001b[1mINFO    \u001b[0m | \u001b[36msrc.beam.experiment\u001b[0m:\u001b[36mlog_data\u001b[0m:\u001b[36m447\u001b[0m - \u001b[1mloss 612.741 \t|\u001b[0m\n",
      "\u001b[32m2022-06-26 16:46:32.354\u001b[0m | \u001b[1mINFO    \u001b[0m | \u001b[36msrc.beam.experiment\u001b[0m:\u001b[36mlog_data\u001b[0m:\u001b[36m447\u001b[0m - \u001b[1macc 0.933219 \t|\u001b[0m\n"
     ]
    },
    {
     "data": {
      "application/vnd.jupyter.widget-view+json": {
       "model_id": "20c1ee68cb284440970702ffbe3314d2",
       "version_major": 2,
       "version_minor": 0
      },
      "text/plain": [
       "train:   0%|          | 0/339 [00:00<?, ?it/s]"
      ]
     },
     "metadata": {},
     "output_type": "display_data"
    },
    {
     "data": {
      "application/vnd.jupyter.widget-view+json": {
       "model_id": "df157be5d05f47a386365c2c6bc4cf2b",
       "version_major": 2,
       "version_minor": 0
      },
      "text/plain": [
       "validation:   0%|          | 0/112 [00:00<?, ?it/s]"
      ]
     },
     "metadata": {},
     "output_type": "display_data"
    },
    {
     "name": "stdout",
     "output_type": "stream",
     "text": [
      "\u001b[32m2022-06-26 16:48:17.999\u001b[0m | \u001b[1mINFO    \u001b[0m | \u001b[36msrc.beam.model\u001b[0m:\u001b[36mstep\u001b[0m:\u001b[36m590\u001b[0m - \u001b[1mbr was changed to 0.9464873525590057\u001b[0m\n",
      "\u001b[32m2022-06-26 16:48:18.000\u001b[0m | \u001b[1mINFO    \u001b[0m | \u001b[36msrc.beam.model\u001b[0m:\u001b[36mstep\u001b[0m:\u001b[36m591\u001b[0m - \u001b[1mlambda_llr was changed to 0.03447310483170669\u001b[0m\n",
      "\n",
      "\u001b[32m2022-06-26 16:48:18.000\u001b[0m | \u001b[1mINFO    \u001b[0m | \u001b[36msrc.beam.experiment\u001b[0m:\u001b[36msave_model_results\u001b[0m:\u001b[36m397\u001b[0m - \u001b[1mFinished epoch 46/100:\u001b[0m\n",
      "\u001b[32m2022-06-26 16:48:18.004\u001b[0m | \u001b[1mINFO    \u001b[0m | \u001b[36msrc.beam.experiment\u001b[0m:\u001b[36mlog_data\u001b[0m:\u001b[36m443\u001b[0m - \u001b[1mtrain:\u001b[0m\n",
      "\u001b[32m2022-06-26 16:48:18.004\u001b[0m | \u001b[1mINFO    \u001b[0m | \u001b[36msrc.beam.experiment\u001b[0m:\u001b[36mlog_data\u001b[0m:\u001b[36m447\u001b[0m - \u001b[1mloss 591.799 \t|\u001b[0m\n",
      "\u001b[32m2022-06-26 16:48:18.005\u001b[0m | \u001b[1mINFO    \u001b[0m | \u001b[36msrc.beam.experiment\u001b[0m:\u001b[36mlog_data\u001b[0m:\u001b[36m447\u001b[0m - \u001b[1macc 0.942697 \t|\u001b[0m\n",
      "\u001b[32m2022-06-26 16:48:18.005\u001b[0m | \u001b[1mINFO    \u001b[0m | \u001b[36msrc.beam.experiment\u001b[0m:\u001b[36mlog_data\u001b[0m:\u001b[36m447\u001b[0m - \u001b[1mlr 0.000316228 \t|\u001b[0m\n",
      "\u001b[32m2022-06-26 16:48:18.006\u001b[0m | \u001b[1mINFO    \u001b[0m | \u001b[36msrc.beam.experiment\u001b[0m:\u001b[36mlog_data\u001b[0m:\u001b[36m443\u001b[0m - \u001b[1mvalidation:\u001b[0m\n",
      "\u001b[32m2022-06-26 16:48:18.007\u001b[0m | \u001b[1mINFO    \u001b[0m | \u001b[36msrc.beam.experiment\u001b[0m:\u001b[36mlog_data\u001b[0m:\u001b[36m447\u001b[0m - \u001b[1mloss 615.038 \t|\u001b[0m\n",
      "\u001b[32m2022-06-26 16:48:18.007\u001b[0m | \u001b[1mINFO    \u001b[0m | \u001b[36msrc.beam.experiment\u001b[0m:\u001b[36mlog_data\u001b[0m:\u001b[36m447\u001b[0m - \u001b[1macc 0.932582 \t|\u001b[0m\n"
     ]
    },
    {
     "data": {
      "application/vnd.jupyter.widget-view+json": {
       "model_id": "3e31d470b12e48a7ab0bb73d25dc9fbb",
       "version_major": 2,
       "version_minor": 0
      },
      "text/plain": [
       "train:   0%|          | 0/339 [00:00<?, ?it/s]"
      ]
     },
     "metadata": {},
     "output_type": "display_data"
    },
    {
     "data": {
      "application/vnd.jupyter.widget-view+json": {
       "model_id": "2e9ba96df07f4996bf30b702e7d2d06f",
       "version_major": 2,
       "version_minor": 0
      },
      "text/plain": [
       "validation:   0%|          | 0/112 [00:00<?, ?it/s]"
      ]
     },
     "metadata": {},
     "output_type": "display_data"
    },
    {
     "name": "stdout",
     "output_type": "stream",
     "text": [
      "\u001b[32m2022-06-26 16:50:03.675\u001b[0m | \u001b[1mINFO    \u001b[0m | \u001b[36msrc.beam.model\u001b[0m:\u001b[36mstep\u001b[0m:\u001b[36m590\u001b[0m - \u001b[1mbr was changed to 0.9440881199396576\u001b[0m\n",
      "\u001b[32m2022-06-26 16:50:03.676\u001b[0m | \u001b[1mINFO    \u001b[0m | \u001b[36msrc.beam.model\u001b[0m:\u001b[36mstep\u001b[0m:\u001b[36m591\u001b[0m - \u001b[1mlambda_llr was changed to 0.0354723462576699\u001b[0m\n",
      "\n",
      "\u001b[32m2022-06-26 16:50:03.677\u001b[0m | \u001b[1mINFO    \u001b[0m | \u001b[36msrc.beam.experiment\u001b[0m:\u001b[36msave_model_results\u001b[0m:\u001b[36m397\u001b[0m - \u001b[1mFinished epoch 47/100:\u001b[0m\n",
      "\u001b[32m2022-06-26 16:50:03.680\u001b[0m | \u001b[1mINFO    \u001b[0m | \u001b[36msrc.beam.experiment\u001b[0m:\u001b[36mlog_data\u001b[0m:\u001b[36m443\u001b[0m - \u001b[1mtrain:\u001b[0m\n",
      "\u001b[32m2022-06-26 16:50:03.681\u001b[0m | \u001b[1mINFO    \u001b[0m | \u001b[36msrc.beam.experiment\u001b[0m:\u001b[36mlog_data\u001b[0m:\u001b[36m447\u001b[0m - \u001b[1mloss 592.363 \t|\u001b[0m\n",
      "\u001b[32m2022-06-26 16:50:03.682\u001b[0m | \u001b[1mINFO    \u001b[0m | \u001b[36msrc.beam.experiment\u001b[0m:\u001b[36mlog_data\u001b[0m:\u001b[36m447\u001b[0m - \u001b[1macc 0.942198 \t|\u001b[0m\n",
      "\u001b[32m2022-06-26 16:50:03.683\u001b[0m | \u001b[1mINFO    \u001b[0m | \u001b[36msrc.beam.experiment\u001b[0m:\u001b[36mlog_data\u001b[0m:\u001b[36m447\u001b[0m - \u001b[1mlr 0.000316228 \t|\u001b[0m\n",
      "\u001b[32m2022-06-26 16:50:03.684\u001b[0m | \u001b[1mINFO    \u001b[0m | \u001b[36msrc.beam.experiment\u001b[0m:\u001b[36mlog_data\u001b[0m:\u001b[36m443\u001b[0m - \u001b[1mvalidation:\u001b[0m\n",
      "\u001b[32m2022-06-26 16:50:03.685\u001b[0m | \u001b[1mINFO    \u001b[0m | \u001b[36msrc.beam.experiment\u001b[0m:\u001b[36mlog_data\u001b[0m:\u001b[36m447\u001b[0m - \u001b[1mloss 616.65 \t|\u001b[0m\n",
      "\u001b[32m2022-06-26 16:50:03.685\u001b[0m | \u001b[1mINFO    \u001b[0m | \u001b[36msrc.beam.experiment\u001b[0m:\u001b[36mlog_data\u001b[0m:\u001b[36m447\u001b[0m - \u001b[1macc 0.932111 \t|\u001b[0m\n"
     ]
    },
    {
     "data": {
      "application/vnd.jupyter.widget-view+json": {
       "model_id": "70958fc9ebce46238f290cf25e5c7b56",
       "version_major": 2,
       "version_minor": 0
      },
      "text/plain": [
       "train:   0%|          | 0/339 [00:00<?, ?it/s]"
      ]
     },
     "metadata": {},
     "output_type": "display_data"
    },
    {
     "data": {
      "application/vnd.jupyter.widget-view+json": {
       "model_id": "9694c38f8a9b4459b69d611ea2c79825",
       "version_major": 2,
       "version_minor": 0
      },
      "text/plain": [
       "validation:   0%|          | 0/112 [00:00<?, ?it/s]"
      ]
     },
     "metadata": {},
     "output_type": "display_data"
    },
    {
     "name": "stdout",
     "output_type": "stream",
     "text": [
      "\u001b[32m2022-06-26 16:51:49.256\u001b[0m | \u001b[1mINFO    \u001b[0m | \u001b[36msrc.beam.model\u001b[0m:\u001b[36mstep\u001b[0m:\u001b[36m590\u001b[0m - \u001b[1mbr was changed to 0.9416607627149562\u001b[0m\n",
      "\u001b[32m2022-06-26 16:51:49.258\u001b[0m | \u001b[1mINFO    \u001b[0m | \u001b[36msrc.beam.model\u001b[0m:\u001b[36mstep\u001b[0m:\u001b[36m591\u001b[0m - \u001b[1mlambda_llr was changed to 0.03647164421668559\u001b[0m\n",
      "\n",
      "\u001b[32m2022-06-26 16:51:49.259\u001b[0m | \u001b[1mINFO    \u001b[0m | \u001b[36msrc.beam.experiment\u001b[0m:\u001b[36msave_model_results\u001b[0m:\u001b[36m397\u001b[0m - \u001b[1mFinished epoch 48/100:\u001b[0m\n",
      "\u001b[32m2022-06-26 16:51:49.262\u001b[0m | \u001b[1mINFO    \u001b[0m | \u001b[36msrc.beam.experiment\u001b[0m:\u001b[36mlog_data\u001b[0m:\u001b[36m443\u001b[0m - \u001b[1mtrain:\u001b[0m\n",
      "\u001b[32m2022-06-26 16:51:49.263\u001b[0m | \u001b[1mINFO    \u001b[0m | \u001b[36msrc.beam.experiment\u001b[0m:\u001b[36mlog_data\u001b[0m:\u001b[36m447\u001b[0m - \u001b[1mloss 594.936 \t|\u001b[0m\n",
      "\u001b[32m2022-06-26 16:51:49.264\u001b[0m | \u001b[1mINFO    \u001b[0m | \u001b[36msrc.beam.experiment\u001b[0m:\u001b[36mlog_data\u001b[0m:\u001b[36m447\u001b[0m - \u001b[1macc 0.941081 \t|\u001b[0m\n",
      "\u001b[32m2022-06-26 16:51:49.265\u001b[0m | \u001b[1mINFO    \u001b[0m | \u001b[36msrc.beam.experiment\u001b[0m:\u001b[36mlog_data\u001b[0m:\u001b[36m447\u001b[0m - \u001b[1mlr 0.000316228 \t|\u001b[0m\n",
      "\u001b[32m2022-06-26 16:51:49.266\u001b[0m | \u001b[1mINFO    \u001b[0m | \u001b[36msrc.beam.experiment\u001b[0m:\u001b[36mlog_data\u001b[0m:\u001b[36m443\u001b[0m - \u001b[1mvalidation:\u001b[0m\n",
      "\u001b[32m2022-06-26 16:51:49.267\u001b[0m | \u001b[1mINFO    \u001b[0m | \u001b[36msrc.beam.experiment\u001b[0m:\u001b[36mlog_data\u001b[0m:\u001b[36m447\u001b[0m - \u001b[1mloss 619.578 \t|\u001b[0m\n",
      "\u001b[32m2022-06-26 16:51:49.267\u001b[0m | \u001b[1mINFO    \u001b[0m | \u001b[36msrc.beam.experiment\u001b[0m:\u001b[36mlog_data\u001b[0m:\u001b[36m447\u001b[0m - \u001b[1macc 0.929801 \t|\u001b[0m\n"
     ]
    },
    {
     "data": {
      "application/vnd.jupyter.widget-view+json": {
       "model_id": "30acf55064d84859a3e91ef287f2627e",
       "version_major": 2,
       "version_minor": 0
      },
      "text/plain": [
       "train:   0%|          | 0/339 [00:00<?, ?it/s]"
      ]
     },
     "metadata": {},
     "output_type": "display_data"
    },
    {
     "data": {
      "application/vnd.jupyter.widget-view+json": {
       "model_id": "5b19e98e64d34b7baa372916fe1e175a",
       "version_major": 2,
       "version_minor": 0
      },
      "text/plain": [
       "validation:   0%|          | 0/112 [00:00<?, ?it/s]"
      ]
     },
     "metadata": {},
     "output_type": "display_data"
    },
    {
     "name": "stdout",
     "output_type": "stream",
     "text": [
      "\u001b[32m2022-06-26 16:53:35.125\u001b[0m | \u001b[1mINFO    \u001b[0m | \u001b[36msrc.beam.model\u001b[0m:\u001b[36mstep\u001b[0m:\u001b[36m590\u001b[0m - \u001b[1mbr was changed to 0.9392092198157548\u001b[0m\n",
      "\u001b[32m2022-06-26 16:53:35.126\u001b[0m | \u001b[1mINFO    \u001b[0m | \u001b[36msrc.beam.model\u001b[0m:\u001b[36mstep\u001b[0m:\u001b[36m591\u001b[0m - \u001b[1mlambda_llr was changed to 0.03747097757979828\u001b[0m\n",
      "\n",
      "\u001b[32m2022-06-26 16:53:35.128\u001b[0m | \u001b[1mINFO    \u001b[0m | \u001b[36msrc.beam.experiment\u001b[0m:\u001b[36msave_model_results\u001b[0m:\u001b[36m397\u001b[0m - \u001b[1mFinished epoch 49/100:\u001b[0m\n",
      "\u001b[32m2022-06-26 16:53:35.131\u001b[0m | \u001b[1mINFO    \u001b[0m | \u001b[36msrc.beam.experiment\u001b[0m:\u001b[36mlog_data\u001b[0m:\u001b[36m443\u001b[0m - \u001b[1mtrain:\u001b[0m\n",
      "\u001b[32m2022-06-26 16:53:35.132\u001b[0m | \u001b[1mINFO    \u001b[0m | \u001b[36msrc.beam.experiment\u001b[0m:\u001b[36mlog_data\u001b[0m:\u001b[36m447\u001b[0m - \u001b[1mloss 596.079 \t|\u001b[0m\n",
      "\u001b[32m2022-06-26 16:53:35.132\u001b[0m | \u001b[1mINFO    \u001b[0m | \u001b[36msrc.beam.experiment\u001b[0m:\u001b[36mlog_data\u001b[0m:\u001b[36m447\u001b[0m - \u001b[1macc 0.940735 \t|\u001b[0m\n",
      "\u001b[32m2022-06-26 16:53:35.133\u001b[0m | \u001b[1mINFO    \u001b[0m | \u001b[36msrc.beam.experiment\u001b[0m:\u001b[36mlog_data\u001b[0m:\u001b[36m447\u001b[0m - \u001b[1mlr 0.000316228 \t|\u001b[0m\n",
      "\u001b[32m2022-06-26 16:53:35.134\u001b[0m | \u001b[1mINFO    \u001b[0m | \u001b[36msrc.beam.experiment\u001b[0m:\u001b[36mlog_data\u001b[0m:\u001b[36m443\u001b[0m - \u001b[1mvalidation:\u001b[0m\n",
      "\u001b[32m2022-06-26 16:53:35.135\u001b[0m | \u001b[1mINFO    \u001b[0m | \u001b[36msrc.beam.experiment\u001b[0m:\u001b[36mlog_data\u001b[0m:\u001b[36m447\u001b[0m - \u001b[1mloss 620.936 \t|\u001b[0m\n",
      "\u001b[32m2022-06-26 16:53:35.135\u001b[0m | \u001b[1mINFO    \u001b[0m | \u001b[36msrc.beam.experiment\u001b[0m:\u001b[36mlog_data\u001b[0m:\u001b[36m447\u001b[0m - \u001b[1macc 0.929731 \t|\u001b[0m\n"
     ]
    },
    {
     "data": {
      "application/vnd.jupyter.widget-view+json": {
       "model_id": "14c716a0037e4a05890ec0122941b8cf",
       "version_major": 2,
       "version_minor": 0
      },
      "text/plain": [
       "train:   0%|          | 0/339 [00:00<?, ?it/s]"
      ]
     },
     "metadata": {},
     "output_type": "display_data"
    },
    {
     "data": {
      "application/vnd.jupyter.widget-view+json": {
       "model_id": "e977e0291a82417683f041de8de6ba25",
       "version_major": 2,
       "version_minor": 0
      },
      "text/plain": [
       "validation:   0%|          | 0/112 [00:00<?, ?it/s]"
      ]
     },
     "metadata": {},
     "output_type": "display_data"
    },
    {
     "name": "stdout",
     "output_type": "stream",
     "text": [
      "\u001b[32m2022-06-26 16:55:20.862\u001b[0m | \u001b[1mINFO    \u001b[0m | \u001b[36msrc.beam.model\u001b[0m:\u001b[36mstep\u001b[0m:\u001b[36m590\u001b[0m - \u001b[1mbr was changed to 0.9368492986390753\u001b[0m\n",
      "\u001b[32m2022-06-26 16:55:20.864\u001b[0m | \u001b[1mINFO    \u001b[0m | \u001b[36msrc.beam.model\u001b[0m:\u001b[36mstep\u001b[0m:\u001b[36m591\u001b[0m - \u001b[1mlambda_llr was changed to 0.0384698948905458\u001b[0m\n",
      "\n",
      "\u001b[32m2022-06-26 16:55:20.865\u001b[0m | \u001b[1mINFO    \u001b[0m | \u001b[36msrc.beam.experiment\u001b[0m:\u001b[36msave_model_results\u001b[0m:\u001b[36m397\u001b[0m - \u001b[1mFinished epoch 50/100:\u001b[0m\n",
      "\u001b[32m2022-06-26 16:55:20.867\u001b[0m | \u001b[1mINFO    \u001b[0m | \u001b[36msrc.beam.experiment\u001b[0m:\u001b[36mlog_data\u001b[0m:\u001b[36m443\u001b[0m - \u001b[1mtrain:\u001b[0m\n",
      "\u001b[32m2022-06-26 16:55:20.868\u001b[0m | \u001b[1mINFO    \u001b[0m | \u001b[36msrc.beam.experiment\u001b[0m:\u001b[36mlog_data\u001b[0m:\u001b[36m447\u001b[0m - \u001b[1mloss 599.001 \t|\u001b[0m\n",
      "\u001b[32m2022-06-26 16:55:20.869\u001b[0m | \u001b[1mINFO    \u001b[0m | \u001b[36msrc.beam.experiment\u001b[0m:\u001b[36mlog_data\u001b[0m:\u001b[36m447\u001b[0m - \u001b[1macc 0.938747 \t|\u001b[0m\n",
      "\u001b[32m2022-06-26 16:55:20.870\u001b[0m | \u001b[1mINFO    \u001b[0m | \u001b[36msrc.beam.experiment\u001b[0m:\u001b[36mlog_data\u001b[0m:\u001b[36m447\u001b[0m - \u001b[1mlr 0.000316228 \t|\u001b[0m\n",
      "\u001b[32m2022-06-26 16:55:20.871\u001b[0m | \u001b[1mINFO    \u001b[0m | \u001b[36msrc.beam.experiment\u001b[0m:\u001b[36mlog_data\u001b[0m:\u001b[36m443\u001b[0m - \u001b[1mvalidation:\u001b[0m\n",
      "\u001b[32m2022-06-26 16:55:20.871\u001b[0m | \u001b[1mINFO    \u001b[0m | \u001b[36msrc.beam.experiment\u001b[0m:\u001b[36mlog_data\u001b[0m:\u001b[36m447\u001b[0m - \u001b[1mloss 622.407 \t|\u001b[0m\n",
      "\u001b[32m2022-06-26 16:55:20.872\u001b[0m | \u001b[1mINFO    \u001b[0m | \u001b[36msrc.beam.experiment\u001b[0m:\u001b[36mlog_data\u001b[0m:\u001b[36m447\u001b[0m - \u001b[1macc 0.928301 \t|\u001b[0m\n"
     ]
    },
    {
     "data": {
      "application/vnd.jupyter.widget-view+json": {
       "model_id": "4aa696c3601446c39d70df13a00f5930",
       "version_major": 2,
       "version_minor": 0
      },
      "text/plain": [
       "train:   0%|          | 0/339 [00:00<?, ?it/s]"
      ]
     },
     "metadata": {},
     "output_type": "display_data"
    },
    {
     "data": {
      "application/vnd.jupyter.widget-view+json": {
       "model_id": "226e2de3ec4247b2ba5822d9aa8eaba9",
       "version_major": 2,
       "version_minor": 0
      },
      "text/plain": [
       "validation:   0%|          | 0/112 [00:00<?, ?it/s]"
      ]
     },
     "metadata": {},
     "output_type": "display_data"
    },
    {
     "name": "stdout",
     "output_type": "stream",
     "text": [
      "\u001b[32m2022-06-26 16:57:06.531\u001b[0m | \u001b[1mINFO    \u001b[0m | \u001b[36msrc.beam.model\u001b[0m:\u001b[36mstep\u001b[0m:\u001b[36m590\u001b[0m - \u001b[1mbr was changed to 0.9346041812389457\u001b[0m\n",
      "\u001b[32m2022-06-26 16:57:06.532\u001b[0m | \u001b[1mINFO    \u001b[0m | \u001b[36msrc.beam.model\u001b[0m:\u001b[36mstep\u001b[0m:\u001b[36m591\u001b[0m - \u001b[1mlambda_llr was changed to 0.0394678606175736\u001b[0m\n",
      "\n",
      "\u001b[32m2022-06-26 16:57:06.534\u001b[0m | \u001b[1mINFO    \u001b[0m | \u001b[36msrc.beam.experiment\u001b[0m:\u001b[36msave_model_results\u001b[0m:\u001b[36m397\u001b[0m - \u001b[1mFinished epoch 51/100:\u001b[0m\n",
      "\u001b[32m2022-06-26 16:57:06.538\u001b[0m | \u001b[1mINFO    \u001b[0m | \u001b[36msrc.beam.experiment\u001b[0m:\u001b[36mlog_data\u001b[0m:\u001b[36m443\u001b[0m - \u001b[1mtrain:\u001b[0m\n",
      "\u001b[32m2022-06-26 16:57:06.539\u001b[0m | \u001b[1mINFO    \u001b[0m | \u001b[36msrc.beam.experiment\u001b[0m:\u001b[36mlog_data\u001b[0m:\u001b[36m447\u001b[0m - \u001b[1mloss 600.783 \t|\u001b[0m\n",
      "\u001b[32m2022-06-26 16:57:06.540\u001b[0m | \u001b[1mINFO    \u001b[0m | \u001b[36msrc.beam.experiment\u001b[0m:\u001b[36mlog_data\u001b[0m:\u001b[36m447\u001b[0m - \u001b[1macc 0.937935 \t|\u001b[0m\n",
      "\u001b[32m2022-06-26 16:57:06.541\u001b[0m | \u001b[1mINFO    \u001b[0m | \u001b[36msrc.beam.experiment\u001b[0m:\u001b[36mlog_data\u001b[0m:\u001b[36m447\u001b[0m - \u001b[1mlr 0.000316228 \t|\u001b[0m\n",
      "\u001b[32m2022-06-26 16:57:06.542\u001b[0m | \u001b[1mINFO    \u001b[0m | \u001b[36msrc.beam.experiment\u001b[0m:\u001b[36mlog_data\u001b[0m:\u001b[36m443\u001b[0m - \u001b[1mvalidation:\u001b[0m\n",
      "\u001b[32m2022-06-26 16:57:06.543\u001b[0m | \u001b[1mINFO    \u001b[0m | \u001b[36msrc.beam.experiment\u001b[0m:\u001b[36mlog_data\u001b[0m:\u001b[36m447\u001b[0m - \u001b[1mloss 622.217 \t|\u001b[0m\n",
      "\u001b[32m2022-06-26 16:57:06.544\u001b[0m | \u001b[1mINFO    \u001b[0m | \u001b[36msrc.beam.experiment\u001b[0m:\u001b[36mlog_data\u001b[0m:\u001b[36m447\u001b[0m - \u001b[1macc 0.928127 \t|\u001b[0m\n"
     ]
    },
    {
     "data": {
      "application/vnd.jupyter.widget-view+json": {
       "model_id": "e4d2fe9c796b46b89d6a4073475d0c16",
       "version_major": 2,
       "version_minor": 0
      },
      "text/plain": [
       "train:   0%|          | 0/339 [00:00<?, ?it/s]"
      ]
     },
     "metadata": {},
     "output_type": "display_data"
    },
    {
     "data": {
      "application/vnd.jupyter.widget-view+json": {
       "model_id": "e5eb64bc51944ac5b5791e73b4a555d7",
       "version_major": 2,
       "version_minor": 0
      },
      "text/plain": [
       "validation:   0%|          | 0/112 [00:00<?, ?it/s]"
      ]
     },
     "metadata": {},
     "output_type": "display_data"
    },
    {
     "name": "stdout",
     "output_type": "stream",
     "text": [
      "\u001b[32m2022-06-26 16:58:52.316\u001b[0m | \u001b[1mINFO    \u001b[0m | \u001b[36msrc.beam.model\u001b[0m:\u001b[36mstep\u001b[0m:\u001b[36m590\u001b[0m - \u001b[1mbr was changed to 0.9321698705208905\u001b[0m\n",
      "\u001b[32m2022-06-26 16:58:52.317\u001b[0m | \u001b[1mINFO    \u001b[0m | \u001b[36msrc.beam.model\u001b[0m:\u001b[36mstep\u001b[0m:\u001b[36m591\u001b[0m - \u001b[1mlambda_llr was changed to 0.040466923926511786\u001b[0m\n",
      "\n",
      "\u001b[32m2022-06-26 16:58:52.318\u001b[0m | \u001b[1mINFO    \u001b[0m | \u001b[36msrc.beam.experiment\u001b[0m:\u001b[36msave_model_results\u001b[0m:\u001b[36m397\u001b[0m - \u001b[1mFinished epoch 52/100:\u001b[0m\n",
      "\u001b[32m2022-06-26 16:58:52.321\u001b[0m | \u001b[1mINFO    \u001b[0m | \u001b[36msrc.beam.experiment\u001b[0m:\u001b[36mlog_data\u001b[0m:\u001b[36m443\u001b[0m - \u001b[1mtrain:\u001b[0m\n",
      "\u001b[32m2022-06-26 16:58:52.322\u001b[0m | \u001b[1mINFO    \u001b[0m | \u001b[36msrc.beam.experiment\u001b[0m:\u001b[36mlog_data\u001b[0m:\u001b[36m447\u001b[0m - \u001b[1mloss 601.977 \t|\u001b[0m\n",
      "\u001b[32m2022-06-26 16:58:52.323\u001b[0m | \u001b[1mINFO    \u001b[0m | \u001b[36msrc.beam.experiment\u001b[0m:\u001b[36mlog_data\u001b[0m:\u001b[36m447\u001b[0m - \u001b[1macc 0.937025 \t|\u001b[0m\n",
      "\u001b[32m2022-06-26 16:58:52.323\u001b[0m | \u001b[1mINFO    \u001b[0m | \u001b[36msrc.beam.experiment\u001b[0m:\u001b[36mlog_data\u001b[0m:\u001b[36m447\u001b[0m - \u001b[1mlr 0.000316228 \t|\u001b[0m\n",
      "\u001b[32m2022-06-26 16:58:52.324\u001b[0m | \u001b[1mINFO    \u001b[0m | \u001b[36msrc.beam.experiment\u001b[0m:\u001b[36mlog_data\u001b[0m:\u001b[36m443\u001b[0m - \u001b[1mvalidation:\u001b[0m\n",
      "\u001b[32m2022-06-26 16:58:52.325\u001b[0m | \u001b[1mINFO    \u001b[0m | \u001b[36msrc.beam.experiment\u001b[0m:\u001b[36mlog_data\u001b[0m:\u001b[36m447\u001b[0m - \u001b[1mloss 625.97 \t|\u001b[0m\n",
      "\u001b[32m2022-06-26 16:58:52.325\u001b[0m | \u001b[1mINFO    \u001b[0m | \u001b[36msrc.beam.experiment\u001b[0m:\u001b[36mlog_data\u001b[0m:\u001b[36m447\u001b[0m - \u001b[1macc 0.92695 \t|\u001b[0m\n"
     ]
    },
    {
     "data": {
      "application/vnd.jupyter.widget-view+json": {
       "model_id": "dc2ba165bd30429ca8b80f23b53ec1b7",
       "version_major": 2,
       "version_minor": 0
      },
      "text/plain": [
       "train:   0%|          | 0/339 [00:00<?, ?it/s]"
      ]
     },
     "metadata": {},
     "output_type": "display_data"
    },
    {
     "data": {
      "application/vnd.jupyter.widget-view+json": {
       "model_id": "eb64fe66400143c39fcc2f243fe99e7c",
       "version_major": 2,
       "version_minor": 0
      },
      "text/plain": [
       "validation:   0%|          | 0/112 [00:00<?, ?it/s]"
      ]
     },
     "metadata": {},
     "output_type": "display_data"
    },
    {
     "name": "stdout",
     "output_type": "stream",
     "text": [
      "\u001b[32m2022-06-26 17:00:38.271\u001b[0m | \u001b[1mINFO    \u001b[0m | \u001b[36msrc.beam.model\u001b[0m:\u001b[36mstep\u001b[0m:\u001b[36m590\u001b[0m - \u001b[1mbr was changed to 0.9297155216674553\u001b[0m\n",
      "\u001b[32m2022-06-26 17:00:38.273\u001b[0m | \u001b[1mINFO    \u001b[0m | \u001b[36msrc.beam.model\u001b[0m:\u001b[36mstep\u001b[0m:\u001b[36m591\u001b[0m - \u001b[1mlambda_llr was changed to 0.04146611266789985\u001b[0m\n",
      "Epoch 00053: reducing learning rate of group 0 to 1.0000e-04.\n",
      "Epoch 00053: reducing learning rate of group 0 to 2.0000e-03.\n",
      "\n",
      "\u001b[32m2022-06-26 17:00:38.274\u001b[0m | \u001b[1mINFO    \u001b[0m | \u001b[36msrc.beam.experiment\u001b[0m:\u001b[36msave_model_results\u001b[0m:\u001b[36m397\u001b[0m - \u001b[1mFinished epoch 53/100:\u001b[0m\n",
      "\u001b[32m2022-06-26 17:00:38.277\u001b[0m | \u001b[1mINFO    \u001b[0m | \u001b[36msrc.beam.experiment\u001b[0m:\u001b[36mlog_data\u001b[0m:\u001b[36m443\u001b[0m - \u001b[1mtrain:\u001b[0m\n",
      "\u001b[32m2022-06-26 17:00:38.278\u001b[0m | \u001b[1mINFO    \u001b[0m | \u001b[36msrc.beam.experiment\u001b[0m:\u001b[36mlog_data\u001b[0m:\u001b[36m447\u001b[0m - \u001b[1mloss 603.708 \t|\u001b[0m\n",
      "\u001b[32m2022-06-26 17:00:38.278\u001b[0m | \u001b[1mINFO    \u001b[0m | \u001b[36msrc.beam.experiment\u001b[0m:\u001b[36mlog_data\u001b[0m:\u001b[36m447\u001b[0m - \u001b[1macc 0.936322 \t|\u001b[0m\n",
      "\u001b[32m2022-06-26 17:00:38.279\u001b[0m | \u001b[1mINFO    \u001b[0m | \u001b[36msrc.beam.experiment\u001b[0m:\u001b[36mlog_data\u001b[0m:\u001b[36m447\u001b[0m - \u001b[1mlr 0.000316228 \t|\u001b[0m\n",
      "\u001b[32m2022-06-26 17:00:38.280\u001b[0m | \u001b[1mINFO    \u001b[0m | \u001b[36msrc.beam.experiment\u001b[0m:\u001b[36mlog_data\u001b[0m:\u001b[36m443\u001b[0m - \u001b[1mvalidation:\u001b[0m\n",
      "\u001b[32m2022-06-26 17:00:38.280\u001b[0m | \u001b[1mINFO    \u001b[0m | \u001b[36msrc.beam.experiment\u001b[0m:\u001b[36mlog_data\u001b[0m:\u001b[36m447\u001b[0m - \u001b[1mloss 628.24 \t|\u001b[0m\n",
      "\u001b[32m2022-06-26 17:00:38.281\u001b[0m | \u001b[1mINFO    \u001b[0m | \u001b[36msrc.beam.experiment\u001b[0m:\u001b[36mlog_data\u001b[0m:\u001b[36m447\u001b[0m - \u001b[1macc 0.924717 \t|\u001b[0m\n"
     ]
    },
    {
     "data": {
      "application/vnd.jupyter.widget-view+json": {
       "model_id": "f0138f643d964660b1d8aded43b652e8",
       "version_major": 2,
       "version_minor": 0
      },
      "text/plain": [
       "train:   0%|          | 0/339 [00:00<?, ?it/s]"
      ]
     },
     "metadata": {},
     "output_type": "display_data"
    },
    {
     "data": {
      "application/vnd.jupyter.widget-view+json": {
       "model_id": "983f8cf0c97b43768d562f6682579086",
       "version_major": 2,
       "version_minor": 0
      },
      "text/plain": [
       "validation:   0%|          | 0/112 [00:00<?, ?it/s]"
      ]
     },
     "metadata": {},
     "output_type": "display_data"
    },
    {
     "name": "stdout",
     "output_type": "stream",
     "text": [
      "\u001b[32m2022-06-26 17:02:24.200\u001b[0m | \u001b[1mINFO    \u001b[0m | \u001b[36msrc.beam.model\u001b[0m:\u001b[36mstep\u001b[0m:\u001b[36m590\u001b[0m - \u001b[1mbr was changed to 0.9272271121756481\u001b[0m\n",
      "\u001b[32m2022-06-26 17:02:24.201\u001b[0m | \u001b[1mINFO    \u001b[0m | \u001b[36msrc.beam.model\u001b[0m:\u001b[36mstep\u001b[0m:\u001b[36m591\u001b[0m - \u001b[1mlambda_llr was changed to 0.042465400514765814\u001b[0m\n",
      "\n",
      "\u001b[32m2022-06-26 17:02:24.202\u001b[0m | \u001b[1mINFO    \u001b[0m | \u001b[36msrc.beam.experiment\u001b[0m:\u001b[36msave_model_results\u001b[0m:\u001b[36m397\u001b[0m - \u001b[1mFinished epoch 54/100:\u001b[0m\n",
      "\u001b[32m2022-06-26 17:02:24.206\u001b[0m | \u001b[1mINFO    \u001b[0m | \u001b[36msrc.beam.experiment\u001b[0m:\u001b[36mlog_data\u001b[0m:\u001b[36m443\u001b[0m - \u001b[1mtrain:\u001b[0m\n",
      "\u001b[32m2022-06-26 17:02:24.207\u001b[0m | \u001b[1mINFO    \u001b[0m | \u001b[36msrc.beam.experiment\u001b[0m:\u001b[36mlog_data\u001b[0m:\u001b[36m447\u001b[0m - \u001b[1mloss 598.545 \t|\u001b[0m\n",
      "\u001b[32m2022-06-26 17:02:24.208\u001b[0m | \u001b[1mINFO    \u001b[0m | \u001b[36msrc.beam.experiment\u001b[0m:\u001b[36mlog_data\u001b[0m:\u001b[36m447\u001b[0m - \u001b[1macc 0.939681 \t|\u001b[0m\n",
      "\u001b[32m2022-06-26 17:02:24.209\u001b[0m | \u001b[1mINFO    \u001b[0m | \u001b[36msrc.beam.experiment\u001b[0m:\u001b[36mlog_data\u001b[0m:\u001b[36m447\u001b[0m - \u001b[1mlr 0.0001 \t|\u001b[0m\n",
      "\u001b[32m2022-06-26 17:02:24.210\u001b[0m | \u001b[1mINFO    \u001b[0m | \u001b[36msrc.beam.experiment\u001b[0m:\u001b[36mlog_data\u001b[0m:\u001b[36m443\u001b[0m - \u001b[1mvalidation:\u001b[0m\n",
      "\u001b[32m2022-06-26 17:02:24.211\u001b[0m | \u001b[1mINFO    \u001b[0m | \u001b[36msrc.beam.experiment\u001b[0m:\u001b[36mlog_data\u001b[0m:\u001b[36m447\u001b[0m - \u001b[1mloss 623.29 \t|\u001b[0m\n",
      "\u001b[32m2022-06-26 17:02:24.212\u001b[0m | \u001b[1mINFO    \u001b[0m | \u001b[36msrc.beam.experiment\u001b[0m:\u001b[36mlog_data\u001b[0m:\u001b[36m447\u001b[0m - \u001b[1macc 0.92804 \t|\u001b[0m\n"
     ]
    },
    {
     "data": {
      "application/vnd.jupyter.widget-view+json": {
       "model_id": "cb4188a83771429e9ed655a7f31deb68",
       "version_major": 2,
       "version_minor": 0
      },
      "text/plain": [
       "train:   0%|          | 0/339 [00:00<?, ?it/s]"
      ]
     },
     "metadata": {},
     "output_type": "display_data"
    },
    {
     "data": {
      "application/vnd.jupyter.widget-view+json": {
       "model_id": "ca76f219db57467aa56dfcadf59f012d",
       "version_major": 2,
       "version_minor": 0
      },
      "text/plain": [
       "validation:   0%|          | 0/112 [00:00<?, ?it/s]"
      ]
     },
     "metadata": {},
     "output_type": "display_data"
    },
    {
     "name": "stdout",
     "output_type": "stream",
     "text": [
      "\u001b[32m2022-06-26 17:04:10.157\u001b[0m | \u001b[1mINFO    \u001b[0m | \u001b[36msrc.beam.model\u001b[0m:\u001b[36mstep\u001b[0m:\u001b[36m590\u001b[0m - \u001b[1mbr was changed to 0.9246269446281188\u001b[0m\n",
      "\u001b[32m2022-06-26 17:04:10.158\u001b[0m | \u001b[1mINFO    \u001b[0m | \u001b[36msrc.beam.model\u001b[0m:\u001b[36mstep\u001b[0m:\u001b[36m591\u001b[0m - \u001b[1mlambda_llr was changed to 0.04346497368536425\u001b[0m\n",
      "\n",
      "\u001b[32m2022-06-26 17:04:10.158\u001b[0m | \u001b[1mINFO    \u001b[0m | \u001b[36msrc.beam.experiment\u001b[0m:\u001b[36msave_model_results\u001b[0m:\u001b[36m397\u001b[0m - \u001b[1mFinished epoch 55/100:\u001b[0m\n",
      "\u001b[32m2022-06-26 17:04:10.161\u001b[0m | \u001b[1mINFO    \u001b[0m | \u001b[36msrc.beam.experiment\u001b[0m:\u001b[36mlog_data\u001b[0m:\u001b[36m443\u001b[0m - \u001b[1mtrain:\u001b[0m\n",
      "\u001b[32m2022-06-26 17:04:10.162\u001b[0m | \u001b[1mINFO    \u001b[0m | \u001b[36msrc.beam.experiment\u001b[0m:\u001b[36mlog_data\u001b[0m:\u001b[36m447\u001b[0m - \u001b[1mloss 597.592 \t|\u001b[0m\n",
      "\u001b[32m2022-06-26 17:04:10.162\u001b[0m | \u001b[1mINFO    \u001b[0m | \u001b[36msrc.beam.experiment\u001b[0m:\u001b[36mlog_data\u001b[0m:\u001b[36m447\u001b[0m - \u001b[1macc 0.939891 \t|\u001b[0m\n",
      "\u001b[32m2022-06-26 17:04:10.163\u001b[0m | \u001b[1mINFO    \u001b[0m | \u001b[36msrc.beam.experiment\u001b[0m:\u001b[36mlog_data\u001b[0m:\u001b[36m447\u001b[0m - \u001b[1mlr 0.0001 \t|\u001b[0m\n",
      "\u001b[32m2022-06-26 17:04:10.163\u001b[0m | \u001b[1mINFO    \u001b[0m | \u001b[36msrc.beam.experiment\u001b[0m:\u001b[36mlog_data\u001b[0m:\u001b[36m443\u001b[0m - \u001b[1mvalidation:\u001b[0m\n",
      "\u001b[32m2022-06-26 17:04:10.164\u001b[0m | \u001b[1mINFO    \u001b[0m | \u001b[36msrc.beam.experiment\u001b[0m:\u001b[36mlog_data\u001b[0m:\u001b[36m447\u001b[0m - \u001b[1mloss 623.961 \t|\u001b[0m\n",
      "\u001b[32m2022-06-26 17:04:10.164\u001b[0m | \u001b[1mINFO    \u001b[0m | \u001b[36msrc.beam.experiment\u001b[0m:\u001b[36mlog_data\u001b[0m:\u001b[36m447\u001b[0m - \u001b[1macc 0.927037 \t|\u001b[0m\n"
     ]
    },
    {
     "data": {
      "application/vnd.jupyter.widget-view+json": {
       "model_id": "ad0b0415213d4f68b80eff50347400e4",
       "version_major": 2,
       "version_minor": 0
      },
      "text/plain": [
       "train:   0%|          | 0/339 [00:00<?, ?it/s]"
      ]
     },
     "metadata": {},
     "output_type": "display_data"
    },
    {
     "data": {
      "application/vnd.jupyter.widget-view+json": {
       "model_id": "60b6a8be7e5742b2a472a7d3f9d3b4f9",
       "version_major": 2,
       "version_minor": 0
      },
      "text/plain": [
       "validation:   0%|          | 0/112 [00:00<?, ?it/s]"
      ]
     },
     "metadata": {},
     "output_type": "display_data"
    },
    {
     "name": "stdout",
     "output_type": "stream",
     "text": [
      "\u001b[32m2022-06-26 17:05:56.069\u001b[0m | \u001b[1mINFO    \u001b[0m | \u001b[36msrc.beam.model\u001b[0m:\u001b[36mstep\u001b[0m:\u001b[36m590\u001b[0m - \u001b[1mbr was changed to 0.9221224207202248\u001b[0m\n",
      "\u001b[32m2022-06-26 17:05:56.070\u001b[0m | \u001b[1mINFO    \u001b[0m | \u001b[36msrc.beam.model\u001b[0m:\u001b[36mstep\u001b[0m:\u001b[36m591\u001b[0m - \u001b[1mlambda_llr was changed to 0.04446427795086274\u001b[0m\n",
      "\n",
      "\u001b[32m2022-06-26 17:05:56.071\u001b[0m | \u001b[1mINFO    \u001b[0m | \u001b[36msrc.beam.experiment\u001b[0m:\u001b[36msave_model_results\u001b[0m:\u001b[36m397\u001b[0m - \u001b[1mFinished epoch 56/100:\u001b[0m\n",
      "\u001b[32m2022-06-26 17:05:56.074\u001b[0m | \u001b[1mINFO    \u001b[0m | \u001b[36msrc.beam.experiment\u001b[0m:\u001b[36mlog_data\u001b[0m:\u001b[36m443\u001b[0m - \u001b[1mtrain:\u001b[0m\n",
      "\u001b[32m2022-06-26 17:05:56.075\u001b[0m | \u001b[1mINFO    \u001b[0m | \u001b[36msrc.beam.experiment\u001b[0m:\u001b[36mlog_data\u001b[0m:\u001b[36m447\u001b[0m - \u001b[1mloss 599.376 \t|\u001b[0m\n",
      "\u001b[32m2022-06-26 17:05:56.075\u001b[0m | \u001b[1mINFO    \u001b[0m | \u001b[36msrc.beam.experiment\u001b[0m:\u001b[36mlog_data\u001b[0m:\u001b[36m447\u001b[0m - \u001b[1macc 0.939122 \t|\u001b[0m\n",
      "\u001b[32m2022-06-26 17:05:56.076\u001b[0m | \u001b[1mINFO    \u001b[0m | \u001b[36msrc.beam.experiment\u001b[0m:\u001b[36mlog_data\u001b[0m:\u001b[36m447\u001b[0m - \u001b[1mlr 0.0001 \t|\u001b[0m\n",
      "\u001b[32m2022-06-26 17:05:56.076\u001b[0m | \u001b[1mINFO    \u001b[0m | \u001b[36msrc.beam.experiment\u001b[0m:\u001b[36mlog_data\u001b[0m:\u001b[36m443\u001b[0m - \u001b[1mvalidation:\u001b[0m\n",
      "\u001b[32m2022-06-26 17:05:56.077\u001b[0m | \u001b[1mINFO    \u001b[0m | \u001b[36msrc.beam.experiment\u001b[0m:\u001b[36mlog_data\u001b[0m:\u001b[36m447\u001b[0m - \u001b[1mloss 624.231 \t|\u001b[0m\n",
      "\u001b[32m2022-06-26 17:05:56.078\u001b[0m | \u001b[1mINFO    \u001b[0m | \u001b[36msrc.beam.experiment\u001b[0m:\u001b[36mlog_data\u001b[0m:\u001b[36m447\u001b[0m - \u001b[1macc 0.927342 \t|\u001b[0m\n"
     ]
    },
    {
     "data": {
      "application/vnd.jupyter.widget-view+json": {
       "model_id": "3b1abac7dae34dbbaf0ddd108933f861",
       "version_major": 2,
       "version_minor": 0
      },
      "text/plain": [
       "train:   0%|          | 0/339 [00:00<?, ?it/s]"
      ]
     },
     "metadata": {},
     "output_type": "display_data"
    },
    {
     "data": {
      "application/vnd.jupyter.widget-view+json": {
       "model_id": "e831750bfcf74e878db46b10f4421e0a",
       "version_major": 2,
       "version_minor": 0
      },
      "text/plain": [
       "validation:   0%|          | 0/112 [00:00<?, ?it/s]"
      ]
     },
     "metadata": {},
     "output_type": "display_data"
    },
    {
     "name": "stdout",
     "output_type": "stream",
     "text": [
      "\u001b[32m2022-06-26 17:07:41.783\u001b[0m | \u001b[1mINFO    \u001b[0m | \u001b[36msrc.beam.model\u001b[0m:\u001b[36mstep\u001b[0m:\u001b[36m590\u001b[0m - \u001b[1mbr was changed to 0.919540573986219\u001b[0m\n",
      "\u001b[32m2022-06-26 17:07:41.784\u001b[0m | \u001b[1mINFO    \u001b[0m | \u001b[36msrc.beam.model\u001b[0m:\u001b[36mstep\u001b[0m:\u001b[36m591\u001b[0m - \u001b[1mlambda_llr was changed to 0.04546376391603175\u001b[0m\n",
      "\n",
      "\u001b[32m2022-06-26 17:07:41.785\u001b[0m | \u001b[1mINFO    \u001b[0m | \u001b[36msrc.beam.experiment\u001b[0m:\u001b[36msave_model_results\u001b[0m:\u001b[36m397\u001b[0m - \u001b[1mFinished epoch 57/100:\u001b[0m\n",
      "\u001b[32m2022-06-26 17:07:41.789\u001b[0m | \u001b[1mINFO    \u001b[0m | \u001b[36msrc.beam.experiment\u001b[0m:\u001b[36mlog_data\u001b[0m:\u001b[36m443\u001b[0m - \u001b[1mtrain:\u001b[0m\n",
      "\u001b[32m2022-06-26 17:07:41.790\u001b[0m | \u001b[1mINFO    \u001b[0m | \u001b[36msrc.beam.experiment\u001b[0m:\u001b[36mlog_data\u001b[0m:\u001b[36m447\u001b[0m - \u001b[1mloss 602.717 \t|\u001b[0m\n",
      "\u001b[32m2022-06-26 17:07:41.790\u001b[0m | \u001b[1mINFO    \u001b[0m | \u001b[36msrc.beam.experiment\u001b[0m:\u001b[36mlog_data\u001b[0m:\u001b[36m447\u001b[0m - \u001b[1macc 0.937353 \t|\u001b[0m\n",
      "\u001b[32m2022-06-26 17:07:41.791\u001b[0m | \u001b[1mINFO    \u001b[0m | \u001b[36msrc.beam.experiment\u001b[0m:\u001b[36mlog_data\u001b[0m:\u001b[36m447\u001b[0m - \u001b[1mlr 0.0001 \t|\u001b[0m\n",
      "\u001b[32m2022-06-26 17:07:41.792\u001b[0m | \u001b[1mINFO    \u001b[0m | \u001b[36msrc.beam.experiment\u001b[0m:\u001b[36mlog_data\u001b[0m:\u001b[36m443\u001b[0m - \u001b[1mvalidation:\u001b[0m\n",
      "\u001b[32m2022-06-26 17:07:41.793\u001b[0m | \u001b[1mINFO    \u001b[0m | \u001b[36msrc.beam.experiment\u001b[0m:\u001b[36mlog_data\u001b[0m:\u001b[36m447\u001b[0m - \u001b[1mloss 628.702 \t|\u001b[0m\n",
      "\u001b[32m2022-06-26 17:07:41.794\u001b[0m | \u001b[1mINFO    \u001b[0m | \u001b[36msrc.beam.experiment\u001b[0m:\u001b[36mlog_data\u001b[0m:\u001b[36m447\u001b[0m - \u001b[1macc 0.925624 \t|\u001b[0m\n"
     ]
    },
    {
     "data": {
      "application/vnd.jupyter.widget-view+json": {
       "model_id": "78c45d66c873436c9c864550c2e38c96",
       "version_major": 2,
       "version_minor": 0
      },
      "text/plain": [
       "train:   0%|          | 0/339 [00:00<?, ?it/s]"
      ]
     },
     "metadata": {},
     "output_type": "display_data"
    },
    {
     "data": {
      "application/vnd.jupyter.widget-view+json": {
       "model_id": "bbd85874e77d4e25ae9c185163895a53",
       "version_major": 2,
       "version_minor": 0
      },
      "text/plain": [
       "validation:   0%|          | 0/112 [00:00<?, ?it/s]"
      ]
     },
     "metadata": {},
     "output_type": "display_data"
    },
    {
     "name": "stdout",
     "output_type": "stream",
     "text": [
      "\u001b[32m2022-06-26 17:09:28.045\u001b[0m | \u001b[1mINFO    \u001b[0m | \u001b[36msrc.beam.model\u001b[0m:\u001b[36mstep\u001b[0m:\u001b[36m590\u001b[0m - \u001b[1mbr was changed to 0.916918166890068\u001b[0m\n",
      "\u001b[32m2022-06-26 17:09:28.046\u001b[0m | \u001b[1mINFO    \u001b[0m | \u001b[36msrc.beam.model\u001b[0m:\u001b[36mstep\u001b[0m:\u001b[36m591\u001b[0m - \u001b[1mlambda_llr was changed to 0.04646335107897395\u001b[0m\n",
      "\n",
      "\u001b[32m2022-06-26 17:09:28.048\u001b[0m | \u001b[1mINFO    \u001b[0m | \u001b[36msrc.beam.experiment\u001b[0m:\u001b[36msave_model_results\u001b[0m:\u001b[36m397\u001b[0m - \u001b[1mFinished epoch 58/100:\u001b[0m\n",
      "\u001b[32m2022-06-26 17:09:28.051\u001b[0m | \u001b[1mINFO    \u001b[0m | \u001b[36msrc.beam.experiment\u001b[0m:\u001b[36mlog_data\u001b[0m:\u001b[36m443\u001b[0m - \u001b[1mtrain:\u001b[0m\n",
      "\u001b[32m2022-06-26 17:09:28.052\u001b[0m | \u001b[1mINFO    \u001b[0m | \u001b[36msrc.beam.experiment\u001b[0m:\u001b[36mlog_data\u001b[0m:\u001b[36m447\u001b[0m - \u001b[1mloss 603.719 \t|\u001b[0m\n",
      "\u001b[32m2022-06-26 17:09:28.053\u001b[0m | \u001b[1mINFO    \u001b[0m | \u001b[36msrc.beam.experiment\u001b[0m:\u001b[36mlog_data\u001b[0m:\u001b[36m447\u001b[0m - \u001b[1macc 0.937192 \t|\u001b[0m\n",
      "\u001b[32m2022-06-26 17:09:28.054\u001b[0m | \u001b[1mINFO    \u001b[0m | \u001b[36msrc.beam.experiment\u001b[0m:\u001b[36mlog_data\u001b[0m:\u001b[36m447\u001b[0m - \u001b[1mlr 0.0001 \t|\u001b[0m\n",
      "\u001b[32m2022-06-26 17:09:28.054\u001b[0m | \u001b[1mINFO    \u001b[0m | \u001b[36msrc.beam.experiment\u001b[0m:\u001b[36mlog_data\u001b[0m:\u001b[36m443\u001b[0m - \u001b[1mvalidation:\u001b[0m\n",
      "\u001b[32m2022-06-26 17:09:28.055\u001b[0m | \u001b[1mINFO    \u001b[0m | \u001b[36msrc.beam.experiment\u001b[0m:\u001b[36mlog_data\u001b[0m:\u001b[36m447\u001b[0m - \u001b[1mloss 630.468 \t|\u001b[0m\n",
      "\u001b[32m2022-06-26 17:09:28.055\u001b[0m | \u001b[1mINFO    \u001b[0m | \u001b[36msrc.beam.experiment\u001b[0m:\u001b[36mlog_data\u001b[0m:\u001b[36m447\u001b[0m - \u001b[1macc 0.924674 \t|\u001b[0m\n"
     ]
    },
    {
     "data": {
      "application/vnd.jupyter.widget-view+json": {
       "model_id": "dd6f6033c5d24e3ebac030507ab04461",
       "version_major": 2,
       "version_minor": 0
      },
      "text/plain": [
       "train:   0%|          | 0/339 [00:00<?, ?it/s]"
      ]
     },
     "metadata": {},
     "output_type": "display_data"
    },
    {
     "data": {
      "application/vnd.jupyter.widget-view+json": {
       "model_id": "58c0ad4ddfcd413d8886843f1e302534",
       "version_major": 2,
       "version_minor": 0
      },
      "text/plain": [
       "validation:   0%|          | 0/112 [00:00<?, ?it/s]"
      ]
     },
     "metadata": {},
     "output_type": "display_data"
    },
    {
     "name": "stdout",
     "output_type": "stream",
     "text": [
      "\u001b[32m2022-06-26 17:11:13.815\u001b[0m | \u001b[1mINFO    \u001b[0m | \u001b[36msrc.beam.model\u001b[0m:\u001b[36mstep\u001b[0m:\u001b[36m590\u001b[0m - \u001b[1mbr was changed to 0.9144321478686157\u001b[0m\n",
      "\u001b[32m2022-06-26 17:11:13.816\u001b[0m | \u001b[1mINFO    \u001b[0m | \u001b[36msrc.beam.model\u001b[0m:\u001b[36mstep\u001b[0m:\u001b[36m591\u001b[0m - \u001b[1mlambda_llr was changed to 0.047462558183651214\u001b[0m\n",
      "\n",
      "\u001b[32m2022-06-26 17:11:13.818\u001b[0m | \u001b[1mINFO    \u001b[0m | \u001b[36msrc.beam.experiment\u001b[0m:\u001b[36msave_model_results\u001b[0m:\u001b[36m397\u001b[0m - \u001b[1mFinished epoch 59/100:\u001b[0m\n",
      "\u001b[32m2022-06-26 17:11:13.821\u001b[0m | \u001b[1mINFO    \u001b[0m | \u001b[36msrc.beam.experiment\u001b[0m:\u001b[36mlog_data\u001b[0m:\u001b[36m443\u001b[0m - \u001b[1mtrain:\u001b[0m\n",
      "\u001b[32m2022-06-26 17:11:13.822\u001b[0m | \u001b[1mINFO    \u001b[0m | \u001b[36msrc.beam.experiment\u001b[0m:\u001b[36mlog_data\u001b[0m:\u001b[36m447\u001b[0m - \u001b[1mloss 607.542 \t|\u001b[0m\n",
      "\u001b[32m2022-06-26 17:11:13.822\u001b[0m | \u001b[1mINFO    \u001b[0m | \u001b[36msrc.beam.experiment\u001b[0m:\u001b[36mlog_data\u001b[0m:\u001b[36m447\u001b[0m - \u001b[1macc 0.935132 \t|\u001b[0m\n",
      "\u001b[32m2022-06-26 17:11:13.823\u001b[0m | \u001b[1mINFO    \u001b[0m | \u001b[36msrc.beam.experiment\u001b[0m:\u001b[36mlog_data\u001b[0m:\u001b[36m447\u001b[0m - \u001b[1mlr 0.0001 \t|\u001b[0m\n",
      "\u001b[32m2022-06-26 17:11:13.824\u001b[0m | \u001b[1mINFO    \u001b[0m | \u001b[36msrc.beam.experiment\u001b[0m:\u001b[36mlog_data\u001b[0m:\u001b[36m443\u001b[0m - \u001b[1mvalidation:\u001b[0m\n",
      "\u001b[32m2022-06-26 17:11:13.824\u001b[0m | \u001b[1mINFO    \u001b[0m | \u001b[36msrc.beam.experiment\u001b[0m:\u001b[36mlog_data\u001b[0m:\u001b[36m447\u001b[0m - \u001b[1mloss 632.306 \t|\u001b[0m\n",
      "\u001b[32m2022-06-26 17:11:13.825\u001b[0m | \u001b[1mINFO    \u001b[0m | \u001b[36msrc.beam.experiment\u001b[0m:\u001b[36mlog_data\u001b[0m:\u001b[36m447\u001b[0m - \u001b[1macc 0.923959 \t|\u001b[0m\n"
     ]
    },
    {
     "data": {
      "application/vnd.jupyter.widget-view+json": {
       "model_id": "b724b874fb614e8f84e71400cec460d8",
       "version_major": 2,
       "version_minor": 0
      },
      "text/plain": [
       "train:   0%|          | 0/339 [00:00<?, ?it/s]"
      ]
     },
     "metadata": {},
     "output_type": "display_data"
    },
    {
     "data": {
      "application/vnd.jupyter.widget-view+json": {
       "model_id": "b02cb74e0b544a998c9596e2b99ec552",
       "version_major": 2,
       "version_minor": 0
      },
      "text/plain": [
       "validation:   0%|          | 0/112 [00:00<?, ?it/s]"
      ]
     },
     "metadata": {},
     "output_type": "display_data"
    },
    {
     "name": "stdout",
     "output_type": "stream",
     "text": [
      "\u001b[32m2022-06-26 17:12:59.362\u001b[0m | \u001b[1mINFO    \u001b[0m | \u001b[36msrc.beam.model\u001b[0m:\u001b[36mstep\u001b[0m:\u001b[36m590\u001b[0m - \u001b[1mbr was changed to 0.9119291363483242\u001b[0m\n",
      "\u001b[32m2022-06-26 17:12:59.363\u001b[0m | \u001b[1mINFO    \u001b[0m | \u001b[36msrc.beam.model\u001b[0m:\u001b[36mstep\u001b[0m:\u001b[36m591\u001b[0m - \u001b[1mlambda_llr was changed to 0.048461784367748485\u001b[0m\n",
      "\n",
      "\u001b[32m2022-06-26 17:12:59.364\u001b[0m | \u001b[1mINFO    \u001b[0m | \u001b[36msrc.beam.experiment\u001b[0m:\u001b[36msave_model_results\u001b[0m:\u001b[36m397\u001b[0m - \u001b[1mFinished epoch 60/100:\u001b[0m\n",
      "\u001b[32m2022-06-26 17:12:59.366\u001b[0m | \u001b[1mINFO    \u001b[0m | \u001b[36msrc.beam.experiment\u001b[0m:\u001b[36mlog_data\u001b[0m:\u001b[36m443\u001b[0m - \u001b[1mtrain:\u001b[0m\n",
      "\u001b[32m2022-06-26 17:12:59.367\u001b[0m | \u001b[1mINFO    \u001b[0m | \u001b[36msrc.beam.experiment\u001b[0m:\u001b[36mlog_data\u001b[0m:\u001b[36m447\u001b[0m - \u001b[1mloss 609.092 \t|\u001b[0m\n",
      "\u001b[32m2022-06-26 17:12:59.368\u001b[0m | \u001b[1mINFO    \u001b[0m | \u001b[36msrc.beam.experiment\u001b[0m:\u001b[36mlog_data\u001b[0m:\u001b[36m447\u001b[0m - \u001b[1macc 0.934115 \t|\u001b[0m\n",
      "\u001b[32m2022-06-26 17:12:59.369\u001b[0m | \u001b[1mINFO    \u001b[0m | \u001b[36msrc.beam.experiment\u001b[0m:\u001b[36mlog_data\u001b[0m:\u001b[36m447\u001b[0m - \u001b[1mlr 0.0001 \t|\u001b[0m\n",
      "\u001b[32m2022-06-26 17:12:59.369\u001b[0m | \u001b[1mINFO    \u001b[0m | \u001b[36msrc.beam.experiment\u001b[0m:\u001b[36mlog_data\u001b[0m:\u001b[36m443\u001b[0m - \u001b[1mvalidation:\u001b[0m\n",
      "\u001b[32m2022-06-26 17:12:59.370\u001b[0m | \u001b[1mINFO    \u001b[0m | \u001b[36msrc.beam.experiment\u001b[0m:\u001b[36mlog_data\u001b[0m:\u001b[36m447\u001b[0m - \u001b[1mloss 633.999 \t|\u001b[0m\n",
      "\u001b[32m2022-06-26 17:12:59.371\u001b[0m | \u001b[1mINFO    \u001b[0m | \u001b[36msrc.beam.experiment\u001b[0m:\u001b[36mlog_data\u001b[0m:\u001b[36m447\u001b[0m - \u001b[1macc 0.92252 \t|\u001b[0m\n"
     ]
    },
    {
     "data": {
      "application/vnd.jupyter.widget-view+json": {
       "model_id": "c3a60f225adb495cb8cb73ada62459d4",
       "version_major": 2,
       "version_minor": 0
      },
      "text/plain": [
       "train:   0%|          | 0/339 [00:00<?, ?it/s]"
      ]
     },
     "metadata": {},
     "output_type": "display_data"
    },
    {
     "data": {
      "application/vnd.jupyter.widget-view+json": {
       "model_id": "87aa7ad7519a430aba35418d38a3e997",
       "version_major": 2,
       "version_minor": 0
      },
      "text/plain": [
       "validation:   0%|          | 0/112 [00:00<?, ?it/s]"
      ]
     },
     "metadata": {},
     "output_type": "display_data"
    },
    {
     "name": "stdout",
     "output_type": "stream",
     "text": [
      "\u001b[32m2022-06-26 17:14:44.976\u001b[0m | \u001b[1mINFO    \u001b[0m | \u001b[36msrc.beam.model\u001b[0m:\u001b[36mstep\u001b[0m:\u001b[36m590\u001b[0m - \u001b[1mbr was changed to 0.909521201209223\u001b[0m\n",
      "\u001b[32m2022-06-26 17:14:44.978\u001b[0m | \u001b[1mINFO    \u001b[0m | \u001b[36msrc.beam.model\u001b[0m:\u001b[36mstep\u001b[0m:\u001b[36m591\u001b[0m - \u001b[1mlambda_llr was changed to 0.04946059473919165\u001b[0m\n",
      "\n",
      "\u001b[32m2022-06-26 17:14:44.979\u001b[0m | \u001b[1mINFO    \u001b[0m | \u001b[36msrc.beam.experiment\u001b[0m:\u001b[36msave_model_results\u001b[0m:\u001b[36m397\u001b[0m - \u001b[1mFinished epoch 61/100:\u001b[0m\n",
      "\u001b[32m2022-06-26 17:14:44.983\u001b[0m | \u001b[1mINFO    \u001b[0m | \u001b[36msrc.beam.experiment\u001b[0m:\u001b[36mlog_data\u001b[0m:\u001b[36m443\u001b[0m - \u001b[1mtrain:\u001b[0m\n",
      "\u001b[32m2022-06-26 17:14:44.984\u001b[0m | \u001b[1mINFO    \u001b[0m | \u001b[36msrc.beam.experiment\u001b[0m:\u001b[36mlog_data\u001b[0m:\u001b[36m447\u001b[0m - \u001b[1mloss 611.534 \t|\u001b[0m\n",
      "\u001b[32m2022-06-26 17:14:44.985\u001b[0m | \u001b[1mINFO    \u001b[0m | \u001b[36msrc.beam.experiment\u001b[0m:\u001b[36mlog_data\u001b[0m:\u001b[36m447\u001b[0m - \u001b[1macc 0.93281 \t|\u001b[0m\n",
      "\u001b[32m2022-06-26 17:14:44.986\u001b[0m | \u001b[1mINFO    \u001b[0m | \u001b[36msrc.beam.experiment\u001b[0m:\u001b[36mlog_data\u001b[0m:\u001b[36m447\u001b[0m - \u001b[1mlr 0.0001 \t|\u001b[0m\n",
      "\u001b[32m2022-06-26 17:14:44.986\u001b[0m | \u001b[1mINFO    \u001b[0m | \u001b[36msrc.beam.experiment\u001b[0m:\u001b[36mlog_data\u001b[0m:\u001b[36m443\u001b[0m - \u001b[1mvalidation:\u001b[0m\n",
      "\u001b[32m2022-06-26 17:14:44.987\u001b[0m | \u001b[1mINFO    \u001b[0m | \u001b[36msrc.beam.experiment\u001b[0m:\u001b[36mlog_data\u001b[0m:\u001b[36m447\u001b[0m - \u001b[1mloss 635.118 \t|\u001b[0m\n",
      "\u001b[32m2022-06-26 17:14:44.987\u001b[0m | \u001b[1mINFO    \u001b[0m | \u001b[36msrc.beam.experiment\u001b[0m:\u001b[36mlog_data\u001b[0m:\u001b[36m447\u001b[0m - \u001b[1macc 0.921709 \t|\u001b[0m\n"
     ]
    },
    {
     "data": {
      "application/vnd.jupyter.widget-view+json": {
       "model_id": "20ec6bdb683d49bd8ef98403b5353d7f",
       "version_major": 2,
       "version_minor": 0
      },
      "text/plain": [
       "train:   0%|          | 0/339 [00:00<?, ?it/s]"
      ]
     },
     "metadata": {},
     "output_type": "display_data"
    },
    {
     "data": {
      "application/vnd.jupyter.widget-view+json": {
       "model_id": "78b0cc16a4bb4b03929387177f30e596",
       "version_major": 2,
       "version_minor": 0
      },
      "text/plain": [
       "validation:   0%|          | 0/112 [00:00<?, ?it/s]"
      ]
     },
     "metadata": {},
     "output_type": "display_data"
    },
    {
     "name": "stdout",
     "output_type": "stream",
     "text": [
      "\u001b[32m2022-06-26 17:16:30.566\u001b[0m | \u001b[1mINFO    \u001b[0m | \u001b[36msrc.beam.model\u001b[0m:\u001b[36mstep\u001b[0m:\u001b[36m590\u001b[0m - \u001b[1mbr was changed to 0.9070185213751153\u001b[0m\n",
      "\u001b[32m2022-06-26 17:16:30.567\u001b[0m | \u001b[1mINFO    \u001b[0m | \u001b[36msrc.beam.model\u001b[0m:\u001b[36mstep\u001b[0m:\u001b[36m591\u001b[0m - \u001b[1mlambda_llr was changed to 0.05045980934878566\u001b[0m\n",
      "\n",
      "\u001b[32m2022-06-26 17:16:30.568\u001b[0m | \u001b[1mINFO    \u001b[0m | \u001b[36msrc.beam.experiment\u001b[0m:\u001b[36msave_model_results\u001b[0m:\u001b[36m397\u001b[0m - \u001b[1mFinished epoch 62/100:\u001b[0m\n",
      "\u001b[32m2022-06-26 17:16:30.571\u001b[0m | \u001b[1mINFO    \u001b[0m | \u001b[36msrc.beam.experiment\u001b[0m:\u001b[36mlog_data\u001b[0m:\u001b[36m443\u001b[0m - \u001b[1mtrain:\u001b[0m\n",
      "\u001b[32m2022-06-26 17:16:30.572\u001b[0m | \u001b[1mINFO    \u001b[0m | \u001b[36msrc.beam.experiment\u001b[0m:\u001b[36mlog_data\u001b[0m:\u001b[36m447\u001b[0m - \u001b[1mloss 613.56 \t|\u001b[0m\n",
      "\u001b[32m2022-06-26 17:16:30.573\u001b[0m | \u001b[1mINFO    \u001b[0m | \u001b[36msrc.beam.experiment\u001b[0m:\u001b[36mlog_data\u001b[0m:\u001b[36m447\u001b[0m - \u001b[1macc 0.931952 \t|\u001b[0m\n",
      "\u001b[32m2022-06-26 17:16:30.575\u001b[0m | \u001b[1mINFO    \u001b[0m | \u001b[36msrc.beam.experiment\u001b[0m:\u001b[36mlog_data\u001b[0m:\u001b[36m447\u001b[0m - \u001b[1mlr 0.0001 \t|\u001b[0m\n",
      "\u001b[32m2022-06-26 17:16:30.576\u001b[0m | \u001b[1mINFO    \u001b[0m | \u001b[36msrc.beam.experiment\u001b[0m:\u001b[36mlog_data\u001b[0m:\u001b[36m443\u001b[0m - \u001b[1mvalidation:\u001b[0m\n",
      "\u001b[32m2022-06-26 17:16:30.577\u001b[0m | \u001b[1mINFO    \u001b[0m | \u001b[36msrc.beam.experiment\u001b[0m:\u001b[36mlog_data\u001b[0m:\u001b[36m447\u001b[0m - \u001b[1mloss 638.6 \t|\u001b[0m\n",
      "\u001b[32m2022-06-26 17:16:30.578\u001b[0m | \u001b[1mINFO    \u001b[0m | \u001b[36msrc.beam.experiment\u001b[0m:\u001b[36mlog_data\u001b[0m:\u001b[36m447\u001b[0m - \u001b[1macc 0.919756 \t|\u001b[0m\n"
     ]
    },
    {
     "data": {
      "application/vnd.jupyter.widget-view+json": {
       "model_id": "ab15f6db8a6b46fab03f48e1823a83b6",
       "version_major": 2,
       "version_minor": 0
      },
      "text/plain": [
       "train:   0%|          | 0/339 [00:00<?, ?it/s]"
      ]
     },
     "metadata": {},
     "output_type": "display_data"
    },
    {
     "data": {
      "application/vnd.jupyter.widget-view+json": {
       "model_id": "6808f86adb37445194f6e472d24d44f6",
       "version_major": 2,
       "version_minor": 0
      },
      "text/plain": [
       "validation:   0%|          | 0/112 [00:00<?, ?it/s]"
      ]
     },
     "metadata": {},
     "output_type": "display_data"
    },
    {
     "name": "stdout",
     "output_type": "stream",
     "text": [
      "\u001b[32m2022-06-26 17:18:16.383\u001b[0m | \u001b[1mINFO    \u001b[0m | \u001b[36msrc.beam.model\u001b[0m:\u001b[36mstep\u001b[0m:\u001b[36m590\u001b[0m - \u001b[1mbr was changed to 0.9046893847413208\u001b[0m\n",
      "\u001b[32m2022-06-26 17:18:16.385\u001b[0m | \u001b[1mINFO    \u001b[0m | \u001b[36msrc.beam.model\u001b[0m:\u001b[36mstep\u001b[0m:\u001b[36m591\u001b[0m - \u001b[1mlambda_llr was changed to 0.05145812163642704\u001b[0m\n",
      "\n",
      "\u001b[32m2022-06-26 17:18:16.386\u001b[0m | \u001b[1mINFO    \u001b[0m | \u001b[36msrc.beam.experiment\u001b[0m:\u001b[36msave_model_results\u001b[0m:\u001b[36m397\u001b[0m - \u001b[1mFinished epoch 63/100:\u001b[0m\n",
      "\u001b[32m2022-06-26 17:18:16.390\u001b[0m | \u001b[1mINFO    \u001b[0m | \u001b[36msrc.beam.experiment\u001b[0m:\u001b[36mlog_data\u001b[0m:\u001b[36m443\u001b[0m - \u001b[1mtrain:\u001b[0m\n",
      "\u001b[32m2022-06-26 17:18:16.391\u001b[0m | \u001b[1mINFO    \u001b[0m | \u001b[36msrc.beam.experiment\u001b[0m:\u001b[36mlog_data\u001b[0m:\u001b[36m447\u001b[0m - \u001b[1mloss 617.162 \t|\u001b[0m\n",
      "\u001b[32m2022-06-26 17:18:16.392\u001b[0m | \u001b[1mINFO    \u001b[0m | \u001b[36msrc.beam.experiment\u001b[0m:\u001b[36mlog_data\u001b[0m:\u001b[36m447\u001b[0m - \u001b[1macc 0.929881 \t|\u001b[0m\n",
      "\u001b[32m2022-06-26 17:18:16.393\u001b[0m | \u001b[1mINFO    \u001b[0m | \u001b[36msrc.beam.experiment\u001b[0m:\u001b[36mlog_data\u001b[0m:\u001b[36m447\u001b[0m - \u001b[1mlr 0.0001 \t|\u001b[0m\n",
      "\u001b[32m2022-06-26 17:18:16.394\u001b[0m | \u001b[1mINFO    \u001b[0m | \u001b[36msrc.beam.experiment\u001b[0m:\u001b[36mlog_data\u001b[0m:\u001b[36m443\u001b[0m - \u001b[1mvalidation:\u001b[0m\n",
      "\u001b[32m2022-06-26 17:18:16.395\u001b[0m | \u001b[1mINFO    \u001b[0m | \u001b[36msrc.beam.experiment\u001b[0m:\u001b[36mlog_data\u001b[0m:\u001b[36m447\u001b[0m - \u001b[1mloss 639.801 \t|\u001b[0m\n",
      "\u001b[32m2022-06-26 17:18:16.396\u001b[0m | \u001b[1mINFO    \u001b[0m | \u001b[36msrc.beam.experiment\u001b[0m:\u001b[36mlog_data\u001b[0m:\u001b[36m447\u001b[0m - \u001b[1macc 0.919591 \t|\u001b[0m\n"
     ]
    },
    {
     "data": {
      "application/vnd.jupyter.widget-view+json": {
       "model_id": "d04fdc9afbdd4e3caa8bb0585069f602",
       "version_major": 2,
       "version_minor": 0
      },
      "text/plain": [
       "train:   0%|          | 0/339 [00:00<?, ?it/s]"
      ]
     },
     "metadata": {},
     "output_type": "display_data"
    },
    {
     "data": {
      "application/vnd.jupyter.widget-view+json": {
       "model_id": "d73524493cec4e859fdc3e59a5e9d8af",
       "version_major": 2,
       "version_minor": 0
      },
      "text/plain": [
       "validation:   0%|          | 0/112 [00:00<?, ?it/s]"
      ]
     },
     "metadata": {},
     "output_type": "display_data"
    },
    {
     "name": "stdout",
     "output_type": "stream",
     "text": [
      "\u001b[32m2022-06-26 17:20:01.936\u001b[0m | \u001b[1mINFO    \u001b[0m | \u001b[36msrc.beam.model\u001b[0m:\u001b[36mstep\u001b[0m:\u001b[36m590\u001b[0m - \u001b[1mbr was changed to 0.9022202378241447\u001b[0m\n",
      "\u001b[32m2022-06-26 17:20:01.938\u001b[0m | \u001b[1mINFO    \u001b[0m | \u001b[36msrc.beam.model\u001b[0m:\u001b[36mstep\u001b[0m:\u001b[36m591\u001b[0m - \u001b[1mlambda_llr was changed to 0.05245717285075479\u001b[0m\n",
      "\n",
      "\u001b[32m2022-06-26 17:20:01.939\u001b[0m | \u001b[1mINFO    \u001b[0m | \u001b[36msrc.beam.experiment\u001b[0m:\u001b[36msave_model_results\u001b[0m:\u001b[36m397\u001b[0m - \u001b[1mFinished epoch 64/100:\u001b[0m\n",
      "\u001b[32m2022-06-26 17:20:01.942\u001b[0m | \u001b[1mINFO    \u001b[0m | \u001b[36msrc.beam.experiment\u001b[0m:\u001b[36mlog_data\u001b[0m:\u001b[36m443\u001b[0m - \u001b[1mtrain:\u001b[0m\n",
      "\u001b[32m2022-06-26 17:20:01.943\u001b[0m | \u001b[1mINFO    \u001b[0m | \u001b[36msrc.beam.experiment\u001b[0m:\u001b[36mlog_data\u001b[0m:\u001b[36m447\u001b[0m - \u001b[1mloss 618.836 \t|\u001b[0m\n",
      "\u001b[32m2022-06-26 17:20:01.944\u001b[0m | \u001b[1mINFO    \u001b[0m | \u001b[36msrc.beam.experiment\u001b[0m:\u001b[36mlog_data\u001b[0m:\u001b[36m447\u001b[0m - \u001b[1macc 0.928688 \t|\u001b[0m\n",
      "\u001b[32m2022-06-26 17:20:01.945\u001b[0m | \u001b[1mINFO    \u001b[0m | \u001b[36msrc.beam.experiment\u001b[0m:\u001b[36mlog_data\u001b[0m:\u001b[36m447\u001b[0m - \u001b[1mlr 0.0001 \t|\u001b[0m\n",
      "\u001b[32m2022-06-26 17:20:01.946\u001b[0m | \u001b[1mINFO    \u001b[0m | \u001b[36msrc.beam.experiment\u001b[0m:\u001b[36mlog_data\u001b[0m:\u001b[36m443\u001b[0m - \u001b[1mvalidation:\u001b[0m\n",
      "\u001b[32m2022-06-26 17:20:01.946\u001b[0m | \u001b[1mINFO    \u001b[0m | \u001b[36msrc.beam.experiment\u001b[0m:\u001b[36mlog_data\u001b[0m:\u001b[36m447\u001b[0m - \u001b[1mloss 643.458 \t|\u001b[0m\n",
      "\u001b[32m2022-06-26 17:20:01.947\u001b[0m | \u001b[1mINFO    \u001b[0m | \u001b[36msrc.beam.experiment\u001b[0m:\u001b[36mlog_data\u001b[0m:\u001b[36m447\u001b[0m - \u001b[1macc 0.917419 \t|\u001b[0m\n"
     ]
    },
    {
     "data": {
      "application/vnd.jupyter.widget-view+json": {
       "model_id": "2ecd90f79edd434e9f14ce6995bed4c2",
       "version_major": 2,
       "version_minor": 0
      },
      "text/plain": [
       "train:   0%|          | 0/339 [00:00<?, ?it/s]"
      ]
     },
     "metadata": {},
     "output_type": "display_data"
    },
    {
     "data": {
      "application/vnd.jupyter.widget-view+json": {
       "model_id": "89489b642ee94238b7f1dc758919ca18",
       "version_major": 2,
       "version_minor": 0
      },
      "text/plain": [
       "validation:   0%|          | 0/112 [00:00<?, ?it/s]"
      ]
     },
     "metadata": {},
     "output_type": "display_data"
    },
    {
     "name": "stdout",
     "output_type": "stream",
     "text": [
      "\u001b[32m2022-06-26 17:21:47.731\u001b[0m | \u001b[1mINFO    \u001b[0m | \u001b[36msrc.beam.model\u001b[0m:\u001b[36mstep\u001b[0m:\u001b[36m590\u001b[0m - \u001b[1mbr was changed to 0.8999201592125408\u001b[0m\n",
      "\u001b[32m2022-06-26 17:21:47.732\u001b[0m | \u001b[1mINFO    \u001b[0m | \u001b[36msrc.beam.model\u001b[0m:\u001b[36mstep\u001b[0m:\u001b[36m591\u001b[0m - \u001b[1mlambda_llr was changed to 0.053455199040098746\u001b[0m\n",
      "\n",
      "\u001b[32m2022-06-26 17:21:47.733\u001b[0m | \u001b[1mINFO    \u001b[0m | \u001b[36msrc.beam.experiment\u001b[0m:\u001b[36msave_model_results\u001b[0m:\u001b[36m397\u001b[0m - \u001b[1mFinished epoch 65/100:\u001b[0m\n",
      "\u001b[32m2022-06-26 17:21:47.736\u001b[0m | \u001b[1mINFO    \u001b[0m | \u001b[36msrc.beam.experiment\u001b[0m:\u001b[36mlog_data\u001b[0m:\u001b[36m443\u001b[0m - \u001b[1mtrain:\u001b[0m\n",
      "\u001b[32m2022-06-26 17:21:47.736\u001b[0m | \u001b[1mINFO    \u001b[0m | \u001b[36msrc.beam.experiment\u001b[0m:\u001b[36mlog_data\u001b[0m:\u001b[36m447\u001b[0m - \u001b[1mloss 620.572 \t|\u001b[0m\n",
      "\u001b[32m2022-06-26 17:21:47.737\u001b[0m | \u001b[1mINFO    \u001b[0m | \u001b[36msrc.beam.experiment\u001b[0m:\u001b[36mlog_data\u001b[0m:\u001b[36m447\u001b[0m - \u001b[1macc 0.927518 \t|\u001b[0m\n",
      "\u001b[32m2022-06-26 17:21:47.738\u001b[0m | \u001b[1mINFO    \u001b[0m | \u001b[36msrc.beam.experiment\u001b[0m:\u001b[36mlog_data\u001b[0m:\u001b[36m447\u001b[0m - \u001b[1mlr 0.0001 \t|\u001b[0m\n",
      "\u001b[32m2022-06-26 17:21:47.738\u001b[0m | \u001b[1mINFO    \u001b[0m | \u001b[36msrc.beam.experiment\u001b[0m:\u001b[36mlog_data\u001b[0m:\u001b[36m443\u001b[0m - \u001b[1mvalidation:\u001b[0m\n",
      "\u001b[32m2022-06-26 17:21:47.739\u001b[0m | \u001b[1mINFO    \u001b[0m | \u001b[36msrc.beam.experiment\u001b[0m:\u001b[36mlog_data\u001b[0m:\u001b[36m447\u001b[0m - \u001b[1mloss 642.814 \t|\u001b[0m\n",
      "\u001b[32m2022-06-26 17:21:47.740\u001b[0m | \u001b[1mINFO    \u001b[0m | \u001b[36msrc.beam.experiment\u001b[0m:\u001b[36mlog_data\u001b[0m:\u001b[36m447\u001b[0m - \u001b[1macc 0.917559 \t|\u001b[0m\n"
     ]
    },
    {
     "data": {
      "application/vnd.jupyter.widget-view+json": {
       "model_id": "4ffafeb8037e42fcb64f5fc9b0a7f3c8",
       "version_major": 2,
       "version_minor": 0
      },
      "text/plain": [
       "train:   0%|          | 0/339 [00:00<?, ?it/s]"
      ]
     },
     "metadata": {},
     "output_type": "display_data"
    },
    {
     "data": {
      "application/vnd.jupyter.widget-view+json": {
       "model_id": "f3bd227133aa4292a6b3de4994207f30",
       "version_major": 2,
       "version_minor": 0
      },
      "text/plain": [
       "validation:   0%|          | 0/112 [00:00<?, ?it/s]"
      ]
     },
     "metadata": {},
     "output_type": "display_data"
    },
    {
     "name": "stdout",
     "output_type": "stream",
     "text": [
      "\u001b[32m2022-06-26 17:23:33.453\u001b[0m | \u001b[1mINFO    \u001b[0m | \u001b[36msrc.beam.model\u001b[0m:\u001b[36mstep\u001b[0m:\u001b[36m590\u001b[0m - \u001b[1mbr was changed to 0.8975464877461379\u001b[0m\n",
      "\u001b[32m2022-06-26 17:23:33.454\u001b[0m | \u001b[1mINFO    \u001b[0m | \u001b[36msrc.beam.model\u001b[0m:\u001b[36mstep\u001b[0m:\u001b[36m591\u001b[0m - \u001b[1mlambda_llr was changed to 0.054453710223044995\u001b[0m\n",
      "\n",
      "\u001b[32m2022-06-26 17:23:33.455\u001b[0m | \u001b[1mINFO    \u001b[0m | \u001b[36msrc.beam.experiment\u001b[0m:\u001b[36msave_model_results\u001b[0m:\u001b[36m397\u001b[0m - \u001b[1mFinished epoch 66/100:\u001b[0m\n",
      "\u001b[32m2022-06-26 17:23:33.458\u001b[0m | \u001b[1mINFO    \u001b[0m | \u001b[36msrc.beam.experiment\u001b[0m:\u001b[36mlog_data\u001b[0m:\u001b[36m443\u001b[0m - \u001b[1mtrain:\u001b[0m\n",
      "\u001b[32m2022-06-26 17:23:33.459\u001b[0m | \u001b[1mINFO    \u001b[0m | \u001b[36msrc.beam.experiment\u001b[0m:\u001b[36mlog_data\u001b[0m:\u001b[36m447\u001b[0m - \u001b[1mloss 623.648 \t|\u001b[0m\n",
      "\u001b[32m2022-06-26 17:23:33.460\u001b[0m | \u001b[1mINFO    \u001b[0m | \u001b[36msrc.beam.experiment\u001b[0m:\u001b[36mlog_data\u001b[0m:\u001b[36m447\u001b[0m - \u001b[1macc 0.926216 \t|\u001b[0m\n",
      "\u001b[32m2022-06-26 17:23:33.461\u001b[0m | \u001b[1mINFO    \u001b[0m | \u001b[36msrc.beam.experiment\u001b[0m:\u001b[36mlog_data\u001b[0m:\u001b[36m447\u001b[0m - \u001b[1mlr 0.0001 \t|\u001b[0m\n",
      "\u001b[32m2022-06-26 17:23:33.462\u001b[0m | \u001b[1mINFO    \u001b[0m | \u001b[36msrc.beam.experiment\u001b[0m:\u001b[36mlog_data\u001b[0m:\u001b[36m443\u001b[0m - \u001b[1mvalidation:\u001b[0m\n",
      "\u001b[32m2022-06-26 17:23:33.462\u001b[0m | \u001b[1mINFO    \u001b[0m | \u001b[36msrc.beam.experiment\u001b[0m:\u001b[36mlog_data\u001b[0m:\u001b[36m447\u001b[0m - \u001b[1mloss 646.945 \t|\u001b[0m\n",
      "\u001b[32m2022-06-26 17:23:33.463\u001b[0m | \u001b[1mINFO    \u001b[0m | \u001b[36msrc.beam.experiment\u001b[0m:\u001b[36mlog_data\u001b[0m:\u001b[36m447\u001b[0m - \u001b[1macc 0.915562 \t|\u001b[0m\n"
     ]
    },
    {
     "data": {
      "application/vnd.jupyter.widget-view+json": {
       "model_id": "f477c27a06634a3599f81bbc2a00e9e6",
       "version_major": 2,
       "version_minor": 0
      },
      "text/plain": [
       "train:   0%|          | 0/339 [00:00<?, ?it/s]"
      ]
     },
     "metadata": {},
     "output_type": "display_data"
    },
    {
     "data": {
      "application/vnd.jupyter.widget-view+json": {
       "model_id": "fdb5a4cb6aec4d358eb4a23ec071c1e1",
       "version_major": 2,
       "version_minor": 0
      },
      "text/plain": [
       "validation:   0%|          | 0/112 [00:00<?, ?it/s]"
      ]
     },
     "metadata": {},
     "output_type": "display_data"
    },
    {
     "name": "stdout",
     "output_type": "stream",
     "text": [
      "\u001b[32m2022-06-26 17:25:19.437\u001b[0m | \u001b[1mINFO    \u001b[0m | \u001b[36msrc.beam.model\u001b[0m:\u001b[36mstep\u001b[0m:\u001b[36m590\u001b[0m - \u001b[1mbr was changed to 0.8952103460625955\u001b[0m\n",
      "\u001b[32m2022-06-26 17:25:19.439\u001b[0m | \u001b[1mINFO    \u001b[0m | \u001b[36msrc.beam.model\u001b[0m:\u001b[36mstep\u001b[0m:\u001b[36m591\u001b[0m - \u001b[1mlambda_llr was changed to 0.05545200640593434\u001b[0m\n",
      "\n",
      "\u001b[32m2022-06-26 17:25:19.440\u001b[0m | \u001b[1mINFO    \u001b[0m | \u001b[36msrc.beam.experiment\u001b[0m:\u001b[36msave_model_results\u001b[0m:\u001b[36m397\u001b[0m - \u001b[1mFinished epoch 67/100:\u001b[0m\n",
      "\u001b[32m2022-06-26 17:25:19.444\u001b[0m | \u001b[1mINFO    \u001b[0m | \u001b[36msrc.beam.experiment\u001b[0m:\u001b[36mlog_data\u001b[0m:\u001b[36m443\u001b[0m - \u001b[1mtrain:\u001b[0m\n",
      "\u001b[32m2022-06-26 17:25:19.445\u001b[0m | \u001b[1mINFO    \u001b[0m | \u001b[36msrc.beam.experiment\u001b[0m:\u001b[36mlog_data\u001b[0m:\u001b[36m447\u001b[0m - \u001b[1mloss 624.942 \t|\u001b[0m\n",
      "\u001b[32m2022-06-26 17:25:19.446\u001b[0m | \u001b[1mINFO    \u001b[0m | \u001b[36msrc.beam.experiment\u001b[0m:\u001b[36mlog_data\u001b[0m:\u001b[36m447\u001b[0m - \u001b[1macc 0.925582 \t|\u001b[0m\n",
      "\u001b[32m2022-06-26 17:25:19.447\u001b[0m | \u001b[1mINFO    \u001b[0m | \u001b[36msrc.beam.experiment\u001b[0m:\u001b[36mlog_data\u001b[0m:\u001b[36m447\u001b[0m - \u001b[1mlr 0.0001 \t|\u001b[0m\n",
      "\u001b[32m2022-06-26 17:25:19.448\u001b[0m | \u001b[1mINFO    \u001b[0m | \u001b[36msrc.beam.experiment\u001b[0m:\u001b[36mlog_data\u001b[0m:\u001b[36m443\u001b[0m - \u001b[1mvalidation:\u001b[0m\n",
      "\u001b[32m2022-06-26 17:25:19.449\u001b[0m | \u001b[1mINFO    \u001b[0m | \u001b[36msrc.beam.experiment\u001b[0m:\u001b[36mlog_data\u001b[0m:\u001b[36m447\u001b[0m - \u001b[1mloss 647.834 \t|\u001b[0m\n",
      "\u001b[32m2022-06-26 17:25:19.450\u001b[0m | \u001b[1mINFO    \u001b[0m | \u001b[36msrc.beam.experiment\u001b[0m:\u001b[36mlog_data\u001b[0m:\u001b[36m447\u001b[0m - \u001b[1macc 0.915022 \t|\u001b[0m\n"
     ]
    },
    {
     "data": {
      "application/vnd.jupyter.widget-view+json": {
       "model_id": "f5bad5d182254b4b896c279ca82dac70",
       "version_major": 2,
       "version_minor": 0
      },
      "text/plain": [
       "train:   0%|          | 0/339 [00:00<?, ?it/s]"
      ]
     },
     "metadata": {},
     "output_type": "display_data"
    },
    {
     "data": {
      "application/vnd.jupyter.widget-view+json": {
       "model_id": "f27688e8b4174da8b9ec94a562ff157c",
       "version_major": 2,
       "version_minor": 0
      },
      "text/plain": [
       "validation:   0%|          | 0/112 [00:00<?, ?it/s]"
      ]
     },
     "metadata": {},
     "output_type": "display_data"
    },
    {
     "name": "stdout",
     "output_type": "stream",
     "text": [
      "\u001b[32m2022-06-26 17:27:05.263\u001b[0m | \u001b[1mINFO    \u001b[0m | \u001b[36msrc.beam.model\u001b[0m:\u001b[36mstep\u001b[0m:\u001b[36m590\u001b[0m - \u001b[1mbr was changed to 0.8930543617470578\u001b[0m\n",
      "\u001b[32m2022-06-26 17:27:05.264\u001b[0m | \u001b[1mINFO    \u001b[0m | \u001b[36msrc.beam.model\u001b[0m:\u001b[36mstep\u001b[0m:\u001b[36m591\u001b[0m - \u001b[1mlambda_llr was changed to 0.05644820896508372\u001b[0m\n",
      "\n",
      "\u001b[32m2022-06-26 17:27:05.265\u001b[0m | \u001b[1mINFO    \u001b[0m | \u001b[36msrc.beam.experiment\u001b[0m:\u001b[36msave_model_results\u001b[0m:\u001b[36m397\u001b[0m - \u001b[1mFinished epoch 68/100:\u001b[0m\n",
      "\u001b[32m2022-06-26 17:27:05.268\u001b[0m | \u001b[1mINFO    \u001b[0m | \u001b[36msrc.beam.experiment\u001b[0m:\u001b[36mlog_data\u001b[0m:\u001b[36m443\u001b[0m - \u001b[1mtrain:\u001b[0m\n",
      "\u001b[32m2022-06-26 17:27:05.268\u001b[0m | \u001b[1mINFO    \u001b[0m | \u001b[36msrc.beam.experiment\u001b[0m:\u001b[36mlog_data\u001b[0m:\u001b[36m447\u001b[0m - \u001b[1mloss 627.898 \t|\u001b[0m\n",
      "\u001b[32m2022-06-26 17:27:05.269\u001b[0m | \u001b[1mINFO    \u001b[0m | \u001b[36msrc.beam.experiment\u001b[0m:\u001b[36mlog_data\u001b[0m:\u001b[36m447\u001b[0m - \u001b[1macc 0.924174 \t|\u001b[0m\n",
      "\u001b[32m2022-06-26 17:27:05.270\u001b[0m | \u001b[1mINFO    \u001b[0m | \u001b[36msrc.beam.experiment\u001b[0m:\u001b[36mlog_data\u001b[0m:\u001b[36m447\u001b[0m - \u001b[1mlr 0.0001 \t|\u001b[0m\n",
      "\u001b[32m2022-06-26 17:27:05.270\u001b[0m | \u001b[1mINFO    \u001b[0m | \u001b[36msrc.beam.experiment\u001b[0m:\u001b[36mlog_data\u001b[0m:\u001b[36m443\u001b[0m - \u001b[1mvalidation:\u001b[0m\n",
      "\u001b[32m2022-06-26 17:27:05.271\u001b[0m | \u001b[1mINFO    \u001b[0m | \u001b[36msrc.beam.experiment\u001b[0m:\u001b[36mlog_data\u001b[0m:\u001b[36m447\u001b[0m - \u001b[1mloss 648.202 \t|\u001b[0m\n",
      "\u001b[32m2022-06-26 17:27:05.272\u001b[0m | \u001b[1mINFO    \u001b[0m | \u001b[36msrc.beam.experiment\u001b[0m:\u001b[36mlog_data\u001b[0m:\u001b[36m447\u001b[0m - \u001b[1macc 0.914464 \t|\u001b[0m\n"
     ]
    },
    {
     "data": {
      "application/vnd.jupyter.widget-view+json": {
       "model_id": "b79e4eddbe8d48dcafa7a1496a7d4583",
       "version_major": 2,
       "version_minor": 0
      },
      "text/plain": [
       "train:   0%|          | 0/339 [00:00<?, ?it/s]"
      ]
     },
     "metadata": {},
     "output_type": "display_data"
    },
    {
     "data": {
      "application/vnd.jupyter.widget-view+json": {
       "model_id": "311b8dbd7354476a8d21ee6a2b70b37b",
       "version_major": 2,
       "version_minor": 0
      },
      "text/plain": [
       "validation:   0%|          | 0/112 [00:00<?, ?it/s]"
      ]
     },
     "metadata": {},
     "output_type": "display_data"
    },
    {
     "name": "stdout",
     "output_type": "stream",
     "text": [
      "\u001b[32m2022-06-26 17:28:51.291\u001b[0m | \u001b[1mINFO    \u001b[0m | \u001b[36msrc.beam.model\u001b[0m:\u001b[36mstep\u001b[0m:\u001b[36m590\u001b[0m - \u001b[1mbr was changed to 0.8907839980346787\u001b[0m\n",
      "\u001b[32m2022-06-26 17:28:51.293\u001b[0m | \u001b[1mINFO    \u001b[0m | \u001b[36msrc.beam.model\u001b[0m:\u001b[36mstep\u001b[0m:\u001b[36m591\u001b[0m - \u001b[1mlambda_llr was changed to 0.05744582799697216\u001b[0m\n",
      "\n",
      "\u001b[32m2022-06-26 17:28:51.295\u001b[0m | \u001b[1mINFO    \u001b[0m | \u001b[36msrc.beam.experiment\u001b[0m:\u001b[36msave_model_results\u001b[0m:\u001b[36m397\u001b[0m - \u001b[1mFinished epoch 69/100:\u001b[0m\n",
      "\u001b[32m2022-06-26 17:28:51.298\u001b[0m | \u001b[1mINFO    \u001b[0m | \u001b[36msrc.beam.experiment\u001b[0m:\u001b[36mlog_data\u001b[0m:\u001b[36m443\u001b[0m - \u001b[1mtrain:\u001b[0m\n",
      "\u001b[32m2022-06-26 17:28:51.300\u001b[0m | \u001b[1mINFO    \u001b[0m | \u001b[36msrc.beam.experiment\u001b[0m:\u001b[36mlog_data\u001b[0m:\u001b[36m447\u001b[0m - \u001b[1mloss 628.839 \t|\u001b[0m\n",
      "\u001b[32m2022-06-26 17:28:51.301\u001b[0m | \u001b[1mINFO    \u001b[0m | \u001b[36msrc.beam.experiment\u001b[0m:\u001b[36mlog_data\u001b[0m:\u001b[36m447\u001b[0m - \u001b[1macc 0.923122 \t|\u001b[0m\n",
      "\u001b[32m2022-06-26 17:28:51.301\u001b[0m | \u001b[1mINFO    \u001b[0m | \u001b[36msrc.beam.experiment\u001b[0m:\u001b[36mlog_data\u001b[0m:\u001b[36m447\u001b[0m - \u001b[1mlr 0.0001 \t|\u001b[0m\n",
      "\u001b[32m2022-06-26 17:28:51.302\u001b[0m | \u001b[1mINFO    \u001b[0m | \u001b[36msrc.beam.experiment\u001b[0m:\u001b[36mlog_data\u001b[0m:\u001b[36m443\u001b[0m - \u001b[1mvalidation:\u001b[0m\n",
      "\u001b[32m2022-06-26 17:28:51.303\u001b[0m | \u001b[1mINFO    \u001b[0m | \u001b[36msrc.beam.experiment\u001b[0m:\u001b[36mlog_data\u001b[0m:\u001b[36m447\u001b[0m - \u001b[1mloss 650.744 \t|\u001b[0m\n",
      "\u001b[32m2022-06-26 17:28:51.303\u001b[0m | \u001b[1mINFO    \u001b[0m | \u001b[36msrc.beam.experiment\u001b[0m:\u001b[36mlog_data\u001b[0m:\u001b[36m447\u001b[0m - \u001b[1macc 0.913391 \t|\u001b[0m\n"
     ]
    },
    {
     "data": {
      "application/vnd.jupyter.widget-view+json": {
       "model_id": "3894d32b41e34f0194369eebcddc22d4",
       "version_major": 2,
       "version_minor": 0
      },
      "text/plain": [
       "train:   0%|          | 0/339 [00:00<?, ?it/s]"
      ]
     },
     "metadata": {},
     "output_type": "display_data"
    },
    {
     "data": {
      "application/vnd.jupyter.widget-view+json": {
       "model_id": "c13992edc57b4acc8db121228ae11554",
       "version_major": 2,
       "version_minor": 0
      },
      "text/plain": [
       "validation:   0%|          | 0/112 [00:00<?, ?it/s]"
      ]
     },
     "metadata": {},
     "output_type": "display_data"
    },
    {
     "name": "stdout",
     "output_type": "stream",
     "text": [
      "\u001b[32m2022-06-26 17:30:37.209\u001b[0m | \u001b[1mINFO    \u001b[0m | \u001b[36msrc.beam.model\u001b[0m:\u001b[36mstep\u001b[0m:\u001b[36m590\u001b[0m - \u001b[1mbr was changed to 0.8884114710435815\u001b[0m\n",
      "\u001b[32m2022-06-26 17:30:37.211\u001b[0m | \u001b[1mINFO    \u001b[0m | \u001b[36msrc.beam.model\u001b[0m:\u001b[36mstep\u001b[0m:\u001b[36m591\u001b[0m - \u001b[1mlambda_llr was changed to 0.058444413197431246\u001b[0m\n",
      "Epoch 00070: reducing learning rate of group 0 to 3.1623e-05.\n",
      "Epoch 00070: reducing learning rate of group 0 to 6.3246e-04.\n",
      "\n",
      "\u001b[32m2022-06-26 17:30:37.212\u001b[0m | \u001b[1mINFO    \u001b[0m | \u001b[36msrc.beam.experiment\u001b[0m:\u001b[36msave_model_results\u001b[0m:\u001b[36m397\u001b[0m - \u001b[1mFinished epoch 70/100:\u001b[0m\n",
      "\u001b[32m2022-06-26 17:30:37.215\u001b[0m | \u001b[1mINFO    \u001b[0m | \u001b[36msrc.beam.experiment\u001b[0m:\u001b[36mlog_data\u001b[0m:\u001b[36m443\u001b[0m - \u001b[1mtrain:\u001b[0m\n",
      "\u001b[32m2022-06-26 17:30:37.216\u001b[0m | \u001b[1mINFO    \u001b[0m | \u001b[36msrc.beam.experiment\u001b[0m:\u001b[36mlog_data\u001b[0m:\u001b[36m447\u001b[0m - \u001b[1mloss 631.18 \t|\u001b[0m\n",
      "\u001b[32m2022-06-26 17:30:37.216\u001b[0m | \u001b[1mINFO    \u001b[0m | \u001b[36msrc.beam.experiment\u001b[0m:\u001b[36mlog_data\u001b[0m:\u001b[36m447\u001b[0m - \u001b[1macc 0.921829 \t|\u001b[0m\n",
      "\u001b[32m2022-06-26 17:30:37.217\u001b[0m | \u001b[1mINFO    \u001b[0m | \u001b[36msrc.beam.experiment\u001b[0m:\u001b[36mlog_data\u001b[0m:\u001b[36m447\u001b[0m - \u001b[1mlr 0.0001 \t|\u001b[0m\n",
      "\u001b[32m2022-06-26 17:30:37.218\u001b[0m | \u001b[1mINFO    \u001b[0m | \u001b[36msrc.beam.experiment\u001b[0m:\u001b[36mlog_data\u001b[0m:\u001b[36m443\u001b[0m - \u001b[1mvalidation:\u001b[0m\n",
      "\u001b[32m2022-06-26 17:30:37.218\u001b[0m | \u001b[1mINFO    \u001b[0m | \u001b[36msrc.beam.experiment\u001b[0m:\u001b[36mlog_data\u001b[0m:\u001b[36m447\u001b[0m - \u001b[1mloss 654.932 \t|\u001b[0m\n",
      "\u001b[32m2022-06-26 17:30:37.219\u001b[0m | \u001b[1mINFO    \u001b[0m | \u001b[36msrc.beam.experiment\u001b[0m:\u001b[36mlog_data\u001b[0m:\u001b[36m447\u001b[0m - \u001b[1macc 0.910784 \t|\u001b[0m\n"
     ]
    },
    {
     "data": {
      "application/vnd.jupyter.widget-view+json": {
       "model_id": "6ac06f730e4f407abee5771e4ff12cf8",
       "version_major": 2,
       "version_minor": 0
      },
      "text/plain": [
       "train:   0%|          | 0/339 [00:00<?, ?it/s]"
      ]
     },
     "metadata": {},
     "output_type": "display_data"
    },
    {
     "data": {
      "application/vnd.jupyter.widget-view+json": {
       "model_id": "f505e06de97e457da0bfb6aae972303b",
       "version_major": 2,
       "version_minor": 0
      },
      "text/plain": [
       "validation:   0%|          | 0/112 [00:00<?, ?it/s]"
      ]
     },
     "metadata": {},
     "output_type": "display_data"
    },
    {
     "name": "stdout",
     "output_type": "stream",
     "text": [
      "\u001b[32m2022-06-26 17:32:23.054\u001b[0m | \u001b[1mINFO    \u001b[0m | \u001b[36msrc.beam.model\u001b[0m:\u001b[36mstep\u001b[0m:\u001b[36m590\u001b[0m - \u001b[1mbr was changed to 0.8861838563719451\u001b[0m\n",
      "\u001b[32m2022-06-26 17:32:23.055\u001b[0m | \u001b[1mINFO    \u001b[0m | \u001b[36msrc.beam.model\u001b[0m:\u001b[36mstep\u001b[0m:\u001b[36m591\u001b[0m - \u001b[1mlambda_llr was changed to 0.059441793831619634\u001b[0m\n",
      "\n",
      "\u001b[32m2022-06-26 17:32:23.057\u001b[0m | \u001b[1mINFO    \u001b[0m | \u001b[36msrc.beam.experiment\u001b[0m:\u001b[36msave_model_results\u001b[0m:\u001b[36m397\u001b[0m - \u001b[1mFinished epoch 71/100:\u001b[0m\n",
      "\u001b[32m2022-06-26 17:32:23.062\u001b[0m | \u001b[1mINFO    \u001b[0m | \u001b[36msrc.beam.experiment\u001b[0m:\u001b[36mlog_data\u001b[0m:\u001b[36m443\u001b[0m - \u001b[1mtrain:\u001b[0m\n",
      "\u001b[32m2022-06-26 17:32:23.063\u001b[0m | \u001b[1mINFO    \u001b[0m | \u001b[36msrc.beam.experiment\u001b[0m:\u001b[36mlog_data\u001b[0m:\u001b[36m447\u001b[0m - \u001b[1mloss 630.626 \t|\u001b[0m\n",
      "\u001b[32m2022-06-26 17:32:23.064\u001b[0m | \u001b[1mINFO    \u001b[0m | \u001b[36msrc.beam.experiment\u001b[0m:\u001b[36mlog_data\u001b[0m:\u001b[36m447\u001b[0m - \u001b[1macc 0.922252 \t|\u001b[0m\n",
      "\u001b[32m2022-06-26 17:32:23.065\u001b[0m | \u001b[1mINFO    \u001b[0m | \u001b[36msrc.beam.experiment\u001b[0m:\u001b[36mlog_data\u001b[0m:\u001b[36m447\u001b[0m - \u001b[1mlr 3.16228e-05 \t|\u001b[0m\n",
      "\u001b[32m2022-06-26 17:32:23.065\u001b[0m | \u001b[1mINFO    \u001b[0m | \u001b[36msrc.beam.experiment\u001b[0m:\u001b[36mlog_data\u001b[0m:\u001b[36m443\u001b[0m - \u001b[1mvalidation:\u001b[0m\n",
      "\u001b[32m2022-06-26 17:32:23.066\u001b[0m | \u001b[1mINFO    \u001b[0m | \u001b[36msrc.beam.experiment\u001b[0m:\u001b[36mlog_data\u001b[0m:\u001b[36m447\u001b[0m - \u001b[1mloss 652.27 \t|\u001b[0m\n",
      "\u001b[32m2022-06-26 17:32:23.066\u001b[0m | \u001b[1mINFO    \u001b[0m | \u001b[36msrc.beam.experiment\u001b[0m:\u001b[36mlog_data\u001b[0m:\u001b[36m447\u001b[0m - \u001b[1macc 0.912772 \t|\u001b[0m\n"
     ]
    },
    {
     "data": {
      "application/vnd.jupyter.widget-view+json": {
       "model_id": "a83d15a0aa374d3a8f80c462157d7901",
       "version_major": 2,
       "version_minor": 0
      },
      "text/plain": [
       "train:   0%|          | 0/339 [00:00<?, ?it/s]"
      ]
     },
     "metadata": {},
     "output_type": "display_data"
    },
    {
     "data": {
      "application/vnd.jupyter.widget-view+json": {
       "model_id": "e45122857d8b4e16a2bd4cfd1e644a8c",
       "version_major": 2,
       "version_minor": 0
      },
      "text/plain": [
       "validation:   0%|          | 0/112 [00:00<?, ?it/s]"
      ]
     },
     "metadata": {},
     "output_type": "display_data"
    },
    {
     "name": "stdout",
     "output_type": "stream",
     "text": [
      "\u001b[32m2022-06-26 17:34:08.921\u001b[0m | \u001b[1mINFO    \u001b[0m | \u001b[36msrc.beam.model\u001b[0m:\u001b[36mstep\u001b[0m:\u001b[36m590\u001b[0m - \u001b[1mbr was changed to 0.8838234108339372\u001b[0m\n",
      "\u001b[32m2022-06-26 17:34:08.922\u001b[0m | \u001b[1mINFO    \u001b[0m | \u001b[36msrc.beam.model\u001b[0m:\u001b[36mstep\u001b[0m:\u001b[36m591\u001b[0m - \u001b[1mlambda_llr was changed to 0.06044030320525831\u001b[0m\n",
      "\n",
      "\u001b[32m2022-06-26 17:34:08.924\u001b[0m | \u001b[1mINFO    \u001b[0m | \u001b[36msrc.beam.experiment\u001b[0m:\u001b[36msave_model_results\u001b[0m:\u001b[36m397\u001b[0m - \u001b[1mFinished epoch 72/100:\u001b[0m\n",
      "\u001b[32m2022-06-26 17:34:08.927\u001b[0m | \u001b[1mINFO    \u001b[0m | \u001b[36msrc.beam.experiment\u001b[0m:\u001b[36mlog_data\u001b[0m:\u001b[36m443\u001b[0m - \u001b[1mtrain:\u001b[0m\n",
      "\u001b[32m2022-06-26 17:34:08.927\u001b[0m | \u001b[1mINFO    \u001b[0m | \u001b[36msrc.beam.experiment\u001b[0m:\u001b[36mlog_data\u001b[0m:\u001b[36m447\u001b[0m - \u001b[1mloss 632.272 \t|\u001b[0m\n",
      "\u001b[32m2022-06-26 17:34:08.928\u001b[0m | \u001b[1mINFO    \u001b[0m | \u001b[36msrc.beam.experiment\u001b[0m:\u001b[36mlog_data\u001b[0m:\u001b[36m447\u001b[0m - \u001b[1macc 0.922209 \t|\u001b[0m\n",
      "\u001b[32m2022-06-26 17:34:08.929\u001b[0m | \u001b[1mINFO    \u001b[0m | \u001b[36msrc.beam.experiment\u001b[0m:\u001b[36mlog_data\u001b[0m:\u001b[36m447\u001b[0m - \u001b[1mlr 3.16228e-05 \t|\u001b[0m\n",
      "\u001b[32m2022-06-26 17:34:08.930\u001b[0m | \u001b[1mINFO    \u001b[0m | \u001b[36msrc.beam.experiment\u001b[0m:\u001b[36mlog_data\u001b[0m:\u001b[36m443\u001b[0m - \u001b[1mvalidation:\u001b[0m\n",
      "\u001b[32m2022-06-26 17:34:08.931\u001b[0m | \u001b[1mINFO    \u001b[0m | \u001b[36msrc.beam.experiment\u001b[0m:\u001b[36mlog_data\u001b[0m:\u001b[36m447\u001b[0m - \u001b[1mloss 655.887 \t|\u001b[0m\n",
      "\u001b[32m2022-06-26 17:34:08.932\u001b[0m | \u001b[1mINFO    \u001b[0m | \u001b[36msrc.beam.experiment\u001b[0m:\u001b[36mlog_data\u001b[0m:\u001b[36m447\u001b[0m - \u001b[1macc 0.911665 \t|\u001b[0m\n"
     ]
    },
    {
     "data": {
      "application/vnd.jupyter.widget-view+json": {
       "model_id": "c522007b68eb4cb8b3408ff14f26fae9",
       "version_major": 2,
       "version_minor": 0
      },
      "text/plain": [
       "train:   0%|          | 0/339 [00:00<?, ?it/s]"
      ]
     },
     "metadata": {},
     "output_type": "display_data"
    },
    {
     "data": {
      "application/vnd.jupyter.widget-view+json": {
       "model_id": "faee34cebb3e4dcca7aab541a2bc8ada",
       "version_major": 2,
       "version_minor": 0
      },
      "text/plain": [
       "validation:   0%|          | 0/112 [00:00<?, ?it/s]"
      ]
     },
     "metadata": {},
     "output_type": "display_data"
    },
    {
     "name": "stdout",
     "output_type": "stream",
     "text": [
      "\u001b[32m2022-06-26 17:35:54.698\u001b[0m | \u001b[1mINFO    \u001b[0m | \u001b[36msrc.beam.model\u001b[0m:\u001b[36mstep\u001b[0m:\u001b[36m590\u001b[0m - \u001b[1mbr was changed to 0.8815767131273213\u001b[0m\n",
      "\u001b[32m2022-06-26 17:35:54.700\u001b[0m | \u001b[1mINFO    \u001b[0m | \u001b[36msrc.beam.model\u001b[0m:\u001b[36mstep\u001b[0m:\u001b[36m591\u001b[0m - \u001b[1mlambda_llr was changed to 0.061437955888237465\u001b[0m\n",
      "\n",
      "\u001b[32m2022-06-26 17:35:54.702\u001b[0m | \u001b[1mINFO    \u001b[0m | \u001b[36msrc.beam.experiment\u001b[0m:\u001b[36msave_model_results\u001b[0m:\u001b[36m397\u001b[0m - \u001b[1mFinished epoch 73/100:\u001b[0m\n",
      "\u001b[32m2022-06-26 17:35:54.705\u001b[0m | \u001b[1mINFO    \u001b[0m | \u001b[36msrc.beam.experiment\u001b[0m:\u001b[36mlog_data\u001b[0m:\u001b[36m443\u001b[0m - \u001b[1mtrain:\u001b[0m\n",
      "\u001b[32m2022-06-26 17:35:54.706\u001b[0m | \u001b[1mINFO    \u001b[0m | \u001b[36msrc.beam.experiment\u001b[0m:\u001b[36mlog_data\u001b[0m:\u001b[36m447\u001b[0m - \u001b[1mloss 635.645 \t|\u001b[0m\n",
      "\u001b[32m2022-06-26 17:35:54.707\u001b[0m | \u001b[1mINFO    \u001b[0m | \u001b[36msrc.beam.experiment\u001b[0m:\u001b[36mlog_data\u001b[0m:\u001b[36m447\u001b[0m - \u001b[1macc 0.920129 \t|\u001b[0m\n",
      "\u001b[32m2022-06-26 17:35:54.709\u001b[0m | \u001b[1mINFO    \u001b[0m | \u001b[36msrc.beam.experiment\u001b[0m:\u001b[36mlog_data\u001b[0m:\u001b[36m447\u001b[0m - \u001b[1mlr 3.16228e-05 \t|\u001b[0m\n",
      "\u001b[32m2022-06-26 17:35:54.710\u001b[0m | \u001b[1mINFO    \u001b[0m | \u001b[36msrc.beam.experiment\u001b[0m:\u001b[36mlog_data\u001b[0m:\u001b[36m443\u001b[0m - \u001b[1mvalidation:\u001b[0m\n",
      "\u001b[32m2022-06-26 17:35:54.710\u001b[0m | \u001b[1mINFO    \u001b[0m | \u001b[36msrc.beam.experiment\u001b[0m:\u001b[36mlog_data\u001b[0m:\u001b[36m447\u001b[0m - \u001b[1mloss 657.835 \t|\u001b[0m\n",
      "\u001b[32m2022-06-26 17:35:54.711\u001b[0m | \u001b[1mINFO    \u001b[0m | \u001b[36msrc.beam.experiment\u001b[0m:\u001b[36mlog_data\u001b[0m:\u001b[36m447\u001b[0m - \u001b[1macc 0.910461 \t|\u001b[0m\n"
     ]
    },
    {
     "data": {
      "application/vnd.jupyter.widget-view+json": {
       "model_id": "5be2c565f0084ef7b3158b58ae3e13ef",
       "version_major": 2,
       "version_minor": 0
      },
      "text/plain": [
       "train:   0%|          | 0/339 [00:00<?, ?it/s]"
      ]
     },
     "metadata": {},
     "output_type": "display_data"
    },
    {
     "data": {
      "application/vnd.jupyter.widget-view+json": {
       "model_id": "697249fcd0f24dad8f0a13bd4007bcab",
       "version_major": 2,
       "version_minor": 0
      },
      "text/plain": [
       "validation:   0%|          | 0/112 [00:00<?, ?it/s]"
      ]
     },
     "metadata": {},
     "output_type": "display_data"
    },
    {
     "name": "stdout",
     "output_type": "stream",
     "text": [
      "\u001b[32m2022-06-26 17:37:39.906\u001b[0m | \u001b[1mINFO    \u001b[0m | \u001b[36msrc.beam.model\u001b[0m:\u001b[36mstep\u001b[0m:\u001b[36m590\u001b[0m - \u001b[1mbr was changed to 0.8793890163048753\u001b[0m\n",
      "\u001b[32m2022-06-26 17:37:39.907\u001b[0m | \u001b[1mINFO    \u001b[0m | \u001b[36msrc.beam.model\u001b[0m:\u001b[36mstep\u001b[0m:\u001b[36m591\u001b[0m - \u001b[1mlambda_llr was changed to 0.06243484639787019\u001b[0m\n",
      "\n",
      "\u001b[32m2022-06-26 17:37:39.908\u001b[0m | \u001b[1mINFO    \u001b[0m | \u001b[36msrc.beam.experiment\u001b[0m:\u001b[36msave_model_results\u001b[0m:\u001b[36m397\u001b[0m - \u001b[1mFinished epoch 74/100:\u001b[0m\n",
      "\u001b[32m2022-06-26 17:37:39.912\u001b[0m | \u001b[1mINFO    \u001b[0m | \u001b[36msrc.beam.experiment\u001b[0m:\u001b[36mlog_data\u001b[0m:\u001b[36m443\u001b[0m - \u001b[1mtrain:\u001b[0m\n",
      "\u001b[32m2022-06-26 17:37:39.913\u001b[0m | \u001b[1mINFO    \u001b[0m | \u001b[36msrc.beam.experiment\u001b[0m:\u001b[36mlog_data\u001b[0m:\u001b[36m447\u001b[0m - \u001b[1mloss 637.606 \t|\u001b[0m\n",
      "\u001b[32m2022-06-26 17:37:39.914\u001b[0m | \u001b[1mINFO    \u001b[0m | \u001b[36msrc.beam.experiment\u001b[0m:\u001b[36mlog_data\u001b[0m:\u001b[36m447\u001b[0m - \u001b[1macc 0.918833 \t|\u001b[0m\n",
      "\u001b[32m2022-06-26 17:37:39.915\u001b[0m | \u001b[1mINFO    \u001b[0m | \u001b[36msrc.beam.experiment\u001b[0m:\u001b[36mlog_data\u001b[0m:\u001b[36m447\u001b[0m - \u001b[1mlr 3.16228e-05 \t|\u001b[0m\n",
      "\u001b[32m2022-06-26 17:37:39.916\u001b[0m | \u001b[1mINFO    \u001b[0m | \u001b[36msrc.beam.experiment\u001b[0m:\u001b[36mlog_data\u001b[0m:\u001b[36m443\u001b[0m - \u001b[1mvalidation:\u001b[0m\n",
      "\u001b[32m2022-06-26 17:37:39.917\u001b[0m | \u001b[1mINFO    \u001b[0m | \u001b[36msrc.beam.experiment\u001b[0m:\u001b[36mlog_data\u001b[0m:\u001b[36m447\u001b[0m - \u001b[1mloss 658.905 \t|\u001b[0m\n",
      "\u001b[32m2022-06-26 17:37:39.918\u001b[0m | \u001b[1mINFO    \u001b[0m | \u001b[36msrc.beam.experiment\u001b[0m:\u001b[36mlog_data\u001b[0m:\u001b[36m447\u001b[0m - \u001b[1macc 0.908909 \t|\u001b[0m\n"
     ]
    },
    {
     "data": {
      "application/vnd.jupyter.widget-view+json": {
       "model_id": "ead8f5bbda314b98aeed5e0008df80a2",
       "version_major": 2,
       "version_minor": 0
      },
      "text/plain": [
       "train:   0%|          | 0/339 [00:00<?, ?it/s]"
      ]
     },
     "metadata": {},
     "output_type": "display_data"
    },
    {
     "data": {
      "application/vnd.jupyter.widget-view+json": {
       "model_id": "d1dd7501fc5c4707abd9f94bd1e7fbbb",
       "version_major": 2,
       "version_minor": 0
      },
      "text/plain": [
       "validation:   0%|          | 0/112 [00:00<?, ?it/s]"
      ]
     },
     "metadata": {},
     "output_type": "display_data"
    },
    {
     "name": "stdout",
     "output_type": "stream",
     "text": [
      "\u001b[32m2022-06-26 17:39:25.485\u001b[0m | \u001b[1mINFO    \u001b[0m | \u001b[36msrc.beam.model\u001b[0m:\u001b[36mstep\u001b[0m:\u001b[36m590\u001b[0m - \u001b[1mbr was changed to 0.877092296628123\u001b[0m\n",
      "\u001b[32m2022-06-26 17:39:25.487\u001b[0m | \u001b[1mINFO    \u001b[0m | \u001b[36msrc.beam.model\u001b[0m:\u001b[36mstep\u001b[0m:\u001b[36m591\u001b[0m - \u001b[1mlambda_llr was changed to 0.0634329550314939\u001b[0m\n",
      "\n",
      "\u001b[32m2022-06-26 17:39:25.488\u001b[0m | \u001b[1mINFO    \u001b[0m | \u001b[36msrc.beam.experiment\u001b[0m:\u001b[36msave_model_results\u001b[0m:\u001b[36m397\u001b[0m - \u001b[1mFinished epoch 75/100:\u001b[0m\n",
      "\u001b[32m2022-06-26 17:39:25.492\u001b[0m | \u001b[1mINFO    \u001b[0m | \u001b[36msrc.beam.experiment\u001b[0m:\u001b[36mlog_data\u001b[0m:\u001b[36m443\u001b[0m - \u001b[1mtrain:\u001b[0m\n",
      "\u001b[32m2022-06-26 17:39:25.493\u001b[0m | \u001b[1mINFO    \u001b[0m | \u001b[36msrc.beam.experiment\u001b[0m:\u001b[36mlog_data\u001b[0m:\u001b[36m447\u001b[0m - \u001b[1mloss 639.34 \t|\u001b[0m\n",
      "\u001b[32m2022-06-26 17:39:25.494\u001b[0m | \u001b[1mINFO    \u001b[0m | \u001b[36msrc.beam.experiment\u001b[0m:\u001b[36mlog_data\u001b[0m:\u001b[36m447\u001b[0m - \u001b[1macc 0.918447 \t|\u001b[0m\n",
      "\u001b[32m2022-06-26 17:39:25.495\u001b[0m | \u001b[1mINFO    \u001b[0m | \u001b[36msrc.beam.experiment\u001b[0m:\u001b[36mlog_data\u001b[0m:\u001b[36m447\u001b[0m - \u001b[1mlr 3.16228e-05 \t|\u001b[0m\n",
      "\u001b[32m2022-06-26 17:39:25.495\u001b[0m | \u001b[1mINFO    \u001b[0m | \u001b[36msrc.beam.experiment\u001b[0m:\u001b[36mlog_data\u001b[0m:\u001b[36m443\u001b[0m - \u001b[1mvalidation:\u001b[0m\n",
      "\u001b[32m2022-06-26 17:39:25.496\u001b[0m | \u001b[1mINFO    \u001b[0m | \u001b[36msrc.beam.experiment\u001b[0m:\u001b[36mlog_data\u001b[0m:\u001b[36m447\u001b[0m - \u001b[1mloss 662.4 \t|\u001b[0m\n",
      "\u001b[32m2022-06-26 17:39:25.496\u001b[0m | \u001b[1mINFO    \u001b[0m | \u001b[36msrc.beam.experiment\u001b[0m:\u001b[36mlog_data\u001b[0m:\u001b[36m447\u001b[0m - \u001b[1macc 0.907349 \t|\u001b[0m\n"
     ]
    },
    {
     "data": {
      "application/vnd.jupyter.widget-view+json": {
       "model_id": "9a91134d47fe412ba26726fcbeaf8a2c",
       "version_major": 2,
       "version_minor": 0
      },
      "text/plain": [
       "train:   0%|          | 0/339 [00:00<?, ?it/s]"
      ]
     },
     "metadata": {},
     "output_type": "display_data"
    },
    {
     "data": {
      "application/vnd.jupyter.widget-view+json": {
       "model_id": "05172d8984be47508ac94d37a0d09957",
       "version_major": 2,
       "version_minor": 0
      },
      "text/plain": [
       "validation:   0%|          | 0/112 [00:00<?, ?it/s]"
      ]
     },
     "metadata": {},
     "output_type": "display_data"
    },
    {
     "name": "stdout",
     "output_type": "stream",
     "text": [
      "\u001b[32m2022-06-26 17:41:10.893\u001b[0m | \u001b[1mINFO    \u001b[0m | \u001b[36msrc.beam.model\u001b[0m:\u001b[36mstep\u001b[0m:\u001b[36m590\u001b[0m - \u001b[1mbr was changed to 0.8747359442771852\u001b[0m\n",
      "\u001b[32m2022-06-26 17:41:10.895\u001b[0m | \u001b[1mINFO    \u001b[0m | \u001b[36msrc.beam.model\u001b[0m:\u001b[36mstep\u001b[0m:\u001b[36m591\u001b[0m - \u001b[1mlambda_llr was changed to 0.06443160054658245\u001b[0m\n",
      "\n",
      "\u001b[32m2022-06-26 17:41:10.896\u001b[0m | \u001b[1mINFO    \u001b[0m | \u001b[36msrc.beam.experiment\u001b[0m:\u001b[36msave_model_results\u001b[0m:\u001b[36m397\u001b[0m - \u001b[1mFinished epoch 76/100:\u001b[0m\n",
      "\u001b[32m2022-06-26 17:41:10.900\u001b[0m | \u001b[1mINFO    \u001b[0m | \u001b[36msrc.beam.experiment\u001b[0m:\u001b[36mlog_data\u001b[0m:\u001b[36m443\u001b[0m - \u001b[1mtrain:\u001b[0m\n",
      "\u001b[32m2022-06-26 17:41:10.901\u001b[0m | \u001b[1mINFO    \u001b[0m | \u001b[36msrc.beam.experiment\u001b[0m:\u001b[36mlog_data\u001b[0m:\u001b[36m447\u001b[0m - \u001b[1mloss 641.743 \t|\u001b[0m\n",
      "\u001b[32m2022-06-26 17:41:10.902\u001b[0m | \u001b[1mINFO    \u001b[0m | \u001b[36msrc.beam.experiment\u001b[0m:\u001b[36mlog_data\u001b[0m:\u001b[36m447\u001b[0m - \u001b[1macc 0.916906 \t|\u001b[0m\n",
      "\u001b[32m2022-06-26 17:41:10.903\u001b[0m | \u001b[1mINFO    \u001b[0m | \u001b[36msrc.beam.experiment\u001b[0m:\u001b[36mlog_data\u001b[0m:\u001b[36m447\u001b[0m - \u001b[1mlr 3.16228e-05 \t|\u001b[0m\n",
      "\u001b[32m2022-06-26 17:41:10.904\u001b[0m | \u001b[1mINFO    \u001b[0m | \u001b[36msrc.beam.experiment\u001b[0m:\u001b[36mlog_data\u001b[0m:\u001b[36m443\u001b[0m - \u001b[1mvalidation:\u001b[0m\n",
      "\u001b[32m2022-06-26 17:41:10.904\u001b[0m | \u001b[1mINFO    \u001b[0m | \u001b[36msrc.beam.experiment\u001b[0m:\u001b[36mlog_data\u001b[0m:\u001b[36m447\u001b[0m - \u001b[1mloss 666.044 \t|\u001b[0m\n",
      "\u001b[32m2022-06-26 17:41:10.905\u001b[0m | \u001b[1mINFO    \u001b[0m | \u001b[36msrc.beam.experiment\u001b[0m:\u001b[36mlog_data\u001b[0m:\u001b[36m447\u001b[0m - \u001b[1macc 0.905265 \t|\u001b[0m\n"
     ]
    },
    {
     "data": {
      "application/vnd.jupyter.widget-view+json": {
       "model_id": "d05c0d1ad7484d9f8e9342342189f2fa",
       "version_major": 2,
       "version_minor": 0
      },
      "text/plain": [
       "train:   0%|          | 0/339 [00:00<?, ?it/s]"
      ]
     },
     "metadata": {},
     "output_type": "display_data"
    },
    {
     "data": {
      "application/vnd.jupyter.widget-view+json": {
       "model_id": "614fb88a4be54807b64117c218248d53",
       "version_major": 2,
       "version_minor": 0
      },
      "text/plain": [
       "validation:   0%|          | 0/112 [00:00<?, ?it/s]"
      ]
     },
     "metadata": {},
     "output_type": "display_data"
    },
    {
     "name": "stdout",
     "output_type": "stream",
     "text": [
      "\u001b[32m2022-06-26 17:42:56.860\u001b[0m | \u001b[1mINFO    \u001b[0m | \u001b[36msrc.beam.model\u001b[0m:\u001b[36mstep\u001b[0m:\u001b[36m590\u001b[0m - \u001b[1mbr was changed to 0.8726822820727275\u001b[0m\n",
      "\u001b[32m2022-06-26 17:42:56.861\u001b[0m | \u001b[1mINFO    \u001b[0m | \u001b[36msrc.beam.model\u001b[0m:\u001b[36mstep\u001b[0m:\u001b[36m591\u001b[0m - \u001b[1mlambda_llr was changed to 0.06542665982235485\u001b[0m\n",
      "\n",
      "\u001b[32m2022-06-26 17:42:56.862\u001b[0m | \u001b[1mINFO    \u001b[0m | \u001b[36msrc.beam.experiment\u001b[0m:\u001b[36msave_model_results\u001b[0m:\u001b[36m397\u001b[0m - \u001b[1mFinished epoch 77/100:\u001b[0m\n",
      "\u001b[32m2022-06-26 17:42:56.866\u001b[0m | \u001b[1mINFO    \u001b[0m | \u001b[36msrc.beam.experiment\u001b[0m:\u001b[36mlog_data\u001b[0m:\u001b[36m443\u001b[0m - \u001b[1mtrain:\u001b[0m\n",
      "\u001b[32m2022-06-26 17:42:56.867\u001b[0m | \u001b[1mINFO    \u001b[0m | \u001b[36msrc.beam.experiment\u001b[0m:\u001b[36mlog_data\u001b[0m:\u001b[36m447\u001b[0m - \u001b[1mloss 645.439 \t|\u001b[0m\n",
      "\u001b[32m2022-06-26 17:42:56.868\u001b[0m | \u001b[1mINFO    \u001b[0m | \u001b[36msrc.beam.experiment\u001b[0m:\u001b[36mlog_data\u001b[0m:\u001b[36m447\u001b[0m - \u001b[1macc 0.915062 \t|\u001b[0m\n",
      "\u001b[32m2022-06-26 17:42:56.869\u001b[0m | \u001b[1mINFO    \u001b[0m | \u001b[36msrc.beam.experiment\u001b[0m:\u001b[36mlog_data\u001b[0m:\u001b[36m447\u001b[0m - \u001b[1mlr 3.16228e-05 \t|\u001b[0m\n",
      "\u001b[32m2022-06-26 17:42:56.870\u001b[0m | \u001b[1mINFO    \u001b[0m | \u001b[36msrc.beam.experiment\u001b[0m:\u001b[36mlog_data\u001b[0m:\u001b[36m443\u001b[0m - \u001b[1mvalidation:\u001b[0m\n",
      "\u001b[32m2022-06-26 17:42:56.870\u001b[0m | \u001b[1mINFO    \u001b[0m | \u001b[36msrc.beam.experiment\u001b[0m:\u001b[36mlog_data\u001b[0m:\u001b[36m447\u001b[0m - \u001b[1mloss 665.404 \t|\u001b[0m\n",
      "\u001b[32m2022-06-26 17:42:56.871\u001b[0m | \u001b[1mINFO    \u001b[0m | \u001b[36msrc.beam.experiment\u001b[0m:\u001b[36mlog_data\u001b[0m:\u001b[36m447\u001b[0m - \u001b[1macc 0.905082 \t|\u001b[0m\n"
     ]
    },
    {
     "data": {
      "application/vnd.jupyter.widget-view+json": {
       "model_id": "415a5ac438ef4467a26db95801a9bd83",
       "version_major": 2,
       "version_minor": 0
      },
      "text/plain": [
       "train:   0%|          | 0/339 [00:00<?, ?it/s]"
      ]
     },
     "metadata": {},
     "output_type": "display_data"
    },
    {
     "data": {
      "application/vnd.jupyter.widget-view+json": {
       "model_id": "a7a3fbbed574468789aab3f793667b0b",
       "version_major": 2,
       "version_minor": 0
      },
      "text/plain": [
       "validation:   0%|          | 0/112 [00:00<?, ?it/s]"
      ]
     },
     "metadata": {},
     "output_type": "display_data"
    },
    {
     "name": "stdout",
     "output_type": "stream",
     "text": [
      "\u001b[32m2022-06-26 17:44:42.113\u001b[0m | \u001b[1mINFO    \u001b[0m | \u001b[36msrc.beam.model\u001b[0m:\u001b[36mstep\u001b[0m:\u001b[36m590\u001b[0m - \u001b[1mbr was changed to 0.8705481855059978\u001b[0m\n",
      "\u001b[32m2022-06-26 17:44:42.114\u001b[0m | \u001b[1mINFO    \u001b[0m | \u001b[36msrc.beam.model\u001b[0m:\u001b[36mstep\u001b[0m:\u001b[36m591\u001b[0m - \u001b[1mlambda_llr was changed to 0.0664229123712216\u001b[0m\n",
      "\n",
      "\u001b[32m2022-06-26 17:44:42.115\u001b[0m | \u001b[1mINFO    \u001b[0m | \u001b[36msrc.beam.experiment\u001b[0m:\u001b[36msave_model_results\u001b[0m:\u001b[36m397\u001b[0m - \u001b[1mFinished epoch 78/100:\u001b[0m\n",
      "\u001b[32m2022-06-26 17:44:42.118\u001b[0m | \u001b[1mINFO    \u001b[0m | \u001b[36msrc.beam.experiment\u001b[0m:\u001b[36mlog_data\u001b[0m:\u001b[36m443\u001b[0m - \u001b[1mtrain:\u001b[0m\n",
      "\u001b[32m2022-06-26 17:44:42.118\u001b[0m | \u001b[1mINFO    \u001b[0m | \u001b[36msrc.beam.experiment\u001b[0m:\u001b[36mlog_data\u001b[0m:\u001b[36m447\u001b[0m - \u001b[1mloss 647.207 \t|\u001b[0m\n",
      "\u001b[32m2022-06-26 17:44:42.119\u001b[0m | \u001b[1mINFO    \u001b[0m | \u001b[36msrc.beam.experiment\u001b[0m:\u001b[36mlog_data\u001b[0m:\u001b[36m447\u001b[0m - \u001b[1macc 0.913823 \t|\u001b[0m\n",
      "\u001b[32m2022-06-26 17:44:42.119\u001b[0m | \u001b[1mINFO    \u001b[0m | \u001b[36msrc.beam.experiment\u001b[0m:\u001b[36mlog_data\u001b[0m:\u001b[36m447\u001b[0m - \u001b[1mlr 3.16228e-05 \t|\u001b[0m\n",
      "\u001b[32m2022-06-26 17:44:42.120\u001b[0m | \u001b[1mINFO    \u001b[0m | \u001b[36msrc.beam.experiment\u001b[0m:\u001b[36mlog_data\u001b[0m:\u001b[36m443\u001b[0m - \u001b[1mvalidation:\u001b[0m\n",
      "\u001b[32m2022-06-26 17:44:42.120\u001b[0m | \u001b[1mINFO    \u001b[0m | \u001b[36msrc.beam.experiment\u001b[0m:\u001b[36mlog_data\u001b[0m:\u001b[36m447\u001b[0m - \u001b[1mloss 668.182 \t|\u001b[0m\n",
      "\u001b[32m2022-06-26 17:44:42.121\u001b[0m | \u001b[1mINFO    \u001b[0m | \u001b[36msrc.beam.experiment\u001b[0m:\u001b[36mlog_data\u001b[0m:\u001b[36m447\u001b[0m - \u001b[1macc 0.903887 \t|\u001b[0m\n"
     ]
    },
    {
     "data": {
      "application/vnd.jupyter.widget-view+json": {
       "model_id": "95270117e6f84db691ee2900c7d2a0d3",
       "version_major": 2,
       "version_minor": 0
      },
      "text/plain": [
       "train:   0%|          | 0/339 [00:00<?, ?it/s]"
      ]
     },
     "metadata": {},
     "output_type": "display_data"
    },
    {
     "data": {
      "application/vnd.jupyter.widget-view+json": {
       "model_id": "340c0fc6fc664625846fe660a847a420",
       "version_major": 2,
       "version_minor": 0
      },
      "text/plain": [
       "validation:   0%|          | 0/112 [00:00<?, ?it/s]"
      ]
     },
     "metadata": {},
     "output_type": "display_data"
    },
    {
     "name": "stdout",
     "output_type": "stream",
     "text": [
      "\u001b[32m2022-06-26 17:46:27.820\u001b[0m | \u001b[1mINFO    \u001b[0m | \u001b[36msrc.beam.model\u001b[0m:\u001b[36mstep\u001b[0m:\u001b[36m590\u001b[0m - \u001b[1mbr was changed to 0.8682715897150189\u001b[0m\n",
      "\u001b[32m2022-06-26 17:46:27.821\u001b[0m | \u001b[1mINFO    \u001b[0m | \u001b[36msrc.beam.model\u001b[0m:\u001b[36mstep\u001b[0m:\u001b[36m591\u001b[0m - \u001b[1mlambda_llr was changed to 0.0674210205066758\u001b[0m\n",
      "\n",
      "\u001b[32m2022-06-26 17:46:27.822\u001b[0m | \u001b[1mINFO    \u001b[0m | \u001b[36msrc.beam.experiment\u001b[0m:\u001b[36msave_model_results\u001b[0m:\u001b[36m397\u001b[0m - \u001b[1mFinished epoch 79/100:\u001b[0m\n",
      "\u001b[32m2022-06-26 17:46:27.825\u001b[0m | \u001b[1mINFO    \u001b[0m | \u001b[36msrc.beam.experiment\u001b[0m:\u001b[36mlog_data\u001b[0m:\u001b[36m443\u001b[0m - \u001b[1mtrain:\u001b[0m\n",
      "\u001b[32m2022-06-26 17:46:27.825\u001b[0m | \u001b[1mINFO    \u001b[0m | \u001b[36msrc.beam.experiment\u001b[0m:\u001b[36mlog_data\u001b[0m:\u001b[36m447\u001b[0m - \u001b[1mloss 648.597 \t|\u001b[0m\n",
      "\u001b[32m2022-06-26 17:46:27.826\u001b[0m | \u001b[1mINFO    \u001b[0m | \u001b[36msrc.beam.experiment\u001b[0m:\u001b[36mlog_data\u001b[0m:\u001b[36m447\u001b[0m - \u001b[1macc 0.912965 \t|\u001b[0m\n",
      "\u001b[32m2022-06-26 17:46:27.827\u001b[0m | \u001b[1mINFO    \u001b[0m | \u001b[36msrc.beam.experiment\u001b[0m:\u001b[36mlog_data\u001b[0m:\u001b[36m447\u001b[0m - \u001b[1mlr 3.16228e-05 \t|\u001b[0m\n",
      "\u001b[32m2022-06-26 17:46:27.827\u001b[0m | \u001b[1mINFO    \u001b[0m | \u001b[36msrc.beam.experiment\u001b[0m:\u001b[36mlog_data\u001b[0m:\u001b[36m443\u001b[0m - \u001b[1mvalidation:\u001b[0m\n",
      "\u001b[32m2022-06-26 17:46:27.828\u001b[0m | \u001b[1mINFO    \u001b[0m | \u001b[36msrc.beam.experiment\u001b[0m:\u001b[36mlog_data\u001b[0m:\u001b[36m447\u001b[0m - \u001b[1mloss 671.99 \t|\u001b[0m\n",
      "\u001b[32m2022-06-26 17:46:27.829\u001b[0m | \u001b[1mINFO    \u001b[0m | \u001b[36msrc.beam.experiment\u001b[0m:\u001b[36mlog_data\u001b[0m:\u001b[36m447\u001b[0m - \u001b[1macc 0.902274 \t|\u001b[0m\n"
     ]
    },
    {
     "data": {
      "application/vnd.jupyter.widget-view+json": {
       "model_id": "366529765c304bae8965a5b970ce21f7",
       "version_major": 2,
       "version_minor": 0
      },
      "text/plain": [
       "train:   0%|          | 0/339 [00:00<?, ?it/s]"
      ]
     },
     "metadata": {},
     "output_type": "display_data"
    },
    {
     "data": {
      "application/vnd.jupyter.widget-view+json": {
       "model_id": "fd26a2a1e1f5434b87e729d9d771c2f5",
       "version_major": 2,
       "version_minor": 0
      },
      "text/plain": [
       "validation:   0%|          | 0/112 [00:00<?, ?it/s]"
      ]
     },
     "metadata": {},
     "output_type": "display_data"
    },
    {
     "name": "stdout",
     "output_type": "stream",
     "text": [
      "\u001b[32m2022-06-26 17:48:13.544\u001b[0m | \u001b[1mINFO    \u001b[0m | \u001b[36msrc.beam.model\u001b[0m:\u001b[36mstep\u001b[0m:\u001b[36m590\u001b[0m - \u001b[1mbr was changed to 0.8664007043411843\u001b[0m\n",
      "\u001b[32m2022-06-26 17:48:13.546\u001b[0m | \u001b[1mINFO    \u001b[0m | \u001b[36msrc.beam.model\u001b[0m:\u001b[36mstep\u001b[0m:\u001b[36m591\u001b[0m - \u001b[1mlambda_llr was changed to 0.06841096128641477\u001b[0m\n",
      "\n",
      "\u001b[32m2022-06-26 17:48:13.547\u001b[0m | \u001b[1mINFO    \u001b[0m | \u001b[36msrc.beam.experiment\u001b[0m:\u001b[36msave_model_results\u001b[0m:\u001b[36m397\u001b[0m - \u001b[1mFinished epoch 80/100:\u001b[0m\n",
      "\u001b[32m2022-06-26 17:48:13.550\u001b[0m | \u001b[1mINFO    \u001b[0m | \u001b[36msrc.beam.experiment\u001b[0m:\u001b[36mlog_data\u001b[0m:\u001b[36m443\u001b[0m - \u001b[1mtrain:\u001b[0m\n",
      "\u001b[32m2022-06-26 17:48:13.550\u001b[0m | \u001b[1mINFO    \u001b[0m | \u001b[36msrc.beam.experiment\u001b[0m:\u001b[36mlog_data\u001b[0m:\u001b[36m447\u001b[0m - \u001b[1mloss 653.166 \t|\u001b[0m\n",
      "\u001b[32m2022-06-26 17:48:13.551\u001b[0m | \u001b[1mINFO    \u001b[0m | \u001b[36msrc.beam.experiment\u001b[0m:\u001b[36mlog_data\u001b[0m:\u001b[36m447\u001b[0m - \u001b[1macc 0.910793 \t|\u001b[0m\n",
      "\u001b[32m2022-06-26 17:48:13.552\u001b[0m | \u001b[1mINFO    \u001b[0m | \u001b[36msrc.beam.experiment\u001b[0m:\u001b[36mlog_data\u001b[0m:\u001b[36m447\u001b[0m - \u001b[1mlr 3.16228e-05 \t|\u001b[0m\n",
      "\u001b[32m2022-06-26 17:48:13.553\u001b[0m | \u001b[1mINFO    \u001b[0m | \u001b[36msrc.beam.experiment\u001b[0m:\u001b[36mlog_data\u001b[0m:\u001b[36m443\u001b[0m - \u001b[1mvalidation:\u001b[0m\n",
      "\u001b[32m2022-06-26 17:48:13.553\u001b[0m | \u001b[1mINFO    \u001b[0m | \u001b[36msrc.beam.experiment\u001b[0m:\u001b[36mlog_data\u001b[0m:\u001b[36m447\u001b[0m - \u001b[1mloss 670.903 \t|\u001b[0m\n",
      "\u001b[32m2022-06-26 17:48:13.554\u001b[0m | \u001b[1mINFO    \u001b[0m | \u001b[36msrc.beam.experiment\u001b[0m:\u001b[36mlog_data\u001b[0m:\u001b[36m447\u001b[0m - \u001b[1macc 0.902876 \t|\u001b[0m\n"
     ]
    },
    {
     "data": {
      "application/vnd.jupyter.widget-view+json": {
       "model_id": "80e02fed1ef1478d9dbb552cc185dce1",
       "version_major": 2,
       "version_minor": 0
      },
      "text/plain": [
       "train:   0%|          | 0/339 [00:00<?, ?it/s]"
      ]
     },
     "metadata": {},
     "output_type": "display_data"
    },
    {
     "data": {
      "application/vnd.jupyter.widget-view+json": {
       "model_id": "ee52529cbdb942a79dfff0de5fefc9af",
       "version_major": 2,
       "version_minor": 0
      },
      "text/plain": [
       "validation:   0%|          | 0/112 [00:00<?, ?it/s]"
      ]
     },
     "metadata": {},
     "output_type": "display_data"
    },
    {
     "name": "stdout",
     "output_type": "stream",
     "text": [
      "\u001b[32m2022-06-26 17:49:59.792\u001b[0m | \u001b[1mINFO    \u001b[0m | \u001b[36msrc.beam.model\u001b[0m:\u001b[36mstep\u001b[0m:\u001b[36m590\u001b[0m - \u001b[1mbr was changed to 0.8643566009315221\u001b[0m\n",
      "\u001b[32m2022-06-26 17:49:59.794\u001b[0m | \u001b[1mINFO    \u001b[0m | \u001b[36msrc.beam.model\u001b[0m:\u001b[36mstep\u001b[0m:\u001b[36m591\u001b[0m - \u001b[1mlambda_llr was changed to 0.06940553417620407\u001b[0m\n",
      "\n",
      "\u001b[32m2022-06-26 17:49:59.796\u001b[0m | \u001b[1mINFO    \u001b[0m | \u001b[36msrc.beam.experiment\u001b[0m:\u001b[36msave_model_results\u001b[0m:\u001b[36m397\u001b[0m - \u001b[1mFinished epoch 81/100:\u001b[0m\n",
      "\u001b[32m2022-06-26 17:49:59.803\u001b[0m | \u001b[1mINFO    \u001b[0m | \u001b[36msrc.beam.experiment\u001b[0m:\u001b[36mlog_data\u001b[0m:\u001b[36m443\u001b[0m - \u001b[1mtrain:\u001b[0m\n",
      "\u001b[32m2022-06-26 17:49:59.804\u001b[0m | \u001b[1mINFO    \u001b[0m | \u001b[36msrc.beam.experiment\u001b[0m:\u001b[36mlog_data\u001b[0m:\u001b[36m447\u001b[0m - \u001b[1mloss 655.078 \t|\u001b[0m\n",
      "\u001b[32m2022-06-26 17:49:59.804\u001b[0m | \u001b[1mINFO    \u001b[0m | \u001b[36msrc.beam.experiment\u001b[0m:\u001b[36mlog_data\u001b[0m:\u001b[36m447\u001b[0m - \u001b[1macc 0.91024 \t|\u001b[0m\n",
      "\u001b[32m2022-06-26 17:49:59.805\u001b[0m | \u001b[1mINFO    \u001b[0m | \u001b[36msrc.beam.experiment\u001b[0m:\u001b[36mlog_data\u001b[0m:\u001b[36m447\u001b[0m - \u001b[1mlr 3.16228e-05 \t|\u001b[0m\n",
      "\u001b[32m2022-06-26 17:49:59.806\u001b[0m | \u001b[1mINFO    \u001b[0m | \u001b[36msrc.beam.experiment\u001b[0m:\u001b[36mlog_data\u001b[0m:\u001b[36m443\u001b[0m - \u001b[1mvalidation:\u001b[0m\n",
      "\u001b[32m2022-06-26 17:49:59.806\u001b[0m | \u001b[1mINFO    \u001b[0m | \u001b[36msrc.beam.experiment\u001b[0m:\u001b[36mlog_data\u001b[0m:\u001b[36m447\u001b[0m - \u001b[1mloss 675.014 \t|\u001b[0m\n",
      "\u001b[32m2022-06-26 17:49:59.807\u001b[0m | \u001b[1mINFO    \u001b[0m | \u001b[36msrc.beam.experiment\u001b[0m:\u001b[36mlog_data\u001b[0m:\u001b[36m447\u001b[0m - \u001b[1macc 0.899554 \t|\u001b[0m\n"
     ]
    },
    {
     "data": {
      "application/vnd.jupyter.widget-view+json": {
       "model_id": "2193e510d73b42478aacfc715554f393",
       "version_major": 2,
       "version_minor": 0
      },
      "text/plain": [
       "train:   0%|          | 0/339 [00:00<?, ?it/s]"
      ]
     },
     "metadata": {},
     "output_type": "display_data"
    },
    {
     "data": {
      "application/vnd.jupyter.widget-view+json": {
       "model_id": "9122d92f74564f1592b308b1e2ed9ad1",
       "version_major": 2,
       "version_minor": 0
      },
      "text/plain": [
       "validation:   0%|          | 0/112 [00:00<?, ?it/s]"
      ]
     },
     "metadata": {},
     "output_type": "display_data"
    },
    {
     "name": "stdout",
     "output_type": "stream",
     "text": [
      "\u001b[32m2022-06-26 17:51:46.056\u001b[0m | \u001b[1mINFO    \u001b[0m | \u001b[36msrc.beam.model\u001b[0m:\u001b[36mstep\u001b[0m:\u001b[36m590\u001b[0m - \u001b[1mbr was changed to 0.8623139804554981\u001b[0m\n",
      "\u001b[32m2022-06-26 17:51:46.057\u001b[0m | \u001b[1mINFO    \u001b[0m | \u001b[36msrc.beam.model\u001b[0m:\u001b[36mstep\u001b[0m:\u001b[36m591\u001b[0m - \u001b[1mlambda_llr was changed to 0.07040054076674175\u001b[0m\n",
      "\n",
      "\u001b[32m2022-06-26 17:51:46.059\u001b[0m | \u001b[1mINFO    \u001b[0m | \u001b[36msrc.beam.experiment\u001b[0m:\u001b[36msave_model_results\u001b[0m:\u001b[36m397\u001b[0m - \u001b[1mFinished epoch 82/100:\u001b[0m\n",
      "\u001b[32m2022-06-26 17:51:46.062\u001b[0m | \u001b[1mINFO    \u001b[0m | \u001b[36msrc.beam.experiment\u001b[0m:\u001b[36mlog_data\u001b[0m:\u001b[36m443\u001b[0m - \u001b[1mtrain:\u001b[0m\n",
      "\u001b[32m2022-06-26 17:51:46.062\u001b[0m | \u001b[1mINFO    \u001b[0m | \u001b[36msrc.beam.experiment\u001b[0m:\u001b[36mlog_data\u001b[0m:\u001b[36m447\u001b[0m - \u001b[1mloss 655.864 \t|\u001b[0m\n",
      "\u001b[32m2022-06-26 17:51:46.063\u001b[0m | \u001b[1mINFO    \u001b[0m | \u001b[36msrc.beam.experiment\u001b[0m:\u001b[36mlog_data\u001b[0m:\u001b[36m447\u001b[0m - \u001b[1macc 0.909111 \t|\u001b[0m\n",
      "\u001b[32m2022-06-26 17:51:46.064\u001b[0m | \u001b[1mINFO    \u001b[0m | \u001b[36msrc.beam.experiment\u001b[0m:\u001b[36mlog_data\u001b[0m:\u001b[36m447\u001b[0m - \u001b[1mlr 3.16228e-05 \t|\u001b[0m\n",
      "\u001b[32m2022-06-26 17:51:46.065\u001b[0m | \u001b[1mINFO    \u001b[0m | \u001b[36msrc.beam.experiment\u001b[0m:\u001b[36mlog_data\u001b[0m:\u001b[36m443\u001b[0m - \u001b[1mvalidation:\u001b[0m\n",
      "\u001b[32m2022-06-26 17:51:46.066\u001b[0m | \u001b[1mINFO    \u001b[0m | \u001b[36msrc.beam.experiment\u001b[0m:\u001b[36mlog_data\u001b[0m:\u001b[36m447\u001b[0m - \u001b[1mloss 676.115 \t|\u001b[0m\n",
      "\u001b[32m2022-06-26 17:51:46.067\u001b[0m | \u001b[1mINFO    \u001b[0m | \u001b[36msrc.beam.experiment\u001b[0m:\u001b[36mlog_data\u001b[0m:\u001b[36m447\u001b[0m - \u001b[1macc 0.899711 \t|\u001b[0m\n"
     ]
    },
    {
     "data": {
      "application/vnd.jupyter.widget-view+json": {
       "model_id": "c968933bfcb84df192ae33881f55a421",
       "version_major": 2,
       "version_minor": 0
      },
      "text/plain": [
       "train:   0%|          | 0/339 [00:00<?, ?it/s]"
      ]
     },
     "metadata": {},
     "output_type": "display_data"
    },
    {
     "data": {
      "application/vnd.jupyter.widget-view+json": {
       "model_id": "eb47fc19d2c746f8978b9f8b7726425f",
       "version_major": 2,
       "version_minor": 0
      },
      "text/plain": [
       "validation:   0%|          | 0/112 [00:00<?, ?it/s]"
      ]
     },
     "metadata": {},
     "output_type": "display_data"
    },
    {
     "name": "stdout",
     "output_type": "stream",
     "text": [
      "\u001b[32m2022-06-26 17:53:32.110\u001b[0m | \u001b[1mINFO    \u001b[0m | \u001b[36msrc.beam.model\u001b[0m:\u001b[36mstep\u001b[0m:\u001b[36m590\u001b[0m - \u001b[1mbr was changed to 0.8602041276266073\u001b[0m\n",
      "\u001b[32m2022-06-26 17:53:32.111\u001b[0m | \u001b[1mINFO    \u001b[0m | \u001b[36msrc.beam.model\u001b[0m:\u001b[36mstep\u001b[0m:\u001b[36m591\u001b[0m - \u001b[1mlambda_llr was changed to 0.0713969014759178\u001b[0m\n",
      "\n",
      "\u001b[32m2022-06-26 17:53:32.112\u001b[0m | \u001b[1mINFO    \u001b[0m | \u001b[36msrc.beam.experiment\u001b[0m:\u001b[36msave_model_results\u001b[0m:\u001b[36m397\u001b[0m - \u001b[1mFinished epoch 83/100:\u001b[0m\n",
      "\u001b[32m2022-06-26 17:53:32.115\u001b[0m | \u001b[1mINFO    \u001b[0m | \u001b[36msrc.beam.experiment\u001b[0m:\u001b[36mlog_data\u001b[0m:\u001b[36m443\u001b[0m - \u001b[1mtrain:\u001b[0m\n",
      "\u001b[32m2022-06-26 17:53:32.115\u001b[0m | \u001b[1mINFO    \u001b[0m | \u001b[36msrc.beam.experiment\u001b[0m:\u001b[36mlog_data\u001b[0m:\u001b[36m447\u001b[0m - \u001b[1mloss 657.593 \t|\u001b[0m\n",
      "\u001b[32m2022-06-26 17:53:32.116\u001b[0m | \u001b[1mINFO    \u001b[0m | \u001b[36msrc.beam.experiment\u001b[0m:\u001b[36mlog_data\u001b[0m:\u001b[36m447\u001b[0m - \u001b[1macc 0.908189 \t|\u001b[0m\n",
      "\u001b[32m2022-06-26 17:53:32.117\u001b[0m | \u001b[1mINFO    \u001b[0m | \u001b[36msrc.beam.experiment\u001b[0m:\u001b[36mlog_data\u001b[0m:\u001b[36m447\u001b[0m - \u001b[1mlr 3.16228e-05 \t|\u001b[0m\n",
      "\u001b[32m2022-06-26 17:53:32.117\u001b[0m | \u001b[1mINFO    \u001b[0m | \u001b[36msrc.beam.experiment\u001b[0m:\u001b[36mlog_data\u001b[0m:\u001b[36m443\u001b[0m - \u001b[1mvalidation:\u001b[0m\n",
      "\u001b[32m2022-06-26 17:53:32.118\u001b[0m | \u001b[1mINFO    \u001b[0m | \u001b[36msrc.beam.experiment\u001b[0m:\u001b[36mlog_data\u001b[0m:\u001b[36m447\u001b[0m - \u001b[1mloss 679.007 \t|\u001b[0m\n",
      "\u001b[32m2022-06-26 17:53:32.119\u001b[0m | \u001b[1mINFO    \u001b[0m | \u001b[36msrc.beam.experiment\u001b[0m:\u001b[36mlog_data\u001b[0m:\u001b[36m447\u001b[0m - \u001b[1macc 0.897653 \t|\u001b[0m\n"
     ]
    },
    {
     "data": {
      "application/vnd.jupyter.widget-view+json": {
       "model_id": "161f33b2ba6042c4a9d5bbcb03f86ef9",
       "version_major": 2,
       "version_minor": 0
      },
      "text/plain": [
       "train:   0%|          | 0/339 [00:00<?, ?it/s]"
      ]
     },
     "metadata": {},
     "output_type": "display_data"
    },
    {
     "data": {
      "application/vnd.jupyter.widget-view+json": {
       "model_id": "3302e1c7305347298117d39d11a3f999",
       "version_major": 2,
       "version_minor": 0
      },
      "text/plain": [
       "validation:   0%|          | 0/112 [00:00<?, ?it/s]"
      ]
     },
     "metadata": {},
     "output_type": "display_data"
    },
    {
     "name": "stdout",
     "output_type": "stream",
     "text": [
      "\u001b[32m2022-06-26 17:55:17.752\u001b[0m | \u001b[1mINFO    \u001b[0m | \u001b[36msrc.beam.model\u001b[0m:\u001b[36mstep\u001b[0m:\u001b[36m590\u001b[0m - \u001b[1mbr was changed to 0.8582881376215227\u001b[0m\n",
      "\u001b[32m2022-06-26 17:55:17.753\u001b[0m | \u001b[1mINFO    \u001b[0m | \u001b[36msrc.beam.model\u001b[0m:\u001b[36mstep\u001b[0m:\u001b[36m591\u001b[0m - \u001b[1mlambda_llr was changed to 0.07238902540579195\u001b[0m\n",
      "\n",
      "\u001b[32m2022-06-26 17:55:17.754\u001b[0m | \u001b[1mINFO    \u001b[0m | \u001b[36msrc.beam.experiment\u001b[0m:\u001b[36msave_model_results\u001b[0m:\u001b[36m397\u001b[0m - \u001b[1mFinished epoch 84/100:\u001b[0m\n",
      "\u001b[32m2022-06-26 17:55:17.757\u001b[0m | \u001b[1mINFO    \u001b[0m | \u001b[36msrc.beam.experiment\u001b[0m:\u001b[36mlog_data\u001b[0m:\u001b[36m443\u001b[0m - \u001b[1mtrain:\u001b[0m\n",
      "\u001b[32m2022-06-26 17:55:17.758\u001b[0m | \u001b[1mINFO    \u001b[0m | \u001b[36msrc.beam.experiment\u001b[0m:\u001b[36mlog_data\u001b[0m:\u001b[36m447\u001b[0m - \u001b[1mloss 660.541 \t|\u001b[0m\n",
      "\u001b[32m2022-06-26 17:55:17.759\u001b[0m | \u001b[1mINFO    \u001b[0m | \u001b[36msrc.beam.experiment\u001b[0m:\u001b[36mlog_data\u001b[0m:\u001b[36m447\u001b[0m - \u001b[1macc 0.907129 \t|\u001b[0m\n",
      "\u001b[32m2022-06-26 17:55:17.760\u001b[0m | \u001b[1mINFO    \u001b[0m | \u001b[36msrc.beam.experiment\u001b[0m:\u001b[36mlog_data\u001b[0m:\u001b[36m447\u001b[0m - \u001b[1mlr 3.16228e-05 \t|\u001b[0m\n",
      "\u001b[32m2022-06-26 17:55:17.760\u001b[0m | \u001b[1mINFO    \u001b[0m | \u001b[36msrc.beam.experiment\u001b[0m:\u001b[36mlog_data\u001b[0m:\u001b[36m443\u001b[0m - \u001b[1mvalidation:\u001b[0m\n",
      "\u001b[32m2022-06-26 17:55:17.761\u001b[0m | \u001b[1mINFO    \u001b[0m | \u001b[36msrc.beam.experiment\u001b[0m:\u001b[36mlog_data\u001b[0m:\u001b[36m447\u001b[0m - \u001b[1mloss 679.336 \t|\u001b[0m\n",
      "\u001b[32m2022-06-26 17:55:17.762\u001b[0m | \u001b[1mINFO    \u001b[0m | \u001b[36msrc.beam.experiment\u001b[0m:\u001b[36mlog_data\u001b[0m:\u001b[36m447\u001b[0m - \u001b[1macc 0.897513 \t|\u001b[0m\n"
     ]
    },
    {
     "data": {
      "application/vnd.jupyter.widget-view+json": {
       "model_id": "c9128eed3a3046aaa81bd76759afab16",
       "version_major": 2,
       "version_minor": 0
      },
      "text/plain": [
       "train:   0%|          | 0/339 [00:00<?, ?it/s]"
      ]
     },
     "metadata": {},
     "output_type": "display_data"
    },
    {
     "data": {
      "application/vnd.jupyter.widget-view+json": {
       "model_id": "0f46c7b787044c108547e46834a09f03",
       "version_major": 2,
       "version_minor": 0
      },
      "text/plain": [
       "validation:   0%|          | 0/112 [00:00<?, ?it/s]"
      ]
     },
     "metadata": {},
     "output_type": "display_data"
    },
    {
     "name": "stdout",
     "output_type": "stream",
     "text": [
      "\u001b[32m2022-06-26 17:57:03.269\u001b[0m | \u001b[1mINFO    \u001b[0m | \u001b[36msrc.beam.model\u001b[0m:\u001b[36mstep\u001b[0m:\u001b[36m590\u001b[0m - \u001b[1mbr was changed to 0.856342933168002\u001b[0m\n",
      "\u001b[32m2022-06-26 17:57:03.271\u001b[0m | \u001b[1mINFO    \u001b[0m | \u001b[36msrc.beam.model\u001b[0m:\u001b[36mstep\u001b[0m:\u001b[36m591\u001b[0m - \u001b[1mlambda_llr was changed to 0.07338174006103115\u001b[0m\n",
      "\n",
      "\u001b[32m2022-06-26 17:57:03.272\u001b[0m | \u001b[1mINFO    \u001b[0m | \u001b[36msrc.beam.experiment\u001b[0m:\u001b[36msave_model_results\u001b[0m:\u001b[36m397\u001b[0m - \u001b[1mFinished epoch 85/100:\u001b[0m\n",
      "\u001b[32m2022-06-26 17:57:03.275\u001b[0m | \u001b[1mINFO    \u001b[0m | \u001b[36msrc.beam.experiment\u001b[0m:\u001b[36mlog_data\u001b[0m:\u001b[36m443\u001b[0m - \u001b[1mtrain:\u001b[0m\n",
      "\u001b[32m2022-06-26 17:57:03.276\u001b[0m | \u001b[1mINFO    \u001b[0m | \u001b[36msrc.beam.experiment\u001b[0m:\u001b[36mlog_data\u001b[0m:\u001b[36m447\u001b[0m - \u001b[1mloss 663.354 \t|\u001b[0m\n",
      "\u001b[32m2022-06-26 17:57:03.277\u001b[0m | \u001b[1mINFO    \u001b[0m | \u001b[36msrc.beam.experiment\u001b[0m:\u001b[36mlog_data\u001b[0m:\u001b[36m447\u001b[0m - \u001b[1macc 0.905308 \t|\u001b[0m\n",
      "\u001b[32m2022-06-26 17:57:03.278\u001b[0m | \u001b[1mINFO    \u001b[0m | \u001b[36msrc.beam.experiment\u001b[0m:\u001b[36mlog_data\u001b[0m:\u001b[36m447\u001b[0m - \u001b[1mlr 3.16228e-05 \t|\u001b[0m\n",
      "\u001b[32m2022-06-26 17:57:03.279\u001b[0m | \u001b[1mINFO    \u001b[0m | \u001b[36msrc.beam.experiment\u001b[0m:\u001b[36mlog_data\u001b[0m:\u001b[36m443\u001b[0m - \u001b[1mvalidation:\u001b[0m\n",
      "\u001b[32m2022-06-26 17:57:03.280\u001b[0m | \u001b[1mINFO    \u001b[0m | \u001b[36msrc.beam.experiment\u001b[0m:\u001b[36mlog_data\u001b[0m:\u001b[36m447\u001b[0m - \u001b[1mloss 682.503 \t|\u001b[0m\n",
      "\u001b[32m2022-06-26 17:57:03.281\u001b[0m | \u001b[1mINFO    \u001b[0m | \u001b[36msrc.beam.experiment\u001b[0m:\u001b[36mlog_data\u001b[0m:\u001b[36m447\u001b[0m - \u001b[1macc 0.896354 \t|\u001b[0m\n"
     ]
    },
    {
     "data": {
      "application/vnd.jupyter.widget-view+json": {
       "model_id": "085c7716c1244c46825c8f2844c1e839",
       "version_major": 2,
       "version_minor": 0
      },
      "text/plain": [
       "train:   0%|          | 0/339 [00:00<?, ?it/s]"
      ]
     },
     "metadata": {},
     "output_type": "display_data"
    },
    {
     "data": {
      "application/vnd.jupyter.widget-view+json": {
       "model_id": "909d7fb0acee4473ad2af3d14f29213c",
       "version_major": 2,
       "version_minor": 0
      },
      "text/plain": [
       "validation:   0%|          | 0/112 [00:00<?, ?it/s]"
      ]
     },
     "metadata": {},
     "output_type": "display_data"
    },
    {
     "name": "stdout",
     "output_type": "stream",
     "text": [
      "\u001b[32m2022-06-26 17:58:49.066\u001b[0m | \u001b[1mINFO    \u001b[0m | \u001b[36msrc.beam.model\u001b[0m:\u001b[36mstep\u001b[0m:\u001b[36m590\u001b[0m - \u001b[1mbr was changed to 0.854259494309113\u001b[0m\n",
      "\u001b[32m2022-06-26 17:58:49.067\u001b[0m | \u001b[1mINFO    \u001b[0m | \u001b[36msrc.beam.model\u001b[0m:\u001b[36mstep\u001b[0m:\u001b[36m591\u001b[0m - \u001b[1mlambda_llr was changed to 0.0743778331594681\u001b[0m\n",
      "\n",
      "\u001b[32m2022-06-26 17:58:49.068\u001b[0m | \u001b[1mINFO    \u001b[0m | \u001b[36msrc.beam.experiment\u001b[0m:\u001b[36msave_model_results\u001b[0m:\u001b[36m397\u001b[0m - \u001b[1mFinished epoch 86/100:\u001b[0m\n",
      "\u001b[32m2022-06-26 17:58:49.071\u001b[0m | \u001b[1mINFO    \u001b[0m | \u001b[36msrc.beam.experiment\u001b[0m:\u001b[36mlog_data\u001b[0m:\u001b[36m443\u001b[0m - \u001b[1mtrain:\u001b[0m\n",
      "\u001b[32m2022-06-26 17:58:49.072\u001b[0m | \u001b[1mINFO    \u001b[0m | \u001b[36msrc.beam.experiment\u001b[0m:\u001b[36mlog_data\u001b[0m:\u001b[36m447\u001b[0m - \u001b[1mloss 664.001 \t|\u001b[0m\n",
      "\u001b[32m2022-06-26 17:58:49.073\u001b[0m | \u001b[1mINFO    \u001b[0m | \u001b[36msrc.beam.experiment\u001b[0m:\u001b[36mlog_data\u001b[0m:\u001b[36m447\u001b[0m - \u001b[1macc 0.904833 \t|\u001b[0m\n",
      "\u001b[32m2022-06-26 17:58:49.073\u001b[0m | \u001b[1mINFO    \u001b[0m | \u001b[36msrc.beam.experiment\u001b[0m:\u001b[36mlog_data\u001b[0m:\u001b[36m447\u001b[0m - \u001b[1mlr 3.16228e-05 \t|\u001b[0m\n",
      "\u001b[32m2022-06-26 17:58:49.074\u001b[0m | \u001b[1mINFO    \u001b[0m | \u001b[36msrc.beam.experiment\u001b[0m:\u001b[36mlog_data\u001b[0m:\u001b[36m443\u001b[0m - \u001b[1mvalidation:\u001b[0m\n",
      "\u001b[32m2022-06-26 17:58:49.075\u001b[0m | \u001b[1mINFO    \u001b[0m | \u001b[36msrc.beam.experiment\u001b[0m:\u001b[36mlog_data\u001b[0m:\u001b[36m447\u001b[0m - \u001b[1mloss 685.372 \t|\u001b[0m\n",
      "\u001b[32m2022-06-26 17:58:49.076\u001b[0m | \u001b[1mINFO    \u001b[0m | \u001b[36msrc.beam.experiment\u001b[0m:\u001b[36mlog_data\u001b[0m:\u001b[36m447\u001b[0m - \u001b[1macc 0.894976 \t|\u001b[0m\n"
     ]
    },
    {
     "data": {
      "application/vnd.jupyter.widget-view+json": {
       "model_id": "06a8e8b86df0436296f19cc6e0db7d2e",
       "version_major": 2,
       "version_minor": 0
      },
      "text/plain": [
       "train:   0%|          | 0/339 [00:00<?, ?it/s]"
      ]
     },
     "metadata": {},
     "output_type": "display_data"
    },
    {
     "data": {
      "application/vnd.jupyter.widget-view+json": {
       "model_id": "4833a7a06ec44566b3758a346da59e0e",
       "version_major": 2,
       "version_minor": 0
      },
      "text/plain": [
       "validation:   0%|          | 0/112 [00:00<?, ?it/s]"
      ]
     },
     "metadata": {},
     "output_type": "display_data"
    },
    {
     "name": "stdout",
     "output_type": "stream",
     "text": [
      "\u001b[32m2022-06-26 18:00:34.583\u001b[0m | \u001b[1mINFO    \u001b[0m | \u001b[36msrc.beam.model\u001b[0m:\u001b[36mstep\u001b[0m:\u001b[36m590\u001b[0m - \u001b[1mbr was changed to 0.8522239446871097\u001b[0m\n",
      "\u001b[32m2022-06-26 18:00:34.585\u001b[0m | \u001b[1mINFO    \u001b[0m | \u001b[36msrc.beam.model\u001b[0m:\u001b[36mstep\u001b[0m:\u001b[36m591\u001b[0m - \u001b[1mlambda_llr was changed to 0.07537336124278073\u001b[0m\n",
      "Epoch 00087: reducing learning rate of group 0 to 1.0000e-05.\n",
      "Epoch 00087: reducing learning rate of group 0 to 2.0000e-04.\n",
      "\n",
      "\u001b[32m2022-06-26 18:00:34.586\u001b[0m | \u001b[1mINFO    \u001b[0m | \u001b[36msrc.beam.experiment\u001b[0m:\u001b[36msave_model_results\u001b[0m:\u001b[36m397\u001b[0m - \u001b[1mFinished epoch 87/100:\u001b[0m\n",
      "\u001b[32m2022-06-26 18:00:34.589\u001b[0m | \u001b[1mINFO    \u001b[0m | \u001b[36msrc.beam.experiment\u001b[0m:\u001b[36mlog_data\u001b[0m:\u001b[36m443\u001b[0m - \u001b[1mtrain:\u001b[0m\n",
      "\u001b[32m2022-06-26 18:00:34.590\u001b[0m | \u001b[1mINFO    \u001b[0m | \u001b[36msrc.beam.experiment\u001b[0m:\u001b[36mlog_data\u001b[0m:\u001b[36m447\u001b[0m - \u001b[1mloss 665.097 \t|\u001b[0m\n",
      "\u001b[32m2022-06-26 18:00:34.591\u001b[0m | \u001b[1mINFO    \u001b[0m | \u001b[36msrc.beam.experiment\u001b[0m:\u001b[36mlog_data\u001b[0m:\u001b[36m447\u001b[0m - \u001b[1macc 0.903565 \t|\u001b[0m\n",
      "\u001b[32m2022-06-26 18:00:34.592\u001b[0m | \u001b[1mINFO    \u001b[0m | \u001b[36msrc.beam.experiment\u001b[0m:\u001b[36mlog_data\u001b[0m:\u001b[36m447\u001b[0m - \u001b[1mlr 3.16228e-05 \t|\u001b[0m\n",
      "\u001b[32m2022-06-26 18:00:34.593\u001b[0m | \u001b[1mINFO    \u001b[0m | \u001b[36msrc.beam.experiment\u001b[0m:\u001b[36mlog_data\u001b[0m:\u001b[36m443\u001b[0m - \u001b[1mvalidation:\u001b[0m\n",
      "\u001b[32m2022-06-26 18:00:34.593\u001b[0m | \u001b[1mINFO    \u001b[0m | \u001b[36msrc.beam.experiment\u001b[0m:\u001b[36mlog_data\u001b[0m:\u001b[36m447\u001b[0m - \u001b[1mloss 686.024 \t|\u001b[0m\n",
      "\u001b[32m2022-06-26 18:00:34.594\u001b[0m | \u001b[1mINFO    \u001b[0m | \u001b[36msrc.beam.experiment\u001b[0m:\u001b[36mlog_data\u001b[0m:\u001b[36m447\u001b[0m - \u001b[1macc 0.894549 \t|\u001b[0m\n"
     ]
    },
    {
     "data": {
      "application/vnd.jupyter.widget-view+json": {
       "model_id": "5b144ad3c1104aaca067781194c45aee",
       "version_major": 2,
       "version_minor": 0
      },
      "text/plain": [
       "train:   0%|          | 0/339 [00:00<?, ?it/s]"
      ]
     },
     "metadata": {},
     "output_type": "display_data"
    },
    {
     "data": {
      "application/vnd.jupyter.widget-view+json": {
       "model_id": "390b88969cdb468b8d6cece844473d7d",
       "version_major": 2,
       "version_minor": 0
      },
      "text/plain": [
       "validation:   0%|          | 0/112 [00:00<?, ?it/s]"
      ]
     },
     "metadata": {},
     "output_type": "display_data"
    },
    {
     "name": "stdout",
     "output_type": "stream",
     "text": [
      "\u001b[32m2022-06-26 18:02:20.225\u001b[0m | \u001b[1mINFO    \u001b[0m | \u001b[36msrc.beam.model\u001b[0m:\u001b[36mstep\u001b[0m:\u001b[36m590\u001b[0m - \u001b[1mbr was changed to 0.850165314176489\u001b[0m\n",
      "\u001b[32m2022-06-26 18:02:20.227\u001b[0m | \u001b[1mINFO    \u001b[0m | \u001b[36msrc.beam.model\u001b[0m:\u001b[36mstep\u001b[0m:\u001b[36m591\u001b[0m - \u001b[1mlambda_llr was changed to 0.07636927290781202\u001b[0m\n",
      "\n",
      "\u001b[32m2022-06-26 18:02:20.228\u001b[0m | \u001b[1mINFO    \u001b[0m | \u001b[36msrc.beam.experiment\u001b[0m:\u001b[36msave_model_results\u001b[0m:\u001b[36m397\u001b[0m - \u001b[1mFinished epoch 88/100:\u001b[0m\n",
      "\u001b[32m2022-06-26 18:02:20.232\u001b[0m | \u001b[1mINFO    \u001b[0m | \u001b[36msrc.beam.experiment\u001b[0m:\u001b[36mlog_data\u001b[0m:\u001b[36m443\u001b[0m - \u001b[1mtrain:\u001b[0m\n",
      "\u001b[32m2022-06-26 18:02:20.233\u001b[0m | \u001b[1mINFO    \u001b[0m | \u001b[36msrc.beam.experiment\u001b[0m:\u001b[36mlog_data\u001b[0m:\u001b[36m447\u001b[0m - \u001b[1mloss 667.957 \t|\u001b[0m\n",
      "\u001b[32m2022-06-26 18:02:20.234\u001b[0m | \u001b[1mINFO    \u001b[0m | \u001b[36msrc.beam.experiment\u001b[0m:\u001b[36mlog_data\u001b[0m:\u001b[36m447\u001b[0m - \u001b[1macc 0.902756 \t|\u001b[0m\n",
      "\u001b[32m2022-06-26 18:02:20.235\u001b[0m | \u001b[1mINFO    \u001b[0m | \u001b[36msrc.beam.experiment\u001b[0m:\u001b[36mlog_data\u001b[0m:\u001b[36m447\u001b[0m - \u001b[1mlr 1e-05 \t|\u001b[0m\n",
      "\u001b[32m2022-06-26 18:02:20.235\u001b[0m | \u001b[1mINFO    \u001b[0m | \u001b[36msrc.beam.experiment\u001b[0m:\u001b[36mlog_data\u001b[0m:\u001b[36m443\u001b[0m - \u001b[1mvalidation:\u001b[0m\n",
      "\u001b[32m2022-06-26 18:02:20.236\u001b[0m | \u001b[1mINFO    \u001b[0m | \u001b[36msrc.beam.experiment\u001b[0m:\u001b[36mlog_data\u001b[0m:\u001b[36m447\u001b[0m - \u001b[1mloss 689.294 \t|\u001b[0m\n",
      "\u001b[32m2022-06-26 18:02:20.236\u001b[0m | \u001b[1mINFO    \u001b[0m | \u001b[36msrc.beam.experiment\u001b[0m:\u001b[36mlog_data\u001b[0m:\u001b[36m447\u001b[0m - \u001b[1macc 0.892395 \t|\u001b[0m\n"
     ]
    },
    {
     "data": {
      "application/vnd.jupyter.widget-view+json": {
       "model_id": "904092af18a34dcb9df2d7b35bc88800",
       "version_major": 2,
       "version_minor": 0
      },
      "text/plain": [
       "train:   0%|          | 0/339 [00:00<?, ?it/s]"
      ]
     },
     "metadata": {},
     "output_type": "display_data"
    },
    {
     "data": {
      "application/vnd.jupyter.widget-view+json": {
       "model_id": "d26bd508123f4fdaa372ce2d52cadcad",
       "version_major": 2,
       "version_minor": 0
      },
      "text/plain": [
       "validation:   0%|          | 0/112 [00:00<?, ?it/s]"
      ]
     },
     "metadata": {},
     "output_type": "display_data"
    },
    {
     "name": "stdout",
     "output_type": "stream",
     "text": [
      "\u001b[32m2022-06-26 18:04:05.676\u001b[0m | \u001b[1mINFO    \u001b[0m | \u001b[36msrc.beam.model\u001b[0m:\u001b[36mstep\u001b[0m:\u001b[36m590\u001b[0m - \u001b[1mbr was changed to 0.8481526869148657\u001b[0m\n",
      "\u001b[32m2022-06-26 18:04:05.677\u001b[0m | \u001b[1mINFO    \u001b[0m | \u001b[36msrc.beam.model\u001b[0m:\u001b[36mstep\u001b[0m:\u001b[36m591\u001b[0m - \u001b[1mlambda_llr was changed to 0.07736438392228094\u001b[0m\n",
      "\n",
      "\u001b[32m2022-06-26 18:04:05.677\u001b[0m | \u001b[1mINFO    \u001b[0m | \u001b[36msrc.beam.experiment\u001b[0m:\u001b[36msave_model_results\u001b[0m:\u001b[36m397\u001b[0m - \u001b[1mFinished epoch 89/100:\u001b[0m\n",
      "\u001b[32m2022-06-26 18:04:05.680\u001b[0m | \u001b[1mINFO    \u001b[0m | \u001b[36msrc.beam.experiment\u001b[0m:\u001b[36mlog_data\u001b[0m:\u001b[36m443\u001b[0m - \u001b[1mtrain:\u001b[0m\n",
      "\u001b[32m2022-06-26 18:04:05.681\u001b[0m | \u001b[1mINFO    \u001b[0m | \u001b[36msrc.beam.experiment\u001b[0m:\u001b[36mlog_data\u001b[0m:\u001b[36m447\u001b[0m - \u001b[1mloss 671.478 \t|\u001b[0m\n",
      "\u001b[32m2022-06-26 18:04:05.682\u001b[0m | \u001b[1mINFO    \u001b[0m | \u001b[36msrc.beam.experiment\u001b[0m:\u001b[36mlog_data\u001b[0m:\u001b[36m447\u001b[0m - \u001b[1macc 0.900892 \t|\u001b[0m\n",
      "\u001b[32m2022-06-26 18:04:05.683\u001b[0m | \u001b[1mINFO    \u001b[0m | \u001b[36msrc.beam.experiment\u001b[0m:\u001b[36mlog_data\u001b[0m:\u001b[36m447\u001b[0m - \u001b[1mlr 1e-05 \t|\u001b[0m\n",
      "\u001b[32m2022-06-26 18:04:05.686\u001b[0m | \u001b[1mINFO    \u001b[0m | \u001b[36msrc.beam.experiment\u001b[0m:\u001b[36mlog_data\u001b[0m:\u001b[36m443\u001b[0m - \u001b[1mvalidation:\u001b[0m\n",
      "\u001b[32m2022-06-26 18:04:05.687\u001b[0m | \u001b[1mINFO    \u001b[0m | \u001b[36msrc.beam.experiment\u001b[0m:\u001b[36mlog_data\u001b[0m:\u001b[36m447\u001b[0m - \u001b[1mloss 692.287 \t|\u001b[0m\n",
      "\u001b[32m2022-06-26 18:04:05.688\u001b[0m | \u001b[1mINFO    \u001b[0m | \u001b[36msrc.beam.experiment\u001b[0m:\u001b[36mlog_data\u001b[0m:\u001b[36m447\u001b[0m - \u001b[1macc 0.890747 \t|\u001b[0m\n"
     ]
    },
    {
     "data": {
      "application/vnd.jupyter.widget-view+json": {
       "model_id": "3c5bcbad9e5046aebaa816f8204f8718",
       "version_major": 2,
       "version_minor": 0
      },
      "text/plain": [
       "train:   0%|          | 0/339 [00:00<?, ?it/s]"
      ]
     },
     "metadata": {},
     "output_type": "display_data"
    },
    {
     "data": {
      "application/vnd.jupyter.widget-view+json": {
       "model_id": "ee22db573bca4470b9400114815b0293",
       "version_major": 2,
       "version_minor": 0
      },
      "text/plain": [
       "validation:   0%|          | 0/112 [00:00<?, ?it/s]"
      ]
     },
     "metadata": {},
     "output_type": "display_data"
    },
    {
     "name": "stdout",
     "output_type": "stream",
     "text": [
      "\u001b[32m2022-06-26 18:05:51.305\u001b[0m | \u001b[1mINFO    \u001b[0m | \u001b[36msrc.beam.model\u001b[0m:\u001b[36mstep\u001b[0m:\u001b[36m590\u001b[0m - \u001b[1mbr was changed to 0.8463843908847762\u001b[0m\n",
      "\u001b[32m2022-06-26 18:05:51.306\u001b[0m | \u001b[1mINFO    \u001b[0m | \u001b[36msrc.beam.model\u001b[0m:\u001b[36mstep\u001b[0m:\u001b[36m591\u001b[0m - \u001b[1mlambda_llr was changed to 0.07835098613909276\u001b[0m\n",
      "\n",
      "\u001b[32m2022-06-26 18:05:51.308\u001b[0m | \u001b[1mINFO    \u001b[0m | \u001b[36msrc.beam.experiment\u001b[0m:\u001b[36msave_model_results\u001b[0m:\u001b[36m397\u001b[0m - \u001b[1mFinished epoch 90/100:\u001b[0m\n",
      "\u001b[32m2022-06-26 18:05:51.311\u001b[0m | \u001b[1mINFO    \u001b[0m | \u001b[36msrc.beam.experiment\u001b[0m:\u001b[36mlog_data\u001b[0m:\u001b[36m443\u001b[0m - \u001b[1mtrain:\u001b[0m\n",
      "\u001b[32m2022-06-26 18:05:51.312\u001b[0m | \u001b[1mINFO    \u001b[0m | \u001b[36msrc.beam.experiment\u001b[0m:\u001b[36mlog_data\u001b[0m:\u001b[36m447\u001b[0m - \u001b[1mloss 672.244 \t|\u001b[0m\n",
      "\u001b[32m2022-06-26 18:05:51.313\u001b[0m | \u001b[1mINFO    \u001b[0m | \u001b[36msrc.beam.experiment\u001b[0m:\u001b[36mlog_data\u001b[0m:\u001b[36m447\u001b[0m - \u001b[1macc 0.900431 \t|\u001b[0m\n",
      "\u001b[32m2022-06-26 18:05:51.314\u001b[0m | \u001b[1mINFO    \u001b[0m | \u001b[36msrc.beam.experiment\u001b[0m:\u001b[36mlog_data\u001b[0m:\u001b[36m447\u001b[0m - \u001b[1mlr 1e-05 \t|\u001b[0m\n",
      "\u001b[32m2022-06-26 18:05:51.315\u001b[0m | \u001b[1mINFO    \u001b[0m | \u001b[36msrc.beam.experiment\u001b[0m:\u001b[36mlog_data\u001b[0m:\u001b[36m443\u001b[0m - \u001b[1mvalidation:\u001b[0m\n",
      "\u001b[32m2022-06-26 18:05:51.315\u001b[0m | \u001b[1mINFO    \u001b[0m | \u001b[36msrc.beam.experiment\u001b[0m:\u001b[36mlog_data\u001b[0m:\u001b[36m447\u001b[0m - \u001b[1mloss 689.478 \t|\u001b[0m\n",
      "\u001b[32m2022-06-26 18:05:51.316\u001b[0m | \u001b[1mINFO    \u001b[0m | \u001b[36msrc.beam.experiment\u001b[0m:\u001b[36mlog_data\u001b[0m:\u001b[36m447\u001b[0m - \u001b[1macc 0.891488 \t|\u001b[0m\n"
     ]
    },
    {
     "data": {
      "application/vnd.jupyter.widget-view+json": {
       "model_id": "08320020337149e5956a0b9a038bd0af",
       "version_major": 2,
       "version_minor": 0
      },
      "text/plain": [
       "train:   0%|          | 0/339 [00:00<?, ?it/s]"
      ]
     },
     "metadata": {},
     "output_type": "display_data"
    },
    {
     "data": {
      "application/vnd.jupyter.widget-view+json": {
       "model_id": "a54b61f6ff12499e98a98a6c4510b0e5",
       "version_major": 2,
       "version_minor": 0
      },
      "text/plain": [
       "validation:   0%|          | 0/112 [00:00<?, ?it/s]"
      ]
     },
     "metadata": {},
     "output_type": "display_data"
    },
    {
     "name": "stdout",
     "output_type": "stream",
     "text": [
      "\u001b[32m2022-06-26 18:07:36.996\u001b[0m | \u001b[1mINFO    \u001b[0m | \u001b[36msrc.beam.model\u001b[0m:\u001b[36mstep\u001b[0m:\u001b[36m590\u001b[0m - \u001b[1mbr was changed to 0.8445221032286683\u001b[0m\n",
      "\u001b[32m2022-06-26 18:07:36.997\u001b[0m | \u001b[1mINFO    \u001b[0m | \u001b[36msrc.beam.model\u001b[0m:\u001b[36mstep\u001b[0m:\u001b[36m591\u001b[0m - \u001b[1mlambda_llr was changed to 0.07934129285017644\u001b[0m\n",
      "\n",
      "\u001b[32m2022-06-26 18:07:36.998\u001b[0m | \u001b[1mINFO    \u001b[0m | \u001b[36msrc.beam.experiment\u001b[0m:\u001b[36msave_model_results\u001b[0m:\u001b[36m397\u001b[0m - \u001b[1mFinished epoch 91/100:\u001b[0m\n",
      "\u001b[32m2022-06-26 18:07:37.003\u001b[0m | \u001b[1mINFO    \u001b[0m | \u001b[36msrc.beam.experiment\u001b[0m:\u001b[36mlog_data\u001b[0m:\u001b[36m443\u001b[0m - \u001b[1mtrain:\u001b[0m\n",
      "\u001b[32m2022-06-26 18:07:37.004\u001b[0m | \u001b[1mINFO    \u001b[0m | \u001b[36msrc.beam.experiment\u001b[0m:\u001b[36mlog_data\u001b[0m:\u001b[36m447\u001b[0m - \u001b[1mloss 675.224 \t|\u001b[0m\n",
      "\u001b[32m2022-06-26 18:07:37.005\u001b[0m | \u001b[1mINFO    \u001b[0m | \u001b[36msrc.beam.experiment\u001b[0m:\u001b[36mlog_data\u001b[0m:\u001b[36m447\u001b[0m - \u001b[1macc 0.89891 \t|\u001b[0m\n",
      "\u001b[32m2022-06-26 18:07:37.006\u001b[0m | \u001b[1mINFO    \u001b[0m | \u001b[36msrc.beam.experiment\u001b[0m:\u001b[36mlog_data\u001b[0m:\u001b[36m447\u001b[0m - \u001b[1mlr 1e-05 \t|\u001b[0m\n",
      "\u001b[32m2022-06-26 18:07:37.006\u001b[0m | \u001b[1mINFO    \u001b[0m | \u001b[36msrc.beam.experiment\u001b[0m:\u001b[36mlog_data\u001b[0m:\u001b[36m443\u001b[0m - \u001b[1mvalidation:\u001b[0m\n",
      "\u001b[32m2022-06-26 18:07:37.007\u001b[0m | \u001b[1mINFO    \u001b[0m | \u001b[36msrc.beam.experiment\u001b[0m:\u001b[36mlog_data\u001b[0m:\u001b[36m447\u001b[0m - \u001b[1mloss 693.692 \t|\u001b[0m\n",
      "\u001b[32m2022-06-26 18:07:37.007\u001b[0m | \u001b[1mINFO    \u001b[0m | \u001b[36msrc.beam.experiment\u001b[0m:\u001b[36mlog_data\u001b[0m:\u001b[36m447\u001b[0m - \u001b[1macc 0.890442 \t|\u001b[0m\n"
     ]
    },
    {
     "data": {
      "application/vnd.jupyter.widget-view+json": {
       "model_id": "cd243cd037a64b3eaf9419c5dcab898c",
       "version_major": 2,
       "version_minor": 0
      },
      "text/plain": [
       "train:   0%|          | 0/339 [00:00<?, ?it/s]"
      ]
     },
     "metadata": {},
     "output_type": "display_data"
    },
    {
     "data": {
      "application/vnd.jupyter.widget-view+json": {
       "model_id": "15d6fd7b849d4f90950e2da6aadd79c4",
       "version_major": 2,
       "version_minor": 0
      },
      "text/plain": [
       "validation:   0%|          | 0/112 [00:00<?, ?it/s]"
      ]
     },
     "metadata": {},
     "output_type": "display_data"
    },
    {
     "name": "stdout",
     "output_type": "stream",
     "text": [
      "\u001b[32m2022-06-26 18:09:22.986\u001b[0m | \u001b[1mINFO    \u001b[0m | \u001b[36msrc.beam.model\u001b[0m:\u001b[36mstep\u001b[0m:\u001b[36m590\u001b[0m - \u001b[1mbr was changed to 0.8427583859198585\u001b[0m\n",
      "\u001b[32m2022-06-26 18:09:22.988\u001b[0m | \u001b[1mINFO    \u001b[0m | \u001b[36msrc.beam.model\u001b[0m:\u001b[36mstep\u001b[0m:\u001b[36m591\u001b[0m - \u001b[1mlambda_llr was changed to 0.080327663384169\u001b[0m\n",
      "\n",
      "\u001b[32m2022-06-26 18:09:22.990\u001b[0m | \u001b[1mINFO    \u001b[0m | \u001b[36msrc.beam.experiment\u001b[0m:\u001b[36msave_model_results\u001b[0m:\u001b[36m397\u001b[0m - \u001b[1mFinished epoch 92/100:\u001b[0m\n",
      "\u001b[32m2022-06-26 18:09:22.993\u001b[0m | \u001b[1mINFO    \u001b[0m | \u001b[36msrc.beam.experiment\u001b[0m:\u001b[36mlog_data\u001b[0m:\u001b[36m443\u001b[0m - \u001b[1mtrain:\u001b[0m\n",
      "\u001b[32m2022-06-26 18:09:22.995\u001b[0m | \u001b[1mINFO    \u001b[0m | \u001b[36msrc.beam.experiment\u001b[0m:\u001b[36mlog_data\u001b[0m:\u001b[36m447\u001b[0m - \u001b[1mloss 677.413 \t|\u001b[0m\n",
      "\u001b[32m2022-06-26 18:09:22.996\u001b[0m | \u001b[1mINFO    \u001b[0m | \u001b[36msrc.beam.experiment\u001b[0m:\u001b[36mlog_data\u001b[0m:\u001b[36m447\u001b[0m - \u001b[1macc 0.897288 \t|\u001b[0m\n",
      "\u001b[32m2022-06-26 18:09:22.997\u001b[0m | \u001b[1mINFO    \u001b[0m | \u001b[36msrc.beam.experiment\u001b[0m:\u001b[36mlog_data\u001b[0m:\u001b[36m447\u001b[0m - \u001b[1mlr 1e-05 \t|\u001b[0m\n",
      "\u001b[32m2022-06-26 18:09:22.998\u001b[0m | \u001b[1mINFO    \u001b[0m | \u001b[36msrc.beam.experiment\u001b[0m:\u001b[36mlog_data\u001b[0m:\u001b[36m443\u001b[0m - \u001b[1mvalidation:\u001b[0m\n",
      "\u001b[32m2022-06-26 18:09:22.999\u001b[0m | \u001b[1mINFO    \u001b[0m | \u001b[36msrc.beam.experiment\u001b[0m:\u001b[36mlog_data\u001b[0m:\u001b[36m447\u001b[0m - \u001b[1mloss 694.718 \t|\u001b[0m\n",
      "\u001b[32m2022-06-26 18:09:22.999\u001b[0m | \u001b[1mINFO    \u001b[0m | \u001b[36msrc.beam.experiment\u001b[0m:\u001b[36mlog_data\u001b[0m:\u001b[36m447\u001b[0m - \u001b[1macc 0.890311 \t|\u001b[0m\n"
     ]
    },
    {
     "data": {
      "application/vnd.jupyter.widget-view+json": {
       "model_id": "d54dd85b359a48ef82aad05eb69ad57c",
       "version_major": 2,
       "version_minor": 0
      },
      "text/plain": [
       "train:   0%|          | 0/339 [00:00<?, ?it/s]"
      ]
     },
     "metadata": {},
     "output_type": "display_data"
    },
    {
     "data": {
      "application/vnd.jupyter.widget-view+json": {
       "model_id": "cc50a636e64140b5acadafd03ce422e0",
       "version_major": 2,
       "version_minor": 0
      },
      "text/plain": [
       "validation:   0%|          | 0/112 [00:00<?, ?it/s]"
      ]
     },
     "metadata": {},
     "output_type": "display_data"
    },
    {
     "name": "stdout",
     "output_type": "stream",
     "text": [
      "\u001b[32m2022-06-26 18:11:09.066\u001b[0m | \u001b[1mINFO    \u001b[0m | \u001b[36msrc.beam.model\u001b[0m:\u001b[36mstep\u001b[0m:\u001b[36m590\u001b[0m - \u001b[1mbr was changed to 0.8409395216005288\u001b[0m\n",
      "\u001b[32m2022-06-26 18:11:09.067\u001b[0m | \u001b[1mINFO    \u001b[0m | \u001b[36msrc.beam.model\u001b[0m:\u001b[36mstep\u001b[0m:\u001b[36m591\u001b[0m - \u001b[1mlambda_llr was changed to 0.08131678524283448\u001b[0m\n",
      "\n",
      "\u001b[32m2022-06-26 18:11:09.068\u001b[0m | \u001b[1mINFO    \u001b[0m | \u001b[36msrc.beam.experiment\u001b[0m:\u001b[36msave_model_results\u001b[0m:\u001b[36m397\u001b[0m - \u001b[1mFinished epoch 93/100:\u001b[0m\n",
      "\u001b[32m2022-06-26 18:11:09.070\u001b[0m | \u001b[1mINFO    \u001b[0m | \u001b[36msrc.beam.experiment\u001b[0m:\u001b[36mlog_data\u001b[0m:\u001b[36m443\u001b[0m - \u001b[1mtrain:\u001b[0m\n",
      "\u001b[32m2022-06-26 18:11:09.071\u001b[0m | \u001b[1mINFO    \u001b[0m | \u001b[36msrc.beam.experiment\u001b[0m:\u001b[36mlog_data\u001b[0m:\u001b[36m447\u001b[0m - \u001b[1mloss 679.479 \t|\u001b[0m\n",
      "\u001b[32m2022-06-26 18:11:09.071\u001b[0m | \u001b[1mINFO    \u001b[0m | \u001b[36msrc.beam.experiment\u001b[0m:\u001b[36mlog_data\u001b[0m:\u001b[36m447\u001b[0m - \u001b[1macc 0.896447 \t|\u001b[0m\n",
      "\u001b[32m2022-06-26 18:11:09.072\u001b[0m | \u001b[1mINFO    \u001b[0m | \u001b[36msrc.beam.experiment\u001b[0m:\u001b[36mlog_data\u001b[0m:\u001b[36m447\u001b[0m - \u001b[1mlr 1e-05 \t|\u001b[0m\n",
      "\u001b[32m2022-06-26 18:11:09.073\u001b[0m | \u001b[1mINFO    \u001b[0m | \u001b[36msrc.beam.experiment\u001b[0m:\u001b[36mlog_data\u001b[0m:\u001b[36m443\u001b[0m - \u001b[1mvalidation:\u001b[0m\n",
      "\u001b[32m2022-06-26 18:11:09.073\u001b[0m | \u001b[1mINFO    \u001b[0m | \u001b[36msrc.beam.experiment\u001b[0m:\u001b[36mlog_data\u001b[0m:\u001b[36m447\u001b[0m - \u001b[1mloss 697.648 \t|\u001b[0m\n",
      "\u001b[32m2022-06-26 18:11:09.074\u001b[0m | \u001b[1mINFO    \u001b[0m | \u001b[36msrc.beam.experiment\u001b[0m:\u001b[36mlog_data\u001b[0m:\u001b[36m447\u001b[0m - \u001b[1macc 0.887817 \t|\u001b[0m\n"
     ]
    },
    {
     "data": {
      "application/vnd.jupyter.widget-view+json": {
       "model_id": "605d2bef244e465e94b0a9df6cce6555",
       "version_major": 2,
       "version_minor": 0
      },
      "text/plain": [
       "train:   0%|          | 0/339 [00:00<?, ?it/s]"
      ]
     },
     "metadata": {},
     "output_type": "display_data"
    },
    {
     "data": {
      "application/vnd.jupyter.widget-view+json": {
       "model_id": "9694976b0172443b8e3fd98e7df020bf",
       "version_major": 2,
       "version_minor": 0
      },
      "text/plain": [
       "validation:   0%|          | 0/112 [00:00<?, ?it/s]"
      ]
     },
     "metadata": {},
     "output_type": "display_data"
    },
    {
     "name": "stdout",
     "output_type": "stream",
     "text": [
      "\u001b[32m2022-06-26 18:12:55.309\u001b[0m | \u001b[1mINFO    \u001b[0m | \u001b[36msrc.beam.model\u001b[0m:\u001b[36mstep\u001b[0m:\u001b[36m590\u001b[0m - \u001b[1mbr was changed to 0.8389739471886181\u001b[0m\n",
      "\u001b[32m2022-06-26 18:12:55.310\u001b[0m | \u001b[1mINFO    \u001b[0m | \u001b[36msrc.beam.model\u001b[0m:\u001b[36mstep\u001b[0m:\u001b[36m591\u001b[0m - \u001b[1mlambda_llr was changed to 0.08231111602216547\u001b[0m\n",
      "\n",
      "\u001b[32m2022-06-26 18:12:55.312\u001b[0m | \u001b[1mINFO    \u001b[0m | \u001b[36msrc.beam.experiment\u001b[0m:\u001b[36msave_model_results\u001b[0m:\u001b[36m397\u001b[0m - \u001b[1mFinished epoch 94/100:\u001b[0m\n",
      "\u001b[32m2022-06-26 18:12:55.315\u001b[0m | \u001b[1mINFO    \u001b[0m | \u001b[36msrc.beam.experiment\u001b[0m:\u001b[36mlog_data\u001b[0m:\u001b[36m443\u001b[0m - \u001b[1mtrain:\u001b[0m\n",
      "\u001b[32m2022-06-26 18:12:55.315\u001b[0m | \u001b[1mINFO    \u001b[0m | \u001b[36msrc.beam.experiment\u001b[0m:\u001b[36mlog_data\u001b[0m:\u001b[36m447\u001b[0m - \u001b[1mloss 681.219 \t|\u001b[0m\n",
      "\u001b[32m2022-06-26 18:12:55.316\u001b[0m | \u001b[1mINFO    \u001b[0m | \u001b[36msrc.beam.experiment\u001b[0m:\u001b[36mlog_data\u001b[0m:\u001b[36m447\u001b[0m - \u001b[1macc 0.895401 \t|\u001b[0m\n",
      "\u001b[32m2022-06-26 18:12:55.317\u001b[0m | \u001b[1mINFO    \u001b[0m | \u001b[36msrc.beam.experiment\u001b[0m:\u001b[36mlog_data\u001b[0m:\u001b[36m447\u001b[0m - \u001b[1mlr 1e-05 \t|\u001b[0m\n",
      "\u001b[32m2022-06-26 18:12:55.318\u001b[0m | \u001b[1mINFO    \u001b[0m | \u001b[36msrc.beam.experiment\u001b[0m:\u001b[36mlog_data\u001b[0m:\u001b[36m443\u001b[0m - \u001b[1mvalidation:\u001b[0m\n",
      "\u001b[32m2022-06-26 18:12:55.318\u001b[0m | \u001b[1mINFO    \u001b[0m | \u001b[36msrc.beam.experiment\u001b[0m:\u001b[36mlog_data\u001b[0m:\u001b[36m447\u001b[0m - \u001b[1mloss 701.792 \t|\u001b[0m\n",
      "\u001b[32m2022-06-26 18:12:55.319\u001b[0m | \u001b[1mINFO    \u001b[0m | \u001b[36msrc.beam.experiment\u001b[0m:\u001b[36mlog_data\u001b[0m:\u001b[36m447\u001b[0m - \u001b[1macc 0.885306 \t|\u001b[0m\n"
     ]
    },
    {
     "data": {
      "application/vnd.jupyter.widget-view+json": {
       "model_id": "d010ec957a004664a526793b93ecee92",
       "version_major": 2,
       "version_minor": 0
      },
      "text/plain": [
       "train:   0%|          | 0/339 [00:00<?, ?it/s]"
      ]
     },
     "metadata": {},
     "output_type": "display_data"
    },
    {
     "data": {
      "application/vnd.jupyter.widget-view+json": {
       "model_id": "d3759b231383472486076ecdf91b69ec",
       "version_major": 2,
       "version_minor": 0
      },
      "text/plain": [
       "validation:   0%|          | 0/112 [00:00<?, ?it/s]"
      ]
     },
     "metadata": {},
     "output_type": "display_data"
    },
    {
     "name": "stdout",
     "output_type": "stream",
     "text": [
      "\u001b[32m2022-06-26 18:14:41.372\u001b[0m | \u001b[1mINFO    \u001b[0m | \u001b[36msrc.beam.model\u001b[0m:\u001b[36mstep\u001b[0m:\u001b[36m590\u001b[0m - \u001b[1mbr was changed to 0.8373336884610939\u001b[0m\n",
      "\u001b[32m2022-06-26 18:14:41.373\u001b[0m | \u001b[1mINFO    \u001b[0m | \u001b[36msrc.beam.model\u001b[0m:\u001b[36mstep\u001b[0m:\u001b[36m591\u001b[0m - \u001b[1mlambda_llr was changed to 0.08329130546363456\u001b[0m\n",
      "\n",
      "\u001b[32m2022-06-26 18:14:41.375\u001b[0m | \u001b[1mINFO    \u001b[0m | \u001b[36msrc.beam.experiment\u001b[0m:\u001b[36msave_model_results\u001b[0m:\u001b[36m397\u001b[0m - \u001b[1mFinished epoch 95/100:\u001b[0m\n",
      "\u001b[32m2022-06-26 18:14:41.379\u001b[0m | \u001b[1mINFO    \u001b[0m | \u001b[36msrc.beam.experiment\u001b[0m:\u001b[36mlog_data\u001b[0m:\u001b[36m443\u001b[0m - \u001b[1mtrain:\u001b[0m\n",
      "\u001b[32m2022-06-26 18:14:41.380\u001b[0m | \u001b[1mINFO    \u001b[0m | \u001b[36msrc.beam.experiment\u001b[0m:\u001b[36mlog_data\u001b[0m:\u001b[36m447\u001b[0m - \u001b[1mloss 683.302 \t|\u001b[0m\n",
      "\u001b[32m2022-06-26 18:14:41.381\u001b[0m | \u001b[1mINFO    \u001b[0m | \u001b[36msrc.beam.experiment\u001b[0m:\u001b[36mlog_data\u001b[0m:\u001b[36m447\u001b[0m - \u001b[1macc 0.894358 \t|\u001b[0m\n",
      "\u001b[32m2022-06-26 18:14:41.382\u001b[0m | \u001b[1mINFO    \u001b[0m | \u001b[36msrc.beam.experiment\u001b[0m:\u001b[36mlog_data\u001b[0m:\u001b[36m447\u001b[0m - \u001b[1mlr 1e-05 \t|\u001b[0m\n",
      "\u001b[32m2022-06-26 18:14:41.384\u001b[0m | \u001b[1mINFO    \u001b[0m | \u001b[36msrc.beam.experiment\u001b[0m:\u001b[36mlog_data\u001b[0m:\u001b[36m443\u001b[0m - \u001b[1mvalidation:\u001b[0m\n",
      "\u001b[32m2022-06-26 18:14:41.385\u001b[0m | \u001b[1mINFO    \u001b[0m | \u001b[36msrc.beam.experiment\u001b[0m:\u001b[36mlog_data\u001b[0m:\u001b[36m447\u001b[0m - \u001b[1mloss 699.405 \t|\u001b[0m\n",
      "\u001b[32m2022-06-26 18:14:41.386\u001b[0m | \u001b[1mINFO    \u001b[0m | \u001b[36msrc.beam.experiment\u001b[0m:\u001b[36mlog_data\u001b[0m:\u001b[36m447\u001b[0m - \u001b[1macc 0.88807 \t|\u001b[0m\n"
     ]
    },
    {
     "data": {
      "application/vnd.jupyter.widget-view+json": {
       "model_id": "7a13a441dba74d02b85e7a19e19e33be",
       "version_major": 2,
       "version_minor": 0
      },
      "text/plain": [
       "train:   0%|          | 0/339 [00:00<?, ?it/s]"
      ]
     },
     "metadata": {},
     "output_type": "display_data"
    },
    {
     "data": {
      "application/vnd.jupyter.widget-view+json": {
       "model_id": "5f744bbd7f234c5d8eb8cbd0ddc48c57",
       "version_major": 2,
       "version_minor": 0
      },
      "text/plain": [
       "validation:   0%|          | 0/112 [00:00<?, ?it/s]"
      ]
     },
     "metadata": {},
     "output_type": "display_data"
    },
    {
     "name": "stdout",
     "output_type": "stream",
     "text": [
      "\u001b[32m2022-06-26 18:16:27.448\u001b[0m | \u001b[1mINFO    \u001b[0m | \u001b[36msrc.beam.model\u001b[0m:\u001b[36mstep\u001b[0m:\u001b[36m590\u001b[0m - \u001b[1mbr was changed to 0.8356922394165595\u001b[0m\n",
      "\u001b[32m2022-06-26 18:16:27.449\u001b[0m | \u001b[1mINFO    \u001b[0m | \u001b[36msrc.beam.model\u001b[0m:\u001b[36mstep\u001b[0m:\u001b[36m591\u001b[0m - \u001b[1mlambda_llr was changed to 0.08427029296597803\u001b[0m\n",
      "\n",
      "\u001b[32m2022-06-26 18:16:27.450\u001b[0m | \u001b[1mINFO    \u001b[0m | \u001b[36msrc.beam.experiment\u001b[0m:\u001b[36msave_model_results\u001b[0m:\u001b[36m397\u001b[0m - \u001b[1mFinished epoch 96/100:\u001b[0m\n",
      "\u001b[32m2022-06-26 18:16:27.453\u001b[0m | \u001b[1mINFO    \u001b[0m | \u001b[36msrc.beam.experiment\u001b[0m:\u001b[36mlog_data\u001b[0m:\u001b[36m443\u001b[0m - \u001b[1mtrain:\u001b[0m\n",
      "\u001b[32m2022-06-26 18:16:27.454\u001b[0m | \u001b[1mINFO    \u001b[0m | \u001b[36msrc.beam.experiment\u001b[0m:\u001b[36mlog_data\u001b[0m:\u001b[36m447\u001b[0m - \u001b[1mloss 685.523 \t|\u001b[0m\n",
      "\u001b[32m2022-06-26 18:16:27.455\u001b[0m | \u001b[1mINFO    \u001b[0m | \u001b[36msrc.beam.experiment\u001b[0m:\u001b[36mlog_data\u001b[0m:\u001b[36m447\u001b[0m - \u001b[1macc 0.892765 \t|\u001b[0m\n",
      "\u001b[32m2022-06-26 18:16:27.455\u001b[0m | \u001b[1mINFO    \u001b[0m | \u001b[36msrc.beam.experiment\u001b[0m:\u001b[36mlog_data\u001b[0m:\u001b[36m447\u001b[0m - \u001b[1mlr 1e-05 \t|\u001b[0m\n",
      "\u001b[32m2022-06-26 18:16:27.456\u001b[0m | \u001b[1mINFO    \u001b[0m | \u001b[36msrc.beam.experiment\u001b[0m:\u001b[36mlog_data\u001b[0m:\u001b[36m443\u001b[0m - \u001b[1mvalidation:\u001b[0m\n",
      "\u001b[32m2022-06-26 18:16:27.457\u001b[0m | \u001b[1mINFO    \u001b[0m | \u001b[36msrc.beam.experiment\u001b[0m:\u001b[36mlog_data\u001b[0m:\u001b[36m447\u001b[0m - \u001b[1mloss 701.464 \t|\u001b[0m\n",
      "\u001b[32m2022-06-26 18:16:27.458\u001b[0m | \u001b[1mINFO    \u001b[0m | \u001b[36msrc.beam.experiment\u001b[0m:\u001b[36mlog_data\u001b[0m:\u001b[36m447\u001b[0m - \u001b[1macc 0.88644 \t|\u001b[0m\n"
     ]
    },
    {
     "data": {
      "application/vnd.jupyter.widget-view+json": {
       "model_id": "fd8465225f004e1ebfc70e0cfaf2fff5",
       "version_major": 2,
       "version_minor": 0
      },
      "text/plain": [
       "train:   0%|          | 0/339 [00:00<?, ?it/s]"
      ]
     },
     "metadata": {},
     "output_type": "display_data"
    },
    {
     "data": {
      "application/vnd.jupyter.widget-view+json": {
       "model_id": "2ca6baf1f9e94ef2b95e7d28a9e985a4",
       "version_major": 2,
       "version_minor": 0
      },
      "text/plain": [
       "validation:   0%|          | 0/112 [00:00<?, ?it/s]"
      ]
     },
     "metadata": {},
     "output_type": "display_data"
    },
    {
     "name": "stdout",
     "output_type": "stream",
     "text": [
      "\u001b[32m2022-06-26 18:18:13.520\u001b[0m | \u001b[1mINFO    \u001b[0m | \u001b[36msrc.beam.model\u001b[0m:\u001b[36mstep\u001b[0m:\u001b[36m590\u001b[0m - \u001b[1mbr was changed to 0.8339685496580035\u001b[0m\n",
      "\u001b[32m2022-06-26 18:18:13.521\u001b[0m | \u001b[1mINFO    \u001b[0m | \u001b[36msrc.beam.model\u001b[0m:\u001b[36mstep\u001b[0m:\u001b[36m591\u001b[0m - \u001b[1mlambda_llr was changed to 0.08525546785436293\u001b[0m\n",
      "\n",
      "\u001b[32m2022-06-26 18:18:13.522\u001b[0m | \u001b[1mINFO    \u001b[0m | \u001b[36msrc.beam.experiment\u001b[0m:\u001b[36msave_model_results\u001b[0m:\u001b[36m397\u001b[0m - \u001b[1mFinished epoch 97/100:\u001b[0m\n",
      "\u001b[32m2022-06-26 18:18:13.525\u001b[0m | \u001b[1mINFO    \u001b[0m | \u001b[36msrc.beam.experiment\u001b[0m:\u001b[36mlog_data\u001b[0m:\u001b[36m443\u001b[0m - \u001b[1mtrain:\u001b[0m\n",
      "\u001b[32m2022-06-26 18:18:13.526\u001b[0m | \u001b[1mINFO    \u001b[0m | \u001b[36msrc.beam.experiment\u001b[0m:\u001b[36mlog_data\u001b[0m:\u001b[36m447\u001b[0m - \u001b[1mloss 687.958 \t|\u001b[0m\n",
      "\u001b[32m2022-06-26 18:18:13.527\u001b[0m | \u001b[1mINFO    \u001b[0m | \u001b[36msrc.beam.experiment\u001b[0m:\u001b[36mlog_data\u001b[0m:\u001b[36m447\u001b[0m - \u001b[1macc 0.891898 \t|\u001b[0m\n",
      "\u001b[32m2022-06-26 18:18:13.527\u001b[0m | \u001b[1mINFO    \u001b[0m | \u001b[36msrc.beam.experiment\u001b[0m:\u001b[36mlog_data\u001b[0m:\u001b[36m447\u001b[0m - \u001b[1mlr 1e-05 \t|\u001b[0m\n",
      "\u001b[32m2022-06-26 18:18:13.528\u001b[0m | \u001b[1mINFO    \u001b[0m | \u001b[36msrc.beam.experiment\u001b[0m:\u001b[36mlog_data\u001b[0m:\u001b[36m443\u001b[0m - \u001b[1mvalidation:\u001b[0m\n",
      "\u001b[32m2022-06-26 18:18:13.529\u001b[0m | \u001b[1mINFO    \u001b[0m | \u001b[36msrc.beam.experiment\u001b[0m:\u001b[36mlog_data\u001b[0m:\u001b[36m447\u001b[0m - \u001b[1mloss 705.226 \t|\u001b[0m\n",
      "\u001b[32m2022-06-26 18:18:13.530\u001b[0m | \u001b[1mINFO    \u001b[0m | \u001b[36msrc.beam.experiment\u001b[0m:\u001b[36mlog_data\u001b[0m:\u001b[36m447\u001b[0m - \u001b[1macc 0.88385 \t|\u001b[0m\n"
     ]
    },
    {
     "data": {
      "application/vnd.jupyter.widget-view+json": {
       "model_id": "68a8fa56a69842a085e394745b11ee3f",
       "version_major": 2,
       "version_minor": 0
      },
      "text/plain": [
       "train:   0%|          | 0/339 [00:00<?, ?it/s]"
      ]
     },
     "metadata": {},
     "output_type": "display_data"
    },
    {
     "data": {
      "application/vnd.jupyter.widget-view+json": {
       "model_id": "a365829a826748e0af9e5c8726538358",
       "version_major": 2,
       "version_minor": 0
      },
      "text/plain": [
       "validation:   0%|          | 0/112 [00:00<?, ?it/s]"
      ]
     },
     "metadata": {},
     "output_type": "display_data"
    },
    {
     "name": "stdout",
     "output_type": "stream",
     "text": [
      "\u001b[32m2022-06-26 18:20:00.080\u001b[0m | \u001b[1mINFO    \u001b[0m | \u001b[36msrc.beam.model\u001b[0m:\u001b[36mstep\u001b[0m:\u001b[36m590\u001b[0m - \u001b[1mbr was changed to 0.8321842872609196\u001b[0m\n",
      "\u001b[32m2022-06-26 18:20:00.082\u001b[0m | \u001b[1mINFO    \u001b[0m | \u001b[36msrc.beam.model\u001b[0m:\u001b[36mstep\u001b[0m:\u001b[36m591\u001b[0m - \u001b[1mlambda_llr was changed to 0.08624449426607969\u001b[0m\n",
      "\n",
      "\u001b[32m2022-06-26 18:20:00.083\u001b[0m | \u001b[1mINFO    \u001b[0m | \u001b[36msrc.beam.experiment\u001b[0m:\u001b[36msave_model_results\u001b[0m:\u001b[36m397\u001b[0m - \u001b[1mFinished epoch 98/100:\u001b[0m\n",
      "\u001b[32m2022-06-26 18:20:00.086\u001b[0m | \u001b[1mINFO    \u001b[0m | \u001b[36msrc.beam.experiment\u001b[0m:\u001b[36mlog_data\u001b[0m:\u001b[36m443\u001b[0m - \u001b[1mtrain:\u001b[0m\n",
      "\u001b[32m2022-06-26 18:20:00.087\u001b[0m | \u001b[1mINFO    \u001b[0m | \u001b[36msrc.beam.experiment\u001b[0m:\u001b[36mlog_data\u001b[0m:\u001b[36m447\u001b[0m - \u001b[1mloss 689.073 \t|\u001b[0m\n",
      "\u001b[32m2022-06-26 18:20:00.088\u001b[0m | \u001b[1mINFO    \u001b[0m | \u001b[36msrc.beam.experiment\u001b[0m:\u001b[36mlog_data\u001b[0m:\u001b[36m447\u001b[0m - \u001b[1macc 0.891434 \t|\u001b[0m\n",
      "\u001b[32m2022-06-26 18:20:00.089\u001b[0m | \u001b[1mINFO    \u001b[0m | \u001b[36msrc.beam.experiment\u001b[0m:\u001b[36mlog_data\u001b[0m:\u001b[36m447\u001b[0m - \u001b[1mlr 1e-05 \t|\u001b[0m\n",
      "\u001b[32m2022-06-26 18:20:00.090\u001b[0m | \u001b[1mINFO    \u001b[0m | \u001b[36msrc.beam.experiment\u001b[0m:\u001b[36mlog_data\u001b[0m:\u001b[36m443\u001b[0m - \u001b[1mvalidation:\u001b[0m\n",
      "\u001b[32m2022-06-26 18:20:00.090\u001b[0m | \u001b[1mINFO    \u001b[0m | \u001b[36msrc.beam.experiment\u001b[0m:\u001b[36mlog_data\u001b[0m:\u001b[36m447\u001b[0m - \u001b[1mloss 707.467 \t|\u001b[0m\n",
      "\u001b[32m2022-06-26 18:20:00.091\u001b[0m | \u001b[1mINFO    \u001b[0m | \u001b[36msrc.beam.experiment\u001b[0m:\u001b[36mlog_data\u001b[0m:\u001b[36m447\u001b[0m - \u001b[1macc 0.882717 \t|\u001b[0m\n"
     ]
    },
    {
     "data": {
      "application/vnd.jupyter.widget-view+json": {
       "model_id": "ecf6db778fbb40e5ab554e5e1db39ee9",
       "version_major": 2,
       "version_minor": 0
      },
      "text/plain": [
       "train:   0%|          | 0/339 [00:00<?, ?it/s]"
      ]
     },
     "metadata": {},
     "output_type": "display_data"
    },
    {
     "data": {
      "application/vnd.jupyter.widget-view+json": {
       "model_id": "075a55b651494691a8357332604945e5",
       "version_major": 2,
       "version_minor": 0
      },
      "text/plain": [
       "validation:   0%|          | 0/112 [00:00<?, ?it/s]"
      ]
     },
     "metadata": {},
     "output_type": "display_data"
    },
    {
     "name": "stdout",
     "output_type": "stream",
     "text": [
      "\u001b[32m2022-06-26 18:21:45.808\u001b[0m | \u001b[1mINFO    \u001b[0m | \u001b[36msrc.beam.model\u001b[0m:\u001b[36mstep\u001b[0m:\u001b[36m590\u001b[0m - \u001b[1mbr was changed to 0.8305630072461575\u001b[0m\n",
      "\u001b[32m2022-06-26 18:21:45.809\u001b[0m | \u001b[1mINFO    \u001b[0m | \u001b[36msrc.beam.model\u001b[0m:\u001b[36mstep\u001b[0m:\u001b[36m591\u001b[0m - \u001b[1mlambda_llr was changed to 0.08722458820583187\u001b[0m\n",
      "\n",
      "\u001b[32m2022-06-26 18:21:45.811\u001b[0m | \u001b[1mINFO    \u001b[0m | \u001b[36msrc.beam.experiment\u001b[0m:\u001b[36msave_model_results\u001b[0m:\u001b[36m397\u001b[0m - \u001b[1mFinished epoch 99/100:\u001b[0m\n",
      "\u001b[32m2022-06-26 18:21:45.814\u001b[0m | \u001b[1mINFO    \u001b[0m | \u001b[36msrc.beam.experiment\u001b[0m:\u001b[36mlog_data\u001b[0m:\u001b[36m443\u001b[0m - \u001b[1mtrain:\u001b[0m\n",
      "\u001b[32m2022-06-26 18:21:45.815\u001b[0m | \u001b[1mINFO    \u001b[0m | \u001b[36msrc.beam.experiment\u001b[0m:\u001b[36mlog_data\u001b[0m:\u001b[36m447\u001b[0m - \u001b[1mloss 691.06 \t|\u001b[0m\n",
      "\u001b[32m2022-06-26 18:21:45.816\u001b[0m | \u001b[1mINFO    \u001b[0m | \u001b[36msrc.beam.experiment\u001b[0m:\u001b[36mlog_data\u001b[0m:\u001b[36m447\u001b[0m - \u001b[1macc 0.890544 \t|\u001b[0m\n",
      "\u001b[32m2022-06-26 18:21:45.817\u001b[0m | \u001b[1mINFO    \u001b[0m | \u001b[36msrc.beam.experiment\u001b[0m:\u001b[36mlog_data\u001b[0m:\u001b[36m447\u001b[0m - \u001b[1mlr 1e-05 \t|\u001b[0m\n",
      "\u001b[32m2022-06-26 18:21:45.818\u001b[0m | \u001b[1mINFO    \u001b[0m | \u001b[36msrc.beam.experiment\u001b[0m:\u001b[36mlog_data\u001b[0m:\u001b[36m443\u001b[0m - \u001b[1mvalidation:\u001b[0m\n",
      "\u001b[32m2022-06-26 18:21:45.818\u001b[0m | \u001b[1mINFO    \u001b[0m | \u001b[36msrc.beam.experiment\u001b[0m:\u001b[36mlog_data\u001b[0m:\u001b[36m447\u001b[0m - \u001b[1mloss 707.328 \t|\u001b[0m\n",
      "\u001b[32m2022-06-26 18:21:45.819\u001b[0m | \u001b[1mINFO    \u001b[0m | \u001b[36msrc.beam.experiment\u001b[0m:\u001b[36mlog_data\u001b[0m:\u001b[36m447\u001b[0m - \u001b[1macc 0.882446 \t|\u001b[0m\n"
     ]
    },
    {
     "data": {
      "application/vnd.jupyter.widget-view+json": {
       "model_id": "f3f0ff02eedf4670b69f5f14aacd7811",
       "version_major": 2,
       "version_minor": 0
      },
      "text/plain": [
       "train:   0%|          | 0/339 [00:00<?, ?it/s]"
      ]
     },
     "metadata": {},
     "output_type": "display_data"
    },
    {
     "data": {
      "application/vnd.jupyter.widget-view+json": {
       "model_id": "b51db35a68854c6d94d92e73d9c771b8",
       "version_major": 2,
       "version_minor": 0
      },
      "text/plain": [
       "validation:   0%|          | 0/112 [00:00<?, ?it/s]"
      ]
     },
     "metadata": {},
     "output_type": "display_data"
    },
    {
     "name": "stdout",
     "output_type": "stream",
     "text": [
      "\u001b[32m2022-06-26 18:23:31.715\u001b[0m | \u001b[1mINFO    \u001b[0m | \u001b[36msrc.beam.model\u001b[0m:\u001b[36mstep\u001b[0m:\u001b[36m590\u001b[0m - \u001b[1mbr was changed to 0.8290065502177499\u001b[0m\n",
      "\u001b[32m2022-06-26 18:23:31.716\u001b[0m | \u001b[1mINFO    \u001b[0m | \u001b[36msrc.beam.model\u001b[0m:\u001b[36mstep\u001b[0m:\u001b[36m591\u001b[0m - \u001b[1mlambda_llr was changed to 0.08819784233820116\u001b[0m\n",
      "\n",
      "\u001b[32m2022-06-26 18:23:31.718\u001b[0m | \u001b[1mINFO    \u001b[0m | \u001b[36msrc.beam.experiment\u001b[0m:\u001b[36msave_model_results\u001b[0m:\u001b[36m397\u001b[0m - \u001b[1mFinished epoch 100/100:\u001b[0m\n",
      "\u001b[32m2022-06-26 18:23:31.722\u001b[0m | \u001b[1mINFO    \u001b[0m | \u001b[36msrc.beam.experiment\u001b[0m:\u001b[36mlog_data\u001b[0m:\u001b[36m443\u001b[0m - \u001b[1mtrain:\u001b[0m\n",
      "\u001b[32m2022-06-26 18:23:31.723\u001b[0m | \u001b[1mINFO    \u001b[0m | \u001b[36msrc.beam.experiment\u001b[0m:\u001b[36mlog_data\u001b[0m:\u001b[36m447\u001b[0m - \u001b[1mloss 693.034 \t|\u001b[0m\n",
      "\u001b[32m2022-06-26 18:23:31.724\u001b[0m | \u001b[1mINFO    \u001b[0m | \u001b[36msrc.beam.experiment\u001b[0m:\u001b[36mlog_data\u001b[0m:\u001b[36m447\u001b[0m - \u001b[1macc 0.889118 \t|\u001b[0m\n",
      "\u001b[32m2022-06-26 18:23:31.725\u001b[0m | \u001b[1mINFO    \u001b[0m | \u001b[36msrc.beam.experiment\u001b[0m:\u001b[36mlog_data\u001b[0m:\u001b[36m447\u001b[0m - \u001b[1mlr 1e-05 \t|\u001b[0m\n",
      "\u001b[32m2022-06-26 18:23:31.727\u001b[0m | \u001b[1mINFO    \u001b[0m | \u001b[36msrc.beam.experiment\u001b[0m:\u001b[36mlog_data\u001b[0m:\u001b[36m443\u001b[0m - \u001b[1mvalidation:\u001b[0m\n",
      "\u001b[32m2022-06-26 18:23:31.728\u001b[0m | \u001b[1mINFO    \u001b[0m | \u001b[36msrc.beam.experiment\u001b[0m:\u001b[36mlog_data\u001b[0m:\u001b[36m447\u001b[0m - \u001b[1mloss 708.265 \t|\u001b[0m\n",
      "\u001b[32m2022-06-26 18:23:31.729\u001b[0m | \u001b[1mINFO    \u001b[0m | \u001b[36msrc.beam.experiment\u001b[0m:\u001b[36mlog_data\u001b[0m:\u001b[36m447\u001b[0m - \u001b[1macc 0.883493 \t|\u001b[0m\n"
     ]
    },
    {
     "name": "stderr",
     "output_type": "stream",
     "text": [
      "*** SIGTERM received at time=1656335415 on cpu 73 ***\n",
      "PC: @     0x7f4da3f70155  (unknown)  __clone\n",
      "    @     0x7f4da41bd3c0  1257294768  (unknown)\n",
      "    @     0x7f4da3b25bb0  (unknown)  (unknown)\n",
      "    @     0x563542705fa0  (unknown)  (unknown)\n",
      "[2022-06-27 13:10:15,855 E 10960 50473] logging.cc:325: *** SIGTERM received at time=1656335415 on cpu 73 ***\n",
      "[2022-06-27 13:10:15,855 E 10960 50473] logging.cc:325: PC: @     0x7f4da3f70155  (unknown)  __clone\n",
      "[2022-06-27 13:10:15,860 E 10960 50473] logging.cc:325:     @     0x7f4da41bd3c0  1257294768  (unknown)\n",
      "[2022-06-27 13:10:15,866 E 10960 50473] logging.cc:325:     @     0x7f4da3b25bb0  (unknown)  (unknown)\n",
      "[2022-06-27 13:10:15,875 E 10960 50473] logging.cc:325:     @     0x563542705fa0  (unknown)  (unknown)\n"
     ]
    }
   ],
   "source": [
    "alg = experiment(covtype_algorithm_generator)"
   ]
  },
  {
   "cell_type": "code",
   "execution_count": 13,
   "id": "a6ffe79a-9eb9-42ab-8ec3-32d6ea6f4e0f",
   "metadata": {},
   "outputs": [
    {
     "data": {
      "application/vnd.jupyter.widget-view+json": {
       "model_id": "04a9d7626e1e499080b502484ad46ba1",
       "version_major": 2,
       "version_minor": 0
      },
      "text/plain": [
       "test:   0%|          | 0/454 [00:00<?, ?it/s]"
      ]
     },
     "metadata": {},
     "output_type": "display_data"
    }
   ],
   "source": [
    "results = alg.evaluate('test')"
   ]
  },
  {
   "cell_type": "code",
   "execution_count": 15,
   "id": "ba561c37-4e14-4c44-85df-a721b6623407",
   "metadata": {},
   "outputs": [
    {
     "data": {
      "text/plain": [
       "0.8330432722747063"
      ]
     },
     "execution_count": 15,
     "metadata": {},
     "output_type": "execute_result"
    }
   ],
   "source": [
    "np.mean(results['scalar']['acc'])"
   ]
  },
  {
   "cell_type": "code",
   "execution_count": 14,
   "id": "f2efc22b-b7ca-46a2-816e-772265581b45",
   "metadata": {},
   "outputs": [],
   "source": [
    "%load_ext tensorboard"
   ]
  },
  {
   "cell_type": "code",
   "execution_count": 15,
   "id": "82eb0abf-3593-4cd4-9057-5bd6bf9541ff",
   "metadata": {},
   "outputs": [
    {
     "data": {
      "text/html": [
       "\n",
       "      <iframe id=\"tensorboard-frame-d255395e57a83dd7\" width=\"100%\" height=\"800\" frameborder=\"0\">\n",
       "      </iframe>\n",
       "      <script>\n",
       "        (function() {\n",
       "          const frame = document.getElementById(\"tensorboard-frame-d255395e57a83dd7\");\n",
       "          const url = new URL(\"/\", window.location);\n",
       "          const port = 17067;\n",
       "          if (port) {\n",
       "            url.port = port;\n",
       "          }\n",
       "          frame.src = url;\n",
       "        })();\n",
       "      </script>\n",
       "    "
      ],
      "text/plain": [
       "<IPython.core.display.HTML object>"
      ]
     },
     "metadata": {},
     "output_type": "display_data"
    }
   ],
   "source": [
    "%tensorboard --logdir /home/shared/data/results/covtype/covtype/CovtypeAlgorithm/debug/0001_20220622_160022 --port=17067 --bind_all"
   ]
  },
  {
   "cell_type": "code",
   "execution_count": null,
   "id": "0e29658e-f135-47fd-8854-c7740270bfdc",
   "metadata": {},
   "outputs": [],
   "source": []
  },
  {
   "cell_type": "code",
   "execution_count": 6,
   "id": "f3fc3822-56f1-4fcd-8f2a-18f48d6c4d72",
   "metadata": {},
   "outputs": [
    {
     "name": "stdout",
     "output_type": "stream",
     "text": [
      "\u001b[32m2022-06-23 11:44:34.677\u001b[0m | \u001b[1mINFO    \u001b[0m | \u001b[36msrc.beam.experiment\u001b[0m:\u001b[36m__init__\u001b[0m:\u001b[36m183\u001b[0m - \u001b[1mbeam project: covtype\u001b[0m\n",
      "\u001b[32m2022-06-23 11:44:34.679\u001b[0m | \u001b[1mINFO    \u001b[0m | \u001b[36msrc.beam.experiment\u001b[0m:\u001b[36m__init__\u001b[0m:\u001b[36m184\u001b[0m - \u001b[1mExperiment Hyperparameters\u001b[0m\n",
      "\u001b[32m2022-06-23 11:44:34.683\u001b[0m | \u001b[1mINFO    \u001b[0m | \u001b[36msrc.beam.experiment\u001b[0m:\u001b[36m__init__\u001b[0m:\u001b[36m189\u001b[0m - \u001b[1mproject_name: covtype\u001b[0m\n",
      "\u001b[32m2022-06-23 11:44:34.685\u001b[0m | \u001b[1mINFO    \u001b[0m | \u001b[36msrc.beam.experiment\u001b[0m:\u001b[36m__init__\u001b[0m:\u001b[36m189\u001b[0m - \u001b[1midentifier: half_precision\u001b[0m\n",
      "\u001b[32m2022-06-23 11:44:34.686\u001b[0m | \u001b[1mINFO    \u001b[0m | \u001b[36msrc.beam.experiment\u001b[0m:\u001b[36m__init__\u001b[0m:\u001b[36m189\u001b[0m - \u001b[1malgorithm: CovtypeAlgorithm\u001b[0m\n",
      "\u001b[32m2022-06-23 11:44:34.687\u001b[0m | \u001b[1mINFO    \u001b[0m | \u001b[36msrc.beam.experiment\u001b[0m:\u001b[36m__init__\u001b[0m:\u001b[36m189\u001b[0m - \u001b[1mmp_port: None\u001b[0m\n",
      "\u001b[32m2022-06-23 11:44:34.688\u001b[0m | \u001b[1mINFO    \u001b[0m | \u001b[36msrc.beam.experiment\u001b[0m:\u001b[36m__init__\u001b[0m:\u001b[36m189\u001b[0m - \u001b[1mroot_dir: /home/shared/data/results/covtype\u001b[0m\n",
      "\u001b[32m2022-06-23 11:44:34.688\u001b[0m | \u001b[1mINFO    \u001b[0m | \u001b[36msrc.beam.experiment\u001b[0m:\u001b[36m__init__\u001b[0m:\u001b[36m189\u001b[0m - \u001b[1mreload: False\u001b[0m\n",
      "\u001b[32m2022-06-23 11:44:34.689\u001b[0m | \u001b[1mINFO    \u001b[0m | \u001b[36msrc.beam.experiment\u001b[0m:\u001b[36m__init__\u001b[0m:\u001b[36m189\u001b[0m - \u001b[1mresume: -1\u001b[0m\n",
      "\u001b[32m2022-06-23 11:44:34.690\u001b[0m | \u001b[1mINFO    \u001b[0m | \u001b[36msrc.beam.experiment\u001b[0m:\u001b[36m__init__\u001b[0m:\u001b[36m189\u001b[0m - \u001b[1moverride: False\u001b[0m\n",
      "\u001b[32m2022-06-23 11:44:34.690\u001b[0m | \u001b[1mINFO    \u001b[0m | \u001b[36msrc.beam.experiment\u001b[0m:\u001b[36m__init__\u001b[0m:\u001b[36m189\u001b[0m - \u001b[1mcpu_workers: 0\u001b[0m\n",
      "\u001b[32m2022-06-23 11:44:34.692\u001b[0m | \u001b[1mINFO    \u001b[0m | \u001b[36msrc.beam.experiment\u001b[0m:\u001b[36m__init__\u001b[0m:\u001b[36m189\u001b[0m - \u001b[1mdevice: 1\u001b[0m\n",
      "\u001b[32m2022-06-23 11:44:34.693\u001b[0m | \u001b[1mINFO    \u001b[0m | \u001b[36msrc.beam.experiment\u001b[0m:\u001b[36m__init__\u001b[0m:\u001b[36m189\u001b[0m - \u001b[1mparallel: 1\u001b[0m\n",
      "\u001b[32m2022-06-23 11:44:34.693\u001b[0m | \u001b[1mINFO    \u001b[0m | \u001b[36msrc.beam.experiment\u001b[0m:\u001b[36m__init__\u001b[0m:\u001b[36m189\u001b[0m - \u001b[1mtensorboard: True\u001b[0m\n",
      "\u001b[32m2022-06-23 11:44:34.694\u001b[0m | \u001b[1mINFO    \u001b[0m | \u001b[36msrc.beam.experiment\u001b[0m:\u001b[36m__init__\u001b[0m:\u001b[36m189\u001b[0m - \u001b[1mlognet: True\u001b[0m\n",
      "\u001b[32m2022-06-23 11:44:34.695\u001b[0m | \u001b[1mINFO    \u001b[0m | \u001b[36msrc.beam.experiment\u001b[0m:\u001b[36m__init__\u001b[0m:\u001b[36m189\u001b[0m - \u001b[1mdeterministic: False\u001b[0m\n",
      "\u001b[32m2022-06-23 11:44:34.696\u001b[0m | \u001b[1mINFO    \u001b[0m | \u001b[36msrc.beam.experiment\u001b[0m:\u001b[36m__init__\u001b[0m:\u001b[36m189\u001b[0m - \u001b[1mscale_epoch_by_batch_size: True\u001b[0m\n",
      "\u001b[32m2022-06-23 11:44:34.697\u001b[0m | \u001b[1mINFO    \u001b[0m | \u001b[36msrc.beam.experiment\u001b[0m:\u001b[36m__init__\u001b[0m:\u001b[36m189\u001b[0m - \u001b[1mcudnn_benchmark: True\u001b[0m\n",
      "\u001b[32m2022-06-23 11:44:34.698\u001b[0m | \u001b[1mINFO    \u001b[0m | \u001b[36msrc.beam.experiment\u001b[0m:\u001b[36m__init__\u001b[0m:\u001b[36m189\u001b[0m - \u001b[1mhalf: False\u001b[0m\n",
      "\u001b[32m2022-06-23 11:44:34.699\u001b[0m | \u001b[1mINFO    \u001b[0m | \u001b[36msrc.beam.experiment\u001b[0m:\u001b[36m__init__\u001b[0m:\u001b[36m189\u001b[0m - \u001b[1mamp: True\u001b[0m\n",
      "\u001b[32m2022-06-23 11:44:34.699\u001b[0m | \u001b[1mINFO    \u001b[0m | \u001b[36msrc.beam.experiment\u001b[0m:\u001b[36m__init__\u001b[0m:\u001b[36m189\u001b[0m - \u001b[1minit: ortho\u001b[0m\n",
      "\u001b[32m2022-06-23 11:44:34.700\u001b[0m | \u001b[1mINFO    \u001b[0m | \u001b[36msrc.beam.experiment\u001b[0m:\u001b[36m__init__\u001b[0m:\u001b[36m189\u001b[0m - \u001b[1mseed: 0\u001b[0m\n",
      "\u001b[32m2022-06-23 11:44:34.701\u001b[0m | \u001b[1mINFO    \u001b[0m | \u001b[36msrc.beam.experiment\u001b[0m:\u001b[36m__init__\u001b[0m:\u001b[36m189\u001b[0m - \u001b[1mtotal_steps: 1000000\u001b[0m\n",
      "\u001b[32m2022-06-23 11:44:34.702\u001b[0m | \u001b[1mINFO    \u001b[0m | \u001b[36msrc.beam.experiment\u001b[0m:\u001b[36m__init__\u001b[0m:\u001b[36m189\u001b[0m - \u001b[1mepoch_length: None\u001b[0m\n",
      "\u001b[32m2022-06-23 11:44:34.703\u001b[0m | \u001b[1mINFO    \u001b[0m | \u001b[36msrc.beam.experiment\u001b[0m:\u001b[36m__init__\u001b[0m:\u001b[36m189\u001b[0m - \u001b[1mepoch_length_train: None\u001b[0m\n",
      "\u001b[32m2022-06-23 11:44:34.704\u001b[0m | \u001b[1mINFO    \u001b[0m | \u001b[36msrc.beam.experiment\u001b[0m:\u001b[36m__init__\u001b[0m:\u001b[36m189\u001b[0m - \u001b[1mepoch_length_eval: None\u001b[0m\n",
      "\u001b[32m2022-06-23 11:44:34.704\u001b[0m | \u001b[1mINFO    \u001b[0m | \u001b[36msrc.beam.experiment\u001b[0m:\u001b[36m__init__\u001b[0m:\u001b[36m189\u001b[0m - \u001b[1mn_epochs: 100\u001b[0m\n",
      "\u001b[32m2022-06-23 11:44:34.705\u001b[0m | \u001b[1mINFO    \u001b[0m | \u001b[36msrc.beam.experiment\u001b[0m:\u001b[36m__init__\u001b[0m:\u001b[36m189\u001b[0m - \u001b[1mbatch_size: 256\u001b[0m\n",
      "\u001b[32m2022-06-23 11:44:34.706\u001b[0m | \u001b[1mINFO    \u001b[0m | \u001b[36msrc.beam.experiment\u001b[0m:\u001b[36m__init__\u001b[0m:\u001b[36m189\u001b[0m - \u001b[1mbatch_size_train: None\u001b[0m\n",
      "\u001b[32m2022-06-23 11:44:34.706\u001b[0m | \u001b[1mINFO    \u001b[0m | \u001b[36msrc.beam.experiment\u001b[0m:\u001b[36m__init__\u001b[0m:\u001b[36m189\u001b[0m - \u001b[1mbatch_size_eval: None\u001b[0m\n",
      "\u001b[32m2022-06-23 11:44:34.707\u001b[0m | \u001b[1mINFO    \u001b[0m | \u001b[36msrc.beam.experiment\u001b[0m:\u001b[36m__init__\u001b[0m:\u001b[36m189\u001b[0m - \u001b[1mlr_dense: 0.001\u001b[0m\n",
      "\u001b[32m2022-06-23 11:44:34.708\u001b[0m | \u001b[1mINFO    \u001b[0m | \u001b[36msrc.beam.experiment\u001b[0m:\u001b[36m__init__\u001b[0m:\u001b[36m189\u001b[0m - \u001b[1mlr_sparse: 0.01\u001b[0m\n",
      "\u001b[32m2022-06-23 11:44:34.709\u001b[0m | \u001b[1mINFO    \u001b[0m | \u001b[36msrc.beam.experiment\u001b[0m:\u001b[36m__init__\u001b[0m:\u001b[36m189\u001b[0m - \u001b[1mweight_decay: 1e-05\u001b[0m\n",
      "\u001b[32m2022-06-23 11:44:34.710\u001b[0m | \u001b[1mINFO    \u001b[0m | \u001b[36msrc.beam.experiment\u001b[0m:\u001b[36m__init__\u001b[0m:\u001b[36m189\u001b[0m - \u001b[1meps: 0.0001\u001b[0m\n",
      "\u001b[32m2022-06-23 11:44:34.711\u001b[0m | \u001b[1mINFO    \u001b[0m | \u001b[36msrc.beam.experiment\u001b[0m:\u001b[36m__init__\u001b[0m:\u001b[36m189\u001b[0m - \u001b[1mbeta1: 0.9\u001b[0m\n",
      "\u001b[32m2022-06-23 11:44:34.712\u001b[0m | \u001b[1mINFO    \u001b[0m | \u001b[36msrc.beam.experiment\u001b[0m:\u001b[36m__init__\u001b[0m:\u001b[36m189\u001b[0m - \u001b[1mclip: 0.0\u001b[0m\n",
      "\u001b[32m2022-06-23 11:44:34.713\u001b[0m | \u001b[1mINFO    \u001b[0m | \u001b[36msrc.beam.experiment\u001b[0m:\u001b[36m__init__\u001b[0m:\u001b[36m189\u001b[0m - \u001b[1maccumulate: 1\u001b[0m\n",
      "\u001b[32m2022-06-23 11:44:34.713\u001b[0m | \u001b[1mINFO    \u001b[0m | \u001b[36msrc.beam.experiment\u001b[0m:\u001b[36m__init__\u001b[0m:\u001b[36m189\u001b[0m - \u001b[1mprint_results: True\u001b[0m\n",
      "\u001b[32m2022-06-23 11:44:34.714\u001b[0m | \u001b[1mINFO    \u001b[0m | \u001b[36msrc.beam.experiment\u001b[0m:\u001b[36m__init__\u001b[0m:\u001b[36m189\u001b[0m - \u001b[1mvisualize_weights: True\u001b[0m\n",
      "\u001b[32m2022-06-23 11:44:34.715\u001b[0m | \u001b[1mINFO    \u001b[0m | \u001b[36msrc.beam.experiment\u001b[0m:\u001b[36m__init__\u001b[0m:\u001b[36m189\u001b[0m - \u001b[1menable_tqdm: True\u001b[0m\n",
      "\u001b[32m2022-06-23 11:44:34.716\u001b[0m | \u001b[1mINFO    \u001b[0m | \u001b[36msrc.beam.experiment\u001b[0m:\u001b[36m__init__\u001b[0m:\u001b[36m189\u001b[0m - \u001b[1mvisualize_results: yes\u001b[0m\n",
      "\u001b[32m2022-06-23 11:44:34.717\u001b[0m | \u001b[1mINFO    \u001b[0m | \u001b[36msrc.beam.experiment\u001b[0m:\u001b[36m__init__\u001b[0m:\u001b[36m189\u001b[0m - \u001b[1mstore_results: logscale\u001b[0m\n",
      "\u001b[32m2022-06-23 11:44:34.718\u001b[0m | \u001b[1mINFO    \u001b[0m | \u001b[36msrc.beam.experiment\u001b[0m:\u001b[36m__init__\u001b[0m:\u001b[36m189\u001b[0m - \u001b[1mstore_networks: logscale\u001b[0m\n",
      "\u001b[32m2022-06-23 11:44:34.719\u001b[0m | \u001b[1mINFO    \u001b[0m | \u001b[36msrc.beam.experiment\u001b[0m:\u001b[36m__init__\u001b[0m:\u001b[36m189\u001b[0m - \u001b[1mbeta2: 0.999\u001b[0m\n",
      "\u001b[32m2022-06-23 11:44:34.720\u001b[0m | \u001b[1mINFO    \u001b[0m | \u001b[36msrc.beam.experiment\u001b[0m:\u001b[36m__init__\u001b[0m:\u001b[36m189\u001b[0m - \u001b[1mlabel_smoothing: 0.05\u001b[0m\n",
      "\u001b[32m2022-06-23 11:44:34.721\u001b[0m | \u001b[1mINFO    \u001b[0m | \u001b[36msrc.beam.experiment\u001b[0m:\u001b[36m__init__\u001b[0m:\u001b[36m189\u001b[0m - \u001b[1mweight_factor: 0.5\u001b[0m\n",
      "\u001b[32m2022-06-23 11:44:34.722\u001b[0m | \u001b[1mINFO    \u001b[0m | \u001b[36msrc.beam.experiment\u001b[0m:\u001b[36m__init__\u001b[0m:\u001b[36m189\u001b[0m - \u001b[1mpath_to_data: /home/shared/data/dataset/covtype\u001b[0m\n",
      "\u001b[32m2022-06-23 11:44:34.723\u001b[0m | \u001b[1mINFO    \u001b[0m | \u001b[36msrc.beam.experiment\u001b[0m:\u001b[36m__init__\u001b[0m:\u001b[36m189\u001b[0m - \u001b[1mgamma: 1.0\u001b[0m\n",
      "\u001b[32m2022-06-23 11:44:34.723\u001b[0m | \u001b[1mINFO    \u001b[0m | \u001b[36msrc.beam.experiment\u001b[0m:\u001b[36m__init__\u001b[0m:\u001b[36m189\u001b[0m - \u001b[1mdropout: 0.0\u001b[0m\n",
      "\u001b[32m2022-06-23 11:44:34.724\u001b[0m | \u001b[1mINFO    \u001b[0m | \u001b[36msrc.beam.experiment\u001b[0m:\u001b[36m__init__\u001b[0m:\u001b[36m189\u001b[0m - \u001b[1mactivation: gelu\u001b[0m\n",
      "\u001b[32m2022-06-23 11:44:34.725\u001b[0m | \u001b[1mINFO    \u001b[0m | \u001b[36msrc.beam.experiment\u001b[0m:\u001b[36m__init__\u001b[0m:\u001b[36m189\u001b[0m - \u001b[1mchannels: 512\u001b[0m\n",
      "\u001b[32m2022-06-23 11:44:34.736\u001b[0m | \u001b[1mINFO    \u001b[0m | \u001b[36msrc.beam.experiment\u001b[0m:\u001b[36m__init__\u001b[0m:\u001b[36m259\u001b[0m - \u001b[1mCreating new experiment\u001b[0m\n",
      "\u001b[32m2022-06-23 11:44:34.737\u001b[0m | \u001b[1mINFO    \u001b[0m | \u001b[36msrc.beam.experiment\u001b[0m:\u001b[36m__init__\u001b[0m:\u001b[36m274\u001b[0m - \u001b[1mExperiment directory is: /home/shared/data/results/covtype/covtype/CovtypeAlgorithm/half_precision/0001_20220623_114434\u001b[0m\n"
     ]
    }
   ],
   "source": [
    "args = beam_arguments(\n",
    "        f\"--project-name=covtype --root-dir={root_dir} --algorithm=CovtypeAlgorithm --device=1 --no-amp --lr-d=1e-3 --batch-size=256\",\n",
    "        \"--n-epochs=100 --clip=0 --parallel=1 --accumulate=1 --cudnn-benchmark --identifier=half_precision\",\n",
    "        \"--weight-decay=1e-5 --beta1=0.9 --beta2=0.999\", label_smoothing=.05, weight_factor=.5,\n",
    "        path_to_data=path_to_data, gamma=1., dropout=.0, activation='gelu', channels=512)\n",
    "\n",
    "experiment = Experiment(args)"
   ]
  },
  {
   "cell_type": "code",
   "execution_count": 7,
   "id": "f2128161-f7ec-4a2a-90b0-26ab040f5d0a",
   "metadata": {},
   "outputs": [
    {
     "name": "stdout",
     "output_type": "stream",
     "text": [
      "\u001b[32m2022-06-23 11:44:37.677\u001b[0m | \u001b[1mINFO    \u001b[0m | \u001b[36msrc.beam.experiment\u001b[0m:\u001b[36mrun\u001b[0m:\u001b[36m553\u001b[0m - \u001b[1mSingle worker mode\u001b[0m\n",
      "\u001b[32m2022-06-23 11:44:37.680\u001b[0m | \u001b[1mINFO    \u001b[0m | \u001b[36msrc.beam.experiment\u001b[0m:\u001b[36mrun_worker\u001b[0m:\u001b[36m45\u001b[0m - \u001b[1mWorker: 1/1 is running...\u001b[0m\n"
     ]
    },
    {
     "data": {
      "application/vnd.jupyter.widget-view+json": {
       "model_id": "5ec52d969c0c4a89819241b26ca7d3fa",
       "version_major": 2,
       "version_minor": 0
      },
      "text/plain": [
       "train:   0%|          | 0/1360 [00:00<?, ?it/s]"
      ]
     },
     "metadata": {},
     "output_type": "display_data"
    },
    {
     "data": {
      "application/vnd.jupyter.widget-view+json": {
       "model_id": "0f659c8b53134783b91cc65db88a23fd",
       "version_major": 2,
       "version_minor": 0
      },
      "text/plain": [
       "validation:   0%|          | 0/452 [00:00<?, ?it/s]"
      ]
     },
     "metadata": {},
     "output_type": "display_data"
    },
    {
     "name": "stdout",
     "output_type": "stream",
     "text": [
      "\n",
      "\u001b[32m2022-06-23 11:50:32.263\u001b[0m | \u001b[1mINFO    \u001b[0m | \u001b[36msrc.beam.experiment\u001b[0m:\u001b[36msave_model_results\u001b[0m:\u001b[36m397\u001b[0m - \u001b[1mFinished epoch 1/100:\u001b[0m\n",
      "\u001b[32m2022-06-23 11:50:32.272\u001b[0m | \u001b[1mINFO    \u001b[0m | \u001b[36msrc.beam.experiment\u001b[0m:\u001b[36mlog_data\u001b[0m:\u001b[36m443\u001b[0m - \u001b[1mtrain:\u001b[0m\n",
      "\u001b[32m2022-06-23 11:50:32.274\u001b[0m | \u001b[1mINFO    \u001b[0m | \u001b[36msrc.beam.experiment\u001b[0m:\u001b[36mlog_data\u001b[0m:\u001b[36m447\u001b[0m - \u001b[1mloss 228.893 \t|\u001b[0m\n",
      "\u001b[32m2022-06-23 11:50:32.274\u001b[0m | \u001b[1mINFO    \u001b[0m | \u001b[36msrc.beam.experiment\u001b[0m:\u001b[36mlog_data\u001b[0m:\u001b[36m447\u001b[0m - \u001b[1macc 0.695109 \t|\u001b[0m\n",
      "\u001b[32m2022-06-23 11:50:32.275\u001b[0m | \u001b[1mINFO    \u001b[0m | \u001b[36msrc.beam.experiment\u001b[0m:\u001b[36mlog_data\u001b[0m:\u001b[36m447\u001b[0m - \u001b[1mlr 0.001 \t|\u001b[0m\n",
      "\u001b[32m2022-06-23 11:50:32.277\u001b[0m | \u001b[1mINFO    \u001b[0m | \u001b[36msrc.beam.experiment\u001b[0m:\u001b[36mlog_data\u001b[0m:\u001b[36m443\u001b[0m - \u001b[1mvalidation:\u001b[0m\n",
      "\u001b[32m2022-06-23 11:50:32.283\u001b[0m | \u001b[1mINFO    \u001b[0m | \u001b[36msrc.beam.experiment\u001b[0m:\u001b[36mlog_data\u001b[0m:\u001b[36m447\u001b[0m - \u001b[1mloss 195.103 \t|\u001b[0m\n",
      "\u001b[32m2022-06-23 11:50:32.288\u001b[0m | \u001b[1mINFO    \u001b[0m | \u001b[36msrc.beam.experiment\u001b[0m:\u001b[36mlog_data\u001b[0m:\u001b[36m447\u001b[0m - \u001b[1macc 0.758547 \t|\u001b[0m\n"
     ]
    },
    {
     "data": {
      "application/vnd.jupyter.widget-view+json": {
       "model_id": "e1ada8effafc46ad97530c4910c76fea",
       "version_major": 2,
       "version_minor": 0
      },
      "text/plain": [
       "train:   0%|          | 0/1360 [00:00<?, ?it/s]"
      ]
     },
     "metadata": {},
     "output_type": "display_data"
    },
    {
     "data": {
      "application/vnd.jupyter.widget-view+json": {
       "model_id": "020a3450184148fba1eeeaeae42f0041",
       "version_major": 2,
       "version_minor": 0
      },
      "text/plain": [
       "validation:   0%|          | 0/452 [00:00<?, ?it/s]"
      ]
     },
     "metadata": {},
     "output_type": "display_data"
    },
    {
     "name": "stdout",
     "output_type": "stream",
     "text": [
      "\n",
      "\u001b[32m2022-06-23 11:56:29.838\u001b[0m | \u001b[1mINFO    \u001b[0m | \u001b[36msrc.beam.experiment\u001b[0m:\u001b[36msave_model_results\u001b[0m:\u001b[36m397\u001b[0m - \u001b[1mFinished epoch 2/100:\u001b[0m\n",
      "\u001b[32m2022-06-23 11:56:29.844\u001b[0m | \u001b[1mINFO    \u001b[0m | \u001b[36msrc.beam.experiment\u001b[0m:\u001b[36mlog_data\u001b[0m:\u001b[36m443\u001b[0m - \u001b[1mtrain:\u001b[0m\n",
      "\u001b[32m2022-06-23 11:56:29.845\u001b[0m | \u001b[1mINFO    \u001b[0m | \u001b[36msrc.beam.experiment\u001b[0m:\u001b[36mlog_data\u001b[0m:\u001b[36m447\u001b[0m - \u001b[1mloss 167.189 \t|\u001b[0m\n",
      "\u001b[32m2022-06-23 11:56:29.846\u001b[0m | \u001b[1mINFO    \u001b[0m | \u001b[36msrc.beam.experiment\u001b[0m:\u001b[36mlog_data\u001b[0m:\u001b[36m447\u001b[0m - \u001b[1macc 0.816791 \t|\u001b[0m\n",
      "\u001b[32m2022-06-23 11:56:29.846\u001b[0m | \u001b[1mINFO    \u001b[0m | \u001b[36msrc.beam.experiment\u001b[0m:\u001b[36mlog_data\u001b[0m:\u001b[36m447\u001b[0m - \u001b[1mlr 0.001 \t|\u001b[0m\n",
      "\u001b[32m2022-06-23 11:56:29.847\u001b[0m | \u001b[1mINFO    \u001b[0m | \u001b[36msrc.beam.experiment\u001b[0m:\u001b[36mlog_data\u001b[0m:\u001b[36m443\u001b[0m - \u001b[1mvalidation:\u001b[0m\n",
      "\u001b[32m2022-06-23 11:56:29.847\u001b[0m | \u001b[1mINFO    \u001b[0m | \u001b[36msrc.beam.experiment\u001b[0m:\u001b[36mlog_data\u001b[0m:\u001b[36m447\u001b[0m - \u001b[1mloss nan \t|\u001b[0m\n",
      "\u001b[32m2022-06-23 11:56:29.848\u001b[0m | \u001b[1mINFO    \u001b[0m | \u001b[36msrc.beam.experiment\u001b[0m:\u001b[36mlog_data\u001b[0m:\u001b[36m447\u001b[0m - \u001b[1macc 0.832558 \t|\u001b[0m\n"
     ]
    },
    {
     "data": {
      "application/vnd.jupyter.widget-view+json": {
       "model_id": "32108170474740259e914711f863429a",
       "version_major": 2,
       "version_minor": 0
      },
      "text/plain": [
       "train:   0%|          | 0/1360 [00:00<?, ?it/s]"
      ]
     },
     "metadata": {},
     "output_type": "display_data"
    },
    {
     "data": {
      "application/vnd.jupyter.widget-view+json": {
       "model_id": "011898b03fca461487fa468f11e35fbd",
       "version_major": 2,
       "version_minor": 0
      },
      "text/plain": [
       "validation:   0%|          | 0/452 [00:00<?, ?it/s]"
      ]
     },
     "metadata": {},
     "output_type": "display_data"
    },
    {
     "name": "stdout",
     "output_type": "stream",
     "text": [
      "\n",
      "\u001b[32m2022-06-23 12:03:08.504\u001b[0m | \u001b[1mINFO    \u001b[0m | \u001b[36msrc.beam.experiment\u001b[0m:\u001b[36msave_model_results\u001b[0m:\u001b[36m397\u001b[0m - \u001b[1mFinished epoch 3/100:\u001b[0m\n",
      "\u001b[32m2022-06-23 12:03:08.515\u001b[0m | \u001b[1mINFO    \u001b[0m | \u001b[36msrc.beam.experiment\u001b[0m:\u001b[36mlog_data\u001b[0m:\u001b[36m443\u001b[0m - \u001b[1mtrain:\u001b[0m\n",
      "\u001b[32m2022-06-23 12:03:08.517\u001b[0m | \u001b[1mINFO    \u001b[0m | \u001b[36msrc.beam.experiment\u001b[0m:\u001b[36mlog_data\u001b[0m:\u001b[36m447\u001b[0m - \u001b[1mloss 139.599 \t|\u001b[0m\n",
      "\u001b[32m2022-06-23 12:03:08.525\u001b[0m | \u001b[1mINFO    \u001b[0m | \u001b[36msrc.beam.experiment\u001b[0m:\u001b[36mlog_data\u001b[0m:\u001b[36m447\u001b[0m - \u001b[1macc 0.870749 \t|\u001b[0m\n",
      "\u001b[32m2022-06-23 12:03:08.527\u001b[0m | \u001b[1mINFO    \u001b[0m | \u001b[36msrc.beam.experiment\u001b[0m:\u001b[36mlog_data\u001b[0m:\u001b[36m447\u001b[0m - \u001b[1mlr 0.001 \t|\u001b[0m\n",
      "\u001b[32m2022-06-23 12:03:08.529\u001b[0m | \u001b[1mINFO    \u001b[0m | \u001b[36msrc.beam.experiment\u001b[0m:\u001b[36mlog_data\u001b[0m:\u001b[36m443\u001b[0m - \u001b[1mvalidation:\u001b[0m\n",
      "\u001b[32m2022-06-23 12:03:08.531\u001b[0m | \u001b[1mINFO    \u001b[0m | \u001b[36msrc.beam.experiment\u001b[0m:\u001b[36mlog_data\u001b[0m:\u001b[36m447\u001b[0m - \u001b[1mloss nan \t|\u001b[0m\n",
      "\u001b[32m2022-06-23 12:03:08.532\u001b[0m | \u001b[1mINFO    \u001b[0m | \u001b[36msrc.beam.experiment\u001b[0m:\u001b[36mlog_data\u001b[0m:\u001b[36m447\u001b[0m - \u001b[1macc 0.863834 \t|\u001b[0m\n"
     ]
    },
    {
     "data": {
      "application/vnd.jupyter.widget-view+json": {
       "model_id": "94c43c1e18c041bba75f62a5663b78b7",
       "version_major": 2,
       "version_minor": 0
      },
      "text/plain": [
       "train:   0%|          | 0/1360 [00:00<?, ?it/s]"
      ]
     },
     "metadata": {},
     "output_type": "display_data"
    },
    {
     "data": {
      "application/vnd.jupyter.widget-view+json": {
       "model_id": "82a4ef91407f4953ab2da80c639c6a0a",
       "version_major": 2,
       "version_minor": 0
      },
      "text/plain": [
       "validation:   0%|          | 0/452 [00:00<?, ?it/s]"
      ]
     },
     "metadata": {},
     "output_type": "display_data"
    },
    {
     "name": "stdout",
     "output_type": "stream",
     "text": [
      "\n",
      "\u001b[32m2022-06-23 12:08:59.802\u001b[0m | \u001b[1mINFO    \u001b[0m | \u001b[36msrc.beam.experiment\u001b[0m:\u001b[36msave_model_results\u001b[0m:\u001b[36m397\u001b[0m - \u001b[1mFinished epoch 4/100:\u001b[0m\n",
      "\u001b[32m2022-06-23 12:08:59.808\u001b[0m | \u001b[1mINFO    \u001b[0m | \u001b[36msrc.beam.experiment\u001b[0m:\u001b[36mlog_data\u001b[0m:\u001b[36m443\u001b[0m - \u001b[1mtrain:\u001b[0m\n",
      "\u001b[32m2022-06-23 12:08:59.810\u001b[0m | \u001b[1mINFO    \u001b[0m | \u001b[36msrc.beam.experiment\u001b[0m:\u001b[36mlog_data\u001b[0m:\u001b[36m447\u001b[0m - \u001b[1mloss nan \t|\u001b[0m\n",
      "\u001b[32m2022-06-23 12:08:59.811\u001b[0m | \u001b[1mINFO    \u001b[0m | \u001b[36msrc.beam.experiment\u001b[0m:\u001b[36mlog_data\u001b[0m:\u001b[36m447\u001b[0m - \u001b[1macc 0.895735 \t|\u001b[0m\n",
      "\u001b[32m2022-06-23 12:08:59.813\u001b[0m | \u001b[1mINFO    \u001b[0m | \u001b[36msrc.beam.experiment\u001b[0m:\u001b[36mlog_data\u001b[0m:\u001b[36m447\u001b[0m - \u001b[1mlr 0.001 \t|\u001b[0m\n",
      "\u001b[32m2022-06-23 12:08:59.815\u001b[0m | \u001b[1mINFO    \u001b[0m | \u001b[36msrc.beam.experiment\u001b[0m:\u001b[36mlog_data\u001b[0m:\u001b[36m443\u001b[0m - \u001b[1mvalidation:\u001b[0m\n",
      "\u001b[32m2022-06-23 12:08:59.817\u001b[0m | \u001b[1mINFO    \u001b[0m | \u001b[36msrc.beam.experiment\u001b[0m:\u001b[36mlog_data\u001b[0m:\u001b[36m447\u001b[0m - \u001b[1mloss nan \t|\u001b[0m\n",
      "\u001b[32m2022-06-23 12:08:59.820\u001b[0m | \u001b[1mINFO    \u001b[0m | \u001b[36msrc.beam.experiment\u001b[0m:\u001b[36mlog_data\u001b[0m:\u001b[36m447\u001b[0m - \u001b[1macc 0 \t|\u001b[0m\n"
     ]
    },
    {
     "data": {
      "application/vnd.jupyter.widget-view+json": {
       "model_id": "188f826e07da4d9dad44e583ea306277",
       "version_major": 2,
       "version_minor": 0
      },
      "text/plain": [
       "train:   0%|          | 0/1360 [00:00<?, ?it/s]"
      ]
     },
     "metadata": {},
     "output_type": "display_data"
    },
    {
     "data": {
      "application/vnd.jupyter.widget-view+json": {
       "model_id": "208178cdcc7a4288b06283eaac43de1f",
       "version_major": 2,
       "version_minor": 0
      },
      "text/plain": [
       "validation:   0%|          | 0/452 [00:00<?, ?it/s]"
      ]
     },
     "metadata": {},
     "output_type": "display_data"
    },
    {
     "name": "stdout",
     "output_type": "stream",
     "text": [
      "\n",
      "\u001b[32m2022-06-23 12:14:43.038\u001b[0m | \u001b[1mINFO    \u001b[0m | \u001b[36msrc.beam.experiment\u001b[0m:\u001b[36msave_model_results\u001b[0m:\u001b[36m397\u001b[0m - \u001b[1mFinished epoch 5/100:\u001b[0m\n",
      "\u001b[32m2022-06-23 12:14:43.057\u001b[0m | \u001b[1mINFO    \u001b[0m | \u001b[36msrc.beam.experiment\u001b[0m:\u001b[36mlog_data\u001b[0m:\u001b[36m443\u001b[0m - \u001b[1mtrain:\u001b[0m\n",
      "\u001b[32m2022-06-23 12:14:43.058\u001b[0m | \u001b[1mINFO    \u001b[0m | \u001b[36msrc.beam.experiment\u001b[0m:\u001b[36mlog_data\u001b[0m:\u001b[36m447\u001b[0m - \u001b[1mloss nan \t|\u001b[0m\n",
      "\u001b[32m2022-06-23 12:14:43.060\u001b[0m | \u001b[1mINFO    \u001b[0m | \u001b[36msrc.beam.experiment\u001b[0m:\u001b[36mlog_data\u001b[0m:\u001b[36m447\u001b[0m - \u001b[1macc 0.903142 \t|\u001b[0m\n",
      "\u001b[32m2022-06-23 12:14:43.060\u001b[0m | \u001b[1mINFO    \u001b[0m | \u001b[36msrc.beam.experiment\u001b[0m:\u001b[36mlog_data\u001b[0m:\u001b[36m447\u001b[0m - \u001b[1mlr 0.001 \t|\u001b[0m\n",
      "\u001b[32m2022-06-23 12:14:43.062\u001b[0m | \u001b[1mINFO    \u001b[0m | \u001b[36msrc.beam.experiment\u001b[0m:\u001b[36mlog_data\u001b[0m:\u001b[36m443\u001b[0m - \u001b[1mvalidation:\u001b[0m\n",
      "\u001b[32m2022-06-23 12:14:43.063\u001b[0m | \u001b[1mINFO    \u001b[0m | \u001b[36msrc.beam.experiment\u001b[0m:\u001b[36mlog_data\u001b[0m:\u001b[36m447\u001b[0m - \u001b[1mloss nan \t|\u001b[0m\n",
      "\u001b[32m2022-06-23 12:14:43.064\u001b[0m | \u001b[1mINFO    \u001b[0m | \u001b[36msrc.beam.experiment\u001b[0m:\u001b[36mlog_data\u001b[0m:\u001b[36m447\u001b[0m - \u001b[1macc 0 \t|\u001b[0m\n"
     ]
    },
    {
     "data": {
      "application/vnd.jupyter.widget-view+json": {
       "model_id": "8130c6e94a9a434abae598ae6d398df3",
       "version_major": 2,
       "version_minor": 0
      },
      "text/plain": [
       "train:   0%|          | 0/1360 [00:00<?, ?it/s]"
      ]
     },
     "metadata": {},
     "output_type": "display_data"
    },
    {
     "ename": "KeyboardInterrupt",
     "evalue": "",
     "output_type": "error",
     "traceback": [
      "\u001b[0;31m---------------------------------------------------------------------------\u001b[0m",
      "\u001b[0;31mKeyboardInterrupt\u001b[0m                         Traceback (most recent call last)",
      "\u001b[0;32m/tmp/ipykernel_44157/687347007.py\u001b[0m in \u001b[0;36m<cell line: 1>\u001b[0;34m()\u001b[0m\n\u001b[0;32m----> 1\u001b[0;31m \u001b[0malg\u001b[0m \u001b[0;34m=\u001b[0m \u001b[0mexperiment\u001b[0m\u001b[0;34m(\u001b[0m\u001b[0mcovtype_algorithm_generator\u001b[0m\u001b[0;34m)\u001b[0m\u001b[0;34m\u001b[0m\u001b[0;34m\u001b[0m\u001b[0m\n\u001b[0m",
      "\u001b[0;32m/home/elad/docker/beamds/notebooks/../src/beam/experiment.py\u001b[0m in \u001b[0;36m__call__\u001b[0;34m(self, algorithm_generator, return_results, reload_results, tensorboard_arguments, *args, **kwargs)\u001b[0m\n\u001b[1;32m    490\u001b[0m                   tensorboard_arguments=None, **kwargs):\n\u001b[1;32m    491\u001b[0m \u001b[0;34m\u001b[0m\u001b[0m\n\u001b[0;32m--> 492\u001b[0;31m         res = self.run(default_runner, *(algorithm_generator, self, *args),\n\u001b[0m\u001b[1;32m    493\u001b[0m                        tensorboard_arguments=tensorboard_arguments, **kwargs)\n\u001b[1;32m    494\u001b[0m \u001b[0;34m\u001b[0m\u001b[0m\n",
      "\u001b[0;32m/home/elad/docker/beamds/notebooks/../src/beam/experiment.py\u001b[0m in \u001b[0;36mrun\u001b[0;34m(self, job, *args, **kwargs)\u001b[0m\n\u001b[1;32m    552\u001b[0m         \u001b[0;32melse\u001b[0m\u001b[0;34m:\u001b[0m\u001b[0;34m\u001b[0m\u001b[0;34m\u001b[0m\u001b[0m\n\u001b[1;32m    553\u001b[0m             \u001b[0mlogger\u001b[0m\u001b[0;34m.\u001b[0m\u001b[0minfo\u001b[0m\u001b[0;34m(\u001b[0m\u001b[0;34mf'Single worker mode'\u001b[0m\u001b[0;34m)\u001b[0m\u001b[0;34m\u001b[0m\u001b[0;34m\u001b[0m\u001b[0m\n\u001b[0;32m--> 554\u001b[0;31m             \u001b[0;32mreturn\u001b[0m \u001b[0mrun_worker\u001b[0m\u001b[0;34m(\u001b[0m\u001b[0;36m0\u001b[0m\u001b[0;34m,\u001b[0m \u001b[0;36m1\u001b[0m\u001b[0;34m,\u001b[0m \u001b[0;32mNone\u001b[0m\u001b[0;34m,\u001b[0m \u001b[0;34m*\u001b[0m\u001b[0marguments\u001b[0m\u001b[0;34m,\u001b[0m \u001b[0;34m**\u001b[0m\u001b[0mkwargs\u001b[0m\u001b[0;34m)\u001b[0m\u001b[0;34m\u001b[0m\u001b[0;34m\u001b[0m\u001b[0m\n\u001b[0m\u001b[1;32m    555\u001b[0m \u001b[0;34m\u001b[0m\u001b[0m\n\u001b[1;32m    556\u001b[0m     \u001b[0;32mdef\u001b[0m \u001b[0m__enter__\u001b[0m\u001b[0;34m(\u001b[0m\u001b[0mself\u001b[0m\u001b[0;34m)\u001b[0m\u001b[0;34m:\u001b[0m\u001b[0;34m\u001b[0m\u001b[0;34m\u001b[0m\u001b[0m\n",
      "\u001b[0;32m/home/elad/docker/beamds/notebooks/../src/beam/experiment.py\u001b[0m in \u001b[0;36mrun_worker\u001b[0;34m(rank, world_size, results_queue, job, experiment, *args, **kwargs)\u001b[0m\n\u001b[1;32m     51\u001b[0m     \u001b[0mset_seed\u001b[0m\u001b[0;34m(\u001b[0m\u001b[0mseed\u001b[0m\u001b[0;34m=\u001b[0m\u001b[0mexperiment\u001b[0m\u001b[0;34m.\u001b[0m\u001b[0mseed\u001b[0m\u001b[0;34m,\u001b[0m \u001b[0mconstant\u001b[0m\u001b[0;34m=\u001b[0m\u001b[0mrank\u001b[0m\u001b[0;34m,\u001b[0m \u001b[0mincrement\u001b[0m\u001b[0;34m=\u001b[0m\u001b[0;32mFalse\u001b[0m\u001b[0;34m,\u001b[0m \u001b[0mdeterministic\u001b[0m\u001b[0;34m=\u001b[0m\u001b[0mexperiment\u001b[0m\u001b[0;34m.\u001b[0m\u001b[0mdeterministic\u001b[0m\u001b[0;34m)\u001b[0m\u001b[0;34m\u001b[0m\u001b[0;34m\u001b[0m\u001b[0m\n\u001b[1;32m     52\u001b[0m \u001b[0;34m\u001b[0m\u001b[0m\n\u001b[0;32m---> 53\u001b[0;31m     \u001b[0mres\u001b[0m \u001b[0;34m=\u001b[0m \u001b[0mjob\u001b[0m\u001b[0;34m(\u001b[0m\u001b[0mrank\u001b[0m\u001b[0;34m,\u001b[0m \u001b[0mworld_size\u001b[0m\u001b[0;34m,\u001b[0m \u001b[0mexperiment\u001b[0m\u001b[0;34m,\u001b[0m \u001b[0;34m*\u001b[0m\u001b[0margs\u001b[0m\u001b[0;34m,\u001b[0m \u001b[0;34m**\u001b[0m\u001b[0mkwargs\u001b[0m\u001b[0;34m)\u001b[0m\u001b[0;34m\u001b[0m\u001b[0;34m\u001b[0m\u001b[0m\n\u001b[0m\u001b[1;32m     54\u001b[0m \u001b[0;34m\u001b[0m\u001b[0m\n\u001b[1;32m     55\u001b[0m     \u001b[0;32mif\u001b[0m \u001b[0mworld_size\u001b[0m \u001b[0;34m>\u001b[0m \u001b[0;36m1\u001b[0m\u001b[0;34m:\u001b[0m\u001b[0;34m\u001b[0m\u001b[0;34m\u001b[0m\u001b[0m\n",
      "\u001b[0;32m/home/elad/docker/beamds/notebooks/../src/beam/experiment.py\u001b[0m in \u001b[0;36mdefault_runner\u001b[0;34m(rank, world_size, experiment, algorithm_generator, tensorboard_arguments, *args, **kwargs)\u001b[0m\n\u001b[1;32m     29\u001b[0m \u001b[0;34m\u001b[0m\u001b[0m\n\u001b[1;32m     30\u001b[0m     \u001b[0mexperiment\u001b[0m\u001b[0;34m.\u001b[0m\u001b[0mwriter_control\u001b[0m\u001b[0;34m(\u001b[0m\u001b[0menable\u001b[0m\u001b[0;34m=\u001b[0m\u001b[0;32mnot\u001b[0m \u001b[0;34m(\u001b[0m\u001b[0mbool\u001b[0m\u001b[0;34m(\u001b[0m\u001b[0mrank\u001b[0m\u001b[0;34m)\u001b[0m\u001b[0;34m)\u001b[0m\u001b[0;34m)\u001b[0m\u001b[0;34m\u001b[0m\u001b[0;34m\u001b[0m\u001b[0m\n\u001b[0;32m---> 31\u001b[0;31m     \u001b[0;32mfor\u001b[0m \u001b[0mresults\u001b[0m \u001b[0;32min\u001b[0m \u001b[0miter\u001b[0m\u001b[0;34m(\u001b[0m\u001b[0malg\u001b[0m\u001b[0;34m)\u001b[0m\u001b[0;34m:\u001b[0m\u001b[0;34m\u001b[0m\u001b[0;34m\u001b[0m\u001b[0m\n\u001b[0m\u001b[1;32m     32\u001b[0m         experiment.save_model_results(results, alg,\n\u001b[1;32m     33\u001b[0m                                       \u001b[0mprint_results\u001b[0m\u001b[0;34m=\u001b[0m\u001b[0mexperiment\u001b[0m\u001b[0;34m.\u001b[0m\u001b[0mprint_results\u001b[0m\u001b[0;34m,\u001b[0m\u001b[0;34m\u001b[0m\u001b[0;34m\u001b[0m\u001b[0m\n",
      "\u001b[0;32m/home/elad/docker/beamds/notebooks/../src/beam/algorithm.py\u001b[0m in \u001b[0;36m__iter__\u001b[0;34m(self)\u001b[0m\n\u001b[1;32m    288\u001b[0m \u001b[0;34m\u001b[0m\u001b[0m\n\u001b[1;32m    289\u001b[0m         \u001b[0meval_generator\u001b[0m \u001b[0;34m=\u001b[0m \u001b[0mself\u001b[0m\u001b[0;34m.\u001b[0m\u001b[0minner_loop\u001b[0m\u001b[0;34m(\u001b[0m\u001b[0mself\u001b[0m\u001b[0;34m.\u001b[0m\u001b[0mn_epochs\u001b[0m \u001b[0;34m+\u001b[0m \u001b[0;36m1\u001b[0m\u001b[0;34m,\u001b[0m \u001b[0msubset\u001b[0m\u001b[0;34m=\u001b[0m\u001b[0mself\u001b[0m\u001b[0;34m.\u001b[0m\u001b[0meval_subset\u001b[0m\u001b[0;34m,\u001b[0m \u001b[0mtraining\u001b[0m\u001b[0;34m=\u001b[0m\u001b[0;32mFalse\u001b[0m\u001b[0;34m)\u001b[0m\u001b[0;34m\u001b[0m\u001b[0;34m\u001b[0m\u001b[0m\n\u001b[0;32m--> 290\u001b[0;31m         \u001b[0;32mfor\u001b[0m \u001b[0mi\u001b[0m\u001b[0;34m,\u001b[0m \u001b[0mtrain_results\u001b[0m \u001b[0;32min\u001b[0m \u001b[0menumerate\u001b[0m\u001b[0;34m(\u001b[0m\u001b[0mself\u001b[0m\u001b[0;34m.\u001b[0m\u001b[0minner_loop\u001b[0m\u001b[0;34m(\u001b[0m\u001b[0mself\u001b[0m\u001b[0;34m.\u001b[0m\u001b[0mn_epochs\u001b[0m\u001b[0;34m,\u001b[0m \u001b[0msubset\u001b[0m\u001b[0;34m=\u001b[0m\u001b[0;34m'train'\u001b[0m\u001b[0;34m,\u001b[0m \u001b[0mtraining\u001b[0m\u001b[0;34m=\u001b[0m\u001b[0;32mTrue\u001b[0m\u001b[0;34m)\u001b[0m\u001b[0;34m)\u001b[0m\u001b[0;34m:\u001b[0m\u001b[0;34m\u001b[0m\u001b[0;34m\u001b[0m\u001b[0m\n\u001b[0m\u001b[1;32m    291\u001b[0m \u001b[0;34m\u001b[0m\u001b[0m\n\u001b[1;32m    292\u001b[0m             \u001b[0;32mfor\u001b[0m \u001b[0mk_type\u001b[0m \u001b[0;32min\u001b[0m \u001b[0mtrain_results\u001b[0m\u001b[0;34m.\u001b[0m\u001b[0mkeys\u001b[0m\u001b[0;34m(\u001b[0m\u001b[0;34m)\u001b[0m\u001b[0;34m:\u001b[0m\u001b[0;34m\u001b[0m\u001b[0;34m\u001b[0m\u001b[0m\n",
      "\u001b[0;32m/home/elad/docker/beamds/notebooks/../src/beam/algorithm.py\u001b[0m in \u001b[0;36minner_loop\u001b[0;34m(self, n_epochs, subset, training)\u001b[0m\n\u001b[1;32m    209\u001b[0m                                   desc=subset, total=self.epoch_length[subset] - 1):\n\u001b[1;32m    210\u001b[0m                 \u001b[0;31m# print(i)\u001b[0m\u001b[0;34m\u001b[0m\u001b[0;34m\u001b[0m\u001b[0;34m\u001b[0m\u001b[0m\n\u001b[0;32m--> 211\u001b[0;31m                 \u001b[0maux\u001b[0m\u001b[0;34m,\u001b[0m \u001b[0mresults\u001b[0m \u001b[0;34m=\u001b[0m \u001b[0mself\u001b[0m\u001b[0;34m.\u001b[0m\u001b[0miteration\u001b[0m\u001b[0;34m(\u001b[0m\u001b[0msample\u001b[0m\u001b[0;34m=\u001b[0m\u001b[0msample\u001b[0m\u001b[0;34m,\u001b[0m \u001b[0maux\u001b[0m\u001b[0;34m=\u001b[0m\u001b[0maux\u001b[0m\u001b[0;34m,\u001b[0m \u001b[0mresults\u001b[0m\u001b[0;34m=\u001b[0m\u001b[0mresults\u001b[0m\u001b[0;34m,\u001b[0m \u001b[0msubset\u001b[0m\u001b[0;34m=\u001b[0m\u001b[0msubset\u001b[0m\u001b[0;34m,\u001b[0m \u001b[0mtraining\u001b[0m\u001b[0;34m=\u001b[0m\u001b[0mtraining\u001b[0m\u001b[0;34m)\u001b[0m\u001b[0;34m\u001b[0m\u001b[0;34m\u001b[0m\u001b[0m\n\u001b[0m\u001b[1;32m    212\u001b[0m \u001b[0;34m\u001b[0m\u001b[0m\n\u001b[1;32m    213\u001b[0m             aux, results = self.postprocess_epoch(sample=sample, aux=aux, results=results,\n",
      "\u001b[0;32m/home/elad/docker/beamds/notebooks/../covtype_example.py\u001b[0m in \u001b[0;36miteration\u001b[0;34m(self, sample, aux, results, subset, training)\u001b[0m\n\u001b[1;32m    306\u001b[0m             \u001b[0mloss\u001b[0m \u001b[0;34m=\u001b[0m \u001b[0mF\u001b[0m\u001b[0;34m.\u001b[0m\u001b[0mcross_entropy\u001b[0m\u001b[0;34m(\u001b[0m\u001b[0my_hat\u001b[0m\u001b[0;34m,\u001b[0m \u001b[0my\u001b[0m\u001b[0;34m,\u001b[0m \u001b[0mreduction\u001b[0m\u001b[0;34m=\u001b[0m\u001b[0;34m'sum'\u001b[0m\u001b[0;34m,\u001b[0m \u001b[0mlabel_smoothing\u001b[0m\u001b[0;34m=\u001b[0m\u001b[0mself\u001b[0m\u001b[0;34m.\u001b[0m\u001b[0mlabel_smoothing\u001b[0m\u001b[0;34m)\u001b[0m\u001b[0;34m\u001b[0m\u001b[0;34m\u001b[0m\u001b[0m\n\u001b[1;32m    307\u001b[0m \u001b[0;34m\u001b[0m\u001b[0m\n\u001b[0;32m--> 308\u001b[0;31m         \u001b[0mopt\u001b[0m\u001b[0;34m.\u001b[0m\u001b[0mapply\u001b[0m\u001b[0;34m(\u001b[0m\u001b[0mloss\u001b[0m\u001b[0;34m,\u001b[0m \u001b[0mtraining\u001b[0m\u001b[0;34m=\u001b[0m\u001b[0mtraining\u001b[0m\u001b[0;34m)\u001b[0m\u001b[0;34m\u001b[0m\u001b[0;34m\u001b[0m\u001b[0m\n\u001b[0m\u001b[1;32m    309\u001b[0m \u001b[0;34m\u001b[0m\u001b[0m\n\u001b[1;32m    310\u001b[0m         \u001b[0;31m# add scalar measurements\u001b[0m\u001b[0;34m\u001b[0m\u001b[0;34m\u001b[0m\u001b[0;34m\u001b[0m\u001b[0m\n",
      "\u001b[0;32m/home/elad/docker/beamds/notebooks/../src/beam/model.py\u001b[0m in \u001b[0;36mapply\u001b[0;34m(self, loss, training, set_to_none)\u001b[0m\n\u001b[1;32m    206\u001b[0m \u001b[0;34m\u001b[0m\u001b[0m\n\u001b[1;32m    207\u001b[0m             \u001b[0;32mif\u001b[0m \u001b[0;32mnot\u001b[0m \u001b[0;34m(\u001b[0m\u001b[0mself\u001b[0m\u001b[0;34m.\u001b[0m\u001b[0miteration\u001b[0m \u001b[0;34m%\u001b[0m \u001b[0mself\u001b[0m\u001b[0;34m.\u001b[0m\u001b[0maccumulate\u001b[0m\u001b[0;34m)\u001b[0m\u001b[0;34m:\u001b[0m\u001b[0;34m\u001b[0m\u001b[0;34m\u001b[0m\u001b[0m\n\u001b[0;32m--> 208\u001b[0;31m                 \u001b[0mself\u001b[0m\u001b[0;34m.\u001b[0m\u001b[0mstep\u001b[0m\u001b[0;34m(\u001b[0m\u001b[0;34m)\u001b[0m\u001b[0;34m\u001b[0m\u001b[0;34m\u001b[0m\u001b[0m\n\u001b[0m\u001b[1;32m    209\u001b[0m                 \u001b[0mself\u001b[0m\u001b[0;34m.\u001b[0m\u001b[0mzero_grad\u001b[0m\u001b[0;34m(\u001b[0m\u001b[0mset_to_none\u001b[0m\u001b[0;34m=\u001b[0m\u001b[0mset_to_none\u001b[0m\u001b[0;34m)\u001b[0m\u001b[0;34m\u001b[0m\u001b[0;34m\u001b[0m\u001b[0m\n\u001b[1;32m    210\u001b[0m \u001b[0;34m\u001b[0m\u001b[0m\n",
      "\u001b[0;32m/home/elad/docker/beamds/notebooks/../src/beam/model.py\u001b[0m in \u001b[0;36mstep\u001b[0;34m(self)\u001b[0m\n\u001b[1;32m    212\u001b[0m         \u001b[0;32mfor\u001b[0m \u001b[0mop\u001b[0m \u001b[0;32min\u001b[0m \u001b[0mself\u001b[0m\u001b[0;34m.\u001b[0m\u001b[0moptimizers\u001b[0m\u001b[0;34m.\u001b[0m\u001b[0mvalues\u001b[0m\u001b[0;34m(\u001b[0m\u001b[0;34m)\u001b[0m\u001b[0;34m:\u001b[0m\u001b[0;34m\u001b[0m\u001b[0;34m\u001b[0m\u001b[0m\n\u001b[1;32m    213\u001b[0m             \u001b[0;32mif\u001b[0m \u001b[0mself\u001b[0m\u001b[0;34m.\u001b[0m\u001b[0mamp\u001b[0m\u001b[0;34m:\u001b[0m\u001b[0;34m\u001b[0m\u001b[0;34m\u001b[0m\u001b[0m\n\u001b[0;32m--> 214\u001b[0;31m                 \u001b[0mself\u001b[0m\u001b[0;34m.\u001b[0m\u001b[0mscaler\u001b[0m\u001b[0;34m.\u001b[0m\u001b[0mstep\u001b[0m\u001b[0;34m(\u001b[0m\u001b[0mop\u001b[0m\u001b[0;34m)\u001b[0m\u001b[0;34m\u001b[0m\u001b[0;34m\u001b[0m\u001b[0m\n\u001b[0m\u001b[1;32m    215\u001b[0m             \u001b[0;32melse\u001b[0m\u001b[0;34m:\u001b[0m\u001b[0;34m\u001b[0m\u001b[0;34m\u001b[0m\u001b[0m\n\u001b[1;32m    216\u001b[0m                 \u001b[0mop\u001b[0m\u001b[0;34m.\u001b[0m\u001b[0mstep\u001b[0m\u001b[0;34m(\u001b[0m\u001b[0;34m)\u001b[0m\u001b[0;34m\u001b[0m\u001b[0;34m\u001b[0m\u001b[0m\n",
      "\u001b[0;32m/opt/conda/lib/python3.8/site-packages/torch/cuda/amp/grad_scaler.py\u001b[0m in \u001b[0;36mstep\u001b[0;34m(self, optimizer, *args, **kwargs)\u001b[0m\n\u001b[1;32m    336\u001b[0m         \u001b[0;32massert\u001b[0m \u001b[0mlen\u001b[0m\u001b[0;34m(\u001b[0m\u001b[0moptimizer_state\u001b[0m\u001b[0;34m[\u001b[0m\u001b[0;34m\"found_inf_per_device\"\u001b[0m\u001b[0;34m]\u001b[0m\u001b[0;34m)\u001b[0m \u001b[0;34m>\u001b[0m \u001b[0;36m0\u001b[0m\u001b[0;34m,\u001b[0m \u001b[0;34m\"No inf checks were recorded for this optimizer.\"\u001b[0m\u001b[0;34m\u001b[0m\u001b[0;34m\u001b[0m\u001b[0m\n\u001b[1;32m    337\u001b[0m \u001b[0;34m\u001b[0m\u001b[0m\n\u001b[0;32m--> 338\u001b[0;31m         \u001b[0mretval\u001b[0m \u001b[0;34m=\u001b[0m \u001b[0mself\u001b[0m\u001b[0;34m.\u001b[0m\u001b[0m_maybe_opt_step\u001b[0m\u001b[0;34m(\u001b[0m\u001b[0moptimizer\u001b[0m\u001b[0;34m,\u001b[0m \u001b[0moptimizer_state\u001b[0m\u001b[0;34m,\u001b[0m \u001b[0;34m*\u001b[0m\u001b[0margs\u001b[0m\u001b[0;34m,\u001b[0m \u001b[0;34m**\u001b[0m\u001b[0mkwargs\u001b[0m\u001b[0;34m)\u001b[0m\u001b[0;34m\u001b[0m\u001b[0;34m\u001b[0m\u001b[0m\n\u001b[0m\u001b[1;32m    339\u001b[0m \u001b[0;34m\u001b[0m\u001b[0m\n\u001b[1;32m    340\u001b[0m         \u001b[0moptimizer_state\u001b[0m\u001b[0;34m[\u001b[0m\u001b[0;34m\"stage\"\u001b[0m\u001b[0;34m]\u001b[0m \u001b[0;34m=\u001b[0m \u001b[0mOptState\u001b[0m\u001b[0;34m.\u001b[0m\u001b[0mSTEPPED\u001b[0m\u001b[0;34m\u001b[0m\u001b[0;34m\u001b[0m\u001b[0m\n",
      "\u001b[0;32m/opt/conda/lib/python3.8/site-packages/torch/cuda/amp/grad_scaler.py\u001b[0m in \u001b[0;36m_maybe_opt_step\u001b[0;34m(self, optimizer, optimizer_state, *args, **kwargs)\u001b[0m\n\u001b[1;32m    282\u001b[0m     \u001b[0;32mdef\u001b[0m \u001b[0m_maybe_opt_step\u001b[0m\u001b[0;34m(\u001b[0m\u001b[0mself\u001b[0m\u001b[0;34m,\u001b[0m \u001b[0moptimizer\u001b[0m\u001b[0;34m,\u001b[0m \u001b[0moptimizer_state\u001b[0m\u001b[0;34m,\u001b[0m \u001b[0;34m*\u001b[0m\u001b[0margs\u001b[0m\u001b[0;34m,\u001b[0m \u001b[0;34m**\u001b[0m\u001b[0mkwargs\u001b[0m\u001b[0;34m)\u001b[0m\u001b[0;34m:\u001b[0m\u001b[0;34m\u001b[0m\u001b[0;34m\u001b[0m\u001b[0m\n\u001b[1;32m    283\u001b[0m         \u001b[0mretval\u001b[0m \u001b[0;34m=\u001b[0m \u001b[0;32mNone\u001b[0m\u001b[0;34m\u001b[0m\u001b[0;34m\u001b[0m\u001b[0m\n\u001b[0;32m--> 284\u001b[0;31m         \u001b[0;32mif\u001b[0m \u001b[0;32mnot\u001b[0m \u001b[0msum\u001b[0m\u001b[0;34m(\u001b[0m\u001b[0mv\u001b[0m\u001b[0;34m.\u001b[0m\u001b[0mitem\u001b[0m\u001b[0;34m(\u001b[0m\u001b[0;34m)\u001b[0m \u001b[0;32mfor\u001b[0m \u001b[0mv\u001b[0m \u001b[0;32min\u001b[0m \u001b[0moptimizer_state\u001b[0m\u001b[0;34m[\u001b[0m\u001b[0;34m\"found_inf_per_device\"\u001b[0m\u001b[0;34m]\u001b[0m\u001b[0;34m.\u001b[0m\u001b[0mvalues\u001b[0m\u001b[0;34m(\u001b[0m\u001b[0;34m)\u001b[0m\u001b[0;34m)\u001b[0m\u001b[0;34m:\u001b[0m\u001b[0;34m\u001b[0m\u001b[0;34m\u001b[0m\u001b[0m\n\u001b[0m\u001b[1;32m    285\u001b[0m             \u001b[0mretval\u001b[0m \u001b[0;34m=\u001b[0m \u001b[0moptimizer\u001b[0m\u001b[0;34m.\u001b[0m\u001b[0mstep\u001b[0m\u001b[0;34m(\u001b[0m\u001b[0;34m*\u001b[0m\u001b[0margs\u001b[0m\u001b[0;34m,\u001b[0m \u001b[0;34m**\u001b[0m\u001b[0mkwargs\u001b[0m\u001b[0;34m)\u001b[0m\u001b[0;34m\u001b[0m\u001b[0;34m\u001b[0m\u001b[0m\n\u001b[1;32m    286\u001b[0m         \u001b[0;32mreturn\u001b[0m \u001b[0mretval\u001b[0m\u001b[0;34m\u001b[0m\u001b[0;34m\u001b[0m\u001b[0m\n",
      "\u001b[0;32m/opt/conda/lib/python3.8/site-packages/torch/cuda/amp/grad_scaler.py\u001b[0m in \u001b[0;36m<genexpr>\u001b[0;34m(.0)\u001b[0m\n\u001b[1;32m    282\u001b[0m     \u001b[0;32mdef\u001b[0m \u001b[0m_maybe_opt_step\u001b[0m\u001b[0;34m(\u001b[0m\u001b[0mself\u001b[0m\u001b[0;34m,\u001b[0m \u001b[0moptimizer\u001b[0m\u001b[0;34m,\u001b[0m \u001b[0moptimizer_state\u001b[0m\u001b[0;34m,\u001b[0m \u001b[0;34m*\u001b[0m\u001b[0margs\u001b[0m\u001b[0;34m,\u001b[0m \u001b[0;34m**\u001b[0m\u001b[0mkwargs\u001b[0m\u001b[0;34m)\u001b[0m\u001b[0;34m:\u001b[0m\u001b[0;34m\u001b[0m\u001b[0;34m\u001b[0m\u001b[0m\n\u001b[1;32m    283\u001b[0m         \u001b[0mretval\u001b[0m \u001b[0;34m=\u001b[0m \u001b[0;32mNone\u001b[0m\u001b[0;34m\u001b[0m\u001b[0;34m\u001b[0m\u001b[0m\n\u001b[0;32m--> 284\u001b[0;31m         \u001b[0;32mif\u001b[0m \u001b[0;32mnot\u001b[0m \u001b[0msum\u001b[0m\u001b[0;34m(\u001b[0m\u001b[0mv\u001b[0m\u001b[0;34m.\u001b[0m\u001b[0mitem\u001b[0m\u001b[0;34m(\u001b[0m\u001b[0;34m)\u001b[0m \u001b[0;32mfor\u001b[0m \u001b[0mv\u001b[0m \u001b[0;32min\u001b[0m \u001b[0moptimizer_state\u001b[0m\u001b[0;34m[\u001b[0m\u001b[0;34m\"found_inf_per_device\"\u001b[0m\u001b[0;34m]\u001b[0m\u001b[0;34m.\u001b[0m\u001b[0mvalues\u001b[0m\u001b[0;34m(\u001b[0m\u001b[0;34m)\u001b[0m\u001b[0;34m)\u001b[0m\u001b[0;34m:\u001b[0m\u001b[0;34m\u001b[0m\u001b[0;34m\u001b[0m\u001b[0m\n\u001b[0m\u001b[1;32m    285\u001b[0m             \u001b[0mretval\u001b[0m \u001b[0;34m=\u001b[0m \u001b[0moptimizer\u001b[0m\u001b[0;34m.\u001b[0m\u001b[0mstep\u001b[0m\u001b[0;34m(\u001b[0m\u001b[0;34m*\u001b[0m\u001b[0margs\u001b[0m\u001b[0;34m,\u001b[0m \u001b[0;34m**\u001b[0m\u001b[0mkwargs\u001b[0m\u001b[0;34m)\u001b[0m\u001b[0;34m\u001b[0m\u001b[0;34m\u001b[0m\u001b[0m\n\u001b[1;32m    286\u001b[0m         \u001b[0;32mreturn\u001b[0m \u001b[0mretval\u001b[0m\u001b[0;34m\u001b[0m\u001b[0;34m\u001b[0m\u001b[0m\n",
      "\u001b[0;31mKeyboardInterrupt\u001b[0m: "
     ]
    }
   ],
   "source": [
    "alg = experiment(covtype_algorithm_generator)"
   ]
  },
  {
   "cell_type": "markdown",
   "id": "14dbe868-1d2f-4b9d-ba80-c139b47184b6",
   "metadata": {},
   "source": [
    "## Hyperparameter optimization with ray and optuna"
   ]
  },
  {
   "cell_type": "code",
   "execution_count": 3,
   "id": "8a235663-acb0-47a7-9ede-9355060c11ac",
   "metadata": {},
   "outputs": [
    {
     "name": "stdout",
     "output_type": "stream",
     "text": [
      "\u001b[32m2022-06-23 16:26:10.599\u001b[0m | \u001b[1mINFO    \u001b[0m | \u001b[36msrc.beam.experiment\u001b[0m:\u001b[36m__init__\u001b[0m:\u001b[36m82\u001b[0m - \u001b[1mHyperparameter Optimization\u001b[0m\n",
      "\u001b[32m2022-06-23 16:26:10.600\u001b[0m | \u001b[1mINFO    \u001b[0m | \u001b[36msrc.beam.experiment\u001b[0m:\u001b[36m__init__\u001b[0m:\u001b[36m83\u001b[0m - \u001b[1mbeam project: covtype\u001b[0m\n",
      "\u001b[32m2022-06-23 16:26:10.601\u001b[0m | \u001b[1mINFO    \u001b[0m | \u001b[36msrc.beam.experiment\u001b[0m:\u001b[36m__init__\u001b[0m:\u001b[36m84\u001b[0m - \u001b[1mExperiment Hyperparameters\u001b[0m\n",
      "\u001b[32m2022-06-23 16:26:10.601\u001b[0m | \u001b[1mINFO    \u001b[0m | \u001b[36msrc.beam.experiment\u001b[0m:\u001b[36m__init__\u001b[0m:\u001b[36m87\u001b[0m - \u001b[1mproject_name: covtype\u001b[0m\n",
      "\u001b[32m2022-06-23 16:26:10.602\u001b[0m | \u001b[1mINFO    \u001b[0m | \u001b[36msrc.beam.experiment\u001b[0m:\u001b[36m__init__\u001b[0m:\u001b[36m87\u001b[0m - \u001b[1midentifier: debug_hp_optimization_20220623_162610\u001b[0m\n",
      "\u001b[32m2022-06-23 16:26:10.602\u001b[0m | \u001b[1mINFO    \u001b[0m | \u001b[36msrc.beam.experiment\u001b[0m:\u001b[36m__init__\u001b[0m:\u001b[36m87\u001b[0m - \u001b[1malgorithm: CovtypeAlgorithm\u001b[0m\n",
      "\u001b[32m2022-06-23 16:26:10.603\u001b[0m | \u001b[1mINFO    \u001b[0m | \u001b[36msrc.beam.experiment\u001b[0m:\u001b[36m__init__\u001b[0m:\u001b[36m87\u001b[0m - \u001b[1mmp_port: None\u001b[0m\n",
      "\u001b[32m2022-06-23 16:26:10.603\u001b[0m | \u001b[1mINFO    \u001b[0m | \u001b[36msrc.beam.experiment\u001b[0m:\u001b[36m__init__\u001b[0m:\u001b[36m87\u001b[0m - \u001b[1mroot_dir: /home/shared/data/results/covtype\u001b[0m\n",
      "\u001b[32m2022-06-23 16:26:10.603\u001b[0m | \u001b[1mINFO    \u001b[0m | \u001b[36msrc.beam.experiment\u001b[0m:\u001b[36m__init__\u001b[0m:\u001b[36m87\u001b[0m - \u001b[1mreload: False\u001b[0m\n",
      "\u001b[32m2022-06-23 16:26:10.604\u001b[0m | \u001b[1mINFO    \u001b[0m | \u001b[36msrc.beam.experiment\u001b[0m:\u001b[36m__init__\u001b[0m:\u001b[36m87\u001b[0m - \u001b[1mresume: -1\u001b[0m\n",
      "\u001b[32m2022-06-23 16:26:10.604\u001b[0m | \u001b[1mINFO    \u001b[0m | \u001b[36msrc.beam.experiment\u001b[0m:\u001b[36m__init__\u001b[0m:\u001b[36m87\u001b[0m - \u001b[1moverride: False\u001b[0m\n",
      "\u001b[32m2022-06-23 16:26:10.605\u001b[0m | \u001b[1mINFO    \u001b[0m | \u001b[36msrc.beam.experiment\u001b[0m:\u001b[36m__init__\u001b[0m:\u001b[36m87\u001b[0m - \u001b[1mcpu_workers: 0\u001b[0m\n",
      "\u001b[32m2022-06-23 16:26:10.605\u001b[0m | \u001b[1mINFO    \u001b[0m | \u001b[36msrc.beam.experiment\u001b[0m:\u001b[36m__init__\u001b[0m:\u001b[36m87\u001b[0m - \u001b[1mdevice: 0\u001b[0m\n",
      "\u001b[32m2022-06-23 16:26:10.606\u001b[0m | \u001b[1mINFO    \u001b[0m | \u001b[36msrc.beam.experiment\u001b[0m:\u001b[36m__init__\u001b[0m:\u001b[36m87\u001b[0m - \u001b[1mparallel: 1\u001b[0m\n",
      "\u001b[32m2022-06-23 16:26:10.606\u001b[0m | \u001b[1mINFO    \u001b[0m | \u001b[36msrc.beam.experiment\u001b[0m:\u001b[36m__init__\u001b[0m:\u001b[36m87\u001b[0m - \u001b[1mtensorboard: True\u001b[0m\n",
      "\u001b[32m2022-06-23 16:26:10.606\u001b[0m | \u001b[1mINFO    \u001b[0m | \u001b[36msrc.beam.experiment\u001b[0m:\u001b[36m__init__\u001b[0m:\u001b[36m87\u001b[0m - \u001b[1mlognet: True\u001b[0m\n",
      "\u001b[32m2022-06-23 16:26:10.607\u001b[0m | \u001b[1mINFO    \u001b[0m | \u001b[36msrc.beam.experiment\u001b[0m:\u001b[36m__init__\u001b[0m:\u001b[36m87\u001b[0m - \u001b[1mdeterministic: False\u001b[0m\n",
      "\u001b[32m2022-06-23 16:26:10.607\u001b[0m | \u001b[1mINFO    \u001b[0m | \u001b[36msrc.beam.experiment\u001b[0m:\u001b[36m__init__\u001b[0m:\u001b[36m87\u001b[0m - \u001b[1mscale_epoch_by_batch_size: True\u001b[0m\n",
      "\u001b[32m2022-06-23 16:26:10.608\u001b[0m | \u001b[1mINFO    \u001b[0m | \u001b[36msrc.beam.experiment\u001b[0m:\u001b[36m__init__\u001b[0m:\u001b[36m87\u001b[0m - \u001b[1mcudnn_benchmark: True\u001b[0m\n",
      "\u001b[32m2022-06-23 16:26:10.608\u001b[0m | \u001b[1mINFO    \u001b[0m | \u001b[36msrc.beam.experiment\u001b[0m:\u001b[36m__init__\u001b[0m:\u001b[36m87\u001b[0m - \u001b[1mhalf: False\u001b[0m\n",
      "\u001b[32m2022-06-23 16:26:10.609\u001b[0m | \u001b[1mINFO    \u001b[0m | \u001b[36msrc.beam.experiment\u001b[0m:\u001b[36m__init__\u001b[0m:\u001b[36m87\u001b[0m - \u001b[1mamp: False\u001b[0m\n",
      "\u001b[32m2022-06-23 16:26:10.609\u001b[0m | \u001b[1mINFO    \u001b[0m | \u001b[36msrc.beam.experiment\u001b[0m:\u001b[36m__init__\u001b[0m:\u001b[36m87\u001b[0m - \u001b[1minit: ortho\u001b[0m\n",
      "\u001b[32m2022-06-23 16:26:10.609\u001b[0m | \u001b[1mINFO    \u001b[0m | \u001b[36msrc.beam.experiment\u001b[0m:\u001b[36m__init__\u001b[0m:\u001b[36m87\u001b[0m - \u001b[1mseed: 0\u001b[0m\n",
      "\u001b[32m2022-06-23 16:26:10.610\u001b[0m | \u001b[1mINFO    \u001b[0m | \u001b[36msrc.beam.experiment\u001b[0m:\u001b[36m__init__\u001b[0m:\u001b[36m87\u001b[0m - \u001b[1mtotal_steps: 1000000\u001b[0m\n",
      "\u001b[32m2022-06-23 16:26:10.610\u001b[0m | \u001b[1mINFO    \u001b[0m | \u001b[36msrc.beam.experiment\u001b[0m:\u001b[36m__init__\u001b[0m:\u001b[36m87\u001b[0m - \u001b[1mepoch_length: None\u001b[0m\n",
      "\u001b[32m2022-06-23 16:26:10.611\u001b[0m | \u001b[1mINFO    \u001b[0m | \u001b[36msrc.beam.experiment\u001b[0m:\u001b[36m__init__\u001b[0m:\u001b[36m87\u001b[0m - \u001b[1mepoch_length_train: None\u001b[0m\n",
      "\u001b[32m2022-06-23 16:26:10.611\u001b[0m | \u001b[1mINFO    \u001b[0m | \u001b[36msrc.beam.experiment\u001b[0m:\u001b[36m__init__\u001b[0m:\u001b[36m87\u001b[0m - \u001b[1mepoch_length_eval: None\u001b[0m\n",
      "\u001b[32m2022-06-23 16:26:10.612\u001b[0m | \u001b[1mINFO    \u001b[0m | \u001b[36msrc.beam.experiment\u001b[0m:\u001b[36m__init__\u001b[0m:\u001b[36m87\u001b[0m - \u001b[1mn_epochs: 40\u001b[0m\n",
      "\u001b[32m2022-06-23 16:26:10.612\u001b[0m | \u001b[1mINFO    \u001b[0m | \u001b[36msrc.beam.experiment\u001b[0m:\u001b[36m__init__\u001b[0m:\u001b[36m87\u001b[0m - \u001b[1mbatch_size: 256\u001b[0m\n",
      "\u001b[32m2022-06-23 16:26:10.612\u001b[0m | \u001b[1mINFO    \u001b[0m | \u001b[36msrc.beam.experiment\u001b[0m:\u001b[36m__init__\u001b[0m:\u001b[36m87\u001b[0m - \u001b[1mbatch_size_train: None\u001b[0m\n",
      "\u001b[32m2022-06-23 16:26:10.613\u001b[0m | \u001b[1mINFO    \u001b[0m | \u001b[36msrc.beam.experiment\u001b[0m:\u001b[36m__init__\u001b[0m:\u001b[36m87\u001b[0m - \u001b[1mbatch_size_eval: None\u001b[0m\n",
      "\u001b[32m2022-06-23 16:26:10.613\u001b[0m | \u001b[1mINFO    \u001b[0m | \u001b[36msrc.beam.experiment\u001b[0m:\u001b[36m__init__\u001b[0m:\u001b[36m87\u001b[0m - \u001b[1mlr_dense: 0.001\u001b[0m\n",
      "\u001b[32m2022-06-23 16:26:10.614\u001b[0m | \u001b[1mINFO    \u001b[0m | \u001b[36msrc.beam.experiment\u001b[0m:\u001b[36m__init__\u001b[0m:\u001b[36m87\u001b[0m - \u001b[1mlr_sparse: 0.01\u001b[0m\n",
      "\u001b[32m2022-06-23 16:26:10.614\u001b[0m | \u001b[1mINFO    \u001b[0m | \u001b[36msrc.beam.experiment\u001b[0m:\u001b[36m__init__\u001b[0m:\u001b[36m87\u001b[0m - \u001b[1mweight_decay: 1e-05\u001b[0m\n",
      "\u001b[32m2022-06-23 16:26:10.614\u001b[0m | \u001b[1mINFO    \u001b[0m | \u001b[36msrc.beam.experiment\u001b[0m:\u001b[36m__init__\u001b[0m:\u001b[36m87\u001b[0m - \u001b[1meps: 0.0001\u001b[0m\n",
      "\u001b[32m2022-06-23 16:26:10.615\u001b[0m | \u001b[1mINFO    \u001b[0m | \u001b[36msrc.beam.experiment\u001b[0m:\u001b[36m__init__\u001b[0m:\u001b[36m87\u001b[0m - \u001b[1mbeta1: 0.9\u001b[0m\n",
      "\u001b[32m2022-06-23 16:26:10.615\u001b[0m | \u001b[1mINFO    \u001b[0m | \u001b[36msrc.beam.experiment\u001b[0m:\u001b[36m__init__\u001b[0m:\u001b[36m87\u001b[0m - \u001b[1mbeta2: 0.999\u001b[0m\n",
      "\u001b[32m2022-06-23 16:26:10.616\u001b[0m | \u001b[1mINFO    \u001b[0m | \u001b[36msrc.beam.experiment\u001b[0m:\u001b[36m__init__\u001b[0m:\u001b[36m87\u001b[0m - \u001b[1mclip: 0.0\u001b[0m\n",
      "\u001b[32m2022-06-23 16:26:10.616\u001b[0m | \u001b[1mINFO    \u001b[0m | \u001b[36msrc.beam.experiment\u001b[0m:\u001b[36m__init__\u001b[0m:\u001b[36m87\u001b[0m - \u001b[1maccumulate: 1\u001b[0m\n",
      "\u001b[32m2022-06-23 16:26:10.617\u001b[0m | \u001b[1mINFO    \u001b[0m | \u001b[36msrc.beam.experiment\u001b[0m:\u001b[36m__init__\u001b[0m:\u001b[36m87\u001b[0m - \u001b[1mprint_results: False\u001b[0m\n",
      "\u001b[32m2022-06-23 16:26:10.617\u001b[0m | \u001b[1mINFO    \u001b[0m | \u001b[36msrc.beam.experiment\u001b[0m:\u001b[36m__init__\u001b[0m:\u001b[36m87\u001b[0m - \u001b[1mvisualize_weights: False\u001b[0m\n",
      "\u001b[32m2022-06-23 16:26:10.617\u001b[0m | \u001b[1mINFO    \u001b[0m | \u001b[36msrc.beam.experiment\u001b[0m:\u001b[36m__init__\u001b[0m:\u001b[36m87\u001b[0m - \u001b[1menable_tqdm: False\u001b[0m\n",
      "\u001b[32m2022-06-23 16:26:10.618\u001b[0m | \u001b[1mINFO    \u001b[0m | \u001b[36msrc.beam.experiment\u001b[0m:\u001b[36m__init__\u001b[0m:\u001b[36m87\u001b[0m - \u001b[1mvisualize_results: yes\u001b[0m\n",
      "\u001b[32m2022-06-23 16:26:10.618\u001b[0m | \u001b[1mINFO    \u001b[0m | \u001b[36msrc.beam.experiment\u001b[0m:\u001b[36m__init__\u001b[0m:\u001b[36m87\u001b[0m - \u001b[1mstore_results: logscale\u001b[0m\n",
      "\u001b[32m2022-06-23 16:26:10.619\u001b[0m | \u001b[1mINFO    \u001b[0m | \u001b[36msrc.beam.experiment\u001b[0m:\u001b[36m__init__\u001b[0m:\u001b[36m87\u001b[0m - \u001b[1mstore_networks: logscale\u001b[0m\n",
      "\u001b[32m2022-06-23 16:26:10.619\u001b[0m | \u001b[1mINFO    \u001b[0m | \u001b[36msrc.beam.experiment\u001b[0m:\u001b[36m__init__\u001b[0m:\u001b[36m87\u001b[0m - \u001b[1mweight_factor: 0.0\u001b[0m\n",
      "\u001b[32m2022-06-23 16:26:10.619\u001b[0m | \u001b[1mINFO    \u001b[0m | \u001b[36msrc.beam.experiment\u001b[0m:\u001b[36m__init__\u001b[0m:\u001b[36m87\u001b[0m - \u001b[1mlabel_smoothing: 0.05\u001b[0m\n",
      "\u001b[32m2022-06-23 16:26:10.620\u001b[0m | \u001b[1mINFO    \u001b[0m | \u001b[36msrc.beam.experiment\u001b[0m:\u001b[36m__init__\u001b[0m:\u001b[36m87\u001b[0m - \u001b[1mactivation: gelu\u001b[0m\n",
      "\u001b[32m2022-06-23 16:26:10.620\u001b[0m | \u001b[1mINFO    \u001b[0m | \u001b[36msrc.beam.experiment\u001b[0m:\u001b[36m__init__\u001b[0m:\u001b[36m87\u001b[0m - \u001b[1mchannels: 128\u001b[0m\n",
      "\u001b[32m2022-06-23 16:26:10.621\u001b[0m | \u001b[1mINFO    \u001b[0m | \u001b[36msrc.beam.experiment\u001b[0m:\u001b[36m__init__\u001b[0m:\u001b[36m87\u001b[0m - \u001b[1mDropout: 0.0\u001b[0m\n",
      "\u001b[32m2022-06-23 16:26:10.621\u001b[0m | \u001b[1mINFO    \u001b[0m | \u001b[36msrc.beam.experiment\u001b[0m:\u001b[36m__init__\u001b[0m:\u001b[36m87\u001b[0m - \u001b[1mn_rules: 64\u001b[0m\n",
      "\u001b[32m2022-06-23 16:26:10.622\u001b[0m | \u001b[1mINFO    \u001b[0m | \u001b[36msrc.beam.experiment\u001b[0m:\u001b[36m__init__\u001b[0m:\u001b[36m87\u001b[0m - \u001b[1mn_layers: 2\u001b[0m\n",
      "\u001b[32m2022-06-23 16:26:10.622\u001b[0m | \u001b[1mINFO    \u001b[0m | \u001b[36msrc.beam.experiment\u001b[0m:\u001b[36m__init__\u001b[0m:\u001b[36m87\u001b[0m - \u001b[1mn_quantiles: 20\u001b[0m\n",
      "\u001b[32m2022-06-23 16:26:10.622\u001b[0m | \u001b[1mINFO    \u001b[0m | \u001b[36msrc.beam.experiment\u001b[0m:\u001b[36m__init__\u001b[0m:\u001b[36m87\u001b[0m - \u001b[1mn_tables: 15\u001b[0m\n",
      "\u001b[32m2022-06-23 16:26:10.623\u001b[0m | \u001b[1mINFO    \u001b[0m | \u001b[36msrc.beam.experiment\u001b[0m:\u001b[36m__init__\u001b[0m:\u001b[36m87\u001b[0m - \u001b[1mscheduler_factor: 0.31622776601683794\u001b[0m\n",
      "\u001b[32m2022-06-23 16:26:10.623\u001b[0m | \u001b[1mINFO    \u001b[0m | \u001b[36msrc.beam.experiment\u001b[0m:\u001b[36m__init__\u001b[0m:\u001b[36m87\u001b[0m - \u001b[1mscheduler_patience: 16\u001b[0m\n",
      "\u001b[32m2022-06-23 16:26:10.624\u001b[0m | \u001b[1mINFO    \u001b[0m | \u001b[36msrc.beam.experiment\u001b[0m:\u001b[36m__init__\u001b[0m:\u001b[36m87\u001b[0m - \u001b[1meval_ensembles: 64\u001b[0m\n",
      "\u001b[32m2022-06-23 16:26:10.624\u001b[0m | \u001b[1mINFO    \u001b[0m | \u001b[36msrc.beam.experiment\u001b[0m:\u001b[36m__init__\u001b[0m:\u001b[36m87\u001b[0m - \u001b[1minitial_mask: 1.0\u001b[0m\n",
      "\u001b[32m2022-06-23 16:26:10.624\u001b[0m | \u001b[1mINFO    \u001b[0m | \u001b[36msrc.beam.experiment\u001b[0m:\u001b[36m__init__\u001b[0m:\u001b[36m87\u001b[0m - \u001b[1mqnorm_momentum: 0.001\u001b[0m\n",
      "\u001b[32m2022-06-23 16:26:10.625\u001b[0m | \u001b[1mINFO    \u001b[0m | \u001b[36msrc.beam.experiment\u001b[0m:\u001b[36m__init__\u001b[0m:\u001b[36m87\u001b[0m - \u001b[1mk_p: 0.05\u001b[0m\n",
      "\u001b[32m2022-06-23 16:26:10.625\u001b[0m | \u001b[1mINFO    \u001b[0m | \u001b[36msrc.beam.experiment\u001b[0m:\u001b[36m__init__\u001b[0m:\u001b[36m87\u001b[0m - \u001b[1mk_i: 0.005\u001b[0m\n",
      "\u001b[32m2022-06-23 16:26:10.626\u001b[0m | \u001b[1mINFO    \u001b[0m | \u001b[36msrc.beam.experiment\u001b[0m:\u001b[36m__init__\u001b[0m:\u001b[36m87\u001b[0m - \u001b[1mk_d: 0.005\u001b[0m\n",
      "\u001b[32m2022-06-23 16:26:10.626\u001b[0m | \u001b[1mINFO    \u001b[0m | \u001b[36msrc.beam.experiment\u001b[0m:\u001b[36m__init__\u001b[0m:\u001b[36m87\u001b[0m - \u001b[1mT_pid: 20\u001b[0m\n",
      "\u001b[32m2022-06-23 16:26:10.627\u001b[0m | \u001b[1mINFO    \u001b[0m | \u001b[36msrc.beam.experiment\u001b[0m:\u001b[36m__init__\u001b[0m:\u001b[36m87\u001b[0m - \u001b[1mclip_pid: 0.005\u001b[0m\n",
      "\u001b[32m2022-06-23 16:26:10.627\u001b[0m | \u001b[1mINFO    \u001b[0m | \u001b[36msrc.beam.experiment\u001b[0m:\u001b[36m__init__\u001b[0m:\u001b[36m87\u001b[0m - \u001b[1mpath_to_data: /home/shared/data/dataset/covtype\u001b[0m\n",
      "\u001b[32m2022-06-23 16:26:10.627\u001b[0m | \u001b[1mINFO    \u001b[0m | \u001b[36msrc.beam.experiment\u001b[0m:\u001b[36m__init__\u001b[0m:\u001b[36m87\u001b[0m - \u001b[1mdropout: 0.0\u001b[0m\n"
     ]
    }
   ],
   "source": [
    "args = beam_arguments(get_covtype_parser(), \n",
    "        f\"--project-name=covtype --root-dir={root_dir} --algorithm=CovtypeAlgorithm --device=0 --no-half --lr-d=1e-3 --batch-size=256\",\n",
    "        \"--n-epochs=40 --clip=0 --parallel=1 --accumulate=1 --cudnn-benchmark\",\n",
    "        \"--weight-decay=1e-5 --beta1=0.9 --beta2=0.999\", label_smoothing=.05, weight_factor=.0,\n",
    "        path_to_data=path_to_data, dropout=.0, activation='gelu', channels=128, n_rules=64, n_layers=2,)\n",
    "\n",
    "study = Study(covtype_algorithm_generator, args)"
   ]
  },
  {
   "cell_type": "code",
   "execution_count": 4,
   "id": "963c55ad-277d-478b-979b-bdb3d98e8e68",
   "metadata": {},
   "outputs": [
    {
     "data": {
      "text/html": [
       "== Status ==<br>Current time: 2022-06-26 06:22:28 (running for 2 days, 13:56:18.22)<br>Memory usage on this node: 37.0/376.6 GiB<br>Using FIFO scheduling algorithm.<br>Resources requested: 2.0/80 CPUs, 2.0/2 GPUs, 0.0/239.07 GiB heap, 0.0/106.45 GiB objects (0.0/1.0 accelerator_type:RTX)<br>Current best trial: a888af8e with mean_accuracy=0.9558299917035398 and parameters={'lr_dense': 0.001107764626720308, 'lr_sparse': 0.024810381413016523, 'dropout': 0.06641441791530274, 'scheduler_factor': 0.11268477746962283, 'scheduler_patience': 12, 'weight_decay': 0.0009970530172299888, 'beta1': 0.9, 'beta2': 0.99, 'n_tables': 15, 'n_quantiles': 20, 'weight_factor': 0.0, 'label_smoothing': 0.2, 'channels': 256, 'n_rules': 128, 'n_layers': 2, 'activation': 'gelu', 'k_p': 0.04681375614992268, 'k_i': 0.001063258531820228, 'k_d': 0.004410360615379902, 'initial_mask': 0.995233916725646}<br>Result logdir: /root/ray_results/runner_tune_2022-06-23_16-26-10<br>Number of trials: 84/1000 (2 RUNNING, 82 TERMINATED)<br><table>\n",
       "<thead>\n",
       "<tr><th>Trial name          </th><th>status    </th><th>loc             </th><th>activation  </th><th style=\"text-align: right;\">  beta1</th><th style=\"text-align: right;\">  beta2</th><th style=\"text-align: right;\">  channels</th><th style=\"text-align: right;\">  dropout</th><th style=\"text-align: right;\">  initial_mask</th><th style=\"text-align: right;\">       k_d</th><th style=\"text-align: right;\">       k_i</th><th style=\"text-align: right;\">      k_p</th><th style=\"text-align: right;\">  label_smoothing</th><th style=\"text-align: right;\">   lr_dense</th><th style=\"text-align: right;\">  lr_sparse</th><th style=\"text-align: right;\">  n_layers</th><th style=\"text-align: right;\">  n_quantiles</th><th style=\"text-align: right;\">  n_rules</th><th style=\"text-align: right;\">  n_tables</th><th style=\"text-align: right;\">  scheduler_factor</th><th style=\"text-align: right;\">  scheduler_patience</th><th style=\"text-align: right;\">  weight_decay</th><th style=\"text-align: right;\">  weight_factor</th><th style=\"text-align: right;\">     acc</th><th style=\"text-align: right;\">  iter</th><th style=\"text-align: right;\">  total time (s)</th></tr>\n",
       "</thead>\n",
       "<tbody>\n",
       "<tr><td>runner_tune_63c3d776</td><td>RUNNING   </td><td>172.17.0.7:66237</td><td>gelu        </td><td style=\"text-align: right;\">   0.9 </td><td style=\"text-align: right;\">  0.999</td><td style=\"text-align: right;\">       256</td><td style=\"text-align: right;\">0.058916 </td><td style=\"text-align: right;\">      0.999251</td><td style=\"text-align: right;\">0.00353359</td><td style=\"text-align: right;\">0.00155413</td><td style=\"text-align: right;\">0.0555205</td><td style=\"text-align: right;\">              0.2</td><td style=\"text-align: right;\">0.00217149 </td><td style=\"text-align: right;\"> 0.017969  </td><td style=\"text-align: right;\">         2</td><td style=\"text-align: right;\">           20</td><td style=\"text-align: right;\">      128</td><td style=\"text-align: right;\">        15</td><td style=\"text-align: right;\">          0.135275</td><td style=\"text-align: right;\">                  12</td><td style=\"text-align: right;\">   0.000351825</td><td style=\"text-align: right;\">           0   </td><td style=\"text-align: right;\">0.948467</td><td style=\"text-align: right;\">    36</td><td style=\"text-align: right;\">         5490.23</td></tr>\n",
       "<tr><td>runner_tune_edaad5d2</td><td>RUNNING   </td><td>172.17.0.7:67440</td><td>gelu        </td><td style=\"text-align: right;\">   0.9 </td><td style=\"text-align: right;\">  0.999</td><td style=\"text-align: right;\">       256</td><td style=\"text-align: right;\">0.0494754</td><td style=\"text-align: right;\">      0.998241</td><td style=\"text-align: right;\">0.00445461</td><td style=\"text-align: right;\">0.0012865 </td><td style=\"text-align: right;\">0.0747774</td><td style=\"text-align: right;\">              0.2</td><td style=\"text-align: right;\">0.000941906</td><td style=\"text-align: right;\"> 0.0200523 </td><td style=\"text-align: right;\">         2</td><td style=\"text-align: right;\">           20</td><td style=\"text-align: right;\">       64</td><td style=\"text-align: right;\">        15</td><td style=\"text-align: right;\">          0.122971</td><td style=\"text-align: right;\">                  12</td><td style=\"text-align: right;\">   0.00038737 </td><td style=\"text-align: right;\">           0   </td><td style=\"text-align: right;\">0.950014</td><td style=\"text-align: right;\">    29</td><td style=\"text-align: right;\">         2290.66</td></tr>\n",
       "<tr><td>runner_tune_008a91a0</td><td>TERMINATED</td><td>172.17.0.7:50284</td><td>gelu        </td><td style=\"text-align: right;\">   0.9 </td><td style=\"text-align: right;\">  0.99 </td><td style=\"text-align: right;\">       256</td><td style=\"text-align: right;\">0.0807869</td><td style=\"text-align: right;\">      0.996324</td><td style=\"text-align: right;\">0.00680326</td><td style=\"text-align: right;\">0.00142563</td><td style=\"text-align: right;\">0.0510722</td><td style=\"text-align: right;\">              0.2</td><td style=\"text-align: right;\">0.000819026</td><td style=\"text-align: right;\"> 0.0152461 </td><td style=\"text-align: right;\">         2</td><td style=\"text-align: right;\">           20</td><td style=\"text-align: right;\">      128</td><td style=\"text-align: right;\">        15</td><td style=\"text-align: right;\">          0.112404</td><td style=\"text-align: right;\">                  12</td><td style=\"text-align: right;\">   0.000984329</td><td style=\"text-align: right;\">           0   </td><td style=\"text-align: right;\">0.953592</td><td style=\"text-align: right;\">    40</td><td style=\"text-align: right;\">         6066.92</td></tr>\n",
       "<tr><td>runner_tune_028e4942</td><td>TERMINATED</td><td>172.17.0.7:20640</td><td>gelu        </td><td style=\"text-align: right;\">   0.9 </td><td style=\"text-align: right;\">  0.99 </td><td style=\"text-align: right;\">        64</td><td style=\"text-align: right;\">0.138117 </td><td style=\"text-align: right;\">      0.98606 </td><td style=\"text-align: right;\">0.00797104</td><td style=\"text-align: right;\">0.00847916</td><td style=\"text-align: right;\">0.0140101</td><td style=\"text-align: right;\">              0.2</td><td style=\"text-align: right;\">0.000334277</td><td style=\"text-align: right;\"> 0.050323  </td><td style=\"text-align: right;\">         1</td><td style=\"text-align: right;\">           20</td><td style=\"text-align: right;\">      256</td><td style=\"text-align: right;\">         1</td><td style=\"text-align: right;\">          0.153175</td><td style=\"text-align: right;\">                  16</td><td style=\"text-align: right;\">   1.73845e-06</td><td style=\"text-align: right;\">           0   </td><td style=\"text-align: right;\">0.93171 </td><td style=\"text-align: right;\">    40</td><td style=\"text-align: right;\">         5513.77</td></tr>\n",
       "<tr><td>runner_tune_080099b0</td><td>TERMINATED</td><td>172.17.0.7:80084</td><td>celu        </td><td style=\"text-align: right;\">   0.9 </td><td style=\"text-align: right;\">  0.999</td><td style=\"text-align: right;\">        64</td><td style=\"text-align: right;\">0.158326 </td><td style=\"text-align: right;\">      0.996888</td><td style=\"text-align: right;\">0.00856642</td><td style=\"text-align: right;\">0.00988607</td><td style=\"text-align: right;\">0.0889488</td><td style=\"text-align: right;\">              0.1</td><td style=\"text-align: right;\">0.00986728 </td><td style=\"text-align: right;\"> 0.0959956 </td><td style=\"text-align: right;\">         2</td><td style=\"text-align: right;\">           20</td><td style=\"text-align: right;\">      256</td><td style=\"text-align: right;\">         1</td><td style=\"text-align: right;\">          0.1056  </td><td style=\"text-align: right;\">                  16</td><td style=\"text-align: right;\">   1.25602e-06</td><td style=\"text-align: right;\">           0   </td><td style=\"text-align: right;\">0.912118</td><td style=\"text-align: right;\">    40</td><td style=\"text-align: right;\">        10459.7 </td></tr>\n",
       "<tr><td>runner_tune_0e789ebc</td><td>TERMINATED</td><td>172.17.0.7:60721</td><td>celu        </td><td style=\"text-align: right;\">   0.9 </td><td style=\"text-align: right;\">  0.999</td><td style=\"text-align: right;\">       256</td><td style=\"text-align: right;\">0.0295621</td><td style=\"text-align: right;\">      0.999882</td><td style=\"text-align: right;\">0.00456891</td><td style=\"text-align: right;\">0.00102814</td><td style=\"text-align: right;\">0.0707723</td><td style=\"text-align: right;\">              0.2</td><td style=\"text-align: right;\">0.000994112</td><td style=\"text-align: right;\"> 0.0304406 </td><td style=\"text-align: right;\">         2</td><td style=\"text-align: right;\">            4</td><td style=\"text-align: right;\">       64</td><td style=\"text-align: right;\">        15</td><td style=\"text-align: right;\">          0.100448</td><td style=\"text-align: right;\">                  12</td><td style=\"text-align: right;\">   0.000715209</td><td style=\"text-align: right;\">           0   </td><td style=\"text-align: right;\">0.947706</td><td style=\"text-align: right;\">    40</td><td style=\"text-align: right;\">         2903.16</td></tr>\n",
       "<tr><td>runner_tune_10fb7f6c</td><td>TERMINATED</td><td>172.17.0.7:72407</td><td>gelu        </td><td style=\"text-align: right;\">   0.9 </td><td style=\"text-align: right;\">  0.99 </td><td style=\"text-align: right;\">       256</td><td style=\"text-align: right;\">0.220779 </td><td style=\"text-align: right;\">      0.968569</td><td style=\"text-align: right;\">0.00308747</td><td style=\"text-align: right;\">0.002626  </td><td style=\"text-align: right;\">0.0240213</td><td style=\"text-align: right;\">              0.1</td><td style=\"text-align: right;\">0.000142814</td><td style=\"text-align: right;\"> 0.00126458</td><td style=\"text-align: right;\">         1</td><td style=\"text-align: right;\">           10</td><td style=\"text-align: right;\">      256</td><td style=\"text-align: right;\">         5</td><td style=\"text-align: right;\">          0.267074</td><td style=\"text-align: right;\">                  20</td><td style=\"text-align: right;\">   1.47414e-05</td><td style=\"text-align: right;\">           0.25</td><td style=\"text-align: right;\">0.896104</td><td style=\"text-align: right;\">    40</td><td style=\"text-align: right;\">         8462.36</td></tr>\n",
       "<tr><td>runner_tune_121f98fc</td><td>TERMINATED</td><td>172.17.0.7:40384</td><td>gelu        </td><td style=\"text-align: right;\">   0.95</td><td style=\"text-align: right;\">  0.99 </td><td style=\"text-align: right;\">       256</td><td style=\"text-align: right;\">0.1964   </td><td style=\"text-align: right;\">      0.963854</td><td style=\"text-align: right;\">0.00830381</td><td style=\"text-align: right;\">0.0019387 </td><td style=\"text-align: right;\">0.0374598</td><td style=\"text-align: right;\">              0.1</td><td style=\"text-align: right;\">0.00100392 </td><td style=\"text-align: right;\"> 0.00268295</td><td style=\"text-align: right;\">         2</td><td style=\"text-align: right;\">           10</td><td style=\"text-align: right;\">      128</td><td style=\"text-align: right;\">         5</td><td style=\"text-align: right;\">          0.226368</td><td style=\"text-align: right;\">                  20</td><td style=\"text-align: right;\">   3.64052e-05</td><td style=\"text-align: right;\">           0   </td><td style=\"text-align: right;\">0.933931</td><td style=\"text-align: right;\">    40</td><td style=\"text-align: right;\">         5975.81</td></tr>\n",
       "<tr><td>runner_tune_1fc0b7b0</td><td>TERMINATED</td><td>172.17.0.7:38270</td><td>celu        </td><td style=\"text-align: right;\">   0.95</td><td style=\"text-align: right;\">  0.999</td><td style=\"text-align: right;\">       256</td><td style=\"text-align: right;\">0.185739 </td><td style=\"text-align: right;\">      0.982717</td><td style=\"text-align: right;\">0.00635819</td><td style=\"text-align: right;\">0.00250672</td><td style=\"text-align: right;\">0.0167592</td><td style=\"text-align: right;\">              0  </td><td style=\"text-align: right;\">0.00241463 </td><td style=\"text-align: right;\"> 0.0140612 </td><td style=\"text-align: right;\">         2</td><td style=\"text-align: right;\">           10</td><td style=\"text-align: right;\">      128</td><td style=\"text-align: right;\">         5</td><td style=\"text-align: right;\">          0.165462</td><td style=\"text-align: right;\">                  20</td><td style=\"text-align: right;\">   1.75448e-05</td><td style=\"text-align: right;\">           0   </td><td style=\"text-align: right;\">0.928149</td><td style=\"text-align: right;\">    40</td><td style=\"text-align: right;\">         5984.78</td></tr>\n",
       "<tr><td>runner_tune_20003a20</td><td>TERMINATED</td><td>172.17.0.7:14600</td><td>celu        </td><td style=\"text-align: right;\">   0.9 </td><td style=\"text-align: right;\">  0.99 </td><td style=\"text-align: right;\">        64</td><td style=\"text-align: right;\">0.189547 </td><td style=\"text-align: right;\">      0.979488</td><td style=\"text-align: right;\">0.0099452 </td><td style=\"text-align: right;\">0.00441909</td><td style=\"text-align: right;\">0.0125956</td><td style=\"text-align: right;\">              0.2</td><td style=\"text-align: right;\">0.000193391</td><td style=\"text-align: right;\"> 0.0418173 </td><td style=\"text-align: right;\">         1</td><td style=\"text-align: right;\">           20</td><td style=\"text-align: right;\">      256</td><td style=\"text-align: right;\">        15</td><td style=\"text-align: right;\">          0.190423</td><td style=\"text-align: right;\">                  16</td><td style=\"text-align: right;\">   9.5758e-06 </td><td style=\"text-align: right;\">           0   </td><td style=\"text-align: right;\">0.921564</td><td style=\"text-align: right;\">    40</td><td style=\"text-align: right;\">         5645.03</td></tr>\n",
       "<tr><td>runner_tune_221c3d70</td><td>TERMINATED</td><td>172.17.0.7:13376</td><td>gelu        </td><td style=\"text-align: right;\">   0.9 </td><td style=\"text-align: right;\">  0.99 </td><td style=\"text-align: right;\">        64</td><td style=\"text-align: right;\">0.188146 </td><td style=\"text-align: right;\">      0.977566</td><td style=\"text-align: right;\">0.00989473</td><td style=\"text-align: right;\">0.00458504</td><td style=\"text-align: right;\">0.0122436</td><td style=\"text-align: right;\">              0.2</td><td style=\"text-align: right;\">0.000187935</td><td style=\"text-align: right;\"> 0.0188095 </td><td style=\"text-align: right;\">         1</td><td style=\"text-align: right;\">           20</td><td style=\"text-align: right;\">      256</td><td style=\"text-align: right;\">        15</td><td style=\"text-align: right;\">          0.14517 </td><td style=\"text-align: right;\">                  16</td><td style=\"text-align: right;\">   3.04527e-06</td><td style=\"text-align: right;\">           0   </td><td style=\"text-align: right;\">0.890625</td><td style=\"text-align: right;\">    40</td><td style=\"text-align: right;\">         5515.76</td></tr>\n",
       "<tr><td>runner_tune_2328efa0</td><td>TERMINATED</td><td>172.17.0.7:52415</td><td>gelu        </td><td style=\"text-align: right;\">   0.9 </td><td style=\"text-align: right;\">  0.99 </td><td style=\"text-align: right;\">       256</td><td style=\"text-align: right;\">0.0624095</td><td style=\"text-align: right;\">      0.995987</td><td style=\"text-align: right;\">0.0067945 </td><td style=\"text-align: right;\">0.00132431</td><td style=\"text-align: right;\">0.0522821</td><td style=\"text-align: right;\">              0.2</td><td style=\"text-align: right;\">0.00117013 </td><td style=\"text-align: right;\"> 0.0141544 </td><td style=\"text-align: right;\">         2</td><td style=\"text-align: right;\">           20</td><td style=\"text-align: right;\">      128</td><td style=\"text-align: right;\">        15</td><td style=\"text-align: right;\">          0.117502</td><td style=\"text-align: right;\">                  12</td><td style=\"text-align: right;\">   0.000471251</td><td style=\"text-align: right;\">           0   </td><td style=\"text-align: right;\">0.950861</td><td style=\"text-align: right;\">    40</td><td style=\"text-align: right;\">         6062.27</td></tr>\n",
       "<tr><td>runner_tune_256d0df0</td><td>TERMINATED</td><td>172.17.0.7:37201</td><td>celu        </td><td style=\"text-align: right;\">   0.95</td><td style=\"text-align: right;\">  0.999</td><td style=\"text-align: right;\">       256</td><td style=\"text-align: right;\">0.20963  </td><td style=\"text-align: right;\">      0.981716</td><td style=\"text-align: right;\">0.00384722</td><td style=\"text-align: right;\">0.00124266</td><td style=\"text-align: right;\">0.0268703</td><td style=\"text-align: right;\">              0  </td><td style=\"text-align: right;\">0.00443489 </td><td style=\"text-align: right;\"> 0.00407276</td><td style=\"text-align: right;\">         2</td><td style=\"text-align: right;\">           10</td><td style=\"text-align: right;\">      128</td><td style=\"text-align: right;\">         5</td><td style=\"text-align: right;\">          0.257588</td><td style=\"text-align: right;\">                  20</td><td style=\"text-align: right;\">   1.68264e-05</td><td style=\"text-align: right;\">           0   </td><td style=\"text-align: right;\">0.926231</td><td style=\"text-align: right;\">    40</td><td style=\"text-align: right;\">         6187.33</td></tr>\n",
       "<tr><td>runner_tune_259de310</td><td>TERMINATED</td><td>172.17.0.7:752  </td><td>gelu        </td><td style=\"text-align: right;\">   0.9 </td><td style=\"text-align: right;\">  0.99 </td><td style=\"text-align: right;\">        64</td><td style=\"text-align: right;\">0.16016  </td><td style=\"text-align: right;\">      0.999692</td><td style=\"text-align: right;\">0.00783947</td><td style=\"text-align: right;\">0.00984596</td><td style=\"text-align: right;\">0.0107856</td><td style=\"text-align: right;\">              0.2</td><td style=\"text-align: right;\">0.000554613</td><td style=\"text-align: right;\"> 0.0999626 </td><td style=\"text-align: right;\">         1</td><td style=\"text-align: right;\">           20</td><td style=\"text-align: right;\">      256</td><td style=\"text-align: right;\">         1</td><td style=\"text-align: right;\">          0.128093</td><td style=\"text-align: right;\">                  16</td><td style=\"text-align: right;\">   1.08986e-06</td><td style=\"text-align: right;\">           0   </td><td style=\"text-align: right;\">0.937733</td><td style=\"text-align: right;\">    40</td><td style=\"text-align: right;\">         5507.58</td></tr>\n",
       "<tr><td>runner_tune_2834eb0e</td><td>TERMINATED</td><td>172.17.0.7:18675</td><td>gelu        </td><td style=\"text-align: right;\">   0.9 </td><td style=\"text-align: right;\">  0.99 </td><td style=\"text-align: right;\">        64</td><td style=\"text-align: right;\">0.161188 </td><td style=\"text-align: right;\">      0.947064</td><td style=\"text-align: right;\">0.00715972</td><td style=\"text-align: right;\">0.00516553</td><td style=\"text-align: right;\">0.0116202</td><td style=\"text-align: right;\">              0.2</td><td style=\"text-align: right;\">0.000384012</td><td style=\"text-align: right;\"> 0.0685896 </td><td style=\"text-align: right;\">         1</td><td style=\"text-align: right;\">           20</td><td style=\"text-align: right;\">      256</td><td style=\"text-align: right;\">         1</td><td style=\"text-align: right;\">          0.122799</td><td style=\"text-align: right;\">                  16</td><td style=\"text-align: right;\">   1.78534e-06</td><td style=\"text-align: right;\">           0   </td><td style=\"text-align: right;\">0.918202</td><td style=\"text-align: right;\">    40</td><td style=\"text-align: right;\">         5515.5 </td></tr>\n",
       "<tr><td>runner_tune_2c31463a</td><td>TERMINATED</td><td>172.17.0.7:66396</td><td>gelu        </td><td style=\"text-align: right;\">   0.9 </td><td style=\"text-align: right;\">  0.999</td><td style=\"text-align: right;\">       256</td><td style=\"text-align: right;\">0.0167962</td><td style=\"text-align: right;\">      0.999922</td><td style=\"text-align: right;\">0.00357432</td><td style=\"text-align: right;\">0.00118412</td><td style=\"text-align: right;\">0.0643891</td><td style=\"text-align: right;\">              0.2</td><td style=\"text-align: right;\">0.0021442  </td><td style=\"text-align: right;\"> 0.0236737 </td><td style=\"text-align: right;\">         2</td><td style=\"text-align: right;\">           20</td><td style=\"text-align: right;\">       64</td><td style=\"text-align: right;\">        15</td><td style=\"text-align: right;\">          0.110831</td><td style=\"text-align: right;\">                  12</td><td style=\"text-align: right;\">   0.000748736</td><td style=\"text-align: right;\">           0   </td><td style=\"text-align: right;\">0.951932</td><td style=\"text-align: right;\">    40</td><td style=\"text-align: right;\">         2896.88</td></tr>\n",
       "<tr><td>runner_tune_2f8295ee</td><td>TERMINATED</td><td>172.17.0.7:17348</td><td>gelu        </td><td style=\"text-align: right;\">   0.95</td><td style=\"text-align: right;\">  0.99 </td><td style=\"text-align: right;\">       128</td><td style=\"text-align: right;\">0.103396 </td><td style=\"text-align: right;\">      0.99978 </td><td style=\"text-align: right;\">0.00667879</td><td style=\"text-align: right;\">0.0036104 </td><td style=\"text-align: right;\">0.0163347</td><td style=\"text-align: right;\">              0  </td><td style=\"text-align: right;\">0.00147826 </td><td style=\"text-align: right;\"> 0.00735453</td><td style=\"text-align: right;\">         1</td><td style=\"text-align: right;\">            4</td><td style=\"text-align: right;\">       64</td><td style=\"text-align: right;\">         1</td><td style=\"text-align: right;\">          0.45057 </td><td style=\"text-align: right;\">                  12</td><td style=\"text-align: right;\">   2.38596e-05</td><td style=\"text-align: right;\">           0.25</td><td style=\"text-align: right;\">0.895413</td><td style=\"text-align: right;\">    40</td><td style=\"text-align: right;\">         1542.42</td></tr>\n",
       "<tr><td>runner_tune_310bb3d8</td><td>TERMINATED</td><td>172.17.0.7:18869</td><td>gelu        </td><td style=\"text-align: right;\">   0.9 </td><td style=\"text-align: right;\">  0.99 </td><td style=\"text-align: right;\">        64</td><td style=\"text-align: right;\">0.164342 </td><td style=\"text-align: right;\">      0.988047</td><td style=\"text-align: right;\">0.00764111</td><td style=\"text-align: right;\">0.00409716</td><td style=\"text-align: right;\">0.0113108</td><td style=\"text-align: right;\">              0.2</td><td style=\"text-align: right;\">0.000323285</td><td style=\"text-align: right;\"> 0.0624031 </td><td style=\"text-align: right;\">         1</td><td style=\"text-align: right;\">           20</td><td style=\"text-align: right;\">      256</td><td style=\"text-align: right;\">         1</td><td style=\"text-align: right;\">          0.128864</td><td style=\"text-align: right;\">                  16</td><td style=\"text-align: right;\">   1.88152e-06</td><td style=\"text-align: right;\">           0   </td><td style=\"text-align: right;\">0.934017</td><td style=\"text-align: right;\">    40</td><td style=\"text-align: right;\">         5638.2 </td></tr>\n",
       "<tr><td>runner_tune_3135cad6</td><td>TERMINATED</td><td>172.17.0.7:69962</td><td>celu        </td><td style=\"text-align: right;\">   0.95</td><td style=\"text-align: right;\">  0.999</td><td style=\"text-align: right;\">       256</td><td style=\"text-align: right;\">0.0775723</td><td style=\"text-align: right;\">      0.954624</td><td style=\"text-align: right;\">0.00257663</td><td style=\"text-align: right;\">0.00392462</td><td style=\"text-align: right;\">0.0312595</td><td style=\"text-align: right;\">              0  </td><td style=\"text-align: right;\">0.00216574 </td><td style=\"text-align: right;\"> 0.0380389 </td><td style=\"text-align: right;\">         2</td><td style=\"text-align: right;\">            4</td><td style=\"text-align: right;\">       64</td><td style=\"text-align: right;\">         5</td><td style=\"text-align: right;\">          0.495696</td><td style=\"text-align: right;\">                  16</td><td style=\"text-align: right;\">   2.05277e-05</td><td style=\"text-align: right;\">           0.25</td><td style=\"text-align: right;\">0.89753 </td><td style=\"text-align: right;\">    40</td><td style=\"text-align: right;\">         3183.99</td></tr>\n",
       "<tr><td>runner_tune_3289f16c</td><td>TERMINATED</td><td>172.17.0.7:36152</td><td>gelu        </td><td style=\"text-align: right;\">   0.95</td><td style=\"text-align: right;\">  0.99 </td><td style=\"text-align: right;\">       256</td><td style=\"text-align: right;\">0.213016 </td><td style=\"text-align: right;\">      0.953263</td><td style=\"text-align: right;\">0.00371847</td><td style=\"text-align: right;\">0.00146105</td><td style=\"text-align: right;\">0.027508 </td><td style=\"text-align: right;\">              0.2</td><td style=\"text-align: right;\">0.00628279 </td><td style=\"text-align: right;\"> 0.00382002</td><td style=\"text-align: right;\">         2</td><td style=\"text-align: right;\">           10</td><td style=\"text-align: right;\">      128</td><td style=\"text-align: right;\">         5</td><td style=\"text-align: right;\">          0.199507</td><td style=\"text-align: right;\">                  20</td><td style=\"text-align: right;\">   0.00016226 </td><td style=\"text-align: right;\">           0   </td><td style=\"text-align: right;\">0.931088</td><td style=\"text-align: right;\">    40</td><td style=\"text-align: right;\">         5976.52</td></tr>\n",
       "</tbody>\n",
       "</table><br>... 64 more trials not shown (64 TERMINATED)<br><br>"
      ],
      "text/plain": [
       "<IPython.core.display.HTML object>"
      ]
     },
     "metadata": {},
     "output_type": "display_data"
    },
    {
     "name": "stderr",
     "output_type": "stream",
     "text": [
      "2022-06-26 06:22:32,947\tWARNING tune.py:650 -- SIGINT received (e.g. via Ctrl+C), ending Ray Tune run. This will try to checkpoint the experiment state one last time. Press CTRL+C one more time (or send SIGINT/SIGKILL/SIGTERM) to skip. \n"
     ]
    },
    {
     "ename": "KeyboardInterrupt",
     "evalue": "",
     "output_type": "error",
     "traceback": [
      "\u001b[0;31m---------------------------------------------------------------------------\u001b[0m",
      "\u001b[0;31mKeyboardInterrupt\u001b[0m                         Traceback (most recent call last)",
      "\u001b[0;32m/tmp/ipykernel_69603/29446727.py\u001b[0m in \u001b[0;36m<cell line: 1>\u001b[0;34m()\u001b[0m\n\u001b[0;32m----> 1\u001b[0;31m analysis = study.tune(config={\"lr_dense\": tune.loguniform(1e-4, 1e-2),\n\u001b[0m\u001b[1;32m      2\u001b[0m                               \u001b[0;34m\"lr_sparse\"\u001b[0m\u001b[0;34m:\u001b[0m \u001b[0mtune\u001b[0m\u001b[0;34m.\u001b[0m\u001b[0mloguniform\u001b[0m\u001b[0;34m(\u001b[0m\u001b[0;36m1e-3\u001b[0m\u001b[0;34m,\u001b[0m \u001b[0;36m1e-1\u001b[0m\u001b[0;34m)\u001b[0m\u001b[0;34m,\u001b[0m\u001b[0;34m\u001b[0m\u001b[0;34m\u001b[0m\u001b[0m\n\u001b[1;32m      3\u001b[0m                               \u001b[0;34m\"dropout\"\u001b[0m\u001b[0;34m:\u001b[0m \u001b[0mtune\u001b[0m\u001b[0;34m.\u001b[0m\u001b[0muniform\u001b[0m\u001b[0;34m(\u001b[0m\u001b[0;36m.0\u001b[0m\u001b[0;34m,\u001b[0m \u001b[0;36m.25\u001b[0m\u001b[0;34m)\u001b[0m\u001b[0;34m,\u001b[0m\u001b[0;34m\u001b[0m\u001b[0;34m\u001b[0m\u001b[0m\n\u001b[1;32m      4\u001b[0m                               \u001b[0;34m\"scheduler_factor\"\u001b[0m\u001b[0;34m:\u001b[0m \u001b[0mtune\u001b[0m\u001b[0;34m.\u001b[0m\u001b[0muniform\u001b[0m\u001b[0;34m(\u001b[0m\u001b[0;36m.1\u001b[0m\u001b[0;34m,\u001b[0m \u001b[0;36m.5\u001b[0m\u001b[0;34m)\u001b[0m\u001b[0;34m,\u001b[0m\u001b[0;34m\u001b[0m\u001b[0;34m\u001b[0m\u001b[0m\n\u001b[1;32m      5\u001b[0m                               \u001b[0;34m\"scheduler_patience\"\u001b[0m\u001b[0;34m:\u001b[0m \u001b[0mtune\u001b[0m\u001b[0;34m.\u001b[0m\u001b[0mchoice\u001b[0m\u001b[0;34m(\u001b[0m\u001b[0;34m[\u001b[0m\u001b[0;36m12\u001b[0m\u001b[0;34m,\u001b[0m \u001b[0;36m16\u001b[0m\u001b[0;34m,\u001b[0m \u001b[0;36m20\u001b[0m\u001b[0;34m]\u001b[0m\u001b[0;34m)\u001b[0m\u001b[0;34m,\u001b[0m\u001b[0;34m\u001b[0m\u001b[0;34m\u001b[0m\u001b[0m\n",
      "\u001b[0;32m/home/elad/docker/beamds/notebooks/../src/beam/experiment.py\u001b[0m in \u001b[0;36mtune\u001b[0;34m(self, config, *args, **kwargs)\u001b[0m\n\u001b[1;32m    132\u001b[0m     \u001b[0;32mdef\u001b[0m \u001b[0mtune\u001b[0m\u001b[0;34m(\u001b[0m\u001b[0mself\u001b[0m\u001b[0;34m,\u001b[0m \u001b[0mconfig\u001b[0m\u001b[0;34m,\u001b[0m \u001b[0;34m*\u001b[0m\u001b[0margs\u001b[0m\u001b[0;34m,\u001b[0m \u001b[0;34m**\u001b[0m\u001b[0mkwargs\u001b[0m\u001b[0;34m)\u001b[0m\u001b[0;34m:\u001b[0m\u001b[0;34m\u001b[0m\u001b[0;34m\u001b[0m\u001b[0m\n\u001b[1;32m    133\u001b[0m \u001b[0;34m\u001b[0m\u001b[0m\n\u001b[0;32m--> 134\u001b[0;31m         \u001b[0manalysis\u001b[0m \u001b[0;34m=\u001b[0m \u001b[0mtune\u001b[0m\u001b[0;34m.\u001b[0m\u001b[0mrun\u001b[0m\u001b[0;34m(\u001b[0m\u001b[0mself\u001b[0m\u001b[0;34m.\u001b[0m\u001b[0mrunner_tune\u001b[0m\u001b[0;34m,\u001b[0m \u001b[0mconfig\u001b[0m\u001b[0;34m=\u001b[0m\u001b[0mconfig\u001b[0m\u001b[0;34m,\u001b[0m \u001b[0;34m*\u001b[0m\u001b[0margs\u001b[0m\u001b[0;34m,\u001b[0m \u001b[0;34m**\u001b[0m\u001b[0mkwargs\u001b[0m\u001b[0;34m)\u001b[0m\u001b[0;34m\u001b[0m\u001b[0;34m\u001b[0m\u001b[0m\n\u001b[0m\u001b[1;32m    135\u001b[0m \u001b[0;34m\u001b[0m\u001b[0m\n\u001b[1;32m    136\u001b[0m         \u001b[0;32mreturn\u001b[0m \u001b[0manalysis\u001b[0m\u001b[0;34m\u001b[0m\u001b[0;34m\u001b[0m\u001b[0m\n",
      "\u001b[0;32m/opt/conda/lib/python3.8/site-packages/ray/tune/tune.py\u001b[0m in \u001b[0;36mrun\u001b[0;34m(run_or_experiment, name, metric, mode, stop, time_budget_s, config, resources_per_trial, num_samples, local_dir, search_alg, scheduler, keep_checkpoints_num, checkpoint_score_attr, checkpoint_freq, checkpoint_at_end, verbose, progress_reporter, log_to_file, trial_name_creator, trial_dirname_creator, sync_config, export_formats, max_failures, fail_fast, restore, server_port, resume, reuse_actors, trial_executor, raise_on_failed_trial, callbacks, max_concurrent_trials, _experiment_checkpoint_dir, queue_trials, loggers, _remote)\u001b[0m\n\u001b[1;32m    670\u001b[0m     \u001b[0mprogress_reporter\u001b[0m\u001b[0;34m.\u001b[0m\u001b[0mset_start_time\u001b[0m\u001b[0;34m(\u001b[0m\u001b[0mtune_start\u001b[0m\u001b[0;34m)\u001b[0m\u001b[0;34m\u001b[0m\u001b[0;34m\u001b[0m\u001b[0m\n\u001b[1;32m    671\u001b[0m     \u001b[0;32mwhile\u001b[0m \u001b[0;32mnot\u001b[0m \u001b[0mrunner\u001b[0m\u001b[0;34m.\u001b[0m\u001b[0mis_finished\u001b[0m\u001b[0;34m(\u001b[0m\u001b[0;34m)\u001b[0m \u001b[0;32mand\u001b[0m \u001b[0;32mnot\u001b[0m \u001b[0mstate\u001b[0m\u001b[0;34m[\u001b[0m\u001b[0msignal\u001b[0m\u001b[0;34m.\u001b[0m\u001b[0mSIGINT\u001b[0m\u001b[0;34m]\u001b[0m\u001b[0;34m:\u001b[0m\u001b[0;34m\u001b[0m\u001b[0;34m\u001b[0m\u001b[0m\n\u001b[0;32m--> 672\u001b[0;31m         \u001b[0mrunner\u001b[0m\u001b[0;34m.\u001b[0m\u001b[0mstep\u001b[0m\u001b[0;34m(\u001b[0m\u001b[0;34m)\u001b[0m\u001b[0;34m\u001b[0m\u001b[0;34m\u001b[0m\u001b[0m\n\u001b[0m\u001b[1;32m    673\u001b[0m         \u001b[0;32mif\u001b[0m \u001b[0mhas_verbosity\u001b[0m\u001b[0;34m(\u001b[0m\u001b[0mVerbosity\u001b[0m\u001b[0;34m.\u001b[0m\u001b[0mV1_EXPERIMENT\u001b[0m\u001b[0;34m)\u001b[0m\u001b[0;34m:\u001b[0m\u001b[0;34m\u001b[0m\u001b[0;34m\u001b[0m\u001b[0m\n\u001b[1;32m    674\u001b[0m             \u001b[0m_report_progress\u001b[0m\u001b[0;34m(\u001b[0m\u001b[0mrunner\u001b[0m\u001b[0;34m,\u001b[0m \u001b[0mprogress_reporter\u001b[0m\u001b[0;34m)\u001b[0m\u001b[0;34m\u001b[0m\u001b[0;34m\u001b[0m\u001b[0m\n",
      "\u001b[0;32m/opt/conda/lib/python3.8/site-packages/ray/tune/trial_runner.py\u001b[0m in \u001b[0;36mstep\u001b[0;34m(self)\u001b[0m\n\u001b[1;32m    765\u001b[0m         \u001b[0mnext_trial\u001b[0m \u001b[0;34m=\u001b[0m \u001b[0mself\u001b[0m\u001b[0;34m.\u001b[0m\u001b[0m_update_trial_queue_and_get_next_trial\u001b[0m\u001b[0;34m(\u001b[0m\u001b[0;34m)\u001b[0m\u001b[0;34m\u001b[0m\u001b[0;34m\u001b[0m\u001b[0m\n\u001b[1;32m    766\u001b[0m \u001b[0;34m\u001b[0m\u001b[0m\n\u001b[0;32m--> 767\u001b[0;31m         \u001b[0mself\u001b[0m\u001b[0;34m.\u001b[0m\u001b[0m_wait_and_handle_event\u001b[0m\u001b[0;34m(\u001b[0m\u001b[0mnext_trial\u001b[0m\u001b[0;34m)\u001b[0m\u001b[0;34m\u001b[0m\u001b[0;34m\u001b[0m\u001b[0m\n\u001b[0m\u001b[1;32m    768\u001b[0m \u001b[0;34m\u001b[0m\u001b[0m\n\u001b[1;32m    769\u001b[0m         \u001b[0mself\u001b[0m\u001b[0;34m.\u001b[0m\u001b[0m_stop_experiment_if_needed\u001b[0m\u001b[0;34m(\u001b[0m\u001b[0;34m)\u001b[0m\u001b[0;34m\u001b[0m\u001b[0;34m\u001b[0m\u001b[0m\n",
      "\u001b[0;32m/opt/conda/lib/python3.8/site-packages/ray/tune/trial_runner.py\u001b[0m in \u001b[0;36m_wait_and_handle_event\u001b[0;34m(self, next_trial)\u001b[0m\n\u001b[1;32m    713\u001b[0m         \u001b[0;32mtry\u001b[0m\u001b[0;34m:\u001b[0m\u001b[0;34m\u001b[0m\u001b[0;34m\u001b[0m\u001b[0m\n\u001b[1;32m    714\u001b[0m             \u001b[0;31m# Single wait of entire tune loop.\u001b[0m\u001b[0;34m\u001b[0m\u001b[0;34m\u001b[0m\u001b[0;34m\u001b[0m\u001b[0m\n\u001b[0;32m--> 715\u001b[0;31m             future_result = self.trial_executor.get_next_executor_event(\n\u001b[0m\u001b[1;32m    716\u001b[0m                 \u001b[0mself\u001b[0m\u001b[0;34m.\u001b[0m\u001b[0m_live_trials\u001b[0m\u001b[0;34m,\u001b[0m \u001b[0mnext_trial\u001b[0m \u001b[0;32mis\u001b[0m \u001b[0;32mnot\u001b[0m \u001b[0;32mNone\u001b[0m\u001b[0;34m\u001b[0m\u001b[0;34m\u001b[0m\u001b[0m\n\u001b[1;32m    717\u001b[0m             )\n",
      "\u001b[0;32m/opt/conda/lib/python3.8/site-packages/ray/tune/ray_trial_executor.py\u001b[0m in \u001b[0;36mget_next_executor_event\u001b[0;34m(self, live_trials, next_trial_exists)\u001b[0m\n\u001b[1;32m    854\u001b[0m             )\n\u001b[1;32m    855\u001b[0m \u001b[0;34m\u001b[0m\u001b[0m\n\u001b[0;32m--> 856\u001b[0;31m             ready_futures, _ = ray.wait(\n\u001b[0m\u001b[1;32m    857\u001b[0m                 \u001b[0mfutures_to_wait\u001b[0m\u001b[0;34m,\u001b[0m \u001b[0mnum_returns\u001b[0m\u001b[0;34m=\u001b[0m\u001b[0;36m1\u001b[0m\u001b[0;34m,\u001b[0m \u001b[0mtimeout\u001b[0m\u001b[0;34m=\u001b[0m\u001b[0mself\u001b[0m\u001b[0;34m.\u001b[0m\u001b[0m_get_next_event_wait\u001b[0m\u001b[0;34m\u001b[0m\u001b[0;34m\u001b[0m\u001b[0m\n\u001b[1;32m    858\u001b[0m             )\n",
      "\u001b[0;32m/opt/conda/lib/python3.8/site-packages/ray/_private/client_mode_hook.py\u001b[0m in \u001b[0;36mwrapper\u001b[0;34m(*args, **kwargs)\u001b[0m\n\u001b[1;32m    103\u001b[0m             \u001b[0;32mif\u001b[0m \u001b[0mfunc\u001b[0m\u001b[0;34m.\u001b[0m\u001b[0m__name__\u001b[0m \u001b[0;34m!=\u001b[0m \u001b[0;34m\"init\"\u001b[0m \u001b[0;32mor\u001b[0m \u001b[0mis_client_mode_enabled_by_default\u001b[0m\u001b[0;34m:\u001b[0m\u001b[0;34m\u001b[0m\u001b[0;34m\u001b[0m\u001b[0m\n\u001b[1;32m    104\u001b[0m                 \u001b[0;32mreturn\u001b[0m \u001b[0mgetattr\u001b[0m\u001b[0;34m(\u001b[0m\u001b[0mray\u001b[0m\u001b[0;34m,\u001b[0m \u001b[0mfunc\u001b[0m\u001b[0;34m.\u001b[0m\u001b[0m__name__\u001b[0m\u001b[0;34m)\u001b[0m\u001b[0;34m(\u001b[0m\u001b[0;34m*\u001b[0m\u001b[0margs\u001b[0m\u001b[0;34m,\u001b[0m \u001b[0;34m**\u001b[0m\u001b[0mkwargs\u001b[0m\u001b[0;34m)\u001b[0m\u001b[0;34m\u001b[0m\u001b[0;34m\u001b[0m\u001b[0m\n\u001b[0;32m--> 105\u001b[0;31m         \u001b[0;32mreturn\u001b[0m \u001b[0mfunc\u001b[0m\u001b[0;34m(\u001b[0m\u001b[0;34m*\u001b[0m\u001b[0margs\u001b[0m\u001b[0;34m,\u001b[0m \u001b[0;34m**\u001b[0m\u001b[0mkwargs\u001b[0m\u001b[0;34m)\u001b[0m\u001b[0;34m\u001b[0m\u001b[0;34m\u001b[0m\u001b[0m\n\u001b[0m\u001b[1;32m    106\u001b[0m \u001b[0;34m\u001b[0m\u001b[0m\n\u001b[1;32m    107\u001b[0m     \u001b[0;32mreturn\u001b[0m \u001b[0mwrapper\u001b[0m\u001b[0;34m\u001b[0m\u001b[0;34m\u001b[0m\u001b[0m\n",
      "\u001b[0;32m/opt/conda/lib/python3.8/site-packages/ray/worker.py\u001b[0m in \u001b[0;36mwait\u001b[0;34m(object_refs, num_returns, timeout, fetch_local)\u001b[0m\n\u001b[1;32m   1991\u001b[0m         \u001b[0mtimeout\u001b[0m \u001b[0;34m=\u001b[0m \u001b[0mtimeout\u001b[0m \u001b[0;32mif\u001b[0m \u001b[0mtimeout\u001b[0m \u001b[0;32mis\u001b[0m \u001b[0;32mnot\u001b[0m \u001b[0;32mNone\u001b[0m \u001b[0;32melse\u001b[0m \u001b[0;36m10\u001b[0m \u001b[0;34m**\u001b[0m \u001b[0;36m6\u001b[0m\u001b[0;34m\u001b[0m\u001b[0;34m\u001b[0m\u001b[0m\n\u001b[1;32m   1992\u001b[0m         \u001b[0mtimeout_milliseconds\u001b[0m \u001b[0;34m=\u001b[0m \u001b[0mint\u001b[0m\u001b[0;34m(\u001b[0m\u001b[0mtimeout\u001b[0m \u001b[0;34m*\u001b[0m \u001b[0;36m1000\u001b[0m\u001b[0;34m)\u001b[0m\u001b[0;34m\u001b[0m\u001b[0;34m\u001b[0m\u001b[0m\n\u001b[0;32m-> 1993\u001b[0;31m         ready_ids, remaining_ids = worker.core_worker.wait(\n\u001b[0m\u001b[1;32m   1994\u001b[0m             \u001b[0mobject_refs\u001b[0m\u001b[0;34m,\u001b[0m\u001b[0;34m\u001b[0m\u001b[0;34m\u001b[0m\u001b[0m\n\u001b[1;32m   1995\u001b[0m             \u001b[0mnum_returns\u001b[0m\u001b[0;34m,\u001b[0m\u001b[0;34m\u001b[0m\u001b[0;34m\u001b[0m\u001b[0m\n",
      "\u001b[0;32mpython/ray/_raylet.pyx\u001b[0m in \u001b[0;36mray._raylet.CoreWorker.wait\u001b[0;34m()\u001b[0m\n",
      "\u001b[0;32mpython/ray/_raylet.pyx\u001b[0m in \u001b[0;36mray._raylet.check_status\u001b[0;34m()\u001b[0m\n",
      "\u001b[0;31mKeyboardInterrupt\u001b[0m: "
     ]
    },
    {
     "name": "stdout",
     "output_type": "stream",
     "text": [
      "\u001b[2m\u001b[36m(runner_tune pid=67440)\u001b[0m \u001b[32m2022-06-26 06:23:07.687\u001b[0m | \u001b[1mINFO    \u001b[0m | \u001b[36msrc.beam.model\u001b[0m:\u001b[36mstep\u001b[0m:\u001b[36m584\u001b[0m - \u001b[1mbr was changed to 0.9798078372723117\u001b[0m\n",
      "\u001b[2m\u001b[36m(runner_tune pid=67440)\u001b[0m \u001b[32m2022-06-26 06:23:07.687\u001b[0m | \u001b[1mINFO    \u001b[0m | \u001b[36msrc.beam.model\u001b[0m:\u001b[36mstep\u001b[0m:\u001b[36m585\u001b[0m - \u001b[1mlambda_llr was changed to 0.017812550184276018\u001b[0m\n",
      "\u001b[2m\u001b[36m(runner_tune pid=66237)\u001b[0m \u001b[32m2022-06-26 06:23:49.308\u001b[0m | \u001b[1mINFO    \u001b[0m | \u001b[36msrc.beam.model\u001b[0m:\u001b[36mstep\u001b[0m:\u001b[36m584\u001b[0m - \u001b[1mbr was changed to 0.9730077730625055\u001b[0m\n",
      "\u001b[2m\u001b[36m(runner_tune pid=66237)\u001b[0m \u001b[32m2022-06-26 06:23:49.308\u001b[0m | \u001b[1mINFO    \u001b[0m | \u001b[36msrc.beam.model\u001b[0m:\u001b[36mstep\u001b[0m:\u001b[36m585\u001b[0m - \u001b[1mlambda_llr was changed to 0.024606548212574783\u001b[0m\n"
     ]
    }
   ],
   "source": [
    "analysis = study.tune(config={\"lr_dense\": tune.loguniform(1e-4, 1e-2),\n",
    "                              \"lr_sparse\": tune.loguniform(1e-3, 1e-1),\n",
    "                              \"dropout\": tune.uniform(.0, .25),\n",
    "                              \"scheduler_factor\": tune.uniform(.1, .5),\n",
    "                              \"scheduler_patience\": tune.choice([12, 16, 20]),\n",
    "                              \"weight_decay\": tune.loguniform(1e-6, 1e-3),\n",
    "                              \"beta1\": tune.choice([.9, .95]),\n",
    "                              \"beta2\": tune.choice([.99, .999]),\n",
    "                              \"n_tables\": tune.choice([1, 5, 15]),\n",
    "                              \"n_quantiles\": tune.choice([4, 10, 20]),\n",
    "                              \"weight_factor\": tune.choice([.0, .25, .5]),\n",
    "                              \"label_smoothing\": tune.choice([.0, .1, .2]),\n",
    "                              \"channels\": tune.choice([64, 128, 256]),\n",
    "                              \"n_rules\": tune.choice([64, 128, 256]),\n",
    "                              \"n_layers\": tune.choice([1, 2]),\n",
    "                              \"activation\": tune.choice(['celu', 'gelu']),\n",
    "                              \"k_p\": tune.loguniform(.01, .1),\n",
    "                              \"k_i\": tune.loguniform(.001, .01),\n",
    "                              \"k_d\": tune.loguniform(.001, .01),\n",
    "                              \"initial_mask\": tune.uniform(.9, 1.),},\n",
    "                       metric=\"mean_accuracy\",\n",
    "                       max_concurrent_trials=2,\n",
    "                       resources_per_trial={\"gpu\": 1},\n",
    "                       mode=\"max\",\n",
    "                       search_alg=OptunaSearch(),\n",
    "                      progress_reporter=JupyterNotebookReporter(overwrite=True),\n",
    "                       num_samples=1000)"
   ]
  },
  {
   "cell_type": "code",
   "execution_count": null,
   "id": "5475b4cf-eb78-4d93-bc38-b3e5fc7ca811",
   "metadata": {},
   "outputs": [],
   "source": []
  }
 ],
 "metadata": {
  "kernelspec": {
   "display_name": "Python 3 (ipykernel)",
   "language": "python",
   "name": "python3"
  },
  "language_info": {
   "codemirror_mode": {
    "name": "ipython",
    "version": 3
   },
   "file_extension": ".py",
   "mimetype": "text/x-python",
   "name": "python",
   "nbconvert_exporter": "python",
   "pygments_lexer": "ipython3",
   "version": "3.8.12"
  }
 },
 "nbformat": 4,
 "nbformat_minor": 5
}
