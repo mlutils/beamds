{
 "cells": [
  {
   "cell_type": "code",
   "execution_count": 1,
   "id": "2f5812e0-b80e-40d4-b1c5-a2f92f7d0f1c",
   "metadata": {},
   "outputs": [],
   "source": [
    "%load_ext autoreload\n",
    "%autoreload 2\n",
    "\n",
    "import torch\n",
    "import torchvision\n",
    "import torch.nn.functional as F\n",
    "from torch import nn\n",
    "from sklearn.metrics import precision_recall_fscore_support\n",
    "import numpy as np\n",
    "\n",
    "# manage ray's relative imports\n",
    "# import ray\n",
    "# runtime_env = {\"working_dir\": \"..\" }\n",
    "# ray.init(runtime_env=runtime_env, dashboard_port=13065, include_dashboard=True)\n",
    "\n",
    "from ray import tune\n",
    "from ray.tune.suggest.optuna import OptunaSearch\n",
    "from ray.tune import JupyterNotebookReporter\n",
    "\n",
    "# manage beams's relative imports\n",
    "import sys\n",
    "sys.path.append('..')\n",
    "\n",
    "from src.beam import beam_arguments, Experiment, Study\n",
    "from src.beam import UniversalDataset, UniversalBatchSampler, PackedFolds\n",
    "from src.beam import Algorithm\n",
    "from src.beam import LinearNet, check_type, slice_to_index\n",
    "from torchvision import transforms\n",
    "import matplotlib.pyplot as plt\n",
    "\n",
    "from src.beam import DataTensor\n",
    "from src.beam.utils import is_notebook\n",
    "\n",
    "from sklearn.datasets import fetch_covtype\n",
    "import pandas as pd"
   ]
  },
  {
   "cell_type": "code",
   "execution_count": 2,
   "id": "2e64415d-aad1-4e5e-844c-ce8a54f58dc8",
   "metadata": {},
   "outputs": [],
   "source": [
    "dataset = fetch_covtype()"
   ]
  },
  {
   "cell_type": "code",
   "execution_count": 3,
   "id": "77fcea4b-2ad2-48fb-9b35-54a0ea0c49d3",
   "metadata": {},
   "outputs": [],
   "source": [
    "data = dataset['data']\n",
    "columns = dataset['feature_names']"
   ]
  },
  {
   "cell_type": "code",
   "execution_count": 4,
   "id": "0c4e1da5-b991-4a23-8efb-727a1a73146a",
   "metadata": {},
   "outputs": [],
   "source": [
    "df = pd.DataFrame(data=data, columns=columns, index=10 * np.arange(len(data)))"
   ]
  },
  {
   "cell_type": "code",
   "execution_count": 5,
   "id": "4363748e-27f1-4c9f-940e-2d2907347a0c",
   "metadata": {},
   "outputs": [],
   "source": [
    "# dt = DataTensor(df)\n",
    "dt = DataTensor(data=data, columns=columns)"
   ]
  },
  {
   "cell_type": "code",
   "execution_count": 9,
   "id": "7f83e433-7626-404c-9473-998a6b6272b5",
   "metadata": {},
   "outputs": [
    {
     "data": {
      "text/plain": [
       "        Aspect  Elevation\n",
       "0         51.0     2596.0\n",
       "2        139.0     2804.0\n",
       "4         45.0     2595.0\n",
       "6         45.0     2606.0\n",
       "8         45.0     2617.0\n",
       "...        ...        ...\n",
       "290496     0.0     2922.0\n",
       "290498   282.0     2935.0\n",
       "290500   324.0     2938.0\n",
       "290502    41.0     2938.0\n",
       "290504    64.0     2932.0\n",
       "\n",
       "[145253 rows x 2 columns]\n",
       "\n",
       "DataTensor:\n",
       "device:\t\tcpu\n",
       "requires_grad:\tFalse"
      ]
     },
     "execution_count": 9,
     "metadata": {},
     "output_type": "execute_result"
    }
   ],
   "source": [
    "dt[['Aspect', 'Elevation']].loc[::2].loc[::2]"
   ]
  },
  {
   "cell_type": "code",
   "execution_count": 15,
   "id": "ec63a161-2503-4766-819e-628abb7a3e91",
   "metadata": {},
   "outputs": [
    {
     "data": {
      "text/plain": [
       "tensor([ 51.,  56., 139.,  ..., 159., 170., 165.], dtype=torch.float64)"
      ]
     },
     "execution_count": 15,
     "metadata": {},
     "output_type": "execute_result"
    }
   ],
   "source": [
    "dt['Aspect'].values"
   ]
  },
  {
   "cell_type": "code",
   "execution_count": 72,
   "id": "1cdc156d-8c55-41b0-9e22-277b50d81d6b",
   "metadata": {},
   "outputs": [],
   "source": [
    "universal_dataset = UniversalDataset(x=dt.values, y=dataset['target'])"
   ]
  },
  {
   "cell_type": "code",
   "execution_count": 76,
   "id": "2f90d9ce-8d71-4068-b0a7-56045f45d7f6",
   "metadata": {},
   "outputs": [],
   "source": [
    "universal_dataset = UniversalDataset(dt.values, dataset['target'])"
   ]
  },
  {
   "cell_type": "code",
   "execution_count": 5,
   "id": "e09984b0-8cbb-4f9e-8e22-56ec3535baff",
   "metadata": {},
   "outputs": [],
   "source": [
    "# data_test = torch.LongTensor(dataset['data'][:100000])\n",
    "# data_train = torch.LongTensor(dataset['data'][100000:])\n",
    "\n",
    "data_org = dataset['data'][:100000]\n",
    "data_expand = dataset['data'][100000:]"
   ]
  },
  {
   "cell_type": "code",
   "execution_count": 6,
   "id": "0b26419e-529f-4b4b-9288-7deec427cbc0",
   "metadata": {},
   "outputs": [],
   "source": [
    "extra = np.random.randn(*data_expand.shape)"
   ]
  },
  {
   "cell_type": "code",
   "execution_count": 7,
   "id": "d8f39e33-88fe-4335-9876-b43e3b4edbe6",
   "metadata": {},
   "outputs": [],
   "source": [
    "data_expand = np.concatenate([data_expand, extra], axis=1)"
   ]
  },
  {
   "cell_type": "code",
   "execution_count": 10,
   "id": "8f65a453-878b-4333-a167-cb573e6292a5",
   "metadata": {},
   "outputs": [],
   "source": [
    "pf = PackedFolds({'basic': data_org, 'extra': data_expand}, quick_getitem=False)"
   ]
  },
  {
   "cell_type": "code",
   "execution_count": 11,
   "id": "9759aa83-cb78-4c2c-b349-5e4ff58e1c11",
   "metadata": {},
   "outputs": [],
   "source": [
    "pf2 = pf[99998:100002]"
   ]
  },
  {
   "cell_type": "code",
   "execution_count": 12,
   "id": "9ac35913-fc3b-4701-ad4d-e42c8fe7d285",
   "metadata": {},
   "outputs": [],
   "source": [
    "extra = pf.get_fold('extra')"
   ]
  },
  {
   "cell_type": "code",
   "execution_count": 11,
   "id": "3ea14033-0d28-49b6-8e73-ad1bf6aac1b1",
   "metadata": {},
   "outputs": [],
   "source": [
    "info = extra.info"
   ]
  },
  {
   "cell_type": "code",
   "execution_count": null,
   "id": "63950cd8-82b7-4196-af00-dad49716b8ac",
   "metadata": {},
   "outputs": [],
   "source": [
    "ind_index = info.inverse_map(info.index)"
   ]
  },
  {
   "cell_type": "code",
   "execution_count": 14,
   "id": "d702bdea-ddef-4fbd-8441-eafe851f1a29",
   "metadata": {},
   "outputs": [
    {
     "data": {
      "text/plain": [
       "tensor([100000, 100001, 100002,  ..., 581009, 581010, 581011])"
      ]
     },
     "execution_count": 14,
     "metadata": {},
     "output_type": "execute_result"
    }
   ],
   "source": [
    "slice_to_index(slice(None), l=len(info.index), sliced=info.index)"
   ]
  },
  {
   "cell_type": "code",
   "execution_count": 13,
   "id": "9395582b-de55-43ed-96be-3cb657dbefd1",
   "metadata": {},
   "outputs": [
    {
     "data": {
      "text/plain": [
       "        fold  fold_index  offset\n",
       "100000     0           0       0\n",
       "100001     0           1       1\n",
       "100002     0           2       2\n",
       "100003     0           3       3\n",
       "100004     0           4       4\n",
       "...      ...         ...     ...\n",
       "581007     0      481007  481007\n",
       "581008     0      481008  481008\n",
       "581009     0      481009  481009\n",
       "581010     0      481010  481010\n",
       "581011     0      481011  481011\n",
       "\n",
       "[481012 rows x 3 columns]\n",
       "\n",
       "DataTensor:\n",
       "device:\t\tcpu\n",
       "requires_grad:\tFalse"
      ]
     },
     "execution_count": 13,
     "metadata": {},
     "output_type": "execute_result"
    }
   ],
   "source": [
    "extra.info.loc[:]"
   ]
  },
  {
   "cell_type": "code",
   "execution_count": null,
   "id": "82ad7b18-53f2-4578-b0c7-a29230137716",
   "metadata": {},
   "outputs": [],
   "source": [
    "x = extra[:, :54]"
   ]
  },
  {
   "cell_type": "code",
   "execution_count": 35,
   "id": "466ff5f9-f172-44c5-bf1b-588fd0298515",
   "metadata": {},
   "outputs": [
    {
     "data": {
      "text/plain": [
       "'offset'"
      ]
     },
     "execution_count": 35,
     "metadata": {},
     "output_type": "execute_result"
    }
   ],
   "source": [
    "extra.sampling_method"
   ]
  },
  {
   "cell_type": "code",
   "execution_count": 165,
   "id": "69a70199-48db-4dc5-aeb5-6e00b3483c82",
   "metadata": {},
   "outputs": [
    {
     "data": {
      "text/plain": [
       "tensor([], dtype=torch.int64)"
      ]
     },
     "execution_count": 165,
     "metadata": {},
     "output_type": "execute_result"
    }
   ],
   "source": [
    "extra.info.inverse_map(index)"
   ]
  },
  {
   "cell_type": "code",
   "execution_count": 166,
   "id": "c3ce89bc-5bfe-4815-8e97-a9b02060b5fd",
   "metadata": {},
   "outputs": [
    {
     "data": {
      "text/plain": [
       "'sparse'"
      ]
     },
     "execution_count": 166,
     "metadata": {},
     "output_type": "execute_result"
    }
   ],
   "source": [
    "extra.info.mapping_method"
   ]
  },
  {
   "cell_type": "code",
   "execution_count": 13,
   "id": "03cf43e4-534f-4251-9d9a-b97c84a0e189",
   "metadata": {},
   "outputs": [
    {
     "data": {
      "text/plain": [
       "'sparse'"
      ]
     },
     "execution_count": 13,
     "metadata": {},
     "output_type": "execute_result"
    }
   ],
   "source": [
    "extra.info.mapping_method"
   ]
  },
  {
   "cell_type": "code",
   "execution_count": 14,
   "id": "c48a0f72-1c21-4472-890c-d085ae061c48",
   "metadata": {},
   "outputs": [],
   "source": [
    "info = extra.info"
   ]
  },
  {
   "cell_type": "code",
   "execution_count": 15,
   "id": "8da777f8-2af3-4b58-83f2-378de5417476",
   "metadata": {},
   "outputs": [
    {
     "data": {
      "text/plain": [
       "tensor(indices=tensor([[100000, 100001, 100002,  ..., 581009, 581010, 581011],\n",
       "                       [     0,      0,      0,  ...,      0,      0,      0]]),\n",
       "       values=tensor([     0,      1,      2,  ..., 481009, 481010, 481011]),\n",
       "       size=(581012, 1), nnz=481012, layout=torch.sparse_coo)"
      ]
     },
     "execution_count": 15,
     "metadata": {},
     "output_type": "execute_result"
    }
   ],
   "source": [
    "info.index_map"
   ]
  },
  {
   "cell_type": "code",
   "execution_count": 17,
   "id": "ddf8fc1c-919d-478b-93d2-dad247c07a62",
   "metadata": {},
   "outputs": [
    {
     "data": {
      "text/plain": [
       "tensor([     1,      2, 481009, 481010])"
      ]
     },
     "execution_count": 17,
     "metadata": {},
     "output_type": "execute_result"
    }
   ],
   "source": [
    "torch.index_select(info.index_map, 0, torch.LongTensor([100001, 100002,  581009, 581010])).coalesce().values()"
   ]
  },
  {
   "cell_type": "code",
   "execution_count": 35,
   "id": "237335ab-30b4-4702-a3d7-98a52d92748a",
   "metadata": {},
   "outputs": [],
   "source": [
    "s = pd.Series(index=info.index.cpu().numpy(), data=np.arange(len(info.index)))"
   ]
  },
  {
   "cell_type": "code",
   "execution_count": 37,
   "id": "7c38fa17-39c2-44bd-966e-cb6f79a37c70",
   "metadata": {},
   "outputs": [
    {
     "data": {
      "text/plain": [
       "100000         0\n",
       "100002         2\n",
       "100004         4\n",
       "100006         6\n",
       "100008         8\n",
       "           ...  \n",
       "581002    481002\n",
       "581004    481004\n",
       "581006    481006\n",
       "581008    481008\n",
       "581010    481010\n",
       "Length: 240506, dtype: int64"
      ]
     },
     "execution_count": 37,
     "metadata": {},
     "output_type": "execute_result"
    }
   ],
   "source": [
    "s[info.index.cpu().numpy()[::2]]"
   ]
  },
  {
   "cell_type": "code",
   "execution_count": 25,
   "id": "c3cc7a25-ccb9-4f9a-ac55-d7119103563b",
   "metadata": {},
   "outputs": [
    {
     "data": {
      "text/plain": [
       "tensor(indices=tensor([[   0,    1,    2,  ..., 9997, 9998, 9999],\n",
       "                       [   0,    0,    0,  ...,    0,    0,    0]]),\n",
       "       values=tensor([   0,    1,    2,  ..., 9997, 9998, 9999]),\n",
       "       size=(10000, 1), nnz=10000, layout=torch.sparse_coo)"
      ]
     },
     "execution_count": 25,
     "metadata": {},
     "output_type": "execute_result"
    }
   ],
   "source": [
    "torch.index_select(info.index_map, 0, info.index[:10000])"
   ]
  },
  {
   "cell_type": "code",
   "execution_count": 25,
   "id": "cbda714a-db2f-44e7-a69f-e41e035b1355",
   "metadata": {},
   "outputs": [
    {
     "data": {
      "text/plain": [
       "        fold  fold_index  offset\n",
       "100000     0           0       0\n",
       "100001     0           1       1\n",
       "\n",
       "DataTensor:\n",
       "device:\t\tcpu\n",
       "requires_grad:\tFalse"
      ]
     },
     "execution_count": 25,
     "metadata": {},
     "output_type": "execute_result"
    }
   ],
   "source": [
    "pf2.get_fold('extra').info.loc[:]"
   ]
  },
  {
   "cell_type": "code",
   "execution_count": 28,
   "id": "4283fdfb-ab6b-4b7d-bc64-29a8e0e0b3e2",
   "metadata": {},
   "outputs": [],
   "source": [
    "pfe = pf.get_fold('extra')"
   ]
  },
  {
   "cell_type": "code",
   "execution_count": 30,
   "id": "7e339fe0-59ca-465f-a9b7-7914bf0e0548",
   "metadata": {},
   "outputs": [
    {
     "data": {
      "text/plain": [
       "'folds'"
      ]
     },
     "execution_count": 30,
     "metadata": {},
     "output_type": "execute_result"
    }
   ],
   "source": [
    "pfe.sampling_method"
   ]
  },
  {
   "cell_type": "code",
   "execution_count": 14,
   "id": "f66a2a2d-b434-46de-a29d-0f39e1498234",
   "metadata": {},
   "outputs": [],
   "source": [
    "f = lambda x: x[:, :54].values"
   ]
  },
  {
   "cell_type": "code",
   "execution_count": 13,
   "id": "9c381716-c9c5-4b43-86ad-d5966e15dfae",
   "metadata": {},
   "outputs": [
    {
     "data": {
      "text/plain": [
       "tensor([[2.5960e+03, 5.1000e+01, 3.0000e+00,  ..., 0.0000e+00, 0.0000e+00,\n",
       "         0.0000e+00],\n",
       "        [2.5900e+03, 5.6000e+01, 2.0000e+00,  ..., 0.0000e+00, 0.0000e+00,\n",
       "         0.0000e+00],\n",
       "        [2.8040e+03, 1.3900e+02, 9.0000e+00,  ..., 0.0000e+00, 0.0000e+00,\n",
       "         0.0000e+00],\n",
       "        ...,\n",
       "        [3.0830e+03, 4.5000e+01, 1.8000e+01,  ..., 0.0000e+00, 0.0000e+00,\n",
       "         0.0000e+00],\n",
       "        [3.0770e+03, 4.1000e+01, 1.5000e+01,  ..., 0.0000e+00, 0.0000e+00,\n",
       "         0.0000e+00],\n",
       "        [3.0730e+03, 5.0000e+01, 1.2000e+01,  ..., 0.0000e+00, 0.0000e+00,\n",
       "         0.0000e+00]], dtype=torch.float64)"
      ]
     },
     "execution_count": 13,
     "metadata": {},
     "output_type": "execute_result"
    }
   ],
   "source": [
    "pf.get_fold('basic').values"
   ]
  },
  {
   "cell_type": "code",
   "execution_count": null,
   "id": "54fe9286-4618-4ee7-bf89-820a4f462444",
   "metadata": {},
   "outputs": [
    {
     "name": "stdout",
     "output_type": "stream",
     "text": [
      "(slice(None, None, None), slice(None, 54, None))\n"
     ]
    }
   ],
   "source": [
    "y = f(pf.get_fold('extra'))"
   ]
  },
  {
   "cell_type": "code",
   "execution_count": 14,
   "id": "a2f7b5b2-0732-49c9-befe-1fc57560c210",
   "metadata": {},
   "outputs": [],
   "source": [
    "pfa = pf.apply({'basic': lambda x: x.values, 'extra': lambda x: x[:, :54].values})"
   ]
  },
  {
   "cell_type": "code",
   "execution_count": 15,
   "id": "5cc455f8-b759-4b7e-bf59-a792540651d5",
   "metadata": {},
   "outputs": [
    {
     "data": {
      "text/plain": [
       "{'basic': tensor([2.5960e+03, 5.1000e+01, 3.0000e+00, 2.5800e+02, 0.0000e+00, 5.1000e+02,\n",
       "        2.2100e+02, 2.3200e+02, 1.4800e+02, 6.2790e+03, 1.0000e+00, 0.0000e+00,\n",
       "        0.0000e+00, 0.0000e+00, 0.0000e+00, 0.0000e+00, 0.0000e+00, 0.0000e+00,\n",
       "        0.0000e+00, 0.0000e+00, 0.0000e+00, 0.0000e+00, 0.0000e+00, 0.0000e+00,\n",
       "        0.0000e+00, 0.0000e+00, 0.0000e+00, 0.0000e+00, 0.0000e+00, 0.0000e+00,\n",
       "        0.0000e+00, 0.0000e+00, 0.0000e+00, 0.0000e+00, 0.0000e+00, 0.0000e+00,\n",
       "        0.0000e+00, 0.0000e+00, 0.0000e+00, 0.0000e+00, 0.0000e+00, 0.0000e+00,\n",
       "        1.0000e+00, 0.0000e+00, 0.0000e+00, 0.0000e+00, 0.0000e+00, 0.0000e+00,\n",
       "        0.0000e+00, 0.0000e+00, 0.0000e+00, 0.0000e+00, 0.0000e+00, 0.0000e+00],\n",
       "       dtype=torch.float64), 'extra': tensor([ 2.5900e+03,  5.6000e+01,  2.0000e+00,  2.1200e+02, -6.0000e+00,\n",
       "         3.9000e+02,  2.2000e+02,  2.3500e+02,  1.5100e+02,  6.2250e+03,\n",
       "         1.0000e+00,  0.0000e+00,  0.0000e+00,  0.0000e+00,  0.0000e+00,\n",
       "         0.0000e+00,  0.0000e+00,  0.0000e+00,  0.0000e+00,  0.0000e+00,\n",
       "         0.0000e+00,  0.0000e+00,  0.0000e+00,  0.0000e+00,  0.0000e+00,\n",
       "         0.0000e+00,  0.0000e+00,  0.0000e+00,  0.0000e+00,  0.0000e+00,\n",
       "         0.0000e+00,  0.0000e+00,  0.0000e+00,  0.0000e+00,  0.0000e+00,\n",
       "         0.0000e+00,  0.0000e+00,  0.0000e+00,  0.0000e+00,  0.0000e+00,\n",
       "         0.0000e+00,  0.0000e+00,  1.0000e+00,  0.0000e+00,  0.0000e+00,\n",
       "         0.0000e+00,  0.0000e+00,  0.0000e+00,  0.0000e+00,  0.0000e+00,\n",
       "         0.0000e+00,  0.0000e+00,  0.0000e+00,  0.0000e+00],\n",
       "       dtype=torch.float64)}"
      ]
     },
     "execution_count": 15,
     "metadata": {},
     "output_type": "execute_result"
    }
   ],
   "source": [
    "pfa"
   ]
  },
  {
   "cell_type": "code",
   "execution_count": 59,
   "id": "9b77f68b-6f30-4ce7-8954-fa5f51bc291f",
   "metadata": {},
   "outputs": [
    {
     "data": {
      "text/plain": [
       "torch.Size([2, 54])"
      ]
     },
     "execution_count": 59,
     "metadata": {},
     "output_type": "execute_result"
    }
   ],
   "source": [
    "pfa['basic'].values.shape"
   ]
  },
  {
   "cell_type": "code",
   "execution_count": 58,
   "id": "ef301076-5f13-47a2-9728-49842e32ee81",
   "metadata": {},
   "outputs": [
    {
     "data": {
      "text/plain": [
       "torch.Size([2, 54])"
      ]
     },
     "execution_count": 58,
     "metadata": {},
     "output_type": "execute_result"
    }
   ],
   "source": [
    "pfa['extra'].values.shape"
   ]
  },
  {
   "cell_type": "code",
   "execution_count": 11,
   "id": "b372c7ca-3ad0-4c1b-9428-40f1de8b3358",
   "metadata": {},
   "outputs": [],
   "source": [
    "from src.beam import slice_to_index"
   ]
  },
  {
   "cell_type": "code",
   "execution_count": 17,
   "id": "24d0713f-811b-452b-ba96-3c8a2f088ea7",
   "metadata": {},
   "outputs": [
    {
     "data": {
      "text/plain": [
       "array([99, 98, 97, 96, 95, 94, 93, 92, 91])"
      ]
     },
     "execution_count": 17,
     "metadata": {},
     "output_type": "execute_result"
    }
   ],
   "source": [
    "np.arange(100)[:-10:-1]"
   ]
  },
  {
   "cell_type": "code",
   "execution_count": 18,
   "id": "05879cff-cacc-47d5-995d-4ad2f8922d2a",
   "metadata": {},
   "outputs": [
    {
     "name": "stdout",
     "output_type": "stream",
     "text": [
      "(99, 90, -1)\n"
     ]
    },
    {
     "data": {
      "text/plain": [
       "tensor([99, 98, 97, 96, 95, 94, 93, 92, 91])"
      ]
     },
     "execution_count": 18,
     "metadata": {},
     "output_type": "execute_result"
    }
   ],
   "source": [
    "slice_to_index(slice(None, -10, -1), l=100)"
   ]
  },
  {
   "cell_type": "code",
   "execution_count": 125,
   "id": "8a0d083e-38b9-4477-914a-72959a4025c0",
   "metadata": {},
   "outputs": [
    {
     "data": {
      "text/plain": [
       "torch.Size([1, 2, 3])"
      ]
     },
     "execution_count": 125,
     "metadata": {},
     "output_type": "execute_result"
    }
   ],
   "source": [
    "torch.randn(*(*(1, 2, 3), *())).shape"
   ]
  },
  {
   "cell_type": "code",
   "execution_count": null,
   "id": "b6b970b0-6019-4da6-9e0b-201b09c19127",
   "metadata": {},
   "outputs": [],
   "source": []
  },
  {
   "cell_type": "code",
   "execution_count": 41,
   "id": "8ecd4622-ff8a-4042-af73-8e58a87df9c8",
   "metadata": {},
   "outputs": [],
   "source": [
    "x = np.arange(100)"
   ]
  },
  {
   "cell_type": "code",
   "execution_count": 45,
   "id": "442206a4-653f-4d0f-9dd8-48339bb70e50",
   "metadata": {},
   "outputs": [
    {
     "name": "stdout",
     "output_type": "stream",
     "text": [
      "(100, 90, -1)\n"
     ]
    },
    {
     "data": {
      "text/plain": [
       "tensor([100,  99,  98,  97,  96,  95,  94,  93,  92,  91])"
      ]
     },
     "execution_count": 45,
     "metadata": {},
     "output_type": "execute_result"
    }
   ],
   "source": [
    "slice_to_array(slice(-10, None, -1), l=100)"
   ]
  },
  {
   "cell_type": "code",
   "execution_count": 47,
   "id": "5bbd4c56-05e7-403a-894f-eb73e18eca47",
   "metadata": {},
   "outputs": [
    {
     "data": {
      "text/plain": [
       "array([99, 98, 97, 96, 95, 94, 93, 92, 91])"
      ]
     },
     "execution_count": 47,
     "metadata": {},
     "output_type": "execute_result"
    }
   ],
   "source": [
    "x[:-10:-1]"
   ]
  },
  {
   "cell_type": "code",
   "execution_count": 32,
   "id": "47cc7224-990f-4d58-b3c6-b854861b4f1d",
   "metadata": {},
   "outputs": [
    {
     "data": {
      "text/plain": [
       "array([90, 89, 88, 87, 86, 85, 84, 83, 82, 81, 80, 79, 78, 77, 76, 75, 74,\n",
       "       73, 72, 71, 70, 69, 68, 67, 66, 65, 64, 63, 62, 61, 60, 59, 58, 57,\n",
       "       56, 55, 54, 53, 52, 51, 50, 49, 48, 47, 46, 45, 44, 43, 42, 41, 40,\n",
       "       39, 38, 37, 36, 35, 34, 33, 32, 31, 30, 29, 28, 27, 26, 25, 24, 23,\n",
       "       22, 21, 20, 19, 18, 17, 16, 15, 14, 13, 12, 11, 10,  9,  8,  7,  6,\n",
       "        5,  4,  3,  2,  1])"
      ]
     },
     "execution_count": 32,
     "metadata": {},
     "output_type": "execute_result"
    }
   ],
   "source": [
    "np.arange(90, 0, -1)"
   ]
  },
  {
   "cell_type": "code",
   "execution_count": 92,
   "id": "c0b52904-1d00-44e0-b98a-3a3fe9783931",
   "metadata": {},
   "outputs": [
    {
     "data": {
      "text/plain": [
       "{'basic': tensor([[3.0770e+03, 4.1000e+01, 1.5000e+01, 3.0900e+02, 4.3000e+01, 3.8890e+03,\n",
       "         2.2100e+02, 2.0500e+02, 1.1600e+02, 4.2140e+03, 1.0000e+00, 0.0000e+00,\n",
       "         0.0000e+00, 0.0000e+00, 0.0000e+00, 0.0000e+00, 0.0000e+00, 0.0000e+00,\n",
       "         0.0000e+00, 0.0000e+00, 0.0000e+00, 0.0000e+00, 0.0000e+00, 0.0000e+00,\n",
       "         0.0000e+00, 0.0000e+00, 0.0000e+00, 0.0000e+00, 0.0000e+00, 0.0000e+00,\n",
       "         0.0000e+00, 0.0000e+00, 0.0000e+00, 0.0000e+00, 0.0000e+00, 0.0000e+00,\n",
       "         0.0000e+00, 0.0000e+00, 0.0000e+00, 0.0000e+00, 0.0000e+00, 0.0000e+00,\n",
       "         1.0000e+00, 0.0000e+00, 0.0000e+00, 0.0000e+00, 0.0000e+00, 0.0000e+00,\n",
       "         0.0000e+00, 0.0000e+00, 0.0000e+00, 0.0000e+00, 0.0000e+00, 0.0000e+00],\n",
       "        [3.0730e+03, 5.0000e+01, 1.2000e+01, 2.8300e+02, 5.2000e+01, 3.9130e+03,\n",
       "         2.2500e+02, 2.1400e+02, 1.2100e+02, 4.1870e+03, 1.0000e+00, 0.0000e+00,\n",
       "         0.0000e+00, 0.0000e+00, 0.0000e+00, 0.0000e+00, 0.0000e+00, 0.0000e+00,\n",
       "         0.0000e+00, 0.0000e+00, 0.0000e+00, 0.0000e+00, 0.0000e+00, 0.0000e+00,\n",
       "         0.0000e+00, 0.0000e+00, 0.0000e+00, 0.0000e+00, 0.0000e+00, 0.0000e+00,\n",
       "         0.0000e+00, 0.0000e+00, 0.0000e+00, 0.0000e+00, 0.0000e+00, 0.0000e+00,\n",
       "         0.0000e+00, 0.0000e+00, 0.0000e+00, 0.0000e+00, 0.0000e+00, 0.0000e+00,\n",
       "         1.0000e+00, 0.0000e+00, 0.0000e+00, 0.0000e+00, 0.0000e+00, 0.0000e+00,\n",
       "         0.0000e+00, 0.0000e+00, 0.0000e+00, 0.0000e+00, 0.0000e+00, 0.0000e+00]],\n",
       "       dtype=torch.float64), 'extra': tensor([[ 3.0670e+03,  6.1000e+01,  1.2000e+01,  2.5600e+02,  4.6000e+01,\n",
       "          3.9370e+03,  2.3000e+02,  2.1400e+02,  1.1500e+02,  4.1600e+03,\n",
       "          1.0000e+00,  0.0000e+00,  0.0000e+00,  0.0000e+00,  0.0000e+00,\n",
       "          0.0000e+00,  0.0000e+00,  0.0000e+00,  0.0000e+00,  0.0000e+00,\n",
       "          0.0000e+00,  0.0000e+00,  0.0000e+00,  0.0000e+00,  0.0000e+00,\n",
       "          0.0000e+00,  0.0000e+00,  0.0000e+00,  0.0000e+00,  0.0000e+00,\n",
       "          0.0000e+00,  0.0000e+00,  0.0000e+00,  0.0000e+00,  0.0000e+00,\n",
       "          0.0000e+00,  0.0000e+00,  0.0000e+00,  0.0000e+00,  0.0000e+00,\n",
       "          0.0000e+00,  0.0000e+00,  1.0000e+00,  0.0000e+00,  0.0000e+00,\n",
       "          0.0000e+00,  0.0000e+00,  0.0000e+00,  0.0000e+00,  0.0000e+00,\n",
       "          0.0000e+00,  0.0000e+00,  0.0000e+00,  0.0000e+00, -5.9477e-01,\n",
       "         -2.8016e-01,  3.8491e-01,  2.4055e-01, -1.6049e+00,  1.0225e+00,\n",
       "          3.1698e-01,  4.2349e-01,  1.1694e+00, -1.9443e+00, -2.8686e-01,\n",
       "         -3.8887e-01,  1.7751e-01, -9.7496e-01, -1.4025e+00,  3.7820e-02,\n",
       "         -9.3355e-01, -2.2353e-01,  9.2731e-01,  1.5402e-01,  2.2762e+00,\n",
       "         -1.0823e-01, -1.4205e+00,  7.4242e-01,  1.5387e+00, -4.7113e-01,\n",
       "         -1.4732e+00, -6.7200e-01, -1.1862e+00, -8.4408e-01,  2.0315e+00,\n",
       "         -1.9307e-01,  5.9951e-01,  1.8569e+00,  4.4252e-01,  1.7178e-01,\n",
       "          3.8377e-01, -3.5910e-01, -1.2338e+00,  2.3158e-01, -4.9500e-02,\n",
       "          1.0883e+00, -5.2330e-01,  1.0821e+00,  6.1119e-01, -2.6316e-01,\n",
       "          5.0320e-01,  8.8963e-01,  5.9633e-01,  1.7456e+00, -4.0467e-01,\n",
       "         -1.5064e+00, -1.4540e-01,  1.3075e+00],\n",
       "        [ 3.0600e+03,  6.3000e+01,  1.4000e+01,  2.2800e+02,  3.9000e+01,\n",
       "          3.9620e+03,  2.3200e+02,  2.1100e+02,  1.0800e+02,  4.1330e+03,\n",
       "          1.0000e+00,  0.0000e+00,  0.0000e+00,  0.0000e+00,  0.0000e+00,\n",
       "          0.0000e+00,  0.0000e+00,  0.0000e+00,  0.0000e+00,  0.0000e+00,\n",
       "          0.0000e+00,  0.0000e+00,  0.0000e+00,  0.0000e+00,  0.0000e+00,\n",
       "          0.0000e+00,  0.0000e+00,  0.0000e+00,  0.0000e+00,  0.0000e+00,\n",
       "          0.0000e+00,  0.0000e+00,  0.0000e+00,  0.0000e+00,  0.0000e+00,\n",
       "          0.0000e+00,  0.0000e+00,  0.0000e+00,  0.0000e+00,  0.0000e+00,\n",
       "          0.0000e+00,  0.0000e+00,  1.0000e+00,  0.0000e+00,  0.0000e+00,\n",
       "          0.0000e+00,  0.0000e+00,  0.0000e+00,  0.0000e+00,  0.0000e+00,\n",
       "          0.0000e+00,  0.0000e+00,  0.0000e+00,  0.0000e+00,  7.7765e-01,\n",
       "          3.1624e-01,  1.0133e-01,  4.8750e-01,  4.1635e-01, -1.7494e+00,\n",
       "         -1.8137e+00, -7.1103e-01,  3.6002e-01,  1.3865e+00, -3.1150e-01,\n",
       "          2.9751e-01,  9.4339e-01,  9.7882e-02, -9.8001e-01, -3.8365e-01,\n",
       "         -3.2862e-01,  4.2687e-01, -1.2715e+00,  2.0607e+00, -9.1313e-01,\n",
       "          7.3577e-02, -6.3148e-01, -1.3860e-01, -1.1267e+00,  2.3912e-01,\n",
       "         -3.5796e-01, -1.7391e+00,  1.4662e+00, -5.5570e-01,  1.7636e+00,\n",
       "          4.1487e-01,  1.4112e-01,  2.7619e+00,  2.8151e-01,  1.5110e+00,\n",
       "         -1.8045e-01,  1.3273e+00,  1.5625e+00, -6.2599e-01,  3.5454e-01,\n",
       "          1.9527e+00, -8.2490e-01,  2.8533e-02,  9.3862e-01, -5.9374e-01,\n",
       "          1.0275e+00,  1.9738e-01, -2.4115e-01,  2.5416e+00, -2.7395e-01,\n",
       "          2.0645e-01,  5.9462e-01, -9.8739e-02]], dtype=torch.float64)}"
      ]
     },
     "execution_count": 92,
     "metadata": {},
     "output_type": "execute_result"
    }
   ],
   "source": [
    "pf[99998:100002]"
   ]
  },
  {
   "cell_type": "code",
   "execution_count": 26,
   "id": "cbe37db2-cd2c-4805-abbd-164dccc886bc",
   "metadata": {},
   "outputs": [
    {
     "ename": "ValueError",
     "evalue": "The truth value of an array with more than one element is ambiguous. Use a.any() or a.all()",
     "output_type": "error",
     "traceback": [
      "\u001b[0;31m---------------------------------------------------------------------------\u001b[0m",
      "\u001b[0;31mValueError\u001b[0m                                Traceback (most recent call last)",
      "\u001b[0;32m/tmp/ipykernel_14509/3507341777.py\u001b[0m in \u001b[0;36m<cell line: 1>\u001b[0;34m()\u001b[0m\n\u001b[0;32m----> 1\u001b[0;31m \u001b[0mcheck_type\u001b[0m\u001b[0;34m(\u001b[0m\u001b[0;34m{\u001b[0m\u001b[0;34m'a'\u001b[0m\u001b[0;34m:\u001b[0m \u001b[0mnp\u001b[0m\u001b[0;34m.\u001b[0m\u001b[0mrandom\u001b[0m\u001b[0;34m.\u001b[0m\u001b[0mrandn\u001b[0m\u001b[0;34m(\u001b[0m\u001b[0;36m100\u001b[0m\u001b[0;34m)\u001b[0m\u001b[0;34m,\u001b[0m \u001b[0;34m'b'\u001b[0m\u001b[0;34m:\u001b[0m \u001b[0mnp\u001b[0m\u001b[0;34m.\u001b[0m\u001b[0mrandom\u001b[0m\u001b[0;34m.\u001b[0m\u001b[0mrandn\u001b[0m\u001b[0;34m(\u001b[0m\u001b[0;36m100\u001b[0m\u001b[0;34m)\u001b[0m\u001b[0;34m}\u001b[0m\u001b[0;34m)\u001b[0m\u001b[0;34m\u001b[0m\u001b[0;34m\u001b[0m\u001b[0m\n\u001b[0m",
      "\u001b[0;32m/home/elad/docker/beamds/notebooks/../src/beam/utils.py\u001b[0m in \u001b[0;36mcheck_type\u001b[0;34m(x)\u001b[0m\n\u001b[1;32m    154\u001b[0m         \u001b[0mmjt\u001b[0m \u001b[0;34m=\u001b[0m \u001b[0;34m'dict'\u001b[0m\u001b[0;34m\u001b[0m\u001b[0;34m\u001b[0m\u001b[0m\n\u001b[1;32m    155\u001b[0m         \u001b[0mmit\u001b[0m \u001b[0;34m=\u001b[0m \u001b[0;34m'dict'\u001b[0m\u001b[0;34m\u001b[0m\u001b[0;34m\u001b[0m\u001b[0m\n\u001b[0;32m--> 156\u001b[0;31m         \u001b[0melt\u001b[0m \u001b[0;34m=\u001b[0m \u001b[0mcheck_element_type\u001b[0m\u001b[0;34m(\u001b[0m\u001b[0mnext\u001b[0m\u001b[0;34m(\u001b[0m\u001b[0miter\u001b[0m\u001b[0;34m(\u001b[0m\u001b[0mx\u001b[0m\u001b[0;34m.\u001b[0m\u001b[0mvalues\u001b[0m\u001b[0;34m(\u001b[0m\u001b[0;34m)\u001b[0m\u001b[0;34m)\u001b[0m\u001b[0;34m)\u001b[0m\u001b[0;34m)\u001b[0m\u001b[0;34m\u001b[0m\u001b[0;34m\u001b[0m\u001b[0m\n\u001b[0m\u001b[1;32m    157\u001b[0m \u001b[0;34m\u001b[0m\u001b[0m\n\u001b[1;32m    158\u001b[0m     \u001b[0;32melif\u001b[0m \u001b[0mx\u001b[0m \u001b[0;32mis\u001b[0m \u001b[0;32mNone\u001b[0m\u001b[0;34m:\u001b[0m\u001b[0;34m\u001b[0m\u001b[0;34m\u001b[0m\u001b[0m\n",
      "\u001b[0;32m/home/elad/docker/beamds/notebooks/../src/beam/utils.py\u001b[0m in \u001b[0;36mcheck_element_type\u001b[0;34m(x)\u001b[0m\n\u001b[1;32m     97\u001b[0m     \u001b[0mt\u001b[0m \u001b[0;34m=\u001b[0m \u001b[0mstr\u001b[0m\u001b[0;34m(\u001b[0m\u001b[0mtype\u001b[0m\u001b[0;34m(\u001b[0m\u001b[0mx\u001b[0m\u001b[0;34m)\u001b[0m\u001b[0;34m)\u001b[0m\u001b[0;34m.\u001b[0m\u001b[0mlower\u001b[0m\u001b[0;34m(\u001b[0m\u001b[0;34m)\u001b[0m\u001b[0;34m\u001b[0m\u001b[0;34m\u001b[0m\u001b[0m\n\u001b[1;32m     98\u001b[0m \u001b[0;34m\u001b[0m\u001b[0m\n\u001b[0;32m---> 99\u001b[0;31m     \u001b[0;32mif\u001b[0m \u001b[0mpd\u001b[0m\u001b[0;34m.\u001b[0m\u001b[0misna\u001b[0m\u001b[0;34m(\u001b[0m\u001b[0mx\u001b[0m\u001b[0;34m)\u001b[0m\u001b[0;34m:\u001b[0m\u001b[0;34m\u001b[0m\u001b[0;34m\u001b[0m\u001b[0m\n\u001b[0m\u001b[1;32m    100\u001b[0m         \u001b[0;32mreturn\u001b[0m \u001b[0;34m'none'\u001b[0m\u001b[0;34m\u001b[0m\u001b[0;34m\u001b[0m\u001b[0m\n\u001b[1;32m    101\u001b[0m     \u001b[0;32mif\u001b[0m \u001b[0;34m'int'\u001b[0m \u001b[0;32min\u001b[0m \u001b[0mt\u001b[0m\u001b[0;34m:\u001b[0m\u001b[0;34m\u001b[0m\u001b[0;34m\u001b[0m\u001b[0m\n",
      "\u001b[0;31mValueError\u001b[0m: The truth value of an array with more than one element is ambiguous. Use a.any() or a.all()"
     ]
    }
   ],
   "source": [
    "check_type({'a': np.random.randn(100), 'b': np.random.randn(100)})"
   ]
  }
 ],
 "metadata": {
  "kernelspec": {
   "display_name": "Python 3 (ipykernel)",
   "language": "python",
   "name": "python3"
  },
  "language_info": {
   "codemirror_mode": {
    "name": "ipython",
    "version": 3
   },
   "file_extension": ".py",
   "mimetype": "text/x-python",
   "name": "python",
   "nbconvert_exporter": "python",
   "pygments_lexer": "ipython3",
   "version": "3.8.12"
  }
 },
 "nbformat": 4,
 "nbformat_minor": 5
}
