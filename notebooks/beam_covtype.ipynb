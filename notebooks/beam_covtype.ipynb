{
 "cells": [
  {
   "cell_type": "code",
   "execution_count": 1,
   "id": "2f5812e0-b80e-40d4-b1c5-a2f92f7d0f1c",
   "metadata": {},
   "outputs": [],
   "source": [
    "%load_ext autoreload\n",
    "%autoreload 2\n",
    "\n",
    "import torch\n",
    "import torchvision\n",
    "import torch.nn.functional as F\n",
    "from torch import nn\n",
    "from sklearn.metrics import precision_recall_fscore_support\n",
    "import numpy as np\n",
    "\n",
    "# manage ray's relative imports\n",
    "# import ray\n",
    "# runtime_env = {\"working_dir\": \"..\" }\n",
    "# ray.init(runtime_env=runtime_env, dashboard_port=13065, include_dashboard=True)\n",
    "\n",
    "from ray import tune\n",
    "from ray.tune.suggest.optuna import OptunaSearch\n",
    "from ray.tune import JupyterNotebookReporter\n",
    "\n",
    "# manage beams's relative imports\n",
    "import sys\n",
    "sys.path.append('..')\n",
    "\n",
    "from src.beam import beam_arguments, Experiment, Study\n",
    "from src.beam import UniversalDataset, UniversalBatchSampler, PackedFolds\n",
    "from src.beam import Algorithm\n",
    "from src.beam import LinearNet, check_type, slice_to_index\n",
    "from torchvision import transforms\n",
    "import matplotlib.pyplot as plt\n",
    "\n",
    "from src.beam import DataTensor\n",
    "from src.beam.utils import is_notebook\n",
    "\n",
    "from sklearn.datasets import fetch_covtype\n",
    "import pandas as pd"
   ]
  },
  {
   "cell_type": "code",
   "execution_count": 2,
   "id": "2e64415d-aad1-4e5e-844c-ce8a54f58dc8",
   "metadata": {},
   "outputs": [],
   "source": [
    "dataset = fetch_covtype()"
   ]
  },
  {
   "cell_type": "code",
   "execution_count": 3,
   "id": "77fcea4b-2ad2-48fb-9b35-54a0ea0c49d3",
   "metadata": {},
   "outputs": [],
   "source": [
    "data = dataset['data']\n",
    "columns = dataset['feature_names']\n",
    "y = dataset['target']"
   ]
  },
  {
   "cell_type": "code",
   "execution_count": 11,
   "id": "b6aa8e35-8a6e-4c9b-ba78-aa538d2ef71b",
   "metadata": {},
   "outputs": [],
   "source": [
    "df = pd.DataFrame(data=data, columns=columns, index=np.arange(len(data)))\n",
    "\n",
    "soils_columns = [c for c in df.columns if 'Soil' in c]\n",
    "\n",
    "soil = np.where(df[soils_columns])[1]\n",
    "\n",
    "wilderness_columns = [c for c in df.columns if 'Wilderness' in c]\n",
    "\n",
    "wilderness = np.where(df[wilderness_columns])[1]\n",
    "\n",
    "df_cat = pd.DataFrame({'Soil': soil, 'Wilderness': wilderness})\n",
    "\n",
    "df_num = df.drop(columns=(soils_columns+wilderness_columns))\n",
    "\n",
    "covtype = pd.concat([df_num, df_cat], axis=1)"
   ]
  },
  {
   "cell_type": "code",
   "execution_count": 12,
   "id": "c3cd7952-ad59-4a18-8dc0-7a1e62cdfc69",
   "metadata": {},
   "outputs": [],
   "source": [
    "dataset = UniversalDataset(x=covtype.values, y=y)"
   ]
  },
  {
   "cell_type": "code",
   "execution_count": 13,
   "id": "9212a1ee-90e5-4c1d-8f82-846f6c46654b",
   "metadata": {},
   "outputs": [],
   "source": [
    "dataset.split(validation=.2, test=.2, seed=5782, stratify=True, labels=dataset.data['y'])"
   ]
  },
  {
   "cell_type": "code",
   "execution_count": 37,
   "id": "8f70f54e-a53f-4ed5-8bd6-f4b1defe37f2",
   "metadata": {},
   "outputs": [],
   "source": [
    "dataset.build_samplers(128, 128, oversample=True, weight_factor=.5)"
   ]
  },
  {
   "cell_type": "code",
   "execution_count": 38,
   "id": "40df6a7e-e4ad-4905-acb2-aa37f34550a3",
   "metadata": {},
   "outputs": [],
   "source": [
    "dataloaders = dataset.build_dataloaders()"
   ]
  },
  {
   "cell_type": "code",
   "execution_count": 39,
   "id": "37419bb4-8456-4347-9a5e-90b90d99b413",
   "metadata": {},
   "outputs": [
    {
     "data": {
      "text/plain": [
       "2    0.487595\n",
       "1    0.364603\n",
       "3    0.061539\n",
       "7    0.035300\n",
       "6    0.029896\n",
       "5    0.016342\n",
       "4    0.004724\n",
       "dtype: float64"
      ]
     },
     "execution_count": 39,
     "metadata": {},
     "output_type": "execute_result"
    }
   ],
   "source": [
    "pd.Series(dataset.data['y'][dataset.indices_split['validation']]).value_counts(normalize=True)"
   ]
  },
  {
   "cell_type": "code",
   "execution_count": 40,
   "id": "706ef34d-af3e-4ad7-9d7c-bf51321f74b1",
   "metadata": {},
   "outputs": [
    {
     "data": {
      "text/plain": [
       "2602.0"
      ]
     },
     "execution_count": 40,
     "metadata": {},
     "output_type": "execute_result"
    }
   ],
   "source": [
    "1428498 / 549"
   ]
  },
  {
   "cell_type": "code",
   "execution_count": 41,
   "id": "a5da50e3-2049-49ed-9f33-2fd88c5cd616",
   "metadata": {},
   "outputs": [
    {
     "data": {
      "text/plain": [
       "2    0.328986\n",
       "1    0.288417\n",
       "3    0.118120\n",
       "7    0.089110\n",
       "6    0.082076\n",
       "5    0.060644\n",
       "4    0.032646\n",
       "dtype: float64"
      ]
     },
     "execution_count": 41,
     "metadata": {},
     "output_type": "execute_result"
    }
   ],
   "source": [
    "pd.Series(dataset.data['y'][dataset.samplers['validation'].indices]).value_counts(normalize=True)"
   ]
  },
  {
   "cell_type": "code",
   "execution_count": 25,
   "id": "109e34fb-2a0a-4a50-8297-257b1172c659",
   "metadata": {},
   "outputs": [
    {
     "data": {
      "text/plain": [
       "9999068"
      ]
     },
     "execution_count": 26,
     "metadata": {},
     "output_type": "execute_result"
    }
   ],
   "source": [
    "len(dataset.samplers['validation'].indices)"
   ]
  },
  {
   "cell_type": "code",
   "execution_count": 16,
   "id": "6e760afd-e011-4fde-8478-b4462eed0c79",
   "metadata": {},
   "outputs": [],
   "source": [
    "from src.beam.model import BetterEmbedding"
   ]
  },
  {
   "cell_type": "code",
   "execution_count": 19,
   "id": "77b0d41f-91c0-4ecb-a532-226d90a4ae54",
   "metadata": {},
   "outputs": [],
   "source": [
    "be = BetterEmbedding(torch.arange(10), torch.arange(10,12), 20, torch.tensor(df_cat.nunique().values), 128)"
   ]
  },
  {
   "cell_type": "code",
   "execution_count": 21,
   "id": "e5dcd97d-83ff-4464-8f6d-c7ddf46d40c5",
   "metadata": {},
   "outputs": [
    {
     "data": {
      "text/plain": [
       "torch.Size([2, 12, 128])"
      ]
     },
     "execution_count": 21,
     "metadata": {},
     "output_type": "execute_result"
    }
   ],
   "source": [
    "be(dataset[1:3]['x']).shape"
   ]
  },
  {
   "cell_type": "code",
   "execution_count": null,
   "id": "a6ffe79a-9eb9-42ab-8ec3-32d6ea6f4e0f",
   "metadata": {},
   "outputs": [],
   "source": []
  }
 ],
 "metadata": {
  "kernelspec": {
   "display_name": "Python 3 (ipykernel)",
   "language": "python",
   "name": "python3"
  },
  "language_info": {
   "codemirror_mode": {
    "name": "ipython",
    "version": 3
   },
   "file_extension": ".py",
   "mimetype": "text/x-python",
   "name": "python",
   "nbconvert_exporter": "python",
   "pygments_lexer": "ipython3",
   "version": "3.8.13"
  }
 },
 "nbformat": 4,
 "nbformat_minor": 5
}
