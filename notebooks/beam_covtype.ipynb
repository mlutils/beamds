{
 "cells": [
  {
   "cell_type": "code",
   "execution_count": 1,
   "id": "ff2c6119-ca49-447f-828f-51b0873c3dc5",
   "metadata": {},
   "outputs": [],
   "source": [
    "%load_ext autoreload\n",
    "%autoreload 2\n",
    "\n",
    "import torch\n",
    "import torchvision\n",
    "import torch.nn.functional as F\n",
    "from torch import nn\n",
    "from sklearn.metrics import precision_recall_fscore_support\n",
    "import numpy as np\n",
    "\n",
    "# manage ray's relative imports\n",
    "# import ray\n",
    "# runtime_env = {\"working_dir\": \"..\" }\n",
    "# ray.init(runtime_env=runtime_env, dashboard_port=13065, include_dashboard=True)\n",
    "\n",
    "from ray import tune\n",
    "from ray.tune.suggest.optuna import OptunaSearch\n",
    "from ray.tune import JupyterNotebookReporter\n",
    "\n",
    "# manage beams's relative imports\n",
    "import sys\n",
    "sys.path.append('..')\n",
    "\n",
    "from src.beam import beam_arguments, Experiment, Study\n",
    "from src.beam import UniversalDataset, UniversalBatchSampler, PackedFolds\n",
    "from src.beam import Algorithm\n",
    "from src.beam import LinearNet, check_type, slice_to_index\n",
    "from torchvision import transforms\n",
    "import matplotlib.pyplot as plt\n",
    "\n",
    "from src.beam import DataTensor\n",
    "from src.beam.utils import is_notebook\n",
    "\n",
    "from sklearn.datasets import fetch_covtype\n",
    "import pandas as pd\n",
    "\n",
    "from covtype_example import CovtypeDataset, CovtypeAlgorithm, RuleNet, covtype_algorithm_generator"
   ]
  },
  {
   "cell_type": "code",
   "execution_count": 7,
   "id": "34aeced4-a0ea-419f-b926-22d55d689101",
   "metadata": {},
   "outputs": [],
   "source": [
    "path_to_data = '/home/shared/data/dataset/covtype'\n",
    "root_dir = '/home/shared/data/results/covtype'"
   ]
  },
  {
   "cell_type": "code",
   "execution_count": 8,
   "id": "a38b3342-4c45-46f4-bc4c-e95cbb0351ab",
   "metadata": {},
   "outputs": [
    {
     "name": "stdout",
     "output_type": "stream",
     "text": [
      "\u001b[32m2022-06-22 16:00:22.630\u001b[0m | \u001b[1mINFO    \u001b[0m | \u001b[36msrc.beam.experiment\u001b[0m:\u001b[36m__init__\u001b[0m:\u001b[36m183\u001b[0m - \u001b[1mbeam project: covtype\u001b[0m\n",
      "\u001b[32m2022-06-22 16:00:22.633\u001b[0m | \u001b[1mINFO    \u001b[0m | \u001b[36msrc.beam.experiment\u001b[0m:\u001b[36m__init__\u001b[0m:\u001b[36m184\u001b[0m - \u001b[1mExperiment Hyperparameters\u001b[0m\n",
      "\u001b[32m2022-06-22 16:00:22.633\u001b[0m | \u001b[1mINFO    \u001b[0m | \u001b[36msrc.beam.experiment\u001b[0m:\u001b[36m__init__\u001b[0m:\u001b[36m189\u001b[0m - \u001b[1mproject_name: covtype\u001b[0m\n",
      "\u001b[32m2022-06-22 16:00:22.634\u001b[0m | \u001b[1mINFO    \u001b[0m | \u001b[36msrc.beam.experiment\u001b[0m:\u001b[36m__init__\u001b[0m:\u001b[36m189\u001b[0m - \u001b[1midentifier: debug\u001b[0m\n",
      "\u001b[32m2022-06-22 16:00:22.634\u001b[0m | \u001b[1mINFO    \u001b[0m | \u001b[36msrc.beam.experiment\u001b[0m:\u001b[36m__init__\u001b[0m:\u001b[36m189\u001b[0m - \u001b[1malgorithm: CovtypeAlgorithm\u001b[0m\n",
      "\u001b[32m2022-06-22 16:00:22.635\u001b[0m | \u001b[1mINFO    \u001b[0m | \u001b[36msrc.beam.experiment\u001b[0m:\u001b[36m__init__\u001b[0m:\u001b[36m189\u001b[0m - \u001b[1mmp_port: None\u001b[0m\n",
      "\u001b[32m2022-06-22 16:00:22.638\u001b[0m | \u001b[1mINFO    \u001b[0m | \u001b[36msrc.beam.experiment\u001b[0m:\u001b[36m__init__\u001b[0m:\u001b[36m189\u001b[0m - \u001b[1mroot_dir: /home/shared/data/results/covtype\u001b[0m\n",
      "\u001b[32m2022-06-22 16:00:22.638\u001b[0m | \u001b[1mINFO    \u001b[0m | \u001b[36msrc.beam.experiment\u001b[0m:\u001b[36m__init__\u001b[0m:\u001b[36m189\u001b[0m - \u001b[1mreload: False\u001b[0m\n",
      "\u001b[32m2022-06-22 16:00:22.638\u001b[0m | \u001b[1mINFO    \u001b[0m | \u001b[36msrc.beam.experiment\u001b[0m:\u001b[36m__init__\u001b[0m:\u001b[36m189\u001b[0m - \u001b[1mresume: -1\u001b[0m\n",
      "\u001b[32m2022-06-22 16:00:22.639\u001b[0m | \u001b[1mINFO    \u001b[0m | \u001b[36msrc.beam.experiment\u001b[0m:\u001b[36m__init__\u001b[0m:\u001b[36m189\u001b[0m - \u001b[1moverride: False\u001b[0m\n",
      "\u001b[32m2022-06-22 16:00:22.639\u001b[0m | \u001b[1mINFO    \u001b[0m | \u001b[36msrc.beam.experiment\u001b[0m:\u001b[36m__init__\u001b[0m:\u001b[36m189\u001b[0m - \u001b[1mcpu_workers: 0\u001b[0m\n",
      "\u001b[32m2022-06-22 16:00:22.640\u001b[0m | \u001b[1mINFO    \u001b[0m | \u001b[36msrc.beam.experiment\u001b[0m:\u001b[36m__init__\u001b[0m:\u001b[36m189\u001b[0m - \u001b[1mdevice: 1\u001b[0m\n",
      "\u001b[32m2022-06-22 16:00:22.640\u001b[0m | \u001b[1mINFO    \u001b[0m | \u001b[36msrc.beam.experiment\u001b[0m:\u001b[36m__init__\u001b[0m:\u001b[36m189\u001b[0m - \u001b[1mparallel: 1\u001b[0m\n",
      "\u001b[32m2022-06-22 16:00:22.641\u001b[0m | \u001b[1mINFO    \u001b[0m | \u001b[36msrc.beam.experiment\u001b[0m:\u001b[36m__init__\u001b[0m:\u001b[36m189\u001b[0m - \u001b[1mtensorboard: True\u001b[0m\n",
      "\u001b[32m2022-06-22 16:00:22.641\u001b[0m | \u001b[1mINFO    \u001b[0m | \u001b[36msrc.beam.experiment\u001b[0m:\u001b[36m__init__\u001b[0m:\u001b[36m189\u001b[0m - \u001b[1mlognet: True\u001b[0m\n",
      "\u001b[32m2022-06-22 16:00:22.642\u001b[0m | \u001b[1mINFO    \u001b[0m | \u001b[36msrc.beam.experiment\u001b[0m:\u001b[36m__init__\u001b[0m:\u001b[36m189\u001b[0m - \u001b[1mdeterministic: False\u001b[0m\n",
      "\u001b[32m2022-06-22 16:00:22.642\u001b[0m | \u001b[1mINFO    \u001b[0m | \u001b[36msrc.beam.experiment\u001b[0m:\u001b[36m__init__\u001b[0m:\u001b[36m189\u001b[0m - \u001b[1mscale_epoch_by_batch_size: True\u001b[0m\n",
      "\u001b[32m2022-06-22 16:00:22.643\u001b[0m | \u001b[1mINFO    \u001b[0m | \u001b[36msrc.beam.experiment\u001b[0m:\u001b[36m__init__\u001b[0m:\u001b[36m189\u001b[0m - \u001b[1mcudnn_benchmark: True\u001b[0m\n",
      "\u001b[32m2022-06-22 16:00:22.643\u001b[0m | \u001b[1mINFO    \u001b[0m | \u001b[36msrc.beam.experiment\u001b[0m:\u001b[36m__init__\u001b[0m:\u001b[36m189\u001b[0m - \u001b[1mhalf: False\u001b[0m\n",
      "\u001b[32m2022-06-22 16:00:22.643\u001b[0m | \u001b[1mINFO    \u001b[0m | \u001b[36msrc.beam.experiment\u001b[0m:\u001b[36m__init__\u001b[0m:\u001b[36m189\u001b[0m - \u001b[1mamp: False\u001b[0m\n",
      "\u001b[32m2022-06-22 16:00:22.644\u001b[0m | \u001b[1mINFO    \u001b[0m | \u001b[36msrc.beam.experiment\u001b[0m:\u001b[36m__init__\u001b[0m:\u001b[36m189\u001b[0m - \u001b[1minit: ortho\u001b[0m\n",
      "\u001b[32m2022-06-22 16:00:22.644\u001b[0m | \u001b[1mINFO    \u001b[0m | \u001b[36msrc.beam.experiment\u001b[0m:\u001b[36m__init__\u001b[0m:\u001b[36m189\u001b[0m - \u001b[1mseed: 0\u001b[0m\n",
      "\u001b[32m2022-06-22 16:00:22.645\u001b[0m | \u001b[1mINFO    \u001b[0m | \u001b[36msrc.beam.experiment\u001b[0m:\u001b[36m__init__\u001b[0m:\u001b[36m189\u001b[0m - \u001b[1mtotal_steps: 1000000\u001b[0m\n",
      "\u001b[32m2022-06-22 16:00:22.645\u001b[0m | \u001b[1mINFO    \u001b[0m | \u001b[36msrc.beam.experiment\u001b[0m:\u001b[36m__init__\u001b[0m:\u001b[36m189\u001b[0m - \u001b[1mepoch_length: None\u001b[0m\n",
      "\u001b[32m2022-06-22 16:00:22.646\u001b[0m | \u001b[1mINFO    \u001b[0m | \u001b[36msrc.beam.experiment\u001b[0m:\u001b[36m__init__\u001b[0m:\u001b[36m189\u001b[0m - \u001b[1mepoch_length_train: None\u001b[0m\n",
      "\u001b[32m2022-06-22 16:00:22.646\u001b[0m | \u001b[1mINFO    \u001b[0m | \u001b[36msrc.beam.experiment\u001b[0m:\u001b[36m__init__\u001b[0m:\u001b[36m189\u001b[0m - \u001b[1mepoch_length_eval: None\u001b[0m\n",
      "\u001b[32m2022-06-22 16:00:22.647\u001b[0m | \u001b[1mINFO    \u001b[0m | \u001b[36msrc.beam.experiment\u001b[0m:\u001b[36m__init__\u001b[0m:\u001b[36m189\u001b[0m - \u001b[1mn_epochs: 100\u001b[0m\n",
      "\u001b[32m2022-06-22 16:00:22.647\u001b[0m | \u001b[1mINFO    \u001b[0m | \u001b[36msrc.beam.experiment\u001b[0m:\u001b[36m__init__\u001b[0m:\u001b[36m189\u001b[0m - \u001b[1mbatch_size: 256\u001b[0m\n",
      "\u001b[32m2022-06-22 16:00:22.647\u001b[0m | \u001b[1mINFO    \u001b[0m | \u001b[36msrc.beam.experiment\u001b[0m:\u001b[36m__init__\u001b[0m:\u001b[36m189\u001b[0m - \u001b[1mbatch_size_train: None\u001b[0m\n",
      "\u001b[32m2022-06-22 16:00:22.655\u001b[0m | \u001b[1mINFO    \u001b[0m | \u001b[36msrc.beam.experiment\u001b[0m:\u001b[36m__init__\u001b[0m:\u001b[36m189\u001b[0m - \u001b[1mbatch_size_eval: None\u001b[0m\n",
      "\u001b[32m2022-06-22 16:00:22.656\u001b[0m | \u001b[1mINFO    \u001b[0m | \u001b[36msrc.beam.experiment\u001b[0m:\u001b[36m__init__\u001b[0m:\u001b[36m189\u001b[0m - \u001b[1mlr_dense: 0.001\u001b[0m\n",
      "\u001b[32m2022-06-22 16:00:22.656\u001b[0m | \u001b[1mINFO    \u001b[0m | \u001b[36msrc.beam.experiment\u001b[0m:\u001b[36m__init__\u001b[0m:\u001b[36m189\u001b[0m - \u001b[1mlr_sparse: 0.01\u001b[0m\n",
      "\u001b[32m2022-06-22 16:00:22.657\u001b[0m | \u001b[1mINFO    \u001b[0m | \u001b[36msrc.beam.experiment\u001b[0m:\u001b[36m__init__\u001b[0m:\u001b[36m189\u001b[0m - \u001b[1mweight_decay: 1e-05\u001b[0m\n",
      "\u001b[32m2022-06-22 16:00:22.657\u001b[0m | \u001b[1mINFO    \u001b[0m | \u001b[36msrc.beam.experiment\u001b[0m:\u001b[36m__init__\u001b[0m:\u001b[36m189\u001b[0m - \u001b[1meps: 0.0001\u001b[0m\n",
      "\u001b[32m2022-06-22 16:00:22.657\u001b[0m | \u001b[1mINFO    \u001b[0m | \u001b[36msrc.beam.experiment\u001b[0m:\u001b[36m__init__\u001b[0m:\u001b[36m189\u001b[0m - \u001b[1mbeta1: 0.9\u001b[0m\n",
      "\u001b[32m2022-06-22 16:00:22.658\u001b[0m | \u001b[1mINFO    \u001b[0m | \u001b[36msrc.beam.experiment\u001b[0m:\u001b[36m__init__\u001b[0m:\u001b[36m189\u001b[0m - \u001b[1mbeta2: 0.999\u001b[0m\n",
      "\u001b[32m2022-06-22 16:00:22.658\u001b[0m | \u001b[1mINFO    \u001b[0m | \u001b[36msrc.beam.experiment\u001b[0m:\u001b[36m__init__\u001b[0m:\u001b[36m189\u001b[0m - \u001b[1mclip: 0.0\u001b[0m\n",
      "\u001b[32m2022-06-22 16:00:22.659\u001b[0m | \u001b[1mINFO    \u001b[0m | \u001b[36msrc.beam.experiment\u001b[0m:\u001b[36m__init__\u001b[0m:\u001b[36m189\u001b[0m - \u001b[1maccumulate: 1\u001b[0m\n",
      "\u001b[32m2022-06-22 16:00:22.659\u001b[0m | \u001b[1mINFO    \u001b[0m | \u001b[36msrc.beam.experiment\u001b[0m:\u001b[36m__init__\u001b[0m:\u001b[36m189\u001b[0m - \u001b[1mprint_results: True\u001b[0m\n",
      "\u001b[32m2022-06-22 16:00:22.660\u001b[0m | \u001b[1mINFO    \u001b[0m | \u001b[36msrc.beam.experiment\u001b[0m:\u001b[36m__init__\u001b[0m:\u001b[36m189\u001b[0m - \u001b[1mvisualize_weights: True\u001b[0m\n",
      "\u001b[32m2022-06-22 16:00:22.661\u001b[0m | \u001b[1mINFO    \u001b[0m | \u001b[36msrc.beam.experiment\u001b[0m:\u001b[36m__init__\u001b[0m:\u001b[36m189\u001b[0m - \u001b[1menable_tqdm: True\u001b[0m\n",
      "\u001b[32m2022-06-22 16:00:22.661\u001b[0m | \u001b[1mINFO    \u001b[0m | \u001b[36msrc.beam.experiment\u001b[0m:\u001b[36m__init__\u001b[0m:\u001b[36m189\u001b[0m - \u001b[1mvisualize_results: yes\u001b[0m\n",
      "\u001b[32m2022-06-22 16:00:22.662\u001b[0m | \u001b[1mINFO    \u001b[0m | \u001b[36msrc.beam.experiment\u001b[0m:\u001b[36m__init__\u001b[0m:\u001b[36m189\u001b[0m - \u001b[1mstore_results: logscale\u001b[0m\n",
      "\u001b[32m2022-06-22 16:00:22.663\u001b[0m | \u001b[1mINFO    \u001b[0m | \u001b[36msrc.beam.experiment\u001b[0m:\u001b[36m__init__\u001b[0m:\u001b[36m189\u001b[0m - \u001b[1mstore_networks: logscale\u001b[0m\n",
      "\u001b[32m2022-06-22 16:00:22.663\u001b[0m | \u001b[1mINFO    \u001b[0m | \u001b[36msrc.beam.experiment\u001b[0m:\u001b[36m__init__\u001b[0m:\u001b[36m189\u001b[0m - \u001b[1mlabel_smoothing: 0.05\u001b[0m\n",
      "\u001b[32m2022-06-22 16:00:22.664\u001b[0m | \u001b[1mINFO    \u001b[0m | \u001b[36msrc.beam.experiment\u001b[0m:\u001b[36m__init__\u001b[0m:\u001b[36m189\u001b[0m - \u001b[1mweight_factor: 0.5\u001b[0m\n",
      "\u001b[32m2022-06-22 16:00:22.664\u001b[0m | \u001b[1mINFO    \u001b[0m | \u001b[36msrc.beam.experiment\u001b[0m:\u001b[36m__init__\u001b[0m:\u001b[36m189\u001b[0m - \u001b[1mpath_to_data: /home/shared/data/dataset/covtype\u001b[0m\n",
      "\u001b[32m2022-06-22 16:00:22.665\u001b[0m | \u001b[1mINFO    \u001b[0m | \u001b[36msrc.beam.experiment\u001b[0m:\u001b[36m__init__\u001b[0m:\u001b[36m189\u001b[0m - \u001b[1mgamma: 1.0\u001b[0m\n",
      "\u001b[32m2022-06-22 16:00:22.666\u001b[0m | \u001b[1mINFO    \u001b[0m | \u001b[36msrc.beam.experiment\u001b[0m:\u001b[36m__init__\u001b[0m:\u001b[36m189\u001b[0m - \u001b[1mdropout: 0.0\u001b[0m\n",
      "\u001b[32m2022-06-22 16:00:22.666\u001b[0m | \u001b[1mINFO    \u001b[0m | \u001b[36msrc.beam.experiment\u001b[0m:\u001b[36m__init__\u001b[0m:\u001b[36m189\u001b[0m - \u001b[1mactivation: gelu\u001b[0m\n",
      "\u001b[32m2022-06-22 16:00:22.667\u001b[0m | \u001b[1mINFO    \u001b[0m | \u001b[36msrc.beam.experiment\u001b[0m:\u001b[36m__init__\u001b[0m:\u001b[36m189\u001b[0m - \u001b[1mchannels: 512\u001b[0m\n",
      "\u001b[32m2022-06-22 16:00:22.670\u001b[0m | \u001b[1mINFO    \u001b[0m | \u001b[36msrc.beam.experiment\u001b[0m:\u001b[36m__init__\u001b[0m:\u001b[36m259\u001b[0m - \u001b[1mCreating new experiment\u001b[0m\n",
      "\u001b[32m2022-06-22 16:00:22.671\u001b[0m | \u001b[1mINFO    \u001b[0m | \u001b[36msrc.beam.experiment\u001b[0m:\u001b[36m__init__\u001b[0m:\u001b[36m274\u001b[0m - \u001b[1mExperiment directory is: /home/shared/data/results/covtype/covtype/CovtypeAlgorithm/debug/0001_20220622_160022\u001b[0m\n"
     ]
    }
   ],
   "source": [
    "args = beam_arguments(\n",
    "        f\"--project-name=covtype --root-dir={root_dir} --algorithm=CovtypeAlgorithm --device=1 --no-half --lr-d=1e-3 --batch-size=256\",\n",
    "        \"--n-epochs=100 --clip=0 --parallel=1 --accumulate=1 --cudnn-benchmark\",\n",
    "        \"--weight-decay=1e-5 --beta1=0.9 --beta2=0.999\", label_smoothing=.05, weight_factor=.5,\n",
    "        path_to_data=path_to_data, gamma=1., dropout=.0, activation='gelu', channels=512)\n",
    "\n",
    "experiment = Experiment(args)"
   ]
  },
  {
   "cell_type": "code",
   "execution_count": null,
   "id": "f9359d73-1112-4729-8ec2-b5cf021462c2",
   "metadata": {},
   "outputs": [
    {
     "name": "stdout",
     "output_type": "stream",
     "text": [
      "\u001b[32m2022-06-22 16:00:24.643\u001b[0m | \u001b[1mINFO    \u001b[0m | \u001b[36msrc.beam.experiment\u001b[0m:\u001b[36mrun\u001b[0m:\u001b[36m553\u001b[0m - \u001b[1mSingle worker mode\u001b[0m\n",
      "\u001b[32m2022-06-22 16:00:24.646\u001b[0m | \u001b[1mINFO    \u001b[0m | \u001b[36msrc.beam.experiment\u001b[0m:\u001b[36mrun_worker\u001b[0m:\u001b[36m45\u001b[0m - \u001b[1mWorker: 1/1 is running...\u001b[0m\n"
     ]
    },
    {
     "data": {
      "application/vnd.jupyter.widget-view+json": {
       "model_id": "355d1df79f7f4686b384e32b7503d90e",
       "version_major": 2,
       "version_minor": 0
      },
      "text/plain": [
       "train:   0%|          | 0/1360 [00:00<?, ?it/s]"
      ]
     },
     "metadata": {},
     "output_type": "display_data"
    },
    {
     "data": {
      "application/vnd.jupyter.widget-view+json": {
       "model_id": "5fc7cf3f10ea4e5abd3c976214749b61",
       "version_major": 2,
       "version_minor": 0
      },
      "text/plain": [
       "validation:   0%|          | 0/452 [00:00<?, ?it/s]"
      ]
     },
     "metadata": {},
     "output_type": "display_data"
    },
    {
     "name": "stdout",
     "output_type": "stream",
     "text": [
      "\n",
      "\u001b[32m2022-06-22 16:06:09.499\u001b[0m | \u001b[1mINFO    \u001b[0m | \u001b[36msrc.beam.experiment\u001b[0m:\u001b[36msave_model_results\u001b[0m:\u001b[36m397\u001b[0m - \u001b[1mFinished epoch 1/100:\u001b[0m\n",
      "\u001b[32m2022-06-22 16:06:09.505\u001b[0m | \u001b[1mINFO    \u001b[0m | \u001b[36msrc.beam.experiment\u001b[0m:\u001b[36mlog_data\u001b[0m:\u001b[36m443\u001b[0m - \u001b[1mtrain:\u001b[0m\n",
      "\u001b[32m2022-06-22 16:06:09.506\u001b[0m | \u001b[1mINFO    \u001b[0m | \u001b[36msrc.beam.experiment\u001b[0m:\u001b[36mlog_data\u001b[0m:\u001b[36m447\u001b[0m - \u001b[1mloss 221.69 \t|\u001b[0m\n",
      "\u001b[32m2022-06-22 16:06:09.507\u001b[0m | \u001b[1mINFO    \u001b[0m | \u001b[36msrc.beam.experiment\u001b[0m:\u001b[36mlog_data\u001b[0m:\u001b[36m447\u001b[0m - \u001b[1macc 0.705762 \t|\u001b[0m\n",
      "\u001b[32m2022-06-22 16:06:09.507\u001b[0m | \u001b[1mINFO    \u001b[0m | \u001b[36msrc.beam.experiment\u001b[0m:\u001b[36mlog_data\u001b[0m:\u001b[36m447\u001b[0m - \u001b[1mlr 0.001 \t|\u001b[0m\n",
      "\u001b[32m2022-06-22 16:06:09.508\u001b[0m | \u001b[1mINFO    \u001b[0m | \u001b[36msrc.beam.experiment\u001b[0m:\u001b[36mlog_data\u001b[0m:\u001b[36m443\u001b[0m - \u001b[1mvalidation:\u001b[0m\n",
      "\u001b[32m2022-06-22 16:06:09.509\u001b[0m | \u001b[1mINFO    \u001b[0m | \u001b[36msrc.beam.experiment\u001b[0m:\u001b[36mlog_data\u001b[0m:\u001b[36m447\u001b[0m - \u001b[1mloss 195.039 \t|\u001b[0m\n",
      "\u001b[32m2022-06-22 16:06:09.509\u001b[0m | \u001b[1mINFO    \u001b[0m | \u001b[36msrc.beam.experiment\u001b[0m:\u001b[36mlog_data\u001b[0m:\u001b[36m447\u001b[0m - \u001b[1macc 0.761235 \t|\u001b[0m\n"
     ]
    },
    {
     "data": {
      "application/vnd.jupyter.widget-view+json": {
       "model_id": "fac2dc7829864a7ea6292ca29bb7bd08",
       "version_major": 2,
       "version_minor": 0
      },
      "text/plain": [
       "train:   0%|          | 0/1360 [00:00<?, ?it/s]"
      ]
     },
     "metadata": {},
     "output_type": "display_data"
    },
    {
     "data": {
      "application/vnd.jupyter.widget-view+json": {
       "model_id": "8ca3702f66124e37989f3c441c3070b5",
       "version_major": 2,
       "version_minor": 0
      },
      "text/plain": [
       "validation:   0%|          | 0/452 [00:00<?, ?it/s]"
      ]
     },
     "metadata": {},
     "output_type": "display_data"
    },
    {
     "name": "stdout",
     "output_type": "stream",
     "text": [
      "\n",
      "\u001b[32m2022-06-22 16:11:53.927\u001b[0m | \u001b[1mINFO    \u001b[0m | \u001b[36msrc.beam.experiment\u001b[0m:\u001b[36msave_model_results\u001b[0m:\u001b[36m397\u001b[0m - \u001b[1mFinished epoch 2/100:\u001b[0m\n",
      "\u001b[32m2022-06-22 16:11:53.935\u001b[0m | \u001b[1mINFO    \u001b[0m | \u001b[36msrc.beam.experiment\u001b[0m:\u001b[36mlog_data\u001b[0m:\u001b[36m443\u001b[0m - \u001b[1mtrain:\u001b[0m\n",
      "\u001b[32m2022-06-22 16:11:53.936\u001b[0m | \u001b[1mINFO    \u001b[0m | \u001b[36msrc.beam.experiment\u001b[0m:\u001b[36mlog_data\u001b[0m:\u001b[36m447\u001b[0m - \u001b[1mloss 163.406 \t|\u001b[0m\n",
      "\u001b[32m2022-06-22 16:11:53.936\u001b[0m | \u001b[1mINFO    \u001b[0m | \u001b[36msrc.beam.experiment\u001b[0m:\u001b[36mlog_data\u001b[0m:\u001b[36m447\u001b[0m - \u001b[1macc 0.824204 \t|\u001b[0m\n",
      "\u001b[32m2022-06-22 16:11:53.937\u001b[0m | \u001b[1mINFO    \u001b[0m | \u001b[36msrc.beam.experiment\u001b[0m:\u001b[36mlog_data\u001b[0m:\u001b[36m447\u001b[0m - \u001b[1mlr 0.001 \t|\u001b[0m\n",
      "\u001b[32m2022-06-22 16:11:53.937\u001b[0m | \u001b[1mINFO    \u001b[0m | \u001b[36msrc.beam.experiment\u001b[0m:\u001b[36mlog_data\u001b[0m:\u001b[36m443\u001b[0m - \u001b[1mvalidation:\u001b[0m\n",
      "\u001b[32m2022-06-22 16:11:53.938\u001b[0m | \u001b[1mINFO    \u001b[0m | \u001b[36msrc.beam.experiment\u001b[0m:\u001b[36mlog_data\u001b[0m:\u001b[36m447\u001b[0m - \u001b[1mloss 153.522 \t|\u001b[0m\n",
      "\u001b[32m2022-06-22 16:11:53.938\u001b[0m | \u001b[1mINFO    \u001b[0m | \u001b[36msrc.beam.experiment\u001b[0m:\u001b[36mlog_data\u001b[0m:\u001b[36m447\u001b[0m - \u001b[1macc 0.843154 \t|\u001b[0m\n"
     ]
    },
    {
     "data": {
      "application/vnd.jupyter.widget-view+json": {
       "model_id": "1dd35b4d8d834a5c9891ef3cd095b6dd",
       "version_major": 2,
       "version_minor": 0
      },
      "text/plain": [
       "train:   0%|          | 0/1360 [00:00<?, ?it/s]"
      ]
     },
     "metadata": {},
     "output_type": "display_data"
    }
   ],
   "source": [
    "alg = experiment(covtype_algorithm_generator)"
   ]
  },
  {
   "cell_type": "code",
   "execution_count": null,
   "id": "a6ffe79a-9eb9-42ab-8ec3-32d6ea6f4e0f",
   "metadata": {},
   "outputs": [],
   "source": []
  },
  {
   "cell_type": "code",
   "execution_count": null,
   "id": "4fbc4242-c2f1-45a7-a4e1-a72b9fd53592",
   "metadata": {},
   "outputs": [],
   "source": []
  }
 ],
 "metadata": {
  "kernelspec": {
   "display_name": "Python 3 (ipykernel)",
   "language": "python",
   "name": "python3"
  },
  "language_info": {
   "codemirror_mode": {
    "name": "ipython",
    "version": 3
   },
   "file_extension": ".py",
   "mimetype": "text/x-python",
   "name": "python",
   "nbconvert_exporter": "python",
   "pygments_lexer": "ipython3",
   "version": "3.8.12"
  }
 },
 "nbformat": 4,
 "nbformat_minor": 5
}
