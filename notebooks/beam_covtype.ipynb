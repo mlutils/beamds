{
 "cells": [
  {
   "cell_type": "code",
   "execution_count": 1,
   "id": "ff2c6119-ca49-447f-828f-51b0873c3dc5",
   "metadata": {},
   "outputs": [
    {
     "name": "stderr",
     "output_type": "stream",
     "text": [
      "2022-06-23 16:26:06,975\tINFO services.py:1456 -- View the Ray dashboard at \u001b[1m\u001b[32mhttp://127.0.0.1:13065\u001b[39m\u001b[22m\n",
      "2022-06-23 16:26:08,490\tINFO packaging.py:388 -- Creating a file package for local directory '..'.\n",
      "2022-06-23 16:26:08,509\tINFO packaging.py:241 -- Pushing file package 'gcs://_ray_pkg_2adadfa5978c26c6.zip' (0.84MiB) to Ray cluster...\n",
      "2022-06-23 16:26:08,519\tINFO packaging.py:243 -- Successfully pushed file package 'gcs://_ray_pkg_2adadfa5978c26c6.zip'.\n"
     ]
    }
   ],
   "source": [
    "%load_ext autoreload\n",
    "%autoreload 2\n",
    "\n",
    "import torch\n",
    "import torchvision\n",
    "import torch.nn.functional as F\n",
    "from torch import nn\n",
    "from sklearn.metrics import precision_recall_fscore_support\n",
    "import numpy as np\n",
    "\n",
    "# manage ray's relative imports\n",
    "import ray\n",
    "runtime_env = {\"working_dir\": \"..\" }\n",
    "ray.init(runtime_env=runtime_env, dashboard_port=13065, include_dashboard=True)\n",
    "\n",
    "from ray import tune\n",
    "from ray.tune.suggest.optuna import OptunaSearch\n",
    "from ray.tune import JupyterNotebookReporter\n",
    "\n",
    "# manage beams's relative imports\n",
    "import sys\n",
    "sys.path.append('..')\n",
    "\n",
    "from src.beam import beam_arguments, Experiment, Study\n",
    "from src.beam import UniversalDataset, UniversalBatchSampler, PackedFolds\n",
    "from src.beam import Algorithm\n",
    "from src.beam import LinearNet, check_type, slice_to_index\n",
    "from torchvision import transforms\n",
    "import matplotlib.pyplot as plt\n",
    "\n",
    "from src.beam import DataTensor\n",
    "from src.beam.utils import is_notebook\n",
    "\n",
    "from sklearn.datasets import fetch_covtype\n",
    "import pandas as pd\n",
    "\n",
    "from covtype_example import CovtypeDataset, CovtypeAlgorithm, RuleNet, covtype_algorithm_generator, get_covtype_parser "
   ]
  },
  {
   "cell_type": "code",
   "execution_count": 2,
   "id": "34aeced4-a0ea-419f-b926-22d55d689101",
   "metadata": {},
   "outputs": [],
   "source": [
    "path_to_data = '/home/shared/data/dataset/covtype'\n",
    "root_dir = '/home/shared/data/results/covtype'"
   ]
  },
  {
   "cell_type": "code",
   "execution_count": 3,
   "id": "a38b3342-4c45-46f4-bc4c-e95cbb0351ab",
   "metadata": {},
   "outputs": [
    {
     "name": "stdout",
     "output_type": "stream",
     "text": [
      "\u001b[32m2022-06-23 15:21:57.648\u001b[0m | \u001b[1mINFO    \u001b[0m | \u001b[36msrc.beam.experiment\u001b[0m:\u001b[36m__init__\u001b[0m:\u001b[36m183\u001b[0m - \u001b[1mbeam project: covtype\u001b[0m\n",
      "\u001b[32m2022-06-23 15:21:57.651\u001b[0m | \u001b[1mINFO    \u001b[0m | \u001b[36msrc.beam.experiment\u001b[0m:\u001b[36m__init__\u001b[0m:\u001b[36m184\u001b[0m - \u001b[1mExperiment Hyperparameters\u001b[0m\n",
      "\u001b[32m2022-06-23 15:21:57.653\u001b[0m | \u001b[1mINFO    \u001b[0m | \u001b[36msrc.beam.experiment\u001b[0m:\u001b[36m__init__\u001b[0m:\u001b[36m189\u001b[0m - \u001b[1mproject_name: covtype\u001b[0m\n",
      "\u001b[32m2022-06-23 15:21:57.654\u001b[0m | \u001b[1mINFO    \u001b[0m | \u001b[36msrc.beam.experiment\u001b[0m:\u001b[36m__init__\u001b[0m:\u001b[36m189\u001b[0m - \u001b[1midentifier: debug\u001b[0m\n",
      "\u001b[32m2022-06-23 15:21:57.654\u001b[0m | \u001b[1mINFO    \u001b[0m | \u001b[36msrc.beam.experiment\u001b[0m:\u001b[36m__init__\u001b[0m:\u001b[36m189\u001b[0m - \u001b[1malgorithm: CovtypeAlgorithm\u001b[0m\n",
      "\u001b[32m2022-06-23 15:21:57.655\u001b[0m | \u001b[1mINFO    \u001b[0m | \u001b[36msrc.beam.experiment\u001b[0m:\u001b[36m__init__\u001b[0m:\u001b[36m189\u001b[0m - \u001b[1mmp_port: None\u001b[0m\n",
      "\u001b[32m2022-06-23 15:21:57.657\u001b[0m | \u001b[1mINFO    \u001b[0m | \u001b[36msrc.beam.experiment\u001b[0m:\u001b[36m__init__\u001b[0m:\u001b[36m189\u001b[0m - \u001b[1mroot_dir: /home/shared/data/results/covtype\u001b[0m\n",
      "\u001b[32m2022-06-23 15:21:57.658\u001b[0m | \u001b[1mINFO    \u001b[0m | \u001b[36msrc.beam.experiment\u001b[0m:\u001b[36m__init__\u001b[0m:\u001b[36m189\u001b[0m - \u001b[1mreload: False\u001b[0m\n",
      "\u001b[32m2022-06-23 15:21:57.658\u001b[0m | \u001b[1mINFO    \u001b[0m | \u001b[36msrc.beam.experiment\u001b[0m:\u001b[36m__init__\u001b[0m:\u001b[36m189\u001b[0m - \u001b[1mresume: -1\u001b[0m\n",
      "\u001b[32m2022-06-23 15:21:57.659\u001b[0m | \u001b[1mINFO    \u001b[0m | \u001b[36msrc.beam.experiment\u001b[0m:\u001b[36m__init__\u001b[0m:\u001b[36m189\u001b[0m - \u001b[1moverride: False\u001b[0m\n",
      "\u001b[32m2022-06-23 15:21:57.660\u001b[0m | \u001b[1mINFO    \u001b[0m | \u001b[36msrc.beam.experiment\u001b[0m:\u001b[36m__init__\u001b[0m:\u001b[36m189\u001b[0m - \u001b[1mcpu_workers: 0\u001b[0m\n",
      "\u001b[32m2022-06-23 15:21:57.661\u001b[0m | \u001b[1mINFO    \u001b[0m | \u001b[36msrc.beam.experiment\u001b[0m:\u001b[36m__init__\u001b[0m:\u001b[36m189\u001b[0m - \u001b[1mdevice: 1\u001b[0m\n",
      "\u001b[32m2022-06-23 15:21:57.662\u001b[0m | \u001b[1mINFO    \u001b[0m | \u001b[36msrc.beam.experiment\u001b[0m:\u001b[36m__init__\u001b[0m:\u001b[36m189\u001b[0m - \u001b[1mparallel: 1\u001b[0m\n",
      "\u001b[32m2022-06-23 15:21:57.663\u001b[0m | \u001b[1mINFO    \u001b[0m | \u001b[36msrc.beam.experiment\u001b[0m:\u001b[36m__init__\u001b[0m:\u001b[36m189\u001b[0m - \u001b[1mtensorboard: True\u001b[0m\n",
      "\u001b[32m2022-06-23 15:21:57.664\u001b[0m | \u001b[1mINFO    \u001b[0m | \u001b[36msrc.beam.experiment\u001b[0m:\u001b[36m__init__\u001b[0m:\u001b[36m189\u001b[0m - \u001b[1mlognet: True\u001b[0m\n",
      "\u001b[32m2022-06-23 15:21:57.666\u001b[0m | \u001b[1mINFO    \u001b[0m | \u001b[36msrc.beam.experiment\u001b[0m:\u001b[36m__init__\u001b[0m:\u001b[36m189\u001b[0m - \u001b[1mdeterministic: False\u001b[0m\n",
      "\u001b[32m2022-06-23 15:21:57.667\u001b[0m | \u001b[1mINFO    \u001b[0m | \u001b[36msrc.beam.experiment\u001b[0m:\u001b[36m__init__\u001b[0m:\u001b[36m189\u001b[0m - \u001b[1mscale_epoch_by_batch_size: True\u001b[0m\n",
      "\u001b[32m2022-06-23 15:21:57.668\u001b[0m | \u001b[1mINFO    \u001b[0m | \u001b[36msrc.beam.experiment\u001b[0m:\u001b[36m__init__\u001b[0m:\u001b[36m189\u001b[0m - \u001b[1mcudnn_benchmark: True\u001b[0m\n",
      "\u001b[32m2022-06-23 15:21:57.668\u001b[0m | \u001b[1mINFO    \u001b[0m | \u001b[36msrc.beam.experiment\u001b[0m:\u001b[36m__init__\u001b[0m:\u001b[36m189\u001b[0m - \u001b[1mhalf: False\u001b[0m\n",
      "\u001b[32m2022-06-23 15:21:57.669\u001b[0m | \u001b[1mINFO    \u001b[0m | \u001b[36msrc.beam.experiment\u001b[0m:\u001b[36m__init__\u001b[0m:\u001b[36m189\u001b[0m - \u001b[1mamp: False\u001b[0m\n",
      "\u001b[32m2022-06-23 15:21:57.670\u001b[0m | \u001b[1mINFO    \u001b[0m | \u001b[36msrc.beam.experiment\u001b[0m:\u001b[36m__init__\u001b[0m:\u001b[36m189\u001b[0m - \u001b[1minit: ortho\u001b[0m\n",
      "\u001b[32m2022-06-23 15:21:57.671\u001b[0m | \u001b[1mINFO    \u001b[0m | \u001b[36msrc.beam.experiment\u001b[0m:\u001b[36m__init__\u001b[0m:\u001b[36m189\u001b[0m - \u001b[1mseed: 0\u001b[0m\n",
      "\u001b[32m2022-06-23 15:21:57.672\u001b[0m | \u001b[1mINFO    \u001b[0m | \u001b[36msrc.beam.experiment\u001b[0m:\u001b[36m__init__\u001b[0m:\u001b[36m189\u001b[0m - \u001b[1mtotal_steps: 1000000\u001b[0m\n",
      "\u001b[32m2022-06-23 15:21:57.672\u001b[0m | \u001b[1mINFO    \u001b[0m | \u001b[36msrc.beam.experiment\u001b[0m:\u001b[36m__init__\u001b[0m:\u001b[36m189\u001b[0m - \u001b[1mepoch_length: None\u001b[0m\n",
      "\u001b[32m2022-06-23 15:21:57.673\u001b[0m | \u001b[1mINFO    \u001b[0m | \u001b[36msrc.beam.experiment\u001b[0m:\u001b[36m__init__\u001b[0m:\u001b[36m189\u001b[0m - \u001b[1mepoch_length_train: None\u001b[0m\n",
      "\u001b[32m2022-06-23 15:21:57.674\u001b[0m | \u001b[1mINFO    \u001b[0m | \u001b[36msrc.beam.experiment\u001b[0m:\u001b[36m__init__\u001b[0m:\u001b[36m189\u001b[0m - \u001b[1mepoch_length_eval: None\u001b[0m\n",
      "\u001b[32m2022-06-23 15:21:57.675\u001b[0m | \u001b[1mINFO    \u001b[0m | \u001b[36msrc.beam.experiment\u001b[0m:\u001b[36m__init__\u001b[0m:\u001b[36m189\u001b[0m - \u001b[1mn_epochs: 2\u001b[0m\n",
      "\u001b[32m2022-06-23 15:21:57.676\u001b[0m | \u001b[1mINFO    \u001b[0m | \u001b[36msrc.beam.experiment\u001b[0m:\u001b[36m__init__\u001b[0m:\u001b[36m189\u001b[0m - \u001b[1mbatch_size: 256\u001b[0m\n",
      "\u001b[32m2022-06-23 15:21:57.676\u001b[0m | \u001b[1mINFO    \u001b[0m | \u001b[36msrc.beam.experiment\u001b[0m:\u001b[36m__init__\u001b[0m:\u001b[36m189\u001b[0m - \u001b[1mbatch_size_train: None\u001b[0m\n",
      "\u001b[32m2022-06-23 15:21:57.677\u001b[0m | \u001b[1mINFO    \u001b[0m | \u001b[36msrc.beam.experiment\u001b[0m:\u001b[36m__init__\u001b[0m:\u001b[36m189\u001b[0m - \u001b[1mbatch_size_eval: None\u001b[0m\n",
      "\u001b[32m2022-06-23 15:21:57.678\u001b[0m | \u001b[1mINFO    \u001b[0m | \u001b[36msrc.beam.experiment\u001b[0m:\u001b[36m__init__\u001b[0m:\u001b[36m189\u001b[0m - \u001b[1mlr_dense: 0.001\u001b[0m\n",
      "\u001b[32m2022-06-23 15:21:57.679\u001b[0m | \u001b[1mINFO    \u001b[0m | \u001b[36msrc.beam.experiment\u001b[0m:\u001b[36m__init__\u001b[0m:\u001b[36m189\u001b[0m - \u001b[1mlr_sparse: 0.01\u001b[0m\n",
      "\u001b[32m2022-06-23 15:21:57.679\u001b[0m | \u001b[1mINFO    \u001b[0m | \u001b[36msrc.beam.experiment\u001b[0m:\u001b[36m__init__\u001b[0m:\u001b[36m189\u001b[0m - \u001b[1mweight_decay: 1e-05\u001b[0m\n",
      "\u001b[32m2022-06-23 15:21:57.680\u001b[0m | \u001b[1mINFO    \u001b[0m | \u001b[36msrc.beam.experiment\u001b[0m:\u001b[36m__init__\u001b[0m:\u001b[36m189\u001b[0m - \u001b[1meps: 0.0001\u001b[0m\n",
      "\u001b[32m2022-06-23 15:21:57.681\u001b[0m | \u001b[1mINFO    \u001b[0m | \u001b[36msrc.beam.experiment\u001b[0m:\u001b[36m__init__\u001b[0m:\u001b[36m189\u001b[0m - \u001b[1mbeta1: 0.9\u001b[0m\n",
      "\u001b[32m2022-06-23 15:21:57.683\u001b[0m | \u001b[1mINFO    \u001b[0m | \u001b[36msrc.beam.experiment\u001b[0m:\u001b[36m__init__\u001b[0m:\u001b[36m189\u001b[0m - \u001b[1mbeta2: 0.999\u001b[0m\n",
      "\u001b[32m2022-06-23 15:21:57.684\u001b[0m | \u001b[1mINFO    \u001b[0m | \u001b[36msrc.beam.experiment\u001b[0m:\u001b[36m__init__\u001b[0m:\u001b[36m189\u001b[0m - \u001b[1mclip: 0.0\u001b[0m\n",
      "\u001b[32m2022-06-23 15:21:57.685\u001b[0m | \u001b[1mINFO    \u001b[0m | \u001b[36msrc.beam.experiment\u001b[0m:\u001b[36m__init__\u001b[0m:\u001b[36m189\u001b[0m - \u001b[1maccumulate: 1\u001b[0m\n",
      "\u001b[32m2022-06-23 15:21:57.686\u001b[0m | \u001b[1mINFO    \u001b[0m | \u001b[36msrc.beam.experiment\u001b[0m:\u001b[36m__init__\u001b[0m:\u001b[36m189\u001b[0m - \u001b[1mprint_results: True\u001b[0m\n",
      "\u001b[32m2022-06-23 15:21:57.687\u001b[0m | \u001b[1mINFO    \u001b[0m | \u001b[36msrc.beam.experiment\u001b[0m:\u001b[36m__init__\u001b[0m:\u001b[36m189\u001b[0m - \u001b[1mvisualize_weights: True\u001b[0m\n",
      "\u001b[32m2022-06-23 15:21:57.688\u001b[0m | \u001b[1mINFO    \u001b[0m | \u001b[36msrc.beam.experiment\u001b[0m:\u001b[36m__init__\u001b[0m:\u001b[36m189\u001b[0m - \u001b[1menable_tqdm: True\u001b[0m\n",
      "\u001b[32m2022-06-23 15:21:57.689\u001b[0m | \u001b[1mINFO    \u001b[0m | \u001b[36msrc.beam.experiment\u001b[0m:\u001b[36m__init__\u001b[0m:\u001b[36m189\u001b[0m - \u001b[1mvisualize_results: yes\u001b[0m\n",
      "\u001b[32m2022-06-23 15:21:57.690\u001b[0m | \u001b[1mINFO    \u001b[0m | \u001b[36msrc.beam.experiment\u001b[0m:\u001b[36m__init__\u001b[0m:\u001b[36m189\u001b[0m - \u001b[1mstore_results: logscale\u001b[0m\n",
      "\u001b[32m2022-06-23 15:21:57.690\u001b[0m | \u001b[1mINFO    \u001b[0m | \u001b[36msrc.beam.experiment\u001b[0m:\u001b[36m__init__\u001b[0m:\u001b[36m189\u001b[0m - \u001b[1mstore_networks: logscale\u001b[0m\n",
      "\u001b[32m2022-06-23 15:21:57.691\u001b[0m | \u001b[1mINFO    \u001b[0m | \u001b[36msrc.beam.experiment\u001b[0m:\u001b[36m__init__\u001b[0m:\u001b[36m189\u001b[0m - \u001b[1mweight_factor: 0.0\u001b[0m\n",
      "\u001b[32m2022-06-23 15:21:57.692\u001b[0m | \u001b[1mINFO    \u001b[0m | \u001b[36msrc.beam.experiment\u001b[0m:\u001b[36m__init__\u001b[0m:\u001b[36m189\u001b[0m - \u001b[1mlabel_smoothing: 0.05\u001b[0m\n",
      "\u001b[32m2022-06-23 15:21:57.692\u001b[0m | \u001b[1mINFO    \u001b[0m | \u001b[36msrc.beam.experiment\u001b[0m:\u001b[36m__init__\u001b[0m:\u001b[36m189\u001b[0m - \u001b[1mactivation: gelu\u001b[0m\n",
      "\u001b[32m2022-06-23 15:21:57.693\u001b[0m | \u001b[1mINFO    \u001b[0m | \u001b[36msrc.beam.experiment\u001b[0m:\u001b[36m__init__\u001b[0m:\u001b[36m189\u001b[0m - \u001b[1mchannels: 128\u001b[0m\n",
      "\u001b[32m2022-06-23 15:21:57.694\u001b[0m | \u001b[1mINFO    \u001b[0m | \u001b[36msrc.beam.experiment\u001b[0m:\u001b[36m__init__\u001b[0m:\u001b[36m189\u001b[0m - \u001b[1mDropout: 0.0\u001b[0m\n",
      "\u001b[32m2022-06-23 15:21:57.698\u001b[0m | \u001b[1mINFO    \u001b[0m | \u001b[36msrc.beam.experiment\u001b[0m:\u001b[36m__init__\u001b[0m:\u001b[36m189\u001b[0m - \u001b[1mn_rules: 64\u001b[0m\n",
      "\u001b[32m2022-06-23 15:21:57.699\u001b[0m | \u001b[1mINFO    \u001b[0m | \u001b[36msrc.beam.experiment\u001b[0m:\u001b[36m__init__\u001b[0m:\u001b[36m189\u001b[0m - \u001b[1mn_layers: 2\u001b[0m\n",
      "\u001b[32m2022-06-23 15:21:57.699\u001b[0m | \u001b[1mINFO    \u001b[0m | \u001b[36msrc.beam.experiment\u001b[0m:\u001b[36m__init__\u001b[0m:\u001b[36m189\u001b[0m - \u001b[1mn_quantiles: 20\u001b[0m\n",
      "\u001b[32m2022-06-23 15:21:57.700\u001b[0m | \u001b[1mINFO    \u001b[0m | \u001b[36msrc.beam.experiment\u001b[0m:\u001b[36m__init__\u001b[0m:\u001b[36m189\u001b[0m - \u001b[1mn_tables: 15\u001b[0m\n",
      "\u001b[32m2022-06-23 15:21:57.701\u001b[0m | \u001b[1mINFO    \u001b[0m | \u001b[36msrc.beam.experiment\u001b[0m:\u001b[36m__init__\u001b[0m:\u001b[36m189\u001b[0m - \u001b[1mscheduler_factor: 0.31622776601683794\u001b[0m\n",
      "\u001b[32m2022-06-23 15:21:57.701\u001b[0m | \u001b[1mINFO    \u001b[0m | \u001b[36msrc.beam.experiment\u001b[0m:\u001b[36m__init__\u001b[0m:\u001b[36m189\u001b[0m - \u001b[1mscheduler_patience: 16\u001b[0m\n",
      "\u001b[32m2022-06-23 15:21:57.702\u001b[0m | \u001b[1mINFO    \u001b[0m | \u001b[36msrc.beam.experiment\u001b[0m:\u001b[36m__init__\u001b[0m:\u001b[36m189\u001b[0m - \u001b[1meval_ensembles: 64\u001b[0m\n",
      "\u001b[32m2022-06-23 15:21:57.703\u001b[0m | \u001b[1mINFO    \u001b[0m | \u001b[36msrc.beam.experiment\u001b[0m:\u001b[36m__init__\u001b[0m:\u001b[36m189\u001b[0m - \u001b[1mpath_to_data: /home/shared/data/dataset/covtype\u001b[0m\n",
      "\u001b[32m2022-06-23 15:21:57.704\u001b[0m | \u001b[1mINFO    \u001b[0m | \u001b[36msrc.beam.experiment\u001b[0m:\u001b[36m__init__\u001b[0m:\u001b[36m189\u001b[0m - \u001b[1mdropout: 0.0\u001b[0m\n",
      "\u001b[32m2022-06-23 15:21:57.706\u001b[0m | \u001b[1mINFO    \u001b[0m | \u001b[36msrc.beam.experiment\u001b[0m:\u001b[36m__init__\u001b[0m:\u001b[36m259\u001b[0m - \u001b[1mCreating new experiment\u001b[0m\n",
      "\u001b[32m2022-06-23 15:21:57.706\u001b[0m | \u001b[1mINFO    \u001b[0m | \u001b[36msrc.beam.experiment\u001b[0m:\u001b[36m__init__\u001b[0m:\u001b[36m274\u001b[0m - \u001b[1mExperiment directory is: /home/shared/data/results/covtype/covtype/CovtypeAlgorithm/debug/0001_20220623_152157\u001b[0m\n"
     ]
    }
   ],
   "source": [
    "args = beam_arguments(get_covtype_parser(), \n",
    "        f\"--project-name=covtype --root-dir={root_dir} --algorithm=CovtypeAlgorithm --device=1 --no-half --lr-d=1e-3 --batch-size=256\",\n",
    "        \"--n-epochs=2 --clip=0 --parallel=1 --accumulate=1 --cudnn-benchmark\",\n",
    "        \"--weight-decay=1e-5 --beta1=0.9 --beta2=0.999\", label_smoothing=.05, weight_factor=.0,\n",
    "        path_to_data=path_to_data, dropout=.0, activation='gelu', channels=128, n_rules=64, n_layers=2,)\n",
    "\n",
    "experiment = Experiment(args)"
   ]
  },
  {
   "cell_type": "code",
   "execution_count": 4,
   "id": "1ded61c5-92d5-427b-b42a-c3eb5223ffa8",
   "metadata": {},
   "outputs": [],
   "source": [
    "# alg = covtype_algorithm_generator(experiment)"
   ]
  },
  {
   "cell_type": "code",
   "execution_count": 7,
   "id": "f9359d73-1112-4729-8ec2-b5cf021462c2",
   "metadata": {},
   "outputs": [
    {
     "name": "stdout",
     "output_type": "stream",
     "text": [
      "\u001b[32m2022-06-23 15:35:07.080\u001b[0m | \u001b[1mINFO    \u001b[0m | \u001b[36msrc.beam.experiment\u001b[0m:\u001b[36mrun\u001b[0m:\u001b[36m553\u001b[0m - \u001b[1mSingle worker mode\u001b[0m\n",
      "\u001b[32m2022-06-23 15:35:07.082\u001b[0m | \u001b[1mINFO    \u001b[0m | \u001b[36msrc.beam.experiment\u001b[0m:\u001b[36mrun_worker\u001b[0m:\u001b[36m45\u001b[0m - \u001b[1mWorker: 1/1 is running...\u001b[0m\n"
     ]
    },
    {
     "data": {
      "application/vnd.jupyter.widget-view+json": {
       "model_id": "66ea04ed8bae4a8eababd9c7dc353c69",
       "version_major": 2,
       "version_minor": 0
      },
      "text/plain": [
       "train:   0%|          | 0/1360 [00:00<?, ?it/s]"
      ]
     },
     "metadata": {},
     "output_type": "display_data"
    },
    {
     "data": {
      "application/vnd.jupyter.widget-view+json": {
       "model_id": "35784cd1072741aba8aa96aebdab8a86",
       "version_major": 2,
       "version_minor": 0
      },
      "text/plain": [
       "validation:   0%|          | 0/452 [00:00<?, ?it/s]"
      ]
     },
     "metadata": {},
     "output_type": "display_data"
    },
    {
     "name": "stdout",
     "output_type": "stream",
     "text": [
      "\u001b[32m2022-06-23 15:36:06.880\u001b[0m | \u001b[1mINFO    \u001b[0m | \u001b[36msrc.beam.model\u001b[0m:\u001b[36mstep\u001b[0m:\u001b[36m584\u001b[0m - \u001b[1mbr was changed to 1\u001b[0m\n",
      "\u001b[32m2022-06-23 15:36:06.881\u001b[0m | \u001b[1mINFO    \u001b[0m | \u001b[36msrc.beam.model\u001b[0m:\u001b[36mstep\u001b[0m:\u001b[36m585\u001b[0m - \u001b[1mlambda_llr was changed to 0\u001b[0m\n",
      "\n",
      "\u001b[32m2022-06-23 15:36:06.884\u001b[0m | \u001b[1mINFO    \u001b[0m | \u001b[36msrc.beam.experiment\u001b[0m:\u001b[36msave_model_results\u001b[0m:\u001b[36m397\u001b[0m - \u001b[1mFinished epoch 1/2:\u001b[0m\n",
      "\u001b[32m2022-06-23 15:36:06.889\u001b[0m | \u001b[1mINFO    \u001b[0m | \u001b[36msrc.beam.experiment\u001b[0m:\u001b[36mlog_data\u001b[0m:\u001b[36m443\u001b[0m - \u001b[1mtrain:\u001b[0m\n",
      "\u001b[32m2022-06-23 15:36:06.891\u001b[0m | \u001b[1mINFO    \u001b[0m | \u001b[36msrc.beam.experiment\u001b[0m:\u001b[36mlog_data\u001b[0m:\u001b[36m447\u001b[0m - \u001b[1mloss 207.968 \t|\u001b[0m\n",
      "\u001b[32m2022-06-23 15:36:06.892\u001b[0m | \u001b[1mINFO    \u001b[0m | \u001b[36msrc.beam.experiment\u001b[0m:\u001b[36mlog_data\u001b[0m:\u001b[36m447\u001b[0m - \u001b[1macc 0.734467 \t|\u001b[0m\n",
      "\u001b[32m2022-06-23 15:36:06.893\u001b[0m | \u001b[1mINFO    \u001b[0m | \u001b[36msrc.beam.experiment\u001b[0m:\u001b[36mlog_data\u001b[0m:\u001b[36m447\u001b[0m - \u001b[1mlr 0.001 \t|\u001b[0m\n",
      "\u001b[32m2022-06-23 15:36:06.894\u001b[0m | \u001b[1mINFO    \u001b[0m | \u001b[36msrc.beam.experiment\u001b[0m:\u001b[36mlog_data\u001b[0m:\u001b[36m443\u001b[0m - \u001b[1mvalidation:\u001b[0m\n",
      "\u001b[32m2022-06-23 15:36:06.894\u001b[0m | \u001b[1mINFO    \u001b[0m | \u001b[36msrc.beam.experiment\u001b[0m:\u001b[36mlog_data\u001b[0m:\u001b[36m447\u001b[0m - \u001b[1mloss 188.697 \t|\u001b[0m\n",
      "\u001b[32m2022-06-23 15:36:06.895\u001b[0m | \u001b[1mINFO    \u001b[0m | \u001b[36msrc.beam.experiment\u001b[0m:\u001b[36mlog_data\u001b[0m:\u001b[36m447\u001b[0m - \u001b[1macc 0.773429 \t|\u001b[0m\n"
     ]
    },
    {
     "data": {
      "application/vnd.jupyter.widget-view+json": {
       "model_id": "77b0712ec9af4714912a2595bd826b51",
       "version_major": 2,
       "version_minor": 0
      },
      "text/plain": [
       "train:   0%|          | 0/1360 [00:00<?, ?it/s]"
      ]
     },
     "metadata": {},
     "output_type": "display_data"
    },
    {
     "data": {
      "application/vnd.jupyter.widget-view+json": {
       "model_id": "90a90e02d21a4be397ef24426aebdee3",
       "version_major": 2,
       "version_minor": 0
      },
      "text/plain": [
       "validation:   0%|          | 0/452 [00:00<?, ?it/s]"
      ]
     },
     "metadata": {},
     "output_type": "display_data"
    },
    {
     "name": "stdout",
     "output_type": "stream",
     "text": [
      "\u001b[32m2022-06-23 15:36:58.890\u001b[0m | \u001b[1mINFO    \u001b[0m | \u001b[36msrc.beam.model\u001b[0m:\u001b[36mstep\u001b[0m:\u001b[36m584\u001b[0m - \u001b[1mbr was changed to 1\u001b[0m\n",
      "\u001b[32m2022-06-23 15:36:58.891\u001b[0m | \u001b[1mINFO    \u001b[0m | \u001b[36msrc.beam.model\u001b[0m:\u001b[36mstep\u001b[0m:\u001b[36m585\u001b[0m - \u001b[1mlambda_llr was changed to 0\u001b[0m\n",
      "\n",
      "\u001b[32m2022-06-23 15:36:58.895\u001b[0m | \u001b[1mINFO    \u001b[0m | \u001b[36msrc.beam.experiment\u001b[0m:\u001b[36msave_model_results\u001b[0m:\u001b[36m397\u001b[0m - \u001b[1mFinished epoch 2/2:\u001b[0m\n",
      "\u001b[32m2022-06-23 15:36:58.901\u001b[0m | \u001b[1mINFO    \u001b[0m | \u001b[36msrc.beam.experiment\u001b[0m:\u001b[36mlog_data\u001b[0m:\u001b[36m443\u001b[0m - \u001b[1mtrain:\u001b[0m\n",
      "\u001b[32m2022-06-23 15:36:58.902\u001b[0m | \u001b[1mINFO    \u001b[0m | \u001b[36msrc.beam.experiment\u001b[0m:\u001b[36mlog_data\u001b[0m:\u001b[36m447\u001b[0m - \u001b[1mloss 165.038 \t|\u001b[0m\n",
      "\u001b[32m2022-06-23 15:36:58.902\u001b[0m | \u001b[1mINFO    \u001b[0m | \u001b[36msrc.beam.experiment\u001b[0m:\u001b[36mlog_data\u001b[0m:\u001b[36m447\u001b[0m - \u001b[1macc 0.819548 \t|\u001b[0m\n",
      "\u001b[32m2022-06-23 15:36:58.903\u001b[0m | \u001b[1mINFO    \u001b[0m | \u001b[36msrc.beam.experiment\u001b[0m:\u001b[36mlog_data\u001b[0m:\u001b[36m447\u001b[0m - \u001b[1mlr 0.001 \t|\u001b[0m\n",
      "\u001b[32m2022-06-23 15:36:58.907\u001b[0m | \u001b[1mINFO    \u001b[0m | \u001b[36msrc.beam.experiment\u001b[0m:\u001b[36mlog_data\u001b[0m:\u001b[36m443\u001b[0m - \u001b[1mvalidation:\u001b[0m\n",
      "\u001b[32m2022-06-23 15:36:58.907\u001b[0m | \u001b[1mINFO    \u001b[0m | \u001b[36msrc.beam.experiment\u001b[0m:\u001b[36mlog_data\u001b[0m:\u001b[36m447\u001b[0m - \u001b[1mloss 152.019 \t|\u001b[0m\n",
      "\u001b[32m2022-06-23 15:36:58.908\u001b[0m | \u001b[1mINFO    \u001b[0m | \u001b[36msrc.beam.experiment\u001b[0m:\u001b[36mlog_data\u001b[0m:\u001b[36m447\u001b[0m - \u001b[1macc 0.844459 \t|\u001b[0m\n"
     ]
    }
   ],
   "source": [
    "alg = experiment(covtype_algorithm_generator)"
   ]
  },
  {
   "cell_type": "code",
   "execution_count": 13,
   "id": "a6ffe79a-9eb9-42ab-8ec3-32d6ea6f4e0f",
   "metadata": {},
   "outputs": [
    {
     "data": {
      "application/vnd.jupyter.widget-view+json": {
       "model_id": "04a9d7626e1e499080b502484ad46ba1",
       "version_major": 2,
       "version_minor": 0
      },
      "text/plain": [
       "test:   0%|          | 0/454 [00:00<?, ?it/s]"
      ]
     },
     "metadata": {},
     "output_type": "display_data"
    }
   ],
   "source": [
    "results = alg.evaluate('test')"
   ]
  },
  {
   "cell_type": "code",
   "execution_count": 15,
   "id": "ba561c37-4e14-4c44-85df-a721b6623407",
   "metadata": {},
   "outputs": [
    {
     "data": {
      "text/plain": [
       "0.8330432722747063"
      ]
     },
     "execution_count": 15,
     "metadata": {},
     "output_type": "execute_result"
    }
   ],
   "source": [
    "np.mean(results['scalar']['acc'])"
   ]
  },
  {
   "cell_type": "code",
   "execution_count": 14,
   "id": "f2efc22b-b7ca-46a2-816e-772265581b45",
   "metadata": {},
   "outputs": [],
   "source": [
    "%load_ext tensorboard"
   ]
  },
  {
   "cell_type": "code",
   "execution_count": 15,
   "id": "82eb0abf-3593-4cd4-9057-5bd6bf9541ff",
   "metadata": {},
   "outputs": [
    {
     "data": {
      "text/html": [
       "\n",
       "      <iframe id=\"tensorboard-frame-d255395e57a83dd7\" width=\"100%\" height=\"800\" frameborder=\"0\">\n",
       "      </iframe>\n",
       "      <script>\n",
       "        (function() {\n",
       "          const frame = document.getElementById(\"tensorboard-frame-d255395e57a83dd7\");\n",
       "          const url = new URL(\"/\", window.location);\n",
       "          const port = 17067;\n",
       "          if (port) {\n",
       "            url.port = port;\n",
       "          }\n",
       "          frame.src = url;\n",
       "        })();\n",
       "      </script>\n",
       "    "
      ],
      "text/plain": [
       "<IPython.core.display.HTML object>"
      ]
     },
     "metadata": {},
     "output_type": "display_data"
    }
   ],
   "source": [
    "%tensorboard --logdir /home/shared/data/results/covtype/covtype/CovtypeAlgorithm/debug/0001_20220622_160022 --port=17067 --bind_all"
   ]
  },
  {
   "cell_type": "code",
   "execution_count": null,
   "id": "0e29658e-f135-47fd-8854-c7740270bfdc",
   "metadata": {},
   "outputs": [],
   "source": []
  },
  {
   "cell_type": "code",
   "execution_count": 6,
   "id": "f3fc3822-56f1-4fcd-8f2a-18f48d6c4d72",
   "metadata": {},
   "outputs": [
    {
     "name": "stdout",
     "output_type": "stream",
     "text": [
      "\u001b[32m2022-06-23 11:44:34.677\u001b[0m | \u001b[1mINFO    \u001b[0m | \u001b[36msrc.beam.experiment\u001b[0m:\u001b[36m__init__\u001b[0m:\u001b[36m183\u001b[0m - \u001b[1mbeam project: covtype\u001b[0m\n",
      "\u001b[32m2022-06-23 11:44:34.679\u001b[0m | \u001b[1mINFO    \u001b[0m | \u001b[36msrc.beam.experiment\u001b[0m:\u001b[36m__init__\u001b[0m:\u001b[36m184\u001b[0m - \u001b[1mExperiment Hyperparameters\u001b[0m\n",
      "\u001b[32m2022-06-23 11:44:34.683\u001b[0m | \u001b[1mINFO    \u001b[0m | \u001b[36msrc.beam.experiment\u001b[0m:\u001b[36m__init__\u001b[0m:\u001b[36m189\u001b[0m - \u001b[1mproject_name: covtype\u001b[0m\n",
      "\u001b[32m2022-06-23 11:44:34.685\u001b[0m | \u001b[1mINFO    \u001b[0m | \u001b[36msrc.beam.experiment\u001b[0m:\u001b[36m__init__\u001b[0m:\u001b[36m189\u001b[0m - \u001b[1midentifier: half_precision\u001b[0m\n",
      "\u001b[32m2022-06-23 11:44:34.686\u001b[0m | \u001b[1mINFO    \u001b[0m | \u001b[36msrc.beam.experiment\u001b[0m:\u001b[36m__init__\u001b[0m:\u001b[36m189\u001b[0m - \u001b[1malgorithm: CovtypeAlgorithm\u001b[0m\n",
      "\u001b[32m2022-06-23 11:44:34.687\u001b[0m | \u001b[1mINFO    \u001b[0m | \u001b[36msrc.beam.experiment\u001b[0m:\u001b[36m__init__\u001b[0m:\u001b[36m189\u001b[0m - \u001b[1mmp_port: None\u001b[0m\n",
      "\u001b[32m2022-06-23 11:44:34.688\u001b[0m | \u001b[1mINFO    \u001b[0m | \u001b[36msrc.beam.experiment\u001b[0m:\u001b[36m__init__\u001b[0m:\u001b[36m189\u001b[0m - \u001b[1mroot_dir: /home/shared/data/results/covtype\u001b[0m\n",
      "\u001b[32m2022-06-23 11:44:34.688\u001b[0m | \u001b[1mINFO    \u001b[0m | \u001b[36msrc.beam.experiment\u001b[0m:\u001b[36m__init__\u001b[0m:\u001b[36m189\u001b[0m - \u001b[1mreload: False\u001b[0m\n",
      "\u001b[32m2022-06-23 11:44:34.689\u001b[0m | \u001b[1mINFO    \u001b[0m | \u001b[36msrc.beam.experiment\u001b[0m:\u001b[36m__init__\u001b[0m:\u001b[36m189\u001b[0m - \u001b[1mresume: -1\u001b[0m\n",
      "\u001b[32m2022-06-23 11:44:34.690\u001b[0m | \u001b[1mINFO    \u001b[0m | \u001b[36msrc.beam.experiment\u001b[0m:\u001b[36m__init__\u001b[0m:\u001b[36m189\u001b[0m - \u001b[1moverride: False\u001b[0m\n",
      "\u001b[32m2022-06-23 11:44:34.690\u001b[0m | \u001b[1mINFO    \u001b[0m | \u001b[36msrc.beam.experiment\u001b[0m:\u001b[36m__init__\u001b[0m:\u001b[36m189\u001b[0m - \u001b[1mcpu_workers: 0\u001b[0m\n",
      "\u001b[32m2022-06-23 11:44:34.692\u001b[0m | \u001b[1mINFO    \u001b[0m | \u001b[36msrc.beam.experiment\u001b[0m:\u001b[36m__init__\u001b[0m:\u001b[36m189\u001b[0m - \u001b[1mdevice: 1\u001b[0m\n",
      "\u001b[32m2022-06-23 11:44:34.693\u001b[0m | \u001b[1mINFO    \u001b[0m | \u001b[36msrc.beam.experiment\u001b[0m:\u001b[36m__init__\u001b[0m:\u001b[36m189\u001b[0m - \u001b[1mparallel: 1\u001b[0m\n",
      "\u001b[32m2022-06-23 11:44:34.693\u001b[0m | \u001b[1mINFO    \u001b[0m | \u001b[36msrc.beam.experiment\u001b[0m:\u001b[36m__init__\u001b[0m:\u001b[36m189\u001b[0m - \u001b[1mtensorboard: True\u001b[0m\n",
      "\u001b[32m2022-06-23 11:44:34.694\u001b[0m | \u001b[1mINFO    \u001b[0m | \u001b[36msrc.beam.experiment\u001b[0m:\u001b[36m__init__\u001b[0m:\u001b[36m189\u001b[0m - \u001b[1mlognet: True\u001b[0m\n",
      "\u001b[32m2022-06-23 11:44:34.695\u001b[0m | \u001b[1mINFO    \u001b[0m | \u001b[36msrc.beam.experiment\u001b[0m:\u001b[36m__init__\u001b[0m:\u001b[36m189\u001b[0m - \u001b[1mdeterministic: False\u001b[0m\n",
      "\u001b[32m2022-06-23 11:44:34.696\u001b[0m | \u001b[1mINFO    \u001b[0m | \u001b[36msrc.beam.experiment\u001b[0m:\u001b[36m__init__\u001b[0m:\u001b[36m189\u001b[0m - \u001b[1mscale_epoch_by_batch_size: True\u001b[0m\n",
      "\u001b[32m2022-06-23 11:44:34.697\u001b[0m | \u001b[1mINFO    \u001b[0m | \u001b[36msrc.beam.experiment\u001b[0m:\u001b[36m__init__\u001b[0m:\u001b[36m189\u001b[0m - \u001b[1mcudnn_benchmark: True\u001b[0m\n",
      "\u001b[32m2022-06-23 11:44:34.698\u001b[0m | \u001b[1mINFO    \u001b[0m | \u001b[36msrc.beam.experiment\u001b[0m:\u001b[36m__init__\u001b[0m:\u001b[36m189\u001b[0m - \u001b[1mhalf: False\u001b[0m\n",
      "\u001b[32m2022-06-23 11:44:34.699\u001b[0m | \u001b[1mINFO    \u001b[0m | \u001b[36msrc.beam.experiment\u001b[0m:\u001b[36m__init__\u001b[0m:\u001b[36m189\u001b[0m - \u001b[1mamp: True\u001b[0m\n",
      "\u001b[32m2022-06-23 11:44:34.699\u001b[0m | \u001b[1mINFO    \u001b[0m | \u001b[36msrc.beam.experiment\u001b[0m:\u001b[36m__init__\u001b[0m:\u001b[36m189\u001b[0m - \u001b[1minit: ortho\u001b[0m\n",
      "\u001b[32m2022-06-23 11:44:34.700\u001b[0m | \u001b[1mINFO    \u001b[0m | \u001b[36msrc.beam.experiment\u001b[0m:\u001b[36m__init__\u001b[0m:\u001b[36m189\u001b[0m - \u001b[1mseed: 0\u001b[0m\n",
      "\u001b[32m2022-06-23 11:44:34.701\u001b[0m | \u001b[1mINFO    \u001b[0m | \u001b[36msrc.beam.experiment\u001b[0m:\u001b[36m__init__\u001b[0m:\u001b[36m189\u001b[0m - \u001b[1mtotal_steps: 1000000\u001b[0m\n",
      "\u001b[32m2022-06-23 11:44:34.702\u001b[0m | \u001b[1mINFO    \u001b[0m | \u001b[36msrc.beam.experiment\u001b[0m:\u001b[36m__init__\u001b[0m:\u001b[36m189\u001b[0m - \u001b[1mepoch_length: None\u001b[0m\n",
      "\u001b[32m2022-06-23 11:44:34.703\u001b[0m | \u001b[1mINFO    \u001b[0m | \u001b[36msrc.beam.experiment\u001b[0m:\u001b[36m__init__\u001b[0m:\u001b[36m189\u001b[0m - \u001b[1mepoch_length_train: None\u001b[0m\n",
      "\u001b[32m2022-06-23 11:44:34.704\u001b[0m | \u001b[1mINFO    \u001b[0m | \u001b[36msrc.beam.experiment\u001b[0m:\u001b[36m__init__\u001b[0m:\u001b[36m189\u001b[0m - \u001b[1mepoch_length_eval: None\u001b[0m\n",
      "\u001b[32m2022-06-23 11:44:34.704\u001b[0m | \u001b[1mINFO    \u001b[0m | \u001b[36msrc.beam.experiment\u001b[0m:\u001b[36m__init__\u001b[0m:\u001b[36m189\u001b[0m - \u001b[1mn_epochs: 100\u001b[0m\n",
      "\u001b[32m2022-06-23 11:44:34.705\u001b[0m | \u001b[1mINFO    \u001b[0m | \u001b[36msrc.beam.experiment\u001b[0m:\u001b[36m__init__\u001b[0m:\u001b[36m189\u001b[0m - \u001b[1mbatch_size: 256\u001b[0m\n",
      "\u001b[32m2022-06-23 11:44:34.706\u001b[0m | \u001b[1mINFO    \u001b[0m | \u001b[36msrc.beam.experiment\u001b[0m:\u001b[36m__init__\u001b[0m:\u001b[36m189\u001b[0m - \u001b[1mbatch_size_train: None\u001b[0m\n",
      "\u001b[32m2022-06-23 11:44:34.706\u001b[0m | \u001b[1mINFO    \u001b[0m | \u001b[36msrc.beam.experiment\u001b[0m:\u001b[36m__init__\u001b[0m:\u001b[36m189\u001b[0m - \u001b[1mbatch_size_eval: None\u001b[0m\n",
      "\u001b[32m2022-06-23 11:44:34.707\u001b[0m | \u001b[1mINFO    \u001b[0m | \u001b[36msrc.beam.experiment\u001b[0m:\u001b[36m__init__\u001b[0m:\u001b[36m189\u001b[0m - \u001b[1mlr_dense: 0.001\u001b[0m\n",
      "\u001b[32m2022-06-23 11:44:34.708\u001b[0m | \u001b[1mINFO    \u001b[0m | \u001b[36msrc.beam.experiment\u001b[0m:\u001b[36m__init__\u001b[0m:\u001b[36m189\u001b[0m - \u001b[1mlr_sparse: 0.01\u001b[0m\n",
      "\u001b[32m2022-06-23 11:44:34.709\u001b[0m | \u001b[1mINFO    \u001b[0m | \u001b[36msrc.beam.experiment\u001b[0m:\u001b[36m__init__\u001b[0m:\u001b[36m189\u001b[0m - \u001b[1mweight_decay: 1e-05\u001b[0m\n",
      "\u001b[32m2022-06-23 11:44:34.710\u001b[0m | \u001b[1mINFO    \u001b[0m | \u001b[36msrc.beam.experiment\u001b[0m:\u001b[36m__init__\u001b[0m:\u001b[36m189\u001b[0m - \u001b[1meps: 0.0001\u001b[0m\n",
      "\u001b[32m2022-06-23 11:44:34.711\u001b[0m | \u001b[1mINFO    \u001b[0m | \u001b[36msrc.beam.experiment\u001b[0m:\u001b[36m__init__\u001b[0m:\u001b[36m189\u001b[0m - \u001b[1mbeta1: 0.9\u001b[0m\n",
      "\u001b[32m2022-06-23 11:44:34.712\u001b[0m | \u001b[1mINFO    \u001b[0m | \u001b[36msrc.beam.experiment\u001b[0m:\u001b[36m__init__\u001b[0m:\u001b[36m189\u001b[0m - \u001b[1mclip: 0.0\u001b[0m\n",
      "\u001b[32m2022-06-23 11:44:34.713\u001b[0m | \u001b[1mINFO    \u001b[0m | \u001b[36msrc.beam.experiment\u001b[0m:\u001b[36m__init__\u001b[0m:\u001b[36m189\u001b[0m - \u001b[1maccumulate: 1\u001b[0m\n",
      "\u001b[32m2022-06-23 11:44:34.713\u001b[0m | \u001b[1mINFO    \u001b[0m | \u001b[36msrc.beam.experiment\u001b[0m:\u001b[36m__init__\u001b[0m:\u001b[36m189\u001b[0m - \u001b[1mprint_results: True\u001b[0m\n",
      "\u001b[32m2022-06-23 11:44:34.714\u001b[0m | \u001b[1mINFO    \u001b[0m | \u001b[36msrc.beam.experiment\u001b[0m:\u001b[36m__init__\u001b[0m:\u001b[36m189\u001b[0m - \u001b[1mvisualize_weights: True\u001b[0m\n",
      "\u001b[32m2022-06-23 11:44:34.715\u001b[0m | \u001b[1mINFO    \u001b[0m | \u001b[36msrc.beam.experiment\u001b[0m:\u001b[36m__init__\u001b[0m:\u001b[36m189\u001b[0m - \u001b[1menable_tqdm: True\u001b[0m\n",
      "\u001b[32m2022-06-23 11:44:34.716\u001b[0m | \u001b[1mINFO    \u001b[0m | \u001b[36msrc.beam.experiment\u001b[0m:\u001b[36m__init__\u001b[0m:\u001b[36m189\u001b[0m - \u001b[1mvisualize_results: yes\u001b[0m\n",
      "\u001b[32m2022-06-23 11:44:34.717\u001b[0m | \u001b[1mINFO    \u001b[0m | \u001b[36msrc.beam.experiment\u001b[0m:\u001b[36m__init__\u001b[0m:\u001b[36m189\u001b[0m - \u001b[1mstore_results: logscale\u001b[0m\n",
      "\u001b[32m2022-06-23 11:44:34.718\u001b[0m | \u001b[1mINFO    \u001b[0m | \u001b[36msrc.beam.experiment\u001b[0m:\u001b[36m__init__\u001b[0m:\u001b[36m189\u001b[0m - \u001b[1mstore_networks: logscale\u001b[0m\n",
      "\u001b[32m2022-06-23 11:44:34.719\u001b[0m | \u001b[1mINFO    \u001b[0m | \u001b[36msrc.beam.experiment\u001b[0m:\u001b[36m__init__\u001b[0m:\u001b[36m189\u001b[0m - \u001b[1mbeta2: 0.999\u001b[0m\n",
      "\u001b[32m2022-06-23 11:44:34.720\u001b[0m | \u001b[1mINFO    \u001b[0m | \u001b[36msrc.beam.experiment\u001b[0m:\u001b[36m__init__\u001b[0m:\u001b[36m189\u001b[0m - \u001b[1mlabel_smoothing: 0.05\u001b[0m\n",
      "\u001b[32m2022-06-23 11:44:34.721\u001b[0m | \u001b[1mINFO    \u001b[0m | \u001b[36msrc.beam.experiment\u001b[0m:\u001b[36m__init__\u001b[0m:\u001b[36m189\u001b[0m - \u001b[1mweight_factor: 0.5\u001b[0m\n",
      "\u001b[32m2022-06-23 11:44:34.722\u001b[0m | \u001b[1mINFO    \u001b[0m | \u001b[36msrc.beam.experiment\u001b[0m:\u001b[36m__init__\u001b[0m:\u001b[36m189\u001b[0m - \u001b[1mpath_to_data: /home/shared/data/dataset/covtype\u001b[0m\n",
      "\u001b[32m2022-06-23 11:44:34.723\u001b[0m | \u001b[1mINFO    \u001b[0m | \u001b[36msrc.beam.experiment\u001b[0m:\u001b[36m__init__\u001b[0m:\u001b[36m189\u001b[0m - \u001b[1mgamma: 1.0\u001b[0m\n",
      "\u001b[32m2022-06-23 11:44:34.723\u001b[0m | \u001b[1mINFO    \u001b[0m | \u001b[36msrc.beam.experiment\u001b[0m:\u001b[36m__init__\u001b[0m:\u001b[36m189\u001b[0m - \u001b[1mdropout: 0.0\u001b[0m\n",
      "\u001b[32m2022-06-23 11:44:34.724\u001b[0m | \u001b[1mINFO    \u001b[0m | \u001b[36msrc.beam.experiment\u001b[0m:\u001b[36m__init__\u001b[0m:\u001b[36m189\u001b[0m - \u001b[1mactivation: gelu\u001b[0m\n",
      "\u001b[32m2022-06-23 11:44:34.725\u001b[0m | \u001b[1mINFO    \u001b[0m | \u001b[36msrc.beam.experiment\u001b[0m:\u001b[36m__init__\u001b[0m:\u001b[36m189\u001b[0m - \u001b[1mchannels: 512\u001b[0m\n",
      "\u001b[32m2022-06-23 11:44:34.736\u001b[0m | \u001b[1mINFO    \u001b[0m | \u001b[36msrc.beam.experiment\u001b[0m:\u001b[36m__init__\u001b[0m:\u001b[36m259\u001b[0m - \u001b[1mCreating new experiment\u001b[0m\n",
      "\u001b[32m2022-06-23 11:44:34.737\u001b[0m | \u001b[1mINFO    \u001b[0m | \u001b[36msrc.beam.experiment\u001b[0m:\u001b[36m__init__\u001b[0m:\u001b[36m274\u001b[0m - \u001b[1mExperiment directory is: /home/shared/data/results/covtype/covtype/CovtypeAlgorithm/half_precision/0001_20220623_114434\u001b[0m\n"
     ]
    }
   ],
   "source": [
    "args = beam_arguments(\n",
    "        f\"--project-name=covtype --root-dir={root_dir} --algorithm=CovtypeAlgorithm --device=1 --no-amp --lr-d=1e-3 --batch-size=256\",\n",
    "        \"--n-epochs=100 --clip=0 --parallel=1 --accumulate=1 --cudnn-benchmark --identifier=half_precision\",\n",
    "        \"--weight-decay=1e-5 --beta1=0.9 --beta2=0.999\", label_smoothing=.05, weight_factor=.5,\n",
    "        path_to_data=path_to_data, gamma=1., dropout=.0, activation='gelu', channels=512)\n",
    "\n",
    "experiment = Experiment(args)"
   ]
  },
  {
   "cell_type": "code",
   "execution_count": 7,
   "id": "f2128161-f7ec-4a2a-90b0-26ab040f5d0a",
   "metadata": {},
   "outputs": [
    {
     "name": "stdout",
     "output_type": "stream",
     "text": [
      "\u001b[32m2022-06-23 11:44:37.677\u001b[0m | \u001b[1mINFO    \u001b[0m | \u001b[36msrc.beam.experiment\u001b[0m:\u001b[36mrun\u001b[0m:\u001b[36m553\u001b[0m - \u001b[1mSingle worker mode\u001b[0m\n",
      "\u001b[32m2022-06-23 11:44:37.680\u001b[0m | \u001b[1mINFO    \u001b[0m | \u001b[36msrc.beam.experiment\u001b[0m:\u001b[36mrun_worker\u001b[0m:\u001b[36m45\u001b[0m - \u001b[1mWorker: 1/1 is running...\u001b[0m\n"
     ]
    },
    {
     "data": {
      "application/vnd.jupyter.widget-view+json": {
       "model_id": "5ec52d969c0c4a89819241b26ca7d3fa",
       "version_major": 2,
       "version_minor": 0
      },
      "text/plain": [
       "train:   0%|          | 0/1360 [00:00<?, ?it/s]"
      ]
     },
     "metadata": {},
     "output_type": "display_data"
    },
    {
     "data": {
      "application/vnd.jupyter.widget-view+json": {
       "model_id": "0f659c8b53134783b91cc65db88a23fd",
       "version_major": 2,
       "version_minor": 0
      },
      "text/plain": [
       "validation:   0%|          | 0/452 [00:00<?, ?it/s]"
      ]
     },
     "metadata": {},
     "output_type": "display_data"
    },
    {
     "name": "stdout",
     "output_type": "stream",
     "text": [
      "\n",
      "\u001b[32m2022-06-23 11:50:32.263\u001b[0m | \u001b[1mINFO    \u001b[0m | \u001b[36msrc.beam.experiment\u001b[0m:\u001b[36msave_model_results\u001b[0m:\u001b[36m397\u001b[0m - \u001b[1mFinished epoch 1/100:\u001b[0m\n",
      "\u001b[32m2022-06-23 11:50:32.272\u001b[0m | \u001b[1mINFO    \u001b[0m | \u001b[36msrc.beam.experiment\u001b[0m:\u001b[36mlog_data\u001b[0m:\u001b[36m443\u001b[0m - \u001b[1mtrain:\u001b[0m\n",
      "\u001b[32m2022-06-23 11:50:32.274\u001b[0m | \u001b[1mINFO    \u001b[0m | \u001b[36msrc.beam.experiment\u001b[0m:\u001b[36mlog_data\u001b[0m:\u001b[36m447\u001b[0m - \u001b[1mloss 228.893 \t|\u001b[0m\n",
      "\u001b[32m2022-06-23 11:50:32.274\u001b[0m | \u001b[1mINFO    \u001b[0m | \u001b[36msrc.beam.experiment\u001b[0m:\u001b[36mlog_data\u001b[0m:\u001b[36m447\u001b[0m - \u001b[1macc 0.695109 \t|\u001b[0m\n",
      "\u001b[32m2022-06-23 11:50:32.275\u001b[0m | \u001b[1mINFO    \u001b[0m | \u001b[36msrc.beam.experiment\u001b[0m:\u001b[36mlog_data\u001b[0m:\u001b[36m447\u001b[0m - \u001b[1mlr 0.001 \t|\u001b[0m\n",
      "\u001b[32m2022-06-23 11:50:32.277\u001b[0m | \u001b[1mINFO    \u001b[0m | \u001b[36msrc.beam.experiment\u001b[0m:\u001b[36mlog_data\u001b[0m:\u001b[36m443\u001b[0m - \u001b[1mvalidation:\u001b[0m\n",
      "\u001b[32m2022-06-23 11:50:32.283\u001b[0m | \u001b[1mINFO    \u001b[0m | \u001b[36msrc.beam.experiment\u001b[0m:\u001b[36mlog_data\u001b[0m:\u001b[36m447\u001b[0m - \u001b[1mloss 195.103 \t|\u001b[0m\n",
      "\u001b[32m2022-06-23 11:50:32.288\u001b[0m | \u001b[1mINFO    \u001b[0m | \u001b[36msrc.beam.experiment\u001b[0m:\u001b[36mlog_data\u001b[0m:\u001b[36m447\u001b[0m - \u001b[1macc 0.758547 \t|\u001b[0m\n"
     ]
    },
    {
     "data": {
      "application/vnd.jupyter.widget-view+json": {
       "model_id": "e1ada8effafc46ad97530c4910c76fea",
       "version_major": 2,
       "version_minor": 0
      },
      "text/plain": [
       "train:   0%|          | 0/1360 [00:00<?, ?it/s]"
      ]
     },
     "metadata": {},
     "output_type": "display_data"
    },
    {
     "data": {
      "application/vnd.jupyter.widget-view+json": {
       "model_id": "020a3450184148fba1eeeaeae42f0041",
       "version_major": 2,
       "version_minor": 0
      },
      "text/plain": [
       "validation:   0%|          | 0/452 [00:00<?, ?it/s]"
      ]
     },
     "metadata": {},
     "output_type": "display_data"
    },
    {
     "name": "stdout",
     "output_type": "stream",
     "text": [
      "\n",
      "\u001b[32m2022-06-23 11:56:29.838\u001b[0m | \u001b[1mINFO    \u001b[0m | \u001b[36msrc.beam.experiment\u001b[0m:\u001b[36msave_model_results\u001b[0m:\u001b[36m397\u001b[0m - \u001b[1mFinished epoch 2/100:\u001b[0m\n",
      "\u001b[32m2022-06-23 11:56:29.844\u001b[0m | \u001b[1mINFO    \u001b[0m | \u001b[36msrc.beam.experiment\u001b[0m:\u001b[36mlog_data\u001b[0m:\u001b[36m443\u001b[0m - \u001b[1mtrain:\u001b[0m\n",
      "\u001b[32m2022-06-23 11:56:29.845\u001b[0m | \u001b[1mINFO    \u001b[0m | \u001b[36msrc.beam.experiment\u001b[0m:\u001b[36mlog_data\u001b[0m:\u001b[36m447\u001b[0m - \u001b[1mloss 167.189 \t|\u001b[0m\n",
      "\u001b[32m2022-06-23 11:56:29.846\u001b[0m | \u001b[1mINFO    \u001b[0m | \u001b[36msrc.beam.experiment\u001b[0m:\u001b[36mlog_data\u001b[0m:\u001b[36m447\u001b[0m - \u001b[1macc 0.816791 \t|\u001b[0m\n",
      "\u001b[32m2022-06-23 11:56:29.846\u001b[0m | \u001b[1mINFO    \u001b[0m | \u001b[36msrc.beam.experiment\u001b[0m:\u001b[36mlog_data\u001b[0m:\u001b[36m447\u001b[0m - \u001b[1mlr 0.001 \t|\u001b[0m\n",
      "\u001b[32m2022-06-23 11:56:29.847\u001b[0m | \u001b[1mINFO    \u001b[0m | \u001b[36msrc.beam.experiment\u001b[0m:\u001b[36mlog_data\u001b[0m:\u001b[36m443\u001b[0m - \u001b[1mvalidation:\u001b[0m\n",
      "\u001b[32m2022-06-23 11:56:29.847\u001b[0m | \u001b[1mINFO    \u001b[0m | \u001b[36msrc.beam.experiment\u001b[0m:\u001b[36mlog_data\u001b[0m:\u001b[36m447\u001b[0m - \u001b[1mloss nan \t|\u001b[0m\n",
      "\u001b[32m2022-06-23 11:56:29.848\u001b[0m | \u001b[1mINFO    \u001b[0m | \u001b[36msrc.beam.experiment\u001b[0m:\u001b[36mlog_data\u001b[0m:\u001b[36m447\u001b[0m - \u001b[1macc 0.832558 \t|\u001b[0m\n"
     ]
    },
    {
     "data": {
      "application/vnd.jupyter.widget-view+json": {
       "model_id": "32108170474740259e914711f863429a",
       "version_major": 2,
       "version_minor": 0
      },
      "text/plain": [
       "train:   0%|          | 0/1360 [00:00<?, ?it/s]"
      ]
     },
     "metadata": {},
     "output_type": "display_data"
    },
    {
     "data": {
      "application/vnd.jupyter.widget-view+json": {
       "model_id": "011898b03fca461487fa468f11e35fbd",
       "version_major": 2,
       "version_minor": 0
      },
      "text/plain": [
       "validation:   0%|          | 0/452 [00:00<?, ?it/s]"
      ]
     },
     "metadata": {},
     "output_type": "display_data"
    },
    {
     "name": "stdout",
     "output_type": "stream",
     "text": [
      "\n",
      "\u001b[32m2022-06-23 12:03:08.504\u001b[0m | \u001b[1mINFO    \u001b[0m | \u001b[36msrc.beam.experiment\u001b[0m:\u001b[36msave_model_results\u001b[0m:\u001b[36m397\u001b[0m - \u001b[1mFinished epoch 3/100:\u001b[0m\n",
      "\u001b[32m2022-06-23 12:03:08.515\u001b[0m | \u001b[1mINFO    \u001b[0m | \u001b[36msrc.beam.experiment\u001b[0m:\u001b[36mlog_data\u001b[0m:\u001b[36m443\u001b[0m - \u001b[1mtrain:\u001b[0m\n",
      "\u001b[32m2022-06-23 12:03:08.517\u001b[0m | \u001b[1mINFO    \u001b[0m | \u001b[36msrc.beam.experiment\u001b[0m:\u001b[36mlog_data\u001b[0m:\u001b[36m447\u001b[0m - \u001b[1mloss 139.599 \t|\u001b[0m\n",
      "\u001b[32m2022-06-23 12:03:08.525\u001b[0m | \u001b[1mINFO    \u001b[0m | \u001b[36msrc.beam.experiment\u001b[0m:\u001b[36mlog_data\u001b[0m:\u001b[36m447\u001b[0m - \u001b[1macc 0.870749 \t|\u001b[0m\n",
      "\u001b[32m2022-06-23 12:03:08.527\u001b[0m | \u001b[1mINFO    \u001b[0m | \u001b[36msrc.beam.experiment\u001b[0m:\u001b[36mlog_data\u001b[0m:\u001b[36m447\u001b[0m - \u001b[1mlr 0.001 \t|\u001b[0m\n",
      "\u001b[32m2022-06-23 12:03:08.529\u001b[0m | \u001b[1mINFO    \u001b[0m | \u001b[36msrc.beam.experiment\u001b[0m:\u001b[36mlog_data\u001b[0m:\u001b[36m443\u001b[0m - \u001b[1mvalidation:\u001b[0m\n",
      "\u001b[32m2022-06-23 12:03:08.531\u001b[0m | \u001b[1mINFO    \u001b[0m | \u001b[36msrc.beam.experiment\u001b[0m:\u001b[36mlog_data\u001b[0m:\u001b[36m447\u001b[0m - \u001b[1mloss nan \t|\u001b[0m\n",
      "\u001b[32m2022-06-23 12:03:08.532\u001b[0m | \u001b[1mINFO    \u001b[0m | \u001b[36msrc.beam.experiment\u001b[0m:\u001b[36mlog_data\u001b[0m:\u001b[36m447\u001b[0m - \u001b[1macc 0.863834 \t|\u001b[0m\n"
     ]
    },
    {
     "data": {
      "application/vnd.jupyter.widget-view+json": {
       "model_id": "94c43c1e18c041bba75f62a5663b78b7",
       "version_major": 2,
       "version_minor": 0
      },
      "text/plain": [
       "train:   0%|          | 0/1360 [00:00<?, ?it/s]"
      ]
     },
     "metadata": {},
     "output_type": "display_data"
    },
    {
     "data": {
      "application/vnd.jupyter.widget-view+json": {
       "model_id": "82a4ef91407f4953ab2da80c639c6a0a",
       "version_major": 2,
       "version_minor": 0
      },
      "text/plain": [
       "validation:   0%|          | 0/452 [00:00<?, ?it/s]"
      ]
     },
     "metadata": {},
     "output_type": "display_data"
    },
    {
     "name": "stdout",
     "output_type": "stream",
     "text": [
      "\n",
      "\u001b[32m2022-06-23 12:08:59.802\u001b[0m | \u001b[1mINFO    \u001b[0m | \u001b[36msrc.beam.experiment\u001b[0m:\u001b[36msave_model_results\u001b[0m:\u001b[36m397\u001b[0m - \u001b[1mFinished epoch 4/100:\u001b[0m\n",
      "\u001b[32m2022-06-23 12:08:59.808\u001b[0m | \u001b[1mINFO    \u001b[0m | \u001b[36msrc.beam.experiment\u001b[0m:\u001b[36mlog_data\u001b[0m:\u001b[36m443\u001b[0m - \u001b[1mtrain:\u001b[0m\n",
      "\u001b[32m2022-06-23 12:08:59.810\u001b[0m | \u001b[1mINFO    \u001b[0m | \u001b[36msrc.beam.experiment\u001b[0m:\u001b[36mlog_data\u001b[0m:\u001b[36m447\u001b[0m - \u001b[1mloss nan \t|\u001b[0m\n",
      "\u001b[32m2022-06-23 12:08:59.811\u001b[0m | \u001b[1mINFO    \u001b[0m | \u001b[36msrc.beam.experiment\u001b[0m:\u001b[36mlog_data\u001b[0m:\u001b[36m447\u001b[0m - \u001b[1macc 0.895735 \t|\u001b[0m\n",
      "\u001b[32m2022-06-23 12:08:59.813\u001b[0m | \u001b[1mINFO    \u001b[0m | \u001b[36msrc.beam.experiment\u001b[0m:\u001b[36mlog_data\u001b[0m:\u001b[36m447\u001b[0m - \u001b[1mlr 0.001 \t|\u001b[0m\n",
      "\u001b[32m2022-06-23 12:08:59.815\u001b[0m | \u001b[1mINFO    \u001b[0m | \u001b[36msrc.beam.experiment\u001b[0m:\u001b[36mlog_data\u001b[0m:\u001b[36m443\u001b[0m - \u001b[1mvalidation:\u001b[0m\n",
      "\u001b[32m2022-06-23 12:08:59.817\u001b[0m | \u001b[1mINFO    \u001b[0m | \u001b[36msrc.beam.experiment\u001b[0m:\u001b[36mlog_data\u001b[0m:\u001b[36m447\u001b[0m - \u001b[1mloss nan \t|\u001b[0m\n",
      "\u001b[32m2022-06-23 12:08:59.820\u001b[0m | \u001b[1mINFO    \u001b[0m | \u001b[36msrc.beam.experiment\u001b[0m:\u001b[36mlog_data\u001b[0m:\u001b[36m447\u001b[0m - \u001b[1macc 0 \t|\u001b[0m\n"
     ]
    },
    {
     "data": {
      "application/vnd.jupyter.widget-view+json": {
       "model_id": "188f826e07da4d9dad44e583ea306277",
       "version_major": 2,
       "version_minor": 0
      },
      "text/plain": [
       "train:   0%|          | 0/1360 [00:00<?, ?it/s]"
      ]
     },
     "metadata": {},
     "output_type": "display_data"
    },
    {
     "data": {
      "application/vnd.jupyter.widget-view+json": {
       "model_id": "208178cdcc7a4288b06283eaac43de1f",
       "version_major": 2,
       "version_minor": 0
      },
      "text/plain": [
       "validation:   0%|          | 0/452 [00:00<?, ?it/s]"
      ]
     },
     "metadata": {},
     "output_type": "display_data"
    },
    {
     "name": "stdout",
     "output_type": "stream",
     "text": [
      "\n",
      "\u001b[32m2022-06-23 12:14:43.038\u001b[0m | \u001b[1mINFO    \u001b[0m | \u001b[36msrc.beam.experiment\u001b[0m:\u001b[36msave_model_results\u001b[0m:\u001b[36m397\u001b[0m - \u001b[1mFinished epoch 5/100:\u001b[0m\n",
      "\u001b[32m2022-06-23 12:14:43.057\u001b[0m | \u001b[1mINFO    \u001b[0m | \u001b[36msrc.beam.experiment\u001b[0m:\u001b[36mlog_data\u001b[0m:\u001b[36m443\u001b[0m - \u001b[1mtrain:\u001b[0m\n",
      "\u001b[32m2022-06-23 12:14:43.058\u001b[0m | \u001b[1mINFO    \u001b[0m | \u001b[36msrc.beam.experiment\u001b[0m:\u001b[36mlog_data\u001b[0m:\u001b[36m447\u001b[0m - \u001b[1mloss nan \t|\u001b[0m\n",
      "\u001b[32m2022-06-23 12:14:43.060\u001b[0m | \u001b[1mINFO    \u001b[0m | \u001b[36msrc.beam.experiment\u001b[0m:\u001b[36mlog_data\u001b[0m:\u001b[36m447\u001b[0m - \u001b[1macc 0.903142 \t|\u001b[0m\n",
      "\u001b[32m2022-06-23 12:14:43.060\u001b[0m | \u001b[1mINFO    \u001b[0m | \u001b[36msrc.beam.experiment\u001b[0m:\u001b[36mlog_data\u001b[0m:\u001b[36m447\u001b[0m - \u001b[1mlr 0.001 \t|\u001b[0m\n",
      "\u001b[32m2022-06-23 12:14:43.062\u001b[0m | \u001b[1mINFO    \u001b[0m | \u001b[36msrc.beam.experiment\u001b[0m:\u001b[36mlog_data\u001b[0m:\u001b[36m443\u001b[0m - \u001b[1mvalidation:\u001b[0m\n",
      "\u001b[32m2022-06-23 12:14:43.063\u001b[0m | \u001b[1mINFO    \u001b[0m | \u001b[36msrc.beam.experiment\u001b[0m:\u001b[36mlog_data\u001b[0m:\u001b[36m447\u001b[0m - \u001b[1mloss nan \t|\u001b[0m\n",
      "\u001b[32m2022-06-23 12:14:43.064\u001b[0m | \u001b[1mINFO    \u001b[0m | \u001b[36msrc.beam.experiment\u001b[0m:\u001b[36mlog_data\u001b[0m:\u001b[36m447\u001b[0m - \u001b[1macc 0 \t|\u001b[0m\n"
     ]
    },
    {
     "data": {
      "application/vnd.jupyter.widget-view+json": {
       "model_id": "8130c6e94a9a434abae598ae6d398df3",
       "version_major": 2,
       "version_minor": 0
      },
      "text/plain": [
       "train:   0%|          | 0/1360 [00:00<?, ?it/s]"
      ]
     },
     "metadata": {},
     "output_type": "display_data"
    },
    {
     "ename": "KeyboardInterrupt",
     "evalue": "",
     "output_type": "error",
     "traceback": [
      "\u001b[0;31m---------------------------------------------------------------------------\u001b[0m",
      "\u001b[0;31mKeyboardInterrupt\u001b[0m                         Traceback (most recent call last)",
      "\u001b[0;32m/tmp/ipykernel_44157/687347007.py\u001b[0m in \u001b[0;36m<cell line: 1>\u001b[0;34m()\u001b[0m\n\u001b[0;32m----> 1\u001b[0;31m \u001b[0malg\u001b[0m \u001b[0;34m=\u001b[0m \u001b[0mexperiment\u001b[0m\u001b[0;34m(\u001b[0m\u001b[0mcovtype_algorithm_generator\u001b[0m\u001b[0;34m)\u001b[0m\u001b[0;34m\u001b[0m\u001b[0;34m\u001b[0m\u001b[0m\n\u001b[0m",
      "\u001b[0;32m/home/elad/docker/beamds/notebooks/../src/beam/experiment.py\u001b[0m in \u001b[0;36m__call__\u001b[0;34m(self, algorithm_generator, return_results, reload_results, tensorboard_arguments, *args, **kwargs)\u001b[0m\n\u001b[1;32m    490\u001b[0m                   tensorboard_arguments=None, **kwargs):\n\u001b[1;32m    491\u001b[0m \u001b[0;34m\u001b[0m\u001b[0m\n\u001b[0;32m--> 492\u001b[0;31m         res = self.run(default_runner, *(algorithm_generator, self, *args),\n\u001b[0m\u001b[1;32m    493\u001b[0m                        tensorboard_arguments=tensorboard_arguments, **kwargs)\n\u001b[1;32m    494\u001b[0m \u001b[0;34m\u001b[0m\u001b[0m\n",
      "\u001b[0;32m/home/elad/docker/beamds/notebooks/../src/beam/experiment.py\u001b[0m in \u001b[0;36mrun\u001b[0;34m(self, job, *args, **kwargs)\u001b[0m\n\u001b[1;32m    552\u001b[0m         \u001b[0;32melse\u001b[0m\u001b[0;34m:\u001b[0m\u001b[0;34m\u001b[0m\u001b[0;34m\u001b[0m\u001b[0m\n\u001b[1;32m    553\u001b[0m             \u001b[0mlogger\u001b[0m\u001b[0;34m.\u001b[0m\u001b[0minfo\u001b[0m\u001b[0;34m(\u001b[0m\u001b[0;34mf'Single worker mode'\u001b[0m\u001b[0;34m)\u001b[0m\u001b[0;34m\u001b[0m\u001b[0;34m\u001b[0m\u001b[0m\n\u001b[0;32m--> 554\u001b[0;31m             \u001b[0;32mreturn\u001b[0m \u001b[0mrun_worker\u001b[0m\u001b[0;34m(\u001b[0m\u001b[0;36m0\u001b[0m\u001b[0;34m,\u001b[0m \u001b[0;36m1\u001b[0m\u001b[0;34m,\u001b[0m \u001b[0;32mNone\u001b[0m\u001b[0;34m,\u001b[0m \u001b[0;34m*\u001b[0m\u001b[0marguments\u001b[0m\u001b[0;34m,\u001b[0m \u001b[0;34m**\u001b[0m\u001b[0mkwargs\u001b[0m\u001b[0;34m)\u001b[0m\u001b[0;34m\u001b[0m\u001b[0;34m\u001b[0m\u001b[0m\n\u001b[0m\u001b[1;32m    555\u001b[0m \u001b[0;34m\u001b[0m\u001b[0m\n\u001b[1;32m    556\u001b[0m     \u001b[0;32mdef\u001b[0m \u001b[0m__enter__\u001b[0m\u001b[0;34m(\u001b[0m\u001b[0mself\u001b[0m\u001b[0;34m)\u001b[0m\u001b[0;34m:\u001b[0m\u001b[0;34m\u001b[0m\u001b[0;34m\u001b[0m\u001b[0m\n",
      "\u001b[0;32m/home/elad/docker/beamds/notebooks/../src/beam/experiment.py\u001b[0m in \u001b[0;36mrun_worker\u001b[0;34m(rank, world_size, results_queue, job, experiment, *args, **kwargs)\u001b[0m\n\u001b[1;32m     51\u001b[0m     \u001b[0mset_seed\u001b[0m\u001b[0;34m(\u001b[0m\u001b[0mseed\u001b[0m\u001b[0;34m=\u001b[0m\u001b[0mexperiment\u001b[0m\u001b[0;34m.\u001b[0m\u001b[0mseed\u001b[0m\u001b[0;34m,\u001b[0m \u001b[0mconstant\u001b[0m\u001b[0;34m=\u001b[0m\u001b[0mrank\u001b[0m\u001b[0;34m,\u001b[0m \u001b[0mincrement\u001b[0m\u001b[0;34m=\u001b[0m\u001b[0;32mFalse\u001b[0m\u001b[0;34m,\u001b[0m \u001b[0mdeterministic\u001b[0m\u001b[0;34m=\u001b[0m\u001b[0mexperiment\u001b[0m\u001b[0;34m.\u001b[0m\u001b[0mdeterministic\u001b[0m\u001b[0;34m)\u001b[0m\u001b[0;34m\u001b[0m\u001b[0;34m\u001b[0m\u001b[0m\n\u001b[1;32m     52\u001b[0m \u001b[0;34m\u001b[0m\u001b[0m\n\u001b[0;32m---> 53\u001b[0;31m     \u001b[0mres\u001b[0m \u001b[0;34m=\u001b[0m \u001b[0mjob\u001b[0m\u001b[0;34m(\u001b[0m\u001b[0mrank\u001b[0m\u001b[0;34m,\u001b[0m \u001b[0mworld_size\u001b[0m\u001b[0;34m,\u001b[0m \u001b[0mexperiment\u001b[0m\u001b[0;34m,\u001b[0m \u001b[0;34m*\u001b[0m\u001b[0margs\u001b[0m\u001b[0;34m,\u001b[0m \u001b[0;34m**\u001b[0m\u001b[0mkwargs\u001b[0m\u001b[0;34m)\u001b[0m\u001b[0;34m\u001b[0m\u001b[0;34m\u001b[0m\u001b[0m\n\u001b[0m\u001b[1;32m     54\u001b[0m \u001b[0;34m\u001b[0m\u001b[0m\n\u001b[1;32m     55\u001b[0m     \u001b[0;32mif\u001b[0m \u001b[0mworld_size\u001b[0m \u001b[0;34m>\u001b[0m \u001b[0;36m1\u001b[0m\u001b[0;34m:\u001b[0m\u001b[0;34m\u001b[0m\u001b[0;34m\u001b[0m\u001b[0m\n",
      "\u001b[0;32m/home/elad/docker/beamds/notebooks/../src/beam/experiment.py\u001b[0m in \u001b[0;36mdefault_runner\u001b[0;34m(rank, world_size, experiment, algorithm_generator, tensorboard_arguments, *args, **kwargs)\u001b[0m\n\u001b[1;32m     29\u001b[0m \u001b[0;34m\u001b[0m\u001b[0m\n\u001b[1;32m     30\u001b[0m     \u001b[0mexperiment\u001b[0m\u001b[0;34m.\u001b[0m\u001b[0mwriter_control\u001b[0m\u001b[0;34m(\u001b[0m\u001b[0menable\u001b[0m\u001b[0;34m=\u001b[0m\u001b[0;32mnot\u001b[0m \u001b[0;34m(\u001b[0m\u001b[0mbool\u001b[0m\u001b[0;34m(\u001b[0m\u001b[0mrank\u001b[0m\u001b[0;34m)\u001b[0m\u001b[0;34m)\u001b[0m\u001b[0;34m)\u001b[0m\u001b[0;34m\u001b[0m\u001b[0;34m\u001b[0m\u001b[0m\n\u001b[0;32m---> 31\u001b[0;31m     \u001b[0;32mfor\u001b[0m \u001b[0mresults\u001b[0m \u001b[0;32min\u001b[0m \u001b[0miter\u001b[0m\u001b[0;34m(\u001b[0m\u001b[0malg\u001b[0m\u001b[0;34m)\u001b[0m\u001b[0;34m:\u001b[0m\u001b[0;34m\u001b[0m\u001b[0;34m\u001b[0m\u001b[0m\n\u001b[0m\u001b[1;32m     32\u001b[0m         experiment.save_model_results(results, alg,\n\u001b[1;32m     33\u001b[0m                                       \u001b[0mprint_results\u001b[0m\u001b[0;34m=\u001b[0m\u001b[0mexperiment\u001b[0m\u001b[0;34m.\u001b[0m\u001b[0mprint_results\u001b[0m\u001b[0;34m,\u001b[0m\u001b[0;34m\u001b[0m\u001b[0;34m\u001b[0m\u001b[0m\n",
      "\u001b[0;32m/home/elad/docker/beamds/notebooks/../src/beam/algorithm.py\u001b[0m in \u001b[0;36m__iter__\u001b[0;34m(self)\u001b[0m\n\u001b[1;32m    288\u001b[0m \u001b[0;34m\u001b[0m\u001b[0m\n\u001b[1;32m    289\u001b[0m         \u001b[0meval_generator\u001b[0m \u001b[0;34m=\u001b[0m \u001b[0mself\u001b[0m\u001b[0;34m.\u001b[0m\u001b[0minner_loop\u001b[0m\u001b[0;34m(\u001b[0m\u001b[0mself\u001b[0m\u001b[0;34m.\u001b[0m\u001b[0mn_epochs\u001b[0m \u001b[0;34m+\u001b[0m \u001b[0;36m1\u001b[0m\u001b[0;34m,\u001b[0m \u001b[0msubset\u001b[0m\u001b[0;34m=\u001b[0m\u001b[0mself\u001b[0m\u001b[0;34m.\u001b[0m\u001b[0meval_subset\u001b[0m\u001b[0;34m,\u001b[0m \u001b[0mtraining\u001b[0m\u001b[0;34m=\u001b[0m\u001b[0;32mFalse\u001b[0m\u001b[0;34m)\u001b[0m\u001b[0;34m\u001b[0m\u001b[0;34m\u001b[0m\u001b[0m\n\u001b[0;32m--> 290\u001b[0;31m         \u001b[0;32mfor\u001b[0m \u001b[0mi\u001b[0m\u001b[0;34m,\u001b[0m \u001b[0mtrain_results\u001b[0m \u001b[0;32min\u001b[0m \u001b[0menumerate\u001b[0m\u001b[0;34m(\u001b[0m\u001b[0mself\u001b[0m\u001b[0;34m.\u001b[0m\u001b[0minner_loop\u001b[0m\u001b[0;34m(\u001b[0m\u001b[0mself\u001b[0m\u001b[0;34m.\u001b[0m\u001b[0mn_epochs\u001b[0m\u001b[0;34m,\u001b[0m \u001b[0msubset\u001b[0m\u001b[0;34m=\u001b[0m\u001b[0;34m'train'\u001b[0m\u001b[0;34m,\u001b[0m \u001b[0mtraining\u001b[0m\u001b[0;34m=\u001b[0m\u001b[0;32mTrue\u001b[0m\u001b[0;34m)\u001b[0m\u001b[0;34m)\u001b[0m\u001b[0;34m:\u001b[0m\u001b[0;34m\u001b[0m\u001b[0;34m\u001b[0m\u001b[0m\n\u001b[0m\u001b[1;32m    291\u001b[0m \u001b[0;34m\u001b[0m\u001b[0m\n\u001b[1;32m    292\u001b[0m             \u001b[0;32mfor\u001b[0m \u001b[0mk_type\u001b[0m \u001b[0;32min\u001b[0m \u001b[0mtrain_results\u001b[0m\u001b[0;34m.\u001b[0m\u001b[0mkeys\u001b[0m\u001b[0;34m(\u001b[0m\u001b[0;34m)\u001b[0m\u001b[0;34m:\u001b[0m\u001b[0;34m\u001b[0m\u001b[0;34m\u001b[0m\u001b[0m\n",
      "\u001b[0;32m/home/elad/docker/beamds/notebooks/../src/beam/algorithm.py\u001b[0m in \u001b[0;36minner_loop\u001b[0;34m(self, n_epochs, subset, training)\u001b[0m\n\u001b[1;32m    209\u001b[0m                                   desc=subset, total=self.epoch_length[subset] - 1):\n\u001b[1;32m    210\u001b[0m                 \u001b[0;31m# print(i)\u001b[0m\u001b[0;34m\u001b[0m\u001b[0;34m\u001b[0m\u001b[0;34m\u001b[0m\u001b[0m\n\u001b[0;32m--> 211\u001b[0;31m                 \u001b[0maux\u001b[0m\u001b[0;34m,\u001b[0m \u001b[0mresults\u001b[0m \u001b[0;34m=\u001b[0m \u001b[0mself\u001b[0m\u001b[0;34m.\u001b[0m\u001b[0miteration\u001b[0m\u001b[0;34m(\u001b[0m\u001b[0msample\u001b[0m\u001b[0;34m=\u001b[0m\u001b[0msample\u001b[0m\u001b[0;34m,\u001b[0m \u001b[0maux\u001b[0m\u001b[0;34m=\u001b[0m\u001b[0maux\u001b[0m\u001b[0;34m,\u001b[0m \u001b[0mresults\u001b[0m\u001b[0;34m=\u001b[0m\u001b[0mresults\u001b[0m\u001b[0;34m,\u001b[0m \u001b[0msubset\u001b[0m\u001b[0;34m=\u001b[0m\u001b[0msubset\u001b[0m\u001b[0;34m,\u001b[0m \u001b[0mtraining\u001b[0m\u001b[0;34m=\u001b[0m\u001b[0mtraining\u001b[0m\u001b[0;34m)\u001b[0m\u001b[0;34m\u001b[0m\u001b[0;34m\u001b[0m\u001b[0m\n\u001b[0m\u001b[1;32m    212\u001b[0m \u001b[0;34m\u001b[0m\u001b[0m\n\u001b[1;32m    213\u001b[0m             aux, results = self.postprocess_epoch(sample=sample, aux=aux, results=results,\n",
      "\u001b[0;32m/home/elad/docker/beamds/notebooks/../covtype_example.py\u001b[0m in \u001b[0;36miteration\u001b[0;34m(self, sample, aux, results, subset, training)\u001b[0m\n\u001b[1;32m    306\u001b[0m             \u001b[0mloss\u001b[0m \u001b[0;34m=\u001b[0m \u001b[0mF\u001b[0m\u001b[0;34m.\u001b[0m\u001b[0mcross_entropy\u001b[0m\u001b[0;34m(\u001b[0m\u001b[0my_hat\u001b[0m\u001b[0;34m,\u001b[0m \u001b[0my\u001b[0m\u001b[0;34m,\u001b[0m \u001b[0mreduction\u001b[0m\u001b[0;34m=\u001b[0m\u001b[0;34m'sum'\u001b[0m\u001b[0;34m,\u001b[0m \u001b[0mlabel_smoothing\u001b[0m\u001b[0;34m=\u001b[0m\u001b[0mself\u001b[0m\u001b[0;34m.\u001b[0m\u001b[0mlabel_smoothing\u001b[0m\u001b[0;34m)\u001b[0m\u001b[0;34m\u001b[0m\u001b[0;34m\u001b[0m\u001b[0m\n\u001b[1;32m    307\u001b[0m \u001b[0;34m\u001b[0m\u001b[0m\n\u001b[0;32m--> 308\u001b[0;31m         \u001b[0mopt\u001b[0m\u001b[0;34m.\u001b[0m\u001b[0mapply\u001b[0m\u001b[0;34m(\u001b[0m\u001b[0mloss\u001b[0m\u001b[0;34m,\u001b[0m \u001b[0mtraining\u001b[0m\u001b[0;34m=\u001b[0m\u001b[0mtraining\u001b[0m\u001b[0;34m)\u001b[0m\u001b[0;34m\u001b[0m\u001b[0;34m\u001b[0m\u001b[0m\n\u001b[0m\u001b[1;32m    309\u001b[0m \u001b[0;34m\u001b[0m\u001b[0m\n\u001b[1;32m    310\u001b[0m         \u001b[0;31m# add scalar measurements\u001b[0m\u001b[0;34m\u001b[0m\u001b[0;34m\u001b[0m\u001b[0;34m\u001b[0m\u001b[0m\n",
      "\u001b[0;32m/home/elad/docker/beamds/notebooks/../src/beam/model.py\u001b[0m in \u001b[0;36mapply\u001b[0;34m(self, loss, training, set_to_none)\u001b[0m\n\u001b[1;32m    206\u001b[0m \u001b[0;34m\u001b[0m\u001b[0m\n\u001b[1;32m    207\u001b[0m             \u001b[0;32mif\u001b[0m \u001b[0;32mnot\u001b[0m \u001b[0;34m(\u001b[0m\u001b[0mself\u001b[0m\u001b[0;34m.\u001b[0m\u001b[0miteration\u001b[0m \u001b[0;34m%\u001b[0m \u001b[0mself\u001b[0m\u001b[0;34m.\u001b[0m\u001b[0maccumulate\u001b[0m\u001b[0;34m)\u001b[0m\u001b[0;34m:\u001b[0m\u001b[0;34m\u001b[0m\u001b[0;34m\u001b[0m\u001b[0m\n\u001b[0;32m--> 208\u001b[0;31m                 \u001b[0mself\u001b[0m\u001b[0;34m.\u001b[0m\u001b[0mstep\u001b[0m\u001b[0;34m(\u001b[0m\u001b[0;34m)\u001b[0m\u001b[0;34m\u001b[0m\u001b[0;34m\u001b[0m\u001b[0m\n\u001b[0m\u001b[1;32m    209\u001b[0m                 \u001b[0mself\u001b[0m\u001b[0;34m.\u001b[0m\u001b[0mzero_grad\u001b[0m\u001b[0;34m(\u001b[0m\u001b[0mset_to_none\u001b[0m\u001b[0;34m=\u001b[0m\u001b[0mset_to_none\u001b[0m\u001b[0;34m)\u001b[0m\u001b[0;34m\u001b[0m\u001b[0;34m\u001b[0m\u001b[0m\n\u001b[1;32m    210\u001b[0m \u001b[0;34m\u001b[0m\u001b[0m\n",
      "\u001b[0;32m/home/elad/docker/beamds/notebooks/../src/beam/model.py\u001b[0m in \u001b[0;36mstep\u001b[0;34m(self)\u001b[0m\n\u001b[1;32m    212\u001b[0m         \u001b[0;32mfor\u001b[0m \u001b[0mop\u001b[0m \u001b[0;32min\u001b[0m \u001b[0mself\u001b[0m\u001b[0;34m.\u001b[0m\u001b[0moptimizers\u001b[0m\u001b[0;34m.\u001b[0m\u001b[0mvalues\u001b[0m\u001b[0;34m(\u001b[0m\u001b[0;34m)\u001b[0m\u001b[0;34m:\u001b[0m\u001b[0;34m\u001b[0m\u001b[0;34m\u001b[0m\u001b[0m\n\u001b[1;32m    213\u001b[0m             \u001b[0;32mif\u001b[0m \u001b[0mself\u001b[0m\u001b[0;34m.\u001b[0m\u001b[0mamp\u001b[0m\u001b[0;34m:\u001b[0m\u001b[0;34m\u001b[0m\u001b[0;34m\u001b[0m\u001b[0m\n\u001b[0;32m--> 214\u001b[0;31m                 \u001b[0mself\u001b[0m\u001b[0;34m.\u001b[0m\u001b[0mscaler\u001b[0m\u001b[0;34m.\u001b[0m\u001b[0mstep\u001b[0m\u001b[0;34m(\u001b[0m\u001b[0mop\u001b[0m\u001b[0;34m)\u001b[0m\u001b[0;34m\u001b[0m\u001b[0;34m\u001b[0m\u001b[0m\n\u001b[0m\u001b[1;32m    215\u001b[0m             \u001b[0;32melse\u001b[0m\u001b[0;34m:\u001b[0m\u001b[0;34m\u001b[0m\u001b[0;34m\u001b[0m\u001b[0m\n\u001b[1;32m    216\u001b[0m                 \u001b[0mop\u001b[0m\u001b[0;34m.\u001b[0m\u001b[0mstep\u001b[0m\u001b[0;34m(\u001b[0m\u001b[0;34m)\u001b[0m\u001b[0;34m\u001b[0m\u001b[0;34m\u001b[0m\u001b[0m\n",
      "\u001b[0;32m/opt/conda/lib/python3.8/site-packages/torch/cuda/amp/grad_scaler.py\u001b[0m in \u001b[0;36mstep\u001b[0;34m(self, optimizer, *args, **kwargs)\u001b[0m\n\u001b[1;32m    336\u001b[0m         \u001b[0;32massert\u001b[0m \u001b[0mlen\u001b[0m\u001b[0;34m(\u001b[0m\u001b[0moptimizer_state\u001b[0m\u001b[0;34m[\u001b[0m\u001b[0;34m\"found_inf_per_device\"\u001b[0m\u001b[0;34m]\u001b[0m\u001b[0;34m)\u001b[0m \u001b[0;34m>\u001b[0m \u001b[0;36m0\u001b[0m\u001b[0;34m,\u001b[0m \u001b[0;34m\"No inf checks were recorded for this optimizer.\"\u001b[0m\u001b[0;34m\u001b[0m\u001b[0;34m\u001b[0m\u001b[0m\n\u001b[1;32m    337\u001b[0m \u001b[0;34m\u001b[0m\u001b[0m\n\u001b[0;32m--> 338\u001b[0;31m         \u001b[0mretval\u001b[0m \u001b[0;34m=\u001b[0m \u001b[0mself\u001b[0m\u001b[0;34m.\u001b[0m\u001b[0m_maybe_opt_step\u001b[0m\u001b[0;34m(\u001b[0m\u001b[0moptimizer\u001b[0m\u001b[0;34m,\u001b[0m \u001b[0moptimizer_state\u001b[0m\u001b[0;34m,\u001b[0m \u001b[0;34m*\u001b[0m\u001b[0margs\u001b[0m\u001b[0;34m,\u001b[0m \u001b[0;34m**\u001b[0m\u001b[0mkwargs\u001b[0m\u001b[0;34m)\u001b[0m\u001b[0;34m\u001b[0m\u001b[0;34m\u001b[0m\u001b[0m\n\u001b[0m\u001b[1;32m    339\u001b[0m \u001b[0;34m\u001b[0m\u001b[0m\n\u001b[1;32m    340\u001b[0m         \u001b[0moptimizer_state\u001b[0m\u001b[0;34m[\u001b[0m\u001b[0;34m\"stage\"\u001b[0m\u001b[0;34m]\u001b[0m \u001b[0;34m=\u001b[0m \u001b[0mOptState\u001b[0m\u001b[0;34m.\u001b[0m\u001b[0mSTEPPED\u001b[0m\u001b[0;34m\u001b[0m\u001b[0;34m\u001b[0m\u001b[0m\n",
      "\u001b[0;32m/opt/conda/lib/python3.8/site-packages/torch/cuda/amp/grad_scaler.py\u001b[0m in \u001b[0;36m_maybe_opt_step\u001b[0;34m(self, optimizer, optimizer_state, *args, **kwargs)\u001b[0m\n\u001b[1;32m    282\u001b[0m     \u001b[0;32mdef\u001b[0m \u001b[0m_maybe_opt_step\u001b[0m\u001b[0;34m(\u001b[0m\u001b[0mself\u001b[0m\u001b[0;34m,\u001b[0m \u001b[0moptimizer\u001b[0m\u001b[0;34m,\u001b[0m \u001b[0moptimizer_state\u001b[0m\u001b[0;34m,\u001b[0m \u001b[0;34m*\u001b[0m\u001b[0margs\u001b[0m\u001b[0;34m,\u001b[0m \u001b[0;34m**\u001b[0m\u001b[0mkwargs\u001b[0m\u001b[0;34m)\u001b[0m\u001b[0;34m:\u001b[0m\u001b[0;34m\u001b[0m\u001b[0;34m\u001b[0m\u001b[0m\n\u001b[1;32m    283\u001b[0m         \u001b[0mretval\u001b[0m \u001b[0;34m=\u001b[0m \u001b[0;32mNone\u001b[0m\u001b[0;34m\u001b[0m\u001b[0;34m\u001b[0m\u001b[0m\n\u001b[0;32m--> 284\u001b[0;31m         \u001b[0;32mif\u001b[0m \u001b[0;32mnot\u001b[0m \u001b[0msum\u001b[0m\u001b[0;34m(\u001b[0m\u001b[0mv\u001b[0m\u001b[0;34m.\u001b[0m\u001b[0mitem\u001b[0m\u001b[0;34m(\u001b[0m\u001b[0;34m)\u001b[0m \u001b[0;32mfor\u001b[0m \u001b[0mv\u001b[0m \u001b[0;32min\u001b[0m \u001b[0moptimizer_state\u001b[0m\u001b[0;34m[\u001b[0m\u001b[0;34m\"found_inf_per_device\"\u001b[0m\u001b[0;34m]\u001b[0m\u001b[0;34m.\u001b[0m\u001b[0mvalues\u001b[0m\u001b[0;34m(\u001b[0m\u001b[0;34m)\u001b[0m\u001b[0;34m)\u001b[0m\u001b[0;34m:\u001b[0m\u001b[0;34m\u001b[0m\u001b[0;34m\u001b[0m\u001b[0m\n\u001b[0m\u001b[1;32m    285\u001b[0m             \u001b[0mretval\u001b[0m \u001b[0;34m=\u001b[0m \u001b[0moptimizer\u001b[0m\u001b[0;34m.\u001b[0m\u001b[0mstep\u001b[0m\u001b[0;34m(\u001b[0m\u001b[0;34m*\u001b[0m\u001b[0margs\u001b[0m\u001b[0;34m,\u001b[0m \u001b[0;34m**\u001b[0m\u001b[0mkwargs\u001b[0m\u001b[0;34m)\u001b[0m\u001b[0;34m\u001b[0m\u001b[0;34m\u001b[0m\u001b[0m\n\u001b[1;32m    286\u001b[0m         \u001b[0;32mreturn\u001b[0m \u001b[0mretval\u001b[0m\u001b[0;34m\u001b[0m\u001b[0;34m\u001b[0m\u001b[0m\n",
      "\u001b[0;32m/opt/conda/lib/python3.8/site-packages/torch/cuda/amp/grad_scaler.py\u001b[0m in \u001b[0;36m<genexpr>\u001b[0;34m(.0)\u001b[0m\n\u001b[1;32m    282\u001b[0m     \u001b[0;32mdef\u001b[0m \u001b[0m_maybe_opt_step\u001b[0m\u001b[0;34m(\u001b[0m\u001b[0mself\u001b[0m\u001b[0;34m,\u001b[0m \u001b[0moptimizer\u001b[0m\u001b[0;34m,\u001b[0m \u001b[0moptimizer_state\u001b[0m\u001b[0;34m,\u001b[0m \u001b[0;34m*\u001b[0m\u001b[0margs\u001b[0m\u001b[0;34m,\u001b[0m \u001b[0;34m**\u001b[0m\u001b[0mkwargs\u001b[0m\u001b[0;34m)\u001b[0m\u001b[0;34m:\u001b[0m\u001b[0;34m\u001b[0m\u001b[0;34m\u001b[0m\u001b[0m\n\u001b[1;32m    283\u001b[0m         \u001b[0mretval\u001b[0m \u001b[0;34m=\u001b[0m \u001b[0;32mNone\u001b[0m\u001b[0;34m\u001b[0m\u001b[0;34m\u001b[0m\u001b[0m\n\u001b[0;32m--> 284\u001b[0;31m         \u001b[0;32mif\u001b[0m \u001b[0;32mnot\u001b[0m \u001b[0msum\u001b[0m\u001b[0;34m(\u001b[0m\u001b[0mv\u001b[0m\u001b[0;34m.\u001b[0m\u001b[0mitem\u001b[0m\u001b[0;34m(\u001b[0m\u001b[0;34m)\u001b[0m \u001b[0;32mfor\u001b[0m \u001b[0mv\u001b[0m \u001b[0;32min\u001b[0m \u001b[0moptimizer_state\u001b[0m\u001b[0;34m[\u001b[0m\u001b[0;34m\"found_inf_per_device\"\u001b[0m\u001b[0;34m]\u001b[0m\u001b[0;34m.\u001b[0m\u001b[0mvalues\u001b[0m\u001b[0;34m(\u001b[0m\u001b[0;34m)\u001b[0m\u001b[0;34m)\u001b[0m\u001b[0;34m:\u001b[0m\u001b[0;34m\u001b[0m\u001b[0;34m\u001b[0m\u001b[0m\n\u001b[0m\u001b[1;32m    285\u001b[0m             \u001b[0mretval\u001b[0m \u001b[0;34m=\u001b[0m \u001b[0moptimizer\u001b[0m\u001b[0;34m.\u001b[0m\u001b[0mstep\u001b[0m\u001b[0;34m(\u001b[0m\u001b[0;34m*\u001b[0m\u001b[0margs\u001b[0m\u001b[0;34m,\u001b[0m \u001b[0;34m**\u001b[0m\u001b[0mkwargs\u001b[0m\u001b[0;34m)\u001b[0m\u001b[0;34m\u001b[0m\u001b[0;34m\u001b[0m\u001b[0m\n\u001b[1;32m    286\u001b[0m         \u001b[0;32mreturn\u001b[0m \u001b[0mretval\u001b[0m\u001b[0;34m\u001b[0m\u001b[0;34m\u001b[0m\u001b[0m\n",
      "\u001b[0;31mKeyboardInterrupt\u001b[0m: "
     ]
    }
   ],
   "source": [
    "alg = experiment(covtype_algorithm_generator)"
   ]
  },
  {
   "cell_type": "markdown",
   "id": "14dbe868-1d2f-4b9d-ba80-c139b47184b6",
   "metadata": {},
   "source": [
    "## Hyperparameter optimization with ray and optuna"
   ]
  },
  {
   "cell_type": "code",
   "execution_count": 3,
   "id": "8a235663-acb0-47a7-9ede-9355060c11ac",
   "metadata": {},
   "outputs": [
    {
     "name": "stdout",
     "output_type": "stream",
     "text": [
      "\u001b[32m2022-06-23 16:26:10.599\u001b[0m | \u001b[1mINFO    \u001b[0m | \u001b[36msrc.beam.experiment\u001b[0m:\u001b[36m__init__\u001b[0m:\u001b[36m82\u001b[0m - \u001b[1mHyperparameter Optimization\u001b[0m\n",
      "\u001b[32m2022-06-23 16:26:10.600\u001b[0m | \u001b[1mINFO    \u001b[0m | \u001b[36msrc.beam.experiment\u001b[0m:\u001b[36m__init__\u001b[0m:\u001b[36m83\u001b[0m - \u001b[1mbeam project: covtype\u001b[0m\n",
      "\u001b[32m2022-06-23 16:26:10.601\u001b[0m | \u001b[1mINFO    \u001b[0m | \u001b[36msrc.beam.experiment\u001b[0m:\u001b[36m__init__\u001b[0m:\u001b[36m84\u001b[0m - \u001b[1mExperiment Hyperparameters\u001b[0m\n",
      "\u001b[32m2022-06-23 16:26:10.601\u001b[0m | \u001b[1mINFO    \u001b[0m | \u001b[36msrc.beam.experiment\u001b[0m:\u001b[36m__init__\u001b[0m:\u001b[36m87\u001b[0m - \u001b[1mproject_name: covtype\u001b[0m\n",
      "\u001b[32m2022-06-23 16:26:10.602\u001b[0m | \u001b[1mINFO    \u001b[0m | \u001b[36msrc.beam.experiment\u001b[0m:\u001b[36m__init__\u001b[0m:\u001b[36m87\u001b[0m - \u001b[1midentifier: debug_hp_optimization_20220623_162610\u001b[0m\n",
      "\u001b[32m2022-06-23 16:26:10.602\u001b[0m | \u001b[1mINFO    \u001b[0m | \u001b[36msrc.beam.experiment\u001b[0m:\u001b[36m__init__\u001b[0m:\u001b[36m87\u001b[0m - \u001b[1malgorithm: CovtypeAlgorithm\u001b[0m\n",
      "\u001b[32m2022-06-23 16:26:10.603\u001b[0m | \u001b[1mINFO    \u001b[0m | \u001b[36msrc.beam.experiment\u001b[0m:\u001b[36m__init__\u001b[0m:\u001b[36m87\u001b[0m - \u001b[1mmp_port: None\u001b[0m\n",
      "\u001b[32m2022-06-23 16:26:10.603\u001b[0m | \u001b[1mINFO    \u001b[0m | \u001b[36msrc.beam.experiment\u001b[0m:\u001b[36m__init__\u001b[0m:\u001b[36m87\u001b[0m - \u001b[1mroot_dir: /home/shared/data/results/covtype\u001b[0m\n",
      "\u001b[32m2022-06-23 16:26:10.603\u001b[0m | \u001b[1mINFO    \u001b[0m | \u001b[36msrc.beam.experiment\u001b[0m:\u001b[36m__init__\u001b[0m:\u001b[36m87\u001b[0m - \u001b[1mreload: False\u001b[0m\n",
      "\u001b[32m2022-06-23 16:26:10.604\u001b[0m | \u001b[1mINFO    \u001b[0m | \u001b[36msrc.beam.experiment\u001b[0m:\u001b[36m__init__\u001b[0m:\u001b[36m87\u001b[0m - \u001b[1mresume: -1\u001b[0m\n",
      "\u001b[32m2022-06-23 16:26:10.604\u001b[0m | \u001b[1mINFO    \u001b[0m | \u001b[36msrc.beam.experiment\u001b[0m:\u001b[36m__init__\u001b[0m:\u001b[36m87\u001b[0m - \u001b[1moverride: False\u001b[0m\n",
      "\u001b[32m2022-06-23 16:26:10.605\u001b[0m | \u001b[1mINFO    \u001b[0m | \u001b[36msrc.beam.experiment\u001b[0m:\u001b[36m__init__\u001b[0m:\u001b[36m87\u001b[0m - \u001b[1mcpu_workers: 0\u001b[0m\n",
      "\u001b[32m2022-06-23 16:26:10.605\u001b[0m | \u001b[1mINFO    \u001b[0m | \u001b[36msrc.beam.experiment\u001b[0m:\u001b[36m__init__\u001b[0m:\u001b[36m87\u001b[0m - \u001b[1mdevice: 0\u001b[0m\n",
      "\u001b[32m2022-06-23 16:26:10.606\u001b[0m | \u001b[1mINFO    \u001b[0m | \u001b[36msrc.beam.experiment\u001b[0m:\u001b[36m__init__\u001b[0m:\u001b[36m87\u001b[0m - \u001b[1mparallel: 1\u001b[0m\n",
      "\u001b[32m2022-06-23 16:26:10.606\u001b[0m | \u001b[1mINFO    \u001b[0m | \u001b[36msrc.beam.experiment\u001b[0m:\u001b[36m__init__\u001b[0m:\u001b[36m87\u001b[0m - \u001b[1mtensorboard: True\u001b[0m\n",
      "\u001b[32m2022-06-23 16:26:10.606\u001b[0m | \u001b[1mINFO    \u001b[0m | \u001b[36msrc.beam.experiment\u001b[0m:\u001b[36m__init__\u001b[0m:\u001b[36m87\u001b[0m - \u001b[1mlognet: True\u001b[0m\n",
      "\u001b[32m2022-06-23 16:26:10.607\u001b[0m | \u001b[1mINFO    \u001b[0m | \u001b[36msrc.beam.experiment\u001b[0m:\u001b[36m__init__\u001b[0m:\u001b[36m87\u001b[0m - \u001b[1mdeterministic: False\u001b[0m\n",
      "\u001b[32m2022-06-23 16:26:10.607\u001b[0m | \u001b[1mINFO    \u001b[0m | \u001b[36msrc.beam.experiment\u001b[0m:\u001b[36m__init__\u001b[0m:\u001b[36m87\u001b[0m - \u001b[1mscale_epoch_by_batch_size: True\u001b[0m\n",
      "\u001b[32m2022-06-23 16:26:10.608\u001b[0m | \u001b[1mINFO    \u001b[0m | \u001b[36msrc.beam.experiment\u001b[0m:\u001b[36m__init__\u001b[0m:\u001b[36m87\u001b[0m - \u001b[1mcudnn_benchmark: True\u001b[0m\n",
      "\u001b[32m2022-06-23 16:26:10.608\u001b[0m | \u001b[1mINFO    \u001b[0m | \u001b[36msrc.beam.experiment\u001b[0m:\u001b[36m__init__\u001b[0m:\u001b[36m87\u001b[0m - \u001b[1mhalf: False\u001b[0m\n",
      "\u001b[32m2022-06-23 16:26:10.609\u001b[0m | \u001b[1mINFO    \u001b[0m | \u001b[36msrc.beam.experiment\u001b[0m:\u001b[36m__init__\u001b[0m:\u001b[36m87\u001b[0m - \u001b[1mamp: False\u001b[0m\n",
      "\u001b[32m2022-06-23 16:26:10.609\u001b[0m | \u001b[1mINFO    \u001b[0m | \u001b[36msrc.beam.experiment\u001b[0m:\u001b[36m__init__\u001b[0m:\u001b[36m87\u001b[0m - \u001b[1minit: ortho\u001b[0m\n",
      "\u001b[32m2022-06-23 16:26:10.609\u001b[0m | \u001b[1mINFO    \u001b[0m | \u001b[36msrc.beam.experiment\u001b[0m:\u001b[36m__init__\u001b[0m:\u001b[36m87\u001b[0m - \u001b[1mseed: 0\u001b[0m\n",
      "\u001b[32m2022-06-23 16:26:10.610\u001b[0m | \u001b[1mINFO    \u001b[0m | \u001b[36msrc.beam.experiment\u001b[0m:\u001b[36m__init__\u001b[0m:\u001b[36m87\u001b[0m - \u001b[1mtotal_steps: 1000000\u001b[0m\n",
      "\u001b[32m2022-06-23 16:26:10.610\u001b[0m | \u001b[1mINFO    \u001b[0m | \u001b[36msrc.beam.experiment\u001b[0m:\u001b[36m__init__\u001b[0m:\u001b[36m87\u001b[0m - \u001b[1mepoch_length: None\u001b[0m\n",
      "\u001b[32m2022-06-23 16:26:10.611\u001b[0m | \u001b[1mINFO    \u001b[0m | \u001b[36msrc.beam.experiment\u001b[0m:\u001b[36m__init__\u001b[0m:\u001b[36m87\u001b[0m - \u001b[1mepoch_length_train: None\u001b[0m\n",
      "\u001b[32m2022-06-23 16:26:10.611\u001b[0m | \u001b[1mINFO    \u001b[0m | \u001b[36msrc.beam.experiment\u001b[0m:\u001b[36m__init__\u001b[0m:\u001b[36m87\u001b[0m - \u001b[1mepoch_length_eval: None\u001b[0m\n",
      "\u001b[32m2022-06-23 16:26:10.612\u001b[0m | \u001b[1mINFO    \u001b[0m | \u001b[36msrc.beam.experiment\u001b[0m:\u001b[36m__init__\u001b[0m:\u001b[36m87\u001b[0m - \u001b[1mn_epochs: 40\u001b[0m\n",
      "\u001b[32m2022-06-23 16:26:10.612\u001b[0m | \u001b[1mINFO    \u001b[0m | \u001b[36msrc.beam.experiment\u001b[0m:\u001b[36m__init__\u001b[0m:\u001b[36m87\u001b[0m - \u001b[1mbatch_size: 256\u001b[0m\n",
      "\u001b[32m2022-06-23 16:26:10.612\u001b[0m | \u001b[1mINFO    \u001b[0m | \u001b[36msrc.beam.experiment\u001b[0m:\u001b[36m__init__\u001b[0m:\u001b[36m87\u001b[0m - \u001b[1mbatch_size_train: None\u001b[0m\n",
      "\u001b[32m2022-06-23 16:26:10.613\u001b[0m | \u001b[1mINFO    \u001b[0m | \u001b[36msrc.beam.experiment\u001b[0m:\u001b[36m__init__\u001b[0m:\u001b[36m87\u001b[0m - \u001b[1mbatch_size_eval: None\u001b[0m\n",
      "\u001b[32m2022-06-23 16:26:10.613\u001b[0m | \u001b[1mINFO    \u001b[0m | \u001b[36msrc.beam.experiment\u001b[0m:\u001b[36m__init__\u001b[0m:\u001b[36m87\u001b[0m - \u001b[1mlr_dense: 0.001\u001b[0m\n",
      "\u001b[32m2022-06-23 16:26:10.614\u001b[0m | \u001b[1mINFO    \u001b[0m | \u001b[36msrc.beam.experiment\u001b[0m:\u001b[36m__init__\u001b[0m:\u001b[36m87\u001b[0m - \u001b[1mlr_sparse: 0.01\u001b[0m\n",
      "\u001b[32m2022-06-23 16:26:10.614\u001b[0m | \u001b[1mINFO    \u001b[0m | \u001b[36msrc.beam.experiment\u001b[0m:\u001b[36m__init__\u001b[0m:\u001b[36m87\u001b[0m - \u001b[1mweight_decay: 1e-05\u001b[0m\n",
      "\u001b[32m2022-06-23 16:26:10.614\u001b[0m | \u001b[1mINFO    \u001b[0m | \u001b[36msrc.beam.experiment\u001b[0m:\u001b[36m__init__\u001b[0m:\u001b[36m87\u001b[0m - \u001b[1meps: 0.0001\u001b[0m\n",
      "\u001b[32m2022-06-23 16:26:10.615\u001b[0m | \u001b[1mINFO    \u001b[0m | \u001b[36msrc.beam.experiment\u001b[0m:\u001b[36m__init__\u001b[0m:\u001b[36m87\u001b[0m - \u001b[1mbeta1: 0.9\u001b[0m\n",
      "\u001b[32m2022-06-23 16:26:10.615\u001b[0m | \u001b[1mINFO    \u001b[0m | \u001b[36msrc.beam.experiment\u001b[0m:\u001b[36m__init__\u001b[0m:\u001b[36m87\u001b[0m - \u001b[1mbeta2: 0.999\u001b[0m\n",
      "\u001b[32m2022-06-23 16:26:10.616\u001b[0m | \u001b[1mINFO    \u001b[0m | \u001b[36msrc.beam.experiment\u001b[0m:\u001b[36m__init__\u001b[0m:\u001b[36m87\u001b[0m - \u001b[1mclip: 0.0\u001b[0m\n",
      "\u001b[32m2022-06-23 16:26:10.616\u001b[0m | \u001b[1mINFO    \u001b[0m | \u001b[36msrc.beam.experiment\u001b[0m:\u001b[36m__init__\u001b[0m:\u001b[36m87\u001b[0m - \u001b[1maccumulate: 1\u001b[0m\n",
      "\u001b[32m2022-06-23 16:26:10.617\u001b[0m | \u001b[1mINFO    \u001b[0m | \u001b[36msrc.beam.experiment\u001b[0m:\u001b[36m__init__\u001b[0m:\u001b[36m87\u001b[0m - \u001b[1mprint_results: False\u001b[0m\n",
      "\u001b[32m2022-06-23 16:26:10.617\u001b[0m | \u001b[1mINFO    \u001b[0m | \u001b[36msrc.beam.experiment\u001b[0m:\u001b[36m__init__\u001b[0m:\u001b[36m87\u001b[0m - \u001b[1mvisualize_weights: False\u001b[0m\n",
      "\u001b[32m2022-06-23 16:26:10.617\u001b[0m | \u001b[1mINFO    \u001b[0m | \u001b[36msrc.beam.experiment\u001b[0m:\u001b[36m__init__\u001b[0m:\u001b[36m87\u001b[0m - \u001b[1menable_tqdm: False\u001b[0m\n",
      "\u001b[32m2022-06-23 16:26:10.618\u001b[0m | \u001b[1mINFO    \u001b[0m | \u001b[36msrc.beam.experiment\u001b[0m:\u001b[36m__init__\u001b[0m:\u001b[36m87\u001b[0m - \u001b[1mvisualize_results: yes\u001b[0m\n",
      "\u001b[32m2022-06-23 16:26:10.618\u001b[0m | \u001b[1mINFO    \u001b[0m | \u001b[36msrc.beam.experiment\u001b[0m:\u001b[36m__init__\u001b[0m:\u001b[36m87\u001b[0m - \u001b[1mstore_results: logscale\u001b[0m\n",
      "\u001b[32m2022-06-23 16:26:10.619\u001b[0m | \u001b[1mINFO    \u001b[0m | \u001b[36msrc.beam.experiment\u001b[0m:\u001b[36m__init__\u001b[0m:\u001b[36m87\u001b[0m - \u001b[1mstore_networks: logscale\u001b[0m\n",
      "\u001b[32m2022-06-23 16:26:10.619\u001b[0m | \u001b[1mINFO    \u001b[0m | \u001b[36msrc.beam.experiment\u001b[0m:\u001b[36m__init__\u001b[0m:\u001b[36m87\u001b[0m - \u001b[1mweight_factor: 0.0\u001b[0m\n",
      "\u001b[32m2022-06-23 16:26:10.619\u001b[0m | \u001b[1mINFO    \u001b[0m | \u001b[36msrc.beam.experiment\u001b[0m:\u001b[36m__init__\u001b[0m:\u001b[36m87\u001b[0m - \u001b[1mlabel_smoothing: 0.05\u001b[0m\n",
      "\u001b[32m2022-06-23 16:26:10.620\u001b[0m | \u001b[1mINFO    \u001b[0m | \u001b[36msrc.beam.experiment\u001b[0m:\u001b[36m__init__\u001b[0m:\u001b[36m87\u001b[0m - \u001b[1mactivation: gelu\u001b[0m\n",
      "\u001b[32m2022-06-23 16:26:10.620\u001b[0m | \u001b[1mINFO    \u001b[0m | \u001b[36msrc.beam.experiment\u001b[0m:\u001b[36m__init__\u001b[0m:\u001b[36m87\u001b[0m - \u001b[1mchannels: 128\u001b[0m\n",
      "\u001b[32m2022-06-23 16:26:10.621\u001b[0m | \u001b[1mINFO    \u001b[0m | \u001b[36msrc.beam.experiment\u001b[0m:\u001b[36m__init__\u001b[0m:\u001b[36m87\u001b[0m - \u001b[1mDropout: 0.0\u001b[0m\n",
      "\u001b[32m2022-06-23 16:26:10.621\u001b[0m | \u001b[1mINFO    \u001b[0m | \u001b[36msrc.beam.experiment\u001b[0m:\u001b[36m__init__\u001b[0m:\u001b[36m87\u001b[0m - \u001b[1mn_rules: 64\u001b[0m\n",
      "\u001b[32m2022-06-23 16:26:10.622\u001b[0m | \u001b[1mINFO    \u001b[0m | \u001b[36msrc.beam.experiment\u001b[0m:\u001b[36m__init__\u001b[0m:\u001b[36m87\u001b[0m - \u001b[1mn_layers: 2\u001b[0m\n",
      "\u001b[32m2022-06-23 16:26:10.622\u001b[0m | \u001b[1mINFO    \u001b[0m | \u001b[36msrc.beam.experiment\u001b[0m:\u001b[36m__init__\u001b[0m:\u001b[36m87\u001b[0m - \u001b[1mn_quantiles: 20\u001b[0m\n",
      "\u001b[32m2022-06-23 16:26:10.622\u001b[0m | \u001b[1mINFO    \u001b[0m | \u001b[36msrc.beam.experiment\u001b[0m:\u001b[36m__init__\u001b[0m:\u001b[36m87\u001b[0m - \u001b[1mn_tables: 15\u001b[0m\n",
      "\u001b[32m2022-06-23 16:26:10.623\u001b[0m | \u001b[1mINFO    \u001b[0m | \u001b[36msrc.beam.experiment\u001b[0m:\u001b[36m__init__\u001b[0m:\u001b[36m87\u001b[0m - \u001b[1mscheduler_factor: 0.31622776601683794\u001b[0m\n",
      "\u001b[32m2022-06-23 16:26:10.623\u001b[0m | \u001b[1mINFO    \u001b[0m | \u001b[36msrc.beam.experiment\u001b[0m:\u001b[36m__init__\u001b[0m:\u001b[36m87\u001b[0m - \u001b[1mscheduler_patience: 16\u001b[0m\n",
      "\u001b[32m2022-06-23 16:26:10.624\u001b[0m | \u001b[1mINFO    \u001b[0m | \u001b[36msrc.beam.experiment\u001b[0m:\u001b[36m__init__\u001b[0m:\u001b[36m87\u001b[0m - \u001b[1meval_ensembles: 64\u001b[0m\n",
      "\u001b[32m2022-06-23 16:26:10.624\u001b[0m | \u001b[1mINFO    \u001b[0m | \u001b[36msrc.beam.experiment\u001b[0m:\u001b[36m__init__\u001b[0m:\u001b[36m87\u001b[0m - \u001b[1minitial_mask: 1.0\u001b[0m\n",
      "\u001b[32m2022-06-23 16:26:10.624\u001b[0m | \u001b[1mINFO    \u001b[0m | \u001b[36msrc.beam.experiment\u001b[0m:\u001b[36m__init__\u001b[0m:\u001b[36m87\u001b[0m - \u001b[1mqnorm_momentum: 0.001\u001b[0m\n",
      "\u001b[32m2022-06-23 16:26:10.625\u001b[0m | \u001b[1mINFO    \u001b[0m | \u001b[36msrc.beam.experiment\u001b[0m:\u001b[36m__init__\u001b[0m:\u001b[36m87\u001b[0m - \u001b[1mk_p: 0.05\u001b[0m\n",
      "\u001b[32m2022-06-23 16:26:10.625\u001b[0m | \u001b[1mINFO    \u001b[0m | \u001b[36msrc.beam.experiment\u001b[0m:\u001b[36m__init__\u001b[0m:\u001b[36m87\u001b[0m - \u001b[1mk_i: 0.005\u001b[0m\n",
      "\u001b[32m2022-06-23 16:26:10.626\u001b[0m | \u001b[1mINFO    \u001b[0m | \u001b[36msrc.beam.experiment\u001b[0m:\u001b[36m__init__\u001b[0m:\u001b[36m87\u001b[0m - \u001b[1mk_d: 0.005\u001b[0m\n",
      "\u001b[32m2022-06-23 16:26:10.626\u001b[0m | \u001b[1mINFO    \u001b[0m | \u001b[36msrc.beam.experiment\u001b[0m:\u001b[36m__init__\u001b[0m:\u001b[36m87\u001b[0m - \u001b[1mT_pid: 20\u001b[0m\n",
      "\u001b[32m2022-06-23 16:26:10.627\u001b[0m | \u001b[1mINFO    \u001b[0m | \u001b[36msrc.beam.experiment\u001b[0m:\u001b[36m__init__\u001b[0m:\u001b[36m87\u001b[0m - \u001b[1mclip_pid: 0.005\u001b[0m\n",
      "\u001b[32m2022-06-23 16:26:10.627\u001b[0m | \u001b[1mINFO    \u001b[0m | \u001b[36msrc.beam.experiment\u001b[0m:\u001b[36m__init__\u001b[0m:\u001b[36m87\u001b[0m - \u001b[1mpath_to_data: /home/shared/data/dataset/covtype\u001b[0m\n",
      "\u001b[32m2022-06-23 16:26:10.627\u001b[0m | \u001b[1mINFO    \u001b[0m | \u001b[36msrc.beam.experiment\u001b[0m:\u001b[36m__init__\u001b[0m:\u001b[36m87\u001b[0m - \u001b[1mdropout: 0.0\u001b[0m\n"
     ]
    }
   ],
   "source": [
    "args = beam_arguments(get_covtype_parser(), \n",
    "        f\"--project-name=covtype --root-dir={root_dir} --algorithm=CovtypeAlgorithm --device=0 --no-half --lr-d=1e-3 --batch-size=256\",\n",
    "        \"--n-epochs=40 --clip=0 --parallel=1 --accumulate=1 --cudnn-benchmark\",\n",
    "        \"--weight-decay=1e-5 --beta1=0.9 --beta2=0.999\", label_smoothing=.05, weight_factor=.0,\n",
    "        path_to_data=path_to_data, dropout=.0, activation='gelu', channels=128, n_rules=64, n_layers=2,)\n",
    "\n",
    "study = Study(covtype_algorithm_generator, args)"
   ]
  },
  {
   "cell_type": "code",
   "execution_count": null,
   "id": "963c55ad-277d-478b-979b-bdb3d98e8e68",
   "metadata": {},
   "outputs": [
    {
     "data": {
      "text/html": [
       "== Status ==<br>Current time: 2022-06-23 16:58:45 (running for 00:32:34.55)<br>Memory usage on this node: 35.5/376.6 GiB<br>Using FIFO scheduling algorithm.<br>Resources requested: 2.0/80 CPUs, 2.0/2 GPUs, 0.0/239.07 GiB heap, 0.0/106.45 GiB objects (0.0/1.0 accelerator_type:RTX)<br>Current best trial: 34a16dd8 with mean_accuracy=0.9127748202433629 and parameters={'lr_dense': 0.001229308705800666, 'lr_sparse': 0.05096573481939164, 'dropout': 0.0631249531317693, 'scheduler_factor': 0.15560639057709996, 'scheduler_patience': 16, 'weight_decay': 1.6755550870509108e-06, 'beta1': 0.9, 'beta2': 0.999, 'n_tables': 1, 'n_quantiles': 20, 'weight_factor': 0.5, 'label_smoothing': 0.2, 'channels': 64, 'n_rules': 256, 'n_layers': 2, 'activation': 'gelu', 'k_p': 0.014293516890581295, 'k_i': 0.0020783543227118353, 'k_d': 0.005794117771668259, 'initial_mask': 0.9860534508509635}<br>Result logdir: /root/ray_results/runner_tune_2022-06-23_16-26-10<br>Number of trials: 2/1000 (2 RUNNING)<br><table>\n",
       "<thead>\n",
       "<tr><th>Trial name          </th><th>status  </th><th>loc             </th><th>activation  </th><th style=\"text-align: right;\">  beta1</th><th style=\"text-align: right;\">  beta2</th><th style=\"text-align: right;\">  channels</th><th style=\"text-align: right;\">  dropout</th><th style=\"text-align: right;\">  initial_mask</th><th style=\"text-align: right;\">       k_d</th><th style=\"text-align: right;\">       k_i</th><th style=\"text-align: right;\">      k_p</th><th style=\"text-align: right;\">  label_smoothing</th><th style=\"text-align: right;\">  lr_dense</th><th style=\"text-align: right;\">  lr_sparse</th><th style=\"text-align: right;\">  n_layers</th><th style=\"text-align: right;\">  n_quantiles</th><th style=\"text-align: right;\">  n_rules</th><th style=\"text-align: right;\">  n_tables</th><th style=\"text-align: right;\">  scheduler_factor</th><th style=\"text-align: right;\">  scheduler_patience</th><th style=\"text-align: right;\">  weight_decay</th><th style=\"text-align: right;\">  weight_factor</th><th style=\"text-align: right;\">     acc</th><th style=\"text-align: right;\">  iter</th><th style=\"text-align: right;\">  total time (s)</th></tr>\n",
       "</thead>\n",
       "<tbody>\n",
       "<tr><td>runner_tune_3135cad6</td><td>RUNNING </td><td>172.17.0.7:69962</td><td>celu        </td><td style=\"text-align: right;\">   0.95</td><td style=\"text-align: right;\">  0.999</td><td style=\"text-align: right;\">       256</td><td style=\"text-align: right;\">0.0775723</td><td style=\"text-align: right;\">      0.954624</td><td style=\"text-align: right;\">0.00257663</td><td style=\"text-align: right;\">0.00392462</td><td style=\"text-align: right;\">0.0312595</td><td style=\"text-align: right;\">              0  </td><td style=\"text-align: right;\">0.00216574</td><td style=\"text-align: right;\">  0.0380389</td><td style=\"text-align: right;\">         2</td><td style=\"text-align: right;\">            4</td><td style=\"text-align: right;\">       64</td><td style=\"text-align: right;\">         5</td><td style=\"text-align: right;\">          0.495696</td><td style=\"text-align: right;\">                  16</td><td style=\"text-align: right;\">   2.05277e-05</td><td style=\"text-align: right;\">           0.25</td><td style=\"text-align: right;\">0.906846</td><td style=\"text-align: right;\">    24</td><td style=\"text-align: right;\">         1913.7 </td></tr>\n",
       "<tr><td>runner_tune_34a16dd8</td><td>RUNNING </td><td>172.17.0.7:70000</td><td>gelu        </td><td style=\"text-align: right;\">   0.9 </td><td style=\"text-align: right;\">  0.999</td><td style=\"text-align: right;\">        64</td><td style=\"text-align: right;\">0.063125 </td><td style=\"text-align: right;\">      0.986053</td><td style=\"text-align: right;\">0.00579412</td><td style=\"text-align: right;\">0.00207835</td><td style=\"text-align: right;\">0.0142935</td><td style=\"text-align: right;\">              0.2</td><td style=\"text-align: right;\">0.00122931</td><td style=\"text-align: right;\">  0.0509657</td><td style=\"text-align: right;\">         2</td><td style=\"text-align: right;\">           20</td><td style=\"text-align: right;\">      256</td><td style=\"text-align: right;\">         1</td><td style=\"text-align: right;\">          0.155606</td><td style=\"text-align: right;\">                  16</td><td style=\"text-align: right;\">   1.67556e-06</td><td style=\"text-align: right;\">           0.5 </td><td style=\"text-align: right;\">0.912775</td><td style=\"text-align: right;\">     7</td><td style=\"text-align: right;\">         1811.54</td></tr>\n",
       "</tbody>\n",
       "</table><br><br>"
      ],
      "text/plain": [
       "<IPython.core.display.HTML object>"
      ]
     },
     "metadata": {},
     "output_type": "display_data"
    }
   ],
   "source": [
    "analysis = study.tune(config={\"lr_dense\": tune.loguniform(1e-4, 1e-2),\n",
    "                              \"lr_sparse\": tune.loguniform(1e-3, 1e-1),\n",
    "                              \"dropout\": tune.uniform(.0, .25),\n",
    "                              \"scheduler_factor\": tune.uniform(.1, .5),\n",
    "                              \"scheduler_patience\": tune.choice([12, 16, 20]),\n",
    "                              \"weight_decay\": tune.loguniform(1e-6, 1e-3),\n",
    "                              \"beta1\": tune.choice([.9, .95]),\n",
    "                              \"beta2\": tune.choice([.99, .999]),\n",
    "                              \"n_tables\": tune.choice([1, 5, 15]),\n",
    "                              \"n_quantiles\": tune.choice([4, 10, 20]),\n",
    "                              \"weight_factor\": tune.choice([.0, .25, .5]),\n",
    "                              \"label_smoothing\": tune.choice([.0, .1, .2]),\n",
    "                              \"channels\": tune.choice([64, 128, 256]),\n",
    "                              \"n_rules\": tune.choice([64, 128, 256]),\n",
    "                              \"n_layers\": tune.choice([1, 2]),\n",
    "                              \"activation\": tune.choice(['celu', 'gelu']),\n",
    "                              \"k_p\": tune.loguniform(.01, .1),\n",
    "                              \"k_i\": tune.loguniform(.001, .01),\n",
    "                              \"k_d\": tune.loguniform(.001, .01),\n",
    "                              \"initial_mask\": tune.uniform(.9, 1.),},\n",
    "                       metric=\"mean_accuracy\",\n",
    "                       max_concurrent_trials=2,\n",
    "                       resources_per_trial={\"gpu\": 1},\n",
    "                       mode=\"max\",\n",
    "                       search_alg=OptunaSearch(),\n",
    "                      progress_reporter=JupyterNotebookReporter(overwrite=True),\n",
    "                       num_samples=1000)"
   ]
  },
  {
   "cell_type": "code",
   "execution_count": null,
   "id": "5475b4cf-eb78-4d93-bc38-b3e5fc7ca811",
   "metadata": {},
   "outputs": [],
   "source": []
  }
 ],
 "metadata": {
  "kernelspec": {
   "display_name": "Python 3 (ipykernel)",
   "language": "python",
   "name": "python3"
  },
  "language_info": {
   "codemirror_mode": {
    "name": "ipython",
    "version": 3
   },
   "file_extension": ".py",
   "mimetype": "text/x-python",
   "name": "python",
   "nbconvert_exporter": "python",
   "pygments_lexer": "ipython3",
   "version": "3.8.12"
  }
 },
 "nbformat": 4,
 "nbformat_minor": 5
}
