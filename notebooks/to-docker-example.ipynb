{
 "cells": [
  {
   "cell_type": "code",
   "execution_count": 1,
   "id": "f29bf09c-6433-471d-8a81-90f9b7798ec7",
   "metadata": {},
   "outputs": [
    {
     "name": "stdout",
     "output_type": "stream",
     "text": [
      "Setting up the Beam environment for interactive use\n",
      "Standard modules will be automatically imported so you can use them without explicit import\n",
      "Done importing packages. It took:  4.2 seconds\n",
      "Beam library is loaded from path: /home/elad/docker/beamds/src/beam\n",
      "The Beam version is: 2.5.11\n"
     ]
    }
   ],
   "source": [
    "%load_ext beam_setup"
   ]
  },
  {
   "cell_type": "code",
   "execution_count": 7,
   "id": "b926e3e3-cbad-4729-84c9-8517ddadbf6d",
   "metadata": {},
   "outputs": [],
   "source": [
    "from beam.auto import AutoBeam\n",
    "from beam.serve import beam_server\n",
    "from beam.serve import BeamServeConfig"
   ]
  },
  {
   "cell_type": "markdown",
   "id": "0ef895bc-d93f-4ddb-9da4-f04c109c9c3e",
   "metadata": {},
   "source": [
    "## Build Your Algorithm"
   ]
  },
  {
   "cell_type": "markdown",
   "id": "759df7c3-3d8f-40e1-8314-5e64ec5f2ed5",
   "metadata": {},
   "source": [
    "For the purpose of this demo we will use a fake algorithm that generates some random data"
   ]
  },
  {
   "cell_type": "code",
   "execution_count": 3,
   "id": "7eb6976a-045c-46a3-b137-8ec996606eae",
   "metadata": {},
   "outputs": [],
   "source": [
    "from beam.misc import BeamFakeAlg\n",
    "fake_alg = BeamFakeAlg(sleep_time=1., variance=0.5, error_rate=0.)"
   ]
  },
  {
   "cell_type": "markdown",
   "id": "962dfe6b-bca1-4b45-928d-5d9e7bfc0067",
   "metadata": {},
   "source": [
    "An example interaction with the algorithm"
   ]
  },
  {
   "cell_type": "code",
   "execution_count": 4,
   "id": "be8c177a-31fb-42e6-8e3d-fff73fb9cdf5",
   "metadata": {},
   "outputs": [
    {
     "data": {
      "text/plain": [
       "{'name': 'Linda Rollins',\n",
       " 'email': 'gklein@example.com',\n",
       " 'address': '3898 Werner Mountain\\nLake Ruben, AK 36998'}"
      ]
     },
     "execution_count": 4,
     "metadata": {},
     "output_type": "execute_result"
    }
   ],
   "source": [
    "fake_alg.run('hi')"
   ]
  },
  {
   "cell_type": "markdown",
   "id": "d4da9ddf-dd32-4e64-813e-3b39a6c62c81",
   "metadata": {},
   "source": [
    "## Run a local server "
   ]
  },
  {
   "cell_type": "markdown",
   "id": "f47acad2-49cd-4645-8b9d-0680dbd86cb5",
   "metadata": {},
   "source": [
    "For develpement purposes you generally want to first check your algorithm locally by deploying it on a local http server"
   ]
  },
  {
   "cell_type": "code",
   "execution_count": 10,
   "id": "24883d4b-2d55-4ddf-bf6a-a071f477a8f0",
   "metadata": {},
   "outputs": [],
   "source": [
    "config = BeamServeConfig(port=44044, **{'path-to-bundle': '/app/algorithm'})"
   ]
  },
  {
   "cell_type": "code",
   "execution_count": 11,
   "id": "c2c7b269-ab00-4c8c-89ce-7b511b911e36",
   "metadata": {},
   "outputs": [
    {
     "data": {
      "text/plain": [
       "BeamServeConfig->BeamConfig:\n",
       "\n",
       "Parameters:\n",
       "\n",
       "batch: null\n",
       "debug: false\n",
       "http_backend: waitress\n",
       "max_batch_size: 10\n",
       "max_wait_time: 1.0\n",
       "n_threads: 4\n",
       "non_blocking: false\n",
       "path_to_bundle: /app/algorithm\n",
       "port: 44044\n",
       "protocol: http\n",
       "tls: false\n",
       "use_torch: false"
      ]
     },
     "execution_count": 11,
     "metadata": {},
     "output_type": "execute_result"
    }
   ],
   "source": [
    "config"
   ]
  },
  {
   "cell_type": "code",
   "execution_count": 12,
   "id": "813fb2bb-2854-4d86-beec-a64b2984d8a3",
   "metadata": {},
   "outputs": [
    {
     "data": {
      "text/plain": [
       "<beam.serve.http_server.HTTPServer at 0x7f2e5c2ad7b0>"
      ]
     },
     "execution_count": 12,
     "metadata": {},
     "output_type": "execute_result"
    },
    {
     "name": "stdout",
     "output_type": "stream",
     "text": [
      "\u001b[32m2024-06-24 07:41:21\u001b[0m | BeamLog | \u001b[1mINFO\u001b[0m | \u001b[1mOpening a flask inference serve on port: 44044\u001b[0m\n"
     ]
    }
   ],
   "source": [
    "beam_server(fake_alg, protocol=config.protocol, port=config.port, n_threads=config.n_threads,\n",
    "                use_torch=config.use_torch, batch=config.batch, tls=config.tls,\n",
    "                max_batch_size=config.max_batch_size, max_wait_time=config.max_wait_time,\n",
    "                backend=config.http_backend, non_blocking=True)"
   ]
  },
  {
   "cell_type": "markdown",
   "id": "ccacedc3-d11b-4eb2-8424-d01035f363f3",
   "metadata": {},
   "source": [
    "## Client side"
   ]
  },
  {
   "cell_type": "markdown",
   "id": "5ba77c75-ef9e-4151-b710-30bed390916c",
   "metadata": {},
   "source": [
    "Use beam-client to interact with the server"
   ]
  },
  {
   "cell_type": "code",
   "execution_count": 13,
   "id": "4eeda84a-8308-43c2-adf2-c28240d2e0e5",
   "metadata": {},
   "outputs": [],
   "source": [
    "remote_alg = resource('beam-http://localhost:44044')"
   ]
  },
  {
   "cell_type": "code",
   "execution_count": 14,
   "id": "90287c16-b4ba-4264-a17d-9f53ec4727ba",
   "metadata": {},
   "outputs": [
    {
     "data": {
      "text/plain": [
       "{'name': 'Stephanie Lewis',\n",
       " 'email': 'edwardferguson@example.com',\n",
       " 'address': '96003 James Fords\\nKimbury, PW 69425'}"
      ]
     },
     "execution_count": 14,
     "metadata": {},
     "output_type": "execute_result"
    }
   ],
   "source": [
    "remote_alg.run(123)"
   ]
  },
  {
   "cell_type": "markdown",
   "id": "bd1fb5dc-54b3-4d35-adcd-cbff864a369b",
   "metadata": {},
   "source": [
    "Using native requests"
   ]
  },
  {
   "cell_type": "code",
   "execution_count": 15,
   "id": "c4a5a0fd-a5ad-4d84-ae0c-f1c88b6234ef",
   "metadata": {},
   "outputs": [],
   "source": [
    "import requests"
   ]
  },
  {
   "cell_type": "code",
   "execution_count": 26,
   "id": "796405df-7cad-4dad-87a1-a0372fa5ec14",
   "metadata": {},
   "outputs": [],
   "source": [
    "res = requests.post('http://localhost:44044/alg/user/run', json={'args':[123], 'kwargs': {}})"
   ]
  },
  {
   "cell_type": "code",
   "execution_count": 29,
   "id": "aa3322ce-9663-443b-b411-d3a8ae0b63b9",
   "metadata": {},
   "outputs": [
    {
     "data": {
      "text/plain": [
       "{'address': '93948 Bonnie Courts\\nHoganside, KS 82414',\n",
       " 'email': 'blaketurner@example.com',\n",
       " 'name': 'Stephanie Lara'}"
      ]
     },
     "execution_count": 29,
     "metadata": {},
     "output_type": "execute_result"
    }
   ],
   "source": [
    "json.loads(res.content.decode('utf-8'))"
   ]
  },
  {
   "cell_type": "markdown",
   "id": "ca3df120-dafb-4461-8c4e-1f6745057044",
   "metadata": {},
   "source": [
    "Using wget"
   ]
  },
  {
   "cell_type": "code",
   "execution_count": 33,
   "id": "2800e33d-10a1-4ce7-9496-15c5a505042b",
   "metadata": {},
   "outputs": [
    {
     "name": "stdout",
     "output_type": "stream",
     "text": [
      "{\"attributes\":{\"base_dir\":\"method\",\"beam_class_name\":\"property\",\"beam_pickle\":\"method\",\"clear_cache\":\"method\",\"error_rate\":\"variable\",\"excluded_attributes\":\"variable\",\"fake\":\"variable\",\"faker_fields\":\"variable\",\"from_arguments\":\"method\",\"from_nlp\":\"method\",\"from_path\":\"method\",\"from_remote\":\"method\",\"get_hparam\":\"method\",\"getattr\":\"method\",\"hasattr\":\"method\",\"hparams\":\"variable\",\"in_beam_pickle\":\"method\",\"in_cache\":\"method\",\"init_args_file\":\"variable\",\"is_initialized\":\"property\",\"load_state\":\"method\",\"load_state_dict\":\"method\",\"name\":\"property\",\"nlp\":\"method\",\"run\":\"method\",\"save_state\":\"method\",\"save_state_dict\":\"method\",\"set_hparam\":\"method\",\"set_name\":\"method\",\"skeleton_file\":\"variable\",\"sleep_time\":\"variable\",\"special_state_attributes\":\"variable\",\"to_bundle\":\"method\",\"to_path\":\"method\",\"update_hparams\":\"method\",\"variance\":\"variable\"},\"hparams\":{\"debug\":false,\"llm\":null},\"name\":\"obj\",\"obj\":\"instance\",\"serialization\":\"pickle\",\"vars_args\":[\"self\",\"sleep_time\",\"variance\",\"error_rate\",\"faker_fields\"]}\n"
     ]
    }
   ],
   "source": [
    "!wget -qO- http://localhost:44044"
   ]
  },
  {
   "cell_type": "code",
   "execution_count": 34,
   "id": "54da7aac-989a-4510-b0d5-04eb0cfaecd7",
   "metadata": {},
   "outputs": [
    {
     "name": "stdout",
     "output_type": "stream",
     "text": [
      "{\"address\":\"1780 Robinson Islands\\nJeffreymouth, VI 37853\",\"email\":\"reyesallison@example.org\",\"name\":\"Michael Gates\"}\n"
     ]
    }
   ],
   "source": [
    "!wget -qO- --method POST --header 'Content-Type: application/json' --body-data '{\"args\": [123]}' http://localhost:44044/alg/user/run"
   ]
  },
  {
   "cell_type": "markdown",
   "id": "5998df48-a8a9-4567-8471-ed96336bc94d",
   "metadata": {},
   "source": [
    "# Deploy your algorithm + http server into a docker image"
   ]
  },
  {
   "cell_type": "code",
   "execution_count": 49,
   "id": "2b230baa-6f3b-4ec5-af96-f1912f3e1dc3",
   "metadata": {},
   "outputs": [
    {
     "data": {
      "text/plain": [
       "{'debug': False,\n",
       " 'protocol': 'http',\n",
       " 'http_backend': 'waitress',\n",
       " 'path_to_bundle': '/app/algorithm',\n",
       " 'port': 44044,\n",
       " 'n_threads': 4,\n",
       " 'use_torch': False,\n",
       " 'batch': None,\n",
       " 'tls': False,\n",
       " 'max_batch_size': 10,\n",
       " 'max_wait_time': 1.0,\n",
       " 'non_blocking': False}"
      ]
     },
     "execution_count": 49,
     "metadata": {},
     "output_type": "execute_result"
    }
   ],
   "source": [
    "dict(config)"
   ]
  },
  {
   "cell_type": "code",
   "execution_count": 51,
   "id": "f121ff1e-d37e-4cde-ad87-23b7a9f679ee",
   "metadata": {},
   "outputs": [
    {
     "name": "stdout",
     "output_type": "stream",
     "text": [
      "\u001b[32m2024-06-24 08:35:26\u001b[0m | BeamLog | \u001b[1mINFO\u001b[0m | \u001b[1mBuilding an object bundle\u001b[0m\n",
      "\u001b[32m2024-06-24 08:35:26\u001b[0m | BeamLog | \u001b[1mINFO\u001b[0m | \u001b[1mSaving object's files to path /home/elad/docker/beamds/notebooks/obj: [requirements.json, modules.tar.gz, state, requierements.txt]\u001b[0m\n",
      "\u001b[32m2024-06-24 08:35:29\u001b[0m | BeamLog | \u001b[1mINFO\u001b[0m | \u001b[1mBuilding a Docker image with the requirements and the object bundle. Base image: beam:20240616\u001b[0m\n",
      "Step 1/18 : ARG BASE_IMAGE\n",
      "\n",
      "Step 2/18 : FROM ${BASE_IMAGE}\n",
      "\n",
      "---> 726932128776\n",
      "Step 3/18 : ARG REQUIREMENTS_FILE\n",
      "\n",
      "---> Running in 48347cd05edc\n",
      "Removing intermediate container 48347cd05edc\n",
      "---> 6127762fbf57\n",
      "Step 4/18 : ARG CONFIG_FILE\n",
      "\n",
      "---> Running in e156a859ee5a\n",
      "Removing intermediate container e156a859ee5a\n",
      "---> 65b185cb9b38\n",
      "Step 5/18 : ARG ALGORITHM_DIR\n",
      "\n",
      "---> Running in 001a680db075\n",
      "Removing intermediate container 001a680db075\n",
      "---> d958446c5428\n",
      "Step 6/18 : ARG ENTRYPOINT_SCRIPT\n",
      "\n",
      "---> Running in 150db15e5d37\n",
      "Removing intermediate container 150db15e5d37\n",
      "---> 87c5dd93fbfe\n",
      "Step 7/18 : ARG BEAM_DS_VERSION\n",
      "\n",
      "---> Running in 242e8441bb77\n",
      "Removing intermediate container 242e8441bb77\n",
      "---> 9af153190008\n",
      "Step 8/18 : ARG DOCKER_TOOLS_DIR\n",
      "\n",
      "---> Running in 3f5e67b53529\n",
      "Removing intermediate container 3f5e67b53529\n",
      "---> 2b2002a80bac\n",
      "Step 9/18 : COPY ${DOCKER_TOOLS_DIR} /app/docker-tools\n",
      "\n",
      "---> 8d2e7f1942d6\n",
      "Step 10/18 : COPY ${REQUIREMENTS_FILE} /app/requirements.txt\n",
      "\n",
      "---> c17ffd254a77\n",
      "Step 11/18 : RUN python /app/docker-tools/gracefull-pip.py /app/requirements.txt\n",
      "\n",
      "---> Running in 81a70d0c0c6a\n",
      "Removing intermediate container 81a70d0c0c6a\n",
      "---> 88c540a35a9e\n",
      "Step 12/18 : RUN if [ -z \"${BEAM_DS_VERSION}\" ]; then         pip install beam-ds;     else         pip install beam-ds==${BEAM_DS_VERSION};     fi\n",
      "\n",
      "---> Running in 236fade34138\n",
      "Looking in indexes: https://pypi.org/simple, https://pypi.ngc.nvidia.com\n",
      "Collecting beam-ds==2.5.11\n",
      "Downloading beam_ds-2.5.11-py3-none-any.whl.metadata (7.2 kB)\n",
      "Requirement already satisfied: loguru in /usr/local/lib/python3.10/dist-packages (from beam-ds==2.5.11) (0.7.2)\n",
      "Requirement already satisfied: pandas in /usr/local/lib/python3.10/dist-packages (from beam-ds==2.5.11) (2.2.2)\n",
      "Requirement already satisfied: tqdm in /usr/local/lib/python3.10/dist-packages (from beam-ds==2.5.11) (4.66.4)\n",
      "Requirement already satisfied: urllib3 in /usr/local/lib/python3.10/dist-packages (from beam-ds==2.5.11) (2.2.1)\n",
      "Requirement already satisfied: requests in /usr/local/lib/python3.10/dist-packages (from beam-ds==2.5.11) (2.32.3)\n",
      "Requirement already satisfied: joblib in /usr/local/lib/python3.10/dist-packages (from beam-ds==2.5.11) (1.4.0)\n",
      "Requirement already satisfied: numpy>=1.22.4 in /usr/local/lib/python3.10/dist-packages (from pandas->beam-ds==2.5.11) (1.26.4)\n",
      "Requirement already satisfied: python-dateutil>=2.8.2 in /usr/local/lib/python3.10/dist-packages (from pandas->beam-ds==2.5.11) (2.9.0.post0)\n",
      "Requirement already satisfied: pytz>=2020.1 in /usr/local/lib/python3.10/dist-packages (from pandas->beam-ds==2.5.11) (2024.1)\n",
      "Requirement already satisfied: tzdata>=2022.7 in /usr/local/lib/python3.10/dist-packages (from pandas->beam-ds==2.5.11) (2024.1)\n",
      "Requirement already satisfied: charset-normalizer<4,>=2 in /usr/local/lib/python3.10/dist-packages (from requests->beam-ds==2.5.11) (3.3.2)\n",
      "Requirement already satisfied: idna<4,>=2.5 in /usr/local/lib/python3.10/dist-packages (from requests->beam-ds==2.5.11) (3.7)\n",
      "Requirement already satisfied: certifi>=2017.4.17 in /usr/local/lib/python3.10/dist-packages (from requests->beam-ds==2.5.11) (2024.2.2)\n",
      "Requirement already satisfied: six>=1.5 in /usr/local/lib/python3.10/dist-packages (from python-dateutil>=2.8.2->pandas->beam-ds==2.5.11) (1.16.0)\n",
      "Downloading beam_ds-2.5.11-py3-none-any.whl (343 kB)\n",
      "━━━━━━━━━━━━━━━━━━━━━━━━━━━━━━━━━━━━━━━━ 343.6/343.6 kB 1.9 MB/s eta 0:00:00\n",
      "\n",
      "Installing collected packages: beam-ds\n",
      "Attempting uninstall: beam-ds\n",
      "Found existing installation: beam-ds 2.5.9\n",
      "Uninstalling beam-ds-2.5.9:\n",
      "Successfully uninstalled beam-ds-2.5.9\n",
      "Successfully installed beam-ds-2.5.11\n",
      "\u001b[91mWARNING: Running pip as the 'root' user can result in broken permissions and conflicting behaviour with the system package manager. It is recommended to use a virtual environment instead: https://pip.pypa.io/warnings/venv\n",
      "\u001b[0m\n",
      "\u001b[91m\n",
      "[notice] A new release of pip is available: 24.0 -> 24.1\n",
      "[notice] To update, run: python -m pip install --upgrade pip\n",
      "\u001b[0m\n",
      "Removing intermediate container 236fade34138\n",
      "---> f9010ef0e0a7\n",
      "Step 13/18 : COPY ${ALGORITHM_DIR} /app/algorithm\n",
      "\n",
      "---> 098e6dfe9328\n",
      "Step 14/18 : COPY ${CONFIG_FILE} /app/config.yaml\n",
      "\n",
      "---> d926753ebf19\n",
      "Step 15/18 : COPY ${ENTRYPOINT_SCRIPT} /app/entrypoint.py\n",
      "\n",
      "---> 17d714e6fd80\n",
      "Step 16/18 : WORKDIR /app\n",
      "\n",
      "---> Running in d16096ede424\n",
      "Removing intermediate container d16096ede424\n",
      "---> cf77f3fedcea\n",
      "Step 17/18 : ENTRYPOINT [\"python\", \"/app/entrypoint.py\"]\n",
      "\n",
      "---> Running in da99c4ebb7ba\n",
      "Removing intermediate container da99c4ebb7ba\n",
      "---> bea60a1edcc2\n",
      "Step 18/18 : CMD [\"/app/config.yaml\"]\n",
      "\n",
      "---> Running in a635431cefeb\n",
      "Removing intermediate container a635431cefeb\n",
      "---> 206252545816\n",
      "Successfully built 206252545816\n",
      "Successfully tagged fake-alg-http-server:latest\n"
     ]
    }
   ],
   "source": [
    "AutoBeam.to_docker(obj=fake_alg, base_image='beam:20240616', image_name='fake-alg-http-server', beam_version='2.5.11', config=config)"
   ]
  },
  {
   "cell_type": "markdown",
   "id": "94a0d808-1360-42ea-98d2-b4532cb96422",
   "metadata": {},
   "source": [
    "Run a container with the generated image"
   ]
  },
  {
   "cell_type": "code",
   "execution_count": 55,
   "id": "e759a497-bbc4-41a3-831d-cad1aec01f34",
   "metadata": {},
   "outputs": [
    {
     "name": "stdout",
     "output_type": "stream",
     "text": [
      "3df01866773b746e7d83dfb963114b5e07e7edf7de93c017a66ba9b62052763f\n"
     ]
    }
   ],
   "source": [
    "!docker run -itd --gpus=all -p 44044:44044 fake-alg-http-server:latest"
   ]
  },
  {
   "cell_type": "code",
   "execution_count": 58,
   "id": "f941aa21-4514-4c77-b929-120bcbe58d22",
   "metadata": {},
   "outputs": [],
   "source": [
    "alg = resource('beam-http://172.27.0.1:44044')"
   ]
  },
  {
   "cell_type": "code",
   "execution_count": 59,
   "id": "4cfab224-0085-4791-9964-2ad24a7e07cf",
   "metadata": {},
   "outputs": [
    {
     "data": {
      "text/plain": [
       "{'attributes': {'base_dir': 'method',\n",
       "  'beam_class_name': 'property',\n",
       "  'beam_pickle': 'method',\n",
       "  'clear_cache': 'method',\n",
       "  'error_rate': 'variable',\n",
       "  'excluded_attributes': 'variable',\n",
       "  'fake': 'variable',\n",
       "  'faker_fields': 'variable',\n",
       "  'from_arguments': 'method',\n",
       "  'from_nlp': 'method',\n",
       "  'from_path': 'method',\n",
       "  'from_remote': 'method',\n",
       "  'get_hparam': 'method',\n",
       "  'getattr': 'method',\n",
       "  'hasattr': 'method',\n",
       "  'hparams': 'variable',\n",
       "  'in_beam_pickle': 'method',\n",
       "  'in_cache': 'method',\n",
       "  'init_args_file': 'variable',\n",
       "  'is_initialized': 'property',\n",
       "  'is_notebook': 'variable',\n",
       "  'llm': 'variable',\n",
       "  'load_state': 'method',\n",
       "  'load_state_dict': 'method',\n",
       "  'name': 'property',\n",
       "  'nlp': 'method',\n",
       "  'run': 'method',\n",
       "  'save_state': 'method',\n",
       "  'save_state_dict': 'method',\n",
       "  'set_hparam': 'method',\n",
       "  'set_name': 'method',\n",
       "  'skeleton_file': 'variable',\n",
       "  'sleep_time': 'variable',\n",
       "  'special_state_attributes': 'variable',\n",
       "  'to_bundle': 'method',\n",
       "  'to_path': 'method',\n",
       "  'update_hparams': 'method',\n",
       "  'variance': 'variable'},\n",
       " 'hparams': {'debug': False, 'llm': None},\n",
       " 'name': 'obj',\n",
       " 'obj': 'instance',\n",
       " 'serialization': 'pickle',\n",
       " 'vars_args': ['self', 'sleep_time', 'variance', 'error_rate', 'faker_fields']}"
      ]
     },
     "execution_count": 59,
     "metadata": {},
     "output_type": "execute_result"
    }
   ],
   "source": [
    "alg.info"
   ]
  },
  {
   "cell_type": "code",
   "execution_count": 60,
   "id": "a8e3bdd1-4c84-46e0-9399-b80315bb2726",
   "metadata": {},
   "outputs": [
    {
     "data": {
      "text/plain": [
       "{'name': 'Mrs. Victoria Chaney',\n",
       " 'email': 'sarah44@example.net',\n",
       " 'address': '8436 Wright Viaduct Suite 933\\nLake Clayton, NH 16942'}"
      ]
     },
     "execution_count": 60,
     "metadata": {},
     "output_type": "execute_result"
    }
   ],
   "source": [
    "alg.run(123)"
   ]
  }
 ],
 "metadata": {
  "kernelspec": {
   "display_name": "Python 3 (ipykernel)",
   "language": "python",
   "name": "python3"
  },
  "language_info": {
   "codemirror_mode": {
    "name": "ipython",
    "version": 3
   },
   "file_extension": ".py",
   "mimetype": "text/x-python",
   "name": "python",
   "nbconvert_exporter": "python",
   "pygments_lexer": "ipython3",
   "version": "3.10.12"
  }
 },
 "nbformat": 4,
 "nbformat_minor": 5
}
