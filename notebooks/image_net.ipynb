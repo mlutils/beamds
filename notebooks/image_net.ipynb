{
 "cells": [
  {
   "cell_type": "code",
   "execution_count": 1,
   "id": "eae2b91c-a6fa-4c84-aafe-789be74d9312",
   "metadata": {},
   "outputs": [],
   "source": [
    "%load_ext autoreload\n",
    "%autoreload 2\n",
    "\n",
    "import torch\n",
    "import torchvision\n",
    "import torch.nn.functional as F\n",
    "from torch import nn\n",
    "from sklearn.metrics import precision_recall_fscore_support\n",
    "import numpy as np\n",
    "import pandas as pd\n",
    "\n",
    "import os\n",
    "import sys\n",
    "import matplotlib.pyplot as plt\n",
    "sys.path.append('..')\n",
    "\n",
    "import torchvision.models as models\n",
    "from torchvision.models.feature_extraction import get_graph_node_names\n",
    "from torchvision.models.feature_extraction import create_feature_extractor\n",
    "\n",
    "from src.beam import UniversalDataset, Experiment, Algorithm, beam_arguments, PackedFolds"
   ]
  },
  {
   "cell_type": "code",
   "execution_count": 2,
   "id": "db8dbdae-5703-4459-836d-077f564e3f42",
   "metadata": {},
   "outputs": [],
   "source": [
    "class FeatureNet(nn.Module):\n",
    "\n",
    "    def __init__(self):\n",
    "\n",
    "        super().__init__()\n",
    "        net = models.resnet50(pretrained=True, num_classes=1000)\n",
    "        # train_nodes, eval_nodes = get_graph_node_names(net)\n",
    "        return_nodes = {\n",
    "            'flatten': 'features',\n",
    "        }\n",
    "        self.net = create_feature_extractor(net, return_nodes=return_nodes)\n",
    "        \n",
    "\n",
    "    def forward(self, x):\n",
    "        return self.net(x)['features'].view(len(x), -1)"
   ]
  },
  {
   "cell_type": "code",
   "execution_count": 3,
   "id": "6336b0db-9178-4d70-b88a-e1fb6b38c7f0",
   "metadata": {},
   "outputs": [],
   "source": [
    "class MiniImageNet(UniversalDataset):\n",
    "\n",
    "    def __init__(self, hparams):\n",
    "\n",
    "        path = hparams.path_to_data\n",
    "        seed = hparams.split_dataset_seed\n",
    "\n",
    "        super().__init__()\n",
    "        \n",
    "        file = os.path.join(path, 'mini_imagenet.pt')\n",
    "        if not os.path.exists(file):\n",
    "                        \n",
    "            dataset_train = [pd.read_pickle(os.path.join(path, f'train_data_batch_{i}')) for i in range(1, 11)]\n",
    "\n",
    "\n",
    "            data_train = torch.cat([torch.ByteTensor(di['data']) for di in dataset_train]).reshape(-1, 3, 64, 64)\n",
    "\n",
    "            data_train_f = data_train.float()\n",
    "\n",
    "            mu = data_train_f.mean(dim=(0, 2, 3), keepdim=True)\n",
    "            std = data_train_f.std(dim=(0, 2, 3), keepdim=True)\n",
    "\n",
    "            data_test = torch.ByteTensor(dataset_test['data']).reshape(-1, 3, 64, 64)\n",
    "\n",
    "            labels_train = torch.cat([torch.LongTensor(di['labels']) for di in dataset_train])\n",
    "            labels_test = torch.LongTensor(dataset_test['labels'])\n",
    "\n",
    "            state = {'data_train': data_train, 'data_test': data_test, \n",
    "                            'labels_train': labels_train, \n",
    "                            'labels_test': labels_test, 'mu': mu,\n",
    "                            'std': std}\n",
    "            \n",
    "            torch.save(state, file)\n",
    "        else:\n",
    "            state = torch.load(file)\n",
    "        \n",
    "        self.normalize = True\n",
    "        self.data = PackedFolds({'train': state['data_train'], 'test': state['data_test']})\n",
    "        self.labels = PackedFolds({'train': state['labels_train'], 'test': state['labels_test']})\n",
    "        self.mu = state['mu']\n",
    "        self.std = state['std']\n",
    "        self.split(validation=.2, test=self.labels['test'].index, seed=seed)\n",
    "\n",
    "    def getitem(self, index):\n",
    "        \n",
    "        x = self.data[index]\n",
    "        \n",
    "        if self.normalize:\n",
    "            mu = self.mu\n",
    "            std = self.std\n",
    "            \n",
    "            if len(x.shape) == 3:\n",
    "                mu = mu.squeeze(0)\n",
    "                std = std.squeeze(0)\n",
    "                \n",
    "            x = (x.float() - mu) / std\n",
    "            \n",
    "        return {'x': x, 'y': self.labels[index]}"
   ]
  },
  {
   "cell_type": "code",
   "execution_count": 4,
   "id": "2705d62d-90e1-40a6-8039-8246ce382580",
   "metadata": {},
   "outputs": [],
   "source": [
    "class FeaturesExtractor(Algorithm):\n",
    "\n",
    "    def __init__(self, hparams):\n",
    "\n",
    "        # choose your network\n",
    "        net = FeatureNet()\n",
    "        super().__init__(hparams, networks=net)\n",
    "\n",
    "    def inference(self, sample=None, results=None, subset=None, predicting=True, **kwargs):\n",
    "\n",
    "        if predicting:\n",
    "            x = sample\n",
    "        else:\n",
    "            x, y = sample['x'], sample['y']\n",
    "\n",
    "        net = self.networks['net']\n",
    "        z = net(x)\n",
    "\n",
    "        if not predicting:\n",
    "            return {'z': z, 'y': y}, results\n",
    "\n",
    "        return z, results"
   ]
  },
  {
   "cell_type": "code",
   "execution_count": 5,
   "id": "add73961-8e80-45b2-a2b4-7ccb3baf270f",
   "metadata": {},
   "outputs": [],
   "source": [
    "path_to_data = '/home/shared/data/dataset/imagenet'\n",
    "root_dir = '/home/shared/data/results'\n",
    "\n",
    "hparams = beam_arguments(\n",
    "    f\"--project-name=similarity --root-dir={root_dir} --algorithm=ImageNet --identifier=dev  --device=0 --override\",\n",
    "    path_to_data=path_to_data)"
   ]
  },
  {
   "cell_type": "code",
   "execution_count": 6,
   "id": "8f6feb0e-65c7-4bf3-a057-051b4a9e7d71",
   "metadata": {},
   "outputs": [
    {
     "name": "stdout",
     "output_type": "stream",
     "text": [
      "\u001b[32m2022-07-21 13:50:26\u001b[0m | \u001b[1mINFO\u001b[0m | \u001b[1mDeleting old experiment\u001b[0m\n",
      "\u001b[32m2022-07-21 13:50:26\u001b[0m | \u001b[1mINFO\u001b[0m | \u001b[1mExperiment directory is: /home/shared/data/results/similarity/ImageNet/dev/0002_20220721_135026\u001b[0m\n"
     ]
    }
   ],
   "source": [
    "experiment = Experiment(hparams, print_hyperparameters=False)"
   ]
  },
  {
   "cell_type": "code",
   "execution_count": 7,
   "id": "654df5ab-0803-4ca5-bd21-0135719b9d4e",
   "metadata": {},
   "outputs": [
    {
     "name": "stdout",
     "output_type": "stream",
     "text": [
      "CPU times: user 11.4 s, sys: 41.3 s, total: 52.7 s\n",
      "Wall time: 12.1 s\n"
     ]
    }
   ],
   "source": [
    "%%time\n",
    "\n",
    "dataset = MiniImageNet(hparams)"
   ]
  },
  {
   "cell_type": "code",
   "execution_count": 8,
   "id": "e28b3158-4fa7-4613-914b-673604a55369",
   "metadata": {},
   "outputs": [],
   "source": [
    "alg = experiment.algorithm_generator(FeaturesExtractor, dataset)"
   ]
  },
  {
   "cell_type": "code",
   "execution_count": 10,
   "id": "f01f332a-e558-4bf0-8912-94f1f0fecf39",
   "metadata": {},
   "outputs": [
    {
     "data": {
      "application/vnd.jupyter.widget-view+json": {
       "model_id": "8fbe3c368674498084fa49e9798fea33",
       "version_major": 2,
       "version_minor": 0
      },
      "text/plain": [
       "test:   1%|          | 1/196 [00:00<?, ?it/s]"
      ]
     },
     "metadata": {},
     "output_type": "display_data"
    }
   ],
   "source": [
    "features = alg.evaluate('test')"
   ]
  },
  {
   "cell_type": "code",
   "execution_count": 25,
   "id": "11f8b501-b014-4e06-a199-16887a7b6368",
   "metadata": {},
   "outputs": [],
   "source": [
    "z = features.values['z']"
   ]
  },
  {
   "cell_type": "code",
   "execution_count": 30,
   "id": "9f404b44-6441-45ae-b0db-873c859848d5",
   "metadata": {},
   "outputs": [],
   "source": [
    "z = z.detach().cpu().numpy()"
   ]
  },
  {
   "cell_type": "code",
   "execution_count": 22,
   "id": "8f20a051-f73f-431d-ae97-9e6b4e72a5d5",
   "metadata": {},
   "outputs": [],
   "source": [
    "d = 2048"
   ]
  },
  {
   "cell_type": "code",
   "execution_count": 23,
   "id": "23630b38-1865-4ff5-b998-005b799479c4",
   "metadata": {},
   "outputs": [],
   "source": [
    "import faiss                   # make faiss available\n",
    "index = faiss.IndexFlatL2(d)   # build the index"
   ]
  },
  {
   "cell_type": "code",
   "execution_count": 27,
   "id": "5e48ff50-d768-436d-b7cc-e62f82be2bfb",
   "metadata": {},
   "outputs": [],
   "source": [
    "index.add()"
   ]
  },
  {
   "cell_type": "code",
   "execution_count": 28,
   "id": "8a7ec7ce-4d86-4eec-ae98-04d87f6501c5",
   "metadata": {},
   "outputs": [
    {
     "name": "stdout",
     "output_type": "stream",
     "text": [
      "True\n"
     ]
    }
   ],
   "source": [
    "print(index.is_trained)"
   ]
  },
  {
   "cell_type": "code",
   "execution_count": 29,
   "id": "77ed7aae-c86e-4c1b-a506-73c8423d89b9",
   "metadata": {},
   "outputs": [
    {
     "name": "stdout",
     "output_type": "stream",
     "text": [
      "50000\n"
     ]
    }
   ],
   "source": [
    "print(index.ntotal)"
   ]
  },
  {
   "cell_type": "code",
   "execution_count": 38,
   "id": "29b9a27a-85e5-4b55-ad72-076b9c51eff4",
   "metadata": {},
   "outputs": [],
   "source": [
    "k = 4"
   ]
  },
  {
   "cell_type": "code",
   "execution_count": 41,
   "id": "c3724aed-ffbd-43f4-8968-f14c067c6588",
   "metadata": {},
   "outputs": [],
   "source": [
    "res = faiss.StandardGpuResources()"
   ]
  },
  {
   "cell_type": "code",
   "execution_count": 49,
   "id": "2a0818c7-8dd3-4dde-b4e0-8858e41ffaf1",
   "metadata": {},
   "outputs": [
    {
     "data": {
      "text/plain": [
       "array([[0.38854295, 0.80144668, 0.        , ..., 0.01820637, 1.0879941 ,\n",
       "        1.77755833],\n",
       "       [0.        , 2.62043905, 3.48512053, ..., 1.50922227, 1.61054075,\n",
       "        1.27634835],\n",
       "       [0.        , 0.8495881 , 1.42791975, ..., 0.29668215, 0.47264653,\n",
       "        0.7178272 ],\n",
       "       ...,\n",
       "       [0.67733413, 0.3271088 , 0.01777057, ..., 0.97757649, 0.        ,\n",
       "        0.02336848],\n",
       "       [0.18501449, 1.93573213, 0.        , ..., 0.        , 0.94402933,\n",
       "        1.47809362],\n",
       "       [0.        , 0.        , 0.        , ..., 0.        , 0.57860261,\n",
       "        0.        ]])"
      ]
     },
     "execution_count": 49,
     "metadata": {},
     "output_type": "execute_result"
    }
   ],
   "source": [
    "z.astype(np.float64)"
   ]
  },
  {
   "cell_type": "code",
   "execution_count": 51,
   "id": "d5b28dcc-e81e-4d94-9f2e-4f5876f94d4f",
   "metadata": {},
   "outputs": [],
   "source": [
    "# build a flat (CPU) index\n",
    "index_flat = faiss.IndexFlatL2(d)\n",
    "# make it into a gpu index\n",
    "gpu_index_flat = faiss.index_cpu_to_gpu(res, 0, index_flat)"
   ]
  },
  {
   "cell_type": "code",
   "execution_count": 52,
   "id": "eeacea60-846b-4ac9-a004-6774f6a8cff3",
   "metadata": {},
   "outputs": [
    {
     "name": "stdout",
     "output_type": "stream",
     "text": [
      "50000\n"
     ]
    }
   ],
   "source": [
    "gpu_index_flat.add(z)         # add vectors to the index\n",
    "print(gpu_index_flat.ntotal)\n",
    "\n",
    "k = 4                          # we want to see 4 nearest neighbors\n",
    "D, I = gpu_index_flat.search(z[:5], k)  # actual search"
   ]
  },
  {
   "cell_type": "code",
   "execution_count": 54,
   "id": "8cd547f5-24bb-43f8-9435-acd725e079d5",
   "metadata": {},
   "outputs": [
    {
     "name": "stdout",
     "output_type": "stream",
     "text": [
      "CPU times: user 1.63 s, sys: 31.5 ms, total: 1.67 s\n",
      "Wall time: 1.72 s\n"
     ]
    }
   ],
   "source": [
    "%%time\n",
    "\n",
    "# we want to see 4 nearest neighbors\n",
    "D, I = gpu_index_flat.search(z, k) # sanity check"
   ]
  },
  {
   "cell_type": "code",
   "execution_count": null,
   "id": "fe98353e-6644-484a-8338-4111e1cde98a",
   "metadata": {},
   "outputs": [],
   "source": []
  },
  {
   "cell_type": "code",
   "execution_count": 40,
   "id": "84458852-497f-48f5-ab3c-c47e18c9c08c",
   "metadata": {},
   "outputs": [
    {
     "ename": "KeyboardInterrupt",
     "evalue": "",
     "output_type": "error",
     "traceback": [
      "\u001b[0;31m---------------------------------------------------------------------------\u001b[0m",
      "\u001b[0;31mKeyboardInterrupt\u001b[0m                         Traceback (most recent call last)",
      "File \u001b[0;32m<timed exec>:2\u001b[0m, in \u001b[0;36m<module>\u001b[0;34m\u001b[0m\n",
      "File \u001b[0;32m/opt/conda/lib/python3.8/site-packages/faiss/__init__.py:322\u001b[0m, in \u001b[0;36mhandle_Index.<locals>.replacement_search\u001b[0;34m(self, x, k, D, I)\u001b[0m\n\u001b[1;32m    319\u001b[0m \u001b[38;5;28;01melse\u001b[39;00m:\n\u001b[1;32m    320\u001b[0m     \u001b[38;5;28;01massert\u001b[39;00m I\u001b[38;5;241m.\u001b[39mshape \u001b[38;5;241m==\u001b[39m (n, k)\n\u001b[0;32m--> 322\u001b[0m \u001b[38;5;28;43mself\u001b[39;49m\u001b[38;5;241;43m.\u001b[39;49m\u001b[43msearch_c\u001b[49m\u001b[43m(\u001b[49m\u001b[43mn\u001b[49m\u001b[43m,\u001b[49m\u001b[43m \u001b[49m\u001b[43mswig_ptr\u001b[49m\u001b[43m(\u001b[49m\u001b[43mx\u001b[49m\u001b[43m)\u001b[49m\u001b[43m,\u001b[49m\u001b[43m \u001b[49m\u001b[43mk\u001b[49m\u001b[43m,\u001b[49m\u001b[43m \u001b[49m\u001b[43mswig_ptr\u001b[49m\u001b[43m(\u001b[49m\u001b[43mD\u001b[49m\u001b[43m)\u001b[49m\u001b[43m,\u001b[49m\u001b[43m \u001b[49m\u001b[43mswig_ptr\u001b[49m\u001b[43m(\u001b[49m\u001b[43mI\u001b[49m\u001b[43m)\u001b[49m\u001b[43m)\u001b[49m\n\u001b[1;32m    323\u001b[0m \u001b[38;5;28;01mreturn\u001b[39;00m D, I\n",
      "File \u001b[0;32m/opt/conda/lib/python3.8/site-packages/faiss/swigfaiss.py:2146\u001b[0m, in \u001b[0;36mIndexFlat.search\u001b[0;34m(self, n, x, k, distances, labels)\u001b[0m\n\u001b[1;32m   2145\u001b[0m \u001b[38;5;28;01mdef\u001b[39;00m \u001b[38;5;21msearch\u001b[39m(\u001b[38;5;28mself\u001b[39m, n, x, k, distances, labels):\n\u001b[0;32m-> 2146\u001b[0m     \u001b[38;5;28;01mreturn\u001b[39;00m \u001b[43m_swigfaiss\u001b[49m\u001b[38;5;241;43m.\u001b[39;49m\u001b[43mIndexFlat_search\u001b[49m\u001b[43m(\u001b[49m\u001b[38;5;28;43mself\u001b[39;49m\u001b[43m,\u001b[49m\u001b[43m \u001b[49m\u001b[43mn\u001b[49m\u001b[43m,\u001b[49m\u001b[43m \u001b[49m\u001b[43mx\u001b[49m\u001b[43m,\u001b[49m\u001b[43m \u001b[49m\u001b[43mk\u001b[49m\u001b[43m,\u001b[49m\u001b[43m \u001b[49m\u001b[43mdistances\u001b[49m\u001b[43m,\u001b[49m\u001b[43m \u001b[49m\u001b[43mlabels\u001b[49m\u001b[43m)\u001b[49m\n",
      "\u001b[0;31mKeyboardInterrupt\u001b[0m: "
     ]
    }
   ],
   "source": [
    "%%time\n",
    "\n",
    "# we want to see 4 nearest neighbors\n",
    "D, I = index.search(z, k) # sanity check"
   ]
  }
 ],
 "metadata": {
  "kernelspec": {
   "display_name": "Python 3 (ipykernel)",
   "language": "python",
   "name": "python3"
  },
  "language_info": {
   "codemirror_mode": {
    "name": "ipython",
    "version": 3
   },
   "file_extension": ".py",
   "mimetype": "text/x-python",
   "name": "python",
   "nbconvert_exporter": "python",
   "pygments_lexer": "ipython3",
   "version": "3.8.12"
  }
 },
 "nbformat": 4,
 "nbformat_minor": 5
}
