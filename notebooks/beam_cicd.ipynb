{
 "cells": [
  {
   "metadata": {},
   "cell_type": "code",
   "outputs": [],
   "execution_count": null,
   "source": "%load_ext beam_setup",
   "id": "bd6b1a47d46d3e4d"
  },
  {
   "cell_type": "code",
   "execution_count": null,
   "id": "initial_id",
   "metadata": {
    "collapsed": true
   },
   "outputs": [],
   "source": "from beam import resource"
  },
  {
   "metadata": {},
   "cell_type": "code",
   "outputs": [],
   "execution_count": null,
   "source": "alg = resource('/tmp/pdf_loader.abm')",
   "id": "3272ce53e0388038"
  },
  {
   "metadata": {},
   "cell_type": "code",
   "outputs": [],
   "execution_count": null,
   "source": "from beam import deploy_server",
   "id": "4bbaa4a8e81169ff"
  },
  {
   "metadata": {},
   "cell_type": "code",
   "outputs": [],
   "execution_count": null,
   "source": "manager = resource('http://api-35000-beam.apps.ocp4.dt.local')",
   "id": "66c76dc3c496ea44"
  },
  {
   "metadata": {},
   "cell_type": "code",
   "outputs": [],
   "execution_count": null,
   "source": "conf = resource('..examples/path/to/your/conf.yaml').read()",
   "id": "59a4a961ff58abf3"
  },
  {
   "metadata": {},
   "cell_type": "code",
   "outputs": [],
   "execution_count": null,
   "source": "from beam.git import GitlabCICD, GitlabCICDConfig",
   "id": "f5baca5d4107512d"
  },
  {
   "metadata": {
    "jupyter": {
     "is_executing": true
    }
   },
   "cell_type": "code",
   "source": [
    "conf = GitlabCICDConfig(python_file='/home/dayosupp/projects/beamds/examples/yolo_function.py',\n",
    "                        python_function='build_yolo',\n",
    "                        path_to_state='/tmp/yolo-bundle',\n",
    "                        manager_url='/home/dayosupp/projects/beamds/examples/orchestration/orchestration_manager.yaml')"
   ],
   "id": "f689f21f453a0afc",
   "outputs": [],
   "execution_count": null
  },
  {
   "metadata": {},
   "cell_type": "code",
   "outputs": [],
   "execution_count": null,
   "source": "conf = ServeClusterConfig('../examples/path/to/your/conf.yaml', **config)",
   "id": "747e5d4eecf7949e"
  },
  {
   "metadata": {},
   "cell_type": "code",
   "outputs": [],
   "execution_count": null,
   "source": "conf",
   "id": "fae3424164abf54a"
  },
  {
   "metadata": {},
   "cell_type": "code",
   "outputs": [],
   "execution_count": null,
   "source": "cicd = GitlabCICD(conf)",
   "id": "2a48d0f32422b69"
  },
  {
   "metadata": {},
   "cell_type": "code",
   "outputs": [],
   "execution_count": null,
   "source": "cicd.create_cicd_pipeline()",
   "id": "170a6679243328a1"
  },
  {
   "metadata": {},
   "cell_type": "code",
   "outputs": [],
   "execution_count": null,
   "source": "from beam import deploy_server",
   "id": "904ece542d6f4455"
  },
  {
   "metadata": {},
   "cell_type": "code",
   "outputs": [],
   "execution_count": null,
   "source": "manager.launch_serve_cluster(conf)",
   "id": "cd8f81445624e3c9"
  }
 ],
 "metadata": {
  "kernelspec": {
   "display_name": "Python 3",
   "language": "python",
   "name": "python3"
  },
  "language_info": {
   "codemirror_mode": {
    "name": "ipython",
    "version": 2
   },
   "file_extension": ".py",
   "mimetype": "text/x-python",
   "name": "python",
   "nbconvert_exporter": "python",
   "pygments_lexer": "ipython2",
   "version": "2.7.6"
  }
 },
 "nbformat": 4,
 "nbformat_minor": 5
}
