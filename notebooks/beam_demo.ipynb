{
 "cells": [
  {
   "cell_type": "markdown",
   "id": "50978f26-508f-4260-bc55-f2800d763c92",
   "metadata": {},
   "source": [
    "# Prepare your algorithm"
   ]
  },
  {
   "cell_type": "code",
   "execution_count": 5,
   "id": "c949d95c-c861-45aa-bffa-f7410fe00ccb",
   "metadata": {},
   "outputs": [
    {
     "name": "stdout",
     "output_type": "stream",
     "text": [
      "Requirement already satisfied: faker in c:\\users\\elad\\anaconda3\\envs\\oneclick\\lib\\site-packages (26.0.0)\n",
      "Requirement already satisfied: python-dateutil>=2.4 in c:\\users\\elad\\anaconda3\\envs\\oneclick\\lib\\site-packages (from faker) (2.9.0.post0)\n",
      "Requirement already satisfied: six>=1.5 in c:\\users\\elad\\anaconda3\\envs\\oneclick\\lib\\site-packages (from python-dateutil>=2.4->faker) (1.16.0)\n"
     ]
    }
   ],
   "source": [
    "!pip install faker"
   ]
  },
  {
   "cell_type": "code",
   "execution_count": 6,
   "id": "1cc623e6-bf80-4640-bd05-be3637a2e413",
   "metadata": {},
   "outputs": [],
   "source": [
    "from demo_alg import DemoAlg"
   ]
  },
  {
   "cell_type": "code",
   "execution_count": 7,
   "id": "af3e809f-942d-4e40-ab59-5f5ac4969adf",
   "metadata": {},
   "outputs": [],
   "source": [
    "alg = DemoAlg(sleep_time=1)"
   ]
  },
  {
   "cell_type": "code",
   "execution_count": 8,
   "id": "fddb146f-f449-4ce2-b2bf-0131060b46c3",
   "metadata": {},
   "outputs": [
    {
     "data": {
      "text/plain": [
       "{'name': 'Matthew Smith',\n",
       " 'email': 'ericaparker@example.org',\n",
       " 'address': '8071 Robles Curve\\nLarrytown, AZ 81902'}"
      ]
     },
     "execution_count": 8,
     "metadata": {},
     "output_type": "execute_result"
    }
   ],
   "source": [
    "alg.run('hi')"
   ]
  },
  {
   "cell_type": "markdown",
   "id": "72d88aa7-e36b-4298-88b0-4ee054b917e0",
   "metadata": {},
   "source": [
    "# Install Beam"
   ]
  },
  {
   "cell_type": "code",
   "execution_count": 5,
   "id": "af9e92ea-41f1-4a19-a252-9f16ddf5b386",
   "metadata": {
    "scrolled": true
   },
   "outputs": [
    {
     "name": "stdout",
     "output_type": "stream",
     "text": [
      "Requirement already satisfied: beam-ds==2.6.4b1 in c:\\users\\elad\\anaconda3\\envs\\oneclick\\lib\\site-packages (from beam-ds[orchestration]==2.6.4b1) (2.6.4b1)\n",
      "Requirement already satisfied: loguru in c:\\users\\elad\\anaconda3\\envs\\oneclick\\lib\\site-packages (from beam-ds==2.6.4b1->beam-ds[orchestration]==2.6.4b1) (0.7.2)\n",
      "Requirement already satisfied: pandas in c:\\users\\elad\\anaconda3\\envs\\oneclick\\lib\\site-packages (from beam-ds==2.6.4b1->beam-ds[orchestration]==2.6.4b1) (2.2.2)\n",
      "Requirement already satisfied: tqdm in c:\\users\\elad\\anaconda3\\envs\\oneclick\\lib\\site-packages (from beam-ds==2.6.4b1->beam-ds[orchestration]==2.6.4b1) (4.66.4)\n",
      "Requirement already satisfied: urllib3 in c:\\users\\elad\\anaconda3\\envs\\oneclick\\lib\\site-packages (from beam-ds==2.6.4b1->beam-ds[orchestration]==2.6.4b1) (2.2.2)\n",
      "Requirement already satisfied: requests in c:\\users\\elad\\anaconda3\\envs\\oneclick\\lib\\site-packages (from beam-ds==2.6.4b1->beam-ds[orchestration]==2.6.4b1) (2.32.2)\n",
      "Requirement already satisfied: joblib in c:\\users\\elad\\anaconda3\\envs\\oneclick\\lib\\site-packages (from beam-ds==2.6.4b1->beam-ds[orchestration]==2.6.4b1) (1.4.2)\n",
      "Requirement already satisfied: kubernetes in c:\\users\\elad\\anaconda3\\envs\\oneclick\\lib\\site-packages (from beam-ds[orchestration]==2.6.4b1) (30.1.0)\n",
      "Requirement already satisfied: docker in c:\\users\\elad\\anaconda3\\envs\\oneclick\\lib\\site-packages (from beam-ds[orchestration]==2.6.4b1) (7.1.0)\n",
      "Requirement already satisfied: packaging in c:\\users\\elad\\anaconda3\\envs\\oneclick\\lib\\site-packages (from beam-ds[orchestration]==2.6.4b1) (24.1)\n",
      "Requirement already satisfied: psutil in c:\\users\\elad\\anaconda3\\envs\\oneclick\\lib\\site-packages (from beam-ds[orchestration]==2.6.4b1) (5.9.0)\n",
      "Requirement already satisfied: pynvml in c:\\users\\elad\\anaconda3\\envs\\oneclick\\lib\\site-packages (from beam-ds[orchestration]==2.6.4b1) (11.5.3)\n",
      "Requirement already satisfied: openshift in c:\\users\\elad\\anaconda3\\envs\\oneclick\\lib\\site-packages (from beam-ds[orchestration]==2.6.4b1) (0.13.2)\n",
      "Requirement already satisfied: pywin32>=304 in c:\\users\\elad\\anaconda3\\envs\\oneclick\\lib\\site-packages (from docker->beam-ds[orchestration]==2.6.4b1) (305.1)\n",
      "Requirement already satisfied: charset-normalizer<4,>=2 in c:\\users\\elad\\anaconda3\\envs\\oneclick\\lib\\site-packages (from requests->beam-ds==2.6.4b1->beam-ds[orchestration]==2.6.4b1) (2.0.4)\n",
      "Requirement already satisfied: idna<4,>=2.5 in c:\\users\\elad\\anaconda3\\envs\\oneclick\\lib\\site-packages (from requests->beam-ds==2.6.4b1->beam-ds[orchestration]==2.6.4b1) (3.7)\n",
      "Requirement already satisfied: certifi>=2017.4.17 in c:\\users\\elad\\anaconda3\\envs\\oneclick\\lib\\site-packages (from requests->beam-ds==2.6.4b1->beam-ds[orchestration]==2.6.4b1) (2024.7.4)\n",
      "Requirement already satisfied: six>=1.9.0 in c:\\users\\elad\\anaconda3\\envs\\oneclick\\lib\\site-packages (from kubernetes->beam-ds[orchestration]==2.6.4b1) (1.16.0)\n",
      "Requirement already satisfied: python-dateutil>=2.5.3 in c:\\users\\elad\\anaconda3\\envs\\oneclick\\lib\\site-packages (from kubernetes->beam-ds[orchestration]==2.6.4b1) (2.9.0.post0)\n",
      "Requirement already satisfied: pyyaml>=5.4.1 in c:\\users\\elad\\anaconda3\\envs\\oneclick\\lib\\site-packages (from kubernetes->beam-ds[orchestration]==2.6.4b1) (6.0.1)\n",
      "Requirement already satisfied: google-auth>=1.0.1 in c:\\users\\elad\\anaconda3\\envs\\oneclick\\lib\\site-packages (from kubernetes->beam-ds[orchestration]==2.6.4b1) (2.32.0)\n",
      "Requirement already satisfied: websocket-client!=0.40.0,!=0.41.*,!=0.42.*,>=0.32.0 in c:\\users\\elad\\anaconda3\\envs\\oneclick\\lib\\site-packages (from kubernetes->beam-ds[orchestration]==2.6.4b1) (1.8.0)\n",
      "Requirement already satisfied: requests-oauthlib in c:\\users\\elad\\anaconda3\\envs\\oneclick\\lib\\site-packages (from kubernetes->beam-ds[orchestration]==2.6.4b1) (2.0.0)\n",
      "Requirement already satisfied: oauthlib>=3.2.2 in c:\\users\\elad\\anaconda3\\envs\\oneclick\\lib\\site-packages (from kubernetes->beam-ds[orchestration]==2.6.4b1) (3.2.2)\n",
      "Requirement already satisfied: colorama>=0.3.4 in c:\\users\\elad\\anaconda3\\envs\\oneclick\\lib\\site-packages (from loguru->beam-ds==2.6.4b1->beam-ds[orchestration]==2.6.4b1) (0.4.6)\n",
      "Requirement already satisfied: win32-setctime>=1.0.0 in c:\\users\\elad\\anaconda3\\envs\\oneclick\\lib\\site-packages (from loguru->beam-ds==2.6.4b1->beam-ds[orchestration]==2.6.4b1) (1.1.0)\n",
      "Requirement already satisfied: python-string-utils in c:\\users\\elad\\anaconda3\\envs\\oneclick\\lib\\site-packages (from openshift->beam-ds[orchestration]==2.6.4b1) (1.0.0)\n",
      "Requirement already satisfied: numpy>=1.22.4 in c:\\users\\elad\\anaconda3\\envs\\oneclick\\lib\\site-packages (from pandas->beam-ds==2.6.4b1->beam-ds[orchestration]==2.6.4b1) (2.0.0)\n",
      "Requirement already satisfied: pytz>=2020.1 in c:\\users\\elad\\anaconda3\\envs\\oneclick\\lib\\site-packages (from pandas->beam-ds==2.6.4b1->beam-ds[orchestration]==2.6.4b1) (2024.1)\n",
      "Requirement already satisfied: tzdata>=2022.7 in c:\\users\\elad\\anaconda3\\envs\\oneclick\\lib\\site-packages (from pandas->beam-ds==2.6.4b1->beam-ds[orchestration]==2.6.4b1) (2024.1)\n",
      "Requirement already satisfied: cachetools<6.0,>=2.0.0 in c:\\users\\elad\\anaconda3\\envs\\oneclick\\lib\\site-packages (from google-auth>=1.0.1->kubernetes->beam-ds[orchestration]==2.6.4b1) (5.4.0)\n",
      "Requirement already satisfied: pyasn1-modules>=0.2.1 in c:\\users\\elad\\anaconda3\\envs\\oneclick\\lib\\site-packages (from google-auth>=1.0.1->kubernetes->beam-ds[orchestration]==2.6.4b1) (0.4.0)\n",
      "Requirement already satisfied: rsa<5,>=3.1.4 in c:\\users\\elad\\anaconda3\\envs\\oneclick\\lib\\site-packages (from google-auth>=1.0.1->kubernetes->beam-ds[orchestration]==2.6.4b1) (4.9)\n",
      "Requirement already satisfied: pyasn1<0.7.0,>=0.4.6 in c:\\users\\elad\\anaconda3\\envs\\oneclick\\lib\\site-packages (from pyasn1-modules>=0.2.1->google-auth>=1.0.1->kubernetes->beam-ds[orchestration]==2.6.4b1) (0.6.0)\n"
     ]
    }
   ],
   "source": [
    "!pip install beam-ds[orchestration]==2.6.4b1"
   ]
  },
  {
   "cell_type": "code",
   "execution_count": 9,
   "id": "b8ac0617-1dc8-47a5-8289-cbb1ebad74a5",
   "metadata": {},
   "outputs": [],
   "source": [
    "from beam import deploy_server\n",
    "from beam import resource"
   ]
  },
  {
   "cell_type": "code",
   "execution_count": 10,
   "id": "6fb50b60-4fc2-4c68-aee5-f03e32993d0c",
   "metadata": {
    "scrolled": true
   },
   "outputs": [],
   "source": [
    "config_path = resource('../examples/Server_in_1click_config.yaml')"
   ]
  },
  {
   "cell_type": "code",
   "execution_count": 11,
   "id": "db5cd65c-4b44-48a6-96be-e283cd1aa757",
   "metadata": {},
   "outputs": [],
   "source": [
    "from beam import HTTPServeClusterConfig"
   ]
  },
  {
   "cell_type": "code",
   "execution_count": 12,
   "id": "20b5ecb2-6898-4e46-9810-0bc60a3bd052",
   "metadata": {},
   "outputs": [],
   "source": [
    "config = HTTPServeClusterConfig(config_path.str, conf_bundle=True, port=44044, \n",
    "                                path_to_bundle='/app/algorithm', api_token='sha256~Z3uD_QjNwupN51L2sA6gJ1jeKVBYMZCV9Gws1lujkec')"
   ]
  },
  {
   "cell_type": "code",
   "execution_count": 13,
   "id": "13cfcb4f-13d6-4f12-bff1-de8641f8fc5a",
   "metadata": {},
   "outputs": [],
   "source": [
    "config.api_token = 'sha256~Z3uD_QjNwupN51L2sA6gJ1jeKVBYMZCV9Gws1lujkec'"
   ]
  },
  {
   "cell_type": "code",
   "execution_count": 14,
   "id": "3dfddfe0-eb36-4a42-9440-845b718c0945",
   "metadata": {},
   "outputs": [
    {
     "name": "stdout",
     "output_type": "stream",
     "text": [
      "hello world\n",
      "API URL: https://api.kh-dev.dt.local:6443\n",
      "API Token: sha256~Z3uD_QjNwupN51L2sA6gJ1jeKVBYMZCV9Gws1lujkec\n"
     ]
    }
   ],
   "source": [
    "print('hello world')\n",
    "print(\"API URL:\", config.api_url)\n",
    "print(\"API Token:\", config.api_token)"
   ]
  },
  {
   "cell_type": "markdown",
   "id": "a177ead8-2e3c-4048-a784-68489f962d99",
   "metadata": {},
   "source": [
    "# Deploy and enjoy"
   ]
  },
  {
   "cell_type": "code",
   "execution_count": 15,
   "id": "9af5f709-90aa-407c-9bcf-fa2c8020d180",
   "metadata": {},
   "outputs": [
    {
     "name": "stdout",
     "output_type": "stream",
     "text": [
      "\u001b[32m2024-07-19 00:06:55\u001b[0m | BeamLog | \u001b[1mINFO\u001b[0m | \u001b[1mbase_image: eladsar/beam:20240605\u001b[0m\n",
      "\u001b[32m2024-07-19 00:06:55\u001b[0m | BeamLog | \u001b[1mINFO\u001b[0m | \u001b[1mBuilding an object bundle\u001b[0m\n",
      "\u001b[32m2024-07-19 00:07:00\u001b[0m | BeamLog | \u001b[1mINFO\u001b[0m | \u001b[1mSaving object's files to path C:\\Users\\elad\\PycharmProjects\\beamds\\notebooks\\alg: [requirements.json, modules.tar.gz, state, requierements.txt]\u001b[0m\n",
      "\u001b[32m2024-07-19 00:07:00\u001b[0m | BeamLog | \u001b[33m\u001b[1mWARNING\u001b[0m | \u001b[33m\u001b[1mCould not read module: C:\\Users\\elad\\anaconda3\\envs\\oneclick\\Lib\\functools.py\u001b[0m\n"
     ]
    },
    {
     "ename": "ValueError",
     "evalue": "source code string cannot contain null bytes",
     "output_type": "error",
     "traceback": [
      "\u001b[1;31m---------------------------------------------------------------------------\u001b[0m",
      "\u001b[1;31mValueError\u001b[0m                                Traceback (most recent call last)",
      "Cell \u001b[1;32mIn[15], line 1\u001b[0m\n\u001b[1;32m----> 1\u001b[0m \u001b[43mdeploy_server\u001b[49m\u001b[43m(\u001b[49m\u001b[43malg\u001b[49m\u001b[43m,\u001b[49m\u001b[43m \u001b[49m\u001b[43mconfig\u001b[49m\u001b[43m)\u001b[49m\n",
      "File \u001b[1;32m~\\PycharmProjects\\beamds\\notebooks\\..\\beam\\orchestration\\resource.py:18\u001b[0m, in \u001b[0;36mdeploy_server\u001b[1;34m(obj, config)\u001b[0m\n\u001b[0;32m     16\u001b[0m     \u001b[38;5;28;01mreturn\u001b[39;00m HTTPServeCluster\u001b[38;5;241m.\u001b[39mdeploy_from_image(obj, config)\n\u001b[0;32m     17\u001b[0m \u001b[38;5;28;01melse\u001b[39;00m:\n\u001b[1;32m---> 18\u001b[0m     \u001b[38;5;28;01mreturn\u001b[39;00m \u001b[43mHTTPServeCluster\u001b[49m\u001b[38;5;241;43m.\u001b[39;49m\u001b[43mdeploy_from_algorithm\u001b[49m\u001b[43m(\u001b[49m\u001b[43mobj\u001b[49m\u001b[43m,\u001b[49m\u001b[43m \u001b[49m\u001b[43mconfig\u001b[49m\u001b[43m)\u001b[49m\n",
      "File \u001b[1;32m~\\PycharmProjects\\beamds\\notebooks\\..\\beam\\orchestration\\cluster.py:102\u001b[0m, in \u001b[0;36mHTTPServeCluster.deploy_from_algorithm\u001b[1;34m(cls, alg, config)\u001b[0m\n\u001b[0;32m    100\u001b[0m \u001b[38;5;129m@classmethod\u001b[39m\n\u001b[0;32m    101\u001b[0m \u001b[38;5;28;01mdef\u001b[39;00m \u001b[38;5;21mdeploy_from_algorithm\u001b[39m(\u001b[38;5;28mcls\u001b[39m, alg, config):\n\u001b[1;32m--> 102\u001b[0m     \u001b[38;5;28;01mreturn\u001b[39;00m \u001b[38;5;28;43mcls\u001b[39;49m\u001b[38;5;241;43m.\u001b[39;49m\u001b[43m_deploy_and_launch\u001b[49m\u001b[43m(\u001b[49m\u001b[43mbundle_path\u001b[49m\u001b[38;5;241;43m=\u001b[39;49m\u001b[38;5;28;43;01mNone\u001b[39;49;00m\u001b[43m,\u001b[49m\u001b[43m \u001b[49m\u001b[43mobj\u001b[49m\u001b[38;5;241;43m=\u001b[39;49m\u001b[43malg\u001b[49m\u001b[43m,\u001b[49m\u001b[43m \u001b[49m\u001b[43mconfig\u001b[49m\u001b[38;5;241;43m=\u001b[39;49m\u001b[43mconfig\u001b[49m\u001b[43m)\u001b[49m\n",
      "File \u001b[1;32m~\\PycharmProjects\\beamds\\notebooks\\..\\beam\\orchestration\\cluster.py:46\u001b[0m, in \u001b[0;36mHTTPServeCluster._deploy_and_launch\u001b[1;34m(cls, bundle_path, obj, image_name, config)\u001b[0m\n\u001b[0;32m     43\u001b[0m logger\u001b[38;5;241m.\u001b[39minfo(\u001b[38;5;124mf\u001b[39m\u001b[38;5;124m\"\u001b[39m\u001b[38;5;124mbase_image: \u001b[39m\u001b[38;5;132;01m{\u001b[39;00mconfig[\u001b[38;5;124m'\u001b[39m\u001b[38;5;124mbase_image\u001b[39m\u001b[38;5;124m'\u001b[39m]\u001b[38;5;132;01m}\u001b[39;00m\u001b[38;5;124m\"\u001b[39m)\n\u001b[0;32m     45\u001b[0m \u001b[38;5;28;01mif\u001b[39;00m image_name \u001b[38;5;129;01mis\u001b[39;00m \u001b[38;5;28;01mNone\u001b[39;00m:\n\u001b[1;32m---> 46\u001b[0m     image_name \u001b[38;5;241m=\u001b[39m \u001b[43mAutoBeam\u001b[49m\u001b[38;5;241;43m.\u001b[39;49m\u001b[43mto_docker\u001b[49m\u001b[43m(\u001b[49m\u001b[43mobj\u001b[49m\u001b[38;5;241;43m=\u001b[39;49m\u001b[43mobj\u001b[49m\u001b[43m,\u001b[49m\u001b[43m \u001b[49m\u001b[43mbundle_path\u001b[49m\u001b[38;5;241;43m=\u001b[39;49m\u001b[43mbundle_path\u001b[49m\u001b[43m,\u001b[49m\u001b[43m \u001b[49m\u001b[43mbase_image\u001b[49m\u001b[38;5;241;43m=\u001b[39;49m\u001b[43mconfig\u001b[49m\u001b[38;5;241;43m.\u001b[39;49m\u001b[43mbase_image\u001b[49m\u001b[43m,\u001b[49m\n\u001b[0;32m     47\u001b[0m \u001b[43m                                    \u001b[49m\u001b[43mimage_name\u001b[49m\u001b[38;5;241;43m=\u001b[39;49m\u001b[43mconfig\u001b[49m\u001b[38;5;241;43m.\u001b[39;49m\u001b[43malg_image_name\u001b[49m\u001b[43m,\u001b[49m\u001b[43m \u001b[49m\u001b[43mcopy_bundle\u001b[49m\u001b[38;5;241;43m=\u001b[39;49m\u001b[43mconfig\u001b[49m\u001b[38;5;241;43m.\u001b[39;49m\u001b[43mcopy_bundle\u001b[49m\u001b[43m,\u001b[49m\n\u001b[0;32m     48\u001b[0m \u001b[43m                                    \u001b[49m\u001b[43mbeam_version\u001b[49m\u001b[38;5;241;43m=\u001b[39;49m\u001b[43mconfig\u001b[49m\u001b[38;5;241;43m.\u001b[39;49m\u001b[43mbeam_version\u001b[49m\u001b[43m,\u001b[49m\u001b[43m \u001b[49m\u001b[43mbase_url\u001b[49m\u001b[38;5;241;43m=\u001b[39;49m\u001b[43mconfig\u001b[49m\u001b[38;5;241;43m.\u001b[39;49m\u001b[43mbase_url\u001b[49m\u001b[43m,\u001b[49m\n\u001b[0;32m     49\u001b[0m \u001b[43m                                    \u001b[49m\u001b[43mregistry_url\u001b[49m\u001b[38;5;241;43m=\u001b[39;49m\u001b[43mconfig\u001b[49m\u001b[38;5;241;43m.\u001b[39;49m\u001b[43mregistry_url\u001b[49m\u001b[43m,\u001b[49m\u001b[43m \u001b[49m\u001b[43musername\u001b[49m\u001b[38;5;241;43m=\u001b[39;49m\u001b[43mconfig\u001b[49m\u001b[38;5;241;43m.\u001b[39;49m\u001b[43mregistry_username\u001b[49m\u001b[43m,\u001b[49m\n\u001b[0;32m     50\u001b[0m \u001b[43m                                    \u001b[49m\u001b[43mpassword\u001b[49m\u001b[38;5;241;43m=\u001b[39;49m\u001b[43mconfig\u001b[49m\u001b[38;5;241;43m.\u001b[39;49m\u001b[43mregistry_password\u001b[49m\u001b[43m,\u001b[49m\u001b[43m \u001b[49m\u001b[43mserve_config\u001b[49m\u001b[38;5;241;43m=\u001b[39;49m\u001b[43mconfig\u001b[49m\u001b[43m,\u001b[49m\n\u001b[0;32m     51\u001b[0m \u001b[43m                                    \u001b[49m\u001b[43mregistry_project_name\u001b[49m\u001b[38;5;241;43m=\u001b[39;49m\u001b[43mconfig\u001b[49m\u001b[38;5;241;43m.\u001b[39;49m\u001b[43mregistry_project_name\u001b[49m\u001b[43m,\u001b[49m\n\u001b[0;32m     52\u001b[0m \u001b[43m                                    \u001b[49m\u001b[43mentrypoint\u001b[49m\u001b[38;5;241;43m=\u001b[39;49m\u001b[43mconfig\u001b[49m\u001b[38;5;241;43m.\u001b[39;49m\u001b[43mentrypoint\u001b[49m\u001b[43m,\u001b[49m\u001b[43m \u001b[49m\u001b[43mdockerfile\u001b[49m\u001b[38;5;241;43m=\u001b[39;49m\u001b[43mconfig\u001b[49m\u001b[38;5;241;43m.\u001b[39;49m\u001b[43mdockerfile\u001b[49m\n\u001b[0;32m     53\u001b[0m \u001b[43m                                    \u001b[49m\u001b[43m)\u001b[49m\n\u001b[0;32m     54\u001b[0m     logger\u001b[38;5;241m.\u001b[39minfo(\u001b[38;5;124mf\u001b[39m\u001b[38;5;124m\"\u001b[39m\u001b[38;5;124mImage \u001b[39m\u001b[38;5;132;01m{\u001b[39;00mimage_name\u001b[38;5;132;01m}\u001b[39;00m\u001b[38;5;124m created successfully\u001b[39m\u001b[38;5;124m\"\u001b[39m)\n\u001b[0;32m     56\u001b[0m \u001b[38;5;66;03m# to deployment\u001b[39;00m\n",
      "File \u001b[1;32m~\\PycharmProjects\\beamds\\notebooks\\..\\beam\\auto\\auto.py:475\u001b[0m, in \u001b[0;36mAutoBeam.to_docker\u001b[1;34m(obj, base_image, serve_config, bundle_path, image_name, entrypoint, beam_version, dockerfile, registry_url, base_url, registry_project_name, username, password, copy_bundle, **kwargs)\u001b[0m\n\u001b[0;32m    473\u001b[0m \u001b[38;5;28;01mif\u001b[39;00m obj \u001b[38;5;129;01mis\u001b[39;00m \u001b[38;5;129;01mnot\u001b[39;00m \u001b[38;5;28;01mNone\u001b[39;00m:\n\u001b[0;32m    474\u001b[0m     logger\u001b[38;5;241m.\u001b[39minfo(\u001b[38;5;124mf\u001b[39m\u001b[38;5;124m\"\u001b[39m\u001b[38;5;124mBuilding an object bundle\u001b[39m\u001b[38;5;124m\"\u001b[39m)\n\u001b[1;32m--> 475\u001b[0m     bundle_path \u001b[38;5;241m=\u001b[39m \u001b[43mAutoBeam\u001b[49m\u001b[38;5;241;43m.\u001b[39;49m\u001b[43mto_bundle\u001b[49m\u001b[43m(\u001b[49m\u001b[43mobj\u001b[49m\u001b[43m,\u001b[49m\u001b[43m \u001b[49m\u001b[43mpath\u001b[49m\u001b[38;5;241;43m=\u001b[39;49m\u001b[43mbundle_path\u001b[49m\u001b[43m)\u001b[49m\n\u001b[0;32m    477\u001b[0m logger\u001b[38;5;241m.\u001b[39minfo(\u001b[38;5;124mf\u001b[39m\u001b[38;5;124m\"\u001b[39m\u001b[38;5;124mBuilding a Docker image with the requirements and the object bundle. Base image: \u001b[39m\u001b[38;5;132;01m{\u001b[39;00mbase_image\u001b[38;5;132;01m}\u001b[39;00m\u001b[38;5;124m\"\u001b[39m)\n\u001b[0;32m    478\u001b[0m full_image_name \u001b[38;5;241m=\u001b[39m (\n\u001b[0;32m    479\u001b[0m     AutoBeam\u001b[38;5;241m.\u001b[39m_build_image(bundle_path, base_image, config\u001b[38;5;241m=\u001b[39mserve_config, image_name\u001b[38;5;241m=\u001b[39mimage_name,\n\u001b[0;32m    480\u001b[0m                           entrypoint\u001b[38;5;241m=\u001b[39mentrypoint, beam_version\u001b[38;5;241m=\u001b[39mbeam_version, username\u001b[38;5;241m=\u001b[39musername,\n\u001b[0;32m    481\u001b[0m                           password\u001b[38;5;241m=\u001b[39mpassword, base_url\u001b[38;5;241m=\u001b[39mbase_url, registry_project_name\u001b[38;5;241m=\u001b[39mregistry_project_name,\n\u001b[0;32m    482\u001b[0m                           registry_url\u001b[38;5;241m=\u001b[39mregistry_url, copy_bundle\u001b[38;5;241m=\u001b[39mcopy_bundle, dockerfile\u001b[38;5;241m=\u001b[39mdockerfile))\n",
      "File \u001b[1;32m~\\PycharmProjects\\beamds\\notebooks\\..\\beam\\auto\\auto.py:296\u001b[0m, in \u001b[0;36mAutoBeam.to_bundle\u001b[1;34m(obj, path)\u001b[0m\n\u001b[0;32m    294\u001b[0m path\u001b[38;5;241m.\u001b[39mmkdir()\n\u001b[0;32m    295\u001b[0m logger\u001b[38;5;241m.\u001b[39minfo(\u001b[38;5;124mf\u001b[39m\u001b[38;5;124m\"\u001b[39m\u001b[38;5;124mSaving object\u001b[39m\u001b[38;5;124m'\u001b[39m\u001b[38;5;124ms files to path \u001b[39m\u001b[38;5;132;01m{\u001b[39;00mpath\u001b[38;5;132;01m}\u001b[39;00m\u001b[38;5;124m: [requirements.json, modules.tar.gz, state, requierements.txt]\u001b[39m\u001b[38;5;124m\"\u001b[39m)\n\u001b[1;32m--> 296\u001b[0m path\u001b[38;5;241m.\u001b[39mjoinpath(\u001b[38;5;124m'\u001b[39m\u001b[38;5;124mrequirements.json\u001b[39m\u001b[38;5;124m'\u001b[39m)\u001b[38;5;241m.\u001b[39mwrite(\u001b[43mab\u001b[49m\u001b[38;5;241;43m.\u001b[39;49m\u001b[43mrequirements\u001b[49m)\n\u001b[0;32m    297\u001b[0m ab\u001b[38;5;241m.\u001b[39mwrite_requirements(ab\u001b[38;5;241m.\u001b[39mrequirements, path\u001b[38;5;241m.\u001b[39mjoinpath(\u001b[38;5;124m'\u001b[39m\u001b[38;5;124mrequirements.txt\u001b[39m\u001b[38;5;124m'\u001b[39m))\n\u001b[0;32m    298\u001b[0m ab\u001b[38;5;241m.\u001b[39mmodules_to_tar(path\u001b[38;5;241m.\u001b[39mjoinpath(\u001b[38;5;124m'\u001b[39m\u001b[38;5;124mmodules.tar.gz\u001b[39m\u001b[38;5;124m'\u001b[39m))\n",
      "File \u001b[1;32m~\\PycharmProjects\\beamds\\notebooks\\..\\beam\\utils\\utils_all.py:1167\u001b[0m, in \u001b[0;36mcached_property.__get__\u001b[1;34m(self, instance, owner)\u001b[0m\n\u001b[0;32m   1164\u001b[0m \u001b[38;5;28;01mdef\u001b[39;00m \u001b[38;5;21m__get__\u001b[39m(\u001b[38;5;28mself\u001b[39m, instance, owner\u001b[38;5;241m=\u001b[39m\u001b[38;5;28;01mNone\u001b[39;00m):\n\u001b[0;32m   1165\u001b[0m     \u001b[38;5;28;01mtry\u001b[39;00m:\n\u001b[0;32m   1166\u001b[0m         \u001b[38;5;66;03m# Use super() to call the __get__ method of the parent cached_property class\u001b[39;00m\n\u001b[1;32m-> 1167\u001b[0m         \u001b[38;5;28;01mreturn\u001b[39;00m \u001b[38;5;28;43msuper\u001b[39;49m\u001b[43m(\u001b[49m\u001b[43m)\u001b[49m\u001b[38;5;241;43m.\u001b[39;49m\u001b[38;5;21;43m__get__\u001b[39;49m\u001b[43m(\u001b[49m\u001b[43minstance\u001b[49m\u001b[43m,\u001b[49m\u001b[43m \u001b[49m\u001b[43mowner\u001b[49m\u001b[43m)\u001b[49m\n\u001b[0;32m   1168\u001b[0m     \u001b[38;5;28;01mexcept\u001b[39;00m \u001b[38;5;167;01mAttributeError\u001b[39;00m \u001b[38;5;28;01mas\u001b[39;00m e:\n\u001b[0;32m   1169\u001b[0m         \u001b[38;5;66;03m# Change the AttributeError to BeamAttributeException\u001b[39;00m\n\u001b[0;32m   1170\u001b[0m         \u001b[38;5;28;01mraise\u001b[39;00m CachedAttributeException(\u001b[38;5;124mf\u001b[39m\u001b[38;5;124m\"\u001b[39m\u001b[38;5;124mAn AttributeError occurred in cached_property: \u001b[39m\u001b[38;5;132;01m{\u001b[39;00m\u001b[38;5;28mself\u001b[39m\u001b[38;5;241m.\u001b[39mattrname\u001b[38;5;132;01m}\u001b[39;00m\u001b[38;5;124m\"\u001b[39m) \u001b[38;5;28;01mfrom\u001b[39;00m \u001b[38;5;21;01me\u001b[39;00m\n",
      "File \u001b[1;32m~\\anaconda3\\envs\\oneclick\\lib\\functools.py:981\u001b[0m, in \u001b[0;36mcached_property.__get__\u001b[1;34m(self, instance, owner)\u001b[0m\n\u001b[0;32m    979\u001b[0m val \u001b[38;5;241m=\u001b[39m cache\u001b[38;5;241m.\u001b[39mget(\u001b[38;5;28mself\u001b[39m\u001b[38;5;241m.\u001b[39mattrname, _NOT_FOUND)\n\u001b[0;32m    980\u001b[0m \u001b[38;5;28;01mif\u001b[39;00m val \u001b[38;5;129;01mis\u001b[39;00m _NOT_FOUND:\n\u001b[1;32m--> 981\u001b[0m     val \u001b[38;5;241m=\u001b[39m \u001b[38;5;28;43mself\u001b[39;49m\u001b[38;5;241;43m.\u001b[39;49m\u001b[43mfunc\u001b[49m\u001b[43m(\u001b[49m\u001b[43minstance\u001b[49m\u001b[43m)\u001b[49m\n\u001b[0;32m    982\u001b[0m     \u001b[38;5;28;01mtry\u001b[39;00m:\n\u001b[0;32m    983\u001b[0m         cache[\u001b[38;5;28mself\u001b[39m\u001b[38;5;241m.\u001b[39mattrname] \u001b[38;5;241m=\u001b[39m val\n",
      "File \u001b[1;32m~\\PycharmProjects\\beamds\\notebooks\\..\\beam\\auto\\auto.py:379\u001b[0m, in \u001b[0;36mAutoBeam.requirements\u001b[1;34m(self)\u001b[0m\n\u001b[0;32m    376\u001b[0m versions \u001b[38;5;241m=\u001b[39m defaultdict(\u001b[38;5;28;01mlambda\u001b[39;00m: version\u001b[38;5;241m.\u001b[39mparse(\u001b[38;5;124m'\u001b[39m\u001b[38;5;124m0.0.0\u001b[39m\u001b[38;5;124m'\u001b[39m))\n\u001b[0;32m    377\u001b[0m requirements \u001b[38;5;241m=\u001b[39m {}\n\u001b[1;32m--> 379\u001b[0m \u001b[38;5;28;01mfor\u001b[39;00m module_name \u001b[38;5;129;01min\u001b[39;00m \u001b[38;5;28;43mself\u001b[39;49m\u001b[38;5;241;43m.\u001b[39;49m\u001b[43mmodule_dependencies\u001b[49m:\n\u001b[0;32m    380\u001b[0m     pip_package \u001b[38;5;241m=\u001b[39m \u001b[38;5;28mself\u001b[39m\u001b[38;5;241m.\u001b[39mget_pip_package(module_name)\n\u001b[0;32m    382\u001b[0m     \u001b[38;5;28;01mif\u001b[39;00m pip_package \u001b[38;5;129;01mis\u001b[39;00m \u001b[38;5;129;01mnot\u001b[39;00m \u001b[38;5;28;01mNone\u001b[39;00m:\n",
      "File \u001b[1;32m~\\PycharmProjects\\beamds\\notebooks\\..\\beam\\utils\\utils_all.py:1167\u001b[0m, in \u001b[0;36mcached_property.__get__\u001b[1;34m(self, instance, owner)\u001b[0m\n\u001b[0;32m   1164\u001b[0m \u001b[38;5;28;01mdef\u001b[39;00m \u001b[38;5;21m__get__\u001b[39m(\u001b[38;5;28mself\u001b[39m, instance, owner\u001b[38;5;241m=\u001b[39m\u001b[38;5;28;01mNone\u001b[39;00m):\n\u001b[0;32m   1165\u001b[0m     \u001b[38;5;28;01mtry\u001b[39;00m:\n\u001b[0;32m   1166\u001b[0m         \u001b[38;5;66;03m# Use super() to call the __get__ method of the parent cached_property class\u001b[39;00m\n\u001b[1;32m-> 1167\u001b[0m         \u001b[38;5;28;01mreturn\u001b[39;00m \u001b[38;5;28;43msuper\u001b[39;49m\u001b[43m(\u001b[49m\u001b[43m)\u001b[49m\u001b[38;5;241;43m.\u001b[39;49m\u001b[38;5;21;43m__get__\u001b[39;49m\u001b[43m(\u001b[49m\u001b[43minstance\u001b[49m\u001b[43m,\u001b[49m\u001b[43m \u001b[49m\u001b[43mowner\u001b[49m\u001b[43m)\u001b[49m\n\u001b[0;32m   1168\u001b[0m     \u001b[38;5;28;01mexcept\u001b[39;00m \u001b[38;5;167;01mAttributeError\u001b[39;00m \u001b[38;5;28;01mas\u001b[39;00m e:\n\u001b[0;32m   1169\u001b[0m         \u001b[38;5;66;03m# Change the AttributeError to BeamAttributeException\u001b[39;00m\n\u001b[0;32m   1170\u001b[0m         \u001b[38;5;28;01mraise\u001b[39;00m CachedAttributeException(\u001b[38;5;124mf\u001b[39m\u001b[38;5;124m\"\u001b[39m\u001b[38;5;124mAn AttributeError occurred in cached_property: \u001b[39m\u001b[38;5;132;01m{\u001b[39;00m\u001b[38;5;28mself\u001b[39m\u001b[38;5;241m.\u001b[39mattrname\u001b[38;5;132;01m}\u001b[39;00m\u001b[38;5;124m\"\u001b[39m) \u001b[38;5;28;01mfrom\u001b[39;00m \u001b[38;5;21;01me\u001b[39;00m\n",
      "File \u001b[1;32m~\\anaconda3\\envs\\oneclick\\lib\\functools.py:981\u001b[0m, in \u001b[0;36mcached_property.__get__\u001b[1;34m(self, instance, owner)\u001b[0m\n\u001b[0;32m    979\u001b[0m val \u001b[38;5;241m=\u001b[39m cache\u001b[38;5;241m.\u001b[39mget(\u001b[38;5;28mself\u001b[39m\u001b[38;5;241m.\u001b[39mattrname, _NOT_FOUND)\n\u001b[0;32m    980\u001b[0m \u001b[38;5;28;01mif\u001b[39;00m val \u001b[38;5;129;01mis\u001b[39;00m _NOT_FOUND:\n\u001b[1;32m--> 981\u001b[0m     val \u001b[38;5;241m=\u001b[39m \u001b[38;5;28;43mself\u001b[39;49m\u001b[38;5;241;43m.\u001b[39;49m\u001b[43mfunc\u001b[49m\u001b[43m(\u001b[49m\u001b[43minstance\u001b[49m\u001b[43m)\u001b[49m\n\u001b[0;32m    982\u001b[0m     \u001b[38;5;28;01mtry\u001b[39;00m:\n\u001b[0;32m    983\u001b[0m         cache[\u001b[38;5;28mself\u001b[39m\u001b[38;5;241m.\u001b[39mattrname] \u001b[38;5;241m=\u001b[39m val\n",
      "File \u001b[1;32m~\\PycharmProjects\\beamds\\notebooks\\..\\beam\\auto\\auto.py:191\u001b[0m, in \u001b[0;36mAutoBeam.module_dependencies\u001b[1;34m(self)\u001b[0m\n\u001b[0;32m    188\u001b[0m \u001b[38;5;129m@cached_property\u001b[39m\n\u001b[0;32m    189\u001b[0m \u001b[38;5;28;01mdef\u001b[39;00m \u001b[38;5;21mmodule_dependencies\u001b[39m(\u001b[38;5;28mself\u001b[39m):\n\u001b[0;32m    190\u001b[0m     module_path \u001b[38;5;241m=\u001b[39m beam_path(inspect\u001b[38;5;241m.\u001b[39mgetfile(\u001b[38;5;28mtype\u001b[39m(\u001b[38;5;28mself\u001b[39m\u001b[38;5;241m.\u001b[39mobj)))\u001b[38;5;241m.\u001b[39mresolve()\n\u001b[1;32m--> 191\u001b[0m     modules \u001b[38;5;241m=\u001b[39m \u001b[38;5;28;43mself\u001b[39;49m\u001b[38;5;241;43m.\u001b[39;49m\u001b[43mrecursive_module_dependencies\u001b[49m\u001b[43m(\u001b[49m\u001b[43mmodule_path\u001b[49m\u001b[43m)\u001b[49m\n\u001b[0;32m    192\u001b[0m     \u001b[38;5;28;01mreturn\u001b[39;00m \u001b[38;5;28mlist\u001b[39m(\u001b[38;5;28mset\u001b[39m(modules))\n",
      "File \u001b[1;32m~\\PycharmProjects\\beamds\\notebooks\\..\\beam\\auto\\auto.py:167\u001b[0m, in \u001b[0;36mAutoBeam.recursive_module_dependencies\u001b[1;34m(self, module_path)\u001b[0m\n\u001b[0;32m    165\u001b[0m     \u001b[38;5;28;01mif\u001b[39;00m path \u001b[38;5;129;01min\u001b[39;00m [module_path, \u001b[38;5;28mself\u001b[39m\u001b[38;5;241m.\u001b[39mself_path, \u001b[38;5;28;01mNone\u001b[39;00m]:\n\u001b[0;32m    166\u001b[0m         \u001b[38;5;28;01mcontinue\u001b[39;00m\n\u001b[1;32m--> 167\u001b[0m     internal_modules \u001b[38;5;241m=\u001b[39m \u001b[38;5;28;43mself\u001b[39;49m\u001b[38;5;241;43m.\u001b[39;49m\u001b[43mrecursive_module_dependencies\u001b[49m\u001b[43m(\u001b[49m\u001b[43mpath\u001b[49m\u001b[43m)\u001b[49m\n\u001b[0;32m    168\u001b[0m     modules \u001b[38;5;241m=\u001b[39m modules\u001b[38;5;241m.\u001b[39munion(internal_modules)\n\u001b[0;32m    170\u001b[0m \u001b[38;5;28;01melse\u001b[39;00m:\n",
      "File \u001b[1;32m~\\PycharmProjects\\beamds\\notebooks\\..\\beam\\auto\\auto.py:183\u001b[0m, in \u001b[0;36mAutoBeam.recursive_module_dependencies\u001b[1;34m(self, module_path)\u001b[0m\n\u001b[0;32m    180\u001b[0m                 \u001b[38;5;28;01melse\u001b[39;00m:\n\u001b[0;32m    181\u001b[0m                     path \u001b[38;5;241m=\u001b[39m path\u001b[38;5;241m.\u001b[39mwith_suffix(\u001b[38;5;124m'\u001b[39m\u001b[38;5;124m.py\u001b[39m\u001b[38;5;124m'\u001b[39m)\n\u001b[1;32m--> 183\u001b[0m                 internal_modules \u001b[38;5;241m=\u001b[39m \u001b[38;5;28;43mself\u001b[39;49m\u001b[38;5;241;43m.\u001b[39;49m\u001b[43mrecursive_module_dependencies\u001b[49m\u001b[43m(\u001b[49m\u001b[43mpath\u001b[49m\u001b[43m)\u001b[49m\n\u001b[0;32m    184\u001b[0m                 modules \u001b[38;5;241m=\u001b[39m modules\u001b[38;5;241m.\u001b[39munion(internal_modules)\n\u001b[0;32m    186\u001b[0m \u001b[38;5;28;01mreturn\u001b[39;00m modules\n",
      "File \u001b[1;32m~\\PycharmProjects\\beamds\\notebooks\\..\\beam\\auto\\auto.py:183\u001b[0m, in \u001b[0;36mAutoBeam.recursive_module_dependencies\u001b[1;34m(self, module_path)\u001b[0m\n\u001b[0;32m    180\u001b[0m                 \u001b[38;5;28;01melse\u001b[39;00m:\n\u001b[0;32m    181\u001b[0m                     path \u001b[38;5;241m=\u001b[39m path\u001b[38;5;241m.\u001b[39mwith_suffix(\u001b[38;5;124m'\u001b[39m\u001b[38;5;124m.py\u001b[39m\u001b[38;5;124m'\u001b[39m)\n\u001b[1;32m--> 183\u001b[0m                 internal_modules \u001b[38;5;241m=\u001b[39m \u001b[38;5;28;43mself\u001b[39;49m\u001b[38;5;241;43m.\u001b[39;49m\u001b[43mrecursive_module_dependencies\u001b[49m\u001b[43m(\u001b[49m\u001b[43mpath\u001b[49m\u001b[43m)\u001b[49m\n\u001b[0;32m    184\u001b[0m                 modules \u001b[38;5;241m=\u001b[39m modules\u001b[38;5;241m.\u001b[39munion(internal_modules)\n\u001b[0;32m    186\u001b[0m \u001b[38;5;28;01mreturn\u001b[39;00m modules\n",
      "    \u001b[1;31m[... skipping similar frames: AutoBeam.recursive_module_dependencies at line 183 (2 times)]\u001b[0m\n",
      "File \u001b[1;32m~\\PycharmProjects\\beamds\\notebooks\\..\\beam\\auto\\auto.py:167\u001b[0m, in \u001b[0;36mAutoBeam.recursive_module_dependencies\u001b[1;34m(self, module_path)\u001b[0m\n\u001b[0;32m    165\u001b[0m     \u001b[38;5;28;01mif\u001b[39;00m path \u001b[38;5;129;01min\u001b[39;00m [module_path, \u001b[38;5;28mself\u001b[39m\u001b[38;5;241m.\u001b[39mself_path, \u001b[38;5;28;01mNone\u001b[39;00m]:\n\u001b[0;32m    166\u001b[0m         \u001b[38;5;28;01mcontinue\u001b[39;00m\n\u001b[1;32m--> 167\u001b[0m     internal_modules \u001b[38;5;241m=\u001b[39m \u001b[38;5;28;43mself\u001b[39;49m\u001b[38;5;241;43m.\u001b[39;49m\u001b[43mrecursive_module_dependencies\u001b[49m\u001b[43m(\u001b[49m\u001b[43mpath\u001b[49m\u001b[43m)\u001b[49m\n\u001b[0;32m    168\u001b[0m     modules \u001b[38;5;241m=\u001b[39m modules\u001b[38;5;241m.\u001b[39munion(internal_modules)\n\u001b[0;32m    170\u001b[0m \u001b[38;5;28;01melse\u001b[39;00m:\n",
      "File \u001b[1;32m~\\PycharmProjects\\beamds\\notebooks\\..\\beam\\auto\\auto.py:183\u001b[0m, in \u001b[0;36mAutoBeam.recursive_module_dependencies\u001b[1;34m(self, module_path)\u001b[0m\n\u001b[0;32m    180\u001b[0m                 \u001b[38;5;28;01melse\u001b[39;00m:\n\u001b[0;32m    181\u001b[0m                     path \u001b[38;5;241m=\u001b[39m path\u001b[38;5;241m.\u001b[39mwith_suffix(\u001b[38;5;124m'\u001b[39m\u001b[38;5;124m.py\u001b[39m\u001b[38;5;124m'\u001b[39m)\n\u001b[1;32m--> 183\u001b[0m                 internal_modules \u001b[38;5;241m=\u001b[39m \u001b[38;5;28;43mself\u001b[39;49m\u001b[38;5;241;43m.\u001b[39;49m\u001b[43mrecursive_module_dependencies\u001b[49m\u001b[43m(\u001b[49m\u001b[43mpath\u001b[49m\u001b[43m)\u001b[49m\n\u001b[0;32m    184\u001b[0m                 modules \u001b[38;5;241m=\u001b[39m modules\u001b[38;5;241m.\u001b[39munion(internal_modules)\n\u001b[0;32m    186\u001b[0m \u001b[38;5;28;01mreturn\u001b[39;00m modules\n",
      "    \u001b[1;31m[... skipping similar frames: AutoBeam.recursive_module_dependencies at line 167 (2 times)]\u001b[0m\n",
      "File \u001b[1;32m~\\PycharmProjects\\beamds\\notebooks\\..\\beam\\auto\\auto.py:167\u001b[0m, in \u001b[0;36mAutoBeam.recursive_module_dependencies\u001b[1;34m(self, module_path)\u001b[0m\n\u001b[0;32m    165\u001b[0m     \u001b[38;5;28;01mif\u001b[39;00m path \u001b[38;5;129;01min\u001b[39;00m [module_path, \u001b[38;5;28mself\u001b[39m\u001b[38;5;241m.\u001b[39mself_path, \u001b[38;5;28;01mNone\u001b[39;00m]:\n\u001b[0;32m    166\u001b[0m         \u001b[38;5;28;01mcontinue\u001b[39;00m\n\u001b[1;32m--> 167\u001b[0m     internal_modules \u001b[38;5;241m=\u001b[39m \u001b[38;5;28;43mself\u001b[39;49m\u001b[38;5;241;43m.\u001b[39;49m\u001b[43mrecursive_module_dependencies\u001b[49m\u001b[43m(\u001b[49m\u001b[43mpath\u001b[49m\u001b[43m)\u001b[49m\n\u001b[0;32m    168\u001b[0m     modules \u001b[38;5;241m=\u001b[39m modules\u001b[38;5;241m.\u001b[39munion(internal_modules)\n\u001b[0;32m    170\u001b[0m \u001b[38;5;28;01melse\u001b[39;00m:\n",
      "File \u001b[1;32m~\\PycharmProjects\\beamds\\notebooks\\..\\beam\\auto\\auto.py:124\u001b[0m, in \u001b[0;36mAutoBeam.recursive_module_dependencies\u001b[1;34m(self, module_path)\u001b[0m\n\u001b[0;32m    121\u001b[0m     logger\u001b[38;5;241m.\u001b[39mwarning(\u001b[38;5;124mf\u001b[39m\u001b[38;5;124m\"\u001b[39m\u001b[38;5;124mCould not read module: \u001b[39m\u001b[38;5;132;01m{\u001b[39;00mmodule_path\u001b[38;5;132;01m}\u001b[39;00m\u001b[38;5;124m\"\u001b[39m)\n\u001b[0;32m    122\u001b[0m     \u001b[38;5;28;01mreturn\u001b[39;00m \u001b[38;5;28mset\u001b[39m()\n\u001b[1;32m--> 124\u001b[0m ast_tree \u001b[38;5;241m=\u001b[39m \u001b[43mast\u001b[49m\u001b[38;5;241;43m.\u001b[39;49m\u001b[43mparse\u001b[49m\u001b[43m(\u001b[49m\u001b[43mcontent\u001b[49m\u001b[43m)\u001b[49m\n\u001b[0;32m    125\u001b[0m collector \u001b[38;5;241m=\u001b[39m ImportCollector()\n\u001b[0;32m    126\u001b[0m collector\u001b[38;5;241m.\u001b[39mvisit(ast_tree)\n",
      "File \u001b[1;32m~\\anaconda3\\envs\\oneclick\\lib\\ast.py:50\u001b[0m, in \u001b[0;36mparse\u001b[1;34m(source, filename, mode, type_comments, feature_version)\u001b[0m\n\u001b[0;32m     48\u001b[0m     feature_version \u001b[38;5;241m=\u001b[39m \u001b[38;5;241m-\u001b[39m\u001b[38;5;241m1\u001b[39m\n\u001b[0;32m     49\u001b[0m \u001b[38;5;66;03m# Else it should be an int giving the minor version for 3.x.\u001b[39;00m\n\u001b[1;32m---> 50\u001b[0m \u001b[38;5;28;01mreturn\u001b[39;00m \u001b[38;5;28;43mcompile\u001b[39;49m\u001b[43m(\u001b[49m\u001b[43msource\u001b[49m\u001b[43m,\u001b[49m\u001b[43m \u001b[49m\u001b[43mfilename\u001b[49m\u001b[43m,\u001b[49m\u001b[43m \u001b[49m\u001b[43mmode\u001b[49m\u001b[43m,\u001b[49m\u001b[43m \u001b[49m\u001b[43mflags\u001b[49m\u001b[43m,\u001b[49m\n\u001b[0;32m     51\u001b[0m \u001b[43m               \u001b[49m\u001b[43m_feature_version\u001b[49m\u001b[38;5;241;43m=\u001b[39;49m\u001b[43mfeature_version\u001b[49m\u001b[43m)\u001b[49m\n",
      "\u001b[1;31mValueError\u001b[0m: source code string cannot contain null bytes"
     ]
    }
   ],
   "source": [
    "deploy_server(alg, config)"
   ]
  },
  {
   "cell_type": "code",
   "execution_count": 16,
   "id": "d45b33ac-505c-4faa-9858-dc0104b352f9",
   "metadata": {},
   "outputs": [
    {
     "name": "stdout",
     "output_type": "stream",
     "text": [
      "{'address': '5312 Williams Haven Apt. 648\\nNew Nicholeburgh, FM 68259', 'email': 'jodi43@example.com', 'name': 'Andrew Gonzales'}\n"
     ]
    }
   ],
   "source": [
    "import requests\n",
    "response = requests.post(\n",
    "    'http://fake-alg-44044-oneclick-hdgqr-oneclick.apps.kh-dev.dt.local/alg/client/run', \n",
    "    json={'args': ['hi'], 'kwargs': {}}\n",
    ")\n",
    "print(response.json())"
   ]
  }
 ],
 "metadata": {
  "kernelspec": {
   "display_name": "Python 3 (ipykernel)",
   "language": "python",
   "name": "python3"
  },
  "language_info": {
   "codemirror_mode": {
    "name": "ipython",
    "version": 3
   },
   "file_extension": ".py",
   "mimetype": "text/x-python",
   "name": "python",
   "nbconvert_exporter": "python",
   "pygments_lexer": "ipython3",
   "version": "3.10.14"
  }
 },
 "nbformat": 4,
 "nbformat_minor": 5
}
