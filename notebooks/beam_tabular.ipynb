{
 "cells": [
  {
   "cell_type": "code",
   "execution_count": 5,
   "id": "91ad72a5-0538-4c1f-b9af-e52883472672",
   "metadata": {},
   "outputs": [
    {
     "name": "stdout",
     "output_type": "stream",
     "text": [
      "The beam_setup extension is already loaded. To reload it, use:\n",
      "  %reload_ext beam_setup\n"
     ]
    }
   ],
   "source": [
    "%load_ext beam_setup\n",
    "# beam_key('comet_api_key', 'jthyXB1jO4czVy63ntyWZSnlf')"
   ]
  },
  {
   "cell_type": "code",
   "execution_count": 2,
   "id": "a873097c-7f33-4c46-9692-3c5b128ab5af",
   "metadata": {},
   "outputs": [
    {
     "name": "stderr",
     "output_type": "stream",
     "text": [
      "deepchecks - WARNING - It is recommended to initialize Dataset with categorical features by doing \"Dataset(df, cat_features=categorical_list)\". No categorical features were passed, therefore heuristically inferring categorical features in the data. 44 categorical features were inferred.: 10, 11, 12, 13, 14, 15, 16... For full list use dataset.cat_features\n"
     ]
    }
   ],
   "source": [
    "from beam.tabular import TabularHparams, TabularDataset, TabularTransformer, DeepTabularAlg\n",
    "\n",
    "path_to_data = '/home/shared/data/dataset/tabular/data/'\n",
    "path_to_results = '/home/shared/data/results'\n",
    "\n",
    "hparams = TabularHparams(identifier='spline', path_to_data=path_to_data, device=1,\n",
    "                             path_to_results=path_to_results, dataset_name='covtype', comet=True,\n",
    "                             copy_code=False, stop_at=0.98, parallel=1)\n",
    "\n",
    "exp = Experiment(hparams)\n",
    "\n",
    "dataset = TabularDataset(exp.hparams)\n",
    "net = TabularTransformer(exp.hparams, dataset.n_classes, dataset.n_tokens, dataset.cat_mask)\n",
    "alg = DeepTabularAlg(exp.hparams, networks=net)"
   ]
  },
  {
   "cell_type": "code",
   "execution_count": 3,
   "id": "f77408d3-7c5f-43f1-bb1d-66a0ffda801d",
   "metadata": {},
   "outputs": [
    {
     "name": "stdout",
     "output_type": "stream",
     "text": [
      "\u001B[32m2023-07-18 06:20:19\u001B[0m | BeamLog | \u001B[1mINFO\u001B[0m | \u001B[1mCreating new experiment (Beam version: 2.1.1)\u001B[0m\n",
      "\u001B[32m2023-07-18 06:20:19\u001B[0m | BeamLog | \u001B[1mINFO\u001B[0m | \u001B[1mExperiment directory is: /root/beam_projects/results/deep_tabular/TabularNet/spline/0000_20230718_062015\u001B[0m\n",
      "\u001B[32m2023-07-18 06:20:19\u001B[0m | BeamLog | \u001B[1mINFO\u001B[0m | \u001B[1mSingle worker mode\u001B[0m\n",
      "\u001B[32m2023-07-18 06:20:19\u001B[0m | BeamLog | \u001B[1mINFO\u001B[0m | \u001B[1mWorker: 1/1 is running...\u001B[0m\n",
      "\u001B[32m2023-07-18 06:20:19\u001B[0m | BeamLog | \u001B[1mINFO\u001B[0m | \u001B[1mWorker 1 will be running on device=cuda:1\u001B[0m\n"
     ]
    },
    {
     "data": {
      "application/vnd.jupyter.widget-view+json": {
       "model_id": "99155e52938a45ff862f041a1b88cea8",
       "version_major": 2,
       "version_minor": 0
      },
      "text/plain": [
       "train:   0%|          | 1/727 [00:00<?, ?it/s]"
      ]
     },
     "metadata": {},
     "output_type": "display_data"
    },
    {
     "name": "stdout",
     "output_type": "stream",
     "text": [
      "\u001B[32m2023-07-18 06:21:41\u001B[0m | BeamLog | \u001B[1mINFO\u001B[0m | \u001B[1m-------------------------------------------------------------------------------------------------------------------------------\u001B[0m\n",
      "\u001B[32m2023-07-18 06:21:41\u001B[0m | BeamLog | \u001B[1mINFO\u001B[0m | \u001B[1mFinished epoch 1/100 (Total trained epochs 1). Current objective: 0.725300   (Best objective: 0.725300    at epoch 1)\u001B[0m\n",
      "\u001B[32m2023-07-18 06:21:41\u001B[0m | BeamLog | \u001B[1mINFO\u001B[0m | \u001B[1mElapsed time: 1.35 minutes. Estimated remaining time: 2.24 hours.\u001B[0m\n",
      "\u001B[32m2023-07-18 06:21:41\u001B[0m | BeamLog | \u001B[1mINFO\u001B[0m | \u001B[1mtrain:\u001B[0m\n",
      "\u001B[32m2023-07-18 06:21:41\u001B[0m | BeamLog | \u001B[1mINFO\u001B[0m | \u001B[1mseconds:  77.0 | batches: 727 | samples:  3.722e+05 | batch_rate:  9.441 [iter/sec] | sample_rate:  4.834e+03 [iter/sec] \u001B[0m\n",
      "\u001B[32m2023-07-18 06:21:41\u001B[0m | BeamLog | \u001B[1mINFO\u001B[0m | \u001B[1mloss:        | avg:435.31     | std:129.03     | min:303.05     | 25%:361.0900   | 50%:378.67     | 75%:493.97     | max:1820.9     \u001B[0m\n",
      "\u001B[32m2023-07-18 06:21:41\u001B[0m | BeamLog | \u001B[1mINFO\u001B[0m | \u001B[1macc:         | avg:0.6487     | std:0.090720   | min:0.017570   | 25%:0.637600   | 50%:0.6816     | 75%:0.701100   | max:0.7578     \u001B[0m\n",
      "\u001B[32m2023-07-18 06:21:41\u001B[0m | BeamLog | \u001B[1mINFO\u001B[0m | \u001B[1mlr_n...ense: | val:8.526e-05  \u001B[0m\n",
      "\u001B[32m2023-07-18 06:21:41\u001B[0m | BeamLog | \u001B[1mINFO\u001B[0m | \u001B[1mmome...ense: | val:0.949700   \u001B[0m\n",
      "\u001B[32m2023-07-18 06:21:41\u001B[0m | BeamLog | \u001B[1mINFO\u001B[0m | \u001B[1mlr_n...arse: | val:0.000852   \u001B[0m\n",
      "\u001B[32m2023-07-18 06:21:41\u001B[0m | BeamLog | \u001B[1mINFO\u001B[0m | \u001B[1mmome...arse: | val:0.949700   \u001B[0m\n",
      "\u001B[32m2023-07-18 06:21:41\u001B[0m | BeamLog | \u001B[1mINFO\u001B[0m | \u001B[1mvalidation:\u001B[0m\n",
      "\u001B[32m2023-07-18 06:21:41\u001B[0m | BeamLog | \u001B[1mINFO\u001B[0m | \u001B[1mseconds:  4.734 | batches: 182 | samples:  9.318e+04 | batch_rate:  38.45 [iter/sec] | sample_rate:  1.969e+04 [iter/sec] \u001B[0m\n",
      "\u001B[32m2023-07-18 06:21:41\u001B[0m | BeamLog | \u001B[1mINFO\u001B[0m | \u001B[1mloss:        | avg:330.43     | std:17.015     | min:280.92     | 25%:319.45     | 50%:330.52     | 75%:339.35     | max:376.16     \u001B[0m\n",
      "\u001B[32m2023-07-18 06:21:41\u001B[0m | BeamLog | \u001B[1mINFO\u001B[0m | \u001B[1macc:         | avg:0.725300   | std:0.021500   | min:0.6542     | 25%:0.710900   | 50%:0.7265     | 75%:0.7397     | max:0.7773     \u001B[0m\n",
      "\u001B[32m2023-07-18 06:21:41\u001B[0m | BeamLog | \u001B[1mINFO\u001B[0m | \u001B[1mTensorboard results are stored to: /root/beam_projects/results/deep_tabular/TabularNet/spline/0000_20230718_062015\u001B[0m\n"
     ]
    },
    {
     "data": {
      "application/vnd.jupyter.widget-view+json": {
       "model_id": "c2d21c16b3ef4e80bc0979d286b6d15d",
       "version_major": 2,
       "version_minor": 0
      },
      "text/plain": [
       "train:   1%|1         | 10/727 [00:00<?, ?it/s]"
      ]
     },
     "metadata": {},
     "output_type": "display_data"
    },
    {
     "name": "stdout",
     "output_type": "stream",
     "text": [
      "\u001B[32m2023-07-18 06:21:54\u001B[0m | BeamLog | \u001B[33m\u001B[1mWARNING\u001B[0m | \u001B[33m\u001B[1mKeyboardInterrupt: Training was interrupted, Worker terminates.\u001B[0m\n"
     ]
    }
   ],
   "source": [
    "alg = exp.fit(Alg=alg, Dataset=dataset)"
   ]
  },
  {
   "cell_type": "code",
   "execution_count": 4,
   "id": "ac8f09f3-4de1-41d0-b818-0910caecb50b",
   "metadata": {},
   "outputs": [],
   "source": [
    "%load_ext tensorboard"
   ]
  },
  {
   "cell_type": "code",
   "execution_count": 5,
   "id": "f572a9cd-b361-4b53-981f-b8b151f224d0",
   "metadata": {},
   "outputs": [
    {
     "name": "stdout",
     "output_type": "stream",
     "text": [
      "\u001B[32m2023-07-18 06:23:23\u001B[0m | BeamLog | \u001B[1mINFO\u001B[0m | \u001B[1mOpening a tensorboard server on port: 43766\u001B[0m\n"
     ]
    },
    {
     "data": {
      "text/html": [
       "\n",
       "      <iframe id=\"tensorboard-frame-17a9ca3976ec4d84\" width=\"100%\" height=\"800\" frameborder=\"0\">\n",
       "      </iframe>\n",
       "      <script>\n",
       "        (function() {\n",
       "          const frame = document.getElementById(\"tensorboard-frame-17a9ca3976ec4d84\");\n",
       "          const url = new URL(\"/\", window.location);\n",
       "          const port = 43766;\n",
       "          if (port) {\n",
       "            url.port = port;\n",
       "          }\n",
       "          frame.src = url;\n",
       "        })();\n",
       "      </script>\n",
       "    "
      ],
      "text/plain": [
       "<IPython.core.display.HTML object>"
      ]
     },
     "metadata": {},
     "output_type": "display_data"
    }
   ],
   "source": [
    "exp.tensorboard()"
   ]
  }
 ],
 "metadata": {
  "kernelspec": {
   "display_name": "Python 3 (ipykernel)",
   "language": "python",
   "name": "python3"
  },
  "language_info": {
   "codemirror_mode": {
    "name": "ipython",
    "version": 3
   },
   "file_extension": ".py",
   "mimetype": "text/x-python",
   "name": "python",
   "nbconvert_exporter": "python",
   "pygments_lexer": "ipython3",
   "version": "3.10.6"
  }
 },
 "nbformat": 4,
 "nbformat_minor": 5
}
