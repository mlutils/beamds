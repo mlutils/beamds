{
 "cells": [
  {
   "cell_type": "code",
   "execution_count": 19,
   "id": "c6141b77-f3f9-41e9-9756-c80a1f7cc862",
   "metadata": {
    "pycharm": {
     "name": "#%%\n"
    }
   },
   "outputs": [
    {
     "name": "stdout",
     "output_type": "stream",
     "text": [
      "The autoreload extension is already loaded. To reload it, use:\n",
      "  %reload_ext autoreload\n"
     ]
    }
   ],
   "source": [
    "%load_ext autoreload\n",
    "%autoreload 2\n",
    "\n",
    "import torch\n",
    "import torchvision\n",
    "import torch.nn.functional as F\n",
    "from torch import nn\n",
    "from sklearn.metrics import precision_recall_fscore_support\n",
    "import numpy as np\n",
    "import pandas as pd\n",
    "import faiss                   # make faiss available\n",
    "import umap\n",
    "import seaborn as sns\n",
    "%matplotlib inline\n",
    "from byol_pytorch import BYOL\n",
    "\n",
    "import os\n",
    "import sys\n",
    "import matplotlib.pyplot as plt\n",
    "from sklearn import svm\n",
    "sys.path.append('..')\n",
    "\n",
    "import torchvision.models as models\n",
    "from torchvision import transforms\n",
    "from torchvision.models.feature_extraction import get_graph_node_names\n",
    "from torchvision.models.feature_extraction import create_feature_extractor\n",
    "\n",
    "from sklearn.metrics import precision_recall_fscore_support, accuracy_score\n",
    "from sklearn.ensemble import BaggingClassifier, RandomForestClassifier\n",
    "from sklearn.linear_model import LogisticRegression\n",
    "from sklearn.manifold import TSNE\n",
    "\n",
    "from pl_bolts.models.self_supervised import SimCLR\n",
    "import lightgbm as lgb\n",
    "import kornia\n",
    "from kornia.augmentation.container import AugmentationSequential\n",
    "\n",
    "import torchvision.transforms.functional as tvF\n",
    "from src.beam import UniversalDataset, Experiment, Algorithm, beam_arguments, PackedFolds, batch_augmentation\n",
    "from src.beam import tqdm, as_numpy\n",
    "from examples.ssl_with_beam import STL10Dataset, my_ssl_algorithm, ImageNetAugmented"
   ]
  },
  {
   "cell_type": "code",
   "execution_count": 20,
   "id": "abb2a417-1aed-46c5-8ea3-383f36bf718d",
   "metadata": {
    "pycharm": {
     "name": "#%%\n"
    }
   },
   "outputs": [
    {
     "name": "stdout",
     "output_type": "stream",
     "text": [
      "\u001B[32m2022-09-21 10:38:02\u001B[0m | \u001B[1mINFO\u001B[0m | \u001B[1mReload experiment from path: /home/shared/data/results/beam_ssl/BeamVICReg/resnet_parallel/0000_20220823_132503\u001B[0m\n",
      "\u001B[32m2022-09-21 10:38:02\u001B[0m | \u001B[1mINFO\u001B[0m | \u001B[1mResuming existing experiment\u001B[0m\n",
      "\u001B[32m2022-09-21 10:38:02\u001B[0m | \u001B[1mINFO\u001B[0m | \u001B[1mReload experiment from checkpoint: /home/shared/data/results/beam_ssl/BeamVICReg/resnet_parallel/0000_20220823_132503/checkpoints/checkpoint_001811\u001B[0m\n"
     ]
    }
   ],
   "source": [
    "experiment = Experiment.reload_from_path(\"/home/shared/data/results/beam_ssl/BeamVICReg/resnet_parallel/0000_20220823_132503\", \n",
    "                                         override_hparams={'device': 2, 'lgb_device': None,\n",
    "                                                           'lgb_rounds': 40, 'lgb_num_leaves': 31,\n",
    "                                                           'lgb_max_depth': 4,\n",
    "                                                           'verbose_lgb': False,})\n"
   ]
  },
  {
   "cell_type": "code",
   "execution_count": 21,
   "id": "18abb135-3a33-4b00-b2ef-d92513ac7c3a",
   "metadata": {
    "pycharm": {
     "name": "#%%\n"
    }
   },
   "outputs": [
    {
     "name": "stderr",
     "output_type": "stream",
     "text": [
      "/opt/conda/lib/python3.8/site-packages/kornia/augmentation/_2d/intensity/color_jitter.py:83: DeprecationWarning: `ColorJitter` is now following Torchvision implementation. Old behavior can be retrieved by instantiating `ColorJiggle`.\n",
      "  warnings.warn(\n",
      "/opt/conda/lib/python3.8/site-packages/kornia/augmentation/_2d/intensity/color_jitter.py:83: DeprecationWarning: `ColorJitter` is now following Torchvision implementation. Old behavior can be retrieved by instantiating `ColorJiggle`.\n",
      "  warnings.warn(\n"
     ]
    }
   ],
   "source": [
    "dataset_unlabeled = STL10Dataset(experiment.hparams, subset='unlabeled')\n",
    "dataset_labeled = STL10Dataset(experiment.hparams, subset='labeled')"
   ]
  },
  {
   "cell_type": "code",
   "execution_count": 22,
   "id": "a4eeaa1e-082b-4f9b-9291-217d492f94ba",
   "metadata": {
    "pycharm": {
     "name": "#%%\n"
    }
   },
   "outputs": [],
   "source": [
    "from src.beam.server import BeamClient"
   ]
  },
  {
   "cell_type": "code",
   "execution_count": 23,
   "id": "cb9721d4-abe4-49f6-b068-6013fe9a85cc",
   "metadata": {
    "pycharm": {
     "name": "#%%\n"
    }
   },
   "outputs": [],
   "source": [
    "client = BeamClient('localhost:46664')"
   ]
  },
  {
   "cell_type": "code",
   "execution_count": 24,
   "id": "d05a62d8-8c8c-4f06-ab37-e956406cd43e",
   "metadata": {
    "pycharm": {
     "name": "#%%\n"
    }
   },
   "outputs": [],
   "source": [
    "info = client.get('')"
   ]
  },
  {
   "cell_type": "code",
   "execution_count": 29,
   "id": "9d07fa7c-1b10-4893-9ea8-5f36f28e9dbb",
   "metadata": {
    "pycharm": {
     "name": "#%%\n"
    }
   },
   "outputs": [],
   "source": [
    "preds = client.post('alg/predict', dataset_labeled[400:500])"
   ]
  },
  {
   "cell_type": "code",
   "execution_count": 28,
   "id": "336faa9b-eba5-4f24-98ff-7b670951da71",
   "metadata": {
    "pycharm": {
     "name": "#%%\n"
    }
   },
   "outputs": [
    {
     "data": {
      "text/plain": [
       "DataBatch(index=tensor([400, 401, 402, 403, 404, 405, 406, 407, 408, 409, 410, 411, 412, 413,\n",
       "        414, 415, 416, 417, 418, 419, 420, 421, 422, 423, 424, 425, 426, 427,\n",
       "        428, 429, 430, 431, 432, 433, 434, 435, 436, 437, 438, 439, 440, 441,\n",
       "        442, 443, 444, 445, 446, 447, 448, 449, 450, 451, 452, 453, 454, 455,\n",
       "        456, 457, 458, 459, 460, 461, 462, 463, 464, 465, 466, 467, 468, 469,\n",
       "        470, 471, 472, 473, 474, 475, 476, 477, 478, 479, 480, 481, 482, 483,\n",
       "        484, 485, 486, 487, 488, 489, 490, 491, 492, 493, 494, 495, 496, 497,\n",
       "        498, 499]), data={'y': tensor([ 3,  8,  5, 10,  8,  7,  4,  6,  1,  6,  5,  8,  1,  8, 10,  7,  2,  9,\n",
       "         3,  3,  3,  2,  1, 10,  6,  2, 10,  3,  8,  3,  1, 10,  2,  7,  5,  6,\n",
       "         6,  1,  7,  3,  8,  3,  4,  3,  1,  6,  9,  8,  9,  9,  6,  6,  6,  9,\n",
       "         8,  4, 10,  2, 10,  2,  1,  7,  4,  7,  2,  7,  1,  6,  3,  8,  8,  2,\n",
       "         9,  7,  8,  7,  4,  8,  1, 10,  2,  9,  6,  9,  9, 10,  5,  1, 10,  2,\n",
       "         6,  3,  5,  4,  8,  6,  2,  7,  3,  5], device='cuda:2',\n",
       "       dtype=torch.uint8), 'h': tensor([[0.0145, 0.0109, 0.0000,  ..., 0.0000, 0.0000, 0.0028],\n",
       "        [0.0000, 0.0000, 0.0000,  ..., 0.0000, 0.0000, 0.0026],\n",
       "        [0.0000, 0.0000, 0.0118,  ..., 0.1240, 0.0000, 0.0000],\n",
       "        ...,\n",
       "        [0.0036, 0.0000, 0.0000,  ..., 0.0161, 0.0000, 0.0084],\n",
       "        [0.0018, 0.0024, 0.0000,  ..., 0.0000, 0.0000, 0.0000],\n",
       "        [0.0000, 0.0000, 0.0000,  ..., 0.0373, 0.0000, 0.0140]],\n",
       "       device='cuda:2'), 'z': tensor([[-0.5857, -0.6010,  0.5299,  ...,  0.4816,  0.4371,  0.5279],\n",
       "        [ 0.1771,  0.6091, -0.1718,  ..., -0.6471,  0.6089, -0.5006],\n",
       "        [-0.3164,  0.2655,  0.3511,  ...,  0.3666, -0.3309,  0.3519],\n",
       "        ...,\n",
       "        [ 0.1801,  0.2254, -0.6458,  ..., -0.2097,  0.0827, -0.3585],\n",
       "        [-0.2466,  0.3545,  0.3577,  ..., -0.4067,  0.3959,  0.7936],\n",
       "        [-0.4760,  0.4761,  0.4454,  ..., -0.4037, -0.5142,  0.4623]],\n",
       "       device='cuda:2')})"
      ]
     },
     "execution_count": 28,
     "metadata": {},
     "output_type": "execute_result"
    }
   ],
   "source": [
    "preds"
   ]
  },
  {
   "cell_type": "code",
   "execution_count": null,
   "id": "02686a0d-75f0-4158-a774-dd01c6d71723",
   "metadata": {
    "pycharm": {
     "name": "#%%\n"
    }
   },
   "outputs": [],
   "source": []
  }
 ],
 "metadata": {
  "kernelspec": {
   "display_name": "Python 3 (ipykernel)",
   "language": "python",
   "name": "python3"
  },
  "language_info": {
   "codemirror_mode": {
    "name": "ipython",
    "version": 3
   },
   "file_extension": ".py",
   "mimetype": "text/x-python",
   "name": "python",
   "nbconvert_exporter": "python",
   "pygments_lexer": "ipython3",
   "version": "3.8.13"
  }
 },
 "nbformat": 4,
 "nbformat_minor": 5
}