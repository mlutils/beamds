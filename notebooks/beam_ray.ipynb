{
 "cells": [
  {
   "cell_type": "code",
   "execution_count": 1,
   "id": "9384396f-9099-4bde-8aad-e8c7ddbb7db9",
   "metadata": {},
   "source": [
    "%load_ext beam_setup"
   ],
   "outputs": []
  },
  {
   "cell_type": "code",
   "execution_count": 2,
   "id": "184a8e3d-ff9a-48fa-a723-003a0234e149",
   "metadata": {},
   "source": [
    "from beam.distributed.ray_dispatcher import RayDispatcher, RayCluster"
   ],
   "outputs": []
  },
  {
   "cell_type": "code",
   "execution_count": 3,
   "id": "64c8d436-31e6-46d4-90ff-ac114c5906d8",
   "metadata": {},
   "source": [
    "RayCluster(ray_kwargs={'runtime_env': {\"working_dir\": \"../src\" }})"
   ],
   "outputs": []
  },
  {
   "cell_type": "markdown",
   "id": "de547748-72c4-4e05-993b-581416ed4f9c",
   "metadata": {},
   "source": [
    "## funcs"
   ]
  },
  {
   "cell_type": "code",
   "execution_count": 4,
   "id": "b5f0a2a3-0688-479a-94d2-c1b70fab2b1a",
   "metadata": {},
   "source": [
    "def func(x, y):\n",
    "    return x * y"
   ],
   "outputs": []
  },
  {
   "cell_type": "code",
   "execution_count": 5,
   "id": "236c5e71-bdb8-4e4f-9d16-b05f8f855676",
   "metadata": {},
   "source": [
    "fray = RayDispatcher(func)"
   ],
   "outputs": []
  },
  {
   "cell_type": "code",
   "execution_count": 6,
   "id": "a5a811ab-9ae1-44e7-9ebd-4626667476a2",
   "metadata": {},
   "source": [
    "fray(3, 4)"
   ],
   "outputs": []
  },
  {
   "cell_type": "markdown",
   "id": "47a2b467-1145-4e6f-b401-b54fcdcc544d",
   "metadata": {},
   "source": [
    "## methods"
   ]
  },
  {
   "cell_type": "code",
   "execution_count": 7,
   "id": "59b41ee0-f2bc-40b1-9f47-090f286580c3",
   "metadata": {},
   "source": [
    "from beam.misc import BeamFakeAlg"
   ],
   "outputs": []
  },
  {
   "cell_type": "code",
   "execution_count": 8,
   "id": "020d3194-ece6-4d61-9070-a823caee1051",
   "metadata": {},
   "source": [
    "alg = BeamFakeAlg()"
   ],
   "outputs": []
  },
  {
   "cell_type": "code",
   "execution_count": 9,
   "id": "20ec0f1b-5af8-45c2-b373-b3e44e6c24e5",
   "metadata": {},
   "source": [
    "alg.run(1)"
   ],
   "outputs": []
  },
  {
   "cell_type": "markdown",
   "id": "d36617a8-63d7-4027-84ce-3390536fb2df",
   "metadata": {},
   "source": [
    "## classes"
   ]
  },
  {
   "cell_type": "code",
   "execution_count": 10,
   "id": "8ea9aca9-f492-4438-97c7-3cd1fd690b27",
   "metadata": {},
   "source": [
    "BeamFakeAlgRemote = RayDispatcher(BeamFakeAlg)"
   ],
   "outputs": []
  },
  {
   "cell_type": "code",
   "execution_count": 11,
   "id": "0199729e-8d75-48ae-a3a3-cbea415b534f",
   "metadata": {},
   "source": [
    "alg = BeamFakeAlgRemote()"
   ],
   "outputs": []
  },
  {
   "cell_type": "code",
   "execution_count": 12,
   "id": "fe1057c7-2ab0-4848-adaa-82b4df06add5",
   "metadata": {},
   "source": [
    "alg.run(1)"
   ],
   "outputs": []
  },
  {
   "cell_type": "markdown",
   "id": "4102ae73-656e-49f4-a0aa-77349329d477",
   "metadata": {},
   "source": [
    "# objects store"
   ]
  },
  {
   "cell_type": "code",
   "execution_count": 14,
   "id": "415fe06c-6567-44f3-badb-b46bde7452c7",
   "metadata": {},
   "source": [
    "import ray"
   ],
   "outputs": []
  },
  {
   "cell_type": "code",
   "execution_count": 15,
   "id": "334ecffa-a85b-47d4-8774-a160295d6100",
   "metadata": {},
   "source": [
    "a = ray.put(False)"
   ],
   "outputs": []
  },
  {
   "cell_type": "code",
   "execution_count": 25,
   "id": "231d1a5d-3a77-4221-8fca-06ae5a7b6997",
   "metadata": {},
   "source": [
    "ray.get(a)"
   ],
   "outputs": []
  }
 ],
 "metadata": {
  "kernelspec": {
   "display_name": "Python 3 (ipykernel)",
   "language": "python",
   "name": "python3"
  },
  "language_info": {
   "codemirror_mode": {
    "name": "ipython",
    "version": 3
   },
   "file_extension": ".py",
   "mimetype": "text/x-python",
   "name": "python",
   "nbconvert_exporter": "python",
   "pygments_lexer": "ipython3",
   "version": "3.10.12"
  }
 },
 "nbformat": 4,
 "nbformat_minor": 5
}
