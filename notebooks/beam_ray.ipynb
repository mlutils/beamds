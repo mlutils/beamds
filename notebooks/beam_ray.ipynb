{
 "cells": [
  {
   "cell_type": "code",
   "execution_count": 1,
   "id": "9384396f-9099-4bde-8aad-e8c7ddbb7db9",
   "metadata": {},
   "outputs": [
    {
     "name": "stdout",
     "output_type": "stream",
     "text": [
      "Setting up the Beam environment for interactive use\n",
      "Standard modules will be automatically imported so you can use them without explicit import\n",
      "Done importing packages. It took:  3.8 seconds\n",
      "Beam library is loaded from path: /flash/beamds/src/beam\n",
      "The Beam version is: 2.5.6\n"
     ]
    }
   ],
   "source": [
    "%load_ext beam_setup"
   ]
  },
  {
   "cell_type": "code",
   "execution_count": 2,
   "id": "184a8e3d-ff9a-48fa-a723-003a0234e149",
   "metadata": {},
   "outputs": [],
   "source": [
    "from beam.distributed.ray_dispatcher import RayDispatcher, RayClient"
   ]
  },
  {
   "cell_type": "code",
   "execution_count": 4,
   "id": "64c8d436-31e6-46d4-90ff-ac114c5906d8",
   "metadata": {},
   "outputs": [
    {
     "name": "stderr",
     "output_type": "stream",
     "text": [
      "2024-06-04 20:34:35,222\tINFO worker.py:1564 -- Connecting to existing Ray cluster at address: 0.0.0.0:29978...\n",
      "2024-06-04 20:34:35,226\tINFO worker.py:1740 -- Connected to Ray cluster. View the dashboard at \u001b[1m\u001b[32m0.0.0.0:29990 \u001b[39m\u001b[22m\n",
      "2024-06-04 20:34:35,247\tINFO packaging.py:530 -- Creating a file package for local directory '../src'.\n",
      "2024-06-04 20:34:35,276\tINFO packaging.py:358 -- Pushing file package 'gcs://_ray_pkg_a186d2e3dee1d8e0.zip' (1.86MiB) to Ray cluster...\n",
      "2024-06-04 20:34:35,281\tINFO packaging.py:371 -- Successfully pushed file package 'gcs://_ray_pkg_a186d2e3dee1d8e0.zip'.\n"
     ]
    },
    {
     "data": {
      "text/plain": [
       "<beam.distributed.ray_dispatcher.RayClient at 0x7fb33c290c70>"
      ]
     },
     "execution_count": 4,
     "metadata": {},
     "output_type": "execute_result"
    },
    {
     "name": "stdout",
     "output_type": "stream",
     "text": [
      "\u001b[36m(RemoteClassWrapper pid=24219)\u001b[0m \u001b[32m2024-06-04 20:34:47\u001b[0m | BeamLog | \u001b[33m\u001b[1mWARNING\u001b[0m | \u001b[33m\u001b[1mParsing unkown arguments: ['--node-ip-address=0.0.0.0', '--node-manager-port=46685', '--object-store-name=/tmp/ray/session_2024-06-04_19-39-03_912692_75/sockets/plasma_store', '--raylet-name=/tmp/ray/session_2024-06-04_19-39-03_912692_75/sockets/raylet', '--redis-address=None', '--metrics-agent-port=53563', '--runtime-env-agent-port=62158', '--logging-rotate-bytes=536870912', '--logging-rotate-backup-count=5', '--runtime-env-agent-port=62158', '--gcs-address=0.0.0.0:29978', '--session-name=session_2024-06-04_19-39-03_912692_75', '--temp-dir=/tmp/ray', '--webui=0.0.0.0:29990', '--cluster-id=cd17fc495aa09413ac09a4ee7a337c7023906cb0ca71eaa0e932a275', '--startup-token=99', '--worker-launch-time-ms=1717533285470', '--node-id=52ce8c5a12914a9fa0513548c436e5a3c9e87985497134380e66f0ea', '--runtime-env-hash=-1827668178']. Please check for typos\u001b[0m\n"
     ]
    }
   ],
   "source": [
    "RayClient(ray_kwargs={'runtime_env': {\"working_dir\": \"../src\" }})"
   ]
  },
  {
   "cell_type": "markdown",
   "id": "de547748-72c4-4e05-993b-581416ed4f9c",
   "metadata": {},
   "source": [
    "## funcs"
   ]
  },
  {
   "cell_type": "code",
   "execution_count": 5,
   "id": "b5f0a2a3-0688-479a-94d2-c1b70fab2b1a",
   "metadata": {},
   "outputs": [],
   "source": [
    "def func(x, y):\n",
    "    return x * y"
   ]
  },
  {
   "cell_type": "code",
   "execution_count": 6,
   "id": "236c5e71-bdb8-4e4f-9d16-b05f8f855676",
   "metadata": {},
   "outputs": [],
   "source": [
    "fray = RayDispatcher(func)"
   ]
  },
  {
   "cell_type": "code",
   "execution_count": 7,
   "id": "a5a811ab-9ae1-44e7-9ebd-4626667476a2",
   "metadata": {},
   "outputs": [],
   "source": [
    "res = fray(3, 4)"
   ]
  },
  {
   "cell_type": "code",
   "execution_count": 8,
   "id": "5df5c24c-63c9-42d5-bd29-451a25c76f8a",
   "metadata": {},
   "outputs": [
    {
     "data": {
      "text/plain": [
       "12"
      ]
     },
     "execution_count": 8,
     "metadata": {},
     "output_type": "execute_result"
    }
   ],
   "source": [
    "res.value"
   ]
  },
  {
   "cell_type": "markdown",
   "id": "47a2b467-1145-4e6f-b401-b54fcdcc544d",
   "metadata": {},
   "source": [
    "## methods"
   ]
  },
  {
   "cell_type": "code",
   "execution_count": 9,
   "id": "59b41ee0-f2bc-40b1-9f47-090f286580c3",
   "metadata": {},
   "outputs": [],
   "source": [
    "from beam.misc import BeamFakeAlg"
   ]
  },
  {
   "cell_type": "code",
   "execution_count": 10,
   "id": "020d3194-ece6-4d61-9070-a823caee1051",
   "metadata": {},
   "outputs": [],
   "source": [
    "alg = BeamFakeAlg()"
   ]
  },
  {
   "cell_type": "code",
   "execution_count": 11,
   "id": "20ec0f1b-5af8-45c2-b373-b3e44e6c24e5",
   "metadata": {},
   "outputs": [
    {
     "data": {
      "text/plain": [
       "{'name': 'Robin Sanchez',\n",
       " 'email': 'kristen06@example.org',\n",
       " 'address': '918 Richardson Estate\\nRogersstad, CO 40535'}"
      ]
     },
     "execution_count": 11,
     "metadata": {},
     "output_type": "execute_result"
    }
   ],
   "source": [
    "alg.run(1)"
   ]
  },
  {
   "cell_type": "markdown",
   "id": "d36617a8-63d7-4027-84ce-3390536fb2df",
   "metadata": {},
   "source": [
    "## classes"
   ]
  },
  {
   "cell_type": "code",
   "execution_count": 12,
   "id": "8ea9aca9-f492-4438-97c7-3cd1fd690b27",
   "metadata": {},
   "outputs": [],
   "source": [
    "BeamFakeAlgRemote = RayDispatcher(BeamFakeAlg)"
   ]
  },
  {
   "cell_type": "code",
   "execution_count": 13,
   "id": "0199729e-8d75-48ae-a3a3-cbea415b534f",
   "metadata": {},
   "outputs": [],
   "source": [
    "alg = BeamFakeAlgRemote()"
   ]
  },
  {
   "cell_type": "code",
   "execution_count": 14,
   "id": "fe1057c7-2ab0-4848-adaa-82b4df06add5",
   "metadata": {},
   "outputs": [
    {
     "data": {
      "text/plain": [
       "AsyncResult(0ab01f2d6283d71949ffcd52e2bcabfad3f296a10300000001000000, is_ready=False, is_success=None)"
      ]
     },
     "execution_count": 14,
     "metadata": {},
     "output_type": "execute_result"
    }
   ],
   "source": [
    "alg.run(1)"
   ]
  },
  {
   "cell_type": "markdown",
   "id": "4102ae73-656e-49f4-a0aa-77349329d477",
   "metadata": {},
   "source": [
    "# objects store"
   ]
  },
  {
   "cell_type": "code",
   "execution_count": 15,
   "id": "415fe06c-6567-44f3-badb-b46bde7452c7",
   "metadata": {},
   "outputs": [],
   "source": [
    "import ray"
   ]
  },
  {
   "cell_type": "code",
   "execution_count": 16,
   "id": "334ecffa-a85b-47d4-8774-a160295d6100",
   "metadata": {},
   "outputs": [],
   "source": [
    "a = ray.put(False)"
   ]
  },
  {
   "cell_type": "code",
   "execution_count": 17,
   "id": "231d1a5d-3a77-4221-8fca-06ae5a7b6997",
   "metadata": {},
   "outputs": [
    {
     "data": {
      "text/plain": [
       "False"
      ]
     },
     "execution_count": 17,
     "metadata": {},
     "output_type": "execute_result"
    }
   ],
   "source": [
    "ray.get(a)"
   ]
  },
  {
   "cell_type": "code",
   "execution_count": null,
   "id": "432aac26-e6b2-4936-9ad9-f8247315fa9c",
   "metadata": {},
   "outputs": [],
   "source": []
  },
  {
   "cell_type": "code",
   "execution_count": null,
   "id": "c20af921-b45e-4d8d-a5b9-a7620b3305c3",
   "metadata": {},
   "outputs": [],
   "source": []
  }
 ],
 "metadata": {
  "kernelspec": {
   "display_name": "Python 3 (ipykernel)",
   "language": "python",
   "name": "python3"
  },
  "language_info": {
   "codemirror_mode": {
    "name": "ipython",
    "version": 3
   },
   "file_extension": ".py",
   "mimetype": "text/x-python",
   "name": "python",
   "nbconvert_exporter": "python",
   "pygments_lexer": "ipython3",
   "version": "3.10.12"
  }
 },
 "nbformat": 4,
 "nbformat_minor": 5
}
