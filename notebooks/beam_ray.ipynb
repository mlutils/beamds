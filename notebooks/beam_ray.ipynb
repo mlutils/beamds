{
 "cells": [
  {
   "cell_type": "code",
   "execution_count": 1,
   "id": "9384396f-9099-4bde-8aad-e8c7ddbb7db9",
   "metadata": {},
   "outputs": [
    {
     "name": "stdout",
     "output_type": "stream",
     "text": [
      "Setting up the Beam environment for interactive use\n",
      "Standard modules will be automatically imported so you can use them without explicit import\n",
      "Done importing packages. It took:  5.2 seconds\n",
      "Beam library is loaded from path: /home/mlspeech/elads/projects/beamds/src/beam\n",
      "The Beam version is: 2.4.1\n"
     ]
    }
   ],
   "source": [
    "%load_ext beam_setup"
   ]
  },
  {
   "cell_type": "code",
   "execution_count": 2,
   "id": "184a8e3d-ff9a-48fa-a723-003a0234e149",
   "metadata": {},
   "outputs": [],
   "source": [
    "from beam.distributed.ray_dispatcher import RayDispatcher, RayCluster"
   ]
  },
  {
   "cell_type": "code",
   "execution_count": 3,
   "id": "64c8d436-31e6-46d4-90ff-ac114c5906d8",
   "metadata": {},
   "outputs": [
    {
     "name": "stderr",
     "output_type": "stream",
     "text": [
      "2024-01-29 21:40:28,517\tINFO worker.py:1540 -- Connecting to existing Ray cluster at address: 0.0.0.0:28478...\n",
      "2024-01-29 21:40:28,542\tINFO worker.py:1715 -- Connected to Ray cluster. View the dashboard at \u001b[1m\u001b[32m0.0.0.0:28490 \u001b[39m\u001b[22m\n",
      "2024-01-29 21:40:30,233\tINFO packaging.py:530 -- Creating a file package for local directory '../src'.\n",
      "2024-01-29 21:40:30,491\tINFO packaging.py:358 -- Pushing file package 'gcs://_ray_pkg_a779741cfa221ae9.zip' (1.81MiB) to Ray cluster...\n",
      "2024-01-29 21:40:30,507\tINFO packaging.py:371 -- Successfully pushed file package 'gcs://_ray_pkg_a779741cfa221ae9.zip'.\n"
     ]
    },
    {
     "data": {
      "text/plain": [
       "<beam.distributed.ray_dispatcher.RayCluster at 0x7fb9147454b0>"
      ]
     },
     "execution_count": 3,
     "metadata": {},
     "output_type": "execute_result"
    }
   ],
   "source": [
    "RayCluster(ray_kwargs={'runtime_env': {\"working_dir\": \"../src\" }})"
   ]
  },
  {
   "cell_type": "markdown",
   "id": "de547748-72c4-4e05-993b-581416ed4f9c",
   "metadata": {},
   "source": [
    "## funcs"
   ]
  },
  {
   "cell_type": "code",
   "execution_count": 4,
   "id": "b5f0a2a3-0688-479a-94d2-c1b70fab2b1a",
   "metadata": {},
   "outputs": [],
   "source": [
    "def func(x, y):\n",
    "    return x * y"
   ]
  },
  {
   "cell_type": "code",
   "execution_count": 5,
   "id": "236c5e71-bdb8-4e4f-9d16-b05f8f855676",
   "metadata": {},
   "outputs": [],
   "source": [
    "fray = RayDispatcher(func)"
   ]
  },
  {
   "cell_type": "code",
   "execution_count": 6,
   "id": "a5a811ab-9ae1-44e7-9ebd-4626667476a2",
   "metadata": {},
   "outputs": [
    {
     "data": {
      "text/plain": [
       "12"
      ]
     },
     "execution_count": 6,
     "metadata": {},
     "output_type": "execute_result"
    }
   ],
   "source": [
    "fray(3, 4)"
   ]
  },
  {
   "cell_type": "markdown",
   "id": "47a2b467-1145-4e6f-b401-b54fcdcc544d",
   "metadata": {},
   "source": [
    "## methods"
   ]
  },
  {
   "cell_type": "code",
   "execution_count": 7,
   "id": "59b41ee0-f2bc-40b1-9f47-090f286580c3",
   "metadata": {},
   "outputs": [],
   "source": [
    "from beam.misc import BeamFakeAlg"
   ]
  },
  {
   "cell_type": "code",
   "execution_count": 8,
   "id": "020d3194-ece6-4d61-9070-a823caee1051",
   "metadata": {},
   "outputs": [],
   "source": [
    "alg = BeamFakeAlg()"
   ]
  },
  {
   "cell_type": "code",
   "execution_count": 9,
   "id": "20ec0f1b-5af8-45c2-b373-b3e44e6c24e5",
   "metadata": {},
   "outputs": [
    {
     "data": {
      "text/plain": [
       "{'name': 'Marcia Medina',\n",
       " 'email': 'clairefitzpatrick@example.net',\n",
       " 'address': '2404 Sanders Street\\nEast Christophermouth, WY 58221'}"
      ]
     },
     "execution_count": 9,
     "metadata": {},
     "output_type": "execute_result"
    }
   ],
   "source": [
    "alg.run(1)"
   ]
  },
  {
   "cell_type": "markdown",
   "id": "d36617a8-63d7-4027-84ce-3390536fb2df",
   "metadata": {},
   "source": [
    "## classes"
   ]
  },
  {
   "cell_type": "code",
   "execution_count": 10,
   "id": "8ea9aca9-f492-4438-97c7-3cd1fd690b27",
   "metadata": {},
   "outputs": [],
   "source": [
    "BeamFakeAlgRemote = RayDispatcher(BeamFakeAlg)"
   ]
  },
  {
   "cell_type": "code",
   "execution_count": 11,
   "id": "0199729e-8d75-48ae-a3a3-cbea415b534f",
   "metadata": {},
   "outputs": [],
   "source": [
    "alg = BeamFakeAlgRemote()"
   ]
  },
  {
   "cell_type": "code",
   "execution_count": 12,
   "id": "fe1057c7-2ab0-4848-adaa-82b4df06add5",
   "metadata": {},
   "outputs": [
    {
     "data": {
      "text/plain": [
       "{'name': 'Danielle Valdez',\n",
       " 'email': 'jonathanthompson@example.com',\n",
       " 'address': 'Unit 8276 Box 4705\\nDPO AE 81084'}"
      ]
     },
     "execution_count": 12,
     "metadata": {},
     "output_type": "execute_result"
    }
   ],
   "source": [
    "alg.run(1)"
   ]
  },
  {
   "cell_type": "markdown",
   "id": "4102ae73-656e-49f4-a0aa-77349329d477",
   "metadata": {},
   "source": [
    "# objects store"
   ]
  },
  {
   "cell_type": "code",
   "execution_count": 14,
   "id": "415fe06c-6567-44f3-badb-b46bde7452c7",
   "metadata": {},
   "outputs": [],
   "source": [
    "import ray"
   ]
  },
  {
   "cell_type": "code",
   "execution_count": 15,
   "id": "334ecffa-a85b-47d4-8774-a160295d6100",
   "metadata": {},
   "outputs": [],
   "source": [
    "a = ray.put(False)"
   ]
  },
  {
   "cell_type": "code",
   "execution_count": 25,
   "id": "231d1a5d-3a77-4221-8fca-06ae5a7b6997",
   "metadata": {},
   "outputs": [
    {
     "data": {
      "text/plain": [
       "False"
      ]
     },
     "execution_count": 25,
     "metadata": {},
     "output_type": "execute_result"
    }
   ],
   "source": [
    "ray.get(a)"
   ]
  }
 ],
 "metadata": {
  "kernelspec": {
   "display_name": "Python 3 (ipykernel)",
   "language": "python",
   "name": "python3"
  },
  "language_info": {
   "codemirror_mode": {
    "name": "ipython",
    "version": 3
   },
   "file_extension": ".py",
   "mimetype": "text/x-python",
   "name": "python",
   "nbconvert_exporter": "python",
   "pygments_lexer": "ipython3",
   "version": "3.10.12"
  }
 },
 "nbformat": 4,
 "nbformat_minor": 5
}
