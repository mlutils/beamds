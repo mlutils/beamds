{
 "cells": [
  {
   "cell_type": "code",
   "execution_count": 1,
   "id": "9384396f-9099-4bde-8aad-e8c7ddbb7db9",
   "metadata": {},
   "outputs": [
    {
     "name": "stdout",
     "output_type": "stream",
     "text": [
      "Setting up the Beam environment for interactive use\n",
      "Standard modules will be automatically imported so you can use them without explicit import\n",
      "Done importing packages. It took:  4.2 seconds\n",
      "Beam library is loaded from path: /home/elad/docker/beamds/src/beam\n",
      "The Beam version is: 2.5.6\n"
     ]
    }
   ],
   "source": [
    "%load_ext beam_setup"
   ]
  },
  {
   "cell_type": "code",
   "execution_count": 2,
   "id": "184a8e3d-ff9a-48fa-a723-003a0234e149",
   "metadata": {},
   "outputs": [],
   "source": [
    "from beam.distributed.ray_dispatcher import RayDispatcher, RayClient"
   ]
  },
  {
   "cell_type": "code",
   "execution_count": 54,
   "id": "64c8d436-31e6-46d4-90ff-ac114c5906d8",
   "metadata": {},
   "outputs": [
    {
     "data": {
      "text/plain": [
       "<beam.distributed.ray_dispatcher.RayClient at 0x7fda63a15540>"
      ]
     },
     "execution_count": 54,
     "metadata": {},
     "output_type": "execute_result"
    }
   ],
   "source": [
    "RayClient(ray_kwargs={'runtime_env': {\"working_dir\": \"../src\" }})"
   ]
  },
  {
   "cell_type": "markdown",
   "id": "de547748-72c4-4e05-993b-581416ed4f9c",
   "metadata": {},
   "source": [
    "## funcs"
   ]
  },
  {
   "cell_type": "code",
   "execution_count": 4,
   "id": "b5f0a2a3-0688-479a-94d2-c1b70fab2b1a",
   "metadata": {},
   "outputs": [],
   "source": [
    "def func(x, y):\n",
    "    return x * y"
   ]
  },
  {
   "cell_type": "code",
   "execution_count": 5,
   "id": "236c5e71-bdb8-4e4f-9d16-b05f8f855676",
   "metadata": {},
   "outputs": [],
   "source": [
    "fray = RayDispatcher(func)"
   ]
  },
  {
   "cell_type": "code",
   "execution_count": 6,
   "id": "a5a811ab-9ae1-44e7-9ebd-4626667476a2",
   "metadata": {},
   "outputs": [],
   "source": [
    "res = fray(3, 4)"
   ]
  },
  {
   "cell_type": "code",
   "execution_count": 7,
   "id": "5df5c24c-63c9-42d5-bd29-451a25c76f8a",
   "metadata": {},
   "outputs": [
    {
     "data": {
      "text/plain": [
       "12"
      ]
     },
     "execution_count": 7,
     "metadata": {},
     "output_type": "execute_result"
    }
   ],
   "source": [
    "res.value"
   ]
  },
  {
   "cell_type": "markdown",
   "id": "47a2b467-1145-4e6f-b401-b54fcdcc544d",
   "metadata": {},
   "source": [
    "## methods"
   ]
  },
  {
   "cell_type": "code",
   "execution_count": 8,
   "id": "59b41ee0-f2bc-40b1-9f47-090f286580c3",
   "metadata": {},
   "outputs": [],
   "source": [
    "from beam.misc import BeamFakeAlg"
   ]
  },
  {
   "cell_type": "code",
   "execution_count": 9,
   "id": "020d3194-ece6-4d61-9070-a823caee1051",
   "metadata": {},
   "outputs": [],
   "source": [
    "alg = BeamFakeAlg()"
   ]
  },
  {
   "cell_type": "code",
   "execution_count": 10,
   "id": "20ec0f1b-5af8-45c2-b373-b3e44e6c24e5",
   "metadata": {},
   "outputs": [
    {
     "data": {
      "text/plain": [
       "{'name': 'Erik Johnson',\n",
       " 'email': 'upena@example.net',\n",
       " 'address': '1575 Mason Mills Apt. 477\\nPort Tanya, GA 56997'}"
      ]
     },
     "execution_count": 10,
     "metadata": {},
     "output_type": "execute_result"
    }
   ],
   "source": [
    "alg.run(1)"
   ]
  },
  {
   "cell_type": "markdown",
   "id": "d36617a8-63d7-4027-84ce-3390536fb2df",
   "metadata": {},
   "source": [
    "## classes"
   ]
  },
  {
   "cell_type": "code",
   "execution_count": 11,
   "id": "8ea9aca9-f492-4438-97c7-3cd1fd690b27",
   "metadata": {},
   "outputs": [],
   "source": [
    "BeamFakeAlgRemote = RayDispatcher(BeamFakeAlg)"
   ]
  },
  {
   "cell_type": "code",
   "execution_count": 12,
   "id": "0199729e-8d75-48ae-a3a3-cbea415b534f",
   "metadata": {},
   "outputs": [],
   "source": [
    "alg = BeamFakeAlgRemote()"
   ]
  },
  {
   "cell_type": "code",
   "execution_count": 14,
   "id": "fe1057c7-2ab0-4848-adaa-82b4df06add5",
   "metadata": {},
   "outputs": [],
   "source": [
    "res = alg.run(1)"
   ]
  },
  {
   "cell_type": "markdown",
   "id": "4102ae73-656e-49f4-a0aa-77349329d477",
   "metadata": {},
   "source": [
    "# objects store"
   ]
  },
  {
   "cell_type": "code",
   "execution_count": 15,
   "id": "415fe06c-6567-44f3-badb-b46bde7452c7",
   "metadata": {},
   "outputs": [],
   "source": [
    "import ray"
   ]
  },
  {
   "cell_type": "code",
   "execution_count": 16,
   "id": "334ecffa-a85b-47d4-8774-a160295d6100",
   "metadata": {},
   "outputs": [],
   "source": [
    "a = ray.put(False)"
   ]
  },
  {
   "cell_type": "code",
   "execution_count": 17,
   "id": "231d1a5d-3a77-4221-8fca-06ae5a7b6997",
   "metadata": {},
   "outputs": [
    {
     "data": {
      "text/plain": [
       "False"
      ]
     },
     "execution_count": 17,
     "metadata": {},
     "output_type": "execute_result"
    }
   ],
   "source": [
    "ray.get(a)"
   ]
  },
  {
   "cell_type": "markdown",
   "id": "ac82160f-8208-4a62-8c64-d72c44edf5fb",
   "metadata": {},
   "source": [
    "# ray actor"
   ]
  },
  {
   "cell_type": "markdown",
   "id": "36e48b77-3ce4-409f-a2b5-183aaa1496ed",
   "metadata": {},
   "source": [
    "### withtout beam"
   ]
  },
  {
   "metadata": {},
   "cell_type": "code",
   "outputs": [],
   "execution_count": null,
   "source": "import ray",
   "id": "97a03bdcf0842be1"
  },
  {
   "cell_type": "code",
   "execution_count": 45,
   "id": "58172980-8b45-40eb-a78b-11b92d4ec6fd",
   "metadata": {},
   "outputs": [],
   "source": [
    "@ray.remote\n",
    "class A:\n",
    "    def __init__(self, a):\n",
    "        self.a = a\n",
    "    def f(self, x):\n",
    "        return x * self.a"
   ]
  },
  {
   "cell_type": "code",
   "execution_count": 46,
   "id": "37516fff-202d-4760-8bc7-0d45ebd7231f",
   "metadata": {},
   "outputs": [],
   "source": [
    "a = A.remote(5)"
   ]
  },
  {
   "cell_type": "code",
   "execution_count": 47,
   "id": "52537690-9b12-49d4-b414-087649d743e6",
   "metadata": {},
   "outputs": [],
   "source": [
    "res = a.f.remote(10)"
   ]
  },
  {
   "cell_type": "code",
   "execution_count": 48,
   "id": "5cf61c02-2b9c-4b05-8dc7-07d7a67c1a43",
   "metadata": {},
   "outputs": [
    {
     "data": {
      "text/plain": [
       "50"
      ]
     },
     "execution_count": 48,
     "metadata": {},
     "output_type": "execute_result"
    }
   ],
   "source": [
    "ray.get(res)"
   ]
  },
  {
   "cell_type": "markdown",
   "id": "b98c6b11-754a-4c84-9322-54dd1600b003",
   "metadata": {},
   "source": [
    "## with beam"
   ]
  },
  {
   "cell_type": "code",
   "execution_count": 49,
   "id": "c20af921-b45e-4d8d-a5b9-a7620b3305c3",
   "metadata": {},
   "outputs": [],
   "source": [
    "class A:\n",
    "    def __init__(self, a):\n",
    "        self.a = a\n",
    "    def f(self, x):\n",
    "        return x * self.a"
   ]
  },
  {
   "cell_type": "code",
   "execution_count": 50,
   "id": "e1ede07c-8905-4822-bead-168248e27db8",
   "metadata": {},
   "outputs": [],
   "source": [
    "Ar = RayDispatcher(A)"
   ]
  },
  {
   "cell_type": "code",
   "execution_count": 51,
   "id": "918f246b-0275-479b-ac72-51cd7d2f7371",
   "metadata": {},
   "outputs": [],
   "source": [
    "ar = Ar(4)"
   ]
  },
  {
   "cell_type": "code",
   "execution_count": 52,
   "id": "f88240fe-7d56-411a-bbb4-bdf8d251dc5d",
   "metadata": {},
   "outputs": [],
   "source": [
    "res = ar.f(5)"
   ]
  },
  {
   "cell_type": "code",
   "execution_count": 53,
   "id": "f3dbe73a-9d29-40eb-b6c8-3ddb6101a859",
   "metadata": {},
   "outputs": [
    {
     "data": {
      "text/plain": [
       "20"
      ]
     },
     "execution_count": 53,
     "metadata": {},
     "output_type": "execute_result"
    }
   ],
   "source": [
    "res.value"
   ]
  }
 ],
 "metadata": {
  "kernelspec": {
   "display_name": "Python 3 (ipykernel)",
   "language": "python",
   "name": "python3"
  },
  "language_info": {
   "codemirror_mode": {
    "name": "ipython",
    "version": 3
   },
   "file_extension": ".py",
   "mimetype": "text/x-python",
   "name": "python",
   "nbconvert_exporter": "python",
   "pygments_lexer": "ipython3",
   "version": "3.10.12"
  }
 },
 "nbformat": 4,
 "nbformat_minor": 5
}
