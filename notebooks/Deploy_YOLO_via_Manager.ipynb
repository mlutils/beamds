{
 "cells": [
  {
   "metadata": {
    "jupyter": {
     "is_executing": true
    }
   },
   "cell_type": "code",
   "source": "%load_ext beam_setup",
   "id": "bd6b1a47d46d3e4d",
   "outputs": [],
   "execution_count": null
  },
  {
   "cell_type": "code",
   "execution_count": null,
   "id": "initial_id",
   "metadata": {
    "collapsed": true
   },
   "outputs": [],
   "source": [
    "from PIL import Image\n",
    "from IPython.display import display\n",
    "from beam import resource"
   ]
  },
  {
   "metadata": {},
   "cell_type": "code",
   "outputs": [],
   "execution_count": null,
   "source": "import requests",
   "id": "4a83ffdefcb38981"
  },
  {
   "metadata": {},
   "cell_type": "code",
   "outputs": [],
   "execution_count": null,
   "source": "!pip install pynvml",
   "id": "7b104fa2157e4835"
  },
  {
   "metadata": {},
   "cell_type": "code",
   "outputs": [],
   "execution_count": null,
   "source": "!pip install 'pyarrow<15.0.0'",
   "id": "9dd97658b21ead4d"
  },
  {
   "metadata": {},
   "cell_type": "code",
   "outputs": [],
   "execution_count": null,
   "source": "manager = resource('http://api-35000-beam-manager-hhcjb-dev.apps.kh-dev.dt.local')",
   "id": "576b01c0c038c335"
  },
  {
   "metadata": {},
   "cell_type": "code",
   "outputs": [],
   "execution_count": null,
   "source": "config = resource('../examples/orchestration/orchestration_serve_cluster.yaml').read()",
   "id": "5c0fb99c83f15b11"
  },
  {
   "metadata": {},
   "cell_type": "code",
   "outputs": [],
   "execution_count": null,
   "source": "from beam.orchestration import ServeClusterConfig",
   "id": "28c3e79675d6c344"
  },
  {
   "metadata": {},
   "cell_type": "code",
   "outputs": [],
   "execution_count": null,
   "source": "config = ServeClusterConfig('../examples/orchestration/orchestration_serve_cluster.yaml', **config)",
   "id": "daa5b21407189eb3"
  },
  {
   "metadata": {},
   "cell_type": "code",
   "outputs": [],
   "execution_count": null,
   "source": [
    "# config = dict(project_name='dev', deployment_name='yolo', labels={'app': 'yolo'}, alg='/tmp/yolo-bundle')\n",
    "config.update({'project_name': 'dev',\n",
    "    'deployment_name': 'yolo',\n",
    "    'labels': {'app': 'yolo'},\n",
    "    'alg': '/pvc/yolo-bundle'})"
   ],
   "id": "388453c23ac46c86"
  },
  {
   "metadata": {},
   "cell_type": "code",
   "outputs": [],
   "execution_count": null,
   "source": "config",
   "id": "3272ce53e0388038"
  },
  {
   "metadata": {},
   "cell_type": "code",
   "outputs": [],
   "execution_count": null,
   "source": "from beam import deploy_server",
   "id": "3db05dda210dcb79"
  },
  {
   "metadata": {},
   "cell_type": "code",
   "outputs": [],
   "execution_count": null,
   "source": "manager.launch_serve_cluster(config)",
   "id": "4bbaa4a8e81169ff"
  }
 ],
 "metadata": {
  "kernelspec": {
   "display_name": "Python 3",
   "language": "python",
   "name": "python3"
  },
  "language_info": {
   "codemirror_mode": {
    "name": "ipython",
    "version": 2
   },
   "file_extension": ".py",
   "mimetype": "text/x-python",
   "name": "python",
   "nbconvert_exporter": "python",
   "pygments_lexer": "ipython2",
   "version": "2.7.6"
  }
 },
 "nbformat": 4,
 "nbformat_minor": 5
}
