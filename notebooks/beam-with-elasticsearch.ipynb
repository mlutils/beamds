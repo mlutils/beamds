{
 "cells": [
  {
   "cell_type": "code",
   "execution_count": 1,
   "id": "9b60debd-7486-4983-9e21-7afaef5f1ce3",
   "metadata": {},
   "outputs": [
    {
     "name": "stdout",
     "output_type": "stream",
     "text": [
      "✨ | \u001b[1mSetting up the Beam environment for interactive use\u001b[0m\n",
      "🚀 | \u001b[1mStandard modules will be automatically imported so you can use them without explicit import\u001b[0m\n",
      "🛸 | \u001b[1mBeam library is loaded from path: /home/dayosupp/elad/beamds/beam\u001b[0m\n",
      "🔥 | \u001b[32m10:07:51 (0:00:03.632311)\u001b[0m | \u001b[1mINFO    \u001b[0m 🗎 \u001b[1mBeam logger (2.7.6): logs are saved to /root/beam_data/logs/ipykernel_launcher-20250206-100751.log\u001b[0m \u001b[36m(∫__init__.py:__getattr__-#143)\u001b[0m\n",
      "⏲ | \u001b[1mDone importing packages. It took:  4.0 seconds\u001b[0m\n"
     ]
    }
   ],
   "source": [
    "%load_ext beam_setup"
   ]
  },
  {
   "cell_type": "markdown",
   "id": "7511698a-27ff-43de-959a-3edac902b217",
   "metadata": {},
   "source": [
    "# Connect to the Elasticsearch endpoint"
   ]
  },
  {
   "cell_type": "markdown",
   "id": "27abb518-1402-4cc7-b7d0-a906a609002f",
   "metadata": {},
   "source": [
    "In Beam, elasticsearch endpoint is considered as a resource that can be connected via URI string, just like storages, llms, http servers etc.\n",
    "We use resource to initiate the client"
   ]
  },
  {
   "cell_type": "code",
   "execution_count": 4,
   "id": "01dbe9df-51d8-4a1b-81b6-be3a5fa017b8",
   "metadata": {},
   "outputs": [],
   "source": [
    "es = resource('elastic://10.0.7.228:31063')"
   ]
  },
  {
   "cell_type": "markdown",
   "id": "87d76f49-c3fc-4714-9769-90506b79bd0a",
   "metadata": {},
   "source": [
    "Lets ping to see its alive"
   ]
  },
  {
   "cell_type": "code",
   "execution_count": 12,
   "id": "7f9a4049-6be2-4aaa-b2b0-baa3efc12818",
   "metadata": {},
   "outputs": [
    {
     "data": {
      "text/plain": [
       "True"
      ]
     },
     "execution_count": 12,
     "metadata": {},
     "output_type": "execute_result"
    }
   ],
   "source": [
    "es.ping()"
   ]
  },
  {
   "cell_type": "markdown",
   "id": "cadb0479-0e7f-4ade-89c9-5cf49076e53c",
   "metadata": {},
   "source": [
    "We use Pathlib API to navigate between the different indices/alias"
   ]
  },
  {
   "cell_type": "code",
   "execution_count": 13,
   "id": "0c2c6880-d8d5-46b8-a22d-c07cf7de041a",
   "metadata": {},
   "outputs": [
    {
     "name": "stderr",
     "output_type": "stream",
     "text": [
      "/home/dayosupp/elad/beamds/notebooks/../beam/docs/elastic.py:499: ElasticsearchWarning: this request accesses system indices: [.kibana_8.16.1_001, .kibana_ingest_8.16.1_001, .kibana_task_manager_8.16.1_001, .apm-custom-link, .kibana_security_solution_8.16.1_001, .apm-agent-configuration, .kibana_analytics_8.16.1_001, .async-search, .kibana_alerting_cases_8.16.1_001, .kibana_usage_counters_8.16.1_001], but in a future major version, direct access to system indices will be prevented by default\n",
      "  for ind, av in self.client.indices.get_alias(index=wildcard).items():\n"
     ]
    },
    {
     "data": {
      "text/plain": [
       "[elastic://10.0.7.228:31063/historical_prices]"
      ]
     },
     "execution_count": 13,
     "metadata": {},
     "output_type": "execute_result"
    }
   ],
   "source": [
    "list(es)"
   ]
  },
  {
   "cell_type": "code",
   "execution_count": 85,
   "id": "e1bf82f3-0e3c-4d46-9753-844143f696f0",
   "metadata": {},
   "outputs": [],
   "source": [
    "ind = es.joinpath('historical_prices')"
   ]
  },
  {
   "cell_type": "markdown",
   "id": "262bc424-69b6-49e7-aeba-07ee04699e18",
   "metadata": {},
   "source": [
    "Lets explore the schema"
   ]
  },
  {
   "cell_type": "code",
   "execution_count": 18,
   "id": "f2cd5c4b-a157-46b4-b36f-7b5fa1f5403b",
   "metadata": {},
   "outputs": [
    {
     "data": {
      "text/plain": [
       "{'capital_gains': {'type': 'float'},\n",
       " 'close': {'type': 'float'},\n",
       " 'date': {'type': 'date'},\n",
       " 'dividends': {'type': 'float'},\n",
       " 'high': {'type': 'float'},\n",
       " 'interval': {'type': 'text',\n",
       "  'fields': {'keyword': {'type': 'keyword', 'ignore_above': 256}}},\n",
       " 'low': {'type': 'float'},\n",
       " 'open': {'type': 'float'},\n",
       " 'period': {'type': 'text',\n",
       "  'fields': {'keyword': {'type': 'keyword', 'ignore_above': 256}}},\n",
       " 'processed_at': {'type': 'date'},\n",
       " 'stock_splits': {'type': 'float'},\n",
       " 'ticker': {'type': 'text',\n",
       "  'fields': {'keyword': {'type': 'keyword', 'ignore_above': 256}}},\n",
       " 'version': {'type': 'keyword'},\n",
       " 'volume': {'type': 'long'}}"
      ]
     },
     "execution_count": 18,
     "metadata": {},
     "output_type": "execute_result"
    }
   ],
   "source": [
    "ind.schema"
   ]
  },
  {
   "cell_type": "markdown",
   "id": "41726c28-1f4f-442d-9749-d571089f97a8",
   "metadata": {},
   "source": [
    "Now we can start using the pandas like API, with distinct difference, ind may contain also query information which is applied before any operation"
   ]
  },
  {
   "cell_type": "code",
   "execution_count": 15,
   "id": "db8ab1ad-bf4b-48b7-8493-160fbac46ca8",
   "metadata": {},
   "outputs": [
    {
     "data": {
      "text/plain": [
       "39602621"
      ]
     },
     "execution_count": 15,
     "metadata": {},
     "output_type": "execute_result"
    }
   ],
   "source": [
    "ind.count()"
   ]
  },
  {
   "cell_type": "markdown",
   "id": "3e60298c-5c6b-4e46-bc9b-85dc66a5a618",
   "metadata": {},
   "source": [
    "adding query changes the result"
   ]
  },
  {
   "cell_type": "code",
   "execution_count": 17,
   "id": "55ffec0c-1292-4cf4-93bc-0de27c20bb51",
   "metadata": {},
   "outputs": [],
   "source": [
    "from beam.docs.queries import TimeFilter"
   ]
  },
  {
   "cell_type": "code",
   "execution_count": 21,
   "id": "a10e1dcb-63f6-42a9-b960-887f668de6ac",
   "metadata": {},
   "outputs": [],
   "source": [
    "q = ind & TimeFilter(field='date', start=datetime(2023,1,1), end=datetime(2024,1,1))"
   ]
  },
  {
   "cell_type": "code",
   "execution_count": 22,
   "id": "9d396604-c785-426d-8315-2101b20a7ac6",
   "metadata": {},
   "outputs": [
    {
     "data": {
      "text/plain": [
       "elastic://10.0.7.228:31063/historical_prices | query: date between 2023-01-01 00:00:00 and 2024-01-01 00..."
      ]
     },
     "execution_count": 22,
     "metadata": {},
     "output_type": "execute_result"
    }
   ],
   "source": [
    "q"
   ]
  },
  {
   "cell_type": "code",
   "execution_count": 24,
   "id": "81c60917-fc0e-483f-99e4-6a839361d34c",
   "metadata": {},
   "outputs": [
    {
     "data": {
      "text/plain": [
       "2041601"
      ]
     },
     "execution_count": 24,
     "metadata": {},
     "output_type": "execute_result"
    }
   ],
   "source": [
    "q.count()"
   ]
  },
  {
   "cell_type": "markdown",
   "id": "20f3b3e6-ed9f-4997-ab69-74a6c29a8d90",
   "metadata": {},
   "source": [
    "We can use KQL queries as well"
   ]
  },
  {
   "cell_type": "code",
   "execution_count": 25,
   "id": "b32f1ab6-5941-49b5-a251-9bfa74027e5b",
   "metadata": {},
   "outputs": [
    {
     "data": {
      "text/plain": [
       "9784"
      ]
     },
     "execution_count": 25,
     "metadata": {},
     "output_type": "execute_result"
    }
   ],
   "source": [
    "(ind & \"ticker: msft\").count()"
   ]
  },
  {
   "cell_type": "markdown",
   "id": "5da26a03-4f9d-479f-b242-63a7ddd73660",
   "metadata": {},
   "source": [
    "and we can retrieve samples"
   ]
  },
  {
   "cell_type": "code",
   "execution_count": 186,
   "id": "347362d4-60e2-4c0e-bd7b-c06c60b1c6a5",
   "metadata": {},
   "outputs": [
    {
     "data": {
      "text/html": [
       "<div>\n",
       "<style scoped>\n",
       "    .dataframe tbody tr th:only-of-type {\n",
       "        vertical-align: middle;\n",
       "    }\n",
       "\n",
       "    .dataframe tbody tr th {\n",
       "        vertical-align: top;\n",
       "    }\n",
       "\n",
       "    .dataframe thead th {\n",
       "        text-align: right;\n",
       "    }\n",
       "</style>\n",
       "<table border=\"1\" class=\"dataframe\">\n",
       "  <thead>\n",
       "    <tr style=\"text-align: right;\">\n",
       "      <th></th>\n",
       "      <th>date</th>\n",
       "      <th>open</th>\n",
       "      <th>high</th>\n",
       "      <th>low</th>\n",
       "      <th>close</th>\n",
       "      <th>volume</th>\n",
       "      <th>dividends</th>\n",
       "      <th>stock_splits</th>\n",
       "      <th>interval</th>\n",
       "      <th>period</th>\n",
       "      <th>start</th>\n",
       "      <th>end</th>\n",
       "      <th>ticker</th>\n",
       "      <th>processed_at</th>\n",
       "      <th>version</th>\n",
       "    </tr>\n",
       "  </thead>\n",
       "  <tbody>\n",
       "    <tr>\n",
       "      <th>Ik_zR5QBsuJ1Mck3OIZV</th>\n",
       "      <td>2007-07-11T00:00:00-04:00</td>\n",
       "      <td>21.600716</td>\n",
       "      <td>21.903598</td>\n",
       "      <td>21.578553</td>\n",
       "      <td>21.785400</td>\n",
       "      <td>48017000</td>\n",
       "      <td>0.0</td>\n",
       "      <td>0.0</td>\n",
       "      <td>1d</td>\n",
       "      <td>max</td>\n",
       "      <td>None</td>\n",
       "      <td>None</td>\n",
       "      <td>msft</td>\n",
       "      <td>2025-01-08T21:26:55.985461</td>\n",
       "      <td>0.0.2</td>\n",
       "    </tr>\n",
       "    <tr>\n",
       "      <th>LE_zR5QBsuJ1Mck3OIZV</th>\n",
       "      <td>2007-07-25T00:00:00-04:00</td>\n",
       "      <td>22.893506</td>\n",
       "      <td>23.122515</td>\n",
       "      <td>22.435489</td>\n",
       "      <td>22.686659</td>\n",
       "      <td>54950100</td>\n",
       "      <td>0.0</td>\n",
       "      <td>0.0</td>\n",
       "      <td>1d</td>\n",
       "      <td>max</td>\n",
       "      <td>None</td>\n",
       "      <td>None</td>\n",
       "      <td>msft</td>\n",
       "      <td>2025-01-08T21:26:55.985461</td>\n",
       "      <td>0.0.2</td>\n",
       "    </tr>\n",
       "    <tr>\n",
       "      <th>O0_zR5QBsuJ1Mck3OIZV</th>\n",
       "      <td>2007-08-15T00:00:00-04:00</td>\n",
       "      <td>20.935100</td>\n",
       "      <td>21.491095</td>\n",
       "      <td>20.794247</td>\n",
       "      <td>20.831314</td>\n",
       "      <td>48117700</td>\n",
       "      <td>0.0</td>\n",
       "      <td>0.0</td>\n",
       "      <td>1d</td>\n",
       "      <td>max</td>\n",
       "      <td>None</td>\n",
       "      <td>None</td>\n",
       "      <td>msft</td>\n",
       "      <td>2025-01-08T21:26:55.985461</td>\n",
       "      <td>0.0.2</td>\n",
       "    </tr>\n",
       "    <tr>\n",
       "      <th>UE_zR5QBsuJ1Mck3OIZV</th>\n",
       "      <td>2007-09-14T00:00:00-04:00</td>\n",
       "      <td>21.483679</td>\n",
       "      <td>21.580053</td>\n",
       "      <td>21.409546</td>\n",
       "      <td>21.528160</td>\n",
       "      <td>33496600</td>\n",
       "      <td>0.0</td>\n",
       "      <td>0.0</td>\n",
       "      <td>1d</td>\n",
       "      <td>max</td>\n",
       "      <td>None</td>\n",
       "      <td>None</td>\n",
       "      <td>msft</td>\n",
       "      <td>2025-01-08T21:26:55.985461</td>\n",
       "      <td>0.0.2</td>\n",
       "    </tr>\n",
       "    <tr>\n",
       "      <th>eU_zR5QBsuJ1Mck3OIZV</th>\n",
       "      <td>2007-11-12T00:00:00-05:00</td>\n",
       "      <td>24.701033</td>\n",
       "      <td>24.990151</td>\n",
       "      <td>24.478636</td>\n",
       "      <td>24.745514</td>\n",
       "      <td>84865200</td>\n",
       "      <td>0.0</td>\n",
       "      <td>0.0</td>\n",
       "      <td>1d</td>\n",
       "      <td>max</td>\n",
       "      <td>None</td>\n",
       "      <td>None</td>\n",
       "      <td>msft</td>\n",
       "      <td>2025-01-08T21:26:55.985461</td>\n",
       "      <td>0.0.2</td>\n",
       "    </tr>\n",
       "  </tbody>\n",
       "</table>\n",
       "</div>"
      ],
      "text/plain": [
       "                                           date       open       high  \\\n",
       "Ik_zR5QBsuJ1Mck3OIZV  2007-07-11T00:00:00-04:00  21.600716  21.903598   \n",
       "LE_zR5QBsuJ1Mck3OIZV  2007-07-25T00:00:00-04:00  22.893506  23.122515   \n",
       "O0_zR5QBsuJ1Mck3OIZV  2007-08-15T00:00:00-04:00  20.935100  21.491095   \n",
       "UE_zR5QBsuJ1Mck3OIZV  2007-09-14T00:00:00-04:00  21.483679  21.580053   \n",
       "eU_zR5QBsuJ1Mck3OIZV  2007-11-12T00:00:00-05:00  24.701033  24.990151   \n",
       "\n",
       "                            low      close    volume  dividends  stock_splits  \\\n",
       "Ik_zR5QBsuJ1Mck3OIZV  21.578553  21.785400  48017000        0.0           0.0   \n",
       "LE_zR5QBsuJ1Mck3OIZV  22.435489  22.686659  54950100        0.0           0.0   \n",
       "O0_zR5QBsuJ1Mck3OIZV  20.794247  20.831314  48117700        0.0           0.0   \n",
       "UE_zR5QBsuJ1Mck3OIZV  21.409546  21.528160  33496600        0.0           0.0   \n",
       "eU_zR5QBsuJ1Mck3OIZV  24.478636  24.745514  84865200        0.0           0.0   \n",
       "\n",
       "                     interval period start   end ticker  \\\n",
       "Ik_zR5QBsuJ1Mck3OIZV       1d    max  None  None   msft   \n",
       "LE_zR5QBsuJ1Mck3OIZV       1d    max  None  None   msft   \n",
       "O0_zR5QBsuJ1Mck3OIZV       1d    max  None  None   msft   \n",
       "UE_zR5QBsuJ1Mck3OIZV       1d    max  None  None   msft   \n",
       "eU_zR5QBsuJ1Mck3OIZV       1d    max  None  None   msft   \n",
       "\n",
       "                                    processed_at version  \n",
       "Ik_zR5QBsuJ1Mck3OIZV  2025-01-08T21:26:55.985461   0.0.2  \n",
       "LE_zR5QBsuJ1Mck3OIZV  2025-01-08T21:26:55.985461   0.0.2  \n",
       "O0_zR5QBsuJ1Mck3OIZV  2025-01-08T21:26:55.985461   0.0.2  \n",
       "UE_zR5QBsuJ1Mck3OIZV  2025-01-08T21:26:55.985461   0.0.2  \n",
       "eU_zR5QBsuJ1Mck3OIZV  2025-01-08T21:26:55.985461   0.0.2  "
      ]
     },
     "execution_count": 186,
     "metadata": {},
     "output_type": "execute_result"
    }
   ],
   "source": [
    "(ind & \"ticker: msft\").head()"
   ]
  },
  {
   "cell_type": "markdown",
   "id": "e602d314-0b7f-4b66-9cbe-c0a52c9675f1",
   "metadata": {},
   "source": [
    "and even randomly sample data"
   ]
  },
  {
   "cell_type": "code",
   "execution_count": 197,
   "id": "ee7517c9-417d-4885-bc48-cc1095531ceb",
   "metadata": {},
   "outputs": [
    {
     "data": {
      "text/html": [
       "<div>\n",
       "<style scoped>\n",
       "    .dataframe tbody tr th:only-of-type {\n",
       "        vertical-align: middle;\n",
       "    }\n",
       "\n",
       "    .dataframe tbody tr th {\n",
       "        vertical-align: top;\n",
       "    }\n",
       "\n",
       "    .dataframe thead th {\n",
       "        text-align: right;\n",
       "    }\n",
       "</style>\n",
       "<table border=\"1\" class=\"dataframe\">\n",
       "  <thead>\n",
       "    <tr style=\"text-align: right;\">\n",
       "      <th></th>\n",
       "      <th>date</th>\n",
       "      <th>open</th>\n",
       "      <th>high</th>\n",
       "      <th>low</th>\n",
       "      <th>close</th>\n",
       "      <th>volume</th>\n",
       "      <th>dividends</th>\n",
       "      <th>stock_splits</th>\n",
       "      <th>interval</th>\n",
       "      <th>period</th>\n",
       "      <th>start</th>\n",
       "      <th>end</th>\n",
       "      <th>ticker</th>\n",
       "      <th>processed_at</th>\n",
       "      <th>version</th>\n",
       "    </tr>\n",
       "  </thead>\n",
       "  <tbody>\n",
       "    <tr>\n",
       "      <th>Qk_zR5QBsuJ1Mck3OZ8L</th>\n",
       "      <td>2021-07-15T00:00:00-04:00</td>\n",
       "      <td>282.000000</td>\n",
       "      <td>282.510010</td>\n",
       "      <td>279.829987</td>\n",
       "      <td>281.029999</td>\n",
       "      <td>22604200</td>\n",
       "      <td>0.0</td>\n",
       "      <td>0.0</td>\n",
       "      <td>1d</td>\n",
       "      <td>max</td>\n",
       "      <td>None</td>\n",
       "      <td>None</td>\n",
       "      <td>msft</td>\n",
       "      <td>2025-01-08T21:26:55.985461</td>\n",
       "      <td>0.0.2</td>\n",
       "    </tr>\n",
       "    <tr>\n",
       "      <th>CU_zR5QBsuJ1Mck3OJCk</th>\n",
       "      <td>2013-09-30T00:00:00-04:00</td>\n",
       "      <td>28.189195</td>\n",
       "      <td>28.454004</td>\n",
       "      <td>27.932930</td>\n",
       "      <td>28.428375</td>\n",
       "      <td>39839500</td>\n",
       "      <td>0.0</td>\n",
       "      <td>0.0</td>\n",
       "      <td>1d</td>\n",
       "      <td>max</td>\n",
       "      <td>None</td>\n",
       "      <td>None</td>\n",
       "      <td>msft</td>\n",
       "      <td>2025-01-08T21:26:55.985461</td>\n",
       "      <td>0.0.2</td>\n",
       "    </tr>\n",
       "    <tr>\n",
       "      <th>Nk_zR5QBsuJ1Mck3OIlw</th>\n",
       "      <td>2010-08-25T00:00:00-04:00</td>\n",
       "      <td>18.877972</td>\n",
       "      <td>19.051020</td>\n",
       "      <td>18.775717</td>\n",
       "      <td>18.956631</td>\n",
       "      <td>47404800</td>\n",
       "      <td>0.0</td>\n",
       "      <td>0.0</td>\n",
       "      <td>1d</td>\n",
       "      <td>max</td>\n",
       "      <td>None</td>\n",
       "      <td>None</td>\n",
       "      <td>msft</td>\n",
       "      <td>2025-01-08T21:26:55.985461</td>\n",
       "      <td>0.0.2</td>\n",
       "    </tr>\n",
       "    <tr>\n",
       "      <th>_0_zR5QBsuJ1Mck3OZ8L</th>\n",
       "      <td>2022-04-13T00:00:00-04:00</td>\n",
       "      <td>282.730011</td>\n",
       "      <td>288.579987</td>\n",
       "      <td>281.299988</td>\n",
       "      <td>287.619995</td>\n",
       "      <td>21907200</td>\n",
       "      <td>0.0</td>\n",
       "      <td>0.0</td>\n",
       "      <td>1d</td>\n",
       "      <td>max</td>\n",
       "      <td>None</td>\n",
       "      <td>None</td>\n",
       "      <td>msft</td>\n",
       "      <td>2025-01-08T21:26:55.985461</td>\n",
       "      <td>0.0.2</td>\n",
       "    </tr>\n",
       "    <tr>\n",
       "      <th>q0_zR5QBsuJ1Mck3OH8G</th>\n",
       "      <td>2002-11-12T00:00:00-05:00</td>\n",
       "      <td>17.141247</td>\n",
       "      <td>17.562649</td>\n",
       "      <td>17.077879</td>\n",
       "      <td>17.271152</td>\n",
       "      <td>81398600</td>\n",
       "      <td>0.0</td>\n",
       "      <td>0.0</td>\n",
       "      <td>1d</td>\n",
       "      <td>max</td>\n",
       "      <td>None</td>\n",
       "      <td>None</td>\n",
       "      <td>msft</td>\n",
       "      <td>2025-01-08T21:26:55.985461</td>\n",
       "      <td>0.0.2</td>\n",
       "    </tr>\n",
       "  </tbody>\n",
       "</table>\n",
       "</div>"
      ],
      "text/plain": [
       "                                           date        open        high  \\\n",
       "Qk_zR5QBsuJ1Mck3OZ8L  2021-07-15T00:00:00-04:00  282.000000  282.510010   \n",
       "CU_zR5QBsuJ1Mck3OJCk  2013-09-30T00:00:00-04:00   28.189195   28.454004   \n",
       "Nk_zR5QBsuJ1Mck3OIlw  2010-08-25T00:00:00-04:00   18.877972   19.051020   \n",
       "_0_zR5QBsuJ1Mck3OZ8L  2022-04-13T00:00:00-04:00  282.730011  288.579987   \n",
       "q0_zR5QBsuJ1Mck3OH8G  2002-11-12T00:00:00-05:00   17.141247   17.562649   \n",
       "\n",
       "                             low       close    volume  dividends  \\\n",
       "Qk_zR5QBsuJ1Mck3OZ8L  279.829987  281.029999  22604200        0.0   \n",
       "CU_zR5QBsuJ1Mck3OJCk   27.932930   28.428375  39839500        0.0   \n",
       "Nk_zR5QBsuJ1Mck3OIlw   18.775717   18.956631  47404800        0.0   \n",
       "_0_zR5QBsuJ1Mck3OZ8L  281.299988  287.619995  21907200        0.0   \n",
       "q0_zR5QBsuJ1Mck3OH8G   17.077879   17.271152  81398600        0.0   \n",
       "\n",
       "                      stock_splits interval period start   end ticker  \\\n",
       "Qk_zR5QBsuJ1Mck3OZ8L           0.0       1d    max  None  None   msft   \n",
       "CU_zR5QBsuJ1Mck3OJCk           0.0       1d    max  None  None   msft   \n",
       "Nk_zR5QBsuJ1Mck3OIlw           0.0       1d    max  None  None   msft   \n",
       "_0_zR5QBsuJ1Mck3OZ8L           0.0       1d    max  None  None   msft   \n",
       "q0_zR5QBsuJ1Mck3OH8G           0.0       1d    max  None  None   msft   \n",
       "\n",
       "                                    processed_at version  \n",
       "Qk_zR5QBsuJ1Mck3OZ8L  2025-01-08T21:26:55.985461   0.0.2  \n",
       "CU_zR5QBsuJ1Mck3OJCk  2025-01-08T21:26:55.985461   0.0.2  \n",
       "Nk_zR5QBsuJ1Mck3OIlw  2025-01-08T21:26:55.985461   0.0.2  \n",
       "_0_zR5QBsuJ1Mck3OZ8L  2025-01-08T21:26:55.985461   0.0.2  \n",
       "q0_zR5QBsuJ1Mck3OH8G  2025-01-08T21:26:55.985461   0.0.2  "
      ]
     },
     "execution_count": 197,
     "metadata": {},
     "output_type": "execute_result"
    }
   ],
   "source": [
    "(ind & \"ticker: msft\").sample(5)"
   ]
  },
  {
   "cell_type": "markdown",
   "id": "dc14959d-c7bf-46ad-b149-373e3481c241",
   "metadata": {},
   "source": [
    "We can use standard pandas operations"
   ]
  },
  {
   "cell_type": "code",
   "execution_count": 192,
   "id": "de078c86-6aea-4418-afb0-4803db8686df",
   "metadata": {},
   "outputs": [
    {
     "data": {
      "text/html": [
       "<div>\n",
       "<style scoped>\n",
       "    .dataframe tbody tr th:only-of-type {\n",
       "        vertical-align: middle;\n",
       "    }\n",
       "\n",
       "    .dataframe tbody tr th {\n",
       "        vertical-align: top;\n",
       "    }\n",
       "\n",
       "    .dataframe thead th {\n",
       "        text-align: right;\n",
       "    }\n",
       "</style>\n",
       "<table border=\"1\" class=\"dataframe\">\n",
       "  <thead>\n",
       "    <tr style=\"text-align: right;\">\n",
       "      <th></th>\n",
       "      <th>date</th>\n",
       "      <th>open</th>\n",
       "      <th>high</th>\n",
       "      <th>low</th>\n",
       "      <th>close</th>\n",
       "      <th>volume</th>\n",
       "      <th>dividends</th>\n",
       "      <th>stock_splits</th>\n",
       "      <th>interval</th>\n",
       "      <th>period</th>\n",
       "      <th>start</th>\n",
       "      <th>end</th>\n",
       "      <th>ticker</th>\n",
       "      <th>processed_at</th>\n",
       "      <th>version</th>\n",
       "    </tr>\n",
       "  </thead>\n",
       "  <tbody>\n",
       "    <tr>\n",
       "      <th>7U_zR5QBsuJ1Mck3N3vN</th>\n",
       "      <td>1999-01-21T00:00:00-05:00</td>\n",
       "      <td>25.624737</td>\n",
       "      <td>25.872271</td>\n",
       "      <td>24.991050</td>\n",
       "      <td>25.080162</td>\n",
       "      <td>80077200</td>\n",
       "      <td>0.0</td>\n",
       "      <td>0.0</td>\n",
       "      <td>1d</td>\n",
       "      <td>max</td>\n",
       "      <td>None</td>\n",
       "      <td>None</td>\n",
       "      <td>msft</td>\n",
       "      <td>2025-01-08T21:26:55.985461</td>\n",
       "      <td>0.0.2</td>\n",
       "    </tr>\n",
       "    <tr>\n",
       "      <th>YU_zR5QBsuJ1Mck3OJzx</th>\n",
       "      <td>2020-07-14T00:00:00-04:00</td>\n",
       "      <td>204.153263</td>\n",
       "      <td>206.847180</td>\n",
       "      <td>200.092575</td>\n",
       "      <td>206.351974</td>\n",
       "      <td>37591800</td>\n",
       "      <td>0.0</td>\n",
       "      <td>0.0</td>\n",
       "      <td>1d</td>\n",
       "      <td>max</td>\n",
       "      <td>None</td>\n",
       "      <td>None</td>\n",
       "      <td>msft</td>\n",
       "      <td>2025-01-08T21:26:55.985461</td>\n",
       "      <td>0.0.2</td>\n",
       "    </tr>\n",
       "  </tbody>\n",
       "</table>\n",
       "</div>"
      ],
      "text/plain": [
       "                                           date        open        high  \\\n",
       "7U_zR5QBsuJ1Mck3N3vN  1999-01-21T00:00:00-05:00   25.624737   25.872271   \n",
       "YU_zR5QBsuJ1Mck3OJzx  2020-07-14T00:00:00-04:00  204.153263  206.847180   \n",
       "\n",
       "                             low       close    volume  dividends  \\\n",
       "7U_zR5QBsuJ1Mck3N3vN   24.991050   25.080162  80077200        0.0   \n",
       "YU_zR5QBsuJ1Mck3OJzx  200.092575  206.351974  37591800        0.0   \n",
       "\n",
       "                      stock_splits interval period start   end ticker  \\\n",
       "7U_zR5QBsuJ1Mck3N3vN           0.0       1d    max  None  None   msft   \n",
       "YU_zR5QBsuJ1Mck3OJzx           0.0       1d    max  None  None   msft   \n",
       "\n",
       "                                    processed_at version  \n",
       "7U_zR5QBsuJ1Mck3N3vN  2025-01-08T21:26:55.985461   0.0.2  \n",
       "YU_zR5QBsuJ1Mck3OJzx  2025-01-08T21:26:55.985461   0.0.2  "
      ]
     },
     "execution_count": 192,
     "metadata": {},
     "output_type": "execute_result"
    }
   ],
   "source": [
    "ind.loc[['YU_zR5QBsuJ1Mck3OJzx', '7U_zR5QBsuJ1Mck3N3vN']].as_df()"
   ]
  },
  {
   "cell_type": "code",
   "execution_count": 193,
   "id": "a4beda8d-b8f9-41b6-ad66-a898ad2c8b42",
   "metadata": {},
   "outputs": [
    {
     "data": {
      "text/plain": [
       "6234"
      ]
     },
     "execution_count": 193,
     "metadata": {},
     "output_type": "execute_result"
    }
   ],
   "source": [
    "ind['ticker'].nunique()"
   ]
  },
  {
   "cell_type": "code",
   "execution_count": 194,
   "id": "ebe06b61-6d41-4e91-b968-6905f063472d",
   "metadata": {},
   "outputs": [
    {
     "data": {
      "text/plain": [
       "ip       31726\n",
       "cnp      31726\n",
       "ge       31726\n",
       "dis      31726\n",
       "pg       31726\n",
       "         ...  \n",
       "aspc         4\n",
       "mask         3\n",
       "cepo         2\n",
       "zybt         2\n",
       "mficl        1\n",
       "Length: 6227, dtype: int64"
      ]
     },
     "execution_count": 194,
     "metadata": {},
     "output_type": "execute_result"
    }
   ],
   "source": [
    "ind['ticker'].value_counts()"
   ]
  },
  {
   "cell_type": "code",
   "execution_count": 195,
   "id": "4d5b9b85-2f30-44aa-9cbd-27719b56d591",
   "metadata": {},
   "outputs": [
    {
     "data": {
      "text/plain": [
       "low      80.050248\n",
       "high     83.779151\n",
       "open     81.974180\n",
       "close    81.957195\n",
       "Name: avg, dtype: float64"
      ]
     },
     "execution_count": 195,
     "metadata": {},
     "output_type": "execute_result"
    }
   ],
   "source": [
    "(ind & 'ticker: tsla')[['open', 'high', 'low', 'close']].mean()"
   ]
  },
  {
   "cell_type": "markdown",
   "id": "87add0e0-c867-4786-ba54-aabae410df2d",
   "metadata": {},
   "source": [
    "## Groupby"
   ]
  },
  {
   "cell_type": "markdown",
   "id": "ee33052e-fadc-4c52-80d0-3b9948c158cf",
   "metadata": {},
   "source": [
    "we can even use the pandas groupby syntax, lets see what was the average price for all the stocks that starts with \"ms\" in 2023"
   ]
  },
  {
   "cell_type": "code",
   "execution_count": 198,
   "id": "7a16584f-9802-4636-87b6-140dacff35d3",
   "metadata": {},
   "outputs": [],
   "source": [
    "q = ind & 'ticker: ms*' & TimeFilter(field='date', start=datetime(2023,1,1), end=datetime(2024,1,1))"
   ]
  },
  {
   "cell_type": "code",
   "execution_count": 205,
   "id": "9f5b9f2f-be31-4056-8a3b-e8754c6f5a32",
   "metadata": {},
   "outputs": [
    {
     "name": "stdout",
     "output_type": "stream",
     "text": [
      "False\n"
     ]
    },
    {
     "data": {
      "text/html": [
       "<div>\n",
       "<style scoped>\n",
       "    .dataframe tbody tr th:only-of-type {\n",
       "        vertical-align: middle;\n",
       "    }\n",
       "\n",
       "    .dataframe tbody tr th {\n",
       "        vertical-align: top;\n",
       "    }\n",
       "\n",
       "    .dataframe thead th {\n",
       "        text-align: right;\n",
       "    }\n",
       "</style>\n",
       "<table border=\"1\" class=\"dataframe\">\n",
       "  <thead>\n",
       "    <tr style=\"text-align: right;\">\n",
       "      <th></th>\n",
       "      <th>count</th>\n",
       "      <th>close_avg</th>\n",
       "      <th>open_avg</th>\n",
       "      <th>high_avg</th>\n",
       "      <th>low_avg</th>\n",
       "    </tr>\n",
       "    <tr>\n",
       "      <th>ticker</th>\n",
       "      <th></th>\n",
       "      <th></th>\n",
       "      <th></th>\n",
       "      <th></th>\n",
       "      <th></th>\n",
       "    </tr>\n",
       "  </thead>\n",
       "  <tbody>\n",
       "    <tr>\n",
       "      <th>ms</th>\n",
       "      <td>500</td>\n",
       "      <td>86.393280</td>\n",
       "      <td>86.33932</td>\n",
       "      <td>87.232400</td>\n",
       "      <td>85.515480</td>\n",
       "    </tr>\n",
       "    <tr>\n",
       "      <th>msa</th>\n",
       "      <td>500</td>\n",
       "      <td>153.166440</td>\n",
       "      <td>153.12868</td>\n",
       "      <td>154.774920</td>\n",
       "      <td>151.593840</td>\n",
       "    </tr>\n",
       "    <tr>\n",
       "      <th>msb</th>\n",
       "      <td>500</td>\n",
       "      <td>20.904000</td>\n",
       "      <td>20.84936</td>\n",
       "      <td>21.377480</td>\n",
       "      <td>20.477760</td>\n",
       "    </tr>\n",
       "    <tr>\n",
       "      <th>msc</th>\n",
       "      <td>500</td>\n",
       "      <td>6.448520</td>\n",
       "      <td>6.42772</td>\n",
       "      <td>6.669480</td>\n",
       "      <td>6.200880</td>\n",
       "    </tr>\n",
       "    <tr>\n",
       "      <th>msci</th>\n",
       "      <td>500</td>\n",
       "      <td>514.673161</td>\n",
       "      <td>514.19232</td>\n",
       "      <td>520.167159</td>\n",
       "      <td>508.615319</td>\n",
       "    </tr>\n",
       "  </tbody>\n",
       "</table>\n",
       "</div>"
      ],
      "text/plain": [
       "        count   close_avg   open_avg    high_avg     low_avg\n",
       "ticker                                                      \n",
       "ms        500   86.393280   86.33932   87.232400   85.515480\n",
       "msa       500  153.166440  153.12868  154.774920  151.593840\n",
       "msb       500   20.904000   20.84936   21.377480   20.477760\n",
       "msc       500    6.448520    6.42772    6.669480    6.200880\n",
       "msci      500  514.673161  514.19232  520.167159  508.615319"
      ]
     },
     "execution_count": 205,
     "metadata": {},
     "output_type": "execute_result"
    }
   ],
   "source": [
    "q.groupby('ticker').agg({'close': 'mean', 'open': 'mean', 'high': 'mean', 'low': 'mean'}).as_df().head()"
   ]
  },
  {
   "cell_type": "markdown",
   "id": "11360258-a2f5-482c-b517-49fdfa754d34",
   "metadata": {},
   "source": [
    "we can aggregate over more than one field"
   ]
  },
  {
   "cell_type": "code",
   "execution_count": 224,
   "id": "696d3013-820e-48ad-ae97-e0e3ebd3e2eb",
   "metadata": {},
   "outputs": [
    {
     "data": {
      "text/html": [
       "<div>\n",
       "<style scoped>\n",
       "    .dataframe tbody tr th:only-of-type {\n",
       "        vertical-align: middle;\n",
       "    }\n",
       "\n",
       "    .dataframe tbody tr th {\n",
       "        vertical-align: top;\n",
       "    }\n",
       "\n",
       "    .dataframe thead th {\n",
       "        text-align: right;\n",
       "    }\n",
       "</style>\n",
       "<table border=\"1\" class=\"dataframe\">\n",
       "  <thead>\n",
       "    <tr style=\"text-align: right;\">\n",
       "      <th></th>\n",
       "      <th></th>\n",
       "      <th>count</th>\n",
       "      <th>close_avg</th>\n",
       "      <th>open_avg</th>\n",
       "      <th>high_avg</th>\n",
       "      <th>low_avg</th>\n",
       "    </tr>\n",
       "    <tr>\n",
       "      <th>ticker</th>\n",
       "      <th>interval</th>\n",
       "      <th></th>\n",
       "      <th></th>\n",
       "      <th></th>\n",
       "      <th></th>\n",
       "      <th></th>\n",
       "    </tr>\n",
       "  </thead>\n",
       "  <tbody>\n",
       "    <tr>\n",
       "      <th>ms</th>\n",
       "      <th>1d</th>\n",
       "      <td>500</td>\n",
       "      <td>86.393280</td>\n",
       "      <td>86.339320</td>\n",
       "      <td>87.232400</td>\n",
       "      <td>85.515480</td>\n",
       "    </tr>\n",
       "    <tr>\n",
       "      <th>msa</th>\n",
       "      <th>1d</th>\n",
       "      <td>500</td>\n",
       "      <td>153.166440</td>\n",
       "      <td>153.128680</td>\n",
       "      <td>154.774920</td>\n",
       "      <td>151.593840</td>\n",
       "    </tr>\n",
       "    <tr>\n",
       "      <th>msai</th>\n",
       "      <th>1d</th>\n",
       "      <td>250</td>\n",
       "      <td>10.375096</td>\n",
       "      <td>10.390216</td>\n",
       "      <td>10.485096</td>\n",
       "      <td>10.310928</td>\n",
       "    </tr>\n",
       "    <tr>\n",
       "      <th>msb</th>\n",
       "      <th>1d</th>\n",
       "      <td>500</td>\n",
       "      <td>20.904000</td>\n",
       "      <td>20.849360</td>\n",
       "      <td>21.377480</td>\n",
       "      <td>20.477760</td>\n",
       "    </tr>\n",
       "    <tr>\n",
       "      <th>msbi</th>\n",
       "      <th>1d</th>\n",
       "      <td>250</td>\n",
       "      <td>22.633160</td>\n",
       "      <td>22.631920</td>\n",
       "      <td>22.938600</td>\n",
       "      <td>22.329556</td>\n",
       "    </tr>\n",
       "  </tbody>\n",
       "</table>\n",
       "</div>"
      ],
      "text/plain": [
       "                 count   close_avg    open_avg    high_avg     low_avg\n",
       "ticker interval                                                       \n",
       "ms     1d          500   86.393280   86.339320   87.232400   85.515480\n",
       "msa    1d          500  153.166440  153.128680  154.774920  151.593840\n",
       "msai   1d          250   10.375096   10.390216   10.485096   10.310928\n",
       "msb    1d          500   20.904000   20.849360   21.377480   20.477760\n",
       "msbi   1d          250   22.633160   22.631920   22.938600   22.329556"
      ]
     },
     "execution_count": 224,
     "metadata": {},
     "output_type": "execute_result"
    }
   ],
   "source": [
    "q.groupby(['ticker', 'interval']).agg({'close': 'mean', 'open': 'mean', 'high': 'mean', 'low': 'mean'}).as_df().head()"
   ]
  },
  {
   "cell_type": "markdown",
   "id": "780464ef-92e2-4022-8dbb-79e34d6c32c6",
   "metadata": {},
   "source": [
    "## Bonus: use LLM to explore the DB and answer questions"
   ]
  },
  {
   "cell_type": "code",
   "execution_count": 238,
   "id": "4fa139b9-bd3b-4233-a30e-a7b30133a5fe",
   "metadata": {},
   "outputs": [],
   "source": [
    "llm = resource(\"openai:///gpt-4o\")"
   ]
  },
  {
   "cell_type": "code",
   "execution_count": 248,
   "id": "ab8b38a8-a972-475d-a2f7-1d63acf76900",
   "metadata": {},
   "outputs": [],
   "source": [
    "r = ind.ask(\"did msft trade over 100$ in 2023 and when?\", llm=llm, execute=True, answer=True)"
   ]
  },
  {
   "cell_type": "markdown",
   "id": "56dddf48-4e95-4208-9171-d35a324d72a7",
   "metadata": {},
   "source": [
    "The LLM will produce a DSL query, execute it and iterprate the results to provide the final answer"
   ]
  },
  {
   "cell_type": "code",
   "execution_count": 251,
   "id": "24b7364c-08d7-4610-92dc-8d704b30fa9e",
   "metadata": {},
   "outputs": [
    {
     "data": {
      "text/plain": [
       "Bool(must=[Term(ticker__keyword='msft'), Range(date={'gte': '2023-01-01', 'lte': '2023-12-31'}), Range(high={'gt': 100})])"
      ]
     },
     "execution_count": 251,
     "metadata": {},
     "output_type": "execute_result"
    }
   ],
   "source": [
    "r.query"
   ]
  },
  {
   "cell_type": "code",
   "execution_count": 252,
   "id": "25791b07-6096-4a4d-b9d9-4411e4915279",
   "metadata": {},
   "outputs": [
    {
     "data": {
      "text/html": [
       "<div>\n",
       "<style scoped>\n",
       "    .dataframe tbody tr th:only-of-type {\n",
       "        vertical-align: middle;\n",
       "    }\n",
       "\n",
       "    .dataframe tbody tr th {\n",
       "        vertical-align: top;\n",
       "    }\n",
       "\n",
       "    .dataframe thead th {\n",
       "        text-align: right;\n",
       "    }\n",
       "</style>\n",
       "<table border=\"1\" class=\"dataframe\">\n",
       "  <thead>\n",
       "    <tr style=\"text-align: right;\">\n",
       "      <th></th>\n",
       "      <th>date</th>\n",
       "      <th>high</th>\n",
       "    </tr>\n",
       "  </thead>\n",
       "  <tbody>\n",
       "    <tr>\n",
       "      <th>w0_zR5QBsuJ1Mck3OaAq</th>\n",
       "      <td>2023-01-25T00:00:00-05:00</td>\n",
       "      <td>243.300003</td>\n",
       "    </tr>\n",
       "    <tr>\n",
       "      <th>xE_zR5QBsuJ1Mck3OaAq</th>\n",
       "      <td>2023-01-26T00:00:00-05:00</td>\n",
       "      <td>248.309998</td>\n",
       "    </tr>\n",
       "    <tr>\n",
       "      <th>x0_zR5QBsuJ1Mck3OaAq</th>\n",
       "      <td>2023-01-31T00:00:00-05:00</td>\n",
       "      <td>247.949997</td>\n",
       "    </tr>\n",
       "    <tr>\n",
       "      <th>yE_zR5QBsuJ1Mck3OaAq</th>\n",
       "      <td>2023-02-01T00:00:00-05:00</td>\n",
       "      <td>255.179993</td>\n",
       "    </tr>\n",
       "    <tr>\n",
       "      <th>yU_zR5QBsuJ1Mck3OaAq</th>\n",
       "      <td>2023-02-02T00:00:00-05:00</td>\n",
       "      <td>264.690002</td>\n",
       "    </tr>\n",
       "  </tbody>\n",
       "</table>\n",
       "</div>"
      ],
      "text/plain": [
       "                                           date        high\n",
       "w0_zR5QBsuJ1Mck3OaAq  2023-01-25T00:00:00-05:00  243.300003\n",
       "xE_zR5QBsuJ1Mck3OaAq  2023-01-26T00:00:00-05:00  248.309998\n",
       "x0_zR5QBsuJ1Mck3OaAq  2023-01-31T00:00:00-05:00  247.949997\n",
       "yE_zR5QBsuJ1Mck3OaAq  2023-02-01T00:00:00-05:00  255.179993\n",
       "yU_zR5QBsuJ1Mck3OaAq  2023-02-02T00:00:00-05:00  264.690002"
      ]
     },
     "execution_count": 252,
     "metadata": {},
     "output_type": "execute_result"
    }
   ],
   "source": [
    "r.df.head()"
   ]
  },
  {
   "cell_type": "code",
   "execution_count": 249,
   "id": "e534dc41-735a-4b06-a83a-bdadefb38b61",
   "metadata": {},
   "outputs": [
    {
     "name": "stdout",
     "output_type": "stream",
     "text": [
      "Yes, MSFT traded over $100 in 2023. The data shows that the highest trading price for MSFT in 2023 was $384.30, and it consistently traded above $100 throughout the year. Here are some sample dates when MSFT traded over $100:\n",
      "\n",
      "- May 8, 2023, with a high of $310.20\n",
      "- February 16, 2023, with a high of $266.74\n",
      "- July 3, 2023, with a high of $340.90\n",
      "- July 19, 2023, with a high of $362.46\n",
      "- December 14, 2023, with a high of $373.76\n",
      "\n",
      "These are just a few examples, and the data indicates that MSFT traded over $100 on all recorded dates in 2023.\n"
     ]
    }
   ],
   "source": [
    "print(r.text_answer)"
   ]
  },
  {
   "cell_type": "markdown",
   "id": "aba1f7c5-cd5a-420b-9e84-4dc88c8d61e0",
   "metadata": {},
   "source": [
    "# Conclusion"
   ]
  },
  {
   "cell_type": "markdown",
   "id": "15b6c3c5-fb66-432d-8438-02276fcef7f4",
   "metadata": {},
   "source": [
    "Elasticsearch API can be complicated and cumbersome, \n",
    "\n",
    "beam 🔥 gets you covered and lets you enjoy all the elasticsearch advantages 🚀 with your preferred pandas API 🐼"
   ]
  }
 ],
 "metadata": {
  "kernelspec": {
   "display_name": "Python 3 (ipykernel)",
   "language": "python",
   "name": "python3"
  },
  "language_info": {
   "codemirror_mode": {
    "name": "ipython",
    "version": 3
   },
   "file_extension": ".py",
   "mimetype": "text/x-python",
   "name": "python",
   "nbconvert_exporter": "python",
   "pygments_lexer": "ipython3",
   "version": "3.12.3"
  }
 },
 "nbformat": 4,
 "nbformat_minor": 5
}
