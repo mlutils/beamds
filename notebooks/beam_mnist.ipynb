{
 "cells": [
  {
   "cell_type": "code",
   "execution_count": 1,
   "id": "c974cdd9",
   "metadata": {},
   "outputs": [],
   "source": [
    "%load_ext autoreload\n",
    "%autoreload 2\n",
    "\n",
    "import torch\n",
    "import torchvision\n",
    "import torch.nn.functional as F\n",
    "from torch import nn\n",
    "from sklearn.metrics import precision_recall_fscore_support\n",
    "import numpy as np\n",
    "\n",
    "from src.beam import beam_arguments, Experiment\n",
    "from src.beam import UniversalDataset, UniversalBatchSampler\n",
    "from src.beam import Algorithm\n",
    "from src.beam import LinearNet\n",
    "\n",
    "from src.beam import DataTensor\n",
    "from src.beam.utils import is_notebook\n",
    "from mnist_example import run_mnist, mnist_algorithm_generator"
   ]
  },
  {
   "cell_type": "markdown",
   "id": "3d15a46d",
   "metadata": {},
   "source": [
    "## Training with a single worker"
   ]
  },
  {
   "cell_type": "code",
   "execution_count": 2,
   "id": "f79ff3f1",
   "metadata": {},
   "outputs": [
    {
     "name": "stdout",
     "output_type": "stream",
     "text": [
      "\u001b[32m2022-05-08 10:59:58.515\u001b[0m | \u001b[1mINFO    \u001b[0m | \u001b[36msrc.beam.experiment\u001b[0m:\u001b[36m__init__\u001b[0m:\u001b[36m89\u001b[0m - \u001b[1mbeam project: mnist\u001b[0m\n",
      "\u001b[32m2022-05-08 10:59:58.517\u001b[0m | \u001b[1mINFO    \u001b[0m | \u001b[36msrc.beam.experiment\u001b[0m:\u001b[36m__init__\u001b[0m:\u001b[36m90\u001b[0m - \u001b[1mSimulation Hyperparameters\u001b[0m\n",
      "\u001b[32m2022-05-08 10:59:58.518\u001b[0m | \u001b[1mINFO    \u001b[0m | \u001b[36msrc.beam.experiment\u001b[0m:\u001b[36m__init__\u001b[0m:\u001b[36m94\u001b[0m - \u001b[1mproject_name: mnist\u001b[0m\n",
      "\u001b[32m2022-05-08 10:59:58.519\u001b[0m | \u001b[1mINFO    \u001b[0m | \u001b[36msrc.beam.experiment\u001b[0m:\u001b[36m__init__\u001b[0m:\u001b[36m94\u001b[0m - \u001b[1midentifier: debug\u001b[0m\n",
      "\u001b[32m2022-05-08 10:59:58.520\u001b[0m | \u001b[1mINFO    \u001b[0m | \u001b[36msrc.beam.experiment\u001b[0m:\u001b[36m__init__\u001b[0m:\u001b[36m94\u001b[0m - \u001b[1malgorithm: MNISTAlgorithm\u001b[0m\n",
      "\u001b[32m2022-05-08 10:59:58.521\u001b[0m | \u001b[1mINFO    \u001b[0m | \u001b[36msrc.beam.experiment\u001b[0m:\u001b[36m__init__\u001b[0m:\u001b[36m94\u001b[0m - \u001b[1mmp_port: None\u001b[0m\n",
      "\u001b[32m2022-05-08 10:59:58.522\u001b[0m | \u001b[1mINFO    \u001b[0m | \u001b[36msrc.beam.experiment\u001b[0m:\u001b[36m__init__\u001b[0m:\u001b[36m94\u001b[0m - \u001b[1mroot_dir: /home/shared/data/results\u001b[0m\n",
      "\u001b[32m2022-05-08 10:59:58.523\u001b[0m | \u001b[1mINFO    \u001b[0m | \u001b[36msrc.beam.experiment\u001b[0m:\u001b[36m__init__\u001b[0m:\u001b[36m94\u001b[0m - \u001b[1mreload: False\u001b[0m\n",
      "\u001b[32m2022-05-08 10:59:58.524\u001b[0m | \u001b[1mINFO    \u001b[0m | \u001b[36msrc.beam.experiment\u001b[0m:\u001b[36m__init__\u001b[0m:\u001b[36m94\u001b[0m - \u001b[1mresume: -1\u001b[0m\n",
      "\u001b[32m2022-05-08 10:59:58.525\u001b[0m | \u001b[1mINFO    \u001b[0m | \u001b[36msrc.beam.experiment\u001b[0m:\u001b[36m__init__\u001b[0m:\u001b[36m94\u001b[0m - \u001b[1moverride: True\u001b[0m\n",
      "\u001b[32m2022-05-08 10:59:58.526\u001b[0m | \u001b[1mINFO    \u001b[0m | \u001b[36msrc.beam.experiment\u001b[0m:\u001b[36m__init__\u001b[0m:\u001b[36m94\u001b[0m - \u001b[1mcpu_workers: 0\u001b[0m\n",
      "\u001b[32m2022-05-08 10:59:58.526\u001b[0m | \u001b[1mINFO    \u001b[0m | \u001b[36msrc.beam.experiment\u001b[0m:\u001b[36m__init__\u001b[0m:\u001b[36m94\u001b[0m - \u001b[1mdevice: 0\u001b[0m\n",
      "\u001b[32m2022-05-08 10:59:58.527\u001b[0m | \u001b[1mINFO    \u001b[0m | \u001b[36msrc.beam.experiment\u001b[0m:\u001b[36m__init__\u001b[0m:\u001b[36m94\u001b[0m - \u001b[1mparallel: 1\u001b[0m\n",
      "\u001b[32m2022-05-08 10:59:58.527\u001b[0m | \u001b[1mINFO    \u001b[0m | \u001b[36msrc.beam.experiment\u001b[0m:\u001b[36m__init__\u001b[0m:\u001b[36m94\u001b[0m - \u001b[1mtensorboard: True\u001b[0m\n",
      "\u001b[32m2022-05-08 10:59:58.528\u001b[0m | \u001b[1mINFO    \u001b[0m | \u001b[36msrc.beam.experiment\u001b[0m:\u001b[36m__init__\u001b[0m:\u001b[36m94\u001b[0m - \u001b[1mlognet: True\u001b[0m\n",
      "\u001b[32m2022-05-08 10:59:58.528\u001b[0m | \u001b[1mINFO    \u001b[0m | \u001b[36msrc.beam.experiment\u001b[0m:\u001b[36m__init__\u001b[0m:\u001b[36m94\u001b[0m - \u001b[1mdeterministic: False\u001b[0m\n",
      "\u001b[32m2022-05-08 10:59:58.530\u001b[0m | \u001b[1mINFO    \u001b[0m | \u001b[36msrc.beam.experiment\u001b[0m:\u001b[36m__init__\u001b[0m:\u001b[36m94\u001b[0m - \u001b[1mscale_epoch_by_batch_size: True\u001b[0m\n",
      "\u001b[32m2022-05-08 10:59:58.531\u001b[0m | \u001b[1mINFO    \u001b[0m | \u001b[36msrc.beam.experiment\u001b[0m:\u001b[36m__init__\u001b[0m:\u001b[36m94\u001b[0m - \u001b[1minit: ortho\u001b[0m\n",
      "\u001b[32m2022-05-08 10:59:58.531\u001b[0m | \u001b[1mINFO    \u001b[0m | \u001b[36msrc.beam.experiment\u001b[0m:\u001b[36m__init__\u001b[0m:\u001b[36m94\u001b[0m - \u001b[1mseed: 0\u001b[0m\n",
      "\u001b[32m2022-05-08 10:59:58.532\u001b[0m | \u001b[1mINFO    \u001b[0m | \u001b[36msrc.beam.experiment\u001b[0m:\u001b[36m__init__\u001b[0m:\u001b[36m94\u001b[0m - \u001b[1mtotal_steps: 1000000\u001b[0m\n",
      "\u001b[32m2022-05-08 10:59:58.532\u001b[0m | \u001b[1mINFO    \u001b[0m | \u001b[36msrc.beam.experiment\u001b[0m:\u001b[36m__init__\u001b[0m:\u001b[36m94\u001b[0m - \u001b[1mepoch_length: 100000\u001b[0m\n",
      "\u001b[32m2022-05-08 10:59:58.532\u001b[0m | \u001b[1mINFO    \u001b[0m | \u001b[36msrc.beam.experiment\u001b[0m:\u001b[36m__init__\u001b[0m:\u001b[36m94\u001b[0m - \u001b[1mepoch_length_train: None\u001b[0m\n",
      "\u001b[32m2022-05-08 10:59:58.533\u001b[0m | \u001b[1mINFO    \u001b[0m | \u001b[36msrc.beam.experiment\u001b[0m:\u001b[36m__init__\u001b[0m:\u001b[36m94\u001b[0m - \u001b[1mepoch_length_eval: None\u001b[0m\n",
      "\u001b[32m2022-05-08 10:59:58.533\u001b[0m | \u001b[1mINFO    \u001b[0m | \u001b[36msrc.beam.experiment\u001b[0m:\u001b[36m__init__\u001b[0m:\u001b[36m94\u001b[0m - \u001b[1mn_epochs: 2\u001b[0m\n",
      "\u001b[32m2022-05-08 10:59:58.534\u001b[0m | \u001b[1mINFO    \u001b[0m | \u001b[36msrc.beam.experiment\u001b[0m:\u001b[36m__init__\u001b[0m:\u001b[36m94\u001b[0m - \u001b[1mbatch_size: 256\u001b[0m\n",
      "\u001b[32m2022-05-08 10:59:58.535\u001b[0m | \u001b[1mINFO    \u001b[0m | \u001b[36msrc.beam.experiment\u001b[0m:\u001b[36m__init__\u001b[0m:\u001b[36m94\u001b[0m - \u001b[1mbatch_size_train: None\u001b[0m\n",
      "\u001b[32m2022-05-08 10:59:58.536\u001b[0m | \u001b[1mINFO    \u001b[0m | \u001b[36msrc.beam.experiment\u001b[0m:\u001b[36m__init__\u001b[0m:\u001b[36m94\u001b[0m - \u001b[1mbatch_size_eval: None\u001b[0m\n",
      "\u001b[32m2022-05-08 10:59:58.536\u001b[0m | \u001b[1mINFO    \u001b[0m | \u001b[36msrc.beam.experiment\u001b[0m:\u001b[36m__init__\u001b[0m:\u001b[36m94\u001b[0m - \u001b[1mlr_d: 0.001\u001b[0m\n",
      "\u001b[32m2022-05-08 10:59:58.537\u001b[0m | \u001b[1mINFO    \u001b[0m | \u001b[36msrc.beam.experiment\u001b[0m:\u001b[36m__init__\u001b[0m:\u001b[36m94\u001b[0m - \u001b[1mlr_s: 0.01\u001b[0m\n",
      "\u001b[32m2022-05-08 10:59:58.538\u001b[0m | \u001b[1mINFO    \u001b[0m | \u001b[36msrc.beam.experiment\u001b[0m:\u001b[36m__init__\u001b[0m:\u001b[36m94\u001b[0m - \u001b[1mweight_decay: 0.0\u001b[0m\n",
      "\u001b[32m2022-05-08 10:59:58.538\u001b[0m | \u001b[1mINFO    \u001b[0m | \u001b[36msrc.beam.experiment\u001b[0m:\u001b[36m__init__\u001b[0m:\u001b[36m94\u001b[0m - \u001b[1meps: 0.0001\u001b[0m\n",
      "\u001b[32m2022-05-08 10:59:58.539\u001b[0m | \u001b[1mINFO    \u001b[0m | \u001b[36msrc.beam.experiment\u001b[0m:\u001b[36m__init__\u001b[0m:\u001b[36m94\u001b[0m - \u001b[1mclip: 1.0\u001b[0m\n",
      "\u001b[32m2022-05-08 10:59:58.539\u001b[0m | \u001b[1mINFO    \u001b[0m | \u001b[36msrc.beam.experiment\u001b[0m:\u001b[36m__init__\u001b[0m:\u001b[36m94\u001b[0m - \u001b[1mprint_results: True\u001b[0m\n",
      "\u001b[32m2022-05-08 10:59:58.540\u001b[0m | \u001b[1mINFO    \u001b[0m | \u001b[36msrc.beam.experiment\u001b[0m:\u001b[36m__init__\u001b[0m:\u001b[36m94\u001b[0m - \u001b[1mvisualize_weights: True\u001b[0m\n",
      "\u001b[32m2022-05-08 10:59:58.540\u001b[0m | \u001b[1mINFO    \u001b[0m | \u001b[36msrc.beam.experiment\u001b[0m:\u001b[36m__init__\u001b[0m:\u001b[36m94\u001b[0m - \u001b[1mvisualize_results: yes\u001b[0m\n",
      "\u001b[32m2022-05-08 10:59:58.541\u001b[0m | \u001b[1mINFO    \u001b[0m | \u001b[36msrc.beam.experiment\u001b[0m:\u001b[36m__init__\u001b[0m:\u001b[36m94\u001b[0m - \u001b[1mstore_results: logscale\u001b[0m\n",
      "\u001b[32m2022-05-08 10:59:58.541\u001b[0m | \u001b[1mINFO    \u001b[0m | \u001b[36msrc.beam.experiment\u001b[0m:\u001b[36m__init__\u001b[0m:\u001b[36m94\u001b[0m - \u001b[1mstore_networks: logscale\u001b[0m\n",
      "\u001b[32m2022-05-08 10:59:58.541\u001b[0m | \u001b[1mINFO    \u001b[0m | \u001b[36msrc.beam.experiment\u001b[0m:\u001b[36m__init__\u001b[0m:\u001b[36m94\u001b[0m - \u001b[1mpath_to_data: /home/elad/projects/mnist\u001b[0m\n",
      "\u001b[32m2022-05-08 10:59:58.543\u001b[0m | \u001b[1mINFO    \u001b[0m | \u001b[36msrc.beam.experiment\u001b[0m:\u001b[36m__init__\u001b[0m:\u001b[36m167\u001b[0m - \u001b[1mDeleting old experiment\u001b[0m\n",
      "\u001b[32m2022-05-08 10:59:58.546\u001b[0m | \u001b[1mINFO    \u001b[0m | \u001b[36msrc.beam.experiment\u001b[0m:\u001b[36m__init__\u001b[0m:\u001b[36m174\u001b[0m - \u001b[1mExperiment directory is: /home/shared/data/results/mnist/MNISTAlgorithm_debug_exp_0000_20220508_105958\u001b[0m\n"
     ]
    }
   ],
   "source": [
    "# here you put all actions which are performed only once before initializing the workers\n",
    "# for example, setting running arguments and experiment:\n",
    "\n",
    "args = beam_arguments(\"--project-name=mnist --root-dir=/home/shared/data/results --algorithm=MNISTAlgorithm\",\n",
    "                      \"--epoch-length=100000 --n-epochs=2 --clip=1 --parallel=1\", path_to_data='/home/elad/projects/mnist')\n",
    "\n",
    "experiment = Experiment(args)"
   ]
  },
  {
   "cell_type": "markdown",
   "id": "48307e00",
   "metadata": {},
   "source": [
    "we can generate an untrained algorithm with"
   ]
  },
  {
   "cell_type": "code",
   "execution_count": 3,
   "id": "ef04adc5",
   "metadata": {},
   "outputs": [],
   "source": [
    "alg = mnist_algorithm_generator(experiment)"
   ]
  },
  {
   "cell_type": "markdown",
   "id": "87ac0890",
   "metadata": {},
   "source": [
    "or we can apply the default training routin with"
   ]
  },
  {
   "cell_type": "code",
   "execution_count": 4,
   "id": "059e22cd",
   "metadata": {},
   "outputs": [
    {
     "name": "stdout",
     "output_type": "stream",
     "text": [
      "\u001b[32m2022-05-08 10:59:59.952\u001b[0m | \u001b[1mINFO    \u001b[0m | \u001b[36msrc.beam.experiment\u001b[0m:\u001b[36mrun\u001b[0m:\u001b[36m417\u001b[0m - \u001b[1mSingle worker mode\u001b[0m\n",
      "\u001b[32m2022-05-08 10:59:59.954\u001b[0m | \u001b[1mINFO    \u001b[0m | \u001b[36msrc.beam.experiment\u001b[0m:\u001b[36mrun_worker\u001b[0m:\u001b[36m40\u001b[0m - \u001b[1mWorker: 1/1 is running...\u001b[0m\n"
     ]
    },
    {
     "data": {
      "application/vnd.jupyter.widget-view+json": {
       "model_id": "205078d752354e67af48a1acf380ace4",
       "version_major": 2,
       "version_minor": 0
      },
      "text/plain": [
       "train:   0%|          | 0/389 [00:00<?, ?it/s]"
      ]
     },
     "metadata": {},
     "output_type": "display_data"
    },
    {
     "data": {
      "application/vnd.jupyter.widget-view+json": {
       "model_id": "c2b867d9bb7e4b479a02fbc4058ad7b4",
       "version_major": 2,
       "version_minor": 0
      },
      "text/plain": [
       "validation:   0%|          | 0/389 [00:00<?, ?it/s]"
      ]
     },
     "metadata": {},
     "output_type": "display_data"
    },
    {
     "name": "stdout",
     "output_type": "stream",
     "text": [
      "\n",
      "\u001b[32m2022-05-08 11:00:04.249\u001b[0m | \u001b[1mINFO    \u001b[0m | \u001b[36msrc.beam.experiment\u001b[0m:\u001b[36msave_model_results\u001b[0m:\u001b[36m291\u001b[0m - \u001b[1mFinished epoch 1/2:\u001b[0m\n",
      "\u001b[32m2022-05-08 11:00:04.261\u001b[0m | \u001b[1mINFO    \u001b[0m | \u001b[36msrc.beam.experiment\u001b[0m:\u001b[36mlog_data\u001b[0m:\u001b[36m330\u001b[0m - \u001b[1mtrain:\u001b[0m\n",
      "\u001b[32m2022-05-08 11:00:04.262\u001b[0m | \u001b[1mINFO    \u001b[0m | \u001b[36msrc.beam.experiment\u001b[0m:\u001b[36mlog_data\u001b[0m:\u001b[36m334\u001b[0m - \u001b[1mloss 0.337824 \t|\u001b[0m\n",
      "\u001b[32m2022-05-08 11:00:04.263\u001b[0m | \u001b[1mINFO    \u001b[0m | \u001b[36msrc.beam.experiment\u001b[0m:\u001b[36mlog_data\u001b[0m:\u001b[36m334\u001b[0m - \u001b[1macc 0.900697 \t|\u001b[0m\n",
      "\u001b[32m2022-05-08 11:00:04.263\u001b[0m | \u001b[1mINFO    \u001b[0m | \u001b[36msrc.beam.experiment\u001b[0m:\u001b[36mlog_data\u001b[0m:\u001b[36m334\u001b[0m - \u001b[1mlr 0.00099 \t|\u001b[0m\n",
      "\u001b[32m2022-05-08 11:00:04.264\u001b[0m | \u001b[1mINFO    \u001b[0m | \u001b[36msrc.beam.experiment\u001b[0m:\u001b[36mlog_data\u001b[0m:\u001b[36m330\u001b[0m - \u001b[1mvalidation:\u001b[0m\n",
      "\u001b[32m2022-05-08 11:00:04.264\u001b[0m | \u001b[1mINFO    \u001b[0m | \u001b[36msrc.beam.experiment\u001b[0m:\u001b[36mlog_data\u001b[0m:\u001b[36m334\u001b[0m - \u001b[1mloss 0.131608 \t|\u001b[0m\n",
      "\u001b[32m2022-05-08 11:00:04.265\u001b[0m | \u001b[1mINFO    \u001b[0m | \u001b[36msrc.beam.experiment\u001b[0m:\u001b[36mlog_data\u001b[0m:\u001b[36m334\u001b[0m - \u001b[1macc 0.959271 \t|\u001b[0m\n"
     ]
    },
    {
     "data": {
      "application/vnd.jupyter.widget-view+json": {
       "model_id": "19d99c0f63474ab3b36bb07b06c4bab3",
       "version_major": 2,
       "version_minor": 0
      },
      "text/plain": [
       "train:   0%|          | 0/389 [00:00<?, ?it/s]"
      ]
     },
     "metadata": {},
     "output_type": "display_data"
    },
    {
     "data": {
      "application/vnd.jupyter.widget-view+json": {
       "model_id": "734e21f5e20a413ba5751bd8fb722dc0",
       "version_major": 2,
       "version_minor": 0
      },
      "text/plain": [
       "validation:   0%|          | 0/389 [00:00<?, ?it/s]"
      ]
     },
     "metadata": {},
     "output_type": "display_data"
    },
    {
     "name": "stdout",
     "output_type": "stream",
     "text": [
      "\n",
      "\u001b[32m2022-05-08 11:00:05.890\u001b[0m | \u001b[1mINFO    \u001b[0m | \u001b[36msrc.beam.experiment\u001b[0m:\u001b[36msave_model_results\u001b[0m:\u001b[36m291\u001b[0m - \u001b[1mFinished epoch 2/2:\u001b[0m\n",
      "\u001b[32m2022-05-08 11:00:05.895\u001b[0m | \u001b[1mINFO    \u001b[0m | \u001b[36msrc.beam.experiment\u001b[0m:\u001b[36mlog_data\u001b[0m:\u001b[36m330\u001b[0m - \u001b[1mtrain:\u001b[0m\n",
      "\u001b[32m2022-05-08 11:00:05.896\u001b[0m | \u001b[1mINFO    \u001b[0m | \u001b[36msrc.beam.experiment\u001b[0m:\u001b[36mlog_data\u001b[0m:\u001b[36m334\u001b[0m - \u001b[1mloss 0.0885447 \t|\u001b[0m\n",
      "\u001b[32m2022-05-08 11:00:05.897\u001b[0m | \u001b[1mINFO    \u001b[0m | \u001b[36msrc.beam.experiment\u001b[0m:\u001b[36mlog_data\u001b[0m:\u001b[36m334\u001b[0m - \u001b[1macc 0.973128 \t|\u001b[0m\n",
      "\u001b[32m2022-05-08 11:00:05.898\u001b[0m | \u001b[1mINFO    \u001b[0m | \u001b[36msrc.beam.experiment\u001b[0m:\u001b[36mlog_data\u001b[0m:\u001b[36m334\u001b[0m - \u001b[1mlr 0.0009801 \t|\u001b[0m\n",
      "\u001b[32m2022-05-08 11:00:05.899\u001b[0m | \u001b[1mINFO    \u001b[0m | \u001b[36msrc.beam.experiment\u001b[0m:\u001b[36mlog_data\u001b[0m:\u001b[36m330\u001b[0m - \u001b[1mvalidation:\u001b[0m\n",
      "\u001b[32m2022-05-08 11:00:05.900\u001b[0m | \u001b[1mINFO    \u001b[0m | \u001b[36msrc.beam.experiment\u001b[0m:\u001b[36mlog_data\u001b[0m:\u001b[36m334\u001b[0m - \u001b[1mloss 0.0954773 \t|\u001b[0m\n",
      "\u001b[32m2022-05-08 11:00:05.900\u001b[0m | \u001b[1mINFO    \u001b[0m | \u001b[36msrc.beam.experiment\u001b[0m:\u001b[36mlog_data\u001b[0m:\u001b[36m334\u001b[0m - \u001b[1macc 0.971381 \t|\u001b[0m\n"
     ]
    }
   ],
   "source": [
    "alg = experiment(mnist_algorithm_generator, experiment)"
   ]
  },
  {
   "cell_type": "markdown",
   "id": "4a232d99",
   "metadata": {},
   "source": [
    "we can now access the trained algorithm"
   ]
  },
  {
   "cell_type": "code",
   "execution_count": 5,
   "id": "db7d6e6e",
   "metadata": {},
   "outputs": [
    {
     "data": {
      "text/plain": [
       "LinearNet(\n",
       "  (lin): Sequential(\n",
       "    (0): Linear(in_features=784, out_features=256, bias=True)\n",
       "    (1): ReLU()\n",
       "    (2): Linear(in_features=256, out_features=256, bias=True)\n",
       "    (3): ReLU()\n",
       "    (4): Linear(in_features=256, out_features=256, bias=True)\n",
       "    (5): ReLU()\n",
       "    (6): Linear(in_features=256, out_features=10, bias=True)\n",
       "  )\n",
       ")"
      ]
     },
     "execution_count": 5,
     "metadata": {},
     "output_type": "execute_result"
    }
   ],
   "source": [
    "alg.networks['net']"
   ]
  },
  {
   "cell_type": "markdown",
   "id": "01a60575",
   "metadata": {},
   "source": [
    "## Inference"
   ]
  },
  {
   "cell_type": "code",
   "execution_count": 6,
   "id": "96c6e643",
   "metadata": {},
   "outputs": [
    {
     "data": {
      "application/vnd.jupyter.widget-view+json": {
       "model_id": "3545f7833120484881612cdb3baf3ab3",
       "version_major": 2,
       "version_minor": 0
      },
      "text/plain": [
       "test:   0%|          | 0/39 [00:00<?, ?it/s]"
      ]
     },
     "metadata": {},
     "output_type": "display_data"
    },
    {
     "name": "stdout",
     "output_type": "stream",
     "text": [
      "Test inference results:\n",
      "precision:\n",
      "[0.97085427 0.98677249 0.97747307 0.96278159 0.97040816 0.95414847\n",
      " 0.98187633 0.9707887  0.96114519 0.97474747]\n",
      "recall:\n",
      "[0.98571429 0.98590308 0.96705426 0.97326733 0.96843177 0.97982063\n",
      " 0.96137787 0.96984436 0.9650924  0.95639247]\n",
      "fscore:\n",
      "[0.97822785 0.98633759 0.97223575 0.96799606 0.96941896 0.96681416\n",
      " 0.97151899 0.9703163  0.96311475 0.96548274]\n",
      "support:\n",
      "[ 980 1135 1032 1010  982  892  958 1028  974 1009]\n"
     ]
    }
   ],
   "source": [
    "inference = alg('test')\n",
    "\n",
    "print('Test inference results:')\n",
    "for n, v in inference['metrics'].items():\n",
    "    print(f'{n}:')\n",
    "    print(v)"
   ]
  },
  {
   "cell_type": "markdown",
   "id": "da56792b",
   "metadata": {},
   "source": [
    "we can also run our own experiment routine and obtain the results"
   ]
  },
  {
   "cell_type": "code",
   "execution_count": 7,
   "id": "9bc708d3",
   "metadata": {},
   "outputs": [
    {
     "name": "stdout",
     "output_type": "stream",
     "text": [
      "\u001b[32m2022-05-08 11:00:06.316\u001b[0m | \u001b[1mINFO    \u001b[0m | \u001b[36msrc.beam.experiment\u001b[0m:\u001b[36mrun\u001b[0m:\u001b[36m417\u001b[0m - \u001b[1mSingle worker mode\u001b[0m\n",
      "\u001b[32m2022-05-08 11:00:06.318\u001b[0m | \u001b[1mINFO    \u001b[0m | \u001b[36msrc.beam.experiment\u001b[0m:\u001b[36mrun_worker\u001b[0m:\u001b[36m40\u001b[0m - \u001b[1mWorker: 1/1 is running...\u001b[0m\n"
     ]
    },
    {
     "data": {
      "application/vnd.jupyter.widget-view+json": {
       "model_id": "4e1066d18e0f422a9bded233b6eb11a5",
       "version_major": 2,
       "version_minor": 0
      },
      "text/plain": [
       "train:   0%|          | 0/389 [00:00<?, ?it/s]"
      ]
     },
     "metadata": {},
     "output_type": "display_data"
    },
    {
     "data": {
      "application/vnd.jupyter.widget-view+json": {
       "model_id": "165eb97a775e47bba255af05d64a3236",
       "version_major": 2,
       "version_minor": 0
      },
      "text/plain": [
       "validation:   0%|          | 0/389 [00:00<?, ?it/s]"
      ]
     },
     "metadata": {},
     "output_type": "display_data"
    },
    {
     "name": "stdout",
     "output_type": "stream",
     "text": [
      "\n",
      "\u001b[32m2022-05-08 11:00:08.134\u001b[0m | \u001b[1mINFO    \u001b[0m | \u001b[36msrc.beam.experiment\u001b[0m:\u001b[36msave_model_results\u001b[0m:\u001b[36m291\u001b[0m - \u001b[1mFinished epoch 3/2:\u001b[0m\n",
      "\u001b[32m2022-05-08 11:00:08.137\u001b[0m | \u001b[1mINFO    \u001b[0m | \u001b[36msrc.beam.experiment\u001b[0m:\u001b[36mlog_data\u001b[0m:\u001b[36m330\u001b[0m - \u001b[1mtrain:\u001b[0m\n",
      "\u001b[32m2022-05-08 11:00:08.138\u001b[0m | \u001b[1mINFO    \u001b[0m | \u001b[36msrc.beam.experiment\u001b[0m:\u001b[36mlog_data\u001b[0m:\u001b[36m334\u001b[0m - \u001b[1mloss 0.338252 \t|\u001b[0m\n",
      "\u001b[32m2022-05-08 11:00:08.139\u001b[0m | \u001b[1mINFO    \u001b[0m | \u001b[36msrc.beam.experiment\u001b[0m:\u001b[36mlog_data\u001b[0m:\u001b[36m334\u001b[0m - \u001b[1macc 0.905668 \t|\u001b[0m\n",
      "\u001b[32m2022-05-08 11:00:08.139\u001b[0m | \u001b[1mINFO    \u001b[0m | \u001b[36msrc.beam.experiment\u001b[0m:\u001b[36mlog_data\u001b[0m:\u001b[36m334\u001b[0m - \u001b[1mlr 0.00099 \t|\u001b[0m\n",
      "\u001b[32m2022-05-08 11:00:08.140\u001b[0m | \u001b[1mINFO    \u001b[0m | \u001b[36msrc.beam.experiment\u001b[0m:\u001b[36mlog_data\u001b[0m:\u001b[36m330\u001b[0m - \u001b[1mvalidation:\u001b[0m\n",
      "\u001b[32m2022-05-08 11:00:08.140\u001b[0m | \u001b[1mINFO    \u001b[0m | \u001b[36msrc.beam.experiment\u001b[0m:\u001b[36mlog_data\u001b[0m:\u001b[36m334\u001b[0m - \u001b[1mloss 0.147575 \t|\u001b[0m\n",
      "\u001b[32m2022-05-08 11:00:08.141\u001b[0m | \u001b[1mINFO    \u001b[0m | \u001b[36msrc.beam.experiment\u001b[0m:\u001b[36mlog_data\u001b[0m:\u001b[36m334\u001b[0m - \u001b[1macc 0.954973 \t|\u001b[0m\n"
     ]
    },
    {
     "data": {
      "application/vnd.jupyter.widget-view+json": {
       "model_id": "ebc30fee3c884f9ab83c40b0b05c34b6",
       "version_major": 2,
       "version_minor": 0
      },
      "text/plain": [
       "train:   0%|          | 0/389 [00:00<?, ?it/s]"
      ]
     },
     "metadata": {},
     "output_type": "display_data"
    },
    {
     "data": {
      "application/vnd.jupyter.widget-view+json": {
       "model_id": "cf581ee90039419f8a6936a155604ad1",
       "version_major": 2,
       "version_minor": 0
      },
      "text/plain": [
       "validation:   0%|          | 0/389 [00:00<?, ?it/s]"
      ]
     },
     "metadata": {},
     "output_type": "display_data"
    },
    {
     "name": "stdout",
     "output_type": "stream",
     "text": [
      "\n",
      "\u001b[32m2022-05-08 11:00:10.019\u001b[0m | \u001b[1mINFO    \u001b[0m | \u001b[36msrc.beam.experiment\u001b[0m:\u001b[36msave_model_results\u001b[0m:\u001b[36m291\u001b[0m - \u001b[1mFinished epoch 4/2:\u001b[0m\n",
      "\u001b[32m2022-05-08 11:00:10.026\u001b[0m | \u001b[1mINFO    \u001b[0m | \u001b[36msrc.beam.experiment\u001b[0m:\u001b[36mlog_data\u001b[0m:\u001b[36m330\u001b[0m - \u001b[1mtrain:\u001b[0m\n",
      "\u001b[32m2022-05-08 11:00:10.027\u001b[0m | \u001b[1mINFO    \u001b[0m | \u001b[36msrc.beam.experiment\u001b[0m:\u001b[36mlog_data\u001b[0m:\u001b[36m334\u001b[0m - \u001b[1mloss 0.0864915 \t|\u001b[0m\n",
      "\u001b[32m2022-05-08 11:00:10.027\u001b[0m | \u001b[1mINFO    \u001b[0m | \u001b[36msrc.beam.experiment\u001b[0m:\u001b[36mlog_data\u001b[0m:\u001b[36m334\u001b[0m - \u001b[1macc 0.973962 \t|\u001b[0m\n",
      "\u001b[32m2022-05-08 11:00:10.028\u001b[0m | \u001b[1mINFO    \u001b[0m | \u001b[36msrc.beam.experiment\u001b[0m:\u001b[36mlog_data\u001b[0m:\u001b[36m334\u001b[0m - \u001b[1mlr 0.0009801 \t|\u001b[0m\n",
      "\u001b[32m2022-05-08 11:00:10.028\u001b[0m | \u001b[1mINFO    \u001b[0m | \u001b[36msrc.beam.experiment\u001b[0m:\u001b[36mlog_data\u001b[0m:\u001b[36m330\u001b[0m - \u001b[1mvalidation:\u001b[0m\n",
      "\u001b[32m2022-05-08 11:00:10.029\u001b[0m | \u001b[1mINFO    \u001b[0m | \u001b[36msrc.beam.experiment\u001b[0m:\u001b[36mlog_data\u001b[0m:\u001b[36m334\u001b[0m - \u001b[1mloss 0.101176 \t|\u001b[0m\n",
      "\u001b[32m2022-05-08 11:00:10.030\u001b[0m | \u001b[1mINFO    \u001b[0m | \u001b[36msrc.beam.experiment\u001b[0m:\u001b[36mlog_data\u001b[0m:\u001b[36m334\u001b[0m - \u001b[1macc 0.968419 \t|\u001b[0m\n"
     ]
    }
   ],
   "source": [
    "alg, results = experiment.run(run_mnist)"
   ]
  },
  {
   "cell_type": "code",
   "execution_count": 8,
   "id": "9dc7274c",
   "metadata": {},
   "outputs": [
    {
     "data": {
      "text/plain": [
       "[0.15844836831092834,\n",
       " 0.0894060730934143,\n",
       " 0.07808587700128555,\n",
       " 0.08715943992137909,\n",
       " 0.19193102419376373,\n",
       " 0.1076071634888649,\n",
       " 0.07562798261642456,\n",
       " 0.09282419830560684,\n",
       " 0.12268974632024765,\n",
       " 0.12891240417957306,\n",
       " 0.1535983830690384,\n",
       " 0.10704080760478973,\n",
       " 0.07671689242124557,\n",
       " 0.10214642435312271,\n",
       " 0.2137703150510788,\n",
       " 0.0781518742442131,\n",
       " 0.10518572479486465,\n",
       " 0.13672630488872528,\n",
       " 0.09374455362558365,\n",
       " 0.10820126533508301,\n",
       " 0.08609598875045776,\n",
       " 0.05154235661029816,\n",
       " 0.08499065041542053,\n",
       " 0.07336609065532684,\n",
       " 0.054493051022291183,\n",
       " 0.05346296727657318,\n",
       " 0.0949094370007515,\n",
       " 0.10131993889808655,\n",
       " 0.1779078245162964,\n",
       " 0.1125800609588623,\n",
       " 0.10923656821250916,\n",
       " 0.061509281396865845,\n",
       " 0.10921038687229156,\n",
       " 0.12424713373184204,\n",
       " 0.0808035358786583,\n",
       " 0.12425591051578522,\n",
       " 0.10601877421140671,\n",
       " 0.06873971968889236,\n",
       " 0.08330176025629044,\n",
       " 0.08505051583051682,\n",
       " 0.07699783146381378,\n",
       " 0.10617578029632568,\n",
       " 0.06872368603944778,\n",
       " 0.11869192123413086,\n",
       " 0.03573107346892357,\n",
       " 0.15712310373783112,\n",
       " 0.1313885897397995,\n",
       " 0.1241515651345253,\n",
       " 0.05532508343458176,\n",
       " 0.09266285598278046,\n",
       " 0.07560540735721588,\n",
       " 0.12483326345682144,\n",
       " 0.09114839881658554,\n",
       " 0.06686842441558838,\n",
       " 0.08428676426410675,\n",
       " 0.08380911499261856,\n",
       " 0.09954586625099182,\n",
       " 0.07156416773796082,\n",
       " 0.2128129005432129,\n",
       " 0.12630201876163483,\n",
       " 0.10024119168519974,\n",
       " 0.09824761748313904,\n",
       " 0.12383702397346497,\n",
       " 0.1293584555387497,\n",
       " 0.14199699461460114,\n",
       " 0.09634463489055634,\n",
       " 0.0808628648519516,\n",
       " 0.1453014463186264,\n",
       " 0.10153372585773468,\n",
       " 0.08596309274435043,\n",
       " 0.08122563362121582,\n",
       " 0.09626725316047668,\n",
       " 0.14044539630413055,\n",
       " 0.06095120683312416,\n",
       " 0.0698675885796547,\n",
       " 0.059417881071567535,\n",
       " 0.05272308737039566,\n",
       " 0.0836721882224083,\n",
       " 0.09272708743810654,\n",
       " 0.1565137505531311,\n",
       " 0.0528239905834198,\n",
       " 0.05405663698911667,\n",
       " 0.08551628887653351,\n",
       " 0.18993861973285675,\n",
       " 0.11564447730779648,\n",
       " 0.14951784908771515,\n",
       " 0.15561550855636597,\n",
       " 0.103266142308712,\n",
       " 0.13458997011184692,\n",
       " 0.1221698597073555,\n",
       " 0.0955403745174408,\n",
       " 0.08177906274795532,\n",
       " 0.07873012125492096,\n",
       " 0.06876056641340256,\n",
       " 0.07626538723707199,\n",
       " 0.05140767619013786,\n",
       " 0.1183277815580368,\n",
       " 0.14472883939743042,\n",
       " 0.10627982020378113,\n",
       " 0.06332865357398987,\n",
       " 0.08373478055000305,\n",
       " 0.09305950999259949,\n",
       " 0.055539052933454514,\n",
       " 0.09603855013847351,\n",
       " 0.08442925661802292,\n",
       " 0.08976360410451889,\n",
       " 0.08959610015153885,\n",
       " 0.12395315617322922,\n",
       " 0.13742247223854065,\n",
       " 0.1320376843214035,\n",
       " 0.1335306018590927,\n",
       " 0.08363211154937744,\n",
       " 0.09065638482570648,\n",
       " 0.10052180290222168,\n",
       " 0.1169464960694313,\n",
       " 0.11235244572162628,\n",
       " 0.1322411596775055,\n",
       " 0.06934645771980286,\n",
       " 0.08860320597887039,\n",
       " 0.08116944134235382,\n",
       " 0.07477162778377533,\n",
       " 0.12428874522447586,\n",
       " 0.1358249932527542,\n",
       " 0.1216977909207344,\n",
       " 0.13415749371051788,\n",
       " 0.10287285596132278,\n",
       " 0.1671033799648285,\n",
       " 0.07354756444692612,\n",
       " 0.05186326056718826,\n",
       " 0.035971567034721375,\n",
       " 0.054153744131326675,\n",
       " 0.12263950705528259,\n",
       " 0.11636890470981598,\n",
       " 0.12233305722475052,\n",
       " 0.08360395580530167,\n",
       " 0.0452662892639637,\n",
       " 0.18394342064857483,\n",
       " 0.060649722814559937,\n",
       " 0.11910263448953629,\n",
       " 0.09969687461853027,\n",
       " 0.14084793627262115,\n",
       " 0.1127157211303711,\n",
       " 0.04137330874800682,\n",
       " 0.11394171416759491,\n",
       " 0.08484113216400146,\n",
       " 0.08899404853582382,\n",
       " 0.11110109835863113,\n",
       " 0.07431673258543015,\n",
       " 0.14692798256874084,\n",
       " 0.14313727617263794,\n",
       " 0.10005033016204834,\n",
       " 0.0777290016412735,\n",
       " 0.1814996302127838,\n",
       " 0.13483920693397522,\n",
       " 0.13833287358283997,\n",
       " 0.0802106186747551,\n",
       " 0.08875196427106857,\n",
       " 0.08015314489603043,\n",
       " 0.07729389518499374,\n",
       " 0.08822916448116302,\n",
       " 0.09230578690767288,\n",
       " 0.05598355457186699,\n",
       " 0.05994851142168045,\n",
       " 0.05215808004140854,\n",
       " 0.1623423546552658,\n",
       " 0.10237538814544678,\n",
       " 0.049397051334381104,\n",
       " 0.2258864939212799,\n",
       " 0.0814388170838356,\n",
       " 0.15520986914634705,\n",
       " 0.09111187607049942,\n",
       " 0.04482327774167061,\n",
       " 0.10044608265161514,\n",
       " 0.1152370348572731,\n",
       " 0.04992549493908882,\n",
       " 0.15731088817119598,\n",
       " 0.09367457777261734,\n",
       " 0.1062345802783966,\n",
       " 0.14914990961551666,\n",
       " 0.06015556678175926,\n",
       " 0.06668511778116226,\n",
       " 0.09363667666912079,\n",
       " 0.11248447000980377,\n",
       " 0.09075310826301575,\n",
       " 0.071400947868824,\n",
       " 0.07674839347600937,\n",
       " 0.104847751557827,\n",
       " 0.10419193655252457,\n",
       " 0.12160153687000275,\n",
       " 0.12071813642978668,\n",
       " 0.09158940613269806,\n",
       " 0.1150672435760498,\n",
       " 0.12908054888248444,\n",
       " 0.12295900285243988,\n",
       " 0.15172235667705536,\n",
       " 0.02945897914469242,\n",
       " 0.10054103285074234,\n",
       " 0.20039553940296173,\n",
       " 0.12137007713317871,\n",
       " 0.06362486630678177,\n",
       " 0.08037607371807098,\n",
       " 0.14800989627838135,\n",
       " 0.11131907254457474,\n",
       " 0.1468823105096817,\n",
       " 0.0974179059267044,\n",
       " 0.11904904246330261,\n",
       " 0.12670932710170746,\n",
       " 0.048635195940732956,\n",
       " 0.09933052211999893,\n",
       " 0.07211010903120041,\n",
       " 0.08586036413908005,\n",
       " 0.08298740535974503,\n",
       " 0.06786502152681351,\n",
       " 0.06173073127865791,\n",
       " 0.12086724489927292,\n",
       " 0.10065726935863495,\n",
       " 0.07124538719654083,\n",
       " 0.09898678213357925,\n",
       " 0.07782397419214249,\n",
       " 0.059054963290691376,\n",
       " 0.21999964118003845,\n",
       " 0.08317505568265915,\n",
       " 0.08768637478351593,\n",
       " 0.06273303925991058,\n",
       " 0.04960178956389427,\n",
       " 0.13578008115291595,\n",
       " 0.0529002845287323,\n",
       " 0.09607052803039551,\n",
       " 0.06770484149456024,\n",
       " 0.1095738485455513,\n",
       " 0.14860299229621887,\n",
       " 0.03599337860941887,\n",
       " 0.1351505070924759,\n",
       " 0.07384971529245377,\n",
       " 0.08043380826711655,\n",
       " 0.0687088593840599,\n",
       " 0.08905359357595444,\n",
       " 0.11300517618656158,\n",
       " 0.09578131139278412,\n",
       " 0.13196593523025513,\n",
       " 0.08613618463277817,\n",
       " 0.09762414544820786,\n",
       " 0.09233011305332184,\n",
       " 0.028874756768345833,\n",
       " 0.07220833748579025,\n",
       " 0.18059788644313812,\n",
       " 0.07320109754800797,\n",
       " 0.13797380030155182,\n",
       " 0.11639503389596939,\n",
       " 0.05450376495718956,\n",
       " 0.10331908613443375,\n",
       " 0.1923740804195404,\n",
       " 0.11208108812570572,\n",
       " 0.09846747666597366,\n",
       " 0.05677083507180214,\n",
       " 0.08122927695512772,\n",
       " 0.12713606655597687,\n",
       " 0.07561782747507095,\n",
       " 0.06936537474393845,\n",
       " 0.1100635975599289,\n",
       " 0.06973380595445633,\n",
       " 0.12885624170303345,\n",
       " 0.1700969785451889,\n",
       " 0.10699369758367538,\n",
       " 0.13457532227039337,\n",
       " 0.148433655500412,\n",
       " 0.09574013948440552,\n",
       " 0.12759481370449066,\n",
       " 0.13703496754169464,\n",
       " 0.0836726501584053,\n",
       " 0.06731178611516953,\n",
       " 0.12738198041915894,\n",
       " 0.10610571503639221,\n",
       " 0.07180283218622208,\n",
       " 0.07429836690425873,\n",
       " 0.1357475221157074,\n",
       " 0.06022220104932785,\n",
       " 0.10802200436592102,\n",
       " 0.09488235414028168,\n",
       " 0.07398728281259537,\n",
       " 0.09764014929533005,\n",
       " 0.11093024909496307,\n",
       " 0.09592778235673904,\n",
       " 0.12667202949523926,\n",
       " 0.07735443115234375,\n",
       " 0.11652716249227524,\n",
       " 0.12459483742713928,\n",
       " 0.05670256167650223,\n",
       " 0.07961727678775787,\n",
       " 0.054844893515110016,\n",
       " 0.1800014078617096,\n",
       " 0.11795715987682343,\n",
       " 0.09136435389518738,\n",
       " 0.09714072197675705,\n",
       " 0.17070147395133972,\n",
       " 0.15525320172309875,\n",
       " 0.07115896046161652,\n",
       " 0.133720263838768,\n",
       " 0.12288382649421692,\n",
       " 0.10657503455877304,\n",
       " 0.08157649636268616,\n",
       " 0.1017676293849945,\n",
       " 0.08269071578979492,\n",
       " 0.05444813519716263,\n",
       " 0.1037214919924736,\n",
       " 0.09287482500076294,\n",
       " 0.07201763987541199,\n",
       " 0.09101910889148712,\n",
       " 0.0860995277762413,\n",
       " 0.08633572608232498,\n",
       " 0.07938577979803085,\n",
       " 0.0789240300655365,\n",
       " 0.16567978262901306,\n",
       " 0.13042640686035156,\n",
       " 0.08841635286808014,\n",
       " 0.08636200428009033,\n",
       " 0.10877962410449982,\n",
       " 0.09234815835952759,\n",
       " 0.12189161777496338,\n",
       " 0.16833841800689697,\n",
       " 0.145746111869812,\n",
       " 0.05361635982990265,\n",
       " 0.1253620833158493,\n",
       " 0.06709800660610199,\n",
       " 0.07934382557868958,\n",
       " 0.0549849234521389,\n",
       " 0.08377939462661743,\n",
       " 0.13866664469242096,\n",
       " 0.10763544589281082,\n",
       " 0.08661530911922455,\n",
       " 0.05102396756410599,\n",
       " 0.12254766374826431,\n",
       " 0.06130555272102356,\n",
       " 0.11402131617069244,\n",
       " 0.11825486272573471,\n",
       " 0.13685347139835358,\n",
       " 0.10220623016357422,\n",
       " 0.1351531445980072,\n",
       " 0.11491917818784714,\n",
       " 0.14407259225845337,\n",
       " 0.07528196275234222,\n",
       " 0.06541471183300018,\n",
       " 0.13287858664989471,\n",
       " 0.11431632936000824,\n",
       " 0.14262399077415466,\n",
       " 0.04016057774424553,\n",
       " 0.07388037443161011,\n",
       " 0.11522285640239716,\n",
       " 0.058917731046676636,\n",
       " 0.07438480854034424,\n",
       " 0.10546199977397919,\n",
       " 0.1679278165102005,\n",
       " 0.0879085436463356,\n",
       " 0.08051474392414093,\n",
       " 0.05388946831226349,\n",
       " 0.16914376616477966,\n",
       " 0.08443266153335571,\n",
       " 0.14865955710411072,\n",
       " 0.10219553858041763,\n",
       " 0.08679882436990738,\n",
       " 0.11282279342412949,\n",
       " 0.11629526317119598,\n",
       " 0.10347138345241547,\n",
       " 0.09046093374490738,\n",
       " 0.09272562712430954,\n",
       " 0.062137581408023834,\n",
       " 0.09709335118532181,\n",
       " 0.07380393892526627,\n",
       " 0.08320004492998123,\n",
       " 0.06028604879975319,\n",
       " 0.09878099709749222,\n",
       " 0.07224578410387039,\n",
       " 0.07890485227108002,\n",
       " 0.0784558653831482,\n",
       " 0.12536826729774475,\n",
       " 0.1471775323152542,\n",
       " 0.15726013481616974,\n",
       " 0.1226293221116066,\n",
       " 0.0988384261727333,\n",
       " 0.030037805438041687,\n",
       " 0.15374255180358887,\n",
       " 0.06618773937225342,\n",
       " 0.09471439570188522,\n",
       " 0.14902767539024353,\n",
       " 0.1339796483516693,\n",
       " 0.10662473738193512,\n",
       " 0.06008370965719223,\n",
       " 0.02663847804069519,\n",
       " 0.15274374186992645]"
      ]
     },
     "execution_count": 8,
     "metadata": {},
     "output_type": "execute_result"
    }
   ],
   "source": [
    "results['validation']['scalar']['loss']"
   ]
  },
  {
   "cell_type": "markdown",
   "id": "40aa198f",
   "metadata": {},
   "source": [
    "## Inference"
   ]
  },
  {
   "cell_type": "code",
   "execution_count": 9,
   "id": "d4dcd670",
   "metadata": {},
   "outputs": [
    {
     "data": {
      "application/vnd.jupyter.widget-view+json": {
       "model_id": "0e7c1b36ac754a858b45962d8e486bad",
       "version_major": 2,
       "version_minor": 0
      },
      "text/plain": [
       "test:   0%|          | 0/39 [00:00<?, ?it/s]"
      ]
     },
     "metadata": {},
     "output_type": "display_data"
    },
    {
     "name": "stdout",
     "output_type": "stream",
     "text": [
      "Test inference results:\n",
      "precision:\n",
      "[0.98466258 0.9885159  0.96003806 0.93175355 0.96385542 0.97362385\n",
      " 0.97288843 0.9581749  0.97746781 0.98252826]\n",
      "recall:\n",
      "[0.98265306 0.98590308 0.97771318 0.97326733 0.97759674 0.95179372\n",
      " 0.97390397 0.98054475 0.93531828 0.94747275]\n",
      "fscore:\n",
      "[0.98365679 0.98720776 0.96879501 0.95205811 0.97067745 0.96258503\n",
      " 0.97339593 0.96923077 0.95592865 0.96468214]\n",
      "support:\n",
      "[ 980 1135 1032 1010  982  892  958 1028  974 1009]\n"
     ]
    }
   ],
   "source": [
    "inference = alg('test')\n",
    "\n",
    "print('Test inference results:')\n",
    "for n, v in inference['metrics'].items():\n",
    "    print(f'{n}:')\n",
    "    print(v)"
   ]
  },
  {
   "cell_type": "markdown",
   "id": "598685c2",
   "metadata": {},
   "source": [
    "## Reload algorithm and resume training"
   ]
  },
  {
   "cell_type": "code",
   "execution_count": 10,
   "id": "1b5fab00",
   "metadata": {},
   "outputs": [
    {
     "name": "stdout",
     "output_type": "stream",
     "text": [
      "\u001b[32m2022-05-08 11:00:10.463\u001b[0m | \u001b[1mINFO    \u001b[0m | \u001b[36msrc.beam.experiment\u001b[0m:\u001b[36m__init__\u001b[0m:\u001b[36m89\u001b[0m - \u001b[1mbeam project: mnist\u001b[0m\n",
      "\u001b[32m2022-05-08 11:00:10.464\u001b[0m | \u001b[1mINFO    \u001b[0m | \u001b[36msrc.beam.experiment\u001b[0m:\u001b[36m__init__\u001b[0m:\u001b[36m90\u001b[0m - \u001b[1mSimulation Hyperparameters\u001b[0m\n",
      "\u001b[32m2022-05-08 11:00:10.464\u001b[0m | \u001b[1mINFO    \u001b[0m | \u001b[36msrc.beam.experiment\u001b[0m:\u001b[36m__init__\u001b[0m:\u001b[36m94\u001b[0m - \u001b[1mproject_name: mnist\u001b[0m\n",
      "\u001b[32m2022-05-08 11:00:10.465\u001b[0m | \u001b[1mINFO    \u001b[0m | \u001b[36msrc.beam.experiment\u001b[0m:\u001b[36m__init__\u001b[0m:\u001b[36m94\u001b[0m - \u001b[1midentifier: debug\u001b[0m\n",
      "\u001b[32m2022-05-08 11:00:10.466\u001b[0m | \u001b[1mINFO    \u001b[0m | \u001b[36msrc.beam.experiment\u001b[0m:\u001b[36m__init__\u001b[0m:\u001b[36m94\u001b[0m - \u001b[1malgorithm: MNISTAlgorithm\u001b[0m\n",
      "\u001b[32m2022-05-08 11:00:10.466\u001b[0m | \u001b[1mINFO    \u001b[0m | \u001b[36msrc.beam.experiment\u001b[0m:\u001b[36m__init__\u001b[0m:\u001b[36m94\u001b[0m - \u001b[1mmp_port: None\u001b[0m\n",
      "\u001b[32m2022-05-08 11:00:10.467\u001b[0m | \u001b[1mINFO    \u001b[0m | \u001b[36msrc.beam.experiment\u001b[0m:\u001b[36m__init__\u001b[0m:\u001b[36m94\u001b[0m - \u001b[1mroot_dir: /home/shared/data/results\u001b[0m\n",
      "\u001b[32m2022-05-08 11:00:10.467\u001b[0m | \u001b[1mINFO    \u001b[0m | \u001b[36msrc.beam.experiment\u001b[0m:\u001b[36m__init__\u001b[0m:\u001b[36m94\u001b[0m - \u001b[1mreload: True\u001b[0m\n",
      "\u001b[32m2022-05-08 11:00:10.468\u001b[0m | \u001b[1mINFO    \u001b[0m | \u001b[36msrc.beam.experiment\u001b[0m:\u001b[36m__init__\u001b[0m:\u001b[36m94\u001b[0m - \u001b[1mresume: -1\u001b[0m\n",
      "\u001b[32m2022-05-08 11:00:10.468\u001b[0m | \u001b[1mINFO    \u001b[0m | \u001b[36msrc.beam.experiment\u001b[0m:\u001b[36m__init__\u001b[0m:\u001b[36m94\u001b[0m - \u001b[1moverride: True\u001b[0m\n",
      "\u001b[32m2022-05-08 11:00:10.468\u001b[0m | \u001b[1mINFO    \u001b[0m | \u001b[36msrc.beam.experiment\u001b[0m:\u001b[36m__init__\u001b[0m:\u001b[36m94\u001b[0m - \u001b[1mcpu_workers: 0\u001b[0m\n",
      "\u001b[32m2022-05-08 11:00:10.470\u001b[0m | \u001b[1mINFO    \u001b[0m | \u001b[36msrc.beam.experiment\u001b[0m:\u001b[36m__init__\u001b[0m:\u001b[36m94\u001b[0m - \u001b[1mdevice: 0\u001b[0m\n",
      "\u001b[32m2022-05-08 11:00:10.470\u001b[0m | \u001b[1mINFO    \u001b[0m | \u001b[36msrc.beam.experiment\u001b[0m:\u001b[36m__init__\u001b[0m:\u001b[36m94\u001b[0m - \u001b[1mparallel: 1\u001b[0m\n",
      "\u001b[32m2022-05-08 11:00:10.471\u001b[0m | \u001b[1mINFO    \u001b[0m | \u001b[36msrc.beam.experiment\u001b[0m:\u001b[36m__init__\u001b[0m:\u001b[36m94\u001b[0m - \u001b[1mtensorboard: True\u001b[0m\n",
      "\u001b[32m2022-05-08 11:00:10.471\u001b[0m | \u001b[1mINFO    \u001b[0m | \u001b[36msrc.beam.experiment\u001b[0m:\u001b[36m__init__\u001b[0m:\u001b[36m94\u001b[0m - \u001b[1mlognet: True\u001b[0m\n",
      "\u001b[32m2022-05-08 11:00:10.471\u001b[0m | \u001b[1mINFO    \u001b[0m | \u001b[36msrc.beam.experiment\u001b[0m:\u001b[36m__init__\u001b[0m:\u001b[36m94\u001b[0m - \u001b[1mdeterministic: False\u001b[0m\n",
      "\u001b[32m2022-05-08 11:00:10.472\u001b[0m | \u001b[1mINFO    \u001b[0m | \u001b[36msrc.beam.experiment\u001b[0m:\u001b[36m__init__\u001b[0m:\u001b[36m94\u001b[0m - \u001b[1mscale_epoch_by_batch_size: True\u001b[0m\n",
      "\u001b[32m2022-05-08 11:00:10.472\u001b[0m | \u001b[1mINFO    \u001b[0m | \u001b[36msrc.beam.experiment\u001b[0m:\u001b[36m__init__\u001b[0m:\u001b[36m94\u001b[0m - \u001b[1minit: ortho\u001b[0m\n",
      "\u001b[32m2022-05-08 11:00:10.473\u001b[0m | \u001b[1mINFO    \u001b[0m | \u001b[36msrc.beam.experiment\u001b[0m:\u001b[36m__init__\u001b[0m:\u001b[36m94\u001b[0m - \u001b[1mseed: 0\u001b[0m\n",
      "\u001b[32m2022-05-08 11:00:10.473\u001b[0m | \u001b[1mINFO    \u001b[0m | \u001b[36msrc.beam.experiment\u001b[0m:\u001b[36m__init__\u001b[0m:\u001b[36m94\u001b[0m - \u001b[1mtotal_steps: 1000000\u001b[0m\n",
      "\u001b[32m2022-05-08 11:00:10.473\u001b[0m | \u001b[1mINFO    \u001b[0m | \u001b[36msrc.beam.experiment\u001b[0m:\u001b[36m__init__\u001b[0m:\u001b[36m94\u001b[0m - \u001b[1mepoch_length: 100000\u001b[0m\n",
      "\u001b[32m2022-05-08 11:00:10.474\u001b[0m | \u001b[1mINFO    \u001b[0m | \u001b[36msrc.beam.experiment\u001b[0m:\u001b[36m__init__\u001b[0m:\u001b[36m94\u001b[0m - \u001b[1mepoch_length_train: None\u001b[0m\n",
      "\u001b[32m2022-05-08 11:00:10.474\u001b[0m | \u001b[1mINFO    \u001b[0m | \u001b[36msrc.beam.experiment\u001b[0m:\u001b[36m__init__\u001b[0m:\u001b[36m94\u001b[0m - \u001b[1mepoch_length_eval: None\u001b[0m\n",
      "\u001b[32m2022-05-08 11:00:10.475\u001b[0m | \u001b[1mINFO    \u001b[0m | \u001b[36msrc.beam.experiment\u001b[0m:\u001b[36m__init__\u001b[0m:\u001b[36m94\u001b[0m - \u001b[1mn_epochs: 2\u001b[0m\n",
      "\u001b[32m2022-05-08 11:00:10.475\u001b[0m | \u001b[1mINFO    \u001b[0m | \u001b[36msrc.beam.experiment\u001b[0m:\u001b[36m__init__\u001b[0m:\u001b[36m94\u001b[0m - \u001b[1mbatch_size: 256\u001b[0m\n",
      "\u001b[32m2022-05-08 11:00:10.476\u001b[0m | \u001b[1mINFO    \u001b[0m | \u001b[36msrc.beam.experiment\u001b[0m:\u001b[36m__init__\u001b[0m:\u001b[36m94\u001b[0m - \u001b[1mbatch_size_train: None\u001b[0m\n",
      "\u001b[32m2022-05-08 11:00:10.476\u001b[0m | \u001b[1mINFO    \u001b[0m | \u001b[36msrc.beam.experiment\u001b[0m:\u001b[36m__init__\u001b[0m:\u001b[36m94\u001b[0m - \u001b[1mbatch_size_eval: None\u001b[0m\n",
      "\u001b[32m2022-05-08 11:00:10.476\u001b[0m | \u001b[1mINFO    \u001b[0m | \u001b[36msrc.beam.experiment\u001b[0m:\u001b[36m__init__\u001b[0m:\u001b[36m94\u001b[0m - \u001b[1mlr_d: 0.001\u001b[0m\n",
      "\u001b[32m2022-05-08 11:00:10.477\u001b[0m | \u001b[1mINFO    \u001b[0m | \u001b[36msrc.beam.experiment\u001b[0m:\u001b[36m__init__\u001b[0m:\u001b[36m94\u001b[0m - \u001b[1mlr_s: 0.01\u001b[0m\n",
      "\u001b[32m2022-05-08 11:00:10.477\u001b[0m | \u001b[1mINFO    \u001b[0m | \u001b[36msrc.beam.experiment\u001b[0m:\u001b[36m__init__\u001b[0m:\u001b[36m94\u001b[0m - \u001b[1mweight_decay: 0.0\u001b[0m\n",
      "\u001b[32m2022-05-08 11:00:10.478\u001b[0m | \u001b[1mINFO    \u001b[0m | \u001b[36msrc.beam.experiment\u001b[0m:\u001b[36m__init__\u001b[0m:\u001b[36m94\u001b[0m - \u001b[1meps: 0.0001\u001b[0m\n",
      "\u001b[32m2022-05-08 11:00:10.478\u001b[0m | \u001b[1mINFO    \u001b[0m | \u001b[36msrc.beam.experiment\u001b[0m:\u001b[36m__init__\u001b[0m:\u001b[36m94\u001b[0m - \u001b[1mclip: 1.0\u001b[0m\n",
      "\u001b[32m2022-05-08 11:00:10.479\u001b[0m | \u001b[1mINFO    \u001b[0m | \u001b[36msrc.beam.experiment\u001b[0m:\u001b[36m__init__\u001b[0m:\u001b[36m94\u001b[0m - \u001b[1mprint_results: True\u001b[0m\n",
      "\u001b[32m2022-05-08 11:00:10.479\u001b[0m | \u001b[1mINFO    \u001b[0m | \u001b[36msrc.beam.experiment\u001b[0m:\u001b[36m__init__\u001b[0m:\u001b[36m94\u001b[0m - \u001b[1mvisualize_weights: True\u001b[0m\n",
      "\u001b[32m2022-05-08 11:00:10.480\u001b[0m | \u001b[1mINFO    \u001b[0m | \u001b[36msrc.beam.experiment\u001b[0m:\u001b[36m__init__\u001b[0m:\u001b[36m94\u001b[0m - \u001b[1mvisualize_results: yes\u001b[0m\n",
      "\u001b[32m2022-05-08 11:00:10.480\u001b[0m | \u001b[1mINFO    \u001b[0m | \u001b[36msrc.beam.experiment\u001b[0m:\u001b[36m__init__\u001b[0m:\u001b[36m94\u001b[0m - \u001b[1mstore_results: logscale\u001b[0m\n",
      "\u001b[32m2022-05-08 11:00:10.480\u001b[0m | \u001b[1mINFO    \u001b[0m | \u001b[36msrc.beam.experiment\u001b[0m:\u001b[36m__init__\u001b[0m:\u001b[36m94\u001b[0m - \u001b[1mstore_networks: logscale\u001b[0m\n",
      "\u001b[32m2022-05-08 11:00:10.481\u001b[0m | \u001b[1mINFO    \u001b[0m | \u001b[36msrc.beam.experiment\u001b[0m:\u001b[36m__init__\u001b[0m:\u001b[36m94\u001b[0m - \u001b[1mpath_to_data: /home/elad/projects/mnist\u001b[0m\n",
      "\u001b[32m2022-05-08 11:00:10.484\u001b[0m | \u001b[1mINFO    \u001b[0m | \u001b[36msrc.beam.experiment\u001b[0m:\u001b[36m__init__\u001b[0m:\u001b[36m159\u001b[0m - \u001b[1mResuming existing experiment\u001b[0m\n"
     ]
    }
   ],
   "source": [
    "# here you put all actions which are performed only once before initializing the workers\n",
    "# for example, setting running arguments and experiment:\n",
    "\n",
    "args = beam_arguments(\"--project-name=mnist --root-dir=/home/shared/data/results --algorithm=MNISTAlgorithm\",\n",
    "                      \"--epoch-length=100000 --n-epochs=2 --clip=1 --parallel=1 --reload\", \n",
    "                      path_to_data='/home/elad/projects/mnist')\n",
    "\n",
    "experiment = Experiment(args)"
   ]
  },
  {
   "cell_type": "code",
   "execution_count": 11,
   "id": "2d0f02c5",
   "metadata": {},
   "outputs": [
    {
     "name": "stdout",
     "output_type": "stream",
     "text": [
      "\u001b[32m2022-05-08 11:00:10.525\u001b[0m | \u001b[1mINFO    \u001b[0m | \u001b[36msrc.beam.experiment\u001b[0m:\u001b[36mrun\u001b[0m:\u001b[36m417\u001b[0m - \u001b[1mSingle worker mode\u001b[0m\n",
      "\u001b[32m2022-05-08 11:00:10.525\u001b[0m | \u001b[1mINFO    \u001b[0m | \u001b[36msrc.beam.experiment\u001b[0m:\u001b[36mrun_worker\u001b[0m:\u001b[36m40\u001b[0m - \u001b[1mWorker: 1/1 is running...\u001b[0m\n",
      "\u001b[32m2022-05-08 11:00:10.609\u001b[0m | \u001b[1mINFO    \u001b[0m | \u001b[36msrc.beam.experiment\u001b[0m:\u001b[36mreload_checkpoint\u001b[0m:\u001b[36m233\u001b[0m - \u001b[1mReload experiment from checkpoint: /home/shared/data/results/mnist/MNISTAlgorithm_debug_exp_0000_20220508_095246/checkpoints/checkpoint_000004\u001b[0m\n"
     ]
    },
    {
     "data": {
      "application/vnd.jupyter.widget-view+json": {
       "model_id": "b073205423bf459fa7c335a56118bec7",
       "version_major": 2,
       "version_minor": 0
      },
      "text/plain": [
       "train:   0%|          | 0/389 [00:00<?, ?it/s]"
      ]
     },
     "metadata": {},
     "output_type": "display_data"
    },
    {
     "data": {
      "application/vnd.jupyter.widget-view+json": {
       "model_id": "b782ac206aba4d1880502e268eda08e9",
       "version_major": 2,
       "version_minor": 0
      },
      "text/plain": [
       "validation:   0%|          | 0/389 [00:00<?, ?it/s]"
      ]
     },
     "metadata": {},
     "output_type": "display_data"
    },
    {
     "name": "stdout",
     "output_type": "stream",
     "text": [
      "\n",
      "\u001b[32m2022-05-08 11:00:12.325\u001b[0m | \u001b[1mINFO    \u001b[0m | \u001b[36msrc.beam.experiment\u001b[0m:\u001b[36msave_model_results\u001b[0m:\u001b[36m291\u001b[0m - \u001b[1mFinished epoch 1/2:\u001b[0m\n",
      "\u001b[32m2022-05-08 11:00:12.329\u001b[0m | \u001b[1mINFO    \u001b[0m | \u001b[36msrc.beam.experiment\u001b[0m:\u001b[36mlog_data\u001b[0m:\u001b[36m330\u001b[0m - \u001b[1mtrain:\u001b[0m\n",
      "\u001b[32m2022-05-08 11:00:12.329\u001b[0m | \u001b[1mINFO    \u001b[0m | \u001b[36msrc.beam.experiment\u001b[0m:\u001b[36mlog_data\u001b[0m:\u001b[36m334\u001b[0m - \u001b[1mloss 0.0465994 \t|\u001b[0m\n",
      "\u001b[32m2022-05-08 11:00:12.330\u001b[0m | \u001b[1mINFO    \u001b[0m | \u001b[36msrc.beam.experiment\u001b[0m:\u001b[36mlog_data\u001b[0m:\u001b[36m334\u001b[0m - \u001b[1macc 0.98566 \t|\u001b[0m\n",
      "\u001b[32m2022-05-08 11:00:12.330\u001b[0m | \u001b[1mINFO    \u001b[0m | \u001b[36msrc.beam.experiment\u001b[0m:\u001b[36mlog_data\u001b[0m:\u001b[36m334\u001b[0m - \u001b[1mlr 0.000970299 \t|\u001b[0m\n",
      "\u001b[32m2022-05-08 11:00:12.331\u001b[0m | \u001b[1mINFO    \u001b[0m | \u001b[36msrc.beam.experiment\u001b[0m:\u001b[36mlog_data\u001b[0m:\u001b[36m330\u001b[0m - \u001b[1mvalidation:\u001b[0m\n",
      "\u001b[32m2022-05-08 11:00:12.331\u001b[0m | \u001b[1mINFO    \u001b[0m | \u001b[36msrc.beam.experiment\u001b[0m:\u001b[36mlog_data\u001b[0m:\u001b[36m334\u001b[0m - \u001b[1mloss 0.0985175 \t|\u001b[0m\n",
      "\u001b[32m2022-05-08 11:00:12.331\u001b[0m | \u001b[1mINFO    \u001b[0m | \u001b[36msrc.beam.experiment\u001b[0m:\u001b[36mlog_data\u001b[0m:\u001b[36m334\u001b[0m - \u001b[1macc 0.970869 \t|\u001b[0m\n"
     ]
    },
    {
     "data": {
      "application/vnd.jupyter.widget-view+json": {
       "model_id": "c91fcbd008c54745aa3b9c387698f0fb",
       "version_major": 2,
       "version_minor": 0
      },
      "text/plain": [
       "train:   0%|          | 0/389 [00:00<?, ?it/s]"
      ]
     },
     "metadata": {},
     "output_type": "display_data"
    },
    {
     "data": {
      "application/vnd.jupyter.widget-view+json": {
       "model_id": "c95e5c52db78439daeaa296cd2150ade",
       "version_major": 2,
       "version_minor": 0
      },
      "text/plain": [
       "validation:   0%|          | 0/389 [00:00<?, ?it/s]"
      ]
     },
     "metadata": {},
     "output_type": "display_data"
    },
    {
     "name": "stdout",
     "output_type": "stream",
     "text": [
      "\n",
      "\u001b[32m2022-05-08 11:00:14.107\u001b[0m | \u001b[1mINFO    \u001b[0m | \u001b[36msrc.beam.experiment\u001b[0m:\u001b[36msave_model_results\u001b[0m:\u001b[36m291\u001b[0m - \u001b[1mFinished epoch 2/2:\u001b[0m\n",
      "\u001b[32m2022-05-08 11:00:14.111\u001b[0m | \u001b[1mINFO    \u001b[0m | \u001b[36msrc.beam.experiment\u001b[0m:\u001b[36mlog_data\u001b[0m:\u001b[36m330\u001b[0m - \u001b[1mtrain:\u001b[0m\n",
      "\u001b[32m2022-05-08 11:00:14.112\u001b[0m | \u001b[1mINFO    \u001b[0m | \u001b[36msrc.beam.experiment\u001b[0m:\u001b[36mlog_data\u001b[0m:\u001b[36m334\u001b[0m - \u001b[1mloss 0.0284482 \t|\u001b[0m\n",
      "\u001b[32m2022-05-08 11:00:14.112\u001b[0m | \u001b[1mINFO    \u001b[0m | \u001b[36msrc.beam.experiment\u001b[0m:\u001b[36mlog_data\u001b[0m:\u001b[36m334\u001b[0m - \u001b[1macc 0.991123 \t|\u001b[0m\n",
      "\u001b[32m2022-05-08 11:00:14.113\u001b[0m | \u001b[1mINFO    \u001b[0m | \u001b[36msrc.beam.experiment\u001b[0m:\u001b[36mlog_data\u001b[0m:\u001b[36m334\u001b[0m - \u001b[1mlr 0.000960596 \t|\u001b[0m\n",
      "\u001b[32m2022-05-08 11:00:14.113\u001b[0m | \u001b[1mINFO    \u001b[0m | \u001b[36msrc.beam.experiment\u001b[0m:\u001b[36mlog_data\u001b[0m:\u001b[36m330\u001b[0m - \u001b[1mvalidation:\u001b[0m\n",
      "\u001b[32m2022-05-08 11:00:14.114\u001b[0m | \u001b[1mINFO    \u001b[0m | \u001b[36msrc.beam.experiment\u001b[0m:\u001b[36mlog_data\u001b[0m:\u001b[36m334\u001b[0m - \u001b[1mloss 0.0876903 \t|\u001b[0m\n",
      "\u001b[32m2022-05-08 11:00:14.115\u001b[0m | \u001b[1mINFO    \u001b[0m | \u001b[36msrc.beam.experiment\u001b[0m:\u001b[36mlog_data\u001b[0m:\u001b[36m334\u001b[0m - \u001b[1macc 0.976231 \t|\u001b[0m\n"
     ]
    }
   ],
   "source": [
    "alg = experiment(mnist_algorithm_generator, experiment)"
   ]
  },
  {
   "cell_type": "markdown",
   "id": "02d6a977",
   "metadata": {},
   "source": [
    "## Training with two workers"
   ]
  },
  {
   "cell_type": "code",
   "execution_count": 12,
   "id": "bc3afa93",
   "metadata": {},
   "outputs": [
    {
     "name": "stdout",
     "output_type": "stream",
     "text": [
      "\u001b[32m2022-05-08 11:00:14.322\u001b[0m | \u001b[1mINFO    \u001b[0m | \u001b[36msrc.beam.experiment\u001b[0m:\u001b[36m__init__\u001b[0m:\u001b[36m89\u001b[0m - \u001b[1mbeam project: mnist\u001b[0m\n",
      "\u001b[32m2022-05-08 11:00:14.323\u001b[0m | \u001b[1mINFO    \u001b[0m | \u001b[36msrc.beam.experiment\u001b[0m:\u001b[36m__init__\u001b[0m:\u001b[36m90\u001b[0m - \u001b[1mSimulation Hyperparameters\u001b[0m\n",
      "\u001b[32m2022-05-08 11:00:14.324\u001b[0m | \u001b[1mINFO    \u001b[0m | \u001b[36msrc.beam.experiment\u001b[0m:\u001b[36m__init__\u001b[0m:\u001b[36m94\u001b[0m - \u001b[1mproject_name: mnist\u001b[0m\n",
      "\u001b[32m2022-05-08 11:00:14.324\u001b[0m | \u001b[1mINFO    \u001b[0m | \u001b[36msrc.beam.experiment\u001b[0m:\u001b[36m__init__\u001b[0m:\u001b[36m94\u001b[0m - \u001b[1midentifier: debug\u001b[0m\n",
      "\u001b[32m2022-05-08 11:00:14.325\u001b[0m | \u001b[1mINFO    \u001b[0m | \u001b[36msrc.beam.experiment\u001b[0m:\u001b[36m__init__\u001b[0m:\u001b[36m94\u001b[0m - \u001b[1malgorithm: MNISTAlgorithm\u001b[0m\n",
      "\u001b[32m2022-05-08 11:00:14.325\u001b[0m | \u001b[1mINFO    \u001b[0m | \u001b[36msrc.beam.experiment\u001b[0m:\u001b[36m__init__\u001b[0m:\u001b[36m94\u001b[0m - \u001b[1mmp_port: None\u001b[0m\n",
      "\u001b[32m2022-05-08 11:00:14.325\u001b[0m | \u001b[1mINFO    \u001b[0m | \u001b[36msrc.beam.experiment\u001b[0m:\u001b[36m__init__\u001b[0m:\u001b[36m94\u001b[0m - \u001b[1mroot_dir: /home/shared/data/results\u001b[0m\n",
      "\u001b[32m2022-05-08 11:00:14.326\u001b[0m | \u001b[1mINFO    \u001b[0m | \u001b[36msrc.beam.experiment\u001b[0m:\u001b[36m__init__\u001b[0m:\u001b[36m94\u001b[0m - \u001b[1mreload: False\u001b[0m\n",
      "\u001b[32m2022-05-08 11:00:14.326\u001b[0m | \u001b[1mINFO    \u001b[0m | \u001b[36msrc.beam.experiment\u001b[0m:\u001b[36m__init__\u001b[0m:\u001b[36m94\u001b[0m - \u001b[1mresume: -1\u001b[0m\n",
      "\u001b[32m2022-05-08 11:00:14.327\u001b[0m | \u001b[1mINFO    \u001b[0m | \u001b[36msrc.beam.experiment\u001b[0m:\u001b[36m__init__\u001b[0m:\u001b[36m94\u001b[0m - \u001b[1moverride: True\u001b[0m\n",
      "\u001b[32m2022-05-08 11:00:14.327\u001b[0m | \u001b[1mINFO    \u001b[0m | \u001b[36msrc.beam.experiment\u001b[0m:\u001b[36m__init__\u001b[0m:\u001b[36m94\u001b[0m - \u001b[1mcpu_workers: 0\u001b[0m\n",
      "\u001b[32m2022-05-08 11:00:14.328\u001b[0m | \u001b[1mINFO    \u001b[0m | \u001b[36msrc.beam.experiment\u001b[0m:\u001b[36m__init__\u001b[0m:\u001b[36m94\u001b[0m - \u001b[1mdevice: 0\u001b[0m\n",
      "\u001b[32m2022-05-08 11:00:14.328\u001b[0m | \u001b[1mINFO    \u001b[0m | \u001b[36msrc.beam.experiment\u001b[0m:\u001b[36m__init__\u001b[0m:\u001b[36m94\u001b[0m - \u001b[1mparallel: 2\u001b[0m\n",
      "\u001b[32m2022-05-08 11:00:14.328\u001b[0m | \u001b[1mINFO    \u001b[0m | \u001b[36msrc.beam.experiment\u001b[0m:\u001b[36m__init__\u001b[0m:\u001b[36m94\u001b[0m - \u001b[1mtensorboard: True\u001b[0m\n",
      "\u001b[32m2022-05-08 11:00:14.329\u001b[0m | \u001b[1mINFO    \u001b[0m | \u001b[36msrc.beam.experiment\u001b[0m:\u001b[36m__init__\u001b[0m:\u001b[36m94\u001b[0m - \u001b[1mlognet: True\u001b[0m\n",
      "\u001b[32m2022-05-08 11:00:14.329\u001b[0m | \u001b[1mINFO    \u001b[0m | \u001b[36msrc.beam.experiment\u001b[0m:\u001b[36m__init__\u001b[0m:\u001b[36m94\u001b[0m - \u001b[1mdeterministic: False\u001b[0m\n",
      "\u001b[32m2022-05-08 11:00:14.330\u001b[0m | \u001b[1mINFO    \u001b[0m | \u001b[36msrc.beam.experiment\u001b[0m:\u001b[36m__init__\u001b[0m:\u001b[36m94\u001b[0m - \u001b[1mscale_epoch_by_batch_size: True\u001b[0m\n",
      "\u001b[32m2022-05-08 11:00:14.330\u001b[0m | \u001b[1mINFO    \u001b[0m | \u001b[36msrc.beam.experiment\u001b[0m:\u001b[36m__init__\u001b[0m:\u001b[36m94\u001b[0m - \u001b[1minit: ortho\u001b[0m\n",
      "\u001b[32m2022-05-08 11:00:14.330\u001b[0m | \u001b[1mINFO    \u001b[0m | \u001b[36msrc.beam.experiment\u001b[0m:\u001b[36m__init__\u001b[0m:\u001b[36m94\u001b[0m - \u001b[1mseed: 0\u001b[0m\n",
      "\u001b[32m2022-05-08 11:00:14.331\u001b[0m | \u001b[1mINFO    \u001b[0m | \u001b[36msrc.beam.experiment\u001b[0m:\u001b[36m__init__\u001b[0m:\u001b[36m94\u001b[0m - \u001b[1mtotal_steps: 1000000\u001b[0m\n",
      "\u001b[32m2022-05-08 11:00:14.331\u001b[0m | \u001b[1mINFO    \u001b[0m | \u001b[36msrc.beam.experiment\u001b[0m:\u001b[36m__init__\u001b[0m:\u001b[36m94\u001b[0m - \u001b[1mepoch_length: 100000\u001b[0m\n",
      "\u001b[32m2022-05-08 11:00:14.332\u001b[0m | \u001b[1mINFO    \u001b[0m | \u001b[36msrc.beam.experiment\u001b[0m:\u001b[36m__init__\u001b[0m:\u001b[36m94\u001b[0m - \u001b[1mepoch_length_train: None\u001b[0m\n",
      "\u001b[32m2022-05-08 11:00:14.332\u001b[0m | \u001b[1mINFO    \u001b[0m | \u001b[36msrc.beam.experiment\u001b[0m:\u001b[36m__init__\u001b[0m:\u001b[36m94\u001b[0m - \u001b[1mepoch_length_eval: None\u001b[0m\n",
      "\u001b[32m2022-05-08 11:00:14.332\u001b[0m | \u001b[1mINFO    \u001b[0m | \u001b[36msrc.beam.experiment\u001b[0m:\u001b[36m__init__\u001b[0m:\u001b[36m94\u001b[0m - \u001b[1mn_epochs: 2\u001b[0m\n",
      "\u001b[32m2022-05-08 11:00:14.333\u001b[0m | \u001b[1mINFO    \u001b[0m | \u001b[36msrc.beam.experiment\u001b[0m:\u001b[36m__init__\u001b[0m:\u001b[36m94\u001b[0m - \u001b[1mbatch_size: 256\u001b[0m\n",
      "\u001b[32m2022-05-08 11:00:14.333\u001b[0m | \u001b[1mINFO    \u001b[0m | \u001b[36msrc.beam.experiment\u001b[0m:\u001b[36m__init__\u001b[0m:\u001b[36m94\u001b[0m - \u001b[1mbatch_size_train: None\u001b[0m\n",
      "\u001b[32m2022-05-08 11:00:14.334\u001b[0m | \u001b[1mINFO    \u001b[0m | \u001b[36msrc.beam.experiment\u001b[0m:\u001b[36m__init__\u001b[0m:\u001b[36m94\u001b[0m - \u001b[1mbatch_size_eval: None\u001b[0m\n",
      "\u001b[32m2022-05-08 11:00:14.334\u001b[0m | \u001b[1mINFO    \u001b[0m | \u001b[36msrc.beam.experiment\u001b[0m:\u001b[36m__init__\u001b[0m:\u001b[36m94\u001b[0m - \u001b[1mlr_d: 0.001\u001b[0m\n",
      "\u001b[32m2022-05-08 11:00:14.335\u001b[0m | \u001b[1mINFO    \u001b[0m | \u001b[36msrc.beam.experiment\u001b[0m:\u001b[36m__init__\u001b[0m:\u001b[36m94\u001b[0m - \u001b[1mlr_s: 0.01\u001b[0m\n",
      "\u001b[32m2022-05-08 11:00:14.335\u001b[0m | \u001b[1mINFO    \u001b[0m | \u001b[36msrc.beam.experiment\u001b[0m:\u001b[36m__init__\u001b[0m:\u001b[36m94\u001b[0m - \u001b[1mweight_decay: 0.0\u001b[0m\n",
      "\u001b[32m2022-05-08 11:00:14.338\u001b[0m | \u001b[1mINFO    \u001b[0m | \u001b[36msrc.beam.experiment\u001b[0m:\u001b[36m__init__\u001b[0m:\u001b[36m94\u001b[0m - \u001b[1meps: 0.0001\u001b[0m\n",
      "\u001b[32m2022-05-08 11:00:14.339\u001b[0m | \u001b[1mINFO    \u001b[0m | \u001b[36msrc.beam.experiment\u001b[0m:\u001b[36m__init__\u001b[0m:\u001b[36m94\u001b[0m - \u001b[1mclip: 1.0\u001b[0m\n",
      "\u001b[32m2022-05-08 11:00:14.339\u001b[0m | \u001b[1mINFO    \u001b[0m | \u001b[36msrc.beam.experiment\u001b[0m:\u001b[36m__init__\u001b[0m:\u001b[36m94\u001b[0m - \u001b[1mprint_results: True\u001b[0m\n",
      "\u001b[32m2022-05-08 11:00:14.339\u001b[0m | \u001b[1mINFO    \u001b[0m | \u001b[36msrc.beam.experiment\u001b[0m:\u001b[36m__init__\u001b[0m:\u001b[36m94\u001b[0m - \u001b[1mvisualize_weights: True\u001b[0m\n",
      "\u001b[32m2022-05-08 11:00:14.340\u001b[0m | \u001b[1mINFO    \u001b[0m | \u001b[36msrc.beam.experiment\u001b[0m:\u001b[36m__init__\u001b[0m:\u001b[36m94\u001b[0m - \u001b[1mvisualize_results: yes\u001b[0m\n",
      "\u001b[32m2022-05-08 11:00:14.340\u001b[0m | \u001b[1mINFO    \u001b[0m | \u001b[36msrc.beam.experiment\u001b[0m:\u001b[36m__init__\u001b[0m:\u001b[36m94\u001b[0m - \u001b[1mstore_results: logscale\u001b[0m\n",
      "\u001b[32m2022-05-08 11:00:14.341\u001b[0m | \u001b[1mINFO    \u001b[0m | \u001b[36msrc.beam.experiment\u001b[0m:\u001b[36m__init__\u001b[0m:\u001b[36m94\u001b[0m - \u001b[1mstore_networks: logscale\u001b[0m\n",
      "\u001b[32m2022-05-08 11:00:14.341\u001b[0m | \u001b[1mINFO    \u001b[0m | \u001b[36msrc.beam.experiment\u001b[0m:\u001b[36m__init__\u001b[0m:\u001b[36m94\u001b[0m - \u001b[1mpath_to_data: /home/elad/projects/mnist\u001b[0m\n",
      "\u001b[32m2022-05-08 11:00:14.343\u001b[0m | \u001b[1mINFO    \u001b[0m | \u001b[36msrc.beam.experiment\u001b[0m:\u001b[36m__init__\u001b[0m:\u001b[36m167\u001b[0m - \u001b[1mDeleting old experiment\u001b[0m\n",
      "\u001b[32m2022-05-08 11:00:14.347\u001b[0m | \u001b[1mINFO    \u001b[0m | \u001b[36msrc.beam.experiment\u001b[0m:\u001b[36m__init__\u001b[0m:\u001b[36m174\u001b[0m - \u001b[1mExperiment directory is: /home/shared/data/results/mnist/MNISTAlgorithm_debug_exp_0000_20220508_110014\u001b[0m\n"
     ]
    }
   ],
   "source": [
    "# here you put all actions which are performed only once before initializing the workers\n",
    "# for example, setting running arguments and experiment:\n",
    "\n",
    "args = beam_arguments(\"--project-name=mnist --root-dir=/home/shared/data/results --algorithm=MNISTAlgorithm\",\n",
    "                      \"--epoch-length=100000 --n-epochs=2 --clip=1 --parallel=1 --parallel=2\",\n",
    "                      path_to_data='/home/elad/projects/mnist')\n",
    "\n",
    "experiment = Experiment(args)"
   ]
  },
  {
   "cell_type": "code",
   "execution_count": 13,
   "id": "c8116d3c",
   "metadata": {},
   "outputs": [
    {
     "name": "stdout",
     "output_type": "stream",
     "text": [
      "\u001b[32m2022-05-08 11:00:14.389\u001b[0m | \u001b[1mINFO    \u001b[0m | \u001b[36msrc.beam.experiment\u001b[0m:\u001b[36mrun\u001b[0m:\u001b[36m408\u001b[0m - \u001b[1mInitializing 2 parallel workers\u001b[0m\n",
      "\u001b[32m2022-05-08 11:00:14.390\u001b[0m | \u001b[1mINFO    \u001b[0m | \u001b[36msrc.beam.experiment\u001b[0m:\u001b[36mrun\u001b[0m:\u001b[36m413\u001b[0m - \u001b[1mMultiprocessing port is: 46417\u001b[0m\n",
      "\u001b[32m2022-05-08 11:00:15.939\u001b[0m | \u001b[1mINFO    \u001b[0m | \u001b[36msrc.beam.experiment\u001b[0m:\u001b[36mrun_worker\u001b[0m:\u001b[36m40\u001b[0m - \u001b[1mWorker: 1/2 is running...\u001b[0m\n",
      "\u001b[32m2022-05-08 11:00:15.948\u001b[0m | \u001b[1mINFO    \u001b[0m | \u001b[36msrc.beam.experiment\u001b[0m:\u001b[36mrun_worker\u001b[0m:\u001b[36m40\u001b[0m - \u001b[1mWorker: 2/2 is running...\u001b[0m\n"
     ]
    },
    {
     "name": "stderr",
     "output_type": "stream",
     "text": [
      "train: 100%|██████████| 389/389 [00:05<00:00, 73.84it/s] \n",
      "validation:   0%|          | 0/389 [00:00<?, ?it/s]\n",
      "validation: 100%|██████████| 389/389 [00:00<00:00, 682.83it/s]"
     ]
    },
    {
     "name": "stdout",
     "output_type": "stream",
     "text": [
      "\n",
      "\u001b[32m2022-05-08 11:00:23.102\u001b[0m | \u001b[1mINFO    \u001b[0m | \u001b[36msrc.beam.experiment\u001b[0m:\u001b[36msave_model_results\u001b[0m:\u001b[36m291\u001b[0m - \u001b[1mFinished epoch 1/2:\u001b[0m\n",
      "\u001b[32m2022-05-08 11:00:23.109\u001b[0m | \u001b[1mINFO    \u001b[0m | \u001b[36msrc.beam.experiment\u001b[0m:\u001b[36mlog_data\u001b[0m:\u001b[36m330\u001b[0m - \u001b[1mtrain:\u001b[0m\n",
      "\u001b[32m2022-05-08 11:00:23.110\u001b[0m | \u001b[1mINFO    \u001b[0m | \u001b[36msrc.beam.experiment\u001b[0m:\u001b[36mlog_data\u001b[0m:\u001b[36m334\u001b[0m - \u001b[1mloss 0.301992 \t|\u001b[0m\n",
      "\u001b[32m2022-05-08 11:00:23.110\u001b[0m | \u001b[1mINFO    \u001b[0m | \u001b[36msrc.beam.experiment\u001b[0m:\u001b[36mlog_data\u001b[0m:\u001b[36m334\u001b[0m - \u001b[1macc 0.912958 \t|\u001b[0m\n",
      "\u001b[32m2022-05-08 11:00:23.110\u001b[0m | \u001b[1mINFO    \u001b[0m | \u001b[36msrc.beam.experiment\u001b[0m:\u001b[36mlog_data\u001b[0m:\u001b[36m334\u001b[0m - \u001b[1mlr 0.00099 \t|\u001b[0m\n",
      "\u001b[32m2022-05-08 11:00:23.110\u001b[0m | \u001b[1mINFO    \u001b[0m | \u001b[36msrc.beam.experiment\u001b[0m:\u001b[36mlog_data\u001b[0m:\u001b[36m330\u001b[0m - \u001b[1mvalidation:\u001b[0m\n",
      "\u001b[32m2022-05-08 11:00:23.111\u001b[0m | \u001b[1mINFO    \u001b[0m | \u001b[36msrc.beam.experiment\u001b[0m:\u001b[36mlog_data\u001b[0m:\u001b[36m334\u001b[0m - \u001b[1mloss 0.125256 \t|\u001b[0m\n",
      "\u001b[32m2022-05-08 11:00:23.111\u001b[0m | \u001b[1mINFO    \u001b[0m | \u001b[36msrc.beam.experiment\u001b[0m:\u001b[36mlog_data\u001b[0m:\u001b[36m334\u001b[0m - \u001b[1macc 0.962243 \t|\u001b[0m\n"
     ]
    },
    {
     "name": "stderr",
     "output_type": "stream",
     "text": [
      "\n",
      "train:   0%|          | 0/389 [00:00<?, ?it/s]\n",
      "train: 100%|██████████| 389/389 [00:02<00:00, 138.74it/s]\n",
      "\n",
      "validation: 100%|██████████| 389/389 [00:00<00:00, 829.48it/s]"
     ]
    },
    {
     "name": "stdout",
     "output_type": "stream",
     "text": [
      "\n",
      "\u001b[32m2022-05-08 11:00:26.717\u001b[0m | \u001b[1mINFO    \u001b[0m | \u001b[36msrc.beam.experiment\u001b[0m:\u001b[36msave_model_results\u001b[0m:\u001b[36m291\u001b[0m - \u001b[1mFinished epoch 2/2:\u001b[0m\n",
      "\u001b[32m2022-05-08 11:00:26.721\u001b[0m | \u001b[1mINFO    \u001b[0m | \u001b[36msrc.beam.experiment\u001b[0m:\u001b[36mlog_data\u001b[0m:\u001b[36m330\u001b[0m - \u001b[1mtrain:\u001b[0m\n",
      "\u001b[32m2022-05-08 11:00:26.721\u001b[0m | \u001b[1mINFO    \u001b[0m | \u001b[36msrc.beam.experiment\u001b[0m:\u001b[36mlog_data\u001b[0m:\u001b[36m334\u001b[0m - \u001b[1mloss 0.0610209 \t|\u001b[0m\n",
      "\u001b[32m2022-05-08 11:00:26.722\u001b[0m | \u001b[1mINFO    \u001b[0m | \u001b[36msrc.beam.experiment\u001b[0m:\u001b[36mlog_data\u001b[0m:\u001b[36m334\u001b[0m - \u001b[1macc 0.982196 \t|\u001b[0m\n",
      "\u001b[32m2022-05-08 11:00:26.722\u001b[0m | \u001b[1mINFO    \u001b[0m | \u001b[36msrc.beam.experiment\u001b[0m:\u001b[36mlog_data\u001b[0m:\u001b[36m334\u001b[0m - \u001b[1mlr 0.0009801 \t|\u001b[0m\n",
      "\u001b[32m2022-05-08 11:00:26.722\u001b[0m | \u001b[1mINFO    \u001b[0m | \u001b[36msrc.beam.experiment\u001b[0m:\u001b[36mlog_data\u001b[0m:\u001b[36m330\u001b[0m - \u001b[1mvalidation:\u001b[0m\n",
      "\u001b[32m2022-05-08 11:00:26.722\u001b[0m | \u001b[1mINFO    \u001b[0m | \u001b[36msrc.beam.experiment\u001b[0m:\u001b[36mlog_data\u001b[0m:\u001b[36m334\u001b[0m - \u001b[1mloss 0.0923414 \t|\u001b[0m\n",
      "\u001b[32m2022-05-08 11:00:26.723\u001b[0m | \u001b[1mINFO    \u001b[0m | \u001b[36msrc.beam.experiment\u001b[0m:\u001b[36mlog_data\u001b[0m:\u001b[36m334\u001b[0m - \u001b[1macc 0.972958 \t|\u001b[0m\n",
      "\u001b[32m2022-05-08 11:00:27.025\u001b[0m | \u001b[1mINFO    \u001b[0m | \u001b[36msrc.beam.experiment\u001b[0m:\u001b[36mreload_checkpoint\u001b[0m:\u001b[36m233\u001b[0m - \u001b[1mReload experiment from checkpoint: /home/shared/data/results/mnist/MNISTAlgorithm_debug_exp_0000_20220508_095246/checkpoints/checkpoint_000002\u001b[0m\n"
     ]
    }
   ],
   "source": [
    "alg = experiment(mnist_algorithm_generator, experiment)"
   ]
  },
  {
   "cell_type": "markdown",
   "id": "96fcba87",
   "metadata": {},
   "source": [
    "Inference works the same if we use the default runner, the runner reloads the stored algorithm into a single GPU mode"
   ]
  },
  {
   "cell_type": "code",
   "execution_count": 14,
   "id": "f0f9c2b3",
   "metadata": {},
   "outputs": [
    {
     "data": {
      "application/vnd.jupyter.widget-view+json": {
       "model_id": "06eac4c4a31f4883a92ab006f4f7daed",
       "version_major": 2,
       "version_minor": 0
      },
      "text/plain": [
       "test:   0%|          | 0/39 [00:00<?, ?it/s]"
      ]
     },
     "metadata": {},
     "output_type": "display_data"
    },
    {
     "name": "stdout",
     "output_type": "stream",
     "text": [
      "Test inference results:\n",
      "precision:\n",
      "[0.97289157 0.98769772 0.95331466 0.98205384 0.97846154 0.96885428\n",
      " 0.98312236 0.97170732 0.97894737 0.97487437]\n",
      "recall:\n",
      "[0.98877551 0.99030837 0.98934109 0.97524752 0.97148676 0.9764574\n",
      " 0.97286013 0.9688716  0.95482546 0.96134787]\n",
      "fscore:\n",
      "[0.98076923 0.98900132 0.97099382 0.97863885 0.97496168 0.97264098\n",
      " 0.97796432 0.97028738 0.96673597 0.96806387]\n",
      "support:\n",
      "[ 980 1135 1032 1010  982  892  958 1028  974 1009]\n"
     ]
    }
   ],
   "source": [
    "inference = alg('test')\n",
    "\n",
    "print('Test inference results:')\n",
    "for n, v in inference['metrics'].items():\n",
    "    print(f'{n}:')\n",
    "    print(v)"
   ]
  },
  {
   "cell_type": "markdown",
   "id": "72c16ba5",
   "metadata": {},
   "source": [
    "we can also determine our own experiment routine and return the results"
   ]
  },
  {
   "cell_type": "code",
   "execution_count": 15,
   "id": "3308be89",
   "metadata": {
    "scrolled": true
   },
   "outputs": [
    {
     "name": "stdout",
     "output_type": "stream",
     "text": [
      "\u001b[32m2022-05-08 11:00:27.239\u001b[0m | \u001b[1mINFO    \u001b[0m | \u001b[36msrc.beam.experiment\u001b[0m:\u001b[36mrun\u001b[0m:\u001b[36m408\u001b[0m - \u001b[1mInitializing 2 parallel workers\u001b[0m\n",
      "\u001b[32m2022-05-08 11:00:27.241\u001b[0m | \u001b[1mINFO    \u001b[0m | \u001b[36msrc.beam.experiment\u001b[0m:\u001b[36mrun\u001b[0m:\u001b[36m413\u001b[0m - \u001b[1mMultiprocessing port is: 41631\u001b[0m\n",
      "\u001b[32m2022-05-08 11:00:28.733\u001b[0m | \u001b[1mINFO    \u001b[0m | \u001b[36msrc.beam.experiment\u001b[0m:\u001b[36mrun_worker\u001b[0m:\u001b[36m40\u001b[0m - \u001b[1mWorker: 1/2 is running...\u001b[0m\n",
      "\u001b[32m2022-05-08 11:00:28.762\u001b[0m | \u001b[1mINFO    \u001b[0m | \u001b[36msrc.beam.experiment\u001b[0m:\u001b[36mrun_worker\u001b[0m:\u001b[36m40\u001b[0m - \u001b[1mWorker: 2/2 is running...\u001b[0m\n"
     ]
    },
    {
     "name": "stderr",
     "output_type": "stream",
     "text": [
      "train: 100%|██████████| 389/389 [00:02<00:00, 162.10it/s]\n",
      "train: 100%|██████████| 389/389 [00:04<00:00, 79.47it/s] \n",
      "validation: 100%|██████████| 389/389 [00:00<00:00, 847.84it/s]"
     ]
    },
    {
     "name": "stdout",
     "output_type": "stream",
     "text": [
      "\n",
      "\u001b[32m2022-05-08 11:00:35.669\u001b[0m | \u001b[1mINFO    \u001b[0m | \u001b[36msrc.beam.experiment\u001b[0m:\u001b[36msave_model_results\u001b[0m:\u001b[36m291\u001b[0m - \u001b[1mFinished epoch 1/2:\u001b[0m\n",
      "\u001b[32m2022-05-08 11:00:35.679\u001b[0m | \u001b[1mINFO    \u001b[0m | \u001b[36msrc.beam.experiment\u001b[0m:\u001b[36mlog_data\u001b[0m:\u001b[36m330\u001b[0m - \u001b[1mtrain:\u001b[0m\n",
      "\u001b[32m2022-05-08 11:00:35.679\u001b[0m | \u001b[1mINFO    \u001b[0m | \u001b[36msrc.beam.experiment\u001b[0m:\u001b[36mlog_data\u001b[0m:\u001b[36m334\u001b[0m - \u001b[1mloss 0.303819 \t|\u001b[0m\n",
      "\u001b[32m2022-05-08 11:00:35.679\u001b[0m | \u001b[1mINFO    \u001b[0m | \u001b[36msrc.beam.experiment\u001b[0m:\u001b[36mlog_data\u001b[0m:\u001b[36m334\u001b[0m - \u001b[1macc 0.911994 \t|\u001b[0m\n",
      "\u001b[32m2022-05-08 11:00:35.680\u001b[0m | \u001b[1mINFO    \u001b[0m | \u001b[36msrc.beam.experiment\u001b[0m:\u001b[36mlog_data\u001b[0m:\u001b[36m334\u001b[0m - \u001b[1mlr 0.00099 \t|\u001b[0m\n",
      "\u001b[32m2022-05-08 11:00:35.680\u001b[0m | \u001b[1mINFO    \u001b[0m | \u001b[36msrc.beam.experiment\u001b[0m:\u001b[36mlog_data\u001b[0m:\u001b[36m330\u001b[0m - \u001b[1mvalidation:\u001b[0m\n",
      "\u001b[32m2022-05-08 11:00:35.680\u001b[0m | \u001b[1mINFO    \u001b[0m | \u001b[36msrc.beam.experiment\u001b[0m:\u001b[36mlog_data\u001b[0m:\u001b[36m334\u001b[0m - \u001b[1mloss 0.128011 \t|\u001b[0m\n",
      "\u001b[32m2022-05-08 11:00:35.680\u001b[0m | \u001b[1mINFO    \u001b[0m | \u001b[36msrc.beam.experiment\u001b[0m:\u001b[36mlog_data\u001b[0m:\u001b[36m334\u001b[0m - \u001b[1macc 0.960184 \t|\u001b[0m\n"
     ]
    },
    {
     "name": "stderr",
     "output_type": "stream",
     "text": [
      "\n",
      "train:   0%|          | 0/389 [00:00<?, ?it/s]\n",
      "train: 100%|██████████| 389/389 [00:02<00:00, 150.18it/s]\n",
      "validation:   0%|          | 0/389 [00:00<?, ?it/s]\n",
      "validation: 100%|██████████| 389/389 [00:00<00:00, 838.92it/s]"
     ]
    },
    {
     "name": "stdout",
     "output_type": "stream",
     "text": [
      "\n",
      "\u001b[32m2022-05-08 11:00:39.093\u001b[0m | \u001b[1mINFO    \u001b[0m | \u001b[36msrc.beam.experiment\u001b[0m:\u001b[36msave_model_results\u001b[0m:\u001b[36m291\u001b[0m - \u001b[1mFinished epoch 2/2:\u001b[0m\n",
      "\u001b[32m2022-05-08 11:00:39.097\u001b[0m | \u001b[1mINFO    \u001b[0m | \u001b[36msrc.beam.experiment\u001b[0m:\u001b[36mlog_data\u001b[0m:\u001b[36m330\u001b[0m - \u001b[1mtrain:\u001b[0m\n",
      "\u001b[32m2022-05-08 11:00:39.098\u001b[0m | \u001b[1mINFO    \u001b[0m | \u001b[36msrc.beam.experiment\u001b[0m:\u001b[36mlog_data\u001b[0m:\u001b[36m334\u001b[0m - \u001b[1mloss 0.0614947 \t|\u001b[0m\n",
      "\u001b[32m2022-05-08 11:00:39.098\u001b[0m | \u001b[1mINFO    \u001b[0m | \u001b[36msrc.beam.experiment\u001b[0m:\u001b[36mlog_data\u001b[0m:\u001b[36m334\u001b[0m - \u001b[1macc 0.981724 \t|\u001b[0m\n",
      "\u001b[32m2022-05-08 11:00:39.098\u001b[0m | \u001b[1mINFO    \u001b[0m | \u001b[36msrc.beam.experiment\u001b[0m:\u001b[36mlog_data\u001b[0m:\u001b[36m334\u001b[0m - \u001b[1mlr 0.0009801 \t|\u001b[0m\n",
      "\u001b[32m2022-05-08 11:00:39.098\u001b[0m | \u001b[1mINFO    \u001b[0m | \u001b[36msrc.beam.experiment\u001b[0m:\u001b[36mlog_data\u001b[0m:\u001b[36m330\u001b[0m - \u001b[1mvalidation:\u001b[0m\n",
      "\u001b[32m2022-05-08 11:00:39.099\u001b[0m | \u001b[1mINFO    \u001b[0m | \u001b[36msrc.beam.experiment\u001b[0m:\u001b[36mlog_data\u001b[0m:\u001b[36m334\u001b[0m - \u001b[1mloss 0.0945423 \t|\u001b[0m\n",
      "\u001b[32m2022-05-08 11:00:39.099\u001b[0m | \u001b[1mINFO    \u001b[0m | \u001b[36msrc.beam.experiment\u001b[0m:\u001b[36mlog_data\u001b[0m:\u001b[36m334\u001b[0m - \u001b[1macc 0.972867 \t|\u001b[0m\n"
     ]
    }
   ],
   "source": [
    "# here we initialize the workers (can be single or multiple workers, depending on the configuration)\n",
    "results = experiment.run(run_mnist)"
   ]
  },
  {
   "cell_type": "code",
   "execution_count": 16,
   "id": "3f2940bf",
   "metadata": {},
   "outputs": [
    {
     "data": {
      "text/plain": [
       "[0.06506209820508957,\n",
       " 0.06944388151168823,\n",
       " 0.08207054436206818,\n",
       " 0.10892399400472641,\n",
       " 0.0869956761598587,\n",
       " 0.10769040882587433,\n",
       " 0.10257066786289215,\n",
       " 0.08572819083929062,\n",
       " 0.1246243342757225,\n",
       " 0.026350203901529312,\n",
       " 0.10090633481740952,\n",
       " 0.11319126188755035,\n",
       " 0.06160338595509529,\n",
       " 0.062499530613422394,\n",
       " 0.08562101423740387,\n",
       " 0.04624390974640846,\n",
       " 0.14300015568733215,\n",
       " 0.13295878469944,\n",
       " 0.05520991235971451,\n",
       " 0.057520970702171326,\n",
       " 0.03143289312720299,\n",
       " 0.09052925556898117,\n",
       " 0.10364935547113419,\n",
       " 0.09490916877985,\n",
       " 0.07175968587398529,\n",
       " 0.07635423541069031,\n",
       " 0.08468688279390335,\n",
       " 0.06221984326839447,\n",
       " 0.14224795997142792,\n",
       " 0.1283537596464157,\n",
       " 0.1678728461265564,\n",
       " 0.08852816373109818,\n",
       " 0.022741621360182762,\n",
       " 0.056438833475112915,\n",
       " 0.12966875731945038,\n",
       " 0.17939400672912598,\n",
       " 0.10628193616867065,\n",
       " 0.1538679301738739,\n",
       " 0.13159161806106567,\n",
       " 0.1012459322810173,\n",
       " 0.10252518206834793,\n",
       " 0.03237597271800041,\n",
       " 0.08204969763755798,\n",
       " 0.10337439179420471,\n",
       " 0.05119701474905014,\n",
       " 0.1264750063419342,\n",
       " 0.16402286291122437,\n",
       " 0.1899246722459793,\n",
       " 0.08265455067157745,\n",
       " 0.12428693473339081,\n",
       " 0.11427190899848938,\n",
       " 0.04330075532197952,\n",
       " 0.0846012681722641,\n",
       " 0.06904254853725433,\n",
       " 0.05683135613799095,\n",
       " 0.15380597114562988,\n",
       " 0.07617273181676865,\n",
       " 0.05624130740761757,\n",
       " 0.043541815131902695,\n",
       " 0.12026818096637726,\n",
       " 0.07199090719223022,\n",
       " 0.17571410536766052,\n",
       " 0.10599393397569656,\n",
       " 0.023662472143769264,\n",
       " 0.07465935498476028,\n",
       " 0.1396833211183548,\n",
       " 0.10682318359613419,\n",
       " 0.15223868191242218,\n",
       " 0.12486912310123444,\n",
       " 0.05226273089647293,\n",
       " 0.16071967780590057,\n",
       " 0.10975487530231476,\n",
       " 0.12655378878116608,\n",
       " 0.12422273308038712,\n",
       " 0.12668192386627197,\n",
       " 0.07672186940908432,\n",
       " 0.10409510880708694,\n",
       " 0.10574266314506531,\n",
       " 0.06802748888731003,\n",
       " 0.08828182518482208,\n",
       " 0.11590274423360825,\n",
       " 0.0468636155128479,\n",
       " 0.07454366981983185,\n",
       " 0.17508232593536377,\n",
       " 0.10082972049713135,\n",
       " 0.01810348592698574,\n",
       " 0.04722413420677185,\n",
       " 0.0764319971203804,\n",
       " 0.08753438293933868,\n",
       " 0.11321111768484116,\n",
       " 0.11293666064739227,\n",
       " 0.05981377139687538,\n",
       " 0.0437767431139946,\n",
       " 0.10525035113096237,\n",
       " 0.08523993194103241,\n",
       " 0.06517565250396729,\n",
       " 0.06076821684837341,\n",
       " 0.10249350219964981,\n",
       " 0.15123634040355682,\n",
       " 0.10708541423082352,\n",
       " 0.07217796891927719,\n",
       " 0.12158524245023727,\n",
       " 0.16376341879367828,\n",
       " 0.03190689906477928,\n",
       " 0.0769994780421257,\n",
       " 0.08264721930027008,\n",
       " 0.07826215028762817,\n",
       " 0.05194362625479698,\n",
       " 0.05655727908015251,\n",
       " 0.13582555949687958,\n",
       " 0.15672796964645386,\n",
       " 0.08470941334962845,\n",
       " 0.036755066365003586,\n",
       " 0.11919616162776947,\n",
       " 0.1546139419078827,\n",
       " 0.07203098386526108,\n",
       " 0.12166585773229599,\n",
       " 0.12987546622753143,\n",
       " 0.08553033322095871,\n",
       " 0.041031692177057266,\n",
       " 0.05678856372833252,\n",
       " 0.05312678590416908,\n",
       " 0.08125912398099899,\n",
       " 0.11209571361541748,\n",
       " 0.08508295565843582,\n",
       " 0.04951811581850052,\n",
       " 0.03392154350876808,\n",
       " 0.09770793467760086,\n",
       " 0.08165644854307175,\n",
       " 0.1281537115573883,\n",
       " 0.08417277038097382,\n",
       " 0.17150044441223145,\n",
       " 0.09141509234905243,\n",
       " 0.06182512268424034,\n",
       " 0.09816924482584,\n",
       " 0.09634282439947128,\n",
       " 0.11923234909772873,\n",
       " 0.11919008195400238,\n",
       " 0.10210216045379639,\n",
       " 0.08417811989784241,\n",
       " 0.06058282032608986,\n",
       " 0.028212644159793854,\n",
       " 0.15703822672367096,\n",
       " 0.09197910130023956,\n",
       " 0.08707233518362045,\n",
       " 0.05717248097062111,\n",
       " 0.18290169537067413,\n",
       " 0.0562240406870842,\n",
       " 0.06601491570472717,\n",
       " 0.076144739985466,\n",
       " 0.0880010649561882,\n",
       " 0.1797456294298172,\n",
       " 0.04026375710964203,\n",
       " 0.058176878839731216,\n",
       " 0.08231905102729797,\n",
       " 0.08958308398723602,\n",
       " 0.14568859338760376,\n",
       " 0.1098352000117302,\n",
       " 0.07744017988443375,\n",
       " 0.052147261798381805,\n",
       " 0.07402642071247101,\n",
       " 0.09681738913059235,\n",
       " 0.10942582041025162,\n",
       " 0.14949822425842285,\n",
       " 0.2165277749300003,\n",
       " 0.1307244747877121,\n",
       " 0.1353391855955124,\n",
       " 0.09371244162321091,\n",
       " 0.07672466337680817,\n",
       " 0.08212634921073914,\n",
       " 0.08036605268716812,\n",
       " 0.08608824014663696,\n",
       " 0.1502773016691208,\n",
       " 0.04787304624915123,\n",
       " 0.14125433564186096,\n",
       " 0.1612161546945572,\n",
       " 0.038475632667541504,\n",
       " 0.0975867211818695,\n",
       " 0.06991831213235855,\n",
       " 0.09710049629211426,\n",
       " 0.06483232975006104,\n",
       " 0.1405300348997116,\n",
       " 0.07448934763669968,\n",
       " 0.18015705049037933,\n",
       " 0.10963121056556702,\n",
       " 0.044707220047712326,\n",
       " 0.044168271124362946,\n",
       " 0.08969656378030777,\n",
       " 0.11790552735328674,\n",
       " 0.10315239429473877,\n",
       " 0.06997323036193848,\n",
       " 0.07149794697761536,\n",
       " 0.08017180860042572,\n",
       " 0.10773510485887527,\n",
       " 0.07827211171388626,\n",
       " 0.0701431930065155,\n",
       " 0.08740738779306412,\n",
       " 0.10531382262706757,\n",
       " 0.1487930864095688,\n",
       " 0.044792067259550095,\n",
       " 0.060368217527866364,\n",
       " 0.08950607478618622,\n",
       " 0.05577857047319412,\n",
       " 0.07805369794368744,\n",
       " 0.0414147675037384,\n",
       " 0.05999065190553665,\n",
       " 0.03229222819209099,\n",
       " 0.14990319311618805,\n",
       " 0.20114992558956146,\n",
       " 0.12669728696346283,\n",
       " 0.08678681403398514,\n",
       " 0.11654314398765564,\n",
       " 0.06827838718891144,\n",
       " 0.09864236414432526,\n",
       " 0.1046735942363739,\n",
       " 0.19516901671886444,\n",
       " 0.06016485020518303,\n",
       " 0.049052026122808456,\n",
       " 0.10793869197368622,\n",
       " 0.06508577615022659,\n",
       " 0.06383997201919556,\n",
       " 0.07812449336051941,\n",
       " 0.09031601995229721,\n",
       " 0.05890041962265968,\n",
       " 0.06771084666252136,\n",
       " 0.17004919052124023,\n",
       " 0.08837530016899109,\n",
       " 0.09087227284908295,\n",
       " 0.13577447831630707,\n",
       " 0.10529185086488724,\n",
       " 0.10565853118896484,\n",
       " 0.1126665249466896,\n",
       " 0.08949272334575653,\n",
       " 0.07517620921134949,\n",
       " 0.11234015226364136,\n",
       " 0.2005690187215805,\n",
       " 0.052398428320884705,\n",
       " 0.12008702754974365,\n",
       " 0.0788826197385788,\n",
       " 0.036024291068315506,\n",
       " 0.10652106255292892,\n",
       " 0.10784966498613358,\n",
       " 0.0541844367980957,\n",
       " 0.1124958023428917,\n",
       " 0.05761662498116493,\n",
       " 0.06542576104402542,\n",
       " 0.11438682675361633,\n",
       " 0.08556847274303436,\n",
       " 0.06429417431354523,\n",
       " 0.12303563952445984,\n",
       " 0.07144209742546082,\n",
       " 0.13810205459594727,\n",
       " 0.13377109169960022,\n",
       " 0.11855202913284302,\n",
       " 0.14551624655723572,\n",
       " 0.06686136871576309,\n",
       " 0.1261080801486969,\n",
       " 0.10234473645687103,\n",
       " 0.06145186722278595,\n",
       " 0.05094743147492409,\n",
       " 0.05827821046113968,\n",
       " 0.07904434949159622,\n",
       " 0.09636390209197998,\n",
       " 0.09237802028656006,\n",
       " 0.09413650631904602,\n",
       " 0.08856786042451859,\n",
       " 0.09831223636865616,\n",
       " 0.11220288276672363,\n",
       " 0.16885653138160706,\n",
       " 0.05751259624958038,\n",
       " 0.08280667662620544,\n",
       " 0.047959666699171066,\n",
       " 0.10709590464830399,\n",
       " 0.08227124810218811,\n",
       " 0.07882507145404816,\n",
       " 0.10907869786024094,\n",
       " 0.1467728167772293,\n",
       " 0.09243924170732498,\n",
       " 0.11733578890562057,\n",
       " 0.1302337646484375,\n",
       " 0.09283209592103958,\n",
       " 0.1508874148130417,\n",
       " 0.03945254161953926,\n",
       " 0.1363516002893448,\n",
       " 0.13554523885250092,\n",
       " 0.11254001408815384,\n",
       " 0.06373754143714905,\n",
       " 0.10437512397766113,\n",
       " 0.03472036495804787,\n",
       " 0.03794306889176369,\n",
       " 0.10527841001749039,\n",
       " 0.07901317626237869,\n",
       " 0.13929273188114166,\n",
       " 0.09628549963235855,\n",
       " 0.09744103997945786,\n",
       " 0.045447882264852524,\n",
       " 0.05158607289195061,\n",
       " 0.08393539488315582,\n",
       " 0.12676534056663513,\n",
       " 0.11520747095346451,\n",
       " 0.04866157844662666,\n",
       " 0.1616203784942627,\n",
       " 0.11330469697713852,\n",
       " 0.11382848769426346,\n",
       " 0.11695767939090729,\n",
       " 0.15679098665714264,\n",
       " 0.08619324862957001,\n",
       " 0.08554524928331375,\n",
       " 0.06409889459609985,\n",
       " 0.06079039350152016,\n",
       " 0.09416162967681885,\n",
       " 0.058714259415864944,\n",
       " 0.08764562755823135,\n",
       " 0.06288821250200272,\n",
       " 0.08428948372602463,\n",
       " 0.10537207126617432,\n",
       " 0.10981985926628113,\n",
       " 0.10012862086296082,\n",
       " 0.09727130830287933,\n",
       " 0.07042926549911499,\n",
       " 0.14421921968460083,\n",
       " 0.0822020173072815,\n",
       " 0.07163888216018677,\n",
       " 0.04837822914123535,\n",
       " 0.10684885084629059,\n",
       " 0.07673798501491547,\n",
       " 0.07205796241760254,\n",
       " 0.07338667660951614,\n",
       " 0.10249713063240051,\n",
       " 0.10072409361600876,\n",
       " 0.11819221824407578,\n",
       " 0.09630228579044342,\n",
       " 0.08744221925735474,\n",
       " 0.07231869548559189,\n",
       " 0.06554257124662399,\n",
       " 0.1364639401435852,\n",
       " 0.06694483011960983,\n",
       " 0.04833551123738289,\n",
       " 0.10524529963731766,\n",
       " 0.11552342027425766,\n",
       " 0.09061793237924576,\n",
       " 0.11418911814689636,\n",
       " 0.13236694037914276,\n",
       " 0.09544217586517334,\n",
       " 0.05530627816915512,\n",
       " 0.09878852963447571,\n",
       " 0.06751744449138641,\n",
       " 0.10453249514102936,\n",
       " 0.10771223902702332,\n",
       " 0.06553516536951065,\n",
       " 0.09241476655006409,\n",
       " 0.10840251296758652,\n",
       " 0.10938838124275208,\n",
       " 0.15745221078395844,\n",
       " 0.08904831111431122,\n",
       " 0.057620614767074585,\n",
       " 0.08202244341373444,\n",
       " 0.123760886490345,\n",
       " 0.05551855266094208,\n",
       " 0.09920692443847656,\n",
       " 0.05934905260801315,\n",
       " 0.13523827493190765,\n",
       " 0.1015978679060936,\n",
       " 0.05670618638396263,\n",
       " 0.0779522955417633,\n",
       " 0.05190663039684296,\n",
       " 0.11103294044733047,\n",
       " 0.09469139575958252,\n",
       " 0.0896507203578949,\n",
       " 0.10945726186037064,\n",
       " 0.08377868682146072,\n",
       " 0.09262782335281372,\n",
       " 0.13722608983516693,\n",
       " 0.07670903205871582,\n",
       " 0.06740021705627441,\n",
       " 0.19424223899841309,\n",
       " 0.10233452171087265,\n",
       " 0.05837119370698929,\n",
       " 0.10899443924427032,\n",
       " 0.07649639993906021,\n",
       " 0.03248630091547966,\n",
       " 0.15494075417518616,\n",
       " 0.0681026428937912,\n",
       " 0.10030520707368851,\n",
       " 0.1359827220439911,\n",
       " 0.08494008332490921,\n",
       " 0.06648009270429611,\n",
       " 0.09903077781200409,\n",
       " 0.06221270188689232]"
      ]
     },
     "execution_count": 16,
     "metadata": {},
     "output_type": "execute_result"
    }
   ],
   "source": [
    "results[1]['results']['validation']['scalar']['loss']"
   ]
  }
 ],
 "metadata": {
  "kernelspec": {
   "display_name": "Python 3 (ipykernel)",
   "language": "python",
   "name": "python3"
  },
  "language_info": {
   "codemirror_mode": {
    "name": "ipython",
    "version": 3
   },
   "file_extension": ".py",
   "mimetype": "text/x-python",
   "name": "python",
   "nbconvert_exporter": "python",
   "pygments_lexer": "ipython3",
   "version": "3.8.12"
  }
 },
 "nbformat": 4,
 "nbformat_minor": 5
}
