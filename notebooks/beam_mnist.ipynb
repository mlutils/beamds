{
 "cells": [
  {
   "cell_type": "code",
   "execution_count": 1,
   "id": "c974cdd9",
   "metadata": {},
   "outputs": [],
   "source": [
    "%load_ext autoreload\n",
    "%autoreload 2\n",
    "\n",
    "import torch\n",
    "import torchvision\n",
    "import torch.nn.functional as F\n",
    "from torch import nn\n",
    "from sklearn.metrics import precision_recall_fscore_support\n",
    "import numpy as np\n",
    "\n",
    "import sys\n",
    "sys.path.append('..')\n",
    "\n",
    "from src.beam import beam_arguments, Experiment\n",
    "from src.beam import UniversalDataset, UniversalBatchSampler\n",
    "from src.beam import Algorithm\n",
    "from src.beam import LinearNet\n",
    "\n",
    "from src.beam import DataTensor\n",
    "from src.beam.utils import is_notebook\n",
    "\n",
    "from mnist_example import run_mnist, mnist_algorithm_generator"
   ]
  },
  {
   "cell_type": "code",
   "execution_count": 2,
   "id": "3fb14c31-398b-48b6-ade7-cfdb06d6d518",
   "metadata": {},
   "outputs": [],
   "source": [
    "# path_to_data = '/localdata/elads/data/datasets/mnist'\n",
    "# root_dir = '/localdata/elads/data/resutls'\n",
    "\n",
    "path_to_data = '/home/shared/data//dataset/mnist'\n",
    "root_dir = '/home/shared/data/results'"
   ]
  },
  {
   "cell_type": "markdown",
   "id": "6acd15d6-c679-432d-b024-b53ba1a55877",
   "metadata": {},
   "source": [
    "## Training with two workers"
   ]
  },
  {
   "cell_type": "code",
   "execution_count": 3,
   "id": "34a8cbe0-f4cf-4e10-ba8b-3da8875f6122",
   "metadata": {},
   "outputs": [
    {
     "name": "stdout",
     "output_type": "stream",
     "text": [
      "\u001b[32m2022-07-17 11:18:29\u001b[0m | \u001b[1mINFO\u001b[0m | \u001b[1mDeleting old experiment\u001b[0m\n",
      "\u001b[32m2022-07-17 11:18:29\u001b[0m | \u001b[1mINFO\u001b[0m | \u001b[1mExperiment directory is: /home/shared/data/results/mnist/MNISTAlgorithm/debug/0096_20220717_111829\u001b[0m\n",
      "\u001b[32m2022-07-17 11:18:29\u001b[0m | \u001b[1mINFO\u001b[0m | \u001b[1mbeam project: mnist\u001b[0m\n",
      "\u001b[32m2022-07-17 11:18:29\u001b[0m | \u001b[1mINFO\u001b[0m | \u001b[1mExperiment Hyperparameters\u001b[0m\n",
      "\u001b[32m2022-07-17 11:18:29\u001b[0m | \u001b[1mINFO\u001b[0m | \u001b[1mproject_name: mnist\u001b[0m\n",
      "\u001b[32m2022-07-17 11:18:29\u001b[0m | \u001b[1mINFO\u001b[0m | \u001b[1malgorithm: MNISTAlgorithm\u001b[0m\n",
      "\u001b[32m2022-07-17 11:18:29\u001b[0m | \u001b[1mINFO\u001b[0m | \u001b[1midentifier: debug\u001b[0m\n",
      "\u001b[32m2022-07-17 11:18:29\u001b[0m | \u001b[1mINFO\u001b[0m | \u001b[1mmp_port: random\u001b[0m\n",
      "\u001b[32m2022-07-17 11:18:29\u001b[0m | \u001b[1mINFO\u001b[0m | \u001b[1mroot_dir: /home/shared/data/results\u001b[0m\n",
      "\u001b[32m2022-07-17 11:18:29\u001b[0m | \u001b[1mINFO\u001b[0m | \u001b[1mreload: False\u001b[0m\n",
      "\u001b[32m2022-07-17 11:18:29\u001b[0m | \u001b[1mINFO\u001b[0m | \u001b[1mresume: -1\u001b[0m\n",
      "\u001b[32m2022-07-17 11:18:29\u001b[0m | \u001b[1mINFO\u001b[0m | \u001b[1moverride: True\u001b[0m\n",
      "\u001b[32m2022-07-17 11:18:29\u001b[0m | \u001b[1mINFO\u001b[0m | \u001b[1mcpu_workers: 0\u001b[0m\n",
      "\u001b[32m2022-07-17 11:18:29\u001b[0m | \u001b[1mINFO\u001b[0m | \u001b[1mdevice: 0\u001b[0m\n",
      "\u001b[32m2022-07-17 11:18:29\u001b[0m | \u001b[1mINFO\u001b[0m | \u001b[1mparallel: 2\u001b[0m\n",
      "\u001b[32m2022-07-17 11:18:29\u001b[0m | \u001b[1mINFO\u001b[0m | \u001b[1mtensorboard: True\u001b[0m\n",
      "\u001b[32m2022-07-17 11:18:29\u001b[0m | \u001b[1mINFO\u001b[0m | \u001b[1mlognet: True\u001b[0m\n",
      "\u001b[32m2022-07-17 11:18:29\u001b[0m | \u001b[1mINFO\u001b[0m | \u001b[1mdeterministic: False\u001b[0m\n",
      "\u001b[32m2022-07-17 11:18:29\u001b[0m | \u001b[1mINFO\u001b[0m | \u001b[1mscale_epoch_by_batch_size: True\u001b[0m\n",
      "\u001b[32m2022-07-17 11:18:29\u001b[0m | \u001b[1mINFO\u001b[0m | \u001b[1mhalf: False\u001b[0m\n",
      "\u001b[32m2022-07-17 11:18:29\u001b[0m | \u001b[1mINFO\u001b[0m | \u001b[1mamp: False\u001b[0m\n",
      "\u001b[32m2022-07-17 11:18:29\u001b[0m | \u001b[1mINFO\u001b[0m | \u001b[1mstore_initial_weights: False\u001b[0m\n",
      "\u001b[32m2022-07-17 11:18:29\u001b[0m | \u001b[1mINFO\u001b[0m | \u001b[1moversample: False\u001b[0m\n",
      "\u001b[32m2022-07-17 11:18:29\u001b[0m | \u001b[1mINFO\u001b[0m | \u001b[1minit: ortho\u001b[0m\n",
      "\u001b[32m2022-07-17 11:18:29\u001b[0m | \u001b[1mINFO\u001b[0m | \u001b[1mseed: 0\u001b[0m\n",
      "\u001b[32m2022-07-17 11:18:29\u001b[0m | \u001b[1mINFO\u001b[0m | \u001b[1msplit_dataset_seed: 5782\u001b[0m\n",
      "\u001b[32m2022-07-17 11:18:29\u001b[0m | \u001b[1mINFO\u001b[0m | \u001b[1mtotal_steps: 1000000\u001b[0m\n",
      "\u001b[32m2022-07-17 11:18:29\u001b[0m | \u001b[1mINFO\u001b[0m | \u001b[1mepoch_length: 100000\u001b[0m\n",
      "\u001b[32m2022-07-17 11:18:29\u001b[0m | \u001b[1mINFO\u001b[0m | \u001b[1mepoch_length_train: None\u001b[0m\n",
      "\u001b[32m2022-07-17 11:18:29\u001b[0m | \u001b[1mINFO\u001b[0m | \u001b[1mepoch_length_eval: None\u001b[0m\n",
      "\u001b[32m2022-07-17 11:18:29\u001b[0m | \u001b[1mINFO\u001b[0m | \u001b[1mn_epochs: 2\u001b[0m\n",
      "\u001b[32m2022-07-17 11:18:29\u001b[0m | \u001b[1mINFO\u001b[0m | \u001b[1mbatch_size: 256\u001b[0m\n",
      "\u001b[32m2022-07-17 11:18:29\u001b[0m | \u001b[1mINFO\u001b[0m | \u001b[1mbatch_size_train: None\u001b[0m\n",
      "\u001b[32m2022-07-17 11:18:29\u001b[0m | \u001b[1mINFO\u001b[0m | \u001b[1mbatch_size_eval: None\u001b[0m\n",
      "\u001b[32m2022-07-17 11:18:29\u001b[0m | \u001b[1mINFO\u001b[0m | \u001b[1mlr_dense: 0.001\u001b[0m\n",
      "\u001b[32m2022-07-17 11:18:29\u001b[0m | \u001b[1mINFO\u001b[0m | \u001b[1mlr_sparse: 0.01\u001b[0m\n",
      "\u001b[32m2022-07-17 11:18:29\u001b[0m | \u001b[1mINFO\u001b[0m | \u001b[1mweight_decay: 0.0\u001b[0m\n",
      "\u001b[32m2022-07-17 11:18:29\u001b[0m | \u001b[1mINFO\u001b[0m | \u001b[1meps: 0.0001\u001b[0m\n",
      "\u001b[32m2022-07-17 11:18:29\u001b[0m | \u001b[1mINFO\u001b[0m | \u001b[1mbeta1: 0.9\u001b[0m\n",
      "\u001b[32m2022-07-17 11:18:29\u001b[0m | \u001b[1mINFO\u001b[0m | \u001b[1mbeta2: 0.999\u001b[0m\n",
      "\u001b[32m2022-07-17 11:18:29\u001b[0m | \u001b[1mINFO\u001b[0m | \u001b[1mclip_gradient: 1.0\u001b[0m\n",
      "\u001b[32m2022-07-17 11:18:29\u001b[0m | \u001b[1mINFO\u001b[0m | \u001b[1maccumulate: 1\u001b[0m\n",
      "\u001b[32m2022-07-17 11:18:29\u001b[0m | \u001b[1mINFO\u001b[0m | \u001b[1moversampling_weight_factor: 1.0\u001b[0m\n",
      "\u001b[32m2022-07-17 11:18:29\u001b[0m | \u001b[1mINFO\u001b[0m | \u001b[1mexpansion_size: 10000000\u001b[0m\n",
      "\u001b[32m2022-07-17 11:18:29\u001b[0m | \u001b[1mINFO\u001b[0m | \u001b[1mprint_results: True\u001b[0m\n",
      "\u001b[32m2022-07-17 11:18:29\u001b[0m | \u001b[1mINFO\u001b[0m | \u001b[1mvisualize_weights: True\u001b[0m\n",
      "\u001b[32m2022-07-17 11:18:29\u001b[0m | \u001b[1mINFO\u001b[0m | \u001b[1menable_tqdm: True\u001b[0m\n",
      "\u001b[32m2022-07-17 11:18:29\u001b[0m | \u001b[1mINFO\u001b[0m | \u001b[1mtqdm_threshold: 10.0\u001b[0m\n",
      "\u001b[32m2022-07-17 11:18:29\u001b[0m | \u001b[1mINFO\u001b[0m | \u001b[1mtqdm_stats: 1.0\u001b[0m\n",
      "\u001b[32m2022-07-17 11:18:29\u001b[0m | \u001b[1mINFO\u001b[0m | \u001b[1mvisualize_results: yes\u001b[0m\n",
      "\u001b[32m2022-07-17 11:18:29\u001b[0m | \u001b[1mINFO\u001b[0m | \u001b[1mstore_results: logscale\u001b[0m\n",
      "\u001b[32m2022-07-17 11:18:29\u001b[0m | \u001b[1mINFO\u001b[0m | \u001b[1mstore_networks: logscale\u001b[0m\n",
      "\u001b[32m2022-07-17 11:18:29\u001b[0m | \u001b[1mINFO\u001b[0m | \u001b[1mpath_to_data: /home/shared/data//dataset/mnist\u001b[0m\n"
     ]
    }
   ],
   "source": [
    "# here you put all actions which are performed only once before initializing the workers\n",
    "# for example, setting running arguments and experiment:\n",
    "\n",
    "args = beam_arguments(f\"--project-name=mnist --root-dir={root_dir} --algorithm=MNISTAlgorithm\",\n",
    "                      \"--epoch-length=100000 --n-epochs=2 --clip=1 --parallel=2 --override\",\n",
    "                      path_to_data=path_to_data)\n",
    "\n",
    "experiment = Experiment(args)"
   ]
  },
  {
   "cell_type": "code",
   "execution_count": 4,
   "id": "560a585c-cb5f-4cbc-bc30-07c4004bbb5e",
   "metadata": {},
   "outputs": [
    {
     "name": "stdout",
     "output_type": "stream",
     "text": [
      "\u001b[32m2022-07-14 13:50:42\u001b[0m | \u001b[1mINFO    \u001b[0m | \u001b[1mInitializing 2 parallel workers\u001b[0m\n",
      "\u001b[32m2022-07-14 13:50:42\u001b[0m | \u001b[1mINFO    \u001b[0m | \u001b[1mMultiprocessing port is: 50373\u001b[0m\n"
     ]
    },
    {
     "name": "stderr",
     "output_type": "stream",
     "text": [
      "[W socket.cpp:558] [c10d] The client socket has failed to connect to [localhost]:50373 (errno: 99 - Cannot assign requested address).\n"
     ]
    },
    {
     "name": "stdout",
     "output_type": "stream",
     "text": [
      "\u001b[32m2022-07-14 13:50:45\u001b[0m | \u001b[1mINFO    \u001b[0m | \u001b[1mWorker: 2/2 is running...\u001b[0m\n",
      "\u001b[32m2022-07-14 13:50:46\u001b[0m | \u001b[1mINFO    \u001b[0m | \u001b[1mWorker: 1/2 is running...\u001b[0m\n"
     ]
    },
    {
     "name": "stderr",
     "output_type": "stream",
     "text": [
      "2022-07-14 13:50:53.697103: I tensorflow/core/util/util.cc:169] oneDNN custom operations are on. You may see slightly different numerical results due to floating-point round-off errors from different computation orders. To turn them off, set the environment variable `TF_ENABLE_ONEDNN_OPTS=0`.\n",
      "train: 100%|██████████| 389/389 [00:05<00:00, 74.21it/s]\n",
      "validation: 100%|██████████| 389/389 [00:01<00:00, 200.82it/s]"
     ]
    },
    {
     "name": "stdout",
     "output_type": "stream",
     "text": [
      "\u001b[32m2022-07-14 13:51:02\u001b[0m | \u001b[1mINFO    \u001b[0m | \u001b[1m\u001b[0m\n",
      "\u001b[32m2022-07-14 13:51:02\u001b[0m | \u001b[1mINFO    \u001b[0m | \u001b[1mFinished epoch 1/2:\u001b[0m\n",
      "\u001b[32m2022-07-14 13:51:02\u001b[0m | \u001b[1mINFO    \u001b[0m | \u001b[1mtrain:\u001b[0m\n",
      "\u001b[32m2022-07-14 13:51:02\u001b[0m | \u001b[1mINFO    \u001b[0m | \u001b[1mloss:           | avg: 0.3067    | std: 0.3881    | min: 0.04603   | 25%: 0.1278    | 50%: 0.2004    | 75%: 0.3075    | max: 2.303     \u001b[0m\n",
      "\u001b[32m2022-07-14 13:51:02\u001b[0m | \u001b[1mINFO    \u001b[0m | \u001b[1macc:            | avg: 0.9125    | std: 0.1094    | min: 0.1094    | 25%: 0.9062    | 50%: 0.9414    | 75%: 0.9609    | max: 0.9883    \u001b[0m\n",
      "\u001b[32m2022-07-14 13:51:02\u001b[0m | \u001b[1mINFO    \u001b[0m | \u001b[1mlr:             | avg: 0.00099   | std: nan       | min: 0.00099   | 25%: 0.00099   | 50%: 0.00099   | 75%: 0.00099   | max: 0.00099   \u001b[0m\n",
      "\u001b[32m2022-07-14 13:51:02\u001b[0m | \u001b[1mINFO    \u001b[0m | \u001b[1mvalidation:\u001b[0m\n",
      "\u001b[32m2022-07-14 13:51:02\u001b[0m | \u001b[1mINFO    \u001b[0m | \u001b[1mloss:           | avg: 0.1292    | std: 0.03799   | min: 0.03749   | 25%: 0.1026    | 50%: 0.128     | 75%: 0.1543    | max: 0.2916    \u001b[0m\n",
      "\u001b[32m2022-07-14 13:51:02\u001b[0m | \u001b[1mINFO    \u001b[0m | \u001b[1macc:            | avg: 0.9601    | std: 0.01262   | min: 0.9258    | 25%: 0.9531    | 50%: 0.9609    | 75%: 0.9688    | max: 0.9922    \u001b[0m\n"
     ]
    },
    {
     "name": "stderr",
     "output_type": "stream",
     "text": [
      "\n",
      "train: 100%|██████████| 389/389 [00:04<00:00, 81.68it/s]\n",
      "validation: 100%|██████████| 389/389 [00:02<00:00, 159.37it/s]"
     ]
    },
    {
     "name": "stdout",
     "output_type": "stream",
     "text": [
      "\u001b[32m2022-07-14 13:51:09\u001b[0m | \u001b[1mINFO    \u001b[0m | \u001b[1m\u001b[0m\n",
      "\u001b[32m2022-07-14 13:51:09\u001b[0m | \u001b[1mINFO    \u001b[0m | \u001b[1mFinished epoch 2/2:\u001b[0m\n",
      "\u001b[32m2022-07-14 13:51:09\u001b[0m | \u001b[1mINFO    \u001b[0m | \u001b[1mtrain:\u001b[0m\n",
      "\u001b[32m2022-07-14 13:51:09\u001b[0m | \u001b[1mINFO    \u001b[0m | \u001b[1mloss:           | avg: 0.06059   | std: 0.02807   | min: 0.008321  | 25%: 0.03999   | 50%: 0.05664   | 75%: 0.07663   | max: 0.1495    \u001b[0m\n",
      "\u001b[32m2022-07-14 13:51:09\u001b[0m | \u001b[1mINFO    \u001b[0m | \u001b[1macc:            | avg: 0.9823    | std: 0.009245  | min: 0.9531    | 25%: 0.9766    | 50%: 0.9844    | 75%: 0.9883    | max: 1.0       \u001b[0m\n",
      "\u001b[32m2022-07-14 13:51:09\u001b[0m | \u001b[1mINFO    \u001b[0m | \u001b[1mlr:             | avg: 0.0009801 | std: nan       | min: 0.0009801 | 25%: 0.0009801 | 50%: 0.0009801 | 75%: 0.0009801 | max: 0.0009801 \u001b[0m\n",
      "\u001b[32m2022-07-14 13:51:09\u001b[0m | \u001b[1mINFO    \u001b[0m | \u001b[1mvalidation:\u001b[0m\n",
      "\u001b[32m2022-07-14 13:51:09\u001b[0m | \u001b[1mINFO    \u001b[0m | \u001b[1mloss:           | avg: 0.08654   | std: 0.03232   | min: 0.02153   | 25%: 0.06247   | 50%: 0.08078   | 75%: 0.1068    | max: 0.1949    \u001b[0m\n",
      "\u001b[32m2022-07-14 13:51:09\u001b[0m | \u001b[1mINFO    \u001b[0m | \u001b[1macc:            | avg: 0.9737    | std: 0.009799  | min: 0.9375    | 25%: 0.9688    | 50%: 0.9766    | 75%: 0.9805    | max: 0.9961    \u001b[0m\n",
      "\u001b[32m2022-07-14 13:51:16\u001b[0m | \u001b[1mINFO    \u001b[0m | \u001b[1mReload experiment from checkpoint: /home/shared/data/results/mnist/MNISTAlgorithm/debug/0091_20220714_135040/checkpoints/checkpoint_000002\u001b[0m\n",
      "\u001b[32m2022-07-14 13:51:16\u001b[0m | \u001b[1mINFO    \u001b[0m | \u001b[1mLoading network state from: /home/shared/data/results/mnist/MNISTAlgorithm/debug/0091_20220714_135040/checkpoints/checkpoint_000002\u001b[0m\n"
     ]
    }
   ],
   "source": [
    "alg = experiment(mnist_algorithm_generator)"
   ]
  },
  {
   "cell_type": "code",
   "execution_count": 7,
   "id": "7fee1090-24c3-4984-96fc-3b09a518b083",
   "metadata": {},
   "outputs": [
    {
     "data": {
      "application/vnd.jupyter.widget-view+json": {
       "model_id": "1c415c0247974b12b3b9d9c61f78188f",
       "version_major": 2,
       "version_minor": 0
      },
      "text/plain": [
       "test:   0%|          | 0/40 [00:00<?, ?it/s]"
      ]
     },
     "metadata": {},
     "output_type": "display_data"
    }
   ],
   "source": [
    "results = alg.evaluate('test')"
   ]
  },
  {
   "cell_type": "code",
   "execution_count": 14,
   "id": "84db50dc-cabf-487e-9c0a-08e4a14baeea",
   "metadata": {},
   "outputs": [],
   "source": [
    "y_pred = torch.cat(results['predictions']['y_pred'])"
   ]
  },
  {
   "cell_type": "code",
   "execution_count": 19,
   "id": "cae9e08f-cd8c-4434-930f-9432308b5aa2",
   "metadata": {},
   "outputs": [],
   "source": [
    "target = torch.cat(results['predictions']['target'])"
   ]
  },
  {
   "cell_type": "code",
   "execution_count": 20,
   "id": "149a887b-6745-4bd5-a330-4a5abe24aef0",
   "metadata": {},
   "outputs": [
    {
     "data": {
      "text/plain": [
       "tensor([7, 2, 1,  ..., 4, 5, 6], device='cuda:0')"
      ]
     },
     "execution_count": 20,
     "metadata": {},
     "output_type": "execute_result"
    }
   ],
   "source": [
    "target"
   ]
  },
  {
   "cell_type": "code",
   "execution_count": 25,
   "id": "332a6770-73ac-4948-b078-b00f289c9a11",
   "metadata": {},
   "outputs": [
    {
     "data": {
      "text/plain": [
       "dict_keys(['y_pred', 'target'])"
      ]
     },
     "execution_count": 25,
     "metadata": {},
     "output_type": "execute_result"
    }
   ],
   "source": [
    "results['predictions'].keys()"
   ]
  },
  {
   "cell_type": "code",
   "execution_count": 24,
   "id": "a7d6bf81-a129-488f-be12-d8410c48e264",
   "metadata": {},
   "outputs": [
    {
     "data": {
      "text/plain": [
       "dict_keys(['precision', 'recall', 'fscore', 'support'])"
      ]
     },
     "execution_count": 24,
     "metadata": {},
     "output_type": "execute_result"
    }
   ],
   "source": [
    "results['metrics'].keys()"
   ]
  },
  {
   "cell_type": "code",
   "execution_count": 19,
   "id": "baf4908a-d929-4225-9d1b-f7e325b1a411",
   "metadata": {},
   "outputs": [
    {
     "name": "stdout",
     "output_type": "stream",
     "text": [
      "13002\n"
     ]
    },
    {
     "data": {
      "text/html": [
       "\n",
       "      <iframe id=\"tensorboard-frame-b7062a4b0259182e\" width=\"100%\" height=\"800\" frameborder=\"0\">\n",
       "      </iframe>\n",
       "      <script>\n",
       "        (function() {\n",
       "          const frame = document.getElementById(\"tensorboard-frame-b7062a4b0259182e\");\n",
       "          const url = new URL(\"/\", window.location);\n",
       "          const port = 13002;\n",
       "          if (port) {\n",
       "            url.port = port;\n",
       "          }\n",
       "          frame.src = url;\n",
       "        })();\n",
       "      </script>\n",
       "    "
      ],
      "text/plain": [
       "<IPython.core.display.HTML object>"
      ]
     },
     "metadata": {},
     "output_type": "display_data"
    }
   ],
   "source": [
    "experiment.tensorboard()"
   ]
  },
  {
   "cell_type": "markdown",
   "id": "3d15a46d",
   "metadata": {},
   "source": [
    "## Training with a single worker"
   ]
  },
  {
   "cell_type": "code",
   "execution_count": 3,
   "id": "f79ff3f1",
   "metadata": {},
   "outputs": [
    {
     "name": "stdout",
     "output_type": "stream",
     "text": [
      "\u001b[32m2022-07-17 14:39:06\u001b[0m | \u001b[1mINFO\u001b[0m | \u001b[1mCreating new experiment\u001b[0m\n",
      "\u001b[32m2022-07-17 14:39:06\u001b[0m | \u001b[1mINFO\u001b[0m | \u001b[1mExperiment directory is: /home/shared/data/results/mnist/MNISTAlgorithm/debug/0003_20220717_143906\u001b[0m\n",
      "\u001b[32m2022-07-17 14:39:06\u001b[0m | \u001b[1mINFO\u001b[0m | \u001b[1mbeam project: mnist\u001b[0m\n",
      "\u001b[32m2022-07-17 14:39:06\u001b[0m | \u001b[1mINFO\u001b[0m | \u001b[1mExperiment Hyperparameters\u001b[0m\n",
      "\u001b[32m2022-07-17 14:39:06\u001b[0m | \u001b[1mINFO\u001b[0m | \u001b[1mproject_name: mnist\u001b[0m\n",
      "\u001b[32m2022-07-17 14:39:06\u001b[0m | \u001b[1mINFO\u001b[0m | \u001b[1malgorithm: MNISTAlgorithm\u001b[0m\n",
      "\u001b[32m2022-07-17 14:39:06\u001b[0m | \u001b[1mINFO\u001b[0m | \u001b[1midentifier: debug\u001b[0m\n",
      "\u001b[32m2022-07-17 14:39:06\u001b[0m | \u001b[1mINFO\u001b[0m | \u001b[1mmp_port: random\u001b[0m\n",
      "\u001b[32m2022-07-17 14:39:06\u001b[0m | \u001b[1mINFO\u001b[0m | \u001b[1mroot_dir: /home/shared/data/results\u001b[0m\n",
      "\u001b[32m2022-07-17 14:39:06\u001b[0m | \u001b[1mINFO\u001b[0m | \u001b[1mreload: False\u001b[0m\n",
      "\u001b[32m2022-07-17 14:39:06\u001b[0m | \u001b[1mINFO\u001b[0m | \u001b[1mresume: -1\u001b[0m\n",
      "\u001b[32m2022-07-17 14:39:06\u001b[0m | \u001b[1mINFO\u001b[0m | \u001b[1moverride: False\u001b[0m\n",
      "\u001b[32m2022-07-17 14:39:06\u001b[0m | \u001b[1mINFO\u001b[0m | \u001b[1mcpu_workers: 0\u001b[0m\n",
      "\u001b[32m2022-07-17 14:39:06\u001b[0m | \u001b[1mINFO\u001b[0m | \u001b[1mdevice: cpu\u001b[0m\n",
      "\u001b[32m2022-07-17 14:39:06\u001b[0m | \u001b[1mINFO\u001b[0m | \u001b[1mparallel: 1\u001b[0m\n",
      "\u001b[32m2022-07-17 14:39:06\u001b[0m | \u001b[1mINFO\u001b[0m | \u001b[1mtensorboard: True\u001b[0m\n",
      "\u001b[32m2022-07-17 14:39:06\u001b[0m | \u001b[1mINFO\u001b[0m | \u001b[1mlognet: True\u001b[0m\n",
      "\u001b[32m2022-07-17 14:39:06\u001b[0m | \u001b[1mINFO\u001b[0m | \u001b[1mdeterministic: False\u001b[0m\n",
      "\u001b[32m2022-07-17 14:39:06\u001b[0m | \u001b[1mINFO\u001b[0m | \u001b[1mscale_epoch_by_batch_size: True\u001b[0m\n",
      "\u001b[32m2022-07-17 14:39:06\u001b[0m | \u001b[1mINFO\u001b[0m | \u001b[1mhalf: False\u001b[0m\n",
      "\u001b[32m2022-07-17 14:39:06\u001b[0m | \u001b[1mINFO\u001b[0m | \u001b[1mamp: True\u001b[0m\n",
      "\u001b[32m2022-07-17 14:39:06\u001b[0m | \u001b[1mINFO\u001b[0m | \u001b[1mstore_initial_weights: False\u001b[0m\n",
      "\u001b[32m2022-07-17 14:39:06\u001b[0m | \u001b[1mINFO\u001b[0m | \u001b[1moversample: False\u001b[0m\n",
      "\u001b[32m2022-07-17 14:39:06\u001b[0m | \u001b[1mINFO\u001b[0m | \u001b[1minit: ortho\u001b[0m\n",
      "\u001b[32m2022-07-17 14:39:06\u001b[0m | \u001b[1mINFO\u001b[0m | \u001b[1mseed: 0\u001b[0m\n",
      "\u001b[32m2022-07-17 14:39:06\u001b[0m | \u001b[1mINFO\u001b[0m | \u001b[1msplit_dataset_seed: 5782\u001b[0m\n",
      "\u001b[32m2022-07-17 14:39:06\u001b[0m | \u001b[1mINFO\u001b[0m | \u001b[1mtotal_steps: 1000000\u001b[0m\n",
      "\u001b[32m2022-07-17 14:39:06\u001b[0m | \u001b[1mINFO\u001b[0m | \u001b[1mepoch_length: 200000\u001b[0m\n",
      "\u001b[32m2022-07-17 14:39:06\u001b[0m | \u001b[1mINFO\u001b[0m | \u001b[1mepoch_length_train: None\u001b[0m\n",
      "\u001b[32m2022-07-17 14:39:06\u001b[0m | \u001b[1mINFO\u001b[0m | \u001b[1mepoch_length_eval: None\u001b[0m\n",
      "\u001b[32m2022-07-17 14:39:06\u001b[0m | \u001b[1mINFO\u001b[0m | \u001b[1mn_epochs: 2\u001b[0m\n",
      "\u001b[32m2022-07-17 14:39:06\u001b[0m | \u001b[1mINFO\u001b[0m | \u001b[1mbatch_size: 256\u001b[0m\n",
      "\u001b[32m2022-07-17 14:39:06\u001b[0m | \u001b[1mINFO\u001b[0m | \u001b[1mbatch_size_train: None\u001b[0m\n",
      "\u001b[32m2022-07-17 14:39:06\u001b[0m | \u001b[1mINFO\u001b[0m | \u001b[1mbatch_size_eval: None\u001b[0m\n",
      "\u001b[32m2022-07-17 14:39:06\u001b[0m | \u001b[1mINFO\u001b[0m | \u001b[1mlr_dense: 0.001\u001b[0m\n",
      "\u001b[32m2022-07-17 14:39:06\u001b[0m | \u001b[1mINFO\u001b[0m | \u001b[1mlr_sparse: 0.01\u001b[0m\n",
      "\u001b[32m2022-07-17 14:39:06\u001b[0m | \u001b[1mINFO\u001b[0m | \u001b[1mweight_decay: 0.0\u001b[0m\n",
      "\u001b[32m2022-07-17 14:39:06\u001b[0m | \u001b[1mINFO\u001b[0m | \u001b[1meps: 0.0001\u001b[0m\n",
      "\u001b[32m2022-07-17 14:39:06\u001b[0m | \u001b[1mINFO\u001b[0m | \u001b[1mbeta1: 0.9\u001b[0m\n",
      "\u001b[32m2022-07-17 14:39:06\u001b[0m | \u001b[1mINFO\u001b[0m | \u001b[1mbeta2: 0.999\u001b[0m\n",
      "\u001b[32m2022-07-17 14:39:06\u001b[0m | \u001b[1mINFO\u001b[0m | \u001b[1mclip_gradient: 1.0\u001b[0m\n",
      "\u001b[32m2022-07-17 14:39:06\u001b[0m | \u001b[1mINFO\u001b[0m | \u001b[1maccumulate: 1\u001b[0m\n",
      "\u001b[32m2022-07-17 14:39:06\u001b[0m | \u001b[1mINFO\u001b[0m | \u001b[1moversampling_weight_factor: 1.0\u001b[0m\n",
      "\u001b[32m2022-07-17 14:39:06\u001b[0m | \u001b[1mINFO\u001b[0m | \u001b[1mexpansion_size: 10000000\u001b[0m\n",
      "\u001b[32m2022-07-17 14:39:06\u001b[0m | \u001b[1mINFO\u001b[0m | \u001b[1mprint_results: True\u001b[0m\n",
      "\u001b[32m2022-07-17 14:39:06\u001b[0m | \u001b[1mINFO\u001b[0m | \u001b[1mvisualize_weights: True\u001b[0m\n",
      "\u001b[32m2022-07-17 14:39:06\u001b[0m | \u001b[1mINFO\u001b[0m | \u001b[1menable_tqdm: True\u001b[0m\n",
      "\u001b[32m2022-07-17 14:39:06\u001b[0m | \u001b[1mINFO\u001b[0m | \u001b[1mtqdm_threshold: 10.0\u001b[0m\n",
      "\u001b[32m2022-07-17 14:39:06\u001b[0m | \u001b[1mINFO\u001b[0m | \u001b[1mtqdm_stats: 1.0\u001b[0m\n",
      "\u001b[32m2022-07-17 14:39:06\u001b[0m | \u001b[1mINFO\u001b[0m | \u001b[1mvisualize_results: yes\u001b[0m\n",
      "\u001b[32m2022-07-17 14:39:06\u001b[0m | \u001b[1mINFO\u001b[0m | \u001b[1mstore_results: logscale\u001b[0m\n",
      "\u001b[32m2022-07-17 14:39:06\u001b[0m | \u001b[1mINFO\u001b[0m | \u001b[1mstore_networks: logscale\u001b[0m\n",
      "\u001b[32m2022-07-17 14:39:06\u001b[0m | \u001b[1mINFO\u001b[0m | \u001b[1mpath_to_data: /home/shared/data//dataset/mnist\u001b[0m\n"
     ]
    }
   ],
   "source": [
    "# here you put all actions which are performed only once before initializing the workers\n",
    "# for example, setting running arguments and experiment:\n",
    "\n",
    "args = beam_arguments(f\"--project-name=mnist --root-dir={root_dir} --algorithm=MNISTAlgorithm --amp  --device=cpu   \", \n",
    "                      \"--epoch-length=200000 --n-epochs=2 --clip=1 --parallel=1\", path_to_data=path_to_data)\n",
    "\n",
    "experiment = Experiment(args)"
   ]
  },
  {
   "cell_type": "markdown",
   "id": "48307e00",
   "metadata": {},
   "source": [
    "we can generate an untrained algorithm with"
   ]
  },
  {
   "cell_type": "code",
   "execution_count": 4,
   "id": "ef04adc5",
   "metadata": {},
   "outputs": [],
   "source": [
    "# alg = mnist_algorithm_generator(experiment)"
   ]
  },
  {
   "cell_type": "code",
   "execution_count": 5,
   "id": "beffe7a6-280a-4abf-850a-f9a35a79f1f5",
   "metadata": {},
   "outputs": [],
   "source": [
    "# alg.fit()"
   ]
  },
  {
   "cell_type": "markdown",
   "id": "87ac0890",
   "metadata": {},
   "source": [
    "or we can apply the default training routin with"
   ]
  },
  {
   "cell_type": "code",
   "execution_count": 6,
   "id": "059e22cd",
   "metadata": {},
   "outputs": [
    {
     "name": "stdout",
     "output_type": "stream",
     "text": [
      "\u001b[32m2022-07-17 14:39:08\u001b[0m | \u001b[1mINFO\u001b[0m | \u001b[1mSingle worker mode\u001b[0m\n",
      "\u001b[32m2022-07-17 14:39:08\u001b[0m | \u001b[1mINFO\u001b[0m | \u001b[1mWorker: 1/1 is running...\u001b[0m\n"
     ]
    },
    {
     "data": {
      "application/vnd.jupyter.widget-view+json": {
       "model_id": "ae534a511d5443c9b6d5456448938f8a",
       "version_major": 2,
       "version_minor": 0
      },
      "text/plain": [
       "train:   7%|6         | 54/780 [00:00<?, ?it/s]"
      ]
     },
     "metadata": {},
     "output_type": "display_data"
    },
    {
     "name": "stdout",
     "output_type": "stream",
     "text": [
      "\u001b[32m2022-07-17 14:39:22\u001b[0m | \u001b[1mINFO\u001b[0m | \u001b[1m\u001b[0m\n",
      "\u001b[32m2022-07-17 14:39:22\u001b[0m | \u001b[1mINFO\u001b[0m | \u001b[1mFinished epoch 1/2:\u001b[0m\n",
      "\u001b[32m2022-07-17 14:39:22\u001b[0m | \u001b[1mINFO\u001b[0m | \u001b[1mtrain:\u001b[0m\n",
      "\u001b[32m2022-07-17 14:39:22\u001b[0m | \u001b[1mINFO\u001b[0m | \u001b[1mseconds:  13.32 | batches: 780 | samples:  1.997e+05 | batch_rate:  58.58 [iter/sec] | sample_rate:  1.5e+04 [iter/sec] \u001b[0m\n",
      "\u001b[32m2022-07-17 14:39:22\u001b[0m | \u001b[1mINFO\u001b[0m | \u001b[1mloss:        | avg: 0.2152    | std: 0.3088    | min: 0.01614   | 25%: 0.08416   | 50%: 0.1293    | 75%: 0.2252    | max: 2.306     \u001b[0m\n",
      "\u001b[32m2022-07-17 14:39:22\u001b[0m | \u001b[1mINFO\u001b[0m | \u001b[1macc:         | avg: 0.9384    | std: 0.0844    | min: 0.07422   | 25%: 0.9336    | 50%: 0.9609    | 75%: 0.9766    | max: 1.0       \u001b[0m\n",
      "\u001b[32m2022-07-17 14:39:22\u001b[0m | \u001b[1mINFO\u001b[0m | \u001b[1mlr:          | avg: 0.00099   | std: nan       | min: 0.00099   | 25%: 0.00099   | 50%: 0.00099   | 75%: 0.00099   | max: 0.00099   \u001b[0m\n",
      "\u001b[32m2022-07-17 14:39:22\u001b[0m | \u001b[1mINFO\u001b[0m | \u001b[1mvalidation:\u001b[0m\n",
      "\u001b[32m2022-07-17 14:39:22\u001b[0m | \u001b[1mINFO\u001b[0m | \u001b[1mseconds:  1.022 | batches: 780 | samples:  1.997e+05 | batch_rate:  763.2 [iter/sec] | sample_rate:  1.954e+05 [iter/sec] \u001b[0m\n",
      "\u001b[32m2022-07-17 14:39:22\u001b[0m | \u001b[1mINFO\u001b[0m | \u001b[1mloss:        | avg: 0.09616   | std: 0.03454   | min: 0.02346   | 25%: 0.0716    | 50%: 0.09233   | 75%: 0.1178    | max: 0.2499    \u001b[0m\n",
      "\u001b[32m2022-07-17 14:39:22\u001b[0m | \u001b[1mINFO\u001b[0m | \u001b[1macc:         | avg: 0.9702    | std: 0.01054   | min: 0.9219    | 25%: 0.9648    | 50%: 0.9727    | 75%: 0.9766    | max: 0.9961    \u001b[0m\n"
     ]
    }
   ],
   "source": [
    "alg = experiment(mnist_algorithm_generator)"
   ]
  },
  {
   "cell_type": "markdown",
   "id": "4a232d99",
   "metadata": {},
   "source": [
    "we can now access the trained algorithm"
   ]
  },
  {
   "cell_type": "code",
   "execution_count": 13,
   "id": "db7d6e6e",
   "metadata": {},
   "outputs": [
    {
     "data": {
      "text/plain": [
       "LinearNet(\n",
       "  (lin): Sequential(\n",
       "    (0): Linear(in_features=784, out_features=256, bias=True)\n",
       "    (1): ReLU()\n",
       "    (2): Linear(in_features=256, out_features=256, bias=True)\n",
       "    (3): ReLU()\n",
       "    (4): Linear(in_features=256, out_features=256, bias=True)\n",
       "    (5): ReLU()\n",
       "    (6): Linear(in_features=256, out_features=10, bias=True)\n",
       "  )\n",
       ")"
      ]
     },
     "execution_count": 13,
     "metadata": {},
     "output_type": "execute_result"
    }
   ],
   "source": [
    "alg.networks['net']"
   ]
  },
  {
   "cell_type": "markdown",
   "id": "01a60575",
   "metadata": {},
   "source": [
    "## Inference"
   ]
  },
  {
   "cell_type": "code",
   "execution_count": 14,
   "id": "96c6e643",
   "metadata": {},
   "outputs": [],
   "source": [
    "inference = alg('test')\n",
    "\n",
    "# print('Test inference results:')\n",
    "# for n, v in inference['metrics'].items():\n",
    "#     print(f'{n}:')\n",
    "#     print(v)"
   ]
  },
  {
   "cell_type": "markdown",
   "id": "da56792b",
   "metadata": {},
   "source": [
    "we can also run our own experiment routine and obtain the results"
   ]
  },
  {
   "cell_type": "code",
   "execution_count": 10,
   "id": "9bc708d3",
   "metadata": {},
   "outputs": [
    {
     "name": "stdout",
     "output_type": "stream",
     "text": [
      "\u001b[32m2022-06-01 19:58:59.572\u001b[0m | \u001b[1mINFO    \u001b[0m | \u001b[36msrc.beam.experiment\u001b[0m:\u001b[36mrun\u001b[0m:\u001b[36m425\u001b[0m - \u001b[1mSingle worker mode\u001b[0m\n",
      "\u001b[32m2022-06-01 19:58:59.573\u001b[0m | \u001b[1mINFO    \u001b[0m | \u001b[36msrc.beam.experiment\u001b[0m:\u001b[36mrun_worker\u001b[0m:\u001b[36m45\u001b[0m - \u001b[1mWorker: 1/1 is running...\u001b[0m\n"
     ]
    },
    {
     "data": {
      "application/vnd.jupyter.widget-view+json": {
       "model_id": "de1fb65ce8a5463596a2d58360567d1f",
       "version_major": 2,
       "version_minor": 0
      },
      "text/plain": [
       "train:   0%|          | 0/389 [00:00<?, ?it/s]"
      ]
     },
     "metadata": {},
     "output_type": "display_data"
    },
    {
     "data": {
      "application/vnd.jupyter.widget-view+json": {
       "model_id": "52c0aae1751a4970bfe8e1a63f2f7e7f",
       "version_major": 2,
       "version_minor": 0
      },
      "text/plain": [
       "validation:   0%|          | 0/389 [00:00<?, ?it/s]"
      ]
     },
     "metadata": {},
     "output_type": "display_data"
    },
    {
     "name": "stdout",
     "output_type": "stream",
     "text": [
      "\n",
      "\u001b[32m2022-06-01 19:59:01.451\u001b[0m | \u001b[1mINFO    \u001b[0m | \u001b[36msrc.beam.experiment\u001b[0m:\u001b[36msave_model_results\u001b[0m:\u001b[36m302\u001b[0m - \u001b[1mFinished epoch 3/2:\u001b[0m\n",
      "\u001b[32m2022-06-01 19:59:01.456\u001b[0m | \u001b[1mINFO    \u001b[0m | \u001b[36msrc.beam.experiment\u001b[0m:\u001b[36mlog_data\u001b[0m:\u001b[36m340\u001b[0m - \u001b[1mtrain:\u001b[0m\n",
      "\u001b[32m2022-06-01 19:59:01.457\u001b[0m | \u001b[1mINFO    \u001b[0m | \u001b[36msrc.beam.experiment\u001b[0m:\u001b[36mlog_data\u001b[0m:\u001b[36m344\u001b[0m - \u001b[1mloss 0.333092 \t|\u001b[0m\n",
      "\u001b[32m2022-06-01 19:59:01.458\u001b[0m | \u001b[1mINFO    \u001b[0m | \u001b[36msrc.beam.experiment\u001b[0m:\u001b[36mlog_data\u001b[0m:\u001b[36m344\u001b[0m - \u001b[1macc 0.904935 \t|\u001b[0m\n",
      "\u001b[32m2022-06-01 19:59:01.459\u001b[0m | \u001b[1mINFO    \u001b[0m | \u001b[36msrc.beam.experiment\u001b[0m:\u001b[36mlog_data\u001b[0m:\u001b[36m344\u001b[0m - \u001b[1mlr 0.00099 \t|\u001b[0m\n",
      "\u001b[32m2022-06-01 19:59:01.460\u001b[0m | \u001b[1mINFO    \u001b[0m | \u001b[36msrc.beam.experiment\u001b[0m:\u001b[36mlog_data\u001b[0m:\u001b[36m340\u001b[0m - \u001b[1mvalidation:\u001b[0m\n",
      "\u001b[32m2022-06-01 19:59:01.461\u001b[0m | \u001b[1mINFO    \u001b[0m | \u001b[36msrc.beam.experiment\u001b[0m:\u001b[36mlog_data\u001b[0m:\u001b[36m344\u001b[0m - \u001b[1mloss 0.136295 \t|\u001b[0m\n",
      "\u001b[32m2022-06-01 19:59:01.462\u001b[0m | \u001b[1mINFO    \u001b[0m | \u001b[36msrc.beam.experiment\u001b[0m:\u001b[36mlog_data\u001b[0m:\u001b[36m344\u001b[0m - \u001b[1macc 0.958618 \t|\u001b[0m\n"
     ]
    },
    {
     "data": {
      "application/vnd.jupyter.widget-view+json": {
       "model_id": "7d8066c2c2a14d38997cc7aff5637f7e",
       "version_major": 2,
       "version_minor": 0
      },
      "text/plain": [
       "train:   0%|          | 0/389 [00:00<?, ?it/s]"
      ]
     },
     "metadata": {},
     "output_type": "display_data"
    },
    {
     "data": {
      "application/vnd.jupyter.widget-view+json": {
       "model_id": "227420c148fd4cf69f4a063466d2c19c",
       "version_major": 2,
       "version_minor": 0
      },
      "text/plain": [
       "validation:   0%|          | 0/389 [00:00<?, ?it/s]"
      ]
     },
     "metadata": {},
     "output_type": "display_data"
    },
    {
     "name": "stdout",
     "output_type": "stream",
     "text": [
      "\n",
      "\u001b[32m2022-06-01 19:59:03.455\u001b[0m | \u001b[1mINFO    \u001b[0m | \u001b[36msrc.beam.experiment\u001b[0m:\u001b[36msave_model_results\u001b[0m:\u001b[36m302\u001b[0m - \u001b[1mFinished epoch 4/2:\u001b[0m\n",
      "\u001b[32m2022-06-01 19:59:03.459\u001b[0m | \u001b[1mINFO    \u001b[0m | \u001b[36msrc.beam.experiment\u001b[0m:\u001b[36mlog_data\u001b[0m:\u001b[36m340\u001b[0m - \u001b[1mtrain:\u001b[0m\n",
      "\u001b[32m2022-06-01 19:59:03.460\u001b[0m | \u001b[1mINFO    \u001b[0m | \u001b[36msrc.beam.experiment\u001b[0m:\u001b[36mlog_data\u001b[0m:\u001b[36m344\u001b[0m - \u001b[1mloss 0.0878459 \t|\u001b[0m\n",
      "\u001b[32m2022-06-01 19:59:03.461\u001b[0m | \u001b[1mINFO    \u001b[0m | \u001b[36msrc.beam.experiment\u001b[0m:\u001b[36mlog_data\u001b[0m:\u001b[36m344\u001b[0m - \u001b[1macc 0.973289 \t|\u001b[0m\n",
      "\u001b[32m2022-06-01 19:59:03.461\u001b[0m | \u001b[1mINFO    \u001b[0m | \u001b[36msrc.beam.experiment\u001b[0m:\u001b[36mlog_data\u001b[0m:\u001b[36m344\u001b[0m - \u001b[1mlr 0.0009801 \t|\u001b[0m\n",
      "\u001b[32m2022-06-01 19:59:03.462\u001b[0m | \u001b[1mINFO    \u001b[0m | \u001b[36msrc.beam.experiment\u001b[0m:\u001b[36mlog_data\u001b[0m:\u001b[36m340\u001b[0m - \u001b[1mvalidation:\u001b[0m\n",
      "\u001b[32m2022-06-01 19:59:03.463\u001b[0m | \u001b[1mINFO    \u001b[0m | \u001b[36msrc.beam.experiment\u001b[0m:\u001b[36mlog_data\u001b[0m:\u001b[36m344\u001b[0m - \u001b[1mloss 0.0949364 \t|\u001b[0m\n",
      "\u001b[32m2022-06-01 19:59:03.463\u001b[0m | \u001b[1mINFO    \u001b[0m | \u001b[36msrc.beam.experiment\u001b[0m:\u001b[36mlog_data\u001b[0m:\u001b[36m344\u001b[0m - \u001b[1macc 0.971692 \t|\u001b[0m\n"
     ]
    }
   ],
   "source": [
    "alg, results = experiment.run(run_mnist)"
   ]
  },
  {
   "cell_type": "code",
   "execution_count": 11,
   "id": "9dc7274c",
   "metadata": {},
   "outputs": [
    {
     "data": {
      "text/plain": [
       "0.09493644842949808"
      ]
     },
     "execution_count": 11,
     "metadata": {},
     "output_type": "execute_result"
    }
   ],
   "source": [
    "np.mean(results['validation']['scalar']['loss'])"
   ]
  },
  {
   "cell_type": "markdown",
   "id": "40aa198f",
   "metadata": {},
   "source": [
    "## Inference"
   ]
  },
  {
   "cell_type": "code",
   "execution_count": 12,
   "id": "d4dcd670",
   "metadata": {},
   "outputs": [
    {
     "data": {
      "application/vnd.jupyter.widget-view+json": {
       "model_id": "8b53c64524bc4cacb46ed0131fa005ff",
       "version_major": 2,
       "version_minor": 0
      },
      "text/plain": [
       "test:   0%|          | 0/39 [00:00<?, ?it/s]"
      ]
     },
     "metadata": {},
     "output_type": "display_data"
    },
    {
     "name": "stdout",
     "output_type": "stream",
     "text": [
      "Test inference results:\n",
      "precision:\n",
      "[0.97683787 0.98423818 0.97019231 0.94676806 0.960199   0.98484848\n",
      " 0.96707819 0.9707887  0.9697286  0.98740818]\n",
      "recall:\n",
      "[0.98979592 0.99030837 0.97771318 0.98613861 0.98268839 0.94730942\n",
      " 0.98121086 0.96984436 0.95379877 0.93260654]\n",
      "fscore:\n",
      "[0.9832742  0.98726394 0.97393822 0.96605238 0.97131354 0.96571429\n",
      " 0.97409326 0.9703163  0.96169772 0.95922528]\n",
      "support:\n",
      "[ 980 1135 1032 1010  982  892  958 1028  974 1009]\n"
     ]
    }
   ],
   "source": [
    "inference = alg('test')\n",
    "\n",
    "print('Test inference results:')\n",
    "for n, v in inference['metrics'].items():\n",
    "    print(f'{n}:')\n",
    "    print(v)"
   ]
  },
  {
   "cell_type": "markdown",
   "id": "598685c2",
   "metadata": {},
   "source": [
    "## Reload algorithm and resume training"
   ]
  },
  {
   "cell_type": "code",
   "execution_count": 16,
   "id": "1b5fab00",
   "metadata": {},
   "outputs": [
    {
     "name": "stdout",
     "output_type": "stream",
     "text": [
      "\u001b[32m2022-06-01 20:00:10.595\u001b[0m | \u001b[1mINFO    \u001b[0m | \u001b[36msrc.beam.experiment\u001b[0m:\u001b[36m__init__\u001b[0m:\u001b[36m94\u001b[0m - \u001b[1mbeam project: mnist\u001b[0m\n",
      "\u001b[32m2022-06-01 20:00:10.596\u001b[0m | \u001b[1mINFO    \u001b[0m | \u001b[36msrc.beam.experiment\u001b[0m:\u001b[36m__init__\u001b[0m:\u001b[36m95\u001b[0m - \u001b[1mSimulation Hyperparameters\u001b[0m\n",
      "\u001b[32m2022-06-01 20:00:10.598\u001b[0m | \u001b[1mINFO    \u001b[0m | \u001b[36msrc.beam.experiment\u001b[0m:\u001b[36m__init__\u001b[0m:\u001b[36m99\u001b[0m - \u001b[1mproject_name: mnist\u001b[0m\n",
      "\u001b[32m2022-06-01 20:00:10.599\u001b[0m | \u001b[1mINFO    \u001b[0m | \u001b[36msrc.beam.experiment\u001b[0m:\u001b[36m__init__\u001b[0m:\u001b[36m99\u001b[0m - \u001b[1midentifier: debug\u001b[0m\n",
      "\u001b[32m2022-06-01 20:00:10.600\u001b[0m | \u001b[1mINFO    \u001b[0m | \u001b[36msrc.beam.experiment\u001b[0m:\u001b[36m__init__\u001b[0m:\u001b[36m99\u001b[0m - \u001b[1malgorithm: MNISTAlgorithm\u001b[0m\n",
      "\u001b[32m2022-06-01 20:00:10.601\u001b[0m | \u001b[1mINFO    \u001b[0m | \u001b[36msrc.beam.experiment\u001b[0m:\u001b[36m__init__\u001b[0m:\u001b[36m99\u001b[0m - \u001b[1mmp_port: None\u001b[0m\n",
      "\u001b[32m2022-06-01 20:00:10.602\u001b[0m | \u001b[1mINFO    \u001b[0m | \u001b[36msrc.beam.experiment\u001b[0m:\u001b[36m__init__\u001b[0m:\u001b[36m99\u001b[0m - \u001b[1mroot_dir: /localdata/elads/data/resutls\u001b[0m\n",
      "\u001b[32m2022-06-01 20:00:10.603\u001b[0m | \u001b[1mINFO    \u001b[0m | \u001b[36msrc.beam.experiment\u001b[0m:\u001b[36m__init__\u001b[0m:\u001b[36m99\u001b[0m - \u001b[1mreload: True\u001b[0m\n",
      "\u001b[32m2022-06-01 20:00:10.605\u001b[0m | \u001b[1mINFO    \u001b[0m | \u001b[36msrc.beam.experiment\u001b[0m:\u001b[36m__init__\u001b[0m:\u001b[36m99\u001b[0m - \u001b[1mresume: -1\u001b[0m\n",
      "\u001b[32m2022-06-01 20:00:10.606\u001b[0m | \u001b[1mINFO    \u001b[0m | \u001b[36msrc.beam.experiment\u001b[0m:\u001b[36m__init__\u001b[0m:\u001b[36m99\u001b[0m - \u001b[1moverride: False\u001b[0m\n",
      "\u001b[32m2022-06-01 20:00:10.607\u001b[0m | \u001b[1mINFO    \u001b[0m | \u001b[36msrc.beam.experiment\u001b[0m:\u001b[36m__init__\u001b[0m:\u001b[36m99\u001b[0m - \u001b[1mcpu_workers: 0\u001b[0m\n",
      "\u001b[32m2022-06-01 20:00:10.608\u001b[0m | \u001b[1mINFO    \u001b[0m | \u001b[36msrc.beam.experiment\u001b[0m:\u001b[36m__init__\u001b[0m:\u001b[36m99\u001b[0m - \u001b[1mdevice: 0\u001b[0m\n",
      "\u001b[32m2022-06-01 20:00:10.609\u001b[0m | \u001b[1mINFO    \u001b[0m | \u001b[36msrc.beam.experiment\u001b[0m:\u001b[36m__init__\u001b[0m:\u001b[36m99\u001b[0m - \u001b[1mparallel: 1\u001b[0m\n",
      "\u001b[32m2022-06-01 20:00:10.610\u001b[0m | \u001b[1mINFO    \u001b[0m | \u001b[36msrc.beam.experiment\u001b[0m:\u001b[36m__init__\u001b[0m:\u001b[36m99\u001b[0m - \u001b[1mtensorboard: True\u001b[0m\n",
      "\u001b[32m2022-06-01 20:00:10.611\u001b[0m | \u001b[1mINFO    \u001b[0m | \u001b[36msrc.beam.experiment\u001b[0m:\u001b[36m__init__\u001b[0m:\u001b[36m99\u001b[0m - \u001b[1mlognet: True\u001b[0m\n",
      "\u001b[32m2022-06-01 20:00:10.612\u001b[0m | \u001b[1mINFO    \u001b[0m | \u001b[36msrc.beam.experiment\u001b[0m:\u001b[36m__init__\u001b[0m:\u001b[36m99\u001b[0m - \u001b[1mdeterministic: False\u001b[0m\n",
      "\u001b[32m2022-06-01 20:00:10.613\u001b[0m | \u001b[1mINFO    \u001b[0m | \u001b[36msrc.beam.experiment\u001b[0m:\u001b[36m__init__\u001b[0m:\u001b[36m99\u001b[0m - \u001b[1mscale_epoch_by_batch_size: True\u001b[0m\n",
      "\u001b[32m2022-06-01 20:00:10.614\u001b[0m | \u001b[1mINFO    \u001b[0m | \u001b[36msrc.beam.experiment\u001b[0m:\u001b[36m__init__\u001b[0m:\u001b[36m99\u001b[0m - \u001b[1minit: ortho\u001b[0m\n",
      "\u001b[32m2022-06-01 20:00:10.616\u001b[0m | \u001b[1mINFO    \u001b[0m | \u001b[36msrc.beam.experiment\u001b[0m:\u001b[36m__init__\u001b[0m:\u001b[36m99\u001b[0m - \u001b[1mseed: 0\u001b[0m\n",
      "\u001b[32m2022-06-01 20:00:10.617\u001b[0m | \u001b[1mINFO    \u001b[0m | \u001b[36msrc.beam.experiment\u001b[0m:\u001b[36m__init__\u001b[0m:\u001b[36m99\u001b[0m - \u001b[1mtotal_steps: 1000000\u001b[0m\n",
      "\u001b[32m2022-06-01 20:00:10.618\u001b[0m | \u001b[1mINFO    \u001b[0m | \u001b[36msrc.beam.experiment\u001b[0m:\u001b[36m__init__\u001b[0m:\u001b[36m99\u001b[0m - \u001b[1mepoch_length: 100000\u001b[0m\n",
      "\u001b[32m2022-06-01 20:00:10.619\u001b[0m | \u001b[1mINFO    \u001b[0m | \u001b[36msrc.beam.experiment\u001b[0m:\u001b[36m__init__\u001b[0m:\u001b[36m99\u001b[0m - \u001b[1mepoch_length_train: None\u001b[0m\n",
      "\u001b[32m2022-06-01 20:00:10.620\u001b[0m | \u001b[1mINFO    \u001b[0m | \u001b[36msrc.beam.experiment\u001b[0m:\u001b[36m__init__\u001b[0m:\u001b[36m99\u001b[0m - \u001b[1mepoch_length_eval: None\u001b[0m\n",
      "\u001b[32m2022-06-01 20:00:10.621\u001b[0m | \u001b[1mINFO    \u001b[0m | \u001b[36msrc.beam.experiment\u001b[0m:\u001b[36m__init__\u001b[0m:\u001b[36m99\u001b[0m - \u001b[1mn_epochs: 2\u001b[0m\n",
      "\u001b[32m2022-06-01 20:00:10.622\u001b[0m | \u001b[1mINFO    \u001b[0m | \u001b[36msrc.beam.experiment\u001b[0m:\u001b[36m__init__\u001b[0m:\u001b[36m99\u001b[0m - \u001b[1mbatch_size: 256\u001b[0m\n",
      "\u001b[32m2022-06-01 20:00:10.623\u001b[0m | \u001b[1mINFO    \u001b[0m | \u001b[36msrc.beam.experiment\u001b[0m:\u001b[36m__init__\u001b[0m:\u001b[36m99\u001b[0m - \u001b[1mbatch_size_train: None\u001b[0m\n",
      "\u001b[32m2022-06-01 20:00:10.624\u001b[0m | \u001b[1mINFO    \u001b[0m | \u001b[36msrc.beam.experiment\u001b[0m:\u001b[36m__init__\u001b[0m:\u001b[36m99\u001b[0m - \u001b[1mbatch_size_eval: None\u001b[0m\n",
      "\u001b[32m2022-06-01 20:00:10.625\u001b[0m | \u001b[1mINFO    \u001b[0m | \u001b[36msrc.beam.experiment\u001b[0m:\u001b[36m__init__\u001b[0m:\u001b[36m99\u001b[0m - \u001b[1mlr_d: 0.001\u001b[0m\n",
      "\u001b[32m2022-06-01 20:00:10.626\u001b[0m | \u001b[1mINFO    \u001b[0m | \u001b[36msrc.beam.experiment\u001b[0m:\u001b[36m__init__\u001b[0m:\u001b[36m99\u001b[0m - \u001b[1mlr_s: 0.01\u001b[0m\n",
      "\u001b[32m2022-06-01 20:00:10.627\u001b[0m | \u001b[1mINFO    \u001b[0m | \u001b[36msrc.beam.experiment\u001b[0m:\u001b[36m__init__\u001b[0m:\u001b[36m99\u001b[0m - \u001b[1mweight_decay: 0.0\u001b[0m\n",
      "\u001b[32m2022-06-01 20:00:10.628\u001b[0m | \u001b[1mINFO    \u001b[0m | \u001b[36msrc.beam.experiment\u001b[0m:\u001b[36m__init__\u001b[0m:\u001b[36m99\u001b[0m - \u001b[1meps: 0.0001\u001b[0m\n",
      "\u001b[32m2022-06-01 20:00:10.629\u001b[0m | \u001b[1mINFO    \u001b[0m | \u001b[36msrc.beam.experiment\u001b[0m:\u001b[36m__init__\u001b[0m:\u001b[36m99\u001b[0m - \u001b[1mclip: 1.0\u001b[0m\n",
      "\u001b[32m2022-06-01 20:00:10.630\u001b[0m | \u001b[1mINFO    \u001b[0m | \u001b[36msrc.beam.experiment\u001b[0m:\u001b[36m__init__\u001b[0m:\u001b[36m99\u001b[0m - \u001b[1mprint_results: True\u001b[0m\n",
      "\u001b[32m2022-06-01 20:00:10.631\u001b[0m | \u001b[1mINFO    \u001b[0m | \u001b[36msrc.beam.experiment\u001b[0m:\u001b[36m__init__\u001b[0m:\u001b[36m99\u001b[0m - \u001b[1mvisualize_weights: True\u001b[0m\n",
      "\u001b[32m2022-06-01 20:00:10.632\u001b[0m | \u001b[1mINFO    \u001b[0m | \u001b[36msrc.beam.experiment\u001b[0m:\u001b[36m__init__\u001b[0m:\u001b[36m99\u001b[0m - \u001b[1mvisualize_results: yes\u001b[0m\n",
      "\u001b[32m2022-06-01 20:00:10.633\u001b[0m | \u001b[1mINFO    \u001b[0m | \u001b[36msrc.beam.experiment\u001b[0m:\u001b[36m__init__\u001b[0m:\u001b[36m99\u001b[0m - \u001b[1mstore_results: logscale\u001b[0m\n",
      "\u001b[32m2022-06-01 20:00:10.634\u001b[0m | \u001b[1mINFO    \u001b[0m | \u001b[36msrc.beam.experiment\u001b[0m:\u001b[36m__init__\u001b[0m:\u001b[36m99\u001b[0m - \u001b[1mstore_networks: logscale\u001b[0m\n",
      "\u001b[32m2022-06-01 20:00:10.635\u001b[0m | \u001b[1mINFO    \u001b[0m | \u001b[36msrc.beam.experiment\u001b[0m:\u001b[36m__init__\u001b[0m:\u001b[36m99\u001b[0m - \u001b[1mpath_to_data: /localdata/elads/data/datasets/mnist\u001b[0m\n",
      "\u001b[32m2022-06-01 20:00:10.637\u001b[0m | \u001b[1mINFO    \u001b[0m | \u001b[36msrc.beam.experiment\u001b[0m:\u001b[36m__init__\u001b[0m:\u001b[36m161\u001b[0m - \u001b[1mResuming existing experiment\u001b[0m\n"
     ]
    }
   ],
   "source": [
    "# here you put all actions which are performed only once before initializing the workers\n",
    "# for example, setting running arguments and experiment:\n",
    "\n",
    "args = beam_arguments(f\"--project-name=mnist --root-dir={root_dir} --algorithm=MNISTAlgorithm\",\n",
    "                      \"--epoch-length=100000 --n-epochs=2 --clip=1 --parallel=1 --reload\", \n",
    "                      path_to_data=path_to_data)\n",
    "\n",
    "experiment = Experiment(args)"
   ]
  },
  {
   "cell_type": "code",
   "execution_count": 17,
   "id": "2d0f02c5",
   "metadata": {},
   "outputs": [
    {
     "name": "stdout",
     "output_type": "stream",
     "text": [
      "\u001b[32m2022-06-01 20:00:13.889\u001b[0m | \u001b[1mINFO    \u001b[0m | \u001b[36msrc.beam.experiment\u001b[0m:\u001b[36mrun\u001b[0m:\u001b[36m425\u001b[0m - \u001b[1mSingle worker mode\u001b[0m\n",
      "\u001b[32m2022-06-01 20:00:13.891\u001b[0m | \u001b[1mINFO    \u001b[0m | \u001b[36msrc.beam.experiment\u001b[0m:\u001b[36mrun_worker\u001b[0m:\u001b[36m45\u001b[0m - \u001b[1mWorker: 1/1 is running...\u001b[0m\n",
      "\u001b[32m2022-06-01 20:00:13.989\u001b[0m | \u001b[1mINFO    \u001b[0m | \u001b[36msrc.beam.experiment\u001b[0m:\u001b[36mreload_checkpoint\u001b[0m:\u001b[36m245\u001b[0m - \u001b[1mReload experiment from checkpoint: /localdata/elads/data/resutls/mnist/MNISTAlgorithm/debug/0001_20220601_194628/checkpoints/checkpoint_000004\u001b[0m\n"
     ]
    },
    {
     "data": {
      "application/vnd.jupyter.widget-view+json": {
       "model_id": "40e43627c98045b69319306197563043",
       "version_major": 2,
       "version_minor": 0
      },
      "text/plain": [
       "train:   0%|          | 0/389 [00:00<?, ?it/s]"
      ]
     },
     "metadata": {},
     "output_type": "display_data"
    },
    {
     "data": {
      "application/vnd.jupyter.widget-view+json": {
       "model_id": "4aaa0553d15946ce9ad3d6c333c6caff",
       "version_major": 2,
       "version_minor": 0
      },
      "text/plain": [
       "validation:   0%|          | 0/389 [00:00<?, ?it/s]"
      ]
     },
     "metadata": {},
     "output_type": "display_data"
    },
    {
     "name": "stdout",
     "output_type": "stream",
     "text": [
      "\n",
      "\u001b[32m2022-06-01 20:00:15.814\u001b[0m | \u001b[1mINFO    \u001b[0m | \u001b[36msrc.beam.experiment\u001b[0m:\u001b[36msave_model_results\u001b[0m:\u001b[36m302\u001b[0m - \u001b[1mFinished epoch 1/2:\u001b[0m\n",
      "\u001b[32m2022-06-01 20:00:15.820\u001b[0m | \u001b[1mINFO    \u001b[0m | \u001b[36msrc.beam.experiment\u001b[0m:\u001b[36mlog_data\u001b[0m:\u001b[36m340\u001b[0m - \u001b[1mtrain:\u001b[0m\n",
      "\u001b[32m2022-06-01 20:00:15.820\u001b[0m | \u001b[1mINFO    \u001b[0m | \u001b[36msrc.beam.experiment\u001b[0m:\u001b[36mlog_data\u001b[0m:\u001b[36m344\u001b[0m - \u001b[1mloss 0.0471516 \t|\u001b[0m\n",
      "\u001b[32m2022-06-01 20:00:15.821\u001b[0m | \u001b[1mINFO    \u001b[0m | \u001b[36msrc.beam.experiment\u001b[0m:\u001b[36mlog_data\u001b[0m:\u001b[36m344\u001b[0m - \u001b[1macc 0.985791 \t|\u001b[0m\n",
      "\u001b[32m2022-06-01 20:00:15.821\u001b[0m | \u001b[1mINFO    \u001b[0m | \u001b[36msrc.beam.experiment\u001b[0m:\u001b[36mlog_data\u001b[0m:\u001b[36m344\u001b[0m - \u001b[1mlr 0.000970299 \t|\u001b[0m\n",
      "\u001b[32m2022-06-01 20:00:15.822\u001b[0m | \u001b[1mINFO    \u001b[0m | \u001b[36msrc.beam.experiment\u001b[0m:\u001b[36mlog_data\u001b[0m:\u001b[36m340\u001b[0m - \u001b[1mvalidation:\u001b[0m\n",
      "\u001b[32m2022-06-01 20:00:15.823\u001b[0m | \u001b[1mINFO    \u001b[0m | \u001b[36msrc.beam.experiment\u001b[0m:\u001b[36mlog_data\u001b[0m:\u001b[36m344\u001b[0m - \u001b[1mloss 0.092408 \t|\u001b[0m\n",
      "\u001b[32m2022-06-01 20:00:15.823\u001b[0m | \u001b[1mINFO    \u001b[0m | \u001b[36msrc.beam.experiment\u001b[0m:\u001b[36mlog_data\u001b[0m:\u001b[36m344\u001b[0m - \u001b[1macc 0.973329 \t|\u001b[0m\n"
     ]
    },
    {
     "data": {
      "application/vnd.jupyter.widget-view+json": {
       "model_id": "82322a42d62045209d92bd9c5680cefc",
       "version_major": 2,
       "version_minor": 0
      },
      "text/plain": [
       "train:   0%|          | 0/389 [00:00<?, ?it/s]"
      ]
     },
     "metadata": {},
     "output_type": "display_data"
    },
    {
     "data": {
      "application/vnd.jupyter.widget-view+json": {
       "model_id": "adce07d25c2f4cfc897706f20025f912",
       "version_major": 2,
       "version_minor": 0
      },
      "text/plain": [
       "validation:   0%|          | 0/389 [00:00<?, ?it/s]"
      ]
     },
     "metadata": {},
     "output_type": "display_data"
    },
    {
     "name": "stdout",
     "output_type": "stream",
     "text": [
      "\n",
      "\u001b[32m2022-06-01 20:00:17.862\u001b[0m | \u001b[1mINFO    \u001b[0m | \u001b[36msrc.beam.experiment\u001b[0m:\u001b[36msave_model_results\u001b[0m:\u001b[36m302\u001b[0m - \u001b[1mFinished epoch 2/2:\u001b[0m\n",
      "\u001b[32m2022-06-01 20:00:17.867\u001b[0m | \u001b[1mINFO    \u001b[0m | \u001b[36msrc.beam.experiment\u001b[0m:\u001b[36mlog_data\u001b[0m:\u001b[36m340\u001b[0m - \u001b[1mtrain:\u001b[0m\n",
      "\u001b[32m2022-06-01 20:00:17.867\u001b[0m | \u001b[1mINFO    \u001b[0m | \u001b[36msrc.beam.experiment\u001b[0m:\u001b[36mlog_data\u001b[0m:\u001b[36m344\u001b[0m - \u001b[1mloss 0.0272187 \t|\u001b[0m\n",
      "\u001b[32m2022-06-01 20:00:17.868\u001b[0m | \u001b[1mINFO    \u001b[0m | \u001b[36msrc.beam.experiment\u001b[0m:\u001b[36mlog_data\u001b[0m:\u001b[36m344\u001b[0m - \u001b[1macc 0.991716 \t|\u001b[0m\n",
      "\u001b[32m2022-06-01 20:00:17.869\u001b[0m | \u001b[1mINFO    \u001b[0m | \u001b[36msrc.beam.experiment\u001b[0m:\u001b[36mlog_data\u001b[0m:\u001b[36m344\u001b[0m - \u001b[1mlr 0.000960596 \t|\u001b[0m\n",
      "\u001b[32m2022-06-01 20:00:17.869\u001b[0m | \u001b[1mINFO    \u001b[0m | \u001b[36msrc.beam.experiment\u001b[0m:\u001b[36mlog_data\u001b[0m:\u001b[36m340\u001b[0m - \u001b[1mvalidation:\u001b[0m\n",
      "\u001b[32m2022-06-01 20:00:17.870\u001b[0m | \u001b[1mINFO    \u001b[0m | \u001b[36msrc.beam.experiment\u001b[0m:\u001b[36mlog_data\u001b[0m:\u001b[36m344\u001b[0m - \u001b[1mloss 0.100829 \t|\u001b[0m\n",
      "\u001b[32m2022-06-01 20:00:17.871\u001b[0m | \u001b[1mINFO    \u001b[0m | \u001b[36msrc.beam.experiment\u001b[0m:\u001b[36mlog_data\u001b[0m:\u001b[36m344\u001b[0m - \u001b[1macc 0.972496 \t|\u001b[0m\n"
     ]
    }
   ],
   "source": [
    "alg = experiment(mnist_algorithm_generator)"
   ]
  },
  {
   "cell_type": "markdown",
   "id": "02d6a977",
   "metadata": {},
   "source": [
    "## Training with two workers"
   ]
  },
  {
   "cell_type": "code",
   "execution_count": 3,
   "id": "bc3afa93",
   "metadata": {},
   "outputs": [
    {
     "name": "stdout",
     "output_type": "stream",
     "text": [
      "\u001b[32m2022-07-10 12:07:40\u001b[0m | \u001b[1mINFO    \u001b[0m | \u001b[1mCreating new experiment\u001b[0m\n",
      "\u001b[32m2022-07-10 12:07:40\u001b[0m | \u001b[1mINFO    \u001b[0m | \u001b[1mExperiment directory is: /home/shared/data/results/mnist/MNISTAlgorithm/debug/0038_20220710_120740\u001b[0m\n",
      "\u001b[32m2022-07-10 12:07:40\u001b[0m | \u001b[1mINFO    \u001b[0m | \u001b[1mbeam project: mnist\u001b[0m\n",
      "\u001b[32m2022-07-10 12:07:40\u001b[0m | \u001b[1mINFO    \u001b[0m | \u001b[1mExperiment Hyperparameters\u001b[0m\n",
      "\u001b[32m2022-07-10 12:07:40\u001b[0m | \u001b[1mINFO    \u001b[0m | \u001b[1mproject_name: mnist\u001b[0m\n",
      "\u001b[32m2022-07-10 12:07:40\u001b[0m | \u001b[1mINFO    \u001b[0m | \u001b[1malgorithm: MNISTAlgorithm\u001b[0m\n",
      "\u001b[32m2022-07-10 12:07:40\u001b[0m | \u001b[1mINFO    \u001b[0m | \u001b[1midentifier: debug\u001b[0m\n",
      "\u001b[32m2022-07-10 12:07:40\u001b[0m | \u001b[1mINFO    \u001b[0m | \u001b[1mmp_port: random\u001b[0m\n",
      "\u001b[32m2022-07-10 12:07:40\u001b[0m | \u001b[1mINFO    \u001b[0m | \u001b[1mroot_dir: /home/shared/data/results\u001b[0m\n",
      "\u001b[32m2022-07-10 12:07:40\u001b[0m | \u001b[1mINFO    \u001b[0m | \u001b[1mreload: False\u001b[0m\n",
      "\u001b[32m2022-07-10 12:07:40\u001b[0m | \u001b[1mINFO    \u001b[0m | \u001b[1mresume: -1\u001b[0m\n",
      "\u001b[32m2022-07-10 12:07:40\u001b[0m | \u001b[1mINFO    \u001b[0m | \u001b[1moverride: False\u001b[0m\n",
      "\u001b[32m2022-07-10 12:07:40\u001b[0m | \u001b[1mINFO    \u001b[0m | \u001b[1mcpu_workers: 0\u001b[0m\n",
      "\u001b[32m2022-07-10 12:07:40\u001b[0m | \u001b[1mINFO    \u001b[0m | \u001b[1mdevice: 0\u001b[0m\n",
      "\u001b[32m2022-07-10 12:07:40\u001b[0m | \u001b[1mINFO    \u001b[0m | \u001b[1mparallel: 2\u001b[0m\n",
      "\u001b[32m2022-07-10 12:07:40\u001b[0m | \u001b[1mINFO    \u001b[0m | \u001b[1mtensorboard: True\u001b[0m\n",
      "\u001b[32m2022-07-10 12:07:40\u001b[0m | \u001b[1mINFO    \u001b[0m | \u001b[1mlognet: True\u001b[0m\n",
      "\u001b[32m2022-07-10 12:07:40\u001b[0m | \u001b[1mINFO    \u001b[0m | \u001b[1mdeterministic: False\u001b[0m\n",
      "\u001b[32m2022-07-10 12:07:40\u001b[0m | \u001b[1mINFO    \u001b[0m | \u001b[1mscale_epoch_by_batch_size: True\u001b[0m\n",
      "\u001b[32m2022-07-10 12:07:40\u001b[0m | \u001b[1mINFO    \u001b[0m | \u001b[1mhalf: False\u001b[0m\n",
      "\u001b[32m2022-07-10 12:07:40\u001b[0m | \u001b[1mINFO    \u001b[0m | \u001b[1mamp: False\u001b[0m\n",
      "\u001b[32m2022-07-10 12:07:40\u001b[0m | \u001b[1mINFO    \u001b[0m | \u001b[1mstore_initial_weights: False\u001b[0m\n",
      "\u001b[32m2022-07-10 12:07:40\u001b[0m | \u001b[1mINFO    \u001b[0m | \u001b[1moversample: False\u001b[0m\n",
      "\u001b[32m2022-07-10 12:07:40\u001b[0m | \u001b[1mINFO    \u001b[0m | \u001b[1minit: ortho\u001b[0m\n",
      "\u001b[32m2022-07-10 12:07:40\u001b[0m | \u001b[1mINFO    \u001b[0m | \u001b[1mseed: 0\u001b[0m\n",
      "\u001b[32m2022-07-10 12:07:40\u001b[0m | \u001b[1mINFO    \u001b[0m | \u001b[1msplit_dataset_seed: 5782\u001b[0m\n",
      "\u001b[32m2022-07-10 12:07:40\u001b[0m | \u001b[1mINFO    \u001b[0m | \u001b[1mtotal_steps: 1000000\u001b[0m\n",
      "\u001b[32m2022-07-10 12:07:40\u001b[0m | \u001b[1mINFO    \u001b[0m | \u001b[1mepoch_length: 100000\u001b[0m\n",
      "\u001b[32m2022-07-10 12:07:40\u001b[0m | \u001b[1mINFO    \u001b[0m | \u001b[1mepoch_length_train: None\u001b[0m\n",
      "\u001b[32m2022-07-10 12:07:40\u001b[0m | \u001b[1mINFO    \u001b[0m | \u001b[1mepoch_length_eval: None\u001b[0m\n",
      "\u001b[32m2022-07-10 12:07:40\u001b[0m | \u001b[1mINFO    \u001b[0m | \u001b[1mn_epochs: 2\u001b[0m\n",
      "\u001b[32m2022-07-10 12:07:40\u001b[0m | \u001b[1mINFO    \u001b[0m | \u001b[1mbatch_size: 256\u001b[0m\n",
      "\u001b[32m2022-07-10 12:07:40\u001b[0m | \u001b[1mINFO    \u001b[0m | \u001b[1mbatch_size_train: None\u001b[0m\n",
      "\u001b[32m2022-07-10 12:07:40\u001b[0m | \u001b[1mINFO    \u001b[0m | \u001b[1mbatch_size_eval: None\u001b[0m\n",
      "\u001b[32m2022-07-10 12:07:40\u001b[0m | \u001b[1mINFO    \u001b[0m | \u001b[1mlr_dense: 0.001\u001b[0m\n",
      "\u001b[32m2022-07-10 12:07:40\u001b[0m | \u001b[1mINFO    \u001b[0m | \u001b[1mlr_sparse: 0.01\u001b[0m\n",
      "\u001b[32m2022-07-10 12:07:40\u001b[0m | \u001b[1mINFO    \u001b[0m | \u001b[1mweight_decay: 0.0\u001b[0m\n",
      "\u001b[32m2022-07-10 12:07:40\u001b[0m | \u001b[1mINFO    \u001b[0m | \u001b[1meps: 0.0001\u001b[0m\n",
      "\u001b[32m2022-07-10 12:07:40\u001b[0m | \u001b[1mINFO    \u001b[0m | \u001b[1mbeta1: 0.9\u001b[0m\n",
      "\u001b[32m2022-07-10 12:07:40\u001b[0m | \u001b[1mINFO    \u001b[0m | \u001b[1mbeta2: 0.999\u001b[0m\n",
      "\u001b[32m2022-07-10 12:07:40\u001b[0m | \u001b[1mINFO    \u001b[0m | \u001b[1mclip_gradient: 1.0\u001b[0m\n",
      "\u001b[32m2022-07-10 12:07:40\u001b[0m | \u001b[1mINFO    \u001b[0m | \u001b[1maccumulate: 1\u001b[0m\n",
      "\u001b[32m2022-07-10 12:07:40\u001b[0m | \u001b[1mINFO    \u001b[0m | \u001b[1moversampling_weight_factor: 1.0\u001b[0m\n",
      "\u001b[32m2022-07-10 12:07:40\u001b[0m | \u001b[1mINFO    \u001b[0m | \u001b[1mexpansion_size: 10000000\u001b[0m\n",
      "\u001b[32m2022-07-10 12:07:40\u001b[0m | \u001b[1mINFO    \u001b[0m | \u001b[1mprint_results: True\u001b[0m\n",
      "\u001b[32m2022-07-10 12:07:40\u001b[0m | \u001b[1mINFO    \u001b[0m | \u001b[1mvisualize_weights: True\u001b[0m\n",
      "\u001b[32m2022-07-10 12:07:40\u001b[0m | \u001b[1mINFO    \u001b[0m | \u001b[1menable_tqdm: True\u001b[0m\n",
      "\u001b[32m2022-07-10 12:07:40\u001b[0m | \u001b[1mINFO    \u001b[0m | \u001b[1mvisualize_results: yes\u001b[0m\n",
      "\u001b[32m2022-07-10 12:07:40\u001b[0m | \u001b[1mINFO    \u001b[0m | \u001b[1mstore_results: logscale\u001b[0m\n",
      "\u001b[32m2022-07-10 12:07:40\u001b[0m | \u001b[1mINFO    \u001b[0m | \u001b[1mstore_networks: logscale\u001b[0m\n",
      "\u001b[32m2022-07-10 12:07:40\u001b[0m | \u001b[1mINFO    \u001b[0m | \u001b[1mpath_to_data: /home/shared/data//dataset/mnist\u001b[0m\n"
     ]
    }
   ],
   "source": [
    "# here you put all actions which are performed only once before initializing the workers\n",
    "# for example, setting running arguments and experiment:\n",
    "\n",
    "args = beam_arguments(f\"--project-name=mnist --root-dir={root_dir} --algorithm=MNISTAlgorithm\",\n",
    "                      \"--epoch-length=100000 --n-epochs=2 --clip=1 --parallel=2\",\n",
    "                      path_to_data=path_to_data)\n",
    "\n",
    "experiment = Experiment(args)"
   ]
  },
  {
   "cell_type": "code",
   "execution_count": 4,
   "id": "c8116d3c",
   "metadata": {},
   "outputs": [
    {
     "name": "stdout",
     "output_type": "stream",
     "text": [
      "\u001b[32m2022-07-10 12:07:41\u001b[0m | \u001b[1mINFO    \u001b[0m | \u001b[1mInitializing 2 parallel workers\u001b[0m\n",
      "\u001b[32m2022-07-10 12:07:41\u001b[0m | \u001b[1mINFO    \u001b[0m | \u001b[1mMultiprocessing port is: 38005\u001b[0m\n",
      "\u001b[32m2022-07-10 12:07:44\u001b[0m | \u001b[1mINFO    \u001b[0m | \u001b[1mWorker: 1/2 is running...\u001b[0m\n",
      "\u001b[32m2022-07-10 12:07:44\u001b[0m | \u001b[1mINFO    \u001b[0m | \u001b[1mWorker: 2/2 is running...\u001b[0m\n"
     ]
    },
    {
     "name": "stderr",
     "output_type": "stream",
     "text": [
      "train:   0%|          | 0/389 [00:00<?, ?it/s]2022-07-10 12:07:48.596373: I tensorflow/core/util/util.cc:169] oneDNN custom operations are on. You may see slightly different numerical results due to floating-point round-off errors from different computation orders. To turn them off, set the environment variable `TF_ENABLE_ONEDNN_OPTS=0`.\n",
      "train: 100%|██████████| 389/389 [00:05<00:00, 73.91it/s] \n",
      "validation:   0%|          | 0/389 [00:00<?, ?it/s]\n",
      "validation:  82%|████████▏ | 320/389 [00:00<00:00, 505.30it/s]"
     ]
    },
    {
     "name": "stdout",
     "output_type": "stream",
     "text": [
      "\u001b[32m2022-07-10 12:07:54\u001b[0m | \u001b[1mINFO    \u001b[0m | \u001b[1m\u001b[0m\n",
      "\u001b[32m2022-07-10 12:07:54\u001b[0m | \u001b[1mINFO    \u001b[0m | \u001b[1mFinished epoch 1/2:\u001b[0m\n",
      "\u001b[32m2022-07-10 12:07:54\u001b[0m | \u001b[1mINFO    \u001b[0m | \u001b[1mtrain:\u001b[0m\n",
      "\u001b[32m2022-07-10 12:07:54\u001b[0m | \u001b[1mINFO    \u001b[0m | \u001b[1mloss:           | avg: 0.3006    | std: 0.397     | min: 0.05101   | 25%: 0.1202    | 50%: 0.1742    | 75%: 0.313     | max: 2.308     \u001b[0m\n",
      "\u001b[32m2022-07-10 12:07:54\u001b[0m | \u001b[1mINFO    \u001b[0m | \u001b[1macc:            | avg: 0.9158    | std: 0.1075    | min: 0.07422   | 25%: 0.9141    | 50%: 0.9492    | 75%: 0.9648    | max: 0.9922    \u001b[0m\n",
      "\u001b[32m2022-07-10 12:07:54\u001b[0m | \u001b[1mINFO    \u001b[0m | \u001b[1mlr:             | avg: 0.00099   | std: nan       | min: 0.00099   | 25%: 0.00099   | 50%: 0.00099   | 75%: 0.00099   | max: 0.00099   \u001b[0m\n",
      "\u001b[32m2022-07-10 12:07:54\u001b[0m | \u001b[1mINFO    \u001b[0m | \u001b[1mvalidation:\u001b[0m\n",
      "\u001b[32m2022-07-10 12:07:54\u001b[0m | \u001b[1mINFO    \u001b[0m | \u001b[1mloss:           | avg: 0.1161    | std: 0.03172   | min: 0.03283   | 25%: 0.09396   | 50%: 0.1153    | 75%: 0.139     | max: 0.2225    \u001b[0m\n",
      "\u001b[32m2022-07-10 12:07:54\u001b[0m | \u001b[1mINFO    \u001b[0m | \u001b[1macc:            | avg: 0.965     | std: 0.01114   | min: 0.9141    | 25%: 0.957     | 50%: 0.9648    | 75%: 0.9727    | max: 0.9961    \u001b[0m\n"
     ]
    },
    {
     "name": "stderr",
     "output_type": "stream",
     "text": [
      "validation: 100%|██████████| 389/389 [00:00<00:00, 466.17it/s]\n",
      "train:   0%|          | 0/389 [00:00<?, ?it/s]\n",
      "train: 100%|██████████| 389/389 [00:03<00:00, 99.31it/s] \n",
      "validation:   0%|          | 0/389 [00:00<?, ?it/s]\n",
      "validation: 100%|██████████| 389/389 [00:00<00:00, 465.04it/s]"
     ]
    },
    {
     "name": "stdout",
     "output_type": "stream",
     "text": [
      "\u001b[32m2022-07-10 12:07:59\u001b[0m | \u001b[1mINFO    \u001b[0m | \u001b[1m\u001b[0m\n",
      "\u001b[32m2022-07-10 12:07:59\u001b[0m | \u001b[1mINFO    \u001b[0m | \u001b[1mFinished epoch 2/2:\u001b[0m\n",
      "\u001b[32m2022-07-10 12:07:59\u001b[0m | \u001b[1mINFO    \u001b[0m | \u001b[1mtrain:\u001b[0m\n",
      "\u001b[32m2022-07-10 12:07:59\u001b[0m | \u001b[1mINFO    \u001b[0m | \u001b[1mloss:           | avg: 0.05898   | std: 0.02831   | min: 0.01156   | 25%: 0.03746   | 50%: 0.0552    | 75%: 0.07635   | max: 0.1828    \u001b[0m\n",
      "\u001b[32m2022-07-10 12:07:59\u001b[0m | \u001b[1mINFO    \u001b[0m | \u001b[1macc:            | avg: 0.9825    | std: 0.009262  | min: 0.9492    | 25%: 0.9766    | 50%: 0.9844    | 75%: 0.9883    | max: 1.0       \u001b[0m\n",
      "\u001b[32m2022-07-10 12:07:59\u001b[0m | \u001b[1mINFO    \u001b[0m | \u001b[1mlr:             | avg: 0.0009801 | std: nan       | min: 0.0009801 | 25%: 0.0009801 | 50%: 0.0009801 | 75%: 0.0009801 | max: 0.0009801 \u001b[0m\n",
      "\u001b[32m2022-07-10 12:07:59\u001b[0m | \u001b[1mINFO    \u001b[0m | \u001b[1mvalidation:\u001b[0m\n",
      "\u001b[32m2022-07-10 12:07:59\u001b[0m | \u001b[1mINFO    \u001b[0m | \u001b[1mloss:           | avg: 0.09789   | std: 0.03572   | min: 0.01559   | 25%: 0.07137   | 50%: 0.09426   | 75%: 0.1214    | max: 0.2434    \u001b[0m\n",
      "\u001b[32m2022-07-10 12:07:59\u001b[0m | \u001b[1mINFO    \u001b[0m | \u001b[1macc:            | avg: 0.9722    | std: 0.009782  | min: 0.9414    | 25%: 0.9648    | 50%: 0.9727    | 75%: 0.9766    | max: 1.0       \u001b[0m\n",
      "\u001b[32m2022-07-10 12:08:03\u001b[0m | \u001b[1mINFO    \u001b[0m | \u001b[1mReload experiment from checkpoint: /home/shared/data/results/mnist/MNISTAlgorithm/debug/0038_20220710_120740/checkpoints/checkpoint_000002\u001b[0m\n"
     ]
    },
    {
     "ename": "RuntimeError",
     "evalue": "Error(s) in loading state_dict for LinearNet:\n\tMissing key(s) in state_dict: \"lin.0.weight\", \"lin.0.bias\", \"lin.2.weight\", \"lin.2.bias\", \"lin.4.weight\", \"lin.4.bias\", \"lin.6.weight\", \"lin.6.bias\". \n\tUnexpected key(s) in state_dict: \"module.lin.0.bias\", \"module.lin.0.weight\", \"module.lin.2.bias\", \"module.lin.2.weight\", \"module.lin.4.bias\", \"module.lin.4.weight\", \"module.lin.6.bias\", \"module.lin.6.weight\". ",
     "output_type": "error",
     "traceback": [
      "\u001b[0;31m---------------------------------------------------------------------------\u001b[0m",
      "\u001b[0;31mRuntimeError\u001b[0m                              Traceback (most recent call last)",
      "Input \u001b[0;32mIn [4]\u001b[0m, in \u001b[0;36m<cell line: 1>\u001b[0;34m()\u001b[0m\n\u001b[0;32m----> 1\u001b[0m alg \u001b[38;5;241m=\u001b[39m \u001b[43mexperiment\u001b[49m\u001b[43m(\u001b[49m\u001b[43mmnist_algorithm_generator\u001b[49m\u001b[43m)\u001b[49m\n",
      "File \u001b[0;32m/home/elad/docker/beamds/notebooks/../src/beam/experiment.py:463\u001b[0m, in \u001b[0;36mExperiment.__call__\u001b[0;34m(self, algorithm_generator, return_results, reload_results, tensorboard_arguments, *args, **kwargs)\u001b[0m\n\u001b[1;32m    461\u001b[0m \u001b[38;5;28;01mif\u001b[39;00m res \u001b[38;5;129;01mis\u001b[39;00m \u001b[38;5;28;01mNone\u001b[39;00m \u001b[38;5;129;01mor\u001b[39;00m \u001b[38;5;28mself\u001b[39m\u001b[38;5;241m.\u001b[39mworld_size \u001b[38;5;241m>\u001b[39m \u001b[38;5;241m1\u001b[39m:\n\u001b[1;32m    462\u001b[0m     alg \u001b[38;5;241m=\u001b[39m algorithm_generator(\u001b[38;5;28mself\u001b[39m, \u001b[38;5;241m*\u001b[39margs, \u001b[38;5;241m*\u001b[39m\u001b[38;5;241m*\u001b[39mkwargs)\n\u001b[0;32m--> 463\u001b[0m     \u001b[38;5;28;43mself\u001b[39;49m\u001b[38;5;241;43m.\u001b[39;49m\u001b[43mreload_checkpoint\u001b[49m\u001b[43m(\u001b[49m\u001b[43malg\u001b[49m\u001b[43m)\u001b[49m\n\u001b[1;32m    465\u001b[0m     \u001b[38;5;28;01mif\u001b[39;00m reload_results:\n\u001b[1;32m    466\u001b[0m         results \u001b[38;5;241m=\u001b[39m {}\n",
      "File \u001b[0;32m/home/elad/docker/beamds/notebooks/../src/beam/experiment.py:295\u001b[0m, in \u001b[0;36mExperiment.reload_checkpoint\u001b[0;34m(self, alg, iloc, loc, name)\u001b[0m\n\u001b[1;32m    291\u001b[0m     path \u001b[38;5;241m=\u001b[39m os\u001b[38;5;241m.\u001b[39mpath\u001b[38;5;241m.\u001b[39mjoin(\u001b[38;5;28mself\u001b[39m\u001b[38;5;241m.\u001b[39mcheckpoints_dir, chp)\n\u001b[1;32m    293\u001b[0m logger\u001b[38;5;241m.\u001b[39minfo(\u001b[38;5;124mf\u001b[39m\u001b[38;5;124m\"\u001b[39m\u001b[38;5;124mReload experiment from checkpoint: \u001b[39m\u001b[38;5;132;01m{\u001b[39;00mpath\u001b[38;5;132;01m}\u001b[39;00m\u001b[38;5;124m\"\u001b[39m)\n\u001b[0;32m--> 295\u001b[0m \u001b[43malg\u001b[49m\u001b[38;5;241;43m.\u001b[39;49m\u001b[43mload_checkpoint\u001b[49m\u001b[43m(\u001b[49m\u001b[43mpath\u001b[49m\u001b[43m)\u001b[49m\n",
      "File \u001b[0;32m/home/elad/docker/beamds/notebooks/../src/beam/algorithm.py:406\u001b[0m, in \u001b[0;36mAlgorithm.load_checkpoint\u001b[0;34m(self, path, strict)\u001b[0m\n\u001b[1;32m    403\u001b[0m     \u001b[38;5;28;01mif\u001b[39;00m \u001b[38;5;129;01mnot\u001b[39;00m \u001b[38;5;28mself\u001b[39m\u001b[38;5;241m.\u001b[39mddp:\n\u001b[1;32m    404\u001b[0m         torch\u001b[38;5;241m.\u001b[39mnn\u001b[38;5;241m.\u001b[39mmodules\u001b[38;5;241m.\u001b[39mutils\u001b[38;5;241m.\u001b[39mconsume_prefix_in_state_dict_if_present(s, \u001b[38;5;124m'\u001b[39m\u001b[38;5;124mmodule.\u001b[39m\u001b[38;5;124m'\u001b[39m)\n\u001b[0;32m--> 406\u001b[0m     \u001b[43mnet\u001b[49m\u001b[38;5;241;43m.\u001b[39;49m\u001b[43mload_state_dict\u001b[49m\u001b[43m(\u001b[49m\u001b[43ms\u001b[49m\u001b[43m,\u001b[49m\u001b[43m \u001b[49m\u001b[43mstrict\u001b[49m\u001b[38;5;241;43m=\u001b[39;49m\u001b[43mstrict\u001b[49m\u001b[43m)\u001b[49m\n\u001b[1;32m    408\u001b[0m \u001b[38;5;28;01mfor\u001b[39;00m k, optimizer \u001b[38;5;129;01min\u001b[39;00m \u001b[38;5;28mself\u001b[39m\u001b[38;5;241m.\u001b[39moptimizers\u001b[38;5;241m.\u001b[39mitems():\n\u001b[1;32m    409\u001b[0m     optimizer\u001b[38;5;241m.\u001b[39mload_state_dict(state[\u001b[38;5;124mf\u001b[39m\u001b[38;5;124m\"\u001b[39m\u001b[38;5;132;01m{\u001b[39;00mk\u001b[38;5;132;01m}\u001b[39;00m\u001b[38;5;124m_optimizer\u001b[39m\u001b[38;5;124m\"\u001b[39m])\n",
      "File \u001b[0;32m/opt/conda/lib/python3.8/site-packages/torch/nn/modules/module.py:1497\u001b[0m, in \u001b[0;36mModule.load_state_dict\u001b[0;34m(self, state_dict, strict)\u001b[0m\n\u001b[1;32m   1492\u001b[0m         error_msgs\u001b[38;5;241m.\u001b[39minsert(\n\u001b[1;32m   1493\u001b[0m             \u001b[38;5;241m0\u001b[39m, \u001b[38;5;124m'\u001b[39m\u001b[38;5;124mMissing key(s) in state_dict: \u001b[39m\u001b[38;5;132;01m{}\u001b[39;00m\u001b[38;5;124m. \u001b[39m\u001b[38;5;124m'\u001b[39m\u001b[38;5;241m.\u001b[39mformat(\n\u001b[1;32m   1494\u001b[0m                 \u001b[38;5;124m'\u001b[39m\u001b[38;5;124m, \u001b[39m\u001b[38;5;124m'\u001b[39m\u001b[38;5;241m.\u001b[39mjoin(\u001b[38;5;124m'\u001b[39m\u001b[38;5;124m\"\u001b[39m\u001b[38;5;132;01m{}\u001b[39;00m\u001b[38;5;124m\"\u001b[39m\u001b[38;5;124m'\u001b[39m\u001b[38;5;241m.\u001b[39mformat(k) \u001b[38;5;28;01mfor\u001b[39;00m k \u001b[38;5;129;01min\u001b[39;00m missing_keys)))\n\u001b[1;32m   1496\u001b[0m \u001b[38;5;28;01mif\u001b[39;00m \u001b[38;5;28mlen\u001b[39m(error_msgs) \u001b[38;5;241m>\u001b[39m \u001b[38;5;241m0\u001b[39m:\n\u001b[0;32m-> 1497\u001b[0m     \u001b[38;5;28;01mraise\u001b[39;00m \u001b[38;5;167;01mRuntimeError\u001b[39;00m(\u001b[38;5;124m'\u001b[39m\u001b[38;5;124mError(s) in loading state_dict for \u001b[39m\u001b[38;5;132;01m{}\u001b[39;00m\u001b[38;5;124m:\u001b[39m\u001b[38;5;130;01m\\n\u001b[39;00m\u001b[38;5;130;01m\\t\u001b[39;00m\u001b[38;5;132;01m{}\u001b[39;00m\u001b[38;5;124m'\u001b[39m\u001b[38;5;241m.\u001b[39mformat(\n\u001b[1;32m   1498\u001b[0m                        \u001b[38;5;28mself\u001b[39m\u001b[38;5;241m.\u001b[39m\u001b[38;5;18m__class__\u001b[39m\u001b[38;5;241m.\u001b[39m\u001b[38;5;18m__name__\u001b[39m, \u001b[38;5;124m\"\u001b[39m\u001b[38;5;130;01m\\n\u001b[39;00m\u001b[38;5;130;01m\\t\u001b[39;00m\u001b[38;5;124m\"\u001b[39m\u001b[38;5;241m.\u001b[39mjoin(error_msgs)))\n\u001b[1;32m   1499\u001b[0m \u001b[38;5;28;01mreturn\u001b[39;00m _IncompatibleKeys(missing_keys, unexpected_keys)\n",
      "\u001b[0;31mRuntimeError\u001b[0m: Error(s) in loading state_dict for LinearNet:\n\tMissing key(s) in state_dict: \"lin.0.weight\", \"lin.0.bias\", \"lin.2.weight\", \"lin.2.bias\", \"lin.4.weight\", \"lin.4.bias\", \"lin.6.weight\", \"lin.6.bias\". \n\tUnexpected key(s) in state_dict: \"module.lin.0.bias\", \"module.lin.0.weight\", \"module.lin.2.bias\", \"module.lin.2.weight\", \"module.lin.4.bias\", \"module.lin.4.weight\", \"module.lin.6.bias\", \"module.lin.6.weight\". "
     ]
    }
   ],
   "source": [
    "alg = experiment(mnist_algorithm_generator)"
   ]
  },
  {
   "cell_type": "markdown",
   "id": "96fcba87",
   "metadata": {},
   "source": [
    "Inference works the same if we use the default runner, the runner reloads the stored algorithm into a single GPU mode"
   ]
  },
  {
   "cell_type": "code",
   "execution_count": 21,
   "id": "f0f9c2b3",
   "metadata": {},
   "outputs": [
    {
     "data": {
      "application/vnd.jupyter.widget-view+json": {
       "model_id": "b5fff439b9344341a9c85e0103ed8241",
       "version_major": 2,
       "version_minor": 0
      },
      "text/plain": [
       "test:   0%|          | 0/39 [00:00<?, ?it/s]"
      ]
     },
     "metadata": {},
     "output_type": "display_data"
    },
    {
     "name": "stdout",
     "output_type": "stream",
     "text": [
      "Test inference results:\n",
      "precision:\n",
      "[0.97197197 0.98854626 0.98039216 0.98301698 0.97626419 0.99649123\n",
      " 0.97401247 0.97189922 0.95070423 0.95546951]\n",
      "recall:\n",
      "[0.99081633 0.98854626 0.96899225 0.97425743 0.96334012 0.95515695\n",
      " 0.97807933 0.97568093 0.97022587 0.97819623]\n",
      "fscore:\n",
      "[0.98130369 0.98854626 0.97465887 0.9786176  0.9697591  0.97538638\n",
      " 0.97604167 0.97378641 0.96036585 0.96669931]\n",
      "support:\n",
      "[ 980 1135 1032 1010  982  892  958 1028  974 1009]\n"
     ]
    }
   ],
   "source": [
    "inference = alg('test')\n",
    "\n",
    "print('Test inference results:')\n",
    "for n, v in inference['metrics'].items():\n",
    "    print(f'{n}:')\n",
    "    print(v)"
   ]
  },
  {
   "cell_type": "markdown",
   "id": "72c16ba5",
   "metadata": {},
   "source": [
    "we can also determine our own experiment routine and return the results"
   ]
  },
  {
   "cell_type": "code",
   "execution_count": 22,
   "id": "3308be89",
   "metadata": {
    "scrolled": true
   },
   "outputs": [
    {
     "name": "stdout",
     "output_type": "stream",
     "text": [
      "\u001b[32m2022-06-01 20:01:40.633\u001b[0m | \u001b[1mINFO    \u001b[0m | \u001b[36msrc.beam.experiment\u001b[0m:\u001b[36mrun\u001b[0m:\u001b[36m416\u001b[0m - \u001b[1mInitializing 2 parallel workers\u001b[0m\n",
      "\u001b[32m2022-06-01 20:01:40.635\u001b[0m | \u001b[1mINFO    \u001b[0m | \u001b[36msrc.beam.experiment\u001b[0m:\u001b[36mrun\u001b[0m:\u001b[36m421\u001b[0m - \u001b[1mMultiprocessing port is: 58869\u001b[0m\n",
      "\u001b[32m2022-06-01 20:01:42.335\u001b[0m | \u001b[1mINFO    \u001b[0m | \u001b[36msrc.beam.experiment\u001b[0m:\u001b[36mrun_worker\u001b[0m:\u001b[36m45\u001b[0m - \u001b[1mWorker: 1/2 is running...\u001b[0m\n",
      "\u001b[32m2022-06-01 20:01:42.338\u001b[0m | \u001b[1mINFO    \u001b[0m | \u001b[36msrc.beam.experiment\u001b[0m:\u001b[36mrun_worker\u001b[0m:\u001b[36m45\u001b[0m - \u001b[1mWorker: 2/2 is running...\u001b[0m\n"
     ]
    },
    {
     "name": "stderr",
     "output_type": "stream",
     "text": [
      "train: 100%|██████████| 389/389 [00:03<00:00, 101.76it/s]\n",
      "train: 100%|██████████| 389/389 [00:02<00:00, 162.38it/s]\n",
      "validation: 100%|██████████| 389/389 [00:00<00:00, 868.94it/s]"
     ]
    },
    {
     "name": "stdout",
     "output_type": "stream",
     "text": [
      "\n",
      "\u001b[32m2022-06-01 20:01:50.405\u001b[0m | \u001b[1mINFO    \u001b[0m | \u001b[36msrc.beam.experiment\u001b[0m:\u001b[36msave_model_results\u001b[0m:\u001b[36m302\u001b[0m - \u001b[1mFinished epoch 1/2:\u001b[0m\n",
      "\u001b[32m2022-06-01 20:01:50.441\u001b[0m | \u001b[1mINFO    \u001b[0m | \u001b[36msrc.beam.experiment\u001b[0m:\u001b[36mlog_data\u001b[0m:\u001b[36m340\u001b[0m - \u001b[1mtrain:\u001b[0m\n",
      "\u001b[32m2022-06-01 20:01:50.441\u001b[0m | \u001b[1mINFO    \u001b[0m | \u001b[36msrc.beam.experiment\u001b[0m:\u001b[36mlog_data\u001b[0m:\u001b[36m344\u001b[0m - \u001b[1mloss 0.303975 \t|\u001b[0m\n",
      "\u001b[32m2022-06-01 20:01:50.441\u001b[0m | \u001b[1mINFO    \u001b[0m | \u001b[36msrc.beam.experiment\u001b[0m:\u001b[36mlog_data\u001b[0m:\u001b[36m344\u001b[0m - \u001b[1macc 0.912275 \t|\u001b[0m\n",
      "\u001b[32m2022-06-01 20:01:50.442\u001b[0m | \u001b[1mINFO    \u001b[0m | \u001b[36msrc.beam.experiment\u001b[0m:\u001b[36mlog_data\u001b[0m:\u001b[36m344\u001b[0m - \u001b[1mlr 0.00099 \t|\u001b[0m\n",
      "\u001b[32m2022-06-01 20:01:50.442\u001b[0m | \u001b[1mINFO    \u001b[0m | \u001b[36msrc.beam.experiment\u001b[0m:\u001b[36mlog_data\u001b[0m:\u001b[36m340\u001b[0m - \u001b[1mvalidation:\u001b[0m\n",
      "\u001b[32m2022-06-01 20:01:50.442\u001b[0m | \u001b[1mINFO    \u001b[0m | \u001b[36msrc.beam.experiment\u001b[0m:\u001b[36mlog_data\u001b[0m:\u001b[36m344\u001b[0m - \u001b[1mloss 0.125878 \t|\u001b[0m\n",
      "\u001b[32m2022-06-01 20:01:50.443\u001b[0m | \u001b[1mINFO    \u001b[0m | \u001b[36msrc.beam.experiment\u001b[0m:\u001b[36mlog_data\u001b[0m:\u001b[36m344\u001b[0m - \u001b[1macc 0.962655 \t|\u001b[0m\n"
     ]
    },
    {
     "name": "stderr",
     "output_type": "stream",
     "text": [
      "\n",
      "train:   0%|          | 0/389 [00:00<?, ?it/s]\n",
      "train: 100%|██████████| 389/389 [00:02<00:00, 187.05it/s]\n",
      "train: 100%|██████████| 389/389 [00:02<00:00, 186.93it/s]\n",
      "validation:  93%|█████████▎| 362/389 [00:00<00:00, 905.36it/s]]"
     ]
    },
    {
     "name": "stdout",
     "output_type": "stream",
     "text": [
      "\n",
      "\u001b[32m2022-06-01 20:01:53.253\u001b[0m | \u001b[1mINFO    \u001b[0m | \u001b[36msrc.beam.experiment\u001b[0m:\u001b[36msave_model_results\u001b[0m:\u001b[36m302\u001b[0m - \u001b[1mFinished epoch 2/2:\u001b[0m\n",
      "\u001b[32m2022-06-01 20:01:53.286\u001b[0m | \u001b[1mINFO    \u001b[0m | \u001b[36msrc.beam.experiment\u001b[0m:\u001b[36mlog_data\u001b[0m:\u001b[36m340\u001b[0m - \u001b[1mtrain:\u001b[0m\n",
      "\u001b[32m2022-06-01 20:01:53.286\u001b[0m | \u001b[1mINFO    \u001b[0m | \u001b[36msrc.beam.experiment\u001b[0m:\u001b[36mlog_data\u001b[0m:\u001b[36m344\u001b[0m - \u001b[1mloss 0.0635221 \t|\u001b[0m\n",
      "\u001b[32m2022-06-01 20:01:53.286\u001b[0m | \u001b[1mINFO    \u001b[0m | \u001b[36msrc.beam.experiment\u001b[0m:\u001b[36mlog_data\u001b[0m:\u001b[36m344\u001b[0m - \u001b[1macc 0.981091 \t|\u001b[0m\n",
      "\u001b[32m2022-06-01 20:01:53.286\u001b[0m | \u001b[1mINFO    \u001b[0m | \u001b[36msrc.beam.experiment\u001b[0m:\u001b[36mlog_data\u001b[0m:\u001b[36m344\u001b[0m - \u001b[1mlr 0.0009801 \t|\u001b[0m\n",
      "\u001b[32m2022-06-01 20:01:53.286\u001b[0m | \u001b[1mINFO    \u001b[0m | \u001b[36msrc.beam.experiment\u001b[0m:\u001b[36mlog_data\u001b[0m:\u001b[36m340\u001b[0m - \u001b[1mvalidation:\u001b[0m\n",
      "\u001b[32m2022-06-01 20:01:53.286\u001b[0m | \u001b[1mINFO    \u001b[0m | \u001b[36msrc.beam.experiment\u001b[0m:\u001b[36mlog_data\u001b[0m:\u001b[36m344\u001b[0m - \u001b[1mloss 0.0866934 \t|\u001b[0m\n",
      "\u001b[32m2022-06-01 20:01:53.286\u001b[0m | \u001b[1mINFO    \u001b[0m | \u001b[36msrc.beam.experiment\u001b[0m:\u001b[36mlog_data\u001b[0m:\u001b[36m344\u001b[0m - \u001b[1macc 0.973359 \t|\u001b[0m\n"
     ]
    },
    {
     "name": "stderr",
     "output_type": "stream",
     "text": [
      "validation: 100%|██████████| 389/389 [00:00<00:00, 494.49it/s]"
     ]
    }
   ],
   "source": [
    "# here we initialize the workers (can be single or multiple workers, depending on the configuration)\n",
    "results = experiment.run(run_mnist)"
   ]
  },
  {
   "cell_type": "code",
   "execution_count": 23,
   "id": "3f2940bf",
   "metadata": {},
   "outputs": [
    {
     "data": {
      "text/plain": [
       "0.08673303388537969"
      ]
     },
     "execution_count": 23,
     "metadata": {},
     "output_type": "execute_result"
    }
   ],
   "source": [
    "np.mean(results[1]['results']['validation']['scalar']['loss'])"
   ]
  },
  {
   "cell_type": "markdown",
   "id": "d37a40b9-c594-428c-8e8f-265943b01b05",
   "metadata": {},
   "source": [
    "### Prediction on new data"
   ]
  },
  {
   "cell_type": "code",
   "execution_count": 66,
   "id": "60a17151-60aa-4776-a15e-e130e042f6ee",
   "metadata": {},
   "outputs": [
    {
     "name": "stdout",
     "output_type": "stream",
     "text": [
      "\u001b[32m2022-06-09 08:45:49.809\u001b[0m | \u001b[1mINFO    \u001b[0m | \u001b[36msrc.beam.experiment\u001b[0m:\u001b[36mrun\u001b[0m:\u001b[36m425\u001b[0m - \u001b[1mSingle worker mode\u001b[0m\n",
      "\u001b[32m2022-06-09 08:45:49.810\u001b[0m | \u001b[1mINFO    \u001b[0m | \u001b[36msrc.beam.experiment\u001b[0m:\u001b[36mrun_worker\u001b[0m:\u001b[36m45\u001b[0m - \u001b[1mWorker: 1/1 is running...\u001b[0m\n"
     ]
    },
    {
     "data": {
      "application/vnd.jupyter.widget-view+json": {
       "model_id": "016b76bd2ed64f53bbe1993a437c897c",
       "version_major": 2,
       "version_minor": 0
      },
      "text/plain": [
       "train:   0%|          | 0/389 [00:00<?, ?it/s]"
      ]
     },
     "metadata": {},
     "output_type": "display_data"
    },
    {
     "data": {
      "application/vnd.jupyter.widget-view+json": {
       "model_id": "025d33b6fa834d888d65c3e7b005bb80",
       "version_major": 2,
       "version_minor": 0
      },
      "text/plain": [
       "validation:   0%|          | 0/389 [00:00<?, ?it/s]"
      ]
     },
     "metadata": {},
     "output_type": "display_data"
    },
    {
     "name": "stdout",
     "output_type": "stream",
     "text": [
      "\n",
      "\u001b[32m2022-06-09 08:45:51.544\u001b[0m | \u001b[1mINFO    \u001b[0m | \u001b[36msrc.beam.experiment\u001b[0m:\u001b[36msave_model_results\u001b[0m:\u001b[36m302\u001b[0m - \u001b[1mFinished epoch 11/2:\u001b[0m\n",
      "\u001b[32m2022-06-09 08:45:51.548\u001b[0m | \u001b[1mINFO    \u001b[0m | \u001b[36msrc.beam.experiment\u001b[0m:\u001b[36mlog_data\u001b[0m:\u001b[36m340\u001b[0m - \u001b[1mtrain:\u001b[0m\n",
      "\u001b[32m2022-06-09 08:45:51.549\u001b[0m | \u001b[1mINFO    \u001b[0m | \u001b[36msrc.beam.experiment\u001b[0m:\u001b[36mlog_data\u001b[0m:\u001b[36m344\u001b[0m - \u001b[1mloss 0.344566 \t|\u001b[0m\n",
      "\u001b[32m2022-06-09 08:45:51.550\u001b[0m | \u001b[1mINFO    \u001b[0m | \u001b[36msrc.beam.experiment\u001b[0m:\u001b[36mlog_data\u001b[0m:\u001b[36m344\u001b[0m - \u001b[1macc 0.900155 \t|\u001b[0m\n",
      "\u001b[32m2022-06-09 08:45:51.550\u001b[0m | \u001b[1mINFO    \u001b[0m | \u001b[36msrc.beam.experiment\u001b[0m:\u001b[36mlog_data\u001b[0m:\u001b[36m344\u001b[0m - \u001b[1mlr 0.00099 \t|\u001b[0m\n",
      "\u001b[32m2022-06-09 08:45:51.551\u001b[0m | \u001b[1mINFO    \u001b[0m | \u001b[36msrc.beam.experiment\u001b[0m:\u001b[36mlog_data\u001b[0m:\u001b[36m340\u001b[0m - \u001b[1mvalidation:\u001b[0m\n",
      "\u001b[32m2022-06-09 08:45:51.552\u001b[0m | \u001b[1mINFO    \u001b[0m | \u001b[36msrc.beam.experiment\u001b[0m:\u001b[36mlog_data\u001b[0m:\u001b[36m344\u001b[0m - \u001b[1mloss 0.138415 \t|\u001b[0m\n",
      "\u001b[32m2022-06-09 08:45:51.552\u001b[0m | \u001b[1mINFO    \u001b[0m | \u001b[36msrc.beam.experiment\u001b[0m:\u001b[36mlog_data\u001b[0m:\u001b[36m344\u001b[0m - \u001b[1macc 0.957945 \t|\u001b[0m\n"
     ]
    },
    {
     "data": {
      "application/vnd.jupyter.widget-view+json": {
       "model_id": "e7e4941da3b54ce182622688e38cffb9",
       "version_major": 2,
       "version_minor": 0
      },
      "text/plain": [
       "train:   0%|          | 0/389 [00:00<?, ?it/s]"
      ]
     },
     "metadata": {},
     "output_type": "display_data"
    },
    {
     "data": {
      "application/vnd.jupyter.widget-view+json": {
       "model_id": "85d96899ccd74ff0832d32f29de12652",
       "version_major": 2,
       "version_minor": 0
      },
      "text/plain": [
       "validation:   0%|          | 0/389 [00:00<?, ?it/s]"
      ]
     },
     "metadata": {},
     "output_type": "display_data"
    },
    {
     "name": "stdout",
     "output_type": "stream",
     "text": [
      "\n",
      "\u001b[32m2022-06-09 08:45:53.273\u001b[0m | \u001b[1mINFO    \u001b[0m | \u001b[36msrc.beam.experiment\u001b[0m:\u001b[36msave_model_results\u001b[0m:\u001b[36m302\u001b[0m - \u001b[1mFinished epoch 12/2:\u001b[0m\n",
      "\u001b[32m2022-06-09 08:45:53.276\u001b[0m | \u001b[1mINFO    \u001b[0m | \u001b[36msrc.beam.experiment\u001b[0m:\u001b[36mlog_data\u001b[0m:\u001b[36m340\u001b[0m - \u001b[1mtrain:\u001b[0m\n",
      "\u001b[32m2022-06-09 08:45:53.276\u001b[0m | \u001b[1mINFO    \u001b[0m | \u001b[36msrc.beam.experiment\u001b[0m:\u001b[36mlog_data\u001b[0m:\u001b[36m344\u001b[0m - \u001b[1mloss 0.0878807 \t|\u001b[0m\n",
      "\u001b[32m2022-06-09 08:45:53.277\u001b[0m | \u001b[1mINFO    \u001b[0m | \u001b[36msrc.beam.experiment\u001b[0m:\u001b[36mlog_data\u001b[0m:\u001b[36m344\u001b[0m - \u001b[1macc 0.972686 \t|\u001b[0m\n",
      "\u001b[32m2022-06-09 08:45:53.277\u001b[0m | \u001b[1mINFO    \u001b[0m | \u001b[36msrc.beam.experiment\u001b[0m:\u001b[36mlog_data\u001b[0m:\u001b[36m344\u001b[0m - \u001b[1mlr 0.0009801 \t|\u001b[0m\n",
      "\u001b[32m2022-06-09 08:45:53.278\u001b[0m | \u001b[1mINFO    \u001b[0m | \u001b[36msrc.beam.experiment\u001b[0m:\u001b[36mlog_data\u001b[0m:\u001b[36m340\u001b[0m - \u001b[1mvalidation:\u001b[0m\n",
      "\u001b[32m2022-06-09 08:45:53.278\u001b[0m | \u001b[1mINFO    \u001b[0m | \u001b[36msrc.beam.experiment\u001b[0m:\u001b[36mlog_data\u001b[0m:\u001b[36m344\u001b[0m - \u001b[1mloss 0.114651 \t|\u001b[0m\n",
      "\u001b[32m2022-06-09 08:45:53.279\u001b[0m | \u001b[1mINFO    \u001b[0m | \u001b[36msrc.beam.experiment\u001b[0m:\u001b[36mlog_data\u001b[0m:\u001b[36m344\u001b[0m - \u001b[1macc 0.964653 \t|\u001b[0m\n"
     ]
    }
   ],
   "source": [
    "alg = mnist_algorithm_generator(experiment).fit()"
   ]
  },
  {
   "cell_type": "markdown",
   "id": "760d5af3-d3b2-499b-99b6-10670c20e292",
   "metadata": {},
   "source": [
    "lets simulate new data"
   ]
  },
  {
   "cell_type": "code",
   "execution_count": 20,
   "id": "bbfe16bf-f357-430d-9953-ddb82b0c960f",
   "metadata": {},
   "outputs": [],
   "source": [
    "from src.beam import check_type"
   ]
  },
  {
   "cell_type": "code",
   "execution_count": 67,
   "id": "587c08a6-63d0-40e4-be49-430562051b6e",
   "metadata": {},
   "outputs": [],
   "source": [
    "ind, examples = alg.dataset[np.random.choice(len(alg.dataset), size=5000000, replace=True)]"
   ]
  },
  {
   "cell_type": "code",
   "execution_count": 71,
   "id": "4f5208d2-f8f0-4bdd-a161-00ce93b69a6b",
   "metadata": {},
   "outputs": [
    {
     "data": {
      "text/plain": [
       "torch.Size([5000000, 28, 28])"
      ]
     },
     "execution_count": 71,
     "metadata": {},
     "output_type": "execute_result"
    }
   ],
   "source": [
    "examples['x'].shape"
   ]
  },
  {
   "cell_type": "code",
   "execution_count": 103,
   "id": "8ad7bb71-cad7-4999-ac32-23fa2f5b3ad3",
   "metadata": {},
   "outputs": [
    {
     "data": {
      "application/vnd.jupyter.widget-view+json": {
       "model_id": "7070dc6b4c2246fb97f7854b39b5d986",
       "version_major": 2,
       "version_minor": 0
      },
      "text/plain": [
       "predict:   4%|4         | 795/19532 [00:00<?, ?it/s]"
      ]
     },
     "metadata": {},
     "output_type": "display_data"
    }
   ],
   "source": [
    "res = alg.predict(examples['x'])"
   ]
  },
  {
   "cell_type": "code",
   "execution_count": 104,
   "id": "46ca6ed9-dabb-45e9-97bb-45828982cabf",
   "metadata": {},
   "outputs": [
    {
     "data": {
      "text/plain": [
       "(tensor([10, 11]),\n",
       " tensor([[ -1.1058,  -5.2819,   6.7675,  -4.5221,  -1.9823,  -0.1221,  12.8147,\n",
       "           -6.2498,  -3.5055, -11.7264],\n",
       "         [  5.1575,  -5.3089,  -1.4568,  -5.4518,  -1.2298,   3.0352,   9.2063,\n",
       "           -4.4982,  -5.5891,  -3.6312]]))"
      ]
     },
     "execution_count": 104,
     "metadata": {},
     "output_type": "execute_result"
    }
   ],
   "source": [
    "res[10:12]"
   ]
  },
  {
   "cell_type": "code",
   "execution_count": 99,
   "id": "07c72a45-df0a-4391-9b40-fff170b70e2c",
   "metadata": {},
   "outputs": [],
   "source": [
    "res = alg.predict(examples['x'], lazy=True)"
   ]
  },
  {
   "cell_type": "code",
   "execution_count": 105,
   "id": "f35546cb-1145-4434-9a84-18d2ac4b29b6",
   "metadata": {},
   "outputs": [
    {
     "data": {
      "text/plain": [
       "(tensor([  10,   11,   12,  ..., 1097, 1098, 1099]),\n",
       " tensor([[ -1.1058,  -5.2819,   6.7675,  ...,  -6.2498,  -3.5055, -11.7264],\n",
       "         [  5.1575,  -5.3089,  -1.4568,  ...,  -4.4982,  -5.5891,  -3.6312],\n",
       "         [ -6.6506,   8.8380,  -4.0550,  ...,  -0.4406,   0.0359,  -2.0613],\n",
       "         ...,\n",
       "         [ -2.2278,  -4.8034,   1.0642,  ...,  14.1449,  -2.5991,   3.3570],\n",
       "         [ -3.1427,  -6.0882,  -2.7378,  ...,  -9.8531,  12.0196,   1.0947],\n",
       "         [ -2.8209,  -9.3018,  -1.1522,  ...,  -7.7489,  12.8719,   2.1492]]))"
      ]
     },
     "execution_count": 105,
     "metadata": {},
     "output_type": "execute_result"
    }
   ],
   "source": [
    "res[10:1100]"
   ]
  },
  {
   "cell_type": "code",
   "execution_count": 98,
   "id": "4f03df29-4425-412e-8429-68f1e3aa9b59",
   "metadata": {},
   "outputs": [
    {
     "data": {
      "text/plain": [
       "tensor([[ -1.1058,  -5.2819,   6.7675,  -4.5221,  -1.9823,  -0.1221,  12.8147,\n",
       "          -6.2498,  -3.5055, -11.7264]])"
      ]
     },
     "execution_count": 98,
     "metadata": {},
     "output_type": "execute_result"
    }
   ],
   "source": [
    "dataset.data"
   ]
  },
  {
   "cell_type": "code",
   "execution_count": 95,
   "id": "38b1ffac-1f21-4e5c-bdc4-b4afdbe3a08b",
   "metadata": {},
   "outputs": [
    {
     "data": {
      "text/plain": [
       "src.beam.dataset.UniversalDataset"
      ]
     },
     "execution_count": 95,
     "metadata": {},
     "output_type": "execute_result"
    }
   ],
   "source": [
    "type(x)"
   ]
  },
  {
   "cell_type": "code",
   "execution_count": 49,
   "id": "650dad1d-e69c-4cda-a25b-d411833e4fd8",
   "metadata": {},
   "outputs": [],
   "source": [
    "hparams = beam_arguments(get_cifar10_parser(), f\"--project-name=cifar10 --root-dir=/tmp/cifar --algorithm=CIFAR10Algorithm --device=0 --amp --lr-d=1e-2 --batch-size=512\",\n",
    "                      \"--n-epochs=4 --clip-gradient=1000 --parallel=1 --accumulate=1 --no-deterministic\",\n",
    "                      \"--weight-decay=3e-5 --beta1=0.9\")"
   ]
  },
  {
   "cell_type": "markdown",
   "id": "b2fbdede-e3c3-4411-9822-f98355c5566c",
   "metadata": {},
   "source": [
    "Lets call a new experiment instance. We can avoid printing all the hyperparameters by setting the argument ```print_hyperparameters=False```"
   ]
  },
  {
   "cell_type": "code",
   "execution_count": 50,
   "id": "4173164b-2e4c-44ab-b250-88804897440c",
   "metadata": {},
   "outputs": [
    {
     "name": "stdout",
     "output_type": "stream",
     "text": [
      "\u001b[32m2022-07-12 12:46:54\u001b[0m | \u001b[1mINFO    \u001b[0m | \u001b[1mCreating new experiment\u001b[0m\n",
      "\u001b[32m2022-07-12 12:46:54\u001b[0m | \u001b[1mINFO    \u001b[0m | \u001b[1mExperiment directory is: /tmp/cifar/cifar10/CIFAR10Algorithm/debug/0027_20220712_124654\u001b[0m\n"
     ]
    }
   ],
   "source": [
    "experiment = Experiment(hparams, print_hyperparameters=False)"
   ]
  },
  {
   "cell_type": "code",
   "execution_count": 51,
   "id": "a2ecc41d-9b07-4958-aec5-bf361a72b438",
   "metadata": {},
   "outputs": [],
   "source": [
    "from cifar10_example import CIFAR10Algorithm"
   ]
  },
  {
   "cell_type": "code",
   "execution_count": 52,
   "id": "5b63918b-607d-4c26-8dbb-007871a9b400",
   "metadata": {},
   "outputs": [
    {
     "name": "stdout",
     "output_type": "stream",
     "text": [
      "\u001b[32m2022-07-12 12:46:56\u001b[0m | \u001b[1mINFO    \u001b[0m | \u001b[1mSingle worker mode\u001b[0m\n",
      "\u001b[32m2022-07-12 12:46:56\u001b[0m | \u001b[1mINFO    \u001b[0m | \u001b[1mWorker: 1/1 is running...\u001b[0m\n"
     ]
    },
    {
     "data": {
      "application/vnd.jupyter.widget-view+json": {
       "model_id": "",
       "version_major": 2,
       "version_minor": 0
      },
      "text/plain": [
       "train:   0%|          | 0/73 [00:00<?, ?it/s]"
      ]
     },
     "metadata": {},
     "output_type": "display_data"
    },
    {
     "name": "stderr",
     "output_type": "stream",
     "text": [
      "/opt/conda/lib/python3.8/site-packages/torch/optim/lr_scheduler.py:131: UserWarning: Detected call of `lr_scheduler.step()` before `optimizer.step()`. In PyTorch 1.1.0 and later, you should call them in the opposite order: `optimizer.step()` before `lr_scheduler.step()`.  Failure to do this will result in PyTorch skipping the first value of the learning rate schedule. See more details at https://pytorch.org/docs/stable/optim.html#how-to-adjust-learning-rate\n",
      "  warnings.warn(\"Detected call of `lr_scheduler.step()` before `optimizer.step()`. \"\n"
     ]
    },
    {
     "data": {
      "application/vnd.jupyter.widget-view+json": {
       "model_id": "",
       "version_major": 2,
       "version_minor": 0
      },
      "text/plain": [
       "validation:   0%|          | 0/22 [00:00<?, ?it/s]"
      ]
     },
     "metadata": {},
     "output_type": "display_data"
    },
    {
     "name": "stdout",
     "output_type": "stream",
     "text": [
      "\u001b[32m2022-07-12 12:47:03\u001b[0m | \u001b[1mINFO    \u001b[0m | \u001b[1m\u001b[0m\n",
      "\u001b[32m2022-07-12 12:47:03\u001b[0m | \u001b[1mINFO    \u001b[0m | \u001b[1mFinished epoch 1/4:\u001b[0m\n",
      "\u001b[32m2022-07-12 12:47:03\u001b[0m | \u001b[1mINFO    \u001b[0m | \u001b[1mtrain:\u001b[0m\n",
      "\u001b[32m2022-07-12 12:47:03\u001b[0m | \u001b[1mINFO    \u001b[0m | \u001b[1mloss:           | avg: 917.5     | std: 113.0     | min: 751.2     | 25%: 831.8     | 50%: 889.4     | 75%: 991.5     | max: 1.182e+03 \u001b[0m\n",
      "\u001b[32m2022-07-12 12:47:03\u001b[0m | \u001b[1mINFO    \u001b[0m | \u001b[1macc:            | avg: 0.4674    | std: 0.1441    | min: 0.09375   | 25%: 0.3828    | 50%: 0.502     | 75%: 0.5762    | max: 0.6699    \u001b[0m\n",
      "\u001b[32m2022-07-12 12:47:03\u001b[0m | \u001b[1mINFO    \u001b[0m | \u001b[1mlr:             | avg: 0.0005    | std: nan       | min: 0.0005    | 25%: 0.0005    | 50%: 0.0005    | 75%: 0.0005    | max: 0.0005    \u001b[0m\n",
      "\u001b[32m2022-07-12 12:47:03\u001b[0m | \u001b[1mINFO    \u001b[0m | \u001b[1mvalidation:\u001b[0m\n",
      "\u001b[32m2022-07-12 12:47:03\u001b[0m | \u001b[1mINFO    \u001b[0m | \u001b[1mloss:           | avg: 792.5     | std: 13.57     | min: 765.9     | 25%: 783.1     | 50%: 794.2     | 75%: 802.1     | max: 818.6     \u001b[0m\n",
      "\u001b[32m2022-07-12 12:47:03\u001b[0m | \u001b[1mINFO    \u001b[0m | \u001b[1macc:            | avg: 0.6274    | std: 0.02524   | min: 0.584     | 25%: 0.6113    | 50%: 0.625     | 75%: 0.6455    | max: 0.6719    \u001b[0m\n"
     ]
    },
    {
     "data": {
      "application/vnd.jupyter.widget-view+json": {
       "model_id": "",
       "version_major": 2,
       "version_minor": 0
      },
      "text/plain": [
       "train:   0%|          | 0/73 [00:00<?, ?it/s]"
      ]
     },
     "metadata": {},
     "output_type": "display_data"
    },
    {
     "data": {
      "application/vnd.jupyter.widget-view+json": {
       "model_id": "",
       "version_major": 2,
       "version_minor": 0
      },
      "text/plain": [
       "validation:   0%|          | 0/22 [00:00<?, ?it/s]"
      ]
     },
     "metadata": {},
     "output_type": "display_data"
    },
    {
     "name": "stdout",
     "output_type": "stream",
     "text": [
      "\u001b[32m2022-07-12 12:47:13\u001b[0m | \u001b[1mINFO    \u001b[0m | \u001b[1m\u001b[0m\n",
      "\u001b[32m2022-07-12 12:47:13\u001b[0m | \u001b[1mINFO    \u001b[0m | \u001b[1mFinished epoch 2/4:\u001b[0m\n",
      "\u001b[32m2022-07-12 12:47:13\u001b[0m | \u001b[1mINFO    \u001b[0m | \u001b[1mtrain:\u001b[0m\n",
      "\u001b[32m2022-07-12 12:47:13\u001b[0m | \u001b[1mINFO    \u001b[0m | \u001b[1mloss:           | avg: 726.7     | std: 36.77     | min: 653.2     | 25%: 699.6     | 50%: 724.7     | 75%: 748.3     | max: 818.5     \u001b[0m\n",
      "\u001b[32m2022-07-12 12:47:13\u001b[0m | \u001b[1mINFO    \u001b[0m | \u001b[1macc:            | avg: 0.7087    | std: 0.04844   | min: 0.5996    | 25%: 0.6738    | 50%: 0.709     | 75%: 0.7461    | max: 0.7969    \u001b[0m\n",
      "\u001b[32m2022-07-12 12:47:13\u001b[0m | \u001b[1mINFO    \u001b[0m | \u001b[1mlr:             | avg: 0.0005703 | std: nan       | min: 0.0005703 | 25%: 0.0005703 | 50%: 0.0005703 | 75%: 0.0005703 | max: 0.0005703 \u001b[0m\n",
      "\u001b[32m2022-07-12 12:47:13\u001b[0m | \u001b[1mINFO    \u001b[0m | \u001b[1mvalidation:\u001b[0m\n",
      "\u001b[32m2022-07-12 12:47:13\u001b[0m | \u001b[1mINFO    \u001b[0m | \u001b[1mloss:           | avg: 747.1     | std: 12.14     | min: 728.0     | 25%: 736.4     | 50%: 748.0     | 75%: 756.4     | max: 766.9     \u001b[0m\n",
      "\u001b[32m2022-07-12 12:47:13\u001b[0m | \u001b[1mINFO    \u001b[0m | \u001b[1macc:            | avg: 0.6969    | std: 0.01681   | min: 0.6621    | 25%: 0.6841    | 50%: 0.7002    | 75%: 0.709     | max: 0.7188    \u001b[0m\n"
     ]
    },
    {
     "data": {
      "application/vnd.jupyter.widget-view+json": {
       "model_id": "",
       "version_major": 2,
       "version_minor": 0
      },
      "text/plain": [
       "train:   0%|          | 0/73 [00:00<?, ?it/s]"
      ]
     },
     "metadata": {},
     "output_type": "display_data"
    },
    {
     "data": {
      "application/vnd.jupyter.widget-view+json": {
       "model_id": "",
       "version_major": 2,
       "version_minor": 0
      },
      "text/plain": [
       "validation:   0%|          | 0/22 [00:00<?, ?it/s]"
      ]
     },
     "metadata": {},
     "output_type": "display_data"
    },
    {
     "name": "stdout",
     "output_type": "stream",
     "text": [
      "\u001b[32m2022-07-12 12:47:22\u001b[0m | \u001b[1mINFO    \u001b[0m | \u001b[1m\u001b[0m\n",
      "\u001b[32m2022-07-12 12:47:22\u001b[0m | \u001b[1mINFO    \u001b[0m | \u001b[1mFinished epoch 3/4:\u001b[0m\n",
      "\u001b[32m2022-07-12 12:47:22\u001b[0m | \u001b[1mINFO    \u001b[0m | \u001b[1mtrain:\u001b[0m\n",
      "\u001b[32m2022-07-12 12:47:22\u001b[0m | \u001b[1mINFO    \u001b[0m | \u001b[1mloss:           | avg: 663.8     | std: 18.9      | min: 617.6     | 25%: 650.0     | 50%: 662.6     | 75%: 678.2     | max: 717.6     \u001b[0m\n",
      "\u001b[32m2022-07-12 12:47:22\u001b[0m | \u001b[1mINFO    \u001b[0m | \u001b[1macc:            | avg: 0.7866    | std: 0.02445   | min: 0.7324    | 25%: 0.7695    | 50%: 0.7891    | 75%: 0.8047    | max: 0.8496    \u001b[0m\n",
      "\u001b[32m2022-07-12 12:47:22\u001b[0m | \u001b[1mINFO    \u001b[0m | \u001b[1mlr:             | avg: 0.0008555 | std: nan       | min: 0.0008555 | 25%: 0.0008555 | 50%: 0.0008555 | 75%: 0.0008555 | max: 0.0008555 \u001b[0m\n",
      "\u001b[32m2022-07-12 12:47:22\u001b[0m | \u001b[1mINFO    \u001b[0m | \u001b[1mvalidation:\u001b[0m\n",
      "\u001b[32m2022-07-12 12:47:22\u001b[0m | \u001b[1mINFO    \u001b[0m | \u001b[1mloss:           | avg: 680.1     | std: 13.69     | min: 650.6     | 25%: 675.3     | 50%: 682.1     | 75%: 686.8     | max: 700.4     \u001b[0m\n",
      "\u001b[32m2022-07-12 12:47:22\u001b[0m | \u001b[1mINFO    \u001b[0m | \u001b[1macc:            | avg: 0.7733    | std: 0.01546   | min: 0.7441    | 25%: 0.7676    | 50%: 0.7744    | 75%: 0.7808    | max: 0.8066    \u001b[0m\n"
     ]
    },
    {
     "data": {
      "application/vnd.jupyter.widget-view+json": {
       "model_id": "",
       "version_major": 2,
       "version_minor": 0
      },
      "text/plain": [
       "train:   0%|          | 0/73 [00:00<?, ?it/s]"
      ]
     },
     "metadata": {},
     "output_type": "display_data"
    },
    {
     "data": {
      "application/vnd.jupyter.widget-view+json": {
       "model_id": "",
       "version_major": 2,
       "version_minor": 0
      },
      "text/plain": [
       "validation:   0%|          | 0/22 [00:00<?, ?it/s]"
      ]
     },
     "metadata": {},
     "output_type": "display_data"
    },
    {
     "name": "stdout",
     "output_type": "stream",
     "text": [
      "\u001b[32m2022-07-12 12:47:32\u001b[0m | \u001b[1mINFO    \u001b[0m | \u001b[1m\u001b[0m\n",
      "\u001b[32m2022-07-12 12:47:32\u001b[0m | \u001b[1mINFO    \u001b[0m | \u001b[1mFinished epoch 4/4:\u001b[0m\n",
      "\u001b[32m2022-07-12 12:47:32\u001b[0m | \u001b[1mINFO    \u001b[0m | \u001b[1mtrain:\u001b[0m\n",
      "\u001b[32m2022-07-12 12:47:32\u001b[0m | \u001b[1mINFO    \u001b[0m | \u001b[1mloss:           | avg: 633.6     | std: 16.54     | min: 604.0     | 25%: 621.5     | 50%: 629.8     | 75%: 644.9     | max: 689.0     \u001b[0m\n",
      "\u001b[32m2022-07-12 12:47:32\u001b[0m | \u001b[1mINFO    \u001b[0m | \u001b[1macc:            | avg: 0.8224    | std: 0.02249   | min: 0.7539    | 25%: 0.8086    | 50%: 0.8281    | 75%: 0.8398    | max: 0.8594    \u001b[0m\n",
      "\u001b[32m2022-07-12 12:47:32\u001b[0m | \u001b[1mINFO    \u001b[0m | \u001b[1mlr:             | avg: 0.001141  | std: nan       | min: 0.001141  | 25%: 0.001141  | 50%: 0.001141  | 75%: 0.001141  | max: 0.001141  \u001b[0m\n",
      "\u001b[32m2022-07-12 12:47:32\u001b[0m | \u001b[1mINFO    \u001b[0m | \u001b[1mvalidation:\u001b[0m\n",
      "\u001b[32m2022-07-12 12:47:32\u001b[0m | \u001b[1mINFO    \u001b[0m | \u001b[1mloss:           | avg: 646.7     | std: 9.117     | min: 626.8     | 25%: 641.5     | 50%: 647.7     | 75%: 651.7     | max: 664.7     \u001b[0m\n",
      "\u001b[32m2022-07-12 12:47:32\u001b[0m | \u001b[1mINFO    \u001b[0m | \u001b[1macc:            | avg: 0.8066    | std: 0.01537   | min: 0.7871    | 25%: 0.7969    | 50%: 0.8018    | 75%: 0.814     | max: 0.8438    \u001b[0m\n"
     ]
    }
   ],
   "source": [
    "alg = experiment.fit(CIFAR10Algorithm, CIFAR10Dataset)"
   ]
  },
  {
   "cell_type": "code",
   "execution_count": null,
   "id": "d3810c49-db93-44a5-8b85-0e59507791f4",
   "metadata": {},
   "outputs": [],
   "source": []
  },
  {
   "cell_type": "code",
   "execution_count": null,
   "id": "6a3e99dc-4a00-44a5-ac1a-7b2ebab3baf3",
   "metadata": {},
   "outputs": [],
   "source": []
  },
  {
   "cell_type": "code",
   "execution_count": null,
   "id": "d0b152cf-0df0-47e7-8ab4-fd522e929a3f",
   "metadata": {},
   "outputs": [],
   "source": []
  },
  {
   "cell_type": "code",
   "execution_count": 83,
   "id": "9dd24124-7674-4c95-bf45-e9c2eea42632",
   "metadata": {},
   "outputs": [
    {
     "data": {
      "application/vnd.jupyter.widget-view+json": {
       "model_id": "9fa5d5a0ba8749c8861044a06caa4632",
       "version_major": 2,
       "version_minor": 0
      },
      "text/plain": [
       "predict:   7%|7         | 1344/19141 [00:00<?, ?it/s]"
      ]
     },
     "metadata": {},
     "output_type": "display_data"
    },
    {
     "data": {
      "text/plain": [
       "torch.Size([4900000, 10])"
      ]
     },
     "execution_count": 83,
     "metadata": {},
     "output_type": "execute_result"
    }
   ],
   "source": [
    "res[ind[:4900000]].values.shape"
   ]
  },
  {
   "cell_type": "code",
   "execution_count": 76,
   "id": "91ce92aa-6f41-4a49-a026-8284cac693a1",
   "metadata": {},
   "outputs": [
    {
     "data": {
      "application/vnd.jupyter.widget-view+json": {
       "model_id": "b74ec13e8f7f4a5fa153e007d7cd7f11",
       "version_major": 2,
       "version_minor": 0
      },
      "text/plain": [
       "dataloader:   0%|          | 0/79 [00:00<?, ?it/s]"
      ]
     },
     "metadata": {},
     "output_type": "display_data"
    }
   ],
   "source": [
    "results = alg(examples)\n",
    "# we can also use alg.evaluate to obtain the results\n",
    "# results = alg.evaluate(examples)"
   ]
  },
  {
   "cell_type": "markdown",
   "id": "7e0475be-6584-4cce-acb8-89c778998aca",
   "metadata": {},
   "source": [
    "now lets simulate new unlabled data"
   ]
  },
  {
   "cell_type": "code",
   "execution_count": 85,
   "id": "35f195bf-fbf7-4b97-ab87-1444b5934008",
   "metadata": {},
   "outputs": [],
   "source": [
    "examples = alg.dataset[np.random.choice(len(alg.dataset), size=20000, replace=False)]['x']"
   ]
  },
  {
   "cell_type": "code",
   "execution_count": 86,
   "id": "4274276f-1f88-44af-a82c-885276755e6a",
   "metadata": {},
   "outputs": [
    {
     "data": {
      "application/vnd.jupyter.widget-view+json": {
       "model_id": "cc96a6a252034de683079b8e21660190",
       "version_major": 2,
       "version_minor": 0
      },
      "text/plain": [
       "dataloader:   0%|          | 0/79 [00:00<?, ?it/s]"
      ]
     },
     "metadata": {},
     "output_type": "display_data"
    }
   ],
   "source": [
    "# to support the predict method we must build our inference method to the case where with_labels=False\n",
    "\n",
    "results = alg.predict(examples)"
   ]
  },
  {
   "cell_type": "markdown",
   "id": "cebadd55-eb7e-40da-8743-1c854867c999",
   "metadata": {},
   "source": [
    "in this case the results contains only raw predictions without calculating accuracy"
   ]
  },
  {
   "cell_type": "markdown",
   "id": "22dce08a-2b82-4a4e-9e0d-1d4901b97463",
   "metadata": {},
   "source": [
    "## Explainability with Lime"
   ]
  },
  {
   "cell_type": "code",
   "execution_count": 84,
   "id": "a2341a01-8cad-4933-86cf-7c001142f408",
   "metadata": {},
   "outputs": [
    {
     "name": "stdout",
     "output_type": "stream",
     "text": [
      "\u001b[32m2022-06-09 12:48:34.658\u001b[0m | \u001b[1mINFO    \u001b[0m | \u001b[36msrc.beam.experiment\u001b[0m:\u001b[36mrun\u001b[0m:\u001b[36m425\u001b[0m - \u001b[1mSingle worker mode\u001b[0m\n",
      "\u001b[32m2022-06-09 12:48:34.659\u001b[0m | \u001b[1mINFO    \u001b[0m | \u001b[36msrc.beam.experiment\u001b[0m:\u001b[36mrun_worker\u001b[0m:\u001b[36m45\u001b[0m - \u001b[1mWorker: 1/1 is running...\u001b[0m\n"
     ]
    },
    {
     "data": {
      "application/vnd.jupyter.widget-view+json": {
       "model_id": "b616ac8cc9544bc4a0393ffa2259d9bb",
       "version_major": 2,
       "version_minor": 0
      },
      "text/plain": [
       "train:   0%|          | 0/389 [00:00<?, ?it/s]"
      ]
     },
     "metadata": {},
     "output_type": "display_data"
    },
    {
     "data": {
      "application/vnd.jupyter.widget-view+json": {
       "model_id": "b827d14829514097809aef7fd84d59d3",
       "version_major": 2,
       "version_minor": 0
      },
      "text/plain": [
       "validation:   0%|          | 0/389 [00:00<?, ?it/s]"
      ]
     },
     "metadata": {},
     "output_type": "display_data"
    },
    {
     "name": "stdout",
     "output_type": "stream",
     "text": [
      "\n",
      "\u001b[32m2022-06-09 12:48:39.805\u001b[0m | \u001b[1mINFO    \u001b[0m | \u001b[36msrc.beam.experiment\u001b[0m:\u001b[36msave_model_results\u001b[0m:\u001b[36m302\u001b[0m - \u001b[1mFinished epoch 7/2:\u001b[0m\n",
      "\u001b[32m2022-06-09 12:48:39.811\u001b[0m | \u001b[1mINFO    \u001b[0m | \u001b[36msrc.beam.experiment\u001b[0m:\u001b[36mlog_data\u001b[0m:\u001b[36m340\u001b[0m - \u001b[1mtrain:\u001b[0m\n",
      "\u001b[32m2022-06-09 12:48:39.811\u001b[0m | \u001b[1mINFO    \u001b[0m | \u001b[36msrc.beam.experiment\u001b[0m:\u001b[36mlog_data\u001b[0m:\u001b[36m344\u001b[0m - \u001b[1mloss 0.335708 \t|\u001b[0m\n",
      "\u001b[32m2022-06-09 12:48:39.812\u001b[0m | \u001b[1mINFO    \u001b[0m | \u001b[36msrc.beam.experiment\u001b[0m:\u001b[36mlog_data\u001b[0m:\u001b[36m344\u001b[0m - \u001b[1macc 0.904181 \t|\u001b[0m\n",
      "\u001b[32m2022-06-09 12:48:39.812\u001b[0m | \u001b[1mINFO    \u001b[0m | \u001b[36msrc.beam.experiment\u001b[0m:\u001b[36mlog_data\u001b[0m:\u001b[36m344\u001b[0m - \u001b[1mlr 0.00099 \t|\u001b[0m\n",
      "\u001b[32m2022-06-09 12:48:39.813\u001b[0m | \u001b[1mINFO    \u001b[0m | \u001b[36msrc.beam.experiment\u001b[0m:\u001b[36mlog_data\u001b[0m:\u001b[36m340\u001b[0m - \u001b[1mvalidation:\u001b[0m\n",
      "\u001b[32m2022-06-09 12:48:39.813\u001b[0m | \u001b[1mINFO    \u001b[0m | \u001b[36msrc.beam.experiment\u001b[0m:\u001b[36mlog_data\u001b[0m:\u001b[36m344\u001b[0m - \u001b[1mloss 0.132262 \t|\u001b[0m\n",
      "\u001b[32m2022-06-09 12:48:39.814\u001b[0m | \u001b[1mINFO    \u001b[0m | \u001b[36msrc.beam.experiment\u001b[0m:\u001b[36mlog_data\u001b[0m:\u001b[36m344\u001b[0m - \u001b[1macc 0.959542 \t|\u001b[0m\n"
     ]
    },
    {
     "data": {
      "application/vnd.jupyter.widget-view+json": {
       "model_id": "e6a57461be8845b7beb0d3eb1c354c90",
       "version_major": 2,
       "version_minor": 0
      },
      "text/plain": [
       "train:   0%|          | 0/389 [00:00<?, ?it/s]"
      ]
     },
     "metadata": {},
     "output_type": "display_data"
    },
    {
     "data": {
      "application/vnd.jupyter.widget-view+json": {
       "model_id": "fb4e572de6264423b7aecf0780ba4572",
       "version_major": 2,
       "version_minor": 0
      },
      "text/plain": [
       "validation:   0%|          | 0/389 [00:00<?, ?it/s]"
      ]
     },
     "metadata": {},
     "output_type": "display_data"
    },
    {
     "name": "stdout",
     "output_type": "stream",
     "text": [
      "\n",
      "\u001b[32m2022-06-09 12:48:45.214\u001b[0m | \u001b[1mINFO    \u001b[0m | \u001b[36msrc.beam.experiment\u001b[0m:\u001b[36msave_model_results\u001b[0m:\u001b[36m302\u001b[0m - \u001b[1mFinished epoch 8/2:\u001b[0m\n",
      "\u001b[32m2022-06-09 12:48:45.226\u001b[0m | \u001b[1mINFO    \u001b[0m | \u001b[36msrc.beam.experiment\u001b[0m:\u001b[36mlog_data\u001b[0m:\u001b[36m340\u001b[0m - \u001b[1mtrain:\u001b[0m\n",
      "\u001b[32m2022-06-09 12:48:45.226\u001b[0m | \u001b[1mINFO    \u001b[0m | \u001b[36msrc.beam.experiment\u001b[0m:\u001b[36mlog_data\u001b[0m:\u001b[36m344\u001b[0m - \u001b[1mloss 0.0871812 \t|\u001b[0m\n",
      "\u001b[32m2022-06-09 12:48:45.227\u001b[0m | \u001b[1mINFO    \u001b[0m | \u001b[36msrc.beam.experiment\u001b[0m:\u001b[36mlog_data\u001b[0m:\u001b[36m344\u001b[0m - \u001b[1macc 0.973811 \t|\u001b[0m\n",
      "\u001b[32m2022-06-09 12:48:45.228\u001b[0m | \u001b[1mINFO    \u001b[0m | \u001b[36msrc.beam.experiment\u001b[0m:\u001b[36mlog_data\u001b[0m:\u001b[36m344\u001b[0m - \u001b[1mlr 0.0009801 \t|\u001b[0m\n",
      "\u001b[32m2022-06-09 12:48:45.229\u001b[0m | \u001b[1mINFO    \u001b[0m | \u001b[36msrc.beam.experiment\u001b[0m:\u001b[36mlog_data\u001b[0m:\u001b[36m340\u001b[0m - \u001b[1mvalidation:\u001b[0m\n",
      "\u001b[32m2022-06-09 12:48:45.229\u001b[0m | \u001b[1mINFO    \u001b[0m | \u001b[36msrc.beam.experiment\u001b[0m:\u001b[36mlog_data\u001b[0m:\u001b[36m344\u001b[0m - \u001b[1mloss 0.0976954 \t|\u001b[0m\n",
      "\u001b[32m2022-06-09 12:48:45.230\u001b[0m | \u001b[1mINFO    \u001b[0m | \u001b[36msrc.beam.experiment\u001b[0m:\u001b[36mlog_data\u001b[0m:\u001b[36m344\u001b[0m - \u001b[1macc 0.971632 \t|\u001b[0m\n"
     ]
    }
   ],
   "source": [
    "alg = mnist_algorithm_generator(experiment).fit()"
   ]
  },
  {
   "cell_type": "code",
   "execution_count": 75,
   "id": "cdf98af5-6d18-4c1b-a95d-007365065969",
   "metadata": {},
   "outputs": [],
   "source": [
    "from lime import lime_image\n",
    "\n",
    "from skimage.color import gray2rgb, rgb2gray, label2rgb # since the code wants color images"
   ]
  },
  {
   "cell_type": "code",
   "execution_count": 95,
   "id": "0bf47c8c-18b2-4e06-bf60-87e56a83323f",
   "metadata": {},
   "outputs": [],
   "source": [
    "def predict_fn(images):\n",
    "    images = [rgb2gray(img) for img in images]\n",
    "    # images = [img.ravel() for img in images]\n",
    "    images = torch.tensor(np.stack(images))\n",
    "    results = alg.predict(images, enable_tqdm=False)\n",
    "    y = torch.softmax(torch.concat(results['predictions']['y_pred']), dim=1).cpu().numpy()\n",
    "    return y"
   ]
  },
  {
   "cell_type": "code",
   "execution_count": 96,
   "id": "20a98713-9b94-4a67-8361-a006d4911288",
   "metadata": {},
   "outputs": [],
   "source": [
    "explainer = lime_image.LimeImageExplainer()"
   ]
  },
  {
   "cell_type": "code",
   "execution_count": 113,
   "id": "298d90ec-d847-40b2-ab16-177ed4165c36",
   "metadata": {},
   "outputs": [],
   "source": [
    "i = 60003\n",
    "\n",
    "image = alg.dataset[i]['x']\n",
    "label = int(alg.dataset[i]['y'])"
   ]
  },
  {
   "cell_type": "code",
   "execution_count": 114,
   "id": "4d2e0c63-355e-458c-99b5-511229bdf65d",
   "metadata": {},
   "outputs": [
    {
     "data": {
      "application/vnd.jupyter.widget-view+json": {
       "model_id": "aa276f81aaba4a30ba90fb607afea799",
       "version_major": 2,
       "version_minor": 0
      },
      "text/plain": [
       "  0%|          | 0/1000 [00:00<?, ?it/s]"
      ]
     },
     "metadata": {},
     "output_type": "display_data"
    }
   ],
   "source": [
    "explanation = explainer.explain_instance(image, predict_fn, top_labels=5, hide_color=0, num_samples=1000)"
   ]
  },
  {
   "cell_type": "code",
   "execution_count": 115,
   "id": "6410c020-e51c-498e-b172-199908e10c0a",
   "metadata": {},
   "outputs": [
    {
     "data": {
      "text/plain": [
       "Text(0.5, 1.0, 'Positive/Negative Regions for 0')"
      ]
     },
     "execution_count": 115,
     "metadata": {},
     "output_type": "execute_result"
    },
    {
     "data": {
      "image/png": "[encoded data removed]",
      "text/plain": [
       "<Figure size 576x288 with 2 Axes>"
      ]
     },
     "metadata": {
      "needs_background": "light"
     },
     "output_type": "display_data"
    }
   ],
   "source": [
    "temp, mask = explanation.get_image_and_mask(label, positive_only=True, num_features=10, hide_rest=False, min_weight = 0.01)\n",
    "fig, (ax1, ax2) = plt.subplots(1,2, figsize = (8, 4))\n",
    "ax1.imshow(label2rgb(mask,temp, bg_label = 0), interpolation = 'nearest')\n",
    "ax1.set_title('Positive Regions for {}'.format(label))\n",
    "temp, mask = explanation.get_image_and_mask(label, positive_only=False, num_features=10, hide_rest=False, min_weight = 0.01)\n",
    "ax2.imshow(label2rgb(3-mask,temp, bg_label = 0), interpolation = 'nearest')\n",
    "ax2.set_title('Positive/Negative Regions for {}'.format(label))"
   ]
  },
  {
   "cell_type": "markdown",
   "id": "39375879-e194-43b9-8432-998e64b50aea",
   "metadata": {},
   "source": [
    "## Explainability with captum"
   ]
  },
  {
   "cell_type": "code",
   "execution_count": 5,
   "id": "6186c708-3dd6-4df3-9208-59d588e3c42d",
   "metadata": {},
   "outputs": [],
   "source": [
    "from captum.attr import IntegratedGradients"
   ]
  },
  {
   "cell_type": "code",
   "execution_count": 41,
   "id": "f400ff25-a9c9-44af-b57c-b381b9ada48a",
   "metadata": {},
   "outputs": [
    {
     "name": "stdout",
     "output_type": "stream",
     "text": [
      "\u001b[32m2022-06-09 12:20:58.638\u001b[0m | \u001b[1mINFO    \u001b[0m | \u001b[36msrc.beam.experiment\u001b[0m:\u001b[36mrun\u001b[0m:\u001b[36m425\u001b[0m - \u001b[1mSingle worker mode\u001b[0m\n",
      "\u001b[32m2022-06-09 12:20:58.638\u001b[0m | \u001b[1mINFO    \u001b[0m | \u001b[36msrc.beam.experiment\u001b[0m:\u001b[36mrun_worker\u001b[0m:\u001b[36m45\u001b[0m - \u001b[1mWorker: 1/1 is running...\u001b[0m\n"
     ]
    },
    {
     "data": {
      "application/vnd.jupyter.widget-view+json": {
       "model_id": "2ad49c76456b4c88ab8eb3e64ce4c796",
       "version_major": 2,
       "version_minor": 0
      },
      "text/plain": [
       "train:   0%|          | 0/389 [00:00<?, ?it/s]"
      ]
     },
     "metadata": {},
     "output_type": "display_data"
    },
    {
     "data": {
      "application/vnd.jupyter.widget-view+json": {
       "model_id": "06a7aa9ee74346c2861d9c2e3e5ecdc3",
       "version_major": 2,
       "version_minor": 0
      },
      "text/plain": [
       "validation:   0%|          | 0/389 [00:00<?, ?it/s]"
      ]
     },
     "metadata": {},
     "output_type": "display_data"
    },
    {
     "name": "stdout",
     "output_type": "stream",
     "text": [
      "\n",
      "\u001b[32m2022-06-09 12:21:00.637\u001b[0m | \u001b[1mINFO    \u001b[0m | \u001b[36msrc.beam.experiment\u001b[0m:\u001b[36msave_model_results\u001b[0m:\u001b[36m302\u001b[0m - \u001b[1mFinished epoch 5/2:\u001b[0m\n",
      "\u001b[32m2022-06-09 12:21:00.644\u001b[0m | \u001b[1mINFO    \u001b[0m | \u001b[36msrc.beam.experiment\u001b[0m:\u001b[36mlog_data\u001b[0m:\u001b[36m340\u001b[0m - \u001b[1mtrain:\u001b[0m\n",
      "\u001b[32m2022-06-09 12:21:00.645\u001b[0m | \u001b[1mINFO    \u001b[0m | \u001b[36msrc.beam.experiment\u001b[0m:\u001b[36mlog_data\u001b[0m:\u001b[36m344\u001b[0m - \u001b[1mloss 0.335916 \t|\u001b[0m\n",
      "\u001b[32m2022-06-09 12:21:00.646\u001b[0m | \u001b[1mINFO    \u001b[0m | \u001b[36msrc.beam.experiment\u001b[0m:\u001b[36mlog_data\u001b[0m:\u001b[36m344\u001b[0m - \u001b[1macc 0.907184 \t|\u001b[0m\n",
      "\u001b[32m2022-06-09 12:21:00.646\u001b[0m | \u001b[1mINFO    \u001b[0m | \u001b[36msrc.beam.experiment\u001b[0m:\u001b[36mlog_data\u001b[0m:\u001b[36m344\u001b[0m - \u001b[1mlr 0.00099 \t|\u001b[0m\n",
      "\u001b[32m2022-06-09 12:21:00.647\u001b[0m | \u001b[1mINFO    \u001b[0m | \u001b[36msrc.beam.experiment\u001b[0m:\u001b[36mlog_data\u001b[0m:\u001b[36m340\u001b[0m - \u001b[1mvalidation:\u001b[0m\n",
      "\u001b[32m2022-06-09 12:21:00.647\u001b[0m | \u001b[1mINFO    \u001b[0m | \u001b[36msrc.beam.experiment\u001b[0m:\u001b[36mlog_data\u001b[0m:\u001b[36m344\u001b[0m - \u001b[1mloss 0.128026 \t|\u001b[0m\n",
      "\u001b[32m2022-06-09 12:21:00.648\u001b[0m | \u001b[1mINFO    \u001b[0m | \u001b[36msrc.beam.experiment\u001b[0m:\u001b[36mlog_data\u001b[0m:\u001b[36m344\u001b[0m - \u001b[1macc 0.960727 \t|\u001b[0m\n"
     ]
    },
    {
     "data": {
      "application/vnd.jupyter.widget-view+json": {
       "model_id": "546f81e355de4ab283e7ef25b14deb30",
       "version_major": 2,
       "version_minor": 0
      },
      "text/plain": [
       "train:   0%|          | 0/389 [00:00<?, ?it/s]"
      ]
     },
     "metadata": {},
     "output_type": "display_data"
    },
    {
     "data": {
      "application/vnd.jupyter.widget-view+json": {
       "model_id": "f71c20ed6be6459aac49488b800fd688",
       "version_major": 2,
       "version_minor": 0
      },
      "text/plain": [
       "validation:   0%|          | 0/389 [00:00<?, ?it/s]"
      ]
     },
     "metadata": {},
     "output_type": "display_data"
    },
    {
     "name": "stdout",
     "output_type": "stream",
     "text": [
      "\n",
      "\u001b[32m2022-06-09 12:21:02.601\u001b[0m | \u001b[1mINFO    \u001b[0m | \u001b[36msrc.beam.experiment\u001b[0m:\u001b[36msave_model_results\u001b[0m:\u001b[36m302\u001b[0m - \u001b[1mFinished epoch 6/2:\u001b[0m\n",
      "\u001b[32m2022-06-09 12:21:02.607\u001b[0m | \u001b[1mINFO    \u001b[0m | \u001b[36msrc.beam.experiment\u001b[0m:\u001b[36mlog_data\u001b[0m:\u001b[36m340\u001b[0m - \u001b[1mtrain:\u001b[0m\n",
      "\u001b[32m2022-06-09 12:21:02.607\u001b[0m | \u001b[1mINFO    \u001b[0m | \u001b[36msrc.beam.experiment\u001b[0m:\u001b[36mlog_data\u001b[0m:\u001b[36m344\u001b[0m - \u001b[1mloss 0.0849223 \t|\u001b[0m\n",
      "\u001b[32m2022-06-09 12:21:02.608\u001b[0m | \u001b[1mINFO    \u001b[0m | \u001b[36msrc.beam.experiment\u001b[0m:\u001b[36mlog_data\u001b[0m:\u001b[36m344\u001b[0m - \u001b[1macc 0.973781 \t|\u001b[0m\n",
      "\u001b[32m2022-06-09 12:21:02.608\u001b[0m | \u001b[1mINFO    \u001b[0m | \u001b[36msrc.beam.experiment\u001b[0m:\u001b[36mlog_data\u001b[0m:\u001b[36m344\u001b[0m - \u001b[1mlr 0.0009801 \t|\u001b[0m\n",
      "\u001b[32m2022-06-09 12:21:02.609\u001b[0m | \u001b[1mINFO    \u001b[0m | \u001b[36msrc.beam.experiment\u001b[0m:\u001b[36mlog_data\u001b[0m:\u001b[36m340\u001b[0m - \u001b[1mvalidation:\u001b[0m\n",
      "\u001b[32m2022-06-09 12:21:02.609\u001b[0m | \u001b[1mINFO    \u001b[0m | \u001b[36msrc.beam.experiment\u001b[0m:\u001b[36mlog_data\u001b[0m:\u001b[36m344\u001b[0m - \u001b[1mloss 0.0955592 \t|\u001b[0m\n",
      "\u001b[32m2022-06-09 12:21:02.610\u001b[0m | \u001b[1mINFO    \u001b[0m | \u001b[36msrc.beam.experiment\u001b[0m:\u001b[36mlog_data\u001b[0m:\u001b[36m344\u001b[0m - \u001b[1macc 0.971672 \t|\u001b[0m\n"
     ]
    }
   ],
   "source": [
    "alg = mnist_algorithm_generator(experiment).fit()"
   ]
  },
  {
   "cell_type": "code",
   "execution_count": 60,
   "id": "e123ce68-8a50-4748-8c43-e9f2dd1a3894",
   "metadata": {},
   "outputs": [
    {
     "data": {
      "text/plain": [
       "LinearNet(\n",
       "  (lin): Sequential(\n",
       "    (0): Linear(in_features=784, out_features=256, bias=True)\n",
       "    (1): ReLU()\n",
       "    (2): Linear(in_features=256, out_features=256, bias=True)\n",
       "    (3): ReLU()\n",
       "    (4): Linear(in_features=256, out_features=256, bias=True)\n",
       "    (5): ReLU()\n",
       "    (6): Linear(in_features=256, out_features=10, bias=True)\n",
       "  )\n",
       ")"
      ]
     },
     "execution_count": 60,
     "metadata": {},
     "output_type": "execute_result"
    }
   ],
   "source": [
    "x = alg.dataset[10001]['x'].flatten().unsqueeze(0).to(experiment.device)\n",
    "baseline = torch.zeros(28, 28).flatten().unsqueeze(0).to(experiment.device)\n",
    "net.eval()"
   ]
  },
  {
   "cell_type": "code",
   "execution_count": 61,
   "id": "01d8d76d-adfc-46ab-a19b-b0e28f91dfce",
   "metadata": {},
   "outputs": [],
   "source": [
    "ig = IntegratedGradients(net)\n",
    "attributions, delta = ig.attribute(x, baseline, target=0, return_convergence_delta=True)\n",
    "# print('IG Attributions:', attributions)\n",
    "# print('Convergence Delta:', delta)"
   ]
  },
  {
   "cell_type": "code",
   "execution_count": 62,
   "id": "a2bafab0-7862-4741-8c29-acb31987c047",
   "metadata": {},
   "outputs": [],
   "source": [
    "import matplotlib.pyplot as plt"
   ]
  },
  {
   "cell_type": "code",
   "execution_count": 63,
   "id": "32423b79-2692-4f70-8788-1b7f23bdc0f9",
   "metadata": {},
   "outputs": [],
   "source": [
    "attributions = attributions.reshape(28, 28).cpu().numpy()"
   ]
  },
  {
   "cell_type": "code",
   "execution_count": 64,
   "id": "c7a1625d-63fa-4dae-a6af-bdff8c066f1a",
   "metadata": {},
   "outputs": [
    {
     "data": {
      "text/plain": [
       "<matplotlib.image.AxesImage at 0x7fc8fd109340>"
      ]
     },
     "execution_count": 64,
     "metadata": {},
     "output_type": "execute_result"
    },
    {
     "data": {
      "image/png": "[encoded data removed]",
      "text/plain": [
       "<Figure size 432x288 with 1 Axes>"
      ]
     },
     "metadata": {
      "needs_background": "light"
     },
     "output_type": "display_data"
    }
   ],
   "source": [
    "plt.imshow(attributions)"
   ]
  },
  {
   "cell_type": "markdown",
   "id": "feb3f0aa-1c31-473c-8710-6edea77f8bc0",
   "metadata": {},
   "source": [
    "## Performance measurements"
   ]
  },
  {
   "cell_type": "code",
   "execution_count": 4,
   "id": "efbccf52-dbaa-4c4e-a5de-1555dc2f5afd",
   "metadata": {},
   "outputs": [],
   "source": [
    "labels = np.load('/home/nir/projects/Exercise_1/labels.npy')"
   ]
  },
  {
   "cell_type": "code",
   "execution_count": 5,
   "id": "1e967a87-00ef-4003-ab52-5dd82c0dacc8",
   "metadata": {},
   "outputs": [],
   "source": [
    "import pandas as pd"
   ]
  },
  {
   "cell_type": "code",
   "execution_count": 6,
   "id": "dc9aee4c-b6ad-4963-ad86-f12a09e024cd",
   "metadata": {},
   "outputs": [
    {
     "data": {
      "text/plain": [
       "0    92634\n",
       "1     1312\n",
       "dtype: int64"
      ]
     },
     "execution_count": 6,
     "metadata": {},
     "output_type": "execute_result"
    }
   ],
   "source": [
    "pd.Series(labels).value_counts()"
   ]
  },
  {
   "cell_type": "code",
   "execution_count": 7,
   "id": "2069bad7-3fec-4788-962d-5009df10eef6",
   "metadata": {},
   "outputs": [],
   "source": [
    "from sklearn.utils import compute_sample_weight\n",
    "weight_factor = 1"
   ]
  },
  {
   "cell_type": "code",
   "execution_count": 8,
   "id": "ddc7a684-4c4e-451b-8ef8-d4a8a39437a4",
   "metadata": {},
   "outputs": [],
   "source": [
    "probs = compute_sample_weight('balanced', y=labels) ** weight_factor"
   ]
  },
  {
   "cell_type": "code",
   "execution_count": 9,
   "id": "021eb1b8-dd06-46e5-ae87-e8b6b64d294f",
   "metadata": {},
   "outputs": [
    {
     "data": {
      "text/plain": [
       "0.507082     92634\n",
       "35.802591     1312\n",
       "dtype: int64"
      ]
     },
     "execution_count": 9,
     "metadata": {},
     "output_type": "execute_result"
    }
   ],
   "source": [
    "pd.Series(probs).value_counts()"
   ]
  },
  {
   "cell_type": "code",
   "execution_count": 34,
   "id": "e5621359-6447-41dc-9a2c-a1ce0c70c477",
   "metadata": {},
   "outputs": [],
   "source": [
    "d = UniversalDataset(np.arange(len(labels)))"
   ]
  },
  {
   "cell_type": "code",
   "execution_count": 35,
   "id": "f356546b-b51b-4016-8d04-a85caa8310d4",
   "metadata": {},
   "outputs": [],
   "source": [
    "d.split(validation=.2, test=.2, seed=5782, stratify=True, labels=labels, test_split_method='time_based')"
   ]
  },
  {
   "cell_type": "code",
   "execution_count": 38,
   "id": "697e49c0-5103-42c7-9808-976a63008247",
   "metadata": {},
   "outputs": [
    {
     "data": {
      "text/plain": [
       "93946"
      ]
     },
     "execution_count": 38,
     "metadata": {},
     "output_type": "execute_result"
    }
   ],
   "source": [
    "len(d)"
   ]
  },
  {
   "cell_type": "code",
   "execution_count": 19,
   "id": "bc803ed5-f3d8-4829-b145-4977d3a2da44",
   "metadata": {},
   "outputs": [],
   "source": [
    "d.build_samplers(128, oversample=True)"
   ]
  },
  {
   "cell_type": "code",
   "execution_count": 21,
   "id": "937e5453-9b0b-427f-9038-532292911174",
   "metadata": {},
   "outputs": [
    {
     "data": {
      "text/plain": [
       "tensor([  785,   785,   785,  ..., 50927, 50927, 50927])"
      ]
     },
     "execution_count": 21,
     "metadata": {},
     "output_type": "execute_result"
    }
   ],
   "source": [
    "d.samplers['train'].indices"
   ]
  },
  {
   "cell_type": "code",
   "execution_count": 23,
   "id": "1daaf962-953c-491b-8b23-50d4724bb432",
   "metadata": {},
   "outputs": [
    {
     "data": {
      "text/plain": [
       "1    1666637\n",
       "0    1664010\n",
       "dtype: int64"
      ]
     },
     "execution_count": 23,
     "metadata": {},
     "output_type": "execute_result"
    }
   ],
   "source": [
    "pd.Series(labels[d.samplers['validation'].indices]).value_counts()"
   ]
  },
  {
   "cell_type": "code",
   "execution_count": 112,
   "id": "df7b84e5-feed-4936-934b-6258d343da36",
   "metadata": {},
   "outputs": [],
   "source": [
    "s = UniversalBatchSampler(len(labels), 128, probs=probs)"
   ]
  },
  {
   "cell_type": "code",
   "execution_count": 115,
   "id": "bc0a4bf0-2c77-42e0-8ece-c3598c1bd139",
   "metadata": {},
   "outputs": [
    {
     "data": {
      "text/plain": [
       "10002268"
      ]
     },
     "execution_count": 115,
     "metadata": {},
     "output_type": "execute_result"
    }
   ],
   "source": [
    "len(s.indices)"
   ]
  },
  {
   "cell_type": "code",
   "execution_count": 116,
   "id": "15266b97-5e57-4bbf-bbca-3c5db8400316",
   "metadata": {},
   "outputs": [
    {
     "data": {
      "text/plain": [
       "0    5002236\n",
       "1    5000032\n",
       "dtype: int64"
      ]
     },
     "execution_count": 116,
     "metadata": {},
     "output_type": "execute_result"
    }
   ],
   "source": [
    "pd.Series(labels[s.indices]).value_counts()"
   ]
  },
  {
   "cell_type": "markdown",
   "id": "09d274aa-639d-4ce6-8d55-9e695711cf02",
   "metadata": {},
   "source": [
    "## Ray and Optuna"
   ]
  },
  {
   "cell_type": "code",
   "execution_count": 116,
   "id": "324e5649-a589-49c3-a472-19b783b354bc",
   "metadata": {},
   "outputs": [
    {
     "name": "stderr",
     "output_type": "stream",
     "text": [
      "\u001b[32m[I 2022-06-12 07:03:51,432]\u001b[0m A new study created in memory with name: no-name-8fb0ec83-bd8b-4038-a67d-4cae7faacd49\u001b[0m\n"
     ]
    },
    {
     "name": "stdout",
     "output_type": "stream",
     "text": [
      "Downloading http://yann.lecun.com/exdb/mnist/train-images-idx3-ubyte.gz\n",
      "Downloading http://yann.lecun.com/exdb/mnist/train-images-idx3-ubyte.gz to /root/data/MNIST/raw/train-images-idx3-ubyte.gz\n"
     ]
    },
    {
     "data": {
      "application/vnd.jupyter.widget-view+json": {
       "model_id": "38068a27ea594fed9fa37638c503104e",
       "version_major": 2,
       "version_minor": 0
      },
      "text/plain": [
       "  0%|          | 0/9912422 [00:00<?, ?it/s]"
      ]
     },
     "metadata": {},
     "output_type": "display_data"
    },
    {
     "name": "stdout",
     "output_type": "stream",
     "text": [
      "Extracting /root/data/MNIST/raw/train-images-idx3-ubyte.gz to /root/data/MNIST/raw\n",
      "\n",
      "Downloading http://yann.lecun.com/exdb/mnist/train-labels-idx1-ubyte.gz\n",
      "Downloading http://yann.lecun.com/exdb/mnist/train-labels-idx1-ubyte.gz to /root/data/MNIST/raw/train-labels-idx1-ubyte.gz\n"
     ]
    },
    {
     "data": {
      "application/vnd.jupyter.widget-view+json": {
       "model_id": "3a18232eee1345ed9bcf4322069f3d42",
       "version_major": 2,
       "version_minor": 0
      },
      "text/plain": [
       "  0%|          | 0/28881 [00:00<?, ?it/s]"
      ]
     },
     "metadata": {},
     "output_type": "display_data"
    },
    {
     "name": "stdout",
     "output_type": "stream",
     "text": [
      "Extracting /root/data/MNIST/raw/train-labels-idx1-ubyte.gz to /root/data/MNIST/raw\n",
      "\n",
      "Downloading http://yann.lecun.com/exdb/mnist/t10k-images-idx3-ubyte.gz\n",
      "Downloading http://yann.lecun.com/exdb/mnist/t10k-images-idx3-ubyte.gz to /root/data/MNIST/raw/t10k-images-idx3-ubyte.gz\n"
     ]
    },
    {
     "data": {
      "application/vnd.jupyter.widget-view+json": {
       "model_id": "b0d82f2d1fc048fab01518c5f21dfebc",
       "version_major": 2,
       "version_minor": 0
      },
      "text/plain": [
       "  0%|          | 0/1648877 [00:00<?, ?it/s]"
      ]
     },
     "metadata": {},
     "output_type": "display_data"
    },
    {
     "name": "stdout",
     "output_type": "stream",
     "text": [
      "Extracting /root/data/MNIST/raw/t10k-images-idx3-ubyte.gz to /root/data/MNIST/raw\n",
      "\n",
      "Downloading http://yann.lecun.com/exdb/mnist/t10k-labels-idx1-ubyte.gz\n",
      "Downloading http://yann.lecun.com/exdb/mnist/t10k-labels-idx1-ubyte.gz to /root/data/MNIST/raw/t10k-labels-idx1-ubyte.gz\n"
     ]
    },
    {
     "data": {
      "application/vnd.jupyter.widget-view+json": {
       "model_id": "c03b865808334692843e23a176d06233",
       "version_major": 2,
       "version_minor": 0
      },
      "text/plain": [
       "  0%|          | 0/4542 [00:00<?, ?it/s]"
      ]
     },
     "metadata": {},
     "output_type": "display_data"
    },
    {
     "name": "stdout",
     "output_type": "stream",
     "text": [
      "Extracting /root/data/MNIST/raw/t10k-labels-idx1-ubyte.gz to /root/data/MNIST/raw\n",
      "\n"
     ]
    },
    {
     "name": "stderr",
     "output_type": "stream",
     "text": [
      "\u001b[32m[I 2022-06-12 07:04:02,232]\u001b[0m Trial 0 finished with value: -0.36875 and parameters: {'lr': 0.0001278405133611165, 'momentum': 0.8305986193083477}. Best is trial 0 with value: -0.36875.\u001b[0m\n",
      "\u001b[32m[I 2022-06-12 07:04:04,906]\u001b[0m Trial 1 finished with value: -0.409375 and parameters: {'lr': 0.0006655628766944698, 'momentum': 0.7231796457415468}. Best is trial 1 with value: -0.409375.\u001b[0m\n",
      "\u001b[32m[I 2022-06-12 07:04:07,583]\u001b[0m Trial 2 finished with value: -0.44375 and parameters: {'lr': 0.00080728999151233, 'momentum': 0.47977484540221194}. Best is trial 2 with value: -0.44375.\u001b[0m\n",
      "\u001b[32m[I 2022-06-12 07:04:10,548]\u001b[0m Trial 3 finished with value: -0.23125 and parameters: {'lr': 0.00015211327327016415, 'momentum': 0.8450571382696139}. Best is trial 2 with value: -0.44375.\u001b[0m\n",
      "\u001b[32m[I 2022-06-12 07:04:13,231]\u001b[0m Trial 4 finished with value: -0.21875 and parameters: {'lr': 0.0004514341183546026, 'momentum': 0.2731703000259097}. Best is trial 2 with value: -0.44375.\u001b[0m\n",
      "\u001b[32m[I 2022-06-12 07:04:15,894]\u001b[0m Trial 5 finished with value: -0.14375 and parameters: {'lr': 0.00043439617506120596, 'momentum': 0.5065882433073322}. Best is trial 2 with value: -0.44375.\u001b[0m\n",
      "\u001b[32m[I 2022-06-12 07:04:18,563]\u001b[0m Trial 6 finished with value: -0.834375 and parameters: {'lr': 0.0024029076692787927, 'momentum': 0.5259701490493066}. Best is trial 6 with value: -0.834375.\u001b[0m\n",
      "\u001b[32m[I 2022-06-12 07:04:21,237]\u001b[0m Trial 7 finished with value: -0.54375 and parameters: {'lr': 0.002454319584741773, 'momentum': 0.646716924890391}. Best is trial 6 with value: -0.834375.\u001b[0m\n",
      "\u001b[32m[I 2022-06-12 07:04:23,898]\u001b[0m Trial 8 finished with value: -0.16875 and parameters: {'lr': 0.00026332029333394995, 'momentum': 0.2512339183028629}. Best is trial 6 with value: -0.834375.\u001b[0m\n",
      "\u001b[32m[I 2022-06-12 07:04:26,580]\u001b[0m Trial 9 finished with value: -0.334375 and parameters: {'lr': 0.0010770769149551253, 'momentum': 0.6127142360696901}. Best is trial 6 with value: -0.834375.\u001b[0m\n"
     ]
    },
    {
     "name": "stdout",
     "output_type": "stream",
     "text": [
      "Time taken: 35.15 seconds.\n",
      "Best config: {'lr': 0.0024029076692787927, 'momentum': 0.5259701490493066}\n"
     ]
    }
   ],
   "source": [
    "import torch\n",
    "import torch.optim as optim\n",
    "from ray.tune.examples.mnist_pytorch import get_data_loaders, ConvNet, train, test\n",
    "import optuna\n",
    "\n",
    "\n",
    "def train_mnist(trial):\n",
    "   use_cuda = torch.cuda.is_available()\n",
    "   device = torch.device(\"cuda\" if use_cuda else \"cpu\")\n",
    "   train_loader, test_loader = get_data_loaders()\n",
    "   model = ConvNet().to(device)\n",
    "\n",
    "   optimizer = optim.SGD(\n",
    "       model.parameters(),\n",
    "       lr=trial.suggest_loguniform(\"lr\", 1e-4, 1e-2),\n",
    "       momentum=trial.suggest_uniform(\"momentum\", 0.1, 0.9))\n",
    "\n",
    "   for i in range(20):\n",
    "       train(model, optimizer, train_loader, device)\n",
    "       acc = test(model, test_loader, device)\n",
    "       trial.report(-acc, i)\n",
    "   return -acc\n",
    "\n",
    "\n",
    "import time\n",
    "start = time.time()\n",
    "study = optuna.create_study()\n",
    "study.optimize(train_mnist, n_jobs=1, n_trials=10)\n",
    "taken = time.time() - start\n",
    "print(f\"Time taken: {taken:.2f} seconds.\")\n",
    "print(f\"Best config: {study.best_params}\")"
   ]
  },
  {
   "cell_type": "code",
   "execution_count": 117,
   "id": "21f62d89-cccb-4e76-b3ea-18c38784edcd",
   "metadata": {},
   "outputs": [
    {
     "name": "stderr",
     "output_type": "stream",
     "text": [
      "2022-06-12 07:15:44,559\tINFO services.py:1456 -- View the Ray dashboard at \u001b[1m\u001b[32mhttp://127.0.0.1:8265\u001b[39m\u001b[22m\n",
      "2022-06-12 07:15:46,579\tWARNING function_runner.py:598 -- Function checkpointing is disabled. This may result in unexpected behavior when using checkpointing features or certain schedulers. To enable, set the train function arguments to be `func(config, checkpoint_dir=None)`.\n",
      "\u001b[32m[I 2022-06-12 07:15:46,592]\u001b[0m A new study created in memory with name: optuna\u001b[0m\n",
      "2022-06-12 07:15:46,611\tWARNING tune.py:636 -- Tune detects GPUs, but no trials are using GPUs. To enable trials to use GPUs, set tune.run(resources_per_trial={'gpu': 1}...) which allows Tune to expose 1 GPU to each trial. You can also override `Trainable.default_resource_request` if using the Trainable API.\n",
      "2022-06-12 07:15:46,926\tINFO trial_runner.py:803 -- starting train_mnist_7ad05044\n"
     ]
    },
    {
     "data": {
      "text/html": [
       "== Status ==<br>Current time: 2022-06-12 07:15:48 (running for 00:00:02.29)<br>Memory usage on this node: 51.9/376.6 GiB<br>Using FIFO scheduling algorithm.<br>Resources requested: 1.0/80 CPUs, 0/2 GPUs, 0.0/251.9 GiB heap, 0.0/111.95 GiB objects (0.0/1.0 accelerator_type:RTX)<br>Result logdir: /root/ray_results/train_mnist_2022-06-12_07-15-46<br>Number of trials: 1/10 (1 RUNNING)<br><table>\n",
       "<thead>\n",
       "<tr><th>Trial name          </th><th>status  </th><th>loc            </th><th style=\"text-align: right;\">        lr</th><th style=\"text-align: right;\">  momentum</th></tr>\n",
       "</thead>\n",
       "<tbody>\n",
       "<tr><td>train_mnist_7ad05044</td><td>RUNNING </td><td>172.17.0.7:4363</td><td style=\"text-align: right;\">0.00160988</td><td style=\"text-align: right;\">  0.687499</td></tr>\n",
       "</tbody>\n",
       "</table><br><br>"
      ],
      "text/plain": [
       "<IPython.core.display.HTML object>"
      ]
     },
     "metadata": {},
     "output_type": "display_data"
    },
    {
     "name": "stderr",
     "output_type": "stream",
     "text": [
      "2022-06-12 07:15:48,923\tINFO trial_runner.py:803 -- starting train_mnist_7c22184c\n",
      "2022-06-12 07:15:48,941\tINFO trial_runner.py:803 -- starting train_mnist_7c249dba\n",
      "2022-06-12 07:15:48,959\tINFO trial_runner.py:803 -- starting train_mnist_7c278a52\n",
      "2022-06-12 07:15:48,977\tINFO trial_runner.py:803 -- starting train_mnist_7c2a0dcc\n",
      "2022-06-12 07:15:48,994\tINFO trial_runner.py:803 -- starting train_mnist_7c2d02ac\n",
      "2022-06-12 07:15:49,011\tINFO trial_runner.py:803 -- starting train_mnist_7c2f5e3a\n",
      "2022-06-12 07:15:49,027\tINFO trial_runner.py:803 -- starting train_mnist_7c323ab0\n",
      "2022-06-12 07:15:49,043\tINFO trial_runner.py:803 -- starting train_mnist_7c348888\n",
      "2022-06-12 07:15:49,060\tINFO trial_runner.py:803 -- starting train_mnist_7c3728f4\n"
     ]
    },
    {
     "name": "stdout",
     "output_type": "stream",
     "text": [
      "Result for train_mnist_7ad05044:\n",
      "  date: 2022-06-12_07-15-49\n",
      "  done: false\n",
      "  experiment_id: 6110397f6a354358ba5c24d3a5ccc18f\n",
      "  hostname: 56f38f239d73\n",
      "  iterations_since_restore: 1\n",
      "  mean_accuracy: 0.0875\n",
      "  node_ip: 172.17.0.7\n",
      "  pid: 4363\n",
      "  time_since_restore: 0.33464622497558594\n",
      "  time_this_iter_s: 0.33464622497558594\n",
      "  time_total_s: 0.33464622497558594\n",
      "  timestamp: 1655018149\n",
      "  timesteps_since_restore: 0\n",
      "  training_iteration: 1\n",
      "  trial_id: 7ad05044\n",
      "  warmup_time: 0.004679441452026367\n",
      "  \n",
      "Result for train_mnist_7c323ab0:\n",
      "  date: 2022-06-12_07-15-51\n",
      "  done: false\n",
      "  experiment_id: b6963e8cb8b8413fa5c242ba80f0bbea\n",
      "  hostname: 56f38f239d73\n",
      "  iterations_since_restore: 1\n",
      "  mean_accuracy: 0.134375\n",
      "  node_ip: 172.17.0.7\n",
      "  pid: 4417\n",
      "  time_since_restore: 0.31108617782592773\n",
      "  time_this_iter_s: 0.31108617782592773\n",
      "  time_total_s: 0.31108617782592773\n",
      "  timestamp: 1655018151\n",
      "  timesteps_since_restore: 0\n",
      "  training_iteration: 1\n",
      "  trial_id: 7c323ab0\n",
      "  warmup_time: 0.004642486572265625\n",
      "  \n",
      "Result for train_mnist_7c2a0dcc:\n",
      "  date: 2022-06-12_07-15-51\n",
      "  done: false\n",
      "  experiment_id: 9785685e0c6047868905c71d840e3f36\n",
      "  hostname: 56f38f239d73\n",
      "  iterations_since_restore: 1\n",
      "  mean_accuracy: 0.078125\n",
      "  node_ip: 172.17.0.7\n",
      "  pid: 4407\n",
      "  time_since_restore: 0.3214263916015625\n",
      "  time_this_iter_s: 0.3214263916015625\n",
      "  time_total_s: 0.3214263916015625\n",
      "  timestamp: 1655018151\n",
      "  timesteps_since_restore: 0\n",
      "  training_iteration: 1\n",
      "  trial_id: 7c2a0dcc\n",
      "  warmup_time: 0.003945827484130859\n",
      "  \n",
      "Result for train_mnist_7c22184c:\n",
      "  date: 2022-06-12_07-15-51\n",
      "  done: false\n",
      "  experiment_id: c36ec19c4bfe4f73b40a20245ac62ee6\n",
      "  hostname: 56f38f239d73\n",
      "  iterations_since_restore: 1\n",
      "  mean_accuracy: 0.071875\n",
      "  node_ip: 172.17.0.7\n",
      "  pid: 4399\n",
      "  time_since_restore: 0.45244741439819336\n",
      "  time_this_iter_s: 0.45244741439819336\n",
      "  time_total_s: 0.45244741439819336\n",
      "  timestamp: 1655018151\n",
      "  timesteps_since_restore: 0\n",
      "  training_iteration: 1\n",
      "  trial_id: 7c22184c\n",
      "  warmup_time: 0.0043985843658447266\n",
      "  \n",
      "Result for train_mnist_7c2d02ac:\n",
      "  date: 2022-06-12_07-15-51\n",
      "  done: false\n",
      "  experiment_id: deef7282e8e24754a5a661519a466f4b\n",
      "  hostname: 56f38f239d73\n",
      "  iterations_since_restore: 1\n",
      "  mean_accuracy: 0.090625\n",
      "  node_ip: 172.17.0.7\n",
      "  pid: 4410\n",
      "  time_since_restore: 0.567878007888794\n",
      "  time_this_iter_s: 0.567878007888794\n",
      "  time_total_s: 0.567878007888794\n",
      "  timestamp: 1655018151\n",
      "  timesteps_since_restore: 0\n",
      "  training_iteration: 1\n",
      "  trial_id: 7c2d02ac\n",
      "  warmup_time: 0.0037136077880859375\n",
      "  \n",
      "Result for train_mnist_7c278a52:\n",
      "  date: 2022-06-12_07-15-51\n",
      "  done: false\n",
      "  experiment_id: 30212494e1c04d6190d885b4b4d69d6f\n",
      "  hostname: 56f38f239d73\n",
      "  iterations_since_restore: 1\n",
      "  mean_accuracy: 0.259375\n",
      "  node_ip: 172.17.0.7\n",
      "  pid: 4404\n",
      "  time_since_restore: 0.5593531131744385\n",
      "  time_this_iter_s: 0.5593531131744385\n",
      "  time_total_s: 0.5593531131744385\n",
      "  timestamp: 1655018151\n",
      "  timesteps_since_restore: 0\n",
      "  training_iteration: 1\n",
      "  trial_id: 7c278a52\n",
      "  warmup_time: 0.005499601364135742\n",
      "  \n",
      "Result for train_mnist_7c2f5e3a:\n",
      "  date: 2022-06-12_07-15-51\n",
      "  done: false\n",
      "  experiment_id: 07a191c0ff6649d4a44bfeede9d2eeb8\n",
      "  hostname: 56f38f239d73\n",
      "  iterations_since_restore: 1\n",
      "  mean_accuracy: 0.08125\n",
      "  node_ip: 172.17.0.7\n",
      "  pid: 4413\n",
      "  time_since_restore: 0.7140789031982422\n",
      "  time_this_iter_s: 0.7140789031982422\n",
      "  time_total_s: 0.7140789031982422\n",
      "  timestamp: 1655018151\n",
      "  timesteps_since_restore: 0\n",
      "  training_iteration: 1\n",
      "  trial_id: 7c2f5e3a\n",
      "  warmup_time: 0.004129171371459961\n",
      "  \n",
      "Result for train_mnist_7c348888:\n",
      "  date: 2022-06-12_07-15-51\n",
      "  done: false\n",
      "  experiment_id: 579049cd9776438199618b2d9e6e4fbc\n",
      "  hostname: 56f38f239d73\n",
      "  iterations_since_restore: 1\n",
      "  mean_accuracy: 0.125\n",
      "  node_ip: 172.17.0.7\n",
      "  pid: 4420\n",
      "  time_since_restore: 0.7492401599884033\n",
      "  time_this_iter_s: 0.7492401599884033\n",
      "  time_total_s: 0.7492401599884033\n",
      "  timestamp: 1655018151\n",
      "  timesteps_since_restore: 0\n",
      "  training_iteration: 1\n",
      "  trial_id: 7c348888\n",
      "  warmup_time: 0.004930973052978516\n",
      "  \n"
     ]
    },
    {
     "data": {
      "text/html": [
       "== Status ==<br>Current time: 2022-06-12 07:15:52 (running for 00:00:05.40)<br>Memory usage on this node: 54.0/376.6 GiB<br>Using FIFO scheduling algorithm.<br>Resources requested: 10.0/80 CPUs, 0/2 GPUs, 0.0/251.9 GiB heap, 0.0/111.95 GiB objects (0.0/1.0 accelerator_type:RTX)<br>Current best trial: 7c278a52 with mean_accuracy=0.609375 and parameters={'lr': 0.009207129642301522, 'momentum': 0.8555327667174564}<br>Result logdir: /root/ray_results/train_mnist_2022-06-12_07-15-46<br>Number of trials: 10/10 (10 RUNNING)<br><table>\n",
       "<thead>\n",
       "<tr><th>Trial name          </th><th>status  </th><th>loc            </th><th style=\"text-align: right;\">         lr</th><th style=\"text-align: right;\">  momentum</th><th style=\"text-align: right;\">     acc</th><th style=\"text-align: right;\">  iter</th><th style=\"text-align: right;\">  total time (s)</th></tr>\n",
       "</thead>\n",
       "<tbody>\n",
       "<tr><td>train_mnist_7ad05044</td><td>RUNNING </td><td>172.17.0.7:4363</td><td style=\"text-align: right;\">0.00160988 </td><td style=\"text-align: right;\">  0.687499</td><td style=\"text-align: right;\">0.421875</td><td style=\"text-align: right;\">    13</td><td style=\"text-align: right;\">        3.02496 </td></tr>\n",
       "<tr><td>train_mnist_7c22184c</td><td>RUNNING </td><td>172.17.0.7:4399</td><td style=\"text-align: right;\">0.000125965</td><td style=\"text-align: right;\">  0.334005</td><td style=\"text-align: right;\">0.059375</td><td style=\"text-align: right;\">     3</td><td style=\"text-align: right;\">        0.797441</td></tr>\n",
       "<tr><td>train_mnist_7c249dba</td><td>RUNNING </td><td>172.17.0.7:4401</td><td style=\"text-align: right;\">0.00945013 </td><td style=\"text-align: right;\">  0.620565</td><td style=\"text-align: right;\">        </td><td style=\"text-align: right;\">      </td><td style=\"text-align: right;\">                </td></tr>\n",
       "<tr><td>train_mnist_7c278a52</td><td>RUNNING </td><td>172.17.0.7:4404</td><td style=\"text-align: right;\">0.00920713 </td><td style=\"text-align: right;\">  0.855533</td><td style=\"text-align: right;\">0.609375</td><td style=\"text-align: right;\">     2</td><td style=\"text-align: right;\">        0.759091</td></tr>\n",
       "<tr><td>train_mnist_7c2a0dcc</td><td>RUNNING </td><td>172.17.0.7:4407</td><td style=\"text-align: right;\">0.00733988 </td><td style=\"text-align: right;\">  0.155399</td><td style=\"text-align: right;\">0.353125</td><td style=\"text-align: right;\">     4</td><td style=\"text-align: right;\">        0.852635</td></tr>\n",
       "<tr><td>train_mnist_7c2d02ac</td><td>RUNNING </td><td>172.17.0.7:4410</td><td style=\"text-align: right;\">0.000375022</td><td style=\"text-align: right;\">  0.46964 </td><td style=\"text-align: right;\">0.078125</td><td style=\"text-align: right;\">     2</td><td style=\"text-align: right;\">        0.75666 </td></tr>\n",
       "<tr><td>train_mnist_7c2f5e3a</td><td>RUNNING </td><td>172.17.0.7:4413</td><td style=\"text-align: right;\">0.000654276</td><td style=\"text-align: right;\">  0.244808</td><td style=\"text-align: right;\">0.08125 </td><td style=\"text-align: right;\">     1</td><td style=\"text-align: right;\">        0.714079</td></tr>\n",
       "<tr><td>train_mnist_7c323ab0</td><td>RUNNING </td><td>172.17.0.7:4417</td><td style=\"text-align: right;\">0.000356673</td><td style=\"text-align: right;\">  0.813501</td><td style=\"text-align: right;\">0.225   </td><td style=\"text-align: right;\">     4</td><td style=\"text-align: right;\">        0.840244</td></tr>\n",
       "<tr><td>train_mnist_7c348888</td><td>RUNNING </td><td>172.17.0.7:4420</td><td style=\"text-align: right;\">0.00119714 </td><td style=\"text-align: right;\">  0.554578</td><td style=\"text-align: right;\">0.125   </td><td style=\"text-align: right;\">     1</td><td style=\"text-align: right;\">        0.74924 </td></tr>\n",
       "<tr><td>train_mnist_7c3728f4</td><td>RUNNING </td><td>172.17.0.7:4423</td><td style=\"text-align: right;\">0.000659416</td><td style=\"text-align: right;\">  0.355107</td><td style=\"text-align: right;\">        </td><td style=\"text-align: right;\">      </td><td style=\"text-align: right;\">                </td></tr>\n",
       "</tbody>\n",
       "</table><br><br>"
      ],
      "text/plain": [
       "<IPython.core.display.HTML object>"
      ]
     },
     "metadata": {},
     "output_type": "display_data"
    },
    {
     "name": "stdout",
     "output_type": "stream",
     "text": [
      "Result for train_mnist_7c249dba:\n",
      "  date: 2022-06-12_07-15-52\n",
      "  done: false\n",
      "  experiment_id: 5db90f0948384115948633c879a54301\n",
      "  hostname: 56f38f239d73\n",
      "  iterations_since_restore: 1\n",
      "  mean_accuracy: 0.3125\n",
      "  node_ip: 172.17.0.7\n",
      "  pid: 4401\n",
      "  time_since_restore: 0.969139814376831\n",
      "  time_this_iter_s: 0.969139814376831\n",
      "  time_total_s: 0.969139814376831\n",
      "  timestamp: 1655018152\n",
      "  timesteps_since_restore: 0\n",
      "  training_iteration: 1\n",
      "  trial_id: 7c249dba\n",
      "  warmup_time: 0.004343986511230469\n",
      "  \n",
      "Result for train_mnist_7c3728f4:\n",
      "  date: 2022-06-12_07-15-52\n",
      "  done: false\n",
      "  experiment_id: fd9a65d328974605aee3d5463c024c26\n",
      "  hostname: 56f38f239d73\n",
      "  iterations_since_restore: 1\n",
      "  mean_accuracy: 0.11875\n",
      "  node_ip: 172.17.0.7\n",
      "  pid: 4423\n",
      "  time_since_restore: 0.8235781192779541\n",
      "  time_this_iter_s: 0.8235781192779541\n",
      "  time_total_s: 0.8235781192779541\n",
      "  timestamp: 1655018152\n",
      "  timesteps_since_restore: 0\n",
      "  training_iteration: 1\n",
      "  trial_id: 7c3728f4\n",
      "  warmup_time: 0.005570173263549805\n",
      "  \n",
      "Result for train_mnist_7ad05044:\n",
      "  date: 2022-06-12_07-15-53\n",
      "  done: true\n",
      "  experiment_id: 6110397f6a354358ba5c24d3a5ccc18f\n",
      "  experiment_tag: 1_lr=0.0016099,momentum=0.6875\n",
      "  hostname: 56f38f239d73\n",
      "  iterations_since_restore: 20\n",
      "  mean_accuracy: 0.68125\n",
      "  node_ip: 172.17.0.7\n",
      "  pid: 4363\n",
      "  time_since_restore: 4.531438589096069\n",
      "  time_this_iter_s: 0.21110177040100098\n",
      "  time_total_s: 4.531438589096069\n",
      "  timestamp: 1655018153\n",
      "  timesteps_since_restore: 0\n",
      "  training_iteration: 20\n",
      "  trial_id: 7ad05044\n",
      "  warmup_time: 0.004679441452026367\n",
      "  \n",
      "Result for train_mnist_7c323ab0:\n",
      "  date: 2022-06-12_07-15-54\n",
      "  done: true\n",
      "  experiment_id: b6963e8cb8b8413fa5c242ba80f0bbea\n",
      "  experiment_tag: 8_lr=0.00035667,momentum=0.8135\n",
      "  hostname: 56f38f239d73\n",
      "  iterations_since_restore: 20\n",
      "  mean_accuracy: 0.6125\n",
      "  node_ip: 172.17.0.7\n",
      "  pid: 4417\n",
      "  time_since_restore: 3.7546586990356445\n",
      "  time_this_iter_s: 0.17908143997192383\n",
      "  time_total_s: 3.7546586990356445\n",
      "  timestamp: 1655018154\n",
      "  timesteps_since_restore: 0\n",
      "  training_iteration: 20\n",
      "  trial_id: 7c323ab0\n",
      "  warmup_time: 0.004642486572265625\n",
      "  \n",
      "Result for train_mnist_7c22184c:\n",
      "  date: 2022-06-12_07-15-55\n",
      "  done: true\n",
      "  experiment_id: c36ec19c4bfe4f73b40a20245ac62ee6\n",
      "  experiment_tag: 2_lr=0.00012596,momentum=0.334\n",
      "  hostname: 56f38f239d73\n",
      "  iterations_since_restore: 20\n",
      "  mean_accuracy: 0.09375\n",
      "  node_ip: 172.17.0.7\n",
      "  pid: 4399\n",
      "  time_since_restore: 3.9601361751556396\n",
      "  time_this_iter_s: 0.1900954246520996\n",
      "  time_total_s: 3.9601361751556396\n",
      "  timestamp: 1655018155\n",
      "  timesteps_since_restore: 0\n",
      "  training_iteration: 20\n",
      "  trial_id: 7c22184c\n",
      "  warmup_time: 0.0043985843658447266\n",
      "  \n",
      "Result for train_mnist_7c2a0dcc:\n",
      "  date: 2022-06-12_07-15-55\n",
      "  done: true\n",
      "  experiment_id: 9785685e0c6047868905c71d840e3f36\n",
      "  experiment_tag: 5_lr=0.0073399,momentum=0.1554\n",
      "  hostname: 56f38f239d73\n",
      "  iterations_since_restore: 20\n",
      "  mean_accuracy: 0.796875\n",
      "  node_ip: 172.17.0.7\n",
      "  pid: 4407\n",
      "  time_since_restore: 4.013854265213013\n",
      "  time_this_iter_s: 0.1953902244567871\n",
      "  time_total_s: 4.013854265213013\n",
      "  timestamp: 1655018155\n",
      "  timesteps_since_restore: 0\n",
      "  training_iteration: 20\n",
      "  trial_id: 7c2a0dcc\n",
      "  warmup_time: 0.003945827484130859\n",
      "  \n",
      "Result for train_mnist_7c278a52:\n",
      "  date: 2022-06-12_07-15-55\n",
      "  done: true\n",
      "  experiment_id: 30212494e1c04d6190d885b4b4d69d6f\n",
      "  experiment_tag: 4_lr=0.0092071,momentum=0.85553\n",
      "  hostname: 56f38f239d73\n",
      "  iterations_since_restore: 20\n",
      "  mean_accuracy: 0.89375\n",
      "  node_ip: 172.17.0.7\n",
      "  pid: 4404\n",
      "  time_since_restore: 4.108012437820435\n",
      "  time_this_iter_s: 0.17902088165283203\n",
      "  time_total_s: 4.108012437820435\n",
      "  timestamp: 1655018155\n",
      "  timesteps_since_restore: 0\n",
      "  training_iteration: 20\n",
      "  trial_id: 7c278a52\n",
      "  warmup_time: 0.005499601364135742\n",
      "  \n",
      "Result for train_mnist_7c2d02ac:\n",
      "  date: 2022-06-12_07-15-55\n",
      "  done: true\n",
      "  experiment_id: deef7282e8e24754a5a661519a466f4b\n",
      "  experiment_tag: 6_lr=0.00037502,momentum=0.46964\n",
      "  hostname: 56f38f239d73\n",
      "  iterations_since_restore: 20\n",
      "  mean_accuracy: 0.221875\n",
      "  node_ip: 172.17.0.7\n",
      "  pid: 4410\n",
      "  time_since_restore: 4.215293884277344\n",
      "  time_this_iter_s: 0.1805102825164795\n",
      "  time_total_s: 4.215293884277344\n",
      "  timestamp: 1655018155\n",
      "  timesteps_since_restore: 0\n",
      "  training_iteration: 20\n",
      "  trial_id: 7c2d02ac\n",
      "  warmup_time: 0.0037136077880859375\n",
      "  \n",
      "Result for train_mnist_7c2f5e3a:\n",
      "  date: 2022-06-12_07-15-55\n",
      "  done: true\n",
      "  experiment_id: 07a191c0ff6649d4a44bfeede9d2eeb8\n",
      "  experiment_tag: 7_lr=0.00065428,momentum=0.24481\n",
      "  hostname: 56f38f239d73\n",
      "  iterations_since_restore: 20\n",
      "  mean_accuracy: 0.1625\n",
      "  node_ip: 172.17.0.7\n",
      "  pid: 4413\n",
      "  time_since_restore: 4.200567007064819\n",
      "  time_this_iter_s: 0.17188405990600586\n",
      "  time_total_s: 4.200567007064819\n",
      "  timestamp: 1655018155\n",
      "  timesteps_since_restore: 0\n",
      "  training_iteration: 20\n",
      "  trial_id: 7c2f5e3a\n",
      "  warmup_time: 0.004129171371459961\n",
      "  \n",
      "Result for train_mnist_7c348888:\n",
      "  date: 2022-06-12_07-15-55\n",
      "  done: true\n",
      "  experiment_id: 579049cd9776438199618b2d9e6e4fbc\n",
      "  experiment_tag: 9_lr=0.0011971,momentum=0.55458\n",
      "  hostname: 56f38f239d73\n",
      "  iterations_since_restore: 20\n",
      "  mean_accuracy: 0.590625\n",
      "  node_ip: 172.17.0.7\n",
      "  pid: 4420\n",
      "  time_since_restore: 4.265524864196777\n",
      "  time_this_iter_s: 0.1654040813446045\n",
      "  time_total_s: 4.265524864196777\n",
      "  timestamp: 1655018155\n",
      "  timesteps_since_restore: 0\n",
      "  training_iteration: 20\n",
      "  trial_id: 7c348888\n",
      "  warmup_time: 0.004930973052978516\n",
      "  \n",
      "Result for train_mnist_7c249dba:\n",
      "  date: 2022-06-12_07-15-55\n",
      "  done: true\n",
      "  experiment_id: 5db90f0948384115948633c879a54301\n",
      "  experiment_tag: 3_lr=0.0094501,momentum=0.62056\n",
      "  hostname: 56f38f239d73\n",
      "  iterations_since_restore: 20\n",
      "  mean_accuracy: 0.878125\n",
      "  node_ip: 172.17.0.7\n",
      "  pid: 4401\n",
      "  time_since_restore: 4.440577507019043\n",
      "  time_this_iter_s: 0.1603684425354004\n",
      "  time_total_s: 4.440577507019043\n",
      "  timestamp: 1655018155\n",
      "  timesteps_since_restore: 0\n",
      "  training_iteration: 20\n",
      "  trial_id: 7c249dba\n",
      "  warmup_time: 0.004343986511230469\n",
      "  \n",
      "Result for train_mnist_7c3728f4:\n",
      "  date: 2022-06-12_07-15-55\n",
      "  done: true\n",
      "  experiment_id: fd9a65d328974605aee3d5463c024c26\n",
      "  experiment_tag: 10_lr=0.00065942,momentum=0.35511\n",
      "  hostname: 56f38f239d73\n",
      "  iterations_since_restore: 20\n",
      "  mean_accuracy: 0.175\n",
      "  node_ip: 172.17.0.7\n",
      "  pid: 4423\n",
      "  time_since_restore: 4.279289960861206\n",
      "  time_this_iter_s: 0.16524481773376465\n",
      "  time_total_s: 4.279289960861206\n",
      "  timestamp: 1655018155\n",
      "  timesteps_since_restore: 0\n",
      "  training_iteration: 20\n",
      "  trial_id: 7c3728f4\n",
      "  warmup_time: 0.005570173263549805\n",
      "  \n"
     ]
    },
    {
     "data": {
      "text/html": [
       "== Status ==<br>Current time: 2022-06-12 07:15:55 (running for 00:00:09.06)<br>Memory usage on this node: 52.5/376.6 GiB<br>Using FIFO scheduling algorithm.<br>Resources requested: 0/80 CPUs, 0/2 GPUs, 0.0/251.9 GiB heap, 0.0/111.95 GiB objects (0.0/1.0 accelerator_type:RTX)<br>Current best trial: 7c278a52 with mean_accuracy=0.89375 and parameters={'lr': 0.009207129642301522, 'momentum': 0.8555327667174564}<br>Result logdir: /root/ray_results/train_mnist_2022-06-12_07-15-46<br>Number of trials: 10/10 (10 TERMINATED)<br><table>\n",
       "<thead>\n",
       "<tr><th>Trial name          </th><th>status    </th><th>loc            </th><th style=\"text-align: right;\">         lr</th><th style=\"text-align: right;\">  momentum</th><th style=\"text-align: right;\">     acc</th><th style=\"text-align: right;\">  iter</th><th style=\"text-align: right;\">  total time (s)</th></tr>\n",
       "</thead>\n",
       "<tbody>\n",
       "<tr><td>train_mnist_7ad05044</td><td>TERMINATED</td><td>172.17.0.7:4363</td><td style=\"text-align: right;\">0.00160988 </td><td style=\"text-align: right;\">  0.687499</td><td style=\"text-align: right;\">0.68125 </td><td style=\"text-align: right;\">    20</td><td style=\"text-align: right;\">         4.53144</td></tr>\n",
       "<tr><td>train_mnist_7c22184c</td><td>TERMINATED</td><td>172.17.0.7:4399</td><td style=\"text-align: right;\">0.000125965</td><td style=\"text-align: right;\">  0.334005</td><td style=\"text-align: right;\">0.09375 </td><td style=\"text-align: right;\">    20</td><td style=\"text-align: right;\">         3.96014</td></tr>\n",
       "<tr><td>train_mnist_7c249dba</td><td>TERMINATED</td><td>172.17.0.7:4401</td><td style=\"text-align: right;\">0.00945013 </td><td style=\"text-align: right;\">  0.620565</td><td style=\"text-align: right;\">0.878125</td><td style=\"text-align: right;\">    20</td><td style=\"text-align: right;\">         4.44058</td></tr>\n",
       "<tr><td>train_mnist_7c278a52</td><td>TERMINATED</td><td>172.17.0.7:4404</td><td style=\"text-align: right;\">0.00920713 </td><td style=\"text-align: right;\">  0.855533</td><td style=\"text-align: right;\">0.89375 </td><td style=\"text-align: right;\">    20</td><td style=\"text-align: right;\">         4.10801</td></tr>\n",
       "<tr><td>train_mnist_7c2a0dcc</td><td>TERMINATED</td><td>172.17.0.7:4407</td><td style=\"text-align: right;\">0.00733988 </td><td style=\"text-align: right;\">  0.155399</td><td style=\"text-align: right;\">0.796875</td><td style=\"text-align: right;\">    20</td><td style=\"text-align: right;\">         4.01385</td></tr>\n",
       "<tr><td>train_mnist_7c2d02ac</td><td>TERMINATED</td><td>172.17.0.7:4410</td><td style=\"text-align: right;\">0.000375022</td><td style=\"text-align: right;\">  0.46964 </td><td style=\"text-align: right;\">0.221875</td><td style=\"text-align: right;\">    20</td><td style=\"text-align: right;\">         4.21529</td></tr>\n",
       "<tr><td>train_mnist_7c2f5e3a</td><td>TERMINATED</td><td>172.17.0.7:4413</td><td style=\"text-align: right;\">0.000654276</td><td style=\"text-align: right;\">  0.244808</td><td style=\"text-align: right;\">0.1625  </td><td style=\"text-align: right;\">    20</td><td style=\"text-align: right;\">         4.20057</td></tr>\n",
       "<tr><td>train_mnist_7c323ab0</td><td>TERMINATED</td><td>172.17.0.7:4417</td><td style=\"text-align: right;\">0.000356673</td><td style=\"text-align: right;\">  0.813501</td><td style=\"text-align: right;\">0.6125  </td><td style=\"text-align: right;\">    20</td><td style=\"text-align: right;\">         3.75466</td></tr>\n",
       "<tr><td>train_mnist_7c348888</td><td>TERMINATED</td><td>172.17.0.7:4420</td><td style=\"text-align: right;\">0.00119714 </td><td style=\"text-align: right;\">  0.554578</td><td style=\"text-align: right;\">0.590625</td><td style=\"text-align: right;\">    20</td><td style=\"text-align: right;\">         4.26552</td></tr>\n",
       "<tr><td>train_mnist_7c3728f4</td><td>TERMINATED</td><td>172.17.0.7:4423</td><td style=\"text-align: right;\">0.000659416</td><td style=\"text-align: right;\">  0.355107</td><td style=\"text-align: right;\">0.175   </td><td style=\"text-align: right;\">    20</td><td style=\"text-align: right;\">         4.27929</td></tr>\n",
       "</tbody>\n",
       "</table><br><br>"
      ],
      "text/plain": [
       "<IPython.core.display.HTML object>"
      ]
     },
     "metadata": {},
     "output_type": "display_data"
    },
    {
     "name": "stderr",
     "output_type": "stream",
     "text": [
      "2022-06-12 07:15:55,783\tINFO tune.py:701 -- Total run time: 9.21 seconds (9.04 seconds for the tuning loop).\n"
     ]
    },
    {
     "name": "stdout",
     "output_type": "stream",
     "text": [
      "Time taken: 13.62 seconds.\n",
      "Best config: {'lr': 0.009207129642301522, 'momentum': 0.8555327667174564}\n"
     ]
    }
   ],
   "source": [
    "import torch\n",
    "import torch.optim as optim\n",
    "from ray.tune.examples.mnist_pytorch import get_data_loaders, ConvNet, train, test\n",
    "from ray import tune\n",
    "from ray.tune.suggest.optuna import OptunaSearch\n",
    "\n",
    "\n",
    "def train_mnist(config):\n",
    "   use_cuda = torch.cuda.is_available()\n",
    "   device = torch.device(\"cuda\" if use_cuda else \"cpu\")\n",
    "   train_loader, test_loader = get_data_loaders()\n",
    "   model = ConvNet().to(device)\n",
    "\n",
    "   optimizer = optim.SGD(\n",
    "       model.parameters(), lr=config[\"lr\"], momentum=config[\"momentum\"])\n",
    "\n",
    "   for i in range(20):\n",
    "       train(model, optimizer, train_loader, device)\n",
    "       acc = test(model, test_loader, device)\n",
    "       tune.report(mean_accuracy=acc)\n",
    "\n",
    "\n",
    "import time\n",
    "start = time.time()\n",
    "analysis = tune.run(\n",
    "   train_mnist,\n",
    "   config={\n",
    "       \"lr\": tune.loguniform(1e-4, 1e-2),\n",
    "       \"momentum\": tune.uniform(0.1, 0.9),\n",
    "   },\n",
    "   metric=\"mean_accuracy\",\n",
    "   mode=\"max\",\n",
    "   search_alg=OptunaSearch(),\n",
    "   num_samples=10)\n",
    "taken = time.time() - start\n",
    "print(f\"Time taken: {taken:.2f} seconds.\")\n",
    "print(f\"Best config: {analysis.best_config}\")"
   ]
  }
 ],
 "metadata": {
  "kernelspec": {
   "display_name": "Python 3 (ipykernel)",
   "language": "python",
   "name": "python3"
  },
  "language_info": {
   "codemirror_mode": {
    "name": "ipython",
    "version": 3
   },
   "file_extension": ".py",
   "mimetype": "text/x-python",
   "name": "python",
   "nbconvert_exporter": "python",
   "pygments_lexer": "ipython3",
   "version": "3.8.12"
  },
  "toc-autonumbering": true
 },
 "nbformat": 4,
 "nbformat_minor": 5
}
