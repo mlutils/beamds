{
 "cells": [
  {
   "cell_type": "code",
   "execution_count": 1,
   "id": "c974cdd9",
   "metadata": {},
   "outputs": [],
   "source": [
    "%load_ext autoreload\n",
    "%autoreload 2\n",
    "\n",
    "import torch\n",
    "import torchvision\n",
    "import torch.nn.functional as F\n",
    "from torch import nn\n",
    "from sklearn.metrics import precision_recall_fscore_support\n",
    "import numpy as np\n",
    "\n",
    "import sys\n",
    "sys.path.append('..')\n",
    "\n",
    "from src.beam import beam_arguments, Experiment\n",
    "from src.beam import UniversalDataset, UniversalBatchSampler\n",
    "from src.beam import Algorithm\n",
    "from src.beam import LinearNet\n",
    "\n",
    "from src.beam import DataTensor\n",
    "from src.beam.utils import is_notebook\n",
    "\n",
    "from mnist_example import run_mnist, mnist_algorithm_generator"
   ]
  },
  {
   "cell_type": "code",
   "execution_count": 2,
   "id": "3fb14c31-398b-48b6-ade7-cfdb06d6d518",
   "metadata": {},
   "outputs": [],
   "source": [
    "path_to_data = '/localdata/elads/data/datasets/mnist'\n",
    "root_dir = '/localdata/elads/data/resutls'"
   ]
  },
  {
   "cell_type": "markdown",
   "id": "3d15a46d",
   "metadata": {},
   "source": [
    "## Training with a single worker"
   ]
  },
  {
   "cell_type": "code",
   "execution_count": 24,
   "id": "f79ff3f1",
   "metadata": {},
   "outputs": [
    {
     "name": "stdout",
     "output_type": "stream",
     "text": [
      "\u001B[32m2022-06-01 20:15:38.671\u001B[0m | \u001B[1mINFO    \u001B[0m | \u001B[36msrc.beam.experiment\u001B[0m:\u001B[36m__init__\u001B[0m:\u001B[36m94\u001B[0m - \u001B[1mbeam project: mnist\u001B[0m\n",
      "\u001B[32m2022-06-01 20:15:38.673\u001B[0m | \u001B[1mINFO    \u001B[0m | \u001B[36msrc.beam.experiment\u001B[0m:\u001B[36m__init__\u001B[0m:\u001B[36m95\u001B[0m - \u001B[1mSimulation Hyperparameters\u001B[0m\n",
      "\u001B[32m2022-06-01 20:15:38.674\u001B[0m | \u001B[1mINFO    \u001B[0m | \u001B[36msrc.beam.experiment\u001B[0m:\u001B[36m__init__\u001B[0m:\u001B[36m99\u001B[0m - \u001B[1mproject_name: mnist\u001B[0m\n",
      "\u001B[32m2022-06-01 20:15:38.676\u001B[0m | \u001B[1mINFO    \u001B[0m | \u001B[36msrc.beam.experiment\u001B[0m:\u001B[36m__init__\u001B[0m:\u001B[36m99\u001B[0m - \u001B[1midentifier: debug\u001B[0m\n",
      "\u001B[32m2022-06-01 20:15:38.677\u001B[0m | \u001B[1mINFO    \u001B[0m | \u001B[36msrc.beam.experiment\u001B[0m:\u001B[36m__init__\u001B[0m:\u001B[36m99\u001B[0m - \u001B[1malgorithm: MNISTAlgorithm\u001B[0m\n",
      "\u001B[32m2022-06-01 20:15:38.678\u001B[0m | \u001B[1mINFO    \u001B[0m | \u001B[36msrc.beam.experiment\u001B[0m:\u001B[36m__init__\u001B[0m:\u001B[36m99\u001B[0m - \u001B[1mmp_port: None\u001B[0m\n",
      "\u001B[32m2022-06-01 20:15:38.679\u001B[0m | \u001B[1mINFO    \u001B[0m | \u001B[36msrc.beam.experiment\u001B[0m:\u001B[36m__init__\u001B[0m:\u001B[36m99\u001B[0m - \u001B[1mroot_dir: /localdata/elads/data/resutls\u001B[0m\n",
      "\u001B[32m2022-06-01 20:15:38.680\u001B[0m | \u001B[1mINFO    \u001B[0m | \u001B[36msrc.beam.experiment\u001B[0m:\u001B[36m__init__\u001B[0m:\u001B[36m99\u001B[0m - \u001B[1mreload: False\u001B[0m\n",
      "\u001B[32m2022-06-01 20:15:38.682\u001B[0m | \u001B[1mINFO    \u001B[0m | \u001B[36msrc.beam.experiment\u001B[0m:\u001B[36m__init__\u001B[0m:\u001B[36m99\u001B[0m - \u001B[1mresume: -1\u001B[0m\n",
      "\u001B[32m2022-06-01 20:15:38.683\u001B[0m | \u001B[1mINFO    \u001B[0m | \u001B[36msrc.beam.experiment\u001B[0m:\u001B[36m__init__\u001B[0m:\u001B[36m99\u001B[0m - \u001B[1moverride: False\u001B[0m\n",
      "\u001B[32m2022-06-01 20:15:38.684\u001B[0m | \u001B[1mINFO    \u001B[0m | \u001B[36msrc.beam.experiment\u001B[0m:\u001B[36m__init__\u001B[0m:\u001B[36m99\u001B[0m - \u001B[1mcpu_workers: 0\u001B[0m\n",
      "\u001B[32m2022-06-01 20:15:38.685\u001B[0m | \u001B[1mINFO    \u001B[0m | \u001B[36msrc.beam.experiment\u001B[0m:\u001B[36m__init__\u001B[0m:\u001B[36m99\u001B[0m - \u001B[1mdevice: 0\u001B[0m\n",
      "\u001B[32m2022-06-01 20:15:38.686\u001B[0m | \u001B[1mINFO    \u001B[0m | \u001B[36msrc.beam.experiment\u001B[0m:\u001B[36m__init__\u001B[0m:\u001B[36m99\u001B[0m - \u001B[1mparallel: 1\u001B[0m\n",
      "\u001B[32m2022-06-01 20:15:38.687\u001B[0m | \u001B[1mINFO    \u001B[0m | \u001B[36msrc.beam.experiment\u001B[0m:\u001B[36m__init__\u001B[0m:\u001B[36m99\u001B[0m - \u001B[1mtensorboard: True\u001B[0m\n",
      "\u001B[32m2022-06-01 20:15:38.689\u001B[0m | \u001B[1mINFO    \u001B[0m | \u001B[36msrc.beam.experiment\u001B[0m:\u001B[36m__init__\u001B[0m:\u001B[36m99\u001B[0m - \u001B[1mlognet: True\u001B[0m\n",
      "\u001B[32m2022-06-01 20:15:38.690\u001B[0m | \u001B[1mINFO    \u001B[0m | \u001B[36msrc.beam.experiment\u001B[0m:\u001B[36m__init__\u001B[0m:\u001B[36m99\u001B[0m - \u001B[1mdeterministic: False\u001B[0m\n",
      "\u001B[32m2022-06-01 20:15:38.691\u001B[0m | \u001B[1mINFO    \u001B[0m | \u001B[36msrc.beam.experiment\u001B[0m:\u001B[36m__init__\u001B[0m:\u001B[36m99\u001B[0m - \u001B[1mscale_epoch_by_batch_size: True\u001B[0m\n",
      "\u001B[32m2022-06-01 20:15:38.692\u001B[0m | \u001B[1mINFO    \u001B[0m | \u001B[36msrc.beam.experiment\u001B[0m:\u001B[36m__init__\u001B[0m:\u001B[36m99\u001B[0m - \u001B[1minit: ortho\u001B[0m\n",
      "\u001B[32m2022-06-01 20:15:38.693\u001B[0m | \u001B[1mINFO    \u001B[0m | \u001B[36msrc.beam.experiment\u001B[0m:\u001B[36m__init__\u001B[0m:\u001B[36m99\u001B[0m - \u001B[1mseed: 0\u001B[0m\n",
      "\u001B[32m2022-06-01 20:15:38.694\u001B[0m | \u001B[1mINFO    \u001B[0m | \u001B[36msrc.beam.experiment\u001B[0m:\u001B[36m__init__\u001B[0m:\u001B[36m99\u001B[0m - \u001B[1mtotal_steps: 1000000\u001B[0m\n",
      "\u001B[32m2022-06-01 20:15:38.695\u001B[0m | \u001B[1mINFO    \u001B[0m | \u001B[36msrc.beam.experiment\u001B[0m:\u001B[36m__init__\u001B[0m:\u001B[36m99\u001B[0m - \u001B[1mepoch_length: 100000\u001B[0m\n",
      "\u001B[32m2022-06-01 20:15:38.696\u001B[0m | \u001B[1mINFO    \u001B[0m | \u001B[36msrc.beam.experiment\u001B[0m:\u001B[36m__init__\u001B[0m:\u001B[36m99\u001B[0m - \u001B[1mepoch_length_train: None\u001B[0m\n",
      "\u001B[32m2022-06-01 20:15:38.697\u001B[0m | \u001B[1mINFO    \u001B[0m | \u001B[36msrc.beam.experiment\u001B[0m:\u001B[36m__init__\u001B[0m:\u001B[36m99\u001B[0m - \u001B[1mepoch_length_eval: None\u001B[0m\n",
      "\u001B[32m2022-06-01 20:15:38.698\u001B[0m | \u001B[1mINFO    \u001B[0m | \u001B[36msrc.beam.experiment\u001B[0m:\u001B[36m__init__\u001B[0m:\u001B[36m99\u001B[0m - \u001B[1mn_epochs: 2\u001B[0m\n",
      "\u001B[32m2022-06-01 20:15:38.699\u001B[0m | \u001B[1mINFO    \u001B[0m | \u001B[36msrc.beam.experiment\u001B[0m:\u001B[36m__init__\u001B[0m:\u001B[36m99\u001B[0m - \u001B[1mbatch_size: 256\u001B[0m\n",
      "\u001B[32m2022-06-01 20:15:38.700\u001B[0m | \u001B[1mINFO    \u001B[0m | \u001B[36msrc.beam.experiment\u001B[0m:\u001B[36m__init__\u001B[0m:\u001B[36m99\u001B[0m - \u001B[1mbatch_size_train: None\u001B[0m\n",
      "\u001B[32m2022-06-01 20:15:38.701\u001B[0m | \u001B[1mINFO    \u001B[0m | \u001B[36msrc.beam.experiment\u001B[0m:\u001B[36m__init__\u001B[0m:\u001B[36m99\u001B[0m - \u001B[1mbatch_size_eval: None\u001B[0m\n",
      "\u001B[32m2022-06-01 20:15:38.702\u001B[0m | \u001B[1mINFO    \u001B[0m | \u001B[36msrc.beam.experiment\u001B[0m:\u001B[36m__init__\u001B[0m:\u001B[36m99\u001B[0m - \u001B[1mlr_d: 0.001\u001B[0m\n",
      "\u001B[32m2022-06-01 20:15:38.703\u001B[0m | \u001B[1mINFO    \u001B[0m | \u001B[36msrc.beam.experiment\u001B[0m:\u001B[36m__init__\u001B[0m:\u001B[36m99\u001B[0m - \u001B[1mlr_s: 0.01\u001B[0m\n",
      "\u001B[32m2022-06-01 20:15:38.704\u001B[0m | \u001B[1mINFO    \u001B[0m | \u001B[36msrc.beam.experiment\u001B[0m:\u001B[36m__init__\u001B[0m:\u001B[36m99\u001B[0m - \u001B[1mweight_decay: 0.0\u001B[0m\n",
      "\u001B[32m2022-06-01 20:15:38.705\u001B[0m | \u001B[1mINFO    \u001B[0m | \u001B[36msrc.beam.experiment\u001B[0m:\u001B[36m__init__\u001B[0m:\u001B[36m99\u001B[0m - \u001B[1meps: 0.0001\u001B[0m\n",
      "\u001B[32m2022-06-01 20:15:38.705\u001B[0m | \u001B[1mINFO    \u001B[0m | \u001B[36msrc.beam.experiment\u001B[0m:\u001B[36m__init__\u001B[0m:\u001B[36m99\u001B[0m - \u001B[1mclip: 1.0\u001B[0m\n",
      "\u001B[32m2022-06-01 20:15:38.706\u001B[0m | \u001B[1mINFO    \u001B[0m | \u001B[36msrc.beam.experiment\u001B[0m:\u001B[36m__init__\u001B[0m:\u001B[36m99\u001B[0m - \u001B[1mprint_results: True\u001B[0m\n",
      "\u001B[32m2022-06-01 20:15:38.707\u001B[0m | \u001B[1mINFO    \u001B[0m | \u001B[36msrc.beam.experiment\u001B[0m:\u001B[36m__init__\u001B[0m:\u001B[36m99\u001B[0m - \u001B[1mvisualize_weights: True\u001B[0m\n",
      "\u001B[32m2022-06-01 20:15:38.708\u001B[0m | \u001B[1mINFO    \u001B[0m | \u001B[36msrc.beam.experiment\u001B[0m:\u001B[36m__init__\u001B[0m:\u001B[36m99\u001B[0m - \u001B[1mvisualize_results: yes\u001B[0m\n",
      "\u001B[32m2022-06-01 20:15:38.709\u001B[0m | \u001B[1mINFO    \u001B[0m | \u001B[36msrc.beam.experiment\u001B[0m:\u001B[36m__init__\u001B[0m:\u001B[36m99\u001B[0m - \u001B[1mstore_results: logscale\u001B[0m\n",
      "\u001B[32m2022-06-01 20:15:38.710\u001B[0m | \u001B[1mINFO    \u001B[0m | \u001B[36msrc.beam.experiment\u001B[0m:\u001B[36m__init__\u001B[0m:\u001B[36m99\u001B[0m - \u001B[1mstore_networks: logscale\u001B[0m\n",
      "\u001B[32m2022-06-01 20:15:38.711\u001B[0m | \u001B[1mINFO    \u001B[0m | \u001B[36msrc.beam.experiment\u001B[0m:\u001B[36m__init__\u001B[0m:\u001B[36m99\u001B[0m - \u001B[1mpath_to_data: /localdata/elads/data/datasets/mnist\u001B[0m\n",
      "\u001B[32m2022-06-01 20:15:38.715\u001B[0m | \u001B[1mINFO    \u001B[0m | \u001B[36msrc.beam.experiment\u001B[0m:\u001B[36m__init__\u001B[0m:\u001B[36m166\u001B[0m - \u001B[1mCreating new experiment\u001B[0m\n",
      "\u001B[32m2022-06-01 20:15:38.716\u001B[0m | \u001B[1mINFO    \u001B[0m | \u001B[36msrc.beam.experiment\u001B[0m:\u001B[36m__init__\u001B[0m:\u001B[36m181\u001B[0m - \u001B[1mExperiment directory is: /localdata/elads/data/resutls/mnist/MNISTAlgorithm/debug/0004_20220601_201538\u001B[0m\n"
     ]
    }
   ],
   "source": [
    "# here you put all actions which are performed only once before initializing the workers\n",
    "# for example, setting running arguments and experiment:\n",
    "\n",
    "args = beam_arguments(f\"--project-name=mnist --root-dir={root_dir} --algorithm=MNISTAlgorithm\",\n",
    "                      \"--epoch-length=100000 --n-epochs=2 --clip=1 --parallel=1\", path_to_data=path_to_data)\n",
    "\n",
    "experiment = Experiment(args)"
   ]
  },
  {
   "cell_type": "markdown",
   "id": "48307e00",
   "metadata": {},
   "source": [
    "we can generate an untrained algorithm with"
   ]
  },
  {
   "cell_type": "code",
   "execution_count": 27,
   "id": "ef04adc5",
   "metadata": {},
   "outputs": [],
   "source": [
    "alg = mnist_algorithm_generator(experiment)"
   ]
  },
  {
   "cell_type": "code",
   "execution_count": 28,
   "id": "beffe7a6-280a-4abf-850a-f9a35a79f1f5",
   "metadata": {},
   "outputs": [
    {
     "name": "stdout",
     "output_type": "stream",
     "text": [
      "\u001B[32m2022-06-01 20:16:54.121\u001B[0m | \u001B[1mINFO    \u001B[0m | \u001B[36msrc.beam.experiment\u001B[0m:\u001B[36mrun\u001B[0m:\u001B[36m425\u001B[0m - \u001B[1mSingle worker mode\u001B[0m\n",
      "\u001B[32m2022-06-01 20:16:54.122\u001B[0m | \u001B[1mINFO    \u001B[0m | \u001B[36msrc.beam.experiment\u001B[0m:\u001B[36mrun_worker\u001B[0m:\u001B[36m45\u001B[0m - \u001B[1mWorker: 1/1 is running...\u001B[0m\n"
     ]
    },
    {
     "data": {
      "application/vnd.jupyter.widget-view+json": {
       "model_id": "e7daacac12664d49a9b3ce33e7c642a3",
       "version_major": 2,
       "version_minor": 0
      },
      "text/plain": [
       "train:   0%|          | 0/389 [00:00<?, ?it/s]"
      ]
     },
     "metadata": {},
     "output_type": "display_data"
    },
    {
     "data": {
      "application/vnd.jupyter.widget-view+json": {
       "model_id": "3bd379da800143339914c5285dcd617b",
       "version_major": 2,
       "version_minor": 0
      },
      "text/plain": [
       "validation:   0%|          | 0/389 [00:00<?, ?it/s]"
      ]
     },
     "metadata": {},
     "output_type": "display_data"
    },
    {
     "name": "stdout",
     "output_type": "stream",
     "text": [
      "\n",
      "\u001B[32m2022-06-01 20:16:55.708\u001B[0m | \u001B[1mINFO    \u001B[0m | \u001B[36msrc.beam.experiment\u001B[0m:\u001B[36msave_model_results\u001B[0m:\u001B[36m302\u001B[0m - \u001B[1mFinished epoch 1/2:\u001B[0m\n",
      "\u001B[32m2022-06-01 20:16:55.715\u001B[0m | \u001B[1mINFO    \u001B[0m | \u001B[36msrc.beam.experiment\u001B[0m:\u001B[36mlog_data\u001B[0m:\u001B[36m340\u001B[0m - \u001B[1mtrain:\u001B[0m\n",
      "\u001B[32m2022-06-01 20:16:55.715\u001B[0m | \u001B[1mINFO    \u001B[0m | \u001B[36msrc.beam.experiment\u001B[0m:\u001B[36mlog_data\u001B[0m:\u001B[36m344\u001B[0m - \u001B[1mloss 0.341589 \t|\u001B[0m\n",
      "\u001B[32m2022-06-01 20:16:55.716\u001B[0m | \u001B[1mINFO    \u001B[0m | \u001B[36msrc.beam.experiment\u001B[0m:\u001B[36mlog_data\u001B[0m:\u001B[36m344\u001B[0m - \u001B[1macc 0.898196 \t|\u001B[0m\n",
      "\u001B[32m2022-06-01 20:16:55.717\u001B[0m | \u001B[1mINFO    \u001B[0m | \u001B[36msrc.beam.experiment\u001B[0m:\u001B[36mlog_data\u001B[0m:\u001B[36m344\u001B[0m - \u001B[1mlr 0.00099 \t|\u001B[0m\n",
      "\u001B[32m2022-06-01 20:16:55.718\u001B[0m | \u001B[1mINFO    \u001B[0m | \u001B[36msrc.beam.experiment\u001B[0m:\u001B[36mlog_data\u001B[0m:\u001B[36m340\u001B[0m - \u001B[1mvalidation:\u001B[0m\n",
      "\u001B[32m2022-06-01 20:16:55.719\u001B[0m | \u001B[1mINFO    \u001B[0m | \u001B[36msrc.beam.experiment\u001B[0m:\u001B[36mlog_data\u001B[0m:\u001B[36m344\u001B[0m - \u001B[1mloss 0.14608 \t|\u001B[0m\n",
      "\u001B[32m2022-06-01 20:16:55.719\u001B[0m | \u001B[1mINFO    \u001B[0m | \u001B[36msrc.beam.experiment\u001B[0m:\u001B[36mlog_data\u001B[0m:\u001B[36m344\u001B[0m - \u001B[1macc 0.95663 \t|\u001B[0m\n"
     ]
    },
    {
     "data": {
      "application/vnd.jupyter.widget-view+json": {
       "model_id": "19e87b8dff0143a796f02c653915eff4",
       "version_major": 2,
       "version_minor": 0
      },
      "text/plain": [
       "train:   0%|          | 0/389 [00:00<?, ?it/s]"
      ]
     },
     "metadata": {},
     "output_type": "display_data"
    },
    {
     "data": {
      "application/vnd.jupyter.widget-view+json": {
       "model_id": "e69fa2f48c4f44ac9d21c47e4fd74cbb",
       "version_major": 2,
       "version_minor": 0
      },
      "text/plain": [
       "validation:   0%|          | 0/389 [00:00<?, ?it/s]"
      ]
     },
     "metadata": {},
     "output_type": "display_data"
    },
    {
     "name": "stdout",
     "output_type": "stream",
     "text": [
      "\n",
      "\u001B[32m2022-06-01 20:16:57.492\u001B[0m | \u001B[1mINFO    \u001B[0m | \u001B[36msrc.beam.experiment\u001B[0m:\u001B[36msave_model_results\u001B[0m:\u001B[36m302\u001B[0m - \u001B[1mFinished epoch 2/2:\u001B[0m\n",
      "\u001B[32m2022-06-01 20:16:57.497\u001B[0m | \u001B[1mINFO    \u001B[0m | \u001B[36msrc.beam.experiment\u001B[0m:\u001B[36mlog_data\u001B[0m:\u001B[36m340\u001B[0m - \u001B[1mtrain:\u001B[0m\n",
      "\u001B[32m2022-06-01 20:16:57.498\u001B[0m | \u001B[1mINFO    \u001B[0m | \u001B[36msrc.beam.experiment\u001B[0m:\u001B[36mlog_data\u001B[0m:\u001B[36m344\u001B[0m - \u001B[1mloss 0.0881023 \t|\u001B[0m\n",
      "\u001B[32m2022-06-01 20:16:57.499\u001B[0m | \u001B[1mINFO    \u001B[0m | \u001B[36msrc.beam.experiment\u001B[0m:\u001B[36mlog_data\u001B[0m:\u001B[36m344\u001B[0m - \u001B[1macc 0.97367 \t|\u001B[0m\n",
      "\u001B[32m2022-06-01 20:16:57.499\u001B[0m | \u001B[1mINFO    \u001B[0m | \u001B[36msrc.beam.experiment\u001B[0m:\u001B[36mlog_data\u001B[0m:\u001B[36m344\u001B[0m - \u001B[1mlr 0.0009801 \t|\u001B[0m\n",
      "\u001B[32m2022-06-01 20:16:57.500\u001B[0m | \u001B[1mINFO    \u001B[0m | \u001B[36msrc.beam.experiment\u001B[0m:\u001B[36mlog_data\u001B[0m:\u001B[36m340\u001B[0m - \u001B[1mvalidation:\u001B[0m\n",
      "\u001B[32m2022-06-01 20:16:57.501\u001B[0m | \u001B[1mINFO    \u001B[0m | \u001B[36msrc.beam.experiment\u001B[0m:\u001B[36mlog_data\u001B[0m:\u001B[36m344\u001B[0m - \u001B[1mloss 0.0964472 \t|\u001B[0m\n",
      "\u001B[32m2022-06-01 20:16:57.502\u001B[0m | \u001B[1mINFO    \u001B[0m | \u001B[36msrc.beam.experiment\u001B[0m:\u001B[36mlog_data\u001B[0m:\u001B[36m344\u001B[0m - \u001B[1macc 0.97105 \t|\u001B[0m\n"
     ]
    },
    {
     "data": {
      "text/plain": [
       "<mnist_example.MNISTAlgorithm at 0x7f6d55eae040>"
      ]
     },
     "execution_count": 28,
     "metadata": {},
     "output_type": "execute_result"
    }
   ],
   "source": [
    "alg.fit()"
   ]
  },
  {
   "cell_type": "markdown",
   "id": "87ac0890",
   "metadata": {},
   "source": [
    "or we can apply the default training routin with"
   ]
  },
  {
   "cell_type": "code",
   "execution_count": 7,
   "id": "059e22cd",
   "metadata": {},
   "outputs": [
    {
     "name": "stdout",
     "output_type": "stream",
     "text": [
      "\u001B[32m2022-06-01 19:58:47.434\u001B[0m | \u001B[1mINFO    \u001B[0m | \u001B[36msrc.beam.experiment\u001B[0m:\u001B[36mrun\u001B[0m:\u001B[36m425\u001B[0m - \u001B[1mSingle worker mode\u001B[0m\n",
      "\u001B[32m2022-06-01 19:58:47.435\u001B[0m | \u001B[1mINFO    \u001B[0m | \u001B[36msrc.beam.experiment\u001B[0m:\u001B[36mrun_worker\u001B[0m:\u001B[36m45\u001B[0m - \u001B[1mWorker: 1/1 is running...\u001B[0m\n"
     ]
    },
    {
     "data": {
      "application/vnd.jupyter.widget-view+json": {
       "model_id": "62845de8b9b8440bbaae9c1972bf136b",
       "version_major": 2,
       "version_minor": 0
      },
      "text/plain": [
       "train:   0%|          | 0/389 [00:00<?, ?it/s]"
      ]
     },
     "metadata": {},
     "output_type": "display_data"
    },
    {
     "data": {
      "application/vnd.jupyter.widget-view+json": {
       "model_id": "d85935ae097449678f906345670b7b7c",
       "version_major": 2,
       "version_minor": 0
      },
      "text/plain": [
       "validation:   0%|          | 0/389 [00:00<?, ?it/s]"
      ]
     },
     "metadata": {},
     "output_type": "display_data"
    },
    {
     "name": "stdout",
     "output_type": "stream",
     "text": [
      "\n",
      "\u001B[32m2022-06-01 19:58:49.313\u001B[0m | \u001B[1mINFO    \u001B[0m | \u001B[36msrc.beam.experiment\u001B[0m:\u001B[36msave_model_results\u001B[0m:\u001B[36m302\u001B[0m - \u001B[1mFinished epoch 1/2:\u001B[0m\n",
      "\u001B[32m2022-06-01 19:58:49.319\u001B[0m | \u001B[1mINFO    \u001B[0m | \u001B[36msrc.beam.experiment\u001B[0m:\u001B[36mlog_data\u001B[0m:\u001B[36m340\u001B[0m - \u001B[1mtrain:\u001B[0m\n",
      "\u001B[32m2022-06-01 19:58:49.320\u001B[0m | \u001B[1mINFO    \u001B[0m | \u001B[36msrc.beam.experiment\u001B[0m:\u001B[36mlog_data\u001B[0m:\u001B[36m344\u001B[0m - \u001B[1mloss 0.351679 \t|\u001B[0m\n",
      "\u001B[32m2022-06-01 19:58:49.321\u001B[0m | \u001B[1mINFO    \u001B[0m | \u001B[36msrc.beam.experiment\u001B[0m:\u001B[36mlog_data\u001B[0m:\u001B[36m344\u001B[0m - \u001B[1macc 0.897915 \t|\u001B[0m\n",
      "\u001B[32m2022-06-01 19:58:49.322\u001B[0m | \u001B[1mINFO    \u001B[0m | \u001B[36msrc.beam.experiment\u001B[0m:\u001B[36mlog_data\u001B[0m:\u001B[36m344\u001B[0m - \u001B[1mlr 0.00099 \t|\u001B[0m\n",
      "\u001B[32m2022-06-01 19:58:49.323\u001B[0m | \u001B[1mINFO    \u001B[0m | \u001B[36msrc.beam.experiment\u001B[0m:\u001B[36mlog_data\u001B[0m:\u001B[36m340\u001B[0m - \u001B[1mvalidation:\u001B[0m\n",
      "\u001B[32m2022-06-01 19:58:49.323\u001B[0m | \u001B[1mINFO    \u001B[0m | \u001B[36msrc.beam.experiment\u001B[0m:\u001B[36mlog_data\u001B[0m:\u001B[36m344\u001B[0m - \u001B[1mloss 0.154869 \t|\u001B[0m\n",
      "\u001B[32m2022-06-01 19:58:49.324\u001B[0m | \u001B[1mINFO    \u001B[0m | \u001B[36msrc.beam.experiment\u001B[0m:\u001B[36mlog_data\u001B[0m:\u001B[36m344\u001B[0m - \u001B[1macc 0.952362 \t|\u001B[0m\n"
     ]
    },
    {
     "data": {
      "application/vnd.jupyter.widget-view+json": {
       "model_id": "cb262a199de04dae9c1aecd6c8b148af",
       "version_major": 2,
       "version_minor": 0
      },
      "text/plain": [
       "train:   0%|          | 0/389 [00:00<?, ?it/s]"
      ]
     },
     "metadata": {},
     "output_type": "display_data"
    },
    {
     "data": {
      "application/vnd.jupyter.widget-view+json": {
       "model_id": "f9ca2aec63e94113b3191b9ffefeecf9",
       "version_major": 2,
       "version_minor": 0
      },
      "text/plain": [
       "validation:   0%|          | 0/389 [00:00<?, ?it/s]"
      ]
     },
     "metadata": {},
     "output_type": "display_data"
    },
    {
     "name": "stdout",
     "output_type": "stream",
     "text": [
      "\n",
      "\u001B[32m2022-06-01 19:58:51.357\u001B[0m | \u001B[1mINFO    \u001B[0m | \u001B[36msrc.beam.experiment\u001B[0m:\u001B[36msave_model_results\u001B[0m:\u001B[36m302\u001B[0m - \u001B[1mFinished epoch 2/2:\u001B[0m\n",
      "\u001B[32m2022-06-01 19:58:51.362\u001B[0m | \u001B[1mINFO    \u001B[0m | \u001B[36msrc.beam.experiment\u001B[0m:\u001B[36mlog_data\u001B[0m:\u001B[36m340\u001B[0m - \u001B[1mtrain:\u001B[0m\n",
      "\u001B[32m2022-06-01 19:58:51.363\u001B[0m | \u001B[1mINFO    \u001B[0m | \u001B[36msrc.beam.experiment\u001B[0m:\u001B[36mlog_data\u001B[0m:\u001B[36m344\u001B[0m - \u001B[1mloss 0.0924459 \t|\u001B[0m\n",
      "\u001B[32m2022-06-01 19:58:51.364\u001B[0m | \u001B[1mINFO    \u001B[0m | \u001B[36msrc.beam.experiment\u001B[0m:\u001B[36mlog_data\u001B[0m:\u001B[36m344\u001B[0m - \u001B[1macc 0.971883 \t|\u001B[0m\n",
      "\u001B[32m2022-06-01 19:58:51.365\u001B[0m | \u001B[1mINFO    \u001B[0m | \u001B[36msrc.beam.experiment\u001B[0m:\u001B[36mlog_data\u001B[0m:\u001B[36m344\u001B[0m - \u001B[1mlr 0.0009801 \t|\u001B[0m\n",
      "\u001B[32m2022-06-01 19:58:51.366\u001B[0m | \u001B[1mINFO    \u001B[0m | \u001B[36msrc.beam.experiment\u001B[0m:\u001B[36mlog_data\u001B[0m:\u001B[36m340\u001B[0m - \u001B[1mvalidation:\u001B[0m\n",
      "\u001B[32m2022-06-01 19:58:51.367\u001B[0m | \u001B[1mINFO    \u001B[0m | \u001B[36msrc.beam.experiment\u001B[0m:\u001B[36mlog_data\u001B[0m:\u001B[36m344\u001B[0m - \u001B[1mloss 0.0949818 \t|\u001B[0m\n",
      "\u001B[32m2022-06-01 19:58:51.367\u001B[0m | \u001B[1mINFO    \u001B[0m | \u001B[36msrc.beam.experiment\u001B[0m:\u001B[36mlog_data\u001B[0m:\u001B[36m344\u001B[0m - \u001B[1macc 0.971281 \t|\u001B[0m\n"
     ]
    }
   ],
   "source": [
    "alg = experiment(mnist_algorithm_generator)"
   ]
  },
  {
   "cell_type": "markdown",
   "id": "4a232d99",
   "metadata": {},
   "source": [
    "we can now access the trained algorithm"
   ]
  },
  {
   "cell_type": "code",
   "execution_count": 8,
   "id": "db7d6e6e",
   "metadata": {},
   "outputs": [
    {
     "data": {
      "text/plain": [
       "LinearNet(\n",
       "  (lin): Sequential(\n",
       "    (0): Linear(in_features=784, out_features=256, bias=True)\n",
       "    (1): ReLU()\n",
       "    (2): Linear(in_features=256, out_features=256, bias=True)\n",
       "    (3): ReLU()\n",
       "    (4): Linear(in_features=256, out_features=256, bias=True)\n",
       "    (5): ReLU()\n",
       "    (6): Linear(in_features=256, out_features=10, bias=True)\n",
       "  )\n",
       ")"
      ]
     },
     "execution_count": 8,
     "metadata": {},
     "output_type": "execute_result"
    }
   ],
   "source": [
    "alg.networks['net']"
   ]
  },
  {
   "cell_type": "markdown",
   "id": "01a60575",
   "metadata": {},
   "source": [
    "## Inference"
   ]
  },
  {
   "cell_type": "code",
   "execution_count": 9,
   "id": "96c6e643",
   "metadata": {},
   "outputs": [
    {
     "data": {
      "application/vnd.jupyter.widget-view+json": {
       "model_id": "6449ba1536c9464fb5c75b2196edb65c",
       "version_major": 2,
       "version_minor": 0
      },
      "text/plain": [
       "test:   0%|          | 0/39 [00:00<?, ?it/s]"
      ]
     },
     "metadata": {},
     "output_type": "display_data"
    },
    {
     "name": "stdout",
     "output_type": "stream",
     "text": [
      "Test inference results:\n",
      "precision:\n",
      "[0.97585513 0.99115044 0.97010608 0.95472062 0.97357724 0.96524664\n",
      " 0.97782471 0.94647887 0.97671958 0.9803719 ]\n",
      "recall:\n",
      "[0.98979592 0.98678414 0.9748062  0.98118812 0.97556008 0.96524664\n",
      " 0.96659708 0.98054475 0.9476386  0.94053518]\n",
      "fscore:\n",
      "[0.98277609 0.98896247 0.97245046 0.96777344 0.97456765 0.96524664\n",
      " 0.97217848 0.9632107  0.96195935 0.96004047]\n",
      "support:\n",
      "[ 980 1135 1032 1010  982  892  958 1028  974 1009]\n"
     ]
    }
   ],
   "source": [
    "inference = alg('test')\n",
    "\n",
    "print('Test inference results:')\n",
    "for n, v in inference['metrics'].items():\n",
    "    print(f'{n}:')\n",
    "    print(v)"
   ]
  },
  {
   "cell_type": "markdown",
   "id": "da56792b",
   "metadata": {},
   "source": [
    "we can also run our own experiment routine and obtain the results"
   ]
  },
  {
   "cell_type": "code",
   "execution_count": 10,
   "id": "9bc708d3",
   "metadata": {},
   "outputs": [
    {
     "name": "stdout",
     "output_type": "stream",
     "text": [
      "\u001B[32m2022-06-01 19:58:59.572\u001B[0m | \u001B[1mINFO    \u001B[0m | \u001B[36msrc.beam.experiment\u001B[0m:\u001B[36mrun\u001B[0m:\u001B[36m425\u001B[0m - \u001B[1mSingle worker mode\u001B[0m\n",
      "\u001B[32m2022-06-01 19:58:59.573\u001B[0m | \u001B[1mINFO    \u001B[0m | \u001B[36msrc.beam.experiment\u001B[0m:\u001B[36mrun_worker\u001B[0m:\u001B[36m45\u001B[0m - \u001B[1mWorker: 1/1 is running...\u001B[0m\n"
     ]
    },
    {
     "data": {
      "application/vnd.jupyter.widget-view+json": {
       "model_id": "de1fb65ce8a5463596a2d58360567d1f",
       "version_major": 2,
       "version_minor": 0
      },
      "text/plain": [
       "train:   0%|          | 0/389 [00:00<?, ?it/s]"
      ]
     },
     "metadata": {},
     "output_type": "display_data"
    },
    {
     "data": {
      "application/vnd.jupyter.widget-view+json": {
       "model_id": "52c0aae1751a4970bfe8e1a63f2f7e7f",
       "version_major": 2,
       "version_minor": 0
      },
      "text/plain": [
       "validation:   0%|          | 0/389 [00:00<?, ?it/s]"
      ]
     },
     "metadata": {},
     "output_type": "display_data"
    },
    {
     "name": "stdout",
     "output_type": "stream",
     "text": [
      "\n",
      "\u001B[32m2022-06-01 19:59:01.451\u001B[0m | \u001B[1mINFO    \u001B[0m | \u001B[36msrc.beam.experiment\u001B[0m:\u001B[36msave_model_results\u001B[0m:\u001B[36m302\u001B[0m - \u001B[1mFinished epoch 3/2:\u001B[0m\n",
      "\u001B[32m2022-06-01 19:59:01.456\u001B[0m | \u001B[1mINFO    \u001B[0m | \u001B[36msrc.beam.experiment\u001B[0m:\u001B[36mlog_data\u001B[0m:\u001B[36m340\u001B[0m - \u001B[1mtrain:\u001B[0m\n",
      "\u001B[32m2022-06-01 19:59:01.457\u001B[0m | \u001B[1mINFO    \u001B[0m | \u001B[36msrc.beam.experiment\u001B[0m:\u001B[36mlog_data\u001B[0m:\u001B[36m344\u001B[0m - \u001B[1mloss 0.333092 \t|\u001B[0m\n",
      "\u001B[32m2022-06-01 19:59:01.458\u001B[0m | \u001B[1mINFO    \u001B[0m | \u001B[36msrc.beam.experiment\u001B[0m:\u001B[36mlog_data\u001B[0m:\u001B[36m344\u001B[0m - \u001B[1macc 0.904935 \t|\u001B[0m\n",
      "\u001B[32m2022-06-01 19:59:01.459\u001B[0m | \u001B[1mINFO    \u001B[0m | \u001B[36msrc.beam.experiment\u001B[0m:\u001B[36mlog_data\u001B[0m:\u001B[36m344\u001B[0m - \u001B[1mlr 0.00099 \t|\u001B[0m\n",
      "\u001B[32m2022-06-01 19:59:01.460\u001B[0m | \u001B[1mINFO    \u001B[0m | \u001B[36msrc.beam.experiment\u001B[0m:\u001B[36mlog_data\u001B[0m:\u001B[36m340\u001B[0m - \u001B[1mvalidation:\u001B[0m\n",
      "\u001B[32m2022-06-01 19:59:01.461\u001B[0m | \u001B[1mINFO    \u001B[0m | \u001B[36msrc.beam.experiment\u001B[0m:\u001B[36mlog_data\u001B[0m:\u001B[36m344\u001B[0m - \u001B[1mloss 0.136295 \t|\u001B[0m\n",
      "\u001B[32m2022-06-01 19:59:01.462\u001B[0m | \u001B[1mINFO    \u001B[0m | \u001B[36msrc.beam.experiment\u001B[0m:\u001B[36mlog_data\u001B[0m:\u001B[36m344\u001B[0m - \u001B[1macc 0.958618 \t|\u001B[0m\n"
     ]
    },
    {
     "data": {
      "application/vnd.jupyter.widget-view+json": {
       "model_id": "7d8066c2c2a14d38997cc7aff5637f7e",
       "version_major": 2,
       "version_minor": 0
      },
      "text/plain": [
       "train:   0%|          | 0/389 [00:00<?, ?it/s]"
      ]
     },
     "metadata": {},
     "output_type": "display_data"
    },
    {
     "data": {
      "application/vnd.jupyter.widget-view+json": {
       "model_id": "227420c148fd4cf69f4a063466d2c19c",
       "version_major": 2,
       "version_minor": 0
      },
      "text/plain": [
       "validation:   0%|          | 0/389 [00:00<?, ?it/s]"
      ]
     },
     "metadata": {},
     "output_type": "display_data"
    },
    {
     "name": "stdout",
     "output_type": "stream",
     "text": [
      "\n",
      "\u001B[32m2022-06-01 19:59:03.455\u001B[0m | \u001B[1mINFO    \u001B[0m | \u001B[36msrc.beam.experiment\u001B[0m:\u001B[36msave_model_results\u001B[0m:\u001B[36m302\u001B[0m - \u001B[1mFinished epoch 4/2:\u001B[0m\n",
      "\u001B[32m2022-06-01 19:59:03.459\u001B[0m | \u001B[1mINFO    \u001B[0m | \u001B[36msrc.beam.experiment\u001B[0m:\u001B[36mlog_data\u001B[0m:\u001B[36m340\u001B[0m - \u001B[1mtrain:\u001B[0m\n",
      "\u001B[32m2022-06-01 19:59:03.460\u001B[0m | \u001B[1mINFO    \u001B[0m | \u001B[36msrc.beam.experiment\u001B[0m:\u001B[36mlog_data\u001B[0m:\u001B[36m344\u001B[0m - \u001B[1mloss 0.0878459 \t|\u001B[0m\n",
      "\u001B[32m2022-06-01 19:59:03.461\u001B[0m | \u001B[1mINFO    \u001B[0m | \u001B[36msrc.beam.experiment\u001B[0m:\u001B[36mlog_data\u001B[0m:\u001B[36m344\u001B[0m - \u001B[1macc 0.973289 \t|\u001B[0m\n",
      "\u001B[32m2022-06-01 19:59:03.461\u001B[0m | \u001B[1mINFO    \u001B[0m | \u001B[36msrc.beam.experiment\u001B[0m:\u001B[36mlog_data\u001B[0m:\u001B[36m344\u001B[0m - \u001B[1mlr 0.0009801 \t|\u001B[0m\n",
      "\u001B[32m2022-06-01 19:59:03.462\u001B[0m | \u001B[1mINFO    \u001B[0m | \u001B[36msrc.beam.experiment\u001B[0m:\u001B[36mlog_data\u001B[0m:\u001B[36m340\u001B[0m - \u001B[1mvalidation:\u001B[0m\n",
      "\u001B[32m2022-06-01 19:59:03.463\u001B[0m | \u001B[1mINFO    \u001B[0m | \u001B[36msrc.beam.experiment\u001B[0m:\u001B[36mlog_data\u001B[0m:\u001B[36m344\u001B[0m - \u001B[1mloss 0.0949364 \t|\u001B[0m\n",
      "\u001B[32m2022-06-01 19:59:03.463\u001B[0m | \u001B[1mINFO    \u001B[0m | \u001B[36msrc.beam.experiment\u001B[0m:\u001B[36mlog_data\u001B[0m:\u001B[36m344\u001B[0m - \u001B[1macc 0.971692 \t|\u001B[0m\n"
     ]
    }
   ],
   "source": [
    "alg, results = experiment.run(run_mnist)"
   ]
  },
  {
   "cell_type": "code",
   "execution_count": 11,
   "id": "9dc7274c",
   "metadata": {},
   "outputs": [
    {
     "data": {
      "text/plain": [
       "0.09493644842949808"
      ]
     },
     "execution_count": 11,
     "metadata": {},
     "output_type": "execute_result"
    }
   ],
   "source": [
    "np.mean(results['validation']['scalar']['loss'])"
   ]
  },
  {
   "cell_type": "markdown",
   "id": "40aa198f",
   "metadata": {},
   "source": [
    "## Inference"
   ]
  },
  {
   "cell_type": "code",
   "execution_count": 12,
   "id": "d4dcd670",
   "metadata": {},
   "outputs": [
    {
     "data": {
      "application/vnd.jupyter.widget-view+json": {
       "model_id": "8b53c64524bc4cacb46ed0131fa005ff",
       "version_major": 2,
       "version_minor": 0
      },
      "text/plain": [
       "test:   0%|          | 0/39 [00:00<?, ?it/s]"
      ]
     },
     "metadata": {},
     "output_type": "display_data"
    },
    {
     "name": "stdout",
     "output_type": "stream",
     "text": [
      "Test inference results:\n",
      "precision:\n",
      "[0.97683787 0.98423818 0.97019231 0.94676806 0.960199   0.98484848\n",
      " 0.96707819 0.9707887  0.9697286  0.98740818]\n",
      "recall:\n",
      "[0.98979592 0.99030837 0.97771318 0.98613861 0.98268839 0.94730942\n",
      " 0.98121086 0.96984436 0.95379877 0.93260654]\n",
      "fscore:\n",
      "[0.9832742  0.98726394 0.97393822 0.96605238 0.97131354 0.96571429\n",
      " 0.97409326 0.9703163  0.96169772 0.95922528]\n",
      "support:\n",
      "[ 980 1135 1032 1010  982  892  958 1028  974 1009]\n"
     ]
    }
   ],
   "source": [
    "inference = alg('test')\n",
    "\n",
    "print('Test inference results:')\n",
    "for n, v in inference['metrics'].items():\n",
    "    print(f'{n}:')\n",
    "    print(v)"
   ]
  },
  {
   "cell_type": "markdown",
   "id": "598685c2",
   "metadata": {},
   "source": [
    "## Reload algorithm and resume training"
   ]
  },
  {
   "cell_type": "code",
   "execution_count": 16,
   "id": "1b5fab00",
   "metadata": {},
   "outputs": [
    {
     "name": "stdout",
     "output_type": "stream",
     "text": [
      "\u001B[32m2022-06-01 20:00:10.595\u001B[0m | \u001B[1mINFO    \u001B[0m | \u001B[36msrc.beam.experiment\u001B[0m:\u001B[36m__init__\u001B[0m:\u001B[36m94\u001B[0m - \u001B[1mbeam project: mnist\u001B[0m\n",
      "\u001B[32m2022-06-01 20:00:10.596\u001B[0m | \u001B[1mINFO    \u001B[0m | \u001B[36msrc.beam.experiment\u001B[0m:\u001B[36m__init__\u001B[0m:\u001B[36m95\u001B[0m - \u001B[1mSimulation Hyperparameters\u001B[0m\n",
      "\u001B[32m2022-06-01 20:00:10.598\u001B[0m | \u001B[1mINFO    \u001B[0m | \u001B[36msrc.beam.experiment\u001B[0m:\u001B[36m__init__\u001B[0m:\u001B[36m99\u001B[0m - \u001B[1mproject_name: mnist\u001B[0m\n",
      "\u001B[32m2022-06-01 20:00:10.599\u001B[0m | \u001B[1mINFO    \u001B[0m | \u001B[36msrc.beam.experiment\u001B[0m:\u001B[36m__init__\u001B[0m:\u001B[36m99\u001B[0m - \u001B[1midentifier: debug\u001B[0m\n",
      "\u001B[32m2022-06-01 20:00:10.600\u001B[0m | \u001B[1mINFO    \u001B[0m | \u001B[36msrc.beam.experiment\u001B[0m:\u001B[36m__init__\u001B[0m:\u001B[36m99\u001B[0m - \u001B[1malgorithm: MNISTAlgorithm\u001B[0m\n",
      "\u001B[32m2022-06-01 20:00:10.601\u001B[0m | \u001B[1mINFO    \u001B[0m | \u001B[36msrc.beam.experiment\u001B[0m:\u001B[36m__init__\u001B[0m:\u001B[36m99\u001B[0m - \u001B[1mmp_port: None\u001B[0m\n",
      "\u001B[32m2022-06-01 20:00:10.602\u001B[0m | \u001B[1mINFO    \u001B[0m | \u001B[36msrc.beam.experiment\u001B[0m:\u001B[36m__init__\u001B[0m:\u001B[36m99\u001B[0m - \u001B[1mroot_dir: /localdata/elads/data/resutls\u001B[0m\n",
      "\u001B[32m2022-06-01 20:00:10.603\u001B[0m | \u001B[1mINFO    \u001B[0m | \u001B[36msrc.beam.experiment\u001B[0m:\u001B[36m__init__\u001B[0m:\u001B[36m99\u001B[0m - \u001B[1mreload: True\u001B[0m\n",
      "\u001B[32m2022-06-01 20:00:10.605\u001B[0m | \u001B[1mINFO    \u001B[0m | \u001B[36msrc.beam.experiment\u001B[0m:\u001B[36m__init__\u001B[0m:\u001B[36m99\u001B[0m - \u001B[1mresume: -1\u001B[0m\n",
      "\u001B[32m2022-06-01 20:00:10.606\u001B[0m | \u001B[1mINFO    \u001B[0m | \u001B[36msrc.beam.experiment\u001B[0m:\u001B[36m__init__\u001B[0m:\u001B[36m99\u001B[0m - \u001B[1moverride: False\u001B[0m\n",
      "\u001B[32m2022-06-01 20:00:10.607\u001B[0m | \u001B[1mINFO    \u001B[0m | \u001B[36msrc.beam.experiment\u001B[0m:\u001B[36m__init__\u001B[0m:\u001B[36m99\u001B[0m - \u001B[1mcpu_workers: 0\u001B[0m\n",
      "\u001B[32m2022-06-01 20:00:10.608\u001B[0m | \u001B[1mINFO    \u001B[0m | \u001B[36msrc.beam.experiment\u001B[0m:\u001B[36m__init__\u001B[0m:\u001B[36m99\u001B[0m - \u001B[1mdevice: 0\u001B[0m\n",
      "\u001B[32m2022-06-01 20:00:10.609\u001B[0m | \u001B[1mINFO    \u001B[0m | \u001B[36msrc.beam.experiment\u001B[0m:\u001B[36m__init__\u001B[0m:\u001B[36m99\u001B[0m - \u001B[1mparallel: 1\u001B[0m\n",
      "\u001B[32m2022-06-01 20:00:10.610\u001B[0m | \u001B[1mINFO    \u001B[0m | \u001B[36msrc.beam.experiment\u001B[0m:\u001B[36m__init__\u001B[0m:\u001B[36m99\u001B[0m - \u001B[1mtensorboard: True\u001B[0m\n",
      "\u001B[32m2022-06-01 20:00:10.611\u001B[0m | \u001B[1mINFO    \u001B[0m | \u001B[36msrc.beam.experiment\u001B[0m:\u001B[36m__init__\u001B[0m:\u001B[36m99\u001B[0m - \u001B[1mlognet: True\u001B[0m\n",
      "\u001B[32m2022-06-01 20:00:10.612\u001B[0m | \u001B[1mINFO    \u001B[0m | \u001B[36msrc.beam.experiment\u001B[0m:\u001B[36m__init__\u001B[0m:\u001B[36m99\u001B[0m - \u001B[1mdeterministic: False\u001B[0m\n",
      "\u001B[32m2022-06-01 20:00:10.613\u001B[0m | \u001B[1mINFO    \u001B[0m | \u001B[36msrc.beam.experiment\u001B[0m:\u001B[36m__init__\u001B[0m:\u001B[36m99\u001B[0m - \u001B[1mscale_epoch_by_batch_size: True\u001B[0m\n",
      "\u001B[32m2022-06-01 20:00:10.614\u001B[0m | \u001B[1mINFO    \u001B[0m | \u001B[36msrc.beam.experiment\u001B[0m:\u001B[36m__init__\u001B[0m:\u001B[36m99\u001B[0m - \u001B[1minit: ortho\u001B[0m\n",
      "\u001B[32m2022-06-01 20:00:10.616\u001B[0m | \u001B[1mINFO    \u001B[0m | \u001B[36msrc.beam.experiment\u001B[0m:\u001B[36m__init__\u001B[0m:\u001B[36m99\u001B[0m - \u001B[1mseed: 0\u001B[0m\n",
      "\u001B[32m2022-06-01 20:00:10.617\u001B[0m | \u001B[1mINFO    \u001B[0m | \u001B[36msrc.beam.experiment\u001B[0m:\u001B[36m__init__\u001B[0m:\u001B[36m99\u001B[0m - \u001B[1mtotal_steps: 1000000\u001B[0m\n",
      "\u001B[32m2022-06-01 20:00:10.618\u001B[0m | \u001B[1mINFO    \u001B[0m | \u001B[36msrc.beam.experiment\u001B[0m:\u001B[36m__init__\u001B[0m:\u001B[36m99\u001B[0m - \u001B[1mepoch_length: 100000\u001B[0m\n",
      "\u001B[32m2022-06-01 20:00:10.619\u001B[0m | \u001B[1mINFO    \u001B[0m | \u001B[36msrc.beam.experiment\u001B[0m:\u001B[36m__init__\u001B[0m:\u001B[36m99\u001B[0m - \u001B[1mepoch_length_train: None\u001B[0m\n",
      "\u001B[32m2022-06-01 20:00:10.620\u001B[0m | \u001B[1mINFO    \u001B[0m | \u001B[36msrc.beam.experiment\u001B[0m:\u001B[36m__init__\u001B[0m:\u001B[36m99\u001B[0m - \u001B[1mepoch_length_eval: None\u001B[0m\n",
      "\u001B[32m2022-06-01 20:00:10.621\u001B[0m | \u001B[1mINFO    \u001B[0m | \u001B[36msrc.beam.experiment\u001B[0m:\u001B[36m__init__\u001B[0m:\u001B[36m99\u001B[0m - \u001B[1mn_epochs: 2\u001B[0m\n",
      "\u001B[32m2022-06-01 20:00:10.622\u001B[0m | \u001B[1mINFO    \u001B[0m | \u001B[36msrc.beam.experiment\u001B[0m:\u001B[36m__init__\u001B[0m:\u001B[36m99\u001B[0m - \u001B[1mbatch_size: 256\u001B[0m\n",
      "\u001B[32m2022-06-01 20:00:10.623\u001B[0m | \u001B[1mINFO    \u001B[0m | \u001B[36msrc.beam.experiment\u001B[0m:\u001B[36m__init__\u001B[0m:\u001B[36m99\u001B[0m - \u001B[1mbatch_size_train: None\u001B[0m\n",
      "\u001B[32m2022-06-01 20:00:10.624\u001B[0m | \u001B[1mINFO    \u001B[0m | \u001B[36msrc.beam.experiment\u001B[0m:\u001B[36m__init__\u001B[0m:\u001B[36m99\u001B[0m - \u001B[1mbatch_size_eval: None\u001B[0m\n",
      "\u001B[32m2022-06-01 20:00:10.625\u001B[0m | \u001B[1mINFO    \u001B[0m | \u001B[36msrc.beam.experiment\u001B[0m:\u001B[36m__init__\u001B[0m:\u001B[36m99\u001B[0m - \u001B[1mlr_d: 0.001\u001B[0m\n",
      "\u001B[32m2022-06-01 20:00:10.626\u001B[0m | \u001B[1mINFO    \u001B[0m | \u001B[36msrc.beam.experiment\u001B[0m:\u001B[36m__init__\u001B[0m:\u001B[36m99\u001B[0m - \u001B[1mlr_s: 0.01\u001B[0m\n",
      "\u001B[32m2022-06-01 20:00:10.627\u001B[0m | \u001B[1mINFO    \u001B[0m | \u001B[36msrc.beam.experiment\u001B[0m:\u001B[36m__init__\u001B[0m:\u001B[36m99\u001B[0m - \u001B[1mweight_decay: 0.0\u001B[0m\n",
      "\u001B[32m2022-06-01 20:00:10.628\u001B[0m | \u001B[1mINFO    \u001B[0m | \u001B[36msrc.beam.experiment\u001B[0m:\u001B[36m__init__\u001B[0m:\u001B[36m99\u001B[0m - \u001B[1meps: 0.0001\u001B[0m\n",
      "\u001B[32m2022-06-01 20:00:10.629\u001B[0m | \u001B[1mINFO    \u001B[0m | \u001B[36msrc.beam.experiment\u001B[0m:\u001B[36m__init__\u001B[0m:\u001B[36m99\u001B[0m - \u001B[1mclip: 1.0\u001B[0m\n",
      "\u001B[32m2022-06-01 20:00:10.630\u001B[0m | \u001B[1mINFO    \u001B[0m | \u001B[36msrc.beam.experiment\u001B[0m:\u001B[36m__init__\u001B[0m:\u001B[36m99\u001B[0m - \u001B[1mprint_results: True\u001B[0m\n",
      "\u001B[32m2022-06-01 20:00:10.631\u001B[0m | \u001B[1mINFO    \u001B[0m | \u001B[36msrc.beam.experiment\u001B[0m:\u001B[36m__init__\u001B[0m:\u001B[36m99\u001B[0m - \u001B[1mvisualize_weights: True\u001B[0m\n",
      "\u001B[32m2022-06-01 20:00:10.632\u001B[0m | \u001B[1mINFO    \u001B[0m | \u001B[36msrc.beam.experiment\u001B[0m:\u001B[36m__init__\u001B[0m:\u001B[36m99\u001B[0m - \u001B[1mvisualize_results: yes\u001B[0m\n",
      "\u001B[32m2022-06-01 20:00:10.633\u001B[0m | \u001B[1mINFO    \u001B[0m | \u001B[36msrc.beam.experiment\u001B[0m:\u001B[36m__init__\u001B[0m:\u001B[36m99\u001B[0m - \u001B[1mstore_results: logscale\u001B[0m\n",
      "\u001B[32m2022-06-01 20:00:10.634\u001B[0m | \u001B[1mINFO    \u001B[0m | \u001B[36msrc.beam.experiment\u001B[0m:\u001B[36m__init__\u001B[0m:\u001B[36m99\u001B[0m - \u001B[1mstore_networks: logscale\u001B[0m\n",
      "\u001B[32m2022-06-01 20:00:10.635\u001B[0m | \u001B[1mINFO    \u001B[0m | \u001B[36msrc.beam.experiment\u001B[0m:\u001B[36m__init__\u001B[0m:\u001B[36m99\u001B[0m - \u001B[1mpath_to_data: /localdata/elads/data/datasets/mnist\u001B[0m\n",
      "\u001B[32m2022-06-01 20:00:10.637\u001B[0m | \u001B[1mINFO    \u001B[0m | \u001B[36msrc.beam.experiment\u001B[0m:\u001B[36m__init__\u001B[0m:\u001B[36m161\u001B[0m - \u001B[1mResuming existing experiment\u001B[0m\n"
     ]
    }
   ],
   "source": [
    "# here you put all actions which are performed only once before initializing the workers\n",
    "# for example, setting running arguments and experiment:\n",
    "\n",
    "args = beam_arguments(f\"--project-name=mnist --root-dir={root_dir} --algorithm=MNISTAlgorithm\",\n",
    "                      \"--epoch-length=100000 --n-epochs=2 --clip=1 --parallel=1 --reload\", \n",
    "                      path_to_data=path_to_data)\n",
    "\n",
    "experiment = Experiment(args)"
   ]
  },
  {
   "cell_type": "code",
   "execution_count": 17,
   "id": "2d0f02c5",
   "metadata": {},
   "outputs": [
    {
     "name": "stdout",
     "output_type": "stream",
     "text": [
      "\u001B[32m2022-06-01 20:00:13.889\u001B[0m | \u001B[1mINFO    \u001B[0m | \u001B[36msrc.beam.experiment\u001B[0m:\u001B[36mrun\u001B[0m:\u001B[36m425\u001B[0m - \u001B[1mSingle worker mode\u001B[0m\n",
      "\u001B[32m2022-06-01 20:00:13.891\u001B[0m | \u001B[1mINFO    \u001B[0m | \u001B[36msrc.beam.experiment\u001B[0m:\u001B[36mrun_worker\u001B[0m:\u001B[36m45\u001B[0m - \u001B[1mWorker: 1/1 is running...\u001B[0m\n",
      "\u001B[32m2022-06-01 20:00:13.989\u001B[0m | \u001B[1mINFO    \u001B[0m | \u001B[36msrc.beam.experiment\u001B[0m:\u001B[36mreload_checkpoint\u001B[0m:\u001B[36m245\u001B[0m - \u001B[1mReload experiment from checkpoint: /localdata/elads/data/resutls/mnist/MNISTAlgorithm/debug/0001_20220601_194628/checkpoints/checkpoint_000004\u001B[0m\n"
     ]
    },
    {
     "data": {
      "application/vnd.jupyter.widget-view+json": {
       "model_id": "40e43627c98045b69319306197563043",
       "version_major": 2,
       "version_minor": 0
      },
      "text/plain": [
       "train:   0%|          | 0/389 [00:00<?, ?it/s]"
      ]
     },
     "metadata": {},
     "output_type": "display_data"
    },
    {
     "data": {
      "application/vnd.jupyter.widget-view+json": {
       "model_id": "4aaa0553d15946ce9ad3d6c333c6caff",
       "version_major": 2,
       "version_minor": 0
      },
      "text/plain": [
       "validation:   0%|          | 0/389 [00:00<?, ?it/s]"
      ]
     },
     "metadata": {},
     "output_type": "display_data"
    },
    {
     "name": "stdout",
     "output_type": "stream",
     "text": [
      "\n",
      "\u001B[32m2022-06-01 20:00:15.814\u001B[0m | \u001B[1mINFO    \u001B[0m | \u001B[36msrc.beam.experiment\u001B[0m:\u001B[36msave_model_results\u001B[0m:\u001B[36m302\u001B[0m - \u001B[1mFinished epoch 1/2:\u001B[0m\n",
      "\u001B[32m2022-06-01 20:00:15.820\u001B[0m | \u001B[1mINFO    \u001B[0m | \u001B[36msrc.beam.experiment\u001B[0m:\u001B[36mlog_data\u001B[0m:\u001B[36m340\u001B[0m - \u001B[1mtrain:\u001B[0m\n",
      "\u001B[32m2022-06-01 20:00:15.820\u001B[0m | \u001B[1mINFO    \u001B[0m | \u001B[36msrc.beam.experiment\u001B[0m:\u001B[36mlog_data\u001B[0m:\u001B[36m344\u001B[0m - \u001B[1mloss 0.0471516 \t|\u001B[0m\n",
      "\u001B[32m2022-06-01 20:00:15.821\u001B[0m | \u001B[1mINFO    \u001B[0m | \u001B[36msrc.beam.experiment\u001B[0m:\u001B[36mlog_data\u001B[0m:\u001B[36m344\u001B[0m - \u001B[1macc 0.985791 \t|\u001B[0m\n",
      "\u001B[32m2022-06-01 20:00:15.821\u001B[0m | \u001B[1mINFO    \u001B[0m | \u001B[36msrc.beam.experiment\u001B[0m:\u001B[36mlog_data\u001B[0m:\u001B[36m344\u001B[0m - \u001B[1mlr 0.000970299 \t|\u001B[0m\n",
      "\u001B[32m2022-06-01 20:00:15.822\u001B[0m | \u001B[1mINFO    \u001B[0m | \u001B[36msrc.beam.experiment\u001B[0m:\u001B[36mlog_data\u001B[0m:\u001B[36m340\u001B[0m - \u001B[1mvalidation:\u001B[0m\n",
      "\u001B[32m2022-06-01 20:00:15.823\u001B[0m | \u001B[1mINFO    \u001B[0m | \u001B[36msrc.beam.experiment\u001B[0m:\u001B[36mlog_data\u001B[0m:\u001B[36m344\u001B[0m - \u001B[1mloss 0.092408 \t|\u001B[0m\n",
      "\u001B[32m2022-06-01 20:00:15.823\u001B[0m | \u001B[1mINFO    \u001B[0m | \u001B[36msrc.beam.experiment\u001B[0m:\u001B[36mlog_data\u001B[0m:\u001B[36m344\u001B[0m - \u001B[1macc 0.973329 \t|\u001B[0m\n"
     ]
    },
    {
     "data": {
      "application/vnd.jupyter.widget-view+json": {
       "model_id": "82322a42d62045209d92bd9c5680cefc",
       "version_major": 2,
       "version_minor": 0
      },
      "text/plain": [
       "train:   0%|          | 0/389 [00:00<?, ?it/s]"
      ]
     },
     "metadata": {},
     "output_type": "display_data"
    },
    {
     "data": {
      "application/vnd.jupyter.widget-view+json": {
       "model_id": "adce07d25c2f4cfc897706f20025f912",
       "version_major": 2,
       "version_minor": 0
      },
      "text/plain": [
       "validation:   0%|          | 0/389 [00:00<?, ?it/s]"
      ]
     },
     "metadata": {},
     "output_type": "display_data"
    },
    {
     "name": "stdout",
     "output_type": "stream",
     "text": [
      "\n",
      "\u001B[32m2022-06-01 20:00:17.862\u001B[0m | \u001B[1mINFO    \u001B[0m | \u001B[36msrc.beam.experiment\u001B[0m:\u001B[36msave_model_results\u001B[0m:\u001B[36m302\u001B[0m - \u001B[1mFinished epoch 2/2:\u001B[0m\n",
      "\u001B[32m2022-06-01 20:00:17.867\u001B[0m | \u001B[1mINFO    \u001B[0m | \u001B[36msrc.beam.experiment\u001B[0m:\u001B[36mlog_data\u001B[0m:\u001B[36m340\u001B[0m - \u001B[1mtrain:\u001B[0m\n",
      "\u001B[32m2022-06-01 20:00:17.867\u001B[0m | \u001B[1mINFO    \u001B[0m | \u001B[36msrc.beam.experiment\u001B[0m:\u001B[36mlog_data\u001B[0m:\u001B[36m344\u001B[0m - \u001B[1mloss 0.0272187 \t|\u001B[0m\n",
      "\u001B[32m2022-06-01 20:00:17.868\u001B[0m | \u001B[1mINFO    \u001B[0m | \u001B[36msrc.beam.experiment\u001B[0m:\u001B[36mlog_data\u001B[0m:\u001B[36m344\u001B[0m - \u001B[1macc 0.991716 \t|\u001B[0m\n",
      "\u001B[32m2022-06-01 20:00:17.869\u001B[0m | \u001B[1mINFO    \u001B[0m | \u001B[36msrc.beam.experiment\u001B[0m:\u001B[36mlog_data\u001B[0m:\u001B[36m344\u001B[0m - \u001B[1mlr 0.000960596 \t|\u001B[0m\n",
      "\u001B[32m2022-06-01 20:00:17.869\u001B[0m | \u001B[1mINFO    \u001B[0m | \u001B[36msrc.beam.experiment\u001B[0m:\u001B[36mlog_data\u001B[0m:\u001B[36m340\u001B[0m - \u001B[1mvalidation:\u001B[0m\n",
      "\u001B[32m2022-06-01 20:00:17.870\u001B[0m | \u001B[1mINFO    \u001B[0m | \u001B[36msrc.beam.experiment\u001B[0m:\u001B[36mlog_data\u001B[0m:\u001B[36m344\u001B[0m - \u001B[1mloss 0.100829 \t|\u001B[0m\n",
      "\u001B[32m2022-06-01 20:00:17.871\u001B[0m | \u001B[1mINFO    \u001B[0m | \u001B[36msrc.beam.experiment\u001B[0m:\u001B[36mlog_data\u001B[0m:\u001B[36m344\u001B[0m - \u001B[1macc 0.972496 \t|\u001B[0m\n"
     ]
    }
   ],
   "source": [
    "alg = experiment(mnist_algorithm_generator)"
   ]
  },
  {
   "cell_type": "markdown",
   "id": "02d6a977",
   "metadata": {},
   "source": [
    "## Training with two workers"
   ]
  },
  {
   "cell_type": "code",
   "execution_count": 19,
   "id": "bc3afa93",
   "metadata": {},
   "outputs": [
    {
     "name": "stdout",
     "output_type": "stream",
     "text": [
      "\u001B[32m2022-06-01 20:00:57.478\u001B[0m | \u001B[1mINFO    \u001B[0m | \u001B[36msrc.beam.experiment\u001B[0m:\u001B[36m__init__\u001B[0m:\u001B[36m94\u001B[0m - \u001B[1mbeam project: mnist\u001B[0m\n",
      "\u001B[32m2022-06-01 20:00:57.480\u001B[0m | \u001B[1mINFO    \u001B[0m | \u001B[36msrc.beam.experiment\u001B[0m:\u001B[36m__init__\u001B[0m:\u001B[36m95\u001B[0m - \u001B[1mSimulation Hyperparameters\u001B[0m\n",
      "\u001B[32m2022-06-01 20:00:57.481\u001B[0m | \u001B[1mINFO    \u001B[0m | \u001B[36msrc.beam.experiment\u001B[0m:\u001B[36m__init__\u001B[0m:\u001B[36m99\u001B[0m - \u001B[1mproject_name: mnist\u001B[0m\n",
      "\u001B[32m2022-06-01 20:00:57.483\u001B[0m | \u001B[1mINFO    \u001B[0m | \u001B[36msrc.beam.experiment\u001B[0m:\u001B[36m__init__\u001B[0m:\u001B[36m99\u001B[0m - \u001B[1midentifier: debug\u001B[0m\n",
      "\u001B[32m2022-06-01 20:00:57.484\u001B[0m | \u001B[1mINFO    \u001B[0m | \u001B[36msrc.beam.experiment\u001B[0m:\u001B[36m__init__\u001B[0m:\u001B[36m99\u001B[0m - \u001B[1malgorithm: MNISTAlgorithm\u001B[0m\n",
      "\u001B[32m2022-06-01 20:00:57.485\u001B[0m | \u001B[1mINFO    \u001B[0m | \u001B[36msrc.beam.experiment\u001B[0m:\u001B[36m__init__\u001B[0m:\u001B[36m99\u001B[0m - \u001B[1mmp_port: None\u001B[0m\n",
      "\u001B[32m2022-06-01 20:00:57.486\u001B[0m | \u001B[1mINFO    \u001B[0m | \u001B[36msrc.beam.experiment\u001B[0m:\u001B[36m__init__\u001B[0m:\u001B[36m99\u001B[0m - \u001B[1mroot_dir: /localdata/elads/data/resutls\u001B[0m\n",
      "\u001B[32m2022-06-01 20:00:57.488\u001B[0m | \u001B[1mINFO    \u001B[0m | \u001B[36msrc.beam.experiment\u001B[0m:\u001B[36m__init__\u001B[0m:\u001B[36m99\u001B[0m - \u001B[1mreload: False\u001B[0m\n",
      "\u001B[32m2022-06-01 20:00:57.489\u001B[0m | \u001B[1mINFO    \u001B[0m | \u001B[36msrc.beam.experiment\u001B[0m:\u001B[36m__init__\u001B[0m:\u001B[36m99\u001B[0m - \u001B[1mresume: -1\u001B[0m\n",
      "\u001B[32m2022-06-01 20:00:57.490\u001B[0m | \u001B[1mINFO    \u001B[0m | \u001B[36msrc.beam.experiment\u001B[0m:\u001B[36m__init__\u001B[0m:\u001B[36m99\u001B[0m - \u001B[1moverride: False\u001B[0m\n",
      "\u001B[32m2022-06-01 20:00:57.491\u001B[0m | \u001B[1mINFO    \u001B[0m | \u001B[36msrc.beam.experiment\u001B[0m:\u001B[36m__init__\u001B[0m:\u001B[36m99\u001B[0m - \u001B[1mcpu_workers: 0\u001B[0m\n",
      "\u001B[32m2022-06-01 20:00:57.492\u001B[0m | \u001B[1mINFO    \u001B[0m | \u001B[36msrc.beam.experiment\u001B[0m:\u001B[36m__init__\u001B[0m:\u001B[36m99\u001B[0m - \u001B[1mdevice: 0\u001B[0m\n",
      "\u001B[32m2022-06-01 20:00:57.493\u001B[0m | \u001B[1mINFO    \u001B[0m | \u001B[36msrc.beam.experiment\u001B[0m:\u001B[36m__init__\u001B[0m:\u001B[36m99\u001B[0m - \u001B[1mparallel: 2\u001B[0m\n",
      "\u001B[32m2022-06-01 20:00:57.494\u001B[0m | \u001B[1mINFO    \u001B[0m | \u001B[36msrc.beam.experiment\u001B[0m:\u001B[36m__init__\u001B[0m:\u001B[36m99\u001B[0m - \u001B[1mtensorboard: True\u001B[0m\n",
      "\u001B[32m2022-06-01 20:00:57.495\u001B[0m | \u001B[1mINFO    \u001B[0m | \u001B[36msrc.beam.experiment\u001B[0m:\u001B[36m__init__\u001B[0m:\u001B[36m99\u001B[0m - \u001B[1mlognet: True\u001B[0m\n",
      "\u001B[32m2022-06-01 20:00:57.496\u001B[0m | \u001B[1mINFO    \u001B[0m | \u001B[36msrc.beam.experiment\u001B[0m:\u001B[36m__init__\u001B[0m:\u001B[36m99\u001B[0m - \u001B[1mdeterministic: False\u001B[0m\n",
      "\u001B[32m2022-06-01 20:00:57.498\u001B[0m | \u001B[1mINFO    \u001B[0m | \u001B[36msrc.beam.experiment\u001B[0m:\u001B[36m__init__\u001B[0m:\u001B[36m99\u001B[0m - \u001B[1mscale_epoch_by_batch_size: True\u001B[0m\n",
      "\u001B[32m2022-06-01 20:00:57.498\u001B[0m | \u001B[1mINFO    \u001B[0m | \u001B[36msrc.beam.experiment\u001B[0m:\u001B[36m__init__\u001B[0m:\u001B[36m99\u001B[0m - \u001B[1minit: ortho\u001B[0m\n",
      "\u001B[32m2022-06-01 20:00:57.500\u001B[0m | \u001B[1mINFO    \u001B[0m | \u001B[36msrc.beam.experiment\u001B[0m:\u001B[36m__init__\u001B[0m:\u001B[36m99\u001B[0m - \u001B[1mseed: 0\u001B[0m\n",
      "\u001B[32m2022-06-01 20:00:57.501\u001B[0m | \u001B[1mINFO    \u001B[0m | \u001B[36msrc.beam.experiment\u001B[0m:\u001B[36m__init__\u001B[0m:\u001B[36m99\u001B[0m - \u001B[1mtotal_steps: 1000000\u001B[0m\n",
      "\u001B[32m2022-06-01 20:00:57.502\u001B[0m | \u001B[1mINFO    \u001B[0m | \u001B[36msrc.beam.experiment\u001B[0m:\u001B[36m__init__\u001B[0m:\u001B[36m99\u001B[0m - \u001B[1mepoch_length: 100000\u001B[0m\n",
      "\u001B[32m2022-06-01 20:00:57.503\u001B[0m | \u001B[1mINFO    \u001B[0m | \u001B[36msrc.beam.experiment\u001B[0m:\u001B[36m__init__\u001B[0m:\u001B[36m99\u001B[0m - \u001B[1mepoch_length_train: None\u001B[0m\n",
      "\u001B[32m2022-06-01 20:00:57.504\u001B[0m | \u001B[1mINFO    \u001B[0m | \u001B[36msrc.beam.experiment\u001B[0m:\u001B[36m__init__\u001B[0m:\u001B[36m99\u001B[0m - \u001B[1mepoch_length_eval: None\u001B[0m\n",
      "\u001B[32m2022-06-01 20:00:57.505\u001B[0m | \u001B[1mINFO    \u001B[0m | \u001B[36msrc.beam.experiment\u001B[0m:\u001B[36m__init__\u001B[0m:\u001B[36m99\u001B[0m - \u001B[1mn_epochs: 2\u001B[0m\n",
      "\u001B[32m2022-06-01 20:00:57.506\u001B[0m | \u001B[1mINFO    \u001B[0m | \u001B[36msrc.beam.experiment\u001B[0m:\u001B[36m__init__\u001B[0m:\u001B[36m99\u001B[0m - \u001B[1mbatch_size: 256\u001B[0m\n",
      "\u001B[32m2022-06-01 20:00:57.507\u001B[0m | \u001B[1mINFO    \u001B[0m | \u001B[36msrc.beam.experiment\u001B[0m:\u001B[36m__init__\u001B[0m:\u001B[36m99\u001B[0m - \u001B[1mbatch_size_train: None\u001B[0m\n",
      "\u001B[32m2022-06-01 20:00:57.508\u001B[0m | \u001B[1mINFO    \u001B[0m | \u001B[36msrc.beam.experiment\u001B[0m:\u001B[36m__init__\u001B[0m:\u001B[36m99\u001B[0m - \u001B[1mbatch_size_eval: None\u001B[0m\n",
      "\u001B[32m2022-06-01 20:00:57.509\u001B[0m | \u001B[1mINFO    \u001B[0m | \u001B[36msrc.beam.experiment\u001B[0m:\u001B[36m__init__\u001B[0m:\u001B[36m99\u001B[0m - \u001B[1mlr_d: 0.001\u001B[0m\n",
      "\u001B[32m2022-06-01 20:00:57.510\u001B[0m | \u001B[1mINFO    \u001B[0m | \u001B[36msrc.beam.experiment\u001B[0m:\u001B[36m__init__\u001B[0m:\u001B[36m99\u001B[0m - \u001B[1mlr_s: 0.01\u001B[0m\n",
      "\u001B[32m2022-06-01 20:00:57.511\u001B[0m | \u001B[1mINFO    \u001B[0m | \u001B[36msrc.beam.experiment\u001B[0m:\u001B[36m__init__\u001B[0m:\u001B[36m99\u001B[0m - \u001B[1mweight_decay: 0.0\u001B[0m\n",
      "\u001B[32m2022-06-01 20:00:57.512\u001B[0m | \u001B[1mINFO    \u001B[0m | \u001B[36msrc.beam.experiment\u001B[0m:\u001B[36m__init__\u001B[0m:\u001B[36m99\u001B[0m - \u001B[1meps: 0.0001\u001B[0m\n",
      "\u001B[32m2022-06-01 20:00:57.513\u001B[0m | \u001B[1mINFO    \u001B[0m | \u001B[36msrc.beam.experiment\u001B[0m:\u001B[36m__init__\u001B[0m:\u001B[36m99\u001B[0m - \u001B[1mclip: 1.0\u001B[0m\n",
      "\u001B[32m2022-06-01 20:00:57.514\u001B[0m | \u001B[1mINFO    \u001B[0m | \u001B[36msrc.beam.experiment\u001B[0m:\u001B[36m__init__\u001B[0m:\u001B[36m99\u001B[0m - \u001B[1mprint_results: True\u001B[0m\n",
      "\u001B[32m2022-06-01 20:00:57.515\u001B[0m | \u001B[1mINFO    \u001B[0m | \u001B[36msrc.beam.experiment\u001B[0m:\u001B[36m__init__\u001B[0m:\u001B[36m99\u001B[0m - \u001B[1mvisualize_weights: True\u001B[0m\n",
      "\u001B[32m2022-06-01 20:00:57.516\u001B[0m | \u001B[1mINFO    \u001B[0m | \u001B[36msrc.beam.experiment\u001B[0m:\u001B[36m__init__\u001B[0m:\u001B[36m99\u001B[0m - \u001B[1mvisualize_results: yes\u001B[0m\n",
      "\u001B[32m2022-06-01 20:00:57.517\u001B[0m | \u001B[1mINFO    \u001B[0m | \u001B[36msrc.beam.experiment\u001B[0m:\u001B[36m__init__\u001B[0m:\u001B[36m99\u001B[0m - \u001B[1mstore_results: logscale\u001B[0m\n",
      "\u001B[32m2022-06-01 20:00:57.518\u001B[0m | \u001B[1mINFO    \u001B[0m | \u001B[36msrc.beam.experiment\u001B[0m:\u001B[36m__init__\u001B[0m:\u001B[36m99\u001B[0m - \u001B[1mstore_networks: logscale\u001B[0m\n",
      "\u001B[32m2022-06-01 20:00:57.519\u001B[0m | \u001B[1mINFO    \u001B[0m | \u001B[36msrc.beam.experiment\u001B[0m:\u001B[36m__init__\u001B[0m:\u001B[36m99\u001B[0m - \u001B[1mpath_to_data: /localdata/elads/data/datasets/mnist\u001B[0m\n",
      "\u001B[32m2022-06-01 20:00:57.521\u001B[0m | \u001B[1mINFO    \u001B[0m | \u001B[36msrc.beam.experiment\u001B[0m:\u001B[36m__init__\u001B[0m:\u001B[36m166\u001B[0m - \u001B[1mCreating new experiment\u001B[0m\n",
      "\u001B[32m2022-06-01 20:00:57.522\u001B[0m | \u001B[1mINFO    \u001B[0m | \u001B[36msrc.beam.experiment\u001B[0m:\u001B[36m__init__\u001B[0m:\u001B[36m181\u001B[0m - \u001B[1mExperiment directory is: /localdata/elads/data/resutls/mnist/MNISTAlgorithm/debug/0003_20220601_200057\u001B[0m\n"
     ]
    }
   ],
   "source": [
    "# here you put all actions which are performed only once before initializing the workers\n",
    "# for example, setting running arguments and experiment:\n",
    "\n",
    "args = beam_arguments(f\"--project-name=mnist --root-dir={root_dir} --algorithm=MNISTAlgorithm\",\n",
    "                      \"--epoch-length=100000 --n-epochs=2 --clip=1 --parallel=2\",\n",
    "                      path_to_data=path_to_data)\n",
    "\n",
    "experiment = Experiment(args)"
   ]
  },
  {
   "cell_type": "code",
   "execution_count": 20,
   "id": "c8116d3c",
   "metadata": {},
   "outputs": [
    {
     "name": "stdout",
     "output_type": "stream",
     "text": [
      "\u001B[32m2022-06-01 20:01:07.034\u001B[0m | \u001B[1mINFO    \u001B[0m | \u001B[36msrc.beam.experiment\u001B[0m:\u001B[36mrun\u001B[0m:\u001B[36m416\u001B[0m - \u001B[1mInitializing 2 parallel workers\u001B[0m\n",
      "\u001B[32m2022-06-01 20:01:07.036\u001B[0m | \u001B[1mINFO    \u001B[0m | \u001B[36msrc.beam.experiment\u001B[0m:\u001B[36mrun\u001B[0m:\u001B[36m421\u001B[0m - \u001B[1mMultiprocessing port is: 41366\u001B[0m\n",
      "\u001B[32m2022-06-01 20:01:08.867\u001B[0m | \u001B[1mINFO    \u001B[0m | \u001B[36msrc.beam.experiment\u001B[0m:\u001B[36mrun_worker\u001B[0m:\u001B[36m45\u001B[0m - \u001B[1mWorker: 1/2 is running...\u001B[0m\n",
      "\u001B[32m2022-06-01 20:01:08.882\u001B[0m | \u001B[1mINFO    \u001B[0m | \u001B[36msrc.beam.experiment\u001B[0m:\u001B[36mrun_worker\u001B[0m:\u001B[36m45\u001B[0m - \u001B[1mWorker: 2/2 is running...\u001B[0m\n"
     ]
    },
    {
     "name": "stderr",
     "output_type": "stream",
     "text": [
      "train: 100%|██████████| 389/389 [00:02<00:00, 145.64it/s]\n",
      "validation:   0%|          | 0/389 [00:00<?, ?it/s]it/s] \n",
      "validation: 100%|██████████| 389/389 [00:00<00:00, 1031.01it/s]"
     ]
    },
    {
     "name": "stdout",
     "output_type": "stream",
     "text": [
      "\n",
      "\u001B[32m2022-06-01 20:01:17.002\u001B[0m | \u001B[1mINFO    \u001B[0m | \u001B[36msrc.beam.experiment\u001B[0m:\u001B[36msave_model_results\u001B[0m:\u001B[36m302\u001B[0m - \u001B[1mFinished epoch 1/2:\u001B[0m\n",
      "\u001B[32m2022-06-01 20:01:17.008\u001B[0m | \u001B[1mINFO    \u001B[0m | \u001B[36msrc.beam.experiment\u001B[0m:\u001B[36mlog_data\u001B[0m:\u001B[36m340\u001B[0m - \u001B[1mtrain:\u001B[0m\n",
      "\u001B[32m2022-06-01 20:01:17.009\u001B[0m | \u001B[1mINFO    \u001B[0m | \u001B[36msrc.beam.experiment\u001B[0m:\u001B[36mlog_data\u001B[0m:\u001B[36m344\u001B[0m - \u001B[1mloss 0.303818 \t|\u001B[0m\n",
      "\u001B[32m2022-06-01 20:01:17.009\u001B[0m | \u001B[1mINFO    \u001B[0m | \u001B[36msrc.beam.experiment\u001B[0m:\u001B[36mlog_data\u001B[0m:\u001B[36m344\u001B[0m - \u001B[1macc 0.915107 \t|\u001B[0m\n",
      "\u001B[32m2022-06-01 20:01:17.009\u001B[0m | \u001B[1mINFO    \u001B[0m | \u001B[36msrc.beam.experiment\u001B[0m:\u001B[36mlog_data\u001B[0m:\u001B[36m344\u001B[0m - \u001B[1mlr 0.00099 \t|\u001B[0m\n",
      "\u001B[32m2022-06-01 20:01:17.009\u001B[0m | \u001B[1mINFO    \u001B[0m | \u001B[36msrc.beam.experiment\u001B[0m:\u001B[36mlog_data\u001B[0m:\u001B[36m340\u001B[0m - \u001B[1mvalidation:\u001B[0m\n",
      "\u001B[32m2022-06-01 20:01:17.009\u001B[0m | \u001B[1mINFO    \u001B[0m | \u001B[36msrc.beam.experiment\u001B[0m:\u001B[36mlog_data\u001B[0m:\u001B[36m344\u001B[0m - \u001B[1mloss 0.124015 \t|\u001B[0m\n",
      "\u001B[32m2022-06-01 20:01:17.009\u001B[0m | \u001B[1mINFO    \u001B[0m | \u001B[36msrc.beam.experiment\u001B[0m:\u001B[36mlog_data\u001B[0m:\u001B[36m344\u001B[0m - \u001B[1macc 0.961932 \t|\u001B[0m\n"
     ]
    },
    {
     "name": "stderr",
     "output_type": "stream",
     "text": [
      "validation: 100%|██████████| 389/389 [00:00<00:00, 544.25it/s]\n",
      "train:   0%|          | 0/389 [00:00<?, ?it/s]\n",
      "train: 100%|██████████| 389/389 [00:02<00:00, 143.72it/s]\n",
      "validation:   0%|          | 0/389 [00:00<?, ?it/s]\n",
      "validation: 100%|██████████| 389/389 [00:00<00:00, 1041.04it/s]"
     ]
    },
    {
     "name": "stdout",
     "output_type": "stream",
     "text": [
      "\n",
      "\u001B[32m2022-06-01 20:01:20.417\u001B[0m | \u001B[1mINFO    \u001B[0m | \u001B[36msrc.beam.experiment\u001B[0m:\u001B[36msave_model_results\u001B[0m:\u001B[36m302\u001B[0m - \u001B[1mFinished epoch 2/2:\u001B[0m\n",
      "\u001B[32m2022-06-01 20:01:20.421\u001B[0m | \u001B[1mINFO    \u001B[0m | \u001B[36msrc.beam.experiment\u001B[0m:\u001B[36mlog_data\u001B[0m:\u001B[36m340\u001B[0m - \u001B[1mtrain:\u001B[0m\n",
      "\u001B[32m2022-06-01 20:01:20.421\u001B[0m | \u001B[1mINFO    \u001B[0m | \u001B[36msrc.beam.experiment\u001B[0m:\u001B[36mlog_data\u001B[0m:\u001B[36m344\u001B[0m - \u001B[1mloss 0.0608674 \t|\u001B[0m\n",
      "\u001B[32m2022-06-01 20:01:20.421\u001B[0m | \u001B[1mINFO    \u001B[0m | \u001B[36msrc.beam.experiment\u001B[0m:\u001B[36mlog_data\u001B[0m:\u001B[36m344\u001B[0m - \u001B[1macc 0.981674 \t|\u001B[0m\n",
      "\u001B[32m2022-06-01 20:01:20.422\u001B[0m | \u001B[1mINFO    \u001B[0m | \u001B[36msrc.beam.experiment\u001B[0m:\u001B[36mlog_data\u001B[0m:\u001B[36m344\u001B[0m - \u001B[1mlr 0.0009801 \t|\u001B[0m\n",
      "\u001B[32m2022-06-01 20:01:20.422\u001B[0m | \u001B[1mINFO    \u001B[0m | \u001B[36msrc.beam.experiment\u001B[0m:\u001B[36mlog_data\u001B[0m:\u001B[36m340\u001B[0m - \u001B[1mvalidation:\u001B[0m\n",
      "\u001B[32m2022-06-01 20:01:20.422\u001B[0m | \u001B[1mINFO    \u001B[0m | \u001B[36msrc.beam.experiment\u001B[0m:\u001B[36mlog_data\u001B[0m:\u001B[36m344\u001B[0m - \u001B[1mloss 0.0945673 \t|\u001B[0m\n",
      "\u001B[32m2022-06-01 20:01:20.422\u001B[0m | \u001B[1mINFO    \u001B[0m | \u001B[36msrc.beam.experiment\u001B[0m:\u001B[36mlog_data\u001B[0m:\u001B[36m344\u001B[0m - \u001B[1macc 0.973088 \t|\u001B[0m\n",
      "\u001B[32m2022-06-01 20:01:20.840\u001B[0m | \u001B[1mINFO    \u001B[0m | \u001B[36msrc.beam.experiment\u001B[0m:\u001B[36mreload_checkpoint\u001B[0m:\u001B[36m245\u001B[0m - \u001B[1mReload experiment from checkpoint: /localdata/elads/data/resutls/mnist/MNISTAlgorithm/debug/0003_20220601_200057/checkpoints/checkpoint_000002\u001B[0m\n"
     ]
    }
   ],
   "source": [
    "alg = experiment(mnist_algorithm_generator)"
   ]
  },
  {
   "cell_type": "markdown",
   "id": "96fcba87",
   "metadata": {},
   "source": [
    "Inference works the same if we use the default runner, the runner reloads the stored algorithm into a single GPU mode"
   ]
  },
  {
   "cell_type": "code",
   "execution_count": 21,
   "id": "f0f9c2b3",
   "metadata": {},
   "outputs": [
    {
     "data": {
      "application/vnd.jupyter.widget-view+json": {
       "model_id": "b5fff439b9344341a9c85e0103ed8241",
       "version_major": 2,
       "version_minor": 0
      },
      "text/plain": [
       "test:   0%|          | 0/39 [00:00<?, ?it/s]"
      ]
     },
     "metadata": {},
     "output_type": "display_data"
    },
    {
     "name": "stdout",
     "output_type": "stream",
     "text": [
      "Test inference results:\n",
      "precision:\n",
      "[0.97197197 0.98854626 0.98039216 0.98301698 0.97626419 0.99649123\n",
      " 0.97401247 0.97189922 0.95070423 0.95546951]\n",
      "recall:\n",
      "[0.99081633 0.98854626 0.96899225 0.97425743 0.96334012 0.95515695\n",
      " 0.97807933 0.97568093 0.97022587 0.97819623]\n",
      "fscore:\n",
      "[0.98130369 0.98854626 0.97465887 0.9786176  0.9697591  0.97538638\n",
      " 0.97604167 0.97378641 0.96036585 0.96669931]\n",
      "support:\n",
      "[ 980 1135 1032 1010  982  892  958 1028  974 1009]\n"
     ]
    }
   ],
   "source": [
    "inference = alg('test')\n",
    "\n",
    "print('Test inference results:')\n",
    "for n, v in inference['metrics'].items():\n",
    "    print(f'{n}:')\n",
    "    print(v)"
   ]
  },
  {
   "cell_type": "markdown",
   "id": "72c16ba5",
   "metadata": {},
   "source": [
    "we can also determine our own experiment routine and return the results"
   ]
  },
  {
   "cell_type": "code",
   "execution_count": 22,
   "id": "3308be89",
   "metadata": {
    "scrolled": true
   },
   "outputs": [
    {
     "name": "stdout",
     "output_type": "stream",
     "text": [
      "\u001B[32m2022-06-01 20:01:40.633\u001B[0m | \u001B[1mINFO    \u001B[0m | \u001B[36msrc.beam.experiment\u001B[0m:\u001B[36mrun\u001B[0m:\u001B[36m416\u001B[0m - \u001B[1mInitializing 2 parallel workers\u001B[0m\n",
      "\u001B[32m2022-06-01 20:01:40.635\u001B[0m | \u001B[1mINFO    \u001B[0m | \u001B[36msrc.beam.experiment\u001B[0m:\u001B[36mrun\u001B[0m:\u001B[36m421\u001B[0m - \u001B[1mMultiprocessing port is: 58869\u001B[0m\n",
      "\u001B[32m2022-06-01 20:01:42.335\u001B[0m | \u001B[1mINFO    \u001B[0m | \u001B[36msrc.beam.experiment\u001B[0m:\u001B[36mrun_worker\u001B[0m:\u001B[36m45\u001B[0m - \u001B[1mWorker: 1/2 is running...\u001B[0m\n",
      "\u001B[32m2022-06-01 20:01:42.338\u001B[0m | \u001B[1mINFO    \u001B[0m | \u001B[36msrc.beam.experiment\u001B[0m:\u001B[36mrun_worker\u001B[0m:\u001B[36m45\u001B[0m - \u001B[1mWorker: 2/2 is running...\u001B[0m\n"
     ]
    },
    {
     "name": "stderr",
     "output_type": "stream",
     "text": [
      "train: 100%|██████████| 389/389 [00:03<00:00, 101.76it/s]\n",
      "train: 100%|██████████| 389/389 [00:02<00:00, 162.38it/s]\n",
      "validation: 100%|██████████| 389/389 [00:00<00:00, 868.94it/s]"
     ]
    },
    {
     "name": "stdout",
     "output_type": "stream",
     "text": [
      "\n",
      "\u001B[32m2022-06-01 20:01:50.405\u001B[0m | \u001B[1mINFO    \u001B[0m | \u001B[36msrc.beam.experiment\u001B[0m:\u001B[36msave_model_results\u001B[0m:\u001B[36m302\u001B[0m - \u001B[1mFinished epoch 1/2:\u001B[0m\n",
      "\u001B[32m2022-06-01 20:01:50.441\u001B[0m | \u001B[1mINFO    \u001B[0m | \u001B[36msrc.beam.experiment\u001B[0m:\u001B[36mlog_data\u001B[0m:\u001B[36m340\u001B[0m - \u001B[1mtrain:\u001B[0m\n",
      "\u001B[32m2022-06-01 20:01:50.441\u001B[0m | \u001B[1mINFO    \u001B[0m | \u001B[36msrc.beam.experiment\u001B[0m:\u001B[36mlog_data\u001B[0m:\u001B[36m344\u001B[0m - \u001B[1mloss 0.303975 \t|\u001B[0m\n",
      "\u001B[32m2022-06-01 20:01:50.441\u001B[0m | \u001B[1mINFO    \u001B[0m | \u001B[36msrc.beam.experiment\u001B[0m:\u001B[36mlog_data\u001B[0m:\u001B[36m344\u001B[0m - \u001B[1macc 0.912275 \t|\u001B[0m\n",
      "\u001B[32m2022-06-01 20:01:50.442\u001B[0m | \u001B[1mINFO    \u001B[0m | \u001B[36msrc.beam.experiment\u001B[0m:\u001B[36mlog_data\u001B[0m:\u001B[36m344\u001B[0m - \u001B[1mlr 0.00099 \t|\u001B[0m\n",
      "\u001B[32m2022-06-01 20:01:50.442\u001B[0m | \u001B[1mINFO    \u001B[0m | \u001B[36msrc.beam.experiment\u001B[0m:\u001B[36mlog_data\u001B[0m:\u001B[36m340\u001B[0m - \u001B[1mvalidation:\u001B[0m\n",
      "\u001B[32m2022-06-01 20:01:50.442\u001B[0m | \u001B[1mINFO    \u001B[0m | \u001B[36msrc.beam.experiment\u001B[0m:\u001B[36mlog_data\u001B[0m:\u001B[36m344\u001B[0m - \u001B[1mloss 0.125878 \t|\u001B[0m\n",
      "\u001B[32m2022-06-01 20:01:50.443\u001B[0m | \u001B[1mINFO    \u001B[0m | \u001B[36msrc.beam.experiment\u001B[0m:\u001B[36mlog_data\u001B[0m:\u001B[36m344\u001B[0m - \u001B[1macc 0.962655 \t|\u001B[0m\n"
     ]
    },
    {
     "name": "stderr",
     "output_type": "stream",
     "text": [
      "\n",
      "train:   0%|          | 0/389 [00:00<?, ?it/s]\n",
      "train: 100%|██████████| 389/389 [00:02<00:00, 187.05it/s]\n",
      "train: 100%|██████████| 389/389 [00:02<00:00, 186.93it/s]\n",
      "validation:  93%|█████████▎| 362/389 [00:00<00:00, 905.36it/s]]"
     ]
    },
    {
     "name": "stdout",
     "output_type": "stream",
     "text": [
      "\n",
      "\u001B[32m2022-06-01 20:01:53.253\u001B[0m | \u001B[1mINFO    \u001B[0m | \u001B[36msrc.beam.experiment\u001B[0m:\u001B[36msave_model_results\u001B[0m:\u001B[36m302\u001B[0m - \u001B[1mFinished epoch 2/2:\u001B[0m\n",
      "\u001B[32m2022-06-01 20:01:53.286\u001B[0m | \u001B[1mINFO    \u001B[0m | \u001B[36msrc.beam.experiment\u001B[0m:\u001B[36mlog_data\u001B[0m:\u001B[36m340\u001B[0m - \u001B[1mtrain:\u001B[0m\n",
      "\u001B[32m2022-06-01 20:01:53.286\u001B[0m | \u001B[1mINFO    \u001B[0m | \u001B[36msrc.beam.experiment\u001B[0m:\u001B[36mlog_data\u001B[0m:\u001B[36m344\u001B[0m - \u001B[1mloss 0.0635221 \t|\u001B[0m\n",
      "\u001B[32m2022-06-01 20:01:53.286\u001B[0m | \u001B[1mINFO    \u001B[0m | \u001B[36msrc.beam.experiment\u001B[0m:\u001B[36mlog_data\u001B[0m:\u001B[36m344\u001B[0m - \u001B[1macc 0.981091 \t|\u001B[0m\n",
      "\u001B[32m2022-06-01 20:01:53.286\u001B[0m | \u001B[1mINFO    \u001B[0m | \u001B[36msrc.beam.experiment\u001B[0m:\u001B[36mlog_data\u001B[0m:\u001B[36m344\u001B[0m - \u001B[1mlr 0.0009801 \t|\u001B[0m\n",
      "\u001B[32m2022-06-01 20:01:53.286\u001B[0m | \u001B[1mINFO    \u001B[0m | \u001B[36msrc.beam.experiment\u001B[0m:\u001B[36mlog_data\u001B[0m:\u001B[36m340\u001B[0m - \u001B[1mvalidation:\u001B[0m\n",
      "\u001B[32m2022-06-01 20:01:53.286\u001B[0m | \u001B[1mINFO    \u001B[0m | \u001B[36msrc.beam.experiment\u001B[0m:\u001B[36mlog_data\u001B[0m:\u001B[36m344\u001B[0m - \u001B[1mloss 0.0866934 \t|\u001B[0m\n",
      "\u001B[32m2022-06-01 20:01:53.286\u001B[0m | \u001B[1mINFO    \u001B[0m | \u001B[36msrc.beam.experiment\u001B[0m:\u001B[36mlog_data\u001B[0m:\u001B[36m344\u001B[0m - \u001B[1macc 0.973359 \t|\u001B[0m\n"
     ]
    },
    {
     "name": "stderr",
     "output_type": "stream",
     "text": [
      "validation: 100%|██████████| 389/389 [00:00<00:00, 494.49it/s]"
     ]
    }
   ],
   "source": [
    "# here we initialize the workers (can be single or multiple workers, depending on the configuration)\n",
    "results = experiment.run(run_mnist)"
   ]
  },
  {
   "cell_type": "code",
   "execution_count": 23,
   "id": "3f2940bf",
   "metadata": {},
   "outputs": [
    {
     "data": {
      "text/plain": [
       "0.08673303388537969"
      ]
     },
     "execution_count": 23,
     "metadata": {},
     "output_type": "execute_result"
    }
   ],
   "source": [
    "np.mean(results[1]['results']['validation']['scalar']['loss'])"
   ]
  }
 ],
 "metadata": {
  "kernelspec": {
   "display_name": "Python 3 (ipykernel)",
   "language": "python",
   "name": "python3"
  },
  "language_info": {
   "codemirror_mode": {
    "name": "ipython",
    "version": 3
   },
   "file_extension": ".py",
   "mimetype": "text/x-python",
   "name": "python",
   "nbconvert_exporter": "python",
   "pygments_lexer": "ipython3",
   "version": "3.8.13"
  }
 },
 "nbformat": 4,
 "nbformat_minor": 5
}