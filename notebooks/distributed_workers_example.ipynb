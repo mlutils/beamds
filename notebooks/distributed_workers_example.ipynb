{
 "cells": [
  {
   "cell_type": "code",
   "execution_count": 1,
   "id": "0393dcd2-1e94-4ac4-b50b-4989107dfc8a",
   "metadata": {},
   "outputs": [
    {
     "name": "stdout",
     "output_type": "stream",
     "text": [
      "Setting up the Beam environment for interactive use\n",
      "Standard modules will be automatically imported so you can use them without explicit import\n",
      "Done importing packages. It took:  3.5 seconds\n",
      "Beam library is loaded from path: /home/elad/docker/beamds/src/beam\n",
      "The Beam version is: 2.4.0\n"
     ]
    }
   ],
   "source": [
    "%load_ext beam_setup"
   ]
  },
  {
   "cell_type": "code",
   "execution_count": 2,
   "id": "6253dad6-d3a5-4b07-b2f4-8ae71ea1957a",
   "metadata": {},
   "outputs": [],
   "source": [
    "from beam.distributed import AsyncClient"
   ]
  },
  {
   "cell_type": "code",
   "execution_count": 3,
   "id": "f6df0a8e-e424-4ed4-b557-59c533637ca7",
   "metadata": {},
   "outputs": [],
   "source": [
    "def postrun(result):\n",
    "    beam_logger.info(f\"Post run: result: {result}\")"
   ]
  },
  {
   "cell_type": "code",
   "execution_count": 11,
   "id": "1ad7ee53-31a7-4b9f-87f8-da17a81689ba",
   "metadata": {},
   "outputs": [
    {
     "name": "stdout",
     "output_type": "stream",
     "text": [
      "\u001B[32m2024-01-04 11:44:56\u001B[0m | BeamLog | \u001B[1mINFO\u001B[0m | \u001B[1mOpening websocket at ws://localhost:36702/: client_id: ws-client-364843b6-8f45-4295-84a6-daf1b7669036\u001B[0m\n"
     ]
    }
   ],
   "source": [
    "alg = AsyncClient(hostname='localhost', port=36750, ws_port=36702, postrun=postrun, enable_websocket=True)"
   ]
  },
  {
   "cell_type": "code",
   "execution_count": 12,
   "id": "3f1402bc-4133-4eb7-bbaa-0548c828a3a3",
   "metadata": {},
   "outputs": [
    {
     "name": "stdout",
     "output_type": "stream",
     "text": [
      "http://localhost:36750/alg/beam/run\n",
      "\u001B[32m2024-01-04 11:44:59\u001B[0m | BeamLog | \u001B[1mINFO\u001B[0m | \u001B[1mPost run: result: {'name': 'Mary Taylor', 'email': 'carrillosavannah@example.org', 'address': '450 Adams Plaza Apt. 270\\nAnthonyhaven, NM 30865'}\u001B[0m\n"
     ]
    }
   ],
   "source": [
    "res = alg.run('hi')"
   ]
  },
  {
   "cell_type": "code",
   "execution_count": 13,
   "id": "770b5504-b80b-49ce-846f-e1a96f65c4bc",
   "metadata": {},
   "outputs": [
    {
     "data": {
      "text/plain": [
       "{'name': 'Mary Taylor',\n",
       " 'email': 'carrillosavannah@example.org',\n",
       " 'address': '450 Adams Plaza Apt. 270\\nAnthonyhaven, NM 30865'}"
      ]
     },
     "execution_count": 13,
     "metadata": {},
     "output_type": "execute_result"
    }
   ],
   "source": [
    "alg.poll(res)"
   ]
  },
  {
   "cell_type": "code",
   "execution_count": 10,
   "id": "cfd036ff-805d-4113-ab66-db1d21ebdb3f",
   "metadata": {},
   "outputs": [],
   "source": [
    "from beam.misc import BeamFakeAlg"
   ]
  },
  {
   "cell_type": "code",
   "execution_count": 15,
   "id": "15ecc417-d687-4e3a-acd1-2c755a71eb7b",
   "metadata": {},
   "outputs": [],
   "source": [
    "fake_data = [random.random() for i in range(10)]"
   ]
  },
  {
   "cell_type": "code",
   "execution_count": 16,
   "id": "f2855fdb-1cca-402d-bb47-0763fe982eb4",
   "metadata": {},
   "outputs": [
    {
     "name": "stdout",
     "output_type": "stream",
     "text": [
      "http://localhost:36750/alg/beam/run\n",
      "http://localhost:36750/alg/beam/run\n",
      "http://localhost:36750/alg/beam/run\n",
      "http://localhost:36750/alg/beam/run\n",
      "http://localhost:36750/alg/beam/run\n",
      "http://localhost:36750/alg/beam/run\n",
      "http://localhost:36750/alg/beam/run\n",
      "http://localhost:36750/alg/beam/run\n",
      "http://localhost:36750/alg/beam/run\n",
      "http://localhost:36750/alg/beam/run\n",
      "\u001B[32m2024-01-04 11:42:04\u001B[0m | BeamLog | \u001B[1mINFO\u001B[0m | \u001B[1mPost run: result: {'name': 'Roger Perkins', 'email': 'sarah21@example.net', 'address': 'USNS Haney\\nFPO AA 91862'}\u001B[0m\n",
      "\u001B[32m2024-01-04 11:42:04\u001B[0m | BeamLog | \u001B[1mINFO\u001B[0m | \u001B[1mPost run: result: {'name': 'Roger Perkins', 'email': 'sarah21@example.net', 'address': 'USNS Haney\\nFPO AA 91862'}\u001B[0m\n",
      "\u001B[32m2024-01-04 11:42:04\u001B[0m | BeamLog | \u001B[1mINFO\u001B[0m | \u001B[1mPost run: result: {'name': 'Roger Perkins', 'email': 'sarah21@example.net', 'address': 'USNS Haney\\nFPO AA 91862'}\u001B[0m\n",
      "\u001B[32m2024-01-04 11:42:04\u001B[0m | BeamLog | \u001B[1mINFO\u001B[0m | \u001B[1mPost run: result: {'name': 'Roger Perkins', 'email': 'sarah21@example.net', 'address': 'USNS Haney\\nFPO AA 91862'}\u001B[0m\n",
      "\u001B[32m2024-01-04 11:42:04\u001B[0m | BeamLog | \u001B[1mINFO\u001B[0m | \u001B[1mPost run: result: {'name': 'Roger Perkins', 'email': 'sarah21@example.net', 'address': 'USNS Haney\\nFPO AA 91862'}\u001B[0m\n",
      "\u001B[32m2024-01-04 11:42:04\u001B[0m | BeamLog | \u001B[1mINFO\u001B[0m | \u001B[1mPost run: result: {'name': 'Roger Perkins', 'email': 'sarah21@example.net', 'address': 'USNS Haney\\nFPO AA 91862'}\u001B[0m\n",
      "\u001B[32m2024-01-04 11:42:04\u001B[0m | BeamLog | \u001B[1mINFO\u001B[0m | \u001B[1mPost run: result: {'name': 'Rachel Stark', 'email': 'domingueznicole@example.org', 'address': '430 Adams Forks\\nLake Brendaberg, AS 53296'}\u001B[0m\n",
      "\u001B[32m2024-01-04 11:42:04\u001B[0m | BeamLog | \u001B[1mINFO\u001B[0m | \u001B[1mPost run: result: {'name': 'Roger Perkins', 'email': 'sarah21@example.net', 'address': 'USNS Haney\\nFPO AA 91862'}\u001B[0m\n",
      "\u001B[32m2024-01-04 11:42:05\u001B[0m | BeamLog | \u001B[1mINFO\u001B[0m | \u001B[1mPost run: result: {'name': 'Roger Perkins', 'email': 'sarah21@example.net', 'address': 'USNS Haney\\nFPO AA 91862'}\u001B[0m\n",
      "\u001B[32m2024-01-04 11:42:05\u001B[0m | BeamLog | \u001B[1mINFO\u001B[0m | \u001B[1mPost run: result: {'name': 'Roger Perkins', 'email': 'sarah21@example.net', 'address': 'USNS Haney\\nFPO AA 91862'}\u001B[0m\n"
     ]
    }
   ],
   "source": [
    "for d in fake_data:\n",
    "    alg.run(d)"
   ]
  }
 ],
 "metadata": {
  "kernelspec": {
   "display_name": "Python 3 (ipykernel)",
   "language": "python",
   "name": "python3"
  },
  "language_info": {
   "codemirror_mode": {
    "name": "ipython",
    "version": 3
   },
   "file_extension": ".py",
   "mimetype": "text/x-python",
   "name": "python",
   "nbconvert_exporter": "python",
   "pygments_lexer": "ipython3",
   "version": "3.10.12"
  }
 },
 "nbformat": 4,
 "nbformat_minor": 5
}
